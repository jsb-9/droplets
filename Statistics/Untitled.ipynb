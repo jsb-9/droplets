{
 "cells": [
  {
   "cell_type": "code",
   "execution_count": 1,
   "id": "01a5face-6e16-4270-a3bd-54abcad24a31",
   "metadata": {
    "execution": {
     "iopub.execute_input": "2024-06-24T18:40:20.866281Z",
     "iopub.status.busy": "2024-06-24T18:40:20.865936Z",
     "iopub.status.idle": "2024-06-24T18:40:22.593712Z",
     "shell.execute_reply": "2024-06-24T18:40:22.592385Z",
     "shell.execute_reply.started": "2024-06-24T18:40:20.866260Z"
    }
   },
   "outputs": [],
   "source": [
    "#JJ Rolling Pivots\n",
    "\n",
    "import asyncio\n",
    "import datetime as dt\n",
    "import math\n",
    "from typing import Literal\n",
    "\n",
    "import matplotlib.pyplot as plt\n",
    "import mplfinance as mpf\n",
    "import numpy as np\n",
    "import pandas as pd\n",
    "import pandas_market_calendars as mcal\n",
    "import plotly.graph_objects as go\n",
    "import polars as pl\n",
    "from dash import Dash, dcc, html\n",
    "from plotly.subplots import make_subplots\n",
    "\n",
    "nse = mcal.get_calendar(\"NSE\")\n",
    "\n",
    "pd.set_option(\"display.max_rows\", 25_000)\n",
    "pd.set_option(\"display.max_columns\", 500)\n",
    "pl.Config.set_tbl_cols(500)\n",
    "pl.Config.set_tbl_rows(10_000)\n",
    "\n",
    "pd.options.display.float_format = \"{:.4f}\".format\n",
    "\n",
    "import sys\n",
    "\n",
    "sys.path.append(\"..\")\n",
    "from tooling.enums import AssetClass, Index, Spot, StrikeSpread\n",
    "from tooling.fetch import fetch_option_data, fetch_spot_data\n",
    "from tooling.filter import find_atm, option_tool"
   ]
  },
  {
   "cell_type": "code",
   "execution_count": 10,
   "id": "746f3d53-02b3-46ff-8432-95b2b806994a",
   "metadata": {
    "execution": {
     "iopub.execute_input": "2024-06-24T18:42:01.668187Z",
     "iopub.status.busy": "2024-06-24T18:42:01.667780Z",
     "iopub.status.idle": "2024-06-24T18:42:01.685142Z",
     "shell.execute_reply": "2024-06-24T18:42:01.684264Z",
     "shell.execute_reply.started": "2024-06-24T18:42:01.668168Z"
    }
   },
   "outputs": [],
   "source": [
    "bnf_1hr = pd.read_csv(\"../data/bnf_daily_tv.csv\")\n",
    "bnf_1hr[\"datetime\"] = pd.to_datetime(bnf_1hr[\"time\"])\n",
    "bnf_1hr = bnf_1hr.drop(columns=[\"time\"])\n",
    "bnf_1hr = bnf_1hr[(bnf_1hr[\"datetime\"].dt.year >= 2012)]\n",
    "bnf_1hr.head()\n",
    "df = bnf_1hr"
   ]
  },
  {
   "cell_type": "code",
   "execution_count": 16,
   "id": "5af33a5c-c7aa-4ae1-a37d-b9f473ce1e41",
   "metadata": {
    "execution": {
     "iopub.execute_input": "2024-06-24T18:44:59.646260Z",
     "iopub.status.busy": "2024-06-24T18:44:59.645949Z",
     "iopub.status.idle": "2024-06-24T18:44:59.661407Z",
     "shell.execute_reply": "2024-06-24T18:44:59.660373Z",
     "shell.execute_reply.started": "2024-06-24T18:44:59.646242Z"
    }
   },
   "outputs": [
    {
     "data": {
      "text/plain": [
       "(0.1198744209436507, 1947, 63.193768257059396, 1132, 36.741317753975984, 3081)"
      ]
     },
     "execution_count": 16,
     "metadata": {},
     "output_type": "execute_result"
    }
   ],
   "source": [
    "df['datetime'] = pd.to_datetime(df['datetime'])\n",
    "df = df.sort_values('datetime')\n",
    "\n",
    "# Calculate the percentage move between the previous day's close and the next day's open\n",
    "df['Pct Move'] = ((df['open'] - df['close'].shift(1)) * 100/ df['close'].shift(1))\n",
    "\n",
    "# Calculate the average percentage move\n",
    "average_pct_move = df['Pct Move'].mean()\n",
    "gap_up_count = len(df[df['Pct Move'] > 0.00])\n",
    "gap_down_count = len(df[df['Pct Move'] < 0.00])\n",
    "total = len(df)\n",
    "gap_up_pct = gap_up_count * 100 / total\n",
    "gap_down_pct = gap_down_count * 100 / total\n",
    "average_pct_move, gap_up_count, gap_up_pct, gap_down_count, gap_down_pct, total\n"
   ]
  },
  {
   "cell_type": "code",
   "execution_count": null,
   "id": "4d8f12b1-7cff-43e4-a823-e0e603c87241",
   "metadata": {},
   "outputs": [],
   "source": []
  }
 ],
 "metadata": {
  "kernelspec": {
   "display_name": "Python 3 (ipykernel)",
   "language": "python",
   "name": "python3"
  },
  "language_info": {
   "codemirror_mode": {
    "name": "ipython",
    "version": 3
   },
   "file_extension": ".py",
   "mimetype": "text/x-python",
   "name": "python",
   "nbconvert_exporter": "python",
   "pygments_lexer": "ipython3",
   "version": "3.11.6"
  }
 },
 "nbformat": 4,
 "nbformat_minor": 5
}
