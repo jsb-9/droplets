{
 "cells": [
  {
   "cell_type": "code",
   "execution_count": 1,
   "id": "72b81045-68d6-4423-a561-4083c1d98cf0",
   "metadata": {
    "execution": {
     "iopub.execute_input": "2025-03-05T16:12:01.910230Z",
     "iopub.status.busy": "2025-03-05T16:12:01.909898Z",
     "iopub.status.idle": "2025-03-05T16:12:06.241549Z",
     "shell.execute_reply": "2025-03-05T16:12:06.240810Z",
     "shell.execute_reply.started": "2025-03-05T16:12:01.910204Z"
    }
   },
   "outputs": [],
   "source": [
    "import datetime as dt\n",
    "\n",
    "import matplotlib.pyplot as plt\n",
    "import mplfinance as mpf\n",
    "import numpy as np\n",
    "import pandas as pd\n",
    "import pandas_market_calendars as mcal\n",
    "import plotly.graph_objects as go\n",
    "import polars as pl\n",
    "from dash import Dash, dcc, html\n",
    "from plotly.subplots import make_subplots\n",
    "\n",
    "nse = mcal.get_calendar(\"NSE\")\n",
    "\n",
    "pd.set_option(\"display.max_rows\", 25_000)\n",
    "pd.set_option(\"display.max_columns\", 500)\n",
    "pl.Config.set_tbl_cols(500)\n",
    "pl.Config.set_tbl_rows(10_000)\n",
    "\n",
    "pd.options.display.float_format = \"{:.4f}\".format\n",
    "\n",
    "import sys\n",
    "\n",
    "sys.path.append(\"..\")\n",
    "from tooling.enums import AssetClass, Index, Spot, StrikeSpread\n",
    "from tooling.fetch import fetch_option_data, fetch_spot_data\n",
    "from tooling.filter import find_atm, option_tool"
   ]
  },
  {
   "cell_type": "code",
   "execution_count": 2,
   "id": "ebd2b3d0-862b-4676-92e0-d1f06856c56f",
   "metadata": {
    "execution": {
     "iopub.execute_input": "2025-03-05T16:12:10.400347Z",
     "iopub.status.busy": "2025-03-05T16:12:10.399894Z",
     "iopub.status.idle": "2025-03-05T16:12:11.119076Z",
     "shell.execute_reply": "2025-03-05T16:12:11.118374Z",
     "shell.execute_reply.started": "2025-03-05T16:12:10.400312Z"
    }
   },
   "outputs": [],
   "source": [
    "bnf_pandas = pd.read_csv(\"../data/indices/NIFTY MID SELECT.csv\")"
   ]
  },
  {
   "cell_type": "code",
   "execution_count": 3,
   "id": "4ae0660b-442a-430a-b40b-01a033f32936",
   "metadata": {
    "execution": {
     "iopub.execute_input": "2025-03-05T16:12:16.482593Z",
     "iopub.status.busy": "2025-03-05T16:12:16.482204Z",
     "iopub.status.idle": "2025-03-05T16:12:16.507654Z",
     "shell.execute_reply": "2025-03-05T16:12:16.506768Z",
     "shell.execute_reply.started": "2025-03-05T16:12:16.482557Z"
    }
   },
   "outputs": [
    {
     "name": "stdout",
     "output_type": "stream",
     "text": [
      "8\n"
     ]
    }
   ],
   "source": [
    "symbol = 'midcp'\n",
    "# symbol = 'nifty'\n",
    "# symbol = 'fnf'\n",
    "# symbol = 'bnf'\n",
    "# symbol = 'sensex'\n",
    "# symbol = 'bankex'\n",
    "\n",
    "if symbol == 'bnf' or symbol == 'bankex':\n",
    "    LEVERAGE_ = 5\n",
    "    LOT_SIZE_ = 15\n",
    "    SLIPPAGE_ = 0.0001\n",
    "elif symbol == 'nifty' or symbol == 'fnf':\n",
    "    LEVERAGE_ = 7\n",
    "    LOT_SIZE_ = 25\n",
    "    SLIPPAGE_ = 0.0002\n",
    "elif symbol == 'midcp':\n",
    "    LEVERAGE_ = 8\n",
    "    LOT_SIZE_ = 50\n",
    "    SLIPPAGE_ = 0.0005\n",
    "elif symbol == 'sensex':\n",
    "    LEVERAGE_ = 8\n",
    "    LOT_SIZE_ = 10\n",
    "    SLIPPAGE_ = 0.0001\n",
    "\n",
    "PORTFOLIO = 1000000\n",
    "print(LEVERAGE_)"
   ]
  },
  {
   "cell_type": "code",
   "execution_count": 4,
   "id": "118d47fa-e9d0-4e98-a374-f983e4f6bef0",
   "metadata": {
    "execution": {
     "iopub.execute_input": "2025-03-05T16:12:17.423803Z",
     "iopub.status.busy": "2025-03-05T16:12:17.423422Z",
     "iopub.status.idle": "2025-03-05T16:12:17.492725Z",
     "shell.execute_reply": "2025-03-05T16:12:17.491570Z",
     "shell.execute_reply.started": "2025-03-05T16:12:17.423775Z"
    }
   },
   "outputs": [
    {
     "data": {
      "text/html": [
       "<div>\n",
       "<style scoped>\n",
       "    .dataframe tbody tr th:only-of-type {\n",
       "        vertical-align: middle;\n",
       "    }\n",
       "\n",
       "    .dataframe tbody tr th {\n",
       "        vertical-align: top;\n",
       "    }\n",
       "\n",
       "    .dataframe thead th {\n",
       "        text-align: right;\n",
       "    }\n",
       "</style>\n",
       "<table border=\"1\" class=\"dataframe\">\n",
       "  <thead>\n",
       "    <tr style=\"text-align: right;\">\n",
       "      <th></th>\n",
       "      <th>datetime</th>\n",
       "      <th>o</th>\n",
       "      <th>h</th>\n",
       "      <th>l</th>\n",
       "      <th>c</th>\n",
       "    </tr>\n",
       "  </thead>\n",
       "  <tbody>\n",
       "    <tr>\n",
       "      <th>0</th>\n",
       "      <td>2022-01-21T09:15:00.000000</td>\n",
       "      <td>7705.6500</td>\n",
       "      <td>7705.6500</td>\n",
       "      <td>7662.7500</td>\n",
       "      <td>7676.4500</td>\n",
       "    </tr>\n",
       "    <tr>\n",
       "      <th>1</th>\n",
       "      <td>2022-01-21T09:16:00.000000</td>\n",
       "      <td>7677.4000</td>\n",
       "      <td>7691.4500</td>\n",
       "      <td>7675.7500</td>\n",
       "      <td>7685.5000</td>\n",
       "    </tr>\n",
       "    <tr>\n",
       "      <th>2</th>\n",
       "      <td>2022-01-21T09:17:00.000000</td>\n",
       "      <td>7685.6500</td>\n",
       "      <td>7695.2500</td>\n",
       "      <td>7685.6500</td>\n",
       "      <td>7695.2000</td>\n",
       "    </tr>\n",
       "    <tr>\n",
       "      <th>3</th>\n",
       "      <td>2022-01-21T09:18:00.000000</td>\n",
       "      <td>7697.2000</td>\n",
       "      <td>7697.2000</td>\n",
       "      <td>7683.7000</td>\n",
       "      <td>7683.7000</td>\n",
       "    </tr>\n",
       "    <tr>\n",
       "      <th>4</th>\n",
       "      <td>2022-01-21T09:19:00.000000</td>\n",
       "      <td>7682.6000</td>\n",
       "      <td>7684.4500</td>\n",
       "      <td>7678.9500</td>\n",
       "      <td>7680.7000</td>\n",
       "    </tr>\n",
       "  </tbody>\n",
       "</table>\n",
       "</div>"
      ],
      "text/plain": [
       "                     datetime         o         h         l         c\n",
       "0  2022-01-21T09:15:00.000000 7705.6500 7705.6500 7662.7500 7676.4500\n",
       "1  2022-01-21T09:16:00.000000 7677.4000 7691.4500 7675.7500 7685.5000\n",
       "2  2022-01-21T09:17:00.000000 7685.6500 7695.2500 7685.6500 7695.2000\n",
       "3  2022-01-21T09:18:00.000000 7697.2000 7697.2000 7683.7000 7683.7000\n",
       "4  2022-01-21T09:19:00.000000 7682.6000 7684.4500 7678.9500 7680.7000"
      ]
     },
     "execution_count": 4,
     "metadata": {},
     "output_type": "execute_result"
    }
   ],
   "source": [
    "bnf_pandas.head()"
   ]
  },
  {
   "cell_type": "code",
   "execution_count": 5,
   "id": "c9ce873a-1d2f-4d0d-8b7a-52d5980df656",
   "metadata": {
    "execution": {
     "iopub.execute_input": "2025-03-05T16:12:23.205842Z",
     "iopub.status.busy": "2025-03-05T16:12:23.205486Z",
     "iopub.status.idle": "2025-03-05T16:12:23.472596Z",
     "shell.execute_reply": "2025-03-05T16:12:23.471189Z",
     "shell.execute_reply.started": "2025-03-05T16:12:23.205812Z"
    }
   },
   "outputs": [],
   "source": [
    "# If Stocks Data ...\n",
    "bnf_pandas[\"datetime\"] = pd.to_datetime(bnf_pandas[\"datetime\"])\n",
    "bnf_pandas[\"datetime\"] = bnf_pandas[\"datetime\"].dt.tz_localize(None)\n",
    "bnf_pandas = bnf_pandas[bnf_pandas[\"datetime\"].dt.year >= 2017]\n",
    "# bnf_pandas.drop(columns=[\"datetime\"], inplace=True)\n",
    "# bnf_pandas"
   ]
  },
  {
   "cell_type": "code",
   "execution_count": 6,
   "id": "950c26fa-a7aa-4e57-8d16-fed9f8c971e1",
   "metadata": {
    "execution": {
     "iopub.execute_input": "2025-03-05T16:12:23.487813Z",
     "iopub.status.busy": "2025-03-05T16:12:23.484657Z",
     "iopub.status.idle": "2025-03-05T16:12:23.568826Z",
     "shell.execute_reply": "2025-03-05T16:12:23.563740Z",
     "shell.execute_reply.started": "2025-03-05T16:12:23.487772Z"
    }
   },
   "outputs": [
    {
     "name": "stdout",
     "output_type": "stream",
     "text": [
      "<class 'polars.dataframe.frame.DataFrame'>\n"
     ]
    }
   ],
   "source": [
    "bnf = pl.DataFrame(bnf_pandas)\n",
    "print(type(bnf))\n",
    "# bnf"
   ]
  },
  {
   "cell_type": "code",
   "execution_count": 7,
   "id": "4631be4d-e27f-469e-a48c-d7942ed28318",
   "metadata": {
    "execution": {
     "iopub.execute_input": "2025-03-05T16:12:23.584558Z",
     "iopub.status.busy": "2025-03-05T16:12:23.574170Z",
     "iopub.status.idle": "2025-03-05T16:12:23.697222Z",
     "shell.execute_reply": "2025-03-05T16:12:23.696161Z",
     "shell.execute_reply.started": "2025-03-05T16:12:23.584476Z"
    }
   },
   "outputs": [],
   "source": [
    "bnf = bnf.with_columns([pl.col(\"datetime\").alias(\"index\")]).drop(\"datetime\")\n",
    "bnf = bnf.with_columns(pl.col(\"index\").alias(\"datetime\"))\n",
    "bnf.tail()\n",
    "bnf_pandas = bnf.to_pandas()"
   ]
  },
  {
   "cell_type": "code",
   "execution_count": 8,
   "id": "9263b976-8510-45c1-adc4-ab6e5881765a",
   "metadata": {
    "execution": {
     "iopub.execute_input": "2025-03-05T16:12:23.698635Z",
     "iopub.status.busy": "2025-03-05T16:12:23.698375Z",
     "iopub.status.idle": "2025-03-05T16:12:23.741040Z",
     "shell.execute_reply": "2025-03-05T16:12:23.730423Z",
     "shell.execute_reply.started": "2025-03-05T16:12:23.698612Z"
    }
   },
   "outputs": [],
   "source": [
    "def resample(\n",
    "    data: pl.DataFrame, timeframe, offset: dt.timedelta | None = None\n",
    ") -> pl.DataFrame:\n",
    "    return (\n",
    "        data.set_sorted(\"datetime\")\n",
    "        .group_by_dynamic(\n",
    "            index_column=\"datetime\",\n",
    "            every=timeframe,\n",
    "            period=timeframe,\n",
    "            label=\"left\",\n",
    "            offset=offset,\n",
    "        )\n",
    "        .agg(\n",
    "            [\n",
    "                pl.col(\"o\").first().alias(\"o\"),\n",
    "                pl.col(\"h\").max().alias(\"h\"),\n",
    "                pl.col(\"l\").min().alias(\"l\"),\n",
    "                pl.col(\"c\").last().alias(\"c\"),\n",
    "                # pl.col(\"volume\").sum().alias(\"volume\"),\n",
    "            ]\n",
    "        )\n",
    "    )"
   ]
  },
  {
   "cell_type": "code",
   "execution_count": 9,
   "id": "0014a138-6496-44d0-8794-24e2edd704f3",
   "metadata": {
    "execution": {
     "iopub.execute_input": "2025-03-05T16:12:24.331739Z",
     "iopub.status.busy": "2025-03-05T16:12:24.331355Z",
     "iopub.status.idle": "2025-03-05T16:12:24.404323Z",
     "shell.execute_reply": "2025-03-05T16:12:24.399739Z",
     "shell.execute_reply.started": "2025-03-05T16:12:24.331706Z"
    }
   },
   "outputs": [],
   "source": [
    "bnf2 = resample(bnf, '15m')\n",
    "bnf_pandas = bnf2.to_pandas()\n",
    "bnf_pandas.rename(columns={'o': 'open', 'h': 'high', 'l': 'low', 'c': 'close'}, inplace=True)"
   ]
  },
  {
   "cell_type": "code",
   "execution_count": 10,
   "id": "fe5d30c0-368e-4424-b286-f07b742c442d",
   "metadata": {
    "execution": {
     "iopub.execute_input": "2025-03-05T16:12:24.563107Z",
     "iopub.status.busy": "2025-03-05T16:12:24.561049Z",
     "iopub.status.idle": "2025-03-05T16:12:24.582376Z",
     "shell.execute_reply": "2025-03-05T16:12:24.581579Z",
     "shell.execute_reply.started": "2025-03-05T16:12:24.563065Z"
    }
   },
   "outputs": [],
   "source": [
    "def ma_crossover_logic(df, fast_ma, slow_ma):\n",
    "    df['close'] = pd.to_numeric(df['close'], errors='coerce')\n",
    "    \n",
    "    fast_ema = df['close'].rolling(fast_ma).mean()\n",
    "    slow_ema = df['close'].rolling(slow_ma).mean()\n",
    "    df['fast_ma'] = fast_ema\n",
    "    df['slow_ma'] = slow_ema\n",
    "    \n",
    "    df['signal'] = 0  # Default to no signal\n",
    "    df.loc[fast_ema > slow_ema, 'signal'] = 1   # Long Signal\n",
    "    df.loc[fast_ema < slow_ema, 'signal'] = -1  # Short Signal\n",
    "    \n",
    "    return df"
   ]
  },
  {
   "cell_type": "code",
   "execution_count": 11,
   "id": "8d4e81c4-2d4b-44d9-b202-6987dce002cd",
   "metadata": {
    "execution": {
     "iopub.execute_input": "2025-03-05T16:12:25.154983Z",
     "iopub.status.busy": "2025-03-05T16:12:25.154576Z",
     "iopub.status.idle": "2025-03-05T16:12:25.248499Z",
     "shell.execute_reply": "2025-03-05T16:12:25.247563Z",
     "shell.execute_reply.started": "2025-03-05T16:12:25.154955Z"
    }
   },
   "outputs": [],
   "source": [
    "def execute(df, sl_pct, n, portfolio=100000, leverage=1, lot_size=1, slippage=0.0001, rpt = 1):\n",
    "    \n",
    "    trade_book = []\n",
    "    in_trade_long = False\n",
    "    in_trade_short = False\n",
    "    signal_initial_sl_long = 0\n",
    "    signal_initial_sl_short = 0\n",
    "    cumulative_roi = 0\n",
    "    max_drawdown = 0\n",
    "    peak_roi = 0\n",
    "\n",
    "    # print(df.tail(50).to_string())\n",
    "\n",
    "    for i in range(1, len(df)):\n",
    "        points = 0\n",
    "        \n",
    "        current_candle_open = df.iloc[i][\"open\"]\n",
    "        current_candle_high = df.iloc[i][\"high\"]\n",
    "        current_candle_low = df.iloc[i][\"low\"]\n",
    "        current_candle_close = df.iloc[i][\"close\"]\n",
    "\n",
    "        previous_candle_open = df.iloc[i-1][\"open\"]\n",
    "        previous_candle_high = df.iloc[i-1][\"high\"]\n",
    "        previous_candle_low = df.iloc[i-1][\"low\"]\n",
    "        previous_candle_close = df.iloc[i-1][\"close\"]\n",
    "\n",
    "        if not in_trade_long:\n",
    "            if (df.iloc[i-1]['signal'] == 1) and current_candle_high >= previous_candle_high and current_candle_open <= previous_candle_high:\n",
    "                # Entry Triggered\n",
    "                entry_price_long = previous_candle_high\n",
    "                initial_sl_long = entry_price_long * (1 - (sl_pct / 100))\n",
    "                # initial_sl_long = df.iloc[max(0, i-n):i]['low'].min()\n",
    "                signal_generation_time_long = df.iloc[i-1]['datetime']\n",
    "                entry_time_long = df.iloc[i]['datetime']\n",
    "                in_trade_long = True\n",
    "\n",
    "        if in_trade_long:\n",
    "\n",
    "            if current_candle_low <= initial_sl_long:\n",
    "                if current_candle_open > initial_sl_long:\n",
    "                    # Initial SL Hit\n",
    "                    in_trade_long = False\n",
    "                    exit_price_long = initial_sl_long\n",
    "                    exit_time_long = df.iloc[i]['datetime']\n",
    "                    points = exit_price_long - entry_price_long\n",
    "                    remarks = 'ISL Hit'\n",
    "                elif current_candle_open < initial_sl_long  and (df.iloc[i]['datetime'] != entry_time_long):\n",
    "                    # Gap Open SL\n",
    "                    in_trade_long = False\n",
    "                    exit_price_long = current_candle_open\n",
    "                    exit_time_long = df.iloc[i]['datetime']\n",
    "                    points = exit_price_long - entry_price_long\n",
    "                    remarks = 'Gap SL Hit'\n",
    "                else:\n",
    "                    # Initial SL Hit\n",
    "                    in_trade_long = False\n",
    "                    exit_price_long = initial_sl_long\n",
    "                    exit_time_long = df.iloc[i]['datetime']\n",
    "                    points = exit_price_long - entry_price_long\n",
    "                    remarks = 'ISL Hit'\n",
    "                    \n",
    "            elif df.iloc[i-1]['signal'] == -1 and current_candle_low <= previous_candle_low and previous_candle_low > initial_sl_long:\n",
    "                # MA Cross in Opposite Direction\n",
    "                if current_candle_open >= previous_candle_low:\n",
    "                    in_trade_long = False\n",
    "                    exit_price_long = previous_candle_low\n",
    "                    exit_time_long = df.iloc[i]['datetime']\n",
    "                    points = exit_price_long - entry_price_long\n",
    "                    remarks = 'MA Cross Opp'\n",
    "                else:\n",
    "                    if current_candle_high >= previous_candle_low:\n",
    "                        in_trade_long = False\n",
    "                        exit_price_long = previous_candle_low\n",
    "                        exit_time_long = df.iloc[i]['datetime']\n",
    "                        points = exit_price_long - entry_price_long\n",
    "                        remarks = 'MA Cross Opp'\n",
    "                    else:\n",
    "                        in_trade_long = False\n",
    "                        exit_price_long = current_candle_close\n",
    "                        exit_time_long = df.iloc[i]['datetime']\n",
    "                        points = exit_price_long - entry_price_long\n",
    "                        remarks = 'MA Cross Opp W Gap Exit'\n",
    "\n",
    "            if not in_trade_long and points:\n",
    "                # Exit Found\n",
    "                # qty = int(round((portfolio * leverage / entry_price_long) / lot_size)) * lot_size\n",
    "                qty = int(round((portfolio * rpt / 100) / abs(entry_price_long - initial_sl_long)) / lot_size) * lot_size\n",
    "                slippage_ = slippage * (entry_price_long + exit_price_long)\n",
    "                final_points = points - slippage_\n",
    "                pnl = final_points * qty\n",
    "                roi = (pnl / portfolio) * 100\n",
    "                \n",
    "                trade_book.append({\n",
    "                    \"Trade Type\": \"LONG\",\n",
    "                    \"Entry Time\": entry_time_long,\n",
    "                    \"Entry Price\": entry_price_long,\n",
    "                    \"Initial SL\": initial_sl_long,\n",
    "                    \"Exit Time\": exit_time_long,\n",
    "                    \"Exit Price\": exit_price_long,\n",
    "                    \"Points Captured\": points,\n",
    "                    \"Slippage\": slippage_,\n",
    "                    \"Qty\": qty,\n",
    "                    \"Final Points\": final_points,\n",
    "                    \"PnL\": pnl,\n",
    "                    \"ROI%\": roi,\n",
    "                    \"Trade Duration\": exit_time_long - entry_time_long,\n",
    "                    \"Remarks\": remarks,\n",
    "                })\n",
    "\n",
    "                remarks = \"\"\n",
    "                points = 0\n",
    "\n",
    "        if not in_trade_short:\n",
    "            if (df.iloc[i-1]['signal'] == -1) and current_candle_low <= previous_candle_low:\n",
    "                # Entry Triggered for Short\n",
    "                entry_price_short = previous_candle_low\n",
    "                initial_sl_short = entry_price_short * (1 + (sl_pct / 100))\n",
    "                # initial_sl_short = df.iloc[max(0, i-n):i]['high'].max()\n",
    "                entry_time_short = df.iloc[i]['datetime']\n",
    "                in_trade_short = True\n",
    "\n",
    "        if in_trade_short:\n",
    "            \n",
    "            if current_candle_high >= initial_sl_short:\n",
    "                if current_candle_open < initial_sl_short:\n",
    "                    # Initial SL Hit for Short\n",
    "                    in_trade_short = False\n",
    "                    exit_price_short = initial_sl_short\n",
    "                    exit_time_short = df.iloc[i]['datetime']\n",
    "                    points = entry_price_short - exit_price_short\n",
    "                    remarks = 'ISL Hit'\n",
    "                elif current_candle_open < initial_sl_short and (df.iloc[i]['datetime'] != entry_time_short):\n",
    "                    # Initial SL Hit for Short\n",
    "                    in_trade_short = False\n",
    "                    exit_price_short = current_candle_open\n",
    "                    exit_time_short = df.iloc[i]['datetime']\n",
    "                    points = entry_price_short - exit_price_short\n",
    "                    remarks = 'Gap SL Hit'\n",
    "                else:\n",
    "                    # Initial SL Hit for Short\n",
    "                    in_trade_short = False\n",
    "                    exit_price_short = initial_sl_short\n",
    "                    exit_time_short = df.iloc[i]['datetime']\n",
    "                    points = entry_price_short - exit_price_short\n",
    "                    remarks = 'ISL Hit'\n",
    "                    \n",
    "            elif df.iloc[i-1]['signal'] == 1 and current_candle_high >= previous_candle_high and previous_candle_high < initial_sl_short:\n",
    "                # MA Cross in Opposite Direction for Short\n",
    "                if current_candle_open <= previous_candle_high:\n",
    "                    in_trade_short = False\n",
    "                    exit_price_short = previous_candle_high\n",
    "                    exit_time_short = df.iloc[i]['datetime']\n",
    "                    points = entry_price_short - exit_price_short\n",
    "                    remarks = 'MA Cross Opp'\n",
    "                else:\n",
    "                    if current_candle_low <= previous_candle_high:\n",
    "                        in_trade_short = False\n",
    "                        exit_price_short = previous_candle_high\n",
    "                        exit_time_short = df.iloc[i]['datetime']\n",
    "                        points = entry_price_short - exit_price_short\n",
    "                        remarks = 'MA Cross Opp'\n",
    "                    else:\n",
    "                        in_trade_short = False\n",
    "                        exit_price_short = current_candle_close\n",
    "                        exit_time_short = df.iloc[i]['datetime']\n",
    "                        points = entry_price_short - exit_price_short\n",
    "                        remarks = 'MA Cross Opp W Gap Exit'\n",
    "\n",
    "            if not in_trade_short and points:\n",
    "                # Exit Found\n",
    "                # qty = int(round((portfolio * leverage / entry_price_short) / lot_size)) * lot_size\n",
    "                qty = int(round((portfolio * rpt / 100) / abs(entry_price_short - initial_sl_short)) / lot_size) * lot_size\n",
    "                slippage_ = slippage * (entry_price_short + exit_price_short)\n",
    "                final_points = points - slippage_\n",
    "                pnl = final_points * qty\n",
    "                roi = (pnl / portfolio) * 100\n",
    "\n",
    "                trade_book.append({\n",
    "                    \"Trade Type\": \"SHORT\",\n",
    "                    \"Entry Time\": entry_time_short,\n",
    "                    \"Entry Price\": entry_price_short,\n",
    "                    \"Initial SL\": initial_sl_short,\n",
    "                    \"Exit Time\": exit_time_short,\n",
    "                    \"Exit Price\": exit_price_short,\n",
    "                    \"Points Captured\": points,\n",
    "                    \"Slippage\": slippage_,\n",
    "                    \"Qty\": qty,\n",
    "                    \"Final Points\": final_points,\n",
    "                    \"PnL\": pnl,\n",
    "                    \"ROI%\": roi,\n",
    "                    \"Trade Duration\": exit_time_short - entry_time_short,\n",
    "                    \"Remarks\": remarks,\n",
    "                })\n",
    "\n",
    "                remarks = \"\"\n",
    "                points = 0\n",
    "\n",
    "    trade_book_df = pd.DataFrame(trade_book)\n",
    "    return trade_book_df"
   ]
  },
  {
   "cell_type": "code",
   "execution_count": 13,
   "id": "69943a41-eb5f-4b86-80f0-5109a3cb0151",
   "metadata": {
    "execution": {
     "iopub.execute_input": "2025-03-05T16:12:38.838558Z",
     "iopub.status.busy": "2025-03-05T16:12:38.838170Z",
     "iopub.status.idle": "2025-03-05T16:12:38.862830Z",
     "shell.execute_reply": "2025-03-05T16:12:38.861857Z",
     "shell.execute_reply.started": "2025-03-05T16:12:38.838527Z"
    }
   },
   "outputs": [],
   "source": [
    "def generate_stats(tb_expiry, variation):\n",
    "    stats_df8 = pd.DataFrame(\n",
    "        index=range(2022, 2026),\n",
    "        columns=[\n",
    "            \"Total ROI\",\n",
    "            \"Total Trades\",\n",
    "            \"Win Rate\",\n",
    "            \"Avg Profit% per Trade\",\n",
    "            \"Avg Loss% per Trade\",\n",
    "            \"Max Drawdown\",\n",
    "            \"ROI/DD Ratio\",\n",
    "            \"Variation\",\n",
    "        ],\n",
    "    )\n",
    "    combined_df_sorted = tb_expiry\n",
    "    # combined_df_sorted = tb_expiry_ce\n",
    "    # combined_df_sorted = tb_expiry_pe\n",
    "    \n",
    "    # Iterate over each year\n",
    "    for year in range(2022, 2026):\n",
    "        # Filter trades for the current year\n",
    "        year_trades = combined_df_sorted[(combined_df_sorted[\"Trade Year\"] == year)]\n",
    "    \n",
    "        # Calculate total ROI\n",
    "        total_roi = year_trades[\"ROI%\"].sum()\n",
    "    \n",
    "        # Calculate total number of trades\n",
    "        total_trades = len(year_trades)\n",
    "    \n",
    "        # Calculate win rate\n",
    "        win_rate = (year_trades[\"ROI%\"] > 0).mean() * 100\n",
    "    \n",
    "        # Calculate average profit per trade\n",
    "        avg_profit = year_trades[year_trades[\"ROI%\"] > 0][\"ROI%\"].mean()\n",
    "    \n",
    "        # Calculate average loss per trade\n",
    "        avg_loss = year_trades[year_trades[\"ROI%\"] < 0][\"ROI%\"].mean()\n",
    "    \n",
    "        # Calculate maximum drawdown\n",
    "        max_drawdown = (\n",
    "            year_trades[\"ROI%\"].cumsum() - year_trades[\"ROI%\"].cumsum().cummax()\n",
    "        ).min()\n",
    "    \n",
    "        # Calculate ROI/DD ratio\n",
    "        roi_dd_ratio = total_roi / abs(max_drawdown)\n",
    "\n",
    "        variation = variation\n",
    "    \n",
    "        # Store the statistics in the DataFrame\n",
    "        stats_df8.loc[year] = [\n",
    "            total_roi,\n",
    "            total_trades,\n",
    "            win_rate,\n",
    "            avg_profit,\n",
    "            avg_loss,\n",
    "            max_drawdown,\n",
    "            roi_dd_ratio,\n",
    "            variation,\n",
    "        ]\n",
    "    \n",
    "    # Calculate overall statistics\n",
    "    overall_total_roi = stats_df8[\"Total ROI\"].sum()\n",
    "    overall_total_trades = stats_df8[\"Total Trades\"].sum()\n",
    "    overall_win_rate = (combined_df_sorted[\"ROI%\"] > 0).mean() * 100\n",
    "    overall_avg_profit = combined_df_sorted[combined_df_sorted[\"ROI%\"] > 0][\"ROI%\"].mean()\n",
    "    overall_avg_loss = combined_df_sorted[combined_df_sorted[\"ROI%\"] < 0][\"ROI%\"].mean()\n",
    "    overall_max_drawdown = (\n",
    "        combined_df_sorted[\"ROI%\"].cumsum() - combined_df_sorted[\"ROI%\"].cumsum().cummax()\n",
    "    ).min()\n",
    "    overall_roi_dd_ratio = overall_total_roi / abs(overall_max_drawdown)\n",
    "    overall_variation = variation\n",
    "    \n",
    "    # Store the overall statistics in the DataFrame\n",
    "    stats_df8.loc[\"Overall\"] = [\n",
    "        overall_total_roi,\n",
    "        overall_total_trades,\n",
    "        overall_win_rate,\n",
    "        overall_avg_profit,\n",
    "        overall_avg_loss,\n",
    "        overall_max_drawdown,\n",
    "        overall_roi_dd_ratio,\n",
    "        overall_variation,\n",
    "    ]\n",
    "    return {overall_roi_dd_ratio : stats_df8}"
   ]
  },
  {
   "cell_type": "code",
   "execution_count": 14,
   "id": "adcc390b-43a1-4bb0-9951-ba1054fcfd64",
   "metadata": {
    "execution": {
     "iopub.execute_input": "2025-03-05T16:12:52.505030Z",
     "iopub.status.busy": "2025-03-05T16:12:52.504257Z",
     "iopub.status.idle": "2025-03-05T16:12:52.524230Z",
     "shell.execute_reply": "2025-03-05T16:12:52.523240Z",
     "shell.execute_reply.started": "2025-03-05T16:12:52.504998Z"
    }
   },
   "outputs": [],
   "source": [
    "PORTFOLIO = 50_00_000\n",
    "LEVERAGE_ = 8\n",
    "LOT_SIZE_ = 120\n",
    "SLIPPAGE_ = 0.0005\n",
    "RPT_ = 2"
   ]
  },
  {
   "cell_type": "code",
   "execution_count": 23,
   "id": "a4a9d10a-9e41-47ca-93e2-b0ba21bf2634",
   "metadata": {
    "execution": {
     "iopub.execute_input": "2025-03-05T16:14:16.116172Z",
     "iopub.status.busy": "2025-03-05T16:14:16.115525Z",
     "iopub.status.idle": "2025-03-05T16:14:43.190827Z",
     "shell.execute_reply": "2025-03-05T16:14:43.190037Z",
     "shell.execute_reply.started": "2025-03-05T16:14:16.116136Z"
    },
    "scrolled": true
   },
   "outputs": [],
   "source": [
    "stats_dictionary = {}\n",
    "\n",
    "slow_ma = 36\n",
    "fast_ma = 12\n",
    "# trailing_ma = 80\n",
    "sl_pct = 1.5\n",
    "\n",
    "df = ma_crossover_logic(bnf_pandas, fast_ma, slow_ma)\n",
    "\n",
    "tb = execute(df, sl_pct, 10, PORTFOLIO, LEVERAGE_, LOT_SIZE_, SLIPPAGE_, RPT_)\n",
    "variation = f'MA1 : {slow_ma}, MA2 : {fast_ma}, SL : {sl_pct}%'"
   ]
  },
  {
   "cell_type": "code",
   "execution_count": 24,
   "id": "d016c168-98f6-493e-a61c-d61ca64153e0",
   "metadata": {
    "execution": {
     "iopub.execute_input": "2025-03-05T16:14:43.198058Z",
     "iopub.status.busy": "2025-03-05T16:14:43.197076Z",
     "iopub.status.idle": "2025-03-05T16:14:43.269186Z",
     "shell.execute_reply": "2025-03-05T16:14:43.268203Z",
     "shell.execute_reply.started": "2025-03-05T16:14:43.198025Z"
    }
   },
   "outputs": [],
   "source": [
    "tb['Trade Year'] = tb['Entry Time'].dt.year\n",
    "tb = tb.sort_values(by=\"Entry Time\")\n",
    "stats = generate_stats(tb, variation)"
   ]
  },
  {
   "cell_type": "code",
   "execution_count": 25,
   "id": "4e7a81f7-60fc-409b-981e-15e0bd2fdd1a",
   "metadata": {
    "execution": {
     "iopub.execute_input": "2025-03-05T16:14:43.285158Z",
     "iopub.status.busy": "2025-03-05T16:14:43.284613Z",
     "iopub.status.idle": "2025-03-05T16:14:43.300878Z",
     "shell.execute_reply": "2025-03-05T16:14:43.300269Z",
     "shell.execute_reply.started": "2025-03-05T16:14:43.285134Z"
    }
   },
   "outputs": [
    {
     "name": "stdout",
     "output_type": "stream",
     "text": [
      "        Total ROI Total Trades Win Rate Avg Profit% per Trade Avg Loss% per Trade Max Drawdown ROI/DD Ratio                      Variation\n",
      "2022       3.1219          171  36.2573                1.8474             -1.0222     -14.1953       0.2199  MA1 : 36, MA2 : 12, SL : 1.5%\n",
      "2023      11.7821          157  35.6688                1.4107             -0.6655      -7.8051       1.5095  MA1 : 36, MA2 : 12, SL : 1.5%\n",
      "2024      -2.0391          169  38.4615                1.3747             -0.8788     -17.8821      -0.1140  MA1 : 36, MA2 : 12, SL : 1.5%\n",
      "2025       2.3713           20  45.0000                1.8791             -1.3219      -5.7252       0.4142  MA1 : 36, MA2 : 12, SL : 1.5%\n",
      "Overall   15.2362          517  37.1373                1.5615             -0.8756     -17.8821       0.8520  MA1 : 36, MA2 : 12, SL : 1.5%\n"
     ]
    }
   ],
   "source": [
    "for overall_roi_dd_ratio, stats_df in stats.items():\n",
    "    if overall_roi_dd_ratio is not None and overall_roi_dd_ratio > -10:\n",
    "        print(stats_df.to_string())\n",
    "        stats_dictionary[overall_roi_dd_ratio] = stats_df"
   ]
  },
  {
   "cell_type": "code",
   "execution_count": 26,
   "id": "ec531c50-766a-459f-8a5f-64c0eb691081",
   "metadata": {
    "execution": {
     "iopub.execute_input": "2025-03-05T16:14:55.486716Z",
     "iopub.status.busy": "2025-03-05T16:14:55.486310Z",
     "iopub.status.idle": "2025-03-05T16:14:55.490922Z",
     "shell.execute_reply": "2025-03-05T16:14:55.490153Z",
     "shell.execute_reply.started": "2025-03-05T16:14:55.486687Z"
    },
    "scrolled": true
   },
   "outputs": [],
   "source": [
    "# tb.tail(250)"
   ]
  },
  {
   "cell_type": "code",
   "execution_count": 27,
   "id": "9afac89e-6ca0-4259-994c-04db509516f9",
   "metadata": {
    "execution": {
     "iopub.execute_input": "2025-03-05T16:14:55.612535Z",
     "iopub.status.busy": "2025-03-05T16:14:55.612188Z",
     "iopub.status.idle": "2025-03-05T16:14:55.637137Z",
     "shell.execute_reply": "2025-03-05T16:14:55.636241Z",
     "shell.execute_reply.started": "2025-03-05T16:14:55.612510Z"
    }
   },
   "outputs": [
    {
     "data": {
      "text/plain": [
       "Timedelta('2 days 03:13:41.663442940')"
      ]
     },
     "execution_count": 27,
     "metadata": {},
     "output_type": "execute_result"
    }
   ],
   "source": [
    "tb['Trade Duration'].mean()"
   ]
  },
  {
   "cell_type": "code",
   "execution_count": 28,
   "id": "2ccca590-fb06-45c6-a6e0-cfc4db2041aa",
   "metadata": {
    "execution": {
     "iopub.execute_input": "2025-03-05T16:14:56.088687Z",
     "iopub.status.busy": "2025-03-05T16:14:56.086436Z",
     "iopub.status.idle": "2025-03-05T16:14:56.093285Z",
     "shell.execute_reply": "2025-03-05T16:14:56.092566Z",
     "shell.execute_reply.started": "2025-03-05T16:14:56.088643Z"
    }
   },
   "outputs": [],
   "source": [
    "# tb.to_csv('full_ma_cross_4_20_MAs_15m_TF.csv')"
   ]
  },
  {
   "cell_type": "code",
   "execution_count": null,
   "id": "fafc772a-2de6-4eeb-bd60-f71e72b9e7c5",
   "metadata": {
    "execution": {
     "iopub.execute_input": "2025-03-05T15:50:58.749030Z",
     "iopub.status.busy": "2025-03-05T15:50:58.748360Z"
    },
    "scrolled": true
   },
   "outputs": [
    {
     "name": "stdout",
     "output_type": "stream",
     "text": [
      "MA1 : 4, MA2 : 6, SL : 0.5%\n",
      "MA1 : 4, MA2 : 6, SL : 0.75%\n"
     ]
    }
   ],
   "source": [
    "sl_pct_range = [0.5, 1, 1.5, 2, 2.5]\n",
    "stats_dictionary = {}\n",
    "\n",
    "PORTFOLIO = 1_00_00_000\n",
    "LEVERAGE_ = 8\n",
    "LOT_SIZE_ = 120\n",
    "SLIPPAGE_ = 0.0005\n",
    "\n",
    "for i in range(4, 41, 2):\n",
    "    for j in range(6, 81, 2):\n",
    "        for sl in sl_pct_range:\n",
    "            if i < j and ((j-i) <= 16):\n",
    "                variation = f'MA1 : {i}, MA2 : {j}, SL : {sl}%'\n",
    "                print(variation)\n",
    "                df = ma_crossover_logic(bnf_pandas, i, j)\n",
    "                tb = execute(df, sl, 1, PORTFOLIO, LEVERAGE_, LOT_SIZE_, SLIPPAGE_, 3)\n",
    "                if len(tb) > 0:\n",
    "                    tb['Trade Year'] = tb['Entry Time'].dt.year\n",
    "                    tb = tb.sort_values(by=\"Entry Time\")\n",
    "                    stats = generate_stats(tb, variation)\n",
    "\n",
    "                    for overall_roi_dd_ratio, stats_df in stats.items():\n",
    "                        if overall_roi_dd_ratio is not None and overall_roi_dd_ratio > 10:\n",
    "                            print(stats_df.to_string())\n",
    "                            stats_dictionary[overall_roi_dd_ratio] = stats_df"
   ]
  },
  {
   "cell_type": "code",
   "execution_count": null,
   "id": "d4c47b09-7b1b-4499-9f42-7c96312fcf82",
   "metadata": {},
   "outputs": [],
   "source": []
  }
 ],
 "metadata": {
  "kernelspec": {
   "display_name": "Python 3 (ipykernel)",
   "language": "python",
   "name": "python3"
  },
  "language_info": {
   "codemirror_mode": {
    "name": "ipython",
    "version": 3
   },
   "file_extension": ".py",
   "mimetype": "text/x-python",
   "name": "python",
   "nbconvert_exporter": "python",
   "pygments_lexer": "ipython3",
   "version": "3.11.0rc1"
  }
 },
 "nbformat": 4,
 "nbformat_minor": 5
}
