{
 "cells": [
  {
   "cell_type": "code",
   "execution_count": 1,
   "id": "72b81045-68d6-4423-a561-4083c1d98cf0",
   "metadata": {
    "execution": {
     "iopub.execute_input": "2025-03-05T16:16:37.748073Z",
     "iopub.status.busy": "2025-03-05T16:16:37.747716Z",
     "iopub.status.idle": "2025-03-05T16:16:49.256398Z",
     "shell.execute_reply": "2025-03-05T16:16:49.255391Z",
     "shell.execute_reply.started": "2025-03-05T16:16:37.748047Z"
    }
   },
   "outputs": [],
   "source": [
    "import datetime as dt\n",
    "\n",
    "import matplotlib.pyplot as plt\n",
    "import mplfinance as mpf\n",
    "import numpy as np\n",
    "import pandas as pd\n",
    "import pandas_market_calendars as mcal\n",
    "import plotly.graph_objects as go\n",
    "import polars as pl\n",
    "from dash import Dash, dcc, html\n",
    "from plotly.subplots import make_subplots\n",
    "\n",
    "nse = mcal.get_calendar(\"NSE\")\n",
    "\n",
    "pd.set_option(\"display.max_rows\", 25_000)\n",
    "pd.set_option(\"display.max_columns\", 500)\n",
    "pl.Config.set_tbl_cols(500)\n",
    "pl.Config.set_tbl_rows(10_000)\n",
    "\n",
    "pd.options.display.float_format = \"{:.4f}\".format\n",
    "\n",
    "import sys\n",
    "\n",
    "sys.path.append(\"..\")\n",
    "from tooling.enums import AssetClass, Index, Spot, StrikeSpread\n",
    "from tooling.fetch import fetch_option_data, fetch_spot_data\n",
    "from tooling.filter import find_atm, option_tool"
   ]
  },
  {
   "cell_type": "code",
   "execution_count": 2,
   "id": "ebd2b3d0-862b-4676-92e0-d1f06856c56f",
   "metadata": {
    "execution": {
     "iopub.execute_input": "2025-03-05T16:16:49.258179Z",
     "iopub.status.busy": "2025-03-05T16:16:49.257640Z",
     "iopub.status.idle": "2025-03-05T16:16:52.121414Z",
     "shell.execute_reply": "2025-03-05T16:16:52.120428Z",
     "shell.execute_reply.started": "2025-03-05T16:16:49.258153Z"
    }
   },
   "outputs": [],
   "source": [
    "bnf_pandas = pd.read_csv(\"../data/indices/NIFTY MID SELECT.csv\")"
   ]
  },
  {
   "cell_type": "code",
   "execution_count": 3,
   "id": "4ae0660b-442a-430a-b40b-01a033f32936",
   "metadata": {
    "execution": {
     "iopub.execute_input": "2025-03-05T16:16:52.122808Z",
     "iopub.status.busy": "2025-03-05T16:16:52.122364Z",
     "iopub.status.idle": "2025-03-05T16:16:52.187442Z",
     "shell.execute_reply": "2025-03-05T16:16:52.186599Z",
     "shell.execute_reply.started": "2025-03-05T16:16:52.122711Z"
    }
   },
   "outputs": [
    {
     "name": "stdout",
     "output_type": "stream",
     "text": [
      "8\n"
     ]
    }
   ],
   "source": [
    "symbol = 'midcp'\n",
    "# symbol = 'nifty'\n",
    "# symbol = 'fnf'\n",
    "# symbol = 'bnf'\n",
    "# symbol = 'sensex'\n",
    "# symbol = 'bankex'\n",
    "\n",
    "if symbol == 'bnf' or symbol == 'bankex':\n",
    "    LEVERAGE_ = 5\n",
    "    LOT_SIZE_ = 15\n",
    "    SLIPPAGE_ = 0.0001\n",
    "elif symbol == 'nifty' or symbol == 'fnf':\n",
    "    LEVERAGE_ = 7\n",
    "    LOT_SIZE_ = 25\n",
    "    SLIPPAGE_ = 0.0002\n",
    "elif symbol == 'midcp':\n",
    "    LEVERAGE_ = 8\n",
    "    LOT_SIZE_ = 50\n",
    "    SLIPPAGE_ = 0.0005\n",
    "elif symbol == 'sensex':\n",
    "    LEVERAGE_ = 8\n",
    "    LOT_SIZE_ = 10\n",
    "    SLIPPAGE_ = 0.0001\n",
    "\n",
    "PORTFOLIO = 1000000\n",
    "print(LEVERAGE_)"
   ]
  },
  {
   "cell_type": "code",
   "execution_count": 4,
   "id": "118d47fa-e9d0-4e98-a374-f983e4f6bef0",
   "metadata": {
    "execution": {
     "iopub.execute_input": "2025-03-05T16:16:52.189798Z",
     "iopub.status.busy": "2025-03-05T16:16:52.189513Z",
     "iopub.status.idle": "2025-03-05T16:16:52.322334Z",
     "shell.execute_reply": "2025-03-05T16:16:52.321611Z",
     "shell.execute_reply.started": "2025-03-05T16:16:52.189775Z"
    }
   },
   "outputs": [
    {
     "data": {
      "text/html": [
       "<div>\n",
       "<style scoped>\n",
       "    .dataframe tbody tr th:only-of-type {\n",
       "        vertical-align: middle;\n",
       "    }\n",
       "\n",
       "    .dataframe tbody tr th {\n",
       "        vertical-align: top;\n",
       "    }\n",
       "\n",
       "    .dataframe thead th {\n",
       "        text-align: right;\n",
       "    }\n",
       "</style>\n",
       "<table border=\"1\" class=\"dataframe\">\n",
       "  <thead>\n",
       "    <tr style=\"text-align: right;\">\n",
       "      <th></th>\n",
       "      <th>datetime</th>\n",
       "      <th>o</th>\n",
       "      <th>h</th>\n",
       "      <th>l</th>\n",
       "      <th>c</th>\n",
       "    </tr>\n",
       "  </thead>\n",
       "  <tbody>\n",
       "    <tr>\n",
       "      <th>0</th>\n",
       "      <td>2022-01-21T09:15:00.000000</td>\n",
       "      <td>7705.6500</td>\n",
       "      <td>7705.6500</td>\n",
       "      <td>7662.7500</td>\n",
       "      <td>7676.4500</td>\n",
       "    </tr>\n",
       "    <tr>\n",
       "      <th>1</th>\n",
       "      <td>2022-01-21T09:16:00.000000</td>\n",
       "      <td>7677.4000</td>\n",
       "      <td>7691.4500</td>\n",
       "      <td>7675.7500</td>\n",
       "      <td>7685.5000</td>\n",
       "    </tr>\n",
       "    <tr>\n",
       "      <th>2</th>\n",
       "      <td>2022-01-21T09:17:00.000000</td>\n",
       "      <td>7685.6500</td>\n",
       "      <td>7695.2500</td>\n",
       "      <td>7685.6500</td>\n",
       "      <td>7695.2000</td>\n",
       "    </tr>\n",
       "    <tr>\n",
       "      <th>3</th>\n",
       "      <td>2022-01-21T09:18:00.000000</td>\n",
       "      <td>7697.2000</td>\n",
       "      <td>7697.2000</td>\n",
       "      <td>7683.7000</td>\n",
       "      <td>7683.7000</td>\n",
       "    </tr>\n",
       "    <tr>\n",
       "      <th>4</th>\n",
       "      <td>2022-01-21T09:19:00.000000</td>\n",
       "      <td>7682.6000</td>\n",
       "      <td>7684.4500</td>\n",
       "      <td>7678.9500</td>\n",
       "      <td>7680.7000</td>\n",
       "    </tr>\n",
       "  </tbody>\n",
       "</table>\n",
       "</div>"
      ],
      "text/plain": [
       "                     datetime         o         h         l         c\n",
       "0  2022-01-21T09:15:00.000000 7705.6500 7705.6500 7662.7500 7676.4500\n",
       "1  2022-01-21T09:16:00.000000 7677.4000 7691.4500 7675.7500 7685.5000\n",
       "2  2022-01-21T09:17:00.000000 7685.6500 7695.2500 7685.6500 7695.2000\n",
       "3  2022-01-21T09:18:00.000000 7697.2000 7697.2000 7683.7000 7683.7000\n",
       "4  2022-01-21T09:19:00.000000 7682.6000 7684.4500 7678.9500 7680.7000"
      ]
     },
     "execution_count": 4,
     "metadata": {},
     "output_type": "execute_result"
    }
   ],
   "source": [
    "bnf_pandas.head()"
   ]
  },
  {
   "cell_type": "code",
   "execution_count": 5,
   "id": "c9ce873a-1d2f-4d0d-8b7a-52d5980df656",
   "metadata": {
    "execution": {
     "iopub.execute_input": "2025-03-05T16:16:52.323508Z",
     "iopub.status.busy": "2025-03-05T16:16:52.323197Z",
     "iopub.status.idle": "2025-03-05T16:16:52.747248Z",
     "shell.execute_reply": "2025-03-05T16:16:52.746513Z",
     "shell.execute_reply.started": "2025-03-05T16:16:52.323483Z"
    }
   },
   "outputs": [],
   "source": [
    "# If Stocks Data ...\n",
    "bnf_pandas[\"datetime\"] = pd.to_datetime(bnf_pandas[\"datetime\"])\n",
    "bnf_pandas[\"datetime\"] = bnf_pandas[\"datetime\"].dt.tz_localize(None)\n",
    "bnf_pandas = bnf_pandas[bnf_pandas[\"datetime\"].dt.year >= 2017]\n",
    "# bnf_pandas.drop(columns=[\"datetime\"], inplace=True)\n",
    "# bnf_pandas"
   ]
  },
  {
   "cell_type": "code",
   "execution_count": 6,
   "id": "950c26fa-a7aa-4e57-8d16-fed9f8c971e1",
   "metadata": {
    "execution": {
     "iopub.execute_input": "2025-03-05T16:16:52.748218Z",
     "iopub.status.busy": "2025-03-05T16:16:52.747949Z",
     "iopub.status.idle": "2025-03-05T16:16:52.811622Z",
     "shell.execute_reply": "2025-03-05T16:16:52.810679Z",
     "shell.execute_reply.started": "2025-03-05T16:16:52.748196Z"
    }
   },
   "outputs": [
    {
     "name": "stdout",
     "output_type": "stream",
     "text": [
      "<class 'polars.dataframe.frame.DataFrame'>\n"
     ]
    }
   ],
   "source": [
    "bnf = pl.DataFrame(bnf_pandas)\n",
    "print(type(bnf))\n",
    "# bnf"
   ]
  },
  {
   "cell_type": "code",
   "execution_count": 7,
   "id": "4631be4d-e27f-469e-a48c-d7942ed28318",
   "metadata": {
    "execution": {
     "iopub.execute_input": "2025-03-05T16:16:52.813467Z",
     "iopub.status.busy": "2025-03-05T16:16:52.812901Z",
     "iopub.status.idle": "2025-03-05T16:16:53.021814Z",
     "shell.execute_reply": "2025-03-05T16:16:53.021044Z",
     "shell.execute_reply.started": "2025-03-05T16:16:52.813434Z"
    }
   },
   "outputs": [],
   "source": [
    "bnf = bnf.with_columns([pl.col(\"datetime\").alias(\"index\")]).drop(\"datetime\")\n",
    "bnf = bnf.with_columns(pl.col(\"index\").alias(\"datetime\"))\n",
    "bnf.tail()\n",
    "bnf_pandas = bnf.to_pandas()"
   ]
  },
  {
   "cell_type": "code",
   "execution_count": 8,
   "id": "9263b976-8510-45c1-adc4-ab6e5881765a",
   "metadata": {
    "execution": {
     "iopub.execute_input": "2025-03-05T16:16:53.022976Z",
     "iopub.status.busy": "2025-03-05T16:16:53.022701Z",
     "iopub.status.idle": "2025-03-05T16:16:53.034147Z",
     "shell.execute_reply": "2025-03-05T16:16:53.033208Z",
     "shell.execute_reply.started": "2025-03-05T16:16:53.022923Z"
    }
   },
   "outputs": [],
   "source": [
    "def resample(\n",
    "    data: pl.DataFrame, timeframe, offset: dt.timedelta | None = None\n",
    ") -> pl.DataFrame:\n",
    "    return (\n",
    "        data.set_sorted(\"datetime\")\n",
    "        .group_by_dynamic(\n",
    "            index_column=\"datetime\",\n",
    "            every=timeframe,\n",
    "            period=timeframe,\n",
    "            label=\"left\",\n",
    "            offset=offset,\n",
    "        )\n",
    "        .agg(\n",
    "            [\n",
    "                pl.col(\"o\").first().alias(\"o\"),\n",
    "                pl.col(\"h\").max().alias(\"h\"),\n",
    "                pl.col(\"l\").min().alias(\"l\"),\n",
    "                pl.col(\"c\").last().alias(\"c\"),\n",
    "                # pl.col(\"volume\").sum().alias(\"volume\"),\n",
    "            ]\n",
    "        )\n",
    "    )"
   ]
  },
  {
   "cell_type": "code",
   "execution_count": 9,
   "id": "0014a138-6496-44d0-8794-24e2edd704f3",
   "metadata": {
    "execution": {
     "iopub.execute_input": "2025-03-05T16:16:53.035855Z",
     "iopub.status.busy": "2025-03-05T16:16:53.035407Z",
     "iopub.status.idle": "2025-03-05T16:16:53.386959Z",
     "shell.execute_reply": "2025-03-05T16:16:53.385387Z",
     "shell.execute_reply.started": "2025-03-05T16:16:53.035831Z"
    }
   },
   "outputs": [],
   "source": [
    "bnf2 = resample(bnf, '5m')\n",
    "bnf_pandas = bnf2.to_pandas()\n",
    "bnf_pandas.rename(columns={'o': 'open', 'h': 'high', 'l': 'low', 'c': 'close'}, inplace=True)"
   ]
  },
  {
   "cell_type": "code",
   "execution_count": 10,
   "id": "fe5d30c0-368e-4424-b286-f07b742c442d",
   "metadata": {
    "execution": {
     "iopub.execute_input": "2025-03-05T16:16:53.396428Z",
     "iopub.status.busy": "2025-03-05T16:16:53.395636Z",
     "iopub.status.idle": "2025-03-05T16:16:53.462920Z",
     "shell.execute_reply": "2025-03-05T16:16:53.432396Z",
     "shell.execute_reply.started": "2025-03-05T16:16:53.396403Z"
    }
   },
   "outputs": [],
   "source": [
    "def ma_crossover_logic(df, fast_ma, slow_ma):\n",
    "    df['close'] = pd.to_numeric(df['close'], errors='coerce')\n",
    "    \n",
    "    fast_ema = df['close'].rolling(fast_ma).mean()\n",
    "    slow_ema = df['close'].rolling(slow_ma).mean()\n",
    "    df['fast_ma'] = fast_ema\n",
    "    df['slow_ma'] = slow_ema\n",
    "    \n",
    "    df['signal'] = 0  # Default to no signal\n",
    "    df.loc[fast_ema > slow_ema, 'signal'] = 1   # Long Signal\n",
    "    df.loc[fast_ema < slow_ema, 'signal'] = -1  # Short Signal\n",
    "    \n",
    "    return df"
   ]
  },
  {
   "cell_type": "code",
   "execution_count": 11,
   "id": "8d4e81c4-2d4b-44d9-b202-6987dce002cd",
   "metadata": {
    "execution": {
     "iopub.execute_input": "2025-03-05T16:16:53.467289Z",
     "iopub.status.busy": "2025-03-05T16:16:53.464601Z",
     "iopub.status.idle": "2025-03-05T16:16:53.579004Z",
     "shell.execute_reply": "2025-03-05T16:16:53.577501Z",
     "shell.execute_reply.started": "2025-03-05T16:16:53.467254Z"
    }
   },
   "outputs": [],
   "source": [
    "def execute(df, sl_pct, n, portfolio=100000, leverage=1, lot_size=1, slippage=0.0001, rpt = 1):\n",
    "    \n",
    "    trade_book = []\n",
    "    in_trade_long = False\n",
    "    in_trade_short = False\n",
    "    signal_initial_sl_long = 0\n",
    "    signal_initial_sl_short = 0\n",
    "    cumulative_roi = 0\n",
    "    max_drawdown = 0\n",
    "    peak_roi = 0\n",
    "\n",
    "    # print(df.tail(50).to_string())\n",
    "\n",
    "    for i in range(1, len(df)):\n",
    "        points = 0\n",
    "        \n",
    "        current_candle_open = df.iloc[i][\"open\"]\n",
    "        current_candle_high = df.iloc[i][\"high\"]\n",
    "        current_candle_low = df.iloc[i][\"low\"]\n",
    "        current_candle_close = df.iloc[i][\"close\"]\n",
    "\n",
    "        previous_candle_open = df.iloc[i-1][\"open\"]\n",
    "        previous_candle_high = df.iloc[i-1][\"high\"]\n",
    "        previous_candle_low = df.iloc[i-1][\"low\"]\n",
    "        previous_candle_close = df.iloc[i-1][\"close\"]\n",
    "\n",
    "        if not in_trade_long:\n",
    "            if (df.iloc[i-1]['signal'] == 1) and current_candle_high >= previous_candle_high and current_candle_open <= previous_candle_high:\n",
    "                # Entry Triggered\n",
    "                entry_price_long = previous_candle_high\n",
    "                initial_sl_long = entry_price_long * (1 - (sl_pct / 100))\n",
    "                # initial_sl_long = df.iloc[max(0, i-n):i]['low'].min()\n",
    "                signal_generation_time_long = df.iloc[i-1]['datetime']\n",
    "                entry_time_long = df.iloc[i]['datetime']\n",
    "                in_trade_long = True\n",
    "\n",
    "        if in_trade_long:\n",
    "\n",
    "            if current_candle_low <= initial_sl_long:\n",
    "                if current_candle_open > initial_sl_long:\n",
    "                    # Initial SL Hit\n",
    "                    in_trade_long = False\n",
    "                    exit_price_long = initial_sl_long\n",
    "                    exit_time_long = df.iloc[i]['datetime']\n",
    "                    points = exit_price_long - entry_price_long\n",
    "                    remarks = 'ISL Hit'\n",
    "                elif current_candle_open < initial_sl_long  and (df.iloc[i]['datetime'] != entry_time_long):\n",
    "                    # Gap Open SL\n",
    "                    in_trade_long = False\n",
    "                    exit_price_long = current_candle_open\n",
    "                    exit_time_long = df.iloc[i]['datetime']\n",
    "                    points = exit_price_long - entry_price_long\n",
    "                    remarks = 'Gap SL Hit'\n",
    "                else:\n",
    "                    # Initial SL Hit\n",
    "                    in_trade_long = False\n",
    "                    exit_price_long = initial_sl_long\n",
    "                    exit_time_long = df.iloc[i]['datetime']\n",
    "                    points = exit_price_long - entry_price_long\n",
    "                    remarks = 'ISL Hit'\n",
    "                    \n",
    "            elif df.iloc[i-1]['signal'] == -1 and current_candle_low <= previous_candle_low and previous_candle_low > initial_sl_long:\n",
    "                # MA Cross in Opposite Direction\n",
    "                if current_candle_open >= previous_candle_low:\n",
    "                    in_trade_long = False\n",
    "                    exit_price_long = previous_candle_low\n",
    "                    exit_time_long = df.iloc[i]['datetime']\n",
    "                    points = exit_price_long - entry_price_long\n",
    "                    remarks = 'MA Cross Opp'\n",
    "                else:\n",
    "                    if current_candle_high >= previous_candle_low:\n",
    "                        in_trade_long = False\n",
    "                        exit_price_long = previous_candle_low\n",
    "                        exit_time_long = df.iloc[i]['datetime']\n",
    "                        points = exit_price_long - entry_price_long\n",
    "                        remarks = 'MA Cross Opp'\n",
    "                    else:\n",
    "                        in_trade_long = False\n",
    "                        exit_price_long = current_candle_close\n",
    "                        exit_time_long = df.iloc[i]['datetime']\n",
    "                        points = exit_price_long - entry_price_long\n",
    "                        remarks = 'MA Cross Opp W Gap Exit'\n",
    "\n",
    "            if not in_trade_long and points:\n",
    "                # Exit Found\n",
    "                # qty = int(round((portfolio * leverage / entry_price_long) / lot_size)) * lot_size\n",
    "                qty = int(round((portfolio * rpt / 100) / abs(entry_price_long - initial_sl_long)) / lot_size) * lot_size\n",
    "                slippage_ = slippage * (entry_price_long + exit_price_long)\n",
    "                final_points = points - slippage_\n",
    "                pnl = final_points * qty\n",
    "                roi = (pnl / portfolio) * 100\n",
    "                \n",
    "                trade_book.append({\n",
    "                    \"Trade Type\": \"LONG\",\n",
    "                    \"Entry Time\": entry_time_long,\n",
    "                    \"Entry Price\": entry_price_long,\n",
    "                    \"Initial SL\": initial_sl_long,\n",
    "                    \"Exit Time\": exit_time_long,\n",
    "                    \"Exit Price\": exit_price_long,\n",
    "                    \"Points Captured\": points,\n",
    "                    \"Slippage\": slippage_,\n",
    "                    \"Qty\": qty,\n",
    "                    \"Final Points\": final_points,\n",
    "                    \"PnL\": pnl,\n",
    "                    \"ROI%\": roi,\n",
    "                    \"Trade Duration\": exit_time_long - entry_time_long,\n",
    "                    \"Remarks\": remarks,\n",
    "                })\n",
    "\n",
    "                remarks = \"\"\n",
    "                points = 0\n",
    "\n",
    "        if not in_trade_short:\n",
    "            if (df.iloc[i-1]['signal'] == -1) and current_candle_low <= previous_candle_low:\n",
    "                # Entry Triggered for Short\n",
    "                entry_price_short = previous_candle_low\n",
    "                initial_sl_short = entry_price_short * (1 + (sl_pct / 100))\n",
    "                # initial_sl_short = df.iloc[max(0, i-n):i]['high'].max()\n",
    "                entry_time_short = df.iloc[i]['datetime']\n",
    "                in_trade_short = True\n",
    "\n",
    "        if in_trade_short:\n",
    "            \n",
    "            if current_candle_high >= initial_sl_short:\n",
    "                if current_candle_open < initial_sl_short:\n",
    "                    # Initial SL Hit for Short\n",
    "                    in_trade_short = False\n",
    "                    exit_price_short = initial_sl_short\n",
    "                    exit_time_short = df.iloc[i]['datetime']\n",
    "                    points = entry_price_short - exit_price_short\n",
    "                    remarks = 'ISL Hit'\n",
    "                elif current_candle_open < initial_sl_short and (df.iloc[i]['datetime'] != entry_time_short):\n",
    "                    # Initial SL Hit for Short\n",
    "                    in_trade_short = False\n",
    "                    exit_price_short = current_candle_open\n",
    "                    exit_time_short = df.iloc[i]['datetime']\n",
    "                    points = entry_price_short - exit_price_short\n",
    "                    remarks = 'Gap SL Hit'\n",
    "                else:\n",
    "                    # Initial SL Hit for Short\n",
    "                    in_trade_short = False\n",
    "                    exit_price_short = initial_sl_short\n",
    "                    exit_time_short = df.iloc[i]['datetime']\n",
    "                    points = entry_price_short - exit_price_short\n",
    "                    remarks = 'ISL Hit'\n",
    "                    \n",
    "            elif df.iloc[i-1]['signal'] == 1 and current_candle_high >= previous_candle_high and previous_candle_high < initial_sl_short:\n",
    "                # MA Cross in Opposite Direction for Short\n",
    "                if current_candle_open <= previous_candle_high:\n",
    "                    in_trade_short = False\n",
    "                    exit_price_short = previous_candle_high\n",
    "                    exit_time_short = df.iloc[i]['datetime']\n",
    "                    points = entry_price_short - exit_price_short\n",
    "                    remarks = 'MA Cross Opp'\n",
    "                else:\n",
    "                    if current_candle_low <= previous_candle_high:\n",
    "                        in_trade_short = False\n",
    "                        exit_price_short = previous_candle_high\n",
    "                        exit_time_short = df.iloc[i]['datetime']\n",
    "                        points = entry_price_short - exit_price_short\n",
    "                        remarks = 'MA Cross Opp'\n",
    "                    else:\n",
    "                        in_trade_short = False\n",
    "                        exit_price_short = current_candle_close\n",
    "                        exit_time_short = df.iloc[i]['datetime']\n",
    "                        points = entry_price_short - exit_price_short\n",
    "                        remarks = 'MA Cross Opp W Gap Exit'\n",
    "\n",
    "            if not in_trade_short and points:\n",
    "                # Exit Found\n",
    "                # qty = int(round((portfolio * leverage / entry_price_short) / lot_size)) * lot_size\n",
    "                qty = int(round((portfolio * rpt / 100) / abs(entry_price_short - initial_sl_short)) / lot_size) * lot_size\n",
    "                slippage_ = slippage * (entry_price_short + exit_price_short)\n",
    "                final_points = points - slippage_\n",
    "                pnl = final_points * qty\n",
    "                roi = (pnl / portfolio) * 100\n",
    "\n",
    "                trade_book.append({\n",
    "                    \"Trade Type\": \"SHORT\",\n",
    "                    \"Entry Time\": entry_time_short,\n",
    "                    \"Entry Price\": entry_price_short,\n",
    "                    \"Initial SL\": initial_sl_short,\n",
    "                    \"Exit Time\": exit_time_short,\n",
    "                    \"Exit Price\": exit_price_short,\n",
    "                    \"Points Captured\": points,\n",
    "                    \"Slippage\": slippage_,\n",
    "                    \"Qty\": qty,\n",
    "                    \"Final Points\": final_points,\n",
    "                    \"PnL\": pnl,\n",
    "                    \"ROI%\": roi,\n",
    "                    \"Trade Duration\": exit_time_short - entry_time_short,\n",
    "                    \"Remarks\": remarks,\n",
    "                })\n",
    "\n",
    "                remarks = \"\"\n",
    "                points = 0\n",
    "\n",
    "    trade_book_df = pd.DataFrame(trade_book)\n",
    "    return trade_book_df"
   ]
  },
  {
   "cell_type": "code",
   "execution_count": 12,
   "id": "69943a41-eb5f-4b86-80f0-5109a3cb0151",
   "metadata": {
    "execution": {
     "iopub.execute_input": "2025-03-05T16:16:53.595008Z",
     "iopub.status.busy": "2025-03-05T16:16:53.593017Z",
     "iopub.status.idle": "2025-03-05T16:16:53.634497Z",
     "shell.execute_reply": "2025-03-05T16:16:53.626807Z",
     "shell.execute_reply.started": "2025-03-05T16:16:53.594971Z"
    }
   },
   "outputs": [],
   "source": [
    "def generate_stats(tb_expiry, variation):\n",
    "    stats_df8 = pd.DataFrame(\n",
    "        index=range(2022, 2026),\n",
    "        columns=[\n",
    "            \"Total ROI\",\n",
    "            \"Total Trades\",\n",
    "            \"Win Rate\",\n",
    "            \"Avg Profit% per Trade\",\n",
    "            \"Avg Loss% per Trade\",\n",
    "            \"Max Drawdown\",\n",
    "            \"ROI/DD Ratio\",\n",
    "            \"Variation\",\n",
    "        ],\n",
    "    )\n",
    "    combined_df_sorted = tb_expiry\n",
    "    # combined_df_sorted = tb_expiry_ce\n",
    "    # combined_df_sorted = tb_expiry_pe\n",
    "    \n",
    "    # Iterate over each year\n",
    "    for year in range(2022, 2026):\n",
    "        # Filter trades for the current year\n",
    "        year_trades = combined_df_sorted[(combined_df_sorted[\"Trade Year\"] == year)]\n",
    "    \n",
    "        # Calculate total ROI\n",
    "        total_roi = year_trades[\"ROI%\"].sum()\n",
    "    \n",
    "        # Calculate total number of trades\n",
    "        total_trades = len(year_trades)\n",
    "    \n",
    "        # Calculate win rate\n",
    "        win_rate = (year_trades[\"ROI%\"] > 0).mean() * 100\n",
    "    \n",
    "        # Calculate average profit per trade\n",
    "        avg_profit = year_trades[year_trades[\"ROI%\"] > 0][\"ROI%\"].mean()\n",
    "    \n",
    "        # Calculate average loss per trade\n",
    "        avg_loss = year_trades[year_trades[\"ROI%\"] < 0][\"ROI%\"].mean()\n",
    "    \n",
    "        # Calculate maximum drawdown\n",
    "        max_drawdown = (\n",
    "            year_trades[\"ROI%\"].cumsum() - year_trades[\"ROI%\"].cumsum().cummax()\n",
    "        ).min()\n",
    "    \n",
    "        # Calculate ROI/DD ratio\n",
    "        roi_dd_ratio = total_roi / abs(max_drawdown)\n",
    "\n",
    "        variation = variation\n",
    "    \n",
    "        # Store the statistics in the DataFrame\n",
    "        stats_df8.loc[year] = [\n",
    "            total_roi,\n",
    "            total_trades,\n",
    "            win_rate,\n",
    "            avg_profit,\n",
    "            avg_loss,\n",
    "            max_drawdown,\n",
    "            roi_dd_ratio,\n",
    "            variation,\n",
    "        ]\n",
    "    \n",
    "    # Calculate overall statistics\n",
    "    overall_total_roi = stats_df8[\"Total ROI\"].sum()\n",
    "    overall_total_trades = stats_df8[\"Total Trades\"].sum()\n",
    "    overall_win_rate = (combined_df_sorted[\"ROI%\"] > 0).mean() * 100\n",
    "    overall_avg_profit = combined_df_sorted[combined_df_sorted[\"ROI%\"] > 0][\"ROI%\"].mean()\n",
    "    overall_avg_loss = combined_df_sorted[combined_df_sorted[\"ROI%\"] < 0][\"ROI%\"].mean()\n",
    "    overall_max_drawdown = (\n",
    "        combined_df_sorted[\"ROI%\"].cumsum() - combined_df_sorted[\"ROI%\"].cumsum().cummax()\n",
    "    ).min()\n",
    "    overall_roi_dd_ratio = overall_total_roi / abs(overall_max_drawdown)\n",
    "    overall_variation = variation\n",
    "    \n",
    "    # Store the overall statistics in the DataFrame\n",
    "    stats_df8.loc[\"Overall\"] = [\n",
    "        overall_total_roi,\n",
    "        overall_total_trades,\n",
    "        overall_win_rate,\n",
    "        overall_avg_profit,\n",
    "        overall_avg_loss,\n",
    "        overall_max_drawdown,\n",
    "        overall_roi_dd_ratio,\n",
    "        overall_variation,\n",
    "    ]\n",
    "    return {overall_roi_dd_ratio : stats_df8}"
   ]
  },
  {
   "cell_type": "code",
   "execution_count": 13,
   "id": "adcc390b-43a1-4bb0-9951-ba1054fcfd64",
   "metadata": {
    "execution": {
     "iopub.execute_input": "2025-03-05T16:16:53.636224Z",
     "iopub.status.busy": "2025-03-05T16:16:53.635953Z",
     "iopub.status.idle": "2025-03-05T16:16:53.685541Z",
     "shell.execute_reply": "2025-03-05T16:16:53.684527Z",
     "shell.execute_reply.started": "2025-03-05T16:16:53.636202Z"
    }
   },
   "outputs": [],
   "source": [
    "PORTFOLIO = 50_00_000\n",
    "LEVERAGE_ = 8\n",
    "LOT_SIZE_ = 120\n",
    "SLIPPAGE_ = 0.0005\n",
    "RPT_ = 2"
   ]
  },
  {
   "cell_type": "code",
   "execution_count": 14,
   "id": "a4a9d10a-9e41-47ca-93e2-b0ba21bf2634",
   "metadata": {
    "execution": {
     "iopub.execute_input": "2025-03-05T16:16:53.686670Z",
     "iopub.status.busy": "2025-03-05T16:16:53.686385Z",
     "iopub.status.idle": "2025-03-05T16:18:31.430646Z",
     "shell.execute_reply": "2025-03-05T16:18:31.419078Z",
     "shell.execute_reply.started": "2025-03-05T16:16:53.686642Z"
    },
    "scrolled": true
   },
   "outputs": [],
   "source": [
    "stats_dictionary = {}\n",
    "\n",
    "slow_ma = 36\n",
    "fast_ma = 12\n",
    "# trailing_ma = 80\n",
    "sl_pct = 1.5\n",
    "\n",
    "df = ma_crossover_logic(bnf_pandas, fast_ma, slow_ma)\n",
    "\n",
    "tb = execute(df, sl_pct, 10, PORTFOLIO, LEVERAGE_, LOT_SIZE_, SLIPPAGE_, RPT_)\n",
    "variation = f'MA1 : {slow_ma}, MA2 : {fast_ma}, SL : {sl_pct}%'"
   ]
  },
  {
   "cell_type": "code",
   "execution_count": 15,
   "id": "d016c168-98f6-493e-a61c-d61ca64153e0",
   "metadata": {
    "execution": {
     "iopub.execute_input": "2025-03-05T16:18:31.436307Z",
     "iopub.status.busy": "2025-03-05T16:18:31.431637Z",
     "iopub.status.idle": "2025-03-05T16:18:31.516405Z",
     "shell.execute_reply": "2025-03-05T16:18:31.511451Z",
     "shell.execute_reply.started": "2025-03-05T16:18:31.436262Z"
    }
   },
   "outputs": [],
   "source": [
    "tb['Trade Year'] = tb['Entry Time'].dt.year\n",
    "tb = tb.sort_values(by=\"Entry Time\")\n",
    "stats = generate_stats(tb, variation)"
   ]
  },
  {
   "cell_type": "code",
   "execution_count": 16,
   "id": "4e7a81f7-60fc-409b-981e-15e0bd2fdd1a",
   "metadata": {
    "execution": {
     "iopub.execute_input": "2025-03-05T16:18:31.547089Z",
     "iopub.status.busy": "2025-03-05T16:18:31.546792Z",
     "iopub.status.idle": "2025-03-05T16:18:31.567257Z",
     "shell.execute_reply": "2025-03-05T16:18:31.566449Z",
     "shell.execute_reply.started": "2025-03-05T16:18:31.547063Z"
    }
   },
   "outputs": [
    {
     "name": "stdout",
     "output_type": "stream",
     "text": [
      "        Total ROI Total Trades Win Rate Avg Profit% per Trade Avg Loss% per Trade Max Drawdown ROI/DD Ratio                      Variation\n",
      "2022      14.4726          482  32.5726                1.2261             -0.5478     -22.2290       0.6511  MA1 : 36, MA2 : 12, SL : 1.5%\n",
      "2023       1.9035          478  32.8452                0.7886             -0.3798     -18.4826       0.1030  MA1 : 36, MA2 : 12, SL : 1.5%\n",
      "2024     -20.4754          523  32.5048                0.9075             -0.4951     -21.9094      -0.9346  MA1 : 36, MA2 : 12, SL : 1.5%\n",
      "2025       1.9148           60  33.3333                1.3507             -0.6275     -11.7781       0.1626  MA1 : 36, MA2 : 12, SL : 1.5%\n",
      "Overall   -2.1846         1543  32.6636                0.9873             -0.4810     -41.0773      -0.0532  MA1 : 36, MA2 : 12, SL : 1.5%\n"
     ]
    }
   ],
   "source": [
    "for overall_roi_dd_ratio, stats_df in stats.items():\n",
    "    if overall_roi_dd_ratio is not None and overall_roi_dd_ratio > -10:\n",
    "        print(stats_df.to_string())\n",
    "        stats_dictionary[overall_roi_dd_ratio] = stats_df"
   ]
  },
  {
   "cell_type": "code",
   "execution_count": 17,
   "id": "ec531c50-766a-459f-8a5f-64c0eb691081",
   "metadata": {
    "execution": {
     "iopub.execute_input": "2025-03-05T16:18:31.568311Z",
     "iopub.status.busy": "2025-03-05T16:18:31.568038Z",
     "iopub.status.idle": "2025-03-05T16:18:31.586577Z",
     "shell.execute_reply": "2025-03-05T16:18:31.585464Z",
     "shell.execute_reply.started": "2025-03-05T16:18:31.568290Z"
    },
    "scrolled": true
   },
   "outputs": [],
   "source": [
    "# tb.tail(250)"
   ]
  },
  {
   "cell_type": "code",
   "execution_count": 18,
   "id": "9afac89e-6ca0-4259-994c-04db509516f9",
   "metadata": {
    "execution": {
     "iopub.execute_input": "2025-03-05T16:18:31.587850Z",
     "iopub.status.busy": "2025-03-05T16:18:31.587584Z",
     "iopub.status.idle": "2025-03-05T16:18:31.674005Z",
     "shell.execute_reply": "2025-03-05T16:18:31.667012Z",
     "shell.execute_reply.started": "2025-03-05T16:18:31.587827Z"
    }
   },
   "outputs": [
    {
     "data": {
      "text/plain": [
       "Timedelta('0 days 17:13:50.978613091')"
      ]
     },
     "execution_count": 18,
     "metadata": {},
     "output_type": "execute_result"
    }
   ],
   "source": [
    "tb['Trade Duration'].mean()"
   ]
  },
  {
   "cell_type": "code",
   "execution_count": 28,
   "id": "2ccca590-fb06-45c6-a6e0-cfc4db2041aa",
   "metadata": {
    "execution": {
     "iopub.execute_input": "2025-03-05T16:14:56.088687Z",
     "iopub.status.busy": "2025-03-05T16:14:56.086436Z",
     "iopub.status.idle": "2025-03-05T16:14:56.093285Z",
     "shell.execute_reply": "2025-03-05T16:14:56.092566Z",
     "shell.execute_reply.started": "2025-03-05T16:14:56.088643Z"
    }
   },
   "outputs": [],
   "source": [
    "# tb.to_csv('full_ma_cross_4_20_MAs_15m_TF.csv')"
   ]
  },
  {
   "cell_type": "code",
   "execution_count": 19,
   "id": "fafc772a-2de6-4eeb-bd60-f71e72b9e7c5",
   "metadata": {
    "execution": {
     "iopub.execute_input": "2025-03-05T16:19:16.377284Z",
     "iopub.status.busy": "2025-03-05T16:19:16.376861Z",
     "iopub.status.idle": "2025-03-05T18:51:48.537645Z",
     "shell.execute_reply": "2025-03-05T18:51:48.532238Z",
     "shell.execute_reply.started": "2025-03-05T16:19:16.377256Z"
    },
    "scrolled": true
   },
   "outputs": [
    {
     "name": "stdout",
     "output_type": "stream",
     "text": [
      "MA1 : 4, MA2 : 6, SL : 0.5%\n",
      "MA1 : 4, MA2 : 6, SL : 1%\n",
      "MA1 : 4, MA2 : 6, SL : 1.5%\n",
      "MA1 : 4, MA2 : 6, SL : 2%\n",
      "MA1 : 4, MA2 : 6, SL : 2.5%\n",
      "MA1 : 4, MA2 : 8, SL : 0.5%\n",
      "MA1 : 4, MA2 : 8, SL : 1%\n",
      "MA1 : 4, MA2 : 8, SL : 1.5%\n",
      "MA1 : 4, MA2 : 8, SL : 2%\n",
      "MA1 : 4, MA2 : 8, SL : 2.5%\n",
      "MA1 : 4, MA2 : 10, SL : 0.5%\n",
      "MA1 : 4, MA2 : 10, SL : 1%\n",
      "MA1 : 4, MA2 : 10, SL : 1.5%\n",
      "MA1 : 4, MA2 : 10, SL : 2%\n",
      "MA1 : 4, MA2 : 10, SL : 2.5%\n",
      "MA1 : 4, MA2 : 12, SL : 0.5%\n",
      "MA1 : 4, MA2 : 12, SL : 1%\n",
      "MA1 : 4, MA2 : 12, SL : 1.5%\n",
      "MA1 : 4, MA2 : 12, SL : 2%\n",
      "MA1 : 4, MA2 : 12, SL : 2.5%\n",
      "MA1 : 4, MA2 : 14, SL : 0.5%\n",
      "MA1 : 4, MA2 : 14, SL : 1%\n",
      "MA1 : 4, MA2 : 14, SL : 1.5%\n",
      "MA1 : 4, MA2 : 14, SL : 2%\n",
      "MA1 : 4, MA2 : 14, SL : 2.5%\n",
      "MA1 : 4, MA2 : 16, SL : 0.5%\n",
      "MA1 : 4, MA2 : 16, SL : 1%\n",
      "MA1 : 4, MA2 : 16, SL : 1.5%\n",
      "MA1 : 4, MA2 : 16, SL : 2%\n",
      "MA1 : 4, MA2 : 16, SL : 2.5%\n",
      "MA1 : 4, MA2 : 18, SL : 0.5%\n",
      "MA1 : 4, MA2 : 18, SL : 1%\n",
      "MA1 : 4, MA2 : 18, SL : 1.5%\n",
      "MA1 : 4, MA2 : 18, SL : 2%\n",
      "MA1 : 4, MA2 : 18, SL : 2.5%\n",
      "MA1 : 4, MA2 : 20, SL : 0.5%\n",
      "MA1 : 4, MA2 : 20, SL : 1%\n",
      "MA1 : 4, MA2 : 20, SL : 1.5%\n",
      "MA1 : 4, MA2 : 20, SL : 2%\n",
      "MA1 : 4, MA2 : 20, SL : 2.5%\n",
      "MA1 : 6, MA2 : 8, SL : 0.5%\n",
      "MA1 : 6, MA2 : 8, SL : 1%\n",
      "MA1 : 6, MA2 : 8, SL : 1.5%\n",
      "MA1 : 6, MA2 : 8, SL : 2%\n",
      "MA1 : 6, MA2 : 8, SL : 2.5%\n",
      "MA1 : 6, MA2 : 10, SL : 0.5%\n",
      "MA1 : 6, MA2 : 10, SL : 1%\n",
      "MA1 : 6, MA2 : 10, SL : 1.5%\n",
      "MA1 : 6, MA2 : 10, SL : 2%\n",
      "MA1 : 6, MA2 : 10, SL : 2.5%\n",
      "MA1 : 6, MA2 : 12, SL : 0.5%\n",
      "MA1 : 6, MA2 : 12, SL : 1%\n",
      "MA1 : 6, MA2 : 12, SL : 1.5%\n",
      "MA1 : 6, MA2 : 12, SL : 2%\n",
      "MA1 : 6, MA2 : 12, SL : 2.5%\n",
      "MA1 : 6, MA2 : 14, SL : 0.5%\n",
      "MA1 : 6, MA2 : 14, SL : 1%\n",
      "MA1 : 6, MA2 : 14, SL : 1.5%\n",
      "MA1 : 6, MA2 : 14, SL : 2%\n",
      "MA1 : 6, MA2 : 14, SL : 2.5%\n",
      "MA1 : 6, MA2 : 16, SL : 0.5%\n",
      "MA1 : 6, MA2 : 16, SL : 1%\n",
      "MA1 : 6, MA2 : 16, SL : 1.5%\n",
      "MA1 : 6, MA2 : 16, SL : 2%\n",
      "MA1 : 6, MA2 : 16, SL : 2.5%\n",
      "MA1 : 6, MA2 : 18, SL : 0.5%\n",
      "MA1 : 6, MA2 : 18, SL : 1%\n",
      "MA1 : 6, MA2 : 18, SL : 1.5%\n",
      "MA1 : 6, MA2 : 18, SL : 2%\n",
      "MA1 : 6, MA2 : 18, SL : 2.5%\n",
      "MA1 : 6, MA2 : 20, SL : 0.5%\n",
      "MA1 : 6, MA2 : 20, SL : 1%\n",
      "MA1 : 6, MA2 : 20, SL : 1.5%\n",
      "MA1 : 6, MA2 : 20, SL : 2%\n",
      "MA1 : 6, MA2 : 20, SL : 2.5%\n",
      "MA1 : 6, MA2 : 22, SL : 0.5%\n",
      "MA1 : 6, MA2 : 22, SL : 1%\n",
      "MA1 : 6, MA2 : 22, SL : 1.5%\n",
      "MA1 : 6, MA2 : 22, SL : 2%\n",
      "MA1 : 6, MA2 : 22, SL : 2.5%\n",
      "MA1 : 8, MA2 : 10, SL : 0.5%\n",
      "MA1 : 8, MA2 : 10, SL : 1%\n",
      "MA1 : 8, MA2 : 10, SL : 1.5%\n",
      "MA1 : 8, MA2 : 10, SL : 2%\n",
      "MA1 : 8, MA2 : 10, SL : 2.5%\n",
      "MA1 : 8, MA2 : 12, SL : 0.5%\n",
      "MA1 : 8, MA2 : 12, SL : 1%\n",
      "MA1 : 8, MA2 : 12, SL : 1.5%\n",
      "MA1 : 8, MA2 : 12, SL : 2%\n",
      "MA1 : 8, MA2 : 12, SL : 2.5%\n",
      "MA1 : 8, MA2 : 14, SL : 0.5%\n",
      "MA1 : 8, MA2 : 14, SL : 1%\n",
      "MA1 : 8, MA2 : 14, SL : 1.5%\n",
      "MA1 : 8, MA2 : 14, SL : 2%\n",
      "MA1 : 8, MA2 : 14, SL : 2.5%\n",
      "MA1 : 8, MA2 : 16, SL : 0.5%\n",
      "MA1 : 8, MA2 : 16, SL : 1%\n",
      "MA1 : 8, MA2 : 16, SL : 1.5%\n",
      "MA1 : 8, MA2 : 16, SL : 2%\n",
      "MA1 : 8, MA2 : 16, SL : 2.5%\n",
      "MA1 : 8, MA2 : 18, SL : 0.5%\n",
      "MA1 : 8, MA2 : 18, SL : 1%\n",
      "MA1 : 8, MA2 : 18, SL : 1.5%\n",
      "MA1 : 8, MA2 : 18, SL : 2%\n",
      "MA1 : 8, MA2 : 18, SL : 2.5%\n",
      "MA1 : 8, MA2 : 20, SL : 0.5%\n",
      "MA1 : 8, MA2 : 20, SL : 1%\n",
      "MA1 : 8, MA2 : 20, SL : 1.5%\n",
      "MA1 : 8, MA2 : 20, SL : 2%\n",
      "MA1 : 8, MA2 : 20, SL : 2.5%\n",
      "MA1 : 8, MA2 : 22, SL : 0.5%\n",
      "MA1 : 8, MA2 : 22, SL : 1%\n",
      "MA1 : 8, MA2 : 22, SL : 1.5%\n",
      "MA1 : 8, MA2 : 22, SL : 2%\n",
      "MA1 : 8, MA2 : 22, SL : 2.5%\n",
      "MA1 : 8, MA2 : 24, SL : 0.5%\n",
      "MA1 : 8, MA2 : 24, SL : 1%\n",
      "MA1 : 8, MA2 : 24, SL : 1.5%\n",
      "MA1 : 8, MA2 : 24, SL : 2%\n",
      "MA1 : 8, MA2 : 24, SL : 2.5%\n",
      "MA1 : 10, MA2 : 12, SL : 0.5%\n",
      "MA1 : 10, MA2 : 12, SL : 1%\n",
      "MA1 : 10, MA2 : 12, SL : 1.5%\n",
      "MA1 : 10, MA2 : 12, SL : 2%\n",
      "MA1 : 10, MA2 : 12, SL : 2.5%\n",
      "MA1 : 10, MA2 : 14, SL : 0.5%\n",
      "MA1 : 10, MA2 : 14, SL : 1%\n",
      "MA1 : 10, MA2 : 14, SL : 1.5%\n",
      "MA1 : 10, MA2 : 14, SL : 2%\n",
      "MA1 : 10, MA2 : 14, SL : 2.5%\n",
      "MA1 : 10, MA2 : 16, SL : 0.5%\n",
      "MA1 : 10, MA2 : 16, SL : 1%\n",
      "MA1 : 10, MA2 : 16, SL : 1.5%\n",
      "MA1 : 10, MA2 : 16, SL : 2%\n",
      "MA1 : 10, MA2 : 16, SL : 2.5%\n",
      "MA1 : 10, MA2 : 18, SL : 0.5%\n",
      "MA1 : 10, MA2 : 18, SL : 1%\n",
      "MA1 : 10, MA2 : 18, SL : 1.5%\n",
      "MA1 : 10, MA2 : 18, SL : 2%\n",
      "MA1 : 10, MA2 : 18, SL : 2.5%\n",
      "MA1 : 10, MA2 : 20, SL : 0.5%\n",
      "MA1 : 10, MA2 : 20, SL : 1%\n"
     ]
    },
    {
     "name": "stderr",
     "output_type": "stream",
     "text": [
      "Exception ignored in: <bound method IPythonKernel._clean_thread_parent_frames of <ipykernel.ipkernel.IPythonKernel object at 0x7f47c1fdfe90>>\n",
      "Traceback (most recent call last):\n",
      "  File \"/home/jagjot/strategies/strategies/droplets/.venv/lib/python3.11/site-packages/ipykernel/ipkernel.py\", line 770, in _clean_thread_parent_frames\n",
      "    def _clean_thread_parent_frames(\n",
      "\n",
      "KeyboardInterrupt: \n",
      "Exception ignored in: <bound method IPythonKernel._clean_thread_parent_frames of <ipykernel.ipkernel.IPythonKernel object at 0x7f47c1fdfe90>>\n",
      "Traceback (most recent call last):\n",
      "  File \"/home/jagjot/strategies/strategies/droplets/.venv/lib/python3.11/site-packages/ipykernel/ipkernel.py\", line 770, in _clean_thread_parent_frames\n",
      "    def _clean_thread_parent_frames(\n",
      "\n",
      "KeyboardInterrupt: \n"
     ]
    },
    {
     "ename": "KeyboardInterrupt",
     "evalue": "",
     "output_type": "error",
     "traceback": [
      "\u001b[0;31m---------------------------------------------------------------------------\u001b[0m",
      "\u001b[0;31mKeyboardInterrupt\u001b[0m                         Traceback (most recent call last)",
      "Cell \u001b[0;32mIn[19], line 16\u001b[0m\n\u001b[1;32m     14\u001b[0m \u001b[38;5;28mprint\u001b[39m(variation)\n\u001b[1;32m     15\u001b[0m df \u001b[38;5;241m=\u001b[39m ma_crossover_logic(bnf_pandas, i, j)\n\u001b[0;32m---> 16\u001b[0m tb \u001b[38;5;241m=\u001b[39m \u001b[43mexecute\u001b[49m\u001b[43m(\u001b[49m\u001b[43mdf\u001b[49m\u001b[43m,\u001b[49m\u001b[43m \u001b[49m\u001b[43msl\u001b[49m\u001b[43m,\u001b[49m\u001b[43m \u001b[49m\u001b[38;5;241;43m1\u001b[39;49m\u001b[43m,\u001b[49m\u001b[43m \u001b[49m\u001b[43mPORTFOLIO\u001b[49m\u001b[43m,\u001b[49m\u001b[43m \u001b[49m\u001b[43mLEVERAGE_\u001b[49m\u001b[43m,\u001b[49m\u001b[43m \u001b[49m\u001b[43mLOT_SIZE_\u001b[49m\u001b[43m,\u001b[49m\u001b[43m \u001b[49m\u001b[43mSLIPPAGE_\u001b[49m\u001b[43m,\u001b[49m\u001b[43m \u001b[49m\u001b[38;5;241;43m2\u001b[39;49m\u001b[43m)\u001b[49m\n\u001b[1;32m     17\u001b[0m \u001b[38;5;28;01mif\u001b[39;00m \u001b[38;5;28mlen\u001b[39m(tb) \u001b[38;5;241m>\u001b[39m \u001b[38;5;241m0\u001b[39m:\n\u001b[1;32m     18\u001b[0m     tb[\u001b[38;5;124m'\u001b[39m\u001b[38;5;124mTrade Year\u001b[39m\u001b[38;5;124m'\u001b[39m] \u001b[38;5;241m=\u001b[39m tb[\u001b[38;5;124m'\u001b[39m\u001b[38;5;124mEntry Time\u001b[39m\u001b[38;5;124m'\u001b[39m]\u001b[38;5;241m.\u001b[39mdt\u001b[38;5;241m.\u001b[39myear\n",
      "Cell \u001b[0;32mIn[11], line 18\u001b[0m, in \u001b[0;36mexecute\u001b[0;34m(df, sl_pct, n, portfolio, leverage, lot_size, slippage, rpt)\u001b[0m\n\u001b[1;32m     15\u001b[0m points \u001b[38;5;241m=\u001b[39m \u001b[38;5;241m0\u001b[39m\n\u001b[1;32m     17\u001b[0m current_candle_open \u001b[38;5;241m=\u001b[39m df\u001b[38;5;241m.\u001b[39miloc[i][\u001b[38;5;124m\"\u001b[39m\u001b[38;5;124mopen\u001b[39m\u001b[38;5;124m\"\u001b[39m]\n\u001b[0;32m---> 18\u001b[0m current_candle_high \u001b[38;5;241m=\u001b[39m \u001b[43mdf\u001b[49m\u001b[38;5;241;43m.\u001b[39;49m\u001b[43miloc\u001b[49m\u001b[43m[\u001b[49m\u001b[43mi\u001b[49m\u001b[43m]\u001b[49m[\u001b[38;5;124m\"\u001b[39m\u001b[38;5;124mhigh\u001b[39m\u001b[38;5;124m\"\u001b[39m]\n\u001b[1;32m     19\u001b[0m current_candle_low \u001b[38;5;241m=\u001b[39m df\u001b[38;5;241m.\u001b[39miloc[i][\u001b[38;5;124m\"\u001b[39m\u001b[38;5;124mlow\u001b[39m\u001b[38;5;124m\"\u001b[39m]\n\u001b[1;32m     20\u001b[0m current_candle_close \u001b[38;5;241m=\u001b[39m df\u001b[38;5;241m.\u001b[39miloc[i][\u001b[38;5;124m\"\u001b[39m\u001b[38;5;124mclose\u001b[39m\u001b[38;5;124m\"\u001b[39m]\n",
      "File \u001b[0;32m~/strategies/strategies/droplets/.venv/lib/python3.11/site-packages/pandas/core/indexing.py:1192\u001b[0m, in \u001b[0;36m_LocationIndexer.__getitem__\u001b[0;34m(self, key)\u001b[0m\n\u001b[1;32m   1190\u001b[0m maybe_callable \u001b[38;5;241m=\u001b[39m com\u001b[38;5;241m.\u001b[39mapply_if_callable(key, \u001b[38;5;28mself\u001b[39m\u001b[38;5;241m.\u001b[39mobj)\n\u001b[1;32m   1191\u001b[0m maybe_callable \u001b[38;5;241m=\u001b[39m \u001b[38;5;28mself\u001b[39m\u001b[38;5;241m.\u001b[39m_check_deprecated_callable_usage(key, maybe_callable)\n\u001b[0;32m-> 1192\u001b[0m \u001b[38;5;28;01mreturn\u001b[39;00m \u001b[38;5;28;43mself\u001b[39;49m\u001b[38;5;241;43m.\u001b[39;49m\u001b[43m_getitem_axis\u001b[49m\u001b[43m(\u001b[49m\u001b[43mmaybe_callable\u001b[49m\u001b[43m,\u001b[49m\u001b[43m \u001b[49m\u001b[43maxis\u001b[49m\u001b[38;5;241;43m=\u001b[39;49m\u001b[43maxis\u001b[49m\u001b[43m)\u001b[49m\n",
      "File \u001b[0;32m~/strategies/strategies/droplets/.venv/lib/python3.11/site-packages/pandas/core/indexing.py:1755\u001b[0m, in \u001b[0;36m_iLocIndexer._getitem_axis\u001b[0;34m(self, key, axis)\u001b[0m\n\u001b[1;32m   1752\u001b[0m \u001b[38;5;66;03m# validate the location\u001b[39;00m\n\u001b[1;32m   1753\u001b[0m \u001b[38;5;28mself\u001b[39m\u001b[38;5;241m.\u001b[39m_validate_integer(key, axis)\n\u001b[0;32m-> 1755\u001b[0m \u001b[38;5;28;01mreturn\u001b[39;00m \u001b[38;5;28;43mself\u001b[39;49m\u001b[38;5;241;43m.\u001b[39;49m\u001b[43mobj\u001b[49m\u001b[38;5;241;43m.\u001b[39;49m\u001b[43m_ixs\u001b[49m\u001b[43m(\u001b[49m\u001b[43mkey\u001b[49m\u001b[43m,\u001b[49m\u001b[43m \u001b[49m\u001b[43maxis\u001b[49m\u001b[38;5;241;43m=\u001b[39;49m\u001b[43maxis\u001b[49m\u001b[43m)\u001b[49m\n",
      "File \u001b[0;32m~/strategies/strategies/droplets/.venv/lib/python3.11/site-packages/pandas/core/frame.py:3984\u001b[0m, in \u001b[0;36mDataFrame._ixs\u001b[0;34m(self, i, axis)\u001b[0m\n\u001b[1;32m   3982\u001b[0m \u001b[38;5;66;03m# irow\u001b[39;00m\n\u001b[1;32m   3983\u001b[0m \u001b[38;5;28;01mif\u001b[39;00m axis \u001b[38;5;241m==\u001b[39m \u001b[38;5;241m0\u001b[39m:\n\u001b[0;32m-> 3984\u001b[0m     new_mgr \u001b[38;5;241m=\u001b[39m \u001b[38;5;28;43mself\u001b[39;49m\u001b[38;5;241;43m.\u001b[39;49m\u001b[43m_mgr\u001b[49m\u001b[38;5;241;43m.\u001b[39;49m\u001b[43mfast_xs\u001b[49m\u001b[43m(\u001b[49m\u001b[43mi\u001b[49m\u001b[43m)\u001b[49m\n\u001b[1;32m   3986\u001b[0m     \u001b[38;5;66;03m# if we are a copy, mark as such\u001b[39;00m\n\u001b[1;32m   3987\u001b[0m     copy \u001b[38;5;241m=\u001b[39m \u001b[38;5;28misinstance\u001b[39m(new_mgr\u001b[38;5;241m.\u001b[39marray, np\u001b[38;5;241m.\u001b[39mndarray) \u001b[38;5;129;01mand\u001b[39;00m new_mgr\u001b[38;5;241m.\u001b[39marray\u001b[38;5;241m.\u001b[39mbase \u001b[38;5;129;01mis\u001b[39;00m \u001b[38;5;28;01mNone\u001b[39;00m\n",
      "File \u001b[0;32m~/strategies/strategies/droplets/.venv/lib/python3.11/site-packages/pandas/core/internals/managers.py:987\u001b[0m, in \u001b[0;36mBlockManager.fast_xs\u001b[0;34m(self, loc)\u001b[0m\n\u001b[1;32m    983\u001b[0m     \u001b[38;5;28;01mreturn\u001b[39;00m SingleBlockManager(block, \u001b[38;5;28mself\u001b[39m\u001b[38;5;241m.\u001b[39maxes[\u001b[38;5;241m0\u001b[39m])\n\u001b[1;32m    985\u001b[0m dtype \u001b[38;5;241m=\u001b[39m interleaved_dtype([blk\u001b[38;5;241m.\u001b[39mdtype \u001b[38;5;28;01mfor\u001b[39;00m blk \u001b[38;5;129;01min\u001b[39;00m \u001b[38;5;28mself\u001b[39m\u001b[38;5;241m.\u001b[39mblocks])\n\u001b[0;32m--> 987\u001b[0m n \u001b[38;5;241m=\u001b[39m \u001b[38;5;28mlen\u001b[39m(\u001b[38;5;28mself\u001b[39m)\n\u001b[1;32m    989\u001b[0m \u001b[38;5;28;01mif\u001b[39;00m \u001b[38;5;28misinstance\u001b[39m(dtype, ExtensionDtype):\n\u001b[1;32m    990\u001b[0m     \u001b[38;5;66;03m# TODO: use object dtype as workaround for non-performant\u001b[39;00m\n\u001b[1;32m    991\u001b[0m     \u001b[38;5;66;03m#  EA.__setitem__ methods. (primarily ArrowExtensionArray.__setitem__\u001b[39;00m\n\u001b[1;32m    992\u001b[0m     \u001b[38;5;66;03m#  when iteratively setting individual values)\u001b[39;00m\n\u001b[1;32m    993\u001b[0m     \u001b[38;5;66;03m#  https://github.com/pandas-dev/pandas/pull/54508#issuecomment-1675827918\u001b[39;00m\n\u001b[1;32m    994\u001b[0m     result \u001b[38;5;241m=\u001b[39m np\u001b[38;5;241m.\u001b[39mempty(n, dtype\u001b[38;5;241m=\u001b[39m\u001b[38;5;28mobject\u001b[39m)\n",
      "File \u001b[0;32m~/strategies/strategies/droplets/.venv/lib/python3.11/site-packages/pandas/core/internals/base.py:76\u001b[0m, in \u001b[0;36mDataManager.__len__\u001b[0;34m(self)\u001b[0m\n\u001b[1;32m     74\u001b[0m \u001b[38;5;129m@final\u001b[39m\n\u001b[1;32m     75\u001b[0m \u001b[38;5;28;01mdef\u001b[39;00m \u001b[38;5;21m__len__\u001b[39m(\u001b[38;5;28mself\u001b[39m) \u001b[38;5;241m-\u001b[39m\u001b[38;5;241m>\u001b[39m \u001b[38;5;28mint\u001b[39m:\n\u001b[0;32m---> 76\u001b[0m     \u001b[38;5;28;01mreturn\u001b[39;00m \u001b[38;5;28mlen\u001b[39m(\u001b[38;5;28;43mself\u001b[39;49m\u001b[38;5;241;43m.\u001b[39;49m\u001b[43mitems\u001b[49m)\n",
      "File \u001b[0;32m~/strategies/strategies/droplets/.venv/lib/python3.11/site-packages/pandas/core/internals/managers.py:247\u001b[0m, in \u001b[0;36mBaseBlockManager.items\u001b[0;34m(self)\u001b[0m\n\u001b[1;32m    242\u001b[0m \u001b[38;5;129m@property\u001b[39m\n\u001b[1;32m    243\u001b[0m \u001b[38;5;28;01mdef\u001b[39;00m \u001b[38;5;21mis_single_block\u001b[39m(\u001b[38;5;28mself\u001b[39m) \u001b[38;5;241m-\u001b[39m\u001b[38;5;241m>\u001b[39m \u001b[38;5;28mbool\u001b[39m:\n\u001b[1;32m    244\u001b[0m     \u001b[38;5;66;03m# Assumes we are 2D; overridden by SingleBlockManager\u001b[39;00m\n\u001b[1;32m    245\u001b[0m     \u001b[38;5;28;01mreturn\u001b[39;00m \u001b[38;5;28mlen\u001b[39m(\u001b[38;5;28mself\u001b[39m\u001b[38;5;241m.\u001b[39mblocks) \u001b[38;5;241m==\u001b[39m \u001b[38;5;241m1\u001b[39m\n\u001b[0;32m--> 247\u001b[0m \u001b[38;5;129m@property\u001b[39m\n\u001b[1;32m    248\u001b[0m \u001b[38;5;28;01mdef\u001b[39;00m \u001b[38;5;21mitems\u001b[39m(\u001b[38;5;28mself\u001b[39m) \u001b[38;5;241m-\u001b[39m\u001b[38;5;241m>\u001b[39m Index:\n\u001b[1;32m    249\u001b[0m     \u001b[38;5;28;01mreturn\u001b[39;00m \u001b[38;5;28mself\u001b[39m\u001b[38;5;241m.\u001b[39maxes[\u001b[38;5;241m0\u001b[39m]\n\u001b[1;32m    251\u001b[0m \u001b[38;5;28;01mdef\u001b[39;00m \u001b[38;5;21m_has_no_reference\u001b[39m(\u001b[38;5;28mself\u001b[39m, i: \u001b[38;5;28mint\u001b[39m) \u001b[38;5;241m-\u001b[39m\u001b[38;5;241m>\u001b[39m \u001b[38;5;28mbool\u001b[39m:\n",
      "\u001b[0;31mKeyboardInterrupt\u001b[0m: "
     ]
    }
   ],
   "source": [
    "sl_pct_range = [0.5, 1, 1.5, 2, 2.5]\n",
    "stats_dictionary = {}\n",
    "\n",
    "PORTFOLIO = 1_00_00_000\n",
    "LEVERAGE_ = 8\n",
    "LOT_SIZE_ = 120\n",
    "SLIPPAGE_ = 0.0005\n",
    "\n",
    "for i in range(4, 41, 2):\n",
    "    for j in range(6, 81, 2):\n",
    "        for sl in sl_pct_range:\n",
    "            if i < j and ((j-i) <= 16):\n",
    "                variation = f'MA1 : {i}, MA2 : {j}, SL : {sl}%'\n",
    "                print(variation)\n",
    "                df = ma_crossover_logic(bnf_pandas, i, j)\n",
    "                tb = execute(df, sl, 1, PORTFOLIO, LEVERAGE_, LOT_SIZE_, SLIPPAGE_, 2)\n",
    "                if len(tb) > 0:\n",
    "                    tb['Trade Year'] = tb['Entry Time'].dt.year\n",
    "                    tb = tb.sort_values(by=\"Entry Time\")\n",
    "                    stats = generate_stats(tb, variation)\n",
    "\n",
    "                    for overall_roi_dd_ratio, stats_df in stats.items():\n",
    "                        if overall_roi_dd_ratio is not None and overall_roi_dd_ratio > 10:\n",
    "                            print(stats_df.to_string())\n",
    "                            stats_dictionary[overall_roi_dd_ratio] = stats_df"
   ]
  },
  {
   "cell_type": "code",
   "execution_count": null,
   "id": "d4c47b09-7b1b-4499-9f42-7c96312fcf82",
   "metadata": {},
   "outputs": [],
   "source": []
  }
 ],
 "metadata": {
  "kernelspec": {
   "display_name": "Python 3 (ipykernel)",
   "language": "python",
   "name": "python3"
  },
  "language_info": {
   "codemirror_mode": {
    "name": "ipython",
    "version": 3
   },
   "file_extension": ".py",
   "mimetype": "text/x-python",
   "name": "python",
   "nbconvert_exporter": "python",
   "pygments_lexer": "ipython3",
   "version": "3.11.0rc1"
  }
 },
 "nbformat": 4,
 "nbformat_minor": 5
}
