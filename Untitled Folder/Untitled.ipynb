{
 "cells": [
  {
   "cell_type": "code",
   "execution_count": 2,
   "id": "4ff070ae-7673-4475-a389-d2d81636290f",
   "metadata": {
    "execution": {
     "iopub.execute_input": "2025-01-27T05:55:37.315440Z",
     "iopub.status.busy": "2025-01-27T05:55:37.314966Z",
     "iopub.status.idle": "2025-01-27T05:55:37.982589Z",
     "shell.execute_reply": "2025-01-27T05:55:37.981467Z",
     "shell.execute_reply.started": "2025-01-27T05:55:37.315419Z"
    }
   },
   "outputs": [],
   "source": [
    "import pandas as pd"
   ]
  },
  {
   "cell_type": "code",
   "execution_count": 14,
   "id": "c7e6126d-d0bf-4116-b2d7-9d741739fa60",
   "metadata": {
    "execution": {
     "iopub.execute_input": "2025-01-27T05:57:15.785272Z",
     "iopub.status.busy": "2025-01-27T05:57:15.784546Z",
     "iopub.status.idle": "2025-01-27T05:57:15.925655Z",
     "shell.execute_reply": "2025-01-27T05:57:15.924586Z",
     "shell.execute_reply.started": "2025-01-27T05:57:15.785245Z"
    }
   },
   "outputs": [],
   "source": [
    "import sys\n",
    "sys.path.append(\"..\")\n",
    "df = pd.read_csv(\"../data/sensex_min (1).csv\")"
   ]
  },
  {
   "cell_type": "code",
   "execution_count": 15,
   "id": "50d380b0-e33f-4b7c-9734-2a99b1529326",
   "metadata": {
    "execution": {
     "iopub.execute_input": "2025-01-27T05:57:16.577543Z",
     "iopub.status.busy": "2025-01-27T05:57:16.576500Z",
     "iopub.status.idle": "2025-01-27T05:57:16.590197Z",
     "shell.execute_reply": "2025-01-27T05:57:16.588984Z",
     "shell.execute_reply.started": "2025-01-27T05:57:16.577521Z"
    }
   },
   "outputs": [
    {
     "data": {
      "text/html": [
       "<div>\n",
       "<style scoped>\n",
       "    .dataframe tbody tr th:only-of-type {\n",
       "        vertical-align: middle;\n",
       "    }\n",
       "\n",
       "    .dataframe tbody tr th {\n",
       "        vertical-align: top;\n",
       "    }\n",
       "\n",
       "    .dataframe thead th {\n",
       "        text-align: right;\n",
       "    }\n",
       "</style>\n",
       "<table border=\"1\" class=\"dataframe\">\n",
       "  <thead>\n",
       "    <tr style=\"text-align: right;\">\n",
       "      <th></th>\n",
       "      <th>0</th>\n",
       "      <th>1</th>\n",
       "      <th>2</th>\n",
       "      <th>3</th>\n",
       "      <th>4</th>\n",
       "      <th>5</th>\n",
       "      <th>6</th>\n",
       "    </tr>\n",
       "  </thead>\n",
       "  <tbody>\n",
       "    <tr>\n",
       "      <th>0</th>\n",
       "      <td>sensex</td>\n",
       "      <td>2023-08-28 09:15:00</td>\n",
       "      <td>64940.5703</td>\n",
       "      <td>65045.7891</td>\n",
       "      <td>64776.9219</td>\n",
       "      <td>65043.9414</td>\n",
       "      <td>0</td>\n",
       "    </tr>\n",
       "    <tr>\n",
       "      <th>1</th>\n",
       "      <td>sensex</td>\n",
       "      <td>2023-08-28 09:16:00</td>\n",
       "      <td>65050.3789</td>\n",
       "      <td>65064.1406</td>\n",
       "      <td>65012.7500</td>\n",
       "      <td>65012.7500</td>\n",
       "      <td>0</td>\n",
       "    </tr>\n",
       "    <tr>\n",
       "      <th>2</th>\n",
       "      <td>sensex</td>\n",
       "      <td>2023-08-28 09:17:00</td>\n",
       "      <td>65016.3516</td>\n",
       "      <td>65026.8086</td>\n",
       "      <td>64988.6406</td>\n",
       "      <td>65003.1992</td>\n",
       "      <td>0</td>\n",
       "    </tr>\n",
       "    <tr>\n",
       "      <th>3</th>\n",
       "      <td>sensex</td>\n",
       "      <td>2023-08-28 09:18:00</td>\n",
       "      <td>64999.4688</td>\n",
       "      <td>65007.4414</td>\n",
       "      <td>64974.5781</td>\n",
       "      <td>64986.8594</td>\n",
       "      <td>0</td>\n",
       "    </tr>\n",
       "    <tr>\n",
       "      <th>4</th>\n",
       "      <td>sensex</td>\n",
       "      <td>2023-08-28 09:19:00</td>\n",
       "      <td>64990.4805</td>\n",
       "      <td>65008.2109</td>\n",
       "      <td>64946.6797</td>\n",
       "      <td>64952.8203</td>\n",
       "      <td>0</td>\n",
       "    </tr>\n",
       "  </tbody>\n",
       "</table>\n",
       "</div>"
      ],
      "text/plain": [
       "        0                    1           2           3           4  \\\n",
       "0  sensex  2023-08-28 09:15:00  64940.5703  65045.7891  64776.9219   \n",
       "1  sensex  2023-08-28 09:16:00  65050.3789  65064.1406  65012.7500   \n",
       "2  sensex  2023-08-28 09:17:00  65016.3516  65026.8086  64988.6406   \n",
       "3  sensex  2023-08-28 09:18:00  64999.4688  65007.4414  64974.5781   \n",
       "4  sensex  2023-08-28 09:19:00  64990.4805  65008.2109  64946.6797   \n",
       "\n",
       "            5  6  \n",
       "0  65043.9414  0  \n",
       "1  65012.7500  0  \n",
       "2  65003.1992  0  \n",
       "3  64986.8594  0  \n",
       "4  64952.8203  0  "
      ]
     },
     "execution_count": 15,
     "metadata": {},
     "output_type": "execute_result"
    }
   ],
   "source": [
    "df.head()"
   ]
  },
  {
   "cell_type": "code",
   "execution_count": 16,
   "id": "7dbaed91-d667-4c1b-9015-23c1f26c6389",
   "metadata": {
    "execution": {
     "iopub.execute_input": "2025-01-27T05:57:16.818536Z",
     "iopub.status.busy": "2025-01-27T05:57:16.817909Z",
     "iopub.status.idle": "2025-01-27T05:57:16.829195Z",
     "shell.execute_reply": "2025-01-27T05:57:16.828015Z",
     "shell.execute_reply.started": "2025-01-27T05:57:16.818517Z"
    }
   },
   "outputs": [
    {
     "data": {
      "text/html": [
       "<div>\n",
       "<style scoped>\n",
       "    .dataframe tbody tr th:only-of-type {\n",
       "        vertical-align: middle;\n",
       "    }\n",
       "\n",
       "    .dataframe tbody tr th {\n",
       "        vertical-align: top;\n",
       "    }\n",
       "\n",
       "    .dataframe thead th {\n",
       "        text-align: right;\n",
       "    }\n",
       "</style>\n",
       "<table border=\"1\" class=\"dataframe\">\n",
       "  <thead>\n",
       "    <tr style=\"text-align: right;\">\n",
       "      <th></th>\n",
       "      <th>0</th>\n",
       "      <th>1</th>\n",
       "      <th>2</th>\n",
       "      <th>3</th>\n",
       "      <th>4</th>\n",
       "      <th>5</th>\n",
       "      <th>6</th>\n",
       "    </tr>\n",
       "  </thead>\n",
       "  <tbody>\n",
       "    <tr>\n",
       "      <th>123790</th>\n",
       "      <td>sensex</td>\n",
       "      <td>2024-12-31 15:25:00</td>\n",
       "      <td>78150.03</td>\n",
       "      <td>78179.34</td>\n",
       "      <td>78146.03</td>\n",
       "      <td>78174.08</td>\n",
       "      <td>0</td>\n",
       "    </tr>\n",
       "    <tr>\n",
       "      <th>123791</th>\n",
       "      <td>sensex</td>\n",
       "      <td>2024-12-31 15:26:00</td>\n",
       "      <td>78172.96</td>\n",
       "      <td>78198.02</td>\n",
       "      <td>78171.12</td>\n",
       "      <td>78188.46</td>\n",
       "      <td>0</td>\n",
       "    </tr>\n",
       "    <tr>\n",
       "      <th>123792</th>\n",
       "      <td>sensex</td>\n",
       "      <td>2024-12-31 15:27:00</td>\n",
       "      <td>78187.27</td>\n",
       "      <td>78194.56</td>\n",
       "      <td>78169.02</td>\n",
       "      <td>78192.19</td>\n",
       "      <td>0</td>\n",
       "    </tr>\n",
       "    <tr>\n",
       "      <th>123793</th>\n",
       "      <td>sensex</td>\n",
       "      <td>2024-12-31 15:28:00</td>\n",
       "      <td>78197.03</td>\n",
       "      <td>78207.24</td>\n",
       "      <td>78181.78</td>\n",
       "      <td>78207.24</td>\n",
       "      <td>0</td>\n",
       "    </tr>\n",
       "    <tr>\n",
       "      <th>123794</th>\n",
       "      <td>sensex</td>\n",
       "      <td>2024-12-31 15:29:00</td>\n",
       "      <td>78208.80</td>\n",
       "      <td>78226.47</td>\n",
       "      <td>78183.53</td>\n",
       "      <td>78226.47</td>\n",
       "      <td>0</td>\n",
       "    </tr>\n",
       "  </tbody>\n",
       "</table>\n",
       "</div>"
      ],
      "text/plain": [
       "             0                    1         2         3         4         5  6\n",
       "123790  sensex  2024-12-31 15:25:00  78150.03  78179.34  78146.03  78174.08  0\n",
       "123791  sensex  2024-12-31 15:26:00  78172.96  78198.02  78171.12  78188.46  0\n",
       "123792  sensex  2024-12-31 15:27:00  78187.27  78194.56  78169.02  78192.19  0\n",
       "123793  sensex  2024-12-31 15:28:00  78197.03  78207.24  78181.78  78207.24  0\n",
       "123794  sensex  2024-12-31 15:29:00  78208.80  78226.47  78183.53  78226.47  0"
      ]
     },
     "execution_count": 16,
     "metadata": {},
     "output_type": "execute_result"
    }
   ],
   "source": [
    "df.tail()"
   ]
  },
  {
   "cell_type": "code",
   "execution_count": 17,
   "id": "5861beac-f0b4-4f3c-bdc4-e31b22a811c2",
   "metadata": {
    "execution": {
     "iopub.execute_input": "2025-01-27T05:57:19.509568Z",
     "iopub.status.busy": "2025-01-27T05:57:19.509064Z",
     "iopub.status.idle": "2025-01-27T05:57:19.907480Z",
     "shell.execute_reply": "2025-01-27T05:57:19.906214Z",
     "shell.execute_reply.started": "2025-01-27T05:57:19.509549Z"
    }
   },
   "outputs": [],
   "source": [
    "# df = pd.DataFrame(data)\n",
    "\n",
    "# Rename columns\n",
    "df.columns = ['instrument', 'datetime', 'open', 'high', 'low', 'close', 'volume']\n",
    "\n",
    "# Save the updated DataFrame to a CSV file\n",
    "df.to_csv('sensex_min_w_cols.csv', index=False)"
   ]
  },
  {
   "cell_type": "code",
   "execution_count": 8,
   "id": "1e36f773-1367-4aa7-8920-91eab4732a93",
   "metadata": {
    "execution": {
     "iopub.execute_input": "2025-01-27T05:55:55.453965Z",
     "iopub.status.busy": "2025-01-27T05:55:55.453680Z",
     "iopub.status.idle": "2025-01-27T05:55:55.464884Z",
     "shell.execute_reply": "2025-01-27T05:55:55.463652Z",
     "shell.execute_reply.started": "2025-01-27T05:55:55.453946Z"
    }
   },
   "outputs": [
    {
     "data": {
      "text/html": [
       "<div>\n",
       "<style scoped>\n",
       "    .dataframe tbody tr th:only-of-type {\n",
       "        vertical-align: middle;\n",
       "    }\n",
       "\n",
       "    .dataframe tbody tr th {\n",
       "        vertical-align: top;\n",
       "    }\n",
       "\n",
       "    .dataframe thead th {\n",
       "        text-align: right;\n",
       "    }\n",
       "</style>\n",
       "<table border=\"1\" class=\"dataframe\">\n",
       "  <thead>\n",
       "    <tr style=\"text-align: right;\">\n",
       "      <th></th>\n",
       "      <th>instrument</th>\n",
       "      <th>datetime</th>\n",
       "      <th>open</th>\n",
       "      <th>high</th>\n",
       "      <th>low</th>\n",
       "      <th>close</th>\n",
       "      <th>volume</th>\n",
       "    </tr>\n",
       "  </thead>\n",
       "  <tbody>\n",
       "    <tr>\n",
       "      <th>0</th>\n",
       "      <td>bnf</td>\n",
       "      <td>2017-01-02 09:15:00</td>\n",
       "      <td>18242.30</td>\n",
       "      <td>18248.20</td>\n",
       "      <td>18175.90</td>\n",
       "      <td>18181.20</td>\n",
       "      <td>0</td>\n",
       "    </tr>\n",
       "    <tr>\n",
       "      <th>1</th>\n",
       "      <td>bnf</td>\n",
       "      <td>2017-01-02 09:16:00</td>\n",
       "      <td>18181.85</td>\n",
       "      <td>18194.70</td>\n",
       "      <td>18179.95</td>\n",
       "      <td>18184.45</td>\n",
       "      <td>0</td>\n",
       "    </tr>\n",
       "    <tr>\n",
       "      <th>2</th>\n",
       "      <td>bnf</td>\n",
       "      <td>2017-01-02 09:17:00</td>\n",
       "      <td>18184.95</td>\n",
       "      <td>18189.25</td>\n",
       "      <td>18133.80</td>\n",
       "      <td>18133.80</td>\n",
       "      <td>0</td>\n",
       "    </tr>\n",
       "    <tr>\n",
       "      <th>3</th>\n",
       "      <td>bnf</td>\n",
       "      <td>2017-01-02 09:18:00</td>\n",
       "      <td>18135.10</td>\n",
       "      <td>18141.55</td>\n",
       "      <td>18118.55</td>\n",
       "      <td>18138.95</td>\n",
       "      <td>0</td>\n",
       "    </tr>\n",
       "    <tr>\n",
       "      <th>4</th>\n",
       "      <td>bnf</td>\n",
       "      <td>2017-01-02 09:19:00</td>\n",
       "      <td>18138.95</td>\n",
       "      <td>18142.55</td>\n",
       "      <td>18120.45</td>\n",
       "      <td>18124.30</td>\n",
       "      <td>0</td>\n",
       "    </tr>\n",
       "  </tbody>\n",
       "</table>\n",
       "</div>"
      ],
      "text/plain": [
       "  instrument             datetime      open      high       low     close  \\\n",
       "0        bnf  2017-01-02 09:15:00  18242.30  18248.20  18175.90  18181.20   \n",
       "1        bnf  2017-01-02 09:16:00  18181.85  18194.70  18179.95  18184.45   \n",
       "2        bnf  2017-01-02 09:17:00  18184.95  18189.25  18133.80  18133.80   \n",
       "3        bnf  2017-01-02 09:18:00  18135.10  18141.55  18118.55  18138.95   \n",
       "4        bnf  2017-01-02 09:19:00  18138.95  18142.55  18120.45  18124.30   \n",
       "\n",
       "   volume  \n",
       "0       0  \n",
       "1       0  \n",
       "2       0  \n",
       "3       0  \n",
       "4       0  "
      ]
     },
     "execution_count": 8,
     "metadata": {},
     "output_type": "execute_result"
    }
   ],
   "source": [
    "df.head()"
   ]
  },
  {
   "cell_type": "code",
   "execution_count": 14,
   "id": "4986eeb9-6099-4823-a2c6-a41d2bdf0871",
   "metadata": {
    "execution": {
     "iopub.execute_input": "2025-01-22T06:03:11.579760Z",
     "iopub.status.busy": "2025-01-22T06:03:11.578956Z",
     "iopub.status.idle": "2025-01-22T06:03:11.586121Z",
     "shell.execute_reply": "2025-01-22T06:03:11.584489Z",
     "shell.execute_reply.started": "2025-01-22T06:03:11.579730Z"
    }
   },
   "outputs": [],
   "source": [
    "# df.columns"
   ]
  },
  {
   "cell_type": "code",
   "execution_count": 15,
   "id": "c55919aa-cb52-44a9-9047-438ccd3143c7",
   "metadata": {
    "execution": {
     "iopub.execute_input": "2025-01-22T06:03:29.053506Z",
     "iopub.status.busy": "2025-01-22T06:03:29.052441Z",
     "iopub.status.idle": "2025-01-22T06:03:29.994527Z",
     "shell.execute_reply": "2025-01-22T06:03:29.992593Z",
     "shell.execute_reply.started": "2025-01-22T06:03:29.053462Z"
    }
   },
   "outputs": [],
   "source": [
    "df2 = pd.read_csv('nifty_min_17_24.csv')"
   ]
  },
  {
   "cell_type": "code",
   "execution_count": 16,
   "id": "6de40e03-e7c5-4999-b3fe-9db08fe6573b",
   "metadata": {
    "execution": {
     "iopub.execute_input": "2025-01-22T06:03:33.531866Z",
     "iopub.status.busy": "2025-01-22T06:03:33.531312Z",
     "iopub.status.idle": "2025-01-22T06:03:33.552424Z",
     "shell.execute_reply": "2025-01-22T06:03:33.550721Z",
     "shell.execute_reply.started": "2025-01-22T06:03:33.531797Z"
    }
   },
   "outputs": [
    {
     "data": {
      "text/html": [
       "<div>\n",
       "<style scoped>\n",
       "    .dataframe tbody tr th:only-of-type {\n",
       "        vertical-align: middle;\n",
       "    }\n",
       "\n",
       "    .dataframe tbody tr th {\n",
       "        vertical-align: top;\n",
       "    }\n",
       "\n",
       "    .dataframe thead th {\n",
       "        text-align: right;\n",
       "    }\n",
       "</style>\n",
       "<table border=\"1\" class=\"dataframe\">\n",
       "  <thead>\n",
       "    <tr style=\"text-align: right;\">\n",
       "      <th></th>\n",
       "      <th>instrument</th>\n",
       "      <th>datetime</th>\n",
       "      <th>open</th>\n",
       "      <th>high</th>\n",
       "      <th>low</th>\n",
       "      <th>close</th>\n",
       "      <th>volume</th>\n",
       "    </tr>\n",
       "  </thead>\n",
       "  <tbody>\n",
       "    <tr>\n",
       "      <th>0</th>\n",
       "      <td>nifty</td>\n",
       "      <td>2017-01-02 09:15:00</td>\n",
       "      <td>8210.10</td>\n",
       "      <td>8211.70</td>\n",
       "      <td>8189.00</td>\n",
       "      <td>8189.55</td>\n",
       "      <td>0</td>\n",
       "    </tr>\n",
       "    <tr>\n",
       "      <th>1</th>\n",
       "      <td>nifty</td>\n",
       "      <td>2017-01-02 09:16:00</td>\n",
       "      <td>8188.75</td>\n",
       "      <td>8193.95</td>\n",
       "      <td>8188.75</td>\n",
       "      <td>8189.95</td>\n",
       "      <td>0</td>\n",
       "    </tr>\n",
       "    <tr>\n",
       "      <th>2</th>\n",
       "      <td>nifty</td>\n",
       "      <td>2017-01-02 09:17:00</td>\n",
       "      <td>8190.15</td>\n",
       "      <td>8190.75</td>\n",
       "      <td>8173.70</td>\n",
       "      <td>8173.70</td>\n",
       "      <td>0</td>\n",
       "    </tr>\n",
       "    <tr>\n",
       "      <th>3</th>\n",
       "      <td>nifty</td>\n",
       "      <td>2017-01-02 09:18:00</td>\n",
       "      <td>8173.35</td>\n",
       "      <td>8177.55</td>\n",
       "      <td>8169.15</td>\n",
       "      <td>8177.55</td>\n",
       "      <td>0</td>\n",
       "    </tr>\n",
       "    <tr>\n",
       "      <th>4</th>\n",
       "      <td>nifty</td>\n",
       "      <td>2017-01-02 09:19:00</td>\n",
       "      <td>8177.85</td>\n",
       "      <td>8178.15</td>\n",
       "      <td>8173.45</td>\n",
       "      <td>8174.40</td>\n",
       "      <td>0</td>\n",
       "    </tr>\n",
       "  </tbody>\n",
       "</table>\n",
       "</div>"
      ],
      "text/plain": [
       "  instrument             datetime     open     high      low    close  volume\n",
       "0      nifty  2017-01-02 09:15:00  8210.10  8211.70  8189.00  8189.55       0\n",
       "1      nifty  2017-01-02 09:16:00  8188.75  8193.95  8188.75  8189.95       0\n",
       "2      nifty  2017-01-02 09:17:00  8190.15  8190.75  8173.70  8173.70       0\n",
       "3      nifty  2017-01-02 09:18:00  8173.35  8177.55  8169.15  8177.55       0\n",
       "4      nifty  2017-01-02 09:19:00  8177.85  8178.15  8173.45  8174.40       0"
      ]
     },
     "execution_count": 16,
     "metadata": {},
     "output_type": "execute_result"
    }
   ],
   "source": [
    "df2.head()"
   ]
  },
  {
   "cell_type": "code",
   "execution_count": null,
   "id": "c85af141-1716-478d-8d12-35dd81c905b5",
   "metadata": {},
   "outputs": [],
   "source": []
  }
 ],
 "metadata": {
  "kernelspec": {
   "display_name": "Python 3 (ipykernel)",
   "language": "python",
   "name": "python3"
  },
  "language_info": {
   "codemirror_mode": {
    "name": "ipython",
    "version": 3
   },
   "file_extension": ".py",
   "mimetype": "text/x-python",
   "name": "python",
   "nbconvert_exporter": "python",
   "pygments_lexer": "ipython3",
   "version": "3.11.6"
  }
 },
 "nbformat": 4,
 "nbformat_minor": 5
}
