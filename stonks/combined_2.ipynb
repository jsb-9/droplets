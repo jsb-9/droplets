{
 "cells": [
  {
   "cell_type": "code",
   "execution_count": 1,
   "id": "da66ccb3-c5e7-4c94-b5e9-e2948c441768",
   "metadata": {
    "execution": {
     "iopub.execute_input": "2024-04-22T14:21:32.465275Z",
     "iopub.status.busy": "2024-04-22T14:21:32.464488Z",
     "iopub.status.idle": "2024-04-22T14:21:33.252053Z",
     "shell.execute_reply": "2024-04-22T14:21:33.251409Z",
     "shell.execute_reply.started": "2024-04-22T14:21:32.465252Z"
    }
   },
   "outputs": [],
   "source": [
    "import pandas as pd\n",
    "import polars as pl\n",
    "import numpy as np\n",
    "import datetime as dt\n",
    "import matplotlib.pyplot as plt\n",
    "import plotly.graph_objects as go\n",
    "import mplfinance as mpf\n",
    "from plotly.subplots import make_subplots\n",
    "from dash import Dash, dcc, html\n",
    "import pandas_market_calendars as mcal\n",
    "import sys\n",
    "import asyncio\n",
    "nse = mcal.get_calendar('NSE')"
   ]
  },
  {
   "cell_type": "code",
   "execution_count": 2,
   "id": "3b26fff4-8df0-4ff4-bbd3-6680a809f5e7",
   "metadata": {
    "execution": {
     "iopub.execute_input": "2024-04-22T14:21:39.119225Z",
     "iopub.status.busy": "2024-04-22T14:21:39.118848Z",
     "iopub.status.idle": "2024-04-22T14:21:39.311005Z",
     "shell.execute_reply": "2024-04-22T14:21:39.310025Z",
     "shell.execute_reply.started": "2024-04-22T14:21:39.119192Z"
    }
   },
   "outputs": [],
   "source": [
    "import sys\n",
    "sys.path.append('..')\n",
    "from tooling.filter import find_atm, option_tool\n",
    "from tooling.fetch import fetch_option_data, fetch_spot_data\n",
    "from tooling.filter import find_atm\n",
    "from tooling.enums import Index, AssetClass, StrikeSpread, Spot"
   ]
  },
  {
   "cell_type": "code",
   "execution_count": 3,
   "id": "db76eb93-3e3b-4bdf-ad01-efa3670683a3",
   "metadata": {
    "execution": {
     "iopub.execute_input": "2024-04-22T14:21:46.018199Z",
     "iopub.status.busy": "2024-04-22T14:21:46.017718Z",
     "iopub.status.idle": "2024-04-22T14:21:46.025777Z",
     "shell.execute_reply": "2024-04-22T14:21:46.024907Z",
     "shell.execute_reply.started": "2024-04-22T14:21:46.018168Z"
    }
   },
   "outputs": [
    {
     "data": {
      "text/plain": [
       "polars.config.Config"
      ]
     },
     "execution_count": 3,
     "metadata": {},
     "output_type": "execute_result"
    }
   ],
   "source": [
    "pd.set_option(\"display.max_rows\", 25_000)\n",
    "pd.set_option(\"display.max_columns\", 500)\n",
    "pl.Config.set_tbl_cols(500)\n",
    "pl.Config.set_tbl_rows(25_000)"
   ]
  },
  {
   "cell_type": "code",
   "execution_count": null,
   "id": "fc328683-bf0e-4458-9240-e0c4cacca576",
   "metadata": {},
   "outputs": [],
   "source": []
  }
 ],
 "metadata": {
  "kernelspec": {
   "display_name": "Python 3 (ipykernel)",
   "language": "python",
   "name": "python3"
  },
  "language_info": {
   "codemirror_mode": {
    "name": "ipython",
    "version": 3
   },
   "file_extension": ".py",
   "mimetype": "text/x-python",
   "name": "python",
   "nbconvert_exporter": "python",
   "pygments_lexer": "ipython3",
   "version": "3.11.6"
  }
 },
 "nbformat": 4,
 "nbformat_minor": 5
}
