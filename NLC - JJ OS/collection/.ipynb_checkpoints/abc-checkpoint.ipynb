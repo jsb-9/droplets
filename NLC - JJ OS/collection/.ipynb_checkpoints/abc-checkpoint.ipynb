{
 "cells": [
  {
   "cell_type": "code",
   "execution_count": 43,
   "id": "c040b48d-29bc-4490-8623-2f9cd76af814",
   "metadata": {
    "execution": {
     "iopub.execute_input": "2024-12-25T13:57:30.230732Z",
     "iopub.status.busy": "2024-12-25T13:57:30.229035Z",
     "iopub.status.idle": "2024-12-25T13:57:30.245499Z",
     "shell.execute_reply": "2024-12-25T13:57:30.244431Z",
     "shell.execute_reply.started": "2024-12-25T13:57:30.230682Z"
    }
   },
   "outputs": [],
   "source": [
    "import datetime as dt\n",
    "import math\n",
    "\n",
    "import matplotlib.pyplot as plt\n",
    "import mplfinance as mpf\n",
    "import numpy as np\n",
    "import pandas as pd\n",
    "import pandas_market_calendars as mcal\n",
    "import plotly.graph_objects as go\n",
    "import polars as pl\n",
    "from dash import Dash, dcc, html\n",
    "from plotly.subplots import make_subplots\n",
    "\n",
    "nse = mcal.get_calendar(\"NSE\")\n",
    "\n",
    "pd.set_option(\"display.max_rows\", 25_000)\n",
    "pd.set_option(\"display.max_columns\", 500)\n",
    "pl.Config.set_tbl_cols(500)\n",
    "pl.Config.set_tbl_rows(10_000)\n",
    "\n",
    "pd.options.display.float_format = \"{:.4f}\".format\n",
    "\n",
    "import sys\n",
    "\n",
    "sys.path.append(\"..\")\n",
    "# from tooling.enums import AssetClass, Index, Spot, StrikeSpread\n",
    "# from tooling.fetch import fetch_option_data, fetch_spot_data\n",
    "# from tooling.filter import find_atm, option_tool\n",
    "\n",
    "from fetching_from_local_db.enums import AssetClass, Index, StrikeSpread\n",
    "from fetching_from_local_db.fetch_from_db import (\n",
    "    _fetch_batch,\n",
    "    fetch_data,\n",
    "    fetch_spot_data,\n",
    ")"
   ]
  },
  {
   "cell_type": "code",
   "execution_count": 44,
   "id": "22c4f395-9db2-4487-9fb3-8e6bd7a0f04b",
   "metadata": {
    "execution": {
     "iopub.execute_input": "2024-12-25T13:57:30.377522Z",
     "iopub.status.busy": "2024-12-25T13:57:30.377075Z",
     "iopub.status.idle": "2024-12-25T13:57:30.394589Z",
     "shell.execute_reply": "2024-12-25T13:57:30.393567Z",
     "shell.execute_reply.started": "2024-12-25T13:57:30.377504Z"
    },
    "scrolled": true
   },
   "outputs": [],
   "source": [
    "bnf_pandas = pd.read_csv(\"../data/nifty_opt2.csv\")\n",
    "bnf_pandas[\"time\"] = pd.to_datetime(bnf_pandas[\"time\"])\n",
    "bnf_pandas[\"time\"] = bnf_pandas[\"time\"].dt.tz_localize(None)\n",
    "bnf_pandas = bnf_pandas[bnf_pandas[\"time\"].dt.year >= 2017]\n",
    "bnf_pandas['datetime'] = bnf_pandas['time']"
   ]
  },
  {
   "cell_type": "code",
   "execution_count": 45,
   "id": "789873a1-8051-4c46-ae98-afc095a5d0e7",
   "metadata": {
    "execution": {
     "iopub.execute_input": "2024-12-25T13:57:30.527389Z",
     "iopub.status.busy": "2024-12-25T13:57:30.526970Z",
     "iopub.status.idle": "2024-12-25T13:57:30.537014Z",
     "shell.execute_reply": "2024-12-25T13:57:30.536097Z",
     "shell.execute_reply.started": "2024-12-25T13:57:30.527363Z"
    }
   },
   "outputs": [
    {
     "name": "stdout",
     "output_type": "stream",
     "text": [
      "<class 'polars.dataframe.frame.DataFrame'>\n"
     ]
    }
   ],
   "source": [
    "bnf = pl.DataFrame(bnf_pandas)\n",
    "print(type(bnf))\n",
    "# bnf\n",
    "bnf = bnf.with_columns([pl.col(\"datetime\").alias(\"index\")]).drop(\"datetime\")\n",
    "bnf = bnf.with_columns(pl.col(\"index\").alias(\"datetime\"))"
   ]
  },
  {
   "cell_type": "code",
   "execution_count": 46,
   "id": "a4a83862-bfa2-4f3d-86e4-dedbbdfdeb88",
   "metadata": {
    "execution": {
     "iopub.execute_input": "2024-12-25T13:57:30.671516Z",
     "iopub.status.busy": "2024-12-25T13:57:30.670922Z",
     "iopub.status.idle": "2024-12-25T13:57:30.678388Z",
     "shell.execute_reply": "2024-12-25T13:57:30.677468Z",
     "shell.execute_reply.started": "2024-12-25T13:57:30.671490Z"
    }
   },
   "outputs": [],
   "source": [
    "import pandas as pd\n",
    "\n",
    "def calculate_tradingview_rsi(df, column_name=\"close\", rsi_period=14):\n",
    "    \"\"\"\n",
    "    Calculate RSI matching TradingView's methodology using RMA (Relative Moving Average).\n",
    "\n",
    "    Parameters:\n",
    "    - df (pd.DataFrame): DataFrame containing the data.\n",
    "    - column_name (str): Column name to calculate RSI on (default is 'close').\n",
    "    - rsi_period (int): Period for the RSI calculation (default is 14).\n",
    "\n",
    "    Returns:\n",
    "    - pd.DataFrame: Original DataFrame with an added 'RSI' column matching TradingView's RSI.\n",
    "    \"\"\"\n",
    "    if column_name not in df.columns:\n",
    "        raise ValueError(f\"The column '{column_name}' is not in the DataFrame.\")\n",
    "    \n",
    "    # Ensure the input column is numeric\n",
    "    if not pd.api.types.is_numeric_dtype(df[column_name]):\n",
    "        raise TypeError(f\"The column '{column_name}' must be numeric.\")\n",
    "    \n",
    "    # Calculate price changes\n",
    "    delta = df[column_name].diff()\n",
    "    gain = delta.where(delta > 0, 0)\n",
    "    loss = -delta.where(delta < 0, 0)\n",
    "\n",
    "    # Calculate RMA for gain and loss\n",
    "    rma_gain = gain.ewm(alpha=1 / rsi_period, adjust=False).mean()\n",
    "    rma_loss = loss.ewm(alpha=1 / rsi_period, adjust=False).mean()\n",
    "\n",
    "    # Compute RSI\n",
    "    rs = rma_gain / rma_loss\n",
    "    df[\"RSI_Coded\"] = 100 - (100 / (1 + rs))\n",
    "    \n",
    "    return df\n"
   ]
  },
  {
   "cell_type": "code",
   "execution_count": 47,
   "id": "67885c3c-6ecc-4363-bf9d-20d0f1162255",
   "metadata": {
    "execution": {
     "iopub.execute_input": "2024-12-25T13:57:30.813535Z",
     "iopub.status.busy": "2024-12-25T13:57:30.813222Z",
     "iopub.status.idle": "2024-12-25T13:57:30.819243Z",
     "shell.execute_reply": "2024-12-25T13:57:30.817994Z",
     "shell.execute_reply.started": "2024-12-25T13:57:30.813519Z"
    }
   },
   "outputs": [],
   "source": [
    "def calculate_rsi_2(df, rsi_n):\n",
    "    delta = df['close'].diff()\n",
    "    gain = np.where(delta > 0, delta, 0)\n",
    "    loss = np.where(delta < 0, -delta, 0)\n",
    "\n",
    "    avg_gain = pd.Series(gain).rolling(window=rsi_n, min_periods=rsi_n).mean()\n",
    "    avg_loss = pd.Series(loss).rolling(window=rsi_n, min_periods=rsi_n).mean()\n",
    "\n",
    "    rs = avg_gain / avg_loss\n",
    "    df['RSI Coded2'] = 100 - (100 / (1 + rs))\n",
    "\n",
    "    return df"
   ]
  },
  {
   "cell_type": "code",
   "execution_count": 48,
   "id": "84edc00a-ccf1-4b40-853b-d8a798b8f129",
   "metadata": {
    "execution": {
     "iopub.execute_input": "2024-12-25T13:57:31.050616Z",
     "iopub.status.busy": "2024-12-25T13:57:31.049789Z",
     "iopub.status.idle": "2024-12-25T13:57:31.058645Z",
     "shell.execute_reply": "2024-12-25T13:57:31.057739Z",
     "shell.execute_reply.started": "2024-12-25T13:57:31.050589Z"
    }
   },
   "outputs": [
    {
     "data": {
      "text/html": [
       "<div><style>\n",
       ".dataframe > thead > tr,\n",
       ".dataframe > tbody > tr {\n",
       "  text-align: right;\n",
       "  white-space: pre-wrap;\n",
       "}\n",
       "</style>\n",
       "<small>shape: (5, 9)</small><table border=\"1\" class=\"dataframe\"><thead><tr><th>time</th><th>open</th><th>high</th><th>low</th><th>close</th><th>RSI</th><th>RSI.1</th><th>index</th><th>datetime</th></tr><tr><td>datetime[ns]</td><td>f64</td><td>f64</td><td>f64</td><td>f64</td><td>f64</td><td>f64</td><td>datetime[ns]</td><td>datetime[ns]</td></tr></thead><tbody><tr><td>2024-12-24 15:05:00</td><td>44.15</td><td>46.75</td><td>43.1</td><td>43.8</td><td>50.211853</td><td>47.99609</td><td>2024-12-24 15:05:00</td><td>2024-12-24 15:05:00</td></tr><tr><td>2024-12-24 15:10:00</td><td>43.75</td><td>46.35</td><td>42.85</td><td>45.6</td><td>52.326943</td><td>49.763928</td><td>2024-12-24 15:10:00</td><td>2024-12-24 15:10:00</td></tr><tr><td>2024-12-24 15:15:00</td><td>45.6</td><td>45.6</td><td>39.65</td><td>41.45</td><td>47.334212</td><td>39.408867</td><td>2024-12-24 15:15:00</td><td>2024-12-24 15:15:00</td></tr><tr><td>2024-12-24 15:20:00</td><td>42.0</td><td>43.55</td><td>40.85</td><td>43.2</td><td>49.521441</td><td>52.34657</td><td>2024-12-24 15:20:00</td><td>2024-12-24 15:20:00</td></tr><tr><td>2024-12-24 15:25:00</td><td>43.35</td><td>43.85</td><td>40.3</td><td>41.05</td><td>46.942074</td><td>27.6771</td><td>2024-12-24 15:25:00</td><td>2024-12-24 15:25:00</td></tr></tbody></table></div>"
      ],
      "text/plain": [
       "shape: (5, 9)\n",
       "┌──────────────┬───────┬───────┬───────┬───────┬───────────┬───────────┬─────────────┬─────────────┐\n",
       "│ time         ┆ open  ┆ high  ┆ low   ┆ close ┆ RSI       ┆ RSI.1     ┆ index       ┆ datetime    │\n",
       "│ ---          ┆ ---   ┆ ---   ┆ ---   ┆ ---   ┆ ---       ┆ ---       ┆ ---         ┆ ---         │\n",
       "│ datetime[ns] ┆ f64   ┆ f64   ┆ f64   ┆ f64   ┆ f64       ┆ f64       ┆ datetime[ns ┆ datetime[ns │\n",
       "│              ┆       ┆       ┆       ┆       ┆           ┆           ┆ ]           ┆ ]           │\n",
       "╞══════════════╪═══════╪═══════╪═══════╪═══════╪═══════════╪═══════════╪═════════════╪═════════════╡\n",
       "│ 2024-12-24   ┆ 44.15 ┆ 46.75 ┆ 43.1  ┆ 43.8  ┆ 50.211853 ┆ 47.99609  ┆ 2024-12-24  ┆ 2024-12-24  │\n",
       "│ 15:05:00     ┆       ┆       ┆       ┆       ┆           ┆           ┆ 15:05:00    ┆ 15:05:00    │\n",
       "│ 2024-12-24   ┆ 43.75 ┆ 46.35 ┆ 42.85 ┆ 45.6  ┆ 52.326943 ┆ 49.763928 ┆ 2024-12-24  ┆ 2024-12-24  │\n",
       "│ 15:10:00     ┆       ┆       ┆       ┆       ┆           ┆           ┆ 15:10:00    ┆ 15:10:00    │\n",
       "│ 2024-12-24   ┆ 45.6  ┆ 45.6  ┆ 39.65 ┆ 41.45 ┆ 47.334212 ┆ 39.408867 ┆ 2024-12-24  ┆ 2024-12-24  │\n",
       "│ 15:15:00     ┆       ┆       ┆       ┆       ┆           ┆           ┆ 15:15:00    ┆ 15:15:00    │\n",
       "│ 2024-12-24   ┆ 42.0  ┆ 43.55 ┆ 40.85 ┆ 43.2  ┆ 49.521441 ┆ 52.34657  ┆ 2024-12-24  ┆ 2024-12-24  │\n",
       "│ 15:20:00     ┆       ┆       ┆       ┆       ┆           ┆           ┆ 15:20:00    ┆ 15:20:00    │\n",
       "│ 2024-12-24   ┆ 43.35 ┆ 43.85 ┆ 40.3  ┆ 41.05 ┆ 46.942074 ┆ 27.6771   ┆ 2024-12-24  ┆ 2024-12-24  │\n",
       "│ 15:25:00     ┆       ┆       ┆       ┆       ┆           ┆           ┆ 15:25:00    ┆ 15:25:00    │\n",
       "└──────────────┴───────┴───────┴───────┴───────┴───────────┴───────────┴─────────────┴─────────────┘"
      ]
     },
     "execution_count": 48,
     "metadata": {},
     "output_type": "execute_result"
    }
   ],
   "source": [
    "bnf.tail()"
   ]
  },
  {
   "cell_type": "code",
   "execution_count": 49,
   "id": "7ddccd31-ee56-4908-906d-7785ed5d39aa",
   "metadata": {
    "execution": {
     "iopub.execute_input": "2024-12-25T13:57:31.176225Z",
     "iopub.status.busy": "2024-12-25T13:57:31.175581Z",
     "iopub.status.idle": "2024-12-25T13:57:31.190786Z",
     "shell.execute_reply": "2024-12-25T13:57:31.189326Z",
     "shell.execute_reply.started": "2024-12-25T13:57:31.176198Z"
    }
   },
   "outputs": [],
   "source": [
    "bnf2 = bnf.to_pandas()"
   ]
  },
  {
   "cell_type": "code",
   "execution_count": 50,
   "id": "d6b8da45-623d-495d-b117-4371f8c88980",
   "metadata": {
    "execution": {
     "iopub.execute_input": "2024-12-25T13:57:31.241977Z",
     "iopub.status.busy": "2024-12-25T13:57:31.241636Z",
     "iopub.status.idle": "2024-12-25T13:57:31.263110Z",
     "shell.execute_reply": "2024-12-25T13:57:31.256498Z",
     "shell.execute_reply.started": "2024-12-25T13:57:31.241960Z"
    }
   },
   "outputs": [
    {
     "data": {
      "text/html": [
       "<div>\n",
       "<style scoped>\n",
       "    .dataframe tbody tr th:only-of-type {\n",
       "        vertical-align: middle;\n",
       "    }\n",
       "\n",
       "    .dataframe tbody tr th {\n",
       "        vertical-align: top;\n",
       "    }\n",
       "\n",
       "    .dataframe thead th {\n",
       "        text-align: right;\n",
       "    }\n",
       "</style>\n",
       "<table border=\"1\" class=\"dataframe\">\n",
       "  <thead>\n",
       "    <tr style=\"text-align: right;\">\n",
       "      <th></th>\n",
       "      <th>time</th>\n",
       "      <th>open</th>\n",
       "      <th>high</th>\n",
       "      <th>low</th>\n",
       "      <th>close</th>\n",
       "      <th>RSI</th>\n",
       "      <th>RSI.1</th>\n",
       "      <th>index</th>\n",
       "      <th>datetime</th>\n",
       "      <th>RSI_Coded</th>\n",
       "    </tr>\n",
       "  </thead>\n",
       "  <tbody>\n",
       "    <tr>\n",
       "      <th>295</th>\n",
       "      <td>2024-12-24 15:05:00</td>\n",
       "      <td>44.1500</td>\n",
       "      <td>46.7500</td>\n",
       "      <td>43.1000</td>\n",
       "      <td>43.8000</td>\n",
       "      <td>50.2119</td>\n",
       "      <td>47.9961</td>\n",
       "      <td>2024-12-24 15:05:00</td>\n",
       "      <td>2024-12-24 15:05:00</td>\n",
       "      <td>50.2119</td>\n",
       "    </tr>\n",
       "    <tr>\n",
       "      <th>296</th>\n",
       "      <td>2024-12-24 15:10:00</td>\n",
       "      <td>43.7500</td>\n",
       "      <td>46.3500</td>\n",
       "      <td>42.8500</td>\n",
       "      <td>45.6000</td>\n",
       "      <td>52.3269</td>\n",
       "      <td>49.7639</td>\n",
       "      <td>2024-12-24 15:10:00</td>\n",
       "      <td>2024-12-24 15:10:00</td>\n",
       "      <td>52.3269</td>\n",
       "    </tr>\n",
       "    <tr>\n",
       "      <th>297</th>\n",
       "      <td>2024-12-24 15:15:00</td>\n",
       "      <td>45.6000</td>\n",
       "      <td>45.6000</td>\n",
       "      <td>39.6500</td>\n",
       "      <td>41.4500</td>\n",
       "      <td>47.3342</td>\n",
       "      <td>39.4089</td>\n",
       "      <td>2024-12-24 15:15:00</td>\n",
       "      <td>2024-12-24 15:15:00</td>\n",
       "      <td>47.3342</td>\n",
       "    </tr>\n",
       "    <tr>\n",
       "      <th>298</th>\n",
       "      <td>2024-12-24 15:20:00</td>\n",
       "      <td>42.0000</td>\n",
       "      <td>43.5500</td>\n",
       "      <td>40.8500</td>\n",
       "      <td>43.2000</td>\n",
       "      <td>49.5214</td>\n",
       "      <td>52.3466</td>\n",
       "      <td>2024-12-24 15:20:00</td>\n",
       "      <td>2024-12-24 15:20:00</td>\n",
       "      <td>49.5214</td>\n",
       "    </tr>\n",
       "    <tr>\n",
       "      <th>299</th>\n",
       "      <td>2024-12-24 15:25:00</td>\n",
       "      <td>43.3500</td>\n",
       "      <td>43.8500</td>\n",
       "      <td>40.3000</td>\n",
       "      <td>41.0500</td>\n",
       "      <td>46.9421</td>\n",
       "      <td>27.6771</td>\n",
       "      <td>2024-12-24 15:25:00</td>\n",
       "      <td>2024-12-24 15:25:00</td>\n",
       "      <td>46.9421</td>\n",
       "    </tr>\n",
       "  </tbody>\n",
       "</table>\n",
       "</div>"
      ],
      "text/plain": [
       "                   time    open    high     low   close     RSI   RSI.1  \\\n",
       "295 2024-12-24 15:05:00 44.1500 46.7500 43.1000 43.8000 50.2119 47.9961   \n",
       "296 2024-12-24 15:10:00 43.7500 46.3500 42.8500 45.6000 52.3269 49.7639   \n",
       "297 2024-12-24 15:15:00 45.6000 45.6000 39.6500 41.4500 47.3342 39.4089   \n",
       "298 2024-12-24 15:20:00 42.0000 43.5500 40.8500 43.2000 49.5214 52.3466   \n",
       "299 2024-12-24 15:25:00 43.3500 43.8500 40.3000 41.0500 46.9421 27.6771   \n",
       "\n",
       "                  index            datetime  RSI_Coded  \n",
       "295 2024-12-24 15:05:00 2024-12-24 15:05:00    50.2119  \n",
       "296 2024-12-24 15:10:00 2024-12-24 15:10:00    52.3269  \n",
       "297 2024-12-24 15:15:00 2024-12-24 15:15:00    47.3342  \n",
       "298 2024-12-24 15:20:00 2024-12-24 15:20:00    49.5214  \n",
       "299 2024-12-24 15:25:00 2024-12-24 15:25:00    46.9421  "
      ]
     },
     "execution_count": 50,
     "metadata": {},
     "output_type": "execute_result"
    }
   ],
   "source": [
    "bnf3 = calculate_tradingview_rsi(bnf2)\n",
    "bnf3.tail()"
   ]
  },
  {
   "cell_type": "code",
   "execution_count": 51,
   "id": "d43c848a-275b-41a9-83a9-0e4c12a9f4d8",
   "metadata": {
    "execution": {
     "iopub.execute_input": "2024-12-25T13:57:31.372931Z",
     "iopub.status.busy": "2024-12-25T13:57:31.371987Z",
     "iopub.status.idle": "2024-12-25T13:57:31.385986Z",
     "shell.execute_reply": "2024-12-25T13:57:31.384948Z",
     "shell.execute_reply.started": "2024-12-25T13:57:31.372893Z"
    }
   },
   "outputs": [
    {
     "data": {
      "text/html": [
       "<div>\n",
       "<style scoped>\n",
       "    .dataframe tbody tr th:only-of-type {\n",
       "        vertical-align: middle;\n",
       "    }\n",
       "\n",
       "    .dataframe tbody tr th {\n",
       "        vertical-align: top;\n",
       "    }\n",
       "\n",
       "    .dataframe thead th {\n",
       "        text-align: right;\n",
       "    }\n",
       "</style>\n",
       "<table border=\"1\" class=\"dataframe\">\n",
       "  <thead>\n",
       "    <tr style=\"text-align: right;\">\n",
       "      <th></th>\n",
       "      <th>time</th>\n",
       "      <th>open</th>\n",
       "      <th>high</th>\n",
       "      <th>low</th>\n",
       "      <th>close</th>\n",
       "      <th>RSI</th>\n",
       "      <th>RSI.1</th>\n",
       "      <th>index</th>\n",
       "      <th>datetime</th>\n",
       "      <th>RSI_Coded</th>\n",
       "      <th>RSI Coded2</th>\n",
       "    </tr>\n",
       "  </thead>\n",
       "  <tbody>\n",
       "    <tr>\n",
       "      <th>295</th>\n",
       "      <td>2024-12-24 15:05:00</td>\n",
       "      <td>44.1500</td>\n",
       "      <td>46.7500</td>\n",
       "      <td>43.1000</td>\n",
       "      <td>43.8000</td>\n",
       "      <td>50.2119</td>\n",
       "      <td>47.9961</td>\n",
       "      <td>2024-12-24 15:05:00</td>\n",
       "      <td>2024-12-24 15:05:00</td>\n",
       "      <td>50.2119</td>\n",
       "      <td>47.9961</td>\n",
       "    </tr>\n",
       "    <tr>\n",
       "      <th>296</th>\n",
       "      <td>2024-12-24 15:10:00</td>\n",
       "      <td>43.7500</td>\n",
       "      <td>46.3500</td>\n",
       "      <td>42.8500</td>\n",
       "      <td>45.6000</td>\n",
       "      <td>52.3269</td>\n",
       "      <td>49.7639</td>\n",
       "      <td>2024-12-24 15:10:00</td>\n",
       "      <td>2024-12-24 15:10:00</td>\n",
       "      <td>52.3269</td>\n",
       "      <td>49.7639</td>\n",
       "    </tr>\n",
       "    <tr>\n",
       "      <th>297</th>\n",
       "      <td>2024-12-24 15:15:00</td>\n",
       "      <td>45.6000</td>\n",
       "      <td>45.6000</td>\n",
       "      <td>39.6500</td>\n",
       "      <td>41.4500</td>\n",
       "      <td>47.3342</td>\n",
       "      <td>39.4089</td>\n",
       "      <td>2024-12-24 15:15:00</td>\n",
       "      <td>2024-12-24 15:15:00</td>\n",
       "      <td>47.3342</td>\n",
       "      <td>39.4089</td>\n",
       "    </tr>\n",
       "    <tr>\n",
       "      <th>298</th>\n",
       "      <td>2024-12-24 15:20:00</td>\n",
       "      <td>42.0000</td>\n",
       "      <td>43.5500</td>\n",
       "      <td>40.8500</td>\n",
       "      <td>43.2000</td>\n",
       "      <td>49.5214</td>\n",
       "      <td>52.3466</td>\n",
       "      <td>2024-12-24 15:20:00</td>\n",
       "      <td>2024-12-24 15:20:00</td>\n",
       "      <td>49.5214</td>\n",
       "      <td>52.3466</td>\n",
       "    </tr>\n",
       "    <tr>\n",
       "      <th>299</th>\n",
       "      <td>2024-12-24 15:25:00</td>\n",
       "      <td>43.3500</td>\n",
       "      <td>43.8500</td>\n",
       "      <td>40.3000</td>\n",
       "      <td>41.0500</td>\n",
       "      <td>46.9421</td>\n",
       "      <td>27.6771</td>\n",
       "      <td>2024-12-24 15:25:00</td>\n",
       "      <td>2024-12-24 15:25:00</td>\n",
       "      <td>46.9421</td>\n",
       "      <td>27.6771</td>\n",
       "    </tr>\n",
       "  </tbody>\n",
       "</table>\n",
       "</div>"
      ],
      "text/plain": [
       "                   time    open    high     low   close     RSI   RSI.1  \\\n",
       "295 2024-12-24 15:05:00 44.1500 46.7500 43.1000 43.8000 50.2119 47.9961   \n",
       "296 2024-12-24 15:10:00 43.7500 46.3500 42.8500 45.6000 52.3269 49.7639   \n",
       "297 2024-12-24 15:15:00 45.6000 45.6000 39.6500 41.4500 47.3342 39.4089   \n",
       "298 2024-12-24 15:20:00 42.0000 43.5500 40.8500 43.2000 49.5214 52.3466   \n",
       "299 2024-12-24 15:25:00 43.3500 43.8500 40.3000 41.0500 46.9421 27.6771   \n",
       "\n",
       "                  index            datetime  RSI_Coded  RSI Coded2  \n",
       "295 2024-12-24 15:05:00 2024-12-24 15:05:00    50.2119     47.9961  \n",
       "296 2024-12-24 15:10:00 2024-12-24 15:10:00    52.3269     49.7639  \n",
       "297 2024-12-24 15:15:00 2024-12-24 15:15:00    47.3342     39.4089  \n",
       "298 2024-12-24 15:20:00 2024-12-24 15:20:00    49.5214     52.3466  \n",
       "299 2024-12-24 15:25:00 2024-12-24 15:25:00    46.9421     27.6771  "
      ]
     },
     "execution_count": 51,
     "metadata": {},
     "output_type": "execute_result"
    }
   ],
   "source": [
    "bnf4 = calculate_rsi_2(bnf2, 14)\n",
    "bnf4.tail()"
   ]
  },
  {
   "cell_type": "markdown",
   "id": "e253b33d-44cc-44c4-953c-6bb2973d51f6",
   "metadata": {},
   "source": [
    "# NIFTY 26Dec 23700PE"
   ]
  },
  {
   "cell_type": "code",
   "execution_count": null,
   "id": "3b7dc3f1-b76e-4918-b1d5-6f9c775907bc",
   "metadata": {},
   "outputs": [],
   "source": []
  }
 ],
 "metadata": {
  "kernelspec": {
   "display_name": "Python 3 (ipykernel)",
   "language": "python",
   "name": "python3"
  },
  "language_info": {
   "codemirror_mode": {
    "name": "ipython",
    "version": 3
   },
   "file_extension": ".py",
   "mimetype": "text/x-python",
   "name": "python",
   "nbconvert_exporter": "python",
   "pygments_lexer": "ipython3",
   "version": "3.11.6"
  }
 },
 "nbformat": 4,
 "nbformat_minor": 5
}
