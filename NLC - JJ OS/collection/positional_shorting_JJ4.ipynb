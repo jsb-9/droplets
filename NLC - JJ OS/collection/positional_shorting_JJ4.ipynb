{
 "cells": [
  {
   "cell_type": "code",
   "execution_count": 1,
   "id": "d0e36f50-b09b-4da5-85c6-8c7da89c8cf6",
   "metadata": {
    "execution": {
     "iopub.execute_input": "2024-12-25T22:39:25.491350Z",
     "iopub.status.busy": "2024-12-25T22:39:25.490927Z",
     "iopub.status.idle": "2024-12-25T22:39:26.880990Z",
     "shell.execute_reply": "2024-12-25T22:39:26.879897Z",
     "shell.execute_reply.started": "2024-12-25T22:39:25.491329Z"
    }
   },
   "outputs": [],
   "source": [
    "import datetime as dt\n",
    "import math\n",
    "\n",
    "import matplotlib.pyplot as plt\n",
    "import mplfinance as mpf\n",
    "import numpy as np\n",
    "import pandas as pd\n",
    "import pandas_market_calendars as mcal\n",
    "import plotly.graph_objects as go\n",
    "import polars as pl\n",
    "from dash import Dash, dcc, html\n",
    "from plotly.subplots import make_subplots\n",
    "\n",
    "nse = mcal.get_calendar(\"NSE\")\n",
    "\n",
    "pd.set_option(\"display.max_rows\", 25_000)\n",
    "pd.set_option(\"display.max_columns\", 500)\n",
    "pl.Config.set_tbl_cols(500)\n",
    "pl.Config.set_tbl_rows(10_000)\n",
    "\n",
    "pd.options.display.float_format = \"{:.4f}\".format\n",
    "\n",
    "import sys\n",
    "\n",
    "sys.path.append(\"..\")\n",
    "# from tooling.enums import AssetClass, Index, Spot, StrikeSpread\n",
    "# from tooling.fetch import fetch_option_data, fetch_spot_data\n",
    "# from tooling.filter import find_atm, option_tool\n",
    "\n",
    "from fetching_from_local_db.enums import AssetClass, Index, StrikeSpread\n",
    "from fetching_from_local_db.fetch_from_db import (\n",
    "    _fetch_batch,\n",
    "    fetch_data,\n",
    "    fetch_spot_data,\n",
    ")"
   ]
  },
  {
   "cell_type": "code",
   "execution_count": 2,
   "id": "46c123b0-1b9a-4dd7-a6ad-cc7a947f437f",
   "metadata": {
    "execution": {
     "iopub.execute_input": "2024-12-25T22:39:26.882864Z",
     "iopub.status.busy": "2024-12-25T22:39:26.882349Z",
     "iopub.status.idle": "2024-12-25T22:39:26.899644Z",
     "shell.execute_reply": "2024-12-25T22:39:26.898635Z",
     "shell.execute_reply.started": "2024-12-25T22:39:26.882844Z"
    }
   },
   "outputs": [],
   "source": [
    "async def get_expiry(f_today):\n",
    "\n",
    "    if (f_today <= dt.date(2024, 1, 25)) and (f_today >= dt.date(2024, 1, 18)):\n",
    "        f_expiry = dt.date(2024, 1, 25)\n",
    "    elif (f_today <= dt.date(2024, 1, 31)) and (f_today >= dt.date(2024, 1, 26)):\n",
    "        f_expiry = dt.date(2024, 1, 31)\n",
    "    elif (f_today <= dt.date(2024, 2, 22)) and (f_today >= dt.date(2024, 2, 29)):\n",
    "        f_expiry = dt.date(2024, 2, 29)\n",
    "    elif (f_today <= dt.date(2024, 3, 25)) and (f_today >= dt.date(2024, 3, 27)):\n",
    "        f_expiry = dt.date(2024, 2, 27)\n",
    "    elif f_today < dt.date(2023, 9, 1):\n",
    "        days_to_thursday = (3 - f_today.weekday()) % 7\n",
    "        nearest_thursday = f_today + dt.timedelta(days=days_to_thursday)\n",
    "        f_expiry = nearest_thursday\n",
    "        if nse.valid_days(start_date=nearest_thursday, end_date=nearest_thursday).empty:\n",
    "            f_expiry = nearest_thursday - dt.timedelta(days=1)\n",
    "    elif f_today >= dt.date(2023, 9, 1):\n",
    "        if f_today.day < 24:\n",
    "            days_to_wednesday = (2 - f_today.weekday()) % 7\n",
    "            nearest_wednesday = f_today + dt.timedelta(days=days_to_wednesday)\n",
    "            f_expiry = nearest_wednesday\n",
    "            if nse.valid_days(\n",
    "                start_date=nearest_wednesday, end_date=nearest_wednesday\n",
    "            ).empty:\n",
    "                f_expiry = nearest_wednesday - dt.timedelta(days=1)\n",
    "        else:\n",
    "            days_to_thursday = (3 - f_today.weekday()) % 7\n",
    "            nearest_thursday = f_today + dt.timedelta(days=days_to_thursday)\n",
    "            f_expiry = nearest_thursday\n",
    "            if nse.valid_days(\n",
    "                start_date=nearest_thursday, end_date=nearest_thursday\n",
    "            ).empty:\n",
    "                f_expiry = nearest_thursday - dt.timedelta(days=1)\n",
    "    return f_expiry\n",
    "\n",
    "\n",
    "async def get_expiry_finnifty(f_today):\n",
    "\n",
    "    days_to_thursday = (1 - f_today.weekday()) % 7\n",
    "    nearest_thursday = f_today + dt.timedelta(days=days_to_thursday)\n",
    "    f_expiry = nearest_thursday\n",
    "    if nse.valid_days(start_date=nearest_thursday, end_date=nearest_thursday).empty:\n",
    "        f_expiry = nearest_thursday - dt.timedelta(days=1)\n",
    "    return f_expiry\n",
    "\n",
    "\n",
    "async def get_expiry_nifty(f_today):\n",
    "\n",
    "    days_to_thursday = (3 - f_today.weekday()) % 7\n",
    "    nearest_thursday = f_today + dt.timedelta(days=days_to_thursday)\n",
    "    f_expiry = nearest_thursday\n",
    "    if nse.valid_days(start_date=nearest_thursday, end_date=nearest_thursday).empty:\n",
    "        f_expiry = nearest_thursday - dt.timedelta(days=1)\n",
    "    return f_expiry\n",
    "\n",
    "\n",
    "async def get_expiry_midcpnifty(f_today):\n",
    "\n",
    "    days_to_thursday = (0 - f_today.weekday()) % 7\n",
    "    nearest_thursday = f_today + dt.timedelta(days=days_to_thursday)\n",
    "    f_expiry = nearest_thursday\n",
    "    if nse.valid_days(start_date=nearest_thursday, end_date=nearest_thursday).empty:\n",
    "        f_expiry = nearest_thursday - dt.timedelta(days=1)\n",
    "    return f_expiry\n",
    "\n",
    "\n",
    "import datetime as dt\n",
    "\n",
    "\n",
    "async def get_monthly_expiry_nifty(input_date):\n",
    "    # Get the last day of the current month\n",
    "    current_month_last_day = (\n",
    "        input_date.replace(day=28) + dt.timedelta(days=4)\n",
    "    ).replace(day=1) - dt.timedelta(days=1)\n",
    "\n",
    "    # Find the last Thursday of the current month\n",
    "    last_thursday_current_month = current_month_last_day - dt.timedelta(\n",
    "        days=(current_month_last_day.weekday() - 3) % 7\n",
    "    )\n",
    "\n",
    "    # Check if the current date is less than the last Thursday of the current month\n",
    "    if input_date < last_thursday_current_month:\n",
    "        last_thursday = last_thursday_current_month\n",
    "    else:\n",
    "        # If the current date has passed the last Thursday, find the last Thursday of the next month\n",
    "        next_month = (input_date.month % 12) + 1\n",
    "        next_month_year = input_date.year if next_month > 1 else input_date.year + 1\n",
    "\n",
    "        # Get the last day of the next month (considering February correctly)\n",
    "        if next_month == 2:  # February\n",
    "            if next_month_year % 4 == 0 and (\n",
    "                next_month_year % 100 != 0 or next_month_year % 400 == 0\n",
    "            ):\n",
    "                last_day_of_next_month = 29  # Leap year\n",
    "            else:\n",
    "                last_day_of_next_month = 28  # Non-leap year\n",
    "        else:\n",
    "            # Calculate the last day of the next month\n",
    "            last_day_of_next_month = (\n",
    "                dt.date(next_month_year, next_month, 1) + dt.timedelta(days=31)\n",
    "            ).replace(day=1) - dt.timedelta(days=1)\n",
    "            last_day_of_next_month = (\n",
    "                last_day_of_next_month.day\n",
    "            )  # Extract the day as an integer\n",
    "\n",
    "        # Create a date for the last day of the next month\n",
    "        last_day_of_next_month_date = dt.date(\n",
    "            next_month_year, next_month, last_day_of_next_month\n",
    "        )\n",
    "\n",
    "        # Find the last Thursday of the next month\n",
    "        last_thursday = last_day_of_next_month_date - dt.timedelta(\n",
    "            days=(last_day_of_next_month_date.weekday() - 3) % 7\n",
    "        )\n",
    "\n",
    "    # Validate if the last Thursday is a trading day\n",
    "    if nse.valid_days(start_date=last_thursday, end_date=last_thursday).empty:\n",
    "        # If it's a holiday, find the previous valid trading day\n",
    "        last_thursday -= dt.timedelta(days=1)\n",
    "        while nse.valid_days(start_date=last_thursday, end_date=last_thursday).empty:\n",
    "            last_thursday -= dt.timedelta(days=1)\n",
    "\n",
    "    return last_thursday\n",
    "\n",
    "\n",
    "async def get_option_contract_name(symbol, strike, expiry, opt_type):\n",
    "    temp = \"0\"\n",
    "    mth = expiry.month\n",
    "\n",
    "    if (expiry + dt.timedelta(days=7)).month != expiry.month:\n",
    "        date_string = expiry.strftime(\"%y%b\").upper()\n",
    "        return f\"{symbol}{date_string}{strike}{opt_type}\"\n",
    "    else:\n",
    "        if expiry.day <= 9:\n",
    "            date_string = f\"{expiry.year - 2000}{mth}{temp}{expiry.day}\"\n",
    "        else:\n",
    "            date_string = f\"{expiry.year - 2000}{mth}{expiry.day}\"\n",
    "        return f\"{symbol}{date_string}{strike}{opt_type}\""
   ]
  },
  {
   "cell_type": "code",
   "execution_count": 3,
   "id": "5cf51c95-4424-497d-8f84-a704e1f192cd",
   "metadata": {
    "execution": {
     "iopub.execute_input": "2024-12-25T22:39:26.904634Z",
     "iopub.status.busy": "2024-12-25T22:39:26.903717Z",
     "iopub.status.idle": "2024-12-25T22:39:27.497033Z",
     "shell.execute_reply": "2024-12-25T22:39:27.495493Z",
     "shell.execute_reply.started": "2024-12-25T22:39:26.904596Z"
    }
   },
   "outputs": [],
   "source": [
    "# bnf_pandas = pd.read_csv(\"../data/bnf_min.csv\")\n",
    "bnf_pandas = pd.read_csv(\"../data/nifty.csv\")\n",
    "# bnf_pandas = pd.read_csv(\"../data/fin_min.csv\")\n",
    "# bnf_pandas = pd.read_csv(\"../data/midcp_min.csv\")\n",
    "# bnf_pandas = pd.read_csv(\"../data/sensex_min.csv\")\n",
    "# bnf_pandas = pd.read_csv(\"../data/bankex_min.csv\")"
   ]
  },
  {
   "cell_type": "code",
   "execution_count": 4,
   "id": "4aaee50c-236e-4bde-b556-a09cc566b1f5",
   "metadata": {
    "execution": {
     "iopub.execute_input": "2024-12-25T22:39:27.498678Z",
     "iopub.status.busy": "2024-12-25T22:39:27.498145Z",
     "iopub.status.idle": "2024-12-25T22:39:27.665811Z",
     "shell.execute_reply": "2024-12-25T22:39:27.664970Z",
     "shell.execute_reply.started": "2024-12-25T22:39:27.498650Z"
    }
   },
   "outputs": [],
   "source": [
    "# If Stocks Data ...\n",
    "bnf_pandas[\"datetime\"] = pd.to_datetime(bnf_pandas[\"datetime\"])\n",
    "bnf_pandas[\"datetime\"] = bnf_pandas[\"datetime\"].dt.tz_localize(None)\n",
    "bnf_pandas = bnf_pandas[bnf_pandas[\"datetime\"].dt.year >= 2017]\n",
    "# bnf_pandas.drop(columns=[\"time\"], inplace=True)\n",
    "# bnf_pandas"
   ]
  },
  {
   "cell_type": "code",
   "execution_count": 5,
   "id": "e8444676-b43d-4bb1-b475-fbc232cf06c3",
   "metadata": {
    "execution": {
     "iopub.execute_input": "2024-12-25T22:39:27.667194Z",
     "iopub.status.busy": "2024-12-25T22:39:27.666879Z",
     "iopub.status.idle": "2024-12-25T22:39:27.687354Z",
     "shell.execute_reply": "2024-12-25T22:39:27.686285Z",
     "shell.execute_reply.started": "2024-12-25T22:39:27.667168Z"
    }
   },
   "outputs": [
    {
     "name": "stdout",
     "output_type": "stream",
     "text": [
      "<class 'polars.dataframe.frame.DataFrame'>\n"
     ]
    }
   ],
   "source": [
    "bnf = pl.DataFrame(bnf_pandas)\n",
    "print(type(bnf))\n",
    "# bnf"
   ]
  },
  {
   "cell_type": "code",
   "execution_count": 6,
   "id": "d76f37f7-f35c-44b1-a3cb-2c20549b224b",
   "metadata": {
    "execution": {
     "iopub.execute_input": "2024-12-25T22:39:27.688757Z",
     "iopub.status.busy": "2024-12-25T22:39:27.688470Z",
     "iopub.status.idle": "2024-12-25T22:39:27.710655Z",
     "shell.execute_reply": "2024-12-25T22:39:27.709495Z",
     "shell.execute_reply.started": "2024-12-25T22:39:27.688721Z"
    }
   },
   "outputs": [],
   "source": [
    "bnf = bnf.with_columns([pl.col(\"datetime\").alias(\"index\")]).drop(\"datetime\")\n",
    "bnf = bnf.with_columns(pl.col(\"index\").alias(\"datetime\"))"
   ]
  },
  {
   "cell_type": "code",
   "execution_count": 7,
   "id": "b7f0c15c-b276-4b1e-9a78-b5e8b45b4b21",
   "metadata": {
    "execution": {
     "iopub.execute_input": "2024-12-25T22:39:27.713149Z",
     "iopub.status.busy": "2024-12-25T22:39:27.712774Z",
     "iopub.status.idle": "2024-12-25T22:39:27.717568Z",
     "shell.execute_reply": "2024-12-25T22:39:27.716282Z",
     "shell.execute_reply.started": "2024-12-25T22:39:27.713129Z"
    }
   },
   "outputs": [],
   "source": [
    "# bnf = bnf.rename({\"open\": \"o\", \"high\": \"h\", \"low\": \"l\", \"close\": \"c\", \"volume\": \"v\"})"
   ]
  },
  {
   "cell_type": "code",
   "execution_count": 8,
   "id": "7ee8d470-3759-4016-aa63-40f4a8406141",
   "metadata": {
    "execution": {
     "iopub.execute_input": "2024-12-25T22:39:27.719471Z",
     "iopub.status.busy": "2024-12-25T22:39:27.718882Z",
     "iopub.status.idle": "2024-12-25T22:39:27.728720Z",
     "shell.execute_reply": "2024-12-25T22:39:27.727548Z",
     "shell.execute_reply.started": "2024-12-25T22:39:27.719424Z"
    }
   },
   "outputs": [],
   "source": [
    "def resample(data, timeframe, offset=None):\n",
    "    agg_list = [\n",
    "        pl.col(\"o\").first().alias(\"o\"),\n",
    "        pl.col(\"h\").max().alias(\"h\"),\n",
    "        pl.col(\"l\").min().alias(\"l\"),\n",
    "        pl.col(\"c\").last().alias(\"c\"),\n",
    "    ]\n",
    "    if \"v\" in data.columns:\n",
    "        agg_list.append(pl.col(\"v\").sum().alias(\"v\"))\n",
    "    return (\n",
    "        data.set_sorted(\"datetime\")\n",
    "        .group_by_dynamic(\n",
    "            index_column=\"datetime\",\n",
    "            every=timeframe,\n",
    "            period=timeframe,\n",
    "            label=\"left\",\n",
    "            offset=offset,\n",
    "        )\n",
    "        .agg(agg_list)\n",
    "    )\n"
   ]
  },
  {
   "cell_type": "code",
   "execution_count": 9,
   "id": "7721fee3-4127-4923-b4ce-e7c57528976c",
   "metadata": {
    "execution": {
     "iopub.execute_input": "2024-12-25T22:39:27.730549Z",
     "iopub.status.busy": "2024-12-25T22:39:27.730301Z",
     "iopub.status.idle": "2024-12-25T22:39:27.740051Z",
     "shell.execute_reply": "2024-12-25T22:39:27.739129Z",
     "shell.execute_reply.started": "2024-12-25T22:39:27.730530Z"
    }
   },
   "outputs": [],
   "source": [
    "import pandas as pd\n",
    "\n",
    "def calculate_tradingview_rsi(df, rsi_period=14, column_name=\"c\"):\n",
    "    \"\"\"\n",
    "    Calculate RSI matching TradingView's methodology using RMA (Relative Moving Average).\n",
    "\n",
    "    Parameters:\n",
    "    - df (pd.DataFrame): DataFrame containing the data.\n",
    "    - column_name (str): Column name to calculate RSI on (default is 'close').\n",
    "    - rsi_period (int): Period for the RSI calculation (default is 14).\n",
    "\n",
    "    Returns:\n",
    "    - pd.DataFrame: Original DataFrame with an added 'RSI' column matching TradingView's RSI.\n",
    "    \"\"\"\n",
    "    if column_name not in df.columns:\n",
    "        raise ValueError(f\"The column '{column_name}' is not in the DataFrame.\")\n",
    "    \n",
    "    # Ensure the input column is numeric\n",
    "    if not pd.api.types.is_numeric_dtype(df[column_name]):\n",
    "        raise TypeError(f\"The column '{column_name}' must be numeric.\")\n",
    "    \n",
    "    # Calculate price changes\n",
    "    delta = df[column_name].diff()\n",
    "    gain = delta.where(delta > 0, 0)\n",
    "    loss = -delta.where(delta < 0, 0)\n",
    "\n",
    "    # Calculate RMA for gain and loss\n",
    "    rma_gain = gain.ewm(alpha=1 / rsi_period, adjust=False).mean()\n",
    "    rma_loss = loss.ewm(alpha=1 / rsi_period, adjust=False).mean()\n",
    "\n",
    "    # Compute RSI\n",
    "    rs = rma_gain / rma_loss\n",
    "    df[\"RSI\"] = 100 - (100 / (1 + rs))\n",
    "    \n",
    "    return df['RSI']\n"
   ]
  },
  {
   "cell_type": "code",
   "execution_count": 10,
   "id": "85cbece3-7e26-49a5-b50a-a22aee930742",
   "metadata": {
    "execution": {
     "iopub.execute_input": "2024-12-25T22:39:27.741847Z",
     "iopub.status.busy": "2024-12-25T22:39:27.741256Z",
     "iopub.status.idle": "2024-12-25T22:39:27.754780Z",
     "shell.execute_reply": "2024-12-25T22:39:27.753646Z",
     "shell.execute_reply.started": "2024-12-25T22:39:27.741822Z"
    }
   },
   "outputs": [],
   "source": [
    "def generate_signals(df, n=5, rsi_n=14, rsi_overbought=66):\n",
    "    import numpy as np\n",
    "    import pandas as pd\n",
    "\n",
    "    # Ensure required columns are present\n",
    "    required_cols = {'o', 'h', 'l', 'c', 'datetime'}\n",
    "    if not required_cols.issubset(df.columns):\n",
    "        raise ValueError(f\"DataFrame must contain columns: {required_cols}\")\n",
    "    \n",
    "    # Ensure datetime is in datetime format\n",
    "    if not np.issubdtype(df['datetime'].dtype, np.datetime64):\n",
    "        df['datetime'] = pd.to_datetime(df['datetime'])\n",
    "\n",
    "    # Calculate the low of the previous n candles\n",
    "    df['Prev_N_Low'] = df['l'].rolling(window=n).min().shift(1)\n",
    "    df['daily_high_till_now'] = df.groupby(df['datetime'].dt.date)['h'].cummax()\n",
    "\n",
    "    df['RSI'] = calculate_tradingview_rsi(df, rsi_n)\n",
    "\n",
    "    # Generate sell signal\n",
    "    df['Sell Signal'] = (df['RSI'] > rsi_overbought) & (df['c'] < df['Prev_N_Low'])\n",
    "\n",
    "    # Drop intermediate columns if not needed\n",
    "    df.drop(columns=['Prev_N_Low'], inplace=True, errors='ignore')\n",
    "    \n",
    "    return df\n"
   ]
  },
  {
   "cell_type": "code",
   "execution_count": 11,
   "id": "b424fbd9-0053-4192-9901-e9afed539868",
   "metadata": {
    "execution": {
     "iopub.execute_input": "2024-12-25T22:39:27.756182Z",
     "iopub.status.busy": "2024-12-25T22:39:27.755822Z",
     "iopub.status.idle": "2024-12-25T22:39:27.972611Z",
     "shell.execute_reply": "2024-12-25T22:39:27.971408Z",
     "shell.execute_reply.started": "2024-12-25T22:39:27.756165Z"
    }
   },
   "outputs": [
    {
     "name": "stdout",
     "output_type": "stream",
     "text": [
      "735722   2024-12-13 15:25:00\n",
      "735723   2024-12-13 15:26:00\n",
      "735724   2024-12-13 15:27:00\n",
      "735725   2024-12-13 15:28:00\n",
      "735726   2024-12-13 15:29:00\n",
      "Name: datetime, dtype: datetime64[ns]\n"
     ]
    }
   ],
   "source": [
    "data = bnf_pandas.copy()\n",
    "# data['datetime'] = pd.to_datetime(data['datetime'].dt.date)\n",
    "print(data[\"datetime\"].tail())\n",
    "trading_days_set = set(data[\"datetime\"].dt.date)\n",
    "# sorted(trading_days_set)"
   ]
  },
  {
   "cell_type": "code",
   "execution_count": 12,
   "id": "3254ebab-103e-4f51-abf3-f0e1ecd195a9",
   "metadata": {
    "execution": {
     "iopub.execute_input": "2024-12-25T22:39:27.974433Z",
     "iopub.status.busy": "2024-12-25T22:39:27.973597Z",
     "iopub.status.idle": "2024-12-25T22:39:27.978715Z",
     "shell.execute_reply": "2024-12-25T22:39:27.977670Z",
     "shell.execute_reply.started": "2024-12-25T22:39:27.974409Z"
    }
   },
   "outputs": [],
   "source": [
    "# GLOBAL VARIABLES\n",
    "\n",
    "INSTRUMENT = \"NIFTY\"\n",
    "INDEX = \"nifty\"\n",
    "INDEX_MROUND = 50\n",
    "# INDEX_MROUND=100\n",
    "\n",
    "# INSTRUMENT = \"NIFTY\"\n",
    "# INDEX = \"nifty\"\n",
    "# INDEX_MROUND=50\n",
    "\n",
    "PORTFOLIO_VALUE = 10_00_000\n",
    "INDEX_LEV = 6\n",
    "RPT_CE = 0.02\n",
    "RPT_PE = 0.02\n",
    "SLIPPAGE = 0.01\n",
    "TF = \"5m\"\n",
    "\n",
    "# SIGNAL_MA = 20\n",
    "# NUM_OF_CANDELS = 1\n",
    "# T_MA=20\n",
    "# TARGET=100"
   ]
  },
  {
   "cell_type": "code",
   "execution_count": 13,
   "id": "c18b595b-c43c-4c06-9957-939b2a237fc5",
   "metadata": {
    "execution": {
     "iopub.execute_input": "2024-12-25T22:39:27.979920Z",
     "iopub.status.busy": "2024-12-25T22:39:27.979694Z",
     "iopub.status.idle": "2024-12-25T22:39:28.033433Z",
     "shell.execute_reply": "2024-12-25T22:39:28.032438Z",
     "shell.execute_reply.started": "2024-12-25T22:39:27.979898Z"
    }
   },
   "outputs": [],
   "source": [
    "bnf = resample(bnf, TF)\n",
    "data = bnf.to_pandas()\n",
    "\n",
    "# data[['MA','signal_spot']]=MA(data,200)\n",
    "# data[data['signal_spot']==1].head(50)\n",
    "# bnf\n",
    "# data.tail(50)\n",
    "# data[data['datetime'].dt.date == dt.date(2024, 4, 29)]"
   ]
  },
  {
   "cell_type": "code",
   "execution_count": 14,
   "id": "42a54db1-27a4-4287-acbf-f444bf17e07f",
   "metadata": {
    "execution": {
     "iopub.execute_input": "2024-12-25T22:39:28.035422Z",
     "iopub.status.busy": "2024-12-25T22:39:28.034732Z",
     "iopub.status.idle": "2024-12-25T22:39:28.063678Z",
     "shell.execute_reply": "2024-12-25T22:39:28.062412Z",
     "shell.execute_reply.started": "2024-12-25T22:39:28.035392Z"
    }
   },
   "outputs": [],
   "source": [
    "async def ce_trade(data, n, rsi_n, rsi_overbought):\n",
    "    df = data.copy()\n",
    "\n",
    "    start_date = dt.date(2019, 1, 1)\n",
    "    end_date = dt.date(2024, 11, 30)\n",
    "\n",
    "    current_date = start_date\n",
    "\n",
    "    combined_trades = pd.DataFrame()\n",
    "    total_trades = pd.DataFrame()\n",
    "    time_of_day = dt.time(9, 15)\n",
    "    trade_book = []\n",
    "    ce_lowest_low = float(\"inf\")\n",
    "    ce_highest_high = float(\"-inf\")\n",
    "\n",
    "    while current_date < end_date:\n",
    "        # print(current_date)\n",
    "        entry = 0\n",
    "        initial_sl = 0\n",
    "        exit = 0\n",
    "        in_ce_trade = False\n",
    "        in_pe_trade = False\n",
    "        # signal_exist=False\n",
    "\n",
    "        points_captured = 0\n",
    "        remark = \"\"\n",
    "        trailing_active = False\n",
    "        tsl = 0\n",
    "        stop_trading = False\n",
    "        is_gap_ce_sl = False\n",
    "        previous_ce_sl_hit = False\n",
    "        current_date_increament_flag = False\n",
    "        # tsl_high = 0\n",
    "\n",
    "        starting_time = dt.time(9, 15)\n",
    "\n",
    "        ending_time = dt.time(15, 30)\n",
    "\n",
    "        if not in_ce_trade and current_date in trading_days_set:\n",
    "\n",
    "            ce_search_datetime = dt.datetime.combine(current_date, time_of_day)\n",
    "            # print(f'current date : {ce_search_datetime}')\n",
    "\n",
    "            spot_open = df.loc[df[\"datetime\"] >= ce_search_datetime, \"o\"].iloc[0]\n",
    "            # print(f'spot open : {spot_open}')\n",
    "            # spot_atm = int(round(spot_open / INDEX_MROUND) * INDEX_MROUND)\n",
    "            spot_atm = int(\n",
    "                math.ceil(spot_open / INDEX_MROUND) * INDEX_MROUND\n",
    "            )  ##ROUNDS TO NEAREST 500 OTM\n",
    "            # print(f'spot atm : {spot_atm}')\n",
    "            # nearest_expiry = await get_expiry(current_date)\n",
    "            nearest_expiry = await get_expiry_nifty(current_date)\n",
    "            # if current_date== nearest_expiry:\n",
    "            #     next_expiry_passing_value = current_date + dt.timedelta(days=1)\n",
    "            #     nearest_expiry = await get_expiry_nifty( next_expiry_passing_value)\n",
    "            # print(f'passing date for expry : {current_date}')\n",
    "            # nearest_expiry = await get_monthly_expiry_nifty(current_date)\n",
    "            # print(f'nearest expiry{nearest_expiry}')\n",
    "            selected_strike_ce = spot_atm\n",
    "            # print(f'selected strike CE : {selected_strike_ce}')\n",
    "            ce_df = await fetch_data(\n",
    "                index=INDEX,\n",
    "                start_date=nearest_expiry - dt.timedelta(days=6),\n",
    "                start_time=starting_time,\n",
    "                end_date=nearest_expiry,\n",
    "                end_time=ending_time,\n",
    "                strike=selected_strike_ce,\n",
    "                asset_class=\"C\",\n",
    "                expiry=nearest_expiry,\n",
    "            )\n",
    "            # print(ce_df)\n",
    "            if ce_df is not None and not isinstance(ce_df, str):\n",
    "                # print('new data fetched CE')\n",
    "                data_ce = True\n",
    "                ce_df = ce_df.select([\"datetime\", \"o\", \"h\", \"l\", \"c\", \"v\"])\n",
    "                ce_df = resample(ce_df, TF)\n",
    "                ce_df_pandas = ce_df.to_pandas()\n",
    "                ce_df = generate_signals(ce_df_pandas, n, rsi_n, rsi_overbought)\n",
    "                # print(ce_df.to_string())\n",
    "            else:\n",
    "                data_ce = False\n",
    "                current_date += dt.timedelta(days=1)\n",
    "                continue\n",
    "\n",
    "            if data_ce:\n",
    "\n",
    "                for i in range(0, len(ce_df)):\n",
    "                    current_candle = ce_df.iloc[i]\n",
    "                    current_candle_open = ce_df.iloc[i][\"o\"]\n",
    "                    current_candle_high = ce_df.iloc[i][\"h\"]\n",
    "                    current_candle_low = ce_df.iloc[i][\"l\"]\n",
    "                    current_candle_close = ce_df.iloc[i][\"c\"]\n",
    "\n",
    "                    previous_candle_low = ce_df.iloc[i - 1][\"l\"]\n",
    "                    previous_candle_close = ce_df.iloc[i - 1][\"c\"]\n",
    "                    \n",
    "\n",
    "                    expiry = nearest_expiry\n",
    "                    strike = selected_strike_ce\n",
    "                    asset_class = \"C\"\n",
    "                    # print(ce_df.iloc[i])\n",
    "\n",
    "                    signal = ce_df.iloc[i - 1][\"Sell Signal\"]\n",
    "\n",
    "                    if ce_df.iloc[i][\"datetime\"] >= ce_search_datetime:\n",
    "\n",
    "\n",
    "                        if (\n",
    "                            not previous_ce_sl_hit\n",
    "                            and not in_ce_trade\n",
    "                            and signal\n",
    "                            # and current_candle_low < previous_candle_low\n",
    "                            and ce_df.iloc[i][\"datetime\"].time() > time_of_day\n",
    "                            and (\n",
    "                                (nearest_expiry - ce_df.iloc[i][\"datetime\"].date()).days\n",
    "                                >= 0\n",
    "                                and (\n",
    "                                    nearest_expiry - ce_df.iloc[i][\"datetime\"].date()\n",
    "                                ).days\n",
    "                                < 8\n",
    "                            )\n",
    "                            and ce_df.iloc[i][\"datetime\"].time() < dt.time(15, 25)\n",
    "                        ):\n",
    "                            # print(ce_df.iloc[i-1])\n",
    "                            # print(f'entry found {previous_candle_low}')\n",
    "                            # print(f'entry datetime {ce_df.iloc[i][\"datetime\"]}')\n",
    "                            \n",
    "                            # today_data = ce_df[ce_df['datetime'].dt.date == current_candle['datetime'].date()]\n",
    "                            # day_high = today_data.iloc[0 : i-1]['h'].max()\n",
    "                            # print(today_data.to_string())\n",
    "                            \n",
    "                            entry = previous_candle_close\n",
    "                            entry_date = ce_df.iloc[i-1][\"datetime\"].date()\n",
    "                            entry_time = ce_df.iloc[i-1][\"datetime\"].time()\n",
    "                            # initial_sl = ce_df.iloc[i - SL_CANDLES_NUM : i][\"h\"].max()\n",
    "                            # initial_sl = day_high\n",
    "                            initial_sl = ce_df.iloc[i-1]['daily_high_till_now']\n",
    "                            in_ce_trade = True\n",
    "                            ce_lowest_low = float(\"inf\")\n",
    "                            ce_highest_high = float(\"-inf\")\n",
    "                            # print(f'initial SL : {initial_sl}')\n",
    "                            entry_rsi = ce_df.iloc[i-1]['RSI']\n",
    "\n",
    "                            qty = RPT_CE * PORTFOLIO_VALUE / (initial_sl - entry)\n",
    "                            if (\n",
    "                                (qty * strike) / (INDEX_LEV * PORTFOLIO_VALUE)\n",
    "                            ) * 100 > 200:\n",
    "                                qty = PORTFOLIO_VALUE * INDEX_LEV / strike * 2\n",
    "\n",
    "                            # print(f'qty : {qty}')\n",
    "\n",
    "                        # While in trade, track the highest high and lowest low\n",
    "                        if in_ce_trade:\n",
    "                            # Track the highest high\n",
    "                            ce_highest_high = max(ce_highest_high, current_candle_high)\n",
    "\n",
    "                            # Track the lowest low\n",
    "                            ce_lowest_low = min(ce_lowest_low, current_candle_low)\n",
    "\n",
    "                            # if all(\n",
    "                            #     ce_df.loc[i - j, \"h\"] <= ce_df.loc[i - fractal_num, \"h\"]\n",
    "                            #     for j in range(0, ((fractal_num * 2) + 1))\n",
    "                            # ):\n",
    "                            #     tsl_high = ce_df.loc[i - fractal_num, \"h\"]\n",
    "\n",
    "                        if (\n",
    "                            in_ce_trade\n",
    "                            and ce_df.iloc[i][\"datetime\"].time() == dt.time(9, 15)\n",
    "                            and current_candle_open > initial_sl\n",
    "                        ):\n",
    "\n",
    "                            # print(ce_df.iloc[i])\n",
    "                            # print(f'GAP sl hit {initial_sl}')\n",
    "                            # print(f'GAP sl datetime {ce_df.iloc[i][\"datetime\"]}')\n",
    "                            exit = current_candle_close\n",
    "                            in_ce_trade = False\n",
    "                            stop_trading = False\n",
    "                            previous_ce_sl_hit = True\n",
    "                            is_gap_ce_sl = False\n",
    "                            points_captured = entry - exit\n",
    "                            exit_time = ce_df.iloc[i][\"datetime\"].time()\n",
    "                            slippage = SLIPPAGE * (entry + exit)\n",
    "                            pnl = qty * (points_captured - slippage)\n",
    "                            remark = \"Gap SL hit\"\n",
    "                            weekday_int = entry_date.weekday()\n",
    "                            weekday_name = [\n",
    "                                \"Monday\",\n",
    "                                \"Tuesday\",\n",
    "                                \"Wednesday\",\n",
    "                                \"Thursday\",\n",
    "                                \"Friday\",\n",
    "                                \"Saturday\",\n",
    "                                \"Sunday\",\n",
    "                            ][weekday_int]\n",
    "                            trade = {\n",
    "                                \"date\": entry_date,\n",
    "                                \"day\": weekday_name,\n",
    "                                \"expiry\": expiry,\n",
    "                                \"DTE\": (nearest_expiry - entry_date).days,\n",
    "                                # 'atm' : atm,\n",
    "                                # 'scrip' : index ,\n",
    "                                \"strike\": strike,\n",
    "                                \"type\": asset_class,\n",
    "                                \"Entry Price\": entry,\n",
    "                                \"Entry Time\": entry_time,\n",
    "                                \"initial sl\": initial_sl,\n",
    "                                # \"TSL\": tsl_high,\n",
    "                                # 'OTM Entry' : otm_entry,\n",
    "                                \"Exit Price\": exit,\n",
    "                                \"Exit date\": ce_df.iloc[i][\"datetime\"].date(),\n",
    "                                \"Exit Time\": exit_time,\n",
    "                                'RSI on Entry': entry_rsi,\n",
    "                                # 'OTM EXIT ' : otm_exit,\n",
    "                                \"Remark\": remark,\n",
    "                                \"Points Captured\": points_captured,\n",
    "                                \"Slippage\": slippage,\n",
    "                                # 'OTM cost' : otm_exit-otm_entry,\n",
    "                                \"Qty\": qty,\n",
    "                                \"PnL\": pnl,\n",
    "                                \"ROI%\": (pnl / PORTFOLIO_VALUE) * 100,\n",
    "                                \"Trade Year\": ce_df.iloc[i][\"datetime\"].year,\n",
    "                                \"Trade Month\": ce_df.iloc[i][\"datetime\"].month,\n",
    "                                \"Highest High\": ce_highest_high,  # Add highest high to trade data\n",
    "                                \"Lowest Low\": ce_lowest_low,  # Add lowest low to trade data\n",
    "                                \"Max ROI%\": (\n",
    "                                    (qty * (entry - ce_lowest_low)) / PORTFOLIO_VALUE\n",
    "                                )\n",
    "                                * 100,\n",
    "                                \"Margin\": (\n",
    "                                    (qty * strike) / (INDEX_LEV * PORTFOLIO_VALUE)\n",
    "                                )\n",
    "                                * 100,\n",
    "                            }\n",
    "                            # print('apending initial sl trade')\n",
    "                            trade_book.append(trade)\n",
    "                            # tsl_high = 0\n",
    "                            points_captured = 0\n",
    "                            current_date = ce_df.iloc[i][\"datetime\"].date()\n",
    "                            current_date_increament_flag = True\n",
    "                            time_of_day = ce_df.iloc[i][\"datetime\"].time()\n",
    "                            # print(f'current date changed to : {current_date} and time to {time_of_day}')\n",
    "                            break\n",
    "\n",
    "                        if in_ce_trade and current_candle_high > initial_sl:\n",
    "                            # print(ce_df.iloc[i])\n",
    "                            # print(f'initial sl hit {initial_sl}')\n",
    "                            # print(f'initial sl datetime {ce_df.iloc[i][\"datetime\"]}')\n",
    "                            exit = initial_sl\n",
    "                            otm_datetime = ce_df.iloc[i][\"datetime\"]\n",
    "                            in_ce_trade = False\n",
    "                            stop_trading = False\n",
    "                            previous_ce_sl_hit = True\n",
    "                            is_gap_ce_sl = False\n",
    "                            points_captured = entry - exit\n",
    "                            exit_time = ce_df.iloc[i][\"datetime\"].time()\n",
    "                            slippage = SLIPPAGE * (entry + exit)\n",
    "                            pnl = qty * (points_captured - slippage)\n",
    "                            # pnl=(qty*(points_captured-slippage))-qty*(otm_exit-otm_entry)\n",
    "                            remark = \"SL hit\"\n",
    "                            weekday_int = entry_date.weekday()\n",
    "                            weekday_name = [\n",
    "                                \"Monday\",\n",
    "                                \"Tuesday\",\n",
    "                                \"Wednesday\",\n",
    "                                \"Thursday\",\n",
    "                                \"Friday\",\n",
    "                                \"Saturday\",\n",
    "                                \"Sunday\",\n",
    "                            ][weekday_int]\n",
    "                            trade = {\n",
    "                                \"date\": entry_date,\n",
    "                                \"day\": weekday_name,\n",
    "                                \"expiry\": expiry,\n",
    "                                \"DTE\": (nearest_expiry - entry_date).days,\n",
    "                                # 'atm' : atm,\n",
    "                                # 'scrip' : index ,\n",
    "                                \"strike\": strike,\n",
    "                                \"type\": asset_class,\n",
    "                                \"Entry Price\": entry,\n",
    "                                \"Entry Time\": entry_time,\n",
    "                                \"initial sl\": initial_sl,\n",
    "                                # \"TSL\": tsl_high,\n",
    "                                # 'OTM Entry' : otm_entry,\n",
    "                                \"Exit Price\": exit,\n",
    "                                \"Exit date\": ce_df.iloc[i][\"datetime\"].date(),\n",
    "                                \"Exit Time\": exit_time,\n",
    "                                'RSI on Entry': entry_rsi,\n",
    "                                # 'OTM EXIT ' : otm_exit,\n",
    "                                \"Remark\": remark,\n",
    "                                \"Points Captured\": points_captured,\n",
    "                                \"Slippage\": slippage,\n",
    "                                # 'OTM cost' : otm_exit-otm_entry,\n",
    "                                \"Qty\": qty,\n",
    "                                \"PnL\": pnl,\n",
    "                                \"ROI%\": (pnl / PORTFOLIO_VALUE) * 100,\n",
    "                                \"Trade Year\": ce_df.iloc[i][\"datetime\"].year,\n",
    "                                \"Trade Month\": ce_df.iloc[i][\"datetime\"].month,\n",
    "                                \"Highest High\": ce_highest_high,  # Add highest high to trade data\n",
    "                                \"Lowest Low\": ce_lowest_low,  # Add lowest low to trade data\n",
    "                                \"Max ROI%\": (\n",
    "                                    (qty * (entry - ce_lowest_low)) / PORTFOLIO_VALUE\n",
    "                                )\n",
    "                                * 100,\n",
    "                                \"Margin\": (\n",
    "                                    (qty * strike) / (INDEX_LEV * PORTFOLIO_VALUE)\n",
    "                                )\n",
    "                                * 100,\n",
    "                            }\n",
    "                            # print('apending initial sl trade')\n",
    "                            trade_book.append(trade)\n",
    "                            # tsl_high = 0\n",
    "                            points_captured = 0\n",
    "                            current_date = ce_df.iloc[i][\"datetime\"].date()\n",
    "                            current_date_increament_flag = True\n",
    "                            time_of_day = ce_df.iloc[i][\"datetime\"].time()\n",
    "                            # print(f'current date changed to : {current_date} and time to {time_of_day}')\n",
    "                            break\n",
    "\n",
    "                        if (\n",
    "                            in_ce_trade\n",
    "                            and ce_df.iloc[i][\"datetime\"].date() == nearest_expiry\n",
    "                            and ce_df.iloc[i]['datetime'].time() >= dt.time(15, 20)\n",
    "                        ):\n",
    "                            # print(ce_df.iloc[i])\n",
    "                            # print(f'EOD exit {current_candle_close}')\n",
    "                            # print(f'EOD datetime {ce_df.iloc[i][\"datetime\"]}')\n",
    "                            exit = current_candle_close\n",
    "                            otm_datetime = ce_df.iloc[i][\"datetime\"]\n",
    "                            in_ce_trade = False\n",
    "                            previous_ce_sl_hit = True\n",
    "                            is_gap_ce_sl = False\n",
    "                            points_captured = entry - exit\n",
    "                            exit_time = ce_df.iloc[i][\"datetime\"].time()\n",
    "                            slippage = SLIPPAGE * (entry + exit)\n",
    "                            pnl = qty * (points_captured - slippage)\n",
    "                            # pnl=(qty*(points_captured-slippage))-qty*(otm_exit-otm_entry)\n",
    "                            remark = \"EOD exit\"\n",
    "                            weekday_int = entry_date.weekday()\n",
    "                            weekday_name = [\n",
    "                                \"Monday\",\n",
    "                                \"Tuesday\",\n",
    "                                \"Wednesday\",\n",
    "                                \"Thursday\",\n",
    "                                \"Friday\",\n",
    "                                \"Saturday\",\n",
    "                                \"Sunday\",\n",
    "                            ][weekday_int]\n",
    "                            trade = {\n",
    "                                \"date\": entry_date,\n",
    "                                \"day\": weekday_name,\n",
    "                                \"expiry\": expiry,\n",
    "                                \"DTE\": (nearest_expiry - entry_date).days,\n",
    "                                # 'atm' : atm,\n",
    "                                # 'scrip' : index ,\n",
    "                                \"strike\": strike,\n",
    "                                \"type\": asset_class,\n",
    "                                \"Entry Price\": entry,\n",
    "                                \"Entry Time\": entry_time,\n",
    "                                \"initial sl\": initial_sl,\n",
    "                                # \"TSL\": tsl_high,\n",
    "                                # 'OTM Entry' : otm_entry,\n",
    "                                \"Exit Price\": exit,\n",
    "                                \"Exit date\": ce_df.iloc[i][\"datetime\"].date(),\n",
    "                                \"Exit Time\": exit_time,\n",
    "                                'RSI on Entry': entry_rsi,\n",
    "                                # 'OTM EXIT ' : otm_exit,\n",
    "                                \"Remark\": remark,\n",
    "                                \"Points Captured\": points_captured,\n",
    "                                \"Slippage\": slippage,\n",
    "                                # 'OTM cost' : otm_exit-otm_entry,\n",
    "                                \"Qty\": qty,\n",
    "                                \"PnL\": pnl,\n",
    "                                \"ROI%\": (pnl / PORTFOLIO_VALUE) * 100,\n",
    "                                \"Trade Year\": ce_df.iloc[i][\"datetime\"].year,\n",
    "                                \"Trade Month\": ce_df.iloc[i][\"datetime\"].month,\n",
    "                                \"Highest High\": ce_highest_high,  # Add highest high to trade data\n",
    "                                \"Lowest Low\": ce_lowest_low,  # Add lowest low to trade data\n",
    "                                \"Max ROI%\": (\n",
    "                                    (qty * (entry - ce_lowest_low)) / PORTFOLIO_VALUE\n",
    "                                )\n",
    "                                * 100,\n",
    "                                \"Margin\": (\n",
    "                                    (qty * strike) / (INDEX_LEV * PORTFOLIO_VALUE)\n",
    "                                )\n",
    "                                * 100,\n",
    "                            }\n",
    "                            # print('apending EOD trade')\n",
    "                            trade_book.append(trade)\n",
    "                            # tsl_high = 0\n",
    "                            points_captured = 0\n",
    "                            current_date = nearest_expiry + dt.timedelta(days=1)\n",
    "                            current_date_increament_flag = True\n",
    "                            time_of_day = dt.time(9, 15)\n",
    "                            # print(f'current date increased by 1 on expiry : {current_date}')\n",
    "                            break\n",
    "\n",
    "                        if (\n",
    "                            not in_ce_trade\n",
    "                            and not previous_ce_sl_hit\n",
    "                            and ce_df.iloc[i][\"datetime\"].time() > dt.time(15, 00)\n",
    "                        ):\n",
    "                            # print('inside exoiry non trade date increment')\n",
    "                            current_date = current_date + dt.timedelta(days=1)\n",
    "                            current_date_increament_flag = True\n",
    "                            time_of_day = dt.time(9, 15)\n",
    "                            break\n",
    "\n",
    "        if not current_date_increament_flag:\n",
    "            current_date = current_date + dt.timedelta(days=1)\n",
    "            current_date_increament_flag = False\n",
    "\n",
    "    trade_book_df = pd.DataFrame(trade_book)\n",
    "\n",
    "    return trade_book_df"
   ]
  },
  {
   "cell_type": "code",
   "execution_count": 15,
   "id": "5aaf60ba-1818-40bc-97a7-e6067e9f687f",
   "metadata": {
    "execution": {
     "iopub.execute_input": "2024-12-25T22:39:28.069474Z",
     "iopub.status.busy": "2024-12-25T22:39:28.069216Z",
     "iopub.status.idle": "2024-12-25T22:39:28.099143Z",
     "shell.execute_reply": "2024-12-25T22:39:28.097735Z",
     "shell.execute_reply.started": "2024-12-25T22:39:28.069451Z"
    }
   },
   "outputs": [],
   "source": [
    "async def pe_trade(data, n, rsi_n, rsi_overbought):\n",
    "    df = data.copy()\n",
    "\n",
    "    start_date = dt.date(2019, 1, 1)\n",
    "    end_date = dt.date(2024, 11, 30)\n",
    "\n",
    "    current_date = start_date\n",
    "\n",
    "    combined_trades = pd.DataFrame()\n",
    "    total_trades = pd.DataFrame()\n",
    "    time_of_day = dt.time(9, 15)\n",
    "    trade_book = []\n",
    "    pe_lowest_low = float(\"inf\")\n",
    "    pe_highest_high = float(\"-inf\")\n",
    "\n",
    "    while current_date < end_date:\n",
    "        # print(current_date)\n",
    "        entry = 0\n",
    "        initial_sl = 0\n",
    "        exit = 0\n",
    "        in_pe_trade = False\n",
    "        in_pe_trade = False\n",
    "        # signal_exist=False\n",
    "\n",
    "        points_captured = 0\n",
    "        remark = \"\"\n",
    "        trailing_active = False\n",
    "        tsl = 0\n",
    "        stop_trading = False\n",
    "        is_gap_pe_sl = False\n",
    "        previous_pe_sl_hit = False\n",
    "        current_date_increament_flag = False\n",
    "        # tsl_high = 0\n",
    "\n",
    "        starting_time = dt.time(9, 15)\n",
    "\n",
    "        ending_time = dt.time(15, 30)\n",
    "\n",
    "        if not in_pe_trade and current_date in trading_days_set:\n",
    "\n",
    "            pe_search_datetime = dt.datetime.combine(current_date, time_of_day)\n",
    "            # print(f'current date : {pe_search_datetime}')\n",
    "\n",
    "            spot_open = df.loc[df[\"datetime\"] >= pe_search_datetime, \"o\"].iloc[0]\n",
    "            # print(f'spot open : {spot_open}')\n",
    "            # spot_atm = int(round(spot_open / INDEX_MROUND) * INDEX_MROUND)\n",
    "            spot_atm = int(\n",
    "                math.floor(spot_open / INDEX_MROUND) * INDEX_MROUND\n",
    "            )  ##ROUNDS TO NEAREST 500 OTM\n",
    "            # print(f'spot atm : {spot_atm}')\n",
    "            # nearest_expiry = await get_expiry(current_date)\n",
    "            nearest_expiry = await get_expiry_nifty(current_date)\n",
    "            # if current_date== nearest_expiry:\n",
    "            #     next_expiry_passing_value = current_date + dt.timedelta(days=1)\n",
    "            #     nearest_expiry = await get_expiry_nifty( next_expiry_passing_value)\n",
    "            # print(f'passing date for expry : {current_date}')\n",
    "            # nearest_expiry = await get_monthly_expiry_nifty(current_date)\n",
    "            # print(f'nearest expiry{nearest_expiry}')\n",
    "            selected_strike_pe = spot_atm\n",
    "            # print(f'selected strike PE : {selected_strike_pe}')\n",
    "            pe_df = await fetch_data(\n",
    "                index=INDEX,\n",
    "                start_date=nearest_expiry - dt.timedelta(days=6),\n",
    "                start_time=starting_time,\n",
    "                end_date=nearest_expiry,\n",
    "                end_time=ending_time,\n",
    "                strike=selected_strike_pe,\n",
    "                asset_class=\"P\",\n",
    "                expiry=nearest_expiry,\n",
    "            )\n",
    "            if pe_df is not None and not isinstance(pe_df, str):\n",
    "                # print('new data fetched PE')\n",
    "                data_pe = True\n",
    "                pe_df = pe_df.select([\"datetime\", \"o\", \"h\", \"l\", \"c\", \"v\"])\n",
    "                pe_df = resample(pe_df, TF)\n",
    "                pe_df_pandas = pe_df.to_pandas()\n",
    "                pe_df = generate_signals(pe_df_pandas, n, rsi_n, rsi_overbought)\n",
    "                # print(pe_df.to_string())\n",
    "            else:\n",
    "                data_pe = False\n",
    "                current_date += dt.timedelta(days=1)\n",
    "                continue\n",
    "\n",
    "            if data_pe:\n",
    "\n",
    "                for i in range(0, len(pe_df)):\n",
    "                    current_candle = pe_df.iloc[i]\n",
    "                    current_candle_open = pe_df.iloc[i][\"o\"]\n",
    "                    current_candle_high = pe_df.iloc[i][\"h\"]\n",
    "                    current_candle_low = pe_df.iloc[i][\"l\"]\n",
    "                    current_candle_close = pe_df.iloc[i][\"c\"]\n",
    "\n",
    "                    previous_candle_low = pe_df.iloc[i - 1][\"l\"]\n",
    "                    previous_candle_close = pe_df.iloc[i - 1][\"c\"]\n",
    "                    \n",
    "\n",
    "                    expiry = nearest_expiry\n",
    "                    strike = selected_strike_pe\n",
    "                    asset_class = \"P\"\n",
    "                    # print(pe_df.iloc[i])\n",
    "\n",
    "                    signal = pe_df.iloc[i - 1][\"Sell Signal\"]\n",
    "\n",
    "                    if pe_df.iloc[i][\"datetime\"] >= pe_search_datetime:\n",
    "\n",
    "\n",
    "                        if (\n",
    "                            not previous_pe_sl_hit\n",
    "                            and not in_pe_trade\n",
    "                            and signal\n",
    "                            # and current_candle_low < previous_candle_low\n",
    "                            and pe_df.iloc[i][\"datetime\"].time() > time_of_day\n",
    "                            and (\n",
    "                                (nearest_expiry - pe_df.iloc[i][\"datetime\"].date()).days\n",
    "                                >= 0\n",
    "                                and (\n",
    "                                    nearest_expiry - pe_df.iloc[i][\"datetime\"].date()\n",
    "                                ).days\n",
    "                                < 8\n",
    "                            )\n",
    "                            and pe_df.iloc[i][\"datetime\"].time() < dt.time(15, 20)\n",
    "                        ):\n",
    "                            # print(pe_df.iloc[i-1])\n",
    "                            # print(f'entry found {previous_candle_low}')\n",
    "                            # print(f'entry datetime {pe_df.iloc[i][\"datetime\"]}')\n",
    "                            \n",
    "                            # today_data = pe_df[pe_df['datetime'].dt.date == current_candle['datetime'].date()]\n",
    "                            # day_high = today_data.iloc[0 : i]['h'].max()\n",
    "                            # print(today_data.to_string())\n",
    "                            \n",
    "                            entry = previous_candle_close\n",
    "                            entry_date = pe_df.iloc[i-1][\"datetime\"].date()\n",
    "                            entry_time = pe_df.iloc[i-1][\"datetime\"].time()\n",
    "                            # initial_sl = pe_df.iloc[i - SL_CANDLES_NUM : i][\"h\"].max()\n",
    "                            # initial_sl = day_high\n",
    "                            initial_sl = pe_df.iloc[i-1]['daily_high_till_now']\n",
    "                            in_pe_trade = True\n",
    "                            pe_lowest_low = float(\"inf\")\n",
    "                            pe_highest_high = float(\"-inf\")\n",
    "                            entry_rsi = pe_df.iloc[i-1]['RSI']\n",
    "\n",
    "                            qty = RPT_PE * PORTFOLIO_VALUE / (initial_sl - entry)\n",
    "                            if (\n",
    "                                (qty * strike) / (INDEX_LEV * PORTFOLIO_VALUE)\n",
    "                            ) * 100 > 200:\n",
    "                                qty = PORTFOLIO_VALUE * INDEX_LEV / strike * 2\n",
    "\n",
    "                        # While in trade, track the highest high and lowest low\n",
    "                        if in_pe_trade:\n",
    "                            # Track the highest high\n",
    "                            pe_highest_high = max(pe_highest_high, current_candle_high)\n",
    "\n",
    "                            # Track the lowest low\n",
    "                            pe_lowest_low = min(pe_lowest_low, current_candle_low)\n",
    "\n",
    "                            # if all(\n",
    "                            #     pe_df.loc[i - j, \"h\"] <= pe_df.loc[i - fractal_num, \"h\"]\n",
    "                            #     for j in range(0, ((fractal_num * 2) + 1))\n",
    "                            # ):\n",
    "                            #     tsl_high = pe_df.loc[i - fractal_num, \"h\"]\n",
    "\n",
    "                        if (\n",
    "                            in_pe_trade\n",
    "                            and pe_df.iloc[i][\"datetime\"].time() == dt.time(9, 15)\n",
    "                            and current_candle_open > initial_sl\n",
    "                        ):\n",
    "\n",
    "                            # print(pe_df.iloc[i])\n",
    "                            # print(f'GAP sl hit {initial_sl}')\n",
    "                            # print(f'GAP sl datetime {pe_df.iloc[i][\"datetime\"]}')\n",
    "                            exit = current_candle_close\n",
    "                            in_pe_trade = False\n",
    "                            stop_trading = False\n",
    "                            previous_pe_sl_hit = True\n",
    "                            is_gap_pe_sl = False\n",
    "                            points_captured = entry - exit\n",
    "                            exit_time = pe_df.iloc[i][\"datetime\"].time()\n",
    "                            slippage = SLIPPAGE * (entry + exit)\n",
    "                            pnl = qty * (points_captured - slippage)\n",
    "                            remark = \"Gap SL hit\"\n",
    "                            weekday_int = entry_date.weekday()\n",
    "                            weekday_name = [\n",
    "                                \"Monday\",\n",
    "                                \"Tuesday\",\n",
    "                                \"Wednesday\",\n",
    "                                \"Thursday\",\n",
    "                                \"Friday\",\n",
    "                                \"Saturday\",\n",
    "                                \"Sunday\",\n",
    "                            ][weekday_int]\n",
    "                            trade = {\n",
    "                                \"date\": entry_date,\n",
    "                                \"day\": weekday_name,\n",
    "                                \"expiry\": expiry,\n",
    "                                \"DTE\": (nearest_expiry - entry_date).days,\n",
    "                                # 'atm' : atm,\n",
    "                                # 'scrip' : index ,\n",
    "                                \"strike\": strike,\n",
    "                                \"type\": asset_class,\n",
    "                                \"Entry Price\": entry,\n",
    "                                \"Entry Time\": entry_time,\n",
    "                                \"initial sl\": initial_sl,\n",
    "                                # \"TSL\": tsl_high,\n",
    "                                # 'OTM Entry' : otm_entry,\n",
    "                                \"Exit Price\": exit,\n",
    "                                \"Exit date\": pe_df.iloc[i][\"datetime\"].date(),\n",
    "                                \"Exit Time\": exit_time,\n",
    "                                'RSI on Entry': entry_rsi,\n",
    "                                # 'OTM EXIT ' : otm_exit,\n",
    "                                \"Remark\": remark,\n",
    "                                \"Points Captured\": points_captured,\n",
    "                                \"Slippage\": slippage,\n",
    "                                # 'OTM cost' : otm_exit-otm_entry,\n",
    "                                \"Qty\": qty,\n",
    "                                \"PnL\": pnl,\n",
    "                                \"ROI%\": (pnl / PORTFOLIO_VALUE) * 100,\n",
    "                                \"Trade Year\": pe_df.iloc[i][\"datetime\"].year,\n",
    "                                \"Trade Month\": pe_df.iloc[i][\"datetime\"].month,\n",
    "                                \"Highest High\": pe_highest_high,  # Add highest high to trade data\n",
    "                                \"Lowest Low\": pe_lowest_low,  # Add lowest low to trade data\n",
    "                                \"Max ROI%\": (\n",
    "                                    (qty * (entry - pe_lowest_low)) / PORTFOLIO_VALUE\n",
    "                                )\n",
    "                                * 100,\n",
    "                                \"Margin\": (\n",
    "                                    (qty * strike) / (INDEX_LEV * PORTFOLIO_VALUE)\n",
    "                                )\n",
    "                                * 100,\n",
    "                            }\n",
    "                            # print('apending initial sl trade')\n",
    "                            trade_book.append(trade)\n",
    "                            # tsl_high = 0\n",
    "                            points_captured = 0\n",
    "                            current_date = pe_df.iloc[i][\"datetime\"].date()\n",
    "                            current_date_increament_flag = True\n",
    "                            time_of_day = pe_df.iloc[i][\"datetime\"].time()\n",
    "                            # print(f'current date changed to : {current_date} and time to {time_of_day}')\n",
    "                            break\n",
    "\n",
    "                        if in_pe_trade and current_candle_high > initial_sl:\n",
    "                            # print(pe_df.iloc[i])\n",
    "                            # print(f'initial sl hit {initial_sl}')\n",
    "                            # print(f'initial sl datetime {pe_df.iloc[i][\"datetime\"]}')\n",
    "                            exit = initial_sl\n",
    "                            otm_datetime = pe_df.iloc[i][\"datetime\"]\n",
    "                            in_pe_trade = False\n",
    "                            stop_trading = False\n",
    "                            previous_pe_sl_hit = True\n",
    "                            is_gap_pe_sl = False\n",
    "                            points_captured = entry - exit\n",
    "                            exit_time = pe_df.iloc[i][\"datetime\"].time()\n",
    "                            slippage = SLIPPAGE * (entry + exit)\n",
    "                            pnl = qty * (points_captured - slippage)\n",
    "                            # pnl=(qty*(points_captured-slippage))-qty*(otm_exit-otm_entry)\n",
    "                            remark = \"SL hit\"\n",
    "                            weekday_int = entry_date.weekday()\n",
    "                            weekday_name = [\n",
    "                                \"Monday\",\n",
    "                                \"Tuesday\",\n",
    "                                \"Wednesday\",\n",
    "                                \"Thursday\",\n",
    "                                \"Friday\",\n",
    "                                \"Saturday\",\n",
    "                                \"Sunday\",\n",
    "                            ][weekday_int]\n",
    "                            trade = {\n",
    "                                \"date\": entry_date,\n",
    "                                \"day\": weekday_name,\n",
    "                                \"expiry\": expiry,\n",
    "                                \"DTE\": (nearest_expiry - entry_date).days,\n",
    "                                # 'atm' : atm,\n",
    "                                # 'scrip' : index ,\n",
    "                                \"strike\": strike,\n",
    "                                \"type\": asset_class,\n",
    "                                \"Entry Price\": entry,\n",
    "                                \"Entry Time\": entry_time,\n",
    "                                \"initial sl\": initial_sl,\n",
    "                                # \"TSL\": tsl_high,\n",
    "                                # 'OTM Entry' : otm_entry,\n",
    "                                \"Exit Price\": exit,\n",
    "                                \"Exit date\": pe_df.iloc[i][\"datetime\"].date(),\n",
    "                                \"Exit Time\": exit_time,\n",
    "                                'RSI on Entry': entry_rsi,\n",
    "                                # 'OTM EXIT ' : otm_exit,\n",
    "                                \"Remark\": remark,\n",
    "                                \"Points Captured\": points_captured,\n",
    "                                \"Slippage\": slippage,\n",
    "                                # 'OTM cost' : otm_exit-otm_entry,\n",
    "                                \"Qty\": qty,\n",
    "                                \"PnL\": pnl,\n",
    "                                \"ROI%\": (pnl / PORTFOLIO_VALUE) * 100,\n",
    "                                \"Trade Year\": pe_df.iloc[i][\"datetime\"].year,\n",
    "                                \"Trade Month\": pe_df.iloc[i][\"datetime\"].month,\n",
    "                                \"Highest High\": pe_highest_high,  # Add highest high to trade data\n",
    "                                \"Lowest Low\": pe_lowest_low,  # Add lowest low to trade data\n",
    "                                \"Max ROI%\": (\n",
    "                                    (qty * (entry - pe_lowest_low)) / PORTFOLIO_VALUE\n",
    "                                )\n",
    "                                * 100,\n",
    "                                \"Margin\": (\n",
    "                                    (qty * strike) / (INDEX_LEV * PORTFOLIO_VALUE)\n",
    "                                )\n",
    "                                * 100,\n",
    "                            }\n",
    "                            # print('apending initial sl trade')\n",
    "                            trade_book.append(trade)\n",
    "                            tsl_high = 0\n",
    "                            points_captured = 0\n",
    "                            current_date = pe_df.iloc[i][\"datetime\"].date()\n",
    "                            current_date_increament_flag = True\n",
    "                            time_of_day = pe_df.iloc[i][\"datetime\"].time()\n",
    "                            # print(f'current date changed to : {current_date} and time to {time_of_day}')\n",
    "                            break\n",
    "\n",
    "                        # if in_pe_trade and (current_candle_close > tsl_high) and (tsl_high > 10):\n",
    "                        #     # print(pe_df.iloc[i])\n",
    "                        #     # print(f'initial sl hit {initial_sl}')\n",
    "                        #     # print(f'initial sl datetime {pe_df.iloc[i][\"datetime\"]}')\n",
    "                        #     exit=current_candle_close\n",
    "                        #     otm_datetime = pe_df.iloc[i]['datetime']\n",
    "                        #     in_pe_trade=False\n",
    "                        #     stop_trading=False\n",
    "                        #     previous_pe_sl_hit=True\n",
    "                        #     is_gap_pe_sl = False\n",
    "                        #     points_captured=entry-exit\n",
    "                        #     exit_time = pe_df.iloc[i]['datetime'].time()\n",
    "                        #     slippage= SLIPPAGE * (entry+exit)\n",
    "                        #     pnl=(qty*(points_captured-slippage))\n",
    "                        #     # pnl=(qty*(points_captured-slippage))-qty*(otm_exit-otm_entry)\n",
    "                        #     remark = \"TSL hit\"\n",
    "                        #     weekday_int = entry_date.weekday()\n",
    "                        #     weekday_name = [\"Monday\", \"Tuesday\", \"Wednesday\", \"Thursday\", \"Friday\", \"Saturday\", \"Sunday\"][weekday_int]\n",
    "                        #     trade = {\n",
    "                        #             'date' : entry_date,\n",
    "                        #             'day' : weekday_name,\n",
    "                        #             'expiry' : expiry,\n",
    "                        #             'DTE' : (nearest_expiry-entry_date).days,\n",
    "                        #             # 'atm' : atm,\n",
    "                        #             # 'scrip' : index ,\n",
    "                        #             'strike' : strike,\n",
    "                        #             'type' : asset_class,\n",
    "                        #             'Entry Price': entry,\n",
    "                        #             'Entry Time': entry_time,\n",
    "                        #             'initial sl' : initial_sl,\n",
    "                        #             'TSL' : tsl_high,\n",
    "                        #             # 'OTM Entry' : otm_entry,\n",
    "                        #             'Exit Price': exit,\n",
    "                        #             'Exit date' : pe_df.iloc[i]['datetime'].date(),\n",
    "                        #             'Exit Time': exit_time,\n",
    "                        #             # 'OTM EXIT ' : otm_exit,\n",
    "                        #             'Remark' : remark,\n",
    "                        #             'Points Captured': points_captured,\n",
    "                        #             'Slippage': slippage,\n",
    "                        #             # 'OTM cost' : otm_exit-otm_entry,\n",
    "                        #             'Qty': qty,\n",
    "                        #             'PnL' : pnl,\n",
    "                        #             'ROI%': (pnl/ PORTFOLIO_VALUE) * 100,\n",
    "                        #             'Trade Year': pe_df.iloc[i]['datetime'].year,\n",
    "                        #             'Trade Month': pe_df.iloc[i]['datetime'].month,\n",
    "                        #             'Highest High': pe_highest_high,  # Add highest high to trade data\n",
    "                        #             'Lowest Low': pe_lowest_low ,      # Add lowest low to trade data\n",
    "                        #             'Max ROI%' : ((qty*(entry-pe_lowest_low))/PORTFOLIO_VALUE)*100,\n",
    "                        #             'Margin' : ((qty*strike)/(INDEX_LEV*PORTFOLIO_VALUE))*100\n",
    "                        #               }\n",
    "                        #     # print('apending initial sl trade')\n",
    "                        #     trade_book.append(trade)\n",
    "                        #     tsl_high = 0\n",
    "                        #     points_captured=0\n",
    "                        #     current_date = pe_df.iloc[i]['datetime'].date()\n",
    "                        #     current_date_increament_flag = True\n",
    "                        #     time_of_day = pe_df.iloc[i]['datetime'].time()\n",
    "                        #     # print(f'current date changed to : {current_date} and time to {time_of_day}')\n",
    "                        #     break\n",
    "\n",
    "                        if (\n",
    "                            in_pe_trade\n",
    "                            and pe_df.iloc[i][\"datetime\"].date() == nearest_expiry\n",
    "                            and pe_df.iloc[i]['datetime'].time() >= dt.time(15, 20)\n",
    "                        ):\n",
    "                            # print(pe_df.iloc[i])\n",
    "                            # print(f'EOD exit {current_candle_close}')\n",
    "                            # print(f'EOD datetime {pe_df.iloc[i][\"datetime\"]}')\n",
    "                            exit = current_candle_close\n",
    "                            otm_datetime = pe_df.iloc[i][\"datetime\"]\n",
    "                            in_pe_trade = False\n",
    "                            previous_pe_sl_hit = True\n",
    "                            is_gap_pe_sl = False\n",
    "                            points_captured = entry - exit\n",
    "                            exit_time = pe_df.iloc[i][\"datetime\"].time()\n",
    "                            slippage = SLIPPAGE * (entry + exit)\n",
    "                            pnl = qty * (points_captured - slippage)\n",
    "                            # pnl=(qty*(points_captured-slippage))-qty*(otm_exit-otm_entry)\n",
    "                            remark = \"EOD exit\"\n",
    "                            weekday_int = entry_date.weekday()\n",
    "                            weekday_name = [\n",
    "                                \"Monday\",\n",
    "                                \"Tuesday\",\n",
    "                                \"Wednesday\",\n",
    "                                \"Thursday\",\n",
    "                                \"Friday\",\n",
    "                                \"Saturday\",\n",
    "                                \"Sunday\",\n",
    "                            ][weekday_int]\n",
    "                            trade = {\n",
    "                                \"date\": entry_date,\n",
    "                                \"day\": weekday_name,\n",
    "                                \"expiry\": expiry,\n",
    "                                \"DTE\": (nearest_expiry - entry_date).days,\n",
    "                                # 'atm' : atm,\n",
    "                                # 'scrip' : index ,\n",
    "                                \"strike\": strike,\n",
    "                                \"type\": asset_class,\n",
    "                                \"Entry Price\": entry,\n",
    "                                \"Entry Time\": entry_time,\n",
    "                                \"initial sl\": initial_sl,\n",
    "                                # \"TSL\": tsl_high,\n",
    "                                # 'OTM Entry' : otm_entry,\n",
    "                                \"Exit Price\": exit,\n",
    "                                \"Exit date\": pe_df.iloc[i][\"datetime\"].date(),\n",
    "                                \"Exit Time\": exit_time,\n",
    "                                'RSI on Entry': entry_rsi,\n",
    "                                # 'OTM EXIT ' : otm_exit,\n",
    "                                \"Remark\": remark,\n",
    "                                \"Points Captured\": points_captured,\n",
    "                                \"Slippage\": slippage,\n",
    "                                # 'OTM cost' : otm_exit-otm_entry,\n",
    "                                \"Qty\": qty,\n",
    "                                \"PnL\": pnl,\n",
    "                                \"ROI%\": (pnl / PORTFOLIO_VALUE) * 100,\n",
    "                                \"Trade Year\": pe_df.iloc[i][\"datetime\"].year,\n",
    "                                \"Trade Month\": pe_df.iloc[i][\"datetime\"].month,\n",
    "                                \"Highest High\": pe_highest_high,  # Add highest high to trade data\n",
    "                                \"Lowest Low\": pe_lowest_low,  # Add lowest low to trade data\n",
    "                                \"Max ROI%\": (\n",
    "                                    (qty * (entry - pe_lowest_low)) / PORTFOLIO_VALUE\n",
    "                                )\n",
    "                                * 100,\n",
    "                                \"Margin\": (\n",
    "                                    (qty * strike) / (INDEX_LEV * PORTFOLIO_VALUE)\n",
    "                                )\n",
    "                                * 100,\n",
    "                            }\n",
    "                            # print('apending EOD trade')\n",
    "                            trade_book.append(trade)\n",
    "                            # tsl_high = 0\n",
    "                            points_captured = 0\n",
    "                            current_date = nearest_expiry + dt.timedelta(days=1)\n",
    "                            current_date_increament_flag = True\n",
    "                            time_of_day = dt.time(9, 15)\n",
    "                            # print(f'current date increased by 1 on expiry : {current_date}')\n",
    "                            break\n",
    "\n",
    "                        if (\n",
    "                            not in_pe_trade\n",
    "                            and not previous_pe_sl_hit\n",
    "                            and pe_df.iloc[i][\"datetime\"].time() > dt.time(15, 00)\n",
    "                        ):\n",
    "                            # print('inside exoiry non trade date increment')\n",
    "                            current_date = current_date + dt.timedelta(days=1)\n",
    "                            current_date_increament_flag = True\n",
    "                            time_of_day = dt.time(9, 15)\n",
    "                            break\n",
    "\n",
    "        if not current_date_increament_flag:\n",
    "            current_date = current_date + dt.timedelta(days=1)\n",
    "            current_date_increament_flag = False\n",
    "\n",
    "    trade_book_df = pd.DataFrame(trade_book)\n",
    "\n",
    "    return trade_book_df"
   ]
  },
  {
   "cell_type": "code",
   "execution_count": 25,
   "id": "77077b44-6231-43d1-99c5-bda5d541a1cf",
   "metadata": {
    "execution": {
     "iopub.execute_input": "2024-12-26T03:28:01.078141Z",
     "iopub.status.busy": "2024-12-26T03:28:01.077632Z",
     "iopub.status.idle": "2024-12-26T03:28:01.087874Z",
     "shell.execute_reply": "2024-12-26T03:28:01.086133Z",
     "shell.execute_reply.started": "2024-12-26T03:28:01.078102Z"
    }
   },
   "outputs": [],
   "source": [
    "async def execute(DF, n, rsi_n, rsi_overbought):\n",
    "    data = DF.copy()\n",
    "    tb_ce = await ce_trade(data, n, rsi_n, rsi_overbought)\n",
    "    tb_pe = await pe_trade(data, n, rsi_n, rsi_overbought)\n",
    "    tb = pd.concat([tb_ce, tb_pe], ignore_index=True)\n",
    "    if len(tb) > 0:\n",
    "        tb = tb.sort_values(by=\"date\")\n",
    "    return tb"
   ]
  },
  {
   "cell_type": "code",
   "execution_count": 17,
   "id": "663b049b-be11-42d9-a3d2-d1e40c2e2063",
   "metadata": {
    "execution": {
     "iopub.execute_input": "2024-12-25T22:39:28.114174Z",
     "iopub.status.busy": "2024-12-25T22:39:28.113694Z",
     "iopub.status.idle": "2024-12-25T22:39:28.124710Z",
     "shell.execute_reply": "2024-12-25T22:39:28.123791Z",
     "shell.execute_reply.started": "2024-12-25T22:39:28.114153Z"
    },
    "jupyter": {
     "source_hidden": true
    }
   },
   "outputs": [],
   "source": [
    "def generate_stats(tb_expiry, ema_window):\n",
    "    stats_df8 = pd.DataFrame(\n",
    "        index=range(2019, 2025),\n",
    "        columns=[\n",
    "            \"Total ROI\",\n",
    "            \"Total Trades\",\n",
    "            \"Win Rate\",\n",
    "            \"Avg Profit% per Trade\",\n",
    "            \"Avg Loss% per Trade\",\n",
    "            \"Max Drawdown\",\n",
    "            \"ROI/DD Ratio\",\n",
    "            \"Variation\",\n",
    "        ],\n",
    "    )\n",
    "    combined_df_sorted = tb_expiry\n",
    "    # combined_df_sorted = tb_expiry_ce\n",
    "    # combined_df_sorted = tb_expiry_pe\n",
    "\n",
    "    # Iterate over each year\n",
    "    for year in range(2019, 2025):\n",
    "        # Filter trades for the current year\n",
    "        year_trades = combined_df_sorted[(combined_df_sorted[\"Trade Year\"] == year)]\n",
    "\n",
    "        # Calculate total ROI\n",
    "        total_roi = year_trades[\"ROI%\"].sum()\n",
    "\n",
    "        # Calculate total number of trades\n",
    "        total_trades = len(year_trades)\n",
    "\n",
    "        # Calculate win rate\n",
    "        win_rate = (year_trades[\"ROI%\"] > 0).mean() * 100\n",
    "\n",
    "        # Calculate average profit per trade\n",
    "        avg_profit = year_trades[year_trades[\"ROI%\"] > 0][\"ROI%\"].mean()\n",
    "\n",
    "        # Calculate average loss per trade\n",
    "        avg_loss = year_trades[year_trades[\"ROI%\"] < 0][\"ROI%\"].mean()\n",
    "\n",
    "        # Calculate maximum drawdown\n",
    "        max_drawdown = (\n",
    "            year_trades[\"ROI%\"].cumsum() - year_trades[\"ROI%\"].cumsum().cummax()\n",
    "        ).min()\n",
    "\n",
    "        # Calculate ROI/DD ratio\n",
    "        roi_dd_ratio = total_roi / abs(max_drawdown)\n",
    "\n",
    "        variation = f\"{ema_window}\"\n",
    "\n",
    "        # Store the statistics in the DataFrame\n",
    "        stats_df8.loc[year] = [\n",
    "            total_roi,\n",
    "            total_trades,\n",
    "            win_rate,\n",
    "            avg_profit,\n",
    "            avg_loss,\n",
    "            max_drawdown,\n",
    "            roi_dd_ratio,\n",
    "            variation,\n",
    "        ]\n",
    "\n",
    "    # Calculate overall statistics\n",
    "    overall_total_roi = stats_df8[\"Total ROI\"].sum()\n",
    "    overall_total_trades = stats_df8[\"Total Trades\"].sum()\n",
    "    overall_win_rate = (combined_df_sorted[\"ROI%\"] > 0).mean() * 100\n",
    "    overall_avg_profit = combined_df_sorted[combined_df_sorted[\"ROI%\"] > 0][\n",
    "        \"ROI%\"\n",
    "    ].mean()\n",
    "    overall_avg_loss = combined_df_sorted[combined_df_sorted[\"ROI%\"] < 0][\"ROI%\"].mean()\n",
    "    overall_max_drawdown = (\n",
    "        combined_df_sorted[\"ROI%\"].cumsum()\n",
    "        - combined_df_sorted[\"ROI%\"].cumsum().cummax()\n",
    "    ).min()\n",
    "    overall_roi_dd_ratio = overall_total_roi / abs(overall_max_drawdown)\n",
    "    overall_variation = variation\n",
    "\n",
    "    # Store the overall statistics in the DataFrame\n",
    "    stats_df8.loc[\"Overall\"] = [\n",
    "        overall_total_roi,\n",
    "        overall_total_trades,\n",
    "        overall_win_rate,\n",
    "        overall_avg_profit,\n",
    "        overall_avg_loss,\n",
    "        overall_max_drawdown,\n",
    "        overall_roi_dd_ratio,\n",
    "        overall_variation,\n",
    "    ]\n",
    "    return {overall_roi_dd_ratio: stats_df8}"
   ]
  },
  {
   "cell_type": "code",
   "execution_count": 18,
   "id": "195c8326-499b-49b5-8b80-a9102f43c167",
   "metadata": {
    "execution": {
     "iopub.execute_input": "2024-12-25T22:39:28.127663Z",
     "iopub.status.busy": "2024-12-25T22:39:28.127203Z",
     "iopub.status.idle": "2024-12-25T22:39:28.138637Z",
     "shell.execute_reply": "2024-12-25T22:39:28.137626Z",
     "shell.execute_reply.started": "2024-12-25T22:39:28.127623Z"
    },
    "scrolled": true
   },
   "outputs": [],
   "source": [
    "# # short_ma = 4\n",
    "# # long_ma = 12\n",
    "# # signal_window = 9\n",
    "# # ema_window = 25\n",
    "# n = 4\n",
    "# rsi_n = 14\n",
    "# rsi_overbought = 30\n",
    "\n",
    "# tb = await execute(data, n, rsi_n, rsi_overbought)"
   ]
  },
  {
   "cell_type": "code",
   "execution_count": null,
   "id": "d6d5dfe2-784a-4db9-888f-e791a5b5c8b1",
   "metadata": {},
   "outputs": [],
   "source": []
  },
  {
   "cell_type": "code",
   "execution_count": 19,
   "id": "5e068665-2a21-4663-8b3a-5e95ec760338",
   "metadata": {
    "execution": {
     "iopub.execute_input": "2024-12-25T22:39:28.140376Z",
     "iopub.status.busy": "2024-12-25T22:39:28.139643Z",
     "iopub.status.idle": "2024-12-25T22:39:28.150331Z",
     "shell.execute_reply": "2024-12-25T22:39:28.149285Z",
     "shell.execute_reply.started": "2024-12-25T22:39:28.140350Z"
    }
   },
   "outputs": [],
   "source": [
    "# stats = generate_stats(tb, n)\n",
    "# for x, y in stats.items():\n",
    "#     z = pd.DataFrame(y)\n",
    "#     break\n",
    "\n",
    "# z"
   ]
  },
  {
   "cell_type": "code",
   "execution_count": null,
   "id": "3c802000-4743-4814-b8e3-2458cf0010ae",
   "metadata": {},
   "outputs": [],
   "source": []
  },
  {
   "cell_type": "code",
   "execution_count": 20,
   "id": "5984cd20-0fd3-4e6b-9726-ba27365d4eb2",
   "metadata": {
    "execution": {
     "iopub.execute_input": "2024-12-25T22:39:28.402433Z",
     "iopub.status.busy": "2024-12-25T22:39:28.402014Z",
     "iopub.status.idle": "2024-12-25T22:39:28.406378Z",
     "shell.execute_reply": "2024-12-25T22:39:28.405320Z",
     "shell.execute_reply.started": "2024-12-25T22:39:28.402396Z"
    },
    "scrolled": true
   },
   "outputs": [],
   "source": [
    "# tb"
   ]
  },
  {
   "cell_type": "code",
   "execution_count": 21,
   "id": "a6a132a8-92cf-4cc0-9792-d6aa29cda1e2",
   "metadata": {
    "execution": {
     "iopub.execute_input": "2024-12-25T22:39:28.705140Z",
     "iopub.status.busy": "2024-12-25T22:39:28.704802Z",
     "iopub.status.idle": "2024-12-25T22:39:28.709408Z",
     "shell.execute_reply": "2024-12-25T22:39:28.708369Z",
     "shell.execute_reply.started": "2024-12-25T22:39:28.705122Z"
    }
   },
   "outputs": [],
   "source": [
    "# tb_zero = tb[tb['DTE'] == 0]"
   ]
  },
  {
   "cell_type": "code",
   "execution_count": 22,
   "id": "01df37cc-e15d-42d6-865c-6451fc24720f",
   "metadata": {
    "execution": {
     "iopub.execute_input": "2024-12-25T22:39:29.001203Z",
     "iopub.status.busy": "2024-12-25T22:39:29.000607Z",
     "iopub.status.idle": "2024-12-25T22:39:29.004585Z",
     "shell.execute_reply": "2024-12-25T22:39:29.003680Z",
     "shell.execute_reply.started": "2024-12-25T22:39:29.001180Z"
    }
   },
   "outputs": [],
   "source": [
    "# stats2 = generate_stats(tb_zero, n)\n",
    "# for x, y in stats2.items():\n",
    "#     z2 = pd.DataFrame(y)\n",
    "#     break\n",
    "\n",
    "# z2"
   ]
  },
  {
   "cell_type": "code",
   "execution_count": 26,
   "id": "bd463f37-f371-4c3f-b16e-f76ef21528d0",
   "metadata": {
    "execution": {
     "iopub.execute_input": "2024-12-26T03:28:03.868174Z",
     "iopub.status.busy": "2024-12-26T03:28:03.867505Z",
     "iopub.status.idle": "2024-12-27T07:29:25.127416Z",
     "shell.execute_reply": "2024-12-27T07:29:25.126113Z",
     "shell.execute_reply.started": "2024-12-26T03:28:03.868145Z"
    },
    "scrolled": true
   },
   "outputs": [
    {
     "name": "stdout",
     "output_type": "stream",
     "text": [
      "n: 5, rsi_n: 4, rsi_overbought: 25\n",
      "n: 5, rsi_n: 4, rsi_overbought: 35\n",
      "n: 5, rsi_n: 4, rsi_overbought: 45\n"
     ]
    },
    {
     "name": "stderr",
     "output_type": "stream",
     "text": [
      "/tmp/ipykernel_2394/712187628.py:45: RuntimeWarning: divide by zero encountered in scalar divide\n",
      "  roi_dd_ratio = total_roi / abs(max_drawdown)\n"
     ]
    },
    {
     "name": "stdout",
     "output_type": "stream",
     "text": [
      "n: 5, rsi_n: 4, rsi_overbought: 55\n",
      "n: 5, rsi_n: 4, rsi_overbought: 65\n",
      "n: 5, rsi_n: 6, rsi_overbought: 25\n"
     ]
    },
    {
     "name": "stderr",
     "output_type": "stream",
     "text": [
      "/tmp/ipykernel_2394/2810042175.py:144: RuntimeWarning: divide by zero encountered in scalar divide\n",
      "  qty = RPT_CE * PORTFOLIO_VALUE / (initial_sl - entry)\n"
     ]
    },
    {
     "name": "stdout",
     "output_type": "stream",
     "text": [
      "n: 5, rsi_n: 6, rsi_overbought: 35\n",
      "n: 5, rsi_n: 6, rsi_overbought: 45\n",
      "n: 5, rsi_n: 6, rsi_overbought: 55\n"
     ]
    },
    {
     "name": "stderr",
     "output_type": "stream",
     "text": [
      "/tmp/ipykernel_2394/712187628.py:45: RuntimeWarning: divide by zero encountered in scalar divide\n",
      "  roi_dd_ratio = total_roi / abs(max_drawdown)\n"
     ]
    },
    {
     "name": "stdout",
     "output_type": "stream",
     "text": [
      "n: 5, rsi_n: 6, rsi_overbought: 65\n",
      "n: 5, rsi_n: 8, rsi_overbought: 25\n"
     ]
    },
    {
     "name": "stderr",
     "output_type": "stream",
     "text": [
      "/tmp/ipykernel_2394/2810042175.py:144: RuntimeWarning: divide by zero encountered in scalar divide\n",
      "  qty = RPT_CE * PORTFOLIO_VALUE / (initial_sl - entry)\n"
     ]
    },
    {
     "name": "stdout",
     "output_type": "stream",
     "text": [
      "n: 5, rsi_n: 8, rsi_overbought: 35\n"
     ]
    },
    {
     "name": "stderr",
     "output_type": "stream",
     "text": [
      "/tmp/ipykernel_2394/2810042175.py:144: RuntimeWarning: divide by zero encountered in scalar divide\n",
      "  qty = RPT_CE * PORTFOLIO_VALUE / (initial_sl - entry)\n"
     ]
    },
    {
     "name": "stdout",
     "output_type": "stream",
     "text": [
      "n: 5, rsi_n: 8, rsi_overbought: 45\n",
      "n: 5, rsi_n: 8, rsi_overbought: 55\n",
      "n: 5, rsi_n: 8, rsi_overbought: 65\n"
     ]
    },
    {
     "name": "stderr",
     "output_type": "stream",
     "text": [
      "/tmp/ipykernel_2394/712187628.py:45: RuntimeWarning: divide by zero encountered in scalar divide\n",
      "  roi_dd_ratio = total_roi / abs(max_drawdown)\n"
     ]
    },
    {
     "name": "stdout",
     "output_type": "stream",
     "text": [
      "n: 5, rsi_n: 10, rsi_overbought: 25\n"
     ]
    },
    {
     "name": "stderr",
     "output_type": "stream",
     "text": [
      "/tmp/ipykernel_2394/2810042175.py:144: RuntimeWarning: divide by zero encountered in scalar divide\n",
      "  qty = RPT_CE * PORTFOLIO_VALUE / (initial_sl - entry)\n"
     ]
    },
    {
     "name": "stdout",
     "output_type": "stream",
     "text": [
      "n: 5, rsi_n: 10, rsi_overbought: 35\n"
     ]
    },
    {
     "name": "stderr",
     "output_type": "stream",
     "text": [
      "/tmp/ipykernel_2394/2810042175.py:144: RuntimeWarning: divide by zero encountered in scalar divide\n",
      "  qty = RPT_CE * PORTFOLIO_VALUE / (initial_sl - entry)\n"
     ]
    },
    {
     "name": "stdout",
     "output_type": "stream",
     "text": [
      "n: 5, rsi_n: 10, rsi_overbought: 45\n",
      "n: 5, rsi_n: 10, rsi_overbought: 55\n",
      "n: 5, rsi_n: 10, rsi_overbought: 65\n"
     ]
    },
    {
     "name": "stderr",
     "output_type": "stream",
     "text": [
      "/tmp/ipykernel_2394/712187628.py:45: RuntimeWarning: divide by zero encountered in scalar divide\n",
      "  roi_dd_ratio = total_roi / abs(max_drawdown)\n"
     ]
    },
    {
     "name": "stdout",
     "output_type": "stream",
     "text": [
      "n: 5, rsi_n: 12, rsi_overbought: 25\n"
     ]
    },
    {
     "name": "stderr",
     "output_type": "stream",
     "text": [
      "/tmp/ipykernel_2394/2810042175.py:144: RuntimeWarning: divide by zero encountered in scalar divide\n",
      "  qty = RPT_CE * PORTFOLIO_VALUE / (initial_sl - entry)\n"
     ]
    },
    {
     "name": "stdout",
     "output_type": "stream",
     "text": [
      "n: 5, rsi_n: 12, rsi_overbought: 35\n"
     ]
    },
    {
     "name": "stderr",
     "output_type": "stream",
     "text": [
      "/tmp/ipykernel_2394/2810042175.py:144: RuntimeWarning: divide by zero encountered in scalar divide\n",
      "  qty = RPT_CE * PORTFOLIO_VALUE / (initial_sl - entry)\n"
     ]
    },
    {
     "name": "stdout",
     "output_type": "stream",
     "text": [
      "n: 5, rsi_n: 12, rsi_overbought: 45\n",
      "n: 5, rsi_n: 12, rsi_overbought: 55\n",
      "n: 5, rsi_n: 12, rsi_overbought: 65\n"
     ]
    },
    {
     "name": "stderr",
     "output_type": "stream",
     "text": [
      "/tmp/ipykernel_2394/712187628.py:45: RuntimeWarning: divide by zero encountered in scalar divide\n",
      "  roi_dd_ratio = total_roi / abs(max_drawdown)\n"
     ]
    },
    {
     "name": "stdout",
     "output_type": "stream",
     "text": [
      "n: 5, rsi_n: 14, rsi_overbought: 25\n"
     ]
    },
    {
     "name": "stderr",
     "output_type": "stream",
     "text": [
      "/tmp/ipykernel_2394/2810042175.py:144: RuntimeWarning: divide by zero encountered in scalar divide\n",
      "  qty = RPT_CE * PORTFOLIO_VALUE / (initial_sl - entry)\n"
     ]
    },
    {
     "name": "stdout",
     "output_type": "stream",
     "text": [
      "n: 5, rsi_n: 14, rsi_overbought: 35\n"
     ]
    },
    {
     "name": "stderr",
     "output_type": "stream",
     "text": [
      "/tmp/ipykernel_2394/2810042175.py:144: RuntimeWarning: divide by zero encountered in scalar divide\n",
      "  qty = RPT_CE * PORTFOLIO_VALUE / (initial_sl - entry)\n"
     ]
    },
    {
     "name": "stdout",
     "output_type": "stream",
     "text": [
      "n: 5, rsi_n: 14, rsi_overbought: 45\n",
      "n: 5, rsi_n: 14, rsi_overbought: 55\n",
      "n: 5, rsi_n: 14, rsi_overbought: 65\n",
      "n: 5, rsi_n: 16, rsi_overbought: 25\n"
     ]
    },
    {
     "name": "stderr",
     "output_type": "stream",
     "text": [
      "/tmp/ipykernel_2394/2810042175.py:144: RuntimeWarning: divide by zero encountered in scalar divide\n",
      "  qty = RPT_CE * PORTFOLIO_VALUE / (initial_sl - entry)\n"
     ]
    },
    {
     "name": "stdout",
     "output_type": "stream",
     "text": [
      "n: 5, rsi_n: 16, rsi_overbought: 35\n"
     ]
    },
    {
     "name": "stderr",
     "output_type": "stream",
     "text": [
      "/tmp/ipykernel_2394/2810042175.py:144: RuntimeWarning: divide by zero encountered in scalar divide\n",
      "  qty = RPT_CE * PORTFOLIO_VALUE / (initial_sl - entry)\n"
     ]
    },
    {
     "name": "stdout",
     "output_type": "stream",
     "text": [
      "n: 5, rsi_n: 16, rsi_overbought: 45\n"
     ]
    },
    {
     "name": "stderr",
     "output_type": "stream",
     "text": [
      "/tmp/ipykernel_2394/2810042175.py:144: RuntimeWarning: divide by zero encountered in scalar divide\n",
      "  qty = RPT_CE * PORTFOLIO_VALUE / (initial_sl - entry)\n"
     ]
    },
    {
     "name": "stdout",
     "output_type": "stream",
     "text": [
      "n: 5, rsi_n: 16, rsi_overbought: 55\n",
      "n: 5, rsi_n: 16, rsi_overbought: 65\n",
      "n: 6, rsi_n: 4, rsi_overbought: 25\n",
      "n: 6, rsi_n: 4, rsi_overbought: 35\n",
      "n: 6, rsi_n: 4, rsi_overbought: 45\n"
     ]
    },
    {
     "name": "stderr",
     "output_type": "stream",
     "text": [
      "/tmp/ipykernel_2394/712187628.py:45: RuntimeWarning: divide by zero encountered in scalar divide\n",
      "  roi_dd_ratio = total_roi / abs(max_drawdown)\n"
     ]
    },
    {
     "name": "stdout",
     "output_type": "stream",
     "text": [
      "n: 6, rsi_n: 4, rsi_overbought: 55\n",
      "n: 6, rsi_n: 4, rsi_overbought: 65\n",
      "n: 6, rsi_n: 6, rsi_overbought: 25\n"
     ]
    },
    {
     "name": "stderr",
     "output_type": "stream",
     "text": [
      "/tmp/ipykernel_2394/2810042175.py:144: RuntimeWarning: divide by zero encountered in scalar divide\n",
      "  qty = RPT_CE * PORTFOLIO_VALUE / (initial_sl - entry)\n"
     ]
    },
    {
     "name": "stdout",
     "output_type": "stream",
     "text": [
      "n: 6, rsi_n: 6, rsi_overbought: 35\n",
      "n: 6, rsi_n: 6, rsi_overbought: 45\n",
      "n: 6, rsi_n: 6, rsi_overbought: 55\n"
     ]
    },
    {
     "name": "stderr",
     "output_type": "stream",
     "text": [
      "/tmp/ipykernel_2394/712187628.py:45: RuntimeWarning: divide by zero encountered in scalar divide\n",
      "  roi_dd_ratio = total_roi / abs(max_drawdown)\n"
     ]
    },
    {
     "name": "stdout",
     "output_type": "stream",
     "text": [
      "        Total ROI Total Trades Win Rate Avg Profit% per Trade Avg Loss% per Trade Max Drawdown ROI/DD Ratio                           Variation\n",
      "2019      -0.9271            1   0.0000                   NaN             -0.9271       0.0000         -inf  n: 6, rsi_n: 6, rsi_overbought: 55\n",
      "2020       2.2809            2  50.0000                3.7004             -1.4196       0.0000          inf  n: 6, rsi_n: 6, rsi_overbought: 55\n",
      "2021       9.3816            1 100.0000                9.3816                 NaN       0.0000          inf  n: 6, rsi_n: 6, rsi_overbought: 55\n",
      "2022       7.7722            1 100.0000                7.7722                 NaN       0.0000          inf  n: 6, rsi_n: 6, rsi_overbought: 55\n",
      "2023       0.0000            0      NaN                   NaN                 NaN          NaN          NaN  n: 6, rsi_n: 6, rsi_overbought: 55\n",
      "2024       2.5680            1 100.0000                2.5680                 NaN       0.0000          inf  n: 6, rsi_n: 6, rsi_overbought: 55\n",
      "Overall   21.0756            6  66.6667                5.8556             -1.1733      -1.4196      14.8466  n: 6, rsi_n: 6, rsi_overbought: 55\n",
      "n: 6, rsi_n: 6, rsi_overbought: 65\n",
      "n: 6, rsi_n: 8, rsi_overbought: 25\n"
     ]
    },
    {
     "name": "stderr",
     "output_type": "stream",
     "text": [
      "/tmp/ipykernel_2394/2810042175.py:144: RuntimeWarning: divide by zero encountered in scalar divide\n",
      "  qty = RPT_CE * PORTFOLIO_VALUE / (initial_sl - entry)\n"
     ]
    },
    {
     "name": "stdout",
     "output_type": "stream",
     "text": [
      "n: 6, rsi_n: 8, rsi_overbought: 35\n"
     ]
    },
    {
     "name": "stderr",
     "output_type": "stream",
     "text": [
      "/tmp/ipykernel_2394/2810042175.py:144: RuntimeWarning: divide by zero encountered in scalar divide\n",
      "  qty = RPT_CE * PORTFOLIO_VALUE / (initial_sl - entry)\n"
     ]
    },
    {
     "name": "stdout",
     "output_type": "stream",
     "text": [
      "n: 6, rsi_n: 8, rsi_overbought: 45\n",
      "n: 6, rsi_n: 8, rsi_overbought: 55\n",
      "n: 6, rsi_n: 8, rsi_overbought: 65\n"
     ]
    },
    {
     "name": "stderr",
     "output_type": "stream",
     "text": [
      "/tmp/ipykernel_2394/712187628.py:45: RuntimeWarning: divide by zero encountered in scalar divide\n",
      "  roi_dd_ratio = total_roi / abs(max_drawdown)\n",
      "/tmp/ipykernel_2394/712187628.py:73: RuntimeWarning: divide by zero encountered in scalar divide\n",
      "  overall_roi_dd_ratio = overall_total_roi / abs(overall_max_drawdown)\n"
     ]
    },
    {
     "name": "stdout",
     "output_type": "stream",
     "text": [
      "        Total ROI Total Trades Win Rate Avg Profit% per Trade Avg Loss% per Trade Max Drawdown ROI/DD Ratio                           Variation\n",
      "2019       0.0000            0      NaN                   NaN                 NaN          NaN          NaN  n: 6, rsi_n: 8, rsi_overbought: 65\n",
      "2020       0.0000            0      NaN                   NaN                 NaN          NaN          NaN  n: 6, rsi_n: 8, rsi_overbought: 65\n",
      "2021       9.3816            1 100.0000                9.3816                 NaN       0.0000          inf  n: 6, rsi_n: 8, rsi_overbought: 65\n",
      "2022       0.0000            0      NaN                   NaN                 NaN          NaN          NaN  n: 6, rsi_n: 8, rsi_overbought: 65\n",
      "2023       0.0000            0      NaN                   NaN                 NaN          NaN          NaN  n: 6, rsi_n: 8, rsi_overbought: 65\n",
      "2024       0.0000            0      NaN                   NaN                 NaN          NaN          NaN  n: 6, rsi_n: 8, rsi_overbought: 65\n",
      "Overall    9.3816            1 100.0000                9.3816                 NaN       0.0000          inf  n: 6, rsi_n: 8, rsi_overbought: 65\n",
      "n: 6, rsi_n: 10, rsi_overbought: 25\n"
     ]
    },
    {
     "name": "stderr",
     "output_type": "stream",
     "text": [
      "/tmp/ipykernel_2394/2810042175.py:144: RuntimeWarning: divide by zero encountered in scalar divide\n",
      "  qty = RPT_CE * PORTFOLIO_VALUE / (initial_sl - entry)\n"
     ]
    },
    {
     "name": "stdout",
     "output_type": "stream",
     "text": [
      "n: 6, rsi_n: 10, rsi_overbought: 35\n"
     ]
    },
    {
     "name": "stderr",
     "output_type": "stream",
     "text": [
      "/tmp/ipykernel_2394/2810042175.py:144: RuntimeWarning: divide by zero encountered in scalar divide\n",
      "  qty = RPT_CE * PORTFOLIO_VALUE / (initial_sl - entry)\n"
     ]
    },
    {
     "name": "stdout",
     "output_type": "stream",
     "text": [
      "n: 6, rsi_n: 10, rsi_overbought: 45\n",
      "n: 6, rsi_n: 10, rsi_overbought: 55\n",
      "n: 6, rsi_n: 10, rsi_overbought: 65\n"
     ]
    },
    {
     "name": "stderr",
     "output_type": "stream",
     "text": [
      "/tmp/ipykernel_2394/712187628.py:45: RuntimeWarning: divide by zero encountered in scalar divide\n",
      "  roi_dd_ratio = total_roi / abs(max_drawdown)\n",
      "/tmp/ipykernel_2394/712187628.py:73: RuntimeWarning: divide by zero encountered in scalar divide\n",
      "  overall_roi_dd_ratio = overall_total_roi / abs(overall_max_drawdown)\n"
     ]
    },
    {
     "name": "stdout",
     "output_type": "stream",
     "text": [
      "        Total ROI Total Trades Win Rate Avg Profit% per Trade Avg Loss% per Trade Max Drawdown ROI/DD Ratio                            Variation\n",
      "2019       0.0000            0      NaN                   NaN                 NaN          NaN          NaN  n: 6, rsi_n: 10, rsi_overbought: 65\n",
      "2020       0.0000            0      NaN                   NaN                 NaN          NaN          NaN  n: 6, rsi_n: 10, rsi_overbought: 65\n",
      "2021       9.3816            1 100.0000                9.3816                 NaN       0.0000          inf  n: 6, rsi_n: 10, rsi_overbought: 65\n",
      "2022       0.0000            0      NaN                   NaN                 NaN          NaN          NaN  n: 6, rsi_n: 10, rsi_overbought: 65\n",
      "2023       0.0000            0      NaN                   NaN                 NaN          NaN          NaN  n: 6, rsi_n: 10, rsi_overbought: 65\n",
      "2024       0.0000            0      NaN                   NaN                 NaN          NaN          NaN  n: 6, rsi_n: 10, rsi_overbought: 65\n",
      "Overall    9.3816            1 100.0000                9.3816                 NaN       0.0000          inf  n: 6, rsi_n: 10, rsi_overbought: 65\n",
      "n: 6, rsi_n: 12, rsi_overbought: 25\n"
     ]
    },
    {
     "name": "stderr",
     "output_type": "stream",
     "text": [
      "/tmp/ipykernel_2394/2810042175.py:144: RuntimeWarning: divide by zero encountered in scalar divide\n",
      "  qty = RPT_CE * PORTFOLIO_VALUE / (initial_sl - entry)\n"
     ]
    },
    {
     "name": "stdout",
     "output_type": "stream",
     "text": [
      "n: 6, rsi_n: 12, rsi_overbought: 35\n"
     ]
    },
    {
     "name": "stderr",
     "output_type": "stream",
     "text": [
      "/tmp/ipykernel_2394/2810042175.py:144: RuntimeWarning: divide by zero encountered in scalar divide\n",
      "  qty = RPT_CE * PORTFOLIO_VALUE / (initial_sl - entry)\n"
     ]
    },
    {
     "name": "stdout",
     "output_type": "stream",
     "text": [
      "n: 6, rsi_n: 12, rsi_overbought: 45\n",
      "n: 6, rsi_n: 12, rsi_overbought: 55\n",
      "n: 6, rsi_n: 12, rsi_overbought: 65\n"
     ]
    },
    {
     "name": "stderr",
     "output_type": "stream",
     "text": [
      "/tmp/ipykernel_2394/712187628.py:45: RuntimeWarning: divide by zero encountered in scalar divide\n",
      "  roi_dd_ratio = total_roi / abs(max_drawdown)\n"
     ]
    },
    {
     "name": "stdout",
     "output_type": "stream",
     "text": [
      "n: 6, rsi_n: 14, rsi_overbought: 25\n"
     ]
    },
    {
     "name": "stderr",
     "output_type": "stream",
     "text": [
      "/tmp/ipykernel_2394/2810042175.py:144: RuntimeWarning: divide by zero encountered in scalar divide\n",
      "  qty = RPT_CE * PORTFOLIO_VALUE / (initial_sl - entry)\n"
     ]
    },
    {
     "name": "stdout",
     "output_type": "stream",
     "text": [
      "n: 6, rsi_n: 14, rsi_overbought: 35\n"
     ]
    },
    {
     "name": "stderr",
     "output_type": "stream",
     "text": [
      "/tmp/ipykernel_2394/2810042175.py:144: RuntimeWarning: divide by zero encountered in scalar divide\n",
      "  qty = RPT_CE * PORTFOLIO_VALUE / (initial_sl - entry)\n"
     ]
    },
    {
     "name": "stdout",
     "output_type": "stream",
     "text": [
      "n: 6, rsi_n: 14, rsi_overbought: 45\n",
      "n: 6, rsi_n: 14, rsi_overbought: 55\n",
      "n: 6, rsi_n: 14, rsi_overbought: 65\n"
     ]
    },
    {
     "name": "stderr",
     "output_type": "stream",
     "text": [
      "/tmp/ipykernel_2394/712187628.py:45: RuntimeWarning: divide by zero encountered in scalar divide\n",
      "  roi_dd_ratio = total_roi / abs(max_drawdown)\n"
     ]
    },
    {
     "name": "stdout",
     "output_type": "stream",
     "text": [
      "n: 6, rsi_n: 16, rsi_overbought: 25\n"
     ]
    },
    {
     "name": "stderr",
     "output_type": "stream",
     "text": [
      "/tmp/ipykernel_2394/2810042175.py:144: RuntimeWarning: divide by zero encountered in scalar divide\n",
      "  qty = RPT_CE * PORTFOLIO_VALUE / (initial_sl - entry)\n"
     ]
    },
    {
     "name": "stdout",
     "output_type": "stream",
     "text": [
      "n: 6, rsi_n: 16, rsi_overbought: 35\n"
     ]
    },
    {
     "name": "stderr",
     "output_type": "stream",
     "text": [
      "/tmp/ipykernel_2394/2810042175.py:144: RuntimeWarning: divide by zero encountered in scalar divide\n",
      "  qty = RPT_CE * PORTFOLIO_VALUE / (initial_sl - entry)\n"
     ]
    },
    {
     "name": "stdout",
     "output_type": "stream",
     "text": [
      "n: 6, rsi_n: 16, rsi_overbought: 45\n"
     ]
    },
    {
     "name": "stderr",
     "output_type": "stream",
     "text": [
      "/tmp/ipykernel_2394/2810042175.py:144: RuntimeWarning: divide by zero encountered in scalar divide\n",
      "  qty = RPT_CE * PORTFOLIO_VALUE / (initial_sl - entry)\n"
     ]
    },
    {
     "name": "stdout",
     "output_type": "stream",
     "text": [
      "n: 6, rsi_n: 16, rsi_overbought: 55\n",
      "n: 6, rsi_n: 16, rsi_overbought: 65\n",
      "n: 3, rsi_n: 4, rsi_overbought: 25\n",
      "n: 3, rsi_n: 4, rsi_overbought: 35\n"
     ]
    },
    {
     "name": "stderr",
     "output_type": "stream",
     "text": [
      "/tmp/ipykernel_2394/2810042175.py:144: RuntimeWarning: divide by zero encountered in scalar divide\n",
      "  qty = RPT_CE * PORTFOLIO_VALUE / (initial_sl - entry)\n"
     ]
    },
    {
     "name": "stdout",
     "output_type": "stream",
     "text": [
      "n: 3, rsi_n: 4, rsi_overbought: 45\n",
      "n: 3, rsi_n: 4, rsi_overbought: 55\n",
      "n: 3, rsi_n: 4, rsi_overbought: 65\n"
     ]
    },
    {
     "name": "stderr",
     "output_type": "stream",
     "text": [
      "/tmp/ipykernel_2394/712187628.py:45: RuntimeWarning: divide by zero encountered in scalar divide\n",
      "  roi_dd_ratio = total_roi / abs(max_drawdown)\n"
     ]
    },
    {
     "name": "stdout",
     "output_type": "stream",
     "text": [
      "n: 3, rsi_n: 6, rsi_overbought: 25\n"
     ]
    },
    {
     "name": "stderr",
     "output_type": "stream",
     "text": [
      "/tmp/ipykernel_2394/2810042175.py:144: RuntimeWarning: divide by zero encountered in scalar divide\n",
      "  qty = RPT_CE * PORTFOLIO_VALUE / (initial_sl - entry)\n"
     ]
    },
    {
     "name": "stdout",
     "output_type": "stream",
     "text": [
      "n: 3, rsi_n: 6, rsi_overbought: 35\n",
      "n: 3, rsi_n: 6, rsi_overbought: 45\n"
     ]
    },
    {
     "name": "stderr",
     "output_type": "stream",
     "text": [
      "/tmp/ipykernel_2394/2810042175.py:144: RuntimeWarning: divide by zero encountered in scalar divide\n",
      "  qty = RPT_CE * PORTFOLIO_VALUE / (initial_sl - entry)\n"
     ]
    },
    {
     "name": "stdout",
     "output_type": "stream",
     "text": [
      "n: 3, rsi_n: 6, rsi_overbought: 55\n",
      "n: 3, rsi_n: 6, rsi_overbought: 65\n"
     ]
    },
    {
     "name": "stderr",
     "output_type": "stream",
     "text": [
      "/tmp/ipykernel_2394/712187628.py:45: RuntimeWarning: divide by zero encountered in scalar divide\n",
      "  roi_dd_ratio = total_roi / abs(max_drawdown)\n"
     ]
    },
    {
     "name": "stdout",
     "output_type": "stream",
     "text": [
      "n: 3, rsi_n: 8, rsi_overbought: 25\n"
     ]
    },
    {
     "name": "stderr",
     "output_type": "stream",
     "text": [
      "/tmp/ipykernel_2394/2810042175.py:144: RuntimeWarning: divide by zero encountered in scalar divide\n",
      "  qty = RPT_CE * PORTFOLIO_VALUE / (initial_sl - entry)\n"
     ]
    },
    {
     "name": "stdout",
     "output_type": "stream",
     "text": [
      "n: 3, rsi_n: 8, rsi_overbought: 35\n"
     ]
    },
    {
     "name": "stderr",
     "output_type": "stream",
     "text": [
      "/tmp/ipykernel_2394/2810042175.py:144: RuntimeWarning: divide by zero encountered in scalar divide\n",
      "  qty = RPT_CE * PORTFOLIO_VALUE / (initial_sl - entry)\n"
     ]
    },
    {
     "name": "stdout",
     "output_type": "stream",
     "text": [
      "n: 3, rsi_n: 8, rsi_overbought: 45\n"
     ]
    },
    {
     "name": "stderr",
     "output_type": "stream",
     "text": [
      "/tmp/ipykernel_2394/2810042175.py:144: RuntimeWarning: divide by zero encountered in scalar divide\n",
      "  qty = RPT_CE * PORTFOLIO_VALUE / (initial_sl - entry)\n"
     ]
    },
    {
     "name": "stdout",
     "output_type": "stream",
     "text": [
      "n: 3, rsi_n: 8, rsi_overbought: 55\n",
      "n: 3, rsi_n: 8, rsi_overbought: 65\n",
      "n: 3, rsi_n: 10, rsi_overbought: 25\n"
     ]
    },
    {
     "name": "stderr",
     "output_type": "stream",
     "text": [
      "/tmp/ipykernel_2394/2810042175.py:144: RuntimeWarning: divide by zero encountered in scalar divide\n",
      "  qty = RPT_CE * PORTFOLIO_VALUE / (initial_sl - entry)\n"
     ]
    },
    {
     "name": "stdout",
     "output_type": "stream",
     "text": [
      "n: 3, rsi_n: 10, rsi_overbought: 35\n"
     ]
    },
    {
     "name": "stderr",
     "output_type": "stream",
     "text": [
      "/tmp/ipykernel_2394/2810042175.py:144: RuntimeWarning: divide by zero encountered in scalar divide\n",
      "  qty = RPT_CE * PORTFOLIO_VALUE / (initial_sl - entry)\n"
     ]
    },
    {
     "name": "stdout",
     "output_type": "stream",
     "text": [
      "n: 3, rsi_n: 10, rsi_overbought: 45\n"
     ]
    },
    {
     "name": "stderr",
     "output_type": "stream",
     "text": [
      "/tmp/ipykernel_2394/2810042175.py:144: RuntimeWarning: divide by zero encountered in scalar divide\n",
      "  qty = RPT_CE * PORTFOLIO_VALUE / (initial_sl - entry)\n"
     ]
    },
    {
     "name": "stdout",
     "output_type": "stream",
     "text": [
      "n: 3, rsi_n: 10, rsi_overbought: 55\n",
      "n: 3, rsi_n: 10, rsi_overbought: 65\n",
      "n: 3, rsi_n: 12, rsi_overbought: 25\n"
     ]
    },
    {
     "name": "stderr",
     "output_type": "stream",
     "text": [
      "/tmp/ipykernel_2394/2810042175.py:144: RuntimeWarning: divide by zero encountered in scalar divide\n",
      "  qty = RPT_CE * PORTFOLIO_VALUE / (initial_sl - entry)\n"
     ]
    },
    {
     "name": "stdout",
     "output_type": "stream",
     "text": [
      "n: 3, rsi_n: 12, rsi_overbought: 35\n"
     ]
    },
    {
     "name": "stderr",
     "output_type": "stream",
     "text": [
      "/tmp/ipykernel_2394/2810042175.py:144: RuntimeWarning: divide by zero encountered in scalar divide\n",
      "  qty = RPT_CE * PORTFOLIO_VALUE / (initial_sl - entry)\n"
     ]
    },
    {
     "name": "stdout",
     "output_type": "stream",
     "text": [
      "n: 3, rsi_n: 12, rsi_overbought: 45\n"
     ]
    },
    {
     "name": "stderr",
     "output_type": "stream",
     "text": [
      "/tmp/ipykernel_2394/2810042175.py:144: RuntimeWarning: divide by zero encountered in scalar divide\n",
      "  qty = RPT_CE * PORTFOLIO_VALUE / (initial_sl - entry)\n"
     ]
    },
    {
     "name": "stdout",
     "output_type": "stream",
     "text": [
      "n: 3, rsi_n: 12, rsi_overbought: 55\n",
      "n: 3, rsi_n: 12, rsi_overbought: 65\n",
      "n: 3, rsi_n: 14, rsi_overbought: 25\n"
     ]
    },
    {
     "name": "stderr",
     "output_type": "stream",
     "text": [
      "/tmp/ipykernel_2394/2810042175.py:144: RuntimeWarning: divide by zero encountered in scalar divide\n",
      "  qty = RPT_CE * PORTFOLIO_VALUE / (initial_sl - entry)\n"
     ]
    },
    {
     "name": "stdout",
     "output_type": "stream",
     "text": [
      "n: 3, rsi_n: 14, rsi_overbought: 35\n"
     ]
    },
    {
     "name": "stderr",
     "output_type": "stream",
     "text": [
      "/tmp/ipykernel_2394/2810042175.py:144: RuntimeWarning: divide by zero encountered in scalar divide\n",
      "  qty = RPT_CE * PORTFOLIO_VALUE / (initial_sl - entry)\n"
     ]
    },
    {
     "name": "stdout",
     "output_type": "stream",
     "text": [
      "n: 3, rsi_n: 14, rsi_overbought: 45\n"
     ]
    },
    {
     "name": "stderr",
     "output_type": "stream",
     "text": [
      "/tmp/ipykernel_2394/2810042175.py:144: RuntimeWarning: divide by zero encountered in scalar divide\n",
      "  qty = RPT_CE * PORTFOLIO_VALUE / (initial_sl - entry)\n"
     ]
    },
    {
     "name": "stdout",
     "output_type": "stream",
     "text": [
      "n: 3, rsi_n: 14, rsi_overbought: 55\n",
      "n: 3, rsi_n: 14, rsi_overbought: 65\n",
      "n: 3, rsi_n: 16, rsi_overbought: 25\n"
     ]
    },
    {
     "name": "stderr",
     "output_type": "stream",
     "text": [
      "/tmp/ipykernel_2394/2810042175.py:144: RuntimeWarning: divide by zero encountered in scalar divide\n",
      "  qty = RPT_CE * PORTFOLIO_VALUE / (initial_sl - entry)\n"
     ]
    },
    {
     "name": "stdout",
     "output_type": "stream",
     "text": [
      "n: 3, rsi_n: 16, rsi_overbought: 35\n"
     ]
    },
    {
     "name": "stderr",
     "output_type": "stream",
     "text": [
      "/tmp/ipykernel_2394/2810042175.py:144: RuntimeWarning: divide by zero encountered in scalar divide\n",
      "  qty = RPT_CE * PORTFOLIO_VALUE / (initial_sl - entry)\n"
     ]
    },
    {
     "name": "stdout",
     "output_type": "stream",
     "text": [
      "n: 3, rsi_n: 16, rsi_overbought: 45\n"
     ]
    },
    {
     "name": "stderr",
     "output_type": "stream",
     "text": [
      "/tmp/ipykernel_2394/2810042175.py:144: RuntimeWarning: divide by zero encountered in scalar divide\n",
      "  qty = RPT_CE * PORTFOLIO_VALUE / (initial_sl - entry)\n",
      "/tmp/ipykernel_2394/2810042175.py:144: RuntimeWarning: divide by zero encountered in scalar divide\n",
      "  qty = RPT_CE * PORTFOLIO_VALUE / (initial_sl - entry)\n"
     ]
    },
    {
     "name": "stdout",
     "output_type": "stream",
     "text": [
      "n: 3, rsi_n: 16, rsi_overbought: 55\n",
      "n: 3, rsi_n: 16, rsi_overbought: 65\n"
     ]
    }
   ],
   "source": [
    "# SIMULATION \n",
    "\n",
    "i_range = [5, 6, 3]\n",
    "stats_dictionary = {}\n",
    "x=1\n",
    "for i in i_range:\n",
    "    for j in range(4, 17, 2):\n",
    "        for k in range(25, 66, 10):\n",
    "            if x>0:\n",
    "                variation = f\"n: {i}, rsi_n: {j}, rsi_overbought: {k}\"\n",
    "                print(variation)\n",
    "                tb = await execute(data, i, j, k)\n",
    "                # print(len(tb))\n",
    "                if len(tb) > 0:\n",
    "                #     tb_ce = tb[tb['Option Type'] == 'C']\n",
    "                #     tb_pe = tb[tb['Option Type'] == 'P']\n",
    "                    stats = generate_stats(tb, variation)\n",
    "                    # print(stats)\n",
    "                #     stats_ce = generate_stats(tb_ce, i, j, k, l,m,n,o,p)\n",
    "                #     stats_pe = generate_stats(tb_ce, i, j, k, l,m,n,o,p)\n",
    "            \n",
    "                    for overall_roi_dd_ratio, stats_df in stats.items():\n",
    "                        if overall_roi_dd_ratio is not None and overall_roi_dd_ratio > 10:\n",
    "                            # print(\"Overall Combined\")\n",
    "                            print(stats_df.to_string())\n",
    "                            stats_dictionary[overall_roi_dd_ratio] = stats_df\n",
    "            x+=1"
   ]
  },
  {
   "cell_type": "code",
   "execution_count": 42,
   "id": "262caf3c-dd45-4dfa-92be-f58c803cff13",
   "metadata": {
    "collapsed": true,
    "execution": {
     "iopub.execute_input": "2024-12-24T14:27:37.660822Z",
     "iopub.status.busy": "2024-12-24T14:27:37.660441Z",
     "iopub.status.idle": "2024-12-24T14:27:37.849365Z",
     "shell.execute_reply": "2024-12-24T14:27:37.848420Z",
     "shell.execute_reply.started": "2024-12-24T14:27:37.660803Z"
    },
    "jupyter": {
     "outputs_hidden": true,
     "source_hidden": true
    }
   },
   "outputs": [
    {
     "data": {
      "image/png": "[encoded data removed]",
      "text/plain": [
       "<Figure size 1200x600 with 1 Axes>"
      ]
     },
     "metadata": {},
     "output_type": "display_data"
    }
   ],
   "source": [
    "import pandas as pd\n",
    "import matplotlib.pyplot as plt\n",
    "\n",
    "# Check if 'DTE' and 'ROI%' columns exist in the DataFrame\n",
    "if 'DTE' in tb.columns and 'ROI%' in tb.columns:\n",
    "    # Group by 'DTE' and calculate the sum of ROI% and max DD\n",
    "    result = tb.groupby('DTE').agg(\n",
    "        ROI_Sum=('ROI%', 'sum'),\n",
    "        Max_DD=('ROI%', lambda x: x.cumsum().min())\n",
    "    )\n",
    "\n",
    "    # Plot ROI% Sum and Max DD\n",
    "    plt.figure(figsize=(12, 6))\n",
    "\n",
    "    # ROI% Sum plot\n",
    "    plt.bar(result.index, result['ROI_Sum'], color='blue', alpha=0.7, label='ROI% Sum')\n",
    "\n",
    "    # Max DD plot\n",
    "    # plt.plot(result.index, result['Max_DD'], color='red', marker='o', label='Max DD')\n",
    "\n",
    "    # Graph details\n",
    "    plt.title(\"ROI% Across DTEs\")\n",
    "    plt.xlabel(\"DTE\")\n",
    "    plt.ylabel(\"Value\")\n",
    "    plt.xticks(rotation=45)\n",
    "    plt.legend()\n",
    "    plt.tight_layout()\n",
    "    plt.show()\n",
    "else:\n",
    "    print(\"Ensure the DataFrame has both 'DTE' and 'ROI%' columns.\")\n"
   ]
  },
  {
   "cell_type": "code",
   "execution_count": null,
   "id": "704e3f5e-8eee-4866-8de8-28eca5216440",
   "metadata": {},
   "outputs": [],
   "source": []
  }
 ],
 "metadata": {
  "kernelspec": {
   "display_name": "Python 3 (ipykernel)",
   "language": "python",
   "name": "python3"
  },
  "language_info": {
   "codemirror_mode": {
    "name": "ipython",
    "version": 3
   },
   "file_extension": ".py",
   "mimetype": "text/x-python",
   "name": "python",
   "nbconvert_exporter": "python",
   "pygments_lexer": "ipython3",
   "version": "3.11.6"
  }
 },
 "nbformat": 4,
 "nbformat_minor": 5
}
