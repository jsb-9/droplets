{
 "cells": [
  {
   "cell_type": "code",
   "execution_count": 1,
   "id": "9d2b7737-29c0-4e9c-81be-22f308a58551",
   "metadata": {
    "execution": {
     "iopub.execute_input": "2024-12-29T14:09:09.347664Z",
     "iopub.status.busy": "2024-12-29T14:09:09.347229Z",
     "iopub.status.idle": "2024-12-29T14:09:10.371871Z",
     "shell.execute_reply": "2024-12-29T14:09:10.370755Z",
     "shell.execute_reply.started": "2024-12-29T14:09:09.347623Z"
    }
   },
   "outputs": [],
   "source": [
    "import asyncio\n",
    "import datetime as dt\n",
    "import math\n",
    "from typing import Literal\n",
    "\n",
    "import matplotlib.pyplot as plt\n",
    "import mplfinance as mpf\n",
    "import numpy as np\n",
    "import pandas as pd\n",
    "import pandas_market_calendars as mcal\n",
    "import plotly.graph_objects as go\n",
    "import polars as pl\n",
    "from dash import Dash, dcc, html\n",
    "from plotly.subplots import make_subplots\n",
    "\n",
    "nse = mcal.get_calendar(\"NSE\")"
   ]
  },
  {
   "cell_type": "code",
   "execution_count": 2,
   "id": "122c4272-78d2-402b-8130-c4551b666fd9",
   "metadata": {
    "execution": {
     "iopub.execute_input": "2024-12-29T14:09:10.373636Z",
     "iopub.status.busy": "2024-12-29T14:09:10.373294Z",
     "iopub.status.idle": "2024-12-29T14:09:10.378453Z",
     "shell.execute_reply": "2024-12-29T14:09:10.377365Z",
     "shell.execute_reply.started": "2024-12-29T14:09:10.373619Z"
    }
   },
   "outputs": [],
   "source": [
    "pd.set_option(\"display.max_rows\", 25_000)\n",
    "pd.set_option(\"display.max_columns\", 500)\n",
    "pl.Config.set_tbl_cols(500)\n",
    "pl.Config.set_tbl_rows(10_000)\n",
    "\n",
    "pd.options.display.float_format = \"{:.4f}\".format"
   ]
  },
  {
   "cell_type": "code",
   "execution_count": 3,
   "id": "51a40e28-776d-4d4f-943c-360eaa4a03a4",
   "metadata": {
    "execution": {
     "iopub.execute_input": "2024-12-29T14:09:10.379648Z",
     "iopub.status.busy": "2024-12-29T14:09:10.379479Z",
     "iopub.status.idle": "2024-12-29T14:09:10.604988Z",
     "shell.execute_reply": "2024-12-29T14:09:10.603671Z",
     "shell.execute_reply.started": "2024-12-29T14:09:10.379632Z"
    }
   },
   "outputs": [],
   "source": [
    "import sys\n",
    "\n",
    "sys.path.append(\"..\")\n",
    "from tooling.enums import AssetClass, Index, Spot, StrikeSpread\n",
    "from tooling.fetch import fetch_option_data, fetch_spot_data\n",
    "from tooling.filter import find_atm, option_tool"
   ]
  },
  {
   "cell_type": "code",
   "execution_count": 4,
   "id": "3214a842-62b8-4f5b-9d0a-867108139d2b",
   "metadata": {
    "execution": {
     "iopub.execute_input": "2024-12-29T14:09:10.939187Z",
     "iopub.status.busy": "2024-12-29T14:09:10.938496Z",
     "iopub.status.idle": "2024-12-29T14:09:10.952659Z",
     "shell.execute_reply": "2024-12-29T14:09:10.951619Z",
     "shell.execute_reply.started": "2024-12-29T14:09:10.939165Z"
    }
   },
   "outputs": [],
   "source": [
    "async def get_expiry(f_today, index):\n",
    "\n",
    "    if index == 'bnf':    \n",
    "        if (f_today <= dt.date(2024, 1, 25)) and (f_today >= dt.date(2024, 1, 18)):\n",
    "            f_expiry = dt.date(2024, 1, 25)\n",
    "        elif (f_today <= dt.date(2024, 1, 31)) and (f_today >= dt.date(2024, 1, 26)):\n",
    "            f_expiry = dt.date(2024, 1, 31)\n",
    "        elif (f_today <= dt.date(2024, 2, 22)) and (f_today >= dt.date(2024, 2, 29)):\n",
    "            f_expiry = dt.date(2024, 2, 29)\n",
    "        elif (f_today <= dt.date(2024, 3, 25)) and (f_today >= dt.date(2024, 3, 27)):\n",
    "            f_expiry = dt.date(2024, 2, 27)\n",
    "        elif f_today < dt.date(2023, 9, 1):\n",
    "            days_to_thursday = (3 - f_today.weekday()) % 7\n",
    "            nearest_thursday = f_today + dt.timedelta(days=days_to_thursday)\n",
    "            f_expiry = nearest_thursday\n",
    "            if nse.valid_days(start_date=nearest_thursday, end_date=nearest_thursday).empty:\n",
    "                f_expiry = nearest_thursday - dt.timedelta(days=1)\n",
    "        elif f_today >= dt.date(2023, 9, 1):\n",
    "            if f_today.day < 24:\n",
    "                days_to_wednesday = (2 - f_today.weekday()) % 7\n",
    "                nearest_wednesday = f_today + dt.timedelta(days=days_to_wednesday)\n",
    "                f_expiry = nearest_wednesday\n",
    "                if nse.valid_days(\n",
    "                    start_date=nearest_wednesday, end_date=nearest_wednesday\n",
    "                ).empty:\n",
    "                    f_expiry = nearest_wednesday - dt.timedelta(days=1)\n",
    "            else:\n",
    "                days_to_thursday = (3 - f_today.weekday()) % 7\n",
    "                nearest_thursday = f_today + dt.timedelta(days=days_to_thursday)\n",
    "                f_expiry = nearest_thursday\n",
    "                if nse.valid_days(\n",
    "                    start_date=nearest_thursday, end_date=nearest_thursday\n",
    "                ).empty:\n",
    "                    f_expiry = nearest_thursday - dt.timedelta(days=1)\n",
    "        return f_expiry\n",
    "\n",
    "    elif index == 'nifty':\n",
    "        days_to_thursday = (3 - f_today.weekday()) % 7\n",
    "        nearest_thursday = f_today + dt.timedelta(days=days_to_thursday)\n",
    "        f_expiry = nearest_thursday\n",
    "        if nse.valid_days(start_date=nearest_thursday, end_date=nearest_thursday).empty:\n",
    "            f_expiry = nearest_thursday - dt.timedelta(days=1)\n",
    "        return f_expiry\n",
    "\n",
    "    elif index == 'finnifty' or index == 'fnf':\n",
    "        days_to_thursday = (1 - f_today.weekday()) % 7\n",
    "        nearest_thursday = f_today + dt.timedelta(days=days_to_thursday)\n",
    "        f_expiry = nearest_thursday\n",
    "        if nse.valid_days(start_date=nearest_thursday, end_date=nearest_thursday).empty:\n",
    "            f_expiry = nearest_thursday - dt.timedelta(days=1)\n",
    "        return f_expiry\n",
    "\n",
    "    elif index == 'midcpnifty' or index == 'midcp':\n",
    "        days_to_thursday = (0 - f_today.weekday()) % 7\n",
    "        nearest_thursday = f_today + dt.timedelta(days=days_to_thursday)\n",
    "        f_expiry = nearest_thursday\n",
    "        if nse.valid_days(start_date=nearest_thursday, end_date=nearest_thursday).empty:\n",
    "            f_expiry = nearest_thursday - dt.timedelta(days=1)\n",
    "        return f_expiry\n",
    "\n",
    "async def get_expiry_nifty(f_today):\n",
    "\n",
    "    days_to_thursday = (3 - f_today.weekday()) % 7\n",
    "    nearest_thursday = f_today + dt.timedelta(days=days_to_thursday)\n",
    "    f_expiry = nearest_thursday\n",
    "    if nse.valid_days(start_date=nearest_thursday, end_date=nearest_thursday).empty:\n",
    "        f_expiry = nearest_thursday - dt.timedelta(days=1)\n",
    "    return f_expiry\n",
    "\n",
    "\n",
    "async def get_option_contract_name(symbol, strike, expiry, opt_type):\n",
    "    temp = \"0\"\n",
    "    mth = expiry.month\n",
    "\n",
    "    if (expiry + dt.timedelta(days=7)).month != expiry.month:\n",
    "        date_string = expiry.strftime(\"%y%b\").upper()\n",
    "        return f\"{symbol}{date_string}{strike}{opt_type}\"\n",
    "    else:\n",
    "        if expiry.day <= 9:\n",
    "            date_string = f\"{expiry.year - 2000}{mth}{temp}{expiry.day}\"\n",
    "        else:\n",
    "            date_string = f\"{expiry.year - 2000}{mth}{expiry.day}\"\n",
    "        return f\"{symbol}{date_string}{strike}{opt_type}\"\n",
    "\n",
    "\n",
    "def get_option_contract_name2(symbol, strike, expiry, opt_type):\n",
    "    temp = \"0\"\n",
    "    mth = expiry.month\n",
    "\n",
    "    if (expiry + dt.timedelta(days=7)).month != expiry.month:\n",
    "        date_string = expiry.strftime(\"%y%b\").upper()\n",
    "        return f\"{symbol}{date_string}{strike}{opt_type}\"\n",
    "    else:\n",
    "        if expiry.day <= 9:\n",
    "            date_string = f\"{expiry.year - 2000}{mth}{temp}{expiry.day}\"\n",
    "        else:\n",
    "            date_string = f\"{expiry.year - 2000}{mth}{expiry.day}\"\n",
    "        return f\"{symbol}{date_string}{strike}{opt_type}\""
   ]
  },
  {
   "cell_type": "code",
   "execution_count": 11,
   "id": "2e857451-f1ad-41b1-af19-a411065430d2",
   "metadata": {
    "execution": {
     "iopub.execute_input": "2024-12-29T14:10:06.335268Z",
     "iopub.status.busy": "2024-12-29T14:10:06.334912Z",
     "iopub.status.idle": "2024-12-29T14:10:06.459040Z",
     "shell.execute_reply": "2024-12-29T14:10:06.457399Z",
     "shell.execute_reply.started": "2024-12-29T14:10:06.335247Z"
    }
   },
   "outputs": [],
   "source": [
    "bnf_1min = pd.read_csv(\"../data/nifty_wave.csv\")\n",
    "bnf_1min[\"datetime\"] = pd.to_datetime(bnf_1min[\"time\"])\n",
    "bnf_1min = bnf_1min[bnf_1min[\"datetime\"].dt.year >= 2017]"
   ]
  },
  {
   "cell_type": "code",
   "execution_count": 12,
   "id": "48a36159-0175-4478-9873-2b497f0d1b64",
   "metadata": {
    "execution": {
     "iopub.execute_input": "2024-12-29T14:10:06.773605Z",
     "iopub.status.busy": "2024-12-29T14:10:06.772796Z",
     "iopub.status.idle": "2024-12-29T14:10:06.783596Z",
     "shell.execute_reply": "2024-12-29T14:10:06.782290Z",
     "shell.execute_reply.started": "2024-12-29T14:10:06.773585Z"
    }
   },
   "outputs": [
    {
     "data": {
      "text/html": [
       "<div>\n",
       "<style scoped>\n",
       "    .dataframe tbody tr th:only-of-type {\n",
       "        vertical-align: middle;\n",
       "    }\n",
       "\n",
       "    .dataframe tbody tr th {\n",
       "        vertical-align: top;\n",
       "    }\n",
       "\n",
       "    .dataframe thead th {\n",
       "        text-align: right;\n",
       "    }\n",
       "</style>\n",
       "<table border=\"1\" class=\"dataframe\">\n",
       "  <thead>\n",
       "    <tr style=\"text-align: right;\">\n",
       "      <th></th>\n",
       "      <th>time</th>\n",
       "      <th>open</th>\n",
       "      <th>high</th>\n",
       "      <th>low</th>\n",
       "      <th>close</th>\n",
       "      <th>MA</th>\n",
       "      <th>Plot</th>\n",
       "      <th>Zero line</th>\n",
       "      <th>MACD Signal</th>\n",
       "      <th>datetime</th>\n",
       "    </tr>\n",
       "  </thead>\n",
       "  <tbody>\n",
       "    <tr>\n",
       "      <th>17188</th>\n",
       "      <td>2024-12-05T09:15:00+05:30</td>\n",
       "      <td>24512.2000</td>\n",
       "      <td>24539.9500</td>\n",
       "      <td>24396.2000</td>\n",
       "      <td>24400.1000</td>\n",
       "      <td>24258.1475</td>\n",
       "      <td>59.4254</td>\n",
       "      <td>0</td>\n",
       "      <td>59.4254</td>\n",
       "      <td>2024-12-05 09:15:00+05:30</td>\n",
       "    </tr>\n",
       "    <tr>\n",
       "      <th>17189</th>\n",
       "      <td>2024-12-05T10:15:00+05:30</td>\n",
       "      <td>24400.3500</td>\n",
       "      <td>24441.7500</td>\n",
       "      <td>24295.5500</td>\n",
       "      <td>24368.0500</td>\n",
       "      <td>24259.3125</td>\n",
       "      <td>33.7507</td>\n",
       "      <td>0</td>\n",
       "      <td>33.7507</td>\n",
       "      <td>2024-12-05 10:15:00+05:30</td>\n",
       "    </tr>\n",
       "    <tr>\n",
       "      <th>17190</th>\n",
       "      <td>2024-12-05T11:15:00+05:30</td>\n",
       "      <td>24367.6000</td>\n",
       "      <td>24604.9000</td>\n",
       "      <td>24330.1000</td>\n",
       "      <td>24589.9000</td>\n",
       "      <td>24266.8637</td>\n",
       "      <td>70.0144</td>\n",
       "      <td>0</td>\n",
       "      <td>70.0144</td>\n",
       "      <td>2024-12-05 11:15:00+05:30</td>\n",
       "    </tr>\n",
       "    <tr>\n",
       "      <th>17191</th>\n",
       "      <td>2024-12-05T12:15:00+05:30</td>\n",
       "      <td>24589.7000</td>\n",
       "      <td>24648.6000</td>\n",
       "      <td>24560.7500</td>\n",
       "      <td>24631.1000</td>\n",
       "      <td>24275.7887</td>\n",
       "      <td>99.4746</td>\n",
       "      <td>0</td>\n",
       "      <td>99.4746</td>\n",
       "      <td>2024-12-05 12:15:00+05:30</td>\n",
       "    </tr>\n",
       "    <tr>\n",
       "      <th>17192</th>\n",
       "      <td>2024-12-05T13:15:00+05:30</td>\n",
       "      <td>24633.8500</td>\n",
       "      <td>24677.2000</td>\n",
       "      <td>24570.7500</td>\n",
       "      <td>24650.5000</td>\n",
       "      <td>24285.1175</td>\n",
       "      <td>118.7053</td>\n",
       "      <td>0</td>\n",
       "      <td>118.7053</td>\n",
       "      <td>2024-12-05 13:15:00+05:30</td>\n",
       "    </tr>\n",
       "  </tbody>\n",
       "</table>\n",
       "</div>"
      ],
      "text/plain": [
       "                            time       open       high        low      close  \\\n",
       "17188  2024-12-05T09:15:00+05:30 24512.2000 24539.9500 24396.2000 24400.1000   \n",
       "17189  2024-12-05T10:15:00+05:30 24400.3500 24441.7500 24295.5500 24368.0500   \n",
       "17190  2024-12-05T11:15:00+05:30 24367.6000 24604.9000 24330.1000 24589.9000   \n",
       "17191  2024-12-05T12:15:00+05:30 24589.7000 24648.6000 24560.7500 24631.1000   \n",
       "17192  2024-12-05T13:15:00+05:30 24633.8500 24677.2000 24570.7500 24650.5000   \n",
       "\n",
       "              MA     Plot  Zero line  MACD Signal                  datetime  \n",
       "17188 24258.1475  59.4254          0      59.4254 2024-12-05 09:15:00+05:30  \n",
       "17189 24259.3125  33.7507          0      33.7507 2024-12-05 10:15:00+05:30  \n",
       "17190 24266.8637  70.0144          0      70.0144 2024-12-05 11:15:00+05:30  \n",
       "17191 24275.7887  99.4746          0      99.4746 2024-12-05 12:15:00+05:30  \n",
       "17192 24285.1175 118.7053          0     118.7053 2024-12-05 13:15:00+05:30  "
      ]
     },
     "execution_count": 12,
     "metadata": {},
     "output_type": "execute_result"
    }
   ],
   "source": [
    "bnf_1min.tail()"
   ]
  },
  {
   "cell_type": "code",
   "execution_count": 13,
   "id": "4ef48017-caf2-4c38-8cad-888ad3695b83",
   "metadata": {
    "execution": {
     "iopub.execute_input": "2024-12-29T14:10:09.103024Z",
     "iopub.status.busy": "2024-12-29T14:10:09.102259Z",
     "iopub.status.idle": "2024-12-29T14:10:09.108656Z",
     "shell.execute_reply": "2024-12-29T14:10:09.107589Z",
     "shell.execute_reply.started": "2024-12-29T14:10:09.103003Z"
    }
   },
   "outputs": [],
   "source": [
    "def resample(\n",
    "    data: pl.DataFrame, timeframe, offset: dt.timedelta | None = None\n",
    ") -> pl.DataFrame:\n",
    "    return (\n",
    "        data.set_sorted(\"datetime\")\n",
    "        .group_by_dynamic(\n",
    "            index_column=\"datetime\",\n",
    "            every=timeframe,\n",
    "            period=timeframe,\n",
    "            label=\"left\",\n",
    "            offset=offset,\n",
    "        )\n",
    "        .agg(\n",
    "            [\n",
    "                pl.col(\"open\").first().alias(\"open\"),\n",
    "                pl.col(\"high\").max().alias(\"high\"),\n",
    "                pl.col(\"low\").min().alias(\"low\"),\n",
    "                pl.col(\"close\").last().alias(\"close\"),\n",
    "                pl.col(\"volume\").sum().alias(\"volume\"),\n",
    "            ]\n",
    "        )\n",
    "    )\n",
    "\n",
    "\n",
    "# ohlc_resampled = resample(pl.DataFrame(bnf_1min), '7d', pd.Timedelta(days=4))\n",
    "# ohlc_resampled"
   ]
  },
  {
   "cell_type": "code",
   "execution_count": 14,
   "id": "6251bee5-31c3-4cab-8031-dc8bb109d126",
   "metadata": {
    "execution": {
     "iopub.execute_input": "2024-12-29T14:10:09.427044Z",
     "iopub.status.busy": "2024-12-29T14:10:09.426690Z",
     "iopub.status.idle": "2024-12-29T14:10:09.453550Z",
     "shell.execute_reply": "2024-12-29T14:10:09.452413Z",
     "shell.execute_reply.started": "2024-12-29T14:10:09.427017Z"
    },
    "scrolled": true
   },
   "outputs": [
    {
     "data": {
      "text/plain": [
       "{datetime.date(2020, 9, 28),\n",
       " datetime.date(2018, 6, 25),\n",
       " datetime.date(2023, 5, 12),\n",
       " datetime.date(2023, 8, 28),\n",
       " datetime.date(2023, 12, 13),\n",
       " datetime.date(2023, 7, 10),\n",
       " datetime.date(2022, 1, 5),\n",
       " datetime.date(2022, 2, 15),\n",
       " datetime.date(2019, 9, 26),\n",
       " datetime.date(2023, 4, 27),\n",
       " datetime.date(2023, 9, 11),\n",
       " datetime.date(2020, 5, 29),\n",
       " datetime.date(2019, 2, 6),\n",
       " datetime.date(2022, 2, 4),\n",
       " datetime.date(2017, 4, 19),\n",
       " datetime.date(2020, 2, 5),\n",
       " datetime.date(2024, 3, 1),\n",
       " datetime.date(2023, 11, 1),\n",
       " datetime.date(2018, 10, 10),\n",
       " datetime.date(2023, 11, 3),\n",
       " datetime.date(2020, 4, 1),\n",
       " datetime.date(2021, 1, 21),\n",
       " datetime.date(2024, 4, 8),\n",
       " datetime.date(2024, 3, 19),\n",
       " datetime.date(2019, 9, 17),\n",
       " datetime.date(2022, 9, 30),\n",
       " datetime.date(2021, 4, 7),\n",
       " datetime.date(2022, 8, 11),\n",
       " datetime.date(2024, 6, 20),\n",
       " datetime.date(2021, 8, 20),\n",
       " datetime.date(2023, 1, 23),\n",
       " datetime.date(2023, 5, 29),\n",
       " datetime.date(2022, 12, 16),\n",
       " datetime.date(2017, 6, 23),\n",
       " datetime.date(2017, 4, 6),\n",
       " datetime.date(2021, 9, 15),\n",
       " datetime.date(2023, 9, 4),\n",
       " datetime.date(2024, 6, 11),\n",
       " datetime.date(2018, 5, 24),\n",
       " datetime.date(2021, 1, 28),\n",
       " datetime.date(2021, 2, 4),\n",
       " datetime.date(2021, 5, 26),\n",
       " datetime.date(2017, 1, 10),\n",
       " datetime.date(2020, 6, 25),\n",
       " datetime.date(2019, 10, 7),\n",
       " datetime.date(2019, 3, 19),\n",
       " datetime.date(2021, 4, 13),\n",
       " datetime.date(2023, 10, 23),\n",
       " datetime.date(2024, 1, 12),\n",
       " datetime.date(2021, 9, 22),\n",
       " datetime.date(2019, 12, 17),\n",
       " datetime.date(2018, 1, 30),\n",
       " datetime.date(2020, 8, 12),\n",
       " datetime.date(2023, 9, 14),\n",
       " datetime.date(2018, 1, 29),\n",
       " datetime.date(2020, 12, 15),\n",
       " datetime.date(2019, 11, 18),\n",
       " datetime.date(2018, 4, 10),\n",
       " datetime.date(2019, 2, 14),\n",
       " datetime.date(2019, 2, 20),\n",
       " datetime.date(2021, 2, 22),\n",
       " datetime.date(2019, 4, 1),\n",
       " datetime.date(2019, 8, 14),\n",
       " datetime.date(2022, 8, 17),\n",
       " datetime.date(2017, 10, 16),\n",
       " datetime.date(2018, 2, 19),\n",
       " datetime.date(2021, 12, 9),\n",
       " datetime.date(2021, 2, 26),\n",
       " datetime.date(2017, 9, 12),\n",
       " datetime.date(2022, 1, 31),\n",
       " datetime.date(2021, 5, 25),\n",
       " datetime.date(2023, 9, 26),\n",
       " datetime.date(2023, 8, 10),\n",
       " datetime.date(2019, 9, 25),\n",
       " datetime.date(2017, 11, 15),\n",
       " datetime.date(2017, 7, 4),\n",
       " datetime.date(2020, 9, 21),\n",
       " datetime.date(2021, 11, 29),\n",
       " datetime.date(2022, 11, 22),\n",
       " datetime.date(2017, 6, 29),\n",
       " datetime.date(2023, 10, 20),\n",
       " datetime.date(2022, 2, 17),\n",
       " datetime.date(2018, 1, 10),\n",
       " datetime.date(2019, 4, 18),\n",
       " datetime.date(2020, 8, 14),\n",
       " datetime.date(2020, 6, 30),\n",
       " datetime.date(2023, 5, 18),\n",
       " datetime.date(2019, 6, 24),\n",
       " datetime.date(2022, 5, 19),\n",
       " datetime.date(2018, 12, 11),\n",
       " datetime.date(2020, 7, 3),\n",
       " datetime.date(2024, 4, 3),\n",
       " datetime.date(2018, 8, 30),\n",
       " datetime.date(2021, 9, 13),\n",
       " datetime.date(2022, 9, 8),\n",
       " datetime.date(2017, 11, 7),\n",
       " datetime.date(2020, 1, 20),\n",
       " datetime.date(2018, 7, 30),\n",
       " datetime.date(2023, 2, 27),\n",
       " datetime.date(2019, 3, 12),\n",
       " datetime.date(2021, 7, 5),\n",
       " datetime.date(2020, 4, 16),\n",
       " datetime.date(2022, 11, 15),\n",
       " datetime.date(2022, 2, 3),\n",
       " datetime.date(2021, 12, 30),\n",
       " datetime.date(2022, 6, 6),\n",
       " datetime.date(2021, 3, 26),\n",
       " datetime.date(2021, 7, 27),\n",
       " datetime.date(2020, 5, 21),\n",
       " datetime.date(2019, 10, 18),\n",
       " datetime.date(2017, 10, 26),\n",
       " datetime.date(2018, 7, 10),\n",
       " datetime.date(2022, 5, 13),\n",
       " datetime.date(2019, 10, 27),\n",
       " datetime.date(2024, 9, 3),\n",
       " datetime.date(2022, 3, 4),\n",
       " datetime.date(2022, 10, 24),\n",
       " datetime.date(2024, 10, 4),\n",
       " datetime.date(2024, 11, 4),\n",
       " datetime.date(2018, 11, 20),\n",
       " datetime.date(2023, 9, 8),\n",
       " datetime.date(2017, 9, 15),\n",
       " datetime.date(2017, 3, 20),\n",
       " datetime.date(2023, 12, 26),\n",
       " datetime.date(2020, 1, 1),\n",
       " datetime.date(2021, 4, 30),\n",
       " datetime.date(2018, 2, 14),\n",
       " datetime.date(2020, 8, 10),\n",
       " datetime.date(2021, 2, 19),\n",
       " datetime.date(2021, 7, 29),\n",
       " datetime.date(2017, 12, 12),\n",
       " datetime.date(2019, 8, 29),\n",
       " datetime.date(2023, 12, 1),\n",
       " datetime.date(2017, 12, 14),\n",
       " datetime.date(2020, 10, 23),\n",
       " datetime.date(2021, 3, 1),\n",
       " datetime.date(2023, 7, 3),\n",
       " datetime.date(2022, 4, 27),\n",
       " datetime.date(2024, 7, 18),\n",
       " datetime.date(2018, 8, 13),\n",
       " datetime.date(2019, 11, 1),\n",
       " datetime.date(2021, 12, 3),\n",
       " datetime.date(2023, 3, 16),\n",
       " datetime.date(2017, 4, 17),\n",
       " datetime.date(2017, 7, 18),\n",
       " datetime.date(2024, 11, 19),\n",
       " datetime.date(2022, 6, 29),\n",
       " datetime.date(2019, 9, 4),\n",
       " datetime.date(2021, 7, 22),\n",
       " datetime.date(2017, 5, 31),\n",
       " datetime.date(2024, 9, 18),\n",
       " datetime.date(2019, 11, 19),\n",
       " datetime.date(2024, 1, 10),\n",
       " datetime.date(2021, 12, 7),\n",
       " datetime.date(2022, 9, 13),\n",
       " datetime.date(2018, 9, 3),\n",
       " datetime.date(2023, 1, 25),\n",
       " datetime.date(2017, 7, 27),\n",
       " datetime.date(2022, 9, 19),\n",
       " datetime.date(2022, 12, 5),\n",
       " datetime.date(2021, 10, 26),\n",
       " datetime.date(2024, 6, 24),\n",
       " datetime.date(2020, 2, 10),\n",
       " datetime.date(2020, 3, 13),\n",
       " datetime.date(2017, 4, 27),\n",
       " datetime.date(2020, 5, 20),\n",
       " datetime.date(2022, 11, 7),\n",
       " datetime.date(2024, 8, 30),\n",
       " datetime.date(2022, 9, 14),\n",
       " datetime.date(2019, 3, 6),\n",
       " datetime.date(2019, 11, 27),\n",
       " datetime.date(2020, 10, 29),\n",
       " datetime.date(2023, 1, 19),\n",
       " datetime.date(2024, 8, 16),\n",
       " datetime.date(2017, 8, 28),\n",
       " datetime.date(2021, 1, 1),\n",
       " datetime.date(2021, 6, 28),\n",
       " datetime.date(2023, 1, 27),\n",
       " datetime.date(2023, 5, 24),\n",
       " datetime.date(2024, 2, 29),\n",
       " datetime.date(2024, 5, 21),\n",
       " datetime.date(2023, 7, 11),\n",
       " datetime.date(2022, 6, 7),\n",
       " datetime.date(2017, 4, 18),\n",
       " datetime.date(2018, 12, 4),\n",
       " datetime.date(2020, 6, 1),\n",
       " datetime.date(2020, 12, 21),\n",
       " datetime.date(2022, 2, 25),\n",
       " datetime.date(2022, 12, 27),\n",
       " datetime.date(2019, 9, 30),\n",
       " datetime.date(2021, 6, 11),\n",
       " datetime.date(2017, 2, 14),\n",
       " datetime.date(2024, 5, 18),\n",
       " datetime.date(2017, 2, 3),\n",
       " datetime.date(2021, 8, 13),\n",
       " datetime.date(2023, 2, 2),\n",
       " datetime.date(2023, 12, 11),\n",
       " datetime.date(2020, 6, 26),\n",
       " datetime.date(2023, 10, 9),\n",
       " datetime.date(2022, 6, 24),\n",
       " datetime.date(2023, 8, 18),\n",
       " datetime.date(2023, 4, 3),\n",
       " datetime.date(2020, 3, 26),\n",
       " datetime.date(2018, 11, 30),\n",
       " datetime.date(2017, 1, 23),\n",
       " datetime.date(2022, 12, 14),\n",
       " datetime.date(2024, 7, 10),\n",
       " datetime.date(2021, 12, 2),\n",
       " datetime.date(2017, 5, 29),\n",
       " datetime.date(2018, 6, 11),\n",
       " datetime.date(2020, 11, 11),\n",
       " datetime.date(2024, 1, 25),\n",
       " datetime.date(2019, 4, 26),\n",
       " datetime.date(2022, 12, 8),\n",
       " datetime.date(2023, 3, 31),\n",
       " datetime.date(2021, 10, 6),\n",
       " datetime.date(2020, 12, 9),\n",
       " datetime.date(2021, 2, 11),\n",
       " datetime.date(2017, 2, 15),\n",
       " datetime.date(2020, 10, 5),\n",
       " datetime.date(2021, 9, 21),\n",
       " datetime.date(2024, 8, 5),\n",
       " datetime.date(2022, 1, 24),\n",
       " datetime.date(2018, 4, 27),\n",
       " datetime.date(2020, 1, 27),\n",
       " datetime.date(2018, 8, 21),\n",
       " datetime.date(2020, 6, 11),\n",
       " datetime.date(2024, 5, 14),\n",
       " datetime.date(2021, 6, 9),\n",
       " datetime.date(2022, 3, 8),\n",
       " datetime.date(2024, 8, 7),\n",
       " datetime.date(2024, 3, 4),\n",
       " datetime.date(2018, 7, 31),\n",
       " datetime.date(2022, 3, 22),\n",
       " datetime.date(2023, 1, 9),\n",
       " datetime.date(2017, 4, 24),\n",
       " datetime.date(2023, 6, 8),\n",
       " datetime.date(2019, 3, 13),\n",
       " datetime.date(2022, 10, 27),\n",
       " datetime.date(2023, 11, 8),\n",
       " datetime.date(2017, 12, 28),\n",
       " datetime.date(2024, 7, 30),\n",
       " datetime.date(2018, 7, 6),\n",
       " datetime.date(2023, 7, 28),\n",
       " datetime.date(2017, 2, 23),\n",
       " datetime.date(2021, 2, 24),\n",
       " datetime.date(2019, 9, 24),\n",
       " datetime.date(2018, 2, 23),\n",
       " datetime.date(2019, 2, 12),\n",
       " datetime.date(2019, 11, 21),\n",
       " datetime.date(2020, 9, 22),\n",
       " datetime.date(2024, 6, 7),\n",
       " datetime.date(2023, 7, 7),\n",
       " datetime.date(2019, 3, 14),\n",
       " datetime.date(2018, 3, 26),\n",
       " datetime.date(2024, 1, 16),\n",
       " datetime.date(2017, 10, 9),\n",
       " datetime.date(2019, 8, 20),\n",
       " datetime.date(2021, 7, 8),\n",
       " datetime.date(2023, 2, 8),\n",
       " datetime.date(2021, 9, 28),\n",
       " datetime.date(2017, 5, 4),\n",
       " datetime.date(2021, 2, 8),\n",
       " datetime.date(2022, 6, 23),\n",
       " datetime.date(2019, 8, 21),\n",
       " datetime.date(2017, 3, 7),\n",
       " datetime.date(2024, 5, 17),\n",
       " datetime.date(2017, 6, 13),\n",
       " datetime.date(2023, 3, 1),\n",
       " datetime.date(2022, 6, 14),\n",
       " datetime.date(2017, 2, 20),\n",
       " datetime.date(2021, 1, 29),\n",
       " datetime.date(2020, 3, 23),\n",
       " datetime.date(2018, 5, 4),\n",
       " datetime.date(2024, 6, 5),\n",
       " datetime.date(2019, 9, 6),\n",
       " datetime.date(2021, 3, 22),\n",
       " datetime.date(2018, 12, 24),\n",
       " datetime.date(2020, 3, 17),\n",
       " datetime.date(2024, 9, 9),\n",
       " datetime.date(2024, 4, 25),\n",
       " datetime.date(2022, 11, 3),\n",
       " datetime.date(2020, 12, 11),\n",
       " datetime.date(2022, 11, 24),\n",
       " datetime.date(2017, 1, 6),\n",
       " datetime.date(2022, 6, 15),\n",
       " datetime.date(2024, 7, 1),\n",
       " datetime.date(2024, 11, 29),\n",
       " datetime.date(2020, 8, 19),\n",
       " datetime.date(2017, 1, 25),\n",
       " datetime.date(2022, 10, 20),\n",
       " datetime.date(2021, 7, 6),\n",
       " datetime.date(2017, 5, 3),\n",
       " datetime.date(2018, 7, 20),\n",
       " datetime.date(2022, 11, 18),\n",
       " datetime.date(2020, 6, 23),\n",
       " datetime.date(2024, 1, 30),\n",
       " datetime.date(2018, 7, 12),\n",
       " datetime.date(2021, 11, 30),\n",
       " datetime.date(2024, 1, 18),\n",
       " datetime.date(2019, 12, 6),\n",
       " datetime.date(2019, 12, 31),\n",
       " datetime.date(2024, 10, 14),\n",
       " datetime.date(2022, 6, 1),\n",
       " datetime.date(2020, 6, 29),\n",
       " datetime.date(2017, 10, 12),\n",
       " datetime.date(2020, 11, 26),\n",
       " datetime.date(2018, 7, 19),\n",
       " datetime.date(2024, 10, 29),\n",
       " datetime.date(2017, 8, 2),\n",
       " datetime.date(2021, 3, 12),\n",
       " datetime.date(2021, 6, 22),\n",
       " datetime.date(2021, 4, 29),\n",
       " datetime.date(2022, 10, 17),\n",
       " datetime.date(2023, 3, 22),\n",
       " datetime.date(2024, 8, 19),\n",
       " datetime.date(2022, 10, 19),\n",
       " datetime.date(2022, 7, 20),\n",
       " datetime.date(2021, 12, 17),\n",
       " datetime.date(2019, 1, 2),\n",
       " datetime.date(2024, 6, 13),\n",
       " datetime.date(2021, 8, 16),\n",
       " datetime.date(2021, 11, 10),\n",
       " datetime.date(2024, 2, 22),\n",
       " datetime.date(2021, 6, 1),\n",
       " datetime.date(2018, 12, 10),\n",
       " datetime.date(2019, 7, 30),\n",
       " datetime.date(2024, 9, 6),\n",
       " datetime.date(2023, 11, 29),\n",
       " datetime.date(2023, 9, 21),\n",
       " datetime.date(2021, 8, 12),\n",
       " datetime.date(2023, 4, 6),\n",
       " datetime.date(2020, 7, 2),\n",
       " datetime.date(2017, 2, 16),\n",
       " datetime.date(2020, 4, 13),\n",
       " datetime.date(2022, 2, 1),\n",
       " datetime.date(2023, 5, 5),\n",
       " datetime.date(2024, 8, 20),\n",
       " datetime.date(2023, 3, 27),\n",
       " datetime.date(2018, 4, 24),\n",
       " datetime.date(2020, 6, 5),\n",
       " datetime.date(2019, 1, 1),\n",
       " datetime.date(2019, 2, 5),\n",
       " datetime.date(2022, 8, 30),\n",
       " datetime.date(2020, 11, 5),\n",
       " datetime.date(2021, 8, 10),\n",
       " datetime.date(2017, 11, 17),\n",
       " datetime.date(2018, 4, 9),\n",
       " datetime.date(2021, 9, 24),\n",
       " datetime.date(2024, 5, 13),\n",
       " datetime.date(2019, 10, 22),\n",
       " datetime.date(2019, 1, 24),\n",
       " datetime.date(2023, 12, 20),\n",
       " datetime.date(2017, 8, 18),\n",
       " datetime.date(2019, 6, 11),\n",
       " datetime.date(2019, 11, 5),\n",
       " datetime.date(2019, 10, 25),\n",
       " datetime.date(2021, 1, 15),\n",
       " datetime.date(2020, 2, 4),\n",
       " datetime.date(2020, 6, 24),\n",
       " datetime.date(2018, 9, 12),\n",
       " datetime.date(2018, 4, 20),\n",
       " datetime.date(2024, 6, 10),\n",
       " datetime.date(2022, 9, 5),\n",
       " datetime.date(2024, 5, 9),\n",
       " datetime.date(2022, 4, 21),\n",
       " datetime.date(2023, 4, 20),\n",
       " datetime.date(2017, 8, 4),\n",
       " datetime.date(2017, 1, 20),\n",
       " datetime.date(2022, 1, 7),\n",
       " datetime.date(2023, 11, 28),\n",
       " datetime.date(2021, 12, 21),\n",
       " datetime.date(2018, 8, 6),\n",
       " datetime.date(2023, 12, 21),\n",
       " datetime.date(2020, 6, 9),\n",
       " datetime.date(2024, 5, 31),\n",
       " datetime.date(2017, 1, 24),\n",
       " datetime.date(2022, 1, 18),\n",
       " datetime.date(2024, 12, 2),\n",
       " datetime.date(2018, 11, 19),\n",
       " datetime.date(2017, 5, 30),\n",
       " datetime.date(2022, 5, 27),\n",
       " datetime.date(2017, 1, 5),\n",
       " datetime.date(2024, 9, 20),\n",
       " datetime.date(2021, 10, 29),\n",
       " datetime.date(2022, 4, 7),\n",
       " datetime.date(2018, 3, 27),\n",
       " datetime.date(2022, 7, 13),\n",
       " datetime.date(2018, 3, 7),\n",
       " datetime.date(2021, 3, 15),\n",
       " datetime.date(2023, 3, 9),\n",
       " datetime.date(2019, 10, 10),\n",
       " datetime.date(2022, 7, 22),\n",
       " datetime.date(2024, 2, 26),\n",
       " datetime.date(2020, 2, 12),\n",
       " datetime.date(2019, 10, 29),\n",
       " datetime.date(2022, 3, 25),\n",
       " datetime.date(2024, 5, 6),\n",
       " datetime.date(2017, 5, 15),\n",
       " datetime.date(2020, 1, 14),\n",
       " datetime.date(2019, 10, 15),\n",
       " datetime.date(2019, 7, 18),\n",
       " datetime.date(2019, 7, 12),\n",
       " datetime.date(2022, 8, 24),\n",
       " datetime.date(2018, 6, 27),\n",
       " datetime.date(2020, 12, 1),\n",
       " datetime.date(2021, 8, 6),\n",
       " datetime.date(2021, 6, 21),\n",
       " datetime.date(2017, 10, 18),\n",
       " datetime.date(2022, 9, 12),\n",
       " datetime.date(2020, 6, 22),\n",
       " datetime.date(2018, 4, 2),\n",
       " datetime.date(2018, 3, 19),\n",
       " datetime.date(2020, 2, 1),\n",
       " datetime.date(2019, 6, 3),\n",
       " datetime.date(2018, 8, 2),\n",
       " datetime.date(2020, 9, 30),\n",
       " datetime.date(2018, 10, 12),\n",
       " datetime.date(2020, 3, 30),\n",
       " datetime.date(2023, 9, 15),\n",
       " datetime.date(2017, 5, 2),\n",
       " datetime.date(2021, 5, 20),\n",
       " datetime.date(2023, 6, 6),\n",
       " datetime.date(2022, 1, 13),\n",
       " datetime.date(2020, 1, 23),\n",
       " datetime.date(2019, 7, 5),\n",
       " datetime.date(2022, 2, 11),\n",
       " datetime.date(2019, 7, 1),\n",
       " datetime.date(2022, 9, 2),\n",
       " datetime.date(2020, 11, 6),\n",
       " datetime.date(2022, 1, 19),\n",
       " datetime.date(2019, 7, 17),\n",
       " datetime.date(2021, 7, 1),\n",
       " datetime.date(2024, 4, 10),\n",
       " datetime.date(2023, 3, 3),\n",
       " datetime.date(2024, 4, 2),\n",
       " datetime.date(2019, 1, 22),\n",
       " datetime.date(2019, 4, 10),\n",
       " datetime.date(2023, 8, 30),\n",
       " datetime.date(2022, 6, 27),\n",
       " datetime.date(2022, 5, 17),\n",
       " datetime.date(2018, 7, 11),\n",
       " datetime.date(2019, 8, 22),\n",
       " datetime.date(2021, 6, 16),\n",
       " datetime.date(2019, 9, 27),\n",
       " datetime.date(2017, 8, 7),\n",
       " datetime.date(2022, 3, 29),\n",
       " datetime.date(2018, 12, 7),\n",
       " datetime.date(2019, 12, 26),\n",
       " datetime.date(2021, 3, 25),\n",
       " datetime.date(2024, 2, 2),\n",
       " datetime.date(2018, 3, 13),\n",
       " datetime.date(2020, 9, 29),\n",
       " datetime.date(2018, 7, 3),\n",
       " datetime.date(2018, 8, 20),\n",
       " datetime.date(2020, 11, 19),\n",
       " datetime.date(2023, 6, 12),\n",
       " datetime.date(2019, 1, 18),\n",
       " datetime.date(2020, 12, 2),\n",
       " datetime.date(2022, 10, 12),\n",
       " datetime.date(2017, 11, 24),\n",
       " datetime.date(2018, 10, 30),\n",
       " datetime.date(2020, 5, 11),\n",
       " datetime.date(2018, 8, 14),\n",
       " datetime.date(2021, 5, 5),\n",
       " datetime.date(2017, 2, 1),\n",
       " datetime.date(2022, 10, 13),\n",
       " datetime.date(2019, 1, 4),\n",
       " datetime.date(2021, 5, 17),\n",
       " datetime.date(2023, 8, 4),\n",
       " datetime.date(2023, 4, 21),\n",
       " datetime.date(2018, 6, 6),\n",
       " datetime.date(2018, 5, 21),\n",
       " datetime.date(2020, 11, 18),\n",
       " datetime.date(2022, 10, 14),\n",
       " datetime.date(2022, 4, 19),\n",
       " datetime.date(2023, 6, 14),\n",
       " datetime.date(2021, 9, 6),\n",
       " datetime.date(2023, 2, 17),\n",
       " datetime.date(2019, 7, 10),\n",
       " datetime.date(2022, 1, 14),\n",
       " datetime.date(2020, 8, 28),\n",
       " datetime.date(2023, 2, 6),\n",
       " datetime.date(2018, 3, 9),\n",
       " datetime.date(2017, 8, 3),\n",
       " datetime.date(2020, 10, 20),\n",
       " datetime.date(2022, 6, 10),\n",
       " datetime.date(2023, 3, 14),\n",
       " datetime.date(2018, 8, 17),\n",
       " datetime.date(2024, 10, 1),\n",
       " datetime.date(2019, 5, 27),\n",
       " datetime.date(2021, 7, 13),\n",
       " datetime.date(2022, 11, 25),\n",
       " datetime.date(2024, 9, 19),\n",
       " datetime.date(2024, 1, 2),\n",
       " datetime.date(2017, 1, 4),\n",
       " datetime.date(2022, 8, 8),\n",
       " datetime.date(2023, 8, 11),\n",
       " datetime.date(2021, 5, 7),\n",
       " datetime.date(2017, 4, 13),\n",
       " datetime.date(2022, 7, 21),\n",
       " datetime.date(2022, 8, 23),\n",
       " datetime.date(2019, 3, 5),\n",
       " datetime.date(2024, 7, 4),\n",
       " datetime.date(2021, 12, 10),\n",
       " datetime.date(2023, 6, 2),\n",
       " datetime.date(2020, 3, 4),\n",
       " datetime.date(2021, 2, 18),\n",
       " datetime.date(2020, 7, 6),\n",
       " datetime.date(2023, 11, 12),\n",
       " datetime.date(2021, 11, 1),\n",
       " datetime.date(2017, 5, 23),\n",
       " datetime.date(2018, 12, 20),\n",
       " datetime.date(2017, 7, 6),\n",
       " datetime.date(2021, 3, 4),\n",
       " datetime.date(2024, 1, 3),\n",
       " datetime.date(2023, 7, 24),\n",
       " datetime.date(2024, 9, 24),\n",
       " datetime.date(2024, 4, 9),\n",
       " datetime.date(2021, 2, 9),\n",
       " datetime.date(2023, 10, 10),\n",
       " datetime.date(2018, 7, 9),\n",
       " datetime.date(2018, 9, 5),\n",
       " datetime.date(2020, 3, 11),\n",
       " datetime.date(2018, 10, 9),\n",
       " datetime.date(2024, 10, 9),\n",
       " datetime.date(2019, 7, 15),\n",
       " datetime.date(2021, 9, 8),\n",
       " datetime.date(2017, 11, 22),\n",
       " datetime.date(2017, 2, 21),\n",
       " datetime.date(2020, 1, 17),\n",
       " datetime.date(2018, 7, 23),\n",
       " datetime.date(2019, 6, 20),\n",
       " datetime.date(2021, 9, 14),\n",
       " datetime.date(2018, 11, 21),\n",
       " datetime.date(2023, 5, 2),\n",
       " datetime.date(2017, 4, 3),\n",
       " datetime.date(2017, 10, 5),\n",
       " datetime.date(2018, 10, 4),\n",
       " datetime.date(2018, 2, 16),\n",
       " datetime.date(2018, 8, 3),\n",
       " datetime.date(2020, 4, 27),\n",
       " datetime.date(2020, 8, 6),\n",
       " datetime.date(2023, 7, 26),\n",
       " datetime.date(2022, 9, 15),\n",
       " datetime.date(2022, 3, 24),\n",
       " datetime.date(2024, 2, 27),\n",
       " datetime.date(2021, 3, 18),\n",
       " datetime.date(2024, 3, 15),\n",
       " datetime.date(2017, 2, 8),\n",
       " datetime.date(2020, 10, 19),\n",
       " datetime.date(2022, 3, 3),\n",
       " datetime.date(2023, 5, 22),\n",
       " datetime.date(2024, 7, 19),\n",
       " datetime.date(2017, 12, 6),\n",
       " datetime.date(2020, 4, 9),\n",
       " datetime.date(2024, 11, 7),\n",
       " datetime.date(2020, 9, 23),\n",
       " datetime.date(2021, 11, 8),\n",
       " datetime.date(2024, 5, 10),\n",
       " datetime.date(2020, 2, 3),\n",
       " datetime.date(2023, 12, 5),\n",
       " datetime.date(2018, 10, 8),\n",
       " datetime.date(2024, 1, 1),\n",
       " datetime.date(2017, 11, 27),\n",
       " datetime.date(2024, 11, 21),\n",
       " datetime.date(2020, 4, 3),\n",
       " datetime.date(2022, 1, 27),\n",
       " datetime.date(2019, 12, 27),\n",
       " datetime.date(2019, 5, 24),\n",
       " datetime.date(2019, 5, 30),\n",
       " datetime.date(2020, 1, 10),\n",
       " datetime.date(2017, 3, 23),\n",
       " datetime.date(2019, 3, 28),\n",
       " datetime.date(2018, 3, 21),\n",
       " datetime.date(2023, 4, 26),\n",
       " datetime.date(2021, 11, 24),\n",
       " datetime.date(2017, 10, 31),\n",
       " datetime.date(2024, 6, 28),\n",
       " datetime.date(2017, 6, 19),\n",
       " datetime.date(2021, 5, 3),\n",
       " datetime.date(2023, 6, 9),\n",
       " datetime.date(2023, 3, 15),\n",
       " datetime.date(2024, 7, 26),\n",
       " datetime.date(2017, 9, 13),\n",
       " datetime.date(2023, 5, 30),\n",
       " datetime.date(2022, 9, 6),\n",
       " datetime.date(2019, 9, 3),\n",
       " datetime.date(2017, 9, 29),\n",
       " datetime.date(2019, 3, 7),\n",
       " datetime.date(2018, 5, 9),\n",
       " datetime.date(2021, 1, 22),\n",
       " datetime.date(2023, 9, 5),\n",
       " datetime.date(2021, 2, 12),\n",
       " datetime.date(2017, 8, 1),\n",
       " datetime.date(2023, 7, 13),\n",
       " datetime.date(2023, 10, 6),\n",
       " datetime.date(2017, 4, 20),\n",
       " datetime.date(2021, 4, 1),\n",
       " datetime.date(2021, 12, 20),\n",
       " datetime.date(2018, 4, 18),\n",
       " datetime.date(2019, 4, 3),\n",
       " datetime.date(2022, 3, 31),\n",
       " datetime.date(2024, 11, 1),\n",
       " datetime.date(2019, 7, 26),\n",
       " datetime.date(2024, 7, 9),\n",
       " datetime.date(2019, 7, 2),\n",
       " datetime.date(2022, 9, 1),\n",
       " datetime.date(2020, 1, 21),\n",
       " datetime.date(2020, 11, 20),\n",
       " datetime.date(2022, 11, 9),\n",
       " datetime.date(2019, 5, 29),\n",
       " datetime.date(2019, 5, 31),\n",
       " datetime.date(2020, 3, 16),\n",
       " datetime.date(2022, 3, 11),\n",
       " datetime.date(2024, 7, 22),\n",
       " datetime.date(2022, 1, 25),\n",
       " datetime.date(2017, 6, 8),\n",
       " datetime.date(2018, 10, 24),\n",
       " datetime.date(2020, 5, 5),\n",
       " datetime.date(2021, 12, 6),\n",
       " datetime.date(2021, 7, 19),\n",
       " datetime.date(2019, 2, 26),\n",
       " datetime.date(2019, 4, 25),\n",
       " datetime.date(2023, 3, 2),\n",
       " datetime.date(2017, 9, 6),\n",
       " datetime.date(2023, 9, 1),\n",
       " datetime.date(2019, 6, 18),\n",
       " datetime.date(2018, 9, 27),\n",
       " datetime.date(2022, 4, 13),\n",
       " datetime.date(2021, 3, 16),\n",
       " datetime.date(2019, 1, 23),\n",
       " datetime.date(2021, 4, 26),\n",
       " datetime.date(2024, 10, 17),\n",
       " datetime.date(2021, 1, 7),\n",
       " datetime.date(2020, 7, 20),\n",
       " datetime.date(2022, 9, 28),\n",
       " datetime.date(2024, 8, 8),\n",
       " datetime.date(2019, 5, 21),\n",
       " datetime.date(2024, 2, 1),\n",
       " datetime.date(2017, 9, 21),\n",
       " datetime.date(2024, 2, 9),\n",
       " datetime.date(2017, 8, 23),\n",
       " datetime.date(2024, 7, 5),\n",
       " datetime.date(2022, 7, 1),\n",
       " datetime.date(2020, 10, 30),\n",
       " datetime.date(2018, 3, 12),\n",
       " datetime.date(2023, 5, 25),\n",
       " datetime.date(2024, 10, 7),\n",
       " datetime.date(2019, 10, 11),\n",
       " datetime.date(2021, 6, 3),\n",
       " datetime.date(2023, 5, 3),\n",
       " datetime.date(2017, 1, 16),\n",
       " datetime.date(2023, 3, 6),\n",
       " datetime.date(2019, 5, 3),\n",
       " datetime.date(2018, 5, 3),\n",
       " datetime.date(2021, 10, 18),\n",
       " datetime.date(2017, 3, 30),\n",
       " datetime.date(2022, 3, 10),\n",
       " datetime.date(2019, 7, 9),\n",
       " datetime.date(2017, 7, 10),\n",
       " datetime.date(2017, 6, 12),\n",
       " datetime.date(2020, 10, 21),\n",
       " datetime.date(2019, 4, 16),\n",
       " datetime.date(2024, 10, 11),\n",
       " datetime.date(2022, 11, 11),\n",
       " datetime.date(2021, 8, 30),\n",
       " datetime.date(2023, 1, 24),\n",
       " datetime.date(2021, 5, 31),\n",
       " datetime.date(2017, 11, 28),\n",
       " datetime.date(2024, 7, 2),\n",
       " datetime.date(2017, 12, 13),\n",
       " datetime.date(2021, 10, 5),\n",
       " datetime.date(2021, 2, 3),\n",
       " datetime.date(2023, 10, 19),\n",
       " datetime.date(2018, 10, 22),\n",
       " datetime.date(2018, 6, 13),\n",
       " datetime.date(2017, 6, 14),\n",
       " datetime.date(2018, 8, 27),\n",
       " datetime.date(2022, 1, 11),\n",
       " datetime.date(2020, 12, 31),\n",
       " datetime.date(2020, 5, 7),\n",
       " datetime.date(2020, 3, 27),\n",
       " datetime.date(2024, 8, 13),\n",
       " datetime.date(2024, 4, 16),\n",
       " datetime.date(2018, 11, 13),\n",
       " datetime.date(2019, 1, 11),\n",
       " datetime.date(2023, 3, 23),\n",
       " datetime.date(2024, 11, 18),\n",
       " datetime.date(2024, 7, 25),\n",
       " datetime.date(2024, 10, 28),\n",
       " datetime.date(2024, 2, 7),\n",
       " datetime.date(2023, 6, 7),\n",
       " datetime.date(2018, 4, 12),\n",
       " datetime.date(2022, 9, 20),\n",
       " datetime.date(2020, 7, 17),\n",
       " datetime.date(2022, 11, 4),\n",
       " datetime.date(2024, 5, 28),\n",
       " datetime.date(2018, 5, 23),\n",
       " datetime.date(2019, 11, 20),\n",
       " datetime.date(2020, 11, 9),\n",
       " datetime.date(2019, 8, 8),\n",
       " datetime.date(2017, 1, 11),\n",
       " datetime.date(2024, 10, 25),\n",
       " datetime.date(2017, 5, 5),\n",
       " datetime.date(2018, 9, 18),\n",
       " datetime.date(2022, 5, 5),\n",
       " datetime.date(2018, 7, 24),\n",
       " datetime.date(2022, 2, 9),\n",
       " datetime.date(2023, 5, 16),\n",
       " datetime.date(2023, 8, 29),\n",
       " datetime.date(2021, 11, 17),\n",
       " datetime.date(2018, 12, 18),\n",
       " datetime.date(2023, 7, 5),\n",
       " datetime.date(2024, 4, 4),\n",
       " datetime.date(2024, 11, 8),\n",
       " datetime.date(2021, 11, 23),\n",
       " datetime.date(2023, 6, 15),\n",
       " datetime.date(2018, 7, 25),\n",
       " datetime.date(2023, 11, 15),\n",
       " datetime.date(2021, 1, 5),\n",
       " datetime.date(2023, 9, 22),\n",
       " datetime.date(2019, 7, 3),\n",
       " datetime.date(2024, 6, 12),\n",
       " datetime.date(2019, 12, 11),\n",
       " datetime.date(2022, 1, 10),\n",
       " datetime.date(2020, 4, 29),\n",
       " datetime.date(2024, 5, 16),\n",
       " datetime.date(2024, 10, 24),\n",
       " datetime.date(2020, 10, 28),\n",
       " datetime.date(2017, 9, 7),\n",
       " datetime.date(2019, 1, 7),\n",
       " datetime.date(2020, 4, 30),\n",
       " datetime.date(2018, 5, 25),\n",
       " datetime.date(2022, 11, 17),\n",
       " datetime.date(2020, 1, 29),\n",
       " datetime.date(2024, 2, 21),\n",
       " datetime.date(2021, 9, 29),\n",
       " datetime.date(2024, 6, 6),\n",
       " datetime.date(2023, 9, 27),\n",
       " datetime.date(2022, 3, 15),\n",
       " datetime.date(2019, 2, 19),\n",
       " datetime.date(2020, 5, 4),\n",
       " datetime.date(2017, 5, 26),\n",
       " datetime.date(2020, 9, 18),\n",
       " datetime.date(2024, 8, 1),\n",
       " datetime.date(2024, 8, 2),\n",
       " datetime.date(2017, 11, 1),\n",
       " datetime.date(2020, 7, 16),\n",
       " datetime.date(2021, 5, 28),\n",
       " datetime.date(2020, 10, 7),\n",
       " datetime.date(2021, 2, 2),\n",
       " datetime.date(2023, 6, 30),\n",
       " datetime.date(2022, 3, 14),\n",
       " datetime.date(2024, 5, 24),\n",
       " datetime.date(2018, 6, 4),\n",
       " datetime.date(2022, 10, 31),\n",
       " datetime.date(2022, 2, 21),\n",
       " datetime.date(2017, 7, 26),\n",
       " datetime.date(2019, 8, 19),\n",
       " datetime.date(2018, 12, 13),\n",
       " datetime.date(2019, 8, 27),\n",
       " datetime.date(2024, 12, 4),\n",
       " datetime.date(2023, 7, 17),\n",
       " datetime.date(2017, 6, 16),\n",
       " datetime.date(2021, 6, 18),\n",
       " datetime.date(2017, 4, 12),\n",
       " datetime.date(2024, 3, 20),\n",
       " datetime.date(2019, 1, 3),\n",
       " datetime.date(2020, 3, 20),\n",
       " datetime.date(2022, 8, 25),\n",
       " datetime.date(2018, 5, 7),\n",
       " datetime.date(2021, 3, 3),\n",
       " datetime.date(2020, 2, 27),\n",
       " datetime.date(2017, 11, 9),\n",
       " datetime.date(2017, 8, 17),\n",
       " datetime.date(2018, 9, 24),\n",
       " datetime.date(2019, 7, 31),\n",
       " datetime.date(2017, 3, 2),\n",
       " datetime.date(2019, 5, 17),\n",
       " datetime.date(2020, 6, 12),\n",
       " datetime.date(2018, 6, 28),\n",
       " datetime.date(2018, 9, 19),\n",
       " datetime.date(2023, 11, 10),\n",
       " datetime.date(2023, 4, 12),\n",
       " datetime.date(2023, 5, 31),\n",
       " datetime.date(2017, 11, 16),\n",
       " datetime.date(2021, 8, 26),\n",
       " datetime.date(2018, 9, 25),\n",
       " datetime.date(2020, 2, 26),\n",
       " datetime.date(2017, 5, 8),\n",
       " datetime.date(2018, 7, 27),\n",
       " datetime.date(2017, 4, 21),\n",
       " datetime.date(2019, 5, 9),\n",
       " datetime.date(2023, 8, 16),\n",
       " datetime.date(2024, 3, 14),\n",
       " datetime.date(2017, 2, 10),\n",
       " datetime.date(2020, 7, 31),\n",
       " datetime.date(2020, 9, 8),\n",
       " datetime.date(2022, 4, 29),\n",
       " datetime.date(2018, 3, 16),\n",
       " datetime.date(2017, 8, 16),\n",
       " datetime.date(2019, 12, 13),\n",
       " datetime.date(2022, 2, 16),\n",
       " datetime.date(2024, 9, 12),\n",
       " datetime.date(2023, 7, 20),\n",
       " datetime.date(2020, 4, 24),\n",
       " datetime.date(2021, 8, 17),\n",
       " datetime.date(2019, 3, 27),\n",
       " datetime.date(2024, 4, 29),\n",
       " datetime.date(2017, 9, 5),\n",
       " datetime.date(2019, 12, 20),\n",
       " datetime.date(2021, 10, 19),\n",
       " datetime.date(2017, 6, 20),\n",
       " datetime.date(2018, 10, 23),\n",
       " datetime.date(2018, 12, 21),\n",
       " datetime.date(2022, 2, 10),\n",
       " datetime.date(2018, 10, 31),\n",
       " datetime.date(2023, 7, 27),\n",
       " datetime.date(2017, 8, 14),\n",
       " datetime.date(2024, 2, 6),\n",
       " datetime.date(2022, 2, 2),\n",
       " datetime.date(2024, 8, 9),\n",
       " datetime.date(2021, 8, 24),\n",
       " datetime.date(2018, 5, 17),\n",
       " datetime.date(2018, 10, 5),\n",
       " datetime.date(2021, 11, 22),\n",
       " datetime.date(2021, 4, 22),\n",
       " datetime.date(2023, 6, 16),\n",
       " datetime.date(2022, 4, 22),\n",
       " datetime.date(2017, 3, 14),\n",
       " datetime.date(2019, 5, 20),\n",
       " datetime.date(2023, 1, 30),\n",
       " datetime.date(2017, 6, 27),\n",
       " datetime.date(2017, 1, 17),\n",
       " datetime.date(2018, 8, 31),\n",
       " datetime.date(2023, 10, 27),\n",
       " datetime.date(2021, 10, 25),\n",
       " datetime.date(2020, 7, 13),\n",
       " datetime.date(2023, 11, 21),\n",
       " datetime.date(2020, 2, 6),\n",
       " datetime.date(2017, 4, 26),\n",
       " datetime.date(2017, 2, 2),\n",
       " datetime.date(2019, 11, 13),\n",
       " datetime.date(2023, 5, 10),\n",
       " datetime.date(2021, 5, 11),\n",
       " datetime.date(2024, 4, 12),\n",
       " datetime.date(2024, 2, 28),\n",
       " datetime.date(2023, 2, 20),\n",
       " datetime.date(2019, 12, 19),\n",
       " datetime.date(2020, 8, 13),\n",
       " datetime.date(2018, 11, 12),\n",
       " datetime.date(2022, 7, 15),\n",
       " datetime.date(2018, 10, 17),\n",
       " datetime.date(2017, 11, 29),\n",
       " datetime.date(2021, 11, 9),\n",
       " datetime.date(2019, 8, 13),\n",
       " datetime.date(2023, 2, 24),\n",
       " datetime.date(2023, 1, 17),\n",
       " datetime.date(2023, 4, 17),\n",
       " datetime.date(2024, 2, 13),\n",
       " datetime.date(2020, 3, 24),\n",
       " datetime.date(2021, 1, 13),\n",
       " datetime.date(2021, 11, 16),\n",
       " datetime.date(2018, 2, 12),\n",
       " datetime.date(2020, 8, 21),\n",
       " datetime.date(2018, 1, 9),\n",
       " datetime.date(2019, 5, 23),\n",
       " datetime.date(2017, 9, 26),\n",
       " datetime.date(2021, 6, 24),\n",
       " datetime.date(2018, 6, 1),\n",
       " datetime.date(2024, 3, 22),\n",
       " datetime.date(2021, 7, 28),\n",
       " datetime.date(2022, 12, 7),\n",
       " datetime.date(2018, 4, 30),\n",
       " datetime.date(2023, 1, 12),\n",
       " datetime.date(2022, 12, 13),\n",
       " datetime.date(2023, 11, 13),\n",
       " datetime.date(2022, 4, 20),\n",
       " datetime.date(2020, 3, 6),\n",
       " datetime.date(2020, 9, 4),\n",
       " datetime.date(2020, 1, 16),\n",
       " datetime.date(2017, 1, 19),\n",
       " datetime.date(2018, 1, 24),\n",
       " datetime.date(2024, 6, 4),\n",
       " datetime.date(2022, 12, 21),\n",
       " datetime.date(2022, 6, 28),\n",
       " datetime.date(2019, 4, 23),\n",
       " datetime.date(2018, 3, 5),\n",
       " datetime.date(2018, 12, 12),\n",
       " datetime.date(2018, 2, 21),\n",
       " datetime.date(2018, 10, 25),\n",
       " datetime.date(2022, 11, 29),\n",
       " datetime.date(2021, 11, 4),\n",
       " datetime.date(2017, 9, 18),\n",
       " datetime.date(2023, 9, 29),\n",
       " datetime.date(2023, 6, 5),\n",
       " datetime.date(2021, 8, 4),\n",
       " datetime.date(2020, 2, 20),\n",
       " datetime.date(2020, 3, 31),\n",
       " datetime.date(2023, 10, 16),\n",
       " datetime.date(2021, 11, 18),\n",
       " datetime.date(2023, 1, 11),\n",
       " datetime.date(2021, 5, 10),\n",
       " datetime.date(2024, 3, 28),\n",
       " datetime.date(2018, 12, 5),\n",
       " datetime.date(2020, 3, 18),\n",
       " datetime.date(2018, 4, 23),\n",
       " datetime.date(2020, 1, 22),\n",
       " datetime.date(2020, 11, 4),\n",
       " datetime.date(2024, 8, 23),\n",
       " datetime.date(2024, 9, 10),\n",
       " datetime.date(2017, 11, 10),\n",
       " datetime.date(2020, 12, 4),\n",
       " datetime.date(2021, 5, 24),\n",
       " datetime.date(2018, 7, 16),\n",
       " datetime.date(2018, 11, 28),\n",
       " datetime.date(2017, 2, 13),\n",
       " datetime.date(2017, 7, 25),\n",
       " datetime.date(2017, 12, 26),\n",
       " datetime.date(2024, 1, 29),\n",
       " datetime.date(2023, 11, 23),\n",
       " datetime.date(2024, 1, 11),\n",
       " datetime.date(2017, 9, 28),\n",
       " datetime.date(2024, 11, 12),\n",
       " datetime.date(2018, 10, 15),\n",
       " datetime.date(2019, 9, 19),\n",
       " datetime.date(2024, 8, 28),\n",
       " datetime.date(2018, 4, 4),\n",
       " datetime.date(2017, 10, 25),\n",
       " datetime.date(2022, 7, 4),\n",
       " datetime.date(2017, 7, 31),\n",
       " datetime.date(2020, 4, 15),\n",
       " datetime.date(2024, 5, 30),\n",
       " datetime.date(2021, 2, 17),\n",
       " datetime.date(2021, 10, 1),\n",
       " datetime.date(2017, 6, 7),\n",
       " datetime.date(2024, 6, 27),\n",
       " datetime.date(2018, 2, 26),\n",
       " datetime.date(2019, 12, 12),\n",
       " datetime.date(2019, 2, 28),\n",
       " datetime.date(2019, 7, 24),\n",
       " datetime.date(2018, 4, 6),\n",
       " datetime.date(2019, 6, 6),\n",
       " datetime.date(2019, 6, 26),\n",
       " datetime.date(2017, 9, 19),\n",
       " datetime.date(2024, 6, 25),\n",
       " datetime.date(2019, 10, 24),\n",
       " datetime.date(2021, 10, 22),\n",
       " datetime.date(2023, 8, 23),\n",
       " datetime.date(2022, 11, 2),\n",
       " datetime.date(2019, 10, 1),\n",
       " datetime.date(2023, 2, 15),\n",
       " datetime.date(2021, 12, 1),\n",
       " datetime.date(2018, 6, 22),\n",
       " datetime.date(2019, 11, 14),\n",
       " datetime.date(2017, 3, 15),\n",
       " datetime.date(2021, 1, 25),\n",
       " datetime.date(2020, 1, 24),\n",
       " datetime.date(2018, 7, 13),\n",
       " datetime.date(2023, 4, 25),\n",
       " datetime.date(2020, 3, 2),\n",
       " datetime.date(2019, 4, 30),\n",
       " datetime.date(2021, 8, 2),\n",
       " datetime.date(2023, 2, 28),\n",
       " datetime.date(2018, 4, 16),\n",
       " datetime.date(2019, 11, 22),\n",
       " datetime.date(2020, 9, 15),\n",
       " datetime.date(2017, 2, 7),\n",
       " datetime.date(2020, 4, 17),\n",
       " datetime.date(2023, 3, 20),\n",
       " datetime.date(2018, 11, 15),\n",
       " datetime.date(2022, 12, 9),\n",
       " datetime.date(2023, 8, 14),\n",
       " datetime.date(2021, 2, 10),\n",
       " datetime.date(2024, 3, 11),\n",
       " datetime.date(2017, 7, 14),\n",
       " datetime.date(2023, 2, 23),\n",
       " datetime.date(2024, 8, 14),\n",
       " datetime.date(2017, 9, 4),\n",
       " datetime.date(2021, 10, 21),\n",
       " datetime.date(2020, 10, 13),\n",
       " datetime.date(2021, 9, 9),\n",
       " datetime.date(2020, 5, 27),\n",
       " datetime.date(2024, 11, 11),\n",
       " datetime.date(2017, 3, 24),\n",
       " datetime.date(2017, 11, 2),\n",
       " datetime.date(2020, 7, 22),\n",
       " datetime.date(2024, 5, 3),\n",
       " datetime.date(2019, 1, 28),\n",
       " datetime.date(2018, 1, 17),\n",
       " datetime.date(2019, 1, 21),\n",
       " datetime.date(2022, 2, 14),\n",
       " datetime.date(2017, 10, 17),\n",
       " datetime.date(2018, 11, 29),\n",
       " datetime.date(2020, 8, 5),\n",
       " datetime.date(2020, 10, 16),\n",
       " datetime.date(2022, 5, 16),\n",
       " datetime.date(2017, 5, 19),\n",
       " datetime.date(2020, 10, 27),\n",
       " ...}"
      ]
     },
     "execution_count": 14,
     "metadata": {},
     "output_type": "execute_result"
    }
   ],
   "source": [
    "bnf_1min[\"datetime\"] = pd.to_datetime(bnf_1min[\"datetime\"])\n",
    "list_of_traded_dates = set(bnf_1min[\"datetime\"].dt.date)\n",
    "list_of_traded_dates"
   ]
  },
  {
   "cell_type": "code",
   "execution_count": 30,
   "id": "d292f1ac-6b82-4ef2-8404-c8738c87113a",
   "metadata": {
    "execution": {
     "iopub.execute_input": "2024-12-29T14:25:30.943776Z",
     "iopub.status.busy": "2024-12-29T14:25:30.943417Z",
     "iopub.status.idle": "2024-12-29T14:25:30.950659Z",
     "shell.execute_reply": "2024-12-29T14:25:30.949857Z",
     "shell.execute_reply.started": "2024-12-29T14:25:30.943751Z"
    }
   },
   "outputs": [],
   "source": [
    "import pandas as pd\n",
    "\n",
    "def calculate_signals(df, n, rsi_period, rsi_overbought, ema_length):\n",
    "    # Calculate RSI\n",
    "    def calculate_rsi(series, period):\n",
    "        # Calculate the price changes\n",
    "        delta = series.diff()\n",
    "    \n",
    "        # Separate gains and losses\n",
    "        gain = delta.where(delta > 0, 0)\n",
    "        loss = -delta.where(delta < 0, 0)\n",
    "    \n",
    "        # Calculate the first average gain and loss (Simple Moving Average for the first period)\n",
    "        avg_gain = gain.rolling(window=period, min_periods=period).mean()\n",
    "        avg_loss = loss.rolling(window=period, min_periods=period).mean()\n",
    "    \n",
    "        # Calculate the subsequent smoothed averages (similar to EMA)\n",
    "        for i in range(period, len(series)):\n",
    "            avg_gain.iloc[i] = (avg_gain.iloc[i - 1] * (period - 1) + gain.iloc[i]) / period\n",
    "            avg_loss.iloc[i] = (avg_loss.iloc[i - 1] * (period - 1) + loss.iloc[i]) / period\n",
    "    \n",
    "        # Calculate the Relative Strength (RS) and the RSI\n",
    "        rs = avg_gain / avg_loss\n",
    "        rsi = 100 - (100 / (1 + rs))\n",
    "    \n",
    "        return rsi\n",
    "\n",
    "    # Apply the TradingView-style RSI calculation\n",
    "    df['RSI'] = calculate_rsi(df['close'], rsi_period)\n",
    "\n",
    "    # Calculate the previous n candles' low\n",
    "    df['Prev_N_Low'] = df['low'].rolling(window=n).min().shift(1)\n",
    "    df['ema'] = df['close'].ewm(span=ema_length, adjust=False).mean()\n",
    "\n",
    "    # Signal generation logic\n",
    "    df['Sell_Signal'] = (\n",
    "        (df['close'] < df['Prev_N_Low']) &\n",
    "        (df['RSI'] > rsi_overbought)\n",
    "    )\n",
    "\n",
    "    return df"
   ]
  },
  {
   "cell_type": "code",
   "execution_count": 31,
   "id": "8a584c2a-417b-4657-98f7-3ef36c6604c9",
   "metadata": {
    "execution": {
     "iopub.execute_input": "2024-12-29T14:25:31.188671Z",
     "iopub.status.busy": "2024-12-29T14:25:31.187754Z",
     "iopub.status.idle": "2024-12-29T14:25:31.199772Z",
     "shell.execute_reply": "2024-12-29T14:25:31.198674Z",
     "shell.execute_reply.started": "2024-12-29T14:25:31.188652Z"
    }
   },
   "outputs": [
    {
     "data": {
      "text/html": [
       "<div>\n",
       "<style scoped>\n",
       "    .dataframe tbody tr th:only-of-type {\n",
       "        vertical-align: middle;\n",
       "    }\n",
       "\n",
       "    .dataframe tbody tr th {\n",
       "        vertical-align: top;\n",
       "    }\n",
       "\n",
       "    .dataframe thead th {\n",
       "        text-align: right;\n",
       "    }\n",
       "</style>\n",
       "<table border=\"1\" class=\"dataframe\">\n",
       "  <thead>\n",
       "    <tr style=\"text-align: right;\">\n",
       "      <th></th>\n",
       "      <th>time</th>\n",
       "      <th>open</th>\n",
       "      <th>high</th>\n",
       "      <th>low</th>\n",
       "      <th>close</th>\n",
       "      <th>MA</th>\n",
       "      <th>Plot</th>\n",
       "      <th>Zero line</th>\n",
       "      <th>MACD Signal</th>\n",
       "      <th>datetime</th>\n",
       "      <th>RSI</th>\n",
       "      <th>Prev_N_Low</th>\n",
       "      <th>ema</th>\n",
       "      <th>Sell_Signal</th>\n",
       "    </tr>\n",
       "  </thead>\n",
       "  <tbody>\n",
       "    <tr>\n",
       "      <th>3497</th>\n",
       "      <td>2017-01-02T09:15:00+05:30</td>\n",
       "      <td>8212.0000</td>\n",
       "      <td>8212.0000</td>\n",
       "      <td>8141.0000</td>\n",
       "      <td>8154.8000</td>\n",
       "      <td>8037.0038</td>\n",
       "      <td>51.3767</td>\n",
       "      <td>0</td>\n",
       "      <td>51.3767</td>\n",
       "      <td>2017-01-02 09:15:00+05:30</td>\n",
       "      <td>NaN</td>\n",
       "      <td>NaN</td>\n",
       "      <td>8154.8000</td>\n",
       "      <td>False</td>\n",
       "    </tr>\n",
       "    <tr>\n",
       "      <th>3498</th>\n",
       "      <td>2017-01-02T10:15:00+05:30</td>\n",
       "      <td>8155.1500</td>\n",
       "      <td>8161.8000</td>\n",
       "      <td>8133.8000</td>\n",
       "      <td>8146.8000</td>\n",
       "      <td>8040.7650</td>\n",
       "      <td>41.7773</td>\n",
       "      <td>0</td>\n",
       "      <td>41.7773</td>\n",
       "      <td>2017-01-02 10:15:00+05:30</td>\n",
       "      <td>NaN</td>\n",
       "      <td>NaN</td>\n",
       "      <td>8153.7333</td>\n",
       "      <td>False</td>\n",
       "    </tr>\n",
       "    <tr>\n",
       "      <th>3499</th>\n",
       "      <td>2017-01-02T11:15:00+05:30</td>\n",
       "      <td>8146.9500</td>\n",
       "      <td>8159.0500</td>\n",
       "      <td>8137.5000</td>\n",
       "      <td>8150.3000</td>\n",
       "      <td>8044.7463</td>\n",
       "      <td>35.4942</td>\n",
       "      <td>0</td>\n",
       "      <td>35.4942</td>\n",
       "      <td>2017-01-02 11:15:00+05:30</td>\n",
       "      <td>NaN</td>\n",
       "      <td>NaN</td>\n",
       "      <td>8153.2756</td>\n",
       "      <td>False</td>\n",
       "    </tr>\n",
       "    <tr>\n",
       "      <th>3500</th>\n",
       "      <td>2017-01-02T12:15:00+05:30</td>\n",
       "      <td>8150.8500</td>\n",
       "      <td>8166.5500</td>\n",
       "      <td>8144.9500</td>\n",
       "      <td>8165.3500</td>\n",
       "      <td>8049.3050</td>\n",
       "      <td>34.1609</td>\n",
       "      <td>0</td>\n",
       "      <td>34.1609</td>\n",
       "      <td>2017-01-02 12:15:00+05:30</td>\n",
       "      <td>NaN</td>\n",
       "      <td>8133.8000</td>\n",
       "      <td>8154.8855</td>\n",
       "      <td>False</td>\n",
       "    </tr>\n",
       "    <tr>\n",
       "      <th>3501</th>\n",
       "      <td>2017-01-02T13:15:00+05:30</td>\n",
       "      <td>8165.8000</td>\n",
       "      <td>8195.6000</td>\n",
       "      <td>8160.8000</td>\n",
       "      <td>8192.4500</td>\n",
       "      <td>8054.3700</td>\n",
       "      <td>38.7247</td>\n",
       "      <td>0</td>\n",
       "      <td>38.7247</td>\n",
       "      <td>2017-01-02 13:15:00+05:30</td>\n",
       "      <td>85.0885</td>\n",
       "      <td>8133.8000</td>\n",
       "      <td>8159.8941</td>\n",
       "      <td>False</td>\n",
       "    </tr>\n",
       "  </tbody>\n",
       "</table>\n",
       "</div>"
      ],
      "text/plain": [
       "                           time      open      high       low     close  \\\n",
       "3497  2017-01-02T09:15:00+05:30 8212.0000 8212.0000 8141.0000 8154.8000   \n",
       "3498  2017-01-02T10:15:00+05:30 8155.1500 8161.8000 8133.8000 8146.8000   \n",
       "3499  2017-01-02T11:15:00+05:30 8146.9500 8159.0500 8137.5000 8150.3000   \n",
       "3500  2017-01-02T12:15:00+05:30 8150.8500 8166.5500 8144.9500 8165.3500   \n",
       "3501  2017-01-02T13:15:00+05:30 8165.8000 8195.6000 8160.8000 8192.4500   \n",
       "\n",
       "            MA    Plot  Zero line  MACD Signal                  datetime  \\\n",
       "3497 8037.0038 51.3767          0      51.3767 2017-01-02 09:15:00+05:30   \n",
       "3498 8040.7650 41.7773          0      41.7773 2017-01-02 10:15:00+05:30   \n",
       "3499 8044.7463 35.4942          0      35.4942 2017-01-02 11:15:00+05:30   \n",
       "3500 8049.3050 34.1609          0      34.1609 2017-01-02 12:15:00+05:30   \n",
       "3501 8054.3700 38.7247          0      38.7247 2017-01-02 13:15:00+05:30   \n",
       "\n",
       "         RSI  Prev_N_Low       ema  Sell_Signal  \n",
       "3497     NaN         NaN 8154.8000        False  \n",
       "3498     NaN         NaN 8153.7333        False  \n",
       "3499     NaN         NaN 8153.2756        False  \n",
       "3500     NaN   8133.8000 8154.8855        False  \n",
       "3501 85.0885   8133.8000 8159.8941        False  "
      ]
     },
     "execution_count": 31,
     "metadata": {},
     "output_type": "execute_result"
    }
   ],
   "source": [
    "bnf_1min.head()"
   ]
  },
  {
   "cell_type": "code",
   "execution_count": 32,
   "id": "fd52bae0-d8af-417e-b4fa-f65fa66631bf",
   "metadata": {
    "execution": {
     "iopub.execute_input": "2024-12-29T14:25:31.405843Z",
     "iopub.status.busy": "2024-12-29T14:25:31.404836Z",
     "iopub.status.idle": "2024-12-29T14:25:31.410547Z",
     "shell.execute_reply": "2024-12-29T14:25:31.408896Z",
     "shell.execute_reply.started": "2024-12-29T14:25:31.405812Z"
    }
   },
   "outputs": [],
   "source": [
    "lev_ = 8\n",
    "portfolio_value = 10000000\n",
    "lot_size_ = 75\n",
    "slippage_ = 0.0002"
   ]
  },
  {
   "cell_type": "code",
   "execution_count": 33,
   "id": "b4f33d1c-4e4b-4d5a-b40b-1666fb729b86",
   "metadata": {
    "execution": {
     "iopub.execute_input": "2024-12-29T14:25:31.645675Z",
     "iopub.status.busy": "2024-12-29T14:25:31.645412Z",
     "iopub.status.idle": "2024-12-29T14:25:31.655635Z",
     "shell.execute_reply": "2024-12-29T14:25:31.654620Z",
     "shell.execute_reply.started": "2024-12-29T14:25:31.645649Z"
    }
   },
   "outputs": [],
   "source": [
    "def backtest_short(df, n, rsi_period, rsi_overbought, ema_length):\n",
    "    df = df.reset_index(drop=True)\n",
    "    trade_book = []\n",
    "    in_trade = False\n",
    "    points = 0\n",
    "    is_trailing_active = False\n",
    "    trailing_sl = 0\n",
    "    df = calculate_signals(df, n, rsi_period, rsi_overbought, ema_length)\n",
    "    # print(df[df['Sell_Signal']].to_string())\n",
    "    for i in range(n, len(df)):\n",
    "        # print(i, df.loc[i], df.loc[i, 'open'])\n",
    "        # break\n",
    "        if df.loc[i, 'Sell_Signal'] and not in_trade:\n",
    "            # Entry Triggered\n",
    "            entry_price = df.loc[i, 'close']\n",
    "            entry_time = df.loc[i, 'datetime']\n",
    "            initial_sl = df.loc[i-n:i, 'high'].max()\n",
    "            sl_in_points = initial_sl - entry_price\n",
    "            target = 5 * sl_in_points\n",
    "            in_trade = True\n",
    "\n",
    "        if in_trade:\n",
    "            if df.loc[i, 'high'] < df.loc[i, 'ema']:\n",
    "                is_trailing_active = True\n",
    "            if is_trailing_active:\n",
    "                trailing_sl = df.loc[i, 'ema']\n",
    "            # print(df.loc[i, 'open'], initial_sl)\n",
    "            # break\n",
    "            if df.loc[i, 'open'] > initial_sl and not points:\n",
    "                # Gap condition\n",
    "                if df.loc[i, 'close'] < initial_sl:\n",
    "                    initial_sl = df.loc[i, 'high']\n",
    "                else:\n",
    "                    exit_price = df.loc[i, 'close']\n",
    "                    exit_time = df.loc[i, 'datetime']\n",
    "                    in_trade = False\n",
    "                    remark = 'Gap SL'\n",
    "                    points = entry_price - exit_price\n",
    "            if df.loc[i, 'high'] > initial_sl and not points:\n",
    "                # Initial SL Hit\n",
    "                exit_price = df.loc[i, 'close']\n",
    "                exit_time = df.loc[i, 'datetime']\n",
    "                in_trade = False\n",
    "                remark = 'Initial SL'\n",
    "                points = entry_price - exit_price\n",
    "            if is_trailing_active:\n",
    "                if df.loc[i, 'close'] > trailing_sl and not points:\n",
    "                    # TSL Hit\n",
    "                    exit_price = df.loc[i, 'close']\n",
    "                    exit_time = df.loc[i, 'datetime']\n",
    "                    in_trade = False\n",
    "                    remark = 'Trailing SL'\n",
    "                    points = entry_price - exit_price\n",
    "            if df.loc[i, 'low'] < entry_price - target and not points:\n",
    "                # Target Hit\n",
    "                exit_price = entry_price - target\n",
    "                exit_time = df.loc[i, 'datetime']\n",
    "                in_trade = False\n",
    "                remark = 'Target'\n",
    "                points = entry_price - exit_price\n",
    "\n",
    "        if points:\n",
    "            index_lev = lev_\n",
    "            qty = int(round(portfolio_value * index_lev / entry_price / lot_size_)) * lot_size_\n",
    "            slippage = slippage_ * (entry_price + exit_price)\n",
    "            final_points = points - slippage\n",
    "            trade = {\n",
    "                \"Trade Type\": \"Short\",\n",
    "                \"Entry Time\": entry_time,\n",
    "                \"Entry Price\": entry_price,\n",
    "                \"Initial SL\": initial_sl,\n",
    "                \"Trailing SL\": trailing_sl,\n",
    "                \"Exit Time\": exit_time,\n",
    "                \"Exit Price\": exit_price,\n",
    "                \"Points Captured\": points,\n",
    "                \"Slippage in Points\": slippage,\n",
    "                \"After Costs\": final_points,\n",
    "                \"PnL\": final_points * qty,\n",
    "                \"Remarks\": remark,\n",
    "                \"Qty\": qty,\n",
    "                \"Leverage\": index_lev,\n",
    "                \"ROI%\": (final_points * qty / portfolio_value) * 100,\n",
    "                \"Trade Year\": entry_time.year,\n",
    "                \"Trade Month\": entry_time.month,\n",
    "            }\n",
    "            # print(trade)\n",
    "            trade_book.append(trade)\n",
    "            points = 0\n",
    "            in_trade = False\n",
    "            is_trailing_active = False\n",
    "            trailing_sl = 0\n",
    "\n",
    "    return pd.DataFrame(trade_book)\n",
    "            "
   ]
  },
  {
   "cell_type": "code",
   "execution_count": 34,
   "id": "b7c50569-cec8-4442-93cc-9dc78b1a9b3a",
   "metadata": {
    "execution": {
     "iopub.execute_input": "2024-12-29T14:25:32.137930Z",
     "iopub.status.busy": "2024-12-29T14:25:32.137212Z",
     "iopub.status.idle": "2024-12-29T14:25:33.116172Z",
     "shell.execute_reply": "2024-12-29T14:25:33.114959Z",
     "shell.execute_reply.started": "2024-12-29T14:25:32.137899Z"
    },
    "scrolled": true
   },
   "outputs": [],
   "source": [
    "tb = backtest_short(bnf_1min, n=3, rsi_period=5, rsi_overbought=50, ema_length=14)"
   ]
  },
  {
   "cell_type": "code",
   "execution_count": 35,
   "id": "b59ed9ad-1698-4dd9-8572-deed574f1a0f",
   "metadata": {
    "execution": {
     "iopub.execute_input": "2024-12-29T14:25:33.118234Z",
     "iopub.status.busy": "2024-12-29T14:25:33.118018Z",
     "iopub.status.idle": "2024-12-29T14:25:33.126676Z",
     "shell.execute_reply": "2024-12-29T14:25:33.125689Z",
     "shell.execute_reply.started": "2024-12-29T14:25:33.118219Z"
    },
    "jupyter": {
     "source_hidden": true
    }
   },
   "outputs": [],
   "source": [
    "def generate_stats(tb_expiry, variation):\n",
    "    stats_df8 = pd.DataFrame(\n",
    "        index=range(2018, 2025),\n",
    "        columns=[\n",
    "            \"Total ROI\",\n",
    "            \"Total Trades\",\n",
    "            \"Win Rate\",\n",
    "            \"Avg Profit% per Trade\",\n",
    "            \"Avg Loss% per Trade\",\n",
    "            \"Max Drawdown\",\n",
    "            \"ROI/DD Ratio\",\n",
    "            \"Variation\",\n",
    "        ],\n",
    "    )\n",
    "    combined_df_sorted = tb_expiry\n",
    "    # combined_df_sorted = tb_expiry_ce\n",
    "    # combined_df_sorted = tb_expiry_pe\n",
    "    \n",
    "    # Iterate over each year\n",
    "    for year in range(2018, 2025):\n",
    "        # Filter trades for the current year\n",
    "        year_trades = combined_df_sorted[(combined_df_sorted[\"Trade Year\"] == year)]\n",
    "    \n",
    "        # Calculate total ROI\n",
    "        total_roi = year_trades[\"ROI%\"].sum()\n",
    "    \n",
    "        # Calculate total number of trades\n",
    "        total_trades = len(year_trades)\n",
    "    \n",
    "        # Calculate win rate\n",
    "        win_rate = (year_trades[\"ROI%\"] > 0).mean() * 100\n",
    "    \n",
    "        # Calculate average profit per trade\n",
    "        avg_profit = year_trades[year_trades[\"ROI%\"] > 0][\"ROI%\"].mean()\n",
    "    \n",
    "        # Calculate average loss per trade\n",
    "        avg_loss = year_trades[year_trades[\"ROI%\"] < 0][\"ROI%\"].mean()\n",
    "    \n",
    "        # Calculate maximum drawdown\n",
    "        max_drawdown = (\n",
    "            year_trades[\"ROI%\"].cumsum() - year_trades[\"ROI%\"].cumsum().cummax()\n",
    "        ).min()\n",
    "    \n",
    "        # Calculate ROI/DD ratio\n",
    "        roi_dd_ratio = total_roi / abs(max_drawdown)\n",
    "\n",
    "        variation = variation\n",
    "    \n",
    "        # Store the statistics in the DataFrame\n",
    "        stats_df8.loc[year] = [\n",
    "            total_roi,\n",
    "            total_trades,\n",
    "            win_rate,\n",
    "            avg_profit,\n",
    "            avg_loss,\n",
    "            max_drawdown,\n",
    "            roi_dd_ratio,\n",
    "            variation,\n",
    "        ]\n",
    "    \n",
    "    # Calculate overall statistics\n",
    "    overall_total_roi = stats_df8[\"Total ROI\"].sum()\n",
    "    overall_total_trades = stats_df8[\"Total Trades\"].sum()\n",
    "    overall_win_rate = (combined_df_sorted[\"ROI%\"] > 0).mean() * 100\n",
    "    overall_avg_profit = combined_df_sorted[combined_df_sorted[\"ROI%\"] > 0][\"ROI%\"].mean()\n",
    "    overall_avg_loss = combined_df_sorted[combined_df_sorted[\"ROI%\"] < 0][\"ROI%\"].mean()\n",
    "    overall_max_drawdown = (\n",
    "        combined_df_sorted[\"ROI%\"].cumsum() - combined_df_sorted[\"ROI%\"].cumsum().cummax()\n",
    "    ).min()\n",
    "    overall_roi_dd_ratio = overall_total_roi / abs(overall_max_drawdown)\n",
    "    overall_variation = variation\n",
    "    \n",
    "    # Store the overall statistics in the DataFrame\n",
    "    stats_df8.loc[\"Overall\"] = [\n",
    "        overall_total_roi,\n",
    "        overall_total_trades,\n",
    "        overall_win_rate,\n",
    "        overall_avg_profit,\n",
    "        overall_avg_loss,\n",
    "        overall_max_drawdown,\n",
    "        overall_roi_dd_ratio,\n",
    "        overall_variation,\n",
    "    ]\n",
    "    return {overall_roi_dd_ratio : stats_df8}"
   ]
  },
  {
   "cell_type": "code",
   "execution_count": 36,
   "id": "b0c3a45b-0108-4e42-8148-18d3549e317a",
   "metadata": {
    "execution": {
     "iopub.execute_input": "2024-12-29T14:25:33.660447Z",
     "iopub.status.busy": "2024-12-29T14:25:33.660103Z",
     "iopub.status.idle": "2024-12-29T14:25:33.690391Z",
     "shell.execute_reply": "2024-12-29T14:25:33.689211Z",
     "shell.execute_reply.started": "2024-12-29T14:25:33.660429Z"
    }
   },
   "outputs": [
    {
     "data": {
      "text/html": [
       "<div>\n",
       "<style scoped>\n",
       "    .dataframe tbody tr th:only-of-type {\n",
       "        vertical-align: middle;\n",
       "    }\n",
       "\n",
       "    .dataframe tbody tr th {\n",
       "        vertical-align: top;\n",
       "    }\n",
       "\n",
       "    .dataframe thead th {\n",
       "        text-align: right;\n",
       "    }\n",
       "</style>\n",
       "<table border=\"1\" class=\"dataframe\">\n",
       "  <thead>\n",
       "    <tr style=\"text-align: right;\">\n",
       "      <th></th>\n",
       "      <th>Total ROI</th>\n",
       "      <th>Total Trades</th>\n",
       "      <th>Win Rate</th>\n",
       "      <th>Avg Profit% per Trade</th>\n",
       "      <th>Avg Loss% per Trade</th>\n",
       "      <th>Max Drawdown</th>\n",
       "      <th>ROI/DD Ratio</th>\n",
       "      <th>Variation</th>\n",
       "    </tr>\n",
       "  </thead>\n",
       "  <tbody>\n",
       "    <tr>\n",
       "      <th>2018</th>\n",
       "      <td>-11.1419</td>\n",
       "      <td>12</td>\n",
       "      <td>41.6667</td>\n",
       "      <td>2.7391</td>\n",
       "      <td>-3.5482</td>\n",
       "      <td>-14.4758</td>\n",
       "      <td>-0.7697</td>\n",
       "      <td>1</td>\n",
       "    </tr>\n",
       "    <tr>\n",
       "      <th>2019</th>\n",
       "      <td>7.6040</td>\n",
       "      <td>13</td>\n",
       "      <td>61.5385</td>\n",
       "      <td>3.5579</td>\n",
       "      <td>-4.1718</td>\n",
       "      <td>-14.6166</td>\n",
       "      <td>0.5202</td>\n",
       "      <td>1</td>\n",
       "    </tr>\n",
       "    <tr>\n",
       "      <th>2020</th>\n",
       "      <td>-40.9511</td>\n",
       "      <td>12</td>\n",
       "      <td>25.0000</td>\n",
       "      <td>4.1117</td>\n",
       "      <td>-5.9207</td>\n",
       "      <td>-35.4367</td>\n",
       "      <td>-1.1556</td>\n",
       "      <td>1</td>\n",
       "    </tr>\n",
       "    <tr>\n",
       "      <th>2021</th>\n",
       "      <td>13.4167</td>\n",
       "      <td>12</td>\n",
       "      <td>41.6667</td>\n",
       "      <td>8.8621</td>\n",
       "      <td>-4.4134</td>\n",
       "      <td>-10.7969</td>\n",
       "      <td>1.2426</td>\n",
       "      <td>1</td>\n",
       "    </tr>\n",
       "    <tr>\n",
       "      <th>2022</th>\n",
       "      <td>-4.2291</td>\n",
       "      <td>19</td>\n",
       "      <td>47.3684</td>\n",
       "      <td>5.0206</td>\n",
       "      <td>-4.9415</td>\n",
       "      <td>-34.9641</td>\n",
       "      <td>-0.1210</td>\n",
       "      <td>1</td>\n",
       "    </tr>\n",
       "    <tr>\n",
       "      <th>2023</th>\n",
       "      <td>-0.2985</td>\n",
       "      <td>11</td>\n",
       "      <td>36.3636</td>\n",
       "      <td>7.4521</td>\n",
       "      <td>-4.3010</td>\n",
       "      <td>-20.8245</td>\n",
       "      <td>-0.0143</td>\n",
       "      <td>1</td>\n",
       "    </tr>\n",
       "    <tr>\n",
       "      <th>2024</th>\n",
       "      <td>-17.4771</td>\n",
       "      <td>11</td>\n",
       "      <td>36.3636</td>\n",
       "      <td>3.7384</td>\n",
       "      <td>-4.6329</td>\n",
       "      <td>-28.5400</td>\n",
       "      <td>-0.6124</td>\n",
       "      <td>1</td>\n",
       "    </tr>\n",
       "    <tr>\n",
       "      <th>Overall</th>\n",
       "      <td>-53.0771</td>\n",
       "      <td>90.0000</td>\n",
       "      <td>43.5644</td>\n",
       "      <td>4.5229</td>\n",
       "      <td>-4.7353</td>\n",
       "      <td>-85.8471</td>\n",
       "      <td>-0.6183</td>\n",
       "      <td>1.0000</td>\n",
       "    </tr>\n",
       "  </tbody>\n",
       "</table>\n",
       "</div>"
      ],
      "text/plain": [
       "        Total ROI Total Trades Win Rate Avg Profit% per Trade  \\\n",
       "2018     -11.1419           12  41.6667                2.7391   \n",
       "2019       7.6040           13  61.5385                3.5579   \n",
       "2020     -40.9511           12  25.0000                4.1117   \n",
       "2021      13.4167           12  41.6667                8.8621   \n",
       "2022      -4.2291           19  47.3684                5.0206   \n",
       "2023      -0.2985           11  36.3636                7.4521   \n",
       "2024     -17.4771           11  36.3636                3.7384   \n",
       "Overall  -53.0771      90.0000  43.5644                4.5229   \n",
       "\n",
       "        Avg Loss% per Trade Max Drawdown ROI/DD Ratio Variation  \n",
       "2018                -3.5482     -14.4758      -0.7697         1  \n",
       "2019                -4.1718     -14.6166       0.5202         1  \n",
       "2020                -5.9207     -35.4367      -1.1556         1  \n",
       "2021                -4.4134     -10.7969       1.2426         1  \n",
       "2022                -4.9415     -34.9641      -0.1210         1  \n",
       "2023                -4.3010     -20.8245      -0.0143         1  \n",
       "2024                -4.6329     -28.5400      -0.6124         1  \n",
       "Overall             -4.7353     -85.8471      -0.6183    1.0000  "
      ]
     },
     "execution_count": 36,
     "metadata": {},
     "output_type": "execute_result"
    }
   ],
   "source": [
    "variation = 1\n",
    "stats = generate_stats(tb, variation)\n",
    "for x, y in stats.items():\n",
    "    final_stats = y\n",
    "\n",
    "final_stats"
   ]
  },
  {
   "cell_type": "code",
   "execution_count": 37,
   "id": "d3a2eb28-c309-469f-891c-75ce6329d3ac",
   "metadata": {
    "execution": {
     "iopub.execute_input": "2024-12-29T14:25:36.304097Z",
     "iopub.status.busy": "2024-12-29T14:25:36.303836Z",
     "iopub.status.idle": "2024-12-29T14:25:36.318599Z",
     "shell.execute_reply": "2024-12-29T14:25:36.317418Z",
     "shell.execute_reply.started": "2024-12-29T14:25:36.304071Z"
    },
    "scrolled": true
   },
   "outputs": [
    {
     "data": {
      "text/html": [
       "<div>\n",
       "<style scoped>\n",
       "    .dataframe tbody tr th:only-of-type {\n",
       "        vertical-align: middle;\n",
       "    }\n",
       "\n",
       "    .dataframe tbody tr th {\n",
       "        vertical-align: top;\n",
       "    }\n",
       "\n",
       "    .dataframe thead th {\n",
       "        text-align: right;\n",
       "    }\n",
       "</style>\n",
       "<table border=\"1\" class=\"dataframe\">\n",
       "  <thead>\n",
       "    <tr style=\"text-align: right;\">\n",
       "      <th></th>\n",
       "      <th>Trade Type</th>\n",
       "      <th>Entry Time</th>\n",
       "      <th>Entry Price</th>\n",
       "      <th>Initial SL</th>\n",
       "      <th>Trailing SL</th>\n",
       "      <th>Exit Time</th>\n",
       "      <th>Exit Price</th>\n",
       "      <th>Points Captured</th>\n",
       "      <th>Slippage in Points</th>\n",
       "      <th>After Costs</th>\n",
       "      <th>PnL</th>\n",
       "      <th>Remarks</th>\n",
       "      <th>Qty</th>\n",
       "      <th>Leverage</th>\n",
       "      <th>ROI%</th>\n",
       "      <th>Trade Year</th>\n",
       "      <th>Trade Month</th>\n",
       "    </tr>\n",
       "  </thead>\n",
       "  <tbody>\n",
       "    <tr>\n",
       "      <th>90</th>\n",
       "      <td>Short</td>\n",
       "      <td>2024-01-30 10:15:00+05:30</td>\n",
       "      <td>21681.4000</td>\n",
       "      <td>21813.0500</td>\n",
       "      <td>21613.8636</td>\n",
       "      <td>2024-01-31 10:15:00+05:30</td>\n",
       "      <td>21658.2000</td>\n",
       "      <td>23.2000</td>\n",
       "      <td>8.6679</td>\n",
       "      <td>14.5321</td>\n",
       "      <td>53405.3940</td>\n",
       "      <td>Trailing SL</td>\n",
       "      <td>3675</td>\n",
       "      <td>8</td>\n",
       "      <td>0.5341</td>\n",
       "      <td>2024</td>\n",
       "      <td>1</td>\n",
       "    </tr>\n",
       "    <tr>\n",
       "      <th>91</th>\n",
       "      <td>Short</td>\n",
       "      <td>2024-04-26 10:15:00+05:30</td>\n",
       "      <td>22515.9000</td>\n",
       "      <td>22625.9500</td>\n",
       "      <td>22472.3018</td>\n",
       "      <td>2024-04-29 09:15:00+05:30</td>\n",
       "      <td>22480.6000</td>\n",
       "      <td>35.3000</td>\n",
       "      <td>8.9993</td>\n",
       "      <td>26.3007</td>\n",
       "      <td>92709.9675</td>\n",
       "      <td>Trailing SL</td>\n",
       "      <td>3525</td>\n",
       "      <td>8</td>\n",
       "      <td>0.9271</td>\n",
       "      <td>2024</td>\n",
       "      <td>4</td>\n",
       "    </tr>\n",
       "    <tr>\n",
       "      <th>92</th>\n",
       "      <td>Short</td>\n",
       "      <td>2024-05-15 09:15:00+05:30</td>\n",
       "      <td>22189.6000</td>\n",
       "      <td>22330.0000</td>\n",
       "      <td>22205.3400</td>\n",
       "      <td>2024-05-16 14:15:00+05:30</td>\n",
       "      <td>22403.2500</td>\n",
       "      <td>-213.6500</td>\n",
       "      <td>8.9186</td>\n",
       "      <td>-222.5686</td>\n",
       "      <td>-801246.8520</td>\n",
       "      <td>Initial SL</td>\n",
       "      <td>3600</td>\n",
       "      <td>8</td>\n",
       "      <td>-8.0125</td>\n",
       "      <td>2024</td>\n",
       "      <td>5</td>\n",
       "    </tr>\n",
       "    <tr>\n",
       "      <th>93</th>\n",
       "      <td>Short</td>\n",
       "      <td>2024-05-21 09:15:00+05:30</td>\n",
       "      <td>22465.7000</td>\n",
       "      <td>22520.2500</td>\n",
       "      <td>0.0000</td>\n",
       "      <td>2024-05-21 11:15:00+05:30</td>\n",
       "      <td>22546.3000</td>\n",
       "      <td>-80.6000</td>\n",
       "      <td>9.0024</td>\n",
       "      <td>-89.6024</td>\n",
       "      <td>-315848.4600</td>\n",
       "      <td>Initial SL</td>\n",
       "      <td>3525</td>\n",
       "      <td>8</td>\n",
       "      <td>-3.1585</td>\n",
       "      <td>2024</td>\n",
       "      <td>5</td>\n",
       "    </tr>\n",
       "    <tr>\n",
       "      <th>94</th>\n",
       "      <td>Short</td>\n",
       "      <td>2024-06-28 12:15:00+05:30</td>\n",
       "      <td>24060.7500</td>\n",
       "      <td>24236.3500</td>\n",
       "      <td>0.0000</td>\n",
       "      <td>2024-07-03 09:15:00+05:30</td>\n",
       "      <td>24267.8500</td>\n",
       "      <td>-207.1000</td>\n",
       "      <td>9.6657</td>\n",
       "      <td>-216.7657</td>\n",
       "      <td>-715326.8760</td>\n",
       "      <td>Gap SL</td>\n",
       "      <td>3300</td>\n",
       "      <td>8</td>\n",
       "      <td>-7.1533</td>\n",
       "      <td>2024</td>\n",
       "      <td>6</td>\n",
       "    </tr>\n",
       "    <tr>\n",
       "      <th>95</th>\n",
       "      <td>Short</td>\n",
       "      <td>2024-07-29 12:15:00+05:30</td>\n",
       "      <td>24833.0500</td>\n",
       "      <td>24999.7500</td>\n",
       "      <td>0.0000</td>\n",
       "      <td>2024-08-01 09:15:00+05:30</td>\n",
       "      <td>25037.1000</td>\n",
       "      <td>-204.0500</td>\n",
       "      <td>9.9740</td>\n",
       "      <td>-214.0240</td>\n",
       "      <td>-690227.4967</td>\n",
       "      <td>Gap SL</td>\n",
       "      <td>3225</td>\n",
       "      <td>8</td>\n",
       "      <td>-6.9023</td>\n",
       "      <td>2024</td>\n",
       "      <td>7</td>\n",
       "    </tr>\n",
       "    <tr>\n",
       "      <th>96</th>\n",
       "      <td>Short</td>\n",
       "      <td>2024-08-20 15:15:00+05:30</td>\n",
       "      <td>24672.8500</td>\n",
       "      <td>24734.1500</td>\n",
       "      <td>0.0000</td>\n",
       "      <td>2024-08-21 10:15:00+05:30</td>\n",
       "      <td>24693.5000</td>\n",
       "      <td>-20.6500</td>\n",
       "      <td>9.8733</td>\n",
       "      <td>-30.5233</td>\n",
       "      <td>-98437.5458</td>\n",
       "      <td>Initial SL</td>\n",
       "      <td>3225</td>\n",
       "      <td>8</td>\n",
       "      <td>-0.9844</td>\n",
       "      <td>2024</td>\n",
       "      <td>8</td>\n",
       "    </tr>\n",
       "    <tr>\n",
       "      <th>97</th>\n",
       "      <td>Short</td>\n",
       "      <td>2024-08-27 14:15:00+05:30</td>\n",
       "      <td>25024.6000</td>\n",
       "      <td>25073.1000</td>\n",
       "      <td>0.0000</td>\n",
       "      <td>2024-08-28 11:15:00+05:30</td>\n",
       "      <td>25086.8000</td>\n",
       "      <td>-62.2000</td>\n",
       "      <td>10.0223</td>\n",
       "      <td>-72.2223</td>\n",
       "      <td>-232916.8530</td>\n",
       "      <td>Initial SL</td>\n",
       "      <td>3225</td>\n",
       "      <td>8</td>\n",
       "      <td>-2.3292</td>\n",
       "      <td>2024</td>\n",
       "      <td>8</td>\n",
       "    </tr>\n",
       "    <tr>\n",
       "      <th>98</th>\n",
       "      <td>Short</td>\n",
       "      <td>2024-09-27 12:15:00+05:30</td>\n",
       "      <td>26189.8500</td>\n",
       "      <td>26277.3500</td>\n",
       "      <td>25922.0217</td>\n",
       "      <td>2024-10-01 10:15:00+05:30</td>\n",
       "      <td>25752.3500</td>\n",
       "      <td>437.5000</td>\n",
       "      <td>10.3884</td>\n",
       "      <td>427.1116</td>\n",
       "      <td>1313368.0470</td>\n",
       "      <td>Target</td>\n",
       "      <td>3075</td>\n",
       "      <td>8</td>\n",
       "      <td>13.1337</td>\n",
       "      <td>2024</td>\n",
       "      <td>9</td>\n",
       "    </tr>\n",
       "    <tr>\n",
       "      <th>99</th>\n",
       "      <td>Short</td>\n",
       "      <td>2024-10-28 14:15:00+05:30</td>\n",
       "      <td>24343.9000</td>\n",
       "      <td>24492.6000</td>\n",
       "      <td>24308.9852</td>\n",
       "      <td>2024-10-29 12:15:00+05:30</td>\n",
       "      <td>24323.3000</td>\n",
       "      <td>20.6000</td>\n",
       "      <td>9.7334</td>\n",
       "      <td>10.8666</td>\n",
       "      <td>35859.6480</td>\n",
       "      <td>Trailing SL</td>\n",
       "      <td>3300</td>\n",
       "      <td>8</td>\n",
       "      <td>0.3586</td>\n",
       "      <td>2024</td>\n",
       "      <td>10</td>\n",
       "    </tr>\n",
       "    <tr>\n",
       "      <th>100</th>\n",
       "      <td>Short</td>\n",
       "      <td>2024-11-25 12:15:00+05:30</td>\n",
       "      <td>24179.6500</td>\n",
       "      <td>24351.5500</td>\n",
       "      <td>0.0000</td>\n",
       "      <td>2024-11-27 13:15:00+05:30</td>\n",
       "      <td>24287.8500</td>\n",
       "      <td>-108.2000</td>\n",
       "      <td>9.6935</td>\n",
       "      <td>-117.8935</td>\n",
       "      <td>-389048.5500</td>\n",
       "      <td>Initial SL</td>\n",
       "      <td>3300</td>\n",
       "      <td>8</td>\n",
       "      <td>-3.8905</td>\n",
       "      <td>2024</td>\n",
       "      <td>11</td>\n",
       "    </tr>\n",
       "  </tbody>\n",
       "</table>\n",
       "</div>"
      ],
      "text/plain": [
       "    Trade Type                Entry Time  Entry Price  Initial SL  \\\n",
       "90       Short 2024-01-30 10:15:00+05:30   21681.4000  21813.0500   \n",
       "91       Short 2024-04-26 10:15:00+05:30   22515.9000  22625.9500   \n",
       "92       Short 2024-05-15 09:15:00+05:30   22189.6000  22330.0000   \n",
       "93       Short 2024-05-21 09:15:00+05:30   22465.7000  22520.2500   \n",
       "94       Short 2024-06-28 12:15:00+05:30   24060.7500  24236.3500   \n",
       "95       Short 2024-07-29 12:15:00+05:30   24833.0500  24999.7500   \n",
       "96       Short 2024-08-20 15:15:00+05:30   24672.8500  24734.1500   \n",
       "97       Short 2024-08-27 14:15:00+05:30   25024.6000  25073.1000   \n",
       "98       Short 2024-09-27 12:15:00+05:30   26189.8500  26277.3500   \n",
       "99       Short 2024-10-28 14:15:00+05:30   24343.9000  24492.6000   \n",
       "100      Short 2024-11-25 12:15:00+05:30   24179.6500  24351.5500   \n",
       "\n",
       "     Trailing SL                 Exit Time  Exit Price  Points Captured  \\\n",
       "90    21613.8636 2024-01-31 10:15:00+05:30  21658.2000          23.2000   \n",
       "91    22472.3018 2024-04-29 09:15:00+05:30  22480.6000          35.3000   \n",
       "92    22205.3400 2024-05-16 14:15:00+05:30  22403.2500        -213.6500   \n",
       "93        0.0000 2024-05-21 11:15:00+05:30  22546.3000         -80.6000   \n",
       "94        0.0000 2024-07-03 09:15:00+05:30  24267.8500        -207.1000   \n",
       "95        0.0000 2024-08-01 09:15:00+05:30  25037.1000        -204.0500   \n",
       "96        0.0000 2024-08-21 10:15:00+05:30  24693.5000         -20.6500   \n",
       "97        0.0000 2024-08-28 11:15:00+05:30  25086.8000         -62.2000   \n",
       "98    25922.0217 2024-10-01 10:15:00+05:30  25752.3500         437.5000   \n",
       "99    24308.9852 2024-10-29 12:15:00+05:30  24323.3000          20.6000   \n",
       "100       0.0000 2024-11-27 13:15:00+05:30  24287.8500        -108.2000   \n",
       "\n",
       "     Slippage in Points  After Costs          PnL      Remarks   Qty  \\\n",
       "90               8.6679      14.5321   53405.3940  Trailing SL  3675   \n",
       "91               8.9993      26.3007   92709.9675  Trailing SL  3525   \n",
       "92               8.9186    -222.5686 -801246.8520   Initial SL  3600   \n",
       "93               9.0024     -89.6024 -315848.4600   Initial SL  3525   \n",
       "94               9.6657    -216.7657 -715326.8760       Gap SL  3300   \n",
       "95               9.9740    -214.0240 -690227.4967       Gap SL  3225   \n",
       "96               9.8733     -30.5233  -98437.5458   Initial SL  3225   \n",
       "97              10.0223     -72.2223 -232916.8530   Initial SL  3225   \n",
       "98              10.3884     427.1116 1313368.0470       Target  3075   \n",
       "99               9.7334      10.8666   35859.6480  Trailing SL  3300   \n",
       "100              9.6935    -117.8935 -389048.5500   Initial SL  3300   \n",
       "\n",
       "     Leverage    ROI%  Trade Year  Trade Month  \n",
       "90          8  0.5341        2024            1  \n",
       "91          8  0.9271        2024            4  \n",
       "92          8 -8.0125        2024            5  \n",
       "93          8 -3.1585        2024            5  \n",
       "94          8 -7.1533        2024            6  \n",
       "95          8 -6.9023        2024            7  \n",
       "96          8 -0.9844        2024            8  \n",
       "97          8 -2.3292        2024            8  \n",
       "98          8 13.1337        2024            9  \n",
       "99          8  0.3586        2024           10  \n",
       "100         8 -3.8905        2024           11  "
      ]
     },
     "execution_count": 37,
     "metadata": {},
     "output_type": "execute_result"
    }
   ],
   "source": [
    "tb[tb['Trade Year'] > 2023]"
   ]
  },
  {
   "cell_type": "code",
   "execution_count": 38,
   "id": "6f8c0927-53bc-4099-ba18-acb073499896",
   "metadata": {
    "execution": {
     "iopub.execute_input": "2024-12-29T14:25:47.651238Z",
     "iopub.status.busy": "2024-12-29T14:25:47.650616Z",
     "iopub.status.idle": "2024-12-29T14:54:42.066249Z",
     "shell.execute_reply": "2024-12-29T14:54:42.064898Z",
     "shell.execute_reply.started": "2024-12-29T14:25:47.651209Z"
    },
    "scrolled": true
   },
   "outputs": [
    {
     "name": "stdout",
     "output_type": "stream",
     "text": [
      "n 2, rsi 14, threshold 30, ema 5\n",
      "n 2, rsi 14, threshold 30, ema 10\n",
      "n 2, rsi 14, threshold 30, ema 15\n",
      "n 2, rsi 14, threshold 30, ema 20\n",
      "n 2, rsi 14, threshold 30, ema 25\n",
      "n 2, rsi 14, threshold 30, ema 30\n",
      "n 2, rsi 14, threshold 30, ema 35\n",
      "n 2, rsi 14, threshold 35, ema 5\n",
      "n 2, rsi 14, threshold 35, ema 10\n",
      "n 2, rsi 14, threshold 35, ema 15\n",
      "n 2, rsi 14, threshold 35, ema 20\n",
      "n 2, rsi 14, threshold 35, ema 25\n",
      "n 2, rsi 14, threshold 35, ema 30\n",
      "n 2, rsi 14, threshold 35, ema 35\n",
      "n 2, rsi 14, threshold 40, ema 5\n",
      "n 2, rsi 14, threshold 40, ema 10\n",
      "n 2, rsi 14, threshold 40, ema 15\n",
      "n 2, rsi 14, threshold 40, ema 20\n",
      "n 2, rsi 14, threshold 40, ema 25\n",
      "n 2, rsi 14, threshold 40, ema 30\n",
      "n 2, rsi 14, threshold 40, ema 35\n",
      "n 2, rsi 14, threshold 45, ema 5\n",
      "n 2, rsi 14, threshold 45, ema 10\n",
      "n 2, rsi 14, threshold 45, ema 15\n",
      "n 2, rsi 14, threshold 45, ema 20\n",
      "n 2, rsi 14, threshold 45, ema 25\n",
      "n 2, rsi 14, threshold 45, ema 30\n",
      "n 2, rsi 14, threshold 45, ema 35\n",
      "n 2, rsi 14, threshold 50, ema 5\n",
      "n 2, rsi 14, threshold 50, ema 10\n",
      "n 2, rsi 14, threshold 50, ema 15\n",
      "n 2, rsi 14, threshold 50, ema 20\n",
      "n 2, rsi 14, threshold 50, ema 25\n",
      "n 2, rsi 14, threshold 50, ema 30\n",
      "n 2, rsi 14, threshold 50, ema 35\n",
      "n 2, rsi 14, threshold 55, ema 5\n",
      "n 2, rsi 14, threshold 55, ema 10\n",
      "n 2, rsi 14, threshold 55, ema 15\n",
      "n 2, rsi 14, threshold 55, ema 20\n",
      "n 2, rsi 14, threshold 55, ema 25\n",
      "n 2, rsi 14, threshold 55, ema 30\n",
      "n 2, rsi 14, threshold 55, ema 35\n",
      "n 2, rsi 14, threshold 60, ema 5\n",
      "n 2, rsi 14, threshold 60, ema 10\n",
      "n 2, rsi 14, threshold 60, ema 15\n",
      "n 2, rsi 14, threshold 60, ema 20\n",
      "n 2, rsi 14, threshold 60, ema 25\n",
      "n 2, rsi 14, threshold 60, ema 30\n",
      "n 2, rsi 14, threshold 60, ema 35\n",
      "n 2, rsi 14, threshold 65, ema 5\n",
      "n 2, rsi 14, threshold 65, ema 10\n",
      "n 2, rsi 14, threshold 65, ema 15\n",
      "n 2, rsi 14, threshold 65, ema 20\n",
      "n 2, rsi 14, threshold 65, ema 25\n",
      "n 2, rsi 14, threshold 65, ema 30\n",
      "n 2, rsi 14, threshold 65, ema 35\n",
      "n 2, rsi 14, threshold 70, ema 5\n"
     ]
    },
    {
     "name": "stderr",
     "output_type": "stream",
     "text": [
      "/tmp/ipykernel_37279/873016624.py:45: RuntimeWarning: divide by zero encountered in scalar divide\n",
      "  roi_dd_ratio = total_roi / abs(max_drawdown)\n"
     ]
    },
    {
     "name": "stdout",
     "output_type": "stream",
     "text": [
      "n 2, rsi 14, threshold 70, ema 10\n"
     ]
    },
    {
     "name": "stderr",
     "output_type": "stream",
     "text": [
      "/tmp/ipykernel_37279/873016624.py:45: RuntimeWarning: divide by zero encountered in scalar divide\n",
      "  roi_dd_ratio = total_roi / abs(max_drawdown)\n"
     ]
    },
    {
     "name": "stdout",
     "output_type": "stream",
     "text": [
      "n 2, rsi 14, threshold 70, ema 15\n"
     ]
    },
    {
     "name": "stderr",
     "output_type": "stream",
     "text": [
      "/tmp/ipykernel_37279/873016624.py:45: RuntimeWarning: divide by zero encountered in scalar divide\n",
      "  roi_dd_ratio = total_roi / abs(max_drawdown)\n"
     ]
    },
    {
     "name": "stdout",
     "output_type": "stream",
     "text": [
      "n 2, rsi 14, threshold 70, ema 20\n"
     ]
    },
    {
     "name": "stderr",
     "output_type": "stream",
     "text": [
      "/tmp/ipykernel_37279/873016624.py:45: RuntimeWarning: divide by zero encountered in scalar divide\n",
      "  roi_dd_ratio = total_roi / abs(max_drawdown)\n"
     ]
    },
    {
     "name": "stdout",
     "output_type": "stream",
     "text": [
      "n 2, rsi 14, threshold 70, ema 25\n"
     ]
    },
    {
     "name": "stderr",
     "output_type": "stream",
     "text": [
      "/tmp/ipykernel_37279/873016624.py:45: RuntimeWarning: divide by zero encountered in scalar divide\n",
      "  roi_dd_ratio = total_roi / abs(max_drawdown)\n"
     ]
    },
    {
     "name": "stdout",
     "output_type": "stream",
     "text": [
      "n 2, rsi 14, threshold 70, ema 30\n"
     ]
    },
    {
     "name": "stderr",
     "output_type": "stream",
     "text": [
      "/tmp/ipykernel_37279/873016624.py:45: RuntimeWarning: divide by zero encountered in scalar divide\n",
      "  roi_dd_ratio = total_roi / abs(max_drawdown)\n"
     ]
    },
    {
     "name": "stdout",
     "output_type": "stream",
     "text": [
      "n 2, rsi 14, threshold 70, ema 35\n"
     ]
    },
    {
     "name": "stderr",
     "output_type": "stream",
     "text": [
      "/tmp/ipykernel_37279/873016624.py:45: RuntimeWarning: divide by zero encountered in scalar divide\n",
      "  roi_dd_ratio = total_roi / abs(max_drawdown)\n"
     ]
    },
    {
     "name": "stdout",
     "output_type": "stream",
     "text": [
      "n 2, rsi 14, threshold 75, ema 5\n",
      "n 2, rsi 14, threshold 75, ema 10\n",
      "n 2, rsi 14, threshold 75, ema 15\n",
      "n 2, rsi 14, threshold 75, ema 20\n",
      "n 2, rsi 14, threshold 75, ema 25\n",
      "n 2, rsi 14, threshold 75, ema 30\n",
      "n 2, rsi 14, threshold 75, ema 35\n",
      "n 2, rsi 14, threshold 80, ema 5\n",
      "n 2, rsi 14, threshold 80, ema 10\n",
      "n 2, rsi 14, threshold 80, ema 15\n",
      "n 2, rsi 14, threshold 80, ema 20\n",
      "n 2, rsi 14, threshold 80, ema 25\n",
      "n 2, rsi 14, threshold 80, ema 30\n",
      "n 2, rsi 14, threshold 80, ema 35\n",
      "n 2, rsi 9, threshold 30, ema 5\n",
      "n 2, rsi 9, threshold 30, ema 10\n",
      "n 2, rsi 9, threshold 30, ema 15\n",
      "n 2, rsi 9, threshold 30, ema 20\n",
      "n 2, rsi 9, threshold 30, ema 25\n",
      "n 2, rsi 9, threshold 30, ema 30\n",
      "n 2, rsi 9, threshold 30, ema 35\n",
      "n 2, rsi 9, threshold 35, ema 5\n",
      "n 2, rsi 9, threshold 35, ema 10\n",
      "n 2, rsi 9, threshold 35, ema 15\n",
      "n 2, rsi 9, threshold 35, ema 20\n",
      "n 2, rsi 9, threshold 35, ema 25\n",
      "n 2, rsi 9, threshold 35, ema 30\n",
      "n 2, rsi 9, threshold 35, ema 35\n",
      "n 2, rsi 9, threshold 40, ema 5\n",
      "n 2, rsi 9, threshold 40, ema 10\n",
      "n 2, rsi 9, threshold 40, ema 15\n",
      "n 2, rsi 9, threshold 40, ema 20\n",
      "n 2, rsi 9, threshold 40, ema 25\n",
      "n 2, rsi 9, threshold 40, ema 30\n",
      "n 2, rsi 9, threshold 40, ema 35\n",
      "n 2, rsi 9, threshold 45, ema 5\n",
      "n 2, rsi 9, threshold 45, ema 10\n",
      "n 2, rsi 9, threshold 45, ema 15\n",
      "n 2, rsi 9, threshold 45, ema 20\n",
      "n 2, rsi 9, threshold 45, ema 25\n",
      "n 2, rsi 9, threshold 45, ema 30\n",
      "n 2, rsi 9, threshold 45, ema 35\n",
      "n 2, rsi 9, threshold 50, ema 5\n",
      "n 2, rsi 9, threshold 50, ema 10\n",
      "n 2, rsi 9, threshold 50, ema 15\n",
      "n 2, rsi 9, threshold 50, ema 20\n",
      "n 2, rsi 9, threshold 50, ema 25\n",
      "n 2, rsi 9, threshold 50, ema 30\n",
      "n 2, rsi 9, threshold 50, ema 35\n",
      "n 2, rsi 9, threshold 55, ema 5\n",
      "n 2, rsi 9, threshold 55, ema 10\n",
      "n 2, rsi 9, threshold 55, ema 15\n",
      "n 2, rsi 9, threshold 55, ema 20\n",
      "n 2, rsi 9, threshold 55, ema 25\n",
      "n 2, rsi 9, threshold 55, ema 30\n",
      "n 2, rsi 9, threshold 55, ema 35\n",
      "n 2, rsi 9, threshold 60, ema 5\n",
      "n 2, rsi 9, threshold 60, ema 10\n",
      "n 2, rsi 9, threshold 60, ema 15\n",
      "n 2, rsi 9, threshold 60, ema 20\n",
      "n 2, rsi 9, threshold 60, ema 25\n",
      "n 2, rsi 9, threshold 60, ema 30\n",
      "n 2, rsi 9, threshold 60, ema 35\n",
      "n 2, rsi 9, threshold 65, ema 5\n",
      "n 2, rsi 9, threshold 65, ema 10\n",
      "n 2, rsi 9, threshold 65, ema 15\n",
      "n 2, rsi 9, threshold 65, ema 20\n",
      "n 2, rsi 9, threshold 65, ema 25\n",
      "n 2, rsi 9, threshold 65, ema 30\n",
      "n 2, rsi 9, threshold 65, ema 35\n",
      "n 2, rsi 9, threshold 70, ema 5\n"
     ]
    },
    {
     "name": "stderr",
     "output_type": "stream",
     "text": [
      "/tmp/ipykernel_37279/873016624.py:45: RuntimeWarning: divide by zero encountered in scalar divide\n",
      "  roi_dd_ratio = total_roi / abs(max_drawdown)\n"
     ]
    },
    {
     "name": "stdout",
     "output_type": "stream",
     "text": [
      "n 2, rsi 9, threshold 70, ema 10\n"
     ]
    },
    {
     "name": "stderr",
     "output_type": "stream",
     "text": [
      "/tmp/ipykernel_37279/873016624.py:45: RuntimeWarning: divide by zero encountered in scalar divide\n",
      "  roi_dd_ratio = total_roi / abs(max_drawdown)\n"
     ]
    },
    {
     "name": "stdout",
     "output_type": "stream",
     "text": [
      "n 2, rsi 9, threshold 70, ema 15\n"
     ]
    },
    {
     "name": "stderr",
     "output_type": "stream",
     "text": [
      "/tmp/ipykernel_37279/873016624.py:45: RuntimeWarning: divide by zero encountered in scalar divide\n",
      "  roi_dd_ratio = total_roi / abs(max_drawdown)\n"
     ]
    },
    {
     "name": "stdout",
     "output_type": "stream",
     "text": [
      "n 2, rsi 9, threshold 70, ema 20\n"
     ]
    },
    {
     "name": "stderr",
     "output_type": "stream",
     "text": [
      "/tmp/ipykernel_37279/873016624.py:45: RuntimeWarning: divide by zero encountered in scalar divide\n",
      "  roi_dd_ratio = total_roi / abs(max_drawdown)\n"
     ]
    },
    {
     "name": "stdout",
     "output_type": "stream",
     "text": [
      "n 2, rsi 9, threshold 70, ema 25\n"
     ]
    },
    {
     "name": "stderr",
     "output_type": "stream",
     "text": [
      "/tmp/ipykernel_37279/873016624.py:45: RuntimeWarning: divide by zero encountered in scalar divide\n",
      "  roi_dd_ratio = total_roi / abs(max_drawdown)\n"
     ]
    },
    {
     "name": "stdout",
     "output_type": "stream",
     "text": [
      "n 2, rsi 9, threshold 70, ema 30\n"
     ]
    },
    {
     "name": "stderr",
     "output_type": "stream",
     "text": [
      "/tmp/ipykernel_37279/873016624.py:45: RuntimeWarning: divide by zero encountered in scalar divide\n",
      "  roi_dd_ratio = total_roi / abs(max_drawdown)\n"
     ]
    },
    {
     "name": "stdout",
     "output_type": "stream",
     "text": [
      "n 2, rsi 9, threshold 70, ema 35\n"
     ]
    },
    {
     "name": "stderr",
     "output_type": "stream",
     "text": [
      "/tmp/ipykernel_37279/873016624.py:45: RuntimeWarning: divide by zero encountered in scalar divide\n",
      "  roi_dd_ratio = total_roi / abs(max_drawdown)\n"
     ]
    },
    {
     "name": "stdout",
     "output_type": "stream",
     "text": [
      "n 2, rsi 9, threshold 75, ema 5\n"
     ]
    },
    {
     "name": "stderr",
     "output_type": "stream",
     "text": [
      "/tmp/ipykernel_37279/873016624.py:45: RuntimeWarning: divide by zero encountered in scalar divide\n",
      "  roi_dd_ratio = total_roi / abs(max_drawdown)\n"
     ]
    },
    {
     "name": "stdout",
     "output_type": "stream",
     "text": [
      "n 2, rsi 9, threshold 75, ema 10\n"
     ]
    },
    {
     "name": "stderr",
     "output_type": "stream",
     "text": [
      "/tmp/ipykernel_37279/873016624.py:45: RuntimeWarning: divide by zero encountered in scalar divide\n",
      "  roi_dd_ratio = total_roi / abs(max_drawdown)\n"
     ]
    },
    {
     "name": "stdout",
     "output_type": "stream",
     "text": [
      "n 2, rsi 9, threshold 75, ema 15\n"
     ]
    },
    {
     "name": "stderr",
     "output_type": "stream",
     "text": [
      "/tmp/ipykernel_37279/873016624.py:45: RuntimeWarning: divide by zero encountered in scalar divide\n",
      "  roi_dd_ratio = total_roi / abs(max_drawdown)\n"
     ]
    },
    {
     "name": "stdout",
     "output_type": "stream",
     "text": [
      "n 2, rsi 9, threshold 75, ema 20\n"
     ]
    },
    {
     "name": "stderr",
     "output_type": "stream",
     "text": [
      "/tmp/ipykernel_37279/873016624.py:45: RuntimeWarning: divide by zero encountered in scalar divide\n",
      "  roi_dd_ratio = total_roi / abs(max_drawdown)\n"
     ]
    },
    {
     "name": "stdout",
     "output_type": "stream",
     "text": [
      "n 2, rsi 9, threshold 75, ema 25\n"
     ]
    },
    {
     "name": "stderr",
     "output_type": "stream",
     "text": [
      "/tmp/ipykernel_37279/873016624.py:45: RuntimeWarning: divide by zero encountered in scalar divide\n",
      "  roi_dd_ratio = total_roi / abs(max_drawdown)\n"
     ]
    },
    {
     "name": "stdout",
     "output_type": "stream",
     "text": [
      "n 2, rsi 9, threshold 75, ema 30\n"
     ]
    },
    {
     "name": "stderr",
     "output_type": "stream",
     "text": [
      "/tmp/ipykernel_37279/873016624.py:45: RuntimeWarning: divide by zero encountered in scalar divide\n",
      "  roi_dd_ratio = total_roi / abs(max_drawdown)\n"
     ]
    },
    {
     "name": "stdout",
     "output_type": "stream",
     "text": [
      "n 2, rsi 9, threshold 75, ema 35\n"
     ]
    },
    {
     "name": "stderr",
     "output_type": "stream",
     "text": [
      "/tmp/ipykernel_37279/873016624.py:45: RuntimeWarning: divide by zero encountered in scalar divide\n",
      "  roi_dd_ratio = total_roi / abs(max_drawdown)\n"
     ]
    },
    {
     "name": "stdout",
     "output_type": "stream",
     "text": [
      "n 2, rsi 9, threshold 80, ema 5\n"
     ]
    },
    {
     "name": "stderr",
     "output_type": "stream",
     "text": [
      "/tmp/ipykernel_37279/873016624.py:45: RuntimeWarning: divide by zero encountered in scalar divide\n",
      "  roi_dd_ratio = total_roi / abs(max_drawdown)\n",
      "/tmp/ipykernel_37279/873016624.py:70: RuntimeWarning: divide by zero encountered in scalar divide\n",
      "  overall_roi_dd_ratio = overall_total_roi / abs(overall_max_drawdown)\n"
     ]
    },
    {
     "name": "stdout",
     "output_type": "stream",
     "text": [
      "        Total ROI Total Trades Win Rate Avg Profit% per Trade Avg Loss% per Trade Max Drawdown ROI/DD Ratio                        Variation\n",
      "2018       0.0000            0      NaN                   NaN                 NaN          NaN          NaN  n 2, rsi 9, threshold 80, ema 5\n",
      "2019       0.0000            0      NaN                   NaN                 NaN          NaN          NaN  n 2, rsi 9, threshold 80, ema 5\n",
      "2020      29.9326            1 100.0000               29.9326                 NaN       0.0000          inf  n 2, rsi 9, threshold 80, ema 5\n",
      "2021       0.0000            0      NaN                   NaN                 NaN          NaN          NaN  n 2, rsi 9, threshold 80, ema 5\n",
      "2022       0.0000            0      NaN                   NaN                 NaN          NaN          NaN  n 2, rsi 9, threshold 80, ema 5\n",
      "2023       0.0000            0      NaN                   NaN                 NaN          NaN          NaN  n 2, rsi 9, threshold 80, ema 5\n",
      "2024       0.0000            0      NaN                   NaN                 NaN          NaN          NaN  n 2, rsi 9, threshold 80, ema 5\n",
      "Overall   29.9326            1 100.0000               29.9326                 NaN       0.0000          inf  n 2, rsi 9, threshold 80, ema 5\n",
      "n 2, rsi 9, threshold 80, ema 10\n"
     ]
    },
    {
     "name": "stderr",
     "output_type": "stream",
     "text": [
      "/tmp/ipykernel_37279/873016624.py:45: RuntimeWarning: divide by zero encountered in scalar divide\n",
      "  roi_dd_ratio = total_roi / abs(max_drawdown)\n",
      "/tmp/ipykernel_37279/873016624.py:70: RuntimeWarning: divide by zero encountered in scalar divide\n",
      "  overall_roi_dd_ratio = overall_total_roi / abs(overall_max_drawdown)\n"
     ]
    },
    {
     "name": "stdout",
     "output_type": "stream",
     "text": [
      "        Total ROI Total Trades Win Rate Avg Profit% per Trade Avg Loss% per Trade Max Drawdown ROI/DD Ratio                         Variation\n",
      "2018       0.0000            0      NaN                   NaN                 NaN          NaN          NaN  n 2, rsi 9, threshold 80, ema 10\n",
      "2019       0.0000            0      NaN                   NaN                 NaN          NaN          NaN  n 2, rsi 9, threshold 80, ema 10\n",
      "2020      29.9326            1 100.0000               29.9326                 NaN       0.0000          inf  n 2, rsi 9, threshold 80, ema 10\n",
      "2021       0.0000            0      NaN                   NaN                 NaN          NaN          NaN  n 2, rsi 9, threshold 80, ema 10\n",
      "2022       0.0000            0      NaN                   NaN                 NaN          NaN          NaN  n 2, rsi 9, threshold 80, ema 10\n",
      "2023       0.0000            0      NaN                   NaN                 NaN          NaN          NaN  n 2, rsi 9, threshold 80, ema 10\n",
      "2024       0.0000            0      NaN                   NaN                 NaN          NaN          NaN  n 2, rsi 9, threshold 80, ema 10\n",
      "Overall   29.9326            1 100.0000               29.9326                 NaN       0.0000          inf  n 2, rsi 9, threshold 80, ema 10\n",
      "n 2, rsi 9, threshold 80, ema 15\n"
     ]
    },
    {
     "name": "stderr",
     "output_type": "stream",
     "text": [
      "/tmp/ipykernel_37279/873016624.py:45: RuntimeWarning: divide by zero encountered in scalar divide\n",
      "  roi_dd_ratio = total_roi / abs(max_drawdown)\n",
      "/tmp/ipykernel_37279/873016624.py:70: RuntimeWarning: divide by zero encountered in scalar divide\n",
      "  overall_roi_dd_ratio = overall_total_roi / abs(overall_max_drawdown)\n"
     ]
    },
    {
     "name": "stdout",
     "output_type": "stream",
     "text": [
      "        Total ROI Total Trades Win Rate Avg Profit% per Trade Avg Loss% per Trade Max Drawdown ROI/DD Ratio                         Variation\n",
      "2018       0.0000            0      NaN                   NaN                 NaN          NaN          NaN  n 2, rsi 9, threshold 80, ema 15\n",
      "2019       0.0000            0      NaN                   NaN                 NaN          NaN          NaN  n 2, rsi 9, threshold 80, ema 15\n",
      "2020      29.9326            1 100.0000               29.9326                 NaN       0.0000          inf  n 2, rsi 9, threshold 80, ema 15\n",
      "2021       0.0000            0      NaN                   NaN                 NaN          NaN          NaN  n 2, rsi 9, threshold 80, ema 15\n",
      "2022       0.0000            0      NaN                   NaN                 NaN          NaN          NaN  n 2, rsi 9, threshold 80, ema 15\n",
      "2023       0.0000            0      NaN                   NaN                 NaN          NaN          NaN  n 2, rsi 9, threshold 80, ema 15\n",
      "2024       0.0000            0      NaN                   NaN                 NaN          NaN          NaN  n 2, rsi 9, threshold 80, ema 15\n",
      "Overall   29.9326            1 100.0000               29.9326                 NaN       0.0000          inf  n 2, rsi 9, threshold 80, ema 15\n",
      "n 2, rsi 9, threshold 80, ema 20\n"
     ]
    },
    {
     "name": "stderr",
     "output_type": "stream",
     "text": [
      "/tmp/ipykernel_37279/873016624.py:45: RuntimeWarning: divide by zero encountered in scalar divide\n",
      "  roi_dd_ratio = total_roi / abs(max_drawdown)\n",
      "/tmp/ipykernel_37279/873016624.py:70: RuntimeWarning: divide by zero encountered in scalar divide\n",
      "  overall_roi_dd_ratio = overall_total_roi / abs(overall_max_drawdown)\n"
     ]
    },
    {
     "name": "stdout",
     "output_type": "stream",
     "text": [
      "        Total ROI Total Trades Win Rate Avg Profit% per Trade Avg Loss% per Trade Max Drawdown ROI/DD Ratio                         Variation\n",
      "2018       0.0000            0      NaN                   NaN                 NaN          NaN          NaN  n 2, rsi 9, threshold 80, ema 20\n",
      "2019       0.0000            0      NaN                   NaN                 NaN          NaN          NaN  n 2, rsi 9, threshold 80, ema 20\n",
      "2020      29.9326            1 100.0000               29.9326                 NaN       0.0000          inf  n 2, rsi 9, threshold 80, ema 20\n",
      "2021       0.0000            0      NaN                   NaN                 NaN          NaN          NaN  n 2, rsi 9, threshold 80, ema 20\n",
      "2022       0.0000            0      NaN                   NaN                 NaN          NaN          NaN  n 2, rsi 9, threshold 80, ema 20\n",
      "2023       0.0000            0      NaN                   NaN                 NaN          NaN          NaN  n 2, rsi 9, threshold 80, ema 20\n",
      "2024       0.0000            0      NaN                   NaN                 NaN          NaN          NaN  n 2, rsi 9, threshold 80, ema 20\n",
      "Overall   29.9326            1 100.0000               29.9326                 NaN       0.0000          inf  n 2, rsi 9, threshold 80, ema 20\n",
      "n 2, rsi 9, threshold 80, ema 25\n"
     ]
    },
    {
     "name": "stderr",
     "output_type": "stream",
     "text": [
      "/tmp/ipykernel_37279/873016624.py:45: RuntimeWarning: divide by zero encountered in scalar divide\n",
      "  roi_dd_ratio = total_roi / abs(max_drawdown)\n",
      "/tmp/ipykernel_37279/873016624.py:70: RuntimeWarning: divide by zero encountered in scalar divide\n",
      "  overall_roi_dd_ratio = overall_total_roi / abs(overall_max_drawdown)\n"
     ]
    },
    {
     "name": "stdout",
     "output_type": "stream",
     "text": [
      "        Total ROI Total Trades Win Rate Avg Profit% per Trade Avg Loss% per Trade Max Drawdown ROI/DD Ratio                         Variation\n",
      "2018       0.0000            0      NaN                   NaN                 NaN          NaN          NaN  n 2, rsi 9, threshold 80, ema 25\n",
      "2019       0.0000            0      NaN                   NaN                 NaN          NaN          NaN  n 2, rsi 9, threshold 80, ema 25\n",
      "2020      29.9326            1 100.0000               29.9326                 NaN       0.0000          inf  n 2, rsi 9, threshold 80, ema 25\n",
      "2021       0.0000            0      NaN                   NaN                 NaN          NaN          NaN  n 2, rsi 9, threshold 80, ema 25\n",
      "2022       0.0000            0      NaN                   NaN                 NaN          NaN          NaN  n 2, rsi 9, threshold 80, ema 25\n",
      "2023       0.0000            0      NaN                   NaN                 NaN          NaN          NaN  n 2, rsi 9, threshold 80, ema 25\n",
      "2024       0.0000            0      NaN                   NaN                 NaN          NaN          NaN  n 2, rsi 9, threshold 80, ema 25\n",
      "Overall   29.9326            1 100.0000               29.9326                 NaN       0.0000          inf  n 2, rsi 9, threshold 80, ema 25\n",
      "n 2, rsi 9, threshold 80, ema 30\n"
     ]
    },
    {
     "name": "stderr",
     "output_type": "stream",
     "text": [
      "/tmp/ipykernel_37279/873016624.py:45: RuntimeWarning: divide by zero encountered in scalar divide\n",
      "  roi_dd_ratio = total_roi / abs(max_drawdown)\n",
      "/tmp/ipykernel_37279/873016624.py:70: RuntimeWarning: divide by zero encountered in scalar divide\n",
      "  overall_roi_dd_ratio = overall_total_roi / abs(overall_max_drawdown)\n"
     ]
    },
    {
     "name": "stdout",
     "output_type": "stream",
     "text": [
      "        Total ROI Total Trades Win Rate Avg Profit% per Trade Avg Loss% per Trade Max Drawdown ROI/DD Ratio                         Variation\n",
      "2018       0.0000            0      NaN                   NaN                 NaN          NaN          NaN  n 2, rsi 9, threshold 80, ema 30\n",
      "2019       0.0000            0      NaN                   NaN                 NaN          NaN          NaN  n 2, rsi 9, threshold 80, ema 30\n",
      "2020      29.9326            1 100.0000               29.9326                 NaN       0.0000          inf  n 2, rsi 9, threshold 80, ema 30\n",
      "2021       0.0000            0      NaN                   NaN                 NaN          NaN          NaN  n 2, rsi 9, threshold 80, ema 30\n",
      "2022       0.0000            0      NaN                   NaN                 NaN          NaN          NaN  n 2, rsi 9, threshold 80, ema 30\n",
      "2023       0.0000            0      NaN                   NaN                 NaN          NaN          NaN  n 2, rsi 9, threshold 80, ema 30\n",
      "2024       0.0000            0      NaN                   NaN                 NaN          NaN          NaN  n 2, rsi 9, threshold 80, ema 30\n",
      "Overall   29.9326            1 100.0000               29.9326                 NaN       0.0000          inf  n 2, rsi 9, threshold 80, ema 30\n",
      "n 2, rsi 9, threshold 80, ema 35\n"
     ]
    },
    {
     "name": "stderr",
     "output_type": "stream",
     "text": [
      "/tmp/ipykernel_37279/873016624.py:45: RuntimeWarning: divide by zero encountered in scalar divide\n",
      "  roi_dd_ratio = total_roi / abs(max_drawdown)\n",
      "/tmp/ipykernel_37279/873016624.py:70: RuntimeWarning: divide by zero encountered in scalar divide\n",
      "  overall_roi_dd_ratio = overall_total_roi / abs(overall_max_drawdown)\n"
     ]
    },
    {
     "name": "stdout",
     "output_type": "stream",
     "text": [
      "        Total ROI Total Trades Win Rate Avg Profit% per Trade Avg Loss% per Trade Max Drawdown ROI/DD Ratio                         Variation\n",
      "2018       0.0000            0      NaN                   NaN                 NaN          NaN          NaN  n 2, rsi 9, threshold 80, ema 35\n",
      "2019       0.0000            0      NaN                   NaN                 NaN          NaN          NaN  n 2, rsi 9, threshold 80, ema 35\n",
      "2020      29.9326            1 100.0000               29.9326                 NaN       0.0000          inf  n 2, rsi 9, threshold 80, ema 35\n",
      "2021       0.0000            0      NaN                   NaN                 NaN          NaN          NaN  n 2, rsi 9, threshold 80, ema 35\n",
      "2022       0.0000            0      NaN                   NaN                 NaN          NaN          NaN  n 2, rsi 9, threshold 80, ema 35\n",
      "2023       0.0000            0      NaN                   NaN                 NaN          NaN          NaN  n 2, rsi 9, threshold 80, ema 35\n",
      "2024       0.0000            0      NaN                   NaN                 NaN          NaN          NaN  n 2, rsi 9, threshold 80, ema 35\n",
      "Overall   29.9326            1 100.0000               29.9326                 NaN       0.0000          inf  n 2, rsi 9, threshold 80, ema 35\n",
      "n 2, rsi 21, threshold 30, ema 5\n",
      "n 2, rsi 21, threshold 30, ema 10\n",
      "n 2, rsi 21, threshold 30, ema 15\n",
      "n 2, rsi 21, threshold 30, ema 20\n",
      "n 2, rsi 21, threshold 30, ema 25\n",
      "n 2, rsi 21, threshold 30, ema 30\n",
      "n 2, rsi 21, threshold 30, ema 35\n",
      "n 2, rsi 21, threshold 35, ema 5\n",
      "n 2, rsi 21, threshold 35, ema 10\n",
      "n 2, rsi 21, threshold 35, ema 15\n",
      "n 2, rsi 21, threshold 35, ema 20\n",
      "n 2, rsi 21, threshold 35, ema 25\n",
      "n 2, rsi 21, threshold 35, ema 30\n",
      "n 2, rsi 21, threshold 35, ema 35\n",
      "n 2, rsi 21, threshold 40, ema 5\n",
      "n 2, rsi 21, threshold 40, ema 10\n",
      "n 2, rsi 21, threshold 40, ema 15\n",
      "n 2, rsi 21, threshold 40, ema 20\n",
      "n 2, rsi 21, threshold 40, ema 25\n",
      "n 2, rsi 21, threshold 40, ema 30\n",
      "n 2, rsi 21, threshold 40, ema 35\n",
      "n 2, rsi 21, threshold 45, ema 5\n",
      "n 2, rsi 21, threshold 45, ema 10\n",
      "n 2, rsi 21, threshold 45, ema 15\n",
      "n 2, rsi 21, threshold 45, ema 20\n",
      "n 2, rsi 21, threshold 45, ema 25\n",
      "n 2, rsi 21, threshold 45, ema 30\n",
      "n 2, rsi 21, threshold 45, ema 35\n",
      "n 2, rsi 21, threshold 50, ema 5\n",
      "n 2, rsi 21, threshold 50, ema 10\n",
      "n 2, rsi 21, threshold 50, ema 15\n",
      "n 2, rsi 21, threshold 50, ema 20\n",
      "n 2, rsi 21, threshold 50, ema 25\n",
      "n 2, rsi 21, threshold 50, ema 30\n",
      "n 2, rsi 21, threshold 50, ema 35\n",
      "n 2, rsi 21, threshold 55, ema 5\n",
      "n 2, rsi 21, threshold 55, ema 10\n",
      "n 2, rsi 21, threshold 55, ema 15\n",
      "n 2, rsi 21, threshold 55, ema 20\n",
      "n 2, rsi 21, threshold 55, ema 25\n",
      "n 2, rsi 21, threshold 55, ema 30\n",
      "n 2, rsi 21, threshold 55, ema 35\n",
      "n 2, rsi 21, threshold 60, ema 5\n",
      "n 2, rsi 21, threshold 60, ema 10\n",
      "n 2, rsi 21, threshold 60, ema 15\n",
      "n 2, rsi 21, threshold 60, ema 20\n",
      "n 2, rsi 21, threshold 60, ema 25\n",
      "n 2, rsi 21, threshold 60, ema 30\n",
      "n 2, rsi 21, threshold 60, ema 35\n",
      "n 2, rsi 21, threshold 65, ema 5\n",
      "n 2, rsi 21, threshold 65, ema 10\n",
      "n 2, rsi 21, threshold 65, ema 15\n",
      "n 2, rsi 21, threshold 65, ema 20\n",
      "n 2, rsi 21, threshold 65, ema 25\n",
      "n 2, rsi 21, threshold 65, ema 30\n",
      "n 2, rsi 21, threshold 65, ema 35\n",
      "n 2, rsi 21, threshold 70, ema 5\n"
     ]
    },
    {
     "name": "stderr",
     "output_type": "stream",
     "text": [
      "/tmp/ipykernel_37279/873016624.py:45: RuntimeWarning: divide by zero encountered in scalar divide\n",
      "  roi_dd_ratio = total_roi / abs(max_drawdown)\n"
     ]
    },
    {
     "name": "stdout",
     "output_type": "stream",
     "text": [
      "n 2, rsi 21, threshold 70, ema 10\n"
     ]
    },
    {
     "name": "stderr",
     "output_type": "stream",
     "text": [
      "/tmp/ipykernel_37279/873016624.py:45: RuntimeWarning: divide by zero encountered in scalar divide\n",
      "  roi_dd_ratio = total_roi / abs(max_drawdown)\n"
     ]
    },
    {
     "name": "stdout",
     "output_type": "stream",
     "text": [
      "n 2, rsi 21, threshold 70, ema 15\n"
     ]
    },
    {
     "name": "stderr",
     "output_type": "stream",
     "text": [
      "/tmp/ipykernel_37279/873016624.py:45: RuntimeWarning: divide by zero encountered in scalar divide\n",
      "  roi_dd_ratio = total_roi / abs(max_drawdown)\n"
     ]
    },
    {
     "name": "stdout",
     "output_type": "stream",
     "text": [
      "n 2, rsi 21, threshold 70, ema 20\n"
     ]
    },
    {
     "name": "stderr",
     "output_type": "stream",
     "text": [
      "/tmp/ipykernel_37279/873016624.py:45: RuntimeWarning: divide by zero encountered in scalar divide\n",
      "  roi_dd_ratio = total_roi / abs(max_drawdown)\n"
     ]
    },
    {
     "name": "stdout",
     "output_type": "stream",
     "text": [
      "n 2, rsi 21, threshold 70, ema 25\n"
     ]
    },
    {
     "name": "stderr",
     "output_type": "stream",
     "text": [
      "/tmp/ipykernel_37279/873016624.py:45: RuntimeWarning: divide by zero encountered in scalar divide\n",
      "  roi_dd_ratio = total_roi / abs(max_drawdown)\n"
     ]
    },
    {
     "name": "stdout",
     "output_type": "stream",
     "text": [
      "n 2, rsi 21, threshold 70, ema 30\n"
     ]
    },
    {
     "name": "stderr",
     "output_type": "stream",
     "text": [
      "/tmp/ipykernel_37279/873016624.py:45: RuntimeWarning: divide by zero encountered in scalar divide\n",
      "  roi_dd_ratio = total_roi / abs(max_drawdown)\n"
     ]
    },
    {
     "name": "stdout",
     "output_type": "stream",
     "text": [
      "n 2, rsi 21, threshold 70, ema 35\n"
     ]
    },
    {
     "name": "stderr",
     "output_type": "stream",
     "text": [
      "/tmp/ipykernel_37279/873016624.py:45: RuntimeWarning: divide by zero encountered in scalar divide\n",
      "  roi_dd_ratio = total_roi / abs(max_drawdown)\n"
     ]
    },
    {
     "name": "stdout",
     "output_type": "stream",
     "text": [
      "n 2, rsi 21, threshold 75, ema 5\n"
     ]
    },
    {
     "name": "stderr",
     "output_type": "stream",
     "text": [
      "/tmp/ipykernel_37279/873016624.py:45: RuntimeWarning: divide by zero encountered in scalar divide\n",
      "  roi_dd_ratio = total_roi / abs(max_drawdown)\n"
     ]
    },
    {
     "name": "stdout",
     "output_type": "stream",
     "text": [
      "n 2, rsi 21, threshold 75, ema 10\n"
     ]
    },
    {
     "name": "stderr",
     "output_type": "stream",
     "text": [
      "/tmp/ipykernel_37279/873016624.py:45: RuntimeWarning: divide by zero encountered in scalar divide\n",
      "  roi_dd_ratio = total_roi / abs(max_drawdown)\n"
     ]
    },
    {
     "name": "stdout",
     "output_type": "stream",
     "text": [
      "n 2, rsi 21, threshold 75, ema 15\n"
     ]
    },
    {
     "name": "stderr",
     "output_type": "stream",
     "text": [
      "/tmp/ipykernel_37279/873016624.py:45: RuntimeWarning: divide by zero encountered in scalar divide\n",
      "  roi_dd_ratio = total_roi / abs(max_drawdown)\n"
     ]
    },
    {
     "name": "stdout",
     "output_type": "stream",
     "text": [
      "n 2, rsi 21, threshold 75, ema 20\n"
     ]
    },
    {
     "name": "stderr",
     "output_type": "stream",
     "text": [
      "/tmp/ipykernel_37279/873016624.py:45: RuntimeWarning: divide by zero encountered in scalar divide\n",
      "  roi_dd_ratio = total_roi / abs(max_drawdown)\n"
     ]
    },
    {
     "name": "stdout",
     "output_type": "stream",
     "text": [
      "n 2, rsi 21, threshold 75, ema 25\n"
     ]
    },
    {
     "name": "stderr",
     "output_type": "stream",
     "text": [
      "/tmp/ipykernel_37279/873016624.py:45: RuntimeWarning: divide by zero encountered in scalar divide\n",
      "  roi_dd_ratio = total_roi / abs(max_drawdown)\n"
     ]
    },
    {
     "name": "stdout",
     "output_type": "stream",
     "text": [
      "n 2, rsi 21, threshold 75, ema 30\n"
     ]
    },
    {
     "name": "stderr",
     "output_type": "stream",
     "text": [
      "/tmp/ipykernel_37279/873016624.py:45: RuntimeWarning: divide by zero encountered in scalar divide\n",
      "  roi_dd_ratio = total_roi / abs(max_drawdown)\n"
     ]
    },
    {
     "name": "stdout",
     "output_type": "stream",
     "text": [
      "n 2, rsi 21, threshold 75, ema 35\n"
     ]
    },
    {
     "name": "stderr",
     "output_type": "stream",
     "text": [
      "/tmp/ipykernel_37279/873016624.py:45: RuntimeWarning: divide by zero encountered in scalar divide\n",
      "  roi_dd_ratio = total_roi / abs(max_drawdown)\n"
     ]
    },
    {
     "name": "stdout",
     "output_type": "stream",
     "text": [
      "n 2, rsi 21, threshold 80, ema 5\n"
     ]
    },
    {
     "name": "stderr",
     "output_type": "stream",
     "text": [
      "/tmp/ipykernel_37279/873016624.py:45: RuntimeWarning: divide by zero encountered in scalar divide\n",
      "  roi_dd_ratio = total_roi / abs(max_drawdown)\n",
      "/tmp/ipykernel_37279/873016624.py:70: RuntimeWarning: divide by zero encountered in scalar divide\n",
      "  overall_roi_dd_ratio = overall_total_roi / abs(overall_max_drawdown)\n"
     ]
    },
    {
     "name": "stdout",
     "output_type": "stream",
     "text": [
      "n 2, rsi 21, threshold 80, ema 10\n"
     ]
    },
    {
     "name": "stderr",
     "output_type": "stream",
     "text": [
      "/tmp/ipykernel_37279/873016624.py:45: RuntimeWarning: divide by zero encountered in scalar divide\n",
      "  roi_dd_ratio = total_roi / abs(max_drawdown)\n",
      "/tmp/ipykernel_37279/873016624.py:70: RuntimeWarning: divide by zero encountered in scalar divide\n",
      "  overall_roi_dd_ratio = overall_total_roi / abs(overall_max_drawdown)\n"
     ]
    },
    {
     "name": "stdout",
     "output_type": "stream",
     "text": [
      "n 2, rsi 21, threshold 80, ema 15\n"
     ]
    },
    {
     "name": "stderr",
     "output_type": "stream",
     "text": [
      "/tmp/ipykernel_37279/873016624.py:45: RuntimeWarning: divide by zero encountered in scalar divide\n",
      "  roi_dd_ratio = total_roi / abs(max_drawdown)\n",
      "/tmp/ipykernel_37279/873016624.py:70: RuntimeWarning: divide by zero encountered in scalar divide\n",
      "  overall_roi_dd_ratio = overall_total_roi / abs(overall_max_drawdown)\n"
     ]
    },
    {
     "name": "stdout",
     "output_type": "stream",
     "text": [
      "n 2, rsi 21, threshold 80, ema 20\n"
     ]
    },
    {
     "name": "stderr",
     "output_type": "stream",
     "text": [
      "/tmp/ipykernel_37279/873016624.py:45: RuntimeWarning: divide by zero encountered in scalar divide\n",
      "  roi_dd_ratio = total_roi / abs(max_drawdown)\n",
      "/tmp/ipykernel_37279/873016624.py:70: RuntimeWarning: divide by zero encountered in scalar divide\n",
      "  overall_roi_dd_ratio = overall_total_roi / abs(overall_max_drawdown)\n"
     ]
    },
    {
     "name": "stdout",
     "output_type": "stream",
     "text": [
      "n 2, rsi 21, threshold 80, ema 25\n"
     ]
    },
    {
     "name": "stderr",
     "output_type": "stream",
     "text": [
      "/tmp/ipykernel_37279/873016624.py:45: RuntimeWarning: divide by zero encountered in scalar divide\n",
      "  roi_dd_ratio = total_roi / abs(max_drawdown)\n",
      "/tmp/ipykernel_37279/873016624.py:70: RuntimeWarning: divide by zero encountered in scalar divide\n",
      "  overall_roi_dd_ratio = overall_total_roi / abs(overall_max_drawdown)\n"
     ]
    },
    {
     "name": "stdout",
     "output_type": "stream",
     "text": [
      "n 2, rsi 21, threshold 80, ema 30\n"
     ]
    },
    {
     "name": "stderr",
     "output_type": "stream",
     "text": [
      "/tmp/ipykernel_37279/873016624.py:45: RuntimeWarning: divide by zero encountered in scalar divide\n",
      "  roi_dd_ratio = total_roi / abs(max_drawdown)\n",
      "/tmp/ipykernel_37279/873016624.py:70: RuntimeWarning: divide by zero encountered in scalar divide\n",
      "  overall_roi_dd_ratio = overall_total_roi / abs(overall_max_drawdown)\n"
     ]
    },
    {
     "name": "stdout",
     "output_type": "stream",
     "text": [
      "n 2, rsi 21, threshold 80, ema 35\n"
     ]
    },
    {
     "name": "stderr",
     "output_type": "stream",
     "text": [
      "/tmp/ipykernel_37279/873016624.py:45: RuntimeWarning: divide by zero encountered in scalar divide\n",
      "  roi_dd_ratio = total_roi / abs(max_drawdown)\n",
      "/tmp/ipykernel_37279/873016624.py:70: RuntimeWarning: divide by zero encountered in scalar divide\n",
      "  overall_roi_dd_ratio = overall_total_roi / abs(overall_max_drawdown)\n"
     ]
    },
    {
     "name": "stdout",
     "output_type": "stream",
     "text": [
      "n 2, rsi 6, threshold 30, ema 5\n",
      "n 2, rsi 6, threshold 30, ema 10\n",
      "n 2, rsi 6, threshold 30, ema 15\n",
      "n 2, rsi 6, threshold 30, ema 20\n",
      "n 2, rsi 6, threshold 30, ema 25\n",
      "n 2, rsi 6, threshold 30, ema 30\n",
      "n 2, rsi 6, threshold 30, ema 35\n",
      "n 2, rsi 6, threshold 35, ema 5\n",
      "n 2, rsi 6, threshold 35, ema 10\n",
      "n 2, rsi 6, threshold 35, ema 15\n",
      "n 2, rsi 6, threshold 35, ema 20\n",
      "n 2, rsi 6, threshold 35, ema 25\n",
      "n 2, rsi 6, threshold 35, ema 30\n",
      "n 2, rsi 6, threshold 35, ema 35\n",
      "n 2, rsi 6, threshold 40, ema 5\n",
      "n 2, rsi 6, threshold 40, ema 10\n",
      "n 2, rsi 6, threshold 40, ema 15\n",
      "n 2, rsi 6, threshold 40, ema 20\n",
      "n 2, rsi 6, threshold 40, ema 25\n",
      "n 2, rsi 6, threshold 40, ema 30\n",
      "n 2, rsi 6, threshold 40, ema 35\n",
      "n 2, rsi 6, threshold 45, ema 5\n",
      "n 2, rsi 6, threshold 45, ema 10\n",
      "n 2, rsi 6, threshold 45, ema 15\n",
      "n 2, rsi 6, threshold 45, ema 20\n",
      "n 2, rsi 6, threshold 45, ema 25\n",
      "n 2, rsi 6, threshold 45, ema 30\n",
      "n 2, rsi 6, threshold 45, ema 35\n",
      "n 2, rsi 6, threshold 50, ema 5\n",
      "n 2, rsi 6, threshold 50, ema 10\n",
      "n 2, rsi 6, threshold 50, ema 15\n",
      "n 2, rsi 6, threshold 50, ema 20\n",
      "n 2, rsi 6, threshold 50, ema 25\n",
      "n 2, rsi 6, threshold 50, ema 30\n",
      "n 2, rsi 6, threshold 50, ema 35\n",
      "n 2, rsi 6, threshold 55, ema 5\n",
      "n 2, rsi 6, threshold 55, ema 10\n",
      "n 2, rsi 6, threshold 55, ema 15\n",
      "n 2, rsi 6, threshold 55, ema 20\n",
      "n 2, rsi 6, threshold 55, ema 25\n",
      "n 2, rsi 6, threshold 55, ema 30\n",
      "n 2, rsi 6, threshold 55, ema 35\n",
      "n 2, rsi 6, threshold 60, ema 5\n",
      "n 2, rsi 6, threshold 60, ema 10\n",
      "n 2, rsi 6, threshold 60, ema 15\n",
      "n 2, rsi 6, threshold 60, ema 20\n",
      "n 2, rsi 6, threshold 60, ema 25\n",
      "n 2, rsi 6, threshold 60, ema 30\n",
      "n 2, rsi 6, threshold 60, ema 35\n",
      "n 2, rsi 6, threshold 65, ema 5\n"
     ]
    },
    {
     "name": "stderr",
     "output_type": "stream",
     "text": [
      "/tmp/ipykernel_37279/873016624.py:45: RuntimeWarning: divide by zero encountered in scalar divide\n",
      "  roi_dd_ratio = total_roi / abs(max_drawdown)\n"
     ]
    },
    {
     "name": "stdout",
     "output_type": "stream",
     "text": [
      "n 2, rsi 6, threshold 65, ema 10\n"
     ]
    },
    {
     "name": "stderr",
     "output_type": "stream",
     "text": [
      "/tmp/ipykernel_37279/873016624.py:45: RuntimeWarning: divide by zero encountered in scalar divide\n",
      "  roi_dd_ratio = total_roi / abs(max_drawdown)\n"
     ]
    },
    {
     "name": "stdout",
     "output_type": "stream",
     "text": [
      "n 2, rsi 6, threshold 65, ema 15\n"
     ]
    },
    {
     "name": "stderr",
     "output_type": "stream",
     "text": [
      "/tmp/ipykernel_37279/873016624.py:45: RuntimeWarning: divide by zero encountered in scalar divide\n",
      "  roi_dd_ratio = total_roi / abs(max_drawdown)\n"
     ]
    },
    {
     "name": "stdout",
     "output_type": "stream",
     "text": [
      "n 2, rsi 6, threshold 65, ema 20\n"
     ]
    },
    {
     "name": "stderr",
     "output_type": "stream",
     "text": [
      "/tmp/ipykernel_37279/873016624.py:45: RuntimeWarning: divide by zero encountered in scalar divide\n",
      "  roi_dd_ratio = total_roi / abs(max_drawdown)\n"
     ]
    },
    {
     "name": "stdout",
     "output_type": "stream",
     "text": [
      "n 2, rsi 6, threshold 65, ema 25\n"
     ]
    },
    {
     "name": "stderr",
     "output_type": "stream",
     "text": [
      "/tmp/ipykernel_37279/873016624.py:45: RuntimeWarning: divide by zero encountered in scalar divide\n",
      "  roi_dd_ratio = total_roi / abs(max_drawdown)\n"
     ]
    },
    {
     "name": "stdout",
     "output_type": "stream",
     "text": [
      "n 2, rsi 6, threshold 65, ema 30\n"
     ]
    },
    {
     "name": "stderr",
     "output_type": "stream",
     "text": [
      "/tmp/ipykernel_37279/873016624.py:45: RuntimeWarning: divide by zero encountered in scalar divide\n",
      "  roi_dd_ratio = total_roi / abs(max_drawdown)\n"
     ]
    },
    {
     "name": "stdout",
     "output_type": "stream",
     "text": [
      "n 2, rsi 6, threshold 65, ema 35\n"
     ]
    },
    {
     "name": "stderr",
     "output_type": "stream",
     "text": [
      "/tmp/ipykernel_37279/873016624.py:45: RuntimeWarning: divide by zero encountered in scalar divide\n",
      "  roi_dd_ratio = total_roi / abs(max_drawdown)\n"
     ]
    },
    {
     "name": "stdout",
     "output_type": "stream",
     "text": [
      "n 2, rsi 6, threshold 70, ema 5\n"
     ]
    },
    {
     "name": "stderr",
     "output_type": "stream",
     "text": [
      "/tmp/ipykernel_37279/873016624.py:45: RuntimeWarning: divide by zero encountered in scalar divide\n",
      "  roi_dd_ratio = total_roi / abs(max_drawdown)\n"
     ]
    },
    {
     "name": "stdout",
     "output_type": "stream",
     "text": [
      "n 2, rsi 6, threshold 70, ema 10\n"
     ]
    },
    {
     "name": "stderr",
     "output_type": "stream",
     "text": [
      "/tmp/ipykernel_37279/873016624.py:45: RuntimeWarning: divide by zero encountered in scalar divide\n",
      "  roi_dd_ratio = total_roi / abs(max_drawdown)\n"
     ]
    },
    {
     "name": "stdout",
     "output_type": "stream",
     "text": [
      "n 2, rsi 6, threshold 70, ema 15\n"
     ]
    },
    {
     "name": "stderr",
     "output_type": "stream",
     "text": [
      "/tmp/ipykernel_37279/873016624.py:45: RuntimeWarning: divide by zero encountered in scalar divide\n",
      "  roi_dd_ratio = total_roi / abs(max_drawdown)\n"
     ]
    },
    {
     "name": "stdout",
     "output_type": "stream",
     "text": [
      "n 2, rsi 6, threshold 70, ema 20\n"
     ]
    },
    {
     "name": "stderr",
     "output_type": "stream",
     "text": [
      "/tmp/ipykernel_37279/873016624.py:45: RuntimeWarning: divide by zero encountered in scalar divide\n",
      "  roi_dd_ratio = total_roi / abs(max_drawdown)\n"
     ]
    },
    {
     "name": "stdout",
     "output_type": "stream",
     "text": [
      "n 2, rsi 6, threshold 70, ema 25\n"
     ]
    },
    {
     "name": "stderr",
     "output_type": "stream",
     "text": [
      "/tmp/ipykernel_37279/873016624.py:45: RuntimeWarning: divide by zero encountered in scalar divide\n",
      "  roi_dd_ratio = total_roi / abs(max_drawdown)\n"
     ]
    },
    {
     "name": "stdout",
     "output_type": "stream",
     "text": [
      "n 2, rsi 6, threshold 70, ema 30\n"
     ]
    },
    {
     "name": "stderr",
     "output_type": "stream",
     "text": [
      "/tmp/ipykernel_37279/873016624.py:45: RuntimeWarning: divide by zero encountered in scalar divide\n",
      "  roi_dd_ratio = total_roi / abs(max_drawdown)\n"
     ]
    },
    {
     "name": "stdout",
     "output_type": "stream",
     "text": [
      "n 2, rsi 6, threshold 70, ema 35\n"
     ]
    },
    {
     "name": "stderr",
     "output_type": "stream",
     "text": [
      "/tmp/ipykernel_37279/873016624.py:45: RuntimeWarning: divide by zero encountered in scalar divide\n",
      "  roi_dd_ratio = total_roi / abs(max_drawdown)\n"
     ]
    },
    {
     "name": "stdout",
     "output_type": "stream",
     "text": [
      "n 2, rsi 6, threshold 75, ema 5\n"
     ]
    },
    {
     "name": "stderr",
     "output_type": "stream",
     "text": [
      "/tmp/ipykernel_37279/873016624.py:45: RuntimeWarning: divide by zero encountered in scalar divide\n",
      "  roi_dd_ratio = total_roi / abs(max_drawdown)\n"
     ]
    },
    {
     "name": "stdout",
     "output_type": "stream",
     "text": [
      "n 2, rsi 6, threshold 75, ema 10\n"
     ]
    },
    {
     "name": "stderr",
     "output_type": "stream",
     "text": [
      "/tmp/ipykernel_37279/873016624.py:45: RuntimeWarning: divide by zero encountered in scalar divide\n",
      "  roi_dd_ratio = total_roi / abs(max_drawdown)\n"
     ]
    },
    {
     "name": "stdout",
     "output_type": "stream",
     "text": [
      "n 2, rsi 6, threshold 75, ema 15\n"
     ]
    },
    {
     "name": "stderr",
     "output_type": "stream",
     "text": [
      "/tmp/ipykernel_37279/873016624.py:45: RuntimeWarning: divide by zero encountered in scalar divide\n",
      "  roi_dd_ratio = total_roi / abs(max_drawdown)\n"
     ]
    },
    {
     "name": "stdout",
     "output_type": "stream",
     "text": [
      "n 2, rsi 6, threshold 75, ema 20\n"
     ]
    },
    {
     "name": "stderr",
     "output_type": "stream",
     "text": [
      "/tmp/ipykernel_37279/873016624.py:45: RuntimeWarning: divide by zero encountered in scalar divide\n",
      "  roi_dd_ratio = total_roi / abs(max_drawdown)\n"
     ]
    },
    {
     "name": "stdout",
     "output_type": "stream",
     "text": [
      "n 2, rsi 6, threshold 75, ema 25\n"
     ]
    },
    {
     "name": "stderr",
     "output_type": "stream",
     "text": [
      "/tmp/ipykernel_37279/873016624.py:45: RuntimeWarning: divide by zero encountered in scalar divide\n",
      "  roi_dd_ratio = total_roi / abs(max_drawdown)\n"
     ]
    },
    {
     "name": "stdout",
     "output_type": "stream",
     "text": [
      "n 2, rsi 6, threshold 75, ema 30\n"
     ]
    },
    {
     "name": "stderr",
     "output_type": "stream",
     "text": [
      "/tmp/ipykernel_37279/873016624.py:45: RuntimeWarning: divide by zero encountered in scalar divide\n",
      "  roi_dd_ratio = total_roi / abs(max_drawdown)\n"
     ]
    },
    {
     "name": "stdout",
     "output_type": "stream",
     "text": [
      "n 2, rsi 6, threshold 75, ema 35\n"
     ]
    },
    {
     "name": "stderr",
     "output_type": "stream",
     "text": [
      "/tmp/ipykernel_37279/873016624.py:45: RuntimeWarning: divide by zero encountered in scalar divide\n",
      "  roi_dd_ratio = total_roi / abs(max_drawdown)\n"
     ]
    },
    {
     "name": "stdout",
     "output_type": "stream",
     "text": [
      "n 2, rsi 6, threshold 80, ema 5\n"
     ]
    },
    {
     "name": "stderr",
     "output_type": "stream",
     "text": [
      "/tmp/ipykernel_37279/873016624.py:45: RuntimeWarning: divide by zero encountered in scalar divide\n",
      "  roi_dd_ratio = total_roi / abs(max_drawdown)\n",
      "/tmp/ipykernel_37279/873016624.py:70: RuntimeWarning: divide by zero encountered in scalar divide\n",
      "  overall_roi_dd_ratio = overall_total_roi / abs(overall_max_drawdown)\n"
     ]
    },
    {
     "name": "stdout",
     "output_type": "stream",
     "text": [
      "        Total ROI Total Trades Win Rate Avg Profit% per Trade Avg Loss% per Trade Max Drawdown ROI/DD Ratio                        Variation\n",
      "2018       0.0000            0      NaN                   NaN                 NaN          NaN          NaN  n 2, rsi 6, threshold 80, ema 5\n",
      "2019       0.0000            0      NaN                   NaN                 NaN          NaN          NaN  n 2, rsi 6, threshold 80, ema 5\n",
      "2020      29.9326            1 100.0000               29.9326                 NaN       0.0000          inf  n 2, rsi 6, threshold 80, ema 5\n",
      "2021       0.0000            0      NaN                   NaN                 NaN          NaN          NaN  n 2, rsi 6, threshold 80, ema 5\n",
      "2022       0.0000            0      NaN                   NaN                 NaN          NaN          NaN  n 2, rsi 6, threshold 80, ema 5\n",
      "2023       0.0000            0      NaN                   NaN                 NaN          NaN          NaN  n 2, rsi 6, threshold 80, ema 5\n",
      "2024       0.0000            0      NaN                   NaN                 NaN          NaN          NaN  n 2, rsi 6, threshold 80, ema 5\n",
      "Overall   29.9326            1 100.0000               29.9326                 NaN       0.0000          inf  n 2, rsi 6, threshold 80, ema 5\n",
      "n 2, rsi 6, threshold 80, ema 10\n"
     ]
    },
    {
     "name": "stderr",
     "output_type": "stream",
     "text": [
      "/tmp/ipykernel_37279/873016624.py:45: RuntimeWarning: divide by zero encountered in scalar divide\n",
      "  roi_dd_ratio = total_roi / abs(max_drawdown)\n",
      "/tmp/ipykernel_37279/873016624.py:70: RuntimeWarning: divide by zero encountered in scalar divide\n",
      "  overall_roi_dd_ratio = overall_total_roi / abs(overall_max_drawdown)\n"
     ]
    },
    {
     "name": "stdout",
     "output_type": "stream",
     "text": [
      "        Total ROI Total Trades Win Rate Avg Profit% per Trade Avg Loss% per Trade Max Drawdown ROI/DD Ratio                         Variation\n",
      "2018       0.0000            0      NaN                   NaN                 NaN          NaN          NaN  n 2, rsi 6, threshold 80, ema 10\n",
      "2019       0.0000            0      NaN                   NaN                 NaN          NaN          NaN  n 2, rsi 6, threshold 80, ema 10\n",
      "2020      29.9326            1 100.0000               29.9326                 NaN       0.0000          inf  n 2, rsi 6, threshold 80, ema 10\n",
      "2021       0.0000            0      NaN                   NaN                 NaN          NaN          NaN  n 2, rsi 6, threshold 80, ema 10\n",
      "2022       0.0000            0      NaN                   NaN                 NaN          NaN          NaN  n 2, rsi 6, threshold 80, ema 10\n",
      "2023       0.0000            0      NaN                   NaN                 NaN          NaN          NaN  n 2, rsi 6, threshold 80, ema 10\n",
      "2024       0.0000            0      NaN                   NaN                 NaN          NaN          NaN  n 2, rsi 6, threshold 80, ema 10\n",
      "Overall   29.9326            1 100.0000               29.9326                 NaN       0.0000          inf  n 2, rsi 6, threshold 80, ema 10\n",
      "n 2, rsi 6, threshold 80, ema 15\n"
     ]
    },
    {
     "name": "stderr",
     "output_type": "stream",
     "text": [
      "/tmp/ipykernel_37279/873016624.py:45: RuntimeWarning: divide by zero encountered in scalar divide\n",
      "  roi_dd_ratio = total_roi / abs(max_drawdown)\n",
      "/tmp/ipykernel_37279/873016624.py:70: RuntimeWarning: divide by zero encountered in scalar divide\n",
      "  overall_roi_dd_ratio = overall_total_roi / abs(overall_max_drawdown)\n"
     ]
    },
    {
     "name": "stdout",
     "output_type": "stream",
     "text": [
      "        Total ROI Total Trades Win Rate Avg Profit% per Trade Avg Loss% per Trade Max Drawdown ROI/DD Ratio                         Variation\n",
      "2018       0.0000            0      NaN                   NaN                 NaN          NaN          NaN  n 2, rsi 6, threshold 80, ema 15\n",
      "2019       0.0000            0      NaN                   NaN                 NaN          NaN          NaN  n 2, rsi 6, threshold 80, ema 15\n",
      "2020      29.9326            1 100.0000               29.9326                 NaN       0.0000          inf  n 2, rsi 6, threshold 80, ema 15\n",
      "2021       0.0000            0      NaN                   NaN                 NaN          NaN          NaN  n 2, rsi 6, threshold 80, ema 15\n",
      "2022       0.0000            0      NaN                   NaN                 NaN          NaN          NaN  n 2, rsi 6, threshold 80, ema 15\n",
      "2023       0.0000            0      NaN                   NaN                 NaN          NaN          NaN  n 2, rsi 6, threshold 80, ema 15\n",
      "2024       0.0000            0      NaN                   NaN                 NaN          NaN          NaN  n 2, rsi 6, threshold 80, ema 15\n",
      "Overall   29.9326            1 100.0000               29.9326                 NaN       0.0000          inf  n 2, rsi 6, threshold 80, ema 15\n",
      "n 2, rsi 6, threshold 80, ema 20\n"
     ]
    },
    {
     "name": "stderr",
     "output_type": "stream",
     "text": [
      "/tmp/ipykernel_37279/873016624.py:45: RuntimeWarning: divide by zero encountered in scalar divide\n",
      "  roi_dd_ratio = total_roi / abs(max_drawdown)\n",
      "/tmp/ipykernel_37279/873016624.py:70: RuntimeWarning: divide by zero encountered in scalar divide\n",
      "  overall_roi_dd_ratio = overall_total_roi / abs(overall_max_drawdown)\n"
     ]
    },
    {
     "name": "stdout",
     "output_type": "stream",
     "text": [
      "        Total ROI Total Trades Win Rate Avg Profit% per Trade Avg Loss% per Trade Max Drawdown ROI/DD Ratio                         Variation\n",
      "2018       0.0000            0      NaN                   NaN                 NaN          NaN          NaN  n 2, rsi 6, threshold 80, ema 20\n",
      "2019       0.0000            0      NaN                   NaN                 NaN          NaN          NaN  n 2, rsi 6, threshold 80, ema 20\n",
      "2020      29.9326            1 100.0000               29.9326                 NaN       0.0000          inf  n 2, rsi 6, threshold 80, ema 20\n",
      "2021       0.0000            0      NaN                   NaN                 NaN          NaN          NaN  n 2, rsi 6, threshold 80, ema 20\n",
      "2022       0.0000            0      NaN                   NaN                 NaN          NaN          NaN  n 2, rsi 6, threshold 80, ema 20\n",
      "2023       0.0000            0      NaN                   NaN                 NaN          NaN          NaN  n 2, rsi 6, threshold 80, ema 20\n",
      "2024       0.0000            0      NaN                   NaN                 NaN          NaN          NaN  n 2, rsi 6, threshold 80, ema 20\n",
      "Overall   29.9326            1 100.0000               29.9326                 NaN       0.0000          inf  n 2, rsi 6, threshold 80, ema 20\n",
      "n 2, rsi 6, threshold 80, ema 25\n"
     ]
    },
    {
     "name": "stderr",
     "output_type": "stream",
     "text": [
      "/tmp/ipykernel_37279/873016624.py:45: RuntimeWarning: divide by zero encountered in scalar divide\n",
      "  roi_dd_ratio = total_roi / abs(max_drawdown)\n",
      "/tmp/ipykernel_37279/873016624.py:70: RuntimeWarning: divide by zero encountered in scalar divide\n",
      "  overall_roi_dd_ratio = overall_total_roi / abs(overall_max_drawdown)\n"
     ]
    },
    {
     "name": "stdout",
     "output_type": "stream",
     "text": [
      "        Total ROI Total Trades Win Rate Avg Profit% per Trade Avg Loss% per Trade Max Drawdown ROI/DD Ratio                         Variation\n",
      "2018       0.0000            0      NaN                   NaN                 NaN          NaN          NaN  n 2, rsi 6, threshold 80, ema 25\n",
      "2019       0.0000            0      NaN                   NaN                 NaN          NaN          NaN  n 2, rsi 6, threshold 80, ema 25\n",
      "2020      29.9326            1 100.0000               29.9326                 NaN       0.0000          inf  n 2, rsi 6, threshold 80, ema 25\n",
      "2021       0.0000            0      NaN                   NaN                 NaN          NaN          NaN  n 2, rsi 6, threshold 80, ema 25\n",
      "2022       0.0000            0      NaN                   NaN                 NaN          NaN          NaN  n 2, rsi 6, threshold 80, ema 25\n",
      "2023       0.0000            0      NaN                   NaN                 NaN          NaN          NaN  n 2, rsi 6, threshold 80, ema 25\n",
      "2024       0.0000            0      NaN                   NaN                 NaN          NaN          NaN  n 2, rsi 6, threshold 80, ema 25\n",
      "Overall   29.9326            1 100.0000               29.9326                 NaN       0.0000          inf  n 2, rsi 6, threshold 80, ema 25\n",
      "n 2, rsi 6, threshold 80, ema 30\n"
     ]
    },
    {
     "name": "stderr",
     "output_type": "stream",
     "text": [
      "/tmp/ipykernel_37279/873016624.py:45: RuntimeWarning: divide by zero encountered in scalar divide\n",
      "  roi_dd_ratio = total_roi / abs(max_drawdown)\n",
      "/tmp/ipykernel_37279/873016624.py:70: RuntimeWarning: divide by zero encountered in scalar divide\n",
      "  overall_roi_dd_ratio = overall_total_roi / abs(overall_max_drawdown)\n"
     ]
    },
    {
     "name": "stdout",
     "output_type": "stream",
     "text": [
      "        Total ROI Total Trades Win Rate Avg Profit% per Trade Avg Loss% per Trade Max Drawdown ROI/DD Ratio                         Variation\n",
      "2018       0.0000            0      NaN                   NaN                 NaN          NaN          NaN  n 2, rsi 6, threshold 80, ema 30\n",
      "2019       0.0000            0      NaN                   NaN                 NaN          NaN          NaN  n 2, rsi 6, threshold 80, ema 30\n",
      "2020      29.9326            1 100.0000               29.9326                 NaN       0.0000          inf  n 2, rsi 6, threshold 80, ema 30\n",
      "2021       0.0000            0      NaN                   NaN                 NaN          NaN          NaN  n 2, rsi 6, threshold 80, ema 30\n",
      "2022       0.0000            0      NaN                   NaN                 NaN          NaN          NaN  n 2, rsi 6, threshold 80, ema 30\n",
      "2023       0.0000            0      NaN                   NaN                 NaN          NaN          NaN  n 2, rsi 6, threshold 80, ema 30\n",
      "2024       0.0000            0      NaN                   NaN                 NaN          NaN          NaN  n 2, rsi 6, threshold 80, ema 30\n",
      "Overall   29.9326            1 100.0000               29.9326                 NaN       0.0000          inf  n 2, rsi 6, threshold 80, ema 30\n",
      "n 2, rsi 6, threshold 80, ema 35\n"
     ]
    },
    {
     "name": "stderr",
     "output_type": "stream",
     "text": [
      "/tmp/ipykernel_37279/873016624.py:45: RuntimeWarning: divide by zero encountered in scalar divide\n",
      "  roi_dd_ratio = total_roi / abs(max_drawdown)\n",
      "/tmp/ipykernel_37279/873016624.py:70: RuntimeWarning: divide by zero encountered in scalar divide\n",
      "  overall_roi_dd_ratio = overall_total_roi / abs(overall_max_drawdown)\n"
     ]
    },
    {
     "name": "stdout",
     "output_type": "stream",
     "text": [
      "        Total ROI Total Trades Win Rate Avg Profit% per Trade Avg Loss% per Trade Max Drawdown ROI/DD Ratio                         Variation\n",
      "2018       0.0000            0      NaN                   NaN                 NaN          NaN          NaN  n 2, rsi 6, threshold 80, ema 35\n",
      "2019       0.0000            0      NaN                   NaN                 NaN          NaN          NaN  n 2, rsi 6, threshold 80, ema 35\n",
      "2020      29.9326            1 100.0000               29.9326                 NaN       0.0000          inf  n 2, rsi 6, threshold 80, ema 35\n",
      "2021       0.0000            0      NaN                   NaN                 NaN          NaN          NaN  n 2, rsi 6, threshold 80, ema 35\n",
      "2022       0.0000            0      NaN                   NaN                 NaN          NaN          NaN  n 2, rsi 6, threshold 80, ema 35\n",
      "2023       0.0000            0      NaN                   NaN                 NaN          NaN          NaN  n 2, rsi 6, threshold 80, ema 35\n",
      "2024       0.0000            0      NaN                   NaN                 NaN          NaN          NaN  n 2, rsi 6, threshold 80, ema 35\n",
      "Overall   29.9326            1 100.0000               29.9326                 NaN       0.0000          inf  n 2, rsi 6, threshold 80, ema 35\n",
      "n 2, rsi 12, threshold 30, ema 5\n",
      "n 2, rsi 12, threshold 30, ema 10\n",
      "n 2, rsi 12, threshold 30, ema 15\n",
      "n 2, rsi 12, threshold 30, ema 20\n",
      "n 2, rsi 12, threshold 30, ema 25\n",
      "n 2, rsi 12, threshold 30, ema 30\n",
      "n 2, rsi 12, threshold 30, ema 35\n",
      "n 2, rsi 12, threshold 35, ema 5\n",
      "n 2, rsi 12, threshold 35, ema 10\n",
      "n 2, rsi 12, threshold 35, ema 15\n",
      "n 2, rsi 12, threshold 35, ema 20\n",
      "n 2, rsi 12, threshold 35, ema 25\n",
      "n 2, rsi 12, threshold 35, ema 30\n",
      "n 2, rsi 12, threshold 35, ema 35\n",
      "n 2, rsi 12, threshold 40, ema 5\n",
      "n 2, rsi 12, threshold 40, ema 10\n",
      "n 2, rsi 12, threshold 40, ema 15\n",
      "n 2, rsi 12, threshold 40, ema 20\n",
      "n 2, rsi 12, threshold 40, ema 25\n",
      "n 2, rsi 12, threshold 40, ema 30\n",
      "n 2, rsi 12, threshold 40, ema 35\n",
      "n 2, rsi 12, threshold 45, ema 5\n",
      "n 2, rsi 12, threshold 45, ema 10\n",
      "n 2, rsi 12, threshold 45, ema 15\n",
      "n 2, rsi 12, threshold 45, ema 20\n",
      "n 2, rsi 12, threshold 45, ema 25\n",
      "n 2, rsi 12, threshold 45, ema 30\n",
      "n 2, rsi 12, threshold 45, ema 35\n",
      "n 2, rsi 12, threshold 50, ema 5\n",
      "n 2, rsi 12, threshold 50, ema 10\n",
      "n 2, rsi 12, threshold 50, ema 15\n",
      "n 2, rsi 12, threshold 50, ema 20\n",
      "n 2, rsi 12, threshold 50, ema 25\n",
      "n 2, rsi 12, threshold 50, ema 30\n",
      "n 2, rsi 12, threshold 50, ema 35\n",
      "n 2, rsi 12, threshold 55, ema 5\n",
      "n 2, rsi 12, threshold 55, ema 10\n",
      "n 2, rsi 12, threshold 55, ema 15\n",
      "n 2, rsi 12, threshold 55, ema 20\n",
      "n 2, rsi 12, threshold 55, ema 25\n",
      "n 2, rsi 12, threshold 55, ema 30\n",
      "n 2, rsi 12, threshold 55, ema 35\n",
      "n 2, rsi 12, threshold 60, ema 5\n",
      "n 2, rsi 12, threshold 60, ema 10\n",
      "n 2, rsi 12, threshold 60, ema 15\n",
      "n 2, rsi 12, threshold 60, ema 20\n",
      "n 2, rsi 12, threshold 60, ema 25\n",
      "n 2, rsi 12, threshold 60, ema 30\n",
      "n 2, rsi 12, threshold 60, ema 35\n",
      "n 2, rsi 12, threshold 65, ema 5\n",
      "n 2, rsi 12, threshold 65, ema 10\n",
      "n 2, rsi 12, threshold 65, ema 15\n",
      "n 2, rsi 12, threshold 65, ema 20\n",
      "n 2, rsi 12, threshold 65, ema 25\n",
      "n 2, rsi 12, threshold 65, ema 30\n",
      "n 2, rsi 12, threshold 65, ema 35\n",
      "n 2, rsi 12, threshold 70, ema 5\n"
     ]
    },
    {
     "name": "stderr",
     "output_type": "stream",
     "text": [
      "/tmp/ipykernel_37279/873016624.py:45: RuntimeWarning: divide by zero encountered in scalar divide\n",
      "  roi_dd_ratio = total_roi / abs(max_drawdown)\n"
     ]
    },
    {
     "name": "stdout",
     "output_type": "stream",
     "text": [
      "n 2, rsi 12, threshold 70, ema 10\n"
     ]
    },
    {
     "name": "stderr",
     "output_type": "stream",
     "text": [
      "/tmp/ipykernel_37279/873016624.py:45: RuntimeWarning: divide by zero encountered in scalar divide\n",
      "  roi_dd_ratio = total_roi / abs(max_drawdown)\n"
     ]
    },
    {
     "name": "stdout",
     "output_type": "stream",
     "text": [
      "n 2, rsi 12, threshold 70, ema 15\n"
     ]
    },
    {
     "name": "stderr",
     "output_type": "stream",
     "text": [
      "/tmp/ipykernel_37279/873016624.py:45: RuntimeWarning: divide by zero encountered in scalar divide\n",
      "  roi_dd_ratio = total_roi / abs(max_drawdown)\n"
     ]
    },
    {
     "name": "stdout",
     "output_type": "stream",
     "text": [
      "n 2, rsi 12, threshold 70, ema 20\n"
     ]
    },
    {
     "name": "stderr",
     "output_type": "stream",
     "text": [
      "/tmp/ipykernel_37279/873016624.py:45: RuntimeWarning: divide by zero encountered in scalar divide\n",
      "  roi_dd_ratio = total_roi / abs(max_drawdown)\n"
     ]
    },
    {
     "name": "stdout",
     "output_type": "stream",
     "text": [
      "n 2, rsi 12, threshold 70, ema 25\n"
     ]
    },
    {
     "name": "stderr",
     "output_type": "stream",
     "text": [
      "/tmp/ipykernel_37279/873016624.py:45: RuntimeWarning: divide by zero encountered in scalar divide\n",
      "  roi_dd_ratio = total_roi / abs(max_drawdown)\n"
     ]
    },
    {
     "name": "stdout",
     "output_type": "stream",
     "text": [
      "n 2, rsi 12, threshold 70, ema 30\n"
     ]
    },
    {
     "name": "stderr",
     "output_type": "stream",
     "text": [
      "/tmp/ipykernel_37279/873016624.py:45: RuntimeWarning: divide by zero encountered in scalar divide\n",
      "  roi_dd_ratio = total_roi / abs(max_drawdown)\n"
     ]
    },
    {
     "name": "stdout",
     "output_type": "stream",
     "text": [
      "n 2, rsi 12, threshold 70, ema 35\n"
     ]
    },
    {
     "name": "stderr",
     "output_type": "stream",
     "text": [
      "/tmp/ipykernel_37279/873016624.py:45: RuntimeWarning: divide by zero encountered in scalar divide\n",
      "  roi_dd_ratio = total_roi / abs(max_drawdown)\n"
     ]
    },
    {
     "name": "stdout",
     "output_type": "stream",
     "text": [
      "n 2, rsi 12, threshold 75, ema 5\n",
      "n 2, rsi 12, threshold 75, ema 10\n",
      "n 2, rsi 12, threshold 75, ema 15\n",
      "n 2, rsi 12, threshold 75, ema 20\n",
      "n 2, rsi 12, threshold 75, ema 25\n",
      "n 2, rsi 12, threshold 75, ema 30\n",
      "n 2, rsi 12, threshold 75, ema 35\n",
      "n 2, rsi 12, threshold 80, ema 5\n",
      "n 2, rsi 12, threshold 80, ema 10\n",
      "n 2, rsi 12, threshold 80, ema 15\n",
      "n 2, rsi 12, threshold 80, ema 20\n",
      "n 2, rsi 12, threshold 80, ema 25\n",
      "n 2, rsi 12, threshold 80, ema 30\n",
      "n 2, rsi 12, threshold 80, ema 35\n",
      "n 2, rsi 16, threshold 30, ema 5\n",
      "n 2, rsi 16, threshold 30, ema 10\n",
      "n 2, rsi 16, threshold 30, ema 15\n",
      "n 2, rsi 16, threshold 30, ema 20\n",
      "n 2, rsi 16, threshold 30, ema 25\n",
      "n 2, rsi 16, threshold 30, ema 30\n",
      "n 2, rsi 16, threshold 30, ema 35\n",
      "n 2, rsi 16, threshold 35, ema 5\n",
      "n 2, rsi 16, threshold 35, ema 10\n",
      "n 2, rsi 16, threshold 35, ema 15\n",
      "n 2, rsi 16, threshold 35, ema 20\n",
      "n 2, rsi 16, threshold 35, ema 25\n",
      "n 2, rsi 16, threshold 35, ema 30\n",
      "n 2, rsi 16, threshold 35, ema 35\n",
      "n 2, rsi 16, threshold 40, ema 5\n",
      "n 2, rsi 16, threshold 40, ema 10\n",
      "n 2, rsi 16, threshold 40, ema 15\n",
      "n 2, rsi 16, threshold 40, ema 20\n",
      "n 2, rsi 16, threshold 40, ema 25\n",
      "n 2, rsi 16, threshold 40, ema 30\n",
      "n 2, rsi 16, threshold 40, ema 35\n",
      "n 2, rsi 16, threshold 45, ema 5\n",
      "n 2, rsi 16, threshold 45, ema 10\n",
      "n 2, rsi 16, threshold 45, ema 15\n",
      "n 2, rsi 16, threshold 45, ema 20\n",
      "n 2, rsi 16, threshold 45, ema 25\n",
      "n 2, rsi 16, threshold 45, ema 30\n",
      "n 2, rsi 16, threshold 45, ema 35\n",
      "n 2, rsi 16, threshold 50, ema 5\n",
      "n 2, rsi 16, threshold 50, ema 10\n",
      "n 2, rsi 16, threshold 50, ema 15\n",
      "n 2, rsi 16, threshold 50, ema 20\n",
      "n 2, rsi 16, threshold 50, ema 25\n",
      "n 2, rsi 16, threshold 50, ema 30\n",
      "n 2, rsi 16, threshold 50, ema 35\n",
      "n 2, rsi 16, threshold 55, ema 5\n",
      "n 2, rsi 16, threshold 55, ema 10\n",
      "n 2, rsi 16, threshold 55, ema 15\n",
      "n 2, rsi 16, threshold 55, ema 20\n",
      "n 2, rsi 16, threshold 55, ema 25\n",
      "n 2, rsi 16, threshold 55, ema 30\n",
      "n 2, rsi 16, threshold 55, ema 35\n",
      "n 2, rsi 16, threshold 60, ema 5\n",
      "n 2, rsi 16, threshold 60, ema 10\n",
      "n 2, rsi 16, threshold 60, ema 15\n",
      "n 2, rsi 16, threshold 60, ema 20\n",
      "n 2, rsi 16, threshold 60, ema 25\n",
      "n 2, rsi 16, threshold 60, ema 30\n",
      "n 2, rsi 16, threshold 60, ema 35\n",
      "n 2, rsi 16, threshold 65, ema 5\n",
      "n 2, rsi 16, threshold 65, ema 10\n",
      "n 2, rsi 16, threshold 65, ema 15\n",
      "n 2, rsi 16, threshold 65, ema 20\n",
      "n 2, rsi 16, threshold 65, ema 25\n",
      "n 2, rsi 16, threshold 65, ema 30\n",
      "n 2, rsi 16, threshold 65, ema 35\n",
      "n 2, rsi 16, threshold 70, ema 5\n"
     ]
    },
    {
     "name": "stderr",
     "output_type": "stream",
     "text": [
      "/tmp/ipykernel_37279/873016624.py:45: RuntimeWarning: divide by zero encountered in scalar divide\n",
      "  roi_dd_ratio = total_roi / abs(max_drawdown)\n"
     ]
    },
    {
     "name": "stdout",
     "output_type": "stream",
     "text": [
      "n 2, rsi 16, threshold 70, ema 10\n"
     ]
    },
    {
     "name": "stderr",
     "output_type": "stream",
     "text": [
      "/tmp/ipykernel_37279/873016624.py:45: RuntimeWarning: divide by zero encountered in scalar divide\n",
      "  roi_dd_ratio = total_roi / abs(max_drawdown)\n"
     ]
    },
    {
     "name": "stdout",
     "output_type": "stream",
     "text": [
      "n 2, rsi 16, threshold 70, ema 15\n"
     ]
    },
    {
     "name": "stderr",
     "output_type": "stream",
     "text": [
      "/tmp/ipykernel_37279/873016624.py:45: RuntimeWarning: divide by zero encountered in scalar divide\n",
      "  roi_dd_ratio = total_roi / abs(max_drawdown)\n"
     ]
    },
    {
     "name": "stdout",
     "output_type": "stream",
     "text": [
      "n 2, rsi 16, threshold 70, ema 20\n"
     ]
    },
    {
     "name": "stderr",
     "output_type": "stream",
     "text": [
      "/tmp/ipykernel_37279/873016624.py:45: RuntimeWarning: divide by zero encountered in scalar divide\n",
      "  roi_dd_ratio = total_roi / abs(max_drawdown)\n"
     ]
    },
    {
     "name": "stdout",
     "output_type": "stream",
     "text": [
      "n 2, rsi 16, threshold 70, ema 25\n"
     ]
    },
    {
     "name": "stderr",
     "output_type": "stream",
     "text": [
      "/tmp/ipykernel_37279/873016624.py:45: RuntimeWarning: divide by zero encountered in scalar divide\n",
      "  roi_dd_ratio = total_roi / abs(max_drawdown)\n"
     ]
    },
    {
     "name": "stdout",
     "output_type": "stream",
     "text": [
      "n 2, rsi 16, threshold 70, ema 30\n"
     ]
    },
    {
     "name": "stderr",
     "output_type": "stream",
     "text": [
      "/tmp/ipykernel_37279/873016624.py:45: RuntimeWarning: divide by zero encountered in scalar divide\n",
      "  roi_dd_ratio = total_roi / abs(max_drawdown)\n"
     ]
    },
    {
     "name": "stdout",
     "output_type": "stream",
     "text": [
      "n 2, rsi 16, threshold 70, ema 35\n"
     ]
    },
    {
     "name": "stderr",
     "output_type": "stream",
     "text": [
      "/tmp/ipykernel_37279/873016624.py:45: RuntimeWarning: divide by zero encountered in scalar divide\n",
      "  roi_dd_ratio = total_roi / abs(max_drawdown)\n"
     ]
    },
    {
     "name": "stdout",
     "output_type": "stream",
     "text": [
      "n 2, rsi 16, threshold 75, ema 5\n",
      "n 2, rsi 16, threshold 75, ema 10\n",
      "n 2, rsi 16, threshold 75, ema 15\n",
      "n 2, rsi 16, threshold 75, ema 20\n",
      "n 2, rsi 16, threshold 75, ema 25\n",
      "n 2, rsi 16, threshold 75, ema 30\n",
      "n 2, rsi 16, threshold 75, ema 35\n",
      "n 2, rsi 16, threshold 80, ema 5\n",
      "n 2, rsi 16, threshold 80, ema 10\n",
      "n 2, rsi 16, threshold 80, ema 15\n",
      "n 2, rsi 16, threshold 80, ema 20\n",
      "n 2, rsi 16, threshold 80, ema 25\n",
      "n 2, rsi 16, threshold 80, ema 30\n",
      "n 2, rsi 16, threshold 80, ema 35\n",
      "n 3, rsi 14, threshold 30, ema 5\n",
      "n 3, rsi 14, threshold 30, ema 10\n",
      "n 3, rsi 14, threshold 30, ema 15\n",
      "n 3, rsi 14, threshold 30, ema 20\n",
      "n 3, rsi 14, threshold 30, ema 25\n",
      "n 3, rsi 14, threshold 30, ema 30\n",
      "n 3, rsi 14, threshold 30, ema 35\n",
      "n 3, rsi 14, threshold 35, ema 5\n",
      "n 3, rsi 14, threshold 35, ema 10\n",
      "n 3, rsi 14, threshold 35, ema 15\n",
      "n 3, rsi 14, threshold 35, ema 20\n",
      "n 3, rsi 14, threshold 35, ema 25\n",
      "n 3, rsi 14, threshold 35, ema 30\n",
      "n 3, rsi 14, threshold 35, ema 35\n",
      "n 3, rsi 14, threshold 40, ema 5\n",
      "n 3, rsi 14, threshold 40, ema 10\n",
      "n 3, rsi 14, threshold 40, ema 15\n",
      "n 3, rsi 14, threshold 40, ema 20\n",
      "n 3, rsi 14, threshold 40, ema 25\n",
      "n 3, rsi 14, threshold 40, ema 30\n",
      "n 3, rsi 14, threshold 40, ema 35\n",
      "n 3, rsi 14, threshold 45, ema 5\n",
      "n 3, rsi 14, threshold 45, ema 10\n",
      "n 3, rsi 14, threshold 45, ema 15\n",
      "n 3, rsi 14, threshold 45, ema 20\n",
      "n 3, rsi 14, threshold 45, ema 25\n",
      "n 3, rsi 14, threshold 45, ema 30\n",
      "n 3, rsi 14, threshold 45, ema 35\n",
      "n 3, rsi 14, threshold 50, ema 5\n",
      "n 3, rsi 14, threshold 50, ema 10\n",
      "n 3, rsi 14, threshold 50, ema 15\n",
      "n 3, rsi 14, threshold 50, ema 20\n",
      "n 3, rsi 14, threshold 50, ema 25\n",
      "n 3, rsi 14, threshold 50, ema 30\n",
      "n 3, rsi 14, threshold 50, ema 35\n",
      "n 3, rsi 14, threshold 55, ema 5\n",
      "n 3, rsi 14, threshold 55, ema 10\n",
      "n 3, rsi 14, threshold 55, ema 15\n",
      "n 3, rsi 14, threshold 55, ema 20\n",
      "n 3, rsi 14, threshold 55, ema 25\n",
      "n 3, rsi 14, threshold 55, ema 30\n",
      "n 3, rsi 14, threshold 55, ema 35\n",
      "n 3, rsi 14, threshold 60, ema 5\n",
      "n 3, rsi 14, threshold 60, ema 10\n",
      "n 3, rsi 14, threshold 60, ema 15\n",
      "n 3, rsi 14, threshold 60, ema 20\n",
      "n 3, rsi 14, threshold 60, ema 25\n",
      "n 3, rsi 14, threshold 60, ema 30\n",
      "n 3, rsi 14, threshold 60, ema 35\n",
      "n 3, rsi 14, threshold 65, ema 5\n"
     ]
    },
    {
     "name": "stderr",
     "output_type": "stream",
     "text": [
      "/tmp/ipykernel_37279/873016624.py:45: RuntimeWarning: divide by zero encountered in scalar divide\n",
      "  roi_dd_ratio = total_roi / abs(max_drawdown)\n"
     ]
    },
    {
     "name": "stdout",
     "output_type": "stream",
     "text": [
      "n 3, rsi 14, threshold 65, ema 10\n"
     ]
    },
    {
     "name": "stderr",
     "output_type": "stream",
     "text": [
      "/tmp/ipykernel_37279/873016624.py:45: RuntimeWarning: divide by zero encountered in scalar divide\n",
      "  roi_dd_ratio = total_roi / abs(max_drawdown)\n"
     ]
    },
    {
     "name": "stdout",
     "output_type": "stream",
     "text": [
      "n 3, rsi 14, threshold 65, ema 15\n"
     ]
    },
    {
     "name": "stderr",
     "output_type": "stream",
     "text": [
      "/tmp/ipykernel_37279/873016624.py:45: RuntimeWarning: divide by zero encountered in scalar divide\n",
      "  roi_dd_ratio = total_roi / abs(max_drawdown)\n"
     ]
    },
    {
     "name": "stdout",
     "output_type": "stream",
     "text": [
      "n 3, rsi 14, threshold 65, ema 20\n",
      "n 3, rsi 14, threshold 65, ema 25\n",
      "n 3, rsi 14, threshold 65, ema 30\n",
      "n 3, rsi 14, threshold 65, ema 35\n",
      "n 3, rsi 14, threshold 70, ema 5\n"
     ]
    },
    {
     "name": "stderr",
     "output_type": "stream",
     "text": [
      "/tmp/ipykernel_37279/873016624.py:45: RuntimeWarning: divide by zero encountered in scalar divide\n",
      "  roi_dd_ratio = total_roi / abs(max_drawdown)\n"
     ]
    },
    {
     "name": "stdout",
     "output_type": "stream",
     "text": [
      "n 3, rsi 14, threshold 70, ema 10\n"
     ]
    },
    {
     "name": "stderr",
     "output_type": "stream",
     "text": [
      "/tmp/ipykernel_37279/873016624.py:45: RuntimeWarning: divide by zero encountered in scalar divide\n",
      "  roi_dd_ratio = total_roi / abs(max_drawdown)\n"
     ]
    },
    {
     "name": "stdout",
     "output_type": "stream",
     "text": [
      "n 3, rsi 14, threshold 70, ema 15\n"
     ]
    },
    {
     "name": "stderr",
     "output_type": "stream",
     "text": [
      "/tmp/ipykernel_37279/873016624.py:45: RuntimeWarning: divide by zero encountered in scalar divide\n",
      "  roi_dd_ratio = total_roi / abs(max_drawdown)\n"
     ]
    },
    {
     "name": "stdout",
     "output_type": "stream",
     "text": [
      "n 3, rsi 14, threshold 70, ema 20\n"
     ]
    },
    {
     "name": "stderr",
     "output_type": "stream",
     "text": [
      "/tmp/ipykernel_37279/873016624.py:45: RuntimeWarning: divide by zero encountered in scalar divide\n",
      "  roi_dd_ratio = total_roi / abs(max_drawdown)\n"
     ]
    },
    {
     "name": "stdout",
     "output_type": "stream",
     "text": [
      "n 3, rsi 14, threshold 70, ema 25\n"
     ]
    },
    {
     "name": "stderr",
     "output_type": "stream",
     "text": [
      "/tmp/ipykernel_37279/873016624.py:45: RuntimeWarning: divide by zero encountered in scalar divide\n",
      "  roi_dd_ratio = total_roi / abs(max_drawdown)\n"
     ]
    },
    {
     "name": "stdout",
     "output_type": "stream",
     "text": [
      "n 3, rsi 14, threshold 70, ema 30\n",
      "n 3, rsi 14, threshold 70, ema 35\n"
     ]
    },
    {
     "name": "stderr",
     "output_type": "stream",
     "text": [
      "/tmp/ipykernel_37279/873016624.py:45: RuntimeWarning: divide by zero encountered in scalar divide\n",
      "  roi_dd_ratio = total_roi / abs(max_drawdown)\n",
      "/tmp/ipykernel_37279/873016624.py:45: RuntimeWarning: divide by zero encountered in scalar divide\n",
      "  roi_dd_ratio = total_roi / abs(max_drawdown)\n"
     ]
    },
    {
     "name": "stdout",
     "output_type": "stream",
     "text": [
      "n 3, rsi 14, threshold 75, ema 5\n"
     ]
    },
    {
     "name": "stderr",
     "output_type": "stream",
     "text": [
      "/tmp/ipykernel_37279/873016624.py:45: RuntimeWarning: divide by zero encountered in scalar divide\n",
      "  roi_dd_ratio = total_roi / abs(max_drawdown)\n",
      "/tmp/ipykernel_37279/873016624.py:70: RuntimeWarning: divide by zero encountered in scalar divide\n",
      "  overall_roi_dd_ratio = overall_total_roi / abs(overall_max_drawdown)\n"
     ]
    },
    {
     "name": "stdout",
     "output_type": "stream",
     "text": [
      "n 3, rsi 14, threshold 75, ema 10\n"
     ]
    },
    {
     "name": "stderr",
     "output_type": "stream",
     "text": [
      "/tmp/ipykernel_37279/873016624.py:45: RuntimeWarning: divide by zero encountered in scalar divide\n",
      "  roi_dd_ratio = total_roi / abs(max_drawdown)\n",
      "/tmp/ipykernel_37279/873016624.py:70: RuntimeWarning: divide by zero encountered in scalar divide\n",
      "  overall_roi_dd_ratio = overall_total_roi / abs(overall_max_drawdown)\n"
     ]
    },
    {
     "name": "stdout",
     "output_type": "stream",
     "text": [
      "n 3, rsi 14, threshold 75, ema 15\n"
     ]
    },
    {
     "name": "stderr",
     "output_type": "stream",
     "text": [
      "/tmp/ipykernel_37279/873016624.py:45: RuntimeWarning: divide by zero encountered in scalar divide\n",
      "  roi_dd_ratio = total_roi / abs(max_drawdown)\n",
      "/tmp/ipykernel_37279/873016624.py:70: RuntimeWarning: divide by zero encountered in scalar divide\n",
      "  overall_roi_dd_ratio = overall_total_roi / abs(overall_max_drawdown)\n"
     ]
    },
    {
     "name": "stdout",
     "output_type": "stream",
     "text": [
      "n 3, rsi 14, threshold 75, ema 20\n"
     ]
    },
    {
     "name": "stderr",
     "output_type": "stream",
     "text": [
      "/tmp/ipykernel_37279/873016624.py:45: RuntimeWarning: divide by zero encountered in scalar divide\n",
      "  roi_dd_ratio = total_roi / abs(max_drawdown)\n",
      "/tmp/ipykernel_37279/873016624.py:70: RuntimeWarning: divide by zero encountered in scalar divide\n",
      "  overall_roi_dd_ratio = overall_total_roi / abs(overall_max_drawdown)\n"
     ]
    },
    {
     "name": "stdout",
     "output_type": "stream",
     "text": [
      "n 3, rsi 14, threshold 75, ema 25\n"
     ]
    },
    {
     "name": "stderr",
     "output_type": "stream",
     "text": [
      "/tmp/ipykernel_37279/873016624.py:45: RuntimeWarning: divide by zero encountered in scalar divide\n",
      "  roi_dd_ratio = total_roi / abs(max_drawdown)\n",
      "/tmp/ipykernel_37279/873016624.py:70: RuntimeWarning: divide by zero encountered in scalar divide\n",
      "  overall_roi_dd_ratio = overall_total_roi / abs(overall_max_drawdown)\n"
     ]
    },
    {
     "name": "stdout",
     "output_type": "stream",
     "text": [
      "n 3, rsi 14, threshold 75, ema 30\n"
     ]
    },
    {
     "name": "stderr",
     "output_type": "stream",
     "text": [
      "/tmp/ipykernel_37279/873016624.py:45: RuntimeWarning: divide by zero encountered in scalar divide\n",
      "  roi_dd_ratio = total_roi / abs(max_drawdown)\n",
      "/tmp/ipykernel_37279/873016624.py:70: RuntimeWarning: divide by zero encountered in scalar divide\n",
      "  overall_roi_dd_ratio = overall_total_roi / abs(overall_max_drawdown)\n"
     ]
    },
    {
     "name": "stdout",
     "output_type": "stream",
     "text": [
      "n 3, rsi 14, threshold 75, ema 35\n"
     ]
    },
    {
     "name": "stderr",
     "output_type": "stream",
     "text": [
      "/tmp/ipykernel_37279/873016624.py:45: RuntimeWarning: divide by zero encountered in scalar divide\n",
      "  roi_dd_ratio = total_roi / abs(max_drawdown)\n",
      "/tmp/ipykernel_37279/873016624.py:70: RuntimeWarning: divide by zero encountered in scalar divide\n",
      "  overall_roi_dd_ratio = overall_total_roi / abs(overall_max_drawdown)\n"
     ]
    },
    {
     "name": "stdout",
     "output_type": "stream",
     "text": [
      "n 3, rsi 14, threshold 80, ema 5\n",
      "n 3, rsi 14, threshold 80, ema 10\n",
      "n 3, rsi 14, threshold 80, ema 15\n",
      "n 3, rsi 14, threshold 80, ema 20\n",
      "n 3, rsi 14, threshold 80, ema 25\n",
      "n 3, rsi 14, threshold 80, ema 30\n",
      "n 3, rsi 14, threshold 80, ema 35\n",
      "n 3, rsi 9, threshold 30, ema 5\n",
      "n 3, rsi 9, threshold 30, ema 10\n",
      "n 3, rsi 9, threshold 30, ema 15\n",
      "n 3, rsi 9, threshold 30, ema 20\n",
      "n 3, rsi 9, threshold 30, ema 25\n",
      "n 3, rsi 9, threshold 30, ema 30\n",
      "n 3, rsi 9, threshold 30, ema 35\n",
      "n 3, rsi 9, threshold 35, ema 5\n",
      "n 3, rsi 9, threshold 35, ema 10\n",
      "n 3, rsi 9, threshold 35, ema 15\n",
      "n 3, rsi 9, threshold 35, ema 20\n",
      "n 3, rsi 9, threshold 35, ema 25\n",
      "n 3, rsi 9, threshold 35, ema 30\n",
      "n 3, rsi 9, threshold 35, ema 35\n",
      "n 3, rsi 9, threshold 40, ema 5\n",
      "n 3, rsi 9, threshold 40, ema 10\n",
      "n 3, rsi 9, threshold 40, ema 15\n",
      "n 3, rsi 9, threshold 40, ema 20\n",
      "n 3, rsi 9, threshold 40, ema 25\n",
      "n 3, rsi 9, threshold 40, ema 30\n",
      "n 3, rsi 9, threshold 40, ema 35\n",
      "n 3, rsi 9, threshold 45, ema 5\n",
      "n 3, rsi 9, threshold 45, ema 10\n",
      "n 3, rsi 9, threshold 45, ema 15\n",
      "n 3, rsi 9, threshold 45, ema 20\n",
      "n 3, rsi 9, threshold 45, ema 25\n",
      "n 3, rsi 9, threshold 45, ema 30\n",
      "n 3, rsi 9, threshold 45, ema 35\n",
      "n 3, rsi 9, threshold 50, ema 5\n",
      "n 3, rsi 9, threshold 50, ema 10\n",
      "n 3, rsi 9, threshold 50, ema 15\n",
      "n 3, rsi 9, threshold 50, ema 20\n",
      "n 3, rsi 9, threshold 50, ema 25\n",
      "n 3, rsi 9, threshold 50, ema 30\n",
      "n 3, rsi 9, threshold 50, ema 35\n",
      "n 3, rsi 9, threshold 55, ema 5\n",
      "n 3, rsi 9, threshold 55, ema 10\n",
      "n 3, rsi 9, threshold 55, ema 15\n",
      "n 3, rsi 9, threshold 55, ema 20\n",
      "n 3, rsi 9, threshold 55, ema 25\n",
      "n 3, rsi 9, threshold 55, ema 30\n",
      "n 3, rsi 9, threshold 55, ema 35\n",
      "n 3, rsi 9, threshold 60, ema 5\n",
      "n 3, rsi 9, threshold 60, ema 10\n",
      "n 3, rsi 9, threshold 60, ema 15\n",
      "n 3, rsi 9, threshold 60, ema 20\n",
      "n 3, rsi 9, threshold 60, ema 25\n",
      "n 3, rsi 9, threshold 60, ema 30\n",
      "n 3, rsi 9, threshold 60, ema 35\n",
      "n 3, rsi 9, threshold 65, ema 5\n"
     ]
    },
    {
     "name": "stderr",
     "output_type": "stream",
     "text": [
      "/tmp/ipykernel_37279/873016624.py:45: RuntimeWarning: divide by zero encountered in scalar divide\n",
      "  roi_dd_ratio = total_roi / abs(max_drawdown)\n"
     ]
    },
    {
     "name": "stdout",
     "output_type": "stream",
     "text": [
      "n 3, rsi 9, threshold 65, ema 10\n"
     ]
    },
    {
     "name": "stderr",
     "output_type": "stream",
     "text": [
      "/tmp/ipykernel_37279/873016624.py:45: RuntimeWarning: divide by zero encountered in scalar divide\n",
      "  roi_dd_ratio = total_roi / abs(max_drawdown)\n"
     ]
    },
    {
     "name": "stdout",
     "output_type": "stream",
     "text": [
      "n 3, rsi 9, threshold 65, ema 15\n"
     ]
    },
    {
     "name": "stderr",
     "output_type": "stream",
     "text": [
      "/tmp/ipykernel_37279/873016624.py:45: RuntimeWarning: divide by zero encountered in scalar divide\n",
      "  roi_dd_ratio = total_roi / abs(max_drawdown)\n"
     ]
    },
    {
     "name": "stdout",
     "output_type": "stream",
     "text": [
      "n 3, rsi 9, threshold 65, ema 20\n",
      "n 3, rsi 9, threshold 65, ema 25\n",
      "n 3, rsi 9, threshold 65, ema 30\n",
      "n 3, rsi 9, threshold 65, ema 35\n",
      "n 3, rsi 9, threshold 70, ema 5\n"
     ]
    },
    {
     "name": "stderr",
     "output_type": "stream",
     "text": [
      "/tmp/ipykernel_37279/873016624.py:45: RuntimeWarning: divide by zero encountered in scalar divide\n",
      "  roi_dd_ratio = total_roi / abs(max_drawdown)\n"
     ]
    },
    {
     "name": "stdout",
     "output_type": "stream",
     "text": [
      "n 3, rsi 9, threshold 70, ema 10\n"
     ]
    },
    {
     "name": "stderr",
     "output_type": "stream",
     "text": [
      "/tmp/ipykernel_37279/873016624.py:45: RuntimeWarning: divide by zero encountered in scalar divide\n",
      "  roi_dd_ratio = total_roi / abs(max_drawdown)\n"
     ]
    },
    {
     "name": "stdout",
     "output_type": "stream",
     "text": [
      "n 3, rsi 9, threshold 70, ema 15\n"
     ]
    },
    {
     "name": "stderr",
     "output_type": "stream",
     "text": [
      "/tmp/ipykernel_37279/873016624.py:45: RuntimeWarning: divide by zero encountered in scalar divide\n",
      "  roi_dd_ratio = total_roi / abs(max_drawdown)\n"
     ]
    },
    {
     "name": "stdout",
     "output_type": "stream",
     "text": [
      "n 3, rsi 9, threshold 70, ema 20\n"
     ]
    },
    {
     "name": "stderr",
     "output_type": "stream",
     "text": [
      "/tmp/ipykernel_37279/873016624.py:45: RuntimeWarning: divide by zero encountered in scalar divide\n",
      "  roi_dd_ratio = total_roi / abs(max_drawdown)\n"
     ]
    },
    {
     "name": "stdout",
     "output_type": "stream",
     "text": [
      "n 3, rsi 9, threshold 70, ema 25\n"
     ]
    },
    {
     "name": "stderr",
     "output_type": "stream",
     "text": [
      "/tmp/ipykernel_37279/873016624.py:45: RuntimeWarning: divide by zero encountered in scalar divide\n",
      "  roi_dd_ratio = total_roi / abs(max_drawdown)\n"
     ]
    },
    {
     "name": "stdout",
     "output_type": "stream",
     "text": [
      "n 3, rsi 9, threshold 70, ema 30\n"
     ]
    },
    {
     "name": "stderr",
     "output_type": "stream",
     "text": [
      "/tmp/ipykernel_37279/873016624.py:45: RuntimeWarning: divide by zero encountered in scalar divide\n",
      "  roi_dd_ratio = total_roi / abs(max_drawdown)\n"
     ]
    },
    {
     "name": "stdout",
     "output_type": "stream",
     "text": [
      "n 3, rsi 9, threshold 70, ema 35\n"
     ]
    },
    {
     "name": "stderr",
     "output_type": "stream",
     "text": [
      "/tmp/ipykernel_37279/873016624.py:45: RuntimeWarning: divide by zero encountered in scalar divide\n",
      "  roi_dd_ratio = total_roi / abs(max_drawdown)\n"
     ]
    },
    {
     "name": "stdout",
     "output_type": "stream",
     "text": [
      "n 3, rsi 9, threshold 75, ema 5\n"
     ]
    },
    {
     "name": "stderr",
     "output_type": "stream",
     "text": [
      "/tmp/ipykernel_37279/873016624.py:45: RuntimeWarning: divide by zero encountered in scalar divide\n",
      "  roi_dd_ratio = total_roi / abs(max_drawdown)\n",
      "/tmp/ipykernel_37279/873016624.py:70: RuntimeWarning: divide by zero encountered in scalar divide\n",
      "  overall_roi_dd_ratio = overall_total_roi / abs(overall_max_drawdown)\n"
     ]
    },
    {
     "name": "stdout",
     "output_type": "stream",
     "text": [
      "n 3, rsi 9, threshold 75, ema 10\n"
     ]
    },
    {
     "name": "stderr",
     "output_type": "stream",
     "text": [
      "/tmp/ipykernel_37279/873016624.py:45: RuntimeWarning: divide by zero encountered in scalar divide\n",
      "  roi_dd_ratio = total_roi / abs(max_drawdown)\n",
      "/tmp/ipykernel_37279/873016624.py:70: RuntimeWarning: divide by zero encountered in scalar divide\n",
      "  overall_roi_dd_ratio = overall_total_roi / abs(overall_max_drawdown)\n"
     ]
    },
    {
     "name": "stdout",
     "output_type": "stream",
     "text": [
      "n 3, rsi 9, threshold 75, ema 15\n"
     ]
    },
    {
     "name": "stderr",
     "output_type": "stream",
     "text": [
      "/tmp/ipykernel_37279/873016624.py:45: RuntimeWarning: divide by zero encountered in scalar divide\n",
      "  roi_dd_ratio = total_roi / abs(max_drawdown)\n",
      "/tmp/ipykernel_37279/873016624.py:70: RuntimeWarning: divide by zero encountered in scalar divide\n",
      "  overall_roi_dd_ratio = overall_total_roi / abs(overall_max_drawdown)\n"
     ]
    },
    {
     "name": "stdout",
     "output_type": "stream",
     "text": [
      "n 3, rsi 9, threshold 75, ema 20\n"
     ]
    },
    {
     "name": "stderr",
     "output_type": "stream",
     "text": [
      "/tmp/ipykernel_37279/873016624.py:45: RuntimeWarning: divide by zero encountered in scalar divide\n",
      "  roi_dd_ratio = total_roi / abs(max_drawdown)\n",
      "/tmp/ipykernel_37279/873016624.py:70: RuntimeWarning: divide by zero encountered in scalar divide\n",
      "  overall_roi_dd_ratio = overall_total_roi / abs(overall_max_drawdown)\n"
     ]
    },
    {
     "name": "stdout",
     "output_type": "stream",
     "text": [
      "n 3, rsi 9, threshold 75, ema 25\n"
     ]
    },
    {
     "name": "stderr",
     "output_type": "stream",
     "text": [
      "/tmp/ipykernel_37279/873016624.py:45: RuntimeWarning: divide by zero encountered in scalar divide\n",
      "  roi_dd_ratio = total_roi / abs(max_drawdown)\n",
      "/tmp/ipykernel_37279/873016624.py:70: RuntimeWarning: divide by zero encountered in scalar divide\n",
      "  overall_roi_dd_ratio = overall_total_roi / abs(overall_max_drawdown)\n"
     ]
    },
    {
     "name": "stdout",
     "output_type": "stream",
     "text": [
      "n 3, rsi 9, threshold 75, ema 30\n"
     ]
    },
    {
     "name": "stderr",
     "output_type": "stream",
     "text": [
      "/tmp/ipykernel_37279/873016624.py:45: RuntimeWarning: divide by zero encountered in scalar divide\n",
      "  roi_dd_ratio = total_roi / abs(max_drawdown)\n",
      "/tmp/ipykernel_37279/873016624.py:70: RuntimeWarning: divide by zero encountered in scalar divide\n",
      "  overall_roi_dd_ratio = overall_total_roi / abs(overall_max_drawdown)\n"
     ]
    },
    {
     "name": "stdout",
     "output_type": "stream",
     "text": [
      "n 3, rsi 9, threshold 75, ema 35\n"
     ]
    },
    {
     "name": "stderr",
     "output_type": "stream",
     "text": [
      "/tmp/ipykernel_37279/873016624.py:45: RuntimeWarning: divide by zero encountered in scalar divide\n",
      "  roi_dd_ratio = total_roi / abs(max_drawdown)\n",
      "/tmp/ipykernel_37279/873016624.py:70: RuntimeWarning: divide by zero encountered in scalar divide\n",
      "  overall_roi_dd_ratio = overall_total_roi / abs(overall_max_drawdown)\n"
     ]
    },
    {
     "name": "stdout",
     "output_type": "stream",
     "text": [
      "n 3, rsi 9, threshold 80, ema 5\n",
      "n 3, rsi 9, threshold 80, ema 10\n",
      "n 3, rsi 9, threshold 80, ema 15\n",
      "n 3, rsi 9, threshold 80, ema 20\n",
      "n 3, rsi 9, threshold 80, ema 25\n",
      "n 3, rsi 9, threshold 80, ema 30\n",
      "n 3, rsi 9, threshold 80, ema 35\n",
      "n 3, rsi 21, threshold 30, ema 5\n",
      "n 3, rsi 21, threshold 30, ema 10\n",
      "n 3, rsi 21, threshold 30, ema 15\n",
      "n 3, rsi 21, threshold 30, ema 20\n",
      "n 3, rsi 21, threshold 30, ema 25\n",
      "n 3, rsi 21, threshold 30, ema 30\n",
      "n 3, rsi 21, threshold 30, ema 35\n",
      "n 3, rsi 21, threshold 35, ema 5\n",
      "n 3, rsi 21, threshold 35, ema 10\n",
      "n 3, rsi 21, threshold 35, ema 15\n",
      "n 3, rsi 21, threshold 35, ema 20\n",
      "n 3, rsi 21, threshold 35, ema 25\n",
      "n 3, rsi 21, threshold 35, ema 30\n",
      "n 3, rsi 21, threshold 35, ema 35\n",
      "n 3, rsi 21, threshold 40, ema 5\n",
      "n 3, rsi 21, threshold 40, ema 10\n",
      "n 3, rsi 21, threshold 40, ema 15\n",
      "n 3, rsi 21, threshold 40, ema 20\n",
      "n 3, rsi 21, threshold 40, ema 25\n",
      "n 3, rsi 21, threshold 40, ema 30\n",
      "n 3, rsi 21, threshold 40, ema 35\n",
      "n 3, rsi 21, threshold 45, ema 5\n",
      "n 3, rsi 21, threshold 45, ema 10\n",
      "n 3, rsi 21, threshold 45, ema 15\n",
      "n 3, rsi 21, threshold 45, ema 20\n",
      "n 3, rsi 21, threshold 45, ema 25\n",
      "n 3, rsi 21, threshold 45, ema 30\n",
      "n 3, rsi 21, threshold 45, ema 35\n",
      "n 3, rsi 21, threshold 50, ema 5\n",
      "n 3, rsi 21, threshold 50, ema 10\n",
      "n 3, rsi 21, threshold 50, ema 15\n",
      "n 3, rsi 21, threshold 50, ema 20\n",
      "n 3, rsi 21, threshold 50, ema 25\n",
      "n 3, rsi 21, threshold 50, ema 30\n",
      "n 3, rsi 21, threshold 50, ema 35\n",
      "n 3, rsi 21, threshold 55, ema 5\n",
      "n 3, rsi 21, threshold 55, ema 10\n",
      "n 3, rsi 21, threshold 55, ema 15\n",
      "n 3, rsi 21, threshold 55, ema 20\n",
      "n 3, rsi 21, threshold 55, ema 25\n",
      "n 3, rsi 21, threshold 55, ema 30\n",
      "n 3, rsi 21, threshold 55, ema 35\n",
      "n 3, rsi 21, threshold 60, ema 5\n",
      "n 3, rsi 21, threshold 60, ema 10\n",
      "n 3, rsi 21, threshold 60, ema 15\n",
      "n 3, rsi 21, threshold 60, ema 20\n",
      "n 3, rsi 21, threshold 60, ema 25\n",
      "n 3, rsi 21, threshold 60, ema 30\n",
      "n 3, rsi 21, threshold 60, ema 35\n",
      "n 3, rsi 21, threshold 65, ema 5\n",
      "n 3, rsi 21, threshold 65, ema 10\n",
      "n 3, rsi 21, threshold 65, ema 15\n",
      "n 3, rsi 21, threshold 65, ema 20\n",
      "n 3, rsi 21, threshold 65, ema 25\n",
      "n 3, rsi 21, threshold 65, ema 30\n",
      "n 3, rsi 21, threshold 65, ema 35\n",
      "n 3, rsi 21, threshold 70, ema 5\n"
     ]
    },
    {
     "name": "stderr",
     "output_type": "stream",
     "text": [
      "/tmp/ipykernel_37279/873016624.py:45: RuntimeWarning: divide by zero encountered in scalar divide\n",
      "  roi_dd_ratio = total_roi / abs(max_drawdown)\n"
     ]
    },
    {
     "name": "stdout",
     "output_type": "stream",
     "text": [
      "n 3, rsi 21, threshold 70, ema 10\n"
     ]
    },
    {
     "name": "stderr",
     "output_type": "stream",
     "text": [
      "/tmp/ipykernel_37279/873016624.py:45: RuntimeWarning: divide by zero encountered in scalar divide\n",
      "  roi_dd_ratio = total_roi / abs(max_drawdown)\n"
     ]
    },
    {
     "name": "stdout",
     "output_type": "stream",
     "text": [
      "n 3, rsi 21, threshold 70, ema 15\n"
     ]
    },
    {
     "name": "stderr",
     "output_type": "stream",
     "text": [
      "/tmp/ipykernel_37279/873016624.py:45: RuntimeWarning: divide by zero encountered in scalar divide\n",
      "  roi_dd_ratio = total_roi / abs(max_drawdown)\n"
     ]
    },
    {
     "name": "stdout",
     "output_type": "stream",
     "text": [
      "n 3, rsi 21, threshold 70, ema 20\n"
     ]
    },
    {
     "name": "stderr",
     "output_type": "stream",
     "text": [
      "/tmp/ipykernel_37279/873016624.py:45: RuntimeWarning: divide by zero encountered in scalar divide\n",
      "  roi_dd_ratio = total_roi / abs(max_drawdown)\n"
     ]
    },
    {
     "name": "stdout",
     "output_type": "stream",
     "text": [
      "n 3, rsi 21, threshold 70, ema 25\n"
     ]
    },
    {
     "name": "stderr",
     "output_type": "stream",
     "text": [
      "/tmp/ipykernel_37279/873016624.py:45: RuntimeWarning: divide by zero encountered in scalar divide\n",
      "  roi_dd_ratio = total_roi / abs(max_drawdown)\n"
     ]
    },
    {
     "name": "stdout",
     "output_type": "stream",
     "text": [
      "n 3, rsi 21, threshold 70, ema 30\n"
     ]
    },
    {
     "name": "stderr",
     "output_type": "stream",
     "text": [
      "/tmp/ipykernel_37279/873016624.py:45: RuntimeWarning: divide by zero encountered in scalar divide\n",
      "  roi_dd_ratio = total_roi / abs(max_drawdown)\n"
     ]
    },
    {
     "name": "stdout",
     "output_type": "stream",
     "text": [
      "n 3, rsi 21, threshold 70, ema 35\n"
     ]
    },
    {
     "name": "stderr",
     "output_type": "stream",
     "text": [
      "/tmp/ipykernel_37279/873016624.py:45: RuntimeWarning: divide by zero encountered in scalar divide\n",
      "  roi_dd_ratio = total_roi / abs(max_drawdown)\n"
     ]
    },
    {
     "name": "stdout",
     "output_type": "stream",
     "text": [
      "n 3, rsi 21, threshold 75, ema 5\n"
     ]
    },
    {
     "name": "stderr",
     "output_type": "stream",
     "text": [
      "/tmp/ipykernel_37279/873016624.py:45: RuntimeWarning: divide by zero encountered in scalar divide\n",
      "  roi_dd_ratio = total_roi / abs(max_drawdown)\n",
      "/tmp/ipykernel_37279/873016624.py:70: RuntimeWarning: divide by zero encountered in scalar divide\n",
      "  overall_roi_dd_ratio = overall_total_roi / abs(overall_max_drawdown)\n"
     ]
    },
    {
     "name": "stdout",
     "output_type": "stream",
     "text": [
      "n 3, rsi 21, threshold 75, ema 10\n"
     ]
    },
    {
     "name": "stderr",
     "output_type": "stream",
     "text": [
      "/tmp/ipykernel_37279/873016624.py:45: RuntimeWarning: divide by zero encountered in scalar divide\n",
      "  roi_dd_ratio = total_roi / abs(max_drawdown)\n",
      "/tmp/ipykernel_37279/873016624.py:70: RuntimeWarning: divide by zero encountered in scalar divide\n",
      "  overall_roi_dd_ratio = overall_total_roi / abs(overall_max_drawdown)\n"
     ]
    },
    {
     "name": "stdout",
     "output_type": "stream",
     "text": [
      "n 3, rsi 21, threshold 75, ema 15\n"
     ]
    },
    {
     "name": "stderr",
     "output_type": "stream",
     "text": [
      "/tmp/ipykernel_37279/873016624.py:45: RuntimeWarning: divide by zero encountered in scalar divide\n",
      "  roi_dd_ratio = total_roi / abs(max_drawdown)\n",
      "/tmp/ipykernel_37279/873016624.py:70: RuntimeWarning: divide by zero encountered in scalar divide\n",
      "  overall_roi_dd_ratio = overall_total_roi / abs(overall_max_drawdown)\n"
     ]
    },
    {
     "name": "stdout",
     "output_type": "stream",
     "text": [
      "n 3, rsi 21, threshold 75, ema 20\n"
     ]
    },
    {
     "name": "stderr",
     "output_type": "stream",
     "text": [
      "/tmp/ipykernel_37279/873016624.py:45: RuntimeWarning: divide by zero encountered in scalar divide\n",
      "  roi_dd_ratio = total_roi / abs(max_drawdown)\n",
      "/tmp/ipykernel_37279/873016624.py:70: RuntimeWarning: divide by zero encountered in scalar divide\n",
      "  overall_roi_dd_ratio = overall_total_roi / abs(overall_max_drawdown)\n"
     ]
    },
    {
     "name": "stdout",
     "output_type": "stream",
     "text": [
      "n 3, rsi 21, threshold 75, ema 25\n"
     ]
    },
    {
     "name": "stderr",
     "output_type": "stream",
     "text": [
      "/tmp/ipykernel_37279/873016624.py:45: RuntimeWarning: divide by zero encountered in scalar divide\n",
      "  roi_dd_ratio = total_roi / abs(max_drawdown)\n",
      "/tmp/ipykernel_37279/873016624.py:70: RuntimeWarning: divide by zero encountered in scalar divide\n",
      "  overall_roi_dd_ratio = overall_total_roi / abs(overall_max_drawdown)\n"
     ]
    },
    {
     "name": "stdout",
     "output_type": "stream",
     "text": [
      "n 3, rsi 21, threshold 75, ema 30\n"
     ]
    },
    {
     "name": "stderr",
     "output_type": "stream",
     "text": [
      "/tmp/ipykernel_37279/873016624.py:45: RuntimeWarning: divide by zero encountered in scalar divide\n",
      "  roi_dd_ratio = total_roi / abs(max_drawdown)\n",
      "/tmp/ipykernel_37279/873016624.py:70: RuntimeWarning: divide by zero encountered in scalar divide\n",
      "  overall_roi_dd_ratio = overall_total_roi / abs(overall_max_drawdown)\n"
     ]
    },
    {
     "name": "stdout",
     "output_type": "stream",
     "text": [
      "n 3, rsi 21, threshold 75, ema 35\n"
     ]
    },
    {
     "name": "stderr",
     "output_type": "stream",
     "text": [
      "/tmp/ipykernel_37279/873016624.py:45: RuntimeWarning: divide by zero encountered in scalar divide\n",
      "  roi_dd_ratio = total_roi / abs(max_drawdown)\n",
      "/tmp/ipykernel_37279/873016624.py:70: RuntimeWarning: divide by zero encountered in scalar divide\n",
      "  overall_roi_dd_ratio = overall_total_roi / abs(overall_max_drawdown)\n"
     ]
    },
    {
     "name": "stdout",
     "output_type": "stream",
     "text": [
      "n 3, rsi 21, threshold 80, ema 5\n"
     ]
    },
    {
     "name": "stderr",
     "output_type": "stream",
     "text": [
      "/tmp/ipykernel_37279/873016624.py:45: RuntimeWarning: divide by zero encountered in scalar divide\n",
      "  roi_dd_ratio = total_roi / abs(max_drawdown)\n",
      "/tmp/ipykernel_37279/873016624.py:70: RuntimeWarning: divide by zero encountered in scalar divide\n",
      "  overall_roi_dd_ratio = overall_total_roi / abs(overall_max_drawdown)\n"
     ]
    },
    {
     "name": "stdout",
     "output_type": "stream",
     "text": [
      "n 3, rsi 21, threshold 80, ema 10\n"
     ]
    },
    {
     "name": "stderr",
     "output_type": "stream",
     "text": [
      "/tmp/ipykernel_37279/873016624.py:45: RuntimeWarning: divide by zero encountered in scalar divide\n",
      "  roi_dd_ratio = total_roi / abs(max_drawdown)\n",
      "/tmp/ipykernel_37279/873016624.py:70: RuntimeWarning: divide by zero encountered in scalar divide\n",
      "  overall_roi_dd_ratio = overall_total_roi / abs(overall_max_drawdown)\n"
     ]
    },
    {
     "name": "stdout",
     "output_type": "stream",
     "text": [
      "n 3, rsi 21, threshold 80, ema 15\n"
     ]
    },
    {
     "name": "stderr",
     "output_type": "stream",
     "text": [
      "/tmp/ipykernel_37279/873016624.py:45: RuntimeWarning: divide by zero encountered in scalar divide\n",
      "  roi_dd_ratio = total_roi / abs(max_drawdown)\n",
      "/tmp/ipykernel_37279/873016624.py:70: RuntimeWarning: divide by zero encountered in scalar divide\n",
      "  overall_roi_dd_ratio = overall_total_roi / abs(overall_max_drawdown)\n"
     ]
    },
    {
     "name": "stdout",
     "output_type": "stream",
     "text": [
      "n 3, rsi 21, threshold 80, ema 20\n"
     ]
    },
    {
     "name": "stderr",
     "output_type": "stream",
     "text": [
      "/tmp/ipykernel_37279/873016624.py:45: RuntimeWarning: divide by zero encountered in scalar divide\n",
      "  roi_dd_ratio = total_roi / abs(max_drawdown)\n",
      "/tmp/ipykernel_37279/873016624.py:70: RuntimeWarning: divide by zero encountered in scalar divide\n",
      "  overall_roi_dd_ratio = overall_total_roi / abs(overall_max_drawdown)\n"
     ]
    },
    {
     "name": "stdout",
     "output_type": "stream",
     "text": [
      "n 3, rsi 21, threshold 80, ema 25\n"
     ]
    },
    {
     "name": "stderr",
     "output_type": "stream",
     "text": [
      "/tmp/ipykernel_37279/873016624.py:45: RuntimeWarning: divide by zero encountered in scalar divide\n",
      "  roi_dd_ratio = total_roi / abs(max_drawdown)\n",
      "/tmp/ipykernel_37279/873016624.py:70: RuntimeWarning: divide by zero encountered in scalar divide\n",
      "  overall_roi_dd_ratio = overall_total_roi / abs(overall_max_drawdown)\n"
     ]
    },
    {
     "name": "stdout",
     "output_type": "stream",
     "text": [
      "n 3, rsi 21, threshold 80, ema 30\n"
     ]
    },
    {
     "name": "stderr",
     "output_type": "stream",
     "text": [
      "/tmp/ipykernel_37279/873016624.py:45: RuntimeWarning: divide by zero encountered in scalar divide\n",
      "  roi_dd_ratio = total_roi / abs(max_drawdown)\n",
      "/tmp/ipykernel_37279/873016624.py:70: RuntimeWarning: divide by zero encountered in scalar divide\n",
      "  overall_roi_dd_ratio = overall_total_roi / abs(overall_max_drawdown)\n"
     ]
    },
    {
     "name": "stdout",
     "output_type": "stream",
     "text": [
      "n 3, rsi 21, threshold 80, ema 35\n"
     ]
    },
    {
     "name": "stderr",
     "output_type": "stream",
     "text": [
      "/tmp/ipykernel_37279/873016624.py:45: RuntimeWarning: divide by zero encountered in scalar divide\n",
      "  roi_dd_ratio = total_roi / abs(max_drawdown)\n",
      "/tmp/ipykernel_37279/873016624.py:70: RuntimeWarning: divide by zero encountered in scalar divide\n",
      "  overall_roi_dd_ratio = overall_total_roi / abs(overall_max_drawdown)\n"
     ]
    },
    {
     "name": "stdout",
     "output_type": "stream",
     "text": [
      "n 3, rsi 6, threshold 30, ema 5\n",
      "n 3, rsi 6, threshold 30, ema 10\n",
      "n 3, rsi 6, threshold 30, ema 15\n",
      "n 3, rsi 6, threshold 30, ema 20\n",
      "n 3, rsi 6, threshold 30, ema 25\n",
      "n 3, rsi 6, threshold 30, ema 30\n",
      "n 3, rsi 6, threshold 30, ema 35\n",
      "n 3, rsi 6, threshold 35, ema 5\n",
      "n 3, rsi 6, threshold 35, ema 10\n",
      "n 3, rsi 6, threshold 35, ema 15\n",
      "n 3, rsi 6, threshold 35, ema 20\n",
      "n 3, rsi 6, threshold 35, ema 25\n",
      "n 3, rsi 6, threshold 35, ema 30\n",
      "n 3, rsi 6, threshold 35, ema 35\n",
      "n 3, rsi 6, threshold 40, ema 5\n",
      "n 3, rsi 6, threshold 40, ema 10\n",
      "n 3, rsi 6, threshold 40, ema 15\n",
      "n 3, rsi 6, threshold 40, ema 20\n",
      "n 3, rsi 6, threshold 40, ema 25\n",
      "n 3, rsi 6, threshold 40, ema 30\n",
      "n 3, rsi 6, threshold 40, ema 35\n",
      "n 3, rsi 6, threshold 45, ema 5\n",
      "n 3, rsi 6, threshold 45, ema 10\n",
      "n 3, rsi 6, threshold 45, ema 15\n",
      "n 3, rsi 6, threshold 45, ema 20\n",
      "n 3, rsi 6, threshold 45, ema 25\n",
      "n 3, rsi 6, threshold 45, ema 30\n",
      "n 3, rsi 6, threshold 45, ema 35\n",
      "n 3, rsi 6, threshold 50, ema 5\n",
      "n 3, rsi 6, threshold 50, ema 10\n",
      "n 3, rsi 6, threshold 50, ema 15\n",
      "n 3, rsi 6, threshold 50, ema 20\n",
      "n 3, rsi 6, threshold 50, ema 25\n",
      "n 3, rsi 6, threshold 50, ema 30\n",
      "n 3, rsi 6, threshold 50, ema 35\n",
      "n 3, rsi 6, threshold 55, ema 5\n",
      "n 3, rsi 6, threshold 55, ema 10\n",
      "n 3, rsi 6, threshold 55, ema 15\n",
      "n 3, rsi 6, threshold 55, ema 20\n",
      "n 3, rsi 6, threshold 55, ema 25\n",
      "n 3, rsi 6, threshold 55, ema 30\n",
      "n 3, rsi 6, threshold 55, ema 35\n",
      "n 3, rsi 6, threshold 60, ema 5\n"
     ]
    },
    {
     "name": "stderr",
     "output_type": "stream",
     "text": [
      "/tmp/ipykernel_37279/873016624.py:45: RuntimeWarning: divide by zero encountered in scalar divide\n",
      "  roi_dd_ratio = total_roi / abs(max_drawdown)\n"
     ]
    },
    {
     "name": "stdout",
     "output_type": "stream",
     "text": [
      "n 3, rsi 6, threshold 60, ema 10\n"
     ]
    },
    {
     "name": "stderr",
     "output_type": "stream",
     "text": [
      "/tmp/ipykernel_37279/873016624.py:45: RuntimeWarning: divide by zero encountered in scalar divide\n",
      "  roi_dd_ratio = total_roi / abs(max_drawdown)\n"
     ]
    },
    {
     "name": "stdout",
     "output_type": "stream",
     "text": [
      "n 3, rsi 6, threshold 60, ema 15\n"
     ]
    },
    {
     "name": "stderr",
     "output_type": "stream",
     "text": [
      "/tmp/ipykernel_37279/873016624.py:45: RuntimeWarning: divide by zero encountered in scalar divide\n",
      "  roi_dd_ratio = total_roi / abs(max_drawdown)\n"
     ]
    },
    {
     "name": "stdout",
     "output_type": "stream",
     "text": [
      "n 3, rsi 6, threshold 60, ema 20\n"
     ]
    },
    {
     "name": "stderr",
     "output_type": "stream",
     "text": [
      "/tmp/ipykernel_37279/873016624.py:45: RuntimeWarning: divide by zero encountered in scalar divide\n",
      "  roi_dd_ratio = total_roi / abs(max_drawdown)\n"
     ]
    },
    {
     "name": "stdout",
     "output_type": "stream",
     "text": [
      "n 3, rsi 6, threshold 60, ema 25\n"
     ]
    },
    {
     "name": "stderr",
     "output_type": "stream",
     "text": [
      "/tmp/ipykernel_37279/873016624.py:45: RuntimeWarning: divide by zero encountered in scalar divide\n",
      "  roi_dd_ratio = total_roi / abs(max_drawdown)\n"
     ]
    },
    {
     "name": "stdout",
     "output_type": "stream",
     "text": [
      "n 3, rsi 6, threshold 60, ema 30\n"
     ]
    },
    {
     "name": "stderr",
     "output_type": "stream",
     "text": [
      "/tmp/ipykernel_37279/873016624.py:45: RuntimeWarning: divide by zero encountered in scalar divide\n",
      "  roi_dd_ratio = total_roi / abs(max_drawdown)\n"
     ]
    },
    {
     "name": "stdout",
     "output_type": "stream",
     "text": [
      "n 3, rsi 6, threshold 60, ema 35\n"
     ]
    },
    {
     "name": "stderr",
     "output_type": "stream",
     "text": [
      "/tmp/ipykernel_37279/873016624.py:45: RuntimeWarning: divide by zero encountered in scalar divide\n",
      "  roi_dd_ratio = total_roi / abs(max_drawdown)\n"
     ]
    },
    {
     "name": "stdout",
     "output_type": "stream",
     "text": [
      "n 3, rsi 6, threshold 65, ema 5\n"
     ]
    },
    {
     "name": "stderr",
     "output_type": "stream",
     "text": [
      "/tmp/ipykernel_37279/873016624.py:45: RuntimeWarning: divide by zero encountered in scalar divide\n",
      "  roi_dd_ratio = total_roi / abs(max_drawdown)\n"
     ]
    },
    {
     "name": "stdout",
     "output_type": "stream",
     "text": [
      "n 3, rsi 6, threshold 65, ema 10\n"
     ]
    },
    {
     "name": "stderr",
     "output_type": "stream",
     "text": [
      "/tmp/ipykernel_37279/873016624.py:45: RuntimeWarning: divide by zero encountered in scalar divide\n",
      "  roi_dd_ratio = total_roi / abs(max_drawdown)\n"
     ]
    },
    {
     "name": "stdout",
     "output_type": "stream",
     "text": [
      "n 3, rsi 6, threshold 65, ema 15\n"
     ]
    },
    {
     "name": "stderr",
     "output_type": "stream",
     "text": [
      "/tmp/ipykernel_37279/873016624.py:45: RuntimeWarning: divide by zero encountered in scalar divide\n",
      "  roi_dd_ratio = total_roi / abs(max_drawdown)\n"
     ]
    },
    {
     "name": "stdout",
     "output_type": "stream",
     "text": [
      "n 3, rsi 6, threshold 65, ema 20\n"
     ]
    },
    {
     "name": "stderr",
     "output_type": "stream",
     "text": [
      "/tmp/ipykernel_37279/873016624.py:45: RuntimeWarning: divide by zero encountered in scalar divide\n",
      "  roi_dd_ratio = total_roi / abs(max_drawdown)\n"
     ]
    },
    {
     "name": "stdout",
     "output_type": "stream",
     "text": [
      "n 3, rsi 6, threshold 65, ema 25\n"
     ]
    },
    {
     "name": "stderr",
     "output_type": "stream",
     "text": [
      "/tmp/ipykernel_37279/873016624.py:45: RuntimeWarning: divide by zero encountered in scalar divide\n",
      "  roi_dd_ratio = total_roi / abs(max_drawdown)\n"
     ]
    },
    {
     "name": "stdout",
     "output_type": "stream",
     "text": [
      "n 3, rsi 6, threshold 65, ema 30\n"
     ]
    },
    {
     "name": "stderr",
     "output_type": "stream",
     "text": [
      "/tmp/ipykernel_37279/873016624.py:45: RuntimeWarning: divide by zero encountered in scalar divide\n",
      "  roi_dd_ratio = total_roi / abs(max_drawdown)\n"
     ]
    },
    {
     "name": "stdout",
     "output_type": "stream",
     "text": [
      "n 3, rsi 6, threshold 65, ema 35\n"
     ]
    },
    {
     "name": "stderr",
     "output_type": "stream",
     "text": [
      "/tmp/ipykernel_37279/873016624.py:45: RuntimeWarning: divide by zero encountered in scalar divide\n",
      "  roi_dd_ratio = total_roi / abs(max_drawdown)\n"
     ]
    },
    {
     "name": "stdout",
     "output_type": "stream",
     "text": [
      "n 3, rsi 6, threshold 70, ema 5\n"
     ]
    },
    {
     "name": "stderr",
     "output_type": "stream",
     "text": [
      "/tmp/ipykernel_37279/873016624.py:45: RuntimeWarning: divide by zero encountered in scalar divide\n",
      "  roi_dd_ratio = total_roi / abs(max_drawdown)\n",
      "/tmp/ipykernel_37279/873016624.py:70: RuntimeWarning: divide by zero encountered in scalar divide\n",
      "  overall_roi_dd_ratio = overall_total_roi / abs(overall_max_drawdown)\n"
     ]
    },
    {
     "name": "stdout",
     "output_type": "stream",
     "text": [
      "        Total ROI Total Trades Win Rate Avg Profit% per Trade Avg Loss% per Trade Max Drawdown ROI/DD Ratio                        Variation\n",
      "2018      -1.8897            1   0.0000                   NaN             -1.8897       0.0000         -inf  n 3, rsi 6, threshold 70, ema 5\n",
      "2019       3.3964            1 100.0000                3.3964                 NaN       0.0000          inf  n 3, rsi 6, threshold 70, ema 5\n",
      "2020       0.0000            0      NaN                   NaN                 NaN          NaN          NaN  n 3, rsi 6, threshold 70, ema 5\n",
      "2021       0.0000            0      NaN                   NaN                 NaN          NaN          NaN  n 3, rsi 6, threshold 70, ema 5\n",
      "2022       0.0000            0      NaN                   NaN                 NaN          NaN          NaN  n 3, rsi 6, threshold 70, ema 5\n",
      "2023       0.0000            0      NaN                   NaN                 NaN          NaN          NaN  n 3, rsi 6, threshold 70, ema 5\n",
      "2024       0.0000            0      NaN                   NaN                 NaN          NaN          NaN  n 3, rsi 6, threshold 70, ema 5\n",
      "Overall    1.5067            2  50.0000                3.3964             -1.8897       0.0000          inf  n 3, rsi 6, threshold 70, ema 5\n",
      "n 3, rsi 6, threshold 70, ema 10\n"
     ]
    },
    {
     "name": "stderr",
     "output_type": "stream",
     "text": [
      "/tmp/ipykernel_37279/873016624.py:45: RuntimeWarning: divide by zero encountered in scalar divide\n",
      "  roi_dd_ratio = total_roi / abs(max_drawdown)\n",
      "/tmp/ipykernel_37279/873016624.py:70: RuntimeWarning: divide by zero encountered in scalar divide\n",
      "  overall_roi_dd_ratio = overall_total_roi / abs(overall_max_drawdown)\n"
     ]
    },
    {
     "name": "stdout",
     "output_type": "stream",
     "text": [
      "        Total ROI Total Trades Win Rate Avg Profit% per Trade Avg Loss% per Trade Max Drawdown ROI/DD Ratio                         Variation\n",
      "2018      -1.8897            1   0.0000                   NaN             -1.8897       0.0000         -inf  n 3, rsi 6, threshold 70, ema 10\n",
      "2019       5.6937            1 100.0000                5.6937                 NaN       0.0000          inf  n 3, rsi 6, threshold 70, ema 10\n",
      "2020       0.0000            0      NaN                   NaN                 NaN          NaN          NaN  n 3, rsi 6, threshold 70, ema 10\n",
      "2021       0.0000            0      NaN                   NaN                 NaN          NaN          NaN  n 3, rsi 6, threshold 70, ema 10\n",
      "2022       0.0000            0      NaN                   NaN                 NaN          NaN          NaN  n 3, rsi 6, threshold 70, ema 10\n",
      "2023       0.0000            0      NaN                   NaN                 NaN          NaN          NaN  n 3, rsi 6, threshold 70, ema 10\n",
      "2024       0.0000            0      NaN                   NaN                 NaN          NaN          NaN  n 3, rsi 6, threshold 70, ema 10\n",
      "Overall    3.8040            2  50.0000                5.6937             -1.8897       0.0000          inf  n 3, rsi 6, threshold 70, ema 10\n",
      "n 3, rsi 6, threshold 70, ema 15\n"
     ]
    },
    {
     "name": "stderr",
     "output_type": "stream",
     "text": [
      "/tmp/ipykernel_37279/873016624.py:45: RuntimeWarning: divide by zero encountered in scalar divide\n",
      "  roi_dd_ratio = total_roi / abs(max_drawdown)\n",
      "/tmp/ipykernel_37279/873016624.py:70: RuntimeWarning: divide by zero encountered in scalar divide\n",
      "  overall_roi_dd_ratio = overall_total_roi / abs(overall_max_drawdown)\n"
     ]
    },
    {
     "name": "stdout",
     "output_type": "stream",
     "text": [
      "        Total ROI Total Trades Win Rate Avg Profit% per Trade Avg Loss% per Trade Max Drawdown ROI/DD Ratio                         Variation\n",
      "2018      -1.8897            1   0.0000                   NaN             -1.8897       0.0000         -inf  n 3, rsi 6, threshold 70, ema 15\n",
      "2019       5.6937            1 100.0000                5.6937                 NaN       0.0000          inf  n 3, rsi 6, threshold 70, ema 15\n",
      "2020       0.0000            0      NaN                   NaN                 NaN          NaN          NaN  n 3, rsi 6, threshold 70, ema 15\n",
      "2021       0.0000            0      NaN                   NaN                 NaN          NaN          NaN  n 3, rsi 6, threshold 70, ema 15\n",
      "2022       0.0000            0      NaN                   NaN                 NaN          NaN          NaN  n 3, rsi 6, threshold 70, ema 15\n",
      "2023       0.0000            0      NaN                   NaN                 NaN          NaN          NaN  n 3, rsi 6, threshold 70, ema 15\n",
      "2024       0.0000            0      NaN                   NaN                 NaN          NaN          NaN  n 3, rsi 6, threshold 70, ema 15\n",
      "Overall    3.8040            2  50.0000                5.6937             -1.8897       0.0000          inf  n 3, rsi 6, threshold 70, ema 15\n",
      "n 3, rsi 6, threshold 70, ema 20\n"
     ]
    },
    {
     "name": "stderr",
     "output_type": "stream",
     "text": [
      "/tmp/ipykernel_37279/873016624.py:45: RuntimeWarning: divide by zero encountered in scalar divide\n",
      "  roi_dd_ratio = total_roi / abs(max_drawdown)\n",
      "/tmp/ipykernel_37279/873016624.py:70: RuntimeWarning: divide by zero encountered in scalar divide\n",
      "  overall_roi_dd_ratio = overall_total_roi / abs(overall_max_drawdown)\n"
     ]
    },
    {
     "name": "stdout",
     "output_type": "stream",
     "text": [
      "        Total ROI Total Trades Win Rate Avg Profit% per Trade Avg Loss% per Trade Max Drawdown ROI/DD Ratio                         Variation\n",
      "2018      -1.8897            1   0.0000                   NaN             -1.8897       0.0000         -inf  n 3, rsi 6, threshold 70, ema 20\n",
      "2019       5.6937            1 100.0000                5.6937                 NaN       0.0000          inf  n 3, rsi 6, threshold 70, ema 20\n",
      "2020       0.0000            0      NaN                   NaN                 NaN          NaN          NaN  n 3, rsi 6, threshold 70, ema 20\n",
      "2021       0.0000            0      NaN                   NaN                 NaN          NaN          NaN  n 3, rsi 6, threshold 70, ema 20\n",
      "2022       0.0000            0      NaN                   NaN                 NaN          NaN          NaN  n 3, rsi 6, threshold 70, ema 20\n",
      "2023       0.0000            0      NaN                   NaN                 NaN          NaN          NaN  n 3, rsi 6, threshold 70, ema 20\n",
      "2024       0.0000            0      NaN                   NaN                 NaN          NaN          NaN  n 3, rsi 6, threshold 70, ema 20\n",
      "Overall    3.8040            2  50.0000                5.6937             -1.8897       0.0000          inf  n 3, rsi 6, threshold 70, ema 20\n",
      "n 3, rsi 6, threshold 70, ema 25\n"
     ]
    },
    {
     "name": "stderr",
     "output_type": "stream",
     "text": [
      "/tmp/ipykernel_37279/873016624.py:45: RuntimeWarning: divide by zero encountered in scalar divide\n",
      "  roi_dd_ratio = total_roi / abs(max_drawdown)\n",
      "/tmp/ipykernel_37279/873016624.py:70: RuntimeWarning: divide by zero encountered in scalar divide\n",
      "  overall_roi_dd_ratio = overall_total_roi / abs(overall_max_drawdown)\n"
     ]
    },
    {
     "name": "stdout",
     "output_type": "stream",
     "text": [
      "        Total ROI Total Trades Win Rate Avg Profit% per Trade Avg Loss% per Trade Max Drawdown ROI/DD Ratio                         Variation\n",
      "2018      -1.8897            1   0.0000                   NaN             -1.8897       0.0000         -inf  n 3, rsi 6, threshold 70, ema 25\n",
      "2019       5.6937            1 100.0000                5.6937                 NaN       0.0000          inf  n 3, rsi 6, threshold 70, ema 25\n",
      "2020       0.0000            0      NaN                   NaN                 NaN          NaN          NaN  n 3, rsi 6, threshold 70, ema 25\n",
      "2021       0.0000            0      NaN                   NaN                 NaN          NaN          NaN  n 3, rsi 6, threshold 70, ema 25\n",
      "2022       0.0000            0      NaN                   NaN                 NaN          NaN          NaN  n 3, rsi 6, threshold 70, ema 25\n",
      "2023       0.0000            0      NaN                   NaN                 NaN          NaN          NaN  n 3, rsi 6, threshold 70, ema 25\n",
      "2024       0.0000            0      NaN                   NaN                 NaN          NaN          NaN  n 3, rsi 6, threshold 70, ema 25\n",
      "Overall    3.8040            2  50.0000                5.6937             -1.8897       0.0000          inf  n 3, rsi 6, threshold 70, ema 25\n",
      "n 3, rsi 6, threshold 70, ema 30\n"
     ]
    },
    {
     "name": "stderr",
     "output_type": "stream",
     "text": [
      "/tmp/ipykernel_37279/873016624.py:45: RuntimeWarning: divide by zero encountered in scalar divide\n",
      "  roi_dd_ratio = total_roi / abs(max_drawdown)\n",
      "/tmp/ipykernel_37279/873016624.py:70: RuntimeWarning: divide by zero encountered in scalar divide\n",
      "  overall_roi_dd_ratio = overall_total_roi / abs(overall_max_drawdown)\n"
     ]
    },
    {
     "name": "stdout",
     "output_type": "stream",
     "text": [
      "        Total ROI Total Trades Win Rate Avg Profit% per Trade Avg Loss% per Trade Max Drawdown ROI/DD Ratio                         Variation\n",
      "2018      -1.8897            1   0.0000                   NaN             -1.8897       0.0000         -inf  n 3, rsi 6, threshold 70, ema 30\n",
      "2019       5.6937            1 100.0000                5.6937                 NaN       0.0000          inf  n 3, rsi 6, threshold 70, ema 30\n",
      "2020       0.0000            0      NaN                   NaN                 NaN          NaN          NaN  n 3, rsi 6, threshold 70, ema 30\n",
      "2021       0.0000            0      NaN                   NaN                 NaN          NaN          NaN  n 3, rsi 6, threshold 70, ema 30\n",
      "2022       0.0000            0      NaN                   NaN                 NaN          NaN          NaN  n 3, rsi 6, threshold 70, ema 30\n",
      "2023       0.0000            0      NaN                   NaN                 NaN          NaN          NaN  n 3, rsi 6, threshold 70, ema 30\n",
      "2024       0.0000            0      NaN                   NaN                 NaN          NaN          NaN  n 3, rsi 6, threshold 70, ema 30\n",
      "Overall    3.8040            2  50.0000                5.6937             -1.8897       0.0000          inf  n 3, rsi 6, threshold 70, ema 30\n",
      "n 3, rsi 6, threshold 70, ema 35\n"
     ]
    },
    {
     "name": "stderr",
     "output_type": "stream",
     "text": [
      "/tmp/ipykernel_37279/873016624.py:45: RuntimeWarning: divide by zero encountered in scalar divide\n",
      "  roi_dd_ratio = total_roi / abs(max_drawdown)\n",
      "/tmp/ipykernel_37279/873016624.py:70: RuntimeWarning: divide by zero encountered in scalar divide\n",
      "  overall_roi_dd_ratio = overall_total_roi / abs(overall_max_drawdown)\n"
     ]
    },
    {
     "name": "stdout",
     "output_type": "stream",
     "text": [
      "        Total ROI Total Trades Win Rate Avg Profit% per Trade Avg Loss% per Trade Max Drawdown ROI/DD Ratio                         Variation\n",
      "2018      -1.8897            1   0.0000                   NaN             -1.8897       0.0000         -inf  n 3, rsi 6, threshold 70, ema 35\n",
      "2019       5.6937            1 100.0000                5.6937                 NaN       0.0000          inf  n 3, rsi 6, threshold 70, ema 35\n",
      "2020       0.0000            0      NaN                   NaN                 NaN          NaN          NaN  n 3, rsi 6, threshold 70, ema 35\n",
      "2021       0.0000            0      NaN                   NaN                 NaN          NaN          NaN  n 3, rsi 6, threshold 70, ema 35\n",
      "2022       0.0000            0      NaN                   NaN                 NaN          NaN          NaN  n 3, rsi 6, threshold 70, ema 35\n",
      "2023       0.0000            0      NaN                   NaN                 NaN          NaN          NaN  n 3, rsi 6, threshold 70, ema 35\n",
      "2024       0.0000            0      NaN                   NaN                 NaN          NaN          NaN  n 3, rsi 6, threshold 70, ema 35\n",
      "Overall    3.8040            2  50.0000                5.6937             -1.8897       0.0000          inf  n 3, rsi 6, threshold 70, ema 35\n",
      "n 3, rsi 6, threshold 75, ema 5\n"
     ]
    },
    {
     "name": "stderr",
     "output_type": "stream",
     "text": [
      "/tmp/ipykernel_37279/873016624.py:45: RuntimeWarning: divide by zero encountered in scalar divide\n",
      "  roi_dd_ratio = total_roi / abs(max_drawdown)\n",
      "/tmp/ipykernel_37279/873016624.py:70: RuntimeWarning: divide by zero encountered in scalar divide\n",
      "  overall_roi_dd_ratio = overall_total_roi / abs(overall_max_drawdown)\n"
     ]
    },
    {
     "name": "stdout",
     "output_type": "stream",
     "text": [
      "n 3, rsi 6, threshold 75, ema 10\n"
     ]
    },
    {
     "name": "stderr",
     "output_type": "stream",
     "text": [
      "/tmp/ipykernel_37279/873016624.py:45: RuntimeWarning: divide by zero encountered in scalar divide\n",
      "  roi_dd_ratio = total_roi / abs(max_drawdown)\n",
      "/tmp/ipykernel_37279/873016624.py:70: RuntimeWarning: divide by zero encountered in scalar divide\n",
      "  overall_roi_dd_ratio = overall_total_roi / abs(overall_max_drawdown)\n"
     ]
    },
    {
     "name": "stdout",
     "output_type": "stream",
     "text": [
      "n 3, rsi 6, threshold 75, ema 15\n"
     ]
    },
    {
     "name": "stderr",
     "output_type": "stream",
     "text": [
      "/tmp/ipykernel_37279/873016624.py:45: RuntimeWarning: divide by zero encountered in scalar divide\n",
      "  roi_dd_ratio = total_roi / abs(max_drawdown)\n",
      "/tmp/ipykernel_37279/873016624.py:70: RuntimeWarning: divide by zero encountered in scalar divide\n",
      "  overall_roi_dd_ratio = overall_total_roi / abs(overall_max_drawdown)\n"
     ]
    },
    {
     "name": "stdout",
     "output_type": "stream",
     "text": [
      "n 3, rsi 6, threshold 75, ema 20\n"
     ]
    },
    {
     "name": "stderr",
     "output_type": "stream",
     "text": [
      "/tmp/ipykernel_37279/873016624.py:45: RuntimeWarning: divide by zero encountered in scalar divide\n",
      "  roi_dd_ratio = total_roi / abs(max_drawdown)\n",
      "/tmp/ipykernel_37279/873016624.py:70: RuntimeWarning: divide by zero encountered in scalar divide\n",
      "  overall_roi_dd_ratio = overall_total_roi / abs(overall_max_drawdown)\n"
     ]
    },
    {
     "name": "stdout",
     "output_type": "stream",
     "text": [
      "n 3, rsi 6, threshold 75, ema 25\n"
     ]
    },
    {
     "name": "stderr",
     "output_type": "stream",
     "text": [
      "/tmp/ipykernel_37279/873016624.py:45: RuntimeWarning: divide by zero encountered in scalar divide\n",
      "  roi_dd_ratio = total_roi / abs(max_drawdown)\n",
      "/tmp/ipykernel_37279/873016624.py:70: RuntimeWarning: divide by zero encountered in scalar divide\n",
      "  overall_roi_dd_ratio = overall_total_roi / abs(overall_max_drawdown)\n"
     ]
    },
    {
     "name": "stdout",
     "output_type": "stream",
     "text": [
      "n 3, rsi 6, threshold 75, ema 30\n"
     ]
    },
    {
     "name": "stderr",
     "output_type": "stream",
     "text": [
      "/tmp/ipykernel_37279/873016624.py:45: RuntimeWarning: divide by zero encountered in scalar divide\n",
      "  roi_dd_ratio = total_roi / abs(max_drawdown)\n",
      "/tmp/ipykernel_37279/873016624.py:70: RuntimeWarning: divide by zero encountered in scalar divide\n",
      "  overall_roi_dd_ratio = overall_total_roi / abs(overall_max_drawdown)\n"
     ]
    },
    {
     "name": "stdout",
     "output_type": "stream",
     "text": [
      "n 3, rsi 6, threshold 75, ema 35\n"
     ]
    },
    {
     "name": "stderr",
     "output_type": "stream",
     "text": [
      "/tmp/ipykernel_37279/873016624.py:45: RuntimeWarning: divide by zero encountered in scalar divide\n",
      "  roi_dd_ratio = total_roi / abs(max_drawdown)\n",
      "/tmp/ipykernel_37279/873016624.py:70: RuntimeWarning: divide by zero encountered in scalar divide\n",
      "  overall_roi_dd_ratio = overall_total_roi / abs(overall_max_drawdown)\n"
     ]
    },
    {
     "name": "stdout",
     "output_type": "stream",
     "text": [
      "n 3, rsi 6, threshold 80, ema 5\n",
      "n 3, rsi 6, threshold 80, ema 10\n",
      "n 3, rsi 6, threshold 80, ema 15\n",
      "n 3, rsi 6, threshold 80, ema 20\n",
      "n 3, rsi 6, threshold 80, ema 25\n",
      "n 3, rsi 6, threshold 80, ema 30\n",
      "n 3, rsi 6, threshold 80, ema 35\n",
      "n 3, rsi 12, threshold 30, ema 5\n",
      "n 3, rsi 12, threshold 30, ema 10\n",
      "n 3, rsi 12, threshold 30, ema 15\n",
      "n 3, rsi 12, threshold 30, ema 20\n",
      "n 3, rsi 12, threshold 30, ema 25\n",
      "n 3, rsi 12, threshold 30, ema 30\n",
      "n 3, rsi 12, threshold 30, ema 35\n",
      "n 3, rsi 12, threshold 35, ema 5\n",
      "n 3, rsi 12, threshold 35, ema 10\n",
      "n 3, rsi 12, threshold 35, ema 15\n",
      "n 3, rsi 12, threshold 35, ema 20\n",
      "n 3, rsi 12, threshold 35, ema 25\n",
      "n 3, rsi 12, threshold 35, ema 30\n",
      "n 3, rsi 12, threshold 35, ema 35\n",
      "n 3, rsi 12, threshold 40, ema 5\n",
      "n 3, rsi 12, threshold 40, ema 10\n",
      "n 3, rsi 12, threshold 40, ema 15\n",
      "n 3, rsi 12, threshold 40, ema 20\n",
      "n 3, rsi 12, threshold 40, ema 25\n",
      "n 3, rsi 12, threshold 40, ema 30\n",
      "n 3, rsi 12, threshold 40, ema 35\n",
      "n 3, rsi 12, threshold 45, ema 5\n",
      "n 3, rsi 12, threshold 45, ema 10\n",
      "n 3, rsi 12, threshold 45, ema 15\n",
      "n 3, rsi 12, threshold 45, ema 20\n",
      "n 3, rsi 12, threshold 45, ema 25\n",
      "n 3, rsi 12, threshold 45, ema 30\n",
      "n 3, rsi 12, threshold 45, ema 35\n",
      "n 3, rsi 12, threshold 50, ema 5\n",
      "n 3, rsi 12, threshold 50, ema 10\n",
      "n 3, rsi 12, threshold 50, ema 15\n",
      "n 3, rsi 12, threshold 50, ema 20\n",
      "n 3, rsi 12, threshold 50, ema 25\n",
      "n 3, rsi 12, threshold 50, ema 30\n",
      "n 3, rsi 12, threshold 50, ema 35\n",
      "n 3, rsi 12, threshold 55, ema 5\n",
      "n 3, rsi 12, threshold 55, ema 10\n",
      "n 3, rsi 12, threshold 55, ema 15\n",
      "n 3, rsi 12, threshold 55, ema 20\n",
      "n 3, rsi 12, threshold 55, ema 25\n",
      "n 3, rsi 12, threshold 55, ema 30\n",
      "n 3, rsi 12, threshold 55, ema 35\n",
      "n 3, rsi 12, threshold 60, ema 5\n",
      "n 3, rsi 12, threshold 60, ema 10\n",
      "n 3, rsi 12, threshold 60, ema 15\n",
      "n 3, rsi 12, threshold 60, ema 20\n",
      "n 3, rsi 12, threshold 60, ema 25\n",
      "n 3, rsi 12, threshold 60, ema 30\n",
      "n 3, rsi 12, threshold 60, ema 35\n",
      "n 3, rsi 12, threshold 65, ema 5\n"
     ]
    },
    {
     "name": "stderr",
     "output_type": "stream",
     "text": [
      "/tmp/ipykernel_37279/873016624.py:45: RuntimeWarning: divide by zero encountered in scalar divide\n",
      "  roi_dd_ratio = total_roi / abs(max_drawdown)\n"
     ]
    },
    {
     "name": "stdout",
     "output_type": "stream",
     "text": [
      "n 3, rsi 12, threshold 65, ema 10\n"
     ]
    },
    {
     "name": "stderr",
     "output_type": "stream",
     "text": [
      "/tmp/ipykernel_37279/873016624.py:45: RuntimeWarning: divide by zero encountered in scalar divide\n",
      "  roi_dd_ratio = total_roi / abs(max_drawdown)\n"
     ]
    },
    {
     "name": "stdout",
     "output_type": "stream",
     "text": [
      "n 3, rsi 12, threshold 65, ema 15\n"
     ]
    },
    {
     "name": "stderr",
     "output_type": "stream",
     "text": [
      "/tmp/ipykernel_37279/873016624.py:45: RuntimeWarning: divide by zero encountered in scalar divide\n",
      "  roi_dd_ratio = total_roi / abs(max_drawdown)\n"
     ]
    },
    {
     "name": "stdout",
     "output_type": "stream",
     "text": [
      "n 3, rsi 12, threshold 65, ema 20\n",
      "n 3, rsi 12, threshold 65, ema 25\n",
      "n 3, rsi 12, threshold 65, ema 30\n",
      "n 3, rsi 12, threshold 65, ema 35\n",
      "n 3, rsi 12, threshold 70, ema 5\n"
     ]
    },
    {
     "name": "stderr",
     "output_type": "stream",
     "text": [
      "/tmp/ipykernel_37279/873016624.py:45: RuntimeWarning: divide by zero encountered in scalar divide\n",
      "  roi_dd_ratio = total_roi / abs(max_drawdown)\n"
     ]
    },
    {
     "name": "stdout",
     "output_type": "stream",
     "text": [
      "n 3, rsi 12, threshold 70, ema 10\n"
     ]
    },
    {
     "name": "stderr",
     "output_type": "stream",
     "text": [
      "/tmp/ipykernel_37279/873016624.py:45: RuntimeWarning: divide by zero encountered in scalar divide\n",
      "  roi_dd_ratio = total_roi / abs(max_drawdown)\n"
     ]
    },
    {
     "name": "stdout",
     "output_type": "stream",
     "text": [
      "n 3, rsi 12, threshold 70, ema 15\n"
     ]
    },
    {
     "name": "stderr",
     "output_type": "stream",
     "text": [
      "/tmp/ipykernel_37279/873016624.py:45: RuntimeWarning: divide by zero encountered in scalar divide\n",
      "  roi_dd_ratio = total_roi / abs(max_drawdown)\n"
     ]
    },
    {
     "name": "stdout",
     "output_type": "stream",
     "text": [
      "n 3, rsi 12, threshold 70, ema 20\n"
     ]
    },
    {
     "name": "stderr",
     "output_type": "stream",
     "text": [
      "/tmp/ipykernel_37279/873016624.py:45: RuntimeWarning: divide by zero encountered in scalar divide\n",
      "  roi_dd_ratio = total_roi / abs(max_drawdown)\n"
     ]
    },
    {
     "name": "stdout",
     "output_type": "stream",
     "text": [
      "n 3, rsi 12, threshold 70, ema 25\n"
     ]
    },
    {
     "name": "stderr",
     "output_type": "stream",
     "text": [
      "/tmp/ipykernel_37279/873016624.py:45: RuntimeWarning: divide by zero encountered in scalar divide\n",
      "  roi_dd_ratio = total_roi / abs(max_drawdown)\n"
     ]
    },
    {
     "name": "stdout",
     "output_type": "stream",
     "text": [
      "n 3, rsi 12, threshold 70, ema 30\n"
     ]
    },
    {
     "name": "stderr",
     "output_type": "stream",
     "text": [
      "/tmp/ipykernel_37279/873016624.py:45: RuntimeWarning: divide by zero encountered in scalar divide\n",
      "  roi_dd_ratio = total_roi / abs(max_drawdown)\n"
     ]
    },
    {
     "name": "stdout",
     "output_type": "stream",
     "text": [
      "n 3, rsi 12, threshold 70, ema 35\n"
     ]
    },
    {
     "name": "stderr",
     "output_type": "stream",
     "text": [
      "/tmp/ipykernel_37279/873016624.py:45: RuntimeWarning: divide by zero encountered in scalar divide\n",
      "  roi_dd_ratio = total_roi / abs(max_drawdown)\n"
     ]
    },
    {
     "name": "stdout",
     "output_type": "stream",
     "text": [
      "n 3, rsi 12, threshold 75, ema 5\n"
     ]
    },
    {
     "name": "stderr",
     "output_type": "stream",
     "text": [
      "/tmp/ipykernel_37279/873016624.py:45: RuntimeWarning: divide by zero encountered in scalar divide\n",
      "  roi_dd_ratio = total_roi / abs(max_drawdown)\n",
      "/tmp/ipykernel_37279/873016624.py:70: RuntimeWarning: divide by zero encountered in scalar divide\n",
      "  overall_roi_dd_ratio = overall_total_roi / abs(overall_max_drawdown)\n"
     ]
    },
    {
     "name": "stdout",
     "output_type": "stream",
     "text": [
      "n 3, rsi 12, threshold 75, ema 10\n"
     ]
    },
    {
     "name": "stderr",
     "output_type": "stream",
     "text": [
      "/tmp/ipykernel_37279/873016624.py:45: RuntimeWarning: divide by zero encountered in scalar divide\n",
      "  roi_dd_ratio = total_roi / abs(max_drawdown)\n",
      "/tmp/ipykernel_37279/873016624.py:70: RuntimeWarning: divide by zero encountered in scalar divide\n",
      "  overall_roi_dd_ratio = overall_total_roi / abs(overall_max_drawdown)\n"
     ]
    },
    {
     "name": "stdout",
     "output_type": "stream",
     "text": [
      "n 3, rsi 12, threshold 75, ema 15\n"
     ]
    },
    {
     "name": "stderr",
     "output_type": "stream",
     "text": [
      "/tmp/ipykernel_37279/873016624.py:45: RuntimeWarning: divide by zero encountered in scalar divide\n",
      "  roi_dd_ratio = total_roi / abs(max_drawdown)\n",
      "/tmp/ipykernel_37279/873016624.py:70: RuntimeWarning: divide by zero encountered in scalar divide\n",
      "  overall_roi_dd_ratio = overall_total_roi / abs(overall_max_drawdown)\n"
     ]
    },
    {
     "name": "stdout",
     "output_type": "stream",
     "text": [
      "n 3, rsi 12, threshold 75, ema 20\n"
     ]
    },
    {
     "name": "stderr",
     "output_type": "stream",
     "text": [
      "/tmp/ipykernel_37279/873016624.py:45: RuntimeWarning: divide by zero encountered in scalar divide\n",
      "  roi_dd_ratio = total_roi / abs(max_drawdown)\n",
      "/tmp/ipykernel_37279/873016624.py:70: RuntimeWarning: divide by zero encountered in scalar divide\n",
      "  overall_roi_dd_ratio = overall_total_roi / abs(overall_max_drawdown)\n"
     ]
    },
    {
     "name": "stdout",
     "output_type": "stream",
     "text": [
      "n 3, rsi 12, threshold 75, ema 25\n"
     ]
    },
    {
     "name": "stderr",
     "output_type": "stream",
     "text": [
      "/tmp/ipykernel_37279/873016624.py:45: RuntimeWarning: divide by zero encountered in scalar divide\n",
      "  roi_dd_ratio = total_roi / abs(max_drawdown)\n",
      "/tmp/ipykernel_37279/873016624.py:70: RuntimeWarning: divide by zero encountered in scalar divide\n",
      "  overall_roi_dd_ratio = overall_total_roi / abs(overall_max_drawdown)\n"
     ]
    },
    {
     "name": "stdout",
     "output_type": "stream",
     "text": [
      "n 3, rsi 12, threshold 75, ema 30\n"
     ]
    },
    {
     "name": "stderr",
     "output_type": "stream",
     "text": [
      "/tmp/ipykernel_37279/873016624.py:45: RuntimeWarning: divide by zero encountered in scalar divide\n",
      "  roi_dd_ratio = total_roi / abs(max_drawdown)\n",
      "/tmp/ipykernel_37279/873016624.py:70: RuntimeWarning: divide by zero encountered in scalar divide\n",
      "  overall_roi_dd_ratio = overall_total_roi / abs(overall_max_drawdown)\n"
     ]
    },
    {
     "name": "stdout",
     "output_type": "stream",
     "text": [
      "n 3, rsi 12, threshold 75, ema 35\n"
     ]
    },
    {
     "name": "stderr",
     "output_type": "stream",
     "text": [
      "/tmp/ipykernel_37279/873016624.py:45: RuntimeWarning: divide by zero encountered in scalar divide\n",
      "  roi_dd_ratio = total_roi / abs(max_drawdown)\n",
      "/tmp/ipykernel_37279/873016624.py:70: RuntimeWarning: divide by zero encountered in scalar divide\n",
      "  overall_roi_dd_ratio = overall_total_roi / abs(overall_max_drawdown)\n"
     ]
    },
    {
     "name": "stdout",
     "output_type": "stream",
     "text": [
      "n 3, rsi 12, threshold 80, ema 5\n",
      "n 3, rsi 12, threshold 80, ema 10\n",
      "n 3, rsi 12, threshold 80, ema 15\n",
      "n 3, rsi 12, threshold 80, ema 20\n",
      "n 3, rsi 12, threshold 80, ema 25\n",
      "n 3, rsi 12, threshold 80, ema 30\n",
      "n 3, rsi 12, threshold 80, ema 35\n",
      "n 3, rsi 16, threshold 30, ema 5\n",
      "n 3, rsi 16, threshold 30, ema 10\n",
      "n 3, rsi 16, threshold 30, ema 15\n",
      "n 3, rsi 16, threshold 30, ema 20\n",
      "n 3, rsi 16, threshold 30, ema 25\n",
      "n 3, rsi 16, threshold 30, ema 30\n",
      "n 3, rsi 16, threshold 30, ema 35\n",
      "n 3, rsi 16, threshold 35, ema 5\n",
      "n 3, rsi 16, threshold 35, ema 10\n",
      "n 3, rsi 16, threshold 35, ema 15\n",
      "n 3, rsi 16, threshold 35, ema 20\n",
      "n 3, rsi 16, threshold 35, ema 25\n",
      "n 3, rsi 16, threshold 35, ema 30\n",
      "n 3, rsi 16, threshold 35, ema 35\n",
      "n 3, rsi 16, threshold 40, ema 5\n",
      "n 3, rsi 16, threshold 40, ema 10\n",
      "n 3, rsi 16, threshold 40, ema 15\n",
      "n 3, rsi 16, threshold 40, ema 20\n",
      "n 3, rsi 16, threshold 40, ema 25\n",
      "n 3, rsi 16, threshold 40, ema 30\n",
      "n 3, rsi 16, threshold 40, ema 35\n",
      "n 3, rsi 16, threshold 45, ema 5\n",
      "n 3, rsi 16, threshold 45, ema 10\n",
      "n 3, rsi 16, threshold 45, ema 15\n",
      "n 3, rsi 16, threshold 45, ema 20\n",
      "n 3, rsi 16, threshold 45, ema 25\n",
      "n 3, rsi 16, threshold 45, ema 30\n",
      "n 3, rsi 16, threshold 45, ema 35\n",
      "n 3, rsi 16, threshold 50, ema 5\n",
      "n 3, rsi 16, threshold 50, ema 10\n",
      "n 3, rsi 16, threshold 50, ema 15\n",
      "n 3, rsi 16, threshold 50, ema 20\n",
      "n 3, rsi 16, threshold 50, ema 25\n",
      "n 3, rsi 16, threshold 50, ema 30\n",
      "n 3, rsi 16, threshold 50, ema 35\n",
      "n 3, rsi 16, threshold 55, ema 5\n",
      "n 3, rsi 16, threshold 55, ema 10\n",
      "n 3, rsi 16, threshold 55, ema 15\n",
      "n 3, rsi 16, threshold 55, ema 20\n",
      "n 3, rsi 16, threshold 55, ema 25\n",
      "n 3, rsi 16, threshold 55, ema 30\n",
      "n 3, rsi 16, threshold 55, ema 35\n",
      "n 3, rsi 16, threshold 60, ema 5\n",
      "n 3, rsi 16, threshold 60, ema 10\n",
      "n 3, rsi 16, threshold 60, ema 15\n",
      "n 3, rsi 16, threshold 60, ema 20\n",
      "n 3, rsi 16, threshold 60, ema 25\n",
      "n 3, rsi 16, threshold 60, ema 30\n",
      "n 3, rsi 16, threshold 60, ema 35\n",
      "n 3, rsi 16, threshold 65, ema 5\n",
      "n 3, rsi 16, threshold 65, ema 10\n",
      "n 3, rsi 16, threshold 65, ema 15\n",
      "n 3, rsi 16, threshold 65, ema 20\n",
      "n 3, rsi 16, threshold 65, ema 25\n",
      "n 3, rsi 16, threshold 65, ema 30\n",
      "n 3, rsi 16, threshold 65, ema 35\n",
      "n 3, rsi 16, threshold 70, ema 5\n"
     ]
    },
    {
     "name": "stderr",
     "output_type": "stream",
     "text": [
      "/tmp/ipykernel_37279/873016624.py:45: RuntimeWarning: divide by zero encountered in scalar divide\n",
      "  roi_dd_ratio = total_roi / abs(max_drawdown)\n"
     ]
    },
    {
     "name": "stdout",
     "output_type": "stream",
     "text": [
      "n 3, rsi 16, threshold 70, ema 10\n"
     ]
    },
    {
     "name": "stderr",
     "output_type": "stream",
     "text": [
      "/tmp/ipykernel_37279/873016624.py:45: RuntimeWarning: divide by zero encountered in scalar divide\n",
      "  roi_dd_ratio = total_roi / abs(max_drawdown)\n"
     ]
    },
    {
     "name": "stdout",
     "output_type": "stream",
     "text": [
      "n 3, rsi 16, threshold 70, ema 15\n"
     ]
    },
    {
     "name": "stderr",
     "output_type": "stream",
     "text": [
      "/tmp/ipykernel_37279/873016624.py:45: RuntimeWarning: divide by zero encountered in scalar divide\n",
      "  roi_dd_ratio = total_roi / abs(max_drawdown)\n"
     ]
    },
    {
     "name": "stdout",
     "output_type": "stream",
     "text": [
      "n 3, rsi 16, threshold 70, ema 20\n"
     ]
    },
    {
     "name": "stderr",
     "output_type": "stream",
     "text": [
      "/tmp/ipykernel_37279/873016624.py:45: RuntimeWarning: divide by zero encountered in scalar divide\n",
      "  roi_dd_ratio = total_roi / abs(max_drawdown)\n"
     ]
    },
    {
     "name": "stdout",
     "output_type": "stream",
     "text": [
      "n 3, rsi 16, threshold 70, ema 25\n"
     ]
    },
    {
     "name": "stderr",
     "output_type": "stream",
     "text": [
      "/tmp/ipykernel_37279/873016624.py:45: RuntimeWarning: divide by zero encountered in scalar divide\n",
      "  roi_dd_ratio = total_roi / abs(max_drawdown)\n"
     ]
    },
    {
     "name": "stdout",
     "output_type": "stream",
     "text": [
      "n 3, rsi 16, threshold 70, ema 30\n"
     ]
    },
    {
     "name": "stderr",
     "output_type": "stream",
     "text": [
      "/tmp/ipykernel_37279/873016624.py:45: RuntimeWarning: divide by zero encountered in scalar divide\n",
      "  roi_dd_ratio = total_roi / abs(max_drawdown)\n"
     ]
    },
    {
     "name": "stdout",
     "output_type": "stream",
     "text": [
      "n 3, rsi 16, threshold 70, ema 35\n"
     ]
    },
    {
     "name": "stderr",
     "output_type": "stream",
     "text": [
      "/tmp/ipykernel_37279/873016624.py:45: RuntimeWarning: divide by zero encountered in scalar divide\n",
      "  roi_dd_ratio = total_roi / abs(max_drawdown)\n"
     ]
    },
    {
     "name": "stdout",
     "output_type": "stream",
     "text": [
      "n 3, rsi 16, threshold 75, ema 5\n"
     ]
    },
    {
     "name": "stderr",
     "output_type": "stream",
     "text": [
      "/tmp/ipykernel_37279/873016624.py:45: RuntimeWarning: divide by zero encountered in scalar divide\n",
      "  roi_dd_ratio = total_roi / abs(max_drawdown)\n",
      "/tmp/ipykernel_37279/873016624.py:70: RuntimeWarning: divide by zero encountered in scalar divide\n",
      "  overall_roi_dd_ratio = overall_total_roi / abs(overall_max_drawdown)\n"
     ]
    },
    {
     "name": "stdout",
     "output_type": "stream",
     "text": [
      "n 3, rsi 16, threshold 75, ema 10\n"
     ]
    },
    {
     "name": "stderr",
     "output_type": "stream",
     "text": [
      "/tmp/ipykernel_37279/873016624.py:45: RuntimeWarning: divide by zero encountered in scalar divide\n",
      "  roi_dd_ratio = total_roi / abs(max_drawdown)\n",
      "/tmp/ipykernel_37279/873016624.py:70: RuntimeWarning: divide by zero encountered in scalar divide\n",
      "  overall_roi_dd_ratio = overall_total_roi / abs(overall_max_drawdown)\n"
     ]
    },
    {
     "name": "stdout",
     "output_type": "stream",
     "text": [
      "n 3, rsi 16, threshold 75, ema 15\n"
     ]
    },
    {
     "name": "stderr",
     "output_type": "stream",
     "text": [
      "/tmp/ipykernel_37279/873016624.py:45: RuntimeWarning: divide by zero encountered in scalar divide\n",
      "  roi_dd_ratio = total_roi / abs(max_drawdown)\n",
      "/tmp/ipykernel_37279/873016624.py:70: RuntimeWarning: divide by zero encountered in scalar divide\n",
      "  overall_roi_dd_ratio = overall_total_roi / abs(overall_max_drawdown)\n"
     ]
    },
    {
     "name": "stdout",
     "output_type": "stream",
     "text": [
      "n 3, rsi 16, threshold 75, ema 20\n"
     ]
    },
    {
     "name": "stderr",
     "output_type": "stream",
     "text": [
      "/tmp/ipykernel_37279/873016624.py:45: RuntimeWarning: divide by zero encountered in scalar divide\n",
      "  roi_dd_ratio = total_roi / abs(max_drawdown)\n",
      "/tmp/ipykernel_37279/873016624.py:70: RuntimeWarning: divide by zero encountered in scalar divide\n",
      "  overall_roi_dd_ratio = overall_total_roi / abs(overall_max_drawdown)\n"
     ]
    },
    {
     "name": "stdout",
     "output_type": "stream",
     "text": [
      "n 3, rsi 16, threshold 75, ema 25\n"
     ]
    },
    {
     "name": "stderr",
     "output_type": "stream",
     "text": [
      "/tmp/ipykernel_37279/873016624.py:45: RuntimeWarning: divide by zero encountered in scalar divide\n",
      "  roi_dd_ratio = total_roi / abs(max_drawdown)\n",
      "/tmp/ipykernel_37279/873016624.py:70: RuntimeWarning: divide by zero encountered in scalar divide\n",
      "  overall_roi_dd_ratio = overall_total_roi / abs(overall_max_drawdown)\n"
     ]
    },
    {
     "name": "stdout",
     "output_type": "stream",
     "text": [
      "n 3, rsi 16, threshold 75, ema 30\n"
     ]
    },
    {
     "name": "stderr",
     "output_type": "stream",
     "text": [
      "/tmp/ipykernel_37279/873016624.py:45: RuntimeWarning: divide by zero encountered in scalar divide\n",
      "  roi_dd_ratio = total_roi / abs(max_drawdown)\n",
      "/tmp/ipykernel_37279/873016624.py:70: RuntimeWarning: divide by zero encountered in scalar divide\n",
      "  overall_roi_dd_ratio = overall_total_roi / abs(overall_max_drawdown)\n"
     ]
    },
    {
     "name": "stdout",
     "output_type": "stream",
     "text": [
      "n 3, rsi 16, threshold 75, ema 35\n"
     ]
    },
    {
     "name": "stderr",
     "output_type": "stream",
     "text": [
      "/tmp/ipykernel_37279/873016624.py:45: RuntimeWarning: divide by zero encountered in scalar divide\n",
      "  roi_dd_ratio = total_roi / abs(max_drawdown)\n",
      "/tmp/ipykernel_37279/873016624.py:70: RuntimeWarning: divide by zero encountered in scalar divide\n",
      "  overall_roi_dd_ratio = overall_total_roi / abs(overall_max_drawdown)\n"
     ]
    },
    {
     "name": "stdout",
     "output_type": "stream",
     "text": [
      "n 3, rsi 16, threshold 80, ema 5\n",
      "n 3, rsi 16, threshold 80, ema 10\n",
      "n 3, rsi 16, threshold 80, ema 15\n",
      "n 3, rsi 16, threshold 80, ema 20\n",
      "n 3, rsi 16, threshold 80, ema 25\n",
      "n 3, rsi 16, threshold 80, ema 30\n",
      "n 3, rsi 16, threshold 80, ema 35\n",
      "n 4, rsi 14, threshold 30, ema 5\n",
      "n 4, rsi 14, threshold 30, ema 10\n",
      "n 4, rsi 14, threshold 30, ema 15\n",
      "n 4, rsi 14, threshold 30, ema 20\n",
      "n 4, rsi 14, threshold 30, ema 25\n",
      "n 4, rsi 14, threshold 30, ema 30\n",
      "n 4, rsi 14, threshold 30, ema 35\n",
      "n 4, rsi 14, threshold 35, ema 5\n",
      "n 4, rsi 14, threshold 35, ema 10\n",
      "n 4, rsi 14, threshold 35, ema 15\n",
      "n 4, rsi 14, threshold 35, ema 20\n",
      "n 4, rsi 14, threshold 35, ema 25\n",
      "n 4, rsi 14, threshold 35, ema 30\n",
      "n 4, rsi 14, threshold 35, ema 35\n",
      "n 4, rsi 14, threshold 40, ema 5\n",
      "n 4, rsi 14, threshold 40, ema 10\n",
      "n 4, rsi 14, threshold 40, ema 15\n",
      "n 4, rsi 14, threshold 40, ema 20\n",
      "n 4, rsi 14, threshold 40, ema 25\n",
      "n 4, rsi 14, threshold 40, ema 30\n",
      "n 4, rsi 14, threshold 40, ema 35\n",
      "n 4, rsi 14, threshold 45, ema 5\n",
      "n 4, rsi 14, threshold 45, ema 10\n",
      "n 4, rsi 14, threshold 45, ema 15\n",
      "n 4, rsi 14, threshold 45, ema 20\n",
      "n 4, rsi 14, threshold 45, ema 25\n",
      "n 4, rsi 14, threshold 45, ema 30\n",
      "n 4, rsi 14, threshold 45, ema 35\n",
      "n 4, rsi 14, threshold 50, ema 5\n",
      "n 4, rsi 14, threshold 50, ema 10\n",
      "n 4, rsi 14, threshold 50, ema 15\n",
      "n 4, rsi 14, threshold 50, ema 20\n",
      "n 4, rsi 14, threshold 50, ema 25\n",
      "n 4, rsi 14, threshold 50, ema 30\n",
      "n 4, rsi 14, threshold 50, ema 35\n",
      "n 4, rsi 14, threshold 55, ema 5\n",
      "n 4, rsi 14, threshold 55, ema 10\n",
      "n 4, rsi 14, threshold 55, ema 15\n",
      "n 4, rsi 14, threshold 55, ema 20\n",
      "n 4, rsi 14, threshold 55, ema 25\n",
      "n 4, rsi 14, threshold 55, ema 30\n",
      "n 4, rsi 14, threshold 55, ema 35\n",
      "n 4, rsi 14, threshold 60, ema 5\n",
      "n 4, rsi 14, threshold 60, ema 10\n",
      "n 4, rsi 14, threshold 60, ema 15\n",
      "n 4, rsi 14, threshold 60, ema 20\n",
      "n 4, rsi 14, threshold 60, ema 25\n",
      "n 4, rsi 14, threshold 60, ema 30\n",
      "n 4, rsi 14, threshold 60, ema 35\n",
      "n 4, rsi 14, threshold 65, ema 5\n"
     ]
    },
    {
     "name": "stderr",
     "output_type": "stream",
     "text": [
      "/tmp/ipykernel_37279/873016624.py:45: RuntimeWarning: divide by zero encountered in scalar divide\n",
      "  roi_dd_ratio = total_roi / abs(max_drawdown)\n"
     ]
    },
    {
     "name": "stdout",
     "output_type": "stream",
     "text": [
      "n 4, rsi 14, threshold 65, ema 10\n"
     ]
    },
    {
     "name": "stderr",
     "output_type": "stream",
     "text": [
      "/tmp/ipykernel_37279/873016624.py:45: RuntimeWarning: divide by zero encountered in scalar divide\n",
      "  roi_dd_ratio = total_roi / abs(max_drawdown)\n"
     ]
    },
    {
     "name": "stdout",
     "output_type": "stream",
     "text": [
      "n 4, rsi 14, threshold 65, ema 15\n"
     ]
    },
    {
     "name": "stderr",
     "output_type": "stream",
     "text": [
      "/tmp/ipykernel_37279/873016624.py:45: RuntimeWarning: divide by zero encountered in scalar divide\n",
      "  roi_dd_ratio = total_roi / abs(max_drawdown)\n"
     ]
    },
    {
     "name": "stdout",
     "output_type": "stream",
     "text": [
      "n 4, rsi 14, threshold 65, ema 20\n"
     ]
    },
    {
     "name": "stderr",
     "output_type": "stream",
     "text": [
      "/tmp/ipykernel_37279/873016624.py:45: RuntimeWarning: divide by zero encountered in scalar divide\n",
      "  roi_dd_ratio = total_roi / abs(max_drawdown)\n"
     ]
    },
    {
     "name": "stdout",
     "output_type": "stream",
     "text": [
      "n 4, rsi 14, threshold 65, ema 25\n"
     ]
    },
    {
     "name": "stderr",
     "output_type": "stream",
     "text": [
      "/tmp/ipykernel_37279/873016624.py:45: RuntimeWarning: divide by zero encountered in scalar divide\n",
      "  roi_dd_ratio = total_roi / abs(max_drawdown)\n"
     ]
    },
    {
     "name": "stdout",
     "output_type": "stream",
     "text": [
      "n 4, rsi 14, threshold 65, ema 30\n"
     ]
    },
    {
     "name": "stderr",
     "output_type": "stream",
     "text": [
      "/tmp/ipykernel_37279/873016624.py:45: RuntimeWarning: divide by zero encountered in scalar divide\n",
      "  roi_dd_ratio = total_roi / abs(max_drawdown)\n"
     ]
    },
    {
     "name": "stdout",
     "output_type": "stream",
     "text": [
      "n 4, rsi 14, threshold 65, ema 35\n"
     ]
    },
    {
     "name": "stderr",
     "output_type": "stream",
     "text": [
      "/tmp/ipykernel_37279/873016624.py:45: RuntimeWarning: divide by zero encountered in scalar divide\n",
      "  roi_dd_ratio = total_roi / abs(max_drawdown)\n"
     ]
    },
    {
     "name": "stdout",
     "output_type": "stream",
     "text": [
      "n 4, rsi 14, threshold 70, ema 5\n"
     ]
    },
    {
     "name": "stderr",
     "output_type": "stream",
     "text": [
      "/tmp/ipykernel_37279/873016624.py:45: RuntimeWarning: divide by zero encountered in scalar divide\n",
      "  roi_dd_ratio = total_roi / abs(max_drawdown)\n"
     ]
    },
    {
     "name": "stdout",
     "output_type": "stream",
     "text": [
      "n 4, rsi 14, threshold 70, ema 10\n"
     ]
    },
    {
     "name": "stderr",
     "output_type": "stream",
     "text": [
      "/tmp/ipykernel_37279/873016624.py:45: RuntimeWarning: divide by zero encountered in scalar divide\n",
      "  roi_dd_ratio = total_roi / abs(max_drawdown)\n"
     ]
    },
    {
     "name": "stdout",
     "output_type": "stream",
     "text": [
      "n 4, rsi 14, threshold 70, ema 15\n"
     ]
    },
    {
     "name": "stderr",
     "output_type": "stream",
     "text": [
      "/tmp/ipykernel_37279/873016624.py:45: RuntimeWarning: divide by zero encountered in scalar divide\n",
      "  roi_dd_ratio = total_roi / abs(max_drawdown)\n"
     ]
    },
    {
     "name": "stdout",
     "output_type": "stream",
     "text": [
      "n 4, rsi 14, threshold 70, ema 20\n"
     ]
    },
    {
     "name": "stderr",
     "output_type": "stream",
     "text": [
      "/tmp/ipykernel_37279/873016624.py:45: RuntimeWarning: divide by zero encountered in scalar divide\n",
      "  roi_dd_ratio = total_roi / abs(max_drawdown)\n"
     ]
    },
    {
     "name": "stdout",
     "output_type": "stream",
     "text": [
      "n 4, rsi 14, threshold 70, ema 25\n"
     ]
    },
    {
     "name": "stderr",
     "output_type": "stream",
     "text": [
      "/tmp/ipykernel_37279/873016624.py:45: RuntimeWarning: divide by zero encountered in scalar divide\n",
      "  roi_dd_ratio = total_roi / abs(max_drawdown)\n"
     ]
    },
    {
     "name": "stdout",
     "output_type": "stream",
     "text": [
      "n 4, rsi 14, threshold 70, ema 30\n"
     ]
    },
    {
     "name": "stderr",
     "output_type": "stream",
     "text": [
      "/tmp/ipykernel_37279/873016624.py:45: RuntimeWarning: divide by zero encountered in scalar divide\n",
      "  roi_dd_ratio = total_roi / abs(max_drawdown)\n"
     ]
    },
    {
     "name": "stdout",
     "output_type": "stream",
     "text": [
      "n 4, rsi 14, threshold 70, ema 35\n"
     ]
    },
    {
     "name": "stderr",
     "output_type": "stream",
     "text": [
      "/tmp/ipykernel_37279/873016624.py:45: RuntimeWarning: divide by zero encountered in scalar divide\n",
      "  roi_dd_ratio = total_roi / abs(max_drawdown)\n"
     ]
    },
    {
     "name": "stdout",
     "output_type": "stream",
     "text": [
      "n 4, rsi 14, threshold 75, ema 5\n",
      "n 4, rsi 14, threshold 75, ema 10\n",
      "n 4, rsi 14, threshold 75, ema 15\n",
      "n 4, rsi 14, threshold 75, ema 20\n",
      "n 4, rsi 14, threshold 75, ema 25\n",
      "n 4, rsi 14, threshold 75, ema 30\n",
      "n 4, rsi 14, threshold 75, ema 35\n",
      "n 4, rsi 14, threshold 80, ema 5\n",
      "n 4, rsi 14, threshold 80, ema 10\n",
      "n 4, rsi 14, threshold 80, ema 15\n",
      "n 4, rsi 14, threshold 80, ema 20\n",
      "n 4, rsi 14, threshold 80, ema 25\n",
      "n 4, rsi 14, threshold 80, ema 30\n",
      "n 4, rsi 14, threshold 80, ema 35\n",
      "n 4, rsi 9, threshold 30, ema 5\n",
      "n 4, rsi 9, threshold 30, ema 10\n",
      "n 4, rsi 9, threshold 30, ema 15\n",
      "n 4, rsi 9, threshold 30, ema 20\n",
      "n 4, rsi 9, threshold 30, ema 25\n",
      "n 4, rsi 9, threshold 30, ema 30\n",
      "n 4, rsi 9, threshold 30, ema 35\n",
      "n 4, rsi 9, threshold 35, ema 5\n",
      "n 4, rsi 9, threshold 35, ema 10\n",
      "n 4, rsi 9, threshold 35, ema 15\n",
      "n 4, rsi 9, threshold 35, ema 20\n",
      "n 4, rsi 9, threshold 35, ema 25\n",
      "n 4, rsi 9, threshold 35, ema 30\n",
      "n 4, rsi 9, threshold 35, ema 35\n",
      "n 4, rsi 9, threshold 40, ema 5\n",
      "n 4, rsi 9, threshold 40, ema 10\n",
      "n 4, rsi 9, threshold 40, ema 15\n",
      "n 4, rsi 9, threshold 40, ema 20\n",
      "n 4, rsi 9, threshold 40, ema 25\n",
      "n 4, rsi 9, threshold 40, ema 30\n",
      "n 4, rsi 9, threshold 40, ema 35\n",
      "n 4, rsi 9, threshold 45, ema 5\n",
      "n 4, rsi 9, threshold 45, ema 10\n",
      "n 4, rsi 9, threshold 45, ema 15\n",
      "n 4, rsi 9, threshold 45, ema 20\n",
      "n 4, rsi 9, threshold 45, ema 25\n",
      "n 4, rsi 9, threshold 45, ema 30\n",
      "n 4, rsi 9, threshold 45, ema 35\n",
      "n 4, rsi 9, threshold 50, ema 5\n",
      "n 4, rsi 9, threshold 50, ema 10\n",
      "n 4, rsi 9, threshold 50, ema 15\n",
      "n 4, rsi 9, threshold 50, ema 20\n",
      "n 4, rsi 9, threshold 50, ema 25\n",
      "n 4, rsi 9, threshold 50, ema 30\n",
      "n 4, rsi 9, threshold 50, ema 35\n",
      "n 4, rsi 9, threshold 55, ema 5\n",
      "n 4, rsi 9, threshold 55, ema 10\n",
      "n 4, rsi 9, threshold 55, ema 15\n",
      "n 4, rsi 9, threshold 55, ema 20\n",
      "n 4, rsi 9, threshold 55, ema 25\n",
      "n 4, rsi 9, threshold 55, ema 30\n",
      "n 4, rsi 9, threshold 55, ema 35\n",
      "n 4, rsi 9, threshold 60, ema 5\n"
     ]
    },
    {
     "name": "stderr",
     "output_type": "stream",
     "text": [
      "/tmp/ipykernel_37279/873016624.py:45: RuntimeWarning: divide by zero encountered in scalar divide\n",
      "  roi_dd_ratio = total_roi / abs(max_drawdown)\n"
     ]
    },
    {
     "name": "stdout",
     "output_type": "stream",
     "text": [
      "n 4, rsi 9, threshold 60, ema 10\n"
     ]
    },
    {
     "name": "stderr",
     "output_type": "stream",
     "text": [
      "/tmp/ipykernel_37279/873016624.py:45: RuntimeWarning: divide by zero encountered in scalar divide\n",
      "  roi_dd_ratio = total_roi / abs(max_drawdown)\n"
     ]
    },
    {
     "name": "stdout",
     "output_type": "stream",
     "text": [
      "n 4, rsi 9, threshold 60, ema 15\n"
     ]
    },
    {
     "name": "stderr",
     "output_type": "stream",
     "text": [
      "/tmp/ipykernel_37279/873016624.py:45: RuntimeWarning: divide by zero encountered in scalar divide\n",
      "  roi_dd_ratio = total_roi / abs(max_drawdown)\n"
     ]
    },
    {
     "name": "stdout",
     "output_type": "stream",
     "text": [
      "n 4, rsi 9, threshold 60, ema 20\n"
     ]
    },
    {
     "name": "stderr",
     "output_type": "stream",
     "text": [
      "/tmp/ipykernel_37279/873016624.py:45: RuntimeWarning: divide by zero encountered in scalar divide\n",
      "  roi_dd_ratio = total_roi / abs(max_drawdown)\n"
     ]
    },
    {
     "name": "stdout",
     "output_type": "stream",
     "text": [
      "n 4, rsi 9, threshold 60, ema 25\n"
     ]
    },
    {
     "name": "stderr",
     "output_type": "stream",
     "text": [
      "/tmp/ipykernel_37279/873016624.py:45: RuntimeWarning: divide by zero encountered in scalar divide\n",
      "  roi_dd_ratio = total_roi / abs(max_drawdown)\n"
     ]
    },
    {
     "name": "stdout",
     "output_type": "stream",
     "text": [
      "n 4, rsi 9, threshold 60, ema 30\n"
     ]
    },
    {
     "name": "stderr",
     "output_type": "stream",
     "text": [
      "/tmp/ipykernel_37279/873016624.py:45: RuntimeWarning: divide by zero encountered in scalar divide\n",
      "  roi_dd_ratio = total_roi / abs(max_drawdown)\n"
     ]
    },
    {
     "name": "stdout",
     "output_type": "stream",
     "text": [
      "n 4, rsi 9, threshold 60, ema 35\n"
     ]
    },
    {
     "name": "stderr",
     "output_type": "stream",
     "text": [
      "/tmp/ipykernel_37279/873016624.py:45: RuntimeWarning: divide by zero encountered in scalar divide\n",
      "  roi_dd_ratio = total_roi / abs(max_drawdown)\n"
     ]
    },
    {
     "name": "stdout",
     "output_type": "stream",
     "text": [
      "n 4, rsi 9, threshold 65, ema 5\n"
     ]
    },
    {
     "name": "stderr",
     "output_type": "stream",
     "text": [
      "/tmp/ipykernel_37279/873016624.py:45: RuntimeWarning: divide by zero encountered in scalar divide\n",
      "  roi_dd_ratio = total_roi / abs(max_drawdown)\n"
     ]
    },
    {
     "name": "stdout",
     "output_type": "stream",
     "text": [
      "n 4, rsi 9, threshold 65, ema 10\n"
     ]
    },
    {
     "name": "stderr",
     "output_type": "stream",
     "text": [
      "/tmp/ipykernel_37279/873016624.py:45: RuntimeWarning: divide by zero encountered in scalar divide\n",
      "  roi_dd_ratio = total_roi / abs(max_drawdown)\n"
     ]
    },
    {
     "name": "stdout",
     "output_type": "stream",
     "text": [
      "n 4, rsi 9, threshold 65, ema 15\n"
     ]
    },
    {
     "name": "stderr",
     "output_type": "stream",
     "text": [
      "/tmp/ipykernel_37279/873016624.py:45: RuntimeWarning: divide by zero encountered in scalar divide\n",
      "  roi_dd_ratio = total_roi / abs(max_drawdown)\n"
     ]
    },
    {
     "name": "stdout",
     "output_type": "stream",
     "text": [
      "n 4, rsi 9, threshold 65, ema 20\n"
     ]
    },
    {
     "name": "stderr",
     "output_type": "stream",
     "text": [
      "/tmp/ipykernel_37279/873016624.py:45: RuntimeWarning: divide by zero encountered in scalar divide\n",
      "  roi_dd_ratio = total_roi / abs(max_drawdown)\n"
     ]
    },
    {
     "name": "stdout",
     "output_type": "stream",
     "text": [
      "n 4, rsi 9, threshold 65, ema 25\n"
     ]
    },
    {
     "name": "stderr",
     "output_type": "stream",
     "text": [
      "/tmp/ipykernel_37279/873016624.py:45: RuntimeWarning: divide by zero encountered in scalar divide\n",
      "  roi_dd_ratio = total_roi / abs(max_drawdown)\n"
     ]
    },
    {
     "name": "stdout",
     "output_type": "stream",
     "text": [
      "n 4, rsi 9, threshold 65, ema 30\n"
     ]
    },
    {
     "name": "stderr",
     "output_type": "stream",
     "text": [
      "/tmp/ipykernel_37279/873016624.py:45: RuntimeWarning: divide by zero encountered in scalar divide\n",
      "  roi_dd_ratio = total_roi / abs(max_drawdown)\n"
     ]
    },
    {
     "name": "stdout",
     "output_type": "stream",
     "text": [
      "n 4, rsi 9, threshold 65, ema 35\n"
     ]
    },
    {
     "name": "stderr",
     "output_type": "stream",
     "text": [
      "/tmp/ipykernel_37279/873016624.py:45: RuntimeWarning: divide by zero encountered in scalar divide\n",
      "  roi_dd_ratio = total_roi / abs(max_drawdown)\n"
     ]
    },
    {
     "name": "stdout",
     "output_type": "stream",
     "text": [
      "n 4, rsi 9, threshold 70, ema 5\n"
     ]
    },
    {
     "name": "stderr",
     "output_type": "stream",
     "text": [
      "/tmp/ipykernel_37279/873016624.py:45: RuntimeWarning: divide by zero encountered in scalar divide\n",
      "  roi_dd_ratio = total_roi / abs(max_drawdown)\n",
      "/tmp/ipykernel_37279/873016624.py:70: RuntimeWarning: divide by zero encountered in scalar divide\n",
      "  overall_roi_dd_ratio = overall_total_roi / abs(overall_max_drawdown)\n"
     ]
    },
    {
     "name": "stdout",
     "output_type": "stream",
     "text": [
      "n 4, rsi 9, threshold 70, ema 10\n"
     ]
    },
    {
     "name": "stderr",
     "output_type": "stream",
     "text": [
      "/tmp/ipykernel_37279/873016624.py:45: RuntimeWarning: divide by zero encountered in scalar divide\n",
      "  roi_dd_ratio = total_roi / abs(max_drawdown)\n",
      "/tmp/ipykernel_37279/873016624.py:70: RuntimeWarning: divide by zero encountered in scalar divide\n",
      "  overall_roi_dd_ratio = overall_total_roi / abs(overall_max_drawdown)\n"
     ]
    },
    {
     "name": "stdout",
     "output_type": "stream",
     "text": [
      "n 4, rsi 9, threshold 70, ema 15\n"
     ]
    },
    {
     "name": "stderr",
     "output_type": "stream",
     "text": [
      "/tmp/ipykernel_37279/873016624.py:45: RuntimeWarning: divide by zero encountered in scalar divide\n",
      "  roi_dd_ratio = total_roi / abs(max_drawdown)\n",
      "/tmp/ipykernel_37279/873016624.py:70: RuntimeWarning: divide by zero encountered in scalar divide\n",
      "  overall_roi_dd_ratio = overall_total_roi / abs(overall_max_drawdown)\n"
     ]
    },
    {
     "name": "stdout",
     "output_type": "stream",
     "text": [
      "n 4, rsi 9, threshold 70, ema 20\n"
     ]
    },
    {
     "name": "stderr",
     "output_type": "stream",
     "text": [
      "/tmp/ipykernel_37279/873016624.py:45: RuntimeWarning: divide by zero encountered in scalar divide\n",
      "  roi_dd_ratio = total_roi / abs(max_drawdown)\n",
      "/tmp/ipykernel_37279/873016624.py:70: RuntimeWarning: divide by zero encountered in scalar divide\n",
      "  overall_roi_dd_ratio = overall_total_roi / abs(overall_max_drawdown)\n"
     ]
    },
    {
     "name": "stdout",
     "output_type": "stream",
     "text": [
      "n 4, rsi 9, threshold 70, ema 25\n"
     ]
    },
    {
     "name": "stderr",
     "output_type": "stream",
     "text": [
      "/tmp/ipykernel_37279/873016624.py:45: RuntimeWarning: divide by zero encountered in scalar divide\n",
      "  roi_dd_ratio = total_roi / abs(max_drawdown)\n",
      "/tmp/ipykernel_37279/873016624.py:70: RuntimeWarning: divide by zero encountered in scalar divide\n",
      "  overall_roi_dd_ratio = overall_total_roi / abs(overall_max_drawdown)\n"
     ]
    },
    {
     "name": "stdout",
     "output_type": "stream",
     "text": [
      "n 4, rsi 9, threshold 70, ema 30\n"
     ]
    },
    {
     "name": "stderr",
     "output_type": "stream",
     "text": [
      "/tmp/ipykernel_37279/873016624.py:45: RuntimeWarning: divide by zero encountered in scalar divide\n",
      "  roi_dd_ratio = total_roi / abs(max_drawdown)\n",
      "/tmp/ipykernel_37279/873016624.py:70: RuntimeWarning: divide by zero encountered in scalar divide\n",
      "  overall_roi_dd_ratio = overall_total_roi / abs(overall_max_drawdown)\n"
     ]
    },
    {
     "name": "stdout",
     "output_type": "stream",
     "text": [
      "n 4, rsi 9, threshold 70, ema 35\n"
     ]
    },
    {
     "name": "stderr",
     "output_type": "stream",
     "text": [
      "/tmp/ipykernel_37279/873016624.py:45: RuntimeWarning: divide by zero encountered in scalar divide\n",
      "  roi_dd_ratio = total_roi / abs(max_drawdown)\n",
      "/tmp/ipykernel_37279/873016624.py:70: RuntimeWarning: divide by zero encountered in scalar divide\n",
      "  overall_roi_dd_ratio = overall_total_roi / abs(overall_max_drawdown)\n"
     ]
    },
    {
     "name": "stdout",
     "output_type": "stream",
     "text": [
      "n 4, rsi 9, threshold 75, ema 5\n",
      "n 4, rsi 9, threshold 75, ema 10\n",
      "n 4, rsi 9, threshold 75, ema 15\n",
      "n 4, rsi 9, threshold 75, ema 20\n",
      "n 4, rsi 9, threshold 75, ema 25\n",
      "n 4, rsi 9, threshold 75, ema 30\n",
      "n 4, rsi 9, threshold 75, ema 35\n",
      "n 4, rsi 9, threshold 80, ema 5\n",
      "n 4, rsi 9, threshold 80, ema 10\n",
      "n 4, rsi 9, threshold 80, ema 15\n",
      "n 4, rsi 9, threshold 80, ema 20\n",
      "n 4, rsi 9, threshold 80, ema 25\n",
      "n 4, rsi 9, threshold 80, ema 30\n",
      "n 4, rsi 9, threshold 80, ema 35\n",
      "n 4, rsi 21, threshold 30, ema 5\n",
      "n 4, rsi 21, threshold 30, ema 10\n",
      "n 4, rsi 21, threshold 30, ema 15\n",
      "n 4, rsi 21, threshold 30, ema 20\n",
      "n 4, rsi 21, threshold 30, ema 25\n",
      "n 4, rsi 21, threshold 30, ema 30\n",
      "n 4, rsi 21, threshold 30, ema 35\n",
      "n 4, rsi 21, threshold 35, ema 5\n",
      "n 4, rsi 21, threshold 35, ema 10\n",
      "n 4, rsi 21, threshold 35, ema 15\n",
      "n 4, rsi 21, threshold 35, ema 20\n",
      "n 4, rsi 21, threshold 35, ema 25\n",
      "n 4, rsi 21, threshold 35, ema 30\n",
      "n 4, rsi 21, threshold 35, ema 35\n",
      "n 4, rsi 21, threshold 40, ema 5\n",
      "n 4, rsi 21, threshold 40, ema 10\n",
      "n 4, rsi 21, threshold 40, ema 15\n",
      "n 4, rsi 21, threshold 40, ema 20\n",
      "n 4, rsi 21, threshold 40, ema 25\n",
      "n 4, rsi 21, threshold 40, ema 30\n",
      "n 4, rsi 21, threshold 40, ema 35\n",
      "n 4, rsi 21, threshold 45, ema 5\n",
      "n 4, rsi 21, threshold 45, ema 10\n",
      "n 4, rsi 21, threshold 45, ema 15\n",
      "n 4, rsi 21, threshold 45, ema 20\n",
      "n 4, rsi 21, threshold 45, ema 25\n",
      "n 4, rsi 21, threshold 45, ema 30\n",
      "n 4, rsi 21, threshold 45, ema 35\n",
      "n 4, rsi 21, threshold 50, ema 5\n",
      "n 4, rsi 21, threshold 50, ema 10\n",
      "n 4, rsi 21, threshold 50, ema 15\n",
      "n 4, rsi 21, threshold 50, ema 20\n",
      "n 4, rsi 21, threshold 50, ema 25\n",
      "n 4, rsi 21, threshold 50, ema 30\n",
      "n 4, rsi 21, threshold 50, ema 35\n",
      "n 4, rsi 21, threshold 55, ema 5\n",
      "n 4, rsi 21, threshold 55, ema 10\n",
      "n 4, rsi 21, threshold 55, ema 15\n",
      "n 4, rsi 21, threshold 55, ema 20\n",
      "n 4, rsi 21, threshold 55, ema 25\n",
      "n 4, rsi 21, threshold 55, ema 30\n",
      "n 4, rsi 21, threshold 55, ema 35\n",
      "n 4, rsi 21, threshold 60, ema 5\n",
      "n 4, rsi 21, threshold 60, ema 10\n",
      "n 4, rsi 21, threshold 60, ema 15\n",
      "n 4, rsi 21, threshold 60, ema 20\n",
      "n 4, rsi 21, threshold 60, ema 25\n",
      "n 4, rsi 21, threshold 60, ema 30\n",
      "n 4, rsi 21, threshold 60, ema 35\n",
      "n 4, rsi 21, threshold 65, ema 5\n"
     ]
    },
    {
     "name": "stderr",
     "output_type": "stream",
     "text": [
      "/tmp/ipykernel_37279/873016624.py:45: RuntimeWarning: divide by zero encountered in scalar divide\n",
      "  roi_dd_ratio = total_roi / abs(max_drawdown)\n"
     ]
    },
    {
     "name": "stdout",
     "output_type": "stream",
     "text": [
      "n 4, rsi 21, threshold 65, ema 10\n"
     ]
    },
    {
     "name": "stderr",
     "output_type": "stream",
     "text": [
      "/tmp/ipykernel_37279/873016624.py:45: RuntimeWarning: divide by zero encountered in scalar divide\n",
      "  roi_dd_ratio = total_roi / abs(max_drawdown)\n"
     ]
    },
    {
     "name": "stdout",
     "output_type": "stream",
     "text": [
      "n 4, rsi 21, threshold 65, ema 15\n"
     ]
    },
    {
     "name": "stderr",
     "output_type": "stream",
     "text": [
      "/tmp/ipykernel_37279/873016624.py:45: RuntimeWarning: divide by zero encountered in scalar divide\n",
      "  roi_dd_ratio = total_roi / abs(max_drawdown)\n"
     ]
    },
    {
     "name": "stdout",
     "output_type": "stream",
     "text": [
      "n 4, rsi 21, threshold 65, ema 20\n"
     ]
    },
    {
     "name": "stderr",
     "output_type": "stream",
     "text": [
      "/tmp/ipykernel_37279/873016624.py:45: RuntimeWarning: divide by zero encountered in scalar divide\n",
      "  roi_dd_ratio = total_roi / abs(max_drawdown)\n"
     ]
    },
    {
     "name": "stdout",
     "output_type": "stream",
     "text": [
      "n 4, rsi 21, threshold 65, ema 25\n"
     ]
    },
    {
     "name": "stderr",
     "output_type": "stream",
     "text": [
      "/tmp/ipykernel_37279/873016624.py:45: RuntimeWarning: divide by zero encountered in scalar divide\n",
      "  roi_dd_ratio = total_roi / abs(max_drawdown)\n"
     ]
    },
    {
     "name": "stdout",
     "output_type": "stream",
     "text": [
      "n 4, rsi 21, threshold 65, ema 30\n"
     ]
    },
    {
     "name": "stderr",
     "output_type": "stream",
     "text": [
      "/tmp/ipykernel_37279/873016624.py:45: RuntimeWarning: divide by zero encountered in scalar divide\n",
      "  roi_dd_ratio = total_roi / abs(max_drawdown)\n"
     ]
    },
    {
     "name": "stdout",
     "output_type": "stream",
     "text": [
      "n 4, rsi 21, threshold 65, ema 35\n"
     ]
    },
    {
     "name": "stderr",
     "output_type": "stream",
     "text": [
      "/tmp/ipykernel_37279/873016624.py:45: RuntimeWarning: divide by zero encountered in scalar divide\n",
      "  roi_dd_ratio = total_roi / abs(max_drawdown)\n"
     ]
    },
    {
     "name": "stdout",
     "output_type": "stream",
     "text": [
      "n 4, rsi 21, threshold 70, ema 5\n"
     ]
    },
    {
     "name": "stderr",
     "output_type": "stream",
     "text": [
      "/tmp/ipykernel_37279/873016624.py:45: RuntimeWarning: divide by zero encountered in scalar divide\n",
      "  roi_dd_ratio = total_roi / abs(max_drawdown)\n",
      "/tmp/ipykernel_37279/873016624.py:70: RuntimeWarning: divide by zero encountered in scalar divide\n",
      "  overall_roi_dd_ratio = overall_total_roi / abs(overall_max_drawdown)\n"
     ]
    },
    {
     "name": "stdout",
     "output_type": "stream",
     "text": [
      "        Total ROI Total Trades Win Rate Avg Profit% per Trade Avg Loss% per Trade Max Drawdown ROI/DD Ratio                         Variation\n",
      "2018       0.0000            0      NaN                   NaN                 NaN          NaN          NaN  n 4, rsi 21, threshold 70, ema 5\n",
      "2019      -6.6692            1   0.0000                   NaN             -6.6692       0.0000         -inf  n 4, rsi 21, threshold 70, ema 5\n",
      "2020       1.6246            1 100.0000                1.6246                 NaN       0.0000          inf  n 4, rsi 21, threshold 70, ema 5\n",
      "2021      12.3290            1 100.0000               12.3290                 NaN       0.0000          inf  n 4, rsi 21, threshold 70, ema 5\n",
      "2022       0.0000            0      NaN                   NaN                 NaN          NaN          NaN  n 4, rsi 21, threshold 70, ema 5\n",
      "2023       0.0000            0      NaN                   NaN                 NaN          NaN          NaN  n 4, rsi 21, threshold 70, ema 5\n",
      "2024       0.0000            0      NaN                   NaN                 NaN          NaN          NaN  n 4, rsi 21, threshold 70, ema 5\n",
      "Overall    7.2843            3  66.6667                6.9768             -6.6692       0.0000          inf  n 4, rsi 21, threshold 70, ema 5\n",
      "n 4, rsi 21, threshold 70, ema 10\n"
     ]
    },
    {
     "name": "stderr",
     "output_type": "stream",
     "text": [
      "/tmp/ipykernel_37279/873016624.py:45: RuntimeWarning: divide by zero encountered in scalar divide\n",
      "  roi_dd_ratio = total_roi / abs(max_drawdown)\n",
      "/tmp/ipykernel_37279/873016624.py:70: RuntimeWarning: divide by zero encountered in scalar divide\n",
      "  overall_roi_dd_ratio = overall_total_roi / abs(overall_max_drawdown)\n"
     ]
    },
    {
     "name": "stdout",
     "output_type": "stream",
     "text": [
      "        Total ROI Total Trades Win Rate Avg Profit% per Trade Avg Loss% per Trade Max Drawdown ROI/DD Ratio                          Variation\n",
      "2018       0.0000            0      NaN                   NaN                 NaN          NaN          NaN  n 4, rsi 21, threshold 70, ema 10\n",
      "2019      -6.6692            1   0.0000                   NaN             -6.6692       0.0000         -inf  n 4, rsi 21, threshold 70, ema 10\n",
      "2020       1.6246            1 100.0000                1.6246                 NaN       0.0000          inf  n 4, rsi 21, threshold 70, ema 10\n",
      "2021      10.1209            1 100.0000               10.1209                 NaN       0.0000          inf  n 4, rsi 21, threshold 70, ema 10\n",
      "2022       0.0000            0      NaN                   NaN                 NaN          NaN          NaN  n 4, rsi 21, threshold 70, ema 10\n",
      "2023       0.0000            0      NaN                   NaN                 NaN          NaN          NaN  n 4, rsi 21, threshold 70, ema 10\n",
      "2024       0.0000            0      NaN                   NaN                 NaN          NaN          NaN  n 4, rsi 21, threshold 70, ema 10\n",
      "Overall    5.0763            3  66.6667                5.8727             -6.6692       0.0000          inf  n 4, rsi 21, threshold 70, ema 10\n",
      "n 4, rsi 21, threshold 70, ema 15\n"
     ]
    },
    {
     "name": "stderr",
     "output_type": "stream",
     "text": [
      "/tmp/ipykernel_37279/873016624.py:45: RuntimeWarning: divide by zero encountered in scalar divide\n",
      "  roi_dd_ratio = total_roi / abs(max_drawdown)\n",
      "/tmp/ipykernel_37279/873016624.py:70: RuntimeWarning: divide by zero encountered in scalar divide\n",
      "  overall_roi_dd_ratio = overall_total_roi / abs(overall_max_drawdown)\n"
     ]
    },
    {
     "name": "stdout",
     "output_type": "stream",
     "text": [
      "        Total ROI Total Trades Win Rate Avg Profit% per Trade Avg Loss% per Trade Max Drawdown ROI/DD Ratio                          Variation\n",
      "2018       0.0000            0      NaN                   NaN                 NaN          NaN          NaN  n 4, rsi 21, threshold 70, ema 15\n",
      "2019      -6.6692            1   0.0000                   NaN             -6.6692       0.0000         -inf  n 4, rsi 21, threshold 70, ema 15\n",
      "2020       1.6246            1 100.0000                1.6246                 NaN       0.0000          inf  n 4, rsi 21, threshold 70, ema 15\n",
      "2021       7.6344            1 100.0000                7.6344                 NaN       0.0000          inf  n 4, rsi 21, threshold 70, ema 15\n",
      "2022       0.0000            0      NaN                   NaN                 NaN          NaN          NaN  n 4, rsi 21, threshold 70, ema 15\n",
      "2023       0.0000            0      NaN                   NaN                 NaN          NaN          NaN  n 4, rsi 21, threshold 70, ema 15\n",
      "2024       0.0000            0      NaN                   NaN                 NaN          NaN          NaN  n 4, rsi 21, threshold 70, ema 15\n",
      "Overall    2.5897            3  66.6667                4.6295             -6.6692       0.0000          inf  n 4, rsi 21, threshold 70, ema 15\n",
      "n 4, rsi 21, threshold 70, ema 20\n"
     ]
    },
    {
     "name": "stderr",
     "output_type": "stream",
     "text": [
      "/tmp/ipykernel_37279/873016624.py:45: RuntimeWarning: divide by zero encountered in scalar divide\n",
      "  roi_dd_ratio = total_roi / abs(max_drawdown)\n"
     ]
    },
    {
     "name": "stdout",
     "output_type": "stream",
     "text": [
      "n 4, rsi 21, threshold 70, ema 25\n"
     ]
    },
    {
     "name": "stderr",
     "output_type": "stream",
     "text": [
      "/tmp/ipykernel_37279/873016624.py:45: RuntimeWarning: divide by zero encountered in scalar divide\n",
      "  roi_dd_ratio = total_roi / abs(max_drawdown)\n"
     ]
    },
    {
     "name": "stdout",
     "output_type": "stream",
     "text": [
      "n 4, rsi 21, threshold 70, ema 30\n"
     ]
    },
    {
     "name": "stderr",
     "output_type": "stream",
     "text": [
      "/tmp/ipykernel_37279/873016624.py:45: RuntimeWarning: divide by zero encountered in scalar divide\n",
      "  roi_dd_ratio = total_roi / abs(max_drawdown)\n"
     ]
    },
    {
     "name": "stdout",
     "output_type": "stream",
     "text": [
      "n 4, rsi 21, threshold 70, ema 35\n"
     ]
    },
    {
     "name": "stderr",
     "output_type": "stream",
     "text": [
      "/tmp/ipykernel_37279/873016624.py:45: RuntimeWarning: divide by zero encountered in scalar divide\n",
      "  roi_dd_ratio = total_roi / abs(max_drawdown)\n"
     ]
    },
    {
     "name": "stdout",
     "output_type": "stream",
     "text": [
      "n 4, rsi 21, threshold 75, ema 5\n",
      "n 4, rsi 21, threshold 75, ema 10\n",
      "n 4, rsi 21, threshold 75, ema 15\n",
      "n 4, rsi 21, threshold 75, ema 20\n",
      "n 4, rsi 21, threshold 75, ema 25\n",
      "n 4, rsi 21, threshold 75, ema 30\n",
      "n 4, rsi 21, threshold 75, ema 35\n",
      "n 4, rsi 21, threshold 80, ema 5\n",
      "n 4, rsi 21, threshold 80, ema 10\n",
      "n 4, rsi 21, threshold 80, ema 15\n",
      "n 4, rsi 21, threshold 80, ema 20\n",
      "n 4, rsi 21, threshold 80, ema 25\n",
      "n 4, rsi 21, threshold 80, ema 30\n",
      "n 4, rsi 21, threshold 80, ema 35\n",
      "n 4, rsi 6, threshold 30, ema 5\n",
      "n 4, rsi 6, threshold 30, ema 10\n",
      "n 4, rsi 6, threshold 30, ema 15\n",
      "n 4, rsi 6, threshold 30, ema 20\n",
      "n 4, rsi 6, threshold 30, ema 25\n",
      "n 4, rsi 6, threshold 30, ema 30\n",
      "n 4, rsi 6, threshold 30, ema 35\n",
      "n 4, rsi 6, threshold 35, ema 5\n",
      "n 4, rsi 6, threshold 35, ema 10\n",
      "n 4, rsi 6, threshold 35, ema 15\n",
      "n 4, rsi 6, threshold 35, ema 20\n",
      "n 4, rsi 6, threshold 35, ema 25\n",
      "n 4, rsi 6, threshold 35, ema 30\n",
      "n 4, rsi 6, threshold 35, ema 35\n",
      "n 4, rsi 6, threshold 40, ema 5\n",
      "n 4, rsi 6, threshold 40, ema 10\n",
      "n 4, rsi 6, threshold 40, ema 15\n",
      "n 4, rsi 6, threshold 40, ema 20\n",
      "n 4, rsi 6, threshold 40, ema 25\n",
      "n 4, rsi 6, threshold 40, ema 30\n",
      "n 4, rsi 6, threshold 40, ema 35\n",
      "n 4, rsi 6, threshold 45, ema 5\n",
      "n 4, rsi 6, threshold 45, ema 10\n",
      "n 4, rsi 6, threshold 45, ema 15\n",
      "n 4, rsi 6, threshold 45, ema 20\n",
      "n 4, rsi 6, threshold 45, ema 25\n",
      "n 4, rsi 6, threshold 45, ema 30\n",
      "n 4, rsi 6, threshold 45, ema 35\n",
      "n 4, rsi 6, threshold 50, ema 5\n",
      "n 4, rsi 6, threshold 50, ema 10\n",
      "n 4, rsi 6, threshold 50, ema 15\n",
      "n 4, rsi 6, threshold 50, ema 20\n",
      "n 4, rsi 6, threshold 50, ema 25\n",
      "n 4, rsi 6, threshold 50, ema 30\n",
      "n 4, rsi 6, threshold 50, ema 35\n",
      "n 4, rsi 6, threshold 55, ema 5\n"
     ]
    },
    {
     "name": "stderr",
     "output_type": "stream",
     "text": [
      "/tmp/ipykernel_37279/873016624.py:45: RuntimeWarning: divide by zero encountered in scalar divide\n",
      "  roi_dd_ratio = total_roi / abs(max_drawdown)\n"
     ]
    },
    {
     "name": "stdout",
     "output_type": "stream",
     "text": [
      "n 4, rsi 6, threshold 55, ema 10\n"
     ]
    },
    {
     "name": "stderr",
     "output_type": "stream",
     "text": [
      "/tmp/ipykernel_37279/873016624.py:45: RuntimeWarning: divide by zero encountered in scalar divide\n",
      "  roi_dd_ratio = total_roi / abs(max_drawdown)\n"
     ]
    },
    {
     "name": "stdout",
     "output_type": "stream",
     "text": [
      "n 4, rsi 6, threshold 55, ema 15\n"
     ]
    },
    {
     "name": "stderr",
     "output_type": "stream",
     "text": [
      "/tmp/ipykernel_37279/873016624.py:45: RuntimeWarning: divide by zero encountered in scalar divide\n",
      "  roi_dd_ratio = total_roi / abs(max_drawdown)\n"
     ]
    },
    {
     "name": "stdout",
     "output_type": "stream",
     "text": [
      "n 4, rsi 6, threshold 55, ema 20\n"
     ]
    },
    {
     "name": "stderr",
     "output_type": "stream",
     "text": [
      "/tmp/ipykernel_37279/873016624.py:45: RuntimeWarning: divide by zero encountered in scalar divide\n",
      "  roi_dd_ratio = total_roi / abs(max_drawdown)\n"
     ]
    },
    {
     "name": "stdout",
     "output_type": "stream",
     "text": [
      "n 4, rsi 6, threshold 55, ema 25\n"
     ]
    },
    {
     "name": "stderr",
     "output_type": "stream",
     "text": [
      "/tmp/ipykernel_37279/873016624.py:45: RuntimeWarning: divide by zero encountered in scalar divide\n",
      "  roi_dd_ratio = total_roi / abs(max_drawdown)\n"
     ]
    },
    {
     "name": "stdout",
     "output_type": "stream",
     "text": [
      "n 4, rsi 6, threshold 55, ema 30\n"
     ]
    },
    {
     "name": "stderr",
     "output_type": "stream",
     "text": [
      "/tmp/ipykernel_37279/873016624.py:45: RuntimeWarning: divide by zero encountered in scalar divide\n",
      "  roi_dd_ratio = total_roi / abs(max_drawdown)\n"
     ]
    },
    {
     "name": "stdout",
     "output_type": "stream",
     "text": [
      "n 4, rsi 6, threshold 55, ema 35\n"
     ]
    },
    {
     "name": "stderr",
     "output_type": "stream",
     "text": [
      "/tmp/ipykernel_37279/873016624.py:45: RuntimeWarning: divide by zero encountered in scalar divide\n",
      "  roi_dd_ratio = total_roi / abs(max_drawdown)\n"
     ]
    },
    {
     "name": "stdout",
     "output_type": "stream",
     "text": [
      "n 4, rsi 6, threshold 60, ema 5\n"
     ]
    },
    {
     "name": "stderr",
     "output_type": "stream",
     "text": [
      "/tmp/ipykernel_37279/873016624.py:45: RuntimeWarning: divide by zero encountered in scalar divide\n",
      "  roi_dd_ratio = total_roi / abs(max_drawdown)\n"
     ]
    },
    {
     "name": "stdout",
     "output_type": "stream",
     "text": [
      "n 4, rsi 6, threshold 60, ema 10\n"
     ]
    },
    {
     "name": "stderr",
     "output_type": "stream",
     "text": [
      "/tmp/ipykernel_37279/873016624.py:45: RuntimeWarning: divide by zero encountered in scalar divide\n",
      "  roi_dd_ratio = total_roi / abs(max_drawdown)\n"
     ]
    },
    {
     "name": "stdout",
     "output_type": "stream",
     "text": [
      "n 4, rsi 6, threshold 60, ema 15\n"
     ]
    },
    {
     "name": "stderr",
     "output_type": "stream",
     "text": [
      "/tmp/ipykernel_37279/873016624.py:45: RuntimeWarning: divide by zero encountered in scalar divide\n",
      "  roi_dd_ratio = total_roi / abs(max_drawdown)\n"
     ]
    },
    {
     "name": "stdout",
     "output_type": "stream",
     "text": [
      "n 4, rsi 6, threshold 60, ema 20\n"
     ]
    },
    {
     "name": "stderr",
     "output_type": "stream",
     "text": [
      "/tmp/ipykernel_37279/873016624.py:45: RuntimeWarning: divide by zero encountered in scalar divide\n",
      "  roi_dd_ratio = total_roi / abs(max_drawdown)\n"
     ]
    },
    {
     "name": "stdout",
     "output_type": "stream",
     "text": [
      "n 4, rsi 6, threshold 60, ema 25\n"
     ]
    },
    {
     "name": "stderr",
     "output_type": "stream",
     "text": [
      "/tmp/ipykernel_37279/873016624.py:45: RuntimeWarning: divide by zero encountered in scalar divide\n",
      "  roi_dd_ratio = total_roi / abs(max_drawdown)\n"
     ]
    },
    {
     "name": "stdout",
     "output_type": "stream",
     "text": [
      "n 4, rsi 6, threshold 60, ema 30\n"
     ]
    },
    {
     "name": "stderr",
     "output_type": "stream",
     "text": [
      "/tmp/ipykernel_37279/873016624.py:45: RuntimeWarning: divide by zero encountered in scalar divide\n",
      "  roi_dd_ratio = total_roi / abs(max_drawdown)\n"
     ]
    },
    {
     "name": "stdout",
     "output_type": "stream",
     "text": [
      "n 4, rsi 6, threshold 60, ema 35\n"
     ]
    },
    {
     "name": "stderr",
     "output_type": "stream",
     "text": [
      "/tmp/ipykernel_37279/873016624.py:45: RuntimeWarning: divide by zero encountered in scalar divide\n",
      "  roi_dd_ratio = total_roi / abs(max_drawdown)\n"
     ]
    },
    {
     "name": "stdout",
     "output_type": "stream",
     "text": [
      "n 4, rsi 6, threshold 65, ema 5\n",
      "n 4, rsi 6, threshold 65, ema 10\n",
      "n 4, rsi 6, threshold 65, ema 15\n",
      "n 4, rsi 6, threshold 65, ema 20\n",
      "n 4, rsi 6, threshold 65, ema 25\n",
      "n 4, rsi 6, threshold 65, ema 30\n",
      "n 4, rsi 6, threshold 65, ema 35\n",
      "n 4, rsi 6, threshold 70, ema 5\n",
      "n 4, rsi 6, threshold 70, ema 10\n",
      "n 4, rsi 6, threshold 70, ema 15\n",
      "n 4, rsi 6, threshold 70, ema 20\n",
      "n 4, rsi 6, threshold 70, ema 25\n",
      "n 4, rsi 6, threshold 70, ema 30\n",
      "n 4, rsi 6, threshold 70, ema 35\n",
      "n 4, rsi 6, threshold 75, ema 5\n",
      "n 4, rsi 6, threshold 75, ema 10\n",
      "n 4, rsi 6, threshold 75, ema 15\n",
      "n 4, rsi 6, threshold 75, ema 20\n",
      "n 4, rsi 6, threshold 75, ema 25\n",
      "n 4, rsi 6, threshold 75, ema 30\n",
      "n 4, rsi 6, threshold 75, ema 35\n",
      "n 4, rsi 6, threshold 80, ema 5\n",
      "n 4, rsi 6, threshold 80, ema 10\n",
      "n 4, rsi 6, threshold 80, ema 15\n",
      "n 4, rsi 6, threshold 80, ema 20\n",
      "n 4, rsi 6, threshold 80, ema 25\n",
      "n 4, rsi 6, threshold 80, ema 30\n",
      "n 4, rsi 6, threshold 80, ema 35\n",
      "n 4, rsi 12, threshold 30, ema 5\n",
      "n 4, rsi 12, threshold 30, ema 10\n",
      "n 4, rsi 12, threshold 30, ema 15\n",
      "n 4, rsi 12, threshold 30, ema 20\n",
      "n 4, rsi 12, threshold 30, ema 25\n",
      "n 4, rsi 12, threshold 30, ema 30\n",
      "n 4, rsi 12, threshold 30, ema 35\n",
      "n 4, rsi 12, threshold 35, ema 5\n",
      "n 4, rsi 12, threshold 35, ema 10\n",
      "n 4, rsi 12, threshold 35, ema 15\n",
      "n 4, rsi 12, threshold 35, ema 20\n",
      "n 4, rsi 12, threshold 35, ema 25\n",
      "n 4, rsi 12, threshold 35, ema 30\n",
      "n 4, rsi 12, threshold 35, ema 35\n",
      "n 4, rsi 12, threshold 40, ema 5\n",
      "n 4, rsi 12, threshold 40, ema 10\n",
      "n 4, rsi 12, threshold 40, ema 15\n",
      "n 4, rsi 12, threshold 40, ema 20\n",
      "n 4, rsi 12, threshold 40, ema 25\n",
      "n 4, rsi 12, threshold 40, ema 30\n",
      "n 4, rsi 12, threshold 40, ema 35\n",
      "n 4, rsi 12, threshold 45, ema 5\n",
      "n 4, rsi 12, threshold 45, ema 10\n",
      "n 4, rsi 12, threshold 45, ema 15\n",
      "n 4, rsi 12, threshold 45, ema 20\n",
      "n 4, rsi 12, threshold 45, ema 25\n",
      "n 4, rsi 12, threshold 45, ema 30\n",
      "n 4, rsi 12, threshold 45, ema 35\n",
      "n 4, rsi 12, threshold 50, ema 5\n",
      "n 4, rsi 12, threshold 50, ema 10\n",
      "n 4, rsi 12, threshold 50, ema 15\n",
      "n 4, rsi 12, threshold 50, ema 20\n",
      "n 4, rsi 12, threshold 50, ema 25\n",
      "n 4, rsi 12, threshold 50, ema 30\n",
      "n 4, rsi 12, threshold 50, ema 35\n",
      "n 4, rsi 12, threshold 55, ema 5\n",
      "n 4, rsi 12, threshold 55, ema 10\n",
      "n 4, rsi 12, threshold 55, ema 15\n",
      "n 4, rsi 12, threshold 55, ema 20\n",
      "n 4, rsi 12, threshold 55, ema 25\n",
      "n 4, rsi 12, threshold 55, ema 30\n",
      "n 4, rsi 12, threshold 55, ema 35\n",
      "n 4, rsi 12, threshold 60, ema 5\n",
      "n 4, rsi 12, threshold 60, ema 10\n",
      "n 4, rsi 12, threshold 60, ema 15\n",
      "n 4, rsi 12, threshold 60, ema 20\n",
      "n 4, rsi 12, threshold 60, ema 25\n",
      "n 4, rsi 12, threshold 60, ema 30\n",
      "n 4, rsi 12, threshold 60, ema 35\n",
      "n 4, rsi 12, threshold 65, ema 5\n"
     ]
    },
    {
     "name": "stderr",
     "output_type": "stream",
     "text": [
      "/tmp/ipykernel_37279/873016624.py:45: RuntimeWarning: divide by zero encountered in scalar divide\n",
      "  roi_dd_ratio = total_roi / abs(max_drawdown)\n"
     ]
    },
    {
     "name": "stdout",
     "output_type": "stream",
     "text": [
      "n 4, rsi 12, threshold 65, ema 10\n"
     ]
    },
    {
     "name": "stderr",
     "output_type": "stream",
     "text": [
      "/tmp/ipykernel_37279/873016624.py:45: RuntimeWarning: divide by zero encountered in scalar divide\n",
      "  roi_dd_ratio = total_roi / abs(max_drawdown)\n"
     ]
    },
    {
     "name": "stdout",
     "output_type": "stream",
     "text": [
      "n 4, rsi 12, threshold 65, ema 15\n"
     ]
    },
    {
     "name": "stderr",
     "output_type": "stream",
     "text": [
      "/tmp/ipykernel_37279/873016624.py:45: RuntimeWarning: divide by zero encountered in scalar divide\n",
      "  roi_dd_ratio = total_roi / abs(max_drawdown)\n"
     ]
    },
    {
     "name": "stdout",
     "output_type": "stream",
     "text": [
      "n 4, rsi 12, threshold 65, ema 20\n"
     ]
    },
    {
     "name": "stderr",
     "output_type": "stream",
     "text": [
      "/tmp/ipykernel_37279/873016624.py:45: RuntimeWarning: divide by zero encountered in scalar divide\n",
      "  roi_dd_ratio = total_roi / abs(max_drawdown)\n"
     ]
    },
    {
     "name": "stdout",
     "output_type": "stream",
     "text": [
      "n 4, rsi 12, threshold 65, ema 25\n"
     ]
    },
    {
     "name": "stderr",
     "output_type": "stream",
     "text": [
      "/tmp/ipykernel_37279/873016624.py:45: RuntimeWarning: divide by zero encountered in scalar divide\n",
      "  roi_dd_ratio = total_roi / abs(max_drawdown)\n"
     ]
    },
    {
     "name": "stdout",
     "output_type": "stream",
     "text": [
      "n 4, rsi 12, threshold 65, ema 30\n"
     ]
    },
    {
     "name": "stderr",
     "output_type": "stream",
     "text": [
      "/tmp/ipykernel_37279/873016624.py:45: RuntimeWarning: divide by zero encountered in scalar divide\n",
      "  roi_dd_ratio = total_roi / abs(max_drawdown)\n"
     ]
    },
    {
     "name": "stdout",
     "output_type": "stream",
     "text": [
      "n 4, rsi 12, threshold 65, ema 35\n"
     ]
    },
    {
     "name": "stderr",
     "output_type": "stream",
     "text": [
      "/tmp/ipykernel_37279/873016624.py:45: RuntimeWarning: divide by zero encountered in scalar divide\n",
      "  roi_dd_ratio = total_roi / abs(max_drawdown)\n"
     ]
    },
    {
     "name": "stdout",
     "output_type": "stream",
     "text": [
      "n 4, rsi 12, threshold 70, ema 5\n"
     ]
    },
    {
     "name": "stderr",
     "output_type": "stream",
     "text": [
      "/tmp/ipykernel_37279/873016624.py:45: RuntimeWarning: divide by zero encountered in scalar divide\n",
      "  roi_dd_ratio = total_roi / abs(max_drawdown)\n"
     ]
    },
    {
     "name": "stdout",
     "output_type": "stream",
     "text": [
      "n 4, rsi 12, threshold 70, ema 10\n"
     ]
    },
    {
     "name": "stderr",
     "output_type": "stream",
     "text": [
      "/tmp/ipykernel_37279/873016624.py:45: RuntimeWarning: divide by zero encountered in scalar divide\n",
      "  roi_dd_ratio = total_roi / abs(max_drawdown)\n"
     ]
    },
    {
     "name": "stdout",
     "output_type": "stream",
     "text": [
      "n 4, rsi 12, threshold 70, ema 15\n"
     ]
    },
    {
     "name": "stderr",
     "output_type": "stream",
     "text": [
      "/tmp/ipykernel_37279/873016624.py:45: RuntimeWarning: divide by zero encountered in scalar divide\n",
      "  roi_dd_ratio = total_roi / abs(max_drawdown)\n"
     ]
    },
    {
     "name": "stdout",
     "output_type": "stream",
     "text": [
      "n 4, rsi 12, threshold 70, ema 20\n"
     ]
    },
    {
     "name": "stderr",
     "output_type": "stream",
     "text": [
      "/tmp/ipykernel_37279/873016624.py:45: RuntimeWarning: divide by zero encountered in scalar divide\n",
      "  roi_dd_ratio = total_roi / abs(max_drawdown)\n"
     ]
    },
    {
     "name": "stdout",
     "output_type": "stream",
     "text": [
      "n 4, rsi 12, threshold 70, ema 25\n"
     ]
    },
    {
     "name": "stderr",
     "output_type": "stream",
     "text": [
      "/tmp/ipykernel_37279/873016624.py:45: RuntimeWarning: divide by zero encountered in scalar divide\n",
      "  roi_dd_ratio = total_roi / abs(max_drawdown)\n"
     ]
    },
    {
     "name": "stdout",
     "output_type": "stream",
     "text": [
      "n 4, rsi 12, threshold 70, ema 30\n"
     ]
    },
    {
     "name": "stderr",
     "output_type": "stream",
     "text": [
      "/tmp/ipykernel_37279/873016624.py:45: RuntimeWarning: divide by zero encountered in scalar divide\n",
      "  roi_dd_ratio = total_roi / abs(max_drawdown)\n"
     ]
    },
    {
     "name": "stdout",
     "output_type": "stream",
     "text": [
      "n 4, rsi 12, threshold 70, ema 35\n"
     ]
    },
    {
     "name": "stderr",
     "output_type": "stream",
     "text": [
      "/tmp/ipykernel_37279/873016624.py:45: RuntimeWarning: divide by zero encountered in scalar divide\n",
      "  roi_dd_ratio = total_roi / abs(max_drawdown)\n"
     ]
    },
    {
     "name": "stdout",
     "output_type": "stream",
     "text": [
      "n 4, rsi 12, threshold 75, ema 5\n",
      "n 4, rsi 12, threshold 75, ema 10\n",
      "n 4, rsi 12, threshold 75, ema 15\n",
      "n 4, rsi 12, threshold 75, ema 20\n",
      "n 4, rsi 12, threshold 75, ema 25\n",
      "n 4, rsi 12, threshold 75, ema 30\n",
      "n 4, rsi 12, threshold 75, ema 35\n",
      "n 4, rsi 12, threshold 80, ema 5\n",
      "n 4, rsi 12, threshold 80, ema 10\n",
      "n 4, rsi 12, threshold 80, ema 15\n",
      "n 4, rsi 12, threshold 80, ema 20\n",
      "n 4, rsi 12, threshold 80, ema 25\n",
      "n 4, rsi 12, threshold 80, ema 30\n",
      "n 4, rsi 12, threshold 80, ema 35\n",
      "n 4, rsi 16, threshold 30, ema 5\n",
      "n 4, rsi 16, threshold 30, ema 10\n",
      "n 4, rsi 16, threshold 30, ema 15\n",
      "n 4, rsi 16, threshold 30, ema 20\n",
      "n 4, rsi 16, threshold 30, ema 25\n",
      "n 4, rsi 16, threshold 30, ema 30\n",
      "n 4, rsi 16, threshold 30, ema 35\n",
      "n 4, rsi 16, threshold 35, ema 5\n",
      "n 4, rsi 16, threshold 35, ema 10\n",
      "n 4, rsi 16, threshold 35, ema 15\n",
      "n 4, rsi 16, threshold 35, ema 20\n",
      "n 4, rsi 16, threshold 35, ema 25\n",
      "n 4, rsi 16, threshold 35, ema 30\n",
      "n 4, rsi 16, threshold 35, ema 35\n",
      "n 4, rsi 16, threshold 40, ema 5\n",
      "n 4, rsi 16, threshold 40, ema 10\n",
      "n 4, rsi 16, threshold 40, ema 15\n",
      "n 4, rsi 16, threshold 40, ema 20\n",
      "n 4, rsi 16, threshold 40, ema 25\n",
      "n 4, rsi 16, threshold 40, ema 30\n",
      "n 4, rsi 16, threshold 40, ema 35\n",
      "n 4, rsi 16, threshold 45, ema 5\n",
      "n 4, rsi 16, threshold 45, ema 10\n",
      "n 4, rsi 16, threshold 45, ema 15\n",
      "n 4, rsi 16, threshold 45, ema 20\n",
      "n 4, rsi 16, threshold 45, ema 25\n",
      "n 4, rsi 16, threshold 45, ema 30\n",
      "n 4, rsi 16, threshold 45, ema 35\n",
      "n 4, rsi 16, threshold 50, ema 5\n",
      "n 4, rsi 16, threshold 50, ema 10\n",
      "n 4, rsi 16, threshold 50, ema 15\n",
      "n 4, rsi 16, threshold 50, ema 20\n",
      "n 4, rsi 16, threshold 50, ema 25\n",
      "n 4, rsi 16, threshold 50, ema 30\n",
      "n 4, rsi 16, threshold 50, ema 35\n",
      "n 4, rsi 16, threshold 55, ema 5\n",
      "n 4, rsi 16, threshold 55, ema 10\n",
      "n 4, rsi 16, threshold 55, ema 15\n",
      "n 4, rsi 16, threshold 55, ema 20\n",
      "n 4, rsi 16, threshold 55, ema 25\n",
      "n 4, rsi 16, threshold 55, ema 30\n",
      "n 4, rsi 16, threshold 55, ema 35\n",
      "n 4, rsi 16, threshold 60, ema 5\n",
      "n 4, rsi 16, threshold 60, ema 10\n",
      "n 4, rsi 16, threshold 60, ema 15\n",
      "n 4, rsi 16, threshold 60, ema 20\n",
      "n 4, rsi 16, threshold 60, ema 25\n",
      "n 4, rsi 16, threshold 60, ema 30\n",
      "n 4, rsi 16, threshold 60, ema 35\n",
      "n 4, rsi 16, threshold 65, ema 5\n"
     ]
    },
    {
     "name": "stderr",
     "output_type": "stream",
     "text": [
      "/tmp/ipykernel_37279/873016624.py:45: RuntimeWarning: divide by zero encountered in scalar divide\n",
      "  roi_dd_ratio = total_roi / abs(max_drawdown)\n"
     ]
    },
    {
     "name": "stdout",
     "output_type": "stream",
     "text": [
      "n 4, rsi 16, threshold 65, ema 10\n"
     ]
    },
    {
     "name": "stderr",
     "output_type": "stream",
     "text": [
      "/tmp/ipykernel_37279/873016624.py:45: RuntimeWarning: divide by zero encountered in scalar divide\n",
      "  roi_dd_ratio = total_roi / abs(max_drawdown)\n"
     ]
    },
    {
     "name": "stdout",
     "output_type": "stream",
     "text": [
      "n 4, rsi 16, threshold 65, ema 15\n"
     ]
    },
    {
     "name": "stderr",
     "output_type": "stream",
     "text": [
      "/tmp/ipykernel_37279/873016624.py:45: RuntimeWarning: divide by zero encountered in scalar divide\n",
      "  roi_dd_ratio = total_roi / abs(max_drawdown)\n"
     ]
    },
    {
     "name": "stdout",
     "output_type": "stream",
     "text": [
      "n 4, rsi 16, threshold 65, ema 20\n"
     ]
    },
    {
     "name": "stderr",
     "output_type": "stream",
     "text": [
      "/tmp/ipykernel_37279/873016624.py:45: RuntimeWarning: divide by zero encountered in scalar divide\n",
      "  roi_dd_ratio = total_roi / abs(max_drawdown)\n"
     ]
    },
    {
     "name": "stdout",
     "output_type": "stream",
     "text": [
      "n 4, rsi 16, threshold 65, ema 25\n"
     ]
    },
    {
     "name": "stderr",
     "output_type": "stream",
     "text": [
      "/tmp/ipykernel_37279/873016624.py:45: RuntimeWarning: divide by zero encountered in scalar divide\n",
      "  roi_dd_ratio = total_roi / abs(max_drawdown)\n"
     ]
    },
    {
     "name": "stdout",
     "output_type": "stream",
     "text": [
      "n 4, rsi 16, threshold 65, ema 30\n"
     ]
    },
    {
     "name": "stderr",
     "output_type": "stream",
     "text": [
      "/tmp/ipykernel_37279/873016624.py:45: RuntimeWarning: divide by zero encountered in scalar divide\n",
      "  roi_dd_ratio = total_roi / abs(max_drawdown)\n"
     ]
    },
    {
     "name": "stdout",
     "output_type": "stream",
     "text": [
      "n 4, rsi 16, threshold 65, ema 35\n"
     ]
    },
    {
     "name": "stderr",
     "output_type": "stream",
     "text": [
      "/tmp/ipykernel_37279/873016624.py:45: RuntimeWarning: divide by zero encountered in scalar divide\n",
      "  roi_dd_ratio = total_roi / abs(max_drawdown)\n"
     ]
    },
    {
     "name": "stdout",
     "output_type": "stream",
     "text": [
      "n 4, rsi 16, threshold 70, ema 5\n"
     ]
    },
    {
     "name": "stderr",
     "output_type": "stream",
     "text": [
      "/tmp/ipykernel_37279/873016624.py:45: RuntimeWarning: divide by zero encountered in scalar divide\n",
      "  roi_dd_ratio = total_roi / abs(max_drawdown)\n"
     ]
    },
    {
     "name": "stdout",
     "output_type": "stream",
     "text": [
      "n 4, rsi 16, threshold 70, ema 10\n"
     ]
    },
    {
     "name": "stderr",
     "output_type": "stream",
     "text": [
      "/tmp/ipykernel_37279/873016624.py:45: RuntimeWarning: divide by zero encountered in scalar divide\n",
      "  roi_dd_ratio = total_roi / abs(max_drawdown)\n"
     ]
    },
    {
     "name": "stdout",
     "output_type": "stream",
     "text": [
      "n 4, rsi 16, threshold 70, ema 15\n"
     ]
    },
    {
     "name": "stderr",
     "output_type": "stream",
     "text": [
      "/tmp/ipykernel_37279/873016624.py:45: RuntimeWarning: divide by zero encountered in scalar divide\n",
      "  roi_dd_ratio = total_roi / abs(max_drawdown)\n"
     ]
    },
    {
     "name": "stdout",
     "output_type": "stream",
     "text": [
      "n 4, rsi 16, threshold 70, ema 20\n"
     ]
    },
    {
     "name": "stderr",
     "output_type": "stream",
     "text": [
      "/tmp/ipykernel_37279/873016624.py:45: RuntimeWarning: divide by zero encountered in scalar divide\n",
      "  roi_dd_ratio = total_roi / abs(max_drawdown)\n"
     ]
    },
    {
     "name": "stdout",
     "output_type": "stream",
     "text": [
      "n 4, rsi 16, threshold 70, ema 25\n"
     ]
    },
    {
     "name": "stderr",
     "output_type": "stream",
     "text": [
      "/tmp/ipykernel_37279/873016624.py:45: RuntimeWarning: divide by zero encountered in scalar divide\n",
      "  roi_dd_ratio = total_roi / abs(max_drawdown)\n"
     ]
    },
    {
     "name": "stdout",
     "output_type": "stream",
     "text": [
      "n 4, rsi 16, threshold 70, ema 30\n"
     ]
    },
    {
     "name": "stderr",
     "output_type": "stream",
     "text": [
      "/tmp/ipykernel_37279/873016624.py:45: RuntimeWarning: divide by zero encountered in scalar divide\n",
      "  roi_dd_ratio = total_roi / abs(max_drawdown)\n"
     ]
    },
    {
     "name": "stdout",
     "output_type": "stream",
     "text": [
      "n 4, rsi 16, threshold 70, ema 35\n"
     ]
    },
    {
     "name": "stderr",
     "output_type": "stream",
     "text": [
      "/tmp/ipykernel_37279/873016624.py:45: RuntimeWarning: divide by zero encountered in scalar divide\n",
      "  roi_dd_ratio = total_roi / abs(max_drawdown)\n"
     ]
    },
    {
     "name": "stdout",
     "output_type": "stream",
     "text": [
      "n 4, rsi 16, threshold 75, ema 5\n",
      "n 4, rsi 16, threshold 75, ema 10\n",
      "n 4, rsi 16, threshold 75, ema 15\n",
      "n 4, rsi 16, threshold 75, ema 20\n",
      "n 4, rsi 16, threshold 75, ema 25\n",
      "n 4, rsi 16, threshold 75, ema 30\n",
      "n 4, rsi 16, threshold 75, ema 35\n",
      "n 4, rsi 16, threshold 80, ema 5\n",
      "n 4, rsi 16, threshold 80, ema 10\n",
      "n 4, rsi 16, threshold 80, ema 15\n",
      "n 4, rsi 16, threshold 80, ema 20\n",
      "n 4, rsi 16, threshold 80, ema 25\n",
      "n 4, rsi 16, threshold 80, ema 30\n",
      "n 4, rsi 16, threshold 80, ema 35\n"
     ]
    }
   ],
   "source": [
    "stats_dictionary = {}\n",
    "rsi_lengths = [14, 9, 21, 6, 12, 16]\n",
    "for i in range(2, 5):\n",
    "    for j in rsi_lengths:\n",
    "        for k in range(30, 81, 5):\n",
    "            for l in range(5, 36, 5):\n",
    "                variation = f'n {i}, rsi {j}, threshold {k}, ema {l}'\n",
    "                print(variation)\n",
    "                tb = backtest_short(bnf_1min, i, j, k, l)\n",
    "                if len(tb) > 0:\n",
    "                    stats = generate_stats(tb, variation)\n",
    "                    for x, y in stats.items():\n",
    "                        if x > 8:\n",
    "                            final_stats = y\n",
    "                            print(final_stats.to_string())\n",
    "                            stats_dictionary[x] = y\n"
   ]
  },
  {
   "cell_type": "code",
   "execution_count": 39,
   "id": "9dd8e149-c3cc-4670-ae46-2114bf9214ab",
   "metadata": {
    "execution": {
     "iopub.execute_input": "2024-12-29T14:54:42.068851Z",
     "iopub.status.busy": "2024-12-29T14:54:42.068310Z",
     "iopub.status.idle": "2024-12-29T14:54:42.080338Z",
     "shell.execute_reply": "2024-12-29T14:54:42.079038Z",
     "shell.execute_reply.started": "2024-12-29T14:54:42.068819Z"
    }
   },
   "outputs": [
    {
     "data": {
      "text/plain": [
       "{inf:         Total ROI Total Trades Win Rate Avg Profit% per Trade  \\\n",
       " 2018       0.0000            0      NaN                   NaN   \n",
       " 2019      -6.6692            1   0.0000                   NaN   \n",
       " 2020       1.6246            1 100.0000                1.6246   \n",
       " 2021       7.6344            1 100.0000                7.6344   \n",
       " 2022       0.0000            0      NaN                   NaN   \n",
       " 2023       0.0000            0      NaN                   NaN   \n",
       " 2024       0.0000            0      NaN                   NaN   \n",
       " Overall    2.5897            3  66.6667                4.6295   \n",
       " \n",
       "         Avg Loss% per Trade Max Drawdown ROI/DD Ratio  \\\n",
       " 2018                    NaN          NaN          NaN   \n",
       " 2019                -6.6692       0.0000         -inf   \n",
       " 2020                    NaN       0.0000          inf   \n",
       " 2021                    NaN       0.0000          inf   \n",
       " 2022                    NaN          NaN          NaN   \n",
       " 2023                    NaN          NaN          NaN   \n",
       " 2024                    NaN          NaN          NaN   \n",
       " Overall             -6.6692       0.0000          inf   \n",
       " \n",
       "                                  Variation  \n",
       " 2018     n 4, rsi 21, threshold 70, ema 15  \n",
       " 2019     n 4, rsi 21, threshold 70, ema 15  \n",
       " 2020     n 4, rsi 21, threshold 70, ema 15  \n",
       " 2021     n 4, rsi 21, threshold 70, ema 15  \n",
       " 2022     n 4, rsi 21, threshold 70, ema 15  \n",
       " 2023     n 4, rsi 21, threshold 70, ema 15  \n",
       " 2024     n 4, rsi 21, threshold 70, ema 15  \n",
       " Overall  n 4, rsi 21, threshold 70, ema 15  }"
      ]
     },
     "execution_count": 39,
     "metadata": {},
     "output_type": "execute_result"
    }
   ],
   "source": [
    "stats_dictionary"
   ]
  },
  {
   "cell_type": "code",
   "execution_count": null,
   "id": "6fcc4b32-2e9b-449d-9553-928008a7ab9e",
   "metadata": {},
   "outputs": [],
   "source": []
  }
 ],
 "metadata": {
  "kernelspec": {
   "display_name": "Python 3 (ipykernel)",
   "language": "python",
   "name": "python3"
  },
  "language_info": {
   "codemirror_mode": {
    "name": "ipython",
    "version": 3
   },
   "file_extension": ".py",
   "mimetype": "text/x-python",
   "name": "python",
   "nbconvert_exporter": "python",
   "pygments_lexer": "ipython3",
   "version": "3.11.6"
  }
 },
 "nbformat": 4,
 "nbformat_minor": 5
}
