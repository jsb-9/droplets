{
 "cells": [
  {
   "cell_type": "code",
   "execution_count": 1,
   "id": "9d2b7737-29c0-4e9c-81be-22f308a58551",
   "metadata": {
    "execution": {
     "iopub.execute_input": "2024-12-29T12:54:21.319785Z",
     "iopub.status.busy": "2024-12-29T12:54:21.318677Z",
     "iopub.status.idle": "2024-12-29T12:54:22.925674Z",
     "shell.execute_reply": "2024-12-29T12:54:22.924584Z",
     "shell.execute_reply.started": "2024-12-29T12:54:21.319746Z"
    }
   },
   "outputs": [],
   "source": [
    "import asyncio\n",
    "import datetime as dt\n",
    "import math\n",
    "from typing import Literal\n",
    "\n",
    "import matplotlib.pyplot as plt\n",
    "import mplfinance as mpf\n",
    "import numpy as np\n",
    "import pandas as pd\n",
    "import pandas_market_calendars as mcal\n",
    "import plotly.graph_objects as go\n",
    "import polars as pl\n",
    "from dash import Dash, dcc, html\n",
    "from plotly.subplots import make_subplots\n",
    "\n",
    "nse = mcal.get_calendar(\"NSE\")"
   ]
  },
  {
   "cell_type": "code",
   "execution_count": 2,
   "id": "122c4272-78d2-402b-8130-c4551b666fd9",
   "metadata": {
    "execution": {
     "iopub.execute_input": "2024-12-29T12:54:24.908398Z",
     "iopub.status.busy": "2024-12-29T12:54:24.907943Z",
     "iopub.status.idle": "2024-12-29T12:54:24.913970Z",
     "shell.execute_reply": "2024-12-29T12:54:24.912956Z",
     "shell.execute_reply.started": "2024-12-29T12:54:24.908378Z"
    }
   },
   "outputs": [],
   "source": [
    "pd.set_option(\"display.max_rows\", 25_000)\n",
    "pd.set_option(\"display.max_columns\", 500)\n",
    "pl.Config.set_tbl_cols(500)\n",
    "pl.Config.set_tbl_rows(10_000)\n",
    "\n",
    "pd.options.display.float_format = \"{:.4f}\".format"
   ]
  },
  {
   "cell_type": "code",
   "execution_count": 3,
   "id": "51a40e28-776d-4d4f-943c-360eaa4a03a4",
   "metadata": {
    "execution": {
     "iopub.execute_input": "2024-12-29T12:54:29.537179Z",
     "iopub.status.busy": "2024-12-29T12:54:29.536479Z",
     "iopub.status.idle": "2024-12-29T12:54:29.816322Z",
     "shell.execute_reply": "2024-12-29T12:54:29.815049Z",
     "shell.execute_reply.started": "2024-12-29T12:54:29.537157Z"
    }
   },
   "outputs": [],
   "source": [
    "import sys\n",
    "\n",
    "sys.path.append(\"..\")\n",
    "from tooling.enums import AssetClass, Index, Spot, StrikeSpread\n",
    "from tooling.fetch import fetch_option_data, fetch_spot_data\n",
    "from tooling.filter import find_atm, option_tool"
   ]
  },
  {
   "cell_type": "code",
   "execution_count": 4,
   "id": "3214a842-62b8-4f5b-9d0a-867108139d2b",
   "metadata": {
    "execution": {
     "iopub.execute_input": "2024-12-29T12:54:32.735868Z",
     "iopub.status.busy": "2024-12-29T12:54:32.735330Z",
     "iopub.status.idle": "2024-12-29T12:54:32.750972Z",
     "shell.execute_reply": "2024-12-29T12:54:32.749924Z",
     "shell.execute_reply.started": "2024-12-29T12:54:32.735847Z"
    }
   },
   "outputs": [],
   "source": [
    "async def get_expiry(f_today, index):\n",
    "\n",
    "    if index == 'bnf':    \n",
    "        if (f_today <= dt.date(2024, 1, 25)) and (f_today >= dt.date(2024, 1, 18)):\n",
    "            f_expiry = dt.date(2024, 1, 25)\n",
    "        elif (f_today <= dt.date(2024, 1, 31)) and (f_today >= dt.date(2024, 1, 26)):\n",
    "            f_expiry = dt.date(2024, 1, 31)\n",
    "        elif (f_today <= dt.date(2024, 2, 22)) and (f_today >= dt.date(2024, 2, 29)):\n",
    "            f_expiry = dt.date(2024, 2, 29)\n",
    "        elif (f_today <= dt.date(2024, 3, 25)) and (f_today >= dt.date(2024, 3, 27)):\n",
    "            f_expiry = dt.date(2024, 2, 27)\n",
    "        elif f_today < dt.date(2023, 9, 1):\n",
    "            days_to_thursday = (3 - f_today.weekday()) % 7\n",
    "            nearest_thursday = f_today + dt.timedelta(days=days_to_thursday)\n",
    "            f_expiry = nearest_thursday\n",
    "            if nse.valid_days(start_date=nearest_thursday, end_date=nearest_thursday).empty:\n",
    "                f_expiry = nearest_thursday - dt.timedelta(days=1)\n",
    "        elif f_today >= dt.date(2023, 9, 1):\n",
    "            if f_today.day < 24:\n",
    "                days_to_wednesday = (2 - f_today.weekday()) % 7\n",
    "                nearest_wednesday = f_today + dt.timedelta(days=days_to_wednesday)\n",
    "                f_expiry = nearest_wednesday\n",
    "                if nse.valid_days(\n",
    "                    start_date=nearest_wednesday, end_date=nearest_wednesday\n",
    "                ).empty:\n",
    "                    f_expiry = nearest_wednesday - dt.timedelta(days=1)\n",
    "            else:\n",
    "                days_to_thursday = (3 - f_today.weekday()) % 7\n",
    "                nearest_thursday = f_today + dt.timedelta(days=days_to_thursday)\n",
    "                f_expiry = nearest_thursday\n",
    "                if nse.valid_days(\n",
    "                    start_date=nearest_thursday, end_date=nearest_thursday\n",
    "                ).empty:\n",
    "                    f_expiry = nearest_thursday - dt.timedelta(days=1)\n",
    "        return f_expiry\n",
    "\n",
    "    elif index == 'nifty':\n",
    "        days_to_thursday = (3 - f_today.weekday()) % 7\n",
    "        nearest_thursday = f_today + dt.timedelta(days=days_to_thursday)\n",
    "        f_expiry = nearest_thursday\n",
    "        if nse.valid_days(start_date=nearest_thursday, end_date=nearest_thursday).empty:\n",
    "            f_expiry = nearest_thursday - dt.timedelta(days=1)\n",
    "        return f_expiry\n",
    "\n",
    "    elif index == 'finnifty' or index == 'fnf':\n",
    "        days_to_thursday = (1 - f_today.weekday()) % 7\n",
    "        nearest_thursday = f_today + dt.timedelta(days=days_to_thursday)\n",
    "        f_expiry = nearest_thursday\n",
    "        if nse.valid_days(start_date=nearest_thursday, end_date=nearest_thursday).empty:\n",
    "            f_expiry = nearest_thursday - dt.timedelta(days=1)\n",
    "        return f_expiry\n",
    "\n",
    "    elif index == 'midcpnifty' or index == 'midcp':\n",
    "        days_to_thursday = (0 - f_today.weekday()) % 7\n",
    "        nearest_thursday = f_today + dt.timedelta(days=days_to_thursday)\n",
    "        f_expiry = nearest_thursday\n",
    "        if nse.valid_days(start_date=nearest_thursday, end_date=nearest_thursday).empty:\n",
    "            f_expiry = nearest_thursday - dt.timedelta(days=1)\n",
    "        return f_expiry\n",
    "\n",
    "async def get_expiry_nifty(f_today):\n",
    "\n",
    "    days_to_thursday = (3 - f_today.weekday()) % 7\n",
    "    nearest_thursday = f_today + dt.timedelta(days=days_to_thursday)\n",
    "    f_expiry = nearest_thursday\n",
    "    if nse.valid_days(start_date=nearest_thursday, end_date=nearest_thursday).empty:\n",
    "        f_expiry = nearest_thursday - dt.timedelta(days=1)\n",
    "    return f_expiry\n",
    "\n",
    "\n",
    "async def get_option_contract_name(symbol, strike, expiry, opt_type):\n",
    "    temp = \"0\"\n",
    "    mth = expiry.month\n",
    "\n",
    "    if (expiry + dt.timedelta(days=7)).month != expiry.month:\n",
    "        date_string = expiry.strftime(\"%y%b\").upper()\n",
    "        return f\"{symbol}{date_string}{strike}{opt_type}\"\n",
    "    else:\n",
    "        if expiry.day <= 9:\n",
    "            date_string = f\"{expiry.year - 2000}{mth}{temp}{expiry.day}\"\n",
    "        else:\n",
    "            date_string = f\"{expiry.year - 2000}{mth}{expiry.day}\"\n",
    "        return f\"{symbol}{date_string}{strike}{opt_type}\"\n",
    "\n",
    "\n",
    "def get_option_contract_name2(symbol, strike, expiry, opt_type):\n",
    "    temp = \"0\"\n",
    "    mth = expiry.month\n",
    "\n",
    "    if (expiry + dt.timedelta(days=7)).month != expiry.month:\n",
    "        date_string = expiry.strftime(\"%y%b\").upper()\n",
    "        return f\"{symbol}{date_string}{strike}{opt_type}\"\n",
    "    else:\n",
    "        if expiry.day <= 9:\n",
    "            date_string = f\"{expiry.year - 2000}{mth}{temp}{expiry.day}\"\n",
    "        else:\n",
    "            date_string = f\"{expiry.year - 2000}{mth}{expiry.day}\"\n",
    "        return f\"{symbol}{date_string}{strike}{opt_type}\""
   ]
  },
  {
   "cell_type": "code",
   "execution_count": 5,
   "id": "2e857451-f1ad-41b1-af19-a411065430d2",
   "metadata": {
    "execution": {
     "iopub.execute_input": "2024-12-29T12:54:38.093459Z",
     "iopub.status.busy": "2024-12-29T12:54:38.093135Z",
     "iopub.status.idle": "2024-12-29T12:54:38.246070Z",
     "shell.execute_reply": "2024-12-29T12:54:38.244805Z",
     "shell.execute_reply.started": "2024-12-29T12:54:38.093436Z"
    }
   },
   "outputs": [],
   "source": [
    "bnf_1min = pd.read_csv(\"../data/bnf_wave.csv\")\n",
    "bnf_1min[\"datetime\"] = pd.to_datetime(bnf_1min[\"time\"])\n",
    "bnf_1min = bnf_1min[bnf_1min[\"datetime\"].dt.year >= 2017]"
   ]
  },
  {
   "cell_type": "code",
   "execution_count": 6,
   "id": "48a36159-0175-4478-9873-2b497f0d1b64",
   "metadata": {
    "execution": {
     "iopub.execute_input": "2024-12-29T12:54:43.403249Z",
     "iopub.status.busy": "2024-12-29T12:54:43.402715Z",
     "iopub.status.idle": "2024-12-29T12:54:43.434126Z",
     "shell.execute_reply": "2024-12-29T12:54:43.433126Z",
     "shell.execute_reply.started": "2024-12-29T12:54:43.403227Z"
    }
   },
   "outputs": [
    {
     "data": {
      "text/html": [
       "<div>\n",
       "<style scoped>\n",
       "    .dataframe tbody tr th:only-of-type {\n",
       "        vertical-align: middle;\n",
       "    }\n",
       "\n",
       "    .dataframe tbody tr th {\n",
       "        vertical-align: top;\n",
       "    }\n",
       "\n",
       "    .dataframe thead th {\n",
       "        text-align: right;\n",
       "    }\n",
       "</style>\n",
       "<table border=\"1\" class=\"dataframe\">\n",
       "  <thead>\n",
       "    <tr style=\"text-align: right;\">\n",
       "      <th></th>\n",
       "      <th>time</th>\n",
       "      <th>open</th>\n",
       "      <th>high</th>\n",
       "      <th>low</th>\n",
       "      <th>close</th>\n",
       "      <th>MA</th>\n",
       "      <th>Plot</th>\n",
       "      <th>Zero line</th>\n",
       "      <th>MACD Signal</th>\n",
       "      <th>datetime</th>\n",
       "    </tr>\n",
       "  </thead>\n",
       "  <tbody>\n",
       "    <tr>\n",
       "      <th>22214</th>\n",
       "      <td>2024-12-05T11:45:00+05:30</td>\n",
       "      <td>53037.0000</td>\n",
       "      <td>53507.1000</td>\n",
       "      <td>52998.8500</td>\n",
       "      <td>53484.5000</td>\n",
       "      <td>53167.1400</td>\n",
       "      <td>204.1806</td>\n",
       "      <td>0</td>\n",
       "      <td>204.1806</td>\n",
       "      <td>2024-12-05 11:45:00+05:30</td>\n",
       "    </tr>\n",
       "    <tr>\n",
       "      <th>22215</th>\n",
       "      <td>2024-12-05T12:15:00+05:30</td>\n",
       "      <td>53475.8000</td>\n",
       "      <td>53647.8000</td>\n",
       "      <td>53472.6500</td>\n",
       "      <td>53521.0500</td>\n",
       "      <td>53191.2367</td>\n",
       "      <td>270.8858</td>\n",
       "      <td>0</td>\n",
       "      <td>270.8858</td>\n",
       "      <td>2024-12-05 12:15:00+05:30</td>\n",
       "    </tr>\n",
       "    <tr>\n",
       "      <th>22216</th>\n",
       "      <td>2024-12-05T12:45:00+05:30</td>\n",
       "      <td>53523.2500</td>\n",
       "      <td>53621.1000</td>\n",
       "      <td>53452.6500</td>\n",
       "      <td>53609.9500</td>\n",
       "      <td>53230.6600</td>\n",
       "      <td>327.7843</td>\n",
       "      <td>0</td>\n",
       "      <td>327.7843</td>\n",
       "      <td>2024-12-05 12:45:00+05:30</td>\n",
       "    </tr>\n",
       "    <tr>\n",
       "      <th>22217</th>\n",
       "      <td>2024-12-05T13:15:00+05:30</td>\n",
       "      <td>53614.8000</td>\n",
       "      <td>53642.3500</td>\n",
       "      <td>53461.3500</td>\n",
       "      <td>53598.9000</td>\n",
       "      <td>53269.0200</td>\n",
       "      <td>351.5606</td>\n",
       "      <td>0</td>\n",
       "      <td>351.5606</td>\n",
       "      <td>2024-12-05 13:15:00+05:30</td>\n",
       "    </tr>\n",
       "    <tr>\n",
       "      <th>22218</th>\n",
       "      <td>2024-12-05T13:45:00+05:30</td>\n",
       "      <td>53599.7500</td>\n",
       "      <td>53640.9000</td>\n",
       "      <td>53560.0000</td>\n",
       "      <td>53564.1500</td>\n",
       "      <td>53299.1367</td>\n",
       "      <td>348.2676</td>\n",
       "      <td>0</td>\n",
       "      <td>348.2676</td>\n",
       "      <td>2024-12-05 13:45:00+05:30</td>\n",
       "    </tr>\n",
       "  </tbody>\n",
       "</table>\n",
       "</div>"
      ],
      "text/plain": [
       "                            time       open       high        low      close  \\\n",
       "22214  2024-12-05T11:45:00+05:30 53037.0000 53507.1000 52998.8500 53484.5000   \n",
       "22215  2024-12-05T12:15:00+05:30 53475.8000 53647.8000 53472.6500 53521.0500   \n",
       "22216  2024-12-05T12:45:00+05:30 53523.2500 53621.1000 53452.6500 53609.9500   \n",
       "22217  2024-12-05T13:15:00+05:30 53614.8000 53642.3500 53461.3500 53598.9000   \n",
       "22218  2024-12-05T13:45:00+05:30 53599.7500 53640.9000 53560.0000 53564.1500   \n",
       "\n",
       "              MA     Plot  Zero line  MACD Signal                  datetime  \n",
       "22214 53167.1400 204.1806          0     204.1806 2024-12-05 11:45:00+05:30  \n",
       "22215 53191.2367 270.8858          0     270.8858 2024-12-05 12:15:00+05:30  \n",
       "22216 53230.6600 327.7843          0     327.7843 2024-12-05 12:45:00+05:30  \n",
       "22217 53269.0200 351.5606          0     351.5606 2024-12-05 13:15:00+05:30  \n",
       "22218 53299.1367 348.2676          0     348.2676 2024-12-05 13:45:00+05:30  "
      ]
     },
     "execution_count": 6,
     "metadata": {},
     "output_type": "execute_result"
    }
   ],
   "source": [
    "bnf_1min.tail()"
   ]
  },
  {
   "cell_type": "code",
   "execution_count": 7,
   "id": "4ef48017-caf2-4c38-8cad-888ad3695b83",
   "metadata": {
    "execution": {
     "iopub.execute_input": "2024-12-29T12:54:48.317614Z",
     "iopub.status.busy": "2024-12-29T12:54:48.317106Z",
     "iopub.status.idle": "2024-12-29T12:54:48.324354Z",
     "shell.execute_reply": "2024-12-29T12:54:48.323071Z",
     "shell.execute_reply.started": "2024-12-29T12:54:48.317584Z"
    }
   },
   "outputs": [],
   "source": [
    "def resample(\n",
    "    data: pl.DataFrame, timeframe, offset: dt.timedelta | None = None\n",
    ") -> pl.DataFrame:\n",
    "    return (\n",
    "        data.set_sorted(\"datetime\")\n",
    "        .group_by_dynamic(\n",
    "            index_column=\"datetime\",\n",
    "            every=timeframe,\n",
    "            period=timeframe,\n",
    "            label=\"left\",\n",
    "            offset=offset,\n",
    "        )\n",
    "        .agg(\n",
    "            [\n",
    "                pl.col(\"open\").first().alias(\"open\"),\n",
    "                pl.col(\"high\").max().alias(\"high\"),\n",
    "                pl.col(\"low\").min().alias(\"low\"),\n",
    "                pl.col(\"close\").last().alias(\"close\"),\n",
    "                pl.col(\"volume\").sum().alias(\"volume\"),\n",
    "            ]\n",
    "        )\n",
    "    )\n",
    "\n",
    "\n",
    "# ohlc_resampled = resample(pl.DataFrame(bnf_1min), '7d', pd.Timedelta(days=4))\n",
    "# ohlc_resampled"
   ]
  },
  {
   "cell_type": "code",
   "execution_count": 8,
   "id": "6251bee5-31c3-4cab-8031-dc8bb109d126",
   "metadata": {
    "execution": {
     "iopub.execute_input": "2024-12-29T12:54:54.090882Z",
     "iopub.status.busy": "2024-12-29T12:54:54.090409Z",
     "iopub.status.idle": "2024-12-29T12:54:54.124780Z",
     "shell.execute_reply": "2024-12-29T12:54:54.123547Z",
     "shell.execute_reply.started": "2024-12-29T12:54:54.090860Z"
    },
    "scrolled": true
   },
   "outputs": [
    {
     "data": {
      "text/plain": [
       "{datetime.date(2024, 7, 30),\n",
       " datetime.date(2019, 7, 25),\n",
       " datetime.date(2020, 4, 8),\n",
       " datetime.date(2021, 2, 12),\n",
       " datetime.date(2019, 8, 30),\n",
       " datetime.date(2019, 2, 15),\n",
       " datetime.date(2021, 4, 19),\n",
       " datetime.date(2020, 11, 23),\n",
       " datetime.date(2020, 2, 18),\n",
       " datetime.date(2020, 7, 27),\n",
       " datetime.date(2023, 8, 9),\n",
       " datetime.date(2022, 10, 19),\n",
       " datetime.date(2020, 10, 15),\n",
       " datetime.date(2024, 1, 24),\n",
       " datetime.date(2022, 8, 19),\n",
       " datetime.date(2024, 6, 24),\n",
       " datetime.date(2023, 11, 22),\n",
       " datetime.date(2019, 1, 1),\n",
       " datetime.date(2021, 12, 31),\n",
       " datetime.date(2021, 12, 30),\n",
       " datetime.date(2020, 7, 23),\n",
       " datetime.date(2019, 1, 23),\n",
       " datetime.date(2018, 12, 21),\n",
       " datetime.date(2018, 9, 7),\n",
       " datetime.date(2021, 3, 8),\n",
       " datetime.date(2020, 9, 8),\n",
       " datetime.date(2018, 11, 5),\n",
       " datetime.date(2019, 3, 29),\n",
       " datetime.date(2024, 11, 1),\n",
       " datetime.date(2021, 2, 11),\n",
       " datetime.date(2020, 4, 16),\n",
       " datetime.date(2022, 8, 26),\n",
       " datetime.date(2023, 9, 14),\n",
       " datetime.date(2018, 11, 27),\n",
       " datetime.date(2020, 3, 9),\n",
       " datetime.date(2020, 9, 7),\n",
       " datetime.date(2024, 8, 26),\n",
       " datetime.date(2019, 11, 29),\n",
       " datetime.date(2023, 4, 5),\n",
       " datetime.date(2020, 9, 4),\n",
       " datetime.date(2023, 10, 25),\n",
       " datetime.date(2023, 10, 26),\n",
       " datetime.date(2018, 6, 20),\n",
       " datetime.date(2020, 4, 7),\n",
       " datetime.date(2020, 6, 29),\n",
       " datetime.date(2019, 2, 28),\n",
       " datetime.date(2018, 9, 25),\n",
       " datetime.date(2023, 9, 28),\n",
       " datetime.date(2023, 6, 23),\n",
       " datetime.date(2023, 12, 15),\n",
       " datetime.date(2020, 6, 25),\n",
       " datetime.date(2024, 10, 24),\n",
       " datetime.date(2022, 2, 11),\n",
       " datetime.date(2018, 10, 9),\n",
       " datetime.date(2022, 9, 14),\n",
       " datetime.date(2023, 12, 20),\n",
       " datetime.date(2021, 11, 30),\n",
       " datetime.date(2019, 11, 14),\n",
       " datetime.date(2024, 5, 22),\n",
       " datetime.date(2023, 2, 27),\n",
       " datetime.date(2018, 10, 11),\n",
       " datetime.date(2024, 5, 21),\n",
       " datetime.date(2022, 3, 24),\n",
       " datetime.date(2021, 9, 24),\n",
       " datetime.date(2018, 11, 15),\n",
       " datetime.date(2024, 9, 3),\n",
       " datetime.date(2020, 8, 3),\n",
       " datetime.date(2023, 2, 15),\n",
       " datetime.date(2022, 5, 2),\n",
       " datetime.date(2018, 11, 28),\n",
       " datetime.date(2020, 7, 21),\n",
       " datetime.date(2024, 9, 2),\n",
       " datetime.date(2024, 10, 10),\n",
       " datetime.date(2019, 6, 10),\n",
       " datetime.date(2020, 3, 17),\n",
       " datetime.date(2018, 6, 22),\n",
       " datetime.date(2019, 10, 29),\n",
       " datetime.date(2022, 6, 6),\n",
       " datetime.date(2021, 12, 24),\n",
       " datetime.date(2021, 7, 13),\n",
       " datetime.date(2019, 3, 12),\n",
       " datetime.date(2020, 1, 27),\n",
       " datetime.date(2018, 9, 12),\n",
       " datetime.date(2024, 11, 12),\n",
       " datetime.date(2021, 3, 26),\n",
       " datetime.date(2021, 2, 18),\n",
       " datetime.date(2018, 5, 14),\n",
       " datetime.date(2021, 2, 3),\n",
       " datetime.date(2024, 6, 25),\n",
       " datetime.date(2018, 1, 16),\n",
       " datetime.date(2018, 11, 30),\n",
       " datetime.date(2021, 4, 15),\n",
       " datetime.date(2024, 7, 9),\n",
       " datetime.date(2023, 12, 28),\n",
       " datetime.date(2022, 2, 3),\n",
       " datetime.date(2024, 7, 22),\n",
       " datetime.date(2018, 2, 7),\n",
       " datetime.date(2021, 1, 25),\n",
       " datetime.date(2024, 8, 5),\n",
       " datetime.date(2018, 9, 24),\n",
       " datetime.date(2019, 2, 22),\n",
       " datetime.date(2021, 9, 20),\n",
       " datetime.date(2024, 2, 7),\n",
       " datetime.date(2023, 12, 11),\n",
       " datetime.date(2021, 7, 12),\n",
       " datetime.date(2020, 5, 28),\n",
       " datetime.date(2023, 1, 20),\n",
       " datetime.date(2018, 4, 24),\n",
       " datetime.date(2021, 7, 16),\n",
       " datetime.date(2021, 10, 27),\n",
       " datetime.date(2019, 1, 16),\n",
       " datetime.date(2019, 1, 17),\n",
       " datetime.date(2020, 3, 31),\n",
       " datetime.date(2018, 2, 8),\n",
       " datetime.date(2022, 9, 15),\n",
       " datetime.date(2022, 11, 3),\n",
       " datetime.date(2022, 8, 2),\n",
       " datetime.date(2022, 4, 27),\n",
       " datetime.date(2018, 8, 9),\n",
       " datetime.date(2024, 3, 7),\n",
       " datetime.date(2023, 9, 25),\n",
       " datetime.date(2018, 12, 17),\n",
       " datetime.date(2023, 11, 17),\n",
       " datetime.date(2022, 12, 7),\n",
       " datetime.date(2019, 1, 28),\n",
       " datetime.date(2021, 2, 22),\n",
       " datetime.date(2020, 8, 7),\n",
       " datetime.date(2021, 11, 23),\n",
       " datetime.date(2024, 9, 19),\n",
       " datetime.date(2018, 10, 26),\n",
       " datetime.date(2021, 6, 16),\n",
       " datetime.date(2021, 10, 19),\n",
       " datetime.date(2021, 9, 30),\n",
       " datetime.date(2020, 8, 13),\n",
       " datetime.date(2024, 11, 19),\n",
       " datetime.date(2019, 3, 8),\n",
       " datetime.date(2022, 12, 20),\n",
       " datetime.date(2021, 4, 6),\n",
       " datetime.date(2020, 1, 16),\n",
       " datetime.date(2018, 7, 27),\n",
       " datetime.date(2019, 8, 8),\n",
       " datetime.date(2020, 5, 20),\n",
       " datetime.date(2022, 1, 17),\n",
       " datetime.date(2022, 4, 21),\n",
       " datetime.date(2021, 6, 3),\n",
       " datetime.date(2023, 5, 26),\n",
       " datetime.date(2021, 8, 30),\n",
       " datetime.date(2019, 8, 2),\n",
       " datetime.date(2021, 1, 8),\n",
       " datetime.date(2022, 8, 5),\n",
       " datetime.date(2021, 1, 13),\n",
       " datetime.date(2024, 6, 7),\n",
       " datetime.date(2021, 10, 28),\n",
       " datetime.date(2023, 3, 22),\n",
       " datetime.date(2018, 10, 5),\n",
       " datetime.date(2018, 2, 26),\n",
       " datetime.date(2024, 10, 15),\n",
       " datetime.date(2021, 6, 28),\n",
       " datetime.date(2019, 9, 26),\n",
       " datetime.date(2020, 8, 21),\n",
       " datetime.date(2018, 2, 1),\n",
       " datetime.date(2019, 4, 8),\n",
       " datetime.date(2018, 10, 25),\n",
       " datetime.date(2024, 1, 30),\n",
       " datetime.date(2022, 2, 25),\n",
       " datetime.date(2024, 8, 16),\n",
       " datetime.date(2019, 4, 11),\n",
       " datetime.date(2021, 9, 9),\n",
       " datetime.date(2018, 5, 24),\n",
       " datetime.date(2020, 12, 23),\n",
       " datetime.date(2021, 3, 25),\n",
       " datetime.date(2018, 10, 17),\n",
       " datetime.date(2022, 12, 13),\n",
       " datetime.date(2021, 2, 10),\n",
       " datetime.date(2023, 11, 10),\n",
       " datetime.date(2023, 1, 17),\n",
       " datetime.date(2018, 7, 9),\n",
       " datetime.date(2020, 12, 18),\n",
       " datetime.date(2022, 6, 2),\n",
       " datetime.date(2024, 6, 5),\n",
       " datetime.date(2020, 9, 11),\n",
       " datetime.date(2022, 10, 31),\n",
       " datetime.date(2019, 9, 27),\n",
       " datetime.date(2021, 1, 4),\n",
       " datetime.date(2019, 6, 20),\n",
       " datetime.date(2023, 10, 10),\n",
       " datetime.date(2021, 9, 21),\n",
       " datetime.date(2019, 8, 21),\n",
       " datetime.date(2021, 12, 3),\n",
       " datetime.date(2024, 1, 29),\n",
       " datetime.date(2022, 12, 30),\n",
       " datetime.date(2023, 2, 22),\n",
       " datetime.date(2024, 9, 26),\n",
       " datetime.date(2022, 11, 24),\n",
       " datetime.date(2024, 3, 18),\n",
       " datetime.date(2024, 7, 29),\n",
       " datetime.date(2024, 2, 8),\n",
       " datetime.date(2018, 8, 14),\n",
       " datetime.date(2019, 12, 18),\n",
       " datetime.date(2020, 10, 28),\n",
       " datetime.date(2021, 3, 12),\n",
       " datetime.date(2021, 2, 26),\n",
       " datetime.date(2018, 12, 10),\n",
       " datetime.date(2018, 4, 4),\n",
       " datetime.date(2020, 7, 14),\n",
       " datetime.date(2023, 10, 20),\n",
       " datetime.date(2021, 3, 31),\n",
       " datetime.date(2018, 12, 31),\n",
       " datetime.date(2023, 12, 5),\n",
       " datetime.date(2019, 5, 27),\n",
       " datetime.date(2021, 1, 21),\n",
       " datetime.date(2022, 1, 18),\n",
       " datetime.date(2018, 4, 20),\n",
       " datetime.date(2019, 5, 31),\n",
       " datetime.date(2023, 10, 4),\n",
       " datetime.date(2022, 3, 28),\n",
       " datetime.date(2023, 12, 1),\n",
       " datetime.date(2020, 1, 17),\n",
       " datetime.date(2020, 11, 20),\n",
       " datetime.date(2021, 5, 7),\n",
       " datetime.date(2023, 4, 19),\n",
       " datetime.date(2024, 1, 18),\n",
       " datetime.date(2021, 9, 16),\n",
       " datetime.date(2023, 1, 27),\n",
       " datetime.date(2024, 5, 18),\n",
       " datetime.date(2021, 3, 5),\n",
       " datetime.date(2022, 5, 5),\n",
       " datetime.date(2021, 9, 29),\n",
       " datetime.date(2023, 5, 19),\n",
       " datetime.date(2018, 2, 14),\n",
       " datetime.date(2022, 5, 23),\n",
       " datetime.date(2021, 1, 19),\n",
       " datetime.date(2019, 7, 11),\n",
       " datetime.date(2021, 2, 23),\n",
       " datetime.date(2024, 3, 11),\n",
       " datetime.date(2019, 7, 10),\n",
       " datetime.date(2020, 10, 20),\n",
       " datetime.date(2021, 4, 20),\n",
       " datetime.date(2024, 5, 24),\n",
       " datetime.date(2018, 5, 17),\n",
       " datetime.date(2024, 9, 24),\n",
       " datetime.date(2021, 12, 9),\n",
       " datetime.date(2021, 7, 27),\n",
       " datetime.date(2020, 7, 24),\n",
       " datetime.date(2019, 3, 11),\n",
       " datetime.date(2022, 7, 26),\n",
       " datetime.date(2018, 6, 14),\n",
       " datetime.date(2019, 6, 14),\n",
       " datetime.date(2020, 1, 28),\n",
       " datetime.date(2022, 2, 16),\n",
       " datetime.date(2020, 12, 21),\n",
       " datetime.date(2018, 2, 12),\n",
       " datetime.date(2019, 1, 2),\n",
       " datetime.date(2019, 11, 21),\n",
       " datetime.date(2022, 7, 25),\n",
       " datetime.date(2020, 8, 27),\n",
       " datetime.date(2022, 7, 8),\n",
       " datetime.date(2021, 11, 24),\n",
       " datetime.date(2024, 4, 4),\n",
       " datetime.date(2018, 9, 19),\n",
       " datetime.date(2020, 3, 2),\n",
       " datetime.date(2021, 11, 9),\n",
       " datetime.date(2024, 10, 30),\n",
       " datetime.date(2021, 4, 28),\n",
       " datetime.date(2023, 10, 17),\n",
       " datetime.date(2018, 8, 8),\n",
       " datetime.date(2019, 5, 2),\n",
       " datetime.date(2020, 11, 9),\n",
       " datetime.date(2021, 3, 17),\n",
       " datetime.date(2024, 3, 12),\n",
       " datetime.date(2024, 8, 29),\n",
       " datetime.date(2018, 1, 5),\n",
       " datetime.date(2022, 8, 11),\n",
       " datetime.date(2024, 9, 23),\n",
       " datetime.date(2019, 1, 31),\n",
       " datetime.date(2020, 11, 2),\n",
       " datetime.date(2018, 9, 14),\n",
       " datetime.date(2020, 4, 20),\n",
       " datetime.date(2022, 4, 26),\n",
       " datetime.date(2023, 2, 1),\n",
       " datetime.date(2021, 5, 21),\n",
       " datetime.date(2024, 4, 15),\n",
       " datetime.date(2021, 6, 30),\n",
       " datetime.date(2018, 11, 20),\n",
       " datetime.date(2022, 10, 24),\n",
       " datetime.date(2019, 11, 18),\n",
       " datetime.date(2022, 1, 21),\n",
       " datetime.date(2021, 11, 3),\n",
       " datetime.date(2022, 9, 9),\n",
       " datetime.date(2022, 3, 25),\n",
       " datetime.date(2018, 8, 29),\n",
       " datetime.date(2023, 12, 14),\n",
       " datetime.date(2020, 1, 3),\n",
       " datetime.date(2024, 2, 23),\n",
       " datetime.date(2019, 12, 5),\n",
       " datetime.date(2020, 3, 16),\n",
       " datetime.date(2018, 8, 30),\n",
       " datetime.date(2019, 5, 24),\n",
       " datetime.date(2020, 11, 19),\n",
       " datetime.date(2022, 12, 15),\n",
       " datetime.date(2021, 8, 10),\n",
       " datetime.date(2018, 2, 21),\n",
       " datetime.date(2023, 11, 29),\n",
       " datetime.date(2023, 3, 24),\n",
       " datetime.date(2024, 4, 30),\n",
       " datetime.date(2021, 11, 8),\n",
       " datetime.date(2024, 7, 10),\n",
       " datetime.date(2020, 5, 22),\n",
       " datetime.date(2024, 1, 31),\n",
       " datetime.date(2018, 5, 15),\n",
       " datetime.date(2020, 12, 9),\n",
       " datetime.date(2021, 5, 18),\n",
       " datetime.date(2022, 11, 10),\n",
       " datetime.date(2018, 4, 6),\n",
       " datetime.date(2022, 11, 1),\n",
       " datetime.date(2019, 4, 1),\n",
       " datetime.date(2024, 2, 1),\n",
       " datetime.date(2023, 7, 31),\n",
       " datetime.date(2019, 10, 1),\n",
       " datetime.date(2019, 2, 12),\n",
       " datetime.date(2023, 4, 6),\n",
       " datetime.date(2024, 5, 29),\n",
       " datetime.date(2020, 10, 8),\n",
       " datetime.date(2019, 4, 23),\n",
       " datetime.date(2018, 3, 12),\n",
       " datetime.date(2021, 8, 2),\n",
       " datetime.date(2023, 10, 16),\n",
       " datetime.date(2024, 9, 11),\n",
       " datetime.date(2022, 7, 14),\n",
       " datetime.date(2019, 9, 24),\n",
       " datetime.date(2019, 4, 22),\n",
       " datetime.date(2021, 6, 25),\n",
       " datetime.date(2023, 6, 30),\n",
       " datetime.date(2023, 1, 6),\n",
       " datetime.date(2018, 10, 24),\n",
       " datetime.date(2019, 8, 1),\n",
       " datetime.date(2018, 5, 4),\n",
       " datetime.date(2023, 6, 19),\n",
       " datetime.date(2018, 6, 26),\n",
       " datetime.date(2021, 5, 24),\n",
       " datetime.date(2023, 3, 9),\n",
       " datetime.date(2018, 11, 1),\n",
       " datetime.date(2019, 3, 14),\n",
       " datetime.date(2020, 6, 9),\n",
       " datetime.date(2022, 2, 21),\n",
       " datetime.date(2022, 7, 4),\n",
       " datetime.date(2023, 4, 24),\n",
       " datetime.date(2020, 2, 20),\n",
       " datetime.date(2023, 10, 6),\n",
       " datetime.date(2022, 3, 22),\n",
       " datetime.date(2022, 9, 27),\n",
       " datetime.date(2022, 9, 6),\n",
       " datetime.date(2021, 8, 25),\n",
       " datetime.date(2023, 11, 9),\n",
       " datetime.date(2021, 5, 31),\n",
       " datetime.date(2020, 11, 5),\n",
       " datetime.date(2018, 10, 12),\n",
       " datetime.date(2019, 5, 21),\n",
       " datetime.date(2019, 7, 3),\n",
       " datetime.date(2018, 4, 19),\n",
       " datetime.date(2022, 6, 24),\n",
       " datetime.date(2020, 3, 20),\n",
       " datetime.date(2021, 3, 22),\n",
       " datetime.date(2018, 4, 17),\n",
       " datetime.date(2018, 4, 30),\n",
       " datetime.date(2020, 10, 6),\n",
       " datetime.date(2019, 2, 4),\n",
       " datetime.date(2023, 10, 11),\n",
       " datetime.date(2023, 10, 19),\n",
       " datetime.date(2023, 1, 31),\n",
       " datetime.date(2019, 1, 11),\n",
       " datetime.date(2020, 1, 24),\n",
       " datetime.date(2021, 8, 17),\n",
       " datetime.date(2024, 7, 4),\n",
       " datetime.date(2020, 7, 30),\n",
       " datetime.date(2022, 11, 23),\n",
       " datetime.date(2024, 4, 22),\n",
       " datetime.date(2019, 8, 16),\n",
       " datetime.date(2024, 10, 29),\n",
       " datetime.date(2022, 4, 12),\n",
       " datetime.date(2023, 3, 1),\n",
       " datetime.date(2024, 10, 8),\n",
       " datetime.date(2024, 6, 21),\n",
       " datetime.date(2022, 1, 28),\n",
       " datetime.date(2019, 8, 22),\n",
       " datetime.date(2022, 7, 29),\n",
       " datetime.date(2019, 8, 27),\n",
       " datetime.date(2023, 12, 27),\n",
       " datetime.date(2021, 8, 26),\n",
       " datetime.date(2021, 7, 20),\n",
       " datetime.date(2022, 11, 11),\n",
       " datetime.date(2023, 7, 6),\n",
       " datetime.date(2024, 9, 20),\n",
       " datetime.date(2023, 9, 20),\n",
       " datetime.date(2023, 11, 12),\n",
       " datetime.date(2019, 5, 14),\n",
       " datetime.date(2018, 5, 16),\n",
       " datetime.date(2022, 4, 13),\n",
       " datetime.date(2022, 10, 17),\n",
       " datetime.date(2022, 7, 27),\n",
       " datetime.date(2023, 3, 8),\n",
       " datetime.date(2021, 3, 16),\n",
       " datetime.date(2022, 2, 28),\n",
       " datetime.date(2022, 4, 19),\n",
       " datetime.date(2022, 7, 19),\n",
       " datetime.date(2020, 1, 6),\n",
       " datetime.date(2024, 5, 7),\n",
       " datetime.date(2024, 6, 14),\n",
       " datetime.date(2021, 12, 29),\n",
       " datetime.date(2019, 10, 25),\n",
       " datetime.date(2019, 2, 7),\n",
       " datetime.date(2022, 3, 17),\n",
       " datetime.date(2018, 5, 28),\n",
       " datetime.date(2024, 1, 8),\n",
       " datetime.date(2020, 6, 17),\n",
       " datetime.date(2018, 3, 13),\n",
       " datetime.date(2019, 8, 13),\n",
       " datetime.date(2024, 10, 18),\n",
       " datetime.date(2019, 3, 20),\n",
       " datetime.date(2019, 6, 3),\n",
       " datetime.date(2023, 9, 21),\n",
       " datetime.date(2022, 3, 30),\n",
       " datetime.date(2024, 6, 26),\n",
       " datetime.date(2020, 3, 30),\n",
       " datetime.date(2024, 11, 8),\n",
       " datetime.date(2019, 2, 21),\n",
       " datetime.date(2020, 1, 15),\n",
       " datetime.date(2024, 4, 25),\n",
       " datetime.date(2021, 2, 8),\n",
       " datetime.date(2022, 7, 1),\n",
       " datetime.date(2021, 11, 22),\n",
       " datetime.date(2023, 11, 24),\n",
       " datetime.date(2021, 2, 24),\n",
       " datetime.date(2019, 12, 10),\n",
       " datetime.date(2021, 7, 26),\n",
       " datetime.date(2018, 9, 5),\n",
       " datetime.date(2022, 1, 27),\n",
       " datetime.date(2022, 5, 20),\n",
       " datetime.date(2021, 6, 1),\n",
       " datetime.date(2023, 10, 5),\n",
       " datetime.date(2023, 11, 15),\n",
       " datetime.date(2018, 3, 7),\n",
       " datetime.date(2018, 8, 6),\n",
       " datetime.date(2023, 5, 22),\n",
       " datetime.date(2018, 10, 4),\n",
       " datetime.date(2024, 10, 23),\n",
       " datetime.date(2021, 10, 5),\n",
       " datetime.date(2023, 2, 14),\n",
       " datetime.date(2023, 5, 3),\n",
       " datetime.date(2020, 8, 24),\n",
       " datetime.date(2018, 7, 13),\n",
       " datetime.date(2020, 1, 22),\n",
       " datetime.date(2023, 11, 3),\n",
       " datetime.date(2024, 1, 15),\n",
       " datetime.date(2020, 7, 31),\n",
       " datetime.date(2023, 6, 5),\n",
       " datetime.date(2018, 10, 22),\n",
       " datetime.date(2022, 10, 20),\n",
       " datetime.date(2018, 5, 29),\n",
       " datetime.date(2022, 4, 28),\n",
       " datetime.date(2019, 4, 18),\n",
       " datetime.date(2022, 7, 28),\n",
       " datetime.date(2018, 8, 13),\n",
       " datetime.date(2024, 6, 6),\n",
       " datetime.date(2024, 7, 16),\n",
       " datetime.date(2018, 3, 26),\n",
       " datetime.date(2020, 8, 17),\n",
       " datetime.date(2023, 9, 8),\n",
       " datetime.date(2020, 6, 8),\n",
       " datetime.date(2021, 8, 12),\n",
       " datetime.date(2021, 9, 6),\n",
       " datetime.date(2023, 8, 7),\n",
       " datetime.date(2018, 9, 6),\n",
       " datetime.date(2023, 2, 2),\n",
       " datetime.date(2021, 12, 17),\n",
       " datetime.date(2020, 2, 13),\n",
       " datetime.date(2023, 8, 1),\n",
       " datetime.date(2019, 8, 26),\n",
       " datetime.date(2019, 8, 9),\n",
       " datetime.date(2022, 4, 20),\n",
       " datetime.date(2023, 4, 27),\n",
       " datetime.date(2022, 4, 25),\n",
       " datetime.date(2022, 9, 29),\n",
       " datetime.date(2024, 4, 5),\n",
       " datetime.date(2022, 11, 4),\n",
       " datetime.date(2019, 7, 23),\n",
       " datetime.date(2024, 7, 11),\n",
       " datetime.date(2024, 8, 14),\n",
       " datetime.date(2018, 8, 20),\n",
       " datetime.date(2019, 8, 23),\n",
       " datetime.date(2021, 4, 22),\n",
       " datetime.date(2019, 3, 25),\n",
       " datetime.date(2023, 7, 13),\n",
       " datetime.date(2022, 5, 17),\n",
       " datetime.date(2022, 6, 1),\n",
       " datetime.date(2019, 5, 15),\n",
       " datetime.date(2021, 7, 29),\n",
       " datetime.date(2023, 9, 22),\n",
       " datetime.date(2024, 3, 26),\n",
       " datetime.date(2024, 4, 8),\n",
       " datetime.date(2018, 2, 19),\n",
       " datetime.date(2022, 2, 10),\n",
       " datetime.date(2022, 1, 14),\n",
       " datetime.date(2023, 2, 23),\n",
       " datetime.date(2024, 5, 8),\n",
       " datetime.date(2022, 5, 19),\n",
       " datetime.date(2022, 8, 23),\n",
       " datetime.date(2021, 8, 31),\n",
       " datetime.date(2023, 9, 4),\n",
       " datetime.date(2024, 4, 26),\n",
       " datetime.date(2022, 11, 7),\n",
       " datetime.date(2024, 3, 6),\n",
       " datetime.date(2024, 9, 13),\n",
       " datetime.date(2023, 1, 16),\n",
       " datetime.date(2024, 1, 17),\n",
       " datetime.date(2018, 12, 18),\n",
       " datetime.date(2020, 6, 15),\n",
       " datetime.date(2020, 8, 12),\n",
       " datetime.date(2024, 2, 28),\n",
       " datetime.date(2024, 7, 26),\n",
       " datetime.date(2020, 8, 25),\n",
       " datetime.date(2019, 10, 3),\n",
       " datetime.date(2024, 10, 11),\n",
       " datetime.date(2021, 8, 20),\n",
       " datetime.date(2018, 12, 3),\n",
       " datetime.date(2024, 4, 9),\n",
       " datetime.date(2021, 3, 30),\n",
       " datetime.date(2022, 11, 21),\n",
       " datetime.date(2023, 6, 9),\n",
       " datetime.date(2022, 6, 17),\n",
       " datetime.date(2022, 9, 5),\n",
       " datetime.date(2023, 8, 11),\n",
       " datetime.date(2022, 6, 20),\n",
       " datetime.date(2021, 7, 1),\n",
       " datetime.date(2024, 5, 6),\n",
       " datetime.date(2021, 5, 12),\n",
       " datetime.date(2023, 11, 20),\n",
       " datetime.date(2018, 9, 18),\n",
       " datetime.date(2024, 1, 3),\n",
       " datetime.date(2022, 1, 25),\n",
       " datetime.date(2018, 2, 15),\n",
       " datetime.date(2018, 10, 19),\n",
       " datetime.date(2021, 12, 27),\n",
       " datetime.date(2018, 5, 23),\n",
       " datetime.date(2018, 12, 28),\n",
       " datetime.date(2024, 7, 18),\n",
       " datetime.date(2018, 1, 8),\n",
       " datetime.date(2018, 9, 11),\n",
       " datetime.date(2024, 9, 6),\n",
       " datetime.date(2021, 11, 11),\n",
       " datetime.date(2024, 11, 14),\n",
       " datetime.date(2022, 5, 26),\n",
       " datetime.date(2022, 12, 26),\n",
       " datetime.date(2019, 11, 25),\n",
       " datetime.date(2020, 6, 23),\n",
       " datetime.date(2021, 11, 4),\n",
       " datetime.date(2022, 3, 8),\n",
       " datetime.date(2024, 1, 12),\n",
       " datetime.date(2020, 4, 30),\n",
       " datetime.date(2020, 6, 12),\n",
       " datetime.date(2024, 2, 16),\n",
       " datetime.date(2020, 1, 30),\n",
       " datetime.date(2019, 3, 22),\n",
       " datetime.date(2023, 5, 11),\n",
       " datetime.date(2021, 12, 7),\n",
       " datetime.date(2024, 10, 4),\n",
       " datetime.date(2023, 4, 3),\n",
       " datetime.date(2024, 5, 30),\n",
       " datetime.date(2024, 2, 6),\n",
       " datetime.date(2024, 6, 20),\n",
       " datetime.date(2021, 11, 29),\n",
       " datetime.date(2021, 5, 6),\n",
       " datetime.date(2021, 3, 2),\n",
       " datetime.date(2023, 7, 21),\n",
       " datetime.date(2018, 4, 9),\n",
       " datetime.date(2019, 1, 7),\n",
       " datetime.date(2022, 9, 19),\n",
       " datetime.date(2021, 4, 7),\n",
       " datetime.date(2018, 12, 24),\n",
       " datetime.date(2022, 10, 14),\n",
       " datetime.date(2022, 4, 18),\n",
       " datetime.date(2022, 11, 25),\n",
       " datetime.date(2020, 7, 10),\n",
       " datetime.date(2022, 5, 13),\n",
       " datetime.date(2019, 12, 3),\n",
       " datetime.date(2022, 12, 8),\n",
       " datetime.date(2018, 3, 1),\n",
       " datetime.date(2019, 2, 14),\n",
       " datetime.date(2018, 7, 18),\n",
       " datetime.date(2020, 7, 1),\n",
       " datetime.date(2023, 11, 30),\n",
       " datetime.date(2021, 7, 9),\n",
       " datetime.date(2022, 2, 23),\n",
       " datetime.date(2018, 7, 16),\n",
       " datetime.date(2022, 8, 25),\n",
       " datetime.date(2019, 7, 17),\n",
       " datetime.date(2024, 3, 5),\n",
       " datetime.date(2020, 1, 31),\n",
       " datetime.date(2019, 5, 7),\n",
       " datetime.date(2020, 7, 9),\n",
       " datetime.date(2018, 3, 6),\n",
       " datetime.date(2019, 5, 30),\n",
       " datetime.date(2022, 9, 8),\n",
       " datetime.date(2018, 11, 19),\n",
       " datetime.date(2023, 3, 13),\n",
       " datetime.date(2018, 11, 2),\n",
       " datetime.date(2024, 1, 4),\n",
       " datetime.date(2024, 1, 16),\n",
       " datetime.date(2018, 10, 10),\n",
       " datetime.date(2018, 9, 28),\n",
       " datetime.date(2020, 3, 3),\n",
       " datetime.date(2020, 4, 21),\n",
       " datetime.date(2024, 2, 2),\n",
       " datetime.date(2022, 4, 7),\n",
       " datetime.date(2024, 8, 21),\n",
       " datetime.date(2022, 1, 7),\n",
       " datetime.date(2024, 3, 27),\n",
       " datetime.date(2022, 1, 11),\n",
       " datetime.date(2024, 10, 1),\n",
       " datetime.date(2024, 10, 21),\n",
       " datetime.date(2024, 11, 6),\n",
       " datetime.date(2021, 2, 16),\n",
       " datetime.date(2020, 8, 31),\n",
       " datetime.date(2018, 7, 26),\n",
       " datetime.date(2018, 8, 7),\n",
       " datetime.date(2022, 5, 31),\n",
       " datetime.date(2022, 4, 8),\n",
       " datetime.date(2020, 5, 14),\n",
       " datetime.date(2022, 10, 13),\n",
       " datetime.date(2023, 3, 31),\n",
       " datetime.date(2021, 12, 16),\n",
       " datetime.date(2019, 11, 20),\n",
       " datetime.date(2020, 10, 23),\n",
       " datetime.date(2024, 11, 27),\n",
       " datetime.date(2018, 8, 1),\n",
       " datetime.date(2022, 9, 2),\n",
       " datetime.date(2023, 2, 7),\n",
       " datetime.date(2021, 6, 4),\n",
       " datetime.date(2018, 11, 29),\n",
       " datetime.date(2021, 4, 8),\n",
       " datetime.date(2023, 1, 23),\n",
       " datetime.date(2018, 3, 8),\n",
       " datetime.date(2020, 4, 27),\n",
       " datetime.date(2020, 9, 9),\n",
       " datetime.date(2018, 6, 15),\n",
       " datetime.date(2020, 9, 24),\n",
       " datetime.date(2023, 2, 3),\n",
       " datetime.date(2023, 2, 17),\n",
       " datetime.date(2021, 6, 9),\n",
       " datetime.date(2020, 2, 1),\n",
       " datetime.date(2020, 12, 28),\n",
       " datetime.date(2019, 1, 8),\n",
       " datetime.date(2018, 2, 27),\n",
       " datetime.date(2023, 11, 16),\n",
       " datetime.date(2018, 2, 20),\n",
       " datetime.date(2022, 4, 4),\n",
       " datetime.date(2023, 1, 9),\n",
       " datetime.date(2021, 6, 22),\n",
       " datetime.date(2019, 1, 18),\n",
       " datetime.date(2019, 6, 18),\n",
       " datetime.date(2019, 5, 8),\n",
       " datetime.date(2019, 5, 10),\n",
       " datetime.date(2020, 6, 5),\n",
       " datetime.date(2021, 9, 27),\n",
       " datetime.date(2022, 10, 21),\n",
       " datetime.date(2023, 6, 12),\n",
       " datetime.date(2024, 1, 25),\n",
       " datetime.date(2019, 10, 31),\n",
       " datetime.date(2023, 7, 17),\n",
       " datetime.date(2022, 2, 9),\n",
       " datetime.date(2020, 9, 1),\n",
       " datetime.date(2019, 1, 9),\n",
       " datetime.date(2019, 12, 2),\n",
       " datetime.date(2021, 8, 3),\n",
       " datetime.date(2023, 2, 16),\n",
       " datetime.date(2019, 12, 23),\n",
       " datetime.date(2021, 1, 7),\n",
       " datetime.date(2023, 12, 4),\n",
       " datetime.date(2023, 1, 13),\n",
       " datetime.date(2019, 9, 23),\n",
       " datetime.date(2024, 9, 18),\n",
       " datetime.date(2020, 12, 11),\n",
       " datetime.date(2019, 3, 18),\n",
       " datetime.date(2024, 3, 15),\n",
       " datetime.date(2018, 7, 31),\n",
       " datetime.date(2024, 8, 28),\n",
       " datetime.date(2019, 10, 18),\n",
       " datetime.date(2020, 2, 10),\n",
       " datetime.date(2023, 4, 21),\n",
       " datetime.date(2024, 3, 22),\n",
       " datetime.date(2021, 1, 11),\n",
       " datetime.date(2022, 5, 27),\n",
       " datetime.date(2023, 5, 9),\n",
       " datetime.date(2022, 10, 25),\n",
       " datetime.date(2018, 7, 6),\n",
       " datetime.date(2018, 1, 10),\n",
       " datetime.date(2019, 11, 7),\n",
       " datetime.date(2018, 12, 4),\n",
       " datetime.date(2021, 12, 23),\n",
       " datetime.date(2020, 4, 17),\n",
       " datetime.date(2018, 10, 30),\n",
       " datetime.date(2019, 5, 28),\n",
       " datetime.date(2019, 10, 9),\n",
       " datetime.date(2020, 7, 20),\n",
       " datetime.date(2023, 5, 8),\n",
       " datetime.date(2021, 6, 21),\n",
       " datetime.date(2018, 1, 29),\n",
       " datetime.date(2019, 2, 8),\n",
       " datetime.date(2023, 4, 28),\n",
       " datetime.date(2019, 1, 15),\n",
       " datetime.date(2020, 12, 1),\n",
       " datetime.date(2018, 1, 30),\n",
       " datetime.date(2019, 6, 7),\n",
       " datetime.date(2018, 2, 22),\n",
       " datetime.date(2020, 1, 9),\n",
       " datetime.date(2023, 8, 28),\n",
       " datetime.date(2022, 12, 21),\n",
       " datetime.date(2019, 4, 12),\n",
       " datetime.date(2018, 12, 6),\n",
       " datetime.date(2019, 10, 27),\n",
       " datetime.date(2024, 6, 19),\n",
       " datetime.date(2020, 6, 26),\n",
       " datetime.date(2018, 6, 25),\n",
       " datetime.date(2022, 7, 18),\n",
       " datetime.date(2024, 9, 10),\n",
       " datetime.date(2021, 9, 28),\n",
       " datetime.date(2023, 8, 14),\n",
       " datetime.date(2020, 1, 10),\n",
       " datetime.date(2022, 2, 14),\n",
       " datetime.date(2022, 9, 12),\n",
       " datetime.date(2024, 7, 12),\n",
       " datetime.date(2018, 7, 23),\n",
       " datetime.date(2018, 3, 28),\n",
       " datetime.date(2022, 8, 30),\n",
       " datetime.date(2018, 8, 24),\n",
       " datetime.date(2018, 1, 25),\n",
       " datetime.date(2021, 1, 27),\n",
       " datetime.date(2020, 1, 21),\n",
       " datetime.date(2023, 4, 25),\n",
       " datetime.date(2024, 1, 11),\n",
       " datetime.date(2023, 5, 5),\n",
       " datetime.date(2020, 6, 10),\n",
       " datetime.date(2024, 3, 19),\n",
       " datetime.date(2022, 7, 12),\n",
       " datetime.date(2020, 1, 7),\n",
       " datetime.date(2024, 10, 28),\n",
       " datetime.date(2023, 3, 17),\n",
       " datetime.date(2018, 11, 14),\n",
       " datetime.date(2023, 2, 20),\n",
       " datetime.date(2019, 10, 7),\n",
       " datetime.date(2019, 3, 13),\n",
       " datetime.date(2018, 4, 16),\n",
       " datetime.date(2023, 7, 11),\n",
       " datetime.date(2024, 8, 22),\n",
       " datetime.date(2020, 2, 24),\n",
       " datetime.date(2020, 9, 16),\n",
       " datetime.date(2022, 11, 14),\n",
       " datetime.date(2020, 12, 10),\n",
       " datetime.date(2018, 2, 23),\n",
       " datetime.date(2022, 6, 21),\n",
       " datetime.date(2024, 5, 16),\n",
       " datetime.date(2020, 3, 24),\n",
       " datetime.date(2022, 9, 13),\n",
       " datetime.date(2021, 1, 1),\n",
       " datetime.date(2023, 10, 9),\n",
       " datetime.date(2018, 4, 2),\n",
       " datetime.date(2021, 12, 15),\n",
       " datetime.date(2023, 12, 13),\n",
       " datetime.date(2022, 12, 28),\n",
       " datetime.date(2022, 4, 22),\n",
       " datetime.date(2018, 5, 30),\n",
       " datetime.date(2023, 5, 12),\n",
       " datetime.date(2021, 10, 1),\n",
       " datetime.date(2022, 12, 23),\n",
       " datetime.date(2024, 12, 3),\n",
       " datetime.date(2024, 1, 2),\n",
       " datetime.date(2020, 4, 9),\n",
       " datetime.date(2021, 6, 7),\n",
       " datetime.date(2019, 4, 24),\n",
       " datetime.date(2023, 6, 21),\n",
       " datetime.date(2022, 2, 15),\n",
       " datetime.date(2018, 10, 16),\n",
       " datetime.date(2022, 8, 12),\n",
       " datetime.date(2024, 6, 4),\n",
       " datetime.date(2020, 8, 18),\n",
       " datetime.date(2019, 7, 18),\n",
       " datetime.date(2019, 5, 13),\n",
       " datetime.date(2024, 5, 14),\n",
       " datetime.date(2024, 8, 12),\n",
       " datetime.date(2019, 11, 13),\n",
       " datetime.date(2019, 10, 16),\n",
       " datetime.date(2020, 11, 4),\n",
       " datetime.date(2020, 10, 9),\n",
       " datetime.date(2024, 3, 20),\n",
       " datetime.date(2023, 2, 6),\n",
       " datetime.date(2022, 6, 27),\n",
       " datetime.date(2020, 5, 19),\n",
       " datetime.date(2022, 6, 14),\n",
       " datetime.date(2018, 8, 3),\n",
       " datetime.date(2020, 4, 24),\n",
       " datetime.date(2022, 1, 6),\n",
       " datetime.date(2019, 3, 7),\n",
       " datetime.date(2024, 12, 2),\n",
       " datetime.date(2019, 4, 15),\n",
       " datetime.date(2023, 9, 5),\n",
       " datetime.date(2020, 12, 22),\n",
       " datetime.date(2023, 11, 8),\n",
       " datetime.date(2023, 1, 5),\n",
       " datetime.date(2022, 12, 5),\n",
       " datetime.date(2023, 10, 30),\n",
       " datetime.date(2019, 7, 26),\n",
       " datetime.date(2020, 10, 27),\n",
       " datetime.date(2019, 10, 22),\n",
       " datetime.date(2019, 9, 19),\n",
       " datetime.date(2023, 7, 4),\n",
       " datetime.date(2020, 5, 12),\n",
       " datetime.date(2019, 2, 25),\n",
       " datetime.date(2018, 5, 31),\n",
       " datetime.date(2020, 12, 17),\n",
       " datetime.date(2022, 8, 4),\n",
       " datetime.date(2021, 3, 15),\n",
       " datetime.date(2020, 9, 23),\n",
       " datetime.date(2021, 5, 19),\n",
       " datetime.date(2024, 1, 20),\n",
       " datetime.date(2018, 7, 11),\n",
       " datetime.date(2018, 12, 12),\n",
       " datetime.date(2018, 2, 28),\n",
       " datetime.date(2019, 6, 17),\n",
       " datetime.date(2019, 12, 30),\n",
       " datetime.date(2020, 7, 13),\n",
       " datetime.date(2024, 4, 18),\n",
       " datetime.date(2020, 5, 11),\n",
       " datetime.date(2018, 11, 22),\n",
       " datetime.date(2020, 2, 3),\n",
       " datetime.date(2020, 2, 11),\n",
       " datetime.date(2023, 8, 21),\n",
       " datetime.date(2018, 12, 13),\n",
       " datetime.date(2021, 4, 23),\n",
       " datetime.date(2019, 7, 16),\n",
       " datetime.date(2023, 3, 16),\n",
       " datetime.date(2024, 9, 9),\n",
       " datetime.date(2020, 2, 19),\n",
       " datetime.date(2019, 5, 3),\n",
       " datetime.date(2019, 7, 8),\n",
       " datetime.date(2019, 4, 16),\n",
       " datetime.date(2023, 2, 10),\n",
       " datetime.date(2018, 6, 7),\n",
       " datetime.date(2020, 6, 16),\n",
       " datetime.date(2019, 3, 19),\n",
       " datetime.date(2020, 5, 29),\n",
       " datetime.date(2021, 12, 10),\n",
       " datetime.date(2021, 6, 24),\n",
       " datetime.date(2021, 4, 12),\n",
       " datetime.date(2020, 2, 6),\n",
       " datetime.date(2022, 3, 14),\n",
       " datetime.date(2023, 11, 23),\n",
       " datetime.date(2021, 1, 12),\n",
       " datetime.date(2020, 10, 13),\n",
       " datetime.date(2018, 3, 23),\n",
       " datetime.date(2021, 9, 3),\n",
       " datetime.date(2021, 12, 8),\n",
       " datetime.date(2023, 6, 8),\n",
       " datetime.date(2019, 7, 1),\n",
       " datetime.date(2020, 1, 2),\n",
       " datetime.date(2018, 4, 26),\n",
       " datetime.date(2021, 4, 1),\n",
       " datetime.date(2019, 9, 17),\n",
       " datetime.date(2020, 2, 14),\n",
       " datetime.date(2022, 7, 13),\n",
       " datetime.date(2019, 9, 30),\n",
       " datetime.date(2018, 4, 13),\n",
       " datetime.date(2024, 8, 7),\n",
       " datetime.date(2018, 7, 20),\n",
       " datetime.date(2022, 9, 26),\n",
       " datetime.date(2022, 2, 7),\n",
       " datetime.date(2022, 5, 6),\n",
       " datetime.date(2023, 11, 28),\n",
       " datetime.date(2021, 7, 14),\n",
       " datetime.date(2020, 8, 11),\n",
       " datetime.date(2023, 12, 8),\n",
       " datetime.date(2024, 1, 10),\n",
       " datetime.date(2020, 6, 3),\n",
       " datetime.date(2023, 6, 28),\n",
       " datetime.date(2021, 2, 2),\n",
       " datetime.date(2018, 2, 2),\n",
       " datetime.date(2023, 4, 20),\n",
       " datetime.date(2024, 11, 21),\n",
       " datetime.date(2018, 1, 24),\n",
       " datetime.date(2023, 1, 25),\n",
       " datetime.date(2019, 12, 27),\n",
       " datetime.date(2023, 7, 25),\n",
       " datetime.date(2019, 7, 19),\n",
       " datetime.date(2020, 11, 14),\n",
       " datetime.date(2019, 6, 21),\n",
       " datetime.date(2024, 10, 31),\n",
       " datetime.date(2018, 2, 5),\n",
       " datetime.date(2022, 1, 3),\n",
       " datetime.date(2019, 4, 26),\n",
       " datetime.date(2018, 6, 28),\n",
       " datetime.date(2019, 8, 28),\n",
       " datetime.date(2019, 8, 5),\n",
       " datetime.date(2022, 6, 10),\n",
       " datetime.date(2024, 10, 14),\n",
       " datetime.date(2020, 9, 28),\n",
       " datetime.date(2024, 7, 19),\n",
       " datetime.date(2022, 3, 31),\n",
       " datetime.date(2023, 3, 10),\n",
       " datetime.date(2023, 5, 25),\n",
       " datetime.date(2024, 5, 17),\n",
       " datetime.date(2022, 1, 12),\n",
       " datetime.date(2021, 12, 28),\n",
       " datetime.date(2018, 4, 23),\n",
       " datetime.date(2024, 2, 20),\n",
       " datetime.date(2024, 9, 12),\n",
       " datetime.date(2021, 4, 13),\n",
       " datetime.date(2018, 8, 2),\n",
       " datetime.date(2019, 8, 29),\n",
       " datetime.date(2024, 5, 10),\n",
       " datetime.date(2018, 1, 2),\n",
       " datetime.date(2024, 4, 3),\n",
       " datetime.date(2023, 8, 17),\n",
       " datetime.date(2023, 5, 18),\n",
       " datetime.date(2020, 11, 26),\n",
       " datetime.date(2019, 12, 17),\n",
       " datetime.date(2023, 9, 7),\n",
       " datetime.date(2021, 12, 1),\n",
       " datetime.date(2020, 3, 13),\n",
       " datetime.date(2020, 1, 13),\n",
       " datetime.date(2019, 11, 11),\n",
       " datetime.date(2021, 9, 22),\n",
       " datetime.date(2020, 5, 5),\n",
       " datetime.date(2021, 6, 14),\n",
       " datetime.date(2022, 10, 6),\n",
       " datetime.date(2020, 7, 22),\n",
       " datetime.date(2021, 1, 20),\n",
       " datetime.date(2023, 6, 27),\n",
       " datetime.date(2020, 7, 15),\n",
       " datetime.date(2020, 11, 11),\n",
       " datetime.date(2020, 11, 17),\n",
       " datetime.date(2023, 7, 27),\n",
       " datetime.date(2022, 8, 8),\n",
       " datetime.date(2019, 2, 26),\n",
       " datetime.date(2022, 3, 11),\n",
       " datetime.date(2021, 1, 22),\n",
       " datetime.date(2021, 5, 5),\n",
       " datetime.date(2022, 3, 29),\n",
       " datetime.date(2018, 12, 27),\n",
       " datetime.date(2022, 2, 22),\n",
       " datetime.date(2022, 4, 1),\n",
       " datetime.date(2021, 11, 12),\n",
       " datetime.date(2022, 11, 16),\n",
       " datetime.date(2019, 5, 23),\n",
       " datetime.date(2020, 8, 10),\n",
       " datetime.date(2018, 5, 7),\n",
       " datetime.date(2021, 9, 15),\n",
       " datetime.date(2021, 10, 7),\n",
       " datetime.date(2020, 7, 2),\n",
       " datetime.date(2019, 8, 6),\n",
       " datetime.date(2021, 1, 18),\n",
       " datetime.date(2018, 12, 5),\n",
       " datetime.date(2023, 10, 23),\n",
       " datetime.date(2019, 12, 4),\n",
       " datetime.date(2020, 4, 3),\n",
       " datetime.date(2021, 8, 16),\n",
       " datetime.date(2020, 3, 23),\n",
       " datetime.date(2018, 4, 12),\n",
       " datetime.date(2021, 8, 4),\n",
       " datetime.date(2020, 11, 6),\n",
       " datetime.date(2018, 10, 3),\n",
       " datetime.date(2018, 3, 14),\n",
       " datetime.date(2024, 7, 3),\n",
       " datetime.date(2019, 7, 30),\n",
       " datetime.date(2023, 6, 1),\n",
       " datetime.date(2024, 2, 19),\n",
       " datetime.date(2019, 7, 22),\n",
       " datetime.date(2018, 6, 5),\n",
       " datetime.date(2018, 7, 3),\n",
       " datetime.date(2023, 6, 15),\n",
       " datetime.date(2018, 6, 4),\n",
       " datetime.date(2019, 1, 24),\n",
       " datetime.date(2020, 5, 26),\n",
       " datetime.date(2021, 1, 29),\n",
       " datetime.date(2021, 3, 18),\n",
       " datetime.date(2024, 4, 2),\n",
       " datetime.date(2024, 6, 13),\n",
       " datetime.date(2024, 11, 22),\n",
       " datetime.date(2021, 5, 28),\n",
       " datetime.date(2023, 11, 7),\n",
       " datetime.date(2023, 5, 23),\n",
       " datetime.date(2023, 9, 1),\n",
       " datetime.date(2018, 5, 11),\n",
       " datetime.date(2022, 1, 13),\n",
       " datetime.date(2023, 10, 31),\n",
       " datetime.date(2023, 4, 17),\n",
       " datetime.date(2019, 1, 21),\n",
       " datetime.date(2021, 5, 17),\n",
       " datetime.date(2022, 10, 7),\n",
       " datetime.date(2024, 10, 3),\n",
       " datetime.date(2024, 6, 11),\n",
       " datetime.date(2019, 1, 14),\n",
       " ...}"
      ]
     },
     "execution_count": 8,
     "metadata": {},
     "output_type": "execute_result"
    }
   ],
   "source": [
    "bnf_1min[\"datetime\"] = pd.to_datetime(bnf_1min[\"datetime\"])\n",
    "list_of_traded_dates = set(bnf_1min[\"datetime\"].dt.date)\n",
    "list_of_traded_dates"
   ]
  },
  {
   "cell_type": "code",
   "execution_count": 10,
   "id": "f8a3f408-5cca-4b47-acb9-1b26931f0f61",
   "metadata": {
    "execution": {
     "iopub.execute_input": "2024-12-29T12:55:01.721061Z",
     "iopub.status.busy": "2024-12-29T12:55:01.720730Z",
     "iopub.status.idle": "2024-12-29T12:55:01.725753Z",
     "shell.execute_reply": "2024-12-29T12:55:01.724856Z",
     "shell.execute_reply.started": "2024-12-29T12:55:01.721042Z"
    }
   },
   "outputs": [],
   "source": [
    "PORTFOLIO_VALUE = 10_00_000 # 10 Lacs\n",
    "# RPT_PCT = 0.01 # 1% RPT\n",
    "SLIPPAGE_ = 0.0001\n",
    "LEVERAGE_ = 5"
   ]
  },
  {
   "cell_type": "code",
   "execution_count": 529,
   "id": "d292f1ac-6b82-4ef2-8404-c8738c87113a",
   "metadata": {
    "execution": {
     "iopub.execute_input": "2024-12-29T14:21:02.770262Z",
     "iopub.status.busy": "2024-12-29T14:21:02.769825Z",
     "iopub.status.idle": "2024-12-29T14:21:02.778197Z",
     "shell.execute_reply": "2024-12-29T14:21:02.776982Z",
     "shell.execute_reply.started": "2024-12-29T14:21:02.770243Z"
    }
   },
   "outputs": [],
   "source": [
    "import pandas as pd\n",
    "\n",
    "def calculate_signals(df, n, rsi_period, rsi_overbought, ema_length):\n",
    "    # Calculate RSI\n",
    "    def calculate_rsi(series, period):\n",
    "        # Calculate the price changes\n",
    "        delta = series.diff()\n",
    "    \n",
    "        # Separate gains and losses\n",
    "        gain = delta.where(delta > 0, 0)\n",
    "        loss = -delta.where(delta < 0, 0)\n",
    "    \n",
    "        # Calculate the first average gain and loss (Simple Moving Average for the first period)\n",
    "        avg_gain = gain.rolling(window=period, min_periods=period).mean()\n",
    "        avg_loss = loss.rolling(window=period, min_periods=period).mean()\n",
    "    \n",
    "        # Calculate the subsequent smoothed averages (similar to EMA)\n",
    "        for i in range(period, len(series)):\n",
    "            avg_gain.iloc[i] = (avg_gain.iloc[i - 1] * (period - 1) + gain.iloc[i]) / period\n",
    "            avg_loss.iloc[i] = (avg_loss.iloc[i - 1] * (period - 1) + loss.iloc[i]) / period\n",
    "    \n",
    "        # Calculate the Relative Strength (RS) and the RSI\n",
    "        rs = avg_gain / avg_loss\n",
    "        rsi = 100 - (100 / (1 + rs))\n",
    "    \n",
    "        return rsi\n",
    "\n",
    "    # Apply the TradingView-style RSI calculation\n",
    "    df['RSI'] = calculate_rsi(df['close'], rsi_period)\n",
    "\n",
    "    # Calculate the previous n candles' low\n",
    "    df['Prev_N_Low'] = df['low'].rolling(window=n).min().shift(1)\n",
    "    df['ema'] = df['close'].ewm(span=ema_length, adjust=False).mean()\n",
    "\n",
    "    # Signal generation logic\n",
    "    df['Sell_Signal'] = (\n",
    "        (df['close'] < df['Prev_N_Low']) &\n",
    "        (df['RSI'] > rsi_overbought)\n",
    "    )\n",
    "\n",
    "    return df"
   ]
  },
  {
   "cell_type": "code",
   "execution_count": 530,
   "id": "8a584c2a-417b-4657-98f7-3ef36c6604c9",
   "metadata": {
    "execution": {
     "iopub.execute_input": "2024-12-29T14:21:08.339627Z",
     "iopub.status.busy": "2024-12-29T14:21:08.339265Z",
     "iopub.status.idle": "2024-12-29T14:21:08.351794Z",
     "shell.execute_reply": "2024-12-29T14:21:08.350676Z",
     "shell.execute_reply.started": "2024-12-29T14:21:08.339607Z"
    }
   },
   "outputs": [
    {
     "data": {
      "text/html": [
       "<div>\n",
       "<style scoped>\n",
       "    .dataframe tbody tr th:only-of-type {\n",
       "        vertical-align: middle;\n",
       "    }\n",
       "\n",
       "    .dataframe tbody tr th {\n",
       "        vertical-align: top;\n",
       "    }\n",
       "\n",
       "    .dataframe thead th {\n",
       "        text-align: right;\n",
       "    }\n",
       "</style>\n",
       "<table border=\"1\" class=\"dataframe\">\n",
       "  <thead>\n",
       "    <tr style=\"text-align: right;\">\n",
       "      <th></th>\n",
       "      <th>time</th>\n",
       "      <th>open</th>\n",
       "      <th>high</th>\n",
       "      <th>low</th>\n",
       "      <th>close</th>\n",
       "      <th>MA</th>\n",
       "      <th>Plot</th>\n",
       "      <th>Zero line</th>\n",
       "      <th>MACD Signal</th>\n",
       "      <th>datetime</th>\n",
       "      <th>RSI</th>\n",
       "      <th>Prev_N_Low</th>\n",
       "      <th>ema</th>\n",
       "      <th>Sell_Signal</th>\n",
       "    </tr>\n",
       "  </thead>\n",
       "  <tbody>\n",
       "    <tr>\n",
       "      <th>0</th>\n",
       "      <td>2018-01-01T09:15:00+05:30</td>\n",
       "      <td>25566.4500</td>\n",
       "      <td>25588.0000</td>\n",
       "      <td>25496.5500</td>\n",
       "      <td>25551.5000</td>\n",
       "      <td>NaN</td>\n",
       "      <td>NaN</td>\n",
       "      <td>0</td>\n",
       "      <td>NaN</td>\n",
       "      <td>2018-01-01 09:15:00+05:30</td>\n",
       "      <td>NaN</td>\n",
       "      <td>NaN</td>\n",
       "      <td>25551.5000</td>\n",
       "      <td>False</td>\n",
       "    </tr>\n",
       "    <tr>\n",
       "      <th>1</th>\n",
       "      <td>2018-01-01T09:45:00+05:30</td>\n",
       "      <td>25551.7000</td>\n",
       "      <td>25574.2500</td>\n",
       "      <td>25537.1500</td>\n",
       "      <td>25561.5000</td>\n",
       "      <td>NaN</td>\n",
       "      <td>NaN</td>\n",
       "      <td>0</td>\n",
       "      <td>NaN</td>\n",
       "      <td>2018-01-01 09:45:00+05:30</td>\n",
       "      <td>NaN</td>\n",
       "      <td>NaN</td>\n",
       "      <td>25553.3182</td>\n",
       "      <td>False</td>\n",
       "    </tr>\n",
       "    <tr>\n",
       "      <th>2</th>\n",
       "      <td>2018-01-01T10:15:00+05:30</td>\n",
       "      <td>25563.6500</td>\n",
       "      <td>25573.2500</td>\n",
       "      <td>25541.4000</td>\n",
       "      <td>25554.0500</td>\n",
       "      <td>NaN</td>\n",
       "      <td>NaN</td>\n",
       "      <td>0</td>\n",
       "      <td>NaN</td>\n",
       "      <td>2018-01-01 10:15:00+05:30</td>\n",
       "      <td>NaN</td>\n",
       "      <td>NaN</td>\n",
       "      <td>25553.4512</td>\n",
       "      <td>False</td>\n",
       "    </tr>\n",
       "    <tr>\n",
       "      <th>3</th>\n",
       "      <td>2018-01-01T10:45:00+05:30</td>\n",
       "      <td>25556.3000</td>\n",
       "      <td>25562.6500</td>\n",
       "      <td>25545.0500</td>\n",
       "      <td>25552.6500</td>\n",
       "      <td>NaN</td>\n",
       "      <td>NaN</td>\n",
       "      <td>0</td>\n",
       "      <td>NaN</td>\n",
       "      <td>2018-01-01 10:45:00+05:30</td>\n",
       "      <td>NaN</td>\n",
       "      <td>25496.5500</td>\n",
       "      <td>25553.3056</td>\n",
       "      <td>False</td>\n",
       "    </tr>\n",
       "    <tr>\n",
       "      <th>4</th>\n",
       "      <td>2018-01-01T11:15:00+05:30</td>\n",
       "      <td>25555.0000</td>\n",
       "      <td>25566.3000</td>\n",
       "      <td>25547.8500</td>\n",
       "      <td>25551.8000</td>\n",
       "      <td>NaN</td>\n",
       "      <td>NaN</td>\n",
       "      <td>0</td>\n",
       "      <td>NaN</td>\n",
       "      <td>2018-01-01 11:15:00+05:30</td>\n",
       "      <td>NaN</td>\n",
       "      <td>25537.1500</td>\n",
       "      <td>25553.0318</td>\n",
       "      <td>False</td>\n",
       "    </tr>\n",
       "  </tbody>\n",
       "</table>\n",
       "</div>"
      ],
      "text/plain": [
       "                        time       open       high        low      close  MA  \\\n",
       "0  2018-01-01T09:15:00+05:30 25566.4500 25588.0000 25496.5500 25551.5000 NaN   \n",
       "1  2018-01-01T09:45:00+05:30 25551.7000 25574.2500 25537.1500 25561.5000 NaN   \n",
       "2  2018-01-01T10:15:00+05:30 25563.6500 25573.2500 25541.4000 25554.0500 NaN   \n",
       "3  2018-01-01T10:45:00+05:30 25556.3000 25562.6500 25545.0500 25552.6500 NaN   \n",
       "4  2018-01-01T11:15:00+05:30 25555.0000 25566.3000 25547.8500 25551.8000 NaN   \n",
       "\n",
       "   Plot  Zero line  MACD Signal                  datetime  RSI  Prev_N_Low  \\\n",
       "0   NaN          0          NaN 2018-01-01 09:15:00+05:30  NaN         NaN   \n",
       "1   NaN          0          NaN 2018-01-01 09:45:00+05:30  NaN         NaN   \n",
       "2   NaN          0          NaN 2018-01-01 10:15:00+05:30  NaN         NaN   \n",
       "3   NaN          0          NaN 2018-01-01 10:45:00+05:30  NaN  25496.5500   \n",
       "4   NaN          0          NaN 2018-01-01 11:15:00+05:30  NaN  25537.1500   \n",
       "\n",
       "         ema  Sell_Signal  \n",
       "0 25551.5000        False  \n",
       "1 25553.3182        False  \n",
       "2 25553.4512        False  \n",
       "3 25553.3056        False  \n",
       "4 25553.0318        False  "
      ]
     },
     "execution_count": 530,
     "metadata": {},
     "output_type": "execute_result"
    }
   ],
   "source": [
    "bnf_1min.head()"
   ]
  },
  {
   "cell_type": "code",
   "execution_count": 531,
   "id": "fd52bae0-d8af-417e-b4fa-f65fa66631bf",
   "metadata": {
    "execution": {
     "iopub.execute_input": "2024-12-29T14:21:10.936212Z",
     "iopub.status.busy": "2024-12-29T14:21:10.935329Z",
     "iopub.status.idle": "2024-12-29T14:21:10.940393Z",
     "shell.execute_reply": "2024-12-29T14:21:10.939443Z",
     "shell.execute_reply.started": "2024-12-29T14:21:10.936194Z"
    }
   },
   "outputs": [],
   "source": [
    "lev_ = 5\n",
    "portfolio_value = 10000000\n",
    "lot_size_ = 15\n",
    "slippage_ = 0.0001"
   ]
  },
  {
   "cell_type": "code",
   "execution_count": 532,
   "id": "b4f33d1c-4e4b-4d5a-b40b-1666fb729b86",
   "metadata": {
    "execution": {
     "iopub.execute_input": "2024-12-29T14:21:11.459860Z",
     "iopub.status.busy": "2024-12-29T14:21:11.458727Z",
     "iopub.status.idle": "2024-12-29T14:21:11.471235Z",
     "shell.execute_reply": "2024-12-29T14:21:11.469842Z",
     "shell.execute_reply.started": "2024-12-29T14:21:11.459831Z"
    }
   },
   "outputs": [],
   "source": [
    "def backtest_short(df, n, rsi_period, rsi_overbought, ema_length):\n",
    "    trade_book = []\n",
    "    in_trade = False\n",
    "    points = 0\n",
    "    is_trailing_active = False\n",
    "    trailing_sl = 0\n",
    "    df = calculate_signals(df, n, rsi_period, rsi_overbought, ema_length)\n",
    "    # print(df[df['Sell_Signal']].to_string())\n",
    "    for i in range(n, len(df)):\n",
    "        # print(i, df.loc[i], df.loc[i, 'open'])\n",
    "        # break\n",
    "        if df.loc[i, 'Sell_Signal'] and not in_trade:\n",
    "            # Entry Triggered\n",
    "            entry_price = df.loc[i, 'close']\n",
    "            entry_time = df.loc[i, 'datetime']\n",
    "            initial_sl = df.loc[i-n:i, 'high'].max()\n",
    "            sl_in_points = initial_sl - entry_price\n",
    "            target = 5 * sl_in_points\n",
    "            in_trade = True\n",
    "\n",
    "        if in_trade:\n",
    "            if df.loc[i, 'high'] < df.loc[i, 'ema']:\n",
    "                is_trailing_active = True\n",
    "            if is_trailing_active:\n",
    "                trailing_sl = df.loc[i, 'ema']\n",
    "            # print(df.loc[i, 'open'], initial_sl)\n",
    "            # break\n",
    "            if df.loc[i, 'open'] > initial_sl and not points:\n",
    "                # Gap condition\n",
    "                if df.loc[i, 'close'] < initial_sl:\n",
    "                    initial_sl = df.loc[i, 'high']\n",
    "                else:\n",
    "                    exit_price = df.loc[i, 'close']\n",
    "                    exit_time = df.loc[i, 'datetime']\n",
    "                    in_trade = False\n",
    "                    remark = 'Gap SL'\n",
    "                    points = entry_price - exit_price\n",
    "            if df.loc[i, 'high'] > initial_sl and not points:\n",
    "                # Initial SL Hit\n",
    "                exit_price = df.loc[i, 'close']\n",
    "                exit_time = df.loc[i, 'datetime']\n",
    "                in_trade = False\n",
    "                remark = 'Initial SL'\n",
    "                points = entry_price - exit_price\n",
    "            if is_trailing_active:\n",
    "                if df.loc[i, 'close'] > trailing_sl and not points:\n",
    "                    # TSL Hit\n",
    "                    exit_price = df.loc[i, 'close']\n",
    "                    exit_time = df.loc[i, 'datetime']\n",
    "                    in_trade = False\n",
    "                    remark = 'Trailing SL'\n",
    "                    points = entry_price - exit_price\n",
    "            if df.loc[i, 'low'] < entry_price - target and not points:\n",
    "                # Target Hit\n",
    "                exit_price = entry_price - target\n",
    "                exit_time = df.loc[i, 'datetime']\n",
    "                in_trade = False\n",
    "                remark = 'Target'\n",
    "                points = entry_price - exit_price\n",
    "\n",
    "        if points:\n",
    "            index_lev = lev_\n",
    "            qty = int(round(portfolio_value * index_lev / entry_price / lot_size_)) * lot_size_\n",
    "            slippage = slippage_ * (entry_price + exit_price)\n",
    "            final_points = points - slippage\n",
    "            trade = {\n",
    "                \"Trade Type\": \"Short\",\n",
    "                \"Entry Time\": entry_time,\n",
    "                \"Entry Price\": entry_price,\n",
    "                \"Initial SL\": initial_sl,\n",
    "                \"Trailing SL\": trailing_sl,\n",
    "                \"Exit Time\": exit_time,\n",
    "                \"Exit Price\": exit_price,\n",
    "                \"Points Captured\": points,\n",
    "                \"Slippage in Points\": slippage,\n",
    "                \"After Costs\": final_points,\n",
    "                \"PnL\": final_points * qty,\n",
    "                \"Remarks\": remark,\n",
    "                \"Qty\": qty,\n",
    "                \"Leverage\": index_lev,\n",
    "                \"ROI%\": (final_points * qty / portfolio_value) * 100,\n",
    "                \"Trade Year\": entry_time.year,\n",
    "                \"Trade Month\": entry_time.month,\n",
    "            }\n",
    "            # print(trade)\n",
    "            trade_book.append(trade)\n",
    "            points = 0\n",
    "            in_trade = False\n",
    "            is_trailing_active = False\n",
    "            trailing_sl = 0\n",
    "\n",
    "    return pd.DataFrame(trade_book)\n",
    "            "
   ]
  },
  {
   "cell_type": "code",
   "execution_count": 543,
   "id": "b7c50569-cec8-4442-93cc-9dc78b1a9b3a",
   "metadata": {
    "execution": {
     "iopub.execute_input": "2024-12-29T14:21:53.635247Z",
     "iopub.status.busy": "2024-12-29T14:21:53.634334Z",
     "iopub.status.idle": "2024-12-29T14:21:55.668965Z",
     "shell.execute_reply": "2024-12-29T14:21:55.667672Z",
     "shell.execute_reply.started": "2024-12-29T14:21:53.635216Z"
    },
    "scrolled": true
   },
   "outputs": [],
   "source": [
    "tb = backtest_short(bnf_1min, n=3, rsi_period=14, rsi_overbought=40, ema_length=20)"
   ]
  },
  {
   "cell_type": "code",
   "execution_count": 544,
   "id": "b59ed9ad-1698-4dd9-8572-deed574f1a0f",
   "metadata": {
    "execution": {
     "iopub.execute_input": "2024-12-29T14:21:55.670753Z",
     "iopub.status.busy": "2024-12-29T14:21:55.670552Z",
     "iopub.status.idle": "2024-12-29T14:21:55.678746Z",
     "shell.execute_reply": "2024-12-29T14:21:55.677768Z",
     "shell.execute_reply.started": "2024-12-29T14:21:55.670738Z"
    },
    "jupyter": {
     "source_hidden": true
    }
   },
   "outputs": [],
   "source": [
    "def generate_stats(tb_expiry, variation):\n",
    "    stats_df8 = pd.DataFrame(\n",
    "        index=range(2018, 2025),\n",
    "        columns=[\n",
    "            \"Total ROI\",\n",
    "            \"Total Trades\",\n",
    "            \"Win Rate\",\n",
    "            \"Avg Profit% per Trade\",\n",
    "            \"Avg Loss% per Trade\",\n",
    "            \"Max Drawdown\",\n",
    "            \"ROI/DD Ratio\",\n",
    "            \"Variation\",\n",
    "        ],\n",
    "    )\n",
    "    combined_df_sorted = tb_expiry\n",
    "    # combined_df_sorted = tb_expiry_ce\n",
    "    # combined_df_sorted = tb_expiry_pe\n",
    "    \n",
    "    # Iterate over each year\n",
    "    for year in range(2018, 2025):\n",
    "        # Filter trades for the current year\n",
    "        year_trades = combined_df_sorted[(combined_df_sorted[\"Trade Year\"] == year)]\n",
    "    \n",
    "        # Calculate total ROI\n",
    "        total_roi = year_trades[\"ROI%\"].sum()\n",
    "    \n",
    "        # Calculate total number of trades\n",
    "        total_trades = len(year_trades)\n",
    "    \n",
    "        # Calculate win rate\n",
    "        win_rate = (year_trades[\"ROI%\"] > 0).mean() * 100\n",
    "    \n",
    "        # Calculate average profit per trade\n",
    "        avg_profit = year_trades[year_trades[\"ROI%\"] > 0][\"ROI%\"].mean()\n",
    "    \n",
    "        # Calculate average loss per trade\n",
    "        avg_loss = year_trades[year_trades[\"ROI%\"] < 0][\"ROI%\"].mean()\n",
    "    \n",
    "        # Calculate maximum drawdown\n",
    "        max_drawdown = (\n",
    "            year_trades[\"ROI%\"].cumsum() - year_trades[\"ROI%\"].cumsum().cummax()\n",
    "        ).min()\n",
    "    \n",
    "        # Calculate ROI/DD ratio\n",
    "        roi_dd_ratio = total_roi / abs(max_drawdown)\n",
    "\n",
    "        variation = variation\n",
    "    \n",
    "        # Store the statistics in the DataFrame\n",
    "        stats_df8.loc[year] = [\n",
    "            total_roi,\n",
    "            total_trades,\n",
    "            win_rate,\n",
    "            avg_profit,\n",
    "            avg_loss,\n",
    "            max_drawdown,\n",
    "            roi_dd_ratio,\n",
    "            variation,\n",
    "        ]\n",
    "    \n",
    "    # Calculate overall statistics\n",
    "    overall_total_roi = stats_df8[\"Total ROI\"].sum()\n",
    "    overall_total_trades = stats_df8[\"Total Trades\"].sum()\n",
    "    overall_win_rate = (combined_df_sorted[\"ROI%\"] > 0).mean() * 100\n",
    "    overall_avg_profit = combined_df_sorted[combined_df_sorted[\"ROI%\"] > 0][\"ROI%\"].mean()\n",
    "    overall_avg_loss = combined_df_sorted[combined_df_sorted[\"ROI%\"] < 0][\"ROI%\"].mean()\n",
    "    overall_max_drawdown = (\n",
    "        combined_df_sorted[\"ROI%\"].cumsum() - combined_df_sorted[\"ROI%\"].cumsum().cummax()\n",
    "    ).min()\n",
    "    overall_roi_dd_ratio = overall_total_roi / abs(overall_max_drawdown)\n",
    "    overall_variation = variation\n",
    "    \n",
    "    # Store the overall statistics in the DataFrame\n",
    "    stats_df8.loc[\"Overall\"] = [\n",
    "        overall_total_roi,\n",
    "        overall_total_trades,\n",
    "        overall_win_rate,\n",
    "        overall_avg_profit,\n",
    "        overall_avg_loss,\n",
    "        overall_max_drawdown,\n",
    "        overall_roi_dd_ratio,\n",
    "        overall_variation,\n",
    "    ]\n",
    "    return {overall_roi_dd_ratio : stats_df8}"
   ]
  },
  {
   "cell_type": "code",
   "execution_count": 545,
   "id": "b0c3a45b-0108-4e42-8148-18d3549e317a",
   "metadata": {
    "execution": {
     "iopub.execute_input": "2024-12-29T14:21:55.680106Z",
     "iopub.status.busy": "2024-12-29T14:21:55.679839Z",
     "iopub.status.idle": "2024-12-29T14:21:55.725814Z",
     "shell.execute_reply": "2024-12-29T14:21:55.724869Z",
     "shell.execute_reply.started": "2024-12-29T14:21:55.680090Z"
    }
   },
   "outputs": [
    {
     "data": {
      "text/html": [
       "<div>\n",
       "<style scoped>\n",
       "    .dataframe tbody tr th:only-of-type {\n",
       "        vertical-align: middle;\n",
       "    }\n",
       "\n",
       "    .dataframe tbody tr th {\n",
       "        vertical-align: top;\n",
       "    }\n",
       "\n",
       "    .dataframe thead th {\n",
       "        text-align: right;\n",
       "    }\n",
       "</style>\n",
       "<table border=\"1\" class=\"dataframe\">\n",
       "  <thead>\n",
       "    <tr style=\"text-align: right;\">\n",
       "      <th></th>\n",
       "      <th>Total ROI</th>\n",
       "      <th>Total Trades</th>\n",
       "      <th>Win Rate</th>\n",
       "      <th>Avg Profit% per Trade</th>\n",
       "      <th>Avg Loss% per Trade</th>\n",
       "      <th>Max Drawdown</th>\n",
       "      <th>ROI/DD Ratio</th>\n",
       "      <th>Variation</th>\n",
       "    </tr>\n",
       "  </thead>\n",
       "  <tbody>\n",
       "    <tr>\n",
       "      <th>2018</th>\n",
       "      <td>29.0533</td>\n",
       "      <td>111</td>\n",
       "      <td>40.5405</td>\n",
       "      <td>3.9648</td>\n",
       "      <td>-2.2631</td>\n",
       "      <td>-42.0875</td>\n",
       "      <td>0.6903</td>\n",
       "      <td>1</td>\n",
       "    </tr>\n",
       "    <tr>\n",
       "      <th>2019</th>\n",
       "      <td>79.3232</td>\n",
       "      <td>118</td>\n",
       "      <td>40.6780</td>\n",
       "      <td>4.8162</td>\n",
       "      <td>-2.1694</td>\n",
       "      <td>-39.9548</td>\n",
       "      <td>1.9853</td>\n",
       "      <td>1</td>\n",
       "    </tr>\n",
       "    <tr>\n",
       "      <th>2020</th>\n",
       "      <td>88.8128</td>\n",
       "      <td>110</td>\n",
       "      <td>43.6364</td>\n",
       "      <td>9.7239</td>\n",
       "      <td>-6.0957</td>\n",
       "      <td>-67.4933</td>\n",
       "      <td>1.3159</td>\n",
       "      <td>1</td>\n",
       "    </tr>\n",
       "    <tr>\n",
       "      <th>2021</th>\n",
       "      <td>-3.9658</td>\n",
       "      <td>124</td>\n",
       "      <td>34.6774</td>\n",
       "      <td>5.7466</td>\n",
       "      <td>-3.0996</td>\n",
       "      <td>-71.4137</td>\n",
       "      <td>-0.0555</td>\n",
       "      <td>1</td>\n",
       "    </tr>\n",
       "    <tr>\n",
       "      <th>2022</th>\n",
       "      <td>-23.9943</td>\n",
       "      <td>135</td>\n",
       "      <td>34.8148</td>\n",
       "      <td>4.8382</td>\n",
       "      <td>-2.8567</td>\n",
       "      <td>-118.1220</td>\n",
       "      <td>-0.2031</td>\n",
       "      <td>1</td>\n",
       "    </tr>\n",
       "    <tr>\n",
       "      <th>2023</th>\n",
       "      <td>-49.7776</td>\n",
       "      <td>119</td>\n",
       "      <td>32.7731</td>\n",
       "      <td>3.3859</td>\n",
       "      <td>-2.2729</td>\n",
       "      <td>-81.2556</td>\n",
       "      <td>-0.6126</td>\n",
       "      <td>1</td>\n",
       "    </tr>\n",
       "    <tr>\n",
       "      <th>2024</th>\n",
       "      <td>3.7258</td>\n",
       "      <td>100</td>\n",
       "      <td>36.0000</td>\n",
       "      <td>3.9044</td>\n",
       "      <td>-2.1380</td>\n",
       "      <td>-37.9056</td>\n",
       "      <td>0.0983</td>\n",
       "      <td>1</td>\n",
       "    </tr>\n",
       "    <tr>\n",
       "      <th>Overall</th>\n",
       "      <td>123.1774</td>\n",
       "      <td>817.0000</td>\n",
       "      <td>37.4541</td>\n",
       "      <td>5.3054</td>\n",
       "      <td>-2.9360</td>\n",
       "      <td>-169.4186</td>\n",
       "      <td>0.7271</td>\n",
       "      <td>1.0000</td>\n",
       "    </tr>\n",
       "  </tbody>\n",
       "</table>\n",
       "</div>"
      ],
      "text/plain": [
       "        Total ROI Total Trades Win Rate Avg Profit% per Trade  \\\n",
       "2018      29.0533          111  40.5405                3.9648   \n",
       "2019      79.3232          118  40.6780                4.8162   \n",
       "2020      88.8128          110  43.6364                9.7239   \n",
       "2021      -3.9658          124  34.6774                5.7466   \n",
       "2022     -23.9943          135  34.8148                4.8382   \n",
       "2023     -49.7776          119  32.7731                3.3859   \n",
       "2024       3.7258          100  36.0000                3.9044   \n",
       "Overall  123.1774     817.0000  37.4541                5.3054   \n",
       "\n",
       "        Avg Loss% per Trade Max Drawdown ROI/DD Ratio Variation  \n",
       "2018                -2.2631     -42.0875       0.6903         1  \n",
       "2019                -2.1694     -39.9548       1.9853         1  \n",
       "2020                -6.0957     -67.4933       1.3159         1  \n",
       "2021                -3.0996     -71.4137      -0.0555         1  \n",
       "2022                -2.8567    -118.1220      -0.2031         1  \n",
       "2023                -2.2729     -81.2556      -0.6126         1  \n",
       "2024                -2.1380     -37.9056       0.0983         1  \n",
       "Overall             -2.9360    -169.4186       0.7271    1.0000  "
      ]
     },
     "execution_count": 545,
     "metadata": {},
     "output_type": "execute_result"
    }
   ],
   "source": [
    "variation = 1\n",
    "stats = generate_stats(tb, variation)\n",
    "for x, y in stats.items():\n",
    "    final_stats = y\n",
    "\n",
    "final_stats"
   ]
  },
  {
   "cell_type": "code",
   "execution_count": 546,
   "id": "d3a2eb28-c309-469f-891c-75ce6329d3ac",
   "metadata": {
    "execution": {
     "iopub.execute_input": "2024-12-29T14:21:57.974246Z",
     "iopub.status.busy": "2024-12-29T14:21:57.973966Z",
     "iopub.status.idle": "2024-12-29T14:21:58.003300Z",
     "shell.execute_reply": "2024-12-29T14:21:58.002087Z",
     "shell.execute_reply.started": "2024-12-29T14:21:57.974225Z"
    },
    "scrolled": true
   },
   "outputs": [
    {
     "data": {
      "text/html": [
       "<div>\n",
       "<style scoped>\n",
       "    .dataframe tbody tr th:only-of-type {\n",
       "        vertical-align: middle;\n",
       "    }\n",
       "\n",
       "    .dataframe tbody tr th {\n",
       "        vertical-align: top;\n",
       "    }\n",
       "\n",
       "    .dataframe thead th {\n",
       "        text-align: right;\n",
       "    }\n",
       "</style>\n",
       "<table border=\"1\" class=\"dataframe\">\n",
       "  <thead>\n",
       "    <tr style=\"text-align: right;\">\n",
       "      <th></th>\n",
       "      <th>Trade Type</th>\n",
       "      <th>Entry Time</th>\n",
       "      <th>Entry Price</th>\n",
       "      <th>Initial SL</th>\n",
       "      <th>Trailing SL</th>\n",
       "      <th>Exit Time</th>\n",
       "      <th>Exit Price</th>\n",
       "      <th>Points Captured</th>\n",
       "      <th>Slippage in Points</th>\n",
       "      <th>After Costs</th>\n",
       "      <th>PnL</th>\n",
       "      <th>Remarks</th>\n",
       "      <th>Qty</th>\n",
       "      <th>Leverage</th>\n",
       "      <th>ROI%</th>\n",
       "      <th>Trade Year</th>\n",
       "      <th>Trade Month</th>\n",
       "    </tr>\n",
       "  </thead>\n",
       "  <tbody>\n",
       "    <tr>\n",
       "      <th>717</th>\n",
       "      <td>Short</td>\n",
       "      <td>2024-01-01 14:45:00+05:30</td>\n",
       "      <td>48213.6500</td>\n",
       "      <td>48450.0000</td>\n",
       "      <td>47779.7750</td>\n",
       "      <td>2024-01-04 09:15:00+05:30</td>\n",
       "      <td>47892.8500</td>\n",
       "      <td>320.8000</td>\n",
       "      <td>9.6106</td>\n",
       "      <td>311.1894</td>\n",
       "      <td>322080.9773</td>\n",
       "      <td>Trailing SL</td>\n",
       "      <td>1035</td>\n",
       "      <td>5</td>\n",
       "      <td>3.2208</td>\n",
       "      <td>2024</td>\n",
       "      <td>1</td>\n",
       "    </tr>\n",
       "    <tr>\n",
       "      <th>718</th>\n",
       "      <td>Short</td>\n",
       "      <td>2024-01-05 10:15:00+05:30</td>\n",
       "      <td>48166.6500</td>\n",
       "      <td>48381.9500</td>\n",
       "      <td>48067.8811</td>\n",
       "      <td>2024-01-05 14:45:00+05:30</td>\n",
       "      <td>48167.6000</td>\n",
       "      <td>-0.9500</td>\n",
       "      <td>9.6334</td>\n",
       "      <td>-10.5834</td>\n",
       "      <td>-10953.8449</td>\n",
       "      <td>Trailing SL</td>\n",
       "      <td>1035</td>\n",
       "      <td>5</td>\n",
       "      <td>-0.1095</td>\n",
       "      <td>2024</td>\n",
       "      <td>1</td>\n",
       "    </tr>\n",
       "    <tr>\n",
       "      <th>719</th>\n",
       "      <td>Short</td>\n",
       "      <td>2024-01-08 10:45:00+05:30</td>\n",
       "      <td>47874.5000</td>\n",
       "      <td>48154.5000</td>\n",
       "      <td>47785.8256</td>\n",
       "      <td>2024-01-09 10:15:00+05:30</td>\n",
       "      <td>47882.7500</td>\n",
       "      <td>-8.2500</td>\n",
       "      <td>9.5757</td>\n",
       "      <td>-17.8257</td>\n",
       "      <td>-18717.0112</td>\n",
       "      <td>Trailing SL</td>\n",
       "      <td>1050</td>\n",
       "      <td>5</td>\n",
       "      <td>-0.1872</td>\n",
       "      <td>2024</td>\n",
       "      <td>1</td>\n",
       "    </tr>\n",
       "    <tr>\n",
       "      <th>720</th>\n",
       "      <td>Short</td>\n",
       "      <td>2024-01-09 13:45:00+05:30</td>\n",
       "      <td>47674.8000</td>\n",
       "      <td>47877.0500</td>\n",
       "      <td>47410.4392</td>\n",
       "      <td>2024-01-11 09:15:00+05:30</td>\n",
       "      <td>47503.5000</td>\n",
       "      <td>171.3000</td>\n",
       "      <td>9.5178</td>\n",
       "      <td>161.7822</td>\n",
       "      <td>169871.2785</td>\n",
       "      <td>Trailing SL</td>\n",
       "      <td>1050</td>\n",
       "      <td>5</td>\n",
       "      <td>1.6987</td>\n",
       "      <td>2024</td>\n",
       "      <td>1</td>\n",
       "    </tr>\n",
       "    <tr>\n",
       "      <th>721</th>\n",
       "      <td>Short</td>\n",
       "      <td>2024-01-12 14:45:00+05:30</td>\n",
       "      <td>47659.9500</td>\n",
       "      <td>47873.7000</td>\n",
       "      <td>0.0000</td>\n",
       "      <td>2024-01-15 09:15:00+05:30</td>\n",
       "      <td>48073.5500</td>\n",
       "      <td>-413.6000</td>\n",
       "      <td>9.5733</td>\n",
       "      <td>-423.1734</td>\n",
       "      <td>-444332.0175</td>\n",
       "      <td>Initial SL</td>\n",
       "      <td>1050</td>\n",
       "      <td>5</td>\n",
       "      <td>-4.4433</td>\n",
       "      <td>2024</td>\n",
       "      <td>1</td>\n",
       "    </tr>\n",
       "    <tr>\n",
       "      <th>722</th>\n",
       "      <td>Short</td>\n",
       "      <td>2024-01-16 12:45:00+05:30</td>\n",
       "      <td>48122.8500</td>\n",
       "      <td>48305.4000</td>\n",
       "      <td>48005.5157</td>\n",
       "      <td>2024-01-17 09:15:00+05:30</td>\n",
       "      <td>47210.1000</td>\n",
       "      <td>912.7500</td>\n",
       "      <td>9.5333</td>\n",
       "      <td>903.2167</td>\n",
       "      <td>934829.2897</td>\n",
       "      <td>Target</td>\n",
       "      <td>1035</td>\n",
       "      <td>5</td>\n",
       "      <td>9.3483</td>\n",
       "      <td>2024</td>\n",
       "      <td>1</td>\n",
       "    </tr>\n",
       "    <tr>\n",
       "      <th>723</th>\n",
       "      <td>Short</td>\n",
       "      <td>2024-01-19 10:45:00+05:30</td>\n",
       "      <td>45930.1500</td>\n",
       "      <td>46249.8500</td>\n",
       "      <td>45892.6035</td>\n",
       "      <td>2024-01-20 10:15:00+05:30</td>\n",
       "      <td>45928.1000</td>\n",
       "      <td>2.0500</td>\n",
       "      <td>9.1858</td>\n",
       "      <td>-7.1358</td>\n",
       "      <td>-7813.7284</td>\n",
       "      <td>Trailing SL</td>\n",
       "      <td>1095</td>\n",
       "      <td>5</td>\n",
       "      <td>-0.0781</td>\n",
       "      <td>2024</td>\n",
       "      <td>1</td>\n",
       "    </tr>\n",
       "    <tr>\n",
       "      <th>724</th>\n",
       "      <td>Short</td>\n",
       "      <td>2024-01-20 12:15:00+05:30</td>\n",
       "      <td>45733.0500</td>\n",
       "      <td>46006.0500</td>\n",
       "      <td>0.0000</td>\n",
       "      <td>2024-01-20 12:45:00+05:30</td>\n",
       "      <td>46078.1500</td>\n",
       "      <td>-345.1000</td>\n",
       "      <td>9.1811</td>\n",
       "      <td>-354.2811</td>\n",
       "      <td>-387937.8264</td>\n",
       "      <td>Initial SL</td>\n",
       "      <td>1095</td>\n",
       "      <td>5</td>\n",
       "      <td>-3.8794</td>\n",
       "      <td>2024</td>\n",
       "      <td>1</td>\n",
       "    </tr>\n",
       "    <tr>\n",
       "      <th>725</th>\n",
       "      <td>Short</td>\n",
       "      <td>2024-01-30 14:15:00+05:30</td>\n",
       "      <td>45307.8000</td>\n",
       "      <td>45492.5000</td>\n",
       "      <td>0.0000</td>\n",
       "      <td>2024-01-31 09:45:00+05:30</td>\n",
       "      <td>45824.4500</td>\n",
       "      <td>-516.6500</td>\n",
       "      <td>9.1132</td>\n",
       "      <td>-525.7632</td>\n",
       "      <td>-583597.1797</td>\n",
       "      <td>Initial SL</td>\n",
       "      <td>1110</td>\n",
       "      <td>5</td>\n",
       "      <td>-5.8360</td>\n",
       "      <td>2024</td>\n",
       "      <td>1</td>\n",
       "    </tr>\n",
       "    <tr>\n",
       "      <th>726</th>\n",
       "      <td>Short</td>\n",
       "      <td>2024-01-31 12:15:00+05:30</td>\n",
       "      <td>45915.6500</td>\n",
       "      <td>46179.7500</td>\n",
       "      <td>0.0000</td>\n",
       "      <td>2024-02-01 11:45:00+05:30</td>\n",
       "      <td>46098.9500</td>\n",
       "      <td>-183.3000</td>\n",
       "      <td>9.2015</td>\n",
       "      <td>-192.5015</td>\n",
       "      <td>-210789.0987</td>\n",
       "      <td>Initial SL</td>\n",
       "      <td>1095</td>\n",
       "      <td>5</td>\n",
       "      <td>-2.1079</td>\n",
       "      <td>2024</td>\n",
       "      <td>1</td>\n",
       "    </tr>\n",
       "    <tr>\n",
       "      <th>727</th>\n",
       "      <td>Short</td>\n",
       "      <td>2024-02-02 12:45:00+05:30</td>\n",
       "      <td>46254.7000</td>\n",
       "      <td>46892.3500</td>\n",
       "      <td>45773.6437</td>\n",
       "      <td>2024-02-06 15:15:00+05:30</td>\n",
       "      <td>45774.4500</td>\n",
       "      <td>480.2500</td>\n",
       "      <td>9.2029</td>\n",
       "      <td>471.0471</td>\n",
       "      <td>508730.8518</td>\n",
       "      <td>Trailing SL</td>\n",
       "      <td>1080</td>\n",
       "      <td>5</td>\n",
       "      <td>5.0873</td>\n",
       "      <td>2024</td>\n",
       "      <td>2</td>\n",
       "    </tr>\n",
       "    <tr>\n",
       "      <th>728</th>\n",
       "      <td>Short</td>\n",
       "      <td>2024-02-07 11:15:00+05:30</td>\n",
       "      <td>45680.0500</td>\n",
       "      <td>45958.1500</td>\n",
       "      <td>45773.1492</td>\n",
       "      <td>2024-02-07 13:15:00+05:30</td>\n",
       "      <td>45773.5500</td>\n",
       "      <td>-93.5000</td>\n",
       "      <td>9.1454</td>\n",
       "      <td>-102.6454</td>\n",
       "      <td>-112396.6692</td>\n",
       "      <td>Trailing SL</td>\n",
       "      <td>1095</td>\n",
       "      <td>5</td>\n",
       "      <td>-1.1240</td>\n",
       "      <td>2024</td>\n",
       "      <td>2</td>\n",
       "    </tr>\n",
       "    <tr>\n",
       "      <th>729</th>\n",
       "      <td>Short</td>\n",
       "      <td>2024-02-12 09:45:00+05:30</td>\n",
       "      <td>45376.3500</td>\n",
       "      <td>45748.5000</td>\n",
       "      <td>45120.2568</td>\n",
       "      <td>2024-02-13 09:15:00+05:30</td>\n",
       "      <td>45139.2500</td>\n",
       "      <td>237.1000</td>\n",
       "      <td>9.0516</td>\n",
       "      <td>228.0484</td>\n",
       "      <td>249713.0418</td>\n",
       "      <td>Trailing SL</td>\n",
       "      <td>1095</td>\n",
       "      <td>5</td>\n",
       "      <td>2.4971</td>\n",
       "      <td>2024</td>\n",
       "      <td>2</td>\n",
       "    </tr>\n",
       "    <tr>\n",
       "      <th>730</th>\n",
       "      <td>Short</td>\n",
       "      <td>2024-02-13 11:45:00+05:30</td>\n",
       "      <td>45082.8500</td>\n",
       "      <td>45461.9500</td>\n",
       "      <td>45183.7378</td>\n",
       "      <td>2024-02-13 12:45:00+05:30</td>\n",
       "      <td>45285.8000</td>\n",
       "      <td>-202.9500</td>\n",
       "      <td>9.0369</td>\n",
       "      <td>-211.9869</td>\n",
       "      <td>-235305.4202</td>\n",
       "      <td>Trailing SL</td>\n",
       "      <td>1110</td>\n",
       "      <td>5</td>\n",
       "      <td>-2.3531</td>\n",
       "      <td>2024</td>\n",
       "      <td>2</td>\n",
       "    </tr>\n",
       "    <tr>\n",
       "      <th>731</th>\n",
       "      <td>Short</td>\n",
       "      <td>2024-02-13 15:15:00+05:30</td>\n",
       "      <td>45419.8500</td>\n",
       "      <td>45750.4000</td>\n",
       "      <td>45292.6774</td>\n",
       "      <td>2024-02-14 10:45:00+05:30</td>\n",
       "      <td>45361.3500</td>\n",
       "      <td>58.5000</td>\n",
       "      <td>9.0781</td>\n",
       "      <td>49.4219</td>\n",
       "      <td>54116.9586</td>\n",
       "      <td>Trailing SL</td>\n",
       "      <td>1095</td>\n",
       "      <td>5</td>\n",
       "      <td>0.5412</td>\n",
       "      <td>2024</td>\n",
       "      <td>2</td>\n",
       "    </tr>\n",
       "    <tr>\n",
       "      <th>732</th>\n",
       "      <td>Short</td>\n",
       "      <td>2024-02-19 14:45:00+05:30</td>\n",
       "      <td>46515.9500</td>\n",
       "      <td>46717.4000</td>\n",
       "      <td>0.0000</td>\n",
       "      <td>2024-02-20 09:45:00+05:30</td>\n",
       "      <td>46876.5000</td>\n",
       "      <td>-360.5500</td>\n",
       "      <td>9.3392</td>\n",
       "      <td>-369.8892</td>\n",
       "      <td>-399480.3846</td>\n",
       "      <td>Initial SL</td>\n",
       "      <td>1080</td>\n",
       "      <td>5</td>\n",
       "      <td>-3.9948</td>\n",
       "      <td>2024</td>\n",
       "      <td>2</td>\n",
       "    </tr>\n",
       "    <tr>\n",
       "      <th>733</th>\n",
       "      <td>Short</td>\n",
       "      <td>2024-02-21 10:15:00+05:30</td>\n",
       "      <td>46973.9000</td>\n",
       "      <td>47359.0500</td>\n",
       "      <td>46785.3953</td>\n",
       "      <td>2024-02-22 14:15:00+05:30</td>\n",
       "      <td>46786.8500</td>\n",
       "      <td>187.0500</td>\n",
       "      <td>9.3761</td>\n",
       "      <td>177.6739</td>\n",
       "      <td>189222.7301</td>\n",
       "      <td>Trailing SL</td>\n",
       "      <td>1065</td>\n",
       "      <td>5</td>\n",
       "      <td>1.8922</td>\n",
       "      <td>2024</td>\n",
       "      <td>2</td>\n",
       "    </tr>\n",
       "    <tr>\n",
       "      <th>734</th>\n",
       "      <td>Short</td>\n",
       "      <td>2024-02-23 13:15:00+05:30</td>\n",
       "      <td>46872.4000</td>\n",
       "      <td>47084.7000</td>\n",
       "      <td>46595.4548</td>\n",
       "      <td>2024-02-27 12:45:00+05:30</td>\n",
       "      <td>46664.5000</td>\n",
       "      <td>207.9000</td>\n",
       "      <td>9.3537</td>\n",
       "      <td>198.5463</td>\n",
       "      <td>211451.8202</td>\n",
       "      <td>Trailing SL</td>\n",
       "      <td>1065</td>\n",
       "      <td>5</td>\n",
       "      <td>2.1145</td>\n",
       "      <td>2024</td>\n",
       "      <td>2</td>\n",
       "    </tr>\n",
       "    <tr>\n",
       "      <th>735</th>\n",
       "      <td>Short</td>\n",
       "      <td>2024-03-06 14:45:00+05:30</td>\n",
       "      <td>47919.9500</td>\n",
       "      <td>48161.2500</td>\n",
       "      <td>47868.0433</td>\n",
       "      <td>2024-03-07 14:15:00+05:30</td>\n",
       "      <td>47887.3000</td>\n",
       "      <td>32.6500</td>\n",
       "      <td>9.5807</td>\n",
       "      <td>23.0693</td>\n",
       "      <td>24222.7387</td>\n",
       "      <td>Trailing SL</td>\n",
       "      <td>1050</td>\n",
       "      <td>5</td>\n",
       "      <td>0.2422</td>\n",
       "      <td>2024</td>\n",
       "      <td>3</td>\n",
       "    </tr>\n",
       "    <tr>\n",
       "      <th>736</th>\n",
       "      <td>Short</td>\n",
       "      <td>2024-03-07 15:15:00+05:30</td>\n",
       "      <td>47788.0000</td>\n",
       "      <td>47975.6000</td>\n",
       "      <td>47540.8664</td>\n",
       "      <td>2024-03-12 09:15:00+05:30</td>\n",
       "      <td>47720.0500</td>\n",
       "      <td>67.9500</td>\n",
       "      <td>9.5508</td>\n",
       "      <td>58.3992</td>\n",
       "      <td>61319.1547</td>\n",
       "      <td>Trailing SL</td>\n",
       "      <td>1050</td>\n",
       "      <td>5</td>\n",
       "      <td>0.6132</td>\n",
       "      <td>2024</td>\n",
       "      <td>3</td>\n",
       "    </tr>\n",
       "    <tr>\n",
       "      <th>737</th>\n",
       "      <td>Short</td>\n",
       "      <td>2024-03-14 13:15:00+05:30</td>\n",
       "      <td>46903.5500</td>\n",
       "      <td>47215.7500</td>\n",
       "      <td>46516.7401</td>\n",
       "      <td>2024-03-18 11:45:00+05:30</td>\n",
       "      <td>46589.4500</td>\n",
       "      <td>314.1000</td>\n",
       "      <td>9.3493</td>\n",
       "      <td>304.7507</td>\n",
       "      <td>324559.4955</td>\n",
       "      <td>Trailing SL</td>\n",
       "      <td>1065</td>\n",
       "      <td>5</td>\n",
       "      <td>3.2456</td>\n",
       "      <td>2024</td>\n",
       "      <td>3</td>\n",
       "    </tr>\n",
       "    <tr>\n",
       "      <th>738</th>\n",
       "      <td>Short</td>\n",
       "      <td>2024-03-20 14:15:00+05:30</td>\n",
       "      <td>46283.9500</td>\n",
       "      <td>46655.5500</td>\n",
       "      <td>46367.4426</td>\n",
       "      <td>2024-03-20 15:15:00+05:30</td>\n",
       "      <td>46370.2000</td>\n",
       "      <td>-86.2500</td>\n",
       "      <td>9.2654</td>\n",
       "      <td>-95.5154</td>\n",
       "      <td>-103156.6482</td>\n",
       "      <td>Trailing SL</td>\n",
       "      <td>1080</td>\n",
       "      <td>5</td>\n",
       "      <td>-1.0316</td>\n",
       "      <td>2024</td>\n",
       "      <td>3</td>\n",
       "    </tr>\n",
       "    <tr>\n",
       "      <th>739</th>\n",
       "      <td>Short</td>\n",
       "      <td>2024-03-21 11:45:00+05:30</td>\n",
       "      <td>46625.2000</td>\n",
       "      <td>46990.2500</td>\n",
       "      <td>46697.5492</td>\n",
       "      <td>2024-03-27 09:15:00+05:30</td>\n",
       "      <td>46807.4500</td>\n",
       "      <td>-182.2500</td>\n",
       "      <td>9.3433</td>\n",
       "      <td>-191.5933</td>\n",
       "      <td>-204046.8272</td>\n",
       "      <td>Trailing SL</td>\n",
       "      <td>1065</td>\n",
       "      <td>5</td>\n",
       "      <td>-2.0405</td>\n",
       "      <td>2024</td>\n",
       "      <td>3</td>\n",
       "    </tr>\n",
       "    <tr>\n",
       "      <th>740</th>\n",
       "      <td>Short</td>\n",
       "      <td>2024-03-28 14:45:00+05:30</td>\n",
       "      <td>47036.7000</td>\n",
       "      <td>47440.4500</td>\n",
       "      <td>0.0000</td>\n",
       "      <td>2024-04-01 09:15:00+05:30</td>\n",
       "      <td>47515.4500</td>\n",
       "      <td>-478.7500</td>\n",
       "      <td>9.4552</td>\n",
       "      <td>-488.2052</td>\n",
       "      <td>-519938.5540</td>\n",
       "      <td>Initial SL</td>\n",
       "      <td>1065</td>\n",
       "      <td>5</td>\n",
       "      <td>-5.1994</td>\n",
       "      <td>2024</td>\n",
       "      <td>3</td>\n",
       "    </tr>\n",
       "    <tr>\n",
       "      <th>741</th>\n",
       "      <td>Short</td>\n",
       "      <td>2024-04-01 12:45:00+05:30</td>\n",
       "      <td>47466.8000</td>\n",
       "      <td>47589.0500</td>\n",
       "      <td>0.0000</td>\n",
       "      <td>2024-04-01 14:45:00+05:30</td>\n",
       "      <td>47583.8500</td>\n",
       "      <td>-117.0500</td>\n",
       "      <td>9.5051</td>\n",
       "      <td>-126.5551</td>\n",
       "      <td>-132882.8182</td>\n",
       "      <td>Initial SL</td>\n",
       "      <td>1050</td>\n",
       "      <td>5</td>\n",
       "      <td>-1.3288</td>\n",
       "      <td>2024</td>\n",
       "      <td>4</td>\n",
       "    </tr>\n",
       "    <tr>\n",
       "      <th>742</th>\n",
       "      <td>Short</td>\n",
       "      <td>2024-04-02 12:45:00+05:30</td>\n",
       "      <td>47573.3500</td>\n",
       "      <td>47663.1000</td>\n",
       "      <td>47520.4954</td>\n",
       "      <td>2024-04-03 11:45:00+05:30</td>\n",
       "      <td>47623.6000</td>\n",
       "      <td>-50.2500</td>\n",
       "      <td>9.5197</td>\n",
       "      <td>-59.7697</td>\n",
       "      <td>-62758.1797</td>\n",
       "      <td>Trailing SL</td>\n",
       "      <td>1050</td>\n",
       "      <td>5</td>\n",
       "      <td>-0.6276</td>\n",
       "      <td>2024</td>\n",
       "      <td>4</td>\n",
       "    </tr>\n",
       "    <tr>\n",
       "      <th>743</th>\n",
       "      <td>Short</td>\n",
       "      <td>2024-04-09 13:15:00+05:30</td>\n",
       "      <td>48752.0000</td>\n",
       "      <td>48951.9500</td>\n",
       "      <td>0.0000</td>\n",
       "      <td>2024-04-10 10:15:00+05:30</td>\n",
       "      <td>48918.4000</td>\n",
       "      <td>-166.4000</td>\n",
       "      <td>9.7670</td>\n",
       "      <td>-176.1670</td>\n",
       "      <td>-179690.3808</td>\n",
       "      <td>Initial SL</td>\n",
       "      <td>1020</td>\n",
       "      <td>5</td>\n",
       "      <td>-1.7969</td>\n",
       "      <td>2024</td>\n",
       "      <td>4</td>\n",
       "    </tr>\n",
       "    <tr>\n",
       "      <th>744</th>\n",
       "      <td>Short</td>\n",
       "      <td>2024-04-12 09:15:00+05:30</td>\n",
       "      <td>48729.7500</td>\n",
       "      <td>49057.4000</td>\n",
       "      <td>47650.1323</td>\n",
       "      <td>2024-04-18 10:45:00+05:30</td>\n",
       "      <td>47719.8000</td>\n",
       "      <td>1009.9500</td>\n",
       "      <td>9.6450</td>\n",
       "      <td>1000.3050</td>\n",
       "      <td>1020311.1459</td>\n",
       "      <td>Trailing SL</td>\n",
       "      <td>1020</td>\n",
       "      <td>5</td>\n",
       "      <td>10.2031</td>\n",
       "      <td>2024</td>\n",
       "      <td>4</td>\n",
       "    </tr>\n",
       "    <tr>\n",
       "      <th>745</th>\n",
       "      <td>Short</td>\n",
       "      <td>2024-04-26 10:15:00+05:30</td>\n",
       "      <td>48408.9500</td>\n",
       "      <td>48679.6500</td>\n",
       "      <td>48354.0361</td>\n",
       "      <td>2024-04-29 09:15:00+05:30</td>\n",
       "      <td>48511.2500</td>\n",
       "      <td>-102.3000</td>\n",
       "      <td>9.6920</td>\n",
       "      <td>-111.9920</td>\n",
       "      <td>-115911.7407</td>\n",
       "      <td>Trailing SL</td>\n",
       "      <td>1035</td>\n",
       "      <td>5</td>\n",
       "      <td>-1.1591</td>\n",
       "      <td>2024</td>\n",
       "      <td>4</td>\n",
       "    </tr>\n",
       "    <tr>\n",
       "      <th>746</th>\n",
       "      <td>Short</td>\n",
       "      <td>2024-04-30 14:45:00+05:30</td>\n",
       "      <td>49410.2500</td>\n",
       "      <td>49974.7500</td>\n",
       "      <td>49314.8081</td>\n",
       "      <td>2024-05-03 09:15:00+05:30</td>\n",
       "      <td>49469.7500</td>\n",
       "      <td>-59.5000</td>\n",
       "      <td>9.8880</td>\n",
       "      <td>-69.3880</td>\n",
       "      <td>-69734.9400</td>\n",
       "      <td>Trailing SL</td>\n",
       "      <td>1005</td>\n",
       "      <td>5</td>\n",
       "      <td>-0.6973</td>\n",
       "      <td>2024</td>\n",
       "      <td>4</td>\n",
       "    </tr>\n",
       "    <tr>\n",
       "      <th>747</th>\n",
       "      <td>Short</td>\n",
       "      <td>2024-05-03 10:15:00+05:30</td>\n",
       "      <td>49109.3000</td>\n",
       "      <td>49607.7500</td>\n",
       "      <td>49042.1324</td>\n",
       "      <td>2024-05-06 09:15:00+05:30</td>\n",
       "      <td>49098.5500</td>\n",
       "      <td>10.7500</td>\n",
       "      <td>9.8208</td>\n",
       "      <td>0.9292</td>\n",
       "      <td>947.7993</td>\n",
       "      <td>Trailing SL</td>\n",
       "      <td>1020</td>\n",
       "      <td>5</td>\n",
       "      <td>0.0095</td>\n",
       "      <td>2024</td>\n",
       "      <td>5</td>\n",
       "    </tr>\n",
       "    <tr>\n",
       "      <th>748</th>\n",
       "      <td>Short</td>\n",
       "      <td>2024-05-06 12:15:00+05:30</td>\n",
       "      <td>48967.8000</td>\n",
       "      <td>49231.6000</td>\n",
       "      <td>47992.2842</td>\n",
       "      <td>2024-05-09 12:45:00+05:30</td>\n",
       "      <td>47648.8000</td>\n",
       "      <td>1319.0000</td>\n",
       "      <td>9.6617</td>\n",
       "      <td>1309.3383</td>\n",
       "      <td>1335525.1068</td>\n",
       "      <td>Target</td>\n",
       "      <td>1020</td>\n",
       "      <td>5</td>\n",
       "      <td>13.3553</td>\n",
       "      <td>2024</td>\n",
       "      <td>5</td>\n",
       "    </tr>\n",
       "    <tr>\n",
       "      <th>749</th>\n",
       "      <td>Short</td>\n",
       "      <td>2024-05-15 09:45:00+05:30</td>\n",
       "      <td>47735.4500</td>\n",
       "      <td>47957.2000</td>\n",
       "      <td>47688.9225</td>\n",
       "      <td>2024-05-15 14:45:00+05:30</td>\n",
       "      <td>47718.2000</td>\n",
       "      <td>17.2500</td>\n",
       "      <td>9.5454</td>\n",
       "      <td>7.7046</td>\n",
       "      <td>8089.8667</td>\n",
       "      <td>Trailing SL</td>\n",
       "      <td>1050</td>\n",
       "      <td>5</td>\n",
       "      <td>0.0809</td>\n",
       "      <td>2024</td>\n",
       "      <td>5</td>\n",
       "    </tr>\n",
       "    <tr>\n",
       "      <th>750</th>\n",
       "      <td>Short</td>\n",
       "      <td>2024-05-21 09:15:00+05:30</td>\n",
       "      <td>48085.4000</td>\n",
       "      <td>48222.3500</td>\n",
       "      <td>0.0000</td>\n",
       "      <td>2024-05-21 12:45:00+05:30</td>\n",
       "      <td>48231.8000</td>\n",
       "      <td>-146.4000</td>\n",
       "      <td>9.6317</td>\n",
       "      <td>-156.0317</td>\n",
       "      <td>-161492.8302</td>\n",
       "      <td>Initial SL</td>\n",
       "      <td>1035</td>\n",
       "      <td>5</td>\n",
       "      <td>-1.6149</td>\n",
       "      <td>2024</td>\n",
       "      <td>5</td>\n",
       "    </tr>\n",
       "    <tr>\n",
       "      <th>751</th>\n",
       "      <td>Short</td>\n",
       "      <td>2024-05-21 14:45:00+05:30</td>\n",
       "      <td>48030.8500</td>\n",
       "      <td>48241.7000</td>\n",
       "      <td>47838.8081</td>\n",
       "      <td>2024-05-22 15:15:00+05:30</td>\n",
       "      <td>47906.0500</td>\n",
       "      <td>124.8000</td>\n",
       "      <td>9.5937</td>\n",
       "      <td>115.2063</td>\n",
       "      <td>119238.5308</td>\n",
       "      <td>Trailing SL</td>\n",
       "      <td>1035</td>\n",
       "      <td>5</td>\n",
       "      <td>1.1924</td>\n",
       "      <td>2024</td>\n",
       "      <td>5</td>\n",
       "    </tr>\n",
       "    <tr>\n",
       "      <th>752</th>\n",
       "      <td>Short</td>\n",
       "      <td>2024-05-27 14:45:00+05:30</td>\n",
       "      <td>49312.7500</td>\n",
       "      <td>49645.6500</td>\n",
       "      <td>49254.2509</td>\n",
       "      <td>2024-05-28 12:45:00+05:30</td>\n",
       "      <td>49288.1500</td>\n",
       "      <td>24.6000</td>\n",
       "      <td>9.8601</td>\n",
       "      <td>14.7399</td>\n",
       "      <td>15034.7082</td>\n",
       "      <td>Trailing SL</td>\n",
       "      <td>1020</td>\n",
       "      <td>5</td>\n",
       "      <td>0.1503</td>\n",
       "      <td>2024</td>\n",
       "      <td>5</td>\n",
       "    </tr>\n",
       "    <tr>\n",
       "      <th>753</th>\n",
       "      <td>Short</td>\n",
       "      <td>2024-05-28 14:45:00+05:30</td>\n",
       "      <td>49151.9000</td>\n",
       "      <td>49321.0000</td>\n",
       "      <td>48768.6159</td>\n",
       "      <td>2024-05-30 09:15:00+05:30</td>\n",
       "      <td>48786.7500</td>\n",
       "      <td>365.1500</td>\n",
       "      <td>9.7939</td>\n",
       "      <td>355.3561</td>\n",
       "      <td>362463.2577</td>\n",
       "      <td>Trailing SL</td>\n",
       "      <td>1020</td>\n",
       "      <td>5</td>\n",
       "      <td>3.6246</td>\n",
       "      <td>2024</td>\n",
       "      <td>5</td>\n",
       "    </tr>\n",
       "    <tr>\n",
       "      <th>754</th>\n",
       "      <td>Short</td>\n",
       "      <td>2024-05-30 14:15:00+05:30</td>\n",
       "      <td>48736.5500</td>\n",
       "      <td>49044.6000</td>\n",
       "      <td>0.0000</td>\n",
       "      <td>2024-05-31 09:15:00+05:30</td>\n",
       "      <td>48990.9500</td>\n",
       "      <td>-254.4000</td>\n",
       "      <td>9.7728</td>\n",
       "      <td>-264.1727</td>\n",
       "      <td>-269456.2050</td>\n",
       "      <td>Initial SL</td>\n",
       "      <td>1020</td>\n",
       "      <td>5</td>\n",
       "      <td>-2.6946</td>\n",
       "      <td>2024</td>\n",
       "      <td>5</td>\n",
       "    </tr>\n",
       "    <tr>\n",
       "      <th>755</th>\n",
       "      <td>Short</td>\n",
       "      <td>2024-06-06 11:45:00+05:30</td>\n",
       "      <td>49231.1500</td>\n",
       "      <td>49672.7500</td>\n",
       "      <td>0.0000</td>\n",
       "      <td>2024-06-07 10:45:00+05:30</td>\n",
       "      <td>49659.1500</td>\n",
       "      <td>-428.0000</td>\n",
       "      <td>9.8890</td>\n",
       "      <td>-437.8890</td>\n",
       "      <td>-446646.8106</td>\n",
       "      <td>Initial SL</td>\n",
       "      <td>1020</td>\n",
       "      <td>5</td>\n",
       "      <td>-4.4665</td>\n",
       "      <td>2024</td>\n",
       "      <td>6</td>\n",
       "    </tr>\n",
       "    <tr>\n",
       "      <th>756</th>\n",
       "      <td>Short</td>\n",
       "      <td>2024-06-10 15:15:00+05:30</td>\n",
       "      <td>49687.6500</td>\n",
       "      <td>50099.2000</td>\n",
       "      <td>49792.2024</td>\n",
       "      <td>2024-06-11 09:45:00+05:30</td>\n",
       "      <td>49861.4000</td>\n",
       "      <td>-173.7500</td>\n",
       "      <td>9.9549</td>\n",
       "      <td>-183.7049</td>\n",
       "      <td>-184623.4295</td>\n",
       "      <td>Trailing SL</td>\n",
       "      <td>1005</td>\n",
       "      <td>5</td>\n",
       "      <td>-1.8462</td>\n",
       "      <td>2024</td>\n",
       "      <td>6</td>\n",
       "    </tr>\n",
       "    <tr>\n",
       "      <th>757</th>\n",
       "      <td>Short</td>\n",
       "      <td>2024-06-11 14:45:00+05:30</td>\n",
       "      <td>49732.8500</td>\n",
       "      <td>49970.3000</td>\n",
       "      <td>49801.4663</td>\n",
       "      <td>2024-06-12 09:15:00+05:30</td>\n",
       "      <td>49848.6500</td>\n",
       "      <td>-115.8000</td>\n",
       "      <td>9.9581</td>\n",
       "      <td>-125.7582</td>\n",
       "      <td>-126386.9408</td>\n",
       "      <td>Trailing SL</td>\n",
       "      <td>1005</td>\n",
       "      <td>5</td>\n",
       "      <td>-1.2639</td>\n",
       "      <td>2024</td>\n",
       "      <td>6</td>\n",
       "    </tr>\n",
       "    <tr>\n",
       "      <th>758</th>\n",
       "      <td>Short</td>\n",
       "      <td>2024-06-12 13:45:00+05:30</td>\n",
       "      <td>49901.1000</td>\n",
       "      <td>50186.4500</td>\n",
       "      <td>49910.7125</td>\n",
       "      <td>2024-06-14 09:45:00+05:30</td>\n",
       "      <td>50024.8500</td>\n",
       "      <td>-123.7500</td>\n",
       "      <td>9.9926</td>\n",
       "      <td>-133.7426</td>\n",
       "      <td>-134411.3080</td>\n",
       "      <td>Trailing SL</td>\n",
       "      <td>1005</td>\n",
       "      <td>5</td>\n",
       "      <td>-1.3441</td>\n",
       "      <td>2024</td>\n",
       "      <td>6</td>\n",
       "    </tr>\n",
       "    <tr>\n",
       "      <th>759</th>\n",
       "      <td>Short</td>\n",
       "      <td>2024-06-21 09:15:00+05:30</td>\n",
       "      <td>51547.3000</td>\n",
       "      <td>51934.3500</td>\n",
       "      <td>51473.2628</td>\n",
       "      <td>2024-06-21 13:45:00+05:30</td>\n",
       "      <td>51660.3500</td>\n",
       "      <td>-113.0500</td>\n",
       "      <td>10.3208</td>\n",
       "      <td>-123.3708</td>\n",
       "      <td>-120286.4959</td>\n",
       "      <td>Trailing SL</td>\n",
       "      <td>975</td>\n",
       "      <td>5</td>\n",
       "      <td>-1.2029</td>\n",
       "      <td>2024</td>\n",
       "      <td>6</td>\n",
       "    </tr>\n",
       "    <tr>\n",
       "      <th>760</th>\n",
       "      <td>Short</td>\n",
       "      <td>2024-06-24 09:15:00+05:30</td>\n",
       "      <td>51199.3000</td>\n",
       "      <td>51797.8000</td>\n",
       "      <td>51454.4803</td>\n",
       "      <td>2024-06-24 10:15:00+05:30</td>\n",
       "      <td>51477.6000</td>\n",
       "      <td>-278.3000</td>\n",
       "      <td>10.2677</td>\n",
       "      <td>-288.5677</td>\n",
       "      <td>-281353.4977</td>\n",
       "      <td>Trailing SL</td>\n",
       "      <td>975</td>\n",
       "      <td>5</td>\n",
       "      <td>-2.8135</td>\n",
       "      <td>2024</td>\n",
       "      <td>6</td>\n",
       "    </tr>\n",
       "    <tr>\n",
       "      <th>761</th>\n",
       "      <td>Short</td>\n",
       "      <td>2024-06-26 09:15:00+05:30</td>\n",
       "      <td>52450.2000</td>\n",
       "      <td>52746.5000</td>\n",
       "      <td>0.0000</td>\n",
       "      <td>2024-06-26 10:45:00+05:30</td>\n",
       "      <td>52680.1000</td>\n",
       "      <td>-229.9000</td>\n",
       "      <td>10.5130</td>\n",
       "      <td>-240.4130</td>\n",
       "      <td>-230796.5088</td>\n",
       "      <td>Initial SL</td>\n",
       "      <td>960</td>\n",
       "      <td>5</td>\n",
       "      <td>-2.3080</td>\n",
       "      <td>2024</td>\n",
       "      <td>6</td>\n",
       "    </tr>\n",
       "    <tr>\n",
       "      <th>762</th>\n",
       "      <td>Short</td>\n",
       "      <td>2024-06-26 14:45:00+05:30</td>\n",
       "      <td>52837.5500</td>\n",
       "      <td>52988.3000</td>\n",
       "      <td>0.0000</td>\n",
       "      <td>2024-06-27 09:45:00+05:30</td>\n",
       "      <td>53100.1000</td>\n",
       "      <td>-262.5500</td>\n",
       "      <td>10.5938</td>\n",
       "      <td>-273.1438</td>\n",
       "      <td>-258120.8579</td>\n",
       "      <td>Initial SL</td>\n",
       "      <td>945</td>\n",
       "      <td>5</td>\n",
       "      <td>-2.5812</td>\n",
       "      <td>2024</td>\n",
       "      <td>6</td>\n",
       "    </tr>\n",
       "    <tr>\n",
       "      <th>763</th>\n",
       "      <td>Short</td>\n",
       "      <td>2024-06-28 11:15:00+05:30</td>\n",
       "      <td>52834.8000</td>\n",
       "      <td>53023.1000</td>\n",
       "      <td>52575.9004</td>\n",
       "      <td>2024-07-01 12:45:00+05:30</td>\n",
       "      <td>52579.9500</td>\n",
       "      <td>254.8500</td>\n",
       "      <td>10.5415</td>\n",
       "      <td>244.3085</td>\n",
       "      <td>230871.5561</td>\n",
       "      <td>Trailing SL</td>\n",
       "      <td>945</td>\n",
       "      <td>5</td>\n",
       "      <td>2.3087</td>\n",
       "      <td>2024</td>\n",
       "      <td>6</td>\n",
       "    </tr>\n",
       "    <tr>\n",
       "      <th>764</th>\n",
       "      <td>Short</td>\n",
       "      <td>2024-07-01 14:15:00+05:30</td>\n",
       "      <td>52518.0000</td>\n",
       "      <td>52638.4500</td>\n",
       "      <td>0.0000</td>\n",
       "      <td>2024-07-01 14:45:00+05:30</td>\n",
       "      <td>52613.4000</td>\n",
       "      <td>-95.4000</td>\n",
       "      <td>10.5131</td>\n",
       "      <td>-105.9131</td>\n",
       "      <td>-100087.9173</td>\n",
       "      <td>Initial SL</td>\n",
       "      <td>945</td>\n",
       "      <td>5</td>\n",
       "      <td>-1.0009</td>\n",
       "      <td>2024</td>\n",
       "      <td>7</td>\n",
       "    </tr>\n",
       "    <tr>\n",
       "      <th>765</th>\n",
       "      <td>Short</td>\n",
       "      <td>2024-07-03 15:15:00+05:30</td>\n",
       "      <td>53042.1500</td>\n",
       "      <td>53308.6000</td>\n",
       "      <td>52924.9892</td>\n",
       "      <td>2024-07-04 11:45:00+05:30</td>\n",
       "      <td>52942.0000</td>\n",
       "      <td>100.1500</td>\n",
       "      <td>10.5984</td>\n",
       "      <td>89.5516</td>\n",
       "      <td>84626.2478</td>\n",
       "      <td>Trailing SL</td>\n",
       "      <td>945</td>\n",
       "      <td>5</td>\n",
       "      <td>0.8463</td>\n",
       "      <td>2024</td>\n",
       "      <td>7</td>\n",
       "    </tr>\n",
       "    <tr>\n",
       "      <th>766</th>\n",
       "      <td>Short</td>\n",
       "      <td>2024-07-09 12:15:00+05:30</td>\n",
       "      <td>52493.9500</td>\n",
       "      <td>52626.6000</td>\n",
       "      <td>52206.0152</td>\n",
       "      <td>2024-07-11 10:15:00+05:30</td>\n",
       "      <td>51830.7000</td>\n",
       "      <td>663.2500</td>\n",
       "      <td>10.4325</td>\n",
       "      <td>652.8175</td>\n",
       "      <td>616912.5706</td>\n",
       "      <td>Target</td>\n",
       "      <td>945</td>\n",
       "      <td>5</td>\n",
       "      <td>6.1691</td>\n",
       "      <td>2024</td>\n",
       "      <td>7</td>\n",
       "    </tr>\n",
       "    <tr>\n",
       "      <th>767</th>\n",
       "      <td>Short</td>\n",
       "      <td>2024-07-12 14:15:00+05:30</td>\n",
       "      <td>52437.0000</td>\n",
       "      <td>52637.3500</td>\n",
       "      <td>52354.8962</td>\n",
       "      <td>2024-07-15 10:15:00+05:30</td>\n",
       "      <td>52446.4500</td>\n",
       "      <td>-9.4500</td>\n",
       "      <td>10.4883</td>\n",
       "      <td>-19.9383</td>\n",
       "      <td>-19140.8112</td>\n",
       "      <td>Trailing SL</td>\n",
       "      <td>960</td>\n",
       "      <td>5</td>\n",
       "      <td>-0.1914</td>\n",
       "      <td>2024</td>\n",
       "      <td>7</td>\n",
       "    </tr>\n",
       "    <tr>\n",
       "      <th>768</th>\n",
       "      <td>Short</td>\n",
       "      <td>2024-07-16 13:15:00+05:30</td>\n",
       "      <td>52396.4000</td>\n",
       "      <td>52513.8500</td>\n",
       "      <td>52445.3988</td>\n",
       "      <td>2024-07-18 09:45:00+05:30</td>\n",
       "      <td>52608.0000</td>\n",
       "      <td>-211.6000</td>\n",
       "      <td>10.5004</td>\n",
       "      <td>-222.1004</td>\n",
       "      <td>-213216.4224</td>\n",
       "      <td>Initial SL</td>\n",
       "      <td>960</td>\n",
       "      <td>5</td>\n",
       "      <td>-2.1322</td>\n",
       "      <td>2024</td>\n",
       "      <td>7</td>\n",
       "    </tr>\n",
       "    <tr>\n",
       "      <th>769</th>\n",
       "      <td>Short</td>\n",
       "      <td>2024-07-19 09:15:00+05:30</td>\n",
       "      <td>52551.8500</td>\n",
       "      <td>52782.7500</td>\n",
       "      <td>52349.5636</td>\n",
       "      <td>2024-07-22 09:45:00+05:30</td>\n",
       "      <td>52365.4500</td>\n",
       "      <td>186.4000</td>\n",
       "      <td>10.4917</td>\n",
       "      <td>175.9083</td>\n",
       "      <td>166233.3152</td>\n",
       "      <td>Trailing SL</td>\n",
       "      <td>945</td>\n",
       "      <td>5</td>\n",
       "      <td>1.6623</td>\n",
       "      <td>2024</td>\n",
       "      <td>7</td>\n",
       "    </tr>\n",
       "    <tr>\n",
       "      <th>770</th>\n",
       "      <td>Short</td>\n",
       "      <td>2024-07-29 12:15:00+05:30</td>\n",
       "      <td>51687.1500</td>\n",
       "      <td>52340.2500</td>\n",
       "      <td>51488.0260</td>\n",
       "      <td>2024-07-30 09:15:00+05:30</td>\n",
       "      <td>51588.2500</td>\n",
       "      <td>98.9000</td>\n",
       "      <td>10.3275</td>\n",
       "      <td>88.5725</td>\n",
       "      <td>85029.5616</td>\n",
       "      <td>Trailing SL</td>\n",
       "      <td>960</td>\n",
       "      <td>5</td>\n",
       "      <td>0.8503</td>\n",
       "      <td>2024</td>\n",
       "      <td>7</td>\n",
       "    </tr>\n",
       "    <tr>\n",
       "      <th>771</th>\n",
       "      <td>Short</td>\n",
       "      <td>2024-07-30 14:45:00+05:30</td>\n",
       "      <td>51462.3500</td>\n",
       "      <td>51922.5500</td>\n",
       "      <td>51602.5596</td>\n",
       "      <td>2024-07-31 09:45:00+05:30</td>\n",
       "      <td>51606.8500</td>\n",
       "      <td>-144.5000</td>\n",
       "      <td>10.3069</td>\n",
       "      <td>-154.8069</td>\n",
       "      <td>-150936.7470</td>\n",
       "      <td>Trailing SL</td>\n",
       "      <td>975</td>\n",
       "      <td>5</td>\n",
       "      <td>-1.5094</td>\n",
       "      <td>2024</td>\n",
       "      <td>7</td>\n",
       "    </tr>\n",
       "    <tr>\n",
       "      <th>772</th>\n",
       "      <td>Short</td>\n",
       "      <td>2024-07-31 13:15:00+05:30</td>\n",
       "      <td>51434.7500</td>\n",
       "      <td>51579.8000</td>\n",
       "      <td>51528.2442</td>\n",
       "      <td>2024-07-31 14:45:00+05:30</td>\n",
       "      <td>51547.4500</td>\n",
       "      <td>-112.7000</td>\n",
       "      <td>10.2982</td>\n",
       "      <td>-122.9982</td>\n",
       "      <td>-119923.2645</td>\n",
       "      <td>Initial SL</td>\n",
       "      <td>975</td>\n",
       "      <td>5</td>\n",
       "      <td>-1.1992</td>\n",
       "      <td>2024</td>\n",
       "      <td>7</td>\n",
       "    </tr>\n",
       "    <tr>\n",
       "      <th>773</th>\n",
       "      <td>Short</td>\n",
       "      <td>2024-08-01 12:15:00+05:30</td>\n",
       "      <td>51628.6500</td>\n",
       "      <td>51779.2500</td>\n",
       "      <td>51511.0576</td>\n",
       "      <td>2024-08-02 13:15:00+05:30</td>\n",
       "      <td>51558.3500</td>\n",
       "      <td>70.3000</td>\n",
       "      <td>10.3187</td>\n",
       "      <td>59.9813</td>\n",
       "      <td>58481.7675</td>\n",
       "      <td>Trailing SL</td>\n",
       "      <td>975</td>\n",
       "      <td>5</td>\n",
       "      <td>0.5848</td>\n",
       "      <td>2024</td>\n",
       "      <td>8</td>\n",
       "    </tr>\n",
       "    <tr>\n",
       "      <th>774</th>\n",
       "      <td>Short</td>\n",
       "      <td>2024-08-02 14:45:00+05:30</td>\n",
       "      <td>51341.7000</td>\n",
       "      <td>51608.7000</td>\n",
       "      <td>51062.2570</td>\n",
       "      <td>2024-08-05 10:45:00+05:30</td>\n",
       "      <td>50006.7000</td>\n",
       "      <td>1335.0000</td>\n",
       "      <td>10.1348</td>\n",
       "      <td>1324.8652</td>\n",
       "      <td>1291743.5310</td>\n",
       "      <td>Target</td>\n",
       "      <td>975</td>\n",
       "      <td>5</td>\n",
       "      <td>12.9174</td>\n",
       "      <td>2024</td>\n",
       "      <td>8</td>\n",
       "    </tr>\n",
       "    <tr>\n",
       "      <th>775</th>\n",
       "      <td>Short</td>\n",
       "      <td>2024-08-08 09:45:00+05:30</td>\n",
       "      <td>49928.3000</td>\n",
       "      <td>50254.5000</td>\n",
       "      <td>0.0000</td>\n",
       "      <td>2024-08-08 11:15:00+05:30</td>\n",
       "      <td>50194.3500</td>\n",
       "      <td>-266.0500</td>\n",
       "      <td>10.0123</td>\n",
       "      <td>-276.0623</td>\n",
       "      <td>-277442.5763</td>\n",
       "      <td>Initial SL</td>\n",
       "      <td>1005</td>\n",
       "      <td>5</td>\n",
       "      <td>-2.7744</td>\n",
       "      <td>2024</td>\n",
       "      <td>8</td>\n",
       "    </tr>\n",
       "    <tr>\n",
       "      <th>776</th>\n",
       "      <td>Short</td>\n",
       "      <td>2024-08-08 15:15:00+05:30</td>\n",
       "      <td>50109.4500</td>\n",
       "      <td>50287.6500</td>\n",
       "      <td>0.0000</td>\n",
       "      <td>2024-08-09 09:15:00+05:30</td>\n",
       "      <td>50600.8500</td>\n",
       "      <td>-491.4000</td>\n",
       "      <td>10.0710</td>\n",
       "      <td>-501.4710</td>\n",
       "      <td>-503978.3852</td>\n",
       "      <td>Gap SL</td>\n",
       "      <td>1005</td>\n",
       "      <td>5</td>\n",
       "      <td>-5.0398</td>\n",
       "      <td>2024</td>\n",
       "      <td>8</td>\n",
       "    </tr>\n",
       "    <tr>\n",
       "      <th>777</th>\n",
       "      <td>Short</td>\n",
       "      <td>2024-08-09 14:45:00+05:30</td>\n",
       "      <td>50469.1000</td>\n",
       "      <td>50632.3500</td>\n",
       "      <td>50411.8870</td>\n",
       "      <td>2024-08-12 10:15:00+05:30</td>\n",
       "      <td>50587.5500</td>\n",
       "      <td>-118.4500</td>\n",
       "      <td>10.1057</td>\n",
       "      <td>-128.5557</td>\n",
       "      <td>-127270.1084</td>\n",
       "      <td>Initial SL</td>\n",
       "      <td>990</td>\n",
       "      <td>5</td>\n",
       "      <td>-1.2727</td>\n",
       "      <td>2024</td>\n",
       "      <td>8</td>\n",
       "    </tr>\n",
       "    <tr>\n",
       "      <th>778</th>\n",
       "      <td>Short</td>\n",
       "      <td>2024-08-12 14:45:00+05:30</td>\n",
       "      <td>50591.7500</td>\n",
       "      <td>50830.7000</td>\n",
       "      <td>49878.8055</td>\n",
       "      <td>2024-08-16 09:15:00+05:30</td>\n",
       "      <td>50005.3000</td>\n",
       "      <td>586.4500</td>\n",
       "      <td>10.0597</td>\n",
       "      <td>576.3903</td>\n",
       "      <td>570626.3920</td>\n",
       "      <td>Trailing SL</td>\n",
       "      <td>990</td>\n",
       "      <td>5</td>\n",
       "      <td>5.7063</td>\n",
       "      <td>2024</td>\n",
       "      <td>8</td>\n",
       "    </tr>\n",
       "    <tr>\n",
       "      <th>779</th>\n",
       "      <td>Short</td>\n",
       "      <td>2024-08-19 09:45:00+05:30</td>\n",
       "      <td>50406.5500</td>\n",
       "      <td>50728.2500</td>\n",
       "      <td>0.0000</td>\n",
       "      <td>2024-08-20 09:45:00+05:30</td>\n",
       "      <td>50785.0000</td>\n",
       "      <td>-378.4500</td>\n",
       "      <td>10.1192</td>\n",
       "      <td>-388.5692</td>\n",
       "      <td>-384683.4634</td>\n",
       "      <td>Initial SL</td>\n",
       "      <td>990</td>\n",
       "      <td>5</td>\n",
       "      <td>-3.8468</td>\n",
       "      <td>2024</td>\n",
       "      <td>8</td>\n",
       "    </tr>\n",
       "    <tr>\n",
       "      <th>780</th>\n",
       "      <td>Short</td>\n",
       "      <td>2024-08-20 14:45:00+05:30</td>\n",
       "      <td>50773.9000</td>\n",
       "      <td>51003.7000</td>\n",
       "      <td>50579.3552</td>\n",
       "      <td>2024-08-21 14:45:00+05:30</td>\n",
       "      <td>50681.6500</td>\n",
       "      <td>92.2500</td>\n",
       "      <td>10.1456</td>\n",
       "      <td>82.1044</td>\n",
       "      <td>81283.4005</td>\n",
       "      <td>Trailing SL</td>\n",
       "      <td>990</td>\n",
       "      <td>5</td>\n",
       "      <td>0.8128</td>\n",
       "      <td>2024</td>\n",
       "      <td>8</td>\n",
       "    </tr>\n",
       "    <tr>\n",
       "      <th>781</th>\n",
       "      <td>Short</td>\n",
       "      <td>2024-08-23 09:15:00+05:30</td>\n",
       "      <td>50892.9500</td>\n",
       "      <td>51117.8500</td>\n",
       "      <td>0.0000</td>\n",
       "      <td>2024-08-26 09:15:00+05:30</td>\n",
       "      <td>51248.0500</td>\n",
       "      <td>-355.1000</td>\n",
       "      <td>10.2141</td>\n",
       "      <td>-365.3141</td>\n",
       "      <td>-356181.2475</td>\n",
       "      <td>Gap SL</td>\n",
       "      <td>975</td>\n",
       "      <td>5</td>\n",
       "      <td>-3.5618</td>\n",
       "      <td>2024</td>\n",
       "      <td>8</td>\n",
       "    </tr>\n",
       "    <tr>\n",
       "      <th>782</th>\n",
       "      <td>Short</td>\n",
       "      <td>2024-08-26 13:45:00+05:30</td>\n",
       "      <td>51166.6000</td>\n",
       "      <td>51279.9000</td>\n",
       "      <td>0.0000</td>\n",
       "      <td>2024-08-27 11:15:00+05:30</td>\n",
       "      <td>51341.6000</td>\n",
       "      <td>-175.0000</td>\n",
       "      <td>10.2508</td>\n",
       "      <td>-185.2508</td>\n",
       "      <td>-180619.5495</td>\n",
       "      <td>Initial SL</td>\n",
       "      <td>975</td>\n",
       "      <td>5</td>\n",
       "      <td>-1.8062</td>\n",
       "      <td>2024</td>\n",
       "      <td>8</td>\n",
       "    </tr>\n",
       "    <tr>\n",
       "      <th>783</th>\n",
       "      <td>Short</td>\n",
       "      <td>2024-08-27 15:15:00+05:30</td>\n",
       "      <td>51171.5000</td>\n",
       "      <td>51382.5000</td>\n",
       "      <td>51204.6103</td>\n",
       "      <td>2024-08-28 11:45:00+05:30</td>\n",
       "      <td>51212.4500</td>\n",
       "      <td>-40.9500</td>\n",
       "      <td>10.2384</td>\n",
       "      <td>-51.1884</td>\n",
       "      <td>-49908.6851</td>\n",
       "      <td>Trailing SL</td>\n",
       "      <td>975</td>\n",
       "      <td>5</td>\n",
       "      <td>-0.4991</td>\n",
       "      <td>2024</td>\n",
       "      <td>8</td>\n",
       "    </tr>\n",
       "    <tr>\n",
       "      <th>784</th>\n",
       "      <td>Short</td>\n",
       "      <td>2024-08-28 14:15:00+05:30</td>\n",
       "      <td>51180.0000</td>\n",
       "      <td>51249.8000</td>\n",
       "      <td>51194.4069</td>\n",
       "      <td>2024-08-29 09:45:00+05:30</td>\n",
       "      <td>51260.2000</td>\n",
       "      <td>-80.2000</td>\n",
       "      <td>10.2440</td>\n",
       "      <td>-90.4440</td>\n",
       "      <td>-88182.9195</td>\n",
       "      <td>Initial SL</td>\n",
       "      <td>975</td>\n",
       "      <td>5</td>\n",
       "      <td>-0.8818</td>\n",
       "      <td>2024</td>\n",
       "      <td>8</td>\n",
       "    </tr>\n",
       "    <tr>\n",
       "      <th>785</th>\n",
       "      <td>Short</td>\n",
       "      <td>2024-08-29 11:15:00+05:30</td>\n",
       "      <td>51152.6500</td>\n",
       "      <td>51304.0500</td>\n",
       "      <td>0.0000</td>\n",
       "      <td>2024-08-29 12:15:00+05:30</td>\n",
       "      <td>51308.0500</td>\n",
       "      <td>-155.4000</td>\n",
       "      <td>10.2461</td>\n",
       "      <td>-165.6461</td>\n",
       "      <td>-161504.9183</td>\n",
       "      <td>Initial SL</td>\n",
       "      <td>975</td>\n",
       "      <td>5</td>\n",
       "      <td>-1.6150</td>\n",
       "      <td>2024</td>\n",
       "      <td>8</td>\n",
       "    </tr>\n",
       "    <tr>\n",
       "      <th>786</th>\n",
       "      <td>Short</td>\n",
       "      <td>2024-08-29 13:45:00+05:30</td>\n",
       "      <td>51114.7000</td>\n",
       "      <td>51454.5500</td>\n",
       "      <td>51199.6438</td>\n",
       "      <td>2024-08-30 09:15:00+05:30</td>\n",
       "      <td>51347.6000</td>\n",
       "      <td>-232.9000</td>\n",
       "      <td>10.2462</td>\n",
       "      <td>-243.1462</td>\n",
       "      <td>-237067.5743</td>\n",
       "      <td>Trailing SL</td>\n",
       "      <td>975</td>\n",
       "      <td>5</td>\n",
       "      <td>-2.3707</td>\n",
       "      <td>2024</td>\n",
       "      <td>8</td>\n",
       "    </tr>\n",
       "    <tr>\n",
       "      <th>787</th>\n",
       "      <td>Short</td>\n",
       "      <td>2024-08-30 14:45:00+05:30</td>\n",
       "      <td>51355.7000</td>\n",
       "      <td>51491.2000</td>\n",
       "      <td>0.0000</td>\n",
       "      <td>2024-09-02 13:45:00+05:30</td>\n",
       "      <td>51510.2000</td>\n",
       "      <td>-154.5000</td>\n",
       "      <td>10.2866</td>\n",
       "      <td>-164.7866</td>\n",
       "      <td>-160666.9253</td>\n",
       "      <td>Initial SL</td>\n",
       "      <td>975</td>\n",
       "      <td>5</td>\n",
       "      <td>-1.6067</td>\n",
       "      <td>2024</td>\n",
       "      <td>8</td>\n",
       "    </tr>\n",
       "    <tr>\n",
       "      <th>788</th>\n",
       "      <td>Short</td>\n",
       "      <td>2024-09-03 10:45:00+05:30</td>\n",
       "      <td>51289.1000</td>\n",
       "      <td>51501.3000</td>\n",
       "      <td>0.0000</td>\n",
       "      <td>2024-09-03 14:15:00+05:30</td>\n",
       "      <td>51508.0500</td>\n",
       "      <td>-218.9500</td>\n",
       "      <td>10.2797</td>\n",
       "      <td>-229.2297</td>\n",
       "      <td>-223498.9721</td>\n",
       "      <td>Initial SL</td>\n",
       "      <td>975</td>\n",
       "      <td>5</td>\n",
       "      <td>-2.2350</td>\n",
       "      <td>2024</td>\n",
       "      <td>9</td>\n",
       "    </tr>\n",
       "    <tr>\n",
       "      <th>789</th>\n",
       "      <td>Short</td>\n",
       "      <td>2024-09-04 09:15:00+05:30</td>\n",
       "      <td>51268.7000</td>\n",
       "      <td>51750.1000</td>\n",
       "      <td>51415.2286</td>\n",
       "      <td>2024-09-04 11:45:00+05:30</td>\n",
       "      <td>51420.8500</td>\n",
       "      <td>-152.1500</td>\n",
       "      <td>10.2690</td>\n",
       "      <td>-162.4190</td>\n",
       "      <td>-158358.4811</td>\n",
       "      <td>Trailing SL</td>\n",
       "      <td>975</td>\n",
       "      <td>5</td>\n",
       "      <td>-1.5836</td>\n",
       "      <td>2024</td>\n",
       "      <td>9</td>\n",
       "    </tr>\n",
       "    <tr>\n",
       "      <th>790</th>\n",
       "      <td>Short</td>\n",
       "      <td>2024-09-05 14:15:00+05:30</td>\n",
       "      <td>51412.0500</td>\n",
       "      <td>51512.9500</td>\n",
       "      <td>51383.9879</td>\n",
       "      <td>2024-09-06 09:45:00+05:30</td>\n",
       "      <td>50907.5500</td>\n",
       "      <td>504.5000</td>\n",
       "      <td>10.2320</td>\n",
       "      <td>494.2680</td>\n",
       "      <td>481911.3390</td>\n",
       "      <td>Target</td>\n",
       "      <td>975</td>\n",
       "      <td>5</td>\n",
       "      <td>4.8191</td>\n",
       "      <td>2024</td>\n",
       "      <td>9</td>\n",
       "    </tr>\n",
       "    <tr>\n",
       "      <th>791</th>\n",
       "      <td>Short</td>\n",
       "      <td>2024-09-11 11:15:00+05:30</td>\n",
       "      <td>51165.1000</td>\n",
       "      <td>51420.1500</td>\n",
       "      <td>51148.2056</td>\n",
       "      <td>2024-09-12 09:15:00+05:30</td>\n",
       "      <td>51266.5500</td>\n",
       "      <td>-101.4500</td>\n",
       "      <td>10.2432</td>\n",
       "      <td>-111.6932</td>\n",
       "      <td>-108900.8359</td>\n",
       "      <td>Trailing SL</td>\n",
       "      <td>975</td>\n",
       "      <td>5</td>\n",
       "      <td>-1.0890</td>\n",
       "      <td>2024</td>\n",
       "      <td>9</td>\n",
       "    </tr>\n",
       "    <tr>\n",
       "      <th>792</th>\n",
       "      <td>Short</td>\n",
       "      <td>2024-09-17 15:15:00+05:30</td>\n",
       "      <td>52144.6500</td>\n",
       "      <td>52262.4500</td>\n",
       "      <td>0.0000</td>\n",
       "      <td>2024-09-18 09:15:00+05:30</td>\n",
       "      <td>52433.2500</td>\n",
       "      <td>-288.6000</td>\n",
       "      <td>10.4578</td>\n",
       "      <td>-299.0578</td>\n",
       "      <td>-287095.4784</td>\n",
       "      <td>Initial SL</td>\n",
       "      <td>960</td>\n",
       "      <td>5</td>\n",
       "      <td>-2.8710</td>\n",
       "      <td>2024</td>\n",
       "      <td>9</td>\n",
       "    </tr>\n",
       "    <tr>\n",
       "      <th>793</th>\n",
       "      <td>Short</td>\n",
       "      <td>2024-09-18 13:15:00+05:30</td>\n",
       "      <td>52708.2000</td>\n",
       "      <td>52954.2000</td>\n",
       "      <td>0.0000</td>\n",
       "      <td>2024-09-19 09:15:00+05:30</td>\n",
       "      <td>53277.5500</td>\n",
       "      <td>-569.3500</td>\n",
       "      <td>10.5986</td>\n",
       "      <td>-579.9486</td>\n",
       "      <td>-548051.4034</td>\n",
       "      <td>Initial SL</td>\n",
       "      <td>945</td>\n",
       "      <td>5</td>\n",
       "      <td>-5.4805</td>\n",
       "      <td>2024</td>\n",
       "      <td>9</td>\n",
       "    </tr>\n",
       "    <tr>\n",
       "      <th>794</th>\n",
       "      <td>Short</td>\n",
       "      <td>2024-09-19 11:15:00+05:30</td>\n",
       "      <td>52915.9500</td>\n",
       "      <td>53299.7500</td>\n",
       "      <td>0.0000</td>\n",
       "      <td>2024-09-20 09:15:00+05:30</td>\n",
       "      <td>53103.0500</td>\n",
       "      <td>-187.1000</td>\n",
       "      <td>10.6019</td>\n",
       "      <td>-197.7019</td>\n",
       "      <td>-186828.2955</td>\n",
       "      <td>Initial SL</td>\n",
       "      <td>945</td>\n",
       "      <td>5</td>\n",
       "      <td>-1.8683</td>\n",
       "      <td>2024</td>\n",
       "      <td>9</td>\n",
       "    </tr>\n",
       "    <tr>\n",
       "      <th>795</th>\n",
       "      <td>Short</td>\n",
       "      <td>2024-09-20 13:15:00+05:30</td>\n",
       "      <td>53240.0500</td>\n",
       "      <td>53711.9000</td>\n",
       "      <td>0.0000</td>\n",
       "      <td>2024-09-20 14:45:00+05:30</td>\n",
       "      <td>53826.8000</td>\n",
       "      <td>-586.7500</td>\n",
       "      <td>10.7067</td>\n",
       "      <td>-597.4567</td>\n",
       "      <td>-564596.5673</td>\n",
       "      <td>Initial SL</td>\n",
       "      <td>945</td>\n",
       "      <td>5</td>\n",
       "      <td>-5.6460</td>\n",
       "      <td>2024</td>\n",
       "      <td>9</td>\n",
       "    </tr>\n",
       "    <tr>\n",
       "      <th>796</th>\n",
       "      <td>Short</td>\n",
       "      <td>2024-09-24 14:45:00+05:30</td>\n",
       "      <td>53978.6000</td>\n",
       "      <td>54247.7000</td>\n",
       "      <td>0.0000</td>\n",
       "      <td>2024-09-26 12:15:00+05:30</td>\n",
       "      <td>54180.7500</td>\n",
       "      <td>-202.1500</td>\n",
       "      <td>10.8159</td>\n",
       "      <td>-212.9659</td>\n",
       "      <td>-198058.3196</td>\n",
       "      <td>Initial SL</td>\n",
       "      <td>930</td>\n",
       "      <td>5</td>\n",
       "      <td>-1.9806</td>\n",
       "      <td>2024</td>\n",
       "      <td>9</td>\n",
       "    </tr>\n",
       "    <tr>\n",
       "      <th>797</th>\n",
       "      <td>Short</td>\n",
       "      <td>2024-09-27 12:15:00+05:30</td>\n",
       "      <td>54098.2500</td>\n",
       "      <td>54295.5500</td>\n",
       "      <td>53914.7191</td>\n",
       "      <td>2024-09-30 09:45:00+05:30</td>\n",
       "      <td>53111.7500</td>\n",
       "      <td>986.5000</td>\n",
       "      <td>10.7210</td>\n",
       "      <td>975.7790</td>\n",
       "      <td>907474.4700</td>\n",
       "      <td>Target</td>\n",
       "      <td>930</td>\n",
       "      <td>5</td>\n",
       "      <td>9.0747</td>\n",
       "      <td>2024</td>\n",
       "      <td>9</td>\n",
       "    </tr>\n",
       "    <tr>\n",
       "      <th>798</th>\n",
       "      <td>Short</td>\n",
       "      <td>2024-10-09 11:45:00+05:30</td>\n",
       "      <td>51086.4000</td>\n",
       "      <td>51707.1500</td>\n",
       "      <td>51130.8495</td>\n",
       "      <td>2024-10-10 09:15:00+05:30</td>\n",
       "      <td>51182.8500</td>\n",
       "      <td>-96.4500</td>\n",
       "      <td>10.2269</td>\n",
       "      <td>-106.6769</td>\n",
       "      <td>-104010.0019</td>\n",
       "      <td>Trailing SL</td>\n",
       "      <td>975</td>\n",
       "      <td>5</td>\n",
       "      <td>-1.0401</td>\n",
       "      <td>2024</td>\n",
       "      <td>10</td>\n",
       "    </tr>\n",
       "    <tr>\n",
       "      <th>799</th>\n",
       "      <td>Short</td>\n",
       "      <td>2024-10-11 09:15:00+05:30</td>\n",
       "      <td>51351.8000</td>\n",
       "      <td>51659.4500</td>\n",
       "      <td>51271.8635</td>\n",
       "      <td>2024-10-14 09:15:00+05:30</td>\n",
       "      <td>51589.8000</td>\n",
       "      <td>-238.0000</td>\n",
       "      <td>10.2942</td>\n",
       "      <td>-248.2942</td>\n",
       "      <td>-242086.8060</td>\n",
       "      <td>Trailing SL</td>\n",
       "      <td>975</td>\n",
       "      <td>5</td>\n",
       "      <td>-2.4209</td>\n",
       "      <td>2024</td>\n",
       "      <td>10</td>\n",
       "    </tr>\n",
       "    <tr>\n",
       "      <th>800</th>\n",
       "      <td>Short</td>\n",
       "      <td>2024-10-14 12:45:00+05:30</td>\n",
       "      <td>51686.2000</td>\n",
       "      <td>51792.2500</td>\n",
       "      <td>0.0000</td>\n",
       "      <td>2024-10-14 13:45:00+05:30</td>\n",
       "      <td>51782.0500</td>\n",
       "      <td>-95.8500</td>\n",
       "      <td>10.3468</td>\n",
       "      <td>-106.1968</td>\n",
       "      <td>-101948.9520</td>\n",
       "      <td>Initial SL</td>\n",
       "      <td>960</td>\n",
       "      <td>5</td>\n",
       "      <td>-1.0195</td>\n",
       "      <td>2024</td>\n",
       "      <td>10</td>\n",
       "    </tr>\n",
       "    <tr>\n",
       "      <th>801</th>\n",
       "      <td>Short</td>\n",
       "      <td>2024-10-15 09:45:00+05:30</td>\n",
       "      <td>51753.8500</td>\n",
       "      <td>52022.0500</td>\n",
       "      <td>0.0000</td>\n",
       "      <td>2024-10-16 09:45:00+05:30</td>\n",
       "      <td>51944.3000</td>\n",
       "      <td>-190.4500</td>\n",
       "      <td>10.3698</td>\n",
       "      <td>-200.8198</td>\n",
       "      <td>-192787.0224</td>\n",
       "      <td>Initial SL</td>\n",
       "      <td>960</td>\n",
       "      <td>5</td>\n",
       "      <td>-1.9279</td>\n",
       "      <td>2024</td>\n",
       "      <td>10</td>\n",
       "    </tr>\n",
       "    <tr>\n",
       "      <th>802</th>\n",
       "      <td>Short</td>\n",
       "      <td>2024-10-16 11:15:00+05:30</td>\n",
       "      <td>51841.9000</td>\n",
       "      <td>52031.6000</td>\n",
       "      <td>51438.3707</td>\n",
       "      <td>2024-10-18 09:45:00+05:30</td>\n",
       "      <td>51555.3000</td>\n",
       "      <td>286.6000</td>\n",
       "      <td>10.3397</td>\n",
       "      <td>276.2603</td>\n",
       "      <td>265209.8688</td>\n",
       "      <td>Trailing SL</td>\n",
       "      <td>960</td>\n",
       "      <td>5</td>\n",
       "      <td>2.6521</td>\n",
       "      <td>2024</td>\n",
       "      <td>10</td>\n",
       "    </tr>\n",
       "    <tr>\n",
       "      <th>803</th>\n",
       "      <td>Short</td>\n",
       "      <td>2024-10-21 11:45:00+05:30</td>\n",
       "      <td>51915.5000</td>\n",
       "      <td>52231.7000</td>\n",
       "      <td>0.0000</td>\n",
       "      <td>2024-10-22 09:45:00+05:30</td>\n",
       "      <td>52070.7000</td>\n",
       "      <td>-155.2000</td>\n",
       "      <td>10.3986</td>\n",
       "      <td>-165.5986</td>\n",
       "      <td>-158974.6752</td>\n",
       "      <td>Initial SL</td>\n",
       "      <td>960</td>\n",
       "      <td>5</td>\n",
       "      <td>-1.5897</td>\n",
       "      <td>2024</td>\n",
       "      <td>10</td>\n",
       "    </tr>\n",
       "    <tr>\n",
       "      <th>804</th>\n",
       "      <td>Short</td>\n",
       "      <td>2024-10-24 12:45:00+05:30</td>\n",
       "      <td>51555.9000</td>\n",
       "      <td>51710.8500</td>\n",
       "      <td>51385.3317</td>\n",
       "      <td>2024-10-25 09:45:00+05:30</td>\n",
       "      <td>50781.1500</td>\n",
       "      <td>774.7500</td>\n",
       "      <td>10.2337</td>\n",
       "      <td>764.5163</td>\n",
       "      <td>745403.3876</td>\n",
       "      <td>Target</td>\n",
       "      <td>975</td>\n",
       "      <td>5</td>\n",
       "      <td>7.4540</td>\n",
       "      <td>2024</td>\n",
       "      <td>10</td>\n",
       "    </tr>\n",
       "    <tr>\n",
       "      <th>805</th>\n",
       "      <td>Short</td>\n",
       "      <td>2024-10-28 13:45:00+05:30</td>\n",
       "      <td>51328.2500</td>\n",
       "      <td>51589.1500</td>\n",
       "      <td>0.0000</td>\n",
       "      <td>2024-10-29 11:15:00+05:30</td>\n",
       "      <td>51690.8000</td>\n",
       "      <td>-362.5500</td>\n",
       "      <td>10.3019</td>\n",
       "      <td>-372.8519</td>\n",
       "      <td>-363530.6074</td>\n",
       "      <td>Initial SL</td>\n",
       "      <td>975</td>\n",
       "      <td>5</td>\n",
       "      <td>-3.6353</td>\n",
       "      <td>2024</td>\n",
       "      <td>10</td>\n",
       "    </tr>\n",
       "    <tr>\n",
       "      <th>806</th>\n",
       "      <td>Short</td>\n",
       "      <td>2024-10-30 09:15:00+05:30</td>\n",
       "      <td>51841.7000</td>\n",
       "      <td>52354.8500</td>\n",
       "      <td>51846.9010</td>\n",
       "      <td>2024-10-30 15:15:00+05:30</td>\n",
       "      <td>51849.2000</td>\n",
       "      <td>-7.5000</td>\n",
       "      <td>10.3691</td>\n",
       "      <td>-17.8691</td>\n",
       "      <td>-17154.3264</td>\n",
       "      <td>Trailing SL</td>\n",
       "      <td>960</td>\n",
       "      <td>5</td>\n",
       "      <td>-0.1715</td>\n",
       "      <td>2024</td>\n",
       "      <td>10</td>\n",
       "    </tr>\n",
       "    <tr>\n",
       "      <th>807</th>\n",
       "      <td>Short</td>\n",
       "      <td>2024-10-31 11:15:00+05:30</td>\n",
       "      <td>51729.2500</td>\n",
       "      <td>52005.6000</td>\n",
       "      <td>51631.3840</td>\n",
       "      <td>2024-11-01 18:00:00+05:30</td>\n",
       "      <td>51704.5000</td>\n",
       "      <td>24.7500</td>\n",
       "      <td>10.3434</td>\n",
       "      <td>14.4066</td>\n",
       "      <td>13830.3600</td>\n",
       "      <td>Trailing SL</td>\n",
       "      <td>960</td>\n",
       "      <td>5</td>\n",
       "      <td>0.1383</td>\n",
       "      <td>2024</td>\n",
       "      <td>10</td>\n",
       "    </tr>\n",
       "    <tr>\n",
       "      <th>808</th>\n",
       "      <td>Short</td>\n",
       "      <td>2024-11-06 14:15:00+05:30</td>\n",
       "      <td>52262.1500</td>\n",
       "      <td>52409.4000</td>\n",
       "      <td>52023.4060</td>\n",
       "      <td>2024-11-07 12:45:00+05:30</td>\n",
       "      <td>52061.0500</td>\n",
       "      <td>201.1000</td>\n",
       "      <td>10.4323</td>\n",
       "      <td>190.6677</td>\n",
       "      <td>183040.9728</td>\n",
       "      <td>Trailing SL</td>\n",
       "      <td>960</td>\n",
       "      <td>5</td>\n",
       "      <td>1.8304</td>\n",
       "      <td>2024</td>\n",
       "      <td>11</td>\n",
       "    </tr>\n",
       "    <tr>\n",
       "      <th>809</th>\n",
       "      <td>Short</td>\n",
       "      <td>2024-11-08 09:15:00+05:30</td>\n",
       "      <td>51819.3000</td>\n",
       "      <td>51977.5000</td>\n",
       "      <td>51945.7799</td>\n",
       "      <td>2024-11-08 09:45:00+05:30</td>\n",
       "      <td>51826.4500</td>\n",
       "      <td>-7.1500</td>\n",
       "      <td>10.3646</td>\n",
       "      <td>-17.5146</td>\n",
       "      <td>-16813.9920</td>\n",
       "      <td>Initial SL</td>\n",
       "      <td>960</td>\n",
       "      <td>5</td>\n",
       "      <td>-0.1681</td>\n",
       "      <td>2024</td>\n",
       "      <td>11</td>\n",
       "    </tr>\n",
       "    <tr>\n",
       "      <th>810</th>\n",
       "      <td>Short</td>\n",
       "      <td>2024-11-11 13:15:00+05:30</td>\n",
       "      <td>51863.5000</td>\n",
       "      <td>52174.1000</td>\n",
       "      <td>50933.1582</td>\n",
       "      <td>2024-11-13 14:15:00+05:30</td>\n",
       "      <td>50310.5000</td>\n",
       "      <td>1553.0000</td>\n",
       "      <td>10.2174</td>\n",
       "      <td>1542.7826</td>\n",
       "      <td>1481071.2960</td>\n",
       "      <td>Target</td>\n",
       "      <td>960</td>\n",
       "      <td>5</td>\n",
       "      <td>14.8107</td>\n",
       "      <td>2024</td>\n",
       "      <td>11</td>\n",
       "    </tr>\n",
       "    <tr>\n",
       "      <th>811</th>\n",
       "      <td>Short</td>\n",
       "      <td>2024-11-19 13:45:00+05:30</td>\n",
       "      <td>50835.5000</td>\n",
       "      <td>50983.5000</td>\n",
       "      <td>50592.1175</td>\n",
       "      <td>2024-11-21 09:15:00+05:30</td>\n",
       "      <td>50095.5000</td>\n",
       "      <td>740.0000</td>\n",
       "      <td>10.0931</td>\n",
       "      <td>729.9069</td>\n",
       "      <td>722607.8310</td>\n",
       "      <td>Target</td>\n",
       "      <td>990</td>\n",
       "      <td>5</td>\n",
       "      <td>7.2261</td>\n",
       "      <td>2024</td>\n",
       "      <td>11</td>\n",
       "    </tr>\n",
       "    <tr>\n",
       "      <th>812</th>\n",
       "      <td>Short</td>\n",
       "      <td>2024-11-25 12:15:00+05:30</td>\n",
       "      <td>52168.0000</td>\n",
       "      <td>52295.6000</td>\n",
       "      <td>0.0000</td>\n",
       "      <td>2024-11-25 15:15:00+05:30</td>\n",
       "      <td>52199.4000</td>\n",
       "      <td>-31.4000</td>\n",
       "      <td>10.4367</td>\n",
       "      <td>-41.8367</td>\n",
       "      <td>-40163.2704</td>\n",
       "      <td>Initial SL</td>\n",
       "      <td>960</td>\n",
       "      <td>5</td>\n",
       "      <td>-0.4016</td>\n",
       "      <td>2024</td>\n",
       "      <td>11</td>\n",
       "    </tr>\n",
       "    <tr>\n",
       "      <th>813</th>\n",
       "      <td>Short</td>\n",
       "      <td>2024-11-26 10:15:00+05:30</td>\n",
       "      <td>52096.1500</td>\n",
       "      <td>52555.5000</td>\n",
       "      <td>0.0000</td>\n",
       "      <td>2024-11-28 09:45:00+05:30</td>\n",
       "      <td>52706.8500</td>\n",
       "      <td>-610.7000</td>\n",
       "      <td>10.4803</td>\n",
       "      <td>-621.1803</td>\n",
       "      <td>-596333.0880</td>\n",
       "      <td>Initial SL</td>\n",
       "      <td>960</td>\n",
       "      <td>5</td>\n",
       "      <td>-5.9633</td>\n",
       "      <td>2024</td>\n",
       "      <td>11</td>\n",
       "    </tr>\n",
       "    <tr>\n",
       "      <th>814</th>\n",
       "      <td>Short</td>\n",
       "      <td>2024-11-28 10:15:00+05:30</td>\n",
       "      <td>52239.1000</td>\n",
       "      <td>52760.2000</td>\n",
       "      <td>51998.4760</td>\n",
       "      <td>2024-11-29 14:15:00+05:30</td>\n",
       "      <td>52064.4500</td>\n",
       "      <td>174.6500</td>\n",
       "      <td>10.4304</td>\n",
       "      <td>164.2196</td>\n",
       "      <td>157650.8592</td>\n",
       "      <td>Trailing SL</td>\n",
       "      <td>960</td>\n",
       "      <td>5</td>\n",
       "      <td>1.5765</td>\n",
       "      <td>2024</td>\n",
       "      <td>11</td>\n",
       "    </tr>\n",
       "    <tr>\n",
       "      <th>815</th>\n",
       "      <td>Short</td>\n",
       "      <td>2024-12-02 09:15:00+05:30</td>\n",
       "      <td>51866.9500</td>\n",
       "      <td>52122.5500</td>\n",
       "      <td>51911.2478</td>\n",
       "      <td>2024-12-02 13:45:00+05:30</td>\n",
       "      <td>52005.9000</td>\n",
       "      <td>-138.9500</td>\n",
       "      <td>10.3873</td>\n",
       "      <td>-149.3373</td>\n",
       "      <td>-143363.7936</td>\n",
       "      <td>Trailing SL</td>\n",
       "      <td>960</td>\n",
       "      <td>5</td>\n",
       "      <td>-1.4336</td>\n",
       "      <td>2024</td>\n",
       "      <td>12</td>\n",
       "    </tr>\n",
       "    <tr>\n",
       "      <th>816</th>\n",
       "      <td>Short</td>\n",
       "      <td>2024-12-05 09:15:00+05:30</td>\n",
       "      <td>53191.7000</td>\n",
       "      <td>53387.1000</td>\n",
       "      <td>0.0000</td>\n",
       "      <td>2024-12-05 11:45:00+05:30</td>\n",
       "      <td>53484.5000</td>\n",
       "      <td>-292.8000</td>\n",
       "      <td>10.6676</td>\n",
       "      <td>-303.4676</td>\n",
       "      <td>-286776.9009</td>\n",
       "      <td>Initial SL</td>\n",
       "      <td>945</td>\n",
       "      <td>5</td>\n",
       "      <td>-2.8678</td>\n",
       "      <td>2024</td>\n",
       "      <td>12</td>\n",
       "    </tr>\n",
       "  </tbody>\n",
       "</table>\n",
       "</div>"
      ],
      "text/plain": [
       "    Trade Type                Entry Time  Entry Price  Initial SL  \\\n",
       "717      Short 2024-01-01 14:45:00+05:30   48213.6500  48450.0000   \n",
       "718      Short 2024-01-05 10:15:00+05:30   48166.6500  48381.9500   \n",
       "719      Short 2024-01-08 10:45:00+05:30   47874.5000  48154.5000   \n",
       "720      Short 2024-01-09 13:45:00+05:30   47674.8000  47877.0500   \n",
       "721      Short 2024-01-12 14:45:00+05:30   47659.9500  47873.7000   \n",
       "722      Short 2024-01-16 12:45:00+05:30   48122.8500  48305.4000   \n",
       "723      Short 2024-01-19 10:45:00+05:30   45930.1500  46249.8500   \n",
       "724      Short 2024-01-20 12:15:00+05:30   45733.0500  46006.0500   \n",
       "725      Short 2024-01-30 14:15:00+05:30   45307.8000  45492.5000   \n",
       "726      Short 2024-01-31 12:15:00+05:30   45915.6500  46179.7500   \n",
       "727      Short 2024-02-02 12:45:00+05:30   46254.7000  46892.3500   \n",
       "728      Short 2024-02-07 11:15:00+05:30   45680.0500  45958.1500   \n",
       "729      Short 2024-02-12 09:45:00+05:30   45376.3500  45748.5000   \n",
       "730      Short 2024-02-13 11:45:00+05:30   45082.8500  45461.9500   \n",
       "731      Short 2024-02-13 15:15:00+05:30   45419.8500  45750.4000   \n",
       "732      Short 2024-02-19 14:45:00+05:30   46515.9500  46717.4000   \n",
       "733      Short 2024-02-21 10:15:00+05:30   46973.9000  47359.0500   \n",
       "734      Short 2024-02-23 13:15:00+05:30   46872.4000  47084.7000   \n",
       "735      Short 2024-03-06 14:45:00+05:30   47919.9500  48161.2500   \n",
       "736      Short 2024-03-07 15:15:00+05:30   47788.0000  47975.6000   \n",
       "737      Short 2024-03-14 13:15:00+05:30   46903.5500  47215.7500   \n",
       "738      Short 2024-03-20 14:15:00+05:30   46283.9500  46655.5500   \n",
       "739      Short 2024-03-21 11:45:00+05:30   46625.2000  46990.2500   \n",
       "740      Short 2024-03-28 14:45:00+05:30   47036.7000  47440.4500   \n",
       "741      Short 2024-04-01 12:45:00+05:30   47466.8000  47589.0500   \n",
       "742      Short 2024-04-02 12:45:00+05:30   47573.3500  47663.1000   \n",
       "743      Short 2024-04-09 13:15:00+05:30   48752.0000  48951.9500   \n",
       "744      Short 2024-04-12 09:15:00+05:30   48729.7500  49057.4000   \n",
       "745      Short 2024-04-26 10:15:00+05:30   48408.9500  48679.6500   \n",
       "746      Short 2024-04-30 14:45:00+05:30   49410.2500  49974.7500   \n",
       "747      Short 2024-05-03 10:15:00+05:30   49109.3000  49607.7500   \n",
       "748      Short 2024-05-06 12:15:00+05:30   48967.8000  49231.6000   \n",
       "749      Short 2024-05-15 09:45:00+05:30   47735.4500  47957.2000   \n",
       "750      Short 2024-05-21 09:15:00+05:30   48085.4000  48222.3500   \n",
       "751      Short 2024-05-21 14:45:00+05:30   48030.8500  48241.7000   \n",
       "752      Short 2024-05-27 14:45:00+05:30   49312.7500  49645.6500   \n",
       "753      Short 2024-05-28 14:45:00+05:30   49151.9000  49321.0000   \n",
       "754      Short 2024-05-30 14:15:00+05:30   48736.5500  49044.6000   \n",
       "755      Short 2024-06-06 11:45:00+05:30   49231.1500  49672.7500   \n",
       "756      Short 2024-06-10 15:15:00+05:30   49687.6500  50099.2000   \n",
       "757      Short 2024-06-11 14:45:00+05:30   49732.8500  49970.3000   \n",
       "758      Short 2024-06-12 13:45:00+05:30   49901.1000  50186.4500   \n",
       "759      Short 2024-06-21 09:15:00+05:30   51547.3000  51934.3500   \n",
       "760      Short 2024-06-24 09:15:00+05:30   51199.3000  51797.8000   \n",
       "761      Short 2024-06-26 09:15:00+05:30   52450.2000  52746.5000   \n",
       "762      Short 2024-06-26 14:45:00+05:30   52837.5500  52988.3000   \n",
       "763      Short 2024-06-28 11:15:00+05:30   52834.8000  53023.1000   \n",
       "764      Short 2024-07-01 14:15:00+05:30   52518.0000  52638.4500   \n",
       "765      Short 2024-07-03 15:15:00+05:30   53042.1500  53308.6000   \n",
       "766      Short 2024-07-09 12:15:00+05:30   52493.9500  52626.6000   \n",
       "767      Short 2024-07-12 14:15:00+05:30   52437.0000  52637.3500   \n",
       "768      Short 2024-07-16 13:15:00+05:30   52396.4000  52513.8500   \n",
       "769      Short 2024-07-19 09:15:00+05:30   52551.8500  52782.7500   \n",
       "770      Short 2024-07-29 12:15:00+05:30   51687.1500  52340.2500   \n",
       "771      Short 2024-07-30 14:45:00+05:30   51462.3500  51922.5500   \n",
       "772      Short 2024-07-31 13:15:00+05:30   51434.7500  51579.8000   \n",
       "773      Short 2024-08-01 12:15:00+05:30   51628.6500  51779.2500   \n",
       "774      Short 2024-08-02 14:45:00+05:30   51341.7000  51608.7000   \n",
       "775      Short 2024-08-08 09:45:00+05:30   49928.3000  50254.5000   \n",
       "776      Short 2024-08-08 15:15:00+05:30   50109.4500  50287.6500   \n",
       "777      Short 2024-08-09 14:45:00+05:30   50469.1000  50632.3500   \n",
       "778      Short 2024-08-12 14:45:00+05:30   50591.7500  50830.7000   \n",
       "779      Short 2024-08-19 09:45:00+05:30   50406.5500  50728.2500   \n",
       "780      Short 2024-08-20 14:45:00+05:30   50773.9000  51003.7000   \n",
       "781      Short 2024-08-23 09:15:00+05:30   50892.9500  51117.8500   \n",
       "782      Short 2024-08-26 13:45:00+05:30   51166.6000  51279.9000   \n",
       "783      Short 2024-08-27 15:15:00+05:30   51171.5000  51382.5000   \n",
       "784      Short 2024-08-28 14:15:00+05:30   51180.0000  51249.8000   \n",
       "785      Short 2024-08-29 11:15:00+05:30   51152.6500  51304.0500   \n",
       "786      Short 2024-08-29 13:45:00+05:30   51114.7000  51454.5500   \n",
       "787      Short 2024-08-30 14:45:00+05:30   51355.7000  51491.2000   \n",
       "788      Short 2024-09-03 10:45:00+05:30   51289.1000  51501.3000   \n",
       "789      Short 2024-09-04 09:15:00+05:30   51268.7000  51750.1000   \n",
       "790      Short 2024-09-05 14:15:00+05:30   51412.0500  51512.9500   \n",
       "791      Short 2024-09-11 11:15:00+05:30   51165.1000  51420.1500   \n",
       "792      Short 2024-09-17 15:15:00+05:30   52144.6500  52262.4500   \n",
       "793      Short 2024-09-18 13:15:00+05:30   52708.2000  52954.2000   \n",
       "794      Short 2024-09-19 11:15:00+05:30   52915.9500  53299.7500   \n",
       "795      Short 2024-09-20 13:15:00+05:30   53240.0500  53711.9000   \n",
       "796      Short 2024-09-24 14:45:00+05:30   53978.6000  54247.7000   \n",
       "797      Short 2024-09-27 12:15:00+05:30   54098.2500  54295.5500   \n",
       "798      Short 2024-10-09 11:45:00+05:30   51086.4000  51707.1500   \n",
       "799      Short 2024-10-11 09:15:00+05:30   51351.8000  51659.4500   \n",
       "800      Short 2024-10-14 12:45:00+05:30   51686.2000  51792.2500   \n",
       "801      Short 2024-10-15 09:45:00+05:30   51753.8500  52022.0500   \n",
       "802      Short 2024-10-16 11:15:00+05:30   51841.9000  52031.6000   \n",
       "803      Short 2024-10-21 11:45:00+05:30   51915.5000  52231.7000   \n",
       "804      Short 2024-10-24 12:45:00+05:30   51555.9000  51710.8500   \n",
       "805      Short 2024-10-28 13:45:00+05:30   51328.2500  51589.1500   \n",
       "806      Short 2024-10-30 09:15:00+05:30   51841.7000  52354.8500   \n",
       "807      Short 2024-10-31 11:15:00+05:30   51729.2500  52005.6000   \n",
       "808      Short 2024-11-06 14:15:00+05:30   52262.1500  52409.4000   \n",
       "809      Short 2024-11-08 09:15:00+05:30   51819.3000  51977.5000   \n",
       "810      Short 2024-11-11 13:15:00+05:30   51863.5000  52174.1000   \n",
       "811      Short 2024-11-19 13:45:00+05:30   50835.5000  50983.5000   \n",
       "812      Short 2024-11-25 12:15:00+05:30   52168.0000  52295.6000   \n",
       "813      Short 2024-11-26 10:15:00+05:30   52096.1500  52555.5000   \n",
       "814      Short 2024-11-28 10:15:00+05:30   52239.1000  52760.2000   \n",
       "815      Short 2024-12-02 09:15:00+05:30   51866.9500  52122.5500   \n",
       "816      Short 2024-12-05 09:15:00+05:30   53191.7000  53387.1000   \n",
       "\n",
       "     Trailing SL                 Exit Time  Exit Price  Points Captured  \\\n",
       "717   47779.7750 2024-01-04 09:15:00+05:30  47892.8500         320.8000   \n",
       "718   48067.8811 2024-01-05 14:45:00+05:30  48167.6000          -0.9500   \n",
       "719   47785.8256 2024-01-09 10:15:00+05:30  47882.7500          -8.2500   \n",
       "720   47410.4392 2024-01-11 09:15:00+05:30  47503.5000         171.3000   \n",
       "721       0.0000 2024-01-15 09:15:00+05:30  48073.5500        -413.6000   \n",
       "722   48005.5157 2024-01-17 09:15:00+05:30  47210.1000         912.7500   \n",
       "723   45892.6035 2024-01-20 10:15:00+05:30  45928.1000           2.0500   \n",
       "724       0.0000 2024-01-20 12:45:00+05:30  46078.1500        -345.1000   \n",
       "725       0.0000 2024-01-31 09:45:00+05:30  45824.4500        -516.6500   \n",
       "726       0.0000 2024-02-01 11:45:00+05:30  46098.9500        -183.3000   \n",
       "727   45773.6437 2024-02-06 15:15:00+05:30  45774.4500         480.2500   \n",
       "728   45773.1492 2024-02-07 13:15:00+05:30  45773.5500         -93.5000   \n",
       "729   45120.2568 2024-02-13 09:15:00+05:30  45139.2500         237.1000   \n",
       "730   45183.7378 2024-02-13 12:45:00+05:30  45285.8000        -202.9500   \n",
       "731   45292.6774 2024-02-14 10:45:00+05:30  45361.3500          58.5000   \n",
       "732       0.0000 2024-02-20 09:45:00+05:30  46876.5000        -360.5500   \n",
       "733   46785.3953 2024-02-22 14:15:00+05:30  46786.8500         187.0500   \n",
       "734   46595.4548 2024-02-27 12:45:00+05:30  46664.5000         207.9000   \n",
       "735   47868.0433 2024-03-07 14:15:00+05:30  47887.3000          32.6500   \n",
       "736   47540.8664 2024-03-12 09:15:00+05:30  47720.0500          67.9500   \n",
       "737   46516.7401 2024-03-18 11:45:00+05:30  46589.4500         314.1000   \n",
       "738   46367.4426 2024-03-20 15:15:00+05:30  46370.2000         -86.2500   \n",
       "739   46697.5492 2024-03-27 09:15:00+05:30  46807.4500        -182.2500   \n",
       "740       0.0000 2024-04-01 09:15:00+05:30  47515.4500        -478.7500   \n",
       "741       0.0000 2024-04-01 14:45:00+05:30  47583.8500        -117.0500   \n",
       "742   47520.4954 2024-04-03 11:45:00+05:30  47623.6000         -50.2500   \n",
       "743       0.0000 2024-04-10 10:15:00+05:30  48918.4000        -166.4000   \n",
       "744   47650.1323 2024-04-18 10:45:00+05:30  47719.8000        1009.9500   \n",
       "745   48354.0361 2024-04-29 09:15:00+05:30  48511.2500        -102.3000   \n",
       "746   49314.8081 2024-05-03 09:15:00+05:30  49469.7500         -59.5000   \n",
       "747   49042.1324 2024-05-06 09:15:00+05:30  49098.5500          10.7500   \n",
       "748   47992.2842 2024-05-09 12:45:00+05:30  47648.8000        1319.0000   \n",
       "749   47688.9225 2024-05-15 14:45:00+05:30  47718.2000          17.2500   \n",
       "750       0.0000 2024-05-21 12:45:00+05:30  48231.8000        -146.4000   \n",
       "751   47838.8081 2024-05-22 15:15:00+05:30  47906.0500         124.8000   \n",
       "752   49254.2509 2024-05-28 12:45:00+05:30  49288.1500          24.6000   \n",
       "753   48768.6159 2024-05-30 09:15:00+05:30  48786.7500         365.1500   \n",
       "754       0.0000 2024-05-31 09:15:00+05:30  48990.9500        -254.4000   \n",
       "755       0.0000 2024-06-07 10:45:00+05:30  49659.1500        -428.0000   \n",
       "756   49792.2024 2024-06-11 09:45:00+05:30  49861.4000        -173.7500   \n",
       "757   49801.4663 2024-06-12 09:15:00+05:30  49848.6500        -115.8000   \n",
       "758   49910.7125 2024-06-14 09:45:00+05:30  50024.8500        -123.7500   \n",
       "759   51473.2628 2024-06-21 13:45:00+05:30  51660.3500        -113.0500   \n",
       "760   51454.4803 2024-06-24 10:15:00+05:30  51477.6000        -278.3000   \n",
       "761       0.0000 2024-06-26 10:45:00+05:30  52680.1000        -229.9000   \n",
       "762       0.0000 2024-06-27 09:45:00+05:30  53100.1000        -262.5500   \n",
       "763   52575.9004 2024-07-01 12:45:00+05:30  52579.9500         254.8500   \n",
       "764       0.0000 2024-07-01 14:45:00+05:30  52613.4000         -95.4000   \n",
       "765   52924.9892 2024-07-04 11:45:00+05:30  52942.0000         100.1500   \n",
       "766   52206.0152 2024-07-11 10:15:00+05:30  51830.7000         663.2500   \n",
       "767   52354.8962 2024-07-15 10:15:00+05:30  52446.4500          -9.4500   \n",
       "768   52445.3988 2024-07-18 09:45:00+05:30  52608.0000        -211.6000   \n",
       "769   52349.5636 2024-07-22 09:45:00+05:30  52365.4500         186.4000   \n",
       "770   51488.0260 2024-07-30 09:15:00+05:30  51588.2500          98.9000   \n",
       "771   51602.5596 2024-07-31 09:45:00+05:30  51606.8500        -144.5000   \n",
       "772   51528.2442 2024-07-31 14:45:00+05:30  51547.4500        -112.7000   \n",
       "773   51511.0576 2024-08-02 13:15:00+05:30  51558.3500          70.3000   \n",
       "774   51062.2570 2024-08-05 10:45:00+05:30  50006.7000        1335.0000   \n",
       "775       0.0000 2024-08-08 11:15:00+05:30  50194.3500        -266.0500   \n",
       "776       0.0000 2024-08-09 09:15:00+05:30  50600.8500        -491.4000   \n",
       "777   50411.8870 2024-08-12 10:15:00+05:30  50587.5500        -118.4500   \n",
       "778   49878.8055 2024-08-16 09:15:00+05:30  50005.3000         586.4500   \n",
       "779       0.0000 2024-08-20 09:45:00+05:30  50785.0000        -378.4500   \n",
       "780   50579.3552 2024-08-21 14:45:00+05:30  50681.6500          92.2500   \n",
       "781       0.0000 2024-08-26 09:15:00+05:30  51248.0500        -355.1000   \n",
       "782       0.0000 2024-08-27 11:15:00+05:30  51341.6000        -175.0000   \n",
       "783   51204.6103 2024-08-28 11:45:00+05:30  51212.4500         -40.9500   \n",
       "784   51194.4069 2024-08-29 09:45:00+05:30  51260.2000         -80.2000   \n",
       "785       0.0000 2024-08-29 12:15:00+05:30  51308.0500        -155.4000   \n",
       "786   51199.6438 2024-08-30 09:15:00+05:30  51347.6000        -232.9000   \n",
       "787       0.0000 2024-09-02 13:45:00+05:30  51510.2000        -154.5000   \n",
       "788       0.0000 2024-09-03 14:15:00+05:30  51508.0500        -218.9500   \n",
       "789   51415.2286 2024-09-04 11:45:00+05:30  51420.8500        -152.1500   \n",
       "790   51383.9879 2024-09-06 09:45:00+05:30  50907.5500         504.5000   \n",
       "791   51148.2056 2024-09-12 09:15:00+05:30  51266.5500        -101.4500   \n",
       "792       0.0000 2024-09-18 09:15:00+05:30  52433.2500        -288.6000   \n",
       "793       0.0000 2024-09-19 09:15:00+05:30  53277.5500        -569.3500   \n",
       "794       0.0000 2024-09-20 09:15:00+05:30  53103.0500        -187.1000   \n",
       "795       0.0000 2024-09-20 14:45:00+05:30  53826.8000        -586.7500   \n",
       "796       0.0000 2024-09-26 12:15:00+05:30  54180.7500        -202.1500   \n",
       "797   53914.7191 2024-09-30 09:45:00+05:30  53111.7500         986.5000   \n",
       "798   51130.8495 2024-10-10 09:15:00+05:30  51182.8500         -96.4500   \n",
       "799   51271.8635 2024-10-14 09:15:00+05:30  51589.8000        -238.0000   \n",
       "800       0.0000 2024-10-14 13:45:00+05:30  51782.0500         -95.8500   \n",
       "801       0.0000 2024-10-16 09:45:00+05:30  51944.3000        -190.4500   \n",
       "802   51438.3707 2024-10-18 09:45:00+05:30  51555.3000         286.6000   \n",
       "803       0.0000 2024-10-22 09:45:00+05:30  52070.7000        -155.2000   \n",
       "804   51385.3317 2024-10-25 09:45:00+05:30  50781.1500         774.7500   \n",
       "805       0.0000 2024-10-29 11:15:00+05:30  51690.8000        -362.5500   \n",
       "806   51846.9010 2024-10-30 15:15:00+05:30  51849.2000          -7.5000   \n",
       "807   51631.3840 2024-11-01 18:00:00+05:30  51704.5000          24.7500   \n",
       "808   52023.4060 2024-11-07 12:45:00+05:30  52061.0500         201.1000   \n",
       "809   51945.7799 2024-11-08 09:45:00+05:30  51826.4500          -7.1500   \n",
       "810   50933.1582 2024-11-13 14:15:00+05:30  50310.5000        1553.0000   \n",
       "811   50592.1175 2024-11-21 09:15:00+05:30  50095.5000         740.0000   \n",
       "812       0.0000 2024-11-25 15:15:00+05:30  52199.4000         -31.4000   \n",
       "813       0.0000 2024-11-28 09:45:00+05:30  52706.8500        -610.7000   \n",
       "814   51998.4760 2024-11-29 14:15:00+05:30  52064.4500         174.6500   \n",
       "815   51911.2478 2024-12-02 13:45:00+05:30  52005.9000        -138.9500   \n",
       "816       0.0000 2024-12-05 11:45:00+05:30  53484.5000        -292.8000   \n",
       "\n",
       "     Slippage in Points  After Costs          PnL      Remarks   Qty  \\\n",
       "717              9.6106     311.1894  322080.9773  Trailing SL  1035   \n",
       "718              9.6334     -10.5834  -10953.8449  Trailing SL  1035   \n",
       "719              9.5757     -17.8257  -18717.0112  Trailing SL  1050   \n",
       "720              9.5178     161.7822  169871.2785  Trailing SL  1050   \n",
       "721              9.5733    -423.1734 -444332.0175   Initial SL  1050   \n",
       "722              9.5333     903.2167  934829.2897       Target  1035   \n",
       "723              9.1858      -7.1358   -7813.7284  Trailing SL  1095   \n",
       "724              9.1811    -354.2811 -387937.8264   Initial SL  1095   \n",
       "725              9.1132    -525.7632 -583597.1797   Initial SL  1110   \n",
       "726              9.2015    -192.5015 -210789.0987   Initial SL  1095   \n",
       "727              9.2029     471.0471  508730.8518  Trailing SL  1080   \n",
       "728              9.1454    -102.6454 -112396.6692  Trailing SL  1095   \n",
       "729              9.0516     228.0484  249713.0418  Trailing SL  1095   \n",
       "730              9.0369    -211.9869 -235305.4202  Trailing SL  1110   \n",
       "731              9.0781      49.4219   54116.9586  Trailing SL  1095   \n",
       "732              9.3392    -369.8892 -399480.3846   Initial SL  1080   \n",
       "733              9.3761     177.6739  189222.7301  Trailing SL  1065   \n",
       "734              9.3537     198.5463  211451.8202  Trailing SL  1065   \n",
       "735              9.5807      23.0693   24222.7387  Trailing SL  1050   \n",
       "736              9.5508      58.3992   61319.1547  Trailing SL  1050   \n",
       "737              9.3493     304.7507  324559.4955  Trailing SL  1065   \n",
       "738              9.2654     -95.5154 -103156.6482  Trailing SL  1080   \n",
       "739              9.3433    -191.5933 -204046.8272  Trailing SL  1065   \n",
       "740              9.4552    -488.2052 -519938.5540   Initial SL  1065   \n",
       "741              9.5051    -126.5551 -132882.8182   Initial SL  1050   \n",
       "742              9.5197     -59.7697  -62758.1797  Trailing SL  1050   \n",
       "743              9.7670    -176.1670 -179690.3808   Initial SL  1020   \n",
       "744              9.6450    1000.3050 1020311.1459  Trailing SL  1020   \n",
       "745              9.6920    -111.9920 -115911.7407  Trailing SL  1035   \n",
       "746              9.8880     -69.3880  -69734.9400  Trailing SL  1005   \n",
       "747              9.8208       0.9292     947.7993  Trailing SL  1020   \n",
       "748              9.6617    1309.3383 1335525.1068       Target  1020   \n",
       "749              9.5454       7.7046    8089.8667  Trailing SL  1050   \n",
       "750              9.6317    -156.0317 -161492.8302   Initial SL  1035   \n",
       "751              9.5937     115.2063  119238.5308  Trailing SL  1035   \n",
       "752              9.8601      14.7399   15034.7082  Trailing SL  1020   \n",
       "753              9.7939     355.3561  362463.2577  Trailing SL  1020   \n",
       "754              9.7728    -264.1727 -269456.2050   Initial SL  1020   \n",
       "755              9.8890    -437.8890 -446646.8106   Initial SL  1020   \n",
       "756              9.9549    -183.7049 -184623.4295  Trailing SL  1005   \n",
       "757              9.9581    -125.7582 -126386.9408  Trailing SL  1005   \n",
       "758              9.9926    -133.7426 -134411.3080  Trailing SL  1005   \n",
       "759             10.3208    -123.3708 -120286.4959  Trailing SL   975   \n",
       "760             10.2677    -288.5677 -281353.4977  Trailing SL   975   \n",
       "761             10.5130    -240.4130 -230796.5088   Initial SL   960   \n",
       "762             10.5938    -273.1438 -258120.8579   Initial SL   945   \n",
       "763             10.5415     244.3085  230871.5561  Trailing SL   945   \n",
       "764             10.5131    -105.9131 -100087.9173   Initial SL   945   \n",
       "765             10.5984      89.5516   84626.2478  Trailing SL   945   \n",
       "766             10.4325     652.8175  616912.5706       Target   945   \n",
       "767             10.4883     -19.9383  -19140.8112  Trailing SL   960   \n",
       "768             10.5004    -222.1004 -213216.4224   Initial SL   960   \n",
       "769             10.4917     175.9083  166233.3152  Trailing SL   945   \n",
       "770             10.3275      88.5725   85029.5616  Trailing SL   960   \n",
       "771             10.3069    -154.8069 -150936.7470  Trailing SL   975   \n",
       "772             10.2982    -122.9982 -119923.2645   Initial SL   975   \n",
       "773             10.3187      59.9813   58481.7675  Trailing SL   975   \n",
       "774             10.1348    1324.8652 1291743.5310       Target   975   \n",
       "775             10.0123    -276.0623 -277442.5763   Initial SL  1005   \n",
       "776             10.0710    -501.4710 -503978.3852       Gap SL  1005   \n",
       "777             10.1057    -128.5557 -127270.1084   Initial SL   990   \n",
       "778             10.0597     576.3903  570626.3920  Trailing SL   990   \n",
       "779             10.1192    -388.5692 -384683.4634   Initial SL   990   \n",
       "780             10.1456      82.1044   81283.4005  Trailing SL   990   \n",
       "781             10.2141    -365.3141 -356181.2475       Gap SL   975   \n",
       "782             10.2508    -185.2508 -180619.5495   Initial SL   975   \n",
       "783             10.2384     -51.1884  -49908.6851  Trailing SL   975   \n",
       "784             10.2440     -90.4440  -88182.9195   Initial SL   975   \n",
       "785             10.2461    -165.6461 -161504.9183   Initial SL   975   \n",
       "786             10.2462    -243.1462 -237067.5743  Trailing SL   975   \n",
       "787             10.2866    -164.7866 -160666.9253   Initial SL   975   \n",
       "788             10.2797    -229.2297 -223498.9721   Initial SL   975   \n",
       "789             10.2690    -162.4190 -158358.4811  Trailing SL   975   \n",
       "790             10.2320     494.2680  481911.3390       Target   975   \n",
       "791             10.2432    -111.6932 -108900.8359  Trailing SL   975   \n",
       "792             10.4578    -299.0578 -287095.4784   Initial SL   960   \n",
       "793             10.5986    -579.9486 -548051.4034   Initial SL   945   \n",
       "794             10.6019    -197.7019 -186828.2955   Initial SL   945   \n",
       "795             10.7067    -597.4567 -564596.5673   Initial SL   945   \n",
       "796             10.8159    -212.9659 -198058.3196   Initial SL   930   \n",
       "797             10.7210     975.7790  907474.4700       Target   930   \n",
       "798             10.2269    -106.6769 -104010.0019  Trailing SL   975   \n",
       "799             10.2942    -248.2942 -242086.8060  Trailing SL   975   \n",
       "800             10.3468    -106.1968 -101948.9520   Initial SL   960   \n",
       "801             10.3698    -200.8198 -192787.0224   Initial SL   960   \n",
       "802             10.3397     276.2603  265209.8688  Trailing SL   960   \n",
       "803             10.3986    -165.5986 -158974.6752   Initial SL   960   \n",
       "804             10.2337     764.5163  745403.3876       Target   975   \n",
       "805             10.3019    -372.8519 -363530.6074   Initial SL   975   \n",
       "806             10.3691     -17.8691  -17154.3264  Trailing SL   960   \n",
       "807             10.3434      14.4066   13830.3600  Trailing SL   960   \n",
       "808             10.4323     190.6677  183040.9728  Trailing SL   960   \n",
       "809             10.3646     -17.5146  -16813.9920   Initial SL   960   \n",
       "810             10.2174    1542.7826 1481071.2960       Target   960   \n",
       "811             10.0931     729.9069  722607.8310       Target   990   \n",
       "812             10.4367     -41.8367  -40163.2704   Initial SL   960   \n",
       "813             10.4803    -621.1803 -596333.0880   Initial SL   960   \n",
       "814             10.4304     164.2196  157650.8592  Trailing SL   960   \n",
       "815             10.3873    -149.3373 -143363.7936  Trailing SL   960   \n",
       "816             10.6676    -303.4676 -286776.9009   Initial SL   945   \n",
       "\n",
       "     Leverage    ROI%  Trade Year  Trade Month  \n",
       "717         5  3.2208        2024            1  \n",
       "718         5 -0.1095        2024            1  \n",
       "719         5 -0.1872        2024            1  \n",
       "720         5  1.6987        2024            1  \n",
       "721         5 -4.4433        2024            1  \n",
       "722         5  9.3483        2024            1  \n",
       "723         5 -0.0781        2024            1  \n",
       "724         5 -3.8794        2024            1  \n",
       "725         5 -5.8360        2024            1  \n",
       "726         5 -2.1079        2024            1  \n",
       "727         5  5.0873        2024            2  \n",
       "728         5 -1.1240        2024            2  \n",
       "729         5  2.4971        2024            2  \n",
       "730         5 -2.3531        2024            2  \n",
       "731         5  0.5412        2024            2  \n",
       "732         5 -3.9948        2024            2  \n",
       "733         5  1.8922        2024            2  \n",
       "734         5  2.1145        2024            2  \n",
       "735         5  0.2422        2024            3  \n",
       "736         5  0.6132        2024            3  \n",
       "737         5  3.2456        2024            3  \n",
       "738         5 -1.0316        2024            3  \n",
       "739         5 -2.0405        2024            3  \n",
       "740         5 -5.1994        2024            3  \n",
       "741         5 -1.3288        2024            4  \n",
       "742         5 -0.6276        2024            4  \n",
       "743         5 -1.7969        2024            4  \n",
       "744         5 10.2031        2024            4  \n",
       "745         5 -1.1591        2024            4  \n",
       "746         5 -0.6973        2024            4  \n",
       "747         5  0.0095        2024            5  \n",
       "748         5 13.3553        2024            5  \n",
       "749         5  0.0809        2024            5  \n",
       "750         5 -1.6149        2024            5  \n",
       "751         5  1.1924        2024            5  \n",
       "752         5  0.1503        2024            5  \n",
       "753         5  3.6246        2024            5  \n",
       "754         5 -2.6946        2024            5  \n",
       "755         5 -4.4665        2024            6  \n",
       "756         5 -1.8462        2024            6  \n",
       "757         5 -1.2639        2024            6  \n",
       "758         5 -1.3441        2024            6  \n",
       "759         5 -1.2029        2024            6  \n",
       "760         5 -2.8135        2024            6  \n",
       "761         5 -2.3080        2024            6  \n",
       "762         5 -2.5812        2024            6  \n",
       "763         5  2.3087        2024            6  \n",
       "764         5 -1.0009        2024            7  \n",
       "765         5  0.8463        2024            7  \n",
       "766         5  6.1691        2024            7  \n",
       "767         5 -0.1914        2024            7  \n",
       "768         5 -2.1322        2024            7  \n",
       "769         5  1.6623        2024            7  \n",
       "770         5  0.8503        2024            7  \n",
       "771         5 -1.5094        2024            7  \n",
       "772         5 -1.1992        2024            7  \n",
       "773         5  0.5848        2024            8  \n",
       "774         5 12.9174        2024            8  \n",
       "775         5 -2.7744        2024            8  \n",
       "776         5 -5.0398        2024            8  \n",
       "777         5 -1.2727        2024            8  \n",
       "778         5  5.7063        2024            8  \n",
       "779         5 -3.8468        2024            8  \n",
       "780         5  0.8128        2024            8  \n",
       "781         5 -3.5618        2024            8  \n",
       "782         5 -1.8062        2024            8  \n",
       "783         5 -0.4991        2024            8  \n",
       "784         5 -0.8818        2024            8  \n",
       "785         5 -1.6150        2024            8  \n",
       "786         5 -2.3707        2024            8  \n",
       "787         5 -1.6067        2024            8  \n",
       "788         5 -2.2350        2024            9  \n",
       "789         5 -1.5836        2024            9  \n",
       "790         5  4.8191        2024            9  \n",
       "791         5 -1.0890        2024            9  \n",
       "792         5 -2.8710        2024            9  \n",
       "793         5 -5.4805        2024            9  \n",
       "794         5 -1.8683        2024            9  \n",
       "795         5 -5.6460        2024            9  \n",
       "796         5 -1.9806        2024            9  \n",
       "797         5  9.0747        2024            9  \n",
       "798         5 -1.0401        2024           10  \n",
       "799         5 -2.4209        2024           10  \n",
       "800         5 -1.0195        2024           10  \n",
       "801         5 -1.9279        2024           10  \n",
       "802         5  2.6521        2024           10  \n",
       "803         5 -1.5897        2024           10  \n",
       "804         5  7.4540        2024           10  \n",
       "805         5 -3.6353        2024           10  \n",
       "806         5 -0.1715        2024           10  \n",
       "807         5  0.1383        2024           10  \n",
       "808         5  1.8304        2024           11  \n",
       "809         5 -0.1681        2024           11  \n",
       "810         5 14.8107        2024           11  \n",
       "811         5  7.2261        2024           11  \n",
       "812         5 -0.4016        2024           11  \n",
       "813         5 -5.9633        2024           11  \n",
       "814         5  1.5765        2024           11  \n",
       "815         5 -1.4336        2024           12  \n",
       "816         5 -2.8678        2024           12  "
      ]
     },
     "execution_count": 546,
     "metadata": {},
     "output_type": "execute_result"
    }
   ],
   "source": [
    "tb[tb['Trade Year'] > 2023]"
   ]
  },
  {
   "cell_type": "code",
   "execution_count": 547,
   "id": "6f8c0927-53bc-4099-ba18-acb073499896",
   "metadata": {
    "execution": {
     "iopub.execute_input": "2024-12-29T14:25:05.262644Z",
     "iopub.status.busy": "2024-12-29T14:25:05.262155Z",
     "iopub.status.idle": "2024-12-29T15:17:33.932063Z",
     "shell.execute_reply": "2024-12-29T15:17:33.930705Z",
     "shell.execute_reply.started": "2024-12-29T14:25:05.262626Z"
    },
    "scrolled": true
   },
   "outputs": [
    {
     "name": "stdout",
     "output_type": "stream",
     "text": [
      "n 2, rsi 14, threshold 30, ema 5\n",
      "n 2, rsi 14, threshold 30, ema 10\n",
      "n 2, rsi 14, threshold 30, ema 15\n",
      "n 2, rsi 14, threshold 30, ema 20\n",
      "n 2, rsi 14, threshold 30, ema 25\n",
      "n 2, rsi 14, threshold 30, ema 30\n",
      "n 2, rsi 14, threshold 30, ema 35\n",
      "n 2, rsi 14, threshold 35, ema 5\n",
      "n 2, rsi 14, threshold 35, ema 10\n",
      "n 2, rsi 14, threshold 35, ema 15\n",
      "n 2, rsi 14, threshold 35, ema 20\n",
      "n 2, rsi 14, threshold 35, ema 25\n",
      "n 2, rsi 14, threshold 35, ema 30\n",
      "n 2, rsi 14, threshold 35, ema 35\n",
      "n 2, rsi 14, threshold 40, ema 5\n",
      "n 2, rsi 14, threshold 40, ema 10\n",
      "n 2, rsi 14, threshold 40, ema 15\n",
      "n 2, rsi 14, threshold 40, ema 20\n",
      "n 2, rsi 14, threshold 40, ema 25\n",
      "n 2, rsi 14, threshold 40, ema 30\n",
      "n 2, rsi 14, threshold 40, ema 35\n",
      "n 2, rsi 14, threshold 45, ema 5\n",
      "n 2, rsi 14, threshold 45, ema 10\n",
      "n 2, rsi 14, threshold 45, ema 15\n",
      "n 2, rsi 14, threshold 45, ema 20\n",
      "n 2, rsi 14, threshold 45, ema 25\n",
      "n 2, rsi 14, threshold 45, ema 30\n",
      "n 2, rsi 14, threshold 45, ema 35\n",
      "n 2, rsi 14, threshold 50, ema 5\n",
      "n 2, rsi 14, threshold 50, ema 10\n",
      "n 2, rsi 14, threshold 50, ema 15\n",
      "n 2, rsi 14, threshold 50, ema 20\n",
      "n 2, rsi 14, threshold 50, ema 25\n",
      "n 2, rsi 14, threshold 50, ema 30\n",
      "n 2, rsi 14, threshold 50, ema 35\n",
      "n 2, rsi 14, threshold 55, ema 5\n",
      "n 2, rsi 14, threshold 55, ema 10\n",
      "n 2, rsi 14, threshold 55, ema 15\n",
      "n 2, rsi 14, threshold 55, ema 20\n",
      "n 2, rsi 14, threshold 55, ema 25\n",
      "n 2, rsi 14, threshold 55, ema 30\n",
      "n 2, rsi 14, threshold 55, ema 35\n",
      "n 2, rsi 14, threshold 60, ema 5\n",
      "n 2, rsi 14, threshold 60, ema 10\n",
      "n 2, rsi 14, threshold 60, ema 15\n",
      "n 2, rsi 14, threshold 60, ema 20\n",
      "n 2, rsi 14, threshold 60, ema 25\n",
      "n 2, rsi 14, threshold 60, ema 30\n",
      "n 2, rsi 14, threshold 60, ema 35\n",
      "n 2, rsi 14, threshold 65, ema 5\n",
      "n 2, rsi 14, threshold 65, ema 10\n",
      "n 2, rsi 14, threshold 65, ema 15\n",
      "n 2, rsi 14, threshold 65, ema 20\n",
      "n 2, rsi 14, threshold 65, ema 25\n",
      "n 2, rsi 14, threshold 65, ema 30\n",
      "n 2, rsi 14, threshold 65, ema 35\n",
      "n 2, rsi 14, threshold 70, ema 5\n"
     ]
    },
    {
     "name": "stderr",
     "output_type": "stream",
     "text": [
      "/tmp/ipykernel_2712/873016624.py:45: RuntimeWarning: divide by zero encountered in scalar divide\n",
      "  roi_dd_ratio = total_roi / abs(max_drawdown)\n"
     ]
    },
    {
     "name": "stdout",
     "output_type": "stream",
     "text": [
      "n 2, rsi 14, threshold 70, ema 10\n"
     ]
    },
    {
     "name": "stderr",
     "output_type": "stream",
     "text": [
      "/tmp/ipykernel_2712/873016624.py:45: RuntimeWarning: divide by zero encountered in scalar divide\n",
      "  roi_dd_ratio = total_roi / abs(max_drawdown)\n"
     ]
    },
    {
     "name": "stdout",
     "output_type": "stream",
     "text": [
      "n 2, rsi 14, threshold 70, ema 15\n"
     ]
    },
    {
     "name": "stderr",
     "output_type": "stream",
     "text": [
      "/tmp/ipykernel_2712/873016624.py:45: RuntimeWarning: divide by zero encountered in scalar divide\n",
      "  roi_dd_ratio = total_roi / abs(max_drawdown)\n"
     ]
    },
    {
     "name": "stdout",
     "output_type": "stream",
     "text": [
      "n 2, rsi 14, threshold 70, ema 20\n"
     ]
    },
    {
     "name": "stderr",
     "output_type": "stream",
     "text": [
      "/tmp/ipykernel_2712/873016624.py:45: RuntimeWarning: divide by zero encountered in scalar divide\n",
      "  roi_dd_ratio = total_roi / abs(max_drawdown)\n"
     ]
    },
    {
     "name": "stdout",
     "output_type": "stream",
     "text": [
      "n 2, rsi 14, threshold 70, ema 25\n"
     ]
    },
    {
     "name": "stderr",
     "output_type": "stream",
     "text": [
      "/tmp/ipykernel_2712/873016624.py:45: RuntimeWarning: divide by zero encountered in scalar divide\n",
      "  roi_dd_ratio = total_roi / abs(max_drawdown)\n"
     ]
    },
    {
     "name": "stdout",
     "output_type": "stream",
     "text": [
      "n 2, rsi 14, threshold 70, ema 30\n"
     ]
    },
    {
     "name": "stderr",
     "output_type": "stream",
     "text": [
      "/tmp/ipykernel_2712/873016624.py:45: RuntimeWarning: divide by zero encountered in scalar divide\n",
      "  roi_dd_ratio = total_roi / abs(max_drawdown)\n"
     ]
    },
    {
     "name": "stdout",
     "output_type": "stream",
     "text": [
      "n 2, rsi 14, threshold 70, ema 35\n"
     ]
    },
    {
     "name": "stderr",
     "output_type": "stream",
     "text": [
      "/tmp/ipykernel_2712/873016624.py:45: RuntimeWarning: divide by zero encountered in scalar divide\n",
      "  roi_dd_ratio = total_roi / abs(max_drawdown)\n"
     ]
    },
    {
     "name": "stdout",
     "output_type": "stream",
     "text": [
      "n 2, rsi 14, threshold 75, ema 5\n"
     ]
    },
    {
     "name": "stderr",
     "output_type": "stream",
     "text": [
      "/tmp/ipykernel_2712/873016624.py:45: RuntimeWarning: divide by zero encountered in scalar divide\n",
      "  roi_dd_ratio = total_roi / abs(max_drawdown)\n"
     ]
    },
    {
     "name": "stdout",
     "output_type": "stream",
     "text": [
      "        Total ROI Total Trades Win Rate Avg Profit% per Trade Avg Loss% per Trade Max Drawdown ROI/DD Ratio                         Variation\n",
      "2018       2.6945            2 100.0000                1.3473                 NaN       0.0000          inf  n 2, rsi 14, threshold 75, ema 5\n",
      "2019      -0.8128            1   0.0000                   NaN             -0.8128       0.0000         -inf  n 2, rsi 14, threshold 75, ema 5\n",
      "2020       0.0000            0      NaN                   NaN                 NaN          NaN          NaN  n 2, rsi 14, threshold 75, ema 5\n",
      "2021       0.0000            0      NaN                   NaN                 NaN          NaN          NaN  n 2, rsi 14, threshold 75, ema 5\n",
      "2022       6.3437            1 100.0000                6.3437                 NaN       0.0000          inf  n 2, rsi 14, threshold 75, ema 5\n",
      "2023       0.0000            0      NaN                   NaN                 NaN          NaN          NaN  n 2, rsi 14, threshold 75, ema 5\n",
      "2024      -0.4016            1   0.0000                   NaN             -0.4016       0.0000         -inf  n 2, rsi 14, threshold 75, ema 5\n",
      "Overall    7.8238            5  60.0000                3.0127             -0.6072      -0.8128       9.6255  n 2, rsi 14, threshold 75, ema 5\n",
      "n 2, rsi 14, threshold 75, ema 10\n"
     ]
    },
    {
     "name": "stderr",
     "output_type": "stream",
     "text": [
      "/tmp/ipykernel_2712/873016624.py:45: RuntimeWarning: divide by zero encountered in scalar divide\n",
      "  roi_dd_ratio = total_roi / abs(max_drawdown)\n"
     ]
    },
    {
     "name": "stdout",
     "output_type": "stream",
     "text": [
      "        Total ROI Total Trades Win Rate Avg Profit% per Trade Avg Loss% per Trade Max Drawdown ROI/DD Ratio                          Variation\n",
      "2018       2.6945            2 100.0000                1.3473                 NaN       0.0000          inf  n 2, rsi 14, threshold 75, ema 10\n",
      "2019      -0.8128            1   0.0000                   NaN             -0.8128       0.0000         -inf  n 2, rsi 14, threshold 75, ema 10\n",
      "2020       0.0000            0      NaN                   NaN                 NaN          NaN          NaN  n 2, rsi 14, threshold 75, ema 10\n",
      "2021       0.0000            0      NaN                   NaN                 NaN          NaN          NaN  n 2, rsi 14, threshold 75, ema 10\n",
      "2022       6.3437            1 100.0000                6.3437                 NaN       0.0000          inf  n 2, rsi 14, threshold 75, ema 10\n",
      "2023       0.0000            0      NaN                   NaN                 NaN          NaN          NaN  n 2, rsi 14, threshold 75, ema 10\n",
      "2024      -0.4016            1   0.0000                   NaN             -0.4016       0.0000         -inf  n 2, rsi 14, threshold 75, ema 10\n",
      "Overall    7.8238            5  60.0000                3.0127             -0.6072      -0.8128       9.6255  n 2, rsi 14, threshold 75, ema 10\n",
      "n 2, rsi 14, threshold 75, ema 15\n"
     ]
    },
    {
     "name": "stderr",
     "output_type": "stream",
     "text": [
      "/tmp/ipykernel_2712/873016624.py:45: RuntimeWarning: divide by zero encountered in scalar divide\n",
      "  roi_dd_ratio = total_roi / abs(max_drawdown)\n"
     ]
    },
    {
     "name": "stdout",
     "output_type": "stream",
     "text": [
      "n 2, rsi 14, threshold 75, ema 20\n"
     ]
    },
    {
     "name": "stderr",
     "output_type": "stream",
     "text": [
      "/tmp/ipykernel_2712/873016624.py:45: RuntimeWarning: divide by zero encountered in scalar divide\n",
      "  roi_dd_ratio = total_roi / abs(max_drawdown)\n"
     ]
    },
    {
     "name": "stdout",
     "output_type": "stream",
     "text": [
      "n 2, rsi 14, threshold 75, ema 25\n"
     ]
    },
    {
     "name": "stderr",
     "output_type": "stream",
     "text": [
      "/tmp/ipykernel_2712/873016624.py:45: RuntimeWarning: divide by zero encountered in scalar divide\n",
      "  roi_dd_ratio = total_roi / abs(max_drawdown)\n"
     ]
    },
    {
     "name": "stdout",
     "output_type": "stream",
     "text": [
      "n 2, rsi 14, threshold 75, ema 30\n"
     ]
    },
    {
     "name": "stderr",
     "output_type": "stream",
     "text": [
      "/tmp/ipykernel_2712/873016624.py:45: RuntimeWarning: divide by zero encountered in scalar divide\n",
      "  roi_dd_ratio = total_roi / abs(max_drawdown)\n"
     ]
    },
    {
     "name": "stdout",
     "output_type": "stream",
     "text": [
      "n 2, rsi 14, threshold 75, ema 35\n"
     ]
    },
    {
     "name": "stderr",
     "output_type": "stream",
     "text": [
      "/tmp/ipykernel_2712/873016624.py:45: RuntimeWarning: divide by zero encountered in scalar divide\n",
      "  roi_dd_ratio = total_roi / abs(max_drawdown)\n"
     ]
    },
    {
     "name": "stdout",
     "output_type": "stream",
     "text": [
      "n 2, rsi 14, threshold 80, ema 5\n",
      "n 2, rsi 14, threshold 80, ema 10\n",
      "n 2, rsi 14, threshold 80, ema 15\n",
      "n 2, rsi 14, threshold 80, ema 20\n",
      "n 2, rsi 14, threshold 80, ema 25\n",
      "n 2, rsi 14, threshold 80, ema 30\n",
      "n 2, rsi 14, threshold 80, ema 35\n",
      "n 2, rsi 9, threshold 30, ema 5\n",
      "n 2, rsi 9, threshold 30, ema 10\n",
      "n 2, rsi 9, threshold 30, ema 15\n",
      "n 2, rsi 9, threshold 30, ema 20\n",
      "n 2, rsi 9, threshold 30, ema 25\n",
      "n 2, rsi 9, threshold 30, ema 30\n",
      "n 2, rsi 9, threshold 30, ema 35\n",
      "n 2, rsi 9, threshold 35, ema 5\n",
      "n 2, rsi 9, threshold 35, ema 10\n",
      "n 2, rsi 9, threshold 35, ema 15\n",
      "n 2, rsi 9, threshold 35, ema 20\n",
      "n 2, rsi 9, threshold 35, ema 25\n",
      "n 2, rsi 9, threshold 35, ema 30\n",
      "n 2, rsi 9, threshold 35, ema 35\n",
      "n 2, rsi 9, threshold 40, ema 5\n",
      "n 2, rsi 9, threshold 40, ema 10\n",
      "n 2, rsi 9, threshold 40, ema 15\n",
      "n 2, rsi 9, threshold 40, ema 20\n",
      "n 2, rsi 9, threshold 40, ema 25\n",
      "n 2, rsi 9, threshold 40, ema 30\n",
      "n 2, rsi 9, threshold 40, ema 35\n",
      "n 2, rsi 9, threshold 45, ema 5\n",
      "n 2, rsi 9, threshold 45, ema 10\n",
      "n 2, rsi 9, threshold 45, ema 15\n",
      "n 2, rsi 9, threshold 45, ema 20\n",
      "n 2, rsi 9, threshold 45, ema 25\n",
      "n 2, rsi 9, threshold 45, ema 30\n",
      "n 2, rsi 9, threshold 45, ema 35\n",
      "n 2, rsi 9, threshold 50, ema 5\n",
      "n 2, rsi 9, threshold 50, ema 10\n",
      "n 2, rsi 9, threshold 50, ema 15\n",
      "n 2, rsi 9, threshold 50, ema 20\n",
      "n 2, rsi 9, threshold 50, ema 25\n",
      "n 2, rsi 9, threshold 50, ema 30\n",
      "n 2, rsi 9, threshold 50, ema 35\n",
      "n 2, rsi 9, threshold 55, ema 5\n",
      "n 2, rsi 9, threshold 55, ema 10\n",
      "n 2, rsi 9, threshold 55, ema 15\n",
      "n 2, rsi 9, threshold 55, ema 20\n",
      "n 2, rsi 9, threshold 55, ema 25\n",
      "n 2, rsi 9, threshold 55, ema 30\n",
      "n 2, rsi 9, threshold 55, ema 35\n",
      "n 2, rsi 9, threshold 60, ema 5\n",
      "n 2, rsi 9, threshold 60, ema 10\n",
      "n 2, rsi 9, threshold 60, ema 15\n",
      "n 2, rsi 9, threshold 60, ema 20\n",
      "n 2, rsi 9, threshold 60, ema 25\n",
      "n 2, rsi 9, threshold 60, ema 30\n",
      "n 2, rsi 9, threshold 60, ema 35\n",
      "n 2, rsi 9, threshold 65, ema 5\n",
      "n 2, rsi 9, threshold 65, ema 10\n",
      "n 2, rsi 9, threshold 65, ema 15\n",
      "n 2, rsi 9, threshold 65, ema 20\n",
      "n 2, rsi 9, threshold 65, ema 25\n",
      "n 2, rsi 9, threshold 65, ema 30\n",
      "n 2, rsi 9, threshold 65, ema 35\n",
      "n 2, rsi 9, threshold 70, ema 5\n"
     ]
    },
    {
     "name": "stderr",
     "output_type": "stream",
     "text": [
      "/tmp/ipykernel_2712/873016624.py:45: RuntimeWarning: divide by zero encountered in scalar divide\n",
      "  roi_dd_ratio = total_roi / abs(max_drawdown)\n"
     ]
    },
    {
     "name": "stdout",
     "output_type": "stream",
     "text": [
      "n 2, rsi 9, threshold 70, ema 10\n"
     ]
    },
    {
     "name": "stderr",
     "output_type": "stream",
     "text": [
      "/tmp/ipykernel_2712/873016624.py:45: RuntimeWarning: divide by zero encountered in scalar divide\n",
      "  roi_dd_ratio = total_roi / abs(max_drawdown)\n"
     ]
    },
    {
     "name": "stdout",
     "output_type": "stream",
     "text": [
      "n 2, rsi 9, threshold 70, ema 15\n"
     ]
    },
    {
     "name": "stderr",
     "output_type": "stream",
     "text": [
      "/tmp/ipykernel_2712/873016624.py:45: RuntimeWarning: divide by zero encountered in scalar divide\n",
      "  roi_dd_ratio = total_roi / abs(max_drawdown)\n"
     ]
    },
    {
     "name": "stdout",
     "output_type": "stream",
     "text": [
      "n 2, rsi 9, threshold 70, ema 20\n"
     ]
    },
    {
     "name": "stderr",
     "output_type": "stream",
     "text": [
      "/tmp/ipykernel_2712/873016624.py:45: RuntimeWarning: divide by zero encountered in scalar divide\n",
      "  roi_dd_ratio = total_roi / abs(max_drawdown)\n"
     ]
    },
    {
     "name": "stdout",
     "output_type": "stream",
     "text": [
      "n 2, rsi 9, threshold 70, ema 25\n"
     ]
    },
    {
     "name": "stderr",
     "output_type": "stream",
     "text": [
      "/tmp/ipykernel_2712/873016624.py:45: RuntimeWarning: divide by zero encountered in scalar divide\n",
      "  roi_dd_ratio = total_roi / abs(max_drawdown)\n"
     ]
    },
    {
     "name": "stdout",
     "output_type": "stream",
     "text": [
      "n 2, rsi 9, threshold 70, ema 30\n"
     ]
    },
    {
     "name": "stderr",
     "output_type": "stream",
     "text": [
      "/tmp/ipykernel_2712/873016624.py:45: RuntimeWarning: divide by zero encountered in scalar divide\n",
      "  roi_dd_ratio = total_roi / abs(max_drawdown)\n"
     ]
    },
    {
     "name": "stdout",
     "output_type": "stream",
     "text": [
      "n 2, rsi 9, threshold 70, ema 35\n"
     ]
    },
    {
     "name": "stderr",
     "output_type": "stream",
     "text": [
      "/tmp/ipykernel_2712/873016624.py:45: RuntimeWarning: divide by zero encountered in scalar divide\n",
      "  roi_dd_ratio = total_roi / abs(max_drawdown)\n"
     ]
    },
    {
     "name": "stdout",
     "output_type": "stream",
     "text": [
      "n 2, rsi 9, threshold 75, ema 5\n"
     ]
    },
    {
     "name": "stderr",
     "output_type": "stream",
     "text": [
      "/tmp/ipykernel_2712/873016624.py:45: RuntimeWarning: divide by zero encountered in scalar divide\n",
      "  roi_dd_ratio = total_roi / abs(max_drawdown)\n"
     ]
    },
    {
     "name": "stdout",
     "output_type": "stream",
     "text": [
      "n 2, rsi 9, threshold 75, ema 10\n"
     ]
    },
    {
     "name": "stderr",
     "output_type": "stream",
     "text": [
      "/tmp/ipykernel_2712/873016624.py:45: RuntimeWarning: divide by zero encountered in scalar divide\n",
      "  roi_dd_ratio = total_roi / abs(max_drawdown)\n"
     ]
    },
    {
     "name": "stdout",
     "output_type": "stream",
     "text": [
      "n 2, rsi 9, threshold 75, ema 15\n"
     ]
    },
    {
     "name": "stderr",
     "output_type": "stream",
     "text": [
      "/tmp/ipykernel_2712/873016624.py:45: RuntimeWarning: divide by zero encountered in scalar divide\n",
      "  roi_dd_ratio = total_roi / abs(max_drawdown)\n"
     ]
    },
    {
     "name": "stdout",
     "output_type": "stream",
     "text": [
      "n 2, rsi 9, threshold 75, ema 20\n"
     ]
    },
    {
     "name": "stderr",
     "output_type": "stream",
     "text": [
      "/tmp/ipykernel_2712/873016624.py:45: RuntimeWarning: divide by zero encountered in scalar divide\n",
      "  roi_dd_ratio = total_roi / abs(max_drawdown)\n"
     ]
    },
    {
     "name": "stdout",
     "output_type": "stream",
     "text": [
      "n 2, rsi 9, threshold 75, ema 25\n"
     ]
    },
    {
     "name": "stderr",
     "output_type": "stream",
     "text": [
      "/tmp/ipykernel_2712/873016624.py:45: RuntimeWarning: divide by zero encountered in scalar divide\n",
      "  roi_dd_ratio = total_roi / abs(max_drawdown)\n"
     ]
    },
    {
     "name": "stdout",
     "output_type": "stream",
     "text": [
      "n 2, rsi 9, threshold 75, ema 30\n"
     ]
    },
    {
     "name": "stderr",
     "output_type": "stream",
     "text": [
      "/tmp/ipykernel_2712/873016624.py:45: RuntimeWarning: divide by zero encountered in scalar divide\n",
      "  roi_dd_ratio = total_roi / abs(max_drawdown)\n"
     ]
    },
    {
     "name": "stdout",
     "output_type": "stream",
     "text": [
      "n 2, rsi 9, threshold 75, ema 35\n"
     ]
    },
    {
     "name": "stderr",
     "output_type": "stream",
     "text": [
      "/tmp/ipykernel_2712/873016624.py:45: RuntimeWarning: divide by zero encountered in scalar divide\n",
      "  roi_dd_ratio = total_roi / abs(max_drawdown)\n"
     ]
    },
    {
     "name": "stdout",
     "output_type": "stream",
     "text": [
      "n 2, rsi 9, threshold 80, ema 5\n",
      "n 2, rsi 9, threshold 80, ema 10\n",
      "n 2, rsi 9, threshold 80, ema 15\n",
      "n 2, rsi 9, threshold 80, ema 20\n",
      "n 2, rsi 9, threshold 80, ema 25\n",
      "n 2, rsi 9, threshold 80, ema 30\n",
      "n 2, rsi 9, threshold 80, ema 35\n",
      "n 2, rsi 21, threshold 30, ema 5\n",
      "n 2, rsi 21, threshold 30, ema 10\n",
      "n 2, rsi 21, threshold 30, ema 15\n",
      "n 2, rsi 21, threshold 30, ema 20\n",
      "n 2, rsi 21, threshold 30, ema 25\n",
      "n 2, rsi 21, threshold 30, ema 30\n",
      "n 2, rsi 21, threshold 30, ema 35\n",
      "n 2, rsi 21, threshold 35, ema 5\n",
      "n 2, rsi 21, threshold 35, ema 10\n",
      "n 2, rsi 21, threshold 35, ema 15\n",
      "n 2, rsi 21, threshold 35, ema 20\n",
      "n 2, rsi 21, threshold 35, ema 25\n",
      "n 2, rsi 21, threshold 35, ema 30\n",
      "n 2, rsi 21, threshold 35, ema 35\n",
      "n 2, rsi 21, threshold 40, ema 5\n",
      "n 2, rsi 21, threshold 40, ema 10\n",
      "n 2, rsi 21, threshold 40, ema 15\n",
      "n 2, rsi 21, threshold 40, ema 20\n",
      "n 2, rsi 21, threshold 40, ema 25\n",
      "n 2, rsi 21, threshold 40, ema 30\n",
      "n 2, rsi 21, threshold 40, ema 35\n",
      "n 2, rsi 21, threshold 45, ema 5\n",
      "n 2, rsi 21, threshold 45, ema 10\n",
      "n 2, rsi 21, threshold 45, ema 15\n",
      "n 2, rsi 21, threshold 45, ema 20\n",
      "n 2, rsi 21, threshold 45, ema 25\n",
      "n 2, rsi 21, threshold 45, ema 30\n",
      "n 2, rsi 21, threshold 45, ema 35\n",
      "n 2, rsi 21, threshold 50, ema 5\n",
      "n 2, rsi 21, threshold 50, ema 10\n",
      "n 2, rsi 21, threshold 50, ema 15\n",
      "n 2, rsi 21, threshold 50, ema 20\n",
      "n 2, rsi 21, threshold 50, ema 25\n",
      "n 2, rsi 21, threshold 50, ema 30\n",
      "n 2, rsi 21, threshold 50, ema 35\n",
      "n 2, rsi 21, threshold 55, ema 5\n",
      "n 2, rsi 21, threshold 55, ema 10\n",
      "n 2, rsi 21, threshold 55, ema 15\n",
      "n 2, rsi 21, threshold 55, ema 20\n",
      "n 2, rsi 21, threshold 55, ema 25\n",
      "n 2, rsi 21, threshold 55, ema 30\n",
      "n 2, rsi 21, threshold 55, ema 35\n",
      "n 2, rsi 21, threshold 60, ema 5\n",
      "n 2, rsi 21, threshold 60, ema 10\n",
      "n 2, rsi 21, threshold 60, ema 15\n",
      "n 2, rsi 21, threshold 60, ema 20\n",
      "n 2, rsi 21, threshold 60, ema 25\n",
      "n 2, rsi 21, threshold 60, ema 30\n",
      "n 2, rsi 21, threshold 60, ema 35\n",
      "n 2, rsi 21, threshold 65, ema 5\n",
      "n 2, rsi 21, threshold 65, ema 10\n",
      "n 2, rsi 21, threshold 65, ema 15\n",
      "n 2, rsi 21, threshold 65, ema 20\n",
      "n 2, rsi 21, threshold 65, ema 25\n",
      "n 2, rsi 21, threshold 65, ema 30\n",
      "n 2, rsi 21, threshold 65, ema 35\n",
      "n 2, rsi 21, threshold 70, ema 5\n"
     ]
    },
    {
     "name": "stderr",
     "output_type": "stream",
     "text": [
      "/tmp/ipykernel_2712/873016624.py:45: RuntimeWarning: divide by zero encountered in scalar divide\n",
      "  roi_dd_ratio = total_roi / abs(max_drawdown)\n"
     ]
    },
    {
     "name": "stdout",
     "output_type": "stream",
     "text": [
      "n 2, rsi 21, threshold 70, ema 10\n"
     ]
    },
    {
     "name": "stderr",
     "output_type": "stream",
     "text": [
      "/tmp/ipykernel_2712/873016624.py:45: RuntimeWarning: divide by zero encountered in scalar divide\n",
      "  roi_dd_ratio = total_roi / abs(max_drawdown)\n"
     ]
    },
    {
     "name": "stdout",
     "output_type": "stream",
     "text": [
      "n 2, rsi 21, threshold 70, ema 15\n"
     ]
    },
    {
     "name": "stderr",
     "output_type": "stream",
     "text": [
      "/tmp/ipykernel_2712/873016624.py:45: RuntimeWarning: divide by zero encountered in scalar divide\n",
      "  roi_dd_ratio = total_roi / abs(max_drawdown)\n"
     ]
    },
    {
     "name": "stdout",
     "output_type": "stream",
     "text": [
      "n 2, rsi 21, threshold 70, ema 20\n"
     ]
    },
    {
     "name": "stderr",
     "output_type": "stream",
     "text": [
      "/tmp/ipykernel_2712/873016624.py:45: RuntimeWarning: divide by zero encountered in scalar divide\n",
      "  roi_dd_ratio = total_roi / abs(max_drawdown)\n"
     ]
    },
    {
     "name": "stdout",
     "output_type": "stream",
     "text": [
      "n 2, rsi 21, threshold 70, ema 25\n"
     ]
    },
    {
     "name": "stderr",
     "output_type": "stream",
     "text": [
      "/tmp/ipykernel_2712/873016624.py:45: RuntimeWarning: divide by zero encountered in scalar divide\n",
      "  roi_dd_ratio = total_roi / abs(max_drawdown)\n"
     ]
    },
    {
     "name": "stdout",
     "output_type": "stream",
     "text": [
      "n 2, rsi 21, threshold 70, ema 30\n"
     ]
    },
    {
     "name": "stderr",
     "output_type": "stream",
     "text": [
      "/tmp/ipykernel_2712/873016624.py:45: RuntimeWarning: divide by zero encountered in scalar divide\n",
      "  roi_dd_ratio = total_roi / abs(max_drawdown)\n"
     ]
    },
    {
     "name": "stdout",
     "output_type": "stream",
     "text": [
      "n 2, rsi 21, threshold 70, ema 35\n"
     ]
    },
    {
     "name": "stderr",
     "output_type": "stream",
     "text": [
      "/tmp/ipykernel_2712/873016624.py:45: RuntimeWarning: divide by zero encountered in scalar divide\n",
      "  roi_dd_ratio = total_roi / abs(max_drawdown)\n"
     ]
    },
    {
     "name": "stdout",
     "output_type": "stream",
     "text": [
      "n 2, rsi 21, threshold 75, ema 5\n"
     ]
    },
    {
     "name": "stderr",
     "output_type": "stream",
     "text": [
      "/tmp/ipykernel_2712/873016624.py:45: RuntimeWarning: divide by zero encountered in scalar divide\n",
      "  roi_dd_ratio = total_roi / abs(max_drawdown)\n",
      "/tmp/ipykernel_2712/873016624.py:70: RuntimeWarning: divide by zero encountered in scalar divide\n",
      "  overall_roi_dd_ratio = overall_total_roi / abs(overall_max_drawdown)\n"
     ]
    },
    {
     "name": "stdout",
     "output_type": "stream",
     "text": [
      "        Total ROI Total Trades Win Rate Avg Profit% per Trade Avg Loss% per Trade Max Drawdown ROI/DD Ratio                         Variation\n",
      "2018       0.4436            1 100.0000                0.4436                 NaN       0.0000          inf  n 2, rsi 21, threshold 75, ema 5\n",
      "2019       0.0000            0      NaN                   NaN                 NaN          NaN          NaN  n 2, rsi 21, threshold 75, ema 5\n",
      "2020       0.0000            0      NaN                   NaN                 NaN          NaN          NaN  n 2, rsi 21, threshold 75, ema 5\n",
      "2021       0.0000            0      NaN                   NaN                 NaN          NaN          NaN  n 2, rsi 21, threshold 75, ema 5\n",
      "2022       0.0000            0      NaN                   NaN                 NaN          NaN          NaN  n 2, rsi 21, threshold 75, ema 5\n",
      "2023       0.0000            0      NaN                   NaN                 NaN          NaN          NaN  n 2, rsi 21, threshold 75, ema 5\n",
      "2024       0.0000            0      NaN                   NaN                 NaN          NaN          NaN  n 2, rsi 21, threshold 75, ema 5\n",
      "Overall    0.4436            1 100.0000                0.4436                 NaN       0.0000          inf  n 2, rsi 21, threshold 75, ema 5\n",
      "n 2, rsi 21, threshold 75, ema 10\n"
     ]
    },
    {
     "name": "stderr",
     "output_type": "stream",
     "text": [
      "/tmp/ipykernel_2712/873016624.py:45: RuntimeWarning: divide by zero encountered in scalar divide\n",
      "  roi_dd_ratio = total_roi / abs(max_drawdown)\n",
      "/tmp/ipykernel_2712/873016624.py:70: RuntimeWarning: divide by zero encountered in scalar divide\n",
      "  overall_roi_dd_ratio = overall_total_roi / abs(overall_max_drawdown)\n"
     ]
    },
    {
     "name": "stdout",
     "output_type": "stream",
     "text": [
      "        Total ROI Total Trades Win Rate Avg Profit% per Trade Avg Loss% per Trade Max Drawdown ROI/DD Ratio                          Variation\n",
      "2018       0.4436            1 100.0000                0.4436                 NaN       0.0000          inf  n 2, rsi 21, threshold 75, ema 10\n",
      "2019       0.0000            0      NaN                   NaN                 NaN          NaN          NaN  n 2, rsi 21, threshold 75, ema 10\n",
      "2020       0.0000            0      NaN                   NaN                 NaN          NaN          NaN  n 2, rsi 21, threshold 75, ema 10\n",
      "2021       0.0000            0      NaN                   NaN                 NaN          NaN          NaN  n 2, rsi 21, threshold 75, ema 10\n",
      "2022       0.0000            0      NaN                   NaN                 NaN          NaN          NaN  n 2, rsi 21, threshold 75, ema 10\n",
      "2023       0.0000            0      NaN                   NaN                 NaN          NaN          NaN  n 2, rsi 21, threshold 75, ema 10\n",
      "2024       0.0000            0      NaN                   NaN                 NaN          NaN          NaN  n 2, rsi 21, threshold 75, ema 10\n",
      "Overall    0.4436            1 100.0000                0.4436                 NaN       0.0000          inf  n 2, rsi 21, threshold 75, ema 10\n",
      "n 2, rsi 21, threshold 75, ema 15\n"
     ]
    },
    {
     "name": "stderr",
     "output_type": "stream",
     "text": [
      "/tmp/ipykernel_2712/873016624.py:45: RuntimeWarning: divide by zero encountered in scalar divide\n",
      "  roi_dd_ratio = total_roi / abs(max_drawdown)\n",
      "/tmp/ipykernel_2712/873016624.py:70: RuntimeWarning: divide by zero encountered in scalar divide\n",
      "  overall_roi_dd_ratio = overall_total_roi / abs(overall_max_drawdown)\n"
     ]
    },
    {
     "name": "stdout",
     "output_type": "stream",
     "text": [
      "n 2, rsi 21, threshold 75, ema 20\n"
     ]
    },
    {
     "name": "stderr",
     "output_type": "stream",
     "text": [
      "/tmp/ipykernel_2712/873016624.py:45: RuntimeWarning: divide by zero encountered in scalar divide\n",
      "  roi_dd_ratio = total_roi / abs(max_drawdown)\n",
      "/tmp/ipykernel_2712/873016624.py:70: RuntimeWarning: divide by zero encountered in scalar divide\n",
      "  overall_roi_dd_ratio = overall_total_roi / abs(overall_max_drawdown)\n"
     ]
    },
    {
     "name": "stdout",
     "output_type": "stream",
     "text": [
      "n 2, rsi 21, threshold 75, ema 25\n"
     ]
    },
    {
     "name": "stderr",
     "output_type": "stream",
     "text": [
      "/tmp/ipykernel_2712/873016624.py:45: RuntimeWarning: divide by zero encountered in scalar divide\n",
      "  roi_dd_ratio = total_roi / abs(max_drawdown)\n",
      "/tmp/ipykernel_2712/873016624.py:70: RuntimeWarning: divide by zero encountered in scalar divide\n",
      "  overall_roi_dd_ratio = overall_total_roi / abs(overall_max_drawdown)\n"
     ]
    },
    {
     "name": "stdout",
     "output_type": "stream",
     "text": [
      "n 2, rsi 21, threshold 75, ema 30\n"
     ]
    },
    {
     "name": "stderr",
     "output_type": "stream",
     "text": [
      "/tmp/ipykernel_2712/873016624.py:45: RuntimeWarning: divide by zero encountered in scalar divide\n",
      "  roi_dd_ratio = total_roi / abs(max_drawdown)\n",
      "/tmp/ipykernel_2712/873016624.py:70: RuntimeWarning: divide by zero encountered in scalar divide\n",
      "  overall_roi_dd_ratio = overall_total_roi / abs(overall_max_drawdown)\n"
     ]
    },
    {
     "name": "stdout",
     "output_type": "stream",
     "text": [
      "n 2, rsi 21, threshold 75, ema 35\n"
     ]
    },
    {
     "name": "stderr",
     "output_type": "stream",
     "text": [
      "/tmp/ipykernel_2712/873016624.py:45: RuntimeWarning: divide by zero encountered in scalar divide\n",
      "  roi_dd_ratio = total_roi / abs(max_drawdown)\n",
      "/tmp/ipykernel_2712/873016624.py:70: RuntimeWarning: divide by zero encountered in scalar divide\n",
      "  overall_roi_dd_ratio = overall_total_roi / abs(overall_max_drawdown)\n"
     ]
    },
    {
     "name": "stdout",
     "output_type": "stream",
     "text": [
      "n 2, rsi 21, threshold 80, ema 5\n",
      "n 2, rsi 21, threshold 80, ema 10\n",
      "n 2, rsi 21, threshold 80, ema 15\n",
      "n 2, rsi 21, threshold 80, ema 20\n",
      "n 2, rsi 21, threshold 80, ema 25\n",
      "n 2, rsi 21, threshold 80, ema 30\n",
      "n 2, rsi 21, threshold 80, ema 35\n",
      "n 2, rsi 6, threshold 30, ema 5\n",
      "n 2, rsi 6, threshold 30, ema 10\n",
      "n 2, rsi 6, threshold 30, ema 15\n",
      "n 2, rsi 6, threshold 30, ema 20\n",
      "n 2, rsi 6, threshold 30, ema 25\n",
      "n 2, rsi 6, threshold 30, ema 30\n",
      "n 2, rsi 6, threshold 30, ema 35\n",
      "n 2, rsi 6, threshold 35, ema 5\n",
      "n 2, rsi 6, threshold 35, ema 10\n",
      "n 2, rsi 6, threshold 35, ema 15\n",
      "n 2, rsi 6, threshold 35, ema 20\n",
      "n 2, rsi 6, threshold 35, ema 25\n",
      "n 2, rsi 6, threshold 35, ema 30\n",
      "n 2, rsi 6, threshold 35, ema 35\n",
      "n 2, rsi 6, threshold 40, ema 5\n",
      "n 2, rsi 6, threshold 40, ema 10\n",
      "n 2, rsi 6, threshold 40, ema 15\n",
      "n 2, rsi 6, threshold 40, ema 20\n",
      "n 2, rsi 6, threshold 40, ema 25\n",
      "n 2, rsi 6, threshold 40, ema 30\n",
      "n 2, rsi 6, threshold 40, ema 35\n",
      "n 2, rsi 6, threshold 45, ema 5\n",
      "n 2, rsi 6, threshold 45, ema 10\n",
      "n 2, rsi 6, threshold 45, ema 15\n",
      "n 2, rsi 6, threshold 45, ema 20\n",
      "n 2, rsi 6, threshold 45, ema 25\n",
      "n 2, rsi 6, threshold 45, ema 30\n",
      "n 2, rsi 6, threshold 45, ema 35\n",
      "n 2, rsi 6, threshold 50, ema 5\n",
      "n 2, rsi 6, threshold 50, ema 10\n",
      "n 2, rsi 6, threshold 50, ema 15\n",
      "n 2, rsi 6, threshold 50, ema 20\n",
      "n 2, rsi 6, threshold 50, ema 25\n",
      "n 2, rsi 6, threshold 50, ema 30\n",
      "n 2, rsi 6, threshold 50, ema 35\n",
      "n 2, rsi 6, threshold 55, ema 5\n",
      "n 2, rsi 6, threshold 55, ema 10\n",
      "n 2, rsi 6, threshold 55, ema 15\n",
      "n 2, rsi 6, threshold 55, ema 20\n",
      "n 2, rsi 6, threshold 55, ema 25\n",
      "n 2, rsi 6, threshold 55, ema 30\n",
      "n 2, rsi 6, threshold 55, ema 35\n",
      "n 2, rsi 6, threshold 60, ema 5\n",
      "n 2, rsi 6, threshold 60, ema 10\n",
      "n 2, rsi 6, threshold 60, ema 15\n",
      "n 2, rsi 6, threshold 60, ema 20\n",
      "n 2, rsi 6, threshold 60, ema 25\n",
      "n 2, rsi 6, threshold 60, ema 30\n",
      "n 2, rsi 6, threshold 60, ema 35\n",
      "n 2, rsi 6, threshold 65, ema 5\n",
      "n 2, rsi 6, threshold 65, ema 10\n",
      "n 2, rsi 6, threshold 65, ema 15\n",
      "n 2, rsi 6, threshold 65, ema 20\n",
      "n 2, rsi 6, threshold 65, ema 25\n",
      "n 2, rsi 6, threshold 65, ema 30\n",
      "n 2, rsi 6, threshold 65, ema 35\n",
      "n 2, rsi 6, threshold 70, ema 5\n"
     ]
    },
    {
     "name": "stderr",
     "output_type": "stream",
     "text": [
      "/tmp/ipykernel_2712/873016624.py:45: RuntimeWarning: divide by zero encountered in scalar divide\n",
      "  roi_dd_ratio = total_roi / abs(max_drawdown)\n"
     ]
    },
    {
     "name": "stdout",
     "output_type": "stream",
     "text": [
      "n 2, rsi 6, threshold 70, ema 10\n"
     ]
    },
    {
     "name": "stderr",
     "output_type": "stream",
     "text": [
      "/tmp/ipykernel_2712/873016624.py:45: RuntimeWarning: divide by zero encountered in scalar divide\n",
      "  roi_dd_ratio = total_roi / abs(max_drawdown)\n"
     ]
    },
    {
     "name": "stdout",
     "output_type": "stream",
     "text": [
      "n 2, rsi 6, threshold 70, ema 15\n"
     ]
    },
    {
     "name": "stderr",
     "output_type": "stream",
     "text": [
      "/tmp/ipykernel_2712/873016624.py:45: RuntimeWarning: divide by zero encountered in scalar divide\n",
      "  roi_dd_ratio = total_roi / abs(max_drawdown)\n"
     ]
    },
    {
     "name": "stdout",
     "output_type": "stream",
     "text": [
      "n 2, rsi 6, threshold 70, ema 20\n"
     ]
    },
    {
     "name": "stderr",
     "output_type": "stream",
     "text": [
      "/tmp/ipykernel_2712/873016624.py:45: RuntimeWarning: divide by zero encountered in scalar divide\n",
      "  roi_dd_ratio = total_roi / abs(max_drawdown)\n"
     ]
    },
    {
     "name": "stdout",
     "output_type": "stream",
     "text": [
      "n 2, rsi 6, threshold 70, ema 25\n"
     ]
    },
    {
     "name": "stderr",
     "output_type": "stream",
     "text": [
      "/tmp/ipykernel_2712/873016624.py:45: RuntimeWarning: divide by zero encountered in scalar divide\n",
      "  roi_dd_ratio = total_roi / abs(max_drawdown)\n"
     ]
    },
    {
     "name": "stdout",
     "output_type": "stream",
     "text": [
      "n 2, rsi 6, threshold 70, ema 30\n"
     ]
    },
    {
     "name": "stderr",
     "output_type": "stream",
     "text": [
      "/tmp/ipykernel_2712/873016624.py:45: RuntimeWarning: divide by zero encountered in scalar divide\n",
      "  roi_dd_ratio = total_roi / abs(max_drawdown)\n"
     ]
    },
    {
     "name": "stdout",
     "output_type": "stream",
     "text": [
      "n 2, rsi 6, threshold 70, ema 35\n"
     ]
    },
    {
     "name": "stderr",
     "output_type": "stream",
     "text": [
      "/tmp/ipykernel_2712/873016624.py:45: RuntimeWarning: divide by zero encountered in scalar divide\n",
      "  roi_dd_ratio = total_roi / abs(max_drawdown)\n"
     ]
    },
    {
     "name": "stdout",
     "output_type": "stream",
     "text": [
      "n 2, rsi 6, threshold 75, ema 5\n"
     ]
    },
    {
     "name": "stderr",
     "output_type": "stream",
     "text": [
      "/tmp/ipykernel_2712/873016624.py:45: RuntimeWarning: divide by zero encountered in scalar divide\n",
      "  roi_dd_ratio = total_roi / abs(max_drawdown)\n"
     ]
    },
    {
     "name": "stdout",
     "output_type": "stream",
     "text": [
      "n 2, rsi 6, threshold 75, ema 10\n"
     ]
    },
    {
     "name": "stderr",
     "output_type": "stream",
     "text": [
      "/tmp/ipykernel_2712/873016624.py:45: RuntimeWarning: divide by zero encountered in scalar divide\n",
      "  roi_dd_ratio = total_roi / abs(max_drawdown)\n"
     ]
    },
    {
     "name": "stdout",
     "output_type": "stream",
     "text": [
      "n 2, rsi 6, threshold 75, ema 15\n"
     ]
    },
    {
     "name": "stderr",
     "output_type": "stream",
     "text": [
      "/tmp/ipykernel_2712/873016624.py:45: RuntimeWarning: divide by zero encountered in scalar divide\n",
      "  roi_dd_ratio = total_roi / abs(max_drawdown)\n"
     ]
    },
    {
     "name": "stdout",
     "output_type": "stream",
     "text": [
      "n 2, rsi 6, threshold 75, ema 20\n"
     ]
    },
    {
     "name": "stderr",
     "output_type": "stream",
     "text": [
      "/tmp/ipykernel_2712/873016624.py:45: RuntimeWarning: divide by zero encountered in scalar divide\n",
      "  roi_dd_ratio = total_roi / abs(max_drawdown)\n"
     ]
    },
    {
     "name": "stdout",
     "output_type": "stream",
     "text": [
      "n 2, rsi 6, threshold 75, ema 25\n"
     ]
    },
    {
     "name": "stderr",
     "output_type": "stream",
     "text": [
      "/tmp/ipykernel_2712/873016624.py:45: RuntimeWarning: divide by zero encountered in scalar divide\n",
      "  roi_dd_ratio = total_roi / abs(max_drawdown)\n"
     ]
    },
    {
     "name": "stdout",
     "output_type": "stream",
     "text": [
      "n 2, rsi 6, threshold 75, ema 30\n"
     ]
    },
    {
     "name": "stderr",
     "output_type": "stream",
     "text": [
      "/tmp/ipykernel_2712/873016624.py:45: RuntimeWarning: divide by zero encountered in scalar divide\n",
      "  roi_dd_ratio = total_roi / abs(max_drawdown)\n"
     ]
    },
    {
     "name": "stdout",
     "output_type": "stream",
     "text": [
      "n 2, rsi 6, threshold 75, ema 35\n"
     ]
    },
    {
     "name": "stderr",
     "output_type": "stream",
     "text": [
      "/tmp/ipykernel_2712/873016624.py:45: RuntimeWarning: divide by zero encountered in scalar divide\n",
      "  roi_dd_ratio = total_roi / abs(max_drawdown)\n"
     ]
    },
    {
     "name": "stdout",
     "output_type": "stream",
     "text": [
      "n 2, rsi 6, threshold 80, ema 5\n",
      "n 2, rsi 6, threshold 80, ema 10\n",
      "n 2, rsi 6, threshold 80, ema 15\n",
      "n 2, rsi 6, threshold 80, ema 20\n",
      "n 2, rsi 6, threshold 80, ema 25\n",
      "n 2, rsi 6, threshold 80, ema 30\n",
      "n 2, rsi 6, threshold 80, ema 35\n",
      "n 2, rsi 12, threshold 30, ema 5\n",
      "n 2, rsi 12, threshold 30, ema 10\n",
      "n 2, rsi 12, threshold 30, ema 15\n",
      "n 2, rsi 12, threshold 30, ema 20\n",
      "n 2, rsi 12, threshold 30, ema 25\n",
      "n 2, rsi 12, threshold 30, ema 30\n",
      "n 2, rsi 12, threshold 30, ema 35\n",
      "n 2, rsi 12, threshold 35, ema 5\n",
      "n 2, rsi 12, threshold 35, ema 10\n",
      "n 2, rsi 12, threshold 35, ema 15\n",
      "n 2, rsi 12, threshold 35, ema 20\n",
      "n 2, rsi 12, threshold 35, ema 25\n",
      "n 2, rsi 12, threshold 35, ema 30\n",
      "n 2, rsi 12, threshold 35, ema 35\n",
      "n 2, rsi 12, threshold 40, ema 5\n",
      "n 2, rsi 12, threshold 40, ema 10\n",
      "n 2, rsi 12, threshold 40, ema 15\n",
      "n 2, rsi 12, threshold 40, ema 20\n",
      "n 2, rsi 12, threshold 40, ema 25\n",
      "n 2, rsi 12, threshold 40, ema 30\n",
      "n 2, rsi 12, threshold 40, ema 35\n",
      "n 2, rsi 12, threshold 45, ema 5\n",
      "n 2, rsi 12, threshold 45, ema 10\n",
      "n 2, rsi 12, threshold 45, ema 15\n",
      "n 2, rsi 12, threshold 45, ema 20\n",
      "n 2, rsi 12, threshold 45, ema 25\n",
      "n 2, rsi 12, threshold 45, ema 30\n",
      "n 2, rsi 12, threshold 45, ema 35\n",
      "n 2, rsi 12, threshold 50, ema 5\n",
      "n 2, rsi 12, threshold 50, ema 10\n",
      "n 2, rsi 12, threshold 50, ema 15\n",
      "n 2, rsi 12, threshold 50, ema 20\n",
      "n 2, rsi 12, threshold 50, ema 25\n",
      "n 2, rsi 12, threshold 50, ema 30\n",
      "n 2, rsi 12, threshold 50, ema 35\n",
      "n 2, rsi 12, threshold 55, ema 5\n",
      "n 2, rsi 12, threshold 55, ema 10\n",
      "n 2, rsi 12, threshold 55, ema 15\n",
      "n 2, rsi 12, threshold 55, ema 20\n",
      "n 2, rsi 12, threshold 55, ema 25\n",
      "n 2, rsi 12, threshold 55, ema 30\n",
      "n 2, rsi 12, threshold 55, ema 35\n",
      "n 2, rsi 12, threshold 60, ema 5\n",
      "n 2, rsi 12, threshold 60, ema 10\n",
      "n 2, rsi 12, threshold 60, ema 15\n",
      "n 2, rsi 12, threshold 60, ema 20\n",
      "n 2, rsi 12, threshold 60, ema 25\n",
      "n 2, rsi 12, threshold 60, ema 30\n",
      "n 2, rsi 12, threshold 60, ema 35\n",
      "n 2, rsi 12, threshold 65, ema 5\n",
      "n 2, rsi 12, threshold 65, ema 10\n",
      "n 2, rsi 12, threshold 65, ema 15\n",
      "n 2, rsi 12, threshold 65, ema 20\n",
      "n 2, rsi 12, threshold 65, ema 25\n",
      "n 2, rsi 12, threshold 65, ema 30\n",
      "n 2, rsi 12, threshold 65, ema 35\n",
      "n 2, rsi 12, threshold 70, ema 5\n"
     ]
    },
    {
     "name": "stderr",
     "output_type": "stream",
     "text": [
      "/tmp/ipykernel_2712/873016624.py:45: RuntimeWarning: divide by zero encountered in scalar divide\n",
      "  roi_dd_ratio = total_roi / abs(max_drawdown)\n"
     ]
    },
    {
     "name": "stdout",
     "output_type": "stream",
     "text": [
      "n 2, rsi 12, threshold 70, ema 10\n"
     ]
    },
    {
     "name": "stderr",
     "output_type": "stream",
     "text": [
      "/tmp/ipykernel_2712/873016624.py:45: RuntimeWarning: divide by zero encountered in scalar divide\n",
      "  roi_dd_ratio = total_roi / abs(max_drawdown)\n"
     ]
    },
    {
     "name": "stdout",
     "output_type": "stream",
     "text": [
      "n 2, rsi 12, threshold 70, ema 15\n"
     ]
    },
    {
     "name": "stderr",
     "output_type": "stream",
     "text": [
      "/tmp/ipykernel_2712/873016624.py:45: RuntimeWarning: divide by zero encountered in scalar divide\n",
      "  roi_dd_ratio = total_roi / abs(max_drawdown)\n"
     ]
    },
    {
     "name": "stdout",
     "output_type": "stream",
     "text": [
      "n 2, rsi 12, threshold 70, ema 20\n"
     ]
    },
    {
     "name": "stderr",
     "output_type": "stream",
     "text": [
      "/tmp/ipykernel_2712/873016624.py:45: RuntimeWarning: divide by zero encountered in scalar divide\n",
      "  roi_dd_ratio = total_roi / abs(max_drawdown)\n"
     ]
    },
    {
     "name": "stdout",
     "output_type": "stream",
     "text": [
      "n 2, rsi 12, threshold 70, ema 25\n"
     ]
    },
    {
     "name": "stderr",
     "output_type": "stream",
     "text": [
      "/tmp/ipykernel_2712/873016624.py:45: RuntimeWarning: divide by zero encountered in scalar divide\n",
      "  roi_dd_ratio = total_roi / abs(max_drawdown)\n"
     ]
    },
    {
     "name": "stdout",
     "output_type": "stream",
     "text": [
      "n 2, rsi 12, threshold 70, ema 30\n"
     ]
    },
    {
     "name": "stderr",
     "output_type": "stream",
     "text": [
      "/tmp/ipykernel_2712/873016624.py:45: RuntimeWarning: divide by zero encountered in scalar divide\n",
      "  roi_dd_ratio = total_roi / abs(max_drawdown)\n"
     ]
    },
    {
     "name": "stdout",
     "output_type": "stream",
     "text": [
      "n 2, rsi 12, threshold 70, ema 35\n"
     ]
    },
    {
     "name": "stderr",
     "output_type": "stream",
     "text": [
      "/tmp/ipykernel_2712/873016624.py:45: RuntimeWarning: divide by zero encountered in scalar divide\n",
      "  roi_dd_ratio = total_roi / abs(max_drawdown)\n"
     ]
    },
    {
     "name": "stdout",
     "output_type": "stream",
     "text": [
      "n 2, rsi 12, threshold 75, ema 5\n"
     ]
    },
    {
     "name": "stderr",
     "output_type": "stream",
     "text": [
      "/tmp/ipykernel_2712/873016624.py:45: RuntimeWarning: divide by zero encountered in scalar divide\n",
      "  roi_dd_ratio = total_roi / abs(max_drawdown)\n"
     ]
    },
    {
     "name": "stdout",
     "output_type": "stream",
     "text": [
      "n 2, rsi 12, threshold 75, ema 10\n"
     ]
    },
    {
     "name": "stderr",
     "output_type": "stream",
     "text": [
      "/tmp/ipykernel_2712/873016624.py:45: RuntimeWarning: divide by zero encountered in scalar divide\n",
      "  roi_dd_ratio = total_roi / abs(max_drawdown)\n"
     ]
    },
    {
     "name": "stdout",
     "output_type": "stream",
     "text": [
      "n 2, rsi 12, threshold 75, ema 15\n"
     ]
    },
    {
     "name": "stderr",
     "output_type": "stream",
     "text": [
      "/tmp/ipykernel_2712/873016624.py:45: RuntimeWarning: divide by zero encountered in scalar divide\n",
      "  roi_dd_ratio = total_roi / abs(max_drawdown)\n"
     ]
    },
    {
     "name": "stdout",
     "output_type": "stream",
     "text": [
      "n 2, rsi 12, threshold 75, ema 20\n"
     ]
    },
    {
     "name": "stderr",
     "output_type": "stream",
     "text": [
      "/tmp/ipykernel_2712/873016624.py:45: RuntimeWarning: divide by zero encountered in scalar divide\n",
      "  roi_dd_ratio = total_roi / abs(max_drawdown)\n"
     ]
    },
    {
     "name": "stdout",
     "output_type": "stream",
     "text": [
      "n 2, rsi 12, threshold 75, ema 25\n"
     ]
    },
    {
     "name": "stderr",
     "output_type": "stream",
     "text": [
      "/tmp/ipykernel_2712/873016624.py:45: RuntimeWarning: divide by zero encountered in scalar divide\n",
      "  roi_dd_ratio = total_roi / abs(max_drawdown)\n"
     ]
    },
    {
     "name": "stdout",
     "output_type": "stream",
     "text": [
      "n 2, rsi 12, threshold 75, ema 30\n"
     ]
    },
    {
     "name": "stderr",
     "output_type": "stream",
     "text": [
      "/tmp/ipykernel_2712/873016624.py:45: RuntimeWarning: divide by zero encountered in scalar divide\n",
      "  roi_dd_ratio = total_roi / abs(max_drawdown)\n"
     ]
    },
    {
     "name": "stdout",
     "output_type": "stream",
     "text": [
      "n 2, rsi 12, threshold 75, ema 35\n"
     ]
    },
    {
     "name": "stderr",
     "output_type": "stream",
     "text": [
      "/tmp/ipykernel_2712/873016624.py:45: RuntimeWarning: divide by zero encountered in scalar divide\n",
      "  roi_dd_ratio = total_roi / abs(max_drawdown)\n"
     ]
    },
    {
     "name": "stdout",
     "output_type": "stream",
     "text": [
      "n 2, rsi 12, threshold 80, ema 5\n",
      "n 2, rsi 12, threshold 80, ema 10\n",
      "n 2, rsi 12, threshold 80, ema 15\n",
      "n 2, rsi 12, threshold 80, ema 20\n",
      "n 2, rsi 12, threshold 80, ema 25\n",
      "n 2, rsi 12, threshold 80, ema 30\n",
      "n 2, rsi 12, threshold 80, ema 35\n",
      "n 2, rsi 16, threshold 30, ema 5\n",
      "n 2, rsi 16, threshold 30, ema 10\n",
      "n 2, rsi 16, threshold 30, ema 15\n",
      "n 2, rsi 16, threshold 30, ema 20\n",
      "n 2, rsi 16, threshold 30, ema 25\n",
      "n 2, rsi 16, threshold 30, ema 30\n",
      "n 2, rsi 16, threshold 30, ema 35\n",
      "n 2, rsi 16, threshold 35, ema 5\n",
      "n 2, rsi 16, threshold 35, ema 10\n",
      "n 2, rsi 16, threshold 35, ema 15\n",
      "n 2, rsi 16, threshold 35, ema 20\n",
      "n 2, rsi 16, threshold 35, ema 25\n",
      "n 2, rsi 16, threshold 35, ema 30\n",
      "n 2, rsi 16, threshold 35, ema 35\n",
      "n 2, rsi 16, threshold 40, ema 5\n",
      "n 2, rsi 16, threshold 40, ema 10\n",
      "n 2, rsi 16, threshold 40, ema 15\n",
      "n 2, rsi 16, threshold 40, ema 20\n",
      "n 2, rsi 16, threshold 40, ema 25\n",
      "n 2, rsi 16, threshold 40, ema 30\n",
      "n 2, rsi 16, threshold 40, ema 35\n",
      "n 2, rsi 16, threshold 45, ema 5\n",
      "n 2, rsi 16, threshold 45, ema 10\n",
      "n 2, rsi 16, threshold 45, ema 15\n",
      "n 2, rsi 16, threshold 45, ema 20\n",
      "n 2, rsi 16, threshold 45, ema 25\n",
      "n 2, rsi 16, threshold 45, ema 30\n",
      "n 2, rsi 16, threshold 45, ema 35\n",
      "n 2, rsi 16, threshold 50, ema 5\n",
      "n 2, rsi 16, threshold 50, ema 10\n",
      "n 2, rsi 16, threshold 50, ema 15\n",
      "n 2, rsi 16, threshold 50, ema 20\n",
      "n 2, rsi 16, threshold 50, ema 25\n",
      "n 2, rsi 16, threshold 50, ema 30\n",
      "n 2, rsi 16, threshold 50, ema 35\n",
      "n 2, rsi 16, threshold 55, ema 5\n",
      "n 2, rsi 16, threshold 55, ema 10\n",
      "n 2, rsi 16, threshold 55, ema 15\n",
      "n 2, rsi 16, threshold 55, ema 20\n",
      "n 2, rsi 16, threshold 55, ema 25\n",
      "n 2, rsi 16, threshold 55, ema 30\n",
      "n 2, rsi 16, threshold 55, ema 35\n",
      "n 2, rsi 16, threshold 60, ema 5\n",
      "n 2, rsi 16, threshold 60, ema 10\n",
      "n 2, rsi 16, threshold 60, ema 15\n",
      "n 2, rsi 16, threshold 60, ema 20\n",
      "n 2, rsi 16, threshold 60, ema 25\n",
      "n 2, rsi 16, threshold 60, ema 30\n",
      "n 2, rsi 16, threshold 60, ema 35\n",
      "n 2, rsi 16, threshold 65, ema 5\n",
      "n 2, rsi 16, threshold 65, ema 10\n",
      "n 2, rsi 16, threshold 65, ema 15\n",
      "n 2, rsi 16, threshold 65, ema 20\n",
      "n 2, rsi 16, threshold 65, ema 25\n",
      "n 2, rsi 16, threshold 65, ema 30\n",
      "n 2, rsi 16, threshold 65, ema 35\n",
      "n 2, rsi 16, threshold 70, ema 5\n"
     ]
    },
    {
     "name": "stderr",
     "output_type": "stream",
     "text": [
      "/tmp/ipykernel_2712/873016624.py:45: RuntimeWarning: divide by zero encountered in scalar divide\n",
      "  roi_dd_ratio = total_roi / abs(max_drawdown)\n"
     ]
    },
    {
     "name": "stdout",
     "output_type": "stream",
     "text": [
      "n 2, rsi 16, threshold 70, ema 10\n"
     ]
    },
    {
     "name": "stderr",
     "output_type": "stream",
     "text": [
      "/tmp/ipykernel_2712/873016624.py:45: RuntimeWarning: divide by zero encountered in scalar divide\n",
      "  roi_dd_ratio = total_roi / abs(max_drawdown)\n"
     ]
    },
    {
     "name": "stdout",
     "output_type": "stream",
     "text": [
      "n 2, rsi 16, threshold 70, ema 15\n"
     ]
    },
    {
     "name": "stderr",
     "output_type": "stream",
     "text": [
      "/tmp/ipykernel_2712/873016624.py:45: RuntimeWarning: divide by zero encountered in scalar divide\n",
      "  roi_dd_ratio = total_roi / abs(max_drawdown)\n"
     ]
    },
    {
     "name": "stdout",
     "output_type": "stream",
     "text": [
      "n 2, rsi 16, threshold 70, ema 20\n"
     ]
    },
    {
     "name": "stderr",
     "output_type": "stream",
     "text": [
      "/tmp/ipykernel_2712/873016624.py:45: RuntimeWarning: divide by zero encountered in scalar divide\n",
      "  roi_dd_ratio = total_roi / abs(max_drawdown)\n"
     ]
    },
    {
     "name": "stdout",
     "output_type": "stream",
     "text": [
      "n 2, rsi 16, threshold 70, ema 25\n"
     ]
    },
    {
     "name": "stderr",
     "output_type": "stream",
     "text": [
      "/tmp/ipykernel_2712/873016624.py:45: RuntimeWarning: divide by zero encountered in scalar divide\n",
      "  roi_dd_ratio = total_roi / abs(max_drawdown)\n"
     ]
    },
    {
     "name": "stdout",
     "output_type": "stream",
     "text": [
      "n 2, rsi 16, threshold 70, ema 30\n"
     ]
    },
    {
     "name": "stderr",
     "output_type": "stream",
     "text": [
      "/tmp/ipykernel_2712/873016624.py:45: RuntimeWarning: divide by zero encountered in scalar divide\n",
      "  roi_dd_ratio = total_roi / abs(max_drawdown)\n"
     ]
    },
    {
     "name": "stdout",
     "output_type": "stream",
     "text": [
      "n 2, rsi 16, threshold 70, ema 35\n"
     ]
    },
    {
     "name": "stderr",
     "output_type": "stream",
     "text": [
      "/tmp/ipykernel_2712/873016624.py:45: RuntimeWarning: divide by zero encountered in scalar divide\n",
      "  roi_dd_ratio = total_roi / abs(max_drawdown)\n"
     ]
    },
    {
     "name": "stdout",
     "output_type": "stream",
     "text": [
      "n 2, rsi 16, threshold 75, ema 5\n"
     ]
    },
    {
     "name": "stderr",
     "output_type": "stream",
     "text": [
      "/tmp/ipykernel_2712/873016624.py:45: RuntimeWarning: divide by zero encountered in scalar divide\n",
      "  roi_dd_ratio = total_roi / abs(max_drawdown)\n",
      "/tmp/ipykernel_2712/873016624.py:70: RuntimeWarning: divide by zero encountered in scalar divide\n",
      "  overall_roi_dd_ratio = overall_total_roi / abs(overall_max_drawdown)\n"
     ]
    },
    {
     "name": "stdout",
     "output_type": "stream",
     "text": [
      "        Total ROI Total Trades Win Rate Avg Profit% per Trade Avg Loss% per Trade Max Drawdown ROI/DD Ratio                         Variation\n",
      "2018       2.6945            2 100.0000                1.3473                 NaN       0.0000          inf  n 2, rsi 16, threshold 75, ema 5\n",
      "2019       0.0000            0      NaN                   NaN                 NaN          NaN          NaN  n 2, rsi 16, threshold 75, ema 5\n",
      "2020       0.0000            0      NaN                   NaN                 NaN          NaN          NaN  n 2, rsi 16, threshold 75, ema 5\n",
      "2021       0.0000            0      NaN                   NaN                 NaN          NaN          NaN  n 2, rsi 16, threshold 75, ema 5\n",
      "2022       0.0000            0      NaN                   NaN                 NaN          NaN          NaN  n 2, rsi 16, threshold 75, ema 5\n",
      "2023       0.0000            0      NaN                   NaN                 NaN          NaN          NaN  n 2, rsi 16, threshold 75, ema 5\n",
      "2024       0.0000            0      NaN                   NaN                 NaN          NaN          NaN  n 2, rsi 16, threshold 75, ema 5\n",
      "Overall    2.6945            2 100.0000                1.3473                 NaN       0.0000          inf  n 2, rsi 16, threshold 75, ema 5\n",
      "n 2, rsi 16, threshold 75, ema 10\n"
     ]
    },
    {
     "name": "stderr",
     "output_type": "stream",
     "text": [
      "/tmp/ipykernel_2712/873016624.py:45: RuntimeWarning: divide by zero encountered in scalar divide\n",
      "  roi_dd_ratio = total_roi / abs(max_drawdown)\n",
      "/tmp/ipykernel_2712/873016624.py:70: RuntimeWarning: divide by zero encountered in scalar divide\n",
      "  overall_roi_dd_ratio = overall_total_roi / abs(overall_max_drawdown)\n"
     ]
    },
    {
     "name": "stdout",
     "output_type": "stream",
     "text": [
      "        Total ROI Total Trades Win Rate Avg Profit% per Trade Avg Loss% per Trade Max Drawdown ROI/DD Ratio                          Variation\n",
      "2018       2.6945            2 100.0000                1.3473                 NaN       0.0000          inf  n 2, rsi 16, threshold 75, ema 10\n",
      "2019       0.0000            0      NaN                   NaN                 NaN          NaN          NaN  n 2, rsi 16, threshold 75, ema 10\n",
      "2020       0.0000            0      NaN                   NaN                 NaN          NaN          NaN  n 2, rsi 16, threshold 75, ema 10\n",
      "2021       0.0000            0      NaN                   NaN                 NaN          NaN          NaN  n 2, rsi 16, threshold 75, ema 10\n",
      "2022       0.0000            0      NaN                   NaN                 NaN          NaN          NaN  n 2, rsi 16, threshold 75, ema 10\n",
      "2023       0.0000            0      NaN                   NaN                 NaN          NaN          NaN  n 2, rsi 16, threshold 75, ema 10\n",
      "2024       0.0000            0      NaN                   NaN                 NaN          NaN          NaN  n 2, rsi 16, threshold 75, ema 10\n",
      "Overall    2.6945            2 100.0000                1.3473                 NaN       0.0000          inf  n 2, rsi 16, threshold 75, ema 10\n",
      "n 2, rsi 16, threshold 75, ema 15\n"
     ]
    },
    {
     "name": "stderr",
     "output_type": "stream",
     "text": [
      "/tmp/ipykernel_2712/873016624.py:45: RuntimeWarning: divide by zero encountered in scalar divide\n",
      "  roi_dd_ratio = total_roi / abs(max_drawdown)\n",
      "/tmp/ipykernel_2712/873016624.py:70: RuntimeWarning: divide by zero encountered in scalar divide\n",
      "  overall_roi_dd_ratio = overall_total_roi / abs(overall_max_drawdown)\n"
     ]
    },
    {
     "name": "stdout",
     "output_type": "stream",
     "text": [
      "        Total ROI Total Trades Win Rate Avg Profit% per Trade Avg Loss% per Trade Max Drawdown ROI/DD Ratio                          Variation\n",
      "2018       0.4415            2  50.0000                2.2509             -1.8094       0.0000          inf  n 2, rsi 16, threshold 75, ema 15\n",
      "2019       0.0000            0      NaN                   NaN                 NaN          NaN          NaN  n 2, rsi 16, threshold 75, ema 15\n",
      "2020       0.0000            0      NaN                   NaN                 NaN          NaN          NaN  n 2, rsi 16, threshold 75, ema 15\n",
      "2021       0.0000            0      NaN                   NaN                 NaN          NaN          NaN  n 2, rsi 16, threshold 75, ema 15\n",
      "2022       0.0000            0      NaN                   NaN                 NaN          NaN          NaN  n 2, rsi 16, threshold 75, ema 15\n",
      "2023       0.0000            0      NaN                   NaN                 NaN          NaN          NaN  n 2, rsi 16, threshold 75, ema 15\n",
      "2024       0.0000            0      NaN                   NaN                 NaN          NaN          NaN  n 2, rsi 16, threshold 75, ema 15\n",
      "Overall    0.4415            2  50.0000                2.2509             -1.8094       0.0000          inf  n 2, rsi 16, threshold 75, ema 15\n",
      "n 2, rsi 16, threshold 75, ema 20\n"
     ]
    },
    {
     "name": "stderr",
     "output_type": "stream",
     "text": [
      "/tmp/ipykernel_2712/873016624.py:45: RuntimeWarning: divide by zero encountered in scalar divide\n",
      "  roi_dd_ratio = total_roi / abs(max_drawdown)\n",
      "/tmp/ipykernel_2712/873016624.py:70: RuntimeWarning: divide by zero encountered in scalar divide\n",
      "  overall_roi_dd_ratio = overall_total_roi / abs(overall_max_drawdown)\n"
     ]
    },
    {
     "name": "stdout",
     "output_type": "stream",
     "text": [
      "        Total ROI Total Trades Win Rate Avg Profit% per Trade Avg Loss% per Trade Max Drawdown ROI/DD Ratio                          Variation\n",
      "2018       0.4415            2  50.0000                2.2509             -1.8094       0.0000          inf  n 2, rsi 16, threshold 75, ema 20\n",
      "2019       0.0000            0      NaN                   NaN                 NaN          NaN          NaN  n 2, rsi 16, threshold 75, ema 20\n",
      "2020       0.0000            0      NaN                   NaN                 NaN          NaN          NaN  n 2, rsi 16, threshold 75, ema 20\n",
      "2021       0.0000            0      NaN                   NaN                 NaN          NaN          NaN  n 2, rsi 16, threshold 75, ema 20\n",
      "2022       0.0000            0      NaN                   NaN                 NaN          NaN          NaN  n 2, rsi 16, threshold 75, ema 20\n",
      "2023       0.0000            0      NaN                   NaN                 NaN          NaN          NaN  n 2, rsi 16, threshold 75, ema 20\n",
      "2024       0.0000            0      NaN                   NaN                 NaN          NaN          NaN  n 2, rsi 16, threshold 75, ema 20\n",
      "Overall    0.4415            2  50.0000                2.2509             -1.8094       0.0000          inf  n 2, rsi 16, threshold 75, ema 20\n",
      "n 2, rsi 16, threshold 75, ema 25\n"
     ]
    },
    {
     "name": "stderr",
     "output_type": "stream",
     "text": [
      "/tmp/ipykernel_2712/873016624.py:45: RuntimeWarning: divide by zero encountered in scalar divide\n",
      "  roi_dd_ratio = total_roi / abs(max_drawdown)\n",
      "/tmp/ipykernel_2712/873016624.py:70: RuntimeWarning: divide by zero encountered in scalar divide\n",
      "  overall_roi_dd_ratio = overall_total_roi / abs(overall_max_drawdown)\n"
     ]
    },
    {
     "name": "stdout",
     "output_type": "stream",
     "text": [
      "        Total ROI Total Trades Win Rate Avg Profit% per Trade Avg Loss% per Trade Max Drawdown ROI/DD Ratio                          Variation\n",
      "2018       0.4415            2  50.0000                2.2509             -1.8094       0.0000          inf  n 2, rsi 16, threshold 75, ema 25\n",
      "2019       0.0000            0      NaN                   NaN                 NaN          NaN          NaN  n 2, rsi 16, threshold 75, ema 25\n",
      "2020       0.0000            0      NaN                   NaN                 NaN          NaN          NaN  n 2, rsi 16, threshold 75, ema 25\n",
      "2021       0.0000            0      NaN                   NaN                 NaN          NaN          NaN  n 2, rsi 16, threshold 75, ema 25\n",
      "2022       0.0000            0      NaN                   NaN                 NaN          NaN          NaN  n 2, rsi 16, threshold 75, ema 25\n",
      "2023       0.0000            0      NaN                   NaN                 NaN          NaN          NaN  n 2, rsi 16, threshold 75, ema 25\n",
      "2024       0.0000            0      NaN                   NaN                 NaN          NaN          NaN  n 2, rsi 16, threshold 75, ema 25\n",
      "Overall    0.4415            2  50.0000                2.2509             -1.8094       0.0000          inf  n 2, rsi 16, threshold 75, ema 25\n",
      "n 2, rsi 16, threshold 75, ema 30\n"
     ]
    },
    {
     "name": "stderr",
     "output_type": "stream",
     "text": [
      "/tmp/ipykernel_2712/873016624.py:45: RuntimeWarning: divide by zero encountered in scalar divide\n",
      "  roi_dd_ratio = total_roi / abs(max_drawdown)\n",
      "/tmp/ipykernel_2712/873016624.py:70: RuntimeWarning: divide by zero encountered in scalar divide\n",
      "  overall_roi_dd_ratio = overall_total_roi / abs(overall_max_drawdown)\n"
     ]
    },
    {
     "name": "stdout",
     "output_type": "stream",
     "text": [
      "        Total ROI Total Trades Win Rate Avg Profit% per Trade Avg Loss% per Trade Max Drawdown ROI/DD Ratio                          Variation\n",
      "2018       0.4415            2  50.0000                2.2509             -1.8094       0.0000          inf  n 2, rsi 16, threshold 75, ema 30\n",
      "2019       0.0000            0      NaN                   NaN                 NaN          NaN          NaN  n 2, rsi 16, threshold 75, ema 30\n",
      "2020       0.0000            0      NaN                   NaN                 NaN          NaN          NaN  n 2, rsi 16, threshold 75, ema 30\n",
      "2021       0.0000            0      NaN                   NaN                 NaN          NaN          NaN  n 2, rsi 16, threshold 75, ema 30\n",
      "2022       0.0000            0      NaN                   NaN                 NaN          NaN          NaN  n 2, rsi 16, threshold 75, ema 30\n",
      "2023       0.0000            0      NaN                   NaN                 NaN          NaN          NaN  n 2, rsi 16, threshold 75, ema 30\n",
      "2024       0.0000            0      NaN                   NaN                 NaN          NaN          NaN  n 2, rsi 16, threshold 75, ema 30\n",
      "Overall    0.4415            2  50.0000                2.2509             -1.8094       0.0000          inf  n 2, rsi 16, threshold 75, ema 30\n",
      "n 2, rsi 16, threshold 75, ema 35\n"
     ]
    },
    {
     "name": "stderr",
     "output_type": "stream",
     "text": [
      "/tmp/ipykernel_2712/873016624.py:45: RuntimeWarning: divide by zero encountered in scalar divide\n",
      "  roi_dd_ratio = total_roi / abs(max_drawdown)\n",
      "/tmp/ipykernel_2712/873016624.py:70: RuntimeWarning: divide by zero encountered in scalar divide\n",
      "  overall_roi_dd_ratio = overall_total_roi / abs(overall_max_drawdown)\n"
     ]
    },
    {
     "name": "stdout",
     "output_type": "stream",
     "text": [
      "        Total ROI Total Trades Win Rate Avg Profit% per Trade Avg Loss% per Trade Max Drawdown ROI/DD Ratio                          Variation\n",
      "2018       0.4415            2  50.0000                2.2509             -1.8094       0.0000          inf  n 2, rsi 16, threshold 75, ema 35\n",
      "2019       0.0000            0      NaN                   NaN                 NaN          NaN          NaN  n 2, rsi 16, threshold 75, ema 35\n",
      "2020       0.0000            0      NaN                   NaN                 NaN          NaN          NaN  n 2, rsi 16, threshold 75, ema 35\n",
      "2021       0.0000            0      NaN                   NaN                 NaN          NaN          NaN  n 2, rsi 16, threshold 75, ema 35\n",
      "2022       0.0000            0      NaN                   NaN                 NaN          NaN          NaN  n 2, rsi 16, threshold 75, ema 35\n",
      "2023       0.0000            0      NaN                   NaN                 NaN          NaN          NaN  n 2, rsi 16, threshold 75, ema 35\n",
      "2024       0.0000            0      NaN                   NaN                 NaN          NaN          NaN  n 2, rsi 16, threshold 75, ema 35\n",
      "Overall    0.4415            2  50.0000                2.2509             -1.8094       0.0000          inf  n 2, rsi 16, threshold 75, ema 35\n",
      "n 2, rsi 16, threshold 80, ema 5\n",
      "n 2, rsi 16, threshold 80, ema 10\n",
      "n 2, rsi 16, threshold 80, ema 15\n",
      "n 2, rsi 16, threshold 80, ema 20\n",
      "n 2, rsi 16, threshold 80, ema 25\n",
      "n 2, rsi 16, threshold 80, ema 30\n",
      "n 2, rsi 16, threshold 80, ema 35\n",
      "n 3, rsi 14, threshold 30, ema 5\n",
      "n 3, rsi 14, threshold 30, ema 10\n",
      "n 3, rsi 14, threshold 30, ema 15\n",
      "n 3, rsi 14, threshold 30, ema 20\n",
      "n 3, rsi 14, threshold 30, ema 25\n",
      "n 3, rsi 14, threshold 30, ema 30\n",
      "n 3, rsi 14, threshold 30, ema 35\n",
      "n 3, rsi 14, threshold 35, ema 5\n",
      "n 3, rsi 14, threshold 35, ema 10\n",
      "n 3, rsi 14, threshold 35, ema 15\n",
      "n 3, rsi 14, threshold 35, ema 20\n",
      "n 3, rsi 14, threshold 35, ema 25\n",
      "n 3, rsi 14, threshold 35, ema 30\n",
      "n 3, rsi 14, threshold 35, ema 35\n",
      "n 3, rsi 14, threshold 40, ema 5\n",
      "n 3, rsi 14, threshold 40, ema 10\n",
      "n 3, rsi 14, threshold 40, ema 15\n",
      "n 3, rsi 14, threshold 40, ema 20\n",
      "n 3, rsi 14, threshold 40, ema 25\n",
      "n 3, rsi 14, threshold 40, ema 30\n",
      "n 3, rsi 14, threshold 40, ema 35\n",
      "n 3, rsi 14, threshold 45, ema 5\n",
      "n 3, rsi 14, threshold 45, ema 10\n",
      "n 3, rsi 14, threshold 45, ema 15\n",
      "n 3, rsi 14, threshold 45, ema 20\n",
      "n 3, rsi 14, threshold 45, ema 25\n",
      "n 3, rsi 14, threshold 45, ema 30\n",
      "n 3, rsi 14, threshold 45, ema 35\n",
      "n 3, rsi 14, threshold 50, ema 5\n",
      "n 3, rsi 14, threshold 50, ema 10\n",
      "n 3, rsi 14, threshold 50, ema 15\n",
      "n 3, rsi 14, threshold 50, ema 20\n",
      "n 3, rsi 14, threshold 50, ema 25\n",
      "n 3, rsi 14, threshold 50, ema 30\n",
      "n 3, rsi 14, threshold 50, ema 35\n",
      "n 3, rsi 14, threshold 55, ema 5\n",
      "n 3, rsi 14, threshold 55, ema 10\n",
      "n 3, rsi 14, threshold 55, ema 15\n",
      "n 3, rsi 14, threshold 55, ema 20\n",
      "n 3, rsi 14, threshold 55, ema 25\n",
      "n 3, rsi 14, threshold 55, ema 30\n",
      "n 3, rsi 14, threshold 55, ema 35\n",
      "n 3, rsi 14, threshold 60, ema 5\n",
      "n 3, rsi 14, threshold 60, ema 10\n",
      "n 3, rsi 14, threshold 60, ema 15\n",
      "n 3, rsi 14, threshold 60, ema 20\n",
      "n 3, rsi 14, threshold 60, ema 25\n",
      "n 3, rsi 14, threshold 60, ema 30\n",
      "n 3, rsi 14, threshold 60, ema 35\n",
      "n 3, rsi 14, threshold 65, ema 5\n",
      "n 3, rsi 14, threshold 65, ema 10\n",
      "n 3, rsi 14, threshold 65, ema 15\n",
      "n 3, rsi 14, threshold 65, ema 20\n",
      "n 3, rsi 14, threshold 65, ema 25\n",
      "n 3, rsi 14, threshold 65, ema 30\n",
      "n 3, rsi 14, threshold 65, ema 35\n",
      "n 3, rsi 14, threshold 70, ema 5\n"
     ]
    },
    {
     "name": "stderr",
     "output_type": "stream",
     "text": [
      "/tmp/ipykernel_2712/873016624.py:45: RuntimeWarning: divide by zero encountered in scalar divide\n",
      "  roi_dd_ratio = total_roi / abs(max_drawdown)\n"
     ]
    },
    {
     "name": "stdout",
     "output_type": "stream",
     "text": [
      "n 3, rsi 14, threshold 70, ema 10\n"
     ]
    },
    {
     "name": "stderr",
     "output_type": "stream",
     "text": [
      "/tmp/ipykernel_2712/873016624.py:45: RuntimeWarning: divide by zero encountered in scalar divide\n",
      "  roi_dd_ratio = total_roi / abs(max_drawdown)\n"
     ]
    },
    {
     "name": "stdout",
     "output_type": "stream",
     "text": [
      "n 3, rsi 14, threshold 70, ema 15\n"
     ]
    },
    {
     "name": "stderr",
     "output_type": "stream",
     "text": [
      "/tmp/ipykernel_2712/873016624.py:45: RuntimeWarning: divide by zero encountered in scalar divide\n",
      "  roi_dd_ratio = total_roi / abs(max_drawdown)\n"
     ]
    },
    {
     "name": "stdout",
     "output_type": "stream",
     "text": [
      "n 3, rsi 14, threshold 70, ema 20\n"
     ]
    },
    {
     "name": "stderr",
     "output_type": "stream",
     "text": [
      "/tmp/ipykernel_2712/873016624.py:45: RuntimeWarning: divide by zero encountered in scalar divide\n",
      "  roi_dd_ratio = total_roi / abs(max_drawdown)\n"
     ]
    },
    {
     "name": "stdout",
     "output_type": "stream",
     "text": [
      "n 3, rsi 14, threshold 70, ema 25\n"
     ]
    },
    {
     "name": "stderr",
     "output_type": "stream",
     "text": [
      "/tmp/ipykernel_2712/873016624.py:45: RuntimeWarning: divide by zero encountered in scalar divide\n",
      "  roi_dd_ratio = total_roi / abs(max_drawdown)\n"
     ]
    },
    {
     "name": "stdout",
     "output_type": "stream",
     "text": [
      "n 3, rsi 14, threshold 70, ema 30\n"
     ]
    },
    {
     "name": "stderr",
     "output_type": "stream",
     "text": [
      "/tmp/ipykernel_2712/873016624.py:45: RuntimeWarning: divide by zero encountered in scalar divide\n",
      "  roi_dd_ratio = total_roi / abs(max_drawdown)\n"
     ]
    },
    {
     "name": "stdout",
     "output_type": "stream",
     "text": [
      "n 3, rsi 14, threshold 70, ema 35\n"
     ]
    },
    {
     "name": "stderr",
     "output_type": "stream",
     "text": [
      "/tmp/ipykernel_2712/873016624.py:45: RuntimeWarning: divide by zero encountered in scalar divide\n",
      "  roi_dd_ratio = total_roi / abs(max_drawdown)\n"
     ]
    },
    {
     "name": "stdout",
     "output_type": "stream",
     "text": [
      "n 3, rsi 14, threshold 75, ema 5\n"
     ]
    },
    {
     "name": "stderr",
     "output_type": "stream",
     "text": [
      "/tmp/ipykernel_2712/873016624.py:45: RuntimeWarning: divide by zero encountered in scalar divide\n",
      "  roi_dd_ratio = total_roi / abs(max_drawdown)\n"
     ]
    },
    {
     "name": "stdout",
     "output_type": "stream",
     "text": [
      "        Total ROI Total Trades Win Rate Avg Profit% per Trade Avg Loss% per Trade Max Drawdown ROI/DD Ratio                         Variation\n",
      "2018       2.6945            2 100.0000                1.3473                 NaN       0.0000          inf  n 3, rsi 14, threshold 75, ema 5\n",
      "2019       0.0000            0      NaN                   NaN                 NaN          NaN          NaN  n 3, rsi 14, threshold 75, ema 5\n",
      "2020       0.0000            0      NaN                   NaN                 NaN          NaN          NaN  n 3, rsi 14, threshold 75, ema 5\n",
      "2021       0.0000            0      NaN                   NaN                 NaN          NaN          NaN  n 3, rsi 14, threshold 75, ema 5\n",
      "2022       6.3437            1 100.0000                6.3437                 NaN       0.0000          inf  n 3, rsi 14, threshold 75, ema 5\n",
      "2023       0.0000            0      NaN                   NaN                 NaN          NaN          NaN  n 3, rsi 14, threshold 75, ema 5\n",
      "2024      -0.4016            1   0.0000                   NaN             -0.4016       0.0000         -inf  n 3, rsi 14, threshold 75, ema 5\n",
      "Overall    8.6366            4  75.0000                3.0127             -0.4016      -0.4016      21.5037  n 3, rsi 14, threshold 75, ema 5\n",
      "n 3, rsi 14, threshold 75, ema 10\n"
     ]
    },
    {
     "name": "stderr",
     "output_type": "stream",
     "text": [
      "/tmp/ipykernel_2712/873016624.py:45: RuntimeWarning: divide by zero encountered in scalar divide\n",
      "  roi_dd_ratio = total_roi / abs(max_drawdown)\n"
     ]
    },
    {
     "name": "stdout",
     "output_type": "stream",
     "text": [
      "        Total ROI Total Trades Win Rate Avg Profit% per Trade Avg Loss% per Trade Max Drawdown ROI/DD Ratio                          Variation\n",
      "2018       2.6945            2 100.0000                1.3473                 NaN       0.0000          inf  n 3, rsi 14, threshold 75, ema 10\n",
      "2019       0.0000            0      NaN                   NaN                 NaN          NaN          NaN  n 3, rsi 14, threshold 75, ema 10\n",
      "2020       0.0000            0      NaN                   NaN                 NaN          NaN          NaN  n 3, rsi 14, threshold 75, ema 10\n",
      "2021       0.0000            0      NaN                   NaN                 NaN          NaN          NaN  n 3, rsi 14, threshold 75, ema 10\n",
      "2022       6.3437            1 100.0000                6.3437                 NaN       0.0000          inf  n 3, rsi 14, threshold 75, ema 10\n",
      "2023       0.0000            0      NaN                   NaN                 NaN          NaN          NaN  n 3, rsi 14, threshold 75, ema 10\n",
      "2024      -0.4016            1   0.0000                   NaN             -0.4016       0.0000         -inf  n 3, rsi 14, threshold 75, ema 10\n",
      "Overall    8.6366            4  75.0000                3.0127             -0.4016      -0.4016      21.5037  n 3, rsi 14, threshold 75, ema 10\n",
      "n 3, rsi 14, threshold 75, ema 15\n"
     ]
    },
    {
     "name": "stderr",
     "output_type": "stream",
     "text": [
      "/tmp/ipykernel_2712/873016624.py:45: RuntimeWarning: divide by zero encountered in scalar divide\n",
      "  roi_dd_ratio = total_roi / abs(max_drawdown)\n"
     ]
    },
    {
     "name": "stdout",
     "output_type": "stream",
     "text": [
      "        Total ROI Total Trades Win Rate Avg Profit% per Trade Avg Loss% per Trade Max Drawdown ROI/DD Ratio                          Variation\n",
      "2018      -1.6625            2  50.0000                2.2509             -3.9134       0.0000         -inf  n 3, rsi 14, threshold 75, ema 15\n",
      "2019       0.0000            0      NaN                   NaN                 NaN          NaN          NaN  n 3, rsi 14, threshold 75, ema 15\n",
      "2020       0.0000            0      NaN                   NaN                 NaN          NaN          NaN  n 3, rsi 14, threshold 75, ema 15\n",
      "2021       0.0000            0      NaN                   NaN                 NaN          NaN          NaN  n 3, rsi 14, threshold 75, ema 15\n",
      "2022       7.0834            1 100.0000                7.0834                 NaN       0.0000          inf  n 3, rsi 14, threshold 75, ema 15\n",
      "2023       0.0000            0      NaN                   NaN                 NaN          NaN          NaN  n 3, rsi 14, threshold 75, ema 15\n",
      "2024      -0.4016            1   0.0000                   NaN             -0.4016       0.0000         -inf  n 3, rsi 14, threshold 75, ema 15\n",
      "Overall    5.0193            4  50.0000                4.6671             -2.1575      -0.4016      12.4971  n 3, rsi 14, threshold 75, ema 15\n",
      "n 3, rsi 14, threshold 75, ema 20\n"
     ]
    },
    {
     "name": "stderr",
     "output_type": "stream",
     "text": [
      "/tmp/ipykernel_2712/873016624.py:45: RuntimeWarning: divide by zero encountered in scalar divide\n",
      "  roi_dd_ratio = total_roi / abs(max_drawdown)\n"
     ]
    },
    {
     "name": "stdout",
     "output_type": "stream",
     "text": [
      "n 3, rsi 14, threshold 75, ema 25\n"
     ]
    },
    {
     "name": "stderr",
     "output_type": "stream",
     "text": [
      "/tmp/ipykernel_2712/873016624.py:45: RuntimeWarning: divide by zero encountered in scalar divide\n",
      "  roi_dd_ratio = total_roi / abs(max_drawdown)\n"
     ]
    },
    {
     "name": "stdout",
     "output_type": "stream",
     "text": [
      "n 3, rsi 14, threshold 75, ema 30\n"
     ]
    },
    {
     "name": "stderr",
     "output_type": "stream",
     "text": [
      "/tmp/ipykernel_2712/873016624.py:45: RuntimeWarning: divide by zero encountered in scalar divide\n",
      "  roi_dd_ratio = total_roi / abs(max_drawdown)\n"
     ]
    },
    {
     "name": "stdout",
     "output_type": "stream",
     "text": [
      "n 3, rsi 14, threshold 75, ema 35\n"
     ]
    },
    {
     "name": "stderr",
     "output_type": "stream",
     "text": [
      "/tmp/ipykernel_2712/873016624.py:45: RuntimeWarning: divide by zero encountered in scalar divide\n",
      "  roi_dd_ratio = total_roi / abs(max_drawdown)\n"
     ]
    },
    {
     "name": "stdout",
     "output_type": "stream",
     "text": [
      "n 3, rsi 14, threshold 80, ema 5\n",
      "n 3, rsi 14, threshold 80, ema 10\n",
      "n 3, rsi 14, threshold 80, ema 15\n",
      "n 3, rsi 14, threshold 80, ema 20\n",
      "n 3, rsi 14, threshold 80, ema 25\n",
      "n 3, rsi 14, threshold 80, ema 30\n",
      "n 3, rsi 14, threshold 80, ema 35\n",
      "n 3, rsi 9, threshold 30, ema 5\n",
      "n 3, rsi 9, threshold 30, ema 10\n",
      "n 3, rsi 9, threshold 30, ema 15\n",
      "n 3, rsi 9, threshold 30, ema 20\n",
      "n 3, rsi 9, threshold 30, ema 25\n",
      "n 3, rsi 9, threshold 30, ema 30\n",
      "n 3, rsi 9, threshold 30, ema 35\n",
      "n 3, rsi 9, threshold 35, ema 5\n",
      "n 3, rsi 9, threshold 35, ema 10\n",
      "n 3, rsi 9, threshold 35, ema 15\n",
      "n 3, rsi 9, threshold 35, ema 20\n",
      "n 3, rsi 9, threshold 35, ema 25\n",
      "n 3, rsi 9, threshold 35, ema 30\n",
      "n 3, rsi 9, threshold 35, ema 35\n",
      "n 3, rsi 9, threshold 40, ema 5\n",
      "n 3, rsi 9, threshold 40, ema 10\n",
      "n 3, rsi 9, threshold 40, ema 15\n",
      "n 3, rsi 9, threshold 40, ema 20\n",
      "n 3, rsi 9, threshold 40, ema 25\n",
      "n 3, rsi 9, threshold 40, ema 30\n",
      "n 3, rsi 9, threshold 40, ema 35\n",
      "n 3, rsi 9, threshold 45, ema 5\n",
      "n 3, rsi 9, threshold 45, ema 10\n",
      "n 3, rsi 9, threshold 45, ema 15\n",
      "n 3, rsi 9, threshold 45, ema 20\n",
      "n 3, rsi 9, threshold 45, ema 25\n",
      "n 3, rsi 9, threshold 45, ema 30\n",
      "n 3, rsi 9, threshold 45, ema 35\n",
      "n 3, rsi 9, threshold 50, ema 5\n",
      "n 3, rsi 9, threshold 50, ema 10\n",
      "n 3, rsi 9, threshold 50, ema 15\n",
      "n 3, rsi 9, threshold 50, ema 20\n",
      "n 3, rsi 9, threshold 50, ema 25\n",
      "n 3, rsi 9, threshold 50, ema 30\n",
      "n 3, rsi 9, threshold 50, ema 35\n",
      "n 3, rsi 9, threshold 55, ema 5\n",
      "n 3, rsi 9, threshold 55, ema 10\n",
      "n 3, rsi 9, threshold 55, ema 15\n",
      "n 3, rsi 9, threshold 55, ema 20\n",
      "n 3, rsi 9, threshold 55, ema 25\n",
      "n 3, rsi 9, threshold 55, ema 30\n",
      "n 3, rsi 9, threshold 55, ema 35\n",
      "n 3, rsi 9, threshold 60, ema 5\n",
      "n 3, rsi 9, threshold 60, ema 10\n",
      "n 3, rsi 9, threshold 60, ema 15\n",
      "n 3, rsi 9, threshold 60, ema 20\n",
      "n 3, rsi 9, threshold 60, ema 25\n",
      "n 3, rsi 9, threshold 60, ema 30\n",
      "n 3, rsi 9, threshold 60, ema 35\n",
      "n 3, rsi 9, threshold 65, ema 5\n"
     ]
    },
    {
     "name": "stderr",
     "output_type": "stream",
     "text": [
      "/tmp/ipykernel_2712/873016624.py:45: RuntimeWarning: divide by zero encountered in scalar divide\n",
      "  roi_dd_ratio = total_roi / abs(max_drawdown)\n"
     ]
    },
    {
     "name": "stdout",
     "output_type": "stream",
     "text": [
      "n 3, rsi 9, threshold 65, ema 10\n",
      "n 3, rsi 9, threshold 65, ema 15\n",
      "n 3, rsi 9, threshold 65, ema 20\n",
      "n 3, rsi 9, threshold 65, ema 25\n",
      "n 3, rsi 9, threshold 65, ema 30\n",
      "n 3, rsi 9, threshold 65, ema 35\n",
      "n 3, rsi 9, threshold 70, ema 5\n"
     ]
    },
    {
     "name": "stderr",
     "output_type": "stream",
     "text": [
      "/tmp/ipykernel_2712/873016624.py:45: RuntimeWarning: divide by zero encountered in scalar divide\n",
      "  roi_dd_ratio = total_roi / abs(max_drawdown)\n"
     ]
    },
    {
     "name": "stdout",
     "output_type": "stream",
     "text": [
      "n 3, rsi 9, threshold 70, ema 10\n"
     ]
    },
    {
     "name": "stderr",
     "output_type": "stream",
     "text": [
      "/tmp/ipykernel_2712/873016624.py:45: RuntimeWarning: divide by zero encountered in scalar divide\n",
      "  roi_dd_ratio = total_roi / abs(max_drawdown)\n"
     ]
    },
    {
     "name": "stdout",
     "output_type": "stream",
     "text": [
      "n 3, rsi 9, threshold 70, ema 15\n"
     ]
    },
    {
     "name": "stderr",
     "output_type": "stream",
     "text": [
      "/tmp/ipykernel_2712/873016624.py:45: RuntimeWarning: divide by zero encountered in scalar divide\n",
      "  roi_dd_ratio = total_roi / abs(max_drawdown)\n"
     ]
    },
    {
     "name": "stdout",
     "output_type": "stream",
     "text": [
      "n 3, rsi 9, threshold 70, ema 20\n"
     ]
    },
    {
     "name": "stderr",
     "output_type": "stream",
     "text": [
      "/tmp/ipykernel_2712/873016624.py:45: RuntimeWarning: divide by zero encountered in scalar divide\n",
      "  roi_dd_ratio = total_roi / abs(max_drawdown)\n"
     ]
    },
    {
     "name": "stdout",
     "output_type": "stream",
     "text": [
      "n 3, rsi 9, threshold 70, ema 25\n"
     ]
    },
    {
     "name": "stderr",
     "output_type": "stream",
     "text": [
      "/tmp/ipykernel_2712/873016624.py:45: RuntimeWarning: divide by zero encountered in scalar divide\n",
      "  roi_dd_ratio = total_roi / abs(max_drawdown)\n"
     ]
    },
    {
     "name": "stdout",
     "output_type": "stream",
     "text": [
      "n 3, rsi 9, threshold 70, ema 30\n"
     ]
    },
    {
     "name": "stderr",
     "output_type": "stream",
     "text": [
      "/tmp/ipykernel_2712/873016624.py:45: RuntimeWarning: divide by zero encountered in scalar divide\n",
      "  roi_dd_ratio = total_roi / abs(max_drawdown)\n"
     ]
    },
    {
     "name": "stdout",
     "output_type": "stream",
     "text": [
      "n 3, rsi 9, threshold 70, ema 35\n"
     ]
    },
    {
     "name": "stderr",
     "output_type": "stream",
     "text": [
      "/tmp/ipykernel_2712/873016624.py:45: RuntimeWarning: divide by zero encountered in scalar divide\n",
      "  roi_dd_ratio = total_roi / abs(max_drawdown)\n"
     ]
    },
    {
     "name": "stdout",
     "output_type": "stream",
     "text": [
      "n 3, rsi 9, threshold 75, ema 5\n"
     ]
    },
    {
     "name": "stderr",
     "output_type": "stream",
     "text": [
      "/tmp/ipykernel_2712/873016624.py:45: RuntimeWarning: divide by zero encountered in scalar divide\n",
      "  roi_dd_ratio = total_roi / abs(max_drawdown)\n"
     ]
    },
    {
     "name": "stdout",
     "output_type": "stream",
     "text": [
      "        Total ROI Total Trades Win Rate Avg Profit% per Trade Avg Loss% per Trade Max Drawdown ROI/DD Ratio                        Variation\n",
      "2018       2.6945            2 100.0000                1.3473                 NaN       0.0000          inf  n 3, rsi 9, threshold 75, ema 5\n",
      "2019       0.0000            0      NaN                   NaN                 NaN          NaN          NaN  n 3, rsi 9, threshold 75, ema 5\n",
      "2020       0.0000            0      NaN                   NaN                 NaN          NaN          NaN  n 3, rsi 9, threshold 75, ema 5\n",
      "2021       0.0000            0      NaN                   NaN                 NaN          NaN          NaN  n 3, rsi 9, threshold 75, ema 5\n",
      "2022       6.3437            1 100.0000                6.3437                 NaN       0.0000          inf  n 3, rsi 9, threshold 75, ema 5\n",
      "2023       0.0000            0      NaN                   NaN                 NaN          NaN          NaN  n 3, rsi 9, threshold 75, ema 5\n",
      "2024      -0.4016            1   0.0000                   NaN             -0.4016       0.0000         -inf  n 3, rsi 9, threshold 75, ema 5\n",
      "Overall    8.6366            4  75.0000                3.0127             -0.4016      -0.4016      21.5037  n 3, rsi 9, threshold 75, ema 5\n",
      "n 3, rsi 9, threshold 75, ema 10\n"
     ]
    },
    {
     "name": "stderr",
     "output_type": "stream",
     "text": [
      "/tmp/ipykernel_2712/873016624.py:45: RuntimeWarning: divide by zero encountered in scalar divide\n",
      "  roi_dd_ratio = total_roi / abs(max_drawdown)\n"
     ]
    },
    {
     "name": "stdout",
     "output_type": "stream",
     "text": [
      "        Total ROI Total Trades Win Rate Avg Profit% per Trade Avg Loss% per Trade Max Drawdown ROI/DD Ratio                         Variation\n",
      "2018       2.6945            2 100.0000                1.3473                 NaN       0.0000          inf  n 3, rsi 9, threshold 75, ema 10\n",
      "2019       0.0000            0      NaN                   NaN                 NaN          NaN          NaN  n 3, rsi 9, threshold 75, ema 10\n",
      "2020       0.0000            0      NaN                   NaN                 NaN          NaN          NaN  n 3, rsi 9, threshold 75, ema 10\n",
      "2021       0.0000            0      NaN                   NaN                 NaN          NaN          NaN  n 3, rsi 9, threshold 75, ema 10\n",
      "2022       6.3437            1 100.0000                6.3437                 NaN       0.0000          inf  n 3, rsi 9, threshold 75, ema 10\n",
      "2023       0.0000            0      NaN                   NaN                 NaN          NaN          NaN  n 3, rsi 9, threshold 75, ema 10\n",
      "2024      -0.4016            1   0.0000                   NaN             -0.4016       0.0000         -inf  n 3, rsi 9, threshold 75, ema 10\n",
      "Overall    8.6366            4  75.0000                3.0127             -0.4016      -0.4016      21.5037  n 3, rsi 9, threshold 75, ema 10\n",
      "n 3, rsi 9, threshold 75, ema 15\n"
     ]
    },
    {
     "name": "stderr",
     "output_type": "stream",
     "text": [
      "/tmp/ipykernel_2712/873016624.py:45: RuntimeWarning: divide by zero encountered in scalar divide\n",
      "  roi_dd_ratio = total_roi / abs(max_drawdown)\n"
     ]
    },
    {
     "name": "stdout",
     "output_type": "stream",
     "text": [
      "        Total ROI Total Trades Win Rate Avg Profit% per Trade Avg Loss% per Trade Max Drawdown ROI/DD Ratio                         Variation\n",
      "2018      -1.6625            2  50.0000                2.2509             -3.9134       0.0000         -inf  n 3, rsi 9, threshold 75, ema 15\n",
      "2019       0.0000            0      NaN                   NaN                 NaN          NaN          NaN  n 3, rsi 9, threshold 75, ema 15\n",
      "2020       0.0000            0      NaN                   NaN                 NaN          NaN          NaN  n 3, rsi 9, threshold 75, ema 15\n",
      "2021       0.0000            0      NaN                   NaN                 NaN          NaN          NaN  n 3, rsi 9, threshold 75, ema 15\n",
      "2022       7.0834            1 100.0000                7.0834                 NaN       0.0000          inf  n 3, rsi 9, threshold 75, ema 15\n",
      "2023       0.0000            0      NaN                   NaN                 NaN          NaN          NaN  n 3, rsi 9, threshold 75, ema 15\n",
      "2024      -0.4016            1   0.0000                   NaN             -0.4016       0.0000         -inf  n 3, rsi 9, threshold 75, ema 15\n",
      "Overall    5.0193            4  50.0000                4.6671             -2.1575      -0.4016      12.4971  n 3, rsi 9, threshold 75, ema 15\n",
      "n 3, rsi 9, threshold 75, ema 20\n"
     ]
    },
    {
     "name": "stderr",
     "output_type": "stream",
     "text": [
      "/tmp/ipykernel_2712/873016624.py:45: RuntimeWarning: divide by zero encountered in scalar divide\n",
      "  roi_dd_ratio = total_roi / abs(max_drawdown)\n"
     ]
    },
    {
     "name": "stdout",
     "output_type": "stream",
     "text": [
      "n 3, rsi 9, threshold 75, ema 25\n"
     ]
    },
    {
     "name": "stderr",
     "output_type": "stream",
     "text": [
      "/tmp/ipykernel_2712/873016624.py:45: RuntimeWarning: divide by zero encountered in scalar divide\n",
      "  roi_dd_ratio = total_roi / abs(max_drawdown)\n"
     ]
    },
    {
     "name": "stdout",
     "output_type": "stream",
     "text": [
      "n 3, rsi 9, threshold 75, ema 30\n"
     ]
    },
    {
     "name": "stderr",
     "output_type": "stream",
     "text": [
      "/tmp/ipykernel_2712/873016624.py:45: RuntimeWarning: divide by zero encountered in scalar divide\n",
      "  roi_dd_ratio = total_roi / abs(max_drawdown)\n"
     ]
    },
    {
     "name": "stdout",
     "output_type": "stream",
     "text": [
      "n 3, rsi 9, threshold 75, ema 35\n"
     ]
    },
    {
     "name": "stderr",
     "output_type": "stream",
     "text": [
      "/tmp/ipykernel_2712/873016624.py:45: RuntimeWarning: divide by zero encountered in scalar divide\n",
      "  roi_dd_ratio = total_roi / abs(max_drawdown)\n"
     ]
    },
    {
     "name": "stdout",
     "output_type": "stream",
     "text": [
      "n 3, rsi 9, threshold 80, ema 5\n",
      "n 3, rsi 9, threshold 80, ema 10\n",
      "n 3, rsi 9, threshold 80, ema 15\n",
      "n 3, rsi 9, threshold 80, ema 20\n",
      "n 3, rsi 9, threshold 80, ema 25\n",
      "n 3, rsi 9, threshold 80, ema 30\n",
      "n 3, rsi 9, threshold 80, ema 35\n",
      "n 3, rsi 21, threshold 30, ema 5\n",
      "n 3, rsi 21, threshold 30, ema 10\n",
      "n 3, rsi 21, threshold 30, ema 15\n",
      "n 3, rsi 21, threshold 30, ema 20\n",
      "n 3, rsi 21, threshold 30, ema 25\n",
      "n 3, rsi 21, threshold 30, ema 30\n",
      "n 3, rsi 21, threshold 30, ema 35\n",
      "n 3, rsi 21, threshold 35, ema 5\n",
      "n 3, rsi 21, threshold 35, ema 10\n",
      "n 3, rsi 21, threshold 35, ema 15\n",
      "n 3, rsi 21, threshold 35, ema 20\n",
      "n 3, rsi 21, threshold 35, ema 25\n",
      "n 3, rsi 21, threshold 35, ema 30\n",
      "n 3, rsi 21, threshold 35, ema 35\n",
      "n 3, rsi 21, threshold 40, ema 5\n",
      "n 3, rsi 21, threshold 40, ema 10\n",
      "n 3, rsi 21, threshold 40, ema 15\n",
      "n 3, rsi 21, threshold 40, ema 20\n",
      "n 3, rsi 21, threshold 40, ema 25\n",
      "n 3, rsi 21, threshold 40, ema 30\n",
      "n 3, rsi 21, threshold 40, ema 35\n",
      "n 3, rsi 21, threshold 45, ema 5\n",
      "n 3, rsi 21, threshold 45, ema 10\n",
      "n 3, rsi 21, threshold 45, ema 15\n",
      "n 3, rsi 21, threshold 45, ema 20\n",
      "n 3, rsi 21, threshold 45, ema 25\n",
      "n 3, rsi 21, threshold 45, ema 30\n",
      "n 3, rsi 21, threshold 45, ema 35\n",
      "n 3, rsi 21, threshold 50, ema 5\n",
      "n 3, rsi 21, threshold 50, ema 10\n",
      "n 3, rsi 21, threshold 50, ema 15\n",
      "n 3, rsi 21, threshold 50, ema 20\n",
      "n 3, rsi 21, threshold 50, ema 25\n",
      "n 3, rsi 21, threshold 50, ema 30\n",
      "n 3, rsi 21, threshold 50, ema 35\n",
      "n 3, rsi 21, threshold 55, ema 5\n",
      "n 3, rsi 21, threshold 55, ema 10\n",
      "n 3, rsi 21, threshold 55, ema 15\n",
      "n 3, rsi 21, threshold 55, ema 20\n",
      "n 3, rsi 21, threshold 55, ema 25\n",
      "n 3, rsi 21, threshold 55, ema 30\n",
      "n 3, rsi 21, threshold 55, ema 35\n",
      "n 3, rsi 21, threshold 60, ema 5\n",
      "n 3, rsi 21, threshold 60, ema 10\n",
      "n 3, rsi 21, threshold 60, ema 15\n",
      "n 3, rsi 21, threshold 60, ema 20\n",
      "n 3, rsi 21, threshold 60, ema 25\n",
      "n 3, rsi 21, threshold 60, ema 30\n",
      "n 3, rsi 21, threshold 60, ema 35\n",
      "n 3, rsi 21, threshold 65, ema 5\n",
      "n 3, rsi 21, threshold 65, ema 10\n",
      "n 3, rsi 21, threshold 65, ema 15\n",
      "n 3, rsi 21, threshold 65, ema 20\n",
      "n 3, rsi 21, threshold 65, ema 25\n",
      "n 3, rsi 21, threshold 65, ema 30\n",
      "n 3, rsi 21, threshold 65, ema 35\n",
      "n 3, rsi 21, threshold 70, ema 5\n"
     ]
    },
    {
     "name": "stderr",
     "output_type": "stream",
     "text": [
      "/tmp/ipykernel_2712/873016624.py:45: RuntimeWarning: divide by zero encountered in scalar divide\n",
      "  roi_dd_ratio = total_roi / abs(max_drawdown)\n"
     ]
    },
    {
     "name": "stdout",
     "output_type": "stream",
     "text": [
      "n 3, rsi 21, threshold 70, ema 10\n"
     ]
    },
    {
     "name": "stderr",
     "output_type": "stream",
     "text": [
      "/tmp/ipykernel_2712/873016624.py:45: RuntimeWarning: divide by zero encountered in scalar divide\n",
      "  roi_dd_ratio = total_roi / abs(max_drawdown)\n"
     ]
    },
    {
     "name": "stdout",
     "output_type": "stream",
     "text": [
      "n 3, rsi 21, threshold 70, ema 15\n"
     ]
    },
    {
     "name": "stderr",
     "output_type": "stream",
     "text": [
      "/tmp/ipykernel_2712/873016624.py:45: RuntimeWarning: divide by zero encountered in scalar divide\n",
      "  roi_dd_ratio = total_roi / abs(max_drawdown)\n"
     ]
    },
    {
     "name": "stdout",
     "output_type": "stream",
     "text": [
      "n 3, rsi 21, threshold 70, ema 20\n"
     ]
    },
    {
     "name": "stderr",
     "output_type": "stream",
     "text": [
      "/tmp/ipykernel_2712/873016624.py:45: RuntimeWarning: divide by zero encountered in scalar divide\n",
      "  roi_dd_ratio = total_roi / abs(max_drawdown)\n"
     ]
    },
    {
     "name": "stdout",
     "output_type": "stream",
     "text": [
      "n 3, rsi 21, threshold 70, ema 25\n"
     ]
    },
    {
     "name": "stderr",
     "output_type": "stream",
     "text": [
      "/tmp/ipykernel_2712/873016624.py:45: RuntimeWarning: divide by zero encountered in scalar divide\n",
      "  roi_dd_ratio = total_roi / abs(max_drawdown)\n"
     ]
    },
    {
     "name": "stdout",
     "output_type": "stream",
     "text": [
      "n 3, rsi 21, threshold 70, ema 30\n"
     ]
    },
    {
     "name": "stderr",
     "output_type": "stream",
     "text": [
      "/tmp/ipykernel_2712/873016624.py:45: RuntimeWarning: divide by zero encountered in scalar divide\n",
      "  roi_dd_ratio = total_roi / abs(max_drawdown)\n"
     ]
    },
    {
     "name": "stdout",
     "output_type": "stream",
     "text": [
      "n 3, rsi 21, threshold 70, ema 35\n"
     ]
    },
    {
     "name": "stderr",
     "output_type": "stream",
     "text": [
      "/tmp/ipykernel_2712/873016624.py:45: RuntimeWarning: divide by zero encountered in scalar divide\n",
      "  roi_dd_ratio = total_roi / abs(max_drawdown)\n"
     ]
    },
    {
     "name": "stdout",
     "output_type": "stream",
     "text": [
      "n 3, rsi 21, threshold 75, ema 5\n"
     ]
    },
    {
     "name": "stderr",
     "output_type": "stream",
     "text": [
      "/tmp/ipykernel_2712/873016624.py:45: RuntimeWarning: divide by zero encountered in scalar divide\n",
      "  roi_dd_ratio = total_roi / abs(max_drawdown)\n",
      "/tmp/ipykernel_2712/873016624.py:70: RuntimeWarning: divide by zero encountered in scalar divide\n",
      "  overall_roi_dd_ratio = overall_total_roi / abs(overall_max_drawdown)\n"
     ]
    },
    {
     "name": "stdout",
     "output_type": "stream",
     "text": [
      "        Total ROI Total Trades Win Rate Avg Profit% per Trade Avg Loss% per Trade Max Drawdown ROI/DD Ratio                         Variation\n",
      "2018       0.4436            1 100.0000                0.4436                 NaN       0.0000          inf  n 3, rsi 21, threshold 75, ema 5\n",
      "2019       0.0000            0      NaN                   NaN                 NaN          NaN          NaN  n 3, rsi 21, threshold 75, ema 5\n",
      "2020       0.0000            0      NaN                   NaN                 NaN          NaN          NaN  n 3, rsi 21, threshold 75, ema 5\n",
      "2021       0.0000            0      NaN                   NaN                 NaN          NaN          NaN  n 3, rsi 21, threshold 75, ema 5\n",
      "2022       0.0000            0      NaN                   NaN                 NaN          NaN          NaN  n 3, rsi 21, threshold 75, ema 5\n",
      "2023       0.0000            0      NaN                   NaN                 NaN          NaN          NaN  n 3, rsi 21, threshold 75, ema 5\n",
      "2024       0.0000            0      NaN                   NaN                 NaN          NaN          NaN  n 3, rsi 21, threshold 75, ema 5\n",
      "Overall    0.4436            1 100.0000                0.4436                 NaN       0.0000          inf  n 3, rsi 21, threshold 75, ema 5\n",
      "n 3, rsi 21, threshold 75, ema 10\n"
     ]
    },
    {
     "name": "stderr",
     "output_type": "stream",
     "text": [
      "/tmp/ipykernel_2712/873016624.py:45: RuntimeWarning: divide by zero encountered in scalar divide\n",
      "  roi_dd_ratio = total_roi / abs(max_drawdown)\n",
      "/tmp/ipykernel_2712/873016624.py:70: RuntimeWarning: divide by zero encountered in scalar divide\n",
      "  overall_roi_dd_ratio = overall_total_roi / abs(overall_max_drawdown)\n"
     ]
    },
    {
     "name": "stdout",
     "output_type": "stream",
     "text": [
      "        Total ROI Total Trades Win Rate Avg Profit% per Trade Avg Loss% per Trade Max Drawdown ROI/DD Ratio                          Variation\n",
      "2018       0.4436            1 100.0000                0.4436                 NaN       0.0000          inf  n 3, rsi 21, threshold 75, ema 10\n",
      "2019       0.0000            0      NaN                   NaN                 NaN          NaN          NaN  n 3, rsi 21, threshold 75, ema 10\n",
      "2020       0.0000            0      NaN                   NaN                 NaN          NaN          NaN  n 3, rsi 21, threshold 75, ema 10\n",
      "2021       0.0000            0      NaN                   NaN                 NaN          NaN          NaN  n 3, rsi 21, threshold 75, ema 10\n",
      "2022       0.0000            0      NaN                   NaN                 NaN          NaN          NaN  n 3, rsi 21, threshold 75, ema 10\n",
      "2023       0.0000            0      NaN                   NaN                 NaN          NaN          NaN  n 3, rsi 21, threshold 75, ema 10\n",
      "2024       0.0000            0      NaN                   NaN                 NaN          NaN          NaN  n 3, rsi 21, threshold 75, ema 10\n",
      "Overall    0.4436            1 100.0000                0.4436                 NaN       0.0000          inf  n 3, rsi 21, threshold 75, ema 10\n",
      "n 3, rsi 21, threshold 75, ema 15\n"
     ]
    },
    {
     "name": "stderr",
     "output_type": "stream",
     "text": [
      "/tmp/ipykernel_2712/873016624.py:45: RuntimeWarning: divide by zero encountered in scalar divide\n",
      "  roi_dd_ratio = total_roi / abs(max_drawdown)\n",
      "/tmp/ipykernel_2712/873016624.py:70: RuntimeWarning: divide by zero encountered in scalar divide\n",
      "  overall_roi_dd_ratio = overall_total_roi / abs(overall_max_drawdown)\n"
     ]
    },
    {
     "name": "stdout",
     "output_type": "stream",
     "text": [
      "n 3, rsi 21, threshold 75, ema 20\n"
     ]
    },
    {
     "name": "stderr",
     "output_type": "stream",
     "text": [
      "/tmp/ipykernel_2712/873016624.py:45: RuntimeWarning: divide by zero encountered in scalar divide\n",
      "  roi_dd_ratio = total_roi / abs(max_drawdown)\n",
      "/tmp/ipykernel_2712/873016624.py:70: RuntimeWarning: divide by zero encountered in scalar divide\n",
      "  overall_roi_dd_ratio = overall_total_roi / abs(overall_max_drawdown)\n"
     ]
    },
    {
     "name": "stdout",
     "output_type": "stream",
     "text": [
      "n 3, rsi 21, threshold 75, ema 25\n"
     ]
    },
    {
     "name": "stderr",
     "output_type": "stream",
     "text": [
      "/tmp/ipykernel_2712/873016624.py:45: RuntimeWarning: divide by zero encountered in scalar divide\n",
      "  roi_dd_ratio = total_roi / abs(max_drawdown)\n",
      "/tmp/ipykernel_2712/873016624.py:70: RuntimeWarning: divide by zero encountered in scalar divide\n",
      "  overall_roi_dd_ratio = overall_total_roi / abs(overall_max_drawdown)\n"
     ]
    },
    {
     "name": "stdout",
     "output_type": "stream",
     "text": [
      "n 3, rsi 21, threshold 75, ema 30\n"
     ]
    },
    {
     "name": "stderr",
     "output_type": "stream",
     "text": [
      "/tmp/ipykernel_2712/873016624.py:45: RuntimeWarning: divide by zero encountered in scalar divide\n",
      "  roi_dd_ratio = total_roi / abs(max_drawdown)\n",
      "/tmp/ipykernel_2712/873016624.py:70: RuntimeWarning: divide by zero encountered in scalar divide\n",
      "  overall_roi_dd_ratio = overall_total_roi / abs(overall_max_drawdown)\n"
     ]
    },
    {
     "name": "stdout",
     "output_type": "stream",
     "text": [
      "n 3, rsi 21, threshold 75, ema 35\n"
     ]
    },
    {
     "name": "stderr",
     "output_type": "stream",
     "text": [
      "/tmp/ipykernel_2712/873016624.py:45: RuntimeWarning: divide by zero encountered in scalar divide\n",
      "  roi_dd_ratio = total_roi / abs(max_drawdown)\n",
      "/tmp/ipykernel_2712/873016624.py:70: RuntimeWarning: divide by zero encountered in scalar divide\n",
      "  overall_roi_dd_ratio = overall_total_roi / abs(overall_max_drawdown)\n"
     ]
    },
    {
     "name": "stdout",
     "output_type": "stream",
     "text": [
      "n 3, rsi 21, threshold 80, ema 5\n",
      "n 3, rsi 21, threshold 80, ema 10\n",
      "n 3, rsi 21, threshold 80, ema 15\n",
      "n 3, rsi 21, threshold 80, ema 20\n",
      "n 3, rsi 21, threshold 80, ema 25\n",
      "n 3, rsi 21, threshold 80, ema 30\n",
      "n 3, rsi 21, threshold 80, ema 35\n",
      "n 3, rsi 6, threshold 30, ema 5\n",
      "n 3, rsi 6, threshold 30, ema 10\n",
      "n 3, rsi 6, threshold 30, ema 15\n",
      "n 3, rsi 6, threshold 30, ema 20\n",
      "n 3, rsi 6, threshold 30, ema 25\n",
      "n 3, rsi 6, threshold 30, ema 30\n",
      "n 3, rsi 6, threshold 30, ema 35\n",
      "n 3, rsi 6, threshold 35, ema 5\n",
      "n 3, rsi 6, threshold 35, ema 10\n",
      "n 3, rsi 6, threshold 35, ema 15\n",
      "n 3, rsi 6, threshold 35, ema 20\n",
      "n 3, rsi 6, threshold 35, ema 25\n",
      "n 3, rsi 6, threshold 35, ema 30\n",
      "n 3, rsi 6, threshold 35, ema 35\n",
      "n 3, rsi 6, threshold 40, ema 5\n",
      "n 3, rsi 6, threshold 40, ema 10\n",
      "n 3, rsi 6, threshold 40, ema 15\n",
      "n 3, rsi 6, threshold 40, ema 20\n",
      "n 3, rsi 6, threshold 40, ema 25\n",
      "n 3, rsi 6, threshold 40, ema 30\n",
      "n 3, rsi 6, threshold 40, ema 35\n",
      "n 3, rsi 6, threshold 45, ema 5\n",
      "n 3, rsi 6, threshold 45, ema 10\n",
      "n 3, rsi 6, threshold 45, ema 15\n",
      "n 3, rsi 6, threshold 45, ema 20\n",
      "n 3, rsi 6, threshold 45, ema 25\n",
      "n 3, rsi 6, threshold 45, ema 30\n",
      "n 3, rsi 6, threshold 45, ema 35\n",
      "n 3, rsi 6, threshold 50, ema 5\n",
      "n 3, rsi 6, threshold 50, ema 10\n",
      "n 3, rsi 6, threshold 50, ema 15\n",
      "n 3, rsi 6, threshold 50, ema 20\n",
      "n 3, rsi 6, threshold 50, ema 25\n",
      "n 3, rsi 6, threshold 50, ema 30\n",
      "n 3, rsi 6, threshold 50, ema 35\n",
      "n 3, rsi 6, threshold 55, ema 5\n",
      "n 3, rsi 6, threshold 55, ema 10\n",
      "n 3, rsi 6, threshold 55, ema 15\n",
      "n 3, rsi 6, threshold 55, ema 20\n",
      "n 3, rsi 6, threshold 55, ema 25\n",
      "n 3, rsi 6, threshold 55, ema 30\n",
      "n 3, rsi 6, threshold 55, ema 35\n",
      "n 3, rsi 6, threshold 60, ema 5\n",
      "n 3, rsi 6, threshold 60, ema 10\n",
      "n 3, rsi 6, threshold 60, ema 15\n",
      "n 3, rsi 6, threshold 60, ema 20\n",
      "n 3, rsi 6, threshold 60, ema 25\n",
      "n 3, rsi 6, threshold 60, ema 30\n",
      "n 3, rsi 6, threshold 60, ema 35\n",
      "n 3, rsi 6, threshold 65, ema 5\n"
     ]
    },
    {
     "name": "stderr",
     "output_type": "stream",
     "text": [
      "/tmp/ipykernel_2712/873016624.py:45: RuntimeWarning: divide by zero encountered in scalar divide\n",
      "  roi_dd_ratio = total_roi / abs(max_drawdown)\n"
     ]
    },
    {
     "name": "stdout",
     "output_type": "stream",
     "text": [
      "n 3, rsi 6, threshold 65, ema 10\n"
     ]
    },
    {
     "name": "stderr",
     "output_type": "stream",
     "text": [
      "/tmp/ipykernel_2712/873016624.py:45: RuntimeWarning: divide by zero encountered in scalar divide\n",
      "  roi_dd_ratio = total_roi / abs(max_drawdown)\n"
     ]
    },
    {
     "name": "stdout",
     "output_type": "stream",
     "text": [
      "n 3, rsi 6, threshold 65, ema 15\n"
     ]
    },
    {
     "name": "stderr",
     "output_type": "stream",
     "text": [
      "/tmp/ipykernel_2712/873016624.py:45: RuntimeWarning: divide by zero encountered in scalar divide\n",
      "  roi_dd_ratio = total_roi / abs(max_drawdown)\n"
     ]
    },
    {
     "name": "stdout",
     "output_type": "stream",
     "text": [
      "n 3, rsi 6, threshold 65, ema 20\n"
     ]
    },
    {
     "name": "stderr",
     "output_type": "stream",
     "text": [
      "/tmp/ipykernel_2712/873016624.py:45: RuntimeWarning: divide by zero encountered in scalar divide\n",
      "  roi_dd_ratio = total_roi / abs(max_drawdown)\n"
     ]
    },
    {
     "name": "stdout",
     "output_type": "stream",
     "text": [
      "n 3, rsi 6, threshold 65, ema 25\n"
     ]
    },
    {
     "name": "stderr",
     "output_type": "stream",
     "text": [
      "/tmp/ipykernel_2712/873016624.py:45: RuntimeWarning: divide by zero encountered in scalar divide\n",
      "  roi_dd_ratio = total_roi / abs(max_drawdown)\n"
     ]
    },
    {
     "name": "stdout",
     "output_type": "stream",
     "text": [
      "n 3, rsi 6, threshold 65, ema 30\n"
     ]
    },
    {
     "name": "stderr",
     "output_type": "stream",
     "text": [
      "/tmp/ipykernel_2712/873016624.py:45: RuntimeWarning: divide by zero encountered in scalar divide\n",
      "  roi_dd_ratio = total_roi / abs(max_drawdown)\n"
     ]
    },
    {
     "name": "stdout",
     "output_type": "stream",
     "text": [
      "n 3, rsi 6, threshold 65, ema 35\n"
     ]
    },
    {
     "name": "stderr",
     "output_type": "stream",
     "text": [
      "/tmp/ipykernel_2712/873016624.py:45: RuntimeWarning: divide by zero encountered in scalar divide\n",
      "  roi_dd_ratio = total_roi / abs(max_drawdown)\n"
     ]
    },
    {
     "name": "stdout",
     "output_type": "stream",
     "text": [
      "n 3, rsi 6, threshold 70, ema 5\n"
     ]
    },
    {
     "name": "stderr",
     "output_type": "stream",
     "text": [
      "/tmp/ipykernel_2712/873016624.py:45: RuntimeWarning: divide by zero encountered in scalar divide\n",
      "  roi_dd_ratio = total_roi / abs(max_drawdown)\n"
     ]
    },
    {
     "name": "stdout",
     "output_type": "stream",
     "text": [
      "n 3, rsi 6, threshold 70, ema 10\n"
     ]
    },
    {
     "name": "stderr",
     "output_type": "stream",
     "text": [
      "/tmp/ipykernel_2712/873016624.py:45: RuntimeWarning: divide by zero encountered in scalar divide\n",
      "  roi_dd_ratio = total_roi / abs(max_drawdown)\n"
     ]
    },
    {
     "name": "stdout",
     "output_type": "stream",
     "text": [
      "n 3, rsi 6, threshold 70, ema 15\n"
     ]
    },
    {
     "name": "stderr",
     "output_type": "stream",
     "text": [
      "/tmp/ipykernel_2712/873016624.py:45: RuntimeWarning: divide by zero encountered in scalar divide\n",
      "  roi_dd_ratio = total_roi / abs(max_drawdown)\n"
     ]
    },
    {
     "name": "stdout",
     "output_type": "stream",
     "text": [
      "n 3, rsi 6, threshold 70, ema 20\n"
     ]
    },
    {
     "name": "stderr",
     "output_type": "stream",
     "text": [
      "/tmp/ipykernel_2712/873016624.py:45: RuntimeWarning: divide by zero encountered in scalar divide\n",
      "  roi_dd_ratio = total_roi / abs(max_drawdown)\n"
     ]
    },
    {
     "name": "stdout",
     "output_type": "stream",
     "text": [
      "n 3, rsi 6, threshold 70, ema 25\n"
     ]
    },
    {
     "name": "stderr",
     "output_type": "stream",
     "text": [
      "/tmp/ipykernel_2712/873016624.py:45: RuntimeWarning: divide by zero encountered in scalar divide\n",
      "  roi_dd_ratio = total_roi / abs(max_drawdown)\n"
     ]
    },
    {
     "name": "stdout",
     "output_type": "stream",
     "text": [
      "n 3, rsi 6, threshold 70, ema 30\n"
     ]
    },
    {
     "name": "stderr",
     "output_type": "stream",
     "text": [
      "/tmp/ipykernel_2712/873016624.py:45: RuntimeWarning: divide by zero encountered in scalar divide\n",
      "  roi_dd_ratio = total_roi / abs(max_drawdown)\n"
     ]
    },
    {
     "name": "stdout",
     "output_type": "stream",
     "text": [
      "n 3, rsi 6, threshold 70, ema 35\n"
     ]
    },
    {
     "name": "stderr",
     "output_type": "stream",
     "text": [
      "/tmp/ipykernel_2712/873016624.py:45: RuntimeWarning: divide by zero encountered in scalar divide\n",
      "  roi_dd_ratio = total_roi / abs(max_drawdown)\n"
     ]
    },
    {
     "name": "stdout",
     "output_type": "stream",
     "text": [
      "n 3, rsi 6, threshold 75, ema 5\n"
     ]
    },
    {
     "name": "stderr",
     "output_type": "stream",
     "text": [
      "/tmp/ipykernel_2712/873016624.py:45: RuntimeWarning: divide by zero encountered in scalar divide\n",
      "  roi_dd_ratio = total_roi / abs(max_drawdown)\n"
     ]
    },
    {
     "name": "stdout",
     "output_type": "stream",
     "text": [
      "        Total ROI Total Trades Win Rate Avg Profit% per Trade Avg Loss% per Trade Max Drawdown ROI/DD Ratio                        Variation\n",
      "2018       0.4436            1 100.0000                0.4436                 NaN       0.0000          inf  n 3, rsi 6, threshold 75, ema 5\n",
      "2019       0.0000            0      NaN                   NaN                 NaN          NaN          NaN  n 3, rsi 6, threshold 75, ema 5\n",
      "2020       0.0000            0      NaN                   NaN                 NaN          NaN          NaN  n 3, rsi 6, threshold 75, ema 5\n",
      "2021       0.0000            0      NaN                   NaN                 NaN          NaN          NaN  n 3, rsi 6, threshold 75, ema 5\n",
      "2022       6.3437            1 100.0000                6.3437                 NaN       0.0000          inf  n 3, rsi 6, threshold 75, ema 5\n",
      "2023       0.0000            0      NaN                   NaN                 NaN          NaN          NaN  n 3, rsi 6, threshold 75, ema 5\n",
      "2024      -0.4016            1   0.0000                   NaN             -0.4016       0.0000         -inf  n 3, rsi 6, threshold 75, ema 5\n",
      "Overall    6.3857            3  66.6667                3.3937             -0.4016      -0.4016      15.8993  n 3, rsi 6, threshold 75, ema 5\n",
      "n 3, rsi 6, threshold 75, ema 10\n"
     ]
    },
    {
     "name": "stderr",
     "output_type": "stream",
     "text": [
      "/tmp/ipykernel_2712/873016624.py:45: RuntimeWarning: divide by zero encountered in scalar divide\n",
      "  roi_dd_ratio = total_roi / abs(max_drawdown)\n"
     ]
    },
    {
     "name": "stdout",
     "output_type": "stream",
     "text": [
      "        Total ROI Total Trades Win Rate Avg Profit% per Trade Avg Loss% per Trade Max Drawdown ROI/DD Ratio                         Variation\n",
      "2018       0.4436            1 100.0000                0.4436                 NaN       0.0000          inf  n 3, rsi 6, threshold 75, ema 10\n",
      "2019       0.0000            0      NaN                   NaN                 NaN          NaN          NaN  n 3, rsi 6, threshold 75, ema 10\n",
      "2020       0.0000            0      NaN                   NaN                 NaN          NaN          NaN  n 3, rsi 6, threshold 75, ema 10\n",
      "2021       0.0000            0      NaN                   NaN                 NaN          NaN          NaN  n 3, rsi 6, threshold 75, ema 10\n",
      "2022       6.3437            1 100.0000                6.3437                 NaN       0.0000          inf  n 3, rsi 6, threshold 75, ema 10\n",
      "2023       0.0000            0      NaN                   NaN                 NaN          NaN          NaN  n 3, rsi 6, threshold 75, ema 10\n",
      "2024      -0.4016            1   0.0000                   NaN             -0.4016       0.0000         -inf  n 3, rsi 6, threshold 75, ema 10\n",
      "Overall    6.3857            3  66.6667                3.3937             -0.4016      -0.4016      15.8993  n 3, rsi 6, threshold 75, ema 10\n",
      "n 3, rsi 6, threshold 75, ema 15\n"
     ]
    },
    {
     "name": "stderr",
     "output_type": "stream",
     "text": [
      "/tmp/ipykernel_2712/873016624.py:45: RuntimeWarning: divide by zero encountered in scalar divide\n",
      "  roi_dd_ratio = total_roi / abs(max_drawdown)\n"
     ]
    },
    {
     "name": "stdout",
     "output_type": "stream",
     "text": [
      "n 3, rsi 6, threshold 75, ema 20\n"
     ]
    },
    {
     "name": "stderr",
     "output_type": "stream",
     "text": [
      "/tmp/ipykernel_2712/873016624.py:45: RuntimeWarning: divide by zero encountered in scalar divide\n",
      "  roi_dd_ratio = total_roi / abs(max_drawdown)\n"
     ]
    },
    {
     "name": "stdout",
     "output_type": "stream",
     "text": [
      "n 3, rsi 6, threshold 75, ema 25\n"
     ]
    },
    {
     "name": "stderr",
     "output_type": "stream",
     "text": [
      "/tmp/ipykernel_2712/873016624.py:45: RuntimeWarning: divide by zero encountered in scalar divide\n",
      "  roi_dd_ratio = total_roi / abs(max_drawdown)\n"
     ]
    },
    {
     "name": "stdout",
     "output_type": "stream",
     "text": [
      "n 3, rsi 6, threshold 75, ema 30\n"
     ]
    },
    {
     "name": "stderr",
     "output_type": "stream",
     "text": [
      "/tmp/ipykernel_2712/873016624.py:45: RuntimeWarning: divide by zero encountered in scalar divide\n",
      "  roi_dd_ratio = total_roi / abs(max_drawdown)\n"
     ]
    },
    {
     "name": "stdout",
     "output_type": "stream",
     "text": [
      "n 3, rsi 6, threshold 75, ema 35\n"
     ]
    },
    {
     "name": "stderr",
     "output_type": "stream",
     "text": [
      "/tmp/ipykernel_2712/873016624.py:45: RuntimeWarning: divide by zero encountered in scalar divide\n",
      "  roi_dd_ratio = total_roi / abs(max_drawdown)\n"
     ]
    },
    {
     "name": "stdout",
     "output_type": "stream",
     "text": [
      "n 3, rsi 6, threshold 80, ema 5\n",
      "n 3, rsi 6, threshold 80, ema 10\n",
      "n 3, rsi 6, threshold 80, ema 15\n",
      "n 3, rsi 6, threshold 80, ema 20\n",
      "n 3, rsi 6, threshold 80, ema 25\n",
      "n 3, rsi 6, threshold 80, ema 30\n",
      "n 3, rsi 6, threshold 80, ema 35\n",
      "n 3, rsi 12, threshold 30, ema 5\n",
      "n 3, rsi 12, threshold 30, ema 10\n",
      "n 3, rsi 12, threshold 30, ema 15\n",
      "n 3, rsi 12, threshold 30, ema 20\n",
      "n 3, rsi 12, threshold 30, ema 25\n",
      "n 3, rsi 12, threshold 30, ema 30\n",
      "n 3, rsi 12, threshold 30, ema 35\n",
      "n 3, rsi 12, threshold 35, ema 5\n",
      "n 3, rsi 12, threshold 35, ema 10\n",
      "n 3, rsi 12, threshold 35, ema 15\n",
      "n 3, rsi 12, threshold 35, ema 20\n",
      "n 3, rsi 12, threshold 35, ema 25\n",
      "n 3, rsi 12, threshold 35, ema 30\n",
      "n 3, rsi 12, threshold 35, ema 35\n",
      "n 3, rsi 12, threshold 40, ema 5\n",
      "n 3, rsi 12, threshold 40, ema 10\n",
      "n 3, rsi 12, threshold 40, ema 15\n",
      "n 3, rsi 12, threshold 40, ema 20\n",
      "n 3, rsi 12, threshold 40, ema 25\n",
      "n 3, rsi 12, threshold 40, ema 30\n",
      "n 3, rsi 12, threshold 40, ema 35\n",
      "n 3, rsi 12, threshold 45, ema 5\n",
      "n 3, rsi 12, threshold 45, ema 10\n",
      "n 3, rsi 12, threshold 45, ema 15\n",
      "n 3, rsi 12, threshold 45, ema 20\n",
      "n 3, rsi 12, threshold 45, ema 25\n",
      "n 3, rsi 12, threshold 45, ema 30\n",
      "n 3, rsi 12, threshold 45, ema 35\n",
      "n 3, rsi 12, threshold 50, ema 5\n",
      "n 3, rsi 12, threshold 50, ema 10\n",
      "n 3, rsi 12, threshold 50, ema 15\n",
      "n 3, rsi 12, threshold 50, ema 20\n",
      "n 3, rsi 12, threshold 50, ema 25\n",
      "n 3, rsi 12, threshold 50, ema 30\n",
      "n 3, rsi 12, threshold 50, ema 35\n",
      "n 3, rsi 12, threshold 55, ema 5\n",
      "n 3, rsi 12, threshold 55, ema 10\n",
      "n 3, rsi 12, threshold 55, ema 15\n",
      "n 3, rsi 12, threshold 55, ema 20\n",
      "n 3, rsi 12, threshold 55, ema 25\n",
      "n 3, rsi 12, threshold 55, ema 30\n",
      "n 3, rsi 12, threshold 55, ema 35\n",
      "n 3, rsi 12, threshold 60, ema 5\n",
      "n 3, rsi 12, threshold 60, ema 10\n",
      "n 3, rsi 12, threshold 60, ema 15\n",
      "n 3, rsi 12, threshold 60, ema 20\n",
      "n 3, rsi 12, threshold 60, ema 25\n",
      "n 3, rsi 12, threshold 60, ema 30\n",
      "n 3, rsi 12, threshold 60, ema 35\n",
      "n 3, rsi 12, threshold 65, ema 5\n",
      "n 3, rsi 12, threshold 65, ema 10\n",
      "n 3, rsi 12, threshold 65, ema 15\n",
      "n 3, rsi 12, threshold 65, ema 20\n",
      "n 3, rsi 12, threshold 65, ema 25\n",
      "n 3, rsi 12, threshold 65, ema 30\n",
      "n 3, rsi 12, threshold 65, ema 35\n",
      "n 3, rsi 12, threshold 70, ema 5\n"
     ]
    },
    {
     "name": "stderr",
     "output_type": "stream",
     "text": [
      "/tmp/ipykernel_2712/873016624.py:45: RuntimeWarning: divide by zero encountered in scalar divide\n",
      "  roi_dd_ratio = total_roi / abs(max_drawdown)\n"
     ]
    },
    {
     "name": "stdout",
     "output_type": "stream",
     "text": [
      "n 3, rsi 12, threshold 70, ema 10\n"
     ]
    },
    {
     "name": "stderr",
     "output_type": "stream",
     "text": [
      "/tmp/ipykernel_2712/873016624.py:45: RuntimeWarning: divide by zero encountered in scalar divide\n",
      "  roi_dd_ratio = total_roi / abs(max_drawdown)\n"
     ]
    },
    {
     "name": "stdout",
     "output_type": "stream",
     "text": [
      "n 3, rsi 12, threshold 70, ema 15\n"
     ]
    },
    {
     "name": "stderr",
     "output_type": "stream",
     "text": [
      "/tmp/ipykernel_2712/873016624.py:45: RuntimeWarning: divide by zero encountered in scalar divide\n",
      "  roi_dd_ratio = total_roi / abs(max_drawdown)\n"
     ]
    },
    {
     "name": "stdout",
     "output_type": "stream",
     "text": [
      "n 3, rsi 12, threshold 70, ema 20\n"
     ]
    },
    {
     "name": "stderr",
     "output_type": "stream",
     "text": [
      "/tmp/ipykernel_2712/873016624.py:45: RuntimeWarning: divide by zero encountered in scalar divide\n",
      "  roi_dd_ratio = total_roi / abs(max_drawdown)\n"
     ]
    },
    {
     "name": "stdout",
     "output_type": "stream",
     "text": [
      "n 3, rsi 12, threshold 70, ema 25\n"
     ]
    },
    {
     "name": "stderr",
     "output_type": "stream",
     "text": [
      "/tmp/ipykernel_2712/873016624.py:45: RuntimeWarning: divide by zero encountered in scalar divide\n",
      "  roi_dd_ratio = total_roi / abs(max_drawdown)\n"
     ]
    },
    {
     "name": "stdout",
     "output_type": "stream",
     "text": [
      "n 3, rsi 12, threshold 70, ema 30\n"
     ]
    },
    {
     "name": "stderr",
     "output_type": "stream",
     "text": [
      "/tmp/ipykernel_2712/873016624.py:45: RuntimeWarning: divide by zero encountered in scalar divide\n",
      "  roi_dd_ratio = total_roi / abs(max_drawdown)\n"
     ]
    },
    {
     "name": "stdout",
     "output_type": "stream",
     "text": [
      "n 3, rsi 12, threshold 70, ema 35\n"
     ]
    },
    {
     "name": "stderr",
     "output_type": "stream",
     "text": [
      "/tmp/ipykernel_2712/873016624.py:45: RuntimeWarning: divide by zero encountered in scalar divide\n",
      "  roi_dd_ratio = total_roi / abs(max_drawdown)\n"
     ]
    },
    {
     "name": "stdout",
     "output_type": "stream",
     "text": [
      "n 3, rsi 12, threshold 75, ema 5\n"
     ]
    },
    {
     "name": "stderr",
     "output_type": "stream",
     "text": [
      "/tmp/ipykernel_2712/873016624.py:45: RuntimeWarning: divide by zero encountered in scalar divide\n",
      "  roi_dd_ratio = total_roi / abs(max_drawdown)\n"
     ]
    },
    {
     "name": "stdout",
     "output_type": "stream",
     "text": [
      "        Total ROI Total Trades Win Rate Avg Profit% per Trade Avg Loss% per Trade Max Drawdown ROI/DD Ratio                         Variation\n",
      "2018       2.6945            2 100.0000                1.3473                 NaN       0.0000          inf  n 3, rsi 12, threshold 75, ema 5\n",
      "2019       0.0000            0      NaN                   NaN                 NaN          NaN          NaN  n 3, rsi 12, threshold 75, ema 5\n",
      "2020       0.0000            0      NaN                   NaN                 NaN          NaN          NaN  n 3, rsi 12, threshold 75, ema 5\n",
      "2021       0.0000            0      NaN                   NaN                 NaN          NaN          NaN  n 3, rsi 12, threshold 75, ema 5\n",
      "2022       6.3437            1 100.0000                6.3437                 NaN       0.0000          inf  n 3, rsi 12, threshold 75, ema 5\n",
      "2023       0.0000            0      NaN                   NaN                 NaN          NaN          NaN  n 3, rsi 12, threshold 75, ema 5\n",
      "2024      -0.4016            1   0.0000                   NaN             -0.4016       0.0000         -inf  n 3, rsi 12, threshold 75, ema 5\n",
      "Overall    8.6366            4  75.0000                3.0127             -0.4016      -0.4016      21.5037  n 3, rsi 12, threshold 75, ema 5\n",
      "n 3, rsi 12, threshold 75, ema 10\n"
     ]
    },
    {
     "name": "stderr",
     "output_type": "stream",
     "text": [
      "/tmp/ipykernel_2712/873016624.py:45: RuntimeWarning: divide by zero encountered in scalar divide\n",
      "  roi_dd_ratio = total_roi / abs(max_drawdown)\n"
     ]
    },
    {
     "name": "stdout",
     "output_type": "stream",
     "text": [
      "        Total ROI Total Trades Win Rate Avg Profit% per Trade Avg Loss% per Trade Max Drawdown ROI/DD Ratio                          Variation\n",
      "2018       2.6945            2 100.0000                1.3473                 NaN       0.0000          inf  n 3, rsi 12, threshold 75, ema 10\n",
      "2019       0.0000            0      NaN                   NaN                 NaN          NaN          NaN  n 3, rsi 12, threshold 75, ema 10\n",
      "2020       0.0000            0      NaN                   NaN                 NaN          NaN          NaN  n 3, rsi 12, threshold 75, ema 10\n",
      "2021       0.0000            0      NaN                   NaN                 NaN          NaN          NaN  n 3, rsi 12, threshold 75, ema 10\n",
      "2022       6.3437            1 100.0000                6.3437                 NaN       0.0000          inf  n 3, rsi 12, threshold 75, ema 10\n",
      "2023       0.0000            0      NaN                   NaN                 NaN          NaN          NaN  n 3, rsi 12, threshold 75, ema 10\n",
      "2024      -0.4016            1   0.0000                   NaN             -0.4016       0.0000         -inf  n 3, rsi 12, threshold 75, ema 10\n",
      "Overall    8.6366            4  75.0000                3.0127             -0.4016      -0.4016      21.5037  n 3, rsi 12, threshold 75, ema 10\n",
      "n 3, rsi 12, threshold 75, ema 15\n"
     ]
    },
    {
     "name": "stderr",
     "output_type": "stream",
     "text": [
      "/tmp/ipykernel_2712/873016624.py:45: RuntimeWarning: divide by zero encountered in scalar divide\n",
      "  roi_dd_ratio = total_roi / abs(max_drawdown)\n"
     ]
    },
    {
     "name": "stdout",
     "output_type": "stream",
     "text": [
      "        Total ROI Total Trades Win Rate Avg Profit% per Trade Avg Loss% per Trade Max Drawdown ROI/DD Ratio                          Variation\n",
      "2018      -1.6625            2  50.0000                2.2509             -3.9134       0.0000         -inf  n 3, rsi 12, threshold 75, ema 15\n",
      "2019       0.0000            0      NaN                   NaN                 NaN          NaN          NaN  n 3, rsi 12, threshold 75, ema 15\n",
      "2020       0.0000            0      NaN                   NaN                 NaN          NaN          NaN  n 3, rsi 12, threshold 75, ema 15\n",
      "2021       0.0000            0      NaN                   NaN                 NaN          NaN          NaN  n 3, rsi 12, threshold 75, ema 15\n",
      "2022       7.0834            1 100.0000                7.0834                 NaN       0.0000          inf  n 3, rsi 12, threshold 75, ema 15\n",
      "2023       0.0000            0      NaN                   NaN                 NaN          NaN          NaN  n 3, rsi 12, threshold 75, ema 15\n",
      "2024      -0.4016            1   0.0000                   NaN             -0.4016       0.0000         -inf  n 3, rsi 12, threshold 75, ema 15\n",
      "Overall    5.0193            4  50.0000                4.6671             -2.1575      -0.4016      12.4971  n 3, rsi 12, threshold 75, ema 15\n",
      "n 3, rsi 12, threshold 75, ema 20\n"
     ]
    },
    {
     "name": "stderr",
     "output_type": "stream",
     "text": [
      "/tmp/ipykernel_2712/873016624.py:45: RuntimeWarning: divide by zero encountered in scalar divide\n",
      "  roi_dd_ratio = total_roi / abs(max_drawdown)\n"
     ]
    },
    {
     "name": "stdout",
     "output_type": "stream",
     "text": [
      "n 3, rsi 12, threshold 75, ema 25\n"
     ]
    },
    {
     "name": "stderr",
     "output_type": "stream",
     "text": [
      "/tmp/ipykernel_2712/873016624.py:45: RuntimeWarning: divide by zero encountered in scalar divide\n",
      "  roi_dd_ratio = total_roi / abs(max_drawdown)\n"
     ]
    },
    {
     "name": "stdout",
     "output_type": "stream",
     "text": [
      "n 3, rsi 12, threshold 75, ema 30\n"
     ]
    },
    {
     "name": "stderr",
     "output_type": "stream",
     "text": [
      "/tmp/ipykernel_2712/873016624.py:45: RuntimeWarning: divide by zero encountered in scalar divide\n",
      "  roi_dd_ratio = total_roi / abs(max_drawdown)\n"
     ]
    },
    {
     "name": "stdout",
     "output_type": "stream",
     "text": [
      "n 3, rsi 12, threshold 75, ema 35\n"
     ]
    },
    {
     "name": "stderr",
     "output_type": "stream",
     "text": [
      "/tmp/ipykernel_2712/873016624.py:45: RuntimeWarning: divide by zero encountered in scalar divide\n",
      "  roi_dd_ratio = total_roi / abs(max_drawdown)\n"
     ]
    },
    {
     "name": "stdout",
     "output_type": "stream",
     "text": [
      "n 3, rsi 12, threshold 80, ema 5\n",
      "n 3, rsi 12, threshold 80, ema 10\n",
      "n 3, rsi 12, threshold 80, ema 15\n",
      "n 3, rsi 12, threshold 80, ema 20\n",
      "n 3, rsi 12, threshold 80, ema 25\n",
      "n 3, rsi 12, threshold 80, ema 30\n",
      "n 3, rsi 12, threshold 80, ema 35\n",
      "n 3, rsi 16, threshold 30, ema 5\n",
      "n 3, rsi 16, threshold 30, ema 10\n",
      "n 3, rsi 16, threshold 30, ema 15\n",
      "n 3, rsi 16, threshold 30, ema 20\n",
      "n 3, rsi 16, threshold 30, ema 25\n",
      "n 3, rsi 16, threshold 30, ema 30\n",
      "n 3, rsi 16, threshold 30, ema 35\n",
      "n 3, rsi 16, threshold 35, ema 5\n",
      "n 3, rsi 16, threshold 35, ema 10\n",
      "n 3, rsi 16, threshold 35, ema 15\n",
      "n 3, rsi 16, threshold 35, ema 20\n",
      "n 3, rsi 16, threshold 35, ema 25\n",
      "n 3, rsi 16, threshold 35, ema 30\n",
      "n 3, rsi 16, threshold 35, ema 35\n",
      "n 3, rsi 16, threshold 40, ema 5\n",
      "n 3, rsi 16, threshold 40, ema 10\n",
      "n 3, rsi 16, threshold 40, ema 15\n",
      "n 3, rsi 16, threshold 40, ema 20\n",
      "n 3, rsi 16, threshold 40, ema 25\n",
      "n 3, rsi 16, threshold 40, ema 30\n",
      "n 3, rsi 16, threshold 40, ema 35\n",
      "n 3, rsi 16, threshold 45, ema 5\n",
      "n 3, rsi 16, threshold 45, ema 10\n",
      "n 3, rsi 16, threshold 45, ema 15\n",
      "n 3, rsi 16, threshold 45, ema 20\n",
      "n 3, rsi 16, threshold 45, ema 25\n",
      "n 3, rsi 16, threshold 45, ema 30\n",
      "n 3, rsi 16, threshold 45, ema 35\n",
      "n 3, rsi 16, threshold 50, ema 5\n",
      "n 3, rsi 16, threshold 50, ema 10\n",
      "n 3, rsi 16, threshold 50, ema 15\n",
      "n 3, rsi 16, threshold 50, ema 20\n",
      "n 3, rsi 16, threshold 50, ema 25\n",
      "n 3, rsi 16, threshold 50, ema 30\n",
      "n 3, rsi 16, threshold 50, ema 35\n",
      "n 3, rsi 16, threshold 55, ema 5\n",
      "n 3, rsi 16, threshold 55, ema 10\n",
      "n 3, rsi 16, threshold 55, ema 15\n",
      "n 3, rsi 16, threshold 55, ema 20\n",
      "n 3, rsi 16, threshold 55, ema 25\n",
      "n 3, rsi 16, threshold 55, ema 30\n",
      "n 3, rsi 16, threshold 55, ema 35\n",
      "n 3, rsi 16, threshold 60, ema 5\n",
      "n 3, rsi 16, threshold 60, ema 10\n",
      "n 3, rsi 16, threshold 60, ema 15\n",
      "n 3, rsi 16, threshold 60, ema 20\n",
      "n 3, rsi 16, threshold 60, ema 25\n",
      "n 3, rsi 16, threshold 60, ema 30\n",
      "n 3, rsi 16, threshold 60, ema 35\n",
      "n 3, rsi 16, threshold 65, ema 5\n",
      "n 3, rsi 16, threshold 65, ema 10\n",
      "n 3, rsi 16, threshold 65, ema 15\n",
      "n 3, rsi 16, threshold 65, ema 20\n",
      "n 3, rsi 16, threshold 65, ema 25\n",
      "n 3, rsi 16, threshold 65, ema 30\n",
      "n 3, rsi 16, threshold 65, ema 35\n",
      "n 3, rsi 16, threshold 70, ema 5\n"
     ]
    },
    {
     "name": "stderr",
     "output_type": "stream",
     "text": [
      "/tmp/ipykernel_2712/873016624.py:45: RuntimeWarning: divide by zero encountered in scalar divide\n",
      "  roi_dd_ratio = total_roi / abs(max_drawdown)\n"
     ]
    },
    {
     "name": "stdout",
     "output_type": "stream",
     "text": [
      "n 3, rsi 16, threshold 70, ema 10\n"
     ]
    },
    {
     "name": "stderr",
     "output_type": "stream",
     "text": [
      "/tmp/ipykernel_2712/873016624.py:45: RuntimeWarning: divide by zero encountered in scalar divide\n",
      "  roi_dd_ratio = total_roi / abs(max_drawdown)\n"
     ]
    },
    {
     "name": "stdout",
     "output_type": "stream",
     "text": [
      "n 3, rsi 16, threshold 70, ema 15\n"
     ]
    },
    {
     "name": "stderr",
     "output_type": "stream",
     "text": [
      "/tmp/ipykernel_2712/873016624.py:45: RuntimeWarning: divide by zero encountered in scalar divide\n",
      "  roi_dd_ratio = total_roi / abs(max_drawdown)\n"
     ]
    },
    {
     "name": "stdout",
     "output_type": "stream",
     "text": [
      "n 3, rsi 16, threshold 70, ema 20\n"
     ]
    },
    {
     "name": "stderr",
     "output_type": "stream",
     "text": [
      "/tmp/ipykernel_2712/873016624.py:45: RuntimeWarning: divide by zero encountered in scalar divide\n",
      "  roi_dd_ratio = total_roi / abs(max_drawdown)\n"
     ]
    },
    {
     "name": "stdout",
     "output_type": "stream",
     "text": [
      "n 3, rsi 16, threshold 70, ema 25\n"
     ]
    },
    {
     "name": "stderr",
     "output_type": "stream",
     "text": [
      "/tmp/ipykernel_2712/873016624.py:45: RuntimeWarning: divide by zero encountered in scalar divide\n",
      "  roi_dd_ratio = total_roi / abs(max_drawdown)\n"
     ]
    },
    {
     "name": "stdout",
     "output_type": "stream",
     "text": [
      "n 3, rsi 16, threshold 70, ema 30\n"
     ]
    },
    {
     "name": "stderr",
     "output_type": "stream",
     "text": [
      "/tmp/ipykernel_2712/873016624.py:45: RuntimeWarning: divide by zero encountered in scalar divide\n",
      "  roi_dd_ratio = total_roi / abs(max_drawdown)\n"
     ]
    },
    {
     "name": "stdout",
     "output_type": "stream",
     "text": [
      "n 3, rsi 16, threshold 70, ema 35\n"
     ]
    },
    {
     "name": "stderr",
     "output_type": "stream",
     "text": [
      "/tmp/ipykernel_2712/873016624.py:45: RuntimeWarning: divide by zero encountered in scalar divide\n",
      "  roi_dd_ratio = total_roi / abs(max_drawdown)\n"
     ]
    },
    {
     "name": "stdout",
     "output_type": "stream",
     "text": [
      "n 3, rsi 16, threshold 75, ema 5\n"
     ]
    },
    {
     "name": "stderr",
     "output_type": "stream",
     "text": [
      "/tmp/ipykernel_2712/873016624.py:45: RuntimeWarning: divide by zero encountered in scalar divide\n",
      "  roi_dd_ratio = total_roi / abs(max_drawdown)\n",
      "/tmp/ipykernel_2712/873016624.py:70: RuntimeWarning: divide by zero encountered in scalar divide\n",
      "  overall_roi_dd_ratio = overall_total_roi / abs(overall_max_drawdown)\n"
     ]
    },
    {
     "name": "stdout",
     "output_type": "stream",
     "text": [
      "        Total ROI Total Trades Win Rate Avg Profit% per Trade Avg Loss% per Trade Max Drawdown ROI/DD Ratio                         Variation\n",
      "2018       2.6945            2 100.0000                1.3473                 NaN       0.0000          inf  n 3, rsi 16, threshold 75, ema 5\n",
      "2019       0.0000            0      NaN                   NaN                 NaN          NaN          NaN  n 3, rsi 16, threshold 75, ema 5\n",
      "2020       0.0000            0      NaN                   NaN                 NaN          NaN          NaN  n 3, rsi 16, threshold 75, ema 5\n",
      "2021       0.0000            0      NaN                   NaN                 NaN          NaN          NaN  n 3, rsi 16, threshold 75, ema 5\n",
      "2022       0.0000            0      NaN                   NaN                 NaN          NaN          NaN  n 3, rsi 16, threshold 75, ema 5\n",
      "2023       0.0000            0      NaN                   NaN                 NaN          NaN          NaN  n 3, rsi 16, threshold 75, ema 5\n",
      "2024       0.0000            0      NaN                   NaN                 NaN          NaN          NaN  n 3, rsi 16, threshold 75, ema 5\n",
      "Overall    2.6945            2 100.0000                1.3473                 NaN       0.0000          inf  n 3, rsi 16, threshold 75, ema 5\n",
      "n 3, rsi 16, threshold 75, ema 10\n"
     ]
    },
    {
     "name": "stderr",
     "output_type": "stream",
     "text": [
      "/tmp/ipykernel_2712/873016624.py:45: RuntimeWarning: divide by zero encountered in scalar divide\n",
      "  roi_dd_ratio = total_roi / abs(max_drawdown)\n",
      "/tmp/ipykernel_2712/873016624.py:70: RuntimeWarning: divide by zero encountered in scalar divide\n",
      "  overall_roi_dd_ratio = overall_total_roi / abs(overall_max_drawdown)\n"
     ]
    },
    {
     "name": "stdout",
     "output_type": "stream",
     "text": [
      "        Total ROI Total Trades Win Rate Avg Profit% per Trade Avg Loss% per Trade Max Drawdown ROI/DD Ratio                          Variation\n",
      "2018       2.6945            2 100.0000                1.3473                 NaN       0.0000          inf  n 3, rsi 16, threshold 75, ema 10\n",
      "2019       0.0000            0      NaN                   NaN                 NaN          NaN          NaN  n 3, rsi 16, threshold 75, ema 10\n",
      "2020       0.0000            0      NaN                   NaN                 NaN          NaN          NaN  n 3, rsi 16, threshold 75, ema 10\n",
      "2021       0.0000            0      NaN                   NaN                 NaN          NaN          NaN  n 3, rsi 16, threshold 75, ema 10\n",
      "2022       0.0000            0      NaN                   NaN                 NaN          NaN          NaN  n 3, rsi 16, threshold 75, ema 10\n",
      "2023       0.0000            0      NaN                   NaN                 NaN          NaN          NaN  n 3, rsi 16, threshold 75, ema 10\n",
      "2024       0.0000            0      NaN                   NaN                 NaN          NaN          NaN  n 3, rsi 16, threshold 75, ema 10\n",
      "Overall    2.6945            2 100.0000                1.3473                 NaN       0.0000          inf  n 3, rsi 16, threshold 75, ema 10\n",
      "n 3, rsi 16, threshold 75, ema 15\n"
     ]
    },
    {
     "name": "stderr",
     "output_type": "stream",
     "text": [
      "/tmp/ipykernel_2712/873016624.py:45: RuntimeWarning: divide by zero encountered in scalar divide\n",
      "  roi_dd_ratio = total_roi / abs(max_drawdown)\n",
      "/tmp/ipykernel_2712/873016624.py:70: RuntimeWarning: divide by zero encountered in scalar divide\n",
      "  overall_roi_dd_ratio = overall_total_roi / abs(overall_max_drawdown)\n"
     ]
    },
    {
     "name": "stdout",
     "output_type": "stream",
     "text": [
      "n 3, rsi 16, threshold 75, ema 20\n"
     ]
    },
    {
     "name": "stderr",
     "output_type": "stream",
     "text": [
      "/tmp/ipykernel_2712/873016624.py:45: RuntimeWarning: divide by zero encountered in scalar divide\n",
      "  roi_dd_ratio = total_roi / abs(max_drawdown)\n",
      "/tmp/ipykernel_2712/873016624.py:70: RuntimeWarning: divide by zero encountered in scalar divide\n",
      "  overall_roi_dd_ratio = overall_total_roi / abs(overall_max_drawdown)\n"
     ]
    },
    {
     "name": "stdout",
     "output_type": "stream",
     "text": [
      "n 3, rsi 16, threshold 75, ema 25\n"
     ]
    },
    {
     "name": "stderr",
     "output_type": "stream",
     "text": [
      "/tmp/ipykernel_2712/873016624.py:45: RuntimeWarning: divide by zero encountered in scalar divide\n",
      "  roi_dd_ratio = total_roi / abs(max_drawdown)\n",
      "/tmp/ipykernel_2712/873016624.py:70: RuntimeWarning: divide by zero encountered in scalar divide\n",
      "  overall_roi_dd_ratio = overall_total_roi / abs(overall_max_drawdown)\n"
     ]
    },
    {
     "name": "stdout",
     "output_type": "stream",
     "text": [
      "n 3, rsi 16, threshold 75, ema 30\n"
     ]
    },
    {
     "name": "stderr",
     "output_type": "stream",
     "text": [
      "/tmp/ipykernel_2712/873016624.py:45: RuntimeWarning: divide by zero encountered in scalar divide\n",
      "  roi_dd_ratio = total_roi / abs(max_drawdown)\n",
      "/tmp/ipykernel_2712/873016624.py:70: RuntimeWarning: divide by zero encountered in scalar divide\n",
      "  overall_roi_dd_ratio = overall_total_roi / abs(overall_max_drawdown)\n"
     ]
    },
    {
     "name": "stdout",
     "output_type": "stream",
     "text": [
      "n 3, rsi 16, threshold 75, ema 35\n"
     ]
    },
    {
     "name": "stderr",
     "output_type": "stream",
     "text": [
      "/tmp/ipykernel_2712/873016624.py:45: RuntimeWarning: divide by zero encountered in scalar divide\n",
      "  roi_dd_ratio = total_roi / abs(max_drawdown)\n",
      "/tmp/ipykernel_2712/873016624.py:70: RuntimeWarning: divide by zero encountered in scalar divide\n",
      "  overall_roi_dd_ratio = overall_total_roi / abs(overall_max_drawdown)\n"
     ]
    },
    {
     "name": "stdout",
     "output_type": "stream",
     "text": [
      "n 3, rsi 16, threshold 80, ema 5\n",
      "n 3, rsi 16, threshold 80, ema 10\n",
      "n 3, rsi 16, threshold 80, ema 15\n",
      "n 3, rsi 16, threshold 80, ema 20\n",
      "n 3, rsi 16, threshold 80, ema 25\n",
      "n 3, rsi 16, threshold 80, ema 30\n",
      "n 3, rsi 16, threshold 80, ema 35\n",
      "n 4, rsi 14, threshold 30, ema 5\n",
      "n 4, rsi 14, threshold 30, ema 10\n",
      "n 4, rsi 14, threshold 30, ema 15\n",
      "n 4, rsi 14, threshold 30, ema 20\n",
      "n 4, rsi 14, threshold 30, ema 25\n",
      "n 4, rsi 14, threshold 30, ema 30\n",
      "n 4, rsi 14, threshold 30, ema 35\n",
      "n 4, rsi 14, threshold 35, ema 5\n",
      "n 4, rsi 14, threshold 35, ema 10\n",
      "n 4, rsi 14, threshold 35, ema 15\n",
      "n 4, rsi 14, threshold 35, ema 20\n",
      "n 4, rsi 14, threshold 35, ema 25\n",
      "n 4, rsi 14, threshold 35, ema 30\n",
      "n 4, rsi 14, threshold 35, ema 35\n",
      "n 4, rsi 14, threshold 40, ema 5\n",
      "n 4, rsi 14, threshold 40, ema 10\n",
      "n 4, rsi 14, threshold 40, ema 15\n",
      "n 4, rsi 14, threshold 40, ema 20\n",
      "n 4, rsi 14, threshold 40, ema 25\n",
      "n 4, rsi 14, threshold 40, ema 30\n",
      "n 4, rsi 14, threshold 40, ema 35\n",
      "n 4, rsi 14, threshold 45, ema 5\n",
      "n 4, rsi 14, threshold 45, ema 10\n",
      "n 4, rsi 14, threshold 45, ema 15\n",
      "n 4, rsi 14, threshold 45, ema 20\n",
      "n 4, rsi 14, threshold 45, ema 25\n",
      "n 4, rsi 14, threshold 45, ema 30\n",
      "n 4, rsi 14, threshold 45, ema 35\n",
      "n 4, rsi 14, threshold 50, ema 5\n",
      "n 4, rsi 14, threshold 50, ema 10\n",
      "n 4, rsi 14, threshold 50, ema 15\n",
      "n 4, rsi 14, threshold 50, ema 20\n",
      "n 4, rsi 14, threshold 50, ema 25\n",
      "n 4, rsi 14, threshold 50, ema 30\n",
      "n 4, rsi 14, threshold 50, ema 35\n",
      "n 4, rsi 14, threshold 55, ema 5\n",
      "n 4, rsi 14, threshold 55, ema 10\n",
      "n 4, rsi 14, threshold 55, ema 15\n",
      "n 4, rsi 14, threshold 55, ema 20\n",
      "n 4, rsi 14, threshold 55, ema 25\n",
      "n 4, rsi 14, threshold 55, ema 30\n",
      "n 4, rsi 14, threshold 55, ema 35\n",
      "n 4, rsi 14, threshold 60, ema 5\n",
      "n 4, rsi 14, threshold 60, ema 10\n",
      "n 4, rsi 14, threshold 60, ema 15\n",
      "n 4, rsi 14, threshold 60, ema 20\n",
      "n 4, rsi 14, threshold 60, ema 25\n",
      "n 4, rsi 14, threshold 60, ema 30\n",
      "n 4, rsi 14, threshold 60, ema 35\n",
      "n 4, rsi 14, threshold 65, ema 5\n"
     ]
    },
    {
     "name": "stderr",
     "output_type": "stream",
     "text": [
      "/tmp/ipykernel_2712/873016624.py:45: RuntimeWarning: divide by zero encountered in scalar divide\n",
      "  roi_dd_ratio = total_roi / abs(max_drawdown)\n"
     ]
    },
    {
     "name": "stdout",
     "output_type": "stream",
     "text": [
      "n 4, rsi 14, threshold 65, ema 10\n"
     ]
    },
    {
     "name": "stderr",
     "output_type": "stream",
     "text": [
      "/tmp/ipykernel_2712/873016624.py:45: RuntimeWarning: divide by zero encountered in scalar divide\n",
      "  roi_dd_ratio = total_roi / abs(max_drawdown)\n"
     ]
    },
    {
     "name": "stdout",
     "output_type": "stream",
     "text": [
      "n 4, rsi 14, threshold 65, ema 15\n"
     ]
    },
    {
     "name": "stderr",
     "output_type": "stream",
     "text": [
      "/tmp/ipykernel_2712/873016624.py:45: RuntimeWarning: divide by zero encountered in scalar divide\n",
      "  roi_dd_ratio = total_roi / abs(max_drawdown)\n"
     ]
    },
    {
     "name": "stdout",
     "output_type": "stream",
     "text": [
      "n 4, rsi 14, threshold 65, ema 20\n"
     ]
    },
    {
     "name": "stderr",
     "output_type": "stream",
     "text": [
      "/tmp/ipykernel_2712/873016624.py:45: RuntimeWarning: divide by zero encountered in scalar divide\n",
      "  roi_dd_ratio = total_roi / abs(max_drawdown)\n"
     ]
    },
    {
     "name": "stdout",
     "output_type": "stream",
     "text": [
      "n 4, rsi 14, threshold 65, ema 25\n"
     ]
    },
    {
     "name": "stderr",
     "output_type": "stream",
     "text": [
      "/tmp/ipykernel_2712/873016624.py:45: RuntimeWarning: divide by zero encountered in scalar divide\n",
      "  roi_dd_ratio = total_roi / abs(max_drawdown)\n"
     ]
    },
    {
     "name": "stdout",
     "output_type": "stream",
     "text": [
      "n 4, rsi 14, threshold 65, ema 30\n"
     ]
    },
    {
     "name": "stderr",
     "output_type": "stream",
     "text": [
      "/tmp/ipykernel_2712/873016624.py:45: RuntimeWarning: divide by zero encountered in scalar divide\n",
      "  roi_dd_ratio = total_roi / abs(max_drawdown)\n"
     ]
    },
    {
     "name": "stdout",
     "output_type": "stream",
     "text": [
      "n 4, rsi 14, threshold 65, ema 35\n"
     ]
    },
    {
     "name": "stderr",
     "output_type": "stream",
     "text": [
      "/tmp/ipykernel_2712/873016624.py:45: RuntimeWarning: divide by zero encountered in scalar divide\n",
      "  roi_dd_ratio = total_roi / abs(max_drawdown)\n"
     ]
    },
    {
     "name": "stdout",
     "output_type": "stream",
     "text": [
      "n 4, rsi 14, threshold 70, ema 5\n"
     ]
    },
    {
     "name": "stderr",
     "output_type": "stream",
     "text": [
      "/tmp/ipykernel_2712/873016624.py:45: RuntimeWarning: divide by zero encountered in scalar divide\n",
      "  roi_dd_ratio = total_roi / abs(max_drawdown)\n"
     ]
    },
    {
     "name": "stdout",
     "output_type": "stream",
     "text": [
      "n 4, rsi 14, threshold 70, ema 10\n"
     ]
    },
    {
     "name": "stderr",
     "output_type": "stream",
     "text": [
      "/tmp/ipykernel_2712/873016624.py:45: RuntimeWarning: divide by zero encountered in scalar divide\n",
      "  roi_dd_ratio = total_roi / abs(max_drawdown)\n"
     ]
    },
    {
     "name": "stdout",
     "output_type": "stream",
     "text": [
      "n 4, rsi 14, threshold 70, ema 15\n"
     ]
    },
    {
     "name": "stderr",
     "output_type": "stream",
     "text": [
      "/tmp/ipykernel_2712/873016624.py:45: RuntimeWarning: divide by zero encountered in scalar divide\n",
      "  roi_dd_ratio = total_roi / abs(max_drawdown)\n"
     ]
    },
    {
     "name": "stdout",
     "output_type": "stream",
     "text": [
      "n 4, rsi 14, threshold 70, ema 20\n"
     ]
    },
    {
     "name": "stderr",
     "output_type": "stream",
     "text": [
      "/tmp/ipykernel_2712/873016624.py:45: RuntimeWarning: divide by zero encountered in scalar divide\n",
      "  roi_dd_ratio = total_roi / abs(max_drawdown)\n"
     ]
    },
    {
     "name": "stdout",
     "output_type": "stream",
     "text": [
      "n 4, rsi 14, threshold 70, ema 25\n"
     ]
    },
    {
     "name": "stderr",
     "output_type": "stream",
     "text": [
      "/tmp/ipykernel_2712/873016624.py:45: RuntimeWarning: divide by zero encountered in scalar divide\n",
      "  roi_dd_ratio = total_roi / abs(max_drawdown)\n"
     ]
    },
    {
     "name": "stdout",
     "output_type": "stream",
     "text": [
      "n 4, rsi 14, threshold 70, ema 30\n"
     ]
    },
    {
     "name": "stderr",
     "output_type": "stream",
     "text": [
      "/tmp/ipykernel_2712/873016624.py:45: RuntimeWarning: divide by zero encountered in scalar divide\n",
      "  roi_dd_ratio = total_roi / abs(max_drawdown)\n"
     ]
    },
    {
     "name": "stdout",
     "output_type": "stream",
     "text": [
      "n 4, rsi 14, threshold 70, ema 35\n"
     ]
    },
    {
     "name": "stderr",
     "output_type": "stream",
     "text": [
      "/tmp/ipykernel_2712/873016624.py:45: RuntimeWarning: divide by zero encountered in scalar divide\n",
      "  roi_dd_ratio = total_roi / abs(max_drawdown)\n"
     ]
    },
    {
     "name": "stdout",
     "output_type": "stream",
     "text": [
      "n 4, rsi 14, threshold 75, ema 5\n",
      "n 4, rsi 14, threshold 75, ema 10\n",
      "n 4, rsi 14, threshold 75, ema 15\n",
      "n 4, rsi 14, threshold 75, ema 20\n",
      "n 4, rsi 14, threshold 75, ema 25\n",
      "n 4, rsi 14, threshold 75, ema 30\n",
      "n 4, rsi 14, threshold 75, ema 35\n",
      "n 4, rsi 14, threshold 80, ema 5\n",
      "n 4, rsi 14, threshold 80, ema 10\n",
      "n 4, rsi 14, threshold 80, ema 15\n",
      "n 4, rsi 14, threshold 80, ema 20\n",
      "n 4, rsi 14, threshold 80, ema 25\n",
      "n 4, rsi 14, threshold 80, ema 30\n",
      "n 4, rsi 14, threshold 80, ema 35\n",
      "n 4, rsi 9, threshold 30, ema 5\n",
      "n 4, rsi 9, threshold 30, ema 10\n",
      "n 4, rsi 9, threshold 30, ema 15\n",
      "n 4, rsi 9, threshold 30, ema 20\n",
      "n 4, rsi 9, threshold 30, ema 25\n",
      "n 4, rsi 9, threshold 30, ema 30\n",
      "n 4, rsi 9, threshold 30, ema 35\n",
      "n 4, rsi 9, threshold 35, ema 5\n",
      "n 4, rsi 9, threshold 35, ema 10\n",
      "n 4, rsi 9, threshold 35, ema 15\n",
      "n 4, rsi 9, threshold 35, ema 20\n",
      "n 4, rsi 9, threshold 35, ema 25\n",
      "n 4, rsi 9, threshold 35, ema 30\n",
      "n 4, rsi 9, threshold 35, ema 35\n",
      "n 4, rsi 9, threshold 40, ema 5\n",
      "n 4, rsi 9, threshold 40, ema 10\n",
      "n 4, rsi 9, threshold 40, ema 15\n",
      "n 4, rsi 9, threshold 40, ema 20\n",
      "n 4, rsi 9, threshold 40, ema 25\n",
      "n 4, rsi 9, threshold 40, ema 30\n",
      "n 4, rsi 9, threshold 40, ema 35\n",
      "n 4, rsi 9, threshold 45, ema 5\n",
      "n 4, rsi 9, threshold 45, ema 10\n",
      "n 4, rsi 9, threshold 45, ema 15\n",
      "n 4, rsi 9, threshold 45, ema 20\n",
      "n 4, rsi 9, threshold 45, ema 25\n",
      "n 4, rsi 9, threshold 45, ema 30\n",
      "n 4, rsi 9, threshold 45, ema 35\n",
      "n 4, rsi 9, threshold 50, ema 5\n",
      "n 4, rsi 9, threshold 50, ema 10\n",
      "n 4, rsi 9, threshold 50, ema 15\n",
      "n 4, rsi 9, threshold 50, ema 20\n",
      "n 4, rsi 9, threshold 50, ema 25\n",
      "n 4, rsi 9, threshold 50, ema 30\n",
      "n 4, rsi 9, threshold 50, ema 35\n",
      "n 4, rsi 9, threshold 55, ema 5\n",
      "n 4, rsi 9, threshold 55, ema 10\n",
      "n 4, rsi 9, threshold 55, ema 15\n",
      "n 4, rsi 9, threshold 55, ema 20\n",
      "n 4, rsi 9, threshold 55, ema 25\n",
      "n 4, rsi 9, threshold 55, ema 30\n",
      "n 4, rsi 9, threshold 55, ema 35\n",
      "n 4, rsi 9, threshold 60, ema 5\n"
     ]
    },
    {
     "name": "stderr",
     "output_type": "stream",
     "text": [
      "/tmp/ipykernel_2712/873016624.py:45: RuntimeWarning: divide by zero encountered in scalar divide\n",
      "  roi_dd_ratio = total_roi / abs(max_drawdown)\n"
     ]
    },
    {
     "name": "stdout",
     "output_type": "stream",
     "text": [
      "n 4, rsi 9, threshold 60, ema 10\n"
     ]
    },
    {
     "name": "stderr",
     "output_type": "stream",
     "text": [
      "/tmp/ipykernel_2712/873016624.py:45: RuntimeWarning: divide by zero encountered in scalar divide\n",
      "  roi_dd_ratio = total_roi / abs(max_drawdown)\n"
     ]
    },
    {
     "name": "stdout",
     "output_type": "stream",
     "text": [
      "n 4, rsi 9, threshold 60, ema 15\n"
     ]
    },
    {
     "name": "stderr",
     "output_type": "stream",
     "text": [
      "/tmp/ipykernel_2712/873016624.py:45: RuntimeWarning: divide by zero encountered in scalar divide\n",
      "  roi_dd_ratio = total_roi / abs(max_drawdown)\n"
     ]
    },
    {
     "name": "stdout",
     "output_type": "stream",
     "text": [
      "n 4, rsi 9, threshold 60, ema 20\n"
     ]
    },
    {
     "name": "stderr",
     "output_type": "stream",
     "text": [
      "/tmp/ipykernel_2712/873016624.py:45: RuntimeWarning: divide by zero encountered in scalar divide\n",
      "  roi_dd_ratio = total_roi / abs(max_drawdown)\n"
     ]
    },
    {
     "name": "stdout",
     "output_type": "stream",
     "text": [
      "n 4, rsi 9, threshold 60, ema 25\n"
     ]
    },
    {
     "name": "stderr",
     "output_type": "stream",
     "text": [
      "/tmp/ipykernel_2712/873016624.py:45: RuntimeWarning: divide by zero encountered in scalar divide\n",
      "  roi_dd_ratio = total_roi / abs(max_drawdown)\n"
     ]
    },
    {
     "name": "stdout",
     "output_type": "stream",
     "text": [
      "n 4, rsi 9, threshold 60, ema 30\n",
      "n 4, rsi 9, threshold 60, ema 35\n",
      "n 4, rsi 9, threshold 65, ema 5\n"
     ]
    },
    {
     "name": "stderr",
     "output_type": "stream",
     "text": [
      "/tmp/ipykernel_2712/873016624.py:45: RuntimeWarning: divide by zero encountered in scalar divide\n",
      "  roi_dd_ratio = total_roi / abs(max_drawdown)\n"
     ]
    },
    {
     "name": "stdout",
     "output_type": "stream",
     "text": [
      "n 4, rsi 9, threshold 65, ema 10\n"
     ]
    },
    {
     "name": "stderr",
     "output_type": "stream",
     "text": [
      "/tmp/ipykernel_2712/873016624.py:45: RuntimeWarning: divide by zero encountered in scalar divide\n",
      "  roi_dd_ratio = total_roi / abs(max_drawdown)\n"
     ]
    },
    {
     "name": "stdout",
     "output_type": "stream",
     "text": [
      "n 4, rsi 9, threshold 65, ema 15\n"
     ]
    },
    {
     "name": "stderr",
     "output_type": "stream",
     "text": [
      "/tmp/ipykernel_2712/873016624.py:45: RuntimeWarning: divide by zero encountered in scalar divide\n",
      "  roi_dd_ratio = total_roi / abs(max_drawdown)\n"
     ]
    },
    {
     "name": "stdout",
     "output_type": "stream",
     "text": [
      "n 4, rsi 9, threshold 65, ema 20\n"
     ]
    },
    {
     "name": "stderr",
     "output_type": "stream",
     "text": [
      "/tmp/ipykernel_2712/873016624.py:45: RuntimeWarning: divide by zero encountered in scalar divide\n",
      "  roi_dd_ratio = total_roi / abs(max_drawdown)\n"
     ]
    },
    {
     "name": "stdout",
     "output_type": "stream",
     "text": [
      "n 4, rsi 9, threshold 65, ema 25\n"
     ]
    },
    {
     "name": "stderr",
     "output_type": "stream",
     "text": [
      "/tmp/ipykernel_2712/873016624.py:45: RuntimeWarning: divide by zero encountered in scalar divide\n",
      "  roi_dd_ratio = total_roi / abs(max_drawdown)\n"
     ]
    },
    {
     "name": "stdout",
     "output_type": "stream",
     "text": [
      "n 4, rsi 9, threshold 65, ema 30\n"
     ]
    },
    {
     "name": "stderr",
     "output_type": "stream",
     "text": [
      "/tmp/ipykernel_2712/873016624.py:45: RuntimeWarning: divide by zero encountered in scalar divide\n",
      "  roi_dd_ratio = total_roi / abs(max_drawdown)\n"
     ]
    },
    {
     "name": "stdout",
     "output_type": "stream",
     "text": [
      "n 4, rsi 9, threshold 65, ema 35\n"
     ]
    },
    {
     "name": "stderr",
     "output_type": "stream",
     "text": [
      "/tmp/ipykernel_2712/873016624.py:45: RuntimeWarning: divide by zero encountered in scalar divide\n",
      "  roi_dd_ratio = total_roi / abs(max_drawdown)\n"
     ]
    },
    {
     "name": "stdout",
     "output_type": "stream",
     "text": [
      "n 4, rsi 9, threshold 70, ema 5\n"
     ]
    },
    {
     "name": "stderr",
     "output_type": "stream",
     "text": [
      "/tmp/ipykernel_2712/873016624.py:45: RuntimeWarning: divide by zero encountered in scalar divide\n",
      "  roi_dd_ratio = total_roi / abs(max_drawdown)\n",
      "/tmp/ipykernel_2712/873016624.py:70: RuntimeWarning: divide by zero encountered in scalar divide\n",
      "  overall_roi_dd_ratio = overall_total_roi / abs(overall_max_drawdown)\n"
     ]
    },
    {
     "name": "stdout",
     "output_type": "stream",
     "text": [
      "        Total ROI Total Trades Win Rate Avg Profit% per Trade Avg Loss% per Trade Max Drawdown ROI/DD Ratio                        Variation\n",
      "2018       0.0000            0      NaN                   NaN                 NaN          NaN          NaN  n 4, rsi 9, threshold 70, ema 5\n",
      "2019       0.0000            0      NaN                   NaN                 NaN          NaN          NaN  n 4, rsi 9, threshold 70, ema 5\n",
      "2020       0.8918            1 100.0000                0.8918                 NaN       0.0000          inf  n 4, rsi 9, threshold 70, ema 5\n",
      "2021       0.0000            0      NaN                   NaN                 NaN          NaN          NaN  n 4, rsi 9, threshold 70, ema 5\n",
      "2022       4.2445            2 100.0000                2.1223                 NaN       0.0000          inf  n 4, rsi 9, threshold 70, ema 5\n",
      "2023       0.0000            0      NaN                   NaN                 NaN          NaN          NaN  n 4, rsi 9, threshold 70, ema 5\n",
      "2024       0.0000            0      NaN                   NaN                 NaN          NaN          NaN  n 4, rsi 9, threshold 70, ema 5\n",
      "Overall    5.1364            3 100.0000                1.7121                 NaN       0.0000          inf  n 4, rsi 9, threshold 70, ema 5\n",
      "n 4, rsi 9, threshold 70, ema 10\n"
     ]
    },
    {
     "name": "stderr",
     "output_type": "stream",
     "text": [
      "/tmp/ipykernel_2712/873016624.py:45: RuntimeWarning: divide by zero encountered in scalar divide\n",
      "  roi_dd_ratio = total_roi / abs(max_drawdown)\n"
     ]
    },
    {
     "name": "stdout",
     "output_type": "stream",
     "text": [
      "n 4, rsi 9, threshold 70, ema 15\n"
     ]
    },
    {
     "name": "stderr",
     "output_type": "stream",
     "text": [
      "/tmp/ipykernel_2712/873016624.py:45: RuntimeWarning: divide by zero encountered in scalar divide\n",
      "  roi_dd_ratio = total_roi / abs(max_drawdown)\n"
     ]
    },
    {
     "name": "stdout",
     "output_type": "stream",
     "text": [
      "n 4, rsi 9, threshold 70, ema 20\n"
     ]
    },
    {
     "name": "stderr",
     "output_type": "stream",
     "text": [
      "/tmp/ipykernel_2712/873016624.py:45: RuntimeWarning: divide by zero encountered in scalar divide\n",
      "  roi_dd_ratio = total_roi / abs(max_drawdown)\n"
     ]
    },
    {
     "name": "stdout",
     "output_type": "stream",
     "text": [
      "n 4, rsi 9, threshold 70, ema 25\n"
     ]
    },
    {
     "name": "stderr",
     "output_type": "stream",
     "text": [
      "/tmp/ipykernel_2712/873016624.py:45: RuntimeWarning: divide by zero encountered in scalar divide\n",
      "  roi_dd_ratio = total_roi / abs(max_drawdown)\n"
     ]
    },
    {
     "name": "stdout",
     "output_type": "stream",
     "text": [
      "n 4, rsi 9, threshold 70, ema 30\n"
     ]
    },
    {
     "name": "stderr",
     "output_type": "stream",
     "text": [
      "/tmp/ipykernel_2712/873016624.py:45: RuntimeWarning: divide by zero encountered in scalar divide\n",
      "  roi_dd_ratio = total_roi / abs(max_drawdown)\n"
     ]
    },
    {
     "name": "stdout",
     "output_type": "stream",
     "text": [
      "n 4, rsi 9, threshold 70, ema 35\n"
     ]
    },
    {
     "name": "stderr",
     "output_type": "stream",
     "text": [
      "/tmp/ipykernel_2712/873016624.py:45: RuntimeWarning: divide by zero encountered in scalar divide\n",
      "  roi_dd_ratio = total_roi / abs(max_drawdown)\n"
     ]
    },
    {
     "name": "stdout",
     "output_type": "stream",
     "text": [
      "n 4, rsi 9, threshold 75, ema 5\n",
      "n 4, rsi 9, threshold 75, ema 10\n",
      "n 4, rsi 9, threshold 75, ema 15\n",
      "n 4, rsi 9, threshold 75, ema 20\n",
      "n 4, rsi 9, threshold 75, ema 25\n",
      "n 4, rsi 9, threshold 75, ema 30\n",
      "n 4, rsi 9, threshold 75, ema 35\n",
      "n 4, rsi 9, threshold 80, ema 5\n",
      "n 4, rsi 9, threshold 80, ema 10\n",
      "n 4, rsi 9, threshold 80, ema 15\n",
      "n 4, rsi 9, threshold 80, ema 20\n",
      "n 4, rsi 9, threshold 80, ema 25\n",
      "n 4, rsi 9, threshold 80, ema 30\n",
      "n 4, rsi 9, threshold 80, ema 35\n",
      "n 4, rsi 21, threshold 30, ema 5\n",
      "n 4, rsi 21, threshold 30, ema 10\n",
      "n 4, rsi 21, threshold 30, ema 15\n",
      "n 4, rsi 21, threshold 30, ema 20\n",
      "n 4, rsi 21, threshold 30, ema 25\n",
      "n 4, rsi 21, threshold 30, ema 30\n",
      "n 4, rsi 21, threshold 30, ema 35\n",
      "n 4, rsi 21, threshold 35, ema 5\n",
      "n 4, rsi 21, threshold 35, ema 10\n",
      "n 4, rsi 21, threshold 35, ema 15\n",
      "n 4, rsi 21, threshold 35, ema 20\n",
      "n 4, rsi 21, threshold 35, ema 25\n",
      "n 4, rsi 21, threshold 35, ema 30\n",
      "n 4, rsi 21, threshold 35, ema 35\n",
      "n 4, rsi 21, threshold 40, ema 5\n",
      "n 4, rsi 21, threshold 40, ema 10\n",
      "n 4, rsi 21, threshold 40, ema 15\n",
      "n 4, rsi 21, threshold 40, ema 20\n",
      "n 4, rsi 21, threshold 40, ema 25\n",
      "n 4, rsi 21, threshold 40, ema 30\n",
      "n 4, rsi 21, threshold 40, ema 35\n",
      "n 4, rsi 21, threshold 45, ema 5\n",
      "n 4, rsi 21, threshold 45, ema 10\n",
      "n 4, rsi 21, threshold 45, ema 15\n",
      "n 4, rsi 21, threshold 45, ema 20\n",
      "n 4, rsi 21, threshold 45, ema 25\n",
      "n 4, rsi 21, threshold 45, ema 30\n",
      "n 4, rsi 21, threshold 45, ema 35\n",
      "n 4, rsi 21, threshold 50, ema 5\n",
      "n 4, rsi 21, threshold 50, ema 10\n",
      "n 4, rsi 21, threshold 50, ema 15\n",
      "n 4, rsi 21, threshold 50, ema 20\n",
      "n 4, rsi 21, threshold 50, ema 25\n",
      "n 4, rsi 21, threshold 50, ema 30\n",
      "n 4, rsi 21, threshold 50, ema 35\n",
      "n 4, rsi 21, threshold 55, ema 5\n",
      "n 4, rsi 21, threshold 55, ema 10\n",
      "n 4, rsi 21, threshold 55, ema 15\n",
      "n 4, rsi 21, threshold 55, ema 20\n",
      "n 4, rsi 21, threshold 55, ema 25\n",
      "n 4, rsi 21, threshold 55, ema 30\n",
      "n 4, rsi 21, threshold 55, ema 35\n",
      "n 4, rsi 21, threshold 60, ema 5\n",
      "n 4, rsi 21, threshold 60, ema 10\n",
      "n 4, rsi 21, threshold 60, ema 15\n",
      "n 4, rsi 21, threshold 60, ema 20\n",
      "n 4, rsi 21, threshold 60, ema 25\n",
      "n 4, rsi 21, threshold 60, ema 30\n",
      "n 4, rsi 21, threshold 60, ema 35\n",
      "n 4, rsi 21, threshold 65, ema 5\n"
     ]
    },
    {
     "name": "stderr",
     "output_type": "stream",
     "text": [
      "/tmp/ipykernel_2712/873016624.py:45: RuntimeWarning: divide by zero encountered in scalar divide\n",
      "  roi_dd_ratio = total_roi / abs(max_drawdown)\n"
     ]
    },
    {
     "name": "stdout",
     "output_type": "stream",
     "text": [
      "n 4, rsi 21, threshold 65, ema 10\n"
     ]
    },
    {
     "name": "stderr",
     "output_type": "stream",
     "text": [
      "/tmp/ipykernel_2712/873016624.py:45: RuntimeWarning: divide by zero encountered in scalar divide\n",
      "  roi_dd_ratio = total_roi / abs(max_drawdown)\n"
     ]
    },
    {
     "name": "stdout",
     "output_type": "stream",
     "text": [
      "n 4, rsi 21, threshold 65, ema 15\n"
     ]
    },
    {
     "name": "stderr",
     "output_type": "stream",
     "text": [
      "/tmp/ipykernel_2712/873016624.py:45: RuntimeWarning: divide by zero encountered in scalar divide\n",
      "  roi_dd_ratio = total_roi / abs(max_drawdown)\n"
     ]
    },
    {
     "name": "stdout",
     "output_type": "stream",
     "text": [
      "n 4, rsi 21, threshold 65, ema 20\n"
     ]
    },
    {
     "name": "stderr",
     "output_type": "stream",
     "text": [
      "/tmp/ipykernel_2712/873016624.py:45: RuntimeWarning: divide by zero encountered in scalar divide\n",
      "  roi_dd_ratio = total_roi / abs(max_drawdown)\n"
     ]
    },
    {
     "name": "stdout",
     "output_type": "stream",
     "text": [
      "n 4, rsi 21, threshold 65, ema 25\n"
     ]
    },
    {
     "name": "stderr",
     "output_type": "stream",
     "text": [
      "/tmp/ipykernel_2712/873016624.py:45: RuntimeWarning: divide by zero encountered in scalar divide\n",
      "  roi_dd_ratio = total_roi / abs(max_drawdown)\n"
     ]
    },
    {
     "name": "stdout",
     "output_type": "stream",
     "text": [
      "n 4, rsi 21, threshold 65, ema 30\n"
     ]
    },
    {
     "name": "stderr",
     "output_type": "stream",
     "text": [
      "/tmp/ipykernel_2712/873016624.py:45: RuntimeWarning: divide by zero encountered in scalar divide\n",
      "  roi_dd_ratio = total_roi / abs(max_drawdown)\n"
     ]
    },
    {
     "name": "stdout",
     "output_type": "stream",
     "text": [
      "n 4, rsi 21, threshold 65, ema 35\n"
     ]
    },
    {
     "name": "stderr",
     "output_type": "stream",
     "text": [
      "/tmp/ipykernel_2712/873016624.py:45: RuntimeWarning: divide by zero encountered in scalar divide\n",
      "  roi_dd_ratio = total_roi / abs(max_drawdown)\n"
     ]
    },
    {
     "name": "stdout",
     "output_type": "stream",
     "text": [
      "n 4, rsi 21, threshold 70, ema 5\n"
     ]
    },
    {
     "name": "stderr",
     "output_type": "stream",
     "text": [
      "/tmp/ipykernel_2712/873016624.py:45: RuntimeWarning: divide by zero encountered in scalar divide\n",
      "  roi_dd_ratio = total_roi / abs(max_drawdown)\n"
     ]
    },
    {
     "name": "stdout",
     "output_type": "stream",
     "text": [
      "        Total ROI Total Trades Win Rate Avg Profit% per Trade Avg Loss% per Trade Max Drawdown ROI/DD Ratio                         Variation\n",
      "2018       0.0000            0      NaN                   NaN                 NaN          NaN          NaN  n 4, rsi 21, threshold 70, ema 5\n",
      "2019       3.4434            2  50.0000                3.5790             -0.1356      -0.1356      25.3990  n 4, rsi 21, threshold 70, ema 5\n",
      "2020       0.8918            1 100.0000                0.8918                 NaN       0.0000          inf  n 4, rsi 21, threshold 70, ema 5\n",
      "2021       0.0000            0      NaN                   NaN                 NaN          NaN          NaN  n 4, rsi 21, threshold 70, ema 5\n",
      "2022       0.0000            0      NaN                   NaN                 NaN          NaN          NaN  n 4, rsi 21, threshold 70, ema 5\n",
      "2023       0.0018            1 100.0000                0.0018                 NaN       0.0000          inf  n 4, rsi 21, threshold 70, ema 5\n",
      "2024       0.0000            0      NaN                   NaN                 NaN          NaN          NaN  n 4, rsi 21, threshold 70, ema 5\n",
      "Overall    4.3371            4  75.0000                1.4909             -0.1356      -0.1356      31.9908  n 4, rsi 21, threshold 70, ema 5\n",
      "n 4, rsi 21, threshold 70, ema 10\n"
     ]
    },
    {
     "name": "stderr",
     "output_type": "stream",
     "text": [
      "/tmp/ipykernel_2712/873016624.py:45: RuntimeWarning: divide by zero encountered in scalar divide\n",
      "  roi_dd_ratio = total_roi / abs(max_drawdown)\n"
     ]
    },
    {
     "name": "stdout",
     "output_type": "stream",
     "text": [
      "        Total ROI Total Trades Win Rate Avg Profit% per Trade Avg Loss% per Trade Max Drawdown ROI/DD Ratio                          Variation\n",
      "2018       0.0000            0      NaN                   NaN                 NaN          NaN          NaN  n 4, rsi 21, threshold 70, ema 10\n",
      "2019       1.4273            2  50.0000                1.5629             -0.1356      -0.1356      10.5277  n 4, rsi 21, threshold 70, ema 10\n",
      "2020       0.8918            1 100.0000                0.8918                 NaN       0.0000          inf  n 4, rsi 21, threshold 70, ema 10\n",
      "2021       0.0000            0      NaN                   NaN                 NaN          NaN          NaN  n 4, rsi 21, threshold 70, ema 10\n",
      "2022       0.0000            0      NaN                   NaN                 NaN          NaN          NaN  n 4, rsi 21, threshold 70, ema 10\n",
      "2023       0.0018            1 100.0000                0.0018                 NaN       0.0000          inf  n 4, rsi 21, threshold 70, ema 10\n",
      "2024       0.0000            0      NaN                   NaN                 NaN          NaN          NaN  n 4, rsi 21, threshold 70, ema 10\n",
      "Overall    2.3210            4  75.0000                0.8188             -0.1356      -0.1356      17.1196  n 4, rsi 21, threshold 70, ema 10\n",
      "n 4, rsi 21, threshold 70, ema 15\n"
     ]
    },
    {
     "name": "stderr",
     "output_type": "stream",
     "text": [
      "/tmp/ipykernel_2712/873016624.py:45: RuntimeWarning: divide by zero encountered in scalar divide\n",
      "  roi_dd_ratio = total_roi / abs(max_drawdown)\n"
     ]
    },
    {
     "name": "stdout",
     "output_type": "stream",
     "text": [
      "        Total ROI Total Trades Win Rate Avg Profit% per Trade Avg Loss% per Trade Max Drawdown ROI/DD Ratio                          Variation\n",
      "2018       0.0000            0      NaN                   NaN                 NaN          NaN          NaN  n 4, rsi 21, threshold 70, ema 15\n",
      "2019       1.4273            2  50.0000                1.5629             -0.1356      -0.1356      10.5277  n 4, rsi 21, threshold 70, ema 15\n",
      "2020       0.8918            1 100.0000                0.8918                 NaN       0.0000          inf  n 4, rsi 21, threshold 70, ema 15\n",
      "2021       0.0000            0      NaN                   NaN                 NaN          NaN          NaN  n 4, rsi 21, threshold 70, ema 15\n",
      "2022       0.0000            0      NaN                   NaN                 NaN          NaN          NaN  n 4, rsi 21, threshold 70, ema 15\n",
      "2023       0.0950            1 100.0000                0.0950                 NaN       0.0000          inf  n 4, rsi 21, threshold 70, ema 15\n",
      "2024       0.0000            0      NaN                   NaN                 NaN          NaN          NaN  n 4, rsi 21, threshold 70, ema 15\n",
      "Overall    2.4142            4  75.0000                0.8499             -0.1356      -0.1356      17.8070  n 4, rsi 21, threshold 70, ema 15\n",
      "n 4, rsi 21, threshold 70, ema 20\n"
     ]
    },
    {
     "name": "stderr",
     "output_type": "stream",
     "text": [
      "/tmp/ipykernel_2712/873016624.py:45: RuntimeWarning: divide by zero encountered in scalar divide\n",
      "  roi_dd_ratio = total_roi / abs(max_drawdown)\n"
     ]
    },
    {
     "name": "stdout",
     "output_type": "stream",
     "text": [
      "n 4, rsi 21, threshold 70, ema 25\n"
     ]
    },
    {
     "name": "stderr",
     "output_type": "stream",
     "text": [
      "/tmp/ipykernel_2712/873016624.py:45: RuntimeWarning: divide by zero encountered in scalar divide\n",
      "  roi_dd_ratio = total_roi / abs(max_drawdown)\n"
     ]
    },
    {
     "name": "stdout",
     "output_type": "stream",
     "text": [
      "n 4, rsi 21, threshold 70, ema 30\n"
     ]
    },
    {
     "name": "stderr",
     "output_type": "stream",
     "text": [
      "/tmp/ipykernel_2712/873016624.py:45: RuntimeWarning: divide by zero encountered in scalar divide\n",
      "  roi_dd_ratio = total_roi / abs(max_drawdown)\n"
     ]
    },
    {
     "name": "stdout",
     "output_type": "stream",
     "text": [
      "n 4, rsi 21, threshold 70, ema 35\n"
     ]
    },
    {
     "name": "stderr",
     "output_type": "stream",
     "text": [
      "/tmp/ipykernel_2712/873016624.py:45: RuntimeWarning: divide by zero encountered in scalar divide\n",
      "  roi_dd_ratio = total_roi / abs(max_drawdown)\n"
     ]
    },
    {
     "name": "stdout",
     "output_type": "stream",
     "text": [
      "n 4, rsi 21, threshold 75, ema 5\n",
      "n 4, rsi 21, threshold 75, ema 10\n",
      "n 4, rsi 21, threshold 75, ema 15\n",
      "n 4, rsi 21, threshold 75, ema 20\n",
      "n 4, rsi 21, threshold 75, ema 25\n",
      "n 4, rsi 21, threshold 75, ema 30\n",
      "n 4, rsi 21, threshold 75, ema 35\n",
      "n 4, rsi 21, threshold 80, ema 5\n",
      "n 4, rsi 21, threshold 80, ema 10\n",
      "n 4, rsi 21, threshold 80, ema 15\n",
      "n 4, rsi 21, threshold 80, ema 20\n",
      "n 4, rsi 21, threshold 80, ema 25\n",
      "n 4, rsi 21, threshold 80, ema 30\n",
      "n 4, rsi 21, threshold 80, ema 35\n",
      "n 4, rsi 6, threshold 30, ema 5\n",
      "n 4, rsi 6, threshold 30, ema 10\n",
      "n 4, rsi 6, threshold 30, ema 15\n",
      "n 4, rsi 6, threshold 30, ema 20\n",
      "n 4, rsi 6, threshold 30, ema 25\n",
      "n 4, rsi 6, threshold 30, ema 30\n",
      "n 4, rsi 6, threshold 30, ema 35\n",
      "n 4, rsi 6, threshold 35, ema 5\n",
      "n 4, rsi 6, threshold 35, ema 10\n",
      "n 4, rsi 6, threshold 35, ema 15\n",
      "n 4, rsi 6, threshold 35, ema 20\n",
      "n 4, rsi 6, threshold 35, ema 25\n",
      "n 4, rsi 6, threshold 35, ema 30\n",
      "n 4, rsi 6, threshold 35, ema 35\n",
      "n 4, rsi 6, threshold 40, ema 5\n",
      "n 4, rsi 6, threshold 40, ema 10\n",
      "n 4, rsi 6, threshold 40, ema 15\n",
      "n 4, rsi 6, threshold 40, ema 20\n",
      "n 4, rsi 6, threshold 40, ema 25\n",
      "n 4, rsi 6, threshold 40, ema 30\n",
      "n 4, rsi 6, threshold 40, ema 35\n",
      "n 4, rsi 6, threshold 45, ema 5\n",
      "n 4, rsi 6, threshold 45, ema 10\n",
      "n 4, rsi 6, threshold 45, ema 15\n",
      "n 4, rsi 6, threshold 45, ema 20\n",
      "n 4, rsi 6, threshold 45, ema 25\n",
      "n 4, rsi 6, threshold 45, ema 30\n",
      "n 4, rsi 6, threshold 45, ema 35\n",
      "n 4, rsi 6, threshold 50, ema 5\n",
      "n 4, rsi 6, threshold 50, ema 10\n",
      "n 4, rsi 6, threshold 50, ema 15\n",
      "n 4, rsi 6, threshold 50, ema 20\n",
      "n 4, rsi 6, threshold 50, ema 25\n",
      "n 4, rsi 6, threshold 50, ema 30\n",
      "n 4, rsi 6, threshold 50, ema 35\n",
      "n 4, rsi 6, threshold 55, ema 5\n"
     ]
    },
    {
     "name": "stderr",
     "output_type": "stream",
     "text": [
      "/tmp/ipykernel_2712/873016624.py:45: RuntimeWarning: divide by zero encountered in scalar divide\n",
      "  roi_dd_ratio = total_roi / abs(max_drawdown)\n"
     ]
    },
    {
     "name": "stdout",
     "output_type": "stream",
     "text": [
      "n 4, rsi 6, threshold 55, ema 10\n"
     ]
    },
    {
     "name": "stderr",
     "output_type": "stream",
     "text": [
      "/tmp/ipykernel_2712/873016624.py:45: RuntimeWarning: divide by zero encountered in scalar divide\n",
      "  roi_dd_ratio = total_roi / abs(max_drawdown)\n"
     ]
    },
    {
     "name": "stdout",
     "output_type": "stream",
     "text": [
      "n 4, rsi 6, threshold 55, ema 15\n"
     ]
    },
    {
     "name": "stderr",
     "output_type": "stream",
     "text": [
      "/tmp/ipykernel_2712/873016624.py:45: RuntimeWarning: divide by zero encountered in scalar divide\n",
      "  roi_dd_ratio = total_roi / abs(max_drawdown)\n"
     ]
    },
    {
     "name": "stdout",
     "output_type": "stream",
     "text": [
      "n 4, rsi 6, threshold 55, ema 20\n"
     ]
    },
    {
     "name": "stderr",
     "output_type": "stream",
     "text": [
      "/tmp/ipykernel_2712/873016624.py:45: RuntimeWarning: divide by zero encountered in scalar divide\n",
      "  roi_dd_ratio = total_roi / abs(max_drawdown)\n"
     ]
    },
    {
     "name": "stdout",
     "output_type": "stream",
     "text": [
      "n 4, rsi 6, threshold 55, ema 25\n"
     ]
    },
    {
     "name": "stderr",
     "output_type": "stream",
     "text": [
      "/tmp/ipykernel_2712/873016624.py:45: RuntimeWarning: divide by zero encountered in scalar divide\n",
      "  roi_dd_ratio = total_roi / abs(max_drawdown)\n"
     ]
    },
    {
     "name": "stdout",
     "output_type": "stream",
     "text": [
      "n 4, rsi 6, threshold 55, ema 30\n"
     ]
    },
    {
     "name": "stderr",
     "output_type": "stream",
     "text": [
      "/tmp/ipykernel_2712/873016624.py:45: RuntimeWarning: divide by zero encountered in scalar divide\n",
      "  roi_dd_ratio = total_roi / abs(max_drawdown)\n"
     ]
    },
    {
     "name": "stdout",
     "output_type": "stream",
     "text": [
      "n 4, rsi 6, threshold 55, ema 35\n"
     ]
    },
    {
     "name": "stderr",
     "output_type": "stream",
     "text": [
      "/tmp/ipykernel_2712/873016624.py:45: RuntimeWarning: divide by zero encountered in scalar divide\n",
      "  roi_dd_ratio = total_roi / abs(max_drawdown)\n"
     ]
    },
    {
     "name": "stdout",
     "output_type": "stream",
     "text": [
      "n 4, rsi 6, threshold 60, ema 5\n"
     ]
    },
    {
     "name": "stderr",
     "output_type": "stream",
     "text": [
      "/tmp/ipykernel_2712/873016624.py:45: RuntimeWarning: divide by zero encountered in scalar divide\n",
      "  roi_dd_ratio = total_roi / abs(max_drawdown)\n"
     ]
    },
    {
     "name": "stdout",
     "output_type": "stream",
     "text": [
      "n 4, rsi 6, threshold 60, ema 10\n"
     ]
    },
    {
     "name": "stderr",
     "output_type": "stream",
     "text": [
      "/tmp/ipykernel_2712/873016624.py:45: RuntimeWarning: divide by zero encountered in scalar divide\n",
      "  roi_dd_ratio = total_roi / abs(max_drawdown)\n"
     ]
    },
    {
     "name": "stdout",
     "output_type": "stream",
     "text": [
      "n 4, rsi 6, threshold 60, ema 15\n"
     ]
    },
    {
     "name": "stderr",
     "output_type": "stream",
     "text": [
      "/tmp/ipykernel_2712/873016624.py:45: RuntimeWarning: divide by zero encountered in scalar divide\n",
      "  roi_dd_ratio = total_roi / abs(max_drawdown)\n"
     ]
    },
    {
     "name": "stdout",
     "output_type": "stream",
     "text": [
      "n 4, rsi 6, threshold 60, ema 20\n"
     ]
    },
    {
     "name": "stderr",
     "output_type": "stream",
     "text": [
      "/tmp/ipykernel_2712/873016624.py:45: RuntimeWarning: divide by zero encountered in scalar divide\n",
      "  roi_dd_ratio = total_roi / abs(max_drawdown)\n"
     ]
    },
    {
     "name": "stdout",
     "output_type": "stream",
     "text": [
      "n 4, rsi 6, threshold 60, ema 25\n"
     ]
    },
    {
     "name": "stderr",
     "output_type": "stream",
     "text": [
      "/tmp/ipykernel_2712/873016624.py:45: RuntimeWarning: divide by zero encountered in scalar divide\n",
      "  roi_dd_ratio = total_roi / abs(max_drawdown)\n"
     ]
    },
    {
     "name": "stdout",
     "output_type": "stream",
     "text": [
      "n 4, rsi 6, threshold 60, ema 30\n"
     ]
    },
    {
     "name": "stderr",
     "output_type": "stream",
     "text": [
      "/tmp/ipykernel_2712/873016624.py:45: RuntimeWarning: divide by zero encountered in scalar divide\n",
      "  roi_dd_ratio = total_roi / abs(max_drawdown)\n"
     ]
    },
    {
     "name": "stdout",
     "output_type": "stream",
     "text": [
      "n 4, rsi 6, threshold 60, ema 35\n"
     ]
    },
    {
     "name": "stderr",
     "output_type": "stream",
     "text": [
      "/tmp/ipykernel_2712/873016624.py:45: RuntimeWarning: divide by zero encountered in scalar divide\n",
      "  roi_dd_ratio = total_roi / abs(max_drawdown)\n"
     ]
    },
    {
     "name": "stdout",
     "output_type": "stream",
     "text": [
      "n 4, rsi 6, threshold 65, ema 5\n"
     ]
    },
    {
     "name": "stderr",
     "output_type": "stream",
     "text": [
      "/tmp/ipykernel_2712/873016624.py:45: RuntimeWarning: divide by zero encountered in scalar divide\n",
      "  roi_dd_ratio = total_roi / abs(max_drawdown)\n"
     ]
    },
    {
     "name": "stdout",
     "output_type": "stream",
     "text": [
      "n 4, rsi 6, threshold 65, ema 10\n"
     ]
    },
    {
     "name": "stderr",
     "output_type": "stream",
     "text": [
      "/tmp/ipykernel_2712/873016624.py:45: RuntimeWarning: divide by zero encountered in scalar divide\n",
      "  roi_dd_ratio = total_roi / abs(max_drawdown)\n"
     ]
    },
    {
     "name": "stdout",
     "output_type": "stream",
     "text": [
      "n 4, rsi 6, threshold 65, ema 15\n"
     ]
    },
    {
     "name": "stderr",
     "output_type": "stream",
     "text": [
      "/tmp/ipykernel_2712/873016624.py:45: RuntimeWarning: divide by zero encountered in scalar divide\n",
      "  roi_dd_ratio = total_roi / abs(max_drawdown)\n"
     ]
    },
    {
     "name": "stdout",
     "output_type": "stream",
     "text": [
      "n 4, rsi 6, threshold 65, ema 20\n"
     ]
    },
    {
     "name": "stderr",
     "output_type": "stream",
     "text": [
      "/tmp/ipykernel_2712/873016624.py:45: RuntimeWarning: divide by zero encountered in scalar divide\n",
      "  roi_dd_ratio = total_roi / abs(max_drawdown)\n"
     ]
    },
    {
     "name": "stdout",
     "output_type": "stream",
     "text": [
      "n 4, rsi 6, threshold 65, ema 25\n"
     ]
    },
    {
     "name": "stderr",
     "output_type": "stream",
     "text": [
      "/tmp/ipykernel_2712/873016624.py:45: RuntimeWarning: divide by zero encountered in scalar divide\n",
      "  roi_dd_ratio = total_roi / abs(max_drawdown)\n"
     ]
    },
    {
     "name": "stdout",
     "output_type": "stream",
     "text": [
      "n 4, rsi 6, threshold 65, ema 30\n"
     ]
    },
    {
     "name": "stderr",
     "output_type": "stream",
     "text": [
      "/tmp/ipykernel_2712/873016624.py:45: RuntimeWarning: divide by zero encountered in scalar divide\n",
      "  roi_dd_ratio = total_roi / abs(max_drawdown)\n"
     ]
    },
    {
     "name": "stdout",
     "output_type": "stream",
     "text": [
      "n 4, rsi 6, threshold 65, ema 35\n"
     ]
    },
    {
     "name": "stderr",
     "output_type": "stream",
     "text": [
      "/tmp/ipykernel_2712/873016624.py:45: RuntimeWarning: divide by zero encountered in scalar divide\n",
      "  roi_dd_ratio = total_roi / abs(max_drawdown)\n"
     ]
    },
    {
     "name": "stdout",
     "output_type": "stream",
     "text": [
      "n 4, rsi 6, threshold 70, ema 5\n",
      "n 4, rsi 6, threshold 70, ema 10\n",
      "n 4, rsi 6, threshold 70, ema 15\n",
      "n 4, rsi 6, threshold 70, ema 20\n",
      "n 4, rsi 6, threshold 70, ema 25\n",
      "n 4, rsi 6, threshold 70, ema 30\n",
      "n 4, rsi 6, threshold 70, ema 35\n",
      "n 4, rsi 6, threshold 75, ema 5\n",
      "n 4, rsi 6, threshold 75, ema 10\n",
      "n 4, rsi 6, threshold 75, ema 15\n",
      "n 4, rsi 6, threshold 75, ema 20\n",
      "n 4, rsi 6, threshold 75, ema 25\n",
      "n 4, rsi 6, threshold 75, ema 30\n",
      "n 4, rsi 6, threshold 75, ema 35\n",
      "n 4, rsi 6, threshold 80, ema 5\n",
      "n 4, rsi 6, threshold 80, ema 10\n",
      "n 4, rsi 6, threshold 80, ema 15\n",
      "n 4, rsi 6, threshold 80, ema 20\n",
      "n 4, rsi 6, threshold 80, ema 25\n",
      "n 4, rsi 6, threshold 80, ema 30\n",
      "n 4, rsi 6, threshold 80, ema 35\n",
      "n 4, rsi 12, threshold 30, ema 5\n",
      "n 4, rsi 12, threshold 30, ema 10\n",
      "n 4, rsi 12, threshold 30, ema 15\n",
      "n 4, rsi 12, threshold 30, ema 20\n",
      "n 4, rsi 12, threshold 30, ema 25\n",
      "n 4, rsi 12, threshold 30, ema 30\n",
      "n 4, rsi 12, threshold 30, ema 35\n",
      "n 4, rsi 12, threshold 35, ema 5\n",
      "n 4, rsi 12, threshold 35, ema 10\n",
      "n 4, rsi 12, threshold 35, ema 15\n",
      "n 4, rsi 12, threshold 35, ema 20\n",
      "n 4, rsi 12, threshold 35, ema 25\n",
      "n 4, rsi 12, threshold 35, ema 30\n",
      "n 4, rsi 12, threshold 35, ema 35\n",
      "n 4, rsi 12, threshold 40, ema 5\n",
      "n 4, rsi 12, threshold 40, ema 10\n",
      "n 4, rsi 12, threshold 40, ema 15\n",
      "n 4, rsi 12, threshold 40, ema 20\n",
      "n 4, rsi 12, threshold 40, ema 25\n",
      "n 4, rsi 12, threshold 40, ema 30\n",
      "n 4, rsi 12, threshold 40, ema 35\n",
      "n 4, rsi 12, threshold 45, ema 5\n",
      "n 4, rsi 12, threshold 45, ema 10\n",
      "n 4, rsi 12, threshold 45, ema 15\n",
      "n 4, rsi 12, threshold 45, ema 20\n",
      "n 4, rsi 12, threshold 45, ema 25\n",
      "n 4, rsi 12, threshold 45, ema 30\n",
      "n 4, rsi 12, threshold 45, ema 35\n",
      "n 4, rsi 12, threshold 50, ema 5\n",
      "n 4, rsi 12, threshold 50, ema 10\n",
      "n 4, rsi 12, threshold 50, ema 15\n",
      "n 4, rsi 12, threshold 50, ema 20\n",
      "n 4, rsi 12, threshold 50, ema 25\n",
      "n 4, rsi 12, threshold 50, ema 30\n",
      "n 4, rsi 12, threshold 50, ema 35\n",
      "n 4, rsi 12, threshold 55, ema 5\n",
      "n 4, rsi 12, threshold 55, ema 10\n",
      "n 4, rsi 12, threshold 55, ema 15\n",
      "n 4, rsi 12, threshold 55, ema 20\n",
      "n 4, rsi 12, threshold 55, ema 25\n",
      "n 4, rsi 12, threshold 55, ema 30\n",
      "n 4, rsi 12, threshold 55, ema 35\n",
      "n 4, rsi 12, threshold 60, ema 5\n",
      "n 4, rsi 12, threshold 60, ema 10\n",
      "n 4, rsi 12, threshold 60, ema 15\n",
      "n 4, rsi 12, threshold 60, ema 20\n",
      "n 4, rsi 12, threshold 60, ema 25\n",
      "n 4, rsi 12, threshold 60, ema 30\n",
      "n 4, rsi 12, threshold 60, ema 35\n",
      "n 4, rsi 12, threshold 65, ema 5\n"
     ]
    },
    {
     "name": "stderr",
     "output_type": "stream",
     "text": [
      "/tmp/ipykernel_2712/873016624.py:45: RuntimeWarning: divide by zero encountered in scalar divide\n",
      "  roi_dd_ratio = total_roi / abs(max_drawdown)\n"
     ]
    },
    {
     "name": "stdout",
     "output_type": "stream",
     "text": [
      "n 4, rsi 12, threshold 65, ema 10\n"
     ]
    },
    {
     "name": "stderr",
     "output_type": "stream",
     "text": [
      "/tmp/ipykernel_2712/873016624.py:45: RuntimeWarning: divide by zero encountered in scalar divide\n",
      "  roi_dd_ratio = total_roi / abs(max_drawdown)\n"
     ]
    },
    {
     "name": "stdout",
     "output_type": "stream",
     "text": [
      "n 4, rsi 12, threshold 65, ema 15\n"
     ]
    },
    {
     "name": "stderr",
     "output_type": "stream",
     "text": [
      "/tmp/ipykernel_2712/873016624.py:45: RuntimeWarning: divide by zero encountered in scalar divide\n",
      "  roi_dd_ratio = total_roi / abs(max_drawdown)\n"
     ]
    },
    {
     "name": "stdout",
     "output_type": "stream",
     "text": [
      "n 4, rsi 12, threshold 65, ema 20\n"
     ]
    },
    {
     "name": "stderr",
     "output_type": "stream",
     "text": [
      "/tmp/ipykernel_2712/873016624.py:45: RuntimeWarning: divide by zero encountered in scalar divide\n",
      "  roi_dd_ratio = total_roi / abs(max_drawdown)\n"
     ]
    },
    {
     "name": "stdout",
     "output_type": "stream",
     "text": [
      "n 4, rsi 12, threshold 65, ema 25\n"
     ]
    },
    {
     "name": "stderr",
     "output_type": "stream",
     "text": [
      "/tmp/ipykernel_2712/873016624.py:45: RuntimeWarning: divide by zero encountered in scalar divide\n",
      "  roi_dd_ratio = total_roi / abs(max_drawdown)\n"
     ]
    },
    {
     "name": "stdout",
     "output_type": "stream",
     "text": [
      "n 4, rsi 12, threshold 65, ema 30\n"
     ]
    },
    {
     "name": "stderr",
     "output_type": "stream",
     "text": [
      "/tmp/ipykernel_2712/873016624.py:45: RuntimeWarning: divide by zero encountered in scalar divide\n",
      "  roi_dd_ratio = total_roi / abs(max_drawdown)\n"
     ]
    },
    {
     "name": "stdout",
     "output_type": "stream",
     "text": [
      "n 4, rsi 12, threshold 65, ema 35\n"
     ]
    },
    {
     "name": "stderr",
     "output_type": "stream",
     "text": [
      "/tmp/ipykernel_2712/873016624.py:45: RuntimeWarning: divide by zero encountered in scalar divide\n",
      "  roi_dd_ratio = total_roi / abs(max_drawdown)\n"
     ]
    },
    {
     "name": "stdout",
     "output_type": "stream",
     "text": [
      "n 4, rsi 12, threshold 70, ema 5\n"
     ]
    },
    {
     "name": "stderr",
     "output_type": "stream",
     "text": [
      "/tmp/ipykernel_2712/873016624.py:45: RuntimeWarning: divide by zero encountered in scalar divide\n",
      "  roi_dd_ratio = total_roi / abs(max_drawdown)\n"
     ]
    },
    {
     "name": "stdout",
     "output_type": "stream",
     "text": [
      "n 4, rsi 12, threshold 70, ema 10\n"
     ]
    },
    {
     "name": "stderr",
     "output_type": "stream",
     "text": [
      "/tmp/ipykernel_2712/873016624.py:45: RuntimeWarning: divide by zero encountered in scalar divide\n",
      "  roi_dd_ratio = total_roi / abs(max_drawdown)\n"
     ]
    },
    {
     "name": "stdout",
     "output_type": "stream",
     "text": [
      "n 4, rsi 12, threshold 70, ema 15\n"
     ]
    },
    {
     "name": "stderr",
     "output_type": "stream",
     "text": [
      "/tmp/ipykernel_2712/873016624.py:45: RuntimeWarning: divide by zero encountered in scalar divide\n",
      "  roi_dd_ratio = total_roi / abs(max_drawdown)\n"
     ]
    },
    {
     "name": "stdout",
     "output_type": "stream",
     "text": [
      "n 4, rsi 12, threshold 70, ema 20\n"
     ]
    },
    {
     "name": "stderr",
     "output_type": "stream",
     "text": [
      "/tmp/ipykernel_2712/873016624.py:45: RuntimeWarning: divide by zero encountered in scalar divide\n",
      "  roi_dd_ratio = total_roi / abs(max_drawdown)\n"
     ]
    },
    {
     "name": "stdout",
     "output_type": "stream",
     "text": [
      "n 4, rsi 12, threshold 70, ema 25\n"
     ]
    },
    {
     "name": "stderr",
     "output_type": "stream",
     "text": [
      "/tmp/ipykernel_2712/873016624.py:45: RuntimeWarning: divide by zero encountered in scalar divide\n",
      "  roi_dd_ratio = total_roi / abs(max_drawdown)\n"
     ]
    },
    {
     "name": "stdout",
     "output_type": "stream",
     "text": [
      "n 4, rsi 12, threshold 70, ema 30\n"
     ]
    },
    {
     "name": "stderr",
     "output_type": "stream",
     "text": [
      "/tmp/ipykernel_2712/873016624.py:45: RuntimeWarning: divide by zero encountered in scalar divide\n",
      "  roi_dd_ratio = total_roi / abs(max_drawdown)\n"
     ]
    },
    {
     "name": "stdout",
     "output_type": "stream",
     "text": [
      "n 4, rsi 12, threshold 70, ema 35\n"
     ]
    },
    {
     "name": "stderr",
     "output_type": "stream",
     "text": [
      "/tmp/ipykernel_2712/873016624.py:45: RuntimeWarning: divide by zero encountered in scalar divide\n",
      "  roi_dd_ratio = total_roi / abs(max_drawdown)\n"
     ]
    },
    {
     "name": "stdout",
     "output_type": "stream",
     "text": [
      "n 4, rsi 12, threshold 75, ema 5\n",
      "n 4, rsi 12, threshold 75, ema 10\n",
      "n 4, rsi 12, threshold 75, ema 15\n",
      "n 4, rsi 12, threshold 75, ema 20\n",
      "n 4, rsi 12, threshold 75, ema 25\n",
      "n 4, rsi 12, threshold 75, ema 30\n",
      "n 4, rsi 12, threshold 75, ema 35\n",
      "n 4, rsi 12, threshold 80, ema 5\n",
      "n 4, rsi 12, threshold 80, ema 10\n",
      "n 4, rsi 12, threshold 80, ema 15\n",
      "n 4, rsi 12, threshold 80, ema 20\n",
      "n 4, rsi 12, threshold 80, ema 25\n",
      "n 4, rsi 12, threshold 80, ema 30\n",
      "n 4, rsi 12, threshold 80, ema 35\n",
      "n 4, rsi 16, threshold 30, ema 5\n",
      "n 4, rsi 16, threshold 30, ema 10\n",
      "n 4, rsi 16, threshold 30, ema 15\n",
      "n 4, rsi 16, threshold 30, ema 20\n",
      "n 4, rsi 16, threshold 30, ema 25\n",
      "n 4, rsi 16, threshold 30, ema 30\n",
      "n 4, rsi 16, threshold 30, ema 35\n",
      "n 4, rsi 16, threshold 35, ema 5\n",
      "n 4, rsi 16, threshold 35, ema 10\n",
      "n 4, rsi 16, threshold 35, ema 15\n",
      "n 4, rsi 16, threshold 35, ema 20\n",
      "n 4, rsi 16, threshold 35, ema 25\n",
      "n 4, rsi 16, threshold 35, ema 30\n",
      "n 4, rsi 16, threshold 35, ema 35\n",
      "n 4, rsi 16, threshold 40, ema 5\n",
      "n 4, rsi 16, threshold 40, ema 10\n",
      "n 4, rsi 16, threshold 40, ema 15\n",
      "n 4, rsi 16, threshold 40, ema 20\n",
      "n 4, rsi 16, threshold 40, ema 25\n",
      "n 4, rsi 16, threshold 40, ema 30\n",
      "n 4, rsi 16, threshold 40, ema 35\n",
      "n 4, rsi 16, threshold 45, ema 5\n",
      "n 4, rsi 16, threshold 45, ema 10\n",
      "n 4, rsi 16, threshold 45, ema 15\n",
      "n 4, rsi 16, threshold 45, ema 20\n",
      "n 4, rsi 16, threshold 45, ema 25\n",
      "n 4, rsi 16, threshold 45, ema 30\n",
      "n 4, rsi 16, threshold 45, ema 35\n",
      "n 4, rsi 16, threshold 50, ema 5\n",
      "n 4, rsi 16, threshold 50, ema 10\n",
      "n 4, rsi 16, threshold 50, ema 15\n",
      "n 4, rsi 16, threshold 50, ema 20\n",
      "n 4, rsi 16, threshold 50, ema 25\n",
      "n 4, rsi 16, threshold 50, ema 30\n",
      "n 4, rsi 16, threshold 50, ema 35\n",
      "n 4, rsi 16, threshold 55, ema 5\n",
      "n 4, rsi 16, threshold 55, ema 10\n",
      "n 4, rsi 16, threshold 55, ema 15\n",
      "n 4, rsi 16, threshold 55, ema 20\n",
      "n 4, rsi 16, threshold 55, ema 25\n",
      "n 4, rsi 16, threshold 55, ema 30\n",
      "n 4, rsi 16, threshold 55, ema 35\n",
      "n 4, rsi 16, threshold 60, ema 5\n",
      "n 4, rsi 16, threshold 60, ema 10\n",
      "n 4, rsi 16, threshold 60, ema 15\n",
      "n 4, rsi 16, threshold 60, ema 20\n",
      "n 4, rsi 16, threshold 60, ema 25\n",
      "n 4, rsi 16, threshold 60, ema 30\n",
      "n 4, rsi 16, threshold 60, ema 35\n",
      "n 4, rsi 16, threshold 65, ema 5\n"
     ]
    },
    {
     "name": "stderr",
     "output_type": "stream",
     "text": [
      "/tmp/ipykernel_2712/873016624.py:45: RuntimeWarning: divide by zero encountered in scalar divide\n",
      "  roi_dd_ratio = total_roi / abs(max_drawdown)\n"
     ]
    },
    {
     "name": "stdout",
     "output_type": "stream",
     "text": [
      "n 4, rsi 16, threshold 65, ema 10\n"
     ]
    },
    {
     "name": "stderr",
     "output_type": "stream",
     "text": [
      "/tmp/ipykernel_2712/873016624.py:45: RuntimeWarning: divide by zero encountered in scalar divide\n",
      "  roi_dd_ratio = total_roi / abs(max_drawdown)\n"
     ]
    },
    {
     "name": "stdout",
     "output_type": "stream",
     "text": [
      "n 4, rsi 16, threshold 65, ema 15\n"
     ]
    },
    {
     "name": "stderr",
     "output_type": "stream",
     "text": [
      "/tmp/ipykernel_2712/873016624.py:45: RuntimeWarning: divide by zero encountered in scalar divide\n",
      "  roi_dd_ratio = total_roi / abs(max_drawdown)\n"
     ]
    },
    {
     "name": "stdout",
     "output_type": "stream",
     "text": [
      "n 4, rsi 16, threshold 65, ema 20\n"
     ]
    },
    {
     "name": "stderr",
     "output_type": "stream",
     "text": [
      "/tmp/ipykernel_2712/873016624.py:45: RuntimeWarning: divide by zero encountered in scalar divide\n",
      "  roi_dd_ratio = total_roi / abs(max_drawdown)\n"
     ]
    },
    {
     "name": "stdout",
     "output_type": "stream",
     "text": [
      "n 4, rsi 16, threshold 65, ema 25\n"
     ]
    },
    {
     "name": "stderr",
     "output_type": "stream",
     "text": [
      "/tmp/ipykernel_2712/873016624.py:45: RuntimeWarning: divide by zero encountered in scalar divide\n",
      "  roi_dd_ratio = total_roi / abs(max_drawdown)\n"
     ]
    },
    {
     "name": "stdout",
     "output_type": "stream",
     "text": [
      "n 4, rsi 16, threshold 65, ema 30\n"
     ]
    },
    {
     "name": "stderr",
     "output_type": "stream",
     "text": [
      "/tmp/ipykernel_2712/873016624.py:45: RuntimeWarning: divide by zero encountered in scalar divide\n",
      "  roi_dd_ratio = total_roi / abs(max_drawdown)\n"
     ]
    },
    {
     "name": "stdout",
     "output_type": "stream",
     "text": [
      "n 4, rsi 16, threshold 65, ema 35\n"
     ]
    },
    {
     "name": "stderr",
     "output_type": "stream",
     "text": [
      "/tmp/ipykernel_2712/873016624.py:45: RuntimeWarning: divide by zero encountered in scalar divide\n",
      "  roi_dd_ratio = total_roi / abs(max_drawdown)\n"
     ]
    },
    {
     "name": "stdout",
     "output_type": "stream",
     "text": [
      "n 4, rsi 16, threshold 70, ema 5\n"
     ]
    },
    {
     "name": "stderr",
     "output_type": "stream",
     "text": [
      "/tmp/ipykernel_2712/873016624.py:45: RuntimeWarning: divide by zero encountered in scalar divide\n",
      "  roi_dd_ratio = total_roi / abs(max_drawdown)\n"
     ]
    },
    {
     "name": "stdout",
     "output_type": "stream",
     "text": [
      "        Total ROI Total Trades Win Rate Avg Profit% per Trade Avg Loss% per Trade Max Drawdown ROI/DD Ratio                         Variation\n",
      "2018       0.0000            0      NaN                   NaN                 NaN          NaN          NaN  n 4, rsi 16, threshold 70, ema 5\n",
      "2019       3.4434            2  50.0000                3.5790             -0.1356      -0.1356      25.3990  n 4, rsi 16, threshold 70, ema 5\n",
      "2020       0.8918            1 100.0000                0.8918                 NaN       0.0000          inf  n 4, rsi 16, threshold 70, ema 5\n",
      "2021       0.0000            0      NaN                   NaN                 NaN          NaN          NaN  n 4, rsi 16, threshold 70, ema 5\n",
      "2022       0.0000            0      NaN                   NaN                 NaN          NaN          NaN  n 4, rsi 16, threshold 70, ema 5\n",
      "2023       0.0000            0      NaN                   NaN                 NaN          NaN          NaN  n 4, rsi 16, threshold 70, ema 5\n",
      "2024       0.0000            0      NaN                   NaN                 NaN          NaN          NaN  n 4, rsi 16, threshold 70, ema 5\n",
      "Overall    4.3353            3  66.6667                2.2354             -0.1356      -0.1356      31.9773  n 4, rsi 16, threshold 70, ema 5\n",
      "n 4, rsi 16, threshold 70, ema 10\n"
     ]
    },
    {
     "name": "stderr",
     "output_type": "stream",
     "text": [
      "/tmp/ipykernel_2712/873016624.py:45: RuntimeWarning: divide by zero encountered in scalar divide\n",
      "  roi_dd_ratio = total_roi / abs(max_drawdown)\n"
     ]
    },
    {
     "name": "stdout",
     "output_type": "stream",
     "text": [
      "        Total ROI Total Trades Win Rate Avg Profit% per Trade Avg Loss% per Trade Max Drawdown ROI/DD Ratio                          Variation\n",
      "2018       0.0000            0      NaN                   NaN                 NaN          NaN          NaN  n 4, rsi 16, threshold 70, ema 10\n",
      "2019       1.4273            2  50.0000                1.5629             -0.1356      -0.1356      10.5277  n 4, rsi 16, threshold 70, ema 10\n",
      "2020       0.8918            1 100.0000                0.8918                 NaN       0.0000          inf  n 4, rsi 16, threshold 70, ema 10\n",
      "2021       0.0000            0      NaN                   NaN                 NaN          NaN          NaN  n 4, rsi 16, threshold 70, ema 10\n",
      "2022       0.0000            0      NaN                   NaN                 NaN          NaN          NaN  n 4, rsi 16, threshold 70, ema 10\n",
      "2023       0.0000            0      NaN                   NaN                 NaN          NaN          NaN  n 4, rsi 16, threshold 70, ema 10\n",
      "2024       0.0000            0      NaN                   NaN                 NaN          NaN          NaN  n 4, rsi 16, threshold 70, ema 10\n",
      "Overall    2.3191            3  66.6667                1.2274             -0.1356      -0.1356      17.1060  n 4, rsi 16, threshold 70, ema 10\n",
      "n 4, rsi 16, threshold 70, ema 15\n"
     ]
    },
    {
     "name": "stderr",
     "output_type": "stream",
     "text": [
      "/tmp/ipykernel_2712/873016624.py:45: RuntimeWarning: divide by zero encountered in scalar divide\n",
      "  roi_dd_ratio = total_roi / abs(max_drawdown)\n"
     ]
    },
    {
     "name": "stdout",
     "output_type": "stream",
     "text": [
      "        Total ROI Total Trades Win Rate Avg Profit% per Trade Avg Loss% per Trade Max Drawdown ROI/DD Ratio                          Variation\n",
      "2018       0.0000            0      NaN                   NaN                 NaN          NaN          NaN  n 4, rsi 16, threshold 70, ema 15\n",
      "2019       1.4273            2  50.0000                1.5629             -0.1356      -0.1356      10.5277  n 4, rsi 16, threshold 70, ema 15\n",
      "2020       0.8918            1 100.0000                0.8918                 NaN       0.0000          inf  n 4, rsi 16, threshold 70, ema 15\n",
      "2021       0.0000            0      NaN                   NaN                 NaN          NaN          NaN  n 4, rsi 16, threshold 70, ema 15\n",
      "2022       0.0000            0      NaN                   NaN                 NaN          NaN          NaN  n 4, rsi 16, threshold 70, ema 15\n",
      "2023       0.0000            0      NaN                   NaN                 NaN          NaN          NaN  n 4, rsi 16, threshold 70, ema 15\n",
      "2024       0.0000            0      NaN                   NaN                 NaN          NaN          NaN  n 4, rsi 16, threshold 70, ema 15\n",
      "Overall    2.3191            3  66.6667                1.2274             -0.1356      -0.1356      17.1060  n 4, rsi 16, threshold 70, ema 15\n",
      "n 4, rsi 16, threshold 70, ema 20\n"
     ]
    },
    {
     "name": "stderr",
     "output_type": "stream",
     "text": [
      "/tmp/ipykernel_2712/873016624.py:45: RuntimeWarning: divide by zero encountered in scalar divide\n",
      "  roi_dd_ratio = total_roi / abs(max_drawdown)\n"
     ]
    },
    {
     "name": "stdout",
     "output_type": "stream",
     "text": [
      "n 4, rsi 16, threshold 70, ema 25\n"
     ]
    },
    {
     "name": "stderr",
     "output_type": "stream",
     "text": [
      "/tmp/ipykernel_2712/873016624.py:45: RuntimeWarning: divide by zero encountered in scalar divide\n",
      "  roi_dd_ratio = total_roi / abs(max_drawdown)\n"
     ]
    },
    {
     "name": "stdout",
     "output_type": "stream",
     "text": [
      "n 4, rsi 16, threshold 70, ema 30\n"
     ]
    },
    {
     "name": "stderr",
     "output_type": "stream",
     "text": [
      "/tmp/ipykernel_2712/873016624.py:45: RuntimeWarning: divide by zero encountered in scalar divide\n",
      "  roi_dd_ratio = total_roi / abs(max_drawdown)\n"
     ]
    },
    {
     "name": "stdout",
     "output_type": "stream",
     "text": [
      "n 4, rsi 16, threshold 70, ema 35\n"
     ]
    },
    {
     "name": "stderr",
     "output_type": "stream",
     "text": [
      "/tmp/ipykernel_2712/873016624.py:45: RuntimeWarning: divide by zero encountered in scalar divide\n",
      "  roi_dd_ratio = total_roi / abs(max_drawdown)\n"
     ]
    },
    {
     "name": "stdout",
     "output_type": "stream",
     "text": [
      "n 4, rsi 16, threshold 75, ema 5\n",
      "n 4, rsi 16, threshold 75, ema 10\n",
      "n 4, rsi 16, threshold 75, ema 15\n",
      "n 4, rsi 16, threshold 75, ema 20\n",
      "n 4, rsi 16, threshold 75, ema 25\n",
      "n 4, rsi 16, threshold 75, ema 30\n",
      "n 4, rsi 16, threshold 75, ema 35\n",
      "n 4, rsi 16, threshold 80, ema 5\n",
      "n 4, rsi 16, threshold 80, ema 10\n",
      "n 4, rsi 16, threshold 80, ema 15\n",
      "n 4, rsi 16, threshold 80, ema 20\n",
      "n 4, rsi 16, threshold 80, ema 25\n",
      "n 4, rsi 16, threshold 80, ema 30\n",
      "n 4, rsi 16, threshold 80, ema 35\n"
     ]
    }
   ],
   "source": [
    "stats_dictionary = {}\n",
    "rsi_lengths = [14, 9, 21, 6, 12, 16]\n",
    "for i in range(2, 5):\n",
    "    for j in rsi_lengths:\n",
    "        for k in range(30, 81, 5):\n",
    "            for l in range(5, 36, 5):\n",
    "                variation = f'n {i}, rsi {j}, threshold {k}, ema {l}'\n",
    "                print(variation)\n",
    "                tb = backtest_short(bnf_1min, i, j, k, l)\n",
    "                if len(tb) > 0:\n",
    "                    stats = generate_stats(tb, variation)\n",
    "                    for x, y in stats.items():\n",
    "                        if x > 8:\n",
    "                            final_stats = y\n",
    "                            print(final_stats.to_string())\n",
    "                            stats_dictionary[x] = y\n"
   ]
  },
  {
   "cell_type": "code",
   "execution_count": 548,
   "id": "9dd8e149-c3cc-4670-ae46-2114bf9214ab",
   "metadata": {
    "execution": {
     "iopub.execute_input": "2024-12-29T15:17:33.934251Z",
     "iopub.status.busy": "2024-12-29T15:17:33.933746Z",
     "iopub.status.idle": "2024-12-29T15:17:33.965761Z",
     "shell.execute_reply": "2024-12-29T15:17:33.964533Z",
     "shell.execute_reply.started": "2024-12-29T15:17:33.934229Z"
    },
    "scrolled": true
   },
   "outputs": [
    {
     "data": {
      "text/plain": [
       "{9.625460232986592:         Total ROI Total Trades Win Rate Avg Profit% per Trade  \\\n",
       " 2018       2.6945            2 100.0000                1.3473   \n",
       " 2019      -0.8128            1   0.0000                   NaN   \n",
       " 2020       0.0000            0      NaN                   NaN   \n",
       " 2021       0.0000            0      NaN                   NaN   \n",
       " 2022       6.3437            1 100.0000                6.3437   \n",
       " 2023       0.0000            0      NaN                   NaN   \n",
       " 2024      -0.4016            1   0.0000                   NaN   \n",
       " Overall    7.8238            5  60.0000                3.0127   \n",
       " \n",
       "         Avg Loss% per Trade Max Drawdown ROI/DD Ratio  \\\n",
       " 2018                    NaN       0.0000          inf   \n",
       " 2019                -0.8128       0.0000         -inf   \n",
       " 2020                    NaN          NaN          NaN   \n",
       " 2021                    NaN          NaN          NaN   \n",
       " 2022                    NaN       0.0000          inf   \n",
       " 2023                    NaN          NaN          NaN   \n",
       " 2024                -0.4016       0.0000         -inf   \n",
       " Overall             -0.6072      -0.8128       9.6255   \n",
       " \n",
       "                                  Variation  \n",
       " 2018     n 2, rsi 14, threshold 75, ema 10  \n",
       " 2019     n 2, rsi 14, threshold 75, ema 10  \n",
       " 2020     n 2, rsi 14, threshold 75, ema 10  \n",
       " 2021     n 2, rsi 14, threshold 75, ema 10  \n",
       " 2022     n 2, rsi 14, threshold 75, ema 10  \n",
       " 2023     n 2, rsi 14, threshold 75, ema 10  \n",
       " 2024     n 2, rsi 14, threshold 75, ema 10  \n",
       " Overall  n 2, rsi 14, threshold 75, ema 10  ,\n",
       " inf:         Total ROI Total Trades Win Rate Avg Profit% per Trade  \\\n",
       " 2018       0.0000            0      NaN                   NaN   \n",
       " 2019       0.0000            0      NaN                   NaN   \n",
       " 2020       0.8918            1 100.0000                0.8918   \n",
       " 2021       0.0000            0      NaN                   NaN   \n",
       " 2022       4.2445            2 100.0000                2.1223   \n",
       " 2023       0.0000            0      NaN                   NaN   \n",
       " 2024       0.0000            0      NaN                   NaN   \n",
       " Overall    5.1364            3 100.0000                1.7121   \n",
       " \n",
       "         Avg Loss% per Trade Max Drawdown ROI/DD Ratio  \\\n",
       " 2018                    NaN          NaN          NaN   \n",
       " 2019                    NaN          NaN          NaN   \n",
       " 2020                    NaN       0.0000          inf   \n",
       " 2021                    NaN          NaN          NaN   \n",
       " 2022                    NaN       0.0000          inf   \n",
       " 2023                    NaN          NaN          NaN   \n",
       " 2024                    NaN          NaN          NaN   \n",
       " Overall                 NaN       0.0000          inf   \n",
       " \n",
       "                                Variation  \n",
       " 2018     n 4, rsi 9, threshold 70, ema 5  \n",
       " 2019     n 4, rsi 9, threshold 70, ema 5  \n",
       " 2020     n 4, rsi 9, threshold 70, ema 5  \n",
       " 2021     n 4, rsi 9, threshold 70, ema 5  \n",
       " 2022     n 4, rsi 9, threshold 70, ema 5  \n",
       " 2023     n 4, rsi 9, threshold 70, ema 5  \n",
       " 2024     n 4, rsi 9, threshold 70, ema 5  \n",
       " Overall  n 4, rsi 9, threshold 70, ema 5  ,\n",
       " 21.503732281347737:         Total ROI Total Trades Win Rate Avg Profit% per Trade  \\\n",
       " 2018       2.6945            2 100.0000                1.3473   \n",
       " 2019       0.0000            0      NaN                   NaN   \n",
       " 2020       0.0000            0      NaN                   NaN   \n",
       " 2021       0.0000            0      NaN                   NaN   \n",
       " 2022       6.3437            1 100.0000                6.3437   \n",
       " 2023       0.0000            0      NaN                   NaN   \n",
       " 2024      -0.4016            1   0.0000                   NaN   \n",
       " Overall    8.6366            4  75.0000                3.0127   \n",
       " \n",
       "         Avg Loss% per Trade Max Drawdown ROI/DD Ratio  \\\n",
       " 2018                    NaN       0.0000          inf   \n",
       " 2019                    NaN          NaN          NaN   \n",
       " 2020                    NaN          NaN          NaN   \n",
       " 2021                    NaN          NaN          NaN   \n",
       " 2022                    NaN       0.0000          inf   \n",
       " 2023                    NaN          NaN          NaN   \n",
       " 2024                -0.4016       0.0000         -inf   \n",
       " Overall             -0.4016      -0.4016      21.5037   \n",
       " \n",
       "                                  Variation  \n",
       " 2018     n 3, rsi 12, threshold 75, ema 10  \n",
       " 2019     n 3, rsi 12, threshold 75, ema 10  \n",
       " 2020     n 3, rsi 12, threshold 75, ema 10  \n",
       " 2021     n 3, rsi 12, threshold 75, ema 10  \n",
       " 2022     n 3, rsi 12, threshold 75, ema 10  \n",
       " 2023     n 3, rsi 12, threshold 75, ema 10  \n",
       " 2024     n 3, rsi 12, threshold 75, ema 10  \n",
       " Overall  n 3, rsi 12, threshold 75, ema 10  ,\n",
       " 12.497122105623989:         Total ROI Total Trades Win Rate Avg Profit% per Trade  \\\n",
       " 2018      -1.6625            2  50.0000                2.2509   \n",
       " 2019       0.0000            0      NaN                   NaN   \n",
       " 2020       0.0000            0      NaN                   NaN   \n",
       " 2021       0.0000            0      NaN                   NaN   \n",
       " 2022       7.0834            1 100.0000                7.0834   \n",
       " 2023       0.0000            0      NaN                   NaN   \n",
       " 2024      -0.4016            1   0.0000                   NaN   \n",
       " Overall    5.0193            4  50.0000                4.6671   \n",
       " \n",
       "         Avg Loss% per Trade Max Drawdown ROI/DD Ratio  \\\n",
       " 2018                -3.9134       0.0000         -inf   \n",
       " 2019                    NaN          NaN          NaN   \n",
       " 2020                    NaN          NaN          NaN   \n",
       " 2021                    NaN          NaN          NaN   \n",
       " 2022                    NaN       0.0000          inf   \n",
       " 2023                    NaN          NaN          NaN   \n",
       " 2024                -0.4016       0.0000         -inf   \n",
       " Overall             -2.1575      -0.4016      12.4971   \n",
       " \n",
       "                                  Variation  \n",
       " 2018     n 3, rsi 12, threshold 75, ema 15  \n",
       " 2019     n 3, rsi 12, threshold 75, ema 15  \n",
       " 2020     n 3, rsi 12, threshold 75, ema 15  \n",
       " 2021     n 3, rsi 12, threshold 75, ema 15  \n",
       " 2022     n 3, rsi 12, threshold 75, ema 15  \n",
       " 2023     n 3, rsi 12, threshold 75, ema 15  \n",
       " 2024     n 3, rsi 12, threshold 75, ema 15  \n",
       " Overall  n 3, rsi 12, threshold 75, ema 15  ,\n",
       " 15.899316442990118:         Total ROI Total Trades Win Rate Avg Profit% per Trade  \\\n",
       " 2018       0.4436            1 100.0000                0.4436   \n",
       " 2019       0.0000            0      NaN                   NaN   \n",
       " 2020       0.0000            0      NaN                   NaN   \n",
       " 2021       0.0000            0      NaN                   NaN   \n",
       " 2022       6.3437            1 100.0000                6.3437   \n",
       " 2023       0.0000            0      NaN                   NaN   \n",
       " 2024      -0.4016            1   0.0000                   NaN   \n",
       " Overall    6.3857            3  66.6667                3.3937   \n",
       " \n",
       "         Avg Loss% per Trade Max Drawdown ROI/DD Ratio  \\\n",
       " 2018                    NaN       0.0000          inf   \n",
       " 2019                    NaN          NaN          NaN   \n",
       " 2020                    NaN          NaN          NaN   \n",
       " 2021                    NaN          NaN          NaN   \n",
       " 2022                    NaN       0.0000          inf   \n",
       " 2023                    NaN          NaN          NaN   \n",
       " 2024                -0.4016       0.0000         -inf   \n",
       " Overall             -0.4016      -0.4016      15.8993   \n",
       " \n",
       "                                 Variation  \n",
       " 2018     n 3, rsi 6, threshold 75, ema 10  \n",
       " 2019     n 3, rsi 6, threshold 75, ema 10  \n",
       " 2020     n 3, rsi 6, threshold 75, ema 10  \n",
       " 2021     n 3, rsi 6, threshold 75, ema 10  \n",
       " 2022     n 3, rsi 6, threshold 75, ema 10  \n",
       " 2023     n 3, rsi 6, threshold 75, ema 10  \n",
       " 2024     n 3, rsi 6, threshold 75, ema 10  \n",
       " Overall  n 3, rsi 6, threshold 75, ema 10  ,\n",
       " 31.990825181012454:         Total ROI Total Trades Win Rate Avg Profit% per Trade  \\\n",
       " 2018       0.0000            0      NaN                   NaN   \n",
       " 2019       3.4434            2  50.0000                3.5790   \n",
       " 2020       0.8918            1 100.0000                0.8918   \n",
       " 2021       0.0000            0      NaN                   NaN   \n",
       " 2022       0.0000            0      NaN                   NaN   \n",
       " 2023       0.0018            1 100.0000                0.0018   \n",
       " 2024       0.0000            0      NaN                   NaN   \n",
       " Overall    4.3371            4  75.0000                1.4909   \n",
       " \n",
       "         Avg Loss% per Trade Max Drawdown ROI/DD Ratio  \\\n",
       " 2018                    NaN          NaN          NaN   \n",
       " 2019                -0.1356      -0.1356      25.3990   \n",
       " 2020                    NaN       0.0000          inf   \n",
       " 2021                    NaN          NaN          NaN   \n",
       " 2022                    NaN          NaN          NaN   \n",
       " 2023                    NaN       0.0000          inf   \n",
       " 2024                    NaN          NaN          NaN   \n",
       " Overall             -0.1356      -0.1356      31.9908   \n",
       " \n",
       "                                 Variation  \n",
       " 2018     n 4, rsi 21, threshold 70, ema 5  \n",
       " 2019     n 4, rsi 21, threshold 70, ema 5  \n",
       " 2020     n 4, rsi 21, threshold 70, ema 5  \n",
       " 2021     n 4, rsi 21, threshold 70, ema 5  \n",
       " 2022     n 4, rsi 21, threshold 70, ema 5  \n",
       " 2023     n 4, rsi 21, threshold 70, ema 5  \n",
       " 2024     n 4, rsi 21, threshold 70, ema 5  \n",
       " Overall  n 4, rsi 21, threshold 70, ema 5  ,\n",
       " 17.11956036808624:         Total ROI Total Trades Win Rate Avg Profit% per Trade  \\\n",
       " 2018       0.0000            0      NaN                   NaN   \n",
       " 2019       1.4273            2  50.0000                1.5629   \n",
       " 2020       0.8918            1 100.0000                0.8918   \n",
       " 2021       0.0000            0      NaN                   NaN   \n",
       " 2022       0.0000            0      NaN                   NaN   \n",
       " 2023       0.0018            1 100.0000                0.0018   \n",
       " 2024       0.0000            0      NaN                   NaN   \n",
       " Overall    2.3210            4  75.0000                0.8188   \n",
       " \n",
       "         Avg Loss% per Trade Max Drawdown ROI/DD Ratio  \\\n",
       " 2018                    NaN          NaN          NaN   \n",
       " 2019                -0.1356      -0.1356      10.5277   \n",
       " 2020                    NaN       0.0000          inf   \n",
       " 2021                    NaN          NaN          NaN   \n",
       " 2022                    NaN          NaN          NaN   \n",
       " 2023                    NaN       0.0000          inf   \n",
       " 2024                    NaN          NaN          NaN   \n",
       " Overall             -0.1356      -0.1356      17.1196   \n",
       " \n",
       "                                  Variation  \n",
       " 2018     n 4, rsi 21, threshold 70, ema 10  \n",
       " 2019     n 4, rsi 21, threshold 70, ema 10  \n",
       " 2020     n 4, rsi 21, threshold 70, ema 10  \n",
       " 2021     n 4, rsi 21, threshold 70, ema 10  \n",
       " 2022     n 4, rsi 21, threshold 70, ema 10  \n",
       " 2023     n 4, rsi 21, threshold 70, ema 10  \n",
       " 2024     n 4, rsi 21, threshold 70, ema 10  \n",
       " Overall  n 4, rsi 21, threshold 70, ema 10  ,\n",
       " 17.806984437450176:         Total ROI Total Trades Win Rate Avg Profit% per Trade  \\\n",
       " 2018       0.0000            0      NaN                   NaN   \n",
       " 2019       1.4273            2  50.0000                1.5629   \n",
       " 2020       0.8918            1 100.0000                0.8918   \n",
       " 2021       0.0000            0      NaN                   NaN   \n",
       " 2022       0.0000            0      NaN                   NaN   \n",
       " 2023       0.0950            1 100.0000                0.0950   \n",
       " 2024       0.0000            0      NaN                   NaN   \n",
       " Overall    2.4142            4  75.0000                0.8499   \n",
       " \n",
       "         Avg Loss% per Trade Max Drawdown ROI/DD Ratio  \\\n",
       " 2018                    NaN          NaN          NaN   \n",
       " 2019                -0.1356      -0.1356      10.5277   \n",
       " 2020                    NaN       0.0000          inf   \n",
       " 2021                    NaN          NaN          NaN   \n",
       " 2022                    NaN          NaN          NaN   \n",
       " 2023                    NaN       0.0000          inf   \n",
       " 2024                    NaN          NaN          NaN   \n",
       " Overall             -0.1356      -0.1356      17.8070   \n",
       " \n",
       "                                  Variation  \n",
       " 2018     n 4, rsi 21, threshold 70, ema 15  \n",
       " 2019     n 4, rsi 21, threshold 70, ema 15  \n",
       " 2020     n 4, rsi 21, threshold 70, ema 15  \n",
       " 2021     n 4, rsi 21, threshold 70, ema 15  \n",
       " 2022     n 4, rsi 21, threshold 70, ema 15  \n",
       " 2023     n 4, rsi 21, threshold 70, ema 15  \n",
       " 2024     n 4, rsi 21, threshold 70, ema 15  \n",
       " Overall  n 4, rsi 21, threshold 70, ema 15  ,\n",
       " 31.977287423132143:         Total ROI Total Trades Win Rate Avg Profit% per Trade  \\\n",
       " 2018       0.0000            0      NaN                   NaN   \n",
       " 2019       3.4434            2  50.0000                3.5790   \n",
       " 2020       0.8918            1 100.0000                0.8918   \n",
       " 2021       0.0000            0      NaN                   NaN   \n",
       " 2022       0.0000            0      NaN                   NaN   \n",
       " 2023       0.0000            0      NaN                   NaN   \n",
       " 2024       0.0000            0      NaN                   NaN   \n",
       " Overall    4.3353            3  66.6667                2.2354   \n",
       " \n",
       "         Avg Loss% per Trade Max Drawdown ROI/DD Ratio  \\\n",
       " 2018                    NaN          NaN          NaN   \n",
       " 2019                -0.1356      -0.1356      25.3990   \n",
       " 2020                    NaN       0.0000          inf   \n",
       " 2021                    NaN          NaN          NaN   \n",
       " 2022                    NaN          NaN          NaN   \n",
       " 2023                    NaN          NaN          NaN   \n",
       " 2024                    NaN          NaN          NaN   \n",
       " Overall             -0.1356      -0.1356      31.9773   \n",
       " \n",
       "                                 Variation  \n",
       " 2018     n 4, rsi 16, threshold 70, ema 5  \n",
       " 2019     n 4, rsi 16, threshold 70, ema 5  \n",
       " 2020     n 4, rsi 16, threshold 70, ema 5  \n",
       " 2021     n 4, rsi 16, threshold 70, ema 5  \n",
       " 2022     n 4, rsi 16, threshold 70, ema 5  \n",
       " 2023     n 4, rsi 16, threshold 70, ema 5  \n",
       " 2024     n 4, rsi 16, threshold 70, ema 5  \n",
       " Overall  n 4, rsi 16, threshold 70, ema 5  ,\n",
       " 17.106022610205933:         Total ROI Total Trades Win Rate Avg Profit% per Trade  \\\n",
       " 2018       0.0000            0      NaN                   NaN   \n",
       " 2019       1.4273            2  50.0000                1.5629   \n",
       " 2020       0.8918            1 100.0000                0.8918   \n",
       " 2021       0.0000            0      NaN                   NaN   \n",
       " 2022       0.0000            0      NaN                   NaN   \n",
       " 2023       0.0000            0      NaN                   NaN   \n",
       " 2024       0.0000            0      NaN                   NaN   \n",
       " Overall    2.3191            3  66.6667                1.2274   \n",
       " \n",
       "         Avg Loss% per Trade Max Drawdown ROI/DD Ratio  \\\n",
       " 2018                    NaN          NaN          NaN   \n",
       " 2019                -0.1356      -0.1356      10.5277   \n",
       " 2020                    NaN       0.0000          inf   \n",
       " 2021                    NaN          NaN          NaN   \n",
       " 2022                    NaN          NaN          NaN   \n",
       " 2023                    NaN          NaN          NaN   \n",
       " 2024                    NaN          NaN          NaN   \n",
       " Overall             -0.1356      -0.1356      17.1060   \n",
       " \n",
       "                                  Variation  \n",
       " 2018     n 4, rsi 16, threshold 70, ema 15  \n",
       " 2019     n 4, rsi 16, threshold 70, ema 15  \n",
       " 2020     n 4, rsi 16, threshold 70, ema 15  \n",
       " 2021     n 4, rsi 16, threshold 70, ema 15  \n",
       " 2022     n 4, rsi 16, threshold 70, ema 15  \n",
       " 2023     n 4, rsi 16, threshold 70, ema 15  \n",
       " 2024     n 4, rsi 16, threshold 70, ema 15  \n",
       " Overall  n 4, rsi 16, threshold 70, ema 15  }"
      ]
     },
     "execution_count": 548,
     "metadata": {},
     "output_type": "execute_result"
    }
   ],
   "source": [
    "stats_dictionary"
   ]
  },
  {
   "cell_type": "code",
   "execution_count": null,
   "id": "20e2bb68-9c34-4817-9f46-bdc3db06ea4d",
   "metadata": {},
   "outputs": [],
   "source": []
  }
 ],
 "metadata": {
  "kernelspec": {
   "display_name": "Python 3 (ipykernel)",
   "language": "python",
   "name": "python3"
  },
  "language_info": {
   "codemirror_mode": {
    "name": "ipython",
    "version": 3
   },
   "file_extension": ".py",
   "mimetype": "text/x-python",
   "name": "python",
   "nbconvert_exporter": "python",
   "pygments_lexer": "ipython3",
   "version": "3.11.6"
  }
 },
 "nbformat": 4,
 "nbformat_minor": 5
}
