{
 "cells": [
  {
   "cell_type": "code",
   "execution_count": 1,
   "id": "9d2b7737-29c0-4e9c-81be-22f308a58551",
   "metadata": {
    "execution": {
     "iopub.execute_input": "2024-12-29T14:07:36.775020Z",
     "iopub.status.busy": "2024-12-29T14:07:36.774437Z",
     "iopub.status.idle": "2024-12-29T14:07:37.816771Z",
     "shell.execute_reply": "2024-12-29T14:07:37.815371Z",
     "shell.execute_reply.started": "2024-12-29T14:07:36.774999Z"
    }
   },
   "outputs": [],
   "source": [
    "import asyncio\n",
    "import datetime as dt\n",
    "import math\n",
    "from typing import Literal\n",
    "\n",
    "import matplotlib.pyplot as plt\n",
    "import mplfinance as mpf\n",
    "import numpy as np\n",
    "import pandas as pd\n",
    "import pandas_market_calendars as mcal\n",
    "import plotly.graph_objects as go\n",
    "import polars as pl\n",
    "from dash import Dash, dcc, html\n",
    "from plotly.subplots import make_subplots\n",
    "\n",
    "nse = mcal.get_calendar(\"NSE\")"
   ]
  },
  {
   "cell_type": "code",
   "execution_count": 2,
   "id": "122c4272-78d2-402b-8130-c4551b666fd9",
   "metadata": {
    "execution": {
     "iopub.execute_input": "2024-12-29T14:07:37.818535Z",
     "iopub.status.busy": "2024-12-29T14:07:37.818235Z",
     "iopub.status.idle": "2024-12-29T14:07:37.823806Z",
     "shell.execute_reply": "2024-12-29T14:07:37.822798Z",
     "shell.execute_reply.started": "2024-12-29T14:07:37.818518Z"
    }
   },
   "outputs": [],
   "source": [
    "pd.set_option(\"display.max_rows\", 25_000)\n",
    "pd.set_option(\"display.max_columns\", 500)\n",
    "pl.Config.set_tbl_cols(500)\n",
    "pl.Config.set_tbl_rows(10_000)\n",
    "\n",
    "pd.options.display.float_format = \"{:.4f}\".format"
   ]
  },
  {
   "cell_type": "code",
   "execution_count": 3,
   "id": "51a40e28-776d-4d4f-943c-360eaa4a03a4",
   "metadata": {
    "execution": {
     "iopub.execute_input": "2024-12-29T14:07:37.825197Z",
     "iopub.status.busy": "2024-12-29T14:07:37.824808Z",
     "iopub.status.idle": "2024-12-29T14:07:38.052267Z",
     "shell.execute_reply": "2024-12-29T14:07:38.051135Z",
     "shell.execute_reply.started": "2024-12-29T14:07:37.825179Z"
    }
   },
   "outputs": [],
   "source": [
    "import sys\n",
    "\n",
    "sys.path.append(\"..\")\n",
    "from tooling.enums import AssetClass, Index, Spot, StrikeSpread\n",
    "from tooling.fetch import fetch_option_data, fetch_spot_data\n",
    "from tooling.filter import find_atm, option_tool"
   ]
  },
  {
   "cell_type": "code",
   "execution_count": 4,
   "id": "3214a842-62b8-4f5b-9d0a-867108139d2b",
   "metadata": {
    "execution": {
     "iopub.execute_input": "2024-12-29T14:07:38.054236Z",
     "iopub.status.busy": "2024-12-29T14:07:38.054037Z",
     "iopub.status.idle": "2024-12-29T14:07:38.068188Z",
     "shell.execute_reply": "2024-12-29T14:07:38.067063Z",
     "shell.execute_reply.started": "2024-12-29T14:07:38.054219Z"
    }
   },
   "outputs": [],
   "source": [
    "async def get_expiry(f_today, index):\n",
    "\n",
    "    if index == 'bnf':    \n",
    "        if (f_today <= dt.date(2024, 1, 25)) and (f_today >= dt.date(2024, 1, 18)):\n",
    "            f_expiry = dt.date(2024, 1, 25)\n",
    "        elif (f_today <= dt.date(2024, 1, 31)) and (f_today >= dt.date(2024, 1, 26)):\n",
    "            f_expiry = dt.date(2024, 1, 31)\n",
    "        elif (f_today <= dt.date(2024, 2, 22)) and (f_today >= dt.date(2024, 2, 29)):\n",
    "            f_expiry = dt.date(2024, 2, 29)\n",
    "        elif (f_today <= dt.date(2024, 3, 25)) and (f_today >= dt.date(2024, 3, 27)):\n",
    "            f_expiry = dt.date(2024, 2, 27)\n",
    "        elif f_today < dt.date(2023, 9, 1):\n",
    "            days_to_thursday = (3 - f_today.weekday()) % 7\n",
    "            nearest_thursday = f_today + dt.timedelta(days=days_to_thursday)\n",
    "            f_expiry = nearest_thursday\n",
    "            if nse.valid_days(start_date=nearest_thursday, end_date=nearest_thursday).empty:\n",
    "                f_expiry = nearest_thursday - dt.timedelta(days=1)\n",
    "        elif f_today >= dt.date(2023, 9, 1):\n",
    "            if f_today.day < 24:\n",
    "                days_to_wednesday = (2 - f_today.weekday()) % 7\n",
    "                nearest_wednesday = f_today + dt.timedelta(days=days_to_wednesday)\n",
    "                f_expiry = nearest_wednesday\n",
    "                if nse.valid_days(\n",
    "                    start_date=nearest_wednesday, end_date=nearest_wednesday\n",
    "                ).empty:\n",
    "                    f_expiry = nearest_wednesday - dt.timedelta(days=1)\n",
    "            else:\n",
    "                days_to_thursday = (3 - f_today.weekday()) % 7\n",
    "                nearest_thursday = f_today + dt.timedelta(days=days_to_thursday)\n",
    "                f_expiry = nearest_thursday\n",
    "                if nse.valid_days(\n",
    "                    start_date=nearest_thursday, end_date=nearest_thursday\n",
    "                ).empty:\n",
    "                    f_expiry = nearest_thursday - dt.timedelta(days=1)\n",
    "        return f_expiry\n",
    "\n",
    "    elif index == 'nifty':\n",
    "        days_to_thursday = (3 - f_today.weekday()) % 7\n",
    "        nearest_thursday = f_today + dt.timedelta(days=days_to_thursday)\n",
    "        f_expiry = nearest_thursday\n",
    "        if nse.valid_days(start_date=nearest_thursday, end_date=nearest_thursday).empty:\n",
    "            f_expiry = nearest_thursday - dt.timedelta(days=1)\n",
    "        return f_expiry\n",
    "\n",
    "    elif index == 'finnifty' or index == 'fnf':\n",
    "        days_to_thursday = (1 - f_today.weekday()) % 7\n",
    "        nearest_thursday = f_today + dt.timedelta(days=days_to_thursday)\n",
    "        f_expiry = nearest_thursday\n",
    "        if nse.valid_days(start_date=nearest_thursday, end_date=nearest_thursday).empty:\n",
    "            f_expiry = nearest_thursday - dt.timedelta(days=1)\n",
    "        return f_expiry\n",
    "\n",
    "    elif index == 'midcpnifty' or index == 'midcp':\n",
    "        days_to_thursday = (0 - f_today.weekday()) % 7\n",
    "        nearest_thursday = f_today + dt.timedelta(days=days_to_thursday)\n",
    "        f_expiry = nearest_thursday\n",
    "        if nse.valid_days(start_date=nearest_thursday, end_date=nearest_thursday).empty:\n",
    "            f_expiry = nearest_thursday - dt.timedelta(days=1)\n",
    "        return f_expiry\n",
    "\n",
    "async def get_expiry_nifty(f_today):\n",
    "\n",
    "    days_to_thursday = (3 - f_today.weekday()) % 7\n",
    "    nearest_thursday = f_today + dt.timedelta(days=days_to_thursday)\n",
    "    f_expiry = nearest_thursday\n",
    "    if nse.valid_days(start_date=nearest_thursday, end_date=nearest_thursday).empty:\n",
    "        f_expiry = nearest_thursday - dt.timedelta(days=1)\n",
    "    return f_expiry\n",
    "\n",
    "\n",
    "async def get_option_contract_name(symbol, strike, expiry, opt_type):\n",
    "    temp = \"0\"\n",
    "    mth = expiry.month\n",
    "\n",
    "    if (expiry + dt.timedelta(days=7)).month != expiry.month:\n",
    "        date_string = expiry.strftime(\"%y%b\").upper()\n",
    "        return f\"{symbol}{date_string}{strike}{opt_type}\"\n",
    "    else:\n",
    "        if expiry.day <= 9:\n",
    "            date_string = f\"{expiry.year - 2000}{mth}{temp}{expiry.day}\"\n",
    "        else:\n",
    "            date_string = f\"{expiry.year - 2000}{mth}{expiry.day}\"\n",
    "        return f\"{symbol}{date_string}{strike}{opt_type}\"\n",
    "\n",
    "\n",
    "def get_option_contract_name2(symbol, strike, expiry, opt_type):\n",
    "    temp = \"0\"\n",
    "    mth = expiry.month\n",
    "\n",
    "    if (expiry + dt.timedelta(days=7)).month != expiry.month:\n",
    "        date_string = expiry.strftime(\"%y%b\").upper()\n",
    "        return f\"{symbol}{date_string}{strike}{opt_type}\"\n",
    "    else:\n",
    "        if expiry.day <= 9:\n",
    "            date_string = f\"{expiry.year - 2000}{mth}{temp}{expiry.day}\"\n",
    "        else:\n",
    "            date_string = f\"{expiry.year - 2000}{mth}{expiry.day}\"\n",
    "        return f\"{symbol}{date_string}{strike}{opt_type}\""
   ]
  },
  {
   "cell_type": "code",
   "execution_count": 5,
   "id": "2e857451-f1ad-41b1-af19-a411065430d2",
   "metadata": {
    "execution": {
     "iopub.execute_input": "2024-12-29T14:07:48.171358Z",
     "iopub.status.busy": "2024-12-29T14:07:48.171020Z",
     "iopub.status.idle": "2024-12-29T14:07:48.310668Z",
     "shell.execute_reply": "2024-12-29T14:07:48.309628Z",
     "shell.execute_reply.started": "2024-12-29T14:07:48.171339Z"
    }
   },
   "outputs": [],
   "source": [
    "bnf_1min = pd.read_csv(\"../data/sensex_30min_tv.csv\")\n",
    "bnf_1min[\"datetime\"] = pd.to_datetime(bnf_1min[\"time\"])\n",
    "bnf_1min = bnf_1min[bnf_1min[\"datetime\"].dt.year >= 2017]"
   ]
  },
  {
   "cell_type": "code",
   "execution_count": 6,
   "id": "48a36159-0175-4478-9873-2b497f0d1b64",
   "metadata": {
    "execution": {
     "iopub.execute_input": "2024-12-29T14:07:48.491569Z",
     "iopub.status.busy": "2024-12-29T14:07:48.490645Z",
     "iopub.status.idle": "2024-12-29T14:07:48.505157Z",
     "shell.execute_reply": "2024-12-29T14:07:48.504043Z",
     "shell.execute_reply.started": "2024-12-29T14:07:48.491540Z"
    }
   },
   "outputs": [
    {
     "data": {
      "text/html": [
       "<div>\n",
       "<style scoped>\n",
       "    .dataframe tbody tr th:only-of-type {\n",
       "        vertical-align: middle;\n",
       "    }\n",
       "\n",
       "    .dataframe tbody tr th {\n",
       "        vertical-align: top;\n",
       "    }\n",
       "\n",
       "    .dataframe thead th {\n",
       "        text-align: right;\n",
       "    }\n",
       "</style>\n",
       "<table border=\"1\" class=\"dataframe\">\n",
       "  <thead>\n",
       "    <tr style=\"text-align: right;\">\n",
       "      <th></th>\n",
       "      <th>time</th>\n",
       "      <th>open</th>\n",
       "      <th>high</th>\n",
       "      <th>low</th>\n",
       "      <th>close</th>\n",
       "      <th>datetime</th>\n",
       "    </tr>\n",
       "  </thead>\n",
       "  <tbody>\n",
       "    <tr>\n",
       "      <th>22323</th>\n",
       "      <td>2024-12-18T13:15:00+05:30</td>\n",
       "      <td>80253.0900</td>\n",
       "      <td>80296.6400</td>\n",
       "      <td>80124.1400</td>\n",
       "      <td>80126.3500</td>\n",
       "      <td>2024-12-18 13:15:00+05:30</td>\n",
       "    </tr>\n",
       "    <tr>\n",
       "      <th>22324</th>\n",
       "      <td>2024-12-18T13:45:00+05:30</td>\n",
       "      <td>80128.2400</td>\n",
       "      <td>80255.3600</td>\n",
       "      <td>80104.3300</td>\n",
       "      <td>80169.5500</td>\n",
       "      <td>2024-12-18 13:45:00+05:30</td>\n",
       "    </tr>\n",
       "    <tr>\n",
       "      <th>22325</th>\n",
       "      <td>2024-12-18T14:15:00+05:30</td>\n",
       "      <td>80174.8200</td>\n",
       "      <td>80220.7400</td>\n",
       "      <td>80083.7900</td>\n",
       "      <td>80131.4000</td>\n",
       "      <td>2024-12-18 14:15:00+05:30</td>\n",
       "    </tr>\n",
       "    <tr>\n",
       "      <th>22326</th>\n",
       "      <td>2024-12-18T14:45:00+05:30</td>\n",
       "      <td>80131.6000</td>\n",
       "      <td>80215.7400</td>\n",
       "      <td>80103.1800</td>\n",
       "      <td>80159.2100</td>\n",
       "      <td>2024-12-18 14:45:00+05:30</td>\n",
       "    </tr>\n",
       "    <tr>\n",
       "      <th>22327</th>\n",
       "      <td>2024-12-18T15:15:00+05:30</td>\n",
       "      <td>80158.8000</td>\n",
       "      <td>80253.1700</td>\n",
       "      <td>80156.2800</td>\n",
       "      <td>80239.7800</td>\n",
       "      <td>2024-12-18 15:15:00+05:30</td>\n",
       "    </tr>\n",
       "  </tbody>\n",
       "</table>\n",
       "</div>"
      ],
      "text/plain": [
       "                            time       open       high        low      close  \\\n",
       "22323  2024-12-18T13:15:00+05:30 80253.0900 80296.6400 80124.1400 80126.3500   \n",
       "22324  2024-12-18T13:45:00+05:30 80128.2400 80255.3600 80104.3300 80169.5500   \n",
       "22325  2024-12-18T14:15:00+05:30 80174.8200 80220.7400 80083.7900 80131.4000   \n",
       "22326  2024-12-18T14:45:00+05:30 80131.6000 80215.7400 80103.1800 80159.2100   \n",
       "22327  2024-12-18T15:15:00+05:30 80158.8000 80253.1700 80156.2800 80239.7800   \n",
       "\n",
       "                       datetime  \n",
       "22323 2024-12-18 13:15:00+05:30  \n",
       "22324 2024-12-18 13:45:00+05:30  \n",
       "22325 2024-12-18 14:15:00+05:30  \n",
       "22326 2024-12-18 14:45:00+05:30  \n",
       "22327 2024-12-18 15:15:00+05:30  "
      ]
     },
     "execution_count": 6,
     "metadata": {},
     "output_type": "execute_result"
    }
   ],
   "source": [
    "bnf_1min.tail()"
   ]
  },
  {
   "cell_type": "code",
   "execution_count": 7,
   "id": "4ef48017-caf2-4c38-8cad-888ad3695b83",
   "metadata": {
    "execution": {
     "iopub.execute_input": "2024-12-29T14:07:49.074692Z",
     "iopub.status.busy": "2024-12-29T14:07:49.074247Z",
     "iopub.status.idle": "2024-12-29T14:07:49.079965Z",
     "shell.execute_reply": "2024-12-29T14:07:49.079004Z",
     "shell.execute_reply.started": "2024-12-29T14:07:49.074666Z"
    }
   },
   "outputs": [],
   "source": [
    "def resample(\n",
    "    data: pl.DataFrame, timeframe, offset: dt.timedelta | None = None\n",
    ") -> pl.DataFrame:\n",
    "    return (\n",
    "        data.set_sorted(\"datetime\")\n",
    "        .group_by_dynamic(\n",
    "            index_column=\"datetime\",\n",
    "            every=timeframe,\n",
    "            period=timeframe,\n",
    "            label=\"left\",\n",
    "            offset=offset,\n",
    "        )\n",
    "        .agg(\n",
    "            [\n",
    "                pl.col(\"open\").first().alias(\"open\"),\n",
    "                pl.col(\"high\").max().alias(\"high\"),\n",
    "                pl.col(\"low\").min().alias(\"low\"),\n",
    "                pl.col(\"close\").last().alias(\"close\"),\n",
    "                pl.col(\"volume\").sum().alias(\"volume\"),\n",
    "            ]\n",
    "        )\n",
    "    )\n",
    "\n",
    "\n",
    "# ohlc_resampled = resample(pl.DataFrame(bnf_1min), '7d', pd.Timedelta(days=4))\n",
    "# ohlc_resampled"
   ]
  },
  {
   "cell_type": "code",
   "execution_count": 8,
   "id": "6251bee5-31c3-4cab-8031-dc8bb109d126",
   "metadata": {
    "execution": {
     "iopub.execute_input": "2024-12-29T14:07:49.755815Z",
     "iopub.status.busy": "2024-12-29T14:07:49.755520Z",
     "iopub.status.idle": "2024-12-29T14:07:49.782642Z",
     "shell.execute_reply": "2024-12-29T14:07:49.781267Z",
     "shell.execute_reply.started": "2024-12-29T14:07:49.755797Z"
    },
    "scrolled": true
   },
   "outputs": [
    {
     "data": {
      "text/plain": [
       "{datetime.date(2024, 3, 15),\n",
       " datetime.date(2018, 10, 4),\n",
       " datetime.date(2023, 7, 11),\n",
       " datetime.date(2020, 4, 9),\n",
       " datetime.date(2024, 10, 21),\n",
       " datetime.date(2018, 3, 21),\n",
       " datetime.date(2023, 9, 14),\n",
       " datetime.date(2022, 6, 6),\n",
       " datetime.date(2019, 10, 14),\n",
       " datetime.date(2019, 8, 22),\n",
       " datetime.date(2024, 7, 24),\n",
       " datetime.date(2019, 3, 5),\n",
       " datetime.date(2022, 2, 23),\n",
       " datetime.date(2023, 10, 20),\n",
       " datetime.date(2021, 3, 22),\n",
       " datetime.date(2020, 11, 14),\n",
       " datetime.date(2023, 9, 13),\n",
       " datetime.date(2024, 9, 24),\n",
       " datetime.date(2024, 9, 26),\n",
       " datetime.date(2018, 10, 9),\n",
       " datetime.date(2020, 4, 13),\n",
       " datetime.date(2020, 5, 22),\n",
       " datetime.date(2024, 2, 16),\n",
       " datetime.date(2022, 10, 11),\n",
       " datetime.date(2022, 11, 2),\n",
       " datetime.date(2020, 11, 19),\n",
       " datetime.date(2023, 4, 21),\n",
       " datetime.date(2020, 1, 30),\n",
       " datetime.date(2019, 4, 26),\n",
       " datetime.date(2019, 2, 25),\n",
       " datetime.date(2019, 2, 28),\n",
       " datetime.date(2019, 9, 6),\n",
       " datetime.date(2020, 6, 5),\n",
       " datetime.date(2024, 7, 3),\n",
       " datetime.date(2020, 3, 2),\n",
       " datetime.date(2019, 5, 6),\n",
       " datetime.date(2019, 2, 27),\n",
       " datetime.date(2019, 4, 8),\n",
       " datetime.date(2020, 9, 3),\n",
       " datetime.date(2020, 1, 24),\n",
       " datetime.date(2022, 3, 31),\n",
       " datetime.date(2022, 11, 11),\n",
       " datetime.date(2023, 5, 3),\n",
       " datetime.date(2021, 2, 4),\n",
       " datetime.date(2023, 1, 16),\n",
       " datetime.date(2018, 6, 20),\n",
       " datetime.date(2021, 2, 2),\n",
       " datetime.date(2019, 1, 28),\n",
       " datetime.date(2022, 12, 8),\n",
       " datetime.date(2018, 10, 3),\n",
       " datetime.date(2024, 7, 11),\n",
       " datetime.date(2023, 6, 19),\n",
       " datetime.date(2018, 9, 25),\n",
       " datetime.date(2019, 10, 1),\n",
       " datetime.date(2019, 6, 6),\n",
       " datetime.date(2023, 5, 16),\n",
       " datetime.date(2020, 2, 18),\n",
       " datetime.date(2018, 5, 17),\n",
       " datetime.date(2024, 9, 17),\n",
       " datetime.date(2018, 12, 7),\n",
       " datetime.date(2023, 8, 18),\n",
       " datetime.date(2020, 10, 8),\n",
       " datetime.date(2022, 1, 20),\n",
       " datetime.date(2022, 6, 30),\n",
       " datetime.date(2021, 2, 11),\n",
       " datetime.date(2021, 12, 1),\n",
       " datetime.date(2018, 9, 17),\n",
       " datetime.date(2018, 10, 29),\n",
       " datetime.date(2018, 9, 7),\n",
       " datetime.date(2019, 7, 3),\n",
       " datetime.date(2020, 9, 28),\n",
       " datetime.date(2021, 7, 28),\n",
       " datetime.date(2023, 12, 5),\n",
       " datetime.date(2022, 11, 10),\n",
       " datetime.date(2018, 2, 6),\n",
       " datetime.date(2024, 8, 28),\n",
       " datetime.date(2024, 12, 11),\n",
       " datetime.date(2020, 9, 17),\n",
       " datetime.date(2021, 11, 11),\n",
       " datetime.date(2022, 7, 4),\n",
       " datetime.date(2021, 9, 1),\n",
       " datetime.date(2024, 11, 26),\n",
       " datetime.date(2020, 11, 12),\n",
       " datetime.date(2022, 12, 20),\n",
       " datetime.date(2022, 5, 20),\n",
       " datetime.date(2020, 3, 16),\n",
       " datetime.date(2024, 11, 5),\n",
       " datetime.date(2018, 12, 10),\n",
       " datetime.date(2018, 4, 27),\n",
       " datetime.date(2022, 7, 20),\n",
       " datetime.date(2024, 4, 29),\n",
       " datetime.date(2021, 5, 27),\n",
       " datetime.date(2022, 10, 17),\n",
       " datetime.date(2018, 2, 26),\n",
       " datetime.date(2022, 12, 22),\n",
       " datetime.date(2024, 4, 15),\n",
       " datetime.date(2024, 2, 23),\n",
       " datetime.date(2019, 5, 28),\n",
       " datetime.date(2024, 10, 9),\n",
       " datetime.date(2018, 10, 22),\n",
       " datetime.date(2018, 7, 18),\n",
       " datetime.date(2022, 8, 5),\n",
       " datetime.date(2018, 12, 13),\n",
       " datetime.date(2023, 3, 9),\n",
       " datetime.date(2020, 1, 29),\n",
       " datetime.date(2024, 7, 9),\n",
       " datetime.date(2022, 1, 10),\n",
       " datetime.date(2019, 9, 19),\n",
       " datetime.date(2019, 12, 12),\n",
       " datetime.date(2019, 7, 16),\n",
       " datetime.date(2024, 1, 23),\n",
       " datetime.date(2021, 10, 28),\n",
       " datetime.date(2021, 10, 20),\n",
       " datetime.date(2020, 2, 4),\n",
       " datetime.date(2023, 11, 8),\n",
       " datetime.date(2024, 1, 19),\n",
       " datetime.date(2023, 9, 4),\n",
       " datetime.date(2020, 6, 22),\n",
       " datetime.date(2018, 6, 6),\n",
       " datetime.date(2020, 10, 26),\n",
       " datetime.date(2021, 5, 18),\n",
       " datetime.date(2020, 6, 4),\n",
       " datetime.date(2021, 8, 11),\n",
       " datetime.date(2022, 2, 7),\n",
       " datetime.date(2023, 4, 20),\n",
       " datetime.date(2019, 12, 2),\n",
       " datetime.date(2021, 9, 15),\n",
       " datetime.date(2019, 2, 19),\n",
       " datetime.date(2018, 8, 29),\n",
       " datetime.date(2021, 11, 12),\n",
       " datetime.date(2024, 8, 23),\n",
       " datetime.date(2022, 7, 18),\n",
       " datetime.date(2020, 10, 23),\n",
       " datetime.date(2021, 12, 14),\n",
       " datetime.date(2021, 8, 4),\n",
       " datetime.date(2023, 5, 11),\n",
       " datetime.date(2019, 4, 16),\n",
       " datetime.date(2023, 7, 24),\n",
       " datetime.date(2019, 2, 22),\n",
       " datetime.date(2024, 2, 29),\n",
       " datetime.date(2018, 3, 14),\n",
       " datetime.date(2022, 11, 23),\n",
       " datetime.date(2018, 7, 24),\n",
       " datetime.date(2022, 5, 18),\n",
       " datetime.date(2021, 7, 27),\n",
       " datetime.date(2021, 4, 29),\n",
       " datetime.date(2022, 8, 24),\n",
       " datetime.date(2022, 2, 1),\n",
       " datetime.date(2024, 5, 30),\n",
       " datetime.date(2019, 5, 21),\n",
       " datetime.date(2021, 9, 6),\n",
       " datetime.date(2018, 3, 8),\n",
       " datetime.date(2021, 6, 29),\n",
       " datetime.date(2018, 7, 17),\n",
       " datetime.date(2022, 7, 8),\n",
       " datetime.date(2019, 11, 14),\n",
       " datetime.date(2023, 2, 21),\n",
       " datetime.date(2020, 12, 17),\n",
       " datetime.date(2021, 10, 27),\n",
       " datetime.date(2021, 12, 9),\n",
       " datetime.date(2024, 11, 19),\n",
       " datetime.date(2020, 10, 15),\n",
       " datetime.date(2022, 9, 12),\n",
       " datetime.date(2019, 7, 1),\n",
       " datetime.date(2022, 3, 11),\n",
       " datetime.date(2024, 10, 17),\n",
       " datetime.date(2018, 7, 6),\n",
       " datetime.date(2018, 8, 20),\n",
       " datetime.date(2021, 8, 16),\n",
       " datetime.date(2023, 3, 15),\n",
       " datetime.date(2022, 11, 24),\n",
       " datetime.date(2018, 2, 14),\n",
       " datetime.date(2023, 10, 27),\n",
       " datetime.date(2019, 3, 22),\n",
       " datetime.date(2023, 12, 27),\n",
       " datetime.date(2020, 1, 6),\n",
       " datetime.date(2022, 8, 10),\n",
       " datetime.date(2024, 7, 15),\n",
       " datetime.date(2024, 9, 19),\n",
       " datetime.date(2020, 12, 30),\n",
       " datetime.date(2019, 1, 24),\n",
       " datetime.date(2018, 12, 20),\n",
       " datetime.date(2022, 1, 17),\n",
       " datetime.date(2020, 6, 24),\n",
       " datetime.date(2020, 6, 29),\n",
       " datetime.date(2022, 4, 28),\n",
       " datetime.date(2023, 2, 1),\n",
       " datetime.date(2021, 1, 7),\n",
       " datetime.date(2019, 7, 23),\n",
       " datetime.date(2021, 2, 12),\n",
       " datetime.date(2023, 5, 31),\n",
       " datetime.date(2023, 6, 22),\n",
       " datetime.date(2022, 5, 25),\n",
       " datetime.date(2019, 8, 1),\n",
       " datetime.date(2020, 12, 4),\n",
       " datetime.date(2019, 11, 18),\n",
       " datetime.date(2023, 8, 4),\n",
       " datetime.date(2020, 11, 20),\n",
       " datetime.date(2018, 2, 12),\n",
       " datetime.date(2019, 9, 3),\n",
       " datetime.date(2023, 2, 27),\n",
       " datetime.date(2018, 8, 17),\n",
       " datetime.date(2022, 1, 11),\n",
       " datetime.date(2022, 8, 12),\n",
       " datetime.date(2020, 11, 24),\n",
       " datetime.date(2019, 7, 2),\n",
       " datetime.date(2020, 2, 26),\n",
       " datetime.date(2023, 2, 20),\n",
       " datetime.date(2024, 9, 12),\n",
       " datetime.date(2019, 5, 31),\n",
       " datetime.date(2019, 8, 20),\n",
       " datetime.date(2019, 12, 16),\n",
       " datetime.date(2022, 9, 9),\n",
       " datetime.date(2018, 5, 30),\n",
       " datetime.date(2020, 4, 17),\n",
       " datetime.date(2019, 12, 30),\n",
       " datetime.date(2023, 8, 22),\n",
       " datetime.date(2021, 4, 13),\n",
       " datetime.date(2022, 1, 14),\n",
       " datetime.date(2020, 8, 12),\n",
       " datetime.date(2018, 11, 21),\n",
       " datetime.date(2021, 1, 13),\n",
       " datetime.date(2019, 12, 26),\n",
       " datetime.date(2019, 9, 24),\n",
       " datetime.date(2023, 8, 23),\n",
       " datetime.date(2021, 3, 17),\n",
       " datetime.date(2022, 9, 27),\n",
       " datetime.date(2021, 6, 18),\n",
       " datetime.date(2020, 6, 2),\n",
       " datetime.date(2022, 2, 21),\n",
       " datetime.date(2021, 12, 17),\n",
       " datetime.date(2023, 7, 14),\n",
       " datetime.date(2022, 12, 23),\n",
       " datetime.date(2020, 10, 30),\n",
       " datetime.date(2021, 6, 15),\n",
       " datetime.date(2019, 7, 12),\n",
       " datetime.date(2023, 12, 14),\n",
       " datetime.date(2023, 8, 17),\n",
       " datetime.date(2021, 9, 20),\n",
       " datetime.date(2019, 12, 20),\n",
       " datetime.date(2018, 8, 9),\n",
       " datetime.date(2023, 9, 20),\n",
       " datetime.date(2018, 1, 18),\n",
       " datetime.date(2018, 3, 13),\n",
       " datetime.date(2021, 9, 22),\n",
       " datetime.date(2021, 10, 29),\n",
       " datetime.date(2018, 8, 8),\n",
       " datetime.date(2020, 5, 20),\n",
       " datetime.date(2020, 12, 11),\n",
       " datetime.date(2024, 11, 13),\n",
       " datetime.date(2022, 6, 17),\n",
       " datetime.date(2020, 10, 29),\n",
       " datetime.date(2024, 9, 20),\n",
       " datetime.date(2019, 5, 7),\n",
       " datetime.date(2019, 10, 7),\n",
       " datetime.date(2023, 6, 8),\n",
       " datetime.date(2020, 2, 11),\n",
       " datetime.date(2019, 6, 21),\n",
       " datetime.date(2021, 9, 3),\n",
       " datetime.date(2018, 7, 12),\n",
       " datetime.date(2022, 6, 29),\n",
       " datetime.date(2019, 1, 7),\n",
       " datetime.date(2019, 1, 3),\n",
       " datetime.date(2024, 7, 18),\n",
       " datetime.date(2021, 8, 13),\n",
       " datetime.date(2022, 11, 9),\n",
       " datetime.date(2023, 8, 16),\n",
       " datetime.date(2024, 9, 10),\n",
       " datetime.date(2019, 3, 12),\n",
       " datetime.date(2019, 7, 24),\n",
       " datetime.date(2020, 3, 19),\n",
       " datetime.date(2022, 8, 22),\n",
       " datetime.date(2019, 4, 18),\n",
       " datetime.date(2020, 5, 28),\n",
       " datetime.date(2023, 12, 19),\n",
       " datetime.date(2024, 2, 13),\n",
       " datetime.date(2024, 2, 2),\n",
       " datetime.date(2022, 11, 16),\n",
       " datetime.date(2024, 10, 24),\n",
       " datetime.date(2022, 1, 5),\n",
       " datetime.date(2020, 9, 14),\n",
       " datetime.date(2021, 4, 26),\n",
       " datetime.date(2023, 2, 7),\n",
       " datetime.date(2020, 11, 4),\n",
       " datetime.date(2021, 5, 28),\n",
       " datetime.date(2019, 6, 11),\n",
       " datetime.date(2022, 2, 17),\n",
       " datetime.date(2018, 8, 28),\n",
       " datetime.date(2018, 5, 4),\n",
       " datetime.date(2022, 7, 21),\n",
       " datetime.date(2022, 5, 31),\n",
       " datetime.date(2021, 12, 2),\n",
       " datetime.date(2021, 3, 8),\n",
       " datetime.date(2023, 1, 19),\n",
       " datetime.date(2019, 9, 4),\n",
       " datetime.date(2023, 1, 5),\n",
       " datetime.date(2020, 12, 9),\n",
       " datetime.date(2020, 1, 28),\n",
       " datetime.date(2022, 7, 13),\n",
       " datetime.date(2022, 12, 27),\n",
       " datetime.date(2024, 3, 21),\n",
       " datetime.date(2022, 3, 10),\n",
       " datetime.date(2019, 3, 26),\n",
       " datetime.date(2024, 6, 10),\n",
       " datetime.date(2023, 6, 23),\n",
       " datetime.date(2018, 6, 22),\n",
       " datetime.date(2019, 10, 11),\n",
       " datetime.date(2021, 2, 1),\n",
       " datetime.date(2019, 6, 18),\n",
       " datetime.date(2018, 7, 3),\n",
       " datetime.date(2018, 4, 20),\n",
       " datetime.date(2018, 8, 30),\n",
       " datetime.date(2023, 11, 3),\n",
       " datetime.date(2019, 11, 8),\n",
       " datetime.date(2023, 9, 28),\n",
       " datetime.date(2022, 5, 27),\n",
       " datetime.date(2019, 4, 2),\n",
       " datetime.date(2018, 4, 16),\n",
       " datetime.date(2023, 5, 25),\n",
       " datetime.date(2022, 5, 26),\n",
       " datetime.date(2021, 12, 22),\n",
       " datetime.date(2022, 7, 27),\n",
       " datetime.date(2023, 6, 16),\n",
       " datetime.date(2021, 5, 4),\n",
       " datetime.date(2023, 12, 7),\n",
       " datetime.date(2018, 6, 28),\n",
       " datetime.date(2021, 10, 11),\n",
       " datetime.date(2022, 8, 25),\n",
       " datetime.date(2022, 10, 24),\n",
       " datetime.date(2023, 8, 3),\n",
       " datetime.date(2024, 4, 8),\n",
       " datetime.date(2024, 1, 24),\n",
       " datetime.date(2024, 11, 4),\n",
       " datetime.date(2019, 2, 26),\n",
       " datetime.date(2024, 10, 1),\n",
       " datetime.date(2022, 3, 15),\n",
       " datetime.date(2018, 1, 23),\n",
       " datetime.date(2023, 4, 10),\n",
       " datetime.date(2019, 10, 29),\n",
       " datetime.date(2019, 5, 29),\n",
       " datetime.date(2021, 4, 16),\n",
       " datetime.date(2024, 11, 7),\n",
       " datetime.date(2022, 10, 21),\n",
       " datetime.date(2020, 10, 9),\n",
       " datetime.date(2019, 11, 25),\n",
       " datetime.date(2024, 7, 23),\n",
       " datetime.date(2019, 10, 18),\n",
       " datetime.date(2023, 10, 5),\n",
       " datetime.date(2019, 5, 3),\n",
       " datetime.date(2019, 8, 6),\n",
       " datetime.date(2024, 8, 27),\n",
       " datetime.date(2023, 9, 7),\n",
       " datetime.date(2019, 3, 7),\n",
       " datetime.date(2021, 11, 15),\n",
       " datetime.date(2019, 1, 2),\n",
       " datetime.date(2021, 7, 14),\n",
       " datetime.date(2024, 3, 6),\n",
       " datetime.date(2021, 1, 5),\n",
       " datetime.date(2018, 1, 8),\n",
       " datetime.date(2018, 3, 15),\n",
       " datetime.date(2020, 1, 1),\n",
       " datetime.date(2022, 7, 7),\n",
       " datetime.date(2024, 4, 9),\n",
       " datetime.date(2023, 6, 30),\n",
       " datetime.date(2022, 12, 19),\n",
       " datetime.date(2018, 5, 2),\n",
       " datetime.date(2021, 10, 13),\n",
       " datetime.date(2023, 12, 8),\n",
       " datetime.date(2023, 2, 14),\n",
       " datetime.date(2021, 12, 24),\n",
       " datetime.date(2019, 3, 1),\n",
       " datetime.date(2018, 10, 10),\n",
       " datetime.date(2022, 12, 21),\n",
       " datetime.date(2023, 1, 10),\n",
       " datetime.date(2018, 6, 14),\n",
       " datetime.date(2024, 4, 18),\n",
       " datetime.date(2018, 8, 14),\n",
       " datetime.date(2018, 1, 30),\n",
       " datetime.date(2019, 10, 27),\n",
       " datetime.date(2023, 2, 10),\n",
       " datetime.date(2023, 10, 4),\n",
       " datetime.date(2024, 11, 27),\n",
       " datetime.date(2019, 9, 16),\n",
       " datetime.date(2020, 3, 23),\n",
       " datetime.date(2023, 6, 28),\n",
       " datetime.date(2023, 7, 4),\n",
       " datetime.date(2019, 12, 31),\n",
       " datetime.date(2020, 6, 16),\n",
       " datetime.date(2020, 10, 13),\n",
       " datetime.date(2023, 4, 6),\n",
       " datetime.date(2021, 11, 22),\n",
       " datetime.date(2021, 2, 17),\n",
       " datetime.date(2019, 12, 5),\n",
       " datetime.date(2023, 11, 12),\n",
       " datetime.date(2020, 6, 17),\n",
       " datetime.date(2024, 6, 13),\n",
       " datetime.date(2019, 11, 28),\n",
       " datetime.date(2024, 8, 29),\n",
       " datetime.date(2018, 7, 5),\n",
       " datetime.date(2018, 9, 4),\n",
       " datetime.date(2018, 7, 23),\n",
       " datetime.date(2020, 10, 16),\n",
       " datetime.date(2018, 4, 17),\n",
       " datetime.date(2019, 3, 20),\n",
       " datetime.date(2022, 1, 27),\n",
       " datetime.date(2018, 7, 2),\n",
       " datetime.date(2022, 1, 6),\n",
       " datetime.date(2022, 1, 3),\n",
       " datetime.date(2019, 11, 26),\n",
       " datetime.date(2019, 11, 1),\n",
       " datetime.date(2020, 6, 23),\n",
       " datetime.date(2023, 12, 28),\n",
       " datetime.date(2019, 1, 30),\n",
       " datetime.date(2023, 8, 1),\n",
       " datetime.date(2024, 4, 24),\n",
       " datetime.date(2022, 4, 13),\n",
       " datetime.date(2021, 6, 1),\n",
       " datetime.date(2020, 10, 28),\n",
       " datetime.date(2022, 10, 3),\n",
       " datetime.date(2019, 1, 8),\n",
       " datetime.date(2024, 11, 21),\n",
       " datetime.date(2018, 8, 2),\n",
       " datetime.date(2018, 9, 21),\n",
       " datetime.date(2019, 10, 3),\n",
       " datetime.date(2018, 4, 23),\n",
       " datetime.date(2019, 6, 4),\n",
       " datetime.date(2023, 2, 16),\n",
       " datetime.date(2024, 4, 19),\n",
       " datetime.date(2019, 4, 30),\n",
       " datetime.date(2023, 11, 7),\n",
       " datetime.date(2024, 5, 16),\n",
       " datetime.date(2019, 4, 3),\n",
       " datetime.date(2018, 3, 9),\n",
       " datetime.date(2020, 3, 12),\n",
       " datetime.date(2023, 8, 7),\n",
       " datetime.date(2019, 1, 11),\n",
       " datetime.date(2023, 1, 31),\n",
       " datetime.date(2022, 3, 22),\n",
       " datetime.date(2020, 12, 10),\n",
       " datetime.date(2024, 7, 10),\n",
       " datetime.date(2021, 7, 15),\n",
       " datetime.date(2021, 2, 3),\n",
       " datetime.date(2024, 12, 17),\n",
       " datetime.date(2021, 8, 24),\n",
       " datetime.date(2018, 6, 27),\n",
       " datetime.date(2018, 11, 1),\n",
       " datetime.date(2018, 4, 25),\n",
       " datetime.date(2020, 1, 9),\n",
       " datetime.date(2023, 9, 5),\n",
       " datetime.date(2024, 8, 12),\n",
       " datetime.date(2022, 8, 17),\n",
       " datetime.date(2023, 9, 8),\n",
       " datetime.date(2020, 2, 13),\n",
       " datetime.date(2022, 6, 2),\n",
       " datetime.date(2018, 12, 12),\n",
       " datetime.date(2023, 9, 22),\n",
       " datetime.date(2018, 4, 26),\n",
       " datetime.date(2021, 4, 7),\n",
       " datetime.date(2019, 1, 18),\n",
       " datetime.date(2018, 6, 29),\n",
       " datetime.date(2019, 1, 25),\n",
       " datetime.date(2021, 7, 13),\n",
       " datetime.date(2022, 8, 18),\n",
       " datetime.date(2021, 8, 10),\n",
       " datetime.date(2021, 9, 16),\n",
       " datetime.date(2024, 12, 3),\n",
       " datetime.date(2022, 7, 25),\n",
       " datetime.date(2023, 7, 7),\n",
       " datetime.date(2023, 4, 19),\n",
       " datetime.date(2021, 5, 25),\n",
       " datetime.date(2019, 4, 12),\n",
       " datetime.date(2020, 1, 3),\n",
       " datetime.date(2020, 7, 27),\n",
       " datetime.date(2022, 11, 18),\n",
       " datetime.date(2022, 6, 1),\n",
       " datetime.date(2020, 4, 15),\n",
       " datetime.date(2024, 4, 25),\n",
       " datetime.date(2018, 11, 13),\n",
       " datetime.date(2018, 4, 24),\n",
       " datetime.date(2020, 6, 10),\n",
       " datetime.date(2022, 6, 3),\n",
       " datetime.date(2024, 4, 22),\n",
       " datetime.date(2023, 12, 29),\n",
       " datetime.date(2018, 1, 29),\n",
       " datetime.date(2021, 4, 9),\n",
       " datetime.date(2023, 5, 9),\n",
       " datetime.date(2019, 6, 14),\n",
       " datetime.date(2023, 3, 22),\n",
       " datetime.date(2023, 1, 30),\n",
       " datetime.date(2020, 7, 1),\n",
       " datetime.date(2021, 9, 14),\n",
       " datetime.date(2023, 8, 10),\n",
       " datetime.date(2020, 10, 22),\n",
       " datetime.date(2023, 3, 2),\n",
       " datetime.date(2023, 3, 16),\n",
       " datetime.date(2019, 10, 30),\n",
       " datetime.date(2021, 7, 30),\n",
       " datetime.date(2021, 12, 30),\n",
       " datetime.date(2021, 10, 1),\n",
       " datetime.date(2022, 6, 13),\n",
       " datetime.date(2019, 5, 20),\n",
       " datetime.date(2024, 7, 30),\n",
       " datetime.date(2019, 3, 25),\n",
       " datetime.date(2020, 4, 20),\n",
       " datetime.date(2024, 4, 12),\n",
       " datetime.date(2020, 9, 15),\n",
       " datetime.date(2022, 2, 24),\n",
       " datetime.date(2019, 2, 11),\n",
       " datetime.date(2021, 4, 15),\n",
       " datetime.date(2021, 11, 1),\n",
       " datetime.date(2024, 3, 22),\n",
       " datetime.date(2020, 8, 13),\n",
       " datetime.date(2024, 10, 28),\n",
       " datetime.date(2019, 11, 6),\n",
       " datetime.date(2024, 5, 7),\n",
       " datetime.date(2018, 9, 14),\n",
       " datetime.date(2022, 1, 24),\n",
       " datetime.date(2022, 5, 23),\n",
       " datetime.date(2019, 10, 22),\n",
       " datetime.date(2018, 9, 28),\n",
       " datetime.date(2023, 11, 15),\n",
       " datetime.date(2018, 12, 27),\n",
       " datetime.date(2020, 6, 1),\n",
       " datetime.date(2023, 1, 23),\n",
       " datetime.date(2018, 10, 25),\n",
       " datetime.date(2024, 10, 3),\n",
       " datetime.date(2019, 12, 9),\n",
       " datetime.date(2018, 1, 12),\n",
       " datetime.date(2020, 2, 27),\n",
       " datetime.date(2018, 12, 3),\n",
       " datetime.date(2024, 11, 6),\n",
       " datetime.date(2021, 10, 5),\n",
       " datetime.date(2020, 11, 17),\n",
       " datetime.date(2019, 2, 15),\n",
       " datetime.date(2020, 12, 31),\n",
       " datetime.date(2020, 7, 15),\n",
       " datetime.date(2021, 2, 10),\n",
       " datetime.date(2020, 5, 21),\n",
       " datetime.date(2020, 6, 11),\n",
       " datetime.date(2022, 8, 1),\n",
       " datetime.date(2023, 10, 25),\n",
       " datetime.date(2019, 9, 30),\n",
       " datetime.date(2023, 1, 9),\n",
       " datetime.date(2021, 1, 18),\n",
       " datetime.date(2019, 8, 27),\n",
       " datetime.date(2019, 12, 19),\n",
       " datetime.date(2024, 10, 29),\n",
       " datetime.date(2023, 4, 27),\n",
       " datetime.date(2024, 2, 15),\n",
       " datetime.date(2024, 3, 14),\n",
       " datetime.date(2018, 6, 5),\n",
       " datetime.date(2020, 2, 5),\n",
       " datetime.date(2020, 12, 23),\n",
       " datetime.date(2021, 12, 27),\n",
       " datetime.date(2019, 5, 2),\n",
       " datetime.date(2018, 2, 23),\n",
       " datetime.date(2018, 10, 11),\n",
       " datetime.date(2020, 8, 11),\n",
       " datetime.date(2021, 12, 20),\n",
       " datetime.date(2023, 6, 13),\n",
       " datetime.date(2022, 7, 22),\n",
       " datetime.date(2023, 6, 26),\n",
       " datetime.date(2020, 10, 19),\n",
       " datetime.date(2024, 2, 22),\n",
       " datetime.date(2024, 9, 11),\n",
       " datetime.date(2019, 10, 16),\n",
       " datetime.date(2023, 7, 19),\n",
       " datetime.date(2019, 12, 18),\n",
       " datetime.date(2023, 3, 31),\n",
       " datetime.date(2022, 5, 13),\n",
       " datetime.date(2019, 2, 13),\n",
       " datetime.date(2022, 11, 3),\n",
       " datetime.date(2019, 5, 8),\n",
       " datetime.date(2019, 1, 10),\n",
       " datetime.date(2022, 5, 17),\n",
       " datetime.date(2021, 5, 21),\n",
       " datetime.date(2020, 4, 28),\n",
       " datetime.date(2022, 4, 29),\n",
       " datetime.date(2018, 12, 6),\n",
       " datetime.date(2022, 1, 18),\n",
       " datetime.date(2021, 11, 24),\n",
       " datetime.date(2018, 8, 1),\n",
       " datetime.date(2022, 7, 26),\n",
       " datetime.date(2023, 4, 26),\n",
       " datetime.date(2024, 7, 5),\n",
       " datetime.date(2020, 12, 18),\n",
       " datetime.date(2023, 6, 1),\n",
       " datetime.date(2018, 6, 26),\n",
       " datetime.date(2020, 3, 18),\n",
       " datetime.date(2022, 5, 30),\n",
       " datetime.date(2022, 2, 14),\n",
       " datetime.date(2019, 11, 15),\n",
       " datetime.date(2023, 11, 24),\n",
       " datetime.date(2022, 8, 11),\n",
       " datetime.date(2024, 3, 20),\n",
       " datetime.date(2022, 6, 16),\n",
       " datetime.date(2022, 8, 8),\n",
       " datetime.date(2020, 8, 21),\n",
       " datetime.date(2019, 6, 27),\n",
       " datetime.date(2020, 12, 16),\n",
       " datetime.date(2024, 9, 16),\n",
       " datetime.date(2020, 7, 21),\n",
       " datetime.date(2019, 2, 1),\n",
       " datetime.date(2020, 6, 9),\n",
       " datetime.date(2019, 2, 8),\n",
       " datetime.date(2022, 3, 8),\n",
       " datetime.date(2018, 10, 23),\n",
       " datetime.date(2023, 8, 25),\n",
       " datetime.date(2021, 4, 1),\n",
       " datetime.date(2021, 11, 4),\n",
       " datetime.date(2019, 5, 13),\n",
       " datetime.date(2019, 7, 30),\n",
       " datetime.date(2019, 10, 24),\n",
       " datetime.date(2022, 10, 18),\n",
       " datetime.date(2019, 2, 4),\n",
       " datetime.date(2021, 12, 8),\n",
       " datetime.date(2023, 1, 6),\n",
       " datetime.date(2020, 10, 6),\n",
       " datetime.date(2020, 8, 17),\n",
       " datetime.date(2022, 1, 4),\n",
       " datetime.date(2018, 2, 15),\n",
       " datetime.date(2023, 7, 25),\n",
       " datetime.date(2021, 11, 25),\n",
       " datetime.date(2021, 10, 25),\n",
       " datetime.date(2023, 2, 28),\n",
       " datetime.date(2022, 2, 15),\n",
       " datetime.date(2020, 6, 26),\n",
       " datetime.date(2020, 2, 6),\n",
       " datetime.date(2022, 10, 14),\n",
       " datetime.date(2018, 3, 16),\n",
       " datetime.date(2024, 5, 6),\n",
       " datetime.date(2019, 4, 23),\n",
       " datetime.date(2020, 3, 9),\n",
       " datetime.date(2023, 9, 12),\n",
       " datetime.date(2022, 4, 11),\n",
       " datetime.date(2023, 5, 22),\n",
       " datetime.date(2023, 11, 23),\n",
       " datetime.date(2024, 3, 5),\n",
       " datetime.date(2018, 11, 6),\n",
       " datetime.date(2023, 8, 2),\n",
       " datetime.date(2022, 12, 13),\n",
       " datetime.date(2018, 11, 16),\n",
       " datetime.date(2019, 5, 30),\n",
       " datetime.date(2018, 6, 4),\n",
       " datetime.date(2022, 1, 25),\n",
       " datetime.date(2023, 8, 14),\n",
       " datetime.date(2022, 10, 20),\n",
       " datetime.date(2019, 8, 9),\n",
       " datetime.date(2019, 5, 16),\n",
       " datetime.date(2022, 2, 10),\n",
       " datetime.date(2019, 1, 16),\n",
       " datetime.date(2023, 6, 5),\n",
       " datetime.date(2018, 11, 19),\n",
       " datetime.date(2023, 6, 9),\n",
       " datetime.date(2022, 12, 28),\n",
       " datetime.date(2022, 4, 20),\n",
       " datetime.date(2019, 8, 14),\n",
       " datetime.date(2021, 9, 24),\n",
       " datetime.date(2021, 8, 3),\n",
       " datetime.date(2018, 10, 15),\n",
       " datetime.date(2021, 6, 10),\n",
       " datetime.date(2021, 8, 5),\n",
       " datetime.date(2023, 8, 29),\n",
       " datetime.date(2021, 2, 9),\n",
       " datetime.date(2024, 8, 6),\n",
       " datetime.date(2024, 11, 14),\n",
       " datetime.date(2020, 3, 13),\n",
       " datetime.date(2018, 4, 5),\n",
       " datetime.date(2024, 1, 12),\n",
       " datetime.date(2018, 11, 9),\n",
       " datetime.date(2024, 6, 27),\n",
       " datetime.date(2020, 1, 27),\n",
       " datetime.date(2021, 8, 20),\n",
       " datetime.date(2021, 10, 6),\n",
       " datetime.date(2018, 2, 8),\n",
       " datetime.date(2024, 3, 2),\n",
       " datetime.date(2021, 3, 25),\n",
       " datetime.date(2018, 4, 3),\n",
       " datetime.date(2020, 8, 28),\n",
       " datetime.date(2024, 2, 1),\n",
       " datetime.date(2020, 4, 22),\n",
       " datetime.date(2018, 11, 12),\n",
       " datetime.date(2022, 9, 15),\n",
       " datetime.date(2023, 11, 16),\n",
       " datetime.date(2024, 1, 2),\n",
       " datetime.date(2019, 2, 21),\n",
       " datetime.date(2022, 8, 4),\n",
       " datetime.date(2022, 3, 28),\n",
       " datetime.date(2021, 4, 30),\n",
       " datetime.date(2022, 1, 31),\n",
       " datetime.date(2020, 9, 1),\n",
       " datetime.date(2019, 11, 13),\n",
       " datetime.date(2024, 7, 4),\n",
       " datetime.date(2019, 7, 17),\n",
       " datetime.date(2024, 1, 1),\n",
       " datetime.date(2022, 1, 21),\n",
       " datetime.date(2019, 6, 25),\n",
       " datetime.date(2018, 7, 30),\n",
       " datetime.date(2018, 10, 31),\n",
       " datetime.date(2019, 2, 7),\n",
       " datetime.date(2022, 1, 12),\n",
       " datetime.date(2022, 5, 2),\n",
       " datetime.date(2018, 8, 24),\n",
       " datetime.date(2018, 4, 12),\n",
       " datetime.date(2022, 4, 26),\n",
       " datetime.date(2021, 3, 26),\n",
       " datetime.date(2019, 3, 28),\n",
       " datetime.date(2021, 10, 18),\n",
       " datetime.date(2023, 9, 6),\n",
       " datetime.date(2023, 12, 13),\n",
       " datetime.date(2022, 5, 4),\n",
       " datetime.date(2020, 1, 31),\n",
       " datetime.date(2023, 1, 12),\n",
       " datetime.date(2018, 5, 29),\n",
       " datetime.date(2024, 5, 21),\n",
       " datetime.date(2020, 2, 20),\n",
       " datetime.date(2020, 11, 11),\n",
       " datetime.date(2022, 6, 14),\n",
       " datetime.date(2020, 7, 30),\n",
       " datetime.date(2023, 2, 3),\n",
       " datetime.date(2019, 6, 19),\n",
       " datetime.date(2023, 2, 6),\n",
       " datetime.date(2020, 6, 19),\n",
       " datetime.date(2024, 12, 13),\n",
       " datetime.date(2019, 4, 1),\n",
       " datetime.date(2022, 4, 6),\n",
       " datetime.date(2023, 12, 6),\n",
       " datetime.date(2022, 1, 13),\n",
       " datetime.date(2019, 8, 2),\n",
       " datetime.date(2021, 1, 19),\n",
       " datetime.date(2020, 12, 2),\n",
       " datetime.date(2023, 5, 15),\n",
       " datetime.date(2021, 1, 22),\n",
       " datetime.date(2021, 7, 22),\n",
       " datetime.date(2023, 5, 29),\n",
       " datetime.date(2023, 11, 17),\n",
       " datetime.date(2018, 6, 1),\n",
       " datetime.date(2020, 8, 18),\n",
       " datetime.date(2022, 4, 7),\n",
       " datetime.date(2024, 3, 26),\n",
       " datetime.date(2018, 11, 28),\n",
       " datetime.date(2023, 11, 13),\n",
       " datetime.date(2024, 3, 27),\n",
       " datetime.date(2020, 1, 20),\n",
       " datetime.date(2023, 8, 30),\n",
       " datetime.date(2021, 1, 29),\n",
       " datetime.date(2022, 2, 8),\n",
       " datetime.date(2019, 11, 7),\n",
       " datetime.date(2019, 9, 23),\n",
       " datetime.date(2022, 3, 14),\n",
       " datetime.date(2023, 7, 31),\n",
       " datetime.date(2024, 3, 11),\n",
       " datetime.date(2020, 8, 6),\n",
       " datetime.date(2021, 6, 16),\n",
       " datetime.date(2022, 6, 22),\n",
       " datetime.date(2019, 2, 12),\n",
       " datetime.date(2019, 6, 28),\n",
       " datetime.date(2024, 1, 11),\n",
       " datetime.date(2018, 4, 30),\n",
       " datetime.date(2021, 2, 26),\n",
       " datetime.date(2024, 8, 30),\n",
       " datetime.date(2019, 4, 5),\n",
       " datetime.date(2022, 3, 21),\n",
       " datetime.date(2021, 7, 7),\n",
       " datetime.date(2024, 5, 23),\n",
       " datetime.date(2021, 11, 9),\n",
       " datetime.date(2024, 4, 10),\n",
       " datetime.date(2023, 3, 27),\n",
       " datetime.date(2019, 3, 11),\n",
       " datetime.date(2021, 5, 19),\n",
       " datetime.date(2019, 5, 14),\n",
       " datetime.date(2020, 1, 23),\n",
       " datetime.date(2021, 6, 9),\n",
       " datetime.date(2019, 9, 25),\n",
       " datetime.date(2018, 1, 5),\n",
       " datetime.date(2019, 12, 17),\n",
       " datetime.date(2022, 12, 14),\n",
       " datetime.date(2023, 9, 29),\n",
       " datetime.date(2018, 4, 10),\n",
       " datetime.date(2024, 1, 4),\n",
       " datetime.date(2023, 4, 5),\n",
       " datetime.date(2023, 2, 17),\n",
       " datetime.date(2024, 11, 28),\n",
       " datetime.date(2021, 5, 10),\n",
       " datetime.date(2021, 6, 14),\n",
       " datetime.date(2023, 5, 2),\n",
       " datetime.date(2024, 8, 21),\n",
       " datetime.date(2024, 6, 21),\n",
       " datetime.date(2020, 11, 9),\n",
       " datetime.date(2021, 8, 6),\n",
       " datetime.date(2024, 2, 8),\n",
       " datetime.date(2024, 9, 30),\n",
       " datetime.date(2018, 6, 21),\n",
       " datetime.date(2022, 12, 7),\n",
       " datetime.date(2024, 9, 9),\n",
       " datetime.date(2021, 7, 23),\n",
       " datetime.date(2020, 9, 9),\n",
       " datetime.date(2019, 11, 20),\n",
       " datetime.date(2022, 11, 25),\n",
       " datetime.date(2024, 1, 30),\n",
       " datetime.date(2022, 2, 4),\n",
       " datetime.date(2024, 10, 18),\n",
       " datetime.date(2018, 11, 5),\n",
       " datetime.date(2024, 11, 22),\n",
       " datetime.date(2021, 9, 29),\n",
       " datetime.date(2022, 4, 27),\n",
       " datetime.date(2019, 5, 10),\n",
       " datetime.date(2022, 3, 17),\n",
       " datetime.date(2019, 4, 22),\n",
       " datetime.date(2020, 2, 24),\n",
       " datetime.date(2024, 5, 29),\n",
       " datetime.date(2023, 11, 10),\n",
       " datetime.date(2018, 3, 28),\n",
       " datetime.date(2024, 7, 22),\n",
       " datetime.date(2021, 5, 24),\n",
       " datetime.date(2020, 4, 8),\n",
       " datetime.date(2020, 8, 14),\n",
       " datetime.date(2020, 1, 13),\n",
       " datetime.date(2020, 1, 14),\n",
       " datetime.date(2024, 1, 20),\n",
       " datetime.date(2024, 8, 7),\n",
       " datetime.date(2023, 11, 20),\n",
       " datetime.date(2023, 7, 6),\n",
       " datetime.date(2020, 5, 13),\n",
       " datetime.date(2022, 7, 15),\n",
       " datetime.date(2018, 11, 29),\n",
       " datetime.date(2022, 10, 6),\n",
       " datetime.date(2022, 11, 4),\n",
       " datetime.date(2021, 9, 21),\n",
       " datetime.date(2023, 7, 18),\n",
       " datetime.date(2018, 6, 11),\n",
       " datetime.date(2019, 7, 8),\n",
       " datetime.date(2023, 4, 18),\n",
       " datetime.date(2019, 9, 18),\n",
       " datetime.date(2018, 5, 16),\n",
       " datetime.date(2018, 3, 19),\n",
       " datetime.date(2024, 10, 7),\n",
       " datetime.date(2023, 7, 27),\n",
       " datetime.date(2018, 9, 19),\n",
       " datetime.date(2024, 2, 9),\n",
       " datetime.date(2021, 6, 11),\n",
       " datetime.date(2019, 10, 10),\n",
       " datetime.date(2018, 8, 31),\n",
       " datetime.date(2024, 6, 3),\n",
       " datetime.date(2019, 4, 10),\n",
       " datetime.date(2023, 9, 18),\n",
       " datetime.date(2020, 7, 23),\n",
       " datetime.date(2024, 6, 18),\n",
       " datetime.date(2023, 3, 29),\n",
       " datetime.date(2023, 2, 13),\n",
       " datetime.date(2022, 10, 31),\n",
       " datetime.date(2020, 12, 3),\n",
       " datetime.date(2024, 11, 29),\n",
       " datetime.date(2023, 3, 23),\n",
       " datetime.date(2019, 6, 17),\n",
       " datetime.date(2024, 4, 2),\n",
       " datetime.date(2024, 10, 23),\n",
       " datetime.date(2024, 11, 25),\n",
       " datetime.date(2024, 5, 18),\n",
       " datetime.date(2019, 1, 17),\n",
       " datetime.date(2021, 7, 6),\n",
       " datetime.date(2019, 10, 9),\n",
       " datetime.date(2020, 6, 8),\n",
       " datetime.date(2023, 12, 1),\n",
       " datetime.date(2022, 11, 7),\n",
       " datetime.date(2023, 10, 18),\n",
       " datetime.date(2024, 4, 5),\n",
       " datetime.date(2022, 9, 2),\n",
       " datetime.date(2023, 3, 24),\n",
       " datetime.date(2024, 2, 14),\n",
       " datetime.date(2021, 2, 8),\n",
       " datetime.date(2022, 3, 9),\n",
       " datetime.date(2023, 7, 10),\n",
       " datetime.date(2021, 8, 30),\n",
       " datetime.date(2020, 10, 14),\n",
       " datetime.date(2024, 1, 29),\n",
       " datetime.date(2024, 8, 22),\n",
       " datetime.date(2022, 6, 15),\n",
       " datetime.date(2024, 7, 31),\n",
       " datetime.date(2023, 1, 13),\n",
       " datetime.date(2019, 11, 29),\n",
       " datetime.date(2020, 10, 7),\n",
       " datetime.date(2024, 4, 30),\n",
       " datetime.date(2022, 8, 19),\n",
       " datetime.date(2024, 1, 18),\n",
       " datetime.date(2018, 10, 30),\n",
       " datetime.date(2018, 7, 4),\n",
       " datetime.date(2023, 5, 18),\n",
       " datetime.date(2019, 10, 4),\n",
       " datetime.date(2021, 11, 30),\n",
       " datetime.date(2018, 5, 24),\n",
       " datetime.date(2021, 12, 7),\n",
       " datetime.date(2024, 5, 10),\n",
       " datetime.date(2022, 4, 1),\n",
       " datetime.date(2022, 2, 3),\n",
       " datetime.date(2018, 1, 11),\n",
       " datetime.date(2022, 6, 8),\n",
       " datetime.date(2019, 6, 12),\n",
       " datetime.date(2021, 3, 10),\n",
       " datetime.date(2022, 5, 5),\n",
       " datetime.date(2018, 5, 18),\n",
       " datetime.date(2020, 8, 24),\n",
       " datetime.date(2021, 3, 31),\n",
       " datetime.date(2023, 8, 21),\n",
       " datetime.date(2022, 5, 12),\n",
       " datetime.date(2021, 7, 16),\n",
       " datetime.date(2024, 1, 9),\n",
       " datetime.date(2023, 12, 18),\n",
       " datetime.date(2023, 4, 12),\n",
       " datetime.date(2023, 10, 13),\n",
       " datetime.date(2020, 3, 6),\n",
       " datetime.date(2020, 10, 5),\n",
       " datetime.date(2024, 1, 3),\n",
       " datetime.date(2023, 9, 1),\n",
       " datetime.date(2021, 1, 21),\n",
       " datetime.date(2021, 1, 4),\n",
       " datetime.date(2020, 12, 15),\n",
       " datetime.date(2022, 7, 12),\n",
       " datetime.date(2022, 7, 29),\n",
       " datetime.date(2021, 11, 10),\n",
       " datetime.date(2022, 10, 12),\n",
       " datetime.date(2022, 7, 14),\n",
       " datetime.date(2021, 1, 25),\n",
       " datetime.date(2020, 11, 3),\n",
       " datetime.date(2023, 1, 11),\n",
       " datetime.date(2019, 3, 8),\n",
       " datetime.date(2023, 10, 30),\n",
       " datetime.date(2023, 11, 2),\n",
       " datetime.date(2023, 3, 17),\n",
       " datetime.date(2022, 9, 16),\n",
       " datetime.date(2021, 2, 19),\n",
       " datetime.date(2020, 5, 14),\n",
       " datetime.date(2021, 3, 1),\n",
       " datetime.date(2018, 10, 26),\n",
       " datetime.date(2023, 5, 10),\n",
       " datetime.date(2021, 8, 12),\n",
       " datetime.date(2018, 5, 10),\n",
       " datetime.date(2021, 8, 17),\n",
       " datetime.date(2022, 10, 7),\n",
       " datetime.date(2022, 2, 2),\n",
       " datetime.date(2022, 3, 16),\n",
       " datetime.date(2023, 8, 8),\n",
       " datetime.date(2020, 7, 7),\n",
       " datetime.date(2022, 5, 24),\n",
       " datetime.date(2021, 1, 15),\n",
       " datetime.date(2023, 6, 12),\n",
       " datetime.date(2023, 2, 22),\n",
       " datetime.date(2023, 6, 15),\n",
       " datetime.date(2020, 4, 29),\n",
       " datetime.date(2022, 9, 8),\n",
       " datetime.date(2022, 6, 23),\n",
       " datetime.date(2018, 3, 12),\n",
       " datetime.date(2021, 7, 9),\n",
       " datetime.date(2024, 12, 6),\n",
       " datetime.date(2022, 3, 3),\n",
       " datetime.date(2020, 2, 1),\n",
       " datetime.date(2024, 1, 16),\n",
       " datetime.date(2018, 7, 13),\n",
       " datetime.date(2022, 4, 18),\n",
       " datetime.date(2019, 4, 15),\n",
       " datetime.date(2024, 6, 25),\n",
       " datetime.date(2018, 11, 15),\n",
       " datetime.date(2024, 6, 20),\n",
       " datetime.date(2022, 9, 26),\n",
       " datetime.date(2021, 8, 25),\n",
       " datetime.date(2022, 3, 30),\n",
       " datetime.date(2024, 9, 5),\n",
       " datetime.date(2018, 9, 3),\n",
       " datetime.date(2018, 10, 1),\n",
       " datetime.date(2019, 8, 19),\n",
       " datetime.date(2018, 12, 24),\n",
       " datetime.date(2019, 11, 5),\n",
       " datetime.date(2018, 6, 12),\n",
       " datetime.date(2024, 3, 12),\n",
       " datetime.date(2020, 7, 20),\n",
       " datetime.date(2020, 7, 14),\n",
       " datetime.date(2024, 3, 28),\n",
       " datetime.date(2024, 10, 15),\n",
       " datetime.date(2021, 9, 28),\n",
       " datetime.date(2022, 6, 7),\n",
       " datetime.date(2021, 4, 5),\n",
       " datetime.date(2020, 6, 15),\n",
       " datetime.date(2021, 9, 30),\n",
       " datetime.date(2023, 9, 27),\n",
       " datetime.date(2022, 9, 5),\n",
       " datetime.date(2021, 11, 8),\n",
       " datetime.date(2023, 3, 20),\n",
       " datetime.date(2024, 12, 2),\n",
       " datetime.date(2020, 8, 31),\n",
       " datetime.date(2023, 2, 8),\n",
       " datetime.date(2023, 11, 6),\n",
       " datetime.date(2021, 6, 21),\n",
       " datetime.date(2024, 6, 12),\n",
       " datetime.date(2022, 10, 28),\n",
       " datetime.date(2022, 4, 12),\n",
       " datetime.date(2024, 6, 7),\n",
       " datetime.date(2019, 3, 27),\n",
       " datetime.date(2021, 2, 5),\n",
       " datetime.date(2019, 2, 14),\n",
       " datetime.date(2018, 7, 10),\n",
       " ...}"
      ]
     },
     "execution_count": 8,
     "metadata": {},
     "output_type": "execute_result"
    }
   ],
   "source": [
    "bnf_1min[\"datetime\"] = pd.to_datetime(bnf_1min[\"datetime\"])\n",
    "list_of_traded_dates = set(bnf_1min[\"datetime\"].dt.date)\n",
    "list_of_traded_dates"
   ]
  },
  {
   "cell_type": "code",
   "execution_count": 19,
   "id": "d292f1ac-6b82-4ef2-8404-c8738c87113a",
   "metadata": {
    "execution": {
     "iopub.execute_input": "2024-12-29T14:26:21.981331Z",
     "iopub.status.busy": "2024-12-29T14:26:21.980710Z",
     "iopub.status.idle": "2024-12-29T14:26:21.988359Z",
     "shell.execute_reply": "2024-12-29T14:26:21.987413Z",
     "shell.execute_reply.started": "2024-12-29T14:26:21.981300Z"
    }
   },
   "outputs": [],
   "source": [
    "import pandas as pd\n",
    "\n",
    "def calculate_signals(df, n, rsi_period, rsi_overbought, ema_length):\n",
    "    # Calculate RSI\n",
    "    def calculate_rsi(series, period):\n",
    "        # Calculate the price changes\n",
    "        delta = series.diff()\n",
    "    \n",
    "        # Separate gains and losses\n",
    "        gain = delta.where(delta > 0, 0)\n",
    "        loss = -delta.where(delta < 0, 0)\n",
    "    \n",
    "        # Calculate the first average gain and loss (Simple Moving Average for the first period)\n",
    "        avg_gain = gain.rolling(window=period, min_periods=period).mean()\n",
    "        avg_loss = loss.rolling(window=period, min_periods=period).mean()\n",
    "    \n",
    "        # Calculate the subsequent smoothed averages (similar to EMA)\n",
    "        for i in range(period, len(series)):\n",
    "            avg_gain.iloc[i] = (avg_gain.iloc[i - 1] * (period - 1) + gain.iloc[i]) / period\n",
    "            avg_loss.iloc[i] = (avg_loss.iloc[i - 1] * (period - 1) + loss.iloc[i]) / period\n",
    "    \n",
    "        # Calculate the Relative Strength (RS) and the RSI\n",
    "        rs = avg_gain / avg_loss\n",
    "        rsi = 100 - (100 / (1 + rs))\n",
    "    \n",
    "        return rsi\n",
    "\n",
    "    # Apply the TradingView-style RSI calculation\n",
    "    df['RSI'] = calculate_rsi(df['close'], rsi_period)\n",
    "\n",
    "    # Calculate the previous n candles' low\n",
    "    df['Prev_N_Low'] = df['low'].rolling(window=n).min().shift(1)\n",
    "    df['ema'] = df['close'].ewm(span=ema_length, adjust=False).mean()\n",
    "\n",
    "    # Signal generation logic\n",
    "    df['Sell_Signal'] = (\n",
    "        (df['close'] < df['Prev_N_Low']) &\n",
    "        (df['RSI'] > rsi_overbought)\n",
    "    )\n",
    "\n",
    "    return df"
   ]
  },
  {
   "cell_type": "code",
   "execution_count": 20,
   "id": "8a584c2a-417b-4657-98f7-3ef36c6604c9",
   "metadata": {
    "execution": {
     "iopub.execute_input": "2024-12-29T14:26:22.193637Z",
     "iopub.status.busy": "2024-12-29T14:26:22.193028Z",
     "iopub.status.idle": "2024-12-29T14:26:22.204798Z",
     "shell.execute_reply": "2024-12-29T14:26:22.203974Z",
     "shell.execute_reply.started": "2024-12-29T14:26:22.193610Z"
    }
   },
   "outputs": [
    {
     "data": {
      "text/html": [
       "<div>\n",
       "<style scoped>\n",
       "    .dataframe tbody tr th:only-of-type {\n",
       "        vertical-align: middle;\n",
       "    }\n",
       "\n",
       "    .dataframe tbody tr th {\n",
       "        vertical-align: top;\n",
       "    }\n",
       "\n",
       "    .dataframe thead th {\n",
       "        text-align: right;\n",
       "    }\n",
       "</style>\n",
       "<table border=\"1\" class=\"dataframe\">\n",
       "  <thead>\n",
       "    <tr style=\"text-align: right;\">\n",
       "      <th></th>\n",
       "      <th>time</th>\n",
       "      <th>open</th>\n",
       "      <th>high</th>\n",
       "      <th>low</th>\n",
       "      <th>close</th>\n",
       "      <th>datetime</th>\n",
       "      <th>RSI</th>\n",
       "      <th>Prev_N_Low</th>\n",
       "      <th>ema</th>\n",
       "      <th>Sell_Signal</th>\n",
       "    </tr>\n",
       "  </thead>\n",
       "  <tbody>\n",
       "    <tr>\n",
       "      <th>0</th>\n",
       "      <td>2018-01-01T09:15:00+05:30</td>\n",
       "      <td>34090.2600</td>\n",
       "      <td>34101.1300</td>\n",
       "      <td>34032.7000</td>\n",
       "      <td>34056.7200</td>\n",
       "      <td>2018-01-01 09:15:00+05:30</td>\n",
       "      <td>NaN</td>\n",
       "      <td>NaN</td>\n",
       "      <td>34056.7200</td>\n",
       "      <td>False</td>\n",
       "    </tr>\n",
       "    <tr>\n",
       "      <th>1</th>\n",
       "      <td>2018-01-01T09:45:00+05:30</td>\n",
       "      <td>34058.0400</td>\n",
       "      <td>34090.4300</td>\n",
       "      <td>34045.5700</td>\n",
       "      <td>34084.8200</td>\n",
       "      <td>2018-01-01 09:45:00+05:30</td>\n",
       "      <td>NaN</td>\n",
       "      <td>NaN</td>\n",
       "      <td>34058.2811</td>\n",
       "      <td>False</td>\n",
       "    </tr>\n",
       "    <tr>\n",
       "      <th>2</th>\n",
       "      <td>2018-01-01T10:15:00+05:30</td>\n",
       "      <td>34084.3900</td>\n",
       "      <td>34095.2200</td>\n",
       "      <td>34063.6000</td>\n",
       "      <td>34079.0000</td>\n",
       "      <td>2018-01-01 10:15:00+05:30</td>\n",
       "      <td>NaN</td>\n",
       "      <td>NaN</td>\n",
       "      <td>34059.4322</td>\n",
       "      <td>False</td>\n",
       "    </tr>\n",
       "    <tr>\n",
       "      <th>3</th>\n",
       "      <td>2018-01-01T10:45:00+05:30</td>\n",
       "      <td>34078.8700</td>\n",
       "      <td>34092.1300</td>\n",
       "      <td>34062.9700</td>\n",
       "      <td>34065.4600</td>\n",
       "      <td>2018-01-01 10:45:00+05:30</td>\n",
       "      <td>NaN</td>\n",
       "      <td>NaN</td>\n",
       "      <td>34059.7670</td>\n",
       "      <td>False</td>\n",
       "    </tr>\n",
       "    <tr>\n",
       "      <th>4</th>\n",
       "      <td>2018-01-01T11:15:00+05:30</td>\n",
       "      <td>34065.9700</td>\n",
       "      <td>34084.5700</td>\n",
       "      <td>34065.9700</td>\n",
       "      <td>34080.2400</td>\n",
       "      <td>2018-01-01 11:15:00+05:30</td>\n",
       "      <td>NaN</td>\n",
       "      <td>34032.7000</td>\n",
       "      <td>34060.9044</td>\n",
       "      <td>False</td>\n",
       "    </tr>\n",
       "  </tbody>\n",
       "</table>\n",
       "</div>"
      ],
      "text/plain": [
       "                        time       open       high        low      close  \\\n",
       "0  2018-01-01T09:15:00+05:30 34090.2600 34101.1300 34032.7000 34056.7200   \n",
       "1  2018-01-01T09:45:00+05:30 34058.0400 34090.4300 34045.5700 34084.8200   \n",
       "2  2018-01-01T10:15:00+05:30 34084.3900 34095.2200 34063.6000 34079.0000   \n",
       "3  2018-01-01T10:45:00+05:30 34078.8700 34092.1300 34062.9700 34065.4600   \n",
       "4  2018-01-01T11:15:00+05:30 34065.9700 34084.5700 34065.9700 34080.2400   \n",
       "\n",
       "                   datetime  RSI  Prev_N_Low        ema  Sell_Signal  \n",
       "0 2018-01-01 09:15:00+05:30  NaN         NaN 34056.7200        False  \n",
       "1 2018-01-01 09:45:00+05:30  NaN         NaN 34058.2811        False  \n",
       "2 2018-01-01 10:15:00+05:30  NaN         NaN 34059.4322        False  \n",
       "3 2018-01-01 10:45:00+05:30  NaN         NaN 34059.7670        False  \n",
       "4 2018-01-01 11:15:00+05:30  NaN  34032.7000 34060.9044        False  "
      ]
     },
     "execution_count": 20,
     "metadata": {},
     "output_type": "execute_result"
    }
   ],
   "source": [
    "bnf_1min.head()"
   ]
  },
  {
   "cell_type": "code",
   "execution_count": 21,
   "id": "fd52bae0-d8af-417e-b4fa-f65fa66631bf",
   "metadata": {
    "execution": {
     "iopub.execute_input": "2024-12-29T14:26:22.372718Z",
     "iopub.status.busy": "2024-12-29T14:26:22.372436Z",
     "iopub.status.idle": "2024-12-29T14:26:22.376980Z",
     "shell.execute_reply": "2024-12-29T14:26:22.376201Z",
     "shell.execute_reply.started": "2024-12-29T14:26:22.372702Z"
    }
   },
   "outputs": [],
   "source": [
    "lev_ = 7\n",
    "portfolio_value = 10000000\n",
    "lot_size_ = 10\n",
    "slippage_ = 0.0001"
   ]
  },
  {
   "cell_type": "code",
   "execution_count": 22,
   "id": "b4f33d1c-4e4b-4d5a-b40b-1666fb729b86",
   "metadata": {
    "execution": {
     "iopub.execute_input": "2024-12-29T14:26:22.554776Z",
     "iopub.status.busy": "2024-12-29T14:26:22.553865Z",
     "iopub.status.idle": "2024-12-29T14:26:22.579040Z",
     "shell.execute_reply": "2024-12-29T14:26:22.577885Z",
     "shell.execute_reply.started": "2024-12-29T14:26:22.554756Z"
    }
   },
   "outputs": [],
   "source": [
    "def backtest_short(df, n, rsi_period, rsi_overbought, ema_length):\n",
    "    trade_book = []\n",
    "    in_trade = False\n",
    "    points = 0\n",
    "    is_trailing_active = False\n",
    "    trailing_sl = 0\n",
    "    df = calculate_signals(df, n, rsi_period, rsi_overbought, ema_length)\n",
    "    # print(df[df['Sell_Signal']].to_string())\n",
    "    for i in range(n, len(df)):\n",
    "        # print(i, df.loc[i], df.loc[i, 'open'])\n",
    "        # break\n",
    "        if df.loc[i, 'Sell_Signal'] and not in_trade:\n",
    "            # Entry Triggered\n",
    "            entry_price = df.loc[i, 'close']\n",
    "            entry_time = df.loc[i, 'datetime']\n",
    "            initial_sl = df.loc[i-n:i, 'high'].max()\n",
    "            sl_in_points = initial_sl - entry_price\n",
    "            target = 5 * sl_in_points\n",
    "            in_trade = True\n",
    "\n",
    "        if in_trade:\n",
    "            if df.loc[i, 'high'] < df.loc[i, 'ema']:\n",
    "                is_trailing_active = True\n",
    "            if is_trailing_active:\n",
    "                trailing_sl = df.loc[i, 'ema']\n",
    "            # print(df.loc[i, 'open'], initial_sl)\n",
    "            # break\n",
    "            if df.loc[i, 'open'] > initial_sl and not points:\n",
    "                # Gap condition\n",
    "                if df.loc[i, 'close'] < initial_sl:\n",
    "                    initial_sl = df.loc[i, 'high']\n",
    "                else:\n",
    "                    exit_price = df.loc[i, 'close']\n",
    "                    exit_time = df.loc[i, 'datetime']\n",
    "                    in_trade = False\n",
    "                    remark = 'Gap SL'\n",
    "                    points = entry_price - exit_price\n",
    "            if df.loc[i, 'high'] > initial_sl and not points:\n",
    "                # Initial SL Hit\n",
    "                exit_price = df.loc[i, 'close']\n",
    "                exit_time = df.loc[i, 'datetime']\n",
    "                in_trade = False\n",
    "                remark = 'Initial SL'\n",
    "                points = entry_price - exit_price\n",
    "            if is_trailing_active:\n",
    "                if df.loc[i, 'close'] > trailing_sl and not points:\n",
    "                    # TSL Hit\n",
    "                    exit_price = df.loc[i, 'close']\n",
    "                    exit_time = df.loc[i, 'datetime']\n",
    "                    in_trade = False\n",
    "                    remark = 'Trailing SL'\n",
    "                    points = entry_price - exit_price\n",
    "            if df.loc[i, 'low'] < entry_price - target and not points:\n",
    "                # Target Hit\n",
    "                exit_price = entry_price - target\n",
    "                exit_time = df.loc[i, 'datetime']\n",
    "                in_trade = False\n",
    "                remark = 'Target'\n",
    "                points = entry_price - exit_price\n",
    "\n",
    "        if points:\n",
    "            index_lev = lev_\n",
    "            qty = int(round(portfolio_value * index_lev / entry_price / lot_size_)) * lot_size_\n",
    "            slippage = slippage_ * (entry_price + exit_price)\n",
    "            final_points = points - slippage\n",
    "            trade = {\n",
    "                \"Trade Type\": \"Short\",\n",
    "                \"Entry Time\": entry_time,\n",
    "                \"Entry Price\": entry_price,\n",
    "                \"Initial SL\": initial_sl,\n",
    "                \"Trailing SL\": trailing_sl,\n",
    "                \"Exit Time\": exit_time,\n",
    "                \"Exit Price\": exit_price,\n",
    "                \"Points Captured\": points,\n",
    "                \"Slippage in Points\": slippage,\n",
    "                \"After Costs\": final_points,\n",
    "                \"PnL\": final_points * qty,\n",
    "                \"Remarks\": remark,\n",
    "                \"Qty\": qty,\n",
    "                \"Leverage\": index_lev,\n",
    "                \"ROI%\": (final_points * qty / portfolio_value) * 100,\n",
    "                \"Trade Year\": entry_time.year,\n",
    "                \"Trade Month\": entry_time.month,\n",
    "            }\n",
    "            # print(trade)\n",
    "            trade_book.append(trade)\n",
    "            points = 0\n",
    "            in_trade = False\n",
    "            is_trailing_active = False\n",
    "            trailing_sl = 0\n",
    "\n",
    "    return pd.DataFrame(trade_book)\n",
    "            "
   ]
  },
  {
   "cell_type": "code",
   "execution_count": 23,
   "id": "b7c50569-cec8-4442-93cc-9dc78b1a9b3a",
   "metadata": {
    "execution": {
     "iopub.execute_input": "2024-12-29T14:26:22.722466Z",
     "iopub.status.busy": "2024-12-29T14:26:22.721892Z",
     "iopub.status.idle": "2024-12-29T14:26:24.427124Z",
     "shell.execute_reply": "2024-12-29T14:26:24.426100Z",
     "shell.execute_reply.started": "2024-12-29T14:26:22.722438Z"
    },
    "scrolled": true
   },
   "outputs": [],
   "source": [
    "tb = backtest_short(bnf_1min, n=3, rsi_period=5, rsi_overbought=50, ema_length=14)"
   ]
  },
  {
   "cell_type": "code",
   "execution_count": 24,
   "id": "b59ed9ad-1698-4dd9-8572-deed574f1a0f",
   "metadata": {
    "execution": {
     "iopub.execute_input": "2024-12-29T14:26:24.429276Z",
     "iopub.status.busy": "2024-12-29T14:26:24.429077Z",
     "iopub.status.idle": "2024-12-29T14:26:24.437842Z",
     "shell.execute_reply": "2024-12-29T14:26:24.436781Z",
     "shell.execute_reply.started": "2024-12-29T14:26:24.429254Z"
    },
    "jupyter": {
     "source_hidden": true
    }
   },
   "outputs": [],
   "source": [
    "def generate_stats(tb_expiry, variation):\n",
    "    stats_df8 = pd.DataFrame(\n",
    "        index=range(2018, 2025),\n",
    "        columns=[\n",
    "            \"Total ROI\",\n",
    "            \"Total Trades\",\n",
    "            \"Win Rate\",\n",
    "            \"Avg Profit% per Trade\",\n",
    "            \"Avg Loss% per Trade\",\n",
    "            \"Max Drawdown\",\n",
    "            \"ROI/DD Ratio\",\n",
    "            \"Variation\",\n",
    "        ],\n",
    "    )\n",
    "    combined_df_sorted = tb_expiry\n",
    "    # combined_df_sorted = tb_expiry_ce\n",
    "    # combined_df_sorted = tb_expiry_pe\n",
    "    \n",
    "    # Iterate over each year\n",
    "    for year in range(2018, 2025):\n",
    "        # Filter trades for the current year\n",
    "        year_trades = combined_df_sorted[(combined_df_sorted[\"Trade Year\"] == year)]\n",
    "    \n",
    "        # Calculate total ROI\n",
    "        total_roi = year_trades[\"ROI%\"].sum()\n",
    "    \n",
    "        # Calculate total number of trades\n",
    "        total_trades = len(year_trades)\n",
    "    \n",
    "        # Calculate win rate\n",
    "        win_rate = (year_trades[\"ROI%\"] > 0).mean() * 100\n",
    "    \n",
    "        # Calculate average profit per trade\n",
    "        avg_profit = year_trades[year_trades[\"ROI%\"] > 0][\"ROI%\"].mean()\n",
    "    \n",
    "        # Calculate average loss per trade\n",
    "        avg_loss = year_trades[year_trades[\"ROI%\"] < 0][\"ROI%\"].mean()\n",
    "    \n",
    "        # Calculate maximum drawdown\n",
    "        max_drawdown = (\n",
    "            year_trades[\"ROI%\"].cumsum() - year_trades[\"ROI%\"].cumsum().cummax()\n",
    "        ).min()\n",
    "    \n",
    "        # Calculate ROI/DD ratio\n",
    "        roi_dd_ratio = total_roi / abs(max_drawdown)\n",
    "\n",
    "        variation = variation\n",
    "    \n",
    "        # Store the statistics in the DataFrame\n",
    "        stats_df8.loc[year] = [\n",
    "            total_roi,\n",
    "            total_trades,\n",
    "            win_rate,\n",
    "            avg_profit,\n",
    "            avg_loss,\n",
    "            max_drawdown,\n",
    "            roi_dd_ratio,\n",
    "            variation,\n",
    "        ]\n",
    "    \n",
    "    # Calculate overall statistics\n",
    "    overall_total_roi = stats_df8[\"Total ROI\"].sum()\n",
    "    overall_total_trades = stats_df8[\"Total Trades\"].sum()\n",
    "    overall_win_rate = (combined_df_sorted[\"ROI%\"] > 0).mean() * 100\n",
    "    overall_avg_profit = combined_df_sorted[combined_df_sorted[\"ROI%\"] > 0][\"ROI%\"].mean()\n",
    "    overall_avg_loss = combined_df_sorted[combined_df_sorted[\"ROI%\"] < 0][\"ROI%\"].mean()\n",
    "    overall_max_drawdown = (\n",
    "        combined_df_sorted[\"ROI%\"].cumsum() - combined_df_sorted[\"ROI%\"].cumsum().cummax()\n",
    "    ).min()\n",
    "    overall_roi_dd_ratio = overall_total_roi / abs(overall_max_drawdown)\n",
    "    overall_variation = variation\n",
    "    \n",
    "    # Store the overall statistics in the DataFrame\n",
    "    stats_df8.loc[\"Overall\"] = [\n",
    "        overall_total_roi,\n",
    "        overall_total_trades,\n",
    "        overall_win_rate,\n",
    "        overall_avg_profit,\n",
    "        overall_avg_loss,\n",
    "        overall_max_drawdown,\n",
    "        overall_roi_dd_ratio,\n",
    "        overall_variation,\n",
    "    ]\n",
    "    return {overall_roi_dd_ratio : stats_df8}"
   ]
  },
  {
   "cell_type": "code",
   "execution_count": 25,
   "id": "b0c3a45b-0108-4e42-8148-18d3549e317a",
   "metadata": {
    "execution": {
     "iopub.execute_input": "2024-12-29T14:26:24.438929Z",
     "iopub.status.busy": "2024-12-29T14:26:24.438732Z",
     "iopub.status.idle": "2024-12-29T14:26:24.483562Z",
     "shell.execute_reply": "2024-12-29T14:26:24.482678Z",
     "shell.execute_reply.started": "2024-12-29T14:26:24.438914Z"
    }
   },
   "outputs": [
    {
     "data": {
      "text/html": [
       "<div>\n",
       "<style scoped>\n",
       "    .dataframe tbody tr th:only-of-type {\n",
       "        vertical-align: middle;\n",
       "    }\n",
       "\n",
       "    .dataframe tbody tr th {\n",
       "        vertical-align: top;\n",
       "    }\n",
       "\n",
       "    .dataframe thead th {\n",
       "        text-align: right;\n",
       "    }\n",
       "</style>\n",
       "<table border=\"1\" class=\"dataframe\">\n",
       "  <thead>\n",
       "    <tr style=\"text-align: right;\">\n",
       "      <th></th>\n",
       "      <th>Total ROI</th>\n",
       "      <th>Total Trades</th>\n",
       "      <th>Win Rate</th>\n",
       "      <th>Avg Profit% per Trade</th>\n",
       "      <th>Avg Loss% per Trade</th>\n",
       "      <th>Max Drawdown</th>\n",
       "      <th>ROI/DD Ratio</th>\n",
       "      <th>Variation</th>\n",
       "    </tr>\n",
       "  </thead>\n",
       "  <tbody>\n",
       "    <tr>\n",
       "      <th>2018</th>\n",
       "      <td>9.2925</td>\n",
       "      <td>29</td>\n",
       "      <td>41.3793</td>\n",
       "      <td>4.1902</td>\n",
       "      <td>-2.4112</td>\n",
       "      <td>-16.7676</td>\n",
       "      <td>0.5542</td>\n",
       "      <td>1</td>\n",
       "    </tr>\n",
       "    <tr>\n",
       "      <th>2019</th>\n",
       "      <td>19.7194</td>\n",
       "      <td>14</td>\n",
       "      <td>42.8571</td>\n",
       "      <td>5.1883</td>\n",
       "      <td>-1.4263</td>\n",
       "      <td>-4.4839</td>\n",
       "      <td>4.3979</td>\n",
       "      <td>1</td>\n",
       "    </tr>\n",
       "    <tr>\n",
       "      <th>2020</th>\n",
       "      <td>37.1651</td>\n",
       "      <td>18</td>\n",
       "      <td>50.0000</td>\n",
       "      <td>7.3510</td>\n",
       "      <td>-3.2216</td>\n",
       "      <td>-12.0663</td>\n",
       "      <td>3.0801</td>\n",
       "      <td>1</td>\n",
       "    </tr>\n",
       "    <tr>\n",
       "      <th>2021</th>\n",
       "      <td>22.1937</td>\n",
       "      <td>25</td>\n",
       "      <td>40.0000</td>\n",
       "      <td>5.9794</td>\n",
       "      <td>-2.5067</td>\n",
       "      <td>-14.5797</td>\n",
       "      <td>1.5222</td>\n",
       "      <td>1</td>\n",
       "    </tr>\n",
       "    <tr>\n",
       "      <th>2022</th>\n",
       "      <td>-23.0257</td>\n",
       "      <td>26</td>\n",
       "      <td>38.4615</td>\n",
       "      <td>2.9037</td>\n",
       "      <td>-3.2539</td>\n",
       "      <td>-33.5695</td>\n",
       "      <td>-0.6859</td>\n",
       "      <td>1</td>\n",
       "    </tr>\n",
       "    <tr>\n",
       "      <th>2023</th>\n",
       "      <td>-12.5765</td>\n",
       "      <td>20</td>\n",
       "      <td>40.0000</td>\n",
       "      <td>2.6096</td>\n",
       "      <td>-2.7878</td>\n",
       "      <td>-25.0836</td>\n",
       "      <td>-0.5014</td>\n",
       "      <td>1</td>\n",
       "    </tr>\n",
       "    <tr>\n",
       "      <th>2024</th>\n",
       "      <td>11.6129</td>\n",
       "      <td>12</td>\n",
       "      <td>50.0000</td>\n",
       "      <td>4.6761</td>\n",
       "      <td>-2.7406</td>\n",
       "      <td>-16.4436</td>\n",
       "      <td>0.7062</td>\n",
       "      <td>1</td>\n",
       "    </tr>\n",
       "    <tr>\n",
       "      <th>Overall</th>\n",
       "      <td>64.3815</td>\n",
       "      <td>144.0000</td>\n",
       "      <td>42.3611</td>\n",
       "      <td>4.6777</td>\n",
       "      <td>-2.6621</td>\n",
       "      <td>-62.1565</td>\n",
       "      <td>1.0358</td>\n",
       "      <td>1.0000</td>\n",
       "    </tr>\n",
       "  </tbody>\n",
       "</table>\n",
       "</div>"
      ],
      "text/plain": [
       "        Total ROI Total Trades Win Rate Avg Profit% per Trade  \\\n",
       "2018       9.2925           29  41.3793                4.1902   \n",
       "2019      19.7194           14  42.8571                5.1883   \n",
       "2020      37.1651           18  50.0000                7.3510   \n",
       "2021      22.1937           25  40.0000                5.9794   \n",
       "2022     -23.0257           26  38.4615                2.9037   \n",
       "2023     -12.5765           20  40.0000                2.6096   \n",
       "2024      11.6129           12  50.0000                4.6761   \n",
       "Overall   64.3815     144.0000  42.3611                4.6777   \n",
       "\n",
       "        Avg Loss% per Trade Max Drawdown ROI/DD Ratio Variation  \n",
       "2018                -2.4112     -16.7676       0.5542         1  \n",
       "2019                -1.4263      -4.4839       4.3979         1  \n",
       "2020                -3.2216     -12.0663       3.0801         1  \n",
       "2021                -2.5067     -14.5797       1.5222         1  \n",
       "2022                -3.2539     -33.5695      -0.6859         1  \n",
       "2023                -2.7878     -25.0836      -0.5014         1  \n",
       "2024                -2.7406     -16.4436       0.7062         1  \n",
       "Overall             -2.6621     -62.1565       1.0358    1.0000  "
      ]
     },
     "execution_count": 25,
     "metadata": {},
     "output_type": "execute_result"
    }
   ],
   "source": [
    "variation = 1\n",
    "stats = generate_stats(tb, variation)\n",
    "for x, y in stats.items():\n",
    "    final_stats = y\n",
    "\n",
    "final_stats"
   ]
  },
  {
   "cell_type": "code",
   "execution_count": 26,
   "id": "d3a2eb28-c309-469f-891c-75ce6329d3ac",
   "metadata": {
    "execution": {
     "iopub.execute_input": "2024-12-29T14:26:24.485783Z",
     "iopub.status.busy": "2024-12-29T14:26:24.485366Z",
     "iopub.status.idle": "2024-12-29T14:26:24.503218Z",
     "shell.execute_reply": "2024-12-29T14:26:24.502048Z",
     "shell.execute_reply.started": "2024-12-29T14:26:24.485766Z"
    },
    "scrolled": true
   },
   "outputs": [
    {
     "data": {
      "text/html": [
       "<div>\n",
       "<style scoped>\n",
       "    .dataframe tbody tr th:only-of-type {\n",
       "        vertical-align: middle;\n",
       "    }\n",
       "\n",
       "    .dataframe tbody tr th {\n",
       "        vertical-align: top;\n",
       "    }\n",
       "\n",
       "    .dataframe thead th {\n",
       "        text-align: right;\n",
       "    }\n",
       "</style>\n",
       "<table border=\"1\" class=\"dataframe\">\n",
       "  <thead>\n",
       "    <tr style=\"text-align: right;\">\n",
       "      <th></th>\n",
       "      <th>Trade Type</th>\n",
       "      <th>Entry Time</th>\n",
       "      <th>Entry Price</th>\n",
       "      <th>Initial SL</th>\n",
       "      <th>Trailing SL</th>\n",
       "      <th>Exit Time</th>\n",
       "      <th>Exit Price</th>\n",
       "      <th>Points Captured</th>\n",
       "      <th>Slippage in Points</th>\n",
       "      <th>After Costs</th>\n",
       "      <th>PnL</th>\n",
       "      <th>Remarks</th>\n",
       "      <th>Qty</th>\n",
       "      <th>Leverage</th>\n",
       "      <th>ROI%</th>\n",
       "      <th>Trade Year</th>\n",
       "      <th>Trade Month</th>\n",
       "    </tr>\n",
       "  </thead>\n",
       "  <tbody>\n",
       "    <tr>\n",
       "      <th>132</th>\n",
       "      <td>Short</td>\n",
       "      <td>2024-01-05 10:45:00+05:30</td>\n",
       "      <td>71955.6900</td>\n",
       "      <td>72156.4800</td>\n",
       "      <td>0.0000</td>\n",
       "      <td>2024-01-08 09:15:00+05:30</td>\n",
       "      <td>71896.6600</td>\n",
       "      <td>59.0300</td>\n",
       "      <td>14.3852</td>\n",
       "      <td>44.6448</td>\n",
       "      <td>43305.4220</td>\n",
       "      <td>Initial SL</td>\n",
       "      <td>970</td>\n",
       "      <td>7</td>\n",
       "      <td>0.4331</td>\n",
       "      <td>2024</td>\n",
       "      <td>1</td>\n",
       "    </tr>\n",
       "    <tr>\n",
       "      <th>133</th>\n",
       "      <td>Short</td>\n",
       "      <td>2024-01-19 10:45:00+05:30</td>\n",
       "      <td>71604.6300</td>\n",
       "      <td>72026.2600</td>\n",
       "      <td>71664.7258</td>\n",
       "      <td>2024-01-23 09:15:00+05:30</td>\n",
       "      <td>71949.8100</td>\n",
       "      <td>-345.1800</td>\n",
       "      <td>14.3554</td>\n",
       "      <td>-359.5354</td>\n",
       "      <td>-352344.7351</td>\n",
       "      <td>Initial SL</td>\n",
       "      <td>980</td>\n",
       "      <td>7</td>\n",
       "      <td>-3.5234</td>\n",
       "      <td>2024</td>\n",
       "      <td>1</td>\n",
       "    </tr>\n",
       "    <tr>\n",
       "      <th>134</th>\n",
       "      <td>Short</td>\n",
       "      <td>2024-04-09 11:45:00+05:30</td>\n",
       "      <td>74956.1200</td>\n",
       "      <td>75123.3000</td>\n",
       "      <td>74785.3973</td>\n",
       "      <td>2024-04-10 09:15:00+05:30</td>\n",
       "      <td>74949.0500</td>\n",
       "      <td>7.0700</td>\n",
       "      <td>14.9905</td>\n",
       "      <td>-7.9205</td>\n",
       "      <td>-7366.0808</td>\n",
       "      <td>Trailing SL</td>\n",
       "      <td>930</td>\n",
       "      <td>7</td>\n",
       "      <td>-0.0737</td>\n",
       "      <td>2024</td>\n",
       "      <td>4</td>\n",
       "    </tr>\n",
       "    <tr>\n",
       "      <th>135</th>\n",
       "      <td>Short</td>\n",
       "      <td>2024-04-30 12:45:00+05:30</td>\n",
       "      <td>74865.3800</td>\n",
       "      <td>75010.6200</td>\n",
       "      <td>0.0000</td>\n",
       "      <td>2024-04-30 13:45:00+05:30</td>\n",
       "      <td>75065.2600</td>\n",
       "      <td>-199.8800</td>\n",
       "      <td>14.9931</td>\n",
       "      <td>-214.8731</td>\n",
       "      <td>-201980.6802</td>\n",
       "      <td>Initial SL</td>\n",
       "      <td>940</td>\n",
       "      <td>7</td>\n",
       "      <td>-2.0198</td>\n",
       "      <td>2024</td>\n",
       "      <td>4</td>\n",
       "    </tr>\n",
       "    <tr>\n",
       "      <th>136</th>\n",
       "      <td>Short</td>\n",
       "      <td>2024-06-06 11:45:00+05:30</td>\n",
       "      <td>74684.5900</td>\n",
       "      <td>75297.7300</td>\n",
       "      <td>0.0000</td>\n",
       "      <td>2024-06-07 09:15:00+05:30</td>\n",
       "      <td>75463.3100</td>\n",
       "      <td>-778.7200</td>\n",
       "      <td>15.0148</td>\n",
       "      <td>-793.7348</td>\n",
       "      <td>-746110.7026</td>\n",
       "      <td>Initial SL</td>\n",
       "      <td>940</td>\n",
       "      <td>7</td>\n",
       "      <td>-7.4611</td>\n",
       "      <td>2024</td>\n",
       "      <td>6</td>\n",
       "    </tr>\n",
       "    <tr>\n",
       "      <th>137</th>\n",
       "      <td>Short</td>\n",
       "      <td>2024-06-10 11:45:00+05:30</td>\n",
       "      <td>76643.2300</td>\n",
       "      <td>76884.2600</td>\n",
       "      <td>0.0000</td>\n",
       "      <td>2024-06-10 13:45:00+05:30</td>\n",
       "      <td>76844.0500</td>\n",
       "      <td>-200.8200</td>\n",
       "      <td>15.3487</td>\n",
       "      <td>-216.1687</td>\n",
       "      <td>-196713.5425</td>\n",
       "      <td>Initial SL</td>\n",
       "      <td>910</td>\n",
       "      <td>7</td>\n",
       "      <td>-1.9671</td>\n",
       "      <td>2024</td>\n",
       "      <td>6</td>\n",
       "    </tr>\n",
       "    <tr>\n",
       "      <th>138</th>\n",
       "      <td>Short</td>\n",
       "      <td>2024-07-03 14:15:00+05:30</td>\n",
       "      <td>79880.0000</td>\n",
       "      <td>80003.1700</td>\n",
       "      <td>0.0000</td>\n",
       "      <td>2024-07-03 14:45:00+05:30</td>\n",
       "      <td>80022.9200</td>\n",
       "      <td>-142.9200</td>\n",
       "      <td>15.9903</td>\n",
       "      <td>-158.9103</td>\n",
       "      <td>-139841.0570</td>\n",
       "      <td>Initial SL</td>\n",
       "      <td>880</td>\n",
       "      <td>7</td>\n",
       "      <td>-1.3984</td>\n",
       "      <td>2024</td>\n",
       "      <td>7</td>\n",
       "    </tr>\n",
       "    <tr>\n",
       "      <th>139</th>\n",
       "      <td>Short</td>\n",
       "      <td>2024-07-19 09:15:00+05:30</td>\n",
       "      <td>81272.1900</td>\n",
       "      <td>81587.7600</td>\n",
       "      <td>80541.6812</td>\n",
       "      <td>2024-07-23 10:45:00+05:30</td>\n",
       "      <td>80664.8100</td>\n",
       "      <td>607.3800</td>\n",
       "      <td>16.1937</td>\n",
       "      <td>591.1863</td>\n",
       "      <td>508420.2180</td>\n",
       "      <td>Trailing SL</td>\n",
       "      <td>860</td>\n",
       "      <td>7</td>\n",
       "      <td>5.0842</td>\n",
       "      <td>2024</td>\n",
       "      <td>7</td>\n",
       "    </tr>\n",
       "    <tr>\n",
       "      <th>140</th>\n",
       "      <td>Short</td>\n",
       "      <td>2024-08-22 12:45:00+05:30</td>\n",
       "      <td>81050.2400</td>\n",
       "      <td>81171.4200</td>\n",
       "      <td>0.0000</td>\n",
       "      <td>2024-08-23 09:15:00+05:30</td>\n",
       "      <td>80928.1600</td>\n",
       "      <td>122.0800</td>\n",
       "      <td>16.1978</td>\n",
       "      <td>105.8822</td>\n",
       "      <td>91058.6576</td>\n",
       "      <td>Initial SL</td>\n",
       "      <td>860</td>\n",
       "      <td>7</td>\n",
       "      <td>0.9106</td>\n",
       "      <td>2024</td>\n",
       "      <td>8</td>\n",
       "    </tr>\n",
       "    <tr>\n",
       "      <th>141</th>\n",
       "      <td>Short</td>\n",
       "      <td>2024-10-28 13:45:00+05:30</td>\n",
       "      <td>80178.4800</td>\n",
       "      <td>80539.8100</td>\n",
       "      <td>79858.7435</td>\n",
       "      <td>2024-10-29 11:45:00+05:30</td>\n",
       "      <td>79897.6400</td>\n",
       "      <td>280.8400</td>\n",
       "      <td>16.0076</td>\n",
       "      <td>264.8324</td>\n",
       "      <td>230404.1776</td>\n",
       "      <td>Trailing SL</td>\n",
       "      <td>870</td>\n",
       "      <td>7</td>\n",
       "      <td>2.3040</td>\n",
       "      <td>2024</td>\n",
       "      <td>10</td>\n",
       "    </tr>\n",
       "    <tr>\n",
       "      <th>142</th>\n",
       "      <td>Short</td>\n",
       "      <td>2024-11-19 13:45:00+05:30</td>\n",
       "      <td>78195.4400</td>\n",
       "      <td>78408.7100</td>\n",
       "      <td>77801.5816</td>\n",
       "      <td>2024-11-21 09:15:00+05:30</td>\n",
       "      <td>77129.0900</td>\n",
       "      <td>1066.3500</td>\n",
       "      <td>15.5325</td>\n",
       "      <td>1050.8175</td>\n",
       "      <td>945735.7923</td>\n",
       "      <td>Target</td>\n",
       "      <td>900</td>\n",
       "      <td>7</td>\n",
       "      <td>9.4574</td>\n",
       "      <td>2024</td>\n",
       "      <td>11</td>\n",
       "    </tr>\n",
       "    <tr>\n",
       "      <th>143</th>\n",
       "      <td>Short</td>\n",
       "      <td>2024-11-27 14:15:00+05:30</td>\n",
       "      <td>80281.1300</td>\n",
       "      <td>80511.1500</td>\n",
       "      <td>79636.1661</td>\n",
       "      <td>2024-11-28 13:45:00+05:30</td>\n",
       "      <td>79131.0300</td>\n",
       "      <td>1150.1000</td>\n",
       "      <td>15.9412</td>\n",
       "      <td>1134.1588</td>\n",
       "      <td>986718.1421</td>\n",
       "      <td>Target</td>\n",
       "      <td>870</td>\n",
       "      <td>7</td>\n",
       "      <td>9.8672</td>\n",
       "      <td>2024</td>\n",
       "      <td>11</td>\n",
       "    </tr>\n",
       "  </tbody>\n",
       "</table>\n",
       "</div>"
      ],
      "text/plain": [
       "    Trade Type                Entry Time  Entry Price  Initial SL  \\\n",
       "132      Short 2024-01-05 10:45:00+05:30   71955.6900  72156.4800   \n",
       "133      Short 2024-01-19 10:45:00+05:30   71604.6300  72026.2600   \n",
       "134      Short 2024-04-09 11:45:00+05:30   74956.1200  75123.3000   \n",
       "135      Short 2024-04-30 12:45:00+05:30   74865.3800  75010.6200   \n",
       "136      Short 2024-06-06 11:45:00+05:30   74684.5900  75297.7300   \n",
       "137      Short 2024-06-10 11:45:00+05:30   76643.2300  76884.2600   \n",
       "138      Short 2024-07-03 14:15:00+05:30   79880.0000  80003.1700   \n",
       "139      Short 2024-07-19 09:15:00+05:30   81272.1900  81587.7600   \n",
       "140      Short 2024-08-22 12:45:00+05:30   81050.2400  81171.4200   \n",
       "141      Short 2024-10-28 13:45:00+05:30   80178.4800  80539.8100   \n",
       "142      Short 2024-11-19 13:45:00+05:30   78195.4400  78408.7100   \n",
       "143      Short 2024-11-27 14:15:00+05:30   80281.1300  80511.1500   \n",
       "\n",
       "     Trailing SL                 Exit Time  Exit Price  Points Captured  \\\n",
       "132       0.0000 2024-01-08 09:15:00+05:30  71896.6600          59.0300   \n",
       "133   71664.7258 2024-01-23 09:15:00+05:30  71949.8100        -345.1800   \n",
       "134   74785.3973 2024-04-10 09:15:00+05:30  74949.0500           7.0700   \n",
       "135       0.0000 2024-04-30 13:45:00+05:30  75065.2600        -199.8800   \n",
       "136       0.0000 2024-06-07 09:15:00+05:30  75463.3100        -778.7200   \n",
       "137       0.0000 2024-06-10 13:45:00+05:30  76844.0500        -200.8200   \n",
       "138       0.0000 2024-07-03 14:45:00+05:30  80022.9200        -142.9200   \n",
       "139   80541.6812 2024-07-23 10:45:00+05:30  80664.8100         607.3800   \n",
       "140       0.0000 2024-08-23 09:15:00+05:30  80928.1600         122.0800   \n",
       "141   79858.7435 2024-10-29 11:45:00+05:30  79897.6400         280.8400   \n",
       "142   77801.5816 2024-11-21 09:15:00+05:30  77129.0900        1066.3500   \n",
       "143   79636.1661 2024-11-28 13:45:00+05:30  79131.0300        1150.1000   \n",
       "\n",
       "     Slippage in Points  After Costs          PnL      Remarks  Qty  Leverage  \\\n",
       "132             14.3852      44.6448   43305.4220   Initial SL  970         7   \n",
       "133             14.3554    -359.5354 -352344.7351   Initial SL  980         7   \n",
       "134             14.9905      -7.9205   -7366.0808  Trailing SL  930         7   \n",
       "135             14.9931    -214.8731 -201980.6802   Initial SL  940         7   \n",
       "136             15.0148    -793.7348 -746110.7026   Initial SL  940         7   \n",
       "137             15.3487    -216.1687 -196713.5425   Initial SL  910         7   \n",
       "138             15.9903    -158.9103 -139841.0570   Initial SL  880         7   \n",
       "139             16.1937     591.1863  508420.2180  Trailing SL  860         7   \n",
       "140             16.1978     105.8822   91058.6576   Initial SL  860         7   \n",
       "141             16.0076     264.8324  230404.1776  Trailing SL  870         7   \n",
       "142             15.5325    1050.8175  945735.7923       Target  900         7   \n",
       "143             15.9412    1134.1588  986718.1421       Target  870         7   \n",
       "\n",
       "       ROI%  Trade Year  Trade Month  \n",
       "132  0.4331        2024            1  \n",
       "133 -3.5234        2024            1  \n",
       "134 -0.0737        2024            4  \n",
       "135 -2.0198        2024            4  \n",
       "136 -7.4611        2024            6  \n",
       "137 -1.9671        2024            6  \n",
       "138 -1.3984        2024            7  \n",
       "139  5.0842        2024            7  \n",
       "140  0.9106        2024            8  \n",
       "141  2.3040        2024           10  \n",
       "142  9.4574        2024           11  \n",
       "143  9.8672        2024           11  "
      ]
     },
     "execution_count": 26,
     "metadata": {},
     "output_type": "execute_result"
    }
   ],
   "source": [
    "tb[tb['Trade Year'] > 2023]"
   ]
  },
  {
   "cell_type": "code",
   "execution_count": 27,
   "id": "6f8c0927-53bc-4099-ba18-acb073499896",
   "metadata": {
    "execution": {
     "iopub.execute_input": "2024-12-29T14:26:37.007800Z",
     "iopub.status.busy": "2024-12-29T14:26:37.006717Z",
     "iopub.status.idle": "2024-12-29T15:20:10.787790Z",
     "shell.execute_reply": "2024-12-29T15:20:10.786461Z",
     "shell.execute_reply.started": "2024-12-29T14:26:37.007771Z"
    },
    "scrolled": true
   },
   "outputs": [
    {
     "name": "stdout",
     "output_type": "stream",
     "text": [
      "n 2, rsi 14, threshold 30, ema 5\n",
      "n 2, rsi 14, threshold 30, ema 10\n",
      "n 2, rsi 14, threshold 30, ema 15\n",
      "n 2, rsi 14, threshold 30, ema 20\n",
      "n 2, rsi 14, threshold 30, ema 25\n",
      "n 2, rsi 14, threshold 30, ema 30\n",
      "n 2, rsi 14, threshold 30, ema 35\n",
      "n 2, rsi 14, threshold 35, ema 5\n",
      "n 2, rsi 14, threshold 35, ema 10\n",
      "n 2, rsi 14, threshold 35, ema 15\n",
      "n 2, rsi 14, threshold 35, ema 20\n",
      "n 2, rsi 14, threshold 35, ema 25\n",
      "n 2, rsi 14, threshold 35, ema 30\n",
      "n 2, rsi 14, threshold 35, ema 35\n",
      "n 2, rsi 14, threshold 40, ema 5\n",
      "n 2, rsi 14, threshold 40, ema 10\n",
      "n 2, rsi 14, threshold 40, ema 15\n",
      "n 2, rsi 14, threshold 40, ema 20\n",
      "n 2, rsi 14, threshold 40, ema 25\n",
      "n 2, rsi 14, threshold 40, ema 30\n",
      "n 2, rsi 14, threshold 40, ema 35\n",
      "n 2, rsi 14, threshold 45, ema 5\n",
      "n 2, rsi 14, threshold 45, ema 10\n",
      "n 2, rsi 14, threshold 45, ema 15\n",
      "n 2, rsi 14, threshold 45, ema 20\n",
      "n 2, rsi 14, threshold 45, ema 25\n",
      "n 2, rsi 14, threshold 45, ema 30\n",
      "n 2, rsi 14, threshold 45, ema 35\n",
      "n 2, rsi 14, threshold 50, ema 5\n",
      "n 2, rsi 14, threshold 50, ema 10\n",
      "n 2, rsi 14, threshold 50, ema 15\n",
      "n 2, rsi 14, threshold 50, ema 20\n",
      "n 2, rsi 14, threshold 50, ema 25\n",
      "n 2, rsi 14, threshold 50, ema 30\n",
      "n 2, rsi 14, threshold 50, ema 35\n",
      "n 2, rsi 14, threshold 55, ema 5\n",
      "n 2, rsi 14, threshold 55, ema 10\n",
      "n 2, rsi 14, threshold 55, ema 15\n",
      "n 2, rsi 14, threshold 55, ema 20\n",
      "n 2, rsi 14, threshold 55, ema 25\n",
      "n 2, rsi 14, threshold 55, ema 30\n",
      "n 2, rsi 14, threshold 55, ema 35\n",
      "n 2, rsi 14, threshold 60, ema 5\n",
      "n 2, rsi 14, threshold 60, ema 10\n",
      "n 2, rsi 14, threshold 60, ema 15\n",
      "n 2, rsi 14, threshold 60, ema 20\n",
      "n 2, rsi 14, threshold 60, ema 25\n",
      "n 2, rsi 14, threshold 60, ema 30\n",
      "n 2, rsi 14, threshold 60, ema 35\n",
      "n 2, rsi 14, threshold 65, ema 5\n",
      "n 2, rsi 14, threshold 65, ema 10\n",
      "n 2, rsi 14, threshold 65, ema 15\n",
      "n 2, rsi 14, threshold 65, ema 20\n",
      "n 2, rsi 14, threshold 65, ema 25\n",
      "n 2, rsi 14, threshold 65, ema 30\n",
      "n 2, rsi 14, threshold 65, ema 35\n",
      "n 2, rsi 14, threshold 70, ema 5\n",
      "n 2, rsi 14, threshold 70, ema 10\n",
      "n 2, rsi 14, threshold 70, ema 15\n",
      "n 2, rsi 14, threshold 70, ema 20\n",
      "n 2, rsi 14, threshold 70, ema 25\n",
      "n 2, rsi 14, threshold 70, ema 30\n",
      "n 2, rsi 14, threshold 70, ema 35\n",
      "n 2, rsi 14, threshold 75, ema 5\n"
     ]
    },
    {
     "name": "stderr",
     "output_type": "stream",
     "text": [
      "/tmp/ipykernel_36346/873016624.py:45: RuntimeWarning: divide by zero encountered in scalar divide\n",
      "  roi_dd_ratio = total_roi / abs(max_drawdown)\n"
     ]
    },
    {
     "name": "stdout",
     "output_type": "stream",
     "text": [
      "n 2, rsi 14, threshold 75, ema 10\n"
     ]
    },
    {
     "name": "stderr",
     "output_type": "stream",
     "text": [
      "/tmp/ipykernel_36346/873016624.py:45: RuntimeWarning: divide by zero encountered in scalar divide\n",
      "  roi_dd_ratio = total_roi / abs(max_drawdown)\n"
     ]
    },
    {
     "name": "stdout",
     "output_type": "stream",
     "text": [
      "n 2, rsi 14, threshold 75, ema 15\n"
     ]
    },
    {
     "name": "stderr",
     "output_type": "stream",
     "text": [
      "/tmp/ipykernel_36346/873016624.py:45: RuntimeWarning: divide by zero encountered in scalar divide\n",
      "  roi_dd_ratio = total_roi / abs(max_drawdown)\n"
     ]
    },
    {
     "name": "stdout",
     "output_type": "stream",
     "text": [
      "n 2, rsi 14, threshold 75, ema 20\n"
     ]
    },
    {
     "name": "stderr",
     "output_type": "stream",
     "text": [
      "/tmp/ipykernel_36346/873016624.py:45: RuntimeWarning: divide by zero encountered in scalar divide\n",
      "  roi_dd_ratio = total_roi / abs(max_drawdown)\n"
     ]
    },
    {
     "name": "stdout",
     "output_type": "stream",
     "text": [
      "n 2, rsi 14, threshold 75, ema 25\n"
     ]
    },
    {
     "name": "stderr",
     "output_type": "stream",
     "text": [
      "/tmp/ipykernel_36346/873016624.py:45: RuntimeWarning: divide by zero encountered in scalar divide\n",
      "  roi_dd_ratio = total_roi / abs(max_drawdown)\n"
     ]
    },
    {
     "name": "stdout",
     "output_type": "stream",
     "text": [
      "n 2, rsi 14, threshold 75, ema 30\n"
     ]
    },
    {
     "name": "stderr",
     "output_type": "stream",
     "text": [
      "/tmp/ipykernel_36346/873016624.py:45: RuntimeWarning: divide by zero encountered in scalar divide\n",
      "  roi_dd_ratio = total_roi / abs(max_drawdown)\n"
     ]
    },
    {
     "name": "stdout",
     "output_type": "stream",
     "text": [
      "n 2, rsi 14, threshold 75, ema 35\n"
     ]
    },
    {
     "name": "stderr",
     "output_type": "stream",
     "text": [
      "/tmp/ipykernel_36346/873016624.py:45: RuntimeWarning: divide by zero encountered in scalar divide\n",
      "  roi_dd_ratio = total_roi / abs(max_drawdown)\n"
     ]
    },
    {
     "name": "stdout",
     "output_type": "stream",
     "text": [
      "n 2, rsi 14, threshold 80, ema 5\n",
      "n 2, rsi 14, threshold 80, ema 10\n",
      "n 2, rsi 14, threshold 80, ema 15\n",
      "n 2, rsi 14, threshold 80, ema 20\n",
      "n 2, rsi 14, threshold 80, ema 25\n",
      "n 2, rsi 14, threshold 80, ema 30\n",
      "n 2, rsi 14, threshold 80, ema 35\n",
      "n 2, rsi 9, threshold 30, ema 5\n",
      "n 2, rsi 9, threshold 30, ema 10\n",
      "n 2, rsi 9, threshold 30, ema 15\n",
      "n 2, rsi 9, threshold 30, ema 20\n",
      "n 2, rsi 9, threshold 30, ema 25\n",
      "n 2, rsi 9, threshold 30, ema 30\n",
      "n 2, rsi 9, threshold 30, ema 35\n",
      "n 2, rsi 9, threshold 35, ema 5\n",
      "n 2, rsi 9, threshold 35, ema 10\n",
      "n 2, rsi 9, threshold 35, ema 15\n",
      "n 2, rsi 9, threshold 35, ema 20\n",
      "n 2, rsi 9, threshold 35, ema 25\n",
      "n 2, rsi 9, threshold 35, ema 30\n",
      "n 2, rsi 9, threshold 35, ema 35\n",
      "n 2, rsi 9, threshold 40, ema 5\n",
      "n 2, rsi 9, threshold 40, ema 10\n",
      "n 2, rsi 9, threshold 40, ema 15\n",
      "n 2, rsi 9, threshold 40, ema 20\n",
      "n 2, rsi 9, threshold 40, ema 25\n",
      "n 2, rsi 9, threshold 40, ema 30\n",
      "n 2, rsi 9, threshold 40, ema 35\n",
      "n 2, rsi 9, threshold 45, ema 5\n",
      "n 2, rsi 9, threshold 45, ema 10\n",
      "n 2, rsi 9, threshold 45, ema 15\n",
      "n 2, rsi 9, threshold 45, ema 20\n",
      "n 2, rsi 9, threshold 45, ema 25\n",
      "n 2, rsi 9, threshold 45, ema 30\n",
      "n 2, rsi 9, threshold 45, ema 35\n",
      "n 2, rsi 9, threshold 50, ema 5\n",
      "n 2, rsi 9, threshold 50, ema 10\n",
      "n 2, rsi 9, threshold 50, ema 15\n",
      "n 2, rsi 9, threshold 50, ema 20\n",
      "n 2, rsi 9, threshold 50, ema 25\n",
      "n 2, rsi 9, threshold 50, ema 30\n",
      "n 2, rsi 9, threshold 50, ema 35\n",
      "n 2, rsi 9, threshold 55, ema 5\n",
      "n 2, rsi 9, threshold 55, ema 10\n",
      "n 2, rsi 9, threshold 55, ema 15\n",
      "n 2, rsi 9, threshold 55, ema 20\n",
      "n 2, rsi 9, threshold 55, ema 25\n",
      "n 2, rsi 9, threshold 55, ema 30\n",
      "n 2, rsi 9, threshold 55, ema 35\n",
      "n 2, rsi 9, threshold 60, ema 5\n",
      "n 2, rsi 9, threshold 60, ema 10\n",
      "n 2, rsi 9, threshold 60, ema 15\n",
      "n 2, rsi 9, threshold 60, ema 20\n",
      "n 2, rsi 9, threshold 60, ema 25\n",
      "n 2, rsi 9, threshold 60, ema 30\n",
      "n 2, rsi 9, threshold 60, ema 35\n",
      "n 2, rsi 9, threshold 65, ema 5\n",
      "n 2, rsi 9, threshold 65, ema 10\n",
      "n 2, rsi 9, threshold 65, ema 15\n",
      "n 2, rsi 9, threshold 65, ema 20\n",
      "n 2, rsi 9, threshold 65, ema 25\n",
      "n 2, rsi 9, threshold 65, ema 30\n",
      "n 2, rsi 9, threshold 65, ema 35\n",
      "n 2, rsi 9, threshold 70, ema 5\n",
      "n 2, rsi 9, threshold 70, ema 10\n",
      "n 2, rsi 9, threshold 70, ema 15\n",
      "n 2, rsi 9, threshold 70, ema 20\n",
      "n 2, rsi 9, threshold 70, ema 25\n",
      "n 2, rsi 9, threshold 70, ema 30\n",
      "n 2, rsi 9, threshold 70, ema 35\n",
      "n 2, rsi 9, threshold 75, ema 5\n"
     ]
    },
    {
     "name": "stderr",
     "output_type": "stream",
     "text": [
      "/tmp/ipykernel_36346/873016624.py:45: RuntimeWarning: divide by zero encountered in scalar divide\n",
      "  roi_dd_ratio = total_roi / abs(max_drawdown)\n"
     ]
    },
    {
     "name": "stdout",
     "output_type": "stream",
     "text": [
      "n 2, rsi 9, threshold 75, ema 10\n"
     ]
    },
    {
     "name": "stderr",
     "output_type": "stream",
     "text": [
      "/tmp/ipykernel_36346/873016624.py:45: RuntimeWarning: divide by zero encountered in scalar divide\n",
      "  roi_dd_ratio = total_roi / abs(max_drawdown)\n"
     ]
    },
    {
     "name": "stdout",
     "output_type": "stream",
     "text": [
      "n 2, rsi 9, threshold 75, ema 15\n"
     ]
    },
    {
     "name": "stderr",
     "output_type": "stream",
     "text": [
      "/tmp/ipykernel_36346/873016624.py:45: RuntimeWarning: divide by zero encountered in scalar divide\n",
      "  roi_dd_ratio = total_roi / abs(max_drawdown)\n"
     ]
    },
    {
     "name": "stdout",
     "output_type": "stream",
     "text": [
      "n 2, rsi 9, threshold 75, ema 20\n"
     ]
    },
    {
     "name": "stderr",
     "output_type": "stream",
     "text": [
      "/tmp/ipykernel_36346/873016624.py:45: RuntimeWarning: divide by zero encountered in scalar divide\n",
      "  roi_dd_ratio = total_roi / abs(max_drawdown)\n"
     ]
    },
    {
     "name": "stdout",
     "output_type": "stream",
     "text": [
      "n 2, rsi 9, threshold 75, ema 25\n"
     ]
    },
    {
     "name": "stderr",
     "output_type": "stream",
     "text": [
      "/tmp/ipykernel_36346/873016624.py:45: RuntimeWarning: divide by zero encountered in scalar divide\n",
      "  roi_dd_ratio = total_roi / abs(max_drawdown)\n"
     ]
    },
    {
     "name": "stdout",
     "output_type": "stream",
     "text": [
      "n 2, rsi 9, threshold 75, ema 30\n"
     ]
    },
    {
     "name": "stderr",
     "output_type": "stream",
     "text": [
      "/tmp/ipykernel_36346/873016624.py:45: RuntimeWarning: divide by zero encountered in scalar divide\n",
      "  roi_dd_ratio = total_roi / abs(max_drawdown)\n"
     ]
    },
    {
     "name": "stdout",
     "output_type": "stream",
     "text": [
      "n 2, rsi 9, threshold 75, ema 35\n"
     ]
    },
    {
     "name": "stderr",
     "output_type": "stream",
     "text": [
      "/tmp/ipykernel_36346/873016624.py:45: RuntimeWarning: divide by zero encountered in scalar divide\n",
      "  roi_dd_ratio = total_roi / abs(max_drawdown)\n"
     ]
    },
    {
     "name": "stdout",
     "output_type": "stream",
     "text": [
      "n 2, rsi 9, threshold 80, ema 5\n"
     ]
    },
    {
     "name": "stderr",
     "output_type": "stream",
     "text": [
      "/tmp/ipykernel_36346/873016624.py:45: RuntimeWarning: divide by zero encountered in scalar divide\n",
      "  roi_dd_ratio = total_roi / abs(max_drawdown)\n"
     ]
    },
    {
     "name": "stdout",
     "output_type": "stream",
     "text": [
      "n 2, rsi 9, threshold 80, ema 10\n"
     ]
    },
    {
     "name": "stderr",
     "output_type": "stream",
     "text": [
      "/tmp/ipykernel_36346/873016624.py:45: RuntimeWarning: divide by zero encountered in scalar divide\n",
      "  roi_dd_ratio = total_roi / abs(max_drawdown)\n"
     ]
    },
    {
     "name": "stdout",
     "output_type": "stream",
     "text": [
      "n 2, rsi 9, threshold 80, ema 15\n"
     ]
    },
    {
     "name": "stderr",
     "output_type": "stream",
     "text": [
      "/tmp/ipykernel_36346/873016624.py:45: RuntimeWarning: divide by zero encountered in scalar divide\n",
      "  roi_dd_ratio = total_roi / abs(max_drawdown)\n"
     ]
    },
    {
     "name": "stdout",
     "output_type": "stream",
     "text": [
      "n 2, rsi 9, threshold 80, ema 20\n"
     ]
    },
    {
     "name": "stderr",
     "output_type": "stream",
     "text": [
      "/tmp/ipykernel_36346/873016624.py:45: RuntimeWarning: divide by zero encountered in scalar divide\n",
      "  roi_dd_ratio = total_roi / abs(max_drawdown)\n"
     ]
    },
    {
     "name": "stdout",
     "output_type": "stream",
     "text": [
      "n 2, rsi 9, threshold 80, ema 25\n"
     ]
    },
    {
     "name": "stderr",
     "output_type": "stream",
     "text": [
      "/tmp/ipykernel_36346/873016624.py:45: RuntimeWarning: divide by zero encountered in scalar divide\n",
      "  roi_dd_ratio = total_roi / abs(max_drawdown)\n"
     ]
    },
    {
     "name": "stdout",
     "output_type": "stream",
     "text": [
      "n 2, rsi 9, threshold 80, ema 30\n"
     ]
    },
    {
     "name": "stderr",
     "output_type": "stream",
     "text": [
      "/tmp/ipykernel_36346/873016624.py:45: RuntimeWarning: divide by zero encountered in scalar divide\n",
      "  roi_dd_ratio = total_roi / abs(max_drawdown)\n"
     ]
    },
    {
     "name": "stdout",
     "output_type": "stream",
     "text": [
      "n 2, rsi 9, threshold 80, ema 35\n"
     ]
    },
    {
     "name": "stderr",
     "output_type": "stream",
     "text": [
      "/tmp/ipykernel_36346/873016624.py:45: RuntimeWarning: divide by zero encountered in scalar divide\n",
      "  roi_dd_ratio = total_roi / abs(max_drawdown)\n"
     ]
    },
    {
     "name": "stdout",
     "output_type": "stream",
     "text": [
      "n 2, rsi 21, threshold 30, ema 5\n",
      "n 2, rsi 21, threshold 30, ema 10\n",
      "n 2, rsi 21, threshold 30, ema 15\n",
      "n 2, rsi 21, threshold 30, ema 20\n",
      "n 2, rsi 21, threshold 30, ema 25\n",
      "n 2, rsi 21, threshold 30, ema 30\n",
      "n 2, rsi 21, threshold 30, ema 35\n",
      "n 2, rsi 21, threshold 35, ema 5\n",
      "n 2, rsi 21, threshold 35, ema 10\n",
      "n 2, rsi 21, threshold 35, ema 15\n",
      "n 2, rsi 21, threshold 35, ema 20\n",
      "n 2, rsi 21, threshold 35, ema 25\n",
      "n 2, rsi 21, threshold 35, ema 30\n",
      "n 2, rsi 21, threshold 35, ema 35\n",
      "n 2, rsi 21, threshold 40, ema 5\n",
      "n 2, rsi 21, threshold 40, ema 10\n",
      "n 2, rsi 21, threshold 40, ema 15\n",
      "n 2, rsi 21, threshold 40, ema 20\n",
      "n 2, rsi 21, threshold 40, ema 25\n",
      "n 2, rsi 21, threshold 40, ema 30\n",
      "n 2, rsi 21, threshold 40, ema 35\n",
      "n 2, rsi 21, threshold 45, ema 5\n",
      "n 2, rsi 21, threshold 45, ema 10\n",
      "n 2, rsi 21, threshold 45, ema 15\n",
      "n 2, rsi 21, threshold 45, ema 20\n",
      "n 2, rsi 21, threshold 45, ema 25\n",
      "n 2, rsi 21, threshold 45, ema 30\n",
      "n 2, rsi 21, threshold 45, ema 35\n",
      "n 2, rsi 21, threshold 50, ema 5\n",
      "n 2, rsi 21, threshold 50, ema 10\n",
      "n 2, rsi 21, threshold 50, ema 15\n",
      "n 2, rsi 21, threshold 50, ema 20\n",
      "n 2, rsi 21, threshold 50, ema 25\n",
      "n 2, rsi 21, threshold 50, ema 30\n",
      "n 2, rsi 21, threshold 50, ema 35\n",
      "n 2, rsi 21, threshold 55, ema 5\n",
      "n 2, rsi 21, threshold 55, ema 10\n",
      "n 2, rsi 21, threshold 55, ema 15\n",
      "n 2, rsi 21, threshold 55, ema 20\n",
      "n 2, rsi 21, threshold 55, ema 25\n",
      "n 2, rsi 21, threshold 55, ema 30\n",
      "n 2, rsi 21, threshold 55, ema 35\n",
      "n 2, rsi 21, threshold 60, ema 5\n",
      "n 2, rsi 21, threshold 60, ema 10\n",
      "n 2, rsi 21, threshold 60, ema 15\n",
      "n 2, rsi 21, threshold 60, ema 20\n",
      "n 2, rsi 21, threshold 60, ema 25\n",
      "n 2, rsi 21, threshold 60, ema 30\n",
      "n 2, rsi 21, threshold 60, ema 35\n",
      "n 2, rsi 21, threshold 65, ema 5\n",
      "n 2, rsi 21, threshold 65, ema 10\n",
      "n 2, rsi 21, threshold 65, ema 15\n",
      "n 2, rsi 21, threshold 65, ema 20\n",
      "n 2, rsi 21, threshold 65, ema 25\n",
      "n 2, rsi 21, threshold 65, ema 30\n",
      "n 2, rsi 21, threshold 65, ema 35\n",
      "n 2, rsi 21, threshold 70, ema 5\n",
      "n 2, rsi 21, threshold 70, ema 10\n",
      "n 2, rsi 21, threshold 70, ema 15\n",
      "n 2, rsi 21, threshold 70, ema 20\n",
      "n 2, rsi 21, threshold 70, ema 25\n",
      "n 2, rsi 21, threshold 70, ema 30\n",
      "n 2, rsi 21, threshold 70, ema 35\n",
      "n 2, rsi 21, threshold 75, ema 5\n"
     ]
    },
    {
     "name": "stderr",
     "output_type": "stream",
     "text": [
      "/tmp/ipykernel_36346/873016624.py:45: RuntimeWarning: divide by zero encountered in scalar divide\n",
      "  roi_dd_ratio = total_roi / abs(max_drawdown)\n"
     ]
    },
    {
     "name": "stdout",
     "output_type": "stream",
     "text": [
      "n 2, rsi 21, threshold 75, ema 10\n"
     ]
    },
    {
     "name": "stderr",
     "output_type": "stream",
     "text": [
      "/tmp/ipykernel_36346/873016624.py:45: RuntimeWarning: divide by zero encountered in scalar divide\n",
      "  roi_dd_ratio = total_roi / abs(max_drawdown)\n"
     ]
    },
    {
     "name": "stdout",
     "output_type": "stream",
     "text": [
      "n 2, rsi 21, threshold 75, ema 15\n"
     ]
    },
    {
     "name": "stderr",
     "output_type": "stream",
     "text": [
      "/tmp/ipykernel_36346/873016624.py:45: RuntimeWarning: divide by zero encountered in scalar divide\n",
      "  roi_dd_ratio = total_roi / abs(max_drawdown)\n"
     ]
    },
    {
     "name": "stdout",
     "output_type": "stream",
     "text": [
      "n 2, rsi 21, threshold 75, ema 20\n"
     ]
    },
    {
     "name": "stderr",
     "output_type": "stream",
     "text": [
      "/tmp/ipykernel_36346/873016624.py:45: RuntimeWarning: divide by zero encountered in scalar divide\n",
      "  roi_dd_ratio = total_roi / abs(max_drawdown)\n"
     ]
    },
    {
     "name": "stdout",
     "output_type": "stream",
     "text": [
      "n 2, rsi 21, threshold 75, ema 25\n"
     ]
    },
    {
     "name": "stderr",
     "output_type": "stream",
     "text": [
      "/tmp/ipykernel_36346/873016624.py:45: RuntimeWarning: divide by zero encountered in scalar divide\n",
      "  roi_dd_ratio = total_roi / abs(max_drawdown)\n"
     ]
    },
    {
     "name": "stdout",
     "output_type": "stream",
     "text": [
      "n 2, rsi 21, threshold 75, ema 30\n"
     ]
    },
    {
     "name": "stderr",
     "output_type": "stream",
     "text": [
      "/tmp/ipykernel_36346/873016624.py:45: RuntimeWarning: divide by zero encountered in scalar divide\n",
      "  roi_dd_ratio = total_roi / abs(max_drawdown)\n"
     ]
    },
    {
     "name": "stdout",
     "output_type": "stream",
     "text": [
      "n 2, rsi 21, threshold 75, ema 35\n"
     ]
    },
    {
     "name": "stderr",
     "output_type": "stream",
     "text": [
      "/tmp/ipykernel_36346/873016624.py:45: RuntimeWarning: divide by zero encountered in scalar divide\n",
      "  roi_dd_ratio = total_roi / abs(max_drawdown)\n"
     ]
    },
    {
     "name": "stdout",
     "output_type": "stream",
     "text": [
      "n 2, rsi 21, threshold 80, ema 5\n",
      "n 2, rsi 21, threshold 80, ema 10\n",
      "n 2, rsi 21, threshold 80, ema 15\n",
      "n 2, rsi 21, threshold 80, ema 20\n",
      "n 2, rsi 21, threshold 80, ema 25\n",
      "n 2, rsi 21, threshold 80, ema 30\n",
      "n 2, rsi 21, threshold 80, ema 35\n",
      "n 2, rsi 6, threshold 30, ema 5\n",
      "n 2, rsi 6, threshold 30, ema 10\n",
      "n 2, rsi 6, threshold 30, ema 15\n",
      "n 2, rsi 6, threshold 30, ema 20\n",
      "n 2, rsi 6, threshold 30, ema 25\n",
      "n 2, rsi 6, threshold 30, ema 30\n",
      "n 2, rsi 6, threshold 30, ema 35\n",
      "n 2, rsi 6, threshold 35, ema 5\n",
      "n 2, rsi 6, threshold 35, ema 10\n",
      "n 2, rsi 6, threshold 35, ema 15\n",
      "n 2, rsi 6, threshold 35, ema 20\n",
      "n 2, rsi 6, threshold 35, ema 25\n",
      "n 2, rsi 6, threshold 35, ema 30\n",
      "n 2, rsi 6, threshold 35, ema 35\n",
      "n 2, rsi 6, threshold 40, ema 5\n",
      "n 2, rsi 6, threshold 40, ema 10\n",
      "n 2, rsi 6, threshold 40, ema 15\n",
      "n 2, rsi 6, threshold 40, ema 20\n",
      "n 2, rsi 6, threshold 40, ema 25\n",
      "n 2, rsi 6, threshold 40, ema 30\n",
      "n 2, rsi 6, threshold 40, ema 35\n",
      "n 2, rsi 6, threshold 45, ema 5\n",
      "n 2, rsi 6, threshold 45, ema 10\n",
      "n 2, rsi 6, threshold 45, ema 15\n",
      "n 2, rsi 6, threshold 45, ema 20\n",
      "n 2, rsi 6, threshold 45, ema 25\n",
      "n 2, rsi 6, threshold 45, ema 30\n",
      "n 2, rsi 6, threshold 45, ema 35\n",
      "n 2, rsi 6, threshold 50, ema 5\n",
      "n 2, rsi 6, threshold 50, ema 10\n",
      "n 2, rsi 6, threshold 50, ema 15\n",
      "n 2, rsi 6, threshold 50, ema 20\n",
      "n 2, rsi 6, threshold 50, ema 25\n",
      "n 2, rsi 6, threshold 50, ema 30\n",
      "n 2, rsi 6, threshold 50, ema 35\n",
      "n 2, rsi 6, threshold 55, ema 5\n",
      "n 2, rsi 6, threshold 55, ema 10\n",
      "n 2, rsi 6, threshold 55, ema 15\n",
      "n 2, rsi 6, threshold 55, ema 20\n",
      "n 2, rsi 6, threshold 55, ema 25\n",
      "n 2, rsi 6, threshold 55, ema 30\n",
      "n 2, rsi 6, threshold 55, ema 35\n",
      "n 2, rsi 6, threshold 60, ema 5\n",
      "n 2, rsi 6, threshold 60, ema 10\n",
      "n 2, rsi 6, threshold 60, ema 15\n",
      "n 2, rsi 6, threshold 60, ema 20\n",
      "n 2, rsi 6, threshold 60, ema 25\n",
      "n 2, rsi 6, threshold 60, ema 30\n",
      "n 2, rsi 6, threshold 60, ema 35\n",
      "n 2, rsi 6, threshold 65, ema 5\n",
      "n 2, rsi 6, threshold 65, ema 10\n",
      "n 2, rsi 6, threshold 65, ema 15\n",
      "n 2, rsi 6, threshold 65, ema 20\n",
      "n 2, rsi 6, threshold 65, ema 25\n",
      "n 2, rsi 6, threshold 65, ema 30\n",
      "n 2, rsi 6, threshold 65, ema 35\n",
      "n 2, rsi 6, threshold 70, ema 5\n",
      "n 2, rsi 6, threshold 70, ema 10\n",
      "n 2, rsi 6, threshold 70, ema 15\n",
      "n 2, rsi 6, threshold 70, ema 20\n",
      "n 2, rsi 6, threshold 70, ema 25\n",
      "n 2, rsi 6, threshold 70, ema 30\n",
      "n 2, rsi 6, threshold 70, ema 35\n",
      "n 2, rsi 6, threshold 75, ema 5\n"
     ]
    },
    {
     "name": "stderr",
     "output_type": "stream",
     "text": [
      "/tmp/ipykernel_36346/873016624.py:45: RuntimeWarning: divide by zero encountered in scalar divide\n",
      "  roi_dd_ratio = total_roi / abs(max_drawdown)\n"
     ]
    },
    {
     "name": "stdout",
     "output_type": "stream",
     "text": [
      "n 2, rsi 6, threshold 75, ema 10\n"
     ]
    },
    {
     "name": "stderr",
     "output_type": "stream",
     "text": [
      "/tmp/ipykernel_36346/873016624.py:45: RuntimeWarning: divide by zero encountered in scalar divide\n",
      "  roi_dd_ratio = total_roi / abs(max_drawdown)\n"
     ]
    },
    {
     "name": "stdout",
     "output_type": "stream",
     "text": [
      "n 2, rsi 6, threshold 75, ema 15\n"
     ]
    },
    {
     "name": "stderr",
     "output_type": "stream",
     "text": [
      "/tmp/ipykernel_36346/873016624.py:45: RuntimeWarning: divide by zero encountered in scalar divide\n",
      "  roi_dd_ratio = total_roi / abs(max_drawdown)\n"
     ]
    },
    {
     "name": "stdout",
     "output_type": "stream",
     "text": [
      "n 2, rsi 6, threshold 75, ema 20\n"
     ]
    },
    {
     "name": "stderr",
     "output_type": "stream",
     "text": [
      "/tmp/ipykernel_36346/873016624.py:45: RuntimeWarning: divide by zero encountered in scalar divide\n",
      "  roi_dd_ratio = total_roi / abs(max_drawdown)\n"
     ]
    },
    {
     "name": "stdout",
     "output_type": "stream",
     "text": [
      "n 2, rsi 6, threshold 75, ema 25\n"
     ]
    },
    {
     "name": "stderr",
     "output_type": "stream",
     "text": [
      "/tmp/ipykernel_36346/873016624.py:45: RuntimeWarning: divide by zero encountered in scalar divide\n",
      "  roi_dd_ratio = total_roi / abs(max_drawdown)\n"
     ]
    },
    {
     "name": "stdout",
     "output_type": "stream",
     "text": [
      "n 2, rsi 6, threshold 75, ema 30\n"
     ]
    },
    {
     "name": "stderr",
     "output_type": "stream",
     "text": [
      "/tmp/ipykernel_36346/873016624.py:45: RuntimeWarning: divide by zero encountered in scalar divide\n",
      "  roi_dd_ratio = total_roi / abs(max_drawdown)\n"
     ]
    },
    {
     "name": "stdout",
     "output_type": "stream",
     "text": [
      "n 2, rsi 6, threshold 75, ema 35\n"
     ]
    },
    {
     "name": "stderr",
     "output_type": "stream",
     "text": [
      "/tmp/ipykernel_36346/873016624.py:45: RuntimeWarning: divide by zero encountered in scalar divide\n",
      "  roi_dd_ratio = total_roi / abs(max_drawdown)\n"
     ]
    },
    {
     "name": "stdout",
     "output_type": "stream",
     "text": [
      "n 2, rsi 6, threshold 80, ema 5\n"
     ]
    },
    {
     "name": "stderr",
     "output_type": "stream",
     "text": [
      "/tmp/ipykernel_36346/873016624.py:45: RuntimeWarning: divide by zero encountered in scalar divide\n",
      "  roi_dd_ratio = total_roi / abs(max_drawdown)\n",
      "/tmp/ipykernel_36346/873016624.py:70: RuntimeWarning: divide by zero encountered in scalar divide\n",
      "  overall_roi_dd_ratio = overall_total_roi / abs(overall_max_drawdown)\n"
     ]
    },
    {
     "name": "stdout",
     "output_type": "stream",
     "text": [
      "n 2, rsi 6, threshold 80, ema 10\n"
     ]
    },
    {
     "name": "stderr",
     "output_type": "stream",
     "text": [
      "/tmp/ipykernel_36346/873016624.py:45: RuntimeWarning: divide by zero encountered in scalar divide\n",
      "  roi_dd_ratio = total_roi / abs(max_drawdown)\n",
      "/tmp/ipykernel_36346/873016624.py:70: RuntimeWarning: divide by zero encountered in scalar divide\n",
      "  overall_roi_dd_ratio = overall_total_roi / abs(overall_max_drawdown)\n"
     ]
    },
    {
     "name": "stdout",
     "output_type": "stream",
     "text": [
      "n 2, rsi 6, threshold 80, ema 15\n"
     ]
    },
    {
     "name": "stderr",
     "output_type": "stream",
     "text": [
      "/tmp/ipykernel_36346/873016624.py:45: RuntimeWarning: divide by zero encountered in scalar divide\n",
      "  roi_dd_ratio = total_roi / abs(max_drawdown)\n",
      "/tmp/ipykernel_36346/873016624.py:70: RuntimeWarning: divide by zero encountered in scalar divide\n",
      "  overall_roi_dd_ratio = overall_total_roi / abs(overall_max_drawdown)\n"
     ]
    },
    {
     "name": "stdout",
     "output_type": "stream",
     "text": [
      "n 2, rsi 6, threshold 80, ema 20\n"
     ]
    },
    {
     "name": "stderr",
     "output_type": "stream",
     "text": [
      "/tmp/ipykernel_36346/873016624.py:45: RuntimeWarning: divide by zero encountered in scalar divide\n",
      "  roi_dd_ratio = total_roi / abs(max_drawdown)\n",
      "/tmp/ipykernel_36346/873016624.py:70: RuntimeWarning: divide by zero encountered in scalar divide\n",
      "  overall_roi_dd_ratio = overall_total_roi / abs(overall_max_drawdown)\n"
     ]
    },
    {
     "name": "stdout",
     "output_type": "stream",
     "text": [
      "n 2, rsi 6, threshold 80, ema 25\n"
     ]
    },
    {
     "name": "stderr",
     "output_type": "stream",
     "text": [
      "/tmp/ipykernel_36346/873016624.py:45: RuntimeWarning: divide by zero encountered in scalar divide\n",
      "  roi_dd_ratio = total_roi / abs(max_drawdown)\n",
      "/tmp/ipykernel_36346/873016624.py:70: RuntimeWarning: divide by zero encountered in scalar divide\n",
      "  overall_roi_dd_ratio = overall_total_roi / abs(overall_max_drawdown)\n"
     ]
    },
    {
     "name": "stdout",
     "output_type": "stream",
     "text": [
      "n 2, rsi 6, threshold 80, ema 30\n"
     ]
    },
    {
     "name": "stderr",
     "output_type": "stream",
     "text": [
      "/tmp/ipykernel_36346/873016624.py:45: RuntimeWarning: divide by zero encountered in scalar divide\n",
      "  roi_dd_ratio = total_roi / abs(max_drawdown)\n",
      "/tmp/ipykernel_36346/873016624.py:70: RuntimeWarning: divide by zero encountered in scalar divide\n",
      "  overall_roi_dd_ratio = overall_total_roi / abs(overall_max_drawdown)\n"
     ]
    },
    {
     "name": "stdout",
     "output_type": "stream",
     "text": [
      "n 2, rsi 6, threshold 80, ema 35\n"
     ]
    },
    {
     "name": "stderr",
     "output_type": "stream",
     "text": [
      "/tmp/ipykernel_36346/873016624.py:45: RuntimeWarning: divide by zero encountered in scalar divide\n",
      "  roi_dd_ratio = total_roi / abs(max_drawdown)\n",
      "/tmp/ipykernel_36346/873016624.py:70: RuntimeWarning: divide by zero encountered in scalar divide\n",
      "  overall_roi_dd_ratio = overall_total_roi / abs(overall_max_drawdown)\n"
     ]
    },
    {
     "name": "stdout",
     "output_type": "stream",
     "text": [
      "n 2, rsi 12, threshold 30, ema 5\n",
      "n 2, rsi 12, threshold 30, ema 10\n",
      "n 2, rsi 12, threshold 30, ema 15\n",
      "n 2, rsi 12, threshold 30, ema 20\n",
      "n 2, rsi 12, threshold 30, ema 25\n",
      "n 2, rsi 12, threshold 30, ema 30\n",
      "n 2, rsi 12, threshold 30, ema 35\n",
      "n 2, rsi 12, threshold 35, ema 5\n",
      "n 2, rsi 12, threshold 35, ema 10\n",
      "n 2, rsi 12, threshold 35, ema 15\n",
      "n 2, rsi 12, threshold 35, ema 20\n",
      "n 2, rsi 12, threshold 35, ema 25\n",
      "n 2, rsi 12, threshold 35, ema 30\n",
      "n 2, rsi 12, threshold 35, ema 35\n",
      "n 2, rsi 12, threshold 40, ema 5\n",
      "n 2, rsi 12, threshold 40, ema 10\n",
      "n 2, rsi 12, threshold 40, ema 15\n",
      "n 2, rsi 12, threshold 40, ema 20\n",
      "n 2, rsi 12, threshold 40, ema 25\n",
      "n 2, rsi 12, threshold 40, ema 30\n",
      "n 2, rsi 12, threshold 40, ema 35\n",
      "n 2, rsi 12, threshold 45, ema 5\n",
      "n 2, rsi 12, threshold 45, ema 10\n",
      "n 2, rsi 12, threshold 45, ema 15\n",
      "n 2, rsi 12, threshold 45, ema 20\n",
      "n 2, rsi 12, threshold 45, ema 25\n",
      "n 2, rsi 12, threshold 45, ema 30\n",
      "n 2, rsi 12, threshold 45, ema 35\n",
      "n 2, rsi 12, threshold 50, ema 5\n",
      "n 2, rsi 12, threshold 50, ema 10\n",
      "n 2, rsi 12, threshold 50, ema 15\n",
      "n 2, rsi 12, threshold 50, ema 20\n",
      "n 2, rsi 12, threshold 50, ema 25\n",
      "n 2, rsi 12, threshold 50, ema 30\n",
      "n 2, rsi 12, threshold 50, ema 35\n",
      "n 2, rsi 12, threshold 55, ema 5\n",
      "n 2, rsi 12, threshold 55, ema 10\n",
      "n 2, rsi 12, threshold 55, ema 15\n",
      "n 2, rsi 12, threshold 55, ema 20\n",
      "n 2, rsi 12, threshold 55, ema 25\n",
      "n 2, rsi 12, threshold 55, ema 30\n",
      "n 2, rsi 12, threshold 55, ema 35\n",
      "n 2, rsi 12, threshold 60, ema 5\n",
      "n 2, rsi 12, threshold 60, ema 10\n",
      "n 2, rsi 12, threshold 60, ema 15\n",
      "n 2, rsi 12, threshold 60, ema 20\n",
      "n 2, rsi 12, threshold 60, ema 25\n",
      "n 2, rsi 12, threshold 60, ema 30\n",
      "n 2, rsi 12, threshold 60, ema 35\n",
      "n 2, rsi 12, threshold 65, ema 5\n",
      "n 2, rsi 12, threshold 65, ema 10\n",
      "n 2, rsi 12, threshold 65, ema 15\n",
      "n 2, rsi 12, threshold 65, ema 20\n",
      "n 2, rsi 12, threshold 65, ema 25\n",
      "n 2, rsi 12, threshold 65, ema 30\n",
      "n 2, rsi 12, threshold 65, ema 35\n",
      "n 2, rsi 12, threshold 70, ema 5\n",
      "n 2, rsi 12, threshold 70, ema 10\n",
      "n 2, rsi 12, threshold 70, ema 15\n",
      "n 2, rsi 12, threshold 70, ema 20\n",
      "n 2, rsi 12, threshold 70, ema 25\n",
      "n 2, rsi 12, threshold 70, ema 30\n",
      "n 2, rsi 12, threshold 70, ema 35\n",
      "n 2, rsi 12, threshold 75, ema 5\n"
     ]
    },
    {
     "name": "stderr",
     "output_type": "stream",
     "text": [
      "/tmp/ipykernel_36346/873016624.py:45: RuntimeWarning: divide by zero encountered in scalar divide\n",
      "  roi_dd_ratio = total_roi / abs(max_drawdown)\n"
     ]
    },
    {
     "name": "stdout",
     "output_type": "stream",
     "text": [
      "n 2, rsi 12, threshold 75, ema 10\n"
     ]
    },
    {
     "name": "stderr",
     "output_type": "stream",
     "text": [
      "/tmp/ipykernel_36346/873016624.py:45: RuntimeWarning: divide by zero encountered in scalar divide\n",
      "  roi_dd_ratio = total_roi / abs(max_drawdown)\n"
     ]
    },
    {
     "name": "stdout",
     "output_type": "stream",
     "text": [
      "n 2, rsi 12, threshold 75, ema 15\n"
     ]
    },
    {
     "name": "stderr",
     "output_type": "stream",
     "text": [
      "/tmp/ipykernel_36346/873016624.py:45: RuntimeWarning: divide by zero encountered in scalar divide\n",
      "  roi_dd_ratio = total_roi / abs(max_drawdown)\n"
     ]
    },
    {
     "name": "stdout",
     "output_type": "stream",
     "text": [
      "n 2, rsi 12, threshold 75, ema 20\n"
     ]
    },
    {
     "name": "stderr",
     "output_type": "stream",
     "text": [
      "/tmp/ipykernel_36346/873016624.py:45: RuntimeWarning: divide by zero encountered in scalar divide\n",
      "  roi_dd_ratio = total_roi / abs(max_drawdown)\n"
     ]
    },
    {
     "name": "stdout",
     "output_type": "stream",
     "text": [
      "n 2, rsi 12, threshold 75, ema 25\n"
     ]
    },
    {
     "name": "stderr",
     "output_type": "stream",
     "text": [
      "/tmp/ipykernel_36346/873016624.py:45: RuntimeWarning: divide by zero encountered in scalar divide\n",
      "  roi_dd_ratio = total_roi / abs(max_drawdown)\n"
     ]
    },
    {
     "name": "stdout",
     "output_type": "stream",
     "text": [
      "n 2, rsi 12, threshold 75, ema 30\n"
     ]
    },
    {
     "name": "stderr",
     "output_type": "stream",
     "text": [
      "/tmp/ipykernel_36346/873016624.py:45: RuntimeWarning: divide by zero encountered in scalar divide\n",
      "  roi_dd_ratio = total_roi / abs(max_drawdown)\n"
     ]
    },
    {
     "name": "stdout",
     "output_type": "stream",
     "text": [
      "n 2, rsi 12, threshold 75, ema 35\n"
     ]
    },
    {
     "name": "stderr",
     "output_type": "stream",
     "text": [
      "/tmp/ipykernel_36346/873016624.py:45: RuntimeWarning: divide by zero encountered in scalar divide\n",
      "  roi_dd_ratio = total_roi / abs(max_drawdown)\n"
     ]
    },
    {
     "name": "stdout",
     "output_type": "stream",
     "text": [
      "n 2, rsi 12, threshold 80, ema 5\n"
     ]
    },
    {
     "name": "stderr",
     "output_type": "stream",
     "text": [
      "/tmp/ipykernel_36346/873016624.py:45: RuntimeWarning: divide by zero encountered in scalar divide\n",
      "  roi_dd_ratio = total_roi / abs(max_drawdown)\n",
      "/tmp/ipykernel_36346/873016624.py:70: RuntimeWarning: divide by zero encountered in scalar divide\n",
      "  overall_roi_dd_ratio = overall_total_roi / abs(overall_max_drawdown)\n"
     ]
    },
    {
     "name": "stdout",
     "output_type": "stream",
     "text": [
      "n 2, rsi 12, threshold 80, ema 10\n"
     ]
    },
    {
     "name": "stderr",
     "output_type": "stream",
     "text": [
      "/tmp/ipykernel_36346/873016624.py:45: RuntimeWarning: divide by zero encountered in scalar divide\n",
      "  roi_dd_ratio = total_roi / abs(max_drawdown)\n",
      "/tmp/ipykernel_36346/873016624.py:70: RuntimeWarning: divide by zero encountered in scalar divide\n",
      "  overall_roi_dd_ratio = overall_total_roi / abs(overall_max_drawdown)\n"
     ]
    },
    {
     "name": "stdout",
     "output_type": "stream",
     "text": [
      "n 2, rsi 12, threshold 80, ema 15\n"
     ]
    },
    {
     "name": "stderr",
     "output_type": "stream",
     "text": [
      "/tmp/ipykernel_36346/873016624.py:45: RuntimeWarning: divide by zero encountered in scalar divide\n",
      "  roi_dd_ratio = total_roi / abs(max_drawdown)\n",
      "/tmp/ipykernel_36346/873016624.py:70: RuntimeWarning: divide by zero encountered in scalar divide\n",
      "  overall_roi_dd_ratio = overall_total_roi / abs(overall_max_drawdown)\n"
     ]
    },
    {
     "name": "stdout",
     "output_type": "stream",
     "text": [
      "n 2, rsi 12, threshold 80, ema 20\n"
     ]
    },
    {
     "name": "stderr",
     "output_type": "stream",
     "text": [
      "/tmp/ipykernel_36346/873016624.py:45: RuntimeWarning: divide by zero encountered in scalar divide\n",
      "  roi_dd_ratio = total_roi / abs(max_drawdown)\n",
      "/tmp/ipykernel_36346/873016624.py:70: RuntimeWarning: divide by zero encountered in scalar divide\n",
      "  overall_roi_dd_ratio = overall_total_roi / abs(overall_max_drawdown)\n"
     ]
    },
    {
     "name": "stdout",
     "output_type": "stream",
     "text": [
      "n 2, rsi 12, threshold 80, ema 25\n"
     ]
    },
    {
     "name": "stderr",
     "output_type": "stream",
     "text": [
      "/tmp/ipykernel_36346/873016624.py:45: RuntimeWarning: divide by zero encountered in scalar divide\n",
      "  roi_dd_ratio = total_roi / abs(max_drawdown)\n",
      "/tmp/ipykernel_36346/873016624.py:70: RuntimeWarning: divide by zero encountered in scalar divide\n",
      "  overall_roi_dd_ratio = overall_total_roi / abs(overall_max_drawdown)\n"
     ]
    },
    {
     "name": "stdout",
     "output_type": "stream",
     "text": [
      "n 2, rsi 12, threshold 80, ema 30\n"
     ]
    },
    {
     "name": "stderr",
     "output_type": "stream",
     "text": [
      "/tmp/ipykernel_36346/873016624.py:45: RuntimeWarning: divide by zero encountered in scalar divide\n",
      "  roi_dd_ratio = total_roi / abs(max_drawdown)\n",
      "/tmp/ipykernel_36346/873016624.py:70: RuntimeWarning: divide by zero encountered in scalar divide\n",
      "  overall_roi_dd_ratio = overall_total_roi / abs(overall_max_drawdown)\n"
     ]
    },
    {
     "name": "stdout",
     "output_type": "stream",
     "text": [
      "n 2, rsi 12, threshold 80, ema 35\n"
     ]
    },
    {
     "name": "stderr",
     "output_type": "stream",
     "text": [
      "/tmp/ipykernel_36346/873016624.py:45: RuntimeWarning: divide by zero encountered in scalar divide\n",
      "  roi_dd_ratio = total_roi / abs(max_drawdown)\n",
      "/tmp/ipykernel_36346/873016624.py:70: RuntimeWarning: divide by zero encountered in scalar divide\n",
      "  overall_roi_dd_ratio = overall_total_roi / abs(overall_max_drawdown)\n"
     ]
    },
    {
     "name": "stdout",
     "output_type": "stream",
     "text": [
      "n 2, rsi 16, threshold 30, ema 5\n",
      "n 2, rsi 16, threshold 30, ema 10\n",
      "n 2, rsi 16, threshold 30, ema 15\n",
      "n 2, rsi 16, threshold 30, ema 20\n",
      "n 2, rsi 16, threshold 30, ema 25\n",
      "n 2, rsi 16, threshold 30, ema 30\n",
      "n 2, rsi 16, threshold 30, ema 35\n",
      "n 2, rsi 16, threshold 35, ema 5\n",
      "n 2, rsi 16, threshold 35, ema 10\n",
      "n 2, rsi 16, threshold 35, ema 15\n",
      "n 2, rsi 16, threshold 35, ema 20\n",
      "n 2, rsi 16, threshold 35, ema 25\n",
      "n 2, rsi 16, threshold 35, ema 30\n",
      "n 2, rsi 16, threshold 35, ema 35\n",
      "n 2, rsi 16, threshold 40, ema 5\n",
      "n 2, rsi 16, threshold 40, ema 10\n",
      "n 2, rsi 16, threshold 40, ema 15\n",
      "n 2, rsi 16, threshold 40, ema 20\n",
      "n 2, rsi 16, threshold 40, ema 25\n",
      "n 2, rsi 16, threshold 40, ema 30\n",
      "n 2, rsi 16, threshold 40, ema 35\n",
      "n 2, rsi 16, threshold 45, ema 5\n",
      "n 2, rsi 16, threshold 45, ema 10\n",
      "n 2, rsi 16, threshold 45, ema 15\n",
      "n 2, rsi 16, threshold 45, ema 20\n",
      "n 2, rsi 16, threshold 45, ema 25\n",
      "n 2, rsi 16, threshold 45, ema 30\n",
      "n 2, rsi 16, threshold 45, ema 35\n",
      "n 2, rsi 16, threshold 50, ema 5\n",
      "n 2, rsi 16, threshold 50, ema 10\n",
      "n 2, rsi 16, threshold 50, ema 15\n",
      "n 2, rsi 16, threshold 50, ema 20\n",
      "n 2, rsi 16, threshold 50, ema 25\n",
      "n 2, rsi 16, threshold 50, ema 30\n",
      "n 2, rsi 16, threshold 50, ema 35\n",
      "n 2, rsi 16, threshold 55, ema 5\n",
      "n 2, rsi 16, threshold 55, ema 10\n",
      "n 2, rsi 16, threshold 55, ema 15\n",
      "n 2, rsi 16, threshold 55, ema 20\n",
      "n 2, rsi 16, threshold 55, ema 25\n",
      "n 2, rsi 16, threshold 55, ema 30\n",
      "n 2, rsi 16, threshold 55, ema 35\n",
      "n 2, rsi 16, threshold 60, ema 5\n",
      "n 2, rsi 16, threshold 60, ema 10\n",
      "n 2, rsi 16, threshold 60, ema 15\n",
      "n 2, rsi 16, threshold 60, ema 20\n",
      "n 2, rsi 16, threshold 60, ema 25\n",
      "n 2, rsi 16, threshold 60, ema 30\n",
      "n 2, rsi 16, threshold 60, ema 35\n",
      "n 2, rsi 16, threshold 65, ema 5\n",
      "n 2, rsi 16, threshold 65, ema 10\n",
      "n 2, rsi 16, threshold 65, ema 15\n",
      "n 2, rsi 16, threshold 65, ema 20\n",
      "n 2, rsi 16, threshold 65, ema 25\n",
      "n 2, rsi 16, threshold 65, ema 30\n",
      "n 2, rsi 16, threshold 65, ema 35\n",
      "n 2, rsi 16, threshold 70, ema 5\n",
      "n 2, rsi 16, threshold 70, ema 10\n",
      "n 2, rsi 16, threshold 70, ema 15\n",
      "n 2, rsi 16, threshold 70, ema 20\n",
      "n 2, rsi 16, threshold 70, ema 25\n",
      "n 2, rsi 16, threshold 70, ema 30\n",
      "n 2, rsi 16, threshold 70, ema 35\n",
      "n 2, rsi 16, threshold 75, ema 5\n"
     ]
    },
    {
     "name": "stderr",
     "output_type": "stream",
     "text": [
      "/tmp/ipykernel_36346/873016624.py:45: RuntimeWarning: divide by zero encountered in scalar divide\n",
      "  roi_dd_ratio = total_roi / abs(max_drawdown)\n"
     ]
    },
    {
     "name": "stdout",
     "output_type": "stream",
     "text": [
      "n 2, rsi 16, threshold 75, ema 10\n"
     ]
    },
    {
     "name": "stderr",
     "output_type": "stream",
     "text": [
      "/tmp/ipykernel_36346/873016624.py:45: RuntimeWarning: divide by zero encountered in scalar divide\n",
      "  roi_dd_ratio = total_roi / abs(max_drawdown)\n"
     ]
    },
    {
     "name": "stdout",
     "output_type": "stream",
     "text": [
      "n 2, rsi 16, threshold 75, ema 15\n"
     ]
    },
    {
     "name": "stderr",
     "output_type": "stream",
     "text": [
      "/tmp/ipykernel_36346/873016624.py:45: RuntimeWarning: divide by zero encountered in scalar divide\n",
      "  roi_dd_ratio = total_roi / abs(max_drawdown)\n"
     ]
    },
    {
     "name": "stdout",
     "output_type": "stream",
     "text": [
      "n 2, rsi 16, threshold 75, ema 20\n"
     ]
    },
    {
     "name": "stderr",
     "output_type": "stream",
     "text": [
      "/tmp/ipykernel_36346/873016624.py:45: RuntimeWarning: divide by zero encountered in scalar divide\n",
      "  roi_dd_ratio = total_roi / abs(max_drawdown)\n"
     ]
    },
    {
     "name": "stdout",
     "output_type": "stream",
     "text": [
      "n 2, rsi 16, threshold 75, ema 25\n"
     ]
    },
    {
     "name": "stderr",
     "output_type": "stream",
     "text": [
      "/tmp/ipykernel_36346/873016624.py:45: RuntimeWarning: divide by zero encountered in scalar divide\n",
      "  roi_dd_ratio = total_roi / abs(max_drawdown)\n"
     ]
    },
    {
     "name": "stdout",
     "output_type": "stream",
     "text": [
      "n 2, rsi 16, threshold 75, ema 30\n"
     ]
    },
    {
     "name": "stderr",
     "output_type": "stream",
     "text": [
      "/tmp/ipykernel_36346/873016624.py:45: RuntimeWarning: divide by zero encountered in scalar divide\n",
      "  roi_dd_ratio = total_roi / abs(max_drawdown)\n"
     ]
    },
    {
     "name": "stdout",
     "output_type": "stream",
     "text": [
      "n 2, rsi 16, threshold 75, ema 35\n"
     ]
    },
    {
     "name": "stderr",
     "output_type": "stream",
     "text": [
      "/tmp/ipykernel_36346/873016624.py:45: RuntimeWarning: divide by zero encountered in scalar divide\n",
      "  roi_dd_ratio = total_roi / abs(max_drawdown)\n"
     ]
    },
    {
     "name": "stdout",
     "output_type": "stream",
     "text": [
      "n 2, rsi 16, threshold 80, ema 5\n",
      "n 2, rsi 16, threshold 80, ema 10\n",
      "n 2, rsi 16, threshold 80, ema 15\n",
      "n 2, rsi 16, threshold 80, ema 20\n",
      "n 2, rsi 16, threshold 80, ema 25\n",
      "n 2, rsi 16, threshold 80, ema 30\n",
      "n 2, rsi 16, threshold 80, ema 35\n",
      "n 3, rsi 14, threshold 30, ema 5\n",
      "n 3, rsi 14, threshold 30, ema 10\n",
      "n 3, rsi 14, threshold 30, ema 15\n",
      "n 3, rsi 14, threshold 30, ema 20\n",
      "n 3, rsi 14, threshold 30, ema 25\n",
      "n 3, rsi 14, threshold 30, ema 30\n",
      "n 3, rsi 14, threshold 30, ema 35\n",
      "n 3, rsi 14, threshold 35, ema 5\n",
      "n 3, rsi 14, threshold 35, ema 10\n",
      "n 3, rsi 14, threshold 35, ema 15\n",
      "n 3, rsi 14, threshold 35, ema 20\n",
      "n 3, rsi 14, threshold 35, ema 25\n",
      "n 3, rsi 14, threshold 35, ema 30\n",
      "n 3, rsi 14, threshold 35, ema 35\n",
      "n 3, rsi 14, threshold 40, ema 5\n",
      "n 3, rsi 14, threshold 40, ema 10\n",
      "n 3, rsi 14, threshold 40, ema 15\n",
      "n 3, rsi 14, threshold 40, ema 20\n",
      "n 3, rsi 14, threshold 40, ema 25\n",
      "n 3, rsi 14, threshold 40, ema 30\n",
      "n 3, rsi 14, threshold 40, ema 35\n",
      "n 3, rsi 14, threshold 45, ema 5\n",
      "n 3, rsi 14, threshold 45, ema 10\n",
      "n 3, rsi 14, threshold 45, ema 15\n",
      "n 3, rsi 14, threshold 45, ema 20\n",
      "n 3, rsi 14, threshold 45, ema 25\n",
      "n 3, rsi 14, threshold 45, ema 30\n",
      "n 3, rsi 14, threshold 45, ema 35\n",
      "n 3, rsi 14, threshold 50, ema 5\n",
      "n 3, rsi 14, threshold 50, ema 10\n",
      "n 3, rsi 14, threshold 50, ema 15\n",
      "n 3, rsi 14, threshold 50, ema 20\n",
      "n 3, rsi 14, threshold 50, ema 25\n",
      "n 3, rsi 14, threshold 50, ema 30\n",
      "n 3, rsi 14, threshold 50, ema 35\n",
      "n 3, rsi 14, threshold 55, ema 5\n",
      "n 3, rsi 14, threshold 55, ema 10\n",
      "n 3, rsi 14, threshold 55, ema 15\n",
      "n 3, rsi 14, threshold 55, ema 20\n",
      "n 3, rsi 14, threshold 55, ema 25\n",
      "n 3, rsi 14, threshold 55, ema 30\n",
      "n 3, rsi 14, threshold 55, ema 35\n",
      "n 3, rsi 14, threshold 60, ema 5\n",
      "n 3, rsi 14, threshold 60, ema 10\n",
      "n 3, rsi 14, threshold 60, ema 15\n",
      "n 3, rsi 14, threshold 60, ema 20\n",
      "n 3, rsi 14, threshold 60, ema 25\n",
      "n 3, rsi 14, threshold 60, ema 30\n",
      "n 3, rsi 14, threshold 60, ema 35\n",
      "n 3, rsi 14, threshold 65, ema 5\n",
      "n 3, rsi 14, threshold 65, ema 10\n",
      "n 3, rsi 14, threshold 65, ema 15\n",
      "n 3, rsi 14, threshold 65, ema 20\n",
      "n 3, rsi 14, threshold 65, ema 25\n",
      "n 3, rsi 14, threshold 65, ema 30\n",
      "n 3, rsi 14, threshold 65, ema 35\n",
      "n 3, rsi 14, threshold 70, ema 5\n"
     ]
    },
    {
     "name": "stderr",
     "output_type": "stream",
     "text": [
      "/tmp/ipykernel_36346/873016624.py:45: RuntimeWarning: divide by zero encountered in scalar divide\n",
      "  roi_dd_ratio = total_roi / abs(max_drawdown)\n"
     ]
    },
    {
     "name": "stdout",
     "output_type": "stream",
     "text": [
      "n 3, rsi 14, threshold 70, ema 10\n"
     ]
    },
    {
     "name": "stderr",
     "output_type": "stream",
     "text": [
      "/tmp/ipykernel_36346/873016624.py:45: RuntimeWarning: divide by zero encountered in scalar divide\n",
      "  roi_dd_ratio = total_roi / abs(max_drawdown)\n"
     ]
    },
    {
     "name": "stdout",
     "output_type": "stream",
     "text": [
      "n 3, rsi 14, threshold 70, ema 15\n"
     ]
    },
    {
     "name": "stderr",
     "output_type": "stream",
     "text": [
      "/tmp/ipykernel_36346/873016624.py:45: RuntimeWarning: divide by zero encountered in scalar divide\n",
      "  roi_dd_ratio = total_roi / abs(max_drawdown)\n"
     ]
    },
    {
     "name": "stdout",
     "output_type": "stream",
     "text": [
      "n 3, rsi 14, threshold 70, ema 20\n"
     ]
    },
    {
     "name": "stderr",
     "output_type": "stream",
     "text": [
      "/tmp/ipykernel_36346/873016624.py:45: RuntimeWarning: divide by zero encountered in scalar divide\n",
      "  roi_dd_ratio = total_roi / abs(max_drawdown)\n"
     ]
    },
    {
     "name": "stdout",
     "output_type": "stream",
     "text": [
      "n 3, rsi 14, threshold 70, ema 25\n"
     ]
    },
    {
     "name": "stderr",
     "output_type": "stream",
     "text": [
      "/tmp/ipykernel_36346/873016624.py:45: RuntimeWarning: divide by zero encountered in scalar divide\n",
      "  roi_dd_ratio = total_roi / abs(max_drawdown)\n"
     ]
    },
    {
     "name": "stdout",
     "output_type": "stream",
     "text": [
      "n 3, rsi 14, threshold 70, ema 30\n"
     ]
    },
    {
     "name": "stderr",
     "output_type": "stream",
     "text": [
      "/tmp/ipykernel_36346/873016624.py:45: RuntimeWarning: divide by zero encountered in scalar divide\n",
      "  roi_dd_ratio = total_roi / abs(max_drawdown)\n"
     ]
    },
    {
     "name": "stdout",
     "output_type": "stream",
     "text": [
      "n 3, rsi 14, threshold 70, ema 35\n"
     ]
    },
    {
     "name": "stderr",
     "output_type": "stream",
     "text": [
      "/tmp/ipykernel_36346/873016624.py:45: RuntimeWarning: divide by zero encountered in scalar divide\n",
      "  roi_dd_ratio = total_roi / abs(max_drawdown)\n"
     ]
    },
    {
     "name": "stdout",
     "output_type": "stream",
     "text": [
      "n 3, rsi 14, threshold 75, ema 5\n",
      "n 3, rsi 14, threshold 75, ema 10\n",
      "n 3, rsi 14, threshold 75, ema 15\n",
      "n 3, rsi 14, threshold 75, ema 20\n",
      "n 3, rsi 14, threshold 75, ema 25\n",
      "n 3, rsi 14, threshold 75, ema 30\n",
      "n 3, rsi 14, threshold 75, ema 35\n",
      "n 3, rsi 14, threshold 80, ema 5\n",
      "n 3, rsi 14, threshold 80, ema 10\n",
      "n 3, rsi 14, threshold 80, ema 15\n",
      "n 3, rsi 14, threshold 80, ema 20\n",
      "n 3, rsi 14, threshold 80, ema 25\n",
      "n 3, rsi 14, threshold 80, ema 30\n",
      "n 3, rsi 14, threshold 80, ema 35\n",
      "n 3, rsi 9, threshold 30, ema 5\n",
      "n 3, rsi 9, threshold 30, ema 10\n",
      "n 3, rsi 9, threshold 30, ema 15\n",
      "n 3, rsi 9, threshold 30, ema 20\n",
      "n 3, rsi 9, threshold 30, ema 25\n",
      "n 3, rsi 9, threshold 30, ema 30\n",
      "n 3, rsi 9, threshold 30, ema 35\n",
      "n 3, rsi 9, threshold 35, ema 5\n",
      "n 3, rsi 9, threshold 35, ema 10\n",
      "n 3, rsi 9, threshold 35, ema 15\n",
      "n 3, rsi 9, threshold 35, ema 20\n",
      "n 3, rsi 9, threshold 35, ema 25\n",
      "n 3, rsi 9, threshold 35, ema 30\n",
      "n 3, rsi 9, threshold 35, ema 35\n",
      "n 3, rsi 9, threshold 40, ema 5\n",
      "n 3, rsi 9, threshold 40, ema 10\n",
      "n 3, rsi 9, threshold 40, ema 15\n",
      "n 3, rsi 9, threshold 40, ema 20\n",
      "n 3, rsi 9, threshold 40, ema 25\n",
      "n 3, rsi 9, threshold 40, ema 30\n",
      "n 3, rsi 9, threshold 40, ema 35\n",
      "n 3, rsi 9, threshold 45, ema 5\n",
      "n 3, rsi 9, threshold 45, ema 10\n",
      "n 3, rsi 9, threshold 45, ema 15\n",
      "n 3, rsi 9, threshold 45, ema 20\n",
      "n 3, rsi 9, threshold 45, ema 25\n",
      "n 3, rsi 9, threshold 45, ema 30\n",
      "n 3, rsi 9, threshold 45, ema 35\n",
      "n 3, rsi 9, threshold 50, ema 5\n",
      "n 3, rsi 9, threshold 50, ema 10\n",
      "n 3, rsi 9, threshold 50, ema 15\n",
      "n 3, rsi 9, threshold 50, ema 20\n",
      "n 3, rsi 9, threshold 50, ema 25\n",
      "n 3, rsi 9, threshold 50, ema 30\n",
      "n 3, rsi 9, threshold 50, ema 35\n",
      "n 3, rsi 9, threshold 55, ema 5\n",
      "n 3, rsi 9, threshold 55, ema 10\n",
      "n 3, rsi 9, threshold 55, ema 15\n",
      "n 3, rsi 9, threshold 55, ema 20\n",
      "n 3, rsi 9, threshold 55, ema 25\n",
      "n 3, rsi 9, threshold 55, ema 30\n",
      "n 3, rsi 9, threshold 55, ema 35\n",
      "n 3, rsi 9, threshold 60, ema 5\n",
      "n 3, rsi 9, threshold 60, ema 10\n",
      "n 3, rsi 9, threshold 60, ema 15\n",
      "n 3, rsi 9, threshold 60, ema 20\n",
      "n 3, rsi 9, threshold 60, ema 25\n",
      "n 3, rsi 9, threshold 60, ema 30\n",
      "n 3, rsi 9, threshold 60, ema 35\n",
      "n 3, rsi 9, threshold 65, ema 5\n",
      "n 3, rsi 9, threshold 65, ema 10\n",
      "n 3, rsi 9, threshold 65, ema 15\n",
      "n 3, rsi 9, threshold 65, ema 20\n",
      "n 3, rsi 9, threshold 65, ema 25\n",
      "n 3, rsi 9, threshold 65, ema 30\n",
      "n 3, rsi 9, threshold 65, ema 35\n",
      "n 3, rsi 9, threshold 70, ema 5\n"
     ]
    },
    {
     "name": "stderr",
     "output_type": "stream",
     "text": [
      "/tmp/ipykernel_36346/873016624.py:45: RuntimeWarning: divide by zero encountered in scalar divide\n",
      "  roi_dd_ratio = total_roi / abs(max_drawdown)\n"
     ]
    },
    {
     "name": "stdout",
     "output_type": "stream",
     "text": [
      "n 3, rsi 9, threshold 70, ema 10\n"
     ]
    },
    {
     "name": "stderr",
     "output_type": "stream",
     "text": [
      "/tmp/ipykernel_36346/873016624.py:45: RuntimeWarning: divide by zero encountered in scalar divide\n",
      "  roi_dd_ratio = total_roi / abs(max_drawdown)\n"
     ]
    },
    {
     "name": "stdout",
     "output_type": "stream",
     "text": [
      "n 3, rsi 9, threshold 70, ema 15\n"
     ]
    },
    {
     "name": "stderr",
     "output_type": "stream",
     "text": [
      "/tmp/ipykernel_36346/873016624.py:45: RuntimeWarning: divide by zero encountered in scalar divide\n",
      "  roi_dd_ratio = total_roi / abs(max_drawdown)\n"
     ]
    },
    {
     "name": "stdout",
     "output_type": "stream",
     "text": [
      "n 3, rsi 9, threshold 70, ema 20\n"
     ]
    },
    {
     "name": "stderr",
     "output_type": "stream",
     "text": [
      "/tmp/ipykernel_36346/873016624.py:45: RuntimeWarning: divide by zero encountered in scalar divide\n",
      "  roi_dd_ratio = total_roi / abs(max_drawdown)\n"
     ]
    },
    {
     "name": "stdout",
     "output_type": "stream",
     "text": [
      "n 3, rsi 9, threshold 70, ema 25\n"
     ]
    },
    {
     "name": "stderr",
     "output_type": "stream",
     "text": [
      "/tmp/ipykernel_36346/873016624.py:45: RuntimeWarning: divide by zero encountered in scalar divide\n",
      "  roi_dd_ratio = total_roi / abs(max_drawdown)\n"
     ]
    },
    {
     "name": "stdout",
     "output_type": "stream",
     "text": [
      "n 3, rsi 9, threshold 70, ema 30\n"
     ]
    },
    {
     "name": "stderr",
     "output_type": "stream",
     "text": [
      "/tmp/ipykernel_36346/873016624.py:45: RuntimeWarning: divide by zero encountered in scalar divide\n",
      "  roi_dd_ratio = total_roi / abs(max_drawdown)\n"
     ]
    },
    {
     "name": "stdout",
     "output_type": "stream",
     "text": [
      "n 3, rsi 9, threshold 70, ema 35\n"
     ]
    },
    {
     "name": "stderr",
     "output_type": "stream",
     "text": [
      "/tmp/ipykernel_36346/873016624.py:45: RuntimeWarning: divide by zero encountered in scalar divide\n",
      "  roi_dd_ratio = total_roi / abs(max_drawdown)\n"
     ]
    },
    {
     "name": "stdout",
     "output_type": "stream",
     "text": [
      "n 3, rsi 9, threshold 75, ema 5\n"
     ]
    },
    {
     "name": "stderr",
     "output_type": "stream",
     "text": [
      "/tmp/ipykernel_36346/873016624.py:45: RuntimeWarning: divide by zero encountered in scalar divide\n",
      "  roi_dd_ratio = total_roi / abs(max_drawdown)\n",
      "/tmp/ipykernel_36346/873016624.py:70: RuntimeWarning: divide by zero encountered in scalar divide\n",
      "  overall_roi_dd_ratio = overall_total_roi / abs(overall_max_drawdown)\n"
     ]
    },
    {
     "name": "stdout",
     "output_type": "stream",
     "text": [
      "n 3, rsi 9, threshold 75, ema 10\n"
     ]
    },
    {
     "name": "stderr",
     "output_type": "stream",
     "text": [
      "/tmp/ipykernel_36346/873016624.py:45: RuntimeWarning: divide by zero encountered in scalar divide\n",
      "  roi_dd_ratio = total_roi / abs(max_drawdown)\n",
      "/tmp/ipykernel_36346/873016624.py:70: RuntimeWarning: divide by zero encountered in scalar divide\n",
      "  overall_roi_dd_ratio = overall_total_roi / abs(overall_max_drawdown)\n"
     ]
    },
    {
     "name": "stdout",
     "output_type": "stream",
     "text": [
      "n 3, rsi 9, threshold 75, ema 15\n"
     ]
    },
    {
     "name": "stderr",
     "output_type": "stream",
     "text": [
      "/tmp/ipykernel_36346/873016624.py:45: RuntimeWarning: divide by zero encountered in scalar divide\n",
      "  roi_dd_ratio = total_roi / abs(max_drawdown)\n",
      "/tmp/ipykernel_36346/873016624.py:70: RuntimeWarning: divide by zero encountered in scalar divide\n",
      "  overall_roi_dd_ratio = overall_total_roi / abs(overall_max_drawdown)\n"
     ]
    },
    {
     "name": "stdout",
     "output_type": "stream",
     "text": [
      "n 3, rsi 9, threshold 75, ema 20\n"
     ]
    },
    {
     "name": "stderr",
     "output_type": "stream",
     "text": [
      "/tmp/ipykernel_36346/873016624.py:45: RuntimeWarning: divide by zero encountered in scalar divide\n",
      "  roi_dd_ratio = total_roi / abs(max_drawdown)\n",
      "/tmp/ipykernel_36346/873016624.py:70: RuntimeWarning: divide by zero encountered in scalar divide\n",
      "  overall_roi_dd_ratio = overall_total_roi / abs(overall_max_drawdown)\n"
     ]
    },
    {
     "name": "stdout",
     "output_type": "stream",
     "text": [
      "n 3, rsi 9, threshold 75, ema 25\n"
     ]
    },
    {
     "name": "stderr",
     "output_type": "stream",
     "text": [
      "/tmp/ipykernel_36346/873016624.py:45: RuntimeWarning: divide by zero encountered in scalar divide\n",
      "  roi_dd_ratio = total_roi / abs(max_drawdown)\n",
      "/tmp/ipykernel_36346/873016624.py:70: RuntimeWarning: divide by zero encountered in scalar divide\n",
      "  overall_roi_dd_ratio = overall_total_roi / abs(overall_max_drawdown)\n"
     ]
    },
    {
     "name": "stdout",
     "output_type": "stream",
     "text": [
      "n 3, rsi 9, threshold 75, ema 30\n"
     ]
    },
    {
     "name": "stderr",
     "output_type": "stream",
     "text": [
      "/tmp/ipykernel_36346/873016624.py:45: RuntimeWarning: divide by zero encountered in scalar divide\n",
      "  roi_dd_ratio = total_roi / abs(max_drawdown)\n",
      "/tmp/ipykernel_36346/873016624.py:70: RuntimeWarning: divide by zero encountered in scalar divide\n",
      "  overall_roi_dd_ratio = overall_total_roi / abs(overall_max_drawdown)\n"
     ]
    },
    {
     "name": "stdout",
     "output_type": "stream",
     "text": [
      "n 3, rsi 9, threshold 75, ema 35\n"
     ]
    },
    {
     "name": "stderr",
     "output_type": "stream",
     "text": [
      "/tmp/ipykernel_36346/873016624.py:45: RuntimeWarning: divide by zero encountered in scalar divide\n",
      "  roi_dd_ratio = total_roi / abs(max_drawdown)\n",
      "/tmp/ipykernel_36346/873016624.py:70: RuntimeWarning: divide by zero encountered in scalar divide\n",
      "  overall_roi_dd_ratio = overall_total_roi / abs(overall_max_drawdown)\n"
     ]
    },
    {
     "name": "stdout",
     "output_type": "stream",
     "text": [
      "n 3, rsi 9, threshold 80, ema 5\n",
      "n 3, rsi 9, threshold 80, ema 10\n",
      "n 3, rsi 9, threshold 80, ema 15\n",
      "n 3, rsi 9, threshold 80, ema 20\n",
      "n 3, rsi 9, threshold 80, ema 25\n",
      "n 3, rsi 9, threshold 80, ema 30\n",
      "n 3, rsi 9, threshold 80, ema 35\n",
      "n 3, rsi 21, threshold 30, ema 5\n",
      "n 3, rsi 21, threshold 30, ema 10\n",
      "n 3, rsi 21, threshold 30, ema 15\n",
      "n 3, rsi 21, threshold 30, ema 20\n",
      "n 3, rsi 21, threshold 30, ema 25\n",
      "n 3, rsi 21, threshold 30, ema 30\n",
      "n 3, rsi 21, threshold 30, ema 35\n",
      "n 3, rsi 21, threshold 35, ema 5\n",
      "n 3, rsi 21, threshold 35, ema 10\n",
      "n 3, rsi 21, threshold 35, ema 15\n",
      "n 3, rsi 21, threshold 35, ema 20\n",
      "n 3, rsi 21, threshold 35, ema 25\n",
      "n 3, rsi 21, threshold 35, ema 30\n",
      "n 3, rsi 21, threshold 35, ema 35\n",
      "n 3, rsi 21, threshold 40, ema 5\n",
      "n 3, rsi 21, threshold 40, ema 10\n",
      "n 3, rsi 21, threshold 40, ema 15\n",
      "n 3, rsi 21, threshold 40, ema 20\n",
      "n 3, rsi 21, threshold 40, ema 25\n",
      "n 3, rsi 21, threshold 40, ema 30\n",
      "n 3, rsi 21, threshold 40, ema 35\n",
      "n 3, rsi 21, threshold 45, ema 5\n",
      "n 3, rsi 21, threshold 45, ema 10\n",
      "n 3, rsi 21, threshold 45, ema 15\n",
      "n 3, rsi 21, threshold 45, ema 20\n",
      "n 3, rsi 21, threshold 45, ema 25\n",
      "n 3, rsi 21, threshold 45, ema 30\n",
      "n 3, rsi 21, threshold 45, ema 35\n",
      "n 3, rsi 21, threshold 50, ema 5\n",
      "n 3, rsi 21, threshold 50, ema 10\n",
      "n 3, rsi 21, threshold 50, ema 15\n",
      "n 3, rsi 21, threshold 50, ema 20\n",
      "n 3, rsi 21, threshold 50, ema 25\n",
      "n 3, rsi 21, threshold 50, ema 30\n",
      "n 3, rsi 21, threshold 50, ema 35\n",
      "n 3, rsi 21, threshold 55, ema 5\n",
      "n 3, rsi 21, threshold 55, ema 10\n",
      "n 3, rsi 21, threshold 55, ema 15\n",
      "n 3, rsi 21, threshold 55, ema 20\n",
      "n 3, rsi 21, threshold 55, ema 25\n",
      "n 3, rsi 21, threshold 55, ema 30\n",
      "n 3, rsi 21, threshold 55, ema 35\n",
      "n 3, rsi 21, threshold 60, ema 5\n",
      "n 3, rsi 21, threshold 60, ema 10\n",
      "n 3, rsi 21, threshold 60, ema 15\n",
      "n 3, rsi 21, threshold 60, ema 20\n",
      "n 3, rsi 21, threshold 60, ema 25\n",
      "n 3, rsi 21, threshold 60, ema 30\n",
      "n 3, rsi 21, threshold 60, ema 35\n",
      "n 3, rsi 21, threshold 65, ema 5\n",
      "n 3, rsi 21, threshold 65, ema 10\n",
      "n 3, rsi 21, threshold 65, ema 15\n",
      "n 3, rsi 21, threshold 65, ema 20\n",
      "n 3, rsi 21, threshold 65, ema 25\n",
      "n 3, rsi 21, threshold 65, ema 30\n",
      "n 3, rsi 21, threshold 65, ema 35\n",
      "n 3, rsi 21, threshold 70, ema 5\n"
     ]
    },
    {
     "name": "stderr",
     "output_type": "stream",
     "text": [
      "/tmp/ipykernel_36346/873016624.py:45: RuntimeWarning: divide by zero encountered in scalar divide\n",
      "  roi_dd_ratio = total_roi / abs(max_drawdown)\n"
     ]
    },
    {
     "name": "stdout",
     "output_type": "stream",
     "text": [
      "n 3, rsi 21, threshold 70, ema 10\n"
     ]
    },
    {
     "name": "stderr",
     "output_type": "stream",
     "text": [
      "/tmp/ipykernel_36346/873016624.py:45: RuntimeWarning: divide by zero encountered in scalar divide\n",
      "  roi_dd_ratio = total_roi / abs(max_drawdown)\n"
     ]
    },
    {
     "name": "stdout",
     "output_type": "stream",
     "text": [
      "n 3, rsi 21, threshold 70, ema 15\n"
     ]
    },
    {
     "name": "stderr",
     "output_type": "stream",
     "text": [
      "/tmp/ipykernel_36346/873016624.py:45: RuntimeWarning: divide by zero encountered in scalar divide\n",
      "  roi_dd_ratio = total_roi / abs(max_drawdown)\n"
     ]
    },
    {
     "name": "stdout",
     "output_type": "stream",
     "text": [
      "n 3, rsi 21, threshold 70, ema 20\n"
     ]
    },
    {
     "name": "stderr",
     "output_type": "stream",
     "text": [
      "/tmp/ipykernel_36346/873016624.py:45: RuntimeWarning: divide by zero encountered in scalar divide\n",
      "  roi_dd_ratio = total_roi / abs(max_drawdown)\n"
     ]
    },
    {
     "name": "stdout",
     "output_type": "stream",
     "text": [
      "n 3, rsi 21, threshold 70, ema 25\n"
     ]
    },
    {
     "name": "stderr",
     "output_type": "stream",
     "text": [
      "/tmp/ipykernel_36346/873016624.py:45: RuntimeWarning: divide by zero encountered in scalar divide\n",
      "  roi_dd_ratio = total_roi / abs(max_drawdown)\n"
     ]
    },
    {
     "name": "stdout",
     "output_type": "stream",
     "text": [
      "n 3, rsi 21, threshold 70, ema 30\n"
     ]
    },
    {
     "name": "stderr",
     "output_type": "stream",
     "text": [
      "/tmp/ipykernel_36346/873016624.py:45: RuntimeWarning: divide by zero encountered in scalar divide\n",
      "  roi_dd_ratio = total_roi / abs(max_drawdown)\n"
     ]
    },
    {
     "name": "stdout",
     "output_type": "stream",
     "text": [
      "n 3, rsi 21, threshold 70, ema 35\n"
     ]
    },
    {
     "name": "stderr",
     "output_type": "stream",
     "text": [
      "/tmp/ipykernel_36346/873016624.py:45: RuntimeWarning: divide by zero encountered in scalar divide\n",
      "  roi_dd_ratio = total_roi / abs(max_drawdown)\n"
     ]
    },
    {
     "name": "stdout",
     "output_type": "stream",
     "text": [
      "n 3, rsi 21, threshold 75, ema 5\n",
      "n 3, rsi 21, threshold 75, ema 10\n",
      "n 3, rsi 21, threshold 75, ema 15\n",
      "n 3, rsi 21, threshold 75, ema 20\n",
      "n 3, rsi 21, threshold 75, ema 25\n",
      "n 3, rsi 21, threshold 75, ema 30\n",
      "n 3, rsi 21, threshold 75, ema 35\n",
      "n 3, rsi 21, threshold 80, ema 5\n",
      "n 3, rsi 21, threshold 80, ema 10\n",
      "n 3, rsi 21, threshold 80, ema 15\n",
      "n 3, rsi 21, threshold 80, ema 20\n",
      "n 3, rsi 21, threshold 80, ema 25\n",
      "n 3, rsi 21, threshold 80, ema 30\n",
      "n 3, rsi 21, threshold 80, ema 35\n",
      "n 3, rsi 6, threshold 30, ema 5\n",
      "n 3, rsi 6, threshold 30, ema 10\n",
      "n 3, rsi 6, threshold 30, ema 15\n",
      "n 3, rsi 6, threshold 30, ema 20\n",
      "n 3, rsi 6, threshold 30, ema 25\n",
      "n 3, rsi 6, threshold 30, ema 30\n",
      "n 3, rsi 6, threshold 30, ema 35\n",
      "n 3, rsi 6, threshold 35, ema 5\n",
      "n 3, rsi 6, threshold 35, ema 10\n",
      "n 3, rsi 6, threshold 35, ema 15\n",
      "n 3, rsi 6, threshold 35, ema 20\n",
      "n 3, rsi 6, threshold 35, ema 25\n",
      "n 3, rsi 6, threshold 35, ema 30\n",
      "n 3, rsi 6, threshold 35, ema 35\n",
      "n 3, rsi 6, threshold 40, ema 5\n",
      "n 3, rsi 6, threshold 40, ema 10\n",
      "n 3, rsi 6, threshold 40, ema 15\n",
      "n 3, rsi 6, threshold 40, ema 20\n",
      "n 3, rsi 6, threshold 40, ema 25\n",
      "n 3, rsi 6, threshold 40, ema 30\n",
      "n 3, rsi 6, threshold 40, ema 35\n",
      "n 3, rsi 6, threshold 45, ema 5\n",
      "n 3, rsi 6, threshold 45, ema 10\n",
      "n 3, rsi 6, threshold 45, ema 15\n",
      "n 3, rsi 6, threshold 45, ema 20\n",
      "n 3, rsi 6, threshold 45, ema 25\n",
      "n 3, rsi 6, threshold 45, ema 30\n",
      "n 3, rsi 6, threshold 45, ema 35\n",
      "n 3, rsi 6, threshold 50, ema 5\n",
      "n 3, rsi 6, threshold 50, ema 10\n",
      "n 3, rsi 6, threshold 50, ema 15\n",
      "n 3, rsi 6, threshold 50, ema 20\n",
      "n 3, rsi 6, threshold 50, ema 25\n",
      "n 3, rsi 6, threshold 50, ema 30\n",
      "n 3, rsi 6, threshold 50, ema 35\n",
      "n 3, rsi 6, threshold 55, ema 5\n",
      "n 3, rsi 6, threshold 55, ema 10\n",
      "n 3, rsi 6, threshold 55, ema 15\n",
      "n 3, rsi 6, threshold 55, ema 20\n",
      "n 3, rsi 6, threshold 55, ema 25\n",
      "n 3, rsi 6, threshold 55, ema 30\n",
      "n 3, rsi 6, threshold 55, ema 35\n",
      "n 3, rsi 6, threshold 60, ema 5\n"
     ]
    },
    {
     "name": "stderr",
     "output_type": "stream",
     "text": [
      "/tmp/ipykernel_36346/873016624.py:45: RuntimeWarning: divide by zero encountered in scalar divide\n",
      "  roi_dd_ratio = total_roi / abs(max_drawdown)\n"
     ]
    },
    {
     "name": "stdout",
     "output_type": "stream",
     "text": [
      "n 3, rsi 6, threshold 60, ema 10\n"
     ]
    },
    {
     "name": "stderr",
     "output_type": "stream",
     "text": [
      "/tmp/ipykernel_36346/873016624.py:45: RuntimeWarning: divide by zero encountered in scalar divide\n",
      "  roi_dd_ratio = total_roi / abs(max_drawdown)\n"
     ]
    },
    {
     "name": "stdout",
     "output_type": "stream",
     "text": [
      "n 3, rsi 6, threshold 60, ema 15\n"
     ]
    },
    {
     "name": "stderr",
     "output_type": "stream",
     "text": [
      "/tmp/ipykernel_36346/873016624.py:45: RuntimeWarning: divide by zero encountered in scalar divide\n",
      "  roi_dd_ratio = total_roi / abs(max_drawdown)\n"
     ]
    },
    {
     "name": "stdout",
     "output_type": "stream",
     "text": [
      "n 3, rsi 6, threshold 60, ema 20\n"
     ]
    },
    {
     "name": "stderr",
     "output_type": "stream",
     "text": [
      "/tmp/ipykernel_36346/873016624.py:45: RuntimeWarning: divide by zero encountered in scalar divide\n",
      "  roi_dd_ratio = total_roi / abs(max_drawdown)\n"
     ]
    },
    {
     "name": "stdout",
     "output_type": "stream",
     "text": [
      "n 3, rsi 6, threshold 60, ema 25\n"
     ]
    },
    {
     "name": "stderr",
     "output_type": "stream",
     "text": [
      "/tmp/ipykernel_36346/873016624.py:45: RuntimeWarning: divide by zero encountered in scalar divide\n",
      "  roi_dd_ratio = total_roi / abs(max_drawdown)\n"
     ]
    },
    {
     "name": "stdout",
     "output_type": "stream",
     "text": [
      "n 3, rsi 6, threshold 60, ema 30\n"
     ]
    },
    {
     "name": "stderr",
     "output_type": "stream",
     "text": [
      "/tmp/ipykernel_36346/873016624.py:45: RuntimeWarning: divide by zero encountered in scalar divide\n",
      "  roi_dd_ratio = total_roi / abs(max_drawdown)\n"
     ]
    },
    {
     "name": "stdout",
     "output_type": "stream",
     "text": [
      "n 3, rsi 6, threshold 60, ema 35\n"
     ]
    },
    {
     "name": "stderr",
     "output_type": "stream",
     "text": [
      "/tmp/ipykernel_36346/873016624.py:45: RuntimeWarning: divide by zero encountered in scalar divide\n",
      "  roi_dd_ratio = total_roi / abs(max_drawdown)\n"
     ]
    },
    {
     "name": "stdout",
     "output_type": "stream",
     "text": [
      "n 3, rsi 6, threshold 65, ema 5\n",
      "n 3, rsi 6, threshold 65, ema 10\n",
      "n 3, rsi 6, threshold 65, ema 15\n",
      "n 3, rsi 6, threshold 65, ema 20\n",
      "n 3, rsi 6, threshold 65, ema 25\n",
      "n 3, rsi 6, threshold 65, ema 30\n",
      "n 3, rsi 6, threshold 65, ema 35\n",
      "n 3, rsi 6, threshold 70, ema 5\n"
     ]
    },
    {
     "name": "stderr",
     "output_type": "stream",
     "text": [
      "/tmp/ipykernel_36346/873016624.py:45: RuntimeWarning: divide by zero encountered in scalar divide\n",
      "  roi_dd_ratio = total_roi / abs(max_drawdown)\n"
     ]
    },
    {
     "name": "stdout",
     "output_type": "stream",
     "text": [
      "n 3, rsi 6, threshold 70, ema 10\n"
     ]
    },
    {
     "name": "stderr",
     "output_type": "stream",
     "text": [
      "/tmp/ipykernel_36346/873016624.py:45: RuntimeWarning: divide by zero encountered in scalar divide\n",
      "  roi_dd_ratio = total_roi / abs(max_drawdown)\n"
     ]
    },
    {
     "name": "stdout",
     "output_type": "stream",
     "text": [
      "n 3, rsi 6, threshold 70, ema 15\n"
     ]
    },
    {
     "name": "stderr",
     "output_type": "stream",
     "text": [
      "/tmp/ipykernel_36346/873016624.py:45: RuntimeWarning: divide by zero encountered in scalar divide\n",
      "  roi_dd_ratio = total_roi / abs(max_drawdown)\n"
     ]
    },
    {
     "name": "stdout",
     "output_type": "stream",
     "text": [
      "n 3, rsi 6, threshold 70, ema 20\n"
     ]
    },
    {
     "name": "stderr",
     "output_type": "stream",
     "text": [
      "/tmp/ipykernel_36346/873016624.py:45: RuntimeWarning: divide by zero encountered in scalar divide\n",
      "  roi_dd_ratio = total_roi / abs(max_drawdown)\n"
     ]
    },
    {
     "name": "stdout",
     "output_type": "stream",
     "text": [
      "n 3, rsi 6, threshold 70, ema 25\n"
     ]
    },
    {
     "name": "stderr",
     "output_type": "stream",
     "text": [
      "/tmp/ipykernel_36346/873016624.py:45: RuntimeWarning: divide by zero encountered in scalar divide\n",
      "  roi_dd_ratio = total_roi / abs(max_drawdown)\n"
     ]
    },
    {
     "name": "stdout",
     "output_type": "stream",
     "text": [
      "n 3, rsi 6, threshold 70, ema 30\n"
     ]
    },
    {
     "name": "stderr",
     "output_type": "stream",
     "text": [
      "/tmp/ipykernel_36346/873016624.py:45: RuntimeWarning: divide by zero encountered in scalar divide\n",
      "  roi_dd_ratio = total_roi / abs(max_drawdown)\n"
     ]
    },
    {
     "name": "stdout",
     "output_type": "stream",
     "text": [
      "n 3, rsi 6, threshold 70, ema 35\n"
     ]
    },
    {
     "name": "stderr",
     "output_type": "stream",
     "text": [
      "/tmp/ipykernel_36346/873016624.py:45: RuntimeWarning: divide by zero encountered in scalar divide\n",
      "  roi_dd_ratio = total_roi / abs(max_drawdown)\n"
     ]
    },
    {
     "name": "stdout",
     "output_type": "stream",
     "text": [
      "n 3, rsi 6, threshold 75, ema 5\n"
     ]
    },
    {
     "name": "stderr",
     "output_type": "stream",
     "text": [
      "/tmp/ipykernel_36346/873016624.py:45: RuntimeWarning: divide by zero encountered in scalar divide\n",
      "  roi_dd_ratio = total_roi / abs(max_drawdown)\n",
      "/tmp/ipykernel_36346/873016624.py:70: RuntimeWarning: divide by zero encountered in scalar divide\n",
      "  overall_roi_dd_ratio = overall_total_roi / abs(overall_max_drawdown)\n"
     ]
    },
    {
     "name": "stdout",
     "output_type": "stream",
     "text": [
      "n 3, rsi 6, threshold 75, ema 10\n"
     ]
    },
    {
     "name": "stderr",
     "output_type": "stream",
     "text": [
      "/tmp/ipykernel_36346/873016624.py:45: RuntimeWarning: divide by zero encountered in scalar divide\n",
      "  roi_dd_ratio = total_roi / abs(max_drawdown)\n",
      "/tmp/ipykernel_36346/873016624.py:70: RuntimeWarning: divide by zero encountered in scalar divide\n",
      "  overall_roi_dd_ratio = overall_total_roi / abs(overall_max_drawdown)\n"
     ]
    },
    {
     "name": "stdout",
     "output_type": "stream",
     "text": [
      "n 3, rsi 6, threshold 75, ema 15\n"
     ]
    },
    {
     "name": "stderr",
     "output_type": "stream",
     "text": [
      "/tmp/ipykernel_36346/873016624.py:45: RuntimeWarning: divide by zero encountered in scalar divide\n",
      "  roi_dd_ratio = total_roi / abs(max_drawdown)\n",
      "/tmp/ipykernel_36346/873016624.py:70: RuntimeWarning: divide by zero encountered in scalar divide\n",
      "  overall_roi_dd_ratio = overall_total_roi / abs(overall_max_drawdown)\n"
     ]
    },
    {
     "name": "stdout",
     "output_type": "stream",
     "text": [
      "n 3, rsi 6, threshold 75, ema 20\n"
     ]
    },
    {
     "name": "stderr",
     "output_type": "stream",
     "text": [
      "/tmp/ipykernel_36346/873016624.py:45: RuntimeWarning: divide by zero encountered in scalar divide\n",
      "  roi_dd_ratio = total_roi / abs(max_drawdown)\n",
      "/tmp/ipykernel_36346/873016624.py:70: RuntimeWarning: divide by zero encountered in scalar divide\n",
      "  overall_roi_dd_ratio = overall_total_roi / abs(overall_max_drawdown)\n"
     ]
    },
    {
     "name": "stdout",
     "output_type": "stream",
     "text": [
      "n 3, rsi 6, threshold 75, ema 25\n"
     ]
    },
    {
     "name": "stderr",
     "output_type": "stream",
     "text": [
      "/tmp/ipykernel_36346/873016624.py:45: RuntimeWarning: divide by zero encountered in scalar divide\n",
      "  roi_dd_ratio = total_roi / abs(max_drawdown)\n",
      "/tmp/ipykernel_36346/873016624.py:70: RuntimeWarning: divide by zero encountered in scalar divide\n",
      "  overall_roi_dd_ratio = overall_total_roi / abs(overall_max_drawdown)\n"
     ]
    },
    {
     "name": "stdout",
     "output_type": "stream",
     "text": [
      "n 3, rsi 6, threshold 75, ema 30\n"
     ]
    },
    {
     "name": "stderr",
     "output_type": "stream",
     "text": [
      "/tmp/ipykernel_36346/873016624.py:45: RuntimeWarning: divide by zero encountered in scalar divide\n",
      "  roi_dd_ratio = total_roi / abs(max_drawdown)\n",
      "/tmp/ipykernel_36346/873016624.py:70: RuntimeWarning: divide by zero encountered in scalar divide\n",
      "  overall_roi_dd_ratio = overall_total_roi / abs(overall_max_drawdown)\n"
     ]
    },
    {
     "name": "stdout",
     "output_type": "stream",
     "text": [
      "n 3, rsi 6, threshold 75, ema 35\n"
     ]
    },
    {
     "name": "stderr",
     "output_type": "stream",
     "text": [
      "/tmp/ipykernel_36346/873016624.py:45: RuntimeWarning: divide by zero encountered in scalar divide\n",
      "  roi_dd_ratio = total_roi / abs(max_drawdown)\n",
      "/tmp/ipykernel_36346/873016624.py:70: RuntimeWarning: divide by zero encountered in scalar divide\n",
      "  overall_roi_dd_ratio = overall_total_roi / abs(overall_max_drawdown)\n"
     ]
    },
    {
     "name": "stdout",
     "output_type": "stream",
     "text": [
      "n 3, rsi 6, threshold 80, ema 5\n",
      "n 3, rsi 6, threshold 80, ema 10\n",
      "n 3, rsi 6, threshold 80, ema 15\n",
      "n 3, rsi 6, threshold 80, ema 20\n",
      "n 3, rsi 6, threshold 80, ema 25\n",
      "n 3, rsi 6, threshold 80, ema 30\n",
      "n 3, rsi 6, threshold 80, ema 35\n",
      "n 3, rsi 12, threshold 30, ema 5\n",
      "n 3, rsi 12, threshold 30, ema 10\n",
      "n 3, rsi 12, threshold 30, ema 15\n",
      "n 3, rsi 12, threshold 30, ema 20\n",
      "n 3, rsi 12, threshold 30, ema 25\n",
      "n 3, rsi 12, threshold 30, ema 30\n",
      "n 3, rsi 12, threshold 30, ema 35\n",
      "n 3, rsi 12, threshold 35, ema 5\n",
      "n 3, rsi 12, threshold 35, ema 10\n",
      "n 3, rsi 12, threshold 35, ema 15\n",
      "n 3, rsi 12, threshold 35, ema 20\n",
      "n 3, rsi 12, threshold 35, ema 25\n",
      "n 3, rsi 12, threshold 35, ema 30\n",
      "n 3, rsi 12, threshold 35, ema 35\n",
      "n 3, rsi 12, threshold 40, ema 5\n",
      "n 3, rsi 12, threshold 40, ema 10\n",
      "n 3, rsi 12, threshold 40, ema 15\n",
      "n 3, rsi 12, threshold 40, ema 20\n",
      "n 3, rsi 12, threshold 40, ema 25\n",
      "n 3, rsi 12, threshold 40, ema 30\n",
      "n 3, rsi 12, threshold 40, ema 35\n",
      "n 3, rsi 12, threshold 45, ema 5\n",
      "n 3, rsi 12, threshold 45, ema 10\n",
      "n 3, rsi 12, threshold 45, ema 15\n",
      "n 3, rsi 12, threshold 45, ema 20\n",
      "n 3, rsi 12, threshold 45, ema 25\n",
      "n 3, rsi 12, threshold 45, ema 30\n",
      "n 3, rsi 12, threshold 45, ema 35\n",
      "n 3, rsi 12, threshold 50, ema 5\n",
      "n 3, rsi 12, threshold 50, ema 10\n",
      "n 3, rsi 12, threshold 50, ema 15\n",
      "n 3, rsi 12, threshold 50, ema 20\n",
      "n 3, rsi 12, threshold 50, ema 25\n",
      "n 3, rsi 12, threshold 50, ema 30\n",
      "n 3, rsi 12, threshold 50, ema 35\n",
      "n 3, rsi 12, threshold 55, ema 5\n",
      "n 3, rsi 12, threshold 55, ema 10\n",
      "n 3, rsi 12, threshold 55, ema 15\n",
      "n 3, rsi 12, threshold 55, ema 20\n",
      "n 3, rsi 12, threshold 55, ema 25\n",
      "n 3, rsi 12, threshold 55, ema 30\n",
      "n 3, rsi 12, threshold 55, ema 35\n",
      "n 3, rsi 12, threshold 60, ema 5\n",
      "n 3, rsi 12, threshold 60, ema 10\n",
      "n 3, rsi 12, threshold 60, ema 15\n",
      "n 3, rsi 12, threshold 60, ema 20\n",
      "n 3, rsi 12, threshold 60, ema 25\n",
      "n 3, rsi 12, threshold 60, ema 30\n",
      "n 3, rsi 12, threshold 60, ema 35\n",
      "n 3, rsi 12, threshold 65, ema 5\n",
      "n 3, rsi 12, threshold 65, ema 10\n",
      "n 3, rsi 12, threshold 65, ema 15\n",
      "n 3, rsi 12, threshold 65, ema 20\n",
      "n 3, rsi 12, threshold 65, ema 25\n",
      "n 3, rsi 12, threshold 65, ema 30\n",
      "n 3, rsi 12, threshold 65, ema 35\n",
      "n 3, rsi 12, threshold 70, ema 5\n"
     ]
    },
    {
     "name": "stderr",
     "output_type": "stream",
     "text": [
      "/tmp/ipykernel_36346/873016624.py:45: RuntimeWarning: divide by zero encountered in scalar divide\n",
      "  roi_dd_ratio = total_roi / abs(max_drawdown)\n"
     ]
    },
    {
     "name": "stdout",
     "output_type": "stream",
     "text": [
      "n 3, rsi 12, threshold 70, ema 10\n"
     ]
    },
    {
     "name": "stderr",
     "output_type": "stream",
     "text": [
      "/tmp/ipykernel_36346/873016624.py:45: RuntimeWarning: divide by zero encountered in scalar divide\n",
      "  roi_dd_ratio = total_roi / abs(max_drawdown)\n"
     ]
    },
    {
     "name": "stdout",
     "output_type": "stream",
     "text": [
      "n 3, rsi 12, threshold 70, ema 15\n"
     ]
    },
    {
     "name": "stderr",
     "output_type": "stream",
     "text": [
      "/tmp/ipykernel_36346/873016624.py:45: RuntimeWarning: divide by zero encountered in scalar divide\n",
      "  roi_dd_ratio = total_roi / abs(max_drawdown)\n"
     ]
    },
    {
     "name": "stdout",
     "output_type": "stream",
     "text": [
      "n 3, rsi 12, threshold 70, ema 20\n"
     ]
    },
    {
     "name": "stderr",
     "output_type": "stream",
     "text": [
      "/tmp/ipykernel_36346/873016624.py:45: RuntimeWarning: divide by zero encountered in scalar divide\n",
      "  roi_dd_ratio = total_roi / abs(max_drawdown)\n"
     ]
    },
    {
     "name": "stdout",
     "output_type": "stream",
     "text": [
      "n 3, rsi 12, threshold 70, ema 25\n"
     ]
    },
    {
     "name": "stderr",
     "output_type": "stream",
     "text": [
      "/tmp/ipykernel_36346/873016624.py:45: RuntimeWarning: divide by zero encountered in scalar divide\n",
      "  roi_dd_ratio = total_roi / abs(max_drawdown)\n"
     ]
    },
    {
     "name": "stdout",
     "output_type": "stream",
     "text": [
      "n 3, rsi 12, threshold 70, ema 30\n"
     ]
    },
    {
     "name": "stderr",
     "output_type": "stream",
     "text": [
      "/tmp/ipykernel_36346/873016624.py:45: RuntimeWarning: divide by zero encountered in scalar divide\n",
      "  roi_dd_ratio = total_roi / abs(max_drawdown)\n"
     ]
    },
    {
     "name": "stdout",
     "output_type": "stream",
     "text": [
      "n 3, rsi 12, threshold 70, ema 35\n"
     ]
    },
    {
     "name": "stderr",
     "output_type": "stream",
     "text": [
      "/tmp/ipykernel_36346/873016624.py:45: RuntimeWarning: divide by zero encountered in scalar divide\n",
      "  roi_dd_ratio = total_roi / abs(max_drawdown)\n"
     ]
    },
    {
     "name": "stdout",
     "output_type": "stream",
     "text": [
      "n 3, rsi 12, threshold 75, ema 5\n"
     ]
    },
    {
     "name": "stderr",
     "output_type": "stream",
     "text": [
      "/tmp/ipykernel_36346/873016624.py:45: RuntimeWarning: divide by zero encountered in scalar divide\n",
      "  roi_dd_ratio = total_roi / abs(max_drawdown)\n",
      "/tmp/ipykernel_36346/873016624.py:70: RuntimeWarning: divide by zero encountered in scalar divide\n",
      "  overall_roi_dd_ratio = overall_total_roi / abs(overall_max_drawdown)\n"
     ]
    },
    {
     "name": "stdout",
     "output_type": "stream",
     "text": [
      "n 3, rsi 12, threshold 75, ema 10\n"
     ]
    },
    {
     "name": "stderr",
     "output_type": "stream",
     "text": [
      "/tmp/ipykernel_36346/873016624.py:45: RuntimeWarning: divide by zero encountered in scalar divide\n",
      "  roi_dd_ratio = total_roi / abs(max_drawdown)\n",
      "/tmp/ipykernel_36346/873016624.py:70: RuntimeWarning: divide by zero encountered in scalar divide\n",
      "  overall_roi_dd_ratio = overall_total_roi / abs(overall_max_drawdown)\n"
     ]
    },
    {
     "name": "stdout",
     "output_type": "stream",
     "text": [
      "n 3, rsi 12, threshold 75, ema 15\n"
     ]
    },
    {
     "name": "stderr",
     "output_type": "stream",
     "text": [
      "/tmp/ipykernel_36346/873016624.py:45: RuntimeWarning: divide by zero encountered in scalar divide\n",
      "  roi_dd_ratio = total_roi / abs(max_drawdown)\n",
      "/tmp/ipykernel_36346/873016624.py:70: RuntimeWarning: divide by zero encountered in scalar divide\n",
      "  overall_roi_dd_ratio = overall_total_roi / abs(overall_max_drawdown)\n"
     ]
    },
    {
     "name": "stdout",
     "output_type": "stream",
     "text": [
      "n 3, rsi 12, threshold 75, ema 20\n"
     ]
    },
    {
     "name": "stderr",
     "output_type": "stream",
     "text": [
      "/tmp/ipykernel_36346/873016624.py:45: RuntimeWarning: divide by zero encountered in scalar divide\n",
      "  roi_dd_ratio = total_roi / abs(max_drawdown)\n",
      "/tmp/ipykernel_36346/873016624.py:70: RuntimeWarning: divide by zero encountered in scalar divide\n",
      "  overall_roi_dd_ratio = overall_total_roi / abs(overall_max_drawdown)\n"
     ]
    },
    {
     "name": "stdout",
     "output_type": "stream",
     "text": [
      "n 3, rsi 12, threshold 75, ema 25\n"
     ]
    },
    {
     "name": "stderr",
     "output_type": "stream",
     "text": [
      "/tmp/ipykernel_36346/873016624.py:45: RuntimeWarning: divide by zero encountered in scalar divide\n",
      "  roi_dd_ratio = total_roi / abs(max_drawdown)\n",
      "/tmp/ipykernel_36346/873016624.py:70: RuntimeWarning: divide by zero encountered in scalar divide\n",
      "  overall_roi_dd_ratio = overall_total_roi / abs(overall_max_drawdown)\n"
     ]
    },
    {
     "name": "stdout",
     "output_type": "stream",
     "text": [
      "n 3, rsi 12, threshold 75, ema 30\n"
     ]
    },
    {
     "name": "stderr",
     "output_type": "stream",
     "text": [
      "/tmp/ipykernel_36346/873016624.py:45: RuntimeWarning: divide by zero encountered in scalar divide\n",
      "  roi_dd_ratio = total_roi / abs(max_drawdown)\n",
      "/tmp/ipykernel_36346/873016624.py:70: RuntimeWarning: divide by zero encountered in scalar divide\n",
      "  overall_roi_dd_ratio = overall_total_roi / abs(overall_max_drawdown)\n"
     ]
    },
    {
     "name": "stdout",
     "output_type": "stream",
     "text": [
      "n 3, rsi 12, threshold 75, ema 35\n"
     ]
    },
    {
     "name": "stderr",
     "output_type": "stream",
     "text": [
      "/tmp/ipykernel_36346/873016624.py:45: RuntimeWarning: divide by zero encountered in scalar divide\n",
      "  roi_dd_ratio = total_roi / abs(max_drawdown)\n",
      "/tmp/ipykernel_36346/873016624.py:70: RuntimeWarning: divide by zero encountered in scalar divide\n",
      "  overall_roi_dd_ratio = overall_total_roi / abs(overall_max_drawdown)\n"
     ]
    },
    {
     "name": "stdout",
     "output_type": "stream",
     "text": [
      "n 3, rsi 12, threshold 80, ema 5\n",
      "n 3, rsi 12, threshold 80, ema 10\n",
      "n 3, rsi 12, threshold 80, ema 15\n",
      "n 3, rsi 12, threshold 80, ema 20\n",
      "n 3, rsi 12, threshold 80, ema 25\n",
      "n 3, rsi 12, threshold 80, ema 30\n",
      "n 3, rsi 12, threshold 80, ema 35\n",
      "n 3, rsi 16, threshold 30, ema 5\n",
      "n 3, rsi 16, threshold 30, ema 10\n",
      "n 3, rsi 16, threshold 30, ema 15\n",
      "n 3, rsi 16, threshold 30, ema 20\n",
      "n 3, rsi 16, threshold 30, ema 25\n",
      "n 3, rsi 16, threshold 30, ema 30\n",
      "n 3, rsi 16, threshold 30, ema 35\n",
      "n 3, rsi 16, threshold 35, ema 5\n",
      "n 3, rsi 16, threshold 35, ema 10\n",
      "n 3, rsi 16, threshold 35, ema 15\n",
      "n 3, rsi 16, threshold 35, ema 20\n",
      "n 3, rsi 16, threshold 35, ema 25\n",
      "n 3, rsi 16, threshold 35, ema 30\n",
      "n 3, rsi 16, threshold 35, ema 35\n",
      "n 3, rsi 16, threshold 40, ema 5\n",
      "n 3, rsi 16, threshold 40, ema 10\n",
      "n 3, rsi 16, threshold 40, ema 15\n",
      "n 3, rsi 16, threshold 40, ema 20\n",
      "n 3, rsi 16, threshold 40, ema 25\n",
      "n 3, rsi 16, threshold 40, ema 30\n",
      "n 3, rsi 16, threshold 40, ema 35\n",
      "n 3, rsi 16, threshold 45, ema 5\n",
      "n 3, rsi 16, threshold 45, ema 10\n",
      "n 3, rsi 16, threshold 45, ema 15\n",
      "n 3, rsi 16, threshold 45, ema 20\n",
      "n 3, rsi 16, threshold 45, ema 25\n",
      "n 3, rsi 16, threshold 45, ema 30\n",
      "n 3, rsi 16, threshold 45, ema 35\n",
      "n 3, rsi 16, threshold 50, ema 5\n",
      "n 3, rsi 16, threshold 50, ema 10\n",
      "n 3, rsi 16, threshold 50, ema 15\n",
      "n 3, rsi 16, threshold 50, ema 20\n",
      "n 3, rsi 16, threshold 50, ema 25\n",
      "n 3, rsi 16, threshold 50, ema 30\n",
      "n 3, rsi 16, threshold 50, ema 35\n",
      "n 3, rsi 16, threshold 55, ema 5\n",
      "n 3, rsi 16, threshold 55, ema 10\n",
      "n 3, rsi 16, threshold 55, ema 15\n",
      "n 3, rsi 16, threshold 55, ema 20\n",
      "n 3, rsi 16, threshold 55, ema 25\n",
      "n 3, rsi 16, threshold 55, ema 30\n",
      "n 3, rsi 16, threshold 55, ema 35\n",
      "n 3, rsi 16, threshold 60, ema 5\n",
      "n 3, rsi 16, threshold 60, ema 10\n",
      "n 3, rsi 16, threshold 60, ema 15\n",
      "n 3, rsi 16, threshold 60, ema 20\n",
      "n 3, rsi 16, threshold 60, ema 25\n",
      "n 3, rsi 16, threshold 60, ema 30\n",
      "n 3, rsi 16, threshold 60, ema 35\n",
      "n 3, rsi 16, threshold 65, ema 5\n",
      "n 3, rsi 16, threshold 65, ema 10\n",
      "n 3, rsi 16, threshold 65, ema 15\n",
      "n 3, rsi 16, threshold 65, ema 20\n",
      "n 3, rsi 16, threshold 65, ema 25\n",
      "n 3, rsi 16, threshold 65, ema 30\n",
      "n 3, rsi 16, threshold 65, ema 35\n",
      "n 3, rsi 16, threshold 70, ema 5\n"
     ]
    },
    {
     "name": "stderr",
     "output_type": "stream",
     "text": [
      "/tmp/ipykernel_36346/873016624.py:45: RuntimeWarning: divide by zero encountered in scalar divide\n",
      "  roi_dd_ratio = total_roi / abs(max_drawdown)\n"
     ]
    },
    {
     "name": "stdout",
     "output_type": "stream",
     "text": [
      "n 3, rsi 16, threshold 70, ema 10\n"
     ]
    },
    {
     "name": "stderr",
     "output_type": "stream",
     "text": [
      "/tmp/ipykernel_36346/873016624.py:45: RuntimeWarning: divide by zero encountered in scalar divide\n",
      "  roi_dd_ratio = total_roi / abs(max_drawdown)\n"
     ]
    },
    {
     "name": "stdout",
     "output_type": "stream",
     "text": [
      "n 3, rsi 16, threshold 70, ema 15\n"
     ]
    },
    {
     "name": "stderr",
     "output_type": "stream",
     "text": [
      "/tmp/ipykernel_36346/873016624.py:45: RuntimeWarning: divide by zero encountered in scalar divide\n",
      "  roi_dd_ratio = total_roi / abs(max_drawdown)\n"
     ]
    },
    {
     "name": "stdout",
     "output_type": "stream",
     "text": [
      "n 3, rsi 16, threshold 70, ema 20\n"
     ]
    },
    {
     "name": "stderr",
     "output_type": "stream",
     "text": [
      "/tmp/ipykernel_36346/873016624.py:45: RuntimeWarning: divide by zero encountered in scalar divide\n",
      "  roi_dd_ratio = total_roi / abs(max_drawdown)\n"
     ]
    },
    {
     "name": "stdout",
     "output_type": "stream",
     "text": [
      "n 3, rsi 16, threshold 70, ema 25\n"
     ]
    },
    {
     "name": "stderr",
     "output_type": "stream",
     "text": [
      "/tmp/ipykernel_36346/873016624.py:45: RuntimeWarning: divide by zero encountered in scalar divide\n",
      "  roi_dd_ratio = total_roi / abs(max_drawdown)\n"
     ]
    },
    {
     "name": "stdout",
     "output_type": "stream",
     "text": [
      "n 3, rsi 16, threshold 70, ema 30\n"
     ]
    },
    {
     "name": "stderr",
     "output_type": "stream",
     "text": [
      "/tmp/ipykernel_36346/873016624.py:45: RuntimeWarning: divide by zero encountered in scalar divide\n",
      "  roi_dd_ratio = total_roi / abs(max_drawdown)\n"
     ]
    },
    {
     "name": "stdout",
     "output_type": "stream",
     "text": [
      "n 3, rsi 16, threshold 70, ema 35\n"
     ]
    },
    {
     "name": "stderr",
     "output_type": "stream",
     "text": [
      "/tmp/ipykernel_36346/873016624.py:45: RuntimeWarning: divide by zero encountered in scalar divide\n",
      "  roi_dd_ratio = total_roi / abs(max_drawdown)\n"
     ]
    },
    {
     "name": "stdout",
     "output_type": "stream",
     "text": [
      "n 3, rsi 16, threshold 75, ema 5\n",
      "n 3, rsi 16, threshold 75, ema 10\n",
      "n 3, rsi 16, threshold 75, ema 15\n",
      "n 3, rsi 16, threshold 75, ema 20\n",
      "n 3, rsi 16, threshold 75, ema 25\n",
      "n 3, rsi 16, threshold 75, ema 30\n",
      "n 3, rsi 16, threshold 75, ema 35\n",
      "n 3, rsi 16, threshold 80, ema 5\n",
      "n 3, rsi 16, threshold 80, ema 10\n",
      "n 3, rsi 16, threshold 80, ema 15\n",
      "n 3, rsi 16, threshold 80, ema 20\n",
      "n 3, rsi 16, threshold 80, ema 25\n",
      "n 3, rsi 16, threshold 80, ema 30\n",
      "n 3, rsi 16, threshold 80, ema 35\n",
      "n 4, rsi 14, threshold 30, ema 5\n",
      "n 4, rsi 14, threshold 30, ema 10\n",
      "n 4, rsi 14, threshold 30, ema 15\n",
      "n 4, rsi 14, threshold 30, ema 20\n",
      "n 4, rsi 14, threshold 30, ema 25\n",
      "n 4, rsi 14, threshold 30, ema 30\n",
      "n 4, rsi 14, threshold 30, ema 35\n",
      "n 4, rsi 14, threshold 35, ema 5\n",
      "n 4, rsi 14, threshold 35, ema 10\n",
      "n 4, rsi 14, threshold 35, ema 15\n",
      "n 4, rsi 14, threshold 35, ema 20\n",
      "n 4, rsi 14, threshold 35, ema 25\n",
      "n 4, rsi 14, threshold 35, ema 30\n",
      "n 4, rsi 14, threshold 35, ema 35\n",
      "n 4, rsi 14, threshold 40, ema 5\n",
      "n 4, rsi 14, threshold 40, ema 10\n",
      "n 4, rsi 14, threshold 40, ema 15\n",
      "n 4, rsi 14, threshold 40, ema 20\n",
      "n 4, rsi 14, threshold 40, ema 25\n",
      "n 4, rsi 14, threshold 40, ema 30\n",
      "n 4, rsi 14, threshold 40, ema 35\n",
      "n 4, rsi 14, threshold 45, ema 5\n",
      "n 4, rsi 14, threshold 45, ema 10\n",
      "n 4, rsi 14, threshold 45, ema 15\n",
      "n 4, rsi 14, threshold 45, ema 20\n",
      "n 4, rsi 14, threshold 45, ema 25\n",
      "n 4, rsi 14, threshold 45, ema 30\n",
      "n 4, rsi 14, threshold 45, ema 35\n",
      "n 4, rsi 14, threshold 50, ema 5\n",
      "n 4, rsi 14, threshold 50, ema 10\n",
      "n 4, rsi 14, threshold 50, ema 15\n",
      "n 4, rsi 14, threshold 50, ema 20\n",
      "n 4, rsi 14, threshold 50, ema 25\n",
      "n 4, rsi 14, threshold 50, ema 30\n",
      "n 4, rsi 14, threshold 50, ema 35\n",
      "n 4, rsi 14, threshold 55, ema 5\n",
      "n 4, rsi 14, threshold 55, ema 10\n",
      "n 4, rsi 14, threshold 55, ema 15\n",
      "n 4, rsi 14, threshold 55, ema 20\n",
      "n 4, rsi 14, threshold 55, ema 25\n",
      "n 4, rsi 14, threshold 55, ema 30\n",
      "n 4, rsi 14, threshold 55, ema 35\n",
      "n 4, rsi 14, threshold 60, ema 5\n",
      "n 4, rsi 14, threshold 60, ema 10\n",
      "n 4, rsi 14, threshold 60, ema 15\n",
      "n 4, rsi 14, threshold 60, ema 20\n",
      "n 4, rsi 14, threshold 60, ema 25\n",
      "n 4, rsi 14, threshold 60, ema 30\n",
      "n 4, rsi 14, threshold 60, ema 35\n",
      "n 4, rsi 14, threshold 65, ema 5\n"
     ]
    },
    {
     "name": "stderr",
     "output_type": "stream",
     "text": [
      "/tmp/ipykernel_36346/873016624.py:45: RuntimeWarning: divide by zero encountered in scalar divide\n",
      "  roi_dd_ratio = total_roi / abs(max_drawdown)\n"
     ]
    },
    {
     "name": "stdout",
     "output_type": "stream",
     "text": [
      "n 4, rsi 14, threshold 65, ema 10\n"
     ]
    },
    {
     "name": "stderr",
     "output_type": "stream",
     "text": [
      "/tmp/ipykernel_36346/873016624.py:45: RuntimeWarning: divide by zero encountered in scalar divide\n",
      "  roi_dd_ratio = total_roi / abs(max_drawdown)\n"
     ]
    },
    {
     "name": "stdout",
     "output_type": "stream",
     "text": [
      "n 4, rsi 14, threshold 65, ema 15\n"
     ]
    },
    {
     "name": "stderr",
     "output_type": "stream",
     "text": [
      "/tmp/ipykernel_36346/873016624.py:45: RuntimeWarning: divide by zero encountered in scalar divide\n",
      "  roi_dd_ratio = total_roi / abs(max_drawdown)\n"
     ]
    },
    {
     "name": "stdout",
     "output_type": "stream",
     "text": [
      "n 4, rsi 14, threshold 65, ema 20\n"
     ]
    },
    {
     "name": "stderr",
     "output_type": "stream",
     "text": [
      "/tmp/ipykernel_36346/873016624.py:45: RuntimeWarning: divide by zero encountered in scalar divide\n",
      "  roi_dd_ratio = total_roi / abs(max_drawdown)\n"
     ]
    },
    {
     "name": "stdout",
     "output_type": "stream",
     "text": [
      "n 4, rsi 14, threshold 65, ema 25\n"
     ]
    },
    {
     "name": "stderr",
     "output_type": "stream",
     "text": [
      "/tmp/ipykernel_36346/873016624.py:45: RuntimeWarning: divide by zero encountered in scalar divide\n",
      "  roi_dd_ratio = total_roi / abs(max_drawdown)\n"
     ]
    },
    {
     "name": "stdout",
     "output_type": "stream",
     "text": [
      "n 4, rsi 14, threshold 65, ema 30\n"
     ]
    },
    {
     "name": "stderr",
     "output_type": "stream",
     "text": [
      "/tmp/ipykernel_36346/873016624.py:45: RuntimeWarning: divide by zero encountered in scalar divide\n",
      "  roi_dd_ratio = total_roi / abs(max_drawdown)\n"
     ]
    },
    {
     "name": "stdout",
     "output_type": "stream",
     "text": [
      "n 4, rsi 14, threshold 65, ema 35\n"
     ]
    },
    {
     "name": "stderr",
     "output_type": "stream",
     "text": [
      "/tmp/ipykernel_36346/873016624.py:45: RuntimeWarning: divide by zero encountered in scalar divide\n",
      "  roi_dd_ratio = total_roi / abs(max_drawdown)\n"
     ]
    },
    {
     "name": "stdout",
     "output_type": "stream",
     "text": [
      "n 4, rsi 14, threshold 70, ema 5\n"
     ]
    },
    {
     "name": "stderr",
     "output_type": "stream",
     "text": [
      "/tmp/ipykernel_36346/873016624.py:45: RuntimeWarning: divide by zero encountered in scalar divide\n",
      "  roi_dd_ratio = total_roi / abs(max_drawdown)\n"
     ]
    },
    {
     "name": "stdout",
     "output_type": "stream",
     "text": [
      "n 4, rsi 14, threshold 70, ema 10\n"
     ]
    },
    {
     "name": "stderr",
     "output_type": "stream",
     "text": [
      "/tmp/ipykernel_36346/873016624.py:45: RuntimeWarning: divide by zero encountered in scalar divide\n",
      "  roi_dd_ratio = total_roi / abs(max_drawdown)\n"
     ]
    },
    {
     "name": "stdout",
     "output_type": "stream",
     "text": [
      "n 4, rsi 14, threshold 70, ema 15\n"
     ]
    },
    {
     "name": "stderr",
     "output_type": "stream",
     "text": [
      "/tmp/ipykernel_36346/873016624.py:45: RuntimeWarning: divide by zero encountered in scalar divide\n",
      "  roi_dd_ratio = total_roi / abs(max_drawdown)\n"
     ]
    },
    {
     "name": "stdout",
     "output_type": "stream",
     "text": [
      "n 4, rsi 14, threshold 70, ema 20\n"
     ]
    },
    {
     "name": "stderr",
     "output_type": "stream",
     "text": [
      "/tmp/ipykernel_36346/873016624.py:45: RuntimeWarning: divide by zero encountered in scalar divide\n",
      "  roi_dd_ratio = total_roi / abs(max_drawdown)\n"
     ]
    },
    {
     "name": "stdout",
     "output_type": "stream",
     "text": [
      "n 4, rsi 14, threshold 70, ema 25\n"
     ]
    },
    {
     "name": "stderr",
     "output_type": "stream",
     "text": [
      "/tmp/ipykernel_36346/873016624.py:45: RuntimeWarning: divide by zero encountered in scalar divide\n",
      "  roi_dd_ratio = total_roi / abs(max_drawdown)\n"
     ]
    },
    {
     "name": "stdout",
     "output_type": "stream",
     "text": [
      "n 4, rsi 14, threshold 70, ema 30\n"
     ]
    },
    {
     "name": "stderr",
     "output_type": "stream",
     "text": [
      "/tmp/ipykernel_36346/873016624.py:45: RuntimeWarning: divide by zero encountered in scalar divide\n",
      "  roi_dd_ratio = total_roi / abs(max_drawdown)\n"
     ]
    },
    {
     "name": "stdout",
     "output_type": "stream",
     "text": [
      "n 4, rsi 14, threshold 70, ema 35\n"
     ]
    },
    {
     "name": "stderr",
     "output_type": "stream",
     "text": [
      "/tmp/ipykernel_36346/873016624.py:45: RuntimeWarning: divide by zero encountered in scalar divide\n",
      "  roi_dd_ratio = total_roi / abs(max_drawdown)\n"
     ]
    },
    {
     "name": "stdout",
     "output_type": "stream",
     "text": [
      "n 4, rsi 14, threshold 75, ema 5\n",
      "n 4, rsi 14, threshold 75, ema 10\n",
      "n 4, rsi 14, threshold 75, ema 15\n",
      "n 4, rsi 14, threshold 75, ema 20\n",
      "n 4, rsi 14, threshold 75, ema 25\n",
      "n 4, rsi 14, threshold 75, ema 30\n",
      "n 4, rsi 14, threshold 75, ema 35\n",
      "n 4, rsi 14, threshold 80, ema 5\n",
      "n 4, rsi 14, threshold 80, ema 10\n",
      "n 4, rsi 14, threshold 80, ema 15\n",
      "n 4, rsi 14, threshold 80, ema 20\n",
      "n 4, rsi 14, threshold 80, ema 25\n",
      "n 4, rsi 14, threshold 80, ema 30\n",
      "n 4, rsi 14, threshold 80, ema 35\n",
      "n 4, rsi 9, threshold 30, ema 5\n",
      "n 4, rsi 9, threshold 30, ema 10\n",
      "n 4, rsi 9, threshold 30, ema 15\n",
      "n 4, rsi 9, threshold 30, ema 20\n",
      "n 4, rsi 9, threshold 30, ema 25\n",
      "n 4, rsi 9, threshold 30, ema 30\n",
      "n 4, rsi 9, threshold 30, ema 35\n",
      "n 4, rsi 9, threshold 35, ema 5\n",
      "n 4, rsi 9, threshold 35, ema 10\n",
      "n 4, rsi 9, threshold 35, ema 15\n",
      "n 4, rsi 9, threshold 35, ema 20\n",
      "n 4, rsi 9, threshold 35, ema 25\n",
      "n 4, rsi 9, threshold 35, ema 30\n",
      "n 4, rsi 9, threshold 35, ema 35\n",
      "n 4, rsi 9, threshold 40, ema 5\n",
      "n 4, rsi 9, threshold 40, ema 10\n",
      "n 4, rsi 9, threshold 40, ema 15\n",
      "n 4, rsi 9, threshold 40, ema 20\n",
      "n 4, rsi 9, threshold 40, ema 25\n",
      "n 4, rsi 9, threshold 40, ema 30\n",
      "n 4, rsi 9, threshold 40, ema 35\n",
      "n 4, rsi 9, threshold 45, ema 5\n",
      "n 4, rsi 9, threshold 45, ema 10\n",
      "n 4, rsi 9, threshold 45, ema 15\n",
      "n 4, rsi 9, threshold 45, ema 20\n",
      "n 4, rsi 9, threshold 45, ema 25\n",
      "n 4, rsi 9, threshold 45, ema 30\n",
      "n 4, rsi 9, threshold 45, ema 35\n",
      "n 4, rsi 9, threshold 50, ema 5\n",
      "n 4, rsi 9, threshold 50, ema 10\n",
      "n 4, rsi 9, threshold 50, ema 15\n",
      "n 4, rsi 9, threshold 50, ema 20\n",
      "n 4, rsi 9, threshold 50, ema 25\n",
      "n 4, rsi 9, threshold 50, ema 30\n",
      "n 4, rsi 9, threshold 50, ema 35\n",
      "n 4, rsi 9, threshold 55, ema 5\n",
      "n 4, rsi 9, threshold 55, ema 10\n",
      "n 4, rsi 9, threshold 55, ema 15\n",
      "n 4, rsi 9, threshold 55, ema 20\n",
      "n 4, rsi 9, threshold 55, ema 25\n",
      "n 4, rsi 9, threshold 55, ema 30\n",
      "n 4, rsi 9, threshold 55, ema 35\n",
      "n 4, rsi 9, threshold 60, ema 5\n",
      "n 4, rsi 9, threshold 60, ema 10\n",
      "n 4, rsi 9, threshold 60, ema 15\n",
      "n 4, rsi 9, threshold 60, ema 20\n",
      "n 4, rsi 9, threshold 60, ema 25\n",
      "n 4, rsi 9, threshold 60, ema 30\n",
      "n 4, rsi 9, threshold 60, ema 35\n",
      "n 4, rsi 9, threshold 65, ema 5\n"
     ]
    },
    {
     "name": "stderr",
     "output_type": "stream",
     "text": [
      "/tmp/ipykernel_36346/873016624.py:45: RuntimeWarning: divide by zero encountered in scalar divide\n",
      "  roi_dd_ratio = total_roi / abs(max_drawdown)\n"
     ]
    },
    {
     "name": "stdout",
     "output_type": "stream",
     "text": [
      "n 4, rsi 9, threshold 65, ema 10\n"
     ]
    },
    {
     "name": "stderr",
     "output_type": "stream",
     "text": [
      "/tmp/ipykernel_36346/873016624.py:45: RuntimeWarning: divide by zero encountered in scalar divide\n",
      "  roi_dd_ratio = total_roi / abs(max_drawdown)\n"
     ]
    },
    {
     "name": "stdout",
     "output_type": "stream",
     "text": [
      "n 4, rsi 9, threshold 65, ema 15\n"
     ]
    },
    {
     "name": "stderr",
     "output_type": "stream",
     "text": [
      "/tmp/ipykernel_36346/873016624.py:45: RuntimeWarning: divide by zero encountered in scalar divide\n",
      "  roi_dd_ratio = total_roi / abs(max_drawdown)\n"
     ]
    },
    {
     "name": "stdout",
     "output_type": "stream",
     "text": [
      "n 4, rsi 9, threshold 65, ema 20\n"
     ]
    },
    {
     "name": "stderr",
     "output_type": "stream",
     "text": [
      "/tmp/ipykernel_36346/873016624.py:45: RuntimeWarning: divide by zero encountered in scalar divide\n",
      "  roi_dd_ratio = total_roi / abs(max_drawdown)\n"
     ]
    },
    {
     "name": "stdout",
     "output_type": "stream",
     "text": [
      "n 4, rsi 9, threshold 65, ema 25\n"
     ]
    },
    {
     "name": "stderr",
     "output_type": "stream",
     "text": [
      "/tmp/ipykernel_36346/873016624.py:45: RuntimeWarning: divide by zero encountered in scalar divide\n",
      "  roi_dd_ratio = total_roi / abs(max_drawdown)\n"
     ]
    },
    {
     "name": "stdout",
     "output_type": "stream",
     "text": [
      "n 4, rsi 9, threshold 65, ema 30\n"
     ]
    },
    {
     "name": "stderr",
     "output_type": "stream",
     "text": [
      "/tmp/ipykernel_36346/873016624.py:45: RuntimeWarning: divide by zero encountered in scalar divide\n",
      "  roi_dd_ratio = total_roi / abs(max_drawdown)\n"
     ]
    },
    {
     "name": "stdout",
     "output_type": "stream",
     "text": [
      "n 4, rsi 9, threshold 65, ema 35\n"
     ]
    },
    {
     "name": "stderr",
     "output_type": "stream",
     "text": [
      "/tmp/ipykernel_36346/873016624.py:45: RuntimeWarning: divide by zero encountered in scalar divide\n",
      "  roi_dd_ratio = total_roi / abs(max_drawdown)\n"
     ]
    },
    {
     "name": "stdout",
     "output_type": "stream",
     "text": [
      "n 4, rsi 9, threshold 70, ema 5\n"
     ]
    },
    {
     "name": "stderr",
     "output_type": "stream",
     "text": [
      "/tmp/ipykernel_36346/873016624.py:45: RuntimeWarning: divide by zero encountered in scalar divide\n",
      "  roi_dd_ratio = total_roi / abs(max_drawdown)\n"
     ]
    },
    {
     "name": "stdout",
     "output_type": "stream",
     "text": [
      "n 4, rsi 9, threshold 70, ema 10\n"
     ]
    },
    {
     "name": "stderr",
     "output_type": "stream",
     "text": [
      "/tmp/ipykernel_36346/873016624.py:45: RuntimeWarning: divide by zero encountered in scalar divide\n",
      "  roi_dd_ratio = total_roi / abs(max_drawdown)\n"
     ]
    },
    {
     "name": "stdout",
     "output_type": "stream",
     "text": [
      "n 4, rsi 9, threshold 70, ema 15\n"
     ]
    },
    {
     "name": "stderr",
     "output_type": "stream",
     "text": [
      "/tmp/ipykernel_36346/873016624.py:45: RuntimeWarning: divide by zero encountered in scalar divide\n",
      "  roi_dd_ratio = total_roi / abs(max_drawdown)\n"
     ]
    },
    {
     "name": "stdout",
     "output_type": "stream",
     "text": [
      "n 4, rsi 9, threshold 70, ema 20\n"
     ]
    },
    {
     "name": "stderr",
     "output_type": "stream",
     "text": [
      "/tmp/ipykernel_36346/873016624.py:45: RuntimeWarning: divide by zero encountered in scalar divide\n",
      "  roi_dd_ratio = total_roi / abs(max_drawdown)\n"
     ]
    },
    {
     "name": "stdout",
     "output_type": "stream",
     "text": [
      "n 4, rsi 9, threshold 70, ema 25\n"
     ]
    },
    {
     "name": "stderr",
     "output_type": "stream",
     "text": [
      "/tmp/ipykernel_36346/873016624.py:45: RuntimeWarning: divide by zero encountered in scalar divide\n",
      "  roi_dd_ratio = total_roi / abs(max_drawdown)\n"
     ]
    },
    {
     "name": "stdout",
     "output_type": "stream",
     "text": [
      "n 4, rsi 9, threshold 70, ema 30\n"
     ]
    },
    {
     "name": "stderr",
     "output_type": "stream",
     "text": [
      "/tmp/ipykernel_36346/873016624.py:45: RuntimeWarning: divide by zero encountered in scalar divide\n",
      "  roi_dd_ratio = total_roi / abs(max_drawdown)\n"
     ]
    },
    {
     "name": "stdout",
     "output_type": "stream",
     "text": [
      "n 4, rsi 9, threshold 70, ema 35\n"
     ]
    },
    {
     "name": "stderr",
     "output_type": "stream",
     "text": [
      "/tmp/ipykernel_36346/873016624.py:45: RuntimeWarning: divide by zero encountered in scalar divide\n",
      "  roi_dd_ratio = total_roi / abs(max_drawdown)\n"
     ]
    },
    {
     "name": "stdout",
     "output_type": "stream",
     "text": [
      "n 4, rsi 9, threshold 75, ema 5\n",
      "n 4, rsi 9, threshold 75, ema 10\n",
      "n 4, rsi 9, threshold 75, ema 15\n",
      "n 4, rsi 9, threshold 75, ema 20\n",
      "n 4, rsi 9, threshold 75, ema 25\n",
      "n 4, rsi 9, threshold 75, ema 30\n",
      "n 4, rsi 9, threshold 75, ema 35\n",
      "n 4, rsi 9, threshold 80, ema 5\n",
      "n 4, rsi 9, threshold 80, ema 10\n",
      "n 4, rsi 9, threshold 80, ema 15\n",
      "n 4, rsi 9, threshold 80, ema 20\n",
      "n 4, rsi 9, threshold 80, ema 25\n",
      "n 4, rsi 9, threshold 80, ema 30\n",
      "n 4, rsi 9, threshold 80, ema 35\n",
      "n 4, rsi 21, threshold 30, ema 5\n",
      "n 4, rsi 21, threshold 30, ema 10\n",
      "n 4, rsi 21, threshold 30, ema 15\n",
      "n 4, rsi 21, threshold 30, ema 20\n",
      "n 4, rsi 21, threshold 30, ema 25\n",
      "n 4, rsi 21, threshold 30, ema 30\n",
      "n 4, rsi 21, threshold 30, ema 35\n",
      "n 4, rsi 21, threshold 35, ema 5\n",
      "n 4, rsi 21, threshold 35, ema 10\n",
      "n 4, rsi 21, threshold 35, ema 15\n",
      "n 4, rsi 21, threshold 35, ema 20\n",
      "n 4, rsi 21, threshold 35, ema 25\n",
      "n 4, rsi 21, threshold 35, ema 30\n",
      "n 4, rsi 21, threshold 35, ema 35\n",
      "n 4, rsi 21, threshold 40, ema 5\n",
      "n 4, rsi 21, threshold 40, ema 10\n",
      "n 4, rsi 21, threshold 40, ema 15\n",
      "n 4, rsi 21, threshold 40, ema 20\n",
      "n 4, rsi 21, threshold 40, ema 25\n",
      "n 4, rsi 21, threshold 40, ema 30\n",
      "n 4, rsi 21, threshold 40, ema 35\n",
      "n 4, rsi 21, threshold 45, ema 5\n",
      "n 4, rsi 21, threshold 45, ema 10\n",
      "n 4, rsi 21, threshold 45, ema 15\n",
      "n 4, rsi 21, threshold 45, ema 20\n",
      "n 4, rsi 21, threshold 45, ema 25\n",
      "n 4, rsi 21, threshold 45, ema 30\n",
      "n 4, rsi 21, threshold 45, ema 35\n",
      "n 4, rsi 21, threshold 50, ema 5\n",
      "n 4, rsi 21, threshold 50, ema 10\n",
      "n 4, rsi 21, threshold 50, ema 15\n",
      "n 4, rsi 21, threshold 50, ema 20\n",
      "n 4, rsi 21, threshold 50, ema 25\n",
      "n 4, rsi 21, threshold 50, ema 30\n",
      "n 4, rsi 21, threshold 50, ema 35\n",
      "n 4, rsi 21, threshold 55, ema 5\n",
      "n 4, rsi 21, threshold 55, ema 10\n",
      "n 4, rsi 21, threshold 55, ema 15\n",
      "n 4, rsi 21, threshold 55, ema 20\n",
      "n 4, rsi 21, threshold 55, ema 25\n",
      "n 4, rsi 21, threshold 55, ema 30\n",
      "n 4, rsi 21, threshold 55, ema 35\n",
      "n 4, rsi 21, threshold 60, ema 5\n",
      "n 4, rsi 21, threshold 60, ema 10\n",
      "n 4, rsi 21, threshold 60, ema 15\n",
      "n 4, rsi 21, threshold 60, ema 20\n",
      "n 4, rsi 21, threshold 60, ema 25\n",
      "n 4, rsi 21, threshold 60, ema 30\n",
      "n 4, rsi 21, threshold 60, ema 35\n",
      "n 4, rsi 21, threshold 65, ema 5\n"
     ]
    },
    {
     "name": "stderr",
     "output_type": "stream",
     "text": [
      "/tmp/ipykernel_36346/873016624.py:45: RuntimeWarning: divide by zero encountered in scalar divide\n",
      "  roi_dd_ratio = total_roi / abs(max_drawdown)\n"
     ]
    },
    {
     "name": "stdout",
     "output_type": "stream",
     "text": [
      "n 4, rsi 21, threshold 65, ema 10\n"
     ]
    },
    {
     "name": "stderr",
     "output_type": "stream",
     "text": [
      "/tmp/ipykernel_36346/873016624.py:45: RuntimeWarning: divide by zero encountered in scalar divide\n",
      "  roi_dd_ratio = total_roi / abs(max_drawdown)\n"
     ]
    },
    {
     "name": "stdout",
     "output_type": "stream",
     "text": [
      "n 4, rsi 21, threshold 65, ema 15\n"
     ]
    },
    {
     "name": "stderr",
     "output_type": "stream",
     "text": [
      "/tmp/ipykernel_36346/873016624.py:45: RuntimeWarning: divide by zero encountered in scalar divide\n",
      "  roi_dd_ratio = total_roi / abs(max_drawdown)\n"
     ]
    },
    {
     "name": "stdout",
     "output_type": "stream",
     "text": [
      "n 4, rsi 21, threshold 65, ema 20\n"
     ]
    },
    {
     "name": "stderr",
     "output_type": "stream",
     "text": [
      "/tmp/ipykernel_36346/873016624.py:45: RuntimeWarning: divide by zero encountered in scalar divide\n",
      "  roi_dd_ratio = total_roi / abs(max_drawdown)\n"
     ]
    },
    {
     "name": "stdout",
     "output_type": "stream",
     "text": [
      "n 4, rsi 21, threshold 65, ema 25\n"
     ]
    },
    {
     "name": "stderr",
     "output_type": "stream",
     "text": [
      "/tmp/ipykernel_36346/873016624.py:45: RuntimeWarning: divide by zero encountered in scalar divide\n",
      "  roi_dd_ratio = total_roi / abs(max_drawdown)\n"
     ]
    },
    {
     "name": "stdout",
     "output_type": "stream",
     "text": [
      "n 4, rsi 21, threshold 65, ema 30\n"
     ]
    },
    {
     "name": "stderr",
     "output_type": "stream",
     "text": [
      "/tmp/ipykernel_36346/873016624.py:45: RuntimeWarning: divide by zero encountered in scalar divide\n",
      "  roi_dd_ratio = total_roi / abs(max_drawdown)\n"
     ]
    },
    {
     "name": "stdout",
     "output_type": "stream",
     "text": [
      "n 4, rsi 21, threshold 65, ema 35\n"
     ]
    },
    {
     "name": "stderr",
     "output_type": "stream",
     "text": [
      "/tmp/ipykernel_36346/873016624.py:45: RuntimeWarning: divide by zero encountered in scalar divide\n",
      "  roi_dd_ratio = total_roi / abs(max_drawdown)\n"
     ]
    },
    {
     "name": "stdout",
     "output_type": "stream",
     "text": [
      "n 4, rsi 21, threshold 70, ema 5\n"
     ]
    },
    {
     "name": "stderr",
     "output_type": "stream",
     "text": [
      "/tmp/ipykernel_36346/873016624.py:45: RuntimeWarning: divide by zero encountered in scalar divide\n",
      "  roi_dd_ratio = total_roi / abs(max_drawdown)\n"
     ]
    },
    {
     "name": "stdout",
     "output_type": "stream",
     "text": [
      "n 4, rsi 21, threshold 70, ema 10\n"
     ]
    },
    {
     "name": "stderr",
     "output_type": "stream",
     "text": [
      "/tmp/ipykernel_36346/873016624.py:45: RuntimeWarning: divide by zero encountered in scalar divide\n",
      "  roi_dd_ratio = total_roi / abs(max_drawdown)\n"
     ]
    },
    {
     "name": "stdout",
     "output_type": "stream",
     "text": [
      "n 4, rsi 21, threshold 70, ema 15\n"
     ]
    },
    {
     "name": "stderr",
     "output_type": "stream",
     "text": [
      "/tmp/ipykernel_36346/873016624.py:45: RuntimeWarning: divide by zero encountered in scalar divide\n",
      "  roi_dd_ratio = total_roi / abs(max_drawdown)\n"
     ]
    },
    {
     "name": "stdout",
     "output_type": "stream",
     "text": [
      "n 4, rsi 21, threshold 70, ema 20\n"
     ]
    },
    {
     "name": "stderr",
     "output_type": "stream",
     "text": [
      "/tmp/ipykernel_36346/873016624.py:45: RuntimeWarning: divide by zero encountered in scalar divide\n",
      "  roi_dd_ratio = total_roi / abs(max_drawdown)\n"
     ]
    },
    {
     "name": "stdout",
     "output_type": "stream",
     "text": [
      "n 4, rsi 21, threshold 70, ema 25\n"
     ]
    },
    {
     "name": "stderr",
     "output_type": "stream",
     "text": [
      "/tmp/ipykernel_36346/873016624.py:45: RuntimeWarning: divide by zero encountered in scalar divide\n",
      "  roi_dd_ratio = total_roi / abs(max_drawdown)\n"
     ]
    },
    {
     "name": "stdout",
     "output_type": "stream",
     "text": [
      "n 4, rsi 21, threshold 70, ema 30\n"
     ]
    },
    {
     "name": "stderr",
     "output_type": "stream",
     "text": [
      "/tmp/ipykernel_36346/873016624.py:45: RuntimeWarning: divide by zero encountered in scalar divide\n",
      "  roi_dd_ratio = total_roi / abs(max_drawdown)\n"
     ]
    },
    {
     "name": "stdout",
     "output_type": "stream",
     "text": [
      "n 4, rsi 21, threshold 70, ema 35\n"
     ]
    },
    {
     "name": "stderr",
     "output_type": "stream",
     "text": [
      "/tmp/ipykernel_36346/873016624.py:45: RuntimeWarning: divide by zero encountered in scalar divide\n",
      "  roi_dd_ratio = total_roi / abs(max_drawdown)\n"
     ]
    },
    {
     "name": "stdout",
     "output_type": "stream",
     "text": [
      "n 4, rsi 21, threshold 75, ema 5\n",
      "n 4, rsi 21, threshold 75, ema 10\n",
      "n 4, rsi 21, threshold 75, ema 15\n",
      "n 4, rsi 21, threshold 75, ema 20\n",
      "n 4, rsi 21, threshold 75, ema 25\n",
      "n 4, rsi 21, threshold 75, ema 30\n",
      "n 4, rsi 21, threshold 75, ema 35\n",
      "n 4, rsi 21, threshold 80, ema 5\n",
      "n 4, rsi 21, threshold 80, ema 10\n",
      "n 4, rsi 21, threshold 80, ema 15\n",
      "n 4, rsi 21, threshold 80, ema 20\n",
      "n 4, rsi 21, threshold 80, ema 25\n",
      "n 4, rsi 21, threshold 80, ema 30\n",
      "n 4, rsi 21, threshold 80, ema 35\n",
      "n 4, rsi 6, threshold 30, ema 5\n",
      "n 4, rsi 6, threshold 30, ema 10\n",
      "n 4, rsi 6, threshold 30, ema 15\n",
      "n 4, rsi 6, threshold 30, ema 20\n",
      "n 4, rsi 6, threshold 30, ema 25\n",
      "n 4, rsi 6, threshold 30, ema 30\n",
      "n 4, rsi 6, threshold 30, ema 35\n",
      "n 4, rsi 6, threshold 35, ema 5\n",
      "n 4, rsi 6, threshold 35, ema 10\n",
      "n 4, rsi 6, threshold 35, ema 15\n",
      "n 4, rsi 6, threshold 35, ema 20\n",
      "n 4, rsi 6, threshold 35, ema 25\n",
      "n 4, rsi 6, threshold 35, ema 30\n",
      "n 4, rsi 6, threshold 35, ema 35\n",
      "n 4, rsi 6, threshold 40, ema 5\n",
      "n 4, rsi 6, threshold 40, ema 10\n",
      "n 4, rsi 6, threshold 40, ema 15\n",
      "n 4, rsi 6, threshold 40, ema 20\n",
      "n 4, rsi 6, threshold 40, ema 25\n",
      "n 4, rsi 6, threshold 40, ema 30\n",
      "n 4, rsi 6, threshold 40, ema 35\n",
      "n 4, rsi 6, threshold 45, ema 5\n",
      "n 4, rsi 6, threshold 45, ema 10\n",
      "n 4, rsi 6, threshold 45, ema 15\n",
      "n 4, rsi 6, threshold 45, ema 20\n",
      "n 4, rsi 6, threshold 45, ema 25\n",
      "n 4, rsi 6, threshold 45, ema 30\n",
      "n 4, rsi 6, threshold 45, ema 35\n",
      "n 4, rsi 6, threshold 50, ema 5\n",
      "n 4, rsi 6, threshold 50, ema 10\n",
      "n 4, rsi 6, threshold 50, ema 15\n",
      "n 4, rsi 6, threshold 50, ema 20\n",
      "n 4, rsi 6, threshold 50, ema 25\n",
      "n 4, rsi 6, threshold 50, ema 30\n",
      "n 4, rsi 6, threshold 50, ema 35\n",
      "n 4, rsi 6, threshold 55, ema 5\n",
      "n 4, rsi 6, threshold 55, ema 10\n",
      "n 4, rsi 6, threshold 55, ema 15\n",
      "n 4, rsi 6, threshold 55, ema 20\n",
      "n 4, rsi 6, threshold 55, ema 25\n",
      "n 4, rsi 6, threshold 55, ema 30\n",
      "n 4, rsi 6, threshold 55, ema 35\n",
      "n 4, rsi 6, threshold 60, ema 5\n"
     ]
    },
    {
     "name": "stderr",
     "output_type": "stream",
     "text": [
      "/tmp/ipykernel_36346/873016624.py:45: RuntimeWarning: divide by zero encountered in scalar divide\n",
      "  roi_dd_ratio = total_roi / abs(max_drawdown)\n"
     ]
    },
    {
     "name": "stdout",
     "output_type": "stream",
     "text": [
      "n 4, rsi 6, threshold 60, ema 10\n"
     ]
    },
    {
     "name": "stderr",
     "output_type": "stream",
     "text": [
      "/tmp/ipykernel_36346/873016624.py:45: RuntimeWarning: divide by zero encountered in scalar divide\n",
      "  roi_dd_ratio = total_roi / abs(max_drawdown)\n"
     ]
    },
    {
     "name": "stdout",
     "output_type": "stream",
     "text": [
      "n 4, rsi 6, threshold 60, ema 15\n"
     ]
    },
    {
     "name": "stderr",
     "output_type": "stream",
     "text": [
      "/tmp/ipykernel_36346/873016624.py:45: RuntimeWarning: divide by zero encountered in scalar divide\n",
      "  roi_dd_ratio = total_roi / abs(max_drawdown)\n"
     ]
    },
    {
     "name": "stdout",
     "output_type": "stream",
     "text": [
      "n 4, rsi 6, threshold 60, ema 20\n"
     ]
    },
    {
     "name": "stderr",
     "output_type": "stream",
     "text": [
      "/tmp/ipykernel_36346/873016624.py:45: RuntimeWarning: divide by zero encountered in scalar divide\n",
      "  roi_dd_ratio = total_roi / abs(max_drawdown)\n"
     ]
    },
    {
     "name": "stdout",
     "output_type": "stream",
     "text": [
      "n 4, rsi 6, threshold 60, ema 25\n"
     ]
    },
    {
     "name": "stderr",
     "output_type": "stream",
     "text": [
      "/tmp/ipykernel_36346/873016624.py:45: RuntimeWarning: divide by zero encountered in scalar divide\n",
      "  roi_dd_ratio = total_roi / abs(max_drawdown)\n"
     ]
    },
    {
     "name": "stdout",
     "output_type": "stream",
     "text": [
      "n 4, rsi 6, threshold 60, ema 30\n"
     ]
    },
    {
     "name": "stderr",
     "output_type": "stream",
     "text": [
      "/tmp/ipykernel_36346/873016624.py:45: RuntimeWarning: divide by zero encountered in scalar divide\n",
      "  roi_dd_ratio = total_roi / abs(max_drawdown)\n"
     ]
    },
    {
     "name": "stdout",
     "output_type": "stream",
     "text": [
      "n 4, rsi 6, threshold 60, ema 35\n"
     ]
    },
    {
     "name": "stderr",
     "output_type": "stream",
     "text": [
      "/tmp/ipykernel_36346/873016624.py:45: RuntimeWarning: divide by zero encountered in scalar divide\n",
      "  roi_dd_ratio = total_roi / abs(max_drawdown)\n"
     ]
    },
    {
     "name": "stdout",
     "output_type": "stream",
     "text": [
      "n 4, rsi 6, threshold 65, ema 5\n"
     ]
    },
    {
     "name": "stderr",
     "output_type": "stream",
     "text": [
      "/tmp/ipykernel_36346/873016624.py:45: RuntimeWarning: divide by zero encountered in scalar divide\n",
      "  roi_dd_ratio = total_roi / abs(max_drawdown)\n"
     ]
    },
    {
     "name": "stdout",
     "output_type": "stream",
     "text": [
      "n 4, rsi 6, threshold 65, ema 10\n"
     ]
    },
    {
     "name": "stderr",
     "output_type": "stream",
     "text": [
      "/tmp/ipykernel_36346/873016624.py:45: RuntimeWarning: divide by zero encountered in scalar divide\n",
      "  roi_dd_ratio = total_roi / abs(max_drawdown)\n"
     ]
    },
    {
     "name": "stdout",
     "output_type": "stream",
     "text": [
      "n 4, rsi 6, threshold 65, ema 15\n"
     ]
    },
    {
     "name": "stderr",
     "output_type": "stream",
     "text": [
      "/tmp/ipykernel_36346/873016624.py:45: RuntimeWarning: divide by zero encountered in scalar divide\n",
      "  roi_dd_ratio = total_roi / abs(max_drawdown)\n"
     ]
    },
    {
     "name": "stdout",
     "output_type": "stream",
     "text": [
      "n 4, rsi 6, threshold 65, ema 20\n"
     ]
    },
    {
     "name": "stderr",
     "output_type": "stream",
     "text": [
      "/tmp/ipykernel_36346/873016624.py:45: RuntimeWarning: divide by zero encountered in scalar divide\n",
      "  roi_dd_ratio = total_roi / abs(max_drawdown)\n"
     ]
    },
    {
     "name": "stdout",
     "output_type": "stream",
     "text": [
      "n 4, rsi 6, threshold 65, ema 25\n"
     ]
    },
    {
     "name": "stderr",
     "output_type": "stream",
     "text": [
      "/tmp/ipykernel_36346/873016624.py:45: RuntimeWarning: divide by zero encountered in scalar divide\n",
      "  roi_dd_ratio = total_roi / abs(max_drawdown)\n"
     ]
    },
    {
     "name": "stdout",
     "output_type": "stream",
     "text": [
      "n 4, rsi 6, threshold 65, ema 30\n"
     ]
    },
    {
     "name": "stderr",
     "output_type": "stream",
     "text": [
      "/tmp/ipykernel_36346/873016624.py:45: RuntimeWarning: divide by zero encountered in scalar divide\n",
      "  roi_dd_ratio = total_roi / abs(max_drawdown)\n"
     ]
    },
    {
     "name": "stdout",
     "output_type": "stream",
     "text": [
      "n 4, rsi 6, threshold 65, ema 35\n"
     ]
    },
    {
     "name": "stderr",
     "output_type": "stream",
     "text": [
      "/tmp/ipykernel_36346/873016624.py:45: RuntimeWarning: divide by zero encountered in scalar divide\n",
      "  roi_dd_ratio = total_roi / abs(max_drawdown)\n"
     ]
    },
    {
     "name": "stdout",
     "output_type": "stream",
     "text": [
      "n 4, rsi 6, threshold 70, ema 5\n",
      "n 4, rsi 6, threshold 70, ema 10\n",
      "n 4, rsi 6, threshold 70, ema 15\n",
      "n 4, rsi 6, threshold 70, ema 20\n",
      "n 4, rsi 6, threshold 70, ema 25\n",
      "n 4, rsi 6, threshold 70, ema 30\n",
      "n 4, rsi 6, threshold 70, ema 35\n",
      "n 4, rsi 6, threshold 75, ema 5\n",
      "n 4, rsi 6, threshold 75, ema 10\n",
      "n 4, rsi 6, threshold 75, ema 15\n",
      "n 4, rsi 6, threshold 75, ema 20\n",
      "n 4, rsi 6, threshold 75, ema 25\n",
      "n 4, rsi 6, threshold 75, ema 30\n",
      "n 4, rsi 6, threshold 75, ema 35\n",
      "n 4, rsi 6, threshold 80, ema 5\n",
      "n 4, rsi 6, threshold 80, ema 10\n",
      "n 4, rsi 6, threshold 80, ema 15\n",
      "n 4, rsi 6, threshold 80, ema 20\n",
      "n 4, rsi 6, threshold 80, ema 25\n",
      "n 4, rsi 6, threshold 80, ema 30\n",
      "n 4, rsi 6, threshold 80, ema 35\n",
      "n 4, rsi 12, threshold 30, ema 5\n",
      "n 4, rsi 12, threshold 30, ema 10\n",
      "n 4, rsi 12, threshold 30, ema 15\n",
      "n 4, rsi 12, threshold 30, ema 20\n",
      "n 4, rsi 12, threshold 30, ema 25\n",
      "n 4, rsi 12, threshold 30, ema 30\n",
      "n 4, rsi 12, threshold 30, ema 35\n",
      "n 4, rsi 12, threshold 35, ema 5\n",
      "n 4, rsi 12, threshold 35, ema 10\n",
      "n 4, rsi 12, threshold 35, ema 15\n",
      "n 4, rsi 12, threshold 35, ema 20\n",
      "n 4, rsi 12, threshold 35, ema 25\n",
      "n 4, rsi 12, threshold 35, ema 30\n",
      "n 4, rsi 12, threshold 35, ema 35\n",
      "n 4, rsi 12, threshold 40, ema 5\n",
      "n 4, rsi 12, threshold 40, ema 10\n",
      "n 4, rsi 12, threshold 40, ema 15\n",
      "n 4, rsi 12, threshold 40, ema 20\n",
      "n 4, rsi 12, threshold 40, ema 25\n",
      "n 4, rsi 12, threshold 40, ema 30\n",
      "n 4, rsi 12, threshold 40, ema 35\n",
      "n 4, rsi 12, threshold 45, ema 5\n",
      "n 4, rsi 12, threshold 45, ema 10\n",
      "n 4, rsi 12, threshold 45, ema 15\n",
      "n 4, rsi 12, threshold 45, ema 20\n",
      "n 4, rsi 12, threshold 45, ema 25\n",
      "n 4, rsi 12, threshold 45, ema 30\n",
      "n 4, rsi 12, threshold 45, ema 35\n",
      "n 4, rsi 12, threshold 50, ema 5\n",
      "n 4, rsi 12, threshold 50, ema 10\n",
      "n 4, rsi 12, threshold 50, ema 15\n",
      "n 4, rsi 12, threshold 50, ema 20\n",
      "n 4, rsi 12, threshold 50, ema 25\n",
      "n 4, rsi 12, threshold 50, ema 30\n",
      "n 4, rsi 12, threshold 50, ema 35\n",
      "n 4, rsi 12, threshold 55, ema 5\n",
      "n 4, rsi 12, threshold 55, ema 10\n",
      "n 4, rsi 12, threshold 55, ema 15\n",
      "n 4, rsi 12, threshold 55, ema 20\n",
      "n 4, rsi 12, threshold 55, ema 25\n",
      "n 4, rsi 12, threshold 55, ema 30\n",
      "n 4, rsi 12, threshold 55, ema 35\n",
      "n 4, rsi 12, threshold 60, ema 5\n",
      "n 4, rsi 12, threshold 60, ema 10\n",
      "n 4, rsi 12, threshold 60, ema 15\n",
      "n 4, rsi 12, threshold 60, ema 20\n",
      "n 4, rsi 12, threshold 60, ema 25\n",
      "n 4, rsi 12, threshold 60, ema 30\n",
      "n 4, rsi 12, threshold 60, ema 35\n",
      "n 4, rsi 12, threshold 65, ema 5\n"
     ]
    },
    {
     "name": "stderr",
     "output_type": "stream",
     "text": [
      "/tmp/ipykernel_36346/873016624.py:45: RuntimeWarning: divide by zero encountered in scalar divide\n",
      "  roi_dd_ratio = total_roi / abs(max_drawdown)\n"
     ]
    },
    {
     "name": "stdout",
     "output_type": "stream",
     "text": [
      "n 4, rsi 12, threshold 65, ema 10\n"
     ]
    },
    {
     "name": "stderr",
     "output_type": "stream",
     "text": [
      "/tmp/ipykernel_36346/873016624.py:45: RuntimeWarning: divide by zero encountered in scalar divide\n",
      "  roi_dd_ratio = total_roi / abs(max_drawdown)\n"
     ]
    },
    {
     "name": "stdout",
     "output_type": "stream",
     "text": [
      "n 4, rsi 12, threshold 65, ema 15\n"
     ]
    },
    {
     "name": "stderr",
     "output_type": "stream",
     "text": [
      "/tmp/ipykernel_36346/873016624.py:45: RuntimeWarning: divide by zero encountered in scalar divide\n",
      "  roi_dd_ratio = total_roi / abs(max_drawdown)\n"
     ]
    },
    {
     "name": "stdout",
     "output_type": "stream",
     "text": [
      "n 4, rsi 12, threshold 65, ema 20\n"
     ]
    },
    {
     "name": "stderr",
     "output_type": "stream",
     "text": [
      "/tmp/ipykernel_36346/873016624.py:45: RuntimeWarning: divide by zero encountered in scalar divide\n",
      "  roi_dd_ratio = total_roi / abs(max_drawdown)\n"
     ]
    },
    {
     "name": "stdout",
     "output_type": "stream",
     "text": [
      "n 4, rsi 12, threshold 65, ema 25\n"
     ]
    },
    {
     "name": "stderr",
     "output_type": "stream",
     "text": [
      "/tmp/ipykernel_36346/873016624.py:45: RuntimeWarning: divide by zero encountered in scalar divide\n",
      "  roi_dd_ratio = total_roi / abs(max_drawdown)\n"
     ]
    },
    {
     "name": "stdout",
     "output_type": "stream",
     "text": [
      "n 4, rsi 12, threshold 65, ema 30\n"
     ]
    },
    {
     "name": "stderr",
     "output_type": "stream",
     "text": [
      "/tmp/ipykernel_36346/873016624.py:45: RuntimeWarning: divide by zero encountered in scalar divide\n",
      "  roi_dd_ratio = total_roi / abs(max_drawdown)\n"
     ]
    },
    {
     "name": "stdout",
     "output_type": "stream",
     "text": [
      "n 4, rsi 12, threshold 65, ema 35\n"
     ]
    },
    {
     "name": "stderr",
     "output_type": "stream",
     "text": [
      "/tmp/ipykernel_36346/873016624.py:45: RuntimeWarning: divide by zero encountered in scalar divide\n",
      "  roi_dd_ratio = total_roi / abs(max_drawdown)\n"
     ]
    },
    {
     "name": "stdout",
     "output_type": "stream",
     "text": [
      "n 4, rsi 12, threshold 70, ema 5\n"
     ]
    },
    {
     "name": "stderr",
     "output_type": "stream",
     "text": [
      "/tmp/ipykernel_36346/873016624.py:45: RuntimeWarning: divide by zero encountered in scalar divide\n",
      "  roi_dd_ratio = total_roi / abs(max_drawdown)\n"
     ]
    },
    {
     "name": "stdout",
     "output_type": "stream",
     "text": [
      "n 4, rsi 12, threshold 70, ema 10\n"
     ]
    },
    {
     "name": "stderr",
     "output_type": "stream",
     "text": [
      "/tmp/ipykernel_36346/873016624.py:45: RuntimeWarning: divide by zero encountered in scalar divide\n",
      "  roi_dd_ratio = total_roi / abs(max_drawdown)\n"
     ]
    },
    {
     "name": "stdout",
     "output_type": "stream",
     "text": [
      "n 4, rsi 12, threshold 70, ema 15\n"
     ]
    },
    {
     "name": "stderr",
     "output_type": "stream",
     "text": [
      "/tmp/ipykernel_36346/873016624.py:45: RuntimeWarning: divide by zero encountered in scalar divide\n",
      "  roi_dd_ratio = total_roi / abs(max_drawdown)\n"
     ]
    },
    {
     "name": "stdout",
     "output_type": "stream",
     "text": [
      "n 4, rsi 12, threshold 70, ema 20\n"
     ]
    },
    {
     "name": "stderr",
     "output_type": "stream",
     "text": [
      "/tmp/ipykernel_36346/873016624.py:45: RuntimeWarning: divide by zero encountered in scalar divide\n",
      "  roi_dd_ratio = total_roi / abs(max_drawdown)\n"
     ]
    },
    {
     "name": "stdout",
     "output_type": "stream",
     "text": [
      "n 4, rsi 12, threshold 70, ema 25\n"
     ]
    },
    {
     "name": "stderr",
     "output_type": "stream",
     "text": [
      "/tmp/ipykernel_36346/873016624.py:45: RuntimeWarning: divide by zero encountered in scalar divide\n",
      "  roi_dd_ratio = total_roi / abs(max_drawdown)\n"
     ]
    },
    {
     "name": "stdout",
     "output_type": "stream",
     "text": [
      "n 4, rsi 12, threshold 70, ema 30\n"
     ]
    },
    {
     "name": "stderr",
     "output_type": "stream",
     "text": [
      "/tmp/ipykernel_36346/873016624.py:45: RuntimeWarning: divide by zero encountered in scalar divide\n",
      "  roi_dd_ratio = total_roi / abs(max_drawdown)\n"
     ]
    },
    {
     "name": "stdout",
     "output_type": "stream",
     "text": [
      "n 4, rsi 12, threshold 70, ema 35\n"
     ]
    },
    {
     "name": "stderr",
     "output_type": "stream",
     "text": [
      "/tmp/ipykernel_36346/873016624.py:45: RuntimeWarning: divide by zero encountered in scalar divide\n",
      "  roi_dd_ratio = total_roi / abs(max_drawdown)\n"
     ]
    },
    {
     "name": "stdout",
     "output_type": "stream",
     "text": [
      "n 4, rsi 12, threshold 75, ema 5\n",
      "n 4, rsi 12, threshold 75, ema 10\n",
      "n 4, rsi 12, threshold 75, ema 15\n",
      "n 4, rsi 12, threshold 75, ema 20\n",
      "n 4, rsi 12, threshold 75, ema 25\n",
      "n 4, rsi 12, threshold 75, ema 30\n",
      "n 4, rsi 12, threshold 75, ema 35\n",
      "n 4, rsi 12, threshold 80, ema 5\n",
      "n 4, rsi 12, threshold 80, ema 10\n",
      "n 4, rsi 12, threshold 80, ema 15\n",
      "n 4, rsi 12, threshold 80, ema 20\n",
      "n 4, rsi 12, threshold 80, ema 25\n",
      "n 4, rsi 12, threshold 80, ema 30\n",
      "n 4, rsi 12, threshold 80, ema 35\n",
      "n 4, rsi 16, threshold 30, ema 5\n",
      "n 4, rsi 16, threshold 30, ema 10\n",
      "n 4, rsi 16, threshold 30, ema 15\n",
      "n 4, rsi 16, threshold 30, ema 20\n",
      "n 4, rsi 16, threshold 30, ema 25\n",
      "n 4, rsi 16, threshold 30, ema 30\n",
      "n 4, rsi 16, threshold 30, ema 35\n",
      "n 4, rsi 16, threshold 35, ema 5\n",
      "n 4, rsi 16, threshold 35, ema 10\n",
      "n 4, rsi 16, threshold 35, ema 15\n",
      "n 4, rsi 16, threshold 35, ema 20\n",
      "n 4, rsi 16, threshold 35, ema 25\n",
      "n 4, rsi 16, threshold 35, ema 30\n",
      "n 4, rsi 16, threshold 35, ema 35\n",
      "n 4, rsi 16, threshold 40, ema 5\n",
      "n 4, rsi 16, threshold 40, ema 10\n",
      "n 4, rsi 16, threshold 40, ema 15\n",
      "n 4, rsi 16, threshold 40, ema 20\n",
      "n 4, rsi 16, threshold 40, ema 25\n",
      "n 4, rsi 16, threshold 40, ema 30\n",
      "n 4, rsi 16, threshold 40, ema 35\n",
      "n 4, rsi 16, threshold 45, ema 5\n",
      "n 4, rsi 16, threshold 45, ema 10\n",
      "n 4, rsi 16, threshold 45, ema 15\n",
      "n 4, rsi 16, threshold 45, ema 20\n",
      "n 4, rsi 16, threshold 45, ema 25\n",
      "n 4, rsi 16, threshold 45, ema 30\n",
      "n 4, rsi 16, threshold 45, ema 35\n",
      "n 4, rsi 16, threshold 50, ema 5\n",
      "n 4, rsi 16, threshold 50, ema 10\n",
      "n 4, rsi 16, threshold 50, ema 15\n",
      "n 4, rsi 16, threshold 50, ema 20\n",
      "n 4, rsi 16, threshold 50, ema 25\n",
      "n 4, rsi 16, threshold 50, ema 30\n",
      "n 4, rsi 16, threshold 50, ema 35\n",
      "n 4, rsi 16, threshold 55, ema 5\n",
      "n 4, rsi 16, threshold 55, ema 10\n",
      "n 4, rsi 16, threshold 55, ema 15\n",
      "n 4, rsi 16, threshold 55, ema 20\n",
      "n 4, rsi 16, threshold 55, ema 25\n",
      "n 4, rsi 16, threshold 55, ema 30\n",
      "n 4, rsi 16, threshold 55, ema 35\n",
      "n 4, rsi 16, threshold 60, ema 5\n",
      "n 4, rsi 16, threshold 60, ema 10\n",
      "n 4, rsi 16, threshold 60, ema 15\n",
      "n 4, rsi 16, threshold 60, ema 20\n",
      "n 4, rsi 16, threshold 60, ema 25\n",
      "n 4, rsi 16, threshold 60, ema 30\n",
      "n 4, rsi 16, threshold 60, ema 35\n",
      "n 4, rsi 16, threshold 65, ema 5\n"
     ]
    },
    {
     "name": "stderr",
     "output_type": "stream",
     "text": [
      "/tmp/ipykernel_36346/873016624.py:45: RuntimeWarning: divide by zero encountered in scalar divide\n",
      "  roi_dd_ratio = total_roi / abs(max_drawdown)\n"
     ]
    },
    {
     "name": "stdout",
     "output_type": "stream",
     "text": [
      "n 4, rsi 16, threshold 65, ema 10\n"
     ]
    },
    {
     "name": "stderr",
     "output_type": "stream",
     "text": [
      "/tmp/ipykernel_36346/873016624.py:45: RuntimeWarning: divide by zero encountered in scalar divide\n",
      "  roi_dd_ratio = total_roi / abs(max_drawdown)\n"
     ]
    },
    {
     "name": "stdout",
     "output_type": "stream",
     "text": [
      "n 4, rsi 16, threshold 65, ema 15\n"
     ]
    },
    {
     "name": "stderr",
     "output_type": "stream",
     "text": [
      "/tmp/ipykernel_36346/873016624.py:45: RuntimeWarning: divide by zero encountered in scalar divide\n",
      "  roi_dd_ratio = total_roi / abs(max_drawdown)\n"
     ]
    },
    {
     "name": "stdout",
     "output_type": "stream",
     "text": [
      "n 4, rsi 16, threshold 65, ema 20\n"
     ]
    },
    {
     "name": "stderr",
     "output_type": "stream",
     "text": [
      "/tmp/ipykernel_36346/873016624.py:45: RuntimeWarning: divide by zero encountered in scalar divide\n",
      "  roi_dd_ratio = total_roi / abs(max_drawdown)\n"
     ]
    },
    {
     "name": "stdout",
     "output_type": "stream",
     "text": [
      "n 4, rsi 16, threshold 65, ema 25\n"
     ]
    },
    {
     "name": "stderr",
     "output_type": "stream",
     "text": [
      "/tmp/ipykernel_36346/873016624.py:45: RuntimeWarning: divide by zero encountered in scalar divide\n",
      "  roi_dd_ratio = total_roi / abs(max_drawdown)\n"
     ]
    },
    {
     "name": "stdout",
     "output_type": "stream",
     "text": [
      "n 4, rsi 16, threshold 65, ema 30\n"
     ]
    },
    {
     "name": "stderr",
     "output_type": "stream",
     "text": [
      "/tmp/ipykernel_36346/873016624.py:45: RuntimeWarning: divide by zero encountered in scalar divide\n",
      "  roi_dd_ratio = total_roi / abs(max_drawdown)\n"
     ]
    },
    {
     "name": "stdout",
     "output_type": "stream",
     "text": [
      "n 4, rsi 16, threshold 65, ema 35\n"
     ]
    },
    {
     "name": "stderr",
     "output_type": "stream",
     "text": [
      "/tmp/ipykernel_36346/873016624.py:45: RuntimeWarning: divide by zero encountered in scalar divide\n",
      "  roi_dd_ratio = total_roi / abs(max_drawdown)\n"
     ]
    },
    {
     "name": "stdout",
     "output_type": "stream",
     "text": [
      "n 4, rsi 16, threshold 70, ema 5\n"
     ]
    },
    {
     "name": "stderr",
     "output_type": "stream",
     "text": [
      "/tmp/ipykernel_36346/873016624.py:45: RuntimeWarning: divide by zero encountered in scalar divide\n",
      "  roi_dd_ratio = total_roi / abs(max_drawdown)\n"
     ]
    },
    {
     "name": "stdout",
     "output_type": "stream",
     "text": [
      "n 4, rsi 16, threshold 70, ema 10\n"
     ]
    },
    {
     "name": "stderr",
     "output_type": "stream",
     "text": [
      "/tmp/ipykernel_36346/873016624.py:45: RuntimeWarning: divide by zero encountered in scalar divide\n",
      "  roi_dd_ratio = total_roi / abs(max_drawdown)\n"
     ]
    },
    {
     "name": "stdout",
     "output_type": "stream",
     "text": [
      "n 4, rsi 16, threshold 70, ema 15\n"
     ]
    },
    {
     "name": "stderr",
     "output_type": "stream",
     "text": [
      "/tmp/ipykernel_36346/873016624.py:45: RuntimeWarning: divide by zero encountered in scalar divide\n",
      "  roi_dd_ratio = total_roi / abs(max_drawdown)\n"
     ]
    },
    {
     "name": "stdout",
     "output_type": "stream",
     "text": [
      "n 4, rsi 16, threshold 70, ema 20\n"
     ]
    },
    {
     "name": "stderr",
     "output_type": "stream",
     "text": [
      "/tmp/ipykernel_36346/873016624.py:45: RuntimeWarning: divide by zero encountered in scalar divide\n",
      "  roi_dd_ratio = total_roi / abs(max_drawdown)\n"
     ]
    },
    {
     "name": "stdout",
     "output_type": "stream",
     "text": [
      "n 4, rsi 16, threshold 70, ema 25\n"
     ]
    },
    {
     "name": "stderr",
     "output_type": "stream",
     "text": [
      "/tmp/ipykernel_36346/873016624.py:45: RuntimeWarning: divide by zero encountered in scalar divide\n",
      "  roi_dd_ratio = total_roi / abs(max_drawdown)\n"
     ]
    },
    {
     "name": "stdout",
     "output_type": "stream",
     "text": [
      "n 4, rsi 16, threshold 70, ema 30\n"
     ]
    },
    {
     "name": "stderr",
     "output_type": "stream",
     "text": [
      "/tmp/ipykernel_36346/873016624.py:45: RuntimeWarning: divide by zero encountered in scalar divide\n",
      "  roi_dd_ratio = total_roi / abs(max_drawdown)\n"
     ]
    },
    {
     "name": "stdout",
     "output_type": "stream",
     "text": [
      "n 4, rsi 16, threshold 70, ema 35\n"
     ]
    },
    {
     "name": "stderr",
     "output_type": "stream",
     "text": [
      "/tmp/ipykernel_36346/873016624.py:45: RuntimeWarning: divide by zero encountered in scalar divide\n",
      "  roi_dd_ratio = total_roi / abs(max_drawdown)\n"
     ]
    },
    {
     "name": "stdout",
     "output_type": "stream",
     "text": [
      "n 4, rsi 16, threshold 75, ema 5\n",
      "n 4, rsi 16, threshold 75, ema 10\n",
      "n 4, rsi 16, threshold 75, ema 15\n",
      "n 4, rsi 16, threshold 75, ema 20\n",
      "n 4, rsi 16, threshold 75, ema 25\n",
      "n 4, rsi 16, threshold 75, ema 30\n",
      "n 4, rsi 16, threshold 75, ema 35\n",
      "n 4, rsi 16, threshold 80, ema 5\n",
      "n 4, rsi 16, threshold 80, ema 10\n",
      "n 4, rsi 16, threshold 80, ema 15\n",
      "n 4, rsi 16, threshold 80, ema 20\n",
      "n 4, rsi 16, threshold 80, ema 25\n",
      "n 4, rsi 16, threshold 80, ema 30\n",
      "n 4, rsi 16, threshold 80, ema 35\n"
     ]
    }
   ],
   "source": [
    "stats_dictionary = {}\n",
    "rsi_lengths = [14, 9, 21, 6, 12, 16]\n",
    "for i in range(2, 5):\n",
    "    for j in rsi_lengths:\n",
    "        for k in range(30, 81, 5):\n",
    "            for l in range(5, 36, 5):\n",
    "                variation = f'n {i}, rsi {j}, threshold {k}, ema {l}'\n",
    "                print(variation)\n",
    "                tb = backtest_short(bnf_1min, i, j, k, l)\n",
    "                if len(tb) > 0:\n",
    "                    stats = generate_stats(tb, variation)\n",
    "                    for x, y in stats.items():\n",
    "                        if x > 8:\n",
    "                            final_stats = y\n",
    "                            print(final_stats.to_string())\n",
    "                            stats_dictionary[x] = y\n"
   ]
  },
  {
   "cell_type": "code",
   "execution_count": 18,
   "id": "9dd8e149-c3cc-4670-ae46-2114bf9214ab",
   "metadata": {
    "execution": {
     "iopub.execute_input": "2024-12-29T14:18:40.980810Z",
     "iopub.status.busy": "2024-12-29T14:18:40.980237Z",
     "iopub.status.idle": "2024-12-29T14:18:40.986857Z",
     "shell.execute_reply": "2024-12-29T14:18:40.985993Z",
     "shell.execute_reply.started": "2024-12-29T14:18:40.980788Z"
    }
   },
   "outputs": [
    {
     "data": {
      "text/plain": [
       "{}"
      ]
     },
     "execution_count": 18,
     "metadata": {},
     "output_type": "execute_result"
    }
   ],
   "source": [
    "stats_dictionary"
   ]
  },
  {
   "cell_type": "code",
   "execution_count": null,
   "id": "a1e8cb34-469b-42d0-bce1-332dba16a9d4",
   "metadata": {},
   "outputs": [],
   "source": []
  }
 ],
 "metadata": {
  "kernelspec": {
   "display_name": "Python 3 (ipykernel)",
   "language": "python",
   "name": "python3"
  },
  "language_info": {
   "codemirror_mode": {
    "name": "ipython",
    "version": 3
   },
   "file_extension": ".py",
   "mimetype": "text/x-python",
   "name": "python",
   "nbconvert_exporter": "python",
   "pygments_lexer": "ipython3",
   "version": "3.11.6"
  }
 },
 "nbformat": 4,
 "nbformat_minor": 5
}
