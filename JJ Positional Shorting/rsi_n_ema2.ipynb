{
 "cells": [
  {
   "cell_type": "code",
   "execution_count": 1,
   "id": "9d2b7737-29c0-4e9c-81be-22f308a58551",
   "metadata": {
    "execution": {
     "iopub.execute_input": "2024-12-29T14:06:17.526945Z",
     "iopub.status.busy": "2024-12-29T14:06:17.526511Z",
     "iopub.status.idle": "2024-12-29T14:06:18.997227Z",
     "shell.execute_reply": "2024-12-29T14:06:18.996161Z",
     "shell.execute_reply.started": "2024-12-29T14:06:17.526920Z"
    }
   },
   "outputs": [],
   "source": [
    "import asyncio\n",
    "import datetime as dt\n",
    "import math\n",
    "from typing import Literal\n",
    "\n",
    "import matplotlib.pyplot as plt\n",
    "import mplfinance as mpf\n",
    "import numpy as np\n",
    "import pandas as pd\n",
    "import pandas_market_calendars as mcal\n",
    "import plotly.graph_objects as go\n",
    "import polars as pl\n",
    "from dash import Dash, dcc, html\n",
    "from plotly.subplots import make_subplots\n",
    "\n",
    "nse = mcal.get_calendar(\"NSE\")"
   ]
  },
  {
   "cell_type": "code",
   "execution_count": 2,
   "id": "122c4272-78d2-402b-8130-c4551b666fd9",
   "metadata": {
    "execution": {
     "iopub.execute_input": "2024-12-29T14:06:19.000174Z",
     "iopub.status.busy": "2024-12-29T14:06:18.999141Z",
     "iopub.status.idle": "2024-12-29T14:06:19.005167Z",
     "shell.execute_reply": "2024-12-29T14:06:19.004075Z",
     "shell.execute_reply.started": "2024-12-29T14:06:19.000147Z"
    }
   },
   "outputs": [],
   "source": [
    "pd.set_option(\"display.max_rows\", 25_000)\n",
    "pd.set_option(\"display.max_columns\", 500)\n",
    "pl.Config.set_tbl_cols(500)\n",
    "pl.Config.set_tbl_rows(10_000)\n",
    "\n",
    "pd.options.display.float_format = \"{:.4f}\".format"
   ]
  },
  {
   "cell_type": "code",
   "execution_count": 3,
   "id": "51a40e28-776d-4d4f-943c-360eaa4a03a4",
   "metadata": {
    "execution": {
     "iopub.execute_input": "2024-12-29T14:06:19.007017Z",
     "iopub.status.busy": "2024-12-29T14:06:19.006516Z",
     "iopub.status.idle": "2024-12-29T14:06:19.298213Z",
     "shell.execute_reply": "2024-12-29T14:06:19.296945Z",
     "shell.execute_reply.started": "2024-12-29T14:06:19.007001Z"
    }
   },
   "outputs": [],
   "source": [
    "import sys\n",
    "\n",
    "sys.path.append(\"..\")\n",
    "from tooling.enums import AssetClass, Index, Spot, StrikeSpread\n",
    "from tooling.fetch import fetch_option_data, fetch_spot_data\n",
    "from tooling.filter import find_atm, option_tool"
   ]
  },
  {
   "cell_type": "code",
   "execution_count": 4,
   "id": "3214a842-62b8-4f5b-9d0a-867108139d2b",
   "metadata": {
    "execution": {
     "iopub.execute_input": "2024-12-29T14:06:19.300915Z",
     "iopub.status.busy": "2024-12-29T14:06:19.299825Z",
     "iopub.status.idle": "2024-12-29T14:06:19.316091Z",
     "shell.execute_reply": "2024-12-29T14:06:19.315242Z",
     "shell.execute_reply.started": "2024-12-29T14:06:19.300895Z"
    }
   },
   "outputs": [],
   "source": [
    "async def get_expiry(f_today, index):\n",
    "\n",
    "    if index == 'bnf':    \n",
    "        if (f_today <= dt.date(2024, 1, 25)) and (f_today >= dt.date(2024, 1, 18)):\n",
    "            f_expiry = dt.date(2024, 1, 25)\n",
    "        elif (f_today <= dt.date(2024, 1, 31)) and (f_today >= dt.date(2024, 1, 26)):\n",
    "            f_expiry = dt.date(2024, 1, 31)\n",
    "        elif (f_today <= dt.date(2024, 2, 22)) and (f_today >= dt.date(2024, 2, 29)):\n",
    "            f_expiry = dt.date(2024, 2, 29)\n",
    "        elif (f_today <= dt.date(2024, 3, 25)) and (f_today >= dt.date(2024, 3, 27)):\n",
    "            f_expiry = dt.date(2024, 2, 27)\n",
    "        elif f_today < dt.date(2023, 9, 1):\n",
    "            days_to_thursday = (3 - f_today.weekday()) % 7\n",
    "            nearest_thursday = f_today + dt.timedelta(days=days_to_thursday)\n",
    "            f_expiry = nearest_thursday\n",
    "            if nse.valid_days(start_date=nearest_thursday, end_date=nearest_thursday).empty:\n",
    "                f_expiry = nearest_thursday - dt.timedelta(days=1)\n",
    "        elif f_today >= dt.date(2023, 9, 1):\n",
    "            if f_today.day < 24:\n",
    "                days_to_wednesday = (2 - f_today.weekday()) % 7\n",
    "                nearest_wednesday = f_today + dt.timedelta(days=days_to_wednesday)\n",
    "                f_expiry = nearest_wednesday\n",
    "                if nse.valid_days(\n",
    "                    start_date=nearest_wednesday, end_date=nearest_wednesday\n",
    "                ).empty:\n",
    "                    f_expiry = nearest_wednesday - dt.timedelta(days=1)\n",
    "            else:\n",
    "                days_to_thursday = (3 - f_today.weekday()) % 7\n",
    "                nearest_thursday = f_today + dt.timedelta(days=days_to_thursday)\n",
    "                f_expiry = nearest_thursday\n",
    "                if nse.valid_days(\n",
    "                    start_date=nearest_thursday, end_date=nearest_thursday\n",
    "                ).empty:\n",
    "                    f_expiry = nearest_thursday - dt.timedelta(days=1)\n",
    "        return f_expiry\n",
    "\n",
    "    elif index == 'nifty':\n",
    "        days_to_thursday = (3 - f_today.weekday()) % 7\n",
    "        nearest_thursday = f_today + dt.timedelta(days=days_to_thursday)\n",
    "        f_expiry = nearest_thursday\n",
    "        if nse.valid_days(start_date=nearest_thursday, end_date=nearest_thursday).empty:\n",
    "            f_expiry = nearest_thursday - dt.timedelta(days=1)\n",
    "        return f_expiry\n",
    "\n",
    "    elif index == 'finnifty' or index == 'fnf':\n",
    "        days_to_thursday = (1 - f_today.weekday()) % 7\n",
    "        nearest_thursday = f_today + dt.timedelta(days=days_to_thursday)\n",
    "        f_expiry = nearest_thursday\n",
    "        if nse.valid_days(start_date=nearest_thursday, end_date=nearest_thursday).empty:\n",
    "            f_expiry = nearest_thursday - dt.timedelta(days=1)\n",
    "        return f_expiry\n",
    "\n",
    "    elif index == 'midcpnifty' or index == 'midcp':\n",
    "        days_to_thursday = (0 - f_today.weekday()) % 7\n",
    "        nearest_thursday = f_today + dt.timedelta(days=days_to_thursday)\n",
    "        f_expiry = nearest_thursday\n",
    "        if nse.valid_days(start_date=nearest_thursday, end_date=nearest_thursday).empty:\n",
    "            f_expiry = nearest_thursday - dt.timedelta(days=1)\n",
    "        return f_expiry\n",
    "\n",
    "async def get_expiry_nifty(f_today):\n",
    "\n",
    "    days_to_thursday = (3 - f_today.weekday()) % 7\n",
    "    nearest_thursday = f_today + dt.timedelta(days=days_to_thursday)\n",
    "    f_expiry = nearest_thursday\n",
    "    if nse.valid_days(start_date=nearest_thursday, end_date=nearest_thursday).empty:\n",
    "        f_expiry = nearest_thursday - dt.timedelta(days=1)\n",
    "    return f_expiry\n",
    "\n",
    "\n",
    "async def get_option_contract_name(symbol, strike, expiry, opt_type):\n",
    "    temp = \"0\"\n",
    "    mth = expiry.month\n",
    "\n",
    "    if (expiry + dt.timedelta(days=7)).month != expiry.month:\n",
    "        date_string = expiry.strftime(\"%y%b\").upper()\n",
    "        return f\"{symbol}{date_string}{strike}{opt_type}\"\n",
    "    else:\n",
    "        if expiry.day <= 9:\n",
    "            date_string = f\"{expiry.year - 2000}{mth}{temp}{expiry.day}\"\n",
    "        else:\n",
    "            date_string = f\"{expiry.year - 2000}{mth}{expiry.day}\"\n",
    "        return f\"{symbol}{date_string}{strike}{opt_type}\"\n",
    "\n",
    "\n",
    "def get_option_contract_name2(symbol, strike, expiry, opt_type):\n",
    "    temp = \"0\"\n",
    "    mth = expiry.month\n",
    "\n",
    "    if (expiry + dt.timedelta(days=7)).month != expiry.month:\n",
    "        date_string = expiry.strftime(\"%y%b\").upper()\n",
    "        return f\"{symbol}{date_string}{strike}{opt_type}\"\n",
    "    else:\n",
    "        if expiry.day <= 9:\n",
    "            date_string = f\"{expiry.year - 2000}{mth}{temp}{expiry.day}\"\n",
    "        else:\n",
    "            date_string = f\"{expiry.year - 2000}{mth}{expiry.day}\"\n",
    "        return f\"{symbol}{date_string}{strike}{opt_type}\""
   ]
  },
  {
   "cell_type": "code",
   "execution_count": 5,
   "id": "2e857451-f1ad-41b1-af19-a411065430d2",
   "metadata": {
    "execution": {
     "iopub.execute_input": "2024-12-29T14:06:36.127133Z",
     "iopub.status.busy": "2024-12-29T14:06:36.126664Z",
     "iopub.status.idle": "2024-12-29T14:06:36.268740Z",
     "shell.execute_reply": "2024-12-29T14:06:36.267720Z",
     "shell.execute_reply.started": "2024-12-29T14:06:36.127111Z"
    }
   },
   "outputs": [],
   "source": [
    "bnf_1min = pd.read_csv(\"../data/nifty_30min_tv.csv\")\n",
    "bnf_1min[\"datetime\"] = pd.to_datetime(bnf_1min[\"time\"])\n",
    "bnf_1min = bnf_1min[bnf_1min[\"datetime\"].dt.year >= 2017]"
   ]
  },
  {
   "cell_type": "code",
   "execution_count": 6,
   "id": "48a36159-0175-4478-9873-2b497f0d1b64",
   "metadata": {
    "execution": {
     "iopub.execute_input": "2024-12-29T14:06:37.951698Z",
     "iopub.status.busy": "2024-12-29T14:06:37.951131Z",
     "iopub.status.idle": "2024-12-29T14:06:37.974811Z",
     "shell.execute_reply": "2024-12-29T14:06:37.973899Z",
     "shell.execute_reply.started": "2024-12-29T14:06:37.951670Z"
    }
   },
   "outputs": [
    {
     "data": {
      "text/html": [
       "<div>\n",
       "<style scoped>\n",
       "    .dataframe tbody tr th:only-of-type {\n",
       "        vertical-align: middle;\n",
       "    }\n",
       "\n",
       "    .dataframe tbody tr th {\n",
       "        vertical-align: top;\n",
       "    }\n",
       "\n",
       "    .dataframe thead th {\n",
       "        text-align: right;\n",
       "    }\n",
       "</style>\n",
       "<table border=\"1\" class=\"dataframe\">\n",
       "  <thead>\n",
       "    <tr style=\"text-align: right;\">\n",
       "      <th></th>\n",
       "      <th>time</th>\n",
       "      <th>open</th>\n",
       "      <th>high</th>\n",
       "      <th>low</th>\n",
       "      <th>close</th>\n",
       "      <th>datetime</th>\n",
       "    </tr>\n",
       "  </thead>\n",
       "  <tbody>\n",
       "    <tr>\n",
       "      <th>22336</th>\n",
       "      <td>2024-12-18T13:15:00+05:30</td>\n",
       "      <td>24221.5000</td>\n",
       "      <td>24235.6500</td>\n",
       "      <td>24176.1000</td>\n",
       "      <td>24178.3500</td>\n",
       "      <td>2024-12-18 13:15:00+05:30</td>\n",
       "    </tr>\n",
       "    <tr>\n",
       "      <th>22337</th>\n",
       "      <td>2024-12-18T13:45:00+05:30</td>\n",
       "      <td>24179.4500</td>\n",
       "      <td>24222.4000</td>\n",
       "      <td>24168.0500</td>\n",
       "      <td>24196.6500</td>\n",
       "      <td>2024-12-18 13:45:00+05:30</td>\n",
       "    </tr>\n",
       "    <tr>\n",
       "      <th>22338</th>\n",
       "      <td>2024-12-18T14:15:00+05:30</td>\n",
       "      <td>24196.3500</td>\n",
       "      <td>24210.8000</td>\n",
       "      <td>24166.7000</td>\n",
       "      <td>24183.4500</td>\n",
       "      <td>2024-12-18 14:15:00+05:30</td>\n",
       "    </tr>\n",
       "    <tr>\n",
       "      <th>22339</th>\n",
       "      <td>2024-12-18T14:45:00+05:30</td>\n",
       "      <td>24183.5500</td>\n",
       "      <td>24204.4000</td>\n",
       "      <td>24172.1000</td>\n",
       "      <td>24189.3000</td>\n",
       "      <td>2024-12-18 14:45:00+05:30</td>\n",
       "    </tr>\n",
       "    <tr>\n",
       "      <th>22340</th>\n",
       "      <td>2024-12-18T15:15:00+05:30</td>\n",
       "      <td>24189.0000</td>\n",
       "      <td>24215.3000</td>\n",
       "      <td>24188.3500</td>\n",
       "      <td>24214.7000</td>\n",
       "      <td>2024-12-18 15:15:00+05:30</td>\n",
       "    </tr>\n",
       "  </tbody>\n",
       "</table>\n",
       "</div>"
      ],
      "text/plain": [
       "                            time       open       high        low      close  \\\n",
       "22336  2024-12-18T13:15:00+05:30 24221.5000 24235.6500 24176.1000 24178.3500   \n",
       "22337  2024-12-18T13:45:00+05:30 24179.4500 24222.4000 24168.0500 24196.6500   \n",
       "22338  2024-12-18T14:15:00+05:30 24196.3500 24210.8000 24166.7000 24183.4500   \n",
       "22339  2024-12-18T14:45:00+05:30 24183.5500 24204.4000 24172.1000 24189.3000   \n",
       "22340  2024-12-18T15:15:00+05:30 24189.0000 24215.3000 24188.3500 24214.7000   \n",
       "\n",
       "                       datetime  \n",
       "22336 2024-12-18 13:15:00+05:30  \n",
       "22337 2024-12-18 13:45:00+05:30  \n",
       "22338 2024-12-18 14:15:00+05:30  \n",
       "22339 2024-12-18 14:45:00+05:30  \n",
       "22340 2024-12-18 15:15:00+05:30  "
      ]
     },
     "execution_count": 6,
     "metadata": {},
     "output_type": "execute_result"
    }
   ],
   "source": [
    "bnf_1min.tail()"
   ]
  },
  {
   "cell_type": "code",
   "execution_count": 7,
   "id": "4ef48017-caf2-4c38-8cad-888ad3695b83",
   "metadata": {
    "execution": {
     "iopub.execute_input": "2024-12-29T14:06:39.784547Z",
     "iopub.status.busy": "2024-12-29T14:06:39.784290Z",
     "iopub.status.idle": "2024-12-29T14:06:39.790372Z",
     "shell.execute_reply": "2024-12-29T14:06:39.789441Z",
     "shell.execute_reply.started": "2024-12-29T14:06:39.784531Z"
    }
   },
   "outputs": [],
   "source": [
    "def resample(\n",
    "    data: pl.DataFrame, timeframe, offset: dt.timedelta | None = None\n",
    ") -> pl.DataFrame:\n",
    "    return (\n",
    "        data.set_sorted(\"datetime\")\n",
    "        .group_by_dynamic(\n",
    "            index_column=\"datetime\",\n",
    "            every=timeframe,\n",
    "            period=timeframe,\n",
    "            label=\"left\",\n",
    "            offset=offset,\n",
    "        )\n",
    "        .agg(\n",
    "            [\n",
    "                pl.col(\"open\").first().alias(\"open\"),\n",
    "                pl.col(\"high\").max().alias(\"high\"),\n",
    "                pl.col(\"low\").min().alias(\"low\"),\n",
    "                pl.col(\"close\").last().alias(\"close\"),\n",
    "                pl.col(\"volume\").sum().alias(\"volume\"),\n",
    "            ]\n",
    "        )\n",
    "    )\n",
    "\n",
    "\n",
    "# ohlc_resampled = resample(pl.DataFrame(bnf_1min), '7d', pd.Timedelta(days=4))\n",
    "# ohlc_resampled"
   ]
  },
  {
   "cell_type": "code",
   "execution_count": 8,
   "id": "6251bee5-31c3-4cab-8031-dc8bb109d126",
   "metadata": {
    "execution": {
     "iopub.execute_input": "2024-12-29T14:06:40.017510Z",
     "iopub.status.busy": "2024-12-29T14:06:40.017064Z",
     "iopub.status.idle": "2024-12-29T14:06:40.044134Z",
     "shell.execute_reply": "2024-12-29T14:06:40.043293Z",
     "shell.execute_reply.started": "2024-12-29T14:06:40.017492Z"
    },
    "scrolled": true
   },
   "outputs": [
    {
     "data": {
      "text/plain": [
       "{datetime.date(2021, 3, 18),\n",
       " datetime.date(2020, 3, 6),\n",
       " datetime.date(2021, 10, 28),\n",
       " datetime.date(2020, 3, 26),\n",
       " datetime.date(2021, 12, 7),\n",
       " datetime.date(2023, 8, 24),\n",
       " datetime.date(2024, 7, 1),\n",
       " datetime.date(2024, 11, 25),\n",
       " datetime.date(2018, 8, 10),\n",
       " datetime.date(2024, 11, 28),\n",
       " datetime.date(2020, 9, 9),\n",
       " datetime.date(2024, 7, 8),\n",
       " datetime.date(2018, 9, 21),\n",
       " datetime.date(2022, 12, 12),\n",
       " datetime.date(2018, 5, 24),\n",
       " datetime.date(2024, 8, 6),\n",
       " datetime.date(2018, 5, 23),\n",
       " datetime.date(2022, 6, 13),\n",
       " datetime.date(2018, 7, 11),\n",
       " datetime.date(2022, 4, 6),\n",
       " datetime.date(2020, 9, 21),\n",
       " datetime.date(2021, 4, 13),\n",
       " datetime.date(2020, 1, 24),\n",
       " datetime.date(2022, 4, 25),\n",
       " datetime.date(2022, 6, 22),\n",
       " datetime.date(2022, 8, 1),\n",
       " datetime.date(2024, 10, 9),\n",
       " datetime.date(2020, 3, 23),\n",
       " datetime.date(2019, 3, 13),\n",
       " datetime.date(2022, 7, 4),\n",
       " datetime.date(2018, 2, 2),\n",
       " datetime.date(2023, 6, 21),\n",
       " datetime.date(2018, 3, 15),\n",
       " datetime.date(2019, 10, 17),\n",
       " datetime.date(2021, 1, 1),\n",
       " datetime.date(2023, 1, 17),\n",
       " datetime.date(2023, 2, 3),\n",
       " datetime.date(2023, 10, 30),\n",
       " datetime.date(2024, 10, 30),\n",
       " datetime.date(2019, 5, 6),\n",
       " datetime.date(2020, 9, 16),\n",
       " datetime.date(2023, 5, 15),\n",
       " datetime.date(2023, 11, 7),\n",
       " datetime.date(2024, 9, 18),\n",
       " datetime.date(2018, 2, 5),\n",
       " datetime.date(2020, 8, 13),\n",
       " datetime.date(2023, 7, 11),\n",
       " datetime.date(2024, 3, 4),\n",
       " datetime.date(2018, 6, 7),\n",
       " datetime.date(2018, 1, 25),\n",
       " datetime.date(2020, 12, 14),\n",
       " datetime.date(2021, 12, 9),\n",
       " datetime.date(2024, 9, 24),\n",
       " datetime.date(2021, 8, 25),\n",
       " datetime.date(2020, 7, 6),\n",
       " datetime.date(2019, 3, 19),\n",
       " datetime.date(2021, 1, 15),\n",
       " datetime.date(2021, 9, 29),\n",
       " datetime.date(2020, 10, 7),\n",
       " datetime.date(2021, 7, 23),\n",
       " datetime.date(2023, 2, 24),\n",
       " datetime.date(2019, 8, 26),\n",
       " datetime.date(2023, 4, 3),\n",
       " datetime.date(2021, 5, 21),\n",
       " datetime.date(2020, 2, 26),\n",
       " datetime.date(2023, 3, 22),\n",
       " datetime.date(2020, 4, 7),\n",
       " datetime.date(2021, 11, 29),\n",
       " datetime.date(2018, 6, 20),\n",
       " datetime.date(2022, 8, 30),\n",
       " datetime.date(2024, 1, 12),\n",
       " datetime.date(2019, 9, 23),\n",
       " datetime.date(2022, 6, 10),\n",
       " datetime.date(2020, 1, 2),\n",
       " datetime.date(2019, 6, 6),\n",
       " datetime.date(2022, 2, 10),\n",
       " datetime.date(2022, 6, 24),\n",
       " datetime.date(2022, 12, 30),\n",
       " datetime.date(2021, 8, 3),\n",
       " datetime.date(2023, 7, 7),\n",
       " datetime.date(2019, 2, 13),\n",
       " datetime.date(2018, 4, 11),\n",
       " datetime.date(2019, 11, 13),\n",
       " datetime.date(2020, 3, 13),\n",
       " datetime.date(2022, 1, 18),\n",
       " datetime.date(2022, 9, 21),\n",
       " datetime.date(2024, 4, 25),\n",
       " datetime.date(2024, 3, 5),\n",
       " datetime.date(2018, 11, 14),\n",
       " datetime.date(2021, 1, 7),\n",
       " datetime.date(2020, 11, 14),\n",
       " datetime.date(2024, 12, 2),\n",
       " datetime.date(2018, 10, 23),\n",
       " datetime.date(2024, 12, 13),\n",
       " datetime.date(2019, 5, 2),\n",
       " datetime.date(2019, 10, 22),\n",
       " datetime.date(2018, 9, 27),\n",
       " datetime.date(2021, 11, 24),\n",
       " datetime.date(2020, 12, 4),\n",
       " datetime.date(2021, 11, 16),\n",
       " datetime.date(2022, 10, 13),\n",
       " datetime.date(2021, 10, 21),\n",
       " datetime.date(2023, 1, 4),\n",
       " datetime.date(2023, 2, 17),\n",
       " datetime.date(2022, 4, 19),\n",
       " datetime.date(2022, 10, 20),\n",
       " datetime.date(2018, 10, 16),\n",
       " datetime.date(2019, 10, 11),\n",
       " datetime.date(2018, 12, 6),\n",
       " datetime.date(2023, 7, 25),\n",
       " datetime.date(2022, 5, 10),\n",
       " datetime.date(2022, 7, 18),\n",
       " datetime.date(2024, 7, 19),\n",
       " datetime.date(2024, 1, 20),\n",
       " datetime.date(2020, 3, 19),\n",
       " datetime.date(2020, 12, 28),\n",
       " datetime.date(2023, 6, 22),\n",
       " datetime.date(2018, 9, 25),\n",
       " datetime.date(2022, 1, 28),\n",
       " datetime.date(2021, 2, 12),\n",
       " datetime.date(2024, 7, 15),\n",
       " datetime.date(2022, 4, 29),\n",
       " datetime.date(2018, 11, 13),\n",
       " datetime.date(2023, 9, 1),\n",
       " datetime.date(2023, 5, 25),\n",
       " datetime.date(2019, 4, 10),\n",
       " datetime.date(2023, 12, 13),\n",
       " datetime.date(2021, 12, 10),\n",
       " datetime.date(2020, 12, 30),\n",
       " datetime.date(2020, 5, 29),\n",
       " datetime.date(2023, 9, 26),\n",
       " datetime.date(2018, 7, 9),\n",
       " datetime.date(2024, 6, 7),\n",
       " datetime.date(2023, 8, 3),\n",
       " datetime.date(2023, 6, 20),\n",
       " datetime.date(2024, 11, 11),\n",
       " datetime.date(2020, 7, 17),\n",
       " datetime.date(2020, 10, 20),\n",
       " datetime.date(2021, 9, 21),\n",
       " datetime.date(2018, 4, 9),\n",
       " datetime.date(2018, 10, 29),\n",
       " datetime.date(2022, 7, 5),\n",
       " datetime.date(2018, 5, 30),\n",
       " datetime.date(2022, 6, 23),\n",
       " datetime.date(2021, 2, 9),\n",
       " datetime.date(2019, 9, 25),\n",
       " datetime.date(2022, 9, 28),\n",
       " datetime.date(2020, 10, 5),\n",
       " datetime.date(2018, 6, 5),\n",
       " datetime.date(2019, 6, 21),\n",
       " datetime.date(2021, 6, 4),\n",
       " datetime.date(2020, 1, 8),\n",
       " datetime.date(2022, 3, 11),\n",
       " datetime.date(2024, 1, 30),\n",
       " datetime.date(2020, 6, 1),\n",
       " datetime.date(2018, 12, 12),\n",
       " datetime.date(2018, 1, 9),\n",
       " datetime.date(2020, 10, 30),\n",
       " datetime.date(2018, 4, 26),\n",
       " datetime.date(2020, 8, 31),\n",
       " datetime.date(2023, 11, 24),\n",
       " datetime.date(2020, 9, 10),\n",
       " datetime.date(2022, 3, 2),\n",
       " datetime.date(2021, 5, 20),\n",
       " datetime.date(2024, 11, 18),\n",
       " datetime.date(2021, 3, 15),\n",
       " datetime.date(2018, 12, 20),\n",
       " datetime.date(2022, 10, 31),\n",
       " datetime.date(2023, 10, 11),\n",
       " datetime.date(2024, 1, 17),\n",
       " datetime.date(2022, 11, 10),\n",
       " datetime.date(2019, 10, 18),\n",
       " datetime.date(2020, 7, 7),\n",
       " datetime.date(2018, 5, 22),\n",
       " datetime.date(2022, 10, 28),\n",
       " datetime.date(2021, 9, 20),\n",
       " datetime.date(2023, 11, 10),\n",
       " datetime.date(2024, 12, 10),\n",
       " datetime.date(2023, 1, 13),\n",
       " datetime.date(2022, 5, 9),\n",
       " datetime.date(2022, 5, 20),\n",
       " datetime.date(2020, 11, 25),\n",
       " datetime.date(2021, 4, 15),\n",
       " datetime.date(2024, 5, 18),\n",
       " datetime.date(2023, 12, 6),\n",
       " datetime.date(2021, 1, 22),\n",
       " datetime.date(2024, 2, 21),\n",
       " datetime.date(2020, 6, 29),\n",
       " datetime.date(2021, 12, 28),\n",
       " datetime.date(2022, 2, 8),\n",
       " datetime.date(2018, 7, 20),\n",
       " datetime.date(2022, 2, 24),\n",
       " datetime.date(2021, 11, 18),\n",
       " datetime.date(2019, 5, 21),\n",
       " datetime.date(2022, 9, 23),\n",
       " datetime.date(2019, 7, 25),\n",
       " datetime.date(2022, 3, 15),\n",
       " datetime.date(2024, 5, 22),\n",
       " datetime.date(2024, 8, 14),\n",
       " datetime.date(2018, 3, 23),\n",
       " datetime.date(2023, 4, 11),\n",
       " datetime.date(2024, 3, 27),\n",
       " datetime.date(2024, 4, 9),\n",
       " datetime.date(2021, 5, 4),\n",
       " datetime.date(2021, 6, 29),\n",
       " datetime.date(2020, 6, 23),\n",
       " datetime.date(2022, 1, 11),\n",
       " datetime.date(2019, 3, 6),\n",
       " datetime.date(2019, 10, 4),\n",
       " datetime.date(2018, 11, 26),\n",
       " datetime.date(2024, 10, 16),\n",
       " datetime.date(2018, 10, 31),\n",
       " datetime.date(2020, 12, 2),\n",
       " datetime.date(2023, 3, 31),\n",
       " datetime.date(2018, 7, 19),\n",
       " datetime.date(2023, 11, 15),\n",
       " datetime.date(2020, 5, 5),\n",
       " datetime.date(2023, 7, 13),\n",
       " datetime.date(2022, 8, 19),\n",
       " datetime.date(2024, 10, 22),\n",
       " datetime.date(2024, 4, 19),\n",
       " datetime.date(2022, 3, 4),\n",
       " datetime.date(2019, 9, 4),\n",
       " datetime.date(2018, 1, 31),\n",
       " datetime.date(2022, 11, 2),\n",
       " datetime.date(2024, 5, 23),\n",
       " datetime.date(2021, 7, 1),\n",
       " datetime.date(2023, 9, 22),\n",
       " datetime.date(2023, 9, 14),\n",
       " datetime.date(2020, 2, 17),\n",
       " datetime.date(2018, 2, 15),\n",
       " datetime.date(2019, 3, 20),\n",
       " datetime.date(2023, 3, 21),\n",
       " datetime.date(2023, 5, 31),\n",
       " datetime.date(2024, 8, 13),\n",
       " datetime.date(2018, 5, 18),\n",
       " datetime.date(2019, 5, 31),\n",
       " datetime.date(2021, 7, 14),\n",
       " datetime.date(2019, 6, 10),\n",
       " datetime.date(2018, 5, 15),\n",
       " datetime.date(2018, 6, 13),\n",
       " datetime.date(2024, 5, 17),\n",
       " datetime.date(2023, 2, 10),\n",
       " datetime.date(2023, 11, 23),\n",
       " datetime.date(2024, 4, 15),\n",
       " datetime.date(2018, 6, 12),\n",
       " datetime.date(2024, 4, 3),\n",
       " datetime.date(2021, 9, 1),\n",
       " datetime.date(2023, 5, 22),\n",
       " datetime.date(2021, 2, 1),\n",
       " datetime.date(2022, 4, 18),\n",
       " datetime.date(2022, 1, 13),\n",
       " datetime.date(2021, 7, 22),\n",
       " datetime.date(2018, 5, 3),\n",
       " datetime.date(2021, 5, 6),\n",
       " datetime.date(2022, 8, 17),\n",
       " datetime.date(2024, 9, 23),\n",
       " datetime.date(2018, 5, 2),\n",
       " datetime.date(2020, 9, 23),\n",
       " datetime.date(2023, 10, 20),\n",
       " datetime.date(2019, 3, 11),\n",
       " datetime.date(2022, 3, 3),\n",
       " datetime.date(2024, 6, 28),\n",
       " datetime.date(2022, 2, 28),\n",
       " datetime.date(2020, 7, 10),\n",
       " datetime.date(2018, 7, 23),\n",
       " datetime.date(2021, 1, 21),\n",
       " datetime.date(2022, 8, 26),\n",
       " datetime.date(2020, 5, 7),\n",
       " datetime.date(2018, 1, 22),\n",
       " datetime.date(2021, 6, 30),\n",
       " datetime.date(2020, 10, 16),\n",
       " datetime.date(2022, 11, 24),\n",
       " datetime.date(2022, 10, 11),\n",
       " datetime.date(2019, 8, 21),\n",
       " datetime.date(2020, 10, 12),\n",
       " datetime.date(2023, 5, 24),\n",
       " datetime.date(2023, 12, 20),\n",
       " datetime.date(2020, 6, 4),\n",
       " datetime.date(2023, 11, 2),\n",
       " datetime.date(2022, 1, 14),\n",
       " datetime.date(2020, 9, 24),\n",
       " datetime.date(2024, 11, 13),\n",
       " datetime.date(2021, 8, 12),\n",
       " datetime.date(2020, 3, 2),\n",
       " datetime.date(2022, 1, 20),\n",
       " datetime.date(2019, 11, 22),\n",
       " datetime.date(2020, 8, 14),\n",
       " datetime.date(2022, 8, 24),\n",
       " datetime.date(2024, 7, 23),\n",
       " datetime.date(2020, 4, 13),\n",
       " datetime.date(2020, 4, 3),\n",
       " datetime.date(2021, 11, 3),\n",
       " datetime.date(2020, 3, 25),\n",
       " datetime.date(2022, 4, 12),\n",
       " datetime.date(2023, 8, 17),\n",
       " datetime.date(2019, 3, 22),\n",
       " datetime.date(2020, 7, 15),\n",
       " datetime.date(2022, 4, 13),\n",
       " datetime.date(2018, 5, 21),\n",
       " datetime.date(2023, 1, 23),\n",
       " datetime.date(2024, 1, 5),\n",
       " datetime.date(2022, 6, 9),\n",
       " datetime.date(2022, 11, 30),\n",
       " datetime.date(2018, 11, 22),\n",
       " datetime.date(2021, 4, 29),\n",
       " datetime.date(2019, 9, 3),\n",
       " datetime.date(2020, 12, 1),\n",
       " datetime.date(2024, 12, 16),\n",
       " datetime.date(2022, 12, 20),\n",
       " datetime.date(2019, 8, 30),\n",
       " datetime.date(2021, 4, 9),\n",
       " datetime.date(2019, 5, 28),\n",
       " datetime.date(2020, 6, 30),\n",
       " datetime.date(2024, 6, 20),\n",
       " datetime.date(2019, 5, 23),\n",
       " datetime.date(2019, 8, 6),\n",
       " datetime.date(2022, 11, 21),\n",
       " datetime.date(2023, 4, 21),\n",
       " datetime.date(2023, 6, 14),\n",
       " datetime.date(2022, 7, 13),\n",
       " datetime.date(2020, 7, 3),\n",
       " datetime.date(2024, 5, 6),\n",
       " datetime.date(2019, 12, 4),\n",
       " datetime.date(2020, 11, 6),\n",
       " datetime.date(2018, 2, 26),\n",
       " datetime.date(2018, 12, 24),\n",
       " datetime.date(2021, 6, 10),\n",
       " datetime.date(2022, 8, 16),\n",
       " datetime.date(2024, 12, 6),\n",
       " datetime.date(2019, 10, 14),\n",
       " datetime.date(2024, 8, 20),\n",
       " datetime.date(2023, 2, 2),\n",
       " datetime.date(2023, 6, 13),\n",
       " datetime.date(2024, 6, 14),\n",
       " datetime.date(2023, 9, 5),\n",
       " datetime.date(2018, 12, 14),\n",
       " datetime.date(2024, 3, 14),\n",
       " datetime.date(2022, 12, 28),\n",
       " datetime.date(2023, 8, 22),\n",
       " datetime.date(2019, 8, 7),\n",
       " datetime.date(2024, 4, 2),\n",
       " datetime.date(2019, 2, 15),\n",
       " datetime.date(2023, 8, 11),\n",
       " datetime.date(2023, 6, 8),\n",
       " datetime.date(2018, 9, 7),\n",
       " datetime.date(2021, 7, 7),\n",
       " datetime.date(2022, 5, 18),\n",
       " datetime.date(2019, 2, 1),\n",
       " datetime.date(2024, 5, 14),\n",
       " datetime.date(2018, 6, 22),\n",
       " datetime.date(2018, 7, 12),\n",
       " datetime.date(2023, 7, 6),\n",
       " datetime.date(2018, 9, 4),\n",
       " datetime.date(2019, 2, 28),\n",
       " datetime.date(2023, 5, 12),\n",
       " datetime.date(2019, 12, 17),\n",
       " datetime.date(2023, 11, 8),\n",
       " datetime.date(2018, 1, 2),\n",
       " datetime.date(2021, 9, 15),\n",
       " datetime.date(2023, 7, 10),\n",
       " datetime.date(2020, 5, 8),\n",
       " datetime.date(2021, 7, 28),\n",
       " datetime.date(2023, 2, 16),\n",
       " datetime.date(2018, 9, 14),\n",
       " datetime.date(2018, 6, 14),\n",
       " datetime.date(2023, 9, 21),\n",
       " datetime.date(2023, 6, 1),\n",
       " datetime.date(2022, 9, 27),\n",
       " datetime.date(2022, 4, 26),\n",
       " datetime.date(2023, 5, 16),\n",
       " datetime.date(2018, 5, 31),\n",
       " datetime.date(2019, 3, 1),\n",
       " datetime.date(2024, 6, 10),\n",
       " datetime.date(2020, 1, 10),\n",
       " datetime.date(2020, 3, 12),\n",
       " datetime.date(2020, 11, 13),\n",
       " datetime.date(2020, 9, 29),\n",
       " datetime.date(2024, 6, 21),\n",
       " datetime.date(2019, 3, 8),\n",
       " datetime.date(2023, 12, 7),\n",
       " datetime.date(2024, 5, 24),\n",
       " datetime.date(2023, 11, 3),\n",
       " datetime.date(2024, 5, 15),\n",
       " datetime.date(2021, 2, 8),\n",
       " datetime.date(2023, 3, 27),\n",
       " datetime.date(2021, 9, 7),\n",
       " datetime.date(2020, 10, 23),\n",
       " datetime.date(2020, 6, 5),\n",
       " datetime.date(2020, 7, 1),\n",
       " datetime.date(2024, 4, 8),\n",
       " datetime.date(2019, 4, 18),\n",
       " datetime.date(2024, 10, 25),\n",
       " datetime.date(2019, 4, 9),\n",
       " datetime.date(2024, 6, 5),\n",
       " datetime.date(2019, 8, 28),\n",
       " datetime.date(2018, 4, 6),\n",
       " datetime.date(2019, 1, 22),\n",
       " datetime.date(2018, 8, 24),\n",
       " datetime.date(2018, 8, 17),\n",
       " datetime.date(2023, 11, 16),\n",
       " datetime.date(2024, 8, 29),\n",
       " datetime.date(2023, 7, 21),\n",
       " datetime.date(2022, 2, 3),\n",
       " datetime.date(2023, 11, 30),\n",
       " datetime.date(2021, 2, 4),\n",
       " datetime.date(2020, 7, 21),\n",
       " datetime.date(2019, 5, 3),\n",
       " datetime.date(2021, 2, 3),\n",
       " datetime.date(2022, 5, 2),\n",
       " datetime.date(2022, 12, 16),\n",
       " datetime.date(2024, 4, 16),\n",
       " datetime.date(2021, 10, 11),\n",
       " datetime.date(2024, 4, 1),\n",
       " datetime.date(2024, 12, 18),\n",
       " datetime.date(2019, 10, 16),\n",
       " datetime.date(2023, 11, 29),\n",
       " datetime.date(2024, 7, 11),\n",
       " datetime.date(2024, 12, 5),\n",
       " datetime.date(2018, 3, 21),\n",
       " datetime.date(2019, 7, 11),\n",
       " datetime.date(2018, 11, 2),\n",
       " datetime.date(2022, 12, 15),\n",
       " datetime.date(2024, 9, 17),\n",
       " datetime.date(2019, 4, 2),\n",
       " datetime.date(2019, 5, 13),\n",
       " datetime.date(2023, 9, 13),\n",
       " datetime.date(2023, 1, 10),\n",
       " datetime.date(2024, 12, 4),\n",
       " datetime.date(2024, 8, 9),\n",
       " datetime.date(2024, 5, 30),\n",
       " datetime.date(2019, 2, 18),\n",
       " datetime.date(2020, 3, 24),\n",
       " datetime.date(2023, 3, 23),\n",
       " datetime.date(2023, 10, 26),\n",
       " datetime.date(2018, 4, 10),\n",
       " datetime.date(2019, 10, 9),\n",
       " datetime.date(2018, 10, 5),\n",
       " datetime.date(2018, 2, 6),\n",
       " datetime.date(2022, 6, 29),\n",
       " datetime.date(2023, 8, 2),\n",
       " datetime.date(2019, 7, 17),\n",
       " datetime.date(2024, 11, 26),\n",
       " datetime.date(2021, 6, 21),\n",
       " datetime.date(2022, 8, 10),\n",
       " datetime.date(2024, 2, 29),\n",
       " datetime.date(2023, 12, 5),\n",
       " datetime.date(2020, 12, 10),\n",
       " datetime.date(2021, 2, 26),\n",
       " datetime.date(2024, 8, 5),\n",
       " datetime.date(2024, 6, 3),\n",
       " datetime.date(2023, 11, 17),\n",
       " datetime.date(2018, 6, 15),\n",
       " datetime.date(2023, 1, 12),\n",
       " datetime.date(2019, 5, 29),\n",
       " datetime.date(2022, 2, 15),\n",
       " datetime.date(2018, 3, 27),\n",
       " datetime.date(2022, 3, 17),\n",
       " datetime.date(2018, 11, 30),\n",
       " datetime.date(2023, 3, 24),\n",
       " datetime.date(2020, 1, 21),\n",
       " datetime.date(2019, 11, 25),\n",
       " datetime.date(2023, 4, 20),\n",
       " datetime.date(2021, 10, 7),\n",
       " datetime.date(2024, 4, 10),\n",
       " datetime.date(2020, 8, 24),\n",
       " datetime.date(2018, 4, 19),\n",
       " datetime.date(2020, 11, 3),\n",
       " datetime.date(2020, 3, 4),\n",
       " datetime.date(2022, 6, 6),\n",
       " datetime.date(2021, 5, 31),\n",
       " datetime.date(2018, 8, 3),\n",
       " datetime.date(2018, 7, 3),\n",
       " datetime.date(2021, 12, 17),\n",
       " datetime.date(2022, 7, 29),\n",
       " datetime.date(2019, 1, 15),\n",
       " datetime.date(2019, 2, 27),\n",
       " datetime.date(2019, 11, 18),\n",
       " datetime.date(2021, 8, 26),\n",
       " datetime.date(2019, 9, 6),\n",
       " datetime.date(2021, 8, 13),\n",
       " datetime.date(2023, 5, 18),\n",
       " datetime.date(2020, 9, 7),\n",
       " datetime.date(2024, 2, 13),\n",
       " datetime.date(2021, 10, 27),\n",
       " datetime.date(2024, 11, 12),\n",
       " datetime.date(2018, 3, 8),\n",
       " datetime.date(2023, 4, 28),\n",
       " datetime.date(2022, 12, 14),\n",
       " datetime.date(2018, 2, 14),\n",
       " datetime.date(2021, 1, 18),\n",
       " datetime.date(2019, 7, 22),\n",
       " datetime.date(2019, 10, 23),\n",
       " datetime.date(2023, 4, 6),\n",
       " datetime.date(2024, 5, 10),\n",
       " datetime.date(2021, 6, 9),\n",
       " datetime.date(2021, 1, 12),\n",
       " datetime.date(2024, 11, 6),\n",
       " datetime.date(2019, 5, 30),\n",
       " datetime.date(2021, 6, 8),\n",
       " datetime.date(2019, 11, 11),\n",
       " datetime.date(2020, 8, 11),\n",
       " datetime.date(2021, 3, 16),\n",
       " datetime.date(2023, 1, 9),\n",
       " datetime.date(2019, 1, 9),\n",
       " datetime.date(2021, 10, 4),\n",
       " datetime.date(2023, 8, 4),\n",
       " datetime.date(2020, 1, 13),\n",
       " datetime.date(2022, 5, 24),\n",
       " datetime.date(2018, 9, 24),\n",
       " datetime.date(2019, 1, 18),\n",
       " datetime.date(2020, 2, 28),\n",
       " datetime.date(2022, 11, 3),\n",
       " datetime.date(2021, 7, 8),\n",
       " datetime.date(2023, 1, 20),\n",
       " datetime.date(2022, 6, 27),\n",
       " datetime.date(2019, 4, 3),\n",
       " datetime.date(2022, 10, 6),\n",
       " datetime.date(2021, 3, 1),\n",
       " datetime.date(2020, 7, 30),\n",
       " datetime.date(2023, 4, 12),\n",
       " datetime.date(2020, 7, 9),\n",
       " datetime.date(2019, 9, 5),\n",
       " datetime.date(2019, 10, 3),\n",
       " datetime.date(2018, 7, 2),\n",
       " datetime.date(2023, 1, 6),\n",
       " datetime.date(2019, 2, 12),\n",
       " datetime.date(2022, 9, 22),\n",
       " datetime.date(2018, 12, 10),\n",
       " datetime.date(2023, 3, 29),\n",
       " datetime.date(2023, 8, 8),\n",
       " datetime.date(2019, 3, 28),\n",
       " datetime.date(2020, 8, 7),\n",
       " datetime.date(2018, 10, 30),\n",
       " datetime.date(2019, 9, 9),\n",
       " datetime.date(2019, 1, 25),\n",
       " datetime.date(2023, 9, 20),\n",
       " datetime.date(2019, 8, 22),\n",
       " datetime.date(2019, 7, 24),\n",
       " datetime.date(2019, 1, 23),\n",
       " datetime.date(2018, 5, 4),\n",
       " datetime.date(2018, 3, 13),\n",
       " datetime.date(2021, 4, 30),\n",
       " datetime.date(2018, 4, 13),\n",
       " datetime.date(2020, 4, 27),\n",
       " datetime.date(2018, 10, 9),\n",
       " datetime.date(2018, 9, 26),\n",
       " datetime.date(2021, 5, 24),\n",
       " datetime.date(2021, 3, 10),\n",
       " datetime.date(2024, 10, 10),\n",
       " datetime.date(2021, 2, 19),\n",
       " datetime.date(2022, 2, 11),\n",
       " datetime.date(2019, 12, 10),\n",
       " datetime.date(2018, 5, 28),\n",
       " datetime.date(2021, 8, 23),\n",
       " datetime.date(2022, 6, 7),\n",
       " datetime.date(2020, 10, 1),\n",
       " datetime.date(2024, 3, 26),\n",
       " datetime.date(2022, 2, 16),\n",
       " datetime.date(2024, 6, 25),\n",
       " datetime.date(2024, 1, 29),\n",
       " datetime.date(2022, 8, 3),\n",
       " datetime.date(2020, 3, 16),\n",
       " datetime.date(2018, 8, 20),\n",
       " datetime.date(2019, 11, 15),\n",
       " datetime.date(2024, 2, 28),\n",
       " datetime.date(2021, 5, 5),\n",
       " datetime.date(2020, 11, 19),\n",
       " datetime.date(2022, 5, 31),\n",
       " datetime.date(2018, 9, 10),\n",
       " datetime.date(2018, 3, 26),\n",
       " datetime.date(2020, 3, 9),\n",
       " datetime.date(2021, 9, 6),\n",
       " datetime.date(2021, 7, 9),\n",
       " datetime.date(2021, 9, 27),\n",
       " datetime.date(2020, 12, 23),\n",
       " datetime.date(2022, 11, 11),\n",
       " datetime.date(2022, 11, 18),\n",
       " datetime.date(2019, 8, 29),\n",
       " datetime.date(2020, 1, 3),\n",
       " datetime.date(2022, 3, 30),\n",
       " datetime.date(2021, 3, 30),\n",
       " datetime.date(2023, 2, 9),\n",
       " datetime.date(2018, 5, 29),\n",
       " datetime.date(2020, 4, 8),\n",
       " datetime.date(2019, 6, 17),\n",
       " datetime.date(2018, 11, 9),\n",
       " datetime.date(2018, 2, 28),\n",
       " datetime.date(2021, 7, 26),\n",
       " datetime.date(2024, 9, 5),\n",
       " datetime.date(2020, 4, 22),\n",
       " datetime.date(2022, 6, 3),\n",
       " datetime.date(2024, 4, 4),\n",
       " datetime.date(2020, 11, 2),\n",
       " datetime.date(2021, 8, 31),\n",
       " datetime.date(2018, 1, 15),\n",
       " datetime.date(2022, 4, 20),\n",
       " datetime.date(2022, 5, 26),\n",
       " datetime.date(2024, 8, 16),\n",
       " datetime.date(2022, 10, 7),\n",
       " datetime.date(2018, 7, 26),\n",
       " datetime.date(2018, 5, 11),\n",
       " datetime.date(2019, 5, 9),\n",
       " datetime.date(2021, 5, 18),\n",
       " datetime.date(2022, 12, 21),\n",
       " datetime.date(2020, 3, 3),\n",
       " datetime.date(2022, 11, 16),\n",
       " datetime.date(2021, 10, 1),\n",
       " datetime.date(2023, 8, 18),\n",
       " datetime.date(2023, 7, 19),\n",
       " datetime.date(2018, 1, 10),\n",
       " datetime.date(2022, 12, 29),\n",
       " datetime.date(2020, 8, 10),\n",
       " datetime.date(2022, 7, 25),\n",
       " datetime.date(2022, 11, 28),\n",
       " datetime.date(2023, 2, 28),\n",
       " datetime.date(2018, 11, 12),\n",
       " datetime.date(2024, 4, 5),\n",
       " datetime.date(2020, 9, 28),\n",
       " datetime.date(2022, 7, 26),\n",
       " datetime.date(2020, 7, 31),\n",
       " datetime.date(2022, 7, 21),\n",
       " datetime.date(2018, 8, 16),\n",
       " datetime.date(2022, 7, 12),\n",
       " datetime.date(2020, 2, 10),\n",
       " datetime.date(2018, 9, 28),\n",
       " datetime.date(2020, 4, 28),\n",
       " datetime.date(2021, 3, 19),\n",
       " datetime.date(2022, 2, 4),\n",
       " datetime.date(2022, 12, 5),\n",
       " datetime.date(2021, 1, 8),\n",
       " datetime.date(2024, 7, 4),\n",
       " datetime.date(2020, 9, 18),\n",
       " datetime.date(2023, 10, 5),\n",
       " datetime.date(2022, 7, 19),\n",
       " datetime.date(2020, 1, 1),\n",
       " datetime.date(2020, 5, 11),\n",
       " datetime.date(2020, 8, 4),\n",
       " datetime.date(2021, 3, 4),\n",
       " datetime.date(2023, 9, 15),\n",
       " datetime.date(2020, 6, 26),\n",
       " datetime.date(2024, 3, 28),\n",
       " datetime.date(2023, 2, 14),\n",
       " datetime.date(2022, 9, 29),\n",
       " datetime.date(2020, 5, 4),\n",
       " datetime.date(2024, 2, 20),\n",
       " datetime.date(2018, 3, 12),\n",
       " datetime.date(2019, 5, 20),\n",
       " datetime.date(2023, 7, 28),\n",
       " datetime.date(2019, 5, 17),\n",
       " datetime.date(2024, 8, 22),\n",
       " datetime.date(2018, 11, 19),\n",
       " datetime.date(2020, 7, 23),\n",
       " datetime.date(2023, 8, 7),\n",
       " datetime.date(2018, 7, 27),\n",
       " datetime.date(2020, 1, 6),\n",
       " datetime.date(2021, 12, 14),\n",
       " datetime.date(2024, 4, 23),\n",
       " datetime.date(2022, 5, 13),\n",
       " datetime.date(2023, 3, 13),\n",
       " datetime.date(2021, 1, 13),\n",
       " datetime.date(2019, 7, 2),\n",
       " datetime.date(2018, 7, 6),\n",
       " datetime.date(2024, 11, 1),\n",
       " datetime.date(2019, 9, 19),\n",
       " datetime.date(2023, 2, 8),\n",
       " datetime.date(2021, 1, 20),\n",
       " datetime.date(2018, 4, 17),\n",
       " datetime.date(2022, 12, 7),\n",
       " datetime.date(2018, 10, 22),\n",
       " datetime.date(2024, 12, 3),\n",
       " datetime.date(2018, 5, 8),\n",
       " datetime.date(2021, 3, 25),\n",
       " datetime.date(2020, 1, 28),\n",
       " datetime.date(2022, 6, 17),\n",
       " datetime.date(2024, 9, 16),\n",
       " datetime.date(2020, 11, 9),\n",
       " datetime.date(2021, 10, 18),\n",
       " datetime.date(2020, 2, 6),\n",
       " datetime.date(2023, 11, 21),\n",
       " datetime.date(2020, 2, 7),\n",
       " datetime.date(2024, 9, 30),\n",
       " datetime.date(2020, 1, 17),\n",
       " datetime.date(2022, 12, 27),\n",
       " datetime.date(2023, 5, 9),\n",
       " datetime.date(2022, 9, 14),\n",
       " datetime.date(2020, 2, 12),\n",
       " datetime.date(2021, 2, 23),\n",
       " datetime.date(2018, 5, 7),\n",
       " datetime.date(2020, 12, 3),\n",
       " datetime.date(2018, 11, 15),\n",
       " datetime.date(2019, 11, 4),\n",
       " datetime.date(2020, 2, 20),\n",
       " datetime.date(2019, 12, 24),\n",
       " datetime.date(2019, 7, 10),\n",
       " datetime.date(2021, 7, 19),\n",
       " datetime.date(2019, 12, 11),\n",
       " datetime.date(2021, 10, 25),\n",
       " datetime.date(2021, 7, 12),\n",
       " datetime.date(2022, 2, 22),\n",
       " datetime.date(2021, 10, 26),\n",
       " datetime.date(2021, 10, 6),\n",
       " datetime.date(2020, 7, 16),\n",
       " datetime.date(2019, 4, 22),\n",
       " datetime.date(2024, 7, 9),\n",
       " datetime.date(2021, 7, 27),\n",
       " datetime.date(2024, 10, 3),\n",
       " datetime.date(2019, 8, 27),\n",
       " datetime.date(2019, 6, 14),\n",
       " datetime.date(2021, 6, 25),\n",
       " datetime.date(2024, 1, 31),\n",
       " datetime.date(2020, 5, 18),\n",
       " datetime.date(2018, 11, 1),\n",
       " datetime.date(2022, 11, 15),\n",
       " datetime.date(2019, 1, 10),\n",
       " datetime.date(2021, 9, 22),\n",
       " datetime.date(2020, 2, 24),\n",
       " datetime.date(2018, 9, 17),\n",
       " datetime.date(2024, 9, 11),\n",
       " datetime.date(2020, 6, 19),\n",
       " datetime.date(2020, 5, 20),\n",
       " datetime.date(2020, 8, 21),\n",
       " datetime.date(2022, 1, 12),\n",
       " datetime.date(2023, 5, 29),\n",
       " datetime.date(2018, 4, 25),\n",
       " datetime.date(2024, 10, 8),\n",
       " datetime.date(2024, 4, 26),\n",
       " datetime.date(2023, 8, 1),\n",
       " datetime.date(2022, 8, 8),\n",
       " datetime.date(2022, 12, 8),\n",
       " datetime.date(2021, 8, 17),\n",
       " datetime.date(2018, 1, 18),\n",
       " datetime.date(2018, 5, 16),\n",
       " datetime.date(2020, 10, 28),\n",
       " datetime.date(2020, 8, 17),\n",
       " datetime.date(2024, 7, 26),\n",
       " datetime.date(2021, 5, 12),\n",
       " datetime.date(2024, 5, 29),\n",
       " datetime.date(2019, 2, 20),\n",
       " datetime.date(2020, 11, 20),\n",
       " datetime.date(2022, 11, 25),\n",
       " datetime.date(2019, 8, 19),\n",
       " datetime.date(2021, 11, 26),\n",
       " datetime.date(2019, 7, 23),\n",
       " datetime.date(2024, 10, 29),\n",
       " datetime.date(2018, 12, 28),\n",
       " datetime.date(2018, 6, 27),\n",
       " datetime.date(2018, 4, 27),\n",
       " datetime.date(2021, 6, 24),\n",
       " datetime.date(2022, 9, 15),\n",
       " datetime.date(2022, 1, 6),\n",
       " datetime.date(2024, 10, 1),\n",
       " datetime.date(2018, 12, 21),\n",
       " datetime.date(2019, 6, 27),\n",
       " datetime.date(2022, 3, 9),\n",
       " datetime.date(2022, 9, 9),\n",
       " datetime.date(2021, 9, 17),\n",
       " datetime.date(2020, 5, 6),\n",
       " datetime.date(2023, 9, 4),\n",
       " datetime.date(2023, 1, 2),\n",
       " datetime.date(2023, 3, 17),\n",
       " datetime.date(2023, 5, 30),\n",
       " datetime.date(2024, 1, 8),\n",
       " datetime.date(2018, 7, 16),\n",
       " datetime.date(2023, 12, 1),\n",
       " datetime.date(2024, 7, 3),\n",
       " datetime.date(2022, 5, 17),\n",
       " datetime.date(2019, 8, 16),\n",
       " datetime.date(2021, 12, 30),\n",
       " datetime.date(2023, 12, 18),\n",
       " datetime.date(2024, 1, 24),\n",
       " datetime.date(2020, 5, 15),\n",
       " datetime.date(2020, 11, 10),\n",
       " datetime.date(2019, 8, 14),\n",
       " datetime.date(2023, 4, 10),\n",
       " datetime.date(2018, 4, 20),\n",
       " datetime.date(2020, 10, 6),\n",
       " datetime.date(2018, 8, 14),\n",
       " datetime.date(2022, 1, 3),\n",
       " datetime.date(2020, 9, 15),\n",
       " datetime.date(2021, 2, 16),\n",
       " datetime.date(2019, 5, 27),\n",
       " datetime.date(2019, 11, 1),\n",
       " datetime.date(2021, 8, 16),\n",
       " datetime.date(2020, 9, 3),\n",
       " datetime.date(2018, 12, 4),\n",
       " datetime.date(2020, 2, 27),\n",
       " datetime.date(2023, 6, 23),\n",
       " datetime.date(2018, 5, 10),\n",
       " datetime.date(2020, 12, 8),\n",
       " datetime.date(2020, 2, 1),\n",
       " datetime.date(2019, 11, 6),\n",
       " datetime.date(2024, 4, 30),\n",
       " datetime.date(2023, 2, 21),\n",
       " datetime.date(2021, 4, 20),\n",
       " datetime.date(2020, 8, 27),\n",
       " datetime.date(2023, 3, 9),\n",
       " datetime.date(2024, 4, 22),\n",
       " datetime.date(2021, 3, 3),\n",
       " datetime.date(2024, 2, 27),\n",
       " datetime.date(2023, 10, 10),\n",
       " datetime.date(2024, 6, 12),\n",
       " datetime.date(2018, 10, 24),\n",
       " datetime.date(2021, 8, 10),\n",
       " datetime.date(2021, 8, 30),\n",
       " datetime.date(2023, 7, 17),\n",
       " datetime.date(2019, 7, 8),\n",
       " datetime.date(2021, 9, 14),\n",
       " datetime.date(2021, 10, 29),\n",
       " datetime.date(2022, 4, 4),\n",
       " datetime.date(2019, 7, 3),\n",
       " datetime.date(2019, 12, 20),\n",
       " datetime.date(2021, 4, 22),\n",
       " datetime.date(2024, 11, 27),\n",
       " datetime.date(2022, 7, 7),\n",
       " datetime.date(2024, 1, 16),\n",
       " datetime.date(2020, 1, 20),\n",
       " datetime.date(2021, 4, 1),\n",
       " datetime.date(2020, 7, 20),\n",
       " datetime.date(2023, 9, 25),\n",
       " datetime.date(2018, 3, 1),\n",
       " datetime.date(2024, 9, 6),\n",
       " datetime.date(2018, 2, 20),\n",
       " datetime.date(2024, 5, 13),\n",
       " datetime.date(2020, 9, 1),\n",
       " datetime.date(2024, 2, 5),\n",
       " datetime.date(2023, 1, 25),\n",
       " datetime.date(2020, 7, 22),\n",
       " datetime.date(2020, 1, 23),\n",
       " datetime.date(2019, 11, 8),\n",
       " datetime.date(2023, 6, 7),\n",
       " datetime.date(2020, 9, 4),\n",
       " datetime.date(2019, 8, 1),\n",
       " datetime.date(2020, 11, 12),\n",
       " datetime.date(2024, 6, 27),\n",
       " datetime.date(2024, 6, 4),\n",
       " datetime.date(2024, 3, 19),\n",
       " datetime.date(2024, 10, 28),\n",
       " datetime.date(2018, 1, 11),\n",
       " datetime.date(2018, 6, 19),\n",
       " datetime.date(2020, 6, 11),\n",
       " datetime.date(2021, 7, 20),\n",
       " datetime.date(2018, 8, 28),\n",
       " datetime.date(2023, 12, 19),\n",
       " datetime.date(2019, 10, 31),\n",
       " datetime.date(2024, 5, 21),\n",
       " datetime.date(2020, 5, 12),\n",
       " datetime.date(2022, 5, 11),\n",
       " datetime.date(2020, 3, 20),\n",
       " datetime.date(2021, 4, 5),\n",
       " datetime.date(2021, 1, 4),\n",
       " datetime.date(2023, 6, 2),\n",
       " datetime.date(2019, 3, 15),\n",
       " datetime.date(2018, 6, 8),\n",
       " datetime.date(2018, 8, 1),\n",
       " datetime.date(2020, 8, 18),\n",
       " datetime.date(2020, 11, 23),\n",
       " datetime.date(2021, 3, 31),\n",
       " datetime.date(2019, 8, 5),\n",
       " datetime.date(2024, 7, 12),\n",
       " datetime.date(2018, 6, 4),\n",
       " datetime.date(2021, 3, 22),\n",
       " datetime.date(2023, 4, 18),\n",
       " datetime.date(2018, 2, 22),\n",
       " datetime.date(2024, 2, 23),\n",
       " datetime.date(2023, 9, 28),\n",
       " datetime.date(2023, 7, 27),\n",
       " datetime.date(2020, 12, 22),\n",
       " datetime.date(2024, 10, 11),\n",
       " datetime.date(2020, 5, 22),\n",
       " datetime.date(2018, 2, 7),\n",
       " datetime.date(2019, 11, 5),\n",
       " datetime.date(2018, 4, 16),\n",
       " datetime.date(2022, 4, 28),\n",
       " datetime.date(2020, 6, 17),\n",
       " datetime.date(2020, 3, 18),\n",
       " datetime.date(2018, 4, 4),\n",
       " datetime.date(2021, 11, 22),\n",
       " datetime.date(2018, 3, 5),\n",
       " datetime.date(2024, 7, 30),\n",
       " datetime.date(2023, 5, 4),\n",
       " datetime.date(2022, 8, 5),\n",
       " datetime.date(2019, 12, 31),\n",
       " datetime.date(2018, 8, 9),\n",
       " datetime.date(2021, 6, 17),\n",
       " datetime.date(2021, 11, 4),\n",
       " datetime.date(2024, 10, 17),\n",
       " datetime.date(2020, 3, 30),\n",
       " datetime.date(2023, 3, 20),\n",
       " datetime.date(2023, 5, 2),\n",
       " datetime.date(2021, 4, 6),\n",
       " datetime.date(2018, 10, 19),\n",
       " datetime.date(2019, 10, 7),\n",
       " datetime.date(2021, 7, 29),\n",
       " datetime.date(2024, 1, 2),\n",
       " datetime.date(2021, 4, 7),\n",
       " datetime.date(2020, 4, 30),\n",
       " datetime.date(2020, 12, 21),\n",
       " datetime.date(2020, 12, 16),\n",
       " datetime.date(2021, 9, 23),\n",
       " datetime.date(2024, 8, 27),\n",
       " datetime.date(2021, 12, 8),\n",
       " datetime.date(2023, 12, 8),\n",
       " datetime.date(2018, 12, 31),\n",
       " datetime.date(2022, 8, 29),\n",
       " datetime.date(2024, 1, 1),\n",
       " datetime.date(2024, 3, 11),\n",
       " datetime.date(2020, 6, 16),\n",
       " datetime.date(2018, 2, 21),\n",
       " datetime.date(2024, 1, 10),\n",
       " datetime.date(2022, 7, 20),\n",
       " datetime.date(2024, 5, 31),\n",
       " datetime.date(2023, 6, 5),\n",
       " datetime.date(2021, 1, 6),\n",
       " datetime.date(2022, 4, 7),\n",
       " datetime.date(2023, 6, 15),\n",
       " datetime.date(2024, 3, 6),\n",
       " datetime.date(2024, 10, 24),\n",
       " datetime.date(2020, 12, 11),\n",
       " datetime.date(2022, 9, 6),\n",
       " datetime.date(2018, 12, 18),\n",
       " datetime.date(2024, 5, 2),\n",
       " datetime.date(2022, 12, 9),\n",
       " datetime.date(2020, 12, 17),\n",
       " datetime.date(2019, 2, 6),\n",
       " datetime.date(2022, 10, 21),\n",
       " datetime.date(2021, 6, 11),\n",
       " datetime.date(2024, 9, 9),\n",
       " datetime.date(2022, 1, 7),\n",
       " datetime.date(2022, 11, 14),\n",
       " datetime.date(2022, 10, 4),\n",
       " datetime.date(2022, 1, 5),\n",
       " datetime.date(2020, 1, 30),\n",
       " datetime.date(2021, 8, 2),\n",
       " datetime.date(2024, 11, 21),\n",
       " datetime.date(2020, 9, 25),\n",
       " datetime.date(2019, 9, 20),\n",
       " datetime.date(2022, 1, 10),\n",
       " datetime.date(2020, 5, 19),\n",
       " datetime.date(2024, 11, 7),\n",
       " datetime.date(2020, 12, 9),\n",
       " datetime.date(2022, 10, 12),\n",
       " datetime.date(2019, 1, 30),\n",
       " datetime.date(2019, 7, 5),\n",
       " datetime.date(2019, 1, 3),\n",
       " datetime.date(2022, 8, 23),\n",
       " datetime.date(2023, 5, 17),\n",
       " datetime.date(2019, 10, 27),\n",
       " datetime.date(2023, 9, 12),\n",
       " datetime.date(2018, 3, 16),\n",
       " datetime.date(2022, 6, 28),\n",
       " datetime.date(2023, 10, 23),\n",
       " datetime.date(2019, 7, 4),\n",
       " datetime.date(2022, 9, 1),\n",
       " datetime.date(2022, 12, 6),\n",
       " datetime.date(2018, 8, 8),\n",
       " datetime.date(2022, 11, 23),\n",
       " datetime.date(2023, 11, 28),\n",
       " datetime.date(2018, 6, 29),\n",
       " datetime.date(2021, 8, 20),\n",
       " datetime.date(2023, 10, 9),\n",
       " datetime.date(2019, 8, 2),\n",
       " datetime.date(2021, 4, 26),\n",
       " datetime.date(2019, 1, 7),\n",
       " datetime.date(2022, 7, 22),\n",
       " datetime.date(2018, 10, 11),\n",
       " datetime.date(2019, 7, 31),\n",
       " datetime.date(2021, 12, 3),\n",
       " datetime.date(2019, 4, 24),\n",
       " datetime.date(2024, 9, 4),\n",
       " datetime.date(2018, 3, 14),\n",
       " datetime.date(2019, 3, 25),\n",
       " datetime.date(2024, 9, 10),\n",
       " datetime.date(2021, 6, 22),\n",
       " datetime.date(2019, 11, 20),\n",
       " datetime.date(2021, 9, 3),\n",
       " datetime.date(2020, 2, 13),\n",
       " datetime.date(2020, 4, 23),\n",
       " datetime.date(2023, 7, 14),\n",
       " datetime.date(2023, 9, 6),\n",
       " datetime.date(2022, 11, 9),\n",
       " datetime.date(2018, 10, 25),\n",
       " datetime.date(2018, 6, 18),\n",
       " datetime.date(2019, 2, 25),\n",
       " datetime.date(2019, 1, 4),\n",
       " datetime.date(2019, 9, 24),\n",
       " datetime.date(2022, 10, 14),\n",
       " datetime.date(2023, 6, 28),\n",
       " datetime.date(2023, 11, 1),\n",
       " datetime.date(2022, 12, 2),\n",
       " datetime.date(2023, 8, 9),\n",
       " datetime.date(2021, 1, 29),\n",
       " datetime.date(2020, 7, 27),\n",
       " datetime.date(2022, 4, 1),\n",
       " datetime.date(2021, 4, 12),\n",
       " datetime.date(2023, 10, 31),\n",
       " datetime.date(2020, 10, 26),\n",
       " datetime.date(2023, 7, 20),\n",
       " datetime.date(2018, 11, 5),\n",
       " datetime.date(2021, 5, 3),\n",
       " ...}"
      ]
     },
     "execution_count": 8,
     "metadata": {},
     "output_type": "execute_result"
    }
   ],
   "source": [
    "bnf_1min[\"datetime\"] = pd.to_datetime(bnf_1min[\"datetime\"])\n",
    "list_of_traded_dates = set(bnf_1min[\"datetime\"].dt.date)\n",
    "list_of_traded_dates"
   ]
  },
  {
   "cell_type": "code",
   "execution_count": 20,
   "id": "d292f1ac-6b82-4ef2-8404-c8738c87113a",
   "metadata": {
    "execution": {
     "iopub.execute_input": "2024-12-29T14:26:10.879007Z",
     "iopub.status.busy": "2024-12-29T14:26:10.878729Z",
     "iopub.status.idle": "2024-12-29T14:26:10.886319Z",
     "shell.execute_reply": "2024-12-29T14:26:10.885463Z",
     "shell.execute_reply.started": "2024-12-29T14:26:10.878968Z"
    }
   },
   "outputs": [],
   "source": [
    "import pandas as pd\n",
    "\n",
    "def calculate_signals(df, n, rsi_period, rsi_overbought, ema_length):\n",
    "    # Calculate RSI\n",
    "    def calculate_rsi(series, period):\n",
    "        # Calculate the price changes\n",
    "        delta = series.diff()\n",
    "    \n",
    "        # Separate gains and losses\n",
    "        gain = delta.where(delta > 0, 0)\n",
    "        loss = -delta.where(delta < 0, 0)\n",
    "    \n",
    "        # Calculate the first average gain and loss (Simple Moving Average for the first period)\n",
    "        avg_gain = gain.rolling(window=period, min_periods=period).mean()\n",
    "        avg_loss = loss.rolling(window=period, min_periods=period).mean()\n",
    "    \n",
    "        # Calculate the subsequent smoothed averages (similar to EMA)\n",
    "        for i in range(period, len(series)):\n",
    "            avg_gain.iloc[i] = (avg_gain.iloc[i - 1] * (period - 1) + gain.iloc[i]) / period\n",
    "            avg_loss.iloc[i] = (avg_loss.iloc[i - 1] * (period - 1) + loss.iloc[i]) / period\n",
    "    \n",
    "        # Calculate the Relative Strength (RS) and the RSI\n",
    "        rs = avg_gain / avg_loss\n",
    "        rsi = 100 - (100 / (1 + rs))\n",
    "    \n",
    "        return rsi\n",
    "\n",
    "    # Apply the TradingView-style RSI calculation\n",
    "    df['RSI'] = calculate_rsi(df['close'], rsi_period)\n",
    "\n",
    "    # Calculate the previous n candles' low\n",
    "    df['Prev_N_Low'] = df['low'].rolling(window=n).min().shift(1)\n",
    "    df['ema'] = df['close'].ewm(span=ema_length, adjust=False).mean()\n",
    "\n",
    "    # Signal generation logic\n",
    "    df['Sell_Signal'] = (\n",
    "        (df['close'] < df['Prev_N_Low']) &\n",
    "        (df['RSI'] > rsi_overbought)\n",
    "    )\n",
    "\n",
    "    return df"
   ]
  },
  {
   "cell_type": "code",
   "execution_count": 21,
   "id": "8a584c2a-417b-4657-98f7-3ef36c6604c9",
   "metadata": {
    "execution": {
     "iopub.execute_input": "2024-12-29T14:26:11.261457Z",
     "iopub.status.busy": "2024-12-29T14:26:11.261175Z",
     "iopub.status.idle": "2024-12-29T14:26:11.272074Z",
     "shell.execute_reply": "2024-12-29T14:26:11.271193Z",
     "shell.execute_reply.started": "2024-12-29T14:26:11.261431Z"
    }
   },
   "outputs": [
    {
     "data": {
      "text/html": [
       "<div>\n",
       "<style scoped>\n",
       "    .dataframe tbody tr th:only-of-type {\n",
       "        vertical-align: middle;\n",
       "    }\n",
       "\n",
       "    .dataframe tbody tr th {\n",
       "        vertical-align: top;\n",
       "    }\n",
       "\n",
       "    .dataframe thead th {\n",
       "        text-align: right;\n",
       "    }\n",
       "</style>\n",
       "<table border=\"1\" class=\"dataframe\">\n",
       "  <thead>\n",
       "    <tr style=\"text-align: right;\">\n",
       "      <th></th>\n",
       "      <th>time</th>\n",
       "      <th>open</th>\n",
       "      <th>high</th>\n",
       "      <th>low</th>\n",
       "      <th>close</th>\n",
       "      <th>datetime</th>\n",
       "      <th>RSI</th>\n",
       "      <th>Prev_N_Low</th>\n",
       "      <th>ema</th>\n",
       "      <th>Sell_Signal</th>\n",
       "    </tr>\n",
       "  </thead>\n",
       "  <tbody>\n",
       "    <tr>\n",
       "      <th>0</th>\n",
       "      <td>2018-01-01T09:15:00+05:30</td>\n",
       "      <td>10533.7500</td>\n",
       "      <td>10535.5000</td>\n",
       "      <td>10516.3500</td>\n",
       "      <td>10523.8500</td>\n",
       "      <td>2018-01-01 09:15:00+05:30</td>\n",
       "      <td>NaN</td>\n",
       "      <td>NaN</td>\n",
       "      <td>10523.8500</td>\n",
       "      <td>False</td>\n",
       "    </tr>\n",
       "    <tr>\n",
       "      <th>1</th>\n",
       "      <td>2018-01-01T09:45:00+05:30</td>\n",
       "      <td>10524.0500</td>\n",
       "      <td>10533.0500</td>\n",
       "      <td>10521.8500</td>\n",
       "      <td>10532.2500</td>\n",
       "      <td>2018-01-01 09:45:00+05:30</td>\n",
       "      <td>NaN</td>\n",
       "      <td>NaN</td>\n",
       "      <td>10525.3773</td>\n",
       "      <td>False</td>\n",
       "    </tr>\n",
       "    <tr>\n",
       "      <th>2</th>\n",
       "      <td>2018-01-01T10:15:00+05:30</td>\n",
       "      <td>10532.0500</td>\n",
       "      <td>10537.8500</td>\n",
       "      <td>10527.5500</td>\n",
       "      <td>10531.8500</td>\n",
       "      <td>2018-01-01 10:15:00+05:30</td>\n",
       "      <td>NaN</td>\n",
       "      <td>10516.3500</td>\n",
       "      <td>10526.5541</td>\n",
       "      <td>False</td>\n",
       "    </tr>\n",
       "    <tr>\n",
       "      <th>3</th>\n",
       "      <td>2018-01-01T10:45:00+05:30</td>\n",
       "      <td>10532.3500</td>\n",
       "      <td>10536.3000</td>\n",
       "      <td>10525.2500</td>\n",
       "      <td>10527.4500</td>\n",
       "      <td>2018-01-01 10:45:00+05:30</td>\n",
       "      <td>NaN</td>\n",
       "      <td>10521.8500</td>\n",
       "      <td>10526.7170</td>\n",
       "      <td>False</td>\n",
       "    </tr>\n",
       "    <tr>\n",
       "      <th>4</th>\n",
       "      <td>2018-01-01T11:15:00+05:30</td>\n",
       "      <td>10527.9000</td>\n",
       "      <td>10534.2000</td>\n",
       "      <td>10527.4500</td>\n",
       "      <td>10532.6000</td>\n",
       "      <td>2018-01-01 11:15:00+05:30</td>\n",
       "      <td>NaN</td>\n",
       "      <td>10525.2500</td>\n",
       "      <td>10527.7867</td>\n",
       "      <td>False</td>\n",
       "    </tr>\n",
       "  </tbody>\n",
       "</table>\n",
       "</div>"
      ],
      "text/plain": [
       "                        time       open       high        low      close  \\\n",
       "0  2018-01-01T09:15:00+05:30 10533.7500 10535.5000 10516.3500 10523.8500   \n",
       "1  2018-01-01T09:45:00+05:30 10524.0500 10533.0500 10521.8500 10532.2500   \n",
       "2  2018-01-01T10:15:00+05:30 10532.0500 10537.8500 10527.5500 10531.8500   \n",
       "3  2018-01-01T10:45:00+05:30 10532.3500 10536.3000 10525.2500 10527.4500   \n",
       "4  2018-01-01T11:15:00+05:30 10527.9000 10534.2000 10527.4500 10532.6000   \n",
       "\n",
       "                   datetime  RSI  Prev_N_Low        ema  Sell_Signal  \n",
       "0 2018-01-01 09:15:00+05:30  NaN         NaN 10523.8500        False  \n",
       "1 2018-01-01 09:45:00+05:30  NaN         NaN 10525.3773        False  \n",
       "2 2018-01-01 10:15:00+05:30  NaN  10516.3500 10526.5541        False  \n",
       "3 2018-01-01 10:45:00+05:30  NaN  10521.8500 10526.7170        False  \n",
       "4 2018-01-01 11:15:00+05:30  NaN  10525.2500 10527.7867        False  "
      ]
     },
     "execution_count": 21,
     "metadata": {},
     "output_type": "execute_result"
    }
   ],
   "source": [
    "bnf_1min.head()"
   ]
  },
  {
   "cell_type": "code",
   "execution_count": 22,
   "id": "fd52bae0-d8af-417e-b4fa-f65fa66631bf",
   "metadata": {
    "execution": {
     "iopub.execute_input": "2024-12-29T14:26:11.572540Z",
     "iopub.status.busy": "2024-12-29T14:26:11.572273Z",
     "iopub.status.idle": "2024-12-29T14:26:11.577582Z",
     "shell.execute_reply": "2024-12-29T14:26:11.576582Z",
     "shell.execute_reply.started": "2024-12-29T14:26:11.572514Z"
    }
   },
   "outputs": [],
   "source": [
    "lev_ = 8\n",
    "portfolio_value = 10000000\n",
    "lot_size_ = 75\n",
    "slippage_ = 0.0002"
   ]
  },
  {
   "cell_type": "code",
   "execution_count": 23,
   "id": "b4f33d1c-4e4b-4d5a-b40b-1666fb729b86",
   "metadata": {
    "execution": {
     "iopub.execute_input": "2024-12-29T14:26:11.808530Z",
     "iopub.status.busy": "2024-12-29T14:26:11.807723Z",
     "iopub.status.idle": "2024-12-29T14:26:11.818680Z",
     "shell.execute_reply": "2024-12-29T14:26:11.817632Z",
     "shell.execute_reply.started": "2024-12-29T14:26:11.808512Z"
    }
   },
   "outputs": [],
   "source": [
    "def backtest_short(df, n, rsi_period, rsi_overbought, ema_length):\n",
    "    trade_book = []\n",
    "    in_trade = False\n",
    "    points = 0\n",
    "    is_trailing_active = False\n",
    "    trailing_sl = 0\n",
    "    df = calculate_signals(df, n, rsi_period, rsi_overbought, ema_length)\n",
    "    # print(df[df['Sell_Signal']].to_string())\n",
    "    for i in range(n, len(df)):\n",
    "        # print(i, df.loc[i], df.loc[i, 'open'])\n",
    "        # break\n",
    "        if df.loc[i, 'Sell_Signal'] and not in_trade:\n",
    "            # Entry Triggered\n",
    "            entry_price = df.loc[i, 'close']\n",
    "            entry_time = df.loc[i, 'datetime']\n",
    "            initial_sl = df.loc[i-n:i, 'high'].max()\n",
    "            sl_in_points = initial_sl - entry_price\n",
    "            target = 5 * sl_in_points\n",
    "            in_trade = True\n",
    "\n",
    "        if in_trade:\n",
    "            if df.loc[i, 'high'] < df.loc[i, 'ema']:\n",
    "                is_trailing_active = True\n",
    "            if is_trailing_active:\n",
    "                trailing_sl = df.loc[i, 'ema']\n",
    "            # print(df.loc[i, 'open'], initial_sl)\n",
    "            # break\n",
    "            if df.loc[i, 'open'] > initial_sl and not points:\n",
    "                # Gap condition\n",
    "                if df.loc[i, 'close'] < initial_sl:\n",
    "                    initial_sl = df.loc[i, 'high']\n",
    "                else:\n",
    "                    exit_price = df.loc[i, 'close']\n",
    "                    exit_time = df.loc[i, 'datetime']\n",
    "                    in_trade = False\n",
    "                    remark = 'Gap SL'\n",
    "                    points = entry_price - exit_price\n",
    "            if df.loc[i, 'high'] > initial_sl and not points:\n",
    "                # Initial SL Hit\n",
    "                exit_price = df.loc[i, 'close']\n",
    "                exit_time = df.loc[i, 'datetime']\n",
    "                in_trade = False\n",
    "                remark = 'Initial SL'\n",
    "                points = entry_price - exit_price\n",
    "            if is_trailing_active:\n",
    "                if df.loc[i, 'close'] > trailing_sl and not points:\n",
    "                    # TSL Hit\n",
    "                    exit_price = df.loc[i, 'close']\n",
    "                    exit_time = df.loc[i, 'datetime']\n",
    "                    in_trade = False\n",
    "                    remark = 'Trailing SL'\n",
    "                    points = entry_price - exit_price\n",
    "            if df.loc[i, 'low'] < entry_price - target and not points:\n",
    "                # Target Hit\n",
    "                exit_price = entry_price - target\n",
    "                exit_time = df.loc[i, 'datetime']\n",
    "                in_trade = False\n",
    "                remark = 'Target'\n",
    "                points = entry_price - exit_price\n",
    "\n",
    "        if points:\n",
    "            index_lev = lev_\n",
    "            qty = int(round(portfolio_value * index_lev / entry_price / lot_size_)) * lot_size_\n",
    "            slippage = slippage_ * (entry_price + exit_price)\n",
    "            final_points = points - slippage\n",
    "            trade = {\n",
    "                \"Trade Type\": \"Short\",\n",
    "                \"Entry Time\": entry_time,\n",
    "                \"Entry Price\": entry_price,\n",
    "                \"Initial SL\": initial_sl,\n",
    "                \"Trailing SL\": trailing_sl,\n",
    "                \"Exit Time\": exit_time,\n",
    "                \"Exit Price\": exit_price,\n",
    "                \"Points Captured\": points,\n",
    "                \"Slippage in Points\": slippage,\n",
    "                \"After Costs\": final_points,\n",
    "                \"PnL\": final_points * qty,\n",
    "                \"Remarks\": remark,\n",
    "                \"Qty\": qty,\n",
    "                \"Leverage\": index_lev,\n",
    "                \"ROI%\": (final_points * qty / portfolio_value) * 100,\n",
    "                \"Trade Year\": entry_time.year,\n",
    "                \"Trade Month\": entry_time.month,\n",
    "            }\n",
    "            # print(trade)\n",
    "            trade_book.append(trade)\n",
    "            points = 0\n",
    "            in_trade = False\n",
    "            is_trailing_active = False\n",
    "            trailing_sl = 0\n",
    "\n",
    "    return pd.DataFrame(trade_book)\n",
    "            "
   ]
  },
  {
   "cell_type": "code",
   "execution_count": 24,
   "id": "b7c50569-cec8-4442-93cc-9dc78b1a9b3a",
   "metadata": {
    "execution": {
     "iopub.execute_input": "2024-12-29T14:26:12.082341Z",
     "iopub.status.busy": "2024-12-29T14:26:12.082087Z",
     "iopub.status.idle": "2024-12-29T14:26:13.781357Z",
     "shell.execute_reply": "2024-12-29T14:26:13.780172Z",
     "shell.execute_reply.started": "2024-12-29T14:26:12.082325Z"
    },
    "scrolled": true
   },
   "outputs": [],
   "source": [
    "tb = backtest_short(bnf_1min, n=3, rsi_period=5, rsi_overbought=50, ema_length=14)"
   ]
  },
  {
   "cell_type": "code",
   "execution_count": 25,
   "id": "b59ed9ad-1698-4dd9-8572-deed574f1a0f",
   "metadata": {
    "execution": {
     "iopub.execute_input": "2024-12-29T14:26:13.783209Z",
     "iopub.status.busy": "2024-12-29T14:26:13.783027Z",
     "iopub.status.idle": "2024-12-29T14:26:13.790907Z",
     "shell.execute_reply": "2024-12-29T14:26:13.790112Z",
     "shell.execute_reply.started": "2024-12-29T14:26:13.783194Z"
    },
    "jupyter": {
     "source_hidden": true
    }
   },
   "outputs": [],
   "source": [
    "def generate_stats(tb_expiry, variation):\n",
    "    stats_df8 = pd.DataFrame(\n",
    "        index=range(2018, 2025),\n",
    "        columns=[\n",
    "            \"Total ROI\",\n",
    "            \"Total Trades\",\n",
    "            \"Win Rate\",\n",
    "            \"Avg Profit% per Trade\",\n",
    "            \"Avg Loss% per Trade\",\n",
    "            \"Max Drawdown\",\n",
    "            \"ROI/DD Ratio\",\n",
    "            \"Variation\",\n",
    "        ],\n",
    "    )\n",
    "    combined_df_sorted = tb_expiry\n",
    "    # combined_df_sorted = tb_expiry_ce\n",
    "    # combined_df_sorted = tb_expiry_pe\n",
    "    \n",
    "    # Iterate over each year\n",
    "    for year in range(2018, 2025):\n",
    "        # Filter trades for the current year\n",
    "        year_trades = combined_df_sorted[(combined_df_sorted[\"Trade Year\"] == year)]\n",
    "    \n",
    "        # Calculate total ROI\n",
    "        total_roi = year_trades[\"ROI%\"].sum()\n",
    "    \n",
    "        # Calculate total number of trades\n",
    "        total_trades = len(year_trades)\n",
    "    \n",
    "        # Calculate win rate\n",
    "        win_rate = (year_trades[\"ROI%\"] > 0).mean() * 100\n",
    "    \n",
    "        # Calculate average profit per trade\n",
    "        avg_profit = year_trades[year_trades[\"ROI%\"] > 0][\"ROI%\"].mean()\n",
    "    \n",
    "        # Calculate average loss per trade\n",
    "        avg_loss = year_trades[year_trades[\"ROI%\"] < 0][\"ROI%\"].mean()\n",
    "    \n",
    "        # Calculate maximum drawdown\n",
    "        max_drawdown = (\n",
    "            year_trades[\"ROI%\"].cumsum() - year_trades[\"ROI%\"].cumsum().cummax()\n",
    "        ).min()\n",
    "    \n",
    "        # Calculate ROI/DD ratio\n",
    "        roi_dd_ratio = total_roi / abs(max_drawdown)\n",
    "\n",
    "        variation = variation\n",
    "    \n",
    "        # Store the statistics in the DataFrame\n",
    "        stats_df8.loc[year] = [\n",
    "            total_roi,\n",
    "            total_trades,\n",
    "            win_rate,\n",
    "            avg_profit,\n",
    "            avg_loss,\n",
    "            max_drawdown,\n",
    "            roi_dd_ratio,\n",
    "            variation,\n",
    "        ]\n",
    "    \n",
    "    # Calculate overall statistics\n",
    "    overall_total_roi = stats_df8[\"Total ROI\"].sum()\n",
    "    overall_total_trades = stats_df8[\"Total Trades\"].sum()\n",
    "    overall_win_rate = (combined_df_sorted[\"ROI%\"] > 0).mean() * 100\n",
    "    overall_avg_profit = combined_df_sorted[combined_df_sorted[\"ROI%\"] > 0][\"ROI%\"].mean()\n",
    "    overall_avg_loss = combined_df_sorted[combined_df_sorted[\"ROI%\"] < 0][\"ROI%\"].mean()\n",
    "    overall_max_drawdown = (\n",
    "        combined_df_sorted[\"ROI%\"].cumsum() - combined_df_sorted[\"ROI%\"].cumsum().cummax()\n",
    "    ).min()\n",
    "    overall_roi_dd_ratio = overall_total_roi / abs(overall_max_drawdown)\n",
    "    overall_variation = variation\n",
    "    \n",
    "    # Store the overall statistics in the DataFrame\n",
    "    stats_df8.loc[\"Overall\"] = [\n",
    "        overall_total_roi,\n",
    "        overall_total_trades,\n",
    "        overall_win_rate,\n",
    "        overall_avg_profit,\n",
    "        overall_avg_loss,\n",
    "        overall_max_drawdown,\n",
    "        overall_roi_dd_ratio,\n",
    "        overall_variation,\n",
    "    ]\n",
    "    return {overall_roi_dd_ratio : stats_df8}"
   ]
  },
  {
   "cell_type": "code",
   "execution_count": 26,
   "id": "b0c3a45b-0108-4e42-8148-18d3549e317a",
   "metadata": {
    "execution": {
     "iopub.execute_input": "2024-12-29T14:26:13.791778Z",
     "iopub.status.busy": "2024-12-29T14:26:13.791606Z",
     "iopub.status.idle": "2024-12-29T14:26:13.843514Z",
     "shell.execute_reply": "2024-12-29T14:26:13.842470Z",
     "shell.execute_reply.started": "2024-12-29T14:26:13.791763Z"
    }
   },
   "outputs": [
    {
     "data": {
      "text/html": [
       "<div>\n",
       "<style scoped>\n",
       "    .dataframe tbody tr th:only-of-type {\n",
       "        vertical-align: middle;\n",
       "    }\n",
       "\n",
       "    .dataframe tbody tr th {\n",
       "        vertical-align: top;\n",
       "    }\n",
       "\n",
       "    .dataframe thead th {\n",
       "        text-align: right;\n",
       "    }\n",
       "</style>\n",
       "<table border=\"1\" class=\"dataframe\">\n",
       "  <thead>\n",
       "    <tr style=\"text-align: right;\">\n",
       "      <th></th>\n",
       "      <th>Total ROI</th>\n",
       "      <th>Total Trades</th>\n",
       "      <th>Win Rate</th>\n",
       "      <th>Avg Profit% per Trade</th>\n",
       "      <th>Avg Loss% per Trade</th>\n",
       "      <th>Max Drawdown</th>\n",
       "      <th>ROI/DD Ratio</th>\n",
       "      <th>Variation</th>\n",
       "    </tr>\n",
       "  </thead>\n",
       "  <tbody>\n",
       "    <tr>\n",
       "      <th>2018</th>\n",
       "      <td>19.4713</td>\n",
       "      <td>23</td>\n",
       "      <td>52.1739</td>\n",
       "      <td>3.9669</td>\n",
       "      <td>-2.5574</td>\n",
       "      <td>-9.8137</td>\n",
       "      <td>1.9841</td>\n",
       "      <td>1</td>\n",
       "    </tr>\n",
       "    <tr>\n",
       "      <th>2019</th>\n",
       "      <td>10.5576</td>\n",
       "      <td>15</td>\n",
       "      <td>40.0000</td>\n",
       "      <td>6.3776</td>\n",
       "      <td>-3.0787</td>\n",
       "      <td>-20.2631</td>\n",
       "      <td>0.5210</td>\n",
       "      <td>1</td>\n",
       "    </tr>\n",
       "    <tr>\n",
       "      <th>2020</th>\n",
       "      <td>16.2460</td>\n",
       "      <td>22</td>\n",
       "      <td>45.4545</td>\n",
       "      <td>7.6380</td>\n",
       "      <td>-5.0112</td>\n",
       "      <td>-34.0476</td>\n",
       "      <td>0.4772</td>\n",
       "      <td>1</td>\n",
       "    </tr>\n",
       "    <tr>\n",
       "      <th>2021</th>\n",
       "      <td>-7.4359</td>\n",
       "      <td>26</td>\n",
       "      <td>38.4615</td>\n",
       "      <td>4.5754</td>\n",
       "      <td>-3.3244</td>\n",
       "      <td>-15.9534</td>\n",
       "      <td>-0.4661</td>\n",
       "      <td>1</td>\n",
       "    </tr>\n",
       "    <tr>\n",
       "      <th>2022</th>\n",
       "      <td>-53.8414</td>\n",
       "      <td>33</td>\n",
       "      <td>36.3636</td>\n",
       "      <td>2.7584</td>\n",
       "      <td>-4.1401</td>\n",
       "      <td>-59.6103</td>\n",
       "      <td>-0.9032</td>\n",
       "      <td>1</td>\n",
       "    </tr>\n",
       "    <tr>\n",
       "      <th>2023</th>\n",
       "      <td>-10.6684</td>\n",
       "      <td>18</td>\n",
       "      <td>27.7778</td>\n",
       "      <td>5.8601</td>\n",
       "      <td>-3.0745</td>\n",
       "      <td>-33.8708</td>\n",
       "      <td>-0.3150</td>\n",
       "      <td>1</td>\n",
       "    </tr>\n",
       "    <tr>\n",
       "      <th>2024</th>\n",
       "      <td>24.4648</td>\n",
       "      <td>17</td>\n",
       "      <td>52.9412</td>\n",
       "      <td>5.5168</td>\n",
       "      <td>-3.1484</td>\n",
       "      <td>-19.8815</td>\n",
       "      <td>1.2305</td>\n",
       "      <td>1</td>\n",
       "    </tr>\n",
       "    <tr>\n",
       "      <th>Overall</th>\n",
       "      <td>-1.2060</td>\n",
       "      <td>154.0000</td>\n",
       "      <td>41.5584</td>\n",
       "      <td>5.0009</td>\n",
       "      <td>-3.5696</td>\n",
       "      <td>-124.2861</td>\n",
       "      <td>-0.0097</td>\n",
       "      <td>1.0000</td>\n",
       "    </tr>\n",
       "  </tbody>\n",
       "</table>\n",
       "</div>"
      ],
      "text/plain": [
       "        Total ROI Total Trades Win Rate Avg Profit% per Trade  \\\n",
       "2018      19.4713           23  52.1739                3.9669   \n",
       "2019      10.5576           15  40.0000                6.3776   \n",
       "2020      16.2460           22  45.4545                7.6380   \n",
       "2021      -7.4359           26  38.4615                4.5754   \n",
       "2022     -53.8414           33  36.3636                2.7584   \n",
       "2023     -10.6684           18  27.7778                5.8601   \n",
       "2024      24.4648           17  52.9412                5.5168   \n",
       "Overall   -1.2060     154.0000  41.5584                5.0009   \n",
       "\n",
       "        Avg Loss% per Trade Max Drawdown ROI/DD Ratio Variation  \n",
       "2018                -2.5574      -9.8137       1.9841         1  \n",
       "2019                -3.0787     -20.2631       0.5210         1  \n",
       "2020                -5.0112     -34.0476       0.4772         1  \n",
       "2021                -3.3244     -15.9534      -0.4661         1  \n",
       "2022                -4.1401     -59.6103      -0.9032         1  \n",
       "2023                -3.0745     -33.8708      -0.3150         1  \n",
       "2024                -3.1484     -19.8815       1.2305         1  \n",
       "Overall             -3.5696    -124.2861      -0.0097    1.0000  "
      ]
     },
     "execution_count": 26,
     "metadata": {},
     "output_type": "execute_result"
    }
   ],
   "source": [
    "variation = 1\n",
    "stats = generate_stats(tb, variation)\n",
    "for x, y in stats.items():\n",
    "    final_stats = y\n",
    "\n",
    "final_stats"
   ]
  },
  {
   "cell_type": "code",
   "execution_count": 27,
   "id": "d3a2eb28-c309-469f-891c-75ce6329d3ac",
   "metadata": {
    "execution": {
     "iopub.execute_input": "2024-12-29T14:26:13.845395Z",
     "iopub.status.busy": "2024-12-29T14:26:13.845007Z",
     "iopub.status.idle": "2024-12-29T14:26:13.864565Z",
     "shell.execute_reply": "2024-12-29T14:26:13.863453Z",
     "shell.execute_reply.started": "2024-12-29T14:26:13.845377Z"
    },
    "scrolled": true
   },
   "outputs": [
    {
     "data": {
      "text/html": [
       "<div>\n",
       "<style scoped>\n",
       "    .dataframe tbody tr th:only-of-type {\n",
       "        vertical-align: middle;\n",
       "    }\n",
       "\n",
       "    .dataframe tbody tr th {\n",
       "        vertical-align: top;\n",
       "    }\n",
       "\n",
       "    .dataframe thead th {\n",
       "        text-align: right;\n",
       "    }\n",
       "</style>\n",
       "<table border=\"1\" class=\"dataframe\">\n",
       "  <thead>\n",
       "    <tr style=\"text-align: right;\">\n",
       "      <th></th>\n",
       "      <th>Trade Type</th>\n",
       "      <th>Entry Time</th>\n",
       "      <th>Entry Price</th>\n",
       "      <th>Initial SL</th>\n",
       "      <th>Trailing SL</th>\n",
       "      <th>Exit Time</th>\n",
       "      <th>Exit Price</th>\n",
       "      <th>Points Captured</th>\n",
       "      <th>Slippage in Points</th>\n",
       "      <th>After Costs</th>\n",
       "      <th>PnL</th>\n",
       "      <th>Remarks</th>\n",
       "      <th>Qty</th>\n",
       "      <th>Leverage</th>\n",
       "      <th>ROI%</th>\n",
       "      <th>Trade Year</th>\n",
       "      <th>Trade Month</th>\n",
       "    </tr>\n",
       "  </thead>\n",
       "  <tbody>\n",
       "    <tr>\n",
       "      <th>137</th>\n",
       "      <td>Short</td>\n",
       "      <td>2024-01-04 14:15:00+05:30</td>\n",
       "      <td>21644.7000</td>\n",
       "      <td>21674.3000</td>\n",
       "      <td>0.0000</td>\n",
       "      <td>2024-01-04 15:15:00+05:30</td>\n",
       "      <td>21669.6000</td>\n",
       "      <td>-24.9000</td>\n",
       "      <td>8.6629</td>\n",
       "      <td>-33.5629</td>\n",
       "      <td>-123343.5105</td>\n",
       "      <td>Initial SL</td>\n",
       "      <td>3675</td>\n",
       "      <td>8</td>\n",
       "      <td>-1.2334</td>\n",
       "      <td>2024</td>\n",
       "      <td>1</td>\n",
       "    </tr>\n",
       "    <tr>\n",
       "      <th>138</th>\n",
       "      <td>Short</td>\n",
       "      <td>2024-01-05 10:45:00+05:30</td>\n",
       "      <td>21693.1500</td>\n",
       "      <td>21763.9500</td>\n",
       "      <td>21589.2877</td>\n",
       "      <td>2024-01-09 09:15:00+05:30</td>\n",
       "      <td>21607.7000</td>\n",
       "      <td>85.4500</td>\n",
       "      <td>8.6602</td>\n",
       "      <td>76.7898</td>\n",
       "      <td>282202.6253</td>\n",
       "      <td>Trailing SL</td>\n",
       "      <td>3675</td>\n",
       "      <td>8</td>\n",
       "      <td>2.8220</td>\n",
       "      <td>2024</td>\n",
       "      <td>1</td>\n",
       "    </tr>\n",
       "    <tr>\n",
       "      <th>139</th>\n",
       "      <td>Short</td>\n",
       "      <td>2024-01-19 10:45:00+05:30</td>\n",
       "      <td>21586.9000</td>\n",
       "      <td>21720.3000</td>\n",
       "      <td>21627.8834</td>\n",
       "      <td>2024-01-23 09:15:00+05:30</td>\n",
       "      <td>21722.3000</td>\n",
       "      <td>-135.4000</td>\n",
       "      <td>8.6618</td>\n",
       "      <td>-144.0618</td>\n",
       "      <td>-529427.2620</td>\n",
       "      <td>Gap SL</td>\n",
       "      <td>3675</td>\n",
       "      <td>8</td>\n",
       "      <td>-5.2943</td>\n",
       "      <td>2024</td>\n",
       "      <td>1</td>\n",
       "    </tr>\n",
       "    <tr>\n",
       "      <th>140</th>\n",
       "      <td>Short</td>\n",
       "      <td>2024-03-07 10:15:00+05:30</td>\n",
       "      <td>22443.8000</td>\n",
       "      <td>22523.6500</td>\n",
       "      <td>0.0000</td>\n",
       "      <td>2024-03-07 13:45:00+05:30</td>\n",
       "      <td>22499.2000</td>\n",
       "      <td>-55.4000</td>\n",
       "      <td>8.9886</td>\n",
       "      <td>-64.3886</td>\n",
       "      <td>-231798.9600</td>\n",
       "      <td>Initial SL</td>\n",
       "      <td>3600</td>\n",
       "      <td>8</td>\n",
       "      <td>-2.3180</td>\n",
       "      <td>2024</td>\n",
       "      <td>3</td>\n",
       "    </tr>\n",
       "    <tr>\n",
       "      <th>141</th>\n",
       "      <td>Short</td>\n",
       "      <td>2024-03-14 13:15:00+05:30</td>\n",
       "      <td>22115.8500</td>\n",
       "      <td>22204.6000</td>\n",
       "      <td>22000.5363</td>\n",
       "      <td>2024-03-18 11:45:00+05:30</td>\n",
       "      <td>22034.1000</td>\n",
       "      <td>81.7500</td>\n",
       "      <td>8.8300</td>\n",
       "      <td>72.9200</td>\n",
       "      <td>262512.0360</td>\n",
       "      <td>Trailing SL</td>\n",
       "      <td>3600</td>\n",
       "      <td>8</td>\n",
       "      <td>2.6251</td>\n",
       "      <td>2024</td>\n",
       "      <td>3</td>\n",
       "    </tr>\n",
       "    <tr>\n",
       "      <th>142</th>\n",
       "      <td>Short</td>\n",
       "      <td>2024-04-09 11:45:00+05:30</td>\n",
       "      <td>22719.9500</td>\n",
       "      <td>22768.4000</td>\n",
       "      <td>22672.0021</td>\n",
       "      <td>2024-04-10 09:15:00+05:30</td>\n",
       "      <td>22720.7500</td>\n",
       "      <td>-0.8000</td>\n",
       "      <td>9.0881</td>\n",
       "      <td>-9.8881</td>\n",
       "      <td>-34855.6935</td>\n",
       "      <td>Trailing SL</td>\n",
       "      <td>3525</td>\n",
       "      <td>8</td>\n",
       "      <td>-0.3486</td>\n",
       "      <td>2024</td>\n",
       "      <td>4</td>\n",
       "    </tr>\n",
       "    <tr>\n",
       "      <th>143</th>\n",
       "      <td>Short</td>\n",
       "      <td>2024-04-22 12:45:00+05:30</td>\n",
       "      <td>22273.4500</td>\n",
       "      <td>22312.1000</td>\n",
       "      <td>0.0000</td>\n",
       "      <td>2024-04-22 14:15:00+05:30</td>\n",
       "      <td>22313.5000</td>\n",
       "      <td>-40.0500</td>\n",
       "      <td>8.9174</td>\n",
       "      <td>-48.9674</td>\n",
       "      <td>-176282.6040</td>\n",
       "      <td>Initial SL</td>\n",
       "      <td>3600</td>\n",
       "      <td>8</td>\n",
       "      <td>-1.7628</td>\n",
       "      <td>2024</td>\n",
       "      <td>4</td>\n",
       "    </tr>\n",
       "    <tr>\n",
       "      <th>144</th>\n",
       "      <td>Short</td>\n",
       "      <td>2024-04-26 09:45:00+05:30</td>\n",
       "      <td>22538.1500</td>\n",
       "      <td>22615.5000</td>\n",
       "      <td>22477.9306</td>\n",
       "      <td>2024-04-29 09:15:00+05:30</td>\n",
       "      <td>22488.1000</td>\n",
       "      <td>50.0500</td>\n",
       "      <td>9.0053</td>\n",
       "      <td>41.0448</td>\n",
       "      <td>144682.7438</td>\n",
       "      <td>Trailing SL</td>\n",
       "      <td>3525</td>\n",
       "      <td>8</td>\n",
       "      <td>1.4468</td>\n",
       "      <td>2024</td>\n",
       "      <td>4</td>\n",
       "    </tr>\n",
       "    <tr>\n",
       "      <th>145</th>\n",
       "      <td>Short</td>\n",
       "      <td>2024-04-30 12:45:00+05:30</td>\n",
       "      <td>22714.7000</td>\n",
       "      <td>22756.1000</td>\n",
       "      <td>0.0000</td>\n",
       "      <td>2024-04-30 13:45:00+05:30</td>\n",
       "      <td>22768.0500</td>\n",
       "      <td>-53.3500</td>\n",
       "      <td>9.0966</td>\n",
       "      <td>-62.4465</td>\n",
       "      <td>-220124.0887</td>\n",
       "      <td>Initial SL</td>\n",
       "      <td>3525</td>\n",
       "      <td>8</td>\n",
       "      <td>-2.2012</td>\n",
       "      <td>2024</td>\n",
       "      <td>4</td>\n",
       "    </tr>\n",
       "    <tr>\n",
       "      <th>146</th>\n",
       "      <td>Short</td>\n",
       "      <td>2024-06-06 11:45:00+05:30</td>\n",
       "      <td>22720.7500</td>\n",
       "      <td>22910.1500</td>\n",
       "      <td>0.0000</td>\n",
       "      <td>2024-06-07 09:15:00+05:30</td>\n",
       "      <td>22942.5000</td>\n",
       "      <td>-221.7500</td>\n",
       "      <td>9.1326</td>\n",
       "      <td>-230.8827</td>\n",
       "      <td>-813861.3413</td>\n",
       "      <td>Initial SL</td>\n",
       "      <td>3525</td>\n",
       "      <td>8</td>\n",
       "      <td>-8.1386</td>\n",
       "      <td>2024</td>\n",
       "      <td>6</td>\n",
       "    </tr>\n",
       "    <tr>\n",
       "      <th>147</th>\n",
       "      <td>Short</td>\n",
       "      <td>2024-06-26 15:15:00+05:30</td>\n",
       "      <td>23840.2500</td>\n",
       "      <td>23889.9000</td>\n",
       "      <td>0.0000</td>\n",
       "      <td>2024-06-27 09:45:00+05:30</td>\n",
       "      <td>23945.9500</td>\n",
       "      <td>-105.7000</td>\n",
       "      <td>9.5572</td>\n",
       "      <td>-115.2572</td>\n",
       "      <td>-388993.1850</td>\n",
       "      <td>Initial SL</td>\n",
       "      <td>3375</td>\n",
       "      <td>8</td>\n",
       "      <td>-3.8899</td>\n",
       "      <td>2024</td>\n",
       "      <td>6</td>\n",
       "    </tr>\n",
       "    <tr>\n",
       "      <th>148</th>\n",
       "      <td>Short</td>\n",
       "      <td>2024-07-19 09:15:00+05:30</td>\n",
       "      <td>24747.5500</td>\n",
       "      <td>24854.8000</td>\n",
       "      <td>24512.9918</td>\n",
       "      <td>2024-07-23 10:45:00+05:30</td>\n",
       "      <td>24542.5500</td>\n",
       "      <td>205.0000</td>\n",
       "      <td>9.8580</td>\n",
       "      <td>195.1420</td>\n",
       "      <td>629332.8855</td>\n",
       "      <td>Trailing SL</td>\n",
       "      <td>3225</td>\n",
       "      <td>8</td>\n",
       "      <td>6.2933</td>\n",
       "      <td>2024</td>\n",
       "      <td>7</td>\n",
       "    </tr>\n",
       "    <tr>\n",
       "      <th>149</th>\n",
       "      <td>Short</td>\n",
       "      <td>2024-08-01 11:15:00+05:30</td>\n",
       "      <td>24998.7000</td>\n",
       "      <td>25059.0000</td>\n",
       "      <td>24807.8814</td>\n",
       "      <td>2024-08-02 14:45:00+05:30</td>\n",
       "      <td>24697.2000</td>\n",
       "      <td>301.5000</td>\n",
       "      <td>9.9392</td>\n",
       "      <td>291.5608</td>\n",
       "      <td>940283.6445</td>\n",
       "      <td>Target</td>\n",
       "      <td>3225</td>\n",
       "      <td>8</td>\n",
       "      <td>9.4028</td>\n",
       "      <td>2024</td>\n",
       "      <td>8</td>\n",
       "    </tr>\n",
       "    <tr>\n",
       "      <th>150</th>\n",
       "      <td>Short</td>\n",
       "      <td>2024-10-28 13:45:00+05:30</td>\n",
       "      <td>24382.4000</td>\n",
       "      <td>24492.6000</td>\n",
       "      <td>24283.8558</td>\n",
       "      <td>2024-10-29 11:45:00+05:30</td>\n",
       "      <td>24293.7500</td>\n",
       "      <td>88.6500</td>\n",
       "      <td>9.7352</td>\n",
       "      <td>78.9148</td>\n",
       "      <td>260418.7410</td>\n",
       "      <td>Trailing SL</td>\n",
       "      <td>3300</td>\n",
       "      <td>8</td>\n",
       "      <td>2.6042</td>\n",
       "      <td>2024</td>\n",
       "      <td>10</td>\n",
       "    </tr>\n",
       "    <tr>\n",
       "      <th>151</th>\n",
       "      <td>Short</td>\n",
       "      <td>2024-11-19 13:45:00+05:30</td>\n",
       "      <td>23707.3500</td>\n",
       "      <td>23771.7000</td>\n",
       "      <td>23586.6427</td>\n",
       "      <td>2024-11-21 09:15:00+05:30</td>\n",
       "      <td>23385.6000</td>\n",
       "      <td>321.7500</td>\n",
       "      <td>9.4186</td>\n",
       "      <td>312.3314</td>\n",
       "      <td>1054118.5088</td>\n",
       "      <td>Target</td>\n",
       "      <td>3375</td>\n",
       "      <td>8</td>\n",
       "      <td>10.5412</td>\n",
       "      <td>2024</td>\n",
       "      <td>11</td>\n",
       "    </tr>\n",
       "    <tr>\n",
       "      <th>152</th>\n",
       "      <td>Short</td>\n",
       "      <td>2024-11-27 14:45:00+05:30</td>\n",
       "      <td>24274.1000</td>\n",
       "      <td>24354.5500</td>\n",
       "      <td>24034.6384</td>\n",
       "      <td>2024-11-29 10:15:00+05:30</td>\n",
       "      <td>24082.3500</td>\n",
       "      <td>191.7500</td>\n",
       "      <td>9.6713</td>\n",
       "      <td>182.0787</td>\n",
       "      <td>600859.7430</td>\n",
       "      <td>Trailing SL</td>\n",
       "      <td>3300</td>\n",
       "      <td>8</td>\n",
       "      <td>6.0086</td>\n",
       "      <td>2024</td>\n",
       "      <td>11</td>\n",
       "    </tr>\n",
       "    <tr>\n",
       "      <th>153</th>\n",
       "      <td>Short</td>\n",
       "      <td>2024-12-11 12:15:00+05:30</td>\n",
       "      <td>24640.7500</td>\n",
       "      <td>24691.7500</td>\n",
       "      <td>24555.3713</td>\n",
       "      <td>2024-12-13 09:15:00+05:30</td>\n",
       "      <td>24385.7500</td>\n",
       "      <td>255.0000</td>\n",
       "      <td>9.8053</td>\n",
       "      <td>245.1947</td>\n",
       "      <td>790752.9075</td>\n",
       "      <td>Target</td>\n",
       "      <td>3225</td>\n",
       "      <td>8</td>\n",
       "      <td>7.9075</td>\n",
       "      <td>2024</td>\n",
       "      <td>12</td>\n",
       "    </tr>\n",
       "  </tbody>\n",
       "</table>\n",
       "</div>"
      ],
      "text/plain": [
       "    Trade Type                Entry Time  Entry Price  Initial SL  \\\n",
       "137      Short 2024-01-04 14:15:00+05:30   21644.7000  21674.3000   \n",
       "138      Short 2024-01-05 10:45:00+05:30   21693.1500  21763.9500   \n",
       "139      Short 2024-01-19 10:45:00+05:30   21586.9000  21720.3000   \n",
       "140      Short 2024-03-07 10:15:00+05:30   22443.8000  22523.6500   \n",
       "141      Short 2024-03-14 13:15:00+05:30   22115.8500  22204.6000   \n",
       "142      Short 2024-04-09 11:45:00+05:30   22719.9500  22768.4000   \n",
       "143      Short 2024-04-22 12:45:00+05:30   22273.4500  22312.1000   \n",
       "144      Short 2024-04-26 09:45:00+05:30   22538.1500  22615.5000   \n",
       "145      Short 2024-04-30 12:45:00+05:30   22714.7000  22756.1000   \n",
       "146      Short 2024-06-06 11:45:00+05:30   22720.7500  22910.1500   \n",
       "147      Short 2024-06-26 15:15:00+05:30   23840.2500  23889.9000   \n",
       "148      Short 2024-07-19 09:15:00+05:30   24747.5500  24854.8000   \n",
       "149      Short 2024-08-01 11:15:00+05:30   24998.7000  25059.0000   \n",
       "150      Short 2024-10-28 13:45:00+05:30   24382.4000  24492.6000   \n",
       "151      Short 2024-11-19 13:45:00+05:30   23707.3500  23771.7000   \n",
       "152      Short 2024-11-27 14:45:00+05:30   24274.1000  24354.5500   \n",
       "153      Short 2024-12-11 12:15:00+05:30   24640.7500  24691.7500   \n",
       "\n",
       "     Trailing SL                 Exit Time  Exit Price  Points Captured  \\\n",
       "137       0.0000 2024-01-04 15:15:00+05:30  21669.6000         -24.9000   \n",
       "138   21589.2877 2024-01-09 09:15:00+05:30  21607.7000          85.4500   \n",
       "139   21627.8834 2024-01-23 09:15:00+05:30  21722.3000        -135.4000   \n",
       "140       0.0000 2024-03-07 13:45:00+05:30  22499.2000         -55.4000   \n",
       "141   22000.5363 2024-03-18 11:45:00+05:30  22034.1000          81.7500   \n",
       "142   22672.0021 2024-04-10 09:15:00+05:30  22720.7500          -0.8000   \n",
       "143       0.0000 2024-04-22 14:15:00+05:30  22313.5000         -40.0500   \n",
       "144   22477.9306 2024-04-29 09:15:00+05:30  22488.1000          50.0500   \n",
       "145       0.0000 2024-04-30 13:45:00+05:30  22768.0500         -53.3500   \n",
       "146       0.0000 2024-06-07 09:15:00+05:30  22942.5000        -221.7500   \n",
       "147       0.0000 2024-06-27 09:45:00+05:30  23945.9500        -105.7000   \n",
       "148   24512.9918 2024-07-23 10:45:00+05:30  24542.5500         205.0000   \n",
       "149   24807.8814 2024-08-02 14:45:00+05:30  24697.2000         301.5000   \n",
       "150   24283.8558 2024-10-29 11:45:00+05:30  24293.7500          88.6500   \n",
       "151   23586.6427 2024-11-21 09:15:00+05:30  23385.6000         321.7500   \n",
       "152   24034.6384 2024-11-29 10:15:00+05:30  24082.3500         191.7500   \n",
       "153   24555.3713 2024-12-13 09:15:00+05:30  24385.7500         255.0000   \n",
       "\n",
       "     Slippage in Points  After Costs          PnL      Remarks   Qty  \\\n",
       "137              8.6629     -33.5629 -123343.5105   Initial SL  3675   \n",
       "138              8.6602      76.7898  282202.6253  Trailing SL  3675   \n",
       "139              8.6618    -144.0618 -529427.2620       Gap SL  3675   \n",
       "140              8.9886     -64.3886 -231798.9600   Initial SL  3600   \n",
       "141              8.8300      72.9200  262512.0360  Trailing SL  3600   \n",
       "142              9.0881      -9.8881  -34855.6935  Trailing SL  3525   \n",
       "143              8.9174     -48.9674 -176282.6040   Initial SL  3600   \n",
       "144              9.0053      41.0448  144682.7438  Trailing SL  3525   \n",
       "145              9.0966     -62.4465 -220124.0887   Initial SL  3525   \n",
       "146              9.1326    -230.8827 -813861.3413   Initial SL  3525   \n",
       "147              9.5572    -115.2572 -388993.1850   Initial SL  3375   \n",
       "148              9.8580     195.1420  629332.8855  Trailing SL  3225   \n",
       "149              9.9392     291.5608  940283.6445       Target  3225   \n",
       "150              9.7352      78.9148  260418.7410  Trailing SL  3300   \n",
       "151              9.4186     312.3314 1054118.5088       Target  3375   \n",
       "152              9.6713     182.0787  600859.7430  Trailing SL  3300   \n",
       "153              9.8053     245.1947  790752.9075       Target  3225   \n",
       "\n",
       "     Leverage    ROI%  Trade Year  Trade Month  \n",
       "137         8 -1.2334        2024            1  \n",
       "138         8  2.8220        2024            1  \n",
       "139         8 -5.2943        2024            1  \n",
       "140         8 -2.3180        2024            3  \n",
       "141         8  2.6251        2024            3  \n",
       "142         8 -0.3486        2024            4  \n",
       "143         8 -1.7628        2024            4  \n",
       "144         8  1.4468        2024            4  \n",
       "145         8 -2.2012        2024            4  \n",
       "146         8 -8.1386        2024            6  \n",
       "147         8 -3.8899        2024            6  \n",
       "148         8  6.2933        2024            7  \n",
       "149         8  9.4028        2024            8  \n",
       "150         8  2.6042        2024           10  \n",
       "151         8 10.5412        2024           11  \n",
       "152         8  6.0086        2024           11  \n",
       "153         8  7.9075        2024           12  "
      ]
     },
     "execution_count": 27,
     "metadata": {},
     "output_type": "execute_result"
    }
   ],
   "source": [
    "tb[tb['Trade Year'] > 2023]"
   ]
  },
  {
   "cell_type": "code",
   "execution_count": 28,
   "id": "6f8c0927-53bc-4099-ba18-acb073499896",
   "metadata": {
    "execution": {
     "iopub.execute_input": "2024-12-29T14:26:14.929296Z",
     "iopub.status.busy": "2024-12-29T14:26:14.928954Z",
     "iopub.status.idle": "2024-12-29T15:19:50.030715Z",
     "shell.execute_reply": "2024-12-29T15:19:50.029395Z",
     "shell.execute_reply.started": "2024-12-29T14:26:14.929274Z"
    },
    "scrolled": true
   },
   "outputs": [
    {
     "name": "stdout",
     "output_type": "stream",
     "text": [
      "n 2, rsi 14, threshold 30, ema 5\n",
      "n 2, rsi 14, threshold 30, ema 10\n",
      "n 2, rsi 14, threshold 30, ema 15\n",
      "n 2, rsi 14, threshold 30, ema 20\n",
      "n 2, rsi 14, threshold 30, ema 25\n",
      "n 2, rsi 14, threshold 30, ema 30\n",
      "n 2, rsi 14, threshold 30, ema 35\n",
      "n 2, rsi 14, threshold 35, ema 5\n",
      "n 2, rsi 14, threshold 35, ema 10\n",
      "n 2, rsi 14, threshold 35, ema 15\n",
      "n 2, rsi 14, threshold 35, ema 20\n",
      "n 2, rsi 14, threshold 35, ema 25\n",
      "n 2, rsi 14, threshold 35, ema 30\n",
      "n 2, rsi 14, threshold 35, ema 35\n",
      "n 2, rsi 14, threshold 40, ema 5\n",
      "n 2, rsi 14, threshold 40, ema 10\n",
      "n 2, rsi 14, threshold 40, ema 15\n",
      "n 2, rsi 14, threshold 40, ema 20\n",
      "n 2, rsi 14, threshold 40, ema 25\n",
      "n 2, rsi 14, threshold 40, ema 30\n",
      "n 2, rsi 14, threshold 40, ema 35\n",
      "n 2, rsi 14, threshold 45, ema 5\n",
      "n 2, rsi 14, threshold 45, ema 10\n",
      "n 2, rsi 14, threshold 45, ema 15\n",
      "n 2, rsi 14, threshold 45, ema 20\n",
      "n 2, rsi 14, threshold 45, ema 25\n",
      "n 2, rsi 14, threshold 45, ema 30\n",
      "n 2, rsi 14, threshold 45, ema 35\n",
      "n 2, rsi 14, threshold 50, ema 5\n",
      "n 2, rsi 14, threshold 50, ema 10\n",
      "n 2, rsi 14, threshold 50, ema 15\n",
      "n 2, rsi 14, threshold 50, ema 20\n",
      "n 2, rsi 14, threshold 50, ema 25\n",
      "n 2, rsi 14, threshold 50, ema 30\n",
      "n 2, rsi 14, threshold 50, ema 35\n",
      "n 2, rsi 14, threshold 55, ema 5\n",
      "n 2, rsi 14, threshold 55, ema 10\n",
      "n 2, rsi 14, threshold 55, ema 15\n",
      "n 2, rsi 14, threshold 55, ema 20\n",
      "n 2, rsi 14, threshold 55, ema 25\n",
      "n 2, rsi 14, threshold 55, ema 30\n",
      "n 2, rsi 14, threshold 55, ema 35\n",
      "n 2, rsi 14, threshold 60, ema 5\n",
      "n 2, rsi 14, threshold 60, ema 10\n",
      "n 2, rsi 14, threshold 60, ema 15\n",
      "n 2, rsi 14, threshold 60, ema 20\n",
      "n 2, rsi 14, threshold 60, ema 25\n",
      "n 2, rsi 14, threshold 60, ema 30\n",
      "n 2, rsi 14, threshold 60, ema 35\n",
      "n 2, rsi 14, threshold 65, ema 5\n",
      "n 2, rsi 14, threshold 65, ema 10\n",
      "n 2, rsi 14, threshold 65, ema 15\n",
      "n 2, rsi 14, threshold 65, ema 20\n",
      "n 2, rsi 14, threshold 65, ema 25\n",
      "n 2, rsi 14, threshold 65, ema 30\n",
      "n 2, rsi 14, threshold 65, ema 35\n",
      "n 2, rsi 14, threshold 70, ema 5\n"
     ]
    },
    {
     "name": "stderr",
     "output_type": "stream",
     "text": [
      "/tmp/ipykernel_35588/873016624.py:45: RuntimeWarning: divide by zero encountered in scalar divide\n",
      "  roi_dd_ratio = total_roi / abs(max_drawdown)\n"
     ]
    },
    {
     "name": "stdout",
     "output_type": "stream",
     "text": [
      "n 2, rsi 14, threshold 70, ema 10\n"
     ]
    },
    {
     "name": "stderr",
     "output_type": "stream",
     "text": [
      "/tmp/ipykernel_35588/873016624.py:45: RuntimeWarning: divide by zero encountered in scalar divide\n",
      "  roi_dd_ratio = total_roi / abs(max_drawdown)\n"
     ]
    },
    {
     "name": "stdout",
     "output_type": "stream",
     "text": [
      "n 2, rsi 14, threshold 70, ema 15\n"
     ]
    },
    {
     "name": "stderr",
     "output_type": "stream",
     "text": [
      "/tmp/ipykernel_35588/873016624.py:45: RuntimeWarning: divide by zero encountered in scalar divide\n",
      "  roi_dd_ratio = total_roi / abs(max_drawdown)\n"
     ]
    },
    {
     "name": "stdout",
     "output_type": "stream",
     "text": [
      "n 2, rsi 14, threshold 70, ema 20\n"
     ]
    },
    {
     "name": "stderr",
     "output_type": "stream",
     "text": [
      "/tmp/ipykernel_35588/873016624.py:45: RuntimeWarning: divide by zero encountered in scalar divide\n",
      "  roi_dd_ratio = total_roi / abs(max_drawdown)\n"
     ]
    },
    {
     "name": "stdout",
     "output_type": "stream",
     "text": [
      "n 2, rsi 14, threshold 70, ema 25\n"
     ]
    },
    {
     "name": "stderr",
     "output_type": "stream",
     "text": [
      "/tmp/ipykernel_35588/873016624.py:45: RuntimeWarning: divide by zero encountered in scalar divide\n",
      "  roi_dd_ratio = total_roi / abs(max_drawdown)\n"
     ]
    },
    {
     "name": "stdout",
     "output_type": "stream",
     "text": [
      "n 2, rsi 14, threshold 70, ema 30\n"
     ]
    },
    {
     "name": "stderr",
     "output_type": "stream",
     "text": [
      "/tmp/ipykernel_35588/873016624.py:45: RuntimeWarning: divide by zero encountered in scalar divide\n",
      "  roi_dd_ratio = total_roi / abs(max_drawdown)\n"
     ]
    },
    {
     "name": "stdout",
     "output_type": "stream",
     "text": [
      "n 2, rsi 14, threshold 70, ema 35\n"
     ]
    },
    {
     "name": "stderr",
     "output_type": "stream",
     "text": [
      "/tmp/ipykernel_35588/873016624.py:45: RuntimeWarning: divide by zero encountered in scalar divide\n",
      "  roi_dd_ratio = total_roi / abs(max_drawdown)\n"
     ]
    },
    {
     "name": "stdout",
     "output_type": "stream",
     "text": [
      "n 2, rsi 14, threshold 75, ema 5\n"
     ]
    },
    {
     "name": "stderr",
     "output_type": "stream",
     "text": [
      "/tmp/ipykernel_35588/873016624.py:45: RuntimeWarning: divide by zero encountered in scalar divide\n",
      "  roi_dd_ratio = total_roi / abs(max_drawdown)\n"
     ]
    },
    {
     "name": "stdout",
     "output_type": "stream",
     "text": [
      "n 2, rsi 14, threshold 75, ema 10\n"
     ]
    },
    {
     "name": "stderr",
     "output_type": "stream",
     "text": [
      "/tmp/ipykernel_35588/873016624.py:45: RuntimeWarning: divide by zero encountered in scalar divide\n",
      "  roi_dd_ratio = total_roi / abs(max_drawdown)\n"
     ]
    },
    {
     "name": "stdout",
     "output_type": "stream",
     "text": [
      "n 2, rsi 14, threshold 75, ema 15\n"
     ]
    },
    {
     "name": "stderr",
     "output_type": "stream",
     "text": [
      "/tmp/ipykernel_35588/873016624.py:45: RuntimeWarning: divide by zero encountered in scalar divide\n",
      "  roi_dd_ratio = total_roi / abs(max_drawdown)\n"
     ]
    },
    {
     "name": "stdout",
     "output_type": "stream",
     "text": [
      "n 2, rsi 14, threshold 75, ema 20\n"
     ]
    },
    {
     "name": "stderr",
     "output_type": "stream",
     "text": [
      "/tmp/ipykernel_35588/873016624.py:45: RuntimeWarning: divide by zero encountered in scalar divide\n",
      "  roi_dd_ratio = total_roi / abs(max_drawdown)\n"
     ]
    },
    {
     "name": "stdout",
     "output_type": "stream",
     "text": [
      "n 2, rsi 14, threshold 75, ema 25\n"
     ]
    },
    {
     "name": "stderr",
     "output_type": "stream",
     "text": [
      "/tmp/ipykernel_35588/873016624.py:45: RuntimeWarning: divide by zero encountered in scalar divide\n",
      "  roi_dd_ratio = total_roi / abs(max_drawdown)\n"
     ]
    },
    {
     "name": "stdout",
     "output_type": "stream",
     "text": [
      "n 2, rsi 14, threshold 75, ema 30\n"
     ]
    },
    {
     "name": "stderr",
     "output_type": "stream",
     "text": [
      "/tmp/ipykernel_35588/873016624.py:45: RuntimeWarning: divide by zero encountered in scalar divide\n",
      "  roi_dd_ratio = total_roi / abs(max_drawdown)\n"
     ]
    },
    {
     "name": "stdout",
     "output_type": "stream",
     "text": [
      "n 2, rsi 14, threshold 75, ema 35\n"
     ]
    },
    {
     "name": "stderr",
     "output_type": "stream",
     "text": [
      "/tmp/ipykernel_35588/873016624.py:45: RuntimeWarning: divide by zero encountered in scalar divide\n",
      "  roi_dd_ratio = total_roi / abs(max_drawdown)\n"
     ]
    },
    {
     "name": "stdout",
     "output_type": "stream",
     "text": [
      "n 2, rsi 14, threshold 80, ema 5\n",
      "n 2, rsi 14, threshold 80, ema 10\n",
      "n 2, rsi 14, threshold 80, ema 15\n",
      "n 2, rsi 14, threshold 80, ema 20\n",
      "n 2, rsi 14, threshold 80, ema 25\n",
      "n 2, rsi 14, threshold 80, ema 30\n",
      "n 2, rsi 14, threshold 80, ema 35\n",
      "n 2, rsi 9, threshold 30, ema 5\n",
      "n 2, rsi 9, threshold 30, ema 10\n",
      "n 2, rsi 9, threshold 30, ema 15\n",
      "n 2, rsi 9, threshold 30, ema 20\n",
      "n 2, rsi 9, threshold 30, ema 25\n",
      "n 2, rsi 9, threshold 30, ema 30\n",
      "n 2, rsi 9, threshold 30, ema 35\n",
      "n 2, rsi 9, threshold 35, ema 5\n",
      "n 2, rsi 9, threshold 35, ema 10\n",
      "n 2, rsi 9, threshold 35, ema 15\n",
      "n 2, rsi 9, threshold 35, ema 20\n",
      "n 2, rsi 9, threshold 35, ema 25\n",
      "n 2, rsi 9, threshold 35, ema 30\n",
      "n 2, rsi 9, threshold 35, ema 35\n",
      "n 2, rsi 9, threshold 40, ema 5\n",
      "n 2, rsi 9, threshold 40, ema 10\n",
      "n 2, rsi 9, threshold 40, ema 15\n",
      "n 2, rsi 9, threshold 40, ema 20\n",
      "n 2, rsi 9, threshold 40, ema 25\n",
      "n 2, rsi 9, threshold 40, ema 30\n",
      "n 2, rsi 9, threshold 40, ema 35\n",
      "n 2, rsi 9, threshold 45, ema 5\n",
      "n 2, rsi 9, threshold 45, ema 10\n",
      "n 2, rsi 9, threshold 45, ema 15\n",
      "n 2, rsi 9, threshold 45, ema 20\n",
      "n 2, rsi 9, threshold 45, ema 25\n",
      "n 2, rsi 9, threshold 45, ema 30\n",
      "n 2, rsi 9, threshold 45, ema 35\n",
      "n 2, rsi 9, threshold 50, ema 5\n",
      "n 2, rsi 9, threshold 50, ema 10\n",
      "n 2, rsi 9, threshold 50, ema 15\n",
      "n 2, rsi 9, threshold 50, ema 20\n",
      "n 2, rsi 9, threshold 50, ema 25\n",
      "n 2, rsi 9, threshold 50, ema 30\n",
      "n 2, rsi 9, threshold 50, ema 35\n",
      "n 2, rsi 9, threshold 55, ema 5\n",
      "n 2, rsi 9, threshold 55, ema 10\n",
      "n 2, rsi 9, threshold 55, ema 15\n",
      "n 2, rsi 9, threshold 55, ema 20\n",
      "n 2, rsi 9, threshold 55, ema 25\n",
      "n 2, rsi 9, threshold 55, ema 30\n",
      "n 2, rsi 9, threshold 55, ema 35\n",
      "n 2, rsi 9, threshold 60, ema 5\n",
      "n 2, rsi 9, threshold 60, ema 10\n",
      "n 2, rsi 9, threshold 60, ema 15\n",
      "n 2, rsi 9, threshold 60, ema 20\n",
      "n 2, rsi 9, threshold 60, ema 25\n",
      "n 2, rsi 9, threshold 60, ema 30\n",
      "n 2, rsi 9, threshold 60, ema 35\n",
      "n 2, rsi 9, threshold 65, ema 5\n",
      "n 2, rsi 9, threshold 65, ema 10\n",
      "n 2, rsi 9, threshold 65, ema 15\n",
      "n 2, rsi 9, threshold 65, ema 20\n",
      "n 2, rsi 9, threshold 65, ema 25\n",
      "n 2, rsi 9, threshold 65, ema 30\n",
      "n 2, rsi 9, threshold 65, ema 35\n",
      "n 2, rsi 9, threshold 70, ema 5\n",
      "n 2, rsi 9, threshold 70, ema 10\n",
      "n 2, rsi 9, threshold 70, ema 15\n",
      "n 2, rsi 9, threshold 70, ema 20\n",
      "n 2, rsi 9, threshold 70, ema 25\n",
      "n 2, rsi 9, threshold 70, ema 30\n",
      "n 2, rsi 9, threshold 70, ema 35\n",
      "n 2, rsi 9, threshold 75, ema 5\n"
     ]
    },
    {
     "name": "stderr",
     "output_type": "stream",
     "text": [
      "/tmp/ipykernel_35588/873016624.py:45: RuntimeWarning: divide by zero encountered in scalar divide\n",
      "  roi_dd_ratio = total_roi / abs(max_drawdown)\n"
     ]
    },
    {
     "name": "stdout",
     "output_type": "stream",
     "text": [
      "n 2, rsi 9, threshold 75, ema 10\n"
     ]
    },
    {
     "name": "stderr",
     "output_type": "stream",
     "text": [
      "/tmp/ipykernel_35588/873016624.py:45: RuntimeWarning: divide by zero encountered in scalar divide\n",
      "  roi_dd_ratio = total_roi / abs(max_drawdown)\n"
     ]
    },
    {
     "name": "stdout",
     "output_type": "stream",
     "text": [
      "n 2, rsi 9, threshold 75, ema 15\n"
     ]
    },
    {
     "name": "stderr",
     "output_type": "stream",
     "text": [
      "/tmp/ipykernel_35588/873016624.py:45: RuntimeWarning: divide by zero encountered in scalar divide\n",
      "  roi_dd_ratio = total_roi / abs(max_drawdown)\n"
     ]
    },
    {
     "name": "stdout",
     "output_type": "stream",
     "text": [
      "n 2, rsi 9, threshold 75, ema 20\n"
     ]
    },
    {
     "name": "stderr",
     "output_type": "stream",
     "text": [
      "/tmp/ipykernel_35588/873016624.py:45: RuntimeWarning: divide by zero encountered in scalar divide\n",
      "  roi_dd_ratio = total_roi / abs(max_drawdown)\n"
     ]
    },
    {
     "name": "stdout",
     "output_type": "stream",
     "text": [
      "n 2, rsi 9, threshold 75, ema 25\n"
     ]
    },
    {
     "name": "stderr",
     "output_type": "stream",
     "text": [
      "/tmp/ipykernel_35588/873016624.py:45: RuntimeWarning: divide by zero encountered in scalar divide\n",
      "  roi_dd_ratio = total_roi / abs(max_drawdown)\n"
     ]
    },
    {
     "name": "stdout",
     "output_type": "stream",
     "text": [
      "n 2, rsi 9, threshold 75, ema 30\n"
     ]
    },
    {
     "name": "stderr",
     "output_type": "stream",
     "text": [
      "/tmp/ipykernel_35588/873016624.py:45: RuntimeWarning: divide by zero encountered in scalar divide\n",
      "  roi_dd_ratio = total_roi / abs(max_drawdown)\n"
     ]
    },
    {
     "name": "stdout",
     "output_type": "stream",
     "text": [
      "n 2, rsi 9, threshold 75, ema 35\n"
     ]
    },
    {
     "name": "stderr",
     "output_type": "stream",
     "text": [
      "/tmp/ipykernel_35588/873016624.py:45: RuntimeWarning: divide by zero encountered in scalar divide\n",
      "  roi_dd_ratio = total_roi / abs(max_drawdown)\n"
     ]
    },
    {
     "name": "stdout",
     "output_type": "stream",
     "text": [
      "n 2, rsi 9, threshold 80, ema 5\n"
     ]
    },
    {
     "name": "stderr",
     "output_type": "stream",
     "text": [
      "/tmp/ipykernel_35588/873016624.py:45: RuntimeWarning: divide by zero encountered in scalar divide\n",
      "  roi_dd_ratio = total_roi / abs(max_drawdown)\n",
      "/tmp/ipykernel_35588/873016624.py:70: RuntimeWarning: divide by zero encountered in scalar divide\n",
      "  overall_roi_dd_ratio = overall_total_roi / abs(overall_max_drawdown)\n"
     ]
    },
    {
     "name": "stdout",
     "output_type": "stream",
     "text": [
      "n 2, rsi 9, threshold 80, ema 10\n"
     ]
    },
    {
     "name": "stderr",
     "output_type": "stream",
     "text": [
      "/tmp/ipykernel_35588/873016624.py:45: RuntimeWarning: divide by zero encountered in scalar divide\n",
      "  roi_dd_ratio = total_roi / abs(max_drawdown)\n",
      "/tmp/ipykernel_35588/873016624.py:70: RuntimeWarning: divide by zero encountered in scalar divide\n",
      "  overall_roi_dd_ratio = overall_total_roi / abs(overall_max_drawdown)\n"
     ]
    },
    {
     "name": "stdout",
     "output_type": "stream",
     "text": [
      "n 2, rsi 9, threshold 80, ema 15\n"
     ]
    },
    {
     "name": "stderr",
     "output_type": "stream",
     "text": [
      "/tmp/ipykernel_35588/873016624.py:45: RuntimeWarning: divide by zero encountered in scalar divide\n",
      "  roi_dd_ratio = total_roi / abs(max_drawdown)\n",
      "/tmp/ipykernel_35588/873016624.py:70: RuntimeWarning: divide by zero encountered in scalar divide\n",
      "  overall_roi_dd_ratio = overall_total_roi / abs(overall_max_drawdown)\n"
     ]
    },
    {
     "name": "stdout",
     "output_type": "stream",
     "text": [
      "n 2, rsi 9, threshold 80, ema 20\n"
     ]
    },
    {
     "name": "stderr",
     "output_type": "stream",
     "text": [
      "/tmp/ipykernel_35588/873016624.py:45: RuntimeWarning: divide by zero encountered in scalar divide\n",
      "  roi_dd_ratio = total_roi / abs(max_drawdown)\n",
      "/tmp/ipykernel_35588/873016624.py:70: RuntimeWarning: divide by zero encountered in scalar divide\n",
      "  overall_roi_dd_ratio = overall_total_roi / abs(overall_max_drawdown)\n"
     ]
    },
    {
     "name": "stdout",
     "output_type": "stream",
     "text": [
      "n 2, rsi 9, threshold 80, ema 25\n"
     ]
    },
    {
     "name": "stderr",
     "output_type": "stream",
     "text": [
      "/tmp/ipykernel_35588/873016624.py:45: RuntimeWarning: divide by zero encountered in scalar divide\n",
      "  roi_dd_ratio = total_roi / abs(max_drawdown)\n",
      "/tmp/ipykernel_35588/873016624.py:70: RuntimeWarning: divide by zero encountered in scalar divide\n",
      "  overall_roi_dd_ratio = overall_total_roi / abs(overall_max_drawdown)\n"
     ]
    },
    {
     "name": "stdout",
     "output_type": "stream",
     "text": [
      "n 2, rsi 9, threshold 80, ema 30\n"
     ]
    },
    {
     "name": "stderr",
     "output_type": "stream",
     "text": [
      "/tmp/ipykernel_35588/873016624.py:45: RuntimeWarning: divide by zero encountered in scalar divide\n",
      "  roi_dd_ratio = total_roi / abs(max_drawdown)\n",
      "/tmp/ipykernel_35588/873016624.py:70: RuntimeWarning: divide by zero encountered in scalar divide\n",
      "  overall_roi_dd_ratio = overall_total_roi / abs(overall_max_drawdown)\n"
     ]
    },
    {
     "name": "stdout",
     "output_type": "stream",
     "text": [
      "n 2, rsi 9, threshold 80, ema 35\n"
     ]
    },
    {
     "name": "stderr",
     "output_type": "stream",
     "text": [
      "/tmp/ipykernel_35588/873016624.py:45: RuntimeWarning: divide by zero encountered in scalar divide\n",
      "  roi_dd_ratio = total_roi / abs(max_drawdown)\n",
      "/tmp/ipykernel_35588/873016624.py:70: RuntimeWarning: divide by zero encountered in scalar divide\n",
      "  overall_roi_dd_ratio = overall_total_roi / abs(overall_max_drawdown)\n"
     ]
    },
    {
     "name": "stdout",
     "output_type": "stream",
     "text": [
      "n 2, rsi 21, threshold 30, ema 5\n",
      "n 2, rsi 21, threshold 30, ema 10\n",
      "n 2, rsi 21, threshold 30, ema 15\n",
      "n 2, rsi 21, threshold 30, ema 20\n",
      "n 2, rsi 21, threshold 30, ema 25\n",
      "n 2, rsi 21, threshold 30, ema 30\n",
      "n 2, rsi 21, threshold 30, ema 35\n",
      "n 2, rsi 21, threshold 35, ema 5\n",
      "n 2, rsi 21, threshold 35, ema 10\n",
      "n 2, rsi 21, threshold 35, ema 15\n",
      "n 2, rsi 21, threshold 35, ema 20\n",
      "n 2, rsi 21, threshold 35, ema 25\n",
      "n 2, rsi 21, threshold 35, ema 30\n",
      "n 2, rsi 21, threshold 35, ema 35\n",
      "n 2, rsi 21, threshold 40, ema 5\n",
      "n 2, rsi 21, threshold 40, ema 10\n",
      "n 2, rsi 21, threshold 40, ema 15\n",
      "n 2, rsi 21, threshold 40, ema 20\n",
      "n 2, rsi 21, threshold 40, ema 25\n",
      "n 2, rsi 21, threshold 40, ema 30\n",
      "n 2, rsi 21, threshold 40, ema 35\n",
      "n 2, rsi 21, threshold 45, ema 5\n",
      "n 2, rsi 21, threshold 45, ema 10\n",
      "n 2, rsi 21, threshold 45, ema 15\n",
      "n 2, rsi 21, threshold 45, ema 20\n",
      "n 2, rsi 21, threshold 45, ema 25\n",
      "n 2, rsi 21, threshold 45, ema 30\n",
      "n 2, rsi 21, threshold 45, ema 35\n",
      "n 2, rsi 21, threshold 50, ema 5\n",
      "n 2, rsi 21, threshold 50, ema 10\n",
      "n 2, rsi 21, threshold 50, ema 15\n",
      "n 2, rsi 21, threshold 50, ema 20\n",
      "n 2, rsi 21, threshold 50, ema 25\n",
      "n 2, rsi 21, threshold 50, ema 30\n",
      "n 2, rsi 21, threshold 50, ema 35\n",
      "n 2, rsi 21, threshold 55, ema 5\n",
      "n 2, rsi 21, threshold 55, ema 10\n",
      "n 2, rsi 21, threshold 55, ema 15\n",
      "n 2, rsi 21, threshold 55, ema 20\n",
      "n 2, rsi 21, threshold 55, ema 25\n",
      "n 2, rsi 21, threshold 55, ema 30\n",
      "n 2, rsi 21, threshold 55, ema 35\n",
      "n 2, rsi 21, threshold 60, ema 5\n",
      "n 2, rsi 21, threshold 60, ema 10\n",
      "n 2, rsi 21, threshold 60, ema 15\n",
      "n 2, rsi 21, threshold 60, ema 20\n",
      "n 2, rsi 21, threshold 60, ema 25\n",
      "n 2, rsi 21, threshold 60, ema 30\n",
      "n 2, rsi 21, threshold 60, ema 35\n",
      "n 2, rsi 21, threshold 65, ema 5\n",
      "n 2, rsi 21, threshold 65, ema 10\n",
      "n 2, rsi 21, threshold 65, ema 15\n",
      "n 2, rsi 21, threshold 65, ema 20\n",
      "n 2, rsi 21, threshold 65, ema 25\n",
      "n 2, rsi 21, threshold 65, ema 30\n",
      "n 2, rsi 21, threshold 65, ema 35\n",
      "n 2, rsi 21, threshold 70, ema 5\n"
     ]
    },
    {
     "name": "stderr",
     "output_type": "stream",
     "text": [
      "/tmp/ipykernel_35588/873016624.py:45: RuntimeWarning: divide by zero encountered in scalar divide\n",
      "  roi_dd_ratio = total_roi / abs(max_drawdown)\n"
     ]
    },
    {
     "name": "stdout",
     "output_type": "stream",
     "text": [
      "n 2, rsi 21, threshold 70, ema 10\n"
     ]
    },
    {
     "name": "stderr",
     "output_type": "stream",
     "text": [
      "/tmp/ipykernel_35588/873016624.py:45: RuntimeWarning: divide by zero encountered in scalar divide\n",
      "  roi_dd_ratio = total_roi / abs(max_drawdown)\n"
     ]
    },
    {
     "name": "stdout",
     "output_type": "stream",
     "text": [
      "n 2, rsi 21, threshold 70, ema 15\n"
     ]
    },
    {
     "name": "stderr",
     "output_type": "stream",
     "text": [
      "/tmp/ipykernel_35588/873016624.py:45: RuntimeWarning: divide by zero encountered in scalar divide\n",
      "  roi_dd_ratio = total_roi / abs(max_drawdown)\n"
     ]
    },
    {
     "name": "stdout",
     "output_type": "stream",
     "text": [
      "n 2, rsi 21, threshold 70, ema 20\n"
     ]
    },
    {
     "name": "stderr",
     "output_type": "stream",
     "text": [
      "/tmp/ipykernel_35588/873016624.py:45: RuntimeWarning: divide by zero encountered in scalar divide\n",
      "  roi_dd_ratio = total_roi / abs(max_drawdown)\n"
     ]
    },
    {
     "name": "stdout",
     "output_type": "stream",
     "text": [
      "n 2, rsi 21, threshold 70, ema 25\n"
     ]
    },
    {
     "name": "stderr",
     "output_type": "stream",
     "text": [
      "/tmp/ipykernel_35588/873016624.py:45: RuntimeWarning: divide by zero encountered in scalar divide\n",
      "  roi_dd_ratio = total_roi / abs(max_drawdown)\n"
     ]
    },
    {
     "name": "stdout",
     "output_type": "stream",
     "text": [
      "n 2, rsi 21, threshold 70, ema 30\n"
     ]
    },
    {
     "name": "stderr",
     "output_type": "stream",
     "text": [
      "/tmp/ipykernel_35588/873016624.py:45: RuntimeWarning: divide by zero encountered in scalar divide\n",
      "  roi_dd_ratio = total_roi / abs(max_drawdown)\n"
     ]
    },
    {
     "name": "stdout",
     "output_type": "stream",
     "text": [
      "n 2, rsi 21, threshold 70, ema 35\n"
     ]
    },
    {
     "name": "stderr",
     "output_type": "stream",
     "text": [
      "/tmp/ipykernel_35588/873016624.py:45: RuntimeWarning: divide by zero encountered in scalar divide\n",
      "  roi_dd_ratio = total_roi / abs(max_drawdown)\n"
     ]
    },
    {
     "name": "stdout",
     "output_type": "stream",
     "text": [
      "n 2, rsi 21, threshold 75, ema 5\n"
     ]
    },
    {
     "name": "stderr",
     "output_type": "stream",
     "text": [
      "/tmp/ipykernel_35588/873016624.py:45: RuntimeWarning: divide by zero encountered in scalar divide\n",
      "  roi_dd_ratio = total_roi / abs(max_drawdown)\n"
     ]
    },
    {
     "name": "stdout",
     "output_type": "stream",
     "text": [
      "n 2, rsi 21, threshold 75, ema 10\n"
     ]
    },
    {
     "name": "stderr",
     "output_type": "stream",
     "text": [
      "/tmp/ipykernel_35588/873016624.py:45: RuntimeWarning: divide by zero encountered in scalar divide\n",
      "  roi_dd_ratio = total_roi / abs(max_drawdown)\n"
     ]
    },
    {
     "name": "stdout",
     "output_type": "stream",
     "text": [
      "n 2, rsi 21, threshold 75, ema 15\n"
     ]
    },
    {
     "name": "stderr",
     "output_type": "stream",
     "text": [
      "/tmp/ipykernel_35588/873016624.py:45: RuntimeWarning: divide by zero encountered in scalar divide\n",
      "  roi_dd_ratio = total_roi / abs(max_drawdown)\n"
     ]
    },
    {
     "name": "stdout",
     "output_type": "stream",
     "text": [
      "n 2, rsi 21, threshold 75, ema 20\n"
     ]
    },
    {
     "name": "stderr",
     "output_type": "stream",
     "text": [
      "/tmp/ipykernel_35588/873016624.py:45: RuntimeWarning: divide by zero encountered in scalar divide\n",
      "  roi_dd_ratio = total_roi / abs(max_drawdown)\n"
     ]
    },
    {
     "name": "stdout",
     "output_type": "stream",
     "text": [
      "n 2, rsi 21, threshold 75, ema 25\n"
     ]
    },
    {
     "name": "stderr",
     "output_type": "stream",
     "text": [
      "/tmp/ipykernel_35588/873016624.py:45: RuntimeWarning: divide by zero encountered in scalar divide\n",
      "  roi_dd_ratio = total_roi / abs(max_drawdown)\n"
     ]
    },
    {
     "name": "stdout",
     "output_type": "stream",
     "text": [
      "n 2, rsi 21, threshold 75, ema 30\n"
     ]
    },
    {
     "name": "stderr",
     "output_type": "stream",
     "text": [
      "/tmp/ipykernel_35588/873016624.py:45: RuntimeWarning: divide by zero encountered in scalar divide\n",
      "  roi_dd_ratio = total_roi / abs(max_drawdown)\n"
     ]
    },
    {
     "name": "stdout",
     "output_type": "stream",
     "text": [
      "n 2, rsi 21, threshold 75, ema 35\n"
     ]
    },
    {
     "name": "stderr",
     "output_type": "stream",
     "text": [
      "/tmp/ipykernel_35588/873016624.py:45: RuntimeWarning: divide by zero encountered in scalar divide\n",
      "  roi_dd_ratio = total_roi / abs(max_drawdown)\n"
     ]
    },
    {
     "name": "stdout",
     "output_type": "stream",
     "text": [
      "n 2, rsi 21, threshold 80, ema 5\n",
      "n 2, rsi 21, threshold 80, ema 10\n",
      "n 2, rsi 21, threshold 80, ema 15\n",
      "n 2, rsi 21, threshold 80, ema 20\n",
      "n 2, rsi 21, threshold 80, ema 25\n",
      "n 2, rsi 21, threshold 80, ema 30\n",
      "n 2, rsi 21, threshold 80, ema 35\n",
      "n 2, rsi 6, threshold 30, ema 5\n",
      "n 2, rsi 6, threshold 30, ema 10\n",
      "n 2, rsi 6, threshold 30, ema 15\n",
      "n 2, rsi 6, threshold 30, ema 20\n",
      "n 2, rsi 6, threshold 30, ema 25\n",
      "n 2, rsi 6, threshold 30, ema 30\n",
      "n 2, rsi 6, threshold 30, ema 35\n",
      "n 2, rsi 6, threshold 35, ema 5\n",
      "n 2, rsi 6, threshold 35, ema 10\n",
      "n 2, rsi 6, threshold 35, ema 15\n",
      "n 2, rsi 6, threshold 35, ema 20\n",
      "n 2, rsi 6, threshold 35, ema 25\n",
      "n 2, rsi 6, threshold 35, ema 30\n",
      "n 2, rsi 6, threshold 35, ema 35\n",
      "n 2, rsi 6, threshold 40, ema 5\n",
      "n 2, rsi 6, threshold 40, ema 10\n",
      "n 2, rsi 6, threshold 40, ema 15\n",
      "n 2, rsi 6, threshold 40, ema 20\n",
      "n 2, rsi 6, threshold 40, ema 25\n",
      "n 2, rsi 6, threshold 40, ema 30\n",
      "n 2, rsi 6, threshold 40, ema 35\n",
      "n 2, rsi 6, threshold 45, ema 5\n",
      "n 2, rsi 6, threshold 45, ema 10\n",
      "n 2, rsi 6, threshold 45, ema 15\n",
      "n 2, rsi 6, threshold 45, ema 20\n",
      "n 2, rsi 6, threshold 45, ema 25\n",
      "n 2, rsi 6, threshold 45, ema 30\n",
      "n 2, rsi 6, threshold 45, ema 35\n",
      "n 2, rsi 6, threshold 50, ema 5\n",
      "n 2, rsi 6, threshold 50, ema 10\n",
      "n 2, rsi 6, threshold 50, ema 15\n",
      "n 2, rsi 6, threshold 50, ema 20\n",
      "n 2, rsi 6, threshold 50, ema 25\n",
      "n 2, rsi 6, threshold 50, ema 30\n",
      "n 2, rsi 6, threshold 50, ema 35\n",
      "n 2, rsi 6, threshold 55, ema 5\n",
      "n 2, rsi 6, threshold 55, ema 10\n",
      "n 2, rsi 6, threshold 55, ema 15\n",
      "n 2, rsi 6, threshold 55, ema 20\n",
      "n 2, rsi 6, threshold 55, ema 25\n",
      "n 2, rsi 6, threshold 55, ema 30\n",
      "n 2, rsi 6, threshold 55, ema 35\n",
      "n 2, rsi 6, threshold 60, ema 5\n",
      "n 2, rsi 6, threshold 60, ema 10\n",
      "n 2, rsi 6, threshold 60, ema 15\n",
      "n 2, rsi 6, threshold 60, ema 20\n",
      "n 2, rsi 6, threshold 60, ema 25\n",
      "n 2, rsi 6, threshold 60, ema 30\n",
      "n 2, rsi 6, threshold 60, ema 35\n",
      "n 2, rsi 6, threshold 65, ema 5\n",
      "n 2, rsi 6, threshold 65, ema 10\n",
      "n 2, rsi 6, threshold 65, ema 15\n",
      "n 2, rsi 6, threshold 65, ema 20\n",
      "n 2, rsi 6, threshold 65, ema 25\n",
      "n 2, rsi 6, threshold 65, ema 30\n",
      "n 2, rsi 6, threshold 65, ema 35\n",
      "n 2, rsi 6, threshold 70, ema 5\n"
     ]
    },
    {
     "name": "stderr",
     "output_type": "stream",
     "text": [
      "/tmp/ipykernel_35588/873016624.py:45: RuntimeWarning: divide by zero encountered in scalar divide\n",
      "  roi_dd_ratio = total_roi / abs(max_drawdown)\n"
     ]
    },
    {
     "name": "stdout",
     "output_type": "stream",
     "text": [
      "n 2, rsi 6, threshold 70, ema 10\n"
     ]
    },
    {
     "name": "stderr",
     "output_type": "stream",
     "text": [
      "/tmp/ipykernel_35588/873016624.py:45: RuntimeWarning: divide by zero encountered in scalar divide\n",
      "  roi_dd_ratio = total_roi / abs(max_drawdown)\n"
     ]
    },
    {
     "name": "stdout",
     "output_type": "stream",
     "text": [
      "n 2, rsi 6, threshold 70, ema 15\n"
     ]
    },
    {
     "name": "stderr",
     "output_type": "stream",
     "text": [
      "/tmp/ipykernel_35588/873016624.py:45: RuntimeWarning: divide by zero encountered in scalar divide\n",
      "  roi_dd_ratio = total_roi / abs(max_drawdown)\n"
     ]
    },
    {
     "name": "stdout",
     "output_type": "stream",
     "text": [
      "n 2, rsi 6, threshold 70, ema 20\n"
     ]
    },
    {
     "name": "stderr",
     "output_type": "stream",
     "text": [
      "/tmp/ipykernel_35588/873016624.py:45: RuntimeWarning: divide by zero encountered in scalar divide\n",
      "  roi_dd_ratio = total_roi / abs(max_drawdown)\n"
     ]
    },
    {
     "name": "stdout",
     "output_type": "stream",
     "text": [
      "n 2, rsi 6, threshold 70, ema 25\n"
     ]
    },
    {
     "name": "stderr",
     "output_type": "stream",
     "text": [
      "/tmp/ipykernel_35588/873016624.py:45: RuntimeWarning: divide by zero encountered in scalar divide\n",
      "  roi_dd_ratio = total_roi / abs(max_drawdown)\n"
     ]
    },
    {
     "name": "stdout",
     "output_type": "stream",
     "text": [
      "n 2, rsi 6, threshold 70, ema 30\n"
     ]
    },
    {
     "name": "stderr",
     "output_type": "stream",
     "text": [
      "/tmp/ipykernel_35588/873016624.py:45: RuntimeWarning: divide by zero encountered in scalar divide\n",
      "  roi_dd_ratio = total_roi / abs(max_drawdown)\n"
     ]
    },
    {
     "name": "stdout",
     "output_type": "stream",
     "text": [
      "n 2, rsi 6, threshold 70, ema 35\n"
     ]
    },
    {
     "name": "stderr",
     "output_type": "stream",
     "text": [
      "/tmp/ipykernel_35588/873016624.py:45: RuntimeWarning: divide by zero encountered in scalar divide\n",
      "  roi_dd_ratio = total_roi / abs(max_drawdown)\n"
     ]
    },
    {
     "name": "stdout",
     "output_type": "stream",
     "text": [
      "n 2, rsi 6, threshold 75, ema 5\n"
     ]
    },
    {
     "name": "stderr",
     "output_type": "stream",
     "text": [
      "/tmp/ipykernel_35588/873016624.py:45: RuntimeWarning: divide by zero encountered in scalar divide\n",
      "  roi_dd_ratio = total_roi / abs(max_drawdown)\n"
     ]
    },
    {
     "name": "stdout",
     "output_type": "stream",
     "text": [
      "n 2, rsi 6, threshold 75, ema 10\n"
     ]
    },
    {
     "name": "stderr",
     "output_type": "stream",
     "text": [
      "/tmp/ipykernel_35588/873016624.py:45: RuntimeWarning: divide by zero encountered in scalar divide\n",
      "  roi_dd_ratio = total_roi / abs(max_drawdown)\n"
     ]
    },
    {
     "name": "stdout",
     "output_type": "stream",
     "text": [
      "n 2, rsi 6, threshold 75, ema 15\n"
     ]
    },
    {
     "name": "stderr",
     "output_type": "stream",
     "text": [
      "/tmp/ipykernel_35588/873016624.py:45: RuntimeWarning: divide by zero encountered in scalar divide\n",
      "  roi_dd_ratio = total_roi / abs(max_drawdown)\n"
     ]
    },
    {
     "name": "stdout",
     "output_type": "stream",
     "text": [
      "n 2, rsi 6, threshold 75, ema 20\n"
     ]
    },
    {
     "name": "stderr",
     "output_type": "stream",
     "text": [
      "/tmp/ipykernel_35588/873016624.py:45: RuntimeWarning: divide by zero encountered in scalar divide\n",
      "  roi_dd_ratio = total_roi / abs(max_drawdown)\n"
     ]
    },
    {
     "name": "stdout",
     "output_type": "stream",
     "text": [
      "n 2, rsi 6, threshold 75, ema 25\n"
     ]
    },
    {
     "name": "stderr",
     "output_type": "stream",
     "text": [
      "/tmp/ipykernel_35588/873016624.py:45: RuntimeWarning: divide by zero encountered in scalar divide\n",
      "  roi_dd_ratio = total_roi / abs(max_drawdown)\n"
     ]
    },
    {
     "name": "stdout",
     "output_type": "stream",
     "text": [
      "n 2, rsi 6, threshold 75, ema 30\n"
     ]
    },
    {
     "name": "stderr",
     "output_type": "stream",
     "text": [
      "/tmp/ipykernel_35588/873016624.py:45: RuntimeWarning: divide by zero encountered in scalar divide\n",
      "  roi_dd_ratio = total_roi / abs(max_drawdown)\n"
     ]
    },
    {
     "name": "stdout",
     "output_type": "stream",
     "text": [
      "n 2, rsi 6, threshold 75, ema 35\n"
     ]
    },
    {
     "name": "stderr",
     "output_type": "stream",
     "text": [
      "/tmp/ipykernel_35588/873016624.py:45: RuntimeWarning: divide by zero encountered in scalar divide\n",
      "  roi_dd_ratio = total_roi / abs(max_drawdown)\n"
     ]
    },
    {
     "name": "stdout",
     "output_type": "stream",
     "text": [
      "n 2, rsi 6, threshold 80, ema 5\n",
      "n 2, rsi 6, threshold 80, ema 10\n",
      "n 2, rsi 6, threshold 80, ema 15\n",
      "n 2, rsi 6, threshold 80, ema 20\n",
      "n 2, rsi 6, threshold 80, ema 25\n",
      "n 2, rsi 6, threshold 80, ema 30\n",
      "n 2, rsi 6, threshold 80, ema 35\n",
      "n 2, rsi 12, threshold 30, ema 5\n",
      "n 2, rsi 12, threshold 30, ema 10\n",
      "n 2, rsi 12, threshold 30, ema 15\n",
      "n 2, rsi 12, threshold 30, ema 20\n",
      "n 2, rsi 12, threshold 30, ema 25\n",
      "n 2, rsi 12, threshold 30, ema 30\n",
      "n 2, rsi 12, threshold 30, ema 35\n",
      "n 2, rsi 12, threshold 35, ema 5\n",
      "n 2, rsi 12, threshold 35, ema 10\n",
      "n 2, rsi 12, threshold 35, ema 15\n",
      "n 2, rsi 12, threshold 35, ema 20\n",
      "n 2, rsi 12, threshold 35, ema 25\n",
      "n 2, rsi 12, threshold 35, ema 30\n",
      "n 2, rsi 12, threshold 35, ema 35\n",
      "n 2, rsi 12, threshold 40, ema 5\n",
      "n 2, rsi 12, threshold 40, ema 10\n",
      "n 2, rsi 12, threshold 40, ema 15\n",
      "n 2, rsi 12, threshold 40, ema 20\n",
      "n 2, rsi 12, threshold 40, ema 25\n",
      "n 2, rsi 12, threshold 40, ema 30\n",
      "n 2, rsi 12, threshold 40, ema 35\n",
      "n 2, rsi 12, threshold 45, ema 5\n",
      "n 2, rsi 12, threshold 45, ema 10\n",
      "n 2, rsi 12, threshold 45, ema 15\n",
      "n 2, rsi 12, threshold 45, ema 20\n",
      "n 2, rsi 12, threshold 45, ema 25\n",
      "n 2, rsi 12, threshold 45, ema 30\n",
      "n 2, rsi 12, threshold 45, ema 35\n",
      "n 2, rsi 12, threshold 50, ema 5\n",
      "n 2, rsi 12, threshold 50, ema 10\n",
      "n 2, rsi 12, threshold 50, ema 15\n",
      "n 2, rsi 12, threshold 50, ema 20\n",
      "n 2, rsi 12, threshold 50, ema 25\n",
      "n 2, rsi 12, threshold 50, ema 30\n",
      "n 2, rsi 12, threshold 50, ema 35\n",
      "n 2, rsi 12, threshold 55, ema 5\n",
      "n 2, rsi 12, threshold 55, ema 10\n",
      "n 2, rsi 12, threshold 55, ema 15\n",
      "n 2, rsi 12, threshold 55, ema 20\n",
      "n 2, rsi 12, threshold 55, ema 25\n",
      "n 2, rsi 12, threshold 55, ema 30\n",
      "n 2, rsi 12, threshold 55, ema 35\n",
      "n 2, rsi 12, threshold 60, ema 5\n",
      "n 2, rsi 12, threshold 60, ema 10\n",
      "n 2, rsi 12, threshold 60, ema 15\n",
      "n 2, rsi 12, threshold 60, ema 20\n",
      "n 2, rsi 12, threshold 60, ema 25\n",
      "n 2, rsi 12, threshold 60, ema 30\n",
      "n 2, rsi 12, threshold 60, ema 35\n",
      "n 2, rsi 12, threshold 65, ema 5\n",
      "n 2, rsi 12, threshold 65, ema 10\n",
      "n 2, rsi 12, threshold 65, ema 15\n",
      "n 2, rsi 12, threshold 65, ema 20\n",
      "n 2, rsi 12, threshold 65, ema 25\n",
      "n 2, rsi 12, threshold 65, ema 30\n",
      "n 2, rsi 12, threshold 65, ema 35\n",
      "n 2, rsi 12, threshold 70, ema 5\n",
      "n 2, rsi 12, threshold 70, ema 10\n",
      "n 2, rsi 12, threshold 70, ema 15\n",
      "n 2, rsi 12, threshold 70, ema 20\n",
      "n 2, rsi 12, threshold 70, ema 25\n",
      "n 2, rsi 12, threshold 70, ema 30\n",
      "n 2, rsi 12, threshold 70, ema 35\n",
      "n 2, rsi 12, threshold 75, ema 5\n"
     ]
    },
    {
     "name": "stderr",
     "output_type": "stream",
     "text": [
      "/tmp/ipykernel_35588/873016624.py:45: RuntimeWarning: divide by zero encountered in scalar divide\n",
      "  roi_dd_ratio = total_roi / abs(max_drawdown)\n"
     ]
    },
    {
     "name": "stdout",
     "output_type": "stream",
     "text": [
      "n 2, rsi 12, threshold 75, ema 10\n"
     ]
    },
    {
     "name": "stderr",
     "output_type": "stream",
     "text": [
      "/tmp/ipykernel_35588/873016624.py:45: RuntimeWarning: divide by zero encountered in scalar divide\n",
      "  roi_dd_ratio = total_roi / abs(max_drawdown)\n"
     ]
    },
    {
     "name": "stdout",
     "output_type": "stream",
     "text": [
      "n 2, rsi 12, threshold 75, ema 15\n"
     ]
    },
    {
     "name": "stderr",
     "output_type": "stream",
     "text": [
      "/tmp/ipykernel_35588/873016624.py:45: RuntimeWarning: divide by zero encountered in scalar divide\n",
      "  roi_dd_ratio = total_roi / abs(max_drawdown)\n"
     ]
    },
    {
     "name": "stdout",
     "output_type": "stream",
     "text": [
      "n 2, rsi 12, threshold 75, ema 20\n"
     ]
    },
    {
     "name": "stderr",
     "output_type": "stream",
     "text": [
      "/tmp/ipykernel_35588/873016624.py:45: RuntimeWarning: divide by zero encountered in scalar divide\n",
      "  roi_dd_ratio = total_roi / abs(max_drawdown)\n"
     ]
    },
    {
     "name": "stdout",
     "output_type": "stream",
     "text": [
      "n 2, rsi 12, threshold 75, ema 25\n"
     ]
    },
    {
     "name": "stderr",
     "output_type": "stream",
     "text": [
      "/tmp/ipykernel_35588/873016624.py:45: RuntimeWarning: divide by zero encountered in scalar divide\n",
      "  roi_dd_ratio = total_roi / abs(max_drawdown)\n"
     ]
    },
    {
     "name": "stdout",
     "output_type": "stream",
     "text": [
      "n 2, rsi 12, threshold 75, ema 30\n"
     ]
    },
    {
     "name": "stderr",
     "output_type": "stream",
     "text": [
      "/tmp/ipykernel_35588/873016624.py:45: RuntimeWarning: divide by zero encountered in scalar divide\n",
      "  roi_dd_ratio = total_roi / abs(max_drawdown)\n"
     ]
    },
    {
     "name": "stdout",
     "output_type": "stream",
     "text": [
      "n 2, rsi 12, threshold 75, ema 35\n"
     ]
    },
    {
     "name": "stderr",
     "output_type": "stream",
     "text": [
      "/tmp/ipykernel_35588/873016624.py:45: RuntimeWarning: divide by zero encountered in scalar divide\n",
      "  roi_dd_ratio = total_roi / abs(max_drawdown)\n"
     ]
    },
    {
     "name": "stdout",
     "output_type": "stream",
     "text": [
      "n 2, rsi 12, threshold 80, ema 5\n",
      "n 2, rsi 12, threshold 80, ema 10\n",
      "n 2, rsi 12, threshold 80, ema 15\n",
      "n 2, rsi 12, threshold 80, ema 20\n",
      "n 2, rsi 12, threshold 80, ema 25\n",
      "n 2, rsi 12, threshold 80, ema 30\n",
      "n 2, rsi 12, threshold 80, ema 35\n",
      "n 2, rsi 16, threshold 30, ema 5\n",
      "n 2, rsi 16, threshold 30, ema 10\n",
      "n 2, rsi 16, threshold 30, ema 15\n",
      "n 2, rsi 16, threshold 30, ema 20\n",
      "n 2, rsi 16, threshold 30, ema 25\n",
      "n 2, rsi 16, threshold 30, ema 30\n",
      "n 2, rsi 16, threshold 30, ema 35\n",
      "n 2, rsi 16, threshold 35, ema 5\n",
      "n 2, rsi 16, threshold 35, ema 10\n",
      "n 2, rsi 16, threshold 35, ema 15\n",
      "n 2, rsi 16, threshold 35, ema 20\n",
      "n 2, rsi 16, threshold 35, ema 25\n",
      "n 2, rsi 16, threshold 35, ema 30\n",
      "n 2, rsi 16, threshold 35, ema 35\n",
      "n 2, rsi 16, threshold 40, ema 5\n",
      "n 2, rsi 16, threshold 40, ema 10\n",
      "n 2, rsi 16, threshold 40, ema 15\n",
      "n 2, rsi 16, threshold 40, ema 20\n",
      "n 2, rsi 16, threshold 40, ema 25\n",
      "n 2, rsi 16, threshold 40, ema 30\n",
      "n 2, rsi 16, threshold 40, ema 35\n",
      "n 2, rsi 16, threshold 45, ema 5\n",
      "n 2, rsi 16, threshold 45, ema 10\n",
      "n 2, rsi 16, threshold 45, ema 15\n",
      "n 2, rsi 16, threshold 45, ema 20\n",
      "n 2, rsi 16, threshold 45, ema 25\n",
      "n 2, rsi 16, threshold 45, ema 30\n",
      "n 2, rsi 16, threshold 45, ema 35\n",
      "n 2, rsi 16, threshold 50, ema 5\n",
      "n 2, rsi 16, threshold 50, ema 10\n",
      "n 2, rsi 16, threshold 50, ema 15\n",
      "n 2, rsi 16, threshold 50, ema 20\n",
      "n 2, rsi 16, threshold 50, ema 25\n",
      "n 2, rsi 16, threshold 50, ema 30\n",
      "n 2, rsi 16, threshold 50, ema 35\n",
      "n 2, rsi 16, threshold 55, ema 5\n",
      "n 2, rsi 16, threshold 55, ema 10\n",
      "n 2, rsi 16, threshold 55, ema 15\n",
      "n 2, rsi 16, threshold 55, ema 20\n",
      "n 2, rsi 16, threshold 55, ema 25\n",
      "n 2, rsi 16, threshold 55, ema 30\n",
      "n 2, rsi 16, threshold 55, ema 35\n",
      "n 2, rsi 16, threshold 60, ema 5\n",
      "n 2, rsi 16, threshold 60, ema 10\n",
      "n 2, rsi 16, threshold 60, ema 15\n",
      "n 2, rsi 16, threshold 60, ema 20\n",
      "n 2, rsi 16, threshold 60, ema 25\n",
      "n 2, rsi 16, threshold 60, ema 30\n",
      "n 2, rsi 16, threshold 60, ema 35\n",
      "n 2, rsi 16, threshold 65, ema 5\n",
      "n 2, rsi 16, threshold 65, ema 10\n",
      "n 2, rsi 16, threshold 65, ema 15\n",
      "n 2, rsi 16, threshold 65, ema 20\n",
      "n 2, rsi 16, threshold 65, ema 25\n",
      "n 2, rsi 16, threshold 65, ema 30\n",
      "n 2, rsi 16, threshold 65, ema 35\n",
      "n 2, rsi 16, threshold 70, ema 5\n"
     ]
    },
    {
     "name": "stderr",
     "output_type": "stream",
     "text": [
      "/tmp/ipykernel_35588/873016624.py:45: RuntimeWarning: divide by zero encountered in scalar divide\n",
      "  roi_dd_ratio = total_roi / abs(max_drawdown)\n"
     ]
    },
    {
     "name": "stdout",
     "output_type": "stream",
     "text": [
      "n 2, rsi 16, threshold 70, ema 10\n"
     ]
    },
    {
     "name": "stderr",
     "output_type": "stream",
     "text": [
      "/tmp/ipykernel_35588/873016624.py:45: RuntimeWarning: divide by zero encountered in scalar divide\n",
      "  roi_dd_ratio = total_roi / abs(max_drawdown)\n"
     ]
    },
    {
     "name": "stdout",
     "output_type": "stream",
     "text": [
      "n 2, rsi 16, threshold 70, ema 15\n"
     ]
    },
    {
     "name": "stderr",
     "output_type": "stream",
     "text": [
      "/tmp/ipykernel_35588/873016624.py:45: RuntimeWarning: divide by zero encountered in scalar divide\n",
      "  roi_dd_ratio = total_roi / abs(max_drawdown)\n"
     ]
    },
    {
     "name": "stdout",
     "output_type": "stream",
     "text": [
      "n 2, rsi 16, threshold 70, ema 20\n"
     ]
    },
    {
     "name": "stderr",
     "output_type": "stream",
     "text": [
      "/tmp/ipykernel_35588/873016624.py:45: RuntimeWarning: divide by zero encountered in scalar divide\n",
      "  roi_dd_ratio = total_roi / abs(max_drawdown)\n"
     ]
    },
    {
     "name": "stdout",
     "output_type": "stream",
     "text": [
      "n 2, rsi 16, threshold 70, ema 25\n"
     ]
    },
    {
     "name": "stderr",
     "output_type": "stream",
     "text": [
      "/tmp/ipykernel_35588/873016624.py:45: RuntimeWarning: divide by zero encountered in scalar divide\n",
      "  roi_dd_ratio = total_roi / abs(max_drawdown)\n"
     ]
    },
    {
     "name": "stdout",
     "output_type": "stream",
     "text": [
      "n 2, rsi 16, threshold 70, ema 30\n"
     ]
    },
    {
     "name": "stderr",
     "output_type": "stream",
     "text": [
      "/tmp/ipykernel_35588/873016624.py:45: RuntimeWarning: divide by zero encountered in scalar divide\n",
      "  roi_dd_ratio = total_roi / abs(max_drawdown)\n"
     ]
    },
    {
     "name": "stdout",
     "output_type": "stream",
     "text": [
      "n 2, rsi 16, threshold 70, ema 35\n"
     ]
    },
    {
     "name": "stderr",
     "output_type": "stream",
     "text": [
      "/tmp/ipykernel_35588/873016624.py:45: RuntimeWarning: divide by zero encountered in scalar divide\n",
      "  roi_dd_ratio = total_roi / abs(max_drawdown)\n"
     ]
    },
    {
     "name": "stdout",
     "output_type": "stream",
     "text": [
      "n 2, rsi 16, threshold 75, ema 5\n"
     ]
    },
    {
     "name": "stderr",
     "output_type": "stream",
     "text": [
      "/tmp/ipykernel_35588/873016624.py:45: RuntimeWarning: divide by zero encountered in scalar divide\n",
      "  roi_dd_ratio = total_roi / abs(max_drawdown)\n"
     ]
    },
    {
     "name": "stdout",
     "output_type": "stream",
     "text": [
      "n 2, rsi 16, threshold 75, ema 10\n"
     ]
    },
    {
     "name": "stderr",
     "output_type": "stream",
     "text": [
      "/tmp/ipykernel_35588/873016624.py:45: RuntimeWarning: divide by zero encountered in scalar divide\n",
      "  roi_dd_ratio = total_roi / abs(max_drawdown)\n"
     ]
    },
    {
     "name": "stdout",
     "output_type": "stream",
     "text": [
      "n 2, rsi 16, threshold 75, ema 15\n"
     ]
    },
    {
     "name": "stderr",
     "output_type": "stream",
     "text": [
      "/tmp/ipykernel_35588/873016624.py:45: RuntimeWarning: divide by zero encountered in scalar divide\n",
      "  roi_dd_ratio = total_roi / abs(max_drawdown)\n"
     ]
    },
    {
     "name": "stdout",
     "output_type": "stream",
     "text": [
      "n 2, rsi 16, threshold 75, ema 20\n"
     ]
    },
    {
     "name": "stderr",
     "output_type": "stream",
     "text": [
      "/tmp/ipykernel_35588/873016624.py:45: RuntimeWarning: divide by zero encountered in scalar divide\n",
      "  roi_dd_ratio = total_roi / abs(max_drawdown)\n"
     ]
    },
    {
     "name": "stdout",
     "output_type": "stream",
     "text": [
      "n 2, rsi 16, threshold 75, ema 25\n"
     ]
    },
    {
     "name": "stderr",
     "output_type": "stream",
     "text": [
      "/tmp/ipykernel_35588/873016624.py:45: RuntimeWarning: divide by zero encountered in scalar divide\n",
      "  roi_dd_ratio = total_roi / abs(max_drawdown)\n"
     ]
    },
    {
     "name": "stdout",
     "output_type": "stream",
     "text": [
      "n 2, rsi 16, threshold 75, ema 30\n"
     ]
    },
    {
     "name": "stderr",
     "output_type": "stream",
     "text": [
      "/tmp/ipykernel_35588/873016624.py:45: RuntimeWarning: divide by zero encountered in scalar divide\n",
      "  roi_dd_ratio = total_roi / abs(max_drawdown)\n"
     ]
    },
    {
     "name": "stdout",
     "output_type": "stream",
     "text": [
      "n 2, rsi 16, threshold 75, ema 35\n"
     ]
    },
    {
     "name": "stderr",
     "output_type": "stream",
     "text": [
      "/tmp/ipykernel_35588/873016624.py:45: RuntimeWarning: divide by zero encountered in scalar divide\n",
      "  roi_dd_ratio = total_roi / abs(max_drawdown)\n"
     ]
    },
    {
     "name": "stdout",
     "output_type": "stream",
     "text": [
      "n 2, rsi 16, threshold 80, ema 5\n",
      "n 2, rsi 16, threshold 80, ema 10\n",
      "n 2, rsi 16, threshold 80, ema 15\n",
      "n 2, rsi 16, threshold 80, ema 20\n",
      "n 2, rsi 16, threshold 80, ema 25\n",
      "n 2, rsi 16, threshold 80, ema 30\n",
      "n 2, rsi 16, threshold 80, ema 35\n",
      "n 3, rsi 14, threshold 30, ema 5\n",
      "n 3, rsi 14, threshold 30, ema 10\n",
      "n 3, rsi 14, threshold 30, ema 15\n",
      "n 3, rsi 14, threshold 30, ema 20\n",
      "n 3, rsi 14, threshold 30, ema 25\n",
      "n 3, rsi 14, threshold 30, ema 30\n",
      "n 3, rsi 14, threshold 30, ema 35\n",
      "n 3, rsi 14, threshold 35, ema 5\n",
      "n 3, rsi 14, threshold 35, ema 10\n",
      "n 3, rsi 14, threshold 35, ema 15\n",
      "n 3, rsi 14, threshold 35, ema 20\n",
      "n 3, rsi 14, threshold 35, ema 25\n",
      "n 3, rsi 14, threshold 35, ema 30\n",
      "n 3, rsi 14, threshold 35, ema 35\n",
      "n 3, rsi 14, threshold 40, ema 5\n",
      "n 3, rsi 14, threshold 40, ema 10\n",
      "n 3, rsi 14, threshold 40, ema 15\n",
      "n 3, rsi 14, threshold 40, ema 20\n",
      "n 3, rsi 14, threshold 40, ema 25\n",
      "n 3, rsi 14, threshold 40, ema 30\n",
      "n 3, rsi 14, threshold 40, ema 35\n",
      "n 3, rsi 14, threshold 45, ema 5\n",
      "n 3, rsi 14, threshold 45, ema 10\n",
      "n 3, rsi 14, threshold 45, ema 15\n",
      "n 3, rsi 14, threshold 45, ema 20\n",
      "n 3, rsi 14, threshold 45, ema 25\n",
      "n 3, rsi 14, threshold 45, ema 30\n",
      "n 3, rsi 14, threshold 45, ema 35\n",
      "n 3, rsi 14, threshold 50, ema 5\n",
      "n 3, rsi 14, threshold 50, ema 10\n",
      "n 3, rsi 14, threshold 50, ema 15\n",
      "n 3, rsi 14, threshold 50, ema 20\n",
      "n 3, rsi 14, threshold 50, ema 25\n",
      "n 3, rsi 14, threshold 50, ema 30\n",
      "n 3, rsi 14, threshold 50, ema 35\n",
      "n 3, rsi 14, threshold 55, ema 5\n",
      "n 3, rsi 14, threshold 55, ema 10\n",
      "n 3, rsi 14, threshold 55, ema 15\n",
      "n 3, rsi 14, threshold 55, ema 20\n",
      "n 3, rsi 14, threshold 55, ema 25\n",
      "n 3, rsi 14, threshold 55, ema 30\n",
      "n 3, rsi 14, threshold 55, ema 35\n",
      "n 3, rsi 14, threshold 60, ema 5\n",
      "n 3, rsi 14, threshold 60, ema 10\n",
      "n 3, rsi 14, threshold 60, ema 15\n",
      "n 3, rsi 14, threshold 60, ema 20\n",
      "n 3, rsi 14, threshold 60, ema 25\n",
      "n 3, rsi 14, threshold 60, ema 30\n",
      "n 3, rsi 14, threshold 60, ema 35\n",
      "n 3, rsi 14, threshold 65, ema 5\n",
      "n 3, rsi 14, threshold 65, ema 10\n",
      "n 3, rsi 14, threshold 65, ema 15\n"
     ]
    },
    {
     "name": "stderr",
     "output_type": "stream",
     "text": [
      "/tmp/ipykernel_35588/873016624.py:45: RuntimeWarning: divide by zero encountered in scalar divide\n",
      "  roi_dd_ratio = total_roi / abs(max_drawdown)\n"
     ]
    },
    {
     "name": "stdout",
     "output_type": "stream",
     "text": [
      "n 3, rsi 14, threshold 65, ema 20\n"
     ]
    },
    {
     "name": "stderr",
     "output_type": "stream",
     "text": [
      "/tmp/ipykernel_35588/873016624.py:45: RuntimeWarning: divide by zero encountered in scalar divide\n",
      "  roi_dd_ratio = total_roi / abs(max_drawdown)\n"
     ]
    },
    {
     "name": "stdout",
     "output_type": "stream",
     "text": [
      "n 3, rsi 14, threshold 65, ema 25\n",
      "n 3, rsi 14, threshold 65, ema 30\n",
      "n 3, rsi 14, threshold 65, ema 35\n",
      "n 3, rsi 14, threshold 70, ema 5\n"
     ]
    },
    {
     "name": "stderr",
     "output_type": "stream",
     "text": [
      "/tmp/ipykernel_35588/873016624.py:45: RuntimeWarning: divide by zero encountered in scalar divide\n",
      "  roi_dd_ratio = total_roi / abs(max_drawdown)\n"
     ]
    },
    {
     "name": "stdout",
     "output_type": "stream",
     "text": [
      "n 3, rsi 14, threshold 70, ema 10\n"
     ]
    },
    {
     "name": "stderr",
     "output_type": "stream",
     "text": [
      "/tmp/ipykernel_35588/873016624.py:45: RuntimeWarning: divide by zero encountered in scalar divide\n",
      "  roi_dd_ratio = total_roi / abs(max_drawdown)\n"
     ]
    },
    {
     "name": "stdout",
     "output_type": "stream",
     "text": [
      "n 3, rsi 14, threshold 70, ema 15\n"
     ]
    },
    {
     "name": "stderr",
     "output_type": "stream",
     "text": [
      "/tmp/ipykernel_35588/873016624.py:45: RuntimeWarning: divide by zero encountered in scalar divide\n",
      "  roi_dd_ratio = total_roi / abs(max_drawdown)\n"
     ]
    },
    {
     "name": "stdout",
     "output_type": "stream",
     "text": [
      "n 3, rsi 14, threshold 70, ema 20\n"
     ]
    },
    {
     "name": "stderr",
     "output_type": "stream",
     "text": [
      "/tmp/ipykernel_35588/873016624.py:45: RuntimeWarning: divide by zero encountered in scalar divide\n",
      "  roi_dd_ratio = total_roi / abs(max_drawdown)\n"
     ]
    },
    {
     "name": "stdout",
     "output_type": "stream",
     "text": [
      "n 3, rsi 14, threshold 70, ema 25\n"
     ]
    },
    {
     "name": "stderr",
     "output_type": "stream",
     "text": [
      "/tmp/ipykernel_35588/873016624.py:45: RuntimeWarning: divide by zero encountered in scalar divide\n",
      "  roi_dd_ratio = total_roi / abs(max_drawdown)\n"
     ]
    },
    {
     "name": "stdout",
     "output_type": "stream",
     "text": [
      "n 3, rsi 14, threshold 70, ema 30\n"
     ]
    },
    {
     "name": "stderr",
     "output_type": "stream",
     "text": [
      "/tmp/ipykernel_35588/873016624.py:45: RuntimeWarning: divide by zero encountered in scalar divide\n",
      "  roi_dd_ratio = total_roi / abs(max_drawdown)\n"
     ]
    },
    {
     "name": "stdout",
     "output_type": "stream",
     "text": [
      "n 3, rsi 14, threshold 70, ema 35\n"
     ]
    },
    {
     "name": "stderr",
     "output_type": "stream",
     "text": [
      "/tmp/ipykernel_35588/873016624.py:45: RuntimeWarning: divide by zero encountered in scalar divide\n",
      "  roi_dd_ratio = total_roi / abs(max_drawdown)\n"
     ]
    },
    {
     "name": "stdout",
     "output_type": "stream",
     "text": [
      "n 3, rsi 14, threshold 75, ema 5\n"
     ]
    },
    {
     "name": "stderr",
     "output_type": "stream",
     "text": [
      "/tmp/ipykernel_35588/873016624.py:45: RuntimeWarning: divide by zero encountered in scalar divide\n",
      "  roi_dd_ratio = total_roi / abs(max_drawdown)\n"
     ]
    },
    {
     "name": "stdout",
     "output_type": "stream",
     "text": [
      "n 3, rsi 14, threshold 75, ema 10\n"
     ]
    },
    {
     "name": "stderr",
     "output_type": "stream",
     "text": [
      "/tmp/ipykernel_35588/873016624.py:45: RuntimeWarning: divide by zero encountered in scalar divide\n",
      "  roi_dd_ratio = total_roi / abs(max_drawdown)\n"
     ]
    },
    {
     "name": "stdout",
     "output_type": "stream",
     "text": [
      "n 3, rsi 14, threshold 75, ema 15\n"
     ]
    },
    {
     "name": "stderr",
     "output_type": "stream",
     "text": [
      "/tmp/ipykernel_35588/873016624.py:45: RuntimeWarning: divide by zero encountered in scalar divide\n",
      "  roi_dd_ratio = total_roi / abs(max_drawdown)\n"
     ]
    },
    {
     "name": "stdout",
     "output_type": "stream",
     "text": [
      "n 3, rsi 14, threshold 75, ema 20\n"
     ]
    },
    {
     "name": "stderr",
     "output_type": "stream",
     "text": [
      "/tmp/ipykernel_35588/873016624.py:45: RuntimeWarning: divide by zero encountered in scalar divide\n",
      "  roi_dd_ratio = total_roi / abs(max_drawdown)\n"
     ]
    },
    {
     "name": "stdout",
     "output_type": "stream",
     "text": [
      "n 3, rsi 14, threshold 75, ema 25\n"
     ]
    },
    {
     "name": "stderr",
     "output_type": "stream",
     "text": [
      "/tmp/ipykernel_35588/873016624.py:45: RuntimeWarning: divide by zero encountered in scalar divide\n",
      "  roi_dd_ratio = total_roi / abs(max_drawdown)\n"
     ]
    },
    {
     "name": "stdout",
     "output_type": "stream",
     "text": [
      "n 3, rsi 14, threshold 75, ema 30\n"
     ]
    },
    {
     "name": "stderr",
     "output_type": "stream",
     "text": [
      "/tmp/ipykernel_35588/873016624.py:45: RuntimeWarning: divide by zero encountered in scalar divide\n",
      "  roi_dd_ratio = total_roi / abs(max_drawdown)\n"
     ]
    },
    {
     "name": "stdout",
     "output_type": "stream",
     "text": [
      "n 3, rsi 14, threshold 75, ema 35\n"
     ]
    },
    {
     "name": "stderr",
     "output_type": "stream",
     "text": [
      "/tmp/ipykernel_35588/873016624.py:45: RuntimeWarning: divide by zero encountered in scalar divide\n",
      "  roi_dd_ratio = total_roi / abs(max_drawdown)\n"
     ]
    },
    {
     "name": "stdout",
     "output_type": "stream",
     "text": [
      "n 3, rsi 14, threshold 80, ema 5\n",
      "n 3, rsi 14, threshold 80, ema 10\n",
      "n 3, rsi 14, threshold 80, ema 15\n",
      "n 3, rsi 14, threshold 80, ema 20\n",
      "n 3, rsi 14, threshold 80, ema 25\n",
      "n 3, rsi 14, threshold 80, ema 30\n",
      "n 3, rsi 14, threshold 80, ema 35\n",
      "n 3, rsi 9, threshold 30, ema 5\n",
      "n 3, rsi 9, threshold 30, ema 10\n",
      "n 3, rsi 9, threshold 30, ema 15\n",
      "n 3, rsi 9, threshold 30, ema 20\n",
      "n 3, rsi 9, threshold 30, ema 25\n",
      "n 3, rsi 9, threshold 30, ema 30\n",
      "n 3, rsi 9, threshold 30, ema 35\n",
      "n 3, rsi 9, threshold 35, ema 5\n",
      "n 3, rsi 9, threshold 35, ema 10\n",
      "n 3, rsi 9, threshold 35, ema 15\n",
      "n 3, rsi 9, threshold 35, ema 20\n",
      "n 3, rsi 9, threshold 35, ema 25\n",
      "n 3, rsi 9, threshold 35, ema 30\n",
      "n 3, rsi 9, threshold 35, ema 35\n",
      "n 3, rsi 9, threshold 40, ema 5\n",
      "n 3, rsi 9, threshold 40, ema 10\n",
      "n 3, rsi 9, threshold 40, ema 15\n",
      "n 3, rsi 9, threshold 40, ema 20\n",
      "n 3, rsi 9, threshold 40, ema 25\n",
      "n 3, rsi 9, threshold 40, ema 30\n",
      "n 3, rsi 9, threshold 40, ema 35\n",
      "n 3, rsi 9, threshold 45, ema 5\n",
      "n 3, rsi 9, threshold 45, ema 10\n",
      "n 3, rsi 9, threshold 45, ema 15\n",
      "n 3, rsi 9, threshold 45, ema 20\n",
      "n 3, rsi 9, threshold 45, ema 25\n",
      "n 3, rsi 9, threshold 45, ema 30\n",
      "n 3, rsi 9, threshold 45, ema 35\n",
      "n 3, rsi 9, threshold 50, ema 5\n",
      "n 3, rsi 9, threshold 50, ema 10\n",
      "n 3, rsi 9, threshold 50, ema 15\n",
      "n 3, rsi 9, threshold 50, ema 20\n",
      "n 3, rsi 9, threshold 50, ema 25\n",
      "n 3, rsi 9, threshold 50, ema 30\n",
      "n 3, rsi 9, threshold 50, ema 35\n",
      "n 3, rsi 9, threshold 55, ema 5\n",
      "n 3, rsi 9, threshold 55, ema 10\n",
      "n 3, rsi 9, threshold 55, ema 15\n",
      "n 3, rsi 9, threshold 55, ema 20\n",
      "n 3, rsi 9, threshold 55, ema 25\n",
      "n 3, rsi 9, threshold 55, ema 30\n",
      "n 3, rsi 9, threshold 55, ema 35\n",
      "n 3, rsi 9, threshold 60, ema 5\n",
      "n 3, rsi 9, threshold 60, ema 10\n",
      "n 3, rsi 9, threshold 60, ema 15\n",
      "n 3, rsi 9, threshold 60, ema 20\n",
      "n 3, rsi 9, threshold 60, ema 25\n",
      "n 3, rsi 9, threshold 60, ema 30\n",
      "n 3, rsi 9, threshold 60, ema 35\n",
      "n 3, rsi 9, threshold 65, ema 5\n"
     ]
    },
    {
     "name": "stderr",
     "output_type": "stream",
     "text": [
      "/tmp/ipykernel_35588/873016624.py:45: RuntimeWarning: divide by zero encountered in scalar divide\n",
      "  roi_dd_ratio = total_roi / abs(max_drawdown)\n"
     ]
    },
    {
     "name": "stdout",
     "output_type": "stream",
     "text": [
      "n 3, rsi 9, threshold 65, ema 10\n"
     ]
    },
    {
     "name": "stderr",
     "output_type": "stream",
     "text": [
      "/tmp/ipykernel_35588/873016624.py:45: RuntimeWarning: divide by zero encountered in scalar divide\n",
      "  roi_dd_ratio = total_roi / abs(max_drawdown)\n"
     ]
    },
    {
     "name": "stdout",
     "output_type": "stream",
     "text": [
      "n 3, rsi 9, threshold 65, ema 15\n"
     ]
    },
    {
     "name": "stderr",
     "output_type": "stream",
     "text": [
      "/tmp/ipykernel_35588/873016624.py:45: RuntimeWarning: divide by zero encountered in scalar divide\n",
      "  roi_dd_ratio = total_roi / abs(max_drawdown)\n"
     ]
    },
    {
     "name": "stdout",
     "output_type": "stream",
     "text": [
      "n 3, rsi 9, threshold 65, ema 20\n"
     ]
    },
    {
     "name": "stderr",
     "output_type": "stream",
     "text": [
      "/tmp/ipykernel_35588/873016624.py:45: RuntimeWarning: divide by zero encountered in scalar divide\n",
      "  roi_dd_ratio = total_roi / abs(max_drawdown)\n"
     ]
    },
    {
     "name": "stdout",
     "output_type": "stream",
     "text": [
      "n 3, rsi 9, threshold 65, ema 25\n"
     ]
    },
    {
     "name": "stderr",
     "output_type": "stream",
     "text": [
      "/tmp/ipykernel_35588/873016624.py:45: RuntimeWarning: divide by zero encountered in scalar divide\n",
      "  roi_dd_ratio = total_roi / abs(max_drawdown)\n"
     ]
    },
    {
     "name": "stdout",
     "output_type": "stream",
     "text": [
      "n 3, rsi 9, threshold 65, ema 30\n"
     ]
    },
    {
     "name": "stderr",
     "output_type": "stream",
     "text": [
      "/tmp/ipykernel_35588/873016624.py:45: RuntimeWarning: divide by zero encountered in scalar divide\n",
      "  roi_dd_ratio = total_roi / abs(max_drawdown)\n"
     ]
    },
    {
     "name": "stdout",
     "output_type": "stream",
     "text": [
      "n 3, rsi 9, threshold 65, ema 35\n"
     ]
    },
    {
     "name": "stderr",
     "output_type": "stream",
     "text": [
      "/tmp/ipykernel_35588/873016624.py:45: RuntimeWarning: divide by zero encountered in scalar divide\n",
      "  roi_dd_ratio = total_roi / abs(max_drawdown)\n"
     ]
    },
    {
     "name": "stdout",
     "output_type": "stream",
     "text": [
      "n 3, rsi 9, threshold 70, ema 5\n"
     ]
    },
    {
     "name": "stderr",
     "output_type": "stream",
     "text": [
      "/tmp/ipykernel_35588/873016624.py:45: RuntimeWarning: divide by zero encountered in scalar divide\n",
      "  roi_dd_ratio = total_roi / abs(max_drawdown)\n"
     ]
    },
    {
     "name": "stdout",
     "output_type": "stream",
     "text": [
      "n 3, rsi 9, threshold 70, ema 10\n"
     ]
    },
    {
     "name": "stderr",
     "output_type": "stream",
     "text": [
      "/tmp/ipykernel_35588/873016624.py:45: RuntimeWarning: divide by zero encountered in scalar divide\n",
      "  roi_dd_ratio = total_roi / abs(max_drawdown)\n"
     ]
    },
    {
     "name": "stdout",
     "output_type": "stream",
     "text": [
      "n 3, rsi 9, threshold 70, ema 15\n"
     ]
    },
    {
     "name": "stderr",
     "output_type": "stream",
     "text": [
      "/tmp/ipykernel_35588/873016624.py:45: RuntimeWarning: divide by zero encountered in scalar divide\n",
      "  roi_dd_ratio = total_roi / abs(max_drawdown)\n"
     ]
    },
    {
     "name": "stdout",
     "output_type": "stream",
     "text": [
      "n 3, rsi 9, threshold 70, ema 20\n"
     ]
    },
    {
     "name": "stderr",
     "output_type": "stream",
     "text": [
      "/tmp/ipykernel_35588/873016624.py:45: RuntimeWarning: divide by zero encountered in scalar divide\n",
      "  roi_dd_ratio = total_roi / abs(max_drawdown)\n"
     ]
    },
    {
     "name": "stdout",
     "output_type": "stream",
     "text": [
      "n 3, rsi 9, threshold 70, ema 25\n"
     ]
    },
    {
     "name": "stderr",
     "output_type": "stream",
     "text": [
      "/tmp/ipykernel_35588/873016624.py:45: RuntimeWarning: divide by zero encountered in scalar divide\n",
      "  roi_dd_ratio = total_roi / abs(max_drawdown)\n"
     ]
    },
    {
     "name": "stdout",
     "output_type": "stream",
     "text": [
      "n 3, rsi 9, threshold 70, ema 30\n"
     ]
    },
    {
     "name": "stderr",
     "output_type": "stream",
     "text": [
      "/tmp/ipykernel_35588/873016624.py:45: RuntimeWarning: divide by zero encountered in scalar divide\n",
      "  roi_dd_ratio = total_roi / abs(max_drawdown)\n"
     ]
    },
    {
     "name": "stdout",
     "output_type": "stream",
     "text": [
      "n 3, rsi 9, threshold 70, ema 35\n"
     ]
    },
    {
     "name": "stderr",
     "output_type": "stream",
     "text": [
      "/tmp/ipykernel_35588/873016624.py:45: RuntimeWarning: divide by zero encountered in scalar divide\n",
      "  roi_dd_ratio = total_roi / abs(max_drawdown)\n"
     ]
    },
    {
     "name": "stdout",
     "output_type": "stream",
     "text": [
      "n 3, rsi 9, threshold 75, ema 5\n"
     ]
    },
    {
     "name": "stderr",
     "output_type": "stream",
     "text": [
      "/tmp/ipykernel_35588/873016624.py:45: RuntimeWarning: divide by zero encountered in scalar divide\n",
      "  roi_dd_ratio = total_roi / abs(max_drawdown)\n",
      "/tmp/ipykernel_35588/873016624.py:70: RuntimeWarning: divide by zero encountered in scalar divide\n",
      "  overall_roi_dd_ratio = overall_total_roi / abs(overall_max_drawdown)\n"
     ]
    },
    {
     "name": "stdout",
     "output_type": "stream",
     "text": [
      "n 3, rsi 9, threshold 75, ema 10\n"
     ]
    },
    {
     "name": "stderr",
     "output_type": "stream",
     "text": [
      "/tmp/ipykernel_35588/873016624.py:45: RuntimeWarning: divide by zero encountered in scalar divide\n",
      "  roi_dd_ratio = total_roi / abs(max_drawdown)\n",
      "/tmp/ipykernel_35588/873016624.py:70: RuntimeWarning: divide by zero encountered in scalar divide\n",
      "  overall_roi_dd_ratio = overall_total_roi / abs(overall_max_drawdown)\n"
     ]
    },
    {
     "name": "stdout",
     "output_type": "stream",
     "text": [
      "n 3, rsi 9, threshold 75, ema 15\n"
     ]
    },
    {
     "name": "stderr",
     "output_type": "stream",
     "text": [
      "/tmp/ipykernel_35588/873016624.py:45: RuntimeWarning: divide by zero encountered in scalar divide\n",
      "  roi_dd_ratio = total_roi / abs(max_drawdown)\n",
      "/tmp/ipykernel_35588/873016624.py:70: RuntimeWarning: divide by zero encountered in scalar divide\n",
      "  overall_roi_dd_ratio = overall_total_roi / abs(overall_max_drawdown)\n"
     ]
    },
    {
     "name": "stdout",
     "output_type": "stream",
     "text": [
      "n 3, rsi 9, threshold 75, ema 20\n"
     ]
    },
    {
     "name": "stderr",
     "output_type": "stream",
     "text": [
      "/tmp/ipykernel_35588/873016624.py:45: RuntimeWarning: divide by zero encountered in scalar divide\n",
      "  roi_dd_ratio = total_roi / abs(max_drawdown)\n",
      "/tmp/ipykernel_35588/873016624.py:70: RuntimeWarning: divide by zero encountered in scalar divide\n",
      "  overall_roi_dd_ratio = overall_total_roi / abs(overall_max_drawdown)\n"
     ]
    },
    {
     "name": "stdout",
     "output_type": "stream",
     "text": [
      "n 3, rsi 9, threshold 75, ema 25\n"
     ]
    },
    {
     "name": "stderr",
     "output_type": "stream",
     "text": [
      "/tmp/ipykernel_35588/873016624.py:45: RuntimeWarning: divide by zero encountered in scalar divide\n",
      "  roi_dd_ratio = total_roi / abs(max_drawdown)\n",
      "/tmp/ipykernel_35588/873016624.py:70: RuntimeWarning: divide by zero encountered in scalar divide\n",
      "  overall_roi_dd_ratio = overall_total_roi / abs(overall_max_drawdown)\n"
     ]
    },
    {
     "name": "stdout",
     "output_type": "stream",
     "text": [
      "n 3, rsi 9, threshold 75, ema 30\n"
     ]
    },
    {
     "name": "stderr",
     "output_type": "stream",
     "text": [
      "/tmp/ipykernel_35588/873016624.py:45: RuntimeWarning: divide by zero encountered in scalar divide\n",
      "  roi_dd_ratio = total_roi / abs(max_drawdown)\n",
      "/tmp/ipykernel_35588/873016624.py:70: RuntimeWarning: divide by zero encountered in scalar divide\n",
      "  overall_roi_dd_ratio = overall_total_roi / abs(overall_max_drawdown)\n"
     ]
    },
    {
     "name": "stdout",
     "output_type": "stream",
     "text": [
      "n 3, rsi 9, threshold 75, ema 35\n"
     ]
    },
    {
     "name": "stderr",
     "output_type": "stream",
     "text": [
      "/tmp/ipykernel_35588/873016624.py:45: RuntimeWarning: divide by zero encountered in scalar divide\n",
      "  roi_dd_ratio = total_roi / abs(max_drawdown)\n",
      "/tmp/ipykernel_35588/873016624.py:70: RuntimeWarning: divide by zero encountered in scalar divide\n",
      "  overall_roi_dd_ratio = overall_total_roi / abs(overall_max_drawdown)\n"
     ]
    },
    {
     "name": "stdout",
     "output_type": "stream",
     "text": [
      "n 3, rsi 9, threshold 80, ema 5\n",
      "n 3, rsi 9, threshold 80, ema 10\n",
      "n 3, rsi 9, threshold 80, ema 15\n",
      "n 3, rsi 9, threshold 80, ema 20\n",
      "n 3, rsi 9, threshold 80, ema 25\n",
      "n 3, rsi 9, threshold 80, ema 30\n",
      "n 3, rsi 9, threshold 80, ema 35\n",
      "n 3, rsi 21, threshold 30, ema 5\n",
      "n 3, rsi 21, threshold 30, ema 10\n",
      "n 3, rsi 21, threshold 30, ema 15\n",
      "n 3, rsi 21, threshold 30, ema 20\n",
      "n 3, rsi 21, threshold 30, ema 25\n",
      "n 3, rsi 21, threshold 30, ema 30\n",
      "n 3, rsi 21, threshold 30, ema 35\n",
      "n 3, rsi 21, threshold 35, ema 5\n",
      "n 3, rsi 21, threshold 35, ema 10\n",
      "n 3, rsi 21, threshold 35, ema 15\n",
      "n 3, rsi 21, threshold 35, ema 20\n",
      "n 3, rsi 21, threshold 35, ema 25\n",
      "n 3, rsi 21, threshold 35, ema 30\n",
      "n 3, rsi 21, threshold 35, ema 35\n",
      "n 3, rsi 21, threshold 40, ema 5\n",
      "n 3, rsi 21, threshold 40, ema 10\n",
      "n 3, rsi 21, threshold 40, ema 15\n",
      "n 3, rsi 21, threshold 40, ema 20\n",
      "n 3, rsi 21, threshold 40, ema 25\n",
      "n 3, rsi 21, threshold 40, ema 30\n",
      "n 3, rsi 21, threshold 40, ema 35\n",
      "n 3, rsi 21, threshold 45, ema 5\n",
      "n 3, rsi 21, threshold 45, ema 10\n",
      "n 3, rsi 21, threshold 45, ema 15\n",
      "n 3, rsi 21, threshold 45, ema 20\n",
      "n 3, rsi 21, threshold 45, ema 25\n",
      "n 3, rsi 21, threshold 45, ema 30\n",
      "n 3, rsi 21, threshold 45, ema 35\n",
      "n 3, rsi 21, threshold 50, ema 5\n",
      "n 3, rsi 21, threshold 50, ema 10\n",
      "n 3, rsi 21, threshold 50, ema 15\n",
      "n 3, rsi 21, threshold 50, ema 20\n",
      "n 3, rsi 21, threshold 50, ema 25\n",
      "n 3, rsi 21, threshold 50, ema 30\n",
      "n 3, rsi 21, threshold 50, ema 35\n",
      "n 3, rsi 21, threshold 55, ema 5\n",
      "n 3, rsi 21, threshold 55, ema 10\n",
      "n 3, rsi 21, threshold 55, ema 15\n",
      "n 3, rsi 21, threshold 55, ema 20\n",
      "n 3, rsi 21, threshold 55, ema 25\n",
      "n 3, rsi 21, threshold 55, ema 30\n",
      "n 3, rsi 21, threshold 55, ema 35\n",
      "n 3, rsi 21, threshold 60, ema 5\n",
      "n 3, rsi 21, threshold 60, ema 10\n",
      "n 3, rsi 21, threshold 60, ema 15\n",
      "n 3, rsi 21, threshold 60, ema 20\n",
      "n 3, rsi 21, threshold 60, ema 25\n",
      "n 3, rsi 21, threshold 60, ema 30\n",
      "n 3, rsi 21, threshold 60, ema 35\n",
      "n 3, rsi 21, threshold 65, ema 5\n",
      "n 3, rsi 21, threshold 65, ema 10\n",
      "n 3, rsi 21, threshold 65, ema 15\n",
      "n 3, rsi 21, threshold 65, ema 20\n",
      "n 3, rsi 21, threshold 65, ema 25\n",
      "n 3, rsi 21, threshold 65, ema 30\n",
      "n 3, rsi 21, threshold 65, ema 35\n",
      "n 3, rsi 21, threshold 70, ema 5\n"
     ]
    },
    {
     "name": "stderr",
     "output_type": "stream",
     "text": [
      "/tmp/ipykernel_35588/873016624.py:45: RuntimeWarning: divide by zero encountered in scalar divide\n",
      "  roi_dd_ratio = total_roi / abs(max_drawdown)\n"
     ]
    },
    {
     "name": "stdout",
     "output_type": "stream",
     "text": [
      "n 3, rsi 21, threshold 70, ema 10\n"
     ]
    },
    {
     "name": "stderr",
     "output_type": "stream",
     "text": [
      "/tmp/ipykernel_35588/873016624.py:45: RuntimeWarning: divide by zero encountered in scalar divide\n",
      "  roi_dd_ratio = total_roi / abs(max_drawdown)\n"
     ]
    },
    {
     "name": "stdout",
     "output_type": "stream",
     "text": [
      "n 3, rsi 21, threshold 70, ema 15\n"
     ]
    },
    {
     "name": "stderr",
     "output_type": "stream",
     "text": [
      "/tmp/ipykernel_35588/873016624.py:45: RuntimeWarning: divide by zero encountered in scalar divide\n",
      "  roi_dd_ratio = total_roi / abs(max_drawdown)\n"
     ]
    },
    {
     "name": "stdout",
     "output_type": "stream",
     "text": [
      "n 3, rsi 21, threshold 70, ema 20\n"
     ]
    },
    {
     "name": "stderr",
     "output_type": "stream",
     "text": [
      "/tmp/ipykernel_35588/873016624.py:45: RuntimeWarning: divide by zero encountered in scalar divide\n",
      "  roi_dd_ratio = total_roi / abs(max_drawdown)\n"
     ]
    },
    {
     "name": "stdout",
     "output_type": "stream",
     "text": [
      "n 3, rsi 21, threshold 70, ema 25\n",
      "n 3, rsi 21, threshold 70, ema 30\n",
      "n 3, rsi 21, threshold 70, ema 35\n",
      "n 3, rsi 21, threshold 75, ema 5\n"
     ]
    },
    {
     "name": "stderr",
     "output_type": "stream",
     "text": [
      "/tmp/ipykernel_35588/873016624.py:45: RuntimeWarning: divide by zero encountered in scalar divide\n",
      "  roi_dd_ratio = total_roi / abs(max_drawdown)\n",
      "/tmp/ipykernel_35588/873016624.py:70: RuntimeWarning: divide by zero encountered in scalar divide\n",
      "  overall_roi_dd_ratio = overall_total_roi / abs(overall_max_drawdown)\n"
     ]
    },
    {
     "name": "stdout",
     "output_type": "stream",
     "text": [
      "n 3, rsi 21, threshold 75, ema 10\n"
     ]
    },
    {
     "name": "stderr",
     "output_type": "stream",
     "text": [
      "/tmp/ipykernel_35588/873016624.py:45: RuntimeWarning: divide by zero encountered in scalar divide\n",
      "  roi_dd_ratio = total_roi / abs(max_drawdown)\n",
      "/tmp/ipykernel_35588/873016624.py:70: RuntimeWarning: divide by zero encountered in scalar divide\n",
      "  overall_roi_dd_ratio = overall_total_roi / abs(overall_max_drawdown)\n"
     ]
    },
    {
     "name": "stdout",
     "output_type": "stream",
     "text": [
      "n 3, rsi 21, threshold 75, ema 15\n"
     ]
    },
    {
     "name": "stderr",
     "output_type": "stream",
     "text": [
      "/tmp/ipykernel_35588/873016624.py:45: RuntimeWarning: divide by zero encountered in scalar divide\n",
      "  roi_dd_ratio = total_roi / abs(max_drawdown)\n",
      "/tmp/ipykernel_35588/873016624.py:70: RuntimeWarning: divide by zero encountered in scalar divide\n",
      "  overall_roi_dd_ratio = overall_total_roi / abs(overall_max_drawdown)\n"
     ]
    },
    {
     "name": "stdout",
     "output_type": "stream",
     "text": [
      "n 3, rsi 21, threshold 75, ema 20\n"
     ]
    },
    {
     "name": "stderr",
     "output_type": "stream",
     "text": [
      "/tmp/ipykernel_35588/873016624.py:45: RuntimeWarning: divide by zero encountered in scalar divide\n",
      "  roi_dd_ratio = total_roi / abs(max_drawdown)\n",
      "/tmp/ipykernel_35588/873016624.py:70: RuntimeWarning: divide by zero encountered in scalar divide\n",
      "  overall_roi_dd_ratio = overall_total_roi / abs(overall_max_drawdown)\n"
     ]
    },
    {
     "name": "stdout",
     "output_type": "stream",
     "text": [
      "n 3, rsi 21, threshold 75, ema 25\n"
     ]
    },
    {
     "name": "stderr",
     "output_type": "stream",
     "text": [
      "/tmp/ipykernel_35588/873016624.py:45: RuntimeWarning: divide by zero encountered in scalar divide\n",
      "  roi_dd_ratio = total_roi / abs(max_drawdown)\n",
      "/tmp/ipykernel_35588/873016624.py:70: RuntimeWarning: divide by zero encountered in scalar divide\n",
      "  overall_roi_dd_ratio = overall_total_roi / abs(overall_max_drawdown)\n"
     ]
    },
    {
     "name": "stdout",
     "output_type": "stream",
     "text": [
      "n 3, rsi 21, threshold 75, ema 30\n"
     ]
    },
    {
     "name": "stderr",
     "output_type": "stream",
     "text": [
      "/tmp/ipykernel_35588/873016624.py:45: RuntimeWarning: divide by zero encountered in scalar divide\n",
      "  roi_dd_ratio = total_roi / abs(max_drawdown)\n",
      "/tmp/ipykernel_35588/873016624.py:70: RuntimeWarning: divide by zero encountered in scalar divide\n",
      "  overall_roi_dd_ratio = overall_total_roi / abs(overall_max_drawdown)\n"
     ]
    },
    {
     "name": "stdout",
     "output_type": "stream",
     "text": [
      "n 3, rsi 21, threshold 75, ema 35\n"
     ]
    },
    {
     "name": "stderr",
     "output_type": "stream",
     "text": [
      "/tmp/ipykernel_35588/873016624.py:45: RuntimeWarning: divide by zero encountered in scalar divide\n",
      "  roi_dd_ratio = total_roi / abs(max_drawdown)\n",
      "/tmp/ipykernel_35588/873016624.py:70: RuntimeWarning: divide by zero encountered in scalar divide\n",
      "  overall_roi_dd_ratio = overall_total_roi / abs(overall_max_drawdown)\n"
     ]
    },
    {
     "name": "stdout",
     "output_type": "stream",
     "text": [
      "n 3, rsi 21, threshold 80, ema 5\n",
      "n 3, rsi 21, threshold 80, ema 10\n",
      "n 3, rsi 21, threshold 80, ema 15\n",
      "n 3, rsi 21, threshold 80, ema 20\n",
      "n 3, rsi 21, threshold 80, ema 25\n",
      "n 3, rsi 21, threshold 80, ema 30\n",
      "n 3, rsi 21, threshold 80, ema 35\n",
      "n 3, rsi 6, threshold 30, ema 5\n",
      "n 3, rsi 6, threshold 30, ema 10\n",
      "n 3, rsi 6, threshold 30, ema 15\n",
      "n 3, rsi 6, threshold 30, ema 20\n",
      "n 3, rsi 6, threshold 30, ema 25\n",
      "n 3, rsi 6, threshold 30, ema 30\n",
      "n 3, rsi 6, threshold 30, ema 35\n",
      "n 3, rsi 6, threshold 35, ema 5\n",
      "n 3, rsi 6, threshold 35, ema 10\n",
      "n 3, rsi 6, threshold 35, ema 15\n",
      "n 3, rsi 6, threshold 35, ema 20\n",
      "n 3, rsi 6, threshold 35, ema 25\n",
      "n 3, rsi 6, threshold 35, ema 30\n",
      "n 3, rsi 6, threshold 35, ema 35\n",
      "n 3, rsi 6, threshold 40, ema 5\n",
      "n 3, rsi 6, threshold 40, ema 10\n",
      "n 3, rsi 6, threshold 40, ema 15\n",
      "n 3, rsi 6, threshold 40, ema 20\n",
      "n 3, rsi 6, threshold 40, ema 25\n",
      "n 3, rsi 6, threshold 40, ema 30\n",
      "n 3, rsi 6, threshold 40, ema 35\n",
      "n 3, rsi 6, threshold 45, ema 5\n",
      "n 3, rsi 6, threshold 45, ema 10\n",
      "n 3, rsi 6, threshold 45, ema 15\n",
      "n 3, rsi 6, threshold 45, ema 20\n",
      "n 3, rsi 6, threshold 45, ema 25\n",
      "n 3, rsi 6, threshold 45, ema 30\n",
      "n 3, rsi 6, threshold 45, ema 35\n",
      "n 3, rsi 6, threshold 50, ema 5\n",
      "n 3, rsi 6, threshold 50, ema 10\n",
      "n 3, rsi 6, threshold 50, ema 15\n",
      "n 3, rsi 6, threshold 50, ema 20\n",
      "n 3, rsi 6, threshold 50, ema 25\n",
      "n 3, rsi 6, threshold 50, ema 30\n",
      "n 3, rsi 6, threshold 50, ema 35\n",
      "n 3, rsi 6, threshold 55, ema 5\n",
      "n 3, rsi 6, threshold 55, ema 10\n",
      "n 3, rsi 6, threshold 55, ema 15\n",
      "n 3, rsi 6, threshold 55, ema 20\n",
      "n 3, rsi 6, threshold 55, ema 25\n",
      "n 3, rsi 6, threshold 55, ema 30\n",
      "n 3, rsi 6, threshold 55, ema 35\n",
      "n 3, rsi 6, threshold 60, ema 5\n"
     ]
    },
    {
     "name": "stderr",
     "output_type": "stream",
     "text": [
      "/tmp/ipykernel_35588/873016624.py:45: RuntimeWarning: divide by zero encountered in scalar divide\n",
      "  roi_dd_ratio = total_roi / abs(max_drawdown)\n"
     ]
    },
    {
     "name": "stdout",
     "output_type": "stream",
     "text": [
      "n 3, rsi 6, threshold 60, ema 10\n"
     ]
    },
    {
     "name": "stderr",
     "output_type": "stream",
     "text": [
      "/tmp/ipykernel_35588/873016624.py:45: RuntimeWarning: divide by zero encountered in scalar divide\n",
      "  roi_dd_ratio = total_roi / abs(max_drawdown)\n"
     ]
    },
    {
     "name": "stdout",
     "output_type": "stream",
     "text": [
      "n 3, rsi 6, threshold 60, ema 15\n"
     ]
    },
    {
     "name": "stderr",
     "output_type": "stream",
     "text": [
      "/tmp/ipykernel_35588/873016624.py:45: RuntimeWarning: divide by zero encountered in scalar divide\n",
      "  roi_dd_ratio = total_roi / abs(max_drawdown)\n"
     ]
    },
    {
     "name": "stdout",
     "output_type": "stream",
     "text": [
      "n 3, rsi 6, threshold 60, ema 20\n"
     ]
    },
    {
     "name": "stderr",
     "output_type": "stream",
     "text": [
      "/tmp/ipykernel_35588/873016624.py:45: RuntimeWarning: divide by zero encountered in scalar divide\n",
      "  roi_dd_ratio = total_roi / abs(max_drawdown)\n"
     ]
    },
    {
     "name": "stdout",
     "output_type": "stream",
     "text": [
      "n 3, rsi 6, threshold 60, ema 25\n"
     ]
    },
    {
     "name": "stderr",
     "output_type": "stream",
     "text": [
      "/tmp/ipykernel_35588/873016624.py:45: RuntimeWarning: divide by zero encountered in scalar divide\n",
      "  roi_dd_ratio = total_roi / abs(max_drawdown)\n"
     ]
    },
    {
     "name": "stdout",
     "output_type": "stream",
     "text": [
      "n 3, rsi 6, threshold 60, ema 30\n"
     ]
    },
    {
     "name": "stderr",
     "output_type": "stream",
     "text": [
      "/tmp/ipykernel_35588/873016624.py:45: RuntimeWarning: divide by zero encountered in scalar divide\n",
      "  roi_dd_ratio = total_roi / abs(max_drawdown)\n"
     ]
    },
    {
     "name": "stdout",
     "output_type": "stream",
     "text": [
      "n 3, rsi 6, threshold 60, ema 35\n"
     ]
    },
    {
     "name": "stderr",
     "output_type": "stream",
     "text": [
      "/tmp/ipykernel_35588/873016624.py:45: RuntimeWarning: divide by zero encountered in scalar divide\n",
      "  roi_dd_ratio = total_roi / abs(max_drawdown)\n"
     ]
    },
    {
     "name": "stdout",
     "output_type": "stream",
     "text": [
      "n 3, rsi 6, threshold 65, ema 5\n"
     ]
    },
    {
     "name": "stderr",
     "output_type": "stream",
     "text": [
      "/tmp/ipykernel_35588/873016624.py:45: RuntimeWarning: divide by zero encountered in scalar divide\n",
      "  roi_dd_ratio = total_roi / abs(max_drawdown)\n"
     ]
    },
    {
     "name": "stdout",
     "output_type": "stream",
     "text": [
      "n 3, rsi 6, threshold 65, ema 10\n"
     ]
    },
    {
     "name": "stderr",
     "output_type": "stream",
     "text": [
      "/tmp/ipykernel_35588/873016624.py:45: RuntimeWarning: divide by zero encountered in scalar divide\n",
      "  roi_dd_ratio = total_roi / abs(max_drawdown)\n"
     ]
    },
    {
     "name": "stdout",
     "output_type": "stream",
     "text": [
      "n 3, rsi 6, threshold 65, ema 15\n"
     ]
    },
    {
     "name": "stderr",
     "output_type": "stream",
     "text": [
      "/tmp/ipykernel_35588/873016624.py:45: RuntimeWarning: divide by zero encountered in scalar divide\n",
      "  roi_dd_ratio = total_roi / abs(max_drawdown)\n"
     ]
    },
    {
     "name": "stdout",
     "output_type": "stream",
     "text": [
      "n 3, rsi 6, threshold 65, ema 20\n"
     ]
    },
    {
     "name": "stderr",
     "output_type": "stream",
     "text": [
      "/tmp/ipykernel_35588/873016624.py:45: RuntimeWarning: divide by zero encountered in scalar divide\n",
      "  roi_dd_ratio = total_roi / abs(max_drawdown)\n"
     ]
    },
    {
     "name": "stdout",
     "output_type": "stream",
     "text": [
      "n 3, rsi 6, threshold 65, ema 25\n"
     ]
    },
    {
     "name": "stderr",
     "output_type": "stream",
     "text": [
      "/tmp/ipykernel_35588/873016624.py:45: RuntimeWarning: divide by zero encountered in scalar divide\n",
      "  roi_dd_ratio = total_roi / abs(max_drawdown)\n"
     ]
    },
    {
     "name": "stdout",
     "output_type": "stream",
     "text": [
      "n 3, rsi 6, threshold 65, ema 30\n"
     ]
    },
    {
     "name": "stderr",
     "output_type": "stream",
     "text": [
      "/tmp/ipykernel_35588/873016624.py:45: RuntimeWarning: divide by zero encountered in scalar divide\n",
      "  roi_dd_ratio = total_roi / abs(max_drawdown)\n"
     ]
    },
    {
     "name": "stdout",
     "output_type": "stream",
     "text": [
      "n 3, rsi 6, threshold 65, ema 35\n"
     ]
    },
    {
     "name": "stderr",
     "output_type": "stream",
     "text": [
      "/tmp/ipykernel_35588/873016624.py:45: RuntimeWarning: divide by zero encountered in scalar divide\n",
      "  roi_dd_ratio = total_roi / abs(max_drawdown)\n"
     ]
    },
    {
     "name": "stdout",
     "output_type": "stream",
     "text": [
      "n 3, rsi 6, threshold 70, ema 5\n"
     ]
    },
    {
     "name": "stderr",
     "output_type": "stream",
     "text": [
      "/tmp/ipykernel_35588/873016624.py:45: RuntimeWarning: divide by zero encountered in scalar divide\n",
      "  roi_dd_ratio = total_roi / abs(max_drawdown)\n"
     ]
    },
    {
     "name": "stdout",
     "output_type": "stream",
     "text": [
      "n 3, rsi 6, threshold 70, ema 10\n"
     ]
    },
    {
     "name": "stderr",
     "output_type": "stream",
     "text": [
      "/tmp/ipykernel_35588/873016624.py:45: RuntimeWarning: divide by zero encountered in scalar divide\n",
      "  roi_dd_ratio = total_roi / abs(max_drawdown)\n"
     ]
    },
    {
     "name": "stdout",
     "output_type": "stream",
     "text": [
      "n 3, rsi 6, threshold 70, ema 15\n"
     ]
    },
    {
     "name": "stderr",
     "output_type": "stream",
     "text": [
      "/tmp/ipykernel_35588/873016624.py:45: RuntimeWarning: divide by zero encountered in scalar divide\n",
      "  roi_dd_ratio = total_roi / abs(max_drawdown)\n"
     ]
    },
    {
     "name": "stdout",
     "output_type": "stream",
     "text": [
      "n 3, rsi 6, threshold 70, ema 20\n"
     ]
    },
    {
     "name": "stderr",
     "output_type": "stream",
     "text": [
      "/tmp/ipykernel_35588/873016624.py:45: RuntimeWarning: divide by zero encountered in scalar divide\n",
      "  roi_dd_ratio = total_roi / abs(max_drawdown)\n"
     ]
    },
    {
     "name": "stdout",
     "output_type": "stream",
     "text": [
      "n 3, rsi 6, threshold 70, ema 25\n"
     ]
    },
    {
     "name": "stderr",
     "output_type": "stream",
     "text": [
      "/tmp/ipykernel_35588/873016624.py:45: RuntimeWarning: divide by zero encountered in scalar divide\n",
      "  roi_dd_ratio = total_roi / abs(max_drawdown)\n"
     ]
    },
    {
     "name": "stdout",
     "output_type": "stream",
     "text": [
      "n 3, rsi 6, threshold 70, ema 30\n"
     ]
    },
    {
     "name": "stderr",
     "output_type": "stream",
     "text": [
      "/tmp/ipykernel_35588/873016624.py:45: RuntimeWarning: divide by zero encountered in scalar divide\n",
      "  roi_dd_ratio = total_roi / abs(max_drawdown)\n"
     ]
    },
    {
     "name": "stdout",
     "output_type": "stream",
     "text": [
      "n 3, rsi 6, threshold 70, ema 35\n"
     ]
    },
    {
     "name": "stderr",
     "output_type": "stream",
     "text": [
      "/tmp/ipykernel_35588/873016624.py:45: RuntimeWarning: divide by zero encountered in scalar divide\n",
      "  roi_dd_ratio = total_roi / abs(max_drawdown)\n"
     ]
    },
    {
     "name": "stdout",
     "output_type": "stream",
     "text": [
      "n 3, rsi 6, threshold 75, ema 5\n",
      "n 3, rsi 6, threshold 75, ema 10\n",
      "n 3, rsi 6, threshold 75, ema 15\n",
      "n 3, rsi 6, threshold 75, ema 20\n",
      "n 3, rsi 6, threshold 75, ema 25\n",
      "n 3, rsi 6, threshold 75, ema 30\n",
      "n 3, rsi 6, threshold 75, ema 35\n",
      "n 3, rsi 6, threshold 80, ema 5\n",
      "n 3, rsi 6, threshold 80, ema 10\n",
      "n 3, rsi 6, threshold 80, ema 15\n",
      "n 3, rsi 6, threshold 80, ema 20\n",
      "n 3, rsi 6, threshold 80, ema 25\n",
      "n 3, rsi 6, threshold 80, ema 30\n",
      "n 3, rsi 6, threshold 80, ema 35\n",
      "n 3, rsi 12, threshold 30, ema 5\n",
      "n 3, rsi 12, threshold 30, ema 10\n",
      "n 3, rsi 12, threshold 30, ema 15\n",
      "n 3, rsi 12, threshold 30, ema 20\n",
      "n 3, rsi 12, threshold 30, ema 25\n",
      "n 3, rsi 12, threshold 30, ema 30\n",
      "n 3, rsi 12, threshold 30, ema 35\n",
      "n 3, rsi 12, threshold 35, ema 5\n",
      "n 3, rsi 12, threshold 35, ema 10\n",
      "n 3, rsi 12, threshold 35, ema 15\n",
      "n 3, rsi 12, threshold 35, ema 20\n",
      "n 3, rsi 12, threshold 35, ema 25\n",
      "n 3, rsi 12, threshold 35, ema 30\n",
      "n 3, rsi 12, threshold 35, ema 35\n",
      "n 3, rsi 12, threshold 40, ema 5\n",
      "n 3, rsi 12, threshold 40, ema 10\n",
      "n 3, rsi 12, threshold 40, ema 15\n",
      "n 3, rsi 12, threshold 40, ema 20\n",
      "n 3, rsi 12, threshold 40, ema 25\n",
      "n 3, rsi 12, threshold 40, ema 30\n",
      "n 3, rsi 12, threshold 40, ema 35\n",
      "n 3, rsi 12, threshold 45, ema 5\n",
      "n 3, rsi 12, threshold 45, ema 10\n",
      "n 3, rsi 12, threshold 45, ema 15\n",
      "n 3, rsi 12, threshold 45, ema 20\n",
      "n 3, rsi 12, threshold 45, ema 25\n",
      "n 3, rsi 12, threshold 45, ema 30\n",
      "n 3, rsi 12, threshold 45, ema 35\n",
      "n 3, rsi 12, threshold 50, ema 5\n",
      "n 3, rsi 12, threshold 50, ema 10\n",
      "n 3, rsi 12, threshold 50, ema 15\n",
      "n 3, rsi 12, threshold 50, ema 20\n",
      "n 3, rsi 12, threshold 50, ema 25\n",
      "n 3, rsi 12, threshold 50, ema 30\n",
      "n 3, rsi 12, threshold 50, ema 35\n",
      "n 3, rsi 12, threshold 55, ema 5\n",
      "n 3, rsi 12, threshold 55, ema 10\n",
      "n 3, rsi 12, threshold 55, ema 15\n",
      "n 3, rsi 12, threshold 55, ema 20\n",
      "n 3, rsi 12, threshold 55, ema 25\n",
      "n 3, rsi 12, threshold 55, ema 30\n",
      "n 3, rsi 12, threshold 55, ema 35\n",
      "n 3, rsi 12, threshold 60, ema 5\n",
      "n 3, rsi 12, threshold 60, ema 10\n",
      "n 3, rsi 12, threshold 60, ema 15\n",
      "n 3, rsi 12, threshold 60, ema 20\n",
      "n 3, rsi 12, threshold 60, ema 25\n",
      "n 3, rsi 12, threshold 60, ema 30\n",
      "n 3, rsi 12, threshold 60, ema 35\n",
      "n 3, rsi 12, threshold 65, ema 5\n",
      "n 3, rsi 12, threshold 65, ema 10\n",
      "n 3, rsi 12, threshold 65, ema 15\n"
     ]
    },
    {
     "name": "stderr",
     "output_type": "stream",
     "text": [
      "/tmp/ipykernel_35588/873016624.py:45: RuntimeWarning: divide by zero encountered in scalar divide\n",
      "  roi_dd_ratio = total_roi / abs(max_drawdown)\n"
     ]
    },
    {
     "name": "stdout",
     "output_type": "stream",
     "text": [
      "n 3, rsi 12, threshold 65, ema 20\n"
     ]
    },
    {
     "name": "stderr",
     "output_type": "stream",
     "text": [
      "/tmp/ipykernel_35588/873016624.py:45: RuntimeWarning: divide by zero encountered in scalar divide\n",
      "  roi_dd_ratio = total_roi / abs(max_drawdown)\n"
     ]
    },
    {
     "name": "stdout",
     "output_type": "stream",
     "text": [
      "n 3, rsi 12, threshold 65, ema 25\n",
      "n 3, rsi 12, threshold 65, ema 30\n",
      "n 3, rsi 12, threshold 65, ema 35\n",
      "n 3, rsi 12, threshold 70, ema 5\n"
     ]
    },
    {
     "name": "stderr",
     "output_type": "stream",
     "text": [
      "/tmp/ipykernel_35588/873016624.py:45: RuntimeWarning: divide by zero encountered in scalar divide\n",
      "  roi_dd_ratio = total_roi / abs(max_drawdown)\n"
     ]
    },
    {
     "name": "stdout",
     "output_type": "stream",
     "text": [
      "n 3, rsi 12, threshold 70, ema 10\n"
     ]
    },
    {
     "name": "stderr",
     "output_type": "stream",
     "text": [
      "/tmp/ipykernel_35588/873016624.py:45: RuntimeWarning: divide by zero encountered in scalar divide\n",
      "  roi_dd_ratio = total_roi / abs(max_drawdown)\n"
     ]
    },
    {
     "name": "stdout",
     "output_type": "stream",
     "text": [
      "n 3, rsi 12, threshold 70, ema 15\n"
     ]
    },
    {
     "name": "stderr",
     "output_type": "stream",
     "text": [
      "/tmp/ipykernel_35588/873016624.py:45: RuntimeWarning: divide by zero encountered in scalar divide\n",
      "  roi_dd_ratio = total_roi / abs(max_drawdown)\n"
     ]
    },
    {
     "name": "stdout",
     "output_type": "stream",
     "text": [
      "n 3, rsi 12, threshold 70, ema 20\n"
     ]
    },
    {
     "name": "stderr",
     "output_type": "stream",
     "text": [
      "/tmp/ipykernel_35588/873016624.py:45: RuntimeWarning: divide by zero encountered in scalar divide\n",
      "  roi_dd_ratio = total_roi / abs(max_drawdown)\n"
     ]
    },
    {
     "name": "stdout",
     "output_type": "stream",
     "text": [
      "n 3, rsi 12, threshold 70, ema 25\n"
     ]
    },
    {
     "name": "stderr",
     "output_type": "stream",
     "text": [
      "/tmp/ipykernel_35588/873016624.py:45: RuntimeWarning: divide by zero encountered in scalar divide\n",
      "  roi_dd_ratio = total_roi / abs(max_drawdown)\n"
     ]
    },
    {
     "name": "stdout",
     "output_type": "stream",
     "text": [
      "n 3, rsi 12, threshold 70, ema 30\n"
     ]
    },
    {
     "name": "stderr",
     "output_type": "stream",
     "text": [
      "/tmp/ipykernel_35588/873016624.py:45: RuntimeWarning: divide by zero encountered in scalar divide\n",
      "  roi_dd_ratio = total_roi / abs(max_drawdown)\n"
     ]
    },
    {
     "name": "stdout",
     "output_type": "stream",
     "text": [
      "n 3, rsi 12, threshold 70, ema 35\n"
     ]
    },
    {
     "name": "stderr",
     "output_type": "stream",
     "text": [
      "/tmp/ipykernel_35588/873016624.py:45: RuntimeWarning: divide by zero encountered in scalar divide\n",
      "  roi_dd_ratio = total_roi / abs(max_drawdown)\n"
     ]
    },
    {
     "name": "stdout",
     "output_type": "stream",
     "text": [
      "n 3, rsi 12, threshold 75, ema 5\n"
     ]
    },
    {
     "name": "stderr",
     "output_type": "stream",
     "text": [
      "/tmp/ipykernel_35588/873016624.py:45: RuntimeWarning: divide by zero encountered in scalar divide\n",
      "  roi_dd_ratio = total_roi / abs(max_drawdown)\n"
     ]
    },
    {
     "name": "stdout",
     "output_type": "stream",
     "text": [
      "n 3, rsi 12, threshold 75, ema 10\n"
     ]
    },
    {
     "name": "stderr",
     "output_type": "stream",
     "text": [
      "/tmp/ipykernel_35588/873016624.py:45: RuntimeWarning: divide by zero encountered in scalar divide\n",
      "  roi_dd_ratio = total_roi / abs(max_drawdown)\n"
     ]
    },
    {
     "name": "stdout",
     "output_type": "stream",
     "text": [
      "n 3, rsi 12, threshold 75, ema 15\n"
     ]
    },
    {
     "name": "stderr",
     "output_type": "stream",
     "text": [
      "/tmp/ipykernel_35588/873016624.py:45: RuntimeWarning: divide by zero encountered in scalar divide\n",
      "  roi_dd_ratio = total_roi / abs(max_drawdown)\n"
     ]
    },
    {
     "name": "stdout",
     "output_type": "stream",
     "text": [
      "n 3, rsi 12, threshold 75, ema 20\n"
     ]
    },
    {
     "name": "stderr",
     "output_type": "stream",
     "text": [
      "/tmp/ipykernel_35588/873016624.py:45: RuntimeWarning: divide by zero encountered in scalar divide\n",
      "  roi_dd_ratio = total_roi / abs(max_drawdown)\n"
     ]
    },
    {
     "name": "stdout",
     "output_type": "stream",
     "text": [
      "n 3, rsi 12, threshold 75, ema 25\n"
     ]
    },
    {
     "name": "stderr",
     "output_type": "stream",
     "text": [
      "/tmp/ipykernel_35588/873016624.py:45: RuntimeWarning: divide by zero encountered in scalar divide\n",
      "  roi_dd_ratio = total_roi / abs(max_drawdown)\n"
     ]
    },
    {
     "name": "stdout",
     "output_type": "stream",
     "text": [
      "n 3, rsi 12, threshold 75, ema 30\n"
     ]
    },
    {
     "name": "stderr",
     "output_type": "stream",
     "text": [
      "/tmp/ipykernel_35588/873016624.py:45: RuntimeWarning: divide by zero encountered in scalar divide\n",
      "  roi_dd_ratio = total_roi / abs(max_drawdown)\n"
     ]
    },
    {
     "name": "stdout",
     "output_type": "stream",
     "text": [
      "n 3, rsi 12, threshold 75, ema 35\n"
     ]
    },
    {
     "name": "stderr",
     "output_type": "stream",
     "text": [
      "/tmp/ipykernel_35588/873016624.py:45: RuntimeWarning: divide by zero encountered in scalar divide\n",
      "  roi_dd_ratio = total_roi / abs(max_drawdown)\n"
     ]
    },
    {
     "name": "stdout",
     "output_type": "stream",
     "text": [
      "n 3, rsi 12, threshold 80, ema 5\n",
      "n 3, rsi 12, threshold 80, ema 10\n",
      "n 3, rsi 12, threshold 80, ema 15\n",
      "n 3, rsi 12, threshold 80, ema 20\n",
      "n 3, rsi 12, threshold 80, ema 25\n",
      "n 3, rsi 12, threshold 80, ema 30\n",
      "n 3, rsi 12, threshold 80, ema 35\n",
      "n 3, rsi 16, threshold 30, ema 5\n",
      "n 3, rsi 16, threshold 30, ema 10\n",
      "n 3, rsi 16, threshold 30, ema 15\n",
      "n 3, rsi 16, threshold 30, ema 20\n",
      "n 3, rsi 16, threshold 30, ema 25\n",
      "n 3, rsi 16, threshold 30, ema 30\n",
      "n 3, rsi 16, threshold 30, ema 35\n",
      "n 3, rsi 16, threshold 35, ema 5\n",
      "n 3, rsi 16, threshold 35, ema 10\n",
      "n 3, rsi 16, threshold 35, ema 15\n",
      "n 3, rsi 16, threshold 35, ema 20\n",
      "n 3, rsi 16, threshold 35, ema 25\n",
      "n 3, rsi 16, threshold 35, ema 30\n",
      "n 3, rsi 16, threshold 35, ema 35\n",
      "n 3, rsi 16, threshold 40, ema 5\n",
      "n 3, rsi 16, threshold 40, ema 10\n",
      "n 3, rsi 16, threshold 40, ema 15\n",
      "n 3, rsi 16, threshold 40, ema 20\n",
      "n 3, rsi 16, threshold 40, ema 25\n",
      "n 3, rsi 16, threshold 40, ema 30\n",
      "n 3, rsi 16, threshold 40, ema 35\n",
      "n 3, rsi 16, threshold 45, ema 5\n",
      "n 3, rsi 16, threshold 45, ema 10\n",
      "n 3, rsi 16, threshold 45, ema 15\n",
      "n 3, rsi 16, threshold 45, ema 20\n",
      "n 3, rsi 16, threshold 45, ema 25\n",
      "n 3, rsi 16, threshold 45, ema 30\n",
      "n 3, rsi 16, threshold 45, ema 35\n",
      "n 3, rsi 16, threshold 50, ema 5\n",
      "n 3, rsi 16, threshold 50, ema 10\n",
      "n 3, rsi 16, threshold 50, ema 15\n",
      "n 3, rsi 16, threshold 50, ema 20\n",
      "n 3, rsi 16, threshold 50, ema 25\n",
      "n 3, rsi 16, threshold 50, ema 30\n",
      "n 3, rsi 16, threshold 50, ema 35\n",
      "n 3, rsi 16, threshold 55, ema 5\n",
      "n 3, rsi 16, threshold 55, ema 10\n",
      "n 3, rsi 16, threshold 55, ema 15\n",
      "n 3, rsi 16, threshold 55, ema 20\n",
      "n 3, rsi 16, threshold 55, ema 25\n",
      "n 3, rsi 16, threshold 55, ema 30\n",
      "n 3, rsi 16, threshold 55, ema 35\n",
      "n 3, rsi 16, threshold 60, ema 5\n",
      "n 3, rsi 16, threshold 60, ema 10\n",
      "n 3, rsi 16, threshold 60, ema 15\n",
      "n 3, rsi 16, threshold 60, ema 20\n",
      "n 3, rsi 16, threshold 60, ema 25\n",
      "n 3, rsi 16, threshold 60, ema 30\n",
      "n 3, rsi 16, threshold 60, ema 35\n",
      "n 3, rsi 16, threshold 65, ema 5\n",
      "n 3, rsi 16, threshold 65, ema 10\n",
      "n 3, rsi 16, threshold 65, ema 15\n",
      "n 3, rsi 16, threshold 65, ema 20\n",
      "n 3, rsi 16, threshold 65, ema 25\n",
      "n 3, rsi 16, threshold 65, ema 30\n",
      "n 3, rsi 16, threshold 65, ema 35\n",
      "n 3, rsi 16, threshold 70, ema 5\n"
     ]
    },
    {
     "name": "stderr",
     "output_type": "stream",
     "text": [
      "/tmp/ipykernel_35588/873016624.py:45: RuntimeWarning: divide by zero encountered in scalar divide\n",
      "  roi_dd_ratio = total_roi / abs(max_drawdown)\n"
     ]
    },
    {
     "name": "stdout",
     "output_type": "stream",
     "text": [
      "n 3, rsi 16, threshold 70, ema 10\n"
     ]
    },
    {
     "name": "stderr",
     "output_type": "stream",
     "text": [
      "/tmp/ipykernel_35588/873016624.py:45: RuntimeWarning: divide by zero encountered in scalar divide\n",
      "  roi_dd_ratio = total_roi / abs(max_drawdown)\n"
     ]
    },
    {
     "name": "stdout",
     "output_type": "stream",
     "text": [
      "n 3, rsi 16, threshold 70, ema 15\n"
     ]
    },
    {
     "name": "stderr",
     "output_type": "stream",
     "text": [
      "/tmp/ipykernel_35588/873016624.py:45: RuntimeWarning: divide by zero encountered in scalar divide\n",
      "  roi_dd_ratio = total_roi / abs(max_drawdown)\n"
     ]
    },
    {
     "name": "stdout",
     "output_type": "stream",
     "text": [
      "n 3, rsi 16, threshold 70, ema 20\n"
     ]
    },
    {
     "name": "stderr",
     "output_type": "stream",
     "text": [
      "/tmp/ipykernel_35588/873016624.py:45: RuntimeWarning: divide by zero encountered in scalar divide\n",
      "  roi_dd_ratio = total_roi / abs(max_drawdown)\n"
     ]
    },
    {
     "name": "stdout",
     "output_type": "stream",
     "text": [
      "n 3, rsi 16, threshold 70, ema 25\n"
     ]
    },
    {
     "name": "stderr",
     "output_type": "stream",
     "text": [
      "/tmp/ipykernel_35588/873016624.py:45: RuntimeWarning: divide by zero encountered in scalar divide\n",
      "  roi_dd_ratio = total_roi / abs(max_drawdown)\n"
     ]
    },
    {
     "name": "stdout",
     "output_type": "stream",
     "text": [
      "n 3, rsi 16, threshold 70, ema 30\n"
     ]
    },
    {
     "name": "stderr",
     "output_type": "stream",
     "text": [
      "/tmp/ipykernel_35588/873016624.py:45: RuntimeWarning: divide by zero encountered in scalar divide\n",
      "  roi_dd_ratio = total_roi / abs(max_drawdown)\n"
     ]
    },
    {
     "name": "stdout",
     "output_type": "stream",
     "text": [
      "n 3, rsi 16, threshold 70, ema 35\n"
     ]
    },
    {
     "name": "stderr",
     "output_type": "stream",
     "text": [
      "/tmp/ipykernel_35588/873016624.py:45: RuntimeWarning: divide by zero encountered in scalar divide\n",
      "  roi_dd_ratio = total_roi / abs(max_drawdown)\n"
     ]
    },
    {
     "name": "stdout",
     "output_type": "stream",
     "text": [
      "n 3, rsi 16, threshold 75, ema 5\n"
     ]
    },
    {
     "name": "stderr",
     "output_type": "stream",
     "text": [
      "/tmp/ipykernel_35588/873016624.py:45: RuntimeWarning: divide by zero encountered in scalar divide\n",
      "  roi_dd_ratio = total_roi / abs(max_drawdown)\n"
     ]
    },
    {
     "name": "stdout",
     "output_type": "stream",
     "text": [
      "n 3, rsi 16, threshold 75, ema 10\n"
     ]
    },
    {
     "name": "stderr",
     "output_type": "stream",
     "text": [
      "/tmp/ipykernel_35588/873016624.py:45: RuntimeWarning: divide by zero encountered in scalar divide\n",
      "  roi_dd_ratio = total_roi / abs(max_drawdown)\n"
     ]
    },
    {
     "name": "stdout",
     "output_type": "stream",
     "text": [
      "n 3, rsi 16, threshold 75, ema 15\n"
     ]
    },
    {
     "name": "stderr",
     "output_type": "stream",
     "text": [
      "/tmp/ipykernel_35588/873016624.py:45: RuntimeWarning: divide by zero encountered in scalar divide\n",
      "  roi_dd_ratio = total_roi / abs(max_drawdown)\n"
     ]
    },
    {
     "name": "stdout",
     "output_type": "stream",
     "text": [
      "n 3, rsi 16, threshold 75, ema 20\n"
     ]
    },
    {
     "name": "stderr",
     "output_type": "stream",
     "text": [
      "/tmp/ipykernel_35588/873016624.py:45: RuntimeWarning: divide by zero encountered in scalar divide\n",
      "  roi_dd_ratio = total_roi / abs(max_drawdown)\n"
     ]
    },
    {
     "name": "stdout",
     "output_type": "stream",
     "text": [
      "n 3, rsi 16, threshold 75, ema 25\n"
     ]
    },
    {
     "name": "stderr",
     "output_type": "stream",
     "text": [
      "/tmp/ipykernel_35588/873016624.py:45: RuntimeWarning: divide by zero encountered in scalar divide\n",
      "  roi_dd_ratio = total_roi / abs(max_drawdown)\n"
     ]
    },
    {
     "name": "stdout",
     "output_type": "stream",
     "text": [
      "n 3, rsi 16, threshold 75, ema 30\n"
     ]
    },
    {
     "name": "stderr",
     "output_type": "stream",
     "text": [
      "/tmp/ipykernel_35588/873016624.py:45: RuntimeWarning: divide by zero encountered in scalar divide\n",
      "  roi_dd_ratio = total_roi / abs(max_drawdown)\n"
     ]
    },
    {
     "name": "stdout",
     "output_type": "stream",
     "text": [
      "n 3, rsi 16, threshold 75, ema 35\n"
     ]
    },
    {
     "name": "stderr",
     "output_type": "stream",
     "text": [
      "/tmp/ipykernel_35588/873016624.py:45: RuntimeWarning: divide by zero encountered in scalar divide\n",
      "  roi_dd_ratio = total_roi / abs(max_drawdown)\n"
     ]
    },
    {
     "name": "stdout",
     "output_type": "stream",
     "text": [
      "n 3, rsi 16, threshold 80, ema 5\n",
      "n 3, rsi 16, threshold 80, ema 10\n",
      "n 3, rsi 16, threshold 80, ema 15\n",
      "n 3, rsi 16, threshold 80, ema 20\n",
      "n 3, rsi 16, threshold 80, ema 25\n",
      "n 3, rsi 16, threshold 80, ema 30\n",
      "n 3, rsi 16, threshold 80, ema 35\n",
      "n 4, rsi 14, threshold 30, ema 5\n",
      "n 4, rsi 14, threshold 30, ema 10\n",
      "n 4, rsi 14, threshold 30, ema 15\n",
      "n 4, rsi 14, threshold 30, ema 20\n",
      "n 4, rsi 14, threshold 30, ema 25\n",
      "n 4, rsi 14, threshold 30, ema 30\n",
      "n 4, rsi 14, threshold 30, ema 35\n",
      "n 4, rsi 14, threshold 35, ema 5\n",
      "n 4, rsi 14, threshold 35, ema 10\n",
      "n 4, rsi 14, threshold 35, ema 15\n",
      "n 4, rsi 14, threshold 35, ema 20\n",
      "n 4, rsi 14, threshold 35, ema 25\n",
      "n 4, rsi 14, threshold 35, ema 30\n",
      "n 4, rsi 14, threshold 35, ema 35\n",
      "n 4, rsi 14, threshold 40, ema 5\n",
      "n 4, rsi 14, threshold 40, ema 10\n",
      "n 4, rsi 14, threshold 40, ema 15\n",
      "n 4, rsi 14, threshold 40, ema 20\n",
      "n 4, rsi 14, threshold 40, ema 25\n",
      "n 4, rsi 14, threshold 40, ema 30\n",
      "n 4, rsi 14, threshold 40, ema 35\n",
      "n 4, rsi 14, threshold 45, ema 5\n",
      "n 4, rsi 14, threshold 45, ema 10\n",
      "n 4, rsi 14, threshold 45, ema 15\n",
      "n 4, rsi 14, threshold 45, ema 20\n",
      "n 4, rsi 14, threshold 45, ema 25\n",
      "n 4, rsi 14, threshold 45, ema 30\n",
      "n 4, rsi 14, threshold 45, ema 35\n",
      "n 4, rsi 14, threshold 50, ema 5\n",
      "n 4, rsi 14, threshold 50, ema 10\n",
      "n 4, rsi 14, threshold 50, ema 15\n",
      "n 4, rsi 14, threshold 50, ema 20\n",
      "n 4, rsi 14, threshold 50, ema 25\n",
      "n 4, rsi 14, threshold 50, ema 30\n",
      "n 4, rsi 14, threshold 50, ema 35\n",
      "n 4, rsi 14, threshold 55, ema 5\n",
      "n 4, rsi 14, threshold 55, ema 10\n",
      "n 4, rsi 14, threshold 55, ema 15\n",
      "n 4, rsi 14, threshold 55, ema 20\n",
      "n 4, rsi 14, threshold 55, ema 25\n",
      "n 4, rsi 14, threshold 55, ema 30\n",
      "n 4, rsi 14, threshold 55, ema 35\n",
      "n 4, rsi 14, threshold 60, ema 5\n",
      "n 4, rsi 14, threshold 60, ema 10\n",
      "n 4, rsi 14, threshold 60, ema 15\n",
      "n 4, rsi 14, threshold 60, ema 20\n",
      "n 4, rsi 14, threshold 60, ema 25\n",
      "n 4, rsi 14, threshold 60, ema 30\n",
      "n 4, rsi 14, threshold 60, ema 35\n",
      "n 4, rsi 14, threshold 65, ema 5\n",
      "n 4, rsi 14, threshold 65, ema 10\n",
      "n 4, rsi 14, threshold 65, ema 15\n"
     ]
    },
    {
     "name": "stderr",
     "output_type": "stream",
     "text": [
      "/tmp/ipykernel_35588/873016624.py:45: RuntimeWarning: divide by zero encountered in scalar divide\n",
      "  roi_dd_ratio = total_roi / abs(max_drawdown)\n"
     ]
    },
    {
     "name": "stdout",
     "output_type": "stream",
     "text": [
      "n 4, rsi 14, threshold 65, ema 20\n"
     ]
    },
    {
     "name": "stderr",
     "output_type": "stream",
     "text": [
      "/tmp/ipykernel_35588/873016624.py:45: RuntimeWarning: divide by zero encountered in scalar divide\n",
      "  roi_dd_ratio = total_roi / abs(max_drawdown)\n"
     ]
    },
    {
     "name": "stdout",
     "output_type": "stream",
     "text": [
      "n 4, rsi 14, threshold 65, ema 25\n"
     ]
    },
    {
     "name": "stderr",
     "output_type": "stream",
     "text": [
      "/tmp/ipykernel_35588/873016624.py:45: RuntimeWarning: divide by zero encountered in scalar divide\n",
      "  roi_dd_ratio = total_roi / abs(max_drawdown)\n"
     ]
    },
    {
     "name": "stdout",
     "output_type": "stream",
     "text": [
      "n 4, rsi 14, threshold 65, ema 30\n"
     ]
    },
    {
     "name": "stderr",
     "output_type": "stream",
     "text": [
      "/tmp/ipykernel_35588/873016624.py:45: RuntimeWarning: divide by zero encountered in scalar divide\n",
      "  roi_dd_ratio = total_roi / abs(max_drawdown)\n"
     ]
    },
    {
     "name": "stdout",
     "output_type": "stream",
     "text": [
      "n 4, rsi 14, threshold 65, ema 35\n"
     ]
    },
    {
     "name": "stderr",
     "output_type": "stream",
     "text": [
      "/tmp/ipykernel_35588/873016624.py:45: RuntimeWarning: divide by zero encountered in scalar divide\n",
      "  roi_dd_ratio = total_roi / abs(max_drawdown)\n"
     ]
    },
    {
     "name": "stdout",
     "output_type": "stream",
     "text": [
      "n 4, rsi 14, threshold 70, ema 5\n",
      "n 4, rsi 14, threshold 70, ema 10\n",
      "n 4, rsi 14, threshold 70, ema 15\n",
      "n 4, rsi 14, threshold 70, ema 20\n",
      "n 4, rsi 14, threshold 70, ema 25\n",
      "n 4, rsi 14, threshold 70, ema 30\n",
      "n 4, rsi 14, threshold 70, ema 35\n",
      "n 4, rsi 14, threshold 75, ema 5\n"
     ]
    },
    {
     "name": "stderr",
     "output_type": "stream",
     "text": [
      "/tmp/ipykernel_35588/873016624.py:45: RuntimeWarning: divide by zero encountered in scalar divide\n",
      "  roi_dd_ratio = total_roi / abs(max_drawdown)\n",
      "/tmp/ipykernel_35588/873016624.py:70: RuntimeWarning: divide by zero encountered in scalar divide\n",
      "  overall_roi_dd_ratio = overall_total_roi / abs(overall_max_drawdown)\n"
     ]
    },
    {
     "name": "stdout",
     "output_type": "stream",
     "text": [
      "        Total ROI Total Trades Win Rate Avg Profit% per Trade Avg Loss% per Trade Max Drawdown ROI/DD Ratio                         Variation\n",
      "2018       0.0000            0      NaN                   NaN                 NaN          NaN          NaN  n 4, rsi 14, threshold 75, ema 5\n",
      "2019       0.0000            0      NaN                   NaN                 NaN          NaN          NaN  n 4, rsi 14, threshold 75, ema 5\n",
      "2020      29.9326            1 100.0000               29.9326                 NaN       0.0000          inf  n 4, rsi 14, threshold 75, ema 5\n",
      "2021       0.0000            0      NaN                   NaN                 NaN          NaN          NaN  n 4, rsi 14, threshold 75, ema 5\n",
      "2022       0.0000            0      NaN                   NaN                 NaN          NaN          NaN  n 4, rsi 14, threshold 75, ema 5\n",
      "2023       0.0000            0      NaN                   NaN                 NaN          NaN          NaN  n 4, rsi 14, threshold 75, ema 5\n",
      "2024       0.0000            0      NaN                   NaN                 NaN          NaN          NaN  n 4, rsi 14, threshold 75, ema 5\n",
      "Overall   29.9326            1 100.0000               29.9326                 NaN       0.0000          inf  n 4, rsi 14, threshold 75, ema 5\n",
      "n 4, rsi 14, threshold 75, ema 10\n"
     ]
    },
    {
     "name": "stderr",
     "output_type": "stream",
     "text": [
      "/tmp/ipykernel_35588/873016624.py:45: RuntimeWarning: divide by zero encountered in scalar divide\n",
      "  roi_dd_ratio = total_roi / abs(max_drawdown)\n",
      "/tmp/ipykernel_35588/873016624.py:70: RuntimeWarning: divide by zero encountered in scalar divide\n",
      "  overall_roi_dd_ratio = overall_total_roi / abs(overall_max_drawdown)\n"
     ]
    },
    {
     "name": "stdout",
     "output_type": "stream",
     "text": [
      "        Total ROI Total Trades Win Rate Avg Profit% per Trade Avg Loss% per Trade Max Drawdown ROI/DD Ratio                          Variation\n",
      "2018       0.0000            0      NaN                   NaN                 NaN          NaN          NaN  n 4, rsi 14, threshold 75, ema 10\n",
      "2019       0.0000            0      NaN                   NaN                 NaN          NaN          NaN  n 4, rsi 14, threshold 75, ema 10\n",
      "2020      29.9326            1 100.0000               29.9326                 NaN       0.0000          inf  n 4, rsi 14, threshold 75, ema 10\n",
      "2021       0.0000            0      NaN                   NaN                 NaN          NaN          NaN  n 4, rsi 14, threshold 75, ema 10\n",
      "2022       0.0000            0      NaN                   NaN                 NaN          NaN          NaN  n 4, rsi 14, threshold 75, ema 10\n",
      "2023       0.0000            0      NaN                   NaN                 NaN          NaN          NaN  n 4, rsi 14, threshold 75, ema 10\n",
      "2024       0.0000            0      NaN                   NaN                 NaN          NaN          NaN  n 4, rsi 14, threshold 75, ema 10\n",
      "Overall   29.9326            1 100.0000               29.9326                 NaN       0.0000          inf  n 4, rsi 14, threshold 75, ema 10\n",
      "n 4, rsi 14, threshold 75, ema 15\n"
     ]
    },
    {
     "name": "stderr",
     "output_type": "stream",
     "text": [
      "/tmp/ipykernel_35588/873016624.py:45: RuntimeWarning: divide by zero encountered in scalar divide\n",
      "  roi_dd_ratio = total_roi / abs(max_drawdown)\n",
      "/tmp/ipykernel_35588/873016624.py:70: RuntimeWarning: divide by zero encountered in scalar divide\n",
      "  overall_roi_dd_ratio = overall_total_roi / abs(overall_max_drawdown)\n"
     ]
    },
    {
     "name": "stdout",
     "output_type": "stream",
     "text": [
      "        Total ROI Total Trades Win Rate Avg Profit% per Trade Avg Loss% per Trade Max Drawdown ROI/DD Ratio                          Variation\n",
      "2018       0.0000            0      NaN                   NaN                 NaN          NaN          NaN  n 4, rsi 14, threshold 75, ema 15\n",
      "2019       0.0000            0      NaN                   NaN                 NaN          NaN          NaN  n 4, rsi 14, threshold 75, ema 15\n",
      "2020      29.9326            1 100.0000               29.9326                 NaN       0.0000          inf  n 4, rsi 14, threshold 75, ema 15\n",
      "2021       0.0000            0      NaN                   NaN                 NaN          NaN          NaN  n 4, rsi 14, threshold 75, ema 15\n",
      "2022       0.0000            0      NaN                   NaN                 NaN          NaN          NaN  n 4, rsi 14, threshold 75, ema 15\n",
      "2023       0.0000            0      NaN                   NaN                 NaN          NaN          NaN  n 4, rsi 14, threshold 75, ema 15\n",
      "2024       0.0000            0      NaN                   NaN                 NaN          NaN          NaN  n 4, rsi 14, threshold 75, ema 15\n",
      "Overall   29.9326            1 100.0000               29.9326                 NaN       0.0000          inf  n 4, rsi 14, threshold 75, ema 15\n",
      "n 4, rsi 14, threshold 75, ema 20\n"
     ]
    },
    {
     "name": "stderr",
     "output_type": "stream",
     "text": [
      "/tmp/ipykernel_35588/873016624.py:45: RuntimeWarning: divide by zero encountered in scalar divide\n",
      "  roi_dd_ratio = total_roi / abs(max_drawdown)\n",
      "/tmp/ipykernel_35588/873016624.py:70: RuntimeWarning: divide by zero encountered in scalar divide\n",
      "  overall_roi_dd_ratio = overall_total_roi / abs(overall_max_drawdown)\n"
     ]
    },
    {
     "name": "stdout",
     "output_type": "stream",
     "text": [
      "        Total ROI Total Trades Win Rate Avg Profit% per Trade Avg Loss% per Trade Max Drawdown ROI/DD Ratio                          Variation\n",
      "2018       0.0000            0      NaN                   NaN                 NaN          NaN          NaN  n 4, rsi 14, threshold 75, ema 20\n",
      "2019       0.0000            0      NaN                   NaN                 NaN          NaN          NaN  n 4, rsi 14, threshold 75, ema 20\n",
      "2020      29.9326            1 100.0000               29.9326                 NaN       0.0000          inf  n 4, rsi 14, threshold 75, ema 20\n",
      "2021       0.0000            0      NaN                   NaN                 NaN          NaN          NaN  n 4, rsi 14, threshold 75, ema 20\n",
      "2022       0.0000            0      NaN                   NaN                 NaN          NaN          NaN  n 4, rsi 14, threshold 75, ema 20\n",
      "2023       0.0000            0      NaN                   NaN                 NaN          NaN          NaN  n 4, rsi 14, threshold 75, ema 20\n",
      "2024       0.0000            0      NaN                   NaN                 NaN          NaN          NaN  n 4, rsi 14, threshold 75, ema 20\n",
      "Overall   29.9326            1 100.0000               29.9326                 NaN       0.0000          inf  n 4, rsi 14, threshold 75, ema 20\n",
      "n 4, rsi 14, threshold 75, ema 25\n"
     ]
    },
    {
     "name": "stderr",
     "output_type": "stream",
     "text": [
      "/tmp/ipykernel_35588/873016624.py:45: RuntimeWarning: divide by zero encountered in scalar divide\n",
      "  roi_dd_ratio = total_roi / abs(max_drawdown)\n",
      "/tmp/ipykernel_35588/873016624.py:70: RuntimeWarning: divide by zero encountered in scalar divide\n",
      "  overall_roi_dd_ratio = overall_total_roi / abs(overall_max_drawdown)\n"
     ]
    },
    {
     "name": "stdout",
     "output_type": "stream",
     "text": [
      "        Total ROI Total Trades Win Rate Avg Profit% per Trade Avg Loss% per Trade Max Drawdown ROI/DD Ratio                          Variation\n",
      "2018       0.0000            0      NaN                   NaN                 NaN          NaN          NaN  n 4, rsi 14, threshold 75, ema 25\n",
      "2019       0.0000            0      NaN                   NaN                 NaN          NaN          NaN  n 4, rsi 14, threshold 75, ema 25\n",
      "2020      29.9326            1 100.0000               29.9326                 NaN       0.0000          inf  n 4, rsi 14, threshold 75, ema 25\n",
      "2021       0.0000            0      NaN                   NaN                 NaN          NaN          NaN  n 4, rsi 14, threshold 75, ema 25\n",
      "2022       0.0000            0      NaN                   NaN                 NaN          NaN          NaN  n 4, rsi 14, threshold 75, ema 25\n",
      "2023       0.0000            0      NaN                   NaN                 NaN          NaN          NaN  n 4, rsi 14, threshold 75, ema 25\n",
      "2024       0.0000            0      NaN                   NaN                 NaN          NaN          NaN  n 4, rsi 14, threshold 75, ema 25\n",
      "Overall   29.9326            1 100.0000               29.9326                 NaN       0.0000          inf  n 4, rsi 14, threshold 75, ema 25\n",
      "n 4, rsi 14, threshold 75, ema 30\n"
     ]
    },
    {
     "name": "stderr",
     "output_type": "stream",
     "text": [
      "/tmp/ipykernel_35588/873016624.py:45: RuntimeWarning: divide by zero encountered in scalar divide\n",
      "  roi_dd_ratio = total_roi / abs(max_drawdown)\n",
      "/tmp/ipykernel_35588/873016624.py:70: RuntimeWarning: divide by zero encountered in scalar divide\n",
      "  overall_roi_dd_ratio = overall_total_roi / abs(overall_max_drawdown)\n"
     ]
    },
    {
     "name": "stdout",
     "output_type": "stream",
     "text": [
      "        Total ROI Total Trades Win Rate Avg Profit% per Trade Avg Loss% per Trade Max Drawdown ROI/DD Ratio                          Variation\n",
      "2018       0.0000            0      NaN                   NaN                 NaN          NaN          NaN  n 4, rsi 14, threshold 75, ema 30\n",
      "2019       0.0000            0      NaN                   NaN                 NaN          NaN          NaN  n 4, rsi 14, threshold 75, ema 30\n",
      "2020      29.9326            1 100.0000               29.9326                 NaN       0.0000          inf  n 4, rsi 14, threshold 75, ema 30\n",
      "2021       0.0000            0      NaN                   NaN                 NaN          NaN          NaN  n 4, rsi 14, threshold 75, ema 30\n",
      "2022       0.0000            0      NaN                   NaN                 NaN          NaN          NaN  n 4, rsi 14, threshold 75, ema 30\n",
      "2023       0.0000            0      NaN                   NaN                 NaN          NaN          NaN  n 4, rsi 14, threshold 75, ema 30\n",
      "2024       0.0000            0      NaN                   NaN                 NaN          NaN          NaN  n 4, rsi 14, threshold 75, ema 30\n",
      "Overall   29.9326            1 100.0000               29.9326                 NaN       0.0000          inf  n 4, rsi 14, threshold 75, ema 30\n",
      "n 4, rsi 14, threshold 75, ema 35\n"
     ]
    },
    {
     "name": "stderr",
     "output_type": "stream",
     "text": [
      "/tmp/ipykernel_35588/873016624.py:45: RuntimeWarning: divide by zero encountered in scalar divide\n",
      "  roi_dd_ratio = total_roi / abs(max_drawdown)\n",
      "/tmp/ipykernel_35588/873016624.py:70: RuntimeWarning: divide by zero encountered in scalar divide\n",
      "  overall_roi_dd_ratio = overall_total_roi / abs(overall_max_drawdown)\n"
     ]
    },
    {
     "name": "stdout",
     "output_type": "stream",
     "text": [
      "        Total ROI Total Trades Win Rate Avg Profit% per Trade Avg Loss% per Trade Max Drawdown ROI/DD Ratio                          Variation\n",
      "2018       0.0000            0      NaN                   NaN                 NaN          NaN          NaN  n 4, rsi 14, threshold 75, ema 35\n",
      "2019       0.0000            0      NaN                   NaN                 NaN          NaN          NaN  n 4, rsi 14, threshold 75, ema 35\n",
      "2020      29.9326            1 100.0000               29.9326                 NaN       0.0000          inf  n 4, rsi 14, threshold 75, ema 35\n",
      "2021       0.0000            0      NaN                   NaN                 NaN          NaN          NaN  n 4, rsi 14, threshold 75, ema 35\n",
      "2022       0.0000            0      NaN                   NaN                 NaN          NaN          NaN  n 4, rsi 14, threshold 75, ema 35\n",
      "2023       0.0000            0      NaN                   NaN                 NaN          NaN          NaN  n 4, rsi 14, threshold 75, ema 35\n",
      "2024       0.0000            0      NaN                   NaN                 NaN          NaN          NaN  n 4, rsi 14, threshold 75, ema 35\n",
      "Overall   29.9326            1 100.0000               29.9326                 NaN       0.0000          inf  n 4, rsi 14, threshold 75, ema 35\n",
      "n 4, rsi 14, threshold 80, ema 5\n",
      "n 4, rsi 14, threshold 80, ema 10\n",
      "n 4, rsi 14, threshold 80, ema 15\n",
      "n 4, rsi 14, threshold 80, ema 20\n",
      "n 4, rsi 14, threshold 80, ema 25\n",
      "n 4, rsi 14, threshold 80, ema 30\n",
      "n 4, rsi 14, threshold 80, ema 35\n",
      "n 4, rsi 9, threshold 30, ema 5\n",
      "n 4, rsi 9, threshold 30, ema 10\n",
      "n 4, rsi 9, threshold 30, ema 15\n",
      "n 4, rsi 9, threshold 30, ema 20\n",
      "n 4, rsi 9, threshold 30, ema 25\n",
      "n 4, rsi 9, threshold 30, ema 30\n",
      "n 4, rsi 9, threshold 30, ema 35\n",
      "n 4, rsi 9, threshold 35, ema 5\n",
      "n 4, rsi 9, threshold 35, ema 10\n",
      "n 4, rsi 9, threshold 35, ema 15\n",
      "n 4, rsi 9, threshold 35, ema 20\n",
      "n 4, rsi 9, threshold 35, ema 25\n",
      "n 4, rsi 9, threshold 35, ema 30\n",
      "n 4, rsi 9, threshold 35, ema 35\n",
      "n 4, rsi 9, threshold 40, ema 5\n",
      "n 4, rsi 9, threshold 40, ema 10\n",
      "n 4, rsi 9, threshold 40, ema 15\n",
      "n 4, rsi 9, threshold 40, ema 20\n",
      "n 4, rsi 9, threshold 40, ema 25\n",
      "n 4, rsi 9, threshold 40, ema 30\n",
      "n 4, rsi 9, threshold 40, ema 35\n",
      "n 4, rsi 9, threshold 45, ema 5\n",
      "n 4, rsi 9, threshold 45, ema 10\n",
      "n 4, rsi 9, threshold 45, ema 15\n",
      "n 4, rsi 9, threshold 45, ema 20\n",
      "n 4, rsi 9, threshold 45, ema 25\n",
      "n 4, rsi 9, threshold 45, ema 30\n",
      "n 4, rsi 9, threshold 45, ema 35\n",
      "n 4, rsi 9, threshold 50, ema 5\n",
      "n 4, rsi 9, threshold 50, ema 10\n",
      "n 4, rsi 9, threshold 50, ema 15\n",
      "n 4, rsi 9, threshold 50, ema 20\n",
      "n 4, rsi 9, threshold 50, ema 25\n",
      "n 4, rsi 9, threshold 50, ema 30\n",
      "n 4, rsi 9, threshold 50, ema 35\n",
      "n 4, rsi 9, threshold 55, ema 5\n",
      "n 4, rsi 9, threshold 55, ema 10\n",
      "n 4, rsi 9, threshold 55, ema 15\n",
      "n 4, rsi 9, threshold 55, ema 20\n",
      "n 4, rsi 9, threshold 55, ema 25\n",
      "n 4, rsi 9, threshold 55, ema 30\n",
      "n 4, rsi 9, threshold 55, ema 35\n",
      "n 4, rsi 9, threshold 60, ema 5\n",
      "n 4, rsi 9, threshold 60, ema 10\n",
      "n 4, rsi 9, threshold 60, ema 15\n"
     ]
    },
    {
     "name": "stderr",
     "output_type": "stream",
     "text": [
      "/tmp/ipykernel_35588/873016624.py:45: RuntimeWarning: divide by zero encountered in scalar divide\n",
      "  roi_dd_ratio = total_roi / abs(max_drawdown)\n"
     ]
    },
    {
     "name": "stdout",
     "output_type": "stream",
     "text": [
      "n 4, rsi 9, threshold 60, ema 20\n"
     ]
    },
    {
     "name": "stderr",
     "output_type": "stream",
     "text": [
      "/tmp/ipykernel_35588/873016624.py:45: RuntimeWarning: divide by zero encountered in scalar divide\n",
      "  roi_dd_ratio = total_roi / abs(max_drawdown)\n"
     ]
    },
    {
     "name": "stdout",
     "output_type": "stream",
     "text": [
      "n 4, rsi 9, threshold 60, ema 25\n"
     ]
    },
    {
     "name": "stderr",
     "output_type": "stream",
     "text": [
      "/tmp/ipykernel_35588/873016624.py:45: RuntimeWarning: divide by zero encountered in scalar divide\n",
      "  roi_dd_ratio = total_roi / abs(max_drawdown)\n"
     ]
    },
    {
     "name": "stdout",
     "output_type": "stream",
     "text": [
      "n 4, rsi 9, threshold 60, ema 30\n"
     ]
    },
    {
     "name": "stderr",
     "output_type": "stream",
     "text": [
      "/tmp/ipykernel_35588/873016624.py:45: RuntimeWarning: divide by zero encountered in scalar divide\n",
      "  roi_dd_ratio = total_roi / abs(max_drawdown)\n"
     ]
    },
    {
     "name": "stdout",
     "output_type": "stream",
     "text": [
      "n 4, rsi 9, threshold 60, ema 35\n"
     ]
    },
    {
     "name": "stderr",
     "output_type": "stream",
     "text": [
      "/tmp/ipykernel_35588/873016624.py:45: RuntimeWarning: divide by zero encountered in scalar divide\n",
      "  roi_dd_ratio = total_roi / abs(max_drawdown)\n"
     ]
    },
    {
     "name": "stdout",
     "output_type": "stream",
     "text": [
      "n 4, rsi 9, threshold 65, ema 5\n"
     ]
    },
    {
     "name": "stderr",
     "output_type": "stream",
     "text": [
      "/tmp/ipykernel_35588/873016624.py:45: RuntimeWarning: divide by zero encountered in scalar divide\n",
      "  roi_dd_ratio = total_roi / abs(max_drawdown)\n"
     ]
    },
    {
     "name": "stdout",
     "output_type": "stream",
     "text": [
      "n 4, rsi 9, threshold 65, ema 10\n"
     ]
    },
    {
     "name": "stderr",
     "output_type": "stream",
     "text": [
      "/tmp/ipykernel_35588/873016624.py:45: RuntimeWarning: divide by zero encountered in scalar divide\n",
      "  roi_dd_ratio = total_roi / abs(max_drawdown)\n"
     ]
    },
    {
     "name": "stdout",
     "output_type": "stream",
     "text": [
      "n 4, rsi 9, threshold 65, ema 15\n"
     ]
    },
    {
     "name": "stderr",
     "output_type": "stream",
     "text": [
      "/tmp/ipykernel_35588/873016624.py:45: RuntimeWarning: divide by zero encountered in scalar divide\n",
      "  roi_dd_ratio = total_roi / abs(max_drawdown)\n"
     ]
    },
    {
     "name": "stdout",
     "output_type": "stream",
     "text": [
      "n 4, rsi 9, threshold 65, ema 20\n"
     ]
    },
    {
     "name": "stderr",
     "output_type": "stream",
     "text": [
      "/tmp/ipykernel_35588/873016624.py:45: RuntimeWarning: divide by zero encountered in scalar divide\n",
      "  roi_dd_ratio = total_roi / abs(max_drawdown)\n"
     ]
    },
    {
     "name": "stdout",
     "output_type": "stream",
     "text": [
      "n 4, rsi 9, threshold 65, ema 25\n"
     ]
    },
    {
     "name": "stderr",
     "output_type": "stream",
     "text": [
      "/tmp/ipykernel_35588/873016624.py:45: RuntimeWarning: divide by zero encountered in scalar divide\n",
      "  roi_dd_ratio = total_roi / abs(max_drawdown)\n"
     ]
    },
    {
     "name": "stdout",
     "output_type": "stream",
     "text": [
      "n 4, rsi 9, threshold 65, ema 30\n"
     ]
    },
    {
     "name": "stderr",
     "output_type": "stream",
     "text": [
      "/tmp/ipykernel_35588/873016624.py:45: RuntimeWarning: divide by zero encountered in scalar divide\n",
      "  roi_dd_ratio = total_roi / abs(max_drawdown)\n"
     ]
    },
    {
     "name": "stdout",
     "output_type": "stream",
     "text": [
      "n 4, rsi 9, threshold 65, ema 35\n"
     ]
    },
    {
     "name": "stderr",
     "output_type": "stream",
     "text": [
      "/tmp/ipykernel_35588/873016624.py:45: RuntimeWarning: divide by zero encountered in scalar divide\n",
      "  roi_dd_ratio = total_roi / abs(max_drawdown)\n"
     ]
    },
    {
     "name": "stdout",
     "output_type": "stream",
     "text": [
      "n 4, rsi 9, threshold 70, ema 5\n"
     ]
    },
    {
     "name": "stderr",
     "output_type": "stream",
     "text": [
      "/tmp/ipykernel_35588/873016624.py:45: RuntimeWarning: divide by zero encountered in scalar divide\n",
      "  roi_dd_ratio = total_roi / abs(max_drawdown)\n"
     ]
    },
    {
     "name": "stdout",
     "output_type": "stream",
     "text": [
      "n 4, rsi 9, threshold 70, ema 10\n"
     ]
    },
    {
     "name": "stderr",
     "output_type": "stream",
     "text": [
      "/tmp/ipykernel_35588/873016624.py:45: RuntimeWarning: divide by zero encountered in scalar divide\n",
      "  roi_dd_ratio = total_roi / abs(max_drawdown)\n"
     ]
    },
    {
     "name": "stdout",
     "output_type": "stream",
     "text": [
      "n 4, rsi 9, threshold 70, ema 15\n"
     ]
    },
    {
     "name": "stderr",
     "output_type": "stream",
     "text": [
      "/tmp/ipykernel_35588/873016624.py:45: RuntimeWarning: divide by zero encountered in scalar divide\n",
      "  roi_dd_ratio = total_roi / abs(max_drawdown)\n"
     ]
    },
    {
     "name": "stdout",
     "output_type": "stream",
     "text": [
      "n 4, rsi 9, threshold 70, ema 20\n"
     ]
    },
    {
     "name": "stderr",
     "output_type": "stream",
     "text": [
      "/tmp/ipykernel_35588/873016624.py:45: RuntimeWarning: divide by zero encountered in scalar divide\n",
      "  roi_dd_ratio = total_roi / abs(max_drawdown)\n"
     ]
    },
    {
     "name": "stdout",
     "output_type": "stream",
     "text": [
      "n 4, rsi 9, threshold 70, ema 25\n"
     ]
    },
    {
     "name": "stderr",
     "output_type": "stream",
     "text": [
      "/tmp/ipykernel_35588/873016624.py:45: RuntimeWarning: divide by zero encountered in scalar divide\n",
      "  roi_dd_ratio = total_roi / abs(max_drawdown)\n"
     ]
    },
    {
     "name": "stdout",
     "output_type": "stream",
     "text": [
      "n 4, rsi 9, threshold 70, ema 30\n"
     ]
    },
    {
     "name": "stderr",
     "output_type": "stream",
     "text": [
      "/tmp/ipykernel_35588/873016624.py:45: RuntimeWarning: divide by zero encountered in scalar divide\n",
      "  roi_dd_ratio = total_roi / abs(max_drawdown)\n"
     ]
    },
    {
     "name": "stdout",
     "output_type": "stream",
     "text": [
      "n 4, rsi 9, threshold 70, ema 35\n"
     ]
    },
    {
     "name": "stderr",
     "output_type": "stream",
     "text": [
      "/tmp/ipykernel_35588/873016624.py:45: RuntimeWarning: divide by zero encountered in scalar divide\n",
      "  roi_dd_ratio = total_roi / abs(max_drawdown)\n"
     ]
    },
    {
     "name": "stdout",
     "output_type": "stream",
     "text": [
      "n 4, rsi 9, threshold 75, ema 5\n",
      "n 4, rsi 9, threshold 75, ema 10\n",
      "n 4, rsi 9, threshold 75, ema 15\n",
      "n 4, rsi 9, threshold 75, ema 20\n",
      "n 4, rsi 9, threshold 75, ema 25\n",
      "n 4, rsi 9, threshold 75, ema 30\n",
      "n 4, rsi 9, threshold 75, ema 35\n",
      "n 4, rsi 9, threshold 80, ema 5\n",
      "n 4, rsi 9, threshold 80, ema 10\n",
      "n 4, rsi 9, threshold 80, ema 15\n",
      "n 4, rsi 9, threshold 80, ema 20\n",
      "n 4, rsi 9, threshold 80, ema 25\n",
      "n 4, rsi 9, threshold 80, ema 30\n",
      "n 4, rsi 9, threshold 80, ema 35\n",
      "n 4, rsi 21, threshold 30, ema 5\n",
      "n 4, rsi 21, threshold 30, ema 10\n",
      "n 4, rsi 21, threshold 30, ema 15\n",
      "n 4, rsi 21, threshold 30, ema 20\n",
      "n 4, rsi 21, threshold 30, ema 25\n",
      "n 4, rsi 21, threshold 30, ema 30\n",
      "n 4, rsi 21, threshold 30, ema 35\n",
      "n 4, rsi 21, threshold 35, ema 5\n",
      "n 4, rsi 21, threshold 35, ema 10\n",
      "n 4, rsi 21, threshold 35, ema 15\n",
      "n 4, rsi 21, threshold 35, ema 20\n",
      "n 4, rsi 21, threshold 35, ema 25\n",
      "n 4, rsi 21, threshold 35, ema 30\n",
      "n 4, rsi 21, threshold 35, ema 35\n",
      "n 4, rsi 21, threshold 40, ema 5\n",
      "n 4, rsi 21, threshold 40, ema 10\n",
      "n 4, rsi 21, threshold 40, ema 15\n",
      "n 4, rsi 21, threshold 40, ema 20\n",
      "n 4, rsi 21, threshold 40, ema 25\n",
      "n 4, rsi 21, threshold 40, ema 30\n",
      "n 4, rsi 21, threshold 40, ema 35\n",
      "n 4, rsi 21, threshold 45, ema 5\n",
      "n 4, rsi 21, threshold 45, ema 10\n",
      "n 4, rsi 21, threshold 45, ema 15\n",
      "n 4, rsi 21, threshold 45, ema 20\n",
      "n 4, rsi 21, threshold 45, ema 25\n",
      "n 4, rsi 21, threshold 45, ema 30\n",
      "n 4, rsi 21, threshold 45, ema 35\n",
      "n 4, rsi 21, threshold 50, ema 5\n",
      "n 4, rsi 21, threshold 50, ema 10\n",
      "n 4, rsi 21, threshold 50, ema 15\n",
      "n 4, rsi 21, threshold 50, ema 20\n",
      "n 4, rsi 21, threshold 50, ema 25\n",
      "n 4, rsi 21, threshold 50, ema 30\n",
      "n 4, rsi 21, threshold 50, ema 35\n",
      "n 4, rsi 21, threshold 55, ema 5\n",
      "n 4, rsi 21, threshold 55, ema 10\n",
      "n 4, rsi 21, threshold 55, ema 15\n",
      "n 4, rsi 21, threshold 55, ema 20\n",
      "n 4, rsi 21, threshold 55, ema 25\n",
      "n 4, rsi 21, threshold 55, ema 30\n",
      "n 4, rsi 21, threshold 55, ema 35\n",
      "n 4, rsi 21, threshold 60, ema 5\n",
      "n 4, rsi 21, threshold 60, ema 10\n",
      "n 4, rsi 21, threshold 60, ema 15\n",
      "n 4, rsi 21, threshold 60, ema 20\n",
      "n 4, rsi 21, threshold 60, ema 25\n",
      "n 4, rsi 21, threshold 60, ema 30\n",
      "n 4, rsi 21, threshold 60, ema 35\n",
      "n 4, rsi 21, threshold 65, ema 5\n"
     ]
    },
    {
     "name": "stderr",
     "output_type": "stream",
     "text": [
      "/tmp/ipykernel_35588/873016624.py:45: RuntimeWarning: divide by zero encountered in scalar divide\n",
      "  roi_dd_ratio = total_roi / abs(max_drawdown)\n"
     ]
    },
    {
     "name": "stdout",
     "output_type": "stream",
     "text": [
      "n 4, rsi 21, threshold 65, ema 10\n",
      "n 4, rsi 21, threshold 65, ema 15\n",
      "n 4, rsi 21, threshold 65, ema 20\n",
      "n 4, rsi 21, threshold 65, ema 25\n",
      "n 4, rsi 21, threshold 65, ema 30\n",
      "n 4, rsi 21, threshold 65, ema 35\n",
      "n 4, rsi 21, threshold 70, ema 5\n"
     ]
    },
    {
     "name": "stderr",
     "output_type": "stream",
     "text": [
      "/tmp/ipykernel_35588/873016624.py:45: RuntimeWarning: divide by zero encountered in scalar divide\n",
      "  roi_dd_ratio = total_roi / abs(max_drawdown)\n"
     ]
    },
    {
     "name": "stdout",
     "output_type": "stream",
     "text": [
      "n 4, rsi 21, threshold 70, ema 10\n"
     ]
    },
    {
     "name": "stderr",
     "output_type": "stream",
     "text": [
      "/tmp/ipykernel_35588/873016624.py:45: RuntimeWarning: divide by zero encountered in scalar divide\n",
      "  roi_dd_ratio = total_roi / abs(max_drawdown)\n"
     ]
    },
    {
     "name": "stdout",
     "output_type": "stream",
     "text": [
      "n 4, rsi 21, threshold 70, ema 15\n"
     ]
    },
    {
     "name": "stderr",
     "output_type": "stream",
     "text": [
      "/tmp/ipykernel_35588/873016624.py:45: RuntimeWarning: divide by zero encountered in scalar divide\n",
      "  roi_dd_ratio = total_roi / abs(max_drawdown)\n"
     ]
    },
    {
     "name": "stdout",
     "output_type": "stream",
     "text": [
      "n 4, rsi 21, threshold 70, ema 20\n"
     ]
    },
    {
     "name": "stderr",
     "output_type": "stream",
     "text": [
      "/tmp/ipykernel_35588/873016624.py:45: RuntimeWarning: divide by zero encountered in scalar divide\n",
      "  roi_dd_ratio = total_roi / abs(max_drawdown)\n"
     ]
    },
    {
     "name": "stdout",
     "output_type": "stream",
     "text": [
      "n 4, rsi 21, threshold 70, ema 25\n"
     ]
    },
    {
     "name": "stderr",
     "output_type": "stream",
     "text": [
      "/tmp/ipykernel_35588/873016624.py:45: RuntimeWarning: divide by zero encountered in scalar divide\n",
      "  roi_dd_ratio = total_roi / abs(max_drawdown)\n"
     ]
    },
    {
     "name": "stdout",
     "output_type": "stream",
     "text": [
      "n 4, rsi 21, threshold 70, ema 30\n"
     ]
    },
    {
     "name": "stderr",
     "output_type": "stream",
     "text": [
      "/tmp/ipykernel_35588/873016624.py:45: RuntimeWarning: divide by zero encountered in scalar divide\n",
      "  roi_dd_ratio = total_roi / abs(max_drawdown)\n"
     ]
    },
    {
     "name": "stdout",
     "output_type": "stream",
     "text": [
      "n 4, rsi 21, threshold 70, ema 35\n"
     ]
    },
    {
     "name": "stderr",
     "output_type": "stream",
     "text": [
      "/tmp/ipykernel_35588/873016624.py:45: RuntimeWarning: divide by zero encountered in scalar divide\n",
      "  roi_dd_ratio = total_roi / abs(max_drawdown)\n"
     ]
    },
    {
     "name": "stdout",
     "output_type": "stream",
     "text": [
      "n 4, rsi 21, threshold 75, ema 5\n",
      "n 4, rsi 21, threshold 75, ema 10\n",
      "n 4, rsi 21, threshold 75, ema 15\n",
      "n 4, rsi 21, threshold 75, ema 20\n",
      "n 4, rsi 21, threshold 75, ema 25\n",
      "n 4, rsi 21, threshold 75, ema 30\n",
      "n 4, rsi 21, threshold 75, ema 35\n",
      "n 4, rsi 21, threshold 80, ema 5\n",
      "n 4, rsi 21, threshold 80, ema 10\n",
      "n 4, rsi 21, threshold 80, ema 15\n",
      "n 4, rsi 21, threshold 80, ema 20\n",
      "n 4, rsi 21, threshold 80, ema 25\n",
      "n 4, rsi 21, threshold 80, ema 30\n",
      "n 4, rsi 21, threshold 80, ema 35\n",
      "n 4, rsi 6, threshold 30, ema 5\n",
      "n 4, rsi 6, threshold 30, ema 10\n",
      "n 4, rsi 6, threshold 30, ema 15\n",
      "n 4, rsi 6, threshold 30, ema 20\n",
      "n 4, rsi 6, threshold 30, ema 25\n",
      "n 4, rsi 6, threshold 30, ema 30\n",
      "n 4, rsi 6, threshold 30, ema 35\n",
      "n 4, rsi 6, threshold 35, ema 5\n",
      "n 4, rsi 6, threshold 35, ema 10\n",
      "n 4, rsi 6, threshold 35, ema 15\n",
      "n 4, rsi 6, threshold 35, ema 20\n",
      "n 4, rsi 6, threshold 35, ema 25\n",
      "n 4, rsi 6, threshold 35, ema 30\n",
      "n 4, rsi 6, threshold 35, ema 35\n",
      "n 4, rsi 6, threshold 40, ema 5\n",
      "n 4, rsi 6, threshold 40, ema 10\n",
      "n 4, rsi 6, threshold 40, ema 15\n",
      "n 4, rsi 6, threshold 40, ema 20\n",
      "n 4, rsi 6, threshold 40, ema 25\n",
      "n 4, rsi 6, threshold 40, ema 30\n",
      "n 4, rsi 6, threshold 40, ema 35\n",
      "n 4, rsi 6, threshold 45, ema 5\n",
      "n 4, rsi 6, threshold 45, ema 10\n",
      "n 4, rsi 6, threshold 45, ema 15\n",
      "n 4, rsi 6, threshold 45, ema 20\n",
      "n 4, rsi 6, threshold 45, ema 25\n",
      "n 4, rsi 6, threshold 45, ema 30\n",
      "n 4, rsi 6, threshold 45, ema 35\n",
      "n 4, rsi 6, threshold 50, ema 5\n",
      "n 4, rsi 6, threshold 50, ema 10\n",
      "n 4, rsi 6, threshold 50, ema 15\n",
      "n 4, rsi 6, threshold 50, ema 20\n",
      "n 4, rsi 6, threshold 50, ema 25\n",
      "n 4, rsi 6, threshold 50, ema 30\n",
      "n 4, rsi 6, threshold 50, ema 35\n",
      "n 4, rsi 6, threshold 55, ema 5\n",
      "n 4, rsi 6, threshold 55, ema 10\n",
      "n 4, rsi 6, threshold 55, ema 15\n"
     ]
    },
    {
     "name": "stderr",
     "output_type": "stream",
     "text": [
      "/tmp/ipykernel_35588/873016624.py:45: RuntimeWarning: divide by zero encountered in scalar divide\n",
      "  roi_dd_ratio = total_roi / abs(max_drawdown)\n"
     ]
    },
    {
     "name": "stdout",
     "output_type": "stream",
     "text": [
      "n 4, rsi 6, threshold 55, ema 20\n"
     ]
    },
    {
     "name": "stderr",
     "output_type": "stream",
     "text": [
      "/tmp/ipykernel_35588/873016624.py:45: RuntimeWarning: divide by zero encountered in scalar divide\n",
      "  roi_dd_ratio = total_roi / abs(max_drawdown)\n"
     ]
    },
    {
     "name": "stdout",
     "output_type": "stream",
     "text": [
      "n 4, rsi 6, threshold 55, ema 25\n"
     ]
    },
    {
     "name": "stderr",
     "output_type": "stream",
     "text": [
      "/tmp/ipykernel_35588/873016624.py:45: RuntimeWarning: divide by zero encountered in scalar divide\n",
      "  roi_dd_ratio = total_roi / abs(max_drawdown)\n"
     ]
    },
    {
     "name": "stdout",
     "output_type": "stream",
     "text": [
      "n 4, rsi 6, threshold 55, ema 30\n"
     ]
    },
    {
     "name": "stderr",
     "output_type": "stream",
     "text": [
      "/tmp/ipykernel_35588/873016624.py:45: RuntimeWarning: divide by zero encountered in scalar divide\n",
      "  roi_dd_ratio = total_roi / abs(max_drawdown)\n"
     ]
    },
    {
     "name": "stdout",
     "output_type": "stream",
     "text": [
      "n 4, rsi 6, threshold 55, ema 35\n"
     ]
    },
    {
     "name": "stderr",
     "output_type": "stream",
     "text": [
      "/tmp/ipykernel_35588/873016624.py:45: RuntimeWarning: divide by zero encountered in scalar divide\n",
      "  roi_dd_ratio = total_roi / abs(max_drawdown)\n"
     ]
    },
    {
     "name": "stdout",
     "output_type": "stream",
     "text": [
      "n 4, rsi 6, threshold 60, ema 5\n",
      "n 4, rsi 6, threshold 60, ema 10\n",
      "n 4, rsi 6, threshold 60, ema 15\n",
      "n 4, rsi 6, threshold 60, ema 20\n",
      "n 4, rsi 6, threshold 60, ema 25\n",
      "n 4, rsi 6, threshold 60, ema 30\n",
      "n 4, rsi 6, threshold 60, ema 35\n",
      "n 4, rsi 6, threshold 65, ema 5\n"
     ]
    },
    {
     "name": "stderr",
     "output_type": "stream",
     "text": [
      "/tmp/ipykernel_35588/873016624.py:45: RuntimeWarning: divide by zero encountered in scalar divide\n",
      "  roi_dd_ratio = total_roi / abs(max_drawdown)\n"
     ]
    },
    {
     "name": "stdout",
     "output_type": "stream",
     "text": [
      "n 4, rsi 6, threshold 65, ema 10\n"
     ]
    },
    {
     "name": "stderr",
     "output_type": "stream",
     "text": [
      "/tmp/ipykernel_35588/873016624.py:45: RuntimeWarning: divide by zero encountered in scalar divide\n",
      "  roi_dd_ratio = total_roi / abs(max_drawdown)\n"
     ]
    },
    {
     "name": "stdout",
     "output_type": "stream",
     "text": [
      "n 4, rsi 6, threshold 65, ema 15\n"
     ]
    },
    {
     "name": "stderr",
     "output_type": "stream",
     "text": [
      "/tmp/ipykernel_35588/873016624.py:45: RuntimeWarning: divide by zero encountered in scalar divide\n",
      "  roi_dd_ratio = total_roi / abs(max_drawdown)\n"
     ]
    },
    {
     "name": "stdout",
     "output_type": "stream",
     "text": [
      "n 4, rsi 6, threshold 65, ema 20\n"
     ]
    },
    {
     "name": "stderr",
     "output_type": "stream",
     "text": [
      "/tmp/ipykernel_35588/873016624.py:45: RuntimeWarning: divide by zero encountered in scalar divide\n",
      "  roi_dd_ratio = total_roi / abs(max_drawdown)\n"
     ]
    },
    {
     "name": "stdout",
     "output_type": "stream",
     "text": [
      "n 4, rsi 6, threshold 65, ema 25\n"
     ]
    },
    {
     "name": "stderr",
     "output_type": "stream",
     "text": [
      "/tmp/ipykernel_35588/873016624.py:45: RuntimeWarning: divide by zero encountered in scalar divide\n",
      "  roi_dd_ratio = total_roi / abs(max_drawdown)\n"
     ]
    },
    {
     "name": "stdout",
     "output_type": "stream",
     "text": [
      "n 4, rsi 6, threshold 65, ema 30\n"
     ]
    },
    {
     "name": "stderr",
     "output_type": "stream",
     "text": [
      "/tmp/ipykernel_35588/873016624.py:45: RuntimeWarning: divide by zero encountered in scalar divide\n",
      "  roi_dd_ratio = total_roi / abs(max_drawdown)\n"
     ]
    },
    {
     "name": "stdout",
     "output_type": "stream",
     "text": [
      "n 4, rsi 6, threshold 65, ema 35\n"
     ]
    },
    {
     "name": "stderr",
     "output_type": "stream",
     "text": [
      "/tmp/ipykernel_35588/873016624.py:45: RuntimeWarning: divide by zero encountered in scalar divide\n",
      "  roi_dd_ratio = total_roi / abs(max_drawdown)\n"
     ]
    },
    {
     "name": "stdout",
     "output_type": "stream",
     "text": [
      "n 4, rsi 6, threshold 70, ema 5\n",
      "n 4, rsi 6, threshold 70, ema 10\n",
      "n 4, rsi 6, threshold 70, ema 15\n",
      "n 4, rsi 6, threshold 70, ema 20\n",
      "n 4, rsi 6, threshold 70, ema 25\n",
      "n 4, rsi 6, threshold 70, ema 30\n",
      "n 4, rsi 6, threshold 70, ema 35\n",
      "n 4, rsi 6, threshold 75, ema 5\n",
      "n 4, rsi 6, threshold 75, ema 10\n",
      "n 4, rsi 6, threshold 75, ema 15\n",
      "n 4, rsi 6, threshold 75, ema 20\n",
      "n 4, rsi 6, threshold 75, ema 25\n",
      "n 4, rsi 6, threshold 75, ema 30\n",
      "n 4, rsi 6, threshold 75, ema 35\n",
      "n 4, rsi 6, threshold 80, ema 5\n",
      "n 4, rsi 6, threshold 80, ema 10\n",
      "n 4, rsi 6, threshold 80, ema 15\n",
      "n 4, rsi 6, threshold 80, ema 20\n",
      "n 4, rsi 6, threshold 80, ema 25\n",
      "n 4, rsi 6, threshold 80, ema 30\n",
      "n 4, rsi 6, threshold 80, ema 35\n",
      "n 4, rsi 12, threshold 30, ema 5\n",
      "n 4, rsi 12, threshold 30, ema 10\n",
      "n 4, rsi 12, threshold 30, ema 15\n",
      "n 4, rsi 12, threshold 30, ema 20\n",
      "n 4, rsi 12, threshold 30, ema 25\n",
      "n 4, rsi 12, threshold 30, ema 30\n",
      "n 4, rsi 12, threshold 30, ema 35\n",
      "n 4, rsi 12, threshold 35, ema 5\n",
      "n 4, rsi 12, threshold 35, ema 10\n",
      "n 4, rsi 12, threshold 35, ema 15\n",
      "n 4, rsi 12, threshold 35, ema 20\n",
      "n 4, rsi 12, threshold 35, ema 25\n",
      "n 4, rsi 12, threshold 35, ema 30\n",
      "n 4, rsi 12, threshold 35, ema 35\n",
      "n 4, rsi 12, threshold 40, ema 5\n",
      "n 4, rsi 12, threshold 40, ema 10\n",
      "n 4, rsi 12, threshold 40, ema 15\n",
      "n 4, rsi 12, threshold 40, ema 20\n",
      "n 4, rsi 12, threshold 40, ema 25\n",
      "n 4, rsi 12, threshold 40, ema 30\n",
      "n 4, rsi 12, threshold 40, ema 35\n",
      "n 4, rsi 12, threshold 45, ema 5\n",
      "n 4, rsi 12, threshold 45, ema 10\n",
      "n 4, rsi 12, threshold 45, ema 15\n",
      "n 4, rsi 12, threshold 45, ema 20\n",
      "n 4, rsi 12, threshold 45, ema 25\n",
      "n 4, rsi 12, threshold 45, ema 30\n",
      "n 4, rsi 12, threshold 45, ema 35\n",
      "n 4, rsi 12, threshold 50, ema 5\n",
      "n 4, rsi 12, threshold 50, ema 10\n",
      "n 4, rsi 12, threshold 50, ema 15\n",
      "n 4, rsi 12, threshold 50, ema 20\n",
      "n 4, rsi 12, threshold 50, ema 25\n",
      "n 4, rsi 12, threshold 50, ema 30\n",
      "n 4, rsi 12, threshold 50, ema 35\n",
      "n 4, rsi 12, threshold 55, ema 5\n",
      "n 4, rsi 12, threshold 55, ema 10\n",
      "n 4, rsi 12, threshold 55, ema 15\n",
      "n 4, rsi 12, threshold 55, ema 20\n",
      "n 4, rsi 12, threshold 55, ema 25\n",
      "n 4, rsi 12, threshold 55, ema 30\n",
      "n 4, rsi 12, threshold 55, ema 35\n",
      "n 4, rsi 12, threshold 60, ema 5\n",
      "n 4, rsi 12, threshold 60, ema 10\n",
      "n 4, rsi 12, threshold 60, ema 15\n",
      "n 4, rsi 12, threshold 60, ema 20\n",
      "n 4, rsi 12, threshold 60, ema 25\n",
      "n 4, rsi 12, threshold 60, ema 30\n",
      "n 4, rsi 12, threshold 60, ema 35\n",
      "n 4, rsi 12, threshold 65, ema 5\n"
     ]
    },
    {
     "name": "stderr",
     "output_type": "stream",
     "text": [
      "/tmp/ipykernel_35588/873016624.py:45: RuntimeWarning: divide by zero encountered in scalar divide\n",
      "  roi_dd_ratio = total_roi / abs(max_drawdown)\n"
     ]
    },
    {
     "name": "stdout",
     "output_type": "stream",
     "text": [
      "n 4, rsi 12, threshold 65, ema 10\n"
     ]
    },
    {
     "name": "stderr",
     "output_type": "stream",
     "text": [
      "/tmp/ipykernel_35588/873016624.py:45: RuntimeWarning: divide by zero encountered in scalar divide\n",
      "  roi_dd_ratio = total_roi / abs(max_drawdown)\n"
     ]
    },
    {
     "name": "stdout",
     "output_type": "stream",
     "text": [
      "n 4, rsi 12, threshold 65, ema 15\n"
     ]
    },
    {
     "name": "stderr",
     "output_type": "stream",
     "text": [
      "/tmp/ipykernel_35588/873016624.py:45: RuntimeWarning: divide by zero encountered in scalar divide\n",
      "  roi_dd_ratio = total_roi / abs(max_drawdown)\n"
     ]
    },
    {
     "name": "stdout",
     "output_type": "stream",
     "text": [
      "n 4, rsi 12, threshold 65, ema 20\n"
     ]
    },
    {
     "name": "stderr",
     "output_type": "stream",
     "text": [
      "/tmp/ipykernel_35588/873016624.py:45: RuntimeWarning: divide by zero encountered in scalar divide\n",
      "  roi_dd_ratio = total_roi / abs(max_drawdown)\n"
     ]
    },
    {
     "name": "stdout",
     "output_type": "stream",
     "text": [
      "n 4, rsi 12, threshold 65, ema 25\n"
     ]
    },
    {
     "name": "stderr",
     "output_type": "stream",
     "text": [
      "/tmp/ipykernel_35588/873016624.py:45: RuntimeWarning: divide by zero encountered in scalar divide\n",
      "  roi_dd_ratio = total_roi / abs(max_drawdown)\n"
     ]
    },
    {
     "name": "stdout",
     "output_type": "stream",
     "text": [
      "n 4, rsi 12, threshold 65, ema 30\n"
     ]
    },
    {
     "name": "stderr",
     "output_type": "stream",
     "text": [
      "/tmp/ipykernel_35588/873016624.py:45: RuntimeWarning: divide by zero encountered in scalar divide\n",
      "  roi_dd_ratio = total_roi / abs(max_drawdown)\n"
     ]
    },
    {
     "name": "stdout",
     "output_type": "stream",
     "text": [
      "n 4, rsi 12, threshold 65, ema 35\n"
     ]
    },
    {
     "name": "stderr",
     "output_type": "stream",
     "text": [
      "/tmp/ipykernel_35588/873016624.py:45: RuntimeWarning: divide by zero encountered in scalar divide\n",
      "  roi_dd_ratio = total_roi / abs(max_drawdown)\n"
     ]
    },
    {
     "name": "stdout",
     "output_type": "stream",
     "text": [
      "n 4, rsi 12, threshold 70, ema 5\n",
      "n 4, rsi 12, threshold 70, ema 10\n",
      "n 4, rsi 12, threshold 70, ema 15\n"
     ]
    },
    {
     "name": "stderr",
     "output_type": "stream",
     "text": [
      "/tmp/ipykernel_35588/873016624.py:45: RuntimeWarning: divide by zero encountered in scalar divide\n",
      "  roi_dd_ratio = total_roi / abs(max_drawdown)\n"
     ]
    },
    {
     "name": "stdout",
     "output_type": "stream",
     "text": [
      "n 4, rsi 12, threshold 70, ema 20\n"
     ]
    },
    {
     "name": "stderr",
     "output_type": "stream",
     "text": [
      "/tmp/ipykernel_35588/873016624.py:45: RuntimeWarning: divide by zero encountered in scalar divide\n",
      "  roi_dd_ratio = total_roi / abs(max_drawdown)\n"
     ]
    },
    {
     "name": "stdout",
     "output_type": "stream",
     "text": [
      "n 4, rsi 12, threshold 70, ema 25\n"
     ]
    },
    {
     "name": "stderr",
     "output_type": "stream",
     "text": [
      "/tmp/ipykernel_35588/873016624.py:45: RuntimeWarning: divide by zero encountered in scalar divide\n",
      "  roi_dd_ratio = total_roi / abs(max_drawdown)\n"
     ]
    },
    {
     "name": "stdout",
     "output_type": "stream",
     "text": [
      "n 4, rsi 12, threshold 70, ema 30\n"
     ]
    },
    {
     "name": "stderr",
     "output_type": "stream",
     "text": [
      "/tmp/ipykernel_35588/873016624.py:45: RuntimeWarning: divide by zero encountered in scalar divide\n",
      "  roi_dd_ratio = total_roi / abs(max_drawdown)\n"
     ]
    },
    {
     "name": "stdout",
     "output_type": "stream",
     "text": [
      "n 4, rsi 12, threshold 70, ema 35\n"
     ]
    },
    {
     "name": "stderr",
     "output_type": "stream",
     "text": [
      "/tmp/ipykernel_35588/873016624.py:45: RuntimeWarning: divide by zero encountered in scalar divide\n",
      "  roi_dd_ratio = total_roi / abs(max_drawdown)\n"
     ]
    },
    {
     "name": "stdout",
     "output_type": "stream",
     "text": [
      "n 4, rsi 12, threshold 75, ema 5\n"
     ]
    },
    {
     "name": "stderr",
     "output_type": "stream",
     "text": [
      "/tmp/ipykernel_35588/873016624.py:45: RuntimeWarning: divide by zero encountered in scalar divide\n",
      "  roi_dd_ratio = total_roi / abs(max_drawdown)\n",
      "/tmp/ipykernel_35588/873016624.py:70: RuntimeWarning: divide by zero encountered in scalar divide\n",
      "  overall_roi_dd_ratio = overall_total_roi / abs(overall_max_drawdown)\n"
     ]
    },
    {
     "name": "stdout",
     "output_type": "stream",
     "text": [
      "        Total ROI Total Trades Win Rate Avg Profit% per Trade Avg Loss% per Trade Max Drawdown ROI/DD Ratio                         Variation\n",
      "2018       0.0000            0      NaN                   NaN                 NaN          NaN          NaN  n 4, rsi 12, threshold 75, ema 5\n",
      "2019       0.0000            0      NaN                   NaN                 NaN          NaN          NaN  n 4, rsi 12, threshold 75, ema 5\n",
      "2020      29.9326            1 100.0000               29.9326                 NaN       0.0000          inf  n 4, rsi 12, threshold 75, ema 5\n",
      "2021       0.0000            0      NaN                   NaN                 NaN          NaN          NaN  n 4, rsi 12, threshold 75, ema 5\n",
      "2022       0.0000            0      NaN                   NaN                 NaN          NaN          NaN  n 4, rsi 12, threshold 75, ema 5\n",
      "2023       0.0000            0      NaN                   NaN                 NaN          NaN          NaN  n 4, rsi 12, threshold 75, ema 5\n",
      "2024       0.0000            0      NaN                   NaN                 NaN          NaN          NaN  n 4, rsi 12, threshold 75, ema 5\n",
      "Overall   29.9326            1 100.0000               29.9326                 NaN       0.0000          inf  n 4, rsi 12, threshold 75, ema 5\n",
      "n 4, rsi 12, threshold 75, ema 10\n"
     ]
    },
    {
     "name": "stderr",
     "output_type": "stream",
     "text": [
      "/tmp/ipykernel_35588/873016624.py:45: RuntimeWarning: divide by zero encountered in scalar divide\n",
      "  roi_dd_ratio = total_roi / abs(max_drawdown)\n",
      "/tmp/ipykernel_35588/873016624.py:70: RuntimeWarning: divide by zero encountered in scalar divide\n",
      "  overall_roi_dd_ratio = overall_total_roi / abs(overall_max_drawdown)\n"
     ]
    },
    {
     "name": "stdout",
     "output_type": "stream",
     "text": [
      "        Total ROI Total Trades Win Rate Avg Profit% per Trade Avg Loss% per Trade Max Drawdown ROI/DD Ratio                          Variation\n",
      "2018       0.0000            0      NaN                   NaN                 NaN          NaN          NaN  n 4, rsi 12, threshold 75, ema 10\n",
      "2019       0.0000            0      NaN                   NaN                 NaN          NaN          NaN  n 4, rsi 12, threshold 75, ema 10\n",
      "2020      29.9326            1 100.0000               29.9326                 NaN       0.0000          inf  n 4, rsi 12, threshold 75, ema 10\n",
      "2021       0.0000            0      NaN                   NaN                 NaN          NaN          NaN  n 4, rsi 12, threshold 75, ema 10\n",
      "2022       0.0000            0      NaN                   NaN                 NaN          NaN          NaN  n 4, rsi 12, threshold 75, ema 10\n",
      "2023       0.0000            0      NaN                   NaN                 NaN          NaN          NaN  n 4, rsi 12, threshold 75, ema 10\n",
      "2024       0.0000            0      NaN                   NaN                 NaN          NaN          NaN  n 4, rsi 12, threshold 75, ema 10\n",
      "Overall   29.9326            1 100.0000               29.9326                 NaN       0.0000          inf  n 4, rsi 12, threshold 75, ema 10\n",
      "n 4, rsi 12, threshold 75, ema 15\n"
     ]
    },
    {
     "name": "stderr",
     "output_type": "stream",
     "text": [
      "/tmp/ipykernel_35588/873016624.py:45: RuntimeWarning: divide by zero encountered in scalar divide\n",
      "  roi_dd_ratio = total_roi / abs(max_drawdown)\n",
      "/tmp/ipykernel_35588/873016624.py:70: RuntimeWarning: divide by zero encountered in scalar divide\n",
      "  overall_roi_dd_ratio = overall_total_roi / abs(overall_max_drawdown)\n"
     ]
    },
    {
     "name": "stdout",
     "output_type": "stream",
     "text": [
      "        Total ROI Total Trades Win Rate Avg Profit% per Trade Avg Loss% per Trade Max Drawdown ROI/DD Ratio                          Variation\n",
      "2018       0.0000            0      NaN                   NaN                 NaN          NaN          NaN  n 4, rsi 12, threshold 75, ema 15\n",
      "2019       0.0000            0      NaN                   NaN                 NaN          NaN          NaN  n 4, rsi 12, threshold 75, ema 15\n",
      "2020      29.9326            1 100.0000               29.9326                 NaN       0.0000          inf  n 4, rsi 12, threshold 75, ema 15\n",
      "2021       0.0000            0      NaN                   NaN                 NaN          NaN          NaN  n 4, rsi 12, threshold 75, ema 15\n",
      "2022       0.0000            0      NaN                   NaN                 NaN          NaN          NaN  n 4, rsi 12, threshold 75, ema 15\n",
      "2023       0.0000            0      NaN                   NaN                 NaN          NaN          NaN  n 4, rsi 12, threshold 75, ema 15\n",
      "2024       0.0000            0      NaN                   NaN                 NaN          NaN          NaN  n 4, rsi 12, threshold 75, ema 15\n",
      "Overall   29.9326            1 100.0000               29.9326                 NaN       0.0000          inf  n 4, rsi 12, threshold 75, ema 15\n",
      "n 4, rsi 12, threshold 75, ema 20\n"
     ]
    },
    {
     "name": "stderr",
     "output_type": "stream",
     "text": [
      "/tmp/ipykernel_35588/873016624.py:45: RuntimeWarning: divide by zero encountered in scalar divide\n",
      "  roi_dd_ratio = total_roi / abs(max_drawdown)\n",
      "/tmp/ipykernel_35588/873016624.py:70: RuntimeWarning: divide by zero encountered in scalar divide\n",
      "  overall_roi_dd_ratio = overall_total_roi / abs(overall_max_drawdown)\n"
     ]
    },
    {
     "name": "stdout",
     "output_type": "stream",
     "text": [
      "        Total ROI Total Trades Win Rate Avg Profit% per Trade Avg Loss% per Trade Max Drawdown ROI/DD Ratio                          Variation\n",
      "2018       0.0000            0      NaN                   NaN                 NaN          NaN          NaN  n 4, rsi 12, threshold 75, ema 20\n",
      "2019       0.0000            0      NaN                   NaN                 NaN          NaN          NaN  n 4, rsi 12, threshold 75, ema 20\n",
      "2020      29.9326            1 100.0000               29.9326                 NaN       0.0000          inf  n 4, rsi 12, threshold 75, ema 20\n",
      "2021       0.0000            0      NaN                   NaN                 NaN          NaN          NaN  n 4, rsi 12, threshold 75, ema 20\n",
      "2022       0.0000            0      NaN                   NaN                 NaN          NaN          NaN  n 4, rsi 12, threshold 75, ema 20\n",
      "2023       0.0000            0      NaN                   NaN                 NaN          NaN          NaN  n 4, rsi 12, threshold 75, ema 20\n",
      "2024       0.0000            0      NaN                   NaN                 NaN          NaN          NaN  n 4, rsi 12, threshold 75, ema 20\n",
      "Overall   29.9326            1 100.0000               29.9326                 NaN       0.0000          inf  n 4, rsi 12, threshold 75, ema 20\n",
      "n 4, rsi 12, threshold 75, ema 25\n"
     ]
    },
    {
     "name": "stderr",
     "output_type": "stream",
     "text": [
      "/tmp/ipykernel_35588/873016624.py:45: RuntimeWarning: divide by zero encountered in scalar divide\n",
      "  roi_dd_ratio = total_roi / abs(max_drawdown)\n",
      "/tmp/ipykernel_35588/873016624.py:70: RuntimeWarning: divide by zero encountered in scalar divide\n",
      "  overall_roi_dd_ratio = overall_total_roi / abs(overall_max_drawdown)\n"
     ]
    },
    {
     "name": "stdout",
     "output_type": "stream",
     "text": [
      "        Total ROI Total Trades Win Rate Avg Profit% per Trade Avg Loss% per Trade Max Drawdown ROI/DD Ratio                          Variation\n",
      "2018       0.0000            0      NaN                   NaN                 NaN          NaN          NaN  n 4, rsi 12, threshold 75, ema 25\n",
      "2019       0.0000            0      NaN                   NaN                 NaN          NaN          NaN  n 4, rsi 12, threshold 75, ema 25\n",
      "2020      29.9326            1 100.0000               29.9326                 NaN       0.0000          inf  n 4, rsi 12, threshold 75, ema 25\n",
      "2021       0.0000            0      NaN                   NaN                 NaN          NaN          NaN  n 4, rsi 12, threshold 75, ema 25\n",
      "2022       0.0000            0      NaN                   NaN                 NaN          NaN          NaN  n 4, rsi 12, threshold 75, ema 25\n",
      "2023       0.0000            0      NaN                   NaN                 NaN          NaN          NaN  n 4, rsi 12, threshold 75, ema 25\n",
      "2024       0.0000            0      NaN                   NaN                 NaN          NaN          NaN  n 4, rsi 12, threshold 75, ema 25\n",
      "Overall   29.9326            1 100.0000               29.9326                 NaN       0.0000          inf  n 4, rsi 12, threshold 75, ema 25\n",
      "n 4, rsi 12, threshold 75, ema 30\n"
     ]
    },
    {
     "name": "stderr",
     "output_type": "stream",
     "text": [
      "/tmp/ipykernel_35588/873016624.py:45: RuntimeWarning: divide by zero encountered in scalar divide\n",
      "  roi_dd_ratio = total_roi / abs(max_drawdown)\n",
      "/tmp/ipykernel_35588/873016624.py:70: RuntimeWarning: divide by zero encountered in scalar divide\n",
      "  overall_roi_dd_ratio = overall_total_roi / abs(overall_max_drawdown)\n"
     ]
    },
    {
     "name": "stdout",
     "output_type": "stream",
     "text": [
      "        Total ROI Total Trades Win Rate Avg Profit% per Trade Avg Loss% per Trade Max Drawdown ROI/DD Ratio                          Variation\n",
      "2018       0.0000            0      NaN                   NaN                 NaN          NaN          NaN  n 4, rsi 12, threshold 75, ema 30\n",
      "2019       0.0000            0      NaN                   NaN                 NaN          NaN          NaN  n 4, rsi 12, threshold 75, ema 30\n",
      "2020      29.9326            1 100.0000               29.9326                 NaN       0.0000          inf  n 4, rsi 12, threshold 75, ema 30\n",
      "2021       0.0000            0      NaN                   NaN                 NaN          NaN          NaN  n 4, rsi 12, threshold 75, ema 30\n",
      "2022       0.0000            0      NaN                   NaN                 NaN          NaN          NaN  n 4, rsi 12, threshold 75, ema 30\n",
      "2023       0.0000            0      NaN                   NaN                 NaN          NaN          NaN  n 4, rsi 12, threshold 75, ema 30\n",
      "2024       0.0000            0      NaN                   NaN                 NaN          NaN          NaN  n 4, rsi 12, threshold 75, ema 30\n",
      "Overall   29.9326            1 100.0000               29.9326                 NaN       0.0000          inf  n 4, rsi 12, threshold 75, ema 30\n",
      "n 4, rsi 12, threshold 75, ema 35\n"
     ]
    },
    {
     "name": "stderr",
     "output_type": "stream",
     "text": [
      "/tmp/ipykernel_35588/873016624.py:45: RuntimeWarning: divide by zero encountered in scalar divide\n",
      "  roi_dd_ratio = total_roi / abs(max_drawdown)\n",
      "/tmp/ipykernel_35588/873016624.py:70: RuntimeWarning: divide by zero encountered in scalar divide\n",
      "  overall_roi_dd_ratio = overall_total_roi / abs(overall_max_drawdown)\n"
     ]
    },
    {
     "name": "stdout",
     "output_type": "stream",
     "text": [
      "        Total ROI Total Trades Win Rate Avg Profit% per Trade Avg Loss% per Trade Max Drawdown ROI/DD Ratio                          Variation\n",
      "2018       0.0000            0      NaN                   NaN                 NaN          NaN          NaN  n 4, rsi 12, threshold 75, ema 35\n",
      "2019       0.0000            0      NaN                   NaN                 NaN          NaN          NaN  n 4, rsi 12, threshold 75, ema 35\n",
      "2020      29.9326            1 100.0000               29.9326                 NaN       0.0000          inf  n 4, rsi 12, threshold 75, ema 35\n",
      "2021       0.0000            0      NaN                   NaN                 NaN          NaN          NaN  n 4, rsi 12, threshold 75, ema 35\n",
      "2022       0.0000            0      NaN                   NaN                 NaN          NaN          NaN  n 4, rsi 12, threshold 75, ema 35\n",
      "2023       0.0000            0      NaN                   NaN                 NaN          NaN          NaN  n 4, rsi 12, threshold 75, ema 35\n",
      "2024       0.0000            0      NaN                   NaN                 NaN          NaN          NaN  n 4, rsi 12, threshold 75, ema 35\n",
      "Overall   29.9326            1 100.0000               29.9326                 NaN       0.0000          inf  n 4, rsi 12, threshold 75, ema 35\n",
      "n 4, rsi 12, threshold 80, ema 5\n",
      "n 4, rsi 12, threshold 80, ema 10\n",
      "n 4, rsi 12, threshold 80, ema 15\n",
      "n 4, rsi 12, threshold 80, ema 20\n",
      "n 4, rsi 12, threshold 80, ema 25\n",
      "n 4, rsi 12, threshold 80, ema 30\n",
      "n 4, rsi 12, threshold 80, ema 35\n",
      "n 4, rsi 16, threshold 30, ema 5\n",
      "n 4, rsi 16, threshold 30, ema 10\n",
      "n 4, rsi 16, threshold 30, ema 15\n",
      "n 4, rsi 16, threshold 30, ema 20\n",
      "n 4, rsi 16, threshold 30, ema 25\n",
      "n 4, rsi 16, threshold 30, ema 30\n",
      "n 4, rsi 16, threshold 30, ema 35\n",
      "n 4, rsi 16, threshold 35, ema 5\n",
      "n 4, rsi 16, threshold 35, ema 10\n",
      "n 4, rsi 16, threshold 35, ema 15\n",
      "n 4, rsi 16, threshold 35, ema 20\n",
      "n 4, rsi 16, threshold 35, ema 25\n",
      "n 4, rsi 16, threshold 35, ema 30\n",
      "n 4, rsi 16, threshold 35, ema 35\n",
      "n 4, rsi 16, threshold 40, ema 5\n",
      "n 4, rsi 16, threshold 40, ema 10\n",
      "n 4, rsi 16, threshold 40, ema 15\n",
      "n 4, rsi 16, threshold 40, ema 20\n",
      "n 4, rsi 16, threshold 40, ema 25\n",
      "n 4, rsi 16, threshold 40, ema 30\n",
      "n 4, rsi 16, threshold 40, ema 35\n",
      "n 4, rsi 16, threshold 45, ema 5\n",
      "n 4, rsi 16, threshold 45, ema 10\n",
      "n 4, rsi 16, threshold 45, ema 15\n",
      "n 4, rsi 16, threshold 45, ema 20\n",
      "n 4, rsi 16, threshold 45, ema 25\n",
      "n 4, rsi 16, threshold 45, ema 30\n",
      "n 4, rsi 16, threshold 45, ema 35\n",
      "n 4, rsi 16, threshold 50, ema 5\n",
      "n 4, rsi 16, threshold 50, ema 10\n",
      "n 4, rsi 16, threshold 50, ema 15\n",
      "n 4, rsi 16, threshold 50, ema 20\n",
      "n 4, rsi 16, threshold 50, ema 25\n",
      "n 4, rsi 16, threshold 50, ema 30\n",
      "n 4, rsi 16, threshold 50, ema 35\n",
      "n 4, rsi 16, threshold 55, ema 5\n",
      "n 4, rsi 16, threshold 55, ema 10\n",
      "n 4, rsi 16, threshold 55, ema 15\n",
      "n 4, rsi 16, threshold 55, ema 20\n",
      "n 4, rsi 16, threshold 55, ema 25\n",
      "n 4, rsi 16, threshold 55, ema 30\n",
      "n 4, rsi 16, threshold 55, ema 35\n",
      "n 4, rsi 16, threshold 60, ema 5\n",
      "n 4, rsi 16, threshold 60, ema 10\n",
      "n 4, rsi 16, threshold 60, ema 15\n",
      "n 4, rsi 16, threshold 60, ema 20\n",
      "n 4, rsi 16, threshold 60, ema 25\n",
      "n 4, rsi 16, threshold 60, ema 30\n",
      "n 4, rsi 16, threshold 60, ema 35\n",
      "n 4, rsi 16, threshold 65, ema 5\n",
      "n 4, rsi 16, threshold 65, ema 10\n",
      "n 4, rsi 16, threshold 65, ema 15\n",
      "n 4, rsi 16, threshold 65, ema 20\n",
      "n 4, rsi 16, threshold 65, ema 25\n",
      "n 4, rsi 16, threshold 65, ema 30\n",
      "n 4, rsi 16, threshold 65, ema 35\n",
      "n 4, rsi 16, threshold 70, ema 5\n"
     ]
    },
    {
     "name": "stderr",
     "output_type": "stream",
     "text": [
      "/tmp/ipykernel_35588/873016624.py:45: RuntimeWarning: divide by zero encountered in scalar divide\n",
      "  roi_dd_ratio = total_roi / abs(max_drawdown)\n"
     ]
    },
    {
     "name": "stdout",
     "output_type": "stream",
     "text": [
      "n 4, rsi 16, threshold 70, ema 10\n"
     ]
    },
    {
     "name": "stderr",
     "output_type": "stream",
     "text": [
      "/tmp/ipykernel_35588/873016624.py:45: RuntimeWarning: divide by zero encountered in scalar divide\n",
      "  roi_dd_ratio = total_roi / abs(max_drawdown)\n"
     ]
    },
    {
     "name": "stdout",
     "output_type": "stream",
     "text": [
      "n 4, rsi 16, threshold 70, ema 15\n"
     ]
    },
    {
     "name": "stderr",
     "output_type": "stream",
     "text": [
      "/tmp/ipykernel_35588/873016624.py:45: RuntimeWarning: divide by zero encountered in scalar divide\n",
      "  roi_dd_ratio = total_roi / abs(max_drawdown)\n"
     ]
    },
    {
     "name": "stdout",
     "output_type": "stream",
     "text": [
      "n 4, rsi 16, threshold 70, ema 20\n"
     ]
    },
    {
     "name": "stderr",
     "output_type": "stream",
     "text": [
      "/tmp/ipykernel_35588/873016624.py:45: RuntimeWarning: divide by zero encountered in scalar divide\n",
      "  roi_dd_ratio = total_roi / abs(max_drawdown)\n"
     ]
    },
    {
     "name": "stdout",
     "output_type": "stream",
     "text": [
      "n 4, rsi 16, threshold 70, ema 25\n"
     ]
    },
    {
     "name": "stderr",
     "output_type": "stream",
     "text": [
      "/tmp/ipykernel_35588/873016624.py:45: RuntimeWarning: divide by zero encountered in scalar divide\n",
      "  roi_dd_ratio = total_roi / abs(max_drawdown)\n"
     ]
    },
    {
     "name": "stdout",
     "output_type": "stream",
     "text": [
      "n 4, rsi 16, threshold 70, ema 30\n"
     ]
    },
    {
     "name": "stderr",
     "output_type": "stream",
     "text": [
      "/tmp/ipykernel_35588/873016624.py:45: RuntimeWarning: divide by zero encountered in scalar divide\n",
      "  roi_dd_ratio = total_roi / abs(max_drawdown)\n"
     ]
    },
    {
     "name": "stdout",
     "output_type": "stream",
     "text": [
      "n 4, rsi 16, threshold 70, ema 35\n"
     ]
    },
    {
     "name": "stderr",
     "output_type": "stream",
     "text": [
      "/tmp/ipykernel_35588/873016624.py:45: RuntimeWarning: divide by zero encountered in scalar divide\n",
      "  roi_dd_ratio = total_roi / abs(max_drawdown)\n"
     ]
    },
    {
     "name": "stdout",
     "output_type": "stream",
     "text": [
      "n 4, rsi 16, threshold 75, ema 5\n"
     ]
    },
    {
     "name": "stderr",
     "output_type": "stream",
     "text": [
      "/tmp/ipykernel_35588/873016624.py:45: RuntimeWarning: divide by zero encountered in scalar divide\n",
      "  roi_dd_ratio = total_roi / abs(max_drawdown)\n",
      "/tmp/ipykernel_35588/873016624.py:70: RuntimeWarning: divide by zero encountered in scalar divide\n",
      "  overall_roi_dd_ratio = overall_total_roi / abs(overall_max_drawdown)\n"
     ]
    },
    {
     "name": "stdout",
     "output_type": "stream",
     "text": [
      "        Total ROI Total Trades Win Rate Avg Profit% per Trade Avg Loss% per Trade Max Drawdown ROI/DD Ratio                         Variation\n",
      "2018       0.0000            0      NaN                   NaN                 NaN          NaN          NaN  n 4, rsi 16, threshold 75, ema 5\n",
      "2019       0.0000            0      NaN                   NaN                 NaN          NaN          NaN  n 4, rsi 16, threshold 75, ema 5\n",
      "2020      29.9326            1 100.0000               29.9326                 NaN       0.0000          inf  n 4, rsi 16, threshold 75, ema 5\n",
      "2021       0.0000            0      NaN                   NaN                 NaN          NaN          NaN  n 4, rsi 16, threshold 75, ema 5\n",
      "2022       0.0000            0      NaN                   NaN                 NaN          NaN          NaN  n 4, rsi 16, threshold 75, ema 5\n",
      "2023       0.0000            0      NaN                   NaN                 NaN          NaN          NaN  n 4, rsi 16, threshold 75, ema 5\n",
      "2024       0.0000            0      NaN                   NaN                 NaN          NaN          NaN  n 4, rsi 16, threshold 75, ema 5\n",
      "Overall   29.9326            1 100.0000               29.9326                 NaN       0.0000          inf  n 4, rsi 16, threshold 75, ema 5\n",
      "n 4, rsi 16, threshold 75, ema 10\n"
     ]
    },
    {
     "name": "stderr",
     "output_type": "stream",
     "text": [
      "/tmp/ipykernel_35588/873016624.py:45: RuntimeWarning: divide by zero encountered in scalar divide\n",
      "  roi_dd_ratio = total_roi / abs(max_drawdown)\n",
      "/tmp/ipykernel_35588/873016624.py:70: RuntimeWarning: divide by zero encountered in scalar divide\n",
      "  overall_roi_dd_ratio = overall_total_roi / abs(overall_max_drawdown)\n"
     ]
    },
    {
     "name": "stdout",
     "output_type": "stream",
     "text": [
      "        Total ROI Total Trades Win Rate Avg Profit% per Trade Avg Loss% per Trade Max Drawdown ROI/DD Ratio                          Variation\n",
      "2018       0.0000            0      NaN                   NaN                 NaN          NaN          NaN  n 4, rsi 16, threshold 75, ema 10\n",
      "2019       0.0000            0      NaN                   NaN                 NaN          NaN          NaN  n 4, rsi 16, threshold 75, ema 10\n",
      "2020      29.9326            1 100.0000               29.9326                 NaN       0.0000          inf  n 4, rsi 16, threshold 75, ema 10\n",
      "2021       0.0000            0      NaN                   NaN                 NaN          NaN          NaN  n 4, rsi 16, threshold 75, ema 10\n",
      "2022       0.0000            0      NaN                   NaN                 NaN          NaN          NaN  n 4, rsi 16, threshold 75, ema 10\n",
      "2023       0.0000            0      NaN                   NaN                 NaN          NaN          NaN  n 4, rsi 16, threshold 75, ema 10\n",
      "2024       0.0000            0      NaN                   NaN                 NaN          NaN          NaN  n 4, rsi 16, threshold 75, ema 10\n",
      "Overall   29.9326            1 100.0000               29.9326                 NaN       0.0000          inf  n 4, rsi 16, threshold 75, ema 10\n",
      "n 4, rsi 16, threshold 75, ema 15\n"
     ]
    },
    {
     "name": "stderr",
     "output_type": "stream",
     "text": [
      "/tmp/ipykernel_35588/873016624.py:45: RuntimeWarning: divide by zero encountered in scalar divide\n",
      "  roi_dd_ratio = total_roi / abs(max_drawdown)\n",
      "/tmp/ipykernel_35588/873016624.py:70: RuntimeWarning: divide by zero encountered in scalar divide\n",
      "  overall_roi_dd_ratio = overall_total_roi / abs(overall_max_drawdown)\n"
     ]
    },
    {
     "name": "stdout",
     "output_type": "stream",
     "text": [
      "        Total ROI Total Trades Win Rate Avg Profit% per Trade Avg Loss% per Trade Max Drawdown ROI/DD Ratio                          Variation\n",
      "2018       0.0000            0      NaN                   NaN                 NaN          NaN          NaN  n 4, rsi 16, threshold 75, ema 15\n",
      "2019       0.0000            0      NaN                   NaN                 NaN          NaN          NaN  n 4, rsi 16, threshold 75, ema 15\n",
      "2020      29.9326            1 100.0000               29.9326                 NaN       0.0000          inf  n 4, rsi 16, threshold 75, ema 15\n",
      "2021       0.0000            0      NaN                   NaN                 NaN          NaN          NaN  n 4, rsi 16, threshold 75, ema 15\n",
      "2022       0.0000            0      NaN                   NaN                 NaN          NaN          NaN  n 4, rsi 16, threshold 75, ema 15\n",
      "2023       0.0000            0      NaN                   NaN                 NaN          NaN          NaN  n 4, rsi 16, threshold 75, ema 15\n",
      "2024       0.0000            0      NaN                   NaN                 NaN          NaN          NaN  n 4, rsi 16, threshold 75, ema 15\n",
      "Overall   29.9326            1 100.0000               29.9326                 NaN       0.0000          inf  n 4, rsi 16, threshold 75, ema 15\n",
      "n 4, rsi 16, threshold 75, ema 20\n"
     ]
    },
    {
     "name": "stderr",
     "output_type": "stream",
     "text": [
      "/tmp/ipykernel_35588/873016624.py:45: RuntimeWarning: divide by zero encountered in scalar divide\n",
      "  roi_dd_ratio = total_roi / abs(max_drawdown)\n",
      "/tmp/ipykernel_35588/873016624.py:70: RuntimeWarning: divide by zero encountered in scalar divide\n",
      "  overall_roi_dd_ratio = overall_total_roi / abs(overall_max_drawdown)\n"
     ]
    },
    {
     "name": "stdout",
     "output_type": "stream",
     "text": [
      "        Total ROI Total Trades Win Rate Avg Profit% per Trade Avg Loss% per Trade Max Drawdown ROI/DD Ratio                          Variation\n",
      "2018       0.0000            0      NaN                   NaN                 NaN          NaN          NaN  n 4, rsi 16, threshold 75, ema 20\n",
      "2019       0.0000            0      NaN                   NaN                 NaN          NaN          NaN  n 4, rsi 16, threshold 75, ema 20\n",
      "2020      29.9326            1 100.0000               29.9326                 NaN       0.0000          inf  n 4, rsi 16, threshold 75, ema 20\n",
      "2021       0.0000            0      NaN                   NaN                 NaN          NaN          NaN  n 4, rsi 16, threshold 75, ema 20\n",
      "2022       0.0000            0      NaN                   NaN                 NaN          NaN          NaN  n 4, rsi 16, threshold 75, ema 20\n",
      "2023       0.0000            0      NaN                   NaN                 NaN          NaN          NaN  n 4, rsi 16, threshold 75, ema 20\n",
      "2024       0.0000            0      NaN                   NaN                 NaN          NaN          NaN  n 4, rsi 16, threshold 75, ema 20\n",
      "Overall   29.9326            1 100.0000               29.9326                 NaN       0.0000          inf  n 4, rsi 16, threshold 75, ema 20\n",
      "n 4, rsi 16, threshold 75, ema 25\n"
     ]
    },
    {
     "name": "stderr",
     "output_type": "stream",
     "text": [
      "/tmp/ipykernel_35588/873016624.py:45: RuntimeWarning: divide by zero encountered in scalar divide\n",
      "  roi_dd_ratio = total_roi / abs(max_drawdown)\n",
      "/tmp/ipykernel_35588/873016624.py:70: RuntimeWarning: divide by zero encountered in scalar divide\n",
      "  overall_roi_dd_ratio = overall_total_roi / abs(overall_max_drawdown)\n"
     ]
    },
    {
     "name": "stdout",
     "output_type": "stream",
     "text": [
      "        Total ROI Total Trades Win Rate Avg Profit% per Trade Avg Loss% per Trade Max Drawdown ROI/DD Ratio                          Variation\n",
      "2018       0.0000            0      NaN                   NaN                 NaN          NaN          NaN  n 4, rsi 16, threshold 75, ema 25\n",
      "2019       0.0000            0      NaN                   NaN                 NaN          NaN          NaN  n 4, rsi 16, threshold 75, ema 25\n",
      "2020      29.9326            1 100.0000               29.9326                 NaN       0.0000          inf  n 4, rsi 16, threshold 75, ema 25\n",
      "2021       0.0000            0      NaN                   NaN                 NaN          NaN          NaN  n 4, rsi 16, threshold 75, ema 25\n",
      "2022       0.0000            0      NaN                   NaN                 NaN          NaN          NaN  n 4, rsi 16, threshold 75, ema 25\n",
      "2023       0.0000            0      NaN                   NaN                 NaN          NaN          NaN  n 4, rsi 16, threshold 75, ema 25\n",
      "2024       0.0000            0      NaN                   NaN                 NaN          NaN          NaN  n 4, rsi 16, threshold 75, ema 25\n",
      "Overall   29.9326            1 100.0000               29.9326                 NaN       0.0000          inf  n 4, rsi 16, threshold 75, ema 25\n",
      "n 4, rsi 16, threshold 75, ema 30\n"
     ]
    },
    {
     "name": "stderr",
     "output_type": "stream",
     "text": [
      "/tmp/ipykernel_35588/873016624.py:45: RuntimeWarning: divide by zero encountered in scalar divide\n",
      "  roi_dd_ratio = total_roi / abs(max_drawdown)\n",
      "/tmp/ipykernel_35588/873016624.py:70: RuntimeWarning: divide by zero encountered in scalar divide\n",
      "  overall_roi_dd_ratio = overall_total_roi / abs(overall_max_drawdown)\n"
     ]
    },
    {
     "name": "stdout",
     "output_type": "stream",
     "text": [
      "        Total ROI Total Trades Win Rate Avg Profit% per Trade Avg Loss% per Trade Max Drawdown ROI/DD Ratio                          Variation\n",
      "2018       0.0000            0      NaN                   NaN                 NaN          NaN          NaN  n 4, rsi 16, threshold 75, ema 30\n",
      "2019       0.0000            0      NaN                   NaN                 NaN          NaN          NaN  n 4, rsi 16, threshold 75, ema 30\n",
      "2020      29.9326            1 100.0000               29.9326                 NaN       0.0000          inf  n 4, rsi 16, threshold 75, ema 30\n",
      "2021       0.0000            0      NaN                   NaN                 NaN          NaN          NaN  n 4, rsi 16, threshold 75, ema 30\n",
      "2022       0.0000            0      NaN                   NaN                 NaN          NaN          NaN  n 4, rsi 16, threshold 75, ema 30\n",
      "2023       0.0000            0      NaN                   NaN                 NaN          NaN          NaN  n 4, rsi 16, threshold 75, ema 30\n",
      "2024       0.0000            0      NaN                   NaN                 NaN          NaN          NaN  n 4, rsi 16, threshold 75, ema 30\n",
      "Overall   29.9326            1 100.0000               29.9326                 NaN       0.0000          inf  n 4, rsi 16, threshold 75, ema 30\n",
      "n 4, rsi 16, threshold 75, ema 35\n"
     ]
    },
    {
     "name": "stderr",
     "output_type": "stream",
     "text": [
      "/tmp/ipykernel_35588/873016624.py:45: RuntimeWarning: divide by zero encountered in scalar divide\n",
      "  roi_dd_ratio = total_roi / abs(max_drawdown)\n",
      "/tmp/ipykernel_35588/873016624.py:70: RuntimeWarning: divide by zero encountered in scalar divide\n",
      "  overall_roi_dd_ratio = overall_total_roi / abs(overall_max_drawdown)\n"
     ]
    },
    {
     "name": "stdout",
     "output_type": "stream",
     "text": [
      "        Total ROI Total Trades Win Rate Avg Profit% per Trade Avg Loss% per Trade Max Drawdown ROI/DD Ratio                          Variation\n",
      "2018       0.0000            0      NaN                   NaN                 NaN          NaN          NaN  n 4, rsi 16, threshold 75, ema 35\n",
      "2019       0.0000            0      NaN                   NaN                 NaN          NaN          NaN  n 4, rsi 16, threshold 75, ema 35\n",
      "2020      29.9326            1 100.0000               29.9326                 NaN       0.0000          inf  n 4, rsi 16, threshold 75, ema 35\n",
      "2021       0.0000            0      NaN                   NaN                 NaN          NaN          NaN  n 4, rsi 16, threshold 75, ema 35\n",
      "2022       0.0000            0      NaN                   NaN                 NaN          NaN          NaN  n 4, rsi 16, threshold 75, ema 35\n",
      "2023       0.0000            0      NaN                   NaN                 NaN          NaN          NaN  n 4, rsi 16, threshold 75, ema 35\n",
      "2024       0.0000            0      NaN                   NaN                 NaN          NaN          NaN  n 4, rsi 16, threshold 75, ema 35\n",
      "Overall   29.9326            1 100.0000               29.9326                 NaN       0.0000          inf  n 4, rsi 16, threshold 75, ema 35\n",
      "n 4, rsi 16, threshold 80, ema 5\n",
      "n 4, rsi 16, threshold 80, ema 10\n",
      "n 4, rsi 16, threshold 80, ema 15\n",
      "n 4, rsi 16, threshold 80, ema 20\n",
      "n 4, rsi 16, threshold 80, ema 25\n",
      "n 4, rsi 16, threshold 80, ema 30\n",
      "n 4, rsi 16, threshold 80, ema 35\n"
     ]
    }
   ],
   "source": [
    "stats_dictionary = {}\n",
    "rsi_lengths = [14, 9, 21, 6, 12, 16]\n",
    "for i in range(2, 5):\n",
    "    for j in rsi_lengths:\n",
    "        for k in range(30, 81, 5):\n",
    "            for l in range(5, 36, 5):\n",
    "                variation = f'n {i}, rsi {j}, threshold {k}, ema {l}'\n",
    "                print(variation)\n",
    "                tb = backtest_short(bnf_1min, i, j, k, l)\n",
    "                if len(tb) > 0:\n",
    "                    stats = generate_stats(tb, variation)\n",
    "                    for x, y in stats.items():\n",
    "                        if x > 8:\n",
    "                            final_stats = y\n",
    "                            print(final_stats.to_string())\n",
    "                            stats_dictionary[x] = y\n"
   ]
  },
  {
   "cell_type": "code",
   "execution_count": 18,
   "id": "9dd8e149-c3cc-4670-ae46-2114bf9214ab",
   "metadata": {
    "execution": {
     "iopub.execute_input": "2024-12-29T14:18:47.061510Z",
     "iopub.status.busy": "2024-12-29T14:18:47.061011Z",
     "iopub.status.idle": "2024-12-29T14:18:47.067644Z",
     "shell.execute_reply": "2024-12-29T14:18:47.066399Z",
     "shell.execute_reply.started": "2024-12-29T14:18:47.061488Z"
    }
   },
   "outputs": [
    {
     "data": {
      "text/plain": [
       "{}"
      ]
     },
     "execution_count": 18,
     "metadata": {},
     "output_type": "execute_result"
    }
   ],
   "source": [
    "stats_dictionary"
   ]
  },
  {
   "cell_type": "code",
   "execution_count": null,
   "id": "4cb9b475-1b96-4404-a318-cd324bd8dde4",
   "metadata": {},
   "outputs": [],
   "source": []
  }
 ],
 "metadata": {
  "kernelspec": {
   "display_name": "Python 3 (ipykernel)",
   "language": "python",
   "name": "python3"
  },
  "language_info": {
   "codemirror_mode": {
    "name": "ipython",
    "version": 3
   },
   "file_extension": ".py",
   "mimetype": "text/x-python",
   "name": "python",
   "nbconvert_exporter": "python",
   "pygments_lexer": "ipython3",
   "version": "3.11.6"
  }
 },
 "nbformat": 4,
 "nbformat_minor": 5
}
