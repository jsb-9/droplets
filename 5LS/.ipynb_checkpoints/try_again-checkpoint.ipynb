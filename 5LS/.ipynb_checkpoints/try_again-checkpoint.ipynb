{
 "cells": [
  {
   "cell_type": "code",
   "execution_count": 3,
   "id": "0b5e6fcf-e673-404c-84e3-2d7c9872f2c7",
   "metadata": {
    "execution": {
     "iopub.execute_input": "2024-09-19T19:04:32.367330Z",
     "iopub.status.busy": "2024-09-19T19:04:32.366637Z",
     "iopub.status.idle": "2024-09-19T19:04:33.516160Z",
     "shell.execute_reply": "2024-09-19T19:04:33.515246Z",
     "shell.execute_reply.started": "2024-09-19T19:04:32.367312Z"
    }
   },
   "outputs": [],
   "source": [
    "import datetime as dt\n",
    "\n",
    "import matplotlib.pyplot as plt\n",
    "import mplfinance as mpf\n",
    "import numpy as np\n",
    "import pandas as pd\n",
    "import pandas_market_calendars as mcal\n",
    "import plotly.graph_objects as go\n",
    "import polars as pl\n",
    "from dash import Dash, dcc, html\n",
    "from plotly.subplots import make_subplots\n",
    "\n",
    "nse = mcal.get_calendar(\"NSE\")\n",
    "\n",
    "pd.set_option(\"display.max_rows\", 25_000)\n",
    "pd.set_option(\"display.max_columns\", 500)\n",
    "pl.Config.set_tbl_cols(500)\n",
    "pl.Config.set_tbl_rows(10_000)\n",
    "\n",
    "pd.options.display.float_format = \"{:.4f}\".format\n",
    "\n",
    "import sys\n",
    "\n",
    "sys.path.append(\"..\")\n",
    "from fetching_from_local_db.enums import AssetClass, Index, StrikeSpread\n",
    "from fetching_from_local_db.fetch_from_db import (\n",
    "    _fetch_batch,\n",
    "    fetch_data,\n",
    "    fetch_spot_data,\n",
    ")\n",
    "from tooling.enums import AssetClass, Index, Spot, StrikeSpread\n",
    "from tooling.fetch import fetch_option_data, fetch_spot_data\n",
    "from tooling.filter import find_atm, option_tool"
   ]
  },
  {
   "cell_type": "code",
   "execution_count": 4,
   "id": "acd282f9-f443-48fa-a896-48b48a1fea07",
   "metadata": {
    "execution": {
     "iopub.execute_input": "2024-09-19T19:04:33.518174Z",
     "iopub.status.busy": "2024-09-19T19:04:33.517771Z",
     "iopub.status.idle": "2024-09-19T19:04:33.531596Z",
     "shell.execute_reply": "2024-09-19T19:04:33.530590Z",
     "shell.execute_reply.started": "2024-09-19T19:04:33.518154Z"
    }
   },
   "outputs": [],
   "source": [
    "async def get_expiry(f_today):\n",
    "\n",
    "    if (f_today <= dt.date(2024, 1, 25)) and (f_today >= dt.date(2024, 1, 18)):\n",
    "        f_expiry = dt.date(2024, 1, 25)\n",
    "    elif (f_today <= dt.date(2024, 1, 31)) and (f_today >= dt.date(2024, 1, 26)):\n",
    "        f_expiry = dt.date(2024, 1, 31)\n",
    "    elif (f_today <= dt.date(2024, 2, 22)) and (f_today >= dt.date(2024, 2, 29)):\n",
    "        f_expiry = dt.date(2024, 2, 29)\n",
    "    elif (f_today <= dt.date(2024, 3, 25)) and (f_today >= dt.date(2024, 3, 27)):\n",
    "        f_expiry = dt.date(2024, 2, 27)\n",
    "    elif f_today < dt.date(2023, 9, 1):\n",
    "        days_to_thursday = (3 - f_today.weekday()) % 7\n",
    "        nearest_thursday = f_today + dt.timedelta(days=days_to_thursday)\n",
    "        f_expiry = nearest_thursday\n",
    "        if nse.valid_days(start_date=nearest_thursday, end_date=nearest_thursday).empty:\n",
    "            f_expiry = nearest_thursday - dt.timedelta(days=1)\n",
    "    elif f_today >= dt.date(2023, 9, 1):\n",
    "        if f_today.day < 24:\n",
    "            days_to_wednesday = (2 - f_today.weekday()) % 7\n",
    "            nearest_wednesday = f_today + dt.timedelta(days=days_to_wednesday)\n",
    "            f_expiry = nearest_wednesday\n",
    "            if nse.valid_days(\n",
    "                start_date=nearest_wednesday, end_date=nearest_wednesday\n",
    "            ).empty:\n",
    "                f_expiry = nearest_wednesday - dt.timedelta(days=1)\n",
    "        else:\n",
    "            days_to_thursday = (3 - f_today.weekday()) % 7\n",
    "            nearest_thursday = f_today + dt.timedelta(days=days_to_thursday)\n",
    "            f_expiry = nearest_thursday\n",
    "            if nse.valid_days(\n",
    "                start_date=nearest_thursday, end_date=nearest_thursday\n",
    "            ).empty:\n",
    "                f_expiry = nearest_thursday - dt.timedelta(days=1)\n",
    "    return f_expiry\n",
    "\n",
    "\n",
    "async def get_expiry_finnifty(f_today):\n",
    "\n",
    "    days_to_thursday = (1 - f_today.weekday()) % 7\n",
    "    nearest_thursday = f_today + dt.timedelta(days=days_to_thursday)\n",
    "    f_expiry = nearest_thursday\n",
    "    if nse.valid_days(start_date=nearest_thursday, end_date=nearest_thursday).empty:\n",
    "        f_expiry = nearest_thursday - dt.timedelta(days=1)\n",
    "    return f_expiry\n",
    "\n",
    "\n",
    "async def get_expiry_nifty(f_today):\n",
    "\n",
    "    days_to_thursday = (3 - f_today.weekday()) % 7\n",
    "    nearest_thursday = f_today + dt.timedelta(days=days_to_thursday)\n",
    "    f_expiry = nearest_thursday\n",
    "    if nse.valid_days(start_date=nearest_thursday, end_date=nearest_thursday).empty:\n",
    "        f_expiry = nearest_thursday - dt.timedelta(days=1)\n",
    "    return f_expiry\n",
    "\n",
    "\n",
    "async def get_expiry_midcpnifty(f_today):\n",
    "\n",
    "    days_to_thursday = (0 - f_today.weekday()) % 7\n",
    "    nearest_thursday = f_today + dt.timedelta(days=days_to_thursday)\n",
    "    f_expiry = nearest_thursday\n",
    "    if nse.valid_days(start_date=nearest_thursday, end_date=nearest_thursday).empty:\n",
    "        f_expiry = nearest_thursday - dt.timedelta(days=1)\n",
    "    return f_expiry\n",
    "\n",
    "\n",
    "async def get_option_contract_name(symbol, strike, expiry, opt_type):\n",
    "    temp = \"0\"\n",
    "    mth = expiry.month\n",
    "\n",
    "    if (expiry + dt.timedelta(days=7)).month != expiry.month:\n",
    "        date_string = expiry.strftime(\"%y%b\").upper()\n",
    "        return f\"{symbol}{date_string}{strike}{opt_type}\"\n",
    "    else:\n",
    "        if expiry.day <= 9:\n",
    "            date_string = f\"{expiry.year - 2000}{mth}{temp}{expiry.day}\"\n",
    "        else:\n",
    "            date_string = f\"{expiry.year - 2000}{mth}{expiry.day}\"\n",
    "        return f\"{symbol}{date_string}{strike}{opt_type}\""
   ]
  },
  {
   "cell_type": "code",
   "execution_count": 5,
   "id": "0a81cffa-d28c-47b0-b755-a80cf987940a",
   "metadata": {
    "execution": {
     "iopub.execute_input": "2024-09-19T19:04:33.533833Z",
     "iopub.status.busy": "2024-09-19T19:04:33.533052Z",
     "iopub.status.idle": "2024-09-19T19:04:33.988918Z",
     "shell.execute_reply": "2024-09-19T19:04:33.987755Z",
     "shell.execute_reply.started": "2024-09-19T19:04:33.533816Z"
    }
   },
   "outputs": [],
   "source": [
    "bnf_pandas = pd.read_csv(\"../data/nifty.csv\")\n",
    "\n",
    "# GLOBAL VARIABLES\n",
    "\n",
    "# INSTRUMENT = \"BANKNIFTY\"\n",
    "# INDEX = \"bnf\"\n",
    "\n",
    "# INSTRUMENT = \"MIDCPNIFTY\"\n",
    "# INDEX = \"midcpnifty\"\n",
    "\n",
    "# INSTRUMENT = \"FINNIFTY\"\n",
    "# INDEX = \"finnifty\"\n",
    "\n",
    "INSTRUMENT = \"NIFTY\"\n",
    "INDEX = \"nifty\"\n",
    "\n",
    "PORTFOLIO_VALUE = 1_00_00_000\n",
    "INDEX_LEV = 7"
   ]
  },
  {
   "cell_type": "code",
   "execution_count": 6,
   "id": "641e1ec6-d7a0-401e-b43e-423a490195ae",
   "metadata": {
    "execution": {
     "iopub.execute_input": "2024-09-19T19:04:33.990996Z",
     "iopub.status.busy": "2024-09-19T19:04:33.990438Z",
     "iopub.status.idle": "2024-09-19T19:04:34.110238Z",
     "shell.execute_reply": "2024-09-19T19:04:34.109223Z",
     "shell.execute_reply.started": "2024-09-19T19:04:33.990969Z"
    }
   },
   "outputs": [],
   "source": [
    "# If Stocks Data ...\n",
    "bnf_pandas[\"datetime\"] = pd.to_datetime(bnf_pandas[\"datetime\"])\n",
    "bnf_pandas[\"datetime\"] = bnf_pandas[\"datetime\"].dt.tz_localize(None)\n",
    "bnf_pandas = bnf_pandas[bnf_pandas[\"datetime\"].dt.year >= 2017]\n",
    "# bnf_pandas.drop(columns=[\"time\"], inplace=True)\n",
    "# bnf_pandas"
   ]
  },
  {
   "cell_type": "code",
   "execution_count": 7,
   "id": "60836ace-1ed5-4513-ae67-036b96b1258c",
   "metadata": {
    "execution": {
     "iopub.execute_input": "2024-09-19T19:04:34.111270Z",
     "iopub.status.busy": "2024-09-19T19:04:34.111087Z",
     "iopub.status.idle": "2024-09-19T19:04:34.138177Z",
     "shell.execute_reply": "2024-09-19T19:04:34.137024Z",
     "shell.execute_reply.started": "2024-09-19T19:04:34.111245Z"
    }
   },
   "outputs": [
    {
     "name": "stdout",
     "output_type": "stream",
     "text": [
      "<class 'polars.dataframe.frame.DataFrame'>\n"
     ]
    }
   ],
   "source": [
    "bnf = pl.DataFrame(bnf_pandas)\n",
    "print(type(bnf))\n",
    "# bnf\n",
    "bnf = bnf.with_columns([pl.col(\"datetime\").alias(\"index\")]).drop(\"datetime\")\n",
    "bnf = bnf.with_columns(pl.col(\"index\").alias(\"datetime\"))"
   ]
  },
  {
   "cell_type": "code",
   "execution_count": 8,
   "id": "3253a06a-f8ff-4c29-a91b-dc90f9c768d6",
   "metadata": {
    "execution": {
     "iopub.execute_input": "2024-09-19T19:04:34.139778Z",
     "iopub.status.busy": "2024-09-19T19:04:34.139458Z",
     "iopub.status.idle": "2024-09-19T19:04:34.145076Z",
     "shell.execute_reply": "2024-09-19T19:04:34.144063Z",
     "shell.execute_reply.started": "2024-09-19T19:04:34.139749Z"
    }
   },
   "outputs": [],
   "source": [
    "def resample(\n",
    "    data: pl.DataFrame, timeframe, offset: dt.timedelta | None = None\n",
    ") -> pl.DataFrame:\n",
    "    return (\n",
    "        data.set_sorted(\"datetime\")\n",
    "        .group_by_dynamic(\n",
    "            index_column=\"datetime\",\n",
    "            every=timeframe,\n",
    "            period=timeframe,\n",
    "            label=\"left\",\n",
    "            offset=offset,\n",
    "        )\n",
    "        .agg(\n",
    "            [\n",
    "                pl.col(\"o\").first().alias(\"o\"),\n",
    "                pl.col(\"h\").max().alias(\"h\"),\n",
    "                pl.col(\"l\").min().alias(\"l\"),\n",
    "                pl.col(\"c\").last().alias(\"c\"),\n",
    "                pl.col(\"v\").sum().alias(\"v\"),\n",
    "            ]\n",
    "        )\n",
    "    )"
   ]
  },
  {
   "cell_type": "code",
   "execution_count": 9,
   "id": "60e15f8b-c228-469a-945b-ab5fefa9ceb5",
   "metadata": {
    "execution": {
     "iopub.execute_input": "2024-09-19T19:04:34.148513Z",
     "iopub.status.busy": "2024-09-19T19:04:34.148332Z",
     "iopub.status.idle": "2024-09-19T19:04:34.155296Z",
     "shell.execute_reply": "2024-09-19T19:04:34.154301Z",
     "shell.execute_reply.started": "2024-09-19T19:04:34.148498Z"
    }
   },
   "outputs": [],
   "source": [
    "def generate_signals(df, signal_ma, candles_in_num):\n",
    "    df[\"c\"] = pd.to_numeric(df[\"c\"], errors=\"coerce\")\n",
    "    df[\"Signal MA\"] = df[\"c\"].rolling(window=signal_ma).mean()\n",
    "    # df[\"Trailing MA\"] = df[\"c\"].rolling(window=trailing_ma).mean()\n",
    "\n",
    "    df[\"Sell Signal\"] = 0\n",
    "\n",
    "    # Generate signals using boolean masking\n",
    "    sell_signal_mask = df[\"Signal MA\"] <= df[\"Signal MA\"].shift(1)\n",
    "\n",
    "    for i in range(1, candles_in_num):\n",
    "        sell_signal_mask &= df[\"Signal MA\"].shift(i) <= df[\"Signal MA\"].shift(i + 1)\n",
    "\n",
    "    df.loc[sell_signal_mask, \"Sell Signal\"] = 1\n",
    "\n",
    "    return df"
   ]
  },
  {
   "cell_type": "code",
   "execution_count": 10,
   "id": "4f6252da-6694-492b-b497-64b08d5a0cc9",
   "metadata": {
    "execution": {
     "iopub.execute_input": "2024-09-19T19:04:34.156432Z",
     "iopub.status.busy": "2024-09-19T19:04:34.156223Z",
     "iopub.status.idle": "2024-09-19T19:04:34.308770Z",
     "shell.execute_reply": "2024-09-19T19:04:34.307478Z",
     "shell.execute_reply.started": "2024-09-19T19:04:34.156415Z"
    }
   },
   "outputs": [
    {
     "name": "stdout",
     "output_type": "stream",
     "text": [
      "0   2017-01-02 09:15:00\n",
      "1   2017-01-02 09:16:00\n",
      "2   2017-01-02 09:17:00\n",
      "3   2017-01-02 09:18:00\n",
      "4   2017-01-02 09:19:00\n",
      "Name: datetime, dtype: datetime64[ns]\n"
     ]
    }
   ],
   "source": [
    "data = bnf_pandas.copy()\n",
    "# data['datetime'] = pd.to_datetime(data['datetime'].dt.date)\n",
    "print(data[\"datetime\"].head())\n",
    "trading_days_set = set(data[\"datetime\"].dt.date)\n",
    "# sorted(trading_days_set)"
   ]
  },
  {
   "cell_type": "code",
   "execution_count": 11,
   "id": "1fdc2b31-d189-48de-93c6-0fa1843ff9b3",
   "metadata": {
    "execution": {
     "iopub.execute_input": "2024-09-19T19:04:34.311512Z",
     "iopub.status.busy": "2024-09-19T19:04:34.310970Z",
     "iopub.status.idle": "2024-09-19T19:04:34.329622Z",
     "shell.execute_reply": "2024-09-19T19:04:34.328634Z",
     "shell.execute_reply.started": "2024-09-19T19:04:34.311484Z"
    }
   },
   "outputs": [
    {
     "data": {
      "text/html": [
       "<div>\n",
       "<style scoped>\n",
       "    .dataframe tbody tr th:only-of-type {\n",
       "        vertical-align: middle;\n",
       "    }\n",
       "\n",
       "    .dataframe tbody tr th {\n",
       "        vertical-align: top;\n",
       "    }\n",
       "\n",
       "    .dataframe thead th {\n",
       "        text-align: right;\n",
       "    }\n",
       "</style>\n",
       "<table border=\"1\" class=\"dataframe\">\n",
       "  <thead>\n",
       "    <tr style=\"text-align: right;\">\n",
       "      <th></th>\n",
       "      <th>datetime</th>\n",
       "      <th>open</th>\n",
       "      <th>high</th>\n",
       "      <th>low</th>\n",
       "      <th>close</th>\n",
       "      <th>volume</th>\n",
       "    </tr>\n",
       "  </thead>\n",
       "  <tbody>\n",
       "    <tr>\n",
       "      <th>687668</th>\n",
       "      <td>2024-06-07 15:25:00</td>\n",
       "      <td>23287.4000</td>\n",
       "      <td>23288.9000</td>\n",
       "      <td>23281.7000</td>\n",
       "      <td>23282.7500</td>\n",
       "      <td>0</td>\n",
       "    </tr>\n",
       "    <tr>\n",
       "      <th>687669</th>\n",
       "      <td>2024-06-07 15:26:00</td>\n",
       "      <td>23282.2000</td>\n",
       "      <td>23282.8000</td>\n",
       "      <td>23274.4000</td>\n",
       "      <td>23279.4000</td>\n",
       "      <td>0</td>\n",
       "    </tr>\n",
       "    <tr>\n",
       "      <th>687670</th>\n",
       "      <td>2024-06-07 15:27:00</td>\n",
       "      <td>23279.4000</td>\n",
       "      <td>23284.9000</td>\n",
       "      <td>23275.0500</td>\n",
       "      <td>23284.9000</td>\n",
       "      <td>0</td>\n",
       "    </tr>\n",
       "    <tr>\n",
       "      <th>687671</th>\n",
       "      <td>2024-06-07 15:28:00</td>\n",
       "      <td>23282.8000</td>\n",
       "      <td>23283.5500</td>\n",
       "      <td>23271.0000</td>\n",
       "      <td>23271.5500</td>\n",
       "      <td>0</td>\n",
       "    </tr>\n",
       "    <tr>\n",
       "      <th>687672</th>\n",
       "      <td>2024-06-07 15:29:00</td>\n",
       "      <td>23273.6500</td>\n",
       "      <td>23275.7000</td>\n",
       "      <td>23262.8000</td>\n",
       "      <td>23270.0500</td>\n",
       "      <td>0</td>\n",
       "    </tr>\n",
       "  </tbody>\n",
       "</table>\n",
       "</div>"
      ],
      "text/plain": [
       "                  datetime       open       high        low      close  volume\n",
       "687668 2024-06-07 15:25:00 23287.4000 23288.9000 23281.7000 23282.7500       0\n",
       "687669 2024-06-07 15:26:00 23282.2000 23282.8000 23274.4000 23279.4000       0\n",
       "687670 2024-06-07 15:27:00 23279.4000 23284.9000 23275.0500 23284.9000       0\n",
       "687671 2024-06-07 15:28:00 23282.8000 23283.5500 23271.0000 23271.5500       0\n",
       "687672 2024-06-07 15:29:00 23273.6500 23275.7000 23262.8000 23270.0500       0"
      ]
     },
     "execution_count": 11,
     "metadata": {},
     "output_type": "execute_result"
    }
   ],
   "source": [
    "data.tail()"
   ]
  },
  {
   "cell_type": "code",
   "execution_count": 12,
   "id": "4494129e-de27-4fd9-9aea-5548af1182ac",
   "metadata": {
    "execution": {
     "iopub.execute_input": "2024-09-19T19:04:34.331812Z",
     "iopub.status.busy": "2024-09-19T19:04:34.331063Z",
     "iopub.status.idle": "2024-09-19T19:04:34.339436Z",
     "shell.execute_reply": "2024-09-19T19:04:34.338305Z",
     "shell.execute_reply.started": "2024-09-19T19:04:34.331781Z"
    }
   },
   "outputs": [],
   "source": [
    "async def get_list_of_strikes(atm, num):\n",
    "    return [atm - (2*num), atm - num, atm, atm + num, atm + (2*num)]\n",
    "\n",
    "async def get_list_of_contracts(list_of_strikes, symbol, expiry):\n",
    "    ce_list = [get_option_contract_name(symbol, strike, expiry, 'CE') for strike in list_of_strikes]\n",
    "    pe_list = [get_option_contract_name(symbol, strike, expiry, 'PE') for strike in list_of_strikes]\n",
    "    return (ce_list + pe_list)\n",
    "\n",
    "def get_option_contract_name(symbol, strike, expiry, opt_type):\n",
    "    temp = '0'\n",
    "    mth=expiry.month\n",
    "\n",
    "    if (expiry + dt.timedelta(days=7)).month != expiry.month:\n",
    "        date_string = expiry.strftime('%y%b').upper()\n",
    "        return f'{symbol}{date_string}{strike}{opt_type}'\n",
    "    else:\n",
    "        if expiry.day<=9:\n",
    "            date_string = f'{expiry.year - 2000}{mth}{temp}{expiry.day}'\n",
    "        else :\n",
    "            date_string = f'{expiry.year - 2000}{mth}{expiry.day}'\n",
    "        return f'{symbol}{date_string}{strike}{opt_type}'"
   ]
  },
  {
   "cell_type": "code",
   "execution_count": 31,
   "id": "3f19772c-a58f-49c0-8f01-858b9e1cc167",
   "metadata": {
    "execution": {
     "iopub.execute_input": "2024-09-19T19:13:02.353637Z",
     "iopub.status.busy": "2024-09-19T19:13:02.352649Z",
     "iopub.status.idle": "2024-09-19T19:13:02.360455Z",
     "shell.execute_reply": "2024-09-19T19:13:02.359596Z",
     "shell.execute_reply.started": "2024-09-19T19:13:02.353603Z"
    }
   },
   "outputs": [],
   "source": [
    "async def execute(df):\n",
    "\n",
    "    starting_dt = dt.date(2024, 1, 1)\n",
    "    ending_dt = dt.date(2024, 6, 30)\n",
    "    current_dt = starting_dt\n",
    "\n",
    "    while(current_dt <= ending_dt):\n",
    "        if INDEX == 'bnf':\n",
    "            current_expiry = await get_expiry(current_dt)\n",
    "            strike_spread = 100\n",
    "        elif INDEX == 'nifty':\n",
    "            current_expiry = await get_expiry_nifty(current_dt)\n",
    "            strike_spread = 50\n",
    "        elif INDEX == 'finnifty':\n",
    "            current_expiry = await get_expiry_finnifty(current_dt)\n",
    "            strike_spread = 50\n",
    "        elif INDEX == 'midcpnifty':\n",
    "            current_expiry = await get_expiry_midcpnifty(current_dt)\n",
    "            strike_spread = 25\n",
    "\n",
    "        if nse.valid_days(start_date=current_expiry, end_date=current_expiry).empty:\n",
    "            if INDEX == 'midcpnifty':\n",
    "                current_expiry -= dt.timedelta(days=3)\n",
    "            else:\n",
    "                current_expiry -= dt.timedelta(days=1)\n",
    "\n",
    "        # print(current_dt, current_expiry)\n",
    "\n",
    "        if current_dt == current_expiry:\n",
    "            # print(current_dt)\n",
    "            expiry_data = df[df['datetime'].dt.date == current_expiry]\n",
    "            if len(expiry_data) == 0:\n",
    "                print(f'Data Not Found for {current_dt}')\n",
    "                current_dt += dt.timedelta(days=1)\n",
    "                continue\n",
    "            else:\n",
    "                spot_open = expiry_data['open'].iloc[0]\n",
    "                spot_atm = int(round(spot_open / strike_spread) * strike_spread)\n",
    "    \n",
    "                # print(spot_open, spot_atm, current_expiry)\n",
    "        \n",
    "                list_of_strikes = await get_list_of_strikes(spot_atm, strike_spread)\n",
    "                list_of_contracts = await get_list_of_contracts(list_of_strikes, INSTRUMENT, current_expiry)\n",
    "                # print(list_of_contracts)\n",
    "    \n",
    "                \n",
    "    \n",
    "        current_dt += dt.timedelta(days=1)\n",
    "            # break"
   ]
  },
  {
   "cell_type": "code",
   "execution_count": 32,
   "id": "a5c58b57-9283-4fc7-80b4-7b2a714d7386",
   "metadata": {
    "execution": {
     "iopub.execute_input": "2024-09-19T19:13:02.564809Z",
     "iopub.status.busy": "2024-09-19T19:13:02.564580Z",
     "iopub.status.idle": "2024-09-19T19:13:05.438857Z",
     "shell.execute_reply": "2024-09-19T19:13:05.437820Z",
     "shell.execute_reply.started": "2024-09-19T19:13:02.564794Z"
    },
    "scrolled": true
   },
   "outputs": [
    {
     "name": "stdout",
     "output_type": "stream",
     "text": [
      "['NIFTY2410421500CE', 'NIFTY2410421550CE', 'NIFTY2410421600CE', 'NIFTY2410421650CE', 'NIFTY2410421700CE', 'NIFTY2410421500PE', 'NIFTY2410421550PE', 'NIFTY2410421600PE', 'NIFTY2410421650PE', 'NIFTY2410421700PE']\n",
      "['NIFTY2411121600CE', 'NIFTY2411121650CE', 'NIFTY2411121700CE', 'NIFTY2411121750CE', 'NIFTY2411121800CE', 'NIFTY2411121600PE', 'NIFTY2411121650PE', 'NIFTY2411121700PE', 'NIFTY2411121750PE', 'NIFTY2411121800PE']\n",
      "['NIFTY2411821300CE', 'NIFTY2411821350CE', 'NIFTY2411821400CE', 'NIFTY2411821450CE', 'NIFTY2411821500CE', 'NIFTY2411821300PE', 'NIFTY2411821350PE', 'NIFTY2411821400PE', 'NIFTY2411821450PE', 'NIFTY2411821500PE']\n",
      "['NIFTY24JAN21350CE', 'NIFTY24JAN21400CE', 'NIFTY24JAN21450CE', 'NIFTY24JAN21500CE', 'NIFTY24JAN21550CE', 'NIFTY24JAN21350PE', 'NIFTY24JAN21400PE', 'NIFTY24JAN21450PE', 'NIFTY24JAN21500PE', 'NIFTY24JAN21550PE']\n",
      "['NIFTY2420121700CE', 'NIFTY2420121750CE', 'NIFTY2420121800CE', 'NIFTY2420121850CE', 'NIFTY2420121900CE', 'NIFTY2420121700PE', 'NIFTY2420121750PE', 'NIFTY2420121800PE', 'NIFTY2420121850PE', 'NIFTY2420121900PE']\n",
      "['NIFTY2420821900CE', 'NIFTY2420821950CE', 'NIFTY2420822000CE', 'NIFTY2420822050CE', 'NIFTY2420822100CE', 'NIFTY2420821900PE', 'NIFTY2420821950PE', 'NIFTY2420822000PE', 'NIFTY2420822050PE', 'NIFTY2420822100PE']\n",
      "['NIFTY2421521800CE', 'NIFTY2421521850CE', 'NIFTY2421521900CE', 'NIFTY2421521950CE', 'NIFTY2421522000CE', 'NIFTY2421521800PE', 'NIFTY2421521850PE', 'NIFTY2421521900PE', 'NIFTY2421521950PE', 'NIFTY2421522000PE']\n",
      "['NIFTY2422222000CE', 'NIFTY2422222050CE', 'NIFTY2422222100CE', 'NIFTY2422222150CE', 'NIFTY2422222200CE', 'NIFTY2422222000PE', 'NIFTY2422222050PE', 'NIFTY2422222100PE', 'NIFTY2422222150PE', 'NIFTY2422222200PE']\n",
      "['NIFTY24FEB21850CE', 'NIFTY24FEB21900CE', 'NIFTY24FEB21950CE', 'NIFTY24FEB22000CE', 'NIFTY24FEB22050CE', 'NIFTY24FEB21850PE', 'NIFTY24FEB21900PE', 'NIFTY24FEB21950PE', 'NIFTY24FEB22000PE', 'NIFTY24FEB22050PE']\n",
      "['NIFTY2430722400CE', 'NIFTY2430722450CE', 'NIFTY2430722500CE', 'NIFTY2430722550CE', 'NIFTY2430722600CE', 'NIFTY2430722400PE', 'NIFTY2430722450PE', 'NIFTY2430722500PE', 'NIFTY2430722550PE', 'NIFTY2430722600PE']\n",
      "['NIFTY2431421900CE', 'NIFTY2431421950CE', 'NIFTY2431422000CE', 'NIFTY2431422050CE', 'NIFTY2431422100CE', 'NIFTY2431421900PE', 'NIFTY2431421950PE', 'NIFTY2431422000PE', 'NIFTY2431422050PE', 'NIFTY2431422100PE']\n",
      "['NIFTY2432121900CE', 'NIFTY2432121950CE', 'NIFTY2432122000CE', 'NIFTY2432122050CE', 'NIFTY2432122100CE', 'NIFTY2432121900PE', 'NIFTY2432121950PE', 'NIFTY2432122000PE', 'NIFTY2432122050PE', 'NIFTY2432122100PE']\n",
      "['NIFTY24MAR22050CE', 'NIFTY24MAR22100CE', 'NIFTY24MAR22150CE', 'NIFTY24MAR22200CE', 'NIFTY24MAR22250CE', 'NIFTY24MAR22050PE', 'NIFTY24MAR22100PE', 'NIFTY24MAR22150PE', 'NIFTY24MAR22200PE', 'NIFTY24MAR22250PE']\n",
      "['NIFTY2440422500CE', 'NIFTY2440422550CE', 'NIFTY2440422600CE', 'NIFTY2440422650CE', 'NIFTY2440422700CE', 'NIFTY2440422500PE', 'NIFTY2440422550PE', 'NIFTY2440422600PE', 'NIFTY2440422650PE', 'NIFTY2440422700PE']\n",
      "Data Not Found for 2024-04-11\n",
      "['NIFTY2441822100CE', 'NIFTY2441822150CE', 'NIFTY2441822200CE', 'NIFTY2441822250CE', 'NIFTY2441822300CE', 'NIFTY2441822100PE', 'NIFTY2441822150PE', 'NIFTY2441822200PE', 'NIFTY2441822250PE', 'NIFTY2441822300PE']\n",
      "['NIFTY24APR22200CE', 'NIFTY24APR22250CE', 'NIFTY24APR22300CE', 'NIFTY24APR22350CE', 'NIFTY24APR22400CE', 'NIFTY24APR22200PE', 'NIFTY24APR22250PE', 'NIFTY24APR22300PE', 'NIFTY24APR22350PE', 'NIFTY24APR22400PE']\n",
      "['NIFTY2450222450CE', 'NIFTY2450222500CE', 'NIFTY2450222550CE', 'NIFTY2450222600CE', 'NIFTY2450222650CE', 'NIFTY2450222450PE', 'NIFTY2450222500PE', 'NIFTY2450222550PE', 'NIFTY2450222600PE', 'NIFTY2450222650PE']\n",
      "['NIFTY2450922100CE', 'NIFTY2450922150CE', 'NIFTY2450922200CE', 'NIFTY2450922250CE', 'NIFTY2450922300CE', 'NIFTY2450922100PE', 'NIFTY2450922150PE', 'NIFTY2450922200PE', 'NIFTY2450922250PE', 'NIFTY2450922300PE']\n",
      "['NIFTY2451622200CE', 'NIFTY2451622250CE', 'NIFTY2451622300CE', 'NIFTY2451622350CE', 'NIFTY2451622400CE', 'NIFTY2451622200PE', 'NIFTY2451622250PE', 'NIFTY2451622300PE', 'NIFTY2451622350PE', 'NIFTY2451622400PE']\n",
      "['NIFTY2452322500CE', 'NIFTY2452322550CE', 'NIFTY2452322600CE', 'NIFTY2452322650CE', 'NIFTY2452322700CE', 'NIFTY2452322500PE', 'NIFTY2452322550PE', 'NIFTY2452322600PE', 'NIFTY2452322650PE', 'NIFTY2452322700PE']\n",
      "['NIFTY24MAY22500CE', 'NIFTY24MAY22550CE', 'NIFTY24MAY22600CE', 'NIFTY24MAY22650CE', 'NIFTY24MAY22700CE', 'NIFTY24MAY22500PE', 'NIFTY24MAY22550PE', 'NIFTY24MAY22600PE', 'NIFTY24MAY22650PE', 'NIFTY24MAY22700PE']\n",
      "['NIFTY2460622700CE', 'NIFTY2460622750CE', 'NIFTY2460622800CE', 'NIFTY2460622850CE', 'NIFTY2460622900CE', 'NIFTY2460622700PE', 'NIFTY2460622750PE', 'NIFTY2460622800PE', 'NIFTY2460622850PE', 'NIFTY2460622900PE']\n",
      "Data Not Found for 2024-06-13\n",
      "Data Not Found for 2024-06-20\n",
      "Data Not Found for 2024-06-27\n"
     ]
    }
   ],
   "source": [
    "await execute(data)"
   ]
  },
  {
   "cell_type": "code",
   "execution_count": null,
   "id": "4afd1cec-67f9-4651-90c1-f6ed6a5288d5",
   "metadata": {},
   "outputs": [],
   "source": []
  },
  {
   "cell_type": "code",
   "execution_count": null,
   "id": "a27f9c39-1ea1-497c-b0a8-421af3160d96",
   "metadata": {},
   "outputs": [],
   "source": []
  }
 ],
 "metadata": {
  "kernelspec": {
   "display_name": "Python 3 (ipykernel)",
   "language": "python",
   "name": "python3"
  },
  "language_info": {
   "codemirror_mode": {
    "name": "ipython",
    "version": 3
   },
   "file_extension": ".py",
   "mimetype": "text/x-python",
   "name": "python",
   "nbconvert_exporter": "python",
   "pygments_lexer": "ipython3",
   "version": "3.11.6"
  }
 },
 "nbformat": 4,
 "nbformat_minor": 5
}
