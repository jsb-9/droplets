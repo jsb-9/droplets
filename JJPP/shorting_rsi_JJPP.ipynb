{
 "cells": [
  {
   "cell_type": "code",
   "execution_count": 1,
   "id": "4fe2e75b-e2aa-48e3-8e07-40133225a2e2",
   "metadata": {
    "execution": {
     "iopub.execute_input": "2025-02-13T07:06:18.441782Z",
     "iopub.status.busy": "2025-02-13T07:06:18.441228Z",
     "iopub.status.idle": "2025-02-13T07:06:20.652237Z",
     "shell.execute_reply": "2025-02-13T07:06:20.650975Z",
     "shell.execute_reply.started": "2025-02-13T07:06:18.441759Z"
    }
   },
   "outputs": [],
   "source": [
    "import asyncio\n",
    "import datetime as dt\n",
    "import math\n",
    "from typing import Literal\n",
    "\n",
    "import matplotlib.pyplot as plt\n",
    "import mplfinance as mpf\n",
    "import numpy as np\n",
    "import pandas as pd\n",
    "import pandas_market_calendars as mcal\n",
    "import plotly.graph_objects as go\n",
    "import polars as pl\n",
    "from dash import Dash, dcc, html\n",
    "from plotly.subplots import make_subplots\n",
    "\n",
    "nse = mcal.get_calendar(\"NSE\")"
   ]
  },
  {
   "cell_type": "code",
   "execution_count": 2,
   "id": "19c074b5-734a-4a62-8ee3-6982d11b2a47",
   "metadata": {
    "execution": {
     "iopub.execute_input": "2025-02-13T07:06:22.132694Z",
     "iopub.status.busy": "2025-02-13T07:06:22.132282Z",
     "iopub.status.idle": "2025-02-13T07:06:22.139195Z",
     "shell.execute_reply": "2025-02-13T07:06:22.137789Z",
     "shell.execute_reply.started": "2025-02-13T07:06:22.132670Z"
    }
   },
   "outputs": [],
   "source": [
    "pd.set_option(\"display.max_rows\", 25_000)\n",
    "pd.set_option(\"display.max_columns\", 500)\n",
    "pl.Config.set_tbl_cols(500)\n",
    "pl.Config.set_tbl_rows(10_000)\n",
    "\n",
    "pd.options.display.float_format = \"{:.4f}\".format"
   ]
  },
  {
   "cell_type": "code",
   "execution_count": 3,
   "id": "79c6e706-cd6d-4161-9bf3-695deadf185d",
   "metadata": {
    "execution": {
     "iopub.execute_input": "2025-02-13T07:06:25.329775Z",
     "iopub.status.busy": "2025-02-13T07:06:25.328675Z",
     "iopub.status.idle": "2025-02-13T07:06:25.732669Z",
     "shell.execute_reply": "2025-02-13T07:06:25.730608Z",
     "shell.execute_reply.started": "2025-02-13T07:06:25.329724Z"
    }
   },
   "outputs": [],
   "source": [
    "import sys\n",
    "\n",
    "sys.path.append(\"..\")\n",
    "from tooling.enums import AssetClass, Index, Spot, StrikeSpread\n",
    "from tooling.fetch import fetch_option_data, fetch_spot_data\n",
    "from tooling.filter import find_atm, option_tool"
   ]
  },
  {
   "cell_type": "code",
   "execution_count": 4,
   "id": "791030cb-3df4-4d3b-b953-3e15eb547b05",
   "metadata": {
    "execution": {
     "iopub.execute_input": "2025-02-13T07:06:29.519184Z",
     "iopub.status.busy": "2025-02-13T07:06:29.518448Z",
     "iopub.status.idle": "2025-02-13T07:06:29.545360Z",
     "shell.execute_reply": "2025-02-13T07:06:29.543537Z",
     "shell.execute_reply.started": "2025-02-13T07:06:29.519144Z"
    }
   },
   "outputs": [],
   "source": [
    "async def get_expiry(f_today, index):\n",
    "\n",
    "    if index == 'bnf':    \n",
    "        if (f_today <= dt.date(2024, 1, 25)) and (f_today >= dt.date(2024, 1, 18)):\n",
    "            f_expiry = dt.date(2024, 1, 25)\n",
    "        elif (f_today <= dt.date(2024, 1, 31)) and (f_today >= dt.date(2024, 1, 26)):\n",
    "            f_expiry = dt.date(2024, 1, 31)\n",
    "        elif (f_today <= dt.date(2024, 2, 22)) and (f_today >= dt.date(2024, 2, 29)):\n",
    "            f_expiry = dt.date(2024, 2, 29)\n",
    "        elif (f_today <= dt.date(2024, 3, 25)) and (f_today >= dt.date(2024, 3, 27)):\n",
    "            f_expiry = dt.date(2024, 2, 27)\n",
    "        elif f_today < dt.date(2023, 9, 1):\n",
    "            days_to_thursday = (3 - f_today.weekday()) % 7\n",
    "            nearest_thursday = f_today + dt.timedelta(days=days_to_thursday)\n",
    "            f_expiry = nearest_thursday\n",
    "            if nse.valid_days(start_date=nearest_thursday, end_date=nearest_thursday).empty:\n",
    "                f_expiry = nearest_thursday - dt.timedelta(days=1)\n",
    "        elif f_today >= dt.date(2023, 9, 1):\n",
    "            if f_today.day < 24:\n",
    "                days_to_wednesday = (2 - f_today.weekday()) % 7\n",
    "                nearest_wednesday = f_today + dt.timedelta(days=days_to_wednesday)\n",
    "                f_expiry = nearest_wednesday\n",
    "                if nse.valid_days(\n",
    "                    start_date=nearest_wednesday, end_date=nearest_wednesday\n",
    "                ).empty:\n",
    "                    f_expiry = nearest_wednesday - dt.timedelta(days=1)\n",
    "            else:\n",
    "                days_to_thursday = (3 - f_today.weekday()) % 7\n",
    "                nearest_thursday = f_today + dt.timedelta(days=days_to_thursday)\n",
    "                f_expiry = nearest_thursday\n",
    "                if nse.valid_days(\n",
    "                    start_date=nearest_thursday, end_date=nearest_thursday\n",
    "                ).empty:\n",
    "                    f_expiry = nearest_thursday - dt.timedelta(days=1)\n",
    "        return f_expiry\n",
    "\n",
    "    elif index == 'nifty':\n",
    "        days_to_thursday = (3 - f_today.weekday()) % 7\n",
    "        nearest_thursday = f_today + dt.timedelta(days=days_to_thursday)\n",
    "        f_expiry = nearest_thursday\n",
    "        if nse.valid_days(start_date=nearest_thursday, end_date=nearest_thursday).empty:\n",
    "            f_expiry = nearest_thursday - dt.timedelta(days=1)\n",
    "        return f_expiry\n",
    "\n",
    "    elif index == 'finnifty' or index == 'fnf':\n",
    "        days_to_thursday = (1 - f_today.weekday()) % 7\n",
    "        nearest_thursday = f_today + dt.timedelta(days=days_to_thursday)\n",
    "        f_expiry = nearest_thursday\n",
    "        if nse.valid_days(start_date=nearest_thursday, end_date=nearest_thursday).empty:\n",
    "            f_expiry = nearest_thursday - dt.timedelta(days=1)\n",
    "        return f_expiry\n",
    "\n",
    "    elif index == 'midcpnifty' or index == 'midcp':\n",
    "        days_to_thursday = (0 - f_today.weekday()) % 7\n",
    "        nearest_thursday = f_today + dt.timedelta(days=days_to_thursday)\n",
    "        f_expiry = nearest_thursday\n",
    "        if nse.valid_days(start_date=nearest_thursday, end_date=nearest_thursday).empty:\n",
    "            f_expiry = nearest_thursday - dt.timedelta(days=1)\n",
    "        return f_expiry\n",
    "\n",
    "async def get_expiry_nifty(f_today):\n",
    "\n",
    "    days_to_thursday = (3 - f_today.weekday()) % 7\n",
    "    nearest_thursday = f_today + dt.timedelta(days=days_to_thursday)\n",
    "    f_expiry = nearest_thursday\n",
    "    if nse.valid_days(start_date=nearest_thursday, end_date=nearest_thursday).empty:\n",
    "        f_expiry = nearest_thursday - dt.timedelta(days=1)\n",
    "    return f_expiry\n",
    "\n",
    "\n",
    "async def get_option_contract_name(symbol, strike, expiry, opt_type):\n",
    "    temp = \"0\"\n",
    "    mth = expiry.month\n",
    "\n",
    "    if (expiry + dt.timedelta(days=7)).month != expiry.month:\n",
    "        date_string = expiry.strftime(\"%y%b\").upper()\n",
    "        return f\"{symbol}{date_string}{strike}{opt_type}\"\n",
    "    else:\n",
    "        if expiry.day <= 9:\n",
    "            date_string = f\"{expiry.year - 2000}{mth}{temp}{expiry.day}\"\n",
    "        else:\n",
    "            date_string = f\"{expiry.year - 2000}{mth}{expiry.day}\"\n",
    "        return f\"{symbol}{date_string}{strike}{opt_type}\"\n",
    "\n",
    "\n",
    "def get_option_contract_name2(symbol, strike, expiry, opt_type):\n",
    "    temp = \"0\"\n",
    "    mth = expiry.month\n",
    "\n",
    "    if (expiry + dt.timedelta(days=7)).month != expiry.month:\n",
    "        date_string = expiry.strftime(\"%y%b\").upper()\n",
    "        return f\"{symbol}{date_string}{strike}{opt_type}\"\n",
    "    else:\n",
    "        if expiry.day <= 9:\n",
    "            date_string = f\"{expiry.year - 2000}{mth}{temp}{expiry.day}\"\n",
    "        else:\n",
    "            date_string = f\"{expiry.year - 2000}{mth}{expiry.day}\"\n",
    "        return f\"{symbol}{date_string}{strike}{opt_type}\""
   ]
  },
  {
   "cell_type": "code",
   "execution_count": 5,
   "id": "67d98d21-db76-478d-99f4-4617fc50c1bb",
   "metadata": {
    "execution": {
     "iopub.execute_input": "2025-02-13T07:06:36.662544Z",
     "iopub.status.busy": "2025-02-13T07:06:36.661715Z",
     "iopub.status.idle": "2025-02-13T07:06:36.920903Z",
     "shell.execute_reply": "2025-02-13T07:06:36.919737Z",
     "shell.execute_reply.started": "2025-02-13T07:06:36.662513Z"
    }
   },
   "outputs": [],
   "source": [
    "bnf_1min = pd.read_csv(\"../data/bn_30m.csv\")\n",
    "bnf_1min[\"datetime\"] = pd.to_datetime(bnf_1min[\"time\"])\n",
    "bnf_1min = bnf_1min[bnf_1min[\"datetime\"].dt.year >= 2017]"
   ]
  },
  {
   "cell_type": "code",
   "execution_count": 6,
   "id": "2a0666a2-efc7-41f6-806f-c45e2d8aaf9a",
   "metadata": {
    "execution": {
     "iopub.execute_input": "2025-02-13T07:06:41.852605Z",
     "iopub.status.busy": "2025-02-13T07:06:41.851687Z",
     "iopub.status.idle": "2025-02-13T07:06:41.859584Z",
     "shell.execute_reply": "2025-02-13T07:06:41.858304Z",
     "shell.execute_reply.started": "2025-02-13T07:06:41.852573Z"
    }
   },
   "outputs": [],
   "source": [
    "def resample(\n",
    "    data: pl.DataFrame, timeframe, offset: dt.timedelta | None = None\n",
    ") -> pl.DataFrame:\n",
    "    return (\n",
    "        data.set_sorted(\"datetime\")\n",
    "        .group_by_dynamic(\n",
    "            index_column=\"datetime\",\n",
    "            every=timeframe,\n",
    "            period=timeframe,\n",
    "            label=\"left\",\n",
    "            offset=offset,\n",
    "        )\n",
    "        .agg(\n",
    "            [\n",
    "                pl.col(\"open\").first().alias(\"open\"),\n",
    "                pl.col(\"high\").max().alias(\"high\"),\n",
    "                pl.col(\"low\").min().alias(\"low\"),\n",
    "                pl.col(\"close\").last().alias(\"close\"),\n",
    "                pl.col(\"volume\").sum().alias(\"volume\"),\n",
    "            ]\n",
    "        )\n",
    "    )\n",
    "\n",
    "\n",
    "# ohlc_resampled = resample(pl.DataFrame(bnf_1min), '7d', pd.Timedelta(days=4))\n",
    "# ohlc_resampled"
   ]
  },
  {
   "cell_type": "code",
   "execution_count": 7,
   "id": "ef17f822-9049-4d02-b245-b1b4f12a56c0",
   "metadata": {
    "execution": {
     "iopub.execute_input": "2025-02-13T07:06:46.251435Z",
     "iopub.status.busy": "2025-02-13T07:06:46.251077Z",
     "iopub.status.idle": "2025-02-13T07:06:46.306317Z",
     "shell.execute_reply": "2025-02-13T07:06:46.304751Z",
     "shell.execute_reply.started": "2025-02-13T07:06:46.251411Z"
    },
    "scrolled": true
   },
   "outputs": [
    {
     "data": {
      "text/plain": [
       "{datetime.date(2023, 1, 19),\n",
       " datetime.date(2019, 12, 20),\n",
       " datetime.date(2024, 6, 12),\n",
       " datetime.date(2018, 4, 27),\n",
       " datetime.date(2018, 7, 10),\n",
       " datetime.date(2018, 10, 8),\n",
       " datetime.date(2024, 7, 5),\n",
       " datetime.date(2022, 6, 16),\n",
       " datetime.date(2019, 8, 30),\n",
       " datetime.date(2022, 2, 1),\n",
       " datetime.date(2022, 3, 30),\n",
       " datetime.date(2018, 8, 6),\n",
       " datetime.date(2022, 11, 28),\n",
       " datetime.date(2018, 9, 17),\n",
       " datetime.date(2020, 8, 19),\n",
       " datetime.date(2021, 7, 5),\n",
       " datetime.date(2022, 6, 15),\n",
       " datetime.date(2019, 2, 6),\n",
       " datetime.date(2019, 3, 11),\n",
       " datetime.date(2020, 12, 23),\n",
       " datetime.date(2024, 3, 27),\n",
       " datetime.date(2018, 10, 23),\n",
       " datetime.date(2019, 8, 20),\n",
       " datetime.date(2024, 7, 2),\n",
       " datetime.date(2020, 2, 14),\n",
       " datetime.date(2022, 11, 1),\n",
       " datetime.date(2020, 2, 6),\n",
       " datetime.date(2020, 7, 9),\n",
       " datetime.date(2018, 11, 29),\n",
       " datetime.date(2022, 5, 9),\n",
       " datetime.date(2024, 7, 31),\n",
       " datetime.date(2022, 8, 1),\n",
       " datetime.date(2023, 4, 10),\n",
       " datetime.date(2023, 12, 6),\n",
       " datetime.date(2024, 7, 30),\n",
       " datetime.date(2023, 10, 17),\n",
       " datetime.date(2022, 7, 12),\n",
       " datetime.date(2018, 9, 12),\n",
       " datetime.date(2019, 12, 10),\n",
       " datetime.date(2023, 1, 5),\n",
       " datetime.date(2023, 2, 21),\n",
       " datetime.date(2020, 5, 5),\n",
       " datetime.date(2021, 5, 3),\n",
       " datetime.date(2023, 6, 12),\n",
       " datetime.date(2024, 2, 26),\n",
       " datetime.date(2024, 4, 4),\n",
       " datetime.date(2018, 9, 25),\n",
       " datetime.date(2019, 8, 29),\n",
       " datetime.date(2023, 2, 14),\n",
       " datetime.date(2023, 10, 16),\n",
       " datetime.date(2018, 1, 9),\n",
       " datetime.date(2024, 11, 22),\n",
       " datetime.date(2018, 4, 19),\n",
       " datetime.date(2019, 9, 17),\n",
       " datetime.date(2021, 12, 13),\n",
       " datetime.date(2021, 10, 8),\n",
       " datetime.date(2021, 9, 6),\n",
       " datetime.date(2018, 9, 18),\n",
       " datetime.date(2024, 12, 16),\n",
       " datetime.date(2022, 6, 30),\n",
       " datetime.date(2021, 10, 4),\n",
       " datetime.date(2024, 7, 4),\n",
       " datetime.date(2020, 5, 28),\n",
       " datetime.date(2020, 6, 4),\n",
       " datetime.date(2019, 4, 24),\n",
       " datetime.date(2019, 12, 31),\n",
       " datetime.date(2020, 3, 24),\n",
       " datetime.date(2020, 4, 17),\n",
       " datetime.date(2023, 12, 26),\n",
       " datetime.date(2023, 8, 4),\n",
       " datetime.date(2019, 3, 19),\n",
       " datetime.date(2023, 2, 20),\n",
       " datetime.date(2020, 3, 9),\n",
       " datetime.date(2020, 4, 21),\n",
       " datetime.date(2022, 11, 7),\n",
       " datetime.date(2019, 11, 18),\n",
       " datetime.date(2021, 9, 14),\n",
       " datetime.date(2023, 1, 24),\n",
       " datetime.date(2021, 9, 8),\n",
       " datetime.date(2024, 10, 30),\n",
       " datetime.date(2020, 11, 25),\n",
       " datetime.date(2023, 7, 31),\n",
       " datetime.date(2020, 8, 26),\n",
       " datetime.date(2022, 4, 21),\n",
       " datetime.date(2019, 1, 15),\n",
       " datetime.date(2020, 8, 10),\n",
       " datetime.date(2020, 3, 3),\n",
       " datetime.date(2020, 7, 14),\n",
       " datetime.date(2023, 1, 4),\n",
       " datetime.date(2023, 6, 8),\n",
       " datetime.date(2023, 5, 26),\n",
       " datetime.date(2023, 9, 27),\n",
       " datetime.date(2019, 2, 12),\n",
       " datetime.date(2019, 11, 15),\n",
       " datetime.date(2023, 2, 10),\n",
       " datetime.date(2018, 7, 4),\n",
       " datetime.date(2020, 5, 7),\n",
       " datetime.date(2021, 8, 13),\n",
       " datetime.date(2022, 1, 28),\n",
       " datetime.date(2020, 5, 21),\n",
       " datetime.date(2024, 11, 14),\n",
       " datetime.date(2021, 7, 23),\n",
       " datetime.date(2022, 12, 6),\n",
       " datetime.date(2023, 5, 31),\n",
       " datetime.date(2019, 8, 16),\n",
       " datetime.date(2021, 7, 20),\n",
       " datetime.date(2023, 10, 30),\n",
       " datetime.date(2021, 5, 4),\n",
       " datetime.date(2024, 6, 13),\n",
       " datetime.date(2020, 3, 4),\n",
       " datetime.date(2023, 8, 11),\n",
       " datetime.date(2024, 12, 18),\n",
       " datetime.date(2024, 10, 28),\n",
       " datetime.date(2023, 4, 11),\n",
       " datetime.date(2024, 8, 1),\n",
       " datetime.date(2025, 1, 1),\n",
       " datetime.date(2019, 3, 13),\n",
       " datetime.date(2019, 6, 6),\n",
       " datetime.date(2024, 12, 13),\n",
       " datetime.date(2024, 7, 15),\n",
       " datetime.date(2018, 8, 20),\n",
       " datetime.date(2018, 1, 24),\n",
       " datetime.date(2024, 11, 18),\n",
       " datetime.date(2023, 3, 28),\n",
       " datetime.date(2019, 2, 7),\n",
       " datetime.date(2024, 12, 10),\n",
       " datetime.date(2021, 4, 26),\n",
       " datetime.date(2023, 8, 30),\n",
       " datetime.date(2023, 11, 3),\n",
       " datetime.date(2023, 8, 31),\n",
       " datetime.date(2019, 12, 12),\n",
       " datetime.date(2023, 11, 12),\n",
       " datetime.date(2023, 6, 28),\n",
       " datetime.date(2023, 3, 31),\n",
       " datetime.date(2022, 10, 17),\n",
       " datetime.date(2019, 3, 8),\n",
       " datetime.date(2020, 3, 20),\n",
       " datetime.date(2023, 2, 2),\n",
       " datetime.date(2020, 12, 24),\n",
       " datetime.date(2024, 2, 29),\n",
       " datetime.date(2024, 8, 23),\n",
       " datetime.date(2022, 5, 5),\n",
       " datetime.date(2018, 10, 3),\n",
       " datetime.date(2024, 9, 25),\n",
       " datetime.date(2021, 12, 30),\n",
       " datetime.date(2018, 2, 14),\n",
       " datetime.date(2019, 8, 2),\n",
       " datetime.date(2024, 9, 12),\n",
       " datetime.date(2018, 2, 2),\n",
       " datetime.date(2023, 6, 16),\n",
       " datetime.date(2019, 3, 6),\n",
       " datetime.date(2021, 3, 4),\n",
       " datetime.date(2020, 12, 3),\n",
       " datetime.date(2019, 8, 9),\n",
       " datetime.date(2019, 7, 30),\n",
       " datetime.date(2021, 6, 7),\n",
       " datetime.date(2023, 4, 12),\n",
       " datetime.date(2024, 2, 21),\n",
       " datetime.date(2022, 1, 25),\n",
       " datetime.date(2019, 1, 9),\n",
       " datetime.date(2025, 1, 6),\n",
       " datetime.date(2024, 5, 3),\n",
       " datetime.date(2024, 5, 27),\n",
       " datetime.date(2024, 3, 12),\n",
       " datetime.date(2019, 11, 7),\n",
       " datetime.date(2023, 8, 10),\n",
       " datetime.date(2024, 7, 25),\n",
       " datetime.date(2022, 7, 28),\n",
       " datetime.date(2019, 7, 11),\n",
       " datetime.date(2023, 3, 6),\n",
       " datetime.date(2019, 4, 4),\n",
       " datetime.date(2022, 2, 4),\n",
       " datetime.date(2024, 8, 13),\n",
       " datetime.date(2018, 12, 21),\n",
       " datetime.date(2021, 1, 6),\n",
       " datetime.date(2019, 10, 27),\n",
       " datetime.date(2023, 5, 2),\n",
       " datetime.date(2020, 1, 1),\n",
       " datetime.date(2020, 11, 5),\n",
       " datetime.date(2018, 7, 12),\n",
       " datetime.date(2022, 11, 29),\n",
       " datetime.date(2022, 6, 27),\n",
       " datetime.date(2022, 9, 20),\n",
       " datetime.date(2023, 5, 10),\n",
       " datetime.date(2023, 12, 18),\n",
       " datetime.date(2019, 12, 18),\n",
       " datetime.date(2022, 12, 20),\n",
       " datetime.date(2018, 12, 5),\n",
       " datetime.date(2021, 11, 24),\n",
       " datetime.date(2025, 1, 23),\n",
       " datetime.date(2019, 10, 30),\n",
       " datetime.date(2019, 1, 3),\n",
       " datetime.date(2019, 9, 24),\n",
       " datetime.date(2021, 10, 18),\n",
       " datetime.date(2022, 5, 25),\n",
       " datetime.date(2023, 1, 31),\n",
       " datetime.date(2020, 4, 27),\n",
       " datetime.date(2023, 4, 13),\n",
       " datetime.date(2020, 3, 12),\n",
       " datetime.date(2024, 11, 27),\n",
       " datetime.date(2020, 8, 25),\n",
       " datetime.date(2019, 6, 26),\n",
       " datetime.date(2019, 8, 22),\n",
       " datetime.date(2023, 12, 28),\n",
       " datetime.date(2020, 10, 12),\n",
       " datetime.date(2020, 4, 8),\n",
       " datetime.date(2019, 1, 29),\n",
       " datetime.date(2019, 10, 24),\n",
       " datetime.date(2023, 2, 7),\n",
       " datetime.date(2019, 9, 30),\n",
       " datetime.date(2021, 9, 23),\n",
       " datetime.date(2023, 2, 16),\n",
       " datetime.date(2018, 2, 5),\n",
       " datetime.date(2020, 1, 6),\n",
       " datetime.date(2021, 10, 22),\n",
       " datetime.date(2018, 12, 31),\n",
       " datetime.date(2022, 2, 16),\n",
       " datetime.date(2021, 4, 19),\n",
       " datetime.date(2022, 12, 15),\n",
       " datetime.date(2023, 11, 8),\n",
       " datetime.date(2024, 9, 20),\n",
       " datetime.date(2018, 4, 23),\n",
       " datetime.date(2020, 7, 8),\n",
       " datetime.date(2020, 4, 20),\n",
       " datetime.date(2024, 4, 23),\n",
       " datetime.date(2024, 10, 7),\n",
       " datetime.date(2019, 2, 26),\n",
       " datetime.date(2020, 5, 8),\n",
       " datetime.date(2023, 12, 29),\n",
       " datetime.date(2021, 9, 16),\n",
       " datetime.date(2021, 11, 8),\n",
       " datetime.date(2021, 7, 1),\n",
       " datetime.date(2020, 1, 9),\n",
       " datetime.date(2022, 4, 1),\n",
       " datetime.date(2023, 11, 24),\n",
       " datetime.date(2018, 7, 17),\n",
       " datetime.date(2018, 5, 23),\n",
       " datetime.date(2023, 5, 30),\n",
       " datetime.date(2021, 9, 3),\n",
       " datetime.date(2021, 10, 12),\n",
       " datetime.date(2022, 10, 31),\n",
       " datetime.date(2018, 8, 16),\n",
       " datetime.date(2023, 2, 17),\n",
       " datetime.date(2022, 4, 13),\n",
       " datetime.date(2021, 7, 30),\n",
       " datetime.date(2018, 6, 22),\n",
       " datetime.date(2023, 4, 28),\n",
       " datetime.date(2021, 12, 21),\n",
       " datetime.date(2021, 3, 9),\n",
       " datetime.date(2019, 11, 11),\n",
       " datetime.date(2022, 2, 11),\n",
       " datetime.date(2021, 7, 8),\n",
       " datetime.date(2023, 10, 26),\n",
       " datetime.date(2024, 5, 24),\n",
       " datetime.date(2020, 7, 17),\n",
       " datetime.date(2019, 8, 28),\n",
       " datetime.date(2020, 6, 3),\n",
       " datetime.date(2019, 9, 23),\n",
       " datetime.date(2021, 12, 1),\n",
       " datetime.date(2018, 9, 3),\n",
       " datetime.date(2024, 11, 11),\n",
       " datetime.date(2022, 9, 12),\n",
       " datetime.date(2023, 2, 8),\n",
       " datetime.date(2019, 11, 29),\n",
       " datetime.date(2020, 9, 11),\n",
       " datetime.date(2018, 12, 17),\n",
       " datetime.date(2022, 12, 2),\n",
       " datetime.date(2019, 12, 9),\n",
       " datetime.date(2022, 1, 18),\n",
       " datetime.date(2021, 7, 22),\n",
       " datetime.date(2019, 10, 9),\n",
       " datetime.date(2021, 3, 5),\n",
       " datetime.date(2020, 12, 7),\n",
       " datetime.date(2018, 4, 24),\n",
       " datetime.date(2024, 6, 7),\n",
       " datetime.date(2020, 8, 28),\n",
       " datetime.date(2024, 2, 7),\n",
       " datetime.date(2023, 7, 12),\n",
       " datetime.date(2020, 4, 7),\n",
       " datetime.date(2020, 3, 6),\n",
       " datetime.date(2020, 3, 11),\n",
       " datetime.date(2020, 2, 3),\n",
       " datetime.date(2022, 1, 14),\n",
       " datetime.date(2019, 10, 7),\n",
       " datetime.date(2018, 2, 15),\n",
       " datetime.date(2024, 5, 10),\n",
       " datetime.date(2023, 5, 24),\n",
       " datetime.date(2022, 1, 17),\n",
       " datetime.date(2019, 2, 21),\n",
       " datetime.date(2018, 5, 31),\n",
       " datetime.date(2021, 8, 25),\n",
       " datetime.date(2024, 2, 8),\n",
       " datetime.date(2023, 9, 20),\n",
       " datetime.date(2018, 4, 25),\n",
       " datetime.date(2024, 6, 19),\n",
       " datetime.date(2023, 3, 8),\n",
       " datetime.date(2018, 10, 9),\n",
       " datetime.date(2024, 8, 8),\n",
       " datetime.date(2018, 10, 16),\n",
       " datetime.date(2023, 8, 17),\n",
       " datetime.date(2019, 5, 20),\n",
       " datetime.date(2020, 9, 23),\n",
       " datetime.date(2024, 10, 9),\n",
       " datetime.date(2024, 10, 24),\n",
       " datetime.date(2023, 7, 6),\n",
       " datetime.date(2020, 12, 18),\n",
       " datetime.date(2020, 7, 30),\n",
       " datetime.date(2024, 5, 22),\n",
       " datetime.date(2024, 12, 4),\n",
       " datetime.date(2022, 11, 16),\n",
       " datetime.date(2023, 8, 7),\n",
       " datetime.date(2019, 12, 4),\n",
       " datetime.date(2019, 1, 14),\n",
       " datetime.date(2022, 2, 22),\n",
       " datetime.date(2022, 4, 25),\n",
       " datetime.date(2020, 6, 22),\n",
       " datetime.date(2024, 3, 11),\n",
       " datetime.date(2018, 1, 2),\n",
       " datetime.date(2023, 6, 27),\n",
       " datetime.date(2024, 2, 16),\n",
       " datetime.date(2021, 4, 28),\n",
       " datetime.date(2022, 2, 14),\n",
       " datetime.date(2020, 6, 2),\n",
       " datetime.date(2018, 10, 19),\n",
       " datetime.date(2023, 7, 5),\n",
       " datetime.date(2022, 3, 25),\n",
       " datetime.date(2021, 11, 15),\n",
       " datetime.date(2022, 11, 3),\n",
       " datetime.date(2019, 1, 11),\n",
       " datetime.date(2020, 1, 27),\n",
       " datetime.date(2022, 5, 2),\n",
       " datetime.date(2018, 3, 6),\n",
       " datetime.date(2018, 8, 30),\n",
       " datetime.date(2024, 8, 26),\n",
       " datetime.date(2023, 4, 18),\n",
       " datetime.date(2020, 12, 29),\n",
       " datetime.date(2021, 4, 23),\n",
       " datetime.date(2020, 1, 3),\n",
       " datetime.date(2021, 12, 2),\n",
       " datetime.date(2020, 10, 20),\n",
       " datetime.date(2024, 3, 4),\n",
       " datetime.date(2019, 9, 26),\n",
       " datetime.date(2023, 3, 3),\n",
       " datetime.date(2020, 11, 27),\n",
       " datetime.date(2019, 7, 9),\n",
       " datetime.date(2024, 3, 21),\n",
       " datetime.date(2024, 5, 13),\n",
       " datetime.date(2020, 12, 31),\n",
       " datetime.date(2023, 3, 10),\n",
       " datetime.date(2023, 7, 27),\n",
       " datetime.date(2020, 1, 24),\n",
       " datetime.date(2018, 11, 6),\n",
       " datetime.date(2023, 9, 8),\n",
       " datetime.date(2018, 1, 16),\n",
       " datetime.date(2018, 3, 14),\n",
       " datetime.date(2018, 4, 9),\n",
       " datetime.date(2021, 8, 24),\n",
       " datetime.date(2021, 9, 2),\n",
       " datetime.date(2019, 7, 26),\n",
       " datetime.date(2023, 1, 16),\n",
       " datetime.date(2018, 1, 15),\n",
       " datetime.date(2023, 3, 1),\n",
       " datetime.date(2021, 10, 28),\n",
       " datetime.date(2018, 11, 30),\n",
       " datetime.date(2022, 6, 1),\n",
       " datetime.date(2024, 3, 15),\n",
       " datetime.date(2024, 12, 3),\n",
       " datetime.date(2022, 10, 10),\n",
       " datetime.date(2024, 3, 20),\n",
       " datetime.date(2020, 5, 6),\n",
       " datetime.date(2020, 4, 24),\n",
       " datetime.date(2024, 5, 17),\n",
       " datetime.date(2024, 5, 18),\n",
       " datetime.date(2023, 4, 25),\n",
       " datetime.date(2018, 10, 10),\n",
       " datetime.date(2023, 10, 10),\n",
       " datetime.date(2022, 2, 24),\n",
       " datetime.date(2019, 8, 14),\n",
       " datetime.date(2024, 7, 29),\n",
       " datetime.date(2020, 2, 24),\n",
       " datetime.date(2023, 10, 18),\n",
       " datetime.date(2022, 4, 20),\n",
       " datetime.date(2018, 2, 21),\n",
       " datetime.date(2023, 1, 12),\n",
       " datetime.date(2019, 4, 15),\n",
       " datetime.date(2020, 7, 24),\n",
       " datetime.date(2018, 5, 17),\n",
       " datetime.date(2018, 1, 1),\n",
       " datetime.date(2019, 3, 20),\n",
       " datetime.date(2025, 1, 14),\n",
       " datetime.date(2021, 3, 2),\n",
       " datetime.date(2023, 11, 30),\n",
       " datetime.date(2023, 12, 14),\n",
       " datetime.date(2024, 5, 15),\n",
       " datetime.date(2021, 10, 11),\n",
       " datetime.date(2018, 12, 14),\n",
       " datetime.date(2022, 7, 1),\n",
       " datetime.date(2023, 8, 1),\n",
       " datetime.date(2021, 2, 8),\n",
       " datetime.date(2022, 12, 13),\n",
       " datetime.date(2022, 7, 25),\n",
       " datetime.date(2018, 4, 11),\n",
       " datetime.date(2023, 11, 1),\n",
       " datetime.date(2018, 9, 11),\n",
       " datetime.date(2021, 11, 17),\n",
       " datetime.date(2024, 2, 1),\n",
       " datetime.date(2019, 6, 25),\n",
       " datetime.date(2021, 10, 5),\n",
       " datetime.date(2023, 8, 28),\n",
       " datetime.date(2021, 9, 21),\n",
       " datetime.date(2021, 12, 31),\n",
       " datetime.date(2021, 9, 22),\n",
       " datetime.date(2024, 1, 19),\n",
       " datetime.date(2020, 3, 27),\n",
       " datetime.date(2020, 12, 22),\n",
       " datetime.date(2023, 10, 4),\n",
       " datetime.date(2020, 9, 15),\n",
       " datetime.date(2024, 5, 2),\n",
       " datetime.date(2022, 8, 11),\n",
       " datetime.date(2023, 8, 25),\n",
       " datetime.date(2024, 6, 27),\n",
       " datetime.date(2021, 5, 17),\n",
       " datetime.date(2018, 10, 11),\n",
       " datetime.date(2022, 9, 2),\n",
       " datetime.date(2022, 5, 19),\n",
       " datetime.date(2020, 1, 23),\n",
       " datetime.date(2021, 2, 3),\n",
       " datetime.date(2021, 3, 18),\n",
       " datetime.date(2018, 3, 28),\n",
       " datetime.date(2023, 10, 23),\n",
       " datetime.date(2018, 12, 11),\n",
       " datetime.date(2021, 7, 28),\n",
       " datetime.date(2020, 2, 20),\n",
       " datetime.date(2021, 3, 23),\n",
       " datetime.date(2022, 10, 21),\n",
       " datetime.date(2019, 2, 18),\n",
       " datetime.date(2020, 7, 20),\n",
       " datetime.date(2021, 8, 27),\n",
       " datetime.date(2023, 9, 12),\n",
       " datetime.date(2023, 11, 9),\n",
       " datetime.date(2018, 1, 11),\n",
       " datetime.date(2021, 4, 30),\n",
       " datetime.date(2019, 8, 26),\n",
       " datetime.date(2020, 1, 29),\n",
       " datetime.date(2020, 3, 2),\n",
       " datetime.date(2019, 5, 22),\n",
       " datetime.date(2021, 8, 10),\n",
       " datetime.date(2021, 6, 10),\n",
       " datetime.date(2020, 10, 30),\n",
       " datetime.date(2023, 8, 22),\n",
       " datetime.date(2019, 11, 25),\n",
       " datetime.date(2024, 1, 20),\n",
       " datetime.date(2022, 6, 2),\n",
       " datetime.date(2024, 11, 28),\n",
       " datetime.date(2018, 3, 9),\n",
       " datetime.date(2022, 1, 20),\n",
       " datetime.date(2018, 10, 24),\n",
       " datetime.date(2021, 7, 19),\n",
       " datetime.date(2021, 2, 19),\n",
       " datetime.date(2018, 2, 16),\n",
       " datetime.date(2022, 5, 12),\n",
       " datetime.date(2023, 6, 21),\n",
       " datetime.date(2021, 2, 2),\n",
       " datetime.date(2024, 1, 31),\n",
       " datetime.date(2018, 9, 14),\n",
       " datetime.date(2022, 4, 27),\n",
       " datetime.date(2018, 5, 25),\n",
       " datetime.date(2018, 5, 18),\n",
       " datetime.date(2022, 4, 29),\n",
       " datetime.date(2019, 4, 30),\n",
       " datetime.date(2019, 5, 24),\n",
       " datetime.date(2022, 10, 4),\n",
       " datetime.date(2023, 7, 13),\n",
       " datetime.date(2020, 7, 10),\n",
       " datetime.date(2018, 7, 25),\n",
       " datetime.date(2024, 9, 19),\n",
       " datetime.date(2020, 9, 30),\n",
       " datetime.date(2019, 10, 25),\n",
       " datetime.date(2021, 9, 7),\n",
       " datetime.date(2024, 3, 22),\n",
       " datetime.date(2021, 4, 15),\n",
       " datetime.date(2019, 9, 25),\n",
       " datetime.date(2022, 12, 5),\n",
       " datetime.date(2023, 7, 20),\n",
       " datetime.date(2022, 10, 13),\n",
       " datetime.date(2018, 2, 26),\n",
       " datetime.date(2019, 7, 8),\n",
       " datetime.date(2018, 11, 14),\n",
       " datetime.date(2024, 10, 21),\n",
       " datetime.date(2021, 4, 22),\n",
       " datetime.date(2022, 12, 7),\n",
       " datetime.date(2019, 5, 31),\n",
       " datetime.date(2021, 8, 23),\n",
       " datetime.date(2019, 11, 5),\n",
       " datetime.date(2020, 11, 9),\n",
       " datetime.date(2021, 10, 13),\n",
       " datetime.date(2022, 1, 3),\n",
       " datetime.date(2021, 7, 26),\n",
       " datetime.date(2022, 5, 11),\n",
       " datetime.date(2019, 4, 8),\n",
       " datetime.date(2018, 7, 30),\n",
       " datetime.date(2023, 6, 2),\n",
       " datetime.date(2021, 11, 1),\n",
       " datetime.date(2020, 1, 13),\n",
       " datetime.date(2018, 6, 12),\n",
       " datetime.date(2018, 5, 24),\n",
       " datetime.date(2019, 6, 21),\n",
       " datetime.date(2022, 2, 15),\n",
       " datetime.date(2021, 3, 22),\n",
       " datetime.date(2021, 11, 4),\n",
       " datetime.date(2023, 1, 9),\n",
       " datetime.date(2018, 6, 14),\n",
       " datetime.date(2025, 1, 13),\n",
       " datetime.date(2020, 1, 14),\n",
       " datetime.date(2022, 3, 2),\n",
       " datetime.date(2019, 10, 16),\n",
       " datetime.date(2023, 3, 15),\n",
       " datetime.date(2022, 6, 3),\n",
       " datetime.date(2021, 8, 3),\n",
       " datetime.date(2020, 1, 22),\n",
       " datetime.date(2020, 1, 31),\n",
       " datetime.date(2022, 9, 15),\n",
       " datetime.date(2018, 1, 17),\n",
       " datetime.date(2024, 12, 30),\n",
       " datetime.date(2018, 9, 21),\n",
       " datetime.date(2022, 6, 24),\n",
       " datetime.date(2020, 7, 22),\n",
       " datetime.date(2024, 10, 25),\n",
       " datetime.date(2024, 2, 23),\n",
       " datetime.date(2019, 10, 18),\n",
       " datetime.date(2019, 6, 20),\n",
       " datetime.date(2021, 1, 5),\n",
       " datetime.date(2023, 11, 20),\n",
       " datetime.date(2018, 3, 12),\n",
       " datetime.date(2019, 7, 12),\n",
       " datetime.date(2024, 2, 13),\n",
       " datetime.date(2021, 7, 27),\n",
       " datetime.date(2022, 1, 13),\n",
       " datetime.date(2020, 4, 9),\n",
       " datetime.date(2018, 11, 22),\n",
       " datetime.date(2020, 8, 5),\n",
       " datetime.date(2024, 2, 28),\n",
       " datetime.date(2024, 6, 14),\n",
       " datetime.date(2024, 3, 7),\n",
       " datetime.date(2018, 4, 16),\n",
       " datetime.date(2020, 2, 18),\n",
       " datetime.date(2022, 4, 8),\n",
       " datetime.date(2024, 2, 2),\n",
       " datetime.date(2018, 4, 3),\n",
       " datetime.date(2019, 5, 15),\n",
       " datetime.date(2020, 3, 30),\n",
       " datetime.date(2019, 9, 27),\n",
       " datetime.date(2023, 10, 3),\n",
       " datetime.date(2019, 4, 2),\n",
       " datetime.date(2018, 9, 4),\n",
       " datetime.date(2020, 1, 7),\n",
       " datetime.date(2022, 5, 26),\n",
       " datetime.date(2022, 8, 10),\n",
       " datetime.date(2018, 7, 23),\n",
       " datetime.date(2019, 5, 9),\n",
       " datetime.date(2018, 8, 27),\n",
       " datetime.date(2018, 7, 31),\n",
       " datetime.date(2021, 3, 12),\n",
       " datetime.date(2018, 10, 1),\n",
       " datetime.date(2022, 8, 17),\n",
       " datetime.date(2020, 4, 3),\n",
       " datetime.date(2019, 2, 1),\n",
       " datetime.date(2018, 6, 8),\n",
       " datetime.date(2021, 5, 12),\n",
       " datetime.date(2023, 3, 2),\n",
       " datetime.date(2021, 6, 4),\n",
       " datetime.date(2023, 7, 4),\n",
       " datetime.date(2018, 6, 15),\n",
       " datetime.date(2018, 11, 20),\n",
       " datetime.date(2020, 6, 5),\n",
       " datetime.date(2020, 3, 17),\n",
       " datetime.date(2021, 8, 4),\n",
       " datetime.date(2019, 3, 26),\n",
       " datetime.date(2021, 2, 18),\n",
       " datetime.date(2019, 2, 28),\n",
       " datetime.date(2021, 2, 22),\n",
       " datetime.date(2024, 6, 4),\n",
       " datetime.date(2023, 8, 23),\n",
       " datetime.date(2021, 11, 26),\n",
       " datetime.date(2018, 1, 30),\n",
       " datetime.date(2024, 6, 21),\n",
       " datetime.date(2018, 5, 8),\n",
       " datetime.date(2023, 2, 15),\n",
       " datetime.date(2023, 11, 7),\n",
       " datetime.date(2020, 5, 19),\n",
       " datetime.date(2019, 3, 18),\n",
       " datetime.date(2021, 2, 16),\n",
       " datetime.date(2022, 5, 18),\n",
       " datetime.date(2021, 5, 10),\n",
       " datetime.date(2024, 4, 5),\n",
       " datetime.date(2024, 10, 1),\n",
       " datetime.date(2021, 1, 13),\n",
       " datetime.date(2018, 8, 13),\n",
       " datetime.date(2018, 12, 27),\n",
       " datetime.date(2020, 12, 21),\n",
       " datetime.date(2018, 8, 7),\n",
       " datetime.date(2019, 2, 4),\n",
       " datetime.date(2024, 11, 21),\n",
       " datetime.date(2021, 11, 30),\n",
       " datetime.date(2022, 12, 28),\n",
       " datetime.date(2019, 11, 1),\n",
       " datetime.date(2024, 9, 23),\n",
       " datetime.date(2024, 9, 11),\n",
       " datetime.date(2023, 10, 5),\n",
       " datetime.date(2019, 6, 4),\n",
       " datetime.date(2022, 4, 5),\n",
       " datetime.date(2022, 1, 19),\n",
       " datetime.date(2020, 10, 27),\n",
       " datetime.date(2021, 4, 7),\n",
       " datetime.date(2021, 7, 9),\n",
       " datetime.date(2023, 9, 15),\n",
       " datetime.date(2025, 1, 20),\n",
       " datetime.date(2021, 3, 24),\n",
       " datetime.date(2022, 6, 7),\n",
       " datetime.date(2024, 4, 12),\n",
       " datetime.date(2020, 1, 21),\n",
       " datetime.date(2022, 1, 4),\n",
       " datetime.date(2018, 1, 3),\n",
       " datetime.date(2023, 8, 16),\n",
       " datetime.date(2024, 8, 6),\n",
       " datetime.date(2024, 6, 20),\n",
       " datetime.date(2021, 6, 11),\n",
       " datetime.date(2023, 10, 19),\n",
       " datetime.date(2022, 11, 11),\n",
       " datetime.date(2023, 6, 13),\n",
       " datetime.date(2022, 5, 17),\n",
       " datetime.date(2018, 2, 7),\n",
       " datetime.date(2022, 4, 28),\n",
       " datetime.date(2024, 9, 16),\n",
       " datetime.date(2023, 2, 24),\n",
       " datetime.date(2021, 2, 12),\n",
       " datetime.date(2022, 6, 17),\n",
       " datetime.date(2018, 10, 30),\n",
       " datetime.date(2019, 12, 16),\n",
       " datetime.date(2018, 2, 19),\n",
       " datetime.date(2021, 3, 8),\n",
       " datetime.date(2023, 6, 22),\n",
       " datetime.date(2020, 9, 17),\n",
       " datetime.date(2020, 11, 26),\n",
       " datetime.date(2019, 10, 17),\n",
       " datetime.date(2019, 6, 14),\n",
       " datetime.date(2019, 10, 3),\n",
       " datetime.date(2021, 4, 6),\n",
       " datetime.date(2021, 5, 11),\n",
       " datetime.date(2024, 11, 8),\n",
       " datetime.date(2024, 12, 24),\n",
       " datetime.date(2024, 3, 19),\n",
       " datetime.date(2020, 11, 4),\n",
       " datetime.date(2024, 12, 23),\n",
       " datetime.date(2018, 2, 20),\n",
       " datetime.date(2018, 12, 12),\n",
       " datetime.date(2023, 1, 25),\n",
       " datetime.date(2020, 2, 25),\n",
       " datetime.date(2023, 9, 25),\n",
       " datetime.date(2021, 10, 20),\n",
       " datetime.date(2023, 1, 2),\n",
       " datetime.date(2022, 1, 6),\n",
       " datetime.date(2020, 10, 1),\n",
       " datetime.date(2020, 7, 29),\n",
       " datetime.date(2022, 11, 14),\n",
       " datetime.date(2024, 2, 5),\n",
       " datetime.date(2018, 7, 6),\n",
       " datetime.date(2018, 8, 29),\n",
       " datetime.date(2021, 6, 25),\n",
       " datetime.date(2022, 8, 5),\n",
       " datetime.date(2020, 5, 29),\n",
       " datetime.date(2021, 3, 10),\n",
       " datetime.date(2024, 1, 2),\n",
       " datetime.date(2022, 10, 3),\n",
       " datetime.date(2021, 8, 5),\n",
       " datetime.date(2019, 1, 25),\n",
       " datetime.date(2024, 11, 6),\n",
       " datetime.date(2021, 12, 6),\n",
       " datetime.date(2024, 11, 26),\n",
       " datetime.date(2020, 3, 31),\n",
       " datetime.date(2019, 9, 9),\n",
       " datetime.date(2022, 3, 8),\n",
       " datetime.date(2021, 11, 23),\n",
       " datetime.date(2019, 3, 15),\n",
       " datetime.date(2024, 3, 14),\n",
       " datetime.date(2025, 1, 15),\n",
       " datetime.date(2018, 8, 28),\n",
       " datetime.date(2021, 12, 22),\n",
       " datetime.date(2019, 3, 14),\n",
       " datetime.date(2020, 4, 16),\n",
       " datetime.date(2018, 6, 27),\n",
       " datetime.date(2018, 11, 19),\n",
       " datetime.date(2021, 5, 5),\n",
       " datetime.date(2018, 6, 5),\n",
       " datetime.date(2023, 1, 20),\n",
       " datetime.date(2021, 9, 24),\n",
       " datetime.date(2019, 11, 20),\n",
       " datetime.date(2024, 10, 10),\n",
       " datetime.date(2023, 7, 7),\n",
       " datetime.date(2020, 7, 3),\n",
       " datetime.date(2018, 4, 20),\n",
       " datetime.date(2023, 5, 19),\n",
       " datetime.date(2023, 11, 13),\n",
       " datetime.date(2019, 3, 27),\n",
       " datetime.date(2018, 1, 18),\n",
       " datetime.date(2020, 9, 1),\n",
       " datetime.date(2023, 8, 8),\n",
       " datetime.date(2018, 8, 8),\n",
       " datetime.date(2021, 9, 13),\n",
       " datetime.date(2020, 8, 20),\n",
       " datetime.date(2020, 10, 9),\n",
       " datetime.date(2018, 11, 1),\n",
       " datetime.date(2020, 3, 26),\n",
       " datetime.date(2024, 1, 16),\n",
       " datetime.date(2019, 12, 24),\n",
       " datetime.date(2020, 6, 10),\n",
       " datetime.date(2024, 9, 26),\n",
       " datetime.date(2020, 7, 31),\n",
       " datetime.date(2023, 1, 27),\n",
       " datetime.date(2021, 11, 22),\n",
       " datetime.date(2023, 7, 19),\n",
       " datetime.date(2018, 11, 9),\n",
       " datetime.date(2024, 4, 30),\n",
       " datetime.date(2021, 5, 28),\n",
       " datetime.date(2021, 6, 8),\n",
       " datetime.date(2021, 7, 13),\n",
       " datetime.date(2022, 6, 6),\n",
       " datetime.date(2019, 7, 31),\n",
       " datetime.date(2022, 8, 22),\n",
       " datetime.date(2023, 12, 19),\n",
       " datetime.date(2018, 4, 13),\n",
       " datetime.date(2022, 6, 13),\n",
       " datetime.date(2024, 2, 27),\n",
       " datetime.date(2022, 6, 14),\n",
       " datetime.date(2022, 4, 4),\n",
       " datetime.date(2023, 6, 30),\n",
       " datetime.date(2020, 10, 28),\n",
       " datetime.date(2022, 7, 27),\n",
       " datetime.date(2024, 12, 31),\n",
       " datetime.date(2022, 3, 22),\n",
       " datetime.date(2022, 9, 27),\n",
       " datetime.date(2019, 7, 16),\n",
       " datetime.date(2024, 10, 29),\n",
       " datetime.date(2018, 2, 8),\n",
       " datetime.date(2018, 8, 3),\n",
       " datetime.date(2019, 5, 30),\n",
       " datetime.date(2021, 3, 1),\n",
       " datetime.date(2020, 2, 28),\n",
       " datetime.date(2022, 7, 26),\n",
       " datetime.date(2021, 1, 21),\n",
       " datetime.date(2021, 2, 15),\n",
       " datetime.date(2024, 2, 20),\n",
       " datetime.date(2018, 11, 28),\n",
       " datetime.date(2020, 10, 6),\n",
       " datetime.date(2024, 9, 9),\n",
       " datetime.date(2019, 2, 20),\n",
       " datetime.date(2023, 10, 11),\n",
       " datetime.date(2023, 4, 27),\n",
       " datetime.date(2018, 7, 11),\n",
       " datetime.date(2019, 9, 16),\n",
       " datetime.date(2021, 7, 15),\n",
       " datetime.date(2021, 12, 8),\n",
       " datetime.date(2019, 1, 8),\n",
       " datetime.date(2024, 12, 5),\n",
       " datetime.date(2020, 9, 22),\n",
       " datetime.date(2019, 12, 11),\n",
       " datetime.date(2018, 4, 18),\n",
       " datetime.date(2020, 6, 29),\n",
       " datetime.date(2019, 12, 27),\n",
       " datetime.date(2018, 11, 27),\n",
       " datetime.date(2023, 5, 25),\n",
       " datetime.date(2019, 4, 9),\n",
       " datetime.date(2023, 9, 26),\n",
       " datetime.date(2022, 7, 4),\n",
       " datetime.date(2022, 12, 23),\n",
       " datetime.date(2021, 1, 28),\n",
       " datetime.date(2024, 7, 23),\n",
       " datetime.date(2021, 3, 3),\n",
       " datetime.date(2020, 10, 14),\n",
       " datetime.date(2021, 5, 14),\n",
       " datetime.date(2021, 3, 16),\n",
       " datetime.date(2024, 10, 4),\n",
       " datetime.date(2021, 6, 28),\n",
       " datetime.date(2021, 7, 14),\n",
       " datetime.date(2022, 9, 13),\n",
       " datetime.date(2018, 11, 13),\n",
       " datetime.date(2023, 12, 7),\n",
       " datetime.date(2024, 8, 22),\n",
       " datetime.date(2022, 4, 19),\n",
       " datetime.date(2018, 6, 13),\n",
       " datetime.date(2021, 10, 21),\n",
       " datetime.date(2024, 6, 10),\n",
       " datetime.date(2019, 8, 1),\n",
       " datetime.date(2024, 7, 11),\n",
       " datetime.date(2018, 7, 16),\n",
       " datetime.date(2021, 8, 2),\n",
       " datetime.date(2022, 3, 24),\n",
       " datetime.date(2018, 5, 9),\n",
       " datetime.date(2021, 8, 18),\n",
       " datetime.date(2025, 1, 21),\n",
       " datetime.date(2020, 2, 1),\n",
       " datetime.date(2019, 5, 3),\n",
       " datetime.date(2019, 6, 3),\n",
       " datetime.date(2019, 6, 19),\n",
       " datetime.date(2022, 8, 25),\n",
       " datetime.date(2019, 10, 23),\n",
       " datetime.date(2021, 4, 27),\n",
       " datetime.date(2024, 10, 31),\n",
       " datetime.date(2019, 9, 13),\n",
       " datetime.date(2022, 4, 18),\n",
       " datetime.date(2022, 5, 10),\n",
       " datetime.date(2019, 5, 13),\n",
       " datetime.date(2018, 3, 16),\n",
       " datetime.date(2019, 7, 25),\n",
       " datetime.date(2020, 8, 3),\n",
       " datetime.date(2022, 3, 17),\n",
       " datetime.date(2020, 11, 20),\n",
       " datetime.date(2023, 11, 10),\n",
       " datetime.date(2024, 6, 11),\n",
       " datetime.date(2019, 3, 12),\n",
       " datetime.date(2021, 6, 18),\n",
       " datetime.date(2022, 8, 8),\n",
       " datetime.date(2019, 11, 22),\n",
       " datetime.date(2022, 9, 29),\n",
       " datetime.date(2022, 8, 23),\n",
       " datetime.date(2020, 1, 20),\n",
       " datetime.date(2023, 2, 3),\n",
       " datetime.date(2024, 4, 26),\n",
       " datetime.date(2024, 7, 10),\n",
       " datetime.date(2024, 8, 27),\n",
       " datetime.date(2020, 10, 23),\n",
       " datetime.date(2023, 2, 9),\n",
       " datetime.date(2019, 5, 7),\n",
       " datetime.date(2018, 4, 10),\n",
       " datetime.date(2018, 9, 27),\n",
       " datetime.date(2019, 2, 11),\n",
       " datetime.date(2022, 9, 28),\n",
       " datetime.date(2024, 12, 12),\n",
       " datetime.date(2024, 10, 15),\n",
       " datetime.date(2018, 6, 11),\n",
       " datetime.date(2019, 7, 22),\n",
       " datetime.date(2020, 9, 16),\n",
       " datetime.date(2022, 1, 27),\n",
       " datetime.date(2024, 6, 18),\n",
       " datetime.date(2022, 5, 20),\n",
       " datetime.date(2018, 9, 5),\n",
       " datetime.date(2023, 6, 5),\n",
       " datetime.date(2018, 10, 22),\n",
       " datetime.date(2020, 10, 5),\n",
       " datetime.date(2018, 9, 7),\n",
       " datetime.date(2018, 2, 6),\n",
       " datetime.date(2023, 4, 26),\n",
       " datetime.date(2019, 6, 28),\n",
       " datetime.date(2020, 7, 16),\n",
       " datetime.date(2024, 6, 26),\n",
       " datetime.date(2022, 1, 7),\n",
       " datetime.date(2019, 10, 10),\n",
       " datetime.date(2023, 2, 13),\n",
       " datetime.date(2022, 8, 16),\n",
       " datetime.date(2018, 6, 20),\n",
       " datetime.date(2018, 7, 5),\n",
       " datetime.date(2019, 10, 22),\n",
       " datetime.date(2020, 8, 14),\n",
       " datetime.date(2024, 12, 17),\n",
       " datetime.date(2018, 2, 1),\n",
       " datetime.date(2024, 9, 5),\n",
       " datetime.date(2020, 5, 11),\n",
       " datetime.date(2023, 11, 21),\n",
       " datetime.date(2024, 4, 18),\n",
       " datetime.date(2020, 8, 11),\n",
       " datetime.date(2022, 1, 24),\n",
       " datetime.date(2018, 6, 6),\n",
       " datetime.date(2018, 2, 12),\n",
       " datetime.date(2024, 5, 7),\n",
       " datetime.date(2024, 10, 22),\n",
       " datetime.date(2022, 10, 12),\n",
       " datetime.date(2023, 11, 2),\n",
       " datetime.date(2020, 1, 30),\n",
       " datetime.date(2023, 3, 24),\n",
       " datetime.date(2021, 10, 6),\n",
       " datetime.date(2023, 4, 17),\n",
       " datetime.date(2020, 12, 9),\n",
       " datetime.date(2023, 1, 23),\n",
       " datetime.date(2024, 12, 6),\n",
       " datetime.date(2019, 5, 27),\n",
       " datetime.date(2024, 10, 8),\n",
       " datetime.date(2018, 10, 15),\n",
       " datetime.date(2020, 4, 13),\n",
       " datetime.date(2024, 1, 12),\n",
       " datetime.date(2023, 7, 26),\n",
       " datetime.date(2020, 9, 3),\n",
       " datetime.date(2019, 7, 2),\n",
       " datetime.date(2022, 4, 26),\n",
       " datetime.date(2018, 10, 4),\n",
       " datetime.date(2024, 1, 3),\n",
       " datetime.date(2018, 2, 28),\n",
       " datetime.date(2021, 8, 16),\n",
       " datetime.date(2020, 6, 1),\n",
       " datetime.date(2020, 9, 4),\n",
       " datetime.date(2022, 7, 29),\n",
       " datetime.date(2018, 6, 26),\n",
       " datetime.date(2020, 6, 12),\n",
       " datetime.date(2019, 4, 26),\n",
       " datetime.date(2025, 1, 9),\n",
       " datetime.date(2019, 4, 3),\n",
       " datetime.date(2021, 8, 12),\n",
       " datetime.date(2018, 6, 18),\n",
       " datetime.date(2018, 3, 13),\n",
       " datetime.date(2019, 1, 23),\n",
       " datetime.date(2020, 10, 7),\n",
       " datetime.date(2023, 4, 21),\n",
       " datetime.date(2023, 11, 16),\n",
       " datetime.date(2018, 5, 14),\n",
       " datetime.date(2024, 9, 24),\n",
       " datetime.date(2025, 1, 16),\n",
       " datetime.date(2024, 12, 20),\n",
       " datetime.date(2024, 1, 24),\n",
       " datetime.date(2022, 9, 26),\n",
       " datetime.date(2020, 11, 13),\n",
       " datetime.date(2020, 2, 19),\n",
       " datetime.date(2023, 10, 27),\n",
       " datetime.date(2020, 10, 21),\n",
       " datetime.date(2020, 11, 14),\n",
       " datetime.date(2021, 8, 20),\n",
       " datetime.date(2024, 7, 1),\n",
       " datetime.date(2023, 11, 17),\n",
       " datetime.date(2021, 12, 28),\n",
       " datetime.date(2020, 2, 17),\n",
       " datetime.date(2020, 12, 11),\n",
       " datetime.date(2023, 3, 22),\n",
       " datetime.date(2018, 4, 30),\n",
       " datetime.date(2023, 5, 18),\n",
       " datetime.date(2019, 8, 7),\n",
       " datetime.date(2018, 1, 19),\n",
       " datetime.date(2018, 5, 30),\n",
       " datetime.date(2021, 9, 15),\n",
       " datetime.date(2018, 10, 17),\n",
       " datetime.date(2022, 2, 23),\n",
       " datetime.date(2020, 5, 20),\n",
       " datetime.date(2021, 4, 20),\n",
       " datetime.date(2025, 1, 17),\n",
       " datetime.date(2022, 2, 21),\n",
       " datetime.date(2024, 2, 12),\n",
       " datetime.date(2019, 4, 11),\n",
       " datetime.date(2023, 6, 23),\n",
       " datetime.date(2024, 5, 6),\n",
       " datetime.date(2019, 3, 1),\n",
       " datetime.date(2023, 7, 25),\n",
       " datetime.date(2022, 10, 27),\n",
       " datetime.date(2022, 7, 14),\n",
       " datetime.date(2020, 8, 27),\n",
       " datetime.date(2022, 3, 10),\n",
       " datetime.date(2024, 9, 17),\n",
       " datetime.date(2019, 2, 13),\n",
       " datetime.date(2019, 1, 18),\n",
       " datetime.date(2024, 11, 12),\n",
       " datetime.date(2019, 2, 25),\n",
       " datetime.date(2022, 9, 8),\n",
       " datetime.date(2020, 9, 21),\n",
       " datetime.date(2022, 4, 12),\n",
       " datetime.date(2018, 8, 14),\n",
       " datetime.date(2021, 4, 16),\n",
       " datetime.date(2021, 2, 11),\n",
       " datetime.date(2024, 4, 10),\n",
       " datetime.date(2023, 9, 28),\n",
       " datetime.date(2019, 1, 1),\n",
       " datetime.date(2020, 1, 16),\n",
       " datetime.date(2020, 2, 27),\n",
       " datetime.date(2021, 1, 20),\n",
       " datetime.date(2021, 4, 29),\n",
       " datetime.date(2023, 9, 14),\n",
       " datetime.date(2023, 6, 26),\n",
       " datetime.date(2020, 5, 26),\n",
       " datetime.date(2022, 4, 22),\n",
       " datetime.date(2021, 3, 25),\n",
       " datetime.date(2021, 5, 26),\n",
       " datetime.date(2020, 1, 8),\n",
       " datetime.date(2018, 3, 7),\n",
       " datetime.date(2024, 6, 28),\n",
       " datetime.date(2024, 1, 29),\n",
       " datetime.date(2025, 1, 10),\n",
       " datetime.date(2018, 1, 25),\n",
       " datetime.date(2023, 7, 17),\n",
       " datetime.date(2020, 9, 8),\n",
       " datetime.date(2021, 7, 16),\n",
       " datetime.date(2022, 9, 22),\n",
       " datetime.date(2020, 1, 10),\n",
       " datetime.date(2024, 5, 29),\n",
       " datetime.date(2019, 9, 3),\n",
       " datetime.date(2019, 2, 27),\n",
       " datetime.date(2019, 11, 27),\n",
       " datetime.date(2021, 1, 19),\n",
       " datetime.date(2023, 9, 21),\n",
       " datetime.date(2019, 10, 15),\n",
       " datetime.date(2019, 9, 19),\n",
       " datetime.date(2022, 11, 17),\n",
       " datetime.date(2018, 12, 4),\n",
       " datetime.date(2024, 10, 23),\n",
       " datetime.date(2024, 9, 2),\n",
       " datetime.date(2021, 1, 22),\n",
       " ...}"
      ]
     },
     "execution_count": 7,
     "metadata": {},
     "output_type": "execute_result"
    }
   ],
   "source": [
    "bnf_1min[\"datetime\"] = pd.to_datetime(bnf_1min[\"datetime\"])\n",
    "list_of_traded_dates = set(bnf_1min[\"datetime\"].dt.date)\n",
    "list_of_traded_dates"
   ]
  },
  {
   "cell_type": "code",
   "execution_count": 8,
   "id": "ddee9e7c-7107-4cee-9f13-3be127234bca",
   "metadata": {
    "execution": {
     "iopub.execute_input": "2025-02-13T07:06:52.707312Z",
     "iopub.status.busy": "2025-02-13T07:06:52.706626Z",
     "iopub.status.idle": "2025-02-13T07:06:52.714444Z",
     "shell.execute_reply": "2025-02-13T07:06:52.712937Z",
     "shell.execute_reply.started": "2025-02-13T07:06:52.707274Z"
    }
   },
   "outputs": [],
   "source": [
    "def rename_ohlc_columns(df: pl.DataFrame) -> pl.DataFrame:\n",
    "\n",
    "    column_mapping = {\"o\": \"open\", \"h\": \"high\", \"l\": \"low\", \"c\": \"close\", \"v\": \"volume\"}\n",
    "    df = df.rename(column_mapping)\n",
    "\n",
    "    return df"
   ]
  },
  {
   "cell_type": "code",
   "execution_count": 9,
   "id": "86257f64-60e1-45b4-9ab1-064efddc3299",
   "metadata": {
    "execution": {
     "iopub.execute_input": "2025-02-13T07:06:56.016221Z",
     "iopub.status.busy": "2025-02-13T07:06:56.015654Z",
     "iopub.status.idle": "2025-02-13T07:06:56.021783Z",
     "shell.execute_reply": "2025-02-13T07:06:56.020372Z",
     "shell.execute_reply.started": "2025-02-13T07:06:56.016198Z"
    }
   },
   "outputs": [],
   "source": [
    "PORTFOLIO_VALUE = 10_00_000 # 10 Lacs\n",
    "# RPT_PCT = 0.01 # 1% RPT\n",
    "SLIPPAGE_ = 0.0001\n",
    "LEVERAGE_ = 5"
   ]
  },
  {
   "cell_type": "code",
   "execution_count": 32,
   "id": "f95acac8-cac8-489f-99c5-92964888a6da",
   "metadata": {
    "execution": {
     "iopub.execute_input": "2025-02-13T09:06:10.176072Z",
     "iopub.status.busy": "2025-02-13T09:06:10.175367Z",
     "iopub.status.idle": "2025-02-13T09:06:10.187355Z",
     "shell.execute_reply": "2025-02-13T09:06:10.185687Z",
     "shell.execute_reply.started": "2025-02-13T09:06:10.176039Z"
    }
   },
   "outputs": [],
   "source": [
    "import pandas as pd\n",
    "\n",
    "def rsi(series, length):\n",
    "    delta = series.diff()\n",
    "    \n",
    "    gain = (delta.where(delta > 0, 0)).ewm(alpha=1/length, adjust=False).mean()\n",
    "    loss = (-delta.where(delta < 0, 0)).ewm(alpha=1/length, adjust=False).mean()\n",
    "\n",
    "    rs = gain / loss\n",
    "    return 100 - (100 / (1 + rs))\n",
    "\n",
    "def calculate_signals(df, ema_length, rsi_length, rsi_ma_length):\n",
    "    # Calculate X-day High/Low and 20 EMA\n",
    "    df['EMA_20'] = df['close'].ewm(span=ema_length, adjust=False).mean()\n",
    "    \n",
    "    # Calculate RSI using TradingView's method\n",
    "    df['RSI'] = rsi(df['close'], rsi_length)\n",
    "    \n",
    "    # Calculate RSI Moving Average\n",
    "    df['RSI_MA'] = df['RSI'].rolling(rsi_ma_length).mean()\n",
    "\n",
    "    # Sell signal condition\n",
    "    df['Sell_Signal'] = df['RSI'] < df['RSI_MA']\n",
    "    \n",
    "    return df\n"
   ]
  },
  {
   "cell_type": "code",
   "execution_count": 35,
   "id": "1543e71c-f847-42b7-8b75-e8a7bbbc0282",
   "metadata": {
    "execution": {
     "iopub.execute_input": "2025-02-13T09:06:53.572880Z",
     "iopub.status.busy": "2025-02-13T09:06:53.571848Z",
     "iopub.status.idle": "2025-02-13T09:06:53.589901Z",
     "shell.execute_reply": "2025-02-13T09:06:53.588464Z",
     "shell.execute_reply.started": "2025-02-13T09:06:53.572853Z"
    }
   },
   "outputs": [],
   "source": [
    "def backtest(df, prev_n_candles):\n",
    "\n",
    "    df.reset_index(drop=True, inplace=True)\n",
    "    # Variables for short trades\n",
    "    short_position = 0  # 0 = no position, 1 = short\n",
    "    short_entry_price = 0\n",
    "    short_entry_date = None\n",
    "    short_trades = []\n",
    "    tradebook = pd.DataFrame()\n",
    "    tradebook_short = pd.DataFrame()\n",
    "    # tradebook_short = pd.DataFrame()\n",
    "    short_trailing_stop = None\n",
    "    # Variables for short trades\n",
    "    # short_position = 0  # 0 = no position, -1 = short\n",
    "    # short_entry_price = 0\n",
    "    # short_entry_date = None\n",
    "    # short_trades = []\n",
    "    # short_trailing_stop = None\n",
    "\n",
    "    can_add_short = False\n",
    "    # can_add_short = False\n",
    "\n",
    "    trade_number = 0\n",
    "    lock_initial_sl = False\n",
    "    first_sl = 0\n",
    "\n",
    "    lock_initial_sl_2 = False\n",
    "    first_sl_2 = 0\n",
    "\n",
    "    pyramid_number = 0\n",
    "    can_pyramid = True\n",
    "    pyramid_high = 0\n",
    "\n",
    "    for i in range(1, len(df)):\n",
    "        # Entry signals for short trades\n",
    "        short_trailing_stop = df.loc[i, 'EMA_20']\n",
    "        # short_trailing_stop = df.loc[i, 'EMA_20']\n",
    "        \n",
    "        if df.loc[i-1, 'Sell_Signal'] and short_position == 0:\n",
    "            #Signal is True on previous candle\n",
    "            if df.loc[i, 'low'] < df.loc[i-1, 'low']:\n",
    "                if df.loc[i, 'high'] < df.loc[i-1, 'low']:\n",
    "                    # Gap Open Below Entry\n",
    "                    continue\n",
    "                else:\n",
    "                    short_position = 1\n",
    "                    short_entry_price = df.loc[i-1, 'low']\n",
    "                    short_entry_date = df.loc[i, 'datetime']\n",
    "                    short_trailing_stop = df.loc[i, 'EMA_20']\n",
    "                    short_initial_sl = df.loc[i-prev_n_candles:i-1, 'high'].max()\n",
    "        \n",
    "                    tradebook_short = pd.concat([tradebook_short, pd.DataFrame([{\n",
    "                        'Trade No.': trade_number,\n",
    "                        'Entry_Date': df.loc[i, 'datetime'],\n",
    "                        'Exit_Date': None,\n",
    "                        'Trade_Type': 'short',\n",
    "                        'Entry_Price': df.loc[i-1, 'low'],\n",
    "                        # 'Previous MA Value': df.loc[i-1, 'X_Low'],\n",
    "                        'Initial SL': short_initial_sl,\n",
    "                        'Exit_Price': None,\n",
    "                        # 'Profit/Loss': None  # Filled when exited\n",
    "                    }])], ignore_index=True)\n",
    "        \n",
    "                    if not lock_initial_sl:\n",
    "                        first_sl = short_initial_sl\n",
    "                        lock_initial_sl = True\n",
    "        \n",
    "                    can_pyramid = True\n",
    "                    pyramid_number = 0\n",
    "                    pyramid_high = 0\n",
    "                    continue\n",
    "                \n",
    "        # Exit or add to short position\n",
    "        if short_position == 1:\n",
    "\n",
    "            \n",
    "            # y_days_low = df['low'].rolling(y_days).min().iloc[i-1]\n",
    "            # y_days_high = df['high'].rolling(y_days).max().iloc[i-1]\n",
    "            \n",
    "            # print(df.iloc[i]['datetime'], y_days_high, y_days_low)\n",
    "            \n",
    "            if df.loc[i, 'high'] >= short_initial_sl:\n",
    "                if df.loc[i, 'open'] >= short_initial_sl:\n",
    "                    tradebook_short.loc[\n",
    "                        (tradebook_short['Trade No.'] == trade_number),\n",
    "                        ['Exit_Date', 'Exit_Price', 'Exit Remark']\n",
    "                    ] = [df.loc[i, 'datetime'] , df.loc[i, 'open'], 'Gap']\n",
    "                    short_position = 0\n",
    "                    can_add_short = False\n",
    "                    trade_number += 1\n",
    "                    lock_initial_sl = False\n",
    "                    first_sl = 0\n",
    "                    can_pyramid = False\n",
    "                    pyramid_number = 0\n",
    "                    pyramid_high = 0\n",
    "                    # if df.loc[i, 'high'] >= long_initial_sl:\n",
    "                    #     tradebook_long.loc[\n",
    "                    #         (tradebook_long['Trade No.'] == trade_number),\n",
    "                    #         ['Exit_Date', 'Exit_Price', 'Exit Remark']\n",
    "                    #     ] = [df.loc[i, 'datetime'] , long_initial_sl, 'Initial SL Hit']\n",
    "                    #     long_position = 0\n",
    "                    #     can_add_long = False\n",
    "                    #     trade_number += 1\n",
    "                    #     lock_initial_sl = False\n",
    "                    #     first_sl = 0\n",
    "                    #     can_pyramid = False\n",
    "                    #     pyramid_number = 0\n",
    "                    #     pyramid_high = 0\n",
    "                    # elif df.loc[i, 'high'] < long_initial_sl:\n",
    "                    #     tradebook_long.loc[\n",
    "                    #         (tradebook_long['Trade No.'] == trade_number),\n",
    "                    #         ['Exit_Date', 'Exit_Price', 'Exit Remark']\n",
    "                    #     ] = [df.loc[i, 'datetime'] , df.loc[i, 'close'], 'Gap Open-Close Below ISL']\n",
    "                    #     long_position = 0\n",
    "                    #     can_add_long = False\n",
    "                    #     trade_number += 1\n",
    "                    #     lock_initial_sl = False\n",
    "                    #     first_sl = 0\n",
    "                    #     can_pyramid = False\n",
    "                    #     pyramid_number = 0\n",
    "                    #     pyramid_high = 0\n",
    "                else:\n",
    "                    tradebook_short.loc[\n",
    "                        (tradebook_short['Trade No.'] == trade_number),\n",
    "                        ['Exit_Date', 'Exit_Price', 'Exit Remark']\n",
    "                    ] = [df.loc[i, 'datetime'] , short_initial_sl, 'Initial SL Hit']\n",
    "                    short_position = 0\n",
    "                    can_add_short = False\n",
    "                    trade_number += 1\n",
    "                    lock_initial_sl = False\n",
    "                    first_sl = 0\n",
    "                    can_pyramid = False\n",
    "                    pyramid_number = 0\n",
    "                    pyramid_high = 0\n",
    "            \n",
    "            elif df.loc[i, 'close'] >= short_trailing_stop:\n",
    "                tradebook_short.loc[\n",
    "                    (tradebook_short['Trade No.'] == trade_number),\n",
    "                    ['Exit_Date', 'Exit_Price', 'Exit Remark']\n",
    "                ] = [df.loc[i, 'datetime'] , df.loc[i, 'close'] , 'Trailing SL Hit']\n",
    "                short_position = 0\n",
    "                can_add_short = False\n",
    "                trade_number += 1\n",
    "                lock_initial_sl = False\n",
    "                first_sl = 0\n",
    "                can_pyramid = False\n",
    "                pyramid_number = 0\n",
    "                pyramid_high = 0\n",
    "\n",
    "            elif df.loc[i, 'RSI'] > df.loc[i, 'RSI_MA']:\n",
    "                tradebook_short.loc[\n",
    "                    (tradebook_short['Trade No.'] == trade_number),\n",
    "                    ['Exit_Date', 'Exit_Price', 'Exit Remark']\n",
    "                ] = [df.loc[i, 'datetime'] , df.loc[i, 'close'] , 'RSI Upmove']\n",
    "                short_position = 0\n",
    "                can_add_short = False\n",
    "                trade_number += 1\n",
    "                lock_initial_sl = False\n",
    "                first_sl = 0\n",
    "                can_pyramid = False\n",
    "                pyramid_number = 0\n",
    "    \n",
    "    tradebook = pd.concat([tradebook_short, tradebook], ignore_index=True)\n",
    "    return tradebook\n"
   ]
  },
  {
   "cell_type": "code",
   "execution_count": 45,
   "id": "e5289d0e-6e3a-4be9-a1d4-62e2cf17df70",
   "metadata": {
    "execution": {
     "iopub.execute_input": "2025-02-13T09:48:01.528768Z",
     "iopub.status.busy": "2025-02-13T09:48:01.528043Z",
     "iopub.status.idle": "2025-02-13T09:48:08.342675Z",
     "shell.execute_reply": "2025-02-13T09:48:08.341473Z",
     "shell.execute_reply.started": "2025-02-13T09:48:01.528742Z"
    }
   },
   "outputs": [
    {
     "name": "stderr",
     "output_type": "stream",
     "text": [
      "/tmp/ipykernel_33520/419236688.py:151: FutureWarning: Setting an item of incompatible dtype is deprecated and will raise an error in a future version of pandas. Value 'RSI Upmove' has dtype incompatible with float64, please explicitly cast to a compatible dtype first.\n",
      "  tradebook_short.loc[\n"
     ]
    }
   ],
   "source": [
    "ema_length = 20\n",
    "RPT = 2\n",
    "n_candle_sl = 5\n",
    "rsi_length = 12\n",
    "rsi_ma_length = 9\n",
    "df = bnf_1min\n",
    "df = calculate_signals(df, ema_length, rsi_length, rsi_ma_length)\n",
    "# print(df.tail().to_string())\n",
    "# df1 = df[df['Buy_Signal']]\n",
    "# print(df1.to_string())\n",
    "tb = backtest(df, n_candle_sl)\n",
    "tb = tb.sort_values(by='Entry_Date')\n",
    "# variation = f'EMA: {ema_length}, X: {x_days}, Y: {y_days}, PCT: {pct}%, RPT: {RPT}%'"
   ]
  },
  {
   "cell_type": "code",
   "execution_count": 46,
   "id": "7e3ae78c-fcc3-494f-8b88-d849a977d65d",
   "metadata": {
    "execution": {
     "iopub.execute_input": "2025-02-13T09:48:08.345343Z",
     "iopub.status.busy": "2025-02-13T09:48:08.344863Z",
     "iopub.status.idle": "2025-02-13T09:48:08.363966Z",
     "shell.execute_reply": "2025-02-13T09:48:08.362857Z",
     "shell.execute_reply.started": "2025-02-13T09:48:08.345315Z"
    }
   },
   "outputs": [],
   "source": [
    "import numpy as np\n",
    "portfolio = 1000000\n",
    "tb['PnL'] = np.where(\n",
    "    tb['Trade_Type'].isin(['long']),  # For Long and Add_Long\n",
    "    tb['Exit_Price'] - tb['Entry_Price'],\n",
    "    np.where(\n",
    "        tb['Trade_Type'].isin(['short']),  # For Short and Add_Short\n",
    "        tb['Entry_Price'] - tb['Exit_Price'],\n",
    "        0  # Default case if Trade_Type is something unexpected\n",
    "    )\n",
    ")\n",
    "\n",
    "tb['Slippage'] = SLIPPAGE_ * (tb['Entry_Price'] + tb['Exit_Price'])\n",
    "tb['PnL w cs'] = tb['PnL'] - tb['Slippage']\n",
    "tb['Qty'] = abs(RPT / 100 * portfolio / (tb['Entry_Price'] - tb['Initial SL']))\n",
    "# tb['Qty'] = portfolio * 5 / tb['Entry_Price']\n",
    "tb['Profit_Loss INR'] = tb['Qty'] * tb['PnL w cs']\n",
    "tb['ROI%'] = tb['Profit_Loss INR'] * 100 / portfolio\n",
    "tb['Trade Year'] = tb['Entry_Date'].dt.year"
   ]
  },
  {
   "cell_type": "code",
   "execution_count": 47,
   "id": "1ae21dcd-a8a2-4fd0-9523-772ac61d3a33",
   "metadata": {
    "execution": {
     "iopub.execute_input": "2025-02-13T09:48:08.365780Z",
     "iopub.status.busy": "2025-02-13T09:48:08.365249Z",
     "iopub.status.idle": "2025-02-13T09:48:08.377157Z",
     "shell.execute_reply": "2025-02-13T09:48:08.375716Z",
     "shell.execute_reply.started": "2025-02-13T09:48:08.365751Z"
    }
   },
   "outputs": [],
   "source": [
    "tb = tb.reset_index()"
   ]
  },
  {
   "cell_type": "code",
   "execution_count": 48,
   "id": "1e0591fa-3cc2-46b6-bc68-a0fa04733b9e",
   "metadata": {
    "execution": {
     "iopub.execute_input": "2025-02-13T09:48:08.380470Z",
     "iopub.status.busy": "2025-02-13T09:48:08.379296Z",
     "iopub.status.idle": "2025-02-13T09:48:08.400364Z",
     "shell.execute_reply": "2025-02-13T09:48:08.399022Z",
     "shell.execute_reply.started": "2025-02-13T09:48:08.380411Z"
    }
   },
   "outputs": [
    {
     "data": {
      "text/html": [
       "<div>\n",
       "<style scoped>\n",
       "    .dataframe tbody tr th:only-of-type {\n",
       "        vertical-align: middle;\n",
       "    }\n",
       "\n",
       "    .dataframe tbody tr th {\n",
       "        vertical-align: top;\n",
       "    }\n",
       "\n",
       "    .dataframe thead th {\n",
       "        text-align: right;\n",
       "    }\n",
       "</style>\n",
       "<table border=\"1\" class=\"dataframe\">\n",
       "  <thead>\n",
       "    <tr style=\"text-align: right;\">\n",
       "      <th></th>\n",
       "      <th>index</th>\n",
       "      <th>Trade No.</th>\n",
       "      <th>Entry_Date</th>\n",
       "      <th>Exit_Date</th>\n",
       "      <th>Trade_Type</th>\n",
       "      <th>Entry_Price</th>\n",
       "      <th>Initial SL</th>\n",
       "      <th>Exit_Price</th>\n",
       "      <th>Exit Remark</th>\n",
       "      <th>PnL</th>\n",
       "      <th>Slippage</th>\n",
       "      <th>PnL w cs</th>\n",
       "      <th>Qty</th>\n",
       "      <th>Profit_Loss INR</th>\n",
       "      <th>ROI%</th>\n",
       "      <th>Trade Year</th>\n",
       "    </tr>\n",
       "  </thead>\n",
       "  <tbody>\n",
       "    <tr>\n",
       "      <th>2384</th>\n",
       "      <td>2384</td>\n",
       "      <td>2384</td>\n",
       "      <td>2025-01-03 09:45:00+05:30</td>\n",
       "      <td>2025-01-03 11:15:00+05:30</td>\n",
       "      <td>short</td>\n",
       "      <td>51361.8500</td>\n",
       "      <td>51672.7500</td>\n",
       "      <td>51322.2500</td>\n",
       "      <td>Trailing SL Hit</td>\n",
       "      <td>39.6000</td>\n",
       "      <td>10.2684</td>\n",
       "      <td>29.3316</td>\n",
       "      <td>64.3294</td>\n",
       "      <td>1886.8826</td>\n",
       "      <td>0.1887</td>\n",
       "      <td>2025</td>\n",
       "    </tr>\n",
       "    <tr>\n",
       "      <th>2385</th>\n",
       "      <td>2385</td>\n",
       "      <td>2385</td>\n",
       "      <td>2025-01-03 12:15:00+05:30</td>\n",
       "      <td>2025-01-06 15:15:00+05:30</td>\n",
       "      <td>short</td>\n",
       "      <td>51243.5000</td>\n",
       "      <td>51439.1500</td>\n",
       "      <td>49960.2000</td>\n",
       "      <td>RSI Upmove</td>\n",
       "      <td>1283.3000</td>\n",
       "      <td>10.1204</td>\n",
       "      <td>1273.1796</td>\n",
       "      <td>102.2234</td>\n",
       "      <td>130148.6972</td>\n",
       "      <td>13.0149</td>\n",
       "      <td>2025</td>\n",
       "    </tr>\n",
       "    <tr>\n",
       "      <th>2386</th>\n",
       "      <td>2386</td>\n",
       "      <td>2386</td>\n",
       "      <td>2025-01-07 14:15:00+05:30</td>\n",
       "      <td>2025-01-08 13:15:00+05:30</td>\n",
       "      <td>short</td>\n",
       "      <td>50224.1000</td>\n",
       "      <td>50447.6000</td>\n",
       "      <td>49681.1500</td>\n",
       "      <td>RSI Upmove</td>\n",
       "      <td>542.9500</td>\n",
       "      <td>9.9905</td>\n",
       "      <td>532.9595</td>\n",
       "      <td>89.4855</td>\n",
       "      <td>47692.1230</td>\n",
       "      <td>4.7692</td>\n",
       "      <td>2025</td>\n",
       "    </tr>\n",
       "    <tr>\n",
       "      <th>2387</th>\n",
       "      <td>2387</td>\n",
       "      <td>2387</td>\n",
       "      <td>2025-01-09 10:45:00+05:30</td>\n",
       "      <td>2025-01-09 13:15:00+05:30</td>\n",
       "      <td>short</td>\n",
       "      <td>49569.8000</td>\n",
       "      <td>49927.7000</td>\n",
       "      <td>49378.7000</td>\n",
       "      <td>RSI Upmove</td>\n",
       "      <td>191.1000</td>\n",
       "      <td>9.8948</td>\n",
       "      <td>181.2052</td>\n",
       "      <td>55.8815</td>\n",
       "      <td>10126.0212</td>\n",
       "      <td>1.0126</td>\n",
       "      <td>2025</td>\n",
       "    </tr>\n",
       "    <tr>\n",
       "      <th>2388</th>\n",
       "      <td>2388</td>\n",
       "      <td>2388</td>\n",
       "      <td>2025-01-10 09:45:00+05:30</td>\n",
       "      <td>2025-01-10 10:45:00+05:30</td>\n",
       "      <td>short</td>\n",
       "      <td>49064.8000</td>\n",
       "      <td>49557.3500</td>\n",
       "      <td>49273.6500</td>\n",
       "      <td>RSI Upmove</td>\n",
       "      <td>-208.8500</td>\n",
       "      <td>9.8338</td>\n",
       "      <td>-218.6838</td>\n",
       "      <td>40.6050</td>\n",
       "      <td>-8879.6607</td>\n",
       "      <td>-0.8880</td>\n",
       "      <td>2025</td>\n",
       "    </tr>\n",
       "    <tr>\n",
       "      <th>2389</th>\n",
       "      <td>2389</td>\n",
       "      <td>2389</td>\n",
       "      <td>2025-01-10 11:45:00+05:30</td>\n",
       "      <td>2025-01-10 15:15:00+05:30</td>\n",
       "      <td>short</td>\n",
       "      <td>49061.5500</td>\n",
       "      <td>49483.1500</td>\n",
       "      <td>48779.8000</td>\n",
       "      <td>RSI Upmove</td>\n",
       "      <td>281.7500</td>\n",
       "      <td>9.7841</td>\n",
       "      <td>271.9659</td>\n",
       "      <td>47.4383</td>\n",
       "      <td>12901.6065</td>\n",
       "      <td>1.2902</td>\n",
       "      <td>2025</td>\n",
       "    </tr>\n",
       "    <tr>\n",
       "      <th>2390</th>\n",
       "      <td>2390</td>\n",
       "      <td>2390</td>\n",
       "      <td>2025-01-13 09:45:00+05:30</td>\n",
       "      <td>2025-01-13 10:15:00+05:30</td>\n",
       "      <td>short</td>\n",
       "      <td>48178.3500</td>\n",
       "      <td>48980.8000</td>\n",
       "      <td>48477.2500</td>\n",
       "      <td>RSI Upmove</td>\n",
       "      <td>-298.9000</td>\n",
       "      <td>9.6656</td>\n",
       "      <td>-308.5656</td>\n",
       "      <td>24.9237</td>\n",
       "      <td>-7690.5866</td>\n",
       "      <td>-0.7691</td>\n",
       "      <td>2025</td>\n",
       "    </tr>\n",
       "    <tr>\n",
       "      <th>2391</th>\n",
       "      <td>2391</td>\n",
       "      <td>2391</td>\n",
       "      <td>2025-01-13 12:15:00+05:30</td>\n",
       "      <td>2025-01-13 15:15:00+05:30</td>\n",
       "      <td>short</td>\n",
       "      <td>48251.4500</td>\n",
       "      <td>48606.3500</td>\n",
       "      <td>48047.3000</td>\n",
       "      <td>RSI Upmove</td>\n",
       "      <td>204.1500</td>\n",
       "      <td>9.6299</td>\n",
       "      <td>194.5201</td>\n",
       "      <td>56.3539</td>\n",
       "      <td>10961.9682</td>\n",
       "      <td>1.0962</td>\n",
       "      <td>2025</td>\n",
       "    </tr>\n",
       "    <tr>\n",
       "      <th>2392</th>\n",
       "      <td>2392</td>\n",
       "      <td>2392</td>\n",
       "      <td>2025-01-15 12:15:00+05:30</td>\n",
       "      <td>2025-01-15 12:45:00+05:30</td>\n",
       "      <td>short</td>\n",
       "      <td>48875.1000</td>\n",
       "      <td>49083.6500</td>\n",
       "      <td>48798.2000</td>\n",
       "      <td>Trailing SL Hit</td>\n",
       "      <td>76.9000</td>\n",
       "      <td>9.7673</td>\n",
       "      <td>67.1327</td>\n",
       "      <td>95.9003</td>\n",
       "      <td>6438.0408</td>\n",
       "      <td>0.6438</td>\n",
       "      <td>2025</td>\n",
       "    </tr>\n",
       "    <tr>\n",
       "      <th>2393</th>\n",
       "      <td>2393</td>\n",
       "      <td>2393</td>\n",
       "      <td>2025-01-15 13:15:00+05:30</td>\n",
       "      <td>2025-01-15 14:15:00+05:30</td>\n",
       "      <td>short</td>\n",
       "      <td>48792.0000</td>\n",
       "      <td>49083.6500</td>\n",
       "      <td>48767.6500</td>\n",
       "      <td>Trailing SL Hit</td>\n",
       "      <td>24.3500</td>\n",
       "      <td>9.7560</td>\n",
       "      <td>14.5940</td>\n",
       "      <td>68.5753</td>\n",
       "      <td>1000.7910</td>\n",
       "      <td>0.1001</td>\n",
       "      <td>2025</td>\n",
       "    </tr>\n",
       "    <tr>\n",
       "      <th>2394</th>\n",
       "      <td>2394</td>\n",
       "      <td>2394</td>\n",
       "      <td>2025-01-15 15:15:00+05:30</td>\n",
       "      <td>2025-01-16 09:15:00+05:30</td>\n",
       "      <td>short</td>\n",
       "      <td>48714.9000</td>\n",
       "      <td>48925.4500</td>\n",
       "      <td>49077.7000</td>\n",
       "      <td>Gap</td>\n",
       "      <td>-362.8000</td>\n",
       "      <td>9.7793</td>\n",
       "      <td>-372.5793</td>\n",
       "      <td>94.9893</td>\n",
       "      <td>-35391.0482</td>\n",
       "      <td>-3.5391</td>\n",
       "      <td>2025</td>\n",
       "    </tr>\n",
       "    <tr>\n",
       "      <th>2395</th>\n",
       "      <td>2395</td>\n",
       "      <td>2395</td>\n",
       "      <td>2025-01-16 13:45:00+05:30</td>\n",
       "      <td>2025-01-16 14:15:00+05:30</td>\n",
       "      <td>short</td>\n",
       "      <td>49354.7000</td>\n",
       "      <td>49459.0000</td>\n",
       "      <td>49186.6000</td>\n",
       "      <td>Trailing SL Hit</td>\n",
       "      <td>168.1000</td>\n",
       "      <td>9.8541</td>\n",
       "      <td>158.2459</td>\n",
       "      <td>191.7546</td>\n",
       "      <td>30344.3663</td>\n",
       "      <td>3.0344</td>\n",
       "      <td>2025</td>\n",
       "    </tr>\n",
       "    <tr>\n",
       "      <th>2396</th>\n",
       "      <td>2396</td>\n",
       "      <td>2396</td>\n",
       "      <td>2025-01-16 14:45:00+05:30</td>\n",
       "      <td>2025-01-16 15:15:00+05:30</td>\n",
       "      <td>short</td>\n",
       "      <td>49136.5000</td>\n",
       "      <td>49459.0000</td>\n",
       "      <td>49386.4000</td>\n",
       "      <td>Trailing SL Hit</td>\n",
       "      <td>-249.9000</td>\n",
       "      <td>9.8523</td>\n",
       "      <td>-259.7523</td>\n",
       "      <td>62.0155</td>\n",
       "      <td>-16108.6691</td>\n",
       "      <td>-1.6109</td>\n",
       "      <td>2025</td>\n",
       "    </tr>\n",
       "    <tr>\n",
       "      <th>2397</th>\n",
       "      <td>2397</td>\n",
       "      <td>2397</td>\n",
       "      <td>2025-01-17 09:45:00+05:30</td>\n",
       "      <td>2025-01-17 13:45:00+05:30</td>\n",
       "      <td>short</td>\n",
       "      <td>48593.7500</td>\n",
       "      <td>49397.7500</td>\n",
       "      <td>48471.0500</td>\n",
       "      <td>RSI Upmove</td>\n",
       "      <td>122.7000</td>\n",
       "      <td>9.7065</td>\n",
       "      <td>112.9935</td>\n",
       "      <td>24.8756</td>\n",
       "      <td>2810.7841</td>\n",
       "      <td>0.2811</td>\n",
       "      <td>2025</td>\n",
       "    </tr>\n",
       "    <tr>\n",
       "      <th>2398</th>\n",
       "      <td>2398</td>\n",
       "      <td>2398</td>\n",
       "      <td>2025-01-20 14:45:00+05:30</td>\n",
       "      <td>2025-01-20 15:15:00+05:30</td>\n",
       "      <td>short</td>\n",
       "      <td>49363.9000</td>\n",
       "      <td>49650.6000</td>\n",
       "      <td>49334.5500</td>\n",
       "      <td>Trailing SL Hit</td>\n",
       "      <td>29.3500</td>\n",
       "      <td>9.8698</td>\n",
       "      <td>19.4802</td>\n",
       "      <td>69.7593</td>\n",
       "      <td>1358.9226</td>\n",
       "      <td>0.1359</td>\n",
       "      <td>2025</td>\n",
       "    </tr>\n",
       "    <tr>\n",
       "      <th>2399</th>\n",
       "      <td>2399</td>\n",
       "      <td>2399</td>\n",
       "      <td>2025-01-21 09:15:00+05:30</td>\n",
       "      <td>2025-01-21 13:15:00+05:30</td>\n",
       "      <td>short</td>\n",
       "      <td>49295.9000</td>\n",
       "      <td>49650.6000</td>\n",
       "      <td>48858.3000</td>\n",
       "      <td>RSI Upmove</td>\n",
       "      <td>437.6000</td>\n",
       "      <td>9.8154</td>\n",
       "      <td>427.7846</td>\n",
       "      <td>56.3857</td>\n",
       "      <td>24120.9236</td>\n",
       "      <td>2.4121</td>\n",
       "      <td>2025</td>\n",
       "    </tr>\n",
       "    <tr>\n",
       "      <th>2400</th>\n",
       "      <td>2400</td>\n",
       "      <td>2400</td>\n",
       "      <td>2025-01-21 14:15:00+05:30</td>\n",
       "      <td>2025-01-22 09:45:00+05:30</td>\n",
       "      <td>short</td>\n",
       "      <td>48699.2000</td>\n",
       "      <td>49280.7000</td>\n",
       "      <td>48675.1500</td>\n",
       "      <td>RSI Upmove</td>\n",
       "      <td>24.0500</td>\n",
       "      <td>9.7374</td>\n",
       "      <td>14.3126</td>\n",
       "      <td>34.3938</td>\n",
       "      <td>492.2636</td>\n",
       "      <td>0.0492</td>\n",
       "      <td>2025</td>\n",
       "    </tr>\n",
       "    <tr>\n",
       "      <th>2401</th>\n",
       "      <td>2401</td>\n",
       "      <td>2401</td>\n",
       "      <td>2025-01-22 10:45:00+05:30</td>\n",
       "      <td>2025-01-22 13:45:00+05:30</td>\n",
       "      <td>short</td>\n",
       "      <td>48495.4000</td>\n",
       "      <td>48741.7500</td>\n",
       "      <td>48385.2000</td>\n",
       "      <td>RSI Upmove</td>\n",
       "      <td>110.2000</td>\n",
       "      <td>9.6881</td>\n",
       "      <td>100.5119</td>\n",
       "      <td>81.1853</td>\n",
       "      <td>8160.0926</td>\n",
       "      <td>0.8160</td>\n",
       "      <td>2025</td>\n",
       "    </tr>\n",
       "    <tr>\n",
       "      <th>2402</th>\n",
       "      <td>2402</td>\n",
       "      <td>2402</td>\n",
       "      <td>2025-01-23 11:45:00+05:30</td>\n",
       "      <td>2025-01-23 12:15:00+05:30</td>\n",
       "      <td>short</td>\n",
       "      <td>48598.4500</td>\n",
       "      <td>48892.7000</td>\n",
       "      <td>48687.3000</td>\n",
       "      <td>Trailing SL Hit</td>\n",
       "      <td>-88.8500</td>\n",
       "      <td>9.7286</td>\n",
       "      <td>-98.5786</td>\n",
       "      <td>67.9694</td>\n",
       "      <td>-6700.3280</td>\n",
       "      <td>-0.6700</td>\n",
       "      <td>2025</td>\n",
       "    </tr>\n",
       "    <tr>\n",
       "      <th>2403</th>\n",
       "      <td>2403</td>\n",
       "      <td>2403</td>\n",
       "      <td>2025-01-23 14:15:00+05:30</td>\n",
       "      <td>2025-01-24 10:15:00+05:30</td>\n",
       "      <td>short</td>\n",
       "      <td>48618.9000</td>\n",
       "      <td>48802.4000</td>\n",
       "      <td>48587.4000</td>\n",
       "      <td>RSI Upmove</td>\n",
       "      <td>31.5000</td>\n",
       "      <td>9.7206</td>\n",
       "      <td>21.7794</td>\n",
       "      <td>108.9918</td>\n",
       "      <td>2373.7733</td>\n",
       "      <td>0.2374</td>\n",
       "      <td>2025</td>\n",
       "    </tr>\n",
       "  </tbody>\n",
       "</table>\n",
       "</div>"
      ],
      "text/plain": [
       "      index  Trade No.                Entry_Date                  Exit_Date  \\\n",
       "2384   2384       2384 2025-01-03 09:45:00+05:30  2025-01-03 11:15:00+05:30   \n",
       "2385   2385       2385 2025-01-03 12:15:00+05:30  2025-01-06 15:15:00+05:30   \n",
       "2386   2386       2386 2025-01-07 14:15:00+05:30  2025-01-08 13:15:00+05:30   \n",
       "2387   2387       2387 2025-01-09 10:45:00+05:30  2025-01-09 13:15:00+05:30   \n",
       "2388   2388       2388 2025-01-10 09:45:00+05:30  2025-01-10 10:45:00+05:30   \n",
       "2389   2389       2389 2025-01-10 11:45:00+05:30  2025-01-10 15:15:00+05:30   \n",
       "2390   2390       2390 2025-01-13 09:45:00+05:30  2025-01-13 10:15:00+05:30   \n",
       "2391   2391       2391 2025-01-13 12:15:00+05:30  2025-01-13 15:15:00+05:30   \n",
       "2392   2392       2392 2025-01-15 12:15:00+05:30  2025-01-15 12:45:00+05:30   \n",
       "2393   2393       2393 2025-01-15 13:15:00+05:30  2025-01-15 14:15:00+05:30   \n",
       "2394   2394       2394 2025-01-15 15:15:00+05:30  2025-01-16 09:15:00+05:30   \n",
       "2395   2395       2395 2025-01-16 13:45:00+05:30  2025-01-16 14:15:00+05:30   \n",
       "2396   2396       2396 2025-01-16 14:45:00+05:30  2025-01-16 15:15:00+05:30   \n",
       "2397   2397       2397 2025-01-17 09:45:00+05:30  2025-01-17 13:45:00+05:30   \n",
       "2398   2398       2398 2025-01-20 14:45:00+05:30  2025-01-20 15:15:00+05:30   \n",
       "2399   2399       2399 2025-01-21 09:15:00+05:30  2025-01-21 13:15:00+05:30   \n",
       "2400   2400       2400 2025-01-21 14:15:00+05:30  2025-01-22 09:45:00+05:30   \n",
       "2401   2401       2401 2025-01-22 10:45:00+05:30  2025-01-22 13:45:00+05:30   \n",
       "2402   2402       2402 2025-01-23 11:45:00+05:30  2025-01-23 12:15:00+05:30   \n",
       "2403   2403       2403 2025-01-23 14:15:00+05:30  2025-01-24 10:15:00+05:30   \n",
       "\n",
       "     Trade_Type  Entry_Price  Initial SL Exit_Price      Exit Remark  \\\n",
       "2384      short   51361.8500  51672.7500 51322.2500  Trailing SL Hit   \n",
       "2385      short   51243.5000  51439.1500 49960.2000       RSI Upmove   \n",
       "2386      short   50224.1000  50447.6000 49681.1500       RSI Upmove   \n",
       "2387      short   49569.8000  49927.7000 49378.7000       RSI Upmove   \n",
       "2388      short   49064.8000  49557.3500 49273.6500       RSI Upmove   \n",
       "2389      short   49061.5500  49483.1500 48779.8000       RSI Upmove   \n",
       "2390      short   48178.3500  48980.8000 48477.2500       RSI Upmove   \n",
       "2391      short   48251.4500  48606.3500 48047.3000       RSI Upmove   \n",
       "2392      short   48875.1000  49083.6500 48798.2000  Trailing SL Hit   \n",
       "2393      short   48792.0000  49083.6500 48767.6500  Trailing SL Hit   \n",
       "2394      short   48714.9000  48925.4500 49077.7000              Gap   \n",
       "2395      short   49354.7000  49459.0000 49186.6000  Trailing SL Hit   \n",
       "2396      short   49136.5000  49459.0000 49386.4000  Trailing SL Hit   \n",
       "2397      short   48593.7500  49397.7500 48471.0500       RSI Upmove   \n",
       "2398      short   49363.9000  49650.6000 49334.5500  Trailing SL Hit   \n",
       "2399      short   49295.9000  49650.6000 48858.3000       RSI Upmove   \n",
       "2400      short   48699.2000  49280.7000 48675.1500       RSI Upmove   \n",
       "2401      short   48495.4000  48741.7500 48385.2000       RSI Upmove   \n",
       "2402      short   48598.4500  48892.7000 48687.3000  Trailing SL Hit   \n",
       "2403      short   48618.9000  48802.4000 48587.4000       RSI Upmove   \n",
       "\n",
       "           PnL Slippage  PnL w cs      Qty Profit_Loss INR    ROI%  Trade Year  \n",
       "2384   39.6000  10.2684   29.3316  64.3294       1886.8826  0.1887        2025  \n",
       "2385 1283.3000  10.1204 1273.1796 102.2234     130148.6972 13.0149        2025  \n",
       "2386  542.9500   9.9905  532.9595  89.4855      47692.1230  4.7692        2025  \n",
       "2387  191.1000   9.8948  181.2052  55.8815      10126.0212  1.0126        2025  \n",
       "2388 -208.8500   9.8338 -218.6838  40.6050      -8879.6607 -0.8880        2025  \n",
       "2389  281.7500   9.7841  271.9659  47.4383      12901.6065  1.2902        2025  \n",
       "2390 -298.9000   9.6656 -308.5656  24.9237      -7690.5866 -0.7691        2025  \n",
       "2391  204.1500   9.6299  194.5201  56.3539      10961.9682  1.0962        2025  \n",
       "2392   76.9000   9.7673   67.1327  95.9003       6438.0408  0.6438        2025  \n",
       "2393   24.3500   9.7560   14.5940  68.5753       1000.7910  0.1001        2025  \n",
       "2394 -362.8000   9.7793 -372.5793  94.9893     -35391.0482 -3.5391        2025  \n",
       "2395  168.1000   9.8541  158.2459 191.7546      30344.3663  3.0344        2025  \n",
       "2396 -249.9000   9.8523 -259.7523  62.0155     -16108.6691 -1.6109        2025  \n",
       "2397  122.7000   9.7065  112.9935  24.8756       2810.7841  0.2811        2025  \n",
       "2398   29.3500   9.8698   19.4802  69.7593       1358.9226  0.1359        2025  \n",
       "2399  437.6000   9.8154  427.7846  56.3857      24120.9236  2.4121        2025  \n",
       "2400   24.0500   9.7374   14.3126  34.3938        492.2636  0.0492        2025  \n",
       "2401  110.2000   9.6881  100.5119  81.1853       8160.0926  0.8160        2025  \n",
       "2402  -88.8500   9.7286  -98.5786  67.9694      -6700.3280 -0.6700        2025  \n",
       "2403   31.5000   9.7206   21.7794 108.9918       2373.7733  0.2374        2025  "
      ]
     },
     "execution_count": 48,
     "metadata": {},
     "output_type": "execute_result"
    }
   ],
   "source": [
    "tb.tail(20)"
   ]
  },
  {
   "cell_type": "code",
   "execution_count": 40,
   "id": "bfce3379-acd9-4b5a-a8cb-a1e58f92b8f9",
   "metadata": {
    "execution": {
     "iopub.execute_input": "2025-02-13T09:07:02.587375Z",
     "iopub.status.busy": "2025-02-13T09:07:02.586904Z",
     "iopub.status.idle": "2025-02-13T09:07:02.600653Z",
     "shell.execute_reply": "2025-02-13T09:07:02.599473Z",
     "shell.execute_reply.started": "2025-02-13T09:07:02.587346Z"
    },
    "jupyter": {
     "source_hidden": true
    }
   },
   "outputs": [],
   "source": [
    "def generate_stats(tb_expiry, variation):\n",
    "    stats_df8 = pd.DataFrame(\n",
    "        index=range(2017, 2026),\n",
    "        columns=[\n",
    "            \"Total ROI\",\n",
    "            \"Total Trades\",\n",
    "            \"Win Rate\",\n",
    "            \"Avg Profit% per Trade\",\n",
    "            \"Avg Loss% per Trade\",\n",
    "            \"Max Drawdown\",\n",
    "            \"ROI/DD Ratio\",\n",
    "            \"Variation\",\n",
    "        ],\n",
    "    )\n",
    "    combined_df_sorted = tb_expiry\n",
    "    # combined_df_sorted = tb_expiry_ce\n",
    "    # combined_df_sorted = tb_expiry_pe\n",
    "    \n",
    "    # Iterate over each year\n",
    "    for year in range(2017, 2026):\n",
    "        # Filter trades for the current year\n",
    "        year_trades = combined_df_sorted[(combined_df_sorted[\"Trade Year\"] == year)]\n",
    "    \n",
    "        # Calculate total ROI\n",
    "        total_roi = year_trades[\"ROI%\"].sum()\n",
    "    \n",
    "        # Calculate total number of trades\n",
    "        total_trades = len(year_trades)\n",
    "    \n",
    "        # Calculate win rate\n",
    "        win_rate = (year_trades[\"ROI%\"] > 0).mean() * 100\n",
    "    \n",
    "        # Calculate average profit per trade\n",
    "        avg_profit = year_trades[year_trades[\"ROI%\"] > 0][\"ROI%\"].mean()\n",
    "    \n",
    "        # Calculate average loss per trade\n",
    "        avg_loss = year_trades[year_trades[\"ROI%\"] < 0][\"ROI%\"].mean()\n",
    "    \n",
    "        # Calculate maximum drawdown\n",
    "        max_drawdown = (\n",
    "            year_trades[\"ROI%\"].cumsum() - year_trades[\"ROI%\"].cumsum().cummax()\n",
    "        ).min()\n",
    "    \n",
    "        # Calculate ROI/DD ratio\n",
    "        roi_dd_ratio = total_roi / abs(max_drawdown)\n",
    "\n",
    "        variation = variation\n",
    "    \n",
    "        # Store the statistics in the DataFrame\n",
    "        stats_df8.loc[year] = [\n",
    "            total_roi,\n",
    "            total_trades,\n",
    "            win_rate,\n",
    "            avg_profit,\n",
    "            avg_loss,\n",
    "            max_drawdown,\n",
    "            roi_dd_ratio,\n",
    "            variation,\n",
    "        ]\n",
    "    \n",
    "    # Calculate overall statistics\n",
    "    overall_total_roi = stats_df8[\"Total ROI\"].sum()\n",
    "    overall_total_trades = stats_df8[\"Total Trades\"].sum()\n",
    "    overall_win_rate = (combined_df_sorted[\"ROI%\"] > 0).mean() * 100\n",
    "    overall_avg_profit = combined_df_sorted[combined_df_sorted[\"ROI%\"] > 0][\"ROI%\"].mean()\n",
    "    overall_avg_loss = combined_df_sorted[combined_df_sorted[\"ROI%\"] < 0][\"ROI%\"].mean()\n",
    "    overall_max_drawdown = (\n",
    "        combined_df_sorted[\"ROI%\"].cumsum() - combined_df_sorted[\"ROI%\"].cumsum().cummax()\n",
    "    ).min()\n",
    "    overall_roi_dd_ratio = overall_total_roi / abs(overall_max_drawdown)\n",
    "    overall_variation = variation\n",
    "\n",
    "    \n",
    "    # Store the overall statistics in the DataFrame\n",
    "    stats_df8.loc[\"Overall\"] = [\n",
    "        overall_total_roi,\n",
    "        overall_total_trades,\n",
    "        overall_win_rate,\n",
    "        overall_avg_profit,\n",
    "        overall_avg_loss,\n",
    "        overall_max_drawdown,\n",
    "        overall_roi_dd_ratio,\n",
    "        overall_variation,\n",
    "    ]\n",
    "    \n",
    "    # print(f'{overall_total_roi} , {overall_max_drawdown} , {overall_roi_dd_ratio}')\n",
    "    \n",
    "    return {overall_roi_dd_ratio: stats_df8}"
   ]
  },
  {
   "cell_type": "code",
   "execution_count": 41,
   "id": "45f24637-6727-4d77-b50e-2069dd3256ac",
   "metadata": {
    "execution": {
     "iopub.execute_input": "2025-02-13T09:07:05.615864Z",
     "iopub.status.busy": "2025-02-13T09:07:05.614812Z",
     "iopub.status.idle": "2025-02-13T09:07:05.624842Z",
     "shell.execute_reply": "2025-02-13T09:07:05.623699Z",
     "shell.execute_reply.started": "2025-02-13T09:07:05.615839Z"
    }
   },
   "outputs": [],
   "source": [
    "tb['Entry_Date'] = pd.to_datetime(tb['Entry_Date'])\n",
    "tb['Trade Year'] = tb['Entry_Date'].dt.year\n",
    "# tb['ROI% w cs'] = tb['ROI%']"
   ]
  },
  {
   "cell_type": "code",
   "execution_count": 42,
   "id": "4e8c27fc-f337-4a75-9fce-df5ed8634265",
   "metadata": {
    "execution": {
     "iopub.execute_input": "2025-02-13T09:07:06.985944Z",
     "iopub.status.busy": "2025-02-13T09:07:06.985444Z",
     "iopub.status.idle": "2025-02-13T09:07:07.045687Z",
     "shell.execute_reply": "2025-02-13T09:07:07.044286Z",
     "shell.execute_reply.started": "2025-02-13T09:07:06.985919Z"
    }
   },
   "outputs": [
    {
     "data": {
      "text/html": [
       "<div>\n",
       "<style scoped>\n",
       "    .dataframe tbody tr th:only-of-type {\n",
       "        vertical-align: middle;\n",
       "    }\n",
       "\n",
       "    .dataframe tbody tr th {\n",
       "        vertical-align: top;\n",
       "    }\n",
       "\n",
       "    .dataframe thead th {\n",
       "        text-align: right;\n",
       "    }\n",
       "</style>\n",
       "<table border=\"1\" class=\"dataframe\">\n",
       "  <thead>\n",
       "    <tr style=\"text-align: right;\">\n",
       "      <th></th>\n",
       "      <th>Total ROI</th>\n",
       "      <th>Total Trades</th>\n",
       "      <th>Win Rate</th>\n",
       "      <th>Avg Profit% per Trade</th>\n",
       "      <th>Avg Loss% per Trade</th>\n",
       "      <th>Max Drawdown</th>\n",
       "      <th>ROI/DD Ratio</th>\n",
       "      <th>Variation</th>\n",
       "    </tr>\n",
       "  </thead>\n",
       "  <tbody>\n",
       "    <tr>\n",
       "      <th>2017</th>\n",
       "      <td>0</td>\n",
       "      <td>0</td>\n",
       "      <td>NaN</td>\n",
       "      <td>NaN</td>\n",
       "      <td>NaN</td>\n",
       "      <td>NaN</td>\n",
       "      <td>NaN</td>\n",
       "      <td>RSI Shorting</td>\n",
       "    </tr>\n",
       "    <tr>\n",
       "      <th>2018</th>\n",
       "      <td>-22.0851</td>\n",
       "      <td>335</td>\n",
       "      <td>34.3284</td>\n",
       "      <td>2.4460</td>\n",
       "      <td>-1.3790</td>\n",
       "      <td>-56.9805</td>\n",
       "      <td>-0.3876</td>\n",
       "      <td>RSI Shorting</td>\n",
       "    </tr>\n",
       "    <tr>\n",
       "      <th>2019</th>\n",
       "      <td>72.6448</td>\n",
       "      <td>305</td>\n",
       "      <td>39.0164</td>\n",
       "      <td>2.7857</td>\n",
       "      <td>-1.3917</td>\n",
       "      <td>-51.5890</td>\n",
       "      <td>1.4081</td>\n",
       "      <td>RSI Shorting</td>\n",
       "    </tr>\n",
       "    <tr>\n",
       "      <th>2020</th>\n",
       "      <td>77.5195</td>\n",
       "      <td>327</td>\n",
       "      <td>37.6147</td>\n",
       "      <td>2.8464</td>\n",
       "      <td>-1.3362</td>\n",
       "      <td>-44.5911</td>\n",
       "      <td>1.7385</td>\n",
       "      <td>RSI Shorting</td>\n",
       "    </tr>\n",
       "    <tr>\n",
       "      <th>2021</th>\n",
       "      <td>28.3751</td>\n",
       "      <td>342</td>\n",
       "      <td>38.0117</td>\n",
       "      <td>2.4815</td>\n",
       "      <td>-1.3878</td>\n",
       "      <td>-65.6171</td>\n",
       "      <td>0.4324</td>\n",
       "      <td>RSI Shorting</td>\n",
       "    </tr>\n",
       "    <tr>\n",
       "      <th>2022</th>\n",
       "      <td>-54.1877</td>\n",
       "      <td>368</td>\n",
       "      <td>39.1304</td>\n",
       "      <td>2.0451</td>\n",
       "      <td>-1.5566</td>\n",
       "      <td>-98.1237</td>\n",
       "      <td>-0.5522</td>\n",
       "      <td>RSI Shorting</td>\n",
       "    </tr>\n",
       "    <tr>\n",
       "      <th>2023</th>\n",
       "      <td>-37.2448</td>\n",
       "      <td>359</td>\n",
       "      <td>33.1476</td>\n",
       "      <td>2.4511</td>\n",
       "      <td>-1.3705</td>\n",
       "      <td>-99.7876</td>\n",
       "      <td>-0.3732</td>\n",
       "      <td>RSI Shorting</td>\n",
       "    </tr>\n",
       "    <tr>\n",
       "      <th>2024</th>\n",
       "      <td>-15.1339</td>\n",
       "      <td>345</td>\n",
       "      <td>35.0725</td>\n",
       "      <td>2.4606</td>\n",
       "      <td>-1.3967</td>\n",
       "      <td>-49.4690</td>\n",
       "      <td>-0.3059</td>\n",
       "      <td>RSI Shorting</td>\n",
       "    </tr>\n",
       "    <tr>\n",
       "      <th>2025</th>\n",
       "      <td>21.8512</td>\n",
       "      <td>23</td>\n",
       "      <td>65.2174</td>\n",
       "      <td>2.4235</td>\n",
       "      <td>-1.8126</td>\n",
       "      <td>-4.4239</td>\n",
       "      <td>4.9394</td>\n",
       "      <td>RSI Shorting</td>\n",
       "    </tr>\n",
       "    <tr>\n",
       "      <th>Overall</th>\n",
       "      <td>71.7392</td>\n",
       "      <td>2404</td>\n",
       "      <td>36.8552</td>\n",
       "      <td>2.4896</td>\n",
       "      <td>-1.4058</td>\n",
       "      <td>-170.5358</td>\n",
       "      <td>0.4207</td>\n",
       "      <td>RSI Shorting</td>\n",
       "    </tr>\n",
       "  </tbody>\n",
       "</table>\n",
       "</div>"
      ],
      "text/plain": [
       "        Total ROI Total Trades Win Rate Avg Profit% per Trade  \\\n",
       "2017            0            0      NaN                   NaN   \n",
       "2018     -22.0851          335  34.3284                2.4460   \n",
       "2019      72.6448          305  39.0164                2.7857   \n",
       "2020      77.5195          327  37.6147                2.8464   \n",
       "2021      28.3751          342  38.0117                2.4815   \n",
       "2022     -54.1877          368  39.1304                2.0451   \n",
       "2023     -37.2448          359  33.1476                2.4511   \n",
       "2024     -15.1339          345  35.0725                2.4606   \n",
       "2025      21.8512           23  65.2174                2.4235   \n",
       "Overall   71.7392         2404  36.8552                2.4896   \n",
       "\n",
       "        Avg Loss% per Trade Max Drawdown ROI/DD Ratio     Variation  \n",
       "2017                    NaN          NaN          NaN  RSI Shorting  \n",
       "2018                -1.3790     -56.9805      -0.3876  RSI Shorting  \n",
       "2019                -1.3917     -51.5890       1.4081  RSI Shorting  \n",
       "2020                -1.3362     -44.5911       1.7385  RSI Shorting  \n",
       "2021                -1.3878     -65.6171       0.4324  RSI Shorting  \n",
       "2022                -1.5566     -98.1237      -0.5522  RSI Shorting  \n",
       "2023                -1.3705     -99.7876      -0.3732  RSI Shorting  \n",
       "2024                -1.3967     -49.4690      -0.3059  RSI Shorting  \n",
       "2025                -1.8126      -4.4239       4.9394  RSI Shorting  \n",
       "Overall             -1.4058    -170.5358       0.4207  RSI Shorting  "
      ]
     },
     "execution_count": 42,
     "metadata": {},
     "output_type": "execute_result"
    }
   ],
   "source": [
    "stats = generate_stats(tb, 'RSI Shorting')\n",
    "lol = pd.DataFrame()\n",
    "for x, y in stats.items():\n",
    "    lol = pd.DataFrame(y)\n",
    "\n",
    "lol"
   ]
  },
  {
   "cell_type": "code",
   "execution_count": null,
   "id": "e051207b-b1c0-4383-8ade-8fbdcd4d6c94",
   "metadata": {
    "execution": {
     "iopub.execute_input": "2025-02-13T09:48:12.517564Z",
     "iopub.status.busy": "2025-02-13T09:48:12.516820Z"
    },
    "scrolled": true
   },
   "outputs": [
    {
     "name": "stdout",
     "output_type": "stream",
     "text": [
      "EMA:10, RSI:6, RSI_MA:5, SL Candles:2\n"
     ]
    },
    {
     "name": "stderr",
     "output_type": "stream",
     "text": [
      "/tmp/ipykernel_33520/419236688.py:137: FutureWarning: Setting an item of incompatible dtype is deprecated and will raise an error in a future version of pandas. Value 'Trailing SL Hit' has dtype incompatible with float64, please explicitly cast to a compatible dtype first.\n",
      "  tradebook_short.loc[\n"
     ]
    },
    {
     "name": "stdout",
     "output_type": "stream",
     "text": [
      "EMA:10, RSI:6, RSI_MA:5, SL Candles:4\n"
     ]
    },
    {
     "name": "stderr",
     "output_type": "stream",
     "text": [
      "/tmp/ipykernel_33520/419236688.py:137: FutureWarning: Setting an item of incompatible dtype is deprecated and will raise an error in a future version of pandas. Value 'Trailing SL Hit' has dtype incompatible with float64, please explicitly cast to a compatible dtype first.\n",
      "  tradebook_short.loc[\n"
     ]
    },
    {
     "name": "stdout",
     "output_type": "stream",
     "text": [
      "EMA:10, RSI:6, RSI_MA:5, SL Candles:6\n"
     ]
    },
    {
     "name": "stderr",
     "output_type": "stream",
     "text": [
      "/tmp/ipykernel_33520/419236688.py:137: FutureWarning: Setting an item of incompatible dtype is deprecated and will raise an error in a future version of pandas. Value 'Trailing SL Hit' has dtype incompatible with float64, please explicitly cast to a compatible dtype first.\n",
      "  tradebook_short.loc[\n"
     ]
    },
    {
     "name": "stdout",
     "output_type": "stream",
     "text": [
      "EMA:10, RSI:6, RSI_MA:5, SL Candles:8\n"
     ]
    },
    {
     "name": "stderr",
     "output_type": "stream",
     "text": [
      "/tmp/ipykernel_33520/419236688.py:137: FutureWarning: Setting an item of incompatible dtype is deprecated and will raise an error in a future version of pandas. Value 'Trailing SL Hit' has dtype incompatible with float64, please explicitly cast to a compatible dtype first.\n",
      "  tradebook_short.loc[\n"
     ]
    },
    {
     "name": "stdout",
     "output_type": "stream",
     "text": [
      "EMA:10, RSI:6, RSI_MA:5, SL Candles:10\n"
     ]
    },
    {
     "name": "stderr",
     "output_type": "stream",
     "text": [
      "/tmp/ipykernel_33520/419236688.py:137: FutureWarning: Setting an item of incompatible dtype is deprecated and will raise an error in a future version of pandas. Value 'Trailing SL Hit' has dtype incompatible with float64, please explicitly cast to a compatible dtype first.\n",
      "  tradebook_short.loc[\n"
     ]
    },
    {
     "name": "stdout",
     "output_type": "stream",
     "text": [
      "EMA:10, RSI:6, RSI_MA:10, SL Candles:2\n"
     ]
    },
    {
     "name": "stderr",
     "output_type": "stream",
     "text": [
      "/tmp/ipykernel_33520/419236688.py:151: FutureWarning: Setting an item of incompatible dtype is deprecated and will raise an error in a future version of pandas. Value 'RSI Upmove' has dtype incompatible with float64, please explicitly cast to a compatible dtype first.\n",
      "  tradebook_short.loc[\n"
     ]
    },
    {
     "name": "stdout",
     "output_type": "stream",
     "text": [
      "        Total ROI Total Trades Win Rate Avg Profit% per Trade Avg Loss% per Trade Max Drawdown ROI/DD Ratio                               Variation\n",
      "2017            0            0      NaN                   NaN                 NaN          NaN          NaN  EMA:10, RSI:6, RSI_MA:10, SL Candles:2\n",
      "2018     -77.8935          329  31.0030                3.9621             -2.1235    -110.1259      -0.7073  EMA:10, RSI:6, RSI_MA:10, SL Candles:2\n",
      "2019      75.8898          287  37.2822                4.3955             -2.1913     -69.3800       1.0938  EMA:10, RSI:6, RSI_MA:10, SL Candles:2\n",
      "2020     161.1183          313  38.9776                4.7634             -2.1990     -46.2779       3.4815  EMA:10, RSI:6, RSI_MA:10, SL Candles:2\n",
      "2021      30.0920          328  33.8415                4.4199             -2.1222     -57.3423       0.5248  EMA:10, RSI:6, RSI_MA:10, SL Candles:2\n",
      "2022     -25.8669          341  35.4839                4.2029             -2.4292    -149.8127      -0.1727  EMA:10, RSI:6, RSI_MA:10, SL Candles:2\n",
      "2023    -180.7805          354  30.5085                3.7409             -2.3772    -233.8594      -0.7730  EMA:10, RSI:6, RSI_MA:10, SL Candles:2\n",
      "2024      11.3906          314  31.2102                5.1985             -2.3058    -139.8416       0.0815  EMA:10, RSI:6, RSI_MA:10, SL Candles:2\n",
      "2025      17.3748           21  57.1429                2.9753             -2.0365      -6.4892       2.6775  EMA:10, RSI:6, RSI_MA:10, SL Candles:2\n",
      "Overall   11.3246         2287  34.1495                4.3584             -2.2527    -389.1977       0.0291  EMA:10, RSI:6, RSI_MA:10, SL Candles:2\n",
      "EMA:10, RSI:6, RSI_MA:10, SL Candles:4\n"
     ]
    },
    {
     "name": "stderr",
     "output_type": "stream",
     "text": [
      "/tmp/ipykernel_33520/419236688.py:151: FutureWarning: Setting an item of incompatible dtype is deprecated and will raise an error in a future version of pandas. Value 'RSI Upmove' has dtype incompatible with float64, please explicitly cast to a compatible dtype first.\n",
      "  tradebook_short.loc[\n"
     ]
    },
    {
     "name": "stdout",
     "output_type": "stream",
     "text": [
      "        Total ROI Total Trades Win Rate Avg Profit% per Trade Avg Loss% per Trade Max Drawdown ROI/DD Ratio                               Variation\n",
      "2017            0            0      NaN                   NaN                 NaN          NaN          NaN  EMA:10, RSI:6, RSI_MA:10, SL Candles:4\n",
      "2018     -50.7512          326  30.9816                3.4086             -1.7556     -85.0037      -0.5970  EMA:10, RSI:6, RSI_MA:10, SL Candles:4\n",
      "2019      84.8842          284  37.6761                3.8508             -1.8483     -60.2868       1.4080  EMA:10, RSI:6, RSI_MA:10, SL Candles:4\n",
      "2020     135.2783          312  39.1026                3.8720             -1.7742     -43.0898       3.1394  EMA:10, RSI:6, RSI_MA:10, SL Candles:4\n",
      "2021      32.4783          324  34.2593                3.7130             -1.7824     -50.5676       0.6423  EMA:10, RSI:6, RSI_MA:10, SL Candles:4\n",
      "2022     -49.4527          338  35.7988                3.3336             -2.0867    -133.8010      -0.3696  EMA:10, RSI:6, RSI_MA:10, SL Candles:4\n",
      "2023    -140.6755          353  31.1615                3.0185             -1.9453    -188.6720      -0.7456  EMA:10, RSI:6, RSI_MA:10, SL Candles:4\n",
      "2024      49.2601          312  31.7308                4.5646             -1.8903     -81.0771       0.6076  EMA:10, RSI:6, RSI_MA:10, SL Candles:4\n",
      "2025      24.3172           20  60.0000                3.0483             -1.5328      -4.0435       6.0140  EMA:10, RSI:6, RSI_MA:10, SL Candles:4\n",
      "Overall   85.3386         2269  34.5086                3.6586             -1.8704    -283.8051       0.3007  EMA:10, RSI:6, RSI_MA:10, SL Candles:4\n",
      "EMA:10, RSI:6, RSI_MA:10, SL Candles:6\n"
     ]
    },
    {
     "name": "stderr",
     "output_type": "stream",
     "text": [
      "/tmp/ipykernel_33520/419236688.py:151: FutureWarning: Setting an item of incompatible dtype is deprecated and will raise an error in a future version of pandas. Value 'RSI Upmove' has dtype incompatible with float64, please explicitly cast to a compatible dtype first.\n",
      "  tradebook_short.loc[\n"
     ]
    },
    {
     "name": "stdout",
     "output_type": "stream",
     "text": [
      "        Total ROI Total Trades Win Rate Avg Profit% per Trade Avg Loss% per Trade Max Drawdown ROI/DD Ratio                               Variation\n",
      "2017            0            0      NaN                   NaN                 NaN          NaN          NaN  EMA:10, RSI:6, RSI_MA:10, SL Candles:6\n",
      "2018     -60.4211          323  31.5789                2.9441             -1.6322     -78.1133      -0.7735  EMA:10, RSI:6, RSI_MA:10, SL Candles:6\n",
      "2019      73.1369          284  38.0282                3.4488             -1.7008     -54.1651       1.3503  EMA:10, RSI:6, RSI_MA:10, SL Candles:6\n",
      "2020     113.6021          312  39.4231                3.4111             -1.6188     -45.6132       2.4906  EMA:10, RSI:6, RSI_MA:10, SL Candles:6\n",
      "2021       9.8923          324  34.2593                3.1880             -1.6149     -53.9922       0.1832  EMA:10, RSI:6, RSI_MA:10, SL Candles:6\n",
      "2022     -48.1923          338  35.7988                2.9944             -1.8918    -115.8728      -0.4159  EMA:10, RSI:6, RSI_MA:10, SL Candles:6\n",
      "2023    -130.8178          352  31.5341                2.6027             -1.7416    -169.5170      -0.7717  EMA:10, RSI:6, RSI_MA:10, SL Candles:6\n",
      "2024      79.3385          309  32.3625                4.2973             -1.6765     -56.1001       1.4142  EMA:10, RSI:6, RSI_MA:10, SL Candles:6\n",
      "2025      23.1854           20  60.0000                2.9136             -1.4722      -4.0435       5.7341  EMA:10, RSI:6, RSI_MA:10, SL Candles:6\n",
      "Overall   59.7239         2262  34.8364                3.2514             -1.6977    -251.3290       0.2376  EMA:10, RSI:6, RSI_MA:10, SL Candles:6\n",
      "EMA:10, RSI:6, RSI_MA:10, SL Candles:8\n"
     ]
    },
    {
     "name": "stderr",
     "output_type": "stream",
     "text": [
      "/tmp/ipykernel_33520/419236688.py:151: FutureWarning: Setting an item of incompatible dtype is deprecated and will raise an error in a future version of pandas. Value 'RSI Upmove' has dtype incompatible with float64, please explicitly cast to a compatible dtype first.\n",
      "  tradebook_short.loc[\n"
     ]
    },
    {
     "name": "stdout",
     "output_type": "stream",
     "text": [
      "        Total ROI Total Trades Win Rate Avg Profit% per Trade Avg Loss% per Trade Max Drawdown ROI/DD Ratio                               Variation\n",
      "2017            0            0      NaN                   NaN                 NaN          NaN          NaN  EMA:10, RSI:6, RSI_MA:10, SL Candles:8\n",
      "2018     -62.4792          322  32.2981                2.6197             -1.5363     -75.5235      -0.8273  EMA:10, RSI:6, RSI_MA:10, SL Candles:8\n",
      "2019      42.9671          284  38.0282                3.0187             -1.6083     -49.7580       0.8635  EMA:10, RSI:6, RSI_MA:10, SL Candles:8\n",
      "2020      96.3352          312  39.4231                3.1901             -1.5664     -53.7215       1.7932  EMA:10, RSI:6, RSI_MA:10, SL Candles:8\n",
      "2021      15.6115          324  34.2593                2.9936             -1.4867     -55.7883       0.2798  EMA:10, RSI:6, RSI_MA:10, SL Candles:8\n",
      "2022     -49.7027          338  35.7988                2.7229             -1.7474    -116.4697      -0.4267  EMA:10, RSI:6, RSI_MA:10, SL Candles:8\n",
      "2023    -103.6132          350  31.7143                2.3982             -1.5473    -141.5245      -0.7321  EMA:10, RSI:6, RSI_MA:10, SL Candles:8\n",
      "2024      77.0514          309  32.3625                3.9532             -1.5228     -52.4252       1.4697  EMA:10, RSI:6, RSI_MA:10, SL Candles:8\n",
      "2025      22.4501           20  60.0000                2.8408             -1.4550      -4.0435       5.5522  EMA:10, RSI:6, RSI_MA:10, SL Candles:8\n",
      "Overall   38.6204         2259  34.9712                2.9724             -1.5722    -225.9912       0.1709  EMA:10, RSI:6, RSI_MA:10, SL Candles:8\n",
      "EMA:10, RSI:6, RSI_MA:10, SL Candles:10\n"
     ]
    },
    {
     "name": "stderr",
     "output_type": "stream",
     "text": [
      "/tmp/ipykernel_33520/419236688.py:151: FutureWarning: Setting an item of incompatible dtype is deprecated and will raise an error in a future version of pandas. Value 'RSI Upmove' has dtype incompatible with float64, please explicitly cast to a compatible dtype first.\n",
      "  tradebook_short.loc[\n"
     ]
    },
    {
     "name": "stdout",
     "output_type": "stream",
     "text": [
      "        Total ROI Total Trades Win Rate Avg Profit% per Trade Avg Loss% per Trade Max Drawdown ROI/DD Ratio                                Variation\n",
      "2017            0            0      NaN                   NaN                 NaN          NaN          NaN  EMA:10, RSI:6, RSI_MA:10, SL Candles:10\n",
      "2018     -42.4460          321  33.0218                2.4979             -1.4289     -65.8522      -0.6446  EMA:10, RSI:6, RSI_MA:10, SL Candles:10\n",
      "2019      29.3887          284  38.0282                2.7904             -1.5453     -48.5336       0.6055  EMA:10, RSI:6, RSI_MA:10, SL Candles:10\n",
      "2020     102.4029          312  39.7436                3.0672             -1.4784     -51.0567       2.0057  EMA:10, RSI:6, RSI_MA:10, SL Candles:10\n",
      "2021      13.9580          324  34.2593                2.8624             -1.4262     -51.0844       0.2732  EMA:10, RSI:6, RSI_MA:10, SL Candles:10\n",
      "2022     -43.5131          338  35.7988                2.5861             -1.6425    -109.9103      -0.3959  EMA:10, RSI:6, RSI_MA:10, SL Candles:10\n",
      "2023     -88.0709          350  31.7143                2.3025             -1.4379    -128.2587      -0.6867  EMA:10, RSI:6, RSI_MA:10, SL Candles:10\n",
      "2024      80.4117          309  32.3625                3.7973             -1.4322     -44.6412       1.8013  EMA:10, RSI:6, RSI_MA:10, SL Candles:10\n",
      "2025      22.3875           20  60.0000                2.8120             -1.4196      -4.0435       5.5367  EMA:10, RSI:6, RSI_MA:10, SL Candles:10\n",
      "Overall   74.5188         2258  35.1196                2.8325             -1.4824    -202.6928       0.3676  EMA:10, RSI:6, RSI_MA:10, SL Candles:10\n",
      "EMA:10, RSI:6, RSI_MA:15, SL Candles:2\n"
     ]
    },
    {
     "name": "stderr",
     "output_type": "stream",
     "text": [
      "/tmp/ipykernel_33520/419236688.py:123: FutureWarning: Setting an item of incompatible dtype is deprecated and will raise an error in a future version of pandas. Value 'Initial SL Hit' has dtype incompatible with float64, please explicitly cast to a compatible dtype first.\n",
      "  tradebook_short.loc[\n"
     ]
    },
    {
     "name": "stdout",
     "output_type": "stream",
     "text": [
      "        Total ROI Total Trades Win Rate Avg Profit% per Trade Avg Loss% per Trade Max Drawdown ROI/DD Ratio                               Variation\n",
      "2017            0            0      NaN                   NaN                 NaN          NaN          NaN  EMA:10, RSI:6, RSI_MA:15, SL Candles:2\n",
      "2018      53.2663          277  32.1300                5.0584             -2.1113     -97.5070       0.5463  EMA:10, RSI:6, RSI_MA:15, SL Candles:2\n",
      "2019      28.0887          273  31.8681                4.8552             -2.1200     -96.0248       0.2925  EMA:10, RSI:6, RSI_MA:15, SL Candles:2\n",
      "2020     105.4239          296  37.5000                4.8624             -2.3476     -46.9490       2.2455  EMA:10, RSI:6, RSI_MA:15, SL Candles:2\n",
      "2021      22.2726          301  33.2226                4.6378             -2.1966     -85.2770       0.2612  EMA:10, RSI:6, RSI_MA:15, SL Candles:2\n",
      "2022     -54.8283          307  36.1564                4.0037             -2.5472    -141.4834      -0.3875  EMA:10, RSI:6, RSI_MA:15, SL Candles:2\n",
      "2023     -36.1990          307  27.6873                5.2679             -2.1800    -150.0682      -0.2412  EMA:10, RSI:6, RSI_MA:15, SL Candles:2\n",
      "2024     -27.5408          288  28.8194                5.3617             -2.3052    -167.3165      -0.1646  EMA:10, RSI:6, RSI_MA:15, SL Candles:2\n",
      "2025      12.9067           18  44.4444                4.2859             -2.1380      -6.4892       1.9889  EMA:10, RSI:6, RSI_MA:15, SL Candles:2\n",
      "Overall  103.3901         2067  32.6076                4.8184             -2.2572    -256.7625       0.4027  EMA:10, RSI:6, RSI_MA:15, SL Candles:2\n",
      "EMA:10, RSI:6, RSI_MA:15, SL Candles:4\n"
     ]
    },
    {
     "name": "stderr",
     "output_type": "stream",
     "text": [
      "/tmp/ipykernel_33520/419236688.py:137: FutureWarning: Setting an item of incompatible dtype is deprecated and will raise an error in a future version of pandas. Value 'Trailing SL Hit' has dtype incompatible with float64, please explicitly cast to a compatible dtype first.\n",
      "  tradebook_short.loc[\n"
     ]
    },
    {
     "name": "stdout",
     "output_type": "stream",
     "text": [
      "        Total ROI Total Trades Win Rate Avg Profit% per Trade Avg Loss% per Trade Max Drawdown ROI/DD Ratio                               Variation\n",
      "2017            0            0      NaN                   NaN                 NaN          NaN          NaN  EMA:10, RSI:6, RSI_MA:15, SL Candles:4\n",
      "2018      37.5637          275  32.7273                4.0773             -1.7805     -70.9892       0.5291  EMA:10, RSI:6, RSI_MA:15, SL Candles:4\n",
      "2019      36.8927          272  31.9853                4.2237             -1.7869     -83.4166       0.4423  EMA:10, RSI:6, RSI_MA:15, SL Candles:4\n",
      "2020      97.2292          295  37.6271                4.1042             -1.9475     -41.8478       2.3234  EMA:10, RSI:6, RSI_MA:15, SL Candles:4\n",
      "2021      30.2516          298  33.5570                3.8929             -1.8133     -85.2285       0.3549  EMA:10, RSI:6, RSI_MA:15, SL Candles:4\n",
      "2022     -90.1950          305  36.3934                3.1119             -2.2455    -151.0853      -0.5970  EMA:10, RSI:6, RSI_MA:15, SL Candles:4\n",
      "2023     -10.4080          303  29.0429                4.2861             -1.8027    -114.0695      -0.0912  EMA:10, RSI:6, RSI_MA:15, SL Candles:4\n",
      "2024      36.2089          286  29.3706                4.9235             -1.8681     -96.8509       0.3739  EMA:10, RSI:6, RSI_MA:15, SL Candles:4\n",
      "2025      18.1922           17  47.0588                4.1422             -1.6606      -4.0435       4.4992  EMA:10, RSI:6, RSI_MA:15, SL Candles:4\n",
      "Overall  155.7351         2051  33.1058                4.0480             -1.8898    -187.8694       0.8290  EMA:10, RSI:6, RSI_MA:15, SL Candles:4\n",
      "EMA:10, RSI:6, RSI_MA:15, SL Candles:6\n"
     ]
    },
    {
     "name": "stderr",
     "output_type": "stream",
     "text": [
      "/tmp/ipykernel_33520/419236688.py:137: FutureWarning: Setting an item of incompatible dtype is deprecated and will raise an error in a future version of pandas. Value 'Trailing SL Hit' has dtype incompatible with float64, please explicitly cast to a compatible dtype first.\n",
      "  tradebook_short.loc[\n"
     ]
    },
    {
     "name": "stdout",
     "output_type": "stream",
     "text": [
      "        Total ROI Total Trades Win Rate Avg Profit% per Trade Avg Loss% per Trade Max Drawdown ROI/DD Ratio                               Variation\n",
      "2017            0            0      NaN                   NaN                 NaN          NaN          NaN  EMA:10, RSI:6, RSI_MA:15, SL Candles:6\n",
      "2018      17.6205          272  33.0882                3.4969             -1.6324     -69.1876       0.2547  EMA:10, RSI:6, RSI_MA:15, SL Candles:6\n",
      "2019      40.4181          271  32.4723                3.8568             -1.6338     -73.2396       0.5519  EMA:10, RSI:6, RSI_MA:15, SL Candles:6\n",
      "2020      76.3056          293  37.8840                3.5572             -1.7503     -39.3136       1.9409  EMA:10, RSI:6, RSI_MA:15, SL Candles:6\n",
      "2021       0.4694          298  33.5570                3.2491             -1.6386     -73.1759       0.0064  EMA:10, RSI:6, RSI_MA:15, SL Candles:6\n",
      "2022     -77.2937          305  36.3934                2.8253             -2.0149    -129.7577      -0.5957  EMA:10, RSI:6, RSI_MA:15, SL Candles:6\n",
      "2023     -30.0934          302  29.1391                3.5459             -1.5987     -94.4572      -0.3186  EMA:10, RSI:6, RSI_MA:15, SL Candles:6\n",
      "2024      34.9825          284  29.5775                4.4660             -1.7008     -95.2881       0.3671  EMA:10, RSI:6, RSI_MA:15, SL Candles:6\n",
      "2025      17.5734           17  47.0588                4.0039             -1.6064      -4.0435       4.3461  EMA:10, RSI:6, RSI_MA:15, SL Candles:6\n",
      "Overall   79.9824         2042  33.3007                3.5393             -1.7083    -189.2354       0.4227  EMA:10, RSI:6, RSI_MA:15, SL Candles:6\n",
      "EMA:10, RSI:6, RSI_MA:15, SL Candles:8\n"
     ]
    },
    {
     "name": "stderr",
     "output_type": "stream",
     "text": [
      "/tmp/ipykernel_33520/419236688.py:137: FutureWarning: Setting an item of incompatible dtype is deprecated and will raise an error in a future version of pandas. Value 'Trailing SL Hit' has dtype incompatible with float64, please explicitly cast to a compatible dtype first.\n",
      "  tradebook_short.loc[\n"
     ]
    },
    {
     "name": "stdout",
     "output_type": "stream",
     "text": [
      "        Total ROI Total Trades Win Rate Avg Profit% per Trade Avg Loss% per Trade Max Drawdown ROI/DD Ratio                               Variation\n",
      "2017            0            0      NaN                   NaN                 NaN          NaN          NaN  EMA:10, RSI:6, RSI_MA:15, SL Candles:8\n",
      "2018      23.3187          271  33.9483                3.1508             -1.4891     -61.5167       0.3791  EMA:10, RSI:6, RSI_MA:15, SL Candles:8\n",
      "2019      29.7559          271  32.4723                3.4813             -1.5115     -64.3435       0.4625  EMA:10, RSI:6, RSI_MA:15, SL Candles:8\n",
      "2020      60.6545          293  37.8840                3.2569             -1.6531     -48.1879       1.2587  EMA:10, RSI:6, RSI_MA:15, SL Candles:8\n",
      "2021      15.2327          298  33.5570                3.1184             -1.4980     -70.7984       0.2152  EMA:10, RSI:6, RSI_MA:15, SL Candles:8\n",
      "2022     -64.3249          305  36.3934                2.6765             -1.8630    -118.1023      -0.5447  EMA:10, RSI:6, RSI_MA:15, SL Candles:8\n",
      "2023      -8.7569          301  29.2359                3.2706             -1.3924     -77.6090      -0.1128  EMA:10, RSI:6, RSI_MA:15, SL Candles:8\n",
      "2024      37.2098          283  29.6820                4.0330             -1.5154     -81.0709       0.4590  EMA:10, RSI:6, RSI_MA:15, SL Candles:8\n",
      "2025      18.0795           17  47.0588                3.9113             -1.4679      -4.0435       4.4713  EMA:10, RSI:6, RSI_MA:15, SL Candles:8\n",
      "Overall  111.1693         2039  33.4478                3.2618             -1.5574    -146.0801       0.7610  EMA:10, RSI:6, RSI_MA:15, SL Candles:8\n",
      "EMA:10, RSI:6, RSI_MA:15, SL Candles:10\n"
     ]
    },
    {
     "name": "stderr",
     "output_type": "stream",
     "text": [
      "/tmp/ipykernel_33520/419236688.py:137: FutureWarning: Setting an item of incompatible dtype is deprecated and will raise an error in a future version of pandas. Value 'Trailing SL Hit' has dtype incompatible with float64, please explicitly cast to a compatible dtype first.\n",
      "  tradebook_short.loc[\n"
     ]
    },
    {
     "name": "stdout",
     "output_type": "stream",
     "text": [
      "        Total ROI Total Trades Win Rate Avg Profit% per Trade Avg Loss% per Trade Max Drawdown ROI/DD Ratio                                Variation\n",
      "2017            0            0      NaN                   NaN                 NaN          NaN          NaN  EMA:10, RSI:6, RSI_MA:15, SL Candles:10\n",
      "2018      27.2504          270  34.8148                2.8659             -1.3758     -53.0111       0.5140  EMA:10, RSI:6, RSI_MA:15, SL Candles:10\n",
      "2019      19.3337          271  32.4723                3.2005             -1.4334     -62.2154       0.3108  EMA:10, RSI:6, RSI_MA:15, SL Candles:10\n",
      "2020      66.0423          293  37.8840                3.0915             -1.5226     -48.3090       1.3671  EMA:10, RSI:6, RSI_MA:15, SL Candles:10\n",
      "2021      17.6116          298  33.5570                2.9498             -1.4008     -66.1140       0.2664  EMA:10, RSI:6, RSI_MA:15, SL Candles:10\n",
      "2022     -59.9334          305  36.3934                2.5116             -1.7460    -108.2953      -0.5534  EMA:10, RSI:6, RSI_MA:15, SL Candles:10\n",
      "2023      -2.6972          299  29.7659                2.9339             -1.2562     -65.4356      -0.0412  EMA:10, RSI:6, RSI_MA:15, SL Candles:10\n",
      "2024      41.7139          283  29.6820                3.8925             -1.4334     -77.2125       0.5402  EMA:10, RSI:6, RSI_MA:15, SL Candles:10\n",
      "2025      17.9444           17  47.0588                3.8591             -1.4365      -4.0435       4.4379  EMA:10, RSI:6, RSI_MA:15, SL Candles:10\n",
      "Overall  127.2659         2036  33.6444                3.0466             -1.4505    -134.6432       0.9452  EMA:10, RSI:6, RSI_MA:15, SL Candles:10\n",
      "EMA:10, RSI:6, RSI_MA:20, SL Candles:2\n"
     ]
    },
    {
     "name": "stderr",
     "output_type": "stream",
     "text": [
      "/tmp/ipykernel_33520/419236688.py:151: FutureWarning: Setting an item of incompatible dtype is deprecated and will raise an error in a future version of pandas. Value 'RSI Upmove' has dtype incompatible with float64, please explicitly cast to a compatible dtype first.\n",
      "  tradebook_short.loc[\n"
     ]
    },
    {
     "name": "stdout",
     "output_type": "stream",
     "text": [
      "EMA:10, RSI:6, RSI_MA:20, SL Candles:4\n"
     ]
    },
    {
     "name": "stderr",
     "output_type": "stream",
     "text": [
      "/tmp/ipykernel_33520/419236688.py:151: FutureWarning: Setting an item of incompatible dtype is deprecated and will raise an error in a future version of pandas. Value 'RSI Upmove' has dtype incompatible with float64, please explicitly cast to a compatible dtype first.\n",
      "  tradebook_short.loc[\n"
     ]
    },
    {
     "name": "stdout",
     "output_type": "stream",
     "text": [
      "        Total ROI Total Trades Win Rate Avg Profit% per Trade Avg Loss% per Trade Max Drawdown ROI/DD Ratio                               Variation\n",
      "2017            0            0      NaN                   NaN                 NaN          NaN          NaN  EMA:10, RSI:6, RSI_MA:20, SL Candles:4\n",
      "2018     -25.3551          264  33.3333                3.3817             -1.8349     -84.3952      -0.3004  EMA:10, RSI:6, RSI_MA:20, SL Candles:4\n",
      "2019     -14.7636          258  32.5581                3.6656             -1.8544     -85.0862      -0.1735  EMA:10, RSI:6, RSI_MA:20, SL Candles:4\n",
      "2020      94.9159          278  33.8129                4.6156             -1.8421     -46.7739       2.0293  EMA:10, RSI:6, RSI_MA:20, SL Candles:4\n",
      "2021      82.2645          275  33.8182                4.5051             -1.8501     -40.1229       2.0503  EMA:10, RSI:6, RSI_MA:20, SL Candles:4\n",
      "2022     -48.1783          290  34.4828                3.6648             -2.1824    -118.1396      -0.4078  EMA:10, RSI:6, RSI_MA:20, SL Candles:4\n",
      "2023     -29.5945          286  27.9720                4.4709             -1.8799     -94.6261      -0.3128  EMA:10, RSI:6, RSI_MA:20, SL Candles:4\n",
      "2024      25.7496          271  26.9373                5.7184             -1.9783    -122.0060       0.2111  EMA:10, RSI:6, RSI_MA:20, SL Candles:4\n",
      "2025      22.2019           15  53.3333                4.4776             -1.9455      -3.1347       7.0825  EMA:10, RSI:6, RSI_MA:20, SL Candles:4\n",
      "Overall  107.2404         1937  32.0083                4.2512             -1.9199    -185.1419       0.5792  EMA:10, RSI:6, RSI_MA:20, SL Candles:4\n",
      "EMA:10, RSI:6, RSI_MA:20, SL Candles:6\n"
     ]
    },
    {
     "name": "stderr",
     "output_type": "stream",
     "text": [
      "/tmp/ipykernel_33520/419236688.py:151: FutureWarning: Setting an item of incompatible dtype is deprecated and will raise an error in a future version of pandas. Value 'RSI Upmove' has dtype incompatible with float64, please explicitly cast to a compatible dtype first.\n",
      "  tradebook_short.loc[\n"
     ]
    },
    {
     "name": "stdout",
     "output_type": "stream",
     "text": [
      "        Total ROI Total Trades Win Rate Avg Profit% per Trade Avg Loss% per Trade Max Drawdown ROI/DD Ratio                               Variation\n",
      "2017            0            0      NaN                   NaN                 NaN          NaN          NaN  EMA:10, RSI:6, RSI_MA:20, SL Candles:6\n",
      "2018     -40.1827          262  33.5878                2.8893             -1.6922     -99.0375      -0.4057  EMA:10, RSI:6, RSI_MA:20, SL Candles:6\n",
      "2019       6.7297          257  33.0739                3.4286             -1.6552     -73.4713       0.0916  EMA:10, RSI:6, RSI_MA:20, SL Candles:6\n",
      "2020      70.2203          277  33.9350                3.9843             -1.6629     -52.7954       1.3300  EMA:10, RSI:6, RSI_MA:20, SL Candles:6\n",
      "2021      62.4870          275  33.8182                3.9244             -1.6620     -40.2471       1.5526  EMA:10, RSI:6, RSI_MA:20, SL Candles:6\n",
      "2022     -46.0372          289  34.6021                3.2669             -1.9721    -114.5658      -0.4018  EMA:10, RSI:6, RSI_MA:20, SL Candles:6\n",
      "2023     -49.8852          285  28.0702                3.6376             -1.6629     -80.4792      -0.6199  EMA:10, RSI:6, RSI_MA:20, SL Candles:6\n",
      "2024      31.8600          269  27.1375                5.1919             -1.7712    -116.9799       0.2724  EMA:10, RSI:6, RSI_MA:20, SL Candles:6\n",
      "2025      16.3617           15  53.3333                3.7053             -1.8972      -3.1347       5.2195  EMA:10, RSI:6, RSI_MA:20, SL Candles:6\n",
      "Overall   51.5536         1929  32.1928                3.7223             -1.7278    -198.6207       0.2596  EMA:10, RSI:6, RSI_MA:20, SL Candles:6\n",
      "EMA:10, RSI:6, RSI_MA:20, SL Candles:8\n"
     ]
    },
    {
     "name": "stderr",
     "output_type": "stream",
     "text": [
      "/tmp/ipykernel_33520/419236688.py:151: FutureWarning: Setting an item of incompatible dtype is deprecated and will raise an error in a future version of pandas. Value 'RSI Upmove' has dtype incompatible with float64, please explicitly cast to a compatible dtype first.\n",
      "  tradebook_short.loc[\n"
     ]
    },
    {
     "name": "stdout",
     "output_type": "stream",
     "text": [
      "        Total ROI Total Trades Win Rate Avg Profit% per Trade Avg Loss% per Trade Max Drawdown ROI/DD Ratio                               Variation\n",
      "2017            0            0      NaN                   NaN                 NaN          NaN          NaN  EMA:10, RSI:6, RSI_MA:20, SL Candles:8\n",
      "2018     -28.2332          260  34.2308                2.6609             -1.5500     -88.5742      -0.3188  EMA:10, RSI:6, RSI_MA:20, SL Candles:8\n",
      "2019       6.7375          257  33.0739                3.1843             -1.5345     -64.6351       0.1042  EMA:10, RSI:6, RSI_MA:20, SL Candles:8\n",
      "2020      46.4641          276  34.0580                3.5323             -1.5691     -55.7827       0.8329  EMA:10, RSI:6, RSI_MA:20, SL Candles:8\n",
      "2021      60.0155          275  33.8182                3.6284             -1.5243     -45.4651       1.3200  EMA:10, RSI:6, RSI_MA:20, SL Candles:8\n",
      "2022     -34.2205          289  34.6021                3.1105             -1.8268    -102.9408      -0.3324  EMA:10, RSI:6, RSI_MA:20, SL Candles:8\n",
      "2023     -25.4679          284  28.1690                3.3467             -1.4373     -64.1516      -0.3970  EMA:10, RSI:6, RSI_MA:20, SL Candles:8\n",
      "2024      34.4381          268  27.2388                4.5837             -1.5393    -101.4867       0.3393  EMA:10, RSI:6, RSI_MA:20, SL Candles:8\n",
      "2025      16.5686           15  53.3333                3.6447             -1.7984      -3.1281       5.2967  EMA:10, RSI:6, RSI_MA:20, SL Candles:8\n",
      "Overall   76.3022         1924  32.3285                3.4076             -1.5693    -146.9770       0.5191  EMA:10, RSI:6, RSI_MA:20, SL Candles:8\n",
      "EMA:10, RSI:6, RSI_MA:20, SL Candles:10\n"
     ]
    },
    {
     "name": "stderr",
     "output_type": "stream",
     "text": [
      "/tmp/ipykernel_33520/419236688.py:151: FutureWarning: Setting an item of incompatible dtype is deprecated and will raise an error in a future version of pandas. Value 'RSI Upmove' has dtype incompatible with float64, please explicitly cast to a compatible dtype first.\n",
      "  tradebook_short.loc[\n"
     ]
    },
    {
     "name": "stdout",
     "output_type": "stream",
     "text": [
      "        Total ROI Total Trades Win Rate Avg Profit% per Trade Avg Loss% per Trade Max Drawdown ROI/DD Ratio                                Variation\n",
      "2017            0            0      NaN                   NaN                 NaN          NaN          NaN  EMA:10, RSI:6, RSI_MA:20, SL Candles:10\n",
      "2018     -13.2966          259  34.7490                2.4908             -1.4051     -71.5910      -0.1857  EMA:10, RSI:6, RSI_MA:20, SL Candles:10\n",
      "2019     -16.8393          257  33.0739                2.7531             -1.4584     -61.8389      -0.2723  EMA:10, RSI:6, RSI_MA:20, SL Candles:10\n",
      "2020      39.9211          276  34.0580                3.2267             -1.4472     -72.6960       0.5492  EMA:10, RSI:6, RSI_MA:20, SL Candles:10\n",
      "2021      55.5018          275  33.8182                3.3529             -1.4083     -41.1229       1.3497  EMA:10, RSI:6, RSI_MA:20, SL Candles:10\n",
      "2022     -40.9960          289  34.6021                2.8487             -1.7242    -102.8339      -0.3987  EMA:10, RSI:6, RSI_MA:20, SL Candles:10\n",
      "2023     -19.1344          282  28.3688                3.0114             -1.2873     -53.9143      -0.3549  EMA:10, RSI:6, RSI_MA:20, SL Candles:10\n",
      "2024      31.4501          268  27.2388                4.3624             -1.4718    -101.4246       0.3101  EMA:10, RSI:6, RSI_MA:20, SL Candles:10\n",
      "2025      16.7432           15  53.3333                3.5925             -1.7139      -3.1281       5.3525  EMA:10, RSI:6, RSI_MA:20, SL Candles:10\n",
      "Overall   53.3498         1921  32.4310                3.1241             -1.4583    -141.2370       0.3777  EMA:10, RSI:6, RSI_MA:20, SL Candles:10\n",
      "EMA:10, RSI:6, RSI_MA:25, SL Candles:2\n"
     ]
    },
    {
     "name": "stderr",
     "output_type": "stream",
     "text": [
      "/tmp/ipykernel_33520/419236688.py:151: FutureWarning: Setting an item of incompatible dtype is deprecated and will raise an error in a future version of pandas. Value 'RSI Upmove' has dtype incompatible with float64, please explicitly cast to a compatible dtype first.\n",
      "  tradebook_short.loc[\n"
     ]
    },
    {
     "name": "stdout",
     "output_type": "stream",
     "text": [
      "EMA:10, RSI:6, RSI_MA:25, SL Candles:4\n"
     ]
    },
    {
     "name": "stderr",
     "output_type": "stream",
     "text": [
      "/tmp/ipykernel_33520/419236688.py:151: FutureWarning: Setting an item of incompatible dtype is deprecated and will raise an error in a future version of pandas. Value 'RSI Upmove' has dtype incompatible with float64, please explicitly cast to a compatible dtype first.\n",
      "  tradebook_short.loc[\n"
     ]
    },
    {
     "name": "stdout",
     "output_type": "stream",
     "text": [
      "        Total ROI Total Trades Win Rate Avg Profit% per Trade Avg Loss% per Trade Max Drawdown ROI/DD Ratio                               Variation\n",
      "2017            0            0      NaN                   NaN                 NaN          NaN          NaN  EMA:10, RSI:6, RSI_MA:25, SL Candles:4\n",
      "2018     -20.4877          252  31.3492                3.7190             -1.8167     -53.5472      -0.3826  EMA:10, RSI:6, RSI_MA:25, SL Candles:4\n",
      "2019     -35.7417          244  31.5574                3.5049             -1.8300     -81.0019      -0.4412  EMA:10, RSI:6, RSI_MA:25, SL Candles:4\n",
      "2020     107.5222          259  33.5907                4.5521             -1.6774     -33.4760       3.2119  EMA:10, RSI:6, RSI_MA:25, SL Candles:4\n",
      "2021      61.4369          282  31.5603                4.7940             -1.8924     -70.5356       0.8710  EMA:10, RSI:6, RSI_MA:25, SL Candles:4\n",
      "2022     -54.5485          278  32.0144                4.0653             -2.2030    -130.4263      -0.4182  EMA:10, RSI:6, RSI_MA:25, SL Candles:4\n",
      "2023     -74.4632          277  29.2419                3.8120             -1.9553    -128.0944      -0.5813  EMA:10, RSI:6, RSI_MA:25, SL Candles:4\n",
      "2024      10.6988          264  25.0000                6.3227             -2.0535    -118.5418       0.0903  EMA:10, RSI:6, RSI_MA:25, SL Candles:4\n",
      "2025      15.5874           14  35.7143                5.8636             -1.5257      -6.9686       2.2368  EMA:10, RSI:6, RSI_MA:25, SL Candles:4\n",
      "Overall   10.0042         1870  30.6417                4.3692             -1.9226    -238.8981       0.0419  EMA:10, RSI:6, RSI_MA:25, SL Candles:4\n",
      "EMA:10, RSI:6, RSI_MA:25, SL Candles:6\n"
     ]
    },
    {
     "name": "stderr",
     "output_type": "stream",
     "text": [
      "/tmp/ipykernel_33520/419236688.py:151: FutureWarning: Setting an item of incompatible dtype is deprecated and will raise an error in a future version of pandas. Value 'RSI Upmove' has dtype incompatible with float64, please explicitly cast to a compatible dtype first.\n",
      "  tradebook_short.loc[\n"
     ]
    },
    {
     "name": "stdout",
     "output_type": "stream",
     "text": [
      "EMA:10, RSI:6, RSI_MA:25, SL Candles:8\n"
     ]
    },
    {
     "name": "stderr",
     "output_type": "stream",
     "text": [
      "/tmp/ipykernel_33520/419236688.py:151: FutureWarning: Setting an item of incompatible dtype is deprecated and will raise an error in a future version of pandas. Value 'RSI Upmove' has dtype incompatible with float64, please explicitly cast to a compatible dtype first.\n",
      "  tradebook_short.loc[\n"
     ]
    },
    {
     "name": "stdout",
     "output_type": "stream",
     "text": [
      "        Total ROI Total Trades Win Rate Avg Profit% per Trade Avg Loss% per Trade Max Drawdown ROI/DD Ratio                               Variation\n",
      "2017            0            0      NaN                   NaN                 NaN          NaN          NaN  EMA:10, RSI:6, RSI_MA:25, SL Candles:8\n",
      "2018     -27.4999          250  31.6000                2.9959             -1.5449     -62.9004      -0.4372  EMA:10, RSI:6, RSI_MA:25, SL Candles:8\n",
      "2019     -16.5170          243  31.6872                3.0613             -1.5195     -66.3872      -0.2488  EMA:10, RSI:6, RSI_MA:25, SL Candles:8\n",
      "2020      68.4928          257  33.8521                3.4480             -1.3617     -40.3110       1.6991  EMA:10, RSI:6, RSI_MA:25, SL Candles:8\n",
      "2021      44.9189          282  31.5603                3.8868             -1.5596     -70.8589       0.6339  EMA:10, RSI:6, RSI_MA:25, SL Candles:8\n",
      "2022     -40.5193          277  32.1300                3.4427             -1.8453    -115.7273      -0.3501  EMA:10, RSI:6, RSI_MA:25, SL Candles:8\n",
      "2023     -62.7411          274  29.5620                2.7663             -1.4861    -107.2449      -0.5850  EMA:10, RSI:6, RSI_MA:25, SL Candles:8\n",
      "2024      36.0289          262  25.1908                5.1747             -1.5587     -83.7390       0.4303  EMA:10, RSI:6, RSI_MA:25, SL Candles:8\n",
      "2025      12.7382           14  35.7143                4.9217             -1.3189      -5.1342       2.4810  EMA:10, RSI:6, RSI_MA:25, SL Candles:8\n",
      "Overall   14.9014         1859  30.8230                3.5164             -1.5552    -175.4536       0.0849  EMA:10, RSI:6, RSI_MA:25, SL Candles:8\n",
      "EMA:10, RSI:6, RSI_MA:25, SL Candles:10\n"
     ]
    },
    {
     "name": "stderr",
     "output_type": "stream",
     "text": [
      "/tmp/ipykernel_33520/419236688.py:151: FutureWarning: Setting an item of incompatible dtype is deprecated and will raise an error in a future version of pandas. Value 'RSI Upmove' has dtype incompatible with float64, please explicitly cast to a compatible dtype first.\n",
      "  tradebook_short.loc[\n"
     ]
    },
    {
     "name": "stdout",
     "output_type": "stream",
     "text": [
      "EMA:10, RSI:6, RSI_MA:30, SL Candles:2\n"
     ]
    },
    {
     "name": "stderr",
     "output_type": "stream",
     "text": [
      "/tmp/ipykernel_33520/419236688.py:151: FutureWarning: Setting an item of incompatible dtype is deprecated and will raise an error in a future version of pandas. Value 'RSI Upmove' has dtype incompatible with float64, please explicitly cast to a compatible dtype first.\n",
      "  tradebook_short.loc[\n"
     ]
    },
    {
     "name": "stdout",
     "output_type": "stream",
     "text": [
      "        Total ROI Total Trades Win Rate Avg Profit% per Trade Avg Loss% per Trade Max Drawdown ROI/DD Ratio                               Variation\n",
      "2017            0            0      NaN                   NaN                 NaN          NaN          NaN  EMA:10, RSI:6, RSI_MA:30, SL Candles:2\n",
      "2018     -33.1652          255  29.4118                4.6950             -2.1405     -85.2260      -0.3891  EMA:10, RSI:6, RSI_MA:30, SL Candles:2\n",
      "2019     -30.3180          246  30.0813                4.3741             -2.0581    -100.1093      -0.3028  EMA:10, RSI:6, RSI_MA:30, SL Candles:2\n",
      "2020      95.7957          259  35.9073                4.7642             -2.0920     -45.4072       2.1097  EMA:10, RSI:6, RSI_MA:30, SL Candles:2\n",
      "2021      81.3809          271  29.5203                6.2008             -2.1711     -64.4329       1.2630  EMA:10, RSI:6, RSI_MA:30, SL Candles:2\n",
      "2022     -64.5120          278  30.2158                5.1845             -2.5774    -149.3133      -0.4321  EMA:10, RSI:6, RSI_MA:30, SL Candles:2\n",
      "2023      19.7886          269  28.9963                6.0555             -2.3693    -123.8583       0.1598  EMA:10, RSI:6, RSI_MA:30, SL Candles:2\n",
      "2024     -10.8697          249  26.5060                6.2180             -2.3019    -143.8466      -0.0756  EMA:10, RSI:6, RSI_MA:30, SL Candles:2\n",
      "2025      12.3689           14  35.7143                5.3596             -1.6032      -7.6670       1.6133  EMA:10, RSI:6, RSI_MA:30, SL Candles:2\n",
      "Overall   70.4692         1841  30.1467                5.3332             -2.2469    -192.7208       0.3657  EMA:10, RSI:6, RSI_MA:30, SL Candles:2\n",
      "EMA:10, RSI:6, RSI_MA:30, SL Candles:4\n"
     ]
    },
    {
     "name": "stderr",
     "output_type": "stream",
     "text": [
      "/tmp/ipykernel_33520/419236688.py:151: FutureWarning: Setting an item of incompatible dtype is deprecated and will raise an error in a future version of pandas. Value 'RSI Upmove' has dtype incompatible with float64, please explicitly cast to a compatible dtype first.\n",
      "  tradebook_short.loc[\n"
     ]
    },
    {
     "name": "stdout",
     "output_type": "stream",
     "text": [
      "        Total ROI Total Trades Win Rate Avg Profit% per Trade Avg Loss% per Trade Max Drawdown ROI/DD Ratio                               Variation\n",
      "2017            0            0      NaN                   NaN                 NaN          NaN          NaN  EMA:10, RSI:6, RSI_MA:30, SL Candles:4\n",
      "2018     -24.9224          252  30.5556                3.6955             -1.7684     -59.4533      -0.4192  EMA:10, RSI:6, RSI_MA:30, SL Candles:4\n",
      "2019     -23.3105          246  30.0813                3.8548             -1.7940     -91.0896      -0.2559  EMA:10, RSI:6, RSI_MA:30, SL Candles:4\n",
      "2020      72.9499          258  36.0465                3.9248             -1.7700     -37.6982       1.9351  EMA:10, RSI:6, RSI_MA:30, SL Candles:4\n",
      "2021      85.0276          269  30.1115                5.2744             -1.8202     -57.6904       1.4739  EMA:10, RSI:6, RSI_MA:30, SL Candles:4\n",
      "2022     -70.3190          273  30.7692                4.2601             -2.2654    -153.7087      -0.4575  EMA:10, RSI:6, RSI_MA:30, SL Candles:4\n",
      "2023      19.2741          267  29.5880                5.0981             -2.0398    -117.8037       0.1636  EMA:10, RSI:6, RSI_MA:30, SL Candles:4\n",
      "2024      32.9221          248  27.0161                5.6839             -1.9221     -84.2564       0.3907  EMA:10, RSI:6, RSI_MA:30, SL Candles:4\n",
      "2025       9.8306           14  35.7143                4.7162             -1.5278      -7.1341       1.3780  EMA:10, RSI:6, RSI_MA:30, SL Candles:4\n",
      "Overall  101.4524         1827  30.6513                4.5126             -1.9144    -169.9140       0.5971  EMA:10, RSI:6, RSI_MA:30, SL Candles:4\n",
      "EMA:10, RSI:6, RSI_MA:30, SL Candles:6\n"
     ]
    },
    {
     "name": "stderr",
     "output_type": "stream",
     "text": [
      "/tmp/ipykernel_33520/419236688.py:151: FutureWarning: Setting an item of incompatible dtype is deprecated and will raise an error in a future version of pandas. Value 'RSI Upmove' has dtype incompatible with float64, please explicitly cast to a compatible dtype first.\n",
      "  tradebook_short.loc[\n"
     ]
    },
    {
     "name": "stdout",
     "output_type": "stream",
     "text": [
      "        Total ROI Total Trades Win Rate Avg Profit% per Trade Avg Loss% per Trade Max Drawdown ROI/DD Ratio                               Variation\n",
      "2017            0            0      NaN                   NaN                 NaN          NaN          NaN  EMA:10, RSI:6, RSI_MA:30, SL Candles:6\n",
      "2018     -24.2168          250  30.8000                3.3540             -1.6328     -52.7612      -0.4590  EMA:10, RSI:6, RSI_MA:30, SL Candles:6\n",
      "2019      -9.5169          245  30.2041                3.6868             -1.6511     -83.2121      -0.1144  EMA:10, RSI:6, RSI_MA:30, SL Candles:6\n",
      "2020      65.7919          258  36.0465                3.4758             -1.5604     -29.9084       2.1998  EMA:10, RSI:6, RSI_MA:30, SL Candles:6\n",
      "2021      93.0662          268  30.2239                4.8415             -1.5994     -53.4428       1.7414  EMA:10, RSI:6, RSI_MA:30, SL Candles:6\n",
      "2022     -62.3262          273  30.7692                3.8110             -2.0235    -143.3355      -0.4348  EMA:10, RSI:6, RSI_MA:30, SL Candles:6\n",
      "2023     -49.4312          266  29.6992                3.6713             -1.8153    -110.3958      -0.4478  EMA:10, RSI:6, RSI_MA:30, SL Candles:6\n",
      "2024      37.5214          247  27.1255                5.0942             -1.6877     -78.4871       0.4781  EMA:10, RSI:6, RSI_MA:30, SL Candles:6\n",
      "2025       8.1538           14  35.7143                4.0622             -1.3508      -5.5410       1.4715  EMA:10, RSI:6, RSI_MA:30, SL Candles:6\n",
      "Overall   59.0422         1821  30.7523                3.9612             -1.7123    -190.1609       0.3105  EMA:10, RSI:6, RSI_MA:30, SL Candles:6\n",
      "EMA:10, RSI:6, RSI_MA:30, SL Candles:8\n"
     ]
    },
    {
     "name": "stderr",
     "output_type": "stream",
     "text": [
      "/tmp/ipykernel_33520/419236688.py:151: FutureWarning: Setting an item of incompatible dtype is deprecated and will raise an error in a future version of pandas. Value 'RSI Upmove' has dtype incompatible with float64, please explicitly cast to a compatible dtype first.\n",
      "  tradebook_short.loc[\n"
     ]
    },
    {
     "name": "stdout",
     "output_type": "stream",
     "text": [
      "        Total ROI Total Trades Win Rate Avg Profit% per Trade Avg Loss% per Trade Max Drawdown ROI/DD Ratio                               Variation\n",
      "2017            0            0      NaN                   NaN                 NaN          NaN          NaN  EMA:10, RSI:6, RSI_MA:30, SL Candles:8\n",
      "2018     -32.8700          250  30.8000                2.9501             -1.5030     -52.3360      -0.6281  EMA:10, RSI:6, RSI_MA:30, SL Candles:8\n",
      "2019     -17.9366          245  30.2041                3.3028             -1.5342     -75.4530      -0.2377  EMA:10, RSI:6, RSI_MA:30, SL Candles:8\n",
      "2020      48.6070          258  36.0465                3.0610             -1.4307     -30.2866       1.6049  EMA:10, RSI:6, RSI_MA:30, SL Candles:8\n",
      "2021      86.9561          268  30.2239                4.4199             -1.4495     -60.7395       1.4316  EMA:10, RSI:6, RSI_MA:30, SL Candles:8\n",
      "2022     -53.3621          273  30.7692                3.5648             -1.8667    -129.2737      -0.4128  EMA:10, RSI:6, RSI_MA:30, SL Candles:8\n",
      "2023     -12.3452          264  29.9242                3.4568             -1.5429     -86.9420      -0.1420  EMA:10, RSI:6, RSI_MA:30, SL Candles:8\n",
      "2024      46.1003          246  27.2358                4.6210             -1.4721     -65.4578       0.7043  EMA:10, RSI:6, RSI_MA:30, SL Candles:8\n",
      "2025       7.9273           14  35.7143                3.9622             -1.3204      -5.5695       1.4233  EMA:10, RSI:6, RSI_MA:30, SL Candles:8\n",
      "Overall   73.0769         1818  30.8031                3.6003             -1.5446    -133.3091       0.5482  EMA:10, RSI:6, RSI_MA:30, SL Candles:8\n",
      "EMA:10, RSI:6, RSI_MA:30, SL Candles:10\n"
     ]
    },
    {
     "name": "stderr",
     "output_type": "stream",
     "text": [
      "/tmp/ipykernel_33520/419236688.py:151: FutureWarning: Setting an item of incompatible dtype is deprecated and will raise an error in a future version of pandas. Value 'RSI Upmove' has dtype incompatible with float64, please explicitly cast to a compatible dtype first.\n",
      "  tradebook_short.loc[\n"
     ]
    },
    {
     "name": "stdout",
     "output_type": "stream",
     "text": [
      "        Total ROI Total Trades Win Rate Avg Profit% per Trade Avg Loss% per Trade Max Drawdown ROI/DD Ratio                                Variation\n",
      "2017            0            0      NaN                   NaN                 NaN          NaN          NaN  EMA:10, RSI:6, RSI_MA:30, SL Candles:10\n",
      "2018     -16.7810          250  30.8000                2.8129             -1.3490     -43.4510      -0.3862  EMA:10, RSI:6, RSI_MA:30, SL Candles:10\n",
      "2019     -35.6272          245  30.2041                2.8644             -1.4479     -71.6610      -0.4972  EMA:10, RSI:6, RSI_MA:30, SL Candles:10\n",
      "2020      48.6483          258  36.0465                2.8362             -1.3038     -30.4999       1.5950  EMA:10, RSI:6, RSI_MA:30, SL Candles:10\n",
      "2021      94.2348          268  30.2239                4.1957             -1.3134     -52.8745       1.7822  EMA:10, RSI:6, RSI_MA:30, SL Candles:10\n",
      "2022     -84.8597          273  30.7692                2.9332             -1.7526    -127.6362      -0.6649  EMA:10, RSI:6, RSI_MA:30, SL Candles:10\n",
      "2023     -18.3671          262  30.1527                2.9350             -1.3674     -74.0940      -0.2479  EMA:10, RSI:6, RSI_MA:30, SL Candles:10\n",
      "2024      42.1441          246  27.2358                4.3568             -1.3953     -71.0028       0.5936  EMA:10, RSI:6, RSI_MA:30, SL Candles:10\n",
      "2025       8.4865           14  35.7143                3.9400             -1.2459      -5.0314       1.6867  EMA:10, RSI:6, RSI_MA:30, SL Candles:10\n",
      "Overall   37.8786         1816  30.8370                3.2536             -1.4205    -137.4976       0.2755  EMA:10, RSI:6, RSI_MA:30, SL Candles:10\n",
      "EMA:10, RSI:6, RSI_MA:35, SL Candles:2\n"
     ]
    },
    {
     "name": "stderr",
     "output_type": "stream",
     "text": [
      "/tmp/ipykernel_33520/419236688.py:151: FutureWarning: Setting an item of incompatible dtype is deprecated and will raise an error in a future version of pandas. Value 'RSI Upmove' has dtype incompatible with float64, please explicitly cast to a compatible dtype first.\n",
      "  tradebook_short.loc[\n"
     ]
    },
    {
     "name": "stdout",
     "output_type": "stream",
     "text": [
      "        Total ROI Total Trades Win Rate Avg Profit% per Trade Avg Loss% per Trade Max Drawdown ROI/DD Ratio                               Variation\n",
      "2017            0            0      NaN                   NaN                 NaN          NaN          NaN  EMA:10, RSI:6, RSI_MA:35, SL Candles:2\n",
      "2018     -60.7110          256  28.9062                4.5672             -2.1906     -87.4055      -0.6946  EMA:10, RSI:6, RSI_MA:35, SL Candles:2\n",
      "2019     -13.0700          240  30.4167                4.4146             -2.0080     -94.4918      -0.1383  EMA:10, RSI:6, RSI_MA:35, SL Candles:2\n",
      "2020     116.2775          248  36.6935                4.7443             -2.0092     -44.0951       2.6370  EMA:10, RSI:6, RSI_MA:35, SL Candles:2\n",
      "2021      91.0479          254  31.4961                5.9563             -2.2153     -55.0626       1.6535  EMA:10, RSI:6, RSI_MA:35, SL Candles:2\n",
      "2022     -53.1535          272  29.7794                5.0347             -2.4134    -135.9346      -0.3910  EMA:10, RSI:6, RSI_MA:35, SL Candles:2\n",
      "2023       7.4071          266  28.5714                5.9673             -2.3479    -138.4507       0.0535  EMA:10, RSI:6, RSI_MA:35, SL Candles:2\n",
      "2024     -84.0671          256  24.6094                5.8598             -2.3484    -181.9577      -0.4620  EMA:10, RSI:6, RSI_MA:35, SL Candles:2\n",
      "2025       2.2846           14  42.8571                4.3876             -3.0051     -15.4339       0.1480  EMA:10, RSI:6, RSI_MA:35, SL Candles:2\n",
      "Overall    6.0155         1806  30.1218                5.1936             -2.2340    -246.3328       0.0244  EMA:10, RSI:6, RSI_MA:35, SL Candles:2\n",
      "EMA:10, RSI:6, RSI_MA:35, SL Candles:4\n"
     ]
    },
    {
     "name": "stderr",
     "output_type": "stream",
     "text": [
      "/tmp/ipykernel_33520/419236688.py:151: FutureWarning: Setting an item of incompatible dtype is deprecated and will raise an error in a future version of pandas. Value 'RSI Upmove' has dtype incompatible with float64, please explicitly cast to a compatible dtype first.\n",
      "  tradebook_short.loc[\n"
     ]
    },
    {
     "name": "stdout",
     "output_type": "stream",
     "text": [
      "        Total ROI Total Trades Win Rate Avg Profit% per Trade Avg Loss% per Trade Max Drawdown ROI/DD Ratio                               Variation\n",
      "2017            0            0      NaN                   NaN                 NaN          NaN          NaN  EMA:10, RSI:6, RSI_MA:35, SL Candles:4\n",
      "2018     -49.6035          253  30.0395                3.5743             -1.8150     -57.9489      -0.8560  EMA:10, RSI:6, RSI_MA:35, SL Candles:4\n",
      "2019      -5.9481          239  30.5439                3.9477             -1.7719     -87.3361      -0.0681  EMA:10, RSI:6, RSI_MA:35, SL Candles:4\n",
      "2020     100.2538          246  36.9919                3.9525             -1.6737     -45.1101       2.2224  EMA:10, RSI:6, RSI_MA:35, SL Candles:4\n",
      "2021      96.2802          251  32.2709                5.0792             -1.8537     -42.1829       2.2824  EMA:10, RSI:6, RSI_MA:35, SL Candles:4\n",
      "2022     -56.6265          267  30.3371                4.1327             -2.1042    -143.1518      -0.3956  EMA:10, RSI:6, RSI_MA:35, SL Candles:4\n",
      "2023      30.2891          264  29.1667                5.3229             -2.0298    -134.0536       0.2259  EMA:10, RSI:6, RSI_MA:35, SL Candles:4\n",
      "2024     -14.1817          252  25.0000                5.5597             -1.9283    -109.2011      -0.1299  EMA:10, RSI:6, RSI_MA:35, SL Candles:4\n",
      "2025       1.3584           14  42.8571                3.9065             -2.7601     -15.0080       0.0905  EMA:10, RSI:6, RSI_MA:35, SL Candles:4\n",
      "Overall  101.8218         1786  30.6831                4.4694             -1.8961    -165.9252       0.6137  EMA:10, RSI:6, RSI_MA:35, SL Candles:4\n",
      "EMA:10, RSI:6, RSI_MA:35, SL Candles:6\n"
     ]
    },
    {
     "name": "stderr",
     "output_type": "stream",
     "text": [
      "/tmp/ipykernel_33520/419236688.py:151: FutureWarning: Setting an item of incompatible dtype is deprecated and will raise an error in a future version of pandas. Value 'RSI Upmove' has dtype incompatible with float64, please explicitly cast to a compatible dtype first.\n",
      "  tradebook_short.loc[\n"
     ]
    },
    {
     "name": "stdout",
     "output_type": "stream",
     "text": [
      "        Total ROI Total Trades Win Rate Avg Profit% per Trade Avg Loss% per Trade Max Drawdown ROI/DD Ratio                               Variation\n",
      "2017            0            0      NaN                   NaN                 NaN          NaN          NaN  EMA:10, RSI:6, RSI_MA:35, SL Candles:6\n",
      "2018     -44.5643          251  30.2789                3.2649             -1.6725     -54.8977      -0.8118  EMA:10, RSI:6, RSI_MA:35, SL Candles:6\n",
      "2019      12.5878          238  30.6723                3.8122             -1.6103     -75.4122       0.1669  EMA:10, RSI:6, RSI_MA:35, SL Candles:6\n",
      "2020      79.2610          246  36.9919                3.4445             -1.5109     -33.8892       2.3388  EMA:10, RSI:6, RSI_MA:35, SL Candles:6\n",
      "2021      98.0210          250  32.4000                4.5927             -1.6212     -41.8779       2.3406  EMA:10, RSI:6, RSI_MA:35, SL Candles:6\n",
      "2022     -48.1643          266  30.4511                3.6672             -1.8660    -131.8708      -0.3652  EMA:10, RSI:6, RSI_MA:35, SL Candles:6\n",
      "2023     -23.8437          263  29.2776                4.0473             -1.8037    -115.9682      -0.2056  EMA:10, RSI:6, RSI_MA:35, SL Candles:6\n",
      "2024       4.0873          251  25.0996                5.1658             -1.7093    -103.5399       0.0395  EMA:10, RSI:6, RSI_MA:35, SL Candles:6\n",
      "2025       4.0034           14  42.8571                3.3431             -2.0069      -9.0217       0.4438  EMA:10, RSI:6, RSI_MA:35, SL Candles:6\n",
      "Overall   81.3881         1779  30.8038                3.9527             -1.6935    -177.6267       0.4582  EMA:10, RSI:6, RSI_MA:35, SL Candles:6\n",
      "EMA:10, RSI:6, RSI_MA:35, SL Candles:8\n"
     ]
    },
    {
     "name": "stderr",
     "output_type": "stream",
     "text": [
      "/tmp/ipykernel_33520/419236688.py:151: FutureWarning: Setting an item of incompatible dtype is deprecated and will raise an error in a future version of pandas. Value 'RSI Upmove' has dtype incompatible with float64, please explicitly cast to a compatible dtype first.\n",
      "  tradebook_short.loc[\n"
     ]
    },
    {
     "name": "stdout",
     "output_type": "stream",
     "text": [
      "        Total ROI Total Trades Win Rate Avg Profit% per Trade Avg Loss% per Trade Max Drawdown ROI/DD Ratio                               Variation\n",
      "2017            0            0      NaN                   NaN                 NaN          NaN          NaN  EMA:10, RSI:6, RSI_MA:35, SL Candles:8\n",
      "2018     -47.6334          250  30.4000                2.8672             -1.5261     -62.6133      -0.7608  EMA:10, RSI:6, RSI_MA:35, SL Candles:8\n",
      "2019       2.6421          238  30.6723                3.3825             -1.4805     -67.8225       0.0390  EMA:10, RSI:6, RSI_MA:35, SL Candles:8\n",
      "2020      63.6335          246  36.9919                3.0560             -1.3836     -29.3864       2.1654  EMA:10, RSI:6, RSI_MA:35, SL Candles:8\n",
      "2021      99.9204          250  32.4000                4.3120             -1.4755     -42.7490       2.3374  EMA:10, RSI:6, RSI_MA:35, SL Candles:8\n",
      "2022     -36.7067          266  30.4511                3.4307             -1.7005    -116.1195      -0.3161  EMA:10, RSI:6, RSI_MA:35, SL Candles:8\n",
      "2023      -6.6428          262  29.3893                3.7821             -1.6101    -104.6316      -0.0635  EMA:10, RSI:6, RSI_MA:35, SL Candles:8\n",
      "2024      20.2303          250  25.2000                4.7041             -1.4766     -86.0820       0.2350  EMA:10, RSI:6, RSI_MA:35, SL Candles:8\n",
      "2025       5.1317           14  42.8571                3.2598             -1.8034      -7.6695       0.6691  EMA:10, RSI:6, RSI_MA:35, SL Candles:8\n",
      "Overall  100.5752         1776  30.8559                3.6081             -1.5282    -126.1007       0.7976  EMA:10, RSI:6, RSI_MA:35, SL Candles:8\n",
      "EMA:10, RSI:6, RSI_MA:35, SL Candles:10\n"
     ]
    },
    {
     "name": "stderr",
     "output_type": "stream",
     "text": [
      "/tmp/ipykernel_33520/419236688.py:151: FutureWarning: Setting an item of incompatible dtype is deprecated and will raise an error in a future version of pandas. Value 'RSI Upmove' has dtype incompatible with float64, please explicitly cast to a compatible dtype first.\n",
      "  tradebook_short.loc[\n"
     ]
    },
    {
     "name": "stdout",
     "output_type": "stream",
     "text": [
      "        Total ROI Total Trades Win Rate Avg Profit% per Trade Avg Loss% per Trade Max Drawdown ROI/DD Ratio                                Variation\n",
      "2017            0            0      NaN                   NaN                 NaN          NaN          NaN  EMA:10, RSI:6, RSI_MA:35, SL Candles:10\n",
      "2018     -26.2533          249  30.5221                2.7585             -1.3636     -46.3530      -0.5664  EMA:10, RSI:6, RSI_MA:35, SL Candles:10\n",
      "2019      -9.5675          237  30.8017                2.9527             -1.3727     -63.7078      -0.1502  EMA:10, RSI:6, RSI_MA:35, SL Candles:10\n",
      "2020      67.9344          246  36.9919                2.9138             -1.2724     -25.1948       2.6964  EMA:10, RSI:6, RSI_MA:35, SL Candles:10\n",
      "2021      98.8051          250  32.4000                4.0171             -1.3407     -38.2079       2.5860  EMA:10, RSI:6, RSI_MA:35, SL Candles:10\n",
      "2022     -66.4325          266  30.4511                2.7862             -1.5790    -106.8275      -0.6219  EMA:10, RSI:6, RSI_MA:35, SL Candles:10\n",
      "2023     -14.6574          260  29.6154                3.2373             -1.4422     -87.8556      -0.1668  EMA:10, RSI:6, RSI_MA:35, SL Candles:10\n",
      "2024      15.2096          250  25.2000                4.4077             -1.4036     -89.2638       0.1704  EMA:10, RSI:6, RSI_MA:35, SL Candles:10\n",
      "2025       5.8867           14  42.8571                3.2412             -1.6951      -6.9782       0.8436  EMA:10, RSI:6, RSI_MA:35, SL Candles:10\n",
      "Overall   70.9251         1772  30.9255                3.2624             -1.4027    -128.2799       0.5529  EMA:10, RSI:6, RSI_MA:35, SL Candles:10\n",
      "EMA:10, RSI:9, RSI_MA:5, SL Candles:2\n"
     ]
    },
    {
     "name": "stderr",
     "output_type": "stream",
     "text": [
      "/tmp/ipykernel_33520/419236688.py:137: FutureWarning: Setting an item of incompatible dtype is deprecated and will raise an error in a future version of pandas. Value 'Trailing SL Hit' has dtype incompatible with float64, please explicitly cast to a compatible dtype first.\n",
      "  tradebook_short.loc[\n"
     ]
    },
    {
     "name": "stdout",
     "output_type": "stream",
     "text": [
      "EMA:10, RSI:9, RSI_MA:5, SL Candles:4\n"
     ]
    },
    {
     "name": "stderr",
     "output_type": "stream",
     "text": [
      "/tmp/ipykernel_33520/419236688.py:137: FutureWarning: Setting an item of incompatible dtype is deprecated and will raise an error in a future version of pandas. Value 'Trailing SL Hit' has dtype incompatible with float64, please explicitly cast to a compatible dtype first.\n",
      "  tradebook_short.loc[\n"
     ]
    },
    {
     "name": "stdout",
     "output_type": "stream",
     "text": [
      "EMA:10, RSI:9, RSI_MA:5, SL Candles:6\n"
     ]
    },
    {
     "name": "stderr",
     "output_type": "stream",
     "text": [
      "/tmp/ipykernel_33520/419236688.py:137: FutureWarning: Setting an item of incompatible dtype is deprecated and will raise an error in a future version of pandas. Value 'Trailing SL Hit' has dtype incompatible with float64, please explicitly cast to a compatible dtype first.\n",
      "  tradebook_short.loc[\n"
     ]
    },
    {
     "name": "stdout",
     "output_type": "stream",
     "text": [
      "EMA:10, RSI:9, RSI_MA:5, SL Candles:8\n"
     ]
    },
    {
     "name": "stderr",
     "output_type": "stream",
     "text": [
      "/tmp/ipykernel_33520/419236688.py:137: FutureWarning: Setting an item of incompatible dtype is deprecated and will raise an error in a future version of pandas. Value 'Trailing SL Hit' has dtype incompatible with float64, please explicitly cast to a compatible dtype first.\n",
      "  tradebook_short.loc[\n"
     ]
    },
    {
     "name": "stdout",
     "output_type": "stream",
     "text": [
      "EMA:10, RSI:9, RSI_MA:5, SL Candles:10\n"
     ]
    },
    {
     "name": "stderr",
     "output_type": "stream",
     "text": [
      "/tmp/ipykernel_33520/419236688.py:137: FutureWarning: Setting an item of incompatible dtype is deprecated and will raise an error in a future version of pandas. Value 'Trailing SL Hit' has dtype incompatible with float64, please explicitly cast to a compatible dtype first.\n",
      "  tradebook_short.loc[\n"
     ]
    },
    {
     "name": "stdout",
     "output_type": "stream",
     "text": [
      "EMA:10, RSI:9, RSI_MA:10, SL Candles:2\n"
     ]
    },
    {
     "name": "stderr",
     "output_type": "stream",
     "text": [
      "/tmp/ipykernel_33520/419236688.py:151: FutureWarning: Setting an item of incompatible dtype is deprecated and will raise an error in a future version of pandas. Value 'RSI Upmove' has dtype incompatible with float64, please explicitly cast to a compatible dtype first.\n",
      "  tradebook_short.loc[\n"
     ]
    },
    {
     "name": "stdout",
     "output_type": "stream",
     "text": [
      "        Total ROI Total Trades Win Rate Avg Profit% per Trade Avg Loss% per Trade Max Drawdown ROI/DD Ratio                               Variation\n",
      "2017            0            0      NaN                   NaN                 NaN          NaN          NaN  EMA:10, RSI:9, RSI_MA:10, SL Candles:2\n",
      "2018     -36.6208          302  30.7947                4.4175             -2.1409     -88.0452      -0.4159  EMA:10, RSI:9, RSI_MA:10, SL Candles:2\n",
      "2019      71.5593          272  34.5588                4.8666             -2.1680     -86.5698       0.8266  EMA:10, RSI:9, RSI_MA:10, SL Candles:2\n",
      "2020     169.8665          289  39.1003                5.0379             -2.2694     -47.7193       3.5597  EMA:10, RSI:9, RSI_MA:10, SL Candles:2\n",
      "2021      42.2383          304  32.2368                5.0344             -2.1899     -71.8325       0.5880  EMA:10, RSI:9, RSI_MA:10, SL Candles:2\n",
      "2022      -9.9779          320  35.3125                4.5009             -2.5052    -137.7619      -0.0724  EMA:10, RSI:9, RSI_MA:10, SL Candles:2\n",
      "2023    -107.9094          328  28.9634                4.8251             -2.4304    -174.1606      -0.6196  EMA:10, RSI:9, RSI_MA:10, SL Candles:2\n",
      "2024     -41.8261          296  32.4324                4.6488             -2.4406    -172.2479      -0.2428  EMA:10, RSI:9, RSI_MA:10, SL Candles:2\n",
      "2025      24.7923           21  61.9048                3.0648             -1.8813      -6.4892       3.8205  EMA:10, RSI:9, RSI_MA:10, SL Candles:2\n",
      "Overall  112.1221         2132  33.5366                4.7329             -2.3091    -303.4068       0.3695  EMA:10, RSI:9, RSI_MA:10, SL Candles:2\n",
      "EMA:10, RSI:9, RSI_MA:10, SL Candles:4\n"
     ]
    },
    {
     "name": "stderr",
     "output_type": "stream",
     "text": [
      "/tmp/ipykernel_33520/419236688.py:151: FutureWarning: Setting an item of incompatible dtype is deprecated and will raise an error in a future version of pandas. Value 'RSI Upmove' has dtype incompatible with float64, please explicitly cast to a compatible dtype first.\n",
      "  tradebook_short.loc[\n"
     ]
    },
    {
     "name": "stdout",
     "output_type": "stream",
     "text": [
      "        Total ROI Total Trades Win Rate Avg Profit% per Trade Avg Loss% per Trade Max Drawdown ROI/DD Ratio                               Variation\n",
      "2017            0            0      NaN                   NaN                 NaN          NaN          NaN  EMA:10, RSI:9, RSI_MA:10, SL Candles:4\n",
      "2018     -33.9847          300  31.3333                3.5678             -1.7930     -62.2997      -0.5455  EMA:10, RSI:9, RSI_MA:10, SL Candles:4\n",
      "2019      68.9279          270  34.8148                4.1658             -1.8333     -75.5987       0.9118  EMA:10, RSI:9, RSI_MA:10, SL Candles:4\n",
      "2020     138.3716          288  39.2361                4.0789             -1.8431     -46.9579       2.9467  EMA:10, RSI:9, RSI_MA:10, SL Candles:4\n",
      "2021      51.9229          300  32.6667                4.2796             -1.8192     -57.7345       0.8993  EMA:10, RSI:9, RSI_MA:10, SL Candles:4\n",
      "2022     -39.3674          315  36.1905                3.5521             -2.2105    -127.9850      -0.3076  EMA:10, RSI:9, RSI_MA:10, SL Candles:4\n",
      "2023     -68.8240          325  30.1538                3.9467             -2.0071    -143.2209      -0.4805  EMA:10, RSI:9, RSI_MA:10, SL Candles:4\n",
      "2024       9.6848          294  32.9932                4.1702             -2.0042    -106.9199       0.0906  EMA:10, RSI:9, RSI_MA:10, SL Candles:4\n",
      "2025      23.9322           21  61.9048                2.7842             -1.5328      -4.0435       5.9188  EMA:10, RSI:9, RSI_MA:10, SL Candles:4\n",
      "Overall  150.6633         2113  34.1221                3.9386             -1.9318    -212.5241       0.7089  EMA:10, RSI:9, RSI_MA:10, SL Candles:4\n",
      "EMA:10, RSI:9, RSI_MA:10, SL Candles:6\n"
     ]
    },
    {
     "name": "stderr",
     "output_type": "stream",
     "text": [
      "/tmp/ipykernel_33520/419236688.py:151: FutureWarning: Setting an item of incompatible dtype is deprecated and will raise an error in a future version of pandas. Value 'RSI Upmove' has dtype incompatible with float64, please explicitly cast to a compatible dtype first.\n",
      "  tradebook_short.loc[\n"
     ]
    },
    {
     "name": "stdout",
     "output_type": "stream",
     "text": [
      "        Total ROI Total Trades Win Rate Avg Profit% per Trade Avg Loss% per Trade Max Drawdown ROI/DD Ratio                               Variation\n",
      "2017            0            0      NaN                   NaN                 NaN          NaN          NaN  EMA:10, RSI:9, RSI_MA:10, SL Candles:6\n",
      "2018     -57.7265          297  31.9865                2.9325             -1.6649     -69.6268      -0.8291  EMA:10, RSI:9, RSI_MA:10, SL Candles:6\n",
      "2019      68.4286          270  35.1852                3.7992             -1.6714     -65.6347       1.0426  EMA:10, RSI:9, RSI_MA:10, SL Candles:6\n",
      "2020     109.8616          288  39.5833                3.5188             -1.6741     -44.2333       2.4837  EMA:10, RSI:9, RSI_MA:10, SL Candles:6\n",
      "2021      29.2789          300  32.6667                3.6304             -1.6163     -51.2448       0.5714  EMA:10, RSI:9, RSI_MA:10, SL Candles:6\n",
      "2022     -39.0519          315  36.1905                3.1688             -1.9915    -105.6520      -0.3696  EMA:10, RSI:9, RSI_MA:10, SL Candles:6\n",
      "2023     -85.2142          324  30.2469                3.2374             -1.7809    -124.5312      -0.6843  EMA:10, RSI:9, RSI_MA:10, SL Candles:6\n",
      "2024      34.0700          291  33.3333                3.8762             -1.7625     -83.8624       0.4063  EMA:10, RSI:9, RSI_MA:10, SL Candles:6\n",
      "2025      20.4564           21  61.9048                2.4795             -1.4722      -4.0435       5.0591  EMA:10, RSI:9, RSI_MA:10, SL Candles:6\n",
      "Overall   80.1029         2106  34.3780                3.4298             -1.7388    -185.6926       0.4314  EMA:10, RSI:9, RSI_MA:10, SL Candles:6\n",
      "EMA:10, RSI:9, RSI_MA:10, SL Candles:8\n"
     ]
    },
    {
     "name": "stderr",
     "output_type": "stream",
     "text": [
      "/tmp/ipykernel_33520/419236688.py:151: FutureWarning: Setting an item of incompatible dtype is deprecated and will raise an error in a future version of pandas. Value 'RSI Upmove' has dtype incompatible with float64, please explicitly cast to a compatible dtype first.\n",
      "  tradebook_short.loc[\n"
     ]
    },
    {
     "name": "stdout",
     "output_type": "stream",
     "text": [
      "        Total ROI Total Trades Win Rate Avg Profit% per Trade Avg Loss% per Trade Max Drawdown ROI/DD Ratio                               Variation\n",
      "2017            0            0      NaN                   NaN                 NaN          NaN          NaN  EMA:10, RSI:9, RSI_MA:10, SL Candles:8\n",
      "2018     -51.6353          296  32.7703                2.6522             -1.5522     -62.9986      -0.8196  EMA:10, RSI:9, RSI_MA:10, SL Candles:8\n",
      "2019      33.4689          270  35.1852                3.2230             -1.5584     -57.1898       0.5852  EMA:10, RSI:9, RSI_MA:10, SL Candles:8\n",
      "2020      91.3779          288  39.5833                3.2299             -1.5910     -54.2018       1.6859  EMA:10, RSI:9, RSI_MA:10, SL Candles:8\n",
      "2021      35.1431          300  32.6667                3.4129             -1.4818     -53.7400       0.6539  EMA:10, RSI:9, RSI_MA:10, SL Candles:8\n",
      "2022     -35.4252          315  36.1905                2.9151             -1.8296    -102.5442      -0.3455  EMA:10, RSI:9, RSI_MA:10, SL Candles:8\n",
      "2023     -65.0249          322  30.4348                2.9379             -1.5756    -108.3074      -0.6004  EMA:10, RSI:9, RSI_MA:10, SL Candles:8\n",
      "2024      44.4609          291  33.3333                3.6453             -1.5934     -70.2543       0.6329  EMA:10, RSI:9, RSI_MA:10, SL Candles:8\n",
      "2025      19.7536           21  61.9048                2.4149             -1.4550      -4.0435       4.8853  EMA:10, RSI:9, RSI_MA:10, SL Candles:8\n",
      "Overall   72.1190         2103  34.5221                3.1286             -1.5971    -155.7176       0.4631  EMA:10, RSI:9, RSI_MA:10, SL Candles:8\n",
      "EMA:10, RSI:9, RSI_MA:10, SL Candles:10\n"
     ]
    },
    {
     "name": "stderr",
     "output_type": "stream",
     "text": [
      "/tmp/ipykernel_33520/419236688.py:151: FutureWarning: Setting an item of incompatible dtype is deprecated and will raise an error in a future version of pandas. Value 'RSI Upmove' has dtype incompatible with float64, please explicitly cast to a compatible dtype first.\n",
      "  tradebook_short.loc[\n"
     ]
    },
    {
     "name": "stdout",
     "output_type": "stream",
     "text": [
      "        Total ROI Total Trades Win Rate Avg Profit% per Trade Avg Loss% per Trade Max Drawdown ROI/DD Ratio                                Variation\n",
      "2017            0            0      NaN                   NaN                 NaN          NaN          NaN  EMA:10, RSI:9, RSI_MA:10, SL Candles:10\n",
      "2018     -29.4779          294  33.6735                2.5510             -1.4463     -53.0873      -0.5553  EMA:10, RSI:9, RSI_MA:10, SL Candles:10\n",
      "2019      19.5683          270  35.1852                2.9622             -1.4962     -55.4010       0.3532  EMA:10, RSI:9, RSI_MA:10, SL Candles:10\n",
      "2020      94.1455          288  39.5833                3.1155             -1.5001     -50.4568       1.8659  EMA:10, RSI:9, RSI_MA:10, SL Candles:10\n",
      "2021      38.3838          300  32.6667                3.2755             -1.3991     -49.4154       0.7768  EMA:10, RSI:9, RSI_MA:10, SL Candles:10\n",
      "2022     -30.9653          315  36.1905                2.7405             -1.7084     -95.4913      -0.3243  EMA:10, RSI:9, RSI_MA:10, SL Candles:10\n",
      "2023     -49.2963          320  30.9375                2.7163             -1.4399     -89.8543      -0.5486  EMA:10, RSI:9, RSI_MA:10, SL Candles:10\n",
      "2024      47.7288          291  33.3333                3.5404             -1.5242     -66.2747       0.7202  EMA:10, RSI:9, RSI_MA:10, SL Candles:10\n",
      "2025      19.6050           21  61.9048                2.3817             -1.4196      -4.0435       4.8486  EMA:10, RSI:9, RSI_MA:10, SL Candles:10\n",
      "Overall  109.6919         2099  34.7308                2.9710             -1.5008    -135.1117       0.8119  EMA:10, RSI:9, RSI_MA:10, SL Candles:10\n",
      "EMA:10, RSI:9, RSI_MA:15, SL Candles:2\n"
     ]
    },
    {
     "name": "stderr",
     "output_type": "stream",
     "text": [
      "/tmp/ipykernel_33520/419236688.py:123: FutureWarning: Setting an item of incompatible dtype is deprecated and will raise an error in a future version of pandas. Value 'Initial SL Hit' has dtype incompatible with float64, please explicitly cast to a compatible dtype first.\n",
      "  tradebook_short.loc[\n"
     ]
    },
    {
     "name": "stdout",
     "output_type": "stream",
     "text": [
      "        Total ROI Total Trades Win Rate Avg Profit% per Trade Avg Loss% per Trade Max Drawdown ROI/DD Ratio                               Variation\n",
      "2017            0            0      NaN                   NaN                 NaN          NaN          NaN  EMA:10, RSI:9, RSI_MA:15, SL Candles:2\n",
      "2018      27.0576          254  30.3150                5.3425             -2.1713     -88.6612       0.3052  EMA:10, RSI:9, RSI_MA:15, SL Candles:2\n",
      "2019      -5.9528          255  31.7647                4.5606             -2.1573     -99.0657      -0.0601  EMA:10, RSI:9, RSI_MA:15, SL Candles:2\n",
      "2020     150.6377          262  35.4962                5.4020             -2.0814     -42.9382       3.5082  EMA:10, RSI:9, RSI_MA:15, SL Candles:2\n",
      "2021      39.0679          272  30.8824                5.4852             -2.2430     -58.4305       0.6686  EMA:10, RSI:9, RSI_MA:15, SL Candles:2\n",
      "2022     -44.6546          278  33.0935                4.4975             -2.4647    -145.3813      -0.3072  EMA:10, RSI:9, RSI_MA:15, SL Candles:2\n",
      "2023     -45.8639          284  26.7606                5.4118             -2.1979    -116.2212      -0.3946  EMA:10, RSI:9, RSI_MA:15, SL Candles:2\n",
      "2024      12.5024          262  28.6260                5.9867             -2.3342    -150.6119       0.0830  EMA:10, RSI:9, RSI_MA:15, SL Candles:2\n",
      "2025      22.8958           15  46.6667                5.5783             -2.0190      -3.2024       7.1496  EMA:10, RSI:9, RSI_MA:15, SL Candles:2\n",
      "Overall  155.6903         1882  31.0840                5.2257             -2.2370    -239.7368       0.6494  EMA:10, RSI:9, RSI_MA:15, SL Candles:2\n",
      "EMA:10, RSI:9, RSI_MA:15, SL Candles:4\n"
     ]
    },
    {
     "name": "stderr",
     "output_type": "stream",
     "text": [
      "/tmp/ipykernel_33520/419236688.py:123: FutureWarning: Setting an item of incompatible dtype is deprecated and will raise an error in a future version of pandas. Value 'Initial SL Hit' has dtype incompatible with float64, please explicitly cast to a compatible dtype first.\n",
      "  tradebook_short.loc[\n"
     ]
    },
    {
     "name": "stdout",
     "output_type": "stream",
     "text": [
      "        Total ROI Total Trades Win Rate Avg Profit% per Trade Avg Loss% per Trade Max Drawdown ROI/DD Ratio                               Variation\n",
      "2017            0            0      NaN                   NaN                 NaN          NaN          NaN  EMA:10, RSI:9, RSI_MA:15, SL Candles:4\n",
      "2018      45.4131          251  31.0757                4.4792             -1.7570     -60.0703       0.7560  EMA:10, RSI:9, RSI_MA:15, SL Candles:4\n",
      "2019      -5.0236          254  31.8898                3.8825             -1.8468     -86.6267      -0.0580  EMA:10, RSI:9, RSI_MA:15, SL Candles:4\n",
      "2020     119.9054          261  35.6322                4.5025             -1.7788     -41.7208       2.8740  EMA:10, RSI:9, RSI_MA:15, SL Candles:4\n",
      "2021      72.2552          267  31.4607                4.8981             -1.8535     -44.0030       1.6421  EMA:10, RSI:9, RSI_MA:15, SL Candles:4\n",
      "2022     -66.4683          277  33.2130                3.5958             -2.1474    -158.1896      -0.4202  EMA:10, RSI:9, RSI_MA:15, SL Candles:4\n",
      "2023     -32.8962          281  27.4021                4.4932             -1.8572    -100.3228      -0.3279  EMA:10, RSI:9, RSI_MA:15, SL Candles:4\n",
      "2024      65.5188          260  29.2308                5.5404             -1.9323    -104.7531       0.6255  EMA:10, RSI:9, RSI_MA:15, SL Candles:4\n",
      "2025      17.6056           15  46.6667                4.6227             -1.8442      -3.1593       5.5727  EMA:10, RSI:9, RSI_MA:15, SL Candles:4\n",
      "Overall  216.3101         1866  31.5113                4.4630             -1.8841    -189.7269       1.1401  EMA:10, RSI:9, RSI_MA:15, SL Candles:4\n",
      "EMA:10, RSI:9, RSI_MA:15, SL Candles:6\n"
     ]
    },
    {
     "name": "stderr",
     "output_type": "stream",
     "text": [
      "/tmp/ipykernel_33520/419236688.py:137: FutureWarning: Setting an item of incompatible dtype is deprecated and will raise an error in a future version of pandas. Value 'Trailing SL Hit' has dtype incompatible with float64, please explicitly cast to a compatible dtype first.\n",
      "  tradebook_short.loc[\n"
     ]
    },
    {
     "name": "stdout",
     "output_type": "stream",
     "text": [
      "        Total ROI Total Trades Win Rate Avg Profit% per Trade Avg Loss% per Trade Max Drawdown ROI/DD Ratio                               Variation\n",
      "2017            0            0      NaN                   NaN                 NaN          NaN          NaN  EMA:10, RSI:9, RSI_MA:15, SL Candles:6\n",
      "2018      20.0249          249  31.3253                3.8134             -1.6224     -59.8041       0.3348  EMA:10, RSI:9, RSI_MA:15, SL Candles:6\n",
      "2019      14.2359          253  32.4111                3.6649             -1.6742     -74.2883       0.1916  EMA:10, RSI:9, RSI_MA:15, SL Candles:6\n",
      "2020      96.3984          259  35.9073                3.8558             -1.5794     -36.9061       2.6120  EMA:10, RSI:9, RSI_MA:15, SL Candles:6\n",
      "2021      43.1569          266  31.5789                4.0989             -1.6547     -39.1524       1.1023  EMA:10, RSI:9, RSI_MA:15, SL Candles:6\n",
      "2022     -53.8410          276  33.3333                3.3149             -1.9501    -140.9671      -0.3819  EMA:10, RSI:9, RSI_MA:15, SL Candles:6\n",
      "2023     -49.7723          280  27.5000                3.7456             -1.6659     -82.0521      -0.6066  EMA:10, RSI:9, RSI_MA:15, SL Candles:6\n",
      "2024      60.0728          259  29.3436                4.9491             -1.7271     -91.3205       0.6578  EMA:10, RSI:9, RSI_MA:15, SL Candles:6\n",
      "2025      14.1579           15  46.6667                4.0564             -1.7796      -3.1593       4.4814  EMA:10, RSI:9, RSI_MA:15, SL Candles:6\n",
      "Overall  144.4336         1857  31.7178                3.9028             -1.6990    -182.1899       0.7928  EMA:10, RSI:9, RSI_MA:15, SL Candles:6\n",
      "EMA:10, RSI:9, RSI_MA:15, SL Candles:8\n"
     ]
    },
    {
     "name": "stderr",
     "output_type": "stream",
     "text": [
      "/tmp/ipykernel_33520/419236688.py:137: FutureWarning: Setting an item of incompatible dtype is deprecated and will raise an error in a future version of pandas. Value 'Trailing SL Hit' has dtype incompatible with float64, please explicitly cast to a compatible dtype first.\n",
      "  tradebook_short.loc[\n"
     ]
    },
    {
     "name": "stdout",
     "output_type": "stream",
     "text": [
      "        Total ROI Total Trades Win Rate Avg Profit% per Trade Avg Loss% per Trade Max Drawdown ROI/DD Ratio                               Variation\n",
      "2017            0            0      NaN                   NaN                 NaN          NaN          NaN  EMA:10, RSI:9, RSI_MA:15, SL Candles:8\n",
      "2018      22.1791          247  31.9838                3.4040             -1.4687     -53.2975       0.4161  EMA:10, RSI:9, RSI_MA:15, SL Candles:8\n",
      "2019       9.0969          253  32.4111                3.3345             -1.5458     -64.8973       0.1402  EMA:10, RSI:9, RSI_MA:15, SL Candles:8\n",
      "2020      73.1894          259  35.9073                3.4272             -1.4792     -42.4556       1.7239  EMA:10, RSI:9, RSI_MA:15, SL Candles:8\n",
      "2021      41.1040          266  31.5789                3.7707             -1.5145     -44.3310       0.9272  EMA:10, RSI:9, RSI_MA:15, SL Candles:8\n",
      "2022     -41.6978          276  33.3333                3.1589             -1.8061    -128.5036      -0.3245  EMA:10, RSI:9, RSI_MA:15, SL Candles:8\n",
      "2023     -11.8981          279  27.5986                3.5400             -1.4083     -58.4329      -0.2036  EMA:10, RSI:9, RSI_MA:15, SL Candles:8\n",
      "2024      58.0131          259  29.3436                4.4669             -1.5381     -84.3177       0.6880  EMA:10, RSI:9, RSI_MA:15, SL Candles:8\n",
      "2025      14.7973           15  46.6667                3.9513             -1.6077      -3.1281       4.7304  EMA:10, RSI:9, RSI_MA:15, SL Candles:8\n",
      "Overall  164.7839         1854  31.8231                3.5732             -1.5375    -132.4873       1.2438  EMA:10, RSI:9, RSI_MA:15, SL Candles:8\n",
      "EMA:10, RSI:9, RSI_MA:15, SL Candles:10\n"
     ]
    },
    {
     "name": "stderr",
     "output_type": "stream",
     "text": [
      "/tmp/ipykernel_33520/419236688.py:137: FutureWarning: Setting an item of incompatible dtype is deprecated and will raise an error in a future version of pandas. Value 'Trailing SL Hit' has dtype incompatible with float64, please explicitly cast to a compatible dtype first.\n",
      "  tradebook_short.loc[\n"
     ]
    },
    {
     "name": "stdout",
     "output_type": "stream",
     "text": [
      "        Total ROI Total Trades Win Rate Avg Profit% per Trade Avg Loss% per Trade Max Drawdown ROI/DD Ratio                                Variation\n",
      "2017            0            0      NaN                   NaN                 NaN          NaN          NaN  EMA:10, RSI:9, RSI_MA:15, SL Candles:10\n",
      "2018      22.7771          247  31.9838                3.1885             -1.3638     -50.2845       0.4530  EMA:10, RSI:9, RSI_MA:15, SL Candles:10\n",
      "2019     -10.7641          253  32.4111                2.8888             -1.4482     -62.3296      -0.1727  EMA:10, RSI:9, RSI_MA:15, SL Candles:10\n",
      "2020      63.9048          259  35.9073                3.1301             -1.3686     -56.8210       1.1247  EMA:10, RSI:9, RSI_MA:15, SL Candles:10\n",
      "2021      44.0791          266  31.5789                3.5781             -1.4092     -39.6841       1.1107  EMA:10, RSI:9, RSI_MA:15, SL Candles:10\n",
      "2022     -44.3781          276  33.3333                2.9474             -1.7149    -123.8499      -0.3583  EMA:10, RSI:9, RSI_MA:15, SL Candles:10\n",
      "2023      -4.8732          277  28.1588                3.1474             -1.2581     -50.5432      -0.0964  EMA:10, RSI:9, RSI_MA:15, SL Candles:10\n",
      "2024      61.4331          259  29.3436                4.3237             -1.4599     -84.3886       0.7280  EMA:10, RSI:9, RSI_MA:15, SL Candles:10\n",
      "2025      14.5830           15  46.6667                3.8940             -1.5844      -3.1281       4.6619  EMA:10, RSI:9, RSI_MA:15, SL Candles:10\n",
      "Overall  146.7615         1852  31.9114                3.3045             -1.4323    -125.1251       1.1729  EMA:10, RSI:9, RSI_MA:15, SL Candles:10\n",
      "EMA:10, RSI:9, RSI_MA:20, SL Candles:2\n"
     ]
    },
    {
     "name": "stderr",
     "output_type": "stream",
     "text": [
      "/tmp/ipykernel_33520/419236688.py:151: FutureWarning: Setting an item of incompatible dtype is deprecated and will raise an error in a future version of pandas. Value 'RSI Upmove' has dtype incompatible with float64, please explicitly cast to a compatible dtype first.\n",
      "  tradebook_short.loc[\n"
     ]
    },
    {
     "name": "stdout",
     "output_type": "stream",
     "text": [
      "        Total ROI Total Trades Win Rate Avg Profit% per Trade Avg Loss% per Trade Max Drawdown ROI/DD Ratio                               Variation\n",
      "2017            0            0      NaN                   NaN                 NaN          NaN          NaN  EMA:10, RSI:9, RSI_MA:20, SL Candles:2\n",
      "2018     -53.4708          252  30.1587                4.5246             -2.2576     -80.4739      -0.6644  EMA:10, RSI:9, RSI_MA:20, SL Candles:2\n",
      "2019     -81.1952          241  29.0456                4.1936             -2.1915    -104.8981      -0.7740  EMA:10, RSI:9, RSI_MA:20, SL Candles:2\n",
      "2020     104.6142          255  32.1569                5.6789             -2.0870     -46.3683       2.2562  EMA:10, RSI:9, RSI_MA:20, SL Candles:2\n",
      "2021      55.7843          270  31.4815                5.7255             -2.3291     -81.3687       0.6856  EMA:10, RSI:9, RSI_MA:20, SL Candles:2\n",
      "2022      29.0773          269  29.7398                6.1454             -2.4474    -128.7089       0.2259  EMA:10, RSI:9, RSI_MA:20, SL Candles:2\n",
      "2023     -12.4477          275  26.9091                6.2219             -2.3526    -143.2272      -0.0869  EMA:10, RSI:9, RSI_MA:20, SL Candles:2\n",
      "2024      -1.8681          253  26.4822                6.9291             -2.5060    -169.5393      -0.0110  EMA:10, RSI:9, RSI_MA:20, SL Candles:2\n",
      "2025      16.9179           13  46.1538                5.2869             -2.1148      -4.0861       4.1404  EMA:10, RSI:9, RSI_MA:20, SL Candles:2\n",
      "Overall   57.4118         1828  29.5405                5.6255             -2.3140    -227.6409       0.2522  EMA:10, RSI:9, RSI_MA:20, SL Candles:2\n",
      "EMA:10, RSI:9, RSI_MA:20, SL Candles:4\n"
     ]
    },
    {
     "name": "stderr",
     "output_type": "stream",
     "text": [
      "/tmp/ipykernel_33520/419236688.py:151: FutureWarning: Setting an item of incompatible dtype is deprecated and will raise an error in a future version of pandas. Value 'RSI Upmove' has dtype incompatible with float64, please explicitly cast to a compatible dtype first.\n",
      "  tradebook_short.loc[\n"
     ]
    },
    {
     "name": "stdout",
     "output_type": "stream",
     "text": [
      "        Total ROI Total Trades Win Rate Avg Profit% per Trade Avg Loss% per Trade Max Drawdown ROI/DD Ratio                               Variation\n",
      "2017            0            0      NaN                   NaN                 NaN          NaN          NaN  EMA:10, RSI:9, RSI_MA:20, SL Candles:4\n",
      "2018     -39.8850          250  30.8000                3.6900             -1.8729     -58.4863      -0.6820  EMA:10, RSI:9, RSI_MA:20, SL Candles:4\n",
      "2019     -52.5511          238  29.4118                3.7527             -1.8764     -94.2089      -0.5578  EMA:10, RSI:9, RSI_MA:20, SL Candles:4\n",
      "2020     107.5472          254  32.2835                4.9444             -1.7320     -43.6018       2.4666  EMA:10, RSI:9, RSI_MA:20, SL Candles:4\n",
      "2021      75.1921          266  31.5789                5.1094             -1.9451     -65.6910       1.1446  EMA:10, RSI:9, RSI_MA:20, SL Candles:4\n",
      "2022     -34.9678          266  30.0752                4.5903             -2.1623    -143.6372      -0.2434  EMA:10, RSI:9, RSI_MA:20, SL Candles:4\n",
      "2023       3.8285          273  27.4725                5.3525             -2.0081    -127.9185       0.0299  EMA:10, RSI:9, RSI_MA:20, SL Candles:4\n",
      "2024      51.3583          252  26.9841                6.3762             -2.0773    -102.9531       0.4989  EMA:10, RSI:9, RSI_MA:20, SL Candles:4\n",
      "2025      15.4873           13  46.1538                4.9334             -2.0161      -3.8175       4.0569  EMA:10, RSI:9, RSI_MA:20, SL Candles:4\n",
      "Overall  126.0095         1812  29.9117                4.8216             -1.9585    -147.9611       0.8516  EMA:10, RSI:9, RSI_MA:20, SL Candles:4\n",
      "EMA:10, RSI:9, RSI_MA:20, SL Candles:6\n"
     ]
    },
    {
     "name": "stderr",
     "output_type": "stream",
     "text": [
      "/tmp/ipykernel_33520/419236688.py:151: FutureWarning: Setting an item of incompatible dtype is deprecated and will raise an error in a future version of pandas. Value 'RSI Upmove' has dtype incompatible with float64, please explicitly cast to a compatible dtype first.\n",
      "  tradebook_short.loc[\n"
     ]
    },
    {
     "name": "stdout",
     "output_type": "stream",
     "text": [
      "        Total ROI Total Trades Win Rate Avg Profit% per Trade Avg Loss% per Trade Max Drawdown ROI/DD Ratio                               Variation\n",
      "2017            0            0      NaN                   NaN                 NaN          NaN          NaN  EMA:10, RSI:9, RSI_MA:20, SL Candles:6\n",
      "2018     -40.5869          248  31.0484                3.3564             -1.7487     -61.8586      -0.6561  EMA:10, RSI:9, RSI_MA:20, SL Candles:6\n",
      "2019     -34.5802          237  29.5359                3.5276             -1.6857     -88.5330      -0.3906  EMA:10, RSI:9, RSI_MA:20, SL Candles:6\n",
      "2020      83.9499          251  32.6693                4.1897             -1.5361     -35.9223       2.3370  EMA:10, RSI:9, RSI_MA:20, SL Candles:6\n",
      "2021      61.9066          266  31.9549                4.4310             -1.7388     -63.6795       0.9722  EMA:10, RSI:9, RSI_MA:20, SL Candles:6\n",
      "2022     -35.8235          265  30.1887                4.0710             -1.9541    -140.1635      -0.2556  EMA:10, RSI:9, RSI_MA:20, SL Candles:6\n",
      "2023     -55.0883          272  27.5735                3.9904             -1.7988    -115.9287      -0.4752  EMA:10, RSI:9, RSI_MA:20, SL Candles:6\n",
      "2024      56.9850          250  27.2000                5.7738             -1.8441     -95.5064       0.5967  EMA:10, RSI:9, RSI_MA:20, SL Candles:6\n",
      "2025      11.2547           13  46.1538                4.1523             -1.9513      -3.3637       3.3459  EMA:10, RSI:9, RSI_MA:20, SL Candles:6\n",
      "Overall   48.0174         1802  30.1332                4.1769             -1.7633    -198.1205       0.2424  EMA:10, RSI:9, RSI_MA:20, SL Candles:6\n",
      "EMA:10, RSI:9, RSI_MA:20, SL Candles:8\n"
     ]
    },
    {
     "name": "stderr",
     "output_type": "stream",
     "text": [
      "/tmp/ipykernel_33520/419236688.py:151: FutureWarning: Setting an item of incompatible dtype is deprecated and will raise an error in a future version of pandas. Value 'RSI Upmove' has dtype incompatible with float64, please explicitly cast to a compatible dtype first.\n",
      "  tradebook_short.loc[\n"
     ]
    },
    {
     "name": "stdout",
     "output_type": "stream",
     "text": [
      "        Total ROI Total Trades Win Rate Avg Profit% per Trade Avg Loss% per Trade Max Drawdown ROI/DD Ratio                               Variation\n",
      "2017            0            0      NaN                   NaN                 NaN          NaN          NaN  EMA:10, RSI:9, RSI_MA:20, SL Candles:8\n",
      "2018     -37.8093          247  31.1741                3.0466             -1.6023     -63.3051      -0.5973  EMA:10, RSI:9, RSI_MA:20, SL Candles:8\n",
      "2019     -31.1999          237  29.5359                3.2579             -1.5524     -77.8209      -0.4009  EMA:10, RSI:9, RSI_MA:20, SL Candles:8\n",
      "2020      62.8668          251  32.6693                3.6918             -1.4193     -38.6547       1.6264  EMA:10, RSI:9, RSI_MA:20, SL Candles:8\n",
      "2021      55.0972          266  31.9549                4.0460             -1.5957     -66.8014       0.8248  EMA:10, RSI:9, RSI_MA:20, SL Candles:8\n",
      "2022     -25.5608          265  30.1887                3.8377             -1.7977    -128.2371      -0.1993  EMA:10, RSI:9, RSI_MA:20, SL Candles:8\n",
      "2023     -32.7663          271  27.6753                3.6240             -1.5539     -97.6547      -0.3355  EMA:10, RSI:9, RSI_MA:20, SL Candles:8\n",
      "2024      61.1352          249  27.3092                5.1057             -1.5804     -82.1149       0.7445  EMA:10, RSI:9, RSI_MA:20, SL Candles:8\n",
      "2025      11.7612           13  46.1538                4.1150             -1.8469      -3.2121       3.6615  EMA:10, RSI:9, RSI_MA:20, SL Candles:8\n",
      "Overall   63.5241         1799  30.1834                3.7937             -1.5895    -152.0712       0.4177  EMA:10, RSI:9, RSI_MA:20, SL Candles:8\n",
      "EMA:10, RSI:9, RSI_MA:20, SL Candles:10\n"
     ]
    },
    {
     "name": "stderr",
     "output_type": "stream",
     "text": [
      "/tmp/ipykernel_33520/419236688.py:151: FutureWarning: Setting an item of incompatible dtype is deprecated and will raise an error in a future version of pandas. Value 'RSI Upmove' has dtype incompatible with float64, please explicitly cast to a compatible dtype first.\n",
      "  tradebook_short.loc[\n"
     ]
    },
    {
     "name": "stdout",
     "output_type": "stream",
     "text": [
      "        Total ROI Total Trades Win Rate Avg Profit% per Trade Avg Loss% per Trade Max Drawdown ROI/DD Ratio                                Variation\n",
      "2017            0            0      NaN                   NaN                 NaN          NaN          NaN  EMA:10, RSI:9, RSI_MA:20, SL Candles:10\n",
      "2018     -12.4224          246  31.7073                2.9036             -1.4220     -44.7988      -0.2773  EMA:10, RSI:9, RSI_MA:20, SL Candles:10\n",
      "2019     -45.1842          236  29.6610                2.8060             -1.4555     -74.6612      -0.6052  EMA:10, RSI:9, RSI_MA:20, SL Candles:10\n",
      "2020      46.7641          251  32.6693                3.2616             -1.3058     -51.6465       0.9055  EMA:10, RSI:9, RSI_MA:20, SL Candles:10\n",
      "2021      56.3959          266  31.9549                3.7681             -1.4580     -57.3579       0.9832  EMA:10, RSI:9, RSI_MA:20, SL Candles:10\n",
      "2022     -70.5296          265  30.1887                3.0775             -1.7120    -127.4260      -0.5535  EMA:10, RSI:9, RSI_MA:20, SL Candles:10\n",
      "2023     -40.9717          270  27.7778                3.0486             -1.3826     -82.7115      -0.4954  EMA:10, RSI:9, RSI_MA:20, SL Candles:10\n",
      "2024      55.9093          249  27.3092                4.7805             -1.4871     -82.2825       0.6795  EMA:10, RSI:9, RSI_MA:20, SL Candles:10\n",
      "2025      12.4185           13  46.1538                4.1150             -1.7530      -3.1281       3.9699  EMA:10, RSI:9, RSI_MA:20, SL Candles:10\n",
      "Overall    2.3798         1796  30.2895                3.3736             -1.4640    -164.9850       0.0144  EMA:10, RSI:9, RSI_MA:20, SL Candles:10\n",
      "EMA:10, RSI:9, RSI_MA:25, SL Candles:2\n"
     ]
    },
    {
     "name": "stderr",
     "output_type": "stream",
     "text": [
      "/tmp/ipykernel_33520/419236688.py:151: FutureWarning: Setting an item of incompatible dtype is deprecated and will raise an error in a future version of pandas. Value 'RSI Upmove' has dtype incompatible with float64, please explicitly cast to a compatible dtype first.\n",
      "  tradebook_short.loc[\n"
     ]
    },
    {
     "name": "stdout",
     "output_type": "stream",
     "text": [
      "EMA:10, RSI:9, RSI_MA:25, SL Candles:4\n"
     ]
    },
    {
     "name": "stderr",
     "output_type": "stream",
     "text": [
      "/tmp/ipykernel_33520/419236688.py:151: FutureWarning: Setting an item of incompatible dtype is deprecated and will raise an error in a future version of pandas. Value 'RSI Upmove' has dtype incompatible with float64, please explicitly cast to a compatible dtype first.\n",
      "  tradebook_short.loc[\n"
     ]
    },
    {
     "name": "stdout",
     "output_type": "stream",
     "text": [
      "        Total ROI Total Trades Win Rate Avg Profit% per Trade Avg Loss% per Trade Max Drawdown ROI/DD Ratio                               Variation\n",
      "2017            0            0      NaN                   NaN                 NaN          NaN          NaN  EMA:10, RSI:9, RSI_MA:25, SL Candles:4\n",
      "2018     -60.8068          240  29.5833                3.8260             -1.9672     -72.2600      -0.8415  EMA:10, RSI:9, RSI_MA:25, SL Candles:4\n",
      "2019     -39.2221          233  30.9013                3.6394             -1.8712     -88.8545      -0.4414  EMA:10, RSI:9, RSI_MA:25, SL Candles:4\n",
      "2020      78.3895          246  33.7398                4.5193             -1.8203     -50.1958       1.5617  EMA:10, RSI:9, RSI_MA:25, SL Candles:4\n",
      "2021      90.9369          253  32.0158                5.4631             -2.0440     -55.1960       1.6475  EMA:10, RSI:9, RSI_MA:25, SL Candles:4\n",
      "2022     -63.5468          252  29.3651                4.3277             -2.1562    -139.3022      -0.4562  EMA:10, RSI:9, RSI_MA:25, SL Candles:4\n",
      "2023      17.8870          257  27.6265                5.4058             -1.9674    -128.1592       0.1396  EMA:10, RSI:9, RSI_MA:25, SL Candles:4\n",
      "2024      -9.7221          242  23.5537                6.3950             -2.0229    -127.6540      -0.0762  EMA:10, RSI:9, RSI_MA:25, SL Candles:4\n",
      "2025      13.7153           13  38.4615                5.0270             -1.4274      -4.3902       3.1241  EMA:10, RSI:9, RSI_MA:25, SL Candles:4\n",
      "Overall   27.6310         1736  29.6083                4.7568             -1.9782    -173.8685       0.1589  EMA:10, RSI:9, RSI_MA:25, SL Candles:4\n",
      "EMA:10, RSI:9, RSI_MA:25, SL Candles:6\n"
     ]
    },
    {
     "name": "stderr",
     "output_type": "stream",
     "text": [
      "/tmp/ipykernel_33520/419236688.py:151: FutureWarning: Setting an item of incompatible dtype is deprecated and will raise an error in a future version of pandas. Value 'RSI Upmove' has dtype incompatible with float64, please explicitly cast to a compatible dtype first.\n",
      "  tradebook_short.loc[\n"
     ]
    },
    {
     "name": "stdout",
     "output_type": "stream",
     "text": [
      "EMA:10, RSI:9, RSI_MA:25, SL Candles:8\n"
     ]
    },
    {
     "name": "stderr",
     "output_type": "stream",
     "text": [
      "/tmp/ipykernel_33520/419236688.py:151: FutureWarning: Setting an item of incompatible dtype is deprecated and will raise an error in a future version of pandas. Value 'RSI Upmove' has dtype incompatible with float64, please explicitly cast to a compatible dtype first.\n",
      "  tradebook_short.loc[\n"
     ]
    },
    {
     "name": "stdout",
     "output_type": "stream",
     "text": [
      "EMA:10, RSI:9, RSI_MA:25, SL Candles:10\n"
     ]
    },
    {
     "name": "stderr",
     "output_type": "stream",
     "text": [
      "/tmp/ipykernel_33520/419236688.py:151: FutureWarning: Setting an item of incompatible dtype is deprecated and will raise an error in a future version of pandas. Value 'RSI Upmove' has dtype incompatible with float64, please explicitly cast to a compatible dtype first.\n",
      "  tradebook_short.loc[\n"
     ]
    },
    {
     "name": "stdout",
     "output_type": "stream",
     "text": [
      "EMA:10, RSI:9, RSI_MA:30, SL Candles:2\n"
     ]
    },
    {
     "name": "stderr",
     "output_type": "stream",
     "text": [
      "/tmp/ipykernel_33520/419236688.py:151: FutureWarning: Setting an item of incompatible dtype is deprecated and will raise an error in a future version of pandas. Value 'RSI Upmove' has dtype incompatible with float64, please explicitly cast to a compatible dtype first.\n",
      "  tradebook_short.loc[\n"
     ]
    },
    {
     "name": "stdout",
     "output_type": "stream",
     "text": [
      "        Total ROI Total Trades Win Rate Avg Profit% per Trade Avg Loss% per Trade Max Drawdown ROI/DD Ratio                               Variation\n",
      "2017            0            0      NaN                   NaN                 NaN          NaN          NaN  EMA:10, RSI:9, RSI_MA:30, SL Candles:2\n",
      "2018     -51.1489          237  29.1139                4.7616             -2.2601     -88.1430      -0.5803  EMA:10, RSI:9, RSI_MA:30, SL Candles:2\n",
      "2019     -18.9163          227  31.7181                4.2459             -2.0943     -93.9389      -0.2014  EMA:10, RSI:9, RSI_MA:30, SL Candles:2\n",
      "2020     130.4766          231  34.6320                5.4336             -2.0147     -40.1866       3.2468  EMA:10, RSI:9, RSI_MA:30, SL Candles:2\n",
      "2021      75.9813          242  31.8182                5.8504             -2.2697     -66.0499       1.1504  EMA:10, RSI:9, RSI_MA:30, SL Candles:2\n",
      "2022     -72.7357          258  26.7442                5.3774             -2.3480    -141.4764      -0.5141  EMA:10, RSI:9, RSI_MA:30, SL Candles:2\n",
      "2023      74.0035          247  26.7206                7.9725             -2.4982    -127.9874       0.5782  EMA:10, RSI:9, RSI_MA:30, SL Candles:2\n",
      "2024     -74.0711          241  23.2365                6.0349             -2.2272    -156.9994      -0.4718  EMA:10, RSI:9, RSI_MA:30, SL Candles:2\n",
      "2025       7.8857           12  41.6667                5.6860             -2.9349     -15.5393       0.5075  EMA:10, RSI:9, RSI_MA:30, SL Candles:2\n",
      "Overall   71.4751         1695  29.1445                5.6337             -2.2578    -171.4265       0.4169  EMA:10, RSI:9, RSI_MA:30, SL Candles:2\n",
      "EMA:10, RSI:9, RSI_MA:30, SL Candles:4\n"
     ]
    },
    {
     "name": "stderr",
     "output_type": "stream",
     "text": [
      "/tmp/ipykernel_33520/419236688.py:151: FutureWarning: Setting an item of incompatible dtype is deprecated and will raise an error in a future version of pandas. Value 'RSI Upmove' has dtype incompatible with float64, please explicitly cast to a compatible dtype first.\n",
      "  tradebook_short.loc[\n"
     ]
    },
    {
     "name": "stdout",
     "output_type": "stream",
     "text": [
      "        Total ROI Total Trades Win Rate Avg Profit% per Trade Avg Loss% per Trade Max Drawdown ROI/DD Ratio                               Variation\n",
      "2017            0            0      NaN                   NaN                 NaN          NaN          NaN  EMA:10, RSI:9, RSI_MA:30, SL Candles:4\n",
      "2018     -36.0081          235  29.7872                3.9515             -1.8946     -56.4503      -0.6379  EMA:10, RSI:9, RSI_MA:30, SL Candles:4\n",
      "2019     -22.8350          227  31.7181                3.6991             -1.8656     -85.1874      -0.2681  EMA:10, RSI:9, RSI_MA:30, SL Candles:4\n",
      "2020      89.5641          229  34.4978                4.2951             -1.6650     -38.1658       2.3467  EMA:10, RSI:9, RSI_MA:30, SL Candles:4\n",
      "2021      68.0230          241  31.9502                5.0432             -1.9531     -52.9820       1.2839  EMA:10, RSI:9, RSI_MA:30, SL Candles:4\n",
      "2022     -74.0544          253  27.2727                4.3970             -2.0513    -144.9983      -0.5107  EMA:10, RSI:9, RSI_MA:30, SL Candles:4\n",
      "2023      37.3243          243  27.5720                6.2245             -2.1575    -124.9687       0.2987  EMA:10, RSI:9, RSI_MA:30, SL Candles:4\n",
      "2024     -16.7752          239  23.4310                5.7485             -1.8508     -96.9095      -0.1731  EMA:10, RSI:9, RSI_MA:30, SL Candles:4\n",
      "2025       3.6975           12  41.6667                4.6906             -2.8222     -14.7506       0.2507  EMA:10, RSI:9, RSI_MA:30, SL Candles:4\n",
      "Overall   48.9362         1679  29.4818                4.7199             -1.9320    -145.4853       0.3364  EMA:10, RSI:9, RSI_MA:30, SL Candles:4\n",
      "EMA:10, RSI:9, RSI_MA:30, SL Candles:6\n"
     ]
    },
    {
     "name": "stderr",
     "output_type": "stream",
     "text": [
      "/tmp/ipykernel_33520/419236688.py:151: FutureWarning: Setting an item of incompatible dtype is deprecated and will raise an error in a future version of pandas. Value 'RSI Upmove' has dtype incompatible with float64, please explicitly cast to a compatible dtype first.\n",
      "  tradebook_short.loc[\n"
     ]
    },
    {
     "name": "stdout",
     "output_type": "stream",
     "text": [
      "        Total ROI Total Trades Win Rate Avg Profit% per Trade Avg Loss% per Trade Max Drawdown ROI/DD Ratio                               Variation\n",
      "2017            0            0      NaN                   NaN                 NaN          NaN          NaN  EMA:10, RSI:9, RSI_MA:30, SL Candles:6\n",
      "2018     -41.7770          233  30.0429                3.4780             -1.7499     -56.4631      -0.7399  EMA:10, RSI:9, RSI_MA:30, SL Candles:6\n",
      "2019      -9.2296          226  31.8584                3.5257             -1.7083     -78.0212      -0.1183  EMA:10, RSI:9, RSI_MA:30, SL Candles:6\n",
      "2020      71.1220          229  34.4978                3.7520             -1.5019     -27.7699       2.5611  EMA:10, RSI:9, RSI_MA:30, SL Candles:6\n",
      "2021      79.9951          241  31.9502                4.6092             -1.6763     -42.2228       1.8946  EMA:10, RSI:9, RSI_MA:30, SL Candles:6\n",
      "2022     -62.4676          253  27.2727                3.9825             -1.8329    -137.7385      -0.4535  EMA:10, RSI:9, RSI_MA:30, SL Candles:6\n",
      "2023     -12.6902          242  27.6860                4.8121             -1.9149    -110.0164      -0.1153  EMA:10, RSI:9, RSI_MA:30, SL Candles:6\n",
      "2024     -10.4125          238  23.5294                5.2436             -1.6706    -101.9858      -0.1021  EMA:10, RSI:9, RSI_MA:30, SL Candles:6\n",
      "2025       7.0462           12  41.6667                4.1070             -1.9270      -8.8611       0.7952  EMA:10, RSI:9, RSI_MA:30, SL Candles:6\n",
      "Overall   21.5863         1674  29.5699                4.1616             -1.7289    -178.2333       0.1211  EMA:10, RSI:9, RSI_MA:30, SL Candles:6\n",
      "EMA:10, RSI:9, RSI_MA:30, SL Candles:8\n"
     ]
    },
    {
     "name": "stderr",
     "output_type": "stream",
     "text": [
      "/tmp/ipykernel_33520/419236688.py:151: FutureWarning: Setting an item of incompatible dtype is deprecated and will raise an error in a future version of pandas. Value 'RSI Upmove' has dtype incompatible with float64, please explicitly cast to a compatible dtype first.\n",
      "  tradebook_short.loc[\n"
     ]
    },
    {
     "name": "stdout",
     "output_type": "stream",
     "text": [
      "        Total ROI Total Trades Win Rate Avg Profit% per Trade Avg Loss% per Trade Max Drawdown ROI/DD Ratio                               Variation\n",
      "2017            0            0      NaN                   NaN                 NaN          NaN          NaN  EMA:10, RSI:9, RSI_MA:30, SL Candles:8\n",
      "2018     -36.4544          232  30.1724                3.1798             -1.5990     -57.0243      -0.6393  EMA:10, RSI:9, RSI_MA:30, SL Candles:8\n",
      "2019      -9.1834          226  31.8584                3.2101             -1.5605     -69.7951      -0.1316  EMA:10, RSI:9, RSI_MA:30, SL Candles:8\n",
      "2020      51.5149          229  34.4978                3.3051             -1.3972     -30.3004       1.7001  EMA:10, RSI:9, RSI_MA:30, SL Candles:8\n",
      "2021      71.6017          241  31.9502                4.1495             -1.5117     -47.5336       1.5063  EMA:10, RSI:9, RSI_MA:30, SL Candles:8\n",
      "2022     -50.2576          253  27.2727                3.7031             -1.6618    -119.3754      -0.4210  EMA:10, RSI:9, RSI_MA:30, SL Candles:8\n",
      "2023       9.0708          239  28.0335                4.4073             -1.6640     -99.4057       0.0913  EMA:10, RSI:9, RSI_MA:30, SL Candles:8\n",
      "2024       3.9063          237  23.6287                4.7111             -1.4360     -85.4462       0.0457  EMA:10, RSI:9, RSI_MA:30, SL Candles:8\n",
      "2025       7.6977           12  41.6667                3.9420             -1.7160      -7.3842       1.0425  EMA:10, RSI:9, RSI_MA:30, SL Candles:8\n",
      "Overall   47.8959         1669  29.6585                3.7751             -1.5509    -128.0677       0.3740  EMA:10, RSI:9, RSI_MA:30, SL Candles:8\n",
      "EMA:10, RSI:9, RSI_MA:30, SL Candles:10\n"
     ]
    },
    {
     "name": "stderr",
     "output_type": "stream",
     "text": [
      "/tmp/ipykernel_33520/419236688.py:151: FutureWarning: Setting an item of incompatible dtype is deprecated and will raise an error in a future version of pandas. Value 'RSI Upmove' has dtype incompatible with float64, please explicitly cast to a compatible dtype first.\n",
      "  tradebook_short.loc[\n"
     ]
    },
    {
     "name": "stdout",
     "output_type": "stream",
     "text": [
      "        Total ROI Total Trades Win Rate Avg Profit% per Trade Avg Loss% per Trade Max Drawdown ROI/DD Ratio                                Variation\n",
      "2017            0            0      NaN                   NaN                 NaN          NaN          NaN  EMA:10, RSI:9, RSI_MA:30, SL Candles:10\n",
      "2018     -25.3715          231  30.3030                2.9436             -1.4374     -48.8236      -0.5197  EMA:10, RSI:9, RSI_MA:30, SL Candles:10\n",
      "2019     -18.2161          225  32.0000                2.8427             -1.4568     -65.5359      -0.2780  EMA:10, RSI:9, RSI_MA:30, SL Candles:10\n",
      "2020      60.4984          229  34.4978                3.1725             -1.2675     -33.0968       1.8279  EMA:10, RSI:9, RSI_MA:30, SL Candles:10\n",
      "2021      71.1424          241  31.9502                3.8987             -1.3967     -41.5488       1.7123  EMA:10, RSI:9, RSI_MA:30, SL Candles:10\n",
      "2022     -80.0913          253  27.2727                2.9417             -1.5384    -111.2706      -0.7198  EMA:10, RSI:9, RSI_MA:30, SL Candles:10\n",
      "2023     -10.8425          237  28.6920                3.4796             -1.4642     -81.5896      -0.1329  EMA:10, RSI:9, RSI_MA:30, SL Candles:10\n",
      "2024      12.2940          237  23.6287                4.4908             -1.3215     -78.5699       0.1565  EMA:10, RSI:9, RSI_MA:30, SL Candles:10\n",
      "2025       8.0026           12  41.6667                3.8934             -1.6378      -6.8365       1.1706  EMA:10, RSI:9, RSI_MA:30, SL Candles:10\n",
      "Overall   17.4161         1665  29.7898                3.3712             -1.4155    -126.1950       0.1380  EMA:10, RSI:9, RSI_MA:30, SL Candles:10\n",
      "EMA:10, RSI:9, RSI_MA:35, SL Candles:2\n"
     ]
    },
    {
     "name": "stderr",
     "output_type": "stream",
     "text": [
      "/tmp/ipykernel_33520/419236688.py:151: FutureWarning: Setting an item of incompatible dtype is deprecated and will raise an error in a future version of pandas. Value 'RSI Upmove' has dtype incompatible with float64, please explicitly cast to a compatible dtype first.\n",
      "  tradebook_short.loc[\n"
     ]
    },
    {
     "name": "stdout",
     "output_type": "stream",
     "text": [
      "        Total ROI Total Trades Win Rate Avg Profit% per Trade Avg Loss% per Trade Max Drawdown ROI/DD Ratio                               Variation\n",
      "2017            0            0      NaN                   NaN                 NaN          NaN          NaN  EMA:10, RSI:9, RSI_MA:35, SL Candles:2\n",
      "2018     -74.0686          230  29.5652                4.3932             -2.3013     -89.9759      -0.8232  EMA:10, RSI:9, RSI_MA:35, SL Candles:2\n",
      "2019     -40.3160          235  29.7872                4.3571             -2.0928    -104.7426      -0.3849  EMA:10, RSI:9, RSI_MA:35, SL Candles:2\n",
      "2020     116.8043          232  34.4828                5.6480             -2.2042     -43.8091       2.6662  EMA:10, RSI:9, RSI_MA:35, SL Candles:2\n",
      "2021      66.2961          237  31.2236                5.9662             -2.3019     -64.7761       1.0235  EMA:10, RSI:9, RSI_MA:35, SL Candles:2\n",
      "2022      -9.6583          253  26.8775                6.3011             -2.3683    -119.3559      -0.0809  EMA:10, RSI:9, RSI_MA:35, SL Candles:2\n",
      "2023      45.6470          239  26.7782                7.4241             -2.4543    -132.0922       0.3456  EMA:10, RSI:9, RSI_MA:35, SL Candles:2\n",
      "2024     -59.0210          233  24.8927                5.9296             -2.3025    -154.0708      -0.3831  EMA:10, RSI:9, RSI_MA:35, SL Candles:2\n",
      "2025      12.5704           12  41.6667                4.8980             -1.7028      -6.9147       1.8179  EMA:10, RSI:9, RSI_MA:35, SL Candles:2\n",
      "Overall   58.2539         1671  29.1442                5.6860             -2.2896    -183.6747       0.3172  EMA:10, RSI:9, RSI_MA:35, SL Candles:2\n",
      "EMA:10, RSI:9, RSI_MA:35, SL Candles:4\n"
     ]
    },
    {
     "name": "stderr",
     "output_type": "stream",
     "text": [
      "/tmp/ipykernel_33520/419236688.py:151: FutureWarning: Setting an item of incompatible dtype is deprecated and will raise an error in a future version of pandas. Value 'RSI Upmove' has dtype incompatible with float64, please explicitly cast to a compatible dtype first.\n",
      "  tradebook_short.loc[\n"
     ]
    },
    {
     "name": "stdout",
     "output_type": "stream",
     "text": [
      "        Total ROI Total Trades Win Rate Avg Profit% per Trade Avg Loss% per Trade Max Drawdown ROI/DD Ratio                               Variation\n",
      "2017            0            0      NaN                   NaN                 NaN          NaN          NaN  EMA:10, RSI:9, RSI_MA:35, SL Candles:4\n",
      "2018     -54.9549          227  30.3965                3.6320             -1.9340     -64.9219      -0.8465  EMA:10, RSI:9, RSI_MA:35, SL Candles:4\n",
      "2019     -37.8051          233  30.0429                3.7991             -1.8634     -93.9877      -0.4022  EMA:10, RSI:9, RSI_MA:35, SL Candles:4\n",
      "2020      94.9135          229  34.4978                4.5945             -1.7870     -36.6863       2.5872  EMA:10, RSI:9, RSI_MA:35, SL Candles:4\n",
      "2021      58.1341          236  31.3559                5.1434             -1.9906     -58.2015       0.9988  EMA:10, RSI:9, RSI_MA:35, SL Candles:4\n",
      "2022     -45.4150          248  27.4194                4.7947             -2.0636    -131.3956      -0.3456  EMA:10, RSI:9, RSI_MA:35, SL Candles:4\n",
      "2023      76.4789          235  27.6596                6.7080             -2.1150    -119.4225       0.6404  EMA:10, RSI:9, RSI_MA:35, SL Candles:4\n",
      "2024      -1.8602          230  25.2174                5.6032             -1.9003     -89.6844      -0.0207  EMA:10, RSI:9, RSI_MA:35, SL Candles:4\n",
      "2025      10.7163           12  41.6667                4.3445             -1.5723      -6.1475       1.7432  EMA:10, RSI:9, RSI_MA:35, SL Candles:4\n",
      "Overall  100.2075         1650  29.5758                4.8543             -1.9524    -131.3956       0.7626  EMA:10, RSI:9, RSI_MA:35, SL Candles:4\n",
      "EMA:10, RSI:9, RSI_MA:35, SL Candles:6\n"
     ]
    },
    {
     "name": "stderr",
     "output_type": "stream",
     "text": [
      "/tmp/ipykernel_33520/419236688.py:151: FutureWarning: Setting an item of incompatible dtype is deprecated and will raise an error in a future version of pandas. Value 'RSI Upmove' has dtype incompatible with float64, please explicitly cast to a compatible dtype first.\n",
      "  tradebook_short.loc[\n"
     ]
    },
    {
     "name": "stdout",
     "output_type": "stream",
     "text": [
      "        Total ROI Total Trades Win Rate Avg Profit% per Trade Avg Loss% per Trade Max Drawdown ROI/DD Ratio                               Variation\n",
      "2017            0            0      NaN                   NaN                 NaN          NaN          NaN  EMA:10, RSI:9, RSI_MA:35, SL Candles:6\n",
      "2018     -63.8558          225  30.6667                3.0973             -1.7793     -63.2340      -1.0098  EMA:10, RSI:9, RSI_MA:35, SL Candles:6\n",
      "2019     -16.7000          232  30.1724                3.6679             -1.6880     -78.4048      -0.2130  EMA:10, RSI:9, RSI_MA:35, SL Candles:6\n",
      "2020      93.7736          229  34.4978                4.1959             -1.5847     -33.3673       2.8103  EMA:10, RSI:9, RSI_MA:35, SL Candles:6\n",
      "2021      58.0345          236  31.3559                4.6169             -1.7507     -55.5536       1.0447  EMA:10, RSI:9, RSI_MA:35, SL Candles:6\n",
      "2022     -33.8228          248  27.4194                4.4313             -1.8620    -114.6395      -0.2950  EMA:10, RSI:9, RSI_MA:35, SL Candles:6\n",
      "2023      19.1590          234  27.7778                5.2233             -1.8956    -107.0094       0.1790  EMA:10, RSI:9, RSI_MA:35, SL Candles:6\n",
      "2024      -3.1289          229  25.3275                5.0347             -1.7260     -95.1771      -0.0329  EMA:10, RSI:9, RSI_MA:35, SL Candles:6\n",
      "2025       8.8733           12  41.6667                3.7467             -1.4086      -5.3783       1.6498  EMA:10, RSI:9, RSI_MA:35, SL Candles:6\n",
      "Overall   62.3328         1645  29.6657                4.2934             -1.7570    -122.2727       0.5098  EMA:10, RSI:9, RSI_MA:35, SL Candles:6\n",
      "EMA:10, RSI:9, RSI_MA:35, SL Candles:8\n"
     ]
    },
    {
     "name": "stderr",
     "output_type": "stream",
     "text": [
      "/tmp/ipykernel_33520/419236688.py:151: FutureWarning: Setting an item of incompatible dtype is deprecated and will raise an error in a future version of pandas. Value 'RSI Upmove' has dtype incompatible with float64, please explicitly cast to a compatible dtype first.\n",
      "  tradebook_short.loc[\n"
     ]
    },
    {
     "name": "stdout",
     "output_type": "stream",
     "text": [
      "        Total ROI Total Trades Win Rate Avg Profit% per Trade Avg Loss% per Trade Max Drawdown ROI/DD Ratio                               Variation\n",
      "2017            0            0      NaN                   NaN                 NaN          NaN          NaN  EMA:10, RSI:9, RSI_MA:35, SL Candles:8\n",
      "2018     -53.0312          224  30.8036                2.8877             -1.6276     -58.3796      -0.9084  EMA:10, RSI:9, RSI_MA:35, SL Candles:8\n",
      "2019     -15.2218          232  30.1724                3.3897             -1.5586     -70.3087      -0.2165  EMA:10, RSI:9, RSI_MA:35, SL Candles:8\n",
      "2020      76.2138          229  34.4978                3.7472             -1.4654     -34.6519       2.1994  EMA:10, RSI:9, RSI_MA:35, SL Candles:8\n",
      "2021      37.7492          236  31.3559                3.9882             -1.5888     -65.7133       0.5745  EMA:10, RSI:9, RSI_MA:35, SL Candles:8\n",
      "2022     -21.8973          248  27.4194                4.1483             -1.6888     -95.9420      -0.2282  EMA:10, RSI:9, RSI_MA:35, SL Candles:8\n",
      "2023      11.3622          232  28.0172                4.4478             -1.6631     -92.0903       0.1234  EMA:10, RSI:9, RSI_MA:35, SL Candles:8\n",
      "2024       6.3234          228  25.4386                4.5186             -1.5044     -80.0388       0.0790  EMA:10, RSI:9, RSI_MA:35, SL Candles:8\n",
      "2025       8.5250           12  41.6667                3.6467             -1.3869      -5.5026       1.5493  EMA:10, RSI:9, RSI_MA:35, SL Candles:8\n",
      "Overall   50.0232         1641  29.7380                3.8508             -1.5864    -102.5721       0.4877  EMA:10, RSI:9, RSI_MA:35, SL Candles:8\n",
      "EMA:10, RSI:9, RSI_MA:35, SL Candles:10\n"
     ]
    },
    {
     "name": "stderr",
     "output_type": "stream",
     "text": [
      "/tmp/ipykernel_33520/419236688.py:151: FutureWarning: Setting an item of incompatible dtype is deprecated and will raise an error in a future version of pandas. Value 'RSI Upmove' has dtype incompatible with float64, please explicitly cast to a compatible dtype first.\n",
      "  tradebook_short.loc[\n"
     ]
    },
    {
     "name": "stdout",
     "output_type": "stream",
     "text": [
      "        Total ROI Total Trades Win Rate Avg Profit% per Trade Avg Loss% per Trade Max Drawdown ROI/DD Ratio                                Variation\n",
      "2017            0            0      NaN                   NaN                 NaN          NaN          NaN  EMA:10, RSI:9, RSI_MA:35, SL Candles:10\n",
      "2018     -37.4136          222  31.0811                2.6754             -1.4511     -44.4032      -0.8426  EMA:10, RSI:9, RSI_MA:35, SL Candles:10\n",
      "2019     -21.5660          231  30.3030                2.9860             -1.4322     -65.4276      -0.3296  EMA:10, RSI:9, RSI_MA:35, SL Candles:10\n",
      "2020      81.5562          229  34.4978                3.5454             -1.3236     -37.5598       2.1714  EMA:10, RSI:9, RSI_MA:35, SL Candles:10\n",
      "2021      49.5550          236  31.3559                3.8026             -1.4311     -54.5997       0.9076  EMA:10, RSI:9, RSI_MA:35, SL Candles:10\n",
      "2022     -66.1429          248  27.4194                3.1689             -1.5646    -101.7915      -0.6498  EMA:10, RSI:9, RSI_MA:35, SL Candles:10\n",
      "2023       0.8183          231  28.5714                3.6747             -1.4649     -87.4233       0.0094  EMA:10, RSI:9, RSI_MA:35, SL Candles:10\n",
      "2024      12.1834          228  25.4386                4.3119             -1.3995     -74.8395       0.1628  EMA:10, RSI:9, RSI_MA:35, SL Candles:10\n",
      "2025       8.6686           12  41.6667                3.6244             -1.3505      -5.3589       1.6176  EMA:10, RSI:9, RSI_MA:35, SL Candles:10\n",
      "Overall   27.6590         1637  29.8717                3.4383             -1.4405    -106.1777       0.2605  EMA:10, RSI:9, RSI_MA:35, SL Candles:10\n",
      "EMA:10, RSI:12, RSI_MA:5, SL Candles:2\n"
     ]
    },
    {
     "name": "stderr",
     "output_type": "stream",
     "text": [
      "/tmp/ipykernel_33520/419236688.py:137: FutureWarning: Setting an item of incompatible dtype is deprecated and will raise an error in a future version of pandas. Value 'Trailing SL Hit' has dtype incompatible with float64, please explicitly cast to a compatible dtype first.\n",
      "  tradebook_short.loc[\n"
     ]
    },
    {
     "name": "stdout",
     "output_type": "stream",
     "text": [
      "EMA:10, RSI:12, RSI_MA:5, SL Candles:4\n"
     ]
    },
    {
     "name": "stderr",
     "output_type": "stream",
     "text": [
      "/tmp/ipykernel_33520/419236688.py:137: FutureWarning: Setting an item of incompatible dtype is deprecated and will raise an error in a future version of pandas. Value 'Trailing SL Hit' has dtype incompatible with float64, please explicitly cast to a compatible dtype first.\n",
      "  tradebook_short.loc[\n"
     ]
    },
    {
     "name": "stdout",
     "output_type": "stream",
     "text": [
      "EMA:10, RSI:12, RSI_MA:5, SL Candles:6\n"
     ]
    },
    {
     "name": "stderr",
     "output_type": "stream",
     "text": [
      "/tmp/ipykernel_33520/419236688.py:137: FutureWarning: Setting an item of incompatible dtype is deprecated and will raise an error in a future version of pandas. Value 'Trailing SL Hit' has dtype incompatible with float64, please explicitly cast to a compatible dtype first.\n",
      "  tradebook_short.loc[\n"
     ]
    },
    {
     "name": "stdout",
     "output_type": "stream",
     "text": [
      "EMA:10, RSI:12, RSI_MA:5, SL Candles:8\n"
     ]
    },
    {
     "name": "stderr",
     "output_type": "stream",
     "text": [
      "/tmp/ipykernel_33520/419236688.py:137: FutureWarning: Setting an item of incompatible dtype is deprecated and will raise an error in a future version of pandas. Value 'Trailing SL Hit' has dtype incompatible with float64, please explicitly cast to a compatible dtype first.\n",
      "  tradebook_short.loc[\n"
     ]
    },
    {
     "name": "stdout",
     "output_type": "stream",
     "text": [
      "EMA:10, RSI:12, RSI_MA:5, SL Candles:10\n"
     ]
    },
    {
     "name": "stderr",
     "output_type": "stream",
     "text": [
      "/tmp/ipykernel_33520/419236688.py:137: FutureWarning: Setting an item of incompatible dtype is deprecated and will raise an error in a future version of pandas. Value 'Trailing SL Hit' has dtype incompatible with float64, please explicitly cast to a compatible dtype first.\n",
      "  tradebook_short.loc[\n"
     ]
    },
    {
     "name": "stdout",
     "output_type": "stream",
     "text": [
      "EMA:10, RSI:12, RSI_MA:10, SL Candles:2\n"
     ]
    },
    {
     "name": "stderr",
     "output_type": "stream",
     "text": [
      "/tmp/ipykernel_33520/419236688.py:151: FutureWarning: Setting an item of incompatible dtype is deprecated and will raise an error in a future version of pandas. Value 'RSI Upmove' has dtype incompatible with float64, please explicitly cast to a compatible dtype first.\n",
      "  tradebook_short.loc[\n"
     ]
    },
    {
     "name": "stdout",
     "output_type": "stream",
     "text": [
      "        Total ROI Total Trades Win Rate Avg Profit% per Trade Avg Loss% per Trade Max Drawdown ROI/DD Ratio                                Variation\n",
      "2017            0            0      NaN                   NaN                 NaN          NaN          NaN  EMA:10, RSI:12, RSI_MA:10, SL Candles:2\n",
      "2018       5.8451          286  30.7692                5.0434             -2.2120     -87.8943       0.0665  EMA:10, RSI:12, RSI_MA:10, SL Candles:2\n",
      "2019      22.4103          266  34.2105                4.5032             -2.2136     -96.3767       0.2325  EMA:10, RSI:12, RSI_MA:10, SL Candles:2\n",
      "2020     168.9330          277  37.5451                5.3490             -2.2391     -47.1491       3.5829  EMA:10, RSI:12, RSI_MA:10, SL Candles:2\n",
      "2021      13.4883          296  31.7568                5.0600             -2.2879     -68.4341       0.1971  EMA:10, RSI:12, RSI_MA:10, SL Candles:2\n",
      "2022     -31.0191          312  35.8974                4.2352             -2.5268    -113.7007      -0.2728  EMA:10, RSI:12, RSI_MA:10, SL Candles:2\n",
      "2023     -94.8711          305  29.5082                4.8145             -2.4566    -158.3898      -0.5990  EMA:10, RSI:12, RSI_MA:10, SL Candles:2\n",
      "2024     -57.2002          288  29.5139                4.9746             -2.3647    -177.6245      -0.3220  EMA:10, RSI:12, RSI_MA:10, SL Candles:2\n",
      "2025      28.5326           18  61.1111                4.0329             -2.2614      -6.4892       4.3969  EMA:10, RSI:12, RSI_MA:10, SL Candles:2\n",
      "Overall   56.1189         2048  32.9590                4.8302             -2.3338    -288.6308       0.1944  EMA:10, RSI:12, RSI_MA:10, SL Candles:2\n",
      "EMA:10, RSI:12, RSI_MA:10, SL Candles:4\n"
     ]
    },
    {
     "name": "stderr",
     "output_type": "stream",
     "text": [
      "/tmp/ipykernel_33520/419236688.py:151: FutureWarning: Setting an item of incompatible dtype is deprecated and will raise an error in a future version of pandas. Value 'RSI Upmove' has dtype incompatible with float64, please explicitly cast to a compatible dtype first.\n",
      "  tradebook_short.loc[\n"
     ]
    },
    {
     "name": "stdout",
     "output_type": "stream",
     "text": [
      "        Total ROI Total Trades Win Rate Avg Profit% per Trade Avg Loss% per Trade Max Drawdown ROI/DD Ratio                                Variation\n",
      "2017            0            0      NaN                   NaN                 NaN          NaN          NaN  EMA:10, RSI:12, RSI_MA:10, SL Candles:4\n",
      "2018       0.2769          284  31.3380                4.0575             -1.8505     -63.7944       0.0043  EMA:10, RSI:12, RSI_MA:10, SL Candles:4\n",
      "2019      28.1073          263  34.6008                3.8457             -1.8712     -81.9113       0.3431  EMA:10, RSI:12, RSI_MA:10, SL Candles:4\n",
      "2020     135.5367          276  37.6812                4.3154             -1.8213     -45.2912       2.9926  EMA:10, RSI:12, RSI_MA:10, SL Candles:4\n",
      "2021      34.1414          291  32.3024                4.2760             -1.8670     -52.4744       0.6506  EMA:10, RSI:12, RSI_MA:10, SL Candles:4\n",
      "2022     -57.5012          310  36.1290                3.4170             -2.2233    -127.7925      -0.4500  EMA:10, RSI:12, RSI_MA:10, SL Candles:4\n",
      "2023     -44.1544          301  30.5648                4.1056             -2.0185    -123.8737      -0.3564  EMA:10, RSI:12, RSI_MA:10, SL Candles:4\n",
      "2024      10.5166          285  30.5263                4.5527             -1.9473    -103.8707       0.1012  EMA:10, RSI:12, RSI_MA:10, SL Candles:4\n",
      "2025      26.2558           18  61.1111                3.5773             -1.8707      -4.1643       6.3049  EMA:10, RSI:12, RSI_MA:10, SL Candles:4\n",
      "Overall  133.1791         2028  33.5306                4.0554             -1.9470    -181.1274       0.7353  EMA:10, RSI:12, RSI_MA:10, SL Candles:4\n",
      "EMA:10, RSI:12, RSI_MA:10, SL Candles:6\n"
     ]
    },
    {
     "name": "stderr",
     "output_type": "stream",
     "text": [
      "/tmp/ipykernel_33520/419236688.py:151: FutureWarning: Setting an item of incompatible dtype is deprecated and will raise an error in a future version of pandas. Value 'RSI Upmove' has dtype incompatible with float64, please explicitly cast to a compatible dtype first.\n",
      "  tradebook_short.loc[\n"
     ]
    },
    {
     "name": "stdout",
     "output_type": "stream",
     "text": [
      "        Total ROI Total Trades Win Rate Avg Profit% per Trade Avg Loss% per Trade Max Drawdown ROI/DD Ratio                                Variation\n",
      "2017            0            0      NaN                   NaN                 NaN          NaN          NaN  EMA:10, RSI:12, RSI_MA:10, SL Candles:6\n",
      "2018     -22.8163          281  31.6726                3.4420             -1.7143     -65.2009      -0.3499  EMA:10, RSI:12, RSI_MA:10, SL Candles:6\n",
      "2019      35.9184          262  35.4962                3.4813             -1.7032     -68.8363       0.5218  EMA:10, RSI:12, RSI_MA:10, SL Candles:6\n",
      "2020     112.7089          276  38.0435                3.7023             -1.6143     -38.5560       2.9233  EMA:10, RSI:12, RSI_MA:10, SL Candles:6\n",
      "2021      13.7208          291  32.3024                3.6254             -1.6602     -46.3921       0.2958  EMA:10, RSI:12, RSI_MA:10, SL Candles:6\n",
      "2022     -47.8463          309  36.2460                3.1060             -2.0087    -109.4716      -0.4371  EMA:10, RSI:12, RSI_MA:10, SL Candles:6\n",
      "2023     -64.0047          300  30.6667                3.3580             -1.7930    -108.8322      -0.5881  EMA:10, RSI:12, RSI_MA:10, SL Candles:6\n",
      "2024      24.2217          282  30.8511                4.0998             -1.7049     -87.0885       0.2781  EMA:10, RSI:12, RSI_MA:10, SL Candles:6\n",
      "2025      20.3668           18  61.1111                3.0119             -1.8234      -4.1643       4.8908  EMA:10, RSI:12, RSI_MA:10, SL Candles:6\n",
      "Overall   72.2693         2019  33.8286                3.5231             -1.7470    -172.6234       0.4187  EMA:10, RSI:12, RSI_MA:10, SL Candles:6\n",
      "EMA:10, RSI:12, RSI_MA:10, SL Candles:8\n"
     ]
    },
    {
     "name": "stderr",
     "output_type": "stream",
     "text": [
      "/tmp/ipykernel_33520/419236688.py:151: FutureWarning: Setting an item of incompatible dtype is deprecated and will raise an error in a future version of pandas. Value 'RSI Upmove' has dtype incompatible with float64, please explicitly cast to a compatible dtype first.\n",
      "  tradebook_short.loc[\n"
     ]
    },
    {
     "name": "stdout",
     "output_type": "stream",
     "text": [
      "        Total ROI Total Trades Win Rate Avg Profit% per Trade Avg Loss% per Trade Max Drawdown ROI/DD Ratio                                Variation\n",
      "2017            0            0      NaN                   NaN                 NaN          NaN          NaN  EMA:10, RSI:12, RSI_MA:10, SL Candles:8\n",
      "2018     -14.8984          279  32.2581                3.1485             -1.5781     -60.4332      -0.2465  EMA:10, RSI:12, RSI_MA:10, SL Candles:8\n",
      "2019      25.7336          262  35.4962                3.1570             -1.5850     -60.2904       0.4268  EMA:10, RSI:12, RSI_MA:10, SL Candles:8\n",
      "2020      80.8761          276  38.0435                3.2855             -1.5444     -51.2809       1.5771  EMA:10, RSI:12, RSI_MA:10, SL Candles:8\n",
      "2021      20.0547          291  32.3024                3.4057             -1.5233     -48.6575       0.4122  EMA:10, RSI:12, RSI_MA:10, SL Candles:8\n",
      "2022     -43.8645          309  36.2460                2.8351             -1.8345    -100.3279      -0.4372  EMA:10, RSI:12, RSI_MA:10, SL Candles:8\n",
      "2023     -41.0887          298  30.8725                3.0656             -1.5686     -89.6534      -0.4583  EMA:10, RSI:12, RSI_MA:10, SL Candles:8\n",
      "2024      24.7717          282  30.8511                3.7521             -1.5470     -76.0736       0.3256  EMA:10, RSI:12, RSI_MA:10, SL Candles:8\n",
      "2025      21.3711           18  61.1111                2.9923             -1.6491      -4.0435       5.2854  EMA:10, RSI:12, RSI_MA:10, SL Candles:8\n",
      "Overall   72.9556         2015  33.9454                3.2178             -1.5988    -139.9434       0.5213  EMA:10, RSI:12, RSI_MA:10, SL Candles:8\n",
      "EMA:10, RSI:12, RSI_MA:10, SL Candles:10\n"
     ]
    },
    {
     "name": "stderr",
     "output_type": "stream",
     "text": [
      "/tmp/ipykernel_33520/419236688.py:151: FutureWarning: Setting an item of incompatible dtype is deprecated and will raise an error in a future version of pandas. Value 'RSI Upmove' has dtype incompatible with float64, please explicitly cast to a compatible dtype first.\n",
      "  tradebook_short.loc[\n"
     ]
    },
    {
     "name": "stdout",
     "output_type": "stream",
     "text": [
      "        Total ROI Total Trades Win Rate Avg Profit% per Trade Avg Loss% per Trade Max Drawdown ROI/DD Ratio                                 Variation\n",
      "2017            0            0      NaN                   NaN                 NaN          NaN          NaN  EMA:10, RSI:12, RSI_MA:10, SL Candles:10\n",
      "2018       9.2108          277  33.2130                3.0301             -1.4571     -49.4239       0.1864  EMA:10, RSI:12, RSI_MA:10, SL Candles:10\n",
      "2019      13.2346          262  35.4962                2.9025             -1.5189     -57.8789       0.2287  EMA:10, RSI:12, RSI_MA:10, SL Candles:10\n",
      "2020      85.1309          276  38.0435                3.1881             -1.4598     -48.5199       1.7546  EMA:10, RSI:12, RSI_MA:10, SL Candles:10\n",
      "2021      23.2498          291  32.3024                3.2612             -1.4381     -44.4267       0.5233  EMA:10, RSI:12, RSI_MA:10, SL Candles:10\n",
      "2022     -38.4415          309  36.2460                2.6853             -1.7218     -93.2804      -0.4121  EMA:10, RSI:12, RSI_MA:10, SL Candles:10\n",
      "2023     -28.6731          296  31.4189                2.8098             -1.4285     -74.1617      -0.3866  EMA:10, RSI:12, RSI_MA:10, SL Candles:10\n",
      "2024      25.9405          282  30.8511                3.5958             -1.4713     -74.1735       0.3497  EMA:10, RSI:12, RSI_MA:10, SL Candles:10\n",
      "2025      20.8134           18  61.1111                2.9246             -1.6224      -4.0435       5.1474  EMA:10, RSI:12, RSI_MA:10, SL Candles:10\n",
      "Overall  110.4656         2011  34.1621                3.0525             -1.5005    -121.3228       0.9105  EMA:10, RSI:12, RSI_MA:10, SL Candles:10\n",
      "EMA:10, RSI:12, RSI_MA:15, SL Candles:2\n"
     ]
    },
    {
     "name": "stderr",
     "output_type": "stream",
     "text": [
      "/tmp/ipykernel_33520/419236688.py:123: FutureWarning: Setting an item of incompatible dtype is deprecated and will raise an error in a future version of pandas. Value 'Initial SL Hit' has dtype incompatible with float64, please explicitly cast to a compatible dtype first.\n",
      "  tradebook_short.loc[\n"
     ]
    },
    {
     "name": "stdout",
     "output_type": "stream",
     "text": [
      "        Total ROI Total Trades Win Rate Avg Profit% per Trade Avg Loss% per Trade Max Drawdown ROI/DD Ratio                                Variation\n",
      "2017            0            0      NaN                   NaN                 NaN          NaN          NaN  EMA:10, RSI:12, RSI_MA:15, SL Candles:2\n",
      "2018      15.5387          247  31.1741                5.0633             -2.2020     -71.5086       0.2173  EMA:10, RSI:12, RSI_MA:15, SL Candles:2\n",
      "2019      -8.4947          240  30.4167                4.5682             -2.0477     -99.5534      -0.0853  EMA:10, RSI:12, RSI_MA:15, SL Candles:2\n",
      "2020     112.6403          250  34.4000                5.2817             -2.0828     -51.5005       2.1872  EMA:10, RSI:12, RSI_MA:15, SL Candles:2\n",
      "2021      15.8063          267  30.3371                5.4413             -2.2846     -77.4085       0.2042  EMA:10, RSI:12, RSI_MA:15, SL Candles:2\n",
      "2022       3.2375          263  30.7985                5.6051             -2.4768    -136.2950       0.0238  EMA:10, RSI:12, RSI_MA:15, SL Candles:2\n",
      "2023     -31.2597          265  28.3019                5.1820             -2.2100    -114.1241      -0.2739  EMA:10, RSI:12, RSI_MA:15, SL Candles:2\n",
      "2024     -10.4603          259  27.0270                6.0900             -2.3109    -165.4630      -0.0632  EMA:10, RSI:12, RSI_MA:15, SL Candles:2\n",
      "2025      26.7918           14  35.7143                8.9132             -1.9749      -6.1420       4.3621  EMA:10, RSI:12, RSI_MA:15, SL Candles:2\n",
      "Overall  123.7998         1805  30.3601                5.3501             -2.2339    -240.6053       0.5145  EMA:10, RSI:12, RSI_MA:15, SL Candles:2\n",
      "EMA:10, RSI:12, RSI_MA:15, SL Candles:4\n"
     ]
    },
    {
     "name": "stderr",
     "output_type": "stream",
     "text": [
      "/tmp/ipykernel_33520/419236688.py:123: FutureWarning: Setting an item of incompatible dtype is deprecated and will raise an error in a future version of pandas. Value 'Initial SL Hit' has dtype incompatible with float64, please explicitly cast to a compatible dtype first.\n",
      "  tradebook_short.loc[\n"
     ]
    },
    {
     "name": "stdout",
     "output_type": "stream",
     "text": [
      "        Total ROI Total Trades Win Rate Avg Profit% per Trade Avg Loss% per Trade Max Drawdown ROI/DD Ratio                                Variation\n",
      "2017            0            0      NaN                   NaN                 NaN          NaN          NaN  EMA:10, RSI:12, RSI_MA:15, SL Candles:4\n",
      "2018      31.6493          244  31.9672                4.2152             -1.7900     -45.4795       0.6959  EMA:10, RSI:12, RSI_MA:15, SL Candles:4\n",
      "2019      -3.4573          239  30.5439                3.9192             -1.7443     -88.0985      -0.0392  EMA:10, RSI:12, RSI_MA:15, SL Candles:4\n",
      "2020     100.8977          249  34.5382                4.4702             -1.7395     -43.7074       2.3085  EMA:10, RSI:12, RSI_MA:15, SL Candles:4\n",
      "2021      34.8417          263  30.4183                4.8452             -1.9277     -63.3158       0.5503  EMA:10, RSI:12, RSI_MA:15, SL Candles:4\n",
      "2022     -51.5669          259  31.2741                4.0782             -2.1455    -138.2847      -0.3729  EMA:10, RSI:12, RSI_MA:15, SL Candles:4\n",
      "2023     -12.8558          262  29.0076                4.3947             -1.8648    -100.0391      -0.1285  EMA:10, RSI:12, RSI_MA:15, SL Candles:4\n",
      "2024      45.5726          258  27.5194                5.6960             -1.9189    -108.3103       0.4208  EMA:10, RSI:12, RSI_MA:15, SL Candles:4\n",
      "2025      15.1927           14  35.7143                6.3279             -1.8274      -5.5557       2.7346  EMA:10, RSI:12, RSI_MA:15, SL Candles:4\n",
      "Overall  160.2739         1788  30.7606                4.5224             -1.8797    -175.5647       0.9129  EMA:10, RSI:12, RSI_MA:15, SL Candles:4\n",
      "EMA:10, RSI:12, RSI_MA:15, SL Candles:6\n"
     ]
    },
    {
     "name": "stderr",
     "output_type": "stream",
     "text": [
      "/tmp/ipykernel_33520/419236688.py:123: FutureWarning: Setting an item of incompatible dtype is deprecated and will raise an error in a future version of pandas. Value 'Initial SL Hit' has dtype incompatible with float64, please explicitly cast to a compatible dtype first.\n",
      "  tradebook_short.loc[\n"
     ]
    },
    {
     "name": "stdout",
     "output_type": "stream",
     "text": [
      "        Total ROI Total Trades Win Rate Avg Profit% per Trade Avg Loss% per Trade Max Drawdown ROI/DD Ratio                                Variation\n",
      "2017            0            0      NaN                   NaN                 NaN          NaN          NaN  EMA:10, RSI:12, RSI_MA:15, SL Candles:6\n",
      "2018       5.2493          242  32.2314                3.5467             -1.6549     -48.5373       0.1081  EMA:10, RSI:12, RSI_MA:15, SL Candles:6\n",
      "2019      15.8617          238  31.0924                3.6899             -1.5682     -78.6259       0.2017  EMA:10, RSI:12, RSI_MA:15, SL Candles:6\n",
      "2020      73.8627          247  34.8178                3.7576             -1.5484     -34.8348       2.1204  EMA:10, RSI:12, RSI_MA:15, SL Candles:6\n",
      "2021      20.4329          262  30.5344                4.1313             -1.7037     -59.5000       0.3434  EMA:10, RSI:12, RSI_MA:15, SL Candles:6\n",
      "2022     -53.0409          259  31.2741                3.6064             -1.9391    -129.2157      -0.4105  EMA:10, RSI:12, RSI_MA:15, SL Candles:6\n",
      "2023     -39.4490          261  29.1188                3.5718             -1.6806     -89.1512      -0.4425  EMA:10, RSI:12, RSI_MA:15, SL Candles:6\n",
      "2024      48.9249          256  27.7344                5.0973             -1.6918     -98.2018       0.4982  EMA:10, RSI:12, RSI_MA:15, SL Candles:6\n",
      "2025      12.8671           14  35.7143                5.5747             -1.6674      -4.2983       2.9935  EMA:10, RSI:12, RSI_MA:15, SL Candles:6\n",
      "Overall   84.7086         1779  30.9725                3.9142             -1.6873    -178.2258       0.4753  EMA:10, RSI:12, RSI_MA:15, SL Candles:6\n",
      "EMA:10, RSI:12, RSI_MA:15, SL Candles:8\n"
     ]
    },
    {
     "name": "stderr",
     "output_type": "stream",
     "text": [
      "/tmp/ipykernel_33520/419236688.py:137: FutureWarning: Setting an item of incompatible dtype is deprecated and will raise an error in a future version of pandas. Value 'Trailing SL Hit' has dtype incompatible with float64, please explicitly cast to a compatible dtype first.\n",
      "  tradebook_short.loc[\n"
     ]
    },
    {
     "name": "stdout",
     "output_type": "stream",
     "text": [
      "        Total ROI Total Trades Win Rate Avg Profit% per Trade Avg Loss% per Trade Max Drawdown ROI/DD Ratio                                Variation\n",
      "2017            0            0      NaN                   NaN                 NaN          NaN          NaN  EMA:10, RSI:12, RSI_MA:15, SL Candles:8\n",
      "2018       7.3739          240  32.5000                3.1716             -1.4816     -47.6122       0.1549  EMA:10, RSI:12, RSI_MA:15, SL Candles:8\n",
      "2019      10.9819          238  31.0924                3.3237             -1.4327     -68.0425       0.1614  EMA:10, RSI:12, RSI_MA:15, SL Candles:8\n",
      "2020      51.5256          247  34.8178                3.3067             -1.4463     -40.2830       1.2791  EMA:10, RSI:12, RSI_MA:15, SL Candles:8\n",
      "2021      18.7614          262  30.5344                3.7765             -1.5569     -63.3258       0.2963  EMA:10, RSI:12, RSI_MA:15, SL Candles:8\n",
      "2022     -34.9652          259  31.2741                3.4645             -1.7730    -114.3838      -0.3057  EMA:10, RSI:12, RSI_MA:15, SL Candles:8\n",
      "2023      -9.4234          260  29.2308                3.2845             -1.4078     -68.9288      -0.1367  EMA:10, RSI:12, RSI_MA:15, SL Candles:8\n",
      "2024      41.5381          256  27.7344                4.5145             -1.5081     -93.0494       0.4464  EMA:10, RSI:12, RSI_MA:15, SL Candles:8\n",
      "2025      12.6034           14  35.7143                5.2422             -1.5120      -4.1634       3.0272  EMA:10, RSI:12, RSI_MA:15, SL Candles:8\n",
      "Overall   98.3957         1776  31.0248                3.5514             -1.5171    -129.0588       0.7624  EMA:10, RSI:12, RSI_MA:15, SL Candles:8\n",
      "EMA:10, RSI:12, RSI_MA:15, SL Candles:10\n"
     ]
    },
    {
     "name": "stderr",
     "output_type": "stream",
     "text": [
      "/tmp/ipykernel_33520/419236688.py:137: FutureWarning: Setting an item of incompatible dtype is deprecated and will raise an error in a future version of pandas. Value 'Trailing SL Hit' has dtype incompatible with float64, please explicitly cast to a compatible dtype first.\n",
      "  tradebook_short.loc[\n"
     ]
    },
    {
     "name": "stdout",
     "output_type": "stream",
     "text": [
      "        Total ROI Total Trades Win Rate Avg Profit% per Trade Avg Loss% per Trade Max Drawdown ROI/DD Ratio                                 Variation\n",
      "2017            0            0      NaN                   NaN                 NaN          NaN          NaN  EMA:10, RSI:12, RSI_MA:15, SL Candles:10\n",
      "2018      12.3592          240  32.5000                2.9804             -1.3587     -40.8741       0.3024  EMA:10, RSI:12, RSI_MA:15, SL Candles:10\n",
      "2019      -4.3791          237  31.2236                2.8442             -1.3181     -66.2006      -0.0661  EMA:10, RSI:12, RSI_MA:15, SL Candles:10\n",
      "2020      49.8750          247  34.8178                3.0977             -1.3449     -47.5327       1.0493  EMA:10, RSI:12, RSI_MA:15, SL Candles:10\n",
      "2021      23.8100          262  30.5344                3.5080             -1.4111     -55.0764       0.4323  EMA:10, RSI:12, RSI_MA:15, SL Candles:10\n",
      "2022     -51.6696          259  31.2741                3.0502             -1.6783    -115.4741      -0.4475  EMA:10, RSI:12, RSI_MA:15, SL Candles:10\n",
      "2023       0.2153          257  29.9611                2.9342             -1.2540     -57.8163       0.0037  EMA:10, RSI:12, RSI_MA:15, SL Candles:10\n",
      "2024      42.1596          256  27.7344                4.3346             -1.4357     -95.1262       0.4432  EMA:10, RSI:12, RSI_MA:15, SL Candles:10\n",
      "2025      12.9935           14  35.7143                5.2283             -1.4609      -3.7035       3.5084  EMA:10, RSI:12, RSI_MA:15, SL Candles:10\n",
      "Overall   85.3640         1772  31.1512                3.2552             -1.4029    -124.3221       0.6866  EMA:10, RSI:12, RSI_MA:15, SL Candles:10\n",
      "EMA:10, RSI:12, RSI_MA:20, SL Candles:2\n"
     ]
    },
    {
     "name": "stderr",
     "output_type": "stream",
     "text": [
      "/tmp/ipykernel_33520/419236688.py:151: FutureWarning: Setting an item of incompatible dtype is deprecated and will raise an error in a future version of pandas. Value 'RSI Upmove' has dtype incompatible with float64, please explicitly cast to a compatible dtype first.\n",
      "  tradebook_short.loc[\n"
     ]
    },
    {
     "name": "stdout",
     "output_type": "stream",
     "text": [
      "EMA:10, RSI:12, RSI_MA:20, SL Candles:4\n"
     ]
    },
    {
     "name": "stderr",
     "output_type": "stream",
     "text": [
      "/tmp/ipykernel_33520/419236688.py:151: FutureWarning: Setting an item of incompatible dtype is deprecated and will raise an error in a future version of pandas. Value 'RSI Upmove' has dtype incompatible with float64, please explicitly cast to a compatible dtype first.\n",
      "  tradebook_short.loc[\n"
     ]
    },
    {
     "name": "stdout",
     "output_type": "stream",
     "text": [
      "        Total ROI Total Trades Win Rate Avg Profit% per Trade Avg Loss% per Trade Max Drawdown ROI/DD Ratio                                Variation\n",
      "2017            0            0      NaN                   NaN                 NaN          NaN          NaN  EMA:10, RSI:12, RSI_MA:20, SL Candles:4\n",
      "2018     -52.3000          240  30.8333                3.6482             -1.9414     -60.4741      -0.8648  EMA:10, RSI:12, RSI_MA:20, SL Candles:4\n",
      "2019     -32.0243          231  31.1688                3.8243             -1.9332     -90.9604      -0.3521  EMA:10, RSI:12, RSI_MA:20, SL Candles:4\n",
      "2020      69.0747          240  34.1667                4.3265             -1.8082     -45.6343       1.5137  EMA:10, RSI:12, RSI_MA:20, SL Candles:4\n",
      "2021      34.5075          258  30.6202                4.9425             -1.9885     -75.1875       0.4590  EMA:10, RSI:12, RSI_MA:20, SL Candles:4\n",
      "2022     -55.6872          254  28.3465                4.6127             -2.1308    -137.3915      -0.4053  EMA:10, RSI:12, RSI_MA:20, SL Candles:4\n",
      "2023      22.8008          253  27.6680                5.6755             -2.0464    -111.8243       0.2039  EMA:10, RSI:12, RSI_MA:20, SL Candles:4\n",
      "2024      33.4690          240  25.0000                6.4736             -1.9719    -100.2470       0.3339  EMA:10, RSI:12, RSI_MA:20, SL Candles:4\n",
      "2025      13.1883           12  41.6667                5.0752             -1.7411      -3.1281       4.2160  EMA:10, RSI:12, RSI_MA:20, SL Candles:4\n",
      "Overall   33.0288         1728  29.7454                4.7349             -1.9775    -137.4464       0.2403  EMA:10, RSI:12, RSI_MA:20, SL Candles:4\n",
      "EMA:10, RSI:12, RSI_MA:20, SL Candles:6\n"
     ]
    },
    {
     "name": "stderr",
     "output_type": "stream",
     "text": [
      "/tmp/ipykernel_33520/419236688.py:151: FutureWarning: Setting an item of incompatible dtype is deprecated and will raise an error in a future version of pandas. Value 'RSI Upmove' has dtype incompatible with float64, please explicitly cast to a compatible dtype first.\n",
      "  tradebook_short.loc[\n"
     ]
    },
    {
     "name": "stdout",
     "output_type": "stream",
     "text": [
      "EMA:10, RSI:12, RSI_MA:20, SL Candles:8\n"
     ]
    },
    {
     "name": "stderr",
     "output_type": "stream",
     "text": [
      "/tmp/ipykernel_33520/419236688.py:151: FutureWarning: Setting an item of incompatible dtype is deprecated and will raise an error in a future version of pandas. Value 'RSI Upmove' has dtype incompatible with float64, please explicitly cast to a compatible dtype first.\n",
      "  tradebook_short.loc[\n"
     ]
    },
    {
     "name": "stdout",
     "output_type": "stream",
     "text": [
      "EMA:10, RSI:12, RSI_MA:20, SL Candles:10\n"
     ]
    },
    {
     "name": "stderr",
     "output_type": "stream",
     "text": [
      "/tmp/ipykernel_33520/419236688.py:151: FutureWarning: Setting an item of incompatible dtype is deprecated and will raise an error in a future version of pandas. Value 'RSI Upmove' has dtype incompatible with float64, please explicitly cast to a compatible dtype first.\n",
      "  tradebook_short.loc[\n"
     ]
    },
    {
     "name": "stdout",
     "output_type": "stream",
     "text": [
      "EMA:10, RSI:12, RSI_MA:25, SL Candles:2\n"
     ]
    },
    {
     "name": "stderr",
     "output_type": "stream",
     "text": [
      "/tmp/ipykernel_33520/419236688.py:151: FutureWarning: Setting an item of incompatible dtype is deprecated and will raise an error in a future version of pandas. Value 'RSI Upmove' has dtype incompatible with float64, please explicitly cast to a compatible dtype first.\n",
      "  tradebook_short.loc[\n"
     ]
    },
    {
     "name": "stdout",
     "output_type": "stream",
     "text": [
      "EMA:10, RSI:12, RSI_MA:25, SL Candles:4\n"
     ]
    },
    {
     "name": "stderr",
     "output_type": "stream",
     "text": [
      "/tmp/ipykernel_33520/419236688.py:151: FutureWarning: Setting an item of incompatible dtype is deprecated and will raise an error in a future version of pandas. Value 'RSI Upmove' has dtype incompatible with float64, please explicitly cast to a compatible dtype first.\n",
      "  tradebook_short.loc[\n"
     ]
    },
    {
     "name": "stdout",
     "output_type": "stream",
     "text": [
      "EMA:10, RSI:12, RSI_MA:25, SL Candles:6\n"
     ]
    },
    {
     "name": "stderr",
     "output_type": "stream",
     "text": [
      "/tmp/ipykernel_33520/419236688.py:151: FutureWarning: Setting an item of incompatible dtype is deprecated and will raise an error in a future version of pandas. Value 'RSI Upmove' has dtype incompatible with float64, please explicitly cast to a compatible dtype first.\n",
      "  tradebook_short.loc[\n"
     ]
    },
    {
     "name": "stdout",
     "output_type": "stream",
     "text": [
      "EMA:10, RSI:12, RSI_MA:25, SL Candles:8\n"
     ]
    },
    {
     "name": "stderr",
     "output_type": "stream",
     "text": [
      "/tmp/ipykernel_33520/419236688.py:151: FutureWarning: Setting an item of incompatible dtype is deprecated and will raise an error in a future version of pandas. Value 'RSI Upmove' has dtype incompatible with float64, please explicitly cast to a compatible dtype first.\n",
      "  tradebook_short.loc[\n"
     ]
    },
    {
     "name": "stdout",
     "output_type": "stream",
     "text": [
      "EMA:10, RSI:12, RSI_MA:25, SL Candles:10\n"
     ]
    },
    {
     "name": "stderr",
     "output_type": "stream",
     "text": [
      "/tmp/ipykernel_33520/419236688.py:151: FutureWarning: Setting an item of incompatible dtype is deprecated and will raise an error in a future version of pandas. Value 'RSI Upmove' has dtype incompatible with float64, please explicitly cast to a compatible dtype first.\n",
      "  tradebook_short.loc[\n"
     ]
    },
    {
     "name": "stdout",
     "output_type": "stream",
     "text": [
      "EMA:10, RSI:12, RSI_MA:30, SL Candles:2\n"
     ]
    },
    {
     "name": "stderr",
     "output_type": "stream",
     "text": [
      "/tmp/ipykernel_33520/419236688.py:137: FutureWarning: Setting an item of incompatible dtype is deprecated and will raise an error in a future version of pandas. Value 'Trailing SL Hit' has dtype incompatible with float64, please explicitly cast to a compatible dtype first.\n",
      "  tradebook_short.loc[\n"
     ]
    },
    {
     "name": "stdout",
     "output_type": "stream",
     "text": [
      "        Total ROI Total Trades Win Rate Avg Profit% per Trade Avg Loss% per Trade Max Drawdown ROI/DD Ratio                                Variation\n",
      "2017            0            0      NaN                   NaN                 NaN          NaN          NaN  EMA:10, RSI:12, RSI_MA:30, SL Candles:2\n",
      "2018     -86.4943          231  28.1385                4.6406             -2.3381     -85.4814      -1.0118  EMA:10, RSI:12, RSI_MA:30, SL Candles:2\n",
      "2019     -43.8141          230  28.6957                4.6632             -2.1438    -102.4894      -0.4275  EMA:10, RSI:12, RSI_MA:30, SL Candles:2\n",
      "2020     132.0592          219  34.2466                6.0246             -2.2208     -42.5768       3.1017  EMA:10, RSI:12, RSI_MA:30, SL Candles:2\n",
      "2021      77.8985          233  30.9013                6.3595             -2.3602     -74.9116       1.0399  EMA:10, RSI:12, RSI_MA:30, SL Candles:2\n",
      "2022      16.3961          250  27.2000                6.5668             -2.3634    -111.2031       0.1474  EMA:10, RSI:12, RSI_MA:30, SL Candles:2\n",
      "2023     -15.5547          244  26.2295                6.9438             -2.5553    -152.4990      -0.1020  EMA:10, RSI:12, RSI_MA:30, SL Candles:2\n",
      "2024     -81.9289          237  24.4726                6.0139             -2.4064    -179.0819      -0.4575  EMA:10, RSI:12, RSI_MA:30, SL Candles:2\n",
      "2025       9.3128           11  36.3636                4.8646             -1.4494      -4.8637       1.9148  EMA:10, RSI:12, RSI_MA:30, SL Candles:2\n",
      "Overall    7.8746         1655  28.5196                5.8863             -2.3419    -271.0299       0.0291  EMA:10, RSI:12, RSI_MA:30, SL Candles:2\n",
      "EMA:10, RSI:12, RSI_MA:30, SL Candles:4\n"
     ]
    },
    {
     "name": "stderr",
     "output_type": "stream",
     "text": [
      "/tmp/ipykernel_33520/419236688.py:137: FutureWarning: Setting an item of incompatible dtype is deprecated and will raise an error in a future version of pandas. Value 'Trailing SL Hit' has dtype incompatible with float64, please explicitly cast to a compatible dtype first.\n",
      "  tradebook_short.loc[\n"
     ]
    },
    {
     "name": "stdout",
     "output_type": "stream",
     "text": [
      "        Total ROI Total Trades Win Rate Avg Profit% per Trade Avg Loss% per Trade Max Drawdown ROI/DD Ratio                                Variation\n",
      "2017            0            0      NaN                   NaN                 NaN          NaN          NaN  EMA:10, RSI:12, RSI_MA:30, SL Candles:4\n",
      "2018     -59.3865          229  28.8210                3.9152             -1.9496     -58.6901      -1.0119  EMA:10, RSI:12, RSI_MA:30, SL Candles:4\n",
      "2019     -38.5155          229  28.8210                4.1525             -1.9177     -92.8044      -0.4150  EMA:10, RSI:12, RSI_MA:30, SL Candles:4\n",
      "2020      92.9630          216  34.2593                4.7571             -1.8244     -36.2795       2.5624  EMA:10, RSI:12, RSI_MA:30, SL Candles:4\n",
      "2021      66.8113          232  31.0345                5.4292             -2.0255     -62.4979       1.0690  EMA:10, RSI:12, RSI_MA:30, SL Candles:4\n",
      "2022     -40.8322          247  27.5304                4.8962             -2.0881    -119.2907      -0.3423  EMA:10, RSI:12, RSI_MA:30, SL Candles:4\n",
      "2023      13.1969          241  26.9710                6.2773             -2.2433    -140.4196       0.0940  EMA:10, RSI:12, RSI_MA:30, SL Candles:4\n",
      "2024     -19.6979          234  24.7863                5.7606             -2.0103    -108.0220      -0.1824  EMA:10, RSI:12, RSI_MA:30, SL Candles:4\n",
      "2025       6.4267           11  36.3636                3.9432             -1.3352      -4.0750       1.5771  EMA:10, RSI:12, RSI_MA:30, SL Candles:4\n",
      "Overall   20.9658         1639  28.8591                5.0026             -2.0114    -189.9138       0.1104  EMA:10, RSI:12, RSI_MA:30, SL Candles:4\n",
      "EMA:10, RSI:12, RSI_MA:30, SL Candles:6\n"
     ]
    },
    {
     "name": "stderr",
     "output_type": "stream",
     "text": [
      "/tmp/ipykernel_33520/419236688.py:137: FutureWarning: Setting an item of incompatible dtype is deprecated and will raise an error in a future version of pandas. Value 'Trailing SL Hit' has dtype incompatible with float64, please explicitly cast to a compatible dtype first.\n",
      "  tradebook_short.loc[\n"
     ]
    },
    {
     "name": "stdout",
     "output_type": "stream",
     "text": [
      "EMA:10, RSI:12, RSI_MA:30, SL Candles:8\n"
     ]
    },
    {
     "name": "stderr",
     "output_type": "stream",
     "text": [
      "/tmp/ipykernel_33520/419236688.py:137: FutureWarning: Setting an item of incompatible dtype is deprecated and will raise an error in a future version of pandas. Value 'Trailing SL Hit' has dtype incompatible with float64, please explicitly cast to a compatible dtype first.\n",
      "  tradebook_short.loc[\n"
     ]
    },
    {
     "name": "stdout",
     "output_type": "stream",
     "text": [
      "        Total ROI Total Trades Win Rate Avg Profit% per Trade Avg Loss% per Trade Max Drawdown ROI/DD Ratio                                Variation\n",
      "2017            0            0      NaN                   NaN                 NaN          NaN          NaN  EMA:10, RSI:12, RSI_MA:30, SL Candles:8\n",
      "2018     -55.9952          227  29.0749                3.1699             -1.6473     -56.1046      -0.9980  EMA:10, RSI:12, RSI_MA:30, SL Candles:8\n",
      "2019     -30.0230          228  28.9474                3.5236             -1.6208     -71.7241      -0.4186  EMA:10, RSI:12, RSI_MA:30, SL Candles:8\n",
      "2020      74.3552          216  34.2593                3.8654             -1.4907     -33.4331       2.2240  EMA:10, RSI:12, RSI_MA:30, SL Candles:8\n",
      "2021      44.4175          232  31.0345                4.2530             -1.6363     -70.9411       0.6261  EMA:10, RSI:12, RSI_MA:30, SL Candles:8\n",
      "2022     -13.2961          247  27.5304                4.2746             -1.6982     -90.2095      -0.1474  EMA:10, RSI:12, RSI_MA:30, SL Candles:8\n",
      "2023     -25.3884          238  27.3109                4.2626             -1.7483    -119.1355      -0.2131  EMA:10, RSI:12, RSI_MA:30, SL Candles:8\n",
      "2024       2.3143          233  24.8927                4.6809             -1.5381     -90.3343       0.0256  EMA:10, RSI:12, RSI_MA:30, SL Candles:8\n",
      "2025       5.9934           11  36.3636                3.6446             -1.2265      -3.7569       1.5953  EMA:10, RSI:12, RSI_MA:30, SL Candles:8\n",
      "Overall    2.3779         1632  28.9828                3.9912             -1.6268    -148.9091       0.0160  EMA:10, RSI:12, RSI_MA:30, SL Candles:8\n",
      "EMA:10, RSI:12, RSI_MA:30, SL Candles:10\n"
     ]
    },
    {
     "name": "stderr",
     "output_type": "stream",
     "text": [
      "/tmp/ipykernel_33520/419236688.py:137: FutureWarning: Setting an item of incompatible dtype is deprecated and will raise an error in a future version of pandas. Value 'Trailing SL Hit' has dtype incompatible with float64, please explicitly cast to a compatible dtype first.\n",
      "  tradebook_short.loc[\n"
     ]
    },
    {
     "name": "stdout",
     "output_type": "stream",
     "text": [
      "EMA:10, RSI:12, RSI_MA:35, SL Candles:2\n"
     ]
    },
    {
     "name": "stderr",
     "output_type": "stream",
     "text": [
      "/tmp/ipykernel_33520/419236688.py:137: FutureWarning: Setting an item of incompatible dtype is deprecated and will raise an error in a future version of pandas. Value 'Trailing SL Hit' has dtype incompatible with float64, please explicitly cast to a compatible dtype first.\n",
      "  tradebook_short.loc[\n"
     ]
    },
    {
     "name": "stdout",
     "output_type": "stream",
     "text": [
      "        Total ROI Total Trades Win Rate Avg Profit% per Trade Avg Loss% per Trade Max Drawdown ROI/DD Ratio                                Variation\n",
      "2017            0            0      NaN                   NaN                 NaN          NaN          NaN  EMA:10, RSI:12, RSI_MA:35, SL Candles:2\n",
      "2018     -72.4154          229  29.6943                4.5975             -2.3916     -79.9255      -0.9060  EMA:10, RSI:12, RSI_MA:35, SL Candles:2\n",
      "2019     -25.7148          231  29.8701                4.7357             -2.1758     -90.2048      -0.2851  EMA:10, RSI:12, RSI_MA:35, SL Candles:2\n",
      "2020     113.0881          223  33.6323                5.8852             -2.2183     -38.0805       2.9697  EMA:10, RSI:12, RSI_MA:35, SL Candles:2\n",
      "2021      67.4729          228  31.1404                6.0940             -2.3261     -64.3581       1.0484  EMA:10, RSI:12, RSI_MA:35, SL Candles:2\n",
      "2022      15.6599          245  28.5714                6.1151             -2.3566    -105.0514       0.1491  EMA:10, RSI:12, RSI_MA:35, SL Candles:2\n",
      "2023      67.1875          238  26.8908                7.7975             -2.4819    -113.5314       0.5918  EMA:10, RSI:12, RSI_MA:35, SL Candles:2\n",
      "2024     -54.2299          227  25.1101                6.0240             -2.3388    -156.9215      -0.3456  EMA:10, RSI:12, RSI_MA:35, SL Candles:2\n",
      "2025      17.7802           11  45.4545                5.5297             -1.6448      -4.8637       3.6557  EMA:10, RSI:12, RSI_MA:35, SL Candles:2\n",
      "Overall  128.8284         1632  29.3505                5.8697             -2.3268    -178.4884       0.7218  EMA:10, RSI:12, RSI_MA:35, SL Candles:2\n",
      "EMA:10, RSI:12, RSI_MA:35, SL Candles:4\n"
     ]
    },
    {
     "name": "stderr",
     "output_type": "stream",
     "text": [
      "/tmp/ipykernel_33520/419236688.py:137: FutureWarning: Setting an item of incompatible dtype is deprecated and will raise an error in a future version of pandas. Value 'Trailing SL Hit' has dtype incompatible with float64, please explicitly cast to a compatible dtype first.\n",
      "  tradebook_short.loc[\n"
     ]
    },
    {
     "name": "stdout",
     "output_type": "stream",
     "text": [
      "        Total ROI Total Trades Win Rate Avg Profit% per Trade Avg Loss% per Trade Max Drawdown ROI/DD Ratio                                Variation\n",
      "2017            0            0      NaN                   NaN                 NaN          NaN          NaN  EMA:10, RSI:12, RSI_MA:35, SL Candles:4\n",
      "2018     -51.1896          227  29.9559                3.9484             -2.0106     -57.4994      -0.8903  EMA:10, RSI:12, RSI_MA:35, SL Candles:4\n",
      "2019     -11.8135          230  30.0000                4.3285             -1.9284     -82.3633      -0.1434  EMA:10, RSI:12, RSI_MA:35, SL Candles:4\n",
      "2020      89.6308          220  33.6364                4.7933             -1.8156     -34.8185       2.5742  EMA:10, RSI:12, RSI_MA:35, SL Candles:4\n",
      "2021      52.7000          227  31.2775                5.1377             -2.0005     -56.8319       0.9273  EMA:10, RSI:12, RSI_MA:35, SL Candles:4\n",
      "2022     -36.4858          242  28.9256                4.5560             -2.0663    -110.7126      -0.3296  EMA:10, RSI:12, RSI_MA:35, SL Candles:4\n",
      "2023      67.5913          235  27.6596                6.6975             -2.1632    -107.8188       0.6269  EMA:10, RSI:12, RSI_MA:35, SL Candles:4\n",
      "2024     -12.5731          224  25.4464                5.6520             -2.0044    -103.6039      -0.1214  EMA:10, RSI:12, RSI_MA:35, SL Candles:4\n",
      "2025      14.0418           11  45.4545                4.6243             -1.5133      -4.0750       3.4459  EMA:10, RSI:12, RSI_MA:35, SL Candles:4\n",
      "Overall  111.9019         1616  29.6411                4.9816             -2.0002    -143.1101       0.7819  EMA:10, RSI:12, RSI_MA:35, SL Candles:4\n",
      "EMA:10, RSI:12, RSI_MA:35, SL Candles:6\n"
     ]
    },
    {
     "name": "stderr",
     "output_type": "stream",
     "text": [
      "/tmp/ipykernel_33520/419236688.py:137: FutureWarning: Setting an item of incompatible dtype is deprecated and will raise an error in a future version of pandas. Value 'Trailing SL Hit' has dtype incompatible with float64, please explicitly cast to a compatible dtype first.\n",
      "  tradebook_short.loc[\n"
     ]
    },
    {
     "name": "stdout",
     "output_type": "stream",
     "text": [
      "        Total ROI Total Trades Win Rate Avg Profit% per Trade Avg Loss% per Trade Max Drawdown ROI/DD Ratio                                Variation\n",
      "2017            0            0      NaN                   NaN                 NaN          NaN          NaN  EMA:10, RSI:12, RSI_MA:35, SL Candles:6\n",
      "2018     -67.2512          227  29.9559                3.4499             -1.8984     -67.0322      -1.0033  EMA:10, RSI:12, RSI_MA:35, SL Candles:6\n",
      "2019       4.6353          229  30.1310                4.1780             -1.7728     -68.2740       0.0679  EMA:10, RSI:12, RSI_MA:35, SL Candles:6\n",
      "2020      90.0033          220  33.6364                4.4332             -1.6305     -40.3947       2.2281  EMA:10, RSI:12, RSI_MA:35, SL Candles:6\n",
      "2021      42.7849          227  31.2775                4.5672             -1.8044     -57.7887       0.7404  EMA:10, RSI:12, RSI_MA:35, SL Candles:6\n",
      "2022     -24.5477          242  28.9256                4.2098             -1.8560     -95.7659      -0.2563  EMA:10, RSI:12, RSI_MA:35, SL Candles:6\n",
      "2023       5.4722          234  27.7778                5.1648             -1.9541    -101.1079       0.0541  EMA:10, RSI:12, RSI_MA:35, SL Candles:6\n",
      "2024      -7.1836          223  25.5605                5.0989             -1.7941    -105.7238      -0.0679  EMA:10, RSI:12, RSI_MA:35, SL Candles:6\n",
      "2025      11.7473           11  45.4545                4.0265             -1.3975      -3.7572       3.1266  EMA:10, RSI:12, RSI_MA:35, SL Candles:6\n",
      "Overall   55.6604         1613  29.6962                4.4183             -1.8172    -141.8147       0.3925  EMA:10, RSI:12, RSI_MA:35, SL Candles:6\n",
      "EMA:10, RSI:12, RSI_MA:35, SL Candles:8\n"
     ]
    },
    {
     "name": "stderr",
     "output_type": "stream",
     "text": [
      "/tmp/ipykernel_33520/419236688.py:137: FutureWarning: Setting an item of incompatible dtype is deprecated and will raise an error in a future version of pandas. Value 'Trailing SL Hit' has dtype incompatible with float64, please explicitly cast to a compatible dtype first.\n",
      "  tradebook_short.loc[\n"
     ]
    },
    {
     "name": "stdout",
     "output_type": "stream",
     "text": [
      "        Total ROI Total Trades Win Rate Avg Profit% per Trade Avg Loss% per Trade Max Drawdown ROI/DD Ratio                                Variation\n",
      "2017            0            0      NaN                   NaN                 NaN          NaN          NaN  EMA:10, RSI:12, RSI_MA:35, SL Candles:8\n",
      "2018     -54.8651          226  30.0885                3.2404             -1.7418     -57.9257      -0.9472  EMA:10, RSI:12, RSI_MA:35, SL Candles:8\n",
      "2019      -2.8662          229  30.1310                3.7742             -1.6455     -59.5272      -0.0481  EMA:10, RSI:12, RSI_MA:35, SL Candles:8\n",
      "2020      70.4697          220  33.6364                3.9327             -1.5106     -44.9931       1.5662  EMA:10, RSI:12, RSI_MA:35, SL Candles:8\n",
      "2021      38.8461          227  31.2775                4.0791             -1.6075     -66.3858       0.5852  EMA:10, RSI:12, RSI_MA:35, SL Candles:8\n",
      "2022     -10.6952          242  28.9256                3.9536             -1.6712     -80.4895      -0.1329  EMA:10, RSI:12, RSI_MA:35, SL Candles:8\n",
      "2023       7.4118          232  28.0172                4.3523             -1.6496     -99.6405       0.0744  EMA:10, RSI:12, RSI_MA:35, SL Candles:8\n",
      "2024      -7.7395          223  25.5605                4.5826             -1.6202    -100.4405      -0.0771  EMA:10, RSI:12, RSI_MA:35, SL Candles:8\n",
      "2025      10.9222           11  45.4545                3.8614             -1.3975      -3.7569       2.9072  EMA:10, RSI:12, RSI_MA:35, SL Candles:8\n",
      "Overall   51.4838         1610  29.7516                3.9699             -1.6358    -141.3244       0.3643  EMA:10, RSI:12, RSI_MA:35, SL Candles:8\n",
      "EMA:10, RSI:12, RSI_MA:35, SL Candles:10\n"
     ]
    },
    {
     "name": "stderr",
     "output_type": "stream",
     "text": [
      "/tmp/ipykernel_33520/419236688.py:137: FutureWarning: Setting an item of incompatible dtype is deprecated and will raise an error in a future version of pandas. Value 'Trailing SL Hit' has dtype incompatible with float64, please explicitly cast to a compatible dtype first.\n",
      "  tradebook_short.loc[\n"
     ]
    },
    {
     "name": "stdout",
     "output_type": "stream",
     "text": [
      "        Total ROI Total Trades Win Rate Avg Profit% per Trade Avg Loss% per Trade Max Drawdown ROI/DD Ratio                                 Variation\n",
      "2017            0            0      NaN                   NaN                 NaN          NaN          NaN  EMA:10, RSI:12, RSI_MA:35, SL Candles:10\n",
      "2018     -37.3107          224  30.3571                2.9796             -1.5380     -49.7441      -0.7501  EMA:10, RSI:12, RSI_MA:35, SL Candles:10\n",
      "2019      -7.2917          228  30.2632                3.3537             -1.5012     -52.7949      -0.1381  EMA:10, RSI:12, RSI_MA:35, SL Candles:10\n",
      "2020      73.6905          220  33.6364                3.7033             -1.3723     -47.3129       1.5575  EMA:10, RSI:12, RSI_MA:35, SL Candles:10\n",
      "2021      63.1512          226  31.4159                3.9594             -1.4062     -53.0879       1.1896  EMA:10, RSI:12, RSI_MA:35, SL Candles:10\n",
      "2022     -57.8380          242  28.9256                2.9931             -1.5544     -89.1401      -0.6488  EMA:10, RSI:12, RSI_MA:35, SL Candles:10\n",
      "2023      -5.6549          231  28.5714                3.6023             -1.4752     -80.6034      -0.0702  EMA:10, RSI:12, RSI_MA:35, SL Candles:10\n",
      "2024      -0.0180          223  25.5605                4.3750             -1.5024     -95.9638      -0.0002  EMA:10, RSI:12, RSI_MA:35, SL Candles:10\n",
      "2025      10.6795           11  45.4545                3.8129             -1.3975      -3.7569       2.8426  EMA:10, RSI:12, RSI_MA:35, SL Candles:10\n",
      "Overall   39.4078         1605  29.9065                3.5519             -1.4804    -118.1394       0.3336  EMA:10, RSI:12, RSI_MA:35, SL Candles:10\n",
      "EMA:10, RSI:15, RSI_MA:5, SL Candles:2\n"
     ]
    },
    {
     "name": "stderr",
     "output_type": "stream",
     "text": [
      "/tmp/ipykernel_33520/419236688.py:137: FutureWarning: Setting an item of incompatible dtype is deprecated and will raise an error in a future version of pandas. Value 'Trailing SL Hit' has dtype incompatible with float64, please explicitly cast to a compatible dtype first.\n",
      "  tradebook_short.loc[\n"
     ]
    },
    {
     "name": "stdout",
     "output_type": "stream",
     "text": [
      "EMA:10, RSI:15, RSI_MA:5, SL Candles:4\n"
     ]
    },
    {
     "name": "stderr",
     "output_type": "stream",
     "text": [
      "/tmp/ipykernel_33520/419236688.py:137: FutureWarning: Setting an item of incompatible dtype is deprecated and will raise an error in a future version of pandas. Value 'Trailing SL Hit' has dtype incompatible with float64, please explicitly cast to a compatible dtype first.\n",
      "  tradebook_short.loc[\n"
     ]
    },
    {
     "name": "stdout",
     "output_type": "stream",
     "text": [
      "EMA:10, RSI:15, RSI_MA:5, SL Candles:6\n"
     ]
    },
    {
     "name": "stderr",
     "output_type": "stream",
     "text": [
      "/tmp/ipykernel_33520/419236688.py:137: FutureWarning: Setting an item of incompatible dtype is deprecated and will raise an error in a future version of pandas. Value 'Trailing SL Hit' has dtype incompatible with float64, please explicitly cast to a compatible dtype first.\n",
      "  tradebook_short.loc[\n"
     ]
    },
    {
     "name": "stdout",
     "output_type": "stream",
     "text": [
      "EMA:10, RSI:15, RSI_MA:5, SL Candles:8\n"
     ]
    },
    {
     "name": "stderr",
     "output_type": "stream",
     "text": [
      "/tmp/ipykernel_33520/419236688.py:137: FutureWarning: Setting an item of incompatible dtype is deprecated and will raise an error in a future version of pandas. Value 'Trailing SL Hit' has dtype incompatible with float64, please explicitly cast to a compatible dtype first.\n",
      "  tradebook_short.loc[\n"
     ]
    },
    {
     "name": "stdout",
     "output_type": "stream",
     "text": [
      "EMA:10, RSI:15, RSI_MA:5, SL Candles:10\n"
     ]
    },
    {
     "name": "stderr",
     "output_type": "stream",
     "text": [
      "/tmp/ipykernel_33520/419236688.py:137: FutureWarning: Setting an item of incompatible dtype is deprecated and will raise an error in a future version of pandas. Value 'Trailing SL Hit' has dtype incompatible with float64, please explicitly cast to a compatible dtype first.\n",
      "  tradebook_short.loc[\n"
     ]
    },
    {
     "name": "stdout",
     "output_type": "stream",
     "text": [
      "EMA:10, RSI:15, RSI_MA:10, SL Candles:2\n"
     ]
    },
    {
     "name": "stderr",
     "output_type": "stream",
     "text": [
      "/tmp/ipykernel_33520/419236688.py:151: FutureWarning: Setting an item of incompatible dtype is deprecated and will raise an error in a future version of pandas. Value 'RSI Upmove' has dtype incompatible with float64, please explicitly cast to a compatible dtype first.\n",
      "  tradebook_short.loc[\n"
     ]
    },
    {
     "name": "stdout",
     "output_type": "stream",
     "text": [
      "        Total ROI Total Trades Win Rate Avg Profit% per Trade Avg Loss% per Trade Max Drawdown ROI/DD Ratio                                Variation\n",
      "2017            0            0      NaN                   NaN                 NaN          NaN          NaN  EMA:10, RSI:15, RSI_MA:10, SL Candles:2\n",
      "2018     -16.9447          279  31.1828                4.7662             -2.2479    -109.4357      -0.1548  EMA:10, RSI:15, RSI_MA:10, SL Candles:2\n",
      "2019       4.4181          255  33.3333                4.5650             -2.2565    -103.0646       0.0429  EMA:10, RSI:15, RSI_MA:10, SL Candles:2\n",
      "2020     178.6778          272  36.0294                5.6310             -2.1446     -46.6519       3.8300  EMA:10, RSI:15, RSI_MA:10, SL Candles:2\n",
      "2021      44.5219          284  30.6338                5.6507             -2.2695     -69.0028       0.6452  EMA:10, RSI:15, RSI_MA:10, SL Candles:2\n",
      "2022     -21.2946          305  33.7705                4.7382             -2.5214    -115.4699      -0.1844  EMA:10, RSI:15, RSI_MA:10, SL Candles:2\n",
      "2023     -98.9565          296  30.0676                4.6306             -2.4690    -155.5725      -0.6361  EMA:10, RSI:15, RSI_MA:10, SL Candles:2\n",
      "2024     -58.6082          276  27.8986                5.2357             -2.3204    -181.3240      -0.3232  EMA:10, RSI:15, RSI_MA:10, SL Candles:2\n",
      "2025      10.5046           18  50.0000                3.6350             -2.4678      -6.4892       1.6188  EMA:10, RSI:15, RSI_MA:10, SL Candles:2\n",
      "Overall   42.3183         1985  31.9899                5.0113             -2.3258    -296.6521       0.1427  EMA:10, RSI:15, RSI_MA:10, SL Candles:2\n",
      "EMA:10, RSI:15, RSI_MA:10, SL Candles:4\n"
     ]
    },
    {
     "name": "stderr",
     "output_type": "stream",
     "text": [
      "/tmp/ipykernel_33520/419236688.py:151: FutureWarning: Setting an item of incompatible dtype is deprecated and will raise an error in a future version of pandas. Value 'RSI Upmove' has dtype incompatible with float64, please explicitly cast to a compatible dtype first.\n",
      "  tradebook_short.loc[\n"
     ]
    },
    {
     "name": "stdout",
     "output_type": "stream",
     "text": [
      "        Total ROI Total Trades Win Rate Avg Profit% per Trade Avg Loss% per Trade Max Drawdown ROI/DD Ratio                                Variation\n",
      "2017            0            0      NaN                   NaN                 NaN          NaN          NaN  EMA:10, RSI:15, RSI_MA:10, SL Candles:4\n",
      "2018      -4.8216          276  32.2464                3.9246             -1.8937     -81.5363      -0.0591  EMA:10, RSI:15, RSI_MA:10, SL Candles:4\n",
      "2019      17.5054          253  33.5968                3.9196             -1.8789     -91.5334       0.1912  EMA:10, RSI:15, RSI_MA:10, SL Candles:4\n",
      "2020     140.2978          271  36.1624                4.5190             -1.7489     -45.1042       3.1105  EMA:10, RSI:15, RSI_MA:10, SL Candles:4\n",
      "2021      70.1608          278  31.2950                4.8874             -1.8589     -48.9993       1.4319  EMA:10, RSI:15, RSI_MA:10, SL Candles:4\n",
      "2022     -47.8671          303  33.9934                3.8238             -2.2086    -131.0733      -0.3652  EMA:10, RSI:15, RSI_MA:10, SL Candles:4\n",
      "2023     -46.9386          292  31.1644                3.9678             -2.0299    -115.9054      -0.4050  EMA:10, RSI:15, RSI_MA:10, SL Candles:4\n",
      "2024      -0.6349          273  28.9377                4.7296             -1.9292    -114.1564      -0.0056  EMA:10, RSI:15, RSI_MA:10, SL Candles:4\n",
      "2025      18.2701           17  52.9412                3.8285             -2.0234      -4.5049       4.0556  EMA:10, RSI:15, RSI_MA:10, SL Candles:4\n",
      "Overall  145.9720         1963  32.6541                4.2333             -1.9422    -199.5806       0.7314  EMA:10, RSI:15, RSI_MA:10, SL Candles:4\n",
      "EMA:10, RSI:15, RSI_MA:10, SL Candles:6\n"
     ]
    },
    {
     "name": "stderr",
     "output_type": "stream",
     "text": [
      "/tmp/ipykernel_33520/419236688.py:151: FutureWarning: Setting an item of incompatible dtype is deprecated and will raise an error in a future version of pandas. Value 'RSI Upmove' has dtype incompatible with float64, please explicitly cast to a compatible dtype first.\n",
      "  tradebook_short.loc[\n"
     ]
    },
    {
     "name": "stdout",
     "output_type": "stream",
     "text": [
      "        Total ROI Total Trades Win Rate Avg Profit% per Trade Avg Loss% per Trade Max Drawdown ROI/DD Ratio                                Variation\n",
      "2017            0            0      NaN                   NaN                 NaN          NaN          NaN  EMA:10, RSI:15, RSI_MA:10, SL Candles:6\n",
      "2018     -31.1295          273  32.6007                3.2932             -1.7621     -80.0249      -0.3890  EMA:10, RSI:15, RSI_MA:10, SL Candles:6\n",
      "2019      25.3827          252  34.1270                3.5598             -1.6913     -78.3745       0.3239  EMA:10, RSI:15, RSI_MA:10, SL Candles:6\n",
      "2020     116.9019          270  36.2963                3.9112             -1.5488     -34.6478       3.3740  EMA:10, RSI:15, RSI_MA:10, SL Candles:6\n",
      "2021      38.3801          278  31.2950                4.0633             -1.6499     -44.2098       0.8681  EMA:10, RSI:15, RSI_MA:10, SL Candles:6\n",
      "2022     -39.3380          302  34.1060                3.4701             -1.9937    -111.8060      -0.3518  EMA:10, RSI:15, RSI_MA:10, SL Candles:6\n",
      "2023     -63.7274          291  31.2715                3.2413             -1.7934    -100.5501      -0.6338  EMA:10, RSI:15, RSI_MA:10, SL Candles:6\n",
      "2024      19.0287          271  29.1513                4.2851             -1.6640     -92.6170       0.2055  EMA:10, RSI:15, RSI_MA:10, SL Candles:6\n",
      "2025      18.3626           17  52.9412                3.6629             -1.8254      -4.1643       4.4095  EMA:10, RSI:15, RSI_MA:10, SL Candles:6\n",
      "Overall   83.8612         1954  32.8557                3.6759             -1.7348    -180.0893       0.4657  EMA:10, RSI:15, RSI_MA:10, SL Candles:6\n",
      "EMA:10, RSI:15, RSI_MA:10, SL Candles:8\n"
     ]
    },
    {
     "name": "stderr",
     "output_type": "stream",
     "text": [
      "/tmp/ipykernel_33520/419236688.py:151: FutureWarning: Setting an item of incompatible dtype is deprecated and will raise an error in a future version of pandas. Value 'RSI Upmove' has dtype incompatible with float64, please explicitly cast to a compatible dtype first.\n",
      "  tradebook_short.loc[\n"
     ]
    },
    {
     "name": "stdout",
     "output_type": "stream",
     "text": [
      "        Total ROI Total Trades Win Rate Avg Profit% per Trade Avg Loss% per Trade Max Drawdown ROI/DD Ratio                                Variation\n",
      "2017            0            0      NaN                   NaN                 NaN          NaN          NaN  EMA:10, RSI:15, RSI_MA:10, SL Candles:8\n",
      "2018     -25.4431          271  33.2103                2.9504             -1.6076     -75.3100      -0.3378  EMA:10, RSI:15, RSI_MA:10, SL Candles:8\n",
      "2019      15.3592          252  34.1270                3.2203             -1.5758     -69.4675       0.2211  EMA:10, RSI:15, RSI_MA:10, SL Candles:8\n",
      "2020      86.2474          270  36.2963                3.4775             -1.4799     -43.6880       1.9742  EMA:10, RSI:15, RSI_MA:10, SL Candles:8\n",
      "2021      36.9035          278  31.2950                3.7418             -1.5112     -42.6754       0.8647  EMA:10, RSI:15, RSI_MA:10, SL Candles:8\n",
      "2022     -34.1671          302  34.1060                3.1785             -1.8169    -102.4541      -0.3335  EMA:10, RSI:15, RSI_MA:10, SL Candles:8\n",
      "2023     -39.2670          289  31.4879                2.9468             -1.5527     -80.3153      -0.4889  EMA:10, RSI:15, RSI_MA:10, SL Candles:8\n",
      "2024      22.6968          271  29.1513                3.9173             -1.4936     -82.1188       0.2764  EMA:10, RSI:15, RSI_MA:10, SL Candles:8\n",
      "2025      19.3302           17  52.9412                3.6199             -1.6561      -4.0435       4.7806  EMA:10, RSI:15, RSI_MA:10, SL Candles:8\n",
      "Overall   81.6599         1950  32.9744                3.3381             -1.5798    -143.5137       0.5690  EMA:10, RSI:15, RSI_MA:10, SL Candles:8\n",
      "EMA:10, RSI:15, RSI_MA:10, SL Candles:10\n"
     ]
    },
    {
     "name": "stderr",
     "output_type": "stream",
     "text": [
      "/tmp/ipykernel_33520/419236688.py:151: FutureWarning: Setting an item of incompatible dtype is deprecated and will raise an error in a future version of pandas. Value 'RSI Upmove' has dtype incompatible with float64, please explicitly cast to a compatible dtype first.\n",
      "  tradebook_short.loc[\n"
     ]
    },
    {
     "name": "stdout",
     "output_type": "stream",
     "text": [
      "        Total ROI Total Trades Win Rate Avg Profit% per Trade Avg Loss% per Trade Max Drawdown ROI/DD Ratio                                 Variation\n",
      "2017            0            0      NaN                   NaN                 NaN          NaN          NaN  EMA:10, RSI:15, RSI_MA:10, SL Candles:10\n",
      "2018      -1.7299          270  33.7037                2.8460             -1.4565     -63.0635      -0.0274  EMA:10, RSI:15, RSI_MA:10, SL Candles:10\n",
      "2019       3.3946          251  34.2629                2.9615             -1.5230     -66.9377       0.0507  EMA:10, RSI:15, RSI_MA:10, SL Candles:10\n",
      "2020      90.6186          270  36.2963                3.3543             -1.3843     -40.1433       2.2574  EMA:10, RSI:15, RSI_MA:10, SL Candles:10\n",
      "2021      38.9546          278  31.2950                3.5809             -1.4271     -42.4978       0.9166  EMA:10, RSI:15, RSI_MA:10, SL Candles:10\n",
      "2022     -34.2326          302  34.1060                2.9659             -1.7071     -95.8126      -0.3573  EMA:10, RSI:15, RSI_MA:10, SL Candles:10\n",
      "2023     -28.1140          287  32.0557                2.6940             -1.4152     -66.4005      -0.4234  EMA:10, RSI:15, RSI_MA:10, SL Candles:10\n",
      "2024      26.7521          271  29.1513                3.7602             -1.4078     -78.9407       0.3389  EMA:10, RSI:15, RSI_MA:10, SL Candles:10\n",
      "2025      19.9074           17  52.9412                3.6122             -1.5753      -4.0435       4.9234  EMA:10, RSI:15, RSI_MA:10, SL Candles:10\n",
      "Overall  115.5508         1946  33.1449                3.1579             -1.4768    -125.6795       0.9194  EMA:10, RSI:15, RSI_MA:10, SL Candles:10\n",
      "EMA:10, RSI:15, RSI_MA:15, SL Candles:2\n"
     ]
    },
    {
     "name": "stderr",
     "output_type": "stream",
     "text": [
      "/tmp/ipykernel_33520/419236688.py:123: FutureWarning: Setting an item of incompatible dtype is deprecated and will raise an error in a future version of pandas. Value 'Initial SL Hit' has dtype incompatible with float64, please explicitly cast to a compatible dtype first.\n",
      "  tradebook_short.loc[\n"
     ]
    },
    {
     "name": "stdout",
     "output_type": "stream",
     "text": [
      "        Total ROI Total Trades Win Rate Avg Profit% per Trade Avg Loss% per Trade Max Drawdown ROI/DD Ratio                                Variation\n",
      "2017            0            0      NaN                   NaN                 NaN          NaN          NaN  EMA:10, RSI:15, RSI_MA:15, SL Candles:2\n",
      "2018     -35.1556          245  31.0204                4.5083             -2.2354     -76.8830      -0.4573  EMA:10, RSI:15, RSI_MA:15, SL Candles:2\n",
      "2019     -27.9644          238  29.8319                4.5639             -2.1078    -108.7361      -0.2572  EMA:10, RSI:15, RSI_MA:15, SL Candles:2\n",
      "2020     123.0280          244  33.6066                5.5290             -2.0392     -45.5620       2.7002  EMA:10, RSI:15, RSI_MA:15, SL Candles:2\n",
      "2021      11.7822          259  30.8880                5.3767             -2.3372     -73.9649       0.1593  EMA:10, RSI:15, RSI_MA:15, SL Candles:2\n",
      "2022      28.9010          257  30.3502                6.0132             -2.4588    -128.3717       0.2251  EMA:10, RSI:15, RSI_MA:15, SL Candles:2\n",
      "2023      32.0038          263  27.3764                6.5119             -2.2872    -138.8159       0.2305  EMA:10, RSI:15, RSI_MA:15, SL Candles:2\n",
      "2024     -23.2869          255  25.4902                6.4679             -2.3353    -177.9714      -0.1308  EMA:10, RSI:15, RSI_MA:15, SL Candles:2\n",
      "2025      20.5890           13  38.4615                7.0471             -1.8308      -3.2024       6.4293  EMA:10, RSI:15, RSI_MA:15, SL Candles:2\n",
      "Overall  129.8971         1774  29.8196                5.5647             -2.2601    -207.1003       0.6272  EMA:10, RSI:15, RSI_MA:15, SL Candles:2\n",
      "EMA:10, RSI:15, RSI_MA:15, SL Candles:4\n"
     ]
    },
    {
     "name": "stderr",
     "output_type": "stream",
     "text": [
      "/tmp/ipykernel_33520/419236688.py:123: FutureWarning: Setting an item of incompatible dtype is deprecated and will raise an error in a future version of pandas. Value 'Initial SL Hit' has dtype incompatible with float64, please explicitly cast to a compatible dtype first.\n",
      "  tradebook_short.loc[\n"
     ]
    },
    {
     "name": "stdout",
     "output_type": "stream",
     "text": [
      "        Total ROI Total Trades Win Rate Avg Profit% per Trade Avg Loss% per Trade Max Drawdown ROI/DD Ratio                                Variation\n",
      "2017            0            0      NaN                   NaN                 NaN          NaN          NaN  EMA:10, RSI:15, RSI_MA:15, SL Candles:4\n",
      "2018      -2.4951          241  31.9502                3.7990             -1.7989     -48.0310      -0.0519  EMA:10, RSI:15, RSI_MA:15, SL Candles:4\n",
      "2019     -20.4997          237  29.9578                3.9162             -1.7985     -97.1736      -0.2110  EMA:10, RSI:15, RSI_MA:15, SL Candles:4\n",
      "2020     120.0539          243  33.7449                4.7755             -1.6866     -41.2617       2.9096  EMA:10, RSI:15, RSI_MA:15, SL Candles:4\n",
      "2021      42.0617          255  30.9804                4.8729             -1.9483     -61.7603       0.6810  EMA:10, RSI:15, RSI_MA:15, SL Candles:4\n",
      "2022     -30.4648          253  30.8300                4.4591             -2.1615    -136.2404      -0.2236  EMA:10, RSI:15, RSI_MA:15, SL Candles:4\n",
      "2023      57.7861          260  28.0769                5.7559             -1.9379    -122.3483       0.4723  EMA:10, RSI:15, RSI_MA:15, SL Candles:4\n",
      "2024      29.9264          253  25.6917                6.0812             -1.9434    -119.6090       0.2502  EMA:10, RSI:15, RSI_MA:15, SL Candles:4\n",
      "2025      13.3112           13  38.4615                5.3283             -1.6663      -3.1347       4.2463  EMA:10, RSI:15, RSI_MA:15, SL Candles:4\n",
      "Overall  209.6797         1755  30.1994                4.7868             -1.8999    -136.2404       1.5390  EMA:10, RSI:15, RSI_MA:15, SL Candles:4\n",
      "EMA:10, RSI:15, RSI_MA:15, SL Candles:6\n"
     ]
    },
    {
     "name": "stderr",
     "output_type": "stream",
     "text": [
      "/tmp/ipykernel_33520/419236688.py:123: FutureWarning: Setting an item of incompatible dtype is deprecated and will raise an error in a future version of pandas. Value 'Initial SL Hit' has dtype incompatible with float64, please explicitly cast to a compatible dtype first.\n",
      "  tradebook_short.loc[\n"
     ]
    },
    {
     "name": "stdout",
     "output_type": "stream",
     "text": [
      "        Total ROI Total Trades Win Rate Avg Profit% per Trade Avg Loss% per Trade Max Drawdown ROI/DD Ratio                                Variation\n",
      "2017            0            0      NaN                   NaN                 NaN          NaN          NaN  EMA:10, RSI:15, RSI_MA:15, SL Candles:6\n",
      "2018     -18.4236          239  32.2176                3.3133             -1.6885     -49.9210      -0.3691  EMA:10, RSI:15, RSI_MA:15, SL Candles:6\n",
      "2019      -6.0273          236  30.5085                3.6710             -1.6484     -87.7255      -0.0687  EMA:10, RSI:15, RSI_MA:15, SL Candles:6\n",
      "2020      97.0163          241  34.0249                4.0970             -1.5027     -32.3650       2.9976  EMA:10, RSI:15, RSI_MA:15, SL Candles:6\n",
      "2021      34.1412          254  31.1024                4.2343             -1.7164     -48.8084       0.6995  EMA:10, RSI:15, RSI_MA:15, SL Candles:6\n",
      "2022     -30.0208          253  30.8300                3.9723             -1.9421    -125.1411      -0.2399  EMA:10, RSI:15, RSI_MA:15, SL Candles:6\n",
      "2023      -7.6491          259  28.1853                4.3210             -1.7370    -102.5529      -0.0746  EMA:10, RSI:15, RSI_MA:15, SL Candles:6\n",
      "2024      31.4477          252  25.7937                5.4785             -1.7361    -110.5986       0.2843  EMA:10, RSI:15, RSI_MA:15, SL Candles:6\n",
      "2025      11.9091           13  38.4615                5.0102             -1.6428      -3.1347       3.7991  EMA:10, RSI:15, RSI_MA:15, SL Candles:6\n",
      "Overall  112.3934         1747  30.3950                4.1362             -1.7138    -156.4427       0.7184  EMA:10, RSI:15, RSI_MA:15, SL Candles:6\n",
      "EMA:10, RSI:15, RSI_MA:15, SL Candles:8\n"
     ]
    },
    {
     "name": "stderr",
     "output_type": "stream",
     "text": [
      "/tmp/ipykernel_33520/419236688.py:137: FutureWarning: Setting an item of incompatible dtype is deprecated and will raise an error in a future version of pandas. Value 'Trailing SL Hit' has dtype incompatible with float64, please explicitly cast to a compatible dtype first.\n",
      "  tradebook_short.loc[\n"
     ]
    },
    {
     "name": "stdout",
     "output_type": "stream",
     "text": [
      "        Total ROI Total Trades Win Rate Avg Profit% per Trade Avg Loss% per Trade Max Drawdown ROI/DD Ratio                                Variation\n",
      "2017            0            0      NaN                   NaN                 NaN          NaN          NaN  EMA:10, RSI:15, RSI_MA:15, SL Candles:8\n",
      "2018     -16.7039          238  32.3529                2.9793             -1.5286     -54.9516      -0.3040  EMA:10, RSI:15, RSI_MA:15, SL Candles:8\n",
      "2019     -10.2190          236  30.5085                3.2941             -1.5085     -76.7126      -0.1332  EMA:10, RSI:15, RSI_MA:15, SL Candles:8\n",
      "2020      67.6423          241  34.0249                3.5508             -1.4058     -34.3337       1.9701  EMA:10, RSI:15, RSI_MA:15, SL Candles:8\n",
      "2021      28.2948          254  31.1024                3.8123             -1.5593     -53.7147       0.5268  EMA:10, RSI:15, RSI_MA:15, SL Candles:8\n",
      "2022     -15.5605          253  30.8300                3.7394             -1.7556    -109.3296      -0.1423  EMA:10, RSI:15, RSI_MA:15, SL Candles:8\n",
      "2023      12.9946          258  28.2946                3.8786             -1.4602     -81.4421       0.1596  EMA:10, RSI:15, RSI_MA:15, SL Candles:8\n",
      "2024      22.9309          252  25.7937                4.7930             -1.5434    -109.5695       0.2093  EMA:10, RSI:15, RSI_MA:15, SL Candles:8\n",
      "2025      11.2760           13  38.4615                4.7368             -1.5510      -3.1281       3.6047  EMA:10, RSI:15, RSI_MA:15, SL Candles:8\n",
      "Overall  100.6552         1745  30.4298                3.7080             -1.5390    -118.5646       0.8489  EMA:10, RSI:15, RSI_MA:15, SL Candles:8\n",
      "EMA:10, RSI:15, RSI_MA:15, SL Candles:10\n"
     ]
    },
    {
     "name": "stderr",
     "output_type": "stream",
     "text": [
      "/tmp/ipykernel_33520/419236688.py:137: FutureWarning: Setting an item of incompatible dtype is deprecated and will raise an error in a future version of pandas. Value 'Trailing SL Hit' has dtype incompatible with float64, please explicitly cast to a compatible dtype first.\n",
      "  tradebook_short.loc[\n"
     ]
    },
    {
     "name": "stdout",
     "output_type": "stream",
     "text": [
      "        Total ROI Total Trades Win Rate Avg Profit% per Trade Avg Loss% per Trade Max Drawdown ROI/DD Ratio                                 Variation\n",
      "2017            0            0      NaN                   NaN                 NaN          NaN          NaN  EMA:10, RSI:15, RSI_MA:15, SL Candles:10\n",
      "2018      -8.5573          238  32.3529                2.7926             -1.3887     -47.9710      -0.1784  EMA:10, RSI:15, RSI_MA:15, SL Candles:10\n",
      "2019     -23.9691          235  30.6383                2.8023             -1.3849     -74.5861      -0.3214  EMA:10, RSI:15, RSI_MA:15, SL Candles:10\n",
      "2020      65.1535          241  34.0249                3.2711             -1.2772     -38.7922       1.6796  EMA:10, RSI:15, RSI_MA:15, SL Candles:10\n",
      "2021      28.9457          254  31.1024                3.5166             -1.4221     -47.2221       0.6130  EMA:10, RSI:15, RSI_MA:15, SL Candles:10\n",
      "2022     -50.8755          253  30.8300                3.0658             -1.6572    -109.9371      -0.4628  EMA:10, RSI:15, RSI_MA:15, SL Candles:10\n",
      "2023       5.5073          255  29.0196                3.2718             -1.3072     -70.6760       0.0779  EMA:10, RSI:15, RSI_MA:15, SL Candles:10\n",
      "2024      25.9181          252  25.7937                4.6020             -1.4610    -110.4632       0.2346  EMA:10, RSI:15, RSI_MA:15, SL Candles:10\n",
      "2025      11.6087           13  38.4615                4.7229             -1.5007      -3.1281       3.7111  EMA:10, RSI:15, RSI_MA:15, SL Candles:10\n",
      "Overall   53.7315         1741  30.5572                3.3211             -1.4170    -129.2881       0.4156  EMA:10, RSI:15, RSI_MA:15, SL Candles:10\n",
      "EMA:10, RSI:15, RSI_MA:20, SL Candles:2\n"
     ]
    },
    {
     "name": "stderr",
     "output_type": "stream",
     "text": [
      "/tmp/ipykernel_33520/419236688.py:151: FutureWarning: Setting an item of incompatible dtype is deprecated and will raise an error in a future version of pandas. Value 'RSI Upmove' has dtype incompatible with float64, please explicitly cast to a compatible dtype first.\n",
      "  tradebook_short.loc[\n"
     ]
    },
    {
     "name": "stdout",
     "output_type": "stream",
     "text": [
      "EMA:10, RSI:15, RSI_MA:20, SL Candles:4\n"
     ]
    },
    {
     "name": "stderr",
     "output_type": "stream",
     "text": [
      "/tmp/ipykernel_33520/419236688.py:151: FutureWarning: Setting an item of incompatible dtype is deprecated and will raise an error in a future version of pandas. Value 'RSI Upmove' has dtype incompatible with float64, please explicitly cast to a compatible dtype first.\n",
      "  tradebook_short.loc[\n"
     ]
    },
    {
     "name": "stdout",
     "output_type": "stream",
     "text": [
      "EMA:10, RSI:15, RSI_MA:20, SL Candles:6\n"
     ]
    },
    {
     "name": "stderr",
     "output_type": "stream",
     "text": [
      "/tmp/ipykernel_33520/419236688.py:151: FutureWarning: Setting an item of incompatible dtype is deprecated and will raise an error in a future version of pandas. Value 'RSI Upmove' has dtype incompatible with float64, please explicitly cast to a compatible dtype first.\n",
      "  tradebook_short.loc[\n"
     ]
    },
    {
     "name": "stdout",
     "output_type": "stream",
     "text": [
      "EMA:10, RSI:15, RSI_MA:20, SL Candles:8\n"
     ]
    },
    {
     "name": "stderr",
     "output_type": "stream",
     "text": [
      "/tmp/ipykernel_33520/419236688.py:151: FutureWarning: Setting an item of incompatible dtype is deprecated and will raise an error in a future version of pandas. Value 'RSI Upmove' has dtype incompatible with float64, please explicitly cast to a compatible dtype first.\n",
      "  tradebook_short.loc[\n"
     ]
    },
    {
     "name": "stdout",
     "output_type": "stream",
     "text": [
      "EMA:10, RSI:15, RSI_MA:20, SL Candles:10\n"
     ]
    },
    {
     "name": "stderr",
     "output_type": "stream",
     "text": [
      "/tmp/ipykernel_33520/419236688.py:151: FutureWarning: Setting an item of incompatible dtype is deprecated and will raise an error in a future version of pandas. Value 'RSI Upmove' has dtype incompatible with float64, please explicitly cast to a compatible dtype first.\n",
      "  tradebook_short.loc[\n"
     ]
    },
    {
     "name": "stdout",
     "output_type": "stream",
     "text": [
      "EMA:10, RSI:15, RSI_MA:25, SL Candles:2\n"
     ]
    },
    {
     "name": "stderr",
     "output_type": "stream",
     "text": [
      "/tmp/ipykernel_33520/419236688.py:137: FutureWarning: Setting an item of incompatible dtype is deprecated and will raise an error in a future version of pandas. Value 'Trailing SL Hit' has dtype incompatible with float64, please explicitly cast to a compatible dtype first.\n",
      "  tradebook_short.loc[\n"
     ]
    },
    {
     "name": "stdout",
     "output_type": "stream",
     "text": [
      "EMA:10, RSI:15, RSI_MA:25, SL Candles:4\n"
     ]
    },
    {
     "name": "stderr",
     "output_type": "stream",
     "text": [
      "/tmp/ipykernel_33520/419236688.py:137: FutureWarning: Setting an item of incompatible dtype is deprecated and will raise an error in a future version of pandas. Value 'Trailing SL Hit' has dtype incompatible with float64, please explicitly cast to a compatible dtype first.\n",
      "  tradebook_short.loc[\n"
     ]
    },
    {
     "name": "stdout",
     "output_type": "stream",
     "text": [
      "EMA:10, RSI:15, RSI_MA:25, SL Candles:6\n"
     ]
    },
    {
     "name": "stderr",
     "output_type": "stream",
     "text": [
      "/tmp/ipykernel_33520/419236688.py:137: FutureWarning: Setting an item of incompatible dtype is deprecated and will raise an error in a future version of pandas. Value 'Trailing SL Hit' has dtype incompatible with float64, please explicitly cast to a compatible dtype first.\n",
      "  tradebook_short.loc[\n"
     ]
    },
    {
     "name": "stdout",
     "output_type": "stream",
     "text": [
      "EMA:10, RSI:15, RSI_MA:25, SL Candles:8\n"
     ]
    },
    {
     "name": "stderr",
     "output_type": "stream",
     "text": [
      "/tmp/ipykernel_33520/419236688.py:137: FutureWarning: Setting an item of incompatible dtype is deprecated and will raise an error in a future version of pandas. Value 'Trailing SL Hit' has dtype incompatible with float64, please explicitly cast to a compatible dtype first.\n",
      "  tradebook_short.loc[\n"
     ]
    },
    {
     "name": "stdout",
     "output_type": "stream",
     "text": [
      "EMA:10, RSI:15, RSI_MA:25, SL Candles:10\n"
     ]
    },
    {
     "name": "stderr",
     "output_type": "stream",
     "text": [
      "/tmp/ipykernel_33520/419236688.py:137: FutureWarning: Setting an item of incompatible dtype is deprecated and will raise an error in a future version of pandas. Value 'Trailing SL Hit' has dtype incompatible with float64, please explicitly cast to a compatible dtype first.\n",
      "  tradebook_short.loc[\n"
     ]
    },
    {
     "name": "stdout",
     "output_type": "stream",
     "text": [
      "EMA:10, RSI:15, RSI_MA:30, SL Candles:2\n"
     ]
    },
    {
     "name": "stderr",
     "output_type": "stream",
     "text": [
      "/tmp/ipykernel_33520/419236688.py:137: FutureWarning: Setting an item of incompatible dtype is deprecated and will raise an error in a future version of pandas. Value 'Trailing SL Hit' has dtype incompatible with float64, please explicitly cast to a compatible dtype first.\n",
      "  tradebook_short.loc[\n"
     ]
    },
    {
     "name": "stdout",
     "output_type": "stream",
     "text": [
      "        Total ROI Total Trades Win Rate Avg Profit% per Trade Avg Loss% per Trade Max Drawdown ROI/DD Ratio                                Variation\n",
      "2017            0            0      NaN                   NaN                 NaN          NaN          NaN  EMA:10, RSI:15, RSI_MA:30, SL Candles:2\n",
      "2018     -29.7903          222  30.1802                4.8123             -2.2724     -62.7356      -0.4749  EMA:10, RSI:15, RSI_MA:30, SL Candles:2\n",
      "2019     -59.0770          231  28.5714                4.5599             -2.1820    -102.5830      -0.5759  EMA:10, RSI:15, RSI_MA:30, SL Candles:2\n",
      "2020     156.4168          214  33.6449                6.5762             -2.2329     -40.8375       3.8302  EMA:10, RSI:15, RSI_MA:30, SL Candles:2\n",
      "2021      75.4131          223  32.2870                5.9132             -2.3201     -55.7994       1.3515  EMA:10, RSI:15, RSI_MA:30, SL Candles:2\n",
      "2022      14.9591          240  27.0833                6.4303             -2.3029     -95.8455       0.1561  EMA:10, RSI:15, RSI_MA:30, SL Candles:2\n",
      "2023      22.2194          234  27.7778                7.2126             -2.6426    -141.5700       0.1569  EMA:10, RSI:15, RSI_MA:30, SL Candles:2\n",
      "2024     -47.6088          226  26.1062                5.9075             -2.3722    -153.7029      -0.3097  EMA:10, RSI:15, RSI_MA:30, SL Candles:2\n",
      "2025       5.1513           11  36.3636                3.8243             -1.4494      -4.8637       1.0591  EMA:10, RSI:15, RSI_MA:30, SL Candles:2\n",
      "Overall  137.6836         1601  29.3567                5.9005             -2.3303    -218.7585       0.6294  EMA:10, RSI:15, RSI_MA:30, SL Candles:2\n",
      "EMA:10, RSI:15, RSI_MA:30, SL Candles:4\n"
     ]
    },
    {
     "name": "stderr",
     "output_type": "stream",
     "text": [
      "/tmp/ipykernel_33520/419236688.py:137: FutureWarning: Setting an item of incompatible dtype is deprecated and will raise an error in a future version of pandas. Value 'Trailing SL Hit' has dtype incompatible with float64, please explicitly cast to a compatible dtype first.\n",
      "  tradebook_short.loc[\n"
     ]
    },
    {
     "name": "stdout",
     "output_type": "stream",
     "text": [
      "        Total ROI Total Trades Win Rate Avg Profit% per Trade Avg Loss% per Trade Max Drawdown ROI/DD Ratio                                Variation\n",
      "2017            0            0      NaN                   NaN                 NaN          NaN          NaN  EMA:10, RSI:15, RSI_MA:30, SL Candles:4\n",
      "2018     -19.1429          220  30.4545                4.1234             -1.9308     -43.8543      -0.4365  EMA:10, RSI:15, RSI_MA:30, SL Candles:4\n",
      "2019     -47.7491          230  28.6957                4.1162             -1.9477     -91.8082      -0.5201  EMA:10, RSI:15, RSI_MA:30, SL Candles:4\n",
      "2020     110.9081          210  33.8095                5.2065             -1.8615     -33.8920       3.2724  EMA:10, RSI:15, RSI_MA:30, SL Candles:4\n",
      "2021      62.4125          222  32.4324                5.0405             -2.0034     -49.0233       1.2731  EMA:10, RSI:15, RSI_MA:30, SL Candles:4\n",
      "2022     -42.1765          237  27.4262                4.7604             -2.0442    -109.0357      -0.3868  EMA:10, RSI:15, RSI_MA:30, SL Candles:4\n",
      "2023      54.3686          230  28.2609                6.6508             -2.2905    -138.1752       0.3935  EMA:10, RSI:15, RSI_MA:30, SL Candles:4\n",
      "2024       7.9479          223  26.4574                5.7257             -2.0114     -88.4304       0.0899  EMA:10, RSI:15, RSI_MA:30, SL Candles:4\n",
      "2025       2.2876           11  36.3636                2.9084             -1.3352      -4.0750       0.5614  EMA:10, RSI:15, RSI_MA:30, SL Candles:4\n",
      "Overall  128.8561         1583  29.6273                5.0569             -2.0133    -142.8931       0.9018  EMA:10, RSI:15, RSI_MA:30, SL Candles:4\n",
      "EMA:10, RSI:15, RSI_MA:30, SL Candles:6\n"
     ]
    },
    {
     "name": "stderr",
     "output_type": "stream",
     "text": [
      "/tmp/ipykernel_33520/419236688.py:137: FutureWarning: Setting an item of incompatible dtype is deprecated and will raise an error in a future version of pandas. Value 'Trailing SL Hit' has dtype incompatible with float64, please explicitly cast to a compatible dtype first.\n",
      "  tradebook_short.loc[\n"
     ]
    },
    {
     "name": "stdout",
     "output_type": "stream",
     "text": [
      "        Total ROI Total Trades Win Rate Avg Profit% per Trade Avg Loss% per Trade Max Drawdown ROI/DD Ratio                                Variation\n",
      "2017            0            0      NaN                   NaN                 NaN          NaN          NaN  EMA:10, RSI:15, RSI_MA:30, SL Candles:6\n",
      "2018     -30.1786          219  30.5936                3.5994             -1.7851     -41.8897      -0.7204  EMA:10, RSI:15, RSI_MA:30, SL Candles:6\n",
      "2019     -29.3220          229  28.8210                3.9665             -1.7859     -78.8714      -0.3718  EMA:10, RSI:15, RSI_MA:30, SL Candles:6\n",
      "2020     105.0275          210  33.8095                4.7538             -1.6726     -30.7438       3.4162  EMA:10, RSI:15, RSI_MA:30, SL Candles:6\n",
      "2021      55.2369          222  32.4324                4.5320             -1.8071     -47.5671       1.1612  EMA:10, RSI:15, RSI_MA:30, SL Candles:6\n",
      "2022     -26.9620          237  27.4262                4.4263             -1.8295     -91.2380      -0.2955  EMA:10, RSI:15, RSI_MA:30, SL Candles:6\n",
      "2023       5.2821          229  28.3843                5.2234             -2.0381    -122.6722       0.0431  EMA:10, RSI:15, RSI_MA:30, SL Candles:6\n",
      "2024      13.9994          222  26.5766                5.2099             -1.7999     -91.3246       0.1533  EMA:10, RSI:15, RSI_MA:30, SL Candles:6\n",
      "2025       2.7703           11  36.3636                2.8479             -1.2316      -3.7572       0.7373  EMA:10, RSI:15, RSI_MA:30, SL Candles:6\n",
      "Overall   95.8536         1579  29.7023                4.5048             -1.8170    -125.4383       0.7641  EMA:10, RSI:15, RSI_MA:30, SL Candles:6\n",
      "EMA:10, RSI:15, RSI_MA:30, SL Candles:8\n"
     ]
    },
    {
     "name": "stderr",
     "output_type": "stream",
     "text": [
      "/tmp/ipykernel_33520/419236688.py:137: FutureWarning: Setting an item of incompatible dtype is deprecated and will raise an error in a future version of pandas. Value 'Trailing SL Hit' has dtype incompatible with float64, please explicitly cast to a compatible dtype first.\n",
      "  tradebook_short.loc[\n"
     ]
    },
    {
     "name": "stdout",
     "output_type": "stream",
     "text": [
      "        Total ROI Total Trades Win Rate Avg Profit% per Trade Avg Loss% per Trade Max Drawdown ROI/DD Ratio                                Variation\n",
      "2017            0            0      NaN                   NaN                 NaN          NaN          NaN  EMA:10, RSI:15, RSI_MA:30, SL Candles:8\n",
      "2018     -19.4911          218  30.7339                3.4143             -1.6440     -39.2510      -0.4966  EMA:10, RSI:15, RSI_MA:30, SL Candles:8\n",
      "2019     -30.6836          229  28.8210                3.5846             -1.6397     -71.0412      -0.4319  EMA:10, RSI:15, RSI_MA:30, SL Candles:8\n",
      "2020      81.8232          210  33.8095                4.1304             -1.5211     -32.9673       2.4820  EMA:10, RSI:15, RSI_MA:30, SL Candles:8\n",
      "2021      45.3398          222  32.4324                4.0075             -1.6213     -59.9269       0.7566  EMA:10, RSI:15, RSI_MA:30, SL Candles:8\n",
      "2022     -18.1265          237  27.4262                4.1381             -1.6692     -77.0150      -0.2354  EMA:10, RSI:15, RSI_MA:30, SL Candles:8\n",
      "2023      -1.1275          227  28.6344                4.3752             -1.7624    -108.6275      -0.0104  EMA:10, RSI:15, RSI_MA:30, SL Candles:8\n",
      "2024      12.2702          222  26.5766                4.6904             -1.6225     -85.9386       0.1428  EMA:10, RSI:15, RSI_MA:30, SL Candles:8\n",
      "2025       1.8543           11  36.3636                2.6099             -1.2265      -3.7569       0.4936  EMA:10, RSI:15, RSI_MA:30, SL Candles:8\n",
      "Overall   71.8588         1576  29.7589                4.0249             -1.6403    -134.3161       0.5350  EMA:10, RSI:15, RSI_MA:30, SL Candles:8\n",
      "EMA:10, RSI:15, RSI_MA:30, SL Candles:10\n"
     ]
    },
    {
     "name": "stderr",
     "output_type": "stream",
     "text": [
      "/tmp/ipykernel_33520/419236688.py:137: FutureWarning: Setting an item of incompatible dtype is deprecated and will raise an error in a future version of pandas. Value 'Trailing SL Hit' has dtype incompatible with float64, please explicitly cast to a compatible dtype first.\n",
      "  tradebook_short.loc[\n"
     ]
    },
    {
     "name": "stdout",
     "output_type": "stream",
     "text": [
      "        Total ROI Total Trades Win Rate Avg Profit% per Trade Avg Loss% per Trade Max Drawdown ROI/DD Ratio                                 Variation\n",
      "2017            0            0      NaN                   NaN                 NaN          NaN          NaN  EMA:10, RSI:15, RSI_MA:30, SL Candles:10\n",
      "2018      -9.4313          216  31.0185                3.1219             -1.4671     -33.5749      -0.2809  EMA:10, RSI:15, RSI_MA:30, SL Candles:10\n",
      "2019     -33.2961          228  28.9474                3.1689             -1.4966     -64.5488      -0.5158  EMA:10, RSI:15, RSI_MA:30, SL Candles:10\n",
      "2020      86.8064          210  33.8095                3.9341             -1.3850     -35.9077       2.4175  EMA:10, RSI:15, RSI_MA:30, SL Candles:10\n",
      "2021      68.3556          221  32.5792                3.8892             -1.4206     -47.3290       1.4443  EMA:10, RSI:15, RSI_MA:30, SL Candles:10\n",
      "2022     -63.4241          237  27.4262                3.1138             -1.5455     -83.7117      -0.7576  EMA:10, RSI:15, RSI_MA:30, SL Candles:10\n",
      "2023     -13.5559          226  29.2035                3.6210             -1.5784     -92.1198      -0.1472  EMA:10, RSI:15, RSI_MA:30, SL Candles:10\n",
      "2024      19.3742          222  26.5766                4.4947             -1.5081     -81.9520       0.2364  EMA:10, RSI:15, RSI_MA:30, SL Candles:10\n",
      "2025       1.6116           11  36.3636                2.5492             -1.2265      -3.7569       0.4290  EMA:10, RSI:15, RSI_MA:30, SL Candles:10\n",
      "Overall   56.4404         1571  29.9173                3.6052             -1.4877    -109.4652       0.5156  EMA:10, RSI:15, RSI_MA:30, SL Candles:10\n",
      "EMA:10, RSI:15, RSI_MA:35, SL Candles:2\n"
     ]
    },
    {
     "name": "stderr",
     "output_type": "stream",
     "text": [
      "/tmp/ipykernel_33520/419236688.py:84: FutureWarning: Setting an item of incompatible dtype is deprecated and will raise an error in a future version of pandas. Value 'Gap' has dtype incompatible with float64, please explicitly cast to a compatible dtype first.\n",
      "  tradebook_short.loc[\n"
     ]
    },
    {
     "name": "stdout",
     "output_type": "stream",
     "text": [
      "        Total ROI Total Trades Win Rate Avg Profit% per Trade Avg Loss% per Trade Max Drawdown ROI/DD Ratio                                Variation\n",
      "2017            0            0      NaN                   NaN                 NaN          NaN          NaN  EMA:10, RSI:15, RSI_MA:35, SL Candles:2\n",
      "2018     -60.6251          223  29.5964                4.9215             -2.4551     -67.5991      -0.8968  EMA:10, RSI:15, RSI_MA:35, SL Candles:2\n",
      "2019      18.3082          223  30.4933                5.3691             -2.2374     -87.4294       0.2094  EMA:10, RSI:15, RSI_MA:35, SL Candles:2\n",
      "2020     107.5844          216  34.7222                5.7903             -2.3169     -49.3388       2.1805  EMA:10, RSI:15, RSI_MA:35, SL Candles:2\n",
      "2021      43.0333          227  30.3965                5.8943             -2.3017     -83.0476       0.5182  EMA:10, RSI:15, RSI_MA:35, SL Candles:2\n",
      "2022       6.3925          242  29.7521                5.7393             -2.3931     -87.0037       0.0735  EMA:10, RSI:15, RSI_MA:35, SL Candles:2\n",
      "2023      70.3446          236  25.4237                8.3709             -2.4540    -124.9704       0.5629  EMA:10, RSI:15, RSI_MA:35, SL Candles:2\n",
      "2024     -69.5276          227  26.4317                5.4521             -2.3752    -143.2446      -0.4854  EMA:10, RSI:15, RSI_MA:35, SL Candles:2\n",
      "2025      11.3868           10  50.0000                3.8815             -1.6041      -3.0158       3.7757  EMA:10, RSI:15, RSI_MA:35, SL Candles:2\n",
      "Overall  126.8973         1604  29.6135                5.8798             -2.3614    -181.1054       0.7007  EMA:10, RSI:15, RSI_MA:35, SL Candles:2\n",
      "EMA:10, RSI:15, RSI_MA:35, SL Candles:4\n"
     ]
    },
    {
     "name": "stderr",
     "output_type": "stream",
     "text": [
      "/tmp/ipykernel_33520/419236688.py:84: FutureWarning: Setting an item of incompatible dtype is deprecated and will raise an error in a future version of pandas. Value 'Gap' has dtype incompatible with float64, please explicitly cast to a compatible dtype first.\n",
      "  tradebook_short.loc[\n"
     ]
    },
    {
     "name": "stdout",
     "output_type": "stream",
     "text": [
      "        Total ROI Total Trades Win Rate Avg Profit% per Trade Avg Loss% per Trade Max Drawdown ROI/DD Ratio                                Variation\n",
      "2017            0            0      NaN                   NaN                 NaN          NaN          NaN  EMA:10, RSI:15, RSI_MA:35, SL Candles:4\n",
      "2018     -41.6881          221  29.8643                4.2605             -2.0831     -53.0364      -0.7860  EMA:10, RSI:15, RSI_MA:35, SL Candles:4\n",
      "2019      31.2592          222  30.6306                4.9290             -1.9734     -76.8973       0.4065  EMA:10, RSI:15, RSI_MA:35, SL Candles:4\n",
      "2020      83.8766          213  34.7418                4.6969             -1.8971     -38.0163       2.2063  EMA:10, RSI:15, RSI_MA:35, SL Candles:4\n",
      "2021      28.3025          226  30.5310                5.0643             -2.0455     -73.9512       0.3827  EMA:10, RSI:15, RSI_MA:35, SL Candles:4\n",
      "2022     -40.8288          237  30.3797                4.2791             -2.1147    -101.7828      -0.4011  EMA:10, RSI:15, RSI_MA:35, SL Candles:4\n",
      "2023      77.5556          231  25.9740                7.3426             -2.1228    -110.0353       0.7048  EMA:10, RSI:15, RSI_MA:35, SL Candles:4\n",
      "2024     -41.6060          225  26.6667                4.9490             -2.0518     -95.1195      -0.4374  EMA:10, RSI:15, RSI_MA:35, SL Candles:4\n",
      "2025      10.7003           10  50.0000                3.6309             -1.4908      -2.4493       4.3687  EMA:10, RSI:15, RSI_MA:35, SL Candles:4\n",
      "Overall  107.5714         1585  29.9054                5.0150             -2.0428    -153.2928       0.7017  EMA:10, RSI:15, RSI_MA:35, SL Candles:4\n",
      "EMA:10, RSI:15, RSI_MA:35, SL Candles:6\n"
     ]
    },
    {
     "name": "stderr",
     "output_type": "stream",
     "text": [
      "/tmp/ipykernel_33520/419236688.py:123: FutureWarning: Setting an item of incompatible dtype is deprecated and will raise an error in a future version of pandas. Value 'Initial SL Hit' has dtype incompatible with float64, please explicitly cast to a compatible dtype first.\n",
      "  tradebook_short.loc[\n"
     ]
    },
    {
     "name": "stdout",
     "output_type": "stream",
     "text": [
      "        Total ROI Total Trades Win Rate Avg Profit% per Trade Avg Loss% per Trade Max Drawdown ROI/DD Ratio                                Variation\n",
      "2017            0            0      NaN                   NaN                 NaN          NaN          NaN  EMA:10, RSI:15, RSI_MA:35, SL Candles:6\n",
      "2018     -60.9514          221  29.8643                3.7398             -1.9856     -63.0468      -0.9668  EMA:10, RSI:15, RSI_MA:35, SL Candles:6\n",
      "2019      22.3525          221  30.7692                4.4185             -1.8177     -62.6004       0.3571  EMA:10, RSI:15, RSI_MA:35, SL Candles:6\n",
      "2020      85.0376          213  34.7418                4.3382             -1.6978     -42.6957       1.9917  EMA:10, RSI:15, RSI_MA:35, SL Candles:6\n",
      "2021      13.5762          226  30.5310                4.4498             -1.8692     -79.6798       0.1704  EMA:10, RSI:15, RSI_MA:35, SL Candles:6\n",
      "2022     -26.4912          237  30.3797                3.9664             -1.8913     -85.8376      -0.3086  EMA:10, RSI:15, RSI_MA:35, SL Candles:6\n",
      "2023      15.3240          230  26.0870                5.6304             -1.8971     -98.3256       0.1558  EMA:10, RSI:15, RSI_MA:35, SL Candles:6\n",
      "2024     -32.2548          224  26.7857                4.4151             -1.8119     -96.6854      -0.3336  EMA:10, RSI:15, RSI_MA:35, SL Candles:6\n",
      "2025       7.4011           10  50.0000                2.8952             -1.4150      -2.4470       3.0245  EMA:10, RSI:15, RSI_MA:35, SL Candles:6\n",
      "Overall   23.9940         1582  29.9621                4.3843             -1.8539    -151.3324       0.1586  EMA:10, RSI:15, RSI_MA:35, SL Candles:6\n",
      "EMA:10, RSI:15, RSI_MA:35, SL Candles:8\n"
     ]
    },
    {
     "name": "stderr",
     "output_type": "stream",
     "text": [
      "/tmp/ipykernel_33520/419236688.py:123: FutureWarning: Setting an item of incompatible dtype is deprecated and will raise an error in a future version of pandas. Value 'Initial SL Hit' has dtype incompatible with float64, please explicitly cast to a compatible dtype first.\n",
      "  tradebook_short.loc[\n"
     ]
    },
    {
     "name": "stdout",
     "output_type": "stream",
     "text": [
      "        Total ROI Total Trades Win Rate Avg Profit% per Trade Avg Loss% per Trade Max Drawdown ROI/DD Ratio                                Variation\n",
      "2017            0            0      NaN                   NaN                 NaN          NaN          NaN  EMA:10, RSI:15, RSI_MA:35, SL Candles:8\n",
      "2018     -47.9724          220  30.0000                3.5537             -1.8345     -53.9757      -0.8888  EMA:10, RSI:15, RSI_MA:35, SL Candles:8\n",
      "2019      17.5449          221  30.7692                4.0257             -1.6745     -54.0239       0.3248  EMA:10, RSI:15, RSI_MA:35, SL Candles:8\n",
      "2020      64.5433          213  34.7418                3.8491             -1.5848     -47.7626       1.3513  EMA:10, RSI:15, RSI_MA:35, SL Candles:8\n",
      "2021      13.8534          226  30.5310                4.0307             -1.6832     -86.1885       0.1607  EMA:10, RSI:15, RSI_MA:35, SL Candles:8\n",
      "2022     -20.9447          237  30.3797                3.6804             -1.7329     -73.0075      -0.2869  EMA:10, RSI:15, RSI_MA:35, SL Candles:8\n",
      "2023      11.9494          228  26.3158                4.7563             -1.6275     -94.1782       0.1269  EMA:10, RSI:15, RSI_MA:35, SL Candles:8\n",
      "2024     -27.3136          224  26.7857                3.9866             -1.6251     -87.3622      -0.3126  EMA:10, RSI:15, RSI_MA:35, SL Candles:8\n",
      "2025       6.8266           10  50.0000                2.7802             -1.4149      -2.4467       2.7901  EMA:10, RSI:15, RSI_MA:35, SL Candles:8\n",
      "Overall   18.4870         1579  30.0190                3.9551             -1.6798    -150.1002       0.1232  EMA:10, RSI:15, RSI_MA:35, SL Candles:8\n",
      "EMA:10, RSI:15, RSI_MA:35, SL Candles:10\n"
     ]
    },
    {
     "name": "stderr",
     "output_type": "stream",
     "text": [
      "/tmp/ipykernel_33520/419236688.py:123: FutureWarning: Setting an item of incompatible dtype is deprecated and will raise an error in a future version of pandas. Value 'Initial SL Hit' has dtype incompatible with float64, please explicitly cast to a compatible dtype first.\n",
      "  tradebook_short.loc[\n"
     ]
    },
    {
     "name": "stdout",
     "output_type": "stream",
     "text": [
      "        Total ROI Total Trades Win Rate Avg Profit% per Trade Avg Loss% per Trade Max Drawdown ROI/DD Ratio                                 Variation\n",
      "2017            0            0      NaN                   NaN                 NaN          NaN          NaN  EMA:10, RSI:15, RSI_MA:35, SL Candles:10\n",
      "2018     -33.9676          218  30.2752                3.2405             -1.6305     -45.2709      -0.7503  EMA:10, RSI:15, RSI_MA:35, SL Candles:10\n",
      "2019      12.8980          220  30.9091                3.5803             -1.5169     -46.2462       0.2789  EMA:10, RSI:15, RSI_MA:35, SL Candles:10\n",
      "2020      65.5677          213  34.7418                3.6299             -1.4607     -49.9407       1.3129  EMA:10, RSI:15, RSI_MA:35, SL Candles:10\n",
      "2021      41.3818          225  30.6667                3.8990             -1.4593     -69.7904       0.5929  EMA:10, RSI:15, RSI_MA:35, SL Candles:10\n",
      "2022     -63.2343          237  30.3797                2.7672             -1.5907     -76.9650      -0.8216  EMA:10, RSI:15, RSI_MA:35, SL Candles:10\n",
      "2023       2.6375          227  26.8722                3.9364             -1.4306     -74.5316       0.0354  EMA:10, RSI:15, RSI_MA:35, SL Candles:10\n",
      "2024     -11.5084          222  27.4775                3.7508             -1.4926     -74.5527      -0.1544  EMA:10, RSI:15, RSI_MA:35, SL Candles:10\n",
      "2025       6.8266           10  50.0000                2.7802             -1.4149      -2.4467       2.7901  EMA:10, RSI:15, RSI_MA:35, SL Candles:10\n",
      "Overall   20.6013         1572  30.2799                3.5232             -1.5113    -128.7688       0.1600  EMA:10, RSI:15, RSI_MA:35, SL Candles:10\n",
      "EMA:10, RSI:18, RSI_MA:5, SL Candles:2\n"
     ]
    },
    {
     "name": "stderr",
     "output_type": "stream",
     "text": [
      "/tmp/ipykernel_33520/419236688.py:137: FutureWarning: Setting an item of incompatible dtype is deprecated and will raise an error in a future version of pandas. Value 'Trailing SL Hit' has dtype incompatible with float64, please explicitly cast to a compatible dtype first.\n",
      "  tradebook_short.loc[\n"
     ]
    },
    {
     "name": "stdout",
     "output_type": "stream",
     "text": [
      "EMA:10, RSI:18, RSI_MA:5, SL Candles:4\n"
     ]
    },
    {
     "name": "stderr",
     "output_type": "stream",
     "text": [
      "/tmp/ipykernel_33520/419236688.py:137: FutureWarning: Setting an item of incompatible dtype is deprecated and will raise an error in a future version of pandas. Value 'Trailing SL Hit' has dtype incompatible with float64, please explicitly cast to a compatible dtype first.\n",
      "  tradebook_short.loc[\n"
     ]
    },
    {
     "name": "stdout",
     "output_type": "stream",
     "text": [
      "EMA:10, RSI:18, RSI_MA:5, SL Candles:6\n"
     ]
    },
    {
     "name": "stderr",
     "output_type": "stream",
     "text": [
      "/tmp/ipykernel_33520/419236688.py:137: FutureWarning: Setting an item of incompatible dtype is deprecated and will raise an error in a future version of pandas. Value 'Trailing SL Hit' has dtype incompatible with float64, please explicitly cast to a compatible dtype first.\n",
      "  tradebook_short.loc[\n"
     ]
    },
    {
     "name": "stdout",
     "output_type": "stream",
     "text": [
      "EMA:10, RSI:18, RSI_MA:5, SL Candles:8\n"
     ]
    },
    {
     "name": "stderr",
     "output_type": "stream",
     "text": [
      "/tmp/ipykernel_33520/419236688.py:137: FutureWarning: Setting an item of incompatible dtype is deprecated and will raise an error in a future version of pandas. Value 'Trailing SL Hit' has dtype incompatible with float64, please explicitly cast to a compatible dtype first.\n",
      "  tradebook_short.loc[\n"
     ]
    },
    {
     "name": "stdout",
     "output_type": "stream",
     "text": [
      "EMA:10, RSI:18, RSI_MA:5, SL Candles:10\n"
     ]
    },
    {
     "name": "stderr",
     "output_type": "stream",
     "text": [
      "/tmp/ipykernel_33520/419236688.py:137: FutureWarning: Setting an item of incompatible dtype is deprecated and will raise an error in a future version of pandas. Value 'Trailing SL Hit' has dtype incompatible with float64, please explicitly cast to a compatible dtype first.\n",
      "  tradebook_short.loc[\n"
     ]
    },
    {
     "name": "stdout",
     "output_type": "stream",
     "text": [
      "EMA:10, RSI:18, RSI_MA:10, SL Candles:2\n"
     ]
    },
    {
     "name": "stderr",
     "output_type": "stream",
     "text": [
      "/tmp/ipykernel_33520/419236688.py:151: FutureWarning: Setting an item of incompatible dtype is deprecated and will raise an error in a future version of pandas. Value 'RSI Upmove' has dtype incompatible with float64, please explicitly cast to a compatible dtype first.\n",
      "  tradebook_short.loc[\n"
     ]
    },
    {
     "name": "stdout",
     "output_type": "stream",
     "text": [
      "        Total ROI Total Trades Win Rate Avg Profit% per Trade Avg Loss% per Trade Max Drawdown ROI/DD Ratio                                Variation\n",
      "2017            0            0      NaN                   NaN                 NaN          NaN          NaN  EMA:10, RSI:18, RSI_MA:10, SL Candles:2\n",
      "2018      -7.4432          271  30.2583                4.9716             -2.1964    -102.0277      -0.0730  EMA:10, RSI:18, RSI_MA:10, SL Candles:2\n",
      "2019      13.0688          252  32.5397                4.6545             -2.1683     -97.7487       0.1337  EMA:10, RSI:18, RSI_MA:10, SL Candles:2\n",
      "2020     155.1707          270  35.1852                5.5438             -2.1228     -43.5921       3.5596  EMA:10, RSI:18, RSI_MA:10, SL Candles:2\n",
      "2021      32.7023          272  31.6176                5.2260             -2.2405     -68.1518       0.4798  EMA:10, RSI:18, RSI_MA:10, SL Candles:2\n",
      "2022     -22.9688          300  33.3333                4.7993             -2.5145    -113.7023      -0.2020  EMA:10, RSI:18, RSI_MA:10, SL Candles:2\n",
      "2023    -114.7923          299  29.0970                4.6320             -2.4423    -169.4560      -0.6774  EMA:10, RSI:18, RSI_MA:10, SL Candles:2\n",
      "2024     -57.0082          270  27.4074                5.5865             -2.4001    -173.2706      -0.3290  EMA:10, RSI:18, RSI_MA:10, SL Candles:2\n",
      "2025       9.6488           17  47.0588                3.8350             -2.3368      -6.9946       1.3795  EMA:10, RSI:18, RSI_MA:10, SL Candles:2\n",
      "Overall    8.3782         1951  31.4710                5.0365             -2.3067    -303.2970       0.0276  EMA:10, RSI:18, RSI_MA:10, SL Candles:2\n",
      "EMA:10, RSI:18, RSI_MA:10, SL Candles:4\n"
     ]
    },
    {
     "name": "stderr",
     "output_type": "stream",
     "text": [
      "/tmp/ipykernel_33520/419236688.py:151: FutureWarning: Setting an item of incompatible dtype is deprecated and will raise an error in a future version of pandas. Value 'RSI Upmove' has dtype incompatible with float64, please explicitly cast to a compatible dtype first.\n",
      "  tradebook_short.loc[\n"
     ]
    },
    {
     "name": "stdout",
     "output_type": "stream",
     "text": [
      "        Total ROI Total Trades Win Rate Avg Profit% per Trade Avg Loss% per Trade Max Drawdown ROI/DD Ratio                                Variation\n",
      "2017            0            0      NaN                   NaN                 NaN          NaN          NaN  EMA:10, RSI:18, RSI_MA:10, SL Candles:4\n",
      "2018      -0.2415          268  31.3433                4.0693             -1.8590     -77.6449      -0.0031  EMA:10, RSI:18, RSI_MA:10, SL Candles:4\n",
      "2019      29.4435          250  32.8000                4.0511             -1.8021     -87.7372       0.3356  EMA:10, RSI:18, RSI_MA:10, SL Candles:4\n",
      "2020     123.6363          269  35.3160                4.4559             -1.7223     -40.7845       3.0315  EMA:10, RSI:18, RSI_MA:10, SL Candles:4\n",
      "2021      54.8171          266  32.3308                4.5351             -1.8622     -49.0980       1.1165  EMA:10, RSI:18, RSI_MA:10, SL Candles:4\n",
      "2022     -45.2064          297  33.6700                3.8771             -2.1976    -130.3406      -0.3468  EMA:10, RSI:18, RSI_MA:10, SL Candles:4\n",
      "2023     -63.9099          296  30.0676                3.9290             -1.9980    -125.3232      -0.5100  EMA:10, RSI:18, RSI_MA:10, SL Candles:4\n",
      "2024      -1.2803          267  28.4644                5.0226             -2.0052    -112.5691      -0.0114  EMA:10, RSI:18, RSI_MA:10, SL Candles:4\n",
      "2025      16.8710           16  50.0000                4.0084             -1.8995      -4.5193       3.7331  EMA:10, RSI:18, RSI_MA:10, SL Candles:4\n",
      "Overall  114.1297         1929  32.1410                4.2557             -1.9285    -209.2806       0.5453  EMA:10, RSI:18, RSI_MA:10, SL Candles:4\n",
      "EMA:10, RSI:18, RSI_MA:10, SL Candles:6\n"
     ]
    },
    {
     "name": "stderr",
     "output_type": "stream",
     "text": [
      "/tmp/ipykernel_33520/419236688.py:151: FutureWarning: Setting an item of incompatible dtype is deprecated and will raise an error in a future version of pandas. Value 'RSI Upmove' has dtype incompatible with float64, please explicitly cast to a compatible dtype first.\n",
      "  tradebook_short.loc[\n"
     ]
    },
    {
     "name": "stdout",
     "output_type": "stream",
     "text": [
      "        Total ROI Total Trades Win Rate Avg Profit% per Trade Avg Loss% per Trade Max Drawdown ROI/DD Ratio                                Variation\n",
      "2017            0            0      NaN                   NaN                 NaN          NaN          NaN  EMA:10, RSI:18, RSI_MA:10, SL Candles:6\n",
      "2018     -22.9140          265  31.6981                3.4307             -1.7187     -75.4184      -0.3038  EMA:10, RSI:18, RSI_MA:10, SL Candles:6\n",
      "2019      36.3248          249  33.3333                3.6757             -1.6190     -74.7605       0.4859  EMA:10, RSI:18, RSI_MA:10, SL Candles:6\n",
      "2020     102.4068          268  35.4478                3.8622             -1.5289     -37.7446       2.7131  EMA:10, RSI:18, RSI_MA:10, SL Candles:6\n",
      "2021      27.9642          266  32.7068                3.6570             -1.6212     -44.3549       0.6305  EMA:10, RSI:18, RSI_MA:10, SL Candles:6\n",
      "2022     -35.7160          296  33.7838                3.5135             -1.9748    -112.2064      -0.3183  EMA:10, RSI:18, RSI_MA:10, SL Candles:6\n",
      "2023     -83.8173          295  30.1695                3.1827             -1.7819    -114.6802      -0.7309  EMA:10, RSI:18, RSI_MA:10, SL Candles:6\n",
      "2024      16.5661          265  28.6792                4.5219             -1.7307     -93.0274       0.1781  EMA:10, RSI:18, RSI_MA:10, SL Candles:6\n",
      "2025      16.9665           16  50.0000                3.8221             -1.7012      -4.0435       4.1961  EMA:10, RSI:18, RSI_MA:10, SL Candles:6\n",
      "Overall   57.7810         1920  32.3958                3.6771             -1.7176    -199.3943       0.2898  EMA:10, RSI:18, RSI_MA:10, SL Candles:6\n",
      "EMA:10, RSI:18, RSI_MA:10, SL Candles:8\n"
     ]
    },
    {
     "name": "stderr",
     "output_type": "stream",
     "text": [
      "/tmp/ipykernel_33520/419236688.py:151: FutureWarning: Setting an item of incompatible dtype is deprecated and will raise an error in a future version of pandas. Value 'RSI Upmove' has dtype incompatible with float64, please explicitly cast to a compatible dtype first.\n",
      "  tradebook_short.loc[\n"
     ]
    },
    {
     "name": "stdout",
     "output_type": "stream",
     "text": [
      "        Total ROI Total Trades Win Rate Avg Profit% per Trade Avg Loss% per Trade Max Drawdown ROI/DD Ratio                                Variation\n",
      "2017            0            0      NaN                   NaN                 NaN          NaN          NaN  EMA:10, RSI:18, RSI_MA:10, SL Candles:8\n",
      "2018     -25.3661          264  31.8182                3.0581             -1.5680     -72.9256      -0.3478  EMA:10, RSI:18, RSI_MA:10, SL Candles:8\n",
      "2019      24.5804          249  33.3333                3.3348             -1.5193     -65.0343       0.3780  EMA:10, RSI:18, RSI_MA:10, SL Candles:8\n",
      "2020      77.5938          268  35.4478                3.4433             -1.4423     -44.6794       1.7367  EMA:10, RSI:18, RSI_MA:10, SL Candles:8\n",
      "2021      25.2964          266  32.7068                3.3244             -1.4744     -43.1604       0.5861  EMA:10, RSI:18, RSI_MA:10, SL Candles:8\n",
      "2022     -28.7551          296  33.7838                3.2148             -1.7869     -99.5200      -0.2889  EMA:10, RSI:18, RSI_MA:10, SL Candles:8\n",
      "2023     -53.4556          293  30.3754                2.9244             -1.5379     -79.8190      -0.6697  EMA:10, RSI:18, RSI_MA:10, SL Candles:8\n",
      "2024      22.5791          265  28.6792                4.1196             -1.5371     -80.6173       0.2801  EMA:10, RSI:18, RSI_MA:10, SL Candles:8\n",
      "2025      17.9341           16  50.0000                3.7737             -1.5319      -4.0435       4.4354  EMA:10, RSI:18, RSI_MA:10, SL Candles:8\n",
      "Overall   60.4072         1917  32.4465                3.3361             -1.5557    -152.1876       0.3969  EMA:10, RSI:18, RSI_MA:10, SL Candles:8\n",
      "EMA:10, RSI:18, RSI_MA:10, SL Candles:10\n"
     ]
    },
    {
     "name": "stderr",
     "output_type": "stream",
     "text": [
      "/tmp/ipykernel_33520/419236688.py:151: FutureWarning: Setting an item of incompatible dtype is deprecated and will raise an error in a future version of pandas. Value 'RSI Upmove' has dtype incompatible with float64, please explicitly cast to a compatible dtype first.\n",
      "  tradebook_short.loc[\n"
     ]
    },
    {
     "name": "stdout",
     "output_type": "stream",
     "text": [
      "        Total ROI Total Trades Win Rate Avg Profit% per Trade Avg Loss% per Trade Max Drawdown ROI/DD Ratio                                 Variation\n",
      "2017            0            0      NaN                   NaN                 NaN          NaN          NaN  EMA:10, RSI:18, RSI_MA:10, SL Candles:10\n",
      "2018      -7.1394          263  31.9392                2.9547             -1.4265     -60.3185      -0.1184  EMA:10, RSI:18, RSI_MA:10, SL Candles:10\n",
      "2019      13.5045          248  33.4677                3.0559             -1.4554     -62.5044       0.2161  EMA:10, RSI:18, RSI_MA:10, SL Candles:10\n",
      "2020      80.7500          268  35.4478                3.2964             -1.3434     -42.3167       1.9082  EMA:10, RSI:18, RSI_MA:10, SL Candles:10\n",
      "2021      26.3694          266  32.7068                3.1624             -1.3897     -43.2829       0.6092  EMA:10, RSI:18, RSI_MA:10, SL Candles:10\n",
      "2022     -32.0501          296  33.7838                2.9789             -1.6834     -92.6339      -0.3460  EMA:10, RSI:18, RSI_MA:10, SL Candles:10\n",
      "2023     -36.5786          290  31.0345                2.6721             -1.3853     -64.3442      -0.5685  EMA:10, RSI:18, RSI_MA:10, SL Candles:10\n",
      "2024      29.4943          265  28.6792                3.9614             -1.4369     -75.8835       0.3887  EMA:10, RSI:18, RSI_MA:10, SL Candles:10\n",
      "2025      18.5113           16  50.0000                3.7650             -1.4511      -4.0435       4.5781  EMA:10, RSI:18, RSI_MA:10, SL Candles:10\n",
      "Overall   92.8614         1912  32.5837                3.1456             -1.4483    -124.7708       0.7443  EMA:10, RSI:18, RSI_MA:10, SL Candles:10\n",
      "EMA:10, RSI:18, RSI_MA:15, SL Candles:2\n"
     ]
    },
    {
     "name": "stderr",
     "output_type": "stream",
     "text": [
      "/tmp/ipykernel_33520/419236688.py:123: FutureWarning: Setting an item of incompatible dtype is deprecated and will raise an error in a future version of pandas. Value 'Initial SL Hit' has dtype incompatible with float64, please explicitly cast to a compatible dtype first.\n",
      "  tradebook_short.loc[\n"
     ]
    },
    {
     "name": "stdout",
     "output_type": "stream",
     "text": [
      "        Total ROI Total Trades Win Rate Avg Profit% per Trade Avg Loss% per Trade Max Drawdown ROI/DD Ratio                                Variation\n",
      "2017            0            0      NaN                   NaN                 NaN          NaN          NaN  EMA:10, RSI:18, RSI_MA:15, SL Candles:2\n",
      "2018     -34.1657          237  31.2236                4.4848             -2.2457     -76.4593      -0.4468  EMA:10, RSI:18, RSI_MA:15, SL Candles:2\n",
      "2019      -5.1241          226  30.5310                4.6346             -2.0695     -96.4814      -0.0531  EMA:10, RSI:18, RSI_MA:15, SL Candles:2\n",
      "2020     103.4713          237  32.4895                5.6440             -2.0695     -48.7863       2.1209  EMA:10, RSI:18, RSI_MA:15, SL Candles:2\n",
      "2021       0.5834          255  30.5882                5.4200             -2.3852     -67.6142       0.0086  EMA:10, RSI:18, RSI_MA:15, SL Candles:2\n",
      "2022      -0.7003          252  29.7619                5.8954             -2.5020    -133.0793      -0.0053  EMA:10, RSI:18, RSI_MA:15, SL Candles:2\n",
      "2023      27.9866          254  27.1654                6.7876             -2.3803    -131.6848       0.2125  EMA:10, RSI:18, RSI_MA:15, SL Candles:2\n",
      "2024     -53.0561          248  25.4032                6.5767             -2.5264    -215.0324      -0.2467  EMA:10, RSI:18, RSI_MA:15, SL Candles:2\n",
      "2025      17.2657           13  38.4615                6.3825             -1.8308      -3.2024       5.3915  EMA:10, RSI:18, RSI_MA:15, SL Candles:2\n",
      "Overall   56.2607         1722  29.6167                5.6191             -2.3181    -243.2105       0.2313  EMA:10, RSI:18, RSI_MA:15, SL Candles:2\n",
      "EMA:10, RSI:18, RSI_MA:15, SL Candles:4\n"
     ]
    },
    {
     "name": "stderr",
     "output_type": "stream",
     "text": [
      "/tmp/ipykernel_33520/419236688.py:123: FutureWarning: Setting an item of incompatible dtype is deprecated and will raise an error in a future version of pandas. Value 'Initial SL Hit' has dtype incompatible with float64, please explicitly cast to a compatible dtype first.\n",
      "  tradebook_short.loc[\n"
     ]
    },
    {
     "name": "stdout",
     "output_type": "stream",
     "text": [
      "        Total ROI Total Trades Win Rate Avg Profit% per Trade Avg Loss% per Trade Max Drawdown ROI/DD Ratio                                Variation\n",
      "2017            0            0      NaN                   NaN                 NaN          NaN          NaN  EMA:10, RSI:18, RSI_MA:15, SL Candles:4\n",
      "2018      -4.7432          233  32.1888                3.7865             -1.8274     -49.5675      -0.0957  EMA:10, RSI:18, RSI_MA:15, SL Candles:4\n",
      "2019      -6.1171          225  30.6667                3.9430             -1.7832     -88.2806      -0.0693  EMA:10, RSI:18, RSI_MA:15, SL Candles:4\n",
      "2020     108.6871          234  32.9060                4.9253             -1.7233     -42.0153       2.5868  EMA:10, RSI:18, RSI_MA:15, SL Candles:4\n",
      "2021      32.4595          252  30.5556                4.9470             -1.9912     -57.0981       0.5685  EMA:10, RSI:18, RSI_MA:15, SL Candles:4\n",
      "2022     -50.8927          248  30.2419                4.3915             -2.1980    -144.1839      -0.3530  EMA:10, RSI:18, RSI_MA:15, SL Candles:4\n",
      "2023      60.7334          251  27.8884                5.9915             -1.9816    -114.1387       0.5321  EMA:10, RSI:18, RSI_MA:15, SL Candles:4\n",
      "2024       0.2098          246  25.6098                6.0844             -2.0935    -142.4323       0.0015  EMA:10, RSI:18, RSI_MA:15, SL Candles:4\n",
      "2025      10.0001           13  38.4615                4.6661             -1.6663      -3.1347       3.1901  EMA:10, RSI:18, RSI_MA:15, SL Candles:4\n",
      "Overall  150.3369         1702  30.0235                4.8369             -1.9490    -147.6556       1.0182  EMA:10, RSI:18, RSI_MA:15, SL Candles:4\n",
      "EMA:10, RSI:18, RSI_MA:15, SL Candles:6\n"
     ]
    },
    {
     "name": "stderr",
     "output_type": "stream",
     "text": [
      "/tmp/ipykernel_33520/419236688.py:123: FutureWarning: Setting an item of incompatible dtype is deprecated and will raise an error in a future version of pandas. Value 'Initial SL Hit' has dtype incompatible with float64, please explicitly cast to a compatible dtype first.\n",
      "  tradebook_short.loc[\n"
     ]
    },
    {
     "name": "stdout",
     "output_type": "stream",
     "text": [
      "        Total ROI Total Trades Win Rate Avg Profit% per Trade Avg Loss% per Trade Max Drawdown ROI/DD Ratio                                Variation\n",
      "2017            0            0      NaN                   NaN                 NaN          NaN          NaN  EMA:10, RSI:18, RSI_MA:15, SL Candles:6\n",
      "2018     -21.4899          231  32.4675                3.2873             -1.7182     -51.4262      -0.4179  EMA:10, RSI:18, RSI_MA:15, SL Candles:6\n",
      "2019       5.4060          224  30.8036                3.7092             -1.6163     -79.5961       0.0679  EMA:10, RSI:18, RSI_MA:15, SL Candles:6\n",
      "2020      64.7363          232  33.1897                3.9089             -1.5242     -33.1377       1.9536  EMA:10, RSI:18, RSI_MA:15, SL Candles:6\n",
      "2021      26.3387          251  30.6773                4.3292             -1.7644     -52.2018       0.5046  EMA:10, RSI:18, RSI_MA:15, SL Candles:6\n",
      "2022     -51.7720          248  30.2419                3.8776             -1.9803    -134.8786      -0.3838  EMA:10, RSI:18, RSI_MA:15, SL Candles:6\n",
      "2023      -3.1913          250  28.0000                4.5069             -1.7704     -96.5962      -0.0330  EMA:10, RSI:18, RSI_MA:15, SL Candles:6\n",
      "2024       1.1949          245  25.7143                5.4308             -1.8733    -139.9870       0.0085  EMA:10, RSI:18, RSI_MA:15, SL Candles:6\n",
      "2025       8.5980           13  38.4615                4.3480             -1.6428      -3.1347       2.7428  EMA:10, RSI:18, RSI_MA:15, SL Candles:6\n",
      "Overall   29.8205         1694  30.1653                4.1233             -1.7559    -187.9165       0.1587  EMA:10, RSI:18, RSI_MA:15, SL Candles:6\n",
      "EMA:10, RSI:18, RSI_MA:15, SL Candles:8\n"
     ]
    },
    {
     "name": "stderr",
     "output_type": "stream",
     "text": [
      "/tmp/ipykernel_33520/419236688.py:137: FutureWarning: Setting an item of incompatible dtype is deprecated and will raise an error in a future version of pandas. Value 'Trailing SL Hit' has dtype incompatible with float64, please explicitly cast to a compatible dtype first.\n",
      "  tradebook_short.loc[\n"
     ]
    },
    {
     "name": "stdout",
     "output_type": "stream",
     "text": [
      "        Total ROI Total Trades Win Rate Avg Profit% per Trade Avg Loss% per Trade Max Drawdown ROI/DD Ratio                                Variation\n",
      "2017            0            0      NaN                   NaN                 NaN          NaN          NaN  EMA:10, RSI:18, RSI_MA:15, SL Candles:8\n",
      "2018     -17.9463          230  32.6087                2.9390             -1.5379     -55.2630      -0.3247  EMA:10, RSI:18, RSI_MA:15, SL Candles:8\n",
      "2019       2.6271          224  30.8036                3.3255             -1.4635     -68.8566       0.0382  EMA:10, RSI:18, RSI_MA:15, SL Candles:8\n",
      "2020      45.9332          232  33.1897                3.4731             -1.4290     -31.5271       1.4569  EMA:10, RSI:18, RSI_MA:15, SL Candles:8\n",
      "2021      26.8802          250  30.8000                3.9061             -1.5832     -56.7907       0.4733  EMA:10, RSI:18, RSI_MA:15, SL Candles:8\n",
      "2022     -34.8455          248  30.2419                3.6470             -1.7825    -114.5577      -0.3042  EMA:10, RSI:18, RSI_MA:15, SL Candles:8\n",
      "2023      13.7709          248  28.2258                4.0330             -1.5086     -78.6098       0.1752  EMA:10, RSI:18, RSI_MA:15, SL Candles:8\n",
      "2024      13.5605          245  25.7143                4.8874             -1.6173    -122.5642       0.1106  EMA:10, RSI:18, RSI_MA:15, SL Candles:8\n",
      "2025       7.9650           13  38.4615                4.0746             -1.5510      -3.1281       2.5462  EMA:10, RSI:18, RSI_MA:15, SL Candles:8\n",
      "Overall   57.9451         1690  30.2367                3.7225             -1.5643    -132.9045       0.4360  EMA:10, RSI:18, RSI_MA:15, SL Candles:8\n",
      "EMA:10, RSI:18, RSI_MA:15, SL Candles:10\n"
     ]
    },
    {
     "name": "stderr",
     "output_type": "stream",
     "text": [
      "/tmp/ipykernel_33520/419236688.py:137: FutureWarning: Setting an item of incompatible dtype is deprecated and will raise an error in a future version of pandas. Value 'Trailing SL Hit' has dtype incompatible with float64, please explicitly cast to a compatible dtype first.\n",
      "  tradebook_short.loc[\n"
     ]
    },
    {
     "name": "stdout",
     "output_type": "stream",
     "text": [
      "        Total ROI Total Trades Win Rate Avg Profit% per Trade Avg Loss% per Trade Max Drawdown ROI/DD Ratio                                 Variation\n",
      "2017            0            0      NaN                   NaN                 NaN          NaN          NaN  EMA:10, RSI:18, RSI_MA:15, SL Candles:10\n",
      "2018     -11.6492          230  32.6087                2.7504             -1.4060     -47.6920      -0.2443  EMA:10, RSI:18, RSI_MA:15, SL Candles:10\n",
      "2019      -7.4586          223  30.9417                2.8746             -1.3364     -66.3870      -0.1124  EMA:10, RSI:18, RSI_MA:15, SL Candles:10\n",
      "2020      58.5104          232  33.1897                3.3745             -1.2989     -33.8276       1.7297  EMA:10, RSI:18, RSI_MA:15, SL Candles:10\n",
      "2021      30.9595          250  30.8000                3.6337             -1.4384     -49.1314       0.6301  EMA:10, RSI:18, RSI_MA:15, SL Candles:10\n",
      "2022     -69.5271          248  30.2419                2.9468             -1.6794    -114.5198      -0.6071  EMA:10, RSI:18, RSI_MA:15, SL Candles:10\n",
      "2023      10.9374          245  28.9796                3.4005             -1.3247     -64.5063       0.1696  EMA:10, RSI:18, RSI_MA:15, SL Candles:10\n",
      "2024      14.4225          245  25.7143                4.6314             -1.5239    -122.0209       0.1182  EMA:10, RSI:18, RSI_MA:15, SL Candles:10\n",
      "2025       8.2976           13  38.4615                4.0606             -1.5007      -3.1281       2.6526  EMA:10, RSI:18, RSI_MA:15, SL Candles:10\n",
      "Overall   34.4926         1686  30.3677                3.3570             -1.4347    -136.8918       0.2520  EMA:10, RSI:18, RSI_MA:15, SL Candles:10\n",
      "EMA:10, RSI:18, RSI_MA:20, SL Candles:2\n"
     ]
    },
    {
     "name": "stderr",
     "output_type": "stream",
     "text": [
      "/tmp/ipykernel_33520/419236688.py:151: FutureWarning: Setting an item of incompatible dtype is deprecated and will raise an error in a future version of pandas. Value 'RSI Upmove' has dtype incompatible with float64, please explicitly cast to a compatible dtype first.\n",
      "  tradebook_short.loc[\n"
     ]
    },
    {
     "name": "stdout",
     "output_type": "stream",
     "text": [
      "EMA:10, RSI:18, RSI_MA:20, SL Candles:4\n"
     ]
    },
    {
     "name": "stderr",
     "output_type": "stream",
     "text": [
      "/tmp/ipykernel_33520/419236688.py:151: FutureWarning: Setting an item of incompatible dtype is deprecated and will raise an error in a future version of pandas. Value 'RSI Upmove' has dtype incompatible with float64, please explicitly cast to a compatible dtype first.\n",
      "  tradebook_short.loc[\n"
     ]
    },
    {
     "name": "stdout",
     "output_type": "stream",
     "text": [
      "        Total ROI Total Trades Win Rate Avg Profit% per Trade Avg Loss% per Trade Max Drawdown ROI/DD Ratio                                Variation\n",
      "2017            0            0      NaN                   NaN                 NaN          NaN          NaN  EMA:10, RSI:18, RSI_MA:20, SL Candles:4\n",
      "2018     -53.0549          220  30.4545                3.6066             -1.9261     -57.3777      -0.9247  EMA:10, RSI:18, RSI_MA:20, SL Candles:4\n",
      "2019     -78.7461          227  29.5154                3.5379             -1.9736     -91.1056      -0.8643  EMA:10, RSI:18, RSI_MA:20, SL Candles:4\n",
      "2020      99.1644          219  31.9635                5.2909             -1.8201     -40.7948       2.4308  EMA:10, RSI:18, RSI_MA:20, SL Candles:4\n",
      "2021      44.6131          246  31.7073                5.1792             -2.1391     -73.6307       0.6059  EMA:10, RSI:18, RSI_MA:20, SL Candles:4\n",
      "2022     -77.2062          243  26.7490                4.4483             -2.0581    -143.0480      -0.5397  EMA:10, RSI:18, RSI_MA:20, SL Candles:4\n",
      "2023      49.0885          241  26.9710                6.4495             -2.1030    -114.2738       0.4296  EMA:10, RSI:18, RSI_MA:20, SL Candles:4\n",
      "2024      33.2638          228  25.4386                6.1393             -1.8989     -81.8320       0.4065  EMA:10, RSI:18, RSI_MA:20, SL Candles:4\n",
      "2025      15.3951           11  45.4545                4.8898             -1.5090      -3.1160       4.9407  EMA:10, RSI:18, RSI_MA:20, SL Candles:4\n",
      "Overall   32.5176         1635  29.0520                4.9303             -1.9909    -143.0480       0.2273  EMA:10, RSI:18, RSI_MA:20, SL Candles:4\n",
      "EMA:10, RSI:18, RSI_MA:20, SL Candles:6\n"
     ]
    },
    {
     "name": "stderr",
     "output_type": "stream",
     "text": [
      "/tmp/ipykernel_33520/419236688.py:151: FutureWarning: Setting an item of incompatible dtype is deprecated and will raise an error in a future version of pandas. Value 'RSI Upmove' has dtype incompatible with float64, please explicitly cast to a compatible dtype first.\n",
      "  tradebook_short.loc[\n"
     ]
    },
    {
     "name": "stdout",
     "output_type": "stream",
     "text": [
      "        Total ROI Total Trades Win Rate Avg Profit% per Trade Avg Loss% per Trade Max Drawdown ROI/DD Ratio                                Variation\n",
      "2017            0            0      NaN                   NaN                 NaN          NaN          NaN  EMA:10, RSI:18, RSI_MA:20, SL Candles:6\n",
      "2018     -57.6205          218  30.7339                3.1951             -1.7993     -62.2983      -0.9249  EMA:10, RSI:18, RSI_MA:20, SL Candles:6\n",
      "2019     -61.7539          226  29.6460                3.2908             -1.7751     -85.4044      -0.7231  EMA:10, RSI:18, RSI_MA:20, SL Candles:6\n",
      "2020      97.4838          218  32.1101                4.8280             -1.6248     -33.8228       2.8822  EMA:10, RSI:18, RSI_MA:20, SL Candles:6\n",
      "2021      43.7221          246  31.7073                4.7313             -1.9364     -72.5399       0.6027  EMA:10, RSI:18, RSI_MA:20, SL Candles:6\n",
      "2022     -63.0790          243  26.7490                4.0779             -1.8435    -125.1752      -0.5039  EMA:10, RSI:18, RSI_MA:20, SL Candles:6\n",
      "2023       0.9619          240  27.0833                4.9903             -1.8481    -100.5366       0.0096  EMA:10, RSI:18, RSI_MA:20, SL Candles:6\n",
      "2024      30.5833          227  25.5507                5.4618             -1.6935     -83.1764       0.3677  EMA:10, RSI:18, RSI_MA:20, SL Candles:6\n",
      "2025      11.0329           11  45.4545                4.0106             -1.5033      -3.0875       3.5734  EMA:10, RSI:18, RSI_MA:20, SL Candles:6\n",
      "Overall    1.3307         1629  29.1590                4.3533             -1.7907    -148.4299       0.0090  EMA:10, RSI:18, RSI_MA:20, SL Candles:6\n",
      "EMA:10, RSI:18, RSI_MA:20, SL Candles:8\n"
     ]
    },
    {
     "name": "stderr",
     "output_type": "stream",
     "text": [
      "/tmp/ipykernel_33520/419236688.py:151: FutureWarning: Setting an item of incompatible dtype is deprecated and will raise an error in a future version of pandas. Value 'RSI Upmove' has dtype incompatible with float64, please explicitly cast to a compatible dtype first.\n",
      "  tradebook_short.loc[\n"
     ]
    },
    {
     "name": "stdout",
     "output_type": "stream",
     "text": [
      "EMA:10, RSI:18, RSI_MA:20, SL Candles:10\n"
     ]
    },
    {
     "name": "stderr",
     "output_type": "stream",
     "text": [
      "/tmp/ipykernel_33520/419236688.py:151: FutureWarning: Setting an item of incompatible dtype is deprecated and will raise an error in a future version of pandas. Value 'RSI Upmove' has dtype incompatible with float64, please explicitly cast to a compatible dtype first.\n",
      "  tradebook_short.loc[\n"
     ]
    },
    {
     "name": "stdout",
     "output_type": "stream",
     "text": [
      "EMA:10, RSI:18, RSI_MA:25, SL Candles:2\n"
     ]
    },
    {
     "name": "stderr",
     "output_type": "stream",
     "text": [
      "/tmp/ipykernel_33520/419236688.py:137: FutureWarning: Setting an item of incompatible dtype is deprecated and will raise an error in a future version of pandas. Value 'Trailing SL Hit' has dtype incompatible with float64, please explicitly cast to a compatible dtype first.\n",
      "  tradebook_short.loc[\n"
     ]
    },
    {
     "name": "stdout",
     "output_type": "stream",
     "text": [
      "EMA:10, RSI:18, RSI_MA:25, SL Candles:4\n"
     ]
    },
    {
     "name": "stderr",
     "output_type": "stream",
     "text": [
      "/tmp/ipykernel_33520/419236688.py:137: FutureWarning: Setting an item of incompatible dtype is deprecated and will raise an error in a future version of pandas. Value 'Trailing SL Hit' has dtype incompatible with float64, please explicitly cast to a compatible dtype first.\n",
      "  tradebook_short.loc[\n"
     ]
    },
    {
     "name": "stdout",
     "output_type": "stream",
     "text": [
      "EMA:10, RSI:18, RSI_MA:25, SL Candles:6\n"
     ]
    },
    {
     "name": "stderr",
     "output_type": "stream",
     "text": [
      "/tmp/ipykernel_33520/419236688.py:137: FutureWarning: Setting an item of incompatible dtype is deprecated and will raise an error in a future version of pandas. Value 'Trailing SL Hit' has dtype incompatible with float64, please explicitly cast to a compatible dtype first.\n",
      "  tradebook_short.loc[\n"
     ]
    },
    {
     "name": "stdout",
     "output_type": "stream",
     "text": [
      "EMA:10, RSI:18, RSI_MA:25, SL Candles:8\n"
     ]
    },
    {
     "name": "stderr",
     "output_type": "stream",
     "text": [
      "/tmp/ipykernel_33520/419236688.py:137: FutureWarning: Setting an item of incompatible dtype is deprecated and will raise an error in a future version of pandas. Value 'Trailing SL Hit' has dtype incompatible with float64, please explicitly cast to a compatible dtype first.\n",
      "  tradebook_short.loc[\n"
     ]
    },
    {
     "name": "stdout",
     "output_type": "stream",
     "text": [
      "EMA:10, RSI:18, RSI_MA:25, SL Candles:10\n"
     ]
    },
    {
     "name": "stderr",
     "output_type": "stream",
     "text": [
      "/tmp/ipykernel_33520/419236688.py:137: FutureWarning: Setting an item of incompatible dtype is deprecated and will raise an error in a future version of pandas. Value 'Trailing SL Hit' has dtype incompatible with float64, please explicitly cast to a compatible dtype first.\n",
      "  tradebook_short.loc[\n"
     ]
    },
    {
     "name": "stdout",
     "output_type": "stream",
     "text": [
      "EMA:10, RSI:18, RSI_MA:30, SL Candles:2\n"
     ]
    },
    {
     "name": "stderr",
     "output_type": "stream",
     "text": [
      "/tmp/ipykernel_33520/419236688.py:84: FutureWarning: Setting an item of incompatible dtype is deprecated and will raise an error in a future version of pandas. Value 'Gap' has dtype incompatible with float64, please explicitly cast to a compatible dtype first.\n",
      "  tradebook_short.loc[\n"
     ]
    },
    {
     "name": "stdout",
     "output_type": "stream",
     "text": [
      "        Total ROI Total Trades Win Rate Avg Profit% per Trade Avg Loss% per Trade Max Drawdown ROI/DD Ratio                                Variation\n",
      "2017            0            0      NaN                   NaN                 NaN          NaN          NaN  EMA:10, RSI:18, RSI_MA:30, SL Candles:2\n",
      "2018     -30.7418          218  29.8165                4.9163             -2.2896     -50.8460      -0.6046  EMA:10, RSI:18, RSI_MA:30, SL Candles:2\n",
      "2019     -25.0408          233  29.1845                4.9876             -2.2073    -102.7711      -0.2437  EMA:10, RSI:18, RSI_MA:30, SL Candles:2\n",
      "2020     131.2771          214  34.5794                5.9702             -2.2180     -40.3501       3.2535  EMA:10, RSI:18, RSI_MA:30, SL Candles:2\n",
      "2021      73.2120          220  31.8182                5.8235             -2.2295     -59.6385       1.2276  EMA:10, RSI:18, RSI_MA:30, SL Candles:2\n",
      "2022      -9.5982          247  25.9109                6.3521             -2.2739     -92.4349      -0.1038  EMA:10, RSI:18, RSI_MA:30, SL Candles:2\n",
      "2023      55.7527          235  26.8085                7.8612             -2.5552    -138.8178       0.4016  EMA:10, RSI:18, RSI_MA:30, SL Candles:2\n",
      "2024     -80.4586          225  25.3333                5.6960             -2.4115    -167.4851      -0.4804  EMA:10, RSI:18, RSI_MA:30, SL Candles:2\n",
      "2025       5.1513           11  36.3636                3.8243             -1.4494      -4.8637       1.0591  EMA:10, RSI:18, RSI_MA:30, SL Candles:2\n",
      "Overall  119.5536         1603  29.0081                5.9138             -2.3114    -215.1657       0.5556  EMA:10, RSI:18, RSI_MA:30, SL Candles:2\n",
      "EMA:10, RSI:18, RSI_MA:30, SL Candles:4\n"
     ]
    },
    {
     "name": "stderr",
     "output_type": "stream",
     "text": [
      "/tmp/ipykernel_33520/419236688.py:84: FutureWarning: Setting an item of incompatible dtype is deprecated and will raise an error in a future version of pandas. Value 'Gap' has dtype incompatible with float64, please explicitly cast to a compatible dtype first.\n",
      "  tradebook_short.loc[\n"
     ]
    },
    {
     "name": "stdout",
     "output_type": "stream",
     "text": [
      "        Total ROI Total Trades Win Rate Avg Profit% per Trade Avg Loss% per Trade Max Drawdown ROI/DD Ratio                                Variation\n",
      "2017            0            0      NaN                   NaN                 NaN          NaN          NaN  EMA:10, RSI:18, RSI_MA:30, SL Candles:4\n",
      "2018     -23.6465          216  30.0926                4.1998             -1.9645     -41.3798      -0.5715  EMA:10, RSI:18, RSI_MA:30, SL Candles:4\n",
      "2019     -14.3099          232  29.3103                4.5151             -1.9594     -89.0198      -0.1607  EMA:10, RSI:18, RSI_MA:30, SL Candles:4\n",
      "2020      97.3893          211  34.5972                4.8095             -1.8384     -34.1266       2.8538  EMA:10, RSI:18, RSI_MA:30, SL Candles:4\n",
      "2021      55.5504          219  31.9635                4.9968             -1.9747     -54.2082       1.0248  EMA:10, RSI:18, RSI_MA:30, SL Candles:4\n",
      "2022     -48.4267          240  26.6667                4.7131             -1.9890    -105.3311      -0.4598  EMA:10, RSI:18, RSI_MA:30, SL Candles:4\n",
      "2023      61.5493          230  27.3913                6.8631             -2.2205    -128.6539       0.4784  EMA:10, RSI:18, RSI_MA:30, SL Candles:4\n",
      "2024     -37.2433          222  25.6757                5.2977             -2.0558    -107.6623      -0.3459  EMA:10, RSI:18, RSI_MA:30, SL Candles:4\n",
      "2025       2.2876           11  36.3636                2.9084             -1.3352      -4.0750       0.5614  EMA:10, RSI:18, RSI_MA:30, SL Candles:4\n",
      "Overall   93.1503         1581  29.3485                5.0183             -2.0012    -178.5300       0.5218  EMA:10, RSI:18, RSI_MA:30, SL Candles:4\n",
      "EMA:10, RSI:18, RSI_MA:30, SL Candles:6\n"
     ]
    },
    {
     "name": "stderr",
     "output_type": "stream",
     "text": [
      "/tmp/ipykernel_33520/419236688.py:123: FutureWarning: Setting an item of incompatible dtype is deprecated and will raise an error in a future version of pandas. Value 'Initial SL Hit' has dtype incompatible with float64, please explicitly cast to a compatible dtype first.\n",
      "  tradebook_short.loc[\n"
     ]
    },
    {
     "name": "stdout",
     "output_type": "stream",
     "text": [
      "        Total ROI Total Trades Win Rate Avg Profit% per Trade Avg Loss% per Trade Max Drawdown ROI/DD Ratio                                Variation\n",
      "2017            0            0      NaN                   NaN                 NaN          NaN          NaN  EMA:10, RSI:18, RSI_MA:30, SL Candles:6\n",
      "2018     -42.4957          216  30.0926                3.6517             -1.8533     -46.8212      -0.9076  EMA:10, RSI:18, RSI_MA:30, SL Candles:6\n",
      "2019     -16.1103          231  29.4372                4.0819             -1.8017     -75.6434      -0.2130  EMA:10, RSI:18, RSI_MA:30, SL Candles:6\n",
      "2020      98.5387          211  34.5972                4.4395             -1.6344     -30.4742       3.2335  EMA:10, RSI:18, RSI_MA:30, SL Candles:6\n",
      "2021      47.3655          219  31.9635                4.4737             -1.7838     -52.9414       0.8947  EMA:10, RSI:18, RSI_MA:30, SL Candles:6\n",
      "2022     -33.1582          240  26.6667                4.3881             -1.7841     -89.9244      -0.3687  EMA:10, RSI:18, RSI_MA:30, SL Candles:6\n",
      "2023       2.7850          229  27.5109                5.2852             -1.9891    -115.9891       0.0240  EMA:10, RSI:18, RSI_MA:30, SL Candles:6\n",
      "2024     -24.6435          221  25.7919                4.7653             -1.8065    -108.0712      -0.2280  EMA:10, RSI:18, RSI_MA:30, SL Candles:6\n",
      "2025       2.7703           11  36.3636                2.8479             -1.2316      -3.7572       0.7373  EMA:10, RSI:18, RSI_MA:30, SL Candles:6\n",
      "Overall   35.0518         1578  29.4043                4.4159             -1.8078    -168.7115       0.2078  EMA:10, RSI:18, RSI_MA:30, SL Candles:6\n",
      "EMA:10, RSI:18, RSI_MA:30, SL Candles:8\n"
     ]
    },
    {
     "name": "stderr",
     "output_type": "stream",
     "text": [
      "/tmp/ipykernel_33520/419236688.py:123: FutureWarning: Setting an item of incompatible dtype is deprecated and will raise an error in a future version of pandas. Value 'Initial SL Hit' has dtype incompatible with float64, please explicitly cast to a compatible dtype first.\n",
      "  tradebook_short.loc[\n"
     ]
    },
    {
     "name": "stdout",
     "output_type": "stream",
     "text": [
      "        Total ROI Total Trades Win Rate Avg Profit% per Trade Avg Loss% per Trade Max Drawdown ROI/DD Ratio                                Variation\n",
      "2017            0            0      NaN                   NaN                 NaN          NaN          NaN  EMA:10, RSI:18, RSI_MA:30, SL Candles:8\n",
      "2018     -30.9542          215  30.2326                3.4711             -1.7105     -42.9005      -0.7215  EMA:10, RSI:18, RSI_MA:30, SL Candles:8\n",
      "2019     -11.4709          231  29.4372                3.7615             -1.6396     -66.1927      -0.1733  EMA:10, RSI:18, RSI_MA:30, SL Candles:8\n",
      "2020      83.6254          211  34.5972                3.9476             -1.4822     -33.8456       2.4708  EMA:10, RSI:18, RSI_MA:30, SL Candles:8\n",
      "2021      40.5818          219  31.9635                3.9616             -1.5888     -65.3012       0.6215  EMA:10, RSI:18, RSI_MA:30, SL Candles:8\n",
      "2022     -24.6018          240  26.6667                4.0881             -1.6264     -76.4305      -0.3219  EMA:10, RSI:18, RSI_MA:30, SL Candles:8\n",
      "2023       3.6757          227  27.7533                4.4447             -1.6850    -101.2769       0.0363  EMA:10, RSI:18, RSI_MA:30, SL Candles:8\n",
      "2024     -21.1879          221  25.7919                4.3305             -1.6343     -98.6994      -0.2147  EMA:10, RSI:18, RSI_MA:30, SL Candles:8\n",
      "2025       1.8543           11  36.3636                2.6099             -1.2265      -3.7569       0.4936  EMA:10, RSI:18, RSI_MA:30, SL Candles:8\n",
      "Overall   41.5224         1575  29.4603                3.9781             -1.6240    -164.4235       0.2525  EMA:10, RSI:18, RSI_MA:30, SL Candles:8\n",
      "EMA:10, RSI:18, RSI_MA:30, SL Candles:10\n"
     ]
    },
    {
     "name": "stderr",
     "output_type": "stream",
     "text": [
      "/tmp/ipykernel_33520/419236688.py:123: FutureWarning: Setting an item of incompatible dtype is deprecated and will raise an error in a future version of pandas. Value 'Initial SL Hit' has dtype incompatible with float64, please explicitly cast to a compatible dtype first.\n",
      "  tradebook_short.loc[\n"
     ]
    },
    {
     "name": "stdout",
     "output_type": "stream",
     "text": [
      "        Total ROI Total Trades Win Rate Avg Profit% per Trade Avg Loss% per Trade Max Drawdown ROI/DD Ratio                                 Variation\n",
      "2017            0            0      NaN                   NaN                 NaN          NaN          NaN  EMA:10, RSI:18, RSI_MA:30, SL Candles:10\n",
      "2018     -24.3536          214  30.3738                3.1349             -1.5310     -37.0784      -0.6568  EMA:10, RSI:18, RSI_MA:30, SL Candles:10\n",
      "2019     -17.5868          230  29.5652                3.3384             -1.5099     -58.8450      -0.2989  EMA:10, RSI:18, RSI_MA:30, SL Candles:10\n",
      "2020      85.6997          211  34.5972                3.7200             -1.3468     -36.7861       2.3297  EMA:10, RSI:18, RSI_MA:30, SL Candles:10\n",
      "2021      64.4043          218  32.1101                3.8434             -1.3827     -52.7033       1.2220  EMA:10, RSI:18, RSI_MA:30, SL Candles:10\n",
      "2022     -64.6292          240  26.6667                3.0675             -1.4827     -78.7364      -0.8208  EMA:10, RSI:18, RSI_MA:30, SL Candles:10\n",
      "2023      -7.0504          226  28.3186                3.6676             -1.4925     -87.8260      -0.0803  EMA:10, RSI:18, RSI_MA:30, SL Candles:10\n",
      "2024      -9.8538          220  25.9091                4.1330             -1.5057     -90.0106      -0.1095  EMA:10, RSI:18, RSI_MA:30, SL Candles:10\n",
      "2025       1.6116           11  36.3636                2.5492             -1.2265      -3.7569       0.4290  EMA:10, RSI:18, RSI_MA:30, SL Candles:10\n",
      "Overall   28.2418         1570  29.6178                3.5445             -1.4660    -134.1187       0.2106  EMA:10, RSI:18, RSI_MA:30, SL Candles:10\n",
      "EMA:10, RSI:18, RSI_MA:35, SL Candles:2\n"
     ]
    },
    {
     "name": "stderr",
     "output_type": "stream",
     "text": [
      "/tmp/ipykernel_33520/419236688.py:84: FutureWarning: Setting an item of incompatible dtype is deprecated and will raise an error in a future version of pandas. Value 'Gap' has dtype incompatible with float64, please explicitly cast to a compatible dtype first.\n",
      "  tradebook_short.loc[\n"
     ]
    },
    {
     "name": "stdout",
     "output_type": "stream",
     "text": [
      "        Total ROI Total Trades Win Rate Avg Profit% per Trade Avg Loss% per Trade Max Drawdown ROI/DD Ratio                                Variation\n",
      "2017            0            0      NaN                   NaN                 NaN          NaN          NaN  EMA:10, RSI:18, RSI_MA:35, SL Candles:2\n",
      "2018      -7.8984          219  30.5936                5.1428             -2.3189     -50.6981      -0.1558  EMA:10, RSI:18, RSI_MA:35, SL Candles:2\n",
      "2019       9.7082          229  27.9476                5.8969             -2.2284     -89.1541       0.1089  EMA:10, RSI:18, RSI_MA:35, SL Candles:2\n",
      "2020     126.5040          213  34.2723                6.0006             -2.2253     -44.6384       2.8340  EMA:10, RSI:18, RSI_MA:35, SL Candles:2\n",
      "2021      38.9019          225  30.2222                5.8333             -2.2788     -81.5825       0.4768  EMA:10, RSI:18, RSI_MA:35, SL Candles:2\n",
      "2022       8.5878          246  28.8618                5.9256             -2.3550     -83.6426       0.1027  EMA:10, RSI:18, RSI_MA:35, SL Candles:2\n",
      "2023      67.3104          233  24.4635                8.7801             -2.4611    -124.1842       0.5420  EMA:10, RSI:18, RSI_MA:35, SL Candles:2\n",
      "2024     -50.4461          220  25.9091                5.7393             -2.3165    -132.5690      -0.3805  EMA:10, RSI:18, RSI_MA:35, SL Candles:2\n",
      "2025      22.5929           12  41.6667                6.7194             -1.5720      -4.6035       4.9078  EMA:10, RSI:18, RSI_MA:35, SL Candles:2\n",
      "Overall  215.2607         1597  28.9292                6.1441             -2.3113    -197.1579       1.0918  EMA:10, RSI:18, RSI_MA:35, SL Candles:2\n",
      "EMA:10, RSI:18, RSI_MA:35, SL Candles:4\n"
     ]
    },
    {
     "name": "stderr",
     "output_type": "stream",
     "text": [
      "/tmp/ipykernel_33520/419236688.py:84: FutureWarning: Setting an item of incompatible dtype is deprecated and will raise an error in a future version of pandas. Value 'Gap' has dtype incompatible with float64, please explicitly cast to a compatible dtype first.\n",
      "  tradebook_short.loc[\n"
     ]
    },
    {
     "name": "stdout",
     "output_type": "stream",
     "text": [
      "        Total ROI Total Trades Win Rate Avg Profit% per Trade Avg Loss% per Trade Max Drawdown ROI/DD Ratio                                Variation\n",
      "2017            0            0      NaN                   NaN                 NaN          NaN          NaN  EMA:10, RSI:18, RSI_MA:35, SL Candles:4\n",
      "2018      -3.9946          217  30.8756                4.3986             -1.9913     -41.2142      -0.0969  EMA:10, RSI:18, RSI_MA:35, SL Candles:4\n",
      "2019      -5.0541          228  28.0702                4.9536             -1.9639     -75.5852      -0.0669  EMA:10, RSI:18, RSI_MA:35, SL Candles:4\n",
      "2020      80.2545          210  34.2857                4.7001             -1.8707     -36.8211       2.1796  EMA:10, RSI:18, RSI_MA:35, SL Candles:4\n",
      "2021      25.1508          224  30.3571                5.0353             -2.0337     -76.0326       0.3308  EMA:10, RSI:18, RSI_MA:35, SL Candles:4\n",
      "2022     -40.1047          240  29.5833                4.3910             -2.0821    -104.6037      -0.3834  EMA:10, RSI:18, RSI_MA:35, SL Candles:4\n",
      "2023      93.1795          229  25.3275                7.9396             -2.1481    -111.6405       0.8346  EMA:10, RSI:18, RSI_MA:35, SL Candles:4\n",
      "2024     -27.9036          217  26.2673                5.1596             -2.0125     -94.1142      -0.2965  EMA:10, RSI:18, RSI_MA:35, SL Candles:4\n",
      "2025      21.3569           12  41.6667                6.4718             -1.5717      -4.6035       4.6393  EMA:10, RSI:18, RSI_MA:35, SL Candles:4\n",
      "Overall  142.8847         1577  29.2961                5.1759             -2.0165    -153.7379       0.9294  EMA:10, RSI:18, RSI_MA:35, SL Candles:4\n",
      "EMA:10, RSI:18, RSI_MA:35, SL Candles:6\n"
     ]
    },
    {
     "name": "stderr",
     "output_type": "stream",
     "text": [
      "/tmp/ipykernel_33520/419236688.py:123: FutureWarning: Setting an item of incompatible dtype is deprecated and will raise an error in a future version of pandas. Value 'Initial SL Hit' has dtype incompatible with float64, please explicitly cast to a compatible dtype first.\n",
      "  tradebook_short.loc[\n"
     ]
    },
    {
     "name": "stdout",
     "output_type": "stream",
     "text": [
      "        Total ROI Total Trades Win Rate Avg Profit% per Trade Avg Loss% per Trade Max Drawdown ROI/DD Ratio                                Variation\n",
      "2017            0            0      NaN                   NaN                 NaN          NaN          NaN  EMA:10, RSI:18, RSI_MA:35, SL Candles:6\n",
      "2018     -17.9729          216  31.0185                3.8935             -1.8714     -40.2860      -0.4461  EMA:10, RSI:18, RSI_MA:35, SL Candles:6\n",
      "2019      -5.1948          227  28.1938                4.4870             -1.7936     -61.8413      -0.0840  EMA:10, RSI:18, RSI_MA:35, SL Candles:6\n",
      "2020      84.9008          210  34.2857                4.3547             -1.6568     -38.4671       2.2071  EMA:10, RSI:18, RSI_MA:35, SL Candles:6\n",
      "2021      14.6493          224  30.3571                4.5171             -1.8751     -81.1692       0.1805  EMA:10, RSI:18, RSI_MA:35, SL Candles:6\n",
      "2022     -32.6655          240  29.5833                4.0051             -1.8759     -89.9886      -0.3630  EMA:10, RSI:18, RSI_MA:35, SL Candles:6\n",
      "2023       7.3514          228  25.4386                5.8166             -1.9412    -103.0801       0.0713  EMA:10, RSI:18, RSI_MA:35, SL Candles:6\n",
      "2024     -21.2213          216  26.3889                4.5975             -1.7816     -85.1565      -0.2492  EMA:10, RSI:18, RSI_MA:35, SL Candles:6\n",
      "2025       4.3934           12  41.6667                3.0033             -1.5176      -4.6035       0.9544  EMA:10, RSI:18, RSI_MA:35, SL Candles:6\n",
      "Overall   34.2403         1573  29.3706                4.4752             -1.8301    -158.8196       0.2156  EMA:10, RSI:18, RSI_MA:35, SL Candles:6\n",
      "EMA:10, RSI:18, RSI_MA:35, SL Candles:8\n"
     ]
    },
    {
     "name": "stderr",
     "output_type": "stream",
     "text": [
      "/tmp/ipykernel_33520/419236688.py:123: FutureWarning: Setting an item of incompatible dtype is deprecated and will raise an error in a future version of pandas. Value 'Initial SL Hit' has dtype incompatible with float64, please explicitly cast to a compatible dtype first.\n",
      "  tradebook_short.loc[\n"
     ]
    },
    {
     "name": "stdout",
     "output_type": "stream",
     "text": [
      "        Total ROI Total Trades Win Rate Avg Profit% per Trade Avg Loss% per Trade Max Drawdown ROI/DD Ratio                                Variation\n",
      "2017            0            0      NaN                   NaN                 NaN          NaN          NaN  EMA:10, RSI:18, RSI_MA:35, SL Candles:8\n",
      "2018     -23.1038          215  31.1628                3.4892             -1.7357     -38.7542      -0.5962  EMA:10, RSI:18, RSI_MA:35, SL Candles:8\n",
      "2019      -5.1725          227  28.1938                4.0867             -1.6363     -53.0703      -0.0975  EMA:10, RSI:18, RSI_MA:35, SL Candles:8\n",
      "2020      72.4648          210  34.2857                3.9563             -1.5390     -43.0711       1.6824  EMA:10, RSI:18, RSI_MA:35, SL Candles:8\n",
      "2021      17.9768          223  30.4933                4.0743             -1.6715     -79.3841       0.2265  EMA:10, RSI:18, RSI_MA:35, SL Candles:8\n",
      "2022     -30.2688          240  29.5833                3.6933             -1.7307     -78.6188      -0.3850  EMA:10, RSI:18, RSI_MA:35, SL Candles:8\n",
      "2023      15.9451          225  25.7778                5.0228             -1.6490     -98.3163       0.1622  EMA:10, RSI:18, RSI_MA:35, SL Candles:8\n",
      "2024     -12.9721          216  26.3889                4.1980             -1.5865     -73.6181      -0.1762  EMA:10, RSI:18, RSI_MA:35, SL Candles:8\n",
      "2025       4.5136           12  41.6667                2.8848             -1.4158      -3.8914       1.1599  EMA:10, RSI:18, RSI_MA:35, SL Candles:8\n",
      "Overall   39.3831         1568  29.4643                4.0357             -1.6502    -145.3154       0.2710  EMA:10, RSI:18, RSI_MA:35, SL Candles:8\n",
      "EMA:10, RSI:18, RSI_MA:35, SL Candles:10\n"
     ]
    },
    {
     "name": "stderr",
     "output_type": "stream",
     "text": [
      "/tmp/ipykernel_33520/419236688.py:123: FutureWarning: Setting an item of incompatible dtype is deprecated and will raise an error in a future version of pandas. Value 'Initial SL Hit' has dtype incompatible with float64, please explicitly cast to a compatible dtype first.\n",
      "  tradebook_short.loc[\n"
     ]
    },
    {
     "name": "stdout",
     "output_type": "stream",
     "text": [
      "        Total ROI Total Trades Win Rate Avg Profit% per Trade Avg Loss% per Trade Max Drawdown ROI/DD Ratio                                 Variation\n",
      "2017            0            0      NaN                   NaN                 NaN          NaN          NaN  EMA:10, RSI:18, RSI_MA:35, SL Candles:10\n",
      "2018     -15.3614          214  31.3084                3.2083             -1.5668     -35.3940      -0.4340  EMA:10, RSI:18, RSI_MA:35, SL Candles:10\n",
      "2019      -3.3195          226  28.3186                3.6885             -1.4777     -45.8848      -0.0723  EMA:10, RSI:18, RSI_MA:35, SL Candles:10\n",
      "2020      72.6510          210  34.2857                3.7470             -1.4285     -45.2493       1.6056  EMA:10, RSI:18, RSI_MA:35, SL Candles:10\n",
      "2021      45.0799          222  30.6306                3.9546             -1.4535     -63.6134       0.7087  EMA:10, RSI:18, RSI_MA:35, SL Candles:10\n",
      "2022     -71.6509          240  29.5833                2.7739             -1.5894     -84.3503      -0.8494  EMA:10, RSI:18, RSI_MA:35, SL Candles:10\n",
      "2023       1.6621          224  26.3393                4.0840             -1.4503     -76.5524       0.0217  EMA:10, RSI:18, RSI_MA:35, SL Candles:10\n",
      "2024       4.7662          214  27.1028                3.9626             -1.4427     -59.2015       0.0805  EMA:10, RSI:18, RSI_MA:35, SL Candles:10\n",
      "2025       5.9527           12  41.6667                2.8848             -1.2102      -2.5763       2.3105  EMA:10, RSI:18, RSI_MA:35, SL Candles:10\n",
      "Overall   39.7800         1562  29.7055                3.6032             -1.4864    -119.5056       0.3329  EMA:10, RSI:18, RSI_MA:35, SL Candles:10\n",
      "EMA:10, RSI:21, RSI_MA:5, SL Candles:2\n"
     ]
    },
    {
     "name": "stderr",
     "output_type": "stream",
     "text": [
      "/tmp/ipykernel_33520/419236688.py:137: FutureWarning: Setting an item of incompatible dtype is deprecated and will raise an error in a future version of pandas. Value 'Trailing SL Hit' has dtype incompatible with float64, please explicitly cast to a compatible dtype first.\n",
      "  tradebook_short.loc[\n"
     ]
    },
    {
     "name": "stdout",
     "output_type": "stream",
     "text": [
      "EMA:10, RSI:21, RSI_MA:5, SL Candles:4\n"
     ]
    },
    {
     "name": "stderr",
     "output_type": "stream",
     "text": [
      "/tmp/ipykernel_33520/419236688.py:137: FutureWarning: Setting an item of incompatible dtype is deprecated and will raise an error in a future version of pandas. Value 'Trailing SL Hit' has dtype incompatible with float64, please explicitly cast to a compatible dtype first.\n",
      "  tradebook_short.loc[\n"
     ]
    },
    {
     "name": "stdout",
     "output_type": "stream",
     "text": [
      "EMA:10, RSI:21, RSI_MA:5, SL Candles:6\n"
     ]
    },
    {
     "name": "stderr",
     "output_type": "stream",
     "text": [
      "/tmp/ipykernel_33520/419236688.py:137: FutureWarning: Setting an item of incompatible dtype is deprecated and will raise an error in a future version of pandas. Value 'Trailing SL Hit' has dtype incompatible with float64, please explicitly cast to a compatible dtype first.\n",
      "  tradebook_short.loc[\n"
     ]
    },
    {
     "name": "stdout",
     "output_type": "stream",
     "text": [
      "EMA:10, RSI:21, RSI_MA:5, SL Candles:8\n"
     ]
    },
    {
     "name": "stderr",
     "output_type": "stream",
     "text": [
      "/tmp/ipykernel_33520/419236688.py:137: FutureWarning: Setting an item of incompatible dtype is deprecated and will raise an error in a future version of pandas. Value 'Trailing SL Hit' has dtype incompatible with float64, please explicitly cast to a compatible dtype first.\n",
      "  tradebook_short.loc[\n"
     ]
    },
    {
     "name": "stdout",
     "output_type": "stream",
     "text": [
      "EMA:10, RSI:21, RSI_MA:5, SL Candles:10\n"
     ]
    },
    {
     "name": "stderr",
     "output_type": "stream",
     "text": [
      "/tmp/ipykernel_33520/419236688.py:137: FutureWarning: Setting an item of incompatible dtype is deprecated and will raise an error in a future version of pandas. Value 'Trailing SL Hit' has dtype incompatible with float64, please explicitly cast to a compatible dtype first.\n",
      "  tradebook_short.loc[\n"
     ]
    },
    {
     "name": "stdout",
     "output_type": "stream",
     "text": [
      "EMA:10, RSI:21, RSI_MA:10, SL Candles:2\n"
     ]
    },
    {
     "name": "stderr",
     "output_type": "stream",
     "text": [
      "/tmp/ipykernel_33520/419236688.py:151: FutureWarning: Setting an item of incompatible dtype is deprecated and will raise an error in a future version of pandas. Value 'RSI Upmove' has dtype incompatible with float64, please explicitly cast to a compatible dtype first.\n",
      "  tradebook_short.loc[\n"
     ]
    },
    {
     "name": "stdout",
     "output_type": "stream",
     "text": [
      "        Total ROI Total Trades Win Rate Avg Profit% per Trade Avg Loss% per Trade Max Drawdown ROI/DD Ratio                                Variation\n",
      "2017            0            0      NaN                   NaN                 NaN          NaN          NaN  EMA:10, RSI:21, RSI_MA:10, SL Candles:2\n",
      "2018      24.9742          262  31.6794                5.1292             -2.2388     -91.9377       0.2716  EMA:10, RSI:21, RSI_MA:10, SL Candles:2\n",
      "2019      25.8847          248  33.4677                4.5665             -2.1402     -94.1389       0.2750  EMA:10, RSI:21, RSI_MA:10, SL Candles:2\n",
      "2020     150.4624          259  34.7490                5.5106             -2.0443     -34.1358       4.4078  EMA:10, RSI:21, RSI_MA:10, SL Candles:2\n",
      "2021      45.2619          263  31.1787                5.5282             -2.2544     -61.5463       0.7354  EMA:10, RSI:21, RSI_MA:10, SL Candles:2\n",
      "2022     -24.9653          295  32.8814                4.9276             -2.5401    -108.5369      -0.2300  EMA:10, RSI:21, RSI_MA:10, SL Candles:2\n",
      "2023     -84.4051          290  28.9655                4.9100             -2.4118    -147.9076      -0.5707  EMA:10, RSI:21, RSI_MA:10, SL Candles:2\n",
      "2024     -31.9010          258  27.1318                5.8804             -2.3592    -152.1718      -0.2096  EMA:10, RSI:21, RSI_MA:10, SL Candles:2\n",
      "2025       9.6488           17  47.0588                3.8350             -2.3368      -6.9946       1.3795  EMA:10, RSI:21, RSI_MA:10, SL Candles:2\n",
      "Overall  114.9606         1892  31.5539                5.1704             -2.2948    -253.6302       0.4533  EMA:10, RSI:21, RSI_MA:10, SL Candles:2\n",
      "EMA:10, RSI:21, RSI_MA:10, SL Candles:4\n"
     ]
    },
    {
     "name": "stderr",
     "output_type": "stream",
     "text": [
      "/tmp/ipykernel_33520/419236688.py:151: FutureWarning: Setting an item of incompatible dtype is deprecated and will raise an error in a future version of pandas. Value 'RSI Upmove' has dtype incompatible with float64, please explicitly cast to a compatible dtype first.\n",
      "  tradebook_short.loc[\n"
     ]
    },
    {
     "name": "stdout",
     "output_type": "stream",
     "text": [
      "        Total ROI Total Trades Win Rate Avg Profit% per Trade Avg Loss% per Trade Max Drawdown ROI/DD Ratio                                Variation\n",
      "2017            0            0      NaN                   NaN                 NaN          NaN          NaN  EMA:10, RSI:21, RSI_MA:10, SL Candles:4\n",
      "2018      33.1016          259  32.4324                4.2725             -1.8617     -66.8276       0.4953  EMA:10, RSI:21, RSI_MA:10, SL Candles:4\n",
      "2019      37.0218          246  33.7398                3.9461             -1.7822     -82.9501       0.4463  EMA:10, RSI:21, RSI_MA:10, SL Candles:4\n",
      "2020     120.2408          258  34.8837                4.3970             -1.6398     -35.5573       3.3816  EMA:10, RSI:21, RSI_MA:10, SL Candles:4\n",
      "2021      49.6458          258  32.1705                4.5647             -1.8813     -45.5316       1.0904  EMA:10, RSI:21, RSI_MA:10, SL Candles:4\n",
      "2022     -44.3994          292  33.2192                4.0056             -2.2202    -127.2720      -0.3489  EMA:10, RSI:21, RSI_MA:10, SL Candles:4\n",
      "2023     -46.7788          287  29.9652                4.0925             -1.9838    -108.4245      -0.4314  EMA:10, RSI:21, RSI_MA:10, SL Candles:4\n",
      "2024      22.3279          255  28.2353                5.2796             -1.9552    -100.7668       0.2216  EMA:10, RSI:21, RSI_MA:10, SL Candles:4\n",
      "2025      16.8710           16  50.0000                4.0084             -1.8995      -4.5193       3.7331  EMA:10, RSI:21, RSI_MA:10, SL Candles:4\n",
      "Overall  188.0307         1871  32.2288                4.3345             -1.9130    -172.4899       1.0901  EMA:10, RSI:21, RSI_MA:10, SL Candles:4\n",
      "EMA:10, RSI:21, RSI_MA:10, SL Candles:6\n"
     ]
    },
    {
     "name": "stderr",
     "output_type": "stream",
     "text": [
      "/tmp/ipykernel_33520/419236688.py:151: FutureWarning: Setting an item of incompatible dtype is deprecated and will raise an error in a future version of pandas. Value 'RSI Upmove' has dtype incompatible with float64, please explicitly cast to a compatible dtype first.\n",
      "  tradebook_short.loc[\n"
     ]
    },
    {
     "name": "stdout",
     "output_type": "stream",
     "text": [
      "        Total ROI Total Trades Win Rate Avg Profit% per Trade Avg Loss% per Trade Max Drawdown ROI/DD Ratio                                Variation\n",
      "2017            0            0      NaN                   NaN                 NaN          NaN          NaN  EMA:10, RSI:21, RSI_MA:10, SL Candles:6\n",
      "2018       4.6363          256  32.8125                3.5578             -1.7106     -68.3061       0.0679  EMA:10, RSI:21, RSI_MA:10, SL Candles:6\n",
      "2019      41.6946          245  34.2857                3.5691             -1.6032     -71.2893       0.5849  EMA:10, RSI:21, RSI_MA:10, SL Candles:6\n",
      "2020      98.2968          257  35.0195                3.7825             -1.4499     -27.6264       3.5581  EMA:10, RSI:21, RSI_MA:10, SL Candles:6\n",
      "2021      30.0116          258  32.5581                3.7785             -1.6516     -42.3803       0.7081  EMA:10, RSI:21, RSI_MA:10, SL Candles:6\n",
      "2022     -32.8777          291  33.3333                3.6236             -1.9813    -108.9239      -0.3018  EMA:10, RSI:21, RSI_MA:10, SL Candles:6\n",
      "2023     -69.9059          286  30.0699                3.2624             -1.7524    -101.2005      -0.6908  EMA:10, RSI:21, RSI_MA:10, SL Candles:6\n",
      "2024      27.3764          254  28.3465                4.7178             -1.7160     -83.9809       0.3260  EMA:10, RSI:21, RSI_MA:10, SL Candles:6\n",
      "2025      16.9665           16  50.0000                3.8221             -1.7012      -4.0435       4.1961  EMA:10, RSI:21, RSI_MA:10, SL Candles:6\n",
      "Overall  116.1986         1863  32.4745                3.7336             -1.7032    -175.9134       0.6605  EMA:10, RSI:21, RSI_MA:10, SL Candles:6\n",
      "EMA:10, RSI:21, RSI_MA:10, SL Candles:8\n"
     ]
    },
    {
     "name": "stderr",
     "output_type": "stream",
     "text": [
      "/tmp/ipykernel_33520/419236688.py:151: FutureWarning: Setting an item of incompatible dtype is deprecated and will raise an error in a future version of pandas. Value 'RSI Upmove' has dtype incompatible with float64, please explicitly cast to a compatible dtype first.\n",
      "  tradebook_short.loc[\n"
     ]
    },
    {
     "name": "stdout",
     "output_type": "stream",
     "text": [
      "        Total ROI Total Trades Win Rate Avg Profit% per Trade Avg Loss% per Trade Max Drawdown ROI/DD Ratio                                Variation\n",
      "2017            0            0      NaN                   NaN                 NaN          NaN          NaN  EMA:10, RSI:21, RSI_MA:10, SL Candles:8\n",
      "2018       2.0748          256  32.8125                3.1936             -1.5476     -62.7152       0.0331  EMA:10, RSI:21, RSI_MA:10, SL Candles:8\n",
      "2019      29.3284          245  34.2857                3.2300             -1.5030     -61.5631       0.4764  EMA:10, RSI:21, RSI_MA:10, SL Candles:8\n",
      "2020      66.4585          257  35.0195                3.2896             -1.3749     -33.2222       2.0004  EMA:10, RSI:21, RSI_MA:10, SL Candles:8\n",
      "2021      29.6129          258  32.5581                3.4387             -1.4899     -41.1859       0.7190  EMA:10, RSI:21, RSI_MA:10, SL Candles:8\n",
      "2022     -24.5969          291  33.3333                3.3189             -1.7863     -94.7642      -0.2596  EMA:10, RSI:21, RSI_MA:10, SL Candles:8\n",
      "2023     -38.2285          284  30.2817                3.0116             -1.5011     -68.8063      -0.5556  EMA:10, RSI:21, RSI_MA:10, SL Candles:8\n",
      "2024      28.4688          254  28.3465                4.2853             -1.5389     -75.7219       0.3760  EMA:10, RSI:21, RSI_MA:10, SL Candles:8\n",
      "2025      17.9341           16  50.0000                3.7737             -1.5319      -4.0435       4.4354  EMA:10, RSI:21, RSI_MA:10, SL Candles:8\n",
      "Overall  111.0520         1861  32.5094                3.3788             -1.5391    -130.2294       0.8527  EMA:10, RSI:21, RSI_MA:10, SL Candles:8\n",
      "EMA:10, RSI:21, RSI_MA:10, SL Candles:10\n"
     ]
    },
    {
     "name": "stderr",
     "output_type": "stream",
     "text": [
      "/tmp/ipykernel_33520/419236688.py:151: FutureWarning: Setting an item of incompatible dtype is deprecated and will raise an error in a future version of pandas. Value 'RSI Upmove' has dtype incompatible with float64, please explicitly cast to a compatible dtype first.\n",
      "  tradebook_short.loc[\n"
     ]
    },
    {
     "name": "stdout",
     "output_type": "stream",
     "text": [
      "        Total ROI Total Trades Win Rate Avg Profit% per Trade Avg Loss% per Trade Max Drawdown ROI/DD Ratio                                 Variation\n",
      "2017            0            0      NaN                   NaN                 NaN          NaN          NaN  EMA:10, RSI:21, RSI_MA:10, SL Candles:10\n",
      "2018       9.2677          256  32.8125                3.0048             -1.4136     -54.8803       0.1689  EMA:10, RSI:21, RSI_MA:10, SL Candles:10\n",
      "2019      18.0296          244  34.4262                2.9549             -1.4386     -59.2379       0.3044  EMA:10, RSI:21, RSI_MA:10, SL Candles:10\n",
      "2020      72.3413          257  35.0195                3.1735             -1.2771     -30.6441       2.3607  EMA:10, RSI:21, RSI_MA:10, SL Candles:10\n",
      "2021      31.9682          258  32.5581                3.2818             -1.4006     -41.3083       0.7739  EMA:10, RSI:21, RSI_MA:10, SL Candles:10\n",
      "2022     -28.0282          291  33.3333                3.0817             -1.6853     -87.8482      -0.3191  EMA:10, RSI:21, RSI_MA:10, SL Candles:10\n",
      "2023     -23.8713          281  30.9609                2.7545             -1.3583     -56.5611      -0.4220  EMA:10, RSI:21, RSI_MA:10, SL Candles:10\n",
      "2024      32.1725          254  28.3465                4.1256             -1.4553     -75.1850       0.4279  EMA:10, RSI:21, RSI_MA:10, SL Candles:10\n",
      "2025      18.5113           16  50.0000                3.7650             -1.4511      -4.0435       4.5781  EMA:10, RSI:21, RSI_MA:10, SL Candles:10\n",
      "Overall  130.3912         1857  32.6333                3.1809             -1.4366    -110.1293       1.1840  EMA:10, RSI:21, RSI_MA:10, SL Candles:10\n",
      "EMA:10, RSI:21, RSI_MA:15, SL Candles:2\n"
     ]
    },
    {
     "name": "stderr",
     "output_type": "stream",
     "text": [
      "/tmp/ipykernel_33520/419236688.py:123: FutureWarning: Setting an item of incompatible dtype is deprecated and will raise an error in a future version of pandas. Value 'Initial SL Hit' has dtype incompatible with float64, please explicitly cast to a compatible dtype first.\n",
      "  tradebook_short.loc[\n"
     ]
    },
    {
     "name": "stdout",
     "output_type": "stream",
     "text": [
      "        Total ROI Total Trades Win Rate Avg Profit% per Trade Avg Loss% per Trade Max Drawdown ROI/DD Ratio                                Variation\n",
      "2017            0            0      NaN                   NaN                 NaN          NaN          NaN  EMA:10, RSI:21, RSI_MA:15, SL Candles:2\n",
      "2018     -56.5334          232  30.6034                4.3353             -2.2630     -84.4147      -0.6697  EMA:10, RSI:21, RSI_MA:15, SL Candles:2\n",
      "2019      -9.5927          222  31.9820                4.3358             -2.1022    -101.4394      -0.0946  EMA:10, RSI:21, RSI_MA:15, SL Candles:2\n",
      "2020      77.6904          232  33.1897                5.2800             -2.1217     -59.5437       1.3048  EMA:10, RSI:21, RSI_MA:15, SL Candles:2\n",
      "2021       6.3661          247  31.1741                5.3808             -2.3997     -67.3862       0.0945  EMA:10, RSI:21, RSI_MA:15, SL Candles:2\n",
      "2022      -3.6749          249  28.1124                6.2499             -2.4646    -127.5757      -0.0288  EMA:10, RSI:21, RSI_MA:15, SL Candles:2\n",
      "2023      11.3857          252  27.3810                6.5468             -2.4062    -130.2372       0.0874  EMA:10, RSI:21, RSI_MA:15, SL Candles:2\n",
      "2024      -2.1283          236  25.8475                6.6820             -2.3413    -166.4338      -0.0128  EMA:10, RSI:21, RSI_MA:15, SL Candles:2\n",
      "2025      18.3942           12  33.3333                8.2602             -1.8308      -3.2024       5.7439  EMA:10, RSI:21, RSI_MA:15, SL Candles:2\n",
      "Overall   41.9071         1682  29.7265                5.5328             -2.3050    -203.6475       0.2058  EMA:10, RSI:21, RSI_MA:15, SL Candles:2\n",
      "EMA:10, RSI:21, RSI_MA:15, SL Candles:4\n"
     ]
    },
    {
     "name": "stderr",
     "output_type": "stream",
     "text": [
      "/tmp/ipykernel_33520/419236688.py:151: FutureWarning: Setting an item of incompatible dtype is deprecated and will raise an error in a future version of pandas. Value 'RSI Upmove' has dtype incompatible with float64, please explicitly cast to a compatible dtype first.\n",
      "  tradebook_short.loc[\n"
     ]
    },
    {
     "name": "stdout",
     "output_type": "stream",
     "text": [
      "        Total ROI Total Trades Win Rate Avg Profit% per Trade Avg Loss% per Trade Max Drawdown ROI/DD Ratio                                Variation\n",
      "2017            0            0      NaN                   NaN                 NaN          NaN          NaN  EMA:10, RSI:21, RSI_MA:15, SL Candles:4\n",
      "2018     -30.0491          230  31.3043                3.6256             -1.8424     -58.8751      -0.5104  EMA:10, RSI:21, RSI_MA:15, SL Candles:4\n",
      "2019      -9.2446          221  32.1267                3.6844             -1.8056     -91.7205      -0.1008  EMA:10, RSI:21, RSI_MA:15, SL Candles:4\n",
      "2020      76.2756          230  33.4783                4.4836             -1.7579     -54.2151       1.4069  EMA:10, RSI:21, RSI_MA:15, SL Candles:4\n",
      "2021      42.1228          244  31.5574                4.9347             -2.0231     -54.1335       0.7781  EMA:10, RSI:21, RSI_MA:15, SL Candles:4\n",
      "2022     -49.9914          244  28.6885                4.6580             -2.1612    -138.3329      -0.3614  EMA:10, RSI:21, RSI_MA:15, SL Candles:4\n",
      "2023      44.4393          249  28.1124                5.7674             -2.0071    -109.9126       0.4043  EMA:10, RSI:21, RSI_MA:15, SL Candles:4\n",
      "2024      40.2907          234  26.0684                6.1587             -1.9387    -115.8559       0.3478  EMA:10, RSI:21, RSI_MA:15, SL Candles:4\n",
      "2025      11.2020           12  33.3333                6.1331             -1.6663      -3.1347       3.5735  EMA:10, RSI:21, RSI_MA:15, SL Candles:4\n",
      "Overall  125.0453         1664  30.1683                4.7367             -1.9387    -138.3329       0.9039  EMA:10, RSI:21, RSI_MA:15, SL Candles:4\n",
      "EMA:10, RSI:21, RSI_MA:15, SL Candles:6\n"
     ]
    },
    {
     "name": "stderr",
     "output_type": "stream",
     "text": [
      "/tmp/ipykernel_33520/419236688.py:151: FutureWarning: Setting an item of incompatible dtype is deprecated and will raise an error in a future version of pandas. Value 'RSI Upmove' has dtype incompatible with float64, please explicitly cast to a compatible dtype first.\n",
      "  tradebook_short.loc[\n"
     ]
    },
    {
     "name": "stdout",
     "output_type": "stream",
     "text": [
      "        Total ROI Total Trades Win Rate Avg Profit% per Trade Avg Loss% per Trade Max Drawdown ROI/DD Ratio                                Variation\n",
      "2017            0            0      NaN                   NaN                 NaN          NaN          NaN  EMA:10, RSI:21, RSI_MA:15, SL Candles:6\n",
      "2018     -37.2835          228  31.5789                3.2213             -1.7258     -65.9335      -0.5655  EMA:10, RSI:21, RSI_MA:15, SL Candles:6\n",
      "2019       2.4202          220  32.2727                3.4565             -1.6308     -82.8895       0.0292  EMA:10, RSI:21, RSI_MA:15, SL Candles:6\n",
      "2020      53.5536          228  33.7719                3.7563             -1.5608     -41.6420       1.2860  EMA:10, RSI:21, RSI_MA:15, SL Candles:6\n",
      "2021      39.3962          244  31.5574                4.4144             -1.7995     -52.0982       0.7562  EMA:10, RSI:21, RSI_MA:15, SL Candles:6\n",
      "2022     -51.5278          244  28.6885                4.0899             -1.9415    -129.6778      -0.3974  EMA:10, RSI:21, RSI_MA:15, SL Candles:6\n",
      "2023     -17.4249          248  28.2258                4.2911             -1.7854     -94.2608      -0.1849  EMA:10, RSI:21, RSI_MA:15, SL Candles:6\n",
      "2024      36.5015          233  26.1803                5.4679             -1.7270    -105.3340       0.3465  EMA:10, RSI:21, RSI_MA:15, SL Candles:6\n",
      "2025       9.3656           12  33.3333                5.6269             -1.6428      -3.1347       2.9877  EMA:10, RSI:21, RSI_MA:15, SL Candles:6\n",
      "Overall   35.0010         1657  30.2957                4.0821             -1.7439    -164.7070       0.2125  EMA:10, RSI:21, RSI_MA:15, SL Candles:6\n",
      "EMA:10, RSI:21, RSI_MA:15, SL Candles:8\n"
     ]
    },
    {
     "name": "stderr",
     "output_type": "stream",
     "text": [
      "/tmp/ipykernel_33520/419236688.py:151: FutureWarning: Setting an item of incompatible dtype is deprecated and will raise an error in a future version of pandas. Value 'RSI Upmove' has dtype incompatible with float64, please explicitly cast to a compatible dtype first.\n",
      "  tradebook_short.loc[\n"
     ]
    },
    {
     "name": "stdout",
     "output_type": "stream",
     "text": [
      "        Total ROI Total Trades Win Rate Avg Profit% per Trade Avg Loss% per Trade Max Drawdown ROI/DD Ratio                                Variation\n",
      "2017            0            0      NaN                   NaN                 NaN          NaN          NaN  EMA:10, RSI:21, RSI_MA:15, SL Candles:8\n",
      "2018     -32.9811          227  31.7181                2.8841             -1.5525     -68.2408      -0.4833  EMA:10, RSI:21, RSI_MA:15, SL Candles:8\n",
      "2019      -0.0153          220  32.2727                3.0873             -1.4712     -71.9339      -0.0002  EMA:10, RSI:21, RSI_MA:15, SL Candles:8\n",
      "2020      33.8520          228  33.7719                3.3073             -1.4623     -43.6056       0.7763  EMA:10, RSI:21, RSI_MA:15, SL Candles:8\n",
      "2021      34.3942          244  31.5574                3.9692             -1.6241     -57.9675       0.5933  EMA:10, RSI:21, RSI_MA:15, SL Candles:8\n",
      "2022     -33.9482          244  28.6885                3.8489             -1.7435    -109.5198      -0.3100  EMA:10, RSI:21, RSI_MA:15, SL Candles:8\n",
      "2023       1.5189          246  28.4553                3.8182             -1.5100     -76.5906       0.0198  EMA:10, RSI:21, RSI_MA:15, SL Candles:8\n",
      "2024      37.5528          233  26.1803                4.9281             -1.5294     -98.7623       0.3802  EMA:10, RSI:21, RSI_MA:15, SL Candles:8\n",
      "2025       9.1154           12  33.3333                5.3808             -1.5510      -3.1281       2.9140  EMA:10, RSI:21, RSI_MA:15, SL Candles:8\n",
      "Overall   49.4887         1654  30.3507                3.6773             -1.5595    -117.9176       0.4197  EMA:10, RSI:21, RSI_MA:15, SL Candles:8\n",
      "EMA:10, RSI:21, RSI_MA:15, SL Candles:10\n"
     ]
    },
    {
     "name": "stderr",
     "output_type": "stream",
     "text": [
      "/tmp/ipykernel_33520/419236688.py:151: FutureWarning: Setting an item of incompatible dtype is deprecated and will raise an error in a future version of pandas. Value 'RSI Upmove' has dtype incompatible with float64, please explicitly cast to a compatible dtype first.\n",
      "  tradebook_short.loc[\n"
     ]
    },
    {
     "name": "stdout",
     "output_type": "stream",
     "text": [
      "        Total ROI Total Trades Win Rate Avg Profit% per Trade Avg Loss% per Trade Max Drawdown ROI/DD Ratio                                 Variation\n",
      "2017            0            0      NaN                   NaN                 NaN          NaN          NaN  EMA:10, RSI:21, RSI_MA:15, SL Candles:10\n",
      "2018     -24.8150          227  31.7181                2.6942             -1.4116     -59.7643      -0.4152  EMA:10, RSI:21, RSI_MA:15, SL Candles:10\n",
      "2019     -11.4614          219  32.4201                2.6504             -1.3489     -69.4378      -0.1651  EMA:10, RSI:21, RSI_MA:15, SL Candles:10\n",
      "2020      46.3834          228  33.7719                3.2281             -1.3389     -37.8835       1.2244  EMA:10, RSI:21, RSI_MA:15, SL Candles:10\n",
      "2021      38.3766          244  31.5574                3.6724             -1.4635     -49.6079       0.7736  EMA:10, RSI:21, RSI_MA:15, SL Candles:10\n",
      "2022     -61.5378          244  28.6885                3.1055             -1.6030    -102.3899      -0.6010  EMA:10, RSI:21, RSI_MA:15, SL Candles:10\n",
      "2023       6.2272          243  29.2181                3.2562             -1.3079     -58.9680       0.1056  EMA:10, RSI:21, RSI_MA:15, SL Candles:10\n",
      "2024      37.7892          233  26.1803                4.6852             -1.4419     -98.7165       0.3828  EMA:10, RSI:21, RSI_MA:15, SL Candles:10\n",
      "2025       9.5177           12  33.3333                5.3808             -1.5007      -3.1281       3.0426  EMA:10, RSI:21, RSI_MA:15, SL Candles:10\n",
      "Overall   40.4800         1650  30.4848                3.3189             -1.4202    -107.7886       0.3755  EMA:10, RSI:21, RSI_MA:15, SL Candles:10\n",
      "EMA:10, RSI:21, RSI_MA:20, SL Candles:2\n"
     ]
    },
    {
     "name": "stderr",
     "output_type": "stream",
     "text": [
      "/tmp/ipykernel_33520/419236688.py:151: FutureWarning: Setting an item of incompatible dtype is deprecated and will raise an error in a future version of pandas. Value 'RSI Upmove' has dtype incompatible with float64, please explicitly cast to a compatible dtype first.\n",
      "  tradebook_short.loc[\n"
     ]
    },
    {
     "name": "stdout",
     "output_type": "stream",
     "text": [
      "EMA:10, RSI:21, RSI_MA:20, SL Candles:4\n"
     ]
    },
    {
     "name": "stderr",
     "output_type": "stream",
     "text": [
      "/tmp/ipykernel_33520/419236688.py:151: FutureWarning: Setting an item of incompatible dtype is deprecated and will raise an error in a future version of pandas. Value 'RSI Upmove' has dtype incompatible with float64, please explicitly cast to a compatible dtype first.\n",
      "  tradebook_short.loc[\n"
     ]
    },
    {
     "name": "stdout",
     "output_type": "stream",
     "text": [
      "        Total ROI Total Trades Win Rate Avg Profit% per Trade Avg Loss% per Trade Max Drawdown ROI/DD Ratio                                Variation\n",
      "2017            0            0      NaN                   NaN                 NaN          NaN          NaN  EMA:10, RSI:21, RSI_MA:20, SL Candles:4\n",
      "2018     -52.0893          218  30.7339                3.6233             -1.9527     -53.2829      -0.9776  EMA:10, RSI:21, RSI_MA:20, SL Candles:4\n",
      "2019     -73.6027          223  29.5964                3.5542             -1.9629     -85.1286      -0.8646  EMA:10, RSI:21, RSI_MA:20, SL Candles:4\n",
      "2020      93.8208          215  29.7674                5.5662             -1.7379     -42.7012       2.1971  EMA:10, RSI:21, RSI_MA:20, SL Candles:4\n",
      "2021      74.0650          237  30.8017                5.8211             -2.1395     -74.5598       0.9934  EMA:10, RSI:21, RSI_MA:20, SL Candles:4\n",
      "2022     -92.0853          243  24.6914                4.7572             -2.0629    -152.4898      -0.6039  EMA:10, RSI:21, RSI_MA:20, SL Candles:4\n",
      "2023      27.2609          236  27.1186                6.3751             -2.2136    -119.4753       0.2282  EMA:10, RSI:21, RSI_MA:20, SL Candles:4\n",
      "2024      31.4021          225  25.3333                6.2439             -1.9316     -86.6309       0.3625  EMA:10, RSI:21, RSI_MA:20, SL Candles:4\n",
      "2025      10.2268           11  45.4545                4.1999             -1.7954      -4.1824       2.4452  EMA:10, RSI:21, RSI_MA:20, SL Candles:4\n",
      "Overall   18.9983         1608  28.3582                5.1071             -2.0051    -152.4898       0.1246  EMA:10, RSI:21, RSI_MA:20, SL Candles:4\n",
      "EMA:10, RSI:21, RSI_MA:20, SL Candles:6\n"
     ]
    },
    {
     "name": "stderr",
     "output_type": "stream",
     "text": [
      "/tmp/ipykernel_33520/419236688.py:151: FutureWarning: Setting an item of incompatible dtype is deprecated and will raise an error in a future version of pandas. Value 'RSI Upmove' has dtype incompatible with float64, please explicitly cast to a compatible dtype first.\n",
      "  tradebook_short.loc[\n"
     ]
    },
    {
     "name": "stdout",
     "output_type": "stream",
     "text": [
      "EMA:10, RSI:21, RSI_MA:20, SL Candles:8\n"
     ]
    },
    {
     "name": "stderr",
     "output_type": "stream",
     "text": [
      "/tmp/ipykernel_33520/419236688.py:151: FutureWarning: Setting an item of incompatible dtype is deprecated and will raise an error in a future version of pandas. Value 'RSI Upmove' has dtype incompatible with float64, please explicitly cast to a compatible dtype first.\n",
      "  tradebook_short.loc[\n"
     ]
    },
    {
     "name": "stdout",
     "output_type": "stream",
     "text": [
      "EMA:10, RSI:21, RSI_MA:20, SL Candles:10\n"
     ]
    },
    {
     "name": "stderr",
     "output_type": "stream",
     "text": [
      "/tmp/ipykernel_33520/419236688.py:151: FutureWarning: Setting an item of incompatible dtype is deprecated and will raise an error in a future version of pandas. Value 'RSI Upmove' has dtype incompatible with float64, please explicitly cast to a compatible dtype first.\n",
      "  tradebook_short.loc[\n"
     ]
    },
    {
     "name": "stdout",
     "output_type": "stream",
     "text": [
      "EMA:10, RSI:21, RSI_MA:25, SL Candles:2\n"
     ]
    },
    {
     "name": "stderr",
     "output_type": "stream",
     "text": [
      "/tmp/ipykernel_33520/419236688.py:84: FutureWarning: Setting an item of incompatible dtype is deprecated and will raise an error in a future version of pandas. Value 'Gap' has dtype incompatible with float64, please explicitly cast to a compatible dtype first.\n",
      "  tradebook_short.loc[\n"
     ]
    },
    {
     "name": "stdout",
     "output_type": "stream",
     "text": [
      "EMA:10, RSI:21, RSI_MA:25, SL Candles:4\n"
     ]
    },
    {
     "name": "stderr",
     "output_type": "stream",
     "text": [
      "/tmp/ipykernel_33520/419236688.py:84: FutureWarning: Setting an item of incompatible dtype is deprecated and will raise an error in a future version of pandas. Value 'Gap' has dtype incompatible with float64, please explicitly cast to a compatible dtype first.\n",
      "  tradebook_short.loc[\n"
     ]
    },
    {
     "name": "stdout",
     "output_type": "stream",
     "text": [
      "EMA:10, RSI:21, RSI_MA:25, SL Candles:6\n"
     ]
    },
    {
     "name": "stderr",
     "output_type": "stream",
     "text": [
      "/tmp/ipykernel_33520/419236688.py:123: FutureWarning: Setting an item of incompatible dtype is deprecated and will raise an error in a future version of pandas. Value 'Initial SL Hit' has dtype incompatible with float64, please explicitly cast to a compatible dtype first.\n",
      "  tradebook_short.loc[\n"
     ]
    },
    {
     "name": "stdout",
     "output_type": "stream",
     "text": [
      "EMA:10, RSI:21, RSI_MA:25, SL Candles:8\n"
     ]
    },
    {
     "name": "stderr",
     "output_type": "stream",
     "text": [
      "/tmp/ipykernel_33520/419236688.py:123: FutureWarning: Setting an item of incompatible dtype is deprecated and will raise an error in a future version of pandas. Value 'Initial SL Hit' has dtype incompatible with float64, please explicitly cast to a compatible dtype first.\n",
      "  tradebook_short.loc[\n"
     ]
    },
    {
     "name": "stdout",
     "output_type": "stream",
     "text": [
      "EMA:10, RSI:21, RSI_MA:25, SL Candles:10\n"
     ]
    },
    {
     "name": "stderr",
     "output_type": "stream",
     "text": [
      "/tmp/ipykernel_33520/419236688.py:123: FutureWarning: Setting an item of incompatible dtype is deprecated and will raise an error in a future version of pandas. Value 'Initial SL Hit' has dtype incompatible with float64, please explicitly cast to a compatible dtype first.\n",
      "  tradebook_short.loc[\n"
     ]
    },
    {
     "name": "stdout",
     "output_type": "stream",
     "text": [
      "EMA:10, RSI:21, RSI_MA:30, SL Candles:2\n"
     ]
    },
    {
     "name": "stderr",
     "output_type": "stream",
     "text": [
      "/tmp/ipykernel_33520/419236688.py:84: FutureWarning: Setting an item of incompatible dtype is deprecated and will raise an error in a future version of pandas. Value 'Gap' has dtype incompatible with float64, please explicitly cast to a compatible dtype first.\n",
      "  tradebook_short.loc[\n"
     ]
    },
    {
     "name": "stdout",
     "output_type": "stream",
     "text": [
      "        Total ROI Total Trades Win Rate Avg Profit% per Trade Avg Loss% per Trade Max Drawdown ROI/DD Ratio                                Variation\n",
      "2017            0            0      NaN                   NaN                 NaN          NaN          NaN  EMA:10, RSI:21, RSI_MA:30, SL Candles:2\n",
      "2018       9.1444          211  31.2796                5.1818             -2.2956     -50.2892       0.1818  EMA:10, RSI:21, RSI_MA:30, SL Candles:2\n",
      "2019     -21.2800          231  28.5714                5.2515             -2.2296    -102.3298      -0.2080  EMA:10, RSI:21, RSI_MA:30, SL Candles:2\n",
      "2020     129.2582          211  34.5972                6.0242             -2.2501     -40.9703       3.1549  EMA:10, RSI:21, RSI_MA:30, SL Candles:2\n",
      "2021      56.4855          221  32.1267                5.6922             -2.3178     -67.8019       0.8331  EMA:10, RSI:21, RSI_MA:30, SL Candles:2\n",
      "2022       1.0643          244  27.4590                6.2276             -2.3513     -89.4514       0.0119  EMA:10, RSI:21, RSI_MA:30, SL Candles:2\n",
      "2023      76.7678          231  25.5411                8.8074             -2.5748    -135.9847       0.5645  EMA:10, RSI:21, RSI_MA:30, SL Candles:2\n",
      "2024     -68.7464          225  25.7778                5.5565             -2.3414    -145.2367      -0.4733  EMA:10, RSI:21, RSI_MA:30, SL Candles:2\n",
      "2025       9.1028           10  40.0000                4.0894             -1.2092      -2.2583       4.0308  EMA:10, RSI:21, RSI_MA:30, SL Candles:2\n",
      "Overall  191.7968         1584  29.2929                6.0518             -2.3359    -194.2641       0.9873  EMA:10, RSI:21, RSI_MA:30, SL Candles:2\n",
      "EMA:10, RSI:21, RSI_MA:30, SL Candles:4\n"
     ]
    },
    {
     "name": "stderr",
     "output_type": "stream",
     "text": [
      "/tmp/ipykernel_33520/419236688.py:84: FutureWarning: Setting an item of incompatible dtype is deprecated and will raise an error in a future version of pandas. Value 'Gap' has dtype incompatible with float64, please explicitly cast to a compatible dtype first.\n",
      "  tradebook_short.loc[\n"
     ]
    },
    {
     "name": "stdout",
     "output_type": "stream",
     "text": [
      "        Total ROI Total Trades Win Rate Avg Profit% per Trade Avg Loss% per Trade Max Drawdown ROI/DD Ratio                                Variation\n",
      "2017            0            0      NaN                   NaN                 NaN          NaN          NaN  EMA:10, RSI:21, RSI_MA:30, SL Candles:4\n",
      "2018      15.9451          209  31.5789                4.4755             -1.9541     -40.6374       0.3924  EMA:10, RSI:21, RSI_MA:30, SL Candles:4\n",
      "2019      -7.0224          231  28.5714                4.8380             -1.9778     -92.2996      -0.0761  EMA:10, RSI:21, RSI_MA:30, SL Candles:4\n",
      "2020      90.0730          208  34.6154                4.8604             -1.9108     -34.7468       2.5923  EMA:10, RSI:21, RSI_MA:30, SL Candles:4\n",
      "2021      39.0218          220  32.2727                4.7911             -2.0211     -63.9931       0.6098  EMA:10, RSI:21, RSI_MA:30, SL Candles:4\n",
      "2022     -44.2055          238  28.1513                4.6206             -2.0689    -101.5960      -0.4351  EMA:10, RSI:21, RSI_MA:30, SL Candles:4\n",
      "2023      77.5893          226  26.1062                7.6792             -2.2484    -127.2620       0.6097  EMA:10, RSI:21, RSI_MA:30, SL Candles:4\n",
      "2024     -42.3091          222  26.1261                5.0532             -2.0451    -101.6917      -0.4161  EMA:10, RSI:21, RSI_MA:30, SL Candles:4\n",
      "2025       4.7093           10  40.0000                2.9883             -1.2073      -2.6439       1.7812  EMA:10, RSI:21, RSI_MA:30, SL Candles:4\n",
      "Overall  133.8013         1564  29.6036                5.1242             -2.0333    -172.4544       0.7759  EMA:10, RSI:21, RSI_MA:30, SL Candles:4\n",
      "EMA:10, RSI:21, RSI_MA:30, SL Candles:6\n"
     ]
    },
    {
     "name": "stderr",
     "output_type": "stream",
     "text": [
      "/tmp/ipykernel_33520/419236688.py:123: FutureWarning: Setting an item of incompatible dtype is deprecated and will raise an error in a future version of pandas. Value 'Initial SL Hit' has dtype incompatible with float64, please explicitly cast to a compatible dtype first.\n",
      "  tradebook_short.loc[\n"
     ]
    },
    {
     "name": "stdout",
     "output_type": "stream",
     "text": [
      "        Total ROI Total Trades Win Rate Avg Profit% per Trade Avg Loss% per Trade Max Drawdown ROI/DD Ratio                                Variation\n",
      "2017            0            0      NaN                   NaN                 NaN          NaN          NaN  EMA:10, RSI:21, RSI_MA:30, SL Candles:6\n",
      "2018      -3.5481          209  31.5789                3.9397             -1.8431     -45.4771      -0.0780  EMA:10, RSI:21, RSI_MA:30, SL Candles:6\n",
      "2019     -15.3578          230  28.6957                4.2945             -1.8219     -78.9749      -0.1945  EMA:10, RSI:21, RSI_MA:30, SL Candles:6\n",
      "2020      90.5588          208  34.6154                4.4706             -1.7009     -31.3509       2.8886  EMA:10, RSI:21, RSI_MA:30, SL Candles:6\n",
      "2021      34.1296          220  32.2727                4.3323             -1.8353     -65.7112       0.5194  EMA:10, RSI:21, RSI_MA:30, SL Candles:6\n",
      "2022     -35.1695          238  28.1513                4.2327             -1.8641     -87.0966      -0.4038  EMA:10, RSI:21, RSI_MA:30, SL Candles:6\n",
      "2023       5.1034          225  26.2222                5.7745             -2.0216    -117.0884       0.0436  EMA:10, RSI:21, RSI_MA:30, SL Candles:6\n",
      "2024     -31.4572          221  26.2443                4.5277             -1.8041     -95.8872      -0.3281  EMA:10, RSI:21, RSI_MA:30, SL Candles:6\n",
      "2025       4.8766           10  40.0000                2.9278             -1.1391      -2.8559       1.7076  EMA:10, RSI:21, RSI_MA:30, SL Candles:6\n",
      "Overall   49.1357         1561  29.6605                4.4742             -1.8419    -166.5993       0.2949  EMA:10, RSI:21, RSI_MA:30, SL Candles:6\n",
      "EMA:10, RSI:21, RSI_MA:30, SL Candles:8\n"
     ]
    },
    {
     "name": "stderr",
     "output_type": "stream",
     "text": [
      "/tmp/ipykernel_33520/419236688.py:123: FutureWarning: Setting an item of incompatible dtype is deprecated and will raise an error in a future version of pandas. Value 'Initial SL Hit' has dtype incompatible with float64, please explicitly cast to a compatible dtype first.\n",
      "  tradebook_short.loc[\n"
     ]
    },
    {
     "name": "stdout",
     "output_type": "stream",
     "text": [
      "        Total ROI Total Trades Win Rate Avg Profit% per Trade Avg Loss% per Trade Max Drawdown ROI/DD Ratio                                Variation\n",
      "2017            0            0      NaN                   NaN                 NaN          NaN          NaN  EMA:10, RSI:21, RSI_MA:30, SL Candles:8\n",
      "2018      -8.7532          208  31.7308                3.5647             -1.7185     -43.0707      -0.2032  EMA:10, RSI:21, RSI_MA:30, SL Candles:8\n",
      "2019     -13.7706          230  28.6957                3.9294             -1.6653     -68.8082      -0.2001  EMA:10, RSI:21, RSI_MA:30, SL Candles:8\n",
      "2020      77.1425          208  34.6154                3.9913             -1.5458     -35.3341       2.1832  EMA:10, RSI:21, RSI_MA:30, SL Candles:8\n",
      "2021      27.7561          220  32.2727                3.8868             -1.6658     -74.9487       0.3703  EMA:10, RSI:21, RSI_MA:30, SL Candles:8\n",
      "2022     -26.1935          238  28.1513                3.9230             -1.6903     -73.6545      -0.3556  EMA:10, RSI:21, RSI_MA:30, SL Candles:8\n",
      "2023       6.2936          223  26.4574                4.8855             -1.7192    -104.7556       0.0601  EMA:10, RSI:21, RSI_MA:30, SL Candles:8\n",
      "2024     -25.0199          221  26.2443                4.1205             -1.6197     -87.5120      -0.2859  EMA:10, RSI:21, RSI_MA:30, SL Candles:8\n",
      "2025       3.5776           10  40.0000                2.5940             -1.1331      -2.8201       1.2686  EMA:10, RSI:21, RSI_MA:30, SL Candles:8\n",
      "Overall   41.0326         1558  29.7176                4.0138             -1.6597    -162.1177       0.2531  EMA:10, RSI:21, RSI_MA:30, SL Candles:8\n",
      "EMA:10, RSI:21, RSI_MA:30, SL Candles:10\n"
     ]
    },
    {
     "name": "stderr",
     "output_type": "stream",
     "text": [
      "/tmp/ipykernel_33520/419236688.py:123: FutureWarning: Setting an item of incompatible dtype is deprecated and will raise an error in a future version of pandas. Value 'Initial SL Hit' has dtype incompatible with float64, please explicitly cast to a compatible dtype first.\n",
      "  tradebook_short.loc[\n"
     ]
    },
    {
     "name": "stdout",
     "output_type": "stream",
     "text": [
      "        Total ROI Total Trades Win Rate Avg Profit% per Trade Avg Loss% per Trade Max Drawdown ROI/DD Ratio                                 Variation\n",
      "2017            0            0      NaN                   NaN                 NaN          NaN          NaN  EMA:10, RSI:21, RSI_MA:30, SL Candles:10\n",
      "2018     -12.5078          208  31.7308                3.1413             -1.5481     -38.9779      -0.3209  EMA:10, RSI:21, RSI_MA:30, SL Candles:10\n",
      "2019     -25.5795          230  28.6957                3.4524             -1.5454     -61.8042      -0.4139  EMA:10, RSI:21, RSI_MA:30, SL Candles:10\n",
      "2020      81.1852          208  34.6154                3.7875             -1.4082     -37.8582       2.1445  EMA:10, RSI:21, RSI_MA:30, SL Candles:10\n",
      "2021      54.9016          219  32.4201                3.7868             -1.4457     -60.4518       0.9082  EMA:10, RSI:21, RSI_MA:30, SL Candles:10\n",
      "2022     -66.6417          238  28.1513                2.9469             -1.5444     -80.3598      -0.8293  EMA:10, RSI:21, RSI_MA:30, SL Candles:10\n",
      "2023      -5.9567          222  27.0270                3.9697             -1.5070     -88.3008      -0.0675  EMA:10, RSI:21, RSI_MA:30, SL Candles:10\n",
      "2024     -12.1378          220  26.3636                3.9254             -1.4803     -78.6443      -0.1543  EMA:10, RSI:21, RSI_MA:30, SL Candles:10\n",
      "2025       3.7017           10  40.0000                2.5940             -1.1124      -2.6960       1.3730  EMA:10, RSI:21, RSI_MA:30, SL Candles:10\n",
      "Overall   16.9650         1555  29.8392                3.5569             -1.4972    -134.8372       0.1258  EMA:10, RSI:21, RSI_MA:30, SL Candles:10\n",
      "EMA:10, RSI:21, RSI_MA:35, SL Candles:2\n"
     ]
    },
    {
     "name": "stderr",
     "output_type": "stream",
     "text": [
      "/tmp/ipykernel_33520/419236688.py:84: FutureWarning: Setting an item of incompatible dtype is deprecated and will raise an error in a future version of pandas. Value 'Gap' has dtype incompatible with float64, please explicitly cast to a compatible dtype first.\n",
      "  tradebook_short.loc[\n"
     ]
    },
    {
     "name": "stdout",
     "output_type": "stream",
     "text": [
      "        Total ROI Total Trades Win Rate Avg Profit% per Trade Avg Loss% per Trade Max Drawdown ROI/DD Ratio                                Variation\n",
      "2017            0            0      NaN                   NaN                 NaN          NaN          NaN  EMA:10, RSI:21, RSI_MA:35, SL Candles:2\n",
      "2018     -27.6006          221  29.8643                5.0774             -2.3400     -55.3855      -0.4983  EMA:10, RSI:21, RSI_MA:35, SL Candles:2\n",
      "2019     -19.0622          231  26.4069                5.9857             -2.2599     -97.2347      -0.1960  EMA:10, RSI:21, RSI_MA:35, SL Candles:2\n",
      "2020     130.7321          209  34.9282                5.9254             -2.2193     -49.3285       2.6502  EMA:10, RSI:21, RSI_MA:35, SL Candles:2\n",
      "2021      51.0927          223  29.5964                6.2098             -2.2851     -85.8067       0.5954  EMA:10, RSI:21, RSI_MA:35, SL Candles:2\n",
      "2022       6.0189          248  27.8226                6.0284             -2.2902     -98.0583       0.0614  EMA:10, RSI:21, RSI_MA:35, SL Candles:2\n",
      "2023      73.9649          223  25.5605                8.5658             -2.4957    -113.2618       0.6530  EMA:10, RSI:21, RSI_MA:35, SL Candles:2\n",
      "2024      -8.0571          219  26.9406                6.2738             -2.3638    -136.7498      -0.0589  EMA:10, RSI:21, RSI_MA:35, SL Candles:2\n",
      "2025      22.5929           12  41.6667                6.7194             -1.5720      -4.6035       4.9078  EMA:10, RSI:21, RSI_MA:35, SL Candles:2\n",
      "Overall  229.6816         1586  28.7516                6.2513             -2.3194    -186.8288       1.2294  EMA:10, RSI:21, RSI_MA:35, SL Candles:2\n",
      "EMA:10, RSI:21, RSI_MA:35, SL Candles:4\n"
     ]
    },
    {
     "name": "stderr",
     "output_type": "stream",
     "text": [
      "/tmp/ipykernel_33520/419236688.py:84: FutureWarning: Setting an item of incompatible dtype is deprecated and will raise an error in a future version of pandas. Value 'Gap' has dtype incompatible with float64, please explicitly cast to a compatible dtype first.\n",
      "  tradebook_short.loc[\n"
     ]
    },
    {
     "name": "stdout",
     "output_type": "stream",
     "text": [
      "        Total ROI Total Trades Win Rate Avg Profit% per Trade Avg Loss% per Trade Max Drawdown ROI/DD Ratio                                Variation\n",
      "2017            0            0      NaN                   NaN                 NaN          NaN          NaN  EMA:10, RSI:21, RSI_MA:35, SL Candles:4\n",
      "2018     -21.0900          219  30.1370                4.3521             -2.0152     -47.0114      -0.4486  EMA:10, RSI:21, RSI_MA:35, SL Candles:4\n",
      "2019     -20.4648          230  26.5217                5.2166             -2.0040     -83.5723      -0.2449  EMA:10, RSI:21, RSI_MA:35, SL Candles:4\n",
      "2020      81.5155          206  34.9515                4.6126             -1.8701     -40.6118       2.0072  EMA:10, RSI:21, RSI_MA:35, SL Candles:4\n",
      "2021      35.5709          222  29.7297                5.3161             -2.0211     -76.8084       0.4631  EMA:10, RSI:21, RSI_MA:35, SL Candles:4\n",
      "2022     -42.8976          243  28.3951                4.4541             -2.0128    -118.1290      -0.3631  EMA:10, RSI:21, RSI_MA:35, SL Candles:4\n",
      "2023      99.2360          219  26.4840                7.7604             -2.1793     -98.8709       1.0037  EMA:10, RSI:21, RSI_MA:35, SL Candles:4\n",
      "2024     -11.5078          217  27.1889                5.3462             -2.0692    -100.8974      -0.1141  EMA:10, RSI:21, RSI_MA:35, SL Candles:4\n",
      "2025      21.3569           12  41.6667                6.4718             -1.5717      -4.6035       4.6393  EMA:10, RSI:21, RSI_MA:35, SL Candles:4\n",
      "Overall  141.7189         1568  29.0816                5.2492             -2.0251    -145.5441       0.9737  EMA:10, RSI:21, RSI_MA:35, SL Candles:4\n",
      "EMA:10, RSI:21, RSI_MA:35, SL Candles:6\n"
     ]
    },
    {
     "name": "stderr",
     "output_type": "stream",
     "text": [
      "/tmp/ipykernel_33520/419236688.py:84: FutureWarning: Setting an item of incompatible dtype is deprecated and will raise an error in a future version of pandas. Value 'Gap' has dtype incompatible with float64, please explicitly cast to a compatible dtype first.\n",
      "  tradebook_short.loc[\n"
     ]
    },
    {
     "name": "stdout",
     "output_type": "stream",
     "text": [
      "        Total ROI Total Trades Win Rate Avg Profit% per Trade Avg Loss% per Trade Max Drawdown ROI/DD Ratio                                Variation\n",
      "2017            0            0      NaN                   NaN                 NaN          NaN          NaN  EMA:10, RSI:21, RSI_MA:35, SL Candles:6\n",
      "2018     -35.3452          218  30.2752                3.8402             -1.9000     -50.5901      -0.6987  EMA:10, RSI:21, RSI_MA:35, SL Candles:6\n",
      "2019     -21.1165          229  26.6376                4.6941             -1.8301     -69.3367      -0.3046  EMA:10, RSI:21, RSI_MA:35, SL Candles:6\n",
      "2020      84.8936          206  34.9515                4.2767             -1.6644     -43.5976       1.9472  EMA:10, RSI:21, RSI_MA:35, SL Candles:6\n",
      "2021      12.4908          222  29.7297                4.5667             -1.8520     -81.5631       0.1531  EMA:10, RSI:21, RSI_MA:35, SL Candles:6\n",
      "2022     -34.6055          243  28.3951                4.0878             -1.8199    -104.2345      -0.3320  EMA:10, RSI:21, RSI_MA:35, SL Candles:6\n",
      "2023      14.3362          218  26.6055                5.6783             -1.9688     -88.6500       0.1617  EMA:10, RSI:21, RSI_MA:35, SL Candles:6\n",
      "2024     -19.5457          216  27.3148                4.5546             -1.8361     -87.3329      -0.2238  EMA:10, RSI:21, RSI_MA:35, SL Candles:6\n",
      "2025       4.3934           12  41.6667                3.0033             -1.5176      -4.6035       0.9544  EMA:10, RSI:21, RSI_MA:35, SL Candles:6\n",
      "Overall    5.5011         1564  29.1560                4.4830             -1.8400    -147.7657       0.0372  EMA:10, RSI:21, RSI_MA:35, SL Candles:6\n",
      "EMA:10, RSI:21, RSI_MA:35, SL Candles:8\n"
     ]
    },
    {
     "name": "stderr",
     "output_type": "stream",
     "text": [
      "/tmp/ipykernel_33520/419236688.py:123: FutureWarning: Setting an item of incompatible dtype is deprecated and will raise an error in a future version of pandas. Value 'Initial SL Hit' has dtype incompatible with float64, please explicitly cast to a compatible dtype first.\n",
      "  tradebook_short.loc[\n"
     ]
    },
    {
     "name": "stdout",
     "output_type": "stream",
     "text": [
      "        Total ROI Total Trades Win Rate Avg Profit% per Trade Avg Loss% per Trade Max Drawdown ROI/DD Ratio                                Variation\n",
      "2017            0            0      NaN                   NaN                 NaN          NaN          NaN  EMA:10, RSI:21, RSI_MA:35, SL Candles:8\n",
      "2018     -37.2591          217  30.4147                3.4910             -1.7726     -47.9400      -0.7772  EMA:10, RSI:21, RSI_MA:35, SL Candles:8\n",
      "2019     -22.4880          229  26.6376                4.2689             -1.6839     -59.6645      -0.3769  EMA:10, RSI:21, RSI_MA:35, SL Candles:8\n",
      "2020      76.9104          206  34.9515                3.9234             -1.5341     -45.3953       1.6942  EMA:10, RSI:21, RSI_MA:35, SL Candles:8\n",
      "2021       6.9460          221  29.8643                4.0481             -1.6789     -77.5986       0.0895  EMA:10, RSI:21, RSI_MA:35, SL Candles:8\n",
      "2022     -24.1839          243  28.3951                3.7876             -1.6410     -87.7510      -0.2756  EMA:10, RSI:21, RSI_MA:35, SL Candles:8\n",
      "2023      21.9733          215  26.9767                4.9020             -1.6710     -86.3202       0.2546  EMA:10, RSI:21, RSI_MA:35, SL Candles:8\n",
      "2024      -9.9214          216  27.3148                4.1706             -1.6305     -74.1236      -0.1338  EMA:10, RSI:21, RSI_MA:35, SL Candles:8\n",
      "2025       4.5136           12  41.6667                2.8848             -1.4158      -3.8914       1.1599  EMA:10, RSI:21, RSI_MA:35, SL Candles:8\n",
      "Overall   16.4909         1559  29.2495                4.0496             -1.6592    -135.9181       0.1213  EMA:10, RSI:21, RSI_MA:35, SL Candles:8\n",
      "EMA:10, RSI:21, RSI_MA:35, SL Candles:10\n"
     ]
    },
    {
     "name": "stderr",
     "output_type": "stream",
     "text": [
      "/tmp/ipykernel_33520/419236688.py:123: FutureWarning: Setting an item of incompatible dtype is deprecated and will raise an error in a future version of pandas. Value 'Initial SL Hit' has dtype incompatible with float64, please explicitly cast to a compatible dtype first.\n",
      "  tradebook_short.loc[\n"
     ]
    },
    {
     "name": "stdout",
     "output_type": "stream",
     "text": [
      "        Total ROI Total Trades Win Rate Avg Profit% per Trade Avg Loss% per Trade Max Drawdown ROI/DD Ratio                                 Variation\n",
      "2017            0            0      NaN                   NaN                 NaN          NaN          NaN  EMA:10, RSI:21, RSI_MA:35, SL Candles:10\n",
      "2018     -28.9638          216  30.5556                3.2067             -1.6040     -42.3915      -0.6832  EMA:10, RSI:21, RSI_MA:35, SL Candles:10\n",
      "2019     -20.1987          228  26.7544                3.8499             -1.5272     -53.1507      -0.3800  EMA:10, RSI:21, RSI_MA:35, SL Candles:10\n",
      "2020      81.8606          206  34.9515                3.7821             -1.4213     -47.5626       1.7211  EMA:10, RSI:21, RSI_MA:35, SL Candles:10\n",
      "2021      32.7178          220  30.0000                3.9435             -1.4776     -61.4028       0.5328  EMA:10, RSI:21, RSI_MA:35, SL Candles:10\n",
      "2022     -67.5925          243  28.3951                2.8473             -1.5176     -92.9128      -0.7275  EMA:10, RSI:21, RSI_MA:35, SL Candles:10\n",
      "2023       4.8435          214  27.5701                3.9321             -1.4655     -66.9129       0.0724  EMA:10, RSI:21, RSI_MA:35, SL Candles:10\n",
      "2024      10.2671          214  28.0374                3.9477             -1.4714     -58.6916       0.1749  EMA:10, RSI:21, RSI_MA:35, SL Candles:10\n",
      "2025       5.9527           12  41.6667                2.8848             -1.2102      -2.5763       2.3105  EMA:10, RSI:21, RSI_MA:35, SL Candles:10\n",
      "Overall   18.8867         1553  29.4913                3.6218             -1.4976    -118.2321       0.1597  EMA:10, RSI:21, RSI_MA:35, SL Candles:10\n",
      "EMA:10, RSI:24, RSI_MA:5, SL Candles:2\n"
     ]
    },
    {
     "name": "stderr",
     "output_type": "stream",
     "text": [
      "/tmp/ipykernel_33520/419236688.py:137: FutureWarning: Setting an item of incompatible dtype is deprecated and will raise an error in a future version of pandas. Value 'Trailing SL Hit' has dtype incompatible with float64, please explicitly cast to a compatible dtype first.\n",
      "  tradebook_short.loc[\n"
     ]
    },
    {
     "name": "stdout",
     "output_type": "stream",
     "text": [
      "EMA:10, RSI:24, RSI_MA:5, SL Candles:4\n"
     ]
    },
    {
     "name": "stderr",
     "output_type": "stream",
     "text": [
      "/tmp/ipykernel_33520/419236688.py:137: FutureWarning: Setting an item of incompatible dtype is deprecated and will raise an error in a future version of pandas. Value 'Trailing SL Hit' has dtype incompatible with float64, please explicitly cast to a compatible dtype first.\n",
      "  tradebook_short.loc[\n"
     ]
    },
    {
     "name": "stdout",
     "output_type": "stream",
     "text": [
      "EMA:10, RSI:24, RSI_MA:5, SL Candles:6\n"
     ]
    },
    {
     "name": "stderr",
     "output_type": "stream",
     "text": [
      "/tmp/ipykernel_33520/419236688.py:137: FutureWarning: Setting an item of incompatible dtype is deprecated and will raise an error in a future version of pandas. Value 'Trailing SL Hit' has dtype incompatible with float64, please explicitly cast to a compatible dtype first.\n",
      "  tradebook_short.loc[\n"
     ]
    },
    {
     "name": "stdout",
     "output_type": "stream",
     "text": [
      "EMA:10, RSI:24, RSI_MA:5, SL Candles:8\n"
     ]
    },
    {
     "name": "stderr",
     "output_type": "stream",
     "text": [
      "/tmp/ipykernel_33520/419236688.py:137: FutureWarning: Setting an item of incompatible dtype is deprecated and will raise an error in a future version of pandas. Value 'Trailing SL Hit' has dtype incompatible with float64, please explicitly cast to a compatible dtype first.\n",
      "  tradebook_short.loc[\n"
     ]
    },
    {
     "name": "stdout",
     "output_type": "stream",
     "text": [
      "EMA:10, RSI:24, RSI_MA:5, SL Candles:10\n"
     ]
    },
    {
     "name": "stderr",
     "output_type": "stream",
     "text": [
      "/tmp/ipykernel_33520/419236688.py:137: FutureWarning: Setting an item of incompatible dtype is deprecated and will raise an error in a future version of pandas. Value 'Trailing SL Hit' has dtype incompatible with float64, please explicitly cast to a compatible dtype first.\n",
      "  tradebook_short.loc[\n"
     ]
    },
    {
     "name": "stdout",
     "output_type": "stream",
     "text": [
      "EMA:10, RSI:24, RSI_MA:10, SL Candles:2\n"
     ]
    },
    {
     "name": "stderr",
     "output_type": "stream",
     "text": [
      "/tmp/ipykernel_33520/419236688.py:151: FutureWarning: Setting an item of incompatible dtype is deprecated and will raise an error in a future version of pandas. Value 'RSI Upmove' has dtype incompatible with float64, please explicitly cast to a compatible dtype first.\n",
      "  tradebook_short.loc[\n"
     ]
    },
    {
     "name": "stdout",
     "output_type": "stream",
     "text": [
      "        Total ROI Total Trades Win Rate Avg Profit% per Trade Avg Loss% per Trade Max Drawdown ROI/DD Ratio                                Variation\n",
      "2017            0            0      NaN                   NaN                 NaN          NaN          NaN  EMA:10, RSI:24, RSI_MA:10, SL Candles:2\n",
      "2018      38.6376          256  31.6406                5.2966             -2.2308     -88.1720       0.4382  EMA:10, RSI:24, RSI_MA:10, SL Candles:2\n",
      "2019      20.3049          249  33.3333                4.5007             -2.1280     -96.6517       0.2101  EMA:10, RSI:24, RSI_MA:10, SL Candles:2\n",
      "2020     156.0504          258  34.1085                5.6333             -1.9981     -33.5671       4.6489  EMA:10, RSI:24, RSI_MA:10, SL Candles:2\n",
      "2021      29.0001          264  30.6818                5.5380             -2.2928     -64.1355       0.4522  EMA:10, RSI:24, RSI_MA:10, SL Candles:2\n",
      "2022     -27.5047          283  32.5088                4.9610             -2.5336    -117.8788      -0.2333  EMA:10, RSI:24, RSI_MA:10, SL Candles:2\n",
      "2023     -90.7008          282  29.4326                4.8543             -2.4805    -141.4038      -0.6414  EMA:10, RSI:24, RSI_MA:10, SL Candles:2\n",
      "2024     -25.5483          248  26.6129                6.0577             -2.3371    -146.9226      -0.1739  EMA:10, RSI:24, RSI_MA:10, SL Candles:2\n",
      "2025      14.2012           16  50.0000                4.2160             -2.4408      -6.4892       2.1884  EMA:10, RSI:24, RSI_MA:10, SL Candles:2\n",
      "Overall  114.4405         1856  31.3578                5.2229             -2.2962    -256.8152       0.4456  EMA:10, RSI:24, RSI_MA:10, SL Candles:2\n",
      "EMA:10, RSI:24, RSI_MA:10, SL Candles:4\n"
     ]
    },
    {
     "name": "stderr",
     "output_type": "stream",
     "text": [
      "/tmp/ipykernel_33520/419236688.py:151: FutureWarning: Setting an item of incompatible dtype is deprecated and will raise an error in a future version of pandas. Value 'RSI Upmove' has dtype incompatible with float64, please explicitly cast to a compatible dtype first.\n",
      "  tradebook_short.loc[\n"
     ]
    },
    {
     "name": "stdout",
     "output_type": "stream",
     "text": [
      "        Total ROI Total Trades Win Rate Avg Profit% per Trade Avg Loss% per Trade Max Drawdown ROI/DD Ratio                                Variation\n",
      "2017            0            0      NaN                   NaN                 NaN          NaN          NaN  EMA:10, RSI:24, RSI_MA:10, SL Candles:4\n",
      "2018      44.4763          253  32.4111                4.4094             -1.8544     -64.2081       0.6927  EMA:10, RSI:24, RSI_MA:10, SL Candles:4\n",
      "2019      37.3811          247  33.6032                3.9653             -1.7789     -85.7361       0.4360  EMA:10, RSI:24, RSI_MA:10, SL Candles:4\n",
      "2020     127.0089          257  34.2412                4.5207             -1.6025     -32.4325       3.9161  EMA:10, RSI:24, RSI_MA:10, SL Candles:4\n",
      "2021      38.7081          259  31.6602                4.5780             -1.9022     -48.9470       0.7908  EMA:10, RSI:24, RSI_MA:10, SL Candles:4\n",
      "2022     -44.0370          280  32.8571                4.0663             -2.2241    -133.1160      -0.3308  EMA:10, RSI:24, RSI_MA:10, SL Candles:4\n",
      "2023     -58.9770          279  30.4659                3.9990             -2.0561    -106.6623      -0.5529  EMA:10, RSI:24, RSI_MA:10, SL Candles:4\n",
      "2024      25.5934          245  27.7551                5.4233             -1.9389     -97.2684       0.2631  EMA:10, RSI:24, RSI_MA:10, SL Candles:4\n",
      "2025      21.3321           15  53.3333                4.3894             -1.9690      -4.0435       5.2757  EMA:10, RSI:24, RSI_MA:10, SL Candles:4\n",
      "Overall  191.4858         1835  32.0436                4.3909             -1.9169    -182.9816       1.0465  EMA:10, RSI:24, RSI_MA:10, SL Candles:4\n",
      "EMA:10, RSI:24, RSI_MA:10, SL Candles:6\n"
     ]
    },
    {
     "name": "stderr",
     "output_type": "stream",
     "text": [
      "/tmp/ipykernel_33520/419236688.py:151: FutureWarning: Setting an item of incompatible dtype is deprecated and will raise an error in a future version of pandas. Value 'RSI Upmove' has dtype incompatible with float64, please explicitly cast to a compatible dtype first.\n",
      "  tradebook_short.loc[\n"
     ]
    },
    {
     "name": "stdout",
     "output_type": "stream",
     "text": [
      "        Total ROI Total Trades Win Rate Avg Profit% per Trade Avg Loss% per Trade Max Drawdown ROI/DD Ratio                                Variation\n",
      "2017            0            0      NaN                   NaN                 NaN          NaN          NaN  EMA:10, RSI:24, RSI_MA:10, SL Candles:6\n",
      "2018      14.8162          250  32.8000                3.6735             -1.7048     -66.6218       0.2224  EMA:10, RSI:24, RSI_MA:10, SL Candles:6\n",
      "2019      41.0230          246  34.1463                3.5825             -1.6044     -73.5004       0.5581  EMA:10, RSI:24, RSI_MA:10, SL Candles:6\n",
      "2020     105.6960          256  34.3750                3.8946             -1.4109     -25.2132       4.1921  EMA:10, RSI:24, RSI_MA:10, SL Candles:6\n",
      "2021      24.9374          258  31.7829                3.8478             -1.6510     -41.7701       0.5970  EMA:10, RSI:24, RSI_MA:10, SL Candles:6\n",
      "2022     -37.2117          280  32.8571                3.6582             -1.9881    -118.4822      -0.3141  EMA:10, RSI:24, RSI_MA:10, SL Candles:6\n",
      "2023     -76.9652          278  30.5755                3.2058             -1.8107     -98.0372      -0.7851  EMA:10, RSI:24, RSI_MA:10, SL Candles:6\n",
      "2024      29.7767          244  27.8689                4.8218             -1.6938     -82.6511       0.3603  EMA:10, RSI:24, RSI_MA:10, SL Candles:6\n",
      "2025      19.8792           15  53.3333                4.0509             -1.7897      -4.0435       4.9164  EMA:10, RSI:24, RSI_MA:10, SL Candles:6\n",
      "Overall  121.9515         1827  32.2386                3.7856             -1.7026    -184.6510       0.6604  EMA:10, RSI:24, RSI_MA:10, SL Candles:6\n",
      "EMA:10, RSI:24, RSI_MA:10, SL Candles:8\n"
     ]
    },
    {
     "name": "stderr",
     "output_type": "stream",
     "text": [
      "/tmp/ipykernel_33520/419236688.py:151: FutureWarning: Setting an item of incompatible dtype is deprecated and will raise an error in a future version of pandas. Value 'RSI Upmove' has dtype incompatible with float64, please explicitly cast to a compatible dtype first.\n",
      "  tradebook_short.loc[\n"
     ]
    },
    {
     "name": "stdout",
     "output_type": "stream",
     "text": [
      "        Total ROI Total Trades Win Rate Avg Profit% per Trade Avg Loss% per Trade Max Drawdown ROI/DD Ratio                                Variation\n",
      "2017            0            0      NaN                   NaN                 NaN          NaN          NaN  EMA:10, RSI:24, RSI_MA:10, SL Candles:8\n",
      "2018       8.7921          250  32.8000                3.2986             -1.5577     -64.7094       0.1359  EMA:10, RSI:24, RSI_MA:10, SL Candles:8\n",
      "2019      27.6880          246  34.1463                3.2248             -1.5012     -63.8326       0.4338  EMA:10, RSI:24, RSI_MA:10, SL Candles:8\n",
      "2020      73.6483          256  34.3750                3.3881             -1.3363     -29.1593       2.5257  EMA:10, RSI:24, RSI_MA:10, SL Candles:8\n",
      "2021      26.0190          258  31.7829                3.5019             -1.4838     -40.5756       0.6412  EMA:10, RSI:24, RSI_MA:10, SL Candles:8\n",
      "2022     -35.0538          280  32.8571                3.3403             -1.8211    -106.9725      -0.3277  EMA:10, RSI:24, RSI_MA:10, SL Candles:8\n",
      "2023     -41.1652          276  30.7971                2.9973             -1.5494     -68.0115      -0.6053  EMA:10, RSI:24, RSI_MA:10, SL Candles:8\n",
      "2024      30.2560          244  27.8689                4.3629             -1.5138     -75.2792       0.4019  EMA:10, RSI:24, RSI_MA:10, SL Candles:8\n",
      "2025      20.7358           15  53.3333                4.0026             -1.6121      -4.0435       5.1283  EMA:10, RSI:24, RSI_MA:10, SL Candles:8\n",
      "Overall  110.9202         1825  32.2740                3.4252             -1.5425    -143.0883       0.7752  EMA:10, RSI:24, RSI_MA:10, SL Candles:8\n",
      "EMA:10, RSI:24, RSI_MA:10, SL Candles:10\n"
     ]
    },
    {
     "name": "stderr",
     "output_type": "stream",
     "text": [
      "/tmp/ipykernel_33520/419236688.py:151: FutureWarning: Setting an item of incompatible dtype is deprecated and will raise an error in a future version of pandas. Value 'RSI Upmove' has dtype incompatible with float64, please explicitly cast to a compatible dtype first.\n",
      "  tradebook_short.loc[\n"
     ]
    },
    {
     "name": "stdout",
     "output_type": "stream",
     "text": [
      "        Total ROI Total Trades Win Rate Avg Profit% per Trade Avg Loss% per Trade Max Drawdown ROI/DD Ratio                                 Variation\n",
      "2017            0            0      NaN                   NaN                 NaN          NaN          NaN  EMA:10, RSI:24, RSI_MA:10, SL Candles:10\n",
      "2018      16.1217          250  32.8000                3.0985             -1.4164     -55.7360       0.2893  EMA:10, RSI:24, RSI_MA:10, SL Candles:10\n",
      "2019      16.4575          245  34.2857                2.9142             -1.4182     -61.5074       0.2676  EMA:10, RSI:24, RSI_MA:10, SL Candles:10\n",
      "2020      76.7294          256  34.3750                3.2614             -1.2517     -26.9214       2.8501  EMA:10, RSI:24, RSI_MA:10, SL Candles:10\n",
      "2021      29.4102          258  31.7829                3.3431             -1.3905     -40.6980       0.7226  EMA:10, RSI:24, RSI_MA:10, SL Candles:10\n",
      "2022     -39.3537          280  32.8571                3.0903             -1.7216     -96.5250      -0.4077  EMA:10, RSI:24, RSI_MA:10, SL Candles:10\n",
      "2023     -26.5886          273  31.5018                2.7367             -1.4008     -55.4442      -0.4796  EMA:10, RSI:24, RSI_MA:10, SL Candles:10\n",
      "2024      34.3266          244  27.8689                4.1994             -1.4275     -74.6951       0.4596  EMA:10, RSI:24, RSI_MA:10, SL Candles:10\n",
      "2025      21.1260           15  53.3333                3.9939             -1.5464      -4.0435       5.2247  EMA:10, RSI:24, RSI_MA:10, SL Candles:10\n",
      "Overall  128.2290         1821  32.3998                3.2156             -1.4370    -119.5343       1.0727  EMA:10, RSI:24, RSI_MA:10, SL Candles:10\n",
      "EMA:10, RSI:24, RSI_MA:15, SL Candles:2\n"
     ]
    },
    {
     "name": "stderr",
     "output_type": "stream",
     "text": [
      "/tmp/ipykernel_33520/419236688.py:123: FutureWarning: Setting an item of incompatible dtype is deprecated and will raise an error in a future version of pandas. Value 'Initial SL Hit' has dtype incompatible with float64, please explicitly cast to a compatible dtype first.\n",
      "  tradebook_short.loc[\n"
     ]
    },
    {
     "name": "stdout",
     "output_type": "stream",
     "text": [
      "        Total ROI Total Trades Win Rate Avg Profit% per Trade Avg Loss% per Trade Max Drawdown ROI/DD Ratio                                Variation\n",
      "2017            0            0      NaN                   NaN                 NaN          NaN          NaN  EMA:10, RSI:24, RSI_MA:15, SL Candles:2\n",
      "2018     -32.9789          226  30.5310                4.6104             -2.2363     -73.3647      -0.4495  EMA:10, RSI:24, RSI_MA:15, SL Candles:2\n",
      "2019      -2.4440          223  31.8386                4.5139             -2.1245    -101.9063      -0.0240  EMA:10, RSI:24, RSI_MA:15, SL Candles:2\n",
      "2020      65.4087          226  31.8584                5.4853             -2.1398     -63.9094       1.0235  EMA:10, RSI:24, RSI_MA:15, SL Candles:2\n",
      "2021      27.2056          243  30.8642                5.7971             -2.4261     -74.3959       0.3657  EMA:10, RSI:24, RSI_MA:15, SL Candles:2\n",
      "2022      19.0425          240  27.9167                6.5332             -2.4201    -121.8432       0.1563  EMA:10, RSI:24, RSI_MA:15, SL Candles:2\n",
      "2023      15.9859          245  27.3469                6.6242             -2.4036    -124.4510       0.1285  EMA:10, RSI:24, RSI_MA:15, SL Candles:2\n",
      "2024      -5.2740          238  24.3697                7.1360             -2.3287    -156.3641      -0.0337  EMA:10, RSI:24, RSI_MA:15, SL Candles:2\n",
      "2025      14.6148           12  33.3333                7.3154             -1.8308      -3.2024       4.5637  EMA:10, RSI:24, RSI_MA:15, SL Candles:2\n",
      "Overall  101.5607         1653  29.2196                5.7827             -2.3004    -186.3861       0.5449  EMA:10, RSI:24, RSI_MA:15, SL Candles:2\n",
      "EMA:10, RSI:24, RSI_MA:15, SL Candles:4\n"
     ]
    },
    {
     "name": "stderr",
     "output_type": "stream",
     "text": [
      "/tmp/ipykernel_33520/419236688.py:151: FutureWarning: Setting an item of incompatible dtype is deprecated and will raise an error in a future version of pandas. Value 'RSI Upmove' has dtype incompatible with float64, please explicitly cast to a compatible dtype first.\n",
      "  tradebook_short.loc[\n"
     ]
    },
    {
     "name": "stdout",
     "output_type": "stream",
     "text": [
      "        Total ROI Total Trades Win Rate Avg Profit% per Trade Avg Loss% per Trade Max Drawdown ROI/DD Ratio                                Variation\n",
      "2017            0            0      NaN                   NaN                 NaN          NaN          NaN  EMA:10, RSI:24, RSI_MA:15, SL Candles:4\n",
      "2018     -16.1230          224  31.2500                3.7605             -1.8140     -48.8713      -0.3299  EMA:10, RSI:24, RSI_MA:15, SL Candles:4\n",
      "2019      -2.2038          222  31.9820                3.8545             -1.8270     -92.1174      -0.0239  EMA:10, RSI:24, RSI_MA:15, SL Candles:4\n",
      "2020      64.5512          224  32.1429                4.6196             -1.7636     -56.3286       1.1460  EMA:10, RSI:24, RSI_MA:15, SL Candles:4\n",
      "2021      39.4907          241  30.7054                5.1378             -2.0401     -58.9535       0.6699  EMA:10, RSI:24, RSI_MA:15, SL Candles:4\n",
      "2022     -34.3571          236  28.3898                4.8402             -2.1222    -132.0457      -0.2602  EMA:10, RSI:24, RSI_MA:15, SL Candles:4\n",
      "2023      44.2535          242  28.0992                5.8030             -2.0135    -104.2606       0.4245  EMA:10, RSI:24, RSI_MA:15, SL Candles:4\n",
      "2024      32.9943          236  24.5763                6.5356             -1.9442    -102.3863       0.3223  EMA:10, RSI:24, RSI_MA:15, SL Candles:4\n",
      "2025       9.2262           12  33.3333                5.6391             -1.6663      -3.1347       2.9432  EMA:10, RSI:24, RSI_MA:15, SL Candles:4\n",
      "Overall  137.8321         1637  29.5663                4.8972             -1.9362    -132.0457       1.0438  EMA:10, RSI:24, RSI_MA:15, SL Candles:4\n",
      "EMA:10, RSI:24, RSI_MA:15, SL Candles:6\n"
     ]
    },
    {
     "name": "stderr",
     "output_type": "stream",
     "text": [
      "/tmp/ipykernel_33520/419236688.py:151: FutureWarning: Setting an item of incompatible dtype is deprecated and will raise an error in a future version of pandas. Value 'RSI Upmove' has dtype incompatible with float64, please explicitly cast to a compatible dtype first.\n",
      "  tradebook_short.loc[\n"
     ]
    },
    {
     "name": "stdout",
     "output_type": "stream",
     "text": [
      "        Total ROI Total Trades Win Rate Avg Profit% per Trade Avg Loss% per Trade Max Drawdown ROI/DD Ratio                                Variation\n",
      "2017            0            0      NaN                   NaN                 NaN          NaN          NaN  EMA:10, RSI:24, RSI_MA:15, SL Candles:6\n",
      "2018     -22.4890          222  31.5315                3.3515             -1.6914     -55.8740      -0.4025  EMA:10, RSI:24, RSI_MA:15, SL Candles:6\n",
      "2019       3.4983          221  32.1267                3.5400             -1.6523     -83.2838       0.0420  EMA:10, RSI:24, RSI_MA:15, SL Candles:6\n",
      "2020      43.5668          222  32.4324                3.8395             -1.5525     -43.5075       1.0014  EMA:10, RSI:24, RSI_MA:15, SL Candles:6\n",
      "2021      34.2910          241  30.7054                4.5603             -1.8154     -56.7808       0.6039  EMA:10, RSI:24, RSI_MA:15, SL Candles:6\n",
      "2022     -37.7908          236  28.3898                4.2318             -1.9013    -122.8928      -0.3075  EMA:10, RSI:24, RSI_MA:15, SL Candles:6\n",
      "2023     -21.7105          241  28.2158                4.2279             -1.7873     -90.5997      -0.2396  EMA:10, RSI:24, RSI_MA:15, SL Candles:6\n",
      "2024      33.8122          235  24.6809                5.8341             -1.7207     -99.5331       0.3397  EMA:10, RSI:24, RSI_MA:15, SL Candles:6\n",
      "2025       7.5918           12  33.3333                5.1835             -1.6428      -3.1347       2.4218  EMA:10, RSI:24, RSI_MA:15, SL Candles:6\n",
      "Overall   40.7699         1630  29.6933                4.1942             -1.7358    -158.4193       0.2574  EMA:10, RSI:24, RSI_MA:15, SL Candles:6\n",
      "EMA:10, RSI:24, RSI_MA:15, SL Candles:8\n"
     ]
    },
    {
     "name": "stderr",
     "output_type": "stream",
     "text": [
      "/tmp/ipykernel_33520/419236688.py:151: FutureWarning: Setting an item of incompatible dtype is deprecated and will raise an error in a future version of pandas. Value 'RSI Upmove' has dtype incompatible with float64, please explicitly cast to a compatible dtype first.\n",
      "  tradebook_short.loc[\n"
     ]
    },
    {
     "name": "stdout",
     "output_type": "stream",
     "text": [
      "        Total ROI Total Trades Win Rate Avg Profit% per Trade Avg Loss% per Trade Max Drawdown ROI/DD Ratio                                Variation\n",
      "2017            0            0      NaN                   NaN                 NaN          NaN          NaN  EMA:10, RSI:24, RSI_MA:15, SL Candles:8\n",
      "2018     -23.3048          221  31.6742                2.9446             -1.5194     -63.2954      -0.3682  EMA:10, RSI:24, RSI_MA:15, SL Candles:8\n",
      "2019      -1.7285          221  32.1267                3.1290             -1.4926     -72.3026      -0.0239  EMA:10, RSI:24, RSI_MA:15, SL Candles:8\n",
      "2020      26.2672          222  32.4324                3.3699             -1.4424     -43.8910       0.5985  EMA:10, RSI:24, RSI_MA:15, SL Candles:8\n",
      "2021      32.0591          241  30.7054                4.1334             -1.6396     -62.1039       0.5162  EMA:10, RSI:24, RSI_MA:15, SL Candles:8\n",
      "2022     -20.0061          236  28.3898                3.9810             -1.6966    -104.4301      -0.1916  EMA:10, RSI:24, RSI_MA:15, SL Candles:8\n",
      "2023       1.3044          238  28.5714                3.7373             -1.4872     -72.1405       0.0181  EMA:10, RSI:24, RSI_MA:15, SL Candles:8\n",
      "2024      42.5837          235  24.6809                5.3402             -1.5093     -88.0070       0.4839  EMA:10, RSI:24, RSI_MA:15, SL Candles:8\n",
      "2025       7.3416           12  33.3333                4.9374             -1.5510      -3.1281       2.3470  EMA:10, RSI:24, RSI_MA:15, SL Candles:8\n",
      "Overall   64.5165         1626  29.7663                3.7751             -1.5434    -104.4301       0.6178  EMA:10, RSI:24, RSI_MA:15, SL Candles:8\n",
      "EMA:10, RSI:24, RSI_MA:15, SL Candles:10\n"
     ]
    },
    {
     "name": "stderr",
     "output_type": "stream",
     "text": [
      "/tmp/ipykernel_33520/419236688.py:151: FutureWarning: Setting an item of incompatible dtype is deprecated and will raise an error in a future version of pandas. Value 'RSI Upmove' has dtype incompatible with float64, please explicitly cast to a compatible dtype first.\n",
      "  tradebook_short.loc[\n"
     ]
    },
    {
     "name": "stdout",
     "output_type": "stream",
     "text": [
      "        Total ROI Total Trades Win Rate Avg Profit% per Trade Avg Loss% per Trade Max Drawdown ROI/DD Ratio                                 Variation\n",
      "2017            0            0      NaN                   NaN                 NaN          NaN          NaN  EMA:10, RSI:24, RSI_MA:15, SL Candles:10\n",
      "2018     -16.5016          221  31.6742                2.7249             -1.3725     -56.1818      -0.2937  EMA:10, RSI:24, RSI_MA:15, SL Candles:10\n",
      "2019     -13.0700          220  32.2727                2.6860             -1.3676     -69.7353      -0.1874  EMA:10, RSI:24, RSI_MA:15, SL Candles:10\n",
      "2020      39.2891          222  32.4324                3.2934             -1.3189     -37.6784       1.0427  EMA:10, RSI:24, RSI_MA:15, SL Candles:10\n",
      "2021      39.2860          241  30.7054                3.8533             -1.4722     -53.3324       0.7366  EMA:10, RSI:24, RSI_MA:15, SL Candles:10\n",
      "2022     -53.8686          236  28.3898                3.2046             -1.5892     -97.8777      -0.5504  EMA:10, RSI:24, RSI_MA:15, SL Candles:10\n",
      "2023       1.9388          236  29.2373                3.1422             -1.2867     -56.1146       0.0346  EMA:10, RSI:24, RSI_MA:15, SL Candles:10\n",
      "2024      43.3820          235  24.6809                5.0801             -1.4196     -86.8988       0.4992  EMA:10, RSI:24, RSI_MA:15, SL Candles:10\n",
      "2025       7.7440           12  33.3333                4.9374             -1.5007      -3.1281       2.4756  EMA:10, RSI:24, RSI_MA:15, SL Candles:10\n",
      "Overall   48.1997         1623  29.8829                3.4013             -1.4072     -97.8777       0.4924  EMA:10, RSI:24, RSI_MA:15, SL Candles:10\n",
      "EMA:10, RSI:24, RSI_MA:20, SL Candles:2\n"
     ]
    },
    {
     "name": "stderr",
     "output_type": "stream",
     "text": [
      "/tmp/ipykernel_33520/419236688.py:137: FutureWarning: Setting an item of incompatible dtype is deprecated and will raise an error in a future version of pandas. Value 'Trailing SL Hit' has dtype incompatible with float64, please explicitly cast to a compatible dtype first.\n",
      "  tradebook_short.loc[\n"
     ]
    },
    {
     "name": "stdout",
     "output_type": "stream",
     "text": [
      "        Total ROI Total Trades Win Rate Avg Profit% per Trade Avg Loss% per Trade Max Drawdown ROI/DD Ratio                                Variation\n",
      "2017            0            0      NaN                   NaN                 NaN          NaN          NaN  EMA:10, RSI:24, RSI_MA:20, SL Candles:2\n",
      "2018     -46.6908          212  30.6604                4.5703             -2.3385     -63.0378      -0.7407  EMA:10, RSI:24, RSI_MA:20, SL Candles:2\n",
      "2019     -71.0791          226  29.6460                4.2695             -2.2461     -85.6628      -0.8298  EMA:10, RSI:24, RSI_MA:20, SL Candles:2\n",
      "2020      99.6513          218  28.4404                6.9986             -2.1427     -48.9745       2.0348  EMA:10, RSI:24, RSI_MA:20, SL Candles:2\n",
      "2021      41.6661          236  30.0847                6.4847             -2.5379     -96.7089       0.4308  EMA:10, RSI:24, RSI_MA:20, SL Candles:2\n",
      "2022     -58.7165          247  24.2915                6.3844             -2.3625    -143.8687      -0.4081  EMA:10, RSI:24, RSI_MA:20, SL Candles:2\n",
      "2023      68.2678          233  27.0386                7.8323             -2.5010    -111.4440       0.6126  EMA:10, RSI:24, RSI_MA:20, SL Candles:2\n",
      "2024     -24.0488          223  25.1121                6.6995             -2.3905    -161.1154      -0.1493  EMA:10, RSI:24, RSI_MA:20, SL Candles:2\n",
      "2025       1.7197           11  45.4545                4.1733             -3.1911     -13.4949       0.1274  EMA:10, RSI:24, RSI_MA:20, SL Candles:2\n",
      "Overall   10.7697         1606  27.9577                6.1247             -2.3675    -206.7099       0.0521  EMA:10, RSI:24, RSI_MA:20, SL Candles:2\n",
      "EMA:10, RSI:24, RSI_MA:20, SL Candles:4\n"
     ]
    },
    {
     "name": "stderr",
     "output_type": "stream",
     "text": [
      "/tmp/ipykernel_33520/419236688.py:137: FutureWarning: Setting an item of incompatible dtype is deprecated and will raise an error in a future version of pandas. Value 'Trailing SL Hit' has dtype incompatible with float64, please explicitly cast to a compatible dtype first.\n",
      "  tradebook_short.loc[\n"
     ]
    },
    {
     "name": "stdout",
     "output_type": "stream",
     "text": [
      "        Total ROI Total Trades Win Rate Avg Profit% per Trade Avg Loss% per Trade Max Drawdown ROI/DD Ratio                                Variation\n",
      "2017            0            0      NaN                   NaN                 NaN          NaN          NaN  EMA:10, RSI:24, RSI_MA:20, SL Candles:4\n",
      "2018     -28.6279          209  31.5789                3.7430             -1.9277     -45.6680      -0.6269  EMA:10, RSI:24, RSI_MA:20, SL Candles:4\n",
      "2019     -64.6368          224  29.9107                3.6655             -1.9760     -76.3732      -0.8463  EMA:10, RSI:24, RSI_MA:20, SL Candles:4\n",
      "2020      72.5923          214  28.5047                5.6347             -1.7721     -41.4718       1.7504  EMA:10, RSI:24, RSI_MA:20, SL Candles:4\n",
      "2021      52.5534          235  30.2128                5.7603             -2.1733     -76.3536       0.6883  EMA:10, RSI:24, RSI_MA:20, SL Candles:4\n",
      "2022    -101.9165          243  24.6914                4.6238             -2.0729    -160.2165      -0.6361  EMA:10, RSI:24, RSI_MA:20, SL Candles:4\n",
      "2023      58.9373          230  27.8261                6.5789             -2.1814    -107.2848       0.5494  EMA:10, RSI:24, RSI_MA:20, SL Candles:4\n",
      "2024      25.6416          220  25.4545                6.2931             -1.9925     -93.1503       0.2753  EMA:10, RSI:24, RSI_MA:20, SL Candles:4\n",
      "2025       1.0964           11  45.4545                4.0042             -3.1541     -13.2727       0.0826  EMA:10, RSI:24, RSI_MA:20, SL Candles:4\n",
      "Overall   15.6399         1586  28.3733                5.1472             -2.0252    -160.2165       0.0976  EMA:10, RSI:24, RSI_MA:20, SL Candles:4\n",
      "EMA:10, RSI:24, RSI_MA:20, SL Candles:6\n"
     ]
    },
    {
     "name": "stderr",
     "output_type": "stream",
     "text": [
      "/tmp/ipykernel_33520/419236688.py:137: FutureWarning: Setting an item of incompatible dtype is deprecated and will raise an error in a future version of pandas. Value 'Trailing SL Hit' has dtype incompatible with float64, please explicitly cast to a compatible dtype first.\n",
      "  tradebook_short.loc[\n"
     ]
    },
    {
     "name": "stdout",
     "output_type": "stream",
     "text": [
      "EMA:10, RSI:24, RSI_MA:20, SL Candles:8\n"
     ]
    },
    {
     "name": "stderr",
     "output_type": "stream",
     "text": [
      "/tmp/ipykernel_33520/419236688.py:137: FutureWarning: Setting an item of incompatible dtype is deprecated and will raise an error in a future version of pandas. Value 'Trailing SL Hit' has dtype incompatible with float64, please explicitly cast to a compatible dtype first.\n",
      "  tradebook_short.loc[\n"
     ]
    },
    {
     "name": "stdout",
     "output_type": "stream",
     "text": [
      "EMA:10, RSI:24, RSI_MA:20, SL Candles:10\n"
     ]
    },
    {
     "name": "stderr",
     "output_type": "stream",
     "text": [
      "/tmp/ipykernel_33520/419236688.py:137: FutureWarning: Setting an item of incompatible dtype is deprecated and will raise an error in a future version of pandas. Value 'Trailing SL Hit' has dtype incompatible with float64, please explicitly cast to a compatible dtype first.\n",
      "  tradebook_short.loc[\n"
     ]
    },
    {
     "name": "stdout",
     "output_type": "stream",
     "text": [
      "EMA:10, RSI:24, RSI_MA:25, SL Candles:2\n"
     ]
    },
    {
     "name": "stderr",
     "output_type": "stream",
     "text": [
      "/tmp/ipykernel_33520/419236688.py:84: FutureWarning: Setting an item of incompatible dtype is deprecated and will raise an error in a future version of pandas. Value 'Gap' has dtype incompatible with float64, please explicitly cast to a compatible dtype first.\n",
      "  tradebook_short.loc[\n"
     ]
    },
    {
     "name": "stdout",
     "output_type": "stream",
     "text": [
      "        Total ROI Total Trades Win Rate Avg Profit% per Trade Avg Loss% per Trade Max Drawdown ROI/DD Ratio                                Variation\n",
      "2017            0            0      NaN                   NaN                 NaN          NaN          NaN  EMA:10, RSI:24, RSI_MA:25, SL Candles:2\n",
      "2018     -38.9391          215  30.6977                4.9310             -2.4456     -57.7932      -0.6738  EMA:10, RSI:24, RSI_MA:25, SL Candles:2\n",
      "2019     -69.1541          228  27.1930                4.7266             -2.1819    -110.5551      -0.6255  EMA:10, RSI:24, RSI_MA:25, SL Candles:2\n",
      "2020     111.8334          212  31.1321                6.6250             -2.2289     -41.4888       2.6955  EMA:10, RSI:24, RSI_MA:25, SL Candles:2\n",
      "2021      36.4771          225  31.1111                5.7761             -2.3732     -64.8809       0.5622  EMA:10, RSI:24, RSI_MA:25, SL Candles:2\n",
      "2022      -4.2761          244  26.2295                6.3182             -2.2702     -90.9748      -0.0470  EMA:10, RSI:24, RSI_MA:25, SL Candles:2\n",
      "2023      52.2936          235  27.2340                7.6732             -2.5660    -128.7430       0.4062  EMA:10, RSI:24, RSI_MA:25, SL Candles:2\n",
      "2024     -49.8878          222  26.1261                6.0474             -2.4429    -162.5952      -0.3068  EMA:10, RSI:24, RSI_MA:25, SL Candles:2\n",
      "2025       6.8088           10  40.0000                3.7249             -1.3485      -1.8809       3.6200  EMA:10, RSI:24, RSI_MA:25, SL Candles:2\n",
      "Overall   45.1558         1591  28.5355                5.9938             -2.3536    -232.1862       0.1945  EMA:10, RSI:24, RSI_MA:25, SL Candles:2\n",
      "EMA:10, RSI:24, RSI_MA:25, SL Candles:4\n"
     ]
    },
    {
     "name": "stderr",
     "output_type": "stream",
     "text": [
      "/tmp/ipykernel_33520/419236688.py:84: FutureWarning: Setting an item of incompatible dtype is deprecated and will raise an error in a future version of pandas. Value 'Gap' has dtype incompatible with float64, please explicitly cast to a compatible dtype first.\n",
      "  tradebook_short.loc[\n"
     ]
    },
    {
     "name": "stdout",
     "output_type": "stream",
     "text": [
      "        Total ROI Total Trades Win Rate Avg Profit% per Trade Avg Loss% per Trade Max Drawdown ROI/DD Ratio                                Variation\n",
      "2017            0            0      NaN                   NaN                 NaN          NaN          NaN  EMA:10, RSI:24, RSI_MA:25, SL Candles:4\n",
      "2018     -36.9851          213  30.9859                4.1009             -2.0928     -49.9074      -0.7411  EMA:10, RSI:24, RSI_MA:25, SL Candles:4\n",
      "2019     -52.9721          227  27.3128                4.2774             -1.9283     -96.2826      -0.5502  EMA:10, RSI:24, RSI_MA:25, SL Candles:4\n",
      "2020      74.1945          208  31.2500                5.2232             -1.8553     -35.6729       2.0799  EMA:10, RSI:24, RSI_MA:25, SL Candles:4\n",
      "2021      37.9615          223  31.3901                4.9780             -2.0294     -49.5045       0.7668  EMA:10, RSI:24, RSI_MA:25, SL Candles:4\n",
      "2022     -54.7183          240  26.6667                4.6228             -1.9919    -107.3869      -0.5095  EMA:10, RSI:24, RSI_MA:25, SL Candles:4\n",
      "2023      52.2722          230  27.8261                6.5888             -2.2254    -121.6394       0.4297  EMA:10, RSI:24, RSI_MA:25, SL Candles:4\n",
      "2024     -23.8895          219  26.4840                5.4491             -2.1114    -105.9681      -0.2254  EMA:10, RSI:24, RSI_MA:25, SL Candles:4\n",
      "2025       6.2171           10  40.0000                3.5095             -1.3035      -1.6587       3.7483  EMA:10, RSI:24, RSI_MA:25, SL Candles:4\n",
      "Overall    2.0803         1570  28.8535                5.0142             -2.0317    -169.4633       0.0123  EMA:10, RSI:24, RSI_MA:25, SL Candles:4\n",
      "EMA:10, RSI:24, RSI_MA:25, SL Candles:6\n"
     ]
    },
    {
     "name": "stderr",
     "output_type": "stream",
     "text": [
      "/tmp/ipykernel_33520/419236688.py:123: FutureWarning: Setting an item of incompatible dtype is deprecated and will raise an error in a future version of pandas. Value 'Initial SL Hit' has dtype incompatible with float64, please explicitly cast to a compatible dtype first.\n",
      "  tradebook_short.loc[\n"
     ]
    },
    {
     "name": "stdout",
     "output_type": "stream",
     "text": [
      "        Total ROI Total Trades Win Rate Avg Profit% per Trade Avg Loss% per Trade Max Drawdown ROI/DD Ratio                                Variation\n",
      "2017            0            0      NaN                   NaN                 NaN          NaN          NaN  EMA:10, RSI:24, RSI_MA:25, SL Candles:6\n",
      "2018     -38.4225          212  31.1321                3.6513             -1.9138     -50.3632      -0.7629  EMA:10, RSI:24, RSI_MA:25, SL Candles:6\n",
      "2019     -33.6602          226  27.4336                4.1517             -1.7748     -83.5729      -0.4028  EMA:10, RSI:24, RSI_MA:25, SL Candles:6\n",
      "2020      83.5919          207  31.4010                4.8170             -1.6163     -33.4895       2.4961  EMA:10, RSI:24, RSI_MA:25, SL Candles:6\n",
      "2021      41.6255          223  31.3901                4.6388             -1.8503     -49.0923       0.8479  EMA:10, RSI:24, RSI_MA:25, SL Candles:6\n",
      "2022     -31.7358          240  26.6667                4.3892             -1.7764     -89.4448      -0.3548  EMA:10, RSI:24, RSI_MA:25, SL Candles:6\n",
      "2023       3.0028          229  27.9476                5.1364             -1.9741    -106.7406       0.0281  EMA:10, RSI:24, RSI_MA:25, SL Candles:6\n",
      "2024     -16.5755          218  26.6055                4.7662             -1.8313    -101.2472      -0.1637  EMA:10, RSI:24, RSI_MA:25, SL Candles:6\n",
      "2025       5.0118           10  40.0000                3.0018             -1.1659      -1.3409       3.7375  EMA:10, RSI:24, RSI_MA:25, SL Candles:6\n",
      "Overall   12.8380         1565  28.9457                4.4907             -1.8179    -144.6077       0.0888  EMA:10, RSI:24, RSI_MA:25, SL Candles:6\n",
      "EMA:10, RSI:24, RSI_MA:25, SL Candles:8\n"
     ]
    },
    {
     "name": "stderr",
     "output_type": "stream",
     "text": [
      "/tmp/ipykernel_33520/419236688.py:123: FutureWarning: Setting an item of incompatible dtype is deprecated and will raise an error in a future version of pandas. Value 'Initial SL Hit' has dtype incompatible with float64, please explicitly cast to a compatible dtype first.\n",
      "  tradebook_short.loc[\n"
     ]
    },
    {
     "name": "stdout",
     "output_type": "stream",
     "text": [
      "        Total ROI Total Trades Win Rate Avg Profit% per Trade Avg Loss% per Trade Max Drawdown ROI/DD Ratio                                Variation\n",
      "2017            0            0      NaN                   NaN                 NaN          NaN          NaN  EMA:10, RSI:24, RSI_MA:25, SL Candles:8\n",
      "2018     -39.9997          211  31.2796                3.2740             -1.7661     -49.4209      -0.8094  EMA:10, RSI:24, RSI_MA:25, SL Candles:8\n",
      "2019     -28.8443          226  27.4336                3.8228             -1.6211     -73.3442      -0.3933  EMA:10, RSI:24, RSI_MA:25, SL Candles:8\n",
      "2020      68.9695          207  31.4010                4.3083             -1.4864     -38.2205       1.8045  EMA:10, RSI:24, RSI_MA:25, SL Candles:8\n",
      "2021      36.9635          223  31.3901                4.1040             -1.6361     -61.4487       0.6015  EMA:10, RSI:24, RSI_MA:25, SL Candles:8\n",
      "2022     -20.0057          240  26.6667                4.1157             -1.6103     -74.0524      -0.2702  EMA:10, RSI:24, RSI_MA:25, SL Candles:8\n",
      "2023      -3.5585          227  28.1938                4.2744             -1.7001     -91.8105      -0.0388  EMA:10, RSI:24, RSI_MA:25, SL Candles:8\n",
      "2024     -12.0902          218  26.6055                4.3442             -1.6503     -93.8565      -0.1288  EMA:10, RSI:24, RSI_MA:25, SL Candles:8\n",
      "2025       4.8169           10  40.0000                2.9141             -1.1399      -1.3406       3.5930  EMA:10, RSI:24, RSI_MA:25, SL Candles:8\n",
      "Overall    6.2514         1562  29.0013                4.0199             -1.6364    -149.7688       0.0417  EMA:10, RSI:24, RSI_MA:25, SL Candles:8\n",
      "EMA:10, RSI:24, RSI_MA:25, SL Candles:10\n"
     ]
    },
    {
     "name": "stderr",
     "output_type": "stream",
     "text": [
      "/tmp/ipykernel_33520/419236688.py:123: FutureWarning: Setting an item of incompatible dtype is deprecated and will raise an error in a future version of pandas. Value 'Initial SL Hit' has dtype incompatible with float64, please explicitly cast to a compatible dtype first.\n",
      "  tradebook_short.loc[\n"
     ]
    },
    {
     "name": "stdout",
     "output_type": "stream",
     "text": [
      "        Total ROI Total Trades Win Rate Avg Profit% per Trade Avg Loss% per Trade Max Drawdown ROI/DD Ratio                                 Variation\n",
      "2017            0            0      NaN                   NaN                 NaN          NaN          NaN  EMA:10, RSI:24, RSI_MA:25, SL Candles:10\n",
      "2018     -27.8535          210  31.4286                3.0337             -1.5839     -42.1745      -0.6604  EMA:10, RSI:24, RSI_MA:25, SL Candles:10\n",
      "2019     -35.8338          226  27.4336                3.3358             -1.4796     -66.4604      -0.5392  EMA:10, RSI:24, RSI_MA:25, SL Candles:10\n",
      "2020      77.3439          207  31.4010                4.1261             -1.3441     -41.1119       1.8813  EMA:10, RSI:24, RSI_MA:25, SL Candles:10\n",
      "2021      58.7350          222  31.5315                3.9694             -1.4416     -50.0035       1.1746  EMA:10, RSI:24, RSI_MA:25, SL Candles:10\n",
      "2022     -63.7605          240  26.6667                3.1000             -1.4896     -81.0258      -0.7869  EMA:10, RSI:24, RSI_MA:25, SL Candles:10\n",
      "2023      -8.6362          225  28.8889                3.5142             -1.4816     -72.8442      -0.1186  EMA:10, RSI:24, RSI_MA:25, SL Candles:10\n",
      "2024      -0.4765          217  26.7281                4.1532             -1.5180     -86.8340      -0.0055  EMA:10, RSI:24, RSI_MA:25, SL Candles:10\n",
      "2025       4.8169           10  40.0000                2.9141             -1.1399      -1.3406       3.5930  EMA:10, RSI:24, RSI_MA:25, SL Candles:10\n",
      "Overall    4.3352         1557  29.1586                3.5957             -1.4761    -128.6592       0.0337  EMA:10, RSI:24, RSI_MA:25, SL Candles:10\n",
      "EMA:10, RSI:24, RSI_MA:30, SL Candles:2\n"
     ]
    },
    {
     "name": "stderr",
     "output_type": "stream",
     "text": [
      "/tmp/ipykernel_33520/419236688.py:84: FutureWarning: Setting an item of incompatible dtype is deprecated and will raise an error in a future version of pandas. Value 'Gap' has dtype incompatible with float64, please explicitly cast to a compatible dtype first.\n",
      "  tradebook_short.loc[\n"
     ]
    },
    {
     "name": "stdout",
     "output_type": "stream",
     "text": [
      "        Total ROI Total Trades Win Rate Avg Profit% per Trade Avg Loss% per Trade Max Drawdown ROI/DD Ratio                                Variation\n",
      "2017            0            0      NaN                   NaN                 NaN          NaN          NaN  EMA:10, RSI:24, RSI_MA:30, SL Candles:2\n",
      "2018     -38.0070          217  30.4147                4.7888             -2.3448     -55.3215      -0.6870  EMA:10, RSI:24, RSI_MA:30, SL Candles:2\n",
      "2019       7.4682          230  28.2609                5.9806             -2.3107    -103.1873       0.0724  EMA:10, RSI:24, RSI_MA:30, SL Candles:2\n",
      "2020     125.8709          208  35.0962                6.0610             -2.3450     -37.5109       3.3556  EMA:10, RSI:24, RSI_MA:30, SL Candles:2\n",
      "2021      37.5906          222  31.0811                5.7728             -2.3577     -71.7682       0.5238  EMA:10, RSI:24, RSI_MA:30, SL Candles:2\n",
      "2022      10.2755          243  27.1605                6.2144             -2.2592     -93.9964       0.1093  EMA:10, RSI:24, RSI_MA:30, SL Candles:2\n",
      "2023     100.9076          228  24.5614                9.5665             -2.5280    -134.8882       0.7481  EMA:10, RSI:24, RSI_MA:30, SL Candles:2\n",
      "2024     -63.1679          221  25.7919                5.6772             -2.3583    -143.2193      -0.4411  EMA:10, RSI:24, RSI_MA:30, SL Candles:2\n",
      "2025       7.5552           10  40.0000                4.0894             -1.4671      -3.0785       2.4542  EMA:10, RSI:24, RSI_MA:30, SL Candles:2\n",
      "Overall  188.4931         1579  28.8790                6.2092             -2.3534    -176.6594       1.0670  EMA:10, RSI:24, RSI_MA:30, SL Candles:2\n",
      "EMA:10, RSI:24, RSI_MA:30, SL Candles:4\n"
     ]
    },
    {
     "name": "stderr",
     "output_type": "stream",
     "text": [
      "/tmp/ipykernel_33520/419236688.py:84: FutureWarning: Setting an item of incompatible dtype is deprecated and will raise an error in a future version of pandas. Value 'Gap' has dtype incompatible with float64, please explicitly cast to a compatible dtype first.\n",
      "  tradebook_short.loc[\n"
     ]
    },
    {
     "name": "stdout",
     "output_type": "stream",
     "text": [
      "        Total ROI Total Trades Win Rate Avg Profit% per Trade Avg Loss% per Trade Max Drawdown ROI/DD Ratio                                Variation\n",
      "2017            0            0      NaN                   NaN                 NaN          NaN          NaN  EMA:10, RSI:24, RSI_MA:30, SL Candles:4\n",
      "2018     -29.3771          215  30.6977                4.1297             -2.0264     -46.1108      -0.6371  EMA:10, RSI:24, RSI_MA:30, SL Candles:4\n",
      "2019      -6.8849          229  28.3843                4.9902             -2.0198     -88.4548      -0.0778  EMA:10, RSI:24, RSI_MA:30, SL Candles:4\n",
      "2020      86.2643          205  35.1220                4.9014             -2.0048     -32.2989       2.6708  EMA:10, RSI:24, RSI_MA:30, SL Candles:4\n",
      "2021      23.8932          221  31.2217                4.9070             -2.0703     -62.1511       0.3844  EMA:10, RSI:24, RSI_MA:30, SL Candles:4\n",
      "2022     -36.6988          237  27.8481                4.5700             -1.9785    -108.0317      -0.3397  EMA:10, RSI:24, RSI_MA:30, SL Candles:4\n",
      "2023      77.8534          224  25.4464                7.8531             -2.2142    -122.6784       0.6346  EMA:10, RSI:24, RSI_MA:30, SL Candles:4\n",
      "2024     -40.4821          218  26.1468                5.1187             -2.0636    -103.7070      -0.3904  EMA:10, RSI:24, RSI_MA:30, SL Candles:4\n",
      "2025       3.1616           10  40.0000                2.9883             -1.4653      -3.0785       1.0270  EMA:10, RSI:24, RSI_MA:30, SL Candles:4\n",
      "Overall   77.7298         1559  29.2495                5.1346             -2.0523    -179.2699       0.4336  EMA:10, RSI:24, RSI_MA:30, SL Candles:4\n",
      "EMA:10, RSI:24, RSI_MA:30, SL Candles:6\n"
     ]
    },
    {
     "name": "stderr",
     "output_type": "stream",
     "text": [
      "/tmp/ipykernel_33520/419236688.py:123: FutureWarning: Setting an item of incompatible dtype is deprecated and will raise an error in a future version of pandas. Value 'Initial SL Hit' has dtype incompatible with float64, please explicitly cast to a compatible dtype first.\n",
      "  tradebook_short.loc[\n"
     ]
    },
    {
     "name": "stdout",
     "output_type": "stream",
     "text": [
      "EMA:10, RSI:24, RSI_MA:30, SL Candles:8\n"
     ]
    },
    {
     "name": "stderr",
     "output_type": "stream",
     "text": [
      "/tmp/ipykernel_33520/419236688.py:123: FutureWarning: Setting an item of incompatible dtype is deprecated and will raise an error in a future version of pandas. Value 'Initial SL Hit' has dtype incompatible with float64, please explicitly cast to a compatible dtype first.\n",
      "  tradebook_short.loc[\n"
     ]
    },
    {
     "name": "stdout",
     "output_type": "stream",
     "text": [
      "        Total ROI Total Trades Win Rate Avg Profit% per Trade Avg Loss% per Trade Max Drawdown ROI/DD Ratio                                Variation\n",
      "2017            0            0      NaN                   NaN                 NaN          NaN          NaN  EMA:10, RSI:24, RSI_MA:30, SL Candles:8\n",
      "2018     -47.0941          213  30.9859                3.2503             -1.7797     -49.5180      -0.9510  EMA:10, RSI:24, RSI_MA:30, SL Candles:8\n",
      "2019     -10.5057          228  28.5088                4.1038             -1.7009     -64.0643      -0.1640  EMA:10, RSI:24, RSI_MA:30, SL Candles:8\n",
      "2020      80.4653          205  35.1220                4.0989             -1.6139     -35.5770       2.2617  EMA:10, RSI:24, RSI_MA:30, SL Candles:8\n",
      "2021       8.4086          221  31.2217                3.9337             -1.7304     -75.4910       0.1114  EMA:10, RSI:24, RSI_MA:30, SL Candles:8\n",
      "2022     -18.4160          237  27.8481                3.8626             -1.5985     -79.4239      -0.2319  EMA:10, RSI:24, RSI_MA:30, SL Candles:8\n",
      "2023      15.3196          221  25.7919                5.1460             -1.6951     -95.0067       0.1612  EMA:10, RSI:24, RSI_MA:30, SL Candles:8\n",
      "2024     -24.0769          217  26.2673                4.1792             -1.6393     -86.8830      -0.2771  EMA:10, RSI:24, RSI_MA:30, SL Candles:8\n",
      "2025       1.6671           10  40.0000                2.5940             -1.4515      -3.0643       0.5441  EMA:10, RSI:24, RSI_MA:30, SL Candles:8\n",
      "Overall    5.7680         1552  29.3814                4.0453             -1.6778    -151.7398       0.0380  EMA:10, RSI:24, RSI_MA:30, SL Candles:8\n",
      "EMA:10, RSI:24, RSI_MA:30, SL Candles:10\n"
     ]
    },
    {
     "name": "stderr",
     "output_type": "stream",
     "text": [
      "/tmp/ipykernel_33520/419236688.py:123: FutureWarning: Setting an item of incompatible dtype is deprecated and will raise an error in a future version of pandas. Value 'Initial SL Hit' has dtype incompatible with float64, please explicitly cast to a compatible dtype first.\n",
      "  tradebook_short.loc[\n"
     ]
    }
   ],
   "source": [
    "RPT_ = 3\n",
    "stats_dictionary = {}\n",
    "\n",
    "for ema_length in range(10, 81, 5):\n",
    "    for rsi_length in range(6, 37, 3):\n",
    "        for rsi_ma_length in range(5, 36, 5):\n",
    "            for n1 in range(2, 11, 2):\n",
    "                # RPT = 5\n",
    "                variation = f'EMA:{ema_length}, RSI:{rsi_length}, RSI_MA:{rsi_ma_length}, SL Candles:{n1}'\n",
    "                print(variation)\n",
    "                df = bnf_1min\n",
    "                df = calculate_signals(df, ema_length, rsi_length, rsi_ma_length)\n",
    "                tb = backtest(df, n1)\n",
    "                if len(tb) > 0:\n",
    "                    tb = tb.sort_values(by='Entry_Date')\n",
    "                    portfolio = 10000000\n",
    "                    tb['PnL'] = np.where(\n",
    "                        tb['Trade_Type'].isin(['Long', 'Add_Long']),  # For Long and Add_Long\n",
    "                        tb['Exit_Price'] - tb['Entry_Price'],\n",
    "                        np.where(\n",
    "                            tb['Trade_Type'].isin(['short', 'Add_Short']),  # For Short and Add_Short\n",
    "                            tb['Entry_Price'] - tb['Exit_Price'],\n",
    "                            0  # Default case if Trade_Type is something unexpected\n",
    "                        )\n",
    "                    )\n",
    "                    \n",
    "                    tb['Slippage'] = SLIPPAGE_ * (tb['Entry_Price'] + tb['Exit_Price'])\n",
    "                    tb['PnL w cs'] = tb['PnL'] - tb['Slippage']\n",
    "                    tb['Qty'] = abs(RPT_ / 100 * portfolio / (tb['Entry_Price'] - tb['Initial SL']))\n",
    "                    tb['Profit_Loss INR'] = tb['Qty'] * tb['PnL w cs']\n",
    "                    tb['ROI%'] = tb['Profit_Loss INR'] * 100 / portfolio\n",
    "                    tb['Entry_Date'] = pd.to_datetime(tb['Entry_Date'])\n",
    "                    tb['Trade Year'] = tb['Entry_Date'].dt.year\n",
    "                    # tb_long_only = tb[(tb['Trade_Type'] == 'Long') | (tb['Trade_Type'] == 'Add_Long')].copy()\n",
    "                    # tb_long_only['Cumulative_PnL'] = tb_long_only['PnL w cs'].cumsum()\n",
    "                    # tb_short_only = tb[(tb['Trade_Type'] == 'Short') | (tb['Trade_Type'] == 'Add_Short')].copy()\n",
    "                    # tb_short_only['Cumulative_PnL'] = tb_short_only['PnL w cs'].cumsum()\n",
    "                    \n",
    "                    stats1 = generate_stats(tb, variation)\n",
    "                    for x, y in stats1.items():\n",
    "                        if x > 0:\n",
    "                            # print('Long Only')\n",
    "                            print(pd.DataFrame(y).to_string())\n",
    "                            stats_dictionary[x] = y\n",
    "                        break"
   ]
  },
  {
   "cell_type": "code",
   "execution_count": null,
   "id": "4ce67834-5f8d-40a7-a648-53248d33866e",
   "metadata": {},
   "outputs": [],
   "source": []
  }
 ],
 "metadata": {
  "kernelspec": {
   "display_name": "Python 3 (ipykernel)",
   "language": "python",
   "name": "python3"
  },
  "language_info": {
   "codemirror_mode": {
    "name": "ipython",
    "version": 3
   },
   "file_extension": ".py",
   "mimetype": "text/x-python",
   "name": "python",
   "nbconvert_exporter": "python",
   "pygments_lexer": "ipython3",
   "version": "3.11.6"
  }
 },
 "nbformat": 4,
 "nbformat_minor": 5
}
