{
 "cells": [
  {
   "cell_type": "code",
   "execution_count": 1,
   "id": "41ad6590-fa12-4c8a-ab38-d036ffcf633e",
   "metadata": {
    "execution": {
     "iopub.execute_input": "2025-02-12T09:05:35.135191Z",
     "iopub.status.busy": "2025-02-12T09:05:35.134813Z",
     "iopub.status.idle": "2025-02-12T09:05:36.553642Z",
     "shell.execute_reply": "2025-02-12T09:05:36.552325Z",
     "shell.execute_reply.started": "2025-02-12T09:05:35.135149Z"
    }
   },
   "outputs": [],
   "source": [
    "import asyncio\n",
    "import datetime as dt\n",
    "import math\n",
    "from typing import Literal\n",
    "\n",
    "import matplotlib.pyplot as plt\n",
    "import mplfinance as mpf\n",
    "import numpy as np\n",
    "import pandas as pd\n",
    "import pandas_market_calendars as mcal\n",
    "import plotly.graph_objects as go\n",
    "import polars as pl\n",
    "from dash import Dash, dcc, html\n",
    "from plotly.subplots import make_subplots\n",
    "\n",
    "nse = mcal.get_calendar(\"NSE\")"
   ]
  },
  {
   "cell_type": "code",
   "execution_count": 2,
   "id": "6ea93d75-71a6-4639-90a1-e980a39ba28f",
   "metadata": {
    "execution": {
     "iopub.execute_input": "2025-02-12T09:05:36.556594Z",
     "iopub.status.busy": "2025-02-12T09:05:36.555946Z",
     "iopub.status.idle": "2025-02-12T09:05:36.562712Z",
     "shell.execute_reply": "2025-02-12T09:05:36.561165Z",
     "shell.execute_reply.started": "2025-02-12T09:05:36.556571Z"
    }
   },
   "outputs": [],
   "source": [
    "pd.set_option(\"display.max_rows\", 25_000)\n",
    "pd.set_option(\"display.max_columns\", 500)\n",
    "pl.Config.set_tbl_cols(500)\n",
    "pl.Config.set_tbl_rows(10_000)\n",
    "\n",
    "pd.options.display.float_format = \"{:.4f}\".format"
   ]
  },
  {
   "cell_type": "code",
   "execution_count": 3,
   "id": "9f312110-67fb-44df-8ecd-141e16cacc9d",
   "metadata": {
    "execution": {
     "iopub.execute_input": "2025-02-12T09:05:36.564933Z",
     "iopub.status.busy": "2025-02-12T09:05:36.564153Z",
     "iopub.status.idle": "2025-02-12T09:05:36.852998Z",
     "shell.execute_reply": "2025-02-12T09:05:36.851740Z",
     "shell.execute_reply.started": "2025-02-12T09:05:36.564882Z"
    }
   },
   "outputs": [],
   "source": [
    "import sys\n",
    "\n",
    "sys.path.append(\"..\")\n",
    "from tooling.enums import AssetClass, Index, Spot, StrikeSpread\n",
    "from tooling.fetch import fetch_option_data, fetch_spot_data\n",
    "from tooling.filter import find_atm, option_tool"
   ]
  },
  {
   "cell_type": "code",
   "execution_count": 30,
   "id": "68aef94f-ef1c-4c3d-a930-f8cc3b12f891",
   "metadata": {
    "execution": {
     "iopub.execute_input": "2025-02-12T09:06:51.895239Z",
     "iopub.status.busy": "2025-02-12T09:06:51.894441Z",
     "iopub.status.idle": "2025-02-12T09:06:51.917062Z",
     "shell.execute_reply": "2025-02-12T09:06:51.915779Z",
     "shell.execute_reply.started": "2025-02-12T09:06:51.895212Z"
    }
   },
   "outputs": [],
   "source": [
    "async def get_expiry(f_today, index):\n",
    "\n",
    "    if index == 'bnf':    \n",
    "        if (f_today <= dt.date(2024, 1, 25)) and (f_today >= dt.date(2024, 1, 18)):\n",
    "            f_expiry = dt.date(2024, 1, 25)\n",
    "        elif (f_today <= dt.date(2024, 1, 31)) and (f_today >= dt.date(2024, 1, 26)):\n",
    "            f_expiry = dt.date(2024, 1, 31)\n",
    "        elif (f_today <= dt.date(2024, 2, 22)) and (f_today >= dt.date(2024, 2, 29)):\n",
    "            f_expiry = dt.date(2024, 2, 29)\n",
    "        elif (f_today <= dt.date(2024, 3, 25)) and (f_today >= dt.date(2024, 3, 27)):\n",
    "            f_expiry = dt.date(2024, 2, 27)\n",
    "        elif f_today < dt.date(2023, 9, 1):\n",
    "            days_to_thursday = (3 - f_today.weekday()) % 7\n",
    "            nearest_thursday = f_today + dt.timedelta(days=days_to_thursday)\n",
    "            f_expiry = nearest_thursday\n",
    "            if nse.valid_days(start_date=nearest_thursday, end_date=nearest_thursday).empty:\n",
    "                f_expiry = nearest_thursday - dt.timedelta(days=1)\n",
    "        elif f_today >= dt.date(2023, 9, 1):\n",
    "            if f_today.day < 24:\n",
    "                days_to_wednesday = (2 - f_today.weekday()) % 7\n",
    "                nearest_wednesday = f_today + dt.timedelta(days=days_to_wednesday)\n",
    "                f_expiry = nearest_wednesday\n",
    "                if nse.valid_days(\n",
    "                    start_date=nearest_wednesday, end_date=nearest_wednesday\n",
    "                ).empty:\n",
    "                    f_expiry = nearest_wednesday - dt.timedelta(days=1)\n",
    "            else:\n",
    "                days_to_thursday = (3 - f_today.weekday()) % 7\n",
    "                nearest_thursday = f_today + dt.timedelta(days=days_to_thursday)\n",
    "                f_expiry = nearest_thursday\n",
    "                if nse.valid_days(\n",
    "                    start_date=nearest_thursday, end_date=nearest_thursday\n",
    "                ).empty:\n",
    "                    f_expiry = nearest_thursday - dt.timedelta(days=1)\n",
    "        return f_expiry\n",
    "\n",
    "    elif index == 'nifty':\n",
    "        days_to_thursday = (3 - f_today.weekday()) % 7\n",
    "        nearest_thursday = f_today + dt.timedelta(days=days_to_thursday)\n",
    "        f_expiry = nearest_thursday\n",
    "        if nse.valid_days(start_date=nearest_thursday, end_date=nearest_thursday).empty:\n",
    "            f_expiry = nearest_thursday - dt.timedelta(days=1)\n",
    "        return f_expiry\n",
    "\n",
    "    elif index == 'finnifty' or index == 'fnf':\n",
    "        days_to_thursday = (1 - f_today.weekday()) % 7\n",
    "        nearest_thursday = f_today + dt.timedelta(days=days_to_thursday)\n",
    "        f_expiry = nearest_thursday\n",
    "        if nse.valid_days(start_date=nearest_thursday, end_date=nearest_thursday).empty:\n",
    "            f_expiry = nearest_thursday - dt.timedelta(days=1)\n",
    "        return f_expiry\n",
    "\n",
    "    elif index == 'midcpnifty' or index == 'midcp':\n",
    "        days_to_thursday = (0 - f_today.weekday()) % 7\n",
    "        nearest_thursday = f_today + dt.timedelta(days=days_to_thursday)\n",
    "        f_expiry = nearest_thursday\n",
    "        if nse.valid_days(start_date=nearest_thursday, end_date=nearest_thursday).empty:\n",
    "            f_expiry = nearest_thursday - dt.timedelta(days=1)\n",
    "        return f_expiry\n",
    "\n",
    "async def get_expiry_nifty(f_today):\n",
    "\n",
    "    days_to_thursday = (3 - f_today.weekday()) % 7\n",
    "    nearest_thursday = f_today + dt.timedelta(days=days_to_thursday)\n",
    "    f_expiry = nearest_thursday\n",
    "    if nse.valid_days(start_date=nearest_thursday, end_date=nearest_thursday).empty:\n",
    "        f_expiry = nearest_thursday - dt.timedelta(days=1)\n",
    "    return f_expiry\n",
    "\n",
    "\n",
    "async def get_option_contract_name(symbol, strike, expiry, opt_type):\n",
    "    temp = \"0\"\n",
    "    mth = expiry.month\n",
    "\n",
    "    if (expiry + dt.timedelta(days=7)).month != expiry.month:\n",
    "        date_string = expiry.strftime(\"%y%b\").upper()\n",
    "        return f\"{symbol}{date_string}{strike}{opt_type}\"\n",
    "    else:\n",
    "        if expiry.day <= 9:\n",
    "            date_string = f\"{expiry.year - 2000}{mth}{temp}{expiry.day}\"\n",
    "        else:\n",
    "            date_string = f\"{expiry.year - 2000}{mth}{expiry.day}\"\n",
    "        return f\"{symbol}{date_string}{strike}{opt_type}\"\n",
    "\n",
    "\n",
    "def get_option_contract_name2(symbol, strike, expiry, opt_type):\n",
    "    temp = \"0\"\n",
    "    mth = expiry.month\n",
    "\n",
    "    if (expiry + dt.timedelta(days=7)).month != expiry.month:\n",
    "        date_string = expiry.strftime(\"%y%b\").upper()\n",
    "        return f\"{symbol}{date_string}{strike}{opt_type}\"\n",
    "    else:\n",
    "        if expiry.day <= 9:\n",
    "            date_string = f\"{expiry.year - 2000}{mth}{temp}{expiry.day}\"\n",
    "        else:\n",
    "            date_string = f\"{expiry.year - 2000}{mth}{expiry.day}\"\n",
    "        return f\"{symbol}{date_string}{strike}{opt_type}\""
   ]
  },
  {
   "cell_type": "code",
   "execution_count": 31,
   "id": "d7c8be1c-7a43-41e9-9914-0663935f4b9d",
   "metadata": {
    "execution": {
     "iopub.execute_input": "2025-02-12T09:06:52.363196Z",
     "iopub.status.busy": "2025-02-12T09:06:52.362430Z",
     "iopub.status.idle": "2025-02-12T09:06:52.583041Z",
     "shell.execute_reply": "2025-02-12T09:06:52.581705Z",
     "shell.execute_reply.started": "2025-02-12T09:06:52.363162Z"
    }
   },
   "outputs": [],
   "source": [
    "bnf_1min = pd.read_csv(\"../data/nifty__30m.csv\")\n",
    "bnf_1min[\"datetime\"] = pd.to_datetime(bnf_1min[\"time\"])\n",
    "bnf_1min = bnf_1min[bnf_1min[\"datetime\"].dt.year >= 2017]"
   ]
  },
  {
   "cell_type": "code",
   "execution_count": 32,
   "id": "80baf62e-9b43-45dd-83bf-87c9fd32e741",
   "metadata": {
    "execution": {
     "iopub.execute_input": "2025-02-12T09:06:53.059768Z",
     "iopub.status.busy": "2025-02-12T09:06:53.059199Z",
     "iopub.status.idle": "2025-02-12T09:06:53.075063Z",
     "shell.execute_reply": "2025-02-12T09:06:53.073552Z",
     "shell.execute_reply.started": "2025-02-12T09:06:53.059738Z"
    },
    "scrolled": true
   },
   "outputs": [
    {
     "data": {
      "text/html": [
       "<div>\n",
       "<style scoped>\n",
       "    .dataframe tbody tr th:only-of-type {\n",
       "        vertical-align: middle;\n",
       "    }\n",
       "\n",
       "    .dataframe tbody tr th {\n",
       "        vertical-align: top;\n",
       "    }\n",
       "\n",
       "    .dataframe thead th {\n",
       "        text-align: right;\n",
       "    }\n",
       "</style>\n",
       "<table border=\"1\" class=\"dataframe\">\n",
       "  <thead>\n",
       "    <tr style=\"text-align: right;\">\n",
       "      <th></th>\n",
       "      <th>time</th>\n",
       "      <th>open</th>\n",
       "      <th>high</th>\n",
       "      <th>low</th>\n",
       "      <th>close</th>\n",
       "      <th>MA</th>\n",
       "      <th>MA.1</th>\n",
       "      <th>EMA</th>\n",
       "      <th>datetime</th>\n",
       "    </tr>\n",
       "  </thead>\n",
       "  <tbody>\n",
       "    <tr>\n",
       "      <th>22854</th>\n",
       "      <td>2025-02-12T12:15:00+05:30</td>\n",
       "      <td>23044.9000</td>\n",
       "      <td>23087.6000</td>\n",
       "      <td>22997.3000</td>\n",
       "      <td>23042.4500</td>\n",
       "      <td>23185.3206</td>\n",
       "      <td>23258.2397</td>\n",
       "      <td>23318.0652</td>\n",
       "      <td>2025-02-12 12:15:00+05:30</td>\n",
       "    </tr>\n",
       "    <tr>\n",
       "      <th>22855</th>\n",
       "      <td>2025-02-12T12:45:00+05:30</td>\n",
       "      <td>23045.6000</td>\n",
       "      <td>23120.0000</td>\n",
       "      <td>23045.6000</td>\n",
       "      <td>23103.0500</td>\n",
       "      <td>23170.2691</td>\n",
       "      <td>23244.3794</td>\n",
       "      <td>23312.3314</td>\n",
       "      <td>2025-02-12 12:45:00+05:30</td>\n",
       "    </tr>\n",
       "    <tr>\n",
       "      <th>22856</th>\n",
       "      <td>2025-02-12T13:15:00+05:30</td>\n",
       "      <td>23105.4500</td>\n",
       "      <td>23144.7000</td>\n",
       "      <td>23061.9000</td>\n",
       "      <td>23100.1500</td>\n",
       "      <td>23160.2265</td>\n",
       "      <td>23231.9118</td>\n",
       "      <td>23306.6733</td>\n",
       "      <td>2025-02-12 13:15:00+05:30</td>\n",
       "    </tr>\n",
       "    <tr>\n",
       "      <th>22857</th>\n",
       "      <td>2025-02-12T13:45:00+05:30</td>\n",
       "      <td>23101.4500</td>\n",
       "      <td>23101.4500</td>\n",
       "      <td>22964.5500</td>\n",
       "      <td>23002.2500</td>\n",
       "      <td>23148.4162</td>\n",
       "      <td>23221.3250</td>\n",
       "      <td>23298.5553</td>\n",
       "      <td>2025-02-12 13:45:00+05:30</td>\n",
       "    </tr>\n",
       "    <tr>\n",
       "      <th>22858</th>\n",
       "      <td>2025-02-12T14:15:00+05:30</td>\n",
       "      <td>23002.3000</td>\n",
       "      <td>23030.6000</td>\n",
       "      <td>22969.4500</td>\n",
       "      <td>22974.6500</td>\n",
       "      <td>23137.0000</td>\n",
       "      <td>23210.2794</td>\n",
       "      <td>23289.9178</td>\n",
       "      <td>2025-02-12 14:15:00+05:30</td>\n",
       "    </tr>\n",
       "  </tbody>\n",
       "</table>\n",
       "</div>"
      ],
      "text/plain": [
       "                            time       open       high        low      close  \\\n",
       "22854  2025-02-12T12:15:00+05:30 23044.9000 23087.6000 22997.3000 23042.4500   \n",
       "22855  2025-02-12T12:45:00+05:30 23045.6000 23120.0000 23045.6000 23103.0500   \n",
       "22856  2025-02-12T13:15:00+05:30 23105.4500 23144.7000 23061.9000 23100.1500   \n",
       "22857  2025-02-12T13:45:00+05:30 23101.4500 23101.4500 22964.5500 23002.2500   \n",
       "22858  2025-02-12T14:15:00+05:30 23002.3000 23030.6000 22969.4500 22974.6500   \n",
       "\n",
       "              MA       MA.1        EMA                  datetime  \n",
       "22854 23185.3206 23258.2397 23318.0652 2025-02-12 12:15:00+05:30  \n",
       "22855 23170.2691 23244.3794 23312.3314 2025-02-12 12:45:00+05:30  \n",
       "22856 23160.2265 23231.9118 23306.6733 2025-02-12 13:15:00+05:30  \n",
       "22857 23148.4162 23221.3250 23298.5553 2025-02-12 13:45:00+05:30  \n",
       "22858 23137.0000 23210.2794 23289.9178 2025-02-12 14:15:00+05:30  "
      ]
     },
     "execution_count": 32,
     "metadata": {},
     "output_type": "execute_result"
    }
   ],
   "source": [
    "bnf_1min.tail()"
   ]
  },
  {
   "cell_type": "code",
   "execution_count": 33,
   "id": "42c6f24e-2ae1-4422-8699-5e0f3c8d8afe",
   "metadata": {
    "execution": {
     "iopub.execute_input": "2025-02-12T09:06:55.015398Z",
     "iopub.status.busy": "2025-02-12T09:06:55.014829Z",
     "iopub.status.idle": "2025-02-12T09:06:55.022791Z",
     "shell.execute_reply": "2025-02-12T09:06:55.021306Z",
     "shell.execute_reply.started": "2025-02-12T09:06:55.015351Z"
    }
   },
   "outputs": [],
   "source": [
    "def resample(\n",
    "    data: pl.DataFrame, timeframe, offset: dt.timedelta | None = None\n",
    ") -> pl.DataFrame:\n",
    "    return (\n",
    "        data.set_sorted(\"datetime\")\n",
    "        .group_by_dynamic(\n",
    "            index_column=\"datetime\",\n",
    "            every=timeframe,\n",
    "            period=timeframe,\n",
    "            label=\"left\",\n",
    "            offset=offset,\n",
    "        )\n",
    "        .agg(\n",
    "            [\n",
    "                pl.col(\"open\").first().alias(\"open\"),\n",
    "                pl.col(\"high\").max().alias(\"high\"),\n",
    "                pl.col(\"low\").min().alias(\"low\"),\n",
    "                pl.col(\"close\").last().alias(\"close\"),\n",
    "                pl.col(\"volume\").sum().alias(\"volume\"),\n",
    "            ]\n",
    "        )\n",
    "    )\n",
    "\n",
    "\n",
    "# ohlc_resampled = resample(pl.DataFrame(bnf_1min), '7d', pd.Timedelta(days=4))\n",
    "# ohlc_resampled"
   ]
  },
  {
   "cell_type": "code",
   "execution_count": 34,
   "id": "639f74e8-93a9-4fba-8ecd-caf5cf8812a9",
   "metadata": {
    "execution": {
     "iopub.execute_input": "2025-02-12T09:06:55.390406Z",
     "iopub.status.busy": "2025-02-12T09:06:55.390003Z",
     "iopub.status.idle": "2025-02-12T09:06:55.447309Z",
     "shell.execute_reply": "2025-02-12T09:06:55.446074Z",
     "shell.execute_reply.started": "2025-02-12T09:06:55.390375Z"
    },
    "scrolled": true
   },
   "outputs": [
    {
     "data": {
      "text/plain": [
       "{datetime.date(2022, 1, 4),\n",
       " datetime.date(2019, 8, 14),\n",
       " datetime.date(2020, 2, 4),\n",
       " datetime.date(2020, 5, 20),\n",
       " datetime.date(2021, 11, 3),\n",
       " datetime.date(2023, 2, 23),\n",
       " datetime.date(2019, 2, 28),\n",
       " datetime.date(2020, 8, 31),\n",
       " datetime.date(2022, 2, 1),\n",
       " datetime.date(2023, 11, 15),\n",
       " datetime.date(2023, 7, 21),\n",
       " datetime.date(2020, 9, 22),\n",
       " datetime.date(2024, 12, 9),\n",
       " datetime.date(2021, 6, 1),\n",
       " datetime.date(2022, 8, 12),\n",
       " datetime.date(2018, 7, 30),\n",
       " datetime.date(2022, 9, 26),\n",
       " datetime.date(2019, 1, 11),\n",
       " datetime.date(2019, 8, 29),\n",
       " datetime.date(2019, 2, 12),\n",
       " datetime.date(2023, 4, 25),\n",
       " datetime.date(2021, 4, 7),\n",
       " datetime.date(2019, 9, 23),\n",
       " datetime.date(2021, 6, 15),\n",
       " datetime.date(2021, 7, 27),\n",
       " datetime.date(2024, 7, 12),\n",
       " datetime.date(2020, 12, 9),\n",
       " datetime.date(2023, 2, 22),\n",
       " datetime.date(2021, 6, 28),\n",
       " datetime.date(2019, 12, 2),\n",
       " datetime.date(2022, 4, 11),\n",
       " datetime.date(2019, 5, 22),\n",
       " datetime.date(2023, 11, 16),\n",
       " datetime.date(2022, 5, 9),\n",
       " datetime.date(2024, 9, 25),\n",
       " datetime.date(2020, 1, 14),\n",
       " datetime.date(2022, 1, 21),\n",
       " datetime.date(2018, 2, 23),\n",
       " datetime.date(2020, 6, 10),\n",
       " datetime.date(2024, 1, 30),\n",
       " datetime.date(2023, 4, 6),\n",
       " datetime.date(2023, 12, 7),\n",
       " datetime.date(2018, 10, 17),\n",
       " datetime.date(2018, 12, 28),\n",
       " datetime.date(2024, 1, 19),\n",
       " datetime.date(2023, 4, 10),\n",
       " datetime.date(2020, 8, 21),\n",
       " datetime.date(2021, 12, 27),\n",
       " datetime.date(2023, 7, 31),\n",
       " datetime.date(2024, 9, 18),\n",
       " datetime.date(2023, 9, 21),\n",
       " datetime.date(2024, 12, 23),\n",
       " datetime.date(2024, 8, 2),\n",
       " datetime.date(2019, 4, 5),\n",
       " datetime.date(2021, 7, 22),\n",
       " datetime.date(2024, 3, 22),\n",
       " datetime.date(2020, 5, 13),\n",
       " datetime.date(2021, 10, 4),\n",
       " datetime.date(2020, 4, 16),\n",
       " datetime.date(2023, 12, 27),\n",
       " datetime.date(2024, 10, 28),\n",
       " datetime.date(2023, 5, 15),\n",
       " datetime.date(2018, 7, 23),\n",
       " datetime.date(2022, 7, 28),\n",
       " datetime.date(2022, 12, 6),\n",
       " datetime.date(2022, 11, 25),\n",
       " datetime.date(2018, 1, 22),\n",
       " datetime.date(2018, 5, 15),\n",
       " datetime.date(2020, 11, 20),\n",
       " datetime.date(2020, 12, 10),\n",
       " datetime.date(2022, 4, 5),\n",
       " datetime.date(2019, 5, 29),\n",
       " datetime.date(2024, 3, 26),\n",
       " datetime.date(2020, 1, 15),\n",
       " datetime.date(2020, 8, 13),\n",
       " datetime.date(2019, 5, 20),\n",
       " datetime.date(2021, 9, 2),\n",
       " datetime.date(2018, 2, 6),\n",
       " datetime.date(2020, 3, 16),\n",
       " datetime.date(2020, 2, 18),\n",
       " datetime.date(2018, 6, 13),\n",
       " datetime.date(2021, 7, 7),\n",
       " datetime.date(2024, 10, 9),\n",
       " datetime.date(2020, 7, 23),\n",
       " datetime.date(2022, 12, 14),\n",
       " datetime.date(2021, 10, 7),\n",
       " datetime.date(2025, 1, 29),\n",
       " datetime.date(2020, 1, 2),\n",
       " datetime.date(2019, 9, 13),\n",
       " datetime.date(2023, 9, 29),\n",
       " datetime.date(2021, 9, 21),\n",
       " datetime.date(2023, 2, 9),\n",
       " datetime.date(2023, 11, 20),\n",
       " datetime.date(2024, 8, 19),\n",
       " datetime.date(2021, 4, 12),\n",
       " datetime.date(2023, 4, 3),\n",
       " datetime.date(2024, 3, 11),\n",
       " datetime.date(2021, 5, 21),\n",
       " datetime.date(2023, 11, 21),\n",
       " datetime.date(2020, 8, 17),\n",
       " datetime.date(2024, 7, 31),\n",
       " datetime.date(2021, 3, 24),\n",
       " datetime.date(2019, 6, 6),\n",
       " datetime.date(2022, 12, 7),\n",
       " datetime.date(2024, 5, 10),\n",
       " datetime.date(2018, 11, 22),\n",
       " datetime.date(2024, 11, 19),\n",
       " datetime.date(2021, 4, 29),\n",
       " datetime.date(2022, 12, 28),\n",
       " datetime.date(2020, 9, 11),\n",
       " datetime.date(2019, 5, 21),\n",
       " datetime.date(2023, 8, 17),\n",
       " datetime.date(2023, 7, 3),\n",
       " datetime.date(2022, 12, 8),\n",
       " datetime.date(2018, 11, 12),\n",
       " datetime.date(2024, 8, 9),\n",
       " datetime.date(2022, 8, 10),\n",
       " datetime.date(2023, 4, 19),\n",
       " datetime.date(2023, 10, 17),\n",
       " datetime.date(2022, 6, 28),\n",
       " datetime.date(2021, 4, 5),\n",
       " datetime.date(2023, 2, 1),\n",
       " datetime.date(2018, 10, 24),\n",
       " datetime.date(2019, 7, 30),\n",
       " datetime.date(2018, 4, 30),\n",
       " datetime.date(2023, 3, 16),\n",
       " datetime.date(2019, 1, 21),\n",
       " datetime.date(2024, 7, 10),\n",
       " datetime.date(2018, 3, 14),\n",
       " datetime.date(2021, 8, 12),\n",
       " datetime.date(2022, 5, 2),\n",
       " datetime.date(2018, 3, 23),\n",
       " datetime.date(2022, 10, 31),\n",
       " datetime.date(2018, 8, 6),\n",
       " datetime.date(2024, 8, 16),\n",
       " datetime.date(2022, 11, 15),\n",
       " datetime.date(2024, 12, 6),\n",
       " datetime.date(2019, 9, 9),\n",
       " datetime.date(2018, 2, 19),\n",
       " datetime.date(2018, 11, 13),\n",
       " datetime.date(2019, 12, 24),\n",
       " datetime.date(2021, 8, 26),\n",
       " datetime.date(2018, 8, 23),\n",
       " datetime.date(2020, 11, 18),\n",
       " datetime.date(2020, 10, 1),\n",
       " datetime.date(2023, 2, 7),\n",
       " datetime.date(2019, 7, 17),\n",
       " datetime.date(2020, 11, 2),\n",
       " datetime.date(2022, 5, 17),\n",
       " datetime.date(2022, 3, 22),\n",
       " datetime.date(2018, 9, 17),\n",
       " datetime.date(2023, 12, 6),\n",
       " datetime.date(2022, 12, 5),\n",
       " datetime.date(2023, 2, 24),\n",
       " datetime.date(2023, 1, 16),\n",
       " datetime.date(2019, 3, 22),\n",
       " datetime.date(2020, 3, 17),\n",
       " datetime.date(2018, 3, 20),\n",
       " datetime.date(2024, 3, 6),\n",
       " datetime.date(2024, 9, 26),\n",
       " datetime.date(2018, 5, 11),\n",
       " datetime.date(2019, 1, 29),\n",
       " datetime.date(2018, 5, 23),\n",
       " datetime.date(2018, 9, 24),\n",
       " datetime.date(2022, 11, 23),\n",
       " datetime.date(2018, 2, 28),\n",
       " datetime.date(2020, 10, 8),\n",
       " datetime.date(2022, 1, 17),\n",
       " datetime.date(2021, 4, 30),\n",
       " datetime.date(2021, 8, 24),\n",
       " datetime.date(2022, 6, 16),\n",
       " datetime.date(2018, 1, 1),\n",
       " datetime.date(2018, 2, 20),\n",
       " datetime.date(2022, 7, 25),\n",
       " datetime.date(2021, 4, 19),\n",
       " datetime.date(2021, 11, 17),\n",
       " datetime.date(2019, 7, 29),\n",
       " datetime.date(2018, 8, 13),\n",
       " datetime.date(2018, 7, 10),\n",
       " datetime.date(2020, 7, 1),\n",
       " datetime.date(2021, 9, 17),\n",
       " datetime.date(2019, 4, 16),\n",
       " datetime.date(2024, 7, 19),\n",
       " datetime.date(2020, 12, 4),\n",
       " datetime.date(2021, 12, 31),\n",
       " datetime.date(2022, 6, 30),\n",
       " datetime.date(2023, 8, 22),\n",
       " datetime.date(2019, 4, 23),\n",
       " datetime.date(2021, 9, 27),\n",
       " datetime.date(2021, 9, 20),\n",
       " datetime.date(2022, 9, 6),\n",
       " datetime.date(2023, 5, 25),\n",
       " datetime.date(2022, 4, 20),\n",
       " datetime.date(2023, 6, 5),\n",
       " datetime.date(2021, 12, 16),\n",
       " datetime.date(2023, 2, 15),\n",
       " datetime.date(2023, 2, 27),\n",
       " datetime.date(2018, 8, 3),\n",
       " datetime.date(2021, 7, 26),\n",
       " datetime.date(2020, 7, 22),\n",
       " datetime.date(2020, 5, 6),\n",
       " datetime.date(2022, 10, 6),\n",
       " datetime.date(2019, 5, 15),\n",
       " datetime.date(2020, 7, 21),\n",
       " datetime.date(2025, 2, 4),\n",
       " datetime.date(2018, 12, 26),\n",
       " datetime.date(2020, 5, 18),\n",
       " datetime.date(2022, 11, 30),\n",
       " datetime.date(2018, 8, 30),\n",
       " datetime.date(2022, 4, 6),\n",
       " datetime.date(2023, 8, 30),\n",
       " datetime.date(2020, 2, 25),\n",
       " datetime.date(2019, 2, 13),\n",
       " datetime.date(2021, 10, 13),\n",
       " datetime.date(2022, 7, 7),\n",
       " datetime.date(2022, 7, 19),\n",
       " datetime.date(2021, 2, 24),\n",
       " datetime.date(2024, 8, 30),\n",
       " datetime.date(2023, 8, 3),\n",
       " datetime.date(2018, 10, 4),\n",
       " datetime.date(2024, 11, 11),\n",
       " datetime.date(2018, 11, 26),\n",
       " datetime.date(2020, 3, 24),\n",
       " datetime.date(2024, 5, 17),\n",
       " datetime.date(2019, 11, 26),\n",
       " datetime.date(2023, 10, 23),\n",
       " datetime.date(2019, 5, 7),\n",
       " datetime.date(2019, 6, 14),\n",
       " datetime.date(2022, 4, 1),\n",
       " datetime.date(2023, 6, 8),\n",
       " datetime.date(2024, 9, 12),\n",
       " datetime.date(2019, 6, 13),\n",
       " datetime.date(2020, 6, 26),\n",
       " datetime.date(2024, 8, 6),\n",
       " datetime.date(2024, 8, 26),\n",
       " datetime.date(2021, 1, 18),\n",
       " datetime.date(2024, 1, 25),\n",
       " datetime.date(2022, 6, 15),\n",
       " datetime.date(2020, 7, 15),\n",
       " datetime.date(2021, 8, 3),\n",
       " datetime.date(2018, 7, 9),\n",
       " datetime.date(2024, 2, 2),\n",
       " datetime.date(2023, 1, 10),\n",
       " datetime.date(2019, 7, 22),\n",
       " datetime.date(2023, 6, 14),\n",
       " datetime.date(2024, 7, 23),\n",
       " datetime.date(2018, 7, 20),\n",
       " datetime.date(2018, 3, 5),\n",
       " datetime.date(2020, 3, 19),\n",
       " datetime.date(2023, 7, 27),\n",
       " datetime.date(2023, 9, 4),\n",
       " datetime.date(2018, 9, 27),\n",
       " datetime.date(2024, 1, 31),\n",
       " datetime.date(2024, 5, 21),\n",
       " datetime.date(2022, 4, 22),\n",
       " datetime.date(2018, 1, 18),\n",
       " datetime.date(2021, 4, 27),\n",
       " datetime.date(2018, 12, 27),\n",
       " datetime.date(2022, 9, 7),\n",
       " datetime.date(2018, 3, 7),\n",
       " datetime.date(2024, 6, 13),\n",
       " datetime.date(2022, 6, 21),\n",
       " datetime.date(2019, 12, 26),\n",
       " datetime.date(2019, 1, 15),\n",
       " datetime.date(2020, 12, 28),\n",
       " datetime.date(2019, 2, 27),\n",
       " datetime.date(2021, 12, 23),\n",
       " datetime.date(2024, 4, 24),\n",
       " datetime.date(2019, 11, 11),\n",
       " datetime.date(2020, 11, 12),\n",
       " datetime.date(2020, 5, 14),\n",
       " datetime.date(2020, 12, 3),\n",
       " datetime.date(2018, 8, 24),\n",
       " datetime.date(2024, 6, 10),\n",
       " datetime.date(2019, 6, 21),\n",
       " datetime.date(2018, 5, 25),\n",
       " datetime.date(2018, 7, 24),\n",
       " datetime.date(2025, 1, 6),\n",
       " datetime.date(2019, 3, 15),\n",
       " datetime.date(2024, 8, 27),\n",
       " datetime.date(2021, 9, 1),\n",
       " datetime.date(2024, 10, 23),\n",
       " datetime.date(2022, 6, 27),\n",
       " datetime.date(2024, 5, 2),\n",
       " datetime.date(2022, 2, 24),\n",
       " datetime.date(2022, 3, 3),\n",
       " datetime.date(2019, 4, 12),\n",
       " datetime.date(2021, 7, 5),\n",
       " datetime.date(2019, 10, 27),\n",
       " datetime.date(2023, 6, 7),\n",
       " datetime.date(2022, 8, 22),\n",
       " datetime.date(2019, 2, 25),\n",
       " datetime.date(2021, 4, 28),\n",
       " datetime.date(2022, 2, 2),\n",
       " datetime.date(2023, 2, 14),\n",
       " datetime.date(2022, 5, 27),\n",
       " datetime.date(2023, 12, 14),\n",
       " datetime.date(2019, 8, 5),\n",
       " datetime.date(2024, 2, 26),\n",
       " datetime.date(2020, 10, 19),\n",
       " datetime.date(2019, 2, 18),\n",
       " datetime.date(2021, 5, 27),\n",
       " datetime.date(2022, 9, 30),\n",
       " datetime.date(2023, 3, 6),\n",
       " datetime.date(2018, 8, 14),\n",
       " datetime.date(2022, 1, 5),\n",
       " datetime.date(2024, 5, 18),\n",
       " datetime.date(2020, 7, 3),\n",
       " datetime.date(2018, 8, 17),\n",
       " datetime.date(2020, 9, 9),\n",
       " datetime.date(2019, 2, 5),\n",
       " datetime.date(2019, 8, 26),\n",
       " datetime.date(2021, 2, 19),\n",
       " datetime.date(2020, 6, 16),\n",
       " datetime.date(2021, 6, 23),\n",
       " datetime.date(2022, 6, 10),\n",
       " datetime.date(2019, 7, 15),\n",
       " datetime.date(2024, 6, 14),\n",
       " datetime.date(2019, 6, 27),\n",
       " datetime.date(2023, 2, 10),\n",
       " datetime.date(2018, 9, 19),\n",
       " datetime.date(2022, 12, 22),\n",
       " datetime.date(2022, 6, 2),\n",
       " datetime.date(2019, 7, 4),\n",
       " datetime.date(2020, 4, 30),\n",
       " datetime.date(2023, 4, 21),\n",
       " datetime.date(2020, 2, 14),\n",
       " datetime.date(2020, 5, 5),\n",
       " datetime.date(2022, 1, 28),\n",
       " datetime.date(2020, 2, 27),\n",
       " datetime.date(2018, 12, 18),\n",
       " datetime.date(2019, 9, 27),\n",
       " datetime.date(2023, 6, 2),\n",
       " datetime.date(2022, 7, 4),\n",
       " datetime.date(2022, 11, 18),\n",
       " datetime.date(2018, 10, 26),\n",
       " datetime.date(2019, 3, 8),\n",
       " datetime.date(2018, 8, 21),\n",
       " datetime.date(2023, 11, 12),\n",
       " datetime.date(2021, 5, 28),\n",
       " datetime.date(2018, 5, 17),\n",
       " datetime.date(2020, 3, 4),\n",
       " datetime.date(2023, 3, 29),\n",
       " datetime.date(2019, 10, 23),\n",
       " datetime.date(2021, 4, 15),\n",
       " datetime.date(2022, 6, 17),\n",
       " datetime.date(2020, 7, 28),\n",
       " datetime.date(2020, 12, 15),\n",
       " datetime.date(2021, 6, 16),\n",
       " datetime.date(2022, 1, 6),\n",
       " datetime.date(2025, 1, 22),\n",
       " datetime.date(2023, 2, 28),\n",
       " datetime.date(2022, 11, 14),\n",
       " datetime.date(2021, 1, 20),\n",
       " datetime.date(2021, 3, 8),\n",
       " datetime.date(2024, 6, 3),\n",
       " datetime.date(2021, 6, 8),\n",
       " datetime.date(2018, 3, 16),\n",
       " datetime.date(2019, 2, 6),\n",
       " datetime.date(2020, 5, 22),\n",
       " datetime.date(2024, 9, 30),\n",
       " datetime.date(2023, 11, 1),\n",
       " datetime.date(2019, 10, 7),\n",
       " datetime.date(2019, 1, 22),\n",
       " datetime.date(2021, 12, 17),\n",
       " datetime.date(2022, 5, 5),\n",
       " datetime.date(2020, 10, 26),\n",
       " datetime.date(2021, 8, 17),\n",
       " datetime.date(2024, 2, 21),\n",
       " datetime.date(2018, 11, 1),\n",
       " datetime.date(2020, 9, 25),\n",
       " datetime.date(2022, 3, 4),\n",
       " datetime.date(2019, 6, 12),\n",
       " datetime.date(2020, 10, 6),\n",
       " datetime.date(2018, 5, 9),\n",
       " datetime.date(2018, 4, 3),\n",
       " datetime.date(2019, 2, 22),\n",
       " datetime.date(2024, 7, 24),\n",
       " datetime.date(2024, 11, 29),\n",
       " datetime.date(2018, 12, 11),\n",
       " datetime.date(2023, 11, 6),\n",
       " datetime.date(2020, 9, 29),\n",
       " datetime.date(2019, 7, 3),\n",
       " datetime.date(2024, 11, 13),\n",
       " datetime.date(2023, 1, 13),\n",
       " datetime.date(2019, 5, 10),\n",
       " datetime.date(2020, 6, 18),\n",
       " datetime.date(2019, 5, 27),\n",
       " datetime.date(2022, 7, 5),\n",
       " datetime.date(2025, 1, 7),\n",
       " datetime.date(2018, 1, 5),\n",
       " datetime.date(2024, 6, 11),\n",
       " datetime.date(2019, 12, 31),\n",
       " datetime.date(2019, 7, 12),\n",
       " datetime.date(2018, 7, 19),\n",
       " datetime.date(2022, 12, 15),\n",
       " datetime.date(2020, 8, 4),\n",
       " datetime.date(2022, 11, 17),\n",
       " datetime.date(2022, 1, 12),\n",
       " datetime.date(2020, 6, 9),\n",
       " datetime.date(2018, 5, 30),\n",
       " datetime.date(2021, 11, 10),\n",
       " datetime.date(2024, 7, 2),\n",
       " datetime.date(2018, 7, 12),\n",
       " datetime.date(2021, 2, 22),\n",
       " datetime.date(2019, 6, 7),\n",
       " datetime.date(2018, 4, 26),\n",
       " datetime.date(2018, 4, 23),\n",
       " datetime.date(2022, 7, 14),\n",
       " datetime.date(2022, 11, 9),\n",
       " datetime.date(2019, 11, 21),\n",
       " datetime.date(2022, 11, 16),\n",
       " datetime.date(2021, 2, 15),\n",
       " datetime.date(2024, 10, 14),\n",
       " datetime.date(2020, 4, 23),\n",
       " datetime.date(2024, 12, 10),\n",
       " datetime.date(2021, 5, 5),\n",
       " datetime.date(2020, 12, 7),\n",
       " datetime.date(2023, 9, 15),\n",
       " datetime.date(2024, 12, 13),\n",
       " datetime.date(2021, 12, 24),\n",
       " datetime.date(2020, 7, 27),\n",
       " datetime.date(2020, 10, 22),\n",
       " datetime.date(2023, 11, 30),\n",
       " datetime.date(2022, 8, 23),\n",
       " datetime.date(2018, 4, 2),\n",
       " datetime.date(2023, 10, 18),\n",
       " datetime.date(2019, 5, 31),\n",
       " datetime.date(2020, 8, 27),\n",
       " datetime.date(2020, 3, 2),\n",
       " datetime.date(2018, 2, 5),\n",
       " datetime.date(2023, 3, 24),\n",
       " datetime.date(2019, 12, 18),\n",
       " datetime.date(2020, 4, 27),\n",
       " datetime.date(2023, 6, 19),\n",
       " datetime.date(2020, 12, 16),\n",
       " datetime.date(2021, 6, 21),\n",
       " datetime.date(2021, 9, 13),\n",
       " datetime.date(2020, 7, 7),\n",
       " datetime.date(2023, 2, 16),\n",
       " datetime.date(2022, 1, 19),\n",
       " datetime.date(2023, 11, 28),\n",
       " datetime.date(2019, 3, 28),\n",
       " datetime.date(2020, 5, 29),\n",
       " datetime.date(2018, 9, 26),\n",
       " datetime.date(2019, 2, 20),\n",
       " datetime.date(2018, 5, 16),\n",
       " datetime.date(2024, 10, 24),\n",
       " datetime.date(2019, 9, 19),\n",
       " datetime.date(2018, 7, 11),\n",
       " datetime.date(2023, 3, 23),\n",
       " datetime.date(2019, 10, 3),\n",
       " datetime.date(2022, 2, 21),\n",
       " datetime.date(2018, 5, 10),\n",
       " datetime.date(2024, 5, 15),\n",
       " datetime.date(2020, 11, 14),\n",
       " datetime.date(2018, 7, 31),\n",
       " datetime.date(2019, 3, 12),\n",
       " datetime.date(2018, 6, 8),\n",
       " datetime.date(2023, 12, 22),\n",
       " datetime.date(2020, 10, 20),\n",
       " datetime.date(2018, 12, 20),\n",
       " datetime.date(2019, 11, 6),\n",
       " datetime.date(2018, 11, 2),\n",
       " datetime.date(2023, 11, 8),\n",
       " datetime.date(2018, 7, 26),\n",
       " datetime.date(2022, 1, 25),\n",
       " datetime.date(2022, 4, 19),\n",
       " datetime.date(2024, 3, 2),\n",
       " datetime.date(2021, 3, 1),\n",
       " datetime.date(2023, 12, 18),\n",
       " datetime.date(2022, 6, 1),\n",
       " datetime.date(2019, 2, 26),\n",
       " datetime.date(2023, 1, 2),\n",
       " datetime.date(2023, 12, 13),\n",
       " datetime.date(2022, 4, 29),\n",
       " datetime.date(2019, 9, 24),\n",
       " datetime.date(2018, 8, 1),\n",
       " datetime.date(2024, 6, 4),\n",
       " datetime.date(2020, 3, 3),\n",
       " datetime.date(2022, 3, 23),\n",
       " datetime.date(2022, 8, 8),\n",
       " datetime.date(2024, 12, 26),\n",
       " datetime.date(2018, 1, 19),\n",
       " datetime.date(2021, 12, 7),\n",
       " datetime.date(2021, 5, 10),\n",
       " datetime.date(2023, 3, 3),\n",
       " datetime.date(2023, 4, 18),\n",
       " datetime.date(2025, 1, 3),\n",
       " datetime.date(2018, 12, 3),\n",
       " datetime.date(2020, 7, 9),\n",
       " datetime.date(2019, 10, 24),\n",
       " datetime.date(2018, 7, 6),\n",
       " datetime.date(2019, 11, 22),\n",
       " datetime.date(2024, 2, 7),\n",
       " datetime.date(2019, 1, 9),\n",
       " datetime.date(2019, 11, 15),\n",
       " datetime.date(2024, 1, 10),\n",
       " datetime.date(2021, 1, 7),\n",
       " datetime.date(2019, 2, 21),\n",
       " datetime.date(2018, 12, 24),\n",
       " datetime.date(2021, 9, 16),\n",
       " datetime.date(2022, 4, 26),\n",
       " datetime.date(2021, 7, 13),\n",
       " datetime.date(2019, 5, 6),\n",
       " datetime.date(2024, 1, 16),\n",
       " datetime.date(2024, 3, 13),\n",
       " datetime.date(2022, 2, 22),\n",
       " datetime.date(2024, 7, 3),\n",
       " datetime.date(2019, 6, 24),\n",
       " datetime.date(2020, 12, 29),\n",
       " datetime.date(2020, 2, 12),\n",
       " datetime.date(2020, 11, 11),\n",
       " datetime.date(2021, 9, 9),\n",
       " datetime.date(2024, 5, 24),\n",
       " datetime.date(2022, 3, 7),\n",
       " datetime.date(2022, 2, 7),\n",
       " datetime.date(2021, 7, 6),\n",
       " datetime.date(2024, 2, 22),\n",
       " datetime.date(2020, 6, 2),\n",
       " datetime.date(2024, 8, 8),\n",
       " datetime.date(2023, 12, 21),\n",
       " datetime.date(2022, 3, 10),\n",
       " datetime.date(2024, 10, 16),\n",
       " datetime.date(2022, 3, 28),\n",
       " datetime.date(2021, 2, 11),\n",
       " datetime.date(2021, 8, 16),\n",
       " datetime.date(2021, 10, 20),\n",
       " datetime.date(2024, 11, 22),\n",
       " datetime.date(2022, 12, 2),\n",
       " datetime.date(2022, 11, 28),\n",
       " datetime.date(2023, 1, 31),\n",
       " datetime.date(2019, 9, 20),\n",
       " datetime.date(2022, 3, 29),\n",
       " datetime.date(2019, 4, 10),\n",
       " datetime.date(2022, 9, 19),\n",
       " datetime.date(2020, 2, 6),\n",
       " datetime.date(2021, 11, 23),\n",
       " datetime.date(2024, 3, 15),\n",
       " datetime.date(2024, 11, 6),\n",
       " datetime.date(2018, 6, 27),\n",
       " datetime.date(2021, 11, 12),\n",
       " datetime.date(2021, 9, 28),\n",
       " datetime.date(2021, 7, 20),\n",
       " datetime.date(2020, 10, 5),\n",
       " datetime.date(2021, 10, 29),\n",
       " datetime.date(2018, 10, 11),\n",
       " datetime.date(2022, 6, 9),\n",
       " datetime.date(2023, 1, 9),\n",
       " datetime.date(2021, 7, 30),\n",
       " datetime.date(2021, 8, 13),\n",
       " datetime.date(2019, 11, 29),\n",
       " datetime.date(2024, 9, 9),\n",
       " datetime.date(2022, 8, 26),\n",
       " datetime.date(2018, 10, 12),\n",
       " datetime.date(2023, 8, 28),\n",
       " datetime.date(2019, 8, 22),\n",
       " datetime.date(2024, 1, 11),\n",
       " datetime.date(2024, 1, 15),\n",
       " datetime.date(2025, 2, 11),\n",
       " datetime.date(2022, 7, 18),\n",
       " datetime.date(2021, 3, 3),\n",
       " datetime.date(2018, 7, 2),\n",
       " datetime.date(2023, 4, 24),\n",
       " datetime.date(2022, 5, 6),\n",
       " datetime.date(2021, 1, 8),\n",
       " datetime.date(2019, 10, 30),\n",
       " datetime.date(2024, 4, 23),\n",
       " datetime.date(2019, 12, 3),\n",
       " datetime.date(2023, 1, 19),\n",
       " datetime.date(2021, 11, 1),\n",
       " datetime.date(2024, 6, 27),\n",
       " datetime.date(2020, 5, 19),\n",
       " datetime.date(2019, 9, 3),\n",
       " datetime.date(2019, 5, 9),\n",
       " datetime.date(2019, 10, 18),\n",
       " datetime.date(2021, 3, 5),\n",
       " datetime.date(2022, 1, 11),\n",
       " datetime.date(2019, 5, 24),\n",
       " datetime.date(2021, 8, 11),\n",
       " datetime.date(2021, 12, 30),\n",
       " datetime.date(2022, 6, 3),\n",
       " datetime.date(2023, 10, 9),\n",
       " datetime.date(2022, 9, 9),\n",
       " datetime.date(2021, 1, 11),\n",
       " datetime.date(2022, 9, 29),\n",
       " datetime.date(2021, 12, 14),\n",
       " datetime.date(2019, 9, 16),\n",
       " datetime.date(2020, 4, 13),\n",
       " datetime.date(2021, 1, 12),\n",
       " datetime.date(2024, 5, 29),\n",
       " datetime.date(2019, 10, 9),\n",
       " datetime.date(2019, 7, 8),\n",
       " datetime.date(2019, 10, 14),\n",
       " datetime.date(2024, 4, 16),\n",
       " datetime.date(2020, 10, 21),\n",
       " datetime.date(2025, 1, 30),\n",
       " datetime.date(2023, 10, 4),\n",
       " datetime.date(2022, 10, 24),\n",
       " datetime.date(2021, 3, 2),\n",
       " datetime.date(2020, 10, 14),\n",
       " datetime.date(2020, 8, 14),\n",
       " datetime.date(2021, 8, 25),\n",
       " datetime.date(2021, 9, 24),\n",
       " datetime.date(2018, 5, 21),\n",
       " datetime.date(2024, 10, 15),\n",
       " datetime.date(2018, 9, 6),\n",
       " datetime.date(2022, 12, 13),\n",
       " datetime.date(2023, 2, 17),\n",
       " datetime.date(2022, 10, 19),\n",
       " datetime.date(2018, 8, 20),\n",
       " datetime.date(2025, 1, 31),\n",
       " datetime.date(2020, 5, 28),\n",
       " datetime.date(2020, 9, 3),\n",
       " datetime.date(2020, 9, 10),\n",
       " datetime.date(2021, 4, 22),\n",
       " datetime.date(2020, 10, 16),\n",
       " datetime.date(2019, 3, 11),\n",
       " datetime.date(2022, 7, 12),\n",
       " datetime.date(2024, 11, 4),\n",
       " datetime.date(2021, 8, 30),\n",
       " datetime.date(2023, 3, 15),\n",
       " datetime.date(2021, 5, 11),\n",
       " datetime.date(2021, 4, 6),\n",
       " datetime.date(2023, 9, 7),\n",
       " datetime.date(2020, 11, 19),\n",
       " datetime.date(2023, 3, 10),\n",
       " datetime.date(2024, 9, 17),\n",
       " datetime.date(2020, 9, 18),\n",
       " datetime.date(2021, 2, 8),\n",
       " datetime.date(2021, 5, 19),\n",
       " datetime.date(2021, 11, 11),\n",
       " datetime.date(2024, 7, 8),\n",
       " datetime.date(2021, 3, 25),\n",
       " datetime.date(2024, 10, 8),\n",
       " datetime.date(2021, 11, 30),\n",
       " datetime.date(2019, 7, 5),\n",
       " datetime.date(2018, 1, 3),\n",
       " datetime.date(2021, 9, 6),\n",
       " datetime.date(2018, 6, 18),\n",
       " datetime.date(2023, 5, 19),\n",
       " datetime.date(2022, 11, 29),\n",
       " datetime.date(2023, 6, 13),\n",
       " datetime.date(2023, 8, 25),\n",
       " datetime.date(2018, 6, 22),\n",
       " datetime.date(2024, 5, 6),\n",
       " datetime.date(2020, 6, 24),\n",
       " datetime.date(2018, 10, 1),\n",
       " datetime.date(2020, 10, 12),\n",
       " datetime.date(2025, 1, 24),\n",
       " datetime.date(2018, 7, 27),\n",
       " datetime.date(2021, 1, 25),\n",
       " datetime.date(2019, 6, 25),\n",
       " datetime.date(2024, 2, 6),\n",
       " datetime.date(2024, 12, 12),\n",
       " datetime.date(2021, 11, 2),\n",
       " datetime.date(2025, 1, 17),\n",
       " datetime.date(2022, 5, 10),\n",
       " datetime.date(2024, 7, 1),\n",
       " datetime.date(2022, 2, 3),\n",
       " datetime.date(2020, 7, 17),\n",
       " datetime.date(2021, 2, 3),\n",
       " datetime.date(2019, 11, 18),\n",
       " datetime.date(2023, 5, 9),\n",
       " datetime.date(2023, 10, 25),\n",
       " datetime.date(2022, 6, 29),\n",
       " datetime.date(2022, 5, 13),\n",
       " datetime.date(2024, 5, 7),\n",
       " datetime.date(2018, 5, 22),\n",
       " datetime.date(2023, 7, 19),\n",
       " datetime.date(2019, 1, 3),\n",
       " datetime.date(2018, 3, 6),\n",
       " datetime.date(2020, 2, 7),\n",
       " datetime.date(2024, 8, 5),\n",
       " datetime.date(2023, 11, 2),\n",
       " datetime.date(2019, 9, 6),\n",
       " datetime.date(2021, 9, 14),\n",
       " datetime.date(2021, 10, 6),\n",
       " datetime.date(2022, 9, 5),\n",
       " datetime.date(2025, 2, 12),\n",
       " datetime.date(2023, 10, 19),\n",
       " datetime.date(2023, 5, 4),\n",
       " datetime.date(2023, 5, 24),\n",
       " datetime.date(2020, 1, 9),\n",
       " datetime.date(2022, 5, 23),\n",
       " datetime.date(2024, 8, 28),\n",
       " datetime.date(2021, 7, 23),\n",
       " datetime.date(2024, 12, 20),\n",
       " datetime.date(2024, 7, 5),\n",
       " datetime.date(2024, 10, 21),\n",
       " datetime.date(2018, 9, 10),\n",
       " datetime.date(2020, 11, 25),\n",
       " datetime.date(2021, 3, 4),\n",
       " datetime.date(2023, 12, 29),\n",
       " datetime.date(2018, 2, 2),\n",
       " datetime.date(2018, 11, 29),\n",
       " datetime.date(2020, 8, 3),\n",
       " datetime.date(2023, 4, 26),\n",
       " datetime.date(2022, 2, 9),\n",
       " datetime.date(2024, 8, 29),\n",
       " datetime.date(2023, 5, 31),\n",
       " datetime.date(2020, 9, 2),\n",
       " datetime.date(2021, 3, 18),\n",
       " datetime.date(2024, 8, 14),\n",
       " datetime.date(2021, 12, 6),\n",
       " datetime.date(2024, 5, 30),\n",
       " datetime.date(2022, 6, 8),\n",
       " datetime.date(2021, 8, 4),\n",
       " datetime.date(2021, 9, 30),\n",
       " datetime.date(2023, 2, 21),\n",
       " datetime.date(2024, 6, 6),\n",
       " datetime.date(2019, 3, 18),\n",
       " datetime.date(2024, 4, 25),\n",
       " datetime.date(2022, 7, 20),\n",
       " datetime.date(2018, 4, 13),\n",
       " datetime.date(2018, 9, 11),\n",
       " datetime.date(2021, 1, 13),\n",
       " datetime.date(2021, 6, 9),\n",
       " datetime.date(2021, 5, 17),\n",
       " datetime.date(2019, 6, 18),\n",
       " datetime.date(2019, 5, 30),\n",
       " datetime.date(2022, 4, 28),\n",
       " datetime.date(2019, 11, 20),\n",
       " datetime.date(2018, 4, 24),\n",
       " datetime.date(2024, 1, 23),\n",
       " datetime.date(2018, 6, 15),\n",
       " datetime.date(2021, 2, 16),\n",
       " datetime.date(2023, 6, 26),\n",
       " datetime.date(2024, 6, 18),\n",
       " datetime.date(2023, 6, 1),\n",
       " datetime.date(2018, 1, 23),\n",
       " datetime.date(2023, 7, 11),\n",
       " datetime.date(2021, 1, 29),\n",
       " datetime.date(2024, 2, 13),\n",
       " datetime.date(2024, 8, 7),\n",
       " datetime.date(2024, 6, 19),\n",
       " datetime.date(2024, 7, 29),\n",
       " datetime.date(2023, 1, 3),\n",
       " datetime.date(2018, 10, 23),\n",
       " datetime.date(2019, 10, 16),\n",
       " datetime.date(2018, 6, 7),\n",
       " datetime.date(2022, 3, 8),\n",
       " datetime.date(2022, 10, 11),\n",
       " datetime.date(2019, 3, 29),\n",
       " datetime.date(2021, 5, 4),\n",
       " datetime.date(2022, 1, 10),\n",
       " datetime.date(2020, 6, 1),\n",
       " datetime.date(2024, 4, 29),\n",
       " datetime.date(2021, 7, 14),\n",
       " datetime.date(2022, 3, 15),\n",
       " datetime.date(2020, 4, 17),\n",
       " datetime.date(2018, 8, 29),\n",
       " datetime.date(2020, 3, 18),\n",
       " datetime.date(2020, 1, 28),\n",
       " datetime.date(2021, 12, 9),\n",
       " datetime.date(2023, 8, 18),\n",
       " datetime.date(2024, 12, 24),\n",
       " datetime.date(2019, 12, 9),\n",
       " datetime.date(2022, 9, 21),\n",
       " datetime.date(2018, 5, 18),\n",
       " datetime.date(2025, 1, 1),\n",
       " datetime.date(2025, 1, 8),\n",
       " datetime.date(2022, 6, 14),\n",
       " datetime.date(2024, 1, 18),\n",
       " datetime.date(2019, 1, 25),\n",
       " datetime.date(2023, 1, 11),\n",
       " datetime.date(2019, 6, 4),\n",
       " datetime.date(2020, 1, 31),\n",
       " datetime.date(2021, 10, 28),\n",
       " datetime.date(2022, 10, 7),\n",
       " datetime.date(2024, 6, 25),\n",
       " datetime.date(2022, 11, 11),\n",
       " datetime.date(2021, 9, 29),\n",
       " datetime.date(2019, 1, 14),\n",
       " datetime.date(2021, 4, 23),\n",
       " datetime.date(2019, 1, 4),\n",
       " datetime.date(2023, 6, 27),\n",
       " datetime.date(2018, 4, 18),\n",
       " datetime.date(2024, 6, 24),\n",
       " datetime.date(2024, 9, 11),\n",
       " datetime.date(2022, 5, 19),\n",
       " datetime.date(2019, 2, 4),\n",
       " datetime.date(2020, 2, 1),\n",
       " datetime.date(2020, 5, 8),\n",
       " datetime.date(2020, 5, 12),\n",
       " datetime.date(2022, 3, 2),\n",
       " datetime.date(2023, 7, 10),\n",
       " datetime.date(2018, 10, 30),\n",
       " datetime.date(2023, 10, 30),\n",
       " datetime.date(2020, 1, 7),\n",
       " datetime.date(2024, 1, 20),\n",
       " datetime.date(2022, 8, 29),\n",
       " datetime.date(2023, 8, 11),\n",
       " datetime.date(2020, 11, 26),\n",
       " datetime.date(2021, 3, 16),\n",
       " datetime.date(2020, 7, 13),\n",
       " datetime.date(2020, 12, 18),\n",
       " datetime.date(2021, 2, 9),\n",
       " datetime.date(2019, 7, 16),\n",
       " datetime.date(2024, 7, 16),\n",
       " datetime.date(2023, 2, 6),\n",
       " datetime.date(2023, 9, 22),\n",
       " datetime.date(2023, 6, 12),\n",
       " datetime.date(2023, 10, 12),\n",
       " datetime.date(2022, 4, 13),\n",
       " datetime.date(2019, 1, 30),\n",
       " datetime.date(2021, 3, 31),\n",
       " datetime.date(2021, 12, 2),\n",
       " datetime.date(2018, 10, 9),\n",
       " datetime.date(2021, 8, 6),\n",
       " datetime.date(2020, 4, 3),\n",
       " datetime.date(2022, 9, 12),\n",
       " datetime.date(2018, 1, 8),\n",
       " datetime.date(2020, 1, 30),\n",
       " datetime.date(2024, 7, 30),\n",
       " datetime.date(2022, 1, 20),\n",
       " datetime.date(2024, 10, 10),\n",
       " datetime.date(2018, 10, 16),\n",
       " datetime.date(2023, 1, 5),\n",
       " datetime.date(2020, 3, 12),\n",
       " datetime.date(2018, 6, 14),\n",
       " datetime.date(2021, 5, 14),\n",
       " datetime.date(2018, 7, 4),\n",
       " datetime.date(2020, 8, 24),\n",
       " datetime.date(2019, 12, 13),\n",
       " datetime.date(2020, 4, 1),\n",
       " datetime.date(2022, 10, 21),\n",
       " datetime.date(2022, 9, 16),\n",
       " datetime.date(2019, 7, 31),\n",
       " datetime.date(2018, 10, 3),\n",
       " datetime.date(2024, 9, 3),\n",
       " datetime.date(2023, 10, 31),\n",
       " datetime.date(2019, 1, 31),\n",
       " datetime.date(2024, 4, 5),\n",
       " datetime.date(2022, 2, 16),\n",
       " datetime.date(2020, 8, 10),\n",
       " datetime.date(2019, 1, 17),\n",
       " datetime.date(2023, 10, 11),\n",
       " datetime.date(2023, 9, 1),\n",
       " datetime.date(2020, 1, 23),\n",
       " datetime.date(2023, 11, 24),\n",
       " datetime.date(2023, 1, 17),\n",
       " datetime.date(2022, 6, 22),\n",
       " datetime.date(2018, 8, 28),\n",
       " datetime.date(2019, 8, 1),\n",
       " datetime.date(2021, 6, 24),\n",
       " datetime.date(2023, 4, 20),\n",
       " datetime.date(2024, 9, 4),\n",
       " datetime.date(2024, 2, 15),\n",
       " datetime.date(2021, 12, 20),\n",
       " datetime.date(2018, 1, 24),\n",
       " datetime.date(2021, 4, 20),\n",
       " datetime.date(2022, 2, 17),\n",
       " datetime.date(2018, 11, 15),\n",
       " datetime.date(2022, 6, 20),\n",
       " datetime.date(2024, 12, 2),\n",
       " datetime.date(2019, 8, 13),\n",
       " datetime.date(2021, 12, 15),\n",
       " datetime.date(2023, 7, 14),\n",
       " datetime.date(2018, 5, 28),\n",
       " datetime.date(2024, 3, 18),\n",
       " datetime.date(2020, 8, 19),\n",
       " datetime.date(2022, 5, 26),\n",
       " datetime.date(2022, 2, 18),\n",
       " datetime.date(2021, 11, 25),\n",
       " datetime.date(2024, 5, 16),\n",
       " datetime.date(2019, 9, 25),\n",
       " datetime.date(2024, 10, 18),\n",
       " datetime.date(2020, 3, 31),\n",
       " datetime.date(2020, 5, 7),\n",
       " datetime.date(2024, 2, 1),\n",
       " datetime.date(2019, 1, 18),\n",
       " datetime.date(2021, 12, 3),\n",
       " datetime.date(2022, 7, 1),\n",
       " datetime.date(2021, 9, 15),\n",
       " datetime.date(2023, 11, 7),\n",
       " datetime.date(2020, 2, 20),\n",
       " datetime.date(2022, 12, 16),\n",
       " datetime.date(2023, 11, 23),\n",
       " datetime.date(2023, 9, 8),\n",
       " datetime.date(2024, 10, 1),\n",
       " datetime.date(2018, 1, 16),\n",
       " datetime.date(2020, 6, 3),\n",
       " datetime.date(2024, 11, 8),\n",
       " datetime.date(2019, 2, 1),\n",
       " datetime.date(2023, 3, 14),\n",
       " datetime.date(2021, 2, 18),\n",
       " datetime.date(2024, 4, 8),\n",
       " datetime.date(2021, 7, 29),\n",
       " datetime.date(2024, 4, 1),\n",
       " datetime.date(2020, 4, 20),\n",
       " datetime.date(2022, 2, 15),\n",
       " datetime.date(2019, 5, 3),\n",
       " datetime.date(2021, 7, 2),\n",
       " datetime.date(2018, 7, 18),\n",
       " datetime.date(2018, 1, 10),\n",
       " datetime.date(2024, 7, 11),\n",
       " datetime.date(2021, 6, 11),\n",
       " datetime.date(2020, 1, 29),\n",
       " datetime.date(2022, 5, 25),\n",
       " datetime.date(2020, 7, 14),\n",
       " datetime.date(2024, 2, 28),\n",
       " datetime.date(2018, 5, 31),\n",
       " datetime.date(2022, 12, 27),\n",
       " datetime.date(2021, 3, 17),\n",
       " datetime.date(2021, 5, 7),\n",
       " datetime.date(2019, 8, 30),\n",
       " datetime.date(2023, 12, 8),\n",
       " datetime.date(2022, 3, 9),\n",
       " datetime.date(2018, 2, 22),\n",
       " datetime.date(2018, 12, 19),\n",
       " datetime.date(2023, 6, 22),\n",
       " datetime.date(2024, 3, 21),\n",
       " datetime.date(2022, 5, 11),\n",
       " datetime.date(2019, 3, 14),\n",
       " datetime.date(2019, 7, 9),\n",
       " datetime.date(2020, 6, 12),\n",
       " datetime.date(2019, 4, 25),\n",
       " datetime.date(2018, 2, 9),\n",
       " datetime.date(2019, 10, 10),\n",
       " datetime.date(2020, 4, 29),\n",
       " datetime.date(2020, 4, 28),\n",
       " datetime.date(2020, 11, 6),\n",
       " datetime.date(2018, 7, 5),\n",
       " datetime.date(2024, 1, 9),\n",
       " datetime.date(2021, 12, 13),\n",
       " datetime.date(2021, 2, 5),\n",
       " datetime.date(2018, 3, 26),\n",
       " datetime.date(2023, 5, 11),\n",
       " datetime.date(2018, 9, 25),\n",
       " datetime.date(2023, 4, 27),\n",
       " datetime.date(2025, 2, 5),\n",
       " datetime.date(2019, 4, 30),\n",
       " datetime.date(2024, 12, 5),\n",
       " datetime.date(2019, 9, 30),\n",
       " datetime.date(2021, 11, 15),\n",
       " datetime.date(2018, 6, 26),\n",
       " datetime.date(2023, 4, 28),\n",
       " datetime.date(2019, 3, 13),\n",
       " datetime.date(2019, 9, 4),\n",
       " datetime.date(2021, 1, 19),\n",
       " datetime.date(2020, 9, 21),\n",
       " datetime.date(2022, 5, 20),\n",
       " datetime.date(2018, 11, 27),\n",
       " datetime.date(2023, 7, 24),\n",
       " datetime.date(2021, 11, 16),\n",
       " datetime.date(2020, 9, 17),\n",
       " datetime.date(2018, 10, 29),\n",
       " datetime.date(2018, 6, 1),\n",
       " datetime.date(2024, 9, 6),\n",
       " datetime.date(2023, 1, 27),\n",
       " datetime.date(2019, 4, 15),\n",
       " datetime.date(2019, 8, 6),\n",
       " datetime.date(2021, 11, 18),\n",
       " datetime.date(2019, 4, 2),\n",
       " datetime.date(2022, 1, 27),\n",
       " datetime.date(2022, 12, 21),\n",
       " datetime.date(2024, 8, 1),\n",
       " datetime.date(2018, 4, 11),\n",
       " datetime.date(2021, 5, 6),\n",
       " datetime.date(2020, 3, 5),\n",
       " datetime.date(2023, 10, 3),\n",
       " datetime.date(2022, 10, 20),\n",
       " datetime.date(2019, 5, 17),\n",
       " datetime.date(2019, 1, 1),\n",
       " datetime.date(2020, 3, 11),\n",
       " datetime.date(2024, 1, 4),\n",
       " datetime.date(2024, 12, 27),\n",
       " datetime.date(2018, 10, 15),\n",
       " datetime.date(2021, 8, 9),\n",
       " datetime.date(2022, 1, 31),\n",
       " datetime.date(2023, 12, 4),\n",
       " datetime.date(2024, 1, 8),\n",
       " datetime.date(2022, 10, 25),\n",
       " datetime.date(2023, 5, 10),\n",
       " datetime.date(2024, 3, 27),\n",
       " datetime.date(2019, 11, 1),\n",
       " datetime.date(2021, 2, 1),\n",
       " datetime.date(2018, 2, 12),\n",
       " datetime.date(2024, 8, 13),\n",
       " datetime.date(2019, 9, 5),\n",
       " datetime.date(2020, 1, 22),\n",
       " datetime.date(2019, 5, 2),\n",
       " datetime.date(2023, 3, 1),\n",
       " datetime.date(2020, 9, 15),\n",
       " datetime.date(2020, 6, 30),\n",
       " datetime.date(2024, 12, 19),\n",
       " datetime.date(2022, 2, 23),\n",
       " datetime.date(2022, 8, 3),\n",
       " datetime.date(2024, 10, 30),\n",
       " datetime.date(2022, 3, 11),\n",
       " datetime.date(2023, 5, 26),\n",
       " datetime.date(2019, 12, 5),\n",
       " datetime.date(2022, 4, 7),\n",
       " datetime.date(2024, 4, 19),\n",
       " datetime.date(2018, 3, 15),\n",
       " datetime.date(2020, 5, 27),\n",
       " datetime.date(2020, 4, 15),\n",
       " datetime.date(2022, 4, 18),\n",
       " datetime.date(2021, 7, 9),\n",
       " ...}"
      ]
     },
     "execution_count": 34,
     "metadata": {},
     "output_type": "execute_result"
    }
   ],
   "source": [
    "bnf_1min[\"datetime\"] = pd.to_datetime(bnf_1min[\"datetime\"])\n",
    "list_of_traded_dates = set(bnf_1min[\"datetime\"].dt.date)\n",
    "list_of_traded_dates"
   ]
  },
  {
   "cell_type": "code",
   "execution_count": 35,
   "id": "4e73a9f1-b834-411e-b28e-cf7ec65fcfca",
   "metadata": {
    "execution": {
     "iopub.execute_input": "2025-02-12T09:06:55.756703Z",
     "iopub.status.busy": "2025-02-12T09:06:55.755698Z",
     "iopub.status.idle": "2025-02-12T09:06:55.763419Z",
     "shell.execute_reply": "2025-02-12T09:06:55.761942Z",
     "shell.execute_reply.started": "2025-02-12T09:06:55.756662Z"
    }
   },
   "outputs": [],
   "source": [
    "def rename_ohlc_columns(df: pl.DataFrame) -> pl.DataFrame:\n",
    "\n",
    "    column_mapping = {\"o\": \"open\", \"h\": \"high\", \"l\": \"low\", \"c\": \"close\", \"v\": \"volume\"}\n",
    "    df = df.rename(column_mapping)\n",
    "\n",
    "    return df"
   ]
  },
  {
   "cell_type": "code",
   "execution_count": 36,
   "id": "3e97b9dc-5add-4dbd-8160-d4b294b5d3dc",
   "metadata": {
    "execution": {
     "iopub.execute_input": "2025-02-12T09:06:56.909760Z",
     "iopub.status.busy": "2025-02-12T09:06:56.909126Z",
     "iopub.status.idle": "2025-02-12T09:06:56.915114Z",
     "shell.execute_reply": "2025-02-12T09:06:56.913714Z",
     "shell.execute_reply.started": "2025-02-12T09:06:56.909732Z"
    }
   },
   "outputs": [],
   "source": [
    "PORTFOLIO_VALUE = 12_50_000 # 10 Lacs\n",
    "# RPT_PCT = 0.01 # 1% RPT\n",
    "SLIPPAGE_ = 0.0002\n",
    "LEVERAGE_ = 5"
   ]
  },
  {
   "cell_type": "code",
   "execution_count": 37,
   "id": "8fe87dd6-5c22-4a1b-b716-8da141dd30de",
   "metadata": {
    "execution": {
     "iopub.execute_input": "2025-02-12T09:06:57.334395Z",
     "iopub.status.busy": "2025-02-12T09:06:57.333513Z",
     "iopub.status.idle": "2025-02-12T09:06:57.343365Z",
     "shell.execute_reply": "2025-02-12T09:06:57.341853Z",
     "shell.execute_reply.started": "2025-02-12T09:06:57.334354Z"
    }
   },
   "outputs": [],
   "source": [
    "def calculate_signals(df, ema_length, x_days, pct):\n",
    "    # Calculate X-day High/Low and 20 EMA\n",
    "    df['X_High'] = df['high'].rolling(x_days).mean()\n",
    "    df['X_Low'] = df['low'].rolling(x_days).mean()\n",
    "    df['EMA_20'] = df['close'].ewm(span=ema_length, adjust=False).mean()\n",
    "    \n",
    "    # Trend conditions\n",
    "    df['EMA_Trend'] = df['EMA_20'] > df['EMA_20'].shift(1)\n",
    "    \n",
    "    # Signal conditions\n",
    "    df['Buy_Signal'] = (\n",
    "        (df['close'] > df['X_High'].shift(1) * (1 + (pct / 100))) & \n",
    "        (df['EMA_Trend']) & \n",
    "        (df['close'] > df['EMA_20'])\n",
    "    )\n",
    "    \n",
    "    return df"
   ]
  },
  {
   "cell_type": "code",
   "execution_count": 38,
   "id": "d6a33865-c48b-486a-b8da-e5598116810c",
   "metadata": {
    "execution": {
     "iopub.execute_input": "2025-02-12T09:06:57.539616Z",
     "iopub.status.busy": "2025-02-12T09:06:57.539049Z",
     "iopub.status.idle": "2025-02-12T09:06:57.554137Z",
     "shell.execute_reply": "2025-02-12T09:06:57.553041Z",
     "shell.execute_reply.started": "2025-02-12T09:06:57.539583Z"
    }
   },
   "outputs": [],
   "source": [
    "def backtest3(df):\n",
    "    # print(df.to_string())\n",
    "    # return\n",
    "    df.reset_index(drop=True, inplace=True)\n",
    "    # Variables for long trades\n",
    "    long_position = 0  # 0 = no position, 1 = long\n",
    "    long_entry_price = 0\n",
    "    long_entry_date = None\n",
    "    long_trades = []\n",
    "    tradebook = pd.DataFrame()\n",
    "    tradebook_long = pd.DataFrame()\n",
    "    # tradebook_short = pd.DataFrame()\n",
    "    long_trailing_stop = None\n",
    "    # Variables for short trades\n",
    "    # short_position = 0  # 0 = no position, -1 = short\n",
    "    # short_entry_price = 0\n",
    "    # short_entry_date = None\n",
    "    # short_trades = []\n",
    "    # short_trailing_stop = None\n",
    "\n",
    "    can_add_long = False\n",
    "    # can_add_short = False\n",
    "\n",
    "    trade_number = 0\n",
    "    lock_initial_sl = False\n",
    "    first_sl = 0\n",
    "\n",
    "    lock_initial_sl_2 = False\n",
    "    first_sl_2 = 0\n",
    "\n",
    "    pyramid_number = 0\n",
    "    can_pyramid = True\n",
    "    pyramid_high = 0\n",
    "\n",
    "    for i in range(1, len(df)):\n",
    "        # Entry signals for long trades\n",
    "        long_trailing_stop = df.loc[i, 'EMA_20']\n",
    "        # short_trailing_stop = df.loc[i, 'EMA_20']\n",
    "        \n",
    "        if df.loc[i, 'Buy_Signal'] and long_position == 0:\n",
    "            long_position = 1\n",
    "            long_entry_price = df.loc[i, 'close']\n",
    "            long_entry_date = df.loc[i, 'datetime']\n",
    "            long_trailing_stop = df.loc[i, 'EMA_20']\n",
    "            long_initial_sl = df.loc[i, 'X_Low']\n",
    "\n",
    "            tradebook_long = pd.concat([tradebook_long, pd.DataFrame([{\n",
    "                'Trade No.': trade_number,\n",
    "                'Entry_Date': df.loc[i, 'datetime'],\n",
    "                'Exit_Date': None,\n",
    "                'Trade_Type': 'Long',\n",
    "                'Entry_Price': df.loc[i, 'close'],\n",
    "                'Previous MA Value': df.loc[i-1, 'X_High'],\n",
    "                'Initial SL': long_initial_sl,\n",
    "                'Exit_Price': None,\n",
    "                # 'Profit/Loss': None  # Filled when exited\n",
    "            }])], ignore_index=True)\n",
    "\n",
    "            if not lock_initial_sl:\n",
    "                first_sl = long_initial_sl\n",
    "                lock_initial_sl = True\n",
    "\n",
    "            can_pyramid = True\n",
    "            pyramid_number = 0\n",
    "            pyramid_high = 0\n",
    "            continue\n",
    "                \n",
    "        # Exit or add to long position\n",
    "        if long_position == 1:\n",
    "\n",
    "            \n",
    "            # y_days_low = df['low'].rolling(y_days).min().iloc[i-1]\n",
    "            # y_days_high = df['high'].rolling(y_days).max().iloc[i-1]\n",
    "            \n",
    "            # print(df.iloc[i]['datetime'], y_days_high, y_days_low)\n",
    "            \n",
    "            if df.loc[i, 'low'] <= long_initial_sl:\n",
    "                if df.loc[i, 'open'] <= long_initial_sl:\n",
    "                    tradebook_long.loc[\n",
    "                        (tradebook_long['Trade No.'] == trade_number),\n",
    "                        ['Exit_Date', 'Exit_Price', 'Exit Remark']\n",
    "                    ] = [df.loc[i, 'datetime'] , df.loc[i, 'open'], 'Gap']\n",
    "                    long_position = 0\n",
    "                    can_add_long = False\n",
    "                    trade_number += 1\n",
    "                    lock_initial_sl = False\n",
    "                    first_sl = 0\n",
    "                    can_pyramid = False\n",
    "                    pyramid_number = 0\n",
    "                    pyramid_high = 0\n",
    "                    # if df.loc[i, 'high'] >= long_initial_sl:\n",
    "                    #     tradebook_long.loc[\n",
    "                    #         (tradebook_long['Trade No.'] == trade_number),\n",
    "                    #         ['Exit_Date', 'Exit_Price', 'Exit Remark']\n",
    "                    #     ] = [df.loc[i, 'datetime'] , long_initial_sl, 'Initial SL Hit']\n",
    "                    #     long_position = 0\n",
    "                    #     can_add_long = False\n",
    "                    #     trade_number += 1\n",
    "                    #     lock_initial_sl = False\n",
    "                    #     first_sl = 0\n",
    "                    #     can_pyramid = False\n",
    "                    #     pyramid_number = 0\n",
    "                    #     pyramid_high = 0\n",
    "                    # elif df.loc[i, 'high'] < long_initial_sl:\n",
    "                    #     tradebook_long.loc[\n",
    "                    #         (tradebook_long['Trade No.'] == trade_number),\n",
    "                    #         ['Exit_Date', 'Exit_Price', 'Exit Remark']\n",
    "                    #     ] = [df.loc[i, 'datetime'] , df.loc[i, 'close'], 'Gap Open-Close Below ISL']\n",
    "                    #     long_position = 0\n",
    "                    #     can_add_long = False\n",
    "                    #     trade_number += 1\n",
    "                    #     lock_initial_sl = False\n",
    "                    #     first_sl = 0\n",
    "                    #     can_pyramid = False\n",
    "                    #     pyramid_number = 0\n",
    "                    #     pyramid_high = 0\n",
    "                else:\n",
    "                    tradebook_long.loc[\n",
    "                        (tradebook_long['Trade No.'] == trade_number),\n",
    "                        ['Exit_Date', 'Exit_Price', 'Exit Remark']\n",
    "                    ] = [df.loc[i, 'datetime'] , long_initial_sl, 'Initial SL Hit']\n",
    "                    long_position = 0\n",
    "                    can_add_long = False\n",
    "                    trade_number += 1\n",
    "                    lock_initial_sl = False\n",
    "                    first_sl = 0\n",
    "                    can_pyramid = False\n",
    "                    pyramid_number = 0\n",
    "                    pyramid_high = 0\n",
    "            \n",
    "            elif df.loc[i, 'close'] <= long_trailing_stop:\n",
    "                tradebook_long.loc[\n",
    "                    (tradebook_long['Trade No.'] == trade_number),\n",
    "                    ['Exit_Date', 'Exit_Price', 'Exit Remark']\n",
    "                ] = [df.loc[i, 'datetime'] , df.loc[i, 'close'] , 'Trailing SL Hit']\n",
    "                long_position = 0\n",
    "                can_add_long = False\n",
    "                trade_number += 1\n",
    "                lock_initial_sl = False\n",
    "                first_sl = 0\n",
    "                can_pyramid = False\n",
    "                pyramid_number = 0\n",
    "                pyramid_high = 0\n",
    "\n",
    "            # elif (df.loc[i, 'low'] <= y_days_low) and not can_add_long:\n",
    "            #     # Previous Y Candle Low Breached, confirmation found. Add position on high break\n",
    "            #     can_add_long = True\n",
    "\n",
    "            # if can_add_long and long_position and can_pyramid:\n",
    "            #     if df.loc[i, 'high'] >= y_days_high and pyramid_number < pyr_num:\n",
    "            #         tradebook_long = pd.concat([tradebook_long, pd.DataFrame([{\n",
    "            #             'Trade No.': trade_number,\n",
    "            #             'Entry_Date': df.loc[i, 'datetime'],\n",
    "            #             'Exit_Date': None,\n",
    "            #             'Trade_Type': 'Add_Long',\n",
    "            #             'Entry_Price': y_days_high,\n",
    "            #             'Initial SL': first_sl,\n",
    "            #             'Exit_Price': None,\n",
    "            #             # 'Profit/Loss': None  # Filled when exited\n",
    "            #         }])], ignore_index=True)\n",
    "            #         can_add_long = False\n",
    "            #         pyramid_number += 1\n",
    "            #         can_pyramid = True\n",
    "    \n",
    "    tradebook = pd.concat([tradebook_long, tradebook], ignore_index=True)\n",
    "    return tradebook\n"
   ]
  },
  {
   "cell_type": "code",
   "execution_count": 39,
   "id": "ce424607-ebe6-4830-947c-dcdbc4cfb094",
   "metadata": {
    "execution": {
     "iopub.execute_input": "2025-02-12T09:06:57.688459Z",
     "iopub.status.busy": "2025-02-12T09:06:57.687250Z",
     "iopub.status.idle": "2025-02-12T09:06:57.702754Z",
     "shell.execute_reply": "2025-02-12T09:06:57.701477Z",
     "shell.execute_reply.started": "2025-02-12T09:06:57.688417Z"
    }
   },
   "outputs": [],
   "source": [
    "def backtest(df):\n",
    "    # print(df.to_string())\n",
    "    # return\n",
    "    df.reset_index(drop=True, inplace=True)\n",
    "    # Variables for long trades\n",
    "    long_position = 0  # 0 = no position, 1 = long\n",
    "    long_entry_price = 0\n",
    "    long_entry_date = None\n",
    "    long_trades = []\n",
    "    tradebook = pd.DataFrame()\n",
    "    tradebook_long = pd.DataFrame()\n",
    "    # tradebook_short = pd.DataFrame()\n",
    "    long_trailing_stop = None\n",
    "    # Variables for short trades\n",
    "    # short_position = 0  # 0 = no position, -1 = short\n",
    "    # short_entry_price = 0\n",
    "    # short_entry_date = None\n",
    "    # short_trades = []\n",
    "    # short_trailing_stop = None\n",
    "\n",
    "    can_add_long = False\n",
    "    # can_add_short = False\n",
    "\n",
    "    trade_number = 0\n",
    "    lock_initial_sl = False\n",
    "    first_sl = 0\n",
    "\n",
    "    lock_initial_sl_2 = False\n",
    "    first_sl_2 = 0\n",
    "\n",
    "    pyramid_number = 0\n",
    "    can_pyramid = True\n",
    "    pyramid_high = 0\n",
    "\n",
    "    for i in range(1, len(df)):\n",
    "        # Entry signals for long trades\n",
    "        long_trailing_stop = df.loc[i, 'EMA_20']\n",
    "        # short_trailing_stop = df.loc[i, 'EMA_20']\n",
    "        \n",
    "        if df.loc[i, 'Buy_Signal'] and long_position == 0:\n",
    "            long_position = 1\n",
    "            long_entry_price = df.loc[i, 'close']\n",
    "            long_entry_date = df.loc[i, 'datetime']\n",
    "            long_trailing_stop = df.loc[i, 'EMA_20']\n",
    "            long_initial_sl = df.loc[i, 'X_Low']\n",
    "\n",
    "            tradebook_long = pd.concat([tradebook_long, pd.DataFrame([{\n",
    "                'Trade No.': trade_number,\n",
    "                'Entry_Date': df.loc[i, 'datetime'],\n",
    "                'Exit_Date': None,\n",
    "                'Trade_Type': 'Long',\n",
    "                'Entry_Price': df.loc[i, 'close'],\n",
    "                'Previous MA Value': df.loc[i-1, 'X_High'],\n",
    "                'Initial SL': long_initial_sl,\n",
    "                'Exit_Price': None,\n",
    "                # 'Profit/Loss': None  # Filled when exited\n",
    "            }])], ignore_index=True)\n",
    "\n",
    "            if not lock_initial_sl:\n",
    "                first_sl = long_initial_sl\n",
    "                lock_initial_sl = True\n",
    "\n",
    "            can_pyramid = True\n",
    "            pyramid_number = 0\n",
    "            pyramid_high = 0\n",
    "            continue\n",
    "                \n",
    "        # Exit or add to long position\n",
    "        if long_position == 1:\n",
    "\n",
    "            \n",
    "            # y_days_low = df['low'].rolling(y_days).min().iloc[i-1]\n",
    "            # y_days_high = df['high'].rolling(y_days).max().iloc[i-1]\n",
    "            \n",
    "            # print(df.iloc[i]['datetime'], y_days_high, y_days_low)\n",
    "            \n",
    "            if df.loc[i, 'low'] <= long_initial_sl:\n",
    "                tradebook_long.loc[\n",
    "                    (tradebook_long['Trade No.'] == trade_number),\n",
    "                    ['Exit_Date', 'Exit_Price', 'Exit Remark']\n",
    "                ] = [df.loc[i, 'datetime'] , long_initial_sl , 'Initial SL Hit']\n",
    "                long_position = 0\n",
    "                can_add_long = False\n",
    "                trade_number += 1\n",
    "                lock_initial_sl = False\n",
    "                first_sl = 0\n",
    "                can_pyramid = False\n",
    "                pyramid_number = 0\n",
    "                pyramid_high = 0\n",
    "            \n",
    "            elif df.loc[i, 'close'] <= long_trailing_stop:\n",
    "                tradebook_long.loc[\n",
    "                    (tradebook_long['Trade No.'] == trade_number),\n",
    "                    ['Exit_Date', 'Exit_Price', 'Exit Remark']\n",
    "                ] = [df.loc[i, 'datetime'] , df.loc[i, 'close'] , 'Trailing SL Hit']\n",
    "                long_position = 0\n",
    "                can_add_long = False\n",
    "                trade_number += 1\n",
    "                lock_initial_sl = False\n",
    "                first_sl = 0\n",
    "                can_pyramid = False\n",
    "                pyramid_number = 0\n",
    "                pyramid_high = 0\n",
    "\n",
    "            # elif (df.loc[i, 'low'] <= y_days_low) and not can_add_long:\n",
    "            #     # Previous Y Candle Low Breached, confirmation found. Add position on high break\n",
    "            #     can_add_long = True\n",
    "\n",
    "            # if can_add_long and long_position and can_pyramid:\n",
    "            #     if df.loc[i, 'high'] >= y_days_high and pyramid_number < pyr_num:\n",
    "            #         tradebook_long = pd.concat([tradebook_long, pd.DataFrame([{\n",
    "            #             'Trade No.': trade_number,\n",
    "            #             'Entry_Date': df.loc[i, 'datetime'],\n",
    "            #             'Exit_Date': None,\n",
    "            #             'Trade_Type': 'Add_Long',\n",
    "            #             'Entry_Price': y_days_high,\n",
    "            #             'Initial SL': first_sl,\n",
    "            #             'Exit_Price': None,\n",
    "            #             # 'Profit/Loss': None  # Filled when exited\n",
    "            #         }])], ignore_index=True)\n",
    "            #         can_add_long = False\n",
    "            #         pyramid_number += 1\n",
    "            #         can_pyramid = True\n",
    "    \n",
    "    tradebook = pd.concat([tradebook_long, tradebook], ignore_index=True)\n",
    "    return tradebook\n"
   ]
  },
  {
   "cell_type": "code",
   "execution_count": 40,
   "id": "be2fa54a-87b7-4312-8853-3cf4be8c5784",
   "metadata": {
    "execution": {
     "iopub.execute_input": "2025-02-12T09:06:57.831098Z",
     "iopub.status.busy": "2025-02-12T09:06:57.830653Z",
     "iopub.status.idle": "2025-02-12T09:06:57.839624Z",
     "shell.execute_reply": "2025-02-12T09:06:57.838542Z",
     "shell.execute_reply.started": "2025-02-12T09:06:57.831075Z"
    },
    "jupyter": {
     "source_hidden": true
    }
   },
   "outputs": [],
   "source": [
    "# def backtest(df, y_days):\n",
    "#     # Variables for long trades\n",
    "#     long_position = 0  # 0 = no position, 1 = long\n",
    "#     long_entry_price = 0\n",
    "#     long_entry_date = None\n",
    "#     long_trades = []\n",
    "#     tradebook = pd.DataFrame()\n",
    "#     tradebook_long = pd.DataFrame()\n",
    "#     tradebook_short = pd.DataFrame()\n",
    "#     long_trailing_stop = None\n",
    "#     # Variables for short trades\n",
    "#     short_position = 0  # 0 = no position, -1 = short\n",
    "#     short_entry_price = 0\n",
    "#     short_entry_date = None\n",
    "#     short_trades = []\n",
    "#     short_trailing_stop = None\n",
    "\n",
    "#     can_add_long = False\n",
    "#     can_add_short = False\n",
    "\n",
    "#     trade_number = 0\n",
    "\n",
    "#     for i in range(len(df)):\n",
    "#         # Entry signals for long trades\n",
    "#         long_trailing_stop = df.loc[i, 'EMA_20']\n",
    "#         short_trailing_stop = df.loc[i, 'EMA_20']\n",
    "        \n",
    "#         if df.loc[i, 'Buy_Signal'] and long_position == 0:\n",
    "#             long_position = 1\n",
    "#             long_entry_price = df.loc[i, 'close']\n",
    "#             long_entry_date = df.loc[i, 'datetime']\n",
    "#             long_trailing_stop = df.loc[i, 'EMA_20']\n",
    "#             long_initial_sl = df.loc[i, 'X_Low']\n",
    "\n",
    "#             tradebook_long = pd.concat([tradebook_long, pd.DataFrame([{\n",
    "#                 'Trade No.': trade_number,\n",
    "#                 'Entry_Date': df.loc[i, 'datetime'],\n",
    "#                 'Exit_Date': None,\n",
    "#                 'Trade_Type': 'Long',\n",
    "#                 'Entry_Price': df.loc[i, 'close'],\n",
    "#                 'Initial SL': long_initial_sl,\n",
    "#                 'Exit_Price': None,\n",
    "#                 # 'Profit/Loss': None  # Filled when exited\n",
    "#             }])], ignore_index=True)\n",
    "\n",
    "#         # Exit or add to long position\n",
    "#         if long_position == 1:\n",
    "            \n",
    "#             y_days_low = df['low'].rolling(y_days).min().iloc[i-1]\n",
    "#             y_days_high = df['high'].rolling(y_days).max().iloc[i-1]\n",
    "            \n",
    "#             # print(df.iloc[i]['datetime'], y_days_high, y_days_low)\n",
    "            \n",
    "#             if df.loc[i, 'low'] <= long_initial_sl:\n",
    "#                 tradebook_long.loc[\n",
    "#                     (tradebook_long['Trade No.'] == trade_number),\n",
    "#                     ['Exit_Date', 'Exit_Price']\n",
    "#                 ] = [df.loc[i, 'datetime'] , long_initial_sl]\n",
    "#                 long_position = 0\n",
    "#                 can_add_long = False\n",
    "#                 trade_number += 1\n",
    "            \n",
    "#             elif df.loc[i, 'close'] <= long_trailing_stop:\n",
    "#                 tradebook_long.loc[\n",
    "#                     (tradebook_long['Trade No.'] == trade_number),\n",
    "#                     ['Exit_Date', 'Exit_Price']\n",
    "#                 ] = [df.loc[i, 'datetime'] , df.loc[i, 'close']]\n",
    "#                 long_position = 0\n",
    "#                 can_add_long = False\n",
    "#                 trade_number += 1\n",
    "\n",
    "#             elif (df.loc[i, 'low'] <= y_days_low) and not can_add_long:\n",
    "#                 # Previous Y Candle Low Breached, confirmation found. Add position on high break\n",
    "#                 can_add_long = True\n",
    "\n",
    "#             if can_add_long and long_position:\n",
    "#                 if df.loc[i, 'high'] >= y_days_high:\n",
    "#                     tradebook_long = pd.concat([tradebook_long, pd.DataFrame([{\n",
    "#                         'Trade No.': trade_number,\n",
    "#                         'Entry_Date': df.loc[i, 'datetime'],\n",
    "#                         'Exit_Date': None,\n",
    "#                         'Trade_Type': 'Add_Long',\n",
    "#                         'Entry_Price': y_days_high,\n",
    "#                         'Initial SL': long_initial_sl,\n",
    "#                         'Exit_Price': None,\n",
    "#                         # 'Profit/Loss': None  # Filled when exited\n",
    "#                     }])], ignore_index=True)\n",
    "#                     can_add_long = False\n",
    "\n",
    "#     for i in range(len(df)):\n",
    "        \n",
    "#         # Entry signals for long trades\n",
    "#         long_trailing_stop = df.loc[i, 'EMA_20']\n",
    "#         short_trailing_stop = df.loc[i, 'EMA_20']\n",
    "\n",
    "#         # Entry signals for short trades\n",
    "#         if df.loc[i, 'Sell_Signal'] and short_position == 0:\n",
    "#             short_position = -1\n",
    "#             short_entry_price = df.loc[i, 'close']\n",
    "#             short_entry_date = df.loc[i, 'datetime']\n",
    "#             short_trailing_stop = df.loc[i, 'EMA_20']\n",
    "#             short_initial_sl = df.loc[i, 'X_High']\n",
    "\n",
    "#             tradebook_short = pd.concat([tradebook_short, pd.DataFrame([{\n",
    "#                 'Trade No.': trade_number,\n",
    "#                 'Entry_Date': df.loc[i, 'datetime'],\n",
    "#                 'Exit_Date': None,\n",
    "#                 'Trade_Type': 'Short',\n",
    "#                 'Entry_Price': df.loc[i, 'close'],\n",
    "#                 'Initial SL': short_initial_sl,\n",
    "#                 'Exit_Price': None,\n",
    "#                 # 'Profit/Loss': None  # Filled when exited\n",
    "#             }])], ignore_index=True)\n",
    "\n",
    "#         if short_position == -1:\n",
    "            \n",
    "#             y_days_low = df['low'].rolling(y_days).min().iloc[i-1]\n",
    "#             y_days_high = df['high'].rolling(y_days).max().iloc[i-1]\n",
    "            \n",
    "#             # print(df.iloc[i]['datetime'], y_days_high, y_days_low)\n",
    "            \n",
    "#             if df.loc[i, 'high'] >= short_initial_sl:\n",
    "#                 tradebook_short.loc[\n",
    "#                     (tradebook_short['Trade No.'] == trade_number),\n",
    "#                     ['Exit_Date', 'Exit_Price']\n",
    "#                 ] = [df.loc[i, 'datetime'] ,short_initial_sl]\n",
    "#                 short_position = 0\n",
    "#                 can_add_short = False\n",
    "#                 trade_number += 1\n",
    "            \n",
    "#             elif df.loc[i, 'close'] >= short_trailing_stop:\n",
    "#                 tradebook_short.loc[\n",
    "#                     (tradebook_short['Trade No.'] == trade_number),\n",
    "#                     ['Exit_Date', 'Exit_Price']\n",
    "#                 ] = [df.loc[i, 'datetime'] , df.loc[i, 'close']]\n",
    "#                 short_position = 0\n",
    "#                 can_add_short = False\n",
    "#                 trade_number += 1\n",
    "\n",
    "#             elif (df.loc[i, 'high'] >= y_days_high) and not can_add_short:\n",
    "#                 # Previous Y Candle High Breached, confirmation found. Add position on low break\n",
    "#                 can_add_short = True\n",
    "\n",
    "#             if can_add_short and short_position:\n",
    "#                 if df.loc[i, 'low'] <= y_days_low:\n",
    "#                     tradebook_short = pd.concat([tradebook_short, pd.DataFrame([{\n",
    "#                         'Trade No.': trade_number,\n",
    "#                         'Entry_Date': df.loc[i, 'datetime'],\n",
    "#                         'Exit_Date': None,\n",
    "#                         'Trade_Type': 'Add_Short',\n",
    "#                         'Entry_Price': y_days_low,\n",
    "#                         'Initial SL': short_initial_sl,\n",
    "#                         'Exit_Price': None,\n",
    "#                         # 'Profit/Loss': None  # Filled when exited\n",
    "#                     }])], ignore_index=True)\n",
    "#                     can_add_short = False\n",
    "    \n",
    "#     tradebook = pd.concat([tradebook_long, tradebook_short], ignore_index=True)\n",
    "#     return tradebook\n"
   ]
  },
  {
   "cell_type": "code",
   "execution_count": 59,
   "id": "544b98d6-373c-42cf-b1d7-59ab77d44902",
   "metadata": {
    "execution": {
     "iopub.execute_input": "2025-02-12T09:18:26.968683Z",
     "iopub.status.busy": "2025-02-12T09:18:26.967969Z",
     "iopub.status.idle": "2025-02-12T09:18:28.784479Z",
     "shell.execute_reply": "2025-02-12T09:18:28.783269Z",
     "shell.execute_reply.started": "2025-02-12T09:18:26.968657Z"
    },
    "scrolled": true
   },
   "outputs": [
    {
     "name": "stderr",
     "output_type": "stream",
     "text": [
      "/tmp/ipykernel_67262/3149794742.py:132: FutureWarning: Setting an item of incompatible dtype is deprecated and will raise an error in a future version of pandas. Value 'Trailing SL Hit' has dtype incompatible with float64, please explicitly cast to a compatible dtype first.\n",
      "  tradebook_long.loc[\n"
     ]
    }
   ],
   "source": [
    "ema_length = 74\n",
    "x_days = 34\n",
    "# y_days = 4\n",
    "pct = 0.1\n",
    "RPT = 3\n",
    "df = bnf_1min\n",
    "df = calculate_signals(df, ema_length,x_days, pct)\n",
    "# print(df.tail().to_string())\n",
    "# df1 = df[df['Buy_Signal']]\n",
    "# print(df1.to_string())\n",
    "tb = backtest3(df)\n",
    "tb = tb.sort_values(by='Entry_Date')\n",
    "# variation = f'EMA: {ema_length}, X: {x_days}, Y: {y_days}, PCT: {pct}%, RPT: {RPT}%'"
   ]
  },
  {
   "cell_type": "code",
   "execution_count": 60,
   "id": "9d2a37eb-c52f-4e28-bffc-be8cb77b3830",
   "metadata": {
    "execution": {
     "iopub.execute_input": "2025-02-12T09:18:28.786497Z",
     "iopub.status.busy": "2025-02-12T09:18:28.786016Z",
     "iopub.status.idle": "2025-02-12T09:18:28.801642Z",
     "shell.execute_reply": "2025-02-12T09:18:28.800095Z",
     "shell.execute_reply.started": "2025-02-12T09:18:28.786475Z"
    },
    "scrolled": true
   },
   "outputs": [],
   "source": [
    "import numpy as np\n",
    "portfolio = 1250000\n",
    "tb['PnL'] = np.where(\n",
    "    tb['Trade_Type'].isin(['Long', 'Add_Long']),  # For Long and Add_Long\n",
    "    tb['Exit_Price'] - tb['Entry_Price'],\n",
    "    np.where(\n",
    "        tb['Trade_Type'].isin(['Short', 'Add_Short']),  # For Short and Add_Short\n",
    "        tb['Entry_Price'] - tb['Exit_Price'],\n",
    "        0  # Default case if Trade_Type is something unexpected\n",
    "    )\n",
    ")\n",
    "\n",
    "tb['Slippage'] = SLIPPAGE_ * (tb['Entry_Price'] + tb['Exit_Price'])\n",
    "tb['PnL w cs'] = tb['PnL'] - tb['Slippage']\n",
    "tb['Qty'] = abs(RPT / 100 * portfolio / (tb['Entry_Price'] - tb['Initial SL']))\n",
    "# tb['Qty'] = portfolio * 8 / tb['Entry_Price']\n",
    "tb['Profit_Loss INR'] = tb['Qty'] * tb['PnL w cs']\n",
    "tb['ROI%'] = tb['Profit_Loss INR'] * 100 / portfolio\n",
    "tb['Trade Year'] = tb['Entry_Date'].dt.year"
   ]
  },
  {
   "cell_type": "code",
   "execution_count": 61,
   "id": "fa5571b8-4afe-4f02-bf19-232c6992776a",
   "metadata": {
    "execution": {
     "iopub.execute_input": "2025-02-12T09:18:28.803984Z",
     "iopub.status.busy": "2025-02-12T09:18:28.803368Z",
     "iopub.status.idle": "2025-02-12T09:18:28.809519Z",
     "shell.execute_reply": "2025-02-12T09:18:28.808212Z",
     "shell.execute_reply.started": "2025-02-12T09:18:28.803957Z"
    }
   },
   "outputs": [],
   "source": [
    "# tb['Cumulative_PnL'] = tb['PnL w cs'].cumsum()"
   ]
  },
  {
   "cell_type": "code",
   "execution_count": 62,
   "id": "7da42fca-718f-43fd-8fb9-423c7beb8152",
   "metadata": {
    "execution": {
     "iopub.execute_input": "2025-02-12T09:18:28.812812Z",
     "iopub.status.busy": "2025-02-12T09:18:28.812149Z",
     "iopub.status.idle": "2025-02-12T09:18:28.821727Z",
     "shell.execute_reply": "2025-02-12T09:18:28.820065Z",
     "shell.execute_reply.started": "2025-02-12T09:18:28.812777Z"
    }
   },
   "outputs": [],
   "source": [
    "# tb.to_csv('GOLD TRADE CHECK JJPP.csv', index=False)"
   ]
  },
  {
   "cell_type": "code",
   "execution_count": 63,
   "id": "095a54f0-4c66-490f-97fd-e732e906e54b",
   "metadata": {
    "execution": {
     "iopub.execute_input": "2025-02-12T09:18:28.823616Z",
     "iopub.status.busy": "2025-02-12T09:18:28.823278Z",
     "iopub.status.idle": "2025-02-12T09:18:28.835342Z",
     "shell.execute_reply": "2025-02-12T09:18:28.833984Z",
     "shell.execute_reply.started": "2025-02-12T09:18:28.823568Z"
    },
    "scrolled": true
   },
   "outputs": [],
   "source": [
    "tb = tb.reset_index()\n",
    "# tb"
   ]
  },
  {
   "cell_type": "code",
   "execution_count": 64,
   "id": "42fd12dd-9e55-43ee-be9f-76a032557b9f",
   "metadata": {
    "execution": {
     "iopub.execute_input": "2025-02-12T09:18:28.837446Z",
     "iopub.status.busy": "2025-02-12T09:18:28.837106Z",
     "iopub.status.idle": "2025-02-12T09:18:28.847644Z",
     "shell.execute_reply": "2025-02-12T09:18:28.845999Z",
     "shell.execute_reply.started": "2025-02-12T09:18:28.837422Z"
    },
    "jupyter": {
     "source_hidden": true
    }
   },
   "outputs": [],
   "source": [
    "import matplotlib.pyplot as plt\n",
    "\n",
    "def plot_cumulative_pnl(tb, title=\"Cumulative PnL Over Time\"):\n",
    "    if 'Cumulative_PnL' not in tb.columns:\n",
    "        raise ValueError(\"The DataFrame must contain a 'Cumulative_PnL' column.\")\n",
    "\n",
    "    # Plot cumulative PnL\n",
    "    plt.figure(figsize=(12, 3))\n",
    "    plt.plot(tb.index, tb['Cumulative_PnL'], label='Cumulative PnL', color='blue', linewidth=2)\n",
    "    plt.title(title, fontsize=8)\n",
    "    plt.xlabel('Trade Index', fontsize=6)\n",
    "    plt.ylabel('Cumulative PnL', fontsize=6)\n",
    "    plt.legend(fontsize=6)\n",
    "    plt.grid(alpha=0.5)\n",
    "    plt.show()\n"
   ]
  },
  {
   "cell_type": "code",
   "execution_count": 65,
   "id": "de570f06-e560-4a18-b4fd-fe0ed1833130",
   "metadata": {
    "execution": {
     "iopub.execute_input": "2025-02-12T09:18:28.850217Z",
     "iopub.status.busy": "2025-02-12T09:18:28.849348Z",
     "iopub.status.idle": "2025-02-12T09:18:28.861792Z",
     "shell.execute_reply": "2025-02-12T09:18:28.860385Z",
     "shell.execute_reply.started": "2025-02-12T09:18:28.850180Z"
    }
   },
   "outputs": [],
   "source": [
    "# tb_long_only = tb[(tb['Trade_Type'] == 'Long') | (tb['Trade_Type'] == 'Add_Long')].copy()\n",
    "# tb_long_only['Cumulative_PnL'] = tb_long_only['PnL w cs'].cumsum()"
   ]
  },
  {
   "cell_type": "code",
   "execution_count": 66,
   "id": "2824479d-00d3-4c8f-9809-e7d52e99bf5d",
   "metadata": {
    "execution": {
     "iopub.execute_input": "2025-02-12T09:18:28.864102Z",
     "iopub.status.busy": "2025-02-12T09:18:28.863459Z",
     "iopub.status.idle": "2025-02-12T09:18:28.873595Z",
     "shell.execute_reply": "2025-02-12T09:18:28.872099Z",
     "shell.execute_reply.started": "2025-02-12T09:18:28.864071Z"
    }
   },
   "outputs": [],
   "source": [
    "# tb_long_only = tb_long_only[tb_long_only['Trade Year'] >= 2017]"
   ]
  },
  {
   "cell_type": "code",
   "execution_count": 67,
   "id": "96c0bbb0-8a62-43a4-9bbb-4a0a2ab1049a",
   "metadata": {
    "execution": {
     "iopub.execute_input": "2025-02-12T09:18:28.876967Z",
     "iopub.status.busy": "2025-02-12T09:18:28.876034Z",
     "iopub.status.idle": "2025-02-12T09:18:28.885750Z",
     "shell.execute_reply": "2025-02-12T09:18:28.884313Z",
     "shell.execute_reply.started": "2025-02-12T09:18:28.876931Z"
    },
    "jupyter": {
     "source_hidden": true
    }
   },
   "outputs": [],
   "source": [
    "# plot_cumulative_pnl(tb_long_only)\n",
    "# print(tb_long_only['PnL w cs'].sum())"
   ]
  },
  {
   "cell_type": "code",
   "execution_count": 68,
   "id": "58a626f9-7508-4157-853e-2207d2310e89",
   "metadata": {
    "execution": {
     "iopub.execute_input": "2025-02-12T09:18:28.889751Z",
     "iopub.status.busy": "2025-02-12T09:18:28.888986Z",
     "iopub.status.idle": "2025-02-12T09:18:28.897892Z",
     "shell.execute_reply": "2025-02-12T09:18:28.896546Z",
     "shell.execute_reply.started": "2025-02-12T09:18:28.889710Z"
    },
    "jupyter": {
     "source_hidden": true
    }
   },
   "outputs": [],
   "source": [
    "# plot_cumulative_pnl(tb_short_only)\n",
    "# print(tb_short_only['PnL w cs'].sum())"
   ]
  },
  {
   "cell_type": "code",
   "execution_count": 69,
   "id": "d529a44e-e6f3-43e3-ab6f-36277ec86a62",
   "metadata": {
    "execution": {
     "iopub.execute_input": "2025-02-12T09:18:28.899616Z",
     "iopub.status.busy": "2025-02-12T09:18:28.899298Z",
     "iopub.status.idle": "2025-02-12T09:18:28.909284Z",
     "shell.execute_reply": "2025-02-12T09:18:28.907697Z",
     "shell.execute_reply.started": "2025-02-12T09:18:28.899592Z"
    },
    "jupyter": {
     "source_hidden": true
    }
   },
   "outputs": [],
   "source": [
    "# plot_cumulative_pnl(tb)\n",
    "# print(tb['PnL w cs'].sum())"
   ]
  },
  {
   "cell_type": "code",
   "execution_count": 70,
   "id": "7244bad9-508f-4d00-a589-b0c4b9976679",
   "metadata": {
    "execution": {
     "iopub.execute_input": "2025-02-12T09:18:28.911311Z",
     "iopub.status.busy": "2025-02-12T09:18:28.910933Z",
     "iopub.status.idle": "2025-02-12T09:18:28.923267Z",
     "shell.execute_reply": "2025-02-12T09:18:28.921571Z",
     "shell.execute_reply.started": "2025-02-12T09:18:28.911282Z"
    },
    "jupyter": {
     "source_hidden": true
    },
    "scrolled": true
   },
   "outputs": [],
   "source": [
    "# plot_cumulative_pnl(tb2)\n",
    "# print(tb2['PnL w cs'].sum())"
   ]
  },
  {
   "cell_type": "code",
   "execution_count": 71,
   "id": "1973f6b1-8cdc-42de-901f-b6b08e480d5c",
   "metadata": {
    "execution": {
     "iopub.execute_input": "2025-02-12T09:18:28.925318Z",
     "iopub.status.busy": "2025-02-12T09:18:28.925025Z",
     "iopub.status.idle": "2025-02-12T09:18:28.937644Z",
     "shell.execute_reply": "2025-02-12T09:18:28.936532Z",
     "shell.execute_reply.started": "2025-02-12T09:18:28.925285Z"
    }
   },
   "outputs": [],
   "source": [
    "def generate_stats(tb_expiry, variation):\n",
    "    stats_df8 = pd.DataFrame(\n",
    "        index=range(2018, 2026),\n",
    "        columns=[\n",
    "            \"Total ROI\",\n",
    "            \"Total Trades\",\n",
    "            \"Win Rate\",\n",
    "            \"Avg Profit% per Trade\",\n",
    "            \"Avg Loss% per Trade\",\n",
    "            \"Max Drawdown\",\n",
    "            \"ROI/DD Ratio\",\n",
    "            \"Variation\",\n",
    "        ],\n",
    "    )\n",
    "    combined_df_sorted = tb_expiry\n",
    "    # combined_df_sorted = tb_expiry_ce\n",
    "    # combined_df_sorted = tb_expiry_pe\n",
    "    \n",
    "    # Iterate over each year\n",
    "    for year in range(2018, 2026):\n",
    "        # Filter trades for the current year\n",
    "        year_trades = combined_df_sorted[(combined_df_sorted[\"Trade Year\"] == year)]\n",
    "    \n",
    "        # Calculate total ROI\n",
    "        total_roi = year_trades[\"ROI%\"].sum()\n",
    "    \n",
    "        # Calculate total number of trades\n",
    "        total_trades = len(year_trades)\n",
    "    \n",
    "        # Calculate win rate\n",
    "        win_rate = (year_trades[\"ROI%\"] > 0).mean() * 100\n",
    "    \n",
    "        # Calculate average profit per trade\n",
    "        avg_profit = year_trades[year_trades[\"ROI%\"] > 0][\"ROI%\"].mean()\n",
    "    \n",
    "        # Calculate average loss per trade\n",
    "        avg_loss = year_trades[year_trades[\"ROI%\"] < 0][\"ROI%\"].mean()\n",
    "    \n",
    "        # Calculate maximum drawdown\n",
    "        max_drawdown = (\n",
    "            year_trades[\"ROI%\"].cumsum() - year_trades[\"ROI%\"].cumsum().cummax()\n",
    "        ).min()\n",
    "    \n",
    "        # Calculate ROI/DD ratio\n",
    "        roi_dd_ratio = total_roi / abs(max_drawdown)\n",
    "\n",
    "        variation = variation\n",
    "    \n",
    "        # Store the statistics in the DataFrame\n",
    "        stats_df8.loc[year] = [\n",
    "            total_roi,\n",
    "            total_trades,\n",
    "            win_rate,\n",
    "            avg_profit,\n",
    "            avg_loss,\n",
    "            max_drawdown,\n",
    "            roi_dd_ratio,\n",
    "            variation,\n",
    "        ]\n",
    "    \n",
    "    # Calculate overall statistics\n",
    "    overall_total_roi = stats_df8[\"Total ROI\"].sum()\n",
    "    overall_total_trades = stats_df8[\"Total Trades\"].sum()\n",
    "    overall_win_rate = (combined_df_sorted[\"ROI%\"] > 0).mean() * 100\n",
    "    overall_avg_profit = combined_df_sorted[combined_df_sorted[\"ROI%\"] > 0][\"ROI%\"].mean()\n",
    "    overall_avg_loss = combined_df_sorted[combined_df_sorted[\"ROI%\"] < 0][\"ROI%\"].mean()\n",
    "    overall_max_drawdown = (\n",
    "        combined_df_sorted[\"ROI%\"].cumsum() - combined_df_sorted[\"ROI%\"].cumsum().cummax()\n",
    "    ).min()\n",
    "    overall_roi_dd_ratio = overall_total_roi / abs(overall_max_drawdown)\n",
    "    overall_variation = variation\n",
    "\n",
    "    \n",
    "    # Store the overall statistics in the DataFrame\n",
    "    stats_df8.loc[\"Overall\"] = [\n",
    "        overall_total_roi,\n",
    "        overall_total_trades,\n",
    "        overall_win_rate,\n",
    "        overall_avg_profit,\n",
    "        overall_avg_loss,\n",
    "        overall_max_drawdown,\n",
    "        overall_roi_dd_ratio,\n",
    "        overall_variation,\n",
    "    ]\n",
    "    \n",
    "    # print(f'{overall_total_roi} , {overall_max_drawdown} , {overall_roi_dd_ratio}')\n",
    "    \n",
    "    return {overall_roi_dd_ratio: stats_df8}"
   ]
  },
  {
   "cell_type": "code",
   "execution_count": 72,
   "id": "938db9b0-6567-409a-9b16-690925e5ce28",
   "metadata": {
    "execution": {
     "iopub.execute_input": "2025-02-12T09:18:29.037565Z",
     "iopub.status.busy": "2025-02-12T09:18:29.036999Z",
     "iopub.status.idle": "2025-02-12T09:18:29.044979Z",
     "shell.execute_reply": "2025-02-12T09:18:29.043883Z",
     "shell.execute_reply.started": "2025-02-12T09:18:29.037539Z"
    }
   },
   "outputs": [],
   "source": [
    "tb['Entry_Date'] = pd.to_datetime(tb['Entry_Date'])\n",
    "tb['Trade Year'] = tb['Entry_Date'].dt.year\n",
    "# tb['ROI% w cs'] = tb['ROI%']"
   ]
  },
  {
   "cell_type": "code",
   "execution_count": 73,
   "id": "a4e10729-5889-49f6-8386-e32f6a921b36",
   "metadata": {
    "execution": {
     "iopub.execute_input": "2025-02-12T09:18:29.353547Z",
     "iopub.status.busy": "2025-02-12T09:18:29.352810Z",
     "iopub.status.idle": "2025-02-12T09:18:29.406535Z",
     "shell.execute_reply": "2025-02-12T09:18:29.405109Z",
     "shell.execute_reply.started": "2025-02-12T09:18:29.353514Z"
    }
   },
   "outputs": [
    {
     "data": {
      "text/html": [
       "<div>\n",
       "<style scoped>\n",
       "    .dataframe tbody tr th:only-of-type {\n",
       "        vertical-align: middle;\n",
       "    }\n",
       "\n",
       "    .dataframe tbody tr th {\n",
       "        vertical-align: top;\n",
       "    }\n",
       "\n",
       "    .dataframe thead th {\n",
       "        text-align: right;\n",
       "    }\n",
       "</style>\n",
       "<table border=\"1\" class=\"dataframe\">\n",
       "  <thead>\n",
       "    <tr style=\"text-align: right;\">\n",
       "      <th></th>\n",
       "      <th>Total ROI</th>\n",
       "      <th>Total Trades</th>\n",
       "      <th>Win Rate</th>\n",
       "      <th>Avg Profit% per Trade</th>\n",
       "      <th>Avg Loss% per Trade</th>\n",
       "      <th>Max Drawdown</th>\n",
       "      <th>ROI/DD Ratio</th>\n",
       "      <th>Variation</th>\n",
       "    </tr>\n",
       "  </thead>\n",
       "  <tbody>\n",
       "    <tr>\n",
       "      <th>2018</th>\n",
       "      <td>82.3790</td>\n",
       "      <td>47</td>\n",
       "      <td>38.2979</td>\n",
       "      <td>7.7411</td>\n",
       "      <td>-1.9642</td>\n",
       "      <td>-13.9408</td>\n",
       "      <td>5.9092</td>\n",
       "      <td>...</td>\n",
       "    </tr>\n",
       "    <tr>\n",
       "      <th>2019</th>\n",
       "      <td>46.2765</td>\n",
       "      <td>51</td>\n",
       "      <td>35.2941</td>\n",
       "      <td>6.0783</td>\n",
       "      <td>-1.9131</td>\n",
       "      <td>-16.3220</td>\n",
       "      <td>2.8352</td>\n",
       "      <td>...</td>\n",
       "    </tr>\n",
       "    <tr>\n",
       "      <th>2020</th>\n",
       "      <td>121.0116</td>\n",
       "      <td>48</td>\n",
       "      <td>37.5000</td>\n",
       "      <td>10.3136</td>\n",
       "      <td>-2.1545</td>\n",
       "      <td>-12.6714</td>\n",
       "      <td>9.5500</td>\n",
       "      <td>...</td>\n",
       "    </tr>\n",
       "    <tr>\n",
       "      <th>2021</th>\n",
       "      <td>123.5390</td>\n",
       "      <td>46</td>\n",
       "      <td>36.9565</td>\n",
       "      <td>10.2269</td>\n",
       "      <td>-1.7351</td>\n",
       "      <td>-22.2795</td>\n",
       "      <td>5.5450</td>\n",
       "      <td>...</td>\n",
       "    </tr>\n",
       "    <tr>\n",
       "      <th>2022</th>\n",
       "      <td>123.7855</td>\n",
       "      <td>39</td>\n",
       "      <td>30.7692</td>\n",
       "      <td>13.8910</td>\n",
       "      <td>-1.5891</td>\n",
       "      <td>-16.4204</td>\n",
       "      <td>7.5385</td>\n",
       "      <td>...</td>\n",
       "    </tr>\n",
       "    <tr>\n",
       "      <th>2023</th>\n",
       "      <td>146.2052</td>\n",
       "      <td>56</td>\n",
       "      <td>23.2143</td>\n",
       "      <td>16.9157</td>\n",
       "      <td>-1.7139</td>\n",
       "      <td>-19.7400</td>\n",
       "      <td>7.4065</td>\n",
       "      <td>...</td>\n",
       "    </tr>\n",
       "    <tr>\n",
       "      <th>2024</th>\n",
       "      <td>48.1677</td>\n",
       "      <td>54</td>\n",
       "      <td>29.6296</td>\n",
       "      <td>7.1072</td>\n",
       "      <td>-1.7249</td>\n",
       "      <td>-14.2021</td>\n",
       "      <td>3.3916</td>\n",
       "      <td>...</td>\n",
       "    </tr>\n",
       "    <tr>\n",
       "      <th>2025</th>\n",
       "      <td>-10.8132</td>\n",
       "      <td>11</td>\n",
       "      <td>18.1818</td>\n",
       "      <td>3.3865</td>\n",
       "      <td>-1.9540</td>\n",
       "      <td>-13.2824</td>\n",
       "      <td>-0.8141</td>\n",
       "      <td>...</td>\n",
       "    </tr>\n",
       "    <tr>\n",
       "      <th>Overall</th>\n",
       "      <td>680.5514</td>\n",
       "      <td>352</td>\n",
       "      <td>32.3864</td>\n",
       "      <td>9.7836</td>\n",
       "      <td>-1.8268</td>\n",
       "      <td>-22.8015</td>\n",
       "      <td>29.8468</td>\n",
       "      <td>...</td>\n",
       "    </tr>\n",
       "  </tbody>\n",
       "</table>\n",
       "</div>"
      ],
      "text/plain": [
       "        Total ROI Total Trades Win Rate Avg Profit% per Trade  \\\n",
       "2018      82.3790           47  38.2979                7.7411   \n",
       "2019      46.2765           51  35.2941                6.0783   \n",
       "2020     121.0116           48  37.5000               10.3136   \n",
       "2021     123.5390           46  36.9565               10.2269   \n",
       "2022     123.7855           39  30.7692               13.8910   \n",
       "2023     146.2052           56  23.2143               16.9157   \n",
       "2024      48.1677           54  29.6296                7.1072   \n",
       "2025     -10.8132           11  18.1818                3.3865   \n",
       "Overall  680.5514          352  32.3864                9.7836   \n",
       "\n",
       "        Avg Loss% per Trade Max Drawdown ROI/DD Ratio Variation  \n",
       "2018                -1.9642     -13.9408       5.9092       ...  \n",
       "2019                -1.9131     -16.3220       2.8352       ...  \n",
       "2020                -2.1545     -12.6714       9.5500       ...  \n",
       "2021                -1.7351     -22.2795       5.5450       ...  \n",
       "2022                -1.5891     -16.4204       7.5385       ...  \n",
       "2023                -1.7139     -19.7400       7.4065       ...  \n",
       "2024                -1.7249     -14.2021       3.3916       ...  \n",
       "2025                -1.9540     -13.2824      -0.8141       ...  \n",
       "Overall             -1.8268     -22.8015      29.8468       ...  "
      ]
     },
     "execution_count": 73,
     "metadata": {},
     "output_type": "execute_result"
    }
   ],
   "source": [
    "stats = generate_stats(tb, '...')\n",
    "lol = pd.DataFrame()\n",
    "for x, y in stats.items():\n",
    "    lol = pd.DataFrame(y)\n",
    "\n",
    "lol"
   ]
  },
  {
   "cell_type": "markdown",
   "id": "2551dda7-5013-42ee-9c38-147beabe4ee9",
   "metadata": {},
   "source": [
    "# NIFTY 30min -> 74, 34, 0.1%, 3% RPT"
   ]
  },
  {
   "cell_type": "code",
   "execution_count": 74,
   "id": "557af72c-768d-4228-9dc3-6932a817a1a5",
   "metadata": {
    "execution": {
     "iopub.execute_input": "2025-02-12T09:18:29.775346Z",
     "iopub.status.busy": "2025-02-12T09:18:29.774207Z",
     "iopub.status.idle": "2025-02-12T09:18:29.786404Z",
     "shell.execute_reply": "2025-02-12T09:18:29.784969Z",
     "shell.execute_reply.started": "2025-02-12T09:18:29.775317Z"
    }
   },
   "outputs": [
    {
     "data": {
      "text/plain": [
       "(680.5513910579385, 0)"
      ]
     },
     "execution_count": 74,
     "metadata": {},
     "output_type": "execute_result"
    }
   ],
   "source": [
    "tb1 = tb[tb['Trade_Type'] == 'Long']\n",
    "tb2 = tb[tb['Trade_Type'] == 'Add_Long']\n",
    "tb1['ROI%'].sum() , tb2['ROI%'].sum()"
   ]
  },
  {
   "cell_type": "code",
   "execution_count": 75,
   "id": "97055e75-731e-4420-83a0-4c715364050a",
   "metadata": {
    "execution": {
     "iopub.execute_input": "2025-02-12T09:18:30.113225Z",
     "iopub.status.busy": "2025-02-12T09:18:30.112557Z",
     "iopub.status.idle": "2025-02-12T09:18:30.132196Z",
     "shell.execute_reply": "2025-02-12T09:18:30.130535Z",
     "shell.execute_reply.started": "2025-02-12T09:18:30.113198Z"
    },
    "scrolled": true
   },
   "outputs": [
    {
     "data": {
      "text/html": [
       "<div>\n",
       "<style scoped>\n",
       "    .dataframe tbody tr th:only-of-type {\n",
       "        vertical-align: middle;\n",
       "    }\n",
       "\n",
       "    .dataframe tbody tr th {\n",
       "        vertical-align: top;\n",
       "    }\n",
       "\n",
       "    .dataframe thead th {\n",
       "        text-align: right;\n",
       "    }\n",
       "</style>\n",
       "<table border=\"1\" class=\"dataframe\">\n",
       "  <thead>\n",
       "    <tr style=\"text-align: right;\">\n",
       "      <th></th>\n",
       "      <th>index</th>\n",
       "      <th>Trade No.</th>\n",
       "      <th>Entry_Date</th>\n",
       "      <th>Exit_Date</th>\n",
       "      <th>Trade_Type</th>\n",
       "      <th>Entry_Price</th>\n",
       "      <th>Previous MA Value</th>\n",
       "      <th>Initial SL</th>\n",
       "      <th>Exit_Price</th>\n",
       "      <th>Exit Remark</th>\n",
       "      <th>PnL</th>\n",
       "      <th>Slippage</th>\n",
       "      <th>PnL w cs</th>\n",
       "      <th>Qty</th>\n",
       "      <th>Profit_Loss INR</th>\n",
       "      <th>ROI%</th>\n",
       "      <th>Trade Year</th>\n",
       "    </tr>\n",
       "  </thead>\n",
       "  <tbody>\n",
       "    <tr>\n",
       "      <th>347</th>\n",
       "      <td>347</td>\n",
       "      <td>347</td>\n",
       "      <td>2025-01-23 15:15:00+05:30</td>\n",
       "      <td>2025-01-24 09:45:00+05:30</td>\n",
       "      <td>Long</td>\n",
       "      <td>23217.8500</td>\n",
       "      <td>23186.5353</td>\n",
       "      <td>23115.0985</td>\n",
       "      <td>23156.3500</td>\n",
       "      <td>Trailing SL Hit</td>\n",
       "      <td>-61.5000</td>\n",
       "      <td>9.2748</td>\n",
       "      <td>-70.7748</td>\n",
       "      <td>364.9583</td>\n",
       "      <td>-25829.8639</td>\n",
       "      <td>-2.0664</td>\n",
       "      <td>2025</td>\n",
       "    </tr>\n",
       "    <tr>\n",
       "      <th>348</th>\n",
       "      <td>348</td>\n",
       "      <td>348</td>\n",
       "      <td>2025-01-24 10:45:00+05:30</td>\n",
       "      <td>2025-01-24 12:15:00+05:30</td>\n",
       "      <td>Long</td>\n",
       "      <td>23279.2000</td>\n",
       "      <td>23180.1500</td>\n",
       "      <td>23115.9912</td>\n",
       "      <td>23213.5500</td>\n",
       "      <td>Trailing SL Hit</td>\n",
       "      <td>-65.6500</td>\n",
       "      <td>9.2986</td>\n",
       "      <td>-74.9486</td>\n",
       "      <td>229.7670</td>\n",
       "      <td>-17220.7027</td>\n",
       "      <td>-1.3777</td>\n",
       "      <td>2025</td>\n",
       "    </tr>\n",
       "    <tr>\n",
       "      <th>349</th>\n",
       "      <td>349</td>\n",
       "      <td>349</td>\n",
       "      <td>2025-01-28 14:15:00+05:30</td>\n",
       "      <td>2025-01-28 14:45:00+05:30</td>\n",
       "      <td>Long</td>\n",
       "      <td>23129.3500</td>\n",
       "      <td>23046.0191</td>\n",
       "      <td>22973.9971</td>\n",
       "      <td>22973.9971</td>\n",
       "      <td>Initial SL Hit</td>\n",
       "      <td>-155.3529</td>\n",
       "      <td>9.2207</td>\n",
       "      <td>-164.5736</td>\n",
       "      <td>241.3858</td>\n",
       "      <td>-39725.7390</td>\n",
       "      <td>-3.1781</td>\n",
       "      <td>2025</td>\n",
       "    </tr>\n",
       "    <tr>\n",
       "      <th>350</th>\n",
       "      <td>350</td>\n",
       "      <td>350</td>\n",
       "      <td>2025-01-29 10:15:00+05:30</td>\n",
       "      <td>2025-02-03 09:15:00+05:30</td>\n",
       "      <td>Long</td>\n",
       "      <td>23074.1000</td>\n",
       "      <td>23014.1279</td>\n",
       "      <td>22938.6691</td>\n",
       "      <td>23257.1000</td>\n",
       "      <td>Trailing SL Hit</td>\n",
       "      <td>183.0000</td>\n",
       "      <td>9.2662</td>\n",
       "      <td>173.7338</td>\n",
       "      <td>276.8940</td>\n",
       "      <td>48105.8374</td>\n",
       "      <td>3.8485</td>\n",
       "      <td>2025</td>\n",
       "    </tr>\n",
       "    <tr>\n",
       "      <th>351</th>\n",
       "      <td>351</td>\n",
       "      <td>351</td>\n",
       "      <td>2025-02-04 09:15:00+05:30</td>\n",
       "      <td>2025-02-07 13:45:00+05:30</td>\n",
       "      <td>Long</td>\n",
       "      <td>23572.4000</td>\n",
       "      <td>23460.6324</td>\n",
       "      <td>23389.8471</td>\n",
       "      <td>23461.0500</td>\n",
       "      <td>Trailing SL Hit</td>\n",
       "      <td>-111.3500</td>\n",
       "      <td>9.4067</td>\n",
       "      <td>-120.7567</td>\n",
       "      <td>205.4199</td>\n",
       "      <td>-24805.8226</td>\n",
       "      <td>-1.9845</td>\n",
       "      <td>2025</td>\n",
       "    </tr>\n",
       "  </tbody>\n",
       "</table>\n",
       "</div>"
      ],
      "text/plain": [
       "     index  Trade No.                Entry_Date                  Exit_Date  \\\n",
       "347    347        347 2025-01-23 15:15:00+05:30  2025-01-24 09:45:00+05:30   \n",
       "348    348        348 2025-01-24 10:45:00+05:30  2025-01-24 12:15:00+05:30   \n",
       "349    349        349 2025-01-28 14:15:00+05:30  2025-01-28 14:45:00+05:30   \n",
       "350    350        350 2025-01-29 10:15:00+05:30  2025-02-03 09:15:00+05:30   \n",
       "351    351        351 2025-02-04 09:15:00+05:30  2025-02-07 13:45:00+05:30   \n",
       "\n",
       "    Trade_Type  Entry_Price  Previous MA Value  Initial SL Exit_Price  \\\n",
       "347       Long   23217.8500         23186.5353  23115.0985 23156.3500   \n",
       "348       Long   23279.2000         23180.1500  23115.9912 23213.5500   \n",
       "349       Long   23129.3500         23046.0191  22973.9971 22973.9971   \n",
       "350       Long   23074.1000         23014.1279  22938.6691 23257.1000   \n",
       "351       Long   23572.4000         23460.6324  23389.8471 23461.0500   \n",
       "\n",
       "         Exit Remark       PnL Slippage  PnL w cs      Qty Profit_Loss INR  \\\n",
       "347  Trailing SL Hit  -61.5000   9.2748  -70.7748 364.9583     -25829.8639   \n",
       "348  Trailing SL Hit  -65.6500   9.2986  -74.9486 229.7670     -17220.7027   \n",
       "349   Initial SL Hit -155.3529   9.2207 -164.5736 241.3858     -39725.7390   \n",
       "350  Trailing SL Hit  183.0000   9.2662  173.7338 276.8940      48105.8374   \n",
       "351  Trailing SL Hit -111.3500   9.4067 -120.7567 205.4199     -24805.8226   \n",
       "\n",
       "       ROI%  Trade Year  \n",
       "347 -2.0664        2025  \n",
       "348 -1.3777        2025  \n",
       "349 -3.1781        2025  \n",
       "350  3.8485        2025  \n",
       "351 -1.9845        2025  "
      ]
     },
     "execution_count": 75,
     "metadata": {},
     "output_type": "execute_result"
    }
   ],
   "source": [
    "# tb_g = tb[tb['Exit Remark'] == 'Gap']\n",
    "tb.tail(5)"
   ]
  },
  {
   "cell_type": "code",
   "execution_count": 76,
   "id": "a194fb70-ba76-4395-826d-df4b06ec176d",
   "metadata": {
    "execution": {
     "iopub.execute_input": "2025-02-12T09:18:30.449828Z",
     "iopub.status.busy": "2025-02-12T09:18:30.448757Z",
     "iopub.status.idle": "2025-02-12T09:18:30.478206Z",
     "shell.execute_reply": "2025-02-12T09:18:30.476807Z",
     "shell.execute_reply.started": "2025-02-12T09:18:30.449784Z"
    },
    "scrolled": true
   },
   "outputs": [],
   "source": [
    "tb.to_csv('Turtle_NIFTY.csv')"
   ]
  },
  {
   "cell_type": "code",
   "execution_count": 77,
   "id": "1706cc8b-5462-435e-a9bf-0fa4a7f542c7",
   "metadata": {
    "execution": {
     "iopub.execute_input": "2025-02-12T09:18:31.044780Z",
     "iopub.status.busy": "2025-02-12T09:18:31.044100Z",
     "iopub.status.idle": "2025-02-12T09:18:31.050037Z",
     "shell.execute_reply": "2025-02-12T09:18:31.048629Z",
     "shell.execute_reply.started": "2025-02-12T09:18:31.044755Z"
    }
   },
   "outputs": [],
   "source": [
    "# tb_long_only.to_csv('GOLD Range JJPP.csv', index=False)"
   ]
  },
  {
   "cell_type": "code",
   "execution_count": 248,
   "id": "25678f46-885a-4bfb-b2e9-f931209225ed",
   "metadata": {
    "execution": {
     "iopub.execute_input": "2024-12-19T06:58:40.232727Z",
     "iopub.status.busy": "2024-12-19T06:58:40.231942Z",
     "iopub.status.idle": "2024-12-19T07:26:06.451095Z",
     "shell.execute_reply": "2024-12-19T07:26:06.449287Z",
     "shell.execute_reply.started": "2024-12-19T06:58:40.232697Z"
    },
    "scrolled": true
   },
   "outputs": [
    {
     "name": "stdout",
     "output_type": "stream",
     "text": [
      "EMA:20, X:4, PCT:0.1\n"
     ]
    },
    {
     "name": "stderr",
     "output_type": "stream",
     "text": [
      "/tmp/ipykernel_37183/3149794742.py:132: FutureWarning: Setting an item of incompatible dtype is deprecated and will raise an error in a future version of pandas. Value 'Trailing SL Hit' has dtype incompatible with float64, please explicitly cast to a compatible dtype first.\n",
      "  tradebook_long.loc[\n"
     ]
    },
    {
     "name": "stdout",
     "output_type": "stream",
     "text": [
      "EMA:20, X:4, PCT:0.25\n"
     ]
    },
    {
     "name": "stderr",
     "output_type": "stream",
     "text": [
      "/tmp/ipykernel_37183/3149794742.py:132: FutureWarning: Setting an item of incompatible dtype is deprecated and will raise an error in a future version of pandas. Value 'Trailing SL Hit' has dtype incompatible with float64, please explicitly cast to a compatible dtype first.\n",
      "  tradebook_long.loc[\n"
     ]
    },
    {
     "name": "stdout",
     "output_type": "stream",
     "text": [
      "EMA:20, X:7, PCT:0.1\n"
     ]
    },
    {
     "name": "stderr",
     "output_type": "stream",
     "text": [
      "/tmp/ipykernel_37183/3149794742.py:132: FutureWarning: Setting an item of incompatible dtype is deprecated and will raise an error in a future version of pandas. Value 'Trailing SL Hit' has dtype incompatible with float64, please explicitly cast to a compatible dtype first.\n",
      "  tradebook_long.loc[\n"
     ]
    },
    {
     "name": "stdout",
     "output_type": "stream",
     "text": [
      "EMA:20, X:7, PCT:0.25\n"
     ]
    },
    {
     "name": "stderr",
     "output_type": "stream",
     "text": [
      "/tmp/ipykernel_37183/3149794742.py:132: FutureWarning: Setting an item of incompatible dtype is deprecated and will raise an error in a future version of pandas. Value 'Trailing SL Hit' has dtype incompatible with float64, please explicitly cast to a compatible dtype first.\n",
      "  tradebook_long.loc[\n"
     ]
    },
    {
     "name": "stdout",
     "output_type": "stream",
     "text": [
      "EMA:20, X:10, PCT:0.1\n"
     ]
    },
    {
     "name": "stderr",
     "output_type": "stream",
     "text": [
      "/tmp/ipykernel_37183/3149794742.py:132: FutureWarning: Setting an item of incompatible dtype is deprecated and will raise an error in a future version of pandas. Value 'Trailing SL Hit' has dtype incompatible with float64, please explicitly cast to a compatible dtype first.\n",
      "  tradebook_long.loc[\n"
     ]
    },
    {
     "name": "stdout",
     "output_type": "stream",
     "text": [
      "EMA:20, X:10, PCT:0.25\n"
     ]
    },
    {
     "name": "stderr",
     "output_type": "stream",
     "text": [
      "/tmp/ipykernel_37183/3149794742.py:132: FutureWarning: Setting an item of incompatible dtype is deprecated and will raise an error in a future version of pandas. Value 'Trailing SL Hit' has dtype incompatible with float64, please explicitly cast to a compatible dtype first.\n",
      "  tradebook_long.loc[\n"
     ]
    },
    {
     "name": "stdout",
     "output_type": "stream",
     "text": [
      "EMA:20, X:13, PCT:0.1\n"
     ]
    },
    {
     "name": "stderr",
     "output_type": "stream",
     "text": [
      "/tmp/ipykernel_37183/3149794742.py:132: FutureWarning: Setting an item of incompatible dtype is deprecated and will raise an error in a future version of pandas. Value 'Trailing SL Hit' has dtype incompatible with float64, please explicitly cast to a compatible dtype first.\n",
      "  tradebook_long.loc[\n"
     ]
    },
    {
     "name": "stdout",
     "output_type": "stream",
     "text": [
      "EMA:20, X:13, PCT:0.25\n"
     ]
    },
    {
     "name": "stderr",
     "output_type": "stream",
     "text": [
      "/tmp/ipykernel_37183/3149794742.py:132: FutureWarning: Setting an item of incompatible dtype is deprecated and will raise an error in a future version of pandas. Value 'Trailing SL Hit' has dtype incompatible with float64, please explicitly cast to a compatible dtype first.\n",
      "  tradebook_long.loc[\n"
     ]
    },
    {
     "name": "stdout",
     "output_type": "stream",
     "text": [
      "EMA:20, X:16, PCT:0.1\n"
     ]
    },
    {
     "name": "stderr",
     "output_type": "stream",
     "text": [
      "/tmp/ipykernel_37183/3149794742.py:132: FutureWarning: Setting an item of incompatible dtype is deprecated and will raise an error in a future version of pandas. Value 'Trailing SL Hit' has dtype incompatible with float64, please explicitly cast to a compatible dtype first.\n",
      "  tradebook_long.loc[\n"
     ]
    },
    {
     "name": "stdout",
     "output_type": "stream",
     "text": [
      "EMA:20, X:16, PCT:0.25\n"
     ]
    },
    {
     "name": "stderr",
     "output_type": "stream",
     "text": [
      "/tmp/ipykernel_37183/3149794742.py:132: FutureWarning: Setting an item of incompatible dtype is deprecated and will raise an error in a future version of pandas. Value 'Trailing SL Hit' has dtype incompatible with float64, please explicitly cast to a compatible dtype first.\n",
      "  tradebook_long.loc[\n"
     ]
    },
    {
     "name": "stdout",
     "output_type": "stream",
     "text": [
      "EMA:20, X:19, PCT:0.1\n"
     ]
    },
    {
     "name": "stderr",
     "output_type": "stream",
     "text": [
      "/tmp/ipykernel_37183/3149794742.py:132: FutureWarning: Setting an item of incompatible dtype is deprecated and will raise an error in a future version of pandas. Value 'Trailing SL Hit' has dtype incompatible with float64, please explicitly cast to a compatible dtype first.\n",
      "  tradebook_long.loc[\n"
     ]
    },
    {
     "name": "stdout",
     "output_type": "stream",
     "text": [
      "EMA:20, X:19, PCT:0.25\n"
     ]
    },
    {
     "name": "stderr",
     "output_type": "stream",
     "text": [
      "/tmp/ipykernel_37183/3149794742.py:132: FutureWarning: Setting an item of incompatible dtype is deprecated and will raise an error in a future version of pandas. Value 'Trailing SL Hit' has dtype incompatible with float64, please explicitly cast to a compatible dtype first.\n",
      "  tradebook_long.loc[\n"
     ]
    },
    {
     "name": "stdout",
     "output_type": "stream",
     "text": [
      "EMA:20, X:22, PCT:0.1\n"
     ]
    },
    {
     "name": "stderr",
     "output_type": "stream",
     "text": [
      "/tmp/ipykernel_37183/3149794742.py:132: FutureWarning: Setting an item of incompatible dtype is deprecated and will raise an error in a future version of pandas. Value 'Trailing SL Hit' has dtype incompatible with float64, please explicitly cast to a compatible dtype first.\n",
      "  tradebook_long.loc[\n"
     ]
    },
    {
     "name": "stdout",
     "output_type": "stream",
     "text": [
      "EMA:20, X:22, PCT:0.25\n"
     ]
    },
    {
     "name": "stderr",
     "output_type": "stream",
     "text": [
      "/tmp/ipykernel_37183/3149794742.py:132: FutureWarning: Setting an item of incompatible dtype is deprecated and will raise an error in a future version of pandas. Value 'Trailing SL Hit' has dtype incompatible with float64, please explicitly cast to a compatible dtype first.\n",
      "  tradebook_long.loc[\n"
     ]
    },
    {
     "name": "stdout",
     "output_type": "stream",
     "text": [
      "EMA:20, X:25, PCT:0.1\n"
     ]
    },
    {
     "name": "stderr",
     "output_type": "stream",
     "text": [
      "/tmp/ipykernel_37183/3149794742.py:118: FutureWarning: Setting an item of incompatible dtype is deprecated and will raise an error in a future version of pandas. Value 'Initial SL Hit' has dtype incompatible with float64, please explicitly cast to a compatible dtype first.\n",
      "  tradebook_long.loc[\n"
     ]
    },
    {
     "name": "stdout",
     "output_type": "stream",
     "text": [
      "EMA:20, X:25, PCT:0.25\n"
     ]
    },
    {
     "name": "stderr",
     "output_type": "stream",
     "text": [
      "/tmp/ipykernel_37183/3149794742.py:132: FutureWarning: Setting an item of incompatible dtype is deprecated and will raise an error in a future version of pandas. Value 'Trailing SL Hit' has dtype incompatible with float64, please explicitly cast to a compatible dtype first.\n",
      "  tradebook_long.loc[\n"
     ]
    },
    {
     "name": "stdout",
     "output_type": "stream",
     "text": [
      "EMA:20, X:28, PCT:0.1\n"
     ]
    },
    {
     "name": "stderr",
     "output_type": "stream",
     "text": [
      "/tmp/ipykernel_37183/3149794742.py:132: FutureWarning: Setting an item of incompatible dtype is deprecated and will raise an error in a future version of pandas. Value 'Trailing SL Hit' has dtype incompatible with float64, please explicitly cast to a compatible dtype first.\n",
      "  tradebook_long.loc[\n"
     ]
    },
    {
     "name": "stdout",
     "output_type": "stream",
     "text": [
      "EMA:20, X:28, PCT:0.25\n"
     ]
    },
    {
     "name": "stderr",
     "output_type": "stream",
     "text": [
      "/tmp/ipykernel_37183/3149794742.py:132: FutureWarning: Setting an item of incompatible dtype is deprecated and will raise an error in a future version of pandas. Value 'Trailing SL Hit' has dtype incompatible with float64, please explicitly cast to a compatible dtype first.\n",
      "  tradebook_long.loc[\n"
     ]
    },
    {
     "name": "stdout",
     "output_type": "stream",
     "text": [
      "EMA:20, X:31, PCT:0.1\n"
     ]
    },
    {
     "name": "stderr",
     "output_type": "stream",
     "text": [
      "/tmp/ipykernel_37183/3149794742.py:132: FutureWarning: Setting an item of incompatible dtype is deprecated and will raise an error in a future version of pandas. Value 'Trailing SL Hit' has dtype incompatible with float64, please explicitly cast to a compatible dtype first.\n",
      "  tradebook_long.loc[\n"
     ]
    },
    {
     "name": "stdout",
     "output_type": "stream",
     "text": [
      "EMA:20, X:31, PCT:0.25\n"
     ]
    },
    {
     "name": "stderr",
     "output_type": "stream",
     "text": [
      "/tmp/ipykernel_37183/3149794742.py:132: FutureWarning: Setting an item of incompatible dtype is deprecated and will raise an error in a future version of pandas. Value 'Trailing SL Hit' has dtype incompatible with float64, please explicitly cast to a compatible dtype first.\n",
      "  tradebook_long.loc[\n"
     ]
    },
    {
     "name": "stdout",
     "output_type": "stream",
     "text": [
      "EMA:20, X:34, PCT:0.1\n"
     ]
    },
    {
     "name": "stderr",
     "output_type": "stream",
     "text": [
      "/tmp/ipykernel_37183/3149794742.py:132: FutureWarning: Setting an item of incompatible dtype is deprecated and will raise an error in a future version of pandas. Value 'Trailing SL Hit' has dtype incompatible with float64, please explicitly cast to a compatible dtype first.\n",
      "  tradebook_long.loc[\n"
     ]
    },
    {
     "name": "stdout",
     "output_type": "stream",
     "text": [
      "EMA:20, X:34, PCT:0.25\n"
     ]
    },
    {
     "name": "stderr",
     "output_type": "stream",
     "text": [
      "/tmp/ipykernel_37183/3149794742.py:132: FutureWarning: Setting an item of incompatible dtype is deprecated and will raise an error in a future version of pandas. Value 'Trailing SL Hit' has dtype incompatible with float64, please explicitly cast to a compatible dtype first.\n",
      "  tradebook_long.loc[\n"
     ]
    },
    {
     "name": "stdout",
     "output_type": "stream",
     "text": [
      "EMA:22, X:4, PCT:0.1\n"
     ]
    },
    {
     "name": "stderr",
     "output_type": "stream",
     "text": [
      "/tmp/ipykernel_37183/3149794742.py:132: FutureWarning: Setting an item of incompatible dtype is deprecated and will raise an error in a future version of pandas. Value 'Trailing SL Hit' has dtype incompatible with float64, please explicitly cast to a compatible dtype first.\n",
      "  tradebook_long.loc[\n"
     ]
    },
    {
     "name": "stdout",
     "output_type": "stream",
     "text": [
      "EMA:22, X:4, PCT:0.25\n"
     ]
    },
    {
     "name": "stderr",
     "output_type": "stream",
     "text": [
      "/tmp/ipykernel_37183/3149794742.py:132: FutureWarning: Setting an item of incompatible dtype is deprecated and will raise an error in a future version of pandas. Value 'Trailing SL Hit' has dtype incompatible with float64, please explicitly cast to a compatible dtype first.\n",
      "  tradebook_long.loc[\n"
     ]
    },
    {
     "name": "stdout",
     "output_type": "stream",
     "text": [
      "EMA:22, X:7, PCT:0.1\n"
     ]
    },
    {
     "name": "stderr",
     "output_type": "stream",
     "text": [
      "/tmp/ipykernel_37183/3149794742.py:132: FutureWarning: Setting an item of incompatible dtype is deprecated and will raise an error in a future version of pandas. Value 'Trailing SL Hit' has dtype incompatible with float64, please explicitly cast to a compatible dtype first.\n",
      "  tradebook_long.loc[\n"
     ]
    },
    {
     "name": "stdout",
     "output_type": "stream",
     "text": [
      "EMA:22, X:7, PCT:0.25\n"
     ]
    },
    {
     "name": "stderr",
     "output_type": "stream",
     "text": [
      "/tmp/ipykernel_37183/3149794742.py:132: FutureWarning: Setting an item of incompatible dtype is deprecated and will raise an error in a future version of pandas. Value 'Trailing SL Hit' has dtype incompatible with float64, please explicitly cast to a compatible dtype first.\n",
      "  tradebook_long.loc[\n"
     ]
    },
    {
     "name": "stdout",
     "output_type": "stream",
     "text": [
      "EMA:22, X:10, PCT:0.1\n"
     ]
    },
    {
     "name": "stderr",
     "output_type": "stream",
     "text": [
      "/tmp/ipykernel_37183/3149794742.py:132: FutureWarning: Setting an item of incompatible dtype is deprecated and will raise an error in a future version of pandas. Value 'Trailing SL Hit' has dtype incompatible with float64, please explicitly cast to a compatible dtype first.\n",
      "  tradebook_long.loc[\n"
     ]
    },
    {
     "name": "stdout",
     "output_type": "stream",
     "text": [
      "EMA:22, X:10, PCT:0.25\n"
     ]
    },
    {
     "name": "stderr",
     "output_type": "stream",
     "text": [
      "/tmp/ipykernel_37183/3149794742.py:132: FutureWarning: Setting an item of incompatible dtype is deprecated and will raise an error in a future version of pandas. Value 'Trailing SL Hit' has dtype incompatible with float64, please explicitly cast to a compatible dtype first.\n",
      "  tradebook_long.loc[\n"
     ]
    },
    {
     "name": "stdout",
     "output_type": "stream",
     "text": [
      "EMA:22, X:13, PCT:0.1\n"
     ]
    },
    {
     "name": "stderr",
     "output_type": "stream",
     "text": [
      "/tmp/ipykernel_37183/3149794742.py:132: FutureWarning: Setting an item of incompatible dtype is deprecated and will raise an error in a future version of pandas. Value 'Trailing SL Hit' has dtype incompatible with float64, please explicitly cast to a compatible dtype first.\n",
      "  tradebook_long.loc[\n"
     ]
    },
    {
     "name": "stdout",
     "output_type": "stream",
     "text": [
      "EMA:22, X:13, PCT:0.25\n"
     ]
    },
    {
     "name": "stderr",
     "output_type": "stream",
     "text": [
      "/tmp/ipykernel_37183/3149794742.py:132: FutureWarning: Setting an item of incompatible dtype is deprecated and will raise an error in a future version of pandas. Value 'Trailing SL Hit' has dtype incompatible with float64, please explicitly cast to a compatible dtype first.\n",
      "  tradebook_long.loc[\n"
     ]
    },
    {
     "name": "stdout",
     "output_type": "stream",
     "text": [
      "EMA:22, X:16, PCT:0.1\n"
     ]
    },
    {
     "name": "stderr",
     "output_type": "stream",
     "text": [
      "/tmp/ipykernel_37183/3149794742.py:132: FutureWarning: Setting an item of incompatible dtype is deprecated and will raise an error in a future version of pandas. Value 'Trailing SL Hit' has dtype incompatible with float64, please explicitly cast to a compatible dtype first.\n",
      "  tradebook_long.loc[\n"
     ]
    },
    {
     "name": "stdout",
     "output_type": "stream",
     "text": [
      "EMA:22, X:16, PCT:0.25\n"
     ]
    },
    {
     "name": "stderr",
     "output_type": "stream",
     "text": [
      "/tmp/ipykernel_37183/3149794742.py:132: FutureWarning: Setting an item of incompatible dtype is deprecated and will raise an error in a future version of pandas. Value 'Trailing SL Hit' has dtype incompatible with float64, please explicitly cast to a compatible dtype first.\n",
      "  tradebook_long.loc[\n"
     ]
    },
    {
     "name": "stdout",
     "output_type": "stream",
     "text": [
      "EMA:22, X:19, PCT:0.1\n"
     ]
    },
    {
     "name": "stderr",
     "output_type": "stream",
     "text": [
      "/tmp/ipykernel_37183/3149794742.py:132: FutureWarning: Setting an item of incompatible dtype is deprecated and will raise an error in a future version of pandas. Value 'Trailing SL Hit' has dtype incompatible with float64, please explicitly cast to a compatible dtype first.\n",
      "  tradebook_long.loc[\n"
     ]
    },
    {
     "name": "stdout",
     "output_type": "stream",
     "text": [
      "EMA:22, X:19, PCT:0.25\n"
     ]
    },
    {
     "name": "stderr",
     "output_type": "stream",
     "text": [
      "/tmp/ipykernel_37183/3149794742.py:132: FutureWarning: Setting an item of incompatible dtype is deprecated and will raise an error in a future version of pandas. Value 'Trailing SL Hit' has dtype incompatible with float64, please explicitly cast to a compatible dtype first.\n",
      "  tradebook_long.loc[\n"
     ]
    },
    {
     "name": "stdout",
     "output_type": "stream",
     "text": [
      "EMA:22, X:22, PCT:0.1\n"
     ]
    },
    {
     "name": "stderr",
     "output_type": "stream",
     "text": [
      "/tmp/ipykernel_37183/3149794742.py:132: FutureWarning: Setting an item of incompatible dtype is deprecated and will raise an error in a future version of pandas. Value 'Trailing SL Hit' has dtype incompatible with float64, please explicitly cast to a compatible dtype first.\n",
      "  tradebook_long.loc[\n"
     ]
    },
    {
     "name": "stdout",
     "output_type": "stream",
     "text": [
      "EMA:22, X:22, PCT:0.25\n"
     ]
    },
    {
     "name": "stderr",
     "output_type": "stream",
     "text": [
      "/tmp/ipykernel_37183/3149794742.py:132: FutureWarning: Setting an item of incompatible dtype is deprecated and will raise an error in a future version of pandas. Value 'Trailing SL Hit' has dtype incompatible with float64, please explicitly cast to a compatible dtype first.\n",
      "  tradebook_long.loc[\n"
     ]
    },
    {
     "name": "stdout",
     "output_type": "stream",
     "text": [
      "EMA:22, X:25, PCT:0.1\n"
     ]
    },
    {
     "name": "stderr",
     "output_type": "stream",
     "text": [
      "/tmp/ipykernel_37183/3149794742.py:118: FutureWarning: Setting an item of incompatible dtype is deprecated and will raise an error in a future version of pandas. Value 'Initial SL Hit' has dtype incompatible with float64, please explicitly cast to a compatible dtype first.\n",
      "  tradebook_long.loc[\n"
     ]
    },
    {
     "name": "stdout",
     "output_type": "stream",
     "text": [
      "EMA:22, X:25, PCT:0.25\n"
     ]
    },
    {
     "name": "stderr",
     "output_type": "stream",
     "text": [
      "/tmp/ipykernel_37183/3149794742.py:132: FutureWarning: Setting an item of incompatible dtype is deprecated and will raise an error in a future version of pandas. Value 'Trailing SL Hit' has dtype incompatible with float64, please explicitly cast to a compatible dtype first.\n",
      "  tradebook_long.loc[\n"
     ]
    },
    {
     "name": "stdout",
     "output_type": "stream",
     "text": [
      "EMA:22, X:28, PCT:0.1\n"
     ]
    },
    {
     "name": "stderr",
     "output_type": "stream",
     "text": [
      "/tmp/ipykernel_37183/3149794742.py:132: FutureWarning: Setting an item of incompatible dtype is deprecated and will raise an error in a future version of pandas. Value 'Trailing SL Hit' has dtype incompatible with float64, please explicitly cast to a compatible dtype first.\n",
      "  tradebook_long.loc[\n"
     ]
    },
    {
     "name": "stdout",
     "output_type": "stream",
     "text": [
      "EMA:22, X:28, PCT:0.25\n"
     ]
    },
    {
     "name": "stderr",
     "output_type": "stream",
     "text": [
      "/tmp/ipykernel_37183/3149794742.py:132: FutureWarning: Setting an item of incompatible dtype is deprecated and will raise an error in a future version of pandas. Value 'Trailing SL Hit' has dtype incompatible with float64, please explicitly cast to a compatible dtype first.\n",
      "  tradebook_long.loc[\n"
     ]
    },
    {
     "name": "stdout",
     "output_type": "stream",
     "text": [
      "EMA:22, X:31, PCT:0.1\n"
     ]
    },
    {
     "name": "stderr",
     "output_type": "stream",
     "text": [
      "/tmp/ipykernel_37183/3149794742.py:132: FutureWarning: Setting an item of incompatible dtype is deprecated and will raise an error in a future version of pandas. Value 'Trailing SL Hit' has dtype incompatible with float64, please explicitly cast to a compatible dtype first.\n",
      "  tradebook_long.loc[\n"
     ]
    },
    {
     "name": "stdout",
     "output_type": "stream",
     "text": [
      "EMA:22, X:31, PCT:0.25\n"
     ]
    },
    {
     "name": "stderr",
     "output_type": "stream",
     "text": [
      "/tmp/ipykernel_37183/3149794742.py:132: FutureWarning: Setting an item of incompatible dtype is deprecated and will raise an error in a future version of pandas. Value 'Trailing SL Hit' has dtype incompatible with float64, please explicitly cast to a compatible dtype first.\n",
      "  tradebook_long.loc[\n"
     ]
    },
    {
     "name": "stdout",
     "output_type": "stream",
     "text": [
      "EMA:22, X:34, PCT:0.1\n"
     ]
    },
    {
     "name": "stderr",
     "output_type": "stream",
     "text": [
      "/tmp/ipykernel_37183/3149794742.py:132: FutureWarning: Setting an item of incompatible dtype is deprecated and will raise an error in a future version of pandas. Value 'Trailing SL Hit' has dtype incompatible with float64, please explicitly cast to a compatible dtype first.\n",
      "  tradebook_long.loc[\n"
     ]
    },
    {
     "name": "stdout",
     "output_type": "stream",
     "text": [
      "EMA:22, X:34, PCT:0.25\n"
     ]
    },
    {
     "name": "stderr",
     "output_type": "stream",
     "text": [
      "/tmp/ipykernel_37183/3149794742.py:132: FutureWarning: Setting an item of incompatible dtype is deprecated and will raise an error in a future version of pandas. Value 'Trailing SL Hit' has dtype incompatible with float64, please explicitly cast to a compatible dtype first.\n",
      "  tradebook_long.loc[\n"
     ]
    },
    {
     "name": "stdout",
     "output_type": "stream",
     "text": [
      "EMA:24, X:4, PCT:0.1\n"
     ]
    },
    {
     "name": "stderr",
     "output_type": "stream",
     "text": [
      "/tmp/ipykernel_37183/3149794742.py:132: FutureWarning: Setting an item of incompatible dtype is deprecated and will raise an error in a future version of pandas. Value 'Trailing SL Hit' has dtype incompatible with float64, please explicitly cast to a compatible dtype first.\n",
      "  tradebook_long.loc[\n"
     ]
    },
    {
     "name": "stdout",
     "output_type": "stream",
     "text": [
      "EMA:24, X:4, PCT:0.25\n"
     ]
    },
    {
     "name": "stderr",
     "output_type": "stream",
     "text": [
      "/tmp/ipykernel_37183/3149794742.py:132: FutureWarning: Setting an item of incompatible dtype is deprecated and will raise an error in a future version of pandas. Value 'Trailing SL Hit' has dtype incompatible with float64, please explicitly cast to a compatible dtype first.\n",
      "  tradebook_long.loc[\n"
     ]
    },
    {
     "name": "stdout",
     "output_type": "stream",
     "text": [
      "EMA:24, X:7, PCT:0.1\n"
     ]
    },
    {
     "name": "stderr",
     "output_type": "stream",
     "text": [
      "/tmp/ipykernel_37183/3149794742.py:132: FutureWarning: Setting an item of incompatible dtype is deprecated and will raise an error in a future version of pandas. Value 'Trailing SL Hit' has dtype incompatible with float64, please explicitly cast to a compatible dtype first.\n",
      "  tradebook_long.loc[\n"
     ]
    },
    {
     "name": "stdout",
     "output_type": "stream",
     "text": [
      "EMA:24, X:7, PCT:0.25\n"
     ]
    },
    {
     "name": "stderr",
     "output_type": "stream",
     "text": [
      "/tmp/ipykernel_37183/3149794742.py:132: FutureWarning: Setting an item of incompatible dtype is deprecated and will raise an error in a future version of pandas. Value 'Trailing SL Hit' has dtype incompatible with float64, please explicitly cast to a compatible dtype first.\n",
      "  tradebook_long.loc[\n"
     ]
    },
    {
     "name": "stdout",
     "output_type": "stream",
     "text": [
      "EMA:24, X:10, PCT:0.1\n"
     ]
    },
    {
     "name": "stderr",
     "output_type": "stream",
     "text": [
      "/tmp/ipykernel_37183/3149794742.py:132: FutureWarning: Setting an item of incompatible dtype is deprecated and will raise an error in a future version of pandas. Value 'Trailing SL Hit' has dtype incompatible with float64, please explicitly cast to a compatible dtype first.\n",
      "  tradebook_long.loc[\n"
     ]
    },
    {
     "name": "stdout",
     "output_type": "stream",
     "text": [
      "EMA:24, X:10, PCT:0.25\n"
     ]
    },
    {
     "name": "stderr",
     "output_type": "stream",
     "text": [
      "/tmp/ipykernel_37183/3149794742.py:132: FutureWarning: Setting an item of incompatible dtype is deprecated and will raise an error in a future version of pandas. Value 'Trailing SL Hit' has dtype incompatible with float64, please explicitly cast to a compatible dtype first.\n",
      "  tradebook_long.loc[\n"
     ]
    },
    {
     "name": "stdout",
     "output_type": "stream",
     "text": [
      "EMA:24, X:13, PCT:0.1\n"
     ]
    },
    {
     "name": "stderr",
     "output_type": "stream",
     "text": [
      "/tmp/ipykernel_37183/3149794742.py:132: FutureWarning: Setting an item of incompatible dtype is deprecated and will raise an error in a future version of pandas. Value 'Trailing SL Hit' has dtype incompatible with float64, please explicitly cast to a compatible dtype first.\n",
      "  tradebook_long.loc[\n"
     ]
    },
    {
     "name": "stdout",
     "output_type": "stream",
     "text": [
      "EMA:24, X:13, PCT:0.25\n"
     ]
    },
    {
     "name": "stderr",
     "output_type": "stream",
     "text": [
      "/tmp/ipykernel_37183/3149794742.py:132: FutureWarning: Setting an item of incompatible dtype is deprecated and will raise an error in a future version of pandas. Value 'Trailing SL Hit' has dtype incompatible with float64, please explicitly cast to a compatible dtype first.\n",
      "  tradebook_long.loc[\n"
     ]
    },
    {
     "name": "stdout",
     "output_type": "stream",
     "text": [
      "EMA:24, X:16, PCT:0.1\n"
     ]
    },
    {
     "name": "stderr",
     "output_type": "stream",
     "text": [
      "/tmp/ipykernel_37183/3149794742.py:132: FutureWarning: Setting an item of incompatible dtype is deprecated and will raise an error in a future version of pandas. Value 'Trailing SL Hit' has dtype incompatible with float64, please explicitly cast to a compatible dtype first.\n",
      "  tradebook_long.loc[\n"
     ]
    },
    {
     "name": "stdout",
     "output_type": "stream",
     "text": [
      "EMA:24, X:16, PCT:0.25\n"
     ]
    },
    {
     "name": "stderr",
     "output_type": "stream",
     "text": [
      "/tmp/ipykernel_37183/3149794742.py:132: FutureWarning: Setting an item of incompatible dtype is deprecated and will raise an error in a future version of pandas. Value 'Trailing SL Hit' has dtype incompatible with float64, please explicitly cast to a compatible dtype first.\n",
      "  tradebook_long.loc[\n"
     ]
    },
    {
     "name": "stdout",
     "output_type": "stream",
     "text": [
      "EMA:24, X:19, PCT:0.1\n"
     ]
    },
    {
     "name": "stderr",
     "output_type": "stream",
     "text": [
      "/tmp/ipykernel_37183/3149794742.py:132: FutureWarning: Setting an item of incompatible dtype is deprecated and will raise an error in a future version of pandas. Value 'Trailing SL Hit' has dtype incompatible with float64, please explicitly cast to a compatible dtype first.\n",
      "  tradebook_long.loc[\n"
     ]
    },
    {
     "name": "stdout",
     "output_type": "stream",
     "text": [
      "EMA:24, X:19, PCT:0.25\n"
     ]
    },
    {
     "name": "stderr",
     "output_type": "stream",
     "text": [
      "/tmp/ipykernel_37183/3149794742.py:132: FutureWarning: Setting an item of incompatible dtype is deprecated and will raise an error in a future version of pandas. Value 'Trailing SL Hit' has dtype incompatible with float64, please explicitly cast to a compatible dtype first.\n",
      "  tradebook_long.loc[\n"
     ]
    },
    {
     "name": "stdout",
     "output_type": "stream",
     "text": [
      "EMA:24, X:22, PCT:0.1\n"
     ]
    },
    {
     "name": "stderr",
     "output_type": "stream",
     "text": [
      "/tmp/ipykernel_37183/3149794742.py:132: FutureWarning: Setting an item of incompatible dtype is deprecated and will raise an error in a future version of pandas. Value 'Trailing SL Hit' has dtype incompatible with float64, please explicitly cast to a compatible dtype first.\n",
      "  tradebook_long.loc[\n"
     ]
    },
    {
     "name": "stdout",
     "output_type": "stream",
     "text": [
      "EMA:24, X:22, PCT:0.25\n"
     ]
    },
    {
     "name": "stderr",
     "output_type": "stream",
     "text": [
      "/tmp/ipykernel_37183/3149794742.py:132: FutureWarning: Setting an item of incompatible dtype is deprecated and will raise an error in a future version of pandas. Value 'Trailing SL Hit' has dtype incompatible with float64, please explicitly cast to a compatible dtype first.\n",
      "  tradebook_long.loc[\n"
     ]
    },
    {
     "name": "stdout",
     "output_type": "stream",
     "text": [
      "EMA:24, X:25, PCT:0.1\n"
     ]
    },
    {
     "name": "stderr",
     "output_type": "stream",
     "text": [
      "/tmp/ipykernel_37183/3149794742.py:118: FutureWarning: Setting an item of incompatible dtype is deprecated and will raise an error in a future version of pandas. Value 'Initial SL Hit' has dtype incompatible with float64, please explicitly cast to a compatible dtype first.\n",
      "  tradebook_long.loc[\n"
     ]
    },
    {
     "name": "stdout",
     "output_type": "stream",
     "text": [
      "EMA:24, X:25, PCT:0.25\n"
     ]
    },
    {
     "name": "stderr",
     "output_type": "stream",
     "text": [
      "/tmp/ipykernel_37183/3149794742.py:132: FutureWarning: Setting an item of incompatible dtype is deprecated and will raise an error in a future version of pandas. Value 'Trailing SL Hit' has dtype incompatible with float64, please explicitly cast to a compatible dtype first.\n",
      "  tradebook_long.loc[\n"
     ]
    },
    {
     "name": "stdout",
     "output_type": "stream",
     "text": [
      "EMA:24, X:28, PCT:0.1\n"
     ]
    },
    {
     "name": "stderr",
     "output_type": "stream",
     "text": [
      "/tmp/ipykernel_37183/3149794742.py:132: FutureWarning: Setting an item of incompatible dtype is deprecated and will raise an error in a future version of pandas. Value 'Trailing SL Hit' has dtype incompatible with float64, please explicitly cast to a compatible dtype first.\n",
      "  tradebook_long.loc[\n"
     ]
    },
    {
     "name": "stdout",
     "output_type": "stream",
     "text": [
      "EMA:24, X:28, PCT:0.25\n"
     ]
    },
    {
     "name": "stderr",
     "output_type": "stream",
     "text": [
      "/tmp/ipykernel_37183/3149794742.py:132: FutureWarning: Setting an item of incompatible dtype is deprecated and will raise an error in a future version of pandas. Value 'Trailing SL Hit' has dtype incompatible with float64, please explicitly cast to a compatible dtype first.\n",
      "  tradebook_long.loc[\n"
     ]
    },
    {
     "name": "stdout",
     "output_type": "stream",
     "text": [
      "EMA:24, X:31, PCT:0.1\n"
     ]
    },
    {
     "name": "stderr",
     "output_type": "stream",
     "text": [
      "/tmp/ipykernel_37183/3149794742.py:132: FutureWarning: Setting an item of incompatible dtype is deprecated and will raise an error in a future version of pandas. Value 'Trailing SL Hit' has dtype incompatible with float64, please explicitly cast to a compatible dtype first.\n",
      "  tradebook_long.loc[\n"
     ]
    },
    {
     "name": "stdout",
     "output_type": "stream",
     "text": [
      "EMA:24, X:31, PCT:0.25\n"
     ]
    },
    {
     "name": "stderr",
     "output_type": "stream",
     "text": [
      "/tmp/ipykernel_37183/3149794742.py:132: FutureWarning: Setting an item of incompatible dtype is deprecated and will raise an error in a future version of pandas. Value 'Trailing SL Hit' has dtype incompatible with float64, please explicitly cast to a compatible dtype first.\n",
      "  tradebook_long.loc[\n"
     ]
    },
    {
     "name": "stdout",
     "output_type": "stream",
     "text": [
      "EMA:24, X:34, PCT:0.1\n"
     ]
    },
    {
     "name": "stderr",
     "output_type": "stream",
     "text": [
      "/tmp/ipykernel_37183/3149794742.py:132: FutureWarning: Setting an item of incompatible dtype is deprecated and will raise an error in a future version of pandas. Value 'Trailing SL Hit' has dtype incompatible with float64, please explicitly cast to a compatible dtype first.\n",
      "  tradebook_long.loc[\n"
     ]
    },
    {
     "name": "stdout",
     "output_type": "stream",
     "text": [
      "EMA:24, X:34, PCT:0.25\n"
     ]
    },
    {
     "name": "stderr",
     "output_type": "stream",
     "text": [
      "/tmp/ipykernel_37183/3149794742.py:132: FutureWarning: Setting an item of incompatible dtype is deprecated and will raise an error in a future version of pandas. Value 'Trailing SL Hit' has dtype incompatible with float64, please explicitly cast to a compatible dtype first.\n",
      "  tradebook_long.loc[\n"
     ]
    },
    {
     "name": "stdout",
     "output_type": "stream",
     "text": [
      "EMA:26, X:4, PCT:0.1\n"
     ]
    },
    {
     "name": "stderr",
     "output_type": "stream",
     "text": [
      "/tmp/ipykernel_37183/3149794742.py:132: FutureWarning: Setting an item of incompatible dtype is deprecated and will raise an error in a future version of pandas. Value 'Trailing SL Hit' has dtype incompatible with float64, please explicitly cast to a compatible dtype first.\n",
      "  tradebook_long.loc[\n"
     ]
    },
    {
     "name": "stdout",
     "output_type": "stream",
     "text": [
      "EMA:26, X:4, PCT:0.25\n"
     ]
    },
    {
     "name": "stderr",
     "output_type": "stream",
     "text": [
      "/tmp/ipykernel_37183/3149794742.py:132: FutureWarning: Setting an item of incompatible dtype is deprecated and will raise an error in a future version of pandas. Value 'Trailing SL Hit' has dtype incompatible with float64, please explicitly cast to a compatible dtype first.\n",
      "  tradebook_long.loc[\n"
     ]
    },
    {
     "name": "stdout",
     "output_type": "stream",
     "text": [
      "EMA:26, X:7, PCT:0.1\n"
     ]
    },
    {
     "name": "stderr",
     "output_type": "stream",
     "text": [
      "/tmp/ipykernel_37183/3149794742.py:132: FutureWarning: Setting an item of incompatible dtype is deprecated and will raise an error in a future version of pandas. Value 'Trailing SL Hit' has dtype incompatible with float64, please explicitly cast to a compatible dtype first.\n",
      "  tradebook_long.loc[\n"
     ]
    },
    {
     "name": "stdout",
     "output_type": "stream",
     "text": [
      "EMA:26, X:7, PCT:0.25\n"
     ]
    },
    {
     "name": "stderr",
     "output_type": "stream",
     "text": [
      "/tmp/ipykernel_37183/3149794742.py:132: FutureWarning: Setting an item of incompatible dtype is deprecated and will raise an error in a future version of pandas. Value 'Trailing SL Hit' has dtype incompatible with float64, please explicitly cast to a compatible dtype first.\n",
      "  tradebook_long.loc[\n"
     ]
    },
    {
     "name": "stdout",
     "output_type": "stream",
     "text": [
      "EMA:26, X:10, PCT:0.1\n"
     ]
    },
    {
     "name": "stderr",
     "output_type": "stream",
     "text": [
      "/tmp/ipykernel_37183/3149794742.py:132: FutureWarning: Setting an item of incompatible dtype is deprecated and will raise an error in a future version of pandas. Value 'Trailing SL Hit' has dtype incompatible with float64, please explicitly cast to a compatible dtype first.\n",
      "  tradebook_long.loc[\n"
     ]
    },
    {
     "name": "stdout",
     "output_type": "stream",
     "text": [
      "EMA:26, X:10, PCT:0.25\n"
     ]
    },
    {
     "name": "stderr",
     "output_type": "stream",
     "text": [
      "/tmp/ipykernel_37183/3149794742.py:132: FutureWarning: Setting an item of incompatible dtype is deprecated and will raise an error in a future version of pandas. Value 'Trailing SL Hit' has dtype incompatible with float64, please explicitly cast to a compatible dtype first.\n",
      "  tradebook_long.loc[\n"
     ]
    },
    {
     "name": "stdout",
     "output_type": "stream",
     "text": [
      "EMA:26, X:13, PCT:0.1\n"
     ]
    },
    {
     "name": "stderr",
     "output_type": "stream",
     "text": [
      "/tmp/ipykernel_37183/3149794742.py:132: FutureWarning: Setting an item of incompatible dtype is deprecated and will raise an error in a future version of pandas. Value 'Trailing SL Hit' has dtype incompatible with float64, please explicitly cast to a compatible dtype first.\n",
      "  tradebook_long.loc[\n"
     ]
    },
    {
     "name": "stdout",
     "output_type": "stream",
     "text": [
      "EMA:26, X:13, PCT:0.25\n"
     ]
    },
    {
     "name": "stderr",
     "output_type": "stream",
     "text": [
      "/tmp/ipykernel_37183/3149794742.py:132: FutureWarning: Setting an item of incompatible dtype is deprecated and will raise an error in a future version of pandas. Value 'Trailing SL Hit' has dtype incompatible with float64, please explicitly cast to a compatible dtype first.\n",
      "  tradebook_long.loc[\n"
     ]
    },
    {
     "name": "stdout",
     "output_type": "stream",
     "text": [
      "EMA:26, X:16, PCT:0.1\n"
     ]
    },
    {
     "name": "stderr",
     "output_type": "stream",
     "text": [
      "/tmp/ipykernel_37183/3149794742.py:132: FutureWarning: Setting an item of incompatible dtype is deprecated and will raise an error in a future version of pandas. Value 'Trailing SL Hit' has dtype incompatible with float64, please explicitly cast to a compatible dtype first.\n",
      "  tradebook_long.loc[\n"
     ]
    },
    {
     "name": "stdout",
     "output_type": "stream",
     "text": [
      "EMA:26, X:16, PCT:0.25\n"
     ]
    },
    {
     "name": "stderr",
     "output_type": "stream",
     "text": [
      "/tmp/ipykernel_37183/3149794742.py:132: FutureWarning: Setting an item of incompatible dtype is deprecated and will raise an error in a future version of pandas. Value 'Trailing SL Hit' has dtype incompatible with float64, please explicitly cast to a compatible dtype first.\n",
      "  tradebook_long.loc[\n"
     ]
    },
    {
     "name": "stdout",
     "output_type": "stream",
     "text": [
      "EMA:26, X:19, PCT:0.1\n"
     ]
    },
    {
     "name": "stderr",
     "output_type": "stream",
     "text": [
      "/tmp/ipykernel_37183/3149794742.py:132: FutureWarning: Setting an item of incompatible dtype is deprecated and will raise an error in a future version of pandas. Value 'Trailing SL Hit' has dtype incompatible with float64, please explicitly cast to a compatible dtype first.\n",
      "  tradebook_long.loc[\n"
     ]
    },
    {
     "name": "stdout",
     "output_type": "stream",
     "text": [
      "EMA:26, X:19, PCT:0.25\n"
     ]
    },
    {
     "name": "stderr",
     "output_type": "stream",
     "text": [
      "/tmp/ipykernel_37183/3149794742.py:132: FutureWarning: Setting an item of incompatible dtype is deprecated and will raise an error in a future version of pandas. Value 'Trailing SL Hit' has dtype incompatible with float64, please explicitly cast to a compatible dtype first.\n",
      "  tradebook_long.loc[\n"
     ]
    },
    {
     "name": "stdout",
     "output_type": "stream",
     "text": [
      "EMA:26, X:22, PCT:0.1\n"
     ]
    },
    {
     "name": "stderr",
     "output_type": "stream",
     "text": [
      "/tmp/ipykernel_37183/3149794742.py:132: FutureWarning: Setting an item of incompatible dtype is deprecated and will raise an error in a future version of pandas. Value 'Trailing SL Hit' has dtype incompatible with float64, please explicitly cast to a compatible dtype first.\n",
      "  tradebook_long.loc[\n"
     ]
    },
    {
     "name": "stdout",
     "output_type": "stream",
     "text": [
      "EMA:26, X:22, PCT:0.25\n"
     ]
    },
    {
     "name": "stderr",
     "output_type": "stream",
     "text": [
      "/tmp/ipykernel_37183/3149794742.py:132: FutureWarning: Setting an item of incompatible dtype is deprecated and will raise an error in a future version of pandas. Value 'Trailing SL Hit' has dtype incompatible with float64, please explicitly cast to a compatible dtype first.\n",
      "  tradebook_long.loc[\n"
     ]
    },
    {
     "name": "stdout",
     "output_type": "stream",
     "text": [
      "EMA:26, X:25, PCT:0.1\n"
     ]
    },
    {
     "name": "stderr",
     "output_type": "stream",
     "text": [
      "/tmp/ipykernel_37183/3149794742.py:118: FutureWarning: Setting an item of incompatible dtype is deprecated and will raise an error in a future version of pandas. Value 'Initial SL Hit' has dtype incompatible with float64, please explicitly cast to a compatible dtype first.\n",
      "  tradebook_long.loc[\n"
     ]
    },
    {
     "name": "stdout",
     "output_type": "stream",
     "text": [
      "EMA:26, X:25, PCT:0.25\n"
     ]
    },
    {
     "name": "stderr",
     "output_type": "stream",
     "text": [
      "/tmp/ipykernel_37183/3149794742.py:132: FutureWarning: Setting an item of incompatible dtype is deprecated and will raise an error in a future version of pandas. Value 'Trailing SL Hit' has dtype incompatible with float64, please explicitly cast to a compatible dtype first.\n",
      "  tradebook_long.loc[\n"
     ]
    },
    {
     "name": "stdout",
     "output_type": "stream",
     "text": [
      "EMA:26, X:28, PCT:0.1\n"
     ]
    },
    {
     "name": "stderr",
     "output_type": "stream",
     "text": [
      "/tmp/ipykernel_37183/3149794742.py:132: FutureWarning: Setting an item of incompatible dtype is deprecated and will raise an error in a future version of pandas. Value 'Trailing SL Hit' has dtype incompatible with float64, please explicitly cast to a compatible dtype first.\n",
      "  tradebook_long.loc[\n"
     ]
    },
    {
     "name": "stdout",
     "output_type": "stream",
     "text": [
      "EMA:26, X:28, PCT:0.25\n"
     ]
    },
    {
     "name": "stderr",
     "output_type": "stream",
     "text": [
      "/tmp/ipykernel_37183/3149794742.py:132: FutureWarning: Setting an item of incompatible dtype is deprecated and will raise an error in a future version of pandas. Value 'Trailing SL Hit' has dtype incompatible with float64, please explicitly cast to a compatible dtype first.\n",
      "  tradebook_long.loc[\n"
     ]
    },
    {
     "name": "stdout",
     "output_type": "stream",
     "text": [
      "EMA:26, X:31, PCT:0.1\n"
     ]
    },
    {
     "name": "stderr",
     "output_type": "stream",
     "text": [
      "/tmp/ipykernel_37183/3149794742.py:132: FutureWarning: Setting an item of incompatible dtype is deprecated and will raise an error in a future version of pandas. Value 'Trailing SL Hit' has dtype incompatible with float64, please explicitly cast to a compatible dtype first.\n",
      "  tradebook_long.loc[\n"
     ]
    },
    {
     "name": "stdout",
     "output_type": "stream",
     "text": [
      "EMA:26, X:31, PCT:0.25\n"
     ]
    },
    {
     "name": "stderr",
     "output_type": "stream",
     "text": [
      "/tmp/ipykernel_37183/3149794742.py:132: FutureWarning: Setting an item of incompatible dtype is deprecated and will raise an error in a future version of pandas. Value 'Trailing SL Hit' has dtype incompatible with float64, please explicitly cast to a compatible dtype first.\n",
      "  tradebook_long.loc[\n"
     ]
    },
    {
     "name": "stdout",
     "output_type": "stream",
     "text": [
      "EMA:26, X:34, PCT:0.1\n"
     ]
    },
    {
     "name": "stderr",
     "output_type": "stream",
     "text": [
      "/tmp/ipykernel_37183/3149794742.py:132: FutureWarning: Setting an item of incompatible dtype is deprecated and will raise an error in a future version of pandas. Value 'Trailing SL Hit' has dtype incompatible with float64, please explicitly cast to a compatible dtype first.\n",
      "  tradebook_long.loc[\n"
     ]
    },
    {
     "name": "stdout",
     "output_type": "stream",
     "text": [
      "EMA:26, X:34, PCT:0.25\n"
     ]
    },
    {
     "name": "stderr",
     "output_type": "stream",
     "text": [
      "/tmp/ipykernel_37183/3149794742.py:132: FutureWarning: Setting an item of incompatible dtype is deprecated and will raise an error in a future version of pandas. Value 'Trailing SL Hit' has dtype incompatible with float64, please explicitly cast to a compatible dtype first.\n",
      "  tradebook_long.loc[\n"
     ]
    },
    {
     "name": "stdout",
     "output_type": "stream",
     "text": [
      "EMA:28, X:4, PCT:0.1\n"
     ]
    },
    {
     "name": "stderr",
     "output_type": "stream",
     "text": [
      "/tmp/ipykernel_37183/3149794742.py:132: FutureWarning: Setting an item of incompatible dtype is deprecated and will raise an error in a future version of pandas. Value 'Trailing SL Hit' has dtype incompatible with float64, please explicitly cast to a compatible dtype first.\n",
      "  tradebook_long.loc[\n"
     ]
    },
    {
     "name": "stdout",
     "output_type": "stream",
     "text": [
      "EMA:28, X:4, PCT:0.25\n"
     ]
    },
    {
     "name": "stderr",
     "output_type": "stream",
     "text": [
      "/tmp/ipykernel_37183/3149794742.py:132: FutureWarning: Setting an item of incompatible dtype is deprecated and will raise an error in a future version of pandas. Value 'Trailing SL Hit' has dtype incompatible with float64, please explicitly cast to a compatible dtype first.\n",
      "  tradebook_long.loc[\n"
     ]
    },
    {
     "name": "stdout",
     "output_type": "stream",
     "text": [
      "EMA:28, X:7, PCT:0.1\n"
     ]
    },
    {
     "name": "stderr",
     "output_type": "stream",
     "text": [
      "/tmp/ipykernel_37183/3149794742.py:132: FutureWarning: Setting an item of incompatible dtype is deprecated and will raise an error in a future version of pandas. Value 'Trailing SL Hit' has dtype incompatible with float64, please explicitly cast to a compatible dtype first.\n",
      "  tradebook_long.loc[\n"
     ]
    },
    {
     "name": "stdout",
     "output_type": "stream",
     "text": [
      "EMA:28, X:7, PCT:0.25\n"
     ]
    },
    {
     "name": "stderr",
     "output_type": "stream",
     "text": [
      "/tmp/ipykernel_37183/3149794742.py:132: FutureWarning: Setting an item of incompatible dtype is deprecated and will raise an error in a future version of pandas. Value 'Trailing SL Hit' has dtype incompatible with float64, please explicitly cast to a compatible dtype first.\n",
      "  tradebook_long.loc[\n"
     ]
    },
    {
     "name": "stdout",
     "output_type": "stream",
     "text": [
      "EMA:28, X:10, PCT:0.1\n"
     ]
    },
    {
     "name": "stderr",
     "output_type": "stream",
     "text": [
      "/tmp/ipykernel_37183/3149794742.py:132: FutureWarning: Setting an item of incompatible dtype is deprecated and will raise an error in a future version of pandas. Value 'Trailing SL Hit' has dtype incompatible with float64, please explicitly cast to a compatible dtype first.\n",
      "  tradebook_long.loc[\n"
     ]
    },
    {
     "name": "stdout",
     "output_type": "stream",
     "text": [
      "EMA:28, X:10, PCT:0.25\n"
     ]
    },
    {
     "name": "stderr",
     "output_type": "stream",
     "text": [
      "/tmp/ipykernel_37183/3149794742.py:132: FutureWarning: Setting an item of incompatible dtype is deprecated and will raise an error in a future version of pandas. Value 'Trailing SL Hit' has dtype incompatible with float64, please explicitly cast to a compatible dtype first.\n",
      "  tradebook_long.loc[\n"
     ]
    },
    {
     "name": "stdout",
     "output_type": "stream",
     "text": [
      "EMA:28, X:13, PCT:0.1\n"
     ]
    },
    {
     "name": "stderr",
     "output_type": "stream",
     "text": [
      "/tmp/ipykernel_37183/3149794742.py:132: FutureWarning: Setting an item of incompatible dtype is deprecated and will raise an error in a future version of pandas. Value 'Trailing SL Hit' has dtype incompatible with float64, please explicitly cast to a compatible dtype first.\n",
      "  tradebook_long.loc[\n"
     ]
    },
    {
     "name": "stdout",
     "output_type": "stream",
     "text": [
      "EMA:28, X:13, PCT:0.25\n"
     ]
    },
    {
     "name": "stderr",
     "output_type": "stream",
     "text": [
      "/tmp/ipykernel_37183/3149794742.py:132: FutureWarning: Setting an item of incompatible dtype is deprecated and will raise an error in a future version of pandas. Value 'Trailing SL Hit' has dtype incompatible with float64, please explicitly cast to a compatible dtype first.\n",
      "  tradebook_long.loc[\n"
     ]
    },
    {
     "name": "stdout",
     "output_type": "stream",
     "text": [
      "EMA:28, X:16, PCT:0.1\n"
     ]
    },
    {
     "name": "stderr",
     "output_type": "stream",
     "text": [
      "/tmp/ipykernel_37183/3149794742.py:132: FutureWarning: Setting an item of incompatible dtype is deprecated and will raise an error in a future version of pandas. Value 'Trailing SL Hit' has dtype incompatible with float64, please explicitly cast to a compatible dtype first.\n",
      "  tradebook_long.loc[\n"
     ]
    },
    {
     "name": "stdout",
     "output_type": "stream",
     "text": [
      "EMA:28, X:16, PCT:0.25\n"
     ]
    },
    {
     "name": "stderr",
     "output_type": "stream",
     "text": [
      "/tmp/ipykernel_37183/3149794742.py:132: FutureWarning: Setting an item of incompatible dtype is deprecated and will raise an error in a future version of pandas. Value 'Trailing SL Hit' has dtype incompatible with float64, please explicitly cast to a compatible dtype first.\n",
      "  tradebook_long.loc[\n"
     ]
    },
    {
     "name": "stdout",
     "output_type": "stream",
     "text": [
      "EMA:28, X:19, PCT:0.1\n"
     ]
    },
    {
     "name": "stderr",
     "output_type": "stream",
     "text": [
      "/tmp/ipykernel_37183/3149794742.py:132: FutureWarning: Setting an item of incompatible dtype is deprecated and will raise an error in a future version of pandas. Value 'Trailing SL Hit' has dtype incompatible with float64, please explicitly cast to a compatible dtype first.\n",
      "  tradebook_long.loc[\n"
     ]
    },
    {
     "name": "stdout",
     "output_type": "stream",
     "text": [
      "EMA:28, X:19, PCT:0.25\n"
     ]
    },
    {
     "name": "stderr",
     "output_type": "stream",
     "text": [
      "/tmp/ipykernel_37183/3149794742.py:132: FutureWarning: Setting an item of incompatible dtype is deprecated and will raise an error in a future version of pandas. Value 'Trailing SL Hit' has dtype incompatible with float64, please explicitly cast to a compatible dtype first.\n",
      "  tradebook_long.loc[\n"
     ]
    },
    {
     "name": "stdout",
     "output_type": "stream",
     "text": [
      "EMA:28, X:22, PCT:0.1\n"
     ]
    },
    {
     "name": "stderr",
     "output_type": "stream",
     "text": [
      "/tmp/ipykernel_37183/3149794742.py:132: FutureWarning: Setting an item of incompatible dtype is deprecated and will raise an error in a future version of pandas. Value 'Trailing SL Hit' has dtype incompatible with float64, please explicitly cast to a compatible dtype first.\n",
      "  tradebook_long.loc[\n"
     ]
    },
    {
     "name": "stdout",
     "output_type": "stream",
     "text": [
      "EMA:28, X:22, PCT:0.25\n"
     ]
    },
    {
     "name": "stderr",
     "output_type": "stream",
     "text": [
      "/tmp/ipykernel_37183/3149794742.py:132: FutureWarning: Setting an item of incompatible dtype is deprecated and will raise an error in a future version of pandas. Value 'Trailing SL Hit' has dtype incompatible with float64, please explicitly cast to a compatible dtype first.\n",
      "  tradebook_long.loc[\n"
     ]
    },
    {
     "name": "stdout",
     "output_type": "stream",
     "text": [
      "EMA:28, X:25, PCT:0.1\n"
     ]
    },
    {
     "name": "stderr",
     "output_type": "stream",
     "text": [
      "/tmp/ipykernel_37183/3149794742.py:118: FutureWarning: Setting an item of incompatible dtype is deprecated and will raise an error in a future version of pandas. Value 'Initial SL Hit' has dtype incompatible with float64, please explicitly cast to a compatible dtype first.\n",
      "  tradebook_long.loc[\n"
     ]
    },
    {
     "name": "stdout",
     "output_type": "stream",
     "text": [
      "EMA:28, X:25, PCT:0.25\n"
     ]
    },
    {
     "name": "stderr",
     "output_type": "stream",
     "text": [
      "/tmp/ipykernel_37183/3149794742.py:132: FutureWarning: Setting an item of incompatible dtype is deprecated and will raise an error in a future version of pandas. Value 'Trailing SL Hit' has dtype incompatible with float64, please explicitly cast to a compatible dtype first.\n",
      "  tradebook_long.loc[\n"
     ]
    },
    {
     "name": "stdout",
     "output_type": "stream",
     "text": [
      "EMA:28, X:28, PCT:0.1\n"
     ]
    },
    {
     "name": "stderr",
     "output_type": "stream",
     "text": [
      "/tmp/ipykernel_37183/3149794742.py:132: FutureWarning: Setting an item of incompatible dtype is deprecated and will raise an error in a future version of pandas. Value 'Trailing SL Hit' has dtype incompatible with float64, please explicitly cast to a compatible dtype first.\n",
      "  tradebook_long.loc[\n"
     ]
    },
    {
     "name": "stdout",
     "output_type": "stream",
     "text": [
      "EMA:28, X:28, PCT:0.25\n"
     ]
    },
    {
     "name": "stderr",
     "output_type": "stream",
     "text": [
      "/tmp/ipykernel_37183/3149794742.py:132: FutureWarning: Setting an item of incompatible dtype is deprecated and will raise an error in a future version of pandas. Value 'Trailing SL Hit' has dtype incompatible with float64, please explicitly cast to a compatible dtype first.\n",
      "  tradebook_long.loc[\n"
     ]
    },
    {
     "name": "stdout",
     "output_type": "stream",
     "text": [
      "EMA:28, X:31, PCT:0.1\n"
     ]
    },
    {
     "name": "stderr",
     "output_type": "stream",
     "text": [
      "/tmp/ipykernel_37183/3149794742.py:132: FutureWarning: Setting an item of incompatible dtype is deprecated and will raise an error in a future version of pandas. Value 'Trailing SL Hit' has dtype incompatible with float64, please explicitly cast to a compatible dtype first.\n",
      "  tradebook_long.loc[\n"
     ]
    },
    {
     "name": "stdout",
     "output_type": "stream",
     "text": [
      "EMA:28, X:31, PCT:0.25\n"
     ]
    },
    {
     "name": "stderr",
     "output_type": "stream",
     "text": [
      "/tmp/ipykernel_37183/3149794742.py:132: FutureWarning: Setting an item of incompatible dtype is deprecated and will raise an error in a future version of pandas. Value 'Trailing SL Hit' has dtype incompatible with float64, please explicitly cast to a compatible dtype first.\n",
      "  tradebook_long.loc[\n"
     ]
    },
    {
     "name": "stdout",
     "output_type": "stream",
     "text": [
      "EMA:28, X:34, PCT:0.1\n"
     ]
    },
    {
     "name": "stderr",
     "output_type": "stream",
     "text": [
      "/tmp/ipykernel_37183/3149794742.py:132: FutureWarning: Setting an item of incompatible dtype is deprecated and will raise an error in a future version of pandas. Value 'Trailing SL Hit' has dtype incompatible with float64, please explicitly cast to a compatible dtype first.\n",
      "  tradebook_long.loc[\n"
     ]
    },
    {
     "name": "stdout",
     "output_type": "stream",
     "text": [
      "EMA:28, X:34, PCT:0.25\n"
     ]
    },
    {
     "name": "stderr",
     "output_type": "stream",
     "text": [
      "/tmp/ipykernel_37183/3149794742.py:132: FutureWarning: Setting an item of incompatible dtype is deprecated and will raise an error in a future version of pandas. Value 'Trailing SL Hit' has dtype incompatible with float64, please explicitly cast to a compatible dtype first.\n",
      "  tradebook_long.loc[\n"
     ]
    },
    {
     "name": "stdout",
     "output_type": "stream",
     "text": [
      "EMA:30, X:4, PCT:0.1\n"
     ]
    },
    {
     "name": "stderr",
     "output_type": "stream",
     "text": [
      "/tmp/ipykernel_37183/3149794742.py:132: FutureWarning: Setting an item of incompatible dtype is deprecated and will raise an error in a future version of pandas. Value 'Trailing SL Hit' has dtype incompatible with float64, please explicitly cast to a compatible dtype first.\n",
      "  tradebook_long.loc[\n"
     ]
    },
    {
     "name": "stdout",
     "output_type": "stream",
     "text": [
      "EMA:30, X:4, PCT:0.25\n"
     ]
    },
    {
     "name": "stderr",
     "output_type": "stream",
     "text": [
      "/tmp/ipykernel_37183/3149794742.py:132: FutureWarning: Setting an item of incompatible dtype is deprecated and will raise an error in a future version of pandas. Value 'Trailing SL Hit' has dtype incompatible with float64, please explicitly cast to a compatible dtype first.\n",
      "  tradebook_long.loc[\n"
     ]
    },
    {
     "name": "stdout",
     "output_type": "stream",
     "text": [
      "EMA:30, X:7, PCT:0.1\n"
     ]
    },
    {
     "name": "stderr",
     "output_type": "stream",
     "text": [
      "/tmp/ipykernel_37183/3149794742.py:132: FutureWarning: Setting an item of incompatible dtype is deprecated and will raise an error in a future version of pandas. Value 'Trailing SL Hit' has dtype incompatible with float64, please explicitly cast to a compatible dtype first.\n",
      "  tradebook_long.loc[\n"
     ]
    },
    {
     "name": "stdout",
     "output_type": "stream",
     "text": [
      "EMA:30, X:7, PCT:0.25\n"
     ]
    },
    {
     "name": "stderr",
     "output_type": "stream",
     "text": [
      "/tmp/ipykernel_37183/3149794742.py:132: FutureWarning: Setting an item of incompatible dtype is deprecated and will raise an error in a future version of pandas. Value 'Trailing SL Hit' has dtype incompatible with float64, please explicitly cast to a compatible dtype first.\n",
      "  tradebook_long.loc[\n"
     ]
    },
    {
     "name": "stdout",
     "output_type": "stream",
     "text": [
      "EMA:30, X:10, PCT:0.1\n"
     ]
    },
    {
     "name": "stderr",
     "output_type": "stream",
     "text": [
      "/tmp/ipykernel_37183/3149794742.py:132: FutureWarning: Setting an item of incompatible dtype is deprecated and will raise an error in a future version of pandas. Value 'Trailing SL Hit' has dtype incompatible with float64, please explicitly cast to a compatible dtype first.\n",
      "  tradebook_long.loc[\n"
     ]
    },
    {
     "name": "stdout",
     "output_type": "stream",
     "text": [
      "EMA:30, X:10, PCT:0.25\n"
     ]
    },
    {
     "name": "stderr",
     "output_type": "stream",
     "text": [
      "/tmp/ipykernel_37183/3149794742.py:132: FutureWarning: Setting an item of incompatible dtype is deprecated and will raise an error in a future version of pandas. Value 'Trailing SL Hit' has dtype incompatible with float64, please explicitly cast to a compatible dtype first.\n",
      "  tradebook_long.loc[\n"
     ]
    },
    {
     "name": "stdout",
     "output_type": "stream",
     "text": [
      "EMA:30, X:13, PCT:0.1\n"
     ]
    },
    {
     "name": "stderr",
     "output_type": "stream",
     "text": [
      "/tmp/ipykernel_37183/3149794742.py:132: FutureWarning: Setting an item of incompatible dtype is deprecated and will raise an error in a future version of pandas. Value 'Trailing SL Hit' has dtype incompatible with float64, please explicitly cast to a compatible dtype first.\n",
      "  tradebook_long.loc[\n"
     ]
    },
    {
     "name": "stdout",
     "output_type": "stream",
     "text": [
      "EMA:30, X:13, PCT:0.25\n"
     ]
    },
    {
     "name": "stderr",
     "output_type": "stream",
     "text": [
      "/tmp/ipykernel_37183/3149794742.py:132: FutureWarning: Setting an item of incompatible dtype is deprecated and will raise an error in a future version of pandas. Value 'Trailing SL Hit' has dtype incompatible with float64, please explicitly cast to a compatible dtype first.\n",
      "  tradebook_long.loc[\n"
     ]
    },
    {
     "name": "stdout",
     "output_type": "stream",
     "text": [
      "EMA:30, X:16, PCT:0.1\n"
     ]
    },
    {
     "name": "stderr",
     "output_type": "stream",
     "text": [
      "/tmp/ipykernel_37183/3149794742.py:132: FutureWarning: Setting an item of incompatible dtype is deprecated and will raise an error in a future version of pandas. Value 'Trailing SL Hit' has dtype incompatible with float64, please explicitly cast to a compatible dtype first.\n",
      "  tradebook_long.loc[\n"
     ]
    },
    {
     "name": "stdout",
     "output_type": "stream",
     "text": [
      "EMA:30, X:16, PCT:0.25\n"
     ]
    },
    {
     "name": "stderr",
     "output_type": "stream",
     "text": [
      "/tmp/ipykernel_37183/3149794742.py:132: FutureWarning: Setting an item of incompatible dtype is deprecated and will raise an error in a future version of pandas. Value 'Trailing SL Hit' has dtype incompatible with float64, please explicitly cast to a compatible dtype first.\n",
      "  tradebook_long.loc[\n"
     ]
    },
    {
     "name": "stdout",
     "output_type": "stream",
     "text": [
      "EMA:30, X:19, PCT:0.1\n"
     ]
    },
    {
     "name": "stderr",
     "output_type": "stream",
     "text": [
      "/tmp/ipykernel_37183/3149794742.py:132: FutureWarning: Setting an item of incompatible dtype is deprecated and will raise an error in a future version of pandas. Value 'Trailing SL Hit' has dtype incompatible with float64, please explicitly cast to a compatible dtype first.\n",
      "  tradebook_long.loc[\n"
     ]
    },
    {
     "name": "stdout",
     "output_type": "stream",
     "text": [
      "EMA:30, X:19, PCT:0.25\n"
     ]
    },
    {
     "name": "stderr",
     "output_type": "stream",
     "text": [
      "/tmp/ipykernel_37183/3149794742.py:132: FutureWarning: Setting an item of incompatible dtype is deprecated and will raise an error in a future version of pandas. Value 'Trailing SL Hit' has dtype incompatible with float64, please explicitly cast to a compatible dtype first.\n",
      "  tradebook_long.loc[\n"
     ]
    },
    {
     "name": "stdout",
     "output_type": "stream",
     "text": [
      "EMA:30, X:22, PCT:0.1\n"
     ]
    },
    {
     "name": "stderr",
     "output_type": "stream",
     "text": [
      "/tmp/ipykernel_37183/3149794742.py:132: FutureWarning: Setting an item of incompatible dtype is deprecated and will raise an error in a future version of pandas. Value 'Trailing SL Hit' has dtype incompatible with float64, please explicitly cast to a compatible dtype first.\n",
      "  tradebook_long.loc[\n"
     ]
    },
    {
     "name": "stdout",
     "output_type": "stream",
     "text": [
      "EMA:30, X:22, PCT:0.25\n"
     ]
    },
    {
     "name": "stderr",
     "output_type": "stream",
     "text": [
      "/tmp/ipykernel_37183/3149794742.py:132: FutureWarning: Setting an item of incompatible dtype is deprecated and will raise an error in a future version of pandas. Value 'Trailing SL Hit' has dtype incompatible with float64, please explicitly cast to a compatible dtype first.\n",
      "  tradebook_long.loc[\n"
     ]
    },
    {
     "name": "stdout",
     "output_type": "stream",
     "text": [
      "EMA:30, X:25, PCT:0.1\n"
     ]
    },
    {
     "name": "stderr",
     "output_type": "stream",
     "text": [
      "/tmp/ipykernel_37183/3149794742.py:118: FutureWarning: Setting an item of incompatible dtype is deprecated and will raise an error in a future version of pandas. Value 'Initial SL Hit' has dtype incompatible with float64, please explicitly cast to a compatible dtype first.\n",
      "  tradebook_long.loc[\n"
     ]
    },
    {
     "name": "stdout",
     "output_type": "stream",
     "text": [
      "EMA:30, X:25, PCT:0.25\n"
     ]
    },
    {
     "name": "stderr",
     "output_type": "stream",
     "text": [
      "/tmp/ipykernel_37183/3149794742.py:132: FutureWarning: Setting an item of incompatible dtype is deprecated and will raise an error in a future version of pandas. Value 'Trailing SL Hit' has dtype incompatible with float64, please explicitly cast to a compatible dtype first.\n",
      "  tradebook_long.loc[\n"
     ]
    },
    {
     "name": "stdout",
     "output_type": "stream",
     "text": [
      "EMA:30, X:28, PCT:0.1\n"
     ]
    },
    {
     "name": "stderr",
     "output_type": "stream",
     "text": [
      "/tmp/ipykernel_37183/3149794742.py:132: FutureWarning: Setting an item of incompatible dtype is deprecated and will raise an error in a future version of pandas. Value 'Trailing SL Hit' has dtype incompatible with float64, please explicitly cast to a compatible dtype first.\n",
      "  tradebook_long.loc[\n"
     ]
    },
    {
     "name": "stdout",
     "output_type": "stream",
     "text": [
      "EMA:30, X:28, PCT:0.25\n"
     ]
    },
    {
     "name": "stderr",
     "output_type": "stream",
     "text": [
      "/tmp/ipykernel_37183/3149794742.py:132: FutureWarning: Setting an item of incompatible dtype is deprecated and will raise an error in a future version of pandas. Value 'Trailing SL Hit' has dtype incompatible with float64, please explicitly cast to a compatible dtype first.\n",
      "  tradebook_long.loc[\n"
     ]
    },
    {
     "name": "stdout",
     "output_type": "stream",
     "text": [
      "EMA:30, X:31, PCT:0.1\n"
     ]
    },
    {
     "name": "stderr",
     "output_type": "stream",
     "text": [
      "/tmp/ipykernel_37183/3149794742.py:132: FutureWarning: Setting an item of incompatible dtype is deprecated and will raise an error in a future version of pandas. Value 'Trailing SL Hit' has dtype incompatible with float64, please explicitly cast to a compatible dtype first.\n",
      "  tradebook_long.loc[\n"
     ]
    },
    {
     "name": "stdout",
     "output_type": "stream",
     "text": [
      "EMA:30, X:31, PCT:0.25\n"
     ]
    },
    {
     "name": "stderr",
     "output_type": "stream",
     "text": [
      "/tmp/ipykernel_37183/3149794742.py:132: FutureWarning: Setting an item of incompatible dtype is deprecated and will raise an error in a future version of pandas. Value 'Trailing SL Hit' has dtype incompatible with float64, please explicitly cast to a compatible dtype first.\n",
      "  tradebook_long.loc[\n"
     ]
    },
    {
     "name": "stdout",
     "output_type": "stream",
     "text": [
      "EMA:30, X:34, PCT:0.1\n"
     ]
    },
    {
     "name": "stderr",
     "output_type": "stream",
     "text": [
      "/tmp/ipykernel_37183/3149794742.py:132: FutureWarning: Setting an item of incompatible dtype is deprecated and will raise an error in a future version of pandas. Value 'Trailing SL Hit' has dtype incompatible with float64, please explicitly cast to a compatible dtype first.\n",
      "  tradebook_long.loc[\n"
     ]
    },
    {
     "name": "stdout",
     "output_type": "stream",
     "text": [
      "EMA:30, X:34, PCT:0.25\n"
     ]
    },
    {
     "name": "stderr",
     "output_type": "stream",
     "text": [
      "/tmp/ipykernel_37183/3149794742.py:132: FutureWarning: Setting an item of incompatible dtype is deprecated and will raise an error in a future version of pandas. Value 'Trailing SL Hit' has dtype incompatible with float64, please explicitly cast to a compatible dtype first.\n",
      "  tradebook_long.loc[\n"
     ]
    },
    {
     "name": "stdout",
     "output_type": "stream",
     "text": [
      "EMA:32, X:4, PCT:0.1\n"
     ]
    },
    {
     "name": "stderr",
     "output_type": "stream",
     "text": [
      "/tmp/ipykernel_37183/3149794742.py:132: FutureWarning: Setting an item of incompatible dtype is deprecated and will raise an error in a future version of pandas. Value 'Trailing SL Hit' has dtype incompatible with float64, please explicitly cast to a compatible dtype first.\n",
      "  tradebook_long.loc[\n"
     ]
    },
    {
     "name": "stdout",
     "output_type": "stream",
     "text": [
      "EMA:32, X:4, PCT:0.25\n"
     ]
    },
    {
     "name": "stderr",
     "output_type": "stream",
     "text": [
      "/tmp/ipykernel_37183/3149794742.py:132: FutureWarning: Setting an item of incompatible dtype is deprecated and will raise an error in a future version of pandas. Value 'Trailing SL Hit' has dtype incompatible with float64, please explicitly cast to a compatible dtype first.\n",
      "  tradebook_long.loc[\n"
     ]
    },
    {
     "name": "stdout",
     "output_type": "stream",
     "text": [
      "EMA:32, X:7, PCT:0.1\n"
     ]
    },
    {
     "name": "stderr",
     "output_type": "stream",
     "text": [
      "/tmp/ipykernel_37183/3149794742.py:132: FutureWarning: Setting an item of incompatible dtype is deprecated and will raise an error in a future version of pandas. Value 'Trailing SL Hit' has dtype incompatible with float64, please explicitly cast to a compatible dtype first.\n",
      "  tradebook_long.loc[\n"
     ]
    },
    {
     "name": "stdout",
     "output_type": "stream",
     "text": [
      "EMA:32, X:7, PCT:0.25\n"
     ]
    },
    {
     "name": "stderr",
     "output_type": "stream",
     "text": [
      "/tmp/ipykernel_37183/3149794742.py:132: FutureWarning: Setting an item of incompatible dtype is deprecated and will raise an error in a future version of pandas. Value 'Trailing SL Hit' has dtype incompatible with float64, please explicitly cast to a compatible dtype first.\n",
      "  tradebook_long.loc[\n"
     ]
    },
    {
     "name": "stdout",
     "output_type": "stream",
     "text": [
      "EMA:32, X:10, PCT:0.1\n"
     ]
    },
    {
     "name": "stderr",
     "output_type": "stream",
     "text": [
      "/tmp/ipykernel_37183/3149794742.py:132: FutureWarning: Setting an item of incompatible dtype is deprecated and will raise an error in a future version of pandas. Value 'Trailing SL Hit' has dtype incompatible with float64, please explicitly cast to a compatible dtype first.\n",
      "  tradebook_long.loc[\n"
     ]
    },
    {
     "name": "stdout",
     "output_type": "stream",
     "text": [
      "EMA:32, X:10, PCT:0.25\n"
     ]
    },
    {
     "name": "stderr",
     "output_type": "stream",
     "text": [
      "/tmp/ipykernel_37183/3149794742.py:132: FutureWarning: Setting an item of incompatible dtype is deprecated and will raise an error in a future version of pandas. Value 'Trailing SL Hit' has dtype incompatible with float64, please explicitly cast to a compatible dtype first.\n",
      "  tradebook_long.loc[\n"
     ]
    },
    {
     "name": "stdout",
     "output_type": "stream",
     "text": [
      "EMA:32, X:13, PCT:0.1\n"
     ]
    },
    {
     "name": "stderr",
     "output_type": "stream",
     "text": [
      "/tmp/ipykernel_37183/3149794742.py:132: FutureWarning: Setting an item of incompatible dtype is deprecated and will raise an error in a future version of pandas. Value 'Trailing SL Hit' has dtype incompatible with float64, please explicitly cast to a compatible dtype first.\n",
      "  tradebook_long.loc[\n"
     ]
    },
    {
     "name": "stdout",
     "output_type": "stream",
     "text": [
      "EMA:32, X:13, PCT:0.25\n"
     ]
    },
    {
     "name": "stderr",
     "output_type": "stream",
     "text": [
      "/tmp/ipykernel_37183/3149794742.py:132: FutureWarning: Setting an item of incompatible dtype is deprecated and will raise an error in a future version of pandas. Value 'Trailing SL Hit' has dtype incompatible with float64, please explicitly cast to a compatible dtype first.\n",
      "  tradebook_long.loc[\n"
     ]
    },
    {
     "name": "stdout",
     "output_type": "stream",
     "text": [
      "EMA:32, X:16, PCT:0.1\n"
     ]
    },
    {
     "name": "stderr",
     "output_type": "stream",
     "text": [
      "/tmp/ipykernel_37183/3149794742.py:132: FutureWarning: Setting an item of incompatible dtype is deprecated and will raise an error in a future version of pandas. Value 'Trailing SL Hit' has dtype incompatible with float64, please explicitly cast to a compatible dtype first.\n",
      "  tradebook_long.loc[\n"
     ]
    },
    {
     "name": "stdout",
     "output_type": "stream",
     "text": [
      "EMA:32, X:16, PCT:0.25\n"
     ]
    },
    {
     "name": "stderr",
     "output_type": "stream",
     "text": [
      "/tmp/ipykernel_37183/3149794742.py:132: FutureWarning: Setting an item of incompatible dtype is deprecated and will raise an error in a future version of pandas. Value 'Trailing SL Hit' has dtype incompatible with float64, please explicitly cast to a compatible dtype first.\n",
      "  tradebook_long.loc[\n"
     ]
    },
    {
     "name": "stdout",
     "output_type": "stream",
     "text": [
      "EMA:32, X:19, PCT:0.1\n"
     ]
    },
    {
     "name": "stderr",
     "output_type": "stream",
     "text": [
      "/tmp/ipykernel_37183/3149794742.py:132: FutureWarning: Setting an item of incompatible dtype is deprecated and will raise an error in a future version of pandas. Value 'Trailing SL Hit' has dtype incompatible with float64, please explicitly cast to a compatible dtype first.\n",
      "  tradebook_long.loc[\n"
     ]
    },
    {
     "name": "stdout",
     "output_type": "stream",
     "text": [
      "EMA:32, X:19, PCT:0.25\n"
     ]
    },
    {
     "name": "stderr",
     "output_type": "stream",
     "text": [
      "/tmp/ipykernel_37183/3149794742.py:132: FutureWarning: Setting an item of incompatible dtype is deprecated and will raise an error in a future version of pandas. Value 'Trailing SL Hit' has dtype incompatible with float64, please explicitly cast to a compatible dtype first.\n",
      "  tradebook_long.loc[\n"
     ]
    },
    {
     "name": "stdout",
     "output_type": "stream",
     "text": [
      "EMA:32, X:22, PCT:0.1\n"
     ]
    },
    {
     "name": "stderr",
     "output_type": "stream",
     "text": [
      "/tmp/ipykernel_37183/3149794742.py:132: FutureWarning: Setting an item of incompatible dtype is deprecated and will raise an error in a future version of pandas. Value 'Trailing SL Hit' has dtype incompatible with float64, please explicitly cast to a compatible dtype first.\n",
      "  tradebook_long.loc[\n"
     ]
    },
    {
     "name": "stdout",
     "output_type": "stream",
     "text": [
      "EMA:32, X:22, PCT:0.25\n"
     ]
    },
    {
     "name": "stderr",
     "output_type": "stream",
     "text": [
      "/tmp/ipykernel_37183/3149794742.py:132: FutureWarning: Setting an item of incompatible dtype is deprecated and will raise an error in a future version of pandas. Value 'Trailing SL Hit' has dtype incompatible with float64, please explicitly cast to a compatible dtype first.\n",
      "  tradebook_long.loc[\n"
     ]
    },
    {
     "name": "stdout",
     "output_type": "stream",
     "text": [
      "EMA:32, X:25, PCT:0.1\n"
     ]
    },
    {
     "name": "stderr",
     "output_type": "stream",
     "text": [
      "/tmp/ipykernel_37183/3149794742.py:118: FutureWarning: Setting an item of incompatible dtype is deprecated and will raise an error in a future version of pandas. Value 'Initial SL Hit' has dtype incompatible with float64, please explicitly cast to a compatible dtype first.\n",
      "  tradebook_long.loc[\n"
     ]
    },
    {
     "name": "stdout",
     "output_type": "stream",
     "text": [
      "EMA:32, X:25, PCT:0.25\n"
     ]
    },
    {
     "name": "stderr",
     "output_type": "stream",
     "text": [
      "/tmp/ipykernel_37183/3149794742.py:132: FutureWarning: Setting an item of incompatible dtype is deprecated and will raise an error in a future version of pandas. Value 'Trailing SL Hit' has dtype incompatible with float64, please explicitly cast to a compatible dtype first.\n",
      "  tradebook_long.loc[\n"
     ]
    },
    {
     "name": "stdout",
     "output_type": "stream",
     "text": [
      "EMA:32, X:28, PCT:0.1\n"
     ]
    },
    {
     "name": "stderr",
     "output_type": "stream",
     "text": [
      "/tmp/ipykernel_37183/3149794742.py:132: FutureWarning: Setting an item of incompatible dtype is deprecated and will raise an error in a future version of pandas. Value 'Trailing SL Hit' has dtype incompatible with float64, please explicitly cast to a compatible dtype first.\n",
      "  tradebook_long.loc[\n"
     ]
    },
    {
     "name": "stdout",
     "output_type": "stream",
     "text": [
      "EMA:32, X:28, PCT:0.25\n"
     ]
    },
    {
     "name": "stderr",
     "output_type": "stream",
     "text": [
      "/tmp/ipykernel_37183/3149794742.py:132: FutureWarning: Setting an item of incompatible dtype is deprecated and will raise an error in a future version of pandas. Value 'Trailing SL Hit' has dtype incompatible with float64, please explicitly cast to a compatible dtype first.\n",
      "  tradebook_long.loc[\n"
     ]
    },
    {
     "name": "stdout",
     "output_type": "stream",
     "text": [
      "EMA:32, X:31, PCT:0.1\n"
     ]
    },
    {
     "name": "stderr",
     "output_type": "stream",
     "text": [
      "/tmp/ipykernel_37183/3149794742.py:132: FutureWarning: Setting an item of incompatible dtype is deprecated and will raise an error in a future version of pandas. Value 'Trailing SL Hit' has dtype incompatible with float64, please explicitly cast to a compatible dtype first.\n",
      "  tradebook_long.loc[\n"
     ]
    },
    {
     "name": "stdout",
     "output_type": "stream",
     "text": [
      "EMA:32, X:31, PCT:0.25\n"
     ]
    },
    {
     "name": "stderr",
     "output_type": "stream",
     "text": [
      "/tmp/ipykernel_37183/3149794742.py:132: FutureWarning: Setting an item of incompatible dtype is deprecated and will raise an error in a future version of pandas. Value 'Trailing SL Hit' has dtype incompatible with float64, please explicitly cast to a compatible dtype first.\n",
      "  tradebook_long.loc[\n"
     ]
    },
    {
     "name": "stdout",
     "output_type": "stream",
     "text": [
      "EMA:32, X:34, PCT:0.1\n"
     ]
    },
    {
     "name": "stderr",
     "output_type": "stream",
     "text": [
      "/tmp/ipykernel_37183/3149794742.py:132: FutureWarning: Setting an item of incompatible dtype is deprecated and will raise an error in a future version of pandas. Value 'Trailing SL Hit' has dtype incompatible with float64, please explicitly cast to a compatible dtype first.\n",
      "  tradebook_long.loc[\n"
     ]
    },
    {
     "name": "stdout",
     "output_type": "stream",
     "text": [
      "EMA:32, X:34, PCT:0.25\n"
     ]
    },
    {
     "name": "stderr",
     "output_type": "stream",
     "text": [
      "/tmp/ipykernel_37183/3149794742.py:132: FutureWarning: Setting an item of incompatible dtype is deprecated and will raise an error in a future version of pandas. Value 'Trailing SL Hit' has dtype incompatible with float64, please explicitly cast to a compatible dtype first.\n",
      "  tradebook_long.loc[\n"
     ]
    },
    {
     "name": "stdout",
     "output_type": "stream",
     "text": [
      "EMA:34, X:4, PCT:0.1\n"
     ]
    },
    {
     "name": "stderr",
     "output_type": "stream",
     "text": [
      "/tmp/ipykernel_37183/3149794742.py:132: FutureWarning: Setting an item of incompatible dtype is deprecated and will raise an error in a future version of pandas. Value 'Trailing SL Hit' has dtype incompatible with float64, please explicitly cast to a compatible dtype first.\n",
      "  tradebook_long.loc[\n"
     ]
    },
    {
     "name": "stdout",
     "output_type": "stream",
     "text": [
      "EMA:34, X:4, PCT:0.25\n"
     ]
    },
    {
     "name": "stderr",
     "output_type": "stream",
     "text": [
      "/tmp/ipykernel_37183/3149794742.py:132: FutureWarning: Setting an item of incompatible dtype is deprecated and will raise an error in a future version of pandas. Value 'Trailing SL Hit' has dtype incompatible with float64, please explicitly cast to a compatible dtype first.\n",
      "  tradebook_long.loc[\n"
     ]
    },
    {
     "name": "stdout",
     "output_type": "stream",
     "text": [
      "EMA:34, X:7, PCT:0.1\n"
     ]
    },
    {
     "name": "stderr",
     "output_type": "stream",
     "text": [
      "/tmp/ipykernel_37183/3149794742.py:132: FutureWarning: Setting an item of incompatible dtype is deprecated and will raise an error in a future version of pandas. Value 'Trailing SL Hit' has dtype incompatible with float64, please explicitly cast to a compatible dtype first.\n",
      "  tradebook_long.loc[\n"
     ]
    },
    {
     "name": "stdout",
     "output_type": "stream",
     "text": [
      "EMA:34, X:7, PCT:0.25\n"
     ]
    },
    {
     "name": "stderr",
     "output_type": "stream",
     "text": [
      "/tmp/ipykernel_37183/3149794742.py:132: FutureWarning: Setting an item of incompatible dtype is deprecated and will raise an error in a future version of pandas. Value 'Trailing SL Hit' has dtype incompatible with float64, please explicitly cast to a compatible dtype first.\n",
      "  tradebook_long.loc[\n"
     ]
    },
    {
     "name": "stdout",
     "output_type": "stream",
     "text": [
      "EMA:34, X:10, PCT:0.1\n"
     ]
    },
    {
     "name": "stderr",
     "output_type": "stream",
     "text": [
      "/tmp/ipykernel_37183/3149794742.py:132: FutureWarning: Setting an item of incompatible dtype is deprecated and will raise an error in a future version of pandas. Value 'Trailing SL Hit' has dtype incompatible with float64, please explicitly cast to a compatible dtype first.\n",
      "  tradebook_long.loc[\n"
     ]
    },
    {
     "name": "stdout",
     "output_type": "stream",
     "text": [
      "EMA:34, X:10, PCT:0.25\n"
     ]
    },
    {
     "name": "stderr",
     "output_type": "stream",
     "text": [
      "/tmp/ipykernel_37183/3149794742.py:132: FutureWarning: Setting an item of incompatible dtype is deprecated and will raise an error in a future version of pandas. Value 'Trailing SL Hit' has dtype incompatible with float64, please explicitly cast to a compatible dtype first.\n",
      "  tradebook_long.loc[\n"
     ]
    },
    {
     "name": "stdout",
     "output_type": "stream",
     "text": [
      "EMA:34, X:13, PCT:0.1\n"
     ]
    },
    {
     "name": "stderr",
     "output_type": "stream",
     "text": [
      "/tmp/ipykernel_37183/3149794742.py:132: FutureWarning: Setting an item of incompatible dtype is deprecated and will raise an error in a future version of pandas. Value 'Trailing SL Hit' has dtype incompatible with float64, please explicitly cast to a compatible dtype first.\n",
      "  tradebook_long.loc[\n"
     ]
    },
    {
     "name": "stdout",
     "output_type": "stream",
     "text": [
      "EMA:34, X:13, PCT:0.25\n"
     ]
    },
    {
     "name": "stderr",
     "output_type": "stream",
     "text": [
      "/tmp/ipykernel_37183/3149794742.py:132: FutureWarning: Setting an item of incompatible dtype is deprecated and will raise an error in a future version of pandas. Value 'Trailing SL Hit' has dtype incompatible with float64, please explicitly cast to a compatible dtype first.\n",
      "  tradebook_long.loc[\n"
     ]
    },
    {
     "name": "stdout",
     "output_type": "stream",
     "text": [
      "EMA:34, X:16, PCT:0.1\n"
     ]
    },
    {
     "name": "stderr",
     "output_type": "stream",
     "text": [
      "/tmp/ipykernel_37183/3149794742.py:132: FutureWarning: Setting an item of incompatible dtype is deprecated and will raise an error in a future version of pandas. Value 'Trailing SL Hit' has dtype incompatible with float64, please explicitly cast to a compatible dtype first.\n",
      "  tradebook_long.loc[\n"
     ]
    },
    {
     "name": "stdout",
     "output_type": "stream",
     "text": [
      "EMA:34, X:16, PCT:0.25\n"
     ]
    },
    {
     "name": "stderr",
     "output_type": "stream",
     "text": [
      "/tmp/ipykernel_37183/3149794742.py:132: FutureWarning: Setting an item of incompatible dtype is deprecated and will raise an error in a future version of pandas. Value 'Trailing SL Hit' has dtype incompatible with float64, please explicitly cast to a compatible dtype first.\n",
      "  tradebook_long.loc[\n"
     ]
    },
    {
     "name": "stdout",
     "output_type": "stream",
     "text": [
      "EMA:34, X:19, PCT:0.1\n"
     ]
    },
    {
     "name": "stderr",
     "output_type": "stream",
     "text": [
      "/tmp/ipykernel_37183/3149794742.py:132: FutureWarning: Setting an item of incompatible dtype is deprecated and will raise an error in a future version of pandas. Value 'Trailing SL Hit' has dtype incompatible with float64, please explicitly cast to a compatible dtype first.\n",
      "  tradebook_long.loc[\n"
     ]
    },
    {
     "name": "stdout",
     "output_type": "stream",
     "text": [
      "EMA:34, X:19, PCT:0.25\n"
     ]
    },
    {
     "name": "stderr",
     "output_type": "stream",
     "text": [
      "/tmp/ipykernel_37183/3149794742.py:132: FutureWarning: Setting an item of incompatible dtype is deprecated and will raise an error in a future version of pandas. Value 'Trailing SL Hit' has dtype incompatible with float64, please explicitly cast to a compatible dtype first.\n",
      "  tradebook_long.loc[\n"
     ]
    },
    {
     "name": "stdout",
     "output_type": "stream",
     "text": [
      "EMA:34, X:22, PCT:0.1\n"
     ]
    },
    {
     "name": "stderr",
     "output_type": "stream",
     "text": [
      "/tmp/ipykernel_37183/3149794742.py:132: FutureWarning: Setting an item of incompatible dtype is deprecated and will raise an error in a future version of pandas. Value 'Trailing SL Hit' has dtype incompatible with float64, please explicitly cast to a compatible dtype first.\n",
      "  tradebook_long.loc[\n"
     ]
    },
    {
     "name": "stdout",
     "output_type": "stream",
     "text": [
      "EMA:34, X:22, PCT:0.25\n"
     ]
    },
    {
     "name": "stderr",
     "output_type": "stream",
     "text": [
      "/tmp/ipykernel_37183/3149794742.py:132: FutureWarning: Setting an item of incompatible dtype is deprecated and will raise an error in a future version of pandas. Value 'Trailing SL Hit' has dtype incompatible with float64, please explicitly cast to a compatible dtype first.\n",
      "  tradebook_long.loc[\n"
     ]
    },
    {
     "name": "stdout",
     "output_type": "stream",
     "text": [
      "EMA:34, X:25, PCT:0.1\n"
     ]
    },
    {
     "name": "stderr",
     "output_type": "stream",
     "text": [
      "/tmp/ipykernel_37183/3149794742.py:118: FutureWarning: Setting an item of incompatible dtype is deprecated and will raise an error in a future version of pandas. Value 'Initial SL Hit' has dtype incompatible with float64, please explicitly cast to a compatible dtype first.\n",
      "  tradebook_long.loc[\n"
     ]
    },
    {
     "name": "stdout",
     "output_type": "stream",
     "text": [
      "EMA:34, X:25, PCT:0.25\n"
     ]
    },
    {
     "name": "stderr",
     "output_type": "stream",
     "text": [
      "/tmp/ipykernel_37183/3149794742.py:132: FutureWarning: Setting an item of incompatible dtype is deprecated and will raise an error in a future version of pandas. Value 'Trailing SL Hit' has dtype incompatible with float64, please explicitly cast to a compatible dtype first.\n",
      "  tradebook_long.loc[\n"
     ]
    },
    {
     "name": "stdout",
     "output_type": "stream",
     "text": [
      "EMA:34, X:28, PCT:0.1\n"
     ]
    },
    {
     "name": "stderr",
     "output_type": "stream",
     "text": [
      "/tmp/ipykernel_37183/3149794742.py:132: FutureWarning: Setting an item of incompatible dtype is deprecated and will raise an error in a future version of pandas. Value 'Trailing SL Hit' has dtype incompatible with float64, please explicitly cast to a compatible dtype first.\n",
      "  tradebook_long.loc[\n"
     ]
    },
    {
     "name": "stdout",
     "output_type": "stream",
     "text": [
      "EMA:34, X:28, PCT:0.25\n"
     ]
    },
    {
     "name": "stderr",
     "output_type": "stream",
     "text": [
      "/tmp/ipykernel_37183/3149794742.py:132: FutureWarning: Setting an item of incompatible dtype is deprecated and will raise an error in a future version of pandas. Value 'Trailing SL Hit' has dtype incompatible with float64, please explicitly cast to a compatible dtype first.\n",
      "  tradebook_long.loc[\n"
     ]
    },
    {
     "name": "stdout",
     "output_type": "stream",
     "text": [
      "EMA:34, X:31, PCT:0.1\n"
     ]
    },
    {
     "name": "stderr",
     "output_type": "stream",
     "text": [
      "/tmp/ipykernel_37183/3149794742.py:132: FutureWarning: Setting an item of incompatible dtype is deprecated and will raise an error in a future version of pandas. Value 'Trailing SL Hit' has dtype incompatible with float64, please explicitly cast to a compatible dtype first.\n",
      "  tradebook_long.loc[\n"
     ]
    },
    {
     "name": "stdout",
     "output_type": "stream",
     "text": [
      "EMA:34, X:31, PCT:0.25\n"
     ]
    },
    {
     "name": "stderr",
     "output_type": "stream",
     "text": [
      "/tmp/ipykernel_37183/3149794742.py:132: FutureWarning: Setting an item of incompatible dtype is deprecated and will raise an error in a future version of pandas. Value 'Trailing SL Hit' has dtype incompatible with float64, please explicitly cast to a compatible dtype first.\n",
      "  tradebook_long.loc[\n"
     ]
    },
    {
     "name": "stdout",
     "output_type": "stream",
     "text": [
      "EMA:34, X:34, PCT:0.1\n"
     ]
    },
    {
     "name": "stderr",
     "output_type": "stream",
     "text": [
      "/tmp/ipykernel_37183/3149794742.py:132: FutureWarning: Setting an item of incompatible dtype is deprecated and will raise an error in a future version of pandas. Value 'Trailing SL Hit' has dtype incompatible with float64, please explicitly cast to a compatible dtype first.\n",
      "  tradebook_long.loc[\n"
     ]
    },
    {
     "name": "stdout",
     "output_type": "stream",
     "text": [
      "EMA:34, X:34, PCT:0.25\n"
     ]
    },
    {
     "name": "stderr",
     "output_type": "stream",
     "text": [
      "/tmp/ipykernel_37183/3149794742.py:132: FutureWarning: Setting an item of incompatible dtype is deprecated and will raise an error in a future version of pandas. Value 'Trailing SL Hit' has dtype incompatible with float64, please explicitly cast to a compatible dtype first.\n",
      "  tradebook_long.loc[\n"
     ]
    },
    {
     "name": "stdout",
     "output_type": "stream",
     "text": [
      "EMA:36, X:4, PCT:0.1\n"
     ]
    },
    {
     "name": "stderr",
     "output_type": "stream",
     "text": [
      "/tmp/ipykernel_37183/3149794742.py:132: FutureWarning: Setting an item of incompatible dtype is deprecated and will raise an error in a future version of pandas. Value 'Trailing SL Hit' has dtype incompatible with float64, please explicitly cast to a compatible dtype first.\n",
      "  tradebook_long.loc[\n"
     ]
    },
    {
     "name": "stdout",
     "output_type": "stream",
     "text": [
      "EMA:36, X:4, PCT:0.25\n"
     ]
    },
    {
     "name": "stderr",
     "output_type": "stream",
     "text": [
      "/tmp/ipykernel_37183/3149794742.py:132: FutureWarning: Setting an item of incompatible dtype is deprecated and will raise an error in a future version of pandas. Value 'Trailing SL Hit' has dtype incompatible with float64, please explicitly cast to a compatible dtype first.\n",
      "  tradebook_long.loc[\n"
     ]
    },
    {
     "name": "stdout",
     "output_type": "stream",
     "text": [
      "EMA:36, X:7, PCT:0.1\n"
     ]
    },
    {
     "name": "stderr",
     "output_type": "stream",
     "text": [
      "/tmp/ipykernel_37183/3149794742.py:132: FutureWarning: Setting an item of incompatible dtype is deprecated and will raise an error in a future version of pandas. Value 'Trailing SL Hit' has dtype incompatible with float64, please explicitly cast to a compatible dtype first.\n",
      "  tradebook_long.loc[\n"
     ]
    },
    {
     "name": "stdout",
     "output_type": "stream",
     "text": [
      "EMA:36, X:7, PCT:0.25\n"
     ]
    },
    {
     "name": "stderr",
     "output_type": "stream",
     "text": [
      "/tmp/ipykernel_37183/3149794742.py:132: FutureWarning: Setting an item of incompatible dtype is deprecated and will raise an error in a future version of pandas. Value 'Trailing SL Hit' has dtype incompatible with float64, please explicitly cast to a compatible dtype first.\n",
      "  tradebook_long.loc[\n"
     ]
    },
    {
     "name": "stdout",
     "output_type": "stream",
     "text": [
      "EMA:36, X:10, PCT:0.1\n"
     ]
    },
    {
     "name": "stderr",
     "output_type": "stream",
     "text": [
      "/tmp/ipykernel_37183/3149794742.py:132: FutureWarning: Setting an item of incompatible dtype is deprecated and will raise an error in a future version of pandas. Value 'Trailing SL Hit' has dtype incompatible with float64, please explicitly cast to a compatible dtype first.\n",
      "  tradebook_long.loc[\n"
     ]
    },
    {
     "name": "stdout",
     "output_type": "stream",
     "text": [
      "EMA:36, X:10, PCT:0.25\n"
     ]
    },
    {
     "name": "stderr",
     "output_type": "stream",
     "text": [
      "/tmp/ipykernel_37183/3149794742.py:132: FutureWarning: Setting an item of incompatible dtype is deprecated and will raise an error in a future version of pandas. Value 'Trailing SL Hit' has dtype incompatible with float64, please explicitly cast to a compatible dtype first.\n",
      "  tradebook_long.loc[\n"
     ]
    },
    {
     "name": "stdout",
     "output_type": "stream",
     "text": [
      "EMA:36, X:13, PCT:0.1\n"
     ]
    },
    {
     "name": "stderr",
     "output_type": "stream",
     "text": [
      "/tmp/ipykernel_37183/3149794742.py:132: FutureWarning: Setting an item of incompatible dtype is deprecated and will raise an error in a future version of pandas. Value 'Trailing SL Hit' has dtype incompatible with float64, please explicitly cast to a compatible dtype first.\n",
      "  tradebook_long.loc[\n"
     ]
    },
    {
     "name": "stdout",
     "output_type": "stream",
     "text": [
      "EMA:36, X:13, PCT:0.25\n"
     ]
    },
    {
     "name": "stderr",
     "output_type": "stream",
     "text": [
      "/tmp/ipykernel_37183/3149794742.py:132: FutureWarning: Setting an item of incompatible dtype is deprecated and will raise an error in a future version of pandas. Value 'Trailing SL Hit' has dtype incompatible with float64, please explicitly cast to a compatible dtype first.\n",
      "  tradebook_long.loc[\n"
     ]
    },
    {
     "name": "stdout",
     "output_type": "stream",
     "text": [
      "EMA:36, X:16, PCT:0.1\n"
     ]
    },
    {
     "name": "stderr",
     "output_type": "stream",
     "text": [
      "/tmp/ipykernel_37183/3149794742.py:132: FutureWarning: Setting an item of incompatible dtype is deprecated and will raise an error in a future version of pandas. Value 'Trailing SL Hit' has dtype incompatible with float64, please explicitly cast to a compatible dtype first.\n",
      "  tradebook_long.loc[\n"
     ]
    },
    {
     "name": "stdout",
     "output_type": "stream",
     "text": [
      "EMA:36, X:16, PCT:0.25\n"
     ]
    },
    {
     "name": "stderr",
     "output_type": "stream",
     "text": [
      "/tmp/ipykernel_37183/3149794742.py:132: FutureWarning: Setting an item of incompatible dtype is deprecated and will raise an error in a future version of pandas. Value 'Trailing SL Hit' has dtype incompatible with float64, please explicitly cast to a compatible dtype first.\n",
      "  tradebook_long.loc[\n"
     ]
    },
    {
     "name": "stdout",
     "output_type": "stream",
     "text": [
      "EMA:36, X:19, PCT:0.1\n"
     ]
    },
    {
     "name": "stderr",
     "output_type": "stream",
     "text": [
      "/tmp/ipykernel_37183/3149794742.py:132: FutureWarning: Setting an item of incompatible dtype is deprecated and will raise an error in a future version of pandas. Value 'Trailing SL Hit' has dtype incompatible with float64, please explicitly cast to a compatible dtype first.\n",
      "  tradebook_long.loc[\n"
     ]
    },
    {
     "name": "stdout",
     "output_type": "stream",
     "text": [
      "EMA:36, X:19, PCT:0.25\n"
     ]
    },
    {
     "name": "stderr",
     "output_type": "stream",
     "text": [
      "/tmp/ipykernel_37183/3149794742.py:132: FutureWarning: Setting an item of incompatible dtype is deprecated and will raise an error in a future version of pandas. Value 'Trailing SL Hit' has dtype incompatible with float64, please explicitly cast to a compatible dtype first.\n",
      "  tradebook_long.loc[\n"
     ]
    },
    {
     "name": "stdout",
     "output_type": "stream",
     "text": [
      "EMA:36, X:22, PCT:0.1\n"
     ]
    },
    {
     "name": "stderr",
     "output_type": "stream",
     "text": [
      "/tmp/ipykernel_37183/3149794742.py:132: FutureWarning: Setting an item of incompatible dtype is deprecated and will raise an error in a future version of pandas. Value 'Trailing SL Hit' has dtype incompatible with float64, please explicitly cast to a compatible dtype first.\n",
      "  tradebook_long.loc[\n"
     ]
    },
    {
     "name": "stdout",
     "output_type": "stream",
     "text": [
      "EMA:36, X:22, PCT:0.25\n"
     ]
    },
    {
     "name": "stderr",
     "output_type": "stream",
     "text": [
      "/tmp/ipykernel_37183/3149794742.py:132: FutureWarning: Setting an item of incompatible dtype is deprecated and will raise an error in a future version of pandas. Value 'Trailing SL Hit' has dtype incompatible with float64, please explicitly cast to a compatible dtype first.\n",
      "  tradebook_long.loc[\n"
     ]
    },
    {
     "name": "stdout",
     "output_type": "stream",
     "text": [
      "EMA:36, X:25, PCT:0.1\n"
     ]
    },
    {
     "name": "stderr",
     "output_type": "stream",
     "text": [
      "/tmp/ipykernel_37183/3149794742.py:118: FutureWarning: Setting an item of incompatible dtype is deprecated and will raise an error in a future version of pandas. Value 'Initial SL Hit' has dtype incompatible with float64, please explicitly cast to a compatible dtype first.\n",
      "  tradebook_long.loc[\n"
     ]
    },
    {
     "name": "stdout",
     "output_type": "stream",
     "text": [
      "EMA:36, X:25, PCT:0.25\n"
     ]
    },
    {
     "name": "stderr",
     "output_type": "stream",
     "text": [
      "/tmp/ipykernel_37183/3149794742.py:132: FutureWarning: Setting an item of incompatible dtype is deprecated and will raise an error in a future version of pandas. Value 'Trailing SL Hit' has dtype incompatible with float64, please explicitly cast to a compatible dtype first.\n",
      "  tradebook_long.loc[\n"
     ]
    },
    {
     "name": "stdout",
     "output_type": "stream",
     "text": [
      "EMA:36, X:28, PCT:0.1\n"
     ]
    },
    {
     "name": "stderr",
     "output_type": "stream",
     "text": [
      "/tmp/ipykernel_37183/3149794742.py:132: FutureWarning: Setting an item of incompatible dtype is deprecated and will raise an error in a future version of pandas. Value 'Trailing SL Hit' has dtype incompatible with float64, please explicitly cast to a compatible dtype first.\n",
      "  tradebook_long.loc[\n"
     ]
    },
    {
     "name": "stdout",
     "output_type": "stream",
     "text": [
      "EMA:36, X:28, PCT:0.25\n"
     ]
    },
    {
     "name": "stderr",
     "output_type": "stream",
     "text": [
      "/tmp/ipykernel_37183/3149794742.py:132: FutureWarning: Setting an item of incompatible dtype is deprecated and will raise an error in a future version of pandas. Value 'Trailing SL Hit' has dtype incompatible with float64, please explicitly cast to a compatible dtype first.\n",
      "  tradebook_long.loc[\n"
     ]
    },
    {
     "name": "stdout",
     "output_type": "stream",
     "text": [
      "EMA:36, X:31, PCT:0.1\n"
     ]
    },
    {
     "name": "stderr",
     "output_type": "stream",
     "text": [
      "/tmp/ipykernel_37183/3149794742.py:132: FutureWarning: Setting an item of incompatible dtype is deprecated and will raise an error in a future version of pandas. Value 'Trailing SL Hit' has dtype incompatible with float64, please explicitly cast to a compatible dtype first.\n",
      "  tradebook_long.loc[\n"
     ]
    },
    {
     "name": "stdout",
     "output_type": "stream",
     "text": [
      "EMA:36, X:31, PCT:0.25\n"
     ]
    },
    {
     "name": "stderr",
     "output_type": "stream",
     "text": [
      "/tmp/ipykernel_37183/3149794742.py:132: FutureWarning: Setting an item of incompatible dtype is deprecated and will raise an error in a future version of pandas. Value 'Trailing SL Hit' has dtype incompatible with float64, please explicitly cast to a compatible dtype first.\n",
      "  tradebook_long.loc[\n"
     ]
    },
    {
     "name": "stdout",
     "output_type": "stream",
     "text": [
      "EMA:36, X:34, PCT:0.1\n"
     ]
    },
    {
     "name": "stderr",
     "output_type": "stream",
     "text": [
      "/tmp/ipykernel_37183/3149794742.py:132: FutureWarning: Setting an item of incompatible dtype is deprecated and will raise an error in a future version of pandas. Value 'Trailing SL Hit' has dtype incompatible with float64, please explicitly cast to a compatible dtype first.\n",
      "  tradebook_long.loc[\n"
     ]
    },
    {
     "name": "stdout",
     "output_type": "stream",
     "text": [
      "EMA:36, X:34, PCT:0.25\n"
     ]
    },
    {
     "name": "stderr",
     "output_type": "stream",
     "text": [
      "/tmp/ipykernel_37183/3149794742.py:132: FutureWarning: Setting an item of incompatible dtype is deprecated and will raise an error in a future version of pandas. Value 'Trailing SL Hit' has dtype incompatible with float64, please explicitly cast to a compatible dtype first.\n",
      "  tradebook_long.loc[\n"
     ]
    },
    {
     "name": "stdout",
     "output_type": "stream",
     "text": [
      "EMA:38, X:4, PCT:0.1\n"
     ]
    },
    {
     "name": "stderr",
     "output_type": "stream",
     "text": [
      "/tmp/ipykernel_37183/3149794742.py:132: FutureWarning: Setting an item of incompatible dtype is deprecated and will raise an error in a future version of pandas. Value 'Trailing SL Hit' has dtype incompatible with float64, please explicitly cast to a compatible dtype first.\n",
      "  tradebook_long.loc[\n"
     ]
    },
    {
     "name": "stdout",
     "output_type": "stream",
     "text": [
      "EMA:38, X:4, PCT:0.25\n"
     ]
    },
    {
     "name": "stderr",
     "output_type": "stream",
     "text": [
      "/tmp/ipykernel_37183/3149794742.py:132: FutureWarning: Setting an item of incompatible dtype is deprecated and will raise an error in a future version of pandas. Value 'Trailing SL Hit' has dtype incompatible with float64, please explicitly cast to a compatible dtype first.\n",
      "  tradebook_long.loc[\n"
     ]
    },
    {
     "name": "stdout",
     "output_type": "stream",
     "text": [
      "EMA:38, X:7, PCT:0.1\n"
     ]
    },
    {
     "name": "stderr",
     "output_type": "stream",
     "text": [
      "/tmp/ipykernel_37183/3149794742.py:132: FutureWarning: Setting an item of incompatible dtype is deprecated and will raise an error in a future version of pandas. Value 'Trailing SL Hit' has dtype incompatible with float64, please explicitly cast to a compatible dtype first.\n",
      "  tradebook_long.loc[\n"
     ]
    },
    {
     "name": "stdout",
     "output_type": "stream",
     "text": [
      "EMA:38, X:7, PCT:0.25\n"
     ]
    },
    {
     "name": "stderr",
     "output_type": "stream",
     "text": [
      "/tmp/ipykernel_37183/3149794742.py:132: FutureWarning: Setting an item of incompatible dtype is deprecated and will raise an error in a future version of pandas. Value 'Trailing SL Hit' has dtype incompatible with float64, please explicitly cast to a compatible dtype first.\n",
      "  tradebook_long.loc[\n"
     ]
    },
    {
     "name": "stdout",
     "output_type": "stream",
     "text": [
      "EMA:38, X:10, PCT:0.1\n"
     ]
    },
    {
     "name": "stderr",
     "output_type": "stream",
     "text": [
      "/tmp/ipykernel_37183/3149794742.py:132: FutureWarning: Setting an item of incompatible dtype is deprecated and will raise an error in a future version of pandas. Value 'Trailing SL Hit' has dtype incompatible with float64, please explicitly cast to a compatible dtype first.\n",
      "  tradebook_long.loc[\n"
     ]
    },
    {
     "name": "stdout",
     "output_type": "stream",
     "text": [
      "EMA:38, X:10, PCT:0.25\n"
     ]
    },
    {
     "name": "stderr",
     "output_type": "stream",
     "text": [
      "/tmp/ipykernel_37183/3149794742.py:132: FutureWarning: Setting an item of incompatible dtype is deprecated and will raise an error in a future version of pandas. Value 'Trailing SL Hit' has dtype incompatible with float64, please explicitly cast to a compatible dtype first.\n",
      "  tradebook_long.loc[\n"
     ]
    },
    {
     "name": "stdout",
     "output_type": "stream",
     "text": [
      "EMA:38, X:13, PCT:0.1\n"
     ]
    },
    {
     "name": "stderr",
     "output_type": "stream",
     "text": [
      "/tmp/ipykernel_37183/3149794742.py:132: FutureWarning: Setting an item of incompatible dtype is deprecated and will raise an error in a future version of pandas. Value 'Trailing SL Hit' has dtype incompatible with float64, please explicitly cast to a compatible dtype first.\n",
      "  tradebook_long.loc[\n"
     ]
    },
    {
     "name": "stdout",
     "output_type": "stream",
     "text": [
      "EMA:38, X:13, PCT:0.25\n"
     ]
    },
    {
     "name": "stderr",
     "output_type": "stream",
     "text": [
      "/tmp/ipykernel_37183/3149794742.py:132: FutureWarning: Setting an item of incompatible dtype is deprecated and will raise an error in a future version of pandas. Value 'Trailing SL Hit' has dtype incompatible with float64, please explicitly cast to a compatible dtype first.\n",
      "  tradebook_long.loc[\n"
     ]
    },
    {
     "name": "stdout",
     "output_type": "stream",
     "text": [
      "EMA:38, X:16, PCT:0.1\n"
     ]
    },
    {
     "name": "stderr",
     "output_type": "stream",
     "text": [
      "/tmp/ipykernel_37183/3149794742.py:132: FutureWarning: Setting an item of incompatible dtype is deprecated and will raise an error in a future version of pandas. Value 'Trailing SL Hit' has dtype incompatible with float64, please explicitly cast to a compatible dtype first.\n",
      "  tradebook_long.loc[\n"
     ]
    },
    {
     "name": "stdout",
     "output_type": "stream",
     "text": [
      "EMA:38, X:16, PCT:0.25\n"
     ]
    },
    {
     "name": "stderr",
     "output_type": "stream",
     "text": [
      "/tmp/ipykernel_37183/3149794742.py:132: FutureWarning: Setting an item of incompatible dtype is deprecated and will raise an error in a future version of pandas. Value 'Trailing SL Hit' has dtype incompatible with float64, please explicitly cast to a compatible dtype first.\n",
      "  tradebook_long.loc[\n"
     ]
    },
    {
     "name": "stdout",
     "output_type": "stream",
     "text": [
      "EMA:38, X:19, PCT:0.1\n"
     ]
    },
    {
     "name": "stderr",
     "output_type": "stream",
     "text": [
      "/tmp/ipykernel_37183/3149794742.py:132: FutureWarning: Setting an item of incompatible dtype is deprecated and will raise an error in a future version of pandas. Value 'Trailing SL Hit' has dtype incompatible with float64, please explicitly cast to a compatible dtype first.\n",
      "  tradebook_long.loc[\n"
     ]
    },
    {
     "name": "stdout",
     "output_type": "stream",
     "text": [
      "EMA:38, X:19, PCT:0.25\n"
     ]
    },
    {
     "name": "stderr",
     "output_type": "stream",
     "text": [
      "/tmp/ipykernel_37183/3149794742.py:132: FutureWarning: Setting an item of incompatible dtype is deprecated and will raise an error in a future version of pandas. Value 'Trailing SL Hit' has dtype incompatible with float64, please explicitly cast to a compatible dtype first.\n",
      "  tradebook_long.loc[\n"
     ]
    },
    {
     "name": "stdout",
     "output_type": "stream",
     "text": [
      "EMA:38, X:22, PCT:0.1\n"
     ]
    },
    {
     "name": "stderr",
     "output_type": "stream",
     "text": [
      "/tmp/ipykernel_37183/3149794742.py:132: FutureWarning: Setting an item of incompatible dtype is deprecated and will raise an error in a future version of pandas. Value 'Trailing SL Hit' has dtype incompatible with float64, please explicitly cast to a compatible dtype first.\n",
      "  tradebook_long.loc[\n"
     ]
    },
    {
     "name": "stdout",
     "output_type": "stream",
     "text": [
      "EMA:38, X:22, PCT:0.25\n"
     ]
    },
    {
     "name": "stderr",
     "output_type": "stream",
     "text": [
      "/tmp/ipykernel_37183/3149794742.py:132: FutureWarning: Setting an item of incompatible dtype is deprecated and will raise an error in a future version of pandas. Value 'Trailing SL Hit' has dtype incompatible with float64, please explicitly cast to a compatible dtype first.\n",
      "  tradebook_long.loc[\n"
     ]
    },
    {
     "name": "stdout",
     "output_type": "stream",
     "text": [
      "EMA:38, X:25, PCT:0.1\n"
     ]
    },
    {
     "name": "stderr",
     "output_type": "stream",
     "text": [
      "/tmp/ipykernel_37183/3149794742.py:132: FutureWarning: Setting an item of incompatible dtype is deprecated and will raise an error in a future version of pandas. Value 'Trailing SL Hit' has dtype incompatible with float64, please explicitly cast to a compatible dtype first.\n",
      "  tradebook_long.loc[\n"
     ]
    },
    {
     "name": "stdout",
     "output_type": "stream",
     "text": [
      "EMA:38, X:25, PCT:0.25\n"
     ]
    },
    {
     "name": "stderr",
     "output_type": "stream",
     "text": [
      "/tmp/ipykernel_37183/3149794742.py:132: FutureWarning: Setting an item of incompatible dtype is deprecated and will raise an error in a future version of pandas. Value 'Trailing SL Hit' has dtype incompatible with float64, please explicitly cast to a compatible dtype first.\n",
      "  tradebook_long.loc[\n"
     ]
    },
    {
     "name": "stdout",
     "output_type": "stream",
     "text": [
      "EMA:38, X:28, PCT:0.1\n"
     ]
    },
    {
     "name": "stderr",
     "output_type": "stream",
     "text": [
      "/tmp/ipykernel_37183/3149794742.py:132: FutureWarning: Setting an item of incompatible dtype is deprecated and will raise an error in a future version of pandas. Value 'Trailing SL Hit' has dtype incompatible with float64, please explicitly cast to a compatible dtype first.\n",
      "  tradebook_long.loc[\n"
     ]
    },
    {
     "name": "stdout",
     "output_type": "stream",
     "text": [
      "EMA:38, X:28, PCT:0.25\n"
     ]
    },
    {
     "name": "stderr",
     "output_type": "stream",
     "text": [
      "/tmp/ipykernel_37183/3149794742.py:132: FutureWarning: Setting an item of incompatible dtype is deprecated and will raise an error in a future version of pandas. Value 'Trailing SL Hit' has dtype incompatible with float64, please explicitly cast to a compatible dtype first.\n",
      "  tradebook_long.loc[\n"
     ]
    },
    {
     "name": "stdout",
     "output_type": "stream",
     "text": [
      "EMA:38, X:31, PCT:0.1\n"
     ]
    },
    {
     "name": "stderr",
     "output_type": "stream",
     "text": [
      "/tmp/ipykernel_37183/3149794742.py:132: FutureWarning: Setting an item of incompatible dtype is deprecated and will raise an error in a future version of pandas. Value 'Trailing SL Hit' has dtype incompatible with float64, please explicitly cast to a compatible dtype first.\n",
      "  tradebook_long.loc[\n"
     ]
    },
    {
     "name": "stdout",
     "output_type": "stream",
     "text": [
      "EMA:38, X:31, PCT:0.25\n"
     ]
    },
    {
     "name": "stderr",
     "output_type": "stream",
     "text": [
      "/tmp/ipykernel_37183/3149794742.py:132: FutureWarning: Setting an item of incompatible dtype is deprecated and will raise an error in a future version of pandas. Value 'Trailing SL Hit' has dtype incompatible with float64, please explicitly cast to a compatible dtype first.\n",
      "  tradebook_long.loc[\n"
     ]
    },
    {
     "name": "stdout",
     "output_type": "stream",
     "text": [
      "EMA:38, X:34, PCT:0.1\n"
     ]
    },
    {
     "name": "stderr",
     "output_type": "stream",
     "text": [
      "/tmp/ipykernel_37183/3149794742.py:132: FutureWarning: Setting an item of incompatible dtype is deprecated and will raise an error in a future version of pandas. Value 'Trailing SL Hit' has dtype incompatible with float64, please explicitly cast to a compatible dtype first.\n",
      "  tradebook_long.loc[\n"
     ]
    },
    {
     "name": "stdout",
     "output_type": "stream",
     "text": [
      "EMA:38, X:34, PCT:0.25\n"
     ]
    },
    {
     "name": "stderr",
     "output_type": "stream",
     "text": [
      "/tmp/ipykernel_37183/3149794742.py:132: FutureWarning: Setting an item of incompatible dtype is deprecated and will raise an error in a future version of pandas. Value 'Trailing SL Hit' has dtype incompatible with float64, please explicitly cast to a compatible dtype first.\n",
      "  tradebook_long.loc[\n"
     ]
    },
    {
     "name": "stdout",
     "output_type": "stream",
     "text": [
      "EMA:40, X:4, PCT:0.1\n"
     ]
    },
    {
     "name": "stderr",
     "output_type": "stream",
     "text": [
      "/tmp/ipykernel_37183/3149794742.py:132: FutureWarning: Setting an item of incompatible dtype is deprecated and will raise an error in a future version of pandas. Value 'Trailing SL Hit' has dtype incompatible with float64, please explicitly cast to a compatible dtype first.\n",
      "  tradebook_long.loc[\n"
     ]
    },
    {
     "name": "stdout",
     "output_type": "stream",
     "text": [
      "EMA:40, X:4, PCT:0.25\n"
     ]
    },
    {
     "name": "stderr",
     "output_type": "stream",
     "text": [
      "/tmp/ipykernel_37183/3149794742.py:132: FutureWarning: Setting an item of incompatible dtype is deprecated and will raise an error in a future version of pandas. Value 'Trailing SL Hit' has dtype incompatible with float64, please explicitly cast to a compatible dtype first.\n",
      "  tradebook_long.loc[\n"
     ]
    },
    {
     "name": "stdout",
     "output_type": "stream",
     "text": [
      "EMA:40, X:7, PCT:0.1\n"
     ]
    },
    {
     "name": "stderr",
     "output_type": "stream",
     "text": [
      "/tmp/ipykernel_37183/3149794742.py:132: FutureWarning: Setting an item of incompatible dtype is deprecated and will raise an error in a future version of pandas. Value 'Trailing SL Hit' has dtype incompatible with float64, please explicitly cast to a compatible dtype first.\n",
      "  tradebook_long.loc[\n"
     ]
    },
    {
     "name": "stdout",
     "output_type": "stream",
     "text": [
      "EMA:40, X:7, PCT:0.25\n"
     ]
    },
    {
     "name": "stderr",
     "output_type": "stream",
     "text": [
      "/tmp/ipykernel_37183/3149794742.py:132: FutureWarning: Setting an item of incompatible dtype is deprecated and will raise an error in a future version of pandas. Value 'Trailing SL Hit' has dtype incompatible with float64, please explicitly cast to a compatible dtype first.\n",
      "  tradebook_long.loc[\n"
     ]
    },
    {
     "name": "stdout",
     "output_type": "stream",
     "text": [
      "EMA:40, X:10, PCT:0.1\n"
     ]
    },
    {
     "name": "stderr",
     "output_type": "stream",
     "text": [
      "/tmp/ipykernel_37183/3149794742.py:132: FutureWarning: Setting an item of incompatible dtype is deprecated and will raise an error in a future version of pandas. Value 'Trailing SL Hit' has dtype incompatible with float64, please explicitly cast to a compatible dtype first.\n",
      "  tradebook_long.loc[\n"
     ]
    },
    {
     "name": "stdout",
     "output_type": "stream",
     "text": [
      "EMA:40, X:10, PCT:0.25\n"
     ]
    },
    {
     "name": "stderr",
     "output_type": "stream",
     "text": [
      "/tmp/ipykernel_37183/3149794742.py:132: FutureWarning: Setting an item of incompatible dtype is deprecated and will raise an error in a future version of pandas. Value 'Trailing SL Hit' has dtype incompatible with float64, please explicitly cast to a compatible dtype first.\n",
      "  tradebook_long.loc[\n"
     ]
    },
    {
     "name": "stdout",
     "output_type": "stream",
     "text": [
      "EMA:40, X:13, PCT:0.1\n"
     ]
    },
    {
     "name": "stderr",
     "output_type": "stream",
     "text": [
      "/tmp/ipykernel_37183/3149794742.py:132: FutureWarning: Setting an item of incompatible dtype is deprecated and will raise an error in a future version of pandas. Value 'Trailing SL Hit' has dtype incompatible with float64, please explicitly cast to a compatible dtype first.\n",
      "  tradebook_long.loc[\n"
     ]
    },
    {
     "name": "stdout",
     "output_type": "stream",
     "text": [
      "EMA:40, X:13, PCT:0.25\n"
     ]
    },
    {
     "name": "stderr",
     "output_type": "stream",
     "text": [
      "/tmp/ipykernel_37183/3149794742.py:132: FutureWarning: Setting an item of incompatible dtype is deprecated and will raise an error in a future version of pandas. Value 'Trailing SL Hit' has dtype incompatible with float64, please explicitly cast to a compatible dtype first.\n",
      "  tradebook_long.loc[\n"
     ]
    },
    {
     "name": "stdout",
     "output_type": "stream",
     "text": [
      "EMA:40, X:16, PCT:0.1\n"
     ]
    },
    {
     "name": "stderr",
     "output_type": "stream",
     "text": [
      "/tmp/ipykernel_37183/3149794742.py:132: FutureWarning: Setting an item of incompatible dtype is deprecated and will raise an error in a future version of pandas. Value 'Trailing SL Hit' has dtype incompatible with float64, please explicitly cast to a compatible dtype first.\n",
      "  tradebook_long.loc[\n"
     ]
    },
    {
     "name": "stdout",
     "output_type": "stream",
     "text": [
      "EMA:40, X:16, PCT:0.25\n"
     ]
    },
    {
     "name": "stderr",
     "output_type": "stream",
     "text": [
      "/tmp/ipykernel_37183/3149794742.py:132: FutureWarning: Setting an item of incompatible dtype is deprecated and will raise an error in a future version of pandas. Value 'Trailing SL Hit' has dtype incompatible with float64, please explicitly cast to a compatible dtype first.\n",
      "  tradebook_long.loc[\n"
     ]
    },
    {
     "name": "stdout",
     "output_type": "stream",
     "text": [
      "EMA:40, X:19, PCT:0.1\n"
     ]
    },
    {
     "name": "stderr",
     "output_type": "stream",
     "text": [
      "/tmp/ipykernel_37183/3149794742.py:132: FutureWarning: Setting an item of incompatible dtype is deprecated and will raise an error in a future version of pandas. Value 'Trailing SL Hit' has dtype incompatible with float64, please explicitly cast to a compatible dtype first.\n",
      "  tradebook_long.loc[\n"
     ]
    },
    {
     "name": "stdout",
     "output_type": "stream",
     "text": [
      "EMA:40, X:19, PCT:0.25\n"
     ]
    },
    {
     "name": "stderr",
     "output_type": "stream",
     "text": [
      "/tmp/ipykernel_37183/3149794742.py:132: FutureWarning: Setting an item of incompatible dtype is deprecated and will raise an error in a future version of pandas. Value 'Trailing SL Hit' has dtype incompatible with float64, please explicitly cast to a compatible dtype first.\n",
      "  tradebook_long.loc[\n"
     ]
    },
    {
     "name": "stdout",
     "output_type": "stream",
     "text": [
      "EMA:40, X:22, PCT:0.1\n"
     ]
    },
    {
     "name": "stderr",
     "output_type": "stream",
     "text": [
      "/tmp/ipykernel_37183/3149794742.py:132: FutureWarning: Setting an item of incompatible dtype is deprecated and will raise an error in a future version of pandas. Value 'Trailing SL Hit' has dtype incompatible with float64, please explicitly cast to a compatible dtype first.\n",
      "  tradebook_long.loc[\n"
     ]
    },
    {
     "name": "stdout",
     "output_type": "stream",
     "text": [
      "EMA:40, X:22, PCT:0.25\n"
     ]
    },
    {
     "name": "stderr",
     "output_type": "stream",
     "text": [
      "/tmp/ipykernel_37183/3149794742.py:132: FutureWarning: Setting an item of incompatible dtype is deprecated and will raise an error in a future version of pandas. Value 'Trailing SL Hit' has dtype incompatible with float64, please explicitly cast to a compatible dtype first.\n",
      "  tradebook_long.loc[\n"
     ]
    },
    {
     "name": "stdout",
     "output_type": "stream",
     "text": [
      "EMA:40, X:25, PCT:0.1\n"
     ]
    },
    {
     "name": "stderr",
     "output_type": "stream",
     "text": [
      "/tmp/ipykernel_37183/3149794742.py:132: FutureWarning: Setting an item of incompatible dtype is deprecated and will raise an error in a future version of pandas. Value 'Trailing SL Hit' has dtype incompatible with float64, please explicitly cast to a compatible dtype first.\n",
      "  tradebook_long.loc[\n"
     ]
    },
    {
     "name": "stdout",
     "output_type": "stream",
     "text": [
      "EMA:40, X:25, PCT:0.25\n"
     ]
    },
    {
     "name": "stderr",
     "output_type": "stream",
     "text": [
      "/tmp/ipykernel_37183/3149794742.py:132: FutureWarning: Setting an item of incompatible dtype is deprecated and will raise an error in a future version of pandas. Value 'Trailing SL Hit' has dtype incompatible with float64, please explicitly cast to a compatible dtype first.\n",
      "  tradebook_long.loc[\n"
     ]
    },
    {
     "name": "stdout",
     "output_type": "stream",
     "text": [
      "EMA:40, X:28, PCT:0.1\n"
     ]
    },
    {
     "name": "stderr",
     "output_type": "stream",
     "text": [
      "/tmp/ipykernel_37183/3149794742.py:132: FutureWarning: Setting an item of incompatible dtype is deprecated and will raise an error in a future version of pandas. Value 'Trailing SL Hit' has dtype incompatible with float64, please explicitly cast to a compatible dtype first.\n",
      "  tradebook_long.loc[\n"
     ]
    },
    {
     "name": "stdout",
     "output_type": "stream",
     "text": [
      "EMA:40, X:28, PCT:0.25\n"
     ]
    },
    {
     "name": "stderr",
     "output_type": "stream",
     "text": [
      "/tmp/ipykernel_37183/3149794742.py:132: FutureWarning: Setting an item of incompatible dtype is deprecated and will raise an error in a future version of pandas. Value 'Trailing SL Hit' has dtype incompatible with float64, please explicitly cast to a compatible dtype first.\n",
      "  tradebook_long.loc[\n"
     ]
    },
    {
     "name": "stdout",
     "output_type": "stream",
     "text": [
      "EMA:40, X:31, PCT:0.1\n"
     ]
    },
    {
     "name": "stderr",
     "output_type": "stream",
     "text": [
      "/tmp/ipykernel_37183/3149794742.py:132: FutureWarning: Setting an item of incompatible dtype is deprecated and will raise an error in a future version of pandas. Value 'Trailing SL Hit' has dtype incompatible with float64, please explicitly cast to a compatible dtype first.\n",
      "  tradebook_long.loc[\n"
     ]
    },
    {
     "name": "stdout",
     "output_type": "stream",
     "text": [
      "EMA:40, X:31, PCT:0.25\n"
     ]
    },
    {
     "name": "stderr",
     "output_type": "stream",
     "text": [
      "/tmp/ipykernel_37183/3149794742.py:132: FutureWarning: Setting an item of incompatible dtype is deprecated and will raise an error in a future version of pandas. Value 'Trailing SL Hit' has dtype incompatible with float64, please explicitly cast to a compatible dtype first.\n",
      "  tradebook_long.loc[\n"
     ]
    },
    {
     "name": "stdout",
     "output_type": "stream",
     "text": [
      "EMA:40, X:34, PCT:0.1\n"
     ]
    },
    {
     "name": "stderr",
     "output_type": "stream",
     "text": [
      "/tmp/ipykernel_37183/3149794742.py:132: FutureWarning: Setting an item of incompatible dtype is deprecated and will raise an error in a future version of pandas. Value 'Trailing SL Hit' has dtype incompatible with float64, please explicitly cast to a compatible dtype first.\n",
      "  tradebook_long.loc[\n"
     ]
    },
    {
     "name": "stdout",
     "output_type": "stream",
     "text": [
      "EMA:40, X:34, PCT:0.25\n"
     ]
    },
    {
     "name": "stderr",
     "output_type": "stream",
     "text": [
      "/tmp/ipykernel_37183/3149794742.py:132: FutureWarning: Setting an item of incompatible dtype is deprecated and will raise an error in a future version of pandas. Value 'Trailing SL Hit' has dtype incompatible with float64, please explicitly cast to a compatible dtype first.\n",
      "  tradebook_long.loc[\n"
     ]
    },
    {
     "name": "stdout",
     "output_type": "stream",
     "text": [
      "EMA:42, X:4, PCT:0.1\n"
     ]
    },
    {
     "name": "stderr",
     "output_type": "stream",
     "text": [
      "/tmp/ipykernel_37183/3149794742.py:132: FutureWarning: Setting an item of incompatible dtype is deprecated and will raise an error in a future version of pandas. Value 'Trailing SL Hit' has dtype incompatible with float64, please explicitly cast to a compatible dtype first.\n",
      "  tradebook_long.loc[\n"
     ]
    },
    {
     "name": "stdout",
     "output_type": "stream",
     "text": [
      "EMA:42, X:4, PCT:0.25\n"
     ]
    },
    {
     "name": "stderr",
     "output_type": "stream",
     "text": [
      "/tmp/ipykernel_37183/3149794742.py:132: FutureWarning: Setting an item of incompatible dtype is deprecated and will raise an error in a future version of pandas. Value 'Trailing SL Hit' has dtype incompatible with float64, please explicitly cast to a compatible dtype first.\n",
      "  tradebook_long.loc[\n"
     ]
    },
    {
     "name": "stdout",
     "output_type": "stream",
     "text": [
      "EMA:42, X:7, PCT:0.1\n"
     ]
    },
    {
     "name": "stderr",
     "output_type": "stream",
     "text": [
      "/tmp/ipykernel_37183/3149794742.py:132: FutureWarning: Setting an item of incompatible dtype is deprecated and will raise an error in a future version of pandas. Value 'Trailing SL Hit' has dtype incompatible with float64, please explicitly cast to a compatible dtype first.\n",
      "  tradebook_long.loc[\n"
     ]
    },
    {
     "name": "stdout",
     "output_type": "stream",
     "text": [
      "EMA:42, X:7, PCT:0.25\n"
     ]
    },
    {
     "name": "stderr",
     "output_type": "stream",
     "text": [
      "/tmp/ipykernel_37183/3149794742.py:132: FutureWarning: Setting an item of incompatible dtype is deprecated and will raise an error in a future version of pandas. Value 'Trailing SL Hit' has dtype incompatible with float64, please explicitly cast to a compatible dtype first.\n",
      "  tradebook_long.loc[\n"
     ]
    },
    {
     "name": "stdout",
     "output_type": "stream",
     "text": [
      "EMA:42, X:10, PCT:0.1\n"
     ]
    },
    {
     "name": "stderr",
     "output_type": "stream",
     "text": [
      "/tmp/ipykernel_37183/3149794742.py:132: FutureWarning: Setting an item of incompatible dtype is deprecated and will raise an error in a future version of pandas. Value 'Trailing SL Hit' has dtype incompatible with float64, please explicitly cast to a compatible dtype first.\n",
      "  tradebook_long.loc[\n"
     ]
    },
    {
     "name": "stdout",
     "output_type": "stream",
     "text": [
      "EMA:42, X:10, PCT:0.25\n"
     ]
    },
    {
     "name": "stderr",
     "output_type": "stream",
     "text": [
      "/tmp/ipykernel_37183/3149794742.py:132: FutureWarning: Setting an item of incompatible dtype is deprecated and will raise an error in a future version of pandas. Value 'Trailing SL Hit' has dtype incompatible with float64, please explicitly cast to a compatible dtype first.\n",
      "  tradebook_long.loc[\n"
     ]
    },
    {
     "name": "stdout",
     "output_type": "stream",
     "text": [
      "EMA:42, X:13, PCT:0.1\n"
     ]
    },
    {
     "name": "stderr",
     "output_type": "stream",
     "text": [
      "/tmp/ipykernel_37183/3149794742.py:132: FutureWarning: Setting an item of incompatible dtype is deprecated and will raise an error in a future version of pandas. Value 'Trailing SL Hit' has dtype incompatible with float64, please explicitly cast to a compatible dtype first.\n",
      "  tradebook_long.loc[\n"
     ]
    },
    {
     "name": "stdout",
     "output_type": "stream",
     "text": [
      "EMA:42, X:13, PCT:0.25\n"
     ]
    },
    {
     "name": "stderr",
     "output_type": "stream",
     "text": [
      "/tmp/ipykernel_37183/3149794742.py:132: FutureWarning: Setting an item of incompatible dtype is deprecated and will raise an error in a future version of pandas. Value 'Trailing SL Hit' has dtype incompatible with float64, please explicitly cast to a compatible dtype first.\n",
      "  tradebook_long.loc[\n"
     ]
    },
    {
     "name": "stdout",
     "output_type": "stream",
     "text": [
      "EMA:42, X:16, PCT:0.1\n"
     ]
    },
    {
     "name": "stderr",
     "output_type": "stream",
     "text": [
      "/tmp/ipykernel_37183/3149794742.py:132: FutureWarning: Setting an item of incompatible dtype is deprecated and will raise an error in a future version of pandas. Value 'Trailing SL Hit' has dtype incompatible with float64, please explicitly cast to a compatible dtype first.\n",
      "  tradebook_long.loc[\n"
     ]
    },
    {
     "name": "stdout",
     "output_type": "stream",
     "text": [
      "EMA:42, X:16, PCT:0.25\n"
     ]
    },
    {
     "name": "stderr",
     "output_type": "stream",
     "text": [
      "/tmp/ipykernel_37183/3149794742.py:132: FutureWarning: Setting an item of incompatible dtype is deprecated and will raise an error in a future version of pandas. Value 'Trailing SL Hit' has dtype incompatible with float64, please explicitly cast to a compatible dtype first.\n",
      "  tradebook_long.loc[\n"
     ]
    },
    {
     "name": "stdout",
     "output_type": "stream",
     "text": [
      "EMA:42, X:19, PCT:0.1\n"
     ]
    },
    {
     "name": "stderr",
     "output_type": "stream",
     "text": [
      "/tmp/ipykernel_37183/3149794742.py:132: FutureWarning: Setting an item of incompatible dtype is deprecated and will raise an error in a future version of pandas. Value 'Trailing SL Hit' has dtype incompatible with float64, please explicitly cast to a compatible dtype first.\n",
      "  tradebook_long.loc[\n"
     ]
    },
    {
     "name": "stdout",
     "output_type": "stream",
     "text": [
      "EMA:42, X:19, PCT:0.25\n"
     ]
    },
    {
     "name": "stderr",
     "output_type": "stream",
     "text": [
      "/tmp/ipykernel_37183/3149794742.py:132: FutureWarning: Setting an item of incompatible dtype is deprecated and will raise an error in a future version of pandas. Value 'Trailing SL Hit' has dtype incompatible with float64, please explicitly cast to a compatible dtype first.\n",
      "  tradebook_long.loc[\n"
     ]
    },
    {
     "name": "stdout",
     "output_type": "stream",
     "text": [
      "EMA:42, X:22, PCT:0.1\n"
     ]
    },
    {
     "name": "stderr",
     "output_type": "stream",
     "text": [
      "/tmp/ipykernel_37183/3149794742.py:132: FutureWarning: Setting an item of incompatible dtype is deprecated and will raise an error in a future version of pandas. Value 'Trailing SL Hit' has dtype incompatible with float64, please explicitly cast to a compatible dtype first.\n",
      "  tradebook_long.loc[\n"
     ]
    },
    {
     "name": "stdout",
     "output_type": "stream",
     "text": [
      "EMA:42, X:22, PCT:0.25\n"
     ]
    },
    {
     "name": "stderr",
     "output_type": "stream",
     "text": [
      "/tmp/ipykernel_37183/3149794742.py:132: FutureWarning: Setting an item of incompatible dtype is deprecated and will raise an error in a future version of pandas. Value 'Trailing SL Hit' has dtype incompatible with float64, please explicitly cast to a compatible dtype first.\n",
      "  tradebook_long.loc[\n"
     ]
    },
    {
     "name": "stdout",
     "output_type": "stream",
     "text": [
      "EMA:42, X:25, PCT:0.1\n"
     ]
    },
    {
     "name": "stderr",
     "output_type": "stream",
     "text": [
      "/tmp/ipykernel_37183/3149794742.py:132: FutureWarning: Setting an item of incompatible dtype is deprecated and will raise an error in a future version of pandas. Value 'Trailing SL Hit' has dtype incompatible with float64, please explicitly cast to a compatible dtype first.\n",
      "  tradebook_long.loc[\n"
     ]
    },
    {
     "name": "stdout",
     "output_type": "stream",
     "text": [
      "EMA:42, X:25, PCT:0.25\n"
     ]
    },
    {
     "name": "stderr",
     "output_type": "stream",
     "text": [
      "/tmp/ipykernel_37183/3149794742.py:132: FutureWarning: Setting an item of incompatible dtype is deprecated and will raise an error in a future version of pandas. Value 'Trailing SL Hit' has dtype incompatible with float64, please explicitly cast to a compatible dtype first.\n",
      "  tradebook_long.loc[\n"
     ]
    },
    {
     "name": "stdout",
     "output_type": "stream",
     "text": [
      "EMA:42, X:28, PCT:0.1\n"
     ]
    },
    {
     "name": "stderr",
     "output_type": "stream",
     "text": [
      "/tmp/ipykernel_37183/3149794742.py:132: FutureWarning: Setting an item of incompatible dtype is deprecated and will raise an error in a future version of pandas. Value 'Trailing SL Hit' has dtype incompatible with float64, please explicitly cast to a compatible dtype first.\n",
      "  tradebook_long.loc[\n"
     ]
    },
    {
     "name": "stdout",
     "output_type": "stream",
     "text": [
      "EMA:42, X:28, PCT:0.25\n"
     ]
    },
    {
     "name": "stderr",
     "output_type": "stream",
     "text": [
      "/tmp/ipykernel_37183/3149794742.py:132: FutureWarning: Setting an item of incompatible dtype is deprecated and will raise an error in a future version of pandas. Value 'Trailing SL Hit' has dtype incompatible with float64, please explicitly cast to a compatible dtype first.\n",
      "  tradebook_long.loc[\n"
     ]
    },
    {
     "name": "stdout",
     "output_type": "stream",
     "text": [
      "EMA:42, X:31, PCT:0.1\n"
     ]
    },
    {
     "name": "stderr",
     "output_type": "stream",
     "text": [
      "/tmp/ipykernel_37183/3149794742.py:132: FutureWarning: Setting an item of incompatible dtype is deprecated and will raise an error in a future version of pandas. Value 'Trailing SL Hit' has dtype incompatible with float64, please explicitly cast to a compatible dtype first.\n",
      "  tradebook_long.loc[\n"
     ]
    },
    {
     "name": "stdout",
     "output_type": "stream",
     "text": [
      "EMA:42, X:31, PCT:0.25\n"
     ]
    },
    {
     "name": "stderr",
     "output_type": "stream",
     "text": [
      "/tmp/ipykernel_37183/3149794742.py:132: FutureWarning: Setting an item of incompatible dtype is deprecated and will raise an error in a future version of pandas. Value 'Trailing SL Hit' has dtype incompatible with float64, please explicitly cast to a compatible dtype first.\n",
      "  tradebook_long.loc[\n"
     ]
    },
    {
     "name": "stdout",
     "output_type": "stream",
     "text": [
      "EMA:42, X:34, PCT:0.1\n"
     ]
    },
    {
     "name": "stderr",
     "output_type": "stream",
     "text": [
      "/tmp/ipykernel_37183/3149794742.py:132: FutureWarning: Setting an item of incompatible dtype is deprecated and will raise an error in a future version of pandas. Value 'Trailing SL Hit' has dtype incompatible with float64, please explicitly cast to a compatible dtype first.\n",
      "  tradebook_long.loc[\n"
     ]
    },
    {
     "name": "stdout",
     "output_type": "stream",
     "text": [
      "EMA:42, X:34, PCT:0.25\n"
     ]
    },
    {
     "name": "stderr",
     "output_type": "stream",
     "text": [
      "/tmp/ipykernel_37183/3149794742.py:132: FutureWarning: Setting an item of incompatible dtype is deprecated and will raise an error in a future version of pandas. Value 'Trailing SL Hit' has dtype incompatible with float64, please explicitly cast to a compatible dtype first.\n",
      "  tradebook_long.loc[\n"
     ]
    },
    {
     "name": "stdout",
     "output_type": "stream",
     "text": [
      "EMA:44, X:4, PCT:0.1\n"
     ]
    },
    {
     "name": "stderr",
     "output_type": "stream",
     "text": [
      "/tmp/ipykernel_37183/3149794742.py:132: FutureWarning: Setting an item of incompatible dtype is deprecated and will raise an error in a future version of pandas. Value 'Trailing SL Hit' has dtype incompatible with float64, please explicitly cast to a compatible dtype first.\n",
      "  tradebook_long.loc[\n"
     ]
    },
    {
     "name": "stdout",
     "output_type": "stream",
     "text": [
      "EMA:44, X:4, PCT:0.25\n"
     ]
    },
    {
     "name": "stderr",
     "output_type": "stream",
     "text": [
      "/tmp/ipykernel_37183/3149794742.py:132: FutureWarning: Setting an item of incompatible dtype is deprecated and will raise an error in a future version of pandas. Value 'Trailing SL Hit' has dtype incompatible with float64, please explicitly cast to a compatible dtype first.\n",
      "  tradebook_long.loc[\n"
     ]
    },
    {
     "name": "stdout",
     "output_type": "stream",
     "text": [
      "EMA:44, X:7, PCT:0.1\n"
     ]
    },
    {
     "name": "stderr",
     "output_type": "stream",
     "text": [
      "/tmp/ipykernel_37183/3149794742.py:132: FutureWarning: Setting an item of incompatible dtype is deprecated and will raise an error in a future version of pandas. Value 'Trailing SL Hit' has dtype incompatible with float64, please explicitly cast to a compatible dtype first.\n",
      "  tradebook_long.loc[\n"
     ]
    },
    {
     "name": "stdout",
     "output_type": "stream",
     "text": [
      "EMA:44, X:7, PCT:0.25\n"
     ]
    },
    {
     "name": "stderr",
     "output_type": "stream",
     "text": [
      "/tmp/ipykernel_37183/3149794742.py:132: FutureWarning: Setting an item of incompatible dtype is deprecated and will raise an error in a future version of pandas. Value 'Trailing SL Hit' has dtype incompatible with float64, please explicitly cast to a compatible dtype first.\n",
      "  tradebook_long.loc[\n"
     ]
    },
    {
     "name": "stdout",
     "output_type": "stream",
     "text": [
      "EMA:44, X:10, PCT:0.1\n"
     ]
    },
    {
     "name": "stderr",
     "output_type": "stream",
     "text": [
      "/tmp/ipykernel_37183/3149794742.py:132: FutureWarning: Setting an item of incompatible dtype is deprecated and will raise an error in a future version of pandas. Value 'Trailing SL Hit' has dtype incompatible with float64, please explicitly cast to a compatible dtype first.\n",
      "  tradebook_long.loc[\n"
     ]
    },
    {
     "name": "stdout",
     "output_type": "stream",
     "text": [
      "EMA:44, X:10, PCT:0.25\n"
     ]
    },
    {
     "name": "stderr",
     "output_type": "stream",
     "text": [
      "/tmp/ipykernel_37183/3149794742.py:132: FutureWarning: Setting an item of incompatible dtype is deprecated and will raise an error in a future version of pandas. Value 'Trailing SL Hit' has dtype incompatible with float64, please explicitly cast to a compatible dtype first.\n",
      "  tradebook_long.loc[\n"
     ]
    },
    {
     "name": "stdout",
     "output_type": "stream",
     "text": [
      "EMA:44, X:13, PCT:0.1\n"
     ]
    },
    {
     "name": "stderr",
     "output_type": "stream",
     "text": [
      "/tmp/ipykernel_37183/3149794742.py:132: FutureWarning: Setting an item of incompatible dtype is deprecated and will raise an error in a future version of pandas. Value 'Trailing SL Hit' has dtype incompatible with float64, please explicitly cast to a compatible dtype first.\n",
      "  tradebook_long.loc[\n"
     ]
    },
    {
     "name": "stdout",
     "output_type": "stream",
     "text": [
      "EMA:44, X:13, PCT:0.25\n"
     ]
    },
    {
     "name": "stderr",
     "output_type": "stream",
     "text": [
      "/tmp/ipykernel_37183/3149794742.py:132: FutureWarning: Setting an item of incompatible dtype is deprecated and will raise an error in a future version of pandas. Value 'Trailing SL Hit' has dtype incompatible with float64, please explicitly cast to a compatible dtype first.\n",
      "  tradebook_long.loc[\n"
     ]
    },
    {
     "name": "stdout",
     "output_type": "stream",
     "text": [
      "EMA:44, X:16, PCT:0.1\n"
     ]
    },
    {
     "name": "stderr",
     "output_type": "stream",
     "text": [
      "/tmp/ipykernel_37183/3149794742.py:132: FutureWarning: Setting an item of incompatible dtype is deprecated and will raise an error in a future version of pandas. Value 'Trailing SL Hit' has dtype incompatible with float64, please explicitly cast to a compatible dtype first.\n",
      "  tradebook_long.loc[\n"
     ]
    },
    {
     "name": "stdout",
     "output_type": "stream",
     "text": [
      "EMA:44, X:16, PCT:0.25\n"
     ]
    },
    {
     "name": "stderr",
     "output_type": "stream",
     "text": [
      "/tmp/ipykernel_37183/3149794742.py:132: FutureWarning: Setting an item of incompatible dtype is deprecated and will raise an error in a future version of pandas. Value 'Trailing SL Hit' has dtype incompatible with float64, please explicitly cast to a compatible dtype first.\n",
      "  tradebook_long.loc[\n"
     ]
    },
    {
     "name": "stdout",
     "output_type": "stream",
     "text": [
      "EMA:44, X:19, PCT:0.1\n"
     ]
    },
    {
     "name": "stderr",
     "output_type": "stream",
     "text": [
      "/tmp/ipykernel_37183/3149794742.py:132: FutureWarning: Setting an item of incompatible dtype is deprecated and will raise an error in a future version of pandas. Value 'Trailing SL Hit' has dtype incompatible with float64, please explicitly cast to a compatible dtype first.\n",
      "  tradebook_long.loc[\n"
     ]
    },
    {
     "name": "stdout",
     "output_type": "stream",
     "text": [
      "EMA:44, X:19, PCT:0.25\n"
     ]
    },
    {
     "name": "stderr",
     "output_type": "stream",
     "text": [
      "/tmp/ipykernel_37183/3149794742.py:132: FutureWarning: Setting an item of incompatible dtype is deprecated and will raise an error in a future version of pandas. Value 'Trailing SL Hit' has dtype incompatible with float64, please explicitly cast to a compatible dtype first.\n",
      "  tradebook_long.loc[\n"
     ]
    },
    {
     "name": "stdout",
     "output_type": "stream",
     "text": [
      "EMA:44, X:22, PCT:0.1\n"
     ]
    },
    {
     "name": "stderr",
     "output_type": "stream",
     "text": [
      "/tmp/ipykernel_37183/3149794742.py:132: FutureWarning: Setting an item of incompatible dtype is deprecated and will raise an error in a future version of pandas. Value 'Trailing SL Hit' has dtype incompatible with float64, please explicitly cast to a compatible dtype first.\n",
      "  tradebook_long.loc[\n"
     ]
    },
    {
     "name": "stdout",
     "output_type": "stream",
     "text": [
      "EMA:44, X:22, PCT:0.25\n"
     ]
    },
    {
     "name": "stderr",
     "output_type": "stream",
     "text": [
      "/tmp/ipykernel_37183/3149794742.py:132: FutureWarning: Setting an item of incompatible dtype is deprecated and will raise an error in a future version of pandas. Value 'Trailing SL Hit' has dtype incompatible with float64, please explicitly cast to a compatible dtype first.\n",
      "  tradebook_long.loc[\n"
     ]
    },
    {
     "name": "stdout",
     "output_type": "stream",
     "text": [
      "EMA:44, X:25, PCT:0.1\n"
     ]
    },
    {
     "name": "stderr",
     "output_type": "stream",
     "text": [
      "/tmp/ipykernel_37183/3149794742.py:132: FutureWarning: Setting an item of incompatible dtype is deprecated and will raise an error in a future version of pandas. Value 'Trailing SL Hit' has dtype incompatible with float64, please explicitly cast to a compatible dtype first.\n",
      "  tradebook_long.loc[\n"
     ]
    },
    {
     "name": "stdout",
     "output_type": "stream",
     "text": [
      "EMA:44, X:25, PCT:0.25\n"
     ]
    },
    {
     "name": "stderr",
     "output_type": "stream",
     "text": [
      "/tmp/ipykernel_37183/3149794742.py:132: FutureWarning: Setting an item of incompatible dtype is deprecated and will raise an error in a future version of pandas. Value 'Trailing SL Hit' has dtype incompatible with float64, please explicitly cast to a compatible dtype first.\n",
      "  tradebook_long.loc[\n"
     ]
    },
    {
     "name": "stdout",
     "output_type": "stream",
     "text": [
      "EMA:44, X:28, PCT:0.1\n"
     ]
    },
    {
     "name": "stderr",
     "output_type": "stream",
     "text": [
      "/tmp/ipykernel_37183/3149794742.py:132: FutureWarning: Setting an item of incompatible dtype is deprecated and will raise an error in a future version of pandas. Value 'Trailing SL Hit' has dtype incompatible with float64, please explicitly cast to a compatible dtype first.\n",
      "  tradebook_long.loc[\n"
     ]
    },
    {
     "name": "stdout",
     "output_type": "stream",
     "text": [
      "EMA:44, X:28, PCT:0.25\n"
     ]
    },
    {
     "name": "stderr",
     "output_type": "stream",
     "text": [
      "/tmp/ipykernel_37183/3149794742.py:132: FutureWarning: Setting an item of incompatible dtype is deprecated and will raise an error in a future version of pandas. Value 'Trailing SL Hit' has dtype incompatible with float64, please explicitly cast to a compatible dtype first.\n",
      "  tradebook_long.loc[\n"
     ]
    },
    {
     "name": "stdout",
     "output_type": "stream",
     "text": [
      "EMA:44, X:31, PCT:0.1\n"
     ]
    },
    {
     "name": "stderr",
     "output_type": "stream",
     "text": [
      "/tmp/ipykernel_37183/3149794742.py:132: FutureWarning: Setting an item of incompatible dtype is deprecated and will raise an error in a future version of pandas. Value 'Trailing SL Hit' has dtype incompatible with float64, please explicitly cast to a compatible dtype first.\n",
      "  tradebook_long.loc[\n"
     ]
    },
    {
     "name": "stdout",
     "output_type": "stream",
     "text": [
      "EMA:44, X:31, PCT:0.25\n"
     ]
    },
    {
     "name": "stderr",
     "output_type": "stream",
     "text": [
      "/tmp/ipykernel_37183/3149794742.py:132: FutureWarning: Setting an item of incompatible dtype is deprecated and will raise an error in a future version of pandas. Value 'Trailing SL Hit' has dtype incompatible with float64, please explicitly cast to a compatible dtype first.\n",
      "  tradebook_long.loc[\n"
     ]
    },
    {
     "name": "stdout",
     "output_type": "stream",
     "text": [
      "EMA:44, X:34, PCT:0.1\n"
     ]
    },
    {
     "name": "stderr",
     "output_type": "stream",
     "text": [
      "/tmp/ipykernel_37183/3149794742.py:132: FutureWarning: Setting an item of incompatible dtype is deprecated and will raise an error in a future version of pandas. Value 'Trailing SL Hit' has dtype incompatible with float64, please explicitly cast to a compatible dtype first.\n",
      "  tradebook_long.loc[\n"
     ]
    },
    {
     "name": "stdout",
     "output_type": "stream",
     "text": [
      "EMA:44, X:34, PCT:0.25\n"
     ]
    },
    {
     "name": "stderr",
     "output_type": "stream",
     "text": [
      "/tmp/ipykernel_37183/3149794742.py:132: FutureWarning: Setting an item of incompatible dtype is deprecated and will raise an error in a future version of pandas. Value 'Trailing SL Hit' has dtype incompatible with float64, please explicitly cast to a compatible dtype first.\n",
      "  tradebook_long.loc[\n"
     ]
    },
    {
     "name": "stdout",
     "output_type": "stream",
     "text": [
      "EMA:46, X:4, PCT:0.1\n"
     ]
    },
    {
     "name": "stderr",
     "output_type": "stream",
     "text": [
      "/tmp/ipykernel_37183/3149794742.py:132: FutureWarning: Setting an item of incompatible dtype is deprecated and will raise an error in a future version of pandas. Value 'Trailing SL Hit' has dtype incompatible with float64, please explicitly cast to a compatible dtype first.\n",
      "  tradebook_long.loc[\n"
     ]
    },
    {
     "name": "stdout",
     "output_type": "stream",
     "text": [
      "EMA:46, X:4, PCT:0.25\n"
     ]
    },
    {
     "name": "stderr",
     "output_type": "stream",
     "text": [
      "/tmp/ipykernel_37183/3149794742.py:132: FutureWarning: Setting an item of incompatible dtype is deprecated and will raise an error in a future version of pandas. Value 'Trailing SL Hit' has dtype incompatible with float64, please explicitly cast to a compatible dtype first.\n",
      "  tradebook_long.loc[\n"
     ]
    },
    {
     "name": "stdout",
     "output_type": "stream",
     "text": [
      "EMA:46, X:7, PCT:0.1\n"
     ]
    },
    {
     "name": "stderr",
     "output_type": "stream",
     "text": [
      "/tmp/ipykernel_37183/3149794742.py:132: FutureWarning: Setting an item of incompatible dtype is deprecated and will raise an error in a future version of pandas. Value 'Trailing SL Hit' has dtype incompatible with float64, please explicitly cast to a compatible dtype first.\n",
      "  tradebook_long.loc[\n"
     ]
    },
    {
     "name": "stdout",
     "output_type": "stream",
     "text": [
      "EMA:46, X:7, PCT:0.25\n"
     ]
    },
    {
     "name": "stderr",
     "output_type": "stream",
     "text": [
      "/tmp/ipykernel_37183/3149794742.py:132: FutureWarning: Setting an item of incompatible dtype is deprecated and will raise an error in a future version of pandas. Value 'Trailing SL Hit' has dtype incompatible with float64, please explicitly cast to a compatible dtype first.\n",
      "  tradebook_long.loc[\n"
     ]
    },
    {
     "name": "stdout",
     "output_type": "stream",
     "text": [
      "EMA:46, X:10, PCT:0.1\n"
     ]
    },
    {
     "name": "stderr",
     "output_type": "stream",
     "text": [
      "/tmp/ipykernel_37183/3149794742.py:132: FutureWarning: Setting an item of incompatible dtype is deprecated and will raise an error in a future version of pandas. Value 'Trailing SL Hit' has dtype incompatible with float64, please explicitly cast to a compatible dtype first.\n",
      "  tradebook_long.loc[\n"
     ]
    },
    {
     "name": "stdout",
     "output_type": "stream",
     "text": [
      "EMA:46, X:10, PCT:0.25\n"
     ]
    },
    {
     "name": "stderr",
     "output_type": "stream",
     "text": [
      "/tmp/ipykernel_37183/3149794742.py:132: FutureWarning: Setting an item of incompatible dtype is deprecated and will raise an error in a future version of pandas. Value 'Trailing SL Hit' has dtype incompatible with float64, please explicitly cast to a compatible dtype first.\n",
      "  tradebook_long.loc[\n"
     ]
    },
    {
     "name": "stdout",
     "output_type": "stream",
     "text": [
      "EMA:46, X:13, PCT:0.1\n"
     ]
    },
    {
     "name": "stderr",
     "output_type": "stream",
     "text": [
      "/tmp/ipykernel_37183/3149794742.py:132: FutureWarning: Setting an item of incompatible dtype is deprecated and will raise an error in a future version of pandas. Value 'Trailing SL Hit' has dtype incompatible with float64, please explicitly cast to a compatible dtype first.\n",
      "  tradebook_long.loc[\n"
     ]
    },
    {
     "name": "stdout",
     "output_type": "stream",
     "text": [
      "EMA:46, X:13, PCT:0.25\n"
     ]
    },
    {
     "name": "stderr",
     "output_type": "stream",
     "text": [
      "/tmp/ipykernel_37183/3149794742.py:132: FutureWarning: Setting an item of incompatible dtype is deprecated and will raise an error in a future version of pandas. Value 'Trailing SL Hit' has dtype incompatible with float64, please explicitly cast to a compatible dtype first.\n",
      "  tradebook_long.loc[\n"
     ]
    },
    {
     "name": "stdout",
     "output_type": "stream",
     "text": [
      "EMA:46, X:16, PCT:0.1\n"
     ]
    },
    {
     "name": "stderr",
     "output_type": "stream",
     "text": [
      "/tmp/ipykernel_37183/3149794742.py:132: FutureWarning: Setting an item of incompatible dtype is deprecated and will raise an error in a future version of pandas. Value 'Trailing SL Hit' has dtype incompatible with float64, please explicitly cast to a compatible dtype first.\n",
      "  tradebook_long.loc[\n"
     ]
    },
    {
     "name": "stdout",
     "output_type": "stream",
     "text": [
      "EMA:46, X:16, PCT:0.25\n"
     ]
    },
    {
     "name": "stderr",
     "output_type": "stream",
     "text": [
      "/tmp/ipykernel_37183/3149794742.py:132: FutureWarning: Setting an item of incompatible dtype is deprecated and will raise an error in a future version of pandas. Value 'Trailing SL Hit' has dtype incompatible with float64, please explicitly cast to a compatible dtype first.\n",
      "  tradebook_long.loc[\n"
     ]
    },
    {
     "name": "stdout",
     "output_type": "stream",
     "text": [
      "EMA:46, X:19, PCT:0.1\n"
     ]
    },
    {
     "name": "stderr",
     "output_type": "stream",
     "text": [
      "/tmp/ipykernel_37183/3149794742.py:132: FutureWarning: Setting an item of incompatible dtype is deprecated and will raise an error in a future version of pandas. Value 'Trailing SL Hit' has dtype incompatible with float64, please explicitly cast to a compatible dtype first.\n",
      "  tradebook_long.loc[\n"
     ]
    },
    {
     "name": "stdout",
     "output_type": "stream",
     "text": [
      "EMA:46, X:19, PCT:0.25\n"
     ]
    },
    {
     "name": "stderr",
     "output_type": "stream",
     "text": [
      "/tmp/ipykernel_37183/3149794742.py:132: FutureWarning: Setting an item of incompatible dtype is deprecated and will raise an error in a future version of pandas. Value 'Trailing SL Hit' has dtype incompatible with float64, please explicitly cast to a compatible dtype first.\n",
      "  tradebook_long.loc[\n"
     ]
    },
    {
     "name": "stdout",
     "output_type": "stream",
     "text": [
      "EMA:46, X:22, PCT:0.1\n"
     ]
    },
    {
     "name": "stderr",
     "output_type": "stream",
     "text": [
      "/tmp/ipykernel_37183/3149794742.py:132: FutureWarning: Setting an item of incompatible dtype is deprecated and will raise an error in a future version of pandas. Value 'Trailing SL Hit' has dtype incompatible with float64, please explicitly cast to a compatible dtype first.\n",
      "  tradebook_long.loc[\n"
     ]
    },
    {
     "name": "stdout",
     "output_type": "stream",
     "text": [
      "EMA:46, X:22, PCT:0.25\n"
     ]
    },
    {
     "name": "stderr",
     "output_type": "stream",
     "text": [
      "/tmp/ipykernel_37183/3149794742.py:132: FutureWarning: Setting an item of incompatible dtype is deprecated and will raise an error in a future version of pandas. Value 'Trailing SL Hit' has dtype incompatible with float64, please explicitly cast to a compatible dtype first.\n",
      "  tradebook_long.loc[\n"
     ]
    },
    {
     "name": "stdout",
     "output_type": "stream",
     "text": [
      "EMA:46, X:25, PCT:0.1\n"
     ]
    },
    {
     "name": "stderr",
     "output_type": "stream",
     "text": [
      "/tmp/ipykernel_37183/3149794742.py:132: FutureWarning: Setting an item of incompatible dtype is deprecated and will raise an error in a future version of pandas. Value 'Trailing SL Hit' has dtype incompatible with float64, please explicitly cast to a compatible dtype first.\n",
      "  tradebook_long.loc[\n"
     ]
    },
    {
     "name": "stdout",
     "output_type": "stream",
     "text": [
      "EMA:46, X:25, PCT:0.25\n"
     ]
    },
    {
     "name": "stderr",
     "output_type": "stream",
     "text": [
      "/tmp/ipykernel_37183/3149794742.py:132: FutureWarning: Setting an item of incompatible dtype is deprecated and will raise an error in a future version of pandas. Value 'Trailing SL Hit' has dtype incompatible with float64, please explicitly cast to a compatible dtype first.\n",
      "  tradebook_long.loc[\n"
     ]
    },
    {
     "name": "stdout",
     "output_type": "stream",
     "text": [
      "EMA:46, X:28, PCT:0.1\n"
     ]
    },
    {
     "name": "stderr",
     "output_type": "stream",
     "text": [
      "/tmp/ipykernel_37183/3149794742.py:132: FutureWarning: Setting an item of incompatible dtype is deprecated and will raise an error in a future version of pandas. Value 'Trailing SL Hit' has dtype incompatible with float64, please explicitly cast to a compatible dtype first.\n",
      "  tradebook_long.loc[\n"
     ]
    },
    {
     "name": "stdout",
     "output_type": "stream",
     "text": [
      "EMA:46, X:28, PCT:0.25\n"
     ]
    },
    {
     "name": "stderr",
     "output_type": "stream",
     "text": [
      "/tmp/ipykernel_37183/3149794742.py:132: FutureWarning: Setting an item of incompatible dtype is deprecated and will raise an error in a future version of pandas. Value 'Trailing SL Hit' has dtype incompatible with float64, please explicitly cast to a compatible dtype first.\n",
      "  tradebook_long.loc[\n"
     ]
    },
    {
     "name": "stdout",
     "output_type": "stream",
     "text": [
      "EMA:46, X:31, PCT:0.1\n"
     ]
    },
    {
     "name": "stderr",
     "output_type": "stream",
     "text": [
      "/tmp/ipykernel_37183/3149794742.py:132: FutureWarning: Setting an item of incompatible dtype is deprecated and will raise an error in a future version of pandas. Value 'Trailing SL Hit' has dtype incompatible with float64, please explicitly cast to a compatible dtype first.\n",
      "  tradebook_long.loc[\n"
     ]
    },
    {
     "name": "stdout",
     "output_type": "stream",
     "text": [
      "EMA:46, X:31, PCT:0.25\n"
     ]
    },
    {
     "name": "stderr",
     "output_type": "stream",
     "text": [
      "/tmp/ipykernel_37183/3149794742.py:132: FutureWarning: Setting an item of incompatible dtype is deprecated and will raise an error in a future version of pandas. Value 'Trailing SL Hit' has dtype incompatible with float64, please explicitly cast to a compatible dtype first.\n",
      "  tradebook_long.loc[\n"
     ]
    },
    {
     "name": "stdout",
     "output_type": "stream",
     "text": [
      "EMA:46, X:34, PCT:0.1\n"
     ]
    },
    {
     "name": "stderr",
     "output_type": "stream",
     "text": [
      "/tmp/ipykernel_37183/3149794742.py:132: FutureWarning: Setting an item of incompatible dtype is deprecated and will raise an error in a future version of pandas. Value 'Trailing SL Hit' has dtype incompatible with float64, please explicitly cast to a compatible dtype first.\n",
      "  tradebook_long.loc[\n"
     ]
    },
    {
     "name": "stdout",
     "output_type": "stream",
     "text": [
      "EMA:46, X:34, PCT:0.25\n"
     ]
    },
    {
     "name": "stderr",
     "output_type": "stream",
     "text": [
      "/tmp/ipykernel_37183/3149794742.py:132: FutureWarning: Setting an item of incompatible dtype is deprecated and will raise an error in a future version of pandas. Value 'Trailing SL Hit' has dtype incompatible with float64, please explicitly cast to a compatible dtype first.\n",
      "  tradebook_long.loc[\n"
     ]
    },
    {
     "name": "stdout",
     "output_type": "stream",
     "text": [
      "EMA:48, X:4, PCT:0.1\n"
     ]
    },
    {
     "name": "stderr",
     "output_type": "stream",
     "text": [
      "/tmp/ipykernel_37183/3149794742.py:132: FutureWarning: Setting an item of incompatible dtype is deprecated and will raise an error in a future version of pandas. Value 'Trailing SL Hit' has dtype incompatible with float64, please explicitly cast to a compatible dtype first.\n",
      "  tradebook_long.loc[\n"
     ]
    },
    {
     "name": "stdout",
     "output_type": "stream",
     "text": [
      "EMA:48, X:4, PCT:0.25\n"
     ]
    },
    {
     "name": "stderr",
     "output_type": "stream",
     "text": [
      "/tmp/ipykernel_37183/3149794742.py:132: FutureWarning: Setting an item of incompatible dtype is deprecated and will raise an error in a future version of pandas. Value 'Trailing SL Hit' has dtype incompatible with float64, please explicitly cast to a compatible dtype first.\n",
      "  tradebook_long.loc[\n"
     ]
    },
    {
     "name": "stdout",
     "output_type": "stream",
     "text": [
      "EMA:48, X:7, PCT:0.1\n"
     ]
    },
    {
     "name": "stderr",
     "output_type": "stream",
     "text": [
      "/tmp/ipykernel_37183/3149794742.py:132: FutureWarning: Setting an item of incompatible dtype is deprecated and will raise an error in a future version of pandas. Value 'Trailing SL Hit' has dtype incompatible with float64, please explicitly cast to a compatible dtype first.\n",
      "  tradebook_long.loc[\n"
     ]
    },
    {
     "name": "stdout",
     "output_type": "stream",
     "text": [
      "EMA:48, X:7, PCT:0.25\n"
     ]
    },
    {
     "name": "stderr",
     "output_type": "stream",
     "text": [
      "/tmp/ipykernel_37183/3149794742.py:132: FutureWarning: Setting an item of incompatible dtype is deprecated and will raise an error in a future version of pandas. Value 'Trailing SL Hit' has dtype incompatible with float64, please explicitly cast to a compatible dtype first.\n",
      "  tradebook_long.loc[\n"
     ]
    },
    {
     "name": "stdout",
     "output_type": "stream",
     "text": [
      "EMA:48, X:10, PCT:0.1\n"
     ]
    },
    {
     "name": "stderr",
     "output_type": "stream",
     "text": [
      "/tmp/ipykernel_37183/3149794742.py:132: FutureWarning: Setting an item of incompatible dtype is deprecated and will raise an error in a future version of pandas. Value 'Trailing SL Hit' has dtype incompatible with float64, please explicitly cast to a compatible dtype first.\n",
      "  tradebook_long.loc[\n"
     ]
    },
    {
     "name": "stdout",
     "output_type": "stream",
     "text": [
      "EMA:48, X:10, PCT:0.25\n"
     ]
    },
    {
     "name": "stderr",
     "output_type": "stream",
     "text": [
      "/tmp/ipykernel_37183/3149794742.py:132: FutureWarning: Setting an item of incompatible dtype is deprecated and will raise an error in a future version of pandas. Value 'Trailing SL Hit' has dtype incompatible with float64, please explicitly cast to a compatible dtype first.\n",
      "  tradebook_long.loc[\n"
     ]
    },
    {
     "name": "stdout",
     "output_type": "stream",
     "text": [
      "EMA:48, X:13, PCT:0.1\n"
     ]
    },
    {
     "name": "stderr",
     "output_type": "stream",
     "text": [
      "/tmp/ipykernel_37183/3149794742.py:132: FutureWarning: Setting an item of incompatible dtype is deprecated and will raise an error in a future version of pandas. Value 'Trailing SL Hit' has dtype incompatible with float64, please explicitly cast to a compatible dtype first.\n",
      "  tradebook_long.loc[\n"
     ]
    },
    {
     "name": "stdout",
     "output_type": "stream",
     "text": [
      "EMA:48, X:13, PCT:0.25\n"
     ]
    },
    {
     "name": "stderr",
     "output_type": "stream",
     "text": [
      "/tmp/ipykernel_37183/3149794742.py:132: FutureWarning: Setting an item of incompatible dtype is deprecated and will raise an error in a future version of pandas. Value 'Trailing SL Hit' has dtype incompatible with float64, please explicitly cast to a compatible dtype first.\n",
      "  tradebook_long.loc[\n"
     ]
    },
    {
     "name": "stdout",
     "output_type": "stream",
     "text": [
      "EMA:48, X:16, PCT:0.1\n"
     ]
    },
    {
     "name": "stderr",
     "output_type": "stream",
     "text": [
      "/tmp/ipykernel_37183/3149794742.py:132: FutureWarning: Setting an item of incompatible dtype is deprecated and will raise an error in a future version of pandas. Value 'Trailing SL Hit' has dtype incompatible with float64, please explicitly cast to a compatible dtype first.\n",
      "  tradebook_long.loc[\n"
     ]
    },
    {
     "name": "stdout",
     "output_type": "stream",
     "text": [
      "EMA:48, X:16, PCT:0.25\n"
     ]
    },
    {
     "name": "stderr",
     "output_type": "stream",
     "text": [
      "/tmp/ipykernel_37183/3149794742.py:132: FutureWarning: Setting an item of incompatible dtype is deprecated and will raise an error in a future version of pandas. Value 'Trailing SL Hit' has dtype incompatible with float64, please explicitly cast to a compatible dtype first.\n",
      "  tradebook_long.loc[\n"
     ]
    },
    {
     "name": "stdout",
     "output_type": "stream",
     "text": [
      "EMA:48, X:19, PCT:0.1\n"
     ]
    },
    {
     "name": "stderr",
     "output_type": "stream",
     "text": [
      "/tmp/ipykernel_37183/3149794742.py:132: FutureWarning: Setting an item of incompatible dtype is deprecated and will raise an error in a future version of pandas. Value 'Trailing SL Hit' has dtype incompatible with float64, please explicitly cast to a compatible dtype first.\n",
      "  tradebook_long.loc[\n"
     ]
    },
    {
     "name": "stdout",
     "output_type": "stream",
     "text": [
      "EMA:48, X:19, PCT:0.25\n"
     ]
    },
    {
     "name": "stderr",
     "output_type": "stream",
     "text": [
      "/tmp/ipykernel_37183/3149794742.py:132: FutureWarning: Setting an item of incompatible dtype is deprecated and will raise an error in a future version of pandas. Value 'Trailing SL Hit' has dtype incompatible with float64, please explicitly cast to a compatible dtype first.\n",
      "  tradebook_long.loc[\n"
     ]
    },
    {
     "name": "stdout",
     "output_type": "stream",
     "text": [
      "EMA:48, X:22, PCT:0.1\n"
     ]
    },
    {
     "name": "stderr",
     "output_type": "stream",
     "text": [
      "/tmp/ipykernel_37183/3149794742.py:132: FutureWarning: Setting an item of incompatible dtype is deprecated and will raise an error in a future version of pandas. Value 'Trailing SL Hit' has dtype incompatible with float64, please explicitly cast to a compatible dtype first.\n",
      "  tradebook_long.loc[\n"
     ]
    },
    {
     "name": "stdout",
     "output_type": "stream",
     "text": [
      "EMA:48, X:22, PCT:0.25\n"
     ]
    },
    {
     "name": "stderr",
     "output_type": "stream",
     "text": [
      "/tmp/ipykernel_37183/3149794742.py:132: FutureWarning: Setting an item of incompatible dtype is deprecated and will raise an error in a future version of pandas. Value 'Trailing SL Hit' has dtype incompatible with float64, please explicitly cast to a compatible dtype first.\n",
      "  tradebook_long.loc[\n"
     ]
    },
    {
     "name": "stdout",
     "output_type": "stream",
     "text": [
      "EMA:48, X:25, PCT:0.1\n"
     ]
    },
    {
     "name": "stderr",
     "output_type": "stream",
     "text": [
      "/tmp/ipykernel_37183/3149794742.py:132: FutureWarning: Setting an item of incompatible dtype is deprecated and will raise an error in a future version of pandas. Value 'Trailing SL Hit' has dtype incompatible with float64, please explicitly cast to a compatible dtype first.\n",
      "  tradebook_long.loc[\n"
     ]
    },
    {
     "name": "stdout",
     "output_type": "stream",
     "text": [
      "EMA:48, X:25, PCT:0.25\n"
     ]
    },
    {
     "name": "stderr",
     "output_type": "stream",
     "text": [
      "/tmp/ipykernel_37183/3149794742.py:132: FutureWarning: Setting an item of incompatible dtype is deprecated and will raise an error in a future version of pandas. Value 'Trailing SL Hit' has dtype incompatible with float64, please explicitly cast to a compatible dtype first.\n",
      "  tradebook_long.loc[\n"
     ]
    },
    {
     "name": "stdout",
     "output_type": "stream",
     "text": [
      "EMA:48, X:28, PCT:0.1\n"
     ]
    },
    {
     "name": "stderr",
     "output_type": "stream",
     "text": [
      "/tmp/ipykernel_37183/3149794742.py:132: FutureWarning: Setting an item of incompatible dtype is deprecated and will raise an error in a future version of pandas. Value 'Trailing SL Hit' has dtype incompatible with float64, please explicitly cast to a compatible dtype first.\n",
      "  tradebook_long.loc[\n"
     ]
    },
    {
     "name": "stdout",
     "output_type": "stream",
     "text": [
      "EMA:48, X:28, PCT:0.25\n"
     ]
    },
    {
     "name": "stderr",
     "output_type": "stream",
     "text": [
      "/tmp/ipykernel_37183/3149794742.py:132: FutureWarning: Setting an item of incompatible dtype is deprecated and will raise an error in a future version of pandas. Value 'Trailing SL Hit' has dtype incompatible with float64, please explicitly cast to a compatible dtype first.\n",
      "  tradebook_long.loc[\n"
     ]
    },
    {
     "name": "stdout",
     "output_type": "stream",
     "text": [
      "EMA:48, X:31, PCT:0.1\n"
     ]
    },
    {
     "name": "stderr",
     "output_type": "stream",
     "text": [
      "/tmp/ipykernel_37183/3149794742.py:132: FutureWarning: Setting an item of incompatible dtype is deprecated and will raise an error in a future version of pandas. Value 'Trailing SL Hit' has dtype incompatible with float64, please explicitly cast to a compatible dtype first.\n",
      "  tradebook_long.loc[\n"
     ]
    },
    {
     "name": "stdout",
     "output_type": "stream",
     "text": [
      "EMA:48, X:31, PCT:0.25\n"
     ]
    },
    {
     "name": "stderr",
     "output_type": "stream",
     "text": [
      "/tmp/ipykernel_37183/3149794742.py:132: FutureWarning: Setting an item of incompatible dtype is deprecated and will raise an error in a future version of pandas. Value 'Trailing SL Hit' has dtype incompatible with float64, please explicitly cast to a compatible dtype first.\n",
      "  tradebook_long.loc[\n"
     ]
    },
    {
     "name": "stdout",
     "output_type": "stream",
     "text": [
      "EMA:48, X:34, PCT:0.1\n"
     ]
    },
    {
     "name": "stderr",
     "output_type": "stream",
     "text": [
      "/tmp/ipykernel_37183/3149794742.py:132: FutureWarning: Setting an item of incompatible dtype is deprecated and will raise an error in a future version of pandas. Value 'Trailing SL Hit' has dtype incompatible with float64, please explicitly cast to a compatible dtype first.\n",
      "  tradebook_long.loc[\n"
     ]
    },
    {
     "name": "stdout",
     "output_type": "stream",
     "text": [
      "EMA:48, X:34, PCT:0.25\n"
     ]
    },
    {
     "name": "stderr",
     "output_type": "stream",
     "text": [
      "/tmp/ipykernel_37183/3149794742.py:132: FutureWarning: Setting an item of incompatible dtype is deprecated and will raise an error in a future version of pandas. Value 'Trailing SL Hit' has dtype incompatible with float64, please explicitly cast to a compatible dtype first.\n",
      "  tradebook_long.loc[\n"
     ]
    },
    {
     "name": "stdout",
     "output_type": "stream",
     "text": [
      "EMA:50, X:4, PCT:0.1\n"
     ]
    },
    {
     "name": "stderr",
     "output_type": "stream",
     "text": [
      "/tmp/ipykernel_37183/3149794742.py:132: FutureWarning: Setting an item of incompatible dtype is deprecated and will raise an error in a future version of pandas. Value 'Trailing SL Hit' has dtype incompatible with float64, please explicitly cast to a compatible dtype first.\n",
      "  tradebook_long.loc[\n"
     ]
    },
    {
     "name": "stdout",
     "output_type": "stream",
     "text": [
      "EMA:50, X:4, PCT:0.25\n"
     ]
    },
    {
     "name": "stderr",
     "output_type": "stream",
     "text": [
      "/tmp/ipykernel_37183/3149794742.py:132: FutureWarning: Setting an item of incompatible dtype is deprecated and will raise an error in a future version of pandas. Value 'Trailing SL Hit' has dtype incompatible with float64, please explicitly cast to a compatible dtype first.\n",
      "  tradebook_long.loc[\n"
     ]
    },
    {
     "name": "stdout",
     "output_type": "stream",
     "text": [
      "EMA:50, X:7, PCT:0.1\n"
     ]
    },
    {
     "name": "stderr",
     "output_type": "stream",
     "text": [
      "/tmp/ipykernel_37183/3149794742.py:132: FutureWarning: Setting an item of incompatible dtype is deprecated and will raise an error in a future version of pandas. Value 'Trailing SL Hit' has dtype incompatible with float64, please explicitly cast to a compatible dtype first.\n",
      "  tradebook_long.loc[\n"
     ]
    },
    {
     "name": "stdout",
     "output_type": "stream",
     "text": [
      "EMA:50, X:7, PCT:0.25\n"
     ]
    },
    {
     "name": "stderr",
     "output_type": "stream",
     "text": [
      "/tmp/ipykernel_37183/3149794742.py:132: FutureWarning: Setting an item of incompatible dtype is deprecated and will raise an error in a future version of pandas. Value 'Trailing SL Hit' has dtype incompatible with float64, please explicitly cast to a compatible dtype first.\n",
      "  tradebook_long.loc[\n"
     ]
    },
    {
     "name": "stdout",
     "output_type": "stream",
     "text": [
      "EMA:50, X:10, PCT:0.1\n"
     ]
    },
    {
     "name": "stderr",
     "output_type": "stream",
     "text": [
      "/tmp/ipykernel_37183/3149794742.py:132: FutureWarning: Setting an item of incompatible dtype is deprecated and will raise an error in a future version of pandas. Value 'Trailing SL Hit' has dtype incompatible with float64, please explicitly cast to a compatible dtype first.\n",
      "  tradebook_long.loc[\n"
     ]
    },
    {
     "name": "stdout",
     "output_type": "stream",
     "text": [
      "EMA:50, X:10, PCT:0.25\n"
     ]
    },
    {
     "name": "stderr",
     "output_type": "stream",
     "text": [
      "/tmp/ipykernel_37183/3149794742.py:132: FutureWarning: Setting an item of incompatible dtype is deprecated and will raise an error in a future version of pandas. Value 'Trailing SL Hit' has dtype incompatible with float64, please explicitly cast to a compatible dtype first.\n",
      "  tradebook_long.loc[\n"
     ]
    },
    {
     "name": "stdout",
     "output_type": "stream",
     "text": [
      "EMA:50, X:13, PCT:0.1\n"
     ]
    },
    {
     "name": "stderr",
     "output_type": "stream",
     "text": [
      "/tmp/ipykernel_37183/3149794742.py:132: FutureWarning: Setting an item of incompatible dtype is deprecated and will raise an error in a future version of pandas. Value 'Trailing SL Hit' has dtype incompatible with float64, please explicitly cast to a compatible dtype first.\n",
      "  tradebook_long.loc[\n"
     ]
    },
    {
     "name": "stdout",
     "output_type": "stream",
     "text": [
      "EMA:50, X:13, PCT:0.25\n"
     ]
    },
    {
     "name": "stderr",
     "output_type": "stream",
     "text": [
      "/tmp/ipykernel_37183/3149794742.py:132: FutureWarning: Setting an item of incompatible dtype is deprecated and will raise an error in a future version of pandas. Value 'Trailing SL Hit' has dtype incompatible with float64, please explicitly cast to a compatible dtype first.\n",
      "  tradebook_long.loc[\n"
     ]
    },
    {
     "name": "stdout",
     "output_type": "stream",
     "text": [
      "EMA:50, X:16, PCT:0.1\n"
     ]
    },
    {
     "name": "stderr",
     "output_type": "stream",
     "text": [
      "/tmp/ipykernel_37183/3149794742.py:132: FutureWarning: Setting an item of incompatible dtype is deprecated and will raise an error in a future version of pandas. Value 'Trailing SL Hit' has dtype incompatible with float64, please explicitly cast to a compatible dtype first.\n",
      "  tradebook_long.loc[\n"
     ]
    },
    {
     "name": "stdout",
     "output_type": "stream",
     "text": [
      "EMA:50, X:16, PCT:0.25\n"
     ]
    },
    {
     "name": "stderr",
     "output_type": "stream",
     "text": [
      "/tmp/ipykernel_37183/3149794742.py:132: FutureWarning: Setting an item of incompatible dtype is deprecated and will raise an error in a future version of pandas. Value 'Trailing SL Hit' has dtype incompatible with float64, please explicitly cast to a compatible dtype first.\n",
      "  tradebook_long.loc[\n"
     ]
    },
    {
     "name": "stdout",
     "output_type": "stream",
     "text": [
      "EMA:50, X:19, PCT:0.1\n"
     ]
    },
    {
     "name": "stderr",
     "output_type": "stream",
     "text": [
      "/tmp/ipykernel_37183/3149794742.py:132: FutureWarning: Setting an item of incompatible dtype is deprecated and will raise an error in a future version of pandas. Value 'Trailing SL Hit' has dtype incompatible with float64, please explicitly cast to a compatible dtype first.\n",
      "  tradebook_long.loc[\n"
     ]
    },
    {
     "name": "stdout",
     "output_type": "stream",
     "text": [
      "EMA:50, X:19, PCT:0.25\n"
     ]
    },
    {
     "name": "stderr",
     "output_type": "stream",
     "text": [
      "/tmp/ipykernel_37183/3149794742.py:132: FutureWarning: Setting an item of incompatible dtype is deprecated and will raise an error in a future version of pandas. Value 'Trailing SL Hit' has dtype incompatible with float64, please explicitly cast to a compatible dtype first.\n",
      "  tradebook_long.loc[\n"
     ]
    },
    {
     "name": "stdout",
     "output_type": "stream",
     "text": [
      "EMA:50, X:22, PCT:0.1\n"
     ]
    },
    {
     "name": "stderr",
     "output_type": "stream",
     "text": [
      "/tmp/ipykernel_37183/3149794742.py:132: FutureWarning: Setting an item of incompatible dtype is deprecated and will raise an error in a future version of pandas. Value 'Trailing SL Hit' has dtype incompatible with float64, please explicitly cast to a compatible dtype first.\n",
      "  tradebook_long.loc[\n"
     ]
    },
    {
     "name": "stdout",
     "output_type": "stream",
     "text": [
      "EMA:50, X:22, PCT:0.25\n"
     ]
    },
    {
     "name": "stderr",
     "output_type": "stream",
     "text": [
      "/tmp/ipykernel_37183/3149794742.py:132: FutureWarning: Setting an item of incompatible dtype is deprecated and will raise an error in a future version of pandas. Value 'Trailing SL Hit' has dtype incompatible with float64, please explicitly cast to a compatible dtype first.\n",
      "  tradebook_long.loc[\n"
     ]
    },
    {
     "name": "stdout",
     "output_type": "stream",
     "text": [
      "EMA:50, X:25, PCT:0.1\n"
     ]
    },
    {
     "name": "stderr",
     "output_type": "stream",
     "text": [
      "/tmp/ipykernel_37183/3149794742.py:132: FutureWarning: Setting an item of incompatible dtype is deprecated and will raise an error in a future version of pandas. Value 'Trailing SL Hit' has dtype incompatible with float64, please explicitly cast to a compatible dtype first.\n",
      "  tradebook_long.loc[\n"
     ]
    },
    {
     "name": "stdout",
     "output_type": "stream",
     "text": [
      "EMA:50, X:25, PCT:0.25\n"
     ]
    },
    {
     "name": "stderr",
     "output_type": "stream",
     "text": [
      "/tmp/ipykernel_37183/3149794742.py:132: FutureWarning: Setting an item of incompatible dtype is deprecated and will raise an error in a future version of pandas. Value 'Trailing SL Hit' has dtype incompatible with float64, please explicitly cast to a compatible dtype first.\n",
      "  tradebook_long.loc[\n"
     ]
    },
    {
     "name": "stdout",
     "output_type": "stream",
     "text": [
      "EMA:50, X:28, PCT:0.1\n"
     ]
    },
    {
     "name": "stderr",
     "output_type": "stream",
     "text": [
      "/tmp/ipykernel_37183/3149794742.py:132: FutureWarning: Setting an item of incompatible dtype is deprecated and will raise an error in a future version of pandas. Value 'Trailing SL Hit' has dtype incompatible with float64, please explicitly cast to a compatible dtype first.\n",
      "  tradebook_long.loc[\n"
     ]
    },
    {
     "name": "stdout",
     "output_type": "stream",
     "text": [
      "EMA:50, X:28, PCT:0.25\n"
     ]
    },
    {
     "name": "stderr",
     "output_type": "stream",
     "text": [
      "/tmp/ipykernel_37183/3149794742.py:132: FutureWarning: Setting an item of incompatible dtype is deprecated and will raise an error in a future version of pandas. Value 'Trailing SL Hit' has dtype incompatible with float64, please explicitly cast to a compatible dtype first.\n",
      "  tradebook_long.loc[\n"
     ]
    },
    {
     "name": "stdout",
     "output_type": "stream",
     "text": [
      "EMA:50, X:31, PCT:0.1\n"
     ]
    },
    {
     "name": "stderr",
     "output_type": "stream",
     "text": [
      "/tmp/ipykernel_37183/3149794742.py:132: FutureWarning: Setting an item of incompatible dtype is deprecated and will raise an error in a future version of pandas. Value 'Trailing SL Hit' has dtype incompatible with float64, please explicitly cast to a compatible dtype first.\n",
      "  tradebook_long.loc[\n"
     ]
    },
    {
     "name": "stdout",
     "output_type": "stream",
     "text": [
      "EMA:50, X:31, PCT:0.25\n"
     ]
    },
    {
     "name": "stderr",
     "output_type": "stream",
     "text": [
      "/tmp/ipykernel_37183/3149794742.py:132: FutureWarning: Setting an item of incompatible dtype is deprecated and will raise an error in a future version of pandas. Value 'Trailing SL Hit' has dtype incompatible with float64, please explicitly cast to a compatible dtype first.\n",
      "  tradebook_long.loc[\n"
     ]
    },
    {
     "name": "stdout",
     "output_type": "stream",
     "text": [
      "EMA:50, X:34, PCT:0.1\n"
     ]
    },
    {
     "name": "stderr",
     "output_type": "stream",
     "text": [
      "/tmp/ipykernel_37183/3149794742.py:132: FutureWarning: Setting an item of incompatible dtype is deprecated and will raise an error in a future version of pandas. Value 'Trailing SL Hit' has dtype incompatible with float64, please explicitly cast to a compatible dtype first.\n",
      "  tradebook_long.loc[\n"
     ]
    },
    {
     "name": "stdout",
     "output_type": "stream",
     "text": [
      "EMA:50, X:34, PCT:0.25\n"
     ]
    },
    {
     "name": "stderr",
     "output_type": "stream",
     "text": [
      "/tmp/ipykernel_37183/3149794742.py:132: FutureWarning: Setting an item of incompatible dtype is deprecated and will raise an error in a future version of pandas. Value 'Trailing SL Hit' has dtype incompatible with float64, please explicitly cast to a compatible dtype first.\n",
      "  tradebook_long.loc[\n"
     ]
    },
    {
     "name": "stdout",
     "output_type": "stream",
     "text": [
      "EMA:52, X:4, PCT:0.1\n"
     ]
    },
    {
     "name": "stderr",
     "output_type": "stream",
     "text": [
      "/tmp/ipykernel_37183/3149794742.py:132: FutureWarning: Setting an item of incompatible dtype is deprecated and will raise an error in a future version of pandas. Value 'Trailing SL Hit' has dtype incompatible with float64, please explicitly cast to a compatible dtype first.\n",
      "  tradebook_long.loc[\n"
     ]
    },
    {
     "name": "stdout",
     "output_type": "stream",
     "text": [
      "EMA:52, X:4, PCT:0.25\n"
     ]
    },
    {
     "name": "stderr",
     "output_type": "stream",
     "text": [
      "/tmp/ipykernel_37183/3149794742.py:132: FutureWarning: Setting an item of incompatible dtype is deprecated and will raise an error in a future version of pandas. Value 'Trailing SL Hit' has dtype incompatible with float64, please explicitly cast to a compatible dtype first.\n",
      "  tradebook_long.loc[\n"
     ]
    },
    {
     "name": "stdout",
     "output_type": "stream",
     "text": [
      "EMA:52, X:7, PCT:0.1\n"
     ]
    },
    {
     "name": "stderr",
     "output_type": "stream",
     "text": [
      "/tmp/ipykernel_37183/3149794742.py:132: FutureWarning: Setting an item of incompatible dtype is deprecated and will raise an error in a future version of pandas. Value 'Trailing SL Hit' has dtype incompatible with float64, please explicitly cast to a compatible dtype first.\n",
      "  tradebook_long.loc[\n"
     ]
    },
    {
     "name": "stdout",
     "output_type": "stream",
     "text": [
      "EMA:52, X:7, PCT:0.25\n"
     ]
    },
    {
     "name": "stderr",
     "output_type": "stream",
     "text": [
      "/tmp/ipykernel_37183/3149794742.py:132: FutureWarning: Setting an item of incompatible dtype is deprecated and will raise an error in a future version of pandas. Value 'Trailing SL Hit' has dtype incompatible with float64, please explicitly cast to a compatible dtype first.\n",
      "  tradebook_long.loc[\n"
     ]
    },
    {
     "name": "stdout",
     "output_type": "stream",
     "text": [
      "EMA:52, X:10, PCT:0.1\n"
     ]
    },
    {
     "name": "stderr",
     "output_type": "stream",
     "text": [
      "/tmp/ipykernel_37183/3149794742.py:132: FutureWarning: Setting an item of incompatible dtype is deprecated and will raise an error in a future version of pandas. Value 'Trailing SL Hit' has dtype incompatible with float64, please explicitly cast to a compatible dtype first.\n",
      "  tradebook_long.loc[\n"
     ]
    },
    {
     "name": "stdout",
     "output_type": "stream",
     "text": [
      "EMA:52, X:10, PCT:0.25\n"
     ]
    },
    {
     "name": "stderr",
     "output_type": "stream",
     "text": [
      "/tmp/ipykernel_37183/3149794742.py:132: FutureWarning: Setting an item of incompatible dtype is deprecated and will raise an error in a future version of pandas. Value 'Trailing SL Hit' has dtype incompatible with float64, please explicitly cast to a compatible dtype first.\n",
      "  tradebook_long.loc[\n"
     ]
    },
    {
     "name": "stdout",
     "output_type": "stream",
     "text": [
      "EMA:52, X:13, PCT:0.1\n"
     ]
    },
    {
     "name": "stderr",
     "output_type": "stream",
     "text": [
      "/tmp/ipykernel_37183/3149794742.py:132: FutureWarning: Setting an item of incompatible dtype is deprecated and will raise an error in a future version of pandas. Value 'Trailing SL Hit' has dtype incompatible with float64, please explicitly cast to a compatible dtype first.\n",
      "  tradebook_long.loc[\n"
     ]
    },
    {
     "name": "stdout",
     "output_type": "stream",
     "text": [
      "EMA:52, X:13, PCT:0.25\n"
     ]
    },
    {
     "name": "stderr",
     "output_type": "stream",
     "text": [
      "/tmp/ipykernel_37183/3149794742.py:132: FutureWarning: Setting an item of incompatible dtype is deprecated and will raise an error in a future version of pandas. Value 'Trailing SL Hit' has dtype incompatible with float64, please explicitly cast to a compatible dtype first.\n",
      "  tradebook_long.loc[\n"
     ]
    },
    {
     "name": "stdout",
     "output_type": "stream",
     "text": [
      "EMA:52, X:16, PCT:0.1\n"
     ]
    },
    {
     "name": "stderr",
     "output_type": "stream",
     "text": [
      "/tmp/ipykernel_37183/3149794742.py:132: FutureWarning: Setting an item of incompatible dtype is deprecated and will raise an error in a future version of pandas. Value 'Trailing SL Hit' has dtype incompatible with float64, please explicitly cast to a compatible dtype first.\n",
      "  tradebook_long.loc[\n"
     ]
    },
    {
     "name": "stdout",
     "output_type": "stream",
     "text": [
      "EMA:52, X:16, PCT:0.25\n"
     ]
    },
    {
     "name": "stderr",
     "output_type": "stream",
     "text": [
      "/tmp/ipykernel_37183/3149794742.py:132: FutureWarning: Setting an item of incompatible dtype is deprecated and will raise an error in a future version of pandas. Value 'Trailing SL Hit' has dtype incompatible with float64, please explicitly cast to a compatible dtype first.\n",
      "  tradebook_long.loc[\n"
     ]
    },
    {
     "name": "stdout",
     "output_type": "stream",
     "text": [
      "EMA:52, X:19, PCT:0.1\n"
     ]
    },
    {
     "name": "stderr",
     "output_type": "stream",
     "text": [
      "/tmp/ipykernel_37183/3149794742.py:132: FutureWarning: Setting an item of incompatible dtype is deprecated and will raise an error in a future version of pandas. Value 'Trailing SL Hit' has dtype incompatible with float64, please explicitly cast to a compatible dtype first.\n",
      "  tradebook_long.loc[\n"
     ]
    },
    {
     "name": "stdout",
     "output_type": "stream",
     "text": [
      "EMA:52, X:19, PCT:0.25\n"
     ]
    },
    {
     "name": "stderr",
     "output_type": "stream",
     "text": [
      "/tmp/ipykernel_37183/3149794742.py:132: FutureWarning: Setting an item of incompatible dtype is deprecated and will raise an error in a future version of pandas. Value 'Trailing SL Hit' has dtype incompatible with float64, please explicitly cast to a compatible dtype first.\n",
      "  tradebook_long.loc[\n"
     ]
    },
    {
     "name": "stdout",
     "output_type": "stream",
     "text": [
      "EMA:52, X:22, PCT:0.1\n"
     ]
    },
    {
     "name": "stderr",
     "output_type": "stream",
     "text": [
      "/tmp/ipykernel_37183/3149794742.py:132: FutureWarning: Setting an item of incompatible dtype is deprecated and will raise an error in a future version of pandas. Value 'Trailing SL Hit' has dtype incompatible with float64, please explicitly cast to a compatible dtype first.\n",
      "  tradebook_long.loc[\n"
     ]
    },
    {
     "name": "stdout",
     "output_type": "stream",
     "text": [
      "EMA:52, X:22, PCT:0.25\n"
     ]
    },
    {
     "name": "stderr",
     "output_type": "stream",
     "text": [
      "/tmp/ipykernel_37183/3149794742.py:132: FutureWarning: Setting an item of incompatible dtype is deprecated and will raise an error in a future version of pandas. Value 'Trailing SL Hit' has dtype incompatible with float64, please explicitly cast to a compatible dtype first.\n",
      "  tradebook_long.loc[\n"
     ]
    },
    {
     "name": "stdout",
     "output_type": "stream",
     "text": [
      "EMA:52, X:25, PCT:0.1\n"
     ]
    },
    {
     "name": "stderr",
     "output_type": "stream",
     "text": [
      "/tmp/ipykernel_37183/3149794742.py:132: FutureWarning: Setting an item of incompatible dtype is deprecated and will raise an error in a future version of pandas. Value 'Trailing SL Hit' has dtype incompatible with float64, please explicitly cast to a compatible dtype first.\n",
      "  tradebook_long.loc[\n"
     ]
    },
    {
     "name": "stdout",
     "output_type": "stream",
     "text": [
      "EMA:52, X:25, PCT:0.25\n"
     ]
    },
    {
     "name": "stderr",
     "output_type": "stream",
     "text": [
      "/tmp/ipykernel_37183/3149794742.py:132: FutureWarning: Setting an item of incompatible dtype is deprecated and will raise an error in a future version of pandas. Value 'Trailing SL Hit' has dtype incompatible with float64, please explicitly cast to a compatible dtype first.\n",
      "  tradebook_long.loc[\n"
     ]
    },
    {
     "name": "stdout",
     "output_type": "stream",
     "text": [
      "EMA:52, X:28, PCT:0.1\n"
     ]
    },
    {
     "name": "stderr",
     "output_type": "stream",
     "text": [
      "/tmp/ipykernel_37183/3149794742.py:132: FutureWarning: Setting an item of incompatible dtype is deprecated and will raise an error in a future version of pandas. Value 'Trailing SL Hit' has dtype incompatible with float64, please explicitly cast to a compatible dtype first.\n",
      "  tradebook_long.loc[\n"
     ]
    },
    {
     "name": "stdout",
     "output_type": "stream",
     "text": [
      "EMA:52, X:28, PCT:0.25\n"
     ]
    },
    {
     "name": "stderr",
     "output_type": "stream",
     "text": [
      "/tmp/ipykernel_37183/3149794742.py:132: FutureWarning: Setting an item of incompatible dtype is deprecated and will raise an error in a future version of pandas. Value 'Trailing SL Hit' has dtype incompatible with float64, please explicitly cast to a compatible dtype first.\n",
      "  tradebook_long.loc[\n"
     ]
    },
    {
     "name": "stdout",
     "output_type": "stream",
     "text": [
      "EMA:52, X:31, PCT:0.1\n"
     ]
    },
    {
     "name": "stderr",
     "output_type": "stream",
     "text": [
      "/tmp/ipykernel_37183/3149794742.py:132: FutureWarning: Setting an item of incompatible dtype is deprecated and will raise an error in a future version of pandas. Value 'Trailing SL Hit' has dtype incompatible with float64, please explicitly cast to a compatible dtype first.\n",
      "  tradebook_long.loc[\n"
     ]
    },
    {
     "name": "stdout",
     "output_type": "stream",
     "text": [
      "EMA:52, X:31, PCT:0.25\n"
     ]
    },
    {
     "name": "stderr",
     "output_type": "stream",
     "text": [
      "/tmp/ipykernel_37183/3149794742.py:132: FutureWarning: Setting an item of incompatible dtype is deprecated and will raise an error in a future version of pandas. Value 'Trailing SL Hit' has dtype incompatible with float64, please explicitly cast to a compatible dtype first.\n",
      "  tradebook_long.loc[\n"
     ]
    },
    {
     "name": "stdout",
     "output_type": "stream",
     "text": [
      "EMA:52, X:34, PCT:0.1\n"
     ]
    },
    {
     "name": "stderr",
     "output_type": "stream",
     "text": [
      "/tmp/ipykernel_37183/3149794742.py:132: FutureWarning: Setting an item of incompatible dtype is deprecated and will raise an error in a future version of pandas. Value 'Trailing SL Hit' has dtype incompatible with float64, please explicitly cast to a compatible dtype first.\n",
      "  tradebook_long.loc[\n"
     ]
    },
    {
     "name": "stdout",
     "output_type": "stream",
     "text": [
      "EMA:52, X:34, PCT:0.25\n"
     ]
    },
    {
     "name": "stderr",
     "output_type": "stream",
     "text": [
      "/tmp/ipykernel_37183/3149794742.py:132: FutureWarning: Setting an item of incompatible dtype is deprecated and will raise an error in a future version of pandas. Value 'Trailing SL Hit' has dtype incompatible with float64, please explicitly cast to a compatible dtype first.\n",
      "  tradebook_long.loc[\n"
     ]
    },
    {
     "name": "stdout",
     "output_type": "stream",
     "text": [
      "EMA:54, X:4, PCT:0.1\n"
     ]
    },
    {
     "name": "stderr",
     "output_type": "stream",
     "text": [
      "/tmp/ipykernel_37183/3149794742.py:132: FutureWarning: Setting an item of incompatible dtype is deprecated and will raise an error in a future version of pandas. Value 'Trailing SL Hit' has dtype incompatible with float64, please explicitly cast to a compatible dtype first.\n",
      "  tradebook_long.loc[\n"
     ]
    },
    {
     "name": "stdout",
     "output_type": "stream",
     "text": [
      "EMA:54, X:4, PCT:0.25\n"
     ]
    },
    {
     "name": "stderr",
     "output_type": "stream",
     "text": [
      "/tmp/ipykernel_37183/3149794742.py:132: FutureWarning: Setting an item of incompatible dtype is deprecated and will raise an error in a future version of pandas. Value 'Trailing SL Hit' has dtype incompatible with float64, please explicitly cast to a compatible dtype first.\n",
      "  tradebook_long.loc[\n"
     ]
    },
    {
     "name": "stdout",
     "output_type": "stream",
     "text": [
      "EMA:54, X:7, PCT:0.1\n"
     ]
    },
    {
     "name": "stderr",
     "output_type": "stream",
     "text": [
      "/tmp/ipykernel_37183/3149794742.py:132: FutureWarning: Setting an item of incompatible dtype is deprecated and will raise an error in a future version of pandas. Value 'Trailing SL Hit' has dtype incompatible with float64, please explicitly cast to a compatible dtype first.\n",
      "  tradebook_long.loc[\n"
     ]
    },
    {
     "name": "stdout",
     "output_type": "stream",
     "text": [
      "EMA:54, X:7, PCT:0.25\n"
     ]
    },
    {
     "name": "stderr",
     "output_type": "stream",
     "text": [
      "/tmp/ipykernel_37183/3149794742.py:132: FutureWarning: Setting an item of incompatible dtype is deprecated and will raise an error in a future version of pandas. Value 'Trailing SL Hit' has dtype incompatible with float64, please explicitly cast to a compatible dtype first.\n",
      "  tradebook_long.loc[\n"
     ]
    },
    {
     "name": "stdout",
     "output_type": "stream",
     "text": [
      "EMA:54, X:10, PCT:0.1\n"
     ]
    },
    {
     "name": "stderr",
     "output_type": "stream",
     "text": [
      "/tmp/ipykernel_37183/3149794742.py:132: FutureWarning: Setting an item of incompatible dtype is deprecated and will raise an error in a future version of pandas. Value 'Trailing SL Hit' has dtype incompatible with float64, please explicitly cast to a compatible dtype first.\n",
      "  tradebook_long.loc[\n"
     ]
    },
    {
     "name": "stdout",
     "output_type": "stream",
     "text": [
      "EMA:54, X:10, PCT:0.25\n"
     ]
    },
    {
     "name": "stderr",
     "output_type": "stream",
     "text": [
      "/tmp/ipykernel_37183/3149794742.py:132: FutureWarning: Setting an item of incompatible dtype is deprecated and will raise an error in a future version of pandas. Value 'Trailing SL Hit' has dtype incompatible with float64, please explicitly cast to a compatible dtype first.\n",
      "  tradebook_long.loc[\n"
     ]
    },
    {
     "name": "stdout",
     "output_type": "stream",
     "text": [
      "EMA:54, X:13, PCT:0.1\n"
     ]
    },
    {
     "name": "stderr",
     "output_type": "stream",
     "text": [
      "/tmp/ipykernel_37183/3149794742.py:132: FutureWarning: Setting an item of incompatible dtype is deprecated and will raise an error in a future version of pandas. Value 'Trailing SL Hit' has dtype incompatible with float64, please explicitly cast to a compatible dtype first.\n",
      "  tradebook_long.loc[\n"
     ]
    },
    {
     "name": "stdout",
     "output_type": "stream",
     "text": [
      "EMA:54, X:13, PCT:0.25\n"
     ]
    },
    {
     "name": "stderr",
     "output_type": "stream",
     "text": [
      "/tmp/ipykernel_37183/3149794742.py:132: FutureWarning: Setting an item of incompatible dtype is deprecated and will raise an error in a future version of pandas. Value 'Trailing SL Hit' has dtype incompatible with float64, please explicitly cast to a compatible dtype first.\n",
      "  tradebook_long.loc[\n"
     ]
    },
    {
     "name": "stdout",
     "output_type": "stream",
     "text": [
      "EMA:54, X:16, PCT:0.1\n"
     ]
    },
    {
     "name": "stderr",
     "output_type": "stream",
     "text": [
      "/tmp/ipykernel_37183/3149794742.py:132: FutureWarning: Setting an item of incompatible dtype is deprecated and will raise an error in a future version of pandas. Value 'Trailing SL Hit' has dtype incompatible with float64, please explicitly cast to a compatible dtype first.\n",
      "  tradebook_long.loc[\n"
     ]
    },
    {
     "name": "stdout",
     "output_type": "stream",
     "text": [
      "EMA:54, X:16, PCT:0.25\n"
     ]
    },
    {
     "name": "stderr",
     "output_type": "stream",
     "text": [
      "/tmp/ipykernel_37183/3149794742.py:132: FutureWarning: Setting an item of incompatible dtype is deprecated and will raise an error in a future version of pandas. Value 'Trailing SL Hit' has dtype incompatible with float64, please explicitly cast to a compatible dtype first.\n",
      "  tradebook_long.loc[\n"
     ]
    },
    {
     "name": "stdout",
     "output_type": "stream",
     "text": [
      "EMA:54, X:19, PCT:0.1\n"
     ]
    },
    {
     "name": "stderr",
     "output_type": "stream",
     "text": [
      "/tmp/ipykernel_37183/3149794742.py:132: FutureWarning: Setting an item of incompatible dtype is deprecated and will raise an error in a future version of pandas. Value 'Trailing SL Hit' has dtype incompatible with float64, please explicitly cast to a compatible dtype first.\n",
      "  tradebook_long.loc[\n"
     ]
    },
    {
     "name": "stdout",
     "output_type": "stream",
     "text": [
      "EMA:54, X:19, PCT:0.25\n"
     ]
    },
    {
     "name": "stderr",
     "output_type": "stream",
     "text": [
      "/tmp/ipykernel_37183/3149794742.py:132: FutureWarning: Setting an item of incompatible dtype is deprecated and will raise an error in a future version of pandas. Value 'Trailing SL Hit' has dtype incompatible with float64, please explicitly cast to a compatible dtype first.\n",
      "  tradebook_long.loc[\n"
     ]
    },
    {
     "name": "stdout",
     "output_type": "stream",
     "text": [
      "EMA:54, X:22, PCT:0.1\n"
     ]
    },
    {
     "name": "stderr",
     "output_type": "stream",
     "text": [
      "/tmp/ipykernel_37183/3149794742.py:132: FutureWarning: Setting an item of incompatible dtype is deprecated and will raise an error in a future version of pandas. Value 'Trailing SL Hit' has dtype incompatible with float64, please explicitly cast to a compatible dtype first.\n",
      "  tradebook_long.loc[\n"
     ]
    },
    {
     "name": "stdout",
     "output_type": "stream",
     "text": [
      "EMA:54, X:22, PCT:0.25\n"
     ]
    },
    {
     "name": "stderr",
     "output_type": "stream",
     "text": [
      "/tmp/ipykernel_37183/3149794742.py:132: FutureWarning: Setting an item of incompatible dtype is deprecated and will raise an error in a future version of pandas. Value 'Trailing SL Hit' has dtype incompatible with float64, please explicitly cast to a compatible dtype first.\n",
      "  tradebook_long.loc[\n"
     ]
    },
    {
     "name": "stdout",
     "output_type": "stream",
     "text": [
      "EMA:54, X:25, PCT:0.1\n"
     ]
    },
    {
     "name": "stderr",
     "output_type": "stream",
     "text": [
      "/tmp/ipykernel_37183/3149794742.py:132: FutureWarning: Setting an item of incompatible dtype is deprecated and will raise an error in a future version of pandas. Value 'Trailing SL Hit' has dtype incompatible with float64, please explicitly cast to a compatible dtype first.\n",
      "  tradebook_long.loc[\n"
     ]
    },
    {
     "name": "stdout",
     "output_type": "stream",
     "text": [
      "EMA:54, X:25, PCT:0.25\n"
     ]
    },
    {
     "name": "stderr",
     "output_type": "stream",
     "text": [
      "/tmp/ipykernel_37183/3149794742.py:132: FutureWarning: Setting an item of incompatible dtype is deprecated and will raise an error in a future version of pandas. Value 'Trailing SL Hit' has dtype incompatible with float64, please explicitly cast to a compatible dtype first.\n",
      "  tradebook_long.loc[\n"
     ]
    },
    {
     "name": "stdout",
     "output_type": "stream",
     "text": [
      "EMA:54, X:28, PCT:0.1\n"
     ]
    },
    {
     "name": "stderr",
     "output_type": "stream",
     "text": [
      "/tmp/ipykernel_37183/3149794742.py:132: FutureWarning: Setting an item of incompatible dtype is deprecated and will raise an error in a future version of pandas. Value 'Trailing SL Hit' has dtype incompatible with float64, please explicitly cast to a compatible dtype first.\n",
      "  tradebook_long.loc[\n"
     ]
    },
    {
     "name": "stdout",
     "output_type": "stream",
     "text": [
      "EMA:54, X:28, PCT:0.25\n"
     ]
    },
    {
     "name": "stderr",
     "output_type": "stream",
     "text": [
      "/tmp/ipykernel_37183/3149794742.py:132: FutureWarning: Setting an item of incompatible dtype is deprecated and will raise an error in a future version of pandas. Value 'Trailing SL Hit' has dtype incompatible with float64, please explicitly cast to a compatible dtype first.\n",
      "  tradebook_long.loc[\n"
     ]
    },
    {
     "name": "stdout",
     "output_type": "stream",
     "text": [
      "EMA:54, X:31, PCT:0.1\n"
     ]
    },
    {
     "name": "stderr",
     "output_type": "stream",
     "text": [
      "/tmp/ipykernel_37183/3149794742.py:132: FutureWarning: Setting an item of incompatible dtype is deprecated and will raise an error in a future version of pandas. Value 'Trailing SL Hit' has dtype incompatible with float64, please explicitly cast to a compatible dtype first.\n",
      "  tradebook_long.loc[\n"
     ]
    },
    {
     "name": "stdout",
     "output_type": "stream",
     "text": [
      "EMA:54, X:31, PCT:0.25\n"
     ]
    },
    {
     "name": "stderr",
     "output_type": "stream",
     "text": [
      "/tmp/ipykernel_37183/3149794742.py:132: FutureWarning: Setting an item of incompatible dtype is deprecated and will raise an error in a future version of pandas. Value 'Trailing SL Hit' has dtype incompatible with float64, please explicitly cast to a compatible dtype first.\n",
      "  tradebook_long.loc[\n"
     ]
    },
    {
     "name": "stdout",
     "output_type": "stream",
     "text": [
      "EMA:54, X:34, PCT:0.1\n"
     ]
    },
    {
     "name": "stderr",
     "output_type": "stream",
     "text": [
      "/tmp/ipykernel_37183/3149794742.py:132: FutureWarning: Setting an item of incompatible dtype is deprecated and will raise an error in a future version of pandas. Value 'Trailing SL Hit' has dtype incompatible with float64, please explicitly cast to a compatible dtype first.\n",
      "  tradebook_long.loc[\n"
     ]
    },
    {
     "name": "stdout",
     "output_type": "stream",
     "text": [
      "EMA:54, X:34, PCT:0.25\n"
     ]
    },
    {
     "name": "stderr",
     "output_type": "stream",
     "text": [
      "/tmp/ipykernel_37183/3149794742.py:132: FutureWarning: Setting an item of incompatible dtype is deprecated and will raise an error in a future version of pandas. Value 'Trailing SL Hit' has dtype incompatible with float64, please explicitly cast to a compatible dtype first.\n",
      "  tradebook_long.loc[\n"
     ]
    },
    {
     "name": "stdout",
     "output_type": "stream",
     "text": [
      "EMA:56, X:4, PCT:0.1\n"
     ]
    },
    {
     "name": "stderr",
     "output_type": "stream",
     "text": [
      "/tmp/ipykernel_37183/3149794742.py:132: FutureWarning: Setting an item of incompatible dtype is deprecated and will raise an error in a future version of pandas. Value 'Trailing SL Hit' has dtype incompatible with float64, please explicitly cast to a compatible dtype first.\n",
      "  tradebook_long.loc[\n"
     ]
    },
    {
     "name": "stdout",
     "output_type": "stream",
     "text": [
      "EMA:56, X:4, PCT:0.25\n"
     ]
    },
    {
     "name": "stderr",
     "output_type": "stream",
     "text": [
      "/tmp/ipykernel_37183/3149794742.py:132: FutureWarning: Setting an item of incompatible dtype is deprecated and will raise an error in a future version of pandas. Value 'Trailing SL Hit' has dtype incompatible with float64, please explicitly cast to a compatible dtype first.\n",
      "  tradebook_long.loc[\n"
     ]
    },
    {
     "name": "stdout",
     "output_type": "stream",
     "text": [
      "EMA:56, X:7, PCT:0.1\n"
     ]
    },
    {
     "name": "stderr",
     "output_type": "stream",
     "text": [
      "/tmp/ipykernel_37183/3149794742.py:132: FutureWarning: Setting an item of incompatible dtype is deprecated and will raise an error in a future version of pandas. Value 'Trailing SL Hit' has dtype incompatible with float64, please explicitly cast to a compatible dtype first.\n",
      "  tradebook_long.loc[\n"
     ]
    },
    {
     "name": "stdout",
     "output_type": "stream",
     "text": [
      "EMA:56, X:7, PCT:0.25\n"
     ]
    },
    {
     "name": "stderr",
     "output_type": "stream",
     "text": [
      "/tmp/ipykernel_37183/3149794742.py:132: FutureWarning: Setting an item of incompatible dtype is deprecated and will raise an error in a future version of pandas. Value 'Trailing SL Hit' has dtype incompatible with float64, please explicitly cast to a compatible dtype first.\n",
      "  tradebook_long.loc[\n"
     ]
    },
    {
     "name": "stdout",
     "output_type": "stream",
     "text": [
      "EMA:56, X:10, PCT:0.1\n"
     ]
    },
    {
     "name": "stderr",
     "output_type": "stream",
     "text": [
      "/tmp/ipykernel_37183/3149794742.py:132: FutureWarning: Setting an item of incompatible dtype is deprecated and will raise an error in a future version of pandas. Value 'Trailing SL Hit' has dtype incompatible with float64, please explicitly cast to a compatible dtype first.\n",
      "  tradebook_long.loc[\n"
     ]
    },
    {
     "name": "stdout",
     "output_type": "stream",
     "text": [
      "EMA:56, X:10, PCT:0.25\n"
     ]
    },
    {
     "name": "stderr",
     "output_type": "stream",
     "text": [
      "/tmp/ipykernel_37183/3149794742.py:132: FutureWarning: Setting an item of incompatible dtype is deprecated and will raise an error in a future version of pandas. Value 'Trailing SL Hit' has dtype incompatible with float64, please explicitly cast to a compatible dtype first.\n",
      "  tradebook_long.loc[\n"
     ]
    },
    {
     "name": "stdout",
     "output_type": "stream",
     "text": [
      "EMA:56, X:13, PCT:0.1\n"
     ]
    },
    {
     "name": "stderr",
     "output_type": "stream",
     "text": [
      "/tmp/ipykernel_37183/3149794742.py:132: FutureWarning: Setting an item of incompatible dtype is deprecated and will raise an error in a future version of pandas. Value 'Trailing SL Hit' has dtype incompatible with float64, please explicitly cast to a compatible dtype first.\n",
      "  tradebook_long.loc[\n"
     ]
    },
    {
     "name": "stdout",
     "output_type": "stream",
     "text": [
      "EMA:56, X:13, PCT:0.25\n"
     ]
    },
    {
     "name": "stderr",
     "output_type": "stream",
     "text": [
      "/tmp/ipykernel_37183/3149794742.py:132: FutureWarning: Setting an item of incompatible dtype is deprecated and will raise an error in a future version of pandas. Value 'Trailing SL Hit' has dtype incompatible with float64, please explicitly cast to a compatible dtype first.\n",
      "  tradebook_long.loc[\n"
     ]
    },
    {
     "name": "stdout",
     "output_type": "stream",
     "text": [
      "EMA:56, X:16, PCT:0.1\n"
     ]
    },
    {
     "name": "stderr",
     "output_type": "stream",
     "text": [
      "/tmp/ipykernel_37183/3149794742.py:132: FutureWarning: Setting an item of incompatible dtype is deprecated and will raise an error in a future version of pandas. Value 'Trailing SL Hit' has dtype incompatible with float64, please explicitly cast to a compatible dtype first.\n",
      "  tradebook_long.loc[\n"
     ]
    },
    {
     "name": "stdout",
     "output_type": "stream",
     "text": [
      "EMA:56, X:16, PCT:0.25\n"
     ]
    },
    {
     "name": "stderr",
     "output_type": "stream",
     "text": [
      "/tmp/ipykernel_37183/3149794742.py:132: FutureWarning: Setting an item of incompatible dtype is deprecated and will raise an error in a future version of pandas. Value 'Trailing SL Hit' has dtype incompatible with float64, please explicitly cast to a compatible dtype first.\n",
      "  tradebook_long.loc[\n"
     ]
    },
    {
     "name": "stdout",
     "output_type": "stream",
     "text": [
      "EMA:56, X:19, PCT:0.1\n"
     ]
    },
    {
     "name": "stderr",
     "output_type": "stream",
     "text": [
      "/tmp/ipykernel_37183/3149794742.py:132: FutureWarning: Setting an item of incompatible dtype is deprecated and will raise an error in a future version of pandas. Value 'Trailing SL Hit' has dtype incompatible with float64, please explicitly cast to a compatible dtype first.\n",
      "  tradebook_long.loc[\n"
     ]
    },
    {
     "name": "stdout",
     "output_type": "stream",
     "text": [
      "EMA:56, X:19, PCT:0.25\n"
     ]
    },
    {
     "name": "stderr",
     "output_type": "stream",
     "text": [
      "/tmp/ipykernel_37183/3149794742.py:132: FutureWarning: Setting an item of incompatible dtype is deprecated and will raise an error in a future version of pandas. Value 'Trailing SL Hit' has dtype incompatible with float64, please explicitly cast to a compatible dtype first.\n",
      "  tradebook_long.loc[\n"
     ]
    },
    {
     "name": "stdout",
     "output_type": "stream",
     "text": [
      "EMA:56, X:22, PCT:0.1\n"
     ]
    },
    {
     "name": "stderr",
     "output_type": "stream",
     "text": [
      "/tmp/ipykernel_37183/3149794742.py:132: FutureWarning: Setting an item of incompatible dtype is deprecated and will raise an error in a future version of pandas. Value 'Trailing SL Hit' has dtype incompatible with float64, please explicitly cast to a compatible dtype first.\n",
      "  tradebook_long.loc[\n"
     ]
    },
    {
     "name": "stdout",
     "output_type": "stream",
     "text": [
      "EMA:56, X:22, PCT:0.25\n"
     ]
    },
    {
     "name": "stderr",
     "output_type": "stream",
     "text": [
      "/tmp/ipykernel_37183/3149794742.py:132: FutureWarning: Setting an item of incompatible dtype is deprecated and will raise an error in a future version of pandas. Value 'Trailing SL Hit' has dtype incompatible with float64, please explicitly cast to a compatible dtype first.\n",
      "  tradebook_long.loc[\n"
     ]
    },
    {
     "name": "stdout",
     "output_type": "stream",
     "text": [
      "EMA:56, X:25, PCT:0.1\n"
     ]
    },
    {
     "name": "stderr",
     "output_type": "stream",
     "text": [
      "/tmp/ipykernel_37183/3149794742.py:132: FutureWarning: Setting an item of incompatible dtype is deprecated and will raise an error in a future version of pandas. Value 'Trailing SL Hit' has dtype incompatible with float64, please explicitly cast to a compatible dtype first.\n",
      "  tradebook_long.loc[\n"
     ]
    },
    {
     "name": "stdout",
     "output_type": "stream",
     "text": [
      "EMA:56, X:25, PCT:0.25\n"
     ]
    },
    {
     "name": "stderr",
     "output_type": "stream",
     "text": [
      "/tmp/ipykernel_37183/3149794742.py:132: FutureWarning: Setting an item of incompatible dtype is deprecated and will raise an error in a future version of pandas. Value 'Trailing SL Hit' has dtype incompatible with float64, please explicitly cast to a compatible dtype first.\n",
      "  tradebook_long.loc[\n"
     ]
    },
    {
     "name": "stdout",
     "output_type": "stream",
     "text": [
      "EMA:56, X:28, PCT:0.1\n"
     ]
    },
    {
     "name": "stderr",
     "output_type": "stream",
     "text": [
      "/tmp/ipykernel_37183/3149794742.py:132: FutureWarning: Setting an item of incompatible dtype is deprecated and will raise an error in a future version of pandas. Value 'Trailing SL Hit' has dtype incompatible with float64, please explicitly cast to a compatible dtype first.\n",
      "  tradebook_long.loc[\n"
     ]
    },
    {
     "name": "stdout",
     "output_type": "stream",
     "text": [
      "EMA:56, X:28, PCT:0.25\n"
     ]
    },
    {
     "name": "stderr",
     "output_type": "stream",
     "text": [
      "/tmp/ipykernel_37183/3149794742.py:132: FutureWarning: Setting an item of incompatible dtype is deprecated and will raise an error in a future version of pandas. Value 'Trailing SL Hit' has dtype incompatible with float64, please explicitly cast to a compatible dtype first.\n",
      "  tradebook_long.loc[\n"
     ]
    },
    {
     "name": "stdout",
     "output_type": "stream",
     "text": [
      "EMA:56, X:31, PCT:0.1\n"
     ]
    },
    {
     "name": "stderr",
     "output_type": "stream",
     "text": [
      "/tmp/ipykernel_37183/3149794742.py:132: FutureWarning: Setting an item of incompatible dtype is deprecated and will raise an error in a future version of pandas. Value 'Trailing SL Hit' has dtype incompatible with float64, please explicitly cast to a compatible dtype first.\n",
      "  tradebook_long.loc[\n"
     ]
    },
    {
     "name": "stdout",
     "output_type": "stream",
     "text": [
      "        Total ROI Total Trades Win Rate Avg Profit% per Trade Avg Loss% per Trade Max Drawdown ROI/DD Ratio              Variation\n",
      "2018      94.0546           56  37.5000                7.9421             -2.0780     -20.4214       4.6057  EMA:56, X:31, PCT:0.1\n",
      "2019      53.6707           58  36.2069                6.3484             -2.1526     -18.7886       2.8566  EMA:56, X:31, PCT:0.1\n",
      "2020      87.0276           60  31.6667                9.1615             -2.1230     -15.2213       5.7175  EMA:56, X:31, PCT:0.1\n",
      "2021     150.0627           55  43.6364                8.3719             -1.6407     -17.5112       8.5695  EMA:56, X:31, PCT:0.1\n",
      "2022     114.6071           49  34.6939               10.5836             -2.0411     -17.5088       6.5457  EMA:56, X:31, PCT:0.1\n",
      "2023     101.3772           65  29.2308                9.9437             -1.9033     -19.1486       5.2942  EMA:56, X:31, PCT:0.1\n",
      "2024      48.4685           56  37.5000                5.4889             -1.9085     -15.8796       3.0523  EMA:56, X:31, PCT:0.1\n",
      "Overall  649.2684          399  35.5890                8.1635             -1.9842     -20.4946      31.6799  EMA:56, X:31, PCT:0.1\n",
      "EMA:56, X:31, PCT:0.25\n"
     ]
    },
    {
     "name": "stderr",
     "output_type": "stream",
     "text": [
      "/tmp/ipykernel_37183/3149794742.py:132: FutureWarning: Setting an item of incompatible dtype is deprecated and will raise an error in a future version of pandas. Value 'Trailing SL Hit' has dtype incompatible with float64, please explicitly cast to a compatible dtype first.\n",
      "  tradebook_long.loc[\n"
     ]
    },
    {
     "name": "stdout",
     "output_type": "stream",
     "text": [
      "EMA:56, X:34, PCT:0.1\n"
     ]
    },
    {
     "name": "stderr",
     "output_type": "stream",
     "text": [
      "/tmp/ipykernel_37183/3149794742.py:132: FutureWarning: Setting an item of incompatible dtype is deprecated and will raise an error in a future version of pandas. Value 'Trailing SL Hit' has dtype incompatible with float64, please explicitly cast to a compatible dtype first.\n",
      "  tradebook_long.loc[\n"
     ]
    },
    {
     "name": "stdout",
     "output_type": "stream",
     "text": [
      "        Total ROI Total Trades Win Rate Avg Profit% per Trade Avg Loss% per Trade Max Drawdown ROI/DD Ratio              Variation\n",
      "2018      84.0619           56  37.5000                7.5876             -2.1508     -17.1505       4.9014  EMA:56, X:34, PCT:0.1\n",
      "2019      57.5566           56  37.5000                6.2411             -2.1002     -17.4001       3.3078  EMA:56, X:34, PCT:0.1\n",
      "2020      98.7389           58  31.0345               10.2161             -2.1288     -16.1288       6.1219  EMA:56, X:34, PCT:0.1\n",
      "2021     127.7932           56  39.2857                8.4242             -1.6923     -17.8566       7.1566  EMA:56, X:34, PCT:0.1\n",
      "2022     110.3784           48  33.3333               10.9699             -2.0356     -16.0313       6.8852  EMA:56, X:34, PCT:0.1\n",
      "2023     102.8116           64  29.6875                9.9096             -1.8993     -20.0292       5.1331  EMA:56, X:34, PCT:0.1\n",
      "2024      45.6732           57  36.8421                5.5488             -1.9681     -16.2724       2.8068  EMA:56, X:34, PCT:0.1\n",
      "Overall  627.0137          395  34.9367                8.2605             -1.9959     -20.0292      31.3050  EMA:56, X:34, PCT:0.1\n",
      "EMA:56, X:34, PCT:0.25\n"
     ]
    },
    {
     "name": "stderr",
     "output_type": "stream",
     "text": [
      "/tmp/ipykernel_37183/3149794742.py:132: FutureWarning: Setting an item of incompatible dtype is deprecated and will raise an error in a future version of pandas. Value 'Trailing SL Hit' has dtype incompatible with float64, please explicitly cast to a compatible dtype first.\n",
      "  tradebook_long.loc[\n"
     ]
    },
    {
     "name": "stdout",
     "output_type": "stream",
     "text": [
      "EMA:58, X:4, PCT:0.1\n"
     ]
    },
    {
     "name": "stderr",
     "output_type": "stream",
     "text": [
      "/tmp/ipykernel_37183/3149794742.py:132: FutureWarning: Setting an item of incompatible dtype is deprecated and will raise an error in a future version of pandas. Value 'Trailing SL Hit' has dtype incompatible with float64, please explicitly cast to a compatible dtype first.\n",
      "  tradebook_long.loc[\n"
     ]
    },
    {
     "name": "stdout",
     "output_type": "stream",
     "text": [
      "EMA:58, X:4, PCT:0.25\n"
     ]
    },
    {
     "name": "stderr",
     "output_type": "stream",
     "text": [
      "/tmp/ipykernel_37183/3149794742.py:132: FutureWarning: Setting an item of incompatible dtype is deprecated and will raise an error in a future version of pandas. Value 'Trailing SL Hit' has dtype incompatible with float64, please explicitly cast to a compatible dtype first.\n",
      "  tradebook_long.loc[\n"
     ]
    },
    {
     "name": "stdout",
     "output_type": "stream",
     "text": [
      "EMA:58, X:7, PCT:0.1\n"
     ]
    },
    {
     "name": "stderr",
     "output_type": "stream",
     "text": [
      "/tmp/ipykernel_37183/3149794742.py:132: FutureWarning: Setting an item of incompatible dtype is deprecated and will raise an error in a future version of pandas. Value 'Trailing SL Hit' has dtype incompatible with float64, please explicitly cast to a compatible dtype first.\n",
      "  tradebook_long.loc[\n"
     ]
    },
    {
     "name": "stdout",
     "output_type": "stream",
     "text": [
      "EMA:58, X:7, PCT:0.25\n"
     ]
    },
    {
     "name": "stderr",
     "output_type": "stream",
     "text": [
      "/tmp/ipykernel_37183/3149794742.py:132: FutureWarning: Setting an item of incompatible dtype is deprecated and will raise an error in a future version of pandas. Value 'Trailing SL Hit' has dtype incompatible with float64, please explicitly cast to a compatible dtype first.\n",
      "  tradebook_long.loc[\n"
     ]
    },
    {
     "name": "stdout",
     "output_type": "stream",
     "text": [
      "EMA:58, X:10, PCT:0.1\n"
     ]
    },
    {
     "name": "stderr",
     "output_type": "stream",
     "text": [
      "/tmp/ipykernel_37183/3149794742.py:132: FutureWarning: Setting an item of incompatible dtype is deprecated and will raise an error in a future version of pandas. Value 'Trailing SL Hit' has dtype incompatible with float64, please explicitly cast to a compatible dtype first.\n",
      "  tradebook_long.loc[\n"
     ]
    },
    {
     "name": "stdout",
     "output_type": "stream",
     "text": [
      "EMA:58, X:10, PCT:0.25\n"
     ]
    },
    {
     "name": "stderr",
     "output_type": "stream",
     "text": [
      "/tmp/ipykernel_37183/3149794742.py:132: FutureWarning: Setting an item of incompatible dtype is deprecated and will raise an error in a future version of pandas. Value 'Trailing SL Hit' has dtype incompatible with float64, please explicitly cast to a compatible dtype first.\n",
      "  tradebook_long.loc[\n"
     ]
    },
    {
     "name": "stdout",
     "output_type": "stream",
     "text": [
      "EMA:58, X:13, PCT:0.1\n"
     ]
    },
    {
     "name": "stderr",
     "output_type": "stream",
     "text": [
      "/tmp/ipykernel_37183/3149794742.py:132: FutureWarning: Setting an item of incompatible dtype is deprecated and will raise an error in a future version of pandas. Value 'Trailing SL Hit' has dtype incompatible with float64, please explicitly cast to a compatible dtype first.\n",
      "  tradebook_long.loc[\n"
     ]
    },
    {
     "name": "stdout",
     "output_type": "stream",
     "text": [
      "EMA:58, X:13, PCT:0.25\n"
     ]
    },
    {
     "name": "stderr",
     "output_type": "stream",
     "text": [
      "/tmp/ipykernel_37183/3149794742.py:132: FutureWarning: Setting an item of incompatible dtype is deprecated and will raise an error in a future version of pandas. Value 'Trailing SL Hit' has dtype incompatible with float64, please explicitly cast to a compatible dtype first.\n",
      "  tradebook_long.loc[\n"
     ]
    },
    {
     "name": "stdout",
     "output_type": "stream",
     "text": [
      "EMA:58, X:16, PCT:0.1\n"
     ]
    },
    {
     "name": "stderr",
     "output_type": "stream",
     "text": [
      "/tmp/ipykernel_37183/3149794742.py:132: FutureWarning: Setting an item of incompatible dtype is deprecated and will raise an error in a future version of pandas. Value 'Trailing SL Hit' has dtype incompatible with float64, please explicitly cast to a compatible dtype first.\n",
      "  tradebook_long.loc[\n"
     ]
    },
    {
     "name": "stdout",
     "output_type": "stream",
     "text": [
      "EMA:58, X:16, PCT:0.25\n"
     ]
    },
    {
     "name": "stderr",
     "output_type": "stream",
     "text": [
      "/tmp/ipykernel_37183/3149794742.py:132: FutureWarning: Setting an item of incompatible dtype is deprecated and will raise an error in a future version of pandas. Value 'Trailing SL Hit' has dtype incompatible with float64, please explicitly cast to a compatible dtype first.\n",
      "  tradebook_long.loc[\n"
     ]
    },
    {
     "name": "stdout",
     "output_type": "stream",
     "text": [
      "EMA:58, X:19, PCT:0.1\n"
     ]
    },
    {
     "name": "stderr",
     "output_type": "stream",
     "text": [
      "/tmp/ipykernel_37183/3149794742.py:132: FutureWarning: Setting an item of incompatible dtype is deprecated and will raise an error in a future version of pandas. Value 'Trailing SL Hit' has dtype incompatible with float64, please explicitly cast to a compatible dtype first.\n",
      "  tradebook_long.loc[\n"
     ]
    },
    {
     "name": "stdout",
     "output_type": "stream",
     "text": [
      "EMA:58, X:19, PCT:0.25\n"
     ]
    },
    {
     "name": "stderr",
     "output_type": "stream",
     "text": [
      "/tmp/ipykernel_37183/3149794742.py:132: FutureWarning: Setting an item of incompatible dtype is deprecated and will raise an error in a future version of pandas. Value 'Trailing SL Hit' has dtype incompatible with float64, please explicitly cast to a compatible dtype first.\n",
      "  tradebook_long.loc[\n"
     ]
    },
    {
     "name": "stdout",
     "output_type": "stream",
     "text": [
      "EMA:58, X:22, PCT:0.1\n"
     ]
    },
    {
     "name": "stderr",
     "output_type": "stream",
     "text": [
      "/tmp/ipykernel_37183/3149794742.py:132: FutureWarning: Setting an item of incompatible dtype is deprecated and will raise an error in a future version of pandas. Value 'Trailing SL Hit' has dtype incompatible with float64, please explicitly cast to a compatible dtype first.\n",
      "  tradebook_long.loc[\n"
     ]
    },
    {
     "name": "stdout",
     "output_type": "stream",
     "text": [
      "EMA:58, X:22, PCT:0.25\n"
     ]
    },
    {
     "name": "stderr",
     "output_type": "stream",
     "text": [
      "/tmp/ipykernel_37183/3149794742.py:132: FutureWarning: Setting an item of incompatible dtype is deprecated and will raise an error in a future version of pandas. Value 'Trailing SL Hit' has dtype incompatible with float64, please explicitly cast to a compatible dtype first.\n",
      "  tradebook_long.loc[\n"
     ]
    },
    {
     "name": "stdout",
     "output_type": "stream",
     "text": [
      "EMA:58, X:25, PCT:0.1\n"
     ]
    },
    {
     "name": "stderr",
     "output_type": "stream",
     "text": [
      "/tmp/ipykernel_37183/3149794742.py:132: FutureWarning: Setting an item of incompatible dtype is deprecated and will raise an error in a future version of pandas. Value 'Trailing SL Hit' has dtype incompatible with float64, please explicitly cast to a compatible dtype first.\n",
      "  tradebook_long.loc[\n"
     ]
    },
    {
     "name": "stdout",
     "output_type": "stream",
     "text": [
      "EMA:58, X:25, PCT:0.25\n"
     ]
    },
    {
     "name": "stderr",
     "output_type": "stream",
     "text": [
      "/tmp/ipykernel_37183/3149794742.py:132: FutureWarning: Setting an item of incompatible dtype is deprecated and will raise an error in a future version of pandas. Value 'Trailing SL Hit' has dtype incompatible with float64, please explicitly cast to a compatible dtype first.\n",
      "  tradebook_long.loc[\n"
     ]
    },
    {
     "name": "stdout",
     "output_type": "stream",
     "text": [
      "EMA:58, X:28, PCT:0.1\n"
     ]
    },
    {
     "name": "stderr",
     "output_type": "stream",
     "text": [
      "/tmp/ipykernel_37183/3149794742.py:132: FutureWarning: Setting an item of incompatible dtype is deprecated and will raise an error in a future version of pandas. Value 'Trailing SL Hit' has dtype incompatible with float64, please explicitly cast to a compatible dtype first.\n",
      "  tradebook_long.loc[\n"
     ]
    },
    {
     "name": "stdout",
     "output_type": "stream",
     "text": [
      "EMA:58, X:28, PCT:0.25\n"
     ]
    },
    {
     "name": "stderr",
     "output_type": "stream",
     "text": [
      "/tmp/ipykernel_37183/3149794742.py:132: FutureWarning: Setting an item of incompatible dtype is deprecated and will raise an error in a future version of pandas. Value 'Trailing SL Hit' has dtype incompatible with float64, please explicitly cast to a compatible dtype first.\n",
      "  tradebook_long.loc[\n"
     ]
    },
    {
     "name": "stdout",
     "output_type": "stream",
     "text": [
      "EMA:58, X:31, PCT:0.1\n"
     ]
    },
    {
     "name": "stderr",
     "output_type": "stream",
     "text": [
      "/tmp/ipykernel_37183/3149794742.py:132: FutureWarning: Setting an item of incompatible dtype is deprecated and will raise an error in a future version of pandas. Value 'Trailing SL Hit' has dtype incompatible with float64, please explicitly cast to a compatible dtype first.\n",
      "  tradebook_long.loc[\n"
     ]
    },
    {
     "name": "stdout",
     "output_type": "stream",
     "text": [
      "EMA:58, X:31, PCT:0.25\n"
     ]
    },
    {
     "name": "stderr",
     "output_type": "stream",
     "text": [
      "/tmp/ipykernel_37183/3149794742.py:132: FutureWarning: Setting an item of incompatible dtype is deprecated and will raise an error in a future version of pandas. Value 'Trailing SL Hit' has dtype incompatible with float64, please explicitly cast to a compatible dtype first.\n",
      "  tradebook_long.loc[\n"
     ]
    },
    {
     "name": "stdout",
     "output_type": "stream",
     "text": [
      "EMA:58, X:34, PCT:0.1\n"
     ]
    },
    {
     "name": "stderr",
     "output_type": "stream",
     "text": [
      "/tmp/ipykernel_37183/3149794742.py:132: FutureWarning: Setting an item of incompatible dtype is deprecated and will raise an error in a future version of pandas. Value 'Trailing SL Hit' has dtype incompatible with float64, please explicitly cast to a compatible dtype first.\n",
      "  tradebook_long.loc[\n"
     ]
    },
    {
     "name": "stdout",
     "output_type": "stream",
     "text": [
      "        Total ROI Total Trades Win Rate Avg Profit% per Trade Avg Loss% per Trade Max Drawdown ROI/DD Ratio              Variation\n",
      "2018      83.2374           56  37.5000                7.5208             -2.1343     -17.1505       4.8534  EMA:58, X:34, PCT:0.1\n",
      "2019      59.6863           55  36.3636                6.5409             -2.0323     -16.4579       3.6266  EMA:58, X:34, PCT:0.1\n",
      "2020     104.3699           57  33.3333                9.8431             -2.1750     -14.4125       7.2416  EMA:58, X:34, PCT:0.1\n",
      "2021     121.1824           56  37.5000                8.4286             -1.5948     -18.1907       6.6618  EMA:58, X:34, PCT:0.1\n",
      "2022     106.2033           49  32.6531               10.7065             -1.9728     -16.0313       6.6247  EMA:58, X:34, PCT:0.1\n",
      "2023     100.6923           64  29.6875                9.8058             -1.9026     -20.0292       5.0273  EMA:58, X:34, PCT:0.1\n",
      "2024      48.3699           56  37.5000                5.5488             -1.9473     -13.2364       3.6543  EMA:58, X:34, PCT:0.1\n",
      "Overall  623.7415          393  34.8601                8.2256             -1.9655     -20.6168      30.2540  EMA:58, X:34, PCT:0.1\n",
      "EMA:58, X:34, PCT:0.25\n"
     ]
    },
    {
     "name": "stderr",
     "output_type": "stream",
     "text": [
      "/tmp/ipykernel_37183/3149794742.py:132: FutureWarning: Setting an item of incompatible dtype is deprecated and will raise an error in a future version of pandas. Value 'Trailing SL Hit' has dtype incompatible with float64, please explicitly cast to a compatible dtype first.\n",
      "  tradebook_long.loc[\n"
     ]
    },
    {
     "name": "stdout",
     "output_type": "stream",
     "text": [
      "EMA:60, X:4, PCT:0.1\n"
     ]
    },
    {
     "name": "stderr",
     "output_type": "stream",
     "text": [
      "/tmp/ipykernel_37183/3149794742.py:132: FutureWarning: Setting an item of incompatible dtype is deprecated and will raise an error in a future version of pandas. Value 'Trailing SL Hit' has dtype incompatible with float64, please explicitly cast to a compatible dtype first.\n",
      "  tradebook_long.loc[\n"
     ]
    },
    {
     "name": "stdout",
     "output_type": "stream",
     "text": [
      "EMA:60, X:4, PCT:0.25\n"
     ]
    },
    {
     "name": "stderr",
     "output_type": "stream",
     "text": [
      "/tmp/ipykernel_37183/3149794742.py:132: FutureWarning: Setting an item of incompatible dtype is deprecated and will raise an error in a future version of pandas. Value 'Trailing SL Hit' has dtype incompatible with float64, please explicitly cast to a compatible dtype first.\n",
      "  tradebook_long.loc[\n"
     ]
    },
    {
     "name": "stdout",
     "output_type": "stream",
     "text": [
      "EMA:60, X:7, PCT:0.1\n"
     ]
    },
    {
     "name": "stderr",
     "output_type": "stream",
     "text": [
      "/tmp/ipykernel_37183/3149794742.py:132: FutureWarning: Setting an item of incompatible dtype is deprecated and will raise an error in a future version of pandas. Value 'Trailing SL Hit' has dtype incompatible with float64, please explicitly cast to a compatible dtype first.\n",
      "  tradebook_long.loc[\n"
     ]
    },
    {
     "name": "stdout",
     "output_type": "stream",
     "text": [
      "EMA:60, X:7, PCT:0.25\n"
     ]
    },
    {
     "name": "stderr",
     "output_type": "stream",
     "text": [
      "/tmp/ipykernel_37183/3149794742.py:132: FutureWarning: Setting an item of incompatible dtype is deprecated and will raise an error in a future version of pandas. Value 'Trailing SL Hit' has dtype incompatible with float64, please explicitly cast to a compatible dtype first.\n",
      "  tradebook_long.loc[\n"
     ]
    },
    {
     "name": "stdout",
     "output_type": "stream",
     "text": [
      "EMA:60, X:10, PCT:0.1\n"
     ]
    },
    {
     "name": "stderr",
     "output_type": "stream",
     "text": [
      "/tmp/ipykernel_37183/3149794742.py:132: FutureWarning: Setting an item of incompatible dtype is deprecated and will raise an error in a future version of pandas. Value 'Trailing SL Hit' has dtype incompatible with float64, please explicitly cast to a compatible dtype first.\n",
      "  tradebook_long.loc[\n"
     ]
    },
    {
     "name": "stdout",
     "output_type": "stream",
     "text": [
      "EMA:60, X:10, PCT:0.25\n"
     ]
    },
    {
     "name": "stderr",
     "output_type": "stream",
     "text": [
      "/tmp/ipykernel_37183/3149794742.py:132: FutureWarning: Setting an item of incompatible dtype is deprecated and will raise an error in a future version of pandas. Value 'Trailing SL Hit' has dtype incompatible with float64, please explicitly cast to a compatible dtype first.\n",
      "  tradebook_long.loc[\n"
     ]
    },
    {
     "name": "stdout",
     "output_type": "stream",
     "text": [
      "EMA:60, X:13, PCT:0.1\n"
     ]
    },
    {
     "name": "stderr",
     "output_type": "stream",
     "text": [
      "/tmp/ipykernel_37183/3149794742.py:132: FutureWarning: Setting an item of incompatible dtype is deprecated and will raise an error in a future version of pandas. Value 'Trailing SL Hit' has dtype incompatible with float64, please explicitly cast to a compatible dtype first.\n",
      "  tradebook_long.loc[\n"
     ]
    },
    {
     "name": "stdout",
     "output_type": "stream",
     "text": [
      "EMA:60, X:13, PCT:0.25\n"
     ]
    },
    {
     "name": "stderr",
     "output_type": "stream",
     "text": [
      "/tmp/ipykernel_37183/3149794742.py:132: FutureWarning: Setting an item of incompatible dtype is deprecated and will raise an error in a future version of pandas. Value 'Trailing SL Hit' has dtype incompatible with float64, please explicitly cast to a compatible dtype first.\n",
      "  tradebook_long.loc[\n"
     ]
    },
    {
     "name": "stdout",
     "output_type": "stream",
     "text": [
      "EMA:60, X:16, PCT:0.1\n"
     ]
    },
    {
     "name": "stderr",
     "output_type": "stream",
     "text": [
      "/tmp/ipykernel_37183/3149794742.py:132: FutureWarning: Setting an item of incompatible dtype is deprecated and will raise an error in a future version of pandas. Value 'Trailing SL Hit' has dtype incompatible with float64, please explicitly cast to a compatible dtype first.\n",
      "  tradebook_long.loc[\n"
     ]
    },
    {
     "name": "stdout",
     "output_type": "stream",
     "text": [
      "EMA:60, X:16, PCT:0.25\n"
     ]
    },
    {
     "name": "stderr",
     "output_type": "stream",
     "text": [
      "/tmp/ipykernel_37183/3149794742.py:132: FutureWarning: Setting an item of incompatible dtype is deprecated and will raise an error in a future version of pandas. Value 'Trailing SL Hit' has dtype incompatible with float64, please explicitly cast to a compatible dtype first.\n",
      "  tradebook_long.loc[\n"
     ]
    },
    {
     "name": "stdout",
     "output_type": "stream",
     "text": [
      "EMA:60, X:19, PCT:0.1\n"
     ]
    },
    {
     "name": "stderr",
     "output_type": "stream",
     "text": [
      "/tmp/ipykernel_37183/3149794742.py:132: FutureWarning: Setting an item of incompatible dtype is deprecated and will raise an error in a future version of pandas. Value 'Trailing SL Hit' has dtype incompatible with float64, please explicitly cast to a compatible dtype first.\n",
      "  tradebook_long.loc[\n"
     ]
    },
    {
     "name": "stdout",
     "output_type": "stream",
     "text": [
      "EMA:60, X:19, PCT:0.25\n"
     ]
    },
    {
     "name": "stderr",
     "output_type": "stream",
     "text": [
      "/tmp/ipykernel_37183/3149794742.py:132: FutureWarning: Setting an item of incompatible dtype is deprecated and will raise an error in a future version of pandas. Value 'Trailing SL Hit' has dtype incompatible with float64, please explicitly cast to a compatible dtype first.\n",
      "  tradebook_long.loc[\n"
     ]
    },
    {
     "name": "stdout",
     "output_type": "stream",
     "text": [
      "EMA:60, X:22, PCT:0.1\n"
     ]
    },
    {
     "name": "stderr",
     "output_type": "stream",
     "text": [
      "/tmp/ipykernel_37183/3149794742.py:132: FutureWarning: Setting an item of incompatible dtype is deprecated and will raise an error in a future version of pandas. Value 'Trailing SL Hit' has dtype incompatible with float64, please explicitly cast to a compatible dtype first.\n",
      "  tradebook_long.loc[\n"
     ]
    },
    {
     "name": "stdout",
     "output_type": "stream",
     "text": [
      "EMA:60, X:22, PCT:0.25\n"
     ]
    },
    {
     "name": "stderr",
     "output_type": "stream",
     "text": [
      "/tmp/ipykernel_37183/3149794742.py:132: FutureWarning: Setting an item of incompatible dtype is deprecated and will raise an error in a future version of pandas. Value 'Trailing SL Hit' has dtype incompatible with float64, please explicitly cast to a compatible dtype first.\n",
      "  tradebook_long.loc[\n"
     ]
    },
    {
     "name": "stdout",
     "output_type": "stream",
     "text": [
      "EMA:60, X:25, PCT:0.1\n"
     ]
    },
    {
     "name": "stderr",
     "output_type": "stream",
     "text": [
      "/tmp/ipykernel_37183/3149794742.py:132: FutureWarning: Setting an item of incompatible dtype is deprecated and will raise an error in a future version of pandas. Value 'Trailing SL Hit' has dtype incompatible with float64, please explicitly cast to a compatible dtype first.\n",
      "  tradebook_long.loc[\n"
     ]
    },
    {
     "name": "stdout",
     "output_type": "stream",
     "text": [
      "EMA:60, X:25, PCT:0.25\n"
     ]
    },
    {
     "name": "stderr",
     "output_type": "stream",
     "text": [
      "/tmp/ipykernel_37183/3149794742.py:132: FutureWarning: Setting an item of incompatible dtype is deprecated and will raise an error in a future version of pandas. Value 'Trailing SL Hit' has dtype incompatible with float64, please explicitly cast to a compatible dtype first.\n",
      "  tradebook_long.loc[\n"
     ]
    },
    {
     "name": "stdout",
     "output_type": "stream",
     "text": [
      "EMA:60, X:28, PCT:0.1\n"
     ]
    },
    {
     "name": "stderr",
     "output_type": "stream",
     "text": [
      "/tmp/ipykernel_37183/3149794742.py:132: FutureWarning: Setting an item of incompatible dtype is deprecated and will raise an error in a future version of pandas. Value 'Trailing SL Hit' has dtype incompatible with float64, please explicitly cast to a compatible dtype first.\n",
      "  tradebook_long.loc[\n"
     ]
    },
    {
     "name": "stdout",
     "output_type": "stream",
     "text": [
      "        Total ROI Total Trades Win Rate Avg Profit% per Trade Avg Loss% per Trade Max Drawdown ROI/DD Ratio              Variation\n",
      "2018     110.1214           54  38.8889                8.1656             -1.8593     -16.4435       6.6970  EMA:60, X:28, PCT:0.1\n",
      "2019      53.1053           60  35.0000                6.4382             -2.1051     -19.6105       2.7080  EMA:60, X:28, PCT:0.1\n",
      "2020      97.0218           57  35.0877                8.5589             -2.0042     -13.8559       7.0022  EMA:60, X:28, PCT:0.1\n",
      "2021     127.3388           54  35.1852                9.7063             -1.6309     -18.9114       6.7334  EMA:60, X:28, PCT:0.1\n",
      "2022     104.2952           53  32.0755               10.1550             -1.8983     -20.4149       5.1088  EMA:60, X:28, PCT:0.1\n",
      "2023     141.1121           65  29.2308               11.9647             -1.8743     -21.3405       6.6124  EMA:60, X:28, PCT:0.1\n",
      "2024      52.9775           53  39.6226                5.3403             -1.8490     -11.1890       4.7348  EMA:60, X:28, PCT:0.1\n",
      "Overall  685.9722          396  34.8485                8.5101             -1.8931     -21.3405      32.1442  EMA:60, X:28, PCT:0.1\n",
      "EMA:60, X:28, PCT:0.25\n"
     ]
    },
    {
     "name": "stderr",
     "output_type": "stream",
     "text": [
      "/tmp/ipykernel_37183/3149794742.py:132: FutureWarning: Setting an item of incompatible dtype is deprecated and will raise an error in a future version of pandas. Value 'Trailing SL Hit' has dtype incompatible with float64, please explicitly cast to a compatible dtype first.\n",
      "  tradebook_long.loc[\n"
     ]
    },
    {
     "name": "stdout",
     "output_type": "stream",
     "text": [
      "EMA:60, X:31, PCT:0.1\n"
     ]
    },
    {
     "name": "stderr",
     "output_type": "stream",
     "text": [
      "/tmp/ipykernel_37183/3149794742.py:132: FutureWarning: Setting an item of incompatible dtype is deprecated and will raise an error in a future version of pandas. Value 'Trailing SL Hit' has dtype incompatible with float64, please explicitly cast to a compatible dtype first.\n",
      "  tradebook_long.loc[\n"
     ]
    },
    {
     "name": "stdout",
     "output_type": "stream",
     "text": [
      "EMA:60, X:31, PCT:0.25\n"
     ]
    },
    {
     "name": "stderr",
     "output_type": "stream",
     "text": [
      "/tmp/ipykernel_37183/3149794742.py:132: FutureWarning: Setting an item of incompatible dtype is deprecated and will raise an error in a future version of pandas. Value 'Trailing SL Hit' has dtype incompatible with float64, please explicitly cast to a compatible dtype first.\n",
      "  tradebook_long.loc[\n"
     ]
    },
    {
     "name": "stdout",
     "output_type": "stream",
     "text": [
      "EMA:60, X:34, PCT:0.1\n"
     ]
    },
    {
     "name": "stderr",
     "output_type": "stream",
     "text": [
      "/tmp/ipykernel_37183/3149794742.py:132: FutureWarning: Setting an item of incompatible dtype is deprecated and will raise an error in a future version of pandas. Value 'Trailing SL Hit' has dtype incompatible with float64, please explicitly cast to a compatible dtype first.\n",
      "  tradebook_long.loc[\n"
     ]
    },
    {
     "name": "stdout",
     "output_type": "stream",
     "text": [
      "EMA:60, X:34, PCT:0.25\n"
     ]
    },
    {
     "name": "stderr",
     "output_type": "stream",
     "text": [
      "/tmp/ipykernel_37183/3149794742.py:132: FutureWarning: Setting an item of incompatible dtype is deprecated and will raise an error in a future version of pandas. Value 'Trailing SL Hit' has dtype incompatible with float64, please explicitly cast to a compatible dtype first.\n",
      "  tradebook_long.loc[\n"
     ]
    },
    {
     "name": "stdout",
     "output_type": "stream",
     "text": [
      "EMA:62, X:4, PCT:0.1\n"
     ]
    },
    {
     "name": "stderr",
     "output_type": "stream",
     "text": [
      "/tmp/ipykernel_37183/3149794742.py:132: FutureWarning: Setting an item of incompatible dtype is deprecated and will raise an error in a future version of pandas. Value 'Trailing SL Hit' has dtype incompatible with float64, please explicitly cast to a compatible dtype first.\n",
      "  tradebook_long.loc[\n"
     ]
    },
    {
     "name": "stdout",
     "output_type": "stream",
     "text": [
      "EMA:62, X:4, PCT:0.25\n"
     ]
    },
    {
     "name": "stderr",
     "output_type": "stream",
     "text": [
      "/tmp/ipykernel_37183/3149794742.py:132: FutureWarning: Setting an item of incompatible dtype is deprecated and will raise an error in a future version of pandas. Value 'Trailing SL Hit' has dtype incompatible with float64, please explicitly cast to a compatible dtype first.\n",
      "  tradebook_long.loc[\n"
     ]
    },
    {
     "name": "stdout",
     "output_type": "stream",
     "text": [
      "EMA:62, X:7, PCT:0.1\n"
     ]
    },
    {
     "name": "stderr",
     "output_type": "stream",
     "text": [
      "/tmp/ipykernel_37183/3149794742.py:132: FutureWarning: Setting an item of incompatible dtype is deprecated and will raise an error in a future version of pandas. Value 'Trailing SL Hit' has dtype incompatible with float64, please explicitly cast to a compatible dtype first.\n",
      "  tradebook_long.loc[\n"
     ]
    },
    {
     "name": "stdout",
     "output_type": "stream",
     "text": [
      "EMA:62, X:7, PCT:0.25\n"
     ]
    },
    {
     "name": "stderr",
     "output_type": "stream",
     "text": [
      "/tmp/ipykernel_37183/3149794742.py:132: FutureWarning: Setting an item of incompatible dtype is deprecated and will raise an error in a future version of pandas. Value 'Trailing SL Hit' has dtype incompatible with float64, please explicitly cast to a compatible dtype first.\n",
      "  tradebook_long.loc[\n"
     ]
    },
    {
     "name": "stdout",
     "output_type": "stream",
     "text": [
      "EMA:62, X:10, PCT:0.1\n"
     ]
    },
    {
     "name": "stderr",
     "output_type": "stream",
     "text": [
      "/tmp/ipykernel_37183/3149794742.py:132: FutureWarning: Setting an item of incompatible dtype is deprecated and will raise an error in a future version of pandas. Value 'Trailing SL Hit' has dtype incompatible with float64, please explicitly cast to a compatible dtype first.\n",
      "  tradebook_long.loc[\n"
     ]
    },
    {
     "name": "stdout",
     "output_type": "stream",
     "text": [
      "EMA:62, X:10, PCT:0.25\n"
     ]
    },
    {
     "name": "stderr",
     "output_type": "stream",
     "text": [
      "/tmp/ipykernel_37183/3149794742.py:132: FutureWarning: Setting an item of incompatible dtype is deprecated and will raise an error in a future version of pandas. Value 'Trailing SL Hit' has dtype incompatible with float64, please explicitly cast to a compatible dtype first.\n",
      "  tradebook_long.loc[\n"
     ]
    },
    {
     "name": "stdout",
     "output_type": "stream",
     "text": [
      "EMA:62, X:13, PCT:0.1\n"
     ]
    },
    {
     "name": "stderr",
     "output_type": "stream",
     "text": [
      "/tmp/ipykernel_37183/3149794742.py:132: FutureWarning: Setting an item of incompatible dtype is deprecated and will raise an error in a future version of pandas. Value 'Trailing SL Hit' has dtype incompatible with float64, please explicitly cast to a compatible dtype first.\n",
      "  tradebook_long.loc[\n"
     ]
    },
    {
     "name": "stdout",
     "output_type": "stream",
     "text": [
      "EMA:62, X:13, PCT:0.25\n"
     ]
    },
    {
     "name": "stderr",
     "output_type": "stream",
     "text": [
      "/tmp/ipykernel_37183/3149794742.py:132: FutureWarning: Setting an item of incompatible dtype is deprecated and will raise an error in a future version of pandas. Value 'Trailing SL Hit' has dtype incompatible with float64, please explicitly cast to a compatible dtype first.\n",
      "  tradebook_long.loc[\n"
     ]
    },
    {
     "name": "stdout",
     "output_type": "stream",
     "text": [
      "EMA:62, X:16, PCT:0.1\n"
     ]
    },
    {
     "name": "stderr",
     "output_type": "stream",
     "text": [
      "/tmp/ipykernel_37183/3149794742.py:132: FutureWarning: Setting an item of incompatible dtype is deprecated and will raise an error in a future version of pandas. Value 'Trailing SL Hit' has dtype incompatible with float64, please explicitly cast to a compatible dtype first.\n",
      "  tradebook_long.loc[\n"
     ]
    },
    {
     "name": "stdout",
     "output_type": "stream",
     "text": [
      "EMA:62, X:16, PCT:0.25\n"
     ]
    },
    {
     "name": "stderr",
     "output_type": "stream",
     "text": [
      "/tmp/ipykernel_37183/3149794742.py:132: FutureWarning: Setting an item of incompatible dtype is deprecated and will raise an error in a future version of pandas. Value 'Trailing SL Hit' has dtype incompatible with float64, please explicitly cast to a compatible dtype first.\n",
      "  tradebook_long.loc[\n"
     ]
    },
    {
     "name": "stdout",
     "output_type": "stream",
     "text": [
      "EMA:62, X:19, PCT:0.1\n"
     ]
    },
    {
     "name": "stderr",
     "output_type": "stream",
     "text": [
      "/tmp/ipykernel_37183/3149794742.py:132: FutureWarning: Setting an item of incompatible dtype is deprecated and will raise an error in a future version of pandas. Value 'Trailing SL Hit' has dtype incompatible with float64, please explicitly cast to a compatible dtype first.\n",
      "  tradebook_long.loc[\n"
     ]
    },
    {
     "name": "stdout",
     "output_type": "stream",
     "text": [
      "EMA:62, X:19, PCT:0.25\n"
     ]
    },
    {
     "name": "stderr",
     "output_type": "stream",
     "text": [
      "/tmp/ipykernel_37183/3149794742.py:132: FutureWarning: Setting an item of incompatible dtype is deprecated and will raise an error in a future version of pandas. Value 'Trailing SL Hit' has dtype incompatible with float64, please explicitly cast to a compatible dtype first.\n",
      "  tradebook_long.loc[\n"
     ]
    },
    {
     "name": "stdout",
     "output_type": "stream",
     "text": [
      "EMA:62, X:22, PCT:0.1\n"
     ]
    },
    {
     "name": "stderr",
     "output_type": "stream",
     "text": [
      "/tmp/ipykernel_37183/3149794742.py:132: FutureWarning: Setting an item of incompatible dtype is deprecated and will raise an error in a future version of pandas. Value 'Trailing SL Hit' has dtype incompatible with float64, please explicitly cast to a compatible dtype first.\n",
      "  tradebook_long.loc[\n"
     ]
    },
    {
     "name": "stdout",
     "output_type": "stream",
     "text": [
      "EMA:62, X:22, PCT:0.25\n"
     ]
    },
    {
     "name": "stderr",
     "output_type": "stream",
     "text": [
      "/tmp/ipykernel_37183/3149794742.py:132: FutureWarning: Setting an item of incompatible dtype is deprecated and will raise an error in a future version of pandas. Value 'Trailing SL Hit' has dtype incompatible with float64, please explicitly cast to a compatible dtype first.\n",
      "  tradebook_long.loc[\n"
     ]
    },
    {
     "name": "stdout",
     "output_type": "stream",
     "text": [
      "EMA:62, X:25, PCT:0.1\n"
     ]
    },
    {
     "name": "stderr",
     "output_type": "stream",
     "text": [
      "/tmp/ipykernel_37183/3149794742.py:132: FutureWarning: Setting an item of incompatible dtype is deprecated and will raise an error in a future version of pandas. Value 'Trailing SL Hit' has dtype incompatible with float64, please explicitly cast to a compatible dtype first.\n",
      "  tradebook_long.loc[\n"
     ]
    },
    {
     "name": "stdout",
     "output_type": "stream",
     "text": [
      "EMA:62, X:25, PCT:0.25\n"
     ]
    },
    {
     "name": "stderr",
     "output_type": "stream",
     "text": [
      "/tmp/ipykernel_37183/3149794742.py:132: FutureWarning: Setting an item of incompatible dtype is deprecated and will raise an error in a future version of pandas. Value 'Trailing SL Hit' has dtype incompatible with float64, please explicitly cast to a compatible dtype first.\n",
      "  tradebook_long.loc[\n"
     ]
    },
    {
     "name": "stdout",
     "output_type": "stream",
     "text": [
      "EMA:62, X:28, PCT:0.1\n"
     ]
    },
    {
     "name": "stderr",
     "output_type": "stream",
     "text": [
      "/tmp/ipykernel_37183/3149794742.py:132: FutureWarning: Setting an item of incompatible dtype is deprecated and will raise an error in a future version of pandas. Value 'Trailing SL Hit' has dtype incompatible with float64, please explicitly cast to a compatible dtype first.\n",
      "  tradebook_long.loc[\n"
     ]
    },
    {
     "name": "stdout",
     "output_type": "stream",
     "text": [
      "EMA:62, X:28, PCT:0.25\n"
     ]
    },
    {
     "name": "stderr",
     "output_type": "stream",
     "text": [
      "/tmp/ipykernel_37183/3149794742.py:132: FutureWarning: Setting an item of incompatible dtype is deprecated and will raise an error in a future version of pandas. Value 'Trailing SL Hit' has dtype incompatible with float64, please explicitly cast to a compatible dtype first.\n",
      "  tradebook_long.loc[\n"
     ]
    },
    {
     "name": "stdout",
     "output_type": "stream",
     "text": [
      "EMA:62, X:31, PCT:0.1\n"
     ]
    },
    {
     "name": "stderr",
     "output_type": "stream",
     "text": [
      "/tmp/ipykernel_37183/3149794742.py:132: FutureWarning: Setting an item of incompatible dtype is deprecated and will raise an error in a future version of pandas. Value 'Trailing SL Hit' has dtype incompatible with float64, please explicitly cast to a compatible dtype first.\n",
      "  tradebook_long.loc[\n"
     ]
    },
    {
     "name": "stdout",
     "output_type": "stream",
     "text": [
      "        Total ROI Total Trades Win Rate Avg Profit% per Trade Avg Loss% per Trade Max Drawdown ROI/DD Ratio              Variation\n",
      "2018     105.9968           49  42.8571                7.7922             -2.0586     -13.6708       7.7535  EMA:62, X:31, PCT:0.1\n",
      "2019      52.4263           57  33.3333                6.8490             -2.0448     -21.4497       2.4441  EMA:62, X:31, PCT:0.1\n",
      "2020      93.2329           54  35.1852                8.9856             -2.2141     -15.2213       6.1251  EMA:62, X:31, PCT:0.1\n",
      "2021     138.6888           48  39.5833                9.7889             -1.6311     -18.5049       7.4947  EMA:62, X:31, PCT:0.1\n",
      "2022     112.9134           52  32.6923               10.2940             -1.7738     -20.8819       5.4072  EMA:62, X:31, PCT:0.1\n",
      "2023      89.6400           63  28.5714                9.5249             -1.8179     -17.5812       5.0986  EMA:62, X:31, PCT:0.1\n",
      "2024      60.8094           51  33.3333                6.9246             -1.6738      -8.9997       6.7568  EMA:62, X:31, PCT:0.1\n",
      "Overall  653.7075          374  34.7594                8.5742             -1.8891     -21.4497      30.4762  EMA:62, X:31, PCT:0.1\n",
      "EMA:62, X:31, PCT:0.25\n"
     ]
    },
    {
     "name": "stderr",
     "output_type": "stream",
     "text": [
      "/tmp/ipykernel_37183/3149794742.py:132: FutureWarning: Setting an item of incompatible dtype is deprecated and will raise an error in a future version of pandas. Value 'Trailing SL Hit' has dtype incompatible with float64, please explicitly cast to a compatible dtype first.\n",
      "  tradebook_long.loc[\n"
     ]
    },
    {
     "name": "stdout",
     "output_type": "stream",
     "text": [
      "EMA:62, X:34, PCT:0.1\n"
     ]
    },
    {
     "name": "stderr",
     "output_type": "stream",
     "text": [
      "/tmp/ipykernel_37183/3149794742.py:132: FutureWarning: Setting an item of incompatible dtype is deprecated and will raise an error in a future version of pandas. Value 'Trailing SL Hit' has dtype incompatible with float64, please explicitly cast to a compatible dtype first.\n",
      "  tradebook_long.loc[\n"
     ]
    },
    {
     "name": "stdout",
     "output_type": "stream",
     "text": [
      "        Total ROI Total Trades Win Rate Avg Profit% per Trade Avg Loss% per Trade Max Drawdown ROI/DD Ratio              Variation\n",
      "2018      96.2596           49  42.8571                7.4587             -2.1562     -13.2635       7.2575  EMA:62, X:34, PCT:0.1\n",
      "2019      56.0775           55  34.5455                6.7241             -1.9911     -19.8932       2.8189  EMA:62, X:34, PCT:0.1\n",
      "2020     105.8332           53  35.8491                9.5993             -2.2516     -15.8507       6.6769  EMA:62, X:34, PCT:0.1\n",
      "2021     126.5039           49  36.7347               10.0006             -1.7260     -18.6197       6.7941  EMA:62, X:34, PCT:0.1\n",
      "2022     108.3980           51  31.3725               10.6130             -1.7546     -18.5234       5.8520  EMA:62, X:34, PCT:0.1\n",
      "2023      91.3980           62  29.0323                9.5084             -1.8126     -18.3528       4.9801  EMA:62, X:34, PCT:0.1\n",
      "2024      58.2089           52  32.6923                6.9638             -1.7193     -11.5359       5.0459  EMA:62, X:34, PCT:0.1\n",
      "Overall  642.6791          371  34.5013                8.6416             -1.9072     -19.8932      32.3065  EMA:62, X:34, PCT:0.1\n",
      "EMA:62, X:34, PCT:0.25\n"
     ]
    },
    {
     "name": "stderr",
     "output_type": "stream",
     "text": [
      "/tmp/ipykernel_37183/3149794742.py:132: FutureWarning: Setting an item of incompatible dtype is deprecated and will raise an error in a future version of pandas. Value 'Trailing SL Hit' has dtype incompatible with float64, please explicitly cast to a compatible dtype first.\n",
      "  tradebook_long.loc[\n"
     ]
    },
    {
     "name": "stdout",
     "output_type": "stream",
     "text": [
      "EMA:64, X:4, PCT:0.1\n"
     ]
    },
    {
     "name": "stderr",
     "output_type": "stream",
     "text": [
      "/tmp/ipykernel_37183/3149794742.py:132: FutureWarning: Setting an item of incompatible dtype is deprecated and will raise an error in a future version of pandas. Value 'Trailing SL Hit' has dtype incompatible with float64, please explicitly cast to a compatible dtype first.\n",
      "  tradebook_long.loc[\n"
     ]
    },
    {
     "name": "stdout",
     "output_type": "stream",
     "text": [
      "EMA:64, X:4, PCT:0.25\n"
     ]
    },
    {
     "name": "stderr",
     "output_type": "stream",
     "text": [
      "/tmp/ipykernel_37183/3149794742.py:132: FutureWarning: Setting an item of incompatible dtype is deprecated and will raise an error in a future version of pandas. Value 'Trailing SL Hit' has dtype incompatible with float64, please explicitly cast to a compatible dtype first.\n",
      "  tradebook_long.loc[\n"
     ]
    },
    {
     "name": "stdout",
     "output_type": "stream",
     "text": [
      "EMA:64, X:7, PCT:0.1\n"
     ]
    },
    {
     "name": "stderr",
     "output_type": "stream",
     "text": [
      "/tmp/ipykernel_37183/3149794742.py:132: FutureWarning: Setting an item of incompatible dtype is deprecated and will raise an error in a future version of pandas. Value 'Trailing SL Hit' has dtype incompatible with float64, please explicitly cast to a compatible dtype first.\n",
      "  tradebook_long.loc[\n"
     ]
    },
    {
     "name": "stdout",
     "output_type": "stream",
     "text": [
      "EMA:64, X:7, PCT:0.25\n"
     ]
    },
    {
     "name": "stderr",
     "output_type": "stream",
     "text": [
      "/tmp/ipykernel_37183/3149794742.py:132: FutureWarning: Setting an item of incompatible dtype is deprecated and will raise an error in a future version of pandas. Value 'Trailing SL Hit' has dtype incompatible with float64, please explicitly cast to a compatible dtype first.\n",
      "  tradebook_long.loc[\n"
     ]
    },
    {
     "name": "stdout",
     "output_type": "stream",
     "text": [
      "EMA:64, X:10, PCT:0.1\n"
     ]
    },
    {
     "name": "stderr",
     "output_type": "stream",
     "text": [
      "/tmp/ipykernel_37183/3149794742.py:132: FutureWarning: Setting an item of incompatible dtype is deprecated and will raise an error in a future version of pandas. Value 'Trailing SL Hit' has dtype incompatible with float64, please explicitly cast to a compatible dtype first.\n",
      "  tradebook_long.loc[\n"
     ]
    },
    {
     "name": "stdout",
     "output_type": "stream",
     "text": [
      "EMA:64, X:10, PCT:0.25\n"
     ]
    },
    {
     "name": "stderr",
     "output_type": "stream",
     "text": [
      "/tmp/ipykernel_37183/3149794742.py:132: FutureWarning: Setting an item of incompatible dtype is deprecated and will raise an error in a future version of pandas. Value 'Trailing SL Hit' has dtype incompatible with float64, please explicitly cast to a compatible dtype first.\n",
      "  tradebook_long.loc[\n"
     ]
    },
    {
     "name": "stdout",
     "output_type": "stream",
     "text": [
      "EMA:64, X:13, PCT:0.1\n"
     ]
    },
    {
     "name": "stderr",
     "output_type": "stream",
     "text": [
      "/tmp/ipykernel_37183/3149794742.py:132: FutureWarning: Setting an item of incompatible dtype is deprecated and will raise an error in a future version of pandas. Value 'Trailing SL Hit' has dtype incompatible with float64, please explicitly cast to a compatible dtype first.\n",
      "  tradebook_long.loc[\n"
     ]
    },
    {
     "name": "stdout",
     "output_type": "stream",
     "text": [
      "EMA:64, X:13, PCT:0.25\n"
     ]
    },
    {
     "name": "stderr",
     "output_type": "stream",
     "text": [
      "/tmp/ipykernel_37183/3149794742.py:132: FutureWarning: Setting an item of incompatible dtype is deprecated and will raise an error in a future version of pandas. Value 'Trailing SL Hit' has dtype incompatible with float64, please explicitly cast to a compatible dtype first.\n",
      "  tradebook_long.loc[\n"
     ]
    },
    {
     "name": "stdout",
     "output_type": "stream",
     "text": [
      "EMA:64, X:16, PCT:0.1\n"
     ]
    },
    {
     "name": "stderr",
     "output_type": "stream",
     "text": [
      "/tmp/ipykernel_37183/3149794742.py:132: FutureWarning: Setting an item of incompatible dtype is deprecated and will raise an error in a future version of pandas. Value 'Trailing SL Hit' has dtype incompatible with float64, please explicitly cast to a compatible dtype first.\n",
      "  tradebook_long.loc[\n"
     ]
    },
    {
     "name": "stdout",
     "output_type": "stream",
     "text": [
      "EMA:64, X:16, PCT:0.25\n"
     ]
    },
    {
     "name": "stderr",
     "output_type": "stream",
     "text": [
      "/tmp/ipykernel_37183/3149794742.py:132: FutureWarning: Setting an item of incompatible dtype is deprecated and will raise an error in a future version of pandas. Value 'Trailing SL Hit' has dtype incompatible with float64, please explicitly cast to a compatible dtype first.\n",
      "  tradebook_long.loc[\n"
     ]
    },
    {
     "name": "stdout",
     "output_type": "stream",
     "text": [
      "EMA:64, X:19, PCT:0.1\n"
     ]
    },
    {
     "name": "stderr",
     "output_type": "stream",
     "text": [
      "/tmp/ipykernel_37183/3149794742.py:132: FutureWarning: Setting an item of incompatible dtype is deprecated and will raise an error in a future version of pandas. Value 'Trailing SL Hit' has dtype incompatible with float64, please explicitly cast to a compatible dtype first.\n",
      "  tradebook_long.loc[\n"
     ]
    },
    {
     "name": "stdout",
     "output_type": "stream",
     "text": [
      "EMA:64, X:19, PCT:0.25\n"
     ]
    },
    {
     "name": "stderr",
     "output_type": "stream",
     "text": [
      "/tmp/ipykernel_37183/3149794742.py:132: FutureWarning: Setting an item of incompatible dtype is deprecated and will raise an error in a future version of pandas. Value 'Trailing SL Hit' has dtype incompatible with float64, please explicitly cast to a compatible dtype first.\n",
      "  tradebook_long.loc[\n"
     ]
    },
    {
     "name": "stdout",
     "output_type": "stream",
     "text": [
      "EMA:64, X:22, PCT:0.1\n"
     ]
    },
    {
     "name": "stderr",
     "output_type": "stream",
     "text": [
      "/tmp/ipykernel_37183/3149794742.py:132: FutureWarning: Setting an item of incompatible dtype is deprecated and will raise an error in a future version of pandas. Value 'Trailing SL Hit' has dtype incompatible with float64, please explicitly cast to a compatible dtype first.\n",
      "  tradebook_long.loc[\n"
     ]
    },
    {
     "name": "stdout",
     "output_type": "stream",
     "text": [
      "EMA:64, X:22, PCT:0.25\n"
     ]
    },
    {
     "name": "stderr",
     "output_type": "stream",
     "text": [
      "/tmp/ipykernel_37183/3149794742.py:132: FutureWarning: Setting an item of incompatible dtype is deprecated and will raise an error in a future version of pandas. Value 'Trailing SL Hit' has dtype incompatible with float64, please explicitly cast to a compatible dtype first.\n",
      "  tradebook_long.loc[\n"
     ]
    },
    {
     "name": "stdout",
     "output_type": "stream",
     "text": [
      "EMA:64, X:25, PCT:0.1\n"
     ]
    },
    {
     "name": "stderr",
     "output_type": "stream",
     "text": [
      "/tmp/ipykernel_37183/3149794742.py:132: FutureWarning: Setting an item of incompatible dtype is deprecated and will raise an error in a future version of pandas. Value 'Trailing SL Hit' has dtype incompatible with float64, please explicitly cast to a compatible dtype first.\n",
      "  tradebook_long.loc[\n"
     ]
    },
    {
     "name": "stdout",
     "output_type": "stream",
     "text": [
      "EMA:64, X:25, PCT:0.25\n"
     ]
    },
    {
     "name": "stderr",
     "output_type": "stream",
     "text": [
      "/tmp/ipykernel_37183/3149794742.py:132: FutureWarning: Setting an item of incompatible dtype is deprecated and will raise an error in a future version of pandas. Value 'Trailing SL Hit' has dtype incompatible with float64, please explicitly cast to a compatible dtype first.\n",
      "  tradebook_long.loc[\n"
     ]
    },
    {
     "name": "stdout",
     "output_type": "stream",
     "text": [
      "EMA:64, X:28, PCT:0.1\n"
     ]
    },
    {
     "name": "stderr",
     "output_type": "stream",
     "text": [
      "/tmp/ipykernel_37183/3149794742.py:132: FutureWarning: Setting an item of incompatible dtype is deprecated and will raise an error in a future version of pandas. Value 'Trailing SL Hit' has dtype incompatible with float64, please explicitly cast to a compatible dtype first.\n",
      "  tradebook_long.loc[\n"
     ]
    },
    {
     "name": "stdout",
     "output_type": "stream",
     "text": [
      "EMA:64, X:28, PCT:0.25\n"
     ]
    },
    {
     "name": "stderr",
     "output_type": "stream",
     "text": [
      "/tmp/ipykernel_37183/3149794742.py:132: FutureWarning: Setting an item of incompatible dtype is deprecated and will raise an error in a future version of pandas. Value 'Trailing SL Hit' has dtype incompatible with float64, please explicitly cast to a compatible dtype first.\n",
      "  tradebook_long.loc[\n"
     ]
    },
    {
     "name": "stdout",
     "output_type": "stream",
     "text": [
      "EMA:64, X:31, PCT:0.1\n"
     ]
    },
    {
     "name": "stderr",
     "output_type": "stream",
     "text": [
      "/tmp/ipykernel_37183/3149794742.py:132: FutureWarning: Setting an item of incompatible dtype is deprecated and will raise an error in a future version of pandas. Value 'Trailing SL Hit' has dtype incompatible with float64, please explicitly cast to a compatible dtype first.\n",
      "  tradebook_long.loc[\n"
     ]
    },
    {
     "name": "stdout",
     "output_type": "stream",
     "text": [
      "EMA:64, X:31, PCT:0.25\n"
     ]
    },
    {
     "name": "stderr",
     "output_type": "stream",
     "text": [
      "/tmp/ipykernel_37183/3149794742.py:132: FutureWarning: Setting an item of incompatible dtype is deprecated and will raise an error in a future version of pandas. Value 'Trailing SL Hit' has dtype incompatible with float64, please explicitly cast to a compatible dtype first.\n",
      "  tradebook_long.loc[\n"
     ]
    },
    {
     "name": "stdout",
     "output_type": "stream",
     "text": [
      "EMA:64, X:34, PCT:0.1\n"
     ]
    },
    {
     "name": "stderr",
     "output_type": "stream",
     "text": [
      "/tmp/ipykernel_37183/3149794742.py:132: FutureWarning: Setting an item of incompatible dtype is deprecated and will raise an error in a future version of pandas. Value 'Trailing SL Hit' has dtype incompatible with float64, please explicitly cast to a compatible dtype first.\n",
      "  tradebook_long.loc[\n"
     ]
    },
    {
     "name": "stdout",
     "output_type": "stream",
     "text": [
      "EMA:64, X:34, PCT:0.25\n"
     ]
    },
    {
     "name": "stderr",
     "output_type": "stream",
     "text": [
      "/tmp/ipykernel_37183/3149794742.py:132: FutureWarning: Setting an item of incompatible dtype is deprecated and will raise an error in a future version of pandas. Value 'Trailing SL Hit' has dtype incompatible with float64, please explicitly cast to a compatible dtype first.\n",
      "  tradebook_long.loc[\n"
     ]
    },
    {
     "name": "stdout",
     "output_type": "stream",
     "text": [
      "EMA:66, X:4, PCT:0.1\n"
     ]
    },
    {
     "name": "stderr",
     "output_type": "stream",
     "text": [
      "/tmp/ipykernel_37183/3149794742.py:132: FutureWarning: Setting an item of incompatible dtype is deprecated and will raise an error in a future version of pandas. Value 'Trailing SL Hit' has dtype incompatible with float64, please explicitly cast to a compatible dtype first.\n",
      "  tradebook_long.loc[\n"
     ]
    },
    {
     "name": "stdout",
     "output_type": "stream",
     "text": [
      "EMA:66, X:4, PCT:0.25\n"
     ]
    },
    {
     "name": "stderr",
     "output_type": "stream",
     "text": [
      "/tmp/ipykernel_37183/3149794742.py:132: FutureWarning: Setting an item of incompatible dtype is deprecated and will raise an error in a future version of pandas. Value 'Trailing SL Hit' has dtype incompatible with float64, please explicitly cast to a compatible dtype first.\n",
      "  tradebook_long.loc[\n"
     ]
    },
    {
     "name": "stdout",
     "output_type": "stream",
     "text": [
      "EMA:66, X:7, PCT:0.1\n"
     ]
    },
    {
     "name": "stderr",
     "output_type": "stream",
     "text": [
      "/tmp/ipykernel_37183/3149794742.py:132: FutureWarning: Setting an item of incompatible dtype is deprecated and will raise an error in a future version of pandas. Value 'Trailing SL Hit' has dtype incompatible with float64, please explicitly cast to a compatible dtype first.\n",
      "  tradebook_long.loc[\n"
     ]
    },
    {
     "name": "stdout",
     "output_type": "stream",
     "text": [
      "EMA:66, X:7, PCT:0.25\n"
     ]
    },
    {
     "name": "stderr",
     "output_type": "stream",
     "text": [
      "/tmp/ipykernel_37183/3149794742.py:132: FutureWarning: Setting an item of incompatible dtype is deprecated and will raise an error in a future version of pandas. Value 'Trailing SL Hit' has dtype incompatible with float64, please explicitly cast to a compatible dtype first.\n",
      "  tradebook_long.loc[\n"
     ]
    },
    {
     "name": "stdout",
     "output_type": "stream",
     "text": [
      "EMA:66, X:10, PCT:0.1\n"
     ]
    },
    {
     "name": "stderr",
     "output_type": "stream",
     "text": [
      "/tmp/ipykernel_37183/3149794742.py:132: FutureWarning: Setting an item of incompatible dtype is deprecated and will raise an error in a future version of pandas. Value 'Trailing SL Hit' has dtype incompatible with float64, please explicitly cast to a compatible dtype first.\n",
      "  tradebook_long.loc[\n"
     ]
    },
    {
     "name": "stdout",
     "output_type": "stream",
     "text": [
      "EMA:66, X:10, PCT:0.25\n"
     ]
    },
    {
     "name": "stderr",
     "output_type": "stream",
     "text": [
      "/tmp/ipykernel_37183/3149794742.py:132: FutureWarning: Setting an item of incompatible dtype is deprecated and will raise an error in a future version of pandas. Value 'Trailing SL Hit' has dtype incompatible with float64, please explicitly cast to a compatible dtype first.\n",
      "  tradebook_long.loc[\n"
     ]
    },
    {
     "name": "stdout",
     "output_type": "stream",
     "text": [
      "EMA:66, X:13, PCT:0.1\n"
     ]
    },
    {
     "name": "stderr",
     "output_type": "stream",
     "text": [
      "/tmp/ipykernel_37183/3149794742.py:132: FutureWarning: Setting an item of incompatible dtype is deprecated and will raise an error in a future version of pandas. Value 'Trailing SL Hit' has dtype incompatible with float64, please explicitly cast to a compatible dtype first.\n",
      "  tradebook_long.loc[\n"
     ]
    },
    {
     "name": "stdout",
     "output_type": "stream",
     "text": [
      "EMA:66, X:13, PCT:0.25\n"
     ]
    },
    {
     "name": "stderr",
     "output_type": "stream",
     "text": [
      "/tmp/ipykernel_37183/3149794742.py:132: FutureWarning: Setting an item of incompatible dtype is deprecated and will raise an error in a future version of pandas. Value 'Trailing SL Hit' has dtype incompatible with float64, please explicitly cast to a compatible dtype first.\n",
      "  tradebook_long.loc[\n"
     ]
    },
    {
     "name": "stdout",
     "output_type": "stream",
     "text": [
      "EMA:66, X:16, PCT:0.1\n"
     ]
    },
    {
     "name": "stderr",
     "output_type": "stream",
     "text": [
      "/tmp/ipykernel_37183/3149794742.py:132: FutureWarning: Setting an item of incompatible dtype is deprecated and will raise an error in a future version of pandas. Value 'Trailing SL Hit' has dtype incompatible with float64, please explicitly cast to a compatible dtype first.\n",
      "  tradebook_long.loc[\n"
     ]
    },
    {
     "name": "stdout",
     "output_type": "stream",
     "text": [
      "EMA:66, X:16, PCT:0.25\n"
     ]
    },
    {
     "name": "stderr",
     "output_type": "stream",
     "text": [
      "/tmp/ipykernel_37183/3149794742.py:132: FutureWarning: Setting an item of incompatible dtype is deprecated and will raise an error in a future version of pandas. Value 'Trailing SL Hit' has dtype incompatible with float64, please explicitly cast to a compatible dtype first.\n",
      "  tradebook_long.loc[\n"
     ]
    },
    {
     "name": "stdout",
     "output_type": "stream",
     "text": [
      "EMA:66, X:19, PCT:0.1\n"
     ]
    },
    {
     "name": "stderr",
     "output_type": "stream",
     "text": [
      "/tmp/ipykernel_37183/3149794742.py:132: FutureWarning: Setting an item of incompatible dtype is deprecated and will raise an error in a future version of pandas. Value 'Trailing SL Hit' has dtype incompatible with float64, please explicitly cast to a compatible dtype first.\n",
      "  tradebook_long.loc[\n"
     ]
    },
    {
     "name": "stdout",
     "output_type": "stream",
     "text": [
      "EMA:66, X:19, PCT:0.25\n"
     ]
    },
    {
     "name": "stderr",
     "output_type": "stream",
     "text": [
      "/tmp/ipykernel_37183/3149794742.py:132: FutureWarning: Setting an item of incompatible dtype is deprecated and will raise an error in a future version of pandas. Value 'Trailing SL Hit' has dtype incompatible with float64, please explicitly cast to a compatible dtype first.\n",
      "  tradebook_long.loc[\n"
     ]
    },
    {
     "name": "stdout",
     "output_type": "stream",
     "text": [
      "EMA:66, X:22, PCT:0.1\n"
     ]
    },
    {
     "name": "stderr",
     "output_type": "stream",
     "text": [
      "/tmp/ipykernel_37183/3149794742.py:132: FutureWarning: Setting an item of incompatible dtype is deprecated and will raise an error in a future version of pandas. Value 'Trailing SL Hit' has dtype incompatible with float64, please explicitly cast to a compatible dtype first.\n",
      "  tradebook_long.loc[\n"
     ]
    },
    {
     "name": "stdout",
     "output_type": "stream",
     "text": [
      "EMA:66, X:22, PCT:0.25\n"
     ]
    },
    {
     "name": "stderr",
     "output_type": "stream",
     "text": [
      "/tmp/ipykernel_37183/3149794742.py:132: FutureWarning: Setting an item of incompatible dtype is deprecated and will raise an error in a future version of pandas. Value 'Trailing SL Hit' has dtype incompatible with float64, please explicitly cast to a compatible dtype first.\n",
      "  tradebook_long.loc[\n"
     ]
    },
    {
     "name": "stdout",
     "output_type": "stream",
     "text": [
      "EMA:66, X:25, PCT:0.1\n"
     ]
    },
    {
     "name": "stderr",
     "output_type": "stream",
     "text": [
      "/tmp/ipykernel_37183/3149794742.py:132: FutureWarning: Setting an item of incompatible dtype is deprecated and will raise an error in a future version of pandas. Value 'Trailing SL Hit' has dtype incompatible with float64, please explicitly cast to a compatible dtype first.\n",
      "  tradebook_long.loc[\n"
     ]
    },
    {
     "name": "stdout",
     "output_type": "stream",
     "text": [
      "EMA:66, X:25, PCT:0.25\n"
     ]
    },
    {
     "name": "stderr",
     "output_type": "stream",
     "text": [
      "/tmp/ipykernel_37183/3149794742.py:132: FutureWarning: Setting an item of incompatible dtype is deprecated and will raise an error in a future version of pandas. Value 'Trailing SL Hit' has dtype incompatible with float64, please explicitly cast to a compatible dtype first.\n",
      "  tradebook_long.loc[\n"
     ]
    },
    {
     "name": "stdout",
     "output_type": "stream",
     "text": [
      "EMA:66, X:28, PCT:0.1\n"
     ]
    },
    {
     "name": "stderr",
     "output_type": "stream",
     "text": [
      "/tmp/ipykernel_37183/3149794742.py:132: FutureWarning: Setting an item of incompatible dtype is deprecated and will raise an error in a future version of pandas. Value 'Trailing SL Hit' has dtype incompatible with float64, please explicitly cast to a compatible dtype first.\n",
      "  tradebook_long.loc[\n"
     ]
    },
    {
     "name": "stdout",
     "output_type": "stream",
     "text": [
      "EMA:66, X:28, PCT:0.25\n"
     ]
    },
    {
     "name": "stderr",
     "output_type": "stream",
     "text": [
      "/tmp/ipykernel_37183/3149794742.py:132: FutureWarning: Setting an item of incompatible dtype is deprecated and will raise an error in a future version of pandas. Value 'Trailing SL Hit' has dtype incompatible with float64, please explicitly cast to a compatible dtype first.\n",
      "  tradebook_long.loc[\n"
     ]
    },
    {
     "name": "stdout",
     "output_type": "stream",
     "text": [
      "EMA:66, X:31, PCT:0.1\n"
     ]
    },
    {
     "name": "stderr",
     "output_type": "stream",
     "text": [
      "/tmp/ipykernel_37183/3149794742.py:132: FutureWarning: Setting an item of incompatible dtype is deprecated and will raise an error in a future version of pandas. Value 'Trailing SL Hit' has dtype incompatible with float64, please explicitly cast to a compatible dtype first.\n",
      "  tradebook_long.loc[\n"
     ]
    },
    {
     "name": "stdout",
     "output_type": "stream",
     "text": [
      "EMA:66, X:31, PCT:0.25\n"
     ]
    },
    {
     "name": "stderr",
     "output_type": "stream",
     "text": [
      "/tmp/ipykernel_37183/3149794742.py:132: FutureWarning: Setting an item of incompatible dtype is deprecated and will raise an error in a future version of pandas. Value 'Trailing SL Hit' has dtype incompatible with float64, please explicitly cast to a compatible dtype first.\n",
      "  tradebook_long.loc[\n"
     ]
    },
    {
     "name": "stdout",
     "output_type": "stream",
     "text": [
      "EMA:66, X:34, PCT:0.1\n"
     ]
    },
    {
     "name": "stderr",
     "output_type": "stream",
     "text": [
      "/tmp/ipykernel_37183/3149794742.py:132: FutureWarning: Setting an item of incompatible dtype is deprecated and will raise an error in a future version of pandas. Value 'Trailing SL Hit' has dtype incompatible with float64, please explicitly cast to a compatible dtype first.\n",
      "  tradebook_long.loc[\n"
     ]
    },
    {
     "name": "stdout",
     "output_type": "stream",
     "text": [
      "EMA:66, X:34, PCT:0.25\n"
     ]
    },
    {
     "name": "stderr",
     "output_type": "stream",
     "text": [
      "/tmp/ipykernel_37183/3149794742.py:132: FutureWarning: Setting an item of incompatible dtype is deprecated and will raise an error in a future version of pandas. Value 'Trailing SL Hit' has dtype incompatible with float64, please explicitly cast to a compatible dtype first.\n",
      "  tradebook_long.loc[\n"
     ]
    },
    {
     "name": "stdout",
     "output_type": "stream",
     "text": [
      "EMA:68, X:4, PCT:0.1\n"
     ]
    },
    {
     "name": "stderr",
     "output_type": "stream",
     "text": [
      "/tmp/ipykernel_37183/3149794742.py:132: FutureWarning: Setting an item of incompatible dtype is deprecated and will raise an error in a future version of pandas. Value 'Trailing SL Hit' has dtype incompatible with float64, please explicitly cast to a compatible dtype first.\n",
      "  tradebook_long.loc[\n"
     ]
    },
    {
     "name": "stdout",
     "output_type": "stream",
     "text": [
      "EMA:68, X:4, PCT:0.25\n"
     ]
    },
    {
     "name": "stderr",
     "output_type": "stream",
     "text": [
      "/tmp/ipykernel_37183/3149794742.py:132: FutureWarning: Setting an item of incompatible dtype is deprecated and will raise an error in a future version of pandas. Value 'Trailing SL Hit' has dtype incompatible with float64, please explicitly cast to a compatible dtype first.\n",
      "  tradebook_long.loc[\n"
     ]
    },
    {
     "name": "stdout",
     "output_type": "stream",
     "text": [
      "EMA:68, X:7, PCT:0.1\n"
     ]
    },
    {
     "name": "stderr",
     "output_type": "stream",
     "text": [
      "/tmp/ipykernel_37183/3149794742.py:132: FutureWarning: Setting an item of incompatible dtype is deprecated and will raise an error in a future version of pandas. Value 'Trailing SL Hit' has dtype incompatible with float64, please explicitly cast to a compatible dtype first.\n",
      "  tradebook_long.loc[\n"
     ]
    },
    {
     "name": "stdout",
     "output_type": "stream",
     "text": [
      "EMA:68, X:7, PCT:0.25\n"
     ]
    },
    {
     "name": "stderr",
     "output_type": "stream",
     "text": [
      "/tmp/ipykernel_37183/3149794742.py:132: FutureWarning: Setting an item of incompatible dtype is deprecated and will raise an error in a future version of pandas. Value 'Trailing SL Hit' has dtype incompatible with float64, please explicitly cast to a compatible dtype first.\n",
      "  tradebook_long.loc[\n"
     ]
    },
    {
     "name": "stdout",
     "output_type": "stream",
     "text": [
      "EMA:68, X:10, PCT:0.1\n"
     ]
    },
    {
     "name": "stderr",
     "output_type": "stream",
     "text": [
      "/tmp/ipykernel_37183/3149794742.py:132: FutureWarning: Setting an item of incompatible dtype is deprecated and will raise an error in a future version of pandas. Value 'Trailing SL Hit' has dtype incompatible with float64, please explicitly cast to a compatible dtype first.\n",
      "  tradebook_long.loc[\n"
     ]
    },
    {
     "name": "stdout",
     "output_type": "stream",
     "text": [
      "EMA:68, X:10, PCT:0.25\n"
     ]
    },
    {
     "name": "stderr",
     "output_type": "stream",
     "text": [
      "/tmp/ipykernel_37183/3149794742.py:132: FutureWarning: Setting an item of incompatible dtype is deprecated and will raise an error in a future version of pandas. Value 'Trailing SL Hit' has dtype incompatible with float64, please explicitly cast to a compatible dtype first.\n",
      "  tradebook_long.loc[\n"
     ]
    },
    {
     "name": "stdout",
     "output_type": "stream",
     "text": [
      "EMA:68, X:13, PCT:0.1\n"
     ]
    },
    {
     "name": "stderr",
     "output_type": "stream",
     "text": [
      "/tmp/ipykernel_37183/3149794742.py:132: FutureWarning: Setting an item of incompatible dtype is deprecated and will raise an error in a future version of pandas. Value 'Trailing SL Hit' has dtype incompatible with float64, please explicitly cast to a compatible dtype first.\n",
      "  tradebook_long.loc[\n"
     ]
    },
    {
     "name": "stdout",
     "output_type": "stream",
     "text": [
      "EMA:68, X:13, PCT:0.25\n"
     ]
    },
    {
     "name": "stderr",
     "output_type": "stream",
     "text": [
      "/tmp/ipykernel_37183/3149794742.py:132: FutureWarning: Setting an item of incompatible dtype is deprecated and will raise an error in a future version of pandas. Value 'Trailing SL Hit' has dtype incompatible with float64, please explicitly cast to a compatible dtype first.\n",
      "  tradebook_long.loc[\n"
     ]
    },
    {
     "name": "stdout",
     "output_type": "stream",
     "text": [
      "EMA:68, X:16, PCT:0.1\n"
     ]
    },
    {
     "name": "stderr",
     "output_type": "stream",
     "text": [
      "/tmp/ipykernel_37183/3149794742.py:132: FutureWarning: Setting an item of incompatible dtype is deprecated and will raise an error in a future version of pandas. Value 'Trailing SL Hit' has dtype incompatible with float64, please explicitly cast to a compatible dtype first.\n",
      "  tradebook_long.loc[\n"
     ]
    },
    {
     "name": "stdout",
     "output_type": "stream",
     "text": [
      "EMA:68, X:16, PCT:0.25\n"
     ]
    },
    {
     "name": "stderr",
     "output_type": "stream",
     "text": [
      "/tmp/ipykernel_37183/3149794742.py:132: FutureWarning: Setting an item of incompatible dtype is deprecated and will raise an error in a future version of pandas. Value 'Trailing SL Hit' has dtype incompatible with float64, please explicitly cast to a compatible dtype first.\n",
      "  tradebook_long.loc[\n"
     ]
    },
    {
     "name": "stdout",
     "output_type": "stream",
     "text": [
      "EMA:68, X:19, PCT:0.1\n"
     ]
    },
    {
     "name": "stderr",
     "output_type": "stream",
     "text": [
      "/tmp/ipykernel_37183/3149794742.py:132: FutureWarning: Setting an item of incompatible dtype is deprecated and will raise an error in a future version of pandas. Value 'Trailing SL Hit' has dtype incompatible with float64, please explicitly cast to a compatible dtype first.\n",
      "  tradebook_long.loc[\n"
     ]
    },
    {
     "name": "stdout",
     "output_type": "stream",
     "text": [
      "EMA:68, X:19, PCT:0.25\n"
     ]
    },
    {
     "name": "stderr",
     "output_type": "stream",
     "text": [
      "/tmp/ipykernel_37183/3149794742.py:132: FutureWarning: Setting an item of incompatible dtype is deprecated and will raise an error in a future version of pandas. Value 'Trailing SL Hit' has dtype incompatible with float64, please explicitly cast to a compatible dtype first.\n",
      "  tradebook_long.loc[\n"
     ]
    },
    {
     "name": "stdout",
     "output_type": "stream",
     "text": [
      "EMA:68, X:22, PCT:0.1\n"
     ]
    },
    {
     "name": "stderr",
     "output_type": "stream",
     "text": [
      "/tmp/ipykernel_37183/3149794742.py:132: FutureWarning: Setting an item of incompatible dtype is deprecated and will raise an error in a future version of pandas. Value 'Trailing SL Hit' has dtype incompatible with float64, please explicitly cast to a compatible dtype first.\n",
      "  tradebook_long.loc[\n"
     ]
    },
    {
     "name": "stdout",
     "output_type": "stream",
     "text": [
      "EMA:68, X:22, PCT:0.25\n"
     ]
    },
    {
     "name": "stderr",
     "output_type": "stream",
     "text": [
      "/tmp/ipykernel_37183/3149794742.py:132: FutureWarning: Setting an item of incompatible dtype is deprecated and will raise an error in a future version of pandas. Value 'Trailing SL Hit' has dtype incompatible with float64, please explicitly cast to a compatible dtype first.\n",
      "  tradebook_long.loc[\n"
     ]
    },
    {
     "name": "stdout",
     "output_type": "stream",
     "text": [
      "EMA:68, X:25, PCT:0.1\n"
     ]
    },
    {
     "name": "stderr",
     "output_type": "stream",
     "text": [
      "/tmp/ipykernel_37183/3149794742.py:132: FutureWarning: Setting an item of incompatible dtype is deprecated and will raise an error in a future version of pandas. Value 'Trailing SL Hit' has dtype incompatible with float64, please explicitly cast to a compatible dtype first.\n",
      "  tradebook_long.loc[\n"
     ]
    },
    {
     "name": "stdout",
     "output_type": "stream",
     "text": [
      "EMA:68, X:25, PCT:0.25\n"
     ]
    },
    {
     "name": "stderr",
     "output_type": "stream",
     "text": [
      "/tmp/ipykernel_37183/3149794742.py:132: FutureWarning: Setting an item of incompatible dtype is deprecated and will raise an error in a future version of pandas. Value 'Trailing SL Hit' has dtype incompatible with float64, please explicitly cast to a compatible dtype first.\n",
      "  tradebook_long.loc[\n"
     ]
    },
    {
     "name": "stdout",
     "output_type": "stream",
     "text": [
      "EMA:68, X:28, PCT:0.1\n"
     ]
    },
    {
     "name": "stderr",
     "output_type": "stream",
     "text": [
      "/tmp/ipykernel_37183/3149794742.py:132: FutureWarning: Setting an item of incompatible dtype is deprecated and will raise an error in a future version of pandas. Value 'Trailing SL Hit' has dtype incompatible with float64, please explicitly cast to a compatible dtype first.\n",
      "  tradebook_long.loc[\n"
     ]
    },
    {
     "name": "stdout",
     "output_type": "stream",
     "text": [
      "EMA:68, X:28, PCT:0.25\n"
     ]
    },
    {
     "name": "stderr",
     "output_type": "stream",
     "text": [
      "/tmp/ipykernel_37183/3149794742.py:132: FutureWarning: Setting an item of incompatible dtype is deprecated and will raise an error in a future version of pandas. Value 'Trailing SL Hit' has dtype incompatible with float64, please explicitly cast to a compatible dtype first.\n",
      "  tradebook_long.loc[\n"
     ]
    },
    {
     "name": "stdout",
     "output_type": "stream",
     "text": [
      "EMA:68, X:31, PCT:0.1\n"
     ]
    },
    {
     "name": "stderr",
     "output_type": "stream",
     "text": [
      "/tmp/ipykernel_37183/3149794742.py:132: FutureWarning: Setting an item of incompatible dtype is deprecated and will raise an error in a future version of pandas. Value 'Trailing SL Hit' has dtype incompatible with float64, please explicitly cast to a compatible dtype first.\n",
      "  tradebook_long.loc[\n"
     ]
    },
    {
     "name": "stdout",
     "output_type": "stream",
     "text": [
      "        Total ROI Total Trades Win Rate Avg Profit% per Trade Avg Loss% per Trade Max Drawdown ROI/DD Ratio              Variation\n",
      "2018      97.1906           48  41.6667                7.5144             -1.8963     -13.9822       6.9510  EMA:68, X:31, PCT:0.1\n",
      "2019      34.8263           55  32.7273                6.1060             -2.0292     -20.7611       1.6775  EMA:68, X:31, PCT:0.1\n",
      "2020     108.2903           50  34.0000               10.4759             -2.1152     -15.2213       7.1144  EMA:68, X:31, PCT:0.1\n",
      "2021     132.1484           46  39.1304                9.7397             -1.5417     -20.0331       6.5965  EMA:68, X:31, PCT:0.1\n",
      "2022     116.4605           47  34.0426               10.1250             -1.4690     -17.3988       6.6936  EMA:68, X:31, PCT:0.1\n",
      "2023      90.1130           58  27.5862               10.3908             -1.8128     -19.2555       4.6799  EMA:68, X:31, PCT:0.1\n",
      "2024      60.5880           48  35.4167                6.7852             -1.7664     -10.0965       6.0009  EMA:68, X:31, PCT:0.1\n",
      "Overall  639.6170          352  34.6591                8.6656             -1.8156     -20.7611      30.8085  EMA:68, X:31, PCT:0.1\n",
      "EMA:68, X:31, PCT:0.25\n"
     ]
    },
    {
     "name": "stderr",
     "output_type": "stream",
     "text": [
      "/tmp/ipykernel_37183/3149794742.py:132: FutureWarning: Setting an item of incompatible dtype is deprecated and will raise an error in a future version of pandas. Value 'Trailing SL Hit' has dtype incompatible with float64, please explicitly cast to a compatible dtype first.\n",
      "  tradebook_long.loc[\n"
     ]
    },
    {
     "name": "stdout",
     "output_type": "stream",
     "text": [
      "EMA:68, X:34, PCT:0.1\n"
     ]
    },
    {
     "name": "stderr",
     "output_type": "stream",
     "text": [
      "/tmp/ipykernel_37183/3149794742.py:132: FutureWarning: Setting an item of incompatible dtype is deprecated and will raise an error in a future version of pandas. Value 'Trailing SL Hit' has dtype incompatible with float64, please explicitly cast to a compatible dtype first.\n",
      "  tradebook_long.loc[\n"
     ]
    },
    {
     "name": "stdout",
     "output_type": "stream",
     "text": [
      "EMA:68, X:34, PCT:0.25\n"
     ]
    },
    {
     "name": "stderr",
     "output_type": "stream",
     "text": [
      "/tmp/ipykernel_37183/3149794742.py:132: FutureWarning: Setting an item of incompatible dtype is deprecated and will raise an error in a future version of pandas. Value 'Trailing SL Hit' has dtype incompatible with float64, please explicitly cast to a compatible dtype first.\n",
      "  tradebook_long.loc[\n"
     ]
    },
    {
     "name": "stdout",
     "output_type": "stream",
     "text": [
      "EMA:70, X:4, PCT:0.1\n"
     ]
    },
    {
     "name": "stderr",
     "output_type": "stream",
     "text": [
      "/tmp/ipykernel_37183/3149794742.py:132: FutureWarning: Setting an item of incompatible dtype is deprecated and will raise an error in a future version of pandas. Value 'Trailing SL Hit' has dtype incompatible with float64, please explicitly cast to a compatible dtype first.\n",
      "  tradebook_long.loc[\n"
     ]
    },
    {
     "name": "stdout",
     "output_type": "stream",
     "text": [
      "EMA:70, X:4, PCT:0.25\n"
     ]
    },
    {
     "name": "stderr",
     "output_type": "stream",
     "text": [
      "/tmp/ipykernel_37183/3149794742.py:132: FutureWarning: Setting an item of incompatible dtype is deprecated and will raise an error in a future version of pandas. Value 'Trailing SL Hit' has dtype incompatible with float64, please explicitly cast to a compatible dtype first.\n",
      "  tradebook_long.loc[\n"
     ]
    },
    {
     "name": "stdout",
     "output_type": "stream",
     "text": [
      "EMA:70, X:7, PCT:0.1\n"
     ]
    },
    {
     "name": "stderr",
     "output_type": "stream",
     "text": [
      "/tmp/ipykernel_37183/3149794742.py:132: FutureWarning: Setting an item of incompatible dtype is deprecated and will raise an error in a future version of pandas. Value 'Trailing SL Hit' has dtype incompatible with float64, please explicitly cast to a compatible dtype first.\n",
      "  tradebook_long.loc[\n"
     ]
    },
    {
     "name": "stdout",
     "output_type": "stream",
     "text": [
      "EMA:70, X:7, PCT:0.25\n"
     ]
    },
    {
     "name": "stderr",
     "output_type": "stream",
     "text": [
      "/tmp/ipykernel_37183/3149794742.py:132: FutureWarning: Setting an item of incompatible dtype is deprecated and will raise an error in a future version of pandas. Value 'Trailing SL Hit' has dtype incompatible with float64, please explicitly cast to a compatible dtype first.\n",
      "  tradebook_long.loc[\n"
     ]
    },
    {
     "name": "stdout",
     "output_type": "stream",
     "text": [
      "EMA:70, X:10, PCT:0.1\n"
     ]
    },
    {
     "name": "stderr",
     "output_type": "stream",
     "text": [
      "/tmp/ipykernel_37183/3149794742.py:132: FutureWarning: Setting an item of incompatible dtype is deprecated and will raise an error in a future version of pandas. Value 'Trailing SL Hit' has dtype incompatible with float64, please explicitly cast to a compatible dtype first.\n",
      "  tradebook_long.loc[\n"
     ]
    },
    {
     "name": "stdout",
     "output_type": "stream",
     "text": [
      "EMA:70, X:10, PCT:0.25\n"
     ]
    },
    {
     "name": "stderr",
     "output_type": "stream",
     "text": [
      "/tmp/ipykernel_37183/3149794742.py:132: FutureWarning: Setting an item of incompatible dtype is deprecated and will raise an error in a future version of pandas. Value 'Trailing SL Hit' has dtype incompatible with float64, please explicitly cast to a compatible dtype first.\n",
      "  tradebook_long.loc[\n"
     ]
    },
    {
     "name": "stdout",
     "output_type": "stream",
     "text": [
      "EMA:70, X:13, PCT:0.1\n"
     ]
    },
    {
     "name": "stderr",
     "output_type": "stream",
     "text": [
      "/tmp/ipykernel_37183/3149794742.py:132: FutureWarning: Setting an item of incompatible dtype is deprecated and will raise an error in a future version of pandas. Value 'Trailing SL Hit' has dtype incompatible with float64, please explicitly cast to a compatible dtype first.\n",
      "  tradebook_long.loc[\n"
     ]
    },
    {
     "name": "stdout",
     "output_type": "stream",
     "text": [
      "EMA:70, X:13, PCT:0.25\n"
     ]
    },
    {
     "name": "stderr",
     "output_type": "stream",
     "text": [
      "/tmp/ipykernel_37183/3149794742.py:132: FutureWarning: Setting an item of incompatible dtype is deprecated and will raise an error in a future version of pandas. Value 'Trailing SL Hit' has dtype incompatible with float64, please explicitly cast to a compatible dtype first.\n",
      "  tradebook_long.loc[\n"
     ]
    },
    {
     "name": "stdout",
     "output_type": "stream",
     "text": [
      "EMA:70, X:16, PCT:0.1\n"
     ]
    },
    {
     "name": "stderr",
     "output_type": "stream",
     "text": [
      "/tmp/ipykernel_37183/3149794742.py:132: FutureWarning: Setting an item of incompatible dtype is deprecated and will raise an error in a future version of pandas. Value 'Trailing SL Hit' has dtype incompatible with float64, please explicitly cast to a compatible dtype first.\n",
      "  tradebook_long.loc[\n"
     ]
    },
    {
     "name": "stdout",
     "output_type": "stream",
     "text": [
      "EMA:70, X:16, PCT:0.25\n"
     ]
    },
    {
     "name": "stderr",
     "output_type": "stream",
     "text": [
      "/tmp/ipykernel_37183/3149794742.py:132: FutureWarning: Setting an item of incompatible dtype is deprecated and will raise an error in a future version of pandas. Value 'Trailing SL Hit' has dtype incompatible with float64, please explicitly cast to a compatible dtype first.\n",
      "  tradebook_long.loc[\n"
     ]
    },
    {
     "name": "stdout",
     "output_type": "stream",
     "text": [
      "EMA:70, X:19, PCT:0.1\n"
     ]
    },
    {
     "name": "stderr",
     "output_type": "stream",
     "text": [
      "/tmp/ipykernel_37183/3149794742.py:132: FutureWarning: Setting an item of incompatible dtype is deprecated and will raise an error in a future version of pandas. Value 'Trailing SL Hit' has dtype incompatible with float64, please explicitly cast to a compatible dtype first.\n",
      "  tradebook_long.loc[\n"
     ]
    },
    {
     "name": "stdout",
     "output_type": "stream",
     "text": [
      "EMA:70, X:19, PCT:0.25\n"
     ]
    },
    {
     "name": "stderr",
     "output_type": "stream",
     "text": [
      "/tmp/ipykernel_37183/3149794742.py:132: FutureWarning: Setting an item of incompatible dtype is deprecated and will raise an error in a future version of pandas. Value 'Trailing SL Hit' has dtype incompatible with float64, please explicitly cast to a compatible dtype first.\n",
      "  tradebook_long.loc[\n"
     ]
    },
    {
     "name": "stdout",
     "output_type": "stream",
     "text": [
      "EMA:70, X:22, PCT:0.1\n"
     ]
    },
    {
     "name": "stderr",
     "output_type": "stream",
     "text": [
      "/tmp/ipykernel_37183/3149794742.py:132: FutureWarning: Setting an item of incompatible dtype is deprecated and will raise an error in a future version of pandas. Value 'Trailing SL Hit' has dtype incompatible with float64, please explicitly cast to a compatible dtype first.\n",
      "  tradebook_long.loc[\n"
     ]
    },
    {
     "name": "stdout",
     "output_type": "stream",
     "text": [
      "EMA:70, X:22, PCT:0.25\n"
     ]
    },
    {
     "name": "stderr",
     "output_type": "stream",
     "text": [
      "/tmp/ipykernel_37183/3149794742.py:132: FutureWarning: Setting an item of incompatible dtype is deprecated and will raise an error in a future version of pandas. Value 'Trailing SL Hit' has dtype incompatible with float64, please explicitly cast to a compatible dtype first.\n",
      "  tradebook_long.loc[\n"
     ]
    },
    {
     "name": "stdout",
     "output_type": "stream",
     "text": [
      "EMA:70, X:25, PCT:0.1\n"
     ]
    },
    {
     "name": "stderr",
     "output_type": "stream",
     "text": [
      "/tmp/ipykernel_37183/3149794742.py:132: FutureWarning: Setting an item of incompatible dtype is deprecated and will raise an error in a future version of pandas. Value 'Trailing SL Hit' has dtype incompatible with float64, please explicitly cast to a compatible dtype first.\n",
      "  tradebook_long.loc[\n"
     ]
    },
    {
     "name": "stdout",
     "output_type": "stream",
     "text": [
      "EMA:70, X:25, PCT:0.25\n"
     ]
    },
    {
     "name": "stderr",
     "output_type": "stream",
     "text": [
      "/tmp/ipykernel_37183/3149794742.py:132: FutureWarning: Setting an item of incompatible dtype is deprecated and will raise an error in a future version of pandas. Value 'Trailing SL Hit' has dtype incompatible with float64, please explicitly cast to a compatible dtype first.\n",
      "  tradebook_long.loc[\n"
     ]
    },
    {
     "name": "stdout",
     "output_type": "stream",
     "text": [
      "EMA:70, X:28, PCT:0.1\n"
     ]
    },
    {
     "name": "stderr",
     "output_type": "stream",
     "text": [
      "/tmp/ipykernel_37183/3149794742.py:132: FutureWarning: Setting an item of incompatible dtype is deprecated and will raise an error in a future version of pandas. Value 'Trailing SL Hit' has dtype incompatible with float64, please explicitly cast to a compatible dtype first.\n",
      "  tradebook_long.loc[\n"
     ]
    },
    {
     "name": "stdout",
     "output_type": "stream",
     "text": [
      "        Total ROI Total Trades Win Rate Avg Profit% per Trade Avg Loss% per Trade Max Drawdown ROI/DD Ratio              Variation\n",
      "2018     100.9846           49  38.7755                8.2276             -1.8447     -15.5202       6.5066  EMA:70, X:28, PCT:0.1\n",
      "2019      40.1549           57  33.3333                6.1862             -2.0364     -20.9470       1.9170  EMA:70, X:28, PCT:0.1\n",
      "2020     107.6871           50  36.0000                9.5829             -2.0252     -14.3149       7.5227  EMA:70, X:28, PCT:0.1\n",
      "2021     115.5005           49  36.7347                9.4261             -1.7474     -21.5441       5.3611  EMA:70, X:28, PCT:0.1\n",
      "2022     113.0074           45  33.3333               11.0192             -1.7427     -19.6443       5.7527  EMA:70, X:28, PCT:0.1\n",
      "2023     144.2805           60  26.6667               13.7474             -1.7200     -22.2583       6.4821  EMA:70, X:28, PCT:0.1\n",
      "2024      53.6039           51  31.3725                7.1509             -1.7374     -13.7558       3.8968  EMA:70, X:28, PCT:0.1\n",
      "Overall  675.2190          361  33.5180                9.2205             -1.8353     -22.2583      30.3356  EMA:70, X:28, PCT:0.1\n",
      "EMA:70, X:28, PCT:0.25\n"
     ]
    },
    {
     "name": "stderr",
     "output_type": "stream",
     "text": [
      "/tmp/ipykernel_37183/3149794742.py:132: FutureWarning: Setting an item of incompatible dtype is deprecated and will raise an error in a future version of pandas. Value 'Trailing SL Hit' has dtype incompatible with float64, please explicitly cast to a compatible dtype first.\n",
      "  tradebook_long.loc[\n"
     ]
    },
    {
     "name": "stdout",
     "output_type": "stream",
     "text": [
      "EMA:70, X:31, PCT:0.1\n"
     ]
    },
    {
     "name": "stderr",
     "output_type": "stream",
     "text": [
      "/tmp/ipykernel_37183/3149794742.py:132: FutureWarning: Setting an item of incompatible dtype is deprecated and will raise an error in a future version of pandas. Value 'Trailing SL Hit' has dtype incompatible with float64, please explicitly cast to a compatible dtype first.\n",
      "  tradebook_long.loc[\n"
     ]
    },
    {
     "name": "stdout",
     "output_type": "stream",
     "text": [
      "        Total ROI Total Trades Win Rate Avg Profit% per Trade Avg Loss% per Trade Max Drawdown ROI/DD Ratio              Variation\n",
      "2018      94.4080           48  39.5833                7.8153             -1.8649     -15.5723       6.0626  EMA:70, X:31, PCT:0.1\n",
      "2019      36.1888           55  32.7273                6.0746             -1.9771     -18.9588       1.9088  EMA:70, X:31, PCT:0.1\n",
      "2020     106.5277           51  33.3333               10.4080             -2.0708     -15.2213       6.9986  EMA:70, X:31, PCT:0.1\n",
      "2021     131.1626           46  39.1304                9.7397             -1.5769     -20.0331       6.5473  EMA:70, X:31, PCT:0.1\n",
      "2022     114.8823           44  34.0909               10.7971             -1.6232     -17.3988       6.6029  EMA:70, X:31, PCT:0.1\n",
      "2023      93.1412           58  27.5862               10.3957             -1.7426     -17.5277       5.3139  EMA:70, X:31, PCT:0.1\n",
      "2024      57.9902           50  32.0000                7.1957             -1.6806     -10.4077       5.5718  EMA:70, X:31, PCT:0.1\n",
      "Overall  634.3008          352  33.8068                8.8530             -1.7991     -20.0331      31.6626  EMA:70, X:31, PCT:0.1\n",
      "EMA:70, X:31, PCT:0.25\n"
     ]
    },
    {
     "name": "stderr",
     "output_type": "stream",
     "text": [
      "/tmp/ipykernel_37183/3149794742.py:132: FutureWarning: Setting an item of incompatible dtype is deprecated and will raise an error in a future version of pandas. Value 'Trailing SL Hit' has dtype incompatible with float64, please explicitly cast to a compatible dtype first.\n",
      "  tradebook_long.loc[\n"
     ]
    },
    {
     "name": "stdout",
     "output_type": "stream",
     "text": [
      "EMA:70, X:34, PCT:0.1\n"
     ]
    },
    {
     "name": "stderr",
     "output_type": "stream",
     "text": [
      "/tmp/ipykernel_37183/3149794742.py:132: FutureWarning: Setting an item of incompatible dtype is deprecated and will raise an error in a future version of pandas. Value 'Trailing SL Hit' has dtype incompatible with float64, please explicitly cast to a compatible dtype first.\n",
      "  tradebook_long.loc[\n"
     ]
    },
    {
     "name": "stdout",
     "output_type": "stream",
     "text": [
      "EMA:70, X:34, PCT:0.25\n"
     ]
    },
    {
     "name": "stderr",
     "output_type": "stream",
     "text": [
      "/tmp/ipykernel_37183/3149794742.py:132: FutureWarning: Setting an item of incompatible dtype is deprecated and will raise an error in a future version of pandas. Value 'Trailing SL Hit' has dtype incompatible with float64, please explicitly cast to a compatible dtype first.\n",
      "  tradebook_long.loc[\n"
     ]
    },
    {
     "name": "stdout",
     "output_type": "stream",
     "text": [
      "EMA:72, X:4, PCT:0.1\n"
     ]
    },
    {
     "name": "stderr",
     "output_type": "stream",
     "text": [
      "/tmp/ipykernel_37183/3149794742.py:132: FutureWarning: Setting an item of incompatible dtype is deprecated and will raise an error in a future version of pandas. Value 'Trailing SL Hit' has dtype incompatible with float64, please explicitly cast to a compatible dtype first.\n",
      "  tradebook_long.loc[\n"
     ]
    },
    {
     "name": "stdout",
     "output_type": "stream",
     "text": [
      "EMA:72, X:4, PCT:0.25\n"
     ]
    },
    {
     "name": "stderr",
     "output_type": "stream",
     "text": [
      "/tmp/ipykernel_37183/3149794742.py:132: FutureWarning: Setting an item of incompatible dtype is deprecated and will raise an error in a future version of pandas. Value 'Trailing SL Hit' has dtype incompatible with float64, please explicitly cast to a compatible dtype first.\n",
      "  tradebook_long.loc[\n"
     ]
    },
    {
     "name": "stdout",
     "output_type": "stream",
     "text": [
      "EMA:72, X:7, PCT:0.1\n"
     ]
    },
    {
     "name": "stderr",
     "output_type": "stream",
     "text": [
      "/tmp/ipykernel_37183/3149794742.py:132: FutureWarning: Setting an item of incompatible dtype is deprecated and will raise an error in a future version of pandas. Value 'Trailing SL Hit' has dtype incompatible with float64, please explicitly cast to a compatible dtype first.\n",
      "  tradebook_long.loc[\n"
     ]
    },
    {
     "name": "stdout",
     "output_type": "stream",
     "text": [
      "EMA:72, X:7, PCT:0.25\n"
     ]
    },
    {
     "name": "stderr",
     "output_type": "stream",
     "text": [
      "/tmp/ipykernel_37183/3149794742.py:132: FutureWarning: Setting an item of incompatible dtype is deprecated and will raise an error in a future version of pandas. Value 'Trailing SL Hit' has dtype incompatible with float64, please explicitly cast to a compatible dtype first.\n",
      "  tradebook_long.loc[\n"
     ]
    },
    {
     "name": "stdout",
     "output_type": "stream",
     "text": [
      "EMA:72, X:10, PCT:0.1\n"
     ]
    },
    {
     "name": "stderr",
     "output_type": "stream",
     "text": [
      "/tmp/ipykernel_37183/3149794742.py:132: FutureWarning: Setting an item of incompatible dtype is deprecated and will raise an error in a future version of pandas. Value 'Trailing SL Hit' has dtype incompatible with float64, please explicitly cast to a compatible dtype first.\n",
      "  tradebook_long.loc[\n"
     ]
    },
    {
     "name": "stdout",
     "output_type": "stream",
     "text": [
      "EMA:72, X:10, PCT:0.25\n"
     ]
    },
    {
     "name": "stderr",
     "output_type": "stream",
     "text": [
      "/tmp/ipykernel_37183/3149794742.py:132: FutureWarning: Setting an item of incompatible dtype is deprecated and will raise an error in a future version of pandas. Value 'Trailing SL Hit' has dtype incompatible with float64, please explicitly cast to a compatible dtype first.\n",
      "  tradebook_long.loc[\n"
     ]
    },
    {
     "name": "stdout",
     "output_type": "stream",
     "text": [
      "EMA:72, X:13, PCT:0.1\n"
     ]
    },
    {
     "name": "stderr",
     "output_type": "stream",
     "text": [
      "/tmp/ipykernel_37183/3149794742.py:132: FutureWarning: Setting an item of incompatible dtype is deprecated and will raise an error in a future version of pandas. Value 'Trailing SL Hit' has dtype incompatible with float64, please explicitly cast to a compatible dtype first.\n",
      "  tradebook_long.loc[\n"
     ]
    },
    {
     "name": "stdout",
     "output_type": "stream",
     "text": [
      "EMA:72, X:13, PCT:0.25\n"
     ]
    },
    {
     "name": "stderr",
     "output_type": "stream",
     "text": [
      "/tmp/ipykernel_37183/3149794742.py:132: FutureWarning: Setting an item of incompatible dtype is deprecated and will raise an error in a future version of pandas. Value 'Trailing SL Hit' has dtype incompatible with float64, please explicitly cast to a compatible dtype first.\n",
      "  tradebook_long.loc[\n"
     ]
    },
    {
     "name": "stdout",
     "output_type": "stream",
     "text": [
      "EMA:72, X:16, PCT:0.1\n"
     ]
    },
    {
     "name": "stderr",
     "output_type": "stream",
     "text": [
      "/tmp/ipykernel_37183/3149794742.py:132: FutureWarning: Setting an item of incompatible dtype is deprecated and will raise an error in a future version of pandas. Value 'Trailing SL Hit' has dtype incompatible with float64, please explicitly cast to a compatible dtype first.\n",
      "  tradebook_long.loc[\n"
     ]
    },
    {
     "name": "stdout",
     "output_type": "stream",
     "text": [
      "EMA:72, X:16, PCT:0.25\n"
     ]
    },
    {
     "name": "stderr",
     "output_type": "stream",
     "text": [
      "/tmp/ipykernel_37183/3149794742.py:132: FutureWarning: Setting an item of incompatible dtype is deprecated and will raise an error in a future version of pandas. Value 'Trailing SL Hit' has dtype incompatible with float64, please explicitly cast to a compatible dtype first.\n",
      "  tradebook_long.loc[\n"
     ]
    },
    {
     "name": "stdout",
     "output_type": "stream",
     "text": [
      "EMA:72, X:19, PCT:0.1\n"
     ]
    },
    {
     "name": "stderr",
     "output_type": "stream",
     "text": [
      "/tmp/ipykernel_37183/3149794742.py:132: FutureWarning: Setting an item of incompatible dtype is deprecated and will raise an error in a future version of pandas. Value 'Trailing SL Hit' has dtype incompatible with float64, please explicitly cast to a compatible dtype first.\n",
      "  tradebook_long.loc[\n"
     ]
    },
    {
     "name": "stdout",
     "output_type": "stream",
     "text": [
      "EMA:72, X:19, PCT:0.25\n"
     ]
    },
    {
     "name": "stderr",
     "output_type": "stream",
     "text": [
      "/tmp/ipykernel_37183/3149794742.py:132: FutureWarning: Setting an item of incompatible dtype is deprecated and will raise an error in a future version of pandas. Value 'Trailing SL Hit' has dtype incompatible with float64, please explicitly cast to a compatible dtype first.\n",
      "  tradebook_long.loc[\n"
     ]
    },
    {
     "name": "stdout",
     "output_type": "stream",
     "text": [
      "EMA:72, X:22, PCT:0.1\n"
     ]
    },
    {
     "name": "stderr",
     "output_type": "stream",
     "text": [
      "/tmp/ipykernel_37183/3149794742.py:132: FutureWarning: Setting an item of incompatible dtype is deprecated and will raise an error in a future version of pandas. Value 'Trailing SL Hit' has dtype incompatible with float64, please explicitly cast to a compatible dtype first.\n",
      "  tradebook_long.loc[\n"
     ]
    },
    {
     "name": "stdout",
     "output_type": "stream",
     "text": [
      "EMA:72, X:22, PCT:0.25\n"
     ]
    },
    {
     "name": "stderr",
     "output_type": "stream",
     "text": [
      "/tmp/ipykernel_37183/3149794742.py:132: FutureWarning: Setting an item of incompatible dtype is deprecated and will raise an error in a future version of pandas. Value 'Trailing SL Hit' has dtype incompatible with float64, please explicitly cast to a compatible dtype first.\n",
      "  tradebook_long.loc[\n"
     ]
    },
    {
     "name": "stdout",
     "output_type": "stream",
     "text": [
      "EMA:72, X:25, PCT:0.1\n"
     ]
    },
    {
     "name": "stderr",
     "output_type": "stream",
     "text": [
      "/tmp/ipykernel_37183/3149794742.py:132: FutureWarning: Setting an item of incompatible dtype is deprecated and will raise an error in a future version of pandas. Value 'Trailing SL Hit' has dtype incompatible with float64, please explicitly cast to a compatible dtype first.\n",
      "  tradebook_long.loc[\n"
     ]
    },
    {
     "name": "stdout",
     "output_type": "stream",
     "text": [
      "EMA:72, X:25, PCT:0.25\n"
     ]
    },
    {
     "name": "stderr",
     "output_type": "stream",
     "text": [
      "/tmp/ipykernel_37183/3149794742.py:132: FutureWarning: Setting an item of incompatible dtype is deprecated and will raise an error in a future version of pandas. Value 'Trailing SL Hit' has dtype incompatible with float64, please explicitly cast to a compatible dtype first.\n",
      "  tradebook_long.loc[\n"
     ]
    },
    {
     "name": "stdout",
     "output_type": "stream",
     "text": [
      "EMA:72, X:28, PCT:0.1\n"
     ]
    },
    {
     "name": "stderr",
     "output_type": "stream",
     "text": [
      "/tmp/ipykernel_37183/3149794742.py:132: FutureWarning: Setting an item of incompatible dtype is deprecated and will raise an error in a future version of pandas. Value 'Trailing SL Hit' has dtype incompatible with float64, please explicitly cast to a compatible dtype first.\n",
      "  tradebook_long.loc[\n"
     ]
    },
    {
     "name": "stdout",
     "output_type": "stream",
     "text": [
      "        Total ROI Total Trades Win Rate Avg Profit% per Trade Avg Loss% per Trade Max Drawdown ROI/DD Ratio              Variation\n",
      "2018     100.5432           47  38.2979                8.5936             -1.8670     -15.9651       6.2977  EMA:72, X:28, PCT:0.1\n",
      "2019      40.5157           56  33.9286                6.1210             -2.0482     -20.9470       1.9342  EMA:72, X:28, PCT:0.1\n",
      "2020     112.1513           49  38.7755                9.0753             -2.0093     -12.9525       8.6587  EMA:72, X:28, PCT:0.1\n",
      "2021     122.3350           47  36.1702               10.3431             -1.7833     -21.1279       5.7902  EMA:72, X:28, PCT:0.1\n",
      "2022     116.0563           44  29.5455               12.6226             -1.5496     -15.5964       7.4412  EMA:72, X:28, PCT:0.1\n",
      "2023     150.0640           59  23.7288               16.1600             -1.6928     -22.2583       6.7419  EMA:72, X:28, PCT:0.1\n",
      "2024      51.9539           52  30.7692                7.0766             -1.7020     -13.7558       3.7769  EMA:72, X:28, PCT:0.1\n",
      "Overall  693.6194          354  32.7684                9.6794             -1.8033     -22.2583      31.1622  EMA:72, X:28, PCT:0.1\n",
      "EMA:72, X:28, PCT:0.25\n"
     ]
    },
    {
     "name": "stderr",
     "output_type": "stream",
     "text": [
      "/tmp/ipykernel_37183/3149794742.py:132: FutureWarning: Setting an item of incompatible dtype is deprecated and will raise an error in a future version of pandas. Value 'Trailing SL Hit' has dtype incompatible with float64, please explicitly cast to a compatible dtype first.\n",
      "  tradebook_long.loc[\n"
     ]
    },
    {
     "name": "stdout",
     "output_type": "stream",
     "text": [
      "EMA:72, X:31, PCT:0.1\n"
     ]
    },
    {
     "name": "stderr",
     "output_type": "stream",
     "text": [
      "/tmp/ipykernel_37183/3149794742.py:132: FutureWarning: Setting an item of incompatible dtype is deprecated and will raise an error in a future version of pandas. Value 'Trailing SL Hit' has dtype incompatible with float64, please explicitly cast to a compatible dtype first.\n",
      "  tradebook_long.loc[\n"
     ]
    },
    {
     "name": "stdout",
     "output_type": "stream",
     "text": [
      "        Total ROI Total Trades Win Rate Avg Profit% per Trade Avg Loss% per Trade Max Drawdown ROI/DD Ratio              Variation\n",
      "2018      93.5259           46  39.1304                8.1454             -1.8961     -16.0232       5.8369  EMA:72, X:31, PCT:0.1\n",
      "2019      34.3824           55  32.7273                6.0063             -1.9927     -18.9588       1.8135  EMA:72, X:31, PCT:0.1\n",
      "2020     110.9122           50  36.0000                9.8245             -2.0602     -12.7657       8.6883  EMA:72, X:31, PCT:0.1\n",
      "2021     138.7710           44  38.6364               10.7451             -1.6258     -19.7768       7.0169  EMA:72, X:31, PCT:0.1\n",
      "2022     117.9088           43  30.2326               12.3824             -1.4354     -15.8860       7.4222  EMA:72, X:31, PCT:0.1\n",
      "2023      98.0274           57  24.5614               12.3288             -1.7343     -17.5277       5.5927  EMA:72, X:31, PCT:0.1\n",
      "2024      56.2710           51  31.3725                7.1162             -1.6454     -10.4077       5.4067  EMA:72, X:31, PCT:0.1\n",
      "Overall  649.7987          346  32.9480                9.3129             -1.7753     -19.7768      32.8566  EMA:72, X:31, PCT:0.1\n",
      "EMA:72, X:31, PCT:0.25\n"
     ]
    },
    {
     "name": "stderr",
     "output_type": "stream",
     "text": [
      "/tmp/ipykernel_37183/3149794742.py:132: FutureWarning: Setting an item of incompatible dtype is deprecated and will raise an error in a future version of pandas. Value 'Trailing SL Hit' has dtype incompatible with float64, please explicitly cast to a compatible dtype first.\n",
      "  tradebook_long.loc[\n"
     ]
    },
    {
     "name": "stdout",
     "output_type": "stream",
     "text": [
      "EMA:72, X:34, PCT:0.1\n"
     ]
    },
    {
     "name": "stderr",
     "output_type": "stream",
     "text": [
      "/tmp/ipykernel_37183/3149794742.py:132: FutureWarning: Setting an item of incompatible dtype is deprecated and will raise an error in a future version of pandas. Value 'Trailing SL Hit' has dtype incompatible with float64, please explicitly cast to a compatible dtype first.\n",
      "  tradebook_long.loc[\n"
     ]
    },
    {
     "name": "stdout",
     "output_type": "stream",
     "text": [
      "        Total ROI Total Trades Win Rate Avg Profit% per Trade Avg Loss% per Trade Max Drawdown ROI/DD Ratio              Variation\n",
      "2018      81.7870           47  38.2979                7.7888             -2.0142     -12.7371       6.4212  EMA:72, X:34, PCT:0.1\n",
      "2019      41.7237           53  33.9623                6.0364             -1.9123     -16.0457       2.6003  EMA:72, X:34, PCT:0.1\n",
      "2020     123.1432           49  36.7347               10.4473             -2.0938     -12.6714       9.7182  EMA:72, X:34, PCT:0.1\n",
      "2021     125.9451           45  35.5556               10.9992             -1.7256     -20.2714       6.2129  EMA:72, X:34, PCT:0.1\n",
      "2022     113.8744           43  27.9070               13.1373             -1.4121     -16.3215       6.9770  EMA:72, X:34, PCT:0.1\n",
      "2023      99.5473           57  26.3158               11.6177             -1.7790     -20.9278       4.7567  EMA:72, X:34, PCT:0.1\n",
      "2024      53.5868           52  30.7692                7.1437             -1.6864     -13.6991       3.9117  EMA:72, X:34, PCT:0.1\n",
      "Overall  639.6076          346  32.6590                9.3726             -1.8004     -20.9278      30.5626  EMA:72, X:34, PCT:0.1\n",
      "EMA:72, X:34, PCT:0.25\n"
     ]
    },
    {
     "name": "stderr",
     "output_type": "stream",
     "text": [
      "/tmp/ipykernel_37183/3149794742.py:132: FutureWarning: Setting an item of incompatible dtype is deprecated and will raise an error in a future version of pandas. Value 'Trailing SL Hit' has dtype incompatible with float64, please explicitly cast to a compatible dtype first.\n",
      "  tradebook_long.loc[\n"
     ]
    },
    {
     "name": "stdout",
     "output_type": "stream",
     "text": [
      "EMA:74, X:4, PCT:0.1\n"
     ]
    },
    {
     "name": "stderr",
     "output_type": "stream",
     "text": [
      "/tmp/ipykernel_37183/3149794742.py:132: FutureWarning: Setting an item of incompatible dtype is deprecated and will raise an error in a future version of pandas. Value 'Trailing SL Hit' has dtype incompatible with float64, please explicitly cast to a compatible dtype first.\n",
      "  tradebook_long.loc[\n"
     ]
    },
    {
     "name": "stdout",
     "output_type": "stream",
     "text": [
      "EMA:74, X:4, PCT:0.25\n"
     ]
    },
    {
     "name": "stderr",
     "output_type": "stream",
     "text": [
      "/tmp/ipykernel_37183/3149794742.py:132: FutureWarning: Setting an item of incompatible dtype is deprecated and will raise an error in a future version of pandas. Value 'Trailing SL Hit' has dtype incompatible with float64, please explicitly cast to a compatible dtype first.\n",
      "  tradebook_long.loc[\n"
     ]
    },
    {
     "name": "stdout",
     "output_type": "stream",
     "text": [
      "EMA:74, X:7, PCT:0.1\n"
     ]
    },
    {
     "name": "stderr",
     "output_type": "stream",
     "text": [
      "/tmp/ipykernel_37183/3149794742.py:132: FutureWarning: Setting an item of incompatible dtype is deprecated and will raise an error in a future version of pandas. Value 'Trailing SL Hit' has dtype incompatible with float64, please explicitly cast to a compatible dtype first.\n",
      "  tradebook_long.loc[\n"
     ]
    },
    {
     "name": "stdout",
     "output_type": "stream",
     "text": [
      "EMA:74, X:7, PCT:0.25\n"
     ]
    },
    {
     "name": "stderr",
     "output_type": "stream",
     "text": [
      "/tmp/ipykernel_37183/3149794742.py:132: FutureWarning: Setting an item of incompatible dtype is deprecated and will raise an error in a future version of pandas. Value 'Trailing SL Hit' has dtype incompatible with float64, please explicitly cast to a compatible dtype first.\n",
      "  tradebook_long.loc[\n"
     ]
    },
    {
     "name": "stdout",
     "output_type": "stream",
     "text": [
      "EMA:74, X:10, PCT:0.1\n"
     ]
    },
    {
     "name": "stderr",
     "output_type": "stream",
     "text": [
      "/tmp/ipykernel_37183/3149794742.py:132: FutureWarning: Setting an item of incompatible dtype is deprecated and will raise an error in a future version of pandas. Value 'Trailing SL Hit' has dtype incompatible with float64, please explicitly cast to a compatible dtype first.\n",
      "  tradebook_long.loc[\n"
     ]
    },
    {
     "name": "stdout",
     "output_type": "stream",
     "text": [
      "EMA:74, X:10, PCT:0.25\n"
     ]
    },
    {
     "name": "stderr",
     "output_type": "stream",
     "text": [
      "/tmp/ipykernel_37183/3149794742.py:132: FutureWarning: Setting an item of incompatible dtype is deprecated and will raise an error in a future version of pandas. Value 'Trailing SL Hit' has dtype incompatible with float64, please explicitly cast to a compatible dtype first.\n",
      "  tradebook_long.loc[\n"
     ]
    },
    {
     "name": "stdout",
     "output_type": "stream",
     "text": [
      "EMA:74, X:13, PCT:0.1\n"
     ]
    },
    {
     "name": "stderr",
     "output_type": "stream",
     "text": [
      "/tmp/ipykernel_37183/3149794742.py:132: FutureWarning: Setting an item of incompatible dtype is deprecated and will raise an error in a future version of pandas. Value 'Trailing SL Hit' has dtype incompatible with float64, please explicitly cast to a compatible dtype first.\n",
      "  tradebook_long.loc[\n"
     ]
    },
    {
     "name": "stdout",
     "output_type": "stream",
     "text": [
      "EMA:74, X:13, PCT:0.25\n"
     ]
    },
    {
     "name": "stderr",
     "output_type": "stream",
     "text": [
      "/tmp/ipykernel_37183/3149794742.py:132: FutureWarning: Setting an item of incompatible dtype is deprecated and will raise an error in a future version of pandas. Value 'Trailing SL Hit' has dtype incompatible with float64, please explicitly cast to a compatible dtype first.\n",
      "  tradebook_long.loc[\n"
     ]
    },
    {
     "name": "stdout",
     "output_type": "stream",
     "text": [
      "EMA:74, X:16, PCT:0.1\n"
     ]
    },
    {
     "name": "stderr",
     "output_type": "stream",
     "text": [
      "/tmp/ipykernel_37183/3149794742.py:132: FutureWarning: Setting an item of incompatible dtype is deprecated and will raise an error in a future version of pandas. Value 'Trailing SL Hit' has dtype incompatible with float64, please explicitly cast to a compatible dtype first.\n",
      "  tradebook_long.loc[\n"
     ]
    },
    {
     "name": "stdout",
     "output_type": "stream",
     "text": [
      "EMA:74, X:16, PCT:0.25\n"
     ]
    },
    {
     "name": "stderr",
     "output_type": "stream",
     "text": [
      "/tmp/ipykernel_37183/3149794742.py:132: FutureWarning: Setting an item of incompatible dtype is deprecated and will raise an error in a future version of pandas. Value 'Trailing SL Hit' has dtype incompatible with float64, please explicitly cast to a compatible dtype first.\n",
      "  tradebook_long.loc[\n"
     ]
    },
    {
     "name": "stdout",
     "output_type": "stream",
     "text": [
      "EMA:74, X:19, PCT:0.1\n"
     ]
    },
    {
     "name": "stderr",
     "output_type": "stream",
     "text": [
      "/tmp/ipykernel_37183/3149794742.py:132: FutureWarning: Setting an item of incompatible dtype is deprecated and will raise an error in a future version of pandas. Value 'Trailing SL Hit' has dtype incompatible with float64, please explicitly cast to a compatible dtype first.\n",
      "  tradebook_long.loc[\n"
     ]
    },
    {
     "name": "stdout",
     "output_type": "stream",
     "text": [
      "EMA:74, X:19, PCT:0.25\n"
     ]
    },
    {
     "name": "stderr",
     "output_type": "stream",
     "text": [
      "/tmp/ipykernel_37183/3149794742.py:132: FutureWarning: Setting an item of incompatible dtype is deprecated and will raise an error in a future version of pandas. Value 'Trailing SL Hit' has dtype incompatible with float64, please explicitly cast to a compatible dtype first.\n",
      "  tradebook_long.loc[\n"
     ]
    },
    {
     "name": "stdout",
     "output_type": "stream",
     "text": [
      "EMA:74, X:22, PCT:0.1\n"
     ]
    },
    {
     "name": "stderr",
     "output_type": "stream",
     "text": [
      "/tmp/ipykernel_37183/3149794742.py:132: FutureWarning: Setting an item of incompatible dtype is deprecated and will raise an error in a future version of pandas. Value 'Trailing SL Hit' has dtype incompatible with float64, please explicitly cast to a compatible dtype first.\n",
      "  tradebook_long.loc[\n"
     ]
    },
    {
     "name": "stdout",
     "output_type": "stream",
     "text": [
      "EMA:74, X:22, PCT:0.25\n"
     ]
    },
    {
     "name": "stderr",
     "output_type": "stream",
     "text": [
      "/tmp/ipykernel_37183/3149794742.py:132: FutureWarning: Setting an item of incompatible dtype is deprecated and will raise an error in a future version of pandas. Value 'Trailing SL Hit' has dtype incompatible with float64, please explicitly cast to a compatible dtype first.\n",
      "  tradebook_long.loc[\n"
     ]
    },
    {
     "name": "stdout",
     "output_type": "stream",
     "text": [
      "EMA:74, X:25, PCT:0.1\n"
     ]
    },
    {
     "name": "stderr",
     "output_type": "stream",
     "text": [
      "/tmp/ipykernel_37183/3149794742.py:132: FutureWarning: Setting an item of incompatible dtype is deprecated and will raise an error in a future version of pandas. Value 'Trailing SL Hit' has dtype incompatible with float64, please explicitly cast to a compatible dtype first.\n",
      "  tradebook_long.loc[\n"
     ]
    },
    {
     "name": "stdout",
     "output_type": "stream",
     "text": [
      "EMA:74, X:25, PCT:0.25\n"
     ]
    },
    {
     "name": "stderr",
     "output_type": "stream",
     "text": [
      "/tmp/ipykernel_37183/3149794742.py:132: FutureWarning: Setting an item of incompatible dtype is deprecated and will raise an error in a future version of pandas. Value 'Trailing SL Hit' has dtype incompatible with float64, please explicitly cast to a compatible dtype first.\n",
      "  tradebook_long.loc[\n"
     ]
    },
    {
     "name": "stdout",
     "output_type": "stream",
     "text": [
      "EMA:74, X:28, PCT:0.1\n"
     ]
    },
    {
     "name": "stderr",
     "output_type": "stream",
     "text": [
      "/tmp/ipykernel_37183/3149794742.py:132: FutureWarning: Setting an item of incompatible dtype is deprecated and will raise an error in a future version of pandas. Value 'Trailing SL Hit' has dtype incompatible with float64, please explicitly cast to a compatible dtype first.\n",
      "  tradebook_long.loc[\n"
     ]
    },
    {
     "name": "stdout",
     "output_type": "stream",
     "text": [
      "        Total ROI Total Trades Win Rate Avg Profit% per Trade Avg Loss% per Trade Max Drawdown ROI/DD Ratio              Variation\n",
      "2018     103.8854           46  39.1304                8.5443             -1.7826     -16.2895       6.3775  EMA:74, X:28, PCT:0.1\n",
      "2019      44.2964           54  35.1852                6.1254             -2.0596     -20.9680       2.1126  EMA:74, X:28, PCT:0.1\n",
      "2020     110.5512           48  39.5833                8.9937             -2.0803     -12.9525       8.5351  EMA:74, X:28, PCT:0.1\n",
      "2021     119.8050           48  37.5000                9.6447             -1.7933     -21.3889       5.6013  EMA:74, X:28, PCT:0.1\n",
      "2022     121.4077           40  30.0000               14.0906             -1.7029     -15.6948       7.7356  EMA:74, X:28, PCT:0.1\n",
      "2023     136.5023           57  22.8070               16.4296             -1.7519     -22.4113       6.0908  EMA:74, X:28, PCT:0.1\n",
      "2024      43.9330           52  30.7692                6.6152             -1.7197     -17.7348       2.4772  EMA:74, X:28, PCT:0.1\n",
      "Overall  680.3809          345  33.3333                9.5929             -1.8383     -22.4113      30.3588  EMA:74, X:28, PCT:0.1\n",
      "EMA:74, X:28, PCT:0.25\n"
     ]
    },
    {
     "name": "stderr",
     "output_type": "stream",
     "text": [
      "/tmp/ipykernel_37183/3149794742.py:132: FutureWarning: Setting an item of incompatible dtype is deprecated and will raise an error in a future version of pandas. Value 'Trailing SL Hit' has dtype incompatible with float64, please explicitly cast to a compatible dtype first.\n",
      "  tradebook_long.loc[\n"
     ]
    },
    {
     "name": "stdout",
     "output_type": "stream",
     "text": [
      "EMA:74, X:31, PCT:0.1\n"
     ]
    },
    {
     "name": "stderr",
     "output_type": "stream",
     "text": [
      "/tmp/ipykernel_37183/3149794742.py:132: FutureWarning: Setting an item of incompatible dtype is deprecated and will raise an error in a future version of pandas. Value 'Trailing SL Hit' has dtype incompatible with float64, please explicitly cast to a compatible dtype first.\n",
      "  tradebook_long.loc[\n"
     ]
    },
    {
     "name": "stdout",
     "output_type": "stream",
     "text": [
      "        Total ROI Total Trades Win Rate Avg Profit% per Trade Avg Loss% per Trade Max Drawdown ROI/DD Ratio              Variation\n",
      "2018      96.2948           45  40.0000                8.0963             -1.8310     -16.3451       5.8913  EMA:74, X:31, PCT:0.1\n",
      "2019      38.9198           53  33.9623                6.0399             -1.9942     -18.6694       2.0847  EMA:74, X:31, PCT:0.1\n",
      "2020     109.5602           49  36.7347                9.7333             -2.1174     -12.7657       8.5824  EMA:74, X:31, PCT:0.1\n",
      "2021     136.3459           45  40.0000               10.0301             -1.6369     -21.8039       6.2533  EMA:74, X:31, PCT:0.1\n",
      "2022     124.6958           39  30.7692               13.9491             -1.5812     -16.0263       7.7807  EMA:74, X:31, PCT:0.1\n",
      "2023     145.0330           54  24.0741               16.7373             -1.7696     -17.6994       8.1942  EMA:74, X:31, PCT:0.1\n",
      "2024      48.4332           51  31.3725                6.6645             -1.6628     -14.8822       3.2544  EMA:74, X:31, PCT:0.1\n",
      "Overall  699.2827          336  33.6310                9.7504             -1.8050     -21.8039      32.0715  EMA:74, X:31, PCT:0.1\n",
      "EMA:74, X:31, PCT:0.25\n"
     ]
    },
    {
     "name": "stderr",
     "output_type": "stream",
     "text": [
      "/tmp/ipykernel_37183/3149794742.py:132: FutureWarning: Setting an item of incompatible dtype is deprecated and will raise an error in a future version of pandas. Value 'Trailing SL Hit' has dtype incompatible with float64, please explicitly cast to a compatible dtype first.\n",
      "  tradebook_long.loc[\n"
     ]
    },
    {
     "name": "stdout",
     "output_type": "stream",
     "text": [
      "EMA:74, X:34, PCT:0.1\n"
     ]
    },
    {
     "name": "stderr",
     "output_type": "stream",
     "text": [
      "/tmp/ipykernel_37183/3149794742.py:132: FutureWarning: Setting an item of incompatible dtype is deprecated and will raise an error in a future version of pandas. Value 'Trailing SL Hit' has dtype incompatible with float64, please explicitly cast to a compatible dtype first.\n",
      "  tradebook_long.loc[\n"
     ]
    },
    {
     "name": "stdout",
     "output_type": "stream",
     "text": [
      "        Total ROI Total Trades Win Rate Avg Profit% per Trade Avg Loss% per Trade Max Drawdown ROI/DD Ratio              Variation\n",
      "2018      82.3790           47  38.2979                7.7411             -1.9642     -13.9408       5.9092  EMA:74, X:34, PCT:0.1\n",
      "2019      46.2765           51  35.2941                6.0783             -1.9131     -16.3220       2.8352  EMA:74, X:34, PCT:0.1\n",
      "2020     121.0116           48  37.5000               10.3136             -2.1545     -12.6714       9.5500  EMA:74, X:34, PCT:0.1\n",
      "2021     123.5390           46  36.9565               10.2269             -1.7351     -22.2795       5.5450  EMA:74, X:34, PCT:0.1\n",
      "2022     123.7855           39  30.7692               13.8910             -1.5891     -16.4204       7.5385  EMA:74, X:34, PCT:0.1\n",
      "2023     146.2052           56  23.2143               16.9157             -1.7139     -19.7400       7.4065  EMA:74, X:34, PCT:0.1\n",
      "2024      52.4449           52  30.7692                7.1072             -1.7020     -14.2021       3.6928  EMA:74, X:34, PCT:0.1\n",
      "Overall  695.6418          339  33.0383                9.8979             -1.8190     -22.2795      31.2234  EMA:74, X:34, PCT:0.1\n",
      "EMA:74, X:34, PCT:0.25\n"
     ]
    },
    {
     "name": "stderr",
     "output_type": "stream",
     "text": [
      "/tmp/ipykernel_37183/3149794742.py:132: FutureWarning: Setting an item of incompatible dtype is deprecated and will raise an error in a future version of pandas. Value 'Trailing SL Hit' has dtype incompatible with float64, please explicitly cast to a compatible dtype first.\n",
      "  tradebook_long.loc[\n"
     ]
    },
    {
     "name": "stdout",
     "output_type": "stream",
     "text": [
      "        Total ROI Total Trades Win Rate Avg Profit% per Trade Avg Loss% per Trade Max Drawdown ROI/DD Ratio               Variation\n",
      "2018      73.9124           39  38.4615                7.3286             -1.5007      -9.7365       7.5913  EMA:74, X:34, PCT:0.25\n",
      "2019      42.5701           45  37.7778                5.5936             -1.8758     -10.8468       3.9247  EMA:74, X:34, PCT:0.25\n",
      "2020     120.9771           43  39.5349               10.1553             -1.9870     -12.6714       9.5472  EMA:74, X:34, PCT:0.25\n",
      "2021      93.8055           42  38.0952                8.3394             -1.5241     -15.8819       5.9064  EMA:74, X:34, PCT:0.25\n",
      "2022      70.7000           38  28.9474               10.1456             -1.5149     -14.2214       4.9714  EMA:74, X:34, PCT:0.25\n",
      "2023      87.1136           46  28.2609               11.5335             -1.9037     -16.9034       5.1536  EMA:74, X:34, PCT:0.25\n",
      "2024      40.5120           45  35.5556                5.5696             -1.6759      -9.1818       4.4122  EMA:74, X:34, PCT:0.25\n",
      "Overall  529.5909          298  35.2349                8.2071             -1.7210     -16.9034      31.3305  EMA:74, X:34, PCT:0.25\n",
      "EMA:76, X:4, PCT:0.1\n"
     ]
    },
    {
     "name": "stderr",
     "output_type": "stream",
     "text": [
      "/tmp/ipykernel_37183/3149794742.py:132: FutureWarning: Setting an item of incompatible dtype is deprecated and will raise an error in a future version of pandas. Value 'Trailing SL Hit' has dtype incompatible with float64, please explicitly cast to a compatible dtype first.\n",
      "  tradebook_long.loc[\n"
     ]
    },
    {
     "name": "stdout",
     "output_type": "stream",
     "text": [
      "EMA:76, X:4, PCT:0.25\n"
     ]
    },
    {
     "name": "stderr",
     "output_type": "stream",
     "text": [
      "/tmp/ipykernel_37183/3149794742.py:132: FutureWarning: Setting an item of incompatible dtype is deprecated and will raise an error in a future version of pandas. Value 'Trailing SL Hit' has dtype incompatible with float64, please explicitly cast to a compatible dtype first.\n",
      "  tradebook_long.loc[\n"
     ]
    },
    {
     "name": "stdout",
     "output_type": "stream",
     "text": [
      "EMA:76, X:7, PCT:0.1\n"
     ]
    },
    {
     "name": "stderr",
     "output_type": "stream",
     "text": [
      "/tmp/ipykernel_37183/3149794742.py:132: FutureWarning: Setting an item of incompatible dtype is deprecated and will raise an error in a future version of pandas. Value 'Trailing SL Hit' has dtype incompatible with float64, please explicitly cast to a compatible dtype first.\n",
      "  tradebook_long.loc[\n"
     ]
    },
    {
     "name": "stdout",
     "output_type": "stream",
     "text": [
      "EMA:76, X:7, PCT:0.25\n"
     ]
    },
    {
     "name": "stderr",
     "output_type": "stream",
     "text": [
      "/tmp/ipykernel_37183/3149794742.py:132: FutureWarning: Setting an item of incompatible dtype is deprecated and will raise an error in a future version of pandas. Value 'Trailing SL Hit' has dtype incompatible with float64, please explicitly cast to a compatible dtype first.\n",
      "  tradebook_long.loc[\n"
     ]
    },
    {
     "name": "stdout",
     "output_type": "stream",
     "text": [
      "EMA:76, X:10, PCT:0.1\n"
     ]
    },
    {
     "name": "stderr",
     "output_type": "stream",
     "text": [
      "/tmp/ipykernel_37183/3149794742.py:132: FutureWarning: Setting an item of incompatible dtype is deprecated and will raise an error in a future version of pandas. Value 'Trailing SL Hit' has dtype incompatible with float64, please explicitly cast to a compatible dtype first.\n",
      "  tradebook_long.loc[\n"
     ]
    },
    {
     "name": "stdout",
     "output_type": "stream",
     "text": [
      "EMA:76, X:10, PCT:0.25\n"
     ]
    },
    {
     "name": "stderr",
     "output_type": "stream",
     "text": [
      "/tmp/ipykernel_37183/3149794742.py:132: FutureWarning: Setting an item of incompatible dtype is deprecated and will raise an error in a future version of pandas. Value 'Trailing SL Hit' has dtype incompatible with float64, please explicitly cast to a compatible dtype first.\n",
      "  tradebook_long.loc[\n"
     ]
    },
    {
     "name": "stdout",
     "output_type": "stream",
     "text": [
      "EMA:76, X:13, PCT:0.1\n"
     ]
    },
    {
     "name": "stderr",
     "output_type": "stream",
     "text": [
      "/tmp/ipykernel_37183/3149794742.py:132: FutureWarning: Setting an item of incompatible dtype is deprecated and will raise an error in a future version of pandas. Value 'Trailing SL Hit' has dtype incompatible with float64, please explicitly cast to a compatible dtype first.\n",
      "  tradebook_long.loc[\n"
     ]
    },
    {
     "name": "stdout",
     "output_type": "stream",
     "text": [
      "EMA:76, X:13, PCT:0.25\n"
     ]
    },
    {
     "name": "stderr",
     "output_type": "stream",
     "text": [
      "/tmp/ipykernel_37183/3149794742.py:132: FutureWarning: Setting an item of incompatible dtype is deprecated and will raise an error in a future version of pandas. Value 'Trailing SL Hit' has dtype incompatible with float64, please explicitly cast to a compatible dtype first.\n",
      "  tradebook_long.loc[\n"
     ]
    },
    {
     "name": "stdout",
     "output_type": "stream",
     "text": [
      "EMA:76, X:16, PCT:0.1\n"
     ]
    },
    {
     "name": "stderr",
     "output_type": "stream",
     "text": [
      "/tmp/ipykernel_37183/3149794742.py:132: FutureWarning: Setting an item of incompatible dtype is deprecated and will raise an error in a future version of pandas. Value 'Trailing SL Hit' has dtype incompatible with float64, please explicitly cast to a compatible dtype first.\n",
      "  tradebook_long.loc[\n"
     ]
    },
    {
     "name": "stdout",
     "output_type": "stream",
     "text": [
      "EMA:76, X:16, PCT:0.25\n"
     ]
    },
    {
     "name": "stderr",
     "output_type": "stream",
     "text": [
      "/tmp/ipykernel_37183/3149794742.py:132: FutureWarning: Setting an item of incompatible dtype is deprecated and will raise an error in a future version of pandas. Value 'Trailing SL Hit' has dtype incompatible with float64, please explicitly cast to a compatible dtype first.\n",
      "  tradebook_long.loc[\n"
     ]
    },
    {
     "name": "stdout",
     "output_type": "stream",
     "text": [
      "EMA:76, X:19, PCT:0.1\n"
     ]
    },
    {
     "name": "stderr",
     "output_type": "stream",
     "text": [
      "/tmp/ipykernel_37183/3149794742.py:132: FutureWarning: Setting an item of incompatible dtype is deprecated and will raise an error in a future version of pandas. Value 'Trailing SL Hit' has dtype incompatible with float64, please explicitly cast to a compatible dtype first.\n",
      "  tradebook_long.loc[\n"
     ]
    },
    {
     "name": "stdout",
     "output_type": "stream",
     "text": [
      "EMA:76, X:19, PCT:0.25\n"
     ]
    },
    {
     "name": "stderr",
     "output_type": "stream",
     "text": [
      "/tmp/ipykernel_37183/3149794742.py:132: FutureWarning: Setting an item of incompatible dtype is deprecated and will raise an error in a future version of pandas. Value 'Trailing SL Hit' has dtype incompatible with float64, please explicitly cast to a compatible dtype first.\n",
      "  tradebook_long.loc[\n"
     ]
    },
    {
     "name": "stdout",
     "output_type": "stream",
     "text": [
      "EMA:76, X:22, PCT:0.1\n"
     ]
    },
    {
     "name": "stderr",
     "output_type": "stream",
     "text": [
      "/tmp/ipykernel_37183/3149794742.py:132: FutureWarning: Setting an item of incompatible dtype is deprecated and will raise an error in a future version of pandas. Value 'Trailing SL Hit' has dtype incompatible with float64, please explicitly cast to a compatible dtype first.\n",
      "  tradebook_long.loc[\n"
     ]
    },
    {
     "name": "stdout",
     "output_type": "stream",
     "text": [
      "EMA:76, X:22, PCT:0.25\n"
     ]
    },
    {
     "name": "stderr",
     "output_type": "stream",
     "text": [
      "/tmp/ipykernel_37183/3149794742.py:132: FutureWarning: Setting an item of incompatible dtype is deprecated and will raise an error in a future version of pandas. Value 'Trailing SL Hit' has dtype incompatible with float64, please explicitly cast to a compatible dtype first.\n",
      "  tradebook_long.loc[\n"
     ]
    },
    {
     "name": "stdout",
     "output_type": "stream",
     "text": [
      "EMA:76, X:25, PCT:0.1\n"
     ]
    },
    {
     "name": "stderr",
     "output_type": "stream",
     "text": [
      "/tmp/ipykernel_37183/3149794742.py:132: FutureWarning: Setting an item of incompatible dtype is deprecated and will raise an error in a future version of pandas. Value 'Trailing SL Hit' has dtype incompatible with float64, please explicitly cast to a compatible dtype first.\n",
      "  tradebook_long.loc[\n"
     ]
    },
    {
     "name": "stdout",
     "output_type": "stream",
     "text": [
      "EMA:76, X:25, PCT:0.25\n"
     ]
    },
    {
     "name": "stderr",
     "output_type": "stream",
     "text": [
      "/tmp/ipykernel_37183/3149794742.py:132: FutureWarning: Setting an item of incompatible dtype is deprecated and will raise an error in a future version of pandas. Value 'Trailing SL Hit' has dtype incompatible with float64, please explicitly cast to a compatible dtype first.\n",
      "  tradebook_long.loc[\n"
     ]
    },
    {
     "name": "stdout",
     "output_type": "stream",
     "text": [
      "EMA:76, X:28, PCT:0.1\n"
     ]
    },
    {
     "name": "stderr",
     "output_type": "stream",
     "text": [
      "/tmp/ipykernel_37183/3149794742.py:132: FutureWarning: Setting an item of incompatible dtype is deprecated and will raise an error in a future version of pandas. Value 'Trailing SL Hit' has dtype incompatible with float64, please explicitly cast to a compatible dtype first.\n",
      "  tradebook_long.loc[\n"
     ]
    },
    {
     "name": "stdout",
     "output_type": "stream",
     "text": [
      "EMA:76, X:28, PCT:0.25\n"
     ]
    },
    {
     "name": "stderr",
     "output_type": "stream",
     "text": [
      "/tmp/ipykernel_37183/3149794742.py:132: FutureWarning: Setting an item of incompatible dtype is deprecated and will raise an error in a future version of pandas. Value 'Trailing SL Hit' has dtype incompatible with float64, please explicitly cast to a compatible dtype first.\n",
      "  tradebook_long.loc[\n"
     ]
    },
    {
     "name": "stdout",
     "output_type": "stream",
     "text": [
      "EMA:76, X:31, PCT:0.1\n"
     ]
    },
    {
     "name": "stderr",
     "output_type": "stream",
     "text": [
      "/tmp/ipykernel_37183/3149794742.py:132: FutureWarning: Setting an item of incompatible dtype is deprecated and will raise an error in a future version of pandas. Value 'Trailing SL Hit' has dtype incompatible with float64, please explicitly cast to a compatible dtype first.\n",
      "  tradebook_long.loc[\n"
     ]
    },
    {
     "name": "stdout",
     "output_type": "stream",
     "text": [
      "        Total ROI Total Trades Win Rate Avg Profit% per Trade Avg Loss% per Trade Max Drawdown ROI/DD Ratio              Variation\n",
      "2018      93.2911           46  39.1304                7.9544             -1.7817     -16.7953       5.5546  EMA:76, X:31, PCT:0.1\n",
      "2019      37.3386           53  33.9623                5.9575             -1.9970     -19.8165       1.8842  EMA:76, X:31, PCT:0.1\n",
      "2020     110.3420           47  38.2979                9.6288             -2.1716     -12.7657       8.6436  EMA:76, X:31, PCT:0.1\n",
      "2021     130.1499           46  41.3043                9.1915             -1.6477     -21.8039       5.9691  EMA:76, X:31, PCT:0.1\n",
      "2022     123.3827           39  30.7692               13.9491             -1.6299     -16.2348       7.5999  EMA:76, X:31, PCT:0.1\n",
      "2023     122.9038           53  24.5283               14.8381             -1.7498     -15.7749       7.7911  EMA:76, X:31, PCT:0.1\n",
      "2024      51.2822           49  32.6531                6.6133             -1.6525     -14.8822       3.4459  EMA:76, X:31, PCT:0.1\n",
      "Overall  668.6904          333  34.2342                9.3375             -1.8072     -21.8039      30.6684  EMA:76, X:31, PCT:0.1\n",
      "EMA:76, X:31, PCT:0.25\n"
     ]
    },
    {
     "name": "stderr",
     "output_type": "stream",
     "text": [
      "/tmp/ipykernel_37183/3149794742.py:132: FutureWarning: Setting an item of incompatible dtype is deprecated and will raise an error in a future version of pandas. Value 'Trailing SL Hit' has dtype incompatible with float64, please explicitly cast to a compatible dtype first.\n",
      "  tradebook_long.loc[\n"
     ]
    },
    {
     "name": "stdout",
     "output_type": "stream",
     "text": [
      "EMA:76, X:34, PCT:0.1\n"
     ]
    },
    {
     "name": "stderr",
     "output_type": "stream",
     "text": [
      "/tmp/ipykernel_37183/3149794742.py:132: FutureWarning: Setting an item of incompatible dtype is deprecated and will raise an error in a future version of pandas. Value 'Trailing SL Hit' has dtype incompatible with float64, please explicitly cast to a compatible dtype first.\n",
      "  tradebook_long.loc[\n"
     ]
    },
    {
     "name": "stdout",
     "output_type": "stream",
     "text": [
      "EMA:76, X:34, PCT:0.25\n"
     ]
    },
    {
     "name": "stderr",
     "output_type": "stream",
     "text": [
      "/tmp/ipykernel_37183/3149794742.py:132: FutureWarning: Setting an item of incompatible dtype is deprecated and will raise an error in a future version of pandas. Value 'Trailing SL Hit' has dtype incompatible with float64, please explicitly cast to a compatible dtype first.\n",
      "  tradebook_long.loc[\n"
     ]
    },
    {
     "name": "stdout",
     "output_type": "stream",
     "text": [
      "        Total ROI Total Trades Win Rate Avg Profit% per Trade Avg Loss% per Trade Max Drawdown ROI/DD Ratio               Variation\n",
      "2018      70.8484           40  37.5000                7.1539             -1.4584     -10.1805       6.9592  EMA:76, X:34, PCT:0.25\n",
      "2019      40.9193           45  37.7778                5.4965             -1.8758     -11.3288       3.6120  EMA:76, X:34, PCT:0.25\n",
      "2020     121.9350           41  41.4634               10.0463             -2.0355     -12.6714       9.6228  EMA:76, X:34, PCT:0.25\n",
      "2021      87.4986           43  39.5349                7.4920             -1.5333     -15.8819       5.5093  EMA:76, X:34, PCT:0.25\n",
      "2022      69.4833           38  28.9474               10.1456             -1.5600     -14.4498       4.8086  EMA:76, X:34, PCT:0.25\n",
      "2023      89.4737           45  28.8889               11.5335             -1.8894     -16.9034       5.2932  EMA:76, X:34, PCT:0.25\n",
      "2024      39.6859           44  36.3636                5.5011             -1.7261      -8.9109       4.4536  EMA:76, X:34, PCT:0.25\n",
      "Overall  519.8441          296  35.8108                8.0043             -1.7295     -16.9034      30.7539  EMA:76, X:34, PCT:0.25\n",
      "EMA:78, X:4, PCT:0.1\n"
     ]
    },
    {
     "name": "stderr",
     "output_type": "stream",
     "text": [
      "/tmp/ipykernel_37183/3149794742.py:132: FutureWarning: Setting an item of incompatible dtype is deprecated and will raise an error in a future version of pandas. Value 'Trailing SL Hit' has dtype incompatible with float64, please explicitly cast to a compatible dtype first.\n",
      "  tradebook_long.loc[\n"
     ]
    },
    {
     "name": "stdout",
     "output_type": "stream",
     "text": [
      "EMA:78, X:4, PCT:0.25\n"
     ]
    },
    {
     "name": "stderr",
     "output_type": "stream",
     "text": [
      "/tmp/ipykernel_37183/3149794742.py:132: FutureWarning: Setting an item of incompatible dtype is deprecated and will raise an error in a future version of pandas. Value 'Trailing SL Hit' has dtype incompatible with float64, please explicitly cast to a compatible dtype first.\n",
      "  tradebook_long.loc[\n"
     ]
    },
    {
     "name": "stdout",
     "output_type": "stream",
     "text": [
      "EMA:78, X:7, PCT:0.1\n"
     ]
    },
    {
     "name": "stderr",
     "output_type": "stream",
     "text": [
      "/tmp/ipykernel_37183/3149794742.py:132: FutureWarning: Setting an item of incompatible dtype is deprecated and will raise an error in a future version of pandas. Value 'Trailing SL Hit' has dtype incompatible with float64, please explicitly cast to a compatible dtype first.\n",
      "  tradebook_long.loc[\n"
     ]
    },
    {
     "name": "stdout",
     "output_type": "stream",
     "text": [
      "EMA:78, X:7, PCT:0.25\n"
     ]
    },
    {
     "name": "stderr",
     "output_type": "stream",
     "text": [
      "/tmp/ipykernel_37183/3149794742.py:132: FutureWarning: Setting an item of incompatible dtype is deprecated and will raise an error in a future version of pandas. Value 'Trailing SL Hit' has dtype incompatible with float64, please explicitly cast to a compatible dtype first.\n",
      "  tradebook_long.loc[\n"
     ]
    },
    {
     "name": "stdout",
     "output_type": "stream",
     "text": [
      "EMA:78, X:10, PCT:0.1\n"
     ]
    },
    {
     "name": "stderr",
     "output_type": "stream",
     "text": [
      "/tmp/ipykernel_37183/3149794742.py:132: FutureWarning: Setting an item of incompatible dtype is deprecated and will raise an error in a future version of pandas. Value 'Trailing SL Hit' has dtype incompatible with float64, please explicitly cast to a compatible dtype first.\n",
      "  tradebook_long.loc[\n"
     ]
    },
    {
     "name": "stdout",
     "output_type": "stream",
     "text": [
      "EMA:78, X:10, PCT:0.25\n"
     ]
    },
    {
     "name": "stderr",
     "output_type": "stream",
     "text": [
      "/tmp/ipykernel_37183/3149794742.py:132: FutureWarning: Setting an item of incompatible dtype is deprecated and will raise an error in a future version of pandas. Value 'Trailing SL Hit' has dtype incompatible with float64, please explicitly cast to a compatible dtype first.\n",
      "  tradebook_long.loc[\n"
     ]
    },
    {
     "name": "stdout",
     "output_type": "stream",
     "text": [
      "EMA:78, X:13, PCT:0.1\n"
     ]
    },
    {
     "name": "stderr",
     "output_type": "stream",
     "text": [
      "/tmp/ipykernel_37183/3149794742.py:132: FutureWarning: Setting an item of incompatible dtype is deprecated and will raise an error in a future version of pandas. Value 'Trailing SL Hit' has dtype incompatible with float64, please explicitly cast to a compatible dtype first.\n",
      "  tradebook_long.loc[\n"
     ]
    },
    {
     "name": "stdout",
     "output_type": "stream",
     "text": [
      "EMA:78, X:13, PCT:0.25\n"
     ]
    },
    {
     "name": "stderr",
     "output_type": "stream",
     "text": [
      "/tmp/ipykernel_37183/3149794742.py:132: FutureWarning: Setting an item of incompatible dtype is deprecated and will raise an error in a future version of pandas. Value 'Trailing SL Hit' has dtype incompatible with float64, please explicitly cast to a compatible dtype first.\n",
      "  tradebook_long.loc[\n"
     ]
    },
    {
     "name": "stdout",
     "output_type": "stream",
     "text": [
      "EMA:78, X:16, PCT:0.1\n"
     ]
    },
    {
     "name": "stderr",
     "output_type": "stream",
     "text": [
      "/tmp/ipykernel_37183/3149794742.py:132: FutureWarning: Setting an item of incompatible dtype is deprecated and will raise an error in a future version of pandas. Value 'Trailing SL Hit' has dtype incompatible with float64, please explicitly cast to a compatible dtype first.\n",
      "  tradebook_long.loc[\n"
     ]
    },
    {
     "name": "stdout",
     "output_type": "stream",
     "text": [
      "EMA:78, X:16, PCT:0.25\n"
     ]
    },
    {
     "name": "stderr",
     "output_type": "stream",
     "text": [
      "/tmp/ipykernel_37183/3149794742.py:132: FutureWarning: Setting an item of incompatible dtype is deprecated and will raise an error in a future version of pandas. Value 'Trailing SL Hit' has dtype incompatible with float64, please explicitly cast to a compatible dtype first.\n",
      "  tradebook_long.loc[\n"
     ]
    },
    {
     "name": "stdout",
     "output_type": "stream",
     "text": [
      "EMA:78, X:19, PCT:0.1\n"
     ]
    },
    {
     "name": "stderr",
     "output_type": "stream",
     "text": [
      "/tmp/ipykernel_37183/3149794742.py:132: FutureWarning: Setting an item of incompatible dtype is deprecated and will raise an error in a future version of pandas. Value 'Trailing SL Hit' has dtype incompatible with float64, please explicitly cast to a compatible dtype first.\n",
      "  tradebook_long.loc[\n"
     ]
    },
    {
     "name": "stdout",
     "output_type": "stream",
     "text": [
      "EMA:78, X:19, PCT:0.25\n"
     ]
    },
    {
     "name": "stderr",
     "output_type": "stream",
     "text": [
      "/tmp/ipykernel_37183/3149794742.py:132: FutureWarning: Setting an item of incompatible dtype is deprecated and will raise an error in a future version of pandas. Value 'Trailing SL Hit' has dtype incompatible with float64, please explicitly cast to a compatible dtype first.\n",
      "  tradebook_long.loc[\n"
     ]
    },
    {
     "name": "stdout",
     "output_type": "stream",
     "text": [
      "EMA:78, X:22, PCT:0.1\n"
     ]
    },
    {
     "name": "stderr",
     "output_type": "stream",
     "text": [
      "/tmp/ipykernel_37183/3149794742.py:132: FutureWarning: Setting an item of incompatible dtype is deprecated and will raise an error in a future version of pandas. Value 'Trailing SL Hit' has dtype incompatible with float64, please explicitly cast to a compatible dtype first.\n",
      "  tradebook_long.loc[\n"
     ]
    },
    {
     "name": "stdout",
     "output_type": "stream",
     "text": [
      "EMA:78, X:22, PCT:0.25\n"
     ]
    },
    {
     "name": "stderr",
     "output_type": "stream",
     "text": [
      "/tmp/ipykernel_37183/3149794742.py:132: FutureWarning: Setting an item of incompatible dtype is deprecated and will raise an error in a future version of pandas. Value 'Trailing SL Hit' has dtype incompatible with float64, please explicitly cast to a compatible dtype first.\n",
      "  tradebook_long.loc[\n"
     ]
    },
    {
     "name": "stdout",
     "output_type": "stream",
     "text": [
      "EMA:78, X:25, PCT:0.1\n"
     ]
    },
    {
     "name": "stderr",
     "output_type": "stream",
     "text": [
      "/tmp/ipykernel_37183/3149794742.py:132: FutureWarning: Setting an item of incompatible dtype is deprecated and will raise an error in a future version of pandas. Value 'Trailing SL Hit' has dtype incompatible with float64, please explicitly cast to a compatible dtype first.\n",
      "  tradebook_long.loc[\n"
     ]
    },
    {
     "name": "stdout",
     "output_type": "stream",
     "text": [
      "EMA:78, X:25, PCT:0.25\n"
     ]
    },
    {
     "name": "stderr",
     "output_type": "stream",
     "text": [
      "/tmp/ipykernel_37183/3149794742.py:132: FutureWarning: Setting an item of incompatible dtype is deprecated and will raise an error in a future version of pandas. Value 'Trailing SL Hit' has dtype incompatible with float64, please explicitly cast to a compatible dtype first.\n",
      "  tradebook_long.loc[\n"
     ]
    },
    {
     "name": "stdout",
     "output_type": "stream",
     "text": [
      "EMA:78, X:28, PCT:0.1\n"
     ]
    },
    {
     "name": "stderr",
     "output_type": "stream",
     "text": [
      "/tmp/ipykernel_37183/3149794742.py:132: FutureWarning: Setting an item of incompatible dtype is deprecated and will raise an error in a future version of pandas. Value 'Trailing SL Hit' has dtype incompatible with float64, please explicitly cast to a compatible dtype first.\n",
      "  tradebook_long.loc[\n"
     ]
    },
    {
     "name": "stdout",
     "output_type": "stream",
     "text": [
      "EMA:78, X:28, PCT:0.25\n"
     ]
    },
    {
     "name": "stderr",
     "output_type": "stream",
     "text": [
      "/tmp/ipykernel_37183/3149794742.py:132: FutureWarning: Setting an item of incompatible dtype is deprecated and will raise an error in a future version of pandas. Value 'Trailing SL Hit' has dtype incompatible with float64, please explicitly cast to a compatible dtype first.\n",
      "  tradebook_long.loc[\n"
     ]
    },
    {
     "name": "stdout",
     "output_type": "stream",
     "text": [
      "EMA:78, X:31, PCT:0.1\n"
     ]
    },
    {
     "name": "stderr",
     "output_type": "stream",
     "text": [
      "/tmp/ipykernel_37183/3149794742.py:132: FutureWarning: Setting an item of incompatible dtype is deprecated and will raise an error in a future version of pandas. Value 'Trailing SL Hit' has dtype incompatible with float64, please explicitly cast to a compatible dtype first.\n",
      "  tradebook_long.loc[\n"
     ]
    },
    {
     "name": "stdout",
     "output_type": "stream",
     "text": [
      "        Total ROI Total Trades Win Rate Avg Profit% per Trade Avg Loss% per Trade Max Drawdown ROI/DD Ratio              Variation\n",
      "2018      92.6225           46  39.1304                7.6513             -1.6108     -11.7723       7.8678  EMA:78, X:31, PCT:0.1\n",
      "2019      35.2797           53  33.9623                5.8894             -2.0208     -20.6965       1.7046  EMA:78, X:31, PCT:0.1\n",
      "2020     107.3018           48  35.4167                9.9848             -2.0142     -11.3167       9.4818  EMA:78, X:31, PCT:0.1\n",
      "2021     126.6842           46  41.3043                8.9885             -1.6332     -21.4113       5.9167  EMA:78, X:31, PCT:0.1\n",
      "2022     121.3522           42  28.5714               13.9318             -1.5276     -16.1548       7.5118  EMA:78, X:31, PCT:0.1\n",
      "2023     123.7500           52  25.0000               14.7550             -1.7452     -15.7749       7.8447  EMA:78, X:31, PCT:0.1\n",
      "2024      50.2309           49  32.6531                6.5716             -1.6641     -14.7162       3.4133  EMA:78, X:31, PCT:0.1\n",
      "Overall  657.2212          336  33.6310                9.2778             -1.7541     -21.4113      30.6951  EMA:78, X:31, PCT:0.1\n",
      "EMA:78, X:31, PCT:0.25\n"
     ]
    },
    {
     "name": "stderr",
     "output_type": "stream",
     "text": [
      "/tmp/ipykernel_37183/3149794742.py:132: FutureWarning: Setting an item of incompatible dtype is deprecated and will raise an error in a future version of pandas. Value 'Trailing SL Hit' has dtype incompatible with float64, please explicitly cast to a compatible dtype first.\n",
      "  tradebook_long.loc[\n"
     ]
    },
    {
     "name": "stdout",
     "output_type": "stream",
     "text": [
      "EMA:78, X:34, PCT:0.1\n"
     ]
    },
    {
     "name": "stderr",
     "output_type": "stream",
     "text": [
      "/tmp/ipykernel_37183/3149794742.py:132: FutureWarning: Setting an item of incompatible dtype is deprecated and will raise an error in a future version of pandas. Value 'Trailing SL Hit' has dtype incompatible with float64, please explicitly cast to a compatible dtype first.\n",
      "  tradebook_long.loc[\n"
     ]
    },
    {
     "name": "stdout",
     "output_type": "stream",
     "text": [
      "EMA:78, X:34, PCT:0.25\n"
     ]
    },
    {
     "name": "stderr",
     "output_type": "stream",
     "text": [
      "/tmp/ipykernel_37183/3149794742.py:132: FutureWarning: Setting an item of incompatible dtype is deprecated and will raise an error in a future version of pandas. Value 'Trailing SL Hit' has dtype incompatible with float64, please explicitly cast to a compatible dtype first.\n",
      "  tradebook_long.loc[\n"
     ]
    },
    {
     "name": "stdout",
     "output_type": "stream",
     "text": [
      "        Total ROI Total Trades Win Rate Avg Profit% per Trade Avg Loss% per Trade Max Drawdown ROI/DD Ratio               Variation\n",
      "2018      71.2204           40  37.5000                7.0544             -1.3838      -7.0351      10.1235  EMA:78, X:34, PCT:0.25\n",
      "2019      42.1237           44  38.6364                5.4245             -1.8553     -10.8468       3.8835  EMA:78, X:34, PCT:0.25\n",
      "2020     119.3885           42  38.0952               10.4565             -1.8429     -11.0490      10.8053  EMA:78, X:34, PCT:0.25\n",
      "2021      84.5403           43  39.5349                7.2952             -1.5184     -15.4953       5.4559  EMA:78, X:34, PCT:0.25\n",
      "2022      67.7791           41  26.8293               10.1352             -1.4569     -14.4498       4.6907  EMA:78, X:34, PCT:0.25\n",
      "2023      88.3737           45  28.8889               11.4489             -1.8894     -16.9034       5.2282  EMA:78, X:34, PCT:0.25\n",
      "2024      38.7004           45  35.5556                5.4595             -1.6776      -8.3694       4.6240  EMA:78, X:34, PCT:0.25\n",
      "Overall  512.1261          300  35.0000                7.9717             -1.6662     -16.9034      30.2973  EMA:78, X:34, PCT:0.25\n",
      "EMA:80, X:4, PCT:0.1\n"
     ]
    },
    {
     "name": "stderr",
     "output_type": "stream",
     "text": [
      "/tmp/ipykernel_37183/3149794742.py:132: FutureWarning: Setting an item of incompatible dtype is deprecated and will raise an error in a future version of pandas. Value 'Trailing SL Hit' has dtype incompatible with float64, please explicitly cast to a compatible dtype first.\n",
      "  tradebook_long.loc[\n"
     ]
    },
    {
     "name": "stdout",
     "output_type": "stream",
     "text": [
      "EMA:80, X:4, PCT:0.25\n"
     ]
    },
    {
     "name": "stderr",
     "output_type": "stream",
     "text": [
      "/tmp/ipykernel_37183/3149794742.py:132: FutureWarning: Setting an item of incompatible dtype is deprecated and will raise an error in a future version of pandas. Value 'Trailing SL Hit' has dtype incompatible with float64, please explicitly cast to a compatible dtype first.\n",
      "  tradebook_long.loc[\n"
     ]
    },
    {
     "name": "stdout",
     "output_type": "stream",
     "text": [
      "EMA:80, X:7, PCT:0.1\n"
     ]
    },
    {
     "name": "stderr",
     "output_type": "stream",
     "text": [
      "/tmp/ipykernel_37183/3149794742.py:132: FutureWarning: Setting an item of incompatible dtype is deprecated and will raise an error in a future version of pandas. Value 'Trailing SL Hit' has dtype incompatible with float64, please explicitly cast to a compatible dtype first.\n",
      "  tradebook_long.loc[\n"
     ]
    },
    {
     "name": "stdout",
     "output_type": "stream",
     "text": [
      "EMA:80, X:7, PCT:0.25\n"
     ]
    },
    {
     "name": "stderr",
     "output_type": "stream",
     "text": [
      "/tmp/ipykernel_37183/3149794742.py:132: FutureWarning: Setting an item of incompatible dtype is deprecated and will raise an error in a future version of pandas. Value 'Trailing SL Hit' has dtype incompatible with float64, please explicitly cast to a compatible dtype first.\n",
      "  tradebook_long.loc[\n"
     ]
    },
    {
     "name": "stdout",
     "output_type": "stream",
     "text": [
      "EMA:80, X:10, PCT:0.1\n"
     ]
    },
    {
     "name": "stderr",
     "output_type": "stream",
     "text": [
      "/tmp/ipykernel_37183/3149794742.py:132: FutureWarning: Setting an item of incompatible dtype is deprecated and will raise an error in a future version of pandas. Value 'Trailing SL Hit' has dtype incompatible with float64, please explicitly cast to a compatible dtype first.\n",
      "  tradebook_long.loc[\n"
     ]
    },
    {
     "name": "stdout",
     "output_type": "stream",
     "text": [
      "EMA:80, X:10, PCT:0.25\n"
     ]
    },
    {
     "name": "stderr",
     "output_type": "stream",
     "text": [
      "/tmp/ipykernel_37183/3149794742.py:132: FutureWarning: Setting an item of incompatible dtype is deprecated and will raise an error in a future version of pandas. Value 'Trailing SL Hit' has dtype incompatible with float64, please explicitly cast to a compatible dtype first.\n",
      "  tradebook_long.loc[\n"
     ]
    },
    {
     "name": "stdout",
     "output_type": "stream",
     "text": [
      "EMA:80, X:13, PCT:0.1\n"
     ]
    },
    {
     "name": "stderr",
     "output_type": "stream",
     "text": [
      "/tmp/ipykernel_37183/3149794742.py:132: FutureWarning: Setting an item of incompatible dtype is deprecated and will raise an error in a future version of pandas. Value 'Trailing SL Hit' has dtype incompatible with float64, please explicitly cast to a compatible dtype first.\n",
      "  tradebook_long.loc[\n"
     ]
    },
    {
     "name": "stdout",
     "output_type": "stream",
     "text": [
      "EMA:80, X:13, PCT:0.25\n"
     ]
    },
    {
     "name": "stderr",
     "output_type": "stream",
     "text": [
      "/tmp/ipykernel_37183/3149794742.py:132: FutureWarning: Setting an item of incompatible dtype is deprecated and will raise an error in a future version of pandas. Value 'Trailing SL Hit' has dtype incompatible with float64, please explicitly cast to a compatible dtype first.\n",
      "  tradebook_long.loc[\n"
     ]
    },
    {
     "name": "stdout",
     "output_type": "stream",
     "text": [
      "EMA:80, X:16, PCT:0.1\n"
     ]
    },
    {
     "name": "stderr",
     "output_type": "stream",
     "text": [
      "/tmp/ipykernel_37183/3149794742.py:132: FutureWarning: Setting an item of incompatible dtype is deprecated and will raise an error in a future version of pandas. Value 'Trailing SL Hit' has dtype incompatible with float64, please explicitly cast to a compatible dtype first.\n",
      "  tradebook_long.loc[\n"
     ]
    },
    {
     "name": "stdout",
     "output_type": "stream",
     "text": [
      "EMA:80, X:16, PCT:0.25\n"
     ]
    },
    {
     "name": "stderr",
     "output_type": "stream",
     "text": [
      "/tmp/ipykernel_37183/3149794742.py:132: FutureWarning: Setting an item of incompatible dtype is deprecated and will raise an error in a future version of pandas. Value 'Trailing SL Hit' has dtype incompatible with float64, please explicitly cast to a compatible dtype first.\n",
      "  tradebook_long.loc[\n"
     ]
    },
    {
     "name": "stdout",
     "output_type": "stream",
     "text": [
      "EMA:80, X:19, PCT:0.1\n"
     ]
    },
    {
     "name": "stderr",
     "output_type": "stream",
     "text": [
      "/tmp/ipykernel_37183/3149794742.py:132: FutureWarning: Setting an item of incompatible dtype is deprecated and will raise an error in a future version of pandas. Value 'Trailing SL Hit' has dtype incompatible with float64, please explicitly cast to a compatible dtype first.\n",
      "  tradebook_long.loc[\n"
     ]
    },
    {
     "name": "stdout",
     "output_type": "stream",
     "text": [
      "EMA:80, X:19, PCT:0.25\n"
     ]
    },
    {
     "name": "stderr",
     "output_type": "stream",
     "text": [
      "/tmp/ipykernel_37183/3149794742.py:132: FutureWarning: Setting an item of incompatible dtype is deprecated and will raise an error in a future version of pandas. Value 'Trailing SL Hit' has dtype incompatible with float64, please explicitly cast to a compatible dtype first.\n",
      "  tradebook_long.loc[\n"
     ]
    },
    {
     "name": "stdout",
     "output_type": "stream",
     "text": [
      "EMA:80, X:22, PCT:0.1\n"
     ]
    },
    {
     "name": "stderr",
     "output_type": "stream",
     "text": [
      "/tmp/ipykernel_37183/3149794742.py:132: FutureWarning: Setting an item of incompatible dtype is deprecated and will raise an error in a future version of pandas. Value 'Trailing SL Hit' has dtype incompatible with float64, please explicitly cast to a compatible dtype first.\n",
      "  tradebook_long.loc[\n"
     ]
    },
    {
     "name": "stdout",
     "output_type": "stream",
     "text": [
      "EMA:80, X:22, PCT:0.25\n"
     ]
    },
    {
     "name": "stderr",
     "output_type": "stream",
     "text": [
      "/tmp/ipykernel_37183/3149794742.py:132: FutureWarning: Setting an item of incompatible dtype is deprecated and will raise an error in a future version of pandas. Value 'Trailing SL Hit' has dtype incompatible with float64, please explicitly cast to a compatible dtype first.\n",
      "  tradebook_long.loc[\n"
     ]
    },
    {
     "name": "stdout",
     "output_type": "stream",
     "text": [
      "EMA:80, X:25, PCT:0.1\n"
     ]
    },
    {
     "name": "stderr",
     "output_type": "stream",
     "text": [
      "/tmp/ipykernel_37183/3149794742.py:132: FutureWarning: Setting an item of incompatible dtype is deprecated and will raise an error in a future version of pandas. Value 'Trailing SL Hit' has dtype incompatible with float64, please explicitly cast to a compatible dtype first.\n",
      "  tradebook_long.loc[\n"
     ]
    },
    {
     "name": "stdout",
     "output_type": "stream",
     "text": [
      "EMA:80, X:25, PCT:0.25\n"
     ]
    },
    {
     "name": "stderr",
     "output_type": "stream",
     "text": [
      "/tmp/ipykernel_37183/3149794742.py:132: FutureWarning: Setting an item of incompatible dtype is deprecated and will raise an error in a future version of pandas. Value 'Trailing SL Hit' has dtype incompatible with float64, please explicitly cast to a compatible dtype first.\n",
      "  tradebook_long.loc[\n"
     ]
    },
    {
     "name": "stdout",
     "output_type": "stream",
     "text": [
      "EMA:80, X:28, PCT:0.1\n"
     ]
    },
    {
     "name": "stderr",
     "output_type": "stream",
     "text": [
      "/tmp/ipykernel_37183/3149794742.py:132: FutureWarning: Setting an item of incompatible dtype is deprecated and will raise an error in a future version of pandas. Value 'Trailing SL Hit' has dtype incompatible with float64, please explicitly cast to a compatible dtype first.\n",
      "  tradebook_long.loc[\n"
     ]
    },
    {
     "name": "stdout",
     "output_type": "stream",
     "text": [
      "EMA:80, X:28, PCT:0.25\n"
     ]
    },
    {
     "name": "stderr",
     "output_type": "stream",
     "text": [
      "/tmp/ipykernel_37183/3149794742.py:132: FutureWarning: Setting an item of incompatible dtype is deprecated and will raise an error in a future version of pandas. Value 'Trailing SL Hit' has dtype incompatible with float64, please explicitly cast to a compatible dtype first.\n",
      "  tradebook_long.loc[\n"
     ]
    },
    {
     "name": "stdout",
     "output_type": "stream",
     "text": [
      "EMA:80, X:31, PCT:0.1\n"
     ]
    },
    {
     "name": "stderr",
     "output_type": "stream",
     "text": [
      "/tmp/ipykernel_37183/3149794742.py:132: FutureWarning: Setting an item of incompatible dtype is deprecated and will raise an error in a future version of pandas. Value 'Trailing SL Hit' has dtype incompatible with float64, please explicitly cast to a compatible dtype first.\n",
      "  tradebook_long.loc[\n"
     ]
    },
    {
     "name": "stdout",
     "output_type": "stream",
     "text": [
      "        Total ROI Total Trades Win Rate Avg Profit% per Trade Avg Loss% per Trade Max Drawdown ROI/DD Ratio              Variation\n",
      "2018      89.7116           47  38.2979                7.5306             -1.5806     -11.7723       7.6205  EMA:80, X:31, PCT:0.1\n",
      "2019      31.4957           50  36.0000                5.5486             -2.1369     -19.6362       1.6040  EMA:80, X:31, PCT:0.1\n",
      "2020     106.8347           47  36.1702                9.9519             -2.0782     -11.3167       9.4405  EMA:80, X:31, PCT:0.1\n",
      "2021     119.5854           46  41.3043                8.6578             -1.6635     -21.5006       5.5620  EMA:80, X:31, PCT:0.1\n",
      "2022     121.0155           44  27.2727               13.8803             -1.4234     -16.1548       7.4910  EMA:80, X:31, PCT:0.1\n",
      "2023     131.7889           48  27.0833               14.7550             -1.7150     -15.9548       8.2601  EMA:80, X:31, PCT:0.1\n",
      "2024      54.0729           50  32.0000                6.4595             -1.4494     -10.4210       5.1888  EMA:80, X:31, PCT:0.1\n",
      "Overall  654.5047          332  34.0361                9.1225             -1.7184     -21.5006      30.4412  EMA:80, X:31, PCT:0.1\n",
      "EMA:80, X:31, PCT:0.25\n"
     ]
    },
    {
     "name": "stderr",
     "output_type": "stream",
     "text": [
      "/tmp/ipykernel_37183/3149794742.py:132: FutureWarning: Setting an item of incompatible dtype is deprecated and will raise an error in a future version of pandas. Value 'Trailing SL Hit' has dtype incompatible with float64, please explicitly cast to a compatible dtype first.\n",
      "  tradebook_long.loc[\n"
     ]
    },
    {
     "name": "stdout",
     "output_type": "stream",
     "text": [
      "EMA:80, X:34, PCT:0.1\n"
     ]
    },
    {
     "name": "stderr",
     "output_type": "stream",
     "text": [
      "/tmp/ipykernel_37183/3149794742.py:132: FutureWarning: Setting an item of incompatible dtype is deprecated and will raise an error in a future version of pandas. Value 'Trailing SL Hit' has dtype incompatible with float64, please explicitly cast to a compatible dtype first.\n",
      "  tradebook_long.loc[\n"
     ]
    },
    {
     "name": "stdout",
     "output_type": "stream",
     "text": [
      "EMA:80, X:34, PCT:0.25\n"
     ]
    },
    {
     "name": "stderr",
     "output_type": "stream",
     "text": [
      "/tmp/ipykernel_37183/3149794742.py:132: FutureWarning: Setting an item of incompatible dtype is deprecated and will raise an error in a future version of pandas. Value 'Trailing SL Hit' has dtype incompatible with float64, please explicitly cast to a compatible dtype first.\n",
      "  tradebook_long.loc[\n"
     ]
    }
   ],
   "source": [
    "# ema_length = 55\n",
    "# x_days = 28\n",
    "# y_days = 7\n",
    "# pct = 1.05\n",
    "# RPT = 5\n",
    "\n",
    "pct_range = [0.1, 0.25]\n",
    "RPT_ = 3\n",
    "stats_dictionary = {}\n",
    "\n",
    "for ema_length in range(20, 81, 2):\n",
    "    for x_days in range(4, 37, 3):\n",
    "            for pct in pct_range:\n",
    "                # RPT = 5\n",
    "                variation = f'EMA:{ema_length}, X:{x_days}, PCT:{pct}'\n",
    "                print(variation)\n",
    "                df = bnf_1min\n",
    "                df = calculate_signals(df, ema_length=ema_length, x_days=x_days, pct=pct)\n",
    "                tb = backtest3(df)\n",
    "                if len(tb) > 0:\n",
    "                    tb = tb.sort_values(by='Entry_Date')\n",
    "                    portfolio = 10000000\n",
    "                    tb['PnL'] = np.where(\n",
    "                        tb['Trade_Type'].isin(['Long', 'Add_Long']),  # For Long and Add_Long\n",
    "                        tb['Exit_Price'] - tb['Entry_Price'],\n",
    "                        np.where(\n",
    "                            tb['Trade_Type'].isin(['Short', 'Add_Short']),  # For Short and Add_Short\n",
    "                            tb['Entry_Price'] - tb['Exit_Price'],\n",
    "                            0  # Default case if Trade_Type is something unexpected\n",
    "                        )\n",
    "                    )\n",
    "                    \n",
    "                    tb['Slippage'] = SLIPPAGE_ * (tb['Entry_Price'] + tb['Exit_Price'])\n",
    "                    tb['PnL w cs'] = tb['PnL'] - tb['Slippage']\n",
    "                    tb['Qty'] = abs(RPT_ / 100 * portfolio / (tb['Entry_Price'] - tb['Initial SL']))\n",
    "                    tb['Profit_Loss INR'] = tb['Qty'] * tb['PnL w cs']\n",
    "                    tb['ROI%'] = tb['Profit_Loss INR'] * 100 / portfolio\n",
    "                    tb['Entry_Date'] = pd.to_datetime(tb['Entry_Date'])\n",
    "                    tb['Trade Year'] = tb['Entry_Date'].dt.year\n",
    "                    # tb_long_only = tb[(tb['Trade_Type'] == 'Long') | (tb['Trade_Type'] == 'Add_Long')].copy()\n",
    "                    # tb_long_only['Cumulative_PnL'] = tb_long_only['PnL w cs'].cumsum()\n",
    "                    # tb_short_only = tb[(tb['Trade_Type'] == 'Short') | (tb['Trade_Type'] == 'Add_Short')].copy()\n",
    "                    # tb_short_only['Cumulative_PnL'] = tb_short_only['PnL w cs'].cumsum()\n",
    "                    \n",
    "                    stats1 = generate_stats(tb, variation)\n",
    "                    for x, y in stats1.items():\n",
    "                        if x > 30:\n",
    "                            # print('Long Only')\n",
    "                            print(pd.DataFrame(y).to_string())\n",
    "                            stats_dictionary[x] = y\n",
    "                        break"
   ]
  },
  {
   "cell_type": "markdown",
   "id": "094579e9-c66b-44b7-bc27-664a676bc699",
   "metadata": {},
   "source": [
    "# NIFTY 30min"
   ]
  },
  {
   "cell_type": "code",
   "execution_count": 250,
   "id": "5f06472d-d644-4db0-8155-e189a2b4c49a",
   "metadata": {
    "execution": {
     "iopub.execute_input": "2024-12-19T07:26:06.535835Z",
     "iopub.status.busy": "2024-12-19T07:26:06.535404Z",
     "iopub.status.idle": "2024-12-19T07:26:06.614193Z",
     "shell.execute_reply": "2024-12-19T07:26:06.612398Z",
     "shell.execute_reply.started": "2024-12-19T07:26:06.535810Z"
    },
    "scrolled": true
   },
   "outputs": [
    {
     "name": "stdout",
     "output_type": "stream",
     "text": [
      "        Total ROI Total Trades Win Rate Avg Profit% per Trade Avg Loss% per Trade Max Drawdown ROI/DD Ratio              Variation\n",
      "2018      93.5259           46  39.1304                8.1454             -1.8961     -16.0232       5.8369  EMA:72, X:31, PCT:0.1\n",
      "2019      34.3824           55  32.7273                6.0063             -1.9927     -18.9588       1.8135  EMA:72, X:31, PCT:0.1\n",
      "2020     110.9122           50  36.0000                9.8245             -2.0602     -12.7657       8.6883  EMA:72, X:31, PCT:0.1\n",
      "2021     138.7710           44  38.6364               10.7451             -1.6258     -19.7768       7.0169  EMA:72, X:31, PCT:0.1\n",
      "2022     117.9088           43  30.2326               12.3824             -1.4354     -15.8860       7.4222  EMA:72, X:31, PCT:0.1\n",
      "2023      98.0274           57  24.5614               12.3288             -1.7343     -17.5277       5.5927  EMA:72, X:31, PCT:0.1\n",
      "2024      56.2710           51  31.3725                7.1162             -1.6454     -10.4077       5.4067  EMA:72, X:31, PCT:0.1\n",
      "Overall  649.7987          346  32.9480                9.3129             -1.7753     -19.7768      32.8566  EMA:72, X:31, PCT:0.1\n",
      "        Total ROI Total Trades Win Rate Avg Profit% per Trade Avg Loss% per Trade Max Drawdown ROI/DD Ratio              Variation\n",
      "2018      96.2596           49  42.8571                7.4587             -2.1562     -13.2635       7.2575  EMA:62, X:34, PCT:0.1\n",
      "2019      56.0775           55  34.5455                6.7241             -1.9911     -19.8932       2.8189  EMA:62, X:34, PCT:0.1\n",
      "2020     105.8332           53  35.8491                9.5993             -2.2516     -15.8507       6.6769  EMA:62, X:34, PCT:0.1\n",
      "2021     126.5039           49  36.7347               10.0006             -1.7260     -18.6197       6.7941  EMA:62, X:34, PCT:0.1\n",
      "2022     108.3980           51  31.3725               10.6130             -1.7546     -18.5234       5.8520  EMA:62, X:34, PCT:0.1\n",
      "2023      91.3980           62  29.0323                9.5084             -1.8126     -18.3528       4.9801  EMA:62, X:34, PCT:0.1\n",
      "2024      58.2089           52  32.6923                6.9638             -1.7193     -11.5359       5.0459  EMA:62, X:34, PCT:0.1\n",
      "Overall  642.6791          371  34.5013                8.6416             -1.9072     -19.8932      32.3065  EMA:62, X:34, PCT:0.1\n",
      "        Total ROI Total Trades Win Rate Avg Profit% per Trade Avg Loss% per Trade Max Drawdown ROI/DD Ratio              Variation\n",
      "2018     110.1214           54  38.8889                8.1656             -1.8593     -16.4435       6.6970  EMA:60, X:28, PCT:0.1\n",
      "2019      53.1053           60  35.0000                6.4382             -2.1051     -19.6105       2.7080  EMA:60, X:28, PCT:0.1\n",
      "2020      97.0218           57  35.0877                8.5589             -2.0042     -13.8559       7.0022  EMA:60, X:28, PCT:0.1\n",
      "2021     127.3388           54  35.1852                9.7063             -1.6309     -18.9114       6.7334  EMA:60, X:28, PCT:0.1\n",
      "2022     104.2952           53  32.0755               10.1550             -1.8983     -20.4149       5.1088  EMA:60, X:28, PCT:0.1\n",
      "2023     141.1121           65  29.2308               11.9647             -1.8743     -21.3405       6.6124  EMA:60, X:28, PCT:0.1\n",
      "2024      52.9775           53  39.6226                5.3403             -1.8490     -11.1890       4.7348  EMA:60, X:28, PCT:0.1\n",
      "Overall  685.9722          396  34.8485                8.5101             -1.8931     -21.3405      32.1442  EMA:60, X:28, PCT:0.1\n",
      "        Total ROI Total Trades Win Rate Avg Profit% per Trade Avg Loss% per Trade Max Drawdown ROI/DD Ratio              Variation\n",
      "2018      96.2948           45  40.0000                8.0963             -1.8310     -16.3451       5.8913  EMA:74, X:31, PCT:0.1\n",
      "2019      38.9198           53  33.9623                6.0399             -1.9942     -18.6694       2.0847  EMA:74, X:31, PCT:0.1\n",
      "2020     109.5602           49  36.7347                9.7333             -2.1174     -12.7657       8.5824  EMA:74, X:31, PCT:0.1\n",
      "2021     136.3459           45  40.0000               10.0301             -1.6369     -21.8039       6.2533  EMA:74, X:31, PCT:0.1\n",
      "2022     124.6958           39  30.7692               13.9491             -1.5812     -16.0263       7.7807  EMA:74, X:31, PCT:0.1\n",
      "2023     145.0330           54  24.0741               16.7373             -1.7696     -17.6994       8.1942  EMA:74, X:31, PCT:0.1\n",
      "2024      48.4332           51  31.3725                6.6645             -1.6628     -14.8822       3.2544  EMA:74, X:31, PCT:0.1\n",
      "Overall  699.2827          336  33.6310                9.7504             -1.8050     -21.8039      32.0715  EMA:74, X:31, PCT:0.1\n",
      "        Total ROI Total Trades Win Rate Avg Profit% per Trade Avg Loss% per Trade Max Drawdown ROI/DD Ratio              Variation\n",
      "2018      94.0546           56  37.5000                7.9421             -2.0780     -20.4214       4.6057  EMA:56, X:31, PCT:0.1\n",
      "2019      53.6707           58  36.2069                6.3484             -2.1526     -18.7886       2.8566  EMA:56, X:31, PCT:0.1\n",
      "2020      87.0276           60  31.6667                9.1615             -2.1230     -15.2213       5.7175  EMA:56, X:31, PCT:0.1\n",
      "2021     150.0627           55  43.6364                8.3719             -1.6407     -17.5112       8.5695  EMA:56, X:31, PCT:0.1\n",
      "2022     114.6071           49  34.6939               10.5836             -2.0411     -17.5088       6.5457  EMA:56, X:31, PCT:0.1\n",
      "2023     101.3772           65  29.2308                9.9437             -1.9033     -19.1486       5.2942  EMA:56, X:31, PCT:0.1\n",
      "2024      48.4685           56  37.5000                5.4889             -1.9085     -15.8796       3.0523  EMA:56, X:31, PCT:0.1\n",
      "Overall  649.2684          399  35.5890                8.1635             -1.9842     -20.4946      31.6799  EMA:56, X:31, PCT:0.1\n",
      "        Total ROI Total Trades Win Rate Avg Profit% per Trade Avg Loss% per Trade Max Drawdown ROI/DD Ratio              Variation\n",
      "2018      94.4080           48  39.5833                7.8153             -1.8649     -15.5723       6.0626  EMA:70, X:31, PCT:0.1\n",
      "2019      36.1888           55  32.7273                6.0746             -1.9771     -18.9588       1.9088  EMA:70, X:31, PCT:0.1\n",
      "2020     106.5277           51  33.3333               10.4080             -2.0708     -15.2213       6.9986  EMA:70, X:31, PCT:0.1\n",
      "2021     131.1626           46  39.1304                9.7397             -1.5769     -20.0331       6.5473  EMA:70, X:31, PCT:0.1\n",
      "2022     114.8823           44  34.0909               10.7971             -1.6232     -17.3988       6.6029  EMA:70, X:31, PCT:0.1\n",
      "2023      93.1412           58  27.5862               10.3957             -1.7426     -17.5277       5.3139  EMA:70, X:31, PCT:0.1\n",
      "2024      57.9902           50  32.0000                7.1957             -1.6806     -10.4077       5.5718  EMA:70, X:31, PCT:0.1\n",
      "Overall  634.3008          352  33.8068                8.8530             -1.7991     -20.0331      31.6626  EMA:70, X:31, PCT:0.1\n",
      "        Total ROI Total Trades Win Rate Avg Profit% per Trade Avg Loss% per Trade Max Drawdown ROI/DD Ratio               Variation\n",
      "2018      73.9124           39  38.4615                7.3286             -1.5007      -9.7365       7.5913  EMA:74, X:34, PCT:0.25\n",
      "2019      42.5701           45  37.7778                5.5936             -1.8758     -10.8468       3.9247  EMA:74, X:34, PCT:0.25\n",
      "2020     120.9771           43  39.5349               10.1553             -1.9870     -12.6714       9.5472  EMA:74, X:34, PCT:0.25\n",
      "2021      93.8055           42  38.0952                8.3394             -1.5241     -15.8819       5.9064  EMA:74, X:34, PCT:0.25\n",
      "2022      70.7000           38  28.9474               10.1456             -1.5149     -14.2214       4.9714  EMA:74, X:34, PCT:0.25\n",
      "2023      87.1136           46  28.2609               11.5335             -1.9037     -16.9034       5.1536  EMA:74, X:34, PCT:0.25\n",
      "2024      40.5120           45  35.5556                5.5696             -1.6759      -9.1818       4.4122  EMA:74, X:34, PCT:0.25\n",
      "Overall  529.5909          298  35.2349                8.2071             -1.7210     -16.9034      31.3305  EMA:74, X:34, PCT:0.25\n",
      "        Total ROI Total Trades Win Rate Avg Profit% per Trade Avg Loss% per Trade Max Drawdown ROI/DD Ratio              Variation\n",
      "2018      84.0619           56  37.5000                7.5876             -2.1508     -17.1505       4.9014  EMA:56, X:34, PCT:0.1\n",
      "2019      57.5566           56  37.5000                6.2411             -2.1002     -17.4001       3.3078  EMA:56, X:34, PCT:0.1\n",
      "2020      98.7389           58  31.0345               10.2161             -2.1288     -16.1288       6.1219  EMA:56, X:34, PCT:0.1\n",
      "2021     127.7932           56  39.2857                8.4242             -1.6923     -17.8566       7.1566  EMA:56, X:34, PCT:0.1\n",
      "2022     110.3784           48  33.3333               10.9699             -2.0356     -16.0313       6.8852  EMA:56, X:34, PCT:0.1\n",
      "2023     102.8116           64  29.6875                9.9096             -1.8993     -20.0292       5.1331  EMA:56, X:34, PCT:0.1\n",
      "2024      45.6732           57  36.8421                5.5488             -1.9681     -16.2724       2.8068  EMA:56, X:34, PCT:0.1\n",
      "Overall  627.0137          395  34.9367                8.2605             -1.9959     -20.0292      31.3050  EMA:56, X:34, PCT:0.1\n",
      "        Total ROI Total Trades Win Rate Avg Profit% per Trade Avg Loss% per Trade Max Drawdown ROI/DD Ratio              Variation\n",
      "2018      82.3790           47  38.2979                7.7411             -1.9642     -13.9408       5.9092  EMA:74, X:34, PCT:0.1\n",
      "2019      46.2765           51  35.2941                6.0783             -1.9131     -16.3220       2.8352  EMA:74, X:34, PCT:0.1\n",
      "2020     121.0116           48  37.5000               10.3136             -2.1545     -12.6714       9.5500  EMA:74, X:34, PCT:0.1\n",
      "2021     123.5390           46  36.9565               10.2269             -1.7351     -22.2795       5.5450  EMA:74, X:34, PCT:0.1\n",
      "2022     123.7855           39  30.7692               13.8910             -1.5891     -16.4204       7.5385  EMA:74, X:34, PCT:0.1\n",
      "2023     146.2052           56  23.2143               16.9157             -1.7139     -19.7400       7.4065  EMA:74, X:34, PCT:0.1\n",
      "2024      52.4449           52  30.7692                7.1072             -1.7020     -14.2021       3.6928  EMA:74, X:34, PCT:0.1\n",
      "Overall  695.6418          339  33.0383                9.8979             -1.8190     -22.2795      31.2234  EMA:74, X:34, PCT:0.1\n",
      "        Total ROI Total Trades Win Rate Avg Profit% per Trade Avg Loss% per Trade Max Drawdown ROI/DD Ratio              Variation\n",
      "2018     100.5432           47  38.2979                8.5936             -1.8670     -15.9651       6.2977  EMA:72, X:28, PCT:0.1\n",
      "2019      40.5157           56  33.9286                6.1210             -2.0482     -20.9470       1.9342  EMA:72, X:28, PCT:0.1\n",
      "2020     112.1513           49  38.7755                9.0753             -2.0093     -12.9525       8.6587  EMA:72, X:28, PCT:0.1\n",
      "2021     122.3350           47  36.1702               10.3431             -1.7833     -21.1279       5.7902  EMA:72, X:28, PCT:0.1\n",
      "2022     116.0563           44  29.5455               12.6226             -1.5496     -15.5964       7.4412  EMA:72, X:28, PCT:0.1\n",
      "2023     150.0640           59  23.7288               16.1600             -1.6928     -22.2583       6.7419  EMA:72, X:28, PCT:0.1\n",
      "2024      51.9539           52  30.7692                7.0766             -1.7020     -13.7558       3.7769  EMA:72, X:28, PCT:0.1\n",
      "Overall  693.6194          354  32.7684                9.6794             -1.8033     -22.2583      31.1622  EMA:72, X:28, PCT:0.1\n",
      "        Total ROI Total Trades Win Rate Avg Profit% per Trade Avg Loss% per Trade Max Drawdown ROI/DD Ratio              Variation\n",
      "2018      97.1906           48  41.6667                7.5144             -1.8963     -13.9822       6.9510  EMA:68, X:31, PCT:0.1\n",
      "2019      34.8263           55  32.7273                6.1060             -2.0292     -20.7611       1.6775  EMA:68, X:31, PCT:0.1\n",
      "2020     108.2903           50  34.0000               10.4759             -2.1152     -15.2213       7.1144  EMA:68, X:31, PCT:0.1\n",
      "2021     132.1484           46  39.1304                9.7397             -1.5417     -20.0331       6.5965  EMA:68, X:31, PCT:0.1\n",
      "2022     116.4605           47  34.0426               10.1250             -1.4690     -17.3988       6.6936  EMA:68, X:31, PCT:0.1\n",
      "2023      90.1130           58  27.5862               10.3908             -1.8128     -19.2555       4.6799  EMA:68, X:31, PCT:0.1\n",
      "2024      60.5880           48  35.4167                6.7852             -1.7664     -10.0965       6.0009  EMA:68, X:31, PCT:0.1\n",
      "Overall  639.6170          352  34.6591                8.6656             -1.8156     -20.7611      30.8085  EMA:68, X:31, PCT:0.1\n",
      "        Total ROI Total Trades Win Rate Avg Profit% per Trade Avg Loss% per Trade Max Drawdown ROI/DD Ratio               Variation\n",
      "2018      70.8484           40  37.5000                7.1539             -1.4584     -10.1805       6.9592  EMA:76, X:34, PCT:0.25\n",
      "2019      40.9193           45  37.7778                5.4965             -1.8758     -11.3288       3.6120  EMA:76, X:34, PCT:0.25\n",
      "2020     121.9350           41  41.4634               10.0463             -2.0355     -12.6714       9.6228  EMA:76, X:34, PCT:0.25\n",
      "2021      87.4986           43  39.5349                7.4920             -1.5333     -15.8819       5.5093  EMA:76, X:34, PCT:0.25\n",
      "2022      69.4833           38  28.9474               10.1456             -1.5600     -14.4498       4.8086  EMA:76, X:34, PCT:0.25\n",
      "2023      89.4737           45  28.8889               11.5335             -1.8894     -16.9034       5.2932  EMA:76, X:34, PCT:0.25\n",
      "2024      39.6859           44  36.3636                5.5011             -1.7261      -8.9109       4.4536  EMA:76, X:34, PCT:0.25\n",
      "Overall  519.8441          296  35.8108                8.0043             -1.7295     -16.9034      30.7539  EMA:76, X:34, PCT:0.25\n",
      "        Total ROI Total Trades Win Rate Avg Profit% per Trade Avg Loss% per Trade Max Drawdown ROI/DD Ratio              Variation\n",
      "2018      92.6225           46  39.1304                7.6513             -1.6108     -11.7723       7.8678  EMA:78, X:31, PCT:0.1\n",
      "2019      35.2797           53  33.9623                5.8894             -2.0208     -20.6965       1.7046  EMA:78, X:31, PCT:0.1\n",
      "2020     107.3018           48  35.4167                9.9848             -2.0142     -11.3167       9.4818  EMA:78, X:31, PCT:0.1\n",
      "2021     126.6842           46  41.3043                8.9885             -1.6332     -21.4113       5.9167  EMA:78, X:31, PCT:0.1\n",
      "2022     121.3522           42  28.5714               13.9318             -1.5276     -16.1548       7.5118  EMA:78, X:31, PCT:0.1\n",
      "2023     123.7500           52  25.0000               14.7550             -1.7452     -15.7749       7.8447  EMA:78, X:31, PCT:0.1\n",
      "2024      50.2309           49  32.6531                6.5716             -1.6641     -14.7162       3.4133  EMA:78, X:31, PCT:0.1\n",
      "Overall  657.2212          336  33.6310                9.2778             -1.7541     -21.4113      30.6951  EMA:78, X:31, PCT:0.1\n",
      "        Total ROI Total Trades Win Rate Avg Profit% per Trade Avg Loss% per Trade Max Drawdown ROI/DD Ratio              Variation\n",
      "2018      93.2911           46  39.1304                7.9544             -1.7817     -16.7953       5.5546  EMA:76, X:31, PCT:0.1\n",
      "2019      37.3386           53  33.9623                5.9575             -1.9970     -19.8165       1.8842  EMA:76, X:31, PCT:0.1\n",
      "2020     110.3420           47  38.2979                9.6288             -2.1716     -12.7657       8.6436  EMA:76, X:31, PCT:0.1\n",
      "2021     130.1499           46  41.3043                9.1915             -1.6477     -21.8039       5.9691  EMA:76, X:31, PCT:0.1\n",
      "2022     123.3827           39  30.7692               13.9491             -1.6299     -16.2348       7.5999  EMA:76, X:31, PCT:0.1\n",
      "2023     122.9038           53  24.5283               14.8381             -1.7498     -15.7749       7.7911  EMA:76, X:31, PCT:0.1\n",
      "2024      51.2822           49  32.6531                6.6133             -1.6525     -14.8822       3.4459  EMA:76, X:31, PCT:0.1\n",
      "Overall  668.6904          333  34.2342                9.3375             -1.8072     -21.8039      30.6684  EMA:76, X:31, PCT:0.1\n",
      "        Total ROI Total Trades Win Rate Avg Profit% per Trade Avg Loss% per Trade Max Drawdown ROI/DD Ratio              Variation\n",
      "2018      81.7870           47  38.2979                7.7888             -2.0142     -12.7371       6.4212  EMA:72, X:34, PCT:0.1\n",
      "2019      41.7237           53  33.9623                6.0364             -1.9123     -16.0457       2.6003  EMA:72, X:34, PCT:0.1\n",
      "2020     123.1432           49  36.7347               10.4473             -2.0938     -12.6714       9.7182  EMA:72, X:34, PCT:0.1\n",
      "2021     125.9451           45  35.5556               10.9992             -1.7256     -20.2714       6.2129  EMA:72, X:34, PCT:0.1\n",
      "2022     113.8744           43  27.9070               13.1373             -1.4121     -16.3215       6.9770  EMA:72, X:34, PCT:0.1\n",
      "2023      99.5473           57  26.3158               11.6177             -1.7790     -20.9278       4.7567  EMA:72, X:34, PCT:0.1\n",
      "2024      53.5868           52  30.7692                7.1437             -1.6864     -13.6991       3.9117  EMA:72, X:34, PCT:0.1\n",
      "Overall  639.6076          346  32.6590                9.3726             -1.8004     -20.9278      30.5626  EMA:72, X:34, PCT:0.1\n",
      "        Total ROI Total Trades Win Rate Avg Profit% per Trade Avg Loss% per Trade Max Drawdown ROI/DD Ratio              Variation\n",
      "2018     105.9968           49  42.8571                7.7922             -2.0586     -13.6708       7.7535  EMA:62, X:31, PCT:0.1\n",
      "2019      52.4263           57  33.3333                6.8490             -2.0448     -21.4497       2.4441  EMA:62, X:31, PCT:0.1\n",
      "2020      93.2329           54  35.1852                8.9856             -2.2141     -15.2213       6.1251  EMA:62, X:31, PCT:0.1\n",
      "2021     138.6888           48  39.5833                9.7889             -1.6311     -18.5049       7.4947  EMA:62, X:31, PCT:0.1\n",
      "2022     112.9134           52  32.6923               10.2940             -1.7738     -20.8819       5.4072  EMA:62, X:31, PCT:0.1\n",
      "2023      89.6400           63  28.5714                9.5249             -1.8179     -17.5812       5.0986  EMA:62, X:31, PCT:0.1\n",
      "2024      60.8094           51  33.3333                6.9246             -1.6738      -8.9997       6.7568  EMA:62, X:31, PCT:0.1\n",
      "Overall  653.7075          374  34.7594                8.5742             -1.8891     -21.4497      30.4762  EMA:62, X:31, PCT:0.1\n",
      "        Total ROI Total Trades Win Rate Avg Profit% per Trade Avg Loss% per Trade Max Drawdown ROI/DD Ratio              Variation\n",
      "2018      89.7116           47  38.2979                7.5306             -1.5806     -11.7723       7.6205  EMA:80, X:31, PCT:0.1\n",
      "2019      31.4957           50  36.0000                5.5486             -2.1369     -19.6362       1.6040  EMA:80, X:31, PCT:0.1\n",
      "2020     106.8347           47  36.1702                9.9519             -2.0782     -11.3167       9.4405  EMA:80, X:31, PCT:0.1\n",
      "2021     119.5854           46  41.3043                8.6578             -1.6635     -21.5006       5.5620  EMA:80, X:31, PCT:0.1\n",
      "2022     121.0155           44  27.2727               13.8803             -1.4234     -16.1548       7.4910  EMA:80, X:31, PCT:0.1\n",
      "2023     131.7889           48  27.0833               14.7550             -1.7150     -15.9548       8.2601  EMA:80, X:31, PCT:0.1\n",
      "2024      54.0729           50  32.0000                6.4595             -1.4494     -10.4210       5.1888  EMA:80, X:31, PCT:0.1\n",
      "Overall  654.5047          332  34.0361                9.1225             -1.7184     -21.5006      30.4412  EMA:80, X:31, PCT:0.1\n",
      "        Total ROI Total Trades Win Rate Avg Profit% per Trade Avg Loss% per Trade Max Drawdown ROI/DD Ratio              Variation\n",
      "2018     103.8854           46  39.1304                8.5443             -1.7826     -16.2895       6.3775  EMA:74, X:28, PCT:0.1\n",
      "2019      44.2964           54  35.1852                6.1254             -2.0596     -20.9680       2.1126  EMA:74, X:28, PCT:0.1\n",
      "2020     110.5512           48  39.5833                8.9937             -2.0803     -12.9525       8.5351  EMA:74, X:28, PCT:0.1\n",
      "2021     119.8050           48  37.5000                9.6447             -1.7933     -21.3889       5.6013  EMA:74, X:28, PCT:0.1\n",
      "2022     121.4077           40  30.0000               14.0906             -1.7029     -15.6948       7.7356  EMA:74, X:28, PCT:0.1\n",
      "2023     136.5023           57  22.8070               16.4296             -1.7519     -22.4113       6.0908  EMA:74, X:28, PCT:0.1\n",
      "2024      43.9330           52  30.7692                6.6152             -1.7197     -17.7348       2.4772  EMA:74, X:28, PCT:0.1\n",
      "Overall  680.3809          345  33.3333                9.5929             -1.8383     -22.4113      30.3588  EMA:74, X:28, PCT:0.1\n",
      "        Total ROI Total Trades Win Rate Avg Profit% per Trade Avg Loss% per Trade Max Drawdown ROI/DD Ratio              Variation\n",
      "2018     100.9846           49  38.7755                8.2276             -1.8447     -15.5202       6.5066  EMA:70, X:28, PCT:0.1\n",
      "2019      40.1549           57  33.3333                6.1862             -2.0364     -20.9470       1.9170  EMA:70, X:28, PCT:0.1\n",
      "2020     107.6871           50  36.0000                9.5829             -2.0252     -14.3149       7.5227  EMA:70, X:28, PCT:0.1\n",
      "2021     115.5005           49  36.7347                9.4261             -1.7474     -21.5441       5.3611  EMA:70, X:28, PCT:0.1\n",
      "2022     113.0074           45  33.3333               11.0192             -1.7427     -19.6443       5.7527  EMA:70, X:28, PCT:0.1\n",
      "2023     144.2805           60  26.6667               13.7474             -1.7200     -22.2583       6.4821  EMA:70, X:28, PCT:0.1\n",
      "2024      53.6039           51  31.3725                7.1509             -1.7374     -13.7558       3.8968  EMA:70, X:28, PCT:0.1\n",
      "Overall  675.2190          361  33.5180                9.2205             -1.8353     -22.2583      30.3356  EMA:70, X:28, PCT:0.1\n",
      "        Total ROI Total Trades Win Rate Avg Profit% per Trade Avg Loss% per Trade Max Drawdown ROI/DD Ratio               Variation\n",
      "2018      71.2204           40  37.5000                7.0544             -1.3838      -7.0351      10.1235  EMA:78, X:34, PCT:0.25\n",
      "2019      42.1237           44  38.6364                5.4245             -1.8553     -10.8468       3.8835  EMA:78, X:34, PCT:0.25\n",
      "2020     119.3885           42  38.0952               10.4565             -1.8429     -11.0490      10.8053  EMA:78, X:34, PCT:0.25\n",
      "2021      84.5403           43  39.5349                7.2952             -1.5184     -15.4953       5.4559  EMA:78, X:34, PCT:0.25\n",
      "2022      67.7791           41  26.8293               10.1352             -1.4569     -14.4498       4.6907  EMA:78, X:34, PCT:0.25\n",
      "2023      88.3737           45  28.8889               11.4489             -1.8894     -16.9034       5.2282  EMA:78, X:34, PCT:0.25\n",
      "2024      38.7004           45  35.5556                5.4595             -1.6776      -8.3694       4.6240  EMA:78, X:34, PCT:0.25\n",
      "Overall  512.1261          300  35.0000                7.9717             -1.6662     -16.9034      30.2973  EMA:78, X:34, PCT:0.25\n",
      "        Total ROI Total Trades Win Rate Avg Profit% per Trade Avg Loss% per Trade Max Drawdown ROI/DD Ratio              Variation\n",
      "2018      83.2374           56  37.5000                7.5208             -2.1343     -17.1505       4.8534  EMA:58, X:34, PCT:0.1\n",
      "2019      59.6863           55  36.3636                6.5409             -2.0323     -16.4579       3.6266  EMA:58, X:34, PCT:0.1\n",
      "2020     104.3699           57  33.3333                9.8431             -2.1750     -14.4125       7.2416  EMA:58, X:34, PCT:0.1\n",
      "2021     121.1824           56  37.5000                8.4286             -1.5948     -18.1907       6.6618  EMA:58, X:34, PCT:0.1\n",
      "2022     106.2033           49  32.6531               10.7065             -1.9728     -16.0313       6.6247  EMA:58, X:34, PCT:0.1\n",
      "2023     100.6923           64  29.6875                9.8058             -1.9026     -20.0292       5.0273  EMA:58, X:34, PCT:0.1\n",
      "2024      48.3699           56  37.5000                5.5488             -1.9473     -13.2364       3.6543  EMA:58, X:34, PCT:0.1\n",
      "Overall  623.7415          393  34.8601                8.2256             -1.9655     -20.6168      30.2540  EMA:58, X:34, PCT:0.1\n"
     ]
    }
   ],
   "source": [
    "sorted_stats = {k: v for k, v in sorted(stats_dictionary.items(), key=lambda item: item[0], reverse=True)}\n",
    "for x, y in sorted_stats.items():\n",
    "    print(y.to_string())"
   ]
  },
  {
   "cell_type": "code",
   "execution_count": null,
   "id": "dbe88eef-5312-4d20-9dbb-33d92a2b8259",
   "metadata": {},
   "outputs": [],
   "source": []
  }
 ],
 "metadata": {
  "kernelspec": {
   "display_name": "Python 3 (ipykernel)",
   "language": "python",
   "name": "python3"
  },
  "language_info": {
   "codemirror_mode": {
    "name": "ipython",
    "version": 3
   },
   "file_extension": ".py",
   "mimetype": "text/x-python",
   "name": "python",
   "nbconvert_exporter": "python",
   "pygments_lexer": "ipython3",
   "version": "3.11.6"
  }
 },
 "nbformat": 4,
 "nbformat_minor": 5
}
