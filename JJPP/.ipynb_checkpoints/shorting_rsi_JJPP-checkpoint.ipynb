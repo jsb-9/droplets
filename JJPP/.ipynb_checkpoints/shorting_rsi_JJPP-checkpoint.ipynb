{
 "cells": [
  {
   "cell_type": "code",
   "execution_count": 1,
   "id": "4fe2e75b-e2aa-48e3-8e07-40133225a2e2",
   "metadata": {
    "execution": {
     "iopub.execute_input": "2025-02-13T07:06:18.441782Z",
     "iopub.status.busy": "2025-02-13T07:06:18.441228Z",
     "iopub.status.idle": "2025-02-13T07:06:20.652237Z",
     "shell.execute_reply": "2025-02-13T07:06:20.650975Z",
     "shell.execute_reply.started": "2025-02-13T07:06:18.441759Z"
    }
   },
   "outputs": [],
   "source": [
    "import asyncio\n",
    "import datetime as dt\n",
    "import math\n",
    "from typing import Literal\n",
    "\n",
    "import matplotlib.pyplot as plt\n",
    "import mplfinance as mpf\n",
    "import numpy as np\n",
    "import pandas as pd\n",
    "import pandas_market_calendars as mcal\n",
    "import plotly.graph_objects as go\n",
    "import polars as pl\n",
    "from dash import Dash, dcc, html\n",
    "from plotly.subplots import make_subplots\n",
    "\n",
    "nse = mcal.get_calendar(\"NSE\")"
   ]
  },
  {
   "cell_type": "code",
   "execution_count": 2,
   "id": "19c074b5-734a-4a62-8ee3-6982d11b2a47",
   "metadata": {
    "execution": {
     "iopub.execute_input": "2025-02-13T07:06:22.132694Z",
     "iopub.status.busy": "2025-02-13T07:06:22.132282Z",
     "iopub.status.idle": "2025-02-13T07:06:22.139195Z",
     "shell.execute_reply": "2025-02-13T07:06:22.137789Z",
     "shell.execute_reply.started": "2025-02-13T07:06:22.132670Z"
    }
   },
   "outputs": [],
   "source": [
    "pd.set_option(\"display.max_rows\", 25_000)\n",
    "pd.set_option(\"display.max_columns\", 500)\n",
    "pl.Config.set_tbl_cols(500)\n",
    "pl.Config.set_tbl_rows(10_000)\n",
    "\n",
    "pd.options.display.float_format = \"{:.4f}\".format"
   ]
  },
  {
   "cell_type": "code",
   "execution_count": 3,
   "id": "79c6e706-cd6d-4161-9bf3-695deadf185d",
   "metadata": {
    "execution": {
     "iopub.execute_input": "2025-02-13T07:06:25.329775Z",
     "iopub.status.busy": "2025-02-13T07:06:25.328675Z",
     "iopub.status.idle": "2025-02-13T07:06:25.732669Z",
     "shell.execute_reply": "2025-02-13T07:06:25.730608Z",
     "shell.execute_reply.started": "2025-02-13T07:06:25.329724Z"
    }
   },
   "outputs": [],
   "source": [
    "import sys\n",
    "\n",
    "sys.path.append(\"..\")\n",
    "from tooling.enums import AssetClass, Index, Spot, StrikeSpread\n",
    "from tooling.fetch import fetch_option_data, fetch_spot_data\n",
    "from tooling.filter import find_atm, option_tool"
   ]
  },
  {
   "cell_type": "code",
   "execution_count": 4,
   "id": "791030cb-3df4-4d3b-b953-3e15eb547b05",
   "metadata": {
    "execution": {
     "iopub.execute_input": "2025-02-13T07:06:29.519184Z",
     "iopub.status.busy": "2025-02-13T07:06:29.518448Z",
     "iopub.status.idle": "2025-02-13T07:06:29.545360Z",
     "shell.execute_reply": "2025-02-13T07:06:29.543537Z",
     "shell.execute_reply.started": "2025-02-13T07:06:29.519144Z"
    }
   },
   "outputs": [],
   "source": [
    "async def get_expiry(f_today, index):\n",
    "\n",
    "    if index == 'bnf':    \n",
    "        if (f_today <= dt.date(2024, 1, 25)) and (f_today >= dt.date(2024, 1, 18)):\n",
    "            f_expiry = dt.date(2024, 1, 25)\n",
    "        elif (f_today <= dt.date(2024, 1, 31)) and (f_today >= dt.date(2024, 1, 26)):\n",
    "            f_expiry = dt.date(2024, 1, 31)\n",
    "        elif (f_today <= dt.date(2024, 2, 22)) and (f_today >= dt.date(2024, 2, 29)):\n",
    "            f_expiry = dt.date(2024, 2, 29)\n",
    "        elif (f_today <= dt.date(2024, 3, 25)) and (f_today >= dt.date(2024, 3, 27)):\n",
    "            f_expiry = dt.date(2024, 2, 27)\n",
    "        elif f_today < dt.date(2023, 9, 1):\n",
    "            days_to_thursday = (3 - f_today.weekday()) % 7\n",
    "            nearest_thursday = f_today + dt.timedelta(days=days_to_thursday)\n",
    "            f_expiry = nearest_thursday\n",
    "            if nse.valid_days(start_date=nearest_thursday, end_date=nearest_thursday).empty:\n",
    "                f_expiry = nearest_thursday - dt.timedelta(days=1)\n",
    "        elif f_today >= dt.date(2023, 9, 1):\n",
    "            if f_today.day < 24:\n",
    "                days_to_wednesday = (2 - f_today.weekday()) % 7\n",
    "                nearest_wednesday = f_today + dt.timedelta(days=days_to_wednesday)\n",
    "                f_expiry = nearest_wednesday\n",
    "                if nse.valid_days(\n",
    "                    start_date=nearest_wednesday, end_date=nearest_wednesday\n",
    "                ).empty:\n",
    "                    f_expiry = nearest_wednesday - dt.timedelta(days=1)\n",
    "            else:\n",
    "                days_to_thursday = (3 - f_today.weekday()) % 7\n",
    "                nearest_thursday = f_today + dt.timedelta(days=days_to_thursday)\n",
    "                f_expiry = nearest_thursday\n",
    "                if nse.valid_days(\n",
    "                    start_date=nearest_thursday, end_date=nearest_thursday\n",
    "                ).empty:\n",
    "                    f_expiry = nearest_thursday - dt.timedelta(days=1)\n",
    "        return f_expiry\n",
    "\n",
    "    elif index == 'nifty':\n",
    "        days_to_thursday = (3 - f_today.weekday()) % 7\n",
    "        nearest_thursday = f_today + dt.timedelta(days=days_to_thursday)\n",
    "        f_expiry = nearest_thursday\n",
    "        if nse.valid_days(start_date=nearest_thursday, end_date=nearest_thursday).empty:\n",
    "            f_expiry = nearest_thursday - dt.timedelta(days=1)\n",
    "        return f_expiry\n",
    "\n",
    "    elif index == 'finnifty' or index == 'fnf':\n",
    "        days_to_thursday = (1 - f_today.weekday()) % 7\n",
    "        nearest_thursday = f_today + dt.timedelta(days=days_to_thursday)\n",
    "        f_expiry = nearest_thursday\n",
    "        if nse.valid_days(start_date=nearest_thursday, end_date=nearest_thursday).empty:\n",
    "            f_expiry = nearest_thursday - dt.timedelta(days=1)\n",
    "        return f_expiry\n",
    "\n",
    "    elif index == 'midcpnifty' or index == 'midcp':\n",
    "        days_to_thursday = (0 - f_today.weekday()) % 7\n",
    "        nearest_thursday = f_today + dt.timedelta(days=days_to_thursday)\n",
    "        f_expiry = nearest_thursday\n",
    "        if nse.valid_days(start_date=nearest_thursday, end_date=nearest_thursday).empty:\n",
    "            f_expiry = nearest_thursday - dt.timedelta(days=1)\n",
    "        return f_expiry\n",
    "\n",
    "async def get_expiry_nifty(f_today):\n",
    "\n",
    "    days_to_thursday = (3 - f_today.weekday()) % 7\n",
    "    nearest_thursday = f_today + dt.timedelta(days=days_to_thursday)\n",
    "    f_expiry = nearest_thursday\n",
    "    if nse.valid_days(start_date=nearest_thursday, end_date=nearest_thursday).empty:\n",
    "        f_expiry = nearest_thursday - dt.timedelta(days=1)\n",
    "    return f_expiry\n",
    "\n",
    "\n",
    "async def get_option_contract_name(symbol, strike, expiry, opt_type):\n",
    "    temp = \"0\"\n",
    "    mth = expiry.month\n",
    "\n",
    "    if (expiry + dt.timedelta(days=7)).month != expiry.month:\n",
    "        date_string = expiry.strftime(\"%y%b\").upper()\n",
    "        return f\"{symbol}{date_string}{strike}{opt_type}\"\n",
    "    else:\n",
    "        if expiry.day <= 9:\n",
    "            date_string = f\"{expiry.year - 2000}{mth}{temp}{expiry.day}\"\n",
    "        else:\n",
    "            date_string = f\"{expiry.year - 2000}{mth}{expiry.day}\"\n",
    "        return f\"{symbol}{date_string}{strike}{opt_type}\"\n",
    "\n",
    "\n",
    "def get_option_contract_name2(symbol, strike, expiry, opt_type):\n",
    "    temp = \"0\"\n",
    "    mth = expiry.month\n",
    "\n",
    "    if (expiry + dt.timedelta(days=7)).month != expiry.month:\n",
    "        date_string = expiry.strftime(\"%y%b\").upper()\n",
    "        return f\"{symbol}{date_string}{strike}{opt_type}\"\n",
    "    else:\n",
    "        if expiry.day <= 9:\n",
    "            date_string = f\"{expiry.year - 2000}{mth}{temp}{expiry.day}\"\n",
    "        else:\n",
    "            date_string = f\"{expiry.year - 2000}{mth}{expiry.day}\"\n",
    "        return f\"{symbol}{date_string}{strike}{opt_type}\""
   ]
  },
  {
   "cell_type": "code",
   "execution_count": 5,
   "id": "67d98d21-db76-478d-99f4-4617fc50c1bb",
   "metadata": {
    "execution": {
     "iopub.execute_input": "2025-02-13T07:06:36.662544Z",
     "iopub.status.busy": "2025-02-13T07:06:36.661715Z",
     "iopub.status.idle": "2025-02-13T07:06:36.920903Z",
     "shell.execute_reply": "2025-02-13T07:06:36.919737Z",
     "shell.execute_reply.started": "2025-02-13T07:06:36.662513Z"
    }
   },
   "outputs": [],
   "source": [
    "bnf_1min = pd.read_csv(\"../data/bn_30m.csv\")\n",
    "bnf_1min[\"datetime\"] = pd.to_datetime(bnf_1min[\"time\"])\n",
    "bnf_1min = bnf_1min[bnf_1min[\"datetime\"].dt.year >= 2017]"
   ]
  },
  {
   "cell_type": "code",
   "execution_count": 6,
   "id": "2a0666a2-efc7-41f6-806f-c45e2d8aaf9a",
   "metadata": {
    "execution": {
     "iopub.execute_input": "2025-02-13T07:06:41.852605Z",
     "iopub.status.busy": "2025-02-13T07:06:41.851687Z",
     "iopub.status.idle": "2025-02-13T07:06:41.859584Z",
     "shell.execute_reply": "2025-02-13T07:06:41.858304Z",
     "shell.execute_reply.started": "2025-02-13T07:06:41.852573Z"
    }
   },
   "outputs": [],
   "source": [
    "def resample(\n",
    "    data: pl.DataFrame, timeframe, offset: dt.timedelta | None = None\n",
    ") -> pl.DataFrame:\n",
    "    return (\n",
    "        data.set_sorted(\"datetime\")\n",
    "        .group_by_dynamic(\n",
    "            index_column=\"datetime\",\n",
    "            every=timeframe,\n",
    "            period=timeframe,\n",
    "            label=\"left\",\n",
    "            offset=offset,\n",
    "        )\n",
    "        .agg(\n",
    "            [\n",
    "                pl.col(\"open\").first().alias(\"open\"),\n",
    "                pl.col(\"high\").max().alias(\"high\"),\n",
    "                pl.col(\"low\").min().alias(\"low\"),\n",
    "                pl.col(\"close\").last().alias(\"close\"),\n",
    "                pl.col(\"volume\").sum().alias(\"volume\"),\n",
    "            ]\n",
    "        )\n",
    "    )\n",
    "\n",
    "\n",
    "# ohlc_resampled = resample(pl.DataFrame(bnf_1min), '7d', pd.Timedelta(days=4))\n",
    "# ohlc_resampled"
   ]
  },
  {
   "cell_type": "code",
   "execution_count": 7,
   "id": "ef17f822-9049-4d02-b245-b1b4f12a56c0",
   "metadata": {
    "execution": {
     "iopub.execute_input": "2025-02-13T07:06:46.251435Z",
     "iopub.status.busy": "2025-02-13T07:06:46.251077Z",
     "iopub.status.idle": "2025-02-13T07:06:46.306317Z",
     "shell.execute_reply": "2025-02-13T07:06:46.304751Z",
     "shell.execute_reply.started": "2025-02-13T07:06:46.251411Z"
    },
    "scrolled": true
   },
   "outputs": [
    {
     "data": {
      "text/plain": [
       "{datetime.date(2023, 1, 19),\n",
       " datetime.date(2019, 12, 20),\n",
       " datetime.date(2024, 6, 12),\n",
       " datetime.date(2018, 4, 27),\n",
       " datetime.date(2018, 7, 10),\n",
       " datetime.date(2018, 10, 8),\n",
       " datetime.date(2024, 7, 5),\n",
       " datetime.date(2022, 6, 16),\n",
       " datetime.date(2019, 8, 30),\n",
       " datetime.date(2022, 2, 1),\n",
       " datetime.date(2022, 3, 30),\n",
       " datetime.date(2018, 8, 6),\n",
       " datetime.date(2022, 11, 28),\n",
       " datetime.date(2018, 9, 17),\n",
       " datetime.date(2020, 8, 19),\n",
       " datetime.date(2021, 7, 5),\n",
       " datetime.date(2022, 6, 15),\n",
       " datetime.date(2019, 2, 6),\n",
       " datetime.date(2019, 3, 11),\n",
       " datetime.date(2020, 12, 23),\n",
       " datetime.date(2024, 3, 27),\n",
       " datetime.date(2018, 10, 23),\n",
       " datetime.date(2019, 8, 20),\n",
       " datetime.date(2024, 7, 2),\n",
       " datetime.date(2020, 2, 14),\n",
       " datetime.date(2022, 11, 1),\n",
       " datetime.date(2020, 2, 6),\n",
       " datetime.date(2020, 7, 9),\n",
       " datetime.date(2018, 11, 29),\n",
       " datetime.date(2022, 5, 9),\n",
       " datetime.date(2024, 7, 31),\n",
       " datetime.date(2022, 8, 1),\n",
       " datetime.date(2023, 4, 10),\n",
       " datetime.date(2023, 12, 6),\n",
       " datetime.date(2024, 7, 30),\n",
       " datetime.date(2023, 10, 17),\n",
       " datetime.date(2022, 7, 12),\n",
       " datetime.date(2018, 9, 12),\n",
       " datetime.date(2019, 12, 10),\n",
       " datetime.date(2023, 1, 5),\n",
       " datetime.date(2023, 2, 21),\n",
       " datetime.date(2020, 5, 5),\n",
       " datetime.date(2021, 5, 3),\n",
       " datetime.date(2023, 6, 12),\n",
       " datetime.date(2024, 2, 26),\n",
       " datetime.date(2024, 4, 4),\n",
       " datetime.date(2018, 9, 25),\n",
       " datetime.date(2019, 8, 29),\n",
       " datetime.date(2023, 2, 14),\n",
       " datetime.date(2023, 10, 16),\n",
       " datetime.date(2018, 1, 9),\n",
       " datetime.date(2024, 11, 22),\n",
       " datetime.date(2018, 4, 19),\n",
       " datetime.date(2019, 9, 17),\n",
       " datetime.date(2021, 12, 13),\n",
       " datetime.date(2021, 10, 8),\n",
       " datetime.date(2021, 9, 6),\n",
       " datetime.date(2018, 9, 18),\n",
       " datetime.date(2024, 12, 16),\n",
       " datetime.date(2022, 6, 30),\n",
       " datetime.date(2021, 10, 4),\n",
       " datetime.date(2024, 7, 4),\n",
       " datetime.date(2020, 5, 28),\n",
       " datetime.date(2020, 6, 4),\n",
       " datetime.date(2019, 4, 24),\n",
       " datetime.date(2019, 12, 31),\n",
       " datetime.date(2020, 3, 24),\n",
       " datetime.date(2020, 4, 17),\n",
       " datetime.date(2023, 12, 26),\n",
       " datetime.date(2023, 8, 4),\n",
       " datetime.date(2019, 3, 19),\n",
       " datetime.date(2023, 2, 20),\n",
       " datetime.date(2020, 3, 9),\n",
       " datetime.date(2020, 4, 21),\n",
       " datetime.date(2022, 11, 7),\n",
       " datetime.date(2019, 11, 18),\n",
       " datetime.date(2021, 9, 14),\n",
       " datetime.date(2023, 1, 24),\n",
       " datetime.date(2021, 9, 8),\n",
       " datetime.date(2024, 10, 30),\n",
       " datetime.date(2020, 11, 25),\n",
       " datetime.date(2023, 7, 31),\n",
       " datetime.date(2020, 8, 26),\n",
       " datetime.date(2022, 4, 21),\n",
       " datetime.date(2019, 1, 15),\n",
       " datetime.date(2020, 8, 10),\n",
       " datetime.date(2020, 3, 3),\n",
       " datetime.date(2020, 7, 14),\n",
       " datetime.date(2023, 1, 4),\n",
       " datetime.date(2023, 6, 8),\n",
       " datetime.date(2023, 5, 26),\n",
       " datetime.date(2023, 9, 27),\n",
       " datetime.date(2019, 2, 12),\n",
       " datetime.date(2019, 11, 15),\n",
       " datetime.date(2023, 2, 10),\n",
       " datetime.date(2018, 7, 4),\n",
       " datetime.date(2020, 5, 7),\n",
       " datetime.date(2021, 8, 13),\n",
       " datetime.date(2022, 1, 28),\n",
       " datetime.date(2020, 5, 21),\n",
       " datetime.date(2024, 11, 14),\n",
       " datetime.date(2021, 7, 23),\n",
       " datetime.date(2022, 12, 6),\n",
       " datetime.date(2023, 5, 31),\n",
       " datetime.date(2019, 8, 16),\n",
       " datetime.date(2021, 7, 20),\n",
       " datetime.date(2023, 10, 30),\n",
       " datetime.date(2021, 5, 4),\n",
       " datetime.date(2024, 6, 13),\n",
       " datetime.date(2020, 3, 4),\n",
       " datetime.date(2023, 8, 11),\n",
       " datetime.date(2024, 12, 18),\n",
       " datetime.date(2024, 10, 28),\n",
       " datetime.date(2023, 4, 11),\n",
       " datetime.date(2024, 8, 1),\n",
       " datetime.date(2025, 1, 1),\n",
       " datetime.date(2019, 3, 13),\n",
       " datetime.date(2019, 6, 6),\n",
       " datetime.date(2024, 12, 13),\n",
       " datetime.date(2024, 7, 15),\n",
       " datetime.date(2018, 8, 20),\n",
       " datetime.date(2018, 1, 24),\n",
       " datetime.date(2024, 11, 18),\n",
       " datetime.date(2023, 3, 28),\n",
       " datetime.date(2019, 2, 7),\n",
       " datetime.date(2024, 12, 10),\n",
       " datetime.date(2021, 4, 26),\n",
       " datetime.date(2023, 8, 30),\n",
       " datetime.date(2023, 11, 3),\n",
       " datetime.date(2023, 8, 31),\n",
       " datetime.date(2019, 12, 12),\n",
       " datetime.date(2023, 11, 12),\n",
       " datetime.date(2023, 6, 28),\n",
       " datetime.date(2023, 3, 31),\n",
       " datetime.date(2022, 10, 17),\n",
       " datetime.date(2019, 3, 8),\n",
       " datetime.date(2020, 3, 20),\n",
       " datetime.date(2023, 2, 2),\n",
       " datetime.date(2020, 12, 24),\n",
       " datetime.date(2024, 2, 29),\n",
       " datetime.date(2024, 8, 23),\n",
       " datetime.date(2022, 5, 5),\n",
       " datetime.date(2018, 10, 3),\n",
       " datetime.date(2024, 9, 25),\n",
       " datetime.date(2021, 12, 30),\n",
       " datetime.date(2018, 2, 14),\n",
       " datetime.date(2019, 8, 2),\n",
       " datetime.date(2024, 9, 12),\n",
       " datetime.date(2018, 2, 2),\n",
       " datetime.date(2023, 6, 16),\n",
       " datetime.date(2019, 3, 6),\n",
       " datetime.date(2021, 3, 4),\n",
       " datetime.date(2020, 12, 3),\n",
       " datetime.date(2019, 8, 9),\n",
       " datetime.date(2019, 7, 30),\n",
       " datetime.date(2021, 6, 7),\n",
       " datetime.date(2023, 4, 12),\n",
       " datetime.date(2024, 2, 21),\n",
       " datetime.date(2022, 1, 25),\n",
       " datetime.date(2019, 1, 9),\n",
       " datetime.date(2025, 1, 6),\n",
       " datetime.date(2024, 5, 3),\n",
       " datetime.date(2024, 5, 27),\n",
       " datetime.date(2024, 3, 12),\n",
       " datetime.date(2019, 11, 7),\n",
       " datetime.date(2023, 8, 10),\n",
       " datetime.date(2024, 7, 25),\n",
       " datetime.date(2022, 7, 28),\n",
       " datetime.date(2019, 7, 11),\n",
       " datetime.date(2023, 3, 6),\n",
       " datetime.date(2019, 4, 4),\n",
       " datetime.date(2022, 2, 4),\n",
       " datetime.date(2024, 8, 13),\n",
       " datetime.date(2018, 12, 21),\n",
       " datetime.date(2021, 1, 6),\n",
       " datetime.date(2019, 10, 27),\n",
       " datetime.date(2023, 5, 2),\n",
       " datetime.date(2020, 1, 1),\n",
       " datetime.date(2020, 11, 5),\n",
       " datetime.date(2018, 7, 12),\n",
       " datetime.date(2022, 11, 29),\n",
       " datetime.date(2022, 6, 27),\n",
       " datetime.date(2022, 9, 20),\n",
       " datetime.date(2023, 5, 10),\n",
       " datetime.date(2023, 12, 18),\n",
       " datetime.date(2019, 12, 18),\n",
       " datetime.date(2022, 12, 20),\n",
       " datetime.date(2018, 12, 5),\n",
       " datetime.date(2021, 11, 24),\n",
       " datetime.date(2025, 1, 23),\n",
       " datetime.date(2019, 10, 30),\n",
       " datetime.date(2019, 1, 3),\n",
       " datetime.date(2019, 9, 24),\n",
       " datetime.date(2021, 10, 18),\n",
       " datetime.date(2022, 5, 25),\n",
       " datetime.date(2023, 1, 31),\n",
       " datetime.date(2020, 4, 27),\n",
       " datetime.date(2023, 4, 13),\n",
       " datetime.date(2020, 3, 12),\n",
       " datetime.date(2024, 11, 27),\n",
       " datetime.date(2020, 8, 25),\n",
       " datetime.date(2019, 6, 26),\n",
       " datetime.date(2019, 8, 22),\n",
       " datetime.date(2023, 12, 28),\n",
       " datetime.date(2020, 10, 12),\n",
       " datetime.date(2020, 4, 8),\n",
       " datetime.date(2019, 1, 29),\n",
       " datetime.date(2019, 10, 24),\n",
       " datetime.date(2023, 2, 7),\n",
       " datetime.date(2019, 9, 30),\n",
       " datetime.date(2021, 9, 23),\n",
       " datetime.date(2023, 2, 16),\n",
       " datetime.date(2018, 2, 5),\n",
       " datetime.date(2020, 1, 6),\n",
       " datetime.date(2021, 10, 22),\n",
       " datetime.date(2018, 12, 31),\n",
       " datetime.date(2022, 2, 16),\n",
       " datetime.date(2021, 4, 19),\n",
       " datetime.date(2022, 12, 15),\n",
       " datetime.date(2023, 11, 8),\n",
       " datetime.date(2024, 9, 20),\n",
       " datetime.date(2018, 4, 23),\n",
       " datetime.date(2020, 7, 8),\n",
       " datetime.date(2020, 4, 20),\n",
       " datetime.date(2024, 4, 23),\n",
       " datetime.date(2024, 10, 7),\n",
       " datetime.date(2019, 2, 26),\n",
       " datetime.date(2020, 5, 8),\n",
       " datetime.date(2023, 12, 29),\n",
       " datetime.date(2021, 9, 16),\n",
       " datetime.date(2021, 11, 8),\n",
       " datetime.date(2021, 7, 1),\n",
       " datetime.date(2020, 1, 9),\n",
       " datetime.date(2022, 4, 1),\n",
       " datetime.date(2023, 11, 24),\n",
       " datetime.date(2018, 7, 17),\n",
       " datetime.date(2018, 5, 23),\n",
       " datetime.date(2023, 5, 30),\n",
       " datetime.date(2021, 9, 3),\n",
       " datetime.date(2021, 10, 12),\n",
       " datetime.date(2022, 10, 31),\n",
       " datetime.date(2018, 8, 16),\n",
       " datetime.date(2023, 2, 17),\n",
       " datetime.date(2022, 4, 13),\n",
       " datetime.date(2021, 7, 30),\n",
       " datetime.date(2018, 6, 22),\n",
       " datetime.date(2023, 4, 28),\n",
       " datetime.date(2021, 12, 21),\n",
       " datetime.date(2021, 3, 9),\n",
       " datetime.date(2019, 11, 11),\n",
       " datetime.date(2022, 2, 11),\n",
       " datetime.date(2021, 7, 8),\n",
       " datetime.date(2023, 10, 26),\n",
       " datetime.date(2024, 5, 24),\n",
       " datetime.date(2020, 7, 17),\n",
       " datetime.date(2019, 8, 28),\n",
       " datetime.date(2020, 6, 3),\n",
       " datetime.date(2019, 9, 23),\n",
       " datetime.date(2021, 12, 1),\n",
       " datetime.date(2018, 9, 3),\n",
       " datetime.date(2024, 11, 11),\n",
       " datetime.date(2022, 9, 12),\n",
       " datetime.date(2023, 2, 8),\n",
       " datetime.date(2019, 11, 29),\n",
       " datetime.date(2020, 9, 11),\n",
       " datetime.date(2018, 12, 17),\n",
       " datetime.date(2022, 12, 2),\n",
       " datetime.date(2019, 12, 9),\n",
       " datetime.date(2022, 1, 18),\n",
       " datetime.date(2021, 7, 22),\n",
       " datetime.date(2019, 10, 9),\n",
       " datetime.date(2021, 3, 5),\n",
       " datetime.date(2020, 12, 7),\n",
       " datetime.date(2018, 4, 24),\n",
       " datetime.date(2024, 6, 7),\n",
       " datetime.date(2020, 8, 28),\n",
       " datetime.date(2024, 2, 7),\n",
       " datetime.date(2023, 7, 12),\n",
       " datetime.date(2020, 4, 7),\n",
       " datetime.date(2020, 3, 6),\n",
       " datetime.date(2020, 3, 11),\n",
       " datetime.date(2020, 2, 3),\n",
       " datetime.date(2022, 1, 14),\n",
       " datetime.date(2019, 10, 7),\n",
       " datetime.date(2018, 2, 15),\n",
       " datetime.date(2024, 5, 10),\n",
       " datetime.date(2023, 5, 24),\n",
       " datetime.date(2022, 1, 17),\n",
       " datetime.date(2019, 2, 21),\n",
       " datetime.date(2018, 5, 31),\n",
       " datetime.date(2021, 8, 25),\n",
       " datetime.date(2024, 2, 8),\n",
       " datetime.date(2023, 9, 20),\n",
       " datetime.date(2018, 4, 25),\n",
       " datetime.date(2024, 6, 19),\n",
       " datetime.date(2023, 3, 8),\n",
       " datetime.date(2018, 10, 9),\n",
       " datetime.date(2024, 8, 8),\n",
       " datetime.date(2018, 10, 16),\n",
       " datetime.date(2023, 8, 17),\n",
       " datetime.date(2019, 5, 20),\n",
       " datetime.date(2020, 9, 23),\n",
       " datetime.date(2024, 10, 9),\n",
       " datetime.date(2024, 10, 24),\n",
       " datetime.date(2023, 7, 6),\n",
       " datetime.date(2020, 12, 18),\n",
       " datetime.date(2020, 7, 30),\n",
       " datetime.date(2024, 5, 22),\n",
       " datetime.date(2024, 12, 4),\n",
       " datetime.date(2022, 11, 16),\n",
       " datetime.date(2023, 8, 7),\n",
       " datetime.date(2019, 12, 4),\n",
       " datetime.date(2019, 1, 14),\n",
       " datetime.date(2022, 2, 22),\n",
       " datetime.date(2022, 4, 25),\n",
       " datetime.date(2020, 6, 22),\n",
       " datetime.date(2024, 3, 11),\n",
       " datetime.date(2018, 1, 2),\n",
       " datetime.date(2023, 6, 27),\n",
       " datetime.date(2024, 2, 16),\n",
       " datetime.date(2021, 4, 28),\n",
       " datetime.date(2022, 2, 14),\n",
       " datetime.date(2020, 6, 2),\n",
       " datetime.date(2018, 10, 19),\n",
       " datetime.date(2023, 7, 5),\n",
       " datetime.date(2022, 3, 25),\n",
       " datetime.date(2021, 11, 15),\n",
       " datetime.date(2022, 11, 3),\n",
       " datetime.date(2019, 1, 11),\n",
       " datetime.date(2020, 1, 27),\n",
       " datetime.date(2022, 5, 2),\n",
       " datetime.date(2018, 3, 6),\n",
       " datetime.date(2018, 8, 30),\n",
       " datetime.date(2024, 8, 26),\n",
       " datetime.date(2023, 4, 18),\n",
       " datetime.date(2020, 12, 29),\n",
       " datetime.date(2021, 4, 23),\n",
       " datetime.date(2020, 1, 3),\n",
       " datetime.date(2021, 12, 2),\n",
       " datetime.date(2020, 10, 20),\n",
       " datetime.date(2024, 3, 4),\n",
       " datetime.date(2019, 9, 26),\n",
       " datetime.date(2023, 3, 3),\n",
       " datetime.date(2020, 11, 27),\n",
       " datetime.date(2019, 7, 9),\n",
       " datetime.date(2024, 3, 21),\n",
       " datetime.date(2024, 5, 13),\n",
       " datetime.date(2020, 12, 31),\n",
       " datetime.date(2023, 3, 10),\n",
       " datetime.date(2023, 7, 27),\n",
       " datetime.date(2020, 1, 24),\n",
       " datetime.date(2018, 11, 6),\n",
       " datetime.date(2023, 9, 8),\n",
       " datetime.date(2018, 1, 16),\n",
       " datetime.date(2018, 3, 14),\n",
       " datetime.date(2018, 4, 9),\n",
       " datetime.date(2021, 8, 24),\n",
       " datetime.date(2021, 9, 2),\n",
       " datetime.date(2019, 7, 26),\n",
       " datetime.date(2023, 1, 16),\n",
       " datetime.date(2018, 1, 15),\n",
       " datetime.date(2023, 3, 1),\n",
       " datetime.date(2021, 10, 28),\n",
       " datetime.date(2018, 11, 30),\n",
       " datetime.date(2022, 6, 1),\n",
       " datetime.date(2024, 3, 15),\n",
       " datetime.date(2024, 12, 3),\n",
       " datetime.date(2022, 10, 10),\n",
       " datetime.date(2024, 3, 20),\n",
       " datetime.date(2020, 5, 6),\n",
       " datetime.date(2020, 4, 24),\n",
       " datetime.date(2024, 5, 17),\n",
       " datetime.date(2024, 5, 18),\n",
       " datetime.date(2023, 4, 25),\n",
       " datetime.date(2018, 10, 10),\n",
       " datetime.date(2023, 10, 10),\n",
       " datetime.date(2022, 2, 24),\n",
       " datetime.date(2019, 8, 14),\n",
       " datetime.date(2024, 7, 29),\n",
       " datetime.date(2020, 2, 24),\n",
       " datetime.date(2023, 10, 18),\n",
       " datetime.date(2022, 4, 20),\n",
       " datetime.date(2018, 2, 21),\n",
       " datetime.date(2023, 1, 12),\n",
       " datetime.date(2019, 4, 15),\n",
       " datetime.date(2020, 7, 24),\n",
       " datetime.date(2018, 5, 17),\n",
       " datetime.date(2018, 1, 1),\n",
       " datetime.date(2019, 3, 20),\n",
       " datetime.date(2025, 1, 14),\n",
       " datetime.date(2021, 3, 2),\n",
       " datetime.date(2023, 11, 30),\n",
       " datetime.date(2023, 12, 14),\n",
       " datetime.date(2024, 5, 15),\n",
       " datetime.date(2021, 10, 11),\n",
       " datetime.date(2018, 12, 14),\n",
       " datetime.date(2022, 7, 1),\n",
       " datetime.date(2023, 8, 1),\n",
       " datetime.date(2021, 2, 8),\n",
       " datetime.date(2022, 12, 13),\n",
       " datetime.date(2022, 7, 25),\n",
       " datetime.date(2018, 4, 11),\n",
       " datetime.date(2023, 11, 1),\n",
       " datetime.date(2018, 9, 11),\n",
       " datetime.date(2021, 11, 17),\n",
       " datetime.date(2024, 2, 1),\n",
       " datetime.date(2019, 6, 25),\n",
       " datetime.date(2021, 10, 5),\n",
       " datetime.date(2023, 8, 28),\n",
       " datetime.date(2021, 9, 21),\n",
       " datetime.date(2021, 12, 31),\n",
       " datetime.date(2021, 9, 22),\n",
       " datetime.date(2024, 1, 19),\n",
       " datetime.date(2020, 3, 27),\n",
       " datetime.date(2020, 12, 22),\n",
       " datetime.date(2023, 10, 4),\n",
       " datetime.date(2020, 9, 15),\n",
       " datetime.date(2024, 5, 2),\n",
       " datetime.date(2022, 8, 11),\n",
       " datetime.date(2023, 8, 25),\n",
       " datetime.date(2024, 6, 27),\n",
       " datetime.date(2021, 5, 17),\n",
       " datetime.date(2018, 10, 11),\n",
       " datetime.date(2022, 9, 2),\n",
       " datetime.date(2022, 5, 19),\n",
       " datetime.date(2020, 1, 23),\n",
       " datetime.date(2021, 2, 3),\n",
       " datetime.date(2021, 3, 18),\n",
       " datetime.date(2018, 3, 28),\n",
       " datetime.date(2023, 10, 23),\n",
       " datetime.date(2018, 12, 11),\n",
       " datetime.date(2021, 7, 28),\n",
       " datetime.date(2020, 2, 20),\n",
       " datetime.date(2021, 3, 23),\n",
       " datetime.date(2022, 10, 21),\n",
       " datetime.date(2019, 2, 18),\n",
       " datetime.date(2020, 7, 20),\n",
       " datetime.date(2021, 8, 27),\n",
       " datetime.date(2023, 9, 12),\n",
       " datetime.date(2023, 11, 9),\n",
       " datetime.date(2018, 1, 11),\n",
       " datetime.date(2021, 4, 30),\n",
       " datetime.date(2019, 8, 26),\n",
       " datetime.date(2020, 1, 29),\n",
       " datetime.date(2020, 3, 2),\n",
       " datetime.date(2019, 5, 22),\n",
       " datetime.date(2021, 8, 10),\n",
       " datetime.date(2021, 6, 10),\n",
       " datetime.date(2020, 10, 30),\n",
       " datetime.date(2023, 8, 22),\n",
       " datetime.date(2019, 11, 25),\n",
       " datetime.date(2024, 1, 20),\n",
       " datetime.date(2022, 6, 2),\n",
       " datetime.date(2024, 11, 28),\n",
       " datetime.date(2018, 3, 9),\n",
       " datetime.date(2022, 1, 20),\n",
       " datetime.date(2018, 10, 24),\n",
       " datetime.date(2021, 7, 19),\n",
       " datetime.date(2021, 2, 19),\n",
       " datetime.date(2018, 2, 16),\n",
       " datetime.date(2022, 5, 12),\n",
       " datetime.date(2023, 6, 21),\n",
       " datetime.date(2021, 2, 2),\n",
       " datetime.date(2024, 1, 31),\n",
       " datetime.date(2018, 9, 14),\n",
       " datetime.date(2022, 4, 27),\n",
       " datetime.date(2018, 5, 25),\n",
       " datetime.date(2018, 5, 18),\n",
       " datetime.date(2022, 4, 29),\n",
       " datetime.date(2019, 4, 30),\n",
       " datetime.date(2019, 5, 24),\n",
       " datetime.date(2022, 10, 4),\n",
       " datetime.date(2023, 7, 13),\n",
       " datetime.date(2020, 7, 10),\n",
       " datetime.date(2018, 7, 25),\n",
       " datetime.date(2024, 9, 19),\n",
       " datetime.date(2020, 9, 30),\n",
       " datetime.date(2019, 10, 25),\n",
       " datetime.date(2021, 9, 7),\n",
       " datetime.date(2024, 3, 22),\n",
       " datetime.date(2021, 4, 15),\n",
       " datetime.date(2019, 9, 25),\n",
       " datetime.date(2022, 12, 5),\n",
       " datetime.date(2023, 7, 20),\n",
       " datetime.date(2022, 10, 13),\n",
       " datetime.date(2018, 2, 26),\n",
       " datetime.date(2019, 7, 8),\n",
       " datetime.date(2018, 11, 14),\n",
       " datetime.date(2024, 10, 21),\n",
       " datetime.date(2021, 4, 22),\n",
       " datetime.date(2022, 12, 7),\n",
       " datetime.date(2019, 5, 31),\n",
       " datetime.date(2021, 8, 23),\n",
       " datetime.date(2019, 11, 5),\n",
       " datetime.date(2020, 11, 9),\n",
       " datetime.date(2021, 10, 13),\n",
       " datetime.date(2022, 1, 3),\n",
       " datetime.date(2021, 7, 26),\n",
       " datetime.date(2022, 5, 11),\n",
       " datetime.date(2019, 4, 8),\n",
       " datetime.date(2018, 7, 30),\n",
       " datetime.date(2023, 6, 2),\n",
       " datetime.date(2021, 11, 1),\n",
       " datetime.date(2020, 1, 13),\n",
       " datetime.date(2018, 6, 12),\n",
       " datetime.date(2018, 5, 24),\n",
       " datetime.date(2019, 6, 21),\n",
       " datetime.date(2022, 2, 15),\n",
       " datetime.date(2021, 3, 22),\n",
       " datetime.date(2021, 11, 4),\n",
       " datetime.date(2023, 1, 9),\n",
       " datetime.date(2018, 6, 14),\n",
       " datetime.date(2025, 1, 13),\n",
       " datetime.date(2020, 1, 14),\n",
       " datetime.date(2022, 3, 2),\n",
       " datetime.date(2019, 10, 16),\n",
       " datetime.date(2023, 3, 15),\n",
       " datetime.date(2022, 6, 3),\n",
       " datetime.date(2021, 8, 3),\n",
       " datetime.date(2020, 1, 22),\n",
       " datetime.date(2020, 1, 31),\n",
       " datetime.date(2022, 9, 15),\n",
       " datetime.date(2018, 1, 17),\n",
       " datetime.date(2024, 12, 30),\n",
       " datetime.date(2018, 9, 21),\n",
       " datetime.date(2022, 6, 24),\n",
       " datetime.date(2020, 7, 22),\n",
       " datetime.date(2024, 10, 25),\n",
       " datetime.date(2024, 2, 23),\n",
       " datetime.date(2019, 10, 18),\n",
       " datetime.date(2019, 6, 20),\n",
       " datetime.date(2021, 1, 5),\n",
       " datetime.date(2023, 11, 20),\n",
       " datetime.date(2018, 3, 12),\n",
       " datetime.date(2019, 7, 12),\n",
       " datetime.date(2024, 2, 13),\n",
       " datetime.date(2021, 7, 27),\n",
       " datetime.date(2022, 1, 13),\n",
       " datetime.date(2020, 4, 9),\n",
       " datetime.date(2018, 11, 22),\n",
       " datetime.date(2020, 8, 5),\n",
       " datetime.date(2024, 2, 28),\n",
       " datetime.date(2024, 6, 14),\n",
       " datetime.date(2024, 3, 7),\n",
       " datetime.date(2018, 4, 16),\n",
       " datetime.date(2020, 2, 18),\n",
       " datetime.date(2022, 4, 8),\n",
       " datetime.date(2024, 2, 2),\n",
       " datetime.date(2018, 4, 3),\n",
       " datetime.date(2019, 5, 15),\n",
       " datetime.date(2020, 3, 30),\n",
       " datetime.date(2019, 9, 27),\n",
       " datetime.date(2023, 10, 3),\n",
       " datetime.date(2019, 4, 2),\n",
       " datetime.date(2018, 9, 4),\n",
       " datetime.date(2020, 1, 7),\n",
       " datetime.date(2022, 5, 26),\n",
       " datetime.date(2022, 8, 10),\n",
       " datetime.date(2018, 7, 23),\n",
       " datetime.date(2019, 5, 9),\n",
       " datetime.date(2018, 8, 27),\n",
       " datetime.date(2018, 7, 31),\n",
       " datetime.date(2021, 3, 12),\n",
       " datetime.date(2018, 10, 1),\n",
       " datetime.date(2022, 8, 17),\n",
       " datetime.date(2020, 4, 3),\n",
       " datetime.date(2019, 2, 1),\n",
       " datetime.date(2018, 6, 8),\n",
       " datetime.date(2021, 5, 12),\n",
       " datetime.date(2023, 3, 2),\n",
       " datetime.date(2021, 6, 4),\n",
       " datetime.date(2023, 7, 4),\n",
       " datetime.date(2018, 6, 15),\n",
       " datetime.date(2018, 11, 20),\n",
       " datetime.date(2020, 6, 5),\n",
       " datetime.date(2020, 3, 17),\n",
       " datetime.date(2021, 8, 4),\n",
       " datetime.date(2019, 3, 26),\n",
       " datetime.date(2021, 2, 18),\n",
       " datetime.date(2019, 2, 28),\n",
       " datetime.date(2021, 2, 22),\n",
       " datetime.date(2024, 6, 4),\n",
       " datetime.date(2023, 8, 23),\n",
       " datetime.date(2021, 11, 26),\n",
       " datetime.date(2018, 1, 30),\n",
       " datetime.date(2024, 6, 21),\n",
       " datetime.date(2018, 5, 8),\n",
       " datetime.date(2023, 2, 15),\n",
       " datetime.date(2023, 11, 7),\n",
       " datetime.date(2020, 5, 19),\n",
       " datetime.date(2019, 3, 18),\n",
       " datetime.date(2021, 2, 16),\n",
       " datetime.date(2022, 5, 18),\n",
       " datetime.date(2021, 5, 10),\n",
       " datetime.date(2024, 4, 5),\n",
       " datetime.date(2024, 10, 1),\n",
       " datetime.date(2021, 1, 13),\n",
       " datetime.date(2018, 8, 13),\n",
       " datetime.date(2018, 12, 27),\n",
       " datetime.date(2020, 12, 21),\n",
       " datetime.date(2018, 8, 7),\n",
       " datetime.date(2019, 2, 4),\n",
       " datetime.date(2024, 11, 21),\n",
       " datetime.date(2021, 11, 30),\n",
       " datetime.date(2022, 12, 28),\n",
       " datetime.date(2019, 11, 1),\n",
       " datetime.date(2024, 9, 23),\n",
       " datetime.date(2024, 9, 11),\n",
       " datetime.date(2023, 10, 5),\n",
       " datetime.date(2019, 6, 4),\n",
       " datetime.date(2022, 4, 5),\n",
       " datetime.date(2022, 1, 19),\n",
       " datetime.date(2020, 10, 27),\n",
       " datetime.date(2021, 4, 7),\n",
       " datetime.date(2021, 7, 9),\n",
       " datetime.date(2023, 9, 15),\n",
       " datetime.date(2025, 1, 20),\n",
       " datetime.date(2021, 3, 24),\n",
       " datetime.date(2022, 6, 7),\n",
       " datetime.date(2024, 4, 12),\n",
       " datetime.date(2020, 1, 21),\n",
       " datetime.date(2022, 1, 4),\n",
       " datetime.date(2018, 1, 3),\n",
       " datetime.date(2023, 8, 16),\n",
       " datetime.date(2024, 8, 6),\n",
       " datetime.date(2024, 6, 20),\n",
       " datetime.date(2021, 6, 11),\n",
       " datetime.date(2023, 10, 19),\n",
       " datetime.date(2022, 11, 11),\n",
       " datetime.date(2023, 6, 13),\n",
       " datetime.date(2022, 5, 17),\n",
       " datetime.date(2018, 2, 7),\n",
       " datetime.date(2022, 4, 28),\n",
       " datetime.date(2024, 9, 16),\n",
       " datetime.date(2023, 2, 24),\n",
       " datetime.date(2021, 2, 12),\n",
       " datetime.date(2022, 6, 17),\n",
       " datetime.date(2018, 10, 30),\n",
       " datetime.date(2019, 12, 16),\n",
       " datetime.date(2018, 2, 19),\n",
       " datetime.date(2021, 3, 8),\n",
       " datetime.date(2023, 6, 22),\n",
       " datetime.date(2020, 9, 17),\n",
       " datetime.date(2020, 11, 26),\n",
       " datetime.date(2019, 10, 17),\n",
       " datetime.date(2019, 6, 14),\n",
       " datetime.date(2019, 10, 3),\n",
       " datetime.date(2021, 4, 6),\n",
       " datetime.date(2021, 5, 11),\n",
       " datetime.date(2024, 11, 8),\n",
       " datetime.date(2024, 12, 24),\n",
       " datetime.date(2024, 3, 19),\n",
       " datetime.date(2020, 11, 4),\n",
       " datetime.date(2024, 12, 23),\n",
       " datetime.date(2018, 2, 20),\n",
       " datetime.date(2018, 12, 12),\n",
       " datetime.date(2023, 1, 25),\n",
       " datetime.date(2020, 2, 25),\n",
       " datetime.date(2023, 9, 25),\n",
       " datetime.date(2021, 10, 20),\n",
       " datetime.date(2023, 1, 2),\n",
       " datetime.date(2022, 1, 6),\n",
       " datetime.date(2020, 10, 1),\n",
       " datetime.date(2020, 7, 29),\n",
       " datetime.date(2022, 11, 14),\n",
       " datetime.date(2024, 2, 5),\n",
       " datetime.date(2018, 7, 6),\n",
       " datetime.date(2018, 8, 29),\n",
       " datetime.date(2021, 6, 25),\n",
       " datetime.date(2022, 8, 5),\n",
       " datetime.date(2020, 5, 29),\n",
       " datetime.date(2021, 3, 10),\n",
       " datetime.date(2024, 1, 2),\n",
       " datetime.date(2022, 10, 3),\n",
       " datetime.date(2021, 8, 5),\n",
       " datetime.date(2019, 1, 25),\n",
       " datetime.date(2024, 11, 6),\n",
       " datetime.date(2021, 12, 6),\n",
       " datetime.date(2024, 11, 26),\n",
       " datetime.date(2020, 3, 31),\n",
       " datetime.date(2019, 9, 9),\n",
       " datetime.date(2022, 3, 8),\n",
       " datetime.date(2021, 11, 23),\n",
       " datetime.date(2019, 3, 15),\n",
       " datetime.date(2024, 3, 14),\n",
       " datetime.date(2025, 1, 15),\n",
       " datetime.date(2018, 8, 28),\n",
       " datetime.date(2021, 12, 22),\n",
       " datetime.date(2019, 3, 14),\n",
       " datetime.date(2020, 4, 16),\n",
       " datetime.date(2018, 6, 27),\n",
       " datetime.date(2018, 11, 19),\n",
       " datetime.date(2021, 5, 5),\n",
       " datetime.date(2018, 6, 5),\n",
       " datetime.date(2023, 1, 20),\n",
       " datetime.date(2021, 9, 24),\n",
       " datetime.date(2019, 11, 20),\n",
       " datetime.date(2024, 10, 10),\n",
       " datetime.date(2023, 7, 7),\n",
       " datetime.date(2020, 7, 3),\n",
       " datetime.date(2018, 4, 20),\n",
       " datetime.date(2023, 5, 19),\n",
       " datetime.date(2023, 11, 13),\n",
       " datetime.date(2019, 3, 27),\n",
       " datetime.date(2018, 1, 18),\n",
       " datetime.date(2020, 9, 1),\n",
       " datetime.date(2023, 8, 8),\n",
       " datetime.date(2018, 8, 8),\n",
       " datetime.date(2021, 9, 13),\n",
       " datetime.date(2020, 8, 20),\n",
       " datetime.date(2020, 10, 9),\n",
       " datetime.date(2018, 11, 1),\n",
       " datetime.date(2020, 3, 26),\n",
       " datetime.date(2024, 1, 16),\n",
       " datetime.date(2019, 12, 24),\n",
       " datetime.date(2020, 6, 10),\n",
       " datetime.date(2024, 9, 26),\n",
       " datetime.date(2020, 7, 31),\n",
       " datetime.date(2023, 1, 27),\n",
       " datetime.date(2021, 11, 22),\n",
       " datetime.date(2023, 7, 19),\n",
       " datetime.date(2018, 11, 9),\n",
       " datetime.date(2024, 4, 30),\n",
       " datetime.date(2021, 5, 28),\n",
       " datetime.date(2021, 6, 8),\n",
       " datetime.date(2021, 7, 13),\n",
       " datetime.date(2022, 6, 6),\n",
       " datetime.date(2019, 7, 31),\n",
       " datetime.date(2022, 8, 22),\n",
       " datetime.date(2023, 12, 19),\n",
       " datetime.date(2018, 4, 13),\n",
       " datetime.date(2022, 6, 13),\n",
       " datetime.date(2024, 2, 27),\n",
       " datetime.date(2022, 6, 14),\n",
       " datetime.date(2022, 4, 4),\n",
       " datetime.date(2023, 6, 30),\n",
       " datetime.date(2020, 10, 28),\n",
       " datetime.date(2022, 7, 27),\n",
       " datetime.date(2024, 12, 31),\n",
       " datetime.date(2022, 3, 22),\n",
       " datetime.date(2022, 9, 27),\n",
       " datetime.date(2019, 7, 16),\n",
       " datetime.date(2024, 10, 29),\n",
       " datetime.date(2018, 2, 8),\n",
       " datetime.date(2018, 8, 3),\n",
       " datetime.date(2019, 5, 30),\n",
       " datetime.date(2021, 3, 1),\n",
       " datetime.date(2020, 2, 28),\n",
       " datetime.date(2022, 7, 26),\n",
       " datetime.date(2021, 1, 21),\n",
       " datetime.date(2021, 2, 15),\n",
       " datetime.date(2024, 2, 20),\n",
       " datetime.date(2018, 11, 28),\n",
       " datetime.date(2020, 10, 6),\n",
       " datetime.date(2024, 9, 9),\n",
       " datetime.date(2019, 2, 20),\n",
       " datetime.date(2023, 10, 11),\n",
       " datetime.date(2023, 4, 27),\n",
       " datetime.date(2018, 7, 11),\n",
       " datetime.date(2019, 9, 16),\n",
       " datetime.date(2021, 7, 15),\n",
       " datetime.date(2021, 12, 8),\n",
       " datetime.date(2019, 1, 8),\n",
       " datetime.date(2024, 12, 5),\n",
       " datetime.date(2020, 9, 22),\n",
       " datetime.date(2019, 12, 11),\n",
       " datetime.date(2018, 4, 18),\n",
       " datetime.date(2020, 6, 29),\n",
       " datetime.date(2019, 12, 27),\n",
       " datetime.date(2018, 11, 27),\n",
       " datetime.date(2023, 5, 25),\n",
       " datetime.date(2019, 4, 9),\n",
       " datetime.date(2023, 9, 26),\n",
       " datetime.date(2022, 7, 4),\n",
       " datetime.date(2022, 12, 23),\n",
       " datetime.date(2021, 1, 28),\n",
       " datetime.date(2024, 7, 23),\n",
       " datetime.date(2021, 3, 3),\n",
       " datetime.date(2020, 10, 14),\n",
       " datetime.date(2021, 5, 14),\n",
       " datetime.date(2021, 3, 16),\n",
       " datetime.date(2024, 10, 4),\n",
       " datetime.date(2021, 6, 28),\n",
       " datetime.date(2021, 7, 14),\n",
       " datetime.date(2022, 9, 13),\n",
       " datetime.date(2018, 11, 13),\n",
       " datetime.date(2023, 12, 7),\n",
       " datetime.date(2024, 8, 22),\n",
       " datetime.date(2022, 4, 19),\n",
       " datetime.date(2018, 6, 13),\n",
       " datetime.date(2021, 10, 21),\n",
       " datetime.date(2024, 6, 10),\n",
       " datetime.date(2019, 8, 1),\n",
       " datetime.date(2024, 7, 11),\n",
       " datetime.date(2018, 7, 16),\n",
       " datetime.date(2021, 8, 2),\n",
       " datetime.date(2022, 3, 24),\n",
       " datetime.date(2018, 5, 9),\n",
       " datetime.date(2021, 8, 18),\n",
       " datetime.date(2025, 1, 21),\n",
       " datetime.date(2020, 2, 1),\n",
       " datetime.date(2019, 5, 3),\n",
       " datetime.date(2019, 6, 3),\n",
       " datetime.date(2019, 6, 19),\n",
       " datetime.date(2022, 8, 25),\n",
       " datetime.date(2019, 10, 23),\n",
       " datetime.date(2021, 4, 27),\n",
       " datetime.date(2024, 10, 31),\n",
       " datetime.date(2019, 9, 13),\n",
       " datetime.date(2022, 4, 18),\n",
       " datetime.date(2022, 5, 10),\n",
       " datetime.date(2019, 5, 13),\n",
       " datetime.date(2018, 3, 16),\n",
       " datetime.date(2019, 7, 25),\n",
       " datetime.date(2020, 8, 3),\n",
       " datetime.date(2022, 3, 17),\n",
       " datetime.date(2020, 11, 20),\n",
       " datetime.date(2023, 11, 10),\n",
       " datetime.date(2024, 6, 11),\n",
       " datetime.date(2019, 3, 12),\n",
       " datetime.date(2021, 6, 18),\n",
       " datetime.date(2022, 8, 8),\n",
       " datetime.date(2019, 11, 22),\n",
       " datetime.date(2022, 9, 29),\n",
       " datetime.date(2022, 8, 23),\n",
       " datetime.date(2020, 1, 20),\n",
       " datetime.date(2023, 2, 3),\n",
       " datetime.date(2024, 4, 26),\n",
       " datetime.date(2024, 7, 10),\n",
       " datetime.date(2024, 8, 27),\n",
       " datetime.date(2020, 10, 23),\n",
       " datetime.date(2023, 2, 9),\n",
       " datetime.date(2019, 5, 7),\n",
       " datetime.date(2018, 4, 10),\n",
       " datetime.date(2018, 9, 27),\n",
       " datetime.date(2019, 2, 11),\n",
       " datetime.date(2022, 9, 28),\n",
       " datetime.date(2024, 12, 12),\n",
       " datetime.date(2024, 10, 15),\n",
       " datetime.date(2018, 6, 11),\n",
       " datetime.date(2019, 7, 22),\n",
       " datetime.date(2020, 9, 16),\n",
       " datetime.date(2022, 1, 27),\n",
       " datetime.date(2024, 6, 18),\n",
       " datetime.date(2022, 5, 20),\n",
       " datetime.date(2018, 9, 5),\n",
       " datetime.date(2023, 6, 5),\n",
       " datetime.date(2018, 10, 22),\n",
       " datetime.date(2020, 10, 5),\n",
       " datetime.date(2018, 9, 7),\n",
       " datetime.date(2018, 2, 6),\n",
       " datetime.date(2023, 4, 26),\n",
       " datetime.date(2019, 6, 28),\n",
       " datetime.date(2020, 7, 16),\n",
       " datetime.date(2024, 6, 26),\n",
       " datetime.date(2022, 1, 7),\n",
       " datetime.date(2019, 10, 10),\n",
       " datetime.date(2023, 2, 13),\n",
       " datetime.date(2022, 8, 16),\n",
       " datetime.date(2018, 6, 20),\n",
       " datetime.date(2018, 7, 5),\n",
       " datetime.date(2019, 10, 22),\n",
       " datetime.date(2020, 8, 14),\n",
       " datetime.date(2024, 12, 17),\n",
       " datetime.date(2018, 2, 1),\n",
       " datetime.date(2024, 9, 5),\n",
       " datetime.date(2020, 5, 11),\n",
       " datetime.date(2023, 11, 21),\n",
       " datetime.date(2024, 4, 18),\n",
       " datetime.date(2020, 8, 11),\n",
       " datetime.date(2022, 1, 24),\n",
       " datetime.date(2018, 6, 6),\n",
       " datetime.date(2018, 2, 12),\n",
       " datetime.date(2024, 5, 7),\n",
       " datetime.date(2024, 10, 22),\n",
       " datetime.date(2022, 10, 12),\n",
       " datetime.date(2023, 11, 2),\n",
       " datetime.date(2020, 1, 30),\n",
       " datetime.date(2023, 3, 24),\n",
       " datetime.date(2021, 10, 6),\n",
       " datetime.date(2023, 4, 17),\n",
       " datetime.date(2020, 12, 9),\n",
       " datetime.date(2023, 1, 23),\n",
       " datetime.date(2024, 12, 6),\n",
       " datetime.date(2019, 5, 27),\n",
       " datetime.date(2024, 10, 8),\n",
       " datetime.date(2018, 10, 15),\n",
       " datetime.date(2020, 4, 13),\n",
       " datetime.date(2024, 1, 12),\n",
       " datetime.date(2023, 7, 26),\n",
       " datetime.date(2020, 9, 3),\n",
       " datetime.date(2019, 7, 2),\n",
       " datetime.date(2022, 4, 26),\n",
       " datetime.date(2018, 10, 4),\n",
       " datetime.date(2024, 1, 3),\n",
       " datetime.date(2018, 2, 28),\n",
       " datetime.date(2021, 8, 16),\n",
       " datetime.date(2020, 6, 1),\n",
       " datetime.date(2020, 9, 4),\n",
       " datetime.date(2022, 7, 29),\n",
       " datetime.date(2018, 6, 26),\n",
       " datetime.date(2020, 6, 12),\n",
       " datetime.date(2019, 4, 26),\n",
       " datetime.date(2025, 1, 9),\n",
       " datetime.date(2019, 4, 3),\n",
       " datetime.date(2021, 8, 12),\n",
       " datetime.date(2018, 6, 18),\n",
       " datetime.date(2018, 3, 13),\n",
       " datetime.date(2019, 1, 23),\n",
       " datetime.date(2020, 10, 7),\n",
       " datetime.date(2023, 4, 21),\n",
       " datetime.date(2023, 11, 16),\n",
       " datetime.date(2018, 5, 14),\n",
       " datetime.date(2024, 9, 24),\n",
       " datetime.date(2025, 1, 16),\n",
       " datetime.date(2024, 12, 20),\n",
       " datetime.date(2024, 1, 24),\n",
       " datetime.date(2022, 9, 26),\n",
       " datetime.date(2020, 11, 13),\n",
       " datetime.date(2020, 2, 19),\n",
       " datetime.date(2023, 10, 27),\n",
       " datetime.date(2020, 10, 21),\n",
       " datetime.date(2020, 11, 14),\n",
       " datetime.date(2021, 8, 20),\n",
       " datetime.date(2024, 7, 1),\n",
       " datetime.date(2023, 11, 17),\n",
       " datetime.date(2021, 12, 28),\n",
       " datetime.date(2020, 2, 17),\n",
       " datetime.date(2020, 12, 11),\n",
       " datetime.date(2023, 3, 22),\n",
       " datetime.date(2018, 4, 30),\n",
       " datetime.date(2023, 5, 18),\n",
       " datetime.date(2019, 8, 7),\n",
       " datetime.date(2018, 1, 19),\n",
       " datetime.date(2018, 5, 30),\n",
       " datetime.date(2021, 9, 15),\n",
       " datetime.date(2018, 10, 17),\n",
       " datetime.date(2022, 2, 23),\n",
       " datetime.date(2020, 5, 20),\n",
       " datetime.date(2021, 4, 20),\n",
       " datetime.date(2025, 1, 17),\n",
       " datetime.date(2022, 2, 21),\n",
       " datetime.date(2024, 2, 12),\n",
       " datetime.date(2019, 4, 11),\n",
       " datetime.date(2023, 6, 23),\n",
       " datetime.date(2024, 5, 6),\n",
       " datetime.date(2019, 3, 1),\n",
       " datetime.date(2023, 7, 25),\n",
       " datetime.date(2022, 10, 27),\n",
       " datetime.date(2022, 7, 14),\n",
       " datetime.date(2020, 8, 27),\n",
       " datetime.date(2022, 3, 10),\n",
       " datetime.date(2024, 9, 17),\n",
       " datetime.date(2019, 2, 13),\n",
       " datetime.date(2019, 1, 18),\n",
       " datetime.date(2024, 11, 12),\n",
       " datetime.date(2019, 2, 25),\n",
       " datetime.date(2022, 9, 8),\n",
       " datetime.date(2020, 9, 21),\n",
       " datetime.date(2022, 4, 12),\n",
       " datetime.date(2018, 8, 14),\n",
       " datetime.date(2021, 4, 16),\n",
       " datetime.date(2021, 2, 11),\n",
       " datetime.date(2024, 4, 10),\n",
       " datetime.date(2023, 9, 28),\n",
       " datetime.date(2019, 1, 1),\n",
       " datetime.date(2020, 1, 16),\n",
       " datetime.date(2020, 2, 27),\n",
       " datetime.date(2021, 1, 20),\n",
       " datetime.date(2021, 4, 29),\n",
       " datetime.date(2023, 9, 14),\n",
       " datetime.date(2023, 6, 26),\n",
       " datetime.date(2020, 5, 26),\n",
       " datetime.date(2022, 4, 22),\n",
       " datetime.date(2021, 3, 25),\n",
       " datetime.date(2021, 5, 26),\n",
       " datetime.date(2020, 1, 8),\n",
       " datetime.date(2018, 3, 7),\n",
       " datetime.date(2024, 6, 28),\n",
       " datetime.date(2024, 1, 29),\n",
       " datetime.date(2025, 1, 10),\n",
       " datetime.date(2018, 1, 25),\n",
       " datetime.date(2023, 7, 17),\n",
       " datetime.date(2020, 9, 8),\n",
       " datetime.date(2021, 7, 16),\n",
       " datetime.date(2022, 9, 22),\n",
       " datetime.date(2020, 1, 10),\n",
       " datetime.date(2024, 5, 29),\n",
       " datetime.date(2019, 9, 3),\n",
       " datetime.date(2019, 2, 27),\n",
       " datetime.date(2019, 11, 27),\n",
       " datetime.date(2021, 1, 19),\n",
       " datetime.date(2023, 9, 21),\n",
       " datetime.date(2019, 10, 15),\n",
       " datetime.date(2019, 9, 19),\n",
       " datetime.date(2022, 11, 17),\n",
       " datetime.date(2018, 12, 4),\n",
       " datetime.date(2024, 10, 23),\n",
       " datetime.date(2024, 9, 2),\n",
       " datetime.date(2021, 1, 22),\n",
       " ...}"
      ]
     },
     "execution_count": 7,
     "metadata": {},
     "output_type": "execute_result"
    }
   ],
   "source": [
    "bnf_1min[\"datetime\"] = pd.to_datetime(bnf_1min[\"datetime\"])\n",
    "list_of_traded_dates = set(bnf_1min[\"datetime\"].dt.date)\n",
    "list_of_traded_dates"
   ]
  },
  {
   "cell_type": "code",
   "execution_count": 8,
   "id": "ddee9e7c-7107-4cee-9f13-3be127234bca",
   "metadata": {
    "execution": {
     "iopub.execute_input": "2025-02-13T07:06:52.707312Z",
     "iopub.status.busy": "2025-02-13T07:06:52.706626Z",
     "iopub.status.idle": "2025-02-13T07:06:52.714444Z",
     "shell.execute_reply": "2025-02-13T07:06:52.712937Z",
     "shell.execute_reply.started": "2025-02-13T07:06:52.707274Z"
    }
   },
   "outputs": [],
   "source": [
    "def rename_ohlc_columns(df: pl.DataFrame) -> pl.DataFrame:\n",
    "\n",
    "    column_mapping = {\"o\": \"open\", \"h\": \"high\", \"l\": \"low\", \"c\": \"close\", \"v\": \"volume\"}\n",
    "    df = df.rename(column_mapping)\n",
    "\n",
    "    return df"
   ]
  },
  {
   "cell_type": "code",
   "execution_count": 9,
   "id": "86257f64-60e1-45b4-9ab1-064efddc3299",
   "metadata": {
    "execution": {
     "iopub.execute_input": "2025-02-13T07:06:56.016221Z",
     "iopub.status.busy": "2025-02-13T07:06:56.015654Z",
     "iopub.status.idle": "2025-02-13T07:06:56.021783Z",
     "shell.execute_reply": "2025-02-13T07:06:56.020372Z",
     "shell.execute_reply.started": "2025-02-13T07:06:56.016198Z"
    }
   },
   "outputs": [],
   "source": [
    "PORTFOLIO_VALUE = 10_00_000 # 10 Lacs\n",
    "# RPT_PCT = 0.01 # 1% RPT\n",
    "SLIPPAGE_ = 0.0001\n",
    "LEVERAGE_ = 5"
   ]
  },
  {
   "cell_type": "code",
   "execution_count": 32,
   "id": "f95acac8-cac8-489f-99c5-92964888a6da",
   "metadata": {
    "execution": {
     "iopub.execute_input": "2025-02-13T09:06:10.176072Z",
     "iopub.status.busy": "2025-02-13T09:06:10.175367Z",
     "iopub.status.idle": "2025-02-13T09:06:10.187355Z",
     "shell.execute_reply": "2025-02-13T09:06:10.185687Z",
     "shell.execute_reply.started": "2025-02-13T09:06:10.176039Z"
    }
   },
   "outputs": [],
   "source": [
    "import pandas as pd\n",
    "\n",
    "def rsi(series, length):\n",
    "    delta = series.diff()\n",
    "    \n",
    "    gain = (delta.where(delta > 0, 0)).ewm(alpha=1/length, adjust=False).mean()\n",
    "    loss = (-delta.where(delta < 0, 0)).ewm(alpha=1/length, adjust=False).mean()\n",
    "\n",
    "    rs = gain / loss\n",
    "    return 100 - (100 / (1 + rs))\n",
    "\n",
    "def calculate_signals(df, ema_length, rsi_length, rsi_ma_length):\n",
    "    # Calculate X-day High/Low and 20 EMA\n",
    "    df['EMA_20'] = df['close'].ewm(span=ema_length, adjust=False).mean()\n",
    "    \n",
    "    # Calculate RSI using TradingView's method\n",
    "    df['RSI'] = rsi(df['close'], rsi_length)\n",
    "    \n",
    "    # Calculate RSI Moving Average\n",
    "    df['RSI_MA'] = df['RSI'].rolling(rsi_ma_length).mean()\n",
    "\n",
    "    # Sell signal condition\n",
    "    df['Sell_Signal'] = df['RSI'] < df['RSI_MA']\n",
    "    \n",
    "    return df\n"
   ]
  },
  {
   "cell_type": "code",
   "execution_count": 35,
   "id": "1543e71c-f847-42b7-8b75-e8a7bbbc0282",
   "metadata": {
    "execution": {
     "iopub.execute_input": "2025-02-13T09:06:53.572880Z",
     "iopub.status.busy": "2025-02-13T09:06:53.571848Z",
     "iopub.status.idle": "2025-02-13T09:06:53.589901Z",
     "shell.execute_reply": "2025-02-13T09:06:53.588464Z",
     "shell.execute_reply.started": "2025-02-13T09:06:53.572853Z"
    }
   },
   "outputs": [],
   "source": [
    "def backtest(df, prev_n_candles):\n",
    "\n",
    "    df.reset_index(drop=True, inplace=True)\n",
    "    # Variables for short trades\n",
    "    short_position = 0  # 0 = no position, 1 = short\n",
    "    short_entry_price = 0\n",
    "    short_entry_date = None\n",
    "    short_trades = []\n",
    "    tradebook = pd.DataFrame()\n",
    "    tradebook_short = pd.DataFrame()\n",
    "    # tradebook_short = pd.DataFrame()\n",
    "    short_trailing_stop = None\n",
    "    # Variables for short trades\n",
    "    # short_position = 0  # 0 = no position, -1 = short\n",
    "    # short_entry_price = 0\n",
    "    # short_entry_date = None\n",
    "    # short_trades = []\n",
    "    # short_trailing_stop = None\n",
    "\n",
    "    can_add_short = False\n",
    "    # can_add_short = False\n",
    "\n",
    "    trade_number = 0\n",
    "    lock_initial_sl = False\n",
    "    first_sl = 0\n",
    "\n",
    "    lock_initial_sl_2 = False\n",
    "    first_sl_2 = 0\n",
    "\n",
    "    pyramid_number = 0\n",
    "    can_pyramid = True\n",
    "    pyramid_high = 0\n",
    "\n",
    "    for i in range(1, len(df)):\n",
    "        # Entry signals for short trades\n",
    "        short_trailing_stop = df.loc[i, 'EMA_20']\n",
    "        # short_trailing_stop = df.loc[i, 'EMA_20']\n",
    "        \n",
    "        if df.loc[i-1, 'Sell_Signal'] and short_position == 0:\n",
    "            #Signal is True on previous candle\n",
    "            if df.loc[i, 'low'] < df.loc[i-1, 'low']:\n",
    "                if df.loc[i, 'high'] < df.loc[i-1, 'low']:\n",
    "                    # Gap Open Below Entry\n",
    "                    continue\n",
    "                else:\n",
    "                    short_position = 1\n",
    "                    short_entry_price = df.loc[i-1, 'low']\n",
    "                    short_entry_date = df.loc[i, 'datetime']\n",
    "                    short_trailing_stop = df.loc[i, 'EMA_20']\n",
    "                    short_initial_sl = df.loc[i-prev_n_candles:i-1, 'high'].max()\n",
    "        \n",
    "                    tradebook_short = pd.concat([tradebook_short, pd.DataFrame([{\n",
    "                        'Trade No.': trade_number,\n",
    "                        'Entry_Date': df.loc[i, 'datetime'],\n",
    "                        'Exit_Date': None,\n",
    "                        'Trade_Type': 'short',\n",
    "                        'Entry_Price': df.loc[i-1, 'low'],\n",
    "                        # 'Previous MA Value': df.loc[i-1, 'X_Low'],\n",
    "                        'Initial SL': short_initial_sl,\n",
    "                        'Exit_Price': None,\n",
    "                        # 'Profit/Loss': None  # Filled when exited\n",
    "                    }])], ignore_index=True)\n",
    "        \n",
    "                    if not lock_initial_sl:\n",
    "                        first_sl = short_initial_sl\n",
    "                        lock_initial_sl = True\n",
    "        \n",
    "                    can_pyramid = True\n",
    "                    pyramid_number = 0\n",
    "                    pyramid_high = 0\n",
    "                    continue\n",
    "                \n",
    "        # Exit or add to short position\n",
    "        if short_position == 1:\n",
    "\n",
    "            \n",
    "            # y_days_low = df['low'].rolling(y_days).min().iloc[i-1]\n",
    "            # y_days_high = df['high'].rolling(y_days).max().iloc[i-1]\n",
    "            \n",
    "            # print(df.iloc[i]['datetime'], y_days_high, y_days_low)\n",
    "            \n",
    "            if df.loc[i, 'high'] >= short_initial_sl:\n",
    "                if df.loc[i, 'open'] >= short_initial_sl:\n",
    "                    tradebook_short.loc[\n",
    "                        (tradebook_short['Trade No.'] == trade_number),\n",
    "                        ['Exit_Date', 'Exit_Price', 'Exit Remark']\n",
    "                    ] = [df.loc[i, 'datetime'] , df.loc[i, 'open'], 'Gap']\n",
    "                    short_position = 0\n",
    "                    can_add_short = False\n",
    "                    trade_number += 1\n",
    "                    lock_initial_sl = False\n",
    "                    first_sl = 0\n",
    "                    can_pyramid = False\n",
    "                    pyramid_number = 0\n",
    "                    pyramid_high = 0\n",
    "                    # if df.loc[i, 'high'] >= long_initial_sl:\n",
    "                    #     tradebook_long.loc[\n",
    "                    #         (tradebook_long['Trade No.'] == trade_number),\n",
    "                    #         ['Exit_Date', 'Exit_Price', 'Exit Remark']\n",
    "                    #     ] = [df.loc[i, 'datetime'] , long_initial_sl, 'Initial SL Hit']\n",
    "                    #     long_position = 0\n",
    "                    #     can_add_long = False\n",
    "                    #     trade_number += 1\n",
    "                    #     lock_initial_sl = False\n",
    "                    #     first_sl = 0\n",
    "                    #     can_pyramid = False\n",
    "                    #     pyramid_number = 0\n",
    "                    #     pyramid_high = 0\n",
    "                    # elif df.loc[i, 'high'] < long_initial_sl:\n",
    "                    #     tradebook_long.loc[\n",
    "                    #         (tradebook_long['Trade No.'] == trade_number),\n",
    "                    #         ['Exit_Date', 'Exit_Price', 'Exit Remark']\n",
    "                    #     ] = [df.loc[i, 'datetime'] , df.loc[i, 'close'], 'Gap Open-Close Below ISL']\n",
    "                    #     long_position = 0\n",
    "                    #     can_add_long = False\n",
    "                    #     trade_number += 1\n",
    "                    #     lock_initial_sl = False\n",
    "                    #     first_sl = 0\n",
    "                    #     can_pyramid = False\n",
    "                    #     pyramid_number = 0\n",
    "                    #     pyramid_high = 0\n",
    "                else:\n",
    "                    tradebook_short.loc[\n",
    "                        (tradebook_short['Trade No.'] == trade_number),\n",
    "                        ['Exit_Date', 'Exit_Price', 'Exit Remark']\n",
    "                    ] = [df.loc[i, 'datetime'] , short_initial_sl, 'Initial SL Hit']\n",
    "                    short_position = 0\n",
    "                    can_add_short = False\n",
    "                    trade_number += 1\n",
    "                    lock_initial_sl = False\n",
    "                    first_sl = 0\n",
    "                    can_pyramid = False\n",
    "                    pyramid_number = 0\n",
    "                    pyramid_high = 0\n",
    "            \n",
    "            elif df.loc[i, 'close'] >= short_trailing_stop:\n",
    "                tradebook_short.loc[\n",
    "                    (tradebook_short['Trade No.'] == trade_number),\n",
    "                    ['Exit_Date', 'Exit_Price', 'Exit Remark']\n",
    "                ] = [df.loc[i, 'datetime'] , df.loc[i, 'close'] , 'Trailing SL Hit']\n",
    "                short_position = 0\n",
    "                can_add_short = False\n",
    "                trade_number += 1\n",
    "                lock_initial_sl = False\n",
    "                first_sl = 0\n",
    "                can_pyramid = False\n",
    "                pyramid_number = 0\n",
    "                pyramid_high = 0\n",
    "\n",
    "            elif df.loc[i, 'RSI'] > df.loc[i, 'RSI_MA']:\n",
    "                tradebook_short.loc[\n",
    "                    (tradebook_short['Trade No.'] == trade_number),\n",
    "                    ['Exit_Date', 'Exit_Price', 'Exit Remark']\n",
    "                ] = [df.loc[i, 'datetime'] , df.loc[i, 'close'] , 'RSI Upmove']\n",
    "                short_position = 0\n",
    "                can_add_short = False\n",
    "                trade_number += 1\n",
    "                lock_initial_sl = False\n",
    "                first_sl = 0\n",
    "                can_pyramid = False\n",
    "                pyramid_number = 0\n",
    "    \n",
    "    tradebook = pd.concat([tradebook_short, tradebook], ignore_index=True)\n",
    "    return tradebook\n"
   ]
  },
  {
   "cell_type": "code",
   "execution_count": 36,
   "id": "e5289d0e-6e3a-4be9-a1d4-62e2cf17df70",
   "metadata": {
    "execution": {
     "iopub.execute_input": "2025-02-13T09:06:55.490672Z",
     "iopub.status.busy": "2025-02-13T09:06:55.490011Z",
     "iopub.status.idle": "2025-02-13T09:07:02.528107Z",
     "shell.execute_reply": "2025-02-13T09:07:02.527092Z",
     "shell.execute_reply.started": "2025-02-13T09:06:55.490646Z"
    }
   },
   "outputs": [
    {
     "name": "stderr",
     "output_type": "stream",
     "text": [
      "/tmp/ipykernel_33520/419236688.py:151: FutureWarning: Setting an item of incompatible dtype is deprecated and will raise an error in a future version of pandas. Value 'RSI Upmove' has dtype incompatible with float64, please explicitly cast to a compatible dtype first.\n",
      "  tradebook_short.loc[\n"
     ]
    }
   ],
   "source": [
    "ema_length = 20\n",
    "RPT = 2.5\n",
    "n_candle_sl = 5\n",
    "rsi_length = 12\n",
    "rsi_ma_length = 9\n",
    "df = bnf_1min\n",
    "df = calculate_signals(df, ema_length, rsi_length, rsi_ma_length)\n",
    "# print(df.tail().to_string())\n",
    "# df1 = df[df['Buy_Signal']]\n",
    "# print(df1.to_string())\n",
    "tb = backtest(df, n_candle_sl)\n",
    "tb = tb.sort_values(by='Entry_Date')\n",
    "# variation = f'EMA: {ema_length}, X: {x_days}, Y: {y_days}, PCT: {pct}%, RPT: {RPT}%'"
   ]
  },
  {
   "cell_type": "code",
   "execution_count": 37,
   "id": "7e3ae78c-fcc3-494f-8b88-d849a977d65d",
   "metadata": {
    "execution": {
     "iopub.execute_input": "2025-02-13T09:07:02.531005Z",
     "iopub.status.busy": "2025-02-13T09:07:02.530632Z",
     "iopub.status.idle": "2025-02-13T09:07:02.545163Z",
     "shell.execute_reply": "2025-02-13T09:07:02.544096Z",
     "shell.execute_reply.started": "2025-02-13T09:07:02.530986Z"
    }
   },
   "outputs": [],
   "source": [
    "import numpy as np\n",
    "portfolio = 1000000\n",
    "tb['PnL'] = np.where(\n",
    "    tb['Trade_Type'].isin(['long']),  # For Long and Add_Long\n",
    "    tb['Exit_Price'] - tb['Entry_Price'],\n",
    "    np.where(\n",
    "        tb['Trade_Type'].isin(['short']),  # For Short and Add_Short\n",
    "        tb['Entry_Price'] - tb['Exit_Price'],\n",
    "        0  # Default case if Trade_Type is something unexpected\n",
    "    )\n",
    ")\n",
    "\n",
    "tb['Slippage'] = SLIPPAGE_ * (tb['Entry_Price'] + tb['Exit_Price'])\n",
    "tb['PnL w cs'] = tb['PnL'] - tb['Slippage']\n",
    "tb['Qty'] = abs(RPT / 100 * portfolio / (tb['Entry_Price'] - tb['Initial SL']))\n",
    "# tb['Qty'] = portfolio * 5 / tb['Entry_Price']\n",
    "tb['Profit_Loss INR'] = tb['Qty'] * tb['PnL w cs']\n",
    "tb['ROI%'] = tb['Profit_Loss INR'] * 100 / portfolio\n",
    "tb['Trade Year'] = tb['Entry_Date'].dt.year"
   ]
  },
  {
   "cell_type": "code",
   "execution_count": 38,
   "id": "1ae21dcd-a8a2-4fd0-9523-772ac61d3a33",
   "metadata": {
    "execution": {
     "iopub.execute_input": "2025-02-13T09:07:02.546396Z",
     "iopub.status.busy": "2025-02-13T09:07:02.546177Z",
     "iopub.status.idle": "2025-02-13T09:07:02.563461Z",
     "shell.execute_reply": "2025-02-13T09:07:02.562051Z",
     "shell.execute_reply.started": "2025-02-13T09:07:02.546377Z"
    }
   },
   "outputs": [],
   "source": [
    "tb = tb.reset_index()"
   ]
  },
  {
   "cell_type": "code",
   "execution_count": 39,
   "id": "1e0591fa-3cc2-46b6-bc68-a0fa04733b9e",
   "metadata": {
    "execution": {
     "iopub.execute_input": "2025-02-13T09:07:02.566345Z",
     "iopub.status.busy": "2025-02-13T09:07:02.565156Z",
     "iopub.status.idle": "2025-02-13T09:07:02.584696Z",
     "shell.execute_reply": "2025-02-13T09:07:02.582561Z",
     "shell.execute_reply.started": "2025-02-13T09:07:02.566325Z"
    }
   },
   "outputs": [
    {
     "data": {
      "text/html": [
       "<div>\n",
       "<style scoped>\n",
       "    .dataframe tbody tr th:only-of-type {\n",
       "        vertical-align: middle;\n",
       "    }\n",
       "\n",
       "    .dataframe tbody tr th {\n",
       "        vertical-align: top;\n",
       "    }\n",
       "\n",
       "    .dataframe thead th {\n",
       "        text-align: right;\n",
       "    }\n",
       "</style>\n",
       "<table border=\"1\" class=\"dataframe\">\n",
       "  <thead>\n",
       "    <tr style=\"text-align: right;\">\n",
       "      <th></th>\n",
       "      <th>index</th>\n",
       "      <th>Trade No.</th>\n",
       "      <th>Entry_Date</th>\n",
       "      <th>Exit_Date</th>\n",
       "      <th>Trade_Type</th>\n",
       "      <th>Entry_Price</th>\n",
       "      <th>Initial SL</th>\n",
       "      <th>Exit_Price</th>\n",
       "      <th>Exit Remark</th>\n",
       "      <th>PnL</th>\n",
       "      <th>Slippage</th>\n",
       "      <th>PnL w cs</th>\n",
       "      <th>Qty</th>\n",
       "      <th>Profit_Loss INR</th>\n",
       "      <th>ROI%</th>\n",
       "      <th>Trade Year</th>\n",
       "    </tr>\n",
       "  </thead>\n",
       "  <tbody>\n",
       "    <tr>\n",
       "      <th>2399</th>\n",
       "      <td>2399</td>\n",
       "      <td>2399</td>\n",
       "      <td>2025-01-21 09:15:00+05:30</td>\n",
       "      <td>2025-01-21 13:15:00+05:30</td>\n",
       "      <td>short</td>\n",
       "      <td>49295.9000</td>\n",
       "      <td>49650.6000</td>\n",
       "      <td>48858.3000</td>\n",
       "      <td>RSI Upmove</td>\n",
       "      <td>437.6000</td>\n",
       "      <td>9.8154</td>\n",
       "      <td>427.7846</td>\n",
       "      <td>70.4821</td>\n",
       "      <td>30151.1545</td>\n",
       "      <td>3.0151</td>\n",
       "      <td>2025</td>\n",
       "    </tr>\n",
       "    <tr>\n",
       "      <th>2400</th>\n",
       "      <td>2400</td>\n",
       "      <td>2400</td>\n",
       "      <td>2025-01-21 14:15:00+05:30</td>\n",
       "      <td>2025-01-22 09:45:00+05:30</td>\n",
       "      <td>short</td>\n",
       "      <td>48699.2000</td>\n",
       "      <td>49280.7000</td>\n",
       "      <td>48675.1500</td>\n",
       "      <td>RSI Upmove</td>\n",
       "      <td>24.0500</td>\n",
       "      <td>9.7374</td>\n",
       "      <td>14.3126</td>\n",
       "      <td>42.9923</td>\n",
       "      <td>615.3295</td>\n",
       "      <td>0.0615</td>\n",
       "      <td>2025</td>\n",
       "    </tr>\n",
       "    <tr>\n",
       "      <th>2401</th>\n",
       "      <td>2401</td>\n",
       "      <td>2401</td>\n",
       "      <td>2025-01-22 10:45:00+05:30</td>\n",
       "      <td>2025-01-22 13:45:00+05:30</td>\n",
       "      <td>short</td>\n",
       "      <td>48495.4000</td>\n",
       "      <td>48741.7500</td>\n",
       "      <td>48385.2000</td>\n",
       "      <td>RSI Upmove</td>\n",
       "      <td>110.2000</td>\n",
       "      <td>9.6881</td>\n",
       "      <td>100.5119</td>\n",
       "      <td>101.4816</td>\n",
       "      <td>10200.1157</td>\n",
       "      <td>1.0200</td>\n",
       "      <td>2025</td>\n",
       "    </tr>\n",
       "    <tr>\n",
       "      <th>2402</th>\n",
       "      <td>2402</td>\n",
       "      <td>2402</td>\n",
       "      <td>2025-01-23 11:45:00+05:30</td>\n",
       "      <td>2025-01-23 12:15:00+05:30</td>\n",
       "      <td>short</td>\n",
       "      <td>48598.4500</td>\n",
       "      <td>48892.7000</td>\n",
       "      <td>48687.3000</td>\n",
       "      <td>Trailing SL Hit</td>\n",
       "      <td>-88.8500</td>\n",
       "      <td>9.7286</td>\n",
       "      <td>-98.5786</td>\n",
       "      <td>84.9618</td>\n",
       "      <td>-8375.4099</td>\n",
       "      <td>-0.8375</td>\n",
       "      <td>2025</td>\n",
       "    </tr>\n",
       "    <tr>\n",
       "      <th>2403</th>\n",
       "      <td>2403</td>\n",
       "      <td>2403</td>\n",
       "      <td>2025-01-23 14:15:00+05:30</td>\n",
       "      <td>2025-01-24 10:15:00+05:30</td>\n",
       "      <td>short</td>\n",
       "      <td>48618.9000</td>\n",
       "      <td>48802.4000</td>\n",
       "      <td>48587.4000</td>\n",
       "      <td>RSI Upmove</td>\n",
       "      <td>31.5000</td>\n",
       "      <td>9.7206</td>\n",
       "      <td>21.7794</td>\n",
       "      <td>136.2398</td>\n",
       "      <td>2967.2166</td>\n",
       "      <td>0.2967</td>\n",
       "      <td>2025</td>\n",
       "    </tr>\n",
       "  </tbody>\n",
       "</table>\n",
       "</div>"
      ],
      "text/plain": [
       "      index  Trade No.                Entry_Date                  Exit_Date  \\\n",
       "2399   2399       2399 2025-01-21 09:15:00+05:30  2025-01-21 13:15:00+05:30   \n",
       "2400   2400       2400 2025-01-21 14:15:00+05:30  2025-01-22 09:45:00+05:30   \n",
       "2401   2401       2401 2025-01-22 10:45:00+05:30  2025-01-22 13:45:00+05:30   \n",
       "2402   2402       2402 2025-01-23 11:45:00+05:30  2025-01-23 12:15:00+05:30   \n",
       "2403   2403       2403 2025-01-23 14:15:00+05:30  2025-01-24 10:15:00+05:30   \n",
       "\n",
       "     Trade_Type  Entry_Price  Initial SL Exit_Price      Exit Remark      PnL  \\\n",
       "2399      short   49295.9000  49650.6000 48858.3000       RSI Upmove 437.6000   \n",
       "2400      short   48699.2000  49280.7000 48675.1500       RSI Upmove  24.0500   \n",
       "2401      short   48495.4000  48741.7500 48385.2000       RSI Upmove 110.2000   \n",
       "2402      short   48598.4500  48892.7000 48687.3000  Trailing SL Hit -88.8500   \n",
       "2403      short   48618.9000  48802.4000 48587.4000       RSI Upmove  31.5000   \n",
       "\n",
       "     Slippage PnL w cs      Qty Profit_Loss INR    ROI%  Trade Year  \n",
       "2399   9.8154 427.7846  70.4821      30151.1545  3.0151        2025  \n",
       "2400   9.7374  14.3126  42.9923        615.3295  0.0615        2025  \n",
       "2401   9.6881 100.5119 101.4816      10200.1157  1.0200        2025  \n",
       "2402   9.7286 -98.5786  84.9618      -8375.4099 -0.8375        2025  \n",
       "2403   9.7206  21.7794 136.2398       2967.2166  0.2967        2025  "
      ]
     },
     "execution_count": 39,
     "metadata": {},
     "output_type": "execute_result"
    }
   ],
   "source": [
    "tb.tail()"
   ]
  },
  {
   "cell_type": "code",
   "execution_count": 40,
   "id": "bfce3379-acd9-4b5a-a8cb-a1e58f92b8f9",
   "metadata": {
    "execution": {
     "iopub.execute_input": "2025-02-13T09:07:02.587375Z",
     "iopub.status.busy": "2025-02-13T09:07:02.586904Z",
     "iopub.status.idle": "2025-02-13T09:07:02.600653Z",
     "shell.execute_reply": "2025-02-13T09:07:02.599473Z",
     "shell.execute_reply.started": "2025-02-13T09:07:02.587346Z"
    },
    "jupyter": {
     "source_hidden": true
    }
   },
   "outputs": [],
   "source": [
    "def generate_stats(tb_expiry, variation):\n",
    "    stats_df8 = pd.DataFrame(\n",
    "        index=range(2017, 2026),\n",
    "        columns=[\n",
    "            \"Total ROI\",\n",
    "            \"Total Trades\",\n",
    "            \"Win Rate\",\n",
    "            \"Avg Profit% per Trade\",\n",
    "            \"Avg Loss% per Trade\",\n",
    "            \"Max Drawdown\",\n",
    "            \"ROI/DD Ratio\",\n",
    "            \"Variation\",\n",
    "        ],\n",
    "    )\n",
    "    combined_df_sorted = tb_expiry\n",
    "    # combined_df_sorted = tb_expiry_ce\n",
    "    # combined_df_sorted = tb_expiry_pe\n",
    "    \n",
    "    # Iterate over each year\n",
    "    for year in range(2017, 2026):\n",
    "        # Filter trades for the current year\n",
    "        year_trades = combined_df_sorted[(combined_df_sorted[\"Trade Year\"] == year)]\n",
    "    \n",
    "        # Calculate total ROI\n",
    "        total_roi = year_trades[\"ROI%\"].sum()\n",
    "    \n",
    "        # Calculate total number of trades\n",
    "        total_trades = len(year_trades)\n",
    "    \n",
    "        # Calculate win rate\n",
    "        win_rate = (year_trades[\"ROI%\"] > 0).mean() * 100\n",
    "    \n",
    "        # Calculate average profit per trade\n",
    "        avg_profit = year_trades[year_trades[\"ROI%\"] > 0][\"ROI%\"].mean()\n",
    "    \n",
    "        # Calculate average loss per trade\n",
    "        avg_loss = year_trades[year_trades[\"ROI%\"] < 0][\"ROI%\"].mean()\n",
    "    \n",
    "        # Calculate maximum drawdown\n",
    "        max_drawdown = (\n",
    "            year_trades[\"ROI%\"].cumsum() - year_trades[\"ROI%\"].cumsum().cummax()\n",
    "        ).min()\n",
    "    \n",
    "        # Calculate ROI/DD ratio\n",
    "        roi_dd_ratio = total_roi / abs(max_drawdown)\n",
    "\n",
    "        variation = variation\n",
    "    \n",
    "        # Store the statistics in the DataFrame\n",
    "        stats_df8.loc[year] = [\n",
    "            total_roi,\n",
    "            total_trades,\n",
    "            win_rate,\n",
    "            avg_profit,\n",
    "            avg_loss,\n",
    "            max_drawdown,\n",
    "            roi_dd_ratio,\n",
    "            variation,\n",
    "        ]\n",
    "    \n",
    "    # Calculate overall statistics\n",
    "    overall_total_roi = stats_df8[\"Total ROI\"].sum()\n",
    "    overall_total_trades = stats_df8[\"Total Trades\"].sum()\n",
    "    overall_win_rate = (combined_df_sorted[\"ROI%\"] > 0).mean() * 100\n",
    "    overall_avg_profit = combined_df_sorted[combined_df_sorted[\"ROI%\"] > 0][\"ROI%\"].mean()\n",
    "    overall_avg_loss = combined_df_sorted[combined_df_sorted[\"ROI%\"] < 0][\"ROI%\"].mean()\n",
    "    overall_max_drawdown = (\n",
    "        combined_df_sorted[\"ROI%\"].cumsum() - combined_df_sorted[\"ROI%\"].cumsum().cummax()\n",
    "    ).min()\n",
    "    overall_roi_dd_ratio = overall_total_roi / abs(overall_max_drawdown)\n",
    "    overall_variation = variation\n",
    "\n",
    "    \n",
    "    # Store the overall statistics in the DataFrame\n",
    "    stats_df8.loc[\"Overall\"] = [\n",
    "        overall_total_roi,\n",
    "        overall_total_trades,\n",
    "        overall_win_rate,\n",
    "        overall_avg_profit,\n",
    "        overall_avg_loss,\n",
    "        overall_max_drawdown,\n",
    "        overall_roi_dd_ratio,\n",
    "        overall_variation,\n",
    "    ]\n",
    "    \n",
    "    # print(f'{overall_total_roi} , {overall_max_drawdown} , {overall_roi_dd_ratio}')\n",
    "    \n",
    "    return {overall_roi_dd_ratio: stats_df8}"
   ]
  },
  {
   "cell_type": "code",
   "execution_count": 41,
   "id": "45f24637-6727-4d77-b50e-2069dd3256ac",
   "metadata": {
    "execution": {
     "iopub.execute_input": "2025-02-13T09:07:05.615864Z",
     "iopub.status.busy": "2025-02-13T09:07:05.614812Z",
     "iopub.status.idle": "2025-02-13T09:07:05.624842Z",
     "shell.execute_reply": "2025-02-13T09:07:05.623699Z",
     "shell.execute_reply.started": "2025-02-13T09:07:05.615839Z"
    }
   },
   "outputs": [],
   "source": [
    "tb['Entry_Date'] = pd.to_datetime(tb['Entry_Date'])\n",
    "tb['Trade Year'] = tb['Entry_Date'].dt.year\n",
    "# tb['ROI% w cs'] = tb['ROI%']"
   ]
  },
  {
   "cell_type": "code",
   "execution_count": 42,
   "id": "4e8c27fc-f337-4a75-9fce-df5ed8634265",
   "metadata": {
    "execution": {
     "iopub.execute_input": "2025-02-13T09:07:06.985944Z",
     "iopub.status.busy": "2025-02-13T09:07:06.985444Z",
     "iopub.status.idle": "2025-02-13T09:07:07.045687Z",
     "shell.execute_reply": "2025-02-13T09:07:07.044286Z",
     "shell.execute_reply.started": "2025-02-13T09:07:06.985919Z"
    }
   },
   "outputs": [
    {
     "data": {
      "text/html": [
       "<div>\n",
       "<style scoped>\n",
       "    .dataframe tbody tr th:only-of-type {\n",
       "        vertical-align: middle;\n",
       "    }\n",
       "\n",
       "    .dataframe tbody tr th {\n",
       "        vertical-align: top;\n",
       "    }\n",
       "\n",
       "    .dataframe thead th {\n",
       "        text-align: right;\n",
       "    }\n",
       "</style>\n",
       "<table border=\"1\" class=\"dataframe\">\n",
       "  <thead>\n",
       "    <tr style=\"text-align: right;\">\n",
       "      <th></th>\n",
       "      <th>Total ROI</th>\n",
       "      <th>Total Trades</th>\n",
       "      <th>Win Rate</th>\n",
       "      <th>Avg Profit% per Trade</th>\n",
       "      <th>Avg Loss% per Trade</th>\n",
       "      <th>Max Drawdown</th>\n",
       "      <th>ROI/DD Ratio</th>\n",
       "      <th>Variation</th>\n",
       "    </tr>\n",
       "  </thead>\n",
       "  <tbody>\n",
       "    <tr>\n",
       "      <th>2017</th>\n",
       "      <td>0</td>\n",
       "      <td>0</td>\n",
       "      <td>NaN</td>\n",
       "      <td>NaN</td>\n",
       "      <td>NaN</td>\n",
       "      <td>NaN</td>\n",
       "      <td>NaN</td>\n",
       "      <td>RSI Shorting</td>\n",
       "    </tr>\n",
       "    <tr>\n",
       "      <th>2018</th>\n",
       "      <td>-22.0851</td>\n",
       "      <td>335</td>\n",
       "      <td>34.3284</td>\n",
       "      <td>2.4460</td>\n",
       "      <td>-1.3790</td>\n",
       "      <td>-56.9805</td>\n",
       "      <td>-0.3876</td>\n",
       "      <td>RSI Shorting</td>\n",
       "    </tr>\n",
       "    <tr>\n",
       "      <th>2019</th>\n",
       "      <td>72.6448</td>\n",
       "      <td>305</td>\n",
       "      <td>39.0164</td>\n",
       "      <td>2.7857</td>\n",
       "      <td>-1.3917</td>\n",
       "      <td>-51.5890</td>\n",
       "      <td>1.4081</td>\n",
       "      <td>RSI Shorting</td>\n",
       "    </tr>\n",
       "    <tr>\n",
       "      <th>2020</th>\n",
       "      <td>77.5195</td>\n",
       "      <td>327</td>\n",
       "      <td>37.6147</td>\n",
       "      <td>2.8464</td>\n",
       "      <td>-1.3362</td>\n",
       "      <td>-44.5911</td>\n",
       "      <td>1.7385</td>\n",
       "      <td>RSI Shorting</td>\n",
       "    </tr>\n",
       "    <tr>\n",
       "      <th>2021</th>\n",
       "      <td>28.3751</td>\n",
       "      <td>342</td>\n",
       "      <td>38.0117</td>\n",
       "      <td>2.4815</td>\n",
       "      <td>-1.3878</td>\n",
       "      <td>-65.6171</td>\n",
       "      <td>0.4324</td>\n",
       "      <td>RSI Shorting</td>\n",
       "    </tr>\n",
       "    <tr>\n",
       "      <th>2022</th>\n",
       "      <td>-54.1877</td>\n",
       "      <td>368</td>\n",
       "      <td>39.1304</td>\n",
       "      <td>2.0451</td>\n",
       "      <td>-1.5566</td>\n",
       "      <td>-98.1237</td>\n",
       "      <td>-0.5522</td>\n",
       "      <td>RSI Shorting</td>\n",
       "    </tr>\n",
       "    <tr>\n",
       "      <th>2023</th>\n",
       "      <td>-37.2448</td>\n",
       "      <td>359</td>\n",
       "      <td>33.1476</td>\n",
       "      <td>2.4511</td>\n",
       "      <td>-1.3705</td>\n",
       "      <td>-99.7876</td>\n",
       "      <td>-0.3732</td>\n",
       "      <td>RSI Shorting</td>\n",
       "    </tr>\n",
       "    <tr>\n",
       "      <th>2024</th>\n",
       "      <td>-15.1339</td>\n",
       "      <td>345</td>\n",
       "      <td>35.0725</td>\n",
       "      <td>2.4606</td>\n",
       "      <td>-1.3967</td>\n",
       "      <td>-49.4690</td>\n",
       "      <td>-0.3059</td>\n",
       "      <td>RSI Shorting</td>\n",
       "    </tr>\n",
       "    <tr>\n",
       "      <th>2025</th>\n",
       "      <td>21.8512</td>\n",
       "      <td>23</td>\n",
       "      <td>65.2174</td>\n",
       "      <td>2.4235</td>\n",
       "      <td>-1.8126</td>\n",
       "      <td>-4.4239</td>\n",
       "      <td>4.9394</td>\n",
       "      <td>RSI Shorting</td>\n",
       "    </tr>\n",
       "    <tr>\n",
       "      <th>Overall</th>\n",
       "      <td>71.7392</td>\n",
       "      <td>2404</td>\n",
       "      <td>36.8552</td>\n",
       "      <td>2.4896</td>\n",
       "      <td>-1.4058</td>\n",
       "      <td>-170.5358</td>\n",
       "      <td>0.4207</td>\n",
       "      <td>RSI Shorting</td>\n",
       "    </tr>\n",
       "  </tbody>\n",
       "</table>\n",
       "</div>"
      ],
      "text/plain": [
       "        Total ROI Total Trades Win Rate Avg Profit% per Trade  \\\n",
       "2017            0            0      NaN                   NaN   \n",
       "2018     -22.0851          335  34.3284                2.4460   \n",
       "2019      72.6448          305  39.0164                2.7857   \n",
       "2020      77.5195          327  37.6147                2.8464   \n",
       "2021      28.3751          342  38.0117                2.4815   \n",
       "2022     -54.1877          368  39.1304                2.0451   \n",
       "2023     -37.2448          359  33.1476                2.4511   \n",
       "2024     -15.1339          345  35.0725                2.4606   \n",
       "2025      21.8512           23  65.2174                2.4235   \n",
       "Overall   71.7392         2404  36.8552                2.4896   \n",
       "\n",
       "        Avg Loss% per Trade Max Drawdown ROI/DD Ratio     Variation  \n",
       "2017                    NaN          NaN          NaN  RSI Shorting  \n",
       "2018                -1.3790     -56.9805      -0.3876  RSI Shorting  \n",
       "2019                -1.3917     -51.5890       1.4081  RSI Shorting  \n",
       "2020                -1.3362     -44.5911       1.7385  RSI Shorting  \n",
       "2021                -1.3878     -65.6171       0.4324  RSI Shorting  \n",
       "2022                -1.5566     -98.1237      -0.5522  RSI Shorting  \n",
       "2023                -1.3705     -99.7876      -0.3732  RSI Shorting  \n",
       "2024                -1.3967     -49.4690      -0.3059  RSI Shorting  \n",
       "2025                -1.8126      -4.4239       4.9394  RSI Shorting  \n",
       "Overall             -1.4058    -170.5358       0.4207  RSI Shorting  "
      ]
     },
     "execution_count": 42,
     "metadata": {},
     "output_type": "execute_result"
    }
   ],
   "source": [
    "stats = generate_stats(tb, 'RSI Shorting')\n",
    "lol = pd.DataFrame()\n",
    "for x, y in stats.items():\n",
    "    lol = pd.DataFrame(y)\n",
    "\n",
    "lol"
   ]
  },
  {
   "cell_type": "code",
   "execution_count": 25,
   "id": "e051207b-b1c0-4383-8ade-8fbdcd4d6c94",
   "metadata": {
    "execution": {
     "iopub.execute_input": "2025-02-13T08:53:09.628952Z",
     "iopub.status.busy": "2025-02-13T08:53:09.628251Z",
     "iopub.status.idle": "2025-02-13T08:59:44.243083Z",
     "shell.execute_reply": "2025-02-13T08:59:44.241292Z",
     "shell.execute_reply.started": "2025-02-13T08:53:09.628917Z"
    },
    "scrolled": true
   },
   "outputs": [
    {
     "name": "stdout",
     "output_type": "stream",
     "text": [
      "EMA:8, RSI:6, RSI_MA:5, SL Candles:1\n"
     ]
    },
    {
     "name": "stderr",
     "output_type": "stream",
     "text": [
      "/tmp/ipykernel_33520/419236688.py:137: FutureWarning: Setting an item of incompatible dtype is deprecated and will raise an error in a future version of pandas. Value 'Trailing SL Hit' has dtype incompatible with float64, please explicitly cast to a compatible dtype first.\n",
      "  tradebook_short.loc[\n",
      "/tmp/ipykernel_33520/2712610940.py:45: RuntimeWarning: invalid value encountered in scalar divide\n",
      "  roi_dd_ratio = total_roi / abs(max_drawdown)\n",
      "/tmp/ipykernel_33520/2712610940.py:70: RuntimeWarning: invalid value encountered in scalar divide\n",
      "  overall_roi_dd_ratio = overall_total_roi / abs(overall_max_drawdown)\n",
      "/tmp/ipykernel_33520/419236688.py:137: FutureWarning: Setting an item of incompatible dtype is deprecated and will raise an error in a future version of pandas. Value 'Trailing SL Hit' has dtype incompatible with float64, please explicitly cast to a compatible dtype first.\n",
      "  tradebook_short.loc[\n"
     ]
    },
    {
     "name": "stdout",
     "output_type": "stream",
     "text": [
      "EMA:8, RSI:6, RSI_MA:5, SL Candles:2\n",
      "EMA:8, RSI:6, RSI_MA:5, SL Candles:3\n"
     ]
    },
    {
     "name": "stderr",
     "output_type": "stream",
     "text": [
      "/tmp/ipykernel_33520/419236688.py:137: FutureWarning: Setting an item of incompatible dtype is deprecated and will raise an error in a future version of pandas. Value 'Trailing SL Hit' has dtype incompatible with float64, please explicitly cast to a compatible dtype first.\n",
      "  tradebook_short.loc[\n"
     ]
    },
    {
     "name": "stdout",
     "output_type": "stream",
     "text": [
      "EMA:8, RSI:6, RSI_MA:5, SL Candles:4\n"
     ]
    },
    {
     "name": "stderr",
     "output_type": "stream",
     "text": [
      "/tmp/ipykernel_33520/419236688.py:137: FutureWarning: Setting an item of incompatible dtype is deprecated and will raise an error in a future version of pandas. Value 'Trailing SL Hit' has dtype incompatible with float64, please explicitly cast to a compatible dtype first.\n",
      "  tradebook_short.loc[\n"
     ]
    },
    {
     "name": "stdout",
     "output_type": "stream",
     "text": [
      "EMA:8, RSI:6, RSI_MA:5, SL Candles:5\n"
     ]
    },
    {
     "name": "stderr",
     "output_type": "stream",
     "text": [
      "/tmp/ipykernel_33520/419236688.py:137: FutureWarning: Setting an item of incompatible dtype is deprecated and will raise an error in a future version of pandas. Value 'Trailing SL Hit' has dtype incompatible with float64, please explicitly cast to a compatible dtype first.\n",
      "  tradebook_short.loc[\n"
     ]
    },
    {
     "name": "stdout",
     "output_type": "stream",
     "text": [
      "EMA:8, RSI:6, RSI_MA:5, SL Candles:6\n"
     ]
    },
    {
     "name": "stderr",
     "output_type": "stream",
     "text": [
      "/tmp/ipykernel_33520/419236688.py:137: FutureWarning: Setting an item of incompatible dtype is deprecated and will raise an error in a future version of pandas. Value 'Trailing SL Hit' has dtype incompatible with float64, please explicitly cast to a compatible dtype first.\n",
      "  tradebook_short.loc[\n"
     ]
    },
    {
     "name": "stdout",
     "output_type": "stream",
     "text": [
      "EMA:8, RSI:6, RSI_MA:5, SL Candles:7\n"
     ]
    },
    {
     "name": "stderr",
     "output_type": "stream",
     "text": [
      "/tmp/ipykernel_33520/419236688.py:137: FutureWarning: Setting an item of incompatible dtype is deprecated and will raise an error in a future version of pandas. Value 'Trailing SL Hit' has dtype incompatible with float64, please explicitly cast to a compatible dtype first.\n",
      "  tradebook_short.loc[\n"
     ]
    },
    {
     "name": "stdout",
     "output_type": "stream",
     "text": [
      "EMA:8, RSI:6, RSI_MA:5, SL Candles:8\n"
     ]
    },
    {
     "name": "stderr",
     "output_type": "stream",
     "text": [
      "/tmp/ipykernel_33520/419236688.py:137: FutureWarning: Setting an item of incompatible dtype is deprecated and will raise an error in a future version of pandas. Value 'Trailing SL Hit' has dtype incompatible with float64, please explicitly cast to a compatible dtype first.\n",
      "  tradebook_short.loc[\n"
     ]
    },
    {
     "name": "stdout",
     "output_type": "stream",
     "text": [
      "EMA:8, RSI:6, RSI_MA:5, SL Candles:9\n"
     ]
    },
    {
     "name": "stderr",
     "output_type": "stream",
     "text": [
      "/tmp/ipykernel_33520/419236688.py:137: FutureWarning: Setting an item of incompatible dtype is deprecated and will raise an error in a future version of pandas. Value 'Trailing SL Hit' has dtype incompatible with float64, please explicitly cast to a compatible dtype first.\n",
      "  tradebook_short.loc[\n"
     ]
    },
    {
     "name": "stdout",
     "output_type": "stream",
     "text": [
      "EMA:8, RSI:6, RSI_MA:5, SL Candles:10\n"
     ]
    },
    {
     "name": "stderr",
     "output_type": "stream",
     "text": [
      "/tmp/ipykernel_33520/419236688.py:137: FutureWarning: Setting an item of incompatible dtype is deprecated and will raise an error in a future version of pandas. Value 'Trailing SL Hit' has dtype incompatible with float64, please explicitly cast to a compatible dtype first.\n",
      "  tradebook_short.loc[\n"
     ]
    },
    {
     "name": "stdout",
     "output_type": "stream",
     "text": [
      "EMA:8, RSI:6, RSI_MA:10, SL Candles:1\n"
     ]
    },
    {
     "name": "stderr",
     "output_type": "stream",
     "text": [
      "/tmp/ipykernel_33520/419236688.py:137: FutureWarning: Setting an item of incompatible dtype is deprecated and will raise an error in a future version of pandas. Value 'Trailing SL Hit' has dtype incompatible with float64, please explicitly cast to a compatible dtype first.\n",
      "  tradebook_short.loc[\n",
      "/tmp/ipykernel_33520/2712610940.py:45: RuntimeWarning: invalid value encountered in scalar divide\n",
      "  roi_dd_ratio = total_roi / abs(max_drawdown)\n",
      "/tmp/ipykernel_33520/2712610940.py:70: RuntimeWarning: invalid value encountered in scalar divide\n",
      "  overall_roi_dd_ratio = overall_total_roi / abs(overall_max_drawdown)\n",
      "/tmp/ipykernel_33520/419236688.py:137: FutureWarning: Setting an item of incompatible dtype is deprecated and will raise an error in a future version of pandas. Value 'Trailing SL Hit' has dtype incompatible with float64, please explicitly cast to a compatible dtype first.\n",
      "  tradebook_short.loc[\n"
     ]
    },
    {
     "name": "stdout",
     "output_type": "stream",
     "text": [
      "EMA:8, RSI:6, RSI_MA:10, SL Candles:2\n",
      "EMA:8, RSI:6, RSI_MA:10, SL Candles:3\n"
     ]
    },
    {
     "name": "stderr",
     "output_type": "stream",
     "text": [
      "/tmp/ipykernel_33520/419236688.py:137: FutureWarning: Setting an item of incompatible dtype is deprecated and will raise an error in a future version of pandas. Value 'Trailing SL Hit' has dtype incompatible with float64, please explicitly cast to a compatible dtype first.\n",
      "  tradebook_short.loc[\n"
     ]
    },
    {
     "name": "stdout",
     "output_type": "stream",
     "text": [
      "EMA:8, RSI:6, RSI_MA:10, SL Candles:4\n"
     ]
    },
    {
     "name": "stderr",
     "output_type": "stream",
     "text": [
      "/tmp/ipykernel_33520/419236688.py:137: FutureWarning: Setting an item of incompatible dtype is deprecated and will raise an error in a future version of pandas. Value 'Trailing SL Hit' has dtype incompatible with float64, please explicitly cast to a compatible dtype first.\n",
      "  tradebook_short.loc[\n"
     ]
    },
    {
     "name": "stdout",
     "output_type": "stream",
     "text": [
      "EMA:8, RSI:6, RSI_MA:10, SL Candles:5\n"
     ]
    },
    {
     "name": "stderr",
     "output_type": "stream",
     "text": [
      "/tmp/ipykernel_33520/419236688.py:137: FutureWarning: Setting an item of incompatible dtype is deprecated and will raise an error in a future version of pandas. Value 'Trailing SL Hit' has dtype incompatible with float64, please explicitly cast to a compatible dtype first.\n",
      "  tradebook_short.loc[\n"
     ]
    },
    {
     "name": "stdout",
     "output_type": "stream",
     "text": [
      "EMA:8, RSI:6, RSI_MA:10, SL Candles:6\n"
     ]
    },
    {
     "name": "stderr",
     "output_type": "stream",
     "text": [
      "/tmp/ipykernel_33520/419236688.py:137: FutureWarning: Setting an item of incompatible dtype is deprecated and will raise an error in a future version of pandas. Value 'Trailing SL Hit' has dtype incompatible with float64, please explicitly cast to a compatible dtype first.\n",
      "  tradebook_short.loc[\n"
     ]
    },
    {
     "name": "stdout",
     "output_type": "stream",
     "text": [
      "EMA:8, RSI:6, RSI_MA:10, SL Candles:7\n"
     ]
    },
    {
     "name": "stderr",
     "output_type": "stream",
     "text": [
      "/tmp/ipykernel_33520/419236688.py:137: FutureWarning: Setting an item of incompatible dtype is deprecated and will raise an error in a future version of pandas. Value 'Trailing SL Hit' has dtype incompatible with float64, please explicitly cast to a compatible dtype first.\n",
      "  tradebook_short.loc[\n"
     ]
    },
    {
     "name": "stdout",
     "output_type": "stream",
     "text": [
      "EMA:8, RSI:6, RSI_MA:10, SL Candles:8\n"
     ]
    },
    {
     "name": "stderr",
     "output_type": "stream",
     "text": [
      "/tmp/ipykernel_33520/419236688.py:137: FutureWarning: Setting an item of incompatible dtype is deprecated and will raise an error in a future version of pandas. Value 'Trailing SL Hit' has dtype incompatible with float64, please explicitly cast to a compatible dtype first.\n",
      "  tradebook_short.loc[\n"
     ]
    },
    {
     "name": "stdout",
     "output_type": "stream",
     "text": [
      "EMA:8, RSI:6, RSI_MA:10, SL Candles:9\n"
     ]
    },
    {
     "name": "stderr",
     "output_type": "stream",
     "text": [
      "/tmp/ipykernel_33520/419236688.py:137: FutureWarning: Setting an item of incompatible dtype is deprecated and will raise an error in a future version of pandas. Value 'Trailing SL Hit' has dtype incompatible with float64, please explicitly cast to a compatible dtype first.\n",
      "  tradebook_short.loc[\n"
     ]
    },
    {
     "name": "stdout",
     "output_type": "stream",
     "text": [
      "EMA:8, RSI:6, RSI_MA:10, SL Candles:10\n"
     ]
    },
    {
     "name": "stderr",
     "output_type": "stream",
     "text": [
      "/tmp/ipykernel_33520/419236688.py:137: FutureWarning: Setting an item of incompatible dtype is deprecated and will raise an error in a future version of pandas. Value 'Trailing SL Hit' has dtype incompatible with float64, please explicitly cast to a compatible dtype first.\n",
      "  tradebook_short.loc[\n"
     ]
    },
    {
     "name": "stdout",
     "output_type": "stream",
     "text": [
      "EMA:8, RSI:6, RSI_MA:15, SL Candles:1\n"
     ]
    },
    {
     "name": "stderr",
     "output_type": "stream",
     "text": [
      "/tmp/ipykernel_33520/419236688.py:137: FutureWarning: Setting an item of incompatible dtype is deprecated and will raise an error in a future version of pandas. Value 'Trailing SL Hit' has dtype incompatible with float64, please explicitly cast to a compatible dtype first.\n",
      "  tradebook_short.loc[\n",
      "/tmp/ipykernel_33520/2712610940.py:45: RuntimeWarning: invalid value encountered in scalar divide\n",
      "  roi_dd_ratio = total_roi / abs(max_drawdown)\n",
      "/tmp/ipykernel_33520/2712610940.py:70: RuntimeWarning: invalid value encountered in scalar divide\n",
      "  overall_roi_dd_ratio = overall_total_roi / abs(overall_max_drawdown)\n",
      "/tmp/ipykernel_33520/419236688.py:137: FutureWarning: Setting an item of incompatible dtype is deprecated and will raise an error in a future version of pandas. Value 'Trailing SL Hit' has dtype incompatible with float64, please explicitly cast to a compatible dtype first.\n",
      "  tradebook_short.loc[\n"
     ]
    },
    {
     "name": "stdout",
     "output_type": "stream",
     "text": [
      "EMA:8, RSI:6, RSI_MA:15, SL Candles:2\n",
      "EMA:8, RSI:6, RSI_MA:15, SL Candles:3\n"
     ]
    },
    {
     "name": "stderr",
     "output_type": "stream",
     "text": [
      "/tmp/ipykernel_33520/419236688.py:137: FutureWarning: Setting an item of incompatible dtype is deprecated and will raise an error in a future version of pandas. Value 'Trailing SL Hit' has dtype incompatible with float64, please explicitly cast to a compatible dtype first.\n",
      "  tradebook_short.loc[\n"
     ]
    },
    {
     "name": "stdout",
     "output_type": "stream",
     "text": [
      "EMA:8, RSI:6, RSI_MA:15, SL Candles:4\n"
     ]
    },
    {
     "name": "stderr",
     "output_type": "stream",
     "text": [
      "/tmp/ipykernel_33520/419236688.py:137: FutureWarning: Setting an item of incompatible dtype is deprecated and will raise an error in a future version of pandas. Value 'Trailing SL Hit' has dtype incompatible with float64, please explicitly cast to a compatible dtype first.\n",
      "  tradebook_short.loc[\n"
     ]
    },
    {
     "name": "stdout",
     "output_type": "stream",
     "text": [
      "EMA:8, RSI:6, RSI_MA:15, SL Candles:5\n"
     ]
    },
    {
     "name": "stderr",
     "output_type": "stream",
     "text": [
      "/tmp/ipykernel_33520/419236688.py:137: FutureWarning: Setting an item of incompatible dtype is deprecated and will raise an error in a future version of pandas. Value 'Trailing SL Hit' has dtype incompatible with float64, please explicitly cast to a compatible dtype first.\n",
      "  tradebook_short.loc[\n"
     ]
    },
    {
     "name": "stdout",
     "output_type": "stream",
     "text": [
      "EMA:8, RSI:6, RSI_MA:15, SL Candles:6\n"
     ]
    },
    {
     "name": "stderr",
     "output_type": "stream",
     "text": [
      "/tmp/ipykernel_33520/419236688.py:137: FutureWarning: Setting an item of incompatible dtype is deprecated and will raise an error in a future version of pandas. Value 'Trailing SL Hit' has dtype incompatible with float64, please explicitly cast to a compatible dtype first.\n",
      "  tradebook_short.loc[\n"
     ]
    },
    {
     "name": "stdout",
     "output_type": "stream",
     "text": [
      "EMA:8, RSI:6, RSI_MA:15, SL Candles:7\n"
     ]
    },
    {
     "name": "stderr",
     "output_type": "stream",
     "text": [
      "/tmp/ipykernel_33520/419236688.py:137: FutureWarning: Setting an item of incompatible dtype is deprecated and will raise an error in a future version of pandas. Value 'Trailing SL Hit' has dtype incompatible with float64, please explicitly cast to a compatible dtype first.\n",
      "  tradebook_short.loc[\n"
     ]
    },
    {
     "name": "stdout",
     "output_type": "stream",
     "text": [
      "EMA:8, RSI:6, RSI_MA:15, SL Candles:8\n"
     ]
    },
    {
     "name": "stderr",
     "output_type": "stream",
     "text": [
      "/tmp/ipykernel_33520/419236688.py:137: FutureWarning: Setting an item of incompatible dtype is deprecated and will raise an error in a future version of pandas. Value 'Trailing SL Hit' has dtype incompatible with float64, please explicitly cast to a compatible dtype first.\n",
      "  tradebook_short.loc[\n"
     ]
    },
    {
     "name": "stdout",
     "output_type": "stream",
     "text": [
      "EMA:8, RSI:6, RSI_MA:15, SL Candles:9\n"
     ]
    },
    {
     "name": "stderr",
     "output_type": "stream",
     "text": [
      "/tmp/ipykernel_33520/419236688.py:137: FutureWarning: Setting an item of incompatible dtype is deprecated and will raise an error in a future version of pandas. Value 'Trailing SL Hit' has dtype incompatible with float64, please explicitly cast to a compatible dtype first.\n",
      "  tradebook_short.loc[\n"
     ]
    },
    {
     "name": "stdout",
     "output_type": "stream",
     "text": [
      "EMA:8, RSI:6, RSI_MA:15, SL Candles:10\n"
     ]
    },
    {
     "name": "stderr",
     "output_type": "stream",
     "text": [
      "/tmp/ipykernel_33520/419236688.py:137: FutureWarning: Setting an item of incompatible dtype is deprecated and will raise an error in a future version of pandas. Value 'Trailing SL Hit' has dtype incompatible with float64, please explicitly cast to a compatible dtype first.\n",
      "  tradebook_short.loc[\n"
     ]
    },
    {
     "name": "stdout",
     "output_type": "stream",
     "text": [
      "EMA:8, RSI:6, RSI_MA:20, SL Candles:1\n"
     ]
    },
    {
     "name": "stderr",
     "output_type": "stream",
     "text": [
      "/tmp/ipykernel_33520/419236688.py:137: FutureWarning: Setting an item of incompatible dtype is deprecated and will raise an error in a future version of pandas. Value 'Trailing SL Hit' has dtype incompatible with float64, please explicitly cast to a compatible dtype first.\n",
      "  tradebook_short.loc[\n",
      "/tmp/ipykernel_33520/2712610940.py:45: RuntimeWarning: invalid value encountered in scalar divide\n",
      "  roi_dd_ratio = total_roi / abs(max_drawdown)\n",
      "/tmp/ipykernel_33520/2712610940.py:70: RuntimeWarning: invalid value encountered in scalar divide\n",
      "  overall_roi_dd_ratio = overall_total_roi / abs(overall_max_drawdown)\n",
      "/tmp/ipykernel_33520/419236688.py:137: FutureWarning: Setting an item of incompatible dtype is deprecated and will raise an error in a future version of pandas. Value 'Trailing SL Hit' has dtype incompatible with float64, please explicitly cast to a compatible dtype first.\n",
      "  tradebook_short.loc[\n"
     ]
    },
    {
     "name": "stdout",
     "output_type": "stream",
     "text": [
      "EMA:8, RSI:6, RSI_MA:20, SL Candles:2\n",
      "EMA:8, RSI:6, RSI_MA:20, SL Candles:3\n"
     ]
    },
    {
     "name": "stderr",
     "output_type": "stream",
     "text": [
      "/tmp/ipykernel_33520/419236688.py:137: FutureWarning: Setting an item of incompatible dtype is deprecated and will raise an error in a future version of pandas. Value 'Trailing SL Hit' has dtype incompatible with float64, please explicitly cast to a compatible dtype first.\n",
      "  tradebook_short.loc[\n"
     ]
    },
    {
     "name": "stdout",
     "output_type": "stream",
     "text": [
      "EMA:8, RSI:6, RSI_MA:20, SL Candles:4\n"
     ]
    },
    {
     "name": "stderr",
     "output_type": "stream",
     "text": [
      "/tmp/ipykernel_33520/419236688.py:137: FutureWarning: Setting an item of incompatible dtype is deprecated and will raise an error in a future version of pandas. Value 'Trailing SL Hit' has dtype incompatible with float64, please explicitly cast to a compatible dtype first.\n",
      "  tradebook_short.loc[\n"
     ]
    },
    {
     "name": "stdout",
     "output_type": "stream",
     "text": [
      "EMA:8, RSI:6, RSI_MA:20, SL Candles:5\n"
     ]
    },
    {
     "name": "stderr",
     "output_type": "stream",
     "text": [
      "/tmp/ipykernel_33520/419236688.py:137: FutureWarning: Setting an item of incompatible dtype is deprecated and will raise an error in a future version of pandas. Value 'Trailing SL Hit' has dtype incompatible with float64, please explicitly cast to a compatible dtype first.\n",
      "  tradebook_short.loc[\n"
     ]
    },
    {
     "name": "stdout",
     "output_type": "stream",
     "text": [
      "EMA:8, RSI:6, RSI_MA:20, SL Candles:6\n"
     ]
    },
    {
     "name": "stderr",
     "output_type": "stream",
     "text": [
      "/tmp/ipykernel_33520/419236688.py:137: FutureWarning: Setting an item of incompatible dtype is deprecated and will raise an error in a future version of pandas. Value 'Trailing SL Hit' has dtype incompatible with float64, please explicitly cast to a compatible dtype first.\n",
      "  tradebook_short.loc[\n"
     ]
    },
    {
     "name": "stdout",
     "output_type": "stream",
     "text": [
      "EMA:8, RSI:6, RSI_MA:20, SL Candles:7\n"
     ]
    },
    {
     "name": "stderr",
     "output_type": "stream",
     "text": [
      "/tmp/ipykernel_33520/419236688.py:137: FutureWarning: Setting an item of incompatible dtype is deprecated and will raise an error in a future version of pandas. Value 'Trailing SL Hit' has dtype incompatible with float64, please explicitly cast to a compatible dtype first.\n",
      "  tradebook_short.loc[\n"
     ]
    },
    {
     "name": "stdout",
     "output_type": "stream",
     "text": [
      "EMA:8, RSI:6, RSI_MA:20, SL Candles:8\n"
     ]
    },
    {
     "name": "stderr",
     "output_type": "stream",
     "text": [
      "/tmp/ipykernel_33520/419236688.py:137: FutureWarning: Setting an item of incompatible dtype is deprecated and will raise an error in a future version of pandas. Value 'Trailing SL Hit' has dtype incompatible with float64, please explicitly cast to a compatible dtype first.\n",
      "  tradebook_short.loc[\n"
     ]
    },
    {
     "name": "stdout",
     "output_type": "stream",
     "text": [
      "        Total ROI Total Trades Win Rate Avg Profit% per Trade Avg Loss% per Trade Max Drawdown ROI/DD Ratio                              Variation\n",
      "2017            0            0      NaN                   NaN                 NaN          NaN          NaN  EMA:8, RSI:6, RSI_MA:20, SL Candles:8\n",
      "2018      16.6805          267  33.3333                3.3065             -1.5595     -59.0327       0.2826  EMA:8, RSI:6, RSI_MA:20, SL Candles:8\n",
      "2019      40.9160          261  32.9502                3.6014             -1.5360     -56.0943       0.7294  EMA:8, RSI:6, RSI_MA:20, SL Candles:8\n",
      "2020     114.3844          271  36.5314                3.8483             -1.5500     -38.0243       3.0082  EMA:8, RSI:6, RSI_MA:20, SL Candles:8\n",
      "2021      36.4588          277  33.2130                3.6655             -1.6258     -53.3368       0.6836  EMA:8, RSI:6, RSI_MA:20, SL Candles:8\n",
      "2022     -36.5776          307  33.8762                3.1745             -1.8065    -110.0620      -0.3323  EMA:8, RSI:6, RSI_MA:20, SL Candles:8\n",
      "2023     -78.2408          290  29.6552                3.0456             -1.6675    -116.0235      -0.6744  EMA:8, RSI:6, RSI_MA:20, SL Candles:8\n",
      "2024      88.3531          274  28.4672                4.8074             -1.4624     -57.3169       1.5415  EMA:8, RSI:6, RSI_MA:20, SL Candles:8\n",
      "2025      14.9940           18  61.1111                2.4754             -1.7480      -3.6273       4.1337  EMA:8, RSI:6, RSI_MA:20, SL Candles:8\n",
      "Overall  196.9684         1965  32.8244                3.5915             -1.6057    -181.5535       1.0849  EMA:8, RSI:6, RSI_MA:20, SL Candles:8\n",
      "EMA:8, RSI:6, RSI_MA:20, SL Candles:9\n"
     ]
    },
    {
     "name": "stderr",
     "output_type": "stream",
     "text": [
      "/tmp/ipykernel_33520/419236688.py:137: FutureWarning: Setting an item of incompatible dtype is deprecated and will raise an error in a future version of pandas. Value 'Trailing SL Hit' has dtype incompatible with float64, please explicitly cast to a compatible dtype first.\n",
      "  tradebook_short.loc[\n"
     ]
    },
    {
     "name": "stdout",
     "output_type": "stream",
     "text": [
      "        Total ROI Total Trades Win Rate Avg Profit% per Trade Avg Loss% per Trade Max Drawdown ROI/DD Ratio                              Variation\n",
      "2017            0            0      NaN                   NaN                 NaN          NaN          NaN  EMA:8, RSI:6, RSI_MA:20, SL Candles:9\n",
      "2018       8.5255          267  33.3333                3.1548             -1.5295     -58.2284       0.1464  EMA:8, RSI:6, RSI_MA:20, SL Candles:9\n",
      "2019      35.3416          261  32.9502                3.4433             -1.4902     -55.1805       0.6405  EMA:8, RSI:6, RSI_MA:20, SL Candles:9\n",
      "2020     118.4820          271  36.5314                3.7888             -1.4919     -35.9803       3.2930  EMA:8, RSI:6, RSI_MA:20, SL Candles:9\n",
      "2021      29.1680          277  33.2130                3.4918             -1.5788     -52.0283       0.5606  EMA:8, RSI:6, RSI_MA:20, SL Candles:9\n",
      "2022     -33.7445          307  33.8762                3.0873             -1.7479    -105.3433      -0.3203  EMA:8, RSI:6, RSI_MA:20, SL Candles:9\n",
      "2023     -75.2681          289  29.7578                2.9010             -1.5998    -113.2026      -0.6649  EMA:8, RSI:6, RSI_MA:20, SL Candles:9\n",
      "2024      86.9871          274  28.4672                4.6796             -1.4185     -56.0165       1.5529  EMA:8, RSI:6, RSI_MA:20, SL Candles:9\n",
      "2025      15.2009           18  61.1111                2.4441             -1.6692      -3.1281       4.8594  EMA:8, RSI:6, RSI_MA:20, SL Candles:9\n",
      "Overall  184.6925         1964  32.8411                3.4662             -1.5550    -172.5615       1.0703  EMA:8, RSI:6, RSI_MA:20, SL Candles:9\n",
      "EMA:8, RSI:6, RSI_MA:20, SL Candles:10\n"
     ]
    },
    {
     "name": "stderr",
     "output_type": "stream",
     "text": [
      "/tmp/ipykernel_33520/419236688.py:137: FutureWarning: Setting an item of incompatible dtype is deprecated and will raise an error in a future version of pandas. Value 'Trailing SL Hit' has dtype incompatible with float64, please explicitly cast to a compatible dtype first.\n",
      "  tradebook_short.loc[\n"
     ]
    },
    {
     "name": "stdout",
     "output_type": "stream",
     "text": [
      "        Total ROI Total Trades Win Rate Avg Profit% per Trade Avg Loss% per Trade Max Drawdown ROI/DD Ratio                               Variation\n",
      "2017            0            0      NaN                   NaN                 NaN          NaN          NaN  EMA:8, RSI:6, RSI_MA:20, SL Candles:10\n",
      "2018      22.8524          266  33.8346                3.0332             -1.4212     -52.5848       0.4346  EMA:8, RSI:6, RSI_MA:20, SL Candles:10\n",
      "2019      31.0634          261  32.9502                3.3023             -1.4454     -53.9117       0.5762  EMA:8, RSI:6, RSI_MA:20, SL Candles:10\n",
      "2020     115.9855          271  36.5314                3.6384             -1.4198     -36.3712       3.1889  EMA:8, RSI:6, RSI_MA:20, SL Candles:10\n",
      "2021      28.9426          277  33.2130                3.3612             -1.5150     -48.5018       0.5967  EMA:8, RSI:6, RSI_MA:20, SL Candles:10\n",
      "2022     -37.8299          307  33.8762                2.9707             -1.7083    -106.9447      -0.3537  EMA:8, RSI:6, RSI_MA:20, SL Candles:10\n",
      "2023     -73.0644          288  29.8611                2.7628             -1.5379    -104.1312      -0.7017  EMA:8, RSI:6, RSI_MA:20, SL Candles:10\n",
      "2024      81.1956          274  28.4672                4.5272             -1.3874     -56.0695       1.4481  EMA:8, RSI:6, RSI_MA:20, SL Candles:10\n",
      "2025      15.3113           18  61.1111                2.4375             -1.6430      -3.1281       4.8947  EMA:8, RSI:6, RSI_MA:20, SL Candles:10\n",
      "Overall  184.4566         1962  32.9256                3.3327             -1.4958    -174.8615       1.0549  EMA:8, RSI:6, RSI_MA:20, SL Candles:10\n",
      "EMA:8, RSI:6, RSI_MA:25, SL Candles:1\n"
     ]
    },
    {
     "name": "stderr",
     "output_type": "stream",
     "text": [
      "/tmp/ipykernel_33520/419236688.py:137: FutureWarning: Setting an item of incompatible dtype is deprecated and will raise an error in a future version of pandas. Value 'Trailing SL Hit' has dtype incompatible with float64, please explicitly cast to a compatible dtype first.\n",
      "  tradebook_short.loc[\n",
      "/tmp/ipykernel_33520/2712610940.py:45: RuntimeWarning: invalid value encountered in scalar divide\n",
      "  roi_dd_ratio = total_roi / abs(max_drawdown)\n",
      "/tmp/ipykernel_33520/2712610940.py:70: RuntimeWarning: invalid value encountered in scalar divide\n",
      "  overall_roi_dd_ratio = overall_total_roi / abs(overall_max_drawdown)\n",
      "/tmp/ipykernel_33520/419236688.py:137: FutureWarning: Setting an item of incompatible dtype is deprecated and will raise an error in a future version of pandas. Value 'Trailing SL Hit' has dtype incompatible with float64, please explicitly cast to a compatible dtype first.\n",
      "  tradebook_short.loc[\n"
     ]
    },
    {
     "name": "stdout",
     "output_type": "stream",
     "text": [
      "EMA:8, RSI:6, RSI_MA:25, SL Candles:2\n",
      "EMA:8, RSI:6, RSI_MA:25, SL Candles:3\n"
     ]
    },
    {
     "name": "stderr",
     "output_type": "stream",
     "text": [
      "/tmp/ipykernel_33520/419236688.py:137: FutureWarning: Setting an item of incompatible dtype is deprecated and will raise an error in a future version of pandas. Value 'Trailing SL Hit' has dtype incompatible with float64, please explicitly cast to a compatible dtype first.\n",
      "  tradebook_short.loc[\n"
     ]
    },
    {
     "name": "stdout",
     "output_type": "stream",
     "text": [
      "EMA:8, RSI:6, RSI_MA:25, SL Candles:4\n"
     ]
    },
    {
     "name": "stderr",
     "output_type": "stream",
     "text": [
      "/tmp/ipykernel_33520/419236688.py:137: FutureWarning: Setting an item of incompatible dtype is deprecated and will raise an error in a future version of pandas. Value 'Trailing SL Hit' has dtype incompatible with float64, please explicitly cast to a compatible dtype first.\n",
      "  tradebook_short.loc[\n"
     ]
    },
    {
     "name": "stdout",
     "output_type": "stream",
     "text": [
      "EMA:8, RSI:6, RSI_MA:25, SL Candles:5\n"
     ]
    },
    {
     "name": "stderr",
     "output_type": "stream",
     "text": [
      "/tmp/ipykernel_33520/419236688.py:137: FutureWarning: Setting an item of incompatible dtype is deprecated and will raise an error in a future version of pandas. Value 'Trailing SL Hit' has dtype incompatible with float64, please explicitly cast to a compatible dtype first.\n",
      "  tradebook_short.loc[\n"
     ]
    },
    {
     "name": "stdout",
     "output_type": "stream",
     "text": [
      "EMA:8, RSI:6, RSI_MA:25, SL Candles:6\n"
     ]
    },
    {
     "name": "stderr",
     "output_type": "stream",
     "text": [
      "/tmp/ipykernel_33520/419236688.py:137: FutureWarning: Setting an item of incompatible dtype is deprecated and will raise an error in a future version of pandas. Value 'Trailing SL Hit' has dtype incompatible with float64, please explicitly cast to a compatible dtype first.\n",
      "  tradebook_short.loc[\n"
     ]
    },
    {
     "name": "stdout",
     "output_type": "stream",
     "text": [
      "EMA:8, RSI:6, RSI_MA:25, SL Candles:7\n"
     ]
    },
    {
     "name": "stderr",
     "output_type": "stream",
     "text": [
      "/tmp/ipykernel_33520/419236688.py:137: FutureWarning: Setting an item of incompatible dtype is deprecated and will raise an error in a future version of pandas. Value 'Trailing SL Hit' has dtype incompatible with float64, please explicitly cast to a compatible dtype first.\n",
      "  tradebook_short.loc[\n"
     ]
    },
    {
     "name": "stdout",
     "output_type": "stream",
     "text": [
      "EMA:8, RSI:6, RSI_MA:25, SL Candles:8\n"
     ]
    },
    {
     "name": "stderr",
     "output_type": "stream",
     "text": [
      "/tmp/ipykernel_33520/419236688.py:137: FutureWarning: Setting an item of incompatible dtype is deprecated and will raise an error in a future version of pandas. Value 'Trailing SL Hit' has dtype incompatible with float64, please explicitly cast to a compatible dtype first.\n",
      "  tradebook_short.loc[\n"
     ]
    },
    {
     "name": "stdout",
     "output_type": "stream",
     "text": [
      "EMA:8, RSI:6, RSI_MA:25, SL Candles:9\n"
     ]
    },
    {
     "name": "stderr",
     "output_type": "stream",
     "text": [
      "/tmp/ipykernel_33520/419236688.py:137: FutureWarning: Setting an item of incompatible dtype is deprecated and will raise an error in a future version of pandas. Value 'Trailing SL Hit' has dtype incompatible with float64, please explicitly cast to a compatible dtype first.\n",
      "  tradebook_short.loc[\n"
     ]
    },
    {
     "name": "stdout",
     "output_type": "stream",
     "text": [
      "EMA:8, RSI:6, RSI_MA:25, SL Candles:10\n"
     ]
    },
    {
     "name": "stderr",
     "output_type": "stream",
     "text": [
      "/tmp/ipykernel_33520/419236688.py:137: FutureWarning: Setting an item of incompatible dtype is deprecated and will raise an error in a future version of pandas. Value 'Trailing SL Hit' has dtype incompatible with float64, please explicitly cast to a compatible dtype first.\n",
      "  tradebook_short.loc[\n"
     ]
    },
    {
     "name": "stdout",
     "output_type": "stream",
     "text": [
      "EMA:8, RSI:6, RSI_MA:30, SL Candles:1\n"
     ]
    },
    {
     "name": "stderr",
     "output_type": "stream",
     "text": [
      "/tmp/ipykernel_33520/419236688.py:137: FutureWarning: Setting an item of incompatible dtype is deprecated and will raise an error in a future version of pandas. Value 'Trailing SL Hit' has dtype incompatible with float64, please explicitly cast to a compatible dtype first.\n",
      "  tradebook_short.loc[\n",
      "/tmp/ipykernel_33520/2712610940.py:45: RuntimeWarning: invalid value encountered in scalar divide\n",
      "  roi_dd_ratio = total_roi / abs(max_drawdown)\n",
      "/tmp/ipykernel_33520/2712610940.py:70: RuntimeWarning: invalid value encountered in scalar divide\n",
      "  overall_roi_dd_ratio = overall_total_roi / abs(overall_max_drawdown)\n",
      "/tmp/ipykernel_33520/419236688.py:137: FutureWarning: Setting an item of incompatible dtype is deprecated and will raise an error in a future version of pandas. Value 'Trailing SL Hit' has dtype incompatible with float64, please explicitly cast to a compatible dtype first.\n",
      "  tradebook_short.loc[\n"
     ]
    },
    {
     "name": "stdout",
     "output_type": "stream",
     "text": [
      "EMA:8, RSI:6, RSI_MA:30, SL Candles:2\n",
      "EMA:8, RSI:6, RSI_MA:30, SL Candles:3\n"
     ]
    },
    {
     "name": "stderr",
     "output_type": "stream",
     "text": [
      "/tmp/ipykernel_33520/419236688.py:137: FutureWarning: Setting an item of incompatible dtype is deprecated and will raise an error in a future version of pandas. Value 'Trailing SL Hit' has dtype incompatible with float64, please explicitly cast to a compatible dtype first.\n",
      "  tradebook_short.loc[\n"
     ]
    },
    {
     "name": "stdout",
     "output_type": "stream",
     "text": [
      "EMA:8, RSI:6, RSI_MA:30, SL Candles:4\n"
     ]
    },
    {
     "name": "stderr",
     "output_type": "stream",
     "text": [
      "/tmp/ipykernel_33520/419236688.py:137: FutureWarning: Setting an item of incompatible dtype is deprecated and will raise an error in a future version of pandas. Value 'Trailing SL Hit' has dtype incompatible with float64, please explicitly cast to a compatible dtype first.\n",
      "  tradebook_short.loc[\n"
     ]
    },
    {
     "name": "stdout",
     "output_type": "stream",
     "text": [
      "EMA:8, RSI:6, RSI_MA:30, SL Candles:5\n"
     ]
    },
    {
     "name": "stderr",
     "output_type": "stream",
     "text": [
      "/tmp/ipykernel_33520/419236688.py:137: FutureWarning: Setting an item of incompatible dtype is deprecated and will raise an error in a future version of pandas. Value 'Trailing SL Hit' has dtype incompatible with float64, please explicitly cast to a compatible dtype first.\n",
      "  tradebook_short.loc[\n"
     ]
    },
    {
     "name": "stdout",
     "output_type": "stream",
     "text": [
      "EMA:8, RSI:6, RSI_MA:30, SL Candles:6\n"
     ]
    },
    {
     "name": "stderr",
     "output_type": "stream",
     "text": [
      "/tmp/ipykernel_33520/419236688.py:137: FutureWarning: Setting an item of incompatible dtype is deprecated and will raise an error in a future version of pandas. Value 'Trailing SL Hit' has dtype incompatible with float64, please explicitly cast to a compatible dtype first.\n",
      "  tradebook_short.loc[\n"
     ]
    },
    {
     "name": "stdout",
     "output_type": "stream",
     "text": [
      "EMA:8, RSI:6, RSI_MA:30, SL Candles:7\n"
     ]
    },
    {
     "name": "stderr",
     "output_type": "stream",
     "text": [
      "/tmp/ipykernel_33520/419236688.py:137: FutureWarning: Setting an item of incompatible dtype is deprecated and will raise an error in a future version of pandas. Value 'Trailing SL Hit' has dtype incompatible with float64, please explicitly cast to a compatible dtype first.\n",
      "  tradebook_short.loc[\n"
     ]
    },
    {
     "name": "stdout",
     "output_type": "stream",
     "text": [
      "EMA:8, RSI:6, RSI_MA:30, SL Candles:8\n"
     ]
    },
    {
     "name": "stderr",
     "output_type": "stream",
     "text": [
      "/tmp/ipykernel_33520/419236688.py:137: FutureWarning: Setting an item of incompatible dtype is deprecated and will raise an error in a future version of pandas. Value 'Trailing SL Hit' has dtype incompatible with float64, please explicitly cast to a compatible dtype first.\n",
      "  tradebook_short.loc[\n"
     ]
    },
    {
     "name": "stdout",
     "output_type": "stream",
     "text": [
      "EMA:8, RSI:6, RSI_MA:30, SL Candles:9\n"
     ]
    },
    {
     "name": "stderr",
     "output_type": "stream",
     "text": [
      "/tmp/ipykernel_33520/419236688.py:137: FutureWarning: Setting an item of incompatible dtype is deprecated and will raise an error in a future version of pandas. Value 'Trailing SL Hit' has dtype incompatible with float64, please explicitly cast to a compatible dtype first.\n",
      "  tradebook_short.loc[\n"
     ]
    },
    {
     "name": "stdout",
     "output_type": "stream",
     "text": [
      "EMA:8, RSI:6, RSI_MA:30, SL Candles:10\n"
     ]
    },
    {
     "name": "stderr",
     "output_type": "stream",
     "text": [
      "/tmp/ipykernel_33520/419236688.py:137: FutureWarning: Setting an item of incompatible dtype is deprecated and will raise an error in a future version of pandas. Value 'Trailing SL Hit' has dtype incompatible with float64, please explicitly cast to a compatible dtype first.\n",
      "  tradebook_short.loc[\n"
     ]
    },
    {
     "name": "stdout",
     "output_type": "stream",
     "text": [
      "EMA:8, RSI:6, RSI_MA:35, SL Candles:1\n"
     ]
    },
    {
     "name": "stderr",
     "output_type": "stream",
     "text": [
      "/tmp/ipykernel_33520/419236688.py:137: FutureWarning: Setting an item of incompatible dtype is deprecated and will raise an error in a future version of pandas. Value 'Trailing SL Hit' has dtype incompatible with float64, please explicitly cast to a compatible dtype first.\n",
      "  tradebook_short.loc[\n",
      "/tmp/ipykernel_33520/2712610940.py:45: RuntimeWarning: invalid value encountered in scalar divide\n",
      "  roi_dd_ratio = total_roi / abs(max_drawdown)\n",
      "/tmp/ipykernel_33520/2712610940.py:70: RuntimeWarning: invalid value encountered in scalar divide\n",
      "  overall_roi_dd_ratio = overall_total_roi / abs(overall_max_drawdown)\n",
      "/tmp/ipykernel_33520/419236688.py:137: FutureWarning: Setting an item of incompatible dtype is deprecated and will raise an error in a future version of pandas. Value 'Trailing SL Hit' has dtype incompatible with float64, please explicitly cast to a compatible dtype first.\n",
      "  tradebook_short.loc[\n"
     ]
    },
    {
     "name": "stdout",
     "output_type": "stream",
     "text": [
      "EMA:8, RSI:6, RSI_MA:35, SL Candles:2\n"
     ]
    },
    {
     "ename": "KeyboardInterrupt",
     "evalue": "",
     "output_type": "error",
     "traceback": [
      "\u001b[0;31m---------------------------------------------------------------------------\u001b[0m",
      "\u001b[0;31mKeyboardInterrupt\u001b[0m                         Traceback (most recent call last)",
      "Cell \u001b[0;32mIn[25], line 13\u001b[0m\n\u001b[1;32m     11\u001b[0m df \u001b[38;5;241m=\u001b[39m bnf_1min\n\u001b[1;32m     12\u001b[0m df \u001b[38;5;241m=\u001b[39m calculate_signals(df, ema_length, rsi_length, rsi_ma_length)\n\u001b[0;32m---> 13\u001b[0m tb \u001b[38;5;241m=\u001b[39m \u001b[43mbacktest\u001b[49m\u001b[43m(\u001b[49m\u001b[43mdf\u001b[49m\u001b[43m,\u001b[49m\u001b[43m \u001b[49m\u001b[43mn1\u001b[49m\u001b[43m)\u001b[49m\n\u001b[1;32m     14\u001b[0m \u001b[38;5;28;01mif\u001b[39;00m \u001b[38;5;28mlen\u001b[39m(tb) \u001b[38;5;241m>\u001b[39m \u001b[38;5;241m0\u001b[39m:\n\u001b[1;32m     15\u001b[0m     tb \u001b[38;5;241m=\u001b[39m tb\u001b[38;5;241m.\u001b[39msort_values(by\u001b[38;5;241m=\u001b[39m\u001b[38;5;124m'\u001b[39m\u001b[38;5;124mEntry_Date\u001b[39m\u001b[38;5;124m'\u001b[39m)\n",
      "Cell \u001b[0;32mIn[15], line 52\u001b[0m, in \u001b[0;36mbacktest\u001b[0;34m(df, prev_n_candles)\u001b[0m\n\u001b[1;32m     49\u001b[0m short_trailing_stop \u001b[38;5;241m=\u001b[39m df\u001b[38;5;241m.\u001b[39mloc[i, \u001b[38;5;124m'\u001b[39m\u001b[38;5;124mEMA_20\u001b[39m\u001b[38;5;124m'\u001b[39m]\n\u001b[1;32m     50\u001b[0m short_initial_sl \u001b[38;5;241m=\u001b[39m df\u001b[38;5;241m.\u001b[39mloc[i\u001b[38;5;241m-\u001b[39mprev_n_candles:i\u001b[38;5;241m-\u001b[39m\u001b[38;5;241m1\u001b[39m, \u001b[38;5;124m'\u001b[39m\u001b[38;5;124mhigh\u001b[39m\u001b[38;5;124m'\u001b[39m]\u001b[38;5;241m.\u001b[39mmax()\n\u001b[0;32m---> 52\u001b[0m tradebook_short \u001b[38;5;241m=\u001b[39m \u001b[43mpd\u001b[49m\u001b[38;5;241;43m.\u001b[39;49m\u001b[43mconcat\u001b[49m\u001b[43m(\u001b[49m\u001b[43m[\u001b[49m\u001b[43mtradebook_short\u001b[49m\u001b[43m,\u001b[49m\u001b[43m \u001b[49m\u001b[43mpd\u001b[49m\u001b[38;5;241;43m.\u001b[39;49m\u001b[43mDataFrame\u001b[49m\u001b[43m(\u001b[49m\u001b[43m[\u001b[49m\u001b[43m{\u001b[49m\n\u001b[1;32m     53\u001b[0m \u001b[43m    \u001b[49m\u001b[38;5;124;43m'\u001b[39;49m\u001b[38;5;124;43mTrade No.\u001b[39;49m\u001b[38;5;124;43m'\u001b[39;49m\u001b[43m:\u001b[49m\u001b[43m \u001b[49m\u001b[43mtrade_number\u001b[49m\u001b[43m,\u001b[49m\n\u001b[1;32m     54\u001b[0m \u001b[43m    \u001b[49m\u001b[38;5;124;43m'\u001b[39;49m\u001b[38;5;124;43mEntry_Date\u001b[39;49m\u001b[38;5;124;43m'\u001b[39;49m\u001b[43m:\u001b[49m\u001b[43m \u001b[49m\u001b[43mdf\u001b[49m\u001b[38;5;241;43m.\u001b[39;49m\u001b[43mloc\u001b[49m\u001b[43m[\u001b[49m\u001b[43mi\u001b[49m\u001b[43m,\u001b[49m\u001b[43m \u001b[49m\u001b[38;5;124;43m'\u001b[39;49m\u001b[38;5;124;43mdatetime\u001b[39;49m\u001b[38;5;124;43m'\u001b[39;49m\u001b[43m]\u001b[49m\u001b[43m,\u001b[49m\n\u001b[1;32m     55\u001b[0m \u001b[43m    \u001b[49m\u001b[38;5;124;43m'\u001b[39;49m\u001b[38;5;124;43mExit_Date\u001b[39;49m\u001b[38;5;124;43m'\u001b[39;49m\u001b[43m:\u001b[49m\u001b[43m \u001b[49m\u001b[38;5;28;43;01mNone\u001b[39;49;00m\u001b[43m,\u001b[49m\n\u001b[1;32m     56\u001b[0m \u001b[43m    \u001b[49m\u001b[38;5;124;43m'\u001b[39;49m\u001b[38;5;124;43mTrade_Type\u001b[39;49m\u001b[38;5;124;43m'\u001b[39;49m\u001b[43m:\u001b[49m\u001b[43m \u001b[49m\u001b[38;5;124;43m'\u001b[39;49m\u001b[38;5;124;43mshort\u001b[39;49m\u001b[38;5;124;43m'\u001b[39;49m\u001b[43m,\u001b[49m\n\u001b[1;32m     57\u001b[0m \u001b[43m    \u001b[49m\u001b[38;5;124;43m'\u001b[39;49m\u001b[38;5;124;43mEntry_Price\u001b[39;49m\u001b[38;5;124;43m'\u001b[39;49m\u001b[43m:\u001b[49m\u001b[43m \u001b[49m\u001b[43mdf\u001b[49m\u001b[38;5;241;43m.\u001b[39;49m\u001b[43mloc\u001b[49m\u001b[43m[\u001b[49m\u001b[43mi\u001b[49m\u001b[38;5;241;43m-\u001b[39;49m\u001b[38;5;241;43m1\u001b[39;49m\u001b[43m,\u001b[49m\u001b[43m \u001b[49m\u001b[38;5;124;43m'\u001b[39;49m\u001b[38;5;124;43mlow\u001b[39;49m\u001b[38;5;124;43m'\u001b[39;49m\u001b[43m]\u001b[49m\u001b[43m,\u001b[49m\n\u001b[1;32m     58\u001b[0m \u001b[43m    \u001b[49m\u001b[38;5;66;43;03m# 'Previous MA Value': df.loc[i-1, 'X_Low'],\u001b[39;49;00m\n\u001b[1;32m     59\u001b[0m \u001b[43m    \u001b[49m\u001b[38;5;124;43m'\u001b[39;49m\u001b[38;5;124;43mInitial SL\u001b[39;49m\u001b[38;5;124;43m'\u001b[39;49m\u001b[43m:\u001b[49m\u001b[43m \u001b[49m\u001b[43mshort_initial_sl\u001b[49m\u001b[43m,\u001b[49m\n\u001b[1;32m     60\u001b[0m \u001b[43m    \u001b[49m\u001b[38;5;124;43m'\u001b[39;49m\u001b[38;5;124;43mExit_Price\u001b[39;49m\u001b[38;5;124;43m'\u001b[39;49m\u001b[43m:\u001b[49m\u001b[43m \u001b[49m\u001b[38;5;28;43;01mNone\u001b[39;49;00m\u001b[43m,\u001b[49m\n\u001b[1;32m     61\u001b[0m \u001b[43m    \u001b[49m\u001b[38;5;66;43;03m# 'Profit/Loss': None  # Filled when exited\u001b[39;49;00m\n\u001b[1;32m     62\u001b[0m \u001b[43m\u001b[49m\u001b[43m}\u001b[49m\u001b[43m]\u001b[49m\u001b[43m)\u001b[49m\u001b[43m]\u001b[49m\u001b[43m,\u001b[49m\u001b[43m \u001b[49m\u001b[43mignore_index\u001b[49m\u001b[38;5;241;43m=\u001b[39;49m\u001b[38;5;28;43;01mTrue\u001b[39;49;00m\u001b[43m)\u001b[49m\n\u001b[1;32m     64\u001b[0m \u001b[38;5;28;01mif\u001b[39;00m \u001b[38;5;129;01mnot\u001b[39;00m lock_initial_sl:\n\u001b[1;32m     65\u001b[0m     first_sl \u001b[38;5;241m=\u001b[39m short_initial_sl\n",
      "File \u001b[0;32m~/strategies/droplets/.venv/lib/python3.11/site-packages/pandas/core/reshape/concat.py:393\u001b[0m, in \u001b[0;36mconcat\u001b[0;34m(objs, axis, join, ignore_index, keys, levels, names, verify_integrity, sort, copy)\u001b[0m\n\u001b[1;32m    378\u001b[0m     copy \u001b[38;5;241m=\u001b[39m \u001b[38;5;28;01mFalse\u001b[39;00m\n\u001b[1;32m    380\u001b[0m op \u001b[38;5;241m=\u001b[39m _Concatenator(\n\u001b[1;32m    381\u001b[0m     objs,\n\u001b[1;32m    382\u001b[0m     axis\u001b[38;5;241m=\u001b[39maxis,\n\u001b[0;32m   (...)\u001b[0m\n\u001b[1;32m    390\u001b[0m     sort\u001b[38;5;241m=\u001b[39msort,\n\u001b[1;32m    391\u001b[0m )\n\u001b[0;32m--> 393\u001b[0m \u001b[38;5;28;01mreturn\u001b[39;00m \u001b[43mop\u001b[49m\u001b[38;5;241;43m.\u001b[39;49m\u001b[43mget_result\u001b[49m\u001b[43m(\u001b[49m\u001b[43m)\u001b[49m\n",
      "File \u001b[0;32m~/strategies/droplets/.venv/lib/python3.11/site-packages/pandas/core/reshape/concat.py:682\u001b[0m, in \u001b[0;36m_Concatenator.get_result\u001b[0;34m(self)\u001b[0m\n\u001b[1;32m    678\u001b[0m             indexers[ax] \u001b[38;5;241m=\u001b[39m obj_labels\u001b[38;5;241m.\u001b[39mget_indexer(new_labels)\n\u001b[1;32m    680\u001b[0m     mgrs_indexers\u001b[38;5;241m.\u001b[39mappend((obj\u001b[38;5;241m.\u001b[39m_mgr, indexers))\n\u001b[0;32m--> 682\u001b[0m new_data \u001b[38;5;241m=\u001b[39m \u001b[43mconcatenate_managers\u001b[49m\u001b[43m(\u001b[49m\n\u001b[1;32m    683\u001b[0m \u001b[43m    \u001b[49m\u001b[43mmgrs_indexers\u001b[49m\u001b[43m,\u001b[49m\u001b[43m \u001b[49m\u001b[38;5;28;43mself\u001b[39;49m\u001b[38;5;241;43m.\u001b[39;49m\u001b[43mnew_axes\u001b[49m\u001b[43m,\u001b[49m\u001b[43m \u001b[49m\u001b[43mconcat_axis\u001b[49m\u001b[38;5;241;43m=\u001b[39;49m\u001b[38;5;28;43mself\u001b[39;49m\u001b[38;5;241;43m.\u001b[39;49m\u001b[43mbm_axis\u001b[49m\u001b[43m,\u001b[49m\u001b[43m \u001b[49m\u001b[43mcopy\u001b[49m\u001b[38;5;241;43m=\u001b[39;49m\u001b[38;5;28;43mself\u001b[39;49m\u001b[38;5;241;43m.\u001b[39;49m\u001b[43mcopy\u001b[49m\n\u001b[1;32m    684\u001b[0m \u001b[43m\u001b[49m\u001b[43m)\u001b[49m\n\u001b[1;32m    685\u001b[0m \u001b[38;5;28;01mif\u001b[39;00m \u001b[38;5;129;01mnot\u001b[39;00m \u001b[38;5;28mself\u001b[39m\u001b[38;5;241m.\u001b[39mcopy \u001b[38;5;129;01mand\u001b[39;00m \u001b[38;5;129;01mnot\u001b[39;00m using_copy_on_write():\n\u001b[1;32m    686\u001b[0m     new_data\u001b[38;5;241m.\u001b[39m_consolidate_inplace()\n",
      "File \u001b[0;32m~/strategies/droplets/.venv/lib/python3.11/site-packages/pandas/core/internals/concat.py:166\u001b[0m, in \u001b[0;36mconcatenate_managers\u001b[0;34m(mgrs_indexers, axes, concat_axis, copy)\u001b[0m\n\u001b[1;32m    163\u001b[0m unit \u001b[38;5;241m=\u001b[39m join_units[\u001b[38;5;241m0\u001b[39m]\n\u001b[1;32m    164\u001b[0m blk \u001b[38;5;241m=\u001b[39m unit\u001b[38;5;241m.\u001b[39mblock\n\u001b[0;32m--> 166\u001b[0m \u001b[38;5;28;01mif\u001b[39;00m \u001b[43m_is_uniform_join_units\u001b[49m\u001b[43m(\u001b[49m\u001b[43mjoin_units\u001b[49m\u001b[43m)\u001b[49m:\n\u001b[1;32m    167\u001b[0m     vals \u001b[38;5;241m=\u001b[39m [ju\u001b[38;5;241m.\u001b[39mblock\u001b[38;5;241m.\u001b[39mvalues \u001b[38;5;28;01mfor\u001b[39;00m ju \u001b[38;5;129;01min\u001b[39;00m join_units]\n\u001b[1;32m    169\u001b[0m     \u001b[38;5;28;01mif\u001b[39;00m \u001b[38;5;129;01mnot\u001b[39;00m blk\u001b[38;5;241m.\u001b[39mis_extension:\n\u001b[1;32m    170\u001b[0m         \u001b[38;5;66;03m# _is_uniform_join_units ensures a single dtype, so\u001b[39;00m\n\u001b[1;32m    171\u001b[0m         \u001b[38;5;66;03m#  we can use np.concatenate, which is more performant\u001b[39;00m\n\u001b[0;32m   (...)\u001b[0m\n\u001b[1;32m    175\u001b[0m         \u001b[38;5;66;03m# expected \"Union[_SupportsArray[dtype[Any]],\u001b[39;00m\n\u001b[1;32m    176\u001b[0m         \u001b[38;5;66;03m# _NestedSequence[_SupportsArray[dtype[Any]]]]\"\u001b[39;00m\n",
      "File \u001b[0;32m~/strategies/droplets/.venv/lib/python3.11/site-packages/pandas/core/internals/concat.py:597\u001b[0m, in \u001b[0;36m_is_uniform_join_units\u001b[0;34m(join_units)\u001b[0m\n\u001b[1;32m    580\u001b[0m \u001b[38;5;28;01mif\u001b[39;00m first\u001b[38;5;241m.\u001b[39mdtype\u001b[38;5;241m.\u001b[39mkind \u001b[38;5;241m==\u001b[39m \u001b[38;5;124m\"\u001b[39m\u001b[38;5;124mV\u001b[39m\u001b[38;5;124m\"\u001b[39m:\n\u001b[1;32m    581\u001b[0m     \u001b[38;5;28;01mreturn\u001b[39;00m \u001b[38;5;28;01mFalse\u001b[39;00m\n\u001b[1;32m    582\u001b[0m \u001b[38;5;28;01mreturn\u001b[39;00m (\n\u001b[1;32m    583\u001b[0m     \u001b[38;5;66;03m# exclude cases where a) ju.block is None or b) we have e.g. Int64+int64\u001b[39;00m\n\u001b[1;32m    584\u001b[0m     \u001b[38;5;28mall\u001b[39m(\u001b[38;5;28mtype\u001b[39m(ju\u001b[38;5;241m.\u001b[39mblock) \u001b[38;5;129;01mis\u001b[39;00m \u001b[38;5;28mtype\u001b[39m(first) \u001b[38;5;28;01mfor\u001b[39;00m ju \u001b[38;5;129;01min\u001b[39;00m join_units)\n\u001b[1;32m    585\u001b[0m     \u001b[38;5;129;01mand\u001b[39;00m\n\u001b[1;32m    586\u001b[0m     \u001b[38;5;66;03m# e.g. DatetimeLikeBlock can be dt64 or td64, but these are not uniform\u001b[39;00m\n\u001b[1;32m    587\u001b[0m     \u001b[38;5;28mall\u001b[39m(\n\u001b[1;32m    588\u001b[0m         ju\u001b[38;5;241m.\u001b[39mblock\u001b[38;5;241m.\u001b[39mdtype \u001b[38;5;241m==\u001b[39m first\u001b[38;5;241m.\u001b[39mdtype\n\u001b[1;32m    589\u001b[0m         \u001b[38;5;66;03m# GH#42092 we only want the dtype_equal check for non-numeric blocks\u001b[39;00m\n\u001b[1;32m    590\u001b[0m         \u001b[38;5;66;03m#  (for now, may change but that would need a deprecation)\u001b[39;00m\n\u001b[1;32m    591\u001b[0m         \u001b[38;5;129;01mor\u001b[39;00m ju\u001b[38;5;241m.\u001b[39mblock\u001b[38;5;241m.\u001b[39mdtype\u001b[38;5;241m.\u001b[39mkind \u001b[38;5;129;01min\u001b[39;00m \u001b[38;5;124m\"\u001b[39m\u001b[38;5;124miub\u001b[39m\u001b[38;5;124m\"\u001b[39m\n\u001b[1;32m    592\u001b[0m         \u001b[38;5;28;01mfor\u001b[39;00m ju \u001b[38;5;129;01min\u001b[39;00m join_units\n\u001b[1;32m    593\u001b[0m     )\n\u001b[1;32m    594\u001b[0m     \u001b[38;5;129;01mand\u001b[39;00m\n\u001b[1;32m    595\u001b[0m     \u001b[38;5;66;03m# no blocks that would get missing values (can lead to type upcasts)\u001b[39;00m\n\u001b[1;32m    596\u001b[0m     \u001b[38;5;66;03m# unless we're an extension dtype.\u001b[39;00m\n\u001b[0;32m--> 597\u001b[0m     \u001b[38;5;28mall\u001b[39m(\u001b[38;5;129;01mnot\u001b[39;00m ju\u001b[38;5;241m.\u001b[39mis_na \u001b[38;5;129;01mor\u001b[39;00m ju\u001b[38;5;241m.\u001b[39mblock\u001b[38;5;241m.\u001b[39mis_extension \u001b[38;5;28;01mfor\u001b[39;00m ju \u001b[38;5;129;01min\u001b[39;00m join_units)\n\u001b[1;32m    598\u001b[0m )\n",
      "\u001b[0;31mKeyboardInterrupt\u001b[0m: "
     ]
    }
   ],
   "source": [
    "RPT_ = 3\n",
    "stats_dictionary = {}\n",
    "\n",
    "for ema_length in range(5, 81, 5):\n",
    "    for rsi_length in range(6, 37, 3):\n",
    "        for rsi_ma_length in range(5, 36, 5):\n",
    "            for n1 in range(2, 11, 2):\n",
    "                # RPT = 5\n",
    "                variation = f'EMA:{ema_length}, RSI:{rsi_length}, RSI_MA:{rsi_ma_length}, SL Candles:{n1}'\n",
    "                print(variation)\n",
    "                df = bnf_1min\n",
    "                df = calculate_signals(df, ema_length, rsi_length, rsi_ma_length)\n",
    "                tb = backtest(df, n1)\n",
    "                if len(tb) > 0:\n",
    "                    tb = tb.sort_values(by='Entry_Date')\n",
    "                    portfolio = 10000000\n",
    "                    tb['PnL'] = np.where(\n",
    "                        tb['Trade_Type'].isin(['Long', 'Add_Long']),  # For Long and Add_Long\n",
    "                        tb['Exit_Price'] - tb['Entry_Price'],\n",
    "                        np.where(\n",
    "                            tb['Trade_Type'].isin(['short', 'Add_Short']),  # For Short and Add_Short\n",
    "                            tb['Entry_Price'] - tb['Exit_Price'],\n",
    "                            0  # Default case if Trade_Type is something unexpected\n",
    "                        )\n",
    "                    )\n",
    "                    \n",
    "                    tb['Slippage'] = SLIPPAGE_ * (tb['Entry_Price'] + tb['Exit_Price'])\n",
    "                    tb['PnL w cs'] = tb['PnL'] - tb['Slippage']\n",
    "                    tb['Qty'] = abs(RPT_ / 100 * portfolio / (tb['Entry_Price'] - tb['Initial SL']))\n",
    "                    tb['Profit_Loss INR'] = tb['Qty'] * tb['PnL w cs']\n",
    "                    tb['ROI%'] = tb['Profit_Loss INR'] * 100 / portfolio\n",
    "                    tb['Entry_Date'] = pd.to_datetime(tb['Entry_Date'])\n",
    "                    tb['Trade Year'] = tb['Entry_Date'].dt.year\n",
    "                    # tb_long_only = tb[(tb['Trade_Type'] == 'Long') | (tb['Trade_Type'] == 'Add_Long')].copy()\n",
    "                    # tb_long_only['Cumulative_PnL'] = tb_long_only['PnL w cs'].cumsum()\n",
    "                    # tb_short_only = tb[(tb['Trade_Type'] == 'Short') | (tb['Trade_Type'] == 'Add_Short')].copy()\n",
    "                    # tb_short_only['Cumulative_PnL'] = tb_short_only['PnL w cs'].cumsum()\n",
    "                    \n",
    "                    stats1 = generate_stats(tb, variation)\n",
    "                    for x, y in stats1.items():\n",
    "                        if x > 1:\n",
    "                            # print('Long Only')\n",
    "                            print(pd.DataFrame(y).to_string())\n",
    "                            stats_dictionary[x] = y\n",
    "                        break"
   ]
  },
  {
   "cell_type": "code",
   "execution_count": null,
   "id": "4ce67834-5f8d-40a7-a648-53248d33866e",
   "metadata": {},
   "outputs": [],
   "source": []
  }
 ],
 "metadata": {
  "kernelspec": {
   "display_name": "Python 3 (ipykernel)",
   "language": "python",
   "name": "python3"
  },
  "language_info": {
   "codemirror_mode": {
    "name": "ipython",
    "version": 3
   },
   "file_extension": ".py",
   "mimetype": "text/x-python",
   "name": "python",
   "nbconvert_exporter": "python",
   "pygments_lexer": "ipython3",
   "version": "3.11.6"
  }
 },
 "nbformat": 4,
 "nbformat_minor": 5
}
