{
 "cells": [
  {
   "cell_type": "code",
   "execution_count": 1,
   "id": "41ad6590-fa12-4c8a-ab38-d036ffcf633e",
   "metadata": {
    "execution": {
     "iopub.execute_input": "2024-12-18T20:44:13.102175Z",
     "iopub.status.busy": "2024-12-18T20:44:13.101872Z",
     "iopub.status.idle": "2024-12-18T20:44:14.602730Z",
     "shell.execute_reply": "2024-12-18T20:44:14.601766Z",
     "shell.execute_reply.started": "2024-12-18T20:44:13.102157Z"
    }
   },
   "outputs": [],
   "source": [
    "import asyncio\n",
    "import datetime as dt\n",
    "import math\n",
    "from typing import Literal\n",
    "\n",
    "import matplotlib.pyplot as plt\n",
    "import mplfinance as mpf\n",
    "import numpy as np\n",
    "import pandas as pd\n",
    "import pandas_market_calendars as mcal\n",
    "import plotly.graph_objects as go\n",
    "import polars as pl\n",
    "from dash import Dash, dcc, html\n",
    "from plotly.subplots import make_subplots\n",
    "\n",
    "nse = mcal.get_calendar(\"NSE\")"
   ]
  },
  {
   "cell_type": "code",
   "execution_count": 2,
   "id": "6ea93d75-71a6-4639-90a1-e980a39ba28f",
   "metadata": {
    "execution": {
     "iopub.execute_input": "2024-12-18T20:44:14.604611Z",
     "iopub.status.busy": "2024-12-18T20:44:14.604143Z",
     "iopub.status.idle": "2024-12-18T20:44:14.609053Z",
     "shell.execute_reply": "2024-12-18T20:44:14.608329Z",
     "shell.execute_reply.started": "2024-12-18T20:44:14.604595Z"
    }
   },
   "outputs": [],
   "source": [
    "pd.set_option(\"display.max_rows\", 25_000)\n",
    "pd.set_option(\"display.max_columns\", 500)\n",
    "pl.Config.set_tbl_cols(500)\n",
    "pl.Config.set_tbl_rows(10_000)\n",
    "\n",
    "pd.options.display.float_format = \"{:.4f}\".format"
   ]
  },
  {
   "cell_type": "code",
   "execution_count": 3,
   "id": "9f312110-67fb-44df-8ecd-141e16cacc9d",
   "metadata": {
    "execution": {
     "iopub.execute_input": "2024-12-18T20:44:14.610293Z",
     "iopub.status.busy": "2024-12-18T20:44:14.609986Z",
     "iopub.status.idle": "2024-12-18T20:44:14.894361Z",
     "shell.execute_reply": "2024-12-18T20:44:14.892762Z",
     "shell.execute_reply.started": "2024-12-18T20:44:14.610268Z"
    }
   },
   "outputs": [],
   "source": [
    "import sys\n",
    "\n",
    "sys.path.append(\"..\")\n",
    "from tooling.enums import AssetClass, Index, Spot, StrikeSpread\n",
    "from tooling.fetch import fetch_option_data, fetch_spot_data\n",
    "from tooling.filter import find_atm, option_tool"
   ]
  },
  {
   "cell_type": "code",
   "execution_count": 4,
   "id": "68aef94f-ef1c-4c3d-a930-f8cc3b12f891",
   "metadata": {
    "execution": {
     "iopub.execute_input": "2024-12-18T20:44:14.896149Z",
     "iopub.status.busy": "2024-12-18T20:44:14.895707Z",
     "iopub.status.idle": "2024-12-18T20:44:14.909828Z",
     "shell.execute_reply": "2024-12-18T20:44:14.908952Z",
     "shell.execute_reply.started": "2024-12-18T20:44:14.896122Z"
    }
   },
   "outputs": [],
   "source": [
    "async def get_expiry(f_today, index):\n",
    "\n",
    "    if index == 'bnf':    \n",
    "        if (f_today <= dt.date(2024, 1, 25)) and (f_today >= dt.date(2024, 1, 18)):\n",
    "            f_expiry = dt.date(2024, 1, 25)\n",
    "        elif (f_today <= dt.date(2024, 1, 31)) and (f_today >= dt.date(2024, 1, 26)):\n",
    "            f_expiry = dt.date(2024, 1, 31)\n",
    "        elif (f_today <= dt.date(2024, 2, 22)) and (f_today >= dt.date(2024, 2, 29)):\n",
    "            f_expiry = dt.date(2024, 2, 29)\n",
    "        elif (f_today <= dt.date(2024, 3, 25)) and (f_today >= dt.date(2024, 3, 27)):\n",
    "            f_expiry = dt.date(2024, 2, 27)\n",
    "        elif f_today < dt.date(2023, 9, 1):\n",
    "            days_to_thursday = (3 - f_today.weekday()) % 7\n",
    "            nearest_thursday = f_today + dt.timedelta(days=days_to_thursday)\n",
    "            f_expiry = nearest_thursday\n",
    "            if nse.valid_days(start_date=nearest_thursday, end_date=nearest_thursday).empty:\n",
    "                f_expiry = nearest_thursday - dt.timedelta(days=1)\n",
    "        elif f_today >= dt.date(2023, 9, 1):\n",
    "            if f_today.day < 24:\n",
    "                days_to_wednesday = (2 - f_today.weekday()) % 7\n",
    "                nearest_wednesday = f_today + dt.timedelta(days=days_to_wednesday)\n",
    "                f_expiry = nearest_wednesday\n",
    "                if nse.valid_days(\n",
    "                    start_date=nearest_wednesday, end_date=nearest_wednesday\n",
    "                ).empty:\n",
    "                    f_expiry = nearest_wednesday - dt.timedelta(days=1)\n",
    "            else:\n",
    "                days_to_thursday = (3 - f_today.weekday()) % 7\n",
    "                nearest_thursday = f_today + dt.timedelta(days=days_to_thursday)\n",
    "                f_expiry = nearest_thursday\n",
    "                if nse.valid_days(\n",
    "                    start_date=nearest_thursday, end_date=nearest_thursday\n",
    "                ).empty:\n",
    "                    f_expiry = nearest_thursday - dt.timedelta(days=1)\n",
    "        return f_expiry\n",
    "\n",
    "    elif index == 'nifty':\n",
    "        days_to_thursday = (3 - f_today.weekday()) % 7\n",
    "        nearest_thursday = f_today + dt.timedelta(days=days_to_thursday)\n",
    "        f_expiry = nearest_thursday\n",
    "        if nse.valid_days(start_date=nearest_thursday, end_date=nearest_thursday).empty:\n",
    "            f_expiry = nearest_thursday - dt.timedelta(days=1)\n",
    "        return f_expiry\n",
    "\n",
    "    elif index == 'finnifty' or index == 'fnf':\n",
    "        days_to_thursday = (1 - f_today.weekday()) % 7\n",
    "        nearest_thursday = f_today + dt.timedelta(days=days_to_thursday)\n",
    "        f_expiry = nearest_thursday\n",
    "        if nse.valid_days(start_date=nearest_thursday, end_date=nearest_thursday).empty:\n",
    "            f_expiry = nearest_thursday - dt.timedelta(days=1)\n",
    "        return f_expiry\n",
    "\n",
    "    elif index == 'midcpnifty' or index == 'midcp':\n",
    "        days_to_thursday = (0 - f_today.weekday()) % 7\n",
    "        nearest_thursday = f_today + dt.timedelta(days=days_to_thursday)\n",
    "        f_expiry = nearest_thursday\n",
    "        if nse.valid_days(start_date=nearest_thursday, end_date=nearest_thursday).empty:\n",
    "            f_expiry = nearest_thursday - dt.timedelta(days=1)\n",
    "        return f_expiry\n",
    "\n",
    "async def get_expiry_nifty(f_today):\n",
    "\n",
    "    days_to_thursday = (3 - f_today.weekday()) % 7\n",
    "    nearest_thursday = f_today + dt.timedelta(days=days_to_thursday)\n",
    "    f_expiry = nearest_thursday\n",
    "    if nse.valid_days(start_date=nearest_thursday, end_date=nearest_thursday).empty:\n",
    "        f_expiry = nearest_thursday - dt.timedelta(days=1)\n",
    "    return f_expiry\n",
    "\n",
    "\n",
    "async def get_option_contract_name(symbol, strike, expiry, opt_type):\n",
    "    temp = \"0\"\n",
    "    mth = expiry.month\n",
    "\n",
    "    if (expiry + dt.timedelta(days=7)).month != expiry.month:\n",
    "        date_string = expiry.strftime(\"%y%b\").upper()\n",
    "        return f\"{symbol}{date_string}{strike}{opt_type}\"\n",
    "    else:\n",
    "        if expiry.day <= 9:\n",
    "            date_string = f\"{expiry.year - 2000}{mth}{temp}{expiry.day}\"\n",
    "        else:\n",
    "            date_string = f\"{expiry.year - 2000}{mth}{expiry.day}\"\n",
    "        return f\"{symbol}{date_string}{strike}{opt_type}\"\n",
    "\n",
    "\n",
    "def get_option_contract_name2(symbol, strike, expiry, opt_type):\n",
    "    temp = \"0\"\n",
    "    mth = expiry.month\n",
    "\n",
    "    if (expiry + dt.timedelta(days=7)).month != expiry.month:\n",
    "        date_string = expiry.strftime(\"%y%b\").upper()\n",
    "        return f\"{symbol}{date_string}{strike}{opt_type}\"\n",
    "    else:\n",
    "        if expiry.day <= 9:\n",
    "            date_string = f\"{expiry.year - 2000}{mth}{temp}{expiry.day}\"\n",
    "        else:\n",
    "            date_string = f\"{expiry.year - 2000}{mth}{expiry.day}\"\n",
    "        return f\"{symbol}{date_string}{strike}{opt_type}\""
   ]
  },
  {
   "cell_type": "code",
   "execution_count": 5,
   "id": "d7c8be1c-7a43-41e9-9914-0663935f4b9d",
   "metadata": {
    "execution": {
     "iopub.execute_input": "2024-12-18T20:44:21.522112Z",
     "iopub.status.busy": "2024-12-18T20:44:21.521741Z",
     "iopub.status.idle": "2024-12-18T20:44:21.644203Z",
     "shell.execute_reply": "2024-12-18T20:44:21.643070Z",
     "shell.execute_reply.started": "2024-12-18T20:44:21.522094Z"
    }
   },
   "outputs": [],
   "source": [
    "bnf_1min = pd.read_csv(\"../data/nifty_wave.csv\")\n",
    "bnf_1min[\"datetime\"] = pd.to_datetime(bnf_1min[\"time\"])\n",
    "bnf_1min = bnf_1min[bnf_1min[\"datetime\"].dt.year >= 2017]"
   ]
  },
  {
   "cell_type": "code",
   "execution_count": 6,
   "id": "80baf62e-9b43-45dd-83bf-87c9fd32e741",
   "metadata": {
    "execution": {
     "iopub.execute_input": "2024-12-18T20:44:22.015354Z",
     "iopub.status.busy": "2024-12-18T20:44:22.014742Z",
     "iopub.status.idle": "2024-12-18T20:44:22.044648Z",
     "shell.execute_reply": "2024-12-18T20:44:22.043315Z",
     "shell.execute_reply.started": "2024-12-18T20:44:22.015324Z"
    },
    "scrolled": true
   },
   "outputs": [
    {
     "data": {
      "text/html": [
       "<div>\n",
       "<style scoped>\n",
       "    .dataframe tbody tr th:only-of-type {\n",
       "        vertical-align: middle;\n",
       "    }\n",
       "\n",
       "    .dataframe tbody tr th {\n",
       "        vertical-align: top;\n",
       "    }\n",
       "\n",
       "    .dataframe thead th {\n",
       "        text-align: right;\n",
       "    }\n",
       "</style>\n",
       "<table border=\"1\" class=\"dataframe\">\n",
       "  <thead>\n",
       "    <tr style=\"text-align: right;\">\n",
       "      <th></th>\n",
       "      <th>time</th>\n",
       "      <th>open</th>\n",
       "      <th>high</th>\n",
       "      <th>low</th>\n",
       "      <th>close</th>\n",
       "      <th>MA</th>\n",
       "      <th>Plot</th>\n",
       "      <th>Zero line</th>\n",
       "      <th>MACD Signal</th>\n",
       "      <th>datetime</th>\n",
       "    </tr>\n",
       "  </thead>\n",
       "  <tbody>\n",
       "    <tr>\n",
       "      <th>3497</th>\n",
       "      <td>2017-01-02T09:15:00+05:30</td>\n",
       "      <td>8212.0000</td>\n",
       "      <td>8212.0000</td>\n",
       "      <td>8141.0000</td>\n",
       "      <td>8154.8000</td>\n",
       "      <td>8037.0038</td>\n",
       "      <td>51.3767</td>\n",
       "      <td>0</td>\n",
       "      <td>51.3767</td>\n",
       "      <td>2017-01-02 09:15:00+05:30</td>\n",
       "    </tr>\n",
       "    <tr>\n",
       "      <th>3498</th>\n",
       "      <td>2017-01-02T10:15:00+05:30</td>\n",
       "      <td>8155.1500</td>\n",
       "      <td>8161.8000</td>\n",
       "      <td>8133.8000</td>\n",
       "      <td>8146.8000</td>\n",
       "      <td>8040.7650</td>\n",
       "      <td>41.7773</td>\n",
       "      <td>0</td>\n",
       "      <td>41.7773</td>\n",
       "      <td>2017-01-02 10:15:00+05:30</td>\n",
       "    </tr>\n",
       "    <tr>\n",
       "      <th>3499</th>\n",
       "      <td>2017-01-02T11:15:00+05:30</td>\n",
       "      <td>8146.9500</td>\n",
       "      <td>8159.0500</td>\n",
       "      <td>8137.5000</td>\n",
       "      <td>8150.3000</td>\n",
       "      <td>8044.7463</td>\n",
       "      <td>35.4942</td>\n",
       "      <td>0</td>\n",
       "      <td>35.4942</td>\n",
       "      <td>2017-01-02 11:15:00+05:30</td>\n",
       "    </tr>\n",
       "    <tr>\n",
       "      <th>3500</th>\n",
       "      <td>2017-01-02T12:15:00+05:30</td>\n",
       "      <td>8150.8500</td>\n",
       "      <td>8166.5500</td>\n",
       "      <td>8144.9500</td>\n",
       "      <td>8165.3500</td>\n",
       "      <td>8049.3050</td>\n",
       "      <td>34.1609</td>\n",
       "      <td>0</td>\n",
       "      <td>34.1609</td>\n",
       "      <td>2017-01-02 12:15:00+05:30</td>\n",
       "    </tr>\n",
       "    <tr>\n",
       "      <th>3501</th>\n",
       "      <td>2017-01-02T13:15:00+05:30</td>\n",
       "      <td>8165.8000</td>\n",
       "      <td>8195.6000</td>\n",
       "      <td>8160.8000</td>\n",
       "      <td>8192.4500</td>\n",
       "      <td>8054.3700</td>\n",
       "      <td>38.7247</td>\n",
       "      <td>0</td>\n",
       "      <td>38.7247</td>\n",
       "      <td>2017-01-02 13:15:00+05:30</td>\n",
       "    </tr>\n",
       "  </tbody>\n",
       "</table>\n",
       "</div>"
      ],
      "text/plain": [
       "                           time      open      high       low     close  \\\n",
       "3497  2017-01-02T09:15:00+05:30 8212.0000 8212.0000 8141.0000 8154.8000   \n",
       "3498  2017-01-02T10:15:00+05:30 8155.1500 8161.8000 8133.8000 8146.8000   \n",
       "3499  2017-01-02T11:15:00+05:30 8146.9500 8159.0500 8137.5000 8150.3000   \n",
       "3500  2017-01-02T12:15:00+05:30 8150.8500 8166.5500 8144.9500 8165.3500   \n",
       "3501  2017-01-02T13:15:00+05:30 8165.8000 8195.6000 8160.8000 8192.4500   \n",
       "\n",
       "            MA    Plot  Zero line  MACD Signal                  datetime  \n",
       "3497 8037.0038 51.3767          0      51.3767 2017-01-02 09:15:00+05:30  \n",
       "3498 8040.7650 41.7773          0      41.7773 2017-01-02 10:15:00+05:30  \n",
       "3499 8044.7463 35.4942          0      35.4942 2017-01-02 11:15:00+05:30  \n",
       "3500 8049.3050 34.1609          0      34.1609 2017-01-02 12:15:00+05:30  \n",
       "3501 8054.3700 38.7247          0      38.7247 2017-01-02 13:15:00+05:30  "
      ]
     },
     "execution_count": 6,
     "metadata": {},
     "output_type": "execute_result"
    }
   ],
   "source": [
    "bnf_1min.head()"
   ]
  },
  {
   "cell_type": "code",
   "execution_count": 7,
   "id": "42c6f24e-2ae1-4422-8699-5e0f3c8d8afe",
   "metadata": {
    "execution": {
     "iopub.execute_input": "2024-12-18T20:44:22.680108Z",
     "iopub.status.busy": "2024-12-18T20:44:22.679784Z",
     "iopub.status.idle": "2024-12-18T20:44:22.686468Z",
     "shell.execute_reply": "2024-12-18T20:44:22.685321Z",
     "shell.execute_reply.started": "2024-12-18T20:44:22.680081Z"
    }
   },
   "outputs": [],
   "source": [
    "def resample(\n",
    "    data: pl.DataFrame, timeframe, offset: dt.timedelta | None = None\n",
    ") -> pl.DataFrame:\n",
    "    return (\n",
    "        data.set_sorted(\"datetime\")\n",
    "        .group_by_dynamic(\n",
    "            index_column=\"datetime\",\n",
    "            every=timeframe,\n",
    "            period=timeframe,\n",
    "            label=\"left\",\n",
    "            offset=offset,\n",
    "        )\n",
    "        .agg(\n",
    "            [\n",
    "                pl.col(\"open\").first().alias(\"open\"),\n",
    "                pl.col(\"high\").max().alias(\"high\"),\n",
    "                pl.col(\"low\").min().alias(\"low\"),\n",
    "                pl.col(\"close\").last().alias(\"close\"),\n",
    "                pl.col(\"volume\").sum().alias(\"volume\"),\n",
    "            ]\n",
    "        )\n",
    "    )\n",
    "\n",
    "\n",
    "# ohlc_resampled = resample(pl.DataFrame(bnf_1min), '7d', pd.Timedelta(days=4))\n",
    "# ohlc_resampled"
   ]
  },
  {
   "cell_type": "code",
   "execution_count": 8,
   "id": "639f74e8-93a9-4fba-8ecd-caf5cf8812a9",
   "metadata": {
    "execution": {
     "iopub.execute_input": "2024-12-18T20:44:23.381930Z",
     "iopub.status.busy": "2024-12-18T20:44:23.381664Z",
     "iopub.status.idle": "2024-12-18T20:44:23.404441Z",
     "shell.execute_reply": "2024-12-18T20:44:23.403473Z",
     "shell.execute_reply.started": "2024-12-18T20:44:23.381913Z"
    },
    "scrolled": true
   },
   "outputs": [
    {
     "data": {
      "text/plain": [
       "{datetime.date(2020, 1, 15),\n",
       " datetime.date(2022, 5, 17),\n",
       " datetime.date(2022, 11, 29),\n",
       " datetime.date(2017, 11, 24),\n",
       " datetime.date(2019, 8, 20),\n",
       " datetime.date(2017, 12, 14),\n",
       " datetime.date(2024, 9, 18),\n",
       " datetime.date(2023, 9, 20),\n",
       " datetime.date(2021, 10, 1),\n",
       " datetime.date(2024, 6, 26),\n",
       " datetime.date(2024, 10, 29),\n",
       " datetime.date(2019, 1, 8),\n",
       " datetime.date(2023, 11, 17),\n",
       " datetime.date(2024, 4, 30),\n",
       " datetime.date(2024, 3, 13),\n",
       " datetime.date(2019, 4, 30),\n",
       " datetime.date(2021, 8, 23),\n",
       " datetime.date(2023, 5, 5),\n",
       " datetime.date(2018, 5, 7),\n",
       " datetime.date(2017, 9, 19),\n",
       " datetime.date(2023, 5, 18),\n",
       " datetime.date(2024, 7, 1),\n",
       " datetime.date(2017, 1, 24),\n",
       " datetime.date(2020, 9, 21),\n",
       " datetime.date(2023, 9, 29),\n",
       " datetime.date(2018, 4, 25),\n",
       " datetime.date(2020, 10, 13),\n",
       " datetime.date(2022, 2, 21),\n",
       " datetime.date(2024, 1, 19),\n",
       " datetime.date(2020, 6, 25),\n",
       " datetime.date(2021, 5, 21),\n",
       " datetime.date(2022, 8, 29),\n",
       " datetime.date(2018, 6, 19),\n",
       " datetime.date(2022, 1, 3),\n",
       " datetime.date(2017, 9, 14),\n",
       " datetime.date(2022, 1, 28),\n",
       " datetime.date(2020, 11, 19),\n",
       " datetime.date(2018, 7, 10),\n",
       " datetime.date(2023, 2, 14),\n",
       " datetime.date(2022, 12, 28),\n",
       " datetime.date(2018, 8, 27),\n",
       " datetime.date(2022, 5, 24),\n",
       " datetime.date(2024, 7, 19),\n",
       " datetime.date(2018, 2, 26),\n",
       " datetime.date(2018, 10, 10),\n",
       " datetime.date(2024, 5, 7),\n",
       " datetime.date(2017, 2, 16),\n",
       " datetime.date(2019, 11, 11),\n",
       " datetime.date(2018, 5, 8),\n",
       " datetime.date(2024, 3, 6),\n",
       " datetime.date(2019, 3, 7),\n",
       " datetime.date(2023, 4, 27),\n",
       " datetime.date(2020, 7, 31),\n",
       " datetime.date(2018, 6, 7),\n",
       " datetime.date(2019, 12, 24),\n",
       " datetime.date(2023, 6, 23),\n",
       " datetime.date(2023, 8, 17),\n",
       " datetime.date(2021, 8, 2),\n",
       " datetime.date(2018, 9, 11),\n",
       " datetime.date(2022, 6, 6),\n",
       " datetime.date(2020, 8, 6),\n",
       " datetime.date(2019, 5, 3),\n",
       " datetime.date(2018, 2, 6),\n",
       " datetime.date(2018, 4, 3),\n",
       " datetime.date(2023, 11, 15),\n",
       " datetime.date(2024, 1, 9),\n",
       " datetime.date(2019, 6, 17),\n",
       " datetime.date(2019, 8, 9),\n",
       " datetime.date(2023, 9, 13),\n",
       " datetime.date(2022, 5, 20),\n",
       " datetime.date(2019, 5, 27),\n",
       " datetime.date(2021, 7, 7),\n",
       " datetime.date(2021, 6, 21),\n",
       " datetime.date(2019, 11, 21),\n",
       " datetime.date(2021, 2, 26),\n",
       " datetime.date(2024, 2, 9),\n",
       " datetime.date(2022, 5, 25),\n",
       " datetime.date(2021, 7, 16),\n",
       " datetime.date(2022, 11, 16),\n",
       " datetime.date(2023, 12, 8),\n",
       " datetime.date(2018, 4, 5),\n",
       " datetime.date(2018, 11, 26),\n",
       " datetime.date(2021, 2, 22),\n",
       " datetime.date(2024, 6, 3),\n",
       " datetime.date(2018, 9, 12),\n",
       " datetime.date(2022, 11, 7),\n",
       " datetime.date(2023, 1, 5),\n",
       " datetime.date(2022, 6, 10),\n",
       " datetime.date(2018, 2, 1),\n",
       " datetime.date(2024, 4, 18),\n",
       " datetime.date(2024, 11, 8),\n",
       " datetime.date(2018, 5, 30),\n",
       " datetime.date(2021, 6, 23),\n",
       " datetime.date(2019, 6, 21),\n",
       " datetime.date(2021, 2, 17),\n",
       " datetime.date(2017, 2, 21),\n",
       " datetime.date(2019, 5, 22),\n",
       " datetime.date(2020, 1, 1),\n",
       " datetime.date(2019, 4, 18),\n",
       " datetime.date(2022, 3, 31),\n",
       " datetime.date(2019, 3, 25),\n",
       " datetime.date(2023, 5, 24),\n",
       " datetime.date(2020, 10, 21),\n",
       " datetime.date(2021, 10, 6),\n",
       " datetime.date(2017, 8, 2),\n",
       " datetime.date(2020, 3, 25),\n",
       " datetime.date(2020, 10, 16),\n",
       " datetime.date(2021, 10, 19),\n",
       " datetime.date(2023, 7, 31),\n",
       " datetime.date(2021, 10, 27),\n",
       " datetime.date(2024, 11, 1),\n",
       " datetime.date(2021, 4, 26),\n",
       " datetime.date(2022, 3, 4),\n",
       " datetime.date(2024, 9, 11),\n",
       " datetime.date(2017, 5, 19),\n",
       " datetime.date(2017, 12, 6),\n",
       " datetime.date(2023, 2, 10),\n",
       " datetime.date(2017, 7, 6),\n",
       " datetime.date(2020, 11, 26),\n",
       " datetime.date(2023, 4, 25),\n",
       " datetime.date(2020, 1, 16),\n",
       " datetime.date(2019, 7, 29),\n",
       " datetime.date(2021, 9, 2),\n",
       " datetime.date(2020, 2, 27),\n",
       " datetime.date(2021, 2, 24),\n",
       " datetime.date(2022, 6, 27),\n",
       " datetime.date(2020, 11, 10),\n",
       " datetime.date(2021, 4, 19),\n",
       " datetime.date(2024, 9, 25),\n",
       " datetime.date(2022, 1, 31),\n",
       " datetime.date(2022, 4, 26),\n",
       " datetime.date(2021, 11, 30),\n",
       " datetime.date(2021, 12, 2),\n",
       " datetime.date(2023, 7, 18),\n",
       " datetime.date(2019, 2, 26),\n",
       " datetime.date(2020, 12, 7),\n",
       " datetime.date(2023, 11, 30),\n",
       " datetime.date(2022, 12, 5),\n",
       " datetime.date(2018, 4, 13),\n",
       " datetime.date(2024, 3, 11),\n",
       " datetime.date(2019, 5, 7),\n",
       " datetime.date(2020, 10, 12),\n",
       " datetime.date(2020, 12, 28),\n",
       " datetime.date(2022, 4, 29),\n",
       " datetime.date(2017, 2, 28),\n",
       " datetime.date(2024, 3, 4),\n",
       " datetime.date(2017, 5, 16),\n",
       " datetime.date(2017, 11, 21),\n",
       " datetime.date(2018, 9, 6),\n",
       " datetime.date(2017, 3, 14),\n",
       " datetime.date(2024, 2, 21),\n",
       " datetime.date(2023, 6, 6),\n",
       " datetime.date(2024, 4, 9),\n",
       " datetime.date(2019, 7, 16),\n",
       " datetime.date(2023, 11, 28),\n",
       " datetime.date(2021, 7, 1),\n",
       " datetime.date(2017, 12, 18),\n",
       " datetime.date(2022, 9, 6),\n",
       " datetime.date(2017, 2, 6),\n",
       " datetime.date(2022, 12, 12),\n",
       " datetime.date(2019, 11, 19),\n",
       " datetime.date(2018, 4, 10),\n",
       " datetime.date(2024, 11, 4),\n",
       " datetime.date(2023, 1, 30),\n",
       " datetime.date(2023, 1, 19),\n",
       " datetime.date(2022, 12, 13),\n",
       " datetime.date(2024, 11, 18),\n",
       " datetime.date(2018, 10, 30),\n",
       " datetime.date(2017, 8, 16),\n",
       " datetime.date(2021, 8, 5),\n",
       " datetime.date(2019, 2, 13),\n",
       " datetime.date(2024, 5, 13),\n",
       " datetime.date(2020, 10, 14),\n",
       " datetime.date(2023, 2, 3),\n",
       " datetime.date(2018, 6, 15),\n",
       " datetime.date(2023, 11, 24),\n",
       " datetime.date(2024, 1, 29),\n",
       " datetime.date(2024, 4, 23),\n",
       " datetime.date(2020, 2, 10),\n",
       " datetime.date(2022, 2, 2),\n",
       " datetime.date(2021, 11, 12),\n",
       " datetime.date(2018, 3, 23),\n",
       " datetime.date(2021, 4, 30),\n",
       " datetime.date(2023, 6, 7),\n",
       " datetime.date(2024, 10, 16),\n",
       " datetime.date(2024, 11, 26),\n",
       " datetime.date(2021, 4, 9),\n",
       " datetime.date(2017, 2, 20),\n",
       " datetime.date(2019, 2, 1),\n",
       " datetime.date(2021, 9, 8),\n",
       " datetime.date(2024, 7, 18),\n",
       " datetime.date(2017, 3, 8),\n",
       " datetime.date(2019, 3, 5),\n",
       " datetime.date(2022, 1, 19),\n",
       " datetime.date(2018, 7, 25),\n",
       " datetime.date(2021, 3, 3),\n",
       " datetime.date(2023, 4, 17),\n",
       " datetime.date(2019, 7, 25),\n",
       " datetime.date(2023, 5, 3),\n",
       " datetime.date(2019, 6, 12),\n",
       " datetime.date(2022, 8, 12),\n",
       " datetime.date(2017, 10, 12),\n",
       " datetime.date(2022, 8, 22),\n",
       " datetime.date(2017, 6, 1),\n",
       " datetime.date(2018, 10, 4),\n",
       " datetime.date(2020, 5, 19),\n",
       " datetime.date(2019, 12, 30),\n",
       " datetime.date(2022, 8, 26),\n",
       " datetime.date(2021, 12, 30),\n",
       " datetime.date(2021, 9, 16),\n",
       " datetime.date(2017, 7, 21),\n",
       " datetime.date(2021, 3, 8),\n",
       " datetime.date(2024, 11, 21),\n",
       " datetime.date(2024, 3, 19),\n",
       " datetime.date(2017, 10, 13),\n",
       " datetime.date(2022, 7, 7),\n",
       " datetime.date(2018, 5, 18),\n",
       " datetime.date(2018, 10, 24),\n",
       " datetime.date(2020, 10, 28),\n",
       " datetime.date(2019, 7, 24),\n",
       " datetime.date(2019, 9, 5),\n",
       " datetime.date(2019, 8, 1),\n",
       " datetime.date(2022, 7, 26),\n",
       " datetime.date(2019, 1, 18),\n",
       " datetime.date(2020, 7, 22),\n",
       " datetime.date(2022, 9, 19),\n",
       " datetime.date(2017, 11, 6),\n",
       " datetime.date(2020, 1, 17),\n",
       " datetime.date(2017, 7, 10),\n",
       " datetime.date(2019, 10, 30),\n",
       " datetime.date(2020, 1, 24),\n",
       " datetime.date(2017, 12, 5),\n",
       " datetime.date(2019, 1, 14),\n",
       " datetime.date(2017, 11, 3),\n",
       " datetime.date(2018, 3, 26),\n",
       " datetime.date(2017, 11, 27),\n",
       " datetime.date(2018, 10, 1),\n",
       " datetime.date(2022, 9, 16),\n",
       " datetime.date(2019, 10, 14),\n",
       " datetime.date(2024, 6, 24),\n",
       " datetime.date(2023, 2, 24),\n",
       " datetime.date(2022, 7, 22),\n",
       " datetime.date(2018, 12, 24),\n",
       " datetime.date(2024, 2, 8),\n",
       " datetime.date(2018, 10, 5),\n",
       " datetime.date(2020, 2, 28),\n",
       " datetime.date(2020, 8, 24),\n",
       " datetime.date(2018, 7, 27),\n",
       " datetime.date(2024, 1, 24),\n",
       " datetime.date(2024, 7, 16),\n",
       " datetime.date(2021, 5, 17),\n",
       " datetime.date(2022, 11, 14),\n",
       " datetime.date(2020, 9, 18),\n",
       " datetime.date(2018, 3, 5),\n",
       " datetime.date(2023, 4, 12),\n",
       " datetime.date(2023, 3, 16),\n",
       " datetime.date(2017, 8, 29),\n",
       " datetime.date(2020, 2, 19),\n",
       " datetime.date(2017, 4, 20),\n",
       " datetime.date(2020, 2, 26),\n",
       " datetime.date(2017, 10, 26),\n",
       " datetime.date(2023, 7, 14),\n",
       " datetime.date(2023, 12, 28),\n",
       " datetime.date(2020, 1, 23),\n",
       " datetime.date(2020, 9, 29),\n",
       " datetime.date(2017, 1, 31),\n",
       " datetime.date(2019, 12, 23),\n",
       " datetime.date(2017, 7, 7),\n",
       " datetime.date(2018, 10, 12),\n",
       " datetime.date(2024, 1, 10),\n",
       " datetime.date(2019, 6, 11),\n",
       " datetime.date(2022, 3, 14),\n",
       " datetime.date(2024, 9, 13),\n",
       " datetime.date(2023, 1, 10),\n",
       " datetime.date(2019, 1, 28),\n",
       " datetime.date(2022, 4, 13),\n",
       " datetime.date(2017, 3, 30),\n",
       " datetime.date(2021, 6, 3),\n",
       " datetime.date(2018, 4, 23),\n",
       " datetime.date(2024, 5, 24),\n",
       " datetime.date(2021, 1, 11),\n",
       " datetime.date(2021, 11, 10),\n",
       " datetime.date(2024, 8, 30),\n",
       " datetime.date(2024, 3, 21),\n",
       " datetime.date(2020, 1, 30),\n",
       " datetime.date(2020, 4, 1),\n",
       " datetime.date(2023, 9, 14),\n",
       " datetime.date(2021, 6, 22),\n",
       " datetime.date(2023, 6, 27),\n",
       " datetime.date(2021, 7, 5),\n",
       " datetime.date(2020, 5, 11),\n",
       " datetime.date(2024, 11, 19),\n",
       " datetime.date(2018, 8, 29),\n",
       " datetime.date(2017, 12, 7),\n",
       " datetime.date(2017, 3, 3),\n",
       " datetime.date(2020, 12, 14),\n",
       " datetime.date(2019, 3, 13),\n",
       " datetime.date(2023, 5, 17),\n",
       " datetime.date(2020, 3, 18),\n",
       " datetime.date(2019, 7, 5),\n",
       " datetime.date(2024, 12, 2),\n",
       " datetime.date(2019, 8, 29),\n",
       " datetime.date(2024, 9, 19),\n",
       " datetime.date(2018, 7, 13),\n",
       " datetime.date(2021, 12, 8),\n",
       " datetime.date(2020, 12, 18),\n",
       " datetime.date(2019, 11, 20),\n",
       " datetime.date(2019, 9, 12),\n",
       " datetime.date(2019, 1, 7),\n",
       " datetime.date(2018, 2, 7),\n",
       " datetime.date(2022, 8, 30),\n",
       " datetime.date(2017, 3, 6),\n",
       " datetime.date(2017, 8, 1),\n",
       " datetime.date(2020, 12, 21),\n",
       " datetime.date(2019, 11, 8),\n",
       " datetime.date(2024, 5, 17),\n",
       " datetime.date(2022, 12, 19),\n",
       " datetime.date(2018, 10, 23),\n",
       " datetime.date(2021, 11, 8),\n",
       " datetime.date(2023, 1, 20),\n",
       " datetime.date(2021, 4, 28),\n",
       " datetime.date(2019, 5, 8),\n",
       " datetime.date(2024, 9, 4),\n",
       " datetime.date(2018, 7, 26),\n",
       " datetime.date(2020, 4, 15),\n",
       " datetime.date(2021, 3, 18),\n",
       " datetime.date(2018, 1, 8),\n",
       " datetime.date(2020, 5, 6),\n",
       " datetime.date(2017, 4, 28),\n",
       " datetime.date(2022, 10, 3),\n",
       " datetime.date(2019, 5, 31),\n",
       " datetime.date(2017, 9, 27),\n",
       " datetime.date(2019, 3, 6),\n",
       " datetime.date(2020, 9, 1),\n",
       " datetime.date(2021, 8, 30),\n",
       " datetime.date(2022, 8, 3),\n",
       " datetime.date(2020, 6, 17),\n",
       " datetime.date(2017, 12, 29),\n",
       " datetime.date(2020, 1, 2),\n",
       " datetime.date(2022, 12, 30),\n",
       " datetime.date(2018, 9, 3),\n",
       " datetime.date(2020, 9, 2),\n",
       " datetime.date(2021, 5, 3),\n",
       " datetime.date(2019, 7, 18),\n",
       " datetime.date(2022, 9, 21),\n",
       " datetime.date(2017, 5, 25),\n",
       " datetime.date(2017, 4, 5),\n",
       " datetime.date(2024, 1, 15),\n",
       " datetime.date(2018, 3, 14),\n",
       " datetime.date(2019, 7, 26),\n",
       " datetime.date(2021, 7, 30),\n",
       " datetime.date(2017, 4, 3),\n",
       " datetime.date(2022, 3, 8),\n",
       " datetime.date(2024, 7, 25),\n",
       " datetime.date(2024, 10, 7),\n",
       " datetime.date(2022, 10, 14),\n",
       " datetime.date(2020, 7, 15),\n",
       " datetime.date(2020, 1, 22),\n",
       " datetime.date(2023, 3, 15),\n",
       " datetime.date(2024, 2, 22),\n",
       " datetime.date(2022, 1, 14),\n",
       " datetime.date(2022, 3, 23),\n",
       " datetime.date(2019, 11, 27),\n",
       " datetime.date(2018, 6, 1),\n",
       " datetime.date(2018, 1, 24),\n",
       " datetime.date(2017, 9, 4),\n",
       " datetime.date(2020, 4, 27),\n",
       " datetime.date(2023, 11, 7),\n",
       " datetime.date(2024, 11, 29),\n",
       " datetime.date(2021, 10, 14),\n",
       " datetime.date(2020, 7, 16),\n",
       " datetime.date(2023, 10, 31),\n",
       " datetime.date(2024, 10, 21),\n",
       " datetime.date(2022, 11, 11),\n",
       " datetime.date(2022, 9, 9),\n",
       " datetime.date(2019, 1, 11),\n",
       " datetime.date(2018, 4, 24),\n",
       " datetime.date(2018, 3, 12),\n",
       " datetime.date(2020, 7, 6),\n",
       " datetime.date(2021, 9, 15),\n",
       " datetime.date(2017, 11, 17),\n",
       " datetime.date(2017, 3, 27),\n",
       " datetime.date(2021, 10, 26),\n",
       " datetime.date(2019, 4, 8),\n",
       " datetime.date(2022, 8, 5),\n",
       " datetime.date(2017, 12, 22),\n",
       " datetime.date(2019, 9, 6),\n",
       " datetime.date(2018, 3, 1),\n",
       " datetime.date(2020, 2, 14),\n",
       " datetime.date(2023, 3, 23),\n",
       " datetime.date(2021, 10, 21),\n",
       " datetime.date(2023, 2, 20),\n",
       " datetime.date(2023, 3, 14),\n",
       " datetime.date(2022, 6, 21),\n",
       " datetime.date(2020, 4, 22),\n",
       " datetime.date(2024, 2, 13),\n",
       " datetime.date(2020, 1, 9),\n",
       " datetime.date(2017, 12, 12),\n",
       " datetime.date(2020, 10, 30),\n",
       " datetime.date(2023, 7, 13),\n",
       " datetime.date(2024, 5, 30),\n",
       " datetime.date(2022, 12, 21),\n",
       " datetime.date(2024, 1, 4),\n",
       " datetime.date(2021, 1, 6),\n",
       " datetime.date(2019, 2, 14),\n",
       " datetime.date(2017, 3, 15),\n",
       " datetime.date(2018, 4, 19),\n",
       " datetime.date(2017, 3, 23),\n",
       " datetime.date(2018, 2, 23),\n",
       " datetime.date(2023, 6, 22),\n",
       " datetime.date(2024, 7, 3),\n",
       " datetime.date(2020, 1, 3),\n",
       " datetime.date(2019, 2, 21),\n",
       " datetime.date(2020, 12, 23),\n",
       " datetime.date(2021, 3, 15),\n",
       " datetime.date(2021, 9, 27),\n",
       " datetime.date(2021, 11, 26),\n",
       " datetime.date(2022, 12, 29),\n",
       " datetime.date(2019, 7, 17),\n",
       " datetime.date(2019, 7, 31),\n",
       " datetime.date(2024, 2, 29),\n",
       " datetime.date(2018, 6, 22),\n",
       " datetime.date(2021, 1, 12),\n",
       " datetime.date(2024, 10, 14),\n",
       " datetime.date(2017, 4, 19),\n",
       " datetime.date(2019, 11, 29),\n",
       " datetime.date(2020, 5, 27),\n",
       " datetime.date(2021, 7, 12),\n",
       " datetime.date(2018, 8, 24),\n",
       " datetime.date(2022, 9, 20),\n",
       " datetime.date(2018, 5, 2),\n",
       " datetime.date(2023, 12, 5),\n",
       " datetime.date(2023, 4, 24),\n",
       " datetime.date(2024, 8, 23),\n",
       " datetime.date(2021, 8, 16),\n",
       " datetime.date(2021, 11, 23),\n",
       " datetime.date(2020, 8, 18),\n",
       " datetime.date(2023, 7, 10),\n",
       " datetime.date(2024, 1, 25),\n",
       " datetime.date(2019, 2, 22),\n",
       " datetime.date(2020, 6, 29),\n",
       " datetime.date(2021, 1, 15),\n",
       " datetime.date(2022, 11, 17),\n",
       " datetime.date(2021, 11, 25),\n",
       " datetime.date(2018, 8, 28),\n",
       " datetime.date(2019, 1, 16),\n",
       " datetime.date(2019, 12, 16),\n",
       " datetime.date(2022, 3, 30),\n",
       " datetime.date(2024, 8, 19),\n",
       " datetime.date(2021, 6, 24),\n",
       " datetime.date(2023, 10, 4),\n",
       " datetime.date(2022, 9, 29),\n",
       " datetime.date(2018, 7, 30),\n",
       " datetime.date(2019, 12, 18),\n",
       " datetime.date(2017, 3, 16),\n",
       " datetime.date(2024, 3, 1),\n",
       " datetime.date(2020, 8, 7),\n",
       " datetime.date(2020, 7, 24),\n",
       " datetime.date(2023, 6, 5),\n",
       " datetime.date(2020, 4, 21),\n",
       " datetime.date(2018, 10, 29),\n",
       " datetime.date(2017, 7, 24),\n",
       " datetime.date(2023, 5, 19),\n",
       " datetime.date(2021, 12, 14),\n",
       " datetime.date(2018, 2, 12),\n",
       " datetime.date(2021, 3, 22),\n",
       " datetime.date(2021, 8, 4),\n",
       " datetime.date(2018, 9, 25),\n",
       " datetime.date(2021, 9, 7),\n",
       " datetime.date(2024, 8, 28),\n",
       " datetime.date(2021, 6, 11),\n",
       " datetime.date(2017, 4, 24),\n",
       " datetime.date(2020, 1, 20),\n",
       " datetime.date(2022, 7, 5),\n",
       " datetime.date(2021, 9, 23),\n",
       " datetime.date(2017, 3, 24),\n",
       " datetime.date(2020, 11, 5),\n",
       " datetime.date(2021, 1, 1),\n",
       " datetime.date(2022, 10, 19),\n",
       " datetime.date(2023, 4, 28),\n",
       " datetime.date(2018, 1, 29),\n",
       " datetime.date(2019, 8, 19),\n",
       " datetime.date(2017, 6, 19),\n",
       " datetime.date(2022, 1, 21),\n",
       " datetime.date(2019, 2, 7),\n",
       " datetime.date(2023, 8, 3),\n",
       " datetime.date(2018, 5, 31),\n",
       " datetime.date(2023, 11, 29),\n",
       " datetime.date(2022, 5, 6),\n",
       " datetime.date(2019, 7, 15),\n",
       " datetime.date(2024, 5, 23),\n",
       " datetime.date(2017, 1, 9),\n",
       " datetime.date(2023, 10, 25),\n",
       " datetime.date(2019, 5, 16),\n",
       " datetime.date(2019, 1, 24),\n",
       " datetime.date(2018, 8, 10),\n",
       " datetime.date(2024, 5, 15),\n",
       " datetime.date(2023, 8, 18),\n",
       " datetime.date(2022, 3, 21),\n",
       " datetime.date(2021, 3, 4),\n",
       " datetime.date(2017, 8, 10),\n",
       " datetime.date(2022, 11, 22),\n",
       " datetime.date(2024, 7, 10),\n",
       " datetime.date(2018, 6, 21),\n",
       " datetime.date(2017, 9, 12),\n",
       " datetime.date(2017, 10, 24),\n",
       " datetime.date(2019, 10, 10),\n",
       " datetime.date(2021, 8, 13),\n",
       " datetime.date(2021, 2, 15),\n",
       " datetime.date(2023, 4, 11),\n",
       " datetime.date(2020, 10, 8),\n",
       " datetime.date(2021, 2, 11),\n",
       " datetime.date(2018, 10, 17),\n",
       " datetime.date(2020, 2, 11),\n",
       " datetime.date(2021, 4, 5),\n",
       " datetime.date(2018, 7, 9),\n",
       " datetime.date(2019, 12, 11),\n",
       " datetime.date(2024, 7, 12),\n",
       " datetime.date(2019, 12, 31),\n",
       " datetime.date(2020, 9, 9),\n",
       " datetime.date(2020, 12, 11),\n",
       " datetime.date(2018, 12, 4),\n",
       " datetime.date(2019, 2, 11),\n",
       " datetime.date(2019, 8, 27),\n",
       " datetime.date(2018, 10, 9),\n",
       " datetime.date(2024, 1, 8),\n",
       " datetime.date(2017, 11, 22),\n",
       " datetime.date(2024, 9, 9),\n",
       " datetime.date(2022, 5, 13),\n",
       " datetime.date(2024, 9, 2),\n",
       " datetime.date(2020, 3, 26),\n",
       " datetime.date(2020, 1, 21),\n",
       " datetime.date(2019, 12, 13),\n",
       " datetime.date(2023, 3, 13),\n",
       " datetime.date(2021, 11, 1),\n",
       " datetime.date(2024, 1, 16),\n",
       " datetime.date(2024, 10, 1),\n",
       " datetime.date(2024, 11, 22),\n",
       " datetime.date(2023, 10, 26),\n",
       " datetime.date(2023, 9, 15),\n",
       " datetime.date(2023, 9, 26),\n",
       " datetime.date(2017, 3, 9),\n",
       " datetime.date(2021, 11, 2),\n",
       " datetime.date(2019, 10, 3),\n",
       " datetime.date(2021, 8, 11),\n",
       " datetime.date(2021, 3, 16),\n",
       " datetime.date(2021, 7, 22),\n",
       " datetime.date(2024, 8, 9),\n",
       " datetime.date(2023, 11, 8),\n",
       " datetime.date(2024, 10, 28),\n",
       " datetime.date(2017, 1, 25),\n",
       " datetime.date(2019, 8, 13),\n",
       " datetime.date(2024, 2, 19),\n",
       " datetime.date(2018, 5, 28),\n",
       " datetime.date(2021, 3, 9),\n",
       " datetime.date(2018, 2, 19),\n",
       " datetime.date(2023, 10, 30),\n",
       " datetime.date(2022, 4, 7),\n",
       " datetime.date(2021, 4, 12),\n",
       " datetime.date(2020, 11, 17),\n",
       " datetime.date(2024, 7, 29),\n",
       " datetime.date(2018, 11, 6),\n",
       " datetime.date(2022, 4, 20),\n",
       " datetime.date(2018, 6, 5),\n",
       " datetime.date(2017, 1, 2),\n",
       " datetime.date(2024, 1, 3),\n",
       " datetime.date(2022, 10, 11),\n",
       " datetime.date(2019, 12, 2),\n",
       " datetime.date(2023, 1, 3),\n",
       " datetime.date(2020, 11, 6),\n",
       " datetime.date(2017, 10, 3),\n",
       " datetime.date(2023, 7, 7),\n",
       " datetime.date(2021, 6, 4),\n",
       " datetime.date(2023, 3, 20),\n",
       " datetime.date(2017, 2, 9),\n",
       " datetime.date(2019, 1, 9),\n",
       " datetime.date(2024, 12, 5),\n",
       " datetime.date(2023, 5, 4),\n",
       " datetime.date(2017, 5, 15),\n",
       " datetime.date(2021, 2, 5),\n",
       " datetime.date(2022, 10, 25),\n",
       " datetime.date(2019, 3, 29),\n",
       " datetime.date(2019, 5, 2),\n",
       " datetime.date(2022, 5, 30),\n",
       " datetime.date(2022, 4, 4),\n",
       " datetime.date(2020, 9, 14),\n",
       " datetime.date(2017, 11, 9),\n",
       " datetime.date(2019, 3, 27),\n",
       " datetime.date(2022, 11, 28),\n",
       " datetime.date(2017, 2, 15),\n",
       " datetime.date(2022, 4, 28),\n",
       " datetime.date(2024, 6, 4),\n",
       " datetime.date(2021, 11, 18),\n",
       " datetime.date(2020, 3, 30),\n",
       " datetime.date(2020, 9, 17),\n",
       " datetime.date(2020, 4, 23),\n",
       " datetime.date(2021, 8, 24),\n",
       " datetime.date(2024, 11, 13),\n",
       " datetime.date(2020, 1, 6),\n",
       " datetime.date(2021, 7, 6),\n",
       " datetime.date(2022, 5, 9),\n",
       " datetime.date(2017, 12, 4),\n",
       " datetime.date(2019, 7, 23),\n",
       " datetime.date(2022, 8, 1),\n",
       " datetime.date(2018, 5, 11),\n",
       " datetime.date(2019, 11, 26),\n",
       " datetime.date(2022, 2, 9),\n",
       " datetime.date(2022, 2, 4),\n",
       " datetime.date(2021, 8, 26),\n",
       " datetime.date(2017, 6, 22),\n",
       " datetime.date(2017, 1, 20),\n",
       " datetime.date(2024, 4, 15),\n",
       " datetime.date(2018, 6, 8),\n",
       " datetime.date(2017, 10, 17),\n",
       " datetime.date(2019, 9, 23),\n",
       " datetime.date(2022, 3, 10),\n",
       " datetime.date(2023, 2, 8),\n",
       " datetime.date(2018, 3, 13),\n",
       " datetime.date(2023, 11, 12),\n",
       " datetime.date(2020, 7, 30),\n",
       " datetime.date(2022, 10, 18),\n",
       " datetime.date(2021, 2, 9),\n",
       " datetime.date(2022, 6, 16),\n",
       " datetime.date(2022, 1, 7),\n",
       " datetime.date(2022, 8, 2),\n",
       " datetime.date(2023, 11, 21),\n",
       " datetime.date(2022, 10, 24),\n",
       " datetime.date(2019, 8, 23),\n",
       " datetime.date(2020, 3, 17),\n",
       " datetime.date(2020, 5, 13),\n",
       " datetime.date(2021, 8, 27),\n",
       " datetime.date(2023, 6, 9),\n",
       " datetime.date(2017, 3, 17),\n",
       " datetime.date(2019, 5, 30),\n",
       " datetime.date(2020, 11, 3),\n",
       " datetime.date(2023, 12, 21),\n",
       " datetime.date(2018, 3, 28),\n",
       " datetime.date(2021, 6, 16),\n",
       " datetime.date(2020, 11, 25),\n",
       " datetime.date(2023, 7, 5),\n",
       " datetime.date(2021, 1, 25),\n",
       " datetime.date(2021, 5, 7),\n",
       " datetime.date(2017, 11, 30),\n",
       " datetime.date(2019, 9, 25),\n",
       " datetime.date(2022, 8, 18),\n",
       " datetime.date(2024, 4, 29),\n",
       " datetime.date(2018, 3, 21),\n",
       " datetime.date(2023, 12, 18),\n",
       " datetime.date(2022, 7, 14),\n",
       " datetime.date(2024, 6, 5),\n",
       " datetime.date(2017, 3, 31),\n",
       " datetime.date(2020, 2, 3),\n",
       " datetime.date(2024, 10, 3),\n",
       " datetime.date(2023, 8, 22),\n",
       " datetime.date(2019, 11, 14),\n",
       " datetime.date(2021, 1, 20),\n",
       " datetime.date(2019, 10, 31),\n",
       " datetime.date(2022, 7, 11),\n",
       " datetime.date(2021, 7, 13),\n",
       " datetime.date(2024, 3, 27),\n",
       " datetime.date(2022, 5, 26),\n",
       " datetime.date(2023, 8, 25),\n",
       " datetime.date(2017, 6, 27),\n",
       " datetime.date(2023, 12, 22),\n",
       " datetime.date(2023, 10, 3),\n",
       " datetime.date(2020, 1, 7),\n",
       " datetime.date(2024, 4, 25),\n",
       " datetime.date(2020, 8, 25),\n",
       " datetime.date(2019, 3, 22),\n",
       " datetime.date(2019, 12, 3),\n",
       " datetime.date(2024, 10, 10),\n",
       " datetime.date(2023, 7, 24),\n",
       " datetime.date(2021, 3, 10),\n",
       " datetime.date(2018, 2, 5),\n",
       " datetime.date(2017, 6, 30),\n",
       " datetime.date(2021, 2, 2),\n",
       " datetime.date(2022, 3, 25),\n",
       " datetime.date(2019, 7, 8),\n",
       " datetime.date(2021, 6, 2),\n",
       " datetime.date(2017, 11, 1),\n",
       " datetime.date(2022, 1, 6),\n",
       " datetime.date(2022, 12, 22),\n",
       " datetime.date(2021, 2, 1),\n",
       " datetime.date(2021, 8, 10),\n",
       " datetime.date(2017, 9, 7),\n",
       " datetime.date(2018, 1, 17),\n",
       " datetime.date(2022, 9, 15),\n",
       " datetime.date(2024, 8, 7),\n",
       " datetime.date(2019, 3, 19),\n",
       " datetime.date(2023, 8, 2),\n",
       " datetime.date(2021, 6, 18),\n",
       " datetime.date(2023, 2, 17),\n",
       " datetime.date(2018, 1, 1),\n",
       " datetime.date(2017, 6, 15),\n",
       " datetime.date(2017, 3, 20),\n",
       " datetime.date(2017, 9, 26),\n",
       " datetime.date(2022, 11, 9),\n",
       " datetime.date(2020, 3, 24),\n",
       " datetime.date(2022, 6, 8),\n",
       " datetime.date(2023, 2, 23),\n",
       " datetime.date(2018, 2, 22),\n",
       " datetime.date(2020, 1, 13),\n",
       " datetime.date(2021, 1, 18),\n",
       " datetime.date(2021, 7, 20),\n",
       " datetime.date(2020, 7, 29),\n",
       " datetime.date(2024, 6, 13),\n",
       " datetime.date(2017, 8, 4),\n",
       " datetime.date(2023, 3, 24),\n",
       " datetime.date(2022, 7, 12),\n",
       " datetime.date(2020, 12, 9),\n",
       " datetime.date(2022, 5, 10),\n",
       " datetime.date(2023, 10, 9),\n",
       " datetime.date(2022, 5, 19),\n",
       " datetime.date(2018, 9, 28),\n",
       " datetime.date(2018, 1, 11),\n",
       " datetime.date(2019, 7, 9),\n",
       " datetime.date(2018, 5, 23),\n",
       " datetime.date(2022, 4, 18),\n",
       " datetime.date(2023, 9, 28),\n",
       " datetime.date(2023, 9, 18),\n",
       " datetime.date(2018, 1, 2),\n",
       " datetime.date(2020, 2, 24),\n",
       " datetime.date(2019, 7, 1),\n",
       " datetime.date(2018, 8, 30),\n",
       " datetime.date(2018, 12, 19),\n",
       " datetime.date(2023, 11, 10),\n",
       " datetime.date(2019, 11, 18),\n",
       " datetime.date(2017, 4, 6),\n",
       " datetime.date(2018, 11, 20),\n",
       " datetime.date(2019, 4, 1),\n",
       " datetime.date(2020, 4, 30),\n",
       " datetime.date(2022, 12, 2),\n",
       " datetime.date(2019, 5, 17),\n",
       " datetime.date(2017, 4, 12),\n",
       " datetime.date(2019, 8, 6),\n",
       " datetime.date(2021, 3, 31),\n",
       " datetime.date(2017, 8, 31),\n",
       " datetime.date(2023, 7, 4),\n",
       " datetime.date(2020, 12, 29),\n",
       " datetime.date(2019, 8, 14),\n",
       " datetime.date(2022, 2, 15),\n",
       " datetime.date(2019, 6, 10),\n",
       " datetime.date(2019, 3, 26),\n",
       " datetime.date(2023, 8, 28),\n",
       " datetime.date(2018, 7, 5),\n",
       " datetime.date(2020, 1, 31),\n",
       " datetime.date(2021, 10, 18),\n",
       " datetime.date(2020, 5, 18),\n",
       " datetime.date(2022, 3, 15),\n",
       " datetime.date(2024, 8, 8),\n",
       " datetime.date(2022, 9, 14),\n",
       " datetime.date(2020, 2, 7),\n",
       " datetime.date(2018, 12, 5),\n",
       " datetime.date(2020, 8, 3),\n",
       " datetime.date(2017, 5, 4),\n",
       " datetime.date(2017, 11, 8),\n",
       " datetime.date(2020, 11, 14),\n",
       " datetime.date(2018, 7, 24),\n",
       " datetime.date(2017, 10, 5),\n",
       " datetime.date(2024, 5, 6),\n",
       " datetime.date(2024, 8, 13),\n",
       " datetime.date(2024, 11, 6),\n",
       " datetime.date(2018, 1, 31),\n",
       " datetime.date(2021, 9, 3),\n",
       " datetime.date(2019, 11, 28),\n",
       " datetime.date(2020, 3, 9),\n",
       " datetime.date(2020, 8, 12),\n",
       " datetime.date(2020, 10, 23),\n",
       " datetime.date(2020, 12, 17),\n",
       " datetime.date(2022, 6, 1),\n",
       " datetime.date(2020, 4, 28),\n",
       " datetime.date(2024, 5, 9),\n",
       " datetime.date(2017, 2, 27),\n",
       " datetime.date(2024, 7, 4),\n",
       " datetime.date(2019, 1, 1),\n",
       " datetime.date(2017, 3, 21),\n",
       " datetime.date(2017, 7, 13),\n",
       " datetime.date(2020, 4, 20),\n",
       " datetime.date(2024, 4, 19),\n",
       " datetime.date(2024, 1, 5),\n",
       " datetime.date(2019, 7, 3),\n",
       " datetime.date(2018, 5, 4),\n",
       " datetime.date(2023, 12, 11),\n",
       " datetime.date(2018, 2, 27),\n",
       " datetime.date(2019, 8, 7),\n",
       " datetime.date(2022, 3, 28),\n",
       " datetime.date(2018, 1, 15),\n",
       " datetime.date(2021, 8, 25),\n",
       " datetime.date(2019, 6, 19),\n",
       " datetime.date(2023, 12, 20),\n",
       " datetime.date(2019, 10, 27),\n",
       " datetime.date(2024, 6, 19),\n",
       " datetime.date(2024, 2, 20),\n",
       " datetime.date(2020, 12, 10),\n",
       " datetime.date(2023, 1, 6),\n",
       " datetime.date(2020, 7, 14),\n",
       " datetime.date(2021, 10, 8),\n",
       " datetime.date(2019, 5, 24),\n",
       " datetime.date(2021, 7, 28),\n",
       " datetime.date(2023, 3, 2),\n",
       " datetime.date(2018, 5, 16),\n",
       " datetime.date(2023, 6, 13),\n",
       " datetime.date(2019, 5, 10),\n",
       " datetime.date(2022, 1, 17),\n",
       " datetime.date(2019, 8, 28),\n",
       " datetime.date(2018, 6, 29),\n",
       " datetime.date(2024, 3, 15),\n",
       " datetime.date(2020, 3, 23),\n",
       " datetime.date(2019, 11, 1),\n",
       " datetime.date(2018, 8, 20),\n",
       " datetime.date(2021, 2, 23),\n",
       " datetime.date(2023, 3, 8),\n",
       " datetime.date(2020, 6, 3),\n",
       " datetime.date(2023, 3, 9),\n",
       " datetime.date(2017, 5, 10),\n",
       " datetime.date(2020, 3, 20),\n",
       " datetime.date(2020, 10, 22),\n",
       " datetime.date(2021, 12, 24),\n",
       " datetime.date(2021, 9, 20),\n",
       " datetime.date(2020, 10, 5),\n",
       " datetime.date(2021, 11, 17),\n",
       " datetime.date(2022, 1, 18),\n",
       " datetime.date(2023, 2, 7),\n",
       " datetime.date(2018, 3, 7),\n",
       " datetime.date(2019, 4, 11),\n",
       " datetime.date(2020, 8, 20),\n",
       " datetime.date(2019, 6, 6),\n",
       " datetime.date(2019, 6, 24),\n",
       " datetime.date(2017, 7, 27),\n",
       " datetime.date(2023, 10, 16),\n",
       " datetime.date(2017, 1, 30),\n",
       " datetime.date(2019, 3, 12),\n",
       " datetime.date(2021, 12, 15),\n",
       " datetime.date(2017, 10, 16),\n",
       " datetime.date(2023, 10, 6),\n",
       " datetime.date(2021, 6, 17),\n",
       " datetime.date(2023, 12, 19),\n",
       " datetime.date(2024, 9, 20),\n",
       " datetime.date(2019, 2, 19),\n",
       " datetime.date(2020, 11, 12),\n",
       " datetime.date(2019, 2, 4),\n",
       " datetime.date(2023, 4, 18),\n",
       " datetime.date(2024, 9, 5),\n",
       " datetime.date(2021, 8, 12),\n",
       " datetime.date(2017, 4, 27),\n",
       " datetime.date(2020, 8, 5),\n",
       " datetime.date(2017, 2, 1),\n",
       " datetime.date(2017, 9, 29),\n",
       " datetime.date(2018, 7, 18),\n",
       " datetime.date(2022, 2, 18),\n",
       " datetime.date(2017, 8, 14),\n",
       " datetime.date(2018, 9, 7),\n",
       " datetime.date(2020, 9, 15),\n",
       " datetime.date(2024, 2, 28),\n",
       " datetime.date(2021, 5, 14),\n",
       " datetime.date(2024, 2, 14),\n",
       " datetime.date(2022, 7, 20),\n",
       " datetime.date(2024, 10, 17),\n",
       " datetime.date(2022, 6, 14),\n",
       " datetime.date(2022, 7, 15),\n",
       " datetime.date(2023, 7, 11),\n",
       " datetime.date(2019, 12, 4),\n",
       " datetime.date(2017, 1, 19),\n",
       " datetime.date(2018, 11, 5),\n",
       " datetime.date(2019, 10, 22),\n",
       " datetime.date(2020, 3, 6),\n",
       " datetime.date(2019, 1, 23),\n",
       " datetime.date(2020, 6, 10),\n",
       " datetime.date(2021, 5, 4),\n",
       " datetime.date(2018, 7, 4),\n",
       " datetime.date(2019, 4, 2),\n",
       " datetime.date(2021, 4, 23),\n",
       " datetime.date(2018, 12, 20),\n",
       " datetime.date(2023, 8, 23),\n",
       " datetime.date(2022, 9, 2),\n",
       " datetime.date(2024, 6, 14),\n",
       " datetime.date(2022, 11, 2),\n",
       " datetime.date(2023, 11, 6),\n",
       " datetime.date(2018, 1, 25),\n",
       " datetime.date(2023, 9, 11),\n",
       " datetime.date(2020, 8, 17),\n",
       " datetime.date(2023, 3, 1),\n",
       " datetime.date(2022, 7, 1),\n",
       " datetime.date(2019, 5, 23),\n",
       " datetime.date(2017, 11, 16),\n",
       " datetime.date(2018, 5, 24),\n",
       " datetime.date(2021, 5, 19),\n",
       " datetime.date(2020, 3, 5),\n",
       " datetime.date(2018, 12, 13),\n",
       " datetime.date(2019, 9, 13),\n",
       " datetime.date(2019, 4, 16),\n",
       " datetime.date(2020, 9, 3),\n",
       " datetime.date(2018, 6, 18),\n",
       " datetime.date(2022, 12, 16),\n",
       " datetime.date(2018, 7, 16),\n",
       " datetime.date(2019, 4, 25),\n",
       " datetime.date(2019, 6, 26),\n",
       " datetime.date(2019, 9, 30),\n",
       " datetime.date(2023, 5, 23),\n",
       " datetime.date(2023, 11, 13),\n",
       " datetime.date(2018, 3, 15),\n",
       " datetime.date(2023, 10, 5),\n",
       " datetime.date(2019, 6, 13),\n",
       " datetime.date(2021, 9, 14),\n",
       " datetime.date(2017, 5, 5),\n",
       " datetime.date(2020, 3, 31),\n",
       " datetime.date(2022, 12, 23),\n",
       " datetime.date(2019, 9, 26),\n",
       " datetime.date(2019, 6, 18),\n",
       " datetime.date(2021, 5, 5),\n",
       " datetime.date(2021, 10, 20),\n",
       " datetime.date(2022, 5, 2),\n",
       " datetime.date(2024, 3, 7),\n",
       " datetime.date(2022, 3, 29),\n",
       " datetime.date(2018, 8, 16),\n",
       " datetime.date(2019, 5, 21),\n",
       " datetime.date(2024, 7, 24),\n",
       " datetime.date(2017, 8, 7),\n",
       " datetime.date(2018, 11, 12),\n",
       " datetime.date(2022, 11, 10),\n",
       " datetime.date(2020, 8, 31),\n",
       " datetime.date(2020, 9, 7),\n",
       " datetime.date(2020, 7, 17),\n",
       " datetime.date(2022, 12, 27),\n",
       " datetime.date(2023, 6, 2),\n",
       " datetime.date(2023, 2, 21),\n",
       " datetime.date(2022, 5, 12),\n",
       " datetime.date(2017, 5, 8),\n",
       " datetime.date(2018, 6, 28),\n",
       " datetime.date(2018, 9, 27),\n",
       " datetime.date(2020, 11, 13),\n",
       " datetime.date(2020, 6, 22),\n",
       " datetime.date(2024, 7, 9),\n",
       " datetime.date(2020, 8, 26),\n",
       " datetime.date(2021, 10, 4),\n",
       " datetime.date(2023, 7, 26),\n",
       " datetime.date(2019, 4, 12),\n",
       " datetime.date(2019, 1, 10),\n",
       " datetime.date(2019, 12, 19),\n",
       " datetime.date(2022, 1, 27),\n",
       " datetime.date(2021, 11, 29),\n",
       " datetime.date(2024, 5, 8),\n",
       " datetime.date(2024, 7, 15),\n",
       " datetime.date(2023, 3, 6),\n",
       " datetime.date(2019, 10, 29),\n",
       " datetime.date(2018, 8, 2),\n",
       " datetime.date(2019, 1, 21),\n",
       " datetime.date(2023, 7, 19),\n",
       " datetime.date(2023, 9, 22),\n",
       " datetime.date(2017, 8, 21),\n",
       " datetime.date(2022, 2, 24),\n",
       " datetime.date(2019, 3, 14),\n",
       " datetime.date(2020, 7, 3),\n",
       " datetime.date(2024, 8, 2),\n",
       " datetime.date(2023, 2, 13),\n",
       " datetime.date(2017, 5, 18),\n",
       " datetime.date(2019, 3, 18),\n",
       " datetime.date(2018, 4, 11),\n",
       " datetime.date(2017, 10, 25),\n",
       " datetime.date(2020, 7, 9),\n",
       " datetime.date(2024, 6, 7),\n",
       " datetime.date(2024, 9, 24),\n",
       " datetime.date(2022, 8, 24),\n",
       " datetime.date(2017, 1, 10),\n",
       " datetime.date(2020, 5, 5),\n",
       " datetime.date(2024, 10, 24),\n",
       " datetime.date(2023, 2, 28),\n",
       " datetime.date(2020, 2, 1),\n",
       " datetime.date(2023, 12, 29),\n",
       " datetime.date(2024, 3, 14),\n",
       " datetime.date(2021, 11, 16),\n",
       " datetime.date(2022, 4, 1),\n",
       " datetime.date(2024, 3, 18),\n",
       " datetime.date(2019, 2, 15),\n",
       " datetime.date(2020, 3, 27),\n",
       " datetime.date(2017, 1, 17),\n",
       " datetime.date(2019, 12, 10),\n",
       " datetime.date(2021, 9, 6),\n",
       " datetime.date(2019, 5, 6),\n",
       " datetime.date(2022, 7, 21),\n",
       " datetime.date(2018, 7, 12),\n",
       " datetime.date(2017, 4, 18),\n",
       " datetime.date(2020, 5, 4),\n",
       " datetime.date(2020, 10, 26),\n",
       " datetime.date(2021, 9, 1),\n",
       " datetime.date(2017, 1, 16),\n",
       " datetime.date(2021, 6, 1),\n",
       " datetime.date(2017, 1, 12),\n",
       " datetime.date(2021, 6, 29),\n",
       " datetime.date(2019, 11, 4),\n",
       " datetime.date(2024, 1, 11),\n",
       " datetime.date(2017, 10, 10),\n",
       " datetime.date(2020, 4, 8),\n",
       " datetime.date(2021, 1, 22),\n",
       " datetime.date(2018, 8, 21),\n",
       " datetime.date(2024, 7, 8),\n",
       " datetime.date(2023, 5, 9),\n",
       " datetime.date(2024, 7, 30),\n",
       " datetime.date(2017, 7, 31),\n",
       " datetime.date(2024, 10, 22),\n",
       " ...}"
      ]
     },
     "execution_count": 8,
     "metadata": {},
     "output_type": "execute_result"
    }
   ],
   "source": [
    "bnf_1min[\"datetime\"] = pd.to_datetime(bnf_1min[\"datetime\"])\n",
    "list_of_traded_dates = set(bnf_1min[\"datetime\"].dt.date)\n",
    "list_of_traded_dates"
   ]
  },
  {
   "cell_type": "code",
   "execution_count": 9,
   "id": "4e73a9f1-b834-411e-b28e-cf7ec65fcfca",
   "metadata": {
    "execution": {
     "iopub.execute_input": "2024-12-18T20:44:24.663414Z",
     "iopub.status.busy": "2024-12-18T20:44:24.663176Z",
     "iopub.status.idle": "2024-12-18T20:44:24.668060Z",
     "shell.execute_reply": "2024-12-18T20:44:24.667190Z",
     "shell.execute_reply.started": "2024-12-18T20:44:24.663398Z"
    }
   },
   "outputs": [],
   "source": [
    "def rename_ohlc_columns(df: pl.DataFrame) -> pl.DataFrame:\n",
    "\n",
    "    column_mapping = {\"o\": \"open\", \"h\": \"high\", \"l\": \"low\", \"c\": \"close\", \"v\": \"volume\"}\n",
    "    df = df.rename(column_mapping)\n",
    "\n",
    "    return df"
   ]
  },
  {
   "cell_type": "code",
   "execution_count": 10,
   "id": "3e97b9dc-5add-4dbd-8160-d4b294b5d3dc",
   "metadata": {
    "execution": {
     "iopub.execute_input": "2024-12-18T20:44:28.287363Z",
     "iopub.status.busy": "2024-12-18T20:44:28.286952Z",
     "iopub.status.idle": "2024-12-18T20:44:28.291602Z",
     "shell.execute_reply": "2024-12-18T20:44:28.290762Z",
     "shell.execute_reply.started": "2024-12-18T20:44:28.287348Z"
    }
   },
   "outputs": [],
   "source": [
    "PORTFOLIO_VALUE = 10_00_000 # 10 Lacs\n",
    "# RPT_PCT = 0.01 # 1% RPT\n",
    "SLIPPAGE_ = 0.0002\n",
    "LEVERAGE_ = 5"
   ]
  },
  {
   "cell_type": "code",
   "execution_count": 11,
   "id": "8fe87dd6-5c22-4a1b-b716-8da141dd30de",
   "metadata": {
    "execution": {
     "iopub.execute_input": "2024-12-18T20:44:28.760386Z",
     "iopub.status.busy": "2024-12-18T20:44:28.760138Z",
     "iopub.status.idle": "2024-12-18T20:44:28.766588Z",
     "shell.execute_reply": "2024-12-18T20:44:28.765348Z",
     "shell.execute_reply.started": "2024-12-18T20:44:28.760371Z"
    }
   },
   "outputs": [],
   "source": [
    "def calculate_signals(df, ema_length, x_days, pct):\n",
    "    # Calculate X-day High/Low and 20 EMA\n",
    "    df['X_High'] = df['high'].rolling(x_days).mean()\n",
    "    df['X_Low'] = df['low'].rolling(x_days).mean()\n",
    "    df['EMA_20'] = df['close'].ewm(span=ema_length, adjust=False).mean()\n",
    "    \n",
    "    # Trend conditions\n",
    "    df['EMA_Trend'] = df['EMA_20'] > df['EMA_20'].shift(1)\n",
    "    \n",
    "    # Signal conditions\n",
    "    df['Buy_Signal'] = (\n",
    "        (df['close'] > df['X_High'].shift(1) * (1 + (pct / 100))) & \n",
    "        (df['EMA_Trend']) & \n",
    "        (df['close'] > df['EMA_20'])\n",
    "    )\n",
    "    \n",
    "    return df"
   ]
  },
  {
   "cell_type": "code",
   "execution_count": 12,
   "id": "d6a33865-c48b-486a-b8da-e5598116810c",
   "metadata": {
    "execution": {
     "iopub.execute_input": "2024-12-18T20:44:28.896554Z",
     "iopub.status.busy": "2024-12-18T20:44:28.895721Z",
     "iopub.status.idle": "2024-12-18T20:44:28.901052Z",
     "shell.execute_reply": "2024-12-18T20:44:28.900110Z",
     "shell.execute_reply.started": "2024-12-18T20:44:28.896527Z"
    },
    "jupyter": {
     "source_hidden": true
    }
   },
   "outputs": [],
   "source": [
    "# def backtest(df):\n",
    "#     position = 0\n",
    "#     entry_price = 0\n",
    "#     trades = []\n",
    "#     trailing_stop = None\n",
    "    \n",
    "#     for i in range(len(df)):\n",
    "#         if df.loc[i, 'Buy_Signal'] and position == 0:\n",
    "#             position = 1\n",
    "#             # entry_price = df.loc[i, 'close']\n",
    "#             trailing_stop_long = df.loc[i, 'EMA_20']\n",
    "#             # trades.append({'Type': 'Buy', 'Price': entry_price, 'Date': df.loc[i, 'datetime']})\n",
    "#             entry_time_long = df.loc[i, 'datetime']\n",
    "#             entry_price_long = df.loc[i, 'close']\n",
    "#             initial_sl_long = trailing_stop_long\n",
    "        \n",
    "#         elif df.loc[i, 'Sell_Signal'] and position == 0:\n",
    "#             position = -1\n",
    "#             entry_price = df.loc[i, 'close']\n",
    "#             trailing_stop_short = df.loc[i, 'EMA_20']\n",
    "#             # trades.append({'Type': 'Sell', 'Price': entry_price, 'Date': df.loc[i, 'datetime']})\n",
    "#             entry_time_short = df.loc[i, 'datetime']\n",
    "#             entry_price_short = df.loc[i, 'close']\n",
    "#             initial_sl_short = trailing_stop_short\n",
    "        \n",
    "#         elif position == 1:\n",
    "#             if df.loc[i, 'low'] < trailing_stop_long:\n",
    "#                 # trades.append({'Type': 'Exit', 'Price': df.loc[i, 'close'], 'Date': df.loc[i, 'datetime']})\n",
    "#                 position = 0\n",
    "#                 exit_time_long = df.loc[i, 'datetime']\n",
    "#                 exit_price_long = trailing_stop_long\n",
    "#                 points_long = exit_price_long - entry_price_long\n",
    "                \n",
    "#             elif df.loc[i, 'Add_Long']:\n",
    "#                 # trades.append({'Type': 'Add Long', 'Price': df.loc[i, 'close'], 'Date': df.loc[i, 'datetime']})\n",
    "#                 entry_time_long = df.loc[i, 'datetime']\n",
    "#                 entry_price_long = df.loc[i, 'close']\n",
    "#                 initial_sl_long = trailing_stop_long\n",
    "#                 trailing_stop_long = max(trailing_stop_long, df.loc[i, 'EMA_20'])\n",
    "        \n",
    "#         elif position == -1:\n",
    "#             if df.loc[i, 'high'] > trailing_stop:\n",
    "#                 trades.append({'Type': 'Exit', 'Price': df.loc[i, 'close'], 'Date': df.loc[i, 'datetime']})\n",
    "#                 position = 0\n",
    "#             elif df.loc[i, 'Add_Short']:\n",
    "#                 trades.append({'Type': 'Add Short', 'Price': df.loc[i, 'close'], 'Date': df.loc[i, 'datetime']})\n",
    "#                 trailing_stop = min(trailing_stop, df.loc[i, 'EMA_20'])\n",
    "    \n",
    "#     return pd.DataFrame(trades)"
   ]
  },
  {
   "cell_type": "code",
   "execution_count": 13,
   "id": "ce424607-ebe6-4830-947c-dcdbc4cfb094",
   "metadata": {
    "execution": {
     "iopub.execute_input": "2024-12-18T20:44:29.047305Z",
     "iopub.status.busy": "2024-12-18T20:44:29.046897Z",
     "iopub.status.idle": "2024-12-18T20:44:29.056401Z",
     "shell.execute_reply": "2024-12-18T20:44:29.055538Z",
     "shell.execute_reply.started": "2024-12-18T20:44:29.047288Z"
    }
   },
   "outputs": [],
   "source": [
    "def backtest(df):\n",
    "    # print(df.to_string())\n",
    "    # return\n",
    "    df.reset_index(drop=True, inplace=True)\n",
    "    # Variables for long trades\n",
    "    long_position = 0  # 0 = no position, 1 = long\n",
    "    long_entry_price = 0\n",
    "    long_entry_date = None\n",
    "    long_trades = []\n",
    "    tradebook = pd.DataFrame()\n",
    "    tradebook_long = pd.DataFrame()\n",
    "    # tradebook_short = pd.DataFrame()\n",
    "    long_trailing_stop = None\n",
    "    # Variables for short trades\n",
    "    # short_position = 0  # 0 = no position, -1 = short\n",
    "    # short_entry_price = 0\n",
    "    # short_entry_date = None\n",
    "    # short_trades = []\n",
    "    # short_trailing_stop = None\n",
    "\n",
    "    can_add_long = False\n",
    "    # can_add_short = False\n",
    "\n",
    "    trade_number = 0\n",
    "    lock_initial_sl = False\n",
    "    first_sl = 0\n",
    "\n",
    "    lock_initial_sl_2 = False\n",
    "    first_sl_2 = 0\n",
    "\n",
    "    pyramid_number = 0\n",
    "    can_pyramid = True\n",
    "    pyramid_high = 0\n",
    "\n",
    "    for i in range(1, len(df)):\n",
    "        # Entry signals for long trades\n",
    "        long_trailing_stop = df.loc[i, 'EMA_20']\n",
    "        # short_trailing_stop = df.loc[i, 'EMA_20']\n",
    "        \n",
    "        if df.loc[i, 'Buy_Signal'] and long_position == 0:\n",
    "            long_position = 1\n",
    "            long_entry_price = df.loc[i, 'close']\n",
    "            long_entry_date = df.loc[i, 'datetime']\n",
    "            long_trailing_stop = df.loc[i, 'EMA_20']\n",
    "            long_initial_sl = df.loc[i, 'X_Low']\n",
    "\n",
    "            tradebook_long = pd.concat([tradebook_long, pd.DataFrame([{\n",
    "                'Trade No.': trade_number,\n",
    "                'Entry_Date': df.loc[i, 'datetime'],\n",
    "                'Exit_Date': None,\n",
    "                'Trade_Type': 'Long',\n",
    "                'Entry_Price': df.loc[i, 'close'],\n",
    "                'Previous MA Value': df.loc[i-1, 'X_High'],\n",
    "                'Initial SL': long_initial_sl,\n",
    "                'Exit_Price': None,\n",
    "                # 'Profit/Loss': None  # Filled when exited\n",
    "            }])], ignore_index=True)\n",
    "\n",
    "            if not lock_initial_sl:\n",
    "                first_sl = long_initial_sl\n",
    "                lock_initial_sl = True\n",
    "\n",
    "            can_pyramid = True\n",
    "            pyramid_number = 0\n",
    "            pyramid_high = 0\n",
    "            continue\n",
    "                \n",
    "        # Exit or add to long position\n",
    "        if long_position == 1:\n",
    "\n",
    "            \n",
    "            # y_days_low = df['low'].rolling(y_days).min().iloc[i-1]\n",
    "            # y_days_high = df['high'].rolling(y_days).max().iloc[i-1]\n",
    "            \n",
    "            # print(df.iloc[i]['datetime'], y_days_high, y_days_low)\n",
    "            \n",
    "            if df.loc[i, 'low'] <= long_initial_sl:\n",
    "                tradebook_long.loc[\n",
    "                    (tradebook_long['Trade No.'] == trade_number),\n",
    "                    ['Exit_Date', 'Exit_Price', 'Exit Remark']\n",
    "                ] = [df.loc[i, 'datetime'] , long_initial_sl , 'Initial SL Hit']\n",
    "                long_position = 0\n",
    "                can_add_long = False\n",
    "                trade_number += 1\n",
    "                lock_initial_sl = False\n",
    "                first_sl = 0\n",
    "                can_pyramid = False\n",
    "                pyramid_number = 0\n",
    "                pyramid_high = 0\n",
    "            \n",
    "            elif df.loc[i, 'close'] <= long_trailing_stop:\n",
    "                tradebook_long.loc[\n",
    "                    (tradebook_long['Trade No.'] == trade_number),\n",
    "                    ['Exit_Date', 'Exit_Price', 'Exit Remark']\n",
    "                ] = [df.loc[i, 'datetime'] , df.loc[i, 'close'] , 'Trailing SL Hit']\n",
    "                long_position = 0\n",
    "                can_add_long = False\n",
    "                trade_number += 1\n",
    "                lock_initial_sl = False\n",
    "                first_sl = 0\n",
    "                can_pyramid = False\n",
    "                pyramid_number = 0\n",
    "                pyramid_high = 0\n",
    "\n",
    "            # elif (df.loc[i, 'low'] <= y_days_low) and not can_add_long:\n",
    "            #     # Previous Y Candle Low Breached, confirmation found. Add position on high break\n",
    "            #     can_add_long = True\n",
    "\n",
    "            # if can_add_long and long_position and can_pyramid:\n",
    "            #     if df.loc[i, 'high'] >= y_days_high and pyramid_number < pyr_num:\n",
    "            #         tradebook_long = pd.concat([tradebook_long, pd.DataFrame([{\n",
    "            #             'Trade No.': trade_number,\n",
    "            #             'Entry_Date': df.loc[i, 'datetime'],\n",
    "            #             'Exit_Date': None,\n",
    "            #             'Trade_Type': 'Add_Long',\n",
    "            #             'Entry_Price': y_days_high,\n",
    "            #             'Initial SL': first_sl,\n",
    "            #             'Exit_Price': None,\n",
    "            #             # 'Profit/Loss': None  # Filled when exited\n",
    "            #         }])], ignore_index=True)\n",
    "            #         can_add_long = False\n",
    "            #         pyramid_number += 1\n",
    "            #         can_pyramid = True\n",
    "    \n",
    "    tradebook = pd.concat([tradebook_long, tradebook], ignore_index=True)\n",
    "    return tradebook\n"
   ]
  },
  {
   "cell_type": "code",
   "execution_count": 14,
   "id": "be2fa54a-87b7-4312-8853-3cf4be8c5784",
   "metadata": {
    "execution": {
     "iopub.execute_input": "2024-12-18T20:44:29.892467Z",
     "iopub.status.busy": "2024-12-18T20:44:29.891831Z",
     "iopub.status.idle": "2024-12-18T20:44:29.898421Z",
     "shell.execute_reply": "2024-12-18T20:44:29.897469Z",
     "shell.execute_reply.started": "2024-12-18T20:44:29.892441Z"
    },
    "jupyter": {
     "source_hidden": true
    }
   },
   "outputs": [],
   "source": [
    "# def backtest(df, y_days):\n",
    "#     # Variables for long trades\n",
    "#     long_position = 0  # 0 = no position, 1 = long\n",
    "#     long_entry_price = 0\n",
    "#     long_entry_date = None\n",
    "#     long_trades = []\n",
    "#     tradebook = pd.DataFrame()\n",
    "#     tradebook_long = pd.DataFrame()\n",
    "#     tradebook_short = pd.DataFrame()\n",
    "#     long_trailing_stop = None\n",
    "#     # Variables for short trades\n",
    "#     short_position = 0  # 0 = no position, -1 = short\n",
    "#     short_entry_price = 0\n",
    "#     short_entry_date = None\n",
    "#     short_trades = []\n",
    "#     short_trailing_stop = None\n",
    "\n",
    "#     can_add_long = False\n",
    "#     can_add_short = False\n",
    "\n",
    "#     trade_number = 0\n",
    "\n",
    "#     for i in range(len(df)):\n",
    "#         # Entry signals for long trades\n",
    "#         long_trailing_stop = df.loc[i, 'EMA_20']\n",
    "#         short_trailing_stop = df.loc[i, 'EMA_20']\n",
    "        \n",
    "#         if df.loc[i, 'Buy_Signal'] and long_position == 0:\n",
    "#             long_position = 1\n",
    "#             long_entry_price = df.loc[i, 'close']\n",
    "#             long_entry_date = df.loc[i, 'datetime']\n",
    "#             long_trailing_stop = df.loc[i, 'EMA_20']\n",
    "#             long_initial_sl = df.loc[i, 'X_Low']\n",
    "\n",
    "#             tradebook_long = pd.concat([tradebook_long, pd.DataFrame([{\n",
    "#                 'Trade No.': trade_number,\n",
    "#                 'Entry_Date': df.loc[i, 'datetime'],\n",
    "#                 'Exit_Date': None,\n",
    "#                 'Trade_Type': 'Long',\n",
    "#                 'Entry_Price': df.loc[i, 'close'],\n",
    "#                 'Initial SL': long_initial_sl,\n",
    "#                 'Exit_Price': None,\n",
    "#                 # 'Profit/Loss': None  # Filled when exited\n",
    "#             }])], ignore_index=True)\n",
    "\n",
    "#         # Exit or add to long position\n",
    "#         if long_position == 1:\n",
    "            \n",
    "#             y_days_low = df['low'].rolling(y_days).min().iloc[i-1]\n",
    "#             y_days_high = df['high'].rolling(y_days).max().iloc[i-1]\n",
    "            \n",
    "#             # print(df.iloc[i]['datetime'], y_days_high, y_days_low)\n",
    "            \n",
    "#             if df.loc[i, 'low'] <= long_initial_sl:\n",
    "#                 tradebook_long.loc[\n",
    "#                     (tradebook_long['Trade No.'] == trade_number),\n",
    "#                     ['Exit_Date', 'Exit_Price']\n",
    "#                 ] = [df.loc[i, 'datetime'] , long_initial_sl]\n",
    "#                 long_position = 0\n",
    "#                 can_add_long = False\n",
    "#                 trade_number += 1\n",
    "            \n",
    "#             elif df.loc[i, 'close'] <= long_trailing_stop:\n",
    "#                 tradebook_long.loc[\n",
    "#                     (tradebook_long['Trade No.'] == trade_number),\n",
    "#                     ['Exit_Date', 'Exit_Price']\n",
    "#                 ] = [df.loc[i, 'datetime'] , df.loc[i, 'close']]\n",
    "#                 long_position = 0\n",
    "#                 can_add_long = False\n",
    "#                 trade_number += 1\n",
    "\n",
    "#             elif (df.loc[i, 'low'] <= y_days_low) and not can_add_long:\n",
    "#                 # Previous Y Candle Low Breached, confirmation found. Add position on high break\n",
    "#                 can_add_long = True\n",
    "\n",
    "#             if can_add_long and long_position:\n",
    "#                 if df.loc[i, 'high'] >= y_days_high:\n",
    "#                     tradebook_long = pd.concat([tradebook_long, pd.DataFrame([{\n",
    "#                         'Trade No.': trade_number,\n",
    "#                         'Entry_Date': df.loc[i, 'datetime'],\n",
    "#                         'Exit_Date': None,\n",
    "#                         'Trade_Type': 'Add_Long',\n",
    "#                         'Entry_Price': y_days_high,\n",
    "#                         'Initial SL': long_initial_sl,\n",
    "#                         'Exit_Price': None,\n",
    "#                         # 'Profit/Loss': None  # Filled when exited\n",
    "#                     }])], ignore_index=True)\n",
    "#                     can_add_long = False\n",
    "\n",
    "#     for i in range(len(df)):\n",
    "        \n",
    "#         # Entry signals for long trades\n",
    "#         long_trailing_stop = df.loc[i, 'EMA_20']\n",
    "#         short_trailing_stop = df.loc[i, 'EMA_20']\n",
    "\n",
    "#         # Entry signals for short trades\n",
    "#         if df.loc[i, 'Sell_Signal'] and short_position == 0:\n",
    "#             short_position = -1\n",
    "#             short_entry_price = df.loc[i, 'close']\n",
    "#             short_entry_date = df.loc[i, 'datetime']\n",
    "#             short_trailing_stop = df.loc[i, 'EMA_20']\n",
    "#             short_initial_sl = df.loc[i, 'X_High']\n",
    "\n",
    "#             tradebook_short = pd.concat([tradebook_short, pd.DataFrame([{\n",
    "#                 'Trade No.': trade_number,\n",
    "#                 'Entry_Date': df.loc[i, 'datetime'],\n",
    "#                 'Exit_Date': None,\n",
    "#                 'Trade_Type': 'Short',\n",
    "#                 'Entry_Price': df.loc[i, 'close'],\n",
    "#                 'Initial SL': short_initial_sl,\n",
    "#                 'Exit_Price': None,\n",
    "#                 # 'Profit/Loss': None  # Filled when exited\n",
    "#             }])], ignore_index=True)\n",
    "\n",
    "#         if short_position == -1:\n",
    "            \n",
    "#             y_days_low = df['low'].rolling(y_days).min().iloc[i-1]\n",
    "#             y_days_high = df['high'].rolling(y_days).max().iloc[i-1]\n",
    "            \n",
    "#             # print(df.iloc[i]['datetime'], y_days_high, y_days_low)\n",
    "            \n",
    "#             if df.loc[i, 'high'] >= short_initial_sl:\n",
    "#                 tradebook_short.loc[\n",
    "#                     (tradebook_short['Trade No.'] == trade_number),\n",
    "#                     ['Exit_Date', 'Exit_Price']\n",
    "#                 ] = [df.loc[i, 'datetime'] ,short_initial_sl]\n",
    "#                 short_position = 0\n",
    "#                 can_add_short = False\n",
    "#                 trade_number += 1\n",
    "            \n",
    "#             elif df.loc[i, 'close'] >= short_trailing_stop:\n",
    "#                 tradebook_short.loc[\n",
    "#                     (tradebook_short['Trade No.'] == trade_number),\n",
    "#                     ['Exit_Date', 'Exit_Price']\n",
    "#                 ] = [df.loc[i, 'datetime'] , df.loc[i, 'close']]\n",
    "#                 short_position = 0\n",
    "#                 can_add_short = False\n",
    "#                 trade_number += 1\n",
    "\n",
    "#             elif (df.loc[i, 'high'] >= y_days_high) and not can_add_short:\n",
    "#                 # Previous Y Candle High Breached, confirmation found. Add position on low break\n",
    "#                 can_add_short = True\n",
    "\n",
    "#             if can_add_short and short_position:\n",
    "#                 if df.loc[i, 'low'] <= y_days_low:\n",
    "#                     tradebook_short = pd.concat([tradebook_short, pd.DataFrame([{\n",
    "#                         'Trade No.': trade_number,\n",
    "#                         'Entry_Date': df.loc[i, 'datetime'],\n",
    "#                         'Exit_Date': None,\n",
    "#                         'Trade_Type': 'Add_Short',\n",
    "#                         'Entry_Price': y_days_low,\n",
    "#                         'Initial SL': short_initial_sl,\n",
    "#                         'Exit_Price': None,\n",
    "#                         # 'Profit/Loss': None  # Filled when exited\n",
    "#                     }])], ignore_index=True)\n",
    "#                     can_add_short = False\n",
    "    \n",
    "#     tradebook = pd.concat([tradebook_long, tradebook_short], ignore_index=True)\n",
    "#     return tradebook\n"
   ]
  },
  {
   "cell_type": "code",
   "execution_count": 30,
   "id": "544b98d6-373c-42cf-b1d7-59ab77d44902",
   "metadata": {
    "execution": {
     "iopub.execute_input": "2024-12-18T20:44:44.679584Z",
     "iopub.status.busy": "2024-12-18T20:44:44.679239Z",
     "iopub.status.idle": "2024-12-18T20:44:45.678747Z",
     "shell.execute_reply": "2024-12-18T20:44:45.677654Z",
     "shell.execute_reply.started": "2024-12-18T20:44:44.679566Z"
    },
    "scrolled": true
   },
   "outputs": [
    {
     "name": "stderr",
     "output_type": "stream",
     "text": [
      "/tmp/ipykernel_32292/2639050160.py:92: FutureWarning: Setting an item of incompatible dtype is deprecated and will raise an error in a future version of pandas. Value 'Trailing SL Hit' has dtype incompatible with float64, please explicitly cast to a compatible dtype first.\n",
      "  tradebook_long.loc[\n"
     ]
    }
   ],
   "source": [
    "ema_length = 20\n",
    "x_days = 3\n",
    "# y_days = 4\n",
    "pct = 0.25\n",
    "RPT = 3\n",
    "df = bnf_1min\n",
    "df = calculate_signals(df, ema_length,x_days, pct)\n",
    "# print(df.tail().to_string())\n",
    "# df1 = df[df['Buy_Signal']]\n",
    "# print(df1.to_string())\n",
    "tb = backtest(df)\n",
    "tb = tb.sort_values(by='Entry_Date')\n",
    "# variation = f'EMA: {ema_length}, X: {x_days}, Y: {y_days}, PCT: {pct}%, RPT: {RPT}%'"
   ]
  },
  {
   "cell_type": "code",
   "execution_count": 31,
   "id": "9d2a37eb-c52f-4e28-bffc-be8cb77b3830",
   "metadata": {
    "execution": {
     "iopub.execute_input": "2024-12-18T20:44:45.680462Z",
     "iopub.status.busy": "2024-12-18T20:44:45.679998Z",
     "iopub.status.idle": "2024-12-18T20:44:45.692981Z",
     "shell.execute_reply": "2024-12-18T20:44:45.691684Z",
     "shell.execute_reply.started": "2024-12-18T20:44:45.680436Z"
    },
    "scrolled": true
   },
   "outputs": [],
   "source": [
    "import numpy as np\n",
    "portfolio = 10000000\n",
    "tb['PnL'] = np.where(\n",
    "    tb['Trade_Type'].isin(['Long', 'Add_Long']),  # For Long and Add_Long\n",
    "    tb['Exit_Price'] - tb['Entry_Price'],\n",
    "    np.where(\n",
    "        tb['Trade_Type'].isin(['Short', 'Add_Short']),  # For Short and Add_Short\n",
    "        tb['Entry_Price'] - tb['Exit_Price'],\n",
    "        0  # Default case if Trade_Type is something unexpected\n",
    "    )\n",
    ")\n",
    "\n",
    "tb['Slippage'] = SLIPPAGE_ * (tb['Entry_Price'] + tb['Exit_Price'])\n",
    "tb['PnL w cs'] = tb['PnL'] - tb['Slippage']\n",
    "tb['Qty'] = abs(RPT / 100 * portfolio / (tb['Entry_Price'] - tb['Initial SL']))\n",
    "# tb['Qty'] = portfolio * 8 / tb['Entry_Price']\n",
    "tb['Profit_Loss INR'] = tb['Qty'] * tb['PnL w cs']\n",
    "tb['ROI%'] = tb['Profit_Loss INR'] * 100 / portfolio\n",
    "tb['Trade Year'] = tb['Entry_Date'].dt.year"
   ]
  },
  {
   "cell_type": "code",
   "execution_count": 32,
   "id": "fa5571b8-4afe-4f02-bf19-232c6992776a",
   "metadata": {
    "execution": {
     "iopub.execute_input": "2024-12-18T20:44:45.694931Z",
     "iopub.status.busy": "2024-12-18T20:44:45.694159Z",
     "iopub.status.idle": "2024-12-18T20:44:45.715582Z",
     "shell.execute_reply": "2024-12-18T20:44:45.714747Z",
     "shell.execute_reply.started": "2024-12-18T20:44:45.694913Z"
    }
   },
   "outputs": [],
   "source": [
    "# tb['Cumulative_PnL'] = tb['PnL w cs'].cumsum()"
   ]
  },
  {
   "cell_type": "code",
   "execution_count": 33,
   "id": "7da42fca-718f-43fd-8fb9-423c7beb8152",
   "metadata": {
    "execution": {
     "iopub.execute_input": "2024-12-18T20:44:45.717657Z",
     "iopub.status.busy": "2024-12-18T20:44:45.717382Z",
     "iopub.status.idle": "2024-12-18T20:44:45.726465Z",
     "shell.execute_reply": "2024-12-18T20:44:45.725301Z",
     "shell.execute_reply.started": "2024-12-18T20:44:45.717641Z"
    }
   },
   "outputs": [],
   "source": [
    "# tb.to_csv('GOLD TRADE CHECK JJPP.csv', index=False)"
   ]
  },
  {
   "cell_type": "code",
   "execution_count": 34,
   "id": "095a54f0-4c66-490f-97fd-e732e906e54b",
   "metadata": {
    "execution": {
     "iopub.execute_input": "2024-12-18T20:44:45.727815Z",
     "iopub.status.busy": "2024-12-18T20:44:45.727534Z",
     "iopub.status.idle": "2024-12-18T20:44:45.738871Z",
     "shell.execute_reply": "2024-12-18T20:44:45.737914Z",
     "shell.execute_reply.started": "2024-12-18T20:44:45.727791Z"
    },
    "scrolled": true
   },
   "outputs": [],
   "source": [
    "tb = tb.reset_index()\n",
    "# tb"
   ]
  },
  {
   "cell_type": "code",
   "execution_count": 35,
   "id": "42fd12dd-9e55-43ee-be9f-76a032557b9f",
   "metadata": {
    "execution": {
     "iopub.execute_input": "2024-12-18T20:44:45.741293Z",
     "iopub.status.busy": "2024-12-18T20:44:45.740264Z",
     "iopub.status.idle": "2024-12-18T20:44:45.749826Z",
     "shell.execute_reply": "2024-12-18T20:44:45.748702Z",
     "shell.execute_reply.started": "2024-12-18T20:44:45.741273Z"
    }
   },
   "outputs": [],
   "source": [
    "import matplotlib.pyplot as plt\n",
    "\n",
    "def plot_cumulative_pnl(tb, title=\"Cumulative PnL Over Time\"):\n",
    "    if 'Cumulative_PnL' not in tb.columns:\n",
    "        raise ValueError(\"The DataFrame must contain a 'Cumulative_PnL' column.\")\n",
    "\n",
    "    # Plot cumulative PnL\n",
    "    plt.figure(figsize=(12, 3))\n",
    "    plt.plot(tb.index, tb['Cumulative_PnL'], label='Cumulative PnL', color='blue', linewidth=2)\n",
    "    plt.title(title, fontsize=8)\n",
    "    plt.xlabel('Trade Index', fontsize=6)\n",
    "    plt.ylabel('Cumulative PnL', fontsize=6)\n",
    "    plt.legend(fontsize=6)\n",
    "    plt.grid(alpha=0.5)\n",
    "    plt.show()\n"
   ]
  },
  {
   "cell_type": "code",
   "execution_count": 36,
   "id": "de570f06-e560-4a18-b4fd-fe0ed1833130",
   "metadata": {
    "execution": {
     "iopub.execute_input": "2024-12-18T20:44:45.751615Z",
     "iopub.status.busy": "2024-12-18T20:44:45.751100Z",
     "iopub.status.idle": "2024-12-18T20:44:45.761935Z",
     "shell.execute_reply": "2024-12-18T20:44:45.760645Z",
     "shell.execute_reply.started": "2024-12-18T20:44:45.751599Z"
    }
   },
   "outputs": [],
   "source": [
    "# tb_long_only = tb[(tb['Trade_Type'] == 'Long') | (tb['Trade_Type'] == 'Add_Long')].copy()\n",
    "# tb_long_only['Cumulative_PnL'] = tb_long_only['PnL w cs'].cumsum()"
   ]
  },
  {
   "cell_type": "code",
   "execution_count": 37,
   "id": "2824479d-00d3-4c8f-9809-e7d52e99bf5d",
   "metadata": {
    "execution": {
     "iopub.execute_input": "2024-12-18T20:44:45.763490Z",
     "iopub.status.busy": "2024-12-18T20:44:45.763162Z",
     "iopub.status.idle": "2024-12-18T20:44:45.777475Z",
     "shell.execute_reply": "2024-12-18T20:44:45.776090Z",
     "shell.execute_reply.started": "2024-12-18T20:44:45.763465Z"
    }
   },
   "outputs": [],
   "source": [
    "# tb_long_only = tb_long_only[tb_long_only['Trade Year'] >= 2017]"
   ]
  },
  {
   "cell_type": "code",
   "execution_count": 38,
   "id": "96c0bbb0-8a62-43a4-9bbb-4a0a2ab1049a",
   "metadata": {
    "execution": {
     "iopub.execute_input": "2024-12-18T20:44:45.779933Z",
     "iopub.status.busy": "2024-12-18T20:44:45.779452Z",
     "iopub.status.idle": "2024-12-18T20:44:45.788860Z",
     "shell.execute_reply": "2024-12-18T20:44:45.787783Z",
     "shell.execute_reply.started": "2024-12-18T20:44:45.779907Z"
    },
    "jupyter": {
     "source_hidden": true
    }
   },
   "outputs": [],
   "source": [
    "# plot_cumulative_pnl(tb_long_only)\n",
    "# print(tb_long_only['PnL w cs'].sum())"
   ]
  },
  {
   "cell_type": "code",
   "execution_count": 39,
   "id": "58a626f9-7508-4157-853e-2207d2310e89",
   "metadata": {
    "execution": {
     "iopub.execute_input": "2024-12-18T20:44:45.890502Z",
     "iopub.status.busy": "2024-12-18T20:44:45.890258Z",
     "iopub.status.idle": "2024-12-18T20:44:45.894896Z",
     "shell.execute_reply": "2024-12-18T20:44:45.893922Z",
     "shell.execute_reply.started": "2024-12-18T20:44:45.890487Z"
    },
    "jupyter": {
     "source_hidden": true
    }
   },
   "outputs": [],
   "source": [
    "# plot_cumulative_pnl(tb_short_only)\n",
    "# print(tb_short_only['PnL w cs'].sum())"
   ]
  },
  {
   "cell_type": "code",
   "execution_count": 40,
   "id": "d529a44e-e6f3-43e3-ab6f-36277ec86a62",
   "metadata": {
    "execution": {
     "iopub.execute_input": "2024-12-18T20:44:46.012774Z",
     "iopub.status.busy": "2024-12-18T20:44:46.012085Z",
     "iopub.status.idle": "2024-12-18T20:44:46.017235Z",
     "shell.execute_reply": "2024-12-18T20:44:46.015895Z",
     "shell.execute_reply.started": "2024-12-18T20:44:46.012746Z"
    },
    "jupyter": {
     "source_hidden": true
    }
   },
   "outputs": [],
   "source": [
    "# plot_cumulative_pnl(tb)\n",
    "# print(tb['PnL w cs'].sum())"
   ]
  },
  {
   "cell_type": "code",
   "execution_count": 41,
   "id": "7244bad9-508f-4d00-a589-b0c4b9976679",
   "metadata": {
    "execution": {
     "iopub.execute_input": "2024-12-18T20:44:46.120416Z",
     "iopub.status.busy": "2024-12-18T20:44:46.119937Z",
     "iopub.status.idle": "2024-12-18T20:44:46.124781Z",
     "shell.execute_reply": "2024-12-18T20:44:46.123886Z",
     "shell.execute_reply.started": "2024-12-18T20:44:46.120393Z"
    },
    "jupyter": {
     "source_hidden": true
    },
    "scrolled": true
   },
   "outputs": [],
   "source": [
    "# plot_cumulative_pnl(tb2)\n",
    "# print(tb2['PnL w cs'].sum())"
   ]
  },
  {
   "cell_type": "code",
   "execution_count": 42,
   "id": "1973f6b1-8cdc-42de-901f-b6b08e480d5c",
   "metadata": {
    "execution": {
     "iopub.execute_input": "2024-12-18T20:44:46.216031Z",
     "iopub.status.busy": "2024-12-18T20:44:46.215642Z",
     "iopub.status.idle": "2024-12-18T20:44:46.224824Z",
     "shell.execute_reply": "2024-12-18T20:44:46.223494Z",
     "shell.execute_reply.started": "2024-12-18T20:44:46.216014Z"
    },
    "jupyter": {
     "source_hidden": true
    }
   },
   "outputs": [],
   "source": [
    "def generate_stats(tb_expiry, variation):\n",
    "    stats_df8 = pd.DataFrame(\n",
    "        index=range(2017, 2025),\n",
    "        columns=[\n",
    "            \"Total ROI\",\n",
    "            \"Total Trades\",\n",
    "            \"Win Rate\",\n",
    "            \"Avg Profit% per Trade\",\n",
    "            \"Avg Loss% per Trade\",\n",
    "            \"Max Drawdown\",\n",
    "            \"ROI/DD Ratio\",\n",
    "            \"Variation\",\n",
    "        ],\n",
    "    )\n",
    "    combined_df_sorted = tb_expiry\n",
    "    # combined_df_sorted = tb_expiry_ce\n",
    "    # combined_df_sorted = tb_expiry_pe\n",
    "    \n",
    "    # Iterate over each year\n",
    "    for year in range(2017, 2025):\n",
    "        # Filter trades for the current year\n",
    "        year_trades = combined_df_sorted[(combined_df_sorted[\"Trade Year\"] == year)]\n",
    "    \n",
    "        # Calculate total ROI\n",
    "        total_roi = year_trades[\"ROI%\"].sum()\n",
    "    \n",
    "        # Calculate total number of trades\n",
    "        total_trades = len(year_trades)\n",
    "    \n",
    "        # Calculate win rate\n",
    "        win_rate = (year_trades[\"ROI%\"] > 0).mean() * 100\n",
    "    \n",
    "        # Calculate average profit per trade\n",
    "        avg_profit = year_trades[year_trades[\"ROI%\"] > 0][\"ROI%\"].mean()\n",
    "    \n",
    "        # Calculate average loss per trade\n",
    "        avg_loss = year_trades[year_trades[\"ROI%\"] < 0][\"ROI%\"].mean()\n",
    "    \n",
    "        # Calculate maximum drawdown\n",
    "        max_drawdown = (\n",
    "            year_trades[\"ROI%\"].cumsum() - year_trades[\"ROI%\"].cumsum().cummax()\n",
    "        ).min()\n",
    "    \n",
    "        # Calculate ROI/DD ratio\n",
    "        roi_dd_ratio = total_roi / abs(max_drawdown)\n",
    "\n",
    "        variation = variation\n",
    "    \n",
    "        # Store the statistics in the DataFrame\n",
    "        stats_df8.loc[year] = [\n",
    "            total_roi,\n",
    "            total_trades,\n",
    "            win_rate,\n",
    "            avg_profit,\n",
    "            avg_loss,\n",
    "            max_drawdown,\n",
    "            roi_dd_ratio,\n",
    "            variation,\n",
    "        ]\n",
    "    \n",
    "    # Calculate overall statistics\n",
    "    overall_total_roi = stats_df8[\"Total ROI\"].sum()\n",
    "    overall_total_trades = stats_df8[\"Total Trades\"].sum()\n",
    "    overall_win_rate = (combined_df_sorted[\"ROI%\"] > 0).mean() * 100\n",
    "    overall_avg_profit = combined_df_sorted[combined_df_sorted[\"ROI%\"] > 0][\"ROI%\"].mean()\n",
    "    overall_avg_loss = combined_df_sorted[combined_df_sorted[\"ROI%\"] < 0][\"ROI%\"].mean()\n",
    "    overall_max_drawdown = (\n",
    "        combined_df_sorted[\"ROI%\"].cumsum() - combined_df_sorted[\"ROI%\"].cumsum().cummax()\n",
    "    ).min()\n",
    "    overall_roi_dd_ratio = overall_total_roi / abs(overall_max_drawdown)\n",
    "    overall_variation = variation\n",
    "\n",
    "    \n",
    "    # Store the overall statistics in the DataFrame\n",
    "    stats_df8.loc[\"Overall\"] = [\n",
    "        overall_total_roi,\n",
    "        overall_total_trades,\n",
    "        overall_win_rate,\n",
    "        overall_avg_profit,\n",
    "        overall_avg_loss,\n",
    "        overall_max_drawdown,\n",
    "        overall_roi_dd_ratio,\n",
    "        overall_variation,\n",
    "    ]\n",
    "    \n",
    "    # print(f'{overall_total_roi} , {overall_max_drawdown} , {overall_roi_dd_ratio}')\n",
    "    \n",
    "    return {overall_roi_dd_ratio: stats_df8}"
   ]
  },
  {
   "cell_type": "code",
   "execution_count": 43,
   "id": "938db9b0-6567-409a-9b16-690925e5ce28",
   "metadata": {
    "execution": {
     "iopub.execute_input": "2024-12-18T20:44:46.366803Z",
     "iopub.status.busy": "2024-12-18T20:44:46.366511Z",
     "iopub.status.idle": "2024-12-18T20:44:46.372458Z",
     "shell.execute_reply": "2024-12-18T20:44:46.371371Z",
     "shell.execute_reply.started": "2024-12-18T20:44:46.366786Z"
    }
   },
   "outputs": [],
   "source": [
    "tb['Entry_Date'] = pd.to_datetime(tb['Entry_Date'])\n",
    "tb['Trade Year'] = tb['Entry_Date'].dt.year\n",
    "# tb['ROI% w cs'] = tb['ROI%']"
   ]
  },
  {
   "cell_type": "code",
   "execution_count": 44,
   "id": "a4e10729-5889-49f6-8386-e32f6a921b36",
   "metadata": {
    "execution": {
     "iopub.execute_input": "2024-12-18T20:44:47.797596Z",
     "iopub.status.busy": "2024-12-18T20:44:47.796698Z",
     "iopub.status.idle": "2024-12-18T20:44:47.830441Z",
     "shell.execute_reply": "2024-12-18T20:44:47.829132Z",
     "shell.execute_reply.started": "2024-12-18T20:44:47.797572Z"
    }
   },
   "outputs": [
    {
     "data": {
      "text/html": [
       "<div>\n",
       "<style scoped>\n",
       "    .dataframe tbody tr th:only-of-type {\n",
       "        vertical-align: middle;\n",
       "    }\n",
       "\n",
       "    .dataframe tbody tr th {\n",
       "        vertical-align: top;\n",
       "    }\n",
       "\n",
       "    .dataframe thead th {\n",
       "        text-align: right;\n",
       "    }\n",
       "</style>\n",
       "<table border=\"1\" class=\"dataframe\">\n",
       "  <thead>\n",
       "    <tr style=\"text-align: right;\">\n",
       "      <th></th>\n",
       "      <th>Total ROI</th>\n",
       "      <th>Total Trades</th>\n",
       "      <th>Win Rate</th>\n",
       "      <th>Avg Profit% per Trade</th>\n",
       "      <th>Avg Loss% per Trade</th>\n",
       "      <th>Max Drawdown</th>\n",
       "      <th>ROI/DD Ratio</th>\n",
       "      <th>Variation</th>\n",
       "    </tr>\n",
       "  </thead>\n",
       "  <tbody>\n",
       "    <tr>\n",
       "      <th>2017</th>\n",
       "      <td>41.9279</td>\n",
       "      <td>57</td>\n",
       "      <td>35.0877</td>\n",
       "      <td>5.9858</td>\n",
       "      <td>-2.1024</td>\n",
       "      <td>-14.2530</td>\n",
       "      <td>2.9417</td>\n",
       "      <td>...</td>\n",
       "    </tr>\n",
       "    <tr>\n",
       "      <th>2018</th>\n",
       "      <td>58.9088</td>\n",
       "      <td>46</td>\n",
       "      <td>45.6522</td>\n",
       "      <td>5.3542</td>\n",
       "      <td>-2.1412</td>\n",
       "      <td>-16.0640</td>\n",
       "      <td>3.6671</td>\n",
       "      <td>...</td>\n",
       "    </tr>\n",
       "    <tr>\n",
       "      <th>2019</th>\n",
       "      <td>42.9348</td>\n",
       "      <td>55</td>\n",
       "      <td>32.7273</td>\n",
       "      <td>6.4110</td>\n",
       "      <td>-1.9584</td>\n",
       "      <td>-25.5116</td>\n",
       "      <td>1.6830</td>\n",
       "      <td>...</td>\n",
       "    </tr>\n",
       "    <tr>\n",
       "      <th>2020</th>\n",
       "      <td>111.5422</td>\n",
       "      <td>60</td>\n",
       "      <td>40.0000</td>\n",
       "      <td>8.0413</td>\n",
       "      <td>-2.2624</td>\n",
       "      <td>-14.3503</td>\n",
       "      <td>7.7728</td>\n",
       "      <td>...</td>\n",
       "    </tr>\n",
       "    <tr>\n",
       "      <th>2021</th>\n",
       "      <td>71.0830</td>\n",
       "      <td>62</td>\n",
       "      <td>37.0968</td>\n",
       "      <td>6.1513</td>\n",
       "      <td>-1.8051</td>\n",
       "      <td>-24.9277</td>\n",
       "      <td>2.8516</td>\n",
       "      <td>...</td>\n",
       "    </tr>\n",
       "    <tr>\n",
       "      <th>2022</th>\n",
       "      <td>44.1738</td>\n",
       "      <td>55</td>\n",
       "      <td>30.9091</td>\n",
       "      <td>7.1224</td>\n",
       "      <td>-2.0239</td>\n",
       "      <td>-23.8881</td>\n",
       "      <td>1.8492</td>\n",
       "      <td>...</td>\n",
       "    </tr>\n",
       "    <tr>\n",
       "      <th>2023</th>\n",
       "      <td>100.8319</td>\n",
       "      <td>48</td>\n",
       "      <td>43.7500</td>\n",
       "      <td>7.5237</td>\n",
       "      <td>-2.1172</td>\n",
       "      <td>-12.6956</td>\n",
       "      <td>7.9423</td>\n",
       "      <td>...</td>\n",
       "    </tr>\n",
       "    <tr>\n",
       "      <th>2024</th>\n",
       "      <td>49.8675</td>\n",
       "      <td>48</td>\n",
       "      <td>37.5000</td>\n",
       "      <td>5.8425</td>\n",
       "      <td>-1.9068</td>\n",
       "      <td>-16.0097</td>\n",
       "      <td>3.1148</td>\n",
       "      <td>...</td>\n",
       "    </tr>\n",
       "    <tr>\n",
       "      <th>Overall</th>\n",
       "      <td>521.2699</td>\n",
       "      <td>431</td>\n",
       "      <td>37.5870</td>\n",
       "      <td>6.5819</td>\n",
       "      <td>-2.0336</td>\n",
       "      <td>-25.5116</td>\n",
       "      <td>20.4326</td>\n",
       "      <td>...</td>\n",
       "    </tr>\n",
       "  </tbody>\n",
       "</table>\n",
       "</div>"
      ],
      "text/plain": [
       "        Total ROI Total Trades Win Rate Avg Profit% per Trade  \\\n",
       "2017      41.9279           57  35.0877                5.9858   \n",
       "2018      58.9088           46  45.6522                5.3542   \n",
       "2019      42.9348           55  32.7273                6.4110   \n",
       "2020     111.5422           60  40.0000                8.0413   \n",
       "2021      71.0830           62  37.0968                6.1513   \n",
       "2022      44.1738           55  30.9091                7.1224   \n",
       "2023     100.8319           48  43.7500                7.5237   \n",
       "2024      49.8675           48  37.5000                5.8425   \n",
       "Overall  521.2699          431  37.5870                6.5819   \n",
       "\n",
       "        Avg Loss% per Trade Max Drawdown ROI/DD Ratio Variation  \n",
       "2017                -2.1024     -14.2530       2.9417       ...  \n",
       "2018                -2.1412     -16.0640       3.6671       ...  \n",
       "2019                -1.9584     -25.5116       1.6830       ...  \n",
       "2020                -2.2624     -14.3503       7.7728       ...  \n",
       "2021                -1.8051     -24.9277       2.8516       ...  \n",
       "2022                -2.0239     -23.8881       1.8492       ...  \n",
       "2023                -2.1172     -12.6956       7.9423       ...  \n",
       "2024                -1.9068     -16.0097       3.1148       ...  \n",
       "Overall             -2.0336     -25.5116      20.4326       ...  "
      ]
     },
     "execution_count": 44,
     "metadata": {},
     "output_type": "execute_result"
    }
   ],
   "source": [
    "stats = generate_stats(tb, '...')\n",
    "lol = pd.DataFrame()\n",
    "for x, y in stats.items():\n",
    "    lol = pd.DataFrame(y)\n",
    "\n",
    "lol"
   ]
  },
  {
   "cell_type": "markdown",
   "id": "2551dda7-5013-42ee-9c38-147beabe4ee9",
   "metadata": {},
   "source": [
    "# Gold 4H X_Days High, Y_Days Low "
   ]
  },
  {
   "cell_type": "code",
   "execution_count": 45,
   "id": "557af72c-768d-4228-9dc3-6932a817a1a5",
   "metadata": {
    "execution": {
     "iopub.execute_input": "2024-12-18T20:45:10.775536Z",
     "iopub.status.busy": "2024-12-18T20:45:10.774999Z",
     "iopub.status.idle": "2024-12-18T20:45:10.783533Z",
     "shell.execute_reply": "2024-12-18T20:45:10.782537Z",
     "shell.execute_reply.started": "2024-12-18T20:45:10.775518Z"
    }
   },
   "outputs": [
    {
     "data": {
      "text/plain": [
       "(521.269890144499, 0)"
      ]
     },
     "execution_count": 45,
     "metadata": {},
     "output_type": "execute_result"
    }
   ],
   "source": [
    "tb1 = tb[tb['Trade_Type'] == 'Long']\n",
    "tb2 = tb[tb['Trade_Type'] == 'Add_Long']\n",
    "tb1['ROI%'].sum() , tb2['ROI%'].sum()"
   ]
  },
  {
   "cell_type": "code",
   "execution_count": 46,
   "id": "97055e75-731e-4420-83a0-4c715364050a",
   "metadata": {
    "execution": {
     "iopub.execute_input": "2024-12-18T20:45:11.305968Z",
     "iopub.status.busy": "2024-12-18T20:45:11.305593Z",
     "iopub.status.idle": "2024-12-18T20:45:11.321462Z",
     "shell.execute_reply": "2024-12-18T20:45:11.320501Z",
     "shell.execute_reply.started": "2024-12-18T20:45:11.305947Z"
    },
    "scrolled": true
   },
   "outputs": [
    {
     "data": {
      "text/html": [
       "<div>\n",
       "<style scoped>\n",
       "    .dataframe tbody tr th:only-of-type {\n",
       "        vertical-align: middle;\n",
       "    }\n",
       "\n",
       "    .dataframe tbody tr th {\n",
       "        vertical-align: top;\n",
       "    }\n",
       "\n",
       "    .dataframe thead th {\n",
       "        text-align: right;\n",
       "    }\n",
       "</style>\n",
       "<table border=\"1\" class=\"dataframe\">\n",
       "  <thead>\n",
       "    <tr style=\"text-align: right;\">\n",
       "      <th></th>\n",
       "      <th>index</th>\n",
       "      <th>Trade No.</th>\n",
       "      <th>Entry_Date</th>\n",
       "      <th>Exit_Date</th>\n",
       "      <th>Trade_Type</th>\n",
       "      <th>Entry_Price</th>\n",
       "      <th>Previous MA Value</th>\n",
       "      <th>Initial SL</th>\n",
       "      <th>Exit_Price</th>\n",
       "      <th>Exit Remark</th>\n",
       "      <th>PnL</th>\n",
       "      <th>Slippage</th>\n",
       "      <th>PnL w cs</th>\n",
       "      <th>Qty</th>\n",
       "      <th>Profit_Loss INR</th>\n",
       "      <th>ROI%</th>\n",
       "      <th>Trade Year</th>\n",
       "    </tr>\n",
       "  </thead>\n",
       "  <tbody>\n",
       "    <tr>\n",
       "      <th>406</th>\n",
       "      <td>406</td>\n",
       "      <td>406</td>\n",
       "      <td>2024-06-03 09:15:00+05:30</td>\n",
       "      <td>2024-06-04 09:15:00+05:30</td>\n",
       "      <td>Long</td>\n",
       "      <td>23197.1000</td>\n",
       "      <td>22606.6833</td>\n",
       "      <td>22680.4167</td>\n",
       "      <td>22680.4167</td>\n",
       "      <td>Initial SL Hit</td>\n",
       "      <td>-516.6833</td>\n",
       "      <td>9.1755</td>\n",
       "      <td>-525.8588</td>\n",
       "      <td>580.6264</td>\n",
       "      <td>-305327.5398</td>\n",
       "      <td>-3.0533</td>\n",
       "      <td>2024</td>\n",
       "    </tr>\n",
       "    <tr>\n",
       "      <th>407</th>\n",
       "      <td>407</td>\n",
       "      <td>407</td>\n",
       "      <td>2024-06-05 13:15:00+05:30</td>\n",
       "      <td>2024-06-20 09:15:00+05:30</td>\n",
       "      <td>Long</td>\n",
       "      <td>22475.7000</td>\n",
       "      <td>22406.9833</td>\n",
       "      <td>22269.4667</td>\n",
       "      <td>23487.3500</td>\n",
       "      <td>Trailing SL Hit</td>\n",
       "      <td>1011.6500</td>\n",
       "      <td>9.1926</td>\n",
       "      <td>1002.4574</td>\n",
       "      <td>1454.6630</td>\n",
       "      <td>1458237.6774</td>\n",
       "      <td>14.5824</td>\n",
       "      <td>2024</td>\n",
       "    </tr>\n",
       "    <tr>\n",
       "      <th>408</th>\n",
       "      <td>408</td>\n",
       "      <td>408</td>\n",
       "      <td>2024-06-25 12:15:00+05:30</td>\n",
       "      <td>2024-07-05 09:15:00+05:30</td>\n",
       "      <td>Long</td>\n",
       "      <td>23672.5000</td>\n",
       "      <td>23609.3500</td>\n",
       "      <td>23574.1500</td>\n",
       "      <td>24226.0500</td>\n",
       "      <td>Trailing SL Hit</td>\n",
       "      <td>553.5500</td>\n",
       "      <td>9.5797</td>\n",
       "      <td>543.9703</td>\n",
       "      <td>3050.3305</td>\n",
       "      <td>1659289.1408</td>\n",
       "      <td>16.5929</td>\n",
       "      <td>2024</td>\n",
       "    </tr>\n",
       "    <tr>\n",
       "      <th>409</th>\n",
       "      <td>409</td>\n",
       "      <td>409</td>\n",
       "      <td>2024-07-05 14:15:00+05:30</td>\n",
       "      <td>2024-07-08 11:15:00+05:30</td>\n",
       "      <td>Long</td>\n",
       "      <td>24342.0500</td>\n",
       "      <td>24281.0333</td>\n",
       "      <td>24227.7333</td>\n",
       "      <td>24252.6500</td>\n",
       "      <td>Trailing SL Hit</td>\n",
       "      <td>-89.4000</td>\n",
       "      <td>9.7189</td>\n",
       "      <td>-99.1189</td>\n",
       "      <td>2624.2893</td>\n",
       "      <td>-260116.7692</td>\n",
       "      <td>-2.6012</td>\n",
       "      <td>2024</td>\n",
       "    </tr>\n",
       "    <tr>\n",
       "      <th>410</th>\n",
       "      <td>410</td>\n",
       "      <td>410</td>\n",
       "      <td>2024-07-12 10:15:00+05:30</td>\n",
       "      <td>2024-07-18 10:15:00+05:30</td>\n",
       "      <td>Long</td>\n",
       "      <td>24538.2500</td>\n",
       "      <td>24376.7333</td>\n",
       "      <td>24335.6167</td>\n",
       "      <td>24537.3500</td>\n",
       "      <td>Trailing SL Hit</td>\n",
       "      <td>-0.9000</td>\n",
       "      <td>9.8151</td>\n",
       "      <td>-10.7151</td>\n",
       "      <td>1480.5067</td>\n",
       "      <td>-15863.8065</td>\n",
       "      <td>-0.1586</td>\n",
       "      <td>2024</td>\n",
       "    </tr>\n",
       "    <tr>\n",
       "      <th>411</th>\n",
       "      <td>411</td>\n",
       "      <td>411</td>\n",
       "      <td>2024-07-18 12:15:00+05:30</td>\n",
       "      <td>2024-07-19 12:15:00+05:30</td>\n",
       "      <td>Long</td>\n",
       "      <td>24711.6000</td>\n",
       "      <td>24649.7000</td>\n",
       "      <td>24545.2333</td>\n",
       "      <td>24612.8000</td>\n",
       "      <td>Trailing SL Hit</td>\n",
       "      <td>-98.8000</td>\n",
       "      <td>9.8649</td>\n",
       "      <td>-108.6649</td>\n",
       "      <td>1803.2458</td>\n",
       "      <td>-195949.4931</td>\n",
       "      <td>-1.9595</td>\n",
       "      <td>2024</td>\n",
       "    </tr>\n",
       "    <tr>\n",
       "      <th>412</th>\n",
       "      <td>412</td>\n",
       "      <td>412</td>\n",
       "      <td>2024-07-26 09:15:00+05:30</td>\n",
       "      <td>2024-08-02 09:15:00+05:30</td>\n",
       "      <td>Long</td>\n",
       "      <td>24578.7000</td>\n",
       "      <td>24424.6500</td>\n",
       "      <td>24393.3167</td>\n",
       "      <td>24778.9000</td>\n",
       "      <td>Trailing SL Hit</td>\n",
       "      <td>200.2000</td>\n",
       "      <td>9.8715</td>\n",
       "      <td>190.3285</td>\n",
       "      <td>1618.2685</td>\n",
       "      <td>308002.5748</td>\n",
       "      <td>3.0800</td>\n",
       "      <td>2024</td>\n",
       "    </tr>\n",
       "    <tr>\n",
       "      <th>413</th>\n",
       "      <td>413</td>\n",
       "      <td>413</td>\n",
       "      <td>2024-08-09 09:15:00+05:30</td>\n",
       "      <td>2024-08-12 09:15:00+05:30</td>\n",
       "      <td>Long</td>\n",
       "      <td>24356.0000</td>\n",
       "      <td>24164.4167</td>\n",
       "      <td>24169.6500</td>\n",
       "      <td>24252.1500</td>\n",
       "      <td>Trailing SL Hit</td>\n",
       "      <td>-103.8500</td>\n",
       "      <td>9.7216</td>\n",
       "      <td>-113.5716</td>\n",
       "      <td>1609.8739</td>\n",
       "      <td>-182836.0021</td>\n",
       "      <td>-1.8284</td>\n",
       "      <td>2024</td>\n",
       "    </tr>\n",
       "    <tr>\n",
       "      <th>414</th>\n",
       "      <td>414</td>\n",
       "      <td>414</td>\n",
       "      <td>2024-08-12 10:15:00+05:30</td>\n",
       "      <td>2024-08-13 09:15:00+05:30</td>\n",
       "      <td>Long</td>\n",
       "      <td>24434.8000</td>\n",
       "      <td>24362.4500</td>\n",
       "      <td>24273.7333</td>\n",
       "      <td>24330.1000</td>\n",
       "      <td>Trailing SL Hit</td>\n",
       "      <td>-104.7000</td>\n",
       "      <td>9.7530</td>\n",
       "      <td>-114.4530</td>\n",
       "      <td>1862.5828</td>\n",
       "      <td>-213178.1498</td>\n",
       "      <td>-2.1318</td>\n",
       "      <td>2024</td>\n",
       "    </tr>\n",
       "    <tr>\n",
       "      <th>415</th>\n",
       "      <td>415</td>\n",
       "      <td>415</td>\n",
       "      <td>2024-08-16 09:15:00+05:30</td>\n",
       "      <td>2024-09-04 09:15:00+05:30</td>\n",
       "      <td>Long</td>\n",
       "      <td>24295.0000</td>\n",
       "      <td>24171.6333</td>\n",
       "      <td>24175.3000</td>\n",
       "      <td>25152.4500</td>\n",
       "      <td>Trailing SL Hit</td>\n",
       "      <td>857.4500</td>\n",
       "      <td>9.8895</td>\n",
       "      <td>847.5605</td>\n",
       "      <td>2506.2657</td>\n",
       "      <td>2124211.8045</td>\n",
       "      <td>21.2421</td>\n",
       "      <td>2024</td>\n",
       "    </tr>\n",
       "    <tr>\n",
       "      <th>416</th>\n",
       "      <td>416</td>\n",
       "      <td>416</td>\n",
       "      <td>2024-09-10 12:15:00+05:30</td>\n",
       "      <td>2024-09-11 13:15:00+05:30</td>\n",
       "      <td>Long</td>\n",
       "      <td>25098.5500</td>\n",
       "      <td>25012.8667</td>\n",
       "      <td>24966.1500</td>\n",
       "      <td>24966.1500</td>\n",
       "      <td>Initial SL Hit</td>\n",
       "      <td>-132.4000</td>\n",
       "      <td>10.0129</td>\n",
       "      <td>-142.4129</td>\n",
       "      <td>2265.8610</td>\n",
       "      <td>-322687.9305</td>\n",
       "      <td>-3.2269</td>\n",
       "      <td>2024</td>\n",
       "    </tr>\n",
       "    <tr>\n",
       "      <th>417</th>\n",
       "      <td>417</td>\n",
       "      <td>417</td>\n",
       "      <td>2024-09-12 13:15:00+05:30</td>\n",
       "      <td>2024-09-18 12:15:00+05:30</td>\n",
       "      <td>Long</td>\n",
       "      <td>25204.7000</td>\n",
       "      <td>25029.2167</td>\n",
       "      <td>24960.7667</td>\n",
       "      <td>25374.4000</td>\n",
       "      <td>Trailing SL Hit</td>\n",
       "      <td>169.7000</td>\n",
       "      <td>10.1158</td>\n",
       "      <td>159.5842</td>\n",
       "      <td>1229.8442</td>\n",
       "      <td>196263.6813</td>\n",
       "      <td>1.9626</td>\n",
       "      <td>2024</td>\n",
       "    </tr>\n",
       "    <tr>\n",
       "      <th>418</th>\n",
       "      <td>418</td>\n",
       "      <td>418</td>\n",
       "      <td>2024-09-19 09:15:00+05:30</td>\n",
       "      <td>2024-09-19 12:15:00+05:30</td>\n",
       "      <td>Long</td>\n",
       "      <td>25512.1500</td>\n",
       "      <td>25395.6833</td>\n",
       "      <td>25384.3500</td>\n",
       "      <td>25396.4000</td>\n",
       "      <td>Trailing SL Hit</td>\n",
       "      <td>-115.7500</td>\n",
       "      <td>10.1817</td>\n",
       "      <td>-125.9317</td>\n",
       "      <td>2347.4178</td>\n",
       "      <td>-295614.3427</td>\n",
       "      <td>-2.9561</td>\n",
       "      <td>2024</td>\n",
       "    </tr>\n",
       "    <tr>\n",
       "      <th>419</th>\n",
       "      <td>419</td>\n",
       "      <td>419</td>\n",
       "      <td>2024-09-20 09:15:00+05:30</td>\n",
       "      <td>2024-09-30 09:15:00+05:30</td>\n",
       "      <td>Long</td>\n",
       "      <td>25553.5500</td>\n",
       "      <td>25435.9333</td>\n",
       "      <td>25407.3500</td>\n",
       "      <td>25982.5500</td>\n",
       "      <td>Trailing SL Hit</td>\n",
       "      <td>429.0000</td>\n",
       "      <td>10.3072</td>\n",
       "      <td>418.6928</td>\n",
       "      <td>2051.9836</td>\n",
       "      <td>859150.7114</td>\n",
       "      <td>8.5915</td>\n",
       "      <td>2024</td>\n",
       "    </tr>\n",
       "    <tr>\n",
       "      <th>420</th>\n",
       "      <td>420</td>\n",
       "      <td>420</td>\n",
       "      <td>2024-10-09 09:15:00+05:30</td>\n",
       "      <td>2024-10-09 14:15:00+05:30</td>\n",
       "      <td>Long</td>\n",
       "      <td>25171.0000</td>\n",
       "      <td>25043.0000</td>\n",
       "      <td>24988.6667</td>\n",
       "      <td>24988.6667</td>\n",
       "      <td>Initial SL Hit</td>\n",
       "      <td>-182.3333</td>\n",
       "      <td>10.0319</td>\n",
       "      <td>-192.3653</td>\n",
       "      <td>1645.3382</td>\n",
       "      <td>-316505.9232</td>\n",
       "      <td>-3.1651</td>\n",
       "      <td>2024</td>\n",
       "    </tr>\n",
       "    <tr>\n",
       "      <th>421</th>\n",
       "      <td>421</td>\n",
       "      <td>421</td>\n",
       "      <td>2024-10-14 09:15:00+05:30</td>\n",
       "      <td>2024-10-15 09:15:00+05:30</td>\n",
       "      <td>Long</td>\n",
       "      <td>25100.1500</td>\n",
       "      <td>24978.2167</td>\n",
       "      <td>24972.7000</td>\n",
       "      <td>25055.3000</td>\n",
       "      <td>Trailing SL Hit</td>\n",
       "      <td>-44.8500</td>\n",
       "      <td>10.0311</td>\n",
       "      <td>-54.8811</td>\n",
       "      <td>2353.8643</td>\n",
       "      <td>-129182.6363</td>\n",
       "      <td>-1.2918</td>\n",
       "      <td>2024</td>\n",
       "    </tr>\n",
       "    <tr>\n",
       "      <th>422</th>\n",
       "      <td>422</td>\n",
       "      <td>422</td>\n",
       "      <td>2024-10-28 10:15:00+05:30</td>\n",
       "      <td>2024-10-28 14:15:00+05:30</td>\n",
       "      <td>Long</td>\n",
       "      <td>24399.3500</td>\n",
       "      <td>24235.1500</td>\n",
       "      <td>24199.5667</td>\n",
       "      <td>24343.9000</td>\n",
       "      <td>Trailing SL Hit</td>\n",
       "      <td>-55.4500</td>\n",
       "      <td>9.7486</td>\n",
       "      <td>-65.1986</td>\n",
       "      <td>1501.6268</td>\n",
       "      <td>-97904.0377</td>\n",
       "      <td>-0.9790</td>\n",
       "      <td>2024</td>\n",
       "    </tr>\n",
       "    <tr>\n",
       "      <th>423</th>\n",
       "      <td>423</td>\n",
       "      <td>423</td>\n",
       "      <td>2024-10-29 13:15:00+05:30</td>\n",
       "      <td>2024-10-30 13:15:00+05:30</td>\n",
       "      <td>Long</td>\n",
       "      <td>24417.5000</td>\n",
       "      <td>24294.6167</td>\n",
       "      <td>24239.2667</td>\n",
       "      <td>24323.5000</td>\n",
       "      <td>Trailing SL Hit</td>\n",
       "      <td>-94.0000</td>\n",
       "      <td>9.7482</td>\n",
       "      <td>-103.7482</td>\n",
       "      <td>1683.1868</td>\n",
       "      <td>-174627.6043</td>\n",
       "      <td>-1.7463</td>\n",
       "      <td>2024</td>\n",
       "    </tr>\n",
       "    <tr>\n",
       "      <th>424</th>\n",
       "      <td>424</td>\n",
       "      <td>424</td>\n",
       "      <td>2024-11-01 18:00:00+05:30</td>\n",
       "      <td>2024-11-04 09:15:00+05:30</td>\n",
       "      <td>Long</td>\n",
       "      <td>24300.5500</td>\n",
       "      <td>24234.0667</td>\n",
       "      <td>24214.1000</td>\n",
       "      <td>24214.1000</td>\n",
       "      <td>Initial SL Hit</td>\n",
       "      <td>-86.4500</td>\n",
       "      <td>9.7029</td>\n",
       "      <td>-96.1529</td>\n",
       "      <td>3470.2140</td>\n",
       "      <td>-333671.2435</td>\n",
       "      <td>-3.3367</td>\n",
       "      <td>2024</td>\n",
       "    </tr>\n",
       "    <tr>\n",
       "      <th>425</th>\n",
       "      <td>425</td>\n",
       "      <td>425</td>\n",
       "      <td>2024-11-05 13:15:00+05:30</td>\n",
       "      <td>2024-11-07 09:15:00+05:30</td>\n",
       "      <td>Long</td>\n",
       "      <td>24163.5500</td>\n",
       "      <td>23993.7833</td>\n",
       "      <td>23862.8167</td>\n",
       "      <td>24221.4000</td>\n",
       "      <td>Trailing SL Hit</td>\n",
       "      <td>57.8500</td>\n",
       "      <td>9.6770</td>\n",
       "      <td>48.1730</td>\n",
       "      <td>997.5615</td>\n",
       "      <td>48055.5409</td>\n",
       "      <td>0.4806</td>\n",
       "      <td>2024</td>\n",
       "    </tr>\n",
       "    <tr>\n",
       "      <th>426</th>\n",
       "      <td>426</td>\n",
       "      <td>426</td>\n",
       "      <td>2024-11-11 10:15:00+05:30</td>\n",
       "      <td>2024-11-11 13:15:00+05:30</td>\n",
       "      <td>Long</td>\n",
       "      <td>24309.6500</td>\n",
       "      <td>24170.3500</td>\n",
       "      <td>24073.7000</td>\n",
       "      <td>24107.5000</td>\n",
       "      <td>Trailing SL Hit</td>\n",
       "      <td>-202.1500</td>\n",
       "      <td>9.6834</td>\n",
       "      <td>-211.8334</td>\n",
       "      <td>1271.4558</td>\n",
       "      <td>-269336.8468</td>\n",
       "      <td>-2.6934</td>\n",
       "      <td>2024</td>\n",
       "    </tr>\n",
       "    <tr>\n",
       "      <th>427</th>\n",
       "      <td>427</td>\n",
       "      <td>427</td>\n",
       "      <td>2024-11-19 09:15:00+05:30</td>\n",
       "      <td>2024-11-19 14:15:00+05:30</td>\n",
       "      <td>Long</td>\n",
       "      <td>23691.8500</td>\n",
       "      <td>23488.7833</td>\n",
       "      <td>23459.2000</td>\n",
       "      <td>23492.5500</td>\n",
       "      <td>Trailing SL Hit</td>\n",
       "      <td>-199.3000</td>\n",
       "      <td>9.4369</td>\n",
       "      <td>-208.7369</td>\n",
       "      <td>1289.4907</td>\n",
       "      <td>-269164.2553</td>\n",
       "      <td>-2.6916</td>\n",
       "      <td>2024</td>\n",
       "    </tr>\n",
       "    <tr>\n",
       "      <th>428</th>\n",
       "      <td>428</td>\n",
       "      <td>428</td>\n",
       "      <td>2024-11-22 09:15:00+05:30</td>\n",
       "      <td>2024-11-28 10:15:00+05:30</td>\n",
       "      <td>Long</td>\n",
       "      <td>23575.5000</td>\n",
       "      <td>23364.8833</td>\n",
       "      <td>23339.3000</td>\n",
       "      <td>24087.9000</td>\n",
       "      <td>Trailing SL Hit</td>\n",
       "      <td>512.4000</td>\n",
       "      <td>9.5327</td>\n",
       "      <td>502.8673</td>\n",
       "      <td>1270.1101</td>\n",
       "      <td>638696.8501</td>\n",
       "      <td>6.3870</td>\n",
       "      <td>2024</td>\n",
       "    </tr>\n",
       "    <tr>\n",
       "      <th>429</th>\n",
       "      <td>429</td>\n",
       "      <td>429</td>\n",
       "      <td>2024-11-29 10:15:00+05:30</td>\n",
       "      <td>2024-12-05 10:15:00+05:30</td>\n",
       "      <td>Long</td>\n",
       "      <td>24120.9000</td>\n",
       "      <td>24013.6500</td>\n",
       "      <td>23941.2000</td>\n",
       "      <td>24368.0500</td>\n",
       "      <td>Trailing SL Hit</td>\n",
       "      <td>247.1500</td>\n",
       "      <td>9.6978</td>\n",
       "      <td>237.4522</td>\n",
       "      <td>1669.4491</td>\n",
       "      <td>396414.3740</td>\n",
       "      <td>3.9641</td>\n",
       "      <td>2024</td>\n",
       "    </tr>\n",
       "    <tr>\n",
       "      <th>430</th>\n",
       "      <td>430</td>\n",
       "      <td>430</td>\n",
       "      <td>2024-12-05 11:15:00+05:30</td>\n",
       "      <td>None</td>\n",
       "      <td>Long</td>\n",
       "      <td>24589.9000</td>\n",
       "      <td>24488.0333</td>\n",
       "      <td>24340.6167</td>\n",
       "      <td>None</td>\n",
       "      <td>NaN</td>\n",
       "      <td>NaN</td>\n",
       "      <td>NaN</td>\n",
       "      <td>NaN</td>\n",
       "      <td>1203.4499</td>\n",
       "      <td>NaN</td>\n",
       "      <td>NaN</td>\n",
       "      <td>2024</td>\n",
       "    </tr>\n",
       "  </tbody>\n",
       "</table>\n",
       "</div>"
      ],
      "text/plain": [
       "     index  Trade No.                Entry_Date                  Exit_Date  \\\n",
       "406    406        406 2024-06-03 09:15:00+05:30  2024-06-04 09:15:00+05:30   \n",
       "407    407        407 2024-06-05 13:15:00+05:30  2024-06-20 09:15:00+05:30   \n",
       "408    408        408 2024-06-25 12:15:00+05:30  2024-07-05 09:15:00+05:30   \n",
       "409    409        409 2024-07-05 14:15:00+05:30  2024-07-08 11:15:00+05:30   \n",
       "410    410        410 2024-07-12 10:15:00+05:30  2024-07-18 10:15:00+05:30   \n",
       "411    411        411 2024-07-18 12:15:00+05:30  2024-07-19 12:15:00+05:30   \n",
       "412    412        412 2024-07-26 09:15:00+05:30  2024-08-02 09:15:00+05:30   \n",
       "413    413        413 2024-08-09 09:15:00+05:30  2024-08-12 09:15:00+05:30   \n",
       "414    414        414 2024-08-12 10:15:00+05:30  2024-08-13 09:15:00+05:30   \n",
       "415    415        415 2024-08-16 09:15:00+05:30  2024-09-04 09:15:00+05:30   \n",
       "416    416        416 2024-09-10 12:15:00+05:30  2024-09-11 13:15:00+05:30   \n",
       "417    417        417 2024-09-12 13:15:00+05:30  2024-09-18 12:15:00+05:30   \n",
       "418    418        418 2024-09-19 09:15:00+05:30  2024-09-19 12:15:00+05:30   \n",
       "419    419        419 2024-09-20 09:15:00+05:30  2024-09-30 09:15:00+05:30   \n",
       "420    420        420 2024-10-09 09:15:00+05:30  2024-10-09 14:15:00+05:30   \n",
       "421    421        421 2024-10-14 09:15:00+05:30  2024-10-15 09:15:00+05:30   \n",
       "422    422        422 2024-10-28 10:15:00+05:30  2024-10-28 14:15:00+05:30   \n",
       "423    423        423 2024-10-29 13:15:00+05:30  2024-10-30 13:15:00+05:30   \n",
       "424    424        424 2024-11-01 18:00:00+05:30  2024-11-04 09:15:00+05:30   \n",
       "425    425        425 2024-11-05 13:15:00+05:30  2024-11-07 09:15:00+05:30   \n",
       "426    426        426 2024-11-11 10:15:00+05:30  2024-11-11 13:15:00+05:30   \n",
       "427    427        427 2024-11-19 09:15:00+05:30  2024-11-19 14:15:00+05:30   \n",
       "428    428        428 2024-11-22 09:15:00+05:30  2024-11-28 10:15:00+05:30   \n",
       "429    429        429 2024-11-29 10:15:00+05:30  2024-12-05 10:15:00+05:30   \n",
       "430    430        430 2024-12-05 11:15:00+05:30                       None   \n",
       "\n",
       "    Trade_Type  Entry_Price  Previous MA Value  Initial SL Exit_Price  \\\n",
       "406       Long   23197.1000         22606.6833  22680.4167 22680.4167   \n",
       "407       Long   22475.7000         22406.9833  22269.4667 23487.3500   \n",
       "408       Long   23672.5000         23609.3500  23574.1500 24226.0500   \n",
       "409       Long   24342.0500         24281.0333  24227.7333 24252.6500   \n",
       "410       Long   24538.2500         24376.7333  24335.6167 24537.3500   \n",
       "411       Long   24711.6000         24649.7000  24545.2333 24612.8000   \n",
       "412       Long   24578.7000         24424.6500  24393.3167 24778.9000   \n",
       "413       Long   24356.0000         24164.4167  24169.6500 24252.1500   \n",
       "414       Long   24434.8000         24362.4500  24273.7333 24330.1000   \n",
       "415       Long   24295.0000         24171.6333  24175.3000 25152.4500   \n",
       "416       Long   25098.5500         25012.8667  24966.1500 24966.1500   \n",
       "417       Long   25204.7000         25029.2167  24960.7667 25374.4000   \n",
       "418       Long   25512.1500         25395.6833  25384.3500 25396.4000   \n",
       "419       Long   25553.5500         25435.9333  25407.3500 25982.5500   \n",
       "420       Long   25171.0000         25043.0000  24988.6667 24988.6667   \n",
       "421       Long   25100.1500         24978.2167  24972.7000 25055.3000   \n",
       "422       Long   24399.3500         24235.1500  24199.5667 24343.9000   \n",
       "423       Long   24417.5000         24294.6167  24239.2667 24323.5000   \n",
       "424       Long   24300.5500         24234.0667  24214.1000 24214.1000   \n",
       "425       Long   24163.5500         23993.7833  23862.8167 24221.4000   \n",
       "426       Long   24309.6500         24170.3500  24073.7000 24107.5000   \n",
       "427       Long   23691.8500         23488.7833  23459.2000 23492.5500   \n",
       "428       Long   23575.5000         23364.8833  23339.3000 24087.9000   \n",
       "429       Long   24120.9000         24013.6500  23941.2000 24368.0500   \n",
       "430       Long   24589.9000         24488.0333  24340.6167       None   \n",
       "\n",
       "         Exit Remark       PnL Slippage  PnL w cs       Qty Profit_Loss INR  \\\n",
       "406   Initial SL Hit -516.6833   9.1755 -525.8588  580.6264    -305327.5398   \n",
       "407  Trailing SL Hit 1011.6500   9.1926 1002.4574 1454.6630    1458237.6774   \n",
       "408  Trailing SL Hit  553.5500   9.5797  543.9703 3050.3305    1659289.1408   \n",
       "409  Trailing SL Hit  -89.4000   9.7189  -99.1189 2624.2893    -260116.7692   \n",
       "410  Trailing SL Hit   -0.9000   9.8151  -10.7151 1480.5067     -15863.8065   \n",
       "411  Trailing SL Hit  -98.8000   9.8649 -108.6649 1803.2458    -195949.4931   \n",
       "412  Trailing SL Hit  200.2000   9.8715  190.3285 1618.2685     308002.5748   \n",
       "413  Trailing SL Hit -103.8500   9.7216 -113.5716 1609.8739    -182836.0021   \n",
       "414  Trailing SL Hit -104.7000   9.7530 -114.4530 1862.5828    -213178.1498   \n",
       "415  Trailing SL Hit  857.4500   9.8895  847.5605 2506.2657    2124211.8045   \n",
       "416   Initial SL Hit -132.4000  10.0129 -142.4129 2265.8610    -322687.9305   \n",
       "417  Trailing SL Hit  169.7000  10.1158  159.5842 1229.8442     196263.6813   \n",
       "418  Trailing SL Hit -115.7500  10.1817 -125.9317 2347.4178    -295614.3427   \n",
       "419  Trailing SL Hit  429.0000  10.3072  418.6928 2051.9836     859150.7114   \n",
       "420   Initial SL Hit -182.3333  10.0319 -192.3653 1645.3382    -316505.9232   \n",
       "421  Trailing SL Hit  -44.8500  10.0311  -54.8811 2353.8643    -129182.6363   \n",
       "422  Trailing SL Hit  -55.4500   9.7486  -65.1986 1501.6268     -97904.0377   \n",
       "423  Trailing SL Hit  -94.0000   9.7482 -103.7482 1683.1868    -174627.6043   \n",
       "424   Initial SL Hit  -86.4500   9.7029  -96.1529 3470.2140    -333671.2435   \n",
       "425  Trailing SL Hit   57.8500   9.6770   48.1730  997.5615      48055.5409   \n",
       "426  Trailing SL Hit -202.1500   9.6834 -211.8334 1271.4558    -269336.8468   \n",
       "427  Trailing SL Hit -199.3000   9.4369 -208.7369 1289.4907    -269164.2553   \n",
       "428  Trailing SL Hit  512.4000   9.5327  502.8673 1270.1101     638696.8501   \n",
       "429  Trailing SL Hit  247.1500   9.6978  237.4522 1669.4491     396414.3740   \n",
       "430              NaN       NaN      NaN       NaN 1203.4499             NaN   \n",
       "\n",
       "       ROI%  Trade Year  \n",
       "406 -3.0533        2024  \n",
       "407 14.5824        2024  \n",
       "408 16.5929        2024  \n",
       "409 -2.6012        2024  \n",
       "410 -0.1586        2024  \n",
       "411 -1.9595        2024  \n",
       "412  3.0800        2024  \n",
       "413 -1.8284        2024  \n",
       "414 -2.1318        2024  \n",
       "415 21.2421        2024  \n",
       "416 -3.2269        2024  \n",
       "417  1.9626        2024  \n",
       "418 -2.9561        2024  \n",
       "419  8.5915        2024  \n",
       "420 -3.1651        2024  \n",
       "421 -1.2918        2024  \n",
       "422 -0.9790        2024  \n",
       "423 -1.7463        2024  \n",
       "424 -3.3367        2024  \n",
       "425  0.4806        2024  \n",
       "426 -2.6934        2024  \n",
       "427 -2.6916        2024  \n",
       "428  6.3870        2024  \n",
       "429  3.9641        2024  \n",
       "430     NaN        2024  "
      ]
     },
     "execution_count": 46,
     "metadata": {},
     "output_type": "execute_result"
    }
   ],
   "source": [
    "tb.tail(25)"
   ]
  },
  {
   "cell_type": "code",
   "execution_count": 47,
   "id": "a194fb70-ba76-4395-826d-df4b06ec176d",
   "metadata": {
    "execution": {
     "iopub.execute_input": "2024-12-18T20:45:12.616942Z",
     "iopub.status.busy": "2024-12-18T20:45:12.616620Z",
     "iopub.status.idle": "2024-12-18T20:45:12.620978Z",
     "shell.execute_reply": "2024-12-18T20:45:12.620062Z",
     "shell.execute_reply.started": "2024-12-18T20:45:12.616926Z"
    },
    "scrolled": true
   },
   "outputs": [],
   "source": [
    "# tb.to_csv('SENSEX_jjpp_55_9_HALF_PCT_0_PYR.csv')"
   ]
  },
  {
   "cell_type": "code",
   "execution_count": 48,
   "id": "1706cc8b-5462-435e-a9bf-0fa4a7f542c7",
   "metadata": {
    "execution": {
     "iopub.execute_input": "2024-12-18T20:45:12.757531Z",
     "iopub.status.busy": "2024-12-18T20:45:12.756520Z",
     "iopub.status.idle": "2024-12-18T20:45:12.761534Z",
     "shell.execute_reply": "2024-12-18T20:45:12.760294Z",
     "shell.execute_reply.started": "2024-12-18T20:45:12.757512Z"
    }
   },
   "outputs": [],
   "source": [
    "# tb_long_only.to_csv('GOLD Range JJPP.csv', index=False)"
   ]
  },
  {
   "cell_type": "code",
   "execution_count": null,
   "id": "25678f46-885a-4bfb-b2e9-f931209225ed",
   "metadata": {
    "execution": {
     "iopub.execute_input": "2024-12-18T20:51:38.057641Z",
     "iopub.status.busy": "2024-12-18T20:51:38.056944Z"
    },
    "scrolled": true
   },
   "outputs": [
    {
     "name": "stdout",
     "output_type": "stream",
     "text": [
      "EMA:20, X:3, PCT:0.25\n"
     ]
    },
    {
     "name": "stderr",
     "output_type": "stream",
     "text": [
      "/tmp/ipykernel_32292/2639050160.py:92: FutureWarning: Setting an item of incompatible dtype is deprecated and will raise an error in a future version of pandas. Value 'Trailing SL Hit' has dtype incompatible with float64, please explicitly cast to a compatible dtype first.\n",
      "  tradebook_long.loc[\n"
     ]
    },
    {
     "name": "stdout",
     "output_type": "stream",
     "text": [
      "        Total ROI Total Trades Win Rate Avg Profit% per Trade Avg Loss% per Trade Max Drawdown ROI/DD Ratio              Variation\n",
      "2017      41.9279           57  35.0877                5.9858             -2.1024     -14.2530       2.9417  EMA:20, X:3, PCT:0.25\n",
      "2018      58.9088           46  45.6522                5.3542             -2.1412     -16.0640       3.6671  EMA:20, X:3, PCT:0.25\n",
      "2019      42.9348           55  32.7273                6.4110             -1.9584     -25.5116       1.6830  EMA:20, X:3, PCT:0.25\n",
      "2020     111.5422           60  40.0000                8.0413             -2.2624     -14.3503       7.7728  EMA:20, X:3, PCT:0.25\n",
      "2021      71.0830           62  37.0968                6.1513             -1.8051     -24.9277       2.8516  EMA:20, X:3, PCT:0.25\n",
      "2022      44.1738           55  30.9091                7.1224             -2.0239     -23.8881       1.8492  EMA:20, X:3, PCT:0.25\n",
      "2023     100.8319           48  43.7500                7.5237             -2.1172     -12.6956       7.9423  EMA:20, X:3, PCT:0.25\n",
      "2024      49.8675           48  37.5000                5.8425             -1.9068     -16.0097       3.1148  EMA:20, X:3, PCT:0.25\n",
      "Overall  521.2699          431  37.5870                6.5819             -2.0336     -25.5116      20.4326  EMA:20, X:3, PCT:0.25\n",
      "EMA:20, X:3, PCT:0.5\n"
     ]
    },
    {
     "name": "stderr",
     "output_type": "stream",
     "text": [
      "/tmp/ipykernel_32292/2639050160.py:92: FutureWarning: Setting an item of incompatible dtype is deprecated and will raise an error in a future version of pandas. Value 'Trailing SL Hit' has dtype incompatible with float64, please explicitly cast to a compatible dtype first.\n",
      "  tradebook_long.loc[\n"
     ]
    },
    {
     "name": "stdout",
     "output_type": "stream",
     "text": [
      "EMA:20, X:3, PCT:0.75\n"
     ]
    },
    {
     "name": "stderr",
     "output_type": "stream",
     "text": [
      "/tmp/ipykernel_32292/2639050160.py:92: FutureWarning: Setting an item of incompatible dtype is deprecated and will raise an error in a future version of pandas. Value 'Trailing SL Hit' has dtype incompatible with float64, please explicitly cast to a compatible dtype first.\n",
      "  tradebook_long.loc[\n",
      "/tmp/ipykernel_32292/2611632047.py:45: RuntimeWarning: divide by zero encountered in scalar divide\n",
      "  roi_dd_ratio = total_roi / abs(max_drawdown)\n",
      "/tmp/ipykernel_32292/2639050160.py:92: FutureWarning: Setting an item of incompatible dtype is deprecated and will raise an error in a future version of pandas. Value 'Trailing SL Hit' has dtype incompatible with float64, please explicitly cast to a compatible dtype first.\n",
      "  tradebook_long.loc[\n"
     ]
    },
    {
     "name": "stdout",
     "output_type": "stream",
     "text": [
      "EMA:20, X:3, PCT:1\n"
     ]
    },
    {
     "name": "stderr",
     "output_type": "stream",
     "text": [
      "/tmp/ipykernel_32292/2611632047.py:45: RuntimeWarning: divide by zero encountered in scalar divide\n",
      "  roi_dd_ratio = total_roi / abs(max_drawdown)\n",
      "/tmp/ipykernel_32292/2639050160.py:92: FutureWarning: Setting an item of incompatible dtype is deprecated and will raise an error in a future version of pandas. Value 'Trailing SL Hit' has dtype incompatible with float64, please explicitly cast to a compatible dtype first.\n",
      "  tradebook_long.loc[\n"
     ]
    },
    {
     "name": "stdout",
     "output_type": "stream",
     "text": [
      "EMA:20, X:6, PCT:0.25\n",
      "EMA:20, X:6, PCT:0.5\n"
     ]
    },
    {
     "name": "stderr",
     "output_type": "stream",
     "text": [
      "/tmp/ipykernel_32292/2639050160.py:92: FutureWarning: Setting an item of incompatible dtype is deprecated and will raise an error in a future version of pandas. Value 'Trailing SL Hit' has dtype incompatible with float64, please explicitly cast to a compatible dtype first.\n",
      "  tradebook_long.loc[\n"
     ]
    },
    {
     "name": "stdout",
     "output_type": "stream",
     "text": [
      "EMA:20, X:6, PCT:0.75\n"
     ]
    },
    {
     "name": "stderr",
     "output_type": "stream",
     "text": [
      "/tmp/ipykernel_32292/2639050160.py:92: FutureWarning: Setting an item of incompatible dtype is deprecated and will raise an error in a future version of pandas. Value 'Trailing SL Hit' has dtype incompatible with float64, please explicitly cast to a compatible dtype first.\n",
      "  tradebook_long.loc[\n"
     ]
    },
    {
     "name": "stdout",
     "output_type": "stream",
     "text": [
      "EMA:20, X:6, PCT:1\n"
     ]
    },
    {
     "name": "stderr",
     "output_type": "stream",
     "text": [
      "/tmp/ipykernel_32292/2639050160.py:92: FutureWarning: Setting an item of incompatible dtype is deprecated and will raise an error in a future version of pandas. Value 'Trailing SL Hit' has dtype incompatible with float64, please explicitly cast to a compatible dtype first.\n",
      "  tradebook_long.loc[\n",
      "/tmp/ipykernel_32292/2611632047.py:45: RuntimeWarning: divide by zero encountered in scalar divide\n",
      "  roi_dd_ratio = total_roi / abs(max_drawdown)\n",
      "/tmp/ipykernel_32292/2639050160.py:92: FutureWarning: Setting an item of incompatible dtype is deprecated and will raise an error in a future version of pandas. Value 'Trailing SL Hit' has dtype incompatible with float64, please explicitly cast to a compatible dtype first.\n",
      "  tradebook_long.loc[\n"
     ]
    },
    {
     "name": "stdout",
     "output_type": "stream",
     "text": [
      "EMA:20, X:9, PCT:0.25\n",
      "EMA:20, X:9, PCT:0.5\n"
     ]
    },
    {
     "name": "stderr",
     "output_type": "stream",
     "text": [
      "/tmp/ipykernel_32292/2639050160.py:92: FutureWarning: Setting an item of incompatible dtype is deprecated and will raise an error in a future version of pandas. Value 'Trailing SL Hit' has dtype incompatible with float64, please explicitly cast to a compatible dtype first.\n",
      "  tradebook_long.loc[\n"
     ]
    },
    {
     "name": "stdout",
     "output_type": "stream",
     "text": [
      "EMA:20, X:9, PCT:0.75\n"
     ]
    },
    {
     "name": "stderr",
     "output_type": "stream",
     "text": [
      "/tmp/ipykernel_32292/2639050160.py:92: FutureWarning: Setting an item of incompatible dtype is deprecated and will raise an error in a future version of pandas. Value 'Trailing SL Hit' has dtype incompatible with float64, please explicitly cast to a compatible dtype first.\n",
      "  tradebook_long.loc[\n"
     ]
    },
    {
     "name": "stdout",
     "output_type": "stream",
     "text": [
      "EMA:20, X:9, PCT:1\n"
     ]
    },
    {
     "name": "stderr",
     "output_type": "stream",
     "text": [
      "/tmp/ipykernel_32292/2639050160.py:92: FutureWarning: Setting an item of incompatible dtype is deprecated and will raise an error in a future version of pandas. Value 'Trailing SL Hit' has dtype incompatible with float64, please explicitly cast to a compatible dtype first.\n",
      "  tradebook_long.loc[\n"
     ]
    },
    {
     "name": "stdout",
     "output_type": "stream",
     "text": [
      "EMA:20, X:12, PCT:0.25\n"
     ]
    },
    {
     "name": "stderr",
     "output_type": "stream",
     "text": [
      "/tmp/ipykernel_32292/2639050160.py:92: FutureWarning: Setting an item of incompatible dtype is deprecated and will raise an error in a future version of pandas. Value 'Trailing SL Hit' has dtype incompatible with float64, please explicitly cast to a compatible dtype first.\n",
      "  tradebook_long.loc[\n"
     ]
    },
    {
     "name": "stdout",
     "output_type": "stream",
     "text": [
      "EMA:20, X:12, PCT:0.5\n"
     ]
    },
    {
     "name": "stderr",
     "output_type": "stream",
     "text": [
      "/tmp/ipykernel_32292/2639050160.py:92: FutureWarning: Setting an item of incompatible dtype is deprecated and will raise an error in a future version of pandas. Value 'Trailing SL Hit' has dtype incompatible with float64, please explicitly cast to a compatible dtype first.\n",
      "  tradebook_long.loc[\n"
     ]
    },
    {
     "name": "stdout",
     "output_type": "stream",
     "text": [
      "EMA:20, X:12, PCT:0.75\n"
     ]
    },
    {
     "name": "stderr",
     "output_type": "stream",
     "text": [
      "/tmp/ipykernel_32292/2639050160.py:92: FutureWarning: Setting an item of incompatible dtype is deprecated and will raise an error in a future version of pandas. Value 'Trailing SL Hit' has dtype incompatible with float64, please explicitly cast to a compatible dtype first.\n",
      "  tradebook_long.loc[\n"
     ]
    },
    {
     "name": "stdout",
     "output_type": "stream",
     "text": [
      "EMA:20, X:12, PCT:1\n"
     ]
    },
    {
     "name": "stderr",
     "output_type": "stream",
     "text": [
      "/tmp/ipykernel_32292/2639050160.py:92: FutureWarning: Setting an item of incompatible dtype is deprecated and will raise an error in a future version of pandas. Value 'Trailing SL Hit' has dtype incompatible with float64, please explicitly cast to a compatible dtype first.\n",
      "  tradebook_long.loc[\n"
     ]
    },
    {
     "name": "stdout",
     "output_type": "stream",
     "text": [
      "EMA:20, X:15, PCT:0.25\n"
     ]
    },
    {
     "name": "stderr",
     "output_type": "stream",
     "text": [
      "/tmp/ipykernel_32292/2639050160.py:92: FutureWarning: Setting an item of incompatible dtype is deprecated and will raise an error in a future version of pandas. Value 'Trailing SL Hit' has dtype incompatible with float64, please explicitly cast to a compatible dtype first.\n",
      "  tradebook_long.loc[\n"
     ]
    },
    {
     "name": "stdout",
     "output_type": "stream",
     "text": [
      "EMA:20, X:15, PCT:0.5\n"
     ]
    },
    {
     "name": "stderr",
     "output_type": "stream",
     "text": [
      "/tmp/ipykernel_32292/2639050160.py:92: FutureWarning: Setting an item of incompatible dtype is deprecated and will raise an error in a future version of pandas. Value 'Trailing SL Hit' has dtype incompatible with float64, please explicitly cast to a compatible dtype first.\n",
      "  tradebook_long.loc[\n"
     ]
    },
    {
     "name": "stdout",
     "output_type": "stream",
     "text": [
      "EMA:20, X:15, PCT:0.75\n"
     ]
    },
    {
     "name": "stderr",
     "output_type": "stream",
     "text": [
      "/tmp/ipykernel_32292/2639050160.py:92: FutureWarning: Setting an item of incompatible dtype is deprecated and will raise an error in a future version of pandas. Value 'Trailing SL Hit' has dtype incompatible with float64, please explicitly cast to a compatible dtype first.\n",
      "  tradebook_long.loc[\n"
     ]
    },
    {
     "name": "stdout",
     "output_type": "stream",
     "text": [
      "EMA:20, X:15, PCT:1\n"
     ]
    },
    {
     "name": "stderr",
     "output_type": "stream",
     "text": [
      "/tmp/ipykernel_32292/2639050160.py:92: FutureWarning: Setting an item of incompatible dtype is deprecated and will raise an error in a future version of pandas. Value 'Trailing SL Hit' has dtype incompatible with float64, please explicitly cast to a compatible dtype first.\n",
      "  tradebook_long.loc[\n"
     ]
    },
    {
     "name": "stdout",
     "output_type": "stream",
     "text": [
      "EMA:20, X:18, PCT:0.25\n"
     ]
    },
    {
     "name": "stderr",
     "output_type": "stream",
     "text": [
      "/tmp/ipykernel_32292/2639050160.py:92: FutureWarning: Setting an item of incompatible dtype is deprecated and will raise an error in a future version of pandas. Value 'Trailing SL Hit' has dtype incompatible with float64, please explicitly cast to a compatible dtype first.\n",
      "  tradebook_long.loc[\n"
     ]
    },
    {
     "name": "stdout",
     "output_type": "stream",
     "text": [
      "EMA:20, X:18, PCT:0.5\n"
     ]
    },
    {
     "name": "stderr",
     "output_type": "stream",
     "text": [
      "/tmp/ipykernel_32292/2639050160.py:92: FutureWarning: Setting an item of incompatible dtype is deprecated and will raise an error in a future version of pandas. Value 'Trailing SL Hit' has dtype incompatible with float64, please explicitly cast to a compatible dtype first.\n",
      "  tradebook_long.loc[\n"
     ]
    },
    {
     "name": "stdout",
     "output_type": "stream",
     "text": [
      "EMA:20, X:18, PCT:0.75\n"
     ]
    },
    {
     "name": "stderr",
     "output_type": "stream",
     "text": [
      "/tmp/ipykernel_32292/2639050160.py:92: FutureWarning: Setting an item of incompatible dtype is deprecated and will raise an error in a future version of pandas. Value 'Trailing SL Hit' has dtype incompatible with float64, please explicitly cast to a compatible dtype first.\n",
      "  tradebook_long.loc[\n"
     ]
    },
    {
     "name": "stdout",
     "output_type": "stream",
     "text": [
      "EMA:20, X:18, PCT:1\n"
     ]
    },
    {
     "name": "stderr",
     "output_type": "stream",
     "text": [
      "/tmp/ipykernel_32292/2639050160.py:92: FutureWarning: Setting an item of incompatible dtype is deprecated and will raise an error in a future version of pandas. Value 'Trailing SL Hit' has dtype incompatible with float64, please explicitly cast to a compatible dtype first.\n",
      "  tradebook_long.loc[\n"
     ]
    },
    {
     "name": "stdout",
     "output_type": "stream",
     "text": [
      "EMA:20, X:21, PCT:0.25\n"
     ]
    },
    {
     "name": "stderr",
     "output_type": "stream",
     "text": [
      "/tmp/ipykernel_32292/2639050160.py:92: FutureWarning: Setting an item of incompatible dtype is deprecated and will raise an error in a future version of pandas. Value 'Trailing SL Hit' has dtype incompatible with float64, please explicitly cast to a compatible dtype first.\n",
      "  tradebook_long.loc[\n"
     ]
    },
    {
     "name": "stdout",
     "output_type": "stream",
     "text": [
      "EMA:20, X:21, PCT:0.5\n"
     ]
    },
    {
     "name": "stderr",
     "output_type": "stream",
     "text": [
      "/tmp/ipykernel_32292/2639050160.py:92: FutureWarning: Setting an item of incompatible dtype is deprecated and will raise an error in a future version of pandas. Value 'Trailing SL Hit' has dtype incompatible with float64, please explicitly cast to a compatible dtype first.\n",
      "  tradebook_long.loc[\n"
     ]
    },
    {
     "name": "stdout",
     "output_type": "stream",
     "text": [
      "EMA:20, X:21, PCT:0.75\n"
     ]
    },
    {
     "name": "stderr",
     "output_type": "stream",
     "text": [
      "/tmp/ipykernel_32292/2639050160.py:92: FutureWarning: Setting an item of incompatible dtype is deprecated and will raise an error in a future version of pandas. Value 'Trailing SL Hit' has dtype incompatible with float64, please explicitly cast to a compatible dtype first.\n",
      "  tradebook_long.loc[\n"
     ]
    },
    {
     "name": "stdout",
     "output_type": "stream",
     "text": [
      "EMA:20, X:21, PCT:1\n"
     ]
    },
    {
     "name": "stderr",
     "output_type": "stream",
     "text": [
      "/tmp/ipykernel_32292/2639050160.py:92: FutureWarning: Setting an item of incompatible dtype is deprecated and will raise an error in a future version of pandas. Value 'Trailing SL Hit' has dtype incompatible with float64, please explicitly cast to a compatible dtype first.\n",
      "  tradebook_long.loc[\n"
     ]
    },
    {
     "name": "stdout",
     "output_type": "stream",
     "text": [
      "EMA:20, X:24, PCT:0.25\n"
     ]
    },
    {
     "name": "stderr",
     "output_type": "stream",
     "text": [
      "/tmp/ipykernel_32292/2639050160.py:92: FutureWarning: Setting an item of incompatible dtype is deprecated and will raise an error in a future version of pandas. Value 'Trailing SL Hit' has dtype incompatible with float64, please explicitly cast to a compatible dtype first.\n",
      "  tradebook_long.loc[\n"
     ]
    },
    {
     "name": "stdout",
     "output_type": "stream",
     "text": [
      "EMA:20, X:24, PCT:0.5\n"
     ]
    },
    {
     "name": "stderr",
     "output_type": "stream",
     "text": [
      "/tmp/ipykernel_32292/2639050160.py:92: FutureWarning: Setting an item of incompatible dtype is deprecated and will raise an error in a future version of pandas. Value 'Trailing SL Hit' has dtype incompatible with float64, please explicitly cast to a compatible dtype first.\n",
      "  tradebook_long.loc[\n"
     ]
    },
    {
     "name": "stdout",
     "output_type": "stream",
     "text": [
      "EMA:20, X:24, PCT:0.75\n"
     ]
    },
    {
     "name": "stderr",
     "output_type": "stream",
     "text": [
      "/tmp/ipykernel_32292/2639050160.py:92: FutureWarning: Setting an item of incompatible dtype is deprecated and will raise an error in a future version of pandas. Value 'Trailing SL Hit' has dtype incompatible with float64, please explicitly cast to a compatible dtype first.\n",
      "  tradebook_long.loc[\n"
     ]
    },
    {
     "name": "stdout",
     "output_type": "stream",
     "text": [
      "EMA:20, X:24, PCT:1\n"
     ]
    },
    {
     "name": "stderr",
     "output_type": "stream",
     "text": [
      "/tmp/ipykernel_32292/2639050160.py:92: FutureWarning: Setting an item of incompatible dtype is deprecated and will raise an error in a future version of pandas. Value 'Trailing SL Hit' has dtype incompatible with float64, please explicitly cast to a compatible dtype first.\n",
      "  tradebook_long.loc[\n"
     ]
    },
    {
     "name": "stdout",
     "output_type": "stream",
     "text": [
      "EMA:20, X:27, PCT:0.25\n"
     ]
    },
    {
     "name": "stderr",
     "output_type": "stream",
     "text": [
      "/tmp/ipykernel_32292/2639050160.py:92: FutureWarning: Setting an item of incompatible dtype is deprecated and will raise an error in a future version of pandas. Value 'Trailing SL Hit' has dtype incompatible with float64, please explicitly cast to a compatible dtype first.\n",
      "  tradebook_long.loc[\n"
     ]
    },
    {
     "name": "stdout",
     "output_type": "stream",
     "text": [
      "EMA:20, X:27, PCT:0.5\n"
     ]
    },
    {
     "name": "stderr",
     "output_type": "stream",
     "text": [
      "/tmp/ipykernel_32292/2639050160.py:92: FutureWarning: Setting an item of incompatible dtype is deprecated and will raise an error in a future version of pandas. Value 'Trailing SL Hit' has dtype incompatible with float64, please explicitly cast to a compatible dtype first.\n",
      "  tradebook_long.loc[\n"
     ]
    },
    {
     "name": "stdout",
     "output_type": "stream",
     "text": [
      "EMA:20, X:27, PCT:0.75\n"
     ]
    },
    {
     "name": "stderr",
     "output_type": "stream",
     "text": [
      "/tmp/ipykernel_32292/2639050160.py:92: FutureWarning: Setting an item of incompatible dtype is deprecated and will raise an error in a future version of pandas. Value 'Trailing SL Hit' has dtype incompatible with float64, please explicitly cast to a compatible dtype first.\n",
      "  tradebook_long.loc[\n"
     ]
    },
    {
     "name": "stdout",
     "output_type": "stream",
     "text": [
      "EMA:20, X:27, PCT:1\n"
     ]
    },
    {
     "name": "stderr",
     "output_type": "stream",
     "text": [
      "/tmp/ipykernel_32292/2639050160.py:92: FutureWarning: Setting an item of incompatible dtype is deprecated and will raise an error in a future version of pandas. Value 'Trailing SL Hit' has dtype incompatible with float64, please explicitly cast to a compatible dtype first.\n",
      "  tradebook_long.loc[\n"
     ]
    },
    {
     "name": "stdout",
     "output_type": "stream",
     "text": [
      "EMA:20, X:30, PCT:0.25\n"
     ]
    },
    {
     "name": "stderr",
     "output_type": "stream",
     "text": [
      "/tmp/ipykernel_32292/2639050160.py:92: FutureWarning: Setting an item of incompatible dtype is deprecated and will raise an error in a future version of pandas. Value 'Trailing SL Hit' has dtype incompatible with float64, please explicitly cast to a compatible dtype first.\n",
      "  tradebook_long.loc[\n"
     ]
    },
    {
     "name": "stdout",
     "output_type": "stream",
     "text": [
      "EMA:20, X:30, PCT:0.5\n"
     ]
    },
    {
     "name": "stderr",
     "output_type": "stream",
     "text": [
      "/tmp/ipykernel_32292/2639050160.py:92: FutureWarning: Setting an item of incompatible dtype is deprecated and will raise an error in a future version of pandas. Value 'Trailing SL Hit' has dtype incompatible with float64, please explicitly cast to a compatible dtype first.\n",
      "  tradebook_long.loc[\n"
     ]
    },
    {
     "name": "stdout",
     "output_type": "stream",
     "text": [
      "EMA:20, X:30, PCT:0.75\n"
     ]
    },
    {
     "name": "stderr",
     "output_type": "stream",
     "text": [
      "/tmp/ipykernel_32292/2639050160.py:92: FutureWarning: Setting an item of incompatible dtype is deprecated and will raise an error in a future version of pandas. Value 'Trailing SL Hit' has dtype incompatible with float64, please explicitly cast to a compatible dtype first.\n",
      "  tradebook_long.loc[\n"
     ]
    },
    {
     "name": "stdout",
     "output_type": "stream",
     "text": [
      "EMA:20, X:30, PCT:1\n"
     ]
    },
    {
     "name": "stderr",
     "output_type": "stream",
     "text": [
      "/tmp/ipykernel_32292/2639050160.py:92: FutureWarning: Setting an item of incompatible dtype is deprecated and will raise an error in a future version of pandas. Value 'Trailing SL Hit' has dtype incompatible with float64, please explicitly cast to a compatible dtype first.\n",
      "  tradebook_long.loc[\n"
     ]
    },
    {
     "name": "stdout",
     "output_type": "stream",
     "text": [
      "EMA:20, X:33, PCT:0.25\n"
     ]
    },
    {
     "name": "stderr",
     "output_type": "stream",
     "text": [
      "/tmp/ipykernel_32292/2639050160.py:92: FutureWarning: Setting an item of incompatible dtype is deprecated and will raise an error in a future version of pandas. Value 'Trailing SL Hit' has dtype incompatible with float64, please explicitly cast to a compatible dtype first.\n",
      "  tradebook_long.loc[\n"
     ]
    },
    {
     "name": "stdout",
     "output_type": "stream",
     "text": [
      "EMA:20, X:33, PCT:0.5\n"
     ]
    },
    {
     "name": "stderr",
     "output_type": "stream",
     "text": [
      "/tmp/ipykernel_32292/2639050160.py:92: FutureWarning: Setting an item of incompatible dtype is deprecated and will raise an error in a future version of pandas. Value 'Trailing SL Hit' has dtype incompatible with float64, please explicitly cast to a compatible dtype first.\n",
      "  tradebook_long.loc[\n"
     ]
    },
    {
     "name": "stdout",
     "output_type": "stream",
     "text": [
      "EMA:20, X:33, PCT:0.75\n"
     ]
    },
    {
     "name": "stderr",
     "output_type": "stream",
     "text": [
      "/tmp/ipykernel_32292/2639050160.py:92: FutureWarning: Setting an item of incompatible dtype is deprecated and will raise an error in a future version of pandas. Value 'Trailing SL Hit' has dtype incompatible with float64, please explicitly cast to a compatible dtype first.\n",
      "  tradebook_long.loc[\n"
     ]
    },
    {
     "name": "stdout",
     "output_type": "stream",
     "text": [
      "EMA:20, X:33, PCT:1\n"
     ]
    },
    {
     "name": "stderr",
     "output_type": "stream",
     "text": [
      "/tmp/ipykernel_32292/2639050160.py:92: FutureWarning: Setting an item of incompatible dtype is deprecated and will raise an error in a future version of pandas. Value 'Trailing SL Hit' has dtype incompatible with float64, please explicitly cast to a compatible dtype first.\n",
      "  tradebook_long.loc[\n"
     ]
    },
    {
     "name": "stdout",
     "output_type": "stream",
     "text": [
      "EMA:20, X:36, PCT:0.25\n"
     ]
    },
    {
     "name": "stderr",
     "output_type": "stream",
     "text": [
      "/tmp/ipykernel_32292/2639050160.py:92: FutureWarning: Setting an item of incompatible dtype is deprecated and will raise an error in a future version of pandas. Value 'Trailing SL Hit' has dtype incompatible with float64, please explicitly cast to a compatible dtype first.\n",
      "  tradebook_long.loc[\n"
     ]
    },
    {
     "name": "stdout",
     "output_type": "stream",
     "text": [
      "EMA:20, X:36, PCT:0.5\n"
     ]
    },
    {
     "name": "stderr",
     "output_type": "stream",
     "text": [
      "/tmp/ipykernel_32292/2639050160.py:92: FutureWarning: Setting an item of incompatible dtype is deprecated and will raise an error in a future version of pandas. Value 'Trailing SL Hit' has dtype incompatible with float64, please explicitly cast to a compatible dtype first.\n",
      "  tradebook_long.loc[\n"
     ]
    },
    {
     "name": "stdout",
     "output_type": "stream",
     "text": [
      "EMA:20, X:36, PCT:0.75\n"
     ]
    },
    {
     "name": "stderr",
     "output_type": "stream",
     "text": [
      "/tmp/ipykernel_32292/2639050160.py:92: FutureWarning: Setting an item of incompatible dtype is deprecated and will raise an error in a future version of pandas. Value 'Trailing SL Hit' has dtype incompatible with float64, please explicitly cast to a compatible dtype first.\n",
      "  tradebook_long.loc[\n"
     ]
    },
    {
     "name": "stdout",
     "output_type": "stream",
     "text": [
      "EMA:20, X:36, PCT:1\n"
     ]
    },
    {
     "name": "stderr",
     "output_type": "stream",
     "text": [
      "/tmp/ipykernel_32292/2639050160.py:92: FutureWarning: Setting an item of incompatible dtype is deprecated and will raise an error in a future version of pandas. Value 'Trailing SL Hit' has dtype incompatible with float64, please explicitly cast to a compatible dtype first.\n",
      "  tradebook_long.loc[\n"
     ]
    },
    {
     "name": "stdout",
     "output_type": "stream",
     "text": [
      "EMA:22, X:3, PCT:0.25\n"
     ]
    },
    {
     "name": "stderr",
     "output_type": "stream",
     "text": [
      "/tmp/ipykernel_32292/2639050160.py:92: FutureWarning: Setting an item of incompatible dtype is deprecated and will raise an error in a future version of pandas. Value 'Trailing SL Hit' has dtype incompatible with float64, please explicitly cast to a compatible dtype first.\n",
      "  tradebook_long.loc[\n"
     ]
    },
    {
     "name": "stdout",
     "output_type": "stream",
     "text": [
      "        Total ROI Total Trades Win Rate Avg Profit% per Trade Avg Loss% per Trade Max Drawdown ROI/DD Ratio              Variation\n",
      "2017      34.7832           55  34.5455                5.7457             -2.0662     -14.2530       2.4404  EMA:22, X:3, PCT:0.25\n",
      "2018      70.4593           42  50.0000                5.6806             -2.3254     -12.9092       5.4581  EMA:22, X:3, PCT:0.25\n",
      "2019      41.7099           53  33.9623                6.4029             -2.1012     -24.5619       1.6982  EMA:22, X:3, PCT:0.25\n",
      "2020     120.9767           57  40.3509                8.5704             -2.2395     -11.7130      10.3284  EMA:22, X:3, PCT:0.25\n",
      "2021      67.4520           62  37.0968                5.8806             -1.7385     -24.9396       2.7046  EMA:22, X:3, PCT:0.25\n",
      "2022      51.7014           55  29.0909                8.0792             -1.9889     -23.0067       2.2472  EMA:22, X:3, PCT:0.25\n",
      "2023     101.6119           48  43.7500                7.5192             -2.0849     -11.4293       8.8905  EMA:22, X:3, PCT:0.25\n",
      "2024      56.8114           45  42.2222                5.6491             -2.0208     -13.3542       4.2542  EMA:22, X:3, PCT:0.25\n",
      "Overall  545.5058          417  38.3693                6.6912             -2.0511     -24.9396      21.8731  EMA:22, X:3, PCT:0.25\n",
      "EMA:22, X:3, PCT:0.5\n"
     ]
    },
    {
     "name": "stderr",
     "output_type": "stream",
     "text": [
      "/tmp/ipykernel_32292/2639050160.py:92: FutureWarning: Setting an item of incompatible dtype is deprecated and will raise an error in a future version of pandas. Value 'Trailing SL Hit' has dtype incompatible with float64, please explicitly cast to a compatible dtype first.\n",
      "  tradebook_long.loc[\n"
     ]
    },
    {
     "name": "stdout",
     "output_type": "stream",
     "text": [
      "EMA:22, X:3, PCT:0.75\n"
     ]
    },
    {
     "name": "stderr",
     "output_type": "stream",
     "text": [
      "/tmp/ipykernel_32292/2639050160.py:92: FutureWarning: Setting an item of incompatible dtype is deprecated and will raise an error in a future version of pandas. Value 'Trailing SL Hit' has dtype incompatible with float64, please explicitly cast to a compatible dtype first.\n",
      "  tradebook_long.loc[\n",
      "/tmp/ipykernel_32292/2611632047.py:45: RuntimeWarning: divide by zero encountered in scalar divide\n",
      "  roi_dd_ratio = total_roi / abs(max_drawdown)\n",
      "/tmp/ipykernel_32292/2639050160.py:92: FutureWarning: Setting an item of incompatible dtype is deprecated and will raise an error in a future version of pandas. Value 'Trailing SL Hit' has dtype incompatible with float64, please explicitly cast to a compatible dtype first.\n",
      "  tradebook_long.loc[\n"
     ]
    },
    {
     "name": "stdout",
     "output_type": "stream",
     "text": [
      "EMA:22, X:3, PCT:1\n"
     ]
    },
    {
     "name": "stderr",
     "output_type": "stream",
     "text": [
      "/tmp/ipykernel_32292/2611632047.py:45: RuntimeWarning: divide by zero encountered in scalar divide\n",
      "  roi_dd_ratio = total_roi / abs(max_drawdown)\n",
      "/tmp/ipykernel_32292/2639050160.py:92: FutureWarning: Setting an item of incompatible dtype is deprecated and will raise an error in a future version of pandas. Value 'Trailing SL Hit' has dtype incompatible with float64, please explicitly cast to a compatible dtype first.\n",
      "  tradebook_long.loc[\n"
     ]
    },
    {
     "name": "stdout",
     "output_type": "stream",
     "text": [
      "EMA:22, X:6, PCT:0.25\n",
      "EMA:22, X:6, PCT:0.5\n"
     ]
    },
    {
     "name": "stderr",
     "output_type": "stream",
     "text": [
      "/tmp/ipykernel_32292/2639050160.py:92: FutureWarning: Setting an item of incompatible dtype is deprecated and will raise an error in a future version of pandas. Value 'Trailing SL Hit' has dtype incompatible with float64, please explicitly cast to a compatible dtype first.\n",
      "  tradebook_long.loc[\n"
     ]
    },
    {
     "name": "stdout",
     "output_type": "stream",
     "text": [
      "EMA:22, X:6, PCT:0.75\n"
     ]
    },
    {
     "name": "stderr",
     "output_type": "stream",
     "text": [
      "/tmp/ipykernel_32292/2639050160.py:92: FutureWarning: Setting an item of incompatible dtype is deprecated and will raise an error in a future version of pandas. Value 'Trailing SL Hit' has dtype incompatible with float64, please explicitly cast to a compatible dtype first.\n",
      "  tradebook_long.loc[\n"
     ]
    },
    {
     "name": "stdout",
     "output_type": "stream",
     "text": [
      "EMA:22, X:6, PCT:1\n"
     ]
    },
    {
     "name": "stderr",
     "output_type": "stream",
     "text": [
      "/tmp/ipykernel_32292/2639050160.py:92: FutureWarning: Setting an item of incompatible dtype is deprecated and will raise an error in a future version of pandas. Value 'Trailing SL Hit' has dtype incompatible with float64, please explicitly cast to a compatible dtype first.\n",
      "  tradebook_long.loc[\n",
      "/tmp/ipykernel_32292/2611632047.py:45: RuntimeWarning: divide by zero encountered in scalar divide\n",
      "  roi_dd_ratio = total_roi / abs(max_drawdown)\n",
      "/tmp/ipykernel_32292/2639050160.py:92: FutureWarning: Setting an item of incompatible dtype is deprecated and will raise an error in a future version of pandas. Value 'Trailing SL Hit' has dtype incompatible with float64, please explicitly cast to a compatible dtype first.\n",
      "  tradebook_long.loc[\n"
     ]
    },
    {
     "name": "stdout",
     "output_type": "stream",
     "text": [
      "EMA:22, X:9, PCT:0.25\n",
      "EMA:22, X:9, PCT:0.5\n"
     ]
    },
    {
     "name": "stderr",
     "output_type": "stream",
     "text": [
      "/tmp/ipykernel_32292/2639050160.py:92: FutureWarning: Setting an item of incompatible dtype is deprecated and will raise an error in a future version of pandas. Value 'Trailing SL Hit' has dtype incompatible with float64, please explicitly cast to a compatible dtype first.\n",
      "  tradebook_long.loc[\n"
     ]
    },
    {
     "name": "stdout",
     "output_type": "stream",
     "text": [
      "EMA:22, X:9, PCT:0.75\n"
     ]
    },
    {
     "name": "stderr",
     "output_type": "stream",
     "text": [
      "/tmp/ipykernel_32292/2639050160.py:92: FutureWarning: Setting an item of incompatible dtype is deprecated and will raise an error in a future version of pandas. Value 'Trailing SL Hit' has dtype incompatible with float64, please explicitly cast to a compatible dtype first.\n",
      "  tradebook_long.loc[\n"
     ]
    },
    {
     "name": "stdout",
     "output_type": "stream",
     "text": [
      "EMA:22, X:9, PCT:1\n"
     ]
    },
    {
     "name": "stderr",
     "output_type": "stream",
     "text": [
      "/tmp/ipykernel_32292/2639050160.py:92: FutureWarning: Setting an item of incompatible dtype is deprecated and will raise an error in a future version of pandas. Value 'Trailing SL Hit' has dtype incompatible with float64, please explicitly cast to a compatible dtype first.\n",
      "  tradebook_long.loc[\n"
     ]
    },
    {
     "name": "stdout",
     "output_type": "stream",
     "text": [
      "EMA:22, X:12, PCT:0.25\n"
     ]
    },
    {
     "name": "stderr",
     "output_type": "stream",
     "text": [
      "/tmp/ipykernel_32292/2639050160.py:92: FutureWarning: Setting an item of incompatible dtype is deprecated and will raise an error in a future version of pandas. Value 'Trailing SL Hit' has dtype incompatible with float64, please explicitly cast to a compatible dtype first.\n",
      "  tradebook_long.loc[\n"
     ]
    },
    {
     "name": "stdout",
     "output_type": "stream",
     "text": [
      "EMA:22, X:12, PCT:0.5\n"
     ]
    },
    {
     "name": "stderr",
     "output_type": "stream",
     "text": [
      "/tmp/ipykernel_32292/2639050160.py:92: FutureWarning: Setting an item of incompatible dtype is deprecated and will raise an error in a future version of pandas. Value 'Trailing SL Hit' has dtype incompatible with float64, please explicitly cast to a compatible dtype first.\n",
      "  tradebook_long.loc[\n"
     ]
    },
    {
     "name": "stdout",
     "output_type": "stream",
     "text": [
      "EMA:22, X:12, PCT:0.75\n"
     ]
    },
    {
     "name": "stderr",
     "output_type": "stream",
     "text": [
      "/tmp/ipykernel_32292/2639050160.py:92: FutureWarning: Setting an item of incompatible dtype is deprecated and will raise an error in a future version of pandas. Value 'Trailing SL Hit' has dtype incompatible with float64, please explicitly cast to a compatible dtype first.\n",
      "  tradebook_long.loc[\n"
     ]
    },
    {
     "name": "stdout",
     "output_type": "stream",
     "text": [
      "EMA:22, X:12, PCT:1\n"
     ]
    },
    {
     "name": "stderr",
     "output_type": "stream",
     "text": [
      "/tmp/ipykernel_32292/2639050160.py:92: FutureWarning: Setting an item of incompatible dtype is deprecated and will raise an error in a future version of pandas. Value 'Trailing SL Hit' has dtype incompatible with float64, please explicitly cast to a compatible dtype first.\n",
      "  tradebook_long.loc[\n"
     ]
    },
    {
     "name": "stdout",
     "output_type": "stream",
     "text": [
      "EMA:22, X:15, PCT:0.25\n"
     ]
    },
    {
     "name": "stderr",
     "output_type": "stream",
     "text": [
      "/tmp/ipykernel_32292/2639050160.py:92: FutureWarning: Setting an item of incompatible dtype is deprecated and will raise an error in a future version of pandas. Value 'Trailing SL Hit' has dtype incompatible with float64, please explicitly cast to a compatible dtype first.\n",
      "  tradebook_long.loc[\n"
     ]
    },
    {
     "name": "stdout",
     "output_type": "stream",
     "text": [
      "EMA:22, X:15, PCT:0.5\n"
     ]
    },
    {
     "name": "stderr",
     "output_type": "stream",
     "text": [
      "/tmp/ipykernel_32292/2639050160.py:92: FutureWarning: Setting an item of incompatible dtype is deprecated and will raise an error in a future version of pandas. Value 'Trailing SL Hit' has dtype incompatible with float64, please explicitly cast to a compatible dtype first.\n",
      "  tradebook_long.loc[\n"
     ]
    },
    {
     "name": "stdout",
     "output_type": "stream",
     "text": [
      "EMA:22, X:15, PCT:0.75\n"
     ]
    },
    {
     "name": "stderr",
     "output_type": "stream",
     "text": [
      "/tmp/ipykernel_32292/2639050160.py:92: FutureWarning: Setting an item of incompatible dtype is deprecated and will raise an error in a future version of pandas. Value 'Trailing SL Hit' has dtype incompatible with float64, please explicitly cast to a compatible dtype first.\n",
      "  tradebook_long.loc[\n"
     ]
    },
    {
     "name": "stdout",
     "output_type": "stream",
     "text": [
      "EMA:22, X:15, PCT:1\n"
     ]
    },
    {
     "name": "stderr",
     "output_type": "stream",
     "text": [
      "/tmp/ipykernel_32292/2639050160.py:92: FutureWarning: Setting an item of incompatible dtype is deprecated and will raise an error in a future version of pandas. Value 'Trailing SL Hit' has dtype incompatible with float64, please explicitly cast to a compatible dtype first.\n",
      "  tradebook_long.loc[\n"
     ]
    },
    {
     "name": "stdout",
     "output_type": "stream",
     "text": [
      "EMA:22, X:18, PCT:0.25\n"
     ]
    },
    {
     "name": "stderr",
     "output_type": "stream",
     "text": [
      "/tmp/ipykernel_32292/2639050160.py:92: FutureWarning: Setting an item of incompatible dtype is deprecated and will raise an error in a future version of pandas. Value 'Trailing SL Hit' has dtype incompatible with float64, please explicitly cast to a compatible dtype first.\n",
      "  tradebook_long.loc[\n"
     ]
    },
    {
     "name": "stdout",
     "output_type": "stream",
     "text": [
      "EMA:22, X:18, PCT:0.5\n"
     ]
    },
    {
     "name": "stderr",
     "output_type": "stream",
     "text": [
      "/tmp/ipykernel_32292/2639050160.py:92: FutureWarning: Setting an item of incompatible dtype is deprecated and will raise an error in a future version of pandas. Value 'Trailing SL Hit' has dtype incompatible with float64, please explicitly cast to a compatible dtype first.\n",
      "  tradebook_long.loc[\n"
     ]
    },
    {
     "name": "stdout",
     "output_type": "stream",
     "text": [
      "EMA:22, X:18, PCT:0.75\n"
     ]
    },
    {
     "name": "stderr",
     "output_type": "stream",
     "text": [
      "/tmp/ipykernel_32292/2639050160.py:92: FutureWarning: Setting an item of incompatible dtype is deprecated and will raise an error in a future version of pandas. Value 'Trailing SL Hit' has dtype incompatible with float64, please explicitly cast to a compatible dtype first.\n",
      "  tradebook_long.loc[\n"
     ]
    },
    {
     "name": "stdout",
     "output_type": "stream",
     "text": [
      "EMA:22, X:18, PCT:1\n"
     ]
    },
    {
     "name": "stderr",
     "output_type": "stream",
     "text": [
      "/tmp/ipykernel_32292/2639050160.py:92: FutureWarning: Setting an item of incompatible dtype is deprecated and will raise an error in a future version of pandas. Value 'Trailing SL Hit' has dtype incompatible with float64, please explicitly cast to a compatible dtype first.\n",
      "  tradebook_long.loc[\n"
     ]
    },
    {
     "name": "stdout",
     "output_type": "stream",
     "text": [
      "EMA:22, X:21, PCT:0.25\n"
     ]
    },
    {
     "name": "stderr",
     "output_type": "stream",
     "text": [
      "/tmp/ipykernel_32292/2639050160.py:92: FutureWarning: Setting an item of incompatible dtype is deprecated and will raise an error in a future version of pandas. Value 'Trailing SL Hit' has dtype incompatible with float64, please explicitly cast to a compatible dtype first.\n",
      "  tradebook_long.loc[\n"
     ]
    },
    {
     "name": "stdout",
     "output_type": "stream",
     "text": [
      "EMA:22, X:21, PCT:0.5\n"
     ]
    },
    {
     "name": "stderr",
     "output_type": "stream",
     "text": [
      "/tmp/ipykernel_32292/2639050160.py:92: FutureWarning: Setting an item of incompatible dtype is deprecated and will raise an error in a future version of pandas. Value 'Trailing SL Hit' has dtype incompatible with float64, please explicitly cast to a compatible dtype first.\n",
      "  tradebook_long.loc[\n"
     ]
    },
    {
     "name": "stdout",
     "output_type": "stream",
     "text": [
      "EMA:22, X:21, PCT:0.75\n"
     ]
    },
    {
     "name": "stderr",
     "output_type": "stream",
     "text": [
      "/tmp/ipykernel_32292/2639050160.py:92: FutureWarning: Setting an item of incompatible dtype is deprecated and will raise an error in a future version of pandas. Value 'Trailing SL Hit' has dtype incompatible with float64, please explicitly cast to a compatible dtype first.\n",
      "  tradebook_long.loc[\n"
     ]
    },
    {
     "name": "stdout",
     "output_type": "stream",
     "text": [
      "EMA:22, X:21, PCT:1\n"
     ]
    },
    {
     "name": "stderr",
     "output_type": "stream",
     "text": [
      "/tmp/ipykernel_32292/2639050160.py:92: FutureWarning: Setting an item of incompatible dtype is deprecated and will raise an error in a future version of pandas. Value 'Trailing SL Hit' has dtype incompatible with float64, please explicitly cast to a compatible dtype first.\n",
      "  tradebook_long.loc[\n"
     ]
    },
    {
     "name": "stdout",
     "output_type": "stream",
     "text": [
      "EMA:22, X:24, PCT:0.25\n"
     ]
    },
    {
     "name": "stderr",
     "output_type": "stream",
     "text": [
      "/tmp/ipykernel_32292/2639050160.py:92: FutureWarning: Setting an item of incompatible dtype is deprecated and will raise an error in a future version of pandas. Value 'Trailing SL Hit' has dtype incompatible with float64, please explicitly cast to a compatible dtype first.\n",
      "  tradebook_long.loc[\n"
     ]
    },
    {
     "name": "stdout",
     "output_type": "stream",
     "text": [
      "EMA:22, X:24, PCT:0.5\n"
     ]
    },
    {
     "name": "stderr",
     "output_type": "stream",
     "text": [
      "/tmp/ipykernel_32292/2639050160.py:92: FutureWarning: Setting an item of incompatible dtype is deprecated and will raise an error in a future version of pandas. Value 'Trailing SL Hit' has dtype incompatible with float64, please explicitly cast to a compatible dtype first.\n",
      "  tradebook_long.loc[\n"
     ]
    },
    {
     "name": "stdout",
     "output_type": "stream",
     "text": [
      "EMA:22, X:24, PCT:0.75\n"
     ]
    },
    {
     "name": "stderr",
     "output_type": "stream",
     "text": [
      "/tmp/ipykernel_32292/2639050160.py:92: FutureWarning: Setting an item of incompatible dtype is deprecated and will raise an error in a future version of pandas. Value 'Trailing SL Hit' has dtype incompatible with float64, please explicitly cast to a compatible dtype first.\n",
      "  tradebook_long.loc[\n"
     ]
    },
    {
     "name": "stdout",
     "output_type": "stream",
     "text": [
      "EMA:22, X:24, PCT:1\n"
     ]
    },
    {
     "name": "stderr",
     "output_type": "stream",
     "text": [
      "/tmp/ipykernel_32292/2639050160.py:92: FutureWarning: Setting an item of incompatible dtype is deprecated and will raise an error in a future version of pandas. Value 'Trailing SL Hit' has dtype incompatible with float64, please explicitly cast to a compatible dtype first.\n",
      "  tradebook_long.loc[\n"
     ]
    },
    {
     "name": "stdout",
     "output_type": "stream",
     "text": [
      "EMA:22, X:27, PCT:0.25\n"
     ]
    },
    {
     "name": "stderr",
     "output_type": "stream",
     "text": [
      "/tmp/ipykernel_32292/2639050160.py:92: FutureWarning: Setting an item of incompatible dtype is deprecated and will raise an error in a future version of pandas. Value 'Trailing SL Hit' has dtype incompatible with float64, please explicitly cast to a compatible dtype first.\n",
      "  tradebook_long.loc[\n"
     ]
    },
    {
     "name": "stdout",
     "output_type": "stream",
     "text": [
      "EMA:22, X:27, PCT:0.5\n"
     ]
    },
    {
     "name": "stderr",
     "output_type": "stream",
     "text": [
      "/tmp/ipykernel_32292/2639050160.py:92: FutureWarning: Setting an item of incompatible dtype is deprecated and will raise an error in a future version of pandas. Value 'Trailing SL Hit' has dtype incompatible with float64, please explicitly cast to a compatible dtype first.\n",
      "  tradebook_long.loc[\n"
     ]
    },
    {
     "name": "stdout",
     "output_type": "stream",
     "text": [
      "EMA:22, X:27, PCT:0.75\n"
     ]
    },
    {
     "name": "stderr",
     "output_type": "stream",
     "text": [
      "/tmp/ipykernel_32292/2639050160.py:92: FutureWarning: Setting an item of incompatible dtype is deprecated and will raise an error in a future version of pandas. Value 'Trailing SL Hit' has dtype incompatible with float64, please explicitly cast to a compatible dtype first.\n",
      "  tradebook_long.loc[\n"
     ]
    },
    {
     "name": "stdout",
     "output_type": "stream",
     "text": [
      "EMA:22, X:27, PCT:1\n"
     ]
    },
    {
     "name": "stderr",
     "output_type": "stream",
     "text": [
      "/tmp/ipykernel_32292/2639050160.py:92: FutureWarning: Setting an item of incompatible dtype is deprecated and will raise an error in a future version of pandas. Value 'Trailing SL Hit' has dtype incompatible with float64, please explicitly cast to a compatible dtype first.\n",
      "  tradebook_long.loc[\n"
     ]
    },
    {
     "name": "stdout",
     "output_type": "stream",
     "text": [
      "EMA:22, X:30, PCT:0.25\n"
     ]
    },
    {
     "name": "stderr",
     "output_type": "stream",
     "text": [
      "/tmp/ipykernel_32292/2639050160.py:92: FutureWarning: Setting an item of incompatible dtype is deprecated and will raise an error in a future version of pandas. Value 'Trailing SL Hit' has dtype incompatible with float64, please explicitly cast to a compatible dtype first.\n",
      "  tradebook_long.loc[\n"
     ]
    },
    {
     "name": "stdout",
     "output_type": "stream",
     "text": [
      "EMA:22, X:30, PCT:0.5\n"
     ]
    },
    {
     "name": "stderr",
     "output_type": "stream",
     "text": [
      "/tmp/ipykernel_32292/2639050160.py:92: FutureWarning: Setting an item of incompatible dtype is deprecated and will raise an error in a future version of pandas. Value 'Trailing SL Hit' has dtype incompatible with float64, please explicitly cast to a compatible dtype first.\n",
      "  tradebook_long.loc[\n"
     ]
    },
    {
     "name": "stdout",
     "output_type": "stream",
     "text": [
      "EMA:22, X:30, PCT:0.75\n"
     ]
    },
    {
     "name": "stderr",
     "output_type": "stream",
     "text": [
      "/tmp/ipykernel_32292/2639050160.py:92: FutureWarning: Setting an item of incompatible dtype is deprecated and will raise an error in a future version of pandas. Value 'Trailing SL Hit' has dtype incompatible with float64, please explicitly cast to a compatible dtype first.\n",
      "  tradebook_long.loc[\n"
     ]
    },
    {
     "name": "stdout",
     "output_type": "stream",
     "text": [
      "EMA:22, X:30, PCT:1\n"
     ]
    },
    {
     "name": "stderr",
     "output_type": "stream",
     "text": [
      "/tmp/ipykernel_32292/2639050160.py:92: FutureWarning: Setting an item of incompatible dtype is deprecated and will raise an error in a future version of pandas. Value 'Trailing SL Hit' has dtype incompatible with float64, please explicitly cast to a compatible dtype first.\n",
      "  tradebook_long.loc[\n"
     ]
    },
    {
     "name": "stdout",
     "output_type": "stream",
     "text": [
      "EMA:22, X:33, PCT:0.25\n"
     ]
    },
    {
     "name": "stderr",
     "output_type": "stream",
     "text": [
      "/tmp/ipykernel_32292/2639050160.py:92: FutureWarning: Setting an item of incompatible dtype is deprecated and will raise an error in a future version of pandas. Value 'Trailing SL Hit' has dtype incompatible with float64, please explicitly cast to a compatible dtype first.\n",
      "  tradebook_long.loc[\n"
     ]
    },
    {
     "name": "stdout",
     "output_type": "stream",
     "text": [
      "EMA:22, X:33, PCT:0.5\n"
     ]
    },
    {
     "name": "stderr",
     "output_type": "stream",
     "text": [
      "/tmp/ipykernel_32292/2639050160.py:92: FutureWarning: Setting an item of incompatible dtype is deprecated and will raise an error in a future version of pandas. Value 'Trailing SL Hit' has dtype incompatible with float64, please explicitly cast to a compatible dtype first.\n",
      "  tradebook_long.loc[\n"
     ]
    },
    {
     "name": "stdout",
     "output_type": "stream",
     "text": [
      "EMA:22, X:33, PCT:0.75\n"
     ]
    },
    {
     "name": "stderr",
     "output_type": "stream",
     "text": [
      "/tmp/ipykernel_32292/2639050160.py:92: FutureWarning: Setting an item of incompatible dtype is deprecated and will raise an error in a future version of pandas. Value 'Trailing SL Hit' has dtype incompatible with float64, please explicitly cast to a compatible dtype first.\n",
      "  tradebook_long.loc[\n"
     ]
    },
    {
     "name": "stdout",
     "output_type": "stream",
     "text": [
      "EMA:22, X:33, PCT:1\n"
     ]
    },
    {
     "name": "stderr",
     "output_type": "stream",
     "text": [
      "/tmp/ipykernel_32292/2639050160.py:92: FutureWarning: Setting an item of incompatible dtype is deprecated and will raise an error in a future version of pandas. Value 'Trailing SL Hit' has dtype incompatible with float64, please explicitly cast to a compatible dtype first.\n",
      "  tradebook_long.loc[\n"
     ]
    },
    {
     "name": "stdout",
     "output_type": "stream",
     "text": [
      "EMA:22, X:36, PCT:0.25\n"
     ]
    },
    {
     "name": "stderr",
     "output_type": "stream",
     "text": [
      "/tmp/ipykernel_32292/2639050160.py:92: FutureWarning: Setting an item of incompatible dtype is deprecated and will raise an error in a future version of pandas. Value 'Trailing SL Hit' has dtype incompatible with float64, please explicitly cast to a compatible dtype first.\n",
      "  tradebook_long.loc[\n"
     ]
    },
    {
     "name": "stdout",
     "output_type": "stream",
     "text": [
      "EMA:22, X:36, PCT:0.5\n"
     ]
    },
    {
     "name": "stderr",
     "output_type": "stream",
     "text": [
      "/tmp/ipykernel_32292/2639050160.py:92: FutureWarning: Setting an item of incompatible dtype is deprecated and will raise an error in a future version of pandas. Value 'Trailing SL Hit' has dtype incompatible with float64, please explicitly cast to a compatible dtype first.\n",
      "  tradebook_long.loc[\n"
     ]
    },
    {
     "name": "stdout",
     "output_type": "stream",
     "text": [
      "EMA:22, X:36, PCT:0.75\n"
     ]
    },
    {
     "name": "stderr",
     "output_type": "stream",
     "text": [
      "/tmp/ipykernel_32292/2639050160.py:92: FutureWarning: Setting an item of incompatible dtype is deprecated and will raise an error in a future version of pandas. Value 'Trailing SL Hit' has dtype incompatible with float64, please explicitly cast to a compatible dtype first.\n",
      "  tradebook_long.loc[\n"
     ]
    },
    {
     "name": "stdout",
     "output_type": "stream",
     "text": [
      "EMA:22, X:36, PCT:1\n"
     ]
    },
    {
     "name": "stderr",
     "output_type": "stream",
     "text": [
      "/tmp/ipykernel_32292/2639050160.py:92: FutureWarning: Setting an item of incompatible dtype is deprecated and will raise an error in a future version of pandas. Value 'Trailing SL Hit' has dtype incompatible with float64, please explicitly cast to a compatible dtype first.\n",
      "  tradebook_long.loc[\n"
     ]
    },
    {
     "name": "stdout",
     "output_type": "stream",
     "text": [
      "EMA:24, X:3, PCT:0.25\n"
     ]
    },
    {
     "name": "stderr",
     "output_type": "stream",
     "text": [
      "/tmp/ipykernel_32292/2639050160.py:92: FutureWarning: Setting an item of incompatible dtype is deprecated and will raise an error in a future version of pandas. Value 'Trailing SL Hit' has dtype incompatible with float64, please explicitly cast to a compatible dtype first.\n",
      "  tradebook_long.loc[\n"
     ]
    },
    {
     "name": "stdout",
     "output_type": "stream",
     "text": [
      "        Total ROI Total Trades Win Rate Avg Profit% per Trade Avg Loss% per Trade Max Drawdown ROI/DD Ratio              Variation\n",
      "2017      48.0343           51  39.2157                5.5899             -2.0569     -14.2530       3.3701  EMA:24, X:3, PCT:0.25\n",
      "2018      70.1923           39  51.2821                5.7219             -2.3287     -10.4322       6.7284  EMA:24, X:3, PCT:0.25\n",
      "2019      40.2459           51  35.2941                6.1784             -2.1505     -26.8090       1.5012  EMA:24, X:3, PCT:0.25\n",
      "2020     115.9116           54  42.5926                8.0180             -2.2097     -11.7130       9.8960  EMA:24, X:3, PCT:0.25\n",
      "2021      64.1241           59  37.2881                5.9472             -1.8031     -21.8284       2.9376  EMA:24, X:3, PCT:0.25\n",
      "2022      48.7895           54  25.9259                8.8553             -1.8796     -22.0579       2.2119  EMA:24, X:3, PCT:0.25\n",
      "2023      98.8075           47  40.4255                8.1137             -1.9769     -11.4293       8.6451  EMA:24, X:3, PCT:0.25\n",
      "2024      56.9449           44  40.9091                5.9311             -1.9926     -13.3542       4.2642  EMA:24, X:3, PCT:0.25\n",
      "Overall  543.0501          399  38.5965                6.7376             -2.0268     -26.8090      20.2562  EMA:24, X:3, PCT:0.25\n",
      "EMA:24, X:3, PCT:0.5\n"
     ]
    },
    {
     "name": "stderr",
     "output_type": "stream",
     "text": [
      "/tmp/ipykernel_32292/2639050160.py:92: FutureWarning: Setting an item of incompatible dtype is deprecated and will raise an error in a future version of pandas. Value 'Trailing SL Hit' has dtype incompatible with float64, please explicitly cast to a compatible dtype first.\n",
      "  tradebook_long.loc[\n"
     ]
    },
    {
     "name": "stdout",
     "output_type": "stream",
     "text": [
      "EMA:24, X:3, PCT:0.75\n"
     ]
    },
    {
     "name": "stderr",
     "output_type": "stream",
     "text": [
      "/tmp/ipykernel_32292/2639050160.py:92: FutureWarning: Setting an item of incompatible dtype is deprecated and will raise an error in a future version of pandas. Value 'Trailing SL Hit' has dtype incompatible with float64, please explicitly cast to a compatible dtype first.\n",
      "  tradebook_long.loc[\n",
      "/tmp/ipykernel_32292/2611632047.py:45: RuntimeWarning: divide by zero encountered in scalar divide\n",
      "  roi_dd_ratio = total_roi / abs(max_drawdown)\n",
      "/tmp/ipykernel_32292/2639050160.py:92: FutureWarning: Setting an item of incompatible dtype is deprecated and will raise an error in a future version of pandas. Value 'Trailing SL Hit' has dtype incompatible with float64, please explicitly cast to a compatible dtype first.\n",
      "  tradebook_long.loc[\n"
     ]
    },
    {
     "name": "stdout",
     "output_type": "stream",
     "text": [
      "EMA:24, X:3, PCT:1\n"
     ]
    },
    {
     "name": "stderr",
     "output_type": "stream",
     "text": [
      "/tmp/ipykernel_32292/2611632047.py:45: RuntimeWarning: divide by zero encountered in scalar divide\n",
      "  roi_dd_ratio = total_roi / abs(max_drawdown)\n",
      "/tmp/ipykernel_32292/2639050160.py:92: FutureWarning: Setting an item of incompatible dtype is deprecated and will raise an error in a future version of pandas. Value 'Trailing SL Hit' has dtype incompatible with float64, please explicitly cast to a compatible dtype first.\n",
      "  tradebook_long.loc[\n"
     ]
    },
    {
     "name": "stdout",
     "output_type": "stream",
     "text": [
      "EMA:24, X:6, PCT:0.25\n",
      "EMA:24, X:6, PCT:0.5\n"
     ]
    },
    {
     "name": "stderr",
     "output_type": "stream",
     "text": [
      "/tmp/ipykernel_32292/2639050160.py:92: FutureWarning: Setting an item of incompatible dtype is deprecated and will raise an error in a future version of pandas. Value 'Trailing SL Hit' has dtype incompatible with float64, please explicitly cast to a compatible dtype first.\n",
      "  tradebook_long.loc[\n"
     ]
    },
    {
     "name": "stdout",
     "output_type": "stream",
     "text": [
      "EMA:24, X:6, PCT:0.75\n"
     ]
    },
    {
     "name": "stderr",
     "output_type": "stream",
     "text": [
      "/tmp/ipykernel_32292/2639050160.py:92: FutureWarning: Setting an item of incompatible dtype is deprecated and will raise an error in a future version of pandas. Value 'Trailing SL Hit' has dtype incompatible with float64, please explicitly cast to a compatible dtype first.\n",
      "  tradebook_long.loc[\n"
     ]
    },
    {
     "name": "stdout",
     "output_type": "stream",
     "text": [
      "EMA:24, X:6, PCT:1\n"
     ]
    },
    {
     "name": "stderr",
     "output_type": "stream",
     "text": [
      "/tmp/ipykernel_32292/2639050160.py:92: FutureWarning: Setting an item of incompatible dtype is deprecated and will raise an error in a future version of pandas. Value 'Trailing SL Hit' has dtype incompatible with float64, please explicitly cast to a compatible dtype first.\n",
      "  tradebook_long.loc[\n",
      "/tmp/ipykernel_32292/2611632047.py:45: RuntimeWarning: divide by zero encountered in scalar divide\n",
      "  roi_dd_ratio = total_roi / abs(max_drawdown)\n",
      "/tmp/ipykernel_32292/2639050160.py:92: FutureWarning: Setting an item of incompatible dtype is deprecated and will raise an error in a future version of pandas. Value 'Trailing SL Hit' has dtype incompatible with float64, please explicitly cast to a compatible dtype first.\n",
      "  tradebook_long.loc[\n"
     ]
    },
    {
     "name": "stdout",
     "output_type": "stream",
     "text": [
      "EMA:24, X:9, PCT:0.25\n",
      "EMA:24, X:9, PCT:0.5\n"
     ]
    },
    {
     "name": "stderr",
     "output_type": "stream",
     "text": [
      "/tmp/ipykernel_32292/2639050160.py:92: FutureWarning: Setting an item of incompatible dtype is deprecated and will raise an error in a future version of pandas. Value 'Trailing SL Hit' has dtype incompatible with float64, please explicitly cast to a compatible dtype first.\n",
      "  tradebook_long.loc[\n"
     ]
    },
    {
     "name": "stdout",
     "output_type": "stream",
     "text": [
      "EMA:24, X:9, PCT:0.75\n"
     ]
    },
    {
     "name": "stderr",
     "output_type": "stream",
     "text": [
      "/tmp/ipykernel_32292/2639050160.py:92: FutureWarning: Setting an item of incompatible dtype is deprecated and will raise an error in a future version of pandas. Value 'Trailing SL Hit' has dtype incompatible with float64, please explicitly cast to a compatible dtype first.\n",
      "  tradebook_long.loc[\n"
     ]
    },
    {
     "name": "stdout",
     "output_type": "stream",
     "text": [
      "EMA:24, X:9, PCT:1\n"
     ]
    },
    {
     "name": "stderr",
     "output_type": "stream",
     "text": [
      "/tmp/ipykernel_32292/2639050160.py:92: FutureWarning: Setting an item of incompatible dtype is deprecated and will raise an error in a future version of pandas. Value 'Trailing SL Hit' has dtype incompatible with float64, please explicitly cast to a compatible dtype first.\n",
      "  tradebook_long.loc[\n"
     ]
    },
    {
     "name": "stdout",
     "output_type": "stream",
     "text": [
      "EMA:24, X:12, PCT:0.25\n"
     ]
    },
    {
     "name": "stderr",
     "output_type": "stream",
     "text": [
      "/tmp/ipykernel_32292/2639050160.py:92: FutureWarning: Setting an item of incompatible dtype is deprecated and will raise an error in a future version of pandas. Value 'Trailing SL Hit' has dtype incompatible with float64, please explicitly cast to a compatible dtype first.\n",
      "  tradebook_long.loc[\n"
     ]
    },
    {
     "name": "stdout",
     "output_type": "stream",
     "text": [
      "EMA:24, X:12, PCT:0.5\n"
     ]
    },
    {
     "name": "stderr",
     "output_type": "stream",
     "text": [
      "/tmp/ipykernel_32292/2639050160.py:92: FutureWarning: Setting an item of incompatible dtype is deprecated and will raise an error in a future version of pandas. Value 'Trailing SL Hit' has dtype incompatible with float64, please explicitly cast to a compatible dtype first.\n",
      "  tradebook_long.loc[\n"
     ]
    },
    {
     "name": "stdout",
     "output_type": "stream",
     "text": [
      "EMA:24, X:12, PCT:0.75\n"
     ]
    },
    {
     "name": "stderr",
     "output_type": "stream",
     "text": [
      "/tmp/ipykernel_32292/2639050160.py:92: FutureWarning: Setting an item of incompatible dtype is deprecated and will raise an error in a future version of pandas. Value 'Trailing SL Hit' has dtype incompatible with float64, please explicitly cast to a compatible dtype first.\n",
      "  tradebook_long.loc[\n"
     ]
    },
    {
     "name": "stdout",
     "output_type": "stream",
     "text": [
      "EMA:24, X:12, PCT:1\n"
     ]
    },
    {
     "name": "stderr",
     "output_type": "stream",
     "text": [
      "/tmp/ipykernel_32292/2639050160.py:92: FutureWarning: Setting an item of incompatible dtype is deprecated and will raise an error in a future version of pandas. Value 'Trailing SL Hit' has dtype incompatible with float64, please explicitly cast to a compatible dtype first.\n",
      "  tradebook_long.loc[\n"
     ]
    },
    {
     "name": "stdout",
     "output_type": "stream",
     "text": [
      "EMA:24, X:15, PCT:0.25\n"
     ]
    },
    {
     "name": "stderr",
     "output_type": "stream",
     "text": [
      "/tmp/ipykernel_32292/2639050160.py:92: FutureWarning: Setting an item of incompatible dtype is deprecated and will raise an error in a future version of pandas. Value 'Trailing SL Hit' has dtype incompatible with float64, please explicitly cast to a compatible dtype first.\n",
      "  tradebook_long.loc[\n"
     ]
    },
    {
     "name": "stdout",
     "output_type": "stream",
     "text": [
      "EMA:24, X:15, PCT:0.5\n"
     ]
    },
    {
     "name": "stderr",
     "output_type": "stream",
     "text": [
      "/tmp/ipykernel_32292/2639050160.py:92: FutureWarning: Setting an item of incompatible dtype is deprecated and will raise an error in a future version of pandas. Value 'Trailing SL Hit' has dtype incompatible with float64, please explicitly cast to a compatible dtype first.\n",
      "  tradebook_long.loc[\n"
     ]
    },
    {
     "name": "stdout",
     "output_type": "stream",
     "text": [
      "EMA:24, X:15, PCT:0.75\n"
     ]
    },
    {
     "name": "stderr",
     "output_type": "stream",
     "text": [
      "/tmp/ipykernel_32292/2639050160.py:92: FutureWarning: Setting an item of incompatible dtype is deprecated and will raise an error in a future version of pandas. Value 'Trailing SL Hit' has dtype incompatible with float64, please explicitly cast to a compatible dtype first.\n",
      "  tradebook_long.loc[\n"
     ]
    },
    {
     "name": "stdout",
     "output_type": "stream",
     "text": [
      "EMA:24, X:15, PCT:1\n"
     ]
    },
    {
     "name": "stderr",
     "output_type": "stream",
     "text": [
      "/tmp/ipykernel_32292/2639050160.py:92: FutureWarning: Setting an item of incompatible dtype is deprecated and will raise an error in a future version of pandas. Value 'Trailing SL Hit' has dtype incompatible with float64, please explicitly cast to a compatible dtype first.\n",
      "  tradebook_long.loc[\n"
     ]
    },
    {
     "name": "stdout",
     "output_type": "stream",
     "text": [
      "EMA:24, X:18, PCT:0.25\n"
     ]
    },
    {
     "name": "stderr",
     "output_type": "stream",
     "text": [
      "/tmp/ipykernel_32292/2639050160.py:92: FutureWarning: Setting an item of incompatible dtype is deprecated and will raise an error in a future version of pandas. Value 'Trailing SL Hit' has dtype incompatible with float64, please explicitly cast to a compatible dtype first.\n",
      "  tradebook_long.loc[\n"
     ]
    },
    {
     "name": "stdout",
     "output_type": "stream",
     "text": [
      "EMA:24, X:18, PCT:0.5\n"
     ]
    },
    {
     "name": "stderr",
     "output_type": "stream",
     "text": [
      "/tmp/ipykernel_32292/2639050160.py:92: FutureWarning: Setting an item of incompatible dtype is deprecated and will raise an error in a future version of pandas. Value 'Trailing SL Hit' has dtype incompatible with float64, please explicitly cast to a compatible dtype first.\n",
      "  tradebook_long.loc[\n"
     ]
    },
    {
     "name": "stdout",
     "output_type": "stream",
     "text": [
      "EMA:24, X:18, PCT:0.75\n"
     ]
    },
    {
     "name": "stderr",
     "output_type": "stream",
     "text": [
      "/tmp/ipykernel_32292/2639050160.py:92: FutureWarning: Setting an item of incompatible dtype is deprecated and will raise an error in a future version of pandas. Value 'Trailing SL Hit' has dtype incompatible with float64, please explicitly cast to a compatible dtype first.\n",
      "  tradebook_long.loc[\n"
     ]
    },
    {
     "name": "stdout",
     "output_type": "stream",
     "text": [
      "EMA:24, X:18, PCT:1\n"
     ]
    },
    {
     "name": "stderr",
     "output_type": "stream",
     "text": [
      "/tmp/ipykernel_32292/2639050160.py:92: FutureWarning: Setting an item of incompatible dtype is deprecated and will raise an error in a future version of pandas. Value 'Trailing SL Hit' has dtype incompatible with float64, please explicitly cast to a compatible dtype first.\n",
      "  tradebook_long.loc[\n"
     ]
    },
    {
     "name": "stdout",
     "output_type": "stream",
     "text": [
      "EMA:24, X:21, PCT:0.25\n"
     ]
    },
    {
     "name": "stderr",
     "output_type": "stream",
     "text": [
      "/tmp/ipykernel_32292/2639050160.py:92: FutureWarning: Setting an item of incompatible dtype is deprecated and will raise an error in a future version of pandas. Value 'Trailing SL Hit' has dtype incompatible with float64, please explicitly cast to a compatible dtype first.\n",
      "  tradebook_long.loc[\n"
     ]
    },
    {
     "name": "stdout",
     "output_type": "stream",
     "text": [
      "EMA:24, X:21, PCT:0.5\n"
     ]
    },
    {
     "name": "stderr",
     "output_type": "stream",
     "text": [
      "/tmp/ipykernel_32292/2639050160.py:92: FutureWarning: Setting an item of incompatible dtype is deprecated and will raise an error in a future version of pandas. Value 'Trailing SL Hit' has dtype incompatible with float64, please explicitly cast to a compatible dtype first.\n",
      "  tradebook_long.loc[\n"
     ]
    },
    {
     "name": "stdout",
     "output_type": "stream",
     "text": [
      "EMA:24, X:21, PCT:0.75\n"
     ]
    },
    {
     "name": "stderr",
     "output_type": "stream",
     "text": [
      "/tmp/ipykernel_32292/2639050160.py:92: FutureWarning: Setting an item of incompatible dtype is deprecated and will raise an error in a future version of pandas. Value 'Trailing SL Hit' has dtype incompatible with float64, please explicitly cast to a compatible dtype first.\n",
      "  tradebook_long.loc[\n"
     ]
    },
    {
     "name": "stdout",
     "output_type": "stream",
     "text": [
      "EMA:24, X:21, PCT:1\n"
     ]
    },
    {
     "name": "stderr",
     "output_type": "stream",
     "text": [
      "/tmp/ipykernel_32292/2639050160.py:92: FutureWarning: Setting an item of incompatible dtype is deprecated and will raise an error in a future version of pandas. Value 'Trailing SL Hit' has dtype incompatible with float64, please explicitly cast to a compatible dtype first.\n",
      "  tradebook_long.loc[\n"
     ]
    },
    {
     "name": "stdout",
     "output_type": "stream",
     "text": [
      "EMA:24, X:24, PCT:0.25\n"
     ]
    },
    {
     "name": "stderr",
     "output_type": "stream",
     "text": [
      "/tmp/ipykernel_32292/2639050160.py:92: FutureWarning: Setting an item of incompatible dtype is deprecated and will raise an error in a future version of pandas. Value 'Trailing SL Hit' has dtype incompatible with float64, please explicitly cast to a compatible dtype first.\n",
      "  tradebook_long.loc[\n"
     ]
    },
    {
     "name": "stdout",
     "output_type": "stream",
     "text": [
      "EMA:24, X:24, PCT:0.5\n"
     ]
    },
    {
     "name": "stderr",
     "output_type": "stream",
     "text": [
      "/tmp/ipykernel_32292/2639050160.py:92: FutureWarning: Setting an item of incompatible dtype is deprecated and will raise an error in a future version of pandas. Value 'Trailing SL Hit' has dtype incompatible with float64, please explicitly cast to a compatible dtype first.\n",
      "  tradebook_long.loc[\n"
     ]
    },
    {
     "name": "stdout",
     "output_type": "stream",
     "text": [
      "EMA:24, X:24, PCT:0.75\n"
     ]
    },
    {
     "name": "stderr",
     "output_type": "stream",
     "text": [
      "/tmp/ipykernel_32292/2639050160.py:92: FutureWarning: Setting an item of incompatible dtype is deprecated and will raise an error in a future version of pandas. Value 'Trailing SL Hit' has dtype incompatible with float64, please explicitly cast to a compatible dtype first.\n",
      "  tradebook_long.loc[\n"
     ]
    },
    {
     "name": "stdout",
     "output_type": "stream",
     "text": [
      "EMA:24, X:24, PCT:1\n"
     ]
    },
    {
     "name": "stderr",
     "output_type": "stream",
     "text": [
      "/tmp/ipykernel_32292/2639050160.py:92: FutureWarning: Setting an item of incompatible dtype is deprecated and will raise an error in a future version of pandas. Value 'Trailing SL Hit' has dtype incompatible with float64, please explicitly cast to a compatible dtype first.\n",
      "  tradebook_long.loc[\n"
     ]
    },
    {
     "name": "stdout",
     "output_type": "stream",
     "text": [
      "EMA:24, X:27, PCT:0.25\n"
     ]
    },
    {
     "name": "stderr",
     "output_type": "stream",
     "text": [
      "/tmp/ipykernel_32292/2639050160.py:92: FutureWarning: Setting an item of incompatible dtype is deprecated and will raise an error in a future version of pandas. Value 'Trailing SL Hit' has dtype incompatible with float64, please explicitly cast to a compatible dtype first.\n",
      "  tradebook_long.loc[\n"
     ]
    },
    {
     "name": "stdout",
     "output_type": "stream",
     "text": [
      "EMA:24, X:27, PCT:0.5\n"
     ]
    },
    {
     "name": "stderr",
     "output_type": "stream",
     "text": [
      "/tmp/ipykernel_32292/2639050160.py:92: FutureWarning: Setting an item of incompatible dtype is deprecated and will raise an error in a future version of pandas. Value 'Trailing SL Hit' has dtype incompatible with float64, please explicitly cast to a compatible dtype first.\n",
      "  tradebook_long.loc[\n"
     ]
    },
    {
     "name": "stdout",
     "output_type": "stream",
     "text": [
      "EMA:24, X:27, PCT:0.75\n"
     ]
    },
    {
     "name": "stderr",
     "output_type": "stream",
     "text": [
      "/tmp/ipykernel_32292/2639050160.py:92: FutureWarning: Setting an item of incompatible dtype is deprecated and will raise an error in a future version of pandas. Value 'Trailing SL Hit' has dtype incompatible with float64, please explicitly cast to a compatible dtype first.\n",
      "  tradebook_long.loc[\n"
     ]
    },
    {
     "name": "stdout",
     "output_type": "stream",
     "text": [
      "EMA:24, X:27, PCT:1\n"
     ]
    },
    {
     "name": "stderr",
     "output_type": "stream",
     "text": [
      "/tmp/ipykernel_32292/2639050160.py:92: FutureWarning: Setting an item of incompatible dtype is deprecated and will raise an error in a future version of pandas. Value 'Trailing SL Hit' has dtype incompatible with float64, please explicitly cast to a compatible dtype first.\n",
      "  tradebook_long.loc[\n"
     ]
    },
    {
     "name": "stdout",
     "output_type": "stream",
     "text": [
      "EMA:24, X:30, PCT:0.25\n"
     ]
    },
    {
     "name": "stderr",
     "output_type": "stream",
     "text": [
      "/tmp/ipykernel_32292/2639050160.py:92: FutureWarning: Setting an item of incompatible dtype is deprecated and will raise an error in a future version of pandas. Value 'Trailing SL Hit' has dtype incompatible with float64, please explicitly cast to a compatible dtype first.\n",
      "  tradebook_long.loc[\n"
     ]
    },
    {
     "name": "stdout",
     "output_type": "stream",
     "text": [
      "EMA:24, X:30, PCT:0.5\n"
     ]
    },
    {
     "name": "stderr",
     "output_type": "stream",
     "text": [
      "/tmp/ipykernel_32292/2639050160.py:92: FutureWarning: Setting an item of incompatible dtype is deprecated and will raise an error in a future version of pandas. Value 'Trailing SL Hit' has dtype incompatible with float64, please explicitly cast to a compatible dtype first.\n",
      "  tradebook_long.loc[\n"
     ]
    },
    {
     "name": "stdout",
     "output_type": "stream",
     "text": [
      "EMA:24, X:30, PCT:0.75\n"
     ]
    },
    {
     "name": "stderr",
     "output_type": "stream",
     "text": [
      "/tmp/ipykernel_32292/2639050160.py:92: FutureWarning: Setting an item of incompatible dtype is deprecated and will raise an error in a future version of pandas. Value 'Trailing SL Hit' has dtype incompatible with float64, please explicitly cast to a compatible dtype first.\n",
      "  tradebook_long.loc[\n"
     ]
    },
    {
     "name": "stdout",
     "output_type": "stream",
     "text": [
      "EMA:24, X:30, PCT:1\n"
     ]
    },
    {
     "name": "stderr",
     "output_type": "stream",
     "text": [
      "/tmp/ipykernel_32292/2639050160.py:92: FutureWarning: Setting an item of incompatible dtype is deprecated and will raise an error in a future version of pandas. Value 'Trailing SL Hit' has dtype incompatible with float64, please explicitly cast to a compatible dtype first.\n",
      "  tradebook_long.loc[\n"
     ]
    },
    {
     "name": "stdout",
     "output_type": "stream",
     "text": [
      "EMA:24, X:33, PCT:0.25\n"
     ]
    },
    {
     "name": "stderr",
     "output_type": "stream",
     "text": [
      "/tmp/ipykernel_32292/2639050160.py:92: FutureWarning: Setting an item of incompatible dtype is deprecated and will raise an error in a future version of pandas. Value 'Trailing SL Hit' has dtype incompatible with float64, please explicitly cast to a compatible dtype first.\n",
      "  tradebook_long.loc[\n"
     ]
    },
    {
     "name": "stdout",
     "output_type": "stream",
     "text": [
      "EMA:24, X:33, PCT:0.5\n"
     ]
    },
    {
     "name": "stderr",
     "output_type": "stream",
     "text": [
      "/tmp/ipykernel_32292/2639050160.py:92: FutureWarning: Setting an item of incompatible dtype is deprecated and will raise an error in a future version of pandas. Value 'Trailing SL Hit' has dtype incompatible with float64, please explicitly cast to a compatible dtype first.\n",
      "  tradebook_long.loc[\n"
     ]
    },
    {
     "name": "stdout",
     "output_type": "stream",
     "text": [
      "EMA:24, X:33, PCT:0.75\n"
     ]
    },
    {
     "name": "stderr",
     "output_type": "stream",
     "text": [
      "/tmp/ipykernel_32292/2639050160.py:92: FutureWarning: Setting an item of incompatible dtype is deprecated and will raise an error in a future version of pandas. Value 'Trailing SL Hit' has dtype incompatible with float64, please explicitly cast to a compatible dtype first.\n",
      "  tradebook_long.loc[\n"
     ]
    },
    {
     "name": "stdout",
     "output_type": "stream",
     "text": [
      "EMA:24, X:33, PCT:1\n"
     ]
    },
    {
     "name": "stderr",
     "output_type": "stream",
     "text": [
      "/tmp/ipykernel_32292/2639050160.py:92: FutureWarning: Setting an item of incompatible dtype is deprecated and will raise an error in a future version of pandas. Value 'Trailing SL Hit' has dtype incompatible with float64, please explicitly cast to a compatible dtype first.\n",
      "  tradebook_long.loc[\n"
     ]
    },
    {
     "name": "stdout",
     "output_type": "stream",
     "text": [
      "EMA:24, X:36, PCT:0.25\n"
     ]
    },
    {
     "name": "stderr",
     "output_type": "stream",
     "text": [
      "/tmp/ipykernel_32292/2639050160.py:92: FutureWarning: Setting an item of incompatible dtype is deprecated and will raise an error in a future version of pandas. Value 'Trailing SL Hit' has dtype incompatible with float64, please explicitly cast to a compatible dtype first.\n",
      "  tradebook_long.loc[\n"
     ]
    },
    {
     "name": "stdout",
     "output_type": "stream",
     "text": [
      "EMA:24, X:36, PCT:0.5\n"
     ]
    },
    {
     "name": "stderr",
     "output_type": "stream",
     "text": [
      "/tmp/ipykernel_32292/2639050160.py:92: FutureWarning: Setting an item of incompatible dtype is deprecated and will raise an error in a future version of pandas. Value 'Trailing SL Hit' has dtype incompatible with float64, please explicitly cast to a compatible dtype first.\n",
      "  tradebook_long.loc[\n"
     ]
    },
    {
     "name": "stdout",
     "output_type": "stream",
     "text": [
      "EMA:24, X:36, PCT:0.75\n"
     ]
    },
    {
     "name": "stderr",
     "output_type": "stream",
     "text": [
      "/tmp/ipykernel_32292/2639050160.py:92: FutureWarning: Setting an item of incompatible dtype is deprecated and will raise an error in a future version of pandas. Value 'Trailing SL Hit' has dtype incompatible with float64, please explicitly cast to a compatible dtype first.\n",
      "  tradebook_long.loc[\n"
     ]
    },
    {
     "name": "stdout",
     "output_type": "stream",
     "text": [
      "EMA:24, X:36, PCT:1\n"
     ]
    },
    {
     "name": "stderr",
     "output_type": "stream",
     "text": [
      "/tmp/ipykernel_32292/2639050160.py:92: FutureWarning: Setting an item of incompatible dtype is deprecated and will raise an error in a future version of pandas. Value 'Trailing SL Hit' has dtype incompatible with float64, please explicitly cast to a compatible dtype first.\n",
      "  tradebook_long.loc[\n"
     ]
    },
    {
     "name": "stdout",
     "output_type": "stream",
     "text": [
      "EMA:26, X:3, PCT:0.25\n"
     ]
    },
    {
     "name": "stderr",
     "output_type": "stream",
     "text": [
      "/tmp/ipykernel_32292/2639050160.py:92: FutureWarning: Setting an item of incompatible dtype is deprecated and will raise an error in a future version of pandas. Value 'Trailing SL Hit' has dtype incompatible with float64, please explicitly cast to a compatible dtype first.\n",
      "  tradebook_long.loc[\n"
     ]
    },
    {
     "name": "stdout",
     "output_type": "stream",
     "text": [
      "EMA:26, X:3, PCT:0.5\n"
     ]
    },
    {
     "name": "stderr",
     "output_type": "stream",
     "text": [
      "/tmp/ipykernel_32292/2639050160.py:92: FutureWarning: Setting an item of incompatible dtype is deprecated and will raise an error in a future version of pandas. Value 'Trailing SL Hit' has dtype incompatible with float64, please explicitly cast to a compatible dtype first.\n",
      "  tradebook_long.loc[\n"
     ]
    },
    {
     "name": "stdout",
     "output_type": "stream",
     "text": [
      "EMA:26, X:3, PCT:0.75\n"
     ]
    },
    {
     "name": "stderr",
     "output_type": "stream",
     "text": [
      "/tmp/ipykernel_32292/2639050160.py:92: FutureWarning: Setting an item of incompatible dtype is deprecated and will raise an error in a future version of pandas. Value 'Trailing SL Hit' has dtype incompatible with float64, please explicitly cast to a compatible dtype first.\n",
      "  tradebook_long.loc[\n",
      "/tmp/ipykernel_32292/2611632047.py:45: RuntimeWarning: divide by zero encountered in scalar divide\n",
      "  roi_dd_ratio = total_roi / abs(max_drawdown)\n",
      "/tmp/ipykernel_32292/2639050160.py:92: FutureWarning: Setting an item of incompatible dtype is deprecated and will raise an error in a future version of pandas. Value 'Trailing SL Hit' has dtype incompatible with float64, please explicitly cast to a compatible dtype first.\n",
      "  tradebook_long.loc[\n"
     ]
    },
    {
     "name": "stdout",
     "output_type": "stream",
     "text": [
      "EMA:26, X:3, PCT:1\n"
     ]
    },
    {
     "name": "stderr",
     "output_type": "stream",
     "text": [
      "/tmp/ipykernel_32292/2611632047.py:45: RuntimeWarning: divide by zero encountered in scalar divide\n",
      "  roi_dd_ratio = total_roi / abs(max_drawdown)\n",
      "/tmp/ipykernel_32292/2639050160.py:92: FutureWarning: Setting an item of incompatible dtype is deprecated and will raise an error in a future version of pandas. Value 'Trailing SL Hit' has dtype incompatible with float64, please explicitly cast to a compatible dtype first.\n",
      "  tradebook_long.loc[\n"
     ]
    },
    {
     "name": "stdout",
     "output_type": "stream",
     "text": [
      "EMA:26, X:6, PCT:0.25\n",
      "EMA:26, X:6, PCT:0.5\n"
     ]
    },
    {
     "name": "stderr",
     "output_type": "stream",
     "text": [
      "/tmp/ipykernel_32292/2639050160.py:92: FutureWarning: Setting an item of incompatible dtype is deprecated and will raise an error in a future version of pandas. Value 'Trailing SL Hit' has dtype incompatible with float64, please explicitly cast to a compatible dtype first.\n",
      "  tradebook_long.loc[\n"
     ]
    },
    {
     "name": "stdout",
     "output_type": "stream",
     "text": [
      "EMA:26, X:6, PCT:0.75\n"
     ]
    },
    {
     "name": "stderr",
     "output_type": "stream",
     "text": [
      "/tmp/ipykernel_32292/2639050160.py:92: FutureWarning: Setting an item of incompatible dtype is deprecated and will raise an error in a future version of pandas. Value 'Trailing SL Hit' has dtype incompatible with float64, please explicitly cast to a compatible dtype first.\n",
      "  tradebook_long.loc[\n"
     ]
    },
    {
     "name": "stdout",
     "output_type": "stream",
     "text": [
      "EMA:26, X:6, PCT:1\n"
     ]
    },
    {
     "name": "stderr",
     "output_type": "stream",
     "text": [
      "/tmp/ipykernel_32292/2639050160.py:78: FutureWarning: Setting an item of incompatible dtype is deprecated and will raise an error in a future version of pandas. Value 'Initial SL Hit' has dtype incompatible with float64, please explicitly cast to a compatible dtype first.\n",
      "  tradebook_long.loc[\n",
      "/tmp/ipykernel_32292/2611632047.py:45: RuntimeWarning: divide by zero encountered in scalar divide\n",
      "  roi_dd_ratio = total_roi / abs(max_drawdown)\n",
      "/tmp/ipykernel_32292/2639050160.py:92: FutureWarning: Setting an item of incompatible dtype is deprecated and will raise an error in a future version of pandas. Value 'Trailing SL Hit' has dtype incompatible with float64, please explicitly cast to a compatible dtype first.\n",
      "  tradebook_long.loc[\n"
     ]
    },
    {
     "name": "stdout",
     "output_type": "stream",
     "text": [
      "EMA:26, X:9, PCT:0.25\n",
      "EMA:26, X:9, PCT:0.5\n"
     ]
    },
    {
     "name": "stderr",
     "output_type": "stream",
     "text": [
      "/tmp/ipykernel_32292/2639050160.py:92: FutureWarning: Setting an item of incompatible dtype is deprecated and will raise an error in a future version of pandas. Value 'Trailing SL Hit' has dtype incompatible with float64, please explicitly cast to a compatible dtype first.\n",
      "  tradebook_long.loc[\n"
     ]
    },
    {
     "name": "stdout",
     "output_type": "stream",
     "text": [
      "EMA:26, X:9, PCT:0.75\n"
     ]
    },
    {
     "name": "stderr",
     "output_type": "stream",
     "text": [
      "/tmp/ipykernel_32292/2639050160.py:92: FutureWarning: Setting an item of incompatible dtype is deprecated and will raise an error in a future version of pandas. Value 'Trailing SL Hit' has dtype incompatible with float64, please explicitly cast to a compatible dtype first.\n",
      "  tradebook_long.loc[\n"
     ]
    },
    {
     "name": "stdout",
     "output_type": "stream",
     "text": [
      "EMA:26, X:9, PCT:1\n"
     ]
    },
    {
     "name": "stderr",
     "output_type": "stream",
     "text": [
      "/tmp/ipykernel_32292/2639050160.py:92: FutureWarning: Setting an item of incompatible dtype is deprecated and will raise an error in a future version of pandas. Value 'Trailing SL Hit' has dtype incompatible with float64, please explicitly cast to a compatible dtype first.\n",
      "  tradebook_long.loc[\n"
     ]
    },
    {
     "name": "stdout",
     "output_type": "stream",
     "text": [
      "EMA:26, X:12, PCT:0.25\n"
     ]
    },
    {
     "name": "stderr",
     "output_type": "stream",
     "text": [
      "/tmp/ipykernel_32292/2639050160.py:92: FutureWarning: Setting an item of incompatible dtype is deprecated and will raise an error in a future version of pandas. Value 'Trailing SL Hit' has dtype incompatible with float64, please explicitly cast to a compatible dtype first.\n",
      "  tradebook_long.loc[\n"
     ]
    },
    {
     "name": "stdout",
     "output_type": "stream",
     "text": [
      "EMA:26, X:12, PCT:0.5\n"
     ]
    },
    {
     "name": "stderr",
     "output_type": "stream",
     "text": [
      "/tmp/ipykernel_32292/2639050160.py:92: FutureWarning: Setting an item of incompatible dtype is deprecated and will raise an error in a future version of pandas. Value 'Trailing SL Hit' has dtype incompatible with float64, please explicitly cast to a compatible dtype first.\n",
      "  tradebook_long.loc[\n"
     ]
    },
    {
     "name": "stdout",
     "output_type": "stream",
     "text": [
      "EMA:26, X:12, PCT:0.75\n"
     ]
    },
    {
     "name": "stderr",
     "output_type": "stream",
     "text": [
      "/tmp/ipykernel_32292/2639050160.py:92: FutureWarning: Setting an item of incompatible dtype is deprecated and will raise an error in a future version of pandas. Value 'Trailing SL Hit' has dtype incompatible with float64, please explicitly cast to a compatible dtype first.\n",
      "  tradebook_long.loc[\n"
     ]
    },
    {
     "name": "stdout",
     "output_type": "stream",
     "text": [
      "EMA:26, X:12, PCT:1\n"
     ]
    },
    {
     "name": "stderr",
     "output_type": "stream",
     "text": [
      "/tmp/ipykernel_32292/2639050160.py:92: FutureWarning: Setting an item of incompatible dtype is deprecated and will raise an error in a future version of pandas. Value 'Trailing SL Hit' has dtype incompatible with float64, please explicitly cast to a compatible dtype first.\n",
      "  tradebook_long.loc[\n"
     ]
    },
    {
     "name": "stdout",
     "output_type": "stream",
     "text": [
      "EMA:26, X:15, PCT:0.25\n"
     ]
    },
    {
     "name": "stderr",
     "output_type": "stream",
     "text": [
      "/tmp/ipykernel_32292/2639050160.py:92: FutureWarning: Setting an item of incompatible dtype is deprecated and will raise an error in a future version of pandas. Value 'Trailing SL Hit' has dtype incompatible with float64, please explicitly cast to a compatible dtype first.\n",
      "  tradebook_long.loc[\n"
     ]
    },
    {
     "name": "stdout",
     "output_type": "stream",
     "text": [
      "EMA:26, X:15, PCT:0.5\n"
     ]
    },
    {
     "name": "stderr",
     "output_type": "stream",
     "text": [
      "/tmp/ipykernel_32292/2639050160.py:92: FutureWarning: Setting an item of incompatible dtype is deprecated and will raise an error in a future version of pandas. Value 'Trailing SL Hit' has dtype incompatible with float64, please explicitly cast to a compatible dtype first.\n",
      "  tradebook_long.loc[\n"
     ]
    },
    {
     "name": "stdout",
     "output_type": "stream",
     "text": [
      "EMA:26, X:15, PCT:0.75\n"
     ]
    },
    {
     "name": "stderr",
     "output_type": "stream",
     "text": [
      "/tmp/ipykernel_32292/2639050160.py:92: FutureWarning: Setting an item of incompatible dtype is deprecated and will raise an error in a future version of pandas. Value 'Trailing SL Hit' has dtype incompatible with float64, please explicitly cast to a compatible dtype first.\n",
      "  tradebook_long.loc[\n"
     ]
    },
    {
     "name": "stdout",
     "output_type": "stream",
     "text": [
      "EMA:26, X:15, PCT:1\n"
     ]
    },
    {
     "name": "stderr",
     "output_type": "stream",
     "text": [
      "/tmp/ipykernel_32292/2639050160.py:92: FutureWarning: Setting an item of incompatible dtype is deprecated and will raise an error in a future version of pandas. Value 'Trailing SL Hit' has dtype incompatible with float64, please explicitly cast to a compatible dtype first.\n",
      "  tradebook_long.loc[\n"
     ]
    },
    {
     "name": "stdout",
     "output_type": "stream",
     "text": [
      "EMA:26, X:18, PCT:0.25\n"
     ]
    },
    {
     "name": "stderr",
     "output_type": "stream",
     "text": [
      "/tmp/ipykernel_32292/2639050160.py:92: FutureWarning: Setting an item of incompatible dtype is deprecated and will raise an error in a future version of pandas. Value 'Trailing SL Hit' has dtype incompatible with float64, please explicitly cast to a compatible dtype first.\n",
      "  tradebook_long.loc[\n"
     ]
    },
    {
     "name": "stdout",
     "output_type": "stream",
     "text": [
      "EMA:26, X:18, PCT:0.5\n"
     ]
    },
    {
     "name": "stderr",
     "output_type": "stream",
     "text": [
      "/tmp/ipykernel_32292/2639050160.py:92: FutureWarning: Setting an item of incompatible dtype is deprecated and will raise an error in a future version of pandas. Value 'Trailing SL Hit' has dtype incompatible with float64, please explicitly cast to a compatible dtype first.\n",
      "  tradebook_long.loc[\n"
     ]
    },
    {
     "name": "stdout",
     "output_type": "stream",
     "text": [
      "EMA:26, X:18, PCT:0.75\n"
     ]
    },
    {
     "name": "stderr",
     "output_type": "stream",
     "text": [
      "/tmp/ipykernel_32292/2639050160.py:92: FutureWarning: Setting an item of incompatible dtype is deprecated and will raise an error in a future version of pandas. Value 'Trailing SL Hit' has dtype incompatible with float64, please explicitly cast to a compatible dtype first.\n",
      "  tradebook_long.loc[\n"
     ]
    },
    {
     "name": "stdout",
     "output_type": "stream",
     "text": [
      "EMA:26, X:18, PCT:1\n"
     ]
    },
    {
     "name": "stderr",
     "output_type": "stream",
     "text": [
      "/tmp/ipykernel_32292/2639050160.py:92: FutureWarning: Setting an item of incompatible dtype is deprecated and will raise an error in a future version of pandas. Value 'Trailing SL Hit' has dtype incompatible with float64, please explicitly cast to a compatible dtype first.\n",
      "  tradebook_long.loc[\n"
     ]
    },
    {
     "name": "stdout",
     "output_type": "stream",
     "text": [
      "EMA:26, X:21, PCT:0.25\n"
     ]
    },
    {
     "name": "stderr",
     "output_type": "stream",
     "text": [
      "/tmp/ipykernel_32292/2639050160.py:92: FutureWarning: Setting an item of incompatible dtype is deprecated and will raise an error in a future version of pandas. Value 'Trailing SL Hit' has dtype incompatible with float64, please explicitly cast to a compatible dtype first.\n",
      "  tradebook_long.loc[\n"
     ]
    },
    {
     "name": "stdout",
     "output_type": "stream",
     "text": [
      "EMA:26, X:21, PCT:0.5\n"
     ]
    },
    {
     "name": "stderr",
     "output_type": "stream",
     "text": [
      "/tmp/ipykernel_32292/2639050160.py:92: FutureWarning: Setting an item of incompatible dtype is deprecated and will raise an error in a future version of pandas. Value 'Trailing SL Hit' has dtype incompatible with float64, please explicitly cast to a compatible dtype first.\n",
      "  tradebook_long.loc[\n"
     ]
    },
    {
     "name": "stdout",
     "output_type": "stream",
     "text": [
      "EMA:26, X:21, PCT:0.75\n"
     ]
    },
    {
     "name": "stderr",
     "output_type": "stream",
     "text": [
      "/tmp/ipykernel_32292/2639050160.py:92: FutureWarning: Setting an item of incompatible dtype is deprecated and will raise an error in a future version of pandas. Value 'Trailing SL Hit' has dtype incompatible with float64, please explicitly cast to a compatible dtype first.\n",
      "  tradebook_long.loc[\n"
     ]
    },
    {
     "name": "stdout",
     "output_type": "stream",
     "text": [
      "EMA:26, X:21, PCT:1\n"
     ]
    },
    {
     "name": "stderr",
     "output_type": "stream",
     "text": [
      "/tmp/ipykernel_32292/2639050160.py:92: FutureWarning: Setting an item of incompatible dtype is deprecated and will raise an error in a future version of pandas. Value 'Trailing SL Hit' has dtype incompatible with float64, please explicitly cast to a compatible dtype first.\n",
      "  tradebook_long.loc[\n"
     ]
    },
    {
     "name": "stdout",
     "output_type": "stream",
     "text": [
      "EMA:26, X:24, PCT:0.25\n"
     ]
    },
    {
     "name": "stderr",
     "output_type": "stream",
     "text": [
      "/tmp/ipykernel_32292/2639050160.py:92: FutureWarning: Setting an item of incompatible dtype is deprecated and will raise an error in a future version of pandas. Value 'Trailing SL Hit' has dtype incompatible with float64, please explicitly cast to a compatible dtype first.\n",
      "  tradebook_long.loc[\n"
     ]
    },
    {
     "name": "stdout",
     "output_type": "stream",
     "text": [
      "EMA:26, X:24, PCT:0.5\n"
     ]
    },
    {
     "name": "stderr",
     "output_type": "stream",
     "text": [
      "/tmp/ipykernel_32292/2639050160.py:92: FutureWarning: Setting an item of incompatible dtype is deprecated and will raise an error in a future version of pandas. Value 'Trailing SL Hit' has dtype incompatible with float64, please explicitly cast to a compatible dtype first.\n",
      "  tradebook_long.loc[\n"
     ]
    },
    {
     "name": "stdout",
     "output_type": "stream",
     "text": [
      "EMA:26, X:24, PCT:0.75\n"
     ]
    },
    {
     "name": "stderr",
     "output_type": "stream",
     "text": [
      "/tmp/ipykernel_32292/2639050160.py:92: FutureWarning: Setting an item of incompatible dtype is deprecated and will raise an error in a future version of pandas. Value 'Trailing SL Hit' has dtype incompatible with float64, please explicitly cast to a compatible dtype first.\n",
      "  tradebook_long.loc[\n"
     ]
    },
    {
     "name": "stdout",
     "output_type": "stream",
     "text": [
      "EMA:26, X:24, PCT:1\n"
     ]
    },
    {
     "name": "stderr",
     "output_type": "stream",
     "text": [
      "/tmp/ipykernel_32292/2639050160.py:92: FutureWarning: Setting an item of incompatible dtype is deprecated and will raise an error in a future version of pandas. Value 'Trailing SL Hit' has dtype incompatible with float64, please explicitly cast to a compatible dtype first.\n",
      "  tradebook_long.loc[\n"
     ]
    },
    {
     "name": "stdout",
     "output_type": "stream",
     "text": [
      "EMA:26, X:27, PCT:0.25\n"
     ]
    },
    {
     "name": "stderr",
     "output_type": "stream",
     "text": [
      "/tmp/ipykernel_32292/2639050160.py:92: FutureWarning: Setting an item of incompatible dtype is deprecated and will raise an error in a future version of pandas. Value 'Trailing SL Hit' has dtype incompatible with float64, please explicitly cast to a compatible dtype first.\n",
      "  tradebook_long.loc[\n"
     ]
    },
    {
     "name": "stdout",
     "output_type": "stream",
     "text": [
      "EMA:26, X:27, PCT:0.5\n"
     ]
    },
    {
     "name": "stderr",
     "output_type": "stream",
     "text": [
      "/tmp/ipykernel_32292/2639050160.py:92: FutureWarning: Setting an item of incompatible dtype is deprecated and will raise an error in a future version of pandas. Value 'Trailing SL Hit' has dtype incompatible with float64, please explicitly cast to a compatible dtype first.\n",
      "  tradebook_long.loc[\n"
     ]
    },
    {
     "name": "stdout",
     "output_type": "stream",
     "text": [
      "EMA:26, X:27, PCT:0.75\n"
     ]
    },
    {
     "name": "stderr",
     "output_type": "stream",
     "text": [
      "/tmp/ipykernel_32292/2639050160.py:92: FutureWarning: Setting an item of incompatible dtype is deprecated and will raise an error in a future version of pandas. Value 'Trailing SL Hit' has dtype incompatible with float64, please explicitly cast to a compatible dtype first.\n",
      "  tradebook_long.loc[\n"
     ]
    },
    {
     "name": "stdout",
     "output_type": "stream",
     "text": [
      "EMA:26, X:27, PCT:1\n"
     ]
    },
    {
     "name": "stderr",
     "output_type": "stream",
     "text": [
      "/tmp/ipykernel_32292/2639050160.py:92: FutureWarning: Setting an item of incompatible dtype is deprecated and will raise an error in a future version of pandas. Value 'Trailing SL Hit' has dtype incompatible with float64, please explicitly cast to a compatible dtype first.\n",
      "  tradebook_long.loc[\n"
     ]
    },
    {
     "name": "stdout",
     "output_type": "stream",
     "text": [
      "EMA:26, X:30, PCT:0.25\n"
     ]
    },
    {
     "name": "stderr",
     "output_type": "stream",
     "text": [
      "/tmp/ipykernel_32292/2639050160.py:92: FutureWarning: Setting an item of incompatible dtype is deprecated and will raise an error in a future version of pandas. Value 'Trailing SL Hit' has dtype incompatible with float64, please explicitly cast to a compatible dtype first.\n",
      "  tradebook_long.loc[\n"
     ]
    },
    {
     "name": "stdout",
     "output_type": "stream",
     "text": [
      "EMA:26, X:30, PCT:0.5\n"
     ]
    },
    {
     "name": "stderr",
     "output_type": "stream",
     "text": [
      "/tmp/ipykernel_32292/2639050160.py:92: FutureWarning: Setting an item of incompatible dtype is deprecated and will raise an error in a future version of pandas. Value 'Trailing SL Hit' has dtype incompatible with float64, please explicitly cast to a compatible dtype first.\n",
      "  tradebook_long.loc[\n"
     ]
    },
    {
     "name": "stdout",
     "output_type": "stream",
     "text": [
      "EMA:26, X:30, PCT:0.75\n"
     ]
    },
    {
     "name": "stderr",
     "output_type": "stream",
     "text": [
      "/tmp/ipykernel_32292/2639050160.py:92: FutureWarning: Setting an item of incompatible dtype is deprecated and will raise an error in a future version of pandas. Value 'Trailing SL Hit' has dtype incompatible with float64, please explicitly cast to a compatible dtype first.\n",
      "  tradebook_long.loc[\n"
     ]
    },
    {
     "name": "stdout",
     "output_type": "stream",
     "text": [
      "EMA:26, X:30, PCT:1\n"
     ]
    },
    {
     "name": "stderr",
     "output_type": "stream",
     "text": [
      "/tmp/ipykernel_32292/2639050160.py:92: FutureWarning: Setting an item of incompatible dtype is deprecated and will raise an error in a future version of pandas. Value 'Trailing SL Hit' has dtype incompatible with float64, please explicitly cast to a compatible dtype first.\n",
      "  tradebook_long.loc[\n"
     ]
    },
    {
     "name": "stdout",
     "output_type": "stream",
     "text": [
      "EMA:26, X:33, PCT:0.25\n"
     ]
    },
    {
     "name": "stderr",
     "output_type": "stream",
     "text": [
      "/tmp/ipykernel_32292/2639050160.py:92: FutureWarning: Setting an item of incompatible dtype is deprecated and will raise an error in a future version of pandas. Value 'Trailing SL Hit' has dtype incompatible with float64, please explicitly cast to a compatible dtype first.\n",
      "  tradebook_long.loc[\n"
     ]
    },
    {
     "name": "stdout",
     "output_type": "stream",
     "text": [
      "EMA:26, X:33, PCT:0.5\n"
     ]
    },
    {
     "name": "stderr",
     "output_type": "stream",
     "text": [
      "/tmp/ipykernel_32292/2639050160.py:92: FutureWarning: Setting an item of incompatible dtype is deprecated and will raise an error in a future version of pandas. Value 'Trailing SL Hit' has dtype incompatible with float64, please explicitly cast to a compatible dtype first.\n",
      "  tradebook_long.loc[\n"
     ]
    },
    {
     "name": "stdout",
     "output_type": "stream",
     "text": [
      "EMA:26, X:33, PCT:0.75\n"
     ]
    },
    {
     "name": "stderr",
     "output_type": "stream",
     "text": [
      "/tmp/ipykernel_32292/2639050160.py:92: FutureWarning: Setting an item of incompatible dtype is deprecated and will raise an error in a future version of pandas. Value 'Trailing SL Hit' has dtype incompatible with float64, please explicitly cast to a compatible dtype first.\n",
      "  tradebook_long.loc[\n"
     ]
    },
    {
     "name": "stdout",
     "output_type": "stream",
     "text": [
      "EMA:26, X:33, PCT:1\n"
     ]
    },
    {
     "name": "stderr",
     "output_type": "stream",
     "text": [
      "/tmp/ipykernel_32292/2639050160.py:92: FutureWarning: Setting an item of incompatible dtype is deprecated and will raise an error in a future version of pandas. Value 'Trailing SL Hit' has dtype incompatible with float64, please explicitly cast to a compatible dtype first.\n",
      "  tradebook_long.loc[\n"
     ]
    },
    {
     "name": "stdout",
     "output_type": "stream",
     "text": [
      "EMA:26, X:36, PCT:0.25\n"
     ]
    },
    {
     "name": "stderr",
     "output_type": "stream",
     "text": [
      "/tmp/ipykernel_32292/2639050160.py:92: FutureWarning: Setting an item of incompatible dtype is deprecated and will raise an error in a future version of pandas. Value 'Trailing SL Hit' has dtype incompatible with float64, please explicitly cast to a compatible dtype first.\n",
      "  tradebook_long.loc[\n"
     ]
    },
    {
     "name": "stdout",
     "output_type": "stream",
     "text": [
      "EMA:26, X:36, PCT:0.5\n"
     ]
    },
    {
     "name": "stderr",
     "output_type": "stream",
     "text": [
      "/tmp/ipykernel_32292/2639050160.py:92: FutureWarning: Setting an item of incompatible dtype is deprecated and will raise an error in a future version of pandas. Value 'Trailing SL Hit' has dtype incompatible with float64, please explicitly cast to a compatible dtype first.\n",
      "  tradebook_long.loc[\n"
     ]
    },
    {
     "name": "stdout",
     "output_type": "stream",
     "text": [
      "EMA:26, X:36, PCT:0.75\n"
     ]
    },
    {
     "name": "stderr",
     "output_type": "stream",
     "text": [
      "/tmp/ipykernel_32292/2639050160.py:92: FutureWarning: Setting an item of incompatible dtype is deprecated and will raise an error in a future version of pandas. Value 'Trailing SL Hit' has dtype incompatible with float64, please explicitly cast to a compatible dtype first.\n",
      "  tradebook_long.loc[\n"
     ]
    },
    {
     "name": "stdout",
     "output_type": "stream",
     "text": [
      "EMA:26, X:36, PCT:1\n"
     ]
    },
    {
     "name": "stderr",
     "output_type": "stream",
     "text": [
      "/tmp/ipykernel_32292/2639050160.py:92: FutureWarning: Setting an item of incompatible dtype is deprecated and will raise an error in a future version of pandas. Value 'Trailing SL Hit' has dtype incompatible with float64, please explicitly cast to a compatible dtype first.\n",
      "  tradebook_long.loc[\n"
     ]
    },
    {
     "name": "stdout",
     "output_type": "stream",
     "text": [
      "EMA:28, X:3, PCT:0.25\n"
     ]
    },
    {
     "name": "stderr",
     "output_type": "stream",
     "text": [
      "/tmp/ipykernel_32292/2639050160.py:92: FutureWarning: Setting an item of incompatible dtype is deprecated and will raise an error in a future version of pandas. Value 'Trailing SL Hit' has dtype incompatible with float64, please explicitly cast to a compatible dtype first.\n",
      "  tradebook_long.loc[\n"
     ]
    },
    {
     "name": "stdout",
     "output_type": "stream",
     "text": [
      "        Total ROI Total Trades Win Rate Avg Profit% per Trade Avg Loss% per Trade Max Drawdown ROI/DD Ratio              Variation\n",
      "2017      57.6737           47  40.4255                6.2853             -2.2052     -14.2530       4.0464  EMA:28, X:3, PCT:0.25\n",
      "2018      78.1993           34  50.0000                6.7160             -2.1160     -13.1809       5.9328  EMA:28, X:3, PCT:0.25\n",
      "2019      35.6251           51  35.2941                5.8972             -2.1371     -24.1518       1.4751  EMA:28, X:3, PCT:0.25\n",
      "2020     112.4079           51  45.0980                7.6669             -2.2832     -13.0520       8.6123  EMA:28, X:3, PCT:0.25\n",
      "2021      63.7273           56  35.7143                6.6919             -1.9475     -24.0761       2.6469  EMA:28, X:3, PCT:0.25\n",
      "2022      49.1519           47  27.6596                9.1571             -2.0556     -19.2033       2.5595  EMA:28, X:3, PCT:0.25\n",
      "2023      78.5093           46  39.1304                8.0967             -2.4011     -13.9779       5.6167  EMA:28, X:3, PCT:0.25\n",
      "2024      38.0427           41  39.0244                5.2310             -1.9023     -11.7842       3.2283  EMA:28, X:3, PCT:0.25\n",
      "Overall  513.3373          373  38.6059                6.9333             -2.1275     -24.1518      21.2546  EMA:28, X:3, PCT:0.25\n",
      "EMA:28, X:3, PCT:0.5\n"
     ]
    },
    {
     "name": "stderr",
     "output_type": "stream",
     "text": [
      "/tmp/ipykernel_32292/2639050160.py:92: FutureWarning: Setting an item of incompatible dtype is deprecated and will raise an error in a future version of pandas. Value 'Trailing SL Hit' has dtype incompatible with float64, please explicitly cast to a compatible dtype first.\n",
      "  tradebook_long.loc[\n"
     ]
    },
    {
     "name": "stdout",
     "output_type": "stream",
     "text": [
      "EMA:28, X:3, PCT:0.75\n"
     ]
    },
    {
     "name": "stderr",
     "output_type": "stream",
     "text": [
      "/tmp/ipykernel_32292/2639050160.py:92: FutureWarning: Setting an item of incompatible dtype is deprecated and will raise an error in a future version of pandas. Value 'Trailing SL Hit' has dtype incompatible with float64, please explicitly cast to a compatible dtype first.\n",
      "  tradebook_long.loc[\n",
      "/tmp/ipykernel_32292/2611632047.py:45: RuntimeWarning: divide by zero encountered in scalar divide\n",
      "  roi_dd_ratio = total_roi / abs(max_drawdown)\n",
      "/tmp/ipykernel_32292/2639050160.py:92: FutureWarning: Setting an item of incompatible dtype is deprecated and will raise an error in a future version of pandas. Value 'Trailing SL Hit' has dtype incompatible with float64, please explicitly cast to a compatible dtype first.\n",
      "  tradebook_long.loc[\n"
     ]
    },
    {
     "name": "stdout",
     "output_type": "stream",
     "text": [
      "EMA:28, X:3, PCT:1\n"
     ]
    },
    {
     "name": "stderr",
     "output_type": "stream",
     "text": [
      "/tmp/ipykernel_32292/2611632047.py:45: RuntimeWarning: divide by zero encountered in scalar divide\n",
      "  roi_dd_ratio = total_roi / abs(max_drawdown)\n",
      "/tmp/ipykernel_32292/2639050160.py:92: FutureWarning: Setting an item of incompatible dtype is deprecated and will raise an error in a future version of pandas. Value 'Trailing SL Hit' has dtype incompatible with float64, please explicitly cast to a compatible dtype first.\n",
      "  tradebook_long.loc[\n"
     ]
    },
    {
     "name": "stdout",
     "output_type": "stream",
     "text": [
      "EMA:28, X:6, PCT:0.25\n",
      "EMA:28, X:6, PCT:0.5\n"
     ]
    },
    {
     "name": "stderr",
     "output_type": "stream",
     "text": [
      "/tmp/ipykernel_32292/2639050160.py:92: FutureWarning: Setting an item of incompatible dtype is deprecated and will raise an error in a future version of pandas. Value 'Trailing SL Hit' has dtype incompatible with float64, please explicitly cast to a compatible dtype first.\n",
      "  tradebook_long.loc[\n"
     ]
    },
    {
     "name": "stdout",
     "output_type": "stream",
     "text": [
      "EMA:28, X:6, PCT:0.75\n"
     ]
    },
    {
     "name": "stderr",
     "output_type": "stream",
     "text": [
      "/tmp/ipykernel_32292/2639050160.py:92: FutureWarning: Setting an item of incompatible dtype is deprecated and will raise an error in a future version of pandas. Value 'Trailing SL Hit' has dtype incompatible with float64, please explicitly cast to a compatible dtype first.\n",
      "  tradebook_long.loc[\n"
     ]
    },
    {
     "name": "stdout",
     "output_type": "stream",
     "text": [
      "EMA:28, X:6, PCT:1\n"
     ]
    },
    {
     "name": "stderr",
     "output_type": "stream",
     "text": [
      "/tmp/ipykernel_32292/2639050160.py:78: FutureWarning: Setting an item of incompatible dtype is deprecated and will raise an error in a future version of pandas. Value 'Initial SL Hit' has dtype incompatible with float64, please explicitly cast to a compatible dtype first.\n",
      "  tradebook_long.loc[\n",
      "/tmp/ipykernel_32292/2611632047.py:45: RuntimeWarning: divide by zero encountered in scalar divide\n",
      "  roi_dd_ratio = total_roi / abs(max_drawdown)\n",
      "/tmp/ipykernel_32292/2639050160.py:92: FutureWarning: Setting an item of incompatible dtype is deprecated and will raise an error in a future version of pandas. Value 'Trailing SL Hit' has dtype incompatible with float64, please explicitly cast to a compatible dtype first.\n",
      "  tradebook_long.loc[\n"
     ]
    },
    {
     "name": "stdout",
     "output_type": "stream",
     "text": [
      "EMA:28, X:9, PCT:0.25\n",
      "EMA:28, X:9, PCT:0.5\n"
     ]
    },
    {
     "name": "stderr",
     "output_type": "stream",
     "text": [
      "/tmp/ipykernel_32292/2639050160.py:92: FutureWarning: Setting an item of incompatible dtype is deprecated and will raise an error in a future version of pandas. Value 'Trailing SL Hit' has dtype incompatible with float64, please explicitly cast to a compatible dtype first.\n",
      "  tradebook_long.loc[\n"
     ]
    },
    {
     "name": "stdout",
     "output_type": "stream",
     "text": [
      "EMA:28, X:9, PCT:0.75\n"
     ]
    },
    {
     "name": "stderr",
     "output_type": "stream",
     "text": [
      "/tmp/ipykernel_32292/2639050160.py:92: FutureWarning: Setting an item of incompatible dtype is deprecated and will raise an error in a future version of pandas. Value 'Trailing SL Hit' has dtype incompatible with float64, please explicitly cast to a compatible dtype first.\n",
      "  tradebook_long.loc[\n"
     ]
    },
    {
     "name": "stdout",
     "output_type": "stream",
     "text": [
      "EMA:28, X:9, PCT:1\n"
     ]
    },
    {
     "name": "stderr",
     "output_type": "stream",
     "text": [
      "/tmp/ipykernel_32292/2639050160.py:92: FutureWarning: Setting an item of incompatible dtype is deprecated and will raise an error in a future version of pandas. Value 'Trailing SL Hit' has dtype incompatible with float64, please explicitly cast to a compatible dtype first.\n",
      "  tradebook_long.loc[\n"
     ]
    },
    {
     "name": "stdout",
     "output_type": "stream",
     "text": [
      "EMA:28, X:12, PCT:0.25\n"
     ]
    },
    {
     "name": "stderr",
     "output_type": "stream",
     "text": [
      "/tmp/ipykernel_32292/2639050160.py:92: FutureWarning: Setting an item of incompatible dtype is deprecated and will raise an error in a future version of pandas. Value 'Trailing SL Hit' has dtype incompatible with float64, please explicitly cast to a compatible dtype first.\n",
      "  tradebook_long.loc[\n"
     ]
    },
    {
     "name": "stdout",
     "output_type": "stream",
     "text": [
      "EMA:28, X:12, PCT:0.5\n"
     ]
    },
    {
     "name": "stderr",
     "output_type": "stream",
     "text": [
      "/tmp/ipykernel_32292/2639050160.py:92: FutureWarning: Setting an item of incompatible dtype is deprecated and will raise an error in a future version of pandas. Value 'Trailing SL Hit' has dtype incompatible with float64, please explicitly cast to a compatible dtype first.\n",
      "  tradebook_long.loc[\n"
     ]
    },
    {
     "name": "stdout",
     "output_type": "stream",
     "text": [
      "EMA:28, X:12, PCT:0.75\n"
     ]
    },
    {
     "name": "stderr",
     "output_type": "stream",
     "text": [
      "/tmp/ipykernel_32292/2639050160.py:92: FutureWarning: Setting an item of incompatible dtype is deprecated and will raise an error in a future version of pandas. Value 'Trailing SL Hit' has dtype incompatible with float64, please explicitly cast to a compatible dtype first.\n",
      "  tradebook_long.loc[\n"
     ]
    },
    {
     "name": "stdout",
     "output_type": "stream",
     "text": [
      "EMA:28, X:12, PCT:1\n"
     ]
    },
    {
     "name": "stderr",
     "output_type": "stream",
     "text": [
      "/tmp/ipykernel_32292/2639050160.py:92: FutureWarning: Setting an item of incompatible dtype is deprecated and will raise an error in a future version of pandas. Value 'Trailing SL Hit' has dtype incompatible with float64, please explicitly cast to a compatible dtype first.\n",
      "  tradebook_long.loc[\n"
     ]
    },
    {
     "name": "stdout",
     "output_type": "stream",
     "text": [
      "EMA:28, X:15, PCT:0.25\n"
     ]
    },
    {
     "name": "stderr",
     "output_type": "stream",
     "text": [
      "/tmp/ipykernel_32292/2639050160.py:92: FutureWarning: Setting an item of incompatible dtype is deprecated and will raise an error in a future version of pandas. Value 'Trailing SL Hit' has dtype incompatible with float64, please explicitly cast to a compatible dtype first.\n",
      "  tradebook_long.loc[\n"
     ]
    },
    {
     "name": "stdout",
     "output_type": "stream",
     "text": [
      "EMA:28, X:15, PCT:0.5\n"
     ]
    },
    {
     "name": "stderr",
     "output_type": "stream",
     "text": [
      "/tmp/ipykernel_32292/2639050160.py:92: FutureWarning: Setting an item of incompatible dtype is deprecated and will raise an error in a future version of pandas. Value 'Trailing SL Hit' has dtype incompatible with float64, please explicitly cast to a compatible dtype first.\n",
      "  tradebook_long.loc[\n"
     ]
    },
    {
     "name": "stdout",
     "output_type": "stream",
     "text": [
      "EMA:28, X:15, PCT:0.75\n"
     ]
    },
    {
     "name": "stderr",
     "output_type": "stream",
     "text": [
      "/tmp/ipykernel_32292/2639050160.py:92: FutureWarning: Setting an item of incompatible dtype is deprecated and will raise an error in a future version of pandas. Value 'Trailing SL Hit' has dtype incompatible with float64, please explicitly cast to a compatible dtype first.\n",
      "  tradebook_long.loc[\n"
     ]
    },
    {
     "name": "stdout",
     "output_type": "stream",
     "text": [
      "EMA:28, X:15, PCT:1\n"
     ]
    },
    {
     "name": "stderr",
     "output_type": "stream",
     "text": [
      "/tmp/ipykernel_32292/2639050160.py:92: FutureWarning: Setting an item of incompatible dtype is deprecated and will raise an error in a future version of pandas. Value 'Trailing SL Hit' has dtype incompatible with float64, please explicitly cast to a compatible dtype first.\n",
      "  tradebook_long.loc[\n"
     ]
    },
    {
     "name": "stdout",
     "output_type": "stream",
     "text": [
      "EMA:28, X:18, PCT:0.25\n"
     ]
    },
    {
     "name": "stderr",
     "output_type": "stream",
     "text": [
      "/tmp/ipykernel_32292/2639050160.py:92: FutureWarning: Setting an item of incompatible dtype is deprecated and will raise an error in a future version of pandas. Value 'Trailing SL Hit' has dtype incompatible with float64, please explicitly cast to a compatible dtype first.\n",
      "  tradebook_long.loc[\n"
     ]
    },
    {
     "name": "stdout",
     "output_type": "stream",
     "text": [
      "EMA:28, X:18, PCT:0.5\n"
     ]
    },
    {
     "name": "stderr",
     "output_type": "stream",
     "text": [
      "/tmp/ipykernel_32292/2639050160.py:92: FutureWarning: Setting an item of incompatible dtype is deprecated and will raise an error in a future version of pandas. Value 'Trailing SL Hit' has dtype incompatible with float64, please explicitly cast to a compatible dtype first.\n",
      "  tradebook_long.loc[\n"
     ]
    },
    {
     "name": "stdout",
     "output_type": "stream",
     "text": [
      "EMA:28, X:18, PCT:0.75\n"
     ]
    },
    {
     "name": "stderr",
     "output_type": "stream",
     "text": [
      "/tmp/ipykernel_32292/2639050160.py:92: FutureWarning: Setting an item of incompatible dtype is deprecated and will raise an error in a future version of pandas. Value 'Trailing SL Hit' has dtype incompatible with float64, please explicitly cast to a compatible dtype first.\n",
      "  tradebook_long.loc[\n"
     ]
    },
    {
     "name": "stdout",
     "output_type": "stream",
     "text": [
      "EMA:28, X:18, PCT:1\n"
     ]
    },
    {
     "name": "stderr",
     "output_type": "stream",
     "text": [
      "/tmp/ipykernel_32292/2639050160.py:92: FutureWarning: Setting an item of incompatible dtype is deprecated and will raise an error in a future version of pandas. Value 'Trailing SL Hit' has dtype incompatible with float64, please explicitly cast to a compatible dtype first.\n",
      "  tradebook_long.loc[\n"
     ]
    },
    {
     "name": "stdout",
     "output_type": "stream",
     "text": [
      "EMA:28, X:21, PCT:0.25\n"
     ]
    },
    {
     "name": "stderr",
     "output_type": "stream",
     "text": [
      "/tmp/ipykernel_32292/2639050160.py:92: FutureWarning: Setting an item of incompatible dtype is deprecated and will raise an error in a future version of pandas. Value 'Trailing SL Hit' has dtype incompatible with float64, please explicitly cast to a compatible dtype first.\n",
      "  tradebook_long.loc[\n"
     ]
    },
    {
     "name": "stdout",
     "output_type": "stream",
     "text": [
      "EMA:28, X:21, PCT:0.5\n"
     ]
    },
    {
     "name": "stderr",
     "output_type": "stream",
     "text": [
      "/tmp/ipykernel_32292/2639050160.py:92: FutureWarning: Setting an item of incompatible dtype is deprecated and will raise an error in a future version of pandas. Value 'Trailing SL Hit' has dtype incompatible with float64, please explicitly cast to a compatible dtype first.\n",
      "  tradebook_long.loc[\n"
     ]
    },
    {
     "name": "stdout",
     "output_type": "stream",
     "text": [
      "EMA:28, X:21, PCT:0.75\n"
     ]
    },
    {
     "name": "stderr",
     "output_type": "stream",
     "text": [
      "/tmp/ipykernel_32292/2639050160.py:92: FutureWarning: Setting an item of incompatible dtype is deprecated and will raise an error in a future version of pandas. Value 'Trailing SL Hit' has dtype incompatible with float64, please explicitly cast to a compatible dtype first.\n",
      "  tradebook_long.loc[\n"
     ]
    },
    {
     "name": "stdout",
     "output_type": "stream",
     "text": [
      "EMA:28, X:21, PCT:1\n"
     ]
    },
    {
     "name": "stderr",
     "output_type": "stream",
     "text": [
      "/tmp/ipykernel_32292/2639050160.py:92: FutureWarning: Setting an item of incompatible dtype is deprecated and will raise an error in a future version of pandas. Value 'Trailing SL Hit' has dtype incompatible with float64, please explicitly cast to a compatible dtype first.\n",
      "  tradebook_long.loc[\n"
     ]
    },
    {
     "name": "stdout",
     "output_type": "stream",
     "text": [
      "EMA:28, X:24, PCT:0.25\n"
     ]
    },
    {
     "name": "stderr",
     "output_type": "stream",
     "text": [
      "/tmp/ipykernel_32292/2639050160.py:92: FutureWarning: Setting an item of incompatible dtype is deprecated and will raise an error in a future version of pandas. Value 'Trailing SL Hit' has dtype incompatible with float64, please explicitly cast to a compatible dtype first.\n",
      "  tradebook_long.loc[\n"
     ]
    },
    {
     "name": "stdout",
     "output_type": "stream",
     "text": [
      "EMA:28, X:24, PCT:0.5\n"
     ]
    },
    {
     "name": "stderr",
     "output_type": "stream",
     "text": [
      "/tmp/ipykernel_32292/2639050160.py:92: FutureWarning: Setting an item of incompatible dtype is deprecated and will raise an error in a future version of pandas. Value 'Trailing SL Hit' has dtype incompatible with float64, please explicitly cast to a compatible dtype first.\n",
      "  tradebook_long.loc[\n"
     ]
    },
    {
     "name": "stdout",
     "output_type": "stream",
     "text": [
      "EMA:28, X:24, PCT:0.75\n"
     ]
    },
    {
     "name": "stderr",
     "output_type": "stream",
     "text": [
      "/tmp/ipykernel_32292/2639050160.py:92: FutureWarning: Setting an item of incompatible dtype is deprecated and will raise an error in a future version of pandas. Value 'Trailing SL Hit' has dtype incompatible with float64, please explicitly cast to a compatible dtype first.\n",
      "  tradebook_long.loc[\n"
     ]
    },
    {
     "name": "stdout",
     "output_type": "stream",
     "text": [
      "EMA:28, X:24, PCT:1\n"
     ]
    },
    {
     "name": "stderr",
     "output_type": "stream",
     "text": [
      "/tmp/ipykernel_32292/2639050160.py:92: FutureWarning: Setting an item of incompatible dtype is deprecated and will raise an error in a future version of pandas. Value 'Trailing SL Hit' has dtype incompatible with float64, please explicitly cast to a compatible dtype first.\n",
      "  tradebook_long.loc[\n"
     ]
    },
    {
     "name": "stdout",
     "output_type": "stream",
     "text": [
      "EMA:28, X:27, PCT:0.25\n"
     ]
    },
    {
     "name": "stderr",
     "output_type": "stream",
     "text": [
      "/tmp/ipykernel_32292/2639050160.py:92: FutureWarning: Setting an item of incompatible dtype is deprecated and will raise an error in a future version of pandas. Value 'Trailing SL Hit' has dtype incompatible with float64, please explicitly cast to a compatible dtype first.\n",
      "  tradebook_long.loc[\n"
     ]
    },
    {
     "name": "stdout",
     "output_type": "stream",
     "text": [
      "EMA:28, X:27, PCT:0.5\n"
     ]
    },
    {
     "name": "stderr",
     "output_type": "stream",
     "text": [
      "/tmp/ipykernel_32292/2639050160.py:92: FutureWarning: Setting an item of incompatible dtype is deprecated and will raise an error in a future version of pandas. Value 'Trailing SL Hit' has dtype incompatible with float64, please explicitly cast to a compatible dtype first.\n",
      "  tradebook_long.loc[\n"
     ]
    },
    {
     "name": "stdout",
     "output_type": "stream",
     "text": [
      "EMA:28, X:27, PCT:0.75\n"
     ]
    },
    {
     "name": "stderr",
     "output_type": "stream",
     "text": [
      "/tmp/ipykernel_32292/2639050160.py:92: FutureWarning: Setting an item of incompatible dtype is deprecated and will raise an error in a future version of pandas. Value 'Trailing SL Hit' has dtype incompatible with float64, please explicitly cast to a compatible dtype first.\n",
      "  tradebook_long.loc[\n"
     ]
    },
    {
     "name": "stdout",
     "output_type": "stream",
     "text": [
      "EMA:28, X:27, PCT:1\n"
     ]
    },
    {
     "name": "stderr",
     "output_type": "stream",
     "text": [
      "/tmp/ipykernel_32292/2639050160.py:92: FutureWarning: Setting an item of incompatible dtype is deprecated and will raise an error in a future version of pandas. Value 'Trailing SL Hit' has dtype incompatible with float64, please explicitly cast to a compatible dtype first.\n",
      "  tradebook_long.loc[\n"
     ]
    },
    {
     "name": "stdout",
     "output_type": "stream",
     "text": [
      "EMA:28, X:30, PCT:0.25\n"
     ]
    },
    {
     "name": "stderr",
     "output_type": "stream",
     "text": [
      "/tmp/ipykernel_32292/2639050160.py:92: FutureWarning: Setting an item of incompatible dtype is deprecated and will raise an error in a future version of pandas. Value 'Trailing SL Hit' has dtype incompatible with float64, please explicitly cast to a compatible dtype first.\n",
      "  tradebook_long.loc[\n"
     ]
    },
    {
     "name": "stdout",
     "output_type": "stream",
     "text": [
      "EMA:28, X:30, PCT:0.5\n"
     ]
    },
    {
     "name": "stderr",
     "output_type": "stream",
     "text": [
      "/tmp/ipykernel_32292/2639050160.py:92: FutureWarning: Setting an item of incompatible dtype is deprecated and will raise an error in a future version of pandas. Value 'Trailing SL Hit' has dtype incompatible with float64, please explicitly cast to a compatible dtype first.\n",
      "  tradebook_long.loc[\n"
     ]
    },
    {
     "name": "stdout",
     "output_type": "stream",
     "text": [
      "EMA:28, X:30, PCT:0.75\n"
     ]
    },
    {
     "name": "stderr",
     "output_type": "stream",
     "text": [
      "/tmp/ipykernel_32292/2639050160.py:92: FutureWarning: Setting an item of incompatible dtype is deprecated and will raise an error in a future version of pandas. Value 'Trailing SL Hit' has dtype incompatible with float64, please explicitly cast to a compatible dtype first.\n",
      "  tradebook_long.loc[\n"
     ]
    },
    {
     "name": "stdout",
     "output_type": "stream",
     "text": [
      "EMA:28, X:30, PCT:1\n"
     ]
    },
    {
     "name": "stderr",
     "output_type": "stream",
     "text": [
      "/tmp/ipykernel_32292/2639050160.py:92: FutureWarning: Setting an item of incompatible dtype is deprecated and will raise an error in a future version of pandas. Value 'Trailing SL Hit' has dtype incompatible with float64, please explicitly cast to a compatible dtype first.\n",
      "  tradebook_long.loc[\n"
     ]
    },
    {
     "name": "stdout",
     "output_type": "stream",
     "text": [
      "EMA:28, X:33, PCT:0.25\n"
     ]
    },
    {
     "name": "stderr",
     "output_type": "stream",
     "text": [
      "/tmp/ipykernel_32292/2639050160.py:92: FutureWarning: Setting an item of incompatible dtype is deprecated and will raise an error in a future version of pandas. Value 'Trailing SL Hit' has dtype incompatible with float64, please explicitly cast to a compatible dtype first.\n",
      "  tradebook_long.loc[\n"
     ]
    },
    {
     "name": "stdout",
     "output_type": "stream",
     "text": [
      "EMA:28, X:33, PCT:0.5\n"
     ]
    },
    {
     "name": "stderr",
     "output_type": "stream",
     "text": [
      "/tmp/ipykernel_32292/2639050160.py:92: FutureWarning: Setting an item of incompatible dtype is deprecated and will raise an error in a future version of pandas. Value 'Trailing SL Hit' has dtype incompatible with float64, please explicitly cast to a compatible dtype first.\n",
      "  tradebook_long.loc[\n"
     ]
    },
    {
     "name": "stdout",
     "output_type": "stream",
     "text": [
      "EMA:28, X:33, PCT:0.75\n"
     ]
    },
    {
     "name": "stderr",
     "output_type": "stream",
     "text": [
      "/tmp/ipykernel_32292/2639050160.py:92: FutureWarning: Setting an item of incompatible dtype is deprecated and will raise an error in a future version of pandas. Value 'Trailing SL Hit' has dtype incompatible with float64, please explicitly cast to a compatible dtype first.\n",
      "  tradebook_long.loc[\n"
     ]
    },
    {
     "name": "stdout",
     "output_type": "stream",
     "text": [
      "EMA:28, X:33, PCT:1\n"
     ]
    },
    {
     "name": "stderr",
     "output_type": "stream",
     "text": [
      "/tmp/ipykernel_32292/2639050160.py:92: FutureWarning: Setting an item of incompatible dtype is deprecated and will raise an error in a future version of pandas. Value 'Trailing SL Hit' has dtype incompatible with float64, please explicitly cast to a compatible dtype first.\n",
      "  tradebook_long.loc[\n"
     ]
    },
    {
     "name": "stdout",
     "output_type": "stream",
     "text": [
      "EMA:28, X:36, PCT:0.25\n"
     ]
    },
    {
     "name": "stderr",
     "output_type": "stream",
     "text": [
      "/tmp/ipykernel_32292/2639050160.py:92: FutureWarning: Setting an item of incompatible dtype is deprecated and will raise an error in a future version of pandas. Value 'Trailing SL Hit' has dtype incompatible with float64, please explicitly cast to a compatible dtype first.\n",
      "  tradebook_long.loc[\n"
     ]
    },
    {
     "name": "stdout",
     "output_type": "stream",
     "text": [
      "EMA:28, X:36, PCT:0.5\n"
     ]
    },
    {
     "name": "stderr",
     "output_type": "stream",
     "text": [
      "/tmp/ipykernel_32292/2639050160.py:92: FutureWarning: Setting an item of incompatible dtype is deprecated and will raise an error in a future version of pandas. Value 'Trailing SL Hit' has dtype incompatible with float64, please explicitly cast to a compatible dtype first.\n",
      "  tradebook_long.loc[\n"
     ]
    },
    {
     "name": "stdout",
     "output_type": "stream",
     "text": [
      "EMA:28, X:36, PCT:0.75\n"
     ]
    },
    {
     "name": "stderr",
     "output_type": "stream",
     "text": [
      "/tmp/ipykernel_32292/2639050160.py:92: FutureWarning: Setting an item of incompatible dtype is deprecated and will raise an error in a future version of pandas. Value 'Trailing SL Hit' has dtype incompatible with float64, please explicitly cast to a compatible dtype first.\n",
      "  tradebook_long.loc[\n"
     ]
    },
    {
     "name": "stdout",
     "output_type": "stream",
     "text": [
      "EMA:28, X:36, PCT:1\n"
     ]
    },
    {
     "name": "stderr",
     "output_type": "stream",
     "text": [
      "/tmp/ipykernel_32292/2639050160.py:92: FutureWarning: Setting an item of incompatible dtype is deprecated and will raise an error in a future version of pandas. Value 'Trailing SL Hit' has dtype incompatible with float64, please explicitly cast to a compatible dtype first.\n",
      "  tradebook_long.loc[\n"
     ]
    },
    {
     "name": "stdout",
     "output_type": "stream",
     "text": [
      "EMA:30, X:3, PCT:0.25\n"
     ]
    },
    {
     "name": "stderr",
     "output_type": "stream",
     "text": [
      "/tmp/ipykernel_32292/2639050160.py:92: FutureWarning: Setting an item of incompatible dtype is deprecated and will raise an error in a future version of pandas. Value 'Trailing SL Hit' has dtype incompatible with float64, please explicitly cast to a compatible dtype first.\n",
      "  tradebook_long.loc[\n"
     ]
    },
    {
     "name": "stdout",
     "output_type": "stream",
     "text": [
      "EMA:30, X:3, PCT:0.5\n"
     ]
    },
    {
     "name": "stderr",
     "output_type": "stream",
     "text": [
      "/tmp/ipykernel_32292/2639050160.py:92: FutureWarning: Setting an item of incompatible dtype is deprecated and will raise an error in a future version of pandas. Value 'Trailing SL Hit' has dtype incompatible with float64, please explicitly cast to a compatible dtype first.\n",
      "  tradebook_long.loc[\n"
     ]
    },
    {
     "name": "stdout",
     "output_type": "stream",
     "text": [
      "EMA:30, X:3, PCT:0.75\n"
     ]
    },
    {
     "name": "stderr",
     "output_type": "stream",
     "text": [
      "/tmp/ipykernel_32292/2639050160.py:92: FutureWarning: Setting an item of incompatible dtype is deprecated and will raise an error in a future version of pandas. Value 'Trailing SL Hit' has dtype incompatible with float64, please explicitly cast to a compatible dtype first.\n",
      "  tradebook_long.loc[\n",
      "/tmp/ipykernel_32292/2611632047.py:45: RuntimeWarning: divide by zero encountered in scalar divide\n",
      "  roi_dd_ratio = total_roi / abs(max_drawdown)\n",
      "/tmp/ipykernel_32292/2639050160.py:92: FutureWarning: Setting an item of incompatible dtype is deprecated and will raise an error in a future version of pandas. Value 'Trailing SL Hit' has dtype incompatible with float64, please explicitly cast to a compatible dtype first.\n",
      "  tradebook_long.loc[\n"
     ]
    },
    {
     "name": "stdout",
     "output_type": "stream",
     "text": [
      "EMA:30, X:3, PCT:1\n"
     ]
    },
    {
     "name": "stderr",
     "output_type": "stream",
     "text": [
      "/tmp/ipykernel_32292/2611632047.py:45: RuntimeWarning: divide by zero encountered in scalar divide\n",
      "  roi_dd_ratio = total_roi / abs(max_drawdown)\n",
      "/tmp/ipykernel_32292/2639050160.py:92: FutureWarning: Setting an item of incompatible dtype is deprecated and will raise an error in a future version of pandas. Value 'Trailing SL Hit' has dtype incompatible with float64, please explicitly cast to a compatible dtype first.\n",
      "  tradebook_long.loc[\n"
     ]
    },
    {
     "name": "stdout",
     "output_type": "stream",
     "text": [
      "EMA:30, X:6, PCT:0.25\n",
      "EMA:30, X:6, PCT:0.5\n"
     ]
    },
    {
     "name": "stderr",
     "output_type": "stream",
     "text": [
      "/tmp/ipykernel_32292/2639050160.py:92: FutureWarning: Setting an item of incompatible dtype is deprecated and will raise an error in a future version of pandas. Value 'Trailing SL Hit' has dtype incompatible with float64, please explicitly cast to a compatible dtype first.\n",
      "  tradebook_long.loc[\n"
     ]
    },
    {
     "name": "stdout",
     "output_type": "stream",
     "text": [
      "EMA:30, X:6, PCT:0.75\n"
     ]
    },
    {
     "name": "stderr",
     "output_type": "stream",
     "text": [
      "/tmp/ipykernel_32292/2639050160.py:92: FutureWarning: Setting an item of incompatible dtype is deprecated and will raise an error in a future version of pandas. Value 'Trailing SL Hit' has dtype incompatible with float64, please explicitly cast to a compatible dtype first.\n",
      "  tradebook_long.loc[\n"
     ]
    },
    {
     "name": "stdout",
     "output_type": "stream",
     "text": [
      "EMA:30, X:6, PCT:1\n"
     ]
    },
    {
     "name": "stderr",
     "output_type": "stream",
     "text": [
      "/tmp/ipykernel_32292/2639050160.py:78: FutureWarning: Setting an item of incompatible dtype is deprecated and will raise an error in a future version of pandas. Value 'Initial SL Hit' has dtype incompatible with float64, please explicitly cast to a compatible dtype first.\n",
      "  tradebook_long.loc[\n",
      "/tmp/ipykernel_32292/2611632047.py:45: RuntimeWarning: divide by zero encountered in scalar divide\n",
      "  roi_dd_ratio = total_roi / abs(max_drawdown)\n",
      "/tmp/ipykernel_32292/2639050160.py:92: FutureWarning: Setting an item of incompatible dtype is deprecated and will raise an error in a future version of pandas. Value 'Trailing SL Hit' has dtype incompatible with float64, please explicitly cast to a compatible dtype first.\n",
      "  tradebook_long.loc[\n"
     ]
    },
    {
     "name": "stdout",
     "output_type": "stream",
     "text": [
      "EMA:30, X:9, PCT:0.25\n",
      "EMA:30, X:9, PCT:0.5\n"
     ]
    },
    {
     "name": "stderr",
     "output_type": "stream",
     "text": [
      "/tmp/ipykernel_32292/2639050160.py:92: FutureWarning: Setting an item of incompatible dtype is deprecated and will raise an error in a future version of pandas. Value 'Trailing SL Hit' has dtype incompatible with float64, please explicitly cast to a compatible dtype first.\n",
      "  tradebook_long.loc[\n"
     ]
    },
    {
     "name": "stdout",
     "output_type": "stream",
     "text": [
      "EMA:30, X:9, PCT:0.75\n"
     ]
    },
    {
     "name": "stderr",
     "output_type": "stream",
     "text": [
      "/tmp/ipykernel_32292/2639050160.py:92: FutureWarning: Setting an item of incompatible dtype is deprecated and will raise an error in a future version of pandas. Value 'Trailing SL Hit' has dtype incompatible with float64, please explicitly cast to a compatible dtype first.\n",
      "  tradebook_long.loc[\n"
     ]
    },
    {
     "name": "stdout",
     "output_type": "stream",
     "text": [
      "EMA:30, X:9, PCT:1\n"
     ]
    },
    {
     "name": "stderr",
     "output_type": "stream",
     "text": [
      "/tmp/ipykernel_32292/2639050160.py:92: FutureWarning: Setting an item of incompatible dtype is deprecated and will raise an error in a future version of pandas. Value 'Trailing SL Hit' has dtype incompatible with float64, please explicitly cast to a compatible dtype first.\n",
      "  tradebook_long.loc[\n"
     ]
    },
    {
     "name": "stdout",
     "output_type": "stream",
     "text": [
      "EMA:30, X:12, PCT:0.25\n"
     ]
    },
    {
     "name": "stderr",
     "output_type": "stream",
     "text": [
      "/tmp/ipykernel_32292/2639050160.py:92: FutureWarning: Setting an item of incompatible dtype is deprecated and will raise an error in a future version of pandas. Value 'Trailing SL Hit' has dtype incompatible with float64, please explicitly cast to a compatible dtype first.\n",
      "  tradebook_long.loc[\n"
     ]
    },
    {
     "name": "stdout",
     "output_type": "stream",
     "text": [
      "EMA:30, X:12, PCT:0.5\n"
     ]
    },
    {
     "name": "stderr",
     "output_type": "stream",
     "text": [
      "/tmp/ipykernel_32292/2639050160.py:92: FutureWarning: Setting an item of incompatible dtype is deprecated and will raise an error in a future version of pandas. Value 'Trailing SL Hit' has dtype incompatible with float64, please explicitly cast to a compatible dtype first.\n",
      "  tradebook_long.loc[\n"
     ]
    },
    {
     "name": "stdout",
     "output_type": "stream",
     "text": [
      "EMA:30, X:12, PCT:0.75\n"
     ]
    },
    {
     "name": "stderr",
     "output_type": "stream",
     "text": [
      "/tmp/ipykernel_32292/2639050160.py:92: FutureWarning: Setting an item of incompatible dtype is deprecated and will raise an error in a future version of pandas. Value 'Trailing SL Hit' has dtype incompatible with float64, please explicitly cast to a compatible dtype first.\n",
      "  tradebook_long.loc[\n"
     ]
    },
    {
     "name": "stdout",
     "output_type": "stream",
     "text": [
      "EMA:30, X:12, PCT:1\n"
     ]
    },
    {
     "name": "stderr",
     "output_type": "stream",
     "text": [
      "/tmp/ipykernel_32292/2639050160.py:92: FutureWarning: Setting an item of incompatible dtype is deprecated and will raise an error in a future version of pandas. Value 'Trailing SL Hit' has dtype incompatible with float64, please explicitly cast to a compatible dtype first.\n",
      "  tradebook_long.loc[\n"
     ]
    },
    {
     "name": "stdout",
     "output_type": "stream",
     "text": [
      "EMA:30, X:15, PCT:0.25\n"
     ]
    },
    {
     "name": "stderr",
     "output_type": "stream",
     "text": [
      "/tmp/ipykernel_32292/2639050160.py:92: FutureWarning: Setting an item of incompatible dtype is deprecated and will raise an error in a future version of pandas. Value 'Trailing SL Hit' has dtype incompatible with float64, please explicitly cast to a compatible dtype first.\n",
      "  tradebook_long.loc[\n"
     ]
    },
    {
     "name": "stdout",
     "output_type": "stream",
     "text": [
      "        Total ROI Total Trades Win Rate Avg Profit% per Trade Avg Loss% per Trade Max Drawdown ROI/DD Ratio               Variation\n",
      "2017      33.4743           40  45.0000                4.5307             -2.1854     -10.4544       3.2019  EMA:30, X:15, PCT:0.25\n",
      "2018      71.8079           38  42.1053                7.0953             -1.8962      -8.8526       8.1115  EMA:30, X:15, PCT:0.25\n",
      "2019      24.2653           47  34.0426                5.4809             -2.0461     -17.3570       1.3980  EMA:30, X:15, PCT:0.25\n",
      "2020      69.1386           47  38.2979                7.0152             -1.9702      -9.4403       7.3238  EMA:30, X:15, PCT:0.25\n",
      "2021      89.8068           42  42.8571                6.8314             -1.3816     -13.5993       6.6038  EMA:30, X:15, PCT:0.25\n",
      "2022      33.4303           40  30.0000                7.0320             -1.8198     -15.8616       2.1076  EMA:30, X:15, PCT:0.25\n",
      "2023      61.2720           44  40.9091                6.4063             -2.0785     -14.7510       4.1538  EMA:30, X:15, PCT:0.25\n",
      "2024      23.6719           38  34.2105                4.5953             -1.5028     -10.1732       2.3269  EMA:30, X:15, PCT:0.25\n",
      "Overall  406.8671          336  38.3929                6.1353             -1.8669     -17.8644      22.7753  EMA:30, X:15, PCT:0.25\n",
      "EMA:30, X:15, PCT:0.5\n"
     ]
    },
    {
     "name": "stderr",
     "output_type": "stream",
     "text": [
      "/tmp/ipykernel_32292/2639050160.py:92: FutureWarning: Setting an item of incompatible dtype is deprecated and will raise an error in a future version of pandas. Value 'Trailing SL Hit' has dtype incompatible with float64, please explicitly cast to a compatible dtype first.\n",
      "  tradebook_long.loc[\n"
     ]
    },
    {
     "name": "stdout",
     "output_type": "stream",
     "text": [
      "EMA:30, X:15, PCT:0.75\n"
     ]
    },
    {
     "name": "stderr",
     "output_type": "stream",
     "text": [
      "/tmp/ipykernel_32292/2639050160.py:92: FutureWarning: Setting an item of incompatible dtype is deprecated and will raise an error in a future version of pandas. Value 'Trailing SL Hit' has dtype incompatible with float64, please explicitly cast to a compatible dtype first.\n",
      "  tradebook_long.loc[\n"
     ]
    },
    {
     "name": "stdout",
     "output_type": "stream",
     "text": [
      "EMA:30, X:15, PCT:1\n"
     ]
    },
    {
     "name": "stderr",
     "output_type": "stream",
     "text": [
      "/tmp/ipykernel_32292/2639050160.py:92: FutureWarning: Setting an item of incompatible dtype is deprecated and will raise an error in a future version of pandas. Value 'Trailing SL Hit' has dtype incompatible with float64, please explicitly cast to a compatible dtype first.\n",
      "  tradebook_long.loc[\n"
     ]
    },
    {
     "name": "stdout",
     "output_type": "stream",
     "text": [
      "EMA:30, X:18, PCT:0.25\n"
     ]
    },
    {
     "name": "stderr",
     "output_type": "stream",
     "text": [
      "/tmp/ipykernel_32292/2639050160.py:92: FutureWarning: Setting an item of incompatible dtype is deprecated and will raise an error in a future version of pandas. Value 'Trailing SL Hit' has dtype incompatible with float64, please explicitly cast to a compatible dtype first.\n",
      "  tradebook_long.loc[\n"
     ]
    },
    {
     "name": "stdout",
     "output_type": "stream",
     "text": [
      "EMA:30, X:18, PCT:0.5\n"
     ]
    },
    {
     "name": "stderr",
     "output_type": "stream",
     "text": [
      "/tmp/ipykernel_32292/2639050160.py:92: FutureWarning: Setting an item of incompatible dtype is deprecated and will raise an error in a future version of pandas. Value 'Trailing SL Hit' has dtype incompatible with float64, please explicitly cast to a compatible dtype first.\n",
      "  tradebook_long.loc[\n"
     ]
    },
    {
     "name": "stdout",
     "output_type": "stream",
     "text": [
      "EMA:30, X:18, PCT:0.75\n"
     ]
    },
    {
     "name": "stderr",
     "output_type": "stream",
     "text": [
      "/tmp/ipykernel_32292/2639050160.py:92: FutureWarning: Setting an item of incompatible dtype is deprecated and will raise an error in a future version of pandas. Value 'Trailing SL Hit' has dtype incompatible with float64, please explicitly cast to a compatible dtype first.\n",
      "  tradebook_long.loc[\n"
     ]
    },
    {
     "name": "stdout",
     "output_type": "stream",
     "text": [
      "EMA:30, X:18, PCT:1\n"
     ]
    },
    {
     "name": "stderr",
     "output_type": "stream",
     "text": [
      "/tmp/ipykernel_32292/2639050160.py:92: FutureWarning: Setting an item of incompatible dtype is deprecated and will raise an error in a future version of pandas. Value 'Trailing SL Hit' has dtype incompatible with float64, please explicitly cast to a compatible dtype first.\n",
      "  tradebook_long.loc[\n"
     ]
    },
    {
     "name": "stdout",
     "output_type": "stream",
     "text": [
      "EMA:30, X:21, PCT:0.25\n"
     ]
    },
    {
     "name": "stderr",
     "output_type": "stream",
     "text": [
      "/tmp/ipykernel_32292/2639050160.py:92: FutureWarning: Setting an item of incompatible dtype is deprecated and will raise an error in a future version of pandas. Value 'Trailing SL Hit' has dtype incompatible with float64, please explicitly cast to a compatible dtype first.\n",
      "  tradebook_long.loc[\n"
     ]
    },
    {
     "name": "stdout",
     "output_type": "stream",
     "text": [
      "EMA:30, X:21, PCT:0.5\n"
     ]
    },
    {
     "name": "stderr",
     "output_type": "stream",
     "text": [
      "/tmp/ipykernel_32292/2639050160.py:92: FutureWarning: Setting an item of incompatible dtype is deprecated and will raise an error in a future version of pandas. Value 'Trailing SL Hit' has dtype incompatible with float64, please explicitly cast to a compatible dtype first.\n",
      "  tradebook_long.loc[\n"
     ]
    },
    {
     "name": "stdout",
     "output_type": "stream",
     "text": [
      "EMA:30, X:21, PCT:0.75\n"
     ]
    },
    {
     "name": "stderr",
     "output_type": "stream",
     "text": [
      "/tmp/ipykernel_32292/2639050160.py:92: FutureWarning: Setting an item of incompatible dtype is deprecated and will raise an error in a future version of pandas. Value 'Trailing SL Hit' has dtype incompatible with float64, please explicitly cast to a compatible dtype first.\n",
      "  tradebook_long.loc[\n"
     ]
    },
    {
     "name": "stdout",
     "output_type": "stream",
     "text": [
      "EMA:30, X:21, PCT:1\n"
     ]
    },
    {
     "name": "stderr",
     "output_type": "stream",
     "text": [
      "/tmp/ipykernel_32292/2639050160.py:92: FutureWarning: Setting an item of incompatible dtype is deprecated and will raise an error in a future version of pandas. Value 'Trailing SL Hit' has dtype incompatible with float64, please explicitly cast to a compatible dtype first.\n",
      "  tradebook_long.loc[\n"
     ]
    },
    {
     "name": "stdout",
     "output_type": "stream",
     "text": [
      "EMA:30, X:24, PCT:0.25\n"
     ]
    },
    {
     "name": "stderr",
     "output_type": "stream",
     "text": [
      "/tmp/ipykernel_32292/2639050160.py:92: FutureWarning: Setting an item of incompatible dtype is deprecated and will raise an error in a future version of pandas. Value 'Trailing SL Hit' has dtype incompatible with float64, please explicitly cast to a compatible dtype first.\n",
      "  tradebook_long.loc[\n"
     ]
    },
    {
     "name": "stdout",
     "output_type": "stream",
     "text": [
      "EMA:30, X:24, PCT:0.5\n"
     ]
    },
    {
     "name": "stderr",
     "output_type": "stream",
     "text": [
      "/tmp/ipykernel_32292/2639050160.py:92: FutureWarning: Setting an item of incompatible dtype is deprecated and will raise an error in a future version of pandas. Value 'Trailing SL Hit' has dtype incompatible with float64, please explicitly cast to a compatible dtype first.\n",
      "  tradebook_long.loc[\n"
     ]
    },
    {
     "name": "stdout",
     "output_type": "stream",
     "text": [
      "EMA:30, X:24, PCT:0.75\n"
     ]
    },
    {
     "name": "stderr",
     "output_type": "stream",
     "text": [
      "/tmp/ipykernel_32292/2639050160.py:92: FutureWarning: Setting an item of incompatible dtype is deprecated and will raise an error in a future version of pandas. Value 'Trailing SL Hit' has dtype incompatible with float64, please explicitly cast to a compatible dtype first.\n",
      "  tradebook_long.loc[\n"
     ]
    },
    {
     "name": "stdout",
     "output_type": "stream",
     "text": [
      "EMA:30, X:24, PCT:1\n"
     ]
    },
    {
     "name": "stderr",
     "output_type": "stream",
     "text": [
      "/tmp/ipykernel_32292/2639050160.py:92: FutureWarning: Setting an item of incompatible dtype is deprecated and will raise an error in a future version of pandas. Value 'Trailing SL Hit' has dtype incompatible with float64, please explicitly cast to a compatible dtype first.\n",
      "  tradebook_long.loc[\n"
     ]
    },
    {
     "name": "stdout",
     "output_type": "stream",
     "text": [
      "EMA:30, X:27, PCT:0.25\n"
     ]
    },
    {
     "name": "stderr",
     "output_type": "stream",
     "text": [
      "/tmp/ipykernel_32292/2639050160.py:92: FutureWarning: Setting an item of incompatible dtype is deprecated and will raise an error in a future version of pandas. Value 'Trailing SL Hit' has dtype incompatible with float64, please explicitly cast to a compatible dtype first.\n",
      "  tradebook_long.loc[\n"
     ]
    },
    {
     "name": "stdout",
     "output_type": "stream",
     "text": [
      "EMA:30, X:27, PCT:0.5\n"
     ]
    },
    {
     "name": "stderr",
     "output_type": "stream",
     "text": [
      "/tmp/ipykernel_32292/2639050160.py:92: FutureWarning: Setting an item of incompatible dtype is deprecated and will raise an error in a future version of pandas. Value 'Trailing SL Hit' has dtype incompatible with float64, please explicitly cast to a compatible dtype first.\n",
      "  tradebook_long.loc[\n"
     ]
    },
    {
     "name": "stdout",
     "output_type": "stream",
     "text": [
      "EMA:30, X:27, PCT:0.75\n"
     ]
    },
    {
     "name": "stderr",
     "output_type": "stream",
     "text": [
      "/tmp/ipykernel_32292/2639050160.py:92: FutureWarning: Setting an item of incompatible dtype is deprecated and will raise an error in a future version of pandas. Value 'Trailing SL Hit' has dtype incompatible with float64, please explicitly cast to a compatible dtype first.\n",
      "  tradebook_long.loc[\n"
     ]
    },
    {
     "name": "stdout",
     "output_type": "stream",
     "text": [
      "EMA:30, X:27, PCT:1\n"
     ]
    },
    {
     "name": "stderr",
     "output_type": "stream",
     "text": [
      "/tmp/ipykernel_32292/2639050160.py:92: FutureWarning: Setting an item of incompatible dtype is deprecated and will raise an error in a future version of pandas. Value 'Trailing SL Hit' has dtype incompatible with float64, please explicitly cast to a compatible dtype first.\n",
      "  tradebook_long.loc[\n"
     ]
    },
    {
     "name": "stdout",
     "output_type": "stream",
     "text": [
      "EMA:30, X:30, PCT:0.25\n"
     ]
    },
    {
     "name": "stderr",
     "output_type": "stream",
     "text": [
      "/tmp/ipykernel_32292/2639050160.py:92: FutureWarning: Setting an item of incompatible dtype is deprecated and will raise an error in a future version of pandas. Value 'Trailing SL Hit' has dtype incompatible with float64, please explicitly cast to a compatible dtype first.\n",
      "  tradebook_long.loc[\n"
     ]
    },
    {
     "name": "stdout",
     "output_type": "stream",
     "text": [
      "EMA:30, X:30, PCT:0.5\n"
     ]
    },
    {
     "name": "stderr",
     "output_type": "stream",
     "text": [
      "/tmp/ipykernel_32292/2639050160.py:92: FutureWarning: Setting an item of incompatible dtype is deprecated and will raise an error in a future version of pandas. Value 'Trailing SL Hit' has dtype incompatible with float64, please explicitly cast to a compatible dtype first.\n",
      "  tradebook_long.loc[\n"
     ]
    },
    {
     "name": "stdout",
     "output_type": "stream",
     "text": [
      "EMA:30, X:30, PCT:0.75\n"
     ]
    },
    {
     "name": "stderr",
     "output_type": "stream",
     "text": [
      "/tmp/ipykernel_32292/2639050160.py:92: FutureWarning: Setting an item of incompatible dtype is deprecated and will raise an error in a future version of pandas. Value 'Trailing SL Hit' has dtype incompatible with float64, please explicitly cast to a compatible dtype first.\n",
      "  tradebook_long.loc[\n"
     ]
    },
    {
     "name": "stdout",
     "output_type": "stream",
     "text": [
      "EMA:30, X:30, PCT:1\n"
     ]
    },
    {
     "name": "stderr",
     "output_type": "stream",
     "text": [
      "/tmp/ipykernel_32292/2639050160.py:92: FutureWarning: Setting an item of incompatible dtype is deprecated and will raise an error in a future version of pandas. Value 'Trailing SL Hit' has dtype incompatible with float64, please explicitly cast to a compatible dtype first.\n",
      "  tradebook_long.loc[\n"
     ]
    },
    {
     "name": "stdout",
     "output_type": "stream",
     "text": [
      "EMA:30, X:33, PCT:0.25\n"
     ]
    },
    {
     "name": "stderr",
     "output_type": "stream",
     "text": [
      "/tmp/ipykernel_32292/2639050160.py:92: FutureWarning: Setting an item of incompatible dtype is deprecated and will raise an error in a future version of pandas. Value 'Trailing SL Hit' has dtype incompatible with float64, please explicitly cast to a compatible dtype first.\n",
      "  tradebook_long.loc[\n"
     ]
    },
    {
     "name": "stdout",
     "output_type": "stream",
     "text": [
      "EMA:30, X:33, PCT:0.5\n"
     ]
    },
    {
     "name": "stderr",
     "output_type": "stream",
     "text": [
      "/tmp/ipykernel_32292/2639050160.py:92: FutureWarning: Setting an item of incompatible dtype is deprecated and will raise an error in a future version of pandas. Value 'Trailing SL Hit' has dtype incompatible with float64, please explicitly cast to a compatible dtype first.\n",
      "  tradebook_long.loc[\n"
     ]
    },
    {
     "name": "stdout",
     "output_type": "stream",
     "text": [
      "EMA:30, X:33, PCT:0.75\n"
     ]
    },
    {
     "name": "stderr",
     "output_type": "stream",
     "text": [
      "/tmp/ipykernel_32292/2639050160.py:92: FutureWarning: Setting an item of incompatible dtype is deprecated and will raise an error in a future version of pandas. Value 'Trailing SL Hit' has dtype incompatible with float64, please explicitly cast to a compatible dtype first.\n",
      "  tradebook_long.loc[\n"
     ]
    },
    {
     "name": "stdout",
     "output_type": "stream",
     "text": [
      "EMA:30, X:33, PCT:1\n"
     ]
    },
    {
     "name": "stderr",
     "output_type": "stream",
     "text": [
      "/tmp/ipykernel_32292/2639050160.py:92: FutureWarning: Setting an item of incompatible dtype is deprecated and will raise an error in a future version of pandas. Value 'Trailing SL Hit' has dtype incompatible with float64, please explicitly cast to a compatible dtype first.\n",
      "  tradebook_long.loc[\n"
     ]
    },
    {
     "name": "stdout",
     "output_type": "stream",
     "text": [
      "EMA:30, X:36, PCT:0.25\n"
     ]
    },
    {
     "name": "stderr",
     "output_type": "stream",
     "text": [
      "/tmp/ipykernel_32292/2639050160.py:92: FutureWarning: Setting an item of incompatible dtype is deprecated and will raise an error in a future version of pandas. Value 'Trailing SL Hit' has dtype incompatible with float64, please explicitly cast to a compatible dtype first.\n",
      "  tradebook_long.loc[\n"
     ]
    },
    {
     "name": "stdout",
     "output_type": "stream",
     "text": [
      "EMA:30, X:36, PCT:0.5\n"
     ]
    },
    {
     "name": "stderr",
     "output_type": "stream",
     "text": [
      "/tmp/ipykernel_32292/2639050160.py:92: FutureWarning: Setting an item of incompatible dtype is deprecated and will raise an error in a future version of pandas. Value 'Trailing SL Hit' has dtype incompatible with float64, please explicitly cast to a compatible dtype first.\n",
      "  tradebook_long.loc[\n"
     ]
    },
    {
     "name": "stdout",
     "output_type": "stream",
     "text": [
      "EMA:30, X:36, PCT:0.75\n"
     ]
    },
    {
     "name": "stderr",
     "output_type": "stream",
     "text": [
      "/tmp/ipykernel_32292/2639050160.py:92: FutureWarning: Setting an item of incompatible dtype is deprecated and will raise an error in a future version of pandas. Value 'Trailing SL Hit' has dtype incompatible with float64, please explicitly cast to a compatible dtype first.\n",
      "  tradebook_long.loc[\n"
     ]
    },
    {
     "name": "stdout",
     "output_type": "stream",
     "text": [
      "EMA:30, X:36, PCT:1\n"
     ]
    },
    {
     "name": "stderr",
     "output_type": "stream",
     "text": [
      "/tmp/ipykernel_32292/2639050160.py:92: FutureWarning: Setting an item of incompatible dtype is deprecated and will raise an error in a future version of pandas. Value 'Trailing SL Hit' has dtype incompatible with float64, please explicitly cast to a compatible dtype first.\n",
      "  tradebook_long.loc[\n"
     ]
    },
    {
     "name": "stdout",
     "output_type": "stream",
     "text": [
      "EMA:32, X:3, PCT:0.25\n"
     ]
    },
    {
     "name": "stderr",
     "output_type": "stream",
     "text": [
      "/tmp/ipykernel_32292/2639050160.py:92: FutureWarning: Setting an item of incompatible dtype is deprecated and will raise an error in a future version of pandas. Value 'Trailing SL Hit' has dtype incompatible with float64, please explicitly cast to a compatible dtype first.\n",
      "  tradebook_long.loc[\n"
     ]
    },
    {
     "name": "stdout",
     "output_type": "stream",
     "text": [
      "EMA:32, X:3, PCT:0.5\n"
     ]
    },
    {
     "name": "stderr",
     "output_type": "stream",
     "text": [
      "/tmp/ipykernel_32292/2639050160.py:92: FutureWarning: Setting an item of incompatible dtype is deprecated and will raise an error in a future version of pandas. Value 'Trailing SL Hit' has dtype incompatible with float64, please explicitly cast to a compatible dtype first.\n",
      "  tradebook_long.loc[\n"
     ]
    },
    {
     "name": "stdout",
     "output_type": "stream",
     "text": [
      "EMA:32, X:3, PCT:0.75\n"
     ]
    },
    {
     "name": "stderr",
     "output_type": "stream",
     "text": [
      "/tmp/ipykernel_32292/2639050160.py:92: FutureWarning: Setting an item of incompatible dtype is deprecated and will raise an error in a future version of pandas. Value 'Trailing SL Hit' has dtype incompatible with float64, please explicitly cast to a compatible dtype first.\n",
      "  tradebook_long.loc[\n",
      "/tmp/ipykernel_32292/2611632047.py:45: RuntimeWarning: divide by zero encountered in scalar divide\n",
      "  roi_dd_ratio = total_roi / abs(max_drawdown)\n",
      "/tmp/ipykernel_32292/2639050160.py:92: FutureWarning: Setting an item of incompatible dtype is deprecated and will raise an error in a future version of pandas. Value 'Trailing SL Hit' has dtype incompatible with float64, please explicitly cast to a compatible dtype first.\n",
      "  tradebook_long.loc[\n"
     ]
    },
    {
     "name": "stdout",
     "output_type": "stream",
     "text": [
      "EMA:32, X:3, PCT:1\n"
     ]
    },
    {
     "name": "stderr",
     "output_type": "stream",
     "text": [
      "/tmp/ipykernel_32292/2611632047.py:45: RuntimeWarning: divide by zero encountered in scalar divide\n",
      "  roi_dd_ratio = total_roi / abs(max_drawdown)\n",
      "/tmp/ipykernel_32292/2639050160.py:92: FutureWarning: Setting an item of incompatible dtype is deprecated and will raise an error in a future version of pandas. Value 'Trailing SL Hit' has dtype incompatible with float64, please explicitly cast to a compatible dtype first.\n",
      "  tradebook_long.loc[\n"
     ]
    },
    {
     "name": "stdout",
     "output_type": "stream",
     "text": [
      "EMA:32, X:6, PCT:0.25\n",
      "EMA:32, X:6, PCT:0.5\n"
     ]
    },
    {
     "name": "stderr",
     "output_type": "stream",
     "text": [
      "/tmp/ipykernel_32292/2639050160.py:92: FutureWarning: Setting an item of incompatible dtype is deprecated and will raise an error in a future version of pandas. Value 'Trailing SL Hit' has dtype incompatible with float64, please explicitly cast to a compatible dtype first.\n",
      "  tradebook_long.loc[\n"
     ]
    },
    {
     "name": "stdout",
     "output_type": "stream",
     "text": [
      "EMA:32, X:6, PCT:0.75\n"
     ]
    },
    {
     "name": "stderr",
     "output_type": "stream",
     "text": [
      "/tmp/ipykernel_32292/2639050160.py:92: FutureWarning: Setting an item of incompatible dtype is deprecated and will raise an error in a future version of pandas. Value 'Trailing SL Hit' has dtype incompatible with float64, please explicitly cast to a compatible dtype first.\n",
      "  tradebook_long.loc[\n"
     ]
    },
    {
     "name": "stdout",
     "output_type": "stream",
     "text": [
      "EMA:32, X:6, PCT:1\n"
     ]
    },
    {
     "name": "stderr",
     "output_type": "stream",
     "text": [
      "/tmp/ipykernel_32292/2639050160.py:78: FutureWarning: Setting an item of incompatible dtype is deprecated and will raise an error in a future version of pandas. Value 'Initial SL Hit' has dtype incompatible with float64, please explicitly cast to a compatible dtype first.\n",
      "  tradebook_long.loc[\n",
      "/tmp/ipykernel_32292/2611632047.py:45: RuntimeWarning: divide by zero encountered in scalar divide\n",
      "  roi_dd_ratio = total_roi / abs(max_drawdown)\n",
      "/tmp/ipykernel_32292/2639050160.py:92: FutureWarning: Setting an item of incompatible dtype is deprecated and will raise an error in a future version of pandas. Value 'Trailing SL Hit' has dtype incompatible with float64, please explicitly cast to a compatible dtype first.\n",
      "  tradebook_long.loc[\n"
     ]
    },
    {
     "name": "stdout",
     "output_type": "stream",
     "text": [
      "EMA:32, X:9, PCT:0.25\n",
      "EMA:32, X:9, PCT:0.5\n"
     ]
    },
    {
     "name": "stderr",
     "output_type": "stream",
     "text": [
      "/tmp/ipykernel_32292/2639050160.py:92: FutureWarning: Setting an item of incompatible dtype is deprecated and will raise an error in a future version of pandas. Value 'Trailing SL Hit' has dtype incompatible with float64, please explicitly cast to a compatible dtype first.\n",
      "  tradebook_long.loc[\n"
     ]
    },
    {
     "name": "stdout",
     "output_type": "stream",
     "text": [
      "EMA:32, X:9, PCT:0.75\n"
     ]
    },
    {
     "name": "stderr",
     "output_type": "stream",
     "text": [
      "/tmp/ipykernel_32292/2639050160.py:92: FutureWarning: Setting an item of incompatible dtype is deprecated and will raise an error in a future version of pandas. Value 'Trailing SL Hit' has dtype incompatible with float64, please explicitly cast to a compatible dtype first.\n",
      "  tradebook_long.loc[\n"
     ]
    },
    {
     "name": "stdout",
     "output_type": "stream",
     "text": [
      "EMA:32, X:9, PCT:1\n"
     ]
    },
    {
     "name": "stderr",
     "output_type": "stream",
     "text": [
      "/tmp/ipykernel_32292/2639050160.py:92: FutureWarning: Setting an item of incompatible dtype is deprecated and will raise an error in a future version of pandas. Value 'Trailing SL Hit' has dtype incompatible with float64, please explicitly cast to a compatible dtype first.\n",
      "  tradebook_long.loc[\n"
     ]
    },
    {
     "name": "stdout",
     "output_type": "stream",
     "text": [
      "EMA:32, X:12, PCT:0.25\n"
     ]
    },
    {
     "name": "stderr",
     "output_type": "stream",
     "text": [
      "/tmp/ipykernel_32292/2639050160.py:92: FutureWarning: Setting an item of incompatible dtype is deprecated and will raise an error in a future version of pandas. Value 'Trailing SL Hit' has dtype incompatible with float64, please explicitly cast to a compatible dtype first.\n",
      "  tradebook_long.loc[\n"
     ]
    },
    {
     "name": "stdout",
     "output_type": "stream",
     "text": [
      "EMA:32, X:12, PCT:0.5\n"
     ]
    },
    {
     "name": "stderr",
     "output_type": "stream",
     "text": [
      "/tmp/ipykernel_32292/2639050160.py:92: FutureWarning: Setting an item of incompatible dtype is deprecated and will raise an error in a future version of pandas. Value 'Trailing SL Hit' has dtype incompatible with float64, please explicitly cast to a compatible dtype first.\n",
      "  tradebook_long.loc[\n"
     ]
    },
    {
     "name": "stdout",
     "output_type": "stream",
     "text": [
      "EMA:32, X:12, PCT:0.75\n"
     ]
    },
    {
     "name": "stderr",
     "output_type": "stream",
     "text": [
      "/tmp/ipykernel_32292/2639050160.py:92: FutureWarning: Setting an item of incompatible dtype is deprecated and will raise an error in a future version of pandas. Value 'Trailing SL Hit' has dtype incompatible with float64, please explicitly cast to a compatible dtype first.\n",
      "  tradebook_long.loc[\n"
     ]
    },
    {
     "name": "stdout",
     "output_type": "stream",
     "text": [
      "EMA:32, X:12, PCT:1\n"
     ]
    },
    {
     "name": "stderr",
     "output_type": "stream",
     "text": [
      "/tmp/ipykernel_32292/2639050160.py:92: FutureWarning: Setting an item of incompatible dtype is deprecated and will raise an error in a future version of pandas. Value 'Trailing SL Hit' has dtype incompatible with float64, please explicitly cast to a compatible dtype first.\n",
      "  tradebook_long.loc[\n"
     ]
    },
    {
     "name": "stdout",
     "output_type": "stream",
     "text": [
      "EMA:32, X:15, PCT:0.25\n"
     ]
    },
    {
     "name": "stderr",
     "output_type": "stream",
     "text": [
      "/tmp/ipykernel_32292/2639050160.py:92: FutureWarning: Setting an item of incompatible dtype is deprecated and will raise an error in a future version of pandas. Value 'Trailing SL Hit' has dtype incompatible with float64, please explicitly cast to a compatible dtype first.\n",
      "  tradebook_long.loc[\n"
     ]
    },
    {
     "name": "stdout",
     "output_type": "stream",
     "text": [
      "        Total ROI Total Trades Win Rate Avg Profit% per Trade Avg Loss% per Trade Max Drawdown ROI/DD Ratio               Variation\n",
      "2017      34.2023           39  46.1538                4.5436             -2.2658     -10.5594       3.2390  EMA:32, X:15, PCT:0.25\n",
      "2018      77.1864           36  44.4444                7.0575             -1.7867      -9.1344       8.4501  EMA:32, X:15, PCT:0.25\n",
      "2019      23.8188           47  34.0426                5.4574             -2.0484     -17.4253       1.3669  EMA:32, X:15, PCT:0.25\n",
      "2020      74.8836           42  40.4762                7.3812             -2.0239      -9.7606       7.6720  EMA:32, X:15, PCT:0.25\n",
      "2021      89.2451           43  39.5349                7.3158             -1.3509     -13.5993       6.5625  EMA:32, X:15, PCT:0.25\n",
      "2022      34.8752           41  29.2683                7.0018             -1.6947     -16.3315       2.1354  EMA:32, X:15, PCT:0.25\n",
      "2023      55.5495           44  38.6364                6.4972             -2.0334     -15.3956       3.6081  EMA:32, X:15, PCT:0.25\n",
      "2024      19.5723           38  34.2105                4.4872             -1.6151      -9.9941       1.9584  EMA:32, X:15, PCT:0.25\n",
      "Overall  409.3331          330  38.1818                6.2276             -1.8490     -18.5567      22.0585  EMA:32, X:15, PCT:0.25\n",
      "EMA:32, X:15, PCT:0.5\n"
     ]
    },
    {
     "name": "stderr",
     "output_type": "stream",
     "text": [
      "/tmp/ipykernel_32292/2639050160.py:92: FutureWarning: Setting an item of incompatible dtype is deprecated and will raise an error in a future version of pandas. Value 'Trailing SL Hit' has dtype incompatible with float64, please explicitly cast to a compatible dtype first.\n",
      "  tradebook_long.loc[\n"
     ]
    },
    {
     "name": "stdout",
     "output_type": "stream",
     "text": [
      "EMA:32, X:15, PCT:0.75\n"
     ]
    },
    {
     "name": "stderr",
     "output_type": "stream",
     "text": [
      "/tmp/ipykernel_32292/2639050160.py:92: FutureWarning: Setting an item of incompatible dtype is deprecated and will raise an error in a future version of pandas. Value 'Trailing SL Hit' has dtype incompatible with float64, please explicitly cast to a compatible dtype first.\n",
      "  tradebook_long.loc[\n"
     ]
    },
    {
     "name": "stdout",
     "output_type": "stream",
     "text": [
      "EMA:32, X:15, PCT:1\n"
     ]
    },
    {
     "name": "stderr",
     "output_type": "stream",
     "text": [
      "/tmp/ipykernel_32292/2639050160.py:92: FutureWarning: Setting an item of incompatible dtype is deprecated and will raise an error in a future version of pandas. Value 'Trailing SL Hit' has dtype incompatible with float64, please explicitly cast to a compatible dtype first.\n",
      "  tradebook_long.loc[\n"
     ]
    },
    {
     "name": "stdout",
     "output_type": "stream",
     "text": [
      "EMA:32, X:18, PCT:0.25\n"
     ]
    },
    {
     "name": "stderr",
     "output_type": "stream",
     "text": [
      "/tmp/ipykernel_32292/2639050160.py:92: FutureWarning: Setting an item of incompatible dtype is deprecated and will raise an error in a future version of pandas. Value 'Trailing SL Hit' has dtype incompatible with float64, please explicitly cast to a compatible dtype first.\n",
      "  tradebook_long.loc[\n"
     ]
    },
    {
     "name": "stdout",
     "output_type": "stream",
     "text": [
      "        Total ROI Total Trades Win Rate Avg Profit% per Trade Avg Loss% per Trade Max Drawdown ROI/DD Ratio               Variation\n",
      "2017      31.9979           38  47.3684                4.4834             -2.4351      -9.7253       3.2902  EMA:32, X:18, PCT:0.25\n",
      "2018      77.3574           35  45.7143                6.9461             -1.7779      -8.3986       9.2108  EMA:32, X:18, PCT:0.25\n",
      "2019      32.7557           43  37.2093                5.5097             -2.0518     -11.5049       2.8471  EMA:32, X:18, PCT:0.25\n",
      "2020      66.6499           39  43.5897                6.5035             -1.9959     -13.8672       4.8063  EMA:32, X:18, PCT:0.25\n",
      "2021      86.4945           41  36.5854                8.1461             -1.3729     -14.2319       6.0775  EMA:32, X:18, PCT:0.25\n",
      "2022      25.5613           41  26.8293                7.0261             -1.7242     -19.0100       1.3446  EMA:32, X:18, PCT:0.25\n",
      "2023      50.6567           42  38.0952                6.6679             -2.1550     -16.7385       3.0264  EMA:32, X:18, PCT:0.25\n",
      "2024      19.2080           38  36.8421                4.2427             -1.7474      -8.2885       2.3174  EMA:32, X:18, PCT:0.25\n",
      "Overall  390.6814          317  38.8013                6.1473             -1.8934     -19.0100      20.5514  EMA:32, X:18, PCT:0.25\n",
      "EMA:32, X:18, PCT:0.5\n"
     ]
    },
    {
     "name": "stderr",
     "output_type": "stream",
     "text": [
      "/tmp/ipykernel_32292/2639050160.py:92: FutureWarning: Setting an item of incompatible dtype is deprecated and will raise an error in a future version of pandas. Value 'Trailing SL Hit' has dtype incompatible with float64, please explicitly cast to a compatible dtype first.\n",
      "  tradebook_long.loc[\n"
     ]
    },
    {
     "name": "stdout",
     "output_type": "stream",
     "text": [
      "EMA:32, X:18, PCT:0.75\n"
     ]
    },
    {
     "name": "stderr",
     "output_type": "stream",
     "text": [
      "/tmp/ipykernel_32292/2639050160.py:92: FutureWarning: Setting an item of incompatible dtype is deprecated and will raise an error in a future version of pandas. Value 'Trailing SL Hit' has dtype incompatible with float64, please explicitly cast to a compatible dtype first.\n",
      "  tradebook_long.loc[\n"
     ]
    },
    {
     "name": "stdout",
     "output_type": "stream",
     "text": [
      "EMA:32, X:18, PCT:1\n"
     ]
    },
    {
     "name": "stderr",
     "output_type": "stream",
     "text": [
      "/tmp/ipykernel_32292/2639050160.py:92: FutureWarning: Setting an item of incompatible dtype is deprecated and will raise an error in a future version of pandas. Value 'Trailing SL Hit' has dtype incompatible with float64, please explicitly cast to a compatible dtype first.\n",
      "  tradebook_long.loc[\n"
     ]
    },
    {
     "name": "stdout",
     "output_type": "stream",
     "text": [
      "EMA:32, X:21, PCT:0.25\n"
     ]
    },
    {
     "name": "stderr",
     "output_type": "stream",
     "text": [
      "/tmp/ipykernel_32292/2639050160.py:92: FutureWarning: Setting an item of incompatible dtype is deprecated and will raise an error in a future version of pandas. Value 'Trailing SL Hit' has dtype incompatible with float64, please explicitly cast to a compatible dtype first.\n",
      "  tradebook_long.loc[\n"
     ]
    }
   ],
   "source": [
    "# ema_length = 55\n",
    "# x_days = 28\n",
    "# y_days = 7\n",
    "# pct = 1.05\n",
    "# RPT = 5\n",
    "RPT_ = 3\n",
    "pct_range = [0.25, 0.5, 0.75, 1]\n",
    "stats_dictionary = {}\n",
    "\n",
    "for ema_length in range(20, 81, 2):\n",
    "    for x_days in range(3, 37, 3):\n",
    "            for pct in pct_range:\n",
    "                # RPT = 5\n",
    "                variation = f'EMA:{ema_length}, X:{x_days}, PCT:{pct}'\n",
    "                print(variation)\n",
    "                df = bnf_1min\n",
    "                df = calculate_signals(df, ema_length=ema_length, x_days=x_days, pct=pct)\n",
    "                tb = backtest(df)\n",
    "                if len(tb) > 0:\n",
    "                    tb = tb.sort_values(by='Entry_Date')\n",
    "                    portfolio = 10000000\n",
    "                    tb['PnL'] = np.where(\n",
    "                        tb['Trade_Type'].isin(['Long', 'Add_Long']),  # For Long and Add_Long\n",
    "                        tb['Exit_Price'] - tb['Entry_Price'],\n",
    "                        np.where(\n",
    "                            tb['Trade_Type'].isin(['Short', 'Add_Short']),  # For Short and Add_Short\n",
    "                            tb['Entry_Price'] - tb['Exit_Price'],\n",
    "                            0  # Default case if Trade_Type is something unexpected\n",
    "                        )\n",
    "                    )\n",
    "                    \n",
    "                    tb['Slippage'] = SLIPPAGE_ * (tb['Entry_Price'] + tb['Exit_Price'])\n",
    "                    tb['PnL w cs'] = tb['PnL'] - tb['Slippage']\n",
    "                    tb['Qty'] = abs(RPT_ / 100 * portfolio / (tb['Entry_Price'] - tb['Initial SL']))\n",
    "                    tb['Profit_Loss INR'] = tb['Qty'] * tb['PnL w cs']\n",
    "                    tb['ROI%'] = tb['Profit_Loss INR'] * 100 / portfolio\n",
    "                    tb['Entry_Date'] = pd.to_datetime(tb['Entry_Date'])\n",
    "                    tb['Trade Year'] = tb['Entry_Date'].dt.year\n",
    "                    # tb_long_only = tb[(tb['Trade_Type'] == 'Long') | (tb['Trade_Type'] == 'Add_Long')].copy()\n",
    "                    # tb_long_only['Cumulative_PnL'] = tb_long_only['PnL w cs'].cumsum()\n",
    "                    # tb_short_only = tb[(tb['Trade_Type'] == 'Short') | (tb['Trade_Type'] == 'Add_Short')].copy()\n",
    "                    # tb_short_only['Cumulative_PnL'] = tb_short_only['PnL w cs'].cumsum()\n",
    "                    \n",
    "                    stats1 = generate_stats(tb, variation)\n",
    "                    for x, y in stats1.items():\n",
    "                        if x > 20:\n",
    "                            # print('Long Only')\n",
    "                            print(pd.DataFrame(y).to_string())\n",
    "                            stats_dictionary[x] = y\n",
    "                        break"
   ]
  },
  {
   "cell_type": "markdown",
   "id": "c4dc9fec-921a-4120-be86-fa28fadd59fe",
   "metadata": {},
   "source": [
    "# NIFTY 1Hr"
   ]
  },
  {
   "cell_type": "code",
   "execution_count": null,
   "id": "14aa72d7-1153-44aa-8eaa-75adc3a0ac52",
   "metadata": {},
   "outputs": [],
   "source": []
  }
 ],
 "metadata": {
  "kernelspec": {
   "display_name": "Python 3 (ipykernel)",
   "language": "python",
   "name": "python3"
  },
  "language_info": {
   "codemirror_mode": {
    "name": "ipython",
    "version": 3
   },
   "file_extension": ".py",
   "mimetype": "text/x-python",
   "name": "python",
   "nbconvert_exporter": "python",
   "pygments_lexer": "ipython3",
   "version": "3.11.6"
  }
 },
 "nbformat": 4,
 "nbformat_minor": 5
}
