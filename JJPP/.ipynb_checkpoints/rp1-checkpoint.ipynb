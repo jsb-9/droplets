{
 "cells": [
  {
   "cell_type": "code",
   "execution_count": 1,
   "id": "41ad6590-fa12-4c8a-ab38-d036ffcf633e",
   "metadata": {
    "execution": {
     "iopub.execute_input": "2024-12-18T20:32:02.894416Z",
     "iopub.status.busy": "2024-12-18T20:32:02.894076Z",
     "iopub.status.idle": "2024-12-18T20:32:04.239795Z",
     "shell.execute_reply": "2024-12-18T20:32:04.238768Z",
     "shell.execute_reply.started": "2024-12-18T20:32:02.894397Z"
    }
   },
   "outputs": [],
   "source": [
    "import asyncio\n",
    "import datetime as dt\n",
    "import math\n",
    "from typing import Literal\n",
    "\n",
    "import matplotlib.pyplot as plt\n",
    "import mplfinance as mpf\n",
    "import numpy as np\n",
    "import pandas as pd\n",
    "import pandas_market_calendars as mcal\n",
    "import plotly.graph_objects as go\n",
    "import polars as pl\n",
    "from dash import Dash, dcc, html\n",
    "from plotly.subplots import make_subplots\n",
    "\n",
    "nse = mcal.get_calendar(\"NSE\")"
   ]
  },
  {
   "cell_type": "code",
   "execution_count": 2,
   "id": "6ea93d75-71a6-4639-90a1-e980a39ba28f",
   "metadata": {
    "execution": {
     "iopub.execute_input": "2024-12-18T20:32:04.242071Z",
     "iopub.status.busy": "2024-12-18T20:32:04.241540Z",
     "iopub.status.idle": "2024-12-18T20:32:04.247604Z",
     "shell.execute_reply": "2024-12-18T20:32:04.246473Z",
     "shell.execute_reply.started": "2024-12-18T20:32:04.242055Z"
    }
   },
   "outputs": [],
   "source": [
    "pd.set_option(\"display.max_rows\", 25_000)\n",
    "pd.set_option(\"display.max_columns\", 500)\n",
    "pl.Config.set_tbl_cols(500)\n",
    "pl.Config.set_tbl_rows(10_000)\n",
    "\n",
    "pd.options.display.float_format = \"{:.4f}\".format"
   ]
  },
  {
   "cell_type": "code",
   "execution_count": 3,
   "id": "9f312110-67fb-44df-8ecd-141e16cacc9d",
   "metadata": {
    "execution": {
     "iopub.execute_input": "2024-12-18T20:32:04.248699Z",
     "iopub.status.busy": "2024-12-18T20:32:04.248545Z",
     "iopub.status.idle": "2024-12-18T20:32:04.514292Z",
     "shell.execute_reply": "2024-12-18T20:32:04.513011Z",
     "shell.execute_reply.started": "2024-12-18T20:32:04.248685Z"
    }
   },
   "outputs": [],
   "source": [
    "import sys\n",
    "\n",
    "sys.path.append(\"..\")\n",
    "from tooling.enums import AssetClass, Index, Spot, StrikeSpread\n",
    "from tooling.fetch import fetch_option_data, fetch_spot_data\n",
    "from tooling.filter import find_atm, option_tool"
   ]
  },
  {
   "cell_type": "code",
   "execution_count": 4,
   "id": "68aef94f-ef1c-4c3d-a930-f8cc3b12f891",
   "metadata": {
    "execution": {
     "iopub.execute_input": "2024-12-18T20:32:04.516099Z",
     "iopub.status.busy": "2024-12-18T20:32:04.515933Z",
     "iopub.status.idle": "2024-12-18T20:32:04.528460Z",
     "shell.execute_reply": "2024-12-18T20:32:04.527480Z",
     "shell.execute_reply.started": "2024-12-18T20:32:04.516083Z"
    }
   },
   "outputs": [],
   "source": [
    "async def get_expiry(f_today, index):\n",
    "\n",
    "    if index == 'bnf':    \n",
    "        if (f_today <= dt.date(2024, 1, 25)) and (f_today >= dt.date(2024, 1, 18)):\n",
    "            f_expiry = dt.date(2024, 1, 25)\n",
    "        elif (f_today <= dt.date(2024, 1, 31)) and (f_today >= dt.date(2024, 1, 26)):\n",
    "            f_expiry = dt.date(2024, 1, 31)\n",
    "        elif (f_today <= dt.date(2024, 2, 22)) and (f_today >= dt.date(2024, 2, 29)):\n",
    "            f_expiry = dt.date(2024, 2, 29)\n",
    "        elif (f_today <= dt.date(2024, 3, 25)) and (f_today >= dt.date(2024, 3, 27)):\n",
    "            f_expiry = dt.date(2024, 2, 27)\n",
    "        elif f_today < dt.date(2023, 9, 1):\n",
    "            days_to_thursday = (3 - f_today.weekday()) % 7\n",
    "            nearest_thursday = f_today + dt.timedelta(days=days_to_thursday)\n",
    "            f_expiry = nearest_thursday\n",
    "            if nse.valid_days(start_date=nearest_thursday, end_date=nearest_thursday).empty:\n",
    "                f_expiry = nearest_thursday - dt.timedelta(days=1)\n",
    "        elif f_today >= dt.date(2023, 9, 1):\n",
    "            if f_today.day < 24:\n",
    "                days_to_wednesday = (2 - f_today.weekday()) % 7\n",
    "                nearest_wednesday = f_today + dt.timedelta(days=days_to_wednesday)\n",
    "                f_expiry = nearest_wednesday\n",
    "                if nse.valid_days(\n",
    "                    start_date=nearest_wednesday, end_date=nearest_wednesday\n",
    "                ).empty:\n",
    "                    f_expiry = nearest_wednesday - dt.timedelta(days=1)\n",
    "            else:\n",
    "                days_to_thursday = (3 - f_today.weekday()) % 7\n",
    "                nearest_thursday = f_today + dt.timedelta(days=days_to_thursday)\n",
    "                f_expiry = nearest_thursday\n",
    "                if nse.valid_days(\n",
    "                    start_date=nearest_thursday, end_date=nearest_thursday\n",
    "                ).empty:\n",
    "                    f_expiry = nearest_thursday - dt.timedelta(days=1)\n",
    "        return f_expiry\n",
    "\n",
    "    elif index == 'nifty':\n",
    "        days_to_thursday = (3 - f_today.weekday()) % 7\n",
    "        nearest_thursday = f_today + dt.timedelta(days=days_to_thursday)\n",
    "        f_expiry = nearest_thursday\n",
    "        if nse.valid_days(start_date=nearest_thursday, end_date=nearest_thursday).empty:\n",
    "            f_expiry = nearest_thursday - dt.timedelta(days=1)\n",
    "        return f_expiry\n",
    "\n",
    "    elif index == 'finnifty' or index == 'fnf':\n",
    "        days_to_thursday = (1 - f_today.weekday()) % 7\n",
    "        nearest_thursday = f_today + dt.timedelta(days=days_to_thursday)\n",
    "        f_expiry = nearest_thursday\n",
    "        if nse.valid_days(start_date=nearest_thursday, end_date=nearest_thursday).empty:\n",
    "            f_expiry = nearest_thursday - dt.timedelta(days=1)\n",
    "        return f_expiry\n",
    "\n",
    "    elif index == 'midcpnifty' or index == 'midcp':\n",
    "        days_to_thursday = (0 - f_today.weekday()) % 7\n",
    "        nearest_thursday = f_today + dt.timedelta(days=days_to_thursday)\n",
    "        f_expiry = nearest_thursday\n",
    "        if nse.valid_days(start_date=nearest_thursday, end_date=nearest_thursday).empty:\n",
    "            f_expiry = nearest_thursday - dt.timedelta(days=1)\n",
    "        return f_expiry\n",
    "\n",
    "async def get_expiry_nifty(f_today):\n",
    "\n",
    "    days_to_thursday = (3 - f_today.weekday()) % 7\n",
    "    nearest_thursday = f_today + dt.timedelta(days=days_to_thursday)\n",
    "    f_expiry = nearest_thursday\n",
    "    if nse.valid_days(start_date=nearest_thursday, end_date=nearest_thursday).empty:\n",
    "        f_expiry = nearest_thursday - dt.timedelta(days=1)\n",
    "    return f_expiry\n",
    "\n",
    "\n",
    "async def get_option_contract_name(symbol, strike, expiry, opt_type):\n",
    "    temp = \"0\"\n",
    "    mth = expiry.month\n",
    "\n",
    "    if (expiry + dt.timedelta(days=7)).month != expiry.month:\n",
    "        date_string = expiry.strftime(\"%y%b\").upper()\n",
    "        return f\"{symbol}{date_string}{strike}{opt_type}\"\n",
    "    else:\n",
    "        if expiry.day <= 9:\n",
    "            date_string = f\"{expiry.year - 2000}{mth}{temp}{expiry.day}\"\n",
    "        else:\n",
    "            date_string = f\"{expiry.year - 2000}{mth}{expiry.day}\"\n",
    "        return f\"{symbol}{date_string}{strike}{opt_type}\"\n",
    "\n",
    "\n",
    "def get_option_contract_name2(symbol, strike, expiry, opt_type):\n",
    "    temp = \"0\"\n",
    "    mth = expiry.month\n",
    "\n",
    "    if (expiry + dt.timedelta(days=7)).month != expiry.month:\n",
    "        date_string = expiry.strftime(\"%y%b\").upper()\n",
    "        return f\"{symbol}{date_string}{strike}{opt_type}\"\n",
    "    else:\n",
    "        if expiry.day <= 9:\n",
    "            date_string = f\"{expiry.year - 2000}{mth}{temp}{expiry.day}\"\n",
    "        else:\n",
    "            date_string = f\"{expiry.year - 2000}{mth}{expiry.day}\"\n",
    "        return f\"{symbol}{date_string}{strike}{opt_type}\""
   ]
  },
  {
   "cell_type": "code",
   "execution_count": 5,
   "id": "d7c8be1c-7a43-41e9-9914-0663935f4b9d",
   "metadata": {
    "execution": {
     "iopub.execute_input": "2024-12-18T20:32:05.178959Z",
     "iopub.status.busy": "2024-12-18T20:32:05.178321Z",
     "iopub.status.idle": "2024-12-18T20:32:05.310283Z",
     "shell.execute_reply": "2024-12-18T20:32:05.309066Z",
     "shell.execute_reply.started": "2024-12-18T20:32:05.178928Z"
    }
   },
   "outputs": [],
   "source": [
    "bnf_1min = pd.read_csv(\"../data/sensex_wave.csv\")\n",
    "bnf_1min[\"datetime\"] = pd.to_datetime(bnf_1min[\"time\"])\n",
    "bnf_1min = bnf_1min[bnf_1min[\"datetime\"].dt.year >= 2017]"
   ]
  },
  {
   "cell_type": "code",
   "execution_count": 6,
   "id": "80baf62e-9b43-45dd-83bf-87c9fd32e741",
   "metadata": {
    "execution": {
     "iopub.execute_input": "2024-12-18T20:32:05.342907Z",
     "iopub.status.busy": "2024-12-18T20:32:05.342337Z",
     "iopub.status.idle": "2024-12-18T20:32:05.356898Z",
     "shell.execute_reply": "2024-12-18T20:32:05.355939Z",
     "shell.execute_reply.started": "2024-12-18T20:32:05.342878Z"
    },
    "scrolled": true
   },
   "outputs": [
    {
     "data": {
      "text/html": [
       "<div>\n",
       "<style scoped>\n",
       "    .dataframe tbody tr th:only-of-type {\n",
       "        vertical-align: middle;\n",
       "    }\n",
       "\n",
       "    .dataframe tbody tr th {\n",
       "        vertical-align: top;\n",
       "    }\n",
       "\n",
       "    .dataframe thead th {\n",
       "        text-align: right;\n",
       "    }\n",
       "</style>\n",
       "<table border=\"1\" class=\"dataframe\">\n",
       "  <thead>\n",
       "    <tr style=\"text-align: right;\">\n",
       "      <th></th>\n",
       "      <th>time</th>\n",
       "      <th>open</th>\n",
       "      <th>high</th>\n",
       "      <th>low</th>\n",
       "      <th>close</th>\n",
       "      <th>MA</th>\n",
       "      <th>Plot</th>\n",
       "      <th>Zero line</th>\n",
       "      <th>MACD Signal</th>\n",
       "      <th>datetime</th>\n",
       "    </tr>\n",
       "  </thead>\n",
       "  <tbody>\n",
       "    <tr>\n",
       "      <th>3724</th>\n",
       "      <td>2017-01-02T09:15:00+05:30</td>\n",
       "      <td>26717.8100</td>\n",
       "      <td>26720.9800</td>\n",
       "      <td>26484.5300</td>\n",
       "      <td>26516.6300</td>\n",
       "      <td>26183.0445</td>\n",
       "      <td>216.1595</td>\n",
       "      <td>0</td>\n",
       "      <td>NaN</td>\n",
       "      <td>2017-01-02 09:15:00+05:30</td>\n",
       "    </tr>\n",
       "    <tr>\n",
       "      <th>3725</th>\n",
       "      <td>2017-01-02T10:15:00+05:30</td>\n",
       "      <td>26516.3500</td>\n",
       "      <td>26532.0700</td>\n",
       "      <td>26447.0600</td>\n",
       "      <td>26490.4900</td>\n",
       "      <td>26186.5105</td>\n",
       "      <td>179.4486</td>\n",
       "      <td>0</td>\n",
       "      <td>NaN</td>\n",
       "      <td>2017-01-02 10:15:00+05:30</td>\n",
       "    </tr>\n",
       "    <tr>\n",
       "      <th>3726</th>\n",
       "      <td>2017-01-02T11:15:00+05:30</td>\n",
       "      <td>26492.3400</td>\n",
       "      <td>26527.2200</td>\n",
       "      <td>26460.9900</td>\n",
       "      <td>26496.3600</td>\n",
       "      <td>26189.9963</td>\n",
       "      <td>154.2724</td>\n",
       "      <td>0</td>\n",
       "      <td>NaN</td>\n",
       "      <td>2017-01-02 11:15:00+05:30</td>\n",
       "    </tr>\n",
       "    <tr>\n",
       "      <th>3727</th>\n",
       "      <td>2017-01-02T12:15:00+05:30</td>\n",
       "      <td>26496.1800</td>\n",
       "      <td>26540.5700</td>\n",
       "      <td>26477.1000</td>\n",
       "      <td>26538.4500</td>\n",
       "      <td>26193.4997</td>\n",
       "      <td>146.5679</td>\n",
       "      <td>0</td>\n",
       "      <td>NaN</td>\n",
       "      <td>2017-01-02 12:15:00+05:30</td>\n",
       "    </tr>\n",
       "    <tr>\n",
       "      <th>3728</th>\n",
       "      <td>2017-01-02T13:15:00+05:30</td>\n",
       "      <td>26538.1800</td>\n",
       "      <td>26659.6400</td>\n",
       "      <td>26529.5700</td>\n",
       "      <td>26649.8000</td>\n",
       "      <td>26198.5518</td>\n",
       "      <td>168.5438</td>\n",
       "      <td>0</td>\n",
       "      <td>168.5438</td>\n",
       "      <td>2017-01-02 13:15:00+05:30</td>\n",
       "    </tr>\n",
       "  </tbody>\n",
       "</table>\n",
       "</div>"
      ],
      "text/plain": [
       "                           time       open       high        low      close  \\\n",
       "3724  2017-01-02T09:15:00+05:30 26717.8100 26720.9800 26484.5300 26516.6300   \n",
       "3725  2017-01-02T10:15:00+05:30 26516.3500 26532.0700 26447.0600 26490.4900   \n",
       "3726  2017-01-02T11:15:00+05:30 26492.3400 26527.2200 26460.9900 26496.3600   \n",
       "3727  2017-01-02T12:15:00+05:30 26496.1800 26540.5700 26477.1000 26538.4500   \n",
       "3728  2017-01-02T13:15:00+05:30 26538.1800 26659.6400 26529.5700 26649.8000   \n",
       "\n",
       "             MA     Plot  Zero line  MACD Signal                  datetime  \n",
       "3724 26183.0445 216.1595          0          NaN 2017-01-02 09:15:00+05:30  \n",
       "3725 26186.5105 179.4486          0          NaN 2017-01-02 10:15:00+05:30  \n",
       "3726 26189.9963 154.2724          0          NaN 2017-01-02 11:15:00+05:30  \n",
       "3727 26193.4997 146.5679          0          NaN 2017-01-02 12:15:00+05:30  \n",
       "3728 26198.5518 168.5438          0     168.5438 2017-01-02 13:15:00+05:30  "
      ]
     },
     "execution_count": 6,
     "metadata": {},
     "output_type": "execute_result"
    }
   ],
   "source": [
    "bnf_1min.head()"
   ]
  },
  {
   "cell_type": "code",
   "execution_count": 7,
   "id": "42c6f24e-2ae1-4422-8699-5e0f3c8d8afe",
   "metadata": {
    "execution": {
     "iopub.execute_input": "2024-12-18T20:32:05.490897Z",
     "iopub.status.busy": "2024-12-18T20:32:05.490285Z",
     "iopub.status.idle": "2024-12-18T20:32:05.497326Z",
     "shell.execute_reply": "2024-12-18T20:32:05.496288Z",
     "shell.execute_reply.started": "2024-12-18T20:32:05.490868Z"
    }
   },
   "outputs": [],
   "source": [
    "def resample(\n",
    "    data: pl.DataFrame, timeframe, offset: dt.timedelta | None = None\n",
    ") -> pl.DataFrame:\n",
    "    return (\n",
    "        data.set_sorted(\"datetime\")\n",
    "        .group_by_dynamic(\n",
    "            index_column=\"datetime\",\n",
    "            every=timeframe,\n",
    "            period=timeframe,\n",
    "            label=\"left\",\n",
    "            offset=offset,\n",
    "        )\n",
    "        .agg(\n",
    "            [\n",
    "                pl.col(\"open\").first().alias(\"open\"),\n",
    "                pl.col(\"high\").max().alias(\"high\"),\n",
    "                pl.col(\"low\").min().alias(\"low\"),\n",
    "                pl.col(\"close\").last().alias(\"close\"),\n",
    "                pl.col(\"volume\").sum().alias(\"volume\"),\n",
    "            ]\n",
    "        )\n",
    "    )\n",
    "\n",
    "\n",
    "# ohlc_resampled = resample(pl.DataFrame(bnf_1min), '7d', pd.Timedelta(days=4))\n",
    "# ohlc_resampled"
   ]
  },
  {
   "cell_type": "code",
   "execution_count": 8,
   "id": "639f74e8-93a9-4fba-8ecd-caf5cf8812a9",
   "metadata": {
    "execution": {
     "iopub.execute_input": "2024-12-18T20:32:05.652413Z",
     "iopub.status.busy": "2024-12-18T20:32:05.651320Z",
     "iopub.status.idle": "2024-12-18T20:32:05.677159Z",
     "shell.execute_reply": "2024-12-18T20:32:05.676171Z",
     "shell.execute_reply.started": "2024-12-18T20:32:05.652392Z"
    },
    "scrolled": true
   },
   "outputs": [
    {
     "data": {
      "text/plain": [
       "{datetime.date(2020, 3, 5),\n",
       " datetime.date(2024, 10, 8),\n",
       " datetime.date(2023, 2, 16),\n",
       " datetime.date(2022, 7, 21),\n",
       " datetime.date(2022, 11, 22),\n",
       " datetime.date(2021, 11, 3),\n",
       " datetime.date(2017, 1, 11),\n",
       " datetime.date(2023, 6, 13),\n",
       " datetime.date(2024, 1, 31),\n",
       " datetime.date(2018, 9, 21),\n",
       " datetime.date(2017, 4, 28),\n",
       " datetime.date(2019, 3, 26),\n",
       " datetime.date(2023, 7, 26),\n",
       " datetime.date(2019, 2, 15),\n",
       " datetime.date(2024, 8, 1),\n",
       " datetime.date(2017, 7, 20),\n",
       " datetime.date(2021, 5, 21),\n",
       " datetime.date(2022, 11, 3),\n",
       " datetime.date(2017, 3, 20),\n",
       " datetime.date(2023, 6, 15),\n",
       " datetime.date(2019, 3, 18),\n",
       " datetime.date(2021, 11, 25),\n",
       " datetime.date(2020, 7, 3),\n",
       " datetime.date(2018, 3, 23),\n",
       " datetime.date(2024, 2, 1),\n",
       " datetime.date(2018, 2, 8),\n",
       " datetime.date(2020, 7, 17),\n",
       " datetime.date(2018, 8, 14),\n",
       " datetime.date(2021, 2, 11),\n",
       " datetime.date(2017, 3, 27),\n",
       " datetime.date(2022, 4, 25),\n",
       " datetime.date(2023, 2, 28),\n",
       " datetime.date(2021, 4, 9),\n",
       " datetime.date(2020, 6, 18),\n",
       " datetime.date(2017, 1, 20),\n",
       " datetime.date(2023, 10, 11),\n",
       " datetime.date(2021, 1, 14),\n",
       " datetime.date(2023, 1, 16),\n",
       " datetime.date(2023, 12, 18),\n",
       " datetime.date(2019, 6, 26),\n",
       " datetime.date(2018, 4, 12),\n",
       " datetime.date(2022, 7, 22),\n",
       " datetime.date(2021, 6, 3),\n",
       " datetime.date(2018, 8, 23),\n",
       " datetime.date(2018, 10, 29),\n",
       " datetime.date(2023, 11, 15),\n",
       " datetime.date(2023, 8, 16),\n",
       " datetime.date(2020, 12, 22),\n",
       " datetime.date(2021, 8, 4),\n",
       " datetime.date(2024, 1, 15),\n",
       " datetime.date(2020, 7, 30),\n",
       " datetime.date(2020, 4, 3),\n",
       " datetime.date(2024, 7, 3),\n",
       " datetime.date(2024, 7, 15),\n",
       " datetime.date(2021, 12, 14),\n",
       " datetime.date(2022, 11, 16),\n",
       " datetime.date(2021, 12, 3),\n",
       " datetime.date(2023, 3, 8),\n",
       " datetime.date(2017, 4, 27),\n",
       " datetime.date(2020, 11, 25),\n",
       " datetime.date(2023, 3, 22),\n",
       " datetime.date(2023, 6, 7),\n",
       " datetime.date(2022, 1, 25),\n",
       " datetime.date(2024, 11, 14),\n",
       " datetime.date(2024, 10, 9),\n",
       " datetime.date(2018, 10, 12),\n",
       " datetime.date(2022, 3, 23),\n",
       " datetime.date(2019, 8, 7),\n",
       " datetime.date(2021, 3, 16),\n",
       " datetime.date(2018, 1, 19),\n",
       " datetime.date(2019, 7, 29),\n",
       " datetime.date(2022, 5, 25),\n",
       " datetime.date(2017, 5, 23),\n",
       " datetime.date(2023, 12, 8),\n",
       " datetime.date(2020, 10, 30),\n",
       " datetime.date(2022, 1, 28),\n",
       " datetime.date(2024, 3, 26),\n",
       " datetime.date(2018, 9, 7),\n",
       " datetime.date(2017, 10, 10),\n",
       " datetime.date(2022, 1, 11),\n",
       " datetime.date(2023, 9, 13),\n",
       " datetime.date(2021, 12, 17),\n",
       " datetime.date(2021, 11, 11),\n",
       " datetime.date(2024, 10, 16),\n",
       " datetime.date(2019, 4, 16),\n",
       " datetime.date(2017, 9, 1),\n",
       " datetime.date(2020, 1, 7),\n",
       " datetime.date(2023, 6, 28),\n",
       " datetime.date(2022, 10, 11),\n",
       " datetime.date(2021, 10, 29),\n",
       " datetime.date(2022, 9, 13),\n",
       " datetime.date(2018, 5, 10),\n",
       " datetime.date(2022, 4, 5),\n",
       " datetime.date(2018, 2, 12),\n",
       " datetime.date(2018, 6, 8),\n",
       " datetime.date(2022, 3, 24),\n",
       " datetime.date(2024, 7, 4),\n",
       " datetime.date(2020, 1, 13),\n",
       " datetime.date(2023, 8, 22),\n",
       " datetime.date(2020, 6, 5),\n",
       " datetime.date(2018, 6, 28),\n",
       " datetime.date(2020, 1, 21),\n",
       " datetime.date(2021, 4, 23),\n",
       " datetime.date(2021, 2, 17),\n",
       " datetime.date(2017, 8, 11),\n",
       " datetime.date(2022, 8, 23),\n",
       " datetime.date(2024, 9, 25),\n",
       " datetime.date(2018, 4, 3),\n",
       " datetime.date(2024, 7, 1),\n",
       " datetime.date(2020, 4, 22),\n",
       " datetime.date(2022, 11, 11),\n",
       " datetime.date(2019, 5, 29),\n",
       " datetime.date(2018, 8, 10),\n",
       " datetime.date(2024, 7, 31),\n",
       " datetime.date(2021, 8, 18),\n",
       " datetime.date(2017, 6, 14),\n",
       " datetime.date(2023, 1, 6),\n",
       " datetime.date(2023, 5, 9),\n",
       " datetime.date(2020, 7, 20),\n",
       " datetime.date(2019, 8, 19),\n",
       " datetime.date(2020, 9, 10),\n",
       " datetime.date(2021, 10, 22),\n",
       " datetime.date(2023, 9, 1),\n",
       " datetime.date(2017, 11, 9),\n",
       " datetime.date(2023, 6, 16),\n",
       " datetime.date(2017, 10, 17),\n",
       " datetime.date(2021, 8, 2),\n",
       " datetime.date(2022, 9, 19),\n",
       " datetime.date(2021, 7, 27),\n",
       " datetime.date(2017, 8, 8),\n",
       " datetime.date(2017, 4, 11),\n",
       " datetime.date(2024, 2, 6),\n",
       " datetime.date(2020, 4, 7),\n",
       " datetime.date(2022, 6, 28),\n",
       " datetime.date(2021, 11, 4),\n",
       " datetime.date(2020, 2, 17),\n",
       " datetime.date(2023, 3, 23),\n",
       " datetime.date(2017, 3, 16),\n",
       " datetime.date(2021, 9, 20),\n",
       " datetime.date(2020, 12, 3),\n",
       " datetime.date(2019, 6, 6),\n",
       " datetime.date(2020, 10, 9),\n",
       " datetime.date(2022, 12, 5),\n",
       " datetime.date(2017, 11, 7),\n",
       " datetime.date(2020, 4, 9),\n",
       " datetime.date(2017, 5, 2),\n",
       " datetime.date(2024, 11, 19),\n",
       " datetime.date(2019, 6, 14),\n",
       " datetime.date(2022, 10, 6),\n",
       " datetime.date(2023, 5, 2),\n",
       " datetime.date(2024, 6, 19),\n",
       " datetime.date(2022, 9, 22),\n",
       " datetime.date(2022, 3, 25),\n",
       " datetime.date(2022, 10, 20),\n",
       " datetime.date(2024, 5, 30),\n",
       " datetime.date(2020, 2, 1),\n",
       " datetime.date(2021, 4, 13),\n",
       " datetime.date(2024, 11, 29),\n",
       " datetime.date(2021, 12, 23),\n",
       " datetime.date(2017, 7, 31),\n",
       " datetime.date(2023, 12, 29),\n",
       " datetime.date(2021, 2, 3),\n",
       " datetime.date(2024, 4, 30),\n",
       " datetime.date(2017, 10, 26),\n",
       " datetime.date(2020, 1, 20),\n",
       " datetime.date(2020, 6, 17),\n",
       " datetime.date(2019, 11, 4),\n",
       " datetime.date(2022, 12, 29),\n",
       " datetime.date(2024, 1, 23),\n",
       " datetime.date(2024, 3, 6),\n",
       " datetime.date(2020, 8, 28),\n",
       " datetime.date(2021, 11, 23),\n",
       " datetime.date(2018, 11, 12),\n",
       " datetime.date(2022, 9, 30),\n",
       " datetime.date(2018, 4, 6),\n",
       " datetime.date(2018, 10, 24),\n",
       " datetime.date(2019, 12, 30),\n",
       " datetime.date(2018, 5, 24),\n",
       " datetime.date(2018, 3, 15),\n",
       " datetime.date(2020, 1, 30),\n",
       " datetime.date(2023, 10, 30),\n",
       " datetime.date(2018, 4, 25),\n",
       " datetime.date(2022, 7, 12),\n",
       " datetime.date(2019, 2, 20),\n",
       " datetime.date(2017, 5, 17),\n",
       " datetime.date(2019, 3, 20),\n",
       " datetime.date(2021, 2, 8),\n",
       " datetime.date(2018, 6, 11),\n",
       " datetime.date(2024, 3, 5),\n",
       " datetime.date(2023, 8, 14),\n",
       " datetime.date(2023, 4, 20),\n",
       " datetime.date(2024, 1, 10),\n",
       " datetime.date(2022, 3, 2),\n",
       " datetime.date(2018, 8, 8),\n",
       " datetime.date(2018, 11, 29),\n",
       " datetime.date(2023, 2, 24),\n",
       " datetime.date(2017, 9, 8),\n",
       " datetime.date(2019, 9, 18),\n",
       " datetime.date(2022, 2, 23),\n",
       " datetime.date(2019, 8, 28),\n",
       " datetime.date(2023, 11, 20),\n",
       " datetime.date(2023, 8, 9),\n",
       " datetime.date(2017, 10, 27),\n",
       " datetime.date(2024, 5, 28),\n",
       " datetime.date(2017, 2, 17),\n",
       " datetime.date(2017, 3, 10),\n",
       " datetime.date(2019, 9, 25),\n",
       " datetime.date(2020, 11, 4),\n",
       " datetime.date(2020, 6, 1),\n",
       " datetime.date(2022, 1, 31),\n",
       " datetime.date(2023, 2, 7),\n",
       " datetime.date(2019, 6, 19),\n",
       " datetime.date(2024, 1, 9),\n",
       " datetime.date(2020, 8, 26),\n",
       " datetime.date(2023, 12, 1),\n",
       " datetime.date(2017, 5, 3),\n",
       " datetime.date(2019, 8, 5),\n",
       " datetime.date(2022, 11, 7),\n",
       " datetime.date(2019, 7, 26),\n",
       " datetime.date(2018, 10, 16),\n",
       " datetime.date(2021, 8, 13),\n",
       " datetime.date(2022, 1, 3),\n",
       " datetime.date(2017, 9, 6),\n",
       " datetime.date(2020, 12, 23),\n",
       " datetime.date(2024, 7, 24),\n",
       " datetime.date(2019, 12, 18),\n",
       " datetime.date(2024, 9, 2),\n",
       " datetime.date(2018, 1, 24),\n",
       " datetime.date(2020, 8, 24),\n",
       " datetime.date(2020, 11, 19),\n",
       " datetime.date(2018, 1, 31),\n",
       " datetime.date(2020, 7, 29),\n",
       " datetime.date(2018, 6, 19),\n",
       " datetime.date(2022, 8, 8),\n",
       " datetime.date(2023, 10, 5),\n",
       " datetime.date(2024, 1, 20),\n",
       " datetime.date(2019, 1, 11),\n",
       " datetime.date(2020, 2, 25),\n",
       " datetime.date(2019, 5, 28),\n",
       " datetime.date(2024, 5, 21),\n",
       " datetime.date(2017, 9, 25),\n",
       " datetime.date(2019, 4, 1),\n",
       " datetime.date(2020, 8, 18),\n",
       " datetime.date(2023, 1, 4),\n",
       " datetime.date(2018, 10, 26),\n",
       " datetime.date(2023, 5, 31),\n",
       " datetime.date(2022, 3, 31),\n",
       " datetime.date(2018, 2, 5),\n",
       " datetime.date(2023, 7, 3),\n",
       " datetime.date(2018, 12, 7),\n",
       " datetime.date(2021, 1, 20),\n",
       " datetime.date(2020, 2, 26),\n",
       " datetime.date(2018, 11, 26),\n",
       " datetime.date(2024, 10, 18),\n",
       " datetime.date(2024, 8, 29),\n",
       " datetime.date(2019, 4, 22),\n",
       " datetime.date(2022, 8, 25),\n",
       " datetime.date(2018, 1, 30),\n",
       " datetime.date(2017, 7, 18),\n",
       " datetime.date(2023, 9, 7),\n",
       " datetime.date(2020, 12, 15),\n",
       " datetime.date(2020, 3, 25),\n",
       " datetime.date(2021, 5, 11),\n",
       " datetime.date(2018, 4, 5),\n",
       " datetime.date(2018, 7, 18),\n",
       " datetime.date(2024, 3, 12),\n",
       " datetime.date(2020, 2, 11),\n",
       " datetime.date(2019, 8, 26),\n",
       " datetime.date(2018, 7, 12),\n",
       " datetime.date(2022, 10, 3),\n",
       " datetime.date(2021, 6, 8),\n",
       " datetime.date(2020, 12, 30),\n",
       " datetime.date(2022, 8, 3),\n",
       " datetime.date(2017, 7, 4),\n",
       " datetime.date(2017, 3, 7),\n",
       " datetime.date(2020, 8, 27),\n",
       " datetime.date(2021, 2, 1),\n",
       " datetime.date(2022, 8, 1),\n",
       " datetime.date(2019, 1, 18),\n",
       " datetime.date(2017, 4, 6),\n",
       " datetime.date(2020, 10, 22),\n",
       " datetime.date(2021, 2, 16),\n",
       " datetime.date(2018, 4, 18),\n",
       " datetime.date(2018, 6, 25),\n",
       " datetime.date(2018, 8, 7),\n",
       " datetime.date(2018, 4, 9),\n",
       " datetime.date(2018, 8, 31),\n",
       " datetime.date(2022, 4, 1),\n",
       " datetime.date(2020, 9, 15),\n",
       " datetime.date(2020, 6, 16),\n",
       " datetime.date(2018, 12, 20),\n",
       " datetime.date(2023, 12, 6),\n",
       " datetime.date(2017, 6, 22),\n",
       " datetime.date(2023, 2, 13),\n",
       " datetime.date(2024, 2, 19),\n",
       " datetime.date(2018, 9, 5),\n",
       " datetime.date(2019, 12, 19),\n",
       " datetime.date(2019, 7, 17),\n",
       " datetime.date(2019, 11, 19),\n",
       " datetime.date(2017, 3, 8),\n",
       " datetime.date(2020, 4, 29),\n",
       " datetime.date(2018, 2, 9),\n",
       " datetime.date(2021, 5, 4),\n",
       " datetime.date(2019, 2, 25),\n",
       " datetime.date(2023, 2, 2),\n",
       " datetime.date(2019, 5, 27),\n",
       " datetime.date(2021, 2, 15),\n",
       " datetime.date(2020, 3, 30),\n",
       " datetime.date(2022, 9, 1),\n",
       " datetime.date(2018, 1, 16),\n",
       " datetime.date(2018, 10, 19),\n",
       " datetime.date(2017, 12, 19),\n",
       " datetime.date(2020, 1, 3),\n",
       " datetime.date(2024, 5, 10),\n",
       " datetime.date(2023, 5, 15),\n",
       " datetime.date(2018, 6, 12),\n",
       " datetime.date(2020, 1, 23),\n",
       " datetime.date(2022, 4, 13),\n",
       " datetime.date(2017, 4, 7),\n",
       " datetime.date(2020, 10, 19),\n",
       " datetime.date(2017, 10, 31),\n",
       " datetime.date(2020, 6, 29),\n",
       " datetime.date(2024, 4, 23),\n",
       " datetime.date(2024, 10, 4),\n",
       " datetime.date(2018, 3, 19),\n",
       " datetime.date(2019, 3, 14),\n",
       " datetime.date(2017, 8, 4),\n",
       " datetime.date(2018, 9, 25),\n",
       " datetime.date(2023, 2, 20),\n",
       " datetime.date(2018, 7, 9),\n",
       " datetime.date(2021, 1, 19),\n",
       " datetime.date(2019, 1, 29),\n",
       " datetime.date(2022, 8, 17),\n",
       " datetime.date(2018, 12, 27),\n",
       " datetime.date(2020, 1, 15),\n",
       " datetime.date(2020, 7, 16),\n",
       " datetime.date(2022, 10, 17),\n",
       " datetime.date(2020, 5, 29),\n",
       " datetime.date(2017, 11, 16),\n",
       " datetime.date(2020, 5, 6),\n",
       " datetime.date(2017, 11, 28),\n",
       " datetime.date(2019, 8, 22),\n",
       " datetime.date(2017, 7, 10),\n",
       " datetime.date(2017, 12, 26),\n",
       " datetime.date(2020, 1, 14),\n",
       " datetime.date(2018, 3, 13),\n",
       " datetime.date(2024, 8, 12),\n",
       " datetime.date(2020, 5, 18),\n",
       " datetime.date(2021, 5, 7),\n",
       " datetime.date(2022, 11, 15),\n",
       " datetime.date(2023, 11, 23),\n",
       " datetime.date(2018, 1, 29),\n",
       " datetime.date(2022, 11, 29),\n",
       " datetime.date(2017, 2, 21),\n",
       " datetime.date(2022, 2, 8),\n",
       " datetime.date(2022, 4, 20),\n",
       " datetime.date(2023, 11, 24),\n",
       " datetime.date(2022, 3, 17),\n",
       " datetime.date(2020, 7, 2),\n",
       " datetime.date(2020, 11, 3),\n",
       " datetime.date(2020, 6, 8),\n",
       " datetime.date(2024, 10, 22),\n",
       " datetime.date(2021, 12, 29),\n",
       " datetime.date(2019, 4, 15),\n",
       " datetime.date(2022, 2, 15),\n",
       " datetime.date(2021, 1, 28),\n",
       " datetime.date(2022, 5, 10),\n",
       " datetime.date(2019, 5, 22),\n",
       " datetime.date(2019, 10, 17),\n",
       " datetime.date(2017, 6, 9),\n",
       " datetime.date(2020, 3, 27),\n",
       " datetime.date(2024, 2, 21),\n",
       " datetime.date(2021, 6, 21),\n",
       " datetime.date(2019, 6, 27),\n",
       " datetime.date(2024, 2, 13),\n",
       " datetime.date(2023, 11, 1),\n",
       " datetime.date(2023, 10, 26),\n",
       " datetime.date(2022, 1, 24),\n",
       " datetime.date(2022, 7, 25),\n",
       " datetime.date(2023, 12, 21),\n",
       " datetime.date(2018, 2, 19),\n",
       " datetime.date(2019, 5, 9),\n",
       " datetime.date(2018, 2, 27),\n",
       " datetime.date(2022, 11, 10),\n",
       " datetime.date(2019, 5, 14),\n",
       " datetime.date(2024, 9, 20),\n",
       " datetime.date(2020, 2, 20),\n",
       " datetime.date(2021, 8, 25),\n",
       " datetime.date(2021, 9, 9),\n",
       " datetime.date(2020, 11, 27),\n",
       " datetime.date(2020, 4, 13),\n",
       " datetime.date(2023, 8, 31),\n",
       " datetime.date(2020, 2, 28),\n",
       " datetime.date(2021, 3, 18),\n",
       " datetime.date(2023, 7, 6),\n",
       " datetime.date(2021, 1, 4),\n",
       " datetime.date(2017, 1, 13),\n",
       " datetime.date(2018, 12, 31),\n",
       " datetime.date(2022, 12, 6),\n",
       " datetime.date(2018, 7, 19),\n",
       " datetime.date(2020, 4, 23),\n",
       " datetime.date(2022, 12, 19),\n",
       " datetime.date(2017, 12, 20),\n",
       " datetime.date(2023, 5, 4),\n",
       " datetime.date(2023, 4, 25),\n",
       " datetime.date(2023, 12, 7),\n",
       " datetime.date(2023, 4, 17),\n",
       " datetime.date(2023, 7, 24),\n",
       " datetime.date(2023, 11, 21),\n",
       " datetime.date(2017, 12, 15),\n",
       " datetime.date(2018, 1, 8),\n",
       " datetime.date(2018, 5, 30),\n",
       " datetime.date(2022, 10, 18),\n",
       " datetime.date(2022, 2, 10),\n",
       " datetime.date(2018, 6, 5),\n",
       " datetime.date(2019, 12, 20),\n",
       " datetime.date(2020, 11, 18),\n",
       " datetime.date(2021, 7, 15),\n",
       " datetime.date(2017, 1, 5),\n",
       " datetime.date(2019, 12, 3),\n",
       " datetime.date(2020, 8, 11),\n",
       " datetime.date(2022, 2, 3),\n",
       " datetime.date(2020, 6, 25),\n",
       " datetime.date(2023, 7, 21),\n",
       " datetime.date(2017, 9, 22),\n",
       " datetime.date(2018, 7, 13),\n",
       " datetime.date(2024, 7, 16),\n",
       " datetime.date(2024, 4, 1),\n",
       " datetime.date(2023, 9, 12),\n",
       " datetime.date(2021, 6, 16),\n",
       " datetime.date(2023, 11, 7),\n",
       " datetime.date(2017, 1, 9),\n",
       " datetime.date(2023, 3, 9),\n",
       " datetime.date(2018, 11, 20),\n",
       " datetime.date(2018, 9, 12),\n",
       " datetime.date(2017, 11, 20),\n",
       " datetime.date(2020, 12, 11),\n",
       " datetime.date(2020, 11, 24),\n",
       " datetime.date(2022, 5, 12),\n",
       " datetime.date(2021, 4, 6),\n",
       " datetime.date(2024, 1, 30),\n",
       " datetime.date(2019, 5, 23),\n",
       " datetime.date(2018, 9, 3),\n",
       " datetime.date(2017, 10, 23),\n",
       " datetime.date(2020, 5, 13),\n",
       " datetime.date(2024, 1, 25),\n",
       " datetime.date(2017, 6, 20),\n",
       " datetime.date(2020, 1, 22),\n",
       " datetime.date(2019, 3, 28),\n",
       " datetime.date(2018, 12, 26),\n",
       " datetime.date(2017, 5, 16),\n",
       " datetime.date(2020, 1, 8),\n",
       " datetime.date(2019, 4, 25),\n",
       " datetime.date(2017, 9, 5),\n",
       " datetime.date(2021, 1, 25),\n",
       " datetime.date(2020, 6, 12),\n",
       " datetime.date(2020, 11, 23),\n",
       " datetime.date(2019, 7, 8),\n",
       " datetime.date(2020, 4, 24),\n",
       " datetime.date(2022, 5, 5),\n",
       " datetime.date(2019, 6, 4),\n",
       " datetime.date(2019, 7, 1),\n",
       " datetime.date(2019, 9, 19),\n",
       " datetime.date(2020, 4, 20),\n",
       " datetime.date(2020, 6, 3),\n",
       " datetime.date(2019, 10, 1),\n",
       " datetime.date(2017, 5, 5),\n",
       " datetime.date(2022, 11, 30),\n",
       " datetime.date(2019, 7, 23),\n",
       " datetime.date(2018, 3, 20),\n",
       " datetime.date(2022, 7, 4),\n",
       " datetime.date(2020, 7, 31),\n",
       " datetime.date(2021, 9, 29),\n",
       " datetime.date(2024, 5, 29),\n",
       " datetime.date(2022, 7, 15),\n",
       " datetime.date(2020, 8, 17),\n",
       " datetime.date(2021, 10, 19),\n",
       " datetime.date(2017, 12, 4),\n",
       " datetime.date(2021, 8, 5),\n",
       " datetime.date(2020, 3, 31),\n",
       " datetime.date(2021, 6, 2),\n",
       " datetime.date(2021, 7, 5),\n",
       " datetime.date(2020, 6, 10),\n",
       " datetime.date(2017, 7, 17),\n",
       " datetime.date(2018, 9, 28),\n",
       " datetime.date(2022, 2, 1),\n",
       " datetime.date(2020, 10, 27),\n",
       " datetime.date(2023, 4, 28),\n",
       " datetime.date(2020, 12, 7),\n",
       " datetime.date(2017, 2, 13),\n",
       " datetime.date(2022, 5, 30),\n",
       " datetime.date(2022, 6, 29),\n",
       " datetime.date(2021, 3, 22),\n",
       " datetime.date(2023, 8, 23),\n",
       " datetime.date(2020, 5, 19),\n",
       " datetime.date(2024, 4, 26),\n",
       " datetime.date(2024, 8, 9),\n",
       " datetime.date(2018, 4, 4),\n",
       " datetime.date(2017, 8, 9),\n",
       " datetime.date(2018, 7, 11),\n",
       " datetime.date(2021, 1, 15),\n",
       " datetime.date(2017, 9, 13),\n",
       " datetime.date(2024, 2, 27),\n",
       " datetime.date(2017, 12, 1),\n",
       " datetime.date(2018, 8, 28),\n",
       " datetime.date(2021, 12, 24),\n",
       " datetime.date(2022, 10, 4),\n",
       " datetime.date(2023, 11, 12),\n",
       " datetime.date(2021, 9, 27),\n",
       " datetime.date(2018, 4, 27),\n",
       " datetime.date(2019, 1, 15),\n",
       " datetime.date(2019, 9, 23),\n",
       " datetime.date(2020, 5, 26),\n",
       " datetime.date(2020, 5, 5),\n",
       " datetime.date(2021, 5, 24),\n",
       " datetime.date(2023, 1, 10),\n",
       " datetime.date(2017, 10, 16),\n",
       " datetime.date(2023, 11, 17),\n",
       " datetime.date(2020, 2, 10),\n",
       " datetime.date(2023, 2, 21),\n",
       " datetime.date(2018, 6, 13),\n",
       " datetime.date(2021, 7, 8),\n",
       " datetime.date(2021, 10, 20),\n",
       " datetime.date(2019, 5, 16),\n",
       " datetime.date(2023, 9, 11),\n",
       " datetime.date(2024, 10, 11),\n",
       " datetime.date(2017, 11, 24),\n",
       " datetime.date(2024, 8, 7),\n",
       " datetime.date(2018, 3, 12),\n",
       " datetime.date(2017, 11, 14),\n",
       " datetime.date(2018, 9, 11),\n",
       " datetime.date(2022, 11, 28),\n",
       " datetime.date(2024, 9, 26),\n",
       " datetime.date(2019, 8, 1),\n",
       " datetime.date(2018, 3, 27),\n",
       " datetime.date(2021, 6, 24),\n",
       " datetime.date(2022, 9, 23),\n",
       " datetime.date(2021, 5, 5),\n",
       " datetime.date(2019, 9, 17),\n",
       " datetime.date(2024, 4, 25),\n",
       " datetime.date(2024, 9, 4),\n",
       " datetime.date(2024, 7, 19),\n",
       " datetime.date(2024, 10, 25),\n",
       " datetime.date(2019, 5, 13),\n",
       " datetime.date(2018, 1, 15),\n",
       " datetime.date(2017, 9, 28),\n",
       " datetime.date(2019, 9, 4),\n",
       " datetime.date(2022, 3, 16),\n",
       " datetime.date(2024, 6, 4),\n",
       " datetime.date(2018, 11, 16),\n",
       " datetime.date(2020, 12, 21),\n",
       " datetime.date(2019, 5, 17),\n",
       " datetime.date(2017, 6, 1),\n",
       " datetime.date(2017, 7, 27),\n",
       " datetime.date(2018, 7, 26),\n",
       " datetime.date(2023, 8, 29),\n",
       " datetime.date(2019, 11, 15),\n",
       " datetime.date(2021, 9, 23),\n",
       " datetime.date(2024, 8, 23),\n",
       " datetime.date(2024, 4, 9),\n",
       " datetime.date(2017, 7, 5),\n",
       " datetime.date(2017, 5, 8),\n",
       " datetime.date(2018, 10, 9),\n",
       " datetime.date(2017, 3, 28),\n",
       " datetime.date(2018, 10, 1),\n",
       " datetime.date(2021, 4, 12),\n",
       " datetime.date(2022, 6, 9),\n",
       " datetime.date(2017, 8, 18),\n",
       " datetime.date(2020, 10, 8),\n",
       " datetime.date(2024, 11, 8),\n",
       " datetime.date(2022, 5, 6),\n",
       " datetime.date(2019, 6, 20),\n",
       " datetime.date(2021, 9, 2),\n",
       " datetime.date(2019, 1, 16),\n",
       " datetime.date(2021, 12, 13),\n",
       " datetime.date(2017, 3, 31),\n",
       " datetime.date(2019, 9, 27),\n",
       " datetime.date(2019, 11, 7),\n",
       " datetime.date(2017, 9, 15),\n",
       " datetime.date(2023, 3, 1),\n",
       " datetime.date(2023, 6, 12),\n",
       " datetime.date(2019, 6, 28),\n",
       " datetime.date(2023, 6, 2),\n",
       " datetime.date(2024, 12, 5),\n",
       " datetime.date(2019, 8, 20),\n",
       " datetime.date(2021, 6, 1),\n",
       " datetime.date(2020, 4, 8),\n",
       " datetime.date(2022, 6, 10),\n",
       " datetime.date(2023, 7, 25),\n",
       " datetime.date(2018, 12, 11),\n",
       " datetime.date(2022, 12, 30),\n",
       " datetime.date(2019, 12, 12),\n",
       " datetime.date(2017, 3, 14),\n",
       " datetime.date(2017, 5, 12),\n",
       " datetime.date(2019, 7, 19),\n",
       " datetime.date(2022, 11, 9),\n",
       " datetime.date(2022, 6, 1),\n",
       " datetime.date(2021, 12, 27),\n",
       " datetime.date(2023, 12, 12),\n",
       " datetime.date(2017, 9, 27),\n",
       " datetime.date(2021, 1, 6),\n",
       " datetime.date(2023, 2, 6),\n",
       " datetime.date(2018, 11, 15),\n",
       " datetime.date(2018, 12, 6),\n",
       " datetime.date(2020, 2, 5),\n",
       " datetime.date(2024, 4, 19),\n",
       " datetime.date(2023, 8, 30),\n",
       " datetime.date(2018, 4, 13),\n",
       " datetime.date(2021, 4, 27),\n",
       " datetime.date(2020, 2, 24),\n",
       " datetime.date(2023, 8, 7),\n",
       " datetime.date(2018, 5, 25),\n",
       " datetime.date(2022, 3, 11),\n",
       " datetime.date(2022, 7, 6),\n",
       " datetime.date(2018, 8, 29),\n",
       " datetime.date(2018, 11, 21),\n",
       " datetime.date(2020, 7, 6),\n",
       " datetime.date(2022, 11, 18),\n",
       " datetime.date(2022, 9, 2),\n",
       " datetime.date(2020, 12, 10),\n",
       " datetime.date(2019, 8, 2),\n",
       " datetime.date(2017, 1, 10),\n",
       " datetime.date(2021, 12, 30),\n",
       " datetime.date(2023, 7, 19),\n",
       " datetime.date(2020, 11, 9),\n",
       " datetime.date(2020, 6, 11),\n",
       " datetime.date(2020, 3, 2),\n",
       " datetime.date(2024, 11, 7),\n",
       " datetime.date(2020, 8, 12),\n",
       " datetime.date(2019, 6, 25),\n",
       " datetime.date(2019, 12, 13),\n",
       " datetime.date(2023, 8, 17),\n",
       " datetime.date(2021, 7, 14),\n",
       " datetime.date(2018, 6, 22),\n",
       " datetime.date(2024, 1, 19),\n",
       " datetime.date(2020, 1, 10),\n",
       " datetime.date(2022, 10, 7),\n",
       " datetime.date(2019, 2, 14),\n",
       " datetime.date(2023, 1, 25),\n",
       " datetime.date(2022, 5, 16),\n",
       " datetime.date(2024, 10, 15),\n",
       " datetime.date(2022, 12, 23),\n",
       " datetime.date(2024, 1, 16),\n",
       " datetime.date(2020, 9, 17),\n",
       " datetime.date(2019, 7, 2),\n",
       " datetime.date(2019, 12, 5),\n",
       " datetime.date(2023, 4, 12),\n",
       " datetime.date(2022, 10, 28),\n",
       " datetime.date(2024, 2, 14),\n",
       " datetime.date(2017, 11, 3),\n",
       " datetime.date(2020, 1, 1),\n",
       " datetime.date(2018, 1, 10),\n",
       " datetime.date(2019, 5, 8),\n",
       " datetime.date(2020, 9, 24),\n",
       " datetime.date(2024, 8, 30),\n",
       " datetime.date(2020, 10, 15),\n",
       " datetime.date(2019, 1, 28),\n",
       " datetime.date(2020, 11, 14),\n",
       " datetime.date(2018, 2, 26),\n",
       " datetime.date(2017, 4, 21),\n",
       " datetime.date(2021, 9, 22),\n",
       " datetime.date(2022, 12, 27),\n",
       " datetime.date(2024, 7, 10),\n",
       " datetime.date(2017, 1, 12),\n",
       " datetime.date(2022, 11, 24),\n",
       " datetime.date(2023, 7, 17),\n",
       " datetime.date(2017, 6, 7),\n",
       " datetime.date(2020, 10, 20),\n",
       " datetime.date(2017, 8, 28),\n",
       " datetime.date(2020, 8, 7),\n",
       " datetime.date(2017, 12, 12),\n",
       " datetime.date(2017, 5, 15),\n",
       " datetime.date(2024, 4, 15),\n",
       " datetime.date(2020, 9, 22),\n",
       " datetime.date(2024, 12, 4),\n",
       " datetime.date(2019, 4, 30),\n",
       " datetime.date(2022, 9, 26),\n",
       " datetime.date(2021, 9, 6),\n",
       " datetime.date(2017, 5, 24),\n",
       " datetime.date(2024, 5, 7),\n",
       " datetime.date(2019, 6, 3),\n",
       " datetime.date(2020, 7, 23),\n",
       " datetime.date(2024, 4, 2),\n",
       " datetime.date(2019, 11, 25),\n",
       " datetime.date(2020, 5, 20),\n",
       " datetime.date(2019, 2, 21),\n",
       " datetime.date(2018, 10, 3),\n",
       " datetime.date(2021, 11, 12),\n",
       " datetime.date(2021, 7, 26),\n",
       " datetime.date(2018, 10, 11),\n",
       " datetime.date(2021, 3, 1),\n",
       " datetime.date(2020, 4, 30),\n",
       " datetime.date(2024, 5, 9),\n",
       " datetime.date(2022, 6, 20),\n",
       " datetime.date(2023, 4, 13),\n",
       " datetime.date(2023, 8, 10),\n",
       " datetime.date(2022, 8, 10),\n",
       " datetime.date(2024, 9, 18),\n",
       " datetime.date(2022, 5, 11),\n",
       " datetime.date(2024, 7, 26),\n",
       " datetime.date(2019, 7, 5),\n",
       " datetime.date(2019, 3, 15),\n",
       " datetime.date(2019, 12, 23),\n",
       " datetime.date(2023, 4, 27),\n",
       " datetime.date(2019, 7, 25),\n",
       " datetime.date(2021, 6, 17),\n",
       " datetime.date(2018, 8, 24),\n",
       " datetime.date(2019, 12, 17),\n",
       " datetime.date(2023, 8, 4),\n",
       " datetime.date(2021, 12, 16),\n",
       " datetime.date(2024, 4, 29),\n",
       " datetime.date(2023, 9, 27),\n",
       " datetime.date(2017, 12, 13),\n",
       " datetime.date(2021, 9, 28),\n",
       " datetime.date(2024, 3, 18),\n",
       " datetime.date(2018, 11, 5),\n",
       " datetime.date(2022, 6, 23),\n",
       " datetime.date(2022, 10, 31),\n",
       " datetime.date(2019, 8, 21),\n",
       " datetime.date(2017, 4, 25),\n",
       " datetime.date(2020, 2, 4),\n",
       " datetime.date(2021, 8, 20),\n",
       " datetime.date(2018, 4, 2),\n",
       " datetime.date(2018, 4, 16),\n",
       " datetime.date(2022, 9, 7),\n",
       " datetime.date(2018, 10, 22),\n",
       " datetime.date(2024, 8, 13),\n",
       " datetime.date(2022, 10, 27),\n",
       " datetime.date(2021, 8, 23),\n",
       " datetime.date(2021, 11, 15),\n",
       " datetime.date(2023, 5, 23),\n",
       " datetime.date(2020, 1, 9),\n",
       " datetime.date(2019, 3, 19),\n",
       " datetime.date(2024, 3, 20),\n",
       " datetime.date(2023, 1, 24),\n",
       " datetime.date(2017, 3, 23),\n",
       " datetime.date(2024, 10, 31),\n",
       " datetime.date(2018, 5, 14),\n",
       " datetime.date(2024, 9, 30),\n",
       " datetime.date(2019, 11, 5),\n",
       " datetime.date(2024, 1, 18),\n",
       " datetime.date(2017, 4, 24),\n",
       " datetime.date(2024, 2, 9),\n",
       " datetime.date(2017, 12, 7),\n",
       " datetime.date(2022, 11, 2),\n",
       " datetime.date(2018, 12, 10),\n",
       " datetime.date(2018, 12, 17),\n",
       " datetime.date(2018, 3, 16),\n",
       " datetime.date(2018, 8, 17),\n",
       " datetime.date(2019, 12, 11),\n",
       " datetime.date(2024, 2, 28),\n",
       " datetime.date(2024, 5, 3),\n",
       " datetime.date(2020, 7, 9),\n",
       " datetime.date(2018, 3, 6),\n",
       " datetime.date(2017, 6, 30),\n",
       " datetime.date(2021, 7, 19),\n",
       " datetime.date(2021, 11, 10),\n",
       " datetime.date(2024, 3, 1),\n",
       " datetime.date(2017, 12, 27),\n",
       " datetime.date(2018, 9, 18),\n",
       " datetime.date(2024, 5, 17),\n",
       " datetime.date(2018, 2, 16),\n",
       " datetime.date(2024, 10, 28),\n",
       " datetime.date(2021, 8, 26),\n",
       " datetime.date(2018, 11, 28),\n",
       " datetime.date(2017, 9, 4),\n",
       " datetime.date(2018, 10, 8),\n",
       " datetime.date(2023, 2, 17),\n",
       " datetime.date(2021, 4, 7),\n",
       " datetime.date(2020, 7, 14),\n",
       " datetime.date(2019, 5, 6),\n",
       " datetime.date(2018, 6, 18),\n",
       " datetime.date(2022, 1, 18),\n",
       " datetime.date(2023, 4, 26),\n",
       " datetime.date(2024, 12, 3),\n",
       " datetime.date(2018, 1, 11),\n",
       " datetime.date(2022, 5, 23),\n",
       " datetime.date(2020, 8, 13),\n",
       " datetime.date(2018, 6, 21),\n",
       " datetime.date(2020, 5, 12),\n",
       " datetime.date(2021, 5, 10),\n",
       " datetime.date(2019, 9, 13),\n",
       " datetime.date(2022, 9, 27),\n",
       " datetime.date(2017, 10, 9),\n",
       " datetime.date(2018, 7, 23),\n",
       " datetime.date(2017, 5, 11),\n",
       " datetime.date(2019, 6, 13),\n",
       " datetime.date(2020, 5, 21),\n",
       " datetime.date(2022, 8, 18),\n",
       " datetime.date(2021, 6, 22),\n",
       " datetime.date(2020, 7, 1),\n",
       " datetime.date(2018, 1, 17),\n",
       " datetime.date(2023, 2, 1),\n",
       " datetime.date(2023, 11, 28),\n",
       " datetime.date(2020, 6, 23),\n",
       " datetime.date(2017, 8, 14),\n",
       " datetime.date(2017, 11, 17),\n",
       " datetime.date(2020, 11, 12),\n",
       " datetime.date(2019, 9, 30),\n",
       " datetime.date(2019, 10, 11),\n",
       " datetime.date(2019, 11, 20),\n",
       " datetime.date(2018, 10, 17),\n",
       " datetime.date(2020, 1, 24),\n",
       " datetime.date(2017, 9, 12),\n",
       " datetime.date(2019, 2, 18),\n",
       " datetime.date(2023, 11, 22),\n",
       " datetime.date(2024, 6, 21),\n",
       " datetime.date(2020, 7, 10),\n",
       " datetime.date(2017, 10, 4),\n",
       " datetime.date(2021, 5, 20),\n",
       " datetime.date(2022, 6, 22),\n",
       " datetime.date(2024, 1, 2),\n",
       " datetime.date(2019, 1, 1),\n",
       " datetime.date(2018, 9, 26),\n",
       " datetime.date(2018, 5, 11),\n",
       " datetime.date(2021, 10, 18),\n",
       " datetime.date(2021, 4, 20),\n",
       " datetime.date(2023, 3, 17),\n",
       " datetime.date(2024, 5, 31),\n",
       " datetime.date(2017, 8, 10),\n",
       " datetime.date(2019, 9, 3),\n",
       " datetime.date(2022, 6, 24),\n",
       " datetime.date(2021, 12, 9),\n",
       " datetime.date(2017, 3, 3),\n",
       " datetime.date(2024, 7, 11),\n",
       " datetime.date(2023, 10, 4),\n",
       " datetime.date(2019, 7, 16),\n",
       " datetime.date(2021, 12, 6),\n",
       " datetime.date(2021, 4, 28),\n",
       " datetime.date(2018, 1, 22),\n",
       " datetime.date(2023, 6, 23),\n",
       " datetime.date(2023, 7, 7),\n",
       " datetime.date(2018, 3, 7),\n",
       " datetime.date(2021, 12, 8),\n",
       " datetime.date(2017, 2, 10),\n",
       " datetime.date(2018, 10, 30),\n",
       " datetime.date(2021, 1, 1),\n",
       " datetime.date(2021, 10, 12),\n",
       " datetime.date(2024, 5, 24),\n",
       " datetime.date(2024, 9, 17),\n",
       " datetime.date(2018, 11, 1),\n",
       " datetime.date(2023, 5, 17),\n",
       " datetime.date(2022, 4, 28),\n",
       " datetime.date(2017, 3, 15),\n",
       " datetime.date(2020, 7, 28),\n",
       " datetime.date(2021, 7, 16),\n",
       " datetime.date(2021, 5, 17),\n",
       " datetime.date(2021, 11, 16),\n",
       " datetime.date(2022, 7, 8),\n",
       " datetime.date(2018, 8, 21),\n",
       " datetime.date(2023, 5, 18),\n",
       " datetime.date(2018, 11, 14),\n",
       " datetime.date(2017, 4, 20),\n",
       " datetime.date(2023, 8, 3),\n",
       " datetime.date(2023, 5, 19),\n",
       " datetime.date(2021, 5, 27),\n",
       " datetime.date(2021, 8, 16),\n",
       " datetime.date(2022, 7, 5),\n",
       " datetime.date(2017, 4, 26),\n",
       " datetime.date(2017, 1, 23),\n",
       " datetime.date(2023, 10, 13),\n",
       " datetime.date(2022, 9, 16),\n",
       " datetime.date(2023, 12, 13),\n",
       " datetime.date(2020, 2, 13),\n",
       " datetime.date(2020, 3, 20),\n",
       " datetime.date(2024, 8, 19),\n",
       " datetime.date(2022, 11, 21),\n",
       " datetime.date(2024, 4, 4),\n",
       " datetime.date(2021, 3, 9),\n",
       " datetime.date(2018, 6, 6),\n",
       " datetime.date(2017, 1, 30),\n",
       " datetime.date(2023, 5, 22),\n",
       " datetime.date(2023, 1, 31),\n",
       " datetime.date(2022, 10, 12),\n",
       " datetime.date(2017, 10, 30),\n",
       " datetime.date(2018, 1, 2),\n",
       " datetime.date(2019, 5, 31),\n",
       " datetime.date(2022, 10, 10),\n",
       " datetime.date(2023, 8, 18),\n",
       " datetime.date(2021, 2, 18),\n",
       " datetime.date(2022, 7, 11),\n",
       " datetime.date(2018, 2, 23),\n",
       " datetime.date(2022, 8, 16),\n",
       " datetime.date(2020, 12, 31),\n",
       " datetime.date(2021, 3, 2),\n",
       " datetime.date(2017, 6, 8),\n",
       " datetime.date(2022, 3, 3),\n",
       " datetime.date(2023, 9, 4),\n",
       " datetime.date(2017, 1, 3),\n",
       " datetime.date(2023, 2, 27),\n",
       " datetime.date(2021, 9, 7),\n",
       " datetime.date(2020, 2, 12),\n",
       " datetime.date(2019, 1, 31),\n",
       " datetime.date(2023, 4, 6),\n",
       " datetime.date(2019, 2, 19),\n",
       " datetime.date(2021, 11, 17),\n",
       " datetime.date(2022, 8, 29),\n",
       " datetime.date(2023, 9, 21),\n",
       " datetime.date(2022, 12, 28),\n",
       " datetime.date(2018, 8, 13),\n",
       " datetime.date(2018, 12, 28),\n",
       " datetime.date(2024, 10, 3),\n",
       " datetime.date(2022, 9, 21),\n",
       " datetime.date(2024, 5, 22),\n",
       " datetime.date(2019, 3, 22),\n",
       " datetime.date(2023, 10, 27),\n",
       " datetime.date(2021, 4, 16),\n",
       " datetime.date(2023, 5, 29),\n",
       " datetime.date(2018, 8, 3),\n",
       " datetime.date(2018, 12, 24),\n",
       " datetime.date(2020, 10, 21),\n",
       " datetime.date(2019, 5, 30),\n",
       " datetime.date(2021, 10, 8),\n",
       " datetime.date(2017, 11, 22),\n",
       " datetime.date(2022, 11, 25),\n",
       " datetime.date(2023, 9, 26),\n",
       " datetime.date(2024, 9, 6),\n",
       " datetime.date(2021, 3, 15),\n",
       " datetime.date(2024, 10, 17),\n",
       " datetime.date(2022, 5, 31),\n",
       " datetime.date(2018, 11, 22),\n",
       " datetime.date(2022, 11, 14),\n",
       " datetime.date(2023, 1, 23),\n",
       " datetime.date(2017, 3, 21),\n",
       " datetime.date(2021, 10, 25),\n",
       " datetime.date(2023, 10, 17),\n",
       " datetime.date(2020, 2, 3),\n",
       " datetime.date(2017, 8, 3),\n",
       " datetime.date(2019, 7, 3),\n",
       " datetime.date(2020, 5, 11),\n",
       " datetime.date(2024, 2, 26),\n",
       " datetime.date(2024, 5, 23),\n",
       " datetime.date(2023, 6, 6),\n",
       " datetime.date(2020, 10, 1),\n",
       " datetime.date(2018, 4, 19),\n",
       " datetime.date(2020, 1, 16),\n",
       " datetime.date(2024, 1, 12),\n",
       " datetime.date(2018, 5, 9),\n",
       " datetime.date(2023, 6, 27),\n",
       " datetime.date(2020, 8, 10),\n",
       " datetime.date(2024, 3, 4),\n",
       " datetime.date(2017, 1, 19),\n",
       " datetime.date(2019, 9, 24),\n",
       " datetime.date(2019, 1, 25),\n",
       " datetime.date(2021, 11, 24),\n",
       " datetime.date(2022, 7, 14),\n",
       " datetime.date(2024, 3, 22),\n",
       " datetime.date(2022, 1, 20),\n",
       " datetime.date(2022, 6, 30),\n",
       " datetime.date(2023, 1, 2),\n",
       " datetime.date(2018, 12, 5),\n",
       " datetime.date(2024, 11, 25),\n",
       " datetime.date(2022, 5, 4),\n",
       " datetime.date(2017, 2, 23),\n",
       " datetime.date(2022, 1, 17),\n",
       " datetime.date(2019, 2, 5),\n",
       " datetime.date(2020, 5, 8),\n",
       " datetime.date(2023, 7, 13),\n",
       " datetime.date(2023, 1, 9),\n",
       " datetime.date(2018, 8, 30),\n",
       " datetime.date(2023, 9, 6),\n",
       " datetime.date(2021, 12, 2),\n",
       " datetime.date(2019, 1, 2),\n",
       " datetime.date(2019, 11, 8),\n",
       " datetime.date(2022, 1, 10),\n",
       " datetime.date(2017, 1, 25),\n",
       " datetime.date(2023, 3, 21),\n",
       " datetime.date(2022, 6, 14),\n",
       " datetime.date(2021, 9, 13),\n",
       " datetime.date(2020, 5, 7),\n",
       " datetime.date(2019, 10, 3),\n",
       " datetime.date(2024, 3, 15),\n",
       " datetime.date(2021, 7, 29),\n",
       " datetime.date(2023, 1, 17),\n",
       " datetime.date(2019, 3, 12),\n",
       " datetime.date(2019, 9, 11),\n",
       " datetime.date(2017, 5, 22),\n",
       " datetime.date(2023, 7, 28),\n",
       " datetime.date(2020, 2, 7),\n",
       " datetime.date(2022, 8, 5),\n",
       " datetime.date(2024, 4, 12),\n",
       " datetime.date(2019, 7, 10),\n",
       " datetime.date(2024, 9, 27),\n",
       " datetime.date(2020, 12, 2),\n",
       " datetime.date(2022, 9, 5),\n",
       " datetime.date(2021, 2, 2),\n",
       " datetime.date(2024, 5, 15),\n",
       " datetime.date(2022, 2, 7),\n",
       " datetime.date(2019, 3, 13),\n",
       " datetime.date(2023, 4, 24),\n",
       " datetime.date(2024, 6, 24),\n",
       " datetime.date(2024, 9, 13),\n",
       " datetime.date(2018, 6, 7),\n",
       " datetime.date(2022, 5, 13),\n",
       " datetime.date(2017, 11, 13),\n",
       " datetime.date(2020, 10, 12),\n",
       " datetime.date(2023, 3, 13),\n",
       " datetime.date(2024, 6, 18),\n",
       " datetime.date(2022, 2, 24),\n",
       " datetime.date(2021, 11, 8),\n",
       " ...}"
      ]
     },
     "execution_count": 8,
     "metadata": {},
     "output_type": "execute_result"
    }
   ],
   "source": [
    "bnf_1min[\"datetime\"] = pd.to_datetime(bnf_1min[\"datetime\"])\n",
    "list_of_traded_dates = set(bnf_1min[\"datetime\"].dt.date)\n",
    "list_of_traded_dates"
   ]
  },
  {
   "cell_type": "code",
   "execution_count": 9,
   "id": "4e73a9f1-b834-411e-b28e-cf7ec65fcfca",
   "metadata": {
    "execution": {
     "iopub.execute_input": "2024-12-18T20:32:05.788583Z",
     "iopub.status.busy": "2024-12-18T20:32:05.788214Z",
     "iopub.status.idle": "2024-12-18T20:32:05.793790Z",
     "shell.execute_reply": "2024-12-18T20:32:05.792773Z",
     "shell.execute_reply.started": "2024-12-18T20:32:05.788566Z"
    }
   },
   "outputs": [],
   "source": [
    "def rename_ohlc_columns(df: pl.DataFrame) -> pl.DataFrame:\n",
    "\n",
    "    column_mapping = {\"o\": \"open\", \"h\": \"high\", \"l\": \"low\", \"c\": \"close\", \"v\": \"volume\"}\n",
    "    df = df.rename(column_mapping)\n",
    "\n",
    "    return df"
   ]
  },
  {
   "cell_type": "code",
   "execution_count": 10,
   "id": "3e97b9dc-5add-4dbd-8160-d4b294b5d3dc",
   "metadata": {
    "execution": {
     "iopub.execute_input": "2024-12-18T20:32:05.939445Z",
     "iopub.status.busy": "2024-12-18T20:32:05.938609Z",
     "iopub.status.idle": "2024-12-18T20:32:05.943999Z",
     "shell.execute_reply": "2024-12-18T20:32:05.942793Z",
     "shell.execute_reply.started": "2024-12-18T20:32:05.939426Z"
    }
   },
   "outputs": [],
   "source": [
    "PORTFOLIO_VALUE = 10_00_000 # 10 Lacs\n",
    "# RPT_PCT = 0.01 # 1% RPT\n",
    "SLIPPAGE_ = 0.0001\n",
    "LEVERAGE_ = 5"
   ]
  },
  {
   "cell_type": "code",
   "execution_count": 33,
   "id": "8fe87dd6-5c22-4a1b-b716-8da141dd30de",
   "metadata": {
    "execution": {
     "iopub.execute_input": "2024-12-18T20:34:07.905855Z",
     "iopub.status.busy": "2024-12-18T20:34:07.905189Z",
     "iopub.status.idle": "2024-12-18T20:34:07.911500Z",
     "shell.execute_reply": "2024-12-18T20:34:07.910333Z",
     "shell.execute_reply.started": "2024-12-18T20:34:07.905836Z"
    }
   },
   "outputs": [],
   "source": [
    "def calculate_signals(df, ema_length, x_days, pct):\n",
    "    # Calculate X-day High/Low and 20 EMA\n",
    "    df['X_High'] = df['high'].rolling(x_days).mean()\n",
    "    df['X_Low'] = df['low'].rolling(x_days).mean()\n",
    "    df['EMA_20'] = df['close'].ewm(span=ema_length, adjust=False).mean()\n",
    "    \n",
    "    # Trend conditions\n",
    "    df['EMA_Trend'] = df['EMA_20'] > df['EMA_20'].shift(1)\n",
    "    \n",
    "    # Signal conditions\n",
    "    df['Buy_Signal'] = (\n",
    "        (df['close'] > df['X_High'].shift(1) * (1 + (pct / 100))) & \n",
    "        (df['EMA_Trend']) & \n",
    "        (df['close'] > df['EMA_20'])\n",
    "    )\n",
    "    \n",
    "    return df"
   ]
  },
  {
   "cell_type": "code",
   "execution_count": 34,
   "id": "d6a33865-c48b-486a-b8da-e5598116810c",
   "metadata": {
    "execution": {
     "iopub.execute_input": "2024-12-18T20:34:08.313662Z",
     "iopub.status.busy": "2024-12-18T20:34:08.312723Z",
     "iopub.status.idle": "2024-12-18T20:34:08.318285Z",
     "shell.execute_reply": "2024-12-18T20:34:08.317121Z",
     "shell.execute_reply.started": "2024-12-18T20:34:08.313643Z"
    },
    "jupyter": {
     "source_hidden": true
    }
   },
   "outputs": [],
   "source": [
    "# def backtest(df):\n",
    "#     position = 0\n",
    "#     entry_price = 0\n",
    "#     trades = []\n",
    "#     trailing_stop = None\n",
    "    \n",
    "#     for i in range(len(df)):\n",
    "#         if df.loc[i, 'Buy_Signal'] and position == 0:\n",
    "#             position = 1\n",
    "#             # entry_price = df.loc[i, 'close']\n",
    "#             trailing_stop_long = df.loc[i, 'EMA_20']\n",
    "#             # trades.append({'Type': 'Buy', 'Price': entry_price, 'Date': df.loc[i, 'datetime']})\n",
    "#             entry_time_long = df.loc[i, 'datetime']\n",
    "#             entry_price_long = df.loc[i, 'close']\n",
    "#             initial_sl_long = trailing_stop_long\n",
    "        \n",
    "#         elif df.loc[i, 'Sell_Signal'] and position == 0:\n",
    "#             position = -1\n",
    "#             entry_price = df.loc[i, 'close']\n",
    "#             trailing_stop_short = df.loc[i, 'EMA_20']\n",
    "#             # trades.append({'Type': 'Sell', 'Price': entry_price, 'Date': df.loc[i, 'datetime']})\n",
    "#             entry_time_short = df.loc[i, 'datetime']\n",
    "#             entry_price_short = df.loc[i, 'close']\n",
    "#             initial_sl_short = trailing_stop_short\n",
    "        \n",
    "#         elif position == 1:\n",
    "#             if df.loc[i, 'low'] < trailing_stop_long:\n",
    "#                 # trades.append({'Type': 'Exit', 'Price': df.loc[i, 'close'], 'Date': df.loc[i, 'datetime']})\n",
    "#                 position = 0\n",
    "#                 exit_time_long = df.loc[i, 'datetime']\n",
    "#                 exit_price_long = trailing_stop_long\n",
    "#                 points_long = exit_price_long - entry_price_long\n",
    "                \n",
    "#             elif df.loc[i, 'Add_Long']:\n",
    "#                 # trades.append({'Type': 'Add Long', 'Price': df.loc[i, 'close'], 'Date': df.loc[i, 'datetime']})\n",
    "#                 entry_time_long = df.loc[i, 'datetime']\n",
    "#                 entry_price_long = df.loc[i, 'close']\n",
    "#                 initial_sl_long = trailing_stop_long\n",
    "#                 trailing_stop_long = max(trailing_stop_long, df.loc[i, 'EMA_20'])\n",
    "        \n",
    "#         elif position == -1:\n",
    "#             if df.loc[i, 'high'] > trailing_stop:\n",
    "#                 trades.append({'Type': 'Exit', 'Price': df.loc[i, 'close'], 'Date': df.loc[i, 'datetime']})\n",
    "#                 position = 0\n",
    "#             elif df.loc[i, 'Add_Short']:\n",
    "#                 trades.append({'Type': 'Add Short', 'Price': df.loc[i, 'close'], 'Date': df.loc[i, 'datetime']})\n",
    "#                 trailing_stop = min(trailing_stop, df.loc[i, 'EMA_20'])\n",
    "    \n",
    "#     return pd.DataFrame(trades)"
   ]
  },
  {
   "cell_type": "code",
   "execution_count": 40,
   "id": "ce424607-ebe6-4830-947c-dcdbc4cfb094",
   "metadata": {
    "execution": {
     "iopub.execute_input": "2024-12-18T20:36:10.355351Z",
     "iopub.status.busy": "2024-12-18T20:36:10.354438Z",
     "iopub.status.idle": "2024-12-18T20:36:10.365137Z",
     "shell.execute_reply": "2024-12-18T20:36:10.364068Z",
     "shell.execute_reply.started": "2024-12-18T20:36:10.355329Z"
    }
   },
   "outputs": [],
   "source": [
    "def backtest(df):\n",
    "    # print(df.to_string())\n",
    "    # return\n",
    "    df.reset_index(drop=True, inplace=True)\n",
    "    # Variables for long trades\n",
    "    long_position = 0  # 0 = no position, 1 = long\n",
    "    long_entry_price = 0\n",
    "    long_entry_date = None\n",
    "    long_trades = []\n",
    "    tradebook = pd.DataFrame()\n",
    "    tradebook_long = pd.DataFrame()\n",
    "    # tradebook_short = pd.DataFrame()\n",
    "    long_trailing_stop = None\n",
    "    # Variables for short trades\n",
    "    # short_position = 0  # 0 = no position, -1 = short\n",
    "    # short_entry_price = 0\n",
    "    # short_entry_date = None\n",
    "    # short_trades = []\n",
    "    # short_trailing_stop = None\n",
    "\n",
    "    can_add_long = False\n",
    "    # can_add_short = False\n",
    "\n",
    "    trade_number = 0\n",
    "    lock_initial_sl = False\n",
    "    first_sl = 0\n",
    "\n",
    "    lock_initial_sl_2 = False\n",
    "    first_sl_2 = 0\n",
    "\n",
    "    pyramid_number = 0\n",
    "    can_pyramid = True\n",
    "    pyramid_high = 0\n",
    "\n",
    "    for i in range(1, len(df)):\n",
    "        # Entry signals for long trades\n",
    "        long_trailing_stop = df.loc[i, 'EMA_20']\n",
    "        # short_trailing_stop = df.loc[i, 'EMA_20']\n",
    "        \n",
    "        if df.loc[i, 'Buy_Signal'] and long_position == 0:\n",
    "            long_position = 1\n",
    "            long_entry_price = df.loc[i, 'close']\n",
    "            long_entry_date = df.loc[i, 'datetime']\n",
    "            long_trailing_stop = df.loc[i, 'EMA_20']\n",
    "            long_initial_sl = df.loc[i, 'X_Low']\n",
    "\n",
    "            tradebook_long = pd.concat([tradebook_long, pd.DataFrame([{\n",
    "                'Trade No.': trade_number,\n",
    "                'Entry_Date': df.loc[i, 'datetime'],\n",
    "                'Exit_Date': None,\n",
    "                'Trade_Type': 'Long',\n",
    "                'Entry_Price': df.loc[i, 'close'],\n",
    "                'Previous MA Value': df.loc[i-1, 'X_High'],\n",
    "                'Initial SL': long_initial_sl,\n",
    "                'Exit_Price': None,\n",
    "                # 'Profit/Loss': None  # Filled when exited\n",
    "            }])], ignore_index=True)\n",
    "\n",
    "            if not lock_initial_sl:\n",
    "                first_sl = long_initial_sl\n",
    "                lock_initial_sl = True\n",
    "\n",
    "            can_pyramid = True\n",
    "            pyramid_number = 0\n",
    "            pyramid_high = 0\n",
    "            continue\n",
    "                \n",
    "        # Exit or add to long position\n",
    "        if long_position == 1:\n",
    "\n",
    "            \n",
    "            # y_days_low = df['low'].rolling(y_days).min().iloc[i-1]\n",
    "            # y_days_high = df['high'].rolling(y_days).max().iloc[i-1]\n",
    "            \n",
    "            # print(df.iloc[i]['datetime'], y_days_high, y_days_low)\n",
    "            \n",
    "            if df.loc[i, 'low'] <= long_initial_sl:\n",
    "                tradebook_long.loc[\n",
    "                    (tradebook_long['Trade No.'] == trade_number),\n",
    "                    ['Exit_Date', 'Exit_Price', 'Exit Remark']\n",
    "                ] = [df.loc[i, 'datetime'] , long_initial_sl , 'Initial SL Hit']\n",
    "                long_position = 0\n",
    "                can_add_long = False\n",
    "                trade_number += 1\n",
    "                lock_initial_sl = False\n",
    "                first_sl = 0\n",
    "                can_pyramid = False\n",
    "                pyramid_number = 0\n",
    "                pyramid_high = 0\n",
    "            \n",
    "            elif df.loc[i, 'close'] <= long_trailing_stop:\n",
    "                tradebook_long.loc[\n",
    "                    (tradebook_long['Trade No.'] == trade_number),\n",
    "                    ['Exit_Date', 'Exit_Price', 'Exit Remark']\n",
    "                ] = [df.loc[i, 'datetime'] , df.loc[i, 'close'] , 'Trailing SL Hit']\n",
    "                long_position = 0\n",
    "                can_add_long = False\n",
    "                trade_number += 1\n",
    "                lock_initial_sl = False\n",
    "                first_sl = 0\n",
    "                can_pyramid = False\n",
    "                pyramid_number = 0\n",
    "                pyramid_high = 0\n",
    "\n",
    "            # elif (df.loc[i, 'low'] <= y_days_low) and not can_add_long:\n",
    "            #     # Previous Y Candle Low Breached, confirmation found. Add position on high break\n",
    "            #     can_add_long = True\n",
    "\n",
    "            # if can_add_long and long_position and can_pyramid:\n",
    "            #     if df.loc[i, 'high'] >= y_days_high and pyramid_number < pyr_num:\n",
    "            #         tradebook_long = pd.concat([tradebook_long, pd.DataFrame([{\n",
    "            #             'Trade No.': trade_number,\n",
    "            #             'Entry_Date': df.loc[i, 'datetime'],\n",
    "            #             'Exit_Date': None,\n",
    "            #             'Trade_Type': 'Add_Long',\n",
    "            #             'Entry_Price': y_days_high,\n",
    "            #             'Initial SL': first_sl,\n",
    "            #             'Exit_Price': None,\n",
    "            #             # 'Profit/Loss': None  # Filled when exited\n",
    "            #         }])], ignore_index=True)\n",
    "            #         can_add_long = False\n",
    "            #         pyramid_number += 1\n",
    "            #         can_pyramid = True\n",
    "    \n",
    "    tradebook = pd.concat([tradebook_long, tradebook], ignore_index=True)\n",
    "    return tradebook\n"
   ]
  },
  {
   "cell_type": "code",
   "execution_count": 41,
   "id": "be2fa54a-87b7-4312-8853-3cf4be8c5784",
   "metadata": {
    "execution": {
     "iopub.execute_input": "2024-12-18T20:36:10.652003Z",
     "iopub.status.busy": "2024-12-18T20:36:10.651732Z",
     "iopub.status.idle": "2024-12-18T20:36:10.658542Z",
     "shell.execute_reply": "2024-12-18T20:36:10.657472Z",
     "shell.execute_reply.started": "2024-12-18T20:36:10.651987Z"
    },
    "jupyter": {
     "source_hidden": true
    }
   },
   "outputs": [],
   "source": [
    "# def backtest(df, y_days):\n",
    "#     # Variables for long trades\n",
    "#     long_position = 0  # 0 = no position, 1 = long\n",
    "#     long_entry_price = 0\n",
    "#     long_entry_date = None\n",
    "#     long_trades = []\n",
    "#     tradebook = pd.DataFrame()\n",
    "#     tradebook_long = pd.DataFrame()\n",
    "#     tradebook_short = pd.DataFrame()\n",
    "#     long_trailing_stop = None\n",
    "#     # Variables for short trades\n",
    "#     short_position = 0  # 0 = no position, -1 = short\n",
    "#     short_entry_price = 0\n",
    "#     short_entry_date = None\n",
    "#     short_trades = []\n",
    "#     short_trailing_stop = None\n",
    "\n",
    "#     can_add_long = False\n",
    "#     can_add_short = False\n",
    "\n",
    "#     trade_number = 0\n",
    "\n",
    "#     for i in range(len(df)):\n",
    "#         # Entry signals for long trades\n",
    "#         long_trailing_stop = df.loc[i, 'EMA_20']\n",
    "#         short_trailing_stop = df.loc[i, 'EMA_20']\n",
    "        \n",
    "#         if df.loc[i, 'Buy_Signal'] and long_position == 0:\n",
    "#             long_position = 1\n",
    "#             long_entry_price = df.loc[i, 'close']\n",
    "#             long_entry_date = df.loc[i, 'datetime']\n",
    "#             long_trailing_stop = df.loc[i, 'EMA_20']\n",
    "#             long_initial_sl = df.loc[i, 'X_Low']\n",
    "\n",
    "#             tradebook_long = pd.concat([tradebook_long, pd.DataFrame([{\n",
    "#                 'Trade No.': trade_number,\n",
    "#                 'Entry_Date': df.loc[i, 'datetime'],\n",
    "#                 'Exit_Date': None,\n",
    "#                 'Trade_Type': 'Long',\n",
    "#                 'Entry_Price': df.loc[i, 'close'],\n",
    "#                 'Initial SL': long_initial_sl,\n",
    "#                 'Exit_Price': None,\n",
    "#                 # 'Profit/Loss': None  # Filled when exited\n",
    "#             }])], ignore_index=True)\n",
    "\n",
    "#         # Exit or add to long position\n",
    "#         if long_position == 1:\n",
    "            \n",
    "#             y_days_low = df['low'].rolling(y_days).min().iloc[i-1]\n",
    "#             y_days_high = df['high'].rolling(y_days).max().iloc[i-1]\n",
    "            \n",
    "#             # print(df.iloc[i]['datetime'], y_days_high, y_days_low)\n",
    "            \n",
    "#             if df.loc[i, 'low'] <= long_initial_sl:\n",
    "#                 tradebook_long.loc[\n",
    "#                     (tradebook_long['Trade No.'] == trade_number),\n",
    "#                     ['Exit_Date', 'Exit_Price']\n",
    "#                 ] = [df.loc[i, 'datetime'] , long_initial_sl]\n",
    "#                 long_position = 0\n",
    "#                 can_add_long = False\n",
    "#                 trade_number += 1\n",
    "            \n",
    "#             elif df.loc[i, 'close'] <= long_trailing_stop:\n",
    "#                 tradebook_long.loc[\n",
    "#                     (tradebook_long['Trade No.'] == trade_number),\n",
    "#                     ['Exit_Date', 'Exit_Price']\n",
    "#                 ] = [df.loc[i, 'datetime'] , df.loc[i, 'close']]\n",
    "#                 long_position = 0\n",
    "#                 can_add_long = False\n",
    "#                 trade_number += 1\n",
    "\n",
    "#             elif (df.loc[i, 'low'] <= y_days_low) and not can_add_long:\n",
    "#                 # Previous Y Candle Low Breached, confirmation found. Add position on high break\n",
    "#                 can_add_long = True\n",
    "\n",
    "#             if can_add_long and long_position:\n",
    "#                 if df.loc[i, 'high'] >= y_days_high:\n",
    "#                     tradebook_long = pd.concat([tradebook_long, pd.DataFrame([{\n",
    "#                         'Trade No.': trade_number,\n",
    "#                         'Entry_Date': df.loc[i, 'datetime'],\n",
    "#                         'Exit_Date': None,\n",
    "#                         'Trade_Type': 'Add_Long',\n",
    "#                         'Entry_Price': y_days_high,\n",
    "#                         'Initial SL': long_initial_sl,\n",
    "#                         'Exit_Price': None,\n",
    "#                         # 'Profit/Loss': None  # Filled when exited\n",
    "#                     }])], ignore_index=True)\n",
    "#                     can_add_long = False\n",
    "\n",
    "#     for i in range(len(df)):\n",
    "        \n",
    "#         # Entry signals for long trades\n",
    "#         long_trailing_stop = df.loc[i, 'EMA_20']\n",
    "#         short_trailing_stop = df.loc[i, 'EMA_20']\n",
    "\n",
    "#         # Entry signals for short trades\n",
    "#         if df.loc[i, 'Sell_Signal'] and short_position == 0:\n",
    "#             short_position = -1\n",
    "#             short_entry_price = df.loc[i, 'close']\n",
    "#             short_entry_date = df.loc[i, 'datetime']\n",
    "#             short_trailing_stop = df.loc[i, 'EMA_20']\n",
    "#             short_initial_sl = df.loc[i, 'X_High']\n",
    "\n",
    "#             tradebook_short = pd.concat([tradebook_short, pd.DataFrame([{\n",
    "#                 'Trade No.': trade_number,\n",
    "#                 'Entry_Date': df.loc[i, 'datetime'],\n",
    "#                 'Exit_Date': None,\n",
    "#                 'Trade_Type': 'Short',\n",
    "#                 'Entry_Price': df.loc[i, 'close'],\n",
    "#                 'Initial SL': short_initial_sl,\n",
    "#                 'Exit_Price': None,\n",
    "#                 # 'Profit/Loss': None  # Filled when exited\n",
    "#             }])], ignore_index=True)\n",
    "\n",
    "#         if short_position == -1:\n",
    "            \n",
    "#             y_days_low = df['low'].rolling(y_days).min().iloc[i-1]\n",
    "#             y_days_high = df['high'].rolling(y_days).max().iloc[i-1]\n",
    "            \n",
    "#             # print(df.iloc[i]['datetime'], y_days_high, y_days_low)\n",
    "            \n",
    "#             if df.loc[i, 'high'] >= short_initial_sl:\n",
    "#                 tradebook_short.loc[\n",
    "#                     (tradebook_short['Trade No.'] == trade_number),\n",
    "#                     ['Exit_Date', 'Exit_Price']\n",
    "#                 ] = [df.loc[i, 'datetime'] ,short_initial_sl]\n",
    "#                 short_position = 0\n",
    "#                 can_add_short = False\n",
    "#                 trade_number += 1\n",
    "            \n",
    "#             elif df.loc[i, 'close'] >= short_trailing_stop:\n",
    "#                 tradebook_short.loc[\n",
    "#                     (tradebook_short['Trade No.'] == trade_number),\n",
    "#                     ['Exit_Date', 'Exit_Price']\n",
    "#                 ] = [df.loc[i, 'datetime'] , df.loc[i, 'close']]\n",
    "#                 short_position = 0\n",
    "#                 can_add_short = False\n",
    "#                 trade_number += 1\n",
    "\n",
    "#             elif (df.loc[i, 'high'] >= y_days_high) and not can_add_short:\n",
    "#                 # Previous Y Candle High Breached, confirmation found. Add position on low break\n",
    "#                 can_add_short = True\n",
    "\n",
    "#             if can_add_short and short_position:\n",
    "#                 if df.loc[i, 'low'] <= y_days_low:\n",
    "#                     tradebook_short = pd.concat([tradebook_short, pd.DataFrame([{\n",
    "#                         'Trade No.': trade_number,\n",
    "#                         'Entry_Date': df.loc[i, 'datetime'],\n",
    "#                         'Exit_Date': None,\n",
    "#                         'Trade_Type': 'Add_Short',\n",
    "#                         'Entry_Price': y_days_low,\n",
    "#                         'Initial SL': short_initial_sl,\n",
    "#                         'Exit_Price': None,\n",
    "#                         # 'Profit/Loss': None  # Filled when exited\n",
    "#                     }])], ignore_index=True)\n",
    "#                     can_add_short = False\n",
    "    \n",
    "#     tradebook = pd.concat([tradebook_long, tradebook_short], ignore_index=True)\n",
    "#     return tradebook\n"
   ]
  },
  {
   "cell_type": "code",
   "execution_count": 105,
   "id": "544b98d6-373c-42cf-b1d7-59ab77d44902",
   "metadata": {
    "execution": {
     "iopub.execute_input": "2024-12-18T20:41:56.817223Z",
     "iopub.status.busy": "2024-12-18T20:41:56.816832Z",
     "iopub.status.idle": "2024-12-18T20:41:57.812801Z",
     "shell.execute_reply": "2024-12-18T20:41:57.811824Z",
     "shell.execute_reply.started": "2024-12-18T20:41:56.817204Z"
    },
    "scrolled": true
   },
   "outputs": [
    {
     "name": "stderr",
     "output_type": "stream",
     "text": [
      "/tmp/ipykernel_29457/2639050160.py:78: FutureWarning: Setting an item of incompatible dtype is deprecated and will raise an error in a future version of pandas. Value 'Initial SL Hit' has dtype incompatible with float64, please explicitly cast to a compatible dtype first.\n",
      "  tradebook_long.loc[\n"
     ]
    }
   ],
   "source": [
    "ema_length = 20\n",
    "x_days = 3\n",
    "# y_days = 4\n",
    "pct = 0.25\n",
    "RPT = 5\n",
    "df = bnf_1min\n",
    "df = calculate_signals(df, ema_length,x_days, pct)\n",
    "# print(df.tail().to_string())\n",
    "# df1 = df[df['Buy_Signal']]\n",
    "# print(df1.to_string())\n",
    "tb = backtest(df)\n",
    "tb = tb.sort_values(by='Entry_Date')\n",
    "# variation = f'EMA: {ema_length}, X: {x_days}, Y: {y_days}, PCT: {pct}%, RPT: {RPT}%'"
   ]
  },
  {
   "cell_type": "code",
   "execution_count": 106,
   "id": "9d2a37eb-c52f-4e28-bffc-be8cb77b3830",
   "metadata": {
    "execution": {
     "iopub.execute_input": "2024-12-18T20:41:57.814150Z",
     "iopub.status.busy": "2024-12-18T20:41:57.813980Z",
     "iopub.status.idle": "2024-12-18T20:41:57.825773Z",
     "shell.execute_reply": "2024-12-18T20:41:57.824656Z",
     "shell.execute_reply.started": "2024-12-18T20:41:57.814136Z"
    },
    "scrolled": true
   },
   "outputs": [],
   "source": [
    "import numpy as np\n",
    "portfolio = 10000000\n",
    "tb['PnL'] = np.where(\n",
    "    tb['Trade_Type'].isin(['Long', 'Add_Long']),  # For Long and Add_Long\n",
    "    tb['Exit_Price'] - tb['Entry_Price'],\n",
    "    np.where(\n",
    "        tb['Trade_Type'].isin(['Short', 'Add_Short']),  # For Short and Add_Short\n",
    "        tb['Entry_Price'] - tb['Exit_Price'],\n",
    "        0  # Default case if Trade_Type is something unexpected\n",
    "    )\n",
    ")\n",
    "\n",
    "tb['Slippage'] = SLIPPAGE_ * (tb['Entry_Price'] + tb['Exit_Price'])\n",
    "tb['PnL w cs'] = tb['PnL'] - tb['Slippage']\n",
    "tb['Qty'] = abs(RPT / 100 * portfolio / (tb['Entry_Price'] - tb['Initial SL']))\n",
    "# tb['Qty'] = portfolio * 8 / tb['Entry_Price']\n",
    "tb['Profit_Loss INR'] = tb['Qty'] * tb['PnL w cs']\n",
    "tb['ROI%'] = tb['Profit_Loss INR'] * 100 / portfolio\n",
    "tb['Trade Year'] = tb['Entry_Date'].dt.year"
   ]
  },
  {
   "cell_type": "code",
   "execution_count": 107,
   "id": "fa5571b8-4afe-4f02-bf19-232c6992776a",
   "metadata": {
    "execution": {
     "iopub.execute_input": "2024-12-18T20:41:57.827216Z",
     "iopub.status.busy": "2024-12-18T20:41:57.826792Z",
     "iopub.status.idle": "2024-12-18T20:41:57.842259Z",
     "shell.execute_reply": "2024-12-18T20:41:57.841242Z",
     "shell.execute_reply.started": "2024-12-18T20:41:57.827144Z"
    }
   },
   "outputs": [],
   "source": [
    "# tb['Cumulative_PnL'] = tb['PnL w cs'].cumsum()"
   ]
  },
  {
   "cell_type": "code",
   "execution_count": 108,
   "id": "7da42fca-718f-43fd-8fb9-423c7beb8152",
   "metadata": {
    "execution": {
     "iopub.execute_input": "2024-12-18T20:41:57.844002Z",
     "iopub.status.busy": "2024-12-18T20:41:57.843664Z",
     "iopub.status.idle": "2024-12-18T20:41:57.853398Z",
     "shell.execute_reply": "2024-12-18T20:41:57.852135Z",
     "shell.execute_reply.started": "2024-12-18T20:41:57.843985Z"
    }
   },
   "outputs": [],
   "source": [
    "# tb.to_csv('GOLD TRADE CHECK JJPP.csv', index=False)"
   ]
  },
  {
   "cell_type": "code",
   "execution_count": 109,
   "id": "095a54f0-4c66-490f-97fd-e732e906e54b",
   "metadata": {
    "execution": {
     "iopub.execute_input": "2024-12-18T20:41:57.854791Z",
     "iopub.status.busy": "2024-12-18T20:41:57.854433Z",
     "iopub.status.idle": "2024-12-18T20:41:57.866367Z",
     "shell.execute_reply": "2024-12-18T20:41:57.865248Z",
     "shell.execute_reply.started": "2024-12-18T20:41:57.854773Z"
    },
    "scrolled": true
   },
   "outputs": [],
   "source": [
    "tb = tb.reset_index()\n",
    "# tb"
   ]
  },
  {
   "cell_type": "code",
   "execution_count": 110,
   "id": "42fd12dd-9e55-43ee-be9f-76a032557b9f",
   "metadata": {
    "execution": {
     "iopub.execute_input": "2024-12-18T20:41:57.867664Z",
     "iopub.status.busy": "2024-12-18T20:41:57.867498Z",
     "iopub.status.idle": "2024-12-18T20:41:57.877843Z",
     "shell.execute_reply": "2024-12-18T20:41:57.876604Z",
     "shell.execute_reply.started": "2024-12-18T20:41:57.867650Z"
    }
   },
   "outputs": [],
   "source": [
    "import matplotlib.pyplot as plt\n",
    "\n",
    "def plot_cumulative_pnl(tb, title=\"Cumulative PnL Over Time\"):\n",
    "    if 'Cumulative_PnL' not in tb.columns:\n",
    "        raise ValueError(\"The DataFrame must contain a 'Cumulative_PnL' column.\")\n",
    "\n",
    "    # Plot cumulative PnL\n",
    "    plt.figure(figsize=(12, 3))\n",
    "    plt.plot(tb.index, tb['Cumulative_PnL'], label='Cumulative PnL', color='blue', linewidth=2)\n",
    "    plt.title(title, fontsize=8)\n",
    "    plt.xlabel('Trade Index', fontsize=6)\n",
    "    plt.ylabel('Cumulative PnL', fontsize=6)\n",
    "    plt.legend(fontsize=6)\n",
    "    plt.grid(alpha=0.5)\n",
    "    plt.show()\n"
   ]
  },
  {
   "cell_type": "code",
   "execution_count": 111,
   "id": "de570f06-e560-4a18-b4fd-fe0ed1833130",
   "metadata": {
    "execution": {
     "iopub.execute_input": "2024-12-18T20:41:57.879820Z",
     "iopub.status.busy": "2024-12-18T20:41:57.879120Z",
     "iopub.status.idle": "2024-12-18T20:41:57.888024Z",
     "shell.execute_reply": "2024-12-18T20:41:57.887132Z",
     "shell.execute_reply.started": "2024-12-18T20:41:57.879795Z"
    }
   },
   "outputs": [],
   "source": [
    "# tb_long_only = tb[(tb['Trade_Type'] == 'Long') | (tb['Trade_Type'] == 'Add_Long')].copy()\n",
    "# tb_long_only['Cumulative_PnL'] = tb_long_only['PnL w cs'].cumsum()"
   ]
  },
  {
   "cell_type": "code",
   "execution_count": 112,
   "id": "2824479d-00d3-4c8f-9809-e7d52e99bf5d",
   "metadata": {
    "execution": {
     "iopub.execute_input": "2024-12-18T20:41:57.889690Z",
     "iopub.status.busy": "2024-12-18T20:41:57.889418Z",
     "iopub.status.idle": "2024-12-18T20:41:57.898711Z",
     "shell.execute_reply": "2024-12-18T20:41:57.897816Z",
     "shell.execute_reply.started": "2024-12-18T20:41:57.889675Z"
    }
   },
   "outputs": [],
   "source": [
    "# tb_long_only = tb_long_only[tb_long_only['Trade Year'] >= 2017]"
   ]
  },
  {
   "cell_type": "code",
   "execution_count": 113,
   "id": "96c0bbb0-8a62-43a4-9bbb-4a0a2ab1049a",
   "metadata": {
    "execution": {
     "iopub.execute_input": "2024-12-18T20:41:57.940836Z",
     "iopub.status.busy": "2024-12-18T20:41:57.939807Z",
     "iopub.status.idle": "2024-12-18T20:41:57.945005Z",
     "shell.execute_reply": "2024-12-18T20:41:57.944087Z",
     "shell.execute_reply.started": "2024-12-18T20:41:57.940809Z"
    },
    "jupyter": {
     "source_hidden": true
    }
   },
   "outputs": [],
   "source": [
    "# plot_cumulative_pnl(tb_long_only)\n",
    "# print(tb_long_only['PnL w cs'].sum())"
   ]
  },
  {
   "cell_type": "code",
   "execution_count": 114,
   "id": "58a626f9-7508-4157-853e-2207d2310e89",
   "metadata": {
    "execution": {
     "iopub.execute_input": "2024-12-18T20:41:58.063285Z",
     "iopub.status.busy": "2024-12-18T20:41:58.063014Z",
     "iopub.status.idle": "2024-12-18T20:41:58.067875Z",
     "shell.execute_reply": "2024-12-18T20:41:58.066915Z",
     "shell.execute_reply.started": "2024-12-18T20:41:58.063258Z"
    },
    "jupyter": {
     "source_hidden": true
    }
   },
   "outputs": [],
   "source": [
    "# plot_cumulative_pnl(tb_short_only)\n",
    "# print(tb_short_only['PnL w cs'].sum())"
   ]
  },
  {
   "cell_type": "code",
   "execution_count": 115,
   "id": "d529a44e-e6f3-43e3-ab6f-36277ec86a62",
   "metadata": {
    "execution": {
     "iopub.execute_input": "2024-12-18T20:41:58.275810Z",
     "iopub.status.busy": "2024-12-18T20:41:58.275341Z",
     "iopub.status.idle": "2024-12-18T20:41:58.279725Z",
     "shell.execute_reply": "2024-12-18T20:41:58.278679Z",
     "shell.execute_reply.started": "2024-12-18T20:41:58.275780Z"
    },
    "jupyter": {
     "source_hidden": true
    }
   },
   "outputs": [],
   "source": [
    "# plot_cumulative_pnl(tb)\n",
    "# print(tb['PnL w cs'].sum())"
   ]
  },
  {
   "cell_type": "code",
   "execution_count": 116,
   "id": "7244bad9-508f-4d00-a589-b0c4b9976679",
   "metadata": {
    "execution": {
     "iopub.execute_input": "2024-12-18T20:41:58.386253Z",
     "iopub.status.busy": "2024-12-18T20:41:58.385986Z",
     "iopub.status.idle": "2024-12-18T20:41:58.390755Z",
     "shell.execute_reply": "2024-12-18T20:41:58.389690Z",
     "shell.execute_reply.started": "2024-12-18T20:41:58.386237Z"
    },
    "jupyter": {
     "source_hidden": true
    },
    "scrolled": true
   },
   "outputs": [],
   "source": [
    "# plot_cumulative_pnl(tb2)\n",
    "# print(tb2['PnL w cs'].sum())"
   ]
  },
  {
   "cell_type": "code",
   "execution_count": 117,
   "id": "1973f6b1-8cdc-42de-901f-b6b08e480d5c",
   "metadata": {
    "execution": {
     "iopub.execute_input": "2024-12-18T20:41:58.496022Z",
     "iopub.status.busy": "2024-12-18T20:41:58.495617Z",
     "iopub.status.idle": "2024-12-18T20:41:58.504336Z",
     "shell.execute_reply": "2024-12-18T20:41:58.503372Z",
     "shell.execute_reply.started": "2024-12-18T20:41:58.496001Z"
    },
    "jupyter": {
     "source_hidden": true
    }
   },
   "outputs": [],
   "source": [
    "def generate_stats(tb_expiry, variation):\n",
    "    stats_df8 = pd.DataFrame(\n",
    "        index=range(2017, 2025),\n",
    "        columns=[\n",
    "            \"Total ROI\",\n",
    "            \"Total Trades\",\n",
    "            \"Win Rate\",\n",
    "            \"Avg Profit% per Trade\",\n",
    "            \"Avg Loss% per Trade\",\n",
    "            \"Max Drawdown\",\n",
    "            \"ROI/DD Ratio\",\n",
    "            \"Variation\",\n",
    "        ],\n",
    "    )\n",
    "    combined_df_sorted = tb_expiry\n",
    "    # combined_df_sorted = tb_expiry_ce\n",
    "    # combined_df_sorted = tb_expiry_pe\n",
    "    \n",
    "    # Iterate over each year\n",
    "    for year in range(2017, 2025):\n",
    "        # Filter trades for the current year\n",
    "        year_trades = combined_df_sorted[(combined_df_sorted[\"Trade Year\"] == year)]\n",
    "    \n",
    "        # Calculate total ROI\n",
    "        total_roi = year_trades[\"ROI%\"].sum()\n",
    "    \n",
    "        # Calculate total number of trades\n",
    "        total_trades = len(year_trades)\n",
    "    \n",
    "        # Calculate win rate\n",
    "        win_rate = (year_trades[\"ROI%\"] > 0).mean() * 100\n",
    "    \n",
    "        # Calculate average profit per trade\n",
    "        avg_profit = year_trades[year_trades[\"ROI%\"] > 0][\"ROI%\"].mean()\n",
    "    \n",
    "        # Calculate average loss per trade\n",
    "        avg_loss = year_trades[year_trades[\"ROI%\"] < 0][\"ROI%\"].mean()\n",
    "    \n",
    "        # Calculate maximum drawdown\n",
    "        max_drawdown = (\n",
    "            year_trades[\"ROI%\"].cumsum() - year_trades[\"ROI%\"].cumsum().cummax()\n",
    "        ).min()\n",
    "    \n",
    "        # Calculate ROI/DD ratio\n",
    "        roi_dd_ratio = total_roi / abs(max_drawdown)\n",
    "\n",
    "        variation = variation\n",
    "    \n",
    "        # Store the statistics in the DataFrame\n",
    "        stats_df8.loc[year] = [\n",
    "            total_roi,\n",
    "            total_trades,\n",
    "            win_rate,\n",
    "            avg_profit,\n",
    "            avg_loss,\n",
    "            max_drawdown,\n",
    "            roi_dd_ratio,\n",
    "            variation,\n",
    "        ]\n",
    "    \n",
    "    # Calculate overall statistics\n",
    "    overall_total_roi = stats_df8[\"Total ROI\"].sum()\n",
    "    overall_total_trades = stats_df8[\"Total Trades\"].sum()\n",
    "    overall_win_rate = (combined_df_sorted[\"ROI%\"] > 0).mean() * 100\n",
    "    overall_avg_profit = combined_df_sorted[combined_df_sorted[\"ROI%\"] > 0][\"ROI%\"].mean()\n",
    "    overall_avg_loss = combined_df_sorted[combined_df_sorted[\"ROI%\"] < 0][\"ROI%\"].mean()\n",
    "    overall_max_drawdown = (\n",
    "        combined_df_sorted[\"ROI%\"].cumsum() - combined_df_sorted[\"ROI%\"].cumsum().cummax()\n",
    "    ).min()\n",
    "    overall_roi_dd_ratio = overall_total_roi / abs(overall_max_drawdown)\n",
    "    overall_variation = variation\n",
    "\n",
    "    \n",
    "    # Store the overall statistics in the DataFrame\n",
    "    stats_df8.loc[\"Overall\"] = [\n",
    "        overall_total_roi,\n",
    "        overall_total_trades,\n",
    "        overall_win_rate,\n",
    "        overall_avg_profit,\n",
    "        overall_avg_loss,\n",
    "        overall_max_drawdown,\n",
    "        overall_roi_dd_ratio,\n",
    "        overall_variation,\n",
    "    ]\n",
    "    \n",
    "    # print(f'{overall_total_roi} , {overall_max_drawdown} , {overall_roi_dd_ratio}')\n",
    "    \n",
    "    return {overall_roi_dd_ratio: stats_df8}"
   ]
  },
  {
   "cell_type": "code",
   "execution_count": 118,
   "id": "938db9b0-6567-409a-9b16-690925e5ce28",
   "metadata": {
    "execution": {
     "iopub.execute_input": "2024-12-18T20:41:58.624827Z",
     "iopub.status.busy": "2024-12-18T20:41:58.623689Z",
     "iopub.status.idle": "2024-12-18T20:41:58.630604Z",
     "shell.execute_reply": "2024-12-18T20:41:58.629329Z",
     "shell.execute_reply.started": "2024-12-18T20:41:58.624808Z"
    }
   },
   "outputs": [],
   "source": [
    "tb['Entry_Date'] = pd.to_datetime(tb['Entry_Date'])\n",
    "tb['Trade Year'] = tb['Entry_Date'].dt.year\n",
    "# tb['ROI% w cs'] = tb['ROI%']"
   ]
  },
  {
   "cell_type": "code",
   "execution_count": 119,
   "id": "a4e10729-5889-49f6-8386-e32f6a921b36",
   "metadata": {
    "execution": {
     "iopub.execute_input": "2024-12-18T20:41:59.237255Z",
     "iopub.status.busy": "2024-12-18T20:41:59.236969Z",
     "iopub.status.idle": "2024-12-18T20:41:59.283501Z",
     "shell.execute_reply": "2024-12-18T20:41:59.282280Z",
     "shell.execute_reply.started": "2024-12-18T20:41:59.237238Z"
    }
   },
   "outputs": [
    {
     "data": {
      "text/html": [
       "<div>\n",
       "<style scoped>\n",
       "    .dataframe tbody tr th:only-of-type {\n",
       "        vertical-align: middle;\n",
       "    }\n",
       "\n",
       "    .dataframe tbody tr th {\n",
       "        vertical-align: top;\n",
       "    }\n",
       "\n",
       "    .dataframe thead th {\n",
       "        text-align: right;\n",
       "    }\n",
       "</style>\n",
       "<table border=\"1\" class=\"dataframe\">\n",
       "  <thead>\n",
       "    <tr style=\"text-align: right;\">\n",
       "      <th></th>\n",
       "      <th>Total ROI</th>\n",
       "      <th>Total Trades</th>\n",
       "      <th>Win Rate</th>\n",
       "      <th>Avg Profit% per Trade</th>\n",
       "      <th>Avg Loss% per Trade</th>\n",
       "      <th>Max Drawdown</th>\n",
       "      <th>ROI/DD Ratio</th>\n",
       "      <th>Variation</th>\n",
       "    </tr>\n",
       "  </thead>\n",
       "  <tbody>\n",
       "    <tr>\n",
       "      <th>2017</th>\n",
       "      <td>112.0171</td>\n",
       "      <td>53</td>\n",
       "      <td>39.6226</td>\n",
       "      <td>11.0437</td>\n",
       "      <td>-3.7469</td>\n",
       "      <td>-17.0333</td>\n",
       "      <td>6.5764</td>\n",
       "      <td>...</td>\n",
       "    </tr>\n",
       "    <tr>\n",
       "      <th>2018</th>\n",
       "      <td>112.1797</td>\n",
       "      <td>46</td>\n",
       "      <td>50.0000</td>\n",
       "      <td>8.4714</td>\n",
       "      <td>-3.5940</td>\n",
       "      <td>-22.0726</td>\n",
       "      <td>5.0823</td>\n",
       "      <td>...</td>\n",
       "    </tr>\n",
       "    <tr>\n",
       "      <th>2019</th>\n",
       "      <td>120.6647</td>\n",
       "      <td>55</td>\n",
       "      <td>40.0000</td>\n",
       "      <td>10.3829</td>\n",
       "      <td>-3.2654</td>\n",
       "      <td>-34.1429</td>\n",
       "      <td>3.5341</td>\n",
       "      <td>...</td>\n",
       "    </tr>\n",
       "    <tr>\n",
       "      <th>2020</th>\n",
       "      <td>205.3851</td>\n",
       "      <td>60</td>\n",
       "      <td>38.3333</td>\n",
       "      <td>14.6917</td>\n",
       "      <td>-3.5818</td>\n",
       "      <td>-24.8794</td>\n",
       "      <td>8.2552</td>\n",
       "      <td>...</td>\n",
       "    </tr>\n",
       "    <tr>\n",
       "      <th>2021</th>\n",
       "      <td>75.7396</td>\n",
       "      <td>66</td>\n",
       "      <td>37.8788</td>\n",
       "      <td>8.1147</td>\n",
       "      <td>-3.1007</td>\n",
       "      <td>-39.7020</td>\n",
       "      <td>1.9077</td>\n",
       "      <td>...</td>\n",
       "    </tr>\n",
       "    <tr>\n",
       "      <th>2022</th>\n",
       "      <td>66.9709</td>\n",
       "      <td>58</td>\n",
       "      <td>25.8621</td>\n",
       "      <td>13.6102</td>\n",
       "      <td>-3.1903</td>\n",
       "      <td>-40.5937</td>\n",
       "      <td>1.6498</td>\n",
       "      <td>...</td>\n",
       "    </tr>\n",
       "    <tr>\n",
       "      <th>2023</th>\n",
       "      <td>171.2681</td>\n",
       "      <td>47</td>\n",
       "      <td>40.4255</td>\n",
       "      <td>13.4666</td>\n",
       "      <td>-3.0213</td>\n",
       "      <td>-21.7887</td>\n",
       "      <td>7.8604</td>\n",
       "      <td>...</td>\n",
       "    </tr>\n",
       "    <tr>\n",
       "      <th>2024</th>\n",
       "      <td>92.2566</td>\n",
       "      <td>46</td>\n",
       "      <td>39.1304</td>\n",
       "      <td>9.4338</td>\n",
       "      <td>-2.8723</td>\n",
       "      <td>-19.9432</td>\n",
       "      <td>4.6260</td>\n",
       "      <td>...</td>\n",
       "    </tr>\n",
       "    <tr>\n",
       "      <th>Overall</th>\n",
       "      <td>956.4819</td>\n",
       "      <td>431</td>\n",
       "      <td>38.5151</td>\n",
       "      <td>10.9987</td>\n",
       "      <td>-3.2928</td>\n",
       "      <td>-40.5937</td>\n",
       "      <td>23.5623</td>\n",
       "      <td>...</td>\n",
       "    </tr>\n",
       "  </tbody>\n",
       "</table>\n",
       "</div>"
      ],
      "text/plain": [
       "        Total ROI Total Trades Win Rate Avg Profit% per Trade  \\\n",
       "2017     112.0171           53  39.6226               11.0437   \n",
       "2018     112.1797           46  50.0000                8.4714   \n",
       "2019     120.6647           55  40.0000               10.3829   \n",
       "2020     205.3851           60  38.3333               14.6917   \n",
       "2021      75.7396           66  37.8788                8.1147   \n",
       "2022      66.9709           58  25.8621               13.6102   \n",
       "2023     171.2681           47  40.4255               13.4666   \n",
       "2024      92.2566           46  39.1304                9.4338   \n",
       "Overall  956.4819          431  38.5151               10.9987   \n",
       "\n",
       "        Avg Loss% per Trade Max Drawdown ROI/DD Ratio Variation  \n",
       "2017                -3.7469     -17.0333       6.5764       ...  \n",
       "2018                -3.5940     -22.0726       5.0823       ...  \n",
       "2019                -3.2654     -34.1429       3.5341       ...  \n",
       "2020                -3.5818     -24.8794       8.2552       ...  \n",
       "2021                -3.1007     -39.7020       1.9077       ...  \n",
       "2022                -3.1903     -40.5937       1.6498       ...  \n",
       "2023                -3.0213     -21.7887       7.8604       ...  \n",
       "2024                -2.8723     -19.9432       4.6260       ...  \n",
       "Overall             -3.2928     -40.5937      23.5623       ...  "
      ]
     },
     "execution_count": 119,
     "metadata": {},
     "output_type": "execute_result"
    }
   ],
   "source": [
    "stats = generate_stats(tb, '...')\n",
    "lol = pd.DataFrame()\n",
    "for x, y in stats.items():\n",
    "    lol = pd.DataFrame(y)\n",
    "\n",
    "lol"
   ]
  },
  {
   "cell_type": "markdown",
   "id": "2551dda7-5013-42ee-9c38-147beabe4ee9",
   "metadata": {},
   "source": [
    "# Gold 4H X_Days High, Y_Days Low "
   ]
  },
  {
   "cell_type": "code",
   "execution_count": 120,
   "id": "557af72c-768d-4228-9dc3-6932a817a1a5",
   "metadata": {
    "execution": {
     "iopub.execute_input": "2024-12-18T20:42:01.565669Z",
     "iopub.status.busy": "2024-12-18T20:42:01.565410Z",
     "iopub.status.idle": "2024-12-18T20:42:01.574954Z",
     "shell.execute_reply": "2024-12-18T20:42:01.574137Z",
     "shell.execute_reply.started": "2024-12-18T20:42:01.565652Z"
    }
   },
   "outputs": [
    {
     "data": {
      "text/plain": [
       "(956.4818674323909, 0)"
      ]
     },
     "execution_count": 120,
     "metadata": {},
     "output_type": "execute_result"
    }
   ],
   "source": [
    "tb1 = tb[tb['Trade_Type'] == 'Long']\n",
    "tb2 = tb[tb['Trade_Type'] == 'Add_Long']\n",
    "tb1['ROI%'].sum() , tb2['ROI%'].sum()"
   ]
  },
  {
   "cell_type": "code",
   "execution_count": 121,
   "id": "97055e75-731e-4420-83a0-4c715364050a",
   "metadata": {
    "execution": {
     "iopub.execute_input": "2024-12-18T20:42:01.677863Z",
     "iopub.status.busy": "2024-12-18T20:42:01.677249Z",
     "iopub.status.idle": "2024-12-18T20:42:01.694286Z",
     "shell.execute_reply": "2024-12-18T20:42:01.692991Z",
     "shell.execute_reply.started": "2024-12-18T20:42:01.677845Z"
    },
    "scrolled": true
   },
   "outputs": [
    {
     "data": {
      "text/html": [
       "<div>\n",
       "<style scoped>\n",
       "    .dataframe tbody tr th:only-of-type {\n",
       "        vertical-align: middle;\n",
       "    }\n",
       "\n",
       "    .dataframe tbody tr th {\n",
       "        vertical-align: top;\n",
       "    }\n",
       "\n",
       "    .dataframe thead th {\n",
       "        text-align: right;\n",
       "    }\n",
       "</style>\n",
       "<table border=\"1\" class=\"dataframe\">\n",
       "  <thead>\n",
       "    <tr style=\"text-align: right;\">\n",
       "      <th></th>\n",
       "      <th>index</th>\n",
       "      <th>Trade No.</th>\n",
       "      <th>Entry_Date</th>\n",
       "      <th>Exit_Date</th>\n",
       "      <th>Trade_Type</th>\n",
       "      <th>Entry_Price</th>\n",
       "      <th>Previous MA Value</th>\n",
       "      <th>Initial SL</th>\n",
       "      <th>Exit_Price</th>\n",
       "      <th>Exit Remark</th>\n",
       "      <th>PnL</th>\n",
       "      <th>Slippage</th>\n",
       "      <th>PnL w cs</th>\n",
       "      <th>Qty</th>\n",
       "      <th>Profit_Loss INR</th>\n",
       "      <th>ROI%</th>\n",
       "      <th>Trade Year</th>\n",
       "    </tr>\n",
       "  </thead>\n",
       "  <tbody>\n",
       "    <tr>\n",
       "      <th>406</th>\n",
       "      <td>406</td>\n",
       "      <td>406</td>\n",
       "      <td>2024-04-29 10:15:00+05:30</td>\n",
       "      <td>2024-04-30 14:15:00+05:30</td>\n",
       "      <td>Long</td>\n",
       "      <td>74289.9100</td>\n",
       "      <td>74020.9433</td>\n",
       "      <td>73915.6567</td>\n",
       "      <td>74478.9300</td>\n",
       "      <td>Trailing SL Hit</td>\n",
       "      <td>189.0200</td>\n",
       "      <td>14.8769</td>\n",
       "      <td>174.1431</td>\n",
       "      <td>1335.9934</td>\n",
       "      <td>232654.0614</td>\n",
       "      <td>2.3265</td>\n",
       "      <td>2024</td>\n",
       "    </tr>\n",
       "    <tr>\n",
       "      <th>407</th>\n",
       "      <td>407</td>\n",
       "      <td>407</td>\n",
       "      <td>2024-05-13 13:15:00+05:30</td>\n",
       "      <td>2024-05-16 10:15:00+05:30</td>\n",
       "      <td>Long</td>\n",
       "      <td>72775.8000</td>\n",
       "      <td>72391.1533</td>\n",
       "      <td>72229.9500</td>\n",
       "      <td>72844.6900</td>\n",
       "      <td>Trailing SL Hit</td>\n",
       "      <td>68.8900</td>\n",
       "      <td>14.5620</td>\n",
       "      <td>54.3280</td>\n",
       "      <td>916.0026</td>\n",
       "      <td>49764.5425</td>\n",
       "      <td>0.4976</td>\n",
       "      <td>2024</td>\n",
       "    </tr>\n",
       "    <tr>\n",
       "      <th>408</th>\n",
       "      <td>408</td>\n",
       "      <td>408</td>\n",
       "      <td>2024-05-16 14:15:00+05:30</td>\n",
       "      <td>2024-05-28 14:15:00+05:30</td>\n",
       "      <td>Long</td>\n",
       "      <td>73645.7700</td>\n",
       "      <td>73156.0767</td>\n",
       "      <td>72599.6800</td>\n",
       "      <td>75209.0600</td>\n",
       "      <td>Trailing SL Hit</td>\n",
       "      <td>1563.2900</td>\n",
       "      <td>14.8855</td>\n",
       "      <td>1548.4045</td>\n",
       "      <td>477.9703</td>\n",
       "      <td>740091.4439</td>\n",
       "      <td>7.4009</td>\n",
       "      <td>2024</td>\n",
       "    </tr>\n",
       "    <tr>\n",
       "      <th>409</th>\n",
       "      <td>409</td>\n",
       "      <td>409</td>\n",
       "      <td>2024-06-03 09:15:00+05:30</td>\n",
       "      <td>2024-06-04 09:15:00+05:30</td>\n",
       "      <td>Long</td>\n",
       "      <td>76101.7700</td>\n",
       "      <td>74250.0367</td>\n",
       "      <td>74463.4033</td>\n",
       "      <td>74463.4033</td>\n",
       "      <td>Initial SL Hit</td>\n",
       "      <td>-1638.3667</td>\n",
       "      <td>15.0565</td>\n",
       "      <td>-1653.4232</td>\n",
       "      <td>305.1820</td>\n",
       "      <td>-504594.9779</td>\n",
       "      <td>-5.0459</td>\n",
       "      <td>2024</td>\n",
       "    </tr>\n",
       "    <tr>\n",
       "      <th>410</th>\n",
       "      <td>410</td>\n",
       "      <td>410</td>\n",
       "      <td>2024-06-05 13:15:00+05:30</td>\n",
       "      <td>2024-06-21 10:15:00+05:30</td>\n",
       "      <td>Long</td>\n",
       "      <td>73919.9500</td>\n",
       "      <td>73714.7333</td>\n",
       "      <td>73292.1433</td>\n",
       "      <td>77242.6400</td>\n",
       "      <td>Trailing SL Hit</td>\n",
       "      <td>3322.6900</td>\n",
       "      <td>15.1163</td>\n",
       "      <td>3307.5737</td>\n",
       "      <td>796.4235</td>\n",
       "      <td>2634229.5460</td>\n",
       "      <td>26.3423</td>\n",
       "      <td>2024</td>\n",
       "    </tr>\n",
       "    <tr>\n",
       "      <th>411</th>\n",
       "      <td>411</td>\n",
       "      <td>411</td>\n",
       "      <td>2024-06-25 12:15:00+05:30</td>\n",
       "      <td>2024-07-05 09:15:00+05:30</td>\n",
       "      <td>Long</td>\n",
       "      <td>77908.7900</td>\n",
       "      <td>77625.3400</td>\n",
       "      <td>77522.7800</td>\n",
       "      <td>79680.7400</td>\n",
       "      <td>Trailing SL Hit</td>\n",
       "      <td>1771.9500</td>\n",
       "      <td>15.7590</td>\n",
       "      <td>1756.1910</td>\n",
       "      <td>1295.3032</td>\n",
       "      <td>2274799.9365</td>\n",
       "      <td>22.7480</td>\n",
       "      <td>2024</td>\n",
       "    </tr>\n",
       "    <tr>\n",
       "      <th>412</th>\n",
       "      <td>412</td>\n",
       "      <td>412</td>\n",
       "      <td>2024-07-12 10:15:00+05:30</td>\n",
       "      <td>2024-07-18 10:15:00+05:30</td>\n",
       "      <td>Long</td>\n",
       "      <td>80625.4100</td>\n",
       "      <td>80080.8733</td>\n",
       "      <td>79889.2733</td>\n",
       "      <td>80518.2500</td>\n",
       "      <td>Trailing SL Hit</td>\n",
       "      <td>-107.1600</td>\n",
       "      <td>16.1144</td>\n",
       "      <td>-123.2744</td>\n",
       "      <td>679.2217</td>\n",
       "      <td>-83730.6247</td>\n",
       "      <td>-0.8373</td>\n",
       "      <td>2024</td>\n",
       "    </tr>\n",
       "    <tr>\n",
       "      <th>413</th>\n",
       "      <td>413</td>\n",
       "      <td>413</td>\n",
       "      <td>2024-07-18 12:15:00+05:30</td>\n",
       "      <td>2024-07-19 12:15:00+05:30</td>\n",
       "      <td>Long</td>\n",
       "      <td>81101.6500</td>\n",
       "      <td>80849.2233</td>\n",
       "      <td>80555.9500</td>\n",
       "      <td>80851.6700</td>\n",
       "      <td>Trailing SL Hit</td>\n",
       "      <td>-249.9800</td>\n",
       "      <td>16.1953</td>\n",
       "      <td>-266.1753</td>\n",
       "      <td>916.2544</td>\n",
       "      <td>-243884.3064</td>\n",
       "      <td>-2.4388</td>\n",
       "      <td>2024</td>\n",
       "    </tr>\n",
       "    <tr>\n",
       "      <th>414</th>\n",
       "      <td>414</td>\n",
       "      <td>414</td>\n",
       "      <td>2024-07-26 09:15:00+05:30</td>\n",
       "      <td>2024-08-02 09:15:00+05:30</td>\n",
       "      <td>Long</td>\n",
       "      <td>80534.8700</td>\n",
       "      <td>80124.3600</td>\n",
       "      <td>79999.3033</td>\n",
       "      <td>81126.7400</td>\n",
       "      <td>Trailing SL Hit</td>\n",
       "      <td>591.8700</td>\n",
       "      <td>16.1662</td>\n",
       "      <td>575.7038</td>\n",
       "      <td>933.5906</td>\n",
       "      <td>537471.6864</td>\n",
       "      <td>5.3747</td>\n",
       "      <td>2024</td>\n",
       "    </tr>\n",
       "    <tr>\n",
       "      <th>415</th>\n",
       "      <td>415</td>\n",
       "      <td>415</td>\n",
       "      <td>2024-08-09 09:15:00+05:30</td>\n",
       "      <td>2024-08-12 09:15:00+05:30</td>\n",
       "      <td>Long</td>\n",
       "      <td>79718.0800</td>\n",
       "      <td>79055.9333</td>\n",
       "      <td>79086.7333</td>\n",
       "      <td>79363.1100</td>\n",
       "      <td>Trailing SL Hit</td>\n",
       "      <td>-354.9700</td>\n",
       "      <td>15.9081</td>\n",
       "      <td>-370.8781</td>\n",
       "      <td>791.9579</td>\n",
       "      <td>-293719.8678</td>\n",
       "      <td>-2.9372</td>\n",
       "      <td>2024</td>\n",
       "    </tr>\n",
       "    <tr>\n",
       "      <th>416</th>\n",
       "      <td>416</td>\n",
       "      <td>416</td>\n",
       "      <td>2024-08-12 10:15:00+05:30</td>\n",
       "      <td>2024-08-13 09:15:00+05:30</td>\n",
       "      <td>Long</td>\n",
       "      <td>79994.9600</td>\n",
       "      <td>79711.3633</td>\n",
       "      <td>79417.6600</td>\n",
       "      <td>79572.2900</td>\n",
       "      <td>Trailing SL Hit</td>\n",
       "      <td>-422.6700</td>\n",
       "      <td>15.9567</td>\n",
       "      <td>-438.6267</td>\n",
       "      <td>866.1008</td>\n",
       "      <td>-379894.9636</td>\n",
       "      <td>-3.7989</td>\n",
       "      <td>2024</td>\n",
       "    </tr>\n",
       "    <tr>\n",
       "      <th>417</th>\n",
       "      <td>417</td>\n",
       "      <td>417</td>\n",
       "      <td>2024-08-16 09:15:00+05:30</td>\n",
       "      <td>2024-09-04 09:15:00+05:30</td>\n",
       "      <td>Long</td>\n",
       "      <td>79591.3500</td>\n",
       "      <td>79178.9767</td>\n",
       "      <td>79206.3300</td>\n",
       "      <td>82185.1700</td>\n",
       "      <td>Trailing SL Hit</td>\n",
       "      <td>2593.8200</td>\n",
       "      <td>16.1777</td>\n",
       "      <td>2577.6423</td>\n",
       "      <td>1298.6338</td>\n",
       "      <td>3347413.5733</td>\n",
       "      <td>33.4741</td>\n",
       "      <td>2024</td>\n",
       "    </tr>\n",
       "    <tr>\n",
       "      <th>418</th>\n",
       "      <td>418</td>\n",
       "      <td>418</td>\n",
       "      <td>2024-09-10 12:15:00+05:30</td>\n",
       "      <td>2024-09-11 13:15:00+05:30</td>\n",
       "      <td>Long</td>\n",
       "      <td>82095.7200</td>\n",
       "      <td>81817.1033</td>\n",
       "      <td>81681.0067</td>\n",
       "      <td>81681.0067</td>\n",
       "      <td>Initial SL Hit</td>\n",
       "      <td>-414.7133</td>\n",
       "      <td>16.3777</td>\n",
       "      <td>-431.0910</td>\n",
       "      <td>1205.6521</td>\n",
       "      <td>-519745.7754</td>\n",
       "      <td>-5.1975</td>\n",
       "      <td>2024</td>\n",
       "    </tr>\n",
       "    <tr>\n",
       "      <th>419</th>\n",
       "      <td>419</td>\n",
       "      <td>419</td>\n",
       "      <td>2024-09-12 13:15:00+05:30</td>\n",
       "      <td>2024-09-18 13:15:00+05:30</td>\n",
       "      <td>Long</td>\n",
       "      <td>82373.8600</td>\n",
       "      <td>81789.4333</td>\n",
       "      <td>81591.8367</td>\n",
       "      <td>82893.5700</td>\n",
       "      <td>Trailing SL Hit</td>\n",
       "      <td>519.7100</td>\n",
       "      <td>16.5267</td>\n",
       "      <td>503.1833</td>\n",
       "      <td>639.3671</td>\n",
       "      <td>321718.8257</td>\n",
       "      <td>3.2172</td>\n",
       "      <td>2024</td>\n",
       "    </tr>\n",
       "    <tr>\n",
       "      <th>420</th>\n",
       "      <td>420</td>\n",
       "      <td>420</td>\n",
       "      <td>2024-09-19 09:15:00+05:30</td>\n",
       "      <td>2024-09-30 09:15:00+05:30</td>\n",
       "      <td>Long</td>\n",
       "      <td>83465.5700</td>\n",
       "      <td>83034.2200</td>\n",
       "      <td>83011.5567</td>\n",
       "      <td>84876.9100</td>\n",
       "      <td>Trailing SL Hit</td>\n",
       "      <td>1411.3400</td>\n",
       "      <td>16.8342</td>\n",
       "      <td>1394.5058</td>\n",
       "      <td>1101.2892</td>\n",
       "      <td>1535754.1834</td>\n",
       "      <td>15.3575</td>\n",
       "      <td>2024</td>\n",
       "    </tr>\n",
       "    <tr>\n",
       "      <th>421</th>\n",
       "      <td>421</td>\n",
       "      <td>421</td>\n",
       "      <td>2024-10-09 09:15:00+05:30</td>\n",
       "      <td>2024-10-09 12:15:00+05:30</td>\n",
       "      <td>Long</td>\n",
       "      <td>82145.5600</td>\n",
       "      <td>81753.6800</td>\n",
       "      <td>81558.2233</td>\n",
       "      <td>81871.5500</td>\n",
       "      <td>Trailing SL Hit</td>\n",
       "      <td>-274.0100</td>\n",
       "      <td>16.4017</td>\n",
       "      <td>-290.4117</td>\n",
       "      <td>851.3005</td>\n",
       "      <td>-247227.6358</td>\n",
       "      <td>-2.4723</td>\n",
       "      <td>2024</td>\n",
       "    </tr>\n",
       "    <tr>\n",
       "      <th>422</th>\n",
       "      <td>422</td>\n",
       "      <td>422</td>\n",
       "      <td>2024-10-14 09:15:00+05:30</td>\n",
       "      <td>2024-10-15 09:15:00+05:30</td>\n",
       "      <td>Long</td>\n",
       "      <td>81820.0100</td>\n",
       "      <td>81458.4200</td>\n",
       "      <td>81401.0400</td>\n",
       "      <td>81773.9100</td>\n",
       "      <td>Trailing SL Hit</td>\n",
       "      <td>-46.1000</td>\n",
       "      <td>16.3594</td>\n",
       "      <td>-62.4594</td>\n",
       "      <td>1193.4029</td>\n",
       "      <td>-74539.2176</td>\n",
       "      <td>-0.7454</td>\n",
       "      <td>2024</td>\n",
       "    </tr>\n",
       "    <tr>\n",
       "      <th>423</th>\n",
       "      <td>423</td>\n",
       "      <td>423</td>\n",
       "      <td>2024-10-18 13:15:00+05:30</td>\n",
       "      <td>2024-10-18 14:15:00+05:30</td>\n",
       "      <td>Long</td>\n",
       "      <td>81335.0600</td>\n",
       "      <td>81130.2000</td>\n",
       "      <td>80995.5133</td>\n",
       "      <td>81209.7700</td>\n",
       "      <td>Trailing SL Hit</td>\n",
       "      <td>-125.2900</td>\n",
       "      <td>16.2545</td>\n",
       "      <td>-141.5445</td>\n",
       "      <td>1472.5516</td>\n",
       "      <td>-208431.5602</td>\n",
       "      <td>-2.0843</td>\n",
       "      <td>2024</td>\n",
       "    </tr>\n",
       "    <tr>\n",
       "      <th>424</th>\n",
       "      <td>424</td>\n",
       "      <td>424</td>\n",
       "      <td>2024-10-28 09:15:00+05:30</td>\n",
       "      <td>2024-10-29 09:15:00+05:30</td>\n",
       "      <td>Long</td>\n",
       "      <td>79908.8400</td>\n",
       "      <td>79473.0033</td>\n",
       "      <td>79331.8400</td>\n",
       "      <td>79688.5200</td>\n",
       "      <td>Trailing SL Hit</td>\n",
       "      <td>-220.3200</td>\n",
       "      <td>15.9597</td>\n",
       "      <td>-236.2797</td>\n",
       "      <td>866.5511</td>\n",
       "      <td>-204748.4714</td>\n",
       "      <td>-2.0475</td>\n",
       "      <td>2024</td>\n",
       "    </tr>\n",
       "    <tr>\n",
       "      <th>425</th>\n",
       "      <td>425</td>\n",
       "      <td>425</td>\n",
       "      <td>2024-10-29 13:15:00+05:30</td>\n",
       "      <td>2024-10-30 13:15:00+05:30</td>\n",
       "      <td>Long</td>\n",
       "      <td>80290.6000</td>\n",
       "      <td>79898.4100</td>\n",
       "      <td>79728.7833</td>\n",
       "      <td>79870.6400</td>\n",
       "      <td>Trailing SL Hit</td>\n",
       "      <td>-419.9600</td>\n",
       "      <td>16.0161</td>\n",
       "      <td>-435.9761</td>\n",
       "      <td>889.9700</td>\n",
       "      <td>-388005.6875</td>\n",
       "      <td>-3.8801</td>\n",
       "      <td>2024</td>\n",
       "    </tr>\n",
       "    <tr>\n",
       "      <th>426</th>\n",
       "      <td>426</td>\n",
       "      <td>426</td>\n",
       "      <td>2024-11-05 13:15:00+05:30</td>\n",
       "      <td>2024-11-07 09:15:00+05:30</td>\n",
       "      <td>Long</td>\n",
       "      <td>79325.9300</td>\n",
       "      <td>78760.2867</td>\n",
       "      <td>78348.8033</td>\n",
       "      <td>79520.6700</td>\n",
       "      <td>Trailing SL Hit</td>\n",
       "      <td>194.7400</td>\n",
       "      <td>15.8847</td>\n",
       "      <td>178.8553</td>\n",
       "      <td>511.7044</td>\n",
       "      <td>91521.0618</td>\n",
       "      <td>0.9152</td>\n",
       "      <td>2024</td>\n",
       "    </tr>\n",
       "    <tr>\n",
       "      <th>427</th>\n",
       "      <td>427</td>\n",
       "      <td>427</td>\n",
       "      <td>2024-11-11 10:15:00+05:30</td>\n",
       "      <td>2024-11-11 13:15:00+05:30</td>\n",
       "      <td>Long</td>\n",
       "      <td>80016.8900</td>\n",
       "      <td>79551.5533</td>\n",
       "      <td>79225.1000</td>\n",
       "      <td>79399.0000</td>\n",
       "      <td>Trailing SL Hit</td>\n",
       "      <td>-617.8900</td>\n",
       "      <td>15.9416</td>\n",
       "      <td>-633.8316</td>\n",
       "      <td>631.4806</td>\n",
       "      <td>-400252.3327</td>\n",
       "      <td>-4.0025</td>\n",
       "      <td>2024</td>\n",
       "    </tr>\n",
       "    <tr>\n",
       "      <th>428</th>\n",
       "      <td>428</td>\n",
       "      <td>428</td>\n",
       "      <td>2024-11-19 09:15:00+05:30</td>\n",
       "      <td>2024-11-19 14:15:00+05:30</td>\n",
       "      <td>Long</td>\n",
       "      <td>78113.3800</td>\n",
       "      <td>77433.1433</td>\n",
       "      <td>77341.9800</td>\n",
       "      <td>77502.4400</td>\n",
       "      <td>Trailing SL Hit</td>\n",
       "      <td>-610.9400</td>\n",
       "      <td>15.5616</td>\n",
       "      <td>-626.5016</td>\n",
       "      <td>648.1722</td>\n",
       "      <td>-406080.8802</td>\n",
       "      <td>-4.0608</td>\n",
       "      <td>2024</td>\n",
       "    </tr>\n",
       "    <tr>\n",
       "      <th>429</th>\n",
       "      <td>429</td>\n",
       "      <td>429</td>\n",
       "      <td>2024-11-22 09:15:00+05:30</td>\n",
       "      <td>2024-11-28 10:15:00+05:30</td>\n",
       "      <td>Long</td>\n",
       "      <td>77908.6200</td>\n",
       "      <td>77198.0233</td>\n",
       "      <td>77140.4167</td>\n",
       "      <td>79569.3800</td>\n",
       "      <td>Trailing SL Hit</td>\n",
       "      <td>1660.7600</td>\n",
       "      <td>15.7478</td>\n",
       "      <td>1645.0122</td>\n",
       "      <td>650.8693</td>\n",
       "      <td>1070688.0123</td>\n",
       "      <td>10.7069</td>\n",
       "      <td>2024</td>\n",
       "    </tr>\n",
       "    <tr>\n",
       "      <th>430</th>\n",
       "      <td>430</td>\n",
       "      <td>430</td>\n",
       "      <td>2024-11-29 10:15:00+05:30</td>\n",
       "      <td>None</td>\n",
       "      <td>Long</td>\n",
       "      <td>79766.1000</td>\n",
       "      <td>79348.5900</td>\n",
       "      <td>79080.9300</td>\n",
       "      <td>None</td>\n",
       "      <td>NaN</td>\n",
       "      <td>NaN</td>\n",
       "      <td>NaN</td>\n",
       "      <td>NaN</td>\n",
       "      <td>729.7459</td>\n",
       "      <td>NaN</td>\n",
       "      <td>NaN</td>\n",
       "      <td>2024</td>\n",
       "    </tr>\n",
       "  </tbody>\n",
       "</table>\n",
       "</div>"
      ],
      "text/plain": [
       "     index  Trade No.                Entry_Date                  Exit_Date  \\\n",
       "406    406        406 2024-04-29 10:15:00+05:30  2024-04-30 14:15:00+05:30   \n",
       "407    407        407 2024-05-13 13:15:00+05:30  2024-05-16 10:15:00+05:30   \n",
       "408    408        408 2024-05-16 14:15:00+05:30  2024-05-28 14:15:00+05:30   \n",
       "409    409        409 2024-06-03 09:15:00+05:30  2024-06-04 09:15:00+05:30   \n",
       "410    410        410 2024-06-05 13:15:00+05:30  2024-06-21 10:15:00+05:30   \n",
       "411    411        411 2024-06-25 12:15:00+05:30  2024-07-05 09:15:00+05:30   \n",
       "412    412        412 2024-07-12 10:15:00+05:30  2024-07-18 10:15:00+05:30   \n",
       "413    413        413 2024-07-18 12:15:00+05:30  2024-07-19 12:15:00+05:30   \n",
       "414    414        414 2024-07-26 09:15:00+05:30  2024-08-02 09:15:00+05:30   \n",
       "415    415        415 2024-08-09 09:15:00+05:30  2024-08-12 09:15:00+05:30   \n",
       "416    416        416 2024-08-12 10:15:00+05:30  2024-08-13 09:15:00+05:30   \n",
       "417    417        417 2024-08-16 09:15:00+05:30  2024-09-04 09:15:00+05:30   \n",
       "418    418        418 2024-09-10 12:15:00+05:30  2024-09-11 13:15:00+05:30   \n",
       "419    419        419 2024-09-12 13:15:00+05:30  2024-09-18 13:15:00+05:30   \n",
       "420    420        420 2024-09-19 09:15:00+05:30  2024-09-30 09:15:00+05:30   \n",
       "421    421        421 2024-10-09 09:15:00+05:30  2024-10-09 12:15:00+05:30   \n",
       "422    422        422 2024-10-14 09:15:00+05:30  2024-10-15 09:15:00+05:30   \n",
       "423    423        423 2024-10-18 13:15:00+05:30  2024-10-18 14:15:00+05:30   \n",
       "424    424        424 2024-10-28 09:15:00+05:30  2024-10-29 09:15:00+05:30   \n",
       "425    425        425 2024-10-29 13:15:00+05:30  2024-10-30 13:15:00+05:30   \n",
       "426    426        426 2024-11-05 13:15:00+05:30  2024-11-07 09:15:00+05:30   \n",
       "427    427        427 2024-11-11 10:15:00+05:30  2024-11-11 13:15:00+05:30   \n",
       "428    428        428 2024-11-19 09:15:00+05:30  2024-11-19 14:15:00+05:30   \n",
       "429    429        429 2024-11-22 09:15:00+05:30  2024-11-28 10:15:00+05:30   \n",
       "430    430        430 2024-11-29 10:15:00+05:30                       None   \n",
       "\n",
       "    Trade_Type  Entry_Price  Previous MA Value  Initial SL Exit_Price  \\\n",
       "406       Long   74289.9100         74020.9433  73915.6567 74478.9300   \n",
       "407       Long   72775.8000         72391.1533  72229.9500 72844.6900   \n",
       "408       Long   73645.7700         73156.0767  72599.6800 75209.0600   \n",
       "409       Long   76101.7700         74250.0367  74463.4033 74463.4033   \n",
       "410       Long   73919.9500         73714.7333  73292.1433 77242.6400   \n",
       "411       Long   77908.7900         77625.3400  77522.7800 79680.7400   \n",
       "412       Long   80625.4100         80080.8733  79889.2733 80518.2500   \n",
       "413       Long   81101.6500         80849.2233  80555.9500 80851.6700   \n",
       "414       Long   80534.8700         80124.3600  79999.3033 81126.7400   \n",
       "415       Long   79718.0800         79055.9333  79086.7333 79363.1100   \n",
       "416       Long   79994.9600         79711.3633  79417.6600 79572.2900   \n",
       "417       Long   79591.3500         79178.9767  79206.3300 82185.1700   \n",
       "418       Long   82095.7200         81817.1033  81681.0067 81681.0067   \n",
       "419       Long   82373.8600         81789.4333  81591.8367 82893.5700   \n",
       "420       Long   83465.5700         83034.2200  83011.5567 84876.9100   \n",
       "421       Long   82145.5600         81753.6800  81558.2233 81871.5500   \n",
       "422       Long   81820.0100         81458.4200  81401.0400 81773.9100   \n",
       "423       Long   81335.0600         81130.2000  80995.5133 81209.7700   \n",
       "424       Long   79908.8400         79473.0033  79331.8400 79688.5200   \n",
       "425       Long   80290.6000         79898.4100  79728.7833 79870.6400   \n",
       "426       Long   79325.9300         78760.2867  78348.8033 79520.6700   \n",
       "427       Long   80016.8900         79551.5533  79225.1000 79399.0000   \n",
       "428       Long   78113.3800         77433.1433  77341.9800 77502.4400   \n",
       "429       Long   77908.6200         77198.0233  77140.4167 79569.3800   \n",
       "430       Long   79766.1000         79348.5900  79080.9300       None   \n",
       "\n",
       "         Exit Remark        PnL Slippage   PnL w cs       Qty Profit_Loss INR  \\\n",
       "406  Trailing SL Hit   189.0200  14.8769   174.1431 1335.9934     232654.0614   \n",
       "407  Trailing SL Hit    68.8900  14.5620    54.3280  916.0026      49764.5425   \n",
       "408  Trailing SL Hit  1563.2900  14.8855  1548.4045  477.9703     740091.4439   \n",
       "409   Initial SL Hit -1638.3667  15.0565 -1653.4232  305.1820    -504594.9779   \n",
       "410  Trailing SL Hit  3322.6900  15.1163  3307.5737  796.4235    2634229.5460   \n",
       "411  Trailing SL Hit  1771.9500  15.7590  1756.1910 1295.3032    2274799.9365   \n",
       "412  Trailing SL Hit  -107.1600  16.1144  -123.2744  679.2217     -83730.6247   \n",
       "413  Trailing SL Hit  -249.9800  16.1953  -266.1753  916.2544    -243884.3064   \n",
       "414  Trailing SL Hit   591.8700  16.1662   575.7038  933.5906     537471.6864   \n",
       "415  Trailing SL Hit  -354.9700  15.9081  -370.8781  791.9579    -293719.8678   \n",
       "416  Trailing SL Hit  -422.6700  15.9567  -438.6267  866.1008    -379894.9636   \n",
       "417  Trailing SL Hit  2593.8200  16.1777  2577.6423 1298.6338    3347413.5733   \n",
       "418   Initial SL Hit  -414.7133  16.3777  -431.0910 1205.6521    -519745.7754   \n",
       "419  Trailing SL Hit   519.7100  16.5267   503.1833  639.3671     321718.8257   \n",
       "420  Trailing SL Hit  1411.3400  16.8342  1394.5058 1101.2892    1535754.1834   \n",
       "421  Trailing SL Hit  -274.0100  16.4017  -290.4117  851.3005    -247227.6358   \n",
       "422  Trailing SL Hit   -46.1000  16.3594   -62.4594 1193.4029     -74539.2176   \n",
       "423  Trailing SL Hit  -125.2900  16.2545  -141.5445 1472.5516    -208431.5602   \n",
       "424  Trailing SL Hit  -220.3200  15.9597  -236.2797  866.5511    -204748.4714   \n",
       "425  Trailing SL Hit  -419.9600  16.0161  -435.9761  889.9700    -388005.6875   \n",
       "426  Trailing SL Hit   194.7400  15.8847   178.8553  511.7044      91521.0618   \n",
       "427  Trailing SL Hit  -617.8900  15.9416  -633.8316  631.4806    -400252.3327   \n",
       "428  Trailing SL Hit  -610.9400  15.5616  -626.5016  648.1722    -406080.8802   \n",
       "429  Trailing SL Hit  1660.7600  15.7478  1645.0122  650.8693    1070688.0123   \n",
       "430              NaN        NaN      NaN        NaN  729.7459             NaN   \n",
       "\n",
       "       ROI%  Trade Year  \n",
       "406  2.3265        2024  \n",
       "407  0.4976        2024  \n",
       "408  7.4009        2024  \n",
       "409 -5.0459        2024  \n",
       "410 26.3423        2024  \n",
       "411 22.7480        2024  \n",
       "412 -0.8373        2024  \n",
       "413 -2.4388        2024  \n",
       "414  5.3747        2024  \n",
       "415 -2.9372        2024  \n",
       "416 -3.7989        2024  \n",
       "417 33.4741        2024  \n",
       "418 -5.1975        2024  \n",
       "419  3.2172        2024  \n",
       "420 15.3575        2024  \n",
       "421 -2.4723        2024  \n",
       "422 -0.7454        2024  \n",
       "423 -2.0843        2024  \n",
       "424 -2.0475        2024  \n",
       "425 -3.8801        2024  \n",
       "426  0.9152        2024  \n",
       "427 -4.0025        2024  \n",
       "428 -4.0608        2024  \n",
       "429 10.7069        2024  \n",
       "430     NaN        2024  "
      ]
     },
     "execution_count": 121,
     "metadata": {},
     "output_type": "execute_result"
    }
   ],
   "source": [
    "tb.tail(25)"
   ]
  },
  {
   "cell_type": "code",
   "execution_count": 92,
   "id": "a194fb70-ba76-4395-826d-df4b06ec176d",
   "metadata": {
    "execution": {
     "iopub.execute_input": "2024-12-18T20:40:39.986082Z",
     "iopub.status.busy": "2024-12-18T20:40:39.985446Z",
     "iopub.status.idle": "2024-12-18T20:40:39.990000Z",
     "shell.execute_reply": "2024-12-18T20:40:39.988983Z",
     "shell.execute_reply.started": "2024-12-18T20:40:39.986061Z"
    },
    "scrolled": true
   },
   "outputs": [],
   "source": [
    "# tb.to_csv('SENSEX_jjpp_55_9_HALF_PCT_0_PYR.csv')"
   ]
  },
  {
   "cell_type": "code",
   "execution_count": 93,
   "id": "1706cc8b-5462-435e-a9bf-0fa4a7f542c7",
   "metadata": {
    "execution": {
     "iopub.execute_input": "2024-12-18T20:40:40.315078Z",
     "iopub.status.busy": "2024-12-18T20:40:40.314761Z",
     "iopub.status.idle": "2024-12-18T20:40:40.320943Z",
     "shell.execute_reply": "2024-12-18T20:40:40.319535Z",
     "shell.execute_reply.started": "2024-12-18T20:40:40.315056Z"
    }
   },
   "outputs": [],
   "source": [
    "# tb_long_only.to_csv('GOLD Range JJPP.csv', index=False)"
   ]
  },
  {
   "cell_type": "code",
   "execution_count": null,
   "id": "25678f46-885a-4bfb-b2e9-f931209225ed",
   "metadata": {
    "execution": {
     "iopub.execute_input": "2024-12-18T20:51:31.639330Z",
     "iopub.status.busy": "2024-12-18T20:51:31.638804Z"
    },
    "scrolled": true
   },
   "outputs": [
    {
     "name": "stdout",
     "output_type": "stream",
     "text": [
      "EMA:20, X:3, PCT:0.25\n"
     ]
    },
    {
     "name": "stderr",
     "output_type": "stream",
     "text": [
      "/tmp/ipykernel_29457/2639050160.py:78: FutureWarning: Setting an item of incompatible dtype is deprecated and will raise an error in a future version of pandas. Value 'Initial SL Hit' has dtype incompatible with float64, please explicitly cast to a compatible dtype first.\n",
      "  tradebook_long.loc[\n"
     ]
    },
    {
     "name": "stdout",
     "output_type": "stream",
     "text": [
      "        Total ROI Total Trades Win Rate Avg Profit% per Trade Avg Loss% per Trade Max Drawdown ROI/DD Ratio              Variation\n",
      "2017      67.2103           53  39.6226                6.6262             -2.2481     -10.2200       6.5764  EMA:20, X:3, PCT:0.25\n",
      "2018      67.3078           46  50.0000                5.0828             -2.1564     -13.2436       5.0823  EMA:20, X:3, PCT:0.25\n",
      "2019      72.3988           55  40.0000                6.2297             -1.9593     -20.4858       3.5341  EMA:20, X:3, PCT:0.25\n",
      "2020     123.2311           60  38.3333                8.8150             -2.1491     -14.9277       8.2552  EMA:20, X:3, PCT:0.25\n",
      "2021      45.4438           66  37.8788                4.8688             -1.8604     -23.8212       1.9077  EMA:20, X:3, PCT:0.25\n",
      "2022      40.1825           58  25.8621                8.1661             -1.9142     -24.3562       1.6498  EMA:20, X:3, PCT:0.25\n",
      "2023     102.7609           47  40.4255                8.0799             -1.8128     -13.0732       7.8604  EMA:20, X:3, PCT:0.25\n",
      "2024      55.3540           46  39.1304                5.6603             -1.7234     -11.9659       4.6260  EMA:20, X:3, PCT:0.25\n",
      "Overall  573.8891          431  38.5151                6.5992             -1.9757     -24.3562      23.5623  EMA:20, X:3, PCT:0.25\n",
      "EMA:20, X:3, PCT:0.5\n"
     ]
    },
    {
     "name": "stderr",
     "output_type": "stream",
     "text": [
      "/tmp/ipykernel_29457/2639050160.py:92: FutureWarning: Setting an item of incompatible dtype is deprecated and will raise an error in a future version of pandas. Value 'Trailing SL Hit' has dtype incompatible with float64, please explicitly cast to a compatible dtype first.\n",
      "  tradebook_long.loc[\n"
     ]
    },
    {
     "name": "stdout",
     "output_type": "stream",
     "text": [
      "EMA:20, X:3, PCT:0.75\n"
     ]
    },
    {
     "name": "stderr",
     "output_type": "stream",
     "text": [
      "/tmp/ipykernel_29457/2639050160.py:92: FutureWarning: Setting an item of incompatible dtype is deprecated and will raise an error in a future version of pandas. Value 'Trailing SL Hit' has dtype incompatible with float64, please explicitly cast to a compatible dtype first.\n",
      "  tradebook_long.loc[\n"
     ]
    },
    {
     "name": "stdout",
     "output_type": "stream",
     "text": [
      "EMA:20, X:3, PCT:1\n"
     ]
    },
    {
     "name": "stderr",
     "output_type": "stream",
     "text": [
      "/tmp/ipykernel_29457/2639050160.py:92: FutureWarning: Setting an item of incompatible dtype is deprecated and will raise an error in a future version of pandas. Value 'Trailing SL Hit' has dtype incompatible with float64, please explicitly cast to a compatible dtype first.\n",
      "  tradebook_long.loc[\n",
      "/tmp/ipykernel_29457/2611632047.py:45: RuntimeWarning: divide by zero encountered in scalar divide\n",
      "  roi_dd_ratio = total_roi / abs(max_drawdown)\n",
      "/tmp/ipykernel_29457/2639050160.py:92: FutureWarning: Setting an item of incompatible dtype is deprecated and will raise an error in a future version of pandas. Value 'Trailing SL Hit' has dtype incompatible with float64, please explicitly cast to a compatible dtype first.\n",
      "  tradebook_long.loc[\n"
     ]
    },
    {
     "name": "stdout",
     "output_type": "stream",
     "text": [
      "EMA:20, X:6, PCT:0.25\n",
      "EMA:20, X:6, PCT:0.5\n"
     ]
    },
    {
     "name": "stderr",
     "output_type": "stream",
     "text": [
      "/tmp/ipykernel_29457/2639050160.py:92: FutureWarning: Setting an item of incompatible dtype is deprecated and will raise an error in a future version of pandas. Value 'Trailing SL Hit' has dtype incompatible with float64, please explicitly cast to a compatible dtype first.\n",
      "  tradebook_long.loc[\n"
     ]
    },
    {
     "name": "stdout",
     "output_type": "stream",
     "text": [
      "EMA:20, X:6, PCT:0.75\n"
     ]
    },
    {
     "name": "stderr",
     "output_type": "stream",
     "text": [
      "/tmp/ipykernel_29457/2639050160.py:92: FutureWarning: Setting an item of incompatible dtype is deprecated and will raise an error in a future version of pandas. Value 'Trailing SL Hit' has dtype incompatible with float64, please explicitly cast to a compatible dtype first.\n",
      "  tradebook_long.loc[\n"
     ]
    },
    {
     "name": "stdout",
     "output_type": "stream",
     "text": [
      "EMA:20, X:6, PCT:1\n"
     ]
    },
    {
     "name": "stderr",
     "output_type": "stream",
     "text": [
      "/tmp/ipykernel_29457/2639050160.py:92: FutureWarning: Setting an item of incompatible dtype is deprecated and will raise an error in a future version of pandas. Value 'Trailing SL Hit' has dtype incompatible with float64, please explicitly cast to a compatible dtype first.\n",
      "  tradebook_long.loc[\n"
     ]
    },
    {
     "name": "stdout",
     "output_type": "stream",
     "text": [
      "EMA:20, X:9, PCT:0.25\n"
     ]
    },
    {
     "name": "stderr",
     "output_type": "stream",
     "text": [
      "/tmp/ipykernel_29457/2639050160.py:92: FutureWarning: Setting an item of incompatible dtype is deprecated and will raise an error in a future version of pandas. Value 'Trailing SL Hit' has dtype incompatible with float64, please explicitly cast to a compatible dtype first.\n",
      "  tradebook_long.loc[\n"
     ]
    },
    {
     "name": "stdout",
     "output_type": "stream",
     "text": [
      "EMA:20, X:9, PCT:0.5\n"
     ]
    },
    {
     "name": "stderr",
     "output_type": "stream",
     "text": [
      "/tmp/ipykernel_29457/2639050160.py:92: FutureWarning: Setting an item of incompatible dtype is deprecated and will raise an error in a future version of pandas. Value 'Trailing SL Hit' has dtype incompatible with float64, please explicitly cast to a compatible dtype first.\n",
      "  tradebook_long.loc[\n"
     ]
    },
    {
     "name": "stdout",
     "output_type": "stream",
     "text": [
      "EMA:20, X:9, PCT:0.75\n"
     ]
    },
    {
     "name": "stderr",
     "output_type": "stream",
     "text": [
      "/tmp/ipykernel_29457/2639050160.py:92: FutureWarning: Setting an item of incompatible dtype is deprecated and will raise an error in a future version of pandas. Value 'Trailing SL Hit' has dtype incompatible with float64, please explicitly cast to a compatible dtype first.\n",
      "  tradebook_long.loc[\n"
     ]
    },
    {
     "name": "stdout",
     "output_type": "stream",
     "text": [
      "EMA:20, X:9, PCT:1\n"
     ]
    },
    {
     "name": "stderr",
     "output_type": "stream",
     "text": [
      "/tmp/ipykernel_29457/2639050160.py:92: FutureWarning: Setting an item of incompatible dtype is deprecated and will raise an error in a future version of pandas. Value 'Trailing SL Hit' has dtype incompatible with float64, please explicitly cast to a compatible dtype first.\n",
      "  tradebook_long.loc[\n"
     ]
    },
    {
     "name": "stdout",
     "output_type": "stream",
     "text": [
      "EMA:20, X:12, PCT:0.25\n"
     ]
    },
    {
     "name": "stderr",
     "output_type": "stream",
     "text": [
      "/tmp/ipykernel_29457/2639050160.py:92: FutureWarning: Setting an item of incompatible dtype is deprecated and will raise an error in a future version of pandas. Value 'Trailing SL Hit' has dtype incompatible with float64, please explicitly cast to a compatible dtype first.\n",
      "  tradebook_long.loc[\n"
     ]
    },
    {
     "name": "stdout",
     "output_type": "stream",
     "text": [
      "EMA:20, X:12, PCT:0.5\n"
     ]
    },
    {
     "name": "stderr",
     "output_type": "stream",
     "text": [
      "/tmp/ipykernel_29457/2639050160.py:92: FutureWarning: Setting an item of incompatible dtype is deprecated and will raise an error in a future version of pandas. Value 'Trailing SL Hit' has dtype incompatible with float64, please explicitly cast to a compatible dtype first.\n",
      "  tradebook_long.loc[\n"
     ]
    },
    {
     "name": "stdout",
     "output_type": "stream",
     "text": [
      "EMA:20, X:12, PCT:0.75\n"
     ]
    },
    {
     "name": "stderr",
     "output_type": "stream",
     "text": [
      "/tmp/ipykernel_29457/2639050160.py:92: FutureWarning: Setting an item of incompatible dtype is deprecated and will raise an error in a future version of pandas. Value 'Trailing SL Hit' has dtype incompatible with float64, please explicitly cast to a compatible dtype first.\n",
      "  tradebook_long.loc[\n"
     ]
    },
    {
     "name": "stdout",
     "output_type": "stream",
     "text": [
      "EMA:20, X:12, PCT:1\n"
     ]
    },
    {
     "name": "stderr",
     "output_type": "stream",
     "text": [
      "/tmp/ipykernel_29457/2639050160.py:92: FutureWarning: Setting an item of incompatible dtype is deprecated and will raise an error in a future version of pandas. Value 'Trailing SL Hit' has dtype incompatible with float64, please explicitly cast to a compatible dtype first.\n",
      "  tradebook_long.loc[\n"
     ]
    },
    {
     "name": "stdout",
     "output_type": "stream",
     "text": [
      "EMA:20, X:15, PCT:0.25\n"
     ]
    },
    {
     "name": "stderr",
     "output_type": "stream",
     "text": [
      "/tmp/ipykernel_29457/2639050160.py:92: FutureWarning: Setting an item of incompatible dtype is deprecated and will raise an error in a future version of pandas. Value 'Trailing SL Hit' has dtype incompatible with float64, please explicitly cast to a compatible dtype first.\n",
      "  tradebook_long.loc[\n"
     ]
    },
    {
     "name": "stdout",
     "output_type": "stream",
     "text": [
      "EMA:20, X:15, PCT:0.5\n"
     ]
    },
    {
     "name": "stderr",
     "output_type": "stream",
     "text": [
      "/tmp/ipykernel_29457/2639050160.py:92: FutureWarning: Setting an item of incompatible dtype is deprecated and will raise an error in a future version of pandas. Value 'Trailing SL Hit' has dtype incompatible with float64, please explicitly cast to a compatible dtype first.\n",
      "  tradebook_long.loc[\n"
     ]
    },
    {
     "name": "stdout",
     "output_type": "stream",
     "text": [
      "EMA:20, X:15, PCT:0.75\n"
     ]
    },
    {
     "name": "stderr",
     "output_type": "stream",
     "text": [
      "/tmp/ipykernel_29457/2639050160.py:92: FutureWarning: Setting an item of incompatible dtype is deprecated and will raise an error in a future version of pandas. Value 'Trailing SL Hit' has dtype incompatible with float64, please explicitly cast to a compatible dtype first.\n",
      "  tradebook_long.loc[\n"
     ]
    },
    {
     "name": "stdout",
     "output_type": "stream",
     "text": [
      "EMA:20, X:15, PCT:1\n"
     ]
    },
    {
     "name": "stderr",
     "output_type": "stream",
     "text": [
      "/tmp/ipykernel_29457/2639050160.py:92: FutureWarning: Setting an item of incompatible dtype is deprecated and will raise an error in a future version of pandas. Value 'Trailing SL Hit' has dtype incompatible with float64, please explicitly cast to a compatible dtype first.\n",
      "  tradebook_long.loc[\n"
     ]
    },
    {
     "name": "stdout",
     "output_type": "stream",
     "text": [
      "EMA:20, X:18, PCT:0.25\n"
     ]
    },
    {
     "name": "stderr",
     "output_type": "stream",
     "text": [
      "/tmp/ipykernel_29457/2639050160.py:92: FutureWarning: Setting an item of incompatible dtype is deprecated and will raise an error in a future version of pandas. Value 'Trailing SL Hit' has dtype incompatible with float64, please explicitly cast to a compatible dtype first.\n",
      "  tradebook_long.loc[\n"
     ]
    },
    {
     "name": "stdout",
     "output_type": "stream",
     "text": [
      "        Total ROI Total Trades Win Rate Avg Profit% per Trade Avg Loss% per Trade Max Drawdown ROI/DD Ratio               Variation\n",
      "2017      42.1314           42  45.2381                4.7446             -2.0877      -7.3768       5.7113  EMA:20, X:18, PCT:0.25\n",
      "2018      73.5405           42  52.3810                5.2489             -2.0967     -13.5724       5.4184  EMA:20, X:18, PCT:0.25\n",
      "2019      53.9477           47  40.4255                5.6778             -1.9261     -12.4433       4.3355  EMA:20, X:18, PCT:0.25\n",
      "2020      46.7794           52  36.5385                6.0433             -2.0619     -10.8785       4.3002  EMA:20, X:18, PCT:0.25\n",
      "2021      62.1190           50  44.0000                4.7886             -1.5440     -15.6431       3.9710  EMA:20, X:18, PCT:0.25\n",
      "2022      32.5399           48  29.1667                6.6947             -1.7996     -16.1820       2.0109  EMA:20, X:18, PCT:0.25\n",
      "2023      67.8125           46  34.7826                7.5637             -1.7735     -19.6738       3.4468  EMA:20, X:18, PCT:0.25\n",
      "2024      16.0025           43  34.8837                4.3332             -1.8146     -14.9827       1.0681  EMA:20, X:18, PCT:0.25\n",
      "Overall  394.8728          370  39.4595                5.5713             -1.8769     -19.6738      20.0710  EMA:20, X:18, PCT:0.25\n",
      "EMA:20, X:18, PCT:0.5\n"
     ]
    },
    {
     "name": "stderr",
     "output_type": "stream",
     "text": [
      "/tmp/ipykernel_29457/2639050160.py:92: FutureWarning: Setting an item of incompatible dtype is deprecated and will raise an error in a future version of pandas. Value 'Trailing SL Hit' has dtype incompatible with float64, please explicitly cast to a compatible dtype first.\n",
      "  tradebook_long.loc[\n"
     ]
    },
    {
     "name": "stdout",
     "output_type": "stream",
     "text": [
      "EMA:20, X:18, PCT:0.75\n"
     ]
    },
    {
     "name": "stderr",
     "output_type": "stream",
     "text": [
      "/tmp/ipykernel_29457/2639050160.py:92: FutureWarning: Setting an item of incompatible dtype is deprecated and will raise an error in a future version of pandas. Value 'Trailing SL Hit' has dtype incompatible with float64, please explicitly cast to a compatible dtype first.\n",
      "  tradebook_long.loc[\n"
     ]
    },
    {
     "name": "stdout",
     "output_type": "stream",
     "text": [
      "EMA:20, X:18, PCT:1\n"
     ]
    },
    {
     "name": "stderr",
     "output_type": "stream",
     "text": [
      "/tmp/ipykernel_29457/2639050160.py:92: FutureWarning: Setting an item of incompatible dtype is deprecated and will raise an error in a future version of pandas. Value 'Trailing SL Hit' has dtype incompatible with float64, please explicitly cast to a compatible dtype first.\n",
      "  tradebook_long.loc[\n"
     ]
    },
    {
     "name": "stdout",
     "output_type": "stream",
     "text": [
      "EMA:20, X:21, PCT:0.25\n"
     ]
    },
    {
     "name": "stderr",
     "output_type": "stream",
     "text": [
      "/tmp/ipykernel_29457/2639050160.py:92: FutureWarning: Setting an item of incompatible dtype is deprecated and will raise an error in a future version of pandas. Value 'Trailing SL Hit' has dtype incompatible with float64, please explicitly cast to a compatible dtype first.\n",
      "  tradebook_long.loc[\n"
     ]
    },
    {
     "name": "stdout",
     "output_type": "stream",
     "text": [
      "EMA:20, X:21, PCT:0.5\n"
     ]
    },
    {
     "name": "stderr",
     "output_type": "stream",
     "text": [
      "/tmp/ipykernel_29457/2639050160.py:92: FutureWarning: Setting an item of incompatible dtype is deprecated and will raise an error in a future version of pandas. Value 'Trailing SL Hit' has dtype incompatible with float64, please explicitly cast to a compatible dtype first.\n",
      "  tradebook_long.loc[\n"
     ]
    },
    {
     "name": "stdout",
     "output_type": "stream",
     "text": [
      "EMA:20, X:21, PCT:0.75\n"
     ]
    },
    {
     "name": "stderr",
     "output_type": "stream",
     "text": [
      "/tmp/ipykernel_29457/2639050160.py:92: FutureWarning: Setting an item of incompatible dtype is deprecated and will raise an error in a future version of pandas. Value 'Trailing SL Hit' has dtype incompatible with float64, please explicitly cast to a compatible dtype first.\n",
      "  tradebook_long.loc[\n"
     ]
    },
    {
     "name": "stdout",
     "output_type": "stream",
     "text": [
      "EMA:20, X:21, PCT:1\n"
     ]
    },
    {
     "name": "stderr",
     "output_type": "stream",
     "text": [
      "/tmp/ipykernel_29457/2639050160.py:92: FutureWarning: Setting an item of incompatible dtype is deprecated and will raise an error in a future version of pandas. Value 'Trailing SL Hit' has dtype incompatible with float64, please explicitly cast to a compatible dtype first.\n",
      "  tradebook_long.loc[\n"
     ]
    },
    {
     "name": "stdout",
     "output_type": "stream",
     "text": [
      "EMA:20, X:24, PCT:0.25\n"
     ]
    },
    {
     "name": "stderr",
     "output_type": "stream",
     "text": [
      "/tmp/ipykernel_29457/2639050160.py:92: FutureWarning: Setting an item of incompatible dtype is deprecated and will raise an error in a future version of pandas. Value 'Trailing SL Hit' has dtype incompatible with float64, please explicitly cast to a compatible dtype first.\n",
      "  tradebook_long.loc[\n"
     ]
    },
    {
     "name": "stdout",
     "output_type": "stream",
     "text": [
      "EMA:20, X:24, PCT:0.5\n"
     ]
    },
    {
     "name": "stderr",
     "output_type": "stream",
     "text": [
      "/tmp/ipykernel_29457/2639050160.py:92: FutureWarning: Setting an item of incompatible dtype is deprecated and will raise an error in a future version of pandas. Value 'Trailing SL Hit' has dtype incompatible with float64, please explicitly cast to a compatible dtype first.\n",
      "  tradebook_long.loc[\n"
     ]
    },
    {
     "name": "stdout",
     "output_type": "stream",
     "text": [
      "EMA:20, X:24, PCT:0.75\n"
     ]
    },
    {
     "name": "stderr",
     "output_type": "stream",
     "text": [
      "/tmp/ipykernel_29457/2639050160.py:92: FutureWarning: Setting an item of incompatible dtype is deprecated and will raise an error in a future version of pandas. Value 'Trailing SL Hit' has dtype incompatible with float64, please explicitly cast to a compatible dtype first.\n",
      "  tradebook_long.loc[\n"
     ]
    },
    {
     "name": "stdout",
     "output_type": "stream",
     "text": [
      "EMA:20, X:24, PCT:1\n"
     ]
    },
    {
     "name": "stderr",
     "output_type": "stream",
     "text": [
      "/tmp/ipykernel_29457/2639050160.py:92: FutureWarning: Setting an item of incompatible dtype is deprecated and will raise an error in a future version of pandas. Value 'Trailing SL Hit' has dtype incompatible with float64, please explicitly cast to a compatible dtype first.\n",
      "  tradebook_long.loc[\n"
     ]
    },
    {
     "name": "stdout",
     "output_type": "stream",
     "text": [
      "EMA:20, X:27, PCT:0.25\n"
     ]
    },
    {
     "name": "stderr",
     "output_type": "stream",
     "text": [
      "/tmp/ipykernel_29457/2639050160.py:92: FutureWarning: Setting an item of incompatible dtype is deprecated and will raise an error in a future version of pandas. Value 'Trailing SL Hit' has dtype incompatible with float64, please explicitly cast to a compatible dtype first.\n",
      "  tradebook_long.loc[\n"
     ]
    },
    {
     "name": "stdout",
     "output_type": "stream",
     "text": [
      "EMA:20, X:27, PCT:0.5\n"
     ]
    },
    {
     "name": "stderr",
     "output_type": "stream",
     "text": [
      "/tmp/ipykernel_29457/2639050160.py:92: FutureWarning: Setting an item of incompatible dtype is deprecated and will raise an error in a future version of pandas. Value 'Trailing SL Hit' has dtype incompatible with float64, please explicitly cast to a compatible dtype first.\n",
      "  tradebook_long.loc[\n"
     ]
    },
    {
     "name": "stdout",
     "output_type": "stream",
     "text": [
      "EMA:20, X:27, PCT:0.75\n"
     ]
    },
    {
     "name": "stderr",
     "output_type": "stream",
     "text": [
      "/tmp/ipykernel_29457/2639050160.py:92: FutureWarning: Setting an item of incompatible dtype is deprecated and will raise an error in a future version of pandas. Value 'Trailing SL Hit' has dtype incompatible with float64, please explicitly cast to a compatible dtype first.\n",
      "  tradebook_long.loc[\n"
     ]
    },
    {
     "name": "stdout",
     "output_type": "stream",
     "text": [
      "EMA:20, X:27, PCT:1\n"
     ]
    },
    {
     "name": "stderr",
     "output_type": "stream",
     "text": [
      "/tmp/ipykernel_29457/2639050160.py:92: FutureWarning: Setting an item of incompatible dtype is deprecated and will raise an error in a future version of pandas. Value 'Trailing SL Hit' has dtype incompatible with float64, please explicitly cast to a compatible dtype first.\n",
      "  tradebook_long.loc[\n"
     ]
    },
    {
     "name": "stdout",
     "output_type": "stream",
     "text": [
      "EMA:20, X:30, PCT:0.25\n"
     ]
    },
    {
     "name": "stderr",
     "output_type": "stream",
     "text": [
      "/tmp/ipykernel_29457/2639050160.py:92: FutureWarning: Setting an item of incompatible dtype is deprecated and will raise an error in a future version of pandas. Value 'Trailing SL Hit' has dtype incompatible with float64, please explicitly cast to a compatible dtype first.\n",
      "  tradebook_long.loc[\n"
     ]
    },
    {
     "name": "stdout",
     "output_type": "stream",
     "text": [
      "EMA:20, X:30, PCT:0.5\n"
     ]
    },
    {
     "name": "stderr",
     "output_type": "stream",
     "text": [
      "/tmp/ipykernel_29457/2639050160.py:92: FutureWarning: Setting an item of incompatible dtype is deprecated and will raise an error in a future version of pandas. Value 'Trailing SL Hit' has dtype incompatible with float64, please explicitly cast to a compatible dtype first.\n",
      "  tradebook_long.loc[\n"
     ]
    },
    {
     "name": "stdout",
     "output_type": "stream",
     "text": [
      "EMA:20, X:30, PCT:0.75\n"
     ]
    },
    {
     "name": "stderr",
     "output_type": "stream",
     "text": [
      "/tmp/ipykernel_29457/2639050160.py:92: FutureWarning: Setting an item of incompatible dtype is deprecated and will raise an error in a future version of pandas. Value 'Trailing SL Hit' has dtype incompatible with float64, please explicitly cast to a compatible dtype first.\n",
      "  tradebook_long.loc[\n"
     ]
    },
    {
     "name": "stdout",
     "output_type": "stream",
     "text": [
      "EMA:20, X:30, PCT:1\n"
     ]
    },
    {
     "name": "stderr",
     "output_type": "stream",
     "text": [
      "/tmp/ipykernel_29457/2639050160.py:92: FutureWarning: Setting an item of incompatible dtype is deprecated and will raise an error in a future version of pandas. Value 'Trailing SL Hit' has dtype incompatible with float64, please explicitly cast to a compatible dtype first.\n",
      "  tradebook_long.loc[\n"
     ]
    },
    {
     "name": "stdout",
     "output_type": "stream",
     "text": [
      "EMA:20, X:33, PCT:0.25\n"
     ]
    },
    {
     "name": "stderr",
     "output_type": "stream",
     "text": [
      "/tmp/ipykernel_29457/2639050160.py:92: FutureWarning: Setting an item of incompatible dtype is deprecated and will raise an error in a future version of pandas. Value 'Trailing SL Hit' has dtype incompatible with float64, please explicitly cast to a compatible dtype first.\n",
      "  tradebook_long.loc[\n"
     ]
    },
    {
     "name": "stdout",
     "output_type": "stream",
     "text": [
      "EMA:20, X:33, PCT:0.5\n"
     ]
    },
    {
     "name": "stderr",
     "output_type": "stream",
     "text": [
      "/tmp/ipykernel_29457/2639050160.py:92: FutureWarning: Setting an item of incompatible dtype is deprecated and will raise an error in a future version of pandas. Value 'Trailing SL Hit' has dtype incompatible with float64, please explicitly cast to a compatible dtype first.\n",
      "  tradebook_long.loc[\n"
     ]
    },
    {
     "name": "stdout",
     "output_type": "stream",
     "text": [
      "EMA:20, X:33, PCT:0.75\n"
     ]
    },
    {
     "name": "stderr",
     "output_type": "stream",
     "text": [
      "/tmp/ipykernel_29457/2639050160.py:92: FutureWarning: Setting an item of incompatible dtype is deprecated and will raise an error in a future version of pandas. Value 'Trailing SL Hit' has dtype incompatible with float64, please explicitly cast to a compatible dtype first.\n",
      "  tradebook_long.loc[\n"
     ]
    },
    {
     "name": "stdout",
     "output_type": "stream",
     "text": [
      "EMA:20, X:33, PCT:1\n"
     ]
    },
    {
     "name": "stderr",
     "output_type": "stream",
     "text": [
      "/tmp/ipykernel_29457/2639050160.py:92: FutureWarning: Setting an item of incompatible dtype is deprecated and will raise an error in a future version of pandas. Value 'Trailing SL Hit' has dtype incompatible with float64, please explicitly cast to a compatible dtype first.\n",
      "  tradebook_long.loc[\n"
     ]
    },
    {
     "name": "stdout",
     "output_type": "stream",
     "text": [
      "EMA:20, X:36, PCT:0.25\n"
     ]
    },
    {
     "name": "stderr",
     "output_type": "stream",
     "text": [
      "/tmp/ipykernel_29457/2639050160.py:92: FutureWarning: Setting an item of incompatible dtype is deprecated and will raise an error in a future version of pandas. Value 'Trailing SL Hit' has dtype incompatible with float64, please explicitly cast to a compatible dtype first.\n",
      "  tradebook_long.loc[\n"
     ]
    },
    {
     "name": "stdout",
     "output_type": "stream",
     "text": [
      "        Total ROI Total Trades Win Rate Avg Profit% per Trade Avg Loss% per Trade Max Drawdown ROI/DD Ratio               Variation\n",
      "2017      44.0885           47  44.6809                4.4074             -1.8641     -14.6902       3.0012  EMA:20, X:36, PCT:0.25\n",
      "2018      86.0970           38  52.6316                5.5591             -1.3936      -4.2439      20.2873  EMA:20, X:36, PCT:0.25\n",
      "2019      32.4389           49  36.7347                4.6677             -1.6639     -14.7144       2.2046  EMA:20, X:36, PCT:0.25\n",
      "2020      76.4961           56  35.7143                7.0571             -1.7957     -14.7011       5.2034  EMA:20, X:36, PCT:0.25\n",
      "2021      47.4139           57  29.8246                6.5008             -1.5775     -18.3939       2.5777  EMA:20, X:36, PCT:0.25\n",
      "2022      33.2896           51  37.2549                5.0840             -1.9783     -15.3327       2.1712  EMA:20, X:36, PCT:0.25\n",
      "2023      76.8137           42  45.2381                5.9888             -1.6076      -7.7151       9.9563  EMA:20, X:36, PCT:0.25\n",
      "2024      23.2096           39  38.4615                4.0596             -1.6385      -8.7927       2.6396  EMA:20, X:36, PCT:0.25\n",
      "Overall  419.8473          379  39.3140                5.4409             -1.7067     -18.3939      22.8254  EMA:20, X:36, PCT:0.25\n",
      "EMA:20, X:36, PCT:0.5\n"
     ]
    },
    {
     "name": "stderr",
     "output_type": "stream",
     "text": [
      "/tmp/ipykernel_29457/2639050160.py:92: FutureWarning: Setting an item of incompatible dtype is deprecated and will raise an error in a future version of pandas. Value 'Trailing SL Hit' has dtype incompatible with float64, please explicitly cast to a compatible dtype first.\n",
      "  tradebook_long.loc[\n"
     ]
    },
    {
     "name": "stdout",
     "output_type": "stream",
     "text": [
      "EMA:20, X:36, PCT:0.75\n"
     ]
    },
    {
     "name": "stderr",
     "output_type": "stream",
     "text": [
      "/tmp/ipykernel_29457/2639050160.py:92: FutureWarning: Setting an item of incompatible dtype is deprecated and will raise an error in a future version of pandas. Value 'Trailing SL Hit' has dtype incompatible with float64, please explicitly cast to a compatible dtype first.\n",
      "  tradebook_long.loc[\n"
     ]
    },
    {
     "name": "stdout",
     "output_type": "stream",
     "text": [
      "EMA:20, X:36, PCT:1\n"
     ]
    },
    {
     "name": "stderr",
     "output_type": "stream",
     "text": [
      "/tmp/ipykernel_29457/2639050160.py:92: FutureWarning: Setting an item of incompatible dtype is deprecated and will raise an error in a future version of pandas. Value 'Trailing SL Hit' has dtype incompatible with float64, please explicitly cast to a compatible dtype first.\n",
      "  tradebook_long.loc[\n"
     ]
    },
    {
     "name": "stdout",
     "output_type": "stream",
     "text": [
      "EMA:22, X:3, PCT:0.25\n"
     ]
    },
    {
     "name": "stderr",
     "output_type": "stream",
     "text": [
      "/tmp/ipykernel_29457/2639050160.py:78: FutureWarning: Setting an item of incompatible dtype is deprecated and will raise an error in a future version of pandas. Value 'Initial SL Hit' has dtype incompatible with float64, please explicitly cast to a compatible dtype first.\n",
      "  tradebook_long.loc[\n"
     ]
    },
    {
     "name": "stdout",
     "output_type": "stream",
     "text": [
      "        Total ROI Total Trades Win Rate Avg Profit% per Trade Avg Loss% per Trade Max Drawdown ROI/DD Ratio              Variation\n",
      "2017      65.1345           52  40.3846                6.4718             -2.2830     -10.2200       6.3733  EMA:22, X:3, PCT:0.25\n",
      "2018      83.5673           42  52.3810                5.8119             -2.2147     -12.0418       6.9397  EMA:22, X:3, PCT:0.25\n",
      "2019      71.3407           54  40.7407                6.0654             -1.9406     -19.1853       3.7185  EMA:22, X:3, PCT:0.25\n",
      "2020     126.4625           59  37.2881                9.3676             -2.1520     -15.0365       8.4104  EMA:22, X:3, PCT:0.25\n",
      "2021      41.4670           66  37.8788                4.7381             -1.8777     -28.3595       1.4622  EMA:22, X:3, PCT:0.25\n",
      "2022      44.3024           56  28.5714                7.5800             -1.9244     -20.8516       2.1246  EMA:22, X:3, PCT:0.25\n",
      "2023     102.5695           47  40.4255                8.0021             -1.7668     -11.9447       8.5871  EMA:22, X:3, PCT:0.25\n",
      "2024      58.0592           44  40.9091                5.6463             -1.7430     -10.8321       5.3599  EMA:22, X:3, PCT:0.25\n",
      "Overall  592.9030          420  39.2857                6.6467             -1.9835     -28.3595      20.9066  EMA:22, X:3, PCT:0.25\n",
      "EMA:22, X:3, PCT:0.5\n"
     ]
    },
    {
     "name": "stderr",
     "output_type": "stream",
     "text": [
      "/tmp/ipykernel_29457/2639050160.py:92: FutureWarning: Setting an item of incompatible dtype is deprecated and will raise an error in a future version of pandas. Value 'Trailing SL Hit' has dtype incompatible with float64, please explicitly cast to a compatible dtype first.\n",
      "  tradebook_long.loc[\n"
     ]
    },
    {
     "name": "stdout",
     "output_type": "stream",
     "text": [
      "EMA:22, X:3, PCT:0.75\n"
     ]
    },
    {
     "name": "stderr",
     "output_type": "stream",
     "text": [
      "/tmp/ipykernel_29457/2639050160.py:92: FutureWarning: Setting an item of incompatible dtype is deprecated and will raise an error in a future version of pandas. Value 'Trailing SL Hit' has dtype incompatible with float64, please explicitly cast to a compatible dtype first.\n",
      "  tradebook_long.loc[\n"
     ]
    },
    {
     "name": "stdout",
     "output_type": "stream",
     "text": [
      "EMA:22, X:3, PCT:1\n"
     ]
    },
    {
     "name": "stderr",
     "output_type": "stream",
     "text": [
      "/tmp/ipykernel_29457/2639050160.py:92: FutureWarning: Setting an item of incompatible dtype is deprecated and will raise an error in a future version of pandas. Value 'Trailing SL Hit' has dtype incompatible with float64, please explicitly cast to a compatible dtype first.\n",
      "  tradebook_long.loc[\n",
      "/tmp/ipykernel_29457/2611632047.py:45: RuntimeWarning: divide by zero encountered in scalar divide\n",
      "  roi_dd_ratio = total_roi / abs(max_drawdown)\n",
      "/tmp/ipykernel_29457/2639050160.py:92: FutureWarning: Setting an item of incompatible dtype is deprecated and will raise an error in a future version of pandas. Value 'Trailing SL Hit' has dtype incompatible with float64, please explicitly cast to a compatible dtype first.\n",
      "  tradebook_long.loc[\n"
     ]
    },
    {
     "name": "stdout",
     "output_type": "stream",
     "text": [
      "EMA:22, X:6, PCT:0.25\n",
      "EMA:22, X:6, PCT:0.5\n"
     ]
    },
    {
     "name": "stderr",
     "output_type": "stream",
     "text": [
      "/tmp/ipykernel_29457/2639050160.py:92: FutureWarning: Setting an item of incompatible dtype is deprecated and will raise an error in a future version of pandas. Value 'Trailing SL Hit' has dtype incompatible with float64, please explicitly cast to a compatible dtype first.\n",
      "  tradebook_long.loc[\n"
     ]
    },
    {
     "name": "stdout",
     "output_type": "stream",
     "text": [
      "EMA:22, X:6, PCT:0.75\n"
     ]
    },
    {
     "name": "stderr",
     "output_type": "stream",
     "text": [
      "/tmp/ipykernel_29457/2639050160.py:92: FutureWarning: Setting an item of incompatible dtype is deprecated and will raise an error in a future version of pandas. Value 'Trailing SL Hit' has dtype incompatible with float64, please explicitly cast to a compatible dtype first.\n",
      "  tradebook_long.loc[\n"
     ]
    },
    {
     "name": "stdout",
     "output_type": "stream",
     "text": [
      "EMA:22, X:6, PCT:1\n"
     ]
    },
    {
     "name": "stderr",
     "output_type": "stream",
     "text": [
      "/tmp/ipykernel_29457/2639050160.py:92: FutureWarning: Setting an item of incompatible dtype is deprecated and will raise an error in a future version of pandas. Value 'Trailing SL Hit' has dtype incompatible with float64, please explicitly cast to a compatible dtype first.\n",
      "  tradebook_long.loc[\n"
     ]
    },
    {
     "name": "stdout",
     "output_type": "stream",
     "text": [
      "EMA:22, X:9, PCT:0.25\n"
     ]
    },
    {
     "name": "stderr",
     "output_type": "stream",
     "text": [
      "/tmp/ipykernel_29457/2639050160.py:92: FutureWarning: Setting an item of incompatible dtype is deprecated and will raise an error in a future version of pandas. Value 'Trailing SL Hit' has dtype incompatible with float64, please explicitly cast to a compatible dtype first.\n",
      "  tradebook_long.loc[\n"
     ]
    },
    {
     "name": "stdout",
     "output_type": "stream",
     "text": [
      "EMA:22, X:9, PCT:0.5\n"
     ]
    },
    {
     "name": "stderr",
     "output_type": "stream",
     "text": [
      "/tmp/ipykernel_29457/2639050160.py:92: FutureWarning: Setting an item of incompatible dtype is deprecated and will raise an error in a future version of pandas. Value 'Trailing SL Hit' has dtype incompatible with float64, please explicitly cast to a compatible dtype first.\n",
      "  tradebook_long.loc[\n"
     ]
    },
    {
     "name": "stdout",
     "output_type": "stream",
     "text": [
      "EMA:22, X:9, PCT:0.75\n"
     ]
    },
    {
     "name": "stderr",
     "output_type": "stream",
     "text": [
      "/tmp/ipykernel_29457/2639050160.py:92: FutureWarning: Setting an item of incompatible dtype is deprecated and will raise an error in a future version of pandas. Value 'Trailing SL Hit' has dtype incompatible with float64, please explicitly cast to a compatible dtype first.\n",
      "  tradebook_long.loc[\n"
     ]
    },
    {
     "name": "stdout",
     "output_type": "stream",
     "text": [
      "EMA:22, X:9, PCT:1\n"
     ]
    },
    {
     "name": "stderr",
     "output_type": "stream",
     "text": [
      "/tmp/ipykernel_29457/2639050160.py:92: FutureWarning: Setting an item of incompatible dtype is deprecated and will raise an error in a future version of pandas. Value 'Trailing SL Hit' has dtype incompatible with float64, please explicitly cast to a compatible dtype first.\n",
      "  tradebook_long.loc[\n"
     ]
    },
    {
     "name": "stdout",
     "output_type": "stream",
     "text": [
      "EMA:22, X:12, PCT:0.25\n"
     ]
    },
    {
     "name": "stderr",
     "output_type": "stream",
     "text": [
      "/tmp/ipykernel_29457/2639050160.py:92: FutureWarning: Setting an item of incompatible dtype is deprecated and will raise an error in a future version of pandas. Value 'Trailing SL Hit' has dtype incompatible with float64, please explicitly cast to a compatible dtype first.\n",
      "  tradebook_long.loc[\n"
     ]
    },
    {
     "name": "stdout",
     "output_type": "stream",
     "text": [
      "EMA:22, X:12, PCT:0.5\n"
     ]
    },
    {
     "name": "stderr",
     "output_type": "stream",
     "text": [
      "/tmp/ipykernel_29457/2639050160.py:92: FutureWarning: Setting an item of incompatible dtype is deprecated and will raise an error in a future version of pandas. Value 'Trailing SL Hit' has dtype incompatible with float64, please explicitly cast to a compatible dtype first.\n",
      "  tradebook_long.loc[\n"
     ]
    },
    {
     "name": "stdout",
     "output_type": "stream",
     "text": [
      "EMA:22, X:12, PCT:0.75\n"
     ]
    },
    {
     "name": "stderr",
     "output_type": "stream",
     "text": [
      "/tmp/ipykernel_29457/2639050160.py:92: FutureWarning: Setting an item of incompatible dtype is deprecated and will raise an error in a future version of pandas. Value 'Trailing SL Hit' has dtype incompatible with float64, please explicitly cast to a compatible dtype first.\n",
      "  tradebook_long.loc[\n"
     ]
    },
    {
     "name": "stdout",
     "output_type": "stream",
     "text": [
      "EMA:22, X:12, PCT:1\n"
     ]
    },
    {
     "name": "stderr",
     "output_type": "stream",
     "text": [
      "/tmp/ipykernel_29457/2639050160.py:92: FutureWarning: Setting an item of incompatible dtype is deprecated and will raise an error in a future version of pandas. Value 'Trailing SL Hit' has dtype incompatible with float64, please explicitly cast to a compatible dtype first.\n",
      "  tradebook_long.loc[\n"
     ]
    },
    {
     "name": "stdout",
     "output_type": "stream",
     "text": [
      "EMA:22, X:15, PCT:0.25\n"
     ]
    },
    {
     "name": "stderr",
     "output_type": "stream",
     "text": [
      "/tmp/ipykernel_29457/2639050160.py:92: FutureWarning: Setting an item of incompatible dtype is deprecated and will raise an error in a future version of pandas. Value 'Trailing SL Hit' has dtype incompatible with float64, please explicitly cast to a compatible dtype first.\n",
      "  tradebook_long.loc[\n"
     ]
    },
    {
     "name": "stdout",
     "output_type": "stream",
     "text": [
      "EMA:22, X:15, PCT:0.5\n"
     ]
    },
    {
     "name": "stderr",
     "output_type": "stream",
     "text": [
      "/tmp/ipykernel_29457/2639050160.py:92: FutureWarning: Setting an item of incompatible dtype is deprecated and will raise an error in a future version of pandas. Value 'Trailing SL Hit' has dtype incompatible with float64, please explicitly cast to a compatible dtype first.\n",
      "  tradebook_long.loc[\n"
     ]
    },
    {
     "name": "stdout",
     "output_type": "stream",
     "text": [
      "EMA:22, X:15, PCT:0.75\n"
     ]
    },
    {
     "name": "stderr",
     "output_type": "stream",
     "text": [
      "/tmp/ipykernel_29457/2639050160.py:92: FutureWarning: Setting an item of incompatible dtype is deprecated and will raise an error in a future version of pandas. Value 'Trailing SL Hit' has dtype incompatible with float64, please explicitly cast to a compatible dtype first.\n",
      "  tradebook_long.loc[\n"
     ]
    },
    {
     "name": "stdout",
     "output_type": "stream",
     "text": [
      "EMA:22, X:15, PCT:1\n"
     ]
    },
    {
     "name": "stderr",
     "output_type": "stream",
     "text": [
      "/tmp/ipykernel_29457/2639050160.py:92: FutureWarning: Setting an item of incompatible dtype is deprecated and will raise an error in a future version of pandas. Value 'Trailing SL Hit' has dtype incompatible with float64, please explicitly cast to a compatible dtype first.\n",
      "  tradebook_long.loc[\n"
     ]
    },
    {
     "name": "stdout",
     "output_type": "stream",
     "text": [
      "EMA:22, X:18, PCT:0.25\n"
     ]
    },
    {
     "name": "stderr",
     "output_type": "stream",
     "text": [
      "/tmp/ipykernel_29457/2639050160.py:92: FutureWarning: Setting an item of incompatible dtype is deprecated and will raise an error in a future version of pandas. Value 'Trailing SL Hit' has dtype incompatible with float64, please explicitly cast to a compatible dtype first.\n",
      "  tradebook_long.loc[\n"
     ]
    },
    {
     "name": "stdout",
     "output_type": "stream",
     "text": [
      "EMA:22, X:18, PCT:0.5\n"
     ]
    },
    {
     "name": "stderr",
     "output_type": "stream",
     "text": [
      "/tmp/ipykernel_29457/2639050160.py:92: FutureWarning: Setting an item of incompatible dtype is deprecated and will raise an error in a future version of pandas. Value 'Trailing SL Hit' has dtype incompatible with float64, please explicitly cast to a compatible dtype first.\n",
      "  tradebook_long.loc[\n"
     ]
    },
    {
     "name": "stdout",
     "output_type": "stream",
     "text": [
      "EMA:22, X:18, PCT:0.75\n"
     ]
    },
    {
     "name": "stderr",
     "output_type": "stream",
     "text": [
      "/tmp/ipykernel_29457/2639050160.py:92: FutureWarning: Setting an item of incompatible dtype is deprecated and will raise an error in a future version of pandas. Value 'Trailing SL Hit' has dtype incompatible with float64, please explicitly cast to a compatible dtype first.\n",
      "  tradebook_long.loc[\n"
     ]
    },
    {
     "name": "stdout",
     "output_type": "stream",
     "text": [
      "EMA:22, X:18, PCT:1\n"
     ]
    },
    {
     "name": "stderr",
     "output_type": "stream",
     "text": [
      "/tmp/ipykernel_29457/2639050160.py:92: FutureWarning: Setting an item of incompatible dtype is deprecated and will raise an error in a future version of pandas. Value 'Trailing SL Hit' has dtype incompatible with float64, please explicitly cast to a compatible dtype first.\n",
      "  tradebook_long.loc[\n"
     ]
    },
    {
     "name": "stdout",
     "output_type": "stream",
     "text": [
      "EMA:22, X:21, PCT:0.25\n"
     ]
    },
    {
     "name": "stderr",
     "output_type": "stream",
     "text": [
      "/tmp/ipykernel_29457/2639050160.py:92: FutureWarning: Setting an item of incompatible dtype is deprecated and will raise an error in a future version of pandas. Value 'Trailing SL Hit' has dtype incompatible with float64, please explicitly cast to a compatible dtype first.\n",
      "  tradebook_long.loc[\n"
     ]
    },
    {
     "name": "stdout",
     "output_type": "stream",
     "text": [
      "EMA:22, X:21, PCT:0.5\n"
     ]
    },
    {
     "name": "stderr",
     "output_type": "stream",
     "text": [
      "/tmp/ipykernel_29457/2639050160.py:92: FutureWarning: Setting an item of incompatible dtype is deprecated and will raise an error in a future version of pandas. Value 'Trailing SL Hit' has dtype incompatible with float64, please explicitly cast to a compatible dtype first.\n",
      "  tradebook_long.loc[\n"
     ]
    },
    {
     "name": "stdout",
     "output_type": "stream",
     "text": [
      "EMA:22, X:21, PCT:0.75\n"
     ]
    },
    {
     "name": "stderr",
     "output_type": "stream",
     "text": [
      "/tmp/ipykernel_29457/2639050160.py:92: FutureWarning: Setting an item of incompatible dtype is deprecated and will raise an error in a future version of pandas. Value 'Trailing SL Hit' has dtype incompatible with float64, please explicitly cast to a compatible dtype first.\n",
      "  tradebook_long.loc[\n"
     ]
    },
    {
     "name": "stdout",
     "output_type": "stream",
     "text": [
      "EMA:22, X:21, PCT:1\n"
     ]
    },
    {
     "name": "stderr",
     "output_type": "stream",
     "text": [
      "/tmp/ipykernel_29457/2639050160.py:92: FutureWarning: Setting an item of incompatible dtype is deprecated and will raise an error in a future version of pandas. Value 'Trailing SL Hit' has dtype incompatible with float64, please explicitly cast to a compatible dtype first.\n",
      "  tradebook_long.loc[\n"
     ]
    },
    {
     "name": "stdout",
     "output_type": "stream",
     "text": [
      "EMA:22, X:24, PCT:0.25\n"
     ]
    },
    {
     "name": "stderr",
     "output_type": "stream",
     "text": [
      "/tmp/ipykernel_29457/2639050160.py:92: FutureWarning: Setting an item of incompatible dtype is deprecated and will raise an error in a future version of pandas. Value 'Trailing SL Hit' has dtype incompatible with float64, please explicitly cast to a compatible dtype first.\n",
      "  tradebook_long.loc[\n"
     ]
    },
    {
     "name": "stdout",
     "output_type": "stream",
     "text": [
      "EMA:22, X:24, PCT:0.5\n"
     ]
    },
    {
     "name": "stderr",
     "output_type": "stream",
     "text": [
      "/tmp/ipykernel_29457/2639050160.py:92: FutureWarning: Setting an item of incompatible dtype is deprecated and will raise an error in a future version of pandas. Value 'Trailing SL Hit' has dtype incompatible with float64, please explicitly cast to a compatible dtype first.\n",
      "  tradebook_long.loc[\n"
     ]
    },
    {
     "name": "stdout",
     "output_type": "stream",
     "text": [
      "EMA:22, X:24, PCT:0.75\n"
     ]
    },
    {
     "name": "stderr",
     "output_type": "stream",
     "text": [
      "/tmp/ipykernel_29457/2639050160.py:92: FutureWarning: Setting an item of incompatible dtype is deprecated and will raise an error in a future version of pandas. Value 'Trailing SL Hit' has dtype incompatible with float64, please explicitly cast to a compatible dtype first.\n",
      "  tradebook_long.loc[\n"
     ]
    },
    {
     "name": "stdout",
     "output_type": "stream",
     "text": [
      "EMA:22, X:24, PCT:1\n"
     ]
    },
    {
     "name": "stderr",
     "output_type": "stream",
     "text": [
      "/tmp/ipykernel_29457/2639050160.py:92: FutureWarning: Setting an item of incompatible dtype is deprecated and will raise an error in a future version of pandas. Value 'Trailing SL Hit' has dtype incompatible with float64, please explicitly cast to a compatible dtype first.\n",
      "  tradebook_long.loc[\n"
     ]
    },
    {
     "name": "stdout",
     "output_type": "stream",
     "text": [
      "EMA:22, X:27, PCT:0.25\n"
     ]
    },
    {
     "name": "stderr",
     "output_type": "stream",
     "text": [
      "/tmp/ipykernel_29457/2639050160.py:92: FutureWarning: Setting an item of incompatible dtype is deprecated and will raise an error in a future version of pandas. Value 'Trailing SL Hit' has dtype incompatible with float64, please explicitly cast to a compatible dtype first.\n",
      "  tradebook_long.loc[\n"
     ]
    },
    {
     "name": "stdout",
     "output_type": "stream",
     "text": [
      "EMA:22, X:27, PCT:0.5\n"
     ]
    },
    {
     "name": "stderr",
     "output_type": "stream",
     "text": [
      "/tmp/ipykernel_29457/2639050160.py:92: FutureWarning: Setting an item of incompatible dtype is deprecated and will raise an error in a future version of pandas. Value 'Trailing SL Hit' has dtype incompatible with float64, please explicitly cast to a compatible dtype first.\n",
      "  tradebook_long.loc[\n"
     ]
    },
    {
     "name": "stdout",
     "output_type": "stream",
     "text": [
      "EMA:22, X:27, PCT:0.75\n"
     ]
    },
    {
     "name": "stderr",
     "output_type": "stream",
     "text": [
      "/tmp/ipykernel_29457/2639050160.py:92: FutureWarning: Setting an item of incompatible dtype is deprecated and will raise an error in a future version of pandas. Value 'Trailing SL Hit' has dtype incompatible with float64, please explicitly cast to a compatible dtype first.\n",
      "  tradebook_long.loc[\n"
     ]
    },
    {
     "name": "stdout",
     "output_type": "stream",
     "text": [
      "EMA:22, X:27, PCT:1\n"
     ]
    },
    {
     "name": "stderr",
     "output_type": "stream",
     "text": [
      "/tmp/ipykernel_29457/2639050160.py:92: FutureWarning: Setting an item of incompatible dtype is deprecated and will raise an error in a future version of pandas. Value 'Trailing SL Hit' has dtype incompatible with float64, please explicitly cast to a compatible dtype first.\n",
      "  tradebook_long.loc[\n"
     ]
    },
    {
     "name": "stdout",
     "output_type": "stream",
     "text": [
      "EMA:22, X:30, PCT:0.25\n"
     ]
    },
    {
     "name": "stderr",
     "output_type": "stream",
     "text": [
      "/tmp/ipykernel_29457/2639050160.py:92: FutureWarning: Setting an item of incompatible dtype is deprecated and will raise an error in a future version of pandas. Value 'Trailing SL Hit' has dtype incompatible with float64, please explicitly cast to a compatible dtype first.\n",
      "  tradebook_long.loc[\n"
     ]
    },
    {
     "name": "stdout",
     "output_type": "stream",
     "text": [
      "EMA:22, X:30, PCT:0.5\n"
     ]
    },
    {
     "name": "stderr",
     "output_type": "stream",
     "text": [
      "/tmp/ipykernel_29457/2639050160.py:92: FutureWarning: Setting an item of incompatible dtype is deprecated and will raise an error in a future version of pandas. Value 'Trailing SL Hit' has dtype incompatible with float64, please explicitly cast to a compatible dtype first.\n",
      "  tradebook_long.loc[\n"
     ]
    },
    {
     "name": "stdout",
     "output_type": "stream",
     "text": [
      "EMA:22, X:30, PCT:0.75\n"
     ]
    },
    {
     "name": "stderr",
     "output_type": "stream",
     "text": [
      "/tmp/ipykernel_29457/2639050160.py:92: FutureWarning: Setting an item of incompatible dtype is deprecated and will raise an error in a future version of pandas. Value 'Trailing SL Hit' has dtype incompatible with float64, please explicitly cast to a compatible dtype first.\n",
      "  tradebook_long.loc[\n"
     ]
    },
    {
     "name": "stdout",
     "output_type": "stream",
     "text": [
      "EMA:22, X:30, PCT:1\n"
     ]
    },
    {
     "name": "stderr",
     "output_type": "stream",
     "text": [
      "/tmp/ipykernel_29457/2639050160.py:92: FutureWarning: Setting an item of incompatible dtype is deprecated and will raise an error in a future version of pandas. Value 'Trailing SL Hit' has dtype incompatible with float64, please explicitly cast to a compatible dtype first.\n",
      "  tradebook_long.loc[\n"
     ]
    },
    {
     "name": "stdout",
     "output_type": "stream",
     "text": [
      "EMA:22, X:33, PCT:0.25\n"
     ]
    },
    {
     "name": "stderr",
     "output_type": "stream",
     "text": [
      "/tmp/ipykernel_29457/2639050160.py:92: FutureWarning: Setting an item of incompatible dtype is deprecated and will raise an error in a future version of pandas. Value 'Trailing SL Hit' has dtype incompatible with float64, please explicitly cast to a compatible dtype first.\n",
      "  tradebook_long.loc[\n"
     ]
    },
    {
     "name": "stdout",
     "output_type": "stream",
     "text": [
      "EMA:22, X:33, PCT:0.5\n"
     ]
    },
    {
     "name": "stderr",
     "output_type": "stream",
     "text": [
      "/tmp/ipykernel_29457/2639050160.py:92: FutureWarning: Setting an item of incompatible dtype is deprecated and will raise an error in a future version of pandas. Value 'Trailing SL Hit' has dtype incompatible with float64, please explicitly cast to a compatible dtype first.\n",
      "  tradebook_long.loc[\n"
     ]
    },
    {
     "name": "stdout",
     "output_type": "stream",
     "text": [
      "EMA:22, X:33, PCT:0.75\n"
     ]
    },
    {
     "name": "stderr",
     "output_type": "stream",
     "text": [
      "/tmp/ipykernel_29457/2639050160.py:92: FutureWarning: Setting an item of incompatible dtype is deprecated and will raise an error in a future version of pandas. Value 'Trailing SL Hit' has dtype incompatible with float64, please explicitly cast to a compatible dtype first.\n",
      "  tradebook_long.loc[\n"
     ]
    },
    {
     "name": "stdout",
     "output_type": "stream",
     "text": [
      "EMA:22, X:33, PCT:1\n"
     ]
    },
    {
     "name": "stderr",
     "output_type": "stream",
     "text": [
      "/tmp/ipykernel_29457/2639050160.py:92: FutureWarning: Setting an item of incompatible dtype is deprecated and will raise an error in a future version of pandas. Value 'Trailing SL Hit' has dtype incompatible with float64, please explicitly cast to a compatible dtype first.\n",
      "  tradebook_long.loc[\n"
     ]
    },
    {
     "name": "stdout",
     "output_type": "stream",
     "text": [
      "EMA:22, X:36, PCT:0.25\n"
     ]
    },
    {
     "name": "stderr",
     "output_type": "stream",
     "text": [
      "/tmp/ipykernel_29457/2639050160.py:92: FutureWarning: Setting an item of incompatible dtype is deprecated and will raise an error in a future version of pandas. Value 'Trailing SL Hit' has dtype incompatible with float64, please explicitly cast to a compatible dtype first.\n",
      "  tradebook_long.loc[\n"
     ]
    },
    {
     "name": "stdout",
     "output_type": "stream",
     "text": [
      "        Total ROI Total Trades Win Rate Avg Profit% per Trade Avg Loss% per Trade Max Drawdown ROI/DD Ratio               Variation\n",
      "2017      42.8340           45  46.6667                4.2901             -1.9691     -11.5845       3.6975  EMA:22, X:36, PCT:0.25\n",
      "2018      75.7565           33  54.5455                5.3405             -1.3582      -4.1875      18.0910  EMA:22, X:36, PCT:0.25\n",
      "2019      34.4247           45  40.0000                4.5097             -1.7315     -15.1465       2.2728  EMA:22, X:36, PCT:0.25\n",
      "2020      76.9654           54  35.1852                7.3498             -1.7909     -12.9971       5.9217  EMA:22, X:36, PCT:0.25\n",
      "2021      42.3606           56  30.3571                6.3275             -1.6720     -18.3939       2.3030  EMA:22, X:36, PCT:0.25\n",
      "2022      33.3573           47  40.4255                4.9874             -2.1930     -15.3327       2.1756  EMA:22, X:36, PCT:0.25\n",
      "2023      71.5976           42  45.2381                5.9211             -1.7784      -7.7151       9.2802  EMA:22, X:36, PCT:0.25\n",
      "2024      21.6157           39  38.4615                4.0485             -1.7005      -8.7927       2.4584  EMA:22, X:36, PCT:0.25\n",
      "Overall  398.9119          361  40.4432                5.3603             -1.7929     -18.3939      21.6872  EMA:22, X:36, PCT:0.25\n",
      "EMA:22, X:36, PCT:0.5\n"
     ]
    },
    {
     "name": "stderr",
     "output_type": "stream",
     "text": [
      "/tmp/ipykernel_29457/2639050160.py:92: FutureWarning: Setting an item of incompatible dtype is deprecated and will raise an error in a future version of pandas. Value 'Trailing SL Hit' has dtype incompatible with float64, please explicitly cast to a compatible dtype first.\n",
      "  tradebook_long.loc[\n"
     ]
    },
    {
     "name": "stdout",
     "output_type": "stream",
     "text": [
      "EMA:22, X:36, PCT:0.75\n"
     ]
    },
    {
     "name": "stderr",
     "output_type": "stream",
     "text": [
      "/tmp/ipykernel_29457/2639050160.py:92: FutureWarning: Setting an item of incompatible dtype is deprecated and will raise an error in a future version of pandas. Value 'Trailing SL Hit' has dtype incompatible with float64, please explicitly cast to a compatible dtype first.\n",
      "  tradebook_long.loc[\n"
     ]
    },
    {
     "name": "stdout",
     "output_type": "stream",
     "text": [
      "EMA:22, X:36, PCT:1\n"
     ]
    },
    {
     "name": "stderr",
     "output_type": "stream",
     "text": [
      "/tmp/ipykernel_29457/2639050160.py:92: FutureWarning: Setting an item of incompatible dtype is deprecated and will raise an error in a future version of pandas. Value 'Trailing SL Hit' has dtype incompatible with float64, please explicitly cast to a compatible dtype first.\n",
      "  tradebook_long.loc[\n"
     ]
    },
    {
     "name": "stdout",
     "output_type": "stream",
     "text": [
      "EMA:24, X:3, PCT:0.25\n"
     ]
    },
    {
     "name": "stderr",
     "output_type": "stream",
     "text": [
      "/tmp/ipykernel_29457/2639050160.py:78: FutureWarning: Setting an item of incompatible dtype is deprecated and will raise an error in a future version of pandas. Value 'Initial SL Hit' has dtype incompatible with float64, please explicitly cast to a compatible dtype first.\n",
      "  tradebook_long.loc[\n"
     ]
    },
    {
     "name": "stdout",
     "output_type": "stream",
     "text": [
      "        Total ROI Total Trades Win Rate Avg Profit% per Trade Avg Loss% per Trade Max Drawdown ROI/DD Ratio              Variation\n",
      "2017      55.8150           52  38.4615                6.1678             -2.1106     -11.2235       4.9731  EMA:24, X:3, PCT:0.25\n",
      "2018      84.9100           40  55.0000                5.7667             -2.3310      -9.7962       8.6677  EMA:24, X:3, PCT:0.25\n",
      "2019      76.2846           52  42.3077                6.1367             -1.9575     -19.2349       3.9659  EMA:24, X:3, PCT:0.25\n",
      "2020     122.8665           55  41.8182                8.2076             -2.0596      -9.3948      13.0781  EMA:24, X:3, PCT:0.25\n",
      "2021      44.0610           64  35.9375                5.0914             -1.7815     -25.1088       1.7548  EMA:24, X:3, PCT:0.25\n",
      "2022      55.9699           53  28.3019                8.6783             -1.9528     -21.1927       2.6410  EMA:24, X:3, PCT:0.25\n",
      "2023      92.6182           46  41.3043                7.4890             -1.8398     -11.3890       8.1322  EMA:24, X:3, PCT:0.25\n",
      "2024      53.9718           43  39.5349                5.8416             -1.8134     -12.3440       4.3723  EMA:24, X:3, PCT:0.25\n",
      "Overall  586.4970          405  39.7531                6.6017             -1.9604     -25.1088      23.3583  EMA:24, X:3, PCT:0.25\n",
      "EMA:24, X:3, PCT:0.5\n"
     ]
    },
    {
     "name": "stderr",
     "output_type": "stream",
     "text": [
      "/tmp/ipykernel_29457/2639050160.py:92: FutureWarning: Setting an item of incompatible dtype is deprecated and will raise an error in a future version of pandas. Value 'Trailing SL Hit' has dtype incompatible with float64, please explicitly cast to a compatible dtype first.\n",
      "  tradebook_long.loc[\n"
     ]
    },
    {
     "name": "stdout",
     "output_type": "stream",
     "text": [
      "EMA:24, X:3, PCT:0.75\n"
     ]
    },
    {
     "name": "stderr",
     "output_type": "stream",
     "text": [
      "/tmp/ipykernel_29457/2639050160.py:92: FutureWarning: Setting an item of incompatible dtype is deprecated and will raise an error in a future version of pandas. Value 'Trailing SL Hit' has dtype incompatible with float64, please explicitly cast to a compatible dtype first.\n",
      "  tradebook_long.loc[\n"
     ]
    },
    {
     "name": "stdout",
     "output_type": "stream",
     "text": [
      "EMA:24, X:3, PCT:1\n"
     ]
    },
    {
     "name": "stderr",
     "output_type": "stream",
     "text": [
      "/tmp/ipykernel_29457/2639050160.py:92: FutureWarning: Setting an item of incompatible dtype is deprecated and will raise an error in a future version of pandas. Value 'Trailing SL Hit' has dtype incompatible with float64, please explicitly cast to a compatible dtype first.\n",
      "  tradebook_long.loc[\n",
      "/tmp/ipykernel_29457/2611632047.py:45: RuntimeWarning: divide by zero encountered in scalar divide\n",
      "  roi_dd_ratio = total_roi / abs(max_drawdown)\n",
      "/tmp/ipykernel_29457/2639050160.py:92: FutureWarning: Setting an item of incompatible dtype is deprecated and will raise an error in a future version of pandas. Value 'Trailing SL Hit' has dtype incompatible with float64, please explicitly cast to a compatible dtype first.\n",
      "  tradebook_long.loc[\n"
     ]
    },
    {
     "name": "stdout",
     "output_type": "stream",
     "text": [
      "EMA:24, X:6, PCT:0.25\n",
      "EMA:24, X:6, PCT:0.5\n"
     ]
    },
    {
     "name": "stderr",
     "output_type": "stream",
     "text": [
      "/tmp/ipykernel_29457/2639050160.py:92: FutureWarning: Setting an item of incompatible dtype is deprecated and will raise an error in a future version of pandas. Value 'Trailing SL Hit' has dtype incompatible with float64, please explicitly cast to a compatible dtype first.\n",
      "  tradebook_long.loc[\n"
     ]
    },
    {
     "name": "stdout",
     "output_type": "stream",
     "text": [
      "EMA:24, X:6, PCT:0.75\n"
     ]
    },
    {
     "name": "stderr",
     "output_type": "stream",
     "text": [
      "/tmp/ipykernel_29457/2639050160.py:92: FutureWarning: Setting an item of incompatible dtype is deprecated and will raise an error in a future version of pandas. Value 'Trailing SL Hit' has dtype incompatible with float64, please explicitly cast to a compatible dtype first.\n",
      "  tradebook_long.loc[\n"
     ]
    },
    {
     "name": "stdout",
     "output_type": "stream",
     "text": [
      "EMA:24, X:6, PCT:1\n"
     ]
    },
    {
     "name": "stderr",
     "output_type": "stream",
     "text": [
      "/tmp/ipykernel_29457/2639050160.py:92: FutureWarning: Setting an item of incompatible dtype is deprecated and will raise an error in a future version of pandas. Value 'Trailing SL Hit' has dtype incompatible with float64, please explicitly cast to a compatible dtype first.\n",
      "  tradebook_long.loc[\n"
     ]
    },
    {
     "name": "stdout",
     "output_type": "stream",
     "text": [
      "EMA:24, X:9, PCT:0.25\n"
     ]
    },
    {
     "name": "stderr",
     "output_type": "stream",
     "text": [
      "/tmp/ipykernel_29457/2639050160.py:92: FutureWarning: Setting an item of incompatible dtype is deprecated and will raise an error in a future version of pandas. Value 'Trailing SL Hit' has dtype incompatible with float64, please explicitly cast to a compatible dtype first.\n",
      "  tradebook_long.loc[\n"
     ]
    },
    {
     "name": "stdout",
     "output_type": "stream",
     "text": [
      "EMA:24, X:9, PCT:0.5\n"
     ]
    },
    {
     "name": "stderr",
     "output_type": "stream",
     "text": [
      "/tmp/ipykernel_29457/2639050160.py:92: FutureWarning: Setting an item of incompatible dtype is deprecated and will raise an error in a future version of pandas. Value 'Trailing SL Hit' has dtype incompatible with float64, please explicitly cast to a compatible dtype first.\n",
      "  tradebook_long.loc[\n"
     ]
    },
    {
     "name": "stdout",
     "output_type": "stream",
     "text": [
      "EMA:24, X:9, PCT:0.75\n"
     ]
    },
    {
     "name": "stderr",
     "output_type": "stream",
     "text": [
      "/tmp/ipykernel_29457/2639050160.py:92: FutureWarning: Setting an item of incompatible dtype is deprecated and will raise an error in a future version of pandas. Value 'Trailing SL Hit' has dtype incompatible with float64, please explicitly cast to a compatible dtype first.\n",
      "  tradebook_long.loc[\n"
     ]
    },
    {
     "name": "stdout",
     "output_type": "stream",
     "text": [
      "EMA:24, X:9, PCT:1\n"
     ]
    },
    {
     "name": "stderr",
     "output_type": "stream",
     "text": [
      "/tmp/ipykernel_29457/2639050160.py:92: FutureWarning: Setting an item of incompatible dtype is deprecated and will raise an error in a future version of pandas. Value 'Trailing SL Hit' has dtype incompatible with float64, please explicitly cast to a compatible dtype first.\n",
      "  tradebook_long.loc[\n"
     ]
    },
    {
     "name": "stdout",
     "output_type": "stream",
     "text": [
      "EMA:24, X:12, PCT:0.25\n"
     ]
    },
    {
     "name": "stderr",
     "output_type": "stream",
     "text": [
      "/tmp/ipykernel_29457/2639050160.py:92: FutureWarning: Setting an item of incompatible dtype is deprecated and will raise an error in a future version of pandas. Value 'Trailing SL Hit' has dtype incompatible with float64, please explicitly cast to a compatible dtype first.\n",
      "  tradebook_long.loc[\n"
     ]
    },
    {
     "name": "stdout",
     "output_type": "stream",
     "text": [
      "EMA:24, X:12, PCT:0.5\n"
     ]
    },
    {
     "name": "stderr",
     "output_type": "stream",
     "text": [
      "/tmp/ipykernel_29457/2639050160.py:92: FutureWarning: Setting an item of incompatible dtype is deprecated and will raise an error in a future version of pandas. Value 'Trailing SL Hit' has dtype incompatible with float64, please explicitly cast to a compatible dtype first.\n",
      "  tradebook_long.loc[\n"
     ]
    },
    {
     "name": "stdout",
     "output_type": "stream",
     "text": [
      "EMA:24, X:12, PCT:0.75\n"
     ]
    },
    {
     "name": "stderr",
     "output_type": "stream",
     "text": [
      "/tmp/ipykernel_29457/2639050160.py:92: FutureWarning: Setting an item of incompatible dtype is deprecated and will raise an error in a future version of pandas. Value 'Trailing SL Hit' has dtype incompatible with float64, please explicitly cast to a compatible dtype first.\n",
      "  tradebook_long.loc[\n"
     ]
    },
    {
     "name": "stdout",
     "output_type": "stream",
     "text": [
      "EMA:24, X:12, PCT:1\n"
     ]
    },
    {
     "name": "stderr",
     "output_type": "stream",
     "text": [
      "/tmp/ipykernel_29457/2639050160.py:92: FutureWarning: Setting an item of incompatible dtype is deprecated and will raise an error in a future version of pandas. Value 'Trailing SL Hit' has dtype incompatible with float64, please explicitly cast to a compatible dtype first.\n",
      "  tradebook_long.loc[\n"
     ]
    },
    {
     "name": "stdout",
     "output_type": "stream",
     "text": [
      "EMA:24, X:15, PCT:0.25\n"
     ]
    },
    {
     "name": "stderr",
     "output_type": "stream",
     "text": [
      "/tmp/ipykernel_29457/2639050160.py:92: FutureWarning: Setting an item of incompatible dtype is deprecated and will raise an error in a future version of pandas. Value 'Trailing SL Hit' has dtype incompatible with float64, please explicitly cast to a compatible dtype first.\n",
      "  tradebook_long.loc[\n"
     ]
    },
    {
     "name": "stdout",
     "output_type": "stream",
     "text": [
      "EMA:24, X:15, PCT:0.5\n"
     ]
    },
    {
     "name": "stderr",
     "output_type": "stream",
     "text": [
      "/tmp/ipykernel_29457/2639050160.py:92: FutureWarning: Setting an item of incompatible dtype is deprecated and will raise an error in a future version of pandas. Value 'Trailing SL Hit' has dtype incompatible with float64, please explicitly cast to a compatible dtype first.\n",
      "  tradebook_long.loc[\n"
     ]
    },
    {
     "name": "stdout",
     "output_type": "stream",
     "text": [
      "EMA:24, X:15, PCT:0.75\n"
     ]
    },
    {
     "name": "stderr",
     "output_type": "stream",
     "text": [
      "/tmp/ipykernel_29457/2639050160.py:92: FutureWarning: Setting an item of incompatible dtype is deprecated and will raise an error in a future version of pandas. Value 'Trailing SL Hit' has dtype incompatible with float64, please explicitly cast to a compatible dtype first.\n",
      "  tradebook_long.loc[\n"
     ]
    },
    {
     "name": "stdout",
     "output_type": "stream",
     "text": [
      "EMA:24, X:15, PCT:1\n"
     ]
    },
    {
     "name": "stderr",
     "output_type": "stream",
     "text": [
      "/tmp/ipykernel_29457/2639050160.py:92: FutureWarning: Setting an item of incompatible dtype is deprecated and will raise an error in a future version of pandas. Value 'Trailing SL Hit' has dtype incompatible with float64, please explicitly cast to a compatible dtype first.\n",
      "  tradebook_long.loc[\n"
     ]
    },
    {
     "name": "stdout",
     "output_type": "stream",
     "text": [
      "EMA:24, X:18, PCT:0.25\n"
     ]
    },
    {
     "name": "stderr",
     "output_type": "stream",
     "text": [
      "/tmp/ipykernel_29457/2639050160.py:92: FutureWarning: Setting an item of incompatible dtype is deprecated and will raise an error in a future version of pandas. Value 'Trailing SL Hit' has dtype incompatible with float64, please explicitly cast to a compatible dtype first.\n",
      "  tradebook_long.loc[\n"
     ]
    },
    {
     "name": "stdout",
     "output_type": "stream",
     "text": [
      "EMA:24, X:18, PCT:0.5\n"
     ]
    },
    {
     "name": "stderr",
     "output_type": "stream",
     "text": [
      "/tmp/ipykernel_29457/2639050160.py:92: FutureWarning: Setting an item of incompatible dtype is deprecated and will raise an error in a future version of pandas. Value 'Trailing SL Hit' has dtype incompatible with float64, please explicitly cast to a compatible dtype first.\n",
      "  tradebook_long.loc[\n"
     ]
    },
    {
     "name": "stdout",
     "output_type": "stream",
     "text": [
      "EMA:24, X:18, PCT:0.75\n"
     ]
    },
    {
     "name": "stderr",
     "output_type": "stream",
     "text": [
      "/tmp/ipykernel_29457/2639050160.py:92: FutureWarning: Setting an item of incompatible dtype is deprecated and will raise an error in a future version of pandas. Value 'Trailing SL Hit' has dtype incompatible with float64, please explicitly cast to a compatible dtype first.\n",
      "  tradebook_long.loc[\n"
     ]
    },
    {
     "name": "stdout",
     "output_type": "stream",
     "text": [
      "EMA:24, X:18, PCT:1\n"
     ]
    },
    {
     "name": "stderr",
     "output_type": "stream",
     "text": [
      "/tmp/ipykernel_29457/2639050160.py:92: FutureWarning: Setting an item of incompatible dtype is deprecated and will raise an error in a future version of pandas. Value 'Trailing SL Hit' has dtype incompatible with float64, please explicitly cast to a compatible dtype first.\n",
      "  tradebook_long.loc[\n"
     ]
    },
    {
     "name": "stdout",
     "output_type": "stream",
     "text": [
      "EMA:24, X:21, PCT:0.25\n"
     ]
    },
    {
     "name": "stderr",
     "output_type": "stream",
     "text": [
      "/tmp/ipykernel_29457/2639050160.py:92: FutureWarning: Setting an item of incompatible dtype is deprecated and will raise an error in a future version of pandas. Value 'Trailing SL Hit' has dtype incompatible with float64, please explicitly cast to a compatible dtype first.\n",
      "  tradebook_long.loc[\n"
     ]
    },
    {
     "name": "stdout",
     "output_type": "stream",
     "text": [
      "EMA:24, X:21, PCT:0.5\n"
     ]
    },
    {
     "name": "stderr",
     "output_type": "stream",
     "text": [
      "/tmp/ipykernel_29457/2639050160.py:92: FutureWarning: Setting an item of incompatible dtype is deprecated and will raise an error in a future version of pandas. Value 'Trailing SL Hit' has dtype incompatible with float64, please explicitly cast to a compatible dtype first.\n",
      "  tradebook_long.loc[\n"
     ]
    },
    {
     "name": "stdout",
     "output_type": "stream",
     "text": [
      "EMA:24, X:21, PCT:0.75\n"
     ]
    },
    {
     "name": "stderr",
     "output_type": "stream",
     "text": [
      "/tmp/ipykernel_29457/2639050160.py:92: FutureWarning: Setting an item of incompatible dtype is deprecated and will raise an error in a future version of pandas. Value 'Trailing SL Hit' has dtype incompatible with float64, please explicitly cast to a compatible dtype first.\n",
      "  tradebook_long.loc[\n"
     ]
    },
    {
     "name": "stdout",
     "output_type": "stream",
     "text": [
      "EMA:24, X:21, PCT:1\n"
     ]
    },
    {
     "name": "stderr",
     "output_type": "stream",
     "text": [
      "/tmp/ipykernel_29457/2639050160.py:92: FutureWarning: Setting an item of incompatible dtype is deprecated and will raise an error in a future version of pandas. Value 'Trailing SL Hit' has dtype incompatible with float64, please explicitly cast to a compatible dtype first.\n",
      "  tradebook_long.loc[\n"
     ]
    },
    {
     "name": "stdout",
     "output_type": "stream",
     "text": [
      "EMA:24, X:24, PCT:0.25\n"
     ]
    },
    {
     "name": "stderr",
     "output_type": "stream",
     "text": [
      "/tmp/ipykernel_29457/2639050160.py:92: FutureWarning: Setting an item of incompatible dtype is deprecated and will raise an error in a future version of pandas. Value 'Trailing SL Hit' has dtype incompatible with float64, please explicitly cast to a compatible dtype first.\n",
      "  tradebook_long.loc[\n"
     ]
    },
    {
     "name": "stdout",
     "output_type": "stream",
     "text": [
      "EMA:24, X:24, PCT:0.5\n"
     ]
    },
    {
     "name": "stderr",
     "output_type": "stream",
     "text": [
      "/tmp/ipykernel_29457/2639050160.py:92: FutureWarning: Setting an item of incompatible dtype is deprecated and will raise an error in a future version of pandas. Value 'Trailing SL Hit' has dtype incompatible with float64, please explicitly cast to a compatible dtype first.\n",
      "  tradebook_long.loc[\n"
     ]
    },
    {
     "name": "stdout",
     "output_type": "stream",
     "text": [
      "EMA:24, X:24, PCT:0.75\n"
     ]
    },
    {
     "name": "stderr",
     "output_type": "stream",
     "text": [
      "/tmp/ipykernel_29457/2639050160.py:92: FutureWarning: Setting an item of incompatible dtype is deprecated and will raise an error in a future version of pandas. Value 'Trailing SL Hit' has dtype incompatible with float64, please explicitly cast to a compatible dtype first.\n",
      "  tradebook_long.loc[\n"
     ]
    },
    {
     "name": "stdout",
     "output_type": "stream",
     "text": [
      "EMA:24, X:24, PCT:1\n"
     ]
    },
    {
     "name": "stderr",
     "output_type": "stream",
     "text": [
      "/tmp/ipykernel_29457/2639050160.py:92: FutureWarning: Setting an item of incompatible dtype is deprecated and will raise an error in a future version of pandas. Value 'Trailing SL Hit' has dtype incompatible with float64, please explicitly cast to a compatible dtype first.\n",
      "  tradebook_long.loc[\n"
     ]
    },
    {
     "name": "stdout",
     "output_type": "stream",
     "text": [
      "EMA:24, X:27, PCT:0.25\n"
     ]
    },
    {
     "name": "stderr",
     "output_type": "stream",
     "text": [
      "/tmp/ipykernel_29457/2639050160.py:92: FutureWarning: Setting an item of incompatible dtype is deprecated and will raise an error in a future version of pandas. Value 'Trailing SL Hit' has dtype incompatible with float64, please explicitly cast to a compatible dtype first.\n",
      "  tradebook_long.loc[\n"
     ]
    },
    {
     "name": "stdout",
     "output_type": "stream",
     "text": [
      "EMA:24, X:27, PCT:0.5\n"
     ]
    },
    {
     "name": "stderr",
     "output_type": "stream",
     "text": [
      "/tmp/ipykernel_29457/2639050160.py:92: FutureWarning: Setting an item of incompatible dtype is deprecated and will raise an error in a future version of pandas. Value 'Trailing SL Hit' has dtype incompatible with float64, please explicitly cast to a compatible dtype first.\n",
      "  tradebook_long.loc[\n"
     ]
    },
    {
     "name": "stdout",
     "output_type": "stream",
     "text": [
      "EMA:24, X:27, PCT:0.75\n"
     ]
    },
    {
     "name": "stderr",
     "output_type": "stream",
     "text": [
      "/tmp/ipykernel_29457/2639050160.py:92: FutureWarning: Setting an item of incompatible dtype is deprecated and will raise an error in a future version of pandas. Value 'Trailing SL Hit' has dtype incompatible with float64, please explicitly cast to a compatible dtype first.\n",
      "  tradebook_long.loc[\n"
     ]
    },
    {
     "name": "stdout",
     "output_type": "stream",
     "text": [
      "EMA:24, X:27, PCT:1\n"
     ]
    },
    {
     "name": "stderr",
     "output_type": "stream",
     "text": [
      "/tmp/ipykernel_29457/2639050160.py:92: FutureWarning: Setting an item of incompatible dtype is deprecated and will raise an error in a future version of pandas. Value 'Trailing SL Hit' has dtype incompatible with float64, please explicitly cast to a compatible dtype first.\n",
      "  tradebook_long.loc[\n"
     ]
    },
    {
     "name": "stdout",
     "output_type": "stream",
     "text": [
      "EMA:24, X:30, PCT:0.25\n"
     ]
    },
    {
     "name": "stderr",
     "output_type": "stream",
     "text": [
      "/tmp/ipykernel_29457/2639050160.py:92: FutureWarning: Setting an item of incompatible dtype is deprecated and will raise an error in a future version of pandas. Value 'Trailing SL Hit' has dtype incompatible with float64, please explicitly cast to a compatible dtype first.\n",
      "  tradebook_long.loc[\n"
     ]
    },
    {
     "name": "stdout",
     "output_type": "stream",
     "text": [
      "EMA:24, X:30, PCT:0.5\n"
     ]
    },
    {
     "name": "stderr",
     "output_type": "stream",
     "text": [
      "/tmp/ipykernel_29457/2639050160.py:92: FutureWarning: Setting an item of incompatible dtype is deprecated and will raise an error in a future version of pandas. Value 'Trailing SL Hit' has dtype incompatible with float64, please explicitly cast to a compatible dtype first.\n",
      "  tradebook_long.loc[\n"
     ]
    },
    {
     "name": "stdout",
     "output_type": "stream",
     "text": [
      "EMA:24, X:30, PCT:0.75\n"
     ]
    },
    {
     "name": "stderr",
     "output_type": "stream",
     "text": [
      "/tmp/ipykernel_29457/2639050160.py:92: FutureWarning: Setting an item of incompatible dtype is deprecated and will raise an error in a future version of pandas. Value 'Trailing SL Hit' has dtype incompatible with float64, please explicitly cast to a compatible dtype first.\n",
      "  tradebook_long.loc[\n"
     ]
    },
    {
     "name": "stdout",
     "output_type": "stream",
     "text": [
      "EMA:24, X:30, PCT:1\n"
     ]
    },
    {
     "name": "stderr",
     "output_type": "stream",
     "text": [
      "/tmp/ipykernel_29457/2639050160.py:92: FutureWarning: Setting an item of incompatible dtype is deprecated and will raise an error in a future version of pandas. Value 'Trailing SL Hit' has dtype incompatible with float64, please explicitly cast to a compatible dtype first.\n",
      "  tradebook_long.loc[\n"
     ]
    },
    {
     "name": "stdout",
     "output_type": "stream",
     "text": [
      "EMA:24, X:33, PCT:0.25\n"
     ]
    },
    {
     "name": "stderr",
     "output_type": "stream",
     "text": [
      "/tmp/ipykernel_29457/2639050160.py:92: FutureWarning: Setting an item of incompatible dtype is deprecated and will raise an error in a future version of pandas. Value 'Trailing SL Hit' has dtype incompatible with float64, please explicitly cast to a compatible dtype first.\n",
      "  tradebook_long.loc[\n"
     ]
    },
    {
     "name": "stdout",
     "output_type": "stream",
     "text": [
      "EMA:24, X:33, PCT:0.5\n"
     ]
    },
    {
     "name": "stderr",
     "output_type": "stream",
     "text": [
      "/tmp/ipykernel_29457/2639050160.py:92: FutureWarning: Setting an item of incompatible dtype is deprecated and will raise an error in a future version of pandas. Value 'Trailing SL Hit' has dtype incompatible with float64, please explicitly cast to a compatible dtype first.\n",
      "  tradebook_long.loc[\n"
     ]
    },
    {
     "name": "stdout",
     "output_type": "stream",
     "text": [
      "EMA:24, X:33, PCT:0.75\n"
     ]
    },
    {
     "name": "stderr",
     "output_type": "stream",
     "text": [
      "/tmp/ipykernel_29457/2639050160.py:92: FutureWarning: Setting an item of incompatible dtype is deprecated and will raise an error in a future version of pandas. Value 'Trailing SL Hit' has dtype incompatible with float64, please explicitly cast to a compatible dtype first.\n",
      "  tradebook_long.loc[\n"
     ]
    },
    {
     "name": "stdout",
     "output_type": "stream",
     "text": [
      "EMA:24, X:33, PCT:1\n"
     ]
    },
    {
     "name": "stderr",
     "output_type": "stream",
     "text": [
      "/tmp/ipykernel_29457/2639050160.py:92: FutureWarning: Setting an item of incompatible dtype is deprecated and will raise an error in a future version of pandas. Value 'Trailing SL Hit' has dtype incompatible with float64, please explicitly cast to a compatible dtype first.\n",
      "  tradebook_long.loc[\n"
     ]
    },
    {
     "name": "stdout",
     "output_type": "stream",
     "text": [
      "EMA:24, X:36, PCT:0.25\n"
     ]
    },
    {
     "name": "stderr",
     "output_type": "stream",
     "text": [
      "/tmp/ipykernel_29457/2639050160.py:92: FutureWarning: Setting an item of incompatible dtype is deprecated and will raise an error in a future version of pandas. Value 'Trailing SL Hit' has dtype incompatible with float64, please explicitly cast to a compatible dtype first.\n",
      "  tradebook_long.loc[\n"
     ]
    },
    {
     "name": "stdout",
     "output_type": "stream",
     "text": [
      "        Total ROI Total Trades Win Rate Avg Profit% per Trade Avg Loss% per Trade Max Drawdown ROI/DD Ratio               Variation\n",
      "2017      36.0720           43  41.8605                4.6395             -1.8975     -11.5845       3.1138  EMA:24, X:36, PCT:0.25\n",
      "2018      76.2689           31  58.0645                5.2960             -1.4662      -4.1875      18.2133  EMA:24, X:36, PCT:0.25\n",
      "2019      37.5170           42  40.4762                4.8527             -1.7992     -15.2008       2.4681  EMA:24, X:36, PCT:0.25\n",
      "2020      80.0277           47  40.4255                7.1819             -2.0153     -11.4192       7.0082  EMA:24, X:36, PCT:0.25\n",
      "2021      40.2320           51  31.3725                6.3100             -1.7351     -18.6469       2.1576  EMA:24, X:36, PCT:0.25\n",
      "2022      30.9458           45  40.0000                5.0326             -2.2089     -15.3327       2.0183  EMA:24, X:36, PCT:0.25\n",
      "2023      67.6960           41  46.3415                5.6242             -1.7802      -7.7151       8.7745  EMA:24, X:36, PCT:0.25\n",
      "2024      20.0361           39  38.4615                3.9567             -1.7093      -8.7927       2.2787  EMA:24, X:36, PCT:0.25\n",
      "Overall  388.7956          339  41.2979                5.3968             -1.8523     -18.6469      20.8504  EMA:24, X:36, PCT:0.25\n",
      "EMA:24, X:36, PCT:0.5\n"
     ]
    },
    {
     "name": "stderr",
     "output_type": "stream",
     "text": [
      "/tmp/ipykernel_29457/2639050160.py:92: FutureWarning: Setting an item of incompatible dtype is deprecated and will raise an error in a future version of pandas. Value 'Trailing SL Hit' has dtype incompatible with float64, please explicitly cast to a compatible dtype first.\n",
      "  tradebook_long.loc[\n"
     ]
    },
    {
     "name": "stdout",
     "output_type": "stream",
     "text": [
      "EMA:24, X:36, PCT:0.75\n"
     ]
    },
    {
     "name": "stderr",
     "output_type": "stream",
     "text": [
      "/tmp/ipykernel_29457/2639050160.py:92: FutureWarning: Setting an item of incompatible dtype is deprecated and will raise an error in a future version of pandas. Value 'Trailing SL Hit' has dtype incompatible with float64, please explicitly cast to a compatible dtype first.\n",
      "  tradebook_long.loc[\n"
     ]
    },
    {
     "name": "stdout",
     "output_type": "stream",
     "text": [
      "EMA:24, X:36, PCT:1\n"
     ]
    },
    {
     "name": "stderr",
     "output_type": "stream",
     "text": [
      "/tmp/ipykernel_29457/2639050160.py:92: FutureWarning: Setting an item of incompatible dtype is deprecated and will raise an error in a future version of pandas. Value 'Trailing SL Hit' has dtype incompatible with float64, please explicitly cast to a compatible dtype first.\n",
      "  tradebook_long.loc[\n"
     ]
    },
    {
     "name": "stdout",
     "output_type": "stream",
     "text": [
      "EMA:26, X:3, PCT:0.25\n"
     ]
    },
    {
     "name": "stderr",
     "output_type": "stream",
     "text": [
      "/tmp/ipykernel_29457/2639050160.py:78: FutureWarning: Setting an item of incompatible dtype is deprecated and will raise an error in a future version of pandas. Value 'Initial SL Hit' has dtype incompatible with float64, please explicitly cast to a compatible dtype first.\n",
      "  tradebook_long.loc[\n"
     ]
    },
    {
     "name": "stdout",
     "output_type": "stream",
     "text": [
      "        Total ROI Total Trades Win Rate Avg Profit% per Trade Avg Loss% per Trade Max Drawdown ROI/DD Ratio              Variation\n",
      "2017      61.2256           50  40.0000                6.2257             -2.1096     -11.2235       5.4551  EMA:26, X:3, PCT:0.25\n",
      "2018      93.3826           37  54.0541                6.4415             -2.0851      -7.4635      12.5119  EMA:26, X:3, PCT:0.25\n",
      "2019      69.0846           50  42.0000                6.1774             -2.0911     -18.2564       3.7841  EMA:26, X:3, PCT:0.25\n",
      "2020     124.3611           53  41.5094                8.6113             -2.0996     -10.5758      11.7590  EMA:26, X:3, PCT:0.25\n",
      "2021      48.2219           61  39.3443                4.9038             -1.8775     -23.2055       2.0780  EMA:26, X:3, PCT:0.25\n",
      "2022      60.1972           51  29.4118                8.5340             -1.8837     -15.6041       3.8578  EMA:26, X:3, PCT:0.25\n",
      "2023      85.2742           45  40.0000                7.8574             -2.0800     -11.4573       7.4428  EMA:26, X:3, PCT:0.25\n",
      "2024      60.6692           41  41.4634                5.8002             -1.6493     -10.5368       5.7579  EMA:26, X:3, PCT:0.25\n",
      "Overall  602.4164          388  40.4639                6.7405             -1.9819     -23.2055      25.9600  EMA:26, X:3, PCT:0.25\n",
      "EMA:26, X:3, PCT:0.5\n"
     ]
    },
    {
     "name": "stderr",
     "output_type": "stream",
     "text": [
      "/tmp/ipykernel_29457/2639050160.py:78: FutureWarning: Setting an item of incompatible dtype is deprecated and will raise an error in a future version of pandas. Value 'Initial SL Hit' has dtype incompatible with float64, please explicitly cast to a compatible dtype first.\n",
      "  tradebook_long.loc[\n"
     ]
    },
    {
     "name": "stdout",
     "output_type": "stream",
     "text": [
      "EMA:26, X:3, PCT:0.75\n"
     ]
    },
    {
     "name": "stderr",
     "output_type": "stream",
     "text": [
      "/tmp/ipykernel_29457/2639050160.py:92: FutureWarning: Setting an item of incompatible dtype is deprecated and will raise an error in a future version of pandas. Value 'Trailing SL Hit' has dtype incompatible with float64, please explicitly cast to a compatible dtype first.\n",
      "  tradebook_long.loc[\n"
     ]
    },
    {
     "name": "stdout",
     "output_type": "stream",
     "text": [
      "EMA:26, X:3, PCT:1\n"
     ]
    },
    {
     "name": "stderr",
     "output_type": "stream",
     "text": [
      "/tmp/ipykernel_29457/2639050160.py:92: FutureWarning: Setting an item of incompatible dtype is deprecated and will raise an error in a future version of pandas. Value 'Trailing SL Hit' has dtype incompatible with float64, please explicitly cast to a compatible dtype first.\n",
      "  tradebook_long.loc[\n",
      "/tmp/ipykernel_29457/2611632047.py:45: RuntimeWarning: divide by zero encountered in scalar divide\n",
      "  roi_dd_ratio = total_roi / abs(max_drawdown)\n",
      "/tmp/ipykernel_29457/2639050160.py:92: FutureWarning: Setting an item of incompatible dtype is deprecated and will raise an error in a future version of pandas. Value 'Trailing SL Hit' has dtype incompatible with float64, please explicitly cast to a compatible dtype first.\n",
      "  tradebook_long.loc[\n"
     ]
    },
    {
     "name": "stdout",
     "output_type": "stream",
     "text": [
      "EMA:26, X:6, PCT:0.25\n",
      "        Total ROI Total Trades Win Rate Avg Profit% per Trade Avg Loss% per Trade Max Drawdown ROI/DD Ratio              Variation\n",
      "2017      43.4776           49  38.7755                5.1604             -1.8190     -11.3636       3.8260  EMA:26, X:6, PCT:0.25\n",
      "2018      89.9644           38  52.6316                6.2375             -1.9326      -6.6865      13.4546  EMA:26, X:6, PCT:0.25\n",
      "2019      49.4908           50  40.0000                5.4077             -1.9554     -22.5727       2.1925  EMA:26, X:6, PCT:0.25\n",
      "2020      72.2927           52  42.3077                5.9930             -1.9851      -9.2193       7.8414  EMA:26, X:6, PCT:0.25\n",
      "2021      68.0157           57  42.1053                4.9923             -1.5697     -18.2521       3.7265  EMA:26, X:6, PCT:0.25\n",
      "2022      43.3992           50  30.0000                7.0306             -1.7731     -14.5476       2.9833  EMA:26, X:6, PCT:0.25\n",
      "2023      59.3687           48  41.6667                5.9855             -2.1551     -17.0106       3.4901  EMA:26, X:6, PCT:0.25\n",
      "2024      36.9910           42  35.7143                5.0035             -1.4639      -9.4646       3.9084  EMA:26, X:6, PCT:0.25\n",
      "Overall  463.0001          386  40.1554                5.6957             -1.8254     -22.5727      20.5115  EMA:26, X:6, PCT:0.25\n",
      "EMA:26, X:6, PCT:0.5\n"
     ]
    },
    {
     "name": "stderr",
     "output_type": "stream",
     "text": [
      "/tmp/ipykernel_29457/2639050160.py:92: FutureWarning: Setting an item of incompatible dtype is deprecated and will raise an error in a future version of pandas. Value 'Trailing SL Hit' has dtype incompatible with float64, please explicitly cast to a compatible dtype first.\n",
      "  tradebook_long.loc[\n"
     ]
    },
    {
     "name": "stdout",
     "output_type": "stream",
     "text": [
      "EMA:26, X:6, PCT:0.75\n"
     ]
    },
    {
     "name": "stderr",
     "output_type": "stream",
     "text": [
      "/tmp/ipykernel_29457/2639050160.py:92: FutureWarning: Setting an item of incompatible dtype is deprecated and will raise an error in a future version of pandas. Value 'Trailing SL Hit' has dtype incompatible with float64, please explicitly cast to a compatible dtype first.\n",
      "  tradebook_long.loc[\n"
     ]
    },
    {
     "name": "stdout",
     "output_type": "stream",
     "text": [
      "EMA:26, X:6, PCT:1\n"
     ]
    },
    {
     "name": "stderr",
     "output_type": "stream",
     "text": [
      "/tmp/ipykernel_29457/2639050160.py:92: FutureWarning: Setting an item of incompatible dtype is deprecated and will raise an error in a future version of pandas. Value 'Trailing SL Hit' has dtype incompatible with float64, please explicitly cast to a compatible dtype first.\n",
      "  tradebook_long.loc[\n"
     ]
    },
    {
     "name": "stdout",
     "output_type": "stream",
     "text": [
      "EMA:26, X:9, PCT:0.25\n"
     ]
    },
    {
     "name": "stderr",
     "output_type": "stream",
     "text": [
      "/tmp/ipykernel_29457/2639050160.py:92: FutureWarning: Setting an item of incompatible dtype is deprecated and will raise an error in a future version of pandas. Value 'Trailing SL Hit' has dtype incompatible with float64, please explicitly cast to a compatible dtype first.\n",
      "  tradebook_long.loc[\n"
     ]
    },
    {
     "name": "stdout",
     "output_type": "stream",
     "text": [
      "EMA:26, X:9, PCT:0.5\n"
     ]
    },
    {
     "name": "stderr",
     "output_type": "stream",
     "text": [
      "/tmp/ipykernel_29457/2639050160.py:92: FutureWarning: Setting an item of incompatible dtype is deprecated and will raise an error in a future version of pandas. Value 'Trailing SL Hit' has dtype incompatible with float64, please explicitly cast to a compatible dtype first.\n",
      "  tradebook_long.loc[\n"
     ]
    },
    {
     "name": "stdout",
     "output_type": "stream",
     "text": [
      "EMA:26, X:9, PCT:0.75\n"
     ]
    },
    {
     "name": "stderr",
     "output_type": "stream",
     "text": [
      "/tmp/ipykernel_29457/2639050160.py:92: FutureWarning: Setting an item of incompatible dtype is deprecated and will raise an error in a future version of pandas. Value 'Trailing SL Hit' has dtype incompatible with float64, please explicitly cast to a compatible dtype first.\n",
      "  tradebook_long.loc[\n"
     ]
    },
    {
     "name": "stdout",
     "output_type": "stream",
     "text": [
      "EMA:26, X:9, PCT:1\n"
     ]
    },
    {
     "name": "stderr",
     "output_type": "stream",
     "text": [
      "/tmp/ipykernel_29457/2639050160.py:92: FutureWarning: Setting an item of incompatible dtype is deprecated and will raise an error in a future version of pandas. Value 'Trailing SL Hit' has dtype incompatible with float64, please explicitly cast to a compatible dtype first.\n",
      "  tradebook_long.loc[\n"
     ]
    },
    {
     "name": "stdout",
     "output_type": "stream",
     "text": [
      "EMA:26, X:12, PCT:0.25\n"
     ]
    },
    {
     "name": "stderr",
     "output_type": "stream",
     "text": [
      "/tmp/ipykernel_29457/2639050160.py:92: FutureWarning: Setting an item of incompatible dtype is deprecated and will raise an error in a future version of pandas. Value 'Trailing SL Hit' has dtype incompatible with float64, please explicitly cast to a compatible dtype first.\n",
      "  tradebook_long.loc[\n"
     ]
    },
    {
     "name": "stdout",
     "output_type": "stream",
     "text": [
      "EMA:26, X:12, PCT:0.5\n"
     ]
    },
    {
     "name": "stderr",
     "output_type": "stream",
     "text": [
      "/tmp/ipykernel_29457/2639050160.py:92: FutureWarning: Setting an item of incompatible dtype is deprecated and will raise an error in a future version of pandas. Value 'Trailing SL Hit' has dtype incompatible with float64, please explicitly cast to a compatible dtype first.\n",
      "  tradebook_long.loc[\n"
     ]
    },
    {
     "name": "stdout",
     "output_type": "stream",
     "text": [
      "EMA:26, X:12, PCT:0.75\n"
     ]
    },
    {
     "name": "stderr",
     "output_type": "stream",
     "text": [
      "/tmp/ipykernel_29457/2639050160.py:92: FutureWarning: Setting an item of incompatible dtype is deprecated and will raise an error in a future version of pandas. Value 'Trailing SL Hit' has dtype incompatible with float64, please explicitly cast to a compatible dtype first.\n",
      "  tradebook_long.loc[\n"
     ]
    },
    {
     "name": "stdout",
     "output_type": "stream",
     "text": [
      "EMA:26, X:12, PCT:1\n"
     ]
    },
    {
     "name": "stderr",
     "output_type": "stream",
     "text": [
      "/tmp/ipykernel_29457/2639050160.py:92: FutureWarning: Setting an item of incompatible dtype is deprecated and will raise an error in a future version of pandas. Value 'Trailing SL Hit' has dtype incompatible with float64, please explicitly cast to a compatible dtype first.\n",
      "  tradebook_long.loc[\n"
     ]
    },
    {
     "name": "stdout",
     "output_type": "stream",
     "text": [
      "EMA:26, X:15, PCT:0.25\n"
     ]
    },
    {
     "name": "stderr",
     "output_type": "stream",
     "text": [
      "/tmp/ipykernel_29457/2639050160.py:92: FutureWarning: Setting an item of incompatible dtype is deprecated and will raise an error in a future version of pandas. Value 'Trailing SL Hit' has dtype incompatible with float64, please explicitly cast to a compatible dtype first.\n",
      "  tradebook_long.loc[\n"
     ]
    },
    {
     "name": "stdout",
     "output_type": "stream",
     "text": [
      "EMA:26, X:15, PCT:0.5\n"
     ]
    },
    {
     "name": "stderr",
     "output_type": "stream",
     "text": [
      "/tmp/ipykernel_29457/2639050160.py:92: FutureWarning: Setting an item of incompatible dtype is deprecated and will raise an error in a future version of pandas. Value 'Trailing SL Hit' has dtype incompatible with float64, please explicitly cast to a compatible dtype first.\n",
      "  tradebook_long.loc[\n"
     ]
    },
    {
     "name": "stdout",
     "output_type": "stream",
     "text": [
      "EMA:26, X:15, PCT:0.75\n"
     ]
    },
    {
     "name": "stderr",
     "output_type": "stream",
     "text": [
      "/tmp/ipykernel_29457/2639050160.py:92: FutureWarning: Setting an item of incompatible dtype is deprecated and will raise an error in a future version of pandas. Value 'Trailing SL Hit' has dtype incompatible with float64, please explicitly cast to a compatible dtype first.\n",
      "  tradebook_long.loc[\n"
     ]
    },
    {
     "name": "stdout",
     "output_type": "stream",
     "text": [
      "EMA:26, X:15, PCT:1\n"
     ]
    },
    {
     "name": "stderr",
     "output_type": "stream",
     "text": [
      "/tmp/ipykernel_29457/2639050160.py:92: FutureWarning: Setting an item of incompatible dtype is deprecated and will raise an error in a future version of pandas. Value 'Trailing SL Hit' has dtype incompatible with float64, please explicitly cast to a compatible dtype first.\n",
      "  tradebook_long.loc[\n"
     ]
    },
    {
     "name": "stdout",
     "output_type": "stream",
     "text": [
      "EMA:26, X:18, PCT:0.25\n"
     ]
    },
    {
     "name": "stderr",
     "output_type": "stream",
     "text": [
      "/tmp/ipykernel_29457/2639050160.py:92: FutureWarning: Setting an item of incompatible dtype is deprecated and will raise an error in a future version of pandas. Value 'Trailing SL Hit' has dtype incompatible with float64, please explicitly cast to a compatible dtype first.\n",
      "  tradebook_long.loc[\n"
     ]
    },
    {
     "name": "stdout",
     "output_type": "stream",
     "text": [
      "        Total ROI Total Trades Win Rate Avg Profit% per Trade Avg Loss% per Trade Max Drawdown ROI/DD Ratio               Variation\n",
      "2017      36.7267           39  48.7179                4.3651             -2.3105      -9.4102       3.9029  EMA:26, X:18, PCT:0.25\n",
      "2018      71.7840           39  48.7179                5.8202             -1.9400      -8.9802       7.9936  EMA:26, X:18, PCT:0.25\n",
      "2019      49.9362           46  39.1304                5.8794             -1.9962     -15.1781       3.2900  EMA:26, X:18, PCT:0.25\n",
      "2020      58.2176           47  36.1702                6.7141             -1.8641      -9.7081       5.9968  EMA:26, X:18, PCT:0.25\n",
      "2021      72.3126           47  44.6809                5.1974             -1.4166     -13.2638       5.4519  EMA:26, X:18, PCT:0.25\n",
      "2022      40.6600           44  31.8182                6.8604             -1.8462     -13.6124       2.9870  EMA:26, X:18, PCT:0.25\n",
      "2023      48.8812           45  35.5556                6.7249             -2.0247     -19.8855       2.4581  EMA:26, X:18, PCT:0.25\n",
      "2024      20.3443           40  35.0000                4.5340             -1.7253     -12.9080       1.5761  EMA:26, X:18, PCT:0.25\n",
      "Overall  398.8626          347  39.7695                5.7229             -1.8793     -19.8855      20.0580  EMA:26, X:18, PCT:0.25\n",
      "EMA:26, X:18, PCT:0.5\n"
     ]
    },
    {
     "name": "stderr",
     "output_type": "stream",
     "text": [
      "/tmp/ipykernel_29457/2639050160.py:92: FutureWarning: Setting an item of incompatible dtype is deprecated and will raise an error in a future version of pandas. Value 'Trailing SL Hit' has dtype incompatible with float64, please explicitly cast to a compatible dtype first.\n",
      "  tradebook_long.loc[\n"
     ]
    },
    {
     "name": "stdout",
     "output_type": "stream",
     "text": [
      "EMA:26, X:18, PCT:0.75\n"
     ]
    },
    {
     "name": "stderr",
     "output_type": "stream",
     "text": [
      "/tmp/ipykernel_29457/2639050160.py:92: FutureWarning: Setting an item of incompatible dtype is deprecated and will raise an error in a future version of pandas. Value 'Trailing SL Hit' has dtype incompatible with float64, please explicitly cast to a compatible dtype first.\n",
      "  tradebook_long.loc[\n"
     ]
    },
    {
     "name": "stdout",
     "output_type": "stream",
     "text": [
      "EMA:26, X:18, PCT:1\n"
     ]
    },
    {
     "name": "stderr",
     "output_type": "stream",
     "text": [
      "/tmp/ipykernel_29457/2639050160.py:92: FutureWarning: Setting an item of incompatible dtype is deprecated and will raise an error in a future version of pandas. Value 'Trailing SL Hit' has dtype incompatible with float64, please explicitly cast to a compatible dtype first.\n",
      "  tradebook_long.loc[\n"
     ]
    },
    {
     "name": "stdout",
     "output_type": "stream",
     "text": [
      "EMA:26, X:21, PCT:0.25\n"
     ]
    },
    {
     "name": "stderr",
     "output_type": "stream",
     "text": [
      "/tmp/ipykernel_29457/2639050160.py:92: FutureWarning: Setting an item of incompatible dtype is deprecated and will raise an error in a future version of pandas. Value 'Trailing SL Hit' has dtype incompatible with float64, please explicitly cast to a compatible dtype first.\n",
      "  tradebook_long.loc[\n"
     ]
    },
    {
     "name": "stdout",
     "output_type": "stream",
     "text": [
      "EMA:26, X:21, PCT:0.5\n"
     ]
    },
    {
     "name": "stderr",
     "output_type": "stream",
     "text": [
      "/tmp/ipykernel_29457/2639050160.py:92: FutureWarning: Setting an item of incompatible dtype is deprecated and will raise an error in a future version of pandas. Value 'Trailing SL Hit' has dtype incompatible with float64, please explicitly cast to a compatible dtype first.\n",
      "  tradebook_long.loc[\n"
     ]
    },
    {
     "name": "stdout",
     "output_type": "stream",
     "text": [
      "EMA:26, X:21, PCT:0.75\n"
     ]
    },
    {
     "name": "stderr",
     "output_type": "stream",
     "text": [
      "/tmp/ipykernel_29457/2639050160.py:92: FutureWarning: Setting an item of incompatible dtype is deprecated and will raise an error in a future version of pandas. Value 'Trailing SL Hit' has dtype incompatible with float64, please explicitly cast to a compatible dtype first.\n",
      "  tradebook_long.loc[\n"
     ]
    },
    {
     "name": "stdout",
     "output_type": "stream",
     "text": [
      "EMA:26, X:21, PCT:1\n"
     ]
    },
    {
     "name": "stderr",
     "output_type": "stream",
     "text": [
      "/tmp/ipykernel_29457/2639050160.py:92: FutureWarning: Setting an item of incompatible dtype is deprecated and will raise an error in a future version of pandas. Value 'Trailing SL Hit' has dtype incompatible with float64, please explicitly cast to a compatible dtype first.\n",
      "  tradebook_long.loc[\n"
     ]
    },
    {
     "name": "stdout",
     "output_type": "stream",
     "text": [
      "EMA:26, X:24, PCT:0.25\n"
     ]
    },
    {
     "name": "stderr",
     "output_type": "stream",
     "text": [
      "/tmp/ipykernel_29457/2639050160.py:92: FutureWarning: Setting an item of incompatible dtype is deprecated and will raise an error in a future version of pandas. Value 'Trailing SL Hit' has dtype incompatible with float64, please explicitly cast to a compatible dtype first.\n",
      "  tradebook_long.loc[\n"
     ]
    },
    {
     "name": "stdout",
     "output_type": "stream",
     "text": [
      "EMA:26, X:24, PCT:0.5\n"
     ]
    },
    {
     "name": "stderr",
     "output_type": "stream",
     "text": [
      "/tmp/ipykernel_29457/2639050160.py:92: FutureWarning: Setting an item of incompatible dtype is deprecated and will raise an error in a future version of pandas. Value 'Trailing SL Hit' has dtype incompatible with float64, please explicitly cast to a compatible dtype first.\n",
      "  tradebook_long.loc[\n"
     ]
    },
    {
     "name": "stdout",
     "output_type": "stream",
     "text": [
      "EMA:26, X:24, PCT:0.75\n"
     ]
    },
    {
     "name": "stderr",
     "output_type": "stream",
     "text": [
      "/tmp/ipykernel_29457/2639050160.py:92: FutureWarning: Setting an item of incompatible dtype is deprecated and will raise an error in a future version of pandas. Value 'Trailing SL Hit' has dtype incompatible with float64, please explicitly cast to a compatible dtype first.\n",
      "  tradebook_long.loc[\n"
     ]
    },
    {
     "name": "stdout",
     "output_type": "stream",
     "text": [
      "EMA:26, X:24, PCT:1\n"
     ]
    },
    {
     "name": "stderr",
     "output_type": "stream",
     "text": [
      "/tmp/ipykernel_29457/2639050160.py:92: FutureWarning: Setting an item of incompatible dtype is deprecated and will raise an error in a future version of pandas. Value 'Trailing SL Hit' has dtype incompatible with float64, please explicitly cast to a compatible dtype first.\n",
      "  tradebook_long.loc[\n"
     ]
    },
    {
     "name": "stdout",
     "output_type": "stream",
     "text": [
      "EMA:26, X:27, PCT:0.25\n"
     ]
    },
    {
     "name": "stderr",
     "output_type": "stream",
     "text": [
      "/tmp/ipykernel_29457/2639050160.py:92: FutureWarning: Setting an item of incompatible dtype is deprecated and will raise an error in a future version of pandas. Value 'Trailing SL Hit' has dtype incompatible with float64, please explicitly cast to a compatible dtype first.\n",
      "  tradebook_long.loc[\n"
     ]
    },
    {
     "name": "stdout",
     "output_type": "stream",
     "text": [
      "EMA:26, X:27, PCT:0.5\n"
     ]
    },
    {
     "name": "stderr",
     "output_type": "stream",
     "text": [
      "/tmp/ipykernel_29457/2639050160.py:92: FutureWarning: Setting an item of incompatible dtype is deprecated and will raise an error in a future version of pandas. Value 'Trailing SL Hit' has dtype incompatible with float64, please explicitly cast to a compatible dtype first.\n",
      "  tradebook_long.loc[\n"
     ]
    },
    {
     "name": "stdout",
     "output_type": "stream",
     "text": [
      "EMA:26, X:27, PCT:0.75\n"
     ]
    },
    {
     "name": "stderr",
     "output_type": "stream",
     "text": [
      "/tmp/ipykernel_29457/2639050160.py:92: FutureWarning: Setting an item of incompatible dtype is deprecated and will raise an error in a future version of pandas. Value 'Trailing SL Hit' has dtype incompatible with float64, please explicitly cast to a compatible dtype first.\n",
      "  tradebook_long.loc[\n"
     ]
    },
    {
     "name": "stdout",
     "output_type": "stream",
     "text": [
      "EMA:26, X:27, PCT:1\n"
     ]
    },
    {
     "name": "stderr",
     "output_type": "stream",
     "text": [
      "/tmp/ipykernel_29457/2639050160.py:92: FutureWarning: Setting an item of incompatible dtype is deprecated and will raise an error in a future version of pandas. Value 'Trailing SL Hit' has dtype incompatible with float64, please explicitly cast to a compatible dtype first.\n",
      "  tradebook_long.loc[\n"
     ]
    },
    {
     "name": "stdout",
     "output_type": "stream",
     "text": [
      "EMA:26, X:30, PCT:0.25\n"
     ]
    },
    {
     "name": "stderr",
     "output_type": "stream",
     "text": [
      "/tmp/ipykernel_29457/2639050160.py:92: FutureWarning: Setting an item of incompatible dtype is deprecated and will raise an error in a future version of pandas. Value 'Trailing SL Hit' has dtype incompatible with float64, please explicitly cast to a compatible dtype first.\n",
      "  tradebook_long.loc[\n"
     ]
    },
    {
     "name": "stdout",
     "output_type": "stream",
     "text": [
      "EMA:26, X:30, PCT:0.5\n"
     ]
    },
    {
     "name": "stderr",
     "output_type": "stream",
     "text": [
      "/tmp/ipykernel_29457/2639050160.py:92: FutureWarning: Setting an item of incompatible dtype is deprecated and will raise an error in a future version of pandas. Value 'Trailing SL Hit' has dtype incompatible with float64, please explicitly cast to a compatible dtype first.\n",
      "  tradebook_long.loc[\n"
     ]
    },
    {
     "name": "stdout",
     "output_type": "stream",
     "text": [
      "EMA:26, X:30, PCT:0.75\n"
     ]
    },
    {
     "name": "stderr",
     "output_type": "stream",
     "text": [
      "/tmp/ipykernel_29457/2639050160.py:92: FutureWarning: Setting an item of incompatible dtype is deprecated and will raise an error in a future version of pandas. Value 'Trailing SL Hit' has dtype incompatible with float64, please explicitly cast to a compatible dtype first.\n",
      "  tradebook_long.loc[\n"
     ]
    },
    {
     "name": "stdout",
     "output_type": "stream",
     "text": [
      "EMA:26, X:30, PCT:1\n"
     ]
    },
    {
     "name": "stderr",
     "output_type": "stream",
     "text": [
      "/tmp/ipykernel_29457/2639050160.py:92: FutureWarning: Setting an item of incompatible dtype is deprecated and will raise an error in a future version of pandas. Value 'Trailing SL Hit' has dtype incompatible with float64, please explicitly cast to a compatible dtype first.\n",
      "  tradebook_long.loc[\n"
     ]
    },
    {
     "name": "stdout",
     "output_type": "stream",
     "text": [
      "EMA:26, X:33, PCT:0.25\n"
     ]
    },
    {
     "name": "stderr",
     "output_type": "stream",
     "text": [
      "/tmp/ipykernel_29457/2639050160.py:92: FutureWarning: Setting an item of incompatible dtype is deprecated and will raise an error in a future version of pandas. Value 'Trailing SL Hit' has dtype incompatible with float64, please explicitly cast to a compatible dtype first.\n",
      "  tradebook_long.loc[\n"
     ]
    },
    {
     "name": "stdout",
     "output_type": "stream",
     "text": [
      "EMA:26, X:33, PCT:0.5\n"
     ]
    },
    {
     "name": "stderr",
     "output_type": "stream",
     "text": [
      "/tmp/ipykernel_29457/2639050160.py:92: FutureWarning: Setting an item of incompatible dtype is deprecated and will raise an error in a future version of pandas. Value 'Trailing SL Hit' has dtype incompatible with float64, please explicitly cast to a compatible dtype first.\n",
      "  tradebook_long.loc[\n"
     ]
    },
    {
     "name": "stdout",
     "output_type": "stream",
     "text": [
      "EMA:26, X:33, PCT:0.75\n"
     ]
    },
    {
     "name": "stderr",
     "output_type": "stream",
     "text": [
      "/tmp/ipykernel_29457/2639050160.py:92: FutureWarning: Setting an item of incompatible dtype is deprecated and will raise an error in a future version of pandas. Value 'Trailing SL Hit' has dtype incompatible with float64, please explicitly cast to a compatible dtype first.\n",
      "  tradebook_long.loc[\n"
     ]
    },
    {
     "name": "stdout",
     "output_type": "stream",
     "text": [
      "EMA:26, X:33, PCT:1\n"
     ]
    },
    {
     "name": "stderr",
     "output_type": "stream",
     "text": [
      "/tmp/ipykernel_29457/2639050160.py:92: FutureWarning: Setting an item of incompatible dtype is deprecated and will raise an error in a future version of pandas. Value 'Trailing SL Hit' has dtype incompatible with float64, please explicitly cast to a compatible dtype first.\n",
      "  tradebook_long.loc[\n"
     ]
    },
    {
     "name": "stdout",
     "output_type": "stream",
     "text": [
      "EMA:26, X:36, PCT:0.25\n"
     ]
    },
    {
     "name": "stderr",
     "output_type": "stream",
     "text": [
      "/tmp/ipykernel_29457/2639050160.py:92: FutureWarning: Setting an item of incompatible dtype is deprecated and will raise an error in a future version of pandas. Value 'Trailing SL Hit' has dtype incompatible with float64, please explicitly cast to a compatible dtype first.\n",
      "  tradebook_long.loc[\n"
     ]
    },
    {
     "name": "stdout",
     "output_type": "stream",
     "text": [
      "        Total ROI Total Trades Win Rate Avg Profit% per Trade Avg Loss% per Trade Max Drawdown ROI/DD Ratio               Variation\n",
      "2017      36.9312           41  43.9024                4.6643             -2.0446     -13.2738       2.7823  EMA:26, X:36, PCT:0.25\n",
      "2018      72.3149           30  56.6667                5.4627             -1.5808      -5.5568      13.0137  EMA:26, X:36, PCT:0.25\n",
      "2019      35.4941           41  39.0244                5.1093             -1.8502     -16.3101       2.1762  EMA:26, X:36, PCT:0.25\n",
      "2020      84.2647           44  45.4545                6.8834             -2.2251     -11.4023       7.3901  EMA:26, X:36, PCT:0.25\n",
      "2021      40.3759           51  31.3725                6.4591             -1.7991     -19.3672       2.0848  EMA:26, X:36, PCT:0.25\n",
      "2022      32.0181           43  39.5349                5.1141             -2.1124     -12.9925       2.4644  EMA:26, X:36, PCT:0.25\n",
      "2023      65.3656           40  45.0000                5.9795             -1.9212      -8.0850       8.0848  EMA:26, X:36, PCT:0.25\n",
      "2024      22.2318           37  40.5405                3.8979             -1.7256      -8.7927       2.5284  EMA:26, X:36, PCT:0.25\n",
      "Overall  388.9963          327  41.8960                5.4936             -1.9240     -19.3672      20.0853  EMA:26, X:36, PCT:0.25\n",
      "EMA:26, X:36, PCT:0.5\n"
     ]
    },
    {
     "name": "stderr",
     "output_type": "stream",
     "text": [
      "/tmp/ipykernel_29457/2639050160.py:92: FutureWarning: Setting an item of incompatible dtype is deprecated and will raise an error in a future version of pandas. Value 'Trailing SL Hit' has dtype incompatible with float64, please explicitly cast to a compatible dtype first.\n",
      "  tradebook_long.loc[\n"
     ]
    },
    {
     "name": "stdout",
     "output_type": "stream",
     "text": [
      "EMA:26, X:36, PCT:0.75\n"
     ]
    },
    {
     "name": "stderr",
     "output_type": "stream",
     "text": [
      "/tmp/ipykernel_29457/2639050160.py:92: FutureWarning: Setting an item of incompatible dtype is deprecated and will raise an error in a future version of pandas. Value 'Trailing SL Hit' has dtype incompatible with float64, please explicitly cast to a compatible dtype first.\n",
      "  tradebook_long.loc[\n"
     ]
    },
    {
     "name": "stdout",
     "output_type": "stream",
     "text": [
      "EMA:26, X:36, PCT:1\n"
     ]
    },
    {
     "name": "stderr",
     "output_type": "stream",
     "text": [
      "/tmp/ipykernel_29457/2639050160.py:92: FutureWarning: Setting an item of incompatible dtype is deprecated and will raise an error in a future version of pandas. Value 'Trailing SL Hit' has dtype incompatible with float64, please explicitly cast to a compatible dtype first.\n",
      "  tradebook_long.loc[\n"
     ]
    },
    {
     "name": "stdout",
     "output_type": "stream",
     "text": [
      "EMA:28, X:3, PCT:0.25\n"
     ]
    },
    {
     "name": "stderr",
     "output_type": "stream",
     "text": [
      "/tmp/ipykernel_29457/2639050160.py:78: FutureWarning: Setting an item of incompatible dtype is deprecated and will raise an error in a future version of pandas. Value 'Initial SL Hit' has dtype incompatible with float64, please explicitly cast to a compatible dtype first.\n",
      "  tradebook_long.loc[\n"
     ]
    },
    {
     "name": "stdout",
     "output_type": "stream",
     "text": [
      "        Total ROI Total Trades Win Rate Avg Profit% per Trade Avg Loss% per Trade Max Drawdown ROI/DD Ratio              Variation\n",
      "2017      54.1473           48  41.6667                5.7182             -2.1506     -11.3423       4.7739  EMA:28, X:3, PCT:0.25\n",
      "2018      91.5681           35  54.2857                6.4531             -1.9400      -7.4401      12.3073  EMA:28, X:3, PCT:0.25\n",
      "2019      60.3832           51  39.2157                6.3530             -2.1509     -23.0798       2.6163  EMA:28, X:3, PCT:0.25\n",
      "2020     128.3903           50  44.0000                8.3424             -1.9694     -10.5758      12.1400  EMA:28, X:3, PCT:0.25\n",
      "2021      38.7869           60  33.3333                5.2849             -1.6728     -25.9633       1.4939  EMA:28, X:3, PCT:0.25\n",
      "2022      57.5308           48  29.1667                9.1641             -2.0814     -19.7145       2.9182  EMA:28, X:3, PCT:0.25\n",
      "2023      78.0843           45  37.7778                8.1224             -2.1427     -12.8747       6.0649  EMA:28, X:3, PCT:0.25\n",
      "2024      51.2775           41  41.4634                5.3917             -1.7557     -10.5368       4.8665  EMA:28, X:3, PCT:0.25\n",
      "Overall  560.1685          378  39.4180                6.7872             -1.9786     -26.3891      21.2273  EMA:28, X:3, PCT:0.25\n",
      "EMA:28, X:3, PCT:0.5\n"
     ]
    },
    {
     "name": "stderr",
     "output_type": "stream",
     "text": [
      "/tmp/ipykernel_29457/2639050160.py:78: FutureWarning: Setting an item of incompatible dtype is deprecated and will raise an error in a future version of pandas. Value 'Initial SL Hit' has dtype incompatible with float64, please explicitly cast to a compatible dtype first.\n",
      "  tradebook_long.loc[\n"
     ]
    },
    {
     "name": "stdout",
     "output_type": "stream",
     "text": [
      "EMA:28, X:3, PCT:0.75\n"
     ]
    },
    {
     "name": "stderr",
     "output_type": "stream",
     "text": [
      "/tmp/ipykernel_29457/2639050160.py:92: FutureWarning: Setting an item of incompatible dtype is deprecated and will raise an error in a future version of pandas. Value 'Trailing SL Hit' has dtype incompatible with float64, please explicitly cast to a compatible dtype first.\n",
      "  tradebook_long.loc[\n"
     ]
    },
    {
     "name": "stdout",
     "output_type": "stream",
     "text": [
      "EMA:28, X:3, PCT:1\n"
     ]
    },
    {
     "name": "stderr",
     "output_type": "stream",
     "text": [
      "/tmp/ipykernel_29457/2639050160.py:92: FutureWarning: Setting an item of incompatible dtype is deprecated and will raise an error in a future version of pandas. Value 'Trailing SL Hit' has dtype incompatible with float64, please explicitly cast to a compatible dtype first.\n",
      "  tradebook_long.loc[\n",
      "/tmp/ipykernel_29457/2611632047.py:45: RuntimeWarning: divide by zero encountered in scalar divide\n",
      "  roi_dd_ratio = total_roi / abs(max_drawdown)\n",
      "/tmp/ipykernel_29457/2639050160.py:92: FutureWarning: Setting an item of incompatible dtype is deprecated and will raise an error in a future version of pandas. Value 'Trailing SL Hit' has dtype incompatible with float64, please explicitly cast to a compatible dtype first.\n",
      "  tradebook_long.loc[\n"
     ]
    },
    {
     "name": "stdout",
     "output_type": "stream",
     "text": [
      "EMA:28, X:6, PCT:0.25\n",
      "EMA:28, X:6, PCT:0.5\n"
     ]
    },
    {
     "name": "stderr",
     "output_type": "stream",
     "text": [
      "/tmp/ipykernel_29457/2639050160.py:92: FutureWarning: Setting an item of incompatible dtype is deprecated and will raise an error in a future version of pandas. Value 'Trailing SL Hit' has dtype incompatible with float64, please explicitly cast to a compatible dtype first.\n",
      "  tradebook_long.loc[\n"
     ]
    },
    {
     "name": "stdout",
     "output_type": "stream",
     "text": [
      "EMA:28, X:6, PCT:0.75\n"
     ]
    },
    {
     "name": "stderr",
     "output_type": "stream",
     "text": [
      "/tmp/ipykernel_29457/2639050160.py:92: FutureWarning: Setting an item of incompatible dtype is deprecated and will raise an error in a future version of pandas. Value 'Trailing SL Hit' has dtype incompatible with float64, please explicitly cast to a compatible dtype first.\n",
      "  tradebook_long.loc[\n"
     ]
    },
    {
     "name": "stdout",
     "output_type": "stream",
     "text": [
      "EMA:28, X:6, PCT:1\n"
     ]
    },
    {
     "name": "stderr",
     "output_type": "stream",
     "text": [
      "/tmp/ipykernel_29457/2639050160.py:92: FutureWarning: Setting an item of incompatible dtype is deprecated and will raise an error in a future version of pandas. Value 'Trailing SL Hit' has dtype incompatible with float64, please explicitly cast to a compatible dtype first.\n",
      "  tradebook_long.loc[\n"
     ]
    },
    {
     "name": "stdout",
     "output_type": "stream",
     "text": [
      "EMA:28, X:9, PCT:0.25\n"
     ]
    },
    {
     "name": "stderr",
     "output_type": "stream",
     "text": [
      "/tmp/ipykernel_29457/2639050160.py:92: FutureWarning: Setting an item of incompatible dtype is deprecated and will raise an error in a future version of pandas. Value 'Trailing SL Hit' has dtype incompatible with float64, please explicitly cast to a compatible dtype first.\n",
      "  tradebook_long.loc[\n"
     ]
    },
    {
     "name": "stdout",
     "output_type": "stream",
     "text": [
      "EMA:28, X:9, PCT:0.5\n"
     ]
    },
    {
     "name": "stderr",
     "output_type": "stream",
     "text": [
      "/tmp/ipykernel_29457/2639050160.py:92: FutureWarning: Setting an item of incompatible dtype is deprecated and will raise an error in a future version of pandas. Value 'Trailing SL Hit' has dtype incompatible with float64, please explicitly cast to a compatible dtype first.\n",
      "  tradebook_long.loc[\n"
     ]
    },
    {
     "name": "stdout",
     "output_type": "stream",
     "text": [
      "EMA:28, X:9, PCT:0.75\n"
     ]
    },
    {
     "name": "stderr",
     "output_type": "stream",
     "text": [
      "/tmp/ipykernel_29457/2639050160.py:92: FutureWarning: Setting an item of incompatible dtype is deprecated and will raise an error in a future version of pandas. Value 'Trailing SL Hit' has dtype incompatible with float64, please explicitly cast to a compatible dtype first.\n",
      "  tradebook_long.loc[\n"
     ]
    },
    {
     "name": "stdout",
     "output_type": "stream",
     "text": [
      "EMA:28, X:9, PCT:1\n"
     ]
    },
    {
     "name": "stderr",
     "output_type": "stream",
     "text": [
      "/tmp/ipykernel_29457/2639050160.py:92: FutureWarning: Setting an item of incompatible dtype is deprecated and will raise an error in a future version of pandas. Value 'Trailing SL Hit' has dtype incompatible with float64, please explicitly cast to a compatible dtype first.\n",
      "  tradebook_long.loc[\n"
     ]
    },
    {
     "name": "stdout",
     "output_type": "stream",
     "text": [
      "EMA:28, X:12, PCT:0.25\n"
     ]
    },
    {
     "name": "stderr",
     "output_type": "stream",
     "text": [
      "/tmp/ipykernel_29457/2639050160.py:92: FutureWarning: Setting an item of incompatible dtype is deprecated and will raise an error in a future version of pandas. Value 'Trailing SL Hit' has dtype incompatible with float64, please explicitly cast to a compatible dtype first.\n",
      "  tradebook_long.loc[\n"
     ]
    },
    {
     "name": "stdout",
     "output_type": "stream",
     "text": [
      "EMA:28, X:12, PCT:0.5\n"
     ]
    },
    {
     "name": "stderr",
     "output_type": "stream",
     "text": [
      "/tmp/ipykernel_29457/2639050160.py:92: FutureWarning: Setting an item of incompatible dtype is deprecated and will raise an error in a future version of pandas. Value 'Trailing SL Hit' has dtype incompatible with float64, please explicitly cast to a compatible dtype first.\n",
      "  tradebook_long.loc[\n"
     ]
    },
    {
     "name": "stdout",
     "output_type": "stream",
     "text": [
      "EMA:28, X:12, PCT:0.75\n"
     ]
    },
    {
     "name": "stderr",
     "output_type": "stream",
     "text": [
      "/tmp/ipykernel_29457/2639050160.py:92: FutureWarning: Setting an item of incompatible dtype is deprecated and will raise an error in a future version of pandas. Value 'Trailing SL Hit' has dtype incompatible with float64, please explicitly cast to a compatible dtype first.\n",
      "  tradebook_long.loc[\n"
     ]
    },
    {
     "name": "stdout",
     "output_type": "stream",
     "text": [
      "EMA:28, X:12, PCT:1\n"
     ]
    },
    {
     "name": "stderr",
     "output_type": "stream",
     "text": [
      "/tmp/ipykernel_29457/2639050160.py:92: FutureWarning: Setting an item of incompatible dtype is deprecated and will raise an error in a future version of pandas. Value 'Trailing SL Hit' has dtype incompatible with float64, please explicitly cast to a compatible dtype first.\n",
      "  tradebook_long.loc[\n"
     ]
    },
    {
     "name": "stdout",
     "output_type": "stream",
     "text": [
      "EMA:28, X:15, PCT:0.25\n"
     ]
    },
    {
     "name": "stderr",
     "output_type": "stream",
     "text": [
      "/tmp/ipykernel_29457/2639050160.py:92: FutureWarning: Setting an item of incompatible dtype is deprecated and will raise an error in a future version of pandas. Value 'Trailing SL Hit' has dtype incompatible with float64, please explicitly cast to a compatible dtype first.\n",
      "  tradebook_long.loc[\n"
     ]
    },
    {
     "name": "stdout",
     "output_type": "stream",
     "text": [
      "EMA:28, X:15, PCT:0.5\n"
     ]
    },
    {
     "name": "stderr",
     "output_type": "stream",
     "text": [
      "/tmp/ipykernel_29457/2639050160.py:92: FutureWarning: Setting an item of incompatible dtype is deprecated and will raise an error in a future version of pandas. Value 'Trailing SL Hit' has dtype incompatible with float64, please explicitly cast to a compatible dtype first.\n",
      "  tradebook_long.loc[\n"
     ]
    },
    {
     "name": "stdout",
     "output_type": "stream",
     "text": [
      "EMA:28, X:15, PCT:0.75\n"
     ]
    },
    {
     "name": "stderr",
     "output_type": "stream",
     "text": [
      "/tmp/ipykernel_29457/2639050160.py:92: FutureWarning: Setting an item of incompatible dtype is deprecated and will raise an error in a future version of pandas. Value 'Trailing SL Hit' has dtype incompatible with float64, please explicitly cast to a compatible dtype first.\n",
      "  tradebook_long.loc[\n"
     ]
    },
    {
     "name": "stdout",
     "output_type": "stream",
     "text": [
      "EMA:28, X:15, PCT:1\n"
     ]
    },
    {
     "name": "stderr",
     "output_type": "stream",
     "text": [
      "/tmp/ipykernel_29457/2639050160.py:92: FutureWarning: Setting an item of incompatible dtype is deprecated and will raise an error in a future version of pandas. Value 'Trailing SL Hit' has dtype incompatible with float64, please explicitly cast to a compatible dtype first.\n",
      "  tradebook_long.loc[\n"
     ]
    },
    {
     "name": "stdout",
     "output_type": "stream",
     "text": [
      "EMA:28, X:18, PCT:0.25\n"
     ]
    },
    {
     "name": "stderr",
     "output_type": "stream",
     "text": [
      "/tmp/ipykernel_29457/2639050160.py:92: FutureWarning: Setting an item of incompatible dtype is deprecated and will raise an error in a future version of pandas. Value 'Trailing SL Hit' has dtype incompatible with float64, please explicitly cast to a compatible dtype first.\n",
      "  tradebook_long.loc[\n"
     ]
    },
    {
     "name": "stdout",
     "output_type": "stream",
     "text": [
      "EMA:28, X:18, PCT:0.5\n"
     ]
    },
    {
     "name": "stderr",
     "output_type": "stream",
     "text": [
      "/tmp/ipykernel_29457/2639050160.py:92: FutureWarning: Setting an item of incompatible dtype is deprecated and will raise an error in a future version of pandas. Value 'Trailing SL Hit' has dtype incompatible with float64, please explicitly cast to a compatible dtype first.\n",
      "  tradebook_long.loc[\n"
     ]
    },
    {
     "name": "stdout",
     "output_type": "stream",
     "text": [
      "EMA:28, X:18, PCT:0.75\n"
     ]
    },
    {
     "name": "stderr",
     "output_type": "stream",
     "text": [
      "/tmp/ipykernel_29457/2639050160.py:92: FutureWarning: Setting an item of incompatible dtype is deprecated and will raise an error in a future version of pandas. Value 'Trailing SL Hit' has dtype incompatible with float64, please explicitly cast to a compatible dtype first.\n",
      "  tradebook_long.loc[\n"
     ]
    },
    {
     "name": "stdout",
     "output_type": "stream",
     "text": [
      "EMA:28, X:18, PCT:1\n"
     ]
    },
    {
     "name": "stderr",
     "output_type": "stream",
     "text": [
      "/tmp/ipykernel_29457/2639050160.py:92: FutureWarning: Setting an item of incompatible dtype is deprecated and will raise an error in a future version of pandas. Value 'Trailing SL Hit' has dtype incompatible with float64, please explicitly cast to a compatible dtype first.\n",
      "  tradebook_long.loc[\n"
     ]
    },
    {
     "name": "stdout",
     "output_type": "stream",
     "text": [
      "EMA:28, X:21, PCT:0.25\n"
     ]
    },
    {
     "name": "stderr",
     "output_type": "stream",
     "text": [
      "/tmp/ipykernel_29457/2639050160.py:92: FutureWarning: Setting an item of incompatible dtype is deprecated and will raise an error in a future version of pandas. Value 'Trailing SL Hit' has dtype incompatible with float64, please explicitly cast to a compatible dtype first.\n",
      "  tradebook_long.loc[\n"
     ]
    },
    {
     "name": "stdout",
     "output_type": "stream",
     "text": [
      "EMA:28, X:21, PCT:0.5\n"
     ]
    },
    {
     "name": "stderr",
     "output_type": "stream",
     "text": [
      "/tmp/ipykernel_29457/2639050160.py:92: FutureWarning: Setting an item of incompatible dtype is deprecated and will raise an error in a future version of pandas. Value 'Trailing SL Hit' has dtype incompatible with float64, please explicitly cast to a compatible dtype first.\n",
      "  tradebook_long.loc[\n"
     ]
    },
    {
     "name": "stdout",
     "output_type": "stream",
     "text": [
      "EMA:28, X:21, PCT:0.75\n"
     ]
    },
    {
     "name": "stderr",
     "output_type": "stream",
     "text": [
      "/tmp/ipykernel_29457/2639050160.py:92: FutureWarning: Setting an item of incompatible dtype is deprecated and will raise an error in a future version of pandas. Value 'Trailing SL Hit' has dtype incompatible with float64, please explicitly cast to a compatible dtype first.\n",
      "  tradebook_long.loc[\n"
     ]
    },
    {
     "name": "stdout",
     "output_type": "stream",
     "text": [
      "EMA:28, X:21, PCT:1\n"
     ]
    },
    {
     "name": "stderr",
     "output_type": "stream",
     "text": [
      "/tmp/ipykernel_29457/2639050160.py:92: FutureWarning: Setting an item of incompatible dtype is deprecated and will raise an error in a future version of pandas. Value 'Trailing SL Hit' has dtype incompatible with float64, please explicitly cast to a compatible dtype first.\n",
      "  tradebook_long.loc[\n"
     ]
    },
    {
     "name": "stdout",
     "output_type": "stream",
     "text": [
      "EMA:28, X:24, PCT:0.25\n"
     ]
    },
    {
     "name": "stderr",
     "output_type": "stream",
     "text": [
      "/tmp/ipykernel_29457/2639050160.py:92: FutureWarning: Setting an item of incompatible dtype is deprecated and will raise an error in a future version of pandas. Value 'Trailing SL Hit' has dtype incompatible with float64, please explicitly cast to a compatible dtype first.\n",
      "  tradebook_long.loc[\n"
     ]
    },
    {
     "name": "stdout",
     "output_type": "stream",
     "text": [
      "EMA:28, X:24, PCT:0.5\n"
     ]
    },
    {
     "name": "stderr",
     "output_type": "stream",
     "text": [
      "/tmp/ipykernel_29457/2639050160.py:92: FutureWarning: Setting an item of incompatible dtype is deprecated and will raise an error in a future version of pandas. Value 'Trailing SL Hit' has dtype incompatible with float64, please explicitly cast to a compatible dtype first.\n",
      "  tradebook_long.loc[\n"
     ]
    },
    {
     "name": "stdout",
     "output_type": "stream",
     "text": [
      "EMA:28, X:24, PCT:0.75\n"
     ]
    },
    {
     "name": "stderr",
     "output_type": "stream",
     "text": [
      "/tmp/ipykernel_29457/2639050160.py:92: FutureWarning: Setting an item of incompatible dtype is deprecated and will raise an error in a future version of pandas. Value 'Trailing SL Hit' has dtype incompatible with float64, please explicitly cast to a compatible dtype first.\n",
      "  tradebook_long.loc[\n"
     ]
    },
    {
     "name": "stdout",
     "output_type": "stream",
     "text": [
      "EMA:28, X:24, PCT:1\n"
     ]
    },
    {
     "name": "stderr",
     "output_type": "stream",
     "text": [
      "/tmp/ipykernel_29457/2639050160.py:92: FutureWarning: Setting an item of incompatible dtype is deprecated and will raise an error in a future version of pandas. Value 'Trailing SL Hit' has dtype incompatible with float64, please explicitly cast to a compatible dtype first.\n",
      "  tradebook_long.loc[\n"
     ]
    },
    {
     "name": "stdout",
     "output_type": "stream",
     "text": [
      "EMA:28, X:27, PCT:0.25\n"
     ]
    },
    {
     "name": "stderr",
     "output_type": "stream",
     "text": [
      "/tmp/ipykernel_29457/2639050160.py:92: FutureWarning: Setting an item of incompatible dtype is deprecated and will raise an error in a future version of pandas. Value 'Trailing SL Hit' has dtype incompatible with float64, please explicitly cast to a compatible dtype first.\n",
      "  tradebook_long.loc[\n"
     ]
    },
    {
     "name": "stdout",
     "output_type": "stream",
     "text": [
      "EMA:28, X:27, PCT:0.5\n"
     ]
    },
    {
     "name": "stderr",
     "output_type": "stream",
     "text": [
      "/tmp/ipykernel_29457/2639050160.py:92: FutureWarning: Setting an item of incompatible dtype is deprecated and will raise an error in a future version of pandas. Value 'Trailing SL Hit' has dtype incompatible with float64, please explicitly cast to a compatible dtype first.\n",
      "  tradebook_long.loc[\n"
     ]
    },
    {
     "name": "stdout",
     "output_type": "stream",
     "text": [
      "EMA:28, X:27, PCT:0.75\n"
     ]
    },
    {
     "name": "stderr",
     "output_type": "stream",
     "text": [
      "/tmp/ipykernel_29457/2639050160.py:92: FutureWarning: Setting an item of incompatible dtype is deprecated and will raise an error in a future version of pandas. Value 'Trailing SL Hit' has dtype incompatible with float64, please explicitly cast to a compatible dtype first.\n",
      "  tradebook_long.loc[\n"
     ]
    },
    {
     "name": "stdout",
     "output_type": "stream",
     "text": [
      "EMA:28, X:27, PCT:1\n"
     ]
    },
    {
     "name": "stderr",
     "output_type": "stream",
     "text": [
      "/tmp/ipykernel_29457/2639050160.py:92: FutureWarning: Setting an item of incompatible dtype is deprecated and will raise an error in a future version of pandas. Value 'Trailing SL Hit' has dtype incompatible with float64, please explicitly cast to a compatible dtype first.\n",
      "  tradebook_long.loc[\n"
     ]
    },
    {
     "name": "stdout",
     "output_type": "stream",
     "text": [
      "EMA:28, X:30, PCT:0.25\n"
     ]
    },
    {
     "name": "stderr",
     "output_type": "stream",
     "text": [
      "/tmp/ipykernel_29457/2639050160.py:92: FutureWarning: Setting an item of incompatible dtype is deprecated and will raise an error in a future version of pandas. Value 'Trailing SL Hit' has dtype incompatible with float64, please explicitly cast to a compatible dtype first.\n",
      "  tradebook_long.loc[\n"
     ]
    },
    {
     "name": "stdout",
     "output_type": "stream",
     "text": [
      "EMA:28, X:30, PCT:0.5\n"
     ]
    },
    {
     "name": "stderr",
     "output_type": "stream",
     "text": [
      "/tmp/ipykernel_29457/2639050160.py:92: FutureWarning: Setting an item of incompatible dtype is deprecated and will raise an error in a future version of pandas. Value 'Trailing SL Hit' has dtype incompatible with float64, please explicitly cast to a compatible dtype first.\n",
      "  tradebook_long.loc[\n"
     ]
    },
    {
     "name": "stdout",
     "output_type": "stream",
     "text": [
      "EMA:28, X:30, PCT:0.75\n"
     ]
    },
    {
     "name": "stderr",
     "output_type": "stream",
     "text": [
      "/tmp/ipykernel_29457/2639050160.py:92: FutureWarning: Setting an item of incompatible dtype is deprecated and will raise an error in a future version of pandas. Value 'Trailing SL Hit' has dtype incompatible with float64, please explicitly cast to a compatible dtype first.\n",
      "  tradebook_long.loc[\n"
     ]
    },
    {
     "name": "stdout",
     "output_type": "stream",
     "text": [
      "EMA:28, X:30, PCT:1\n"
     ]
    },
    {
     "name": "stderr",
     "output_type": "stream",
     "text": [
      "/tmp/ipykernel_29457/2639050160.py:92: FutureWarning: Setting an item of incompatible dtype is deprecated and will raise an error in a future version of pandas. Value 'Trailing SL Hit' has dtype incompatible with float64, please explicitly cast to a compatible dtype first.\n",
      "  tradebook_long.loc[\n"
     ]
    },
    {
     "name": "stdout",
     "output_type": "stream",
     "text": [
      "EMA:28, X:33, PCT:0.25\n"
     ]
    },
    {
     "name": "stderr",
     "output_type": "stream",
     "text": [
      "/tmp/ipykernel_29457/2639050160.py:92: FutureWarning: Setting an item of incompatible dtype is deprecated and will raise an error in a future version of pandas. Value 'Trailing SL Hit' has dtype incompatible with float64, please explicitly cast to a compatible dtype first.\n",
      "  tradebook_long.loc[\n"
     ]
    },
    {
     "name": "stdout",
     "output_type": "stream",
     "text": [
      "EMA:28, X:33, PCT:0.5\n"
     ]
    },
    {
     "name": "stderr",
     "output_type": "stream",
     "text": [
      "/tmp/ipykernel_29457/2639050160.py:92: FutureWarning: Setting an item of incompatible dtype is deprecated and will raise an error in a future version of pandas. Value 'Trailing SL Hit' has dtype incompatible with float64, please explicitly cast to a compatible dtype first.\n",
      "  tradebook_long.loc[\n"
     ]
    },
    {
     "name": "stdout",
     "output_type": "stream",
     "text": [
      "EMA:28, X:33, PCT:0.75\n"
     ]
    },
    {
     "name": "stderr",
     "output_type": "stream",
     "text": [
      "/tmp/ipykernel_29457/2639050160.py:92: FutureWarning: Setting an item of incompatible dtype is deprecated and will raise an error in a future version of pandas. Value 'Trailing SL Hit' has dtype incompatible with float64, please explicitly cast to a compatible dtype first.\n",
      "  tradebook_long.loc[\n"
     ]
    },
    {
     "name": "stdout",
     "output_type": "stream",
     "text": [
      "EMA:28, X:33, PCT:1\n"
     ]
    },
    {
     "name": "stderr",
     "output_type": "stream",
     "text": [
      "/tmp/ipykernel_29457/2639050160.py:92: FutureWarning: Setting an item of incompatible dtype is deprecated and will raise an error in a future version of pandas. Value 'Trailing SL Hit' has dtype incompatible with float64, please explicitly cast to a compatible dtype first.\n",
      "  tradebook_long.loc[\n"
     ]
    },
    {
     "name": "stdout",
     "output_type": "stream",
     "text": [
      "EMA:28, X:36, PCT:0.25\n"
     ]
    },
    {
     "name": "stderr",
     "output_type": "stream",
     "text": [
      "/tmp/ipykernel_29457/2639050160.py:92: FutureWarning: Setting an item of incompatible dtype is deprecated and will raise an error in a future version of pandas. Value 'Trailing SL Hit' has dtype incompatible with float64, please explicitly cast to a compatible dtype first.\n",
      "  tradebook_long.loc[\n"
     ]
    },
    {
     "name": "stdout",
     "output_type": "stream",
     "text": [
      "EMA:28, X:36, PCT:0.5\n"
     ]
    },
    {
     "name": "stderr",
     "output_type": "stream",
     "text": [
      "/tmp/ipykernel_29457/2639050160.py:92: FutureWarning: Setting an item of incompatible dtype is deprecated and will raise an error in a future version of pandas. Value 'Trailing SL Hit' has dtype incompatible with float64, please explicitly cast to a compatible dtype first.\n",
      "  tradebook_long.loc[\n"
     ]
    },
    {
     "name": "stdout",
     "output_type": "stream",
     "text": [
      "EMA:28, X:36, PCT:0.75\n"
     ]
    },
    {
     "name": "stderr",
     "output_type": "stream",
     "text": [
      "/tmp/ipykernel_29457/2639050160.py:92: FutureWarning: Setting an item of incompatible dtype is deprecated and will raise an error in a future version of pandas. Value 'Trailing SL Hit' has dtype incompatible with float64, please explicitly cast to a compatible dtype first.\n",
      "  tradebook_long.loc[\n"
     ]
    },
    {
     "name": "stdout",
     "output_type": "stream",
     "text": [
      "EMA:28, X:36, PCT:1\n"
     ]
    },
    {
     "name": "stderr",
     "output_type": "stream",
     "text": [
      "/tmp/ipykernel_29457/2639050160.py:92: FutureWarning: Setting an item of incompatible dtype is deprecated and will raise an error in a future version of pandas. Value 'Trailing SL Hit' has dtype incompatible with float64, please explicitly cast to a compatible dtype first.\n",
      "  tradebook_long.loc[\n"
     ]
    },
    {
     "name": "stdout",
     "output_type": "stream",
     "text": [
      "EMA:30, X:3, PCT:0.25\n"
     ]
    },
    {
     "name": "stderr",
     "output_type": "stream",
     "text": [
      "/tmp/ipykernel_29457/2639050160.py:78: FutureWarning: Setting an item of incompatible dtype is deprecated and will raise an error in a future version of pandas. Value 'Initial SL Hit' has dtype incompatible with float64, please explicitly cast to a compatible dtype first.\n",
      "  tradebook_long.loc[\n"
     ]
    },
    {
     "name": "stdout",
     "output_type": "stream",
     "text": [
      "        Total ROI Total Trades Win Rate Avg Profit% per Trade Avg Loss% per Trade Max Drawdown ROI/DD Ratio              Variation\n",
      "2017      54.4817           47  42.5532                5.7172             -2.2171     -11.0079       4.9493  EMA:30, X:3, PCT:0.25\n",
      "2018      90.2830           34  55.8824                6.3939             -2.0801      -7.6373      11.8213  EMA:30, X:3, PCT:0.25\n",
      "2019      65.7456           48  37.5000                7.1395             -2.0922     -19.0747       3.4467  EMA:30, X:3, PCT:0.25\n",
      "2020     128.3183           50  44.0000                8.3326             -1.9643     -10.5758      12.1332  EMA:30, X:3, PCT:0.25\n",
      "2021      56.2088           55  36.3636                5.7740             -1.6934     -21.4707       2.6179  EMA:30, X:3, PCT:0.25\n",
      "2022      60.7626           45  28.8889                9.7944             -2.0802     -19.7145       3.0821  EMA:30, X:3, PCT:0.25\n",
      "2023      74.6458           44  38.6364                8.0283             -2.2902     -12.8747       5.7979  EMA:30, X:3, PCT:0.25\n",
      "2024      45.5238           39  41.0256                5.3386             -1.8133     -10.0481       4.5306  EMA:30, X:3, PCT:0.25\n",
      "Overall  575.9696          362  40.0552                6.9818             -2.0203     -21.4707      26.8259  EMA:30, X:3, PCT:0.25\n",
      "EMA:30, X:3, PCT:0.5\n"
     ]
    },
    {
     "name": "stderr",
     "output_type": "stream",
     "text": [
      "/tmp/ipykernel_29457/2639050160.py:78: FutureWarning: Setting an item of incompatible dtype is deprecated and will raise an error in a future version of pandas. Value 'Initial SL Hit' has dtype incompatible with float64, please explicitly cast to a compatible dtype first.\n",
      "  tradebook_long.loc[\n"
     ]
    },
    {
     "name": "stdout",
     "output_type": "stream",
     "text": [
      "EMA:30, X:3, PCT:0.75\n"
     ]
    },
    {
     "name": "stderr",
     "output_type": "stream",
     "text": [
      "/tmp/ipykernel_29457/2639050160.py:92: FutureWarning: Setting an item of incompatible dtype is deprecated and will raise an error in a future version of pandas. Value 'Trailing SL Hit' has dtype incompatible with float64, please explicitly cast to a compatible dtype first.\n",
      "  tradebook_long.loc[\n"
     ]
    },
    {
     "name": "stdout",
     "output_type": "stream",
     "text": [
      "EMA:30, X:3, PCT:1\n"
     ]
    },
    {
     "name": "stderr",
     "output_type": "stream",
     "text": [
      "/tmp/ipykernel_29457/2639050160.py:92: FutureWarning: Setting an item of incompatible dtype is deprecated and will raise an error in a future version of pandas. Value 'Trailing SL Hit' has dtype incompatible with float64, please explicitly cast to a compatible dtype first.\n",
      "  tradebook_long.loc[\n",
      "/tmp/ipykernel_29457/2611632047.py:45: RuntimeWarning: divide by zero encountered in scalar divide\n",
      "  roi_dd_ratio = total_roi / abs(max_drawdown)\n",
      "/tmp/ipykernel_29457/2639050160.py:92: FutureWarning: Setting an item of incompatible dtype is deprecated and will raise an error in a future version of pandas. Value 'Trailing SL Hit' has dtype incompatible with float64, please explicitly cast to a compatible dtype first.\n",
      "  tradebook_long.loc[\n"
     ]
    },
    {
     "name": "stdout",
     "output_type": "stream",
     "text": [
      "EMA:30, X:6, PCT:0.25\n",
      "        Total ROI Total Trades Win Rate Avg Profit% per Trade Avg Loss% per Trade Max Drawdown ROI/DD Ratio              Variation\n",
      "2017      44.4460           47  40.4255                5.2412             -1.9692     -11.1370       3.9908  EMA:30, X:6, PCT:0.25\n",
      "2018      89.8651           35  54.2857                6.1802             -1.7224      -6.8660      13.0884  EMA:30, X:6, PCT:0.25\n",
      "2019      49.9418           47  38.2979                5.9676             -1.9819     -21.5559       2.3169  EMA:30, X:6, PCT:0.25\n",
      "2020      72.2881           50  42.0000                6.0655             -1.8995      -9.2193       7.8410  EMA:30, X:6, PCT:0.25\n",
      "2021      73.8368           51  39.2157                6.0942             -1.5499     -16.7904       4.3975  EMA:30, X:6, PCT:0.25\n",
      "2022      43.5942           44  29.5455                7.8502             -1.8857     -16.8732       2.5836  EMA:30, X:6, PCT:0.25\n",
      "2023      51.3432           47  38.2979                6.6103             -2.3325     -17.2653       2.9738  EMA:30, X:6, PCT:0.25\n",
      "2024      31.1006           40  35.0000                5.0512             -1.5847     -12.0806       2.5744  EMA:30, X:6, PCT:0.25\n",
      "Overall  456.4157          361  39.3352                6.0946             -1.8762     -21.5559      21.1736  EMA:30, X:6, PCT:0.25\n",
      "EMA:30, X:6, PCT:0.5\n"
     ]
    },
    {
     "name": "stderr",
     "output_type": "stream",
     "text": [
      "/tmp/ipykernel_29457/2639050160.py:92: FutureWarning: Setting an item of incompatible dtype is deprecated and will raise an error in a future version of pandas. Value 'Trailing SL Hit' has dtype incompatible with float64, please explicitly cast to a compatible dtype first.\n",
      "  tradebook_long.loc[\n"
     ]
    },
    {
     "name": "stdout",
     "output_type": "stream",
     "text": [
      "EMA:30, X:6, PCT:0.75\n"
     ]
    },
    {
     "name": "stderr",
     "output_type": "stream",
     "text": [
      "/tmp/ipykernel_29457/2639050160.py:92: FutureWarning: Setting an item of incompatible dtype is deprecated and will raise an error in a future version of pandas. Value 'Trailing SL Hit' has dtype incompatible with float64, please explicitly cast to a compatible dtype first.\n",
      "  tradebook_long.loc[\n"
     ]
    },
    {
     "name": "stdout",
     "output_type": "stream",
     "text": [
      "EMA:30, X:6, PCT:1\n"
     ]
    },
    {
     "name": "stderr",
     "output_type": "stream",
     "text": [
      "/tmp/ipykernel_29457/2639050160.py:92: FutureWarning: Setting an item of incompatible dtype is deprecated and will raise an error in a future version of pandas. Value 'Trailing SL Hit' has dtype incompatible with float64, please explicitly cast to a compatible dtype first.\n",
      "  tradebook_long.loc[\n"
     ]
    },
    {
     "name": "stdout",
     "output_type": "stream",
     "text": [
      "EMA:30, X:9, PCT:0.25\n"
     ]
    },
    {
     "name": "stderr",
     "output_type": "stream",
     "text": [
      "/tmp/ipykernel_29457/2639050160.py:92: FutureWarning: Setting an item of incompatible dtype is deprecated and will raise an error in a future version of pandas. Value 'Trailing SL Hit' has dtype incompatible with float64, please explicitly cast to a compatible dtype first.\n",
      "  tradebook_long.loc[\n"
     ]
    },
    {
     "name": "stdout",
     "output_type": "stream",
     "text": [
      "        Total ROI Total Trades Win Rate Avg Profit% per Trade Avg Loss% per Trade Max Drawdown ROI/DD Ratio              Variation\n",
      "2017      29.3888           43  44.1860                4.1649             -2.0727     -11.8905       2.4716  EMA:30, X:9, PCT:0.25\n",
      "2018      85.0286           37  54.0541                5.6133             -1.6022      -6.9577      12.2208  EMA:30, X:9, PCT:0.25\n",
      "2019      39.5931           47  38.2979                5.3176             -1.9353     -19.4625       2.0343  EMA:30, X:9, PCT:0.25\n",
      "2020      58.1959           49  38.7755                6.0482             -1.8907      -9.1912       6.3317  EMA:30, X:9, PCT:0.25\n",
      "2021      71.4114           49  38.7755                6.0027             -1.4213     -16.7556       4.2619  EMA:30, X:9, PCT:0.25\n",
      "2022      59.4823           42  33.3333                7.7782             -1.7648     -17.3829       3.4219  EMA:30, X:9, PCT:0.25\n",
      "2023      49.8276           50  34.0000                7.0121             -2.1024     -19.1985       2.5954  EMA:30, X:9, PCT:0.25\n",
      "2024      24.7703           42  30.9524                5.6480             -1.7376     -16.7145       1.4820  EMA:30, X:9, PCT:0.25\n",
      "Overall  417.6980          359  38.7187                5.8821             -1.8261     -19.8182      21.0765  EMA:30, X:9, PCT:0.25\n",
      "EMA:30, X:9, PCT:0.5\n"
     ]
    },
    {
     "name": "stderr",
     "output_type": "stream",
     "text": [
      "/tmp/ipykernel_29457/2639050160.py:92: FutureWarning: Setting an item of incompatible dtype is deprecated and will raise an error in a future version of pandas. Value 'Trailing SL Hit' has dtype incompatible with float64, please explicitly cast to a compatible dtype first.\n",
      "  tradebook_long.loc[\n"
     ]
    },
    {
     "name": "stdout",
     "output_type": "stream",
     "text": [
      "EMA:30, X:9, PCT:0.75\n"
     ]
    },
    {
     "name": "stderr",
     "output_type": "stream",
     "text": [
      "/tmp/ipykernel_29457/2639050160.py:92: FutureWarning: Setting an item of incompatible dtype is deprecated and will raise an error in a future version of pandas. Value 'Trailing SL Hit' has dtype incompatible with float64, please explicitly cast to a compatible dtype first.\n",
      "  tradebook_long.loc[\n"
     ]
    },
    {
     "name": "stdout",
     "output_type": "stream",
     "text": [
      "EMA:30, X:9, PCT:1\n"
     ]
    },
    {
     "name": "stderr",
     "output_type": "stream",
     "text": [
      "/tmp/ipykernel_29457/2639050160.py:92: FutureWarning: Setting an item of incompatible dtype is deprecated and will raise an error in a future version of pandas. Value 'Trailing SL Hit' has dtype incompatible with float64, please explicitly cast to a compatible dtype first.\n",
      "  tradebook_long.loc[\n"
     ]
    },
    {
     "name": "stdout",
     "output_type": "stream",
     "text": [
      "EMA:30, X:12, PCT:0.25\n"
     ]
    },
    {
     "name": "stderr",
     "output_type": "stream",
     "text": [
      "/tmp/ipykernel_29457/2639050160.py:92: FutureWarning: Setting an item of incompatible dtype is deprecated and will raise an error in a future version of pandas. Value 'Trailing SL Hit' has dtype incompatible with float64, please explicitly cast to a compatible dtype first.\n",
      "  tradebook_long.loc[\n"
     ]
    },
    {
     "name": "stdout",
     "output_type": "stream",
     "text": [
      "EMA:30, X:12, PCT:0.5\n"
     ]
    },
    {
     "name": "stderr",
     "output_type": "stream",
     "text": [
      "/tmp/ipykernel_29457/2639050160.py:92: FutureWarning: Setting an item of incompatible dtype is deprecated and will raise an error in a future version of pandas. Value 'Trailing SL Hit' has dtype incompatible with float64, please explicitly cast to a compatible dtype first.\n",
      "  tradebook_long.loc[\n"
     ]
    },
    {
     "name": "stdout",
     "output_type": "stream",
     "text": [
      "EMA:30, X:12, PCT:0.75\n"
     ]
    },
    {
     "name": "stderr",
     "output_type": "stream",
     "text": [
      "/tmp/ipykernel_29457/2639050160.py:92: FutureWarning: Setting an item of incompatible dtype is deprecated and will raise an error in a future version of pandas. Value 'Trailing SL Hit' has dtype incompatible with float64, please explicitly cast to a compatible dtype first.\n",
      "  tradebook_long.loc[\n"
     ]
    },
    {
     "name": "stdout",
     "output_type": "stream",
     "text": [
      "EMA:30, X:12, PCT:1\n"
     ]
    },
    {
     "name": "stderr",
     "output_type": "stream",
     "text": [
      "/tmp/ipykernel_29457/2639050160.py:92: FutureWarning: Setting an item of incompatible dtype is deprecated and will raise an error in a future version of pandas. Value 'Trailing SL Hit' has dtype incompatible with float64, please explicitly cast to a compatible dtype first.\n",
      "  tradebook_long.loc[\n"
     ]
    },
    {
     "name": "stdout",
     "output_type": "stream",
     "text": [
      "EMA:30, X:15, PCT:0.25\n"
     ]
    },
    {
     "name": "stderr",
     "output_type": "stream",
     "text": [
      "/tmp/ipykernel_29457/2639050160.py:92: FutureWarning: Setting an item of incompatible dtype is deprecated and will raise an error in a future version of pandas. Value 'Trailing SL Hit' has dtype incompatible with float64, please explicitly cast to a compatible dtype first.\n",
      "  tradebook_long.loc[\n"
     ]
    },
    {
     "name": "stdout",
     "output_type": "stream",
     "text": [
      "EMA:30, X:15, PCT:0.5\n"
     ]
    },
    {
     "name": "stderr",
     "output_type": "stream",
     "text": [
      "/tmp/ipykernel_29457/2639050160.py:92: FutureWarning: Setting an item of incompatible dtype is deprecated and will raise an error in a future version of pandas. Value 'Trailing SL Hit' has dtype incompatible with float64, please explicitly cast to a compatible dtype first.\n",
      "  tradebook_long.loc[\n"
     ]
    },
    {
     "name": "stdout",
     "output_type": "stream",
     "text": [
      "EMA:30, X:15, PCT:0.75\n"
     ]
    },
    {
     "name": "stderr",
     "output_type": "stream",
     "text": [
      "/tmp/ipykernel_29457/2639050160.py:92: FutureWarning: Setting an item of incompatible dtype is deprecated and will raise an error in a future version of pandas. Value 'Trailing SL Hit' has dtype incompatible with float64, please explicitly cast to a compatible dtype first.\n",
      "  tradebook_long.loc[\n"
     ]
    },
    {
     "name": "stdout",
     "output_type": "stream",
     "text": [
      "EMA:30, X:15, PCT:1\n"
     ]
    },
    {
     "name": "stderr",
     "output_type": "stream",
     "text": [
      "/tmp/ipykernel_29457/2639050160.py:92: FutureWarning: Setting an item of incompatible dtype is deprecated and will raise an error in a future version of pandas. Value 'Trailing SL Hit' has dtype incompatible with float64, please explicitly cast to a compatible dtype first.\n",
      "  tradebook_long.loc[\n"
     ]
    },
    {
     "name": "stdout",
     "output_type": "stream",
     "text": [
      "EMA:30, X:18, PCT:0.25\n"
     ]
    },
    {
     "name": "stderr",
     "output_type": "stream",
     "text": [
      "/tmp/ipykernel_29457/2639050160.py:92: FutureWarning: Setting an item of incompatible dtype is deprecated and will raise an error in a future version of pandas. Value 'Trailing SL Hit' has dtype incompatible with float64, please explicitly cast to a compatible dtype first.\n",
      "  tradebook_long.loc[\n"
     ]
    },
    {
     "name": "stdout",
     "output_type": "stream",
     "text": [
      "        Total ROI Total Trades Win Rate Avg Profit% per Trade Avg Loss% per Trade Max Drawdown ROI/DD Ratio               Variation\n",
      "2017      47.0613           36  52.7778                4.6061             -2.3797      -9.5815       4.9117  EMA:30, X:18, PCT:0.25\n",
      "2018      73.8709           37  48.6486                5.8008             -1.6076      -8.4792       8.7120  EMA:30, X:18, PCT:0.25\n",
      "2019      50.5293           45  40.0000                5.8257             -2.0123     -14.0200       3.6041  EMA:30, X:18, PCT:0.25\n",
      "2020      58.2255           45  35.5556                6.9010             -1.7997      -9.7081       5.9976  EMA:30, X:18, PCT:0.25\n",
      "2021      87.6372           44  40.9091                6.8515             -1.3727     -11.6787       7.5040  EMA:30, X:18, PCT:0.25\n",
      "2022      44.4326           38  28.9474                8.4525             -1.7980     -15.7426       2.8224  EMA:30, X:18, PCT:0.25\n",
      "2023      39.1992           47  29.7872                7.4276             -1.9632     -20.2270       1.9380  EMA:30, X:18, PCT:0.25\n",
      "2024      17.9854           40  32.5000                4.8615             -1.7390     -11.4194       1.5750  EMA:30, X:18, PCT:0.25\n",
      "Overall  418.9414          332  38.2530                6.2260             -1.8223     -20.2270      20.7120  EMA:30, X:18, PCT:0.25\n",
      "EMA:30, X:18, PCT:0.5\n"
     ]
    },
    {
     "name": "stderr",
     "output_type": "stream",
     "text": [
      "/tmp/ipykernel_29457/2639050160.py:92: FutureWarning: Setting an item of incompatible dtype is deprecated and will raise an error in a future version of pandas. Value 'Trailing SL Hit' has dtype incompatible with float64, please explicitly cast to a compatible dtype first.\n",
      "  tradebook_long.loc[\n"
     ]
    },
    {
     "name": "stdout",
     "output_type": "stream",
     "text": [
      "EMA:30, X:18, PCT:0.75\n"
     ]
    },
    {
     "name": "stderr",
     "output_type": "stream",
     "text": [
      "/tmp/ipykernel_29457/2639050160.py:92: FutureWarning: Setting an item of incompatible dtype is deprecated and will raise an error in a future version of pandas. Value 'Trailing SL Hit' has dtype incompatible with float64, please explicitly cast to a compatible dtype first.\n",
      "  tradebook_long.loc[\n"
     ]
    },
    {
     "name": "stdout",
     "output_type": "stream",
     "text": [
      "EMA:30, X:18, PCT:1\n"
     ]
    },
    {
     "name": "stderr",
     "output_type": "stream",
     "text": [
      "/tmp/ipykernel_29457/2639050160.py:92: FutureWarning: Setting an item of incompatible dtype is deprecated and will raise an error in a future version of pandas. Value 'Trailing SL Hit' has dtype incompatible with float64, please explicitly cast to a compatible dtype first.\n",
      "  tradebook_long.loc[\n"
     ]
    },
    {
     "name": "stdout",
     "output_type": "stream",
     "text": [
      "EMA:30, X:21, PCT:0.25\n"
     ]
    },
    {
     "name": "stderr",
     "output_type": "stream",
     "text": [
      "/tmp/ipykernel_29457/2639050160.py:92: FutureWarning: Setting an item of incompatible dtype is deprecated and will raise an error in a future version of pandas. Value 'Trailing SL Hit' has dtype incompatible with float64, please explicitly cast to a compatible dtype first.\n",
      "  tradebook_long.loc[\n"
     ]
    },
    {
     "name": "stdout",
     "output_type": "stream",
     "text": [
      "EMA:30, X:21, PCT:0.5\n"
     ]
    },
    {
     "name": "stderr",
     "output_type": "stream",
     "text": [
      "/tmp/ipykernel_29457/2639050160.py:92: FutureWarning: Setting an item of incompatible dtype is deprecated and will raise an error in a future version of pandas. Value 'Trailing SL Hit' has dtype incompatible with float64, please explicitly cast to a compatible dtype first.\n",
      "  tradebook_long.loc[\n"
     ]
    },
    {
     "name": "stdout",
     "output_type": "stream",
     "text": [
      "EMA:30, X:21, PCT:0.75\n"
     ]
    },
    {
     "name": "stderr",
     "output_type": "stream",
     "text": [
      "/tmp/ipykernel_29457/2639050160.py:92: FutureWarning: Setting an item of incompatible dtype is deprecated and will raise an error in a future version of pandas. Value 'Trailing SL Hit' has dtype incompatible with float64, please explicitly cast to a compatible dtype first.\n",
      "  tradebook_long.loc[\n"
     ]
    },
    {
     "name": "stdout",
     "output_type": "stream",
     "text": [
      "EMA:30, X:21, PCT:1\n"
     ]
    },
    {
     "name": "stderr",
     "output_type": "stream",
     "text": [
      "/tmp/ipykernel_29457/2639050160.py:92: FutureWarning: Setting an item of incompatible dtype is deprecated and will raise an error in a future version of pandas. Value 'Trailing SL Hit' has dtype incompatible with float64, please explicitly cast to a compatible dtype first.\n",
      "  tradebook_long.loc[\n"
     ]
    },
    {
     "name": "stdout",
     "output_type": "stream",
     "text": [
      "EMA:30, X:24, PCT:0.25\n"
     ]
    },
    {
     "name": "stderr",
     "output_type": "stream",
     "text": [
      "/tmp/ipykernel_29457/2639050160.py:92: FutureWarning: Setting an item of incompatible dtype is deprecated and will raise an error in a future version of pandas. Value 'Trailing SL Hit' has dtype incompatible with float64, please explicitly cast to a compatible dtype first.\n",
      "  tradebook_long.loc[\n"
     ]
    },
    {
     "name": "stdout",
     "output_type": "stream",
     "text": [
      "EMA:30, X:24, PCT:0.5\n"
     ]
    },
    {
     "name": "stderr",
     "output_type": "stream",
     "text": [
      "/tmp/ipykernel_29457/2639050160.py:92: FutureWarning: Setting an item of incompatible dtype is deprecated and will raise an error in a future version of pandas. Value 'Trailing SL Hit' has dtype incompatible with float64, please explicitly cast to a compatible dtype first.\n",
      "  tradebook_long.loc[\n"
     ]
    },
    {
     "name": "stdout",
     "output_type": "stream",
     "text": [
      "EMA:30, X:24, PCT:0.75\n"
     ]
    },
    {
     "name": "stderr",
     "output_type": "stream",
     "text": [
      "/tmp/ipykernel_29457/2639050160.py:92: FutureWarning: Setting an item of incompatible dtype is deprecated and will raise an error in a future version of pandas. Value 'Trailing SL Hit' has dtype incompatible with float64, please explicitly cast to a compatible dtype first.\n",
      "  tradebook_long.loc[\n"
     ]
    },
    {
     "name": "stdout",
     "output_type": "stream",
     "text": [
      "EMA:30, X:24, PCT:1\n"
     ]
    },
    {
     "name": "stderr",
     "output_type": "stream",
     "text": [
      "/tmp/ipykernel_29457/2639050160.py:92: FutureWarning: Setting an item of incompatible dtype is deprecated and will raise an error in a future version of pandas. Value 'Trailing SL Hit' has dtype incompatible with float64, please explicitly cast to a compatible dtype first.\n",
      "  tradebook_long.loc[\n"
     ]
    },
    {
     "name": "stdout",
     "output_type": "stream",
     "text": [
      "EMA:30, X:27, PCT:0.25\n"
     ]
    },
    {
     "name": "stderr",
     "output_type": "stream",
     "text": [
      "/tmp/ipykernel_29457/2639050160.py:92: FutureWarning: Setting an item of incompatible dtype is deprecated and will raise an error in a future version of pandas. Value 'Trailing SL Hit' has dtype incompatible with float64, please explicitly cast to a compatible dtype first.\n",
      "  tradebook_long.loc[\n"
     ]
    },
    {
     "name": "stdout",
     "output_type": "stream",
     "text": [
      "EMA:30, X:27, PCT:0.5\n"
     ]
    },
    {
     "name": "stderr",
     "output_type": "stream",
     "text": [
      "/tmp/ipykernel_29457/2639050160.py:92: FutureWarning: Setting an item of incompatible dtype is deprecated and will raise an error in a future version of pandas. Value 'Trailing SL Hit' has dtype incompatible with float64, please explicitly cast to a compatible dtype first.\n",
      "  tradebook_long.loc[\n"
     ]
    },
    {
     "name": "stdout",
     "output_type": "stream",
     "text": [
      "EMA:30, X:27, PCT:0.75\n"
     ]
    },
    {
     "name": "stderr",
     "output_type": "stream",
     "text": [
      "/tmp/ipykernel_29457/2639050160.py:92: FutureWarning: Setting an item of incompatible dtype is deprecated and will raise an error in a future version of pandas. Value 'Trailing SL Hit' has dtype incompatible with float64, please explicitly cast to a compatible dtype first.\n",
      "  tradebook_long.loc[\n"
     ]
    },
    {
     "name": "stdout",
     "output_type": "stream",
     "text": [
      "EMA:30, X:27, PCT:1\n"
     ]
    },
    {
     "name": "stderr",
     "output_type": "stream",
     "text": [
      "/tmp/ipykernel_29457/2639050160.py:92: FutureWarning: Setting an item of incompatible dtype is deprecated and will raise an error in a future version of pandas. Value 'Trailing SL Hit' has dtype incompatible with float64, please explicitly cast to a compatible dtype first.\n",
      "  tradebook_long.loc[\n"
     ]
    },
    {
     "name": "stdout",
     "output_type": "stream",
     "text": [
      "EMA:30, X:30, PCT:0.25\n"
     ]
    },
    {
     "name": "stderr",
     "output_type": "stream",
     "text": [
      "/tmp/ipykernel_29457/2639050160.py:92: FutureWarning: Setting an item of incompatible dtype is deprecated and will raise an error in a future version of pandas. Value 'Trailing SL Hit' has dtype incompatible with float64, please explicitly cast to a compatible dtype first.\n",
      "  tradebook_long.loc[\n"
     ]
    },
    {
     "name": "stdout",
     "output_type": "stream",
     "text": [
      "EMA:30, X:30, PCT:0.5\n"
     ]
    },
    {
     "name": "stderr",
     "output_type": "stream",
     "text": [
      "/tmp/ipykernel_29457/2639050160.py:92: FutureWarning: Setting an item of incompatible dtype is deprecated and will raise an error in a future version of pandas. Value 'Trailing SL Hit' has dtype incompatible with float64, please explicitly cast to a compatible dtype first.\n",
      "  tradebook_long.loc[\n"
     ]
    },
    {
     "name": "stdout",
     "output_type": "stream",
     "text": [
      "EMA:30, X:30, PCT:0.75\n"
     ]
    },
    {
     "name": "stderr",
     "output_type": "stream",
     "text": [
      "/tmp/ipykernel_29457/2639050160.py:92: FutureWarning: Setting an item of incompatible dtype is deprecated and will raise an error in a future version of pandas. Value 'Trailing SL Hit' has dtype incompatible with float64, please explicitly cast to a compatible dtype first.\n",
      "  tradebook_long.loc[\n"
     ]
    },
    {
     "name": "stdout",
     "output_type": "stream",
     "text": [
      "EMA:30, X:30, PCT:1\n"
     ]
    },
    {
     "name": "stderr",
     "output_type": "stream",
     "text": [
      "/tmp/ipykernel_29457/2639050160.py:92: FutureWarning: Setting an item of incompatible dtype is deprecated and will raise an error in a future version of pandas. Value 'Trailing SL Hit' has dtype incompatible with float64, please explicitly cast to a compatible dtype first.\n",
      "  tradebook_long.loc[\n"
     ]
    },
    {
     "name": "stdout",
     "output_type": "stream",
     "text": [
      "EMA:30, X:33, PCT:0.25\n"
     ]
    },
    {
     "name": "stderr",
     "output_type": "stream",
     "text": [
      "/tmp/ipykernel_29457/2639050160.py:92: FutureWarning: Setting an item of incompatible dtype is deprecated and will raise an error in a future version of pandas. Value 'Trailing SL Hit' has dtype incompatible with float64, please explicitly cast to a compatible dtype first.\n",
      "  tradebook_long.loc[\n"
     ]
    },
    {
     "name": "stdout",
     "output_type": "stream",
     "text": [
      "EMA:30, X:33, PCT:0.5\n"
     ]
    },
    {
     "name": "stderr",
     "output_type": "stream",
     "text": [
      "/tmp/ipykernel_29457/2639050160.py:92: FutureWarning: Setting an item of incompatible dtype is deprecated and will raise an error in a future version of pandas. Value 'Trailing SL Hit' has dtype incompatible with float64, please explicitly cast to a compatible dtype first.\n",
      "  tradebook_long.loc[\n"
     ]
    },
    {
     "name": "stdout",
     "output_type": "stream",
     "text": [
      "EMA:30, X:33, PCT:0.75\n"
     ]
    },
    {
     "name": "stderr",
     "output_type": "stream",
     "text": [
      "/tmp/ipykernel_29457/2639050160.py:92: FutureWarning: Setting an item of incompatible dtype is deprecated and will raise an error in a future version of pandas. Value 'Trailing SL Hit' has dtype incompatible with float64, please explicitly cast to a compatible dtype first.\n",
      "  tradebook_long.loc[\n"
     ]
    },
    {
     "name": "stdout",
     "output_type": "stream",
     "text": [
      "EMA:30, X:33, PCT:1\n"
     ]
    },
    {
     "name": "stderr",
     "output_type": "stream",
     "text": [
      "/tmp/ipykernel_29457/2639050160.py:92: FutureWarning: Setting an item of incompatible dtype is deprecated and will raise an error in a future version of pandas. Value 'Trailing SL Hit' has dtype incompatible with float64, please explicitly cast to a compatible dtype first.\n",
      "  tradebook_long.loc[\n"
     ]
    },
    {
     "name": "stdout",
     "output_type": "stream",
     "text": [
      "EMA:30, X:36, PCT:0.25\n"
     ]
    },
    {
     "name": "stderr",
     "output_type": "stream",
     "text": [
      "/tmp/ipykernel_29457/2639050160.py:92: FutureWarning: Setting an item of incompatible dtype is deprecated and will raise an error in a future version of pandas. Value 'Trailing SL Hit' has dtype incompatible with float64, please explicitly cast to a compatible dtype first.\n",
      "  tradebook_long.loc[\n"
     ]
    },
    {
     "name": "stdout",
     "output_type": "stream",
     "text": [
      "        Total ROI Total Trades Win Rate Avg Profit% per Trade Avg Loss% per Trade Max Drawdown ROI/DD Ratio               Variation\n",
      "2017      39.4694           38  47.3684                4.8080             -2.3537     -13.2738       2.9735  EMA:30, X:36, PCT:0.25\n",
      "2018      68.6943           28  60.7143                5.0375             -1.5402      -4.1875      16.4045  EMA:30, X:36, PCT:0.25\n",
      "2019      39.3640           38  36.8421                5.9734             -1.8443     -15.8085       2.4901  EMA:30, X:36, PCT:0.25\n",
      "2020      77.9853           43  41.8605                7.3366             -2.1629     -11.4023       6.8394  EMA:30, X:36, PCT:0.25\n",
      "2021      40.4212           45  28.8889                7.8782             -1.9374     -17.6237       2.2936  EMA:30, X:36, PCT:0.25\n",
      "2022      28.3319           36  36.1111                6.1459             -2.2420     -12.9925       2.1806  EMA:30, X:36, PCT:0.25\n",
      "2023      55.0551           40  40.0000                6.4717             -2.0205      -9.5873       5.7425  EMA:30, X:36, PCT:0.25\n",
      "2024      24.1574           34  41.1765                4.2344             -1.8487      -8.7927       2.7474  EMA:30, X:36, PCT:0.25\n",
      "Overall  373.4786          302  40.7285                5.9594             -2.0198     -17.6237      21.1918  EMA:30, X:36, PCT:0.25\n",
      "EMA:30, X:36, PCT:0.5\n"
     ]
    },
    {
     "name": "stderr",
     "output_type": "stream",
     "text": [
      "/tmp/ipykernel_29457/2639050160.py:92: FutureWarning: Setting an item of incompatible dtype is deprecated and will raise an error in a future version of pandas. Value 'Trailing SL Hit' has dtype incompatible with float64, please explicitly cast to a compatible dtype first.\n",
      "  tradebook_long.loc[\n"
     ]
    },
    {
     "name": "stdout",
     "output_type": "stream",
     "text": [
      "EMA:30, X:36, PCT:0.75\n"
     ]
    },
    {
     "name": "stderr",
     "output_type": "stream",
     "text": [
      "/tmp/ipykernel_29457/2639050160.py:92: FutureWarning: Setting an item of incompatible dtype is deprecated and will raise an error in a future version of pandas. Value 'Trailing SL Hit' has dtype incompatible with float64, please explicitly cast to a compatible dtype first.\n",
      "  tradebook_long.loc[\n"
     ]
    },
    {
     "name": "stdout",
     "output_type": "stream",
     "text": [
      "EMA:30, X:36, PCT:1\n"
     ]
    },
    {
     "name": "stderr",
     "output_type": "stream",
     "text": [
      "/tmp/ipykernel_29457/2639050160.py:92: FutureWarning: Setting an item of incompatible dtype is deprecated and will raise an error in a future version of pandas. Value 'Trailing SL Hit' has dtype incompatible with float64, please explicitly cast to a compatible dtype first.\n",
      "  tradebook_long.loc[\n"
     ]
    },
    {
     "name": "stdout",
     "output_type": "stream",
     "text": [
      "EMA:32, X:3, PCT:0.25\n"
     ]
    },
    {
     "name": "stderr",
     "output_type": "stream",
     "text": [
      "/tmp/ipykernel_29457/2639050160.py:78: FutureWarning: Setting an item of incompatible dtype is deprecated and will raise an error in a future version of pandas. Value 'Initial SL Hit' has dtype incompatible with float64, please explicitly cast to a compatible dtype first.\n",
      "  tradebook_long.loc[\n"
     ]
    },
    {
     "name": "stdout",
     "output_type": "stream",
     "text": [
      "        Total ROI Total Trades Win Rate Avg Profit% per Trade Avg Loss% per Trade Max Drawdown ROI/DD Ratio              Variation\n",
      "2017      53.7887           45  44.4444                5.6551             -2.3725     -11.0079       4.8864  EMA:32, X:3, PCT:0.25\n",
      "2018      80.6252           34  50.0000                6.8599             -2.1172     -11.1415       7.2365  EMA:32, X:3, PCT:0.25\n",
      "2019      51.4450           48  35.4167                6.9905             -2.1740     -24.6675       2.0855  EMA:32, X:3, PCT:0.25\n",
      "2020     138.4626           46  47.8261                8.4142             -1.9437     -10.1718      13.6125  EMA:32, X:3, PCT:0.25\n",
      "2021      50.2832           55  36.3636                5.5773             -1.7503     -21.9384       2.2920  EMA:32, X:3, PCT:0.25\n",
      "2022      62.1284           43  30.2326                9.6199             -2.0977     -21.8982       2.8371  EMA:32, X:3, PCT:0.25\n",
      "2023      74.1677           44  38.6364                8.0016             -2.2911     -12.8747       5.7607  EMA:32, X:3, PCT:0.25\n",
      "2024      50.2515           36  44.4444                5.3403             -1.8523      -8.6272       5.8248  EMA:32, X:3, PCT:0.25\n",
      "Overall  561.1524          351  40.4558                6.9841             -2.0702     -24.6675      22.7486  EMA:32, X:3, PCT:0.25\n",
      "EMA:32, X:3, PCT:0.5\n"
     ]
    },
    {
     "name": "stderr",
     "output_type": "stream",
     "text": [
      "/tmp/ipykernel_29457/2639050160.py:78: FutureWarning: Setting an item of incompatible dtype is deprecated and will raise an error in a future version of pandas. Value 'Initial SL Hit' has dtype incompatible with float64, please explicitly cast to a compatible dtype first.\n",
      "  tradebook_long.loc[\n"
     ]
    },
    {
     "name": "stdout",
     "output_type": "stream",
     "text": [
      "EMA:32, X:3, PCT:0.75\n"
     ]
    },
    {
     "name": "stderr",
     "output_type": "stream",
     "text": [
      "/tmp/ipykernel_29457/2639050160.py:92: FutureWarning: Setting an item of incompatible dtype is deprecated and will raise an error in a future version of pandas. Value 'Trailing SL Hit' has dtype incompatible with float64, please explicitly cast to a compatible dtype first.\n",
      "  tradebook_long.loc[\n"
     ]
    },
    {
     "name": "stdout",
     "output_type": "stream",
     "text": [
      "EMA:32, X:3, PCT:1\n"
     ]
    },
    {
     "name": "stderr",
     "output_type": "stream",
     "text": [
      "/tmp/ipykernel_29457/2639050160.py:92: FutureWarning: Setting an item of incompatible dtype is deprecated and will raise an error in a future version of pandas. Value 'Trailing SL Hit' has dtype incompatible with float64, please explicitly cast to a compatible dtype first.\n",
      "  tradebook_long.loc[\n",
      "/tmp/ipykernel_29457/2611632047.py:45: RuntimeWarning: divide by zero encountered in scalar divide\n",
      "  roi_dd_ratio = total_roi / abs(max_drawdown)\n",
      "/tmp/ipykernel_29457/2639050160.py:92: FutureWarning: Setting an item of incompatible dtype is deprecated and will raise an error in a future version of pandas. Value 'Trailing SL Hit' has dtype incompatible with float64, please explicitly cast to a compatible dtype first.\n",
      "  tradebook_long.loc[\n"
     ]
    },
    {
     "name": "stdout",
     "output_type": "stream",
     "text": [
      "EMA:32, X:6, PCT:0.25\n",
      "EMA:32, X:6, PCT:0.5\n"
     ]
    },
    {
     "name": "stderr",
     "output_type": "stream",
     "text": [
      "/tmp/ipykernel_29457/2639050160.py:92: FutureWarning: Setting an item of incompatible dtype is deprecated and will raise an error in a future version of pandas. Value 'Trailing SL Hit' has dtype incompatible with float64, please explicitly cast to a compatible dtype first.\n",
      "  tradebook_long.loc[\n"
     ]
    },
    {
     "name": "stdout",
     "output_type": "stream",
     "text": [
      "EMA:32, X:6, PCT:0.75\n"
     ]
    },
    {
     "name": "stderr",
     "output_type": "stream",
     "text": [
      "/tmp/ipykernel_29457/2639050160.py:92: FutureWarning: Setting an item of incompatible dtype is deprecated and will raise an error in a future version of pandas. Value 'Trailing SL Hit' has dtype incompatible with float64, please explicitly cast to a compatible dtype first.\n",
      "  tradebook_long.loc[\n"
     ]
    },
    {
     "name": "stdout",
     "output_type": "stream",
     "text": [
      "EMA:32, X:6, PCT:1\n"
     ]
    },
    {
     "name": "stderr",
     "output_type": "stream",
     "text": [
      "/tmp/ipykernel_29457/2639050160.py:92: FutureWarning: Setting an item of incompatible dtype is deprecated and will raise an error in a future version of pandas. Value 'Trailing SL Hit' has dtype incompatible with float64, please explicitly cast to a compatible dtype first.\n",
      "  tradebook_long.loc[\n"
     ]
    },
    {
     "name": "stdout",
     "output_type": "stream",
     "text": [
      "EMA:32, X:9, PCT:0.25\n"
     ]
    },
    {
     "name": "stderr",
     "output_type": "stream",
     "text": [
      "/tmp/ipykernel_29457/2639050160.py:92: FutureWarning: Setting an item of incompatible dtype is deprecated and will raise an error in a future version of pandas. Value 'Trailing SL Hit' has dtype incompatible with float64, please explicitly cast to a compatible dtype first.\n",
      "  tradebook_long.loc[\n"
     ]
    },
    {
     "name": "stdout",
     "output_type": "stream",
     "text": [
      "EMA:32, X:9, PCT:0.5\n"
     ]
    },
    {
     "name": "stderr",
     "output_type": "stream",
     "text": [
      "/tmp/ipykernel_29457/2639050160.py:92: FutureWarning: Setting an item of incompatible dtype is deprecated and will raise an error in a future version of pandas. Value 'Trailing SL Hit' has dtype incompatible with float64, please explicitly cast to a compatible dtype first.\n",
      "  tradebook_long.loc[\n"
     ]
    },
    {
     "name": "stdout",
     "output_type": "stream",
     "text": [
      "EMA:32, X:9, PCT:0.75\n"
     ]
    },
    {
     "name": "stderr",
     "output_type": "stream",
     "text": [
      "/tmp/ipykernel_29457/2639050160.py:92: FutureWarning: Setting an item of incompatible dtype is deprecated and will raise an error in a future version of pandas. Value 'Trailing SL Hit' has dtype incompatible with float64, please explicitly cast to a compatible dtype first.\n",
      "  tradebook_long.loc[\n"
     ]
    },
    {
     "name": "stdout",
     "output_type": "stream",
     "text": [
      "EMA:32, X:9, PCT:1\n"
     ]
    },
    {
     "name": "stderr",
     "output_type": "stream",
     "text": [
      "/tmp/ipykernel_29457/2639050160.py:92: FutureWarning: Setting an item of incompatible dtype is deprecated and will raise an error in a future version of pandas. Value 'Trailing SL Hit' has dtype incompatible with float64, please explicitly cast to a compatible dtype first.\n",
      "  tradebook_long.loc[\n"
     ]
    },
    {
     "name": "stdout",
     "output_type": "stream",
     "text": [
      "EMA:32, X:12, PCT:0.25\n"
     ]
    },
    {
     "name": "stderr",
     "output_type": "stream",
     "text": [
      "/tmp/ipykernel_29457/2639050160.py:92: FutureWarning: Setting an item of incompatible dtype is deprecated and will raise an error in a future version of pandas. Value 'Trailing SL Hit' has dtype incompatible with float64, please explicitly cast to a compatible dtype first.\n",
      "  tradebook_long.loc[\n"
     ]
    },
    {
     "name": "stdout",
     "output_type": "stream",
     "text": [
      "EMA:32, X:12, PCT:0.5\n"
     ]
    },
    {
     "name": "stderr",
     "output_type": "stream",
     "text": [
      "/tmp/ipykernel_29457/2639050160.py:92: FutureWarning: Setting an item of incompatible dtype is deprecated and will raise an error in a future version of pandas. Value 'Trailing SL Hit' has dtype incompatible with float64, please explicitly cast to a compatible dtype first.\n",
      "  tradebook_long.loc[\n"
     ]
    },
    {
     "name": "stdout",
     "output_type": "stream",
     "text": [
      "EMA:32, X:12, PCT:0.75\n"
     ]
    },
    {
     "name": "stderr",
     "output_type": "stream",
     "text": [
      "/tmp/ipykernel_29457/2639050160.py:92: FutureWarning: Setting an item of incompatible dtype is deprecated and will raise an error in a future version of pandas. Value 'Trailing SL Hit' has dtype incompatible with float64, please explicitly cast to a compatible dtype first.\n",
      "  tradebook_long.loc[\n"
     ]
    },
    {
     "name": "stdout",
     "output_type": "stream",
     "text": [
      "EMA:32, X:12, PCT:1\n"
     ]
    },
    {
     "name": "stderr",
     "output_type": "stream",
     "text": [
      "/tmp/ipykernel_29457/2639050160.py:92: FutureWarning: Setting an item of incompatible dtype is deprecated and will raise an error in a future version of pandas. Value 'Trailing SL Hit' has dtype incompatible with float64, please explicitly cast to a compatible dtype first.\n",
      "  tradebook_long.loc[\n"
     ]
    },
    {
     "name": "stdout",
     "output_type": "stream",
     "text": [
      "EMA:32, X:15, PCT:0.25\n"
     ]
    },
    {
     "name": "stderr",
     "output_type": "stream",
     "text": [
      "/tmp/ipykernel_29457/2639050160.py:92: FutureWarning: Setting an item of incompatible dtype is deprecated and will raise an error in a future version of pandas. Value 'Trailing SL Hit' has dtype incompatible with float64, please explicitly cast to a compatible dtype first.\n",
      "  tradebook_long.loc[\n"
     ]
    },
    {
     "name": "stdout",
     "output_type": "stream",
     "text": [
      "EMA:32, X:15, PCT:0.5\n"
     ]
    },
    {
     "name": "stderr",
     "output_type": "stream",
     "text": [
      "/tmp/ipykernel_29457/2639050160.py:92: FutureWarning: Setting an item of incompatible dtype is deprecated and will raise an error in a future version of pandas. Value 'Trailing SL Hit' has dtype incompatible with float64, please explicitly cast to a compatible dtype first.\n",
      "  tradebook_long.loc[\n"
     ]
    },
    {
     "name": "stdout",
     "output_type": "stream",
     "text": [
      "EMA:32, X:15, PCT:0.75\n"
     ]
    },
    {
     "name": "stderr",
     "output_type": "stream",
     "text": [
      "/tmp/ipykernel_29457/2639050160.py:92: FutureWarning: Setting an item of incompatible dtype is deprecated and will raise an error in a future version of pandas. Value 'Trailing SL Hit' has dtype incompatible with float64, please explicitly cast to a compatible dtype first.\n",
      "  tradebook_long.loc[\n"
     ]
    },
    {
     "name": "stdout",
     "output_type": "stream",
     "text": [
      "EMA:32, X:15, PCT:1\n"
     ]
    },
    {
     "name": "stderr",
     "output_type": "stream",
     "text": [
      "/tmp/ipykernel_29457/2639050160.py:92: FutureWarning: Setting an item of incompatible dtype is deprecated and will raise an error in a future version of pandas. Value 'Trailing SL Hit' has dtype incompatible with float64, please explicitly cast to a compatible dtype first.\n",
      "  tradebook_long.loc[\n"
     ]
    },
    {
     "name": "stdout",
     "output_type": "stream",
     "text": [
      "EMA:32, X:18, PCT:0.25\n"
     ]
    },
    {
     "name": "stderr",
     "output_type": "stream",
     "text": [
      "/tmp/ipykernel_29457/2639050160.py:92: FutureWarning: Setting an item of incompatible dtype is deprecated and will raise an error in a future version of pandas. Value 'Trailing SL Hit' has dtype incompatible with float64, please explicitly cast to a compatible dtype first.\n",
      "  tradebook_long.loc[\n"
     ]
    },
    {
     "name": "stdout",
     "output_type": "stream",
     "text": [
      "        Total ROI Total Trades Win Rate Avg Profit% per Trade Avg Loss% per Trade Max Drawdown ROI/DD Ratio               Variation\n",
      "2017      44.3251           36  52.7778                4.4725             -2.3913      -9.5815       4.6261  EMA:32, X:18, PCT:0.25\n",
      "2018      69.2124           37  48.6486                5.5727             -1.6367      -8.4792       8.1626  EMA:32, X:18, PCT:0.25\n",
      "2019      41.8211           44  38.6364                5.7024             -2.0415     -16.0144       2.6115  EMA:32, X:18, PCT:0.25\n",
      "2020      70.3356           41  39.0244                6.9159             -1.6127      -9.7081       7.2450  EMA:32, X:18, PCT:0.25\n",
      "2021      81.8856           45  40.0000                6.5169             -1.3118     -11.6567       7.0248  EMA:32, X:18, PCT:0.25\n",
      "2022      50.8624           37  29.7297                8.2874             -1.5500     -15.3184       3.3203  EMA:32, X:18, PCT:0.25\n",
      "2023      42.9690           46  30.4348                7.5117             -1.9436     -20.5929       2.0866  EMA:32, X:18, PCT:0.25\n",
      "2024      27.1844           36  36.1111                5.0184             -1.7298     -10.5672       2.5725  EMA:32, X:18, PCT:0.25\n",
      "Overall  428.5957          322  39.1304                6.1250             -1.7598     -20.5929      20.8128  EMA:32, X:18, PCT:0.25\n",
      "EMA:32, X:18, PCT:0.5\n"
     ]
    },
    {
     "name": "stderr",
     "output_type": "stream",
     "text": [
      "/tmp/ipykernel_29457/2639050160.py:92: FutureWarning: Setting an item of incompatible dtype is deprecated and will raise an error in a future version of pandas. Value 'Trailing SL Hit' has dtype incompatible with float64, please explicitly cast to a compatible dtype first.\n",
      "  tradebook_long.loc[\n"
     ]
    },
    {
     "name": "stdout",
     "output_type": "stream",
     "text": [
      "EMA:32, X:18, PCT:0.75\n"
     ]
    },
    {
     "name": "stderr",
     "output_type": "stream",
     "text": [
      "/tmp/ipykernel_29457/2639050160.py:78: FutureWarning: Setting an item of incompatible dtype is deprecated and will raise an error in a future version of pandas. Value 'Initial SL Hit' has dtype incompatible with float64, please explicitly cast to a compatible dtype first.\n",
      "  tradebook_long.loc[\n"
     ]
    },
    {
     "name": "stdout",
     "output_type": "stream",
     "text": [
      "EMA:32, X:18, PCT:1\n"
     ]
    },
    {
     "name": "stderr",
     "output_type": "stream",
     "text": [
      "/tmp/ipykernel_29457/2639050160.py:92: FutureWarning: Setting an item of incompatible dtype is deprecated and will raise an error in a future version of pandas. Value 'Trailing SL Hit' has dtype incompatible with float64, please explicitly cast to a compatible dtype first.\n",
      "  tradebook_long.loc[\n"
     ]
    },
    {
     "name": "stdout",
     "output_type": "stream",
     "text": [
      "EMA:32, X:21, PCT:0.25\n"
     ]
    },
    {
     "name": "stderr",
     "output_type": "stream",
     "text": [
      "/tmp/ipykernel_29457/2639050160.py:92: FutureWarning: Setting an item of incompatible dtype is deprecated and will raise an error in a future version of pandas. Value 'Trailing SL Hit' has dtype incompatible with float64, please explicitly cast to a compatible dtype first.\n",
      "  tradebook_long.loc[\n"
     ]
    },
    {
     "name": "stdout",
     "output_type": "stream",
     "text": [
      "EMA:32, X:21, PCT:0.5\n"
     ]
    },
    {
     "name": "stderr",
     "output_type": "stream",
     "text": [
      "/tmp/ipykernel_29457/2639050160.py:92: FutureWarning: Setting an item of incompatible dtype is deprecated and will raise an error in a future version of pandas. Value 'Trailing SL Hit' has dtype incompatible with float64, please explicitly cast to a compatible dtype first.\n",
      "  tradebook_long.loc[\n"
     ]
    },
    {
     "name": "stdout",
     "output_type": "stream",
     "text": [
      "EMA:32, X:21, PCT:0.75\n"
     ]
    },
    {
     "name": "stderr",
     "output_type": "stream",
     "text": [
      "/tmp/ipykernel_29457/2639050160.py:92: FutureWarning: Setting an item of incompatible dtype is deprecated and will raise an error in a future version of pandas. Value 'Trailing SL Hit' has dtype incompatible with float64, please explicitly cast to a compatible dtype first.\n",
      "  tradebook_long.loc[\n"
     ]
    },
    {
     "name": "stdout",
     "output_type": "stream",
     "text": [
      "EMA:32, X:21, PCT:1\n"
     ]
    },
    {
     "name": "stderr",
     "output_type": "stream",
     "text": [
      "/tmp/ipykernel_29457/2639050160.py:92: FutureWarning: Setting an item of incompatible dtype is deprecated and will raise an error in a future version of pandas. Value 'Trailing SL Hit' has dtype incompatible with float64, please explicitly cast to a compatible dtype first.\n",
      "  tradebook_long.loc[\n"
     ]
    },
    {
     "name": "stdout",
     "output_type": "stream",
     "text": [
      "EMA:32, X:24, PCT:0.25\n"
     ]
    },
    {
     "name": "stderr",
     "output_type": "stream",
     "text": [
      "/tmp/ipykernel_29457/2639050160.py:92: FutureWarning: Setting an item of incompatible dtype is deprecated and will raise an error in a future version of pandas. Value 'Trailing SL Hit' has dtype incompatible with float64, please explicitly cast to a compatible dtype first.\n",
      "  tradebook_long.loc[\n"
     ]
    },
    {
     "name": "stdout",
     "output_type": "stream",
     "text": [
      "EMA:32, X:24, PCT:0.5\n"
     ]
    },
    {
     "name": "stderr",
     "output_type": "stream",
     "text": [
      "/tmp/ipykernel_29457/2639050160.py:92: FutureWarning: Setting an item of incompatible dtype is deprecated and will raise an error in a future version of pandas. Value 'Trailing SL Hit' has dtype incompatible with float64, please explicitly cast to a compatible dtype first.\n",
      "  tradebook_long.loc[\n"
     ]
    },
    {
     "name": "stdout",
     "output_type": "stream",
     "text": [
      "EMA:32, X:24, PCT:0.75\n"
     ]
    },
    {
     "name": "stderr",
     "output_type": "stream",
     "text": [
      "/tmp/ipykernel_29457/2639050160.py:92: FutureWarning: Setting an item of incompatible dtype is deprecated and will raise an error in a future version of pandas. Value 'Trailing SL Hit' has dtype incompatible with float64, please explicitly cast to a compatible dtype first.\n",
      "  tradebook_long.loc[\n"
     ]
    },
    {
     "name": "stdout",
     "output_type": "stream",
     "text": [
      "EMA:32, X:24, PCT:1\n"
     ]
    },
    {
     "name": "stderr",
     "output_type": "stream",
     "text": [
      "/tmp/ipykernel_29457/2639050160.py:92: FutureWarning: Setting an item of incompatible dtype is deprecated and will raise an error in a future version of pandas. Value 'Trailing SL Hit' has dtype incompatible with float64, please explicitly cast to a compatible dtype first.\n",
      "  tradebook_long.loc[\n"
     ]
    },
    {
     "name": "stdout",
     "output_type": "stream",
     "text": [
      "EMA:32, X:27, PCT:0.25\n"
     ]
    },
    {
     "name": "stderr",
     "output_type": "stream",
     "text": [
      "/tmp/ipykernel_29457/2639050160.py:92: FutureWarning: Setting an item of incompatible dtype is deprecated and will raise an error in a future version of pandas. Value 'Trailing SL Hit' has dtype incompatible with float64, please explicitly cast to a compatible dtype first.\n",
      "  tradebook_long.loc[\n"
     ]
    },
    {
     "name": "stdout",
     "output_type": "stream",
     "text": [
      "EMA:32, X:27, PCT:0.5\n"
     ]
    },
    {
     "name": "stderr",
     "output_type": "stream",
     "text": [
      "/tmp/ipykernel_29457/2639050160.py:92: FutureWarning: Setting an item of incompatible dtype is deprecated and will raise an error in a future version of pandas. Value 'Trailing SL Hit' has dtype incompatible with float64, please explicitly cast to a compatible dtype first.\n",
      "  tradebook_long.loc[\n"
     ]
    },
    {
     "name": "stdout",
     "output_type": "stream",
     "text": [
      "EMA:32, X:27, PCT:0.75\n"
     ]
    },
    {
     "name": "stderr",
     "output_type": "stream",
     "text": [
      "/tmp/ipykernel_29457/2639050160.py:92: FutureWarning: Setting an item of incompatible dtype is deprecated and will raise an error in a future version of pandas. Value 'Trailing SL Hit' has dtype incompatible with float64, please explicitly cast to a compatible dtype first.\n",
      "  tradebook_long.loc[\n"
     ]
    },
    {
     "name": "stdout",
     "output_type": "stream",
     "text": [
      "EMA:32, X:27, PCT:1\n"
     ]
    },
    {
     "name": "stderr",
     "output_type": "stream",
     "text": [
      "/tmp/ipykernel_29457/2639050160.py:92: FutureWarning: Setting an item of incompatible dtype is deprecated and will raise an error in a future version of pandas. Value 'Trailing SL Hit' has dtype incompatible with float64, please explicitly cast to a compatible dtype first.\n",
      "  tradebook_long.loc[\n"
     ]
    },
    {
     "name": "stdout",
     "output_type": "stream",
     "text": [
      "EMA:32, X:30, PCT:0.25\n"
     ]
    },
    {
     "name": "stderr",
     "output_type": "stream",
     "text": [
      "/tmp/ipykernel_29457/2639050160.py:92: FutureWarning: Setting an item of incompatible dtype is deprecated and will raise an error in a future version of pandas. Value 'Trailing SL Hit' has dtype incompatible with float64, please explicitly cast to a compatible dtype first.\n",
      "  tradebook_long.loc[\n"
     ]
    },
    {
     "name": "stdout",
     "output_type": "stream",
     "text": [
      "EMA:32, X:30, PCT:0.5\n"
     ]
    },
    {
     "name": "stderr",
     "output_type": "stream",
     "text": [
      "/tmp/ipykernel_29457/2639050160.py:92: FutureWarning: Setting an item of incompatible dtype is deprecated and will raise an error in a future version of pandas. Value 'Trailing SL Hit' has dtype incompatible with float64, please explicitly cast to a compatible dtype first.\n",
      "  tradebook_long.loc[\n"
     ]
    },
    {
     "name": "stdout",
     "output_type": "stream",
     "text": [
      "EMA:32, X:30, PCT:0.75\n"
     ]
    },
    {
     "name": "stderr",
     "output_type": "stream",
     "text": [
      "/tmp/ipykernel_29457/2639050160.py:92: FutureWarning: Setting an item of incompatible dtype is deprecated and will raise an error in a future version of pandas. Value 'Trailing SL Hit' has dtype incompatible with float64, please explicitly cast to a compatible dtype first.\n",
      "  tradebook_long.loc[\n"
     ]
    },
    {
     "name": "stdout",
     "output_type": "stream",
     "text": [
      "EMA:32, X:30, PCT:1\n"
     ]
    },
    {
     "name": "stderr",
     "output_type": "stream",
     "text": [
      "/tmp/ipykernel_29457/2639050160.py:92: FutureWarning: Setting an item of incompatible dtype is deprecated and will raise an error in a future version of pandas. Value 'Trailing SL Hit' has dtype incompatible with float64, please explicitly cast to a compatible dtype first.\n",
      "  tradebook_long.loc[\n"
     ]
    },
    {
     "name": "stdout",
     "output_type": "stream",
     "text": [
      "EMA:32, X:33, PCT:0.25\n"
     ]
    },
    {
     "name": "stderr",
     "output_type": "stream",
     "text": [
      "/tmp/ipykernel_29457/2639050160.py:92: FutureWarning: Setting an item of incompatible dtype is deprecated and will raise an error in a future version of pandas. Value 'Trailing SL Hit' has dtype incompatible with float64, please explicitly cast to a compatible dtype first.\n",
      "  tradebook_long.loc[\n"
     ]
    },
    {
     "name": "stdout",
     "output_type": "stream",
     "text": [
      "EMA:32, X:33, PCT:0.5\n"
     ]
    },
    {
     "name": "stderr",
     "output_type": "stream",
     "text": [
      "/tmp/ipykernel_29457/2639050160.py:92: FutureWarning: Setting an item of incompatible dtype is deprecated and will raise an error in a future version of pandas. Value 'Trailing SL Hit' has dtype incompatible with float64, please explicitly cast to a compatible dtype first.\n",
      "  tradebook_long.loc[\n"
     ]
    },
    {
     "name": "stdout",
     "output_type": "stream",
     "text": [
      "EMA:32, X:33, PCT:0.75\n"
     ]
    },
    {
     "name": "stderr",
     "output_type": "stream",
     "text": [
      "/tmp/ipykernel_29457/2639050160.py:92: FutureWarning: Setting an item of incompatible dtype is deprecated and will raise an error in a future version of pandas. Value 'Trailing SL Hit' has dtype incompatible with float64, please explicitly cast to a compatible dtype first.\n",
      "  tradebook_long.loc[\n"
     ]
    }
   ],
   "source": [
    "# ema_length = 55\n",
    "# x_days = 28\n",
    "# y_days = 7\n",
    "# pct = 1.05\n",
    "# RPT = 5\n",
    "\n",
    "stats_dictionary = {}\n",
    "\n",
    "pct_range = [0.25, 0.5, 0.75, 1]\n",
    "RPT_ = 3\n",
    "for ema_length in range(20, 81, 2):\n",
    "    for x_days in range(3, 37, 3):\n",
    "            for pct in pct_range:\n",
    "                # RPT = 5\n",
    "                variation = f'EMA:{ema_length}, X:{x_days}, PCT:{pct}'\n",
    "                print(variation)\n",
    "                df = bnf_1min\n",
    "                df = calculate_signals(df, ema_length=ema_length, x_days=x_days, pct=pct)\n",
    "                tb = backtest(df)\n",
    "                if len(tb) > 0:\n",
    "                    tb = tb.sort_values(by='Entry_Date')\n",
    "                    portfolio = 10000000\n",
    "                    tb['PnL'] = np.where(\n",
    "                        tb['Trade_Type'].isin(['Long', 'Add_Long']),  # For Long and Add_Long\n",
    "                        tb['Exit_Price'] - tb['Entry_Price'],\n",
    "                        np.where(\n",
    "                            tb['Trade_Type'].isin(['Short', 'Add_Short']),  # For Short and Add_Short\n",
    "                            tb['Entry_Price'] - tb['Exit_Price'],\n",
    "                            0  # Default case if Trade_Type is something unexpected\n",
    "                        )\n",
    "                    )\n",
    "                    \n",
    "                    tb['Slippage'] = SLIPPAGE_ * (tb['Entry_Price'] + tb['Exit_Price'])\n",
    "                    tb['PnL w cs'] = tb['PnL'] - tb['Slippage']\n",
    "                    tb['Qty'] = abs(RPT_ / 100 * portfolio / (tb['Entry_Price'] - tb['Initial SL']))\n",
    "                    tb['Profit_Loss INR'] = tb['Qty'] * tb['PnL w cs']\n",
    "                    tb['ROI%'] = tb['Profit_Loss INR'] * 100 / portfolio\n",
    "                    tb['Entry_Date'] = pd.to_datetime(tb['Entry_Date'])\n",
    "                    tb['Trade Year'] = tb['Entry_Date'].dt.year\n",
    "                    # tb_long_only = tb[(tb['Trade_Type'] == 'Long') | (tb['Trade_Type'] == 'Add_Long')].copy()\n",
    "                    # tb_long_only['Cumulative_PnL'] = tb_long_only['PnL w cs'].cumsum()\n",
    "                    # tb_short_only = tb[(tb['Trade_Type'] == 'Short') | (tb['Trade_Type'] == 'Add_Short')].copy()\n",
    "                    # tb_short_only['Cumulative_PnL'] = tb_short_only['PnL w cs'].cumsum()\n",
    "                    \n",
    "                    stats1 = generate_stats(tb, variation)\n",
    "                    for x, y in stats1.items():\n",
    "                        if x > 20:\n",
    "                            # print('Long Only')\n",
    "                            print(pd.DataFrame(y).to_string())\n",
    "                            stats_dictionary[x] = y\n",
    "                        break"
   ]
  },
  {
   "cell_type": "markdown",
   "id": "e0810c4d-f77f-4c51-9fb0-c8d8a2342523",
   "metadata": {},
   "source": [
    "# SENSEX 1Hr"
   ]
  },
  {
   "cell_type": "code",
   "execution_count": null,
   "id": "c3ccf845-4dc9-4c1b-96eb-fab22e6d5bbd",
   "metadata": {},
   "outputs": [],
   "source": []
  }
 ],
 "metadata": {
  "kernelspec": {
   "display_name": "Python 3 (ipykernel)",
   "language": "python",
   "name": "python3"
  },
  "language_info": {
   "codemirror_mode": {
    "name": "ipython",
    "version": 3
   },
   "file_extension": ".py",
   "mimetype": "text/x-python",
   "name": "python",
   "nbconvert_exporter": "python",
   "pygments_lexer": "ipython3",
   "version": "3.11.6"
  }
 },
 "nbformat": 4,
 "nbformat_minor": 5
}
