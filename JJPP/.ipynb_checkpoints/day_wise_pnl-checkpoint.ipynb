{
 "cells": [
  {
   "cell_type": "code",
   "execution_count": 72,
   "id": "c7e1eaf3-15f7-417c-af35-93b8750ccd3b",
   "metadata": {
    "execution": {
     "iopub.execute_input": "2025-01-09T05:32:48.176117Z",
     "iopub.status.busy": "2025-01-09T05:32:48.173660Z",
     "iopub.status.idle": "2025-01-09T05:32:48.488715Z",
     "shell.execute_reply": "2025-01-09T05:32:48.487285Z",
     "shell.execute_reply.started": "2025-01-09T05:32:48.176074Z"
    }
   },
   "outputs": [],
   "source": [
    "import pandas as pd\n",
    "import datetime as dt\n",
    "tradebook_df = pd.read_csv('Turtle_SENSEX_1xLev.csv')\n",
    "df = pd.read_csv(\"../data/s_spot_turtle.csv\")\n",
    "df[\"datetime\"] = pd.to_datetime(df[\"time\"])\n",
    "df = df[df[\"datetime\"].dt.year >= 2018]\n",
    "\n",
    "INDEX = 'MIDCPNIFTY'\n",
    "PORTFOLIO_VALUE = 250000 # 1 Cr.\n",
    "# RPT_PCT = 0.01 # 1% RPT\n",
    "SLIPPAGE_ = 0.0001\n",
    "# LEVERAGE_ = 5"
   ]
  },
  {
   "cell_type": "code",
   "execution_count": 74,
   "id": "0abe15ec-86ff-445e-a644-2f50afd6662f",
   "metadata": {
    "execution": {
     "iopub.execute_input": "2025-01-09T05:33:13.476834Z",
     "iopub.status.busy": "2025-01-09T05:33:13.476012Z",
     "iopub.status.idle": "2025-01-09T05:33:13.490702Z",
     "shell.execute_reply": "2025-01-09T05:33:13.488908Z",
     "shell.execute_reply.started": "2025-01-09T05:33:13.476803Z"
    }
   },
   "outputs": [],
   "source": [
    "import pandas as pd\n",
    "\n",
    "def calculate_day_by_day_pnl(df, tradebook_df):\n",
    "    pnl_records = []\n",
    "    \n",
    "    for _, trade in tradebook_df.iterrows():\n",
    "        trade_no = trade['Trade No.']\n",
    "        start_date = pd.to_datetime(trade['Entry_Date'])\n",
    "        end_date = pd.to_datetime(trade['Exit_Date'])\n",
    "        direction = trade['Trade_Type']  # 'long' or 'short'\n",
    "        entry_price = trade['Entry_Price']\n",
    "        qty = trade['Qty']\n",
    "        total_slippage = trade['Slippage']\n",
    "        \n",
    "        # Filter the spot data for the trade duration\n",
    "        trade_data = df[(df['datetime'] >= start_date) & (df['datetime'] <= end_date)].copy()\n",
    "        \n",
    "        # Aggregate data into daily OHLC\n",
    "        trade_data['date'] = trade_data['datetime'].dt.date\n",
    "        daily_ohlc = trade_data.groupby('date').agg(\n",
    "            open_price=('open', 'first'),\n",
    "            high_price=('high', 'max'),\n",
    "            low_price=('low', 'min'),\n",
    "            close_price=('close', 'last')\n",
    "        ).reset_index()\n",
    "\n",
    "        num_days = len(daily_ohlc)\n",
    "        slippage_per_day = total_slippage / num_days if num_days > 0 else 0\n",
    "        \n",
    "        # Calculate day-by-day PnL\n",
    "        for i, row in daily_ohlc.iterrows():\n",
    "            date = row['date']\n",
    "            exit_price = row['close_price']\n",
    "            if i == 0:\n",
    "                day_entry_price = entry_price\n",
    "            else:\n",
    "                day_entry_price = daily_ohlc.iloc[i - 1]['close_price']\n",
    "            \n",
    "            # if direction == 'Long':\n",
    "            pnl = exit_price - day_entry_price\n",
    "            # elif direction == 'short':\n",
    "            #     pnl = day_entry_price - exit_price\n",
    "            \n",
    "            pnl_records.append({\n",
    "                'Trade No.': trade_no,\n",
    "                'Portfolio': PORTFOLIO_VALUE,\n",
    "                'Date': date,\n",
    "                'Entry Price': day_entry_price,\n",
    "                'Exit Price': exit_price,\n",
    "                'Points': pnl,\n",
    "                'Qty': qty,\n",
    "                'Slippage': slippage_per_day,\n",
    "                'PnL': ((pnl - slippage_per_day) * qty),\n",
    "                'ROI%': ((pnl - slippage_per_day) * qty) * 100 / PORTFOLIO_VALUE,\n",
    "                'Index': INDEX,\n",
    "            })\n",
    "    \n",
    "    # Convert the records into a DataFrame\n",
    "    pnl_df = pd.DataFrame(pnl_records)\n",
    "    return pnl_df\n"
   ]
  },
  {
   "cell_type": "code",
   "execution_count": 75,
   "id": "10350f7a-4a84-4ae9-bc5c-73e24e796239",
   "metadata": {
    "execution": {
     "iopub.execute_input": "2025-01-09T05:33:14.652187Z",
     "iopub.status.busy": "2025-01-09T05:33:14.651710Z",
     "iopub.status.idle": "2025-01-09T05:33:18.309800Z",
     "shell.execute_reply": "2025-01-09T05:33:18.308328Z",
     "shell.execute_reply.started": "2025-01-09T05:33:14.652159Z"
    },
    "scrolled": true
   },
   "outputs": [],
   "source": [
    "tb2 = calculate_day_by_day_pnl(df, tradebook_df)"
   ]
  },
  {
   "cell_type": "code",
   "execution_count": 76,
   "id": "349485a4-5092-430b-bdaf-419d9eabcef0",
   "metadata": {
    "execution": {
     "iopub.execute_input": "2025-01-09T05:33:18.314201Z",
     "iopub.status.busy": "2025-01-09T05:33:18.312869Z",
     "iopub.status.idle": "2025-01-09T05:33:18.349030Z",
     "shell.execute_reply": "2025-01-09T05:33:18.347247Z",
     "shell.execute_reply.started": "2025-01-09T05:33:18.314160Z"
    }
   },
   "outputs": [
    {
     "data": {
      "text/html": [
       "<div>\n",
       "<style scoped>\n",
       "    .dataframe tbody tr th:only-of-type {\n",
       "        vertical-align: middle;\n",
       "    }\n",
       "\n",
       "    .dataframe tbody tr th {\n",
       "        vertical-align: top;\n",
       "    }\n",
       "\n",
       "    .dataframe thead th {\n",
       "        text-align: right;\n",
       "    }\n",
       "</style>\n",
       "<table border=\"1\" class=\"dataframe\">\n",
       "  <thead>\n",
       "    <tr style=\"text-align: right;\">\n",
       "      <th></th>\n",
       "      <th>Trade No.</th>\n",
       "      <th>Portfolio</th>\n",
       "      <th>Date</th>\n",
       "      <th>Entry Price</th>\n",
       "      <th>Exit Price</th>\n",
       "      <th>Points</th>\n",
       "      <th>Qty</th>\n",
       "      <th>Slippage</th>\n",
       "      <th>PnL</th>\n",
       "      <th>ROI%</th>\n",
       "      <th>Index</th>\n",
       "    </tr>\n",
       "  </thead>\n",
       "  <tbody>\n",
       "    <tr>\n",
       "      <th>0</th>\n",
       "      <td>0</td>\n",
       "      <td>250000</td>\n",
       "      <td>2018-01-04</td>\n",
       "      <td>33935.60</td>\n",
       "      <td>33915.00</td>\n",
       "      <td>-20.60</td>\n",
       "      <td>23.977834</td>\n",
       "      <td>6.785060</td>\n",
       "      <td>-656.634418</td>\n",
       "      <td>-0.262654</td>\n",
       "      <td>MIDCPNIFTY</td>\n",
       "    </tr>\n",
       "    <tr>\n",
       "      <th>1</th>\n",
       "      <td>1</td>\n",
       "      <td>250000</td>\n",
       "      <td>2018-01-04</td>\n",
       "      <td>33969.66</td>\n",
       "      <td>33980.91</td>\n",
       "      <td>11.25</td>\n",
       "      <td>20.947575</td>\n",
       "      <td>0.976155</td>\n",
       "      <td>215.212150</td>\n",
       "      <td>0.086085</td>\n",
       "      <td>MIDCPNIFTY</td>\n",
       "    </tr>\n",
       "    <tr>\n",
       "      <th>2</th>\n",
       "      <td>1</td>\n",
       "      <td>250000</td>\n",
       "      <td>2018-01-05</td>\n",
       "      <td>33980.91</td>\n",
       "      <td>34172.14</td>\n",
       "      <td>191.23</td>\n",
       "      <td>20.947575</td>\n",
       "      <td>0.976155</td>\n",
       "      <td>3985.356735</td>\n",
       "      <td>1.594143</td>\n",
       "      <td>MIDCPNIFTY</td>\n",
       "    </tr>\n",
       "    <tr>\n",
       "      <th>3</th>\n",
       "      <td>1</td>\n",
       "      <td>250000</td>\n",
       "      <td>2018-01-08</td>\n",
       "      <td>34172.14</td>\n",
       "      <td>34331.51</td>\n",
       "      <td>159.37</td>\n",
       "      <td>20.947575</td>\n",
       "      <td>0.976155</td>\n",
       "      <td>3317.966989</td>\n",
       "      <td>1.327187</td>\n",
       "      <td>MIDCPNIFTY</td>\n",
       "    </tr>\n",
       "    <tr>\n",
       "      <th>4</th>\n",
       "      <td>1</td>\n",
       "      <td>250000</td>\n",
       "      <td>2018-01-09</td>\n",
       "      <td>34331.51</td>\n",
       "      <td>34431.05</td>\n",
       "      <td>99.54</td>\n",
       "      <td>20.947575</td>\n",
       "      <td>0.976155</td>\n",
       "      <td>2064.673564</td>\n",
       "      <td>0.825869</td>\n",
       "      <td>MIDCPNIFTY</td>\n",
       "    </tr>\n",
       "    <tr>\n",
       "      <th>...</th>\n",
       "      <td>...</td>\n",
       "      <td>...</td>\n",
       "      <td>...</td>\n",
       "      <td>...</td>\n",
       "      <td>...</td>\n",
       "      <td>...</td>\n",
       "      <td>...</td>\n",
       "      <td>...</td>\n",
       "      <td>...</td>\n",
       "      <td>...</td>\n",
       "      <td>...</td>\n",
       "    </tr>\n",
       "    <tr>\n",
       "      <th>1309</th>\n",
       "      <td>366</td>\n",
       "      <td>250000</td>\n",
       "      <td>2024-12-27</td>\n",
       "      <td>79014.14</td>\n",
       "      <td>78844.46</td>\n",
       "      <td>-169.68</td>\n",
       "      <td>4.919682</td>\n",
       "      <td>15.785860</td>\n",
       "      <td>-912.432987</td>\n",
       "      <td>-0.364973</td>\n",
       "      <td>MIDCPNIFTY</td>\n",
       "    </tr>\n",
       "    <tr>\n",
       "      <th>1310</th>\n",
       "      <td>367</td>\n",
       "      <td>250000</td>\n",
       "      <td>2024-12-30</td>\n",
       "      <td>78969.56</td>\n",
       "      <td>78713.74</td>\n",
       "      <td>-255.82</td>\n",
       "      <td>6.746856</td>\n",
       "      <td>15.756858</td>\n",
       "      <td>-1832.289942</td>\n",
       "      <td>-0.732916</td>\n",
       "      <td>MIDCPNIFTY</td>\n",
       "    </tr>\n",
       "    <tr>\n",
       "      <th>1311</th>\n",
       "      <td>368</td>\n",
       "      <td>250000</td>\n",
       "      <td>2025-01-01</td>\n",
       "      <td>78542.75</td>\n",
       "      <td>78440.37</td>\n",
       "      <td>-102.38</td>\n",
       "      <td>5.816659</td>\n",
       "      <td>15.698312</td>\n",
       "      <td>-686.821266</td>\n",
       "      <td>-0.274729</td>\n",
       "      <td>MIDCPNIFTY</td>\n",
       "    </tr>\n",
       "    <tr>\n",
       "      <th>1312</th>\n",
       "      <td>369</td>\n",
       "      <td>250000</td>\n",
       "      <td>2025-01-01</td>\n",
       "      <td>78566.52</td>\n",
       "      <td>78442.74</td>\n",
       "      <td>-123.78</td>\n",
       "      <td>5.052596</td>\n",
       "      <td>15.700926</td>\n",
       "      <td>-704.740720</td>\n",
       "      <td>-0.281896</td>\n",
       "      <td>MIDCPNIFTY</td>\n",
       "    </tr>\n",
       "    <tr>\n",
       "      <th>1313</th>\n",
       "      <td>370</td>\n",
       "      <td>250000</td>\n",
       "      <td>2025-01-01</td>\n",
       "      <td>78513.26</td>\n",
       "      <td>78495.45</td>\n",
       "      <td>-17.81</td>\n",
       "      <td>5.551964</td>\n",
       "      <td>15.700871</td>\n",
       "      <td>-186.051147</td>\n",
       "      <td>-0.074420</td>\n",
       "      <td>MIDCPNIFTY</td>\n",
       "    </tr>\n",
       "  </tbody>\n",
       "</table>\n",
       "<p>1314 rows × 11 columns</p>\n",
       "</div>"
      ],
      "text/plain": [
       "      Trade No.  Portfolio        Date  Entry Price  Exit Price  Points  \\\n",
       "0             0     250000  2018-01-04     33935.60    33915.00  -20.60   \n",
       "1             1     250000  2018-01-04     33969.66    33980.91   11.25   \n",
       "2             1     250000  2018-01-05     33980.91    34172.14  191.23   \n",
       "3             1     250000  2018-01-08     34172.14    34331.51  159.37   \n",
       "4             1     250000  2018-01-09     34331.51    34431.05   99.54   \n",
       "...         ...        ...         ...          ...         ...     ...   \n",
       "1309        366     250000  2024-12-27     79014.14    78844.46 -169.68   \n",
       "1310        367     250000  2024-12-30     78969.56    78713.74 -255.82   \n",
       "1311        368     250000  2025-01-01     78542.75    78440.37 -102.38   \n",
       "1312        369     250000  2025-01-01     78566.52    78442.74 -123.78   \n",
       "1313        370     250000  2025-01-01     78513.26    78495.45  -17.81   \n",
       "\n",
       "            Qty   Slippage          PnL      ROI%       Index  \n",
       "0     23.977834   6.785060  -656.634418 -0.262654  MIDCPNIFTY  \n",
       "1     20.947575   0.976155   215.212150  0.086085  MIDCPNIFTY  \n",
       "2     20.947575   0.976155  3985.356735  1.594143  MIDCPNIFTY  \n",
       "3     20.947575   0.976155  3317.966989  1.327187  MIDCPNIFTY  \n",
       "4     20.947575   0.976155  2064.673564  0.825869  MIDCPNIFTY  \n",
       "...         ...        ...          ...       ...         ...  \n",
       "1309   4.919682  15.785860  -912.432987 -0.364973  MIDCPNIFTY  \n",
       "1310   6.746856  15.756858 -1832.289942 -0.732916  MIDCPNIFTY  \n",
       "1311   5.816659  15.698312  -686.821266 -0.274729  MIDCPNIFTY  \n",
       "1312   5.052596  15.700926  -704.740720 -0.281896  MIDCPNIFTY  \n",
       "1313   5.551964  15.700871  -186.051147 -0.074420  MIDCPNIFTY  \n",
       "\n",
       "[1314 rows x 11 columns]"
      ]
     },
     "execution_count": 76,
     "metadata": {},
     "output_type": "execute_result"
    }
   ],
   "source": [
    "tb2"
   ]
  },
  {
   "cell_type": "code",
   "execution_count": 77,
   "id": "53dd9af8-64e0-46c0-872b-492be346e3f6",
   "metadata": {
    "execution": {
     "iopub.execute_input": "2025-01-09T05:33:18.352023Z",
     "iopub.status.busy": "2025-01-09T05:33:18.350796Z",
     "iopub.status.idle": "2025-01-09T05:33:18.358467Z",
     "shell.execute_reply": "2025-01-09T05:33:18.357096Z",
     "shell.execute_reply.started": "2025-01-09T05:33:18.351985Z"
    }
   },
   "outputs": [],
   "source": [
    "# tb2.to_csv('JJPP_bnf_day-wise.csv', index=False)"
   ]
  },
  {
   "cell_type": "code",
   "execution_count": 78,
   "id": "dac17246-2d9c-4ad7-b982-404f16a09b1f",
   "metadata": {
    "execution": {
     "iopub.execute_input": "2025-01-09T05:33:18.362001Z",
     "iopub.status.busy": "2025-01-09T05:33:18.361095Z",
     "iopub.status.idle": "2025-01-09T05:33:18.378026Z",
     "shell.execute_reply": "2025-01-09T05:33:18.374541Z",
     "shell.execute_reply.started": "2025-01-09T05:33:18.361962Z"
    }
   },
   "outputs": [
    {
     "data": {
      "text/plain": [
       "68307.81000000004"
      ]
     },
     "execution_count": 78,
     "metadata": {},
     "output_type": "execute_result"
    }
   ],
   "source": [
    "tb2['Points'].sum()"
   ]
  },
  {
   "cell_type": "code",
   "execution_count": 79,
   "id": "9776c446-9e52-4e43-8a37-8c704a756104",
   "metadata": {
    "execution": {
     "iopub.execute_input": "2025-01-09T05:33:18.380172Z",
     "iopub.status.busy": "2025-01-09T05:33:18.379745Z",
     "iopub.status.idle": "2025-01-09T05:33:18.397502Z",
     "shell.execute_reply": "2025-01-09T05:33:18.395607Z",
     "shell.execute_reply.started": "2025-01-09T05:33:18.380133Z"
    }
   },
   "outputs": [
    {
     "data": {
      "text/plain": [
       "68219.54592592598"
      ]
     },
     "execution_count": 79,
     "metadata": {},
     "output_type": "execute_result"
    }
   ],
   "source": [
    "(tradebook_df['PnL']).sum()"
   ]
  },
  {
   "cell_type": "code",
   "execution_count": 80,
   "id": "f6318acb-72fc-47da-ae72-a3846a336c9a",
   "metadata": {
    "execution": {
     "iopub.execute_input": "2025-01-09T05:33:18.401298Z",
     "iopub.status.busy": "2025-01-09T05:33:18.399621Z",
     "iopub.status.idle": "2025-01-09T05:33:18.413418Z",
     "shell.execute_reply": "2025-01-09T05:33:18.410898Z",
     "shell.execute_reply.started": "2025-01-09T05:33:18.401227Z"
    }
   },
   "outputs": [
    {
     "data": {
      "text/plain": [
       "239.45120354069286"
      ]
     },
     "execution_count": 80,
     "metadata": {},
     "output_type": "execute_result"
    }
   ],
   "source": [
    "tb2['ROI%'].sum()"
   ]
  },
  {
   "cell_type": "code",
   "execution_count": 81,
   "id": "abd28183-e145-4cef-8f75-c2dca19bcec1",
   "metadata": {
    "execution": {
     "iopub.execute_input": "2025-01-09T05:33:30.807156Z",
     "iopub.status.busy": "2025-01-09T05:33:30.806212Z",
     "iopub.status.idle": "2025-01-09T05:33:30.851512Z",
     "shell.execute_reply": "2025-01-09T05:33:30.849570Z",
     "shell.execute_reply.started": "2025-01-09T05:33:30.807125Z"
    }
   },
   "outputs": [],
   "source": [
    "tb2.to_csv('sensex-daily-turtle.csv', index=False)"
   ]
  },
  {
   "cell_type": "code",
   "execution_count": null,
   "id": "bd02150f-63c2-450b-8708-ed393752d85d",
   "metadata": {},
   "outputs": [],
   "source": []
  }
 ],
 "metadata": {
  "kernelspec": {
   "display_name": "Python 3 (ipykernel)",
   "language": "python",
   "name": "python3"
  },
  "language_info": {
   "codemirror_mode": {
    "name": "ipython",
    "version": 3
   },
   "file_extension": ".py",
   "mimetype": "text/x-python",
   "name": "python",
   "nbconvert_exporter": "python",
   "pygments_lexer": "ipython3",
   "version": "3.11.6"
  }
 },
 "nbformat": 4,
 "nbformat_minor": 5
}
