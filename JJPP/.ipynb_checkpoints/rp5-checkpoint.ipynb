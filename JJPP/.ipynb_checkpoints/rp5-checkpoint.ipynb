{
 "cells": [
  {
   "cell_type": "code",
   "execution_count": 1,
   "id": "41ad6590-fa12-4c8a-ab38-d036ffcf633e",
   "metadata": {
    "execution": {
     "iopub.execute_input": "2025-02-12T09:03:06.711844Z",
     "iopub.status.busy": "2025-02-12T09:03:06.710818Z",
     "iopub.status.idle": "2025-02-12T09:03:08.894924Z",
     "shell.execute_reply": "2025-02-12T09:03:08.893888Z",
     "shell.execute_reply.started": "2025-02-12T09:03:06.711816Z"
    }
   },
   "outputs": [],
   "source": [
    "import asyncio\n",
    "import datetime as dt\n",
    "import math\n",
    "from typing import Literal\n",
    "\n",
    "import matplotlib.pyplot as plt\n",
    "import mplfinance as mpf\n",
    "import numpy as np\n",
    "import pandas as pd\n",
    "import pandas_market_calendars as mcal\n",
    "import plotly.graph_objects as go\n",
    "import polars as pl\n",
    "from dash import Dash, dcc, html\n",
    "from plotly.subplots import make_subplots\n",
    "\n",
    "nse = mcal.get_calendar(\"NSE\")"
   ]
  },
  {
   "cell_type": "code",
   "execution_count": 2,
   "id": "6ea93d75-71a6-4639-90a1-e980a39ba28f",
   "metadata": {
    "execution": {
     "iopub.execute_input": "2025-02-12T09:03:08.897310Z",
     "iopub.status.busy": "2025-02-12T09:03:08.896507Z",
     "iopub.status.idle": "2025-02-12T09:03:08.902805Z",
     "shell.execute_reply": "2025-02-12T09:03:08.901734Z",
     "shell.execute_reply.started": "2025-02-12T09:03:08.897287Z"
    }
   },
   "outputs": [],
   "source": [
    "pd.set_option(\"display.max_rows\", 25_000)\n",
    "pd.set_option(\"display.max_columns\", 500)\n",
    "pl.Config.set_tbl_cols(500)\n",
    "pl.Config.set_tbl_rows(10_000)\n",
    "\n",
    "pd.options.display.float_format = \"{:.4f}\".format"
   ]
  },
  {
   "cell_type": "code",
   "execution_count": 3,
   "id": "9f312110-67fb-44df-8ecd-141e16cacc9d",
   "metadata": {
    "execution": {
     "iopub.execute_input": "2025-02-12T09:03:08.904899Z",
     "iopub.status.busy": "2025-02-12T09:03:08.904310Z",
     "iopub.status.idle": "2025-02-12T09:03:09.249861Z",
     "shell.execute_reply": "2025-02-12T09:03:09.248600Z",
     "shell.execute_reply.started": "2025-02-12T09:03:08.904879Z"
    }
   },
   "outputs": [],
   "source": [
    "import sys\n",
    "\n",
    "sys.path.append(\"..\")\n",
    "from tooling.enums import AssetClass, Index, Spot, StrikeSpread\n",
    "from tooling.fetch import fetch_option_data, fetch_spot_data\n",
    "from tooling.filter import find_atm, option_tool"
   ]
  },
  {
   "cell_type": "code",
   "execution_count": 4,
   "id": "68aef94f-ef1c-4c3d-a930-f8cc3b12f891",
   "metadata": {
    "execution": {
     "iopub.execute_input": "2025-02-12T09:03:09.252683Z",
     "iopub.status.busy": "2025-02-12T09:03:09.252114Z",
     "iopub.status.idle": "2025-02-12T09:03:09.278941Z",
     "shell.execute_reply": "2025-02-12T09:03:09.277702Z",
     "shell.execute_reply.started": "2025-02-12T09:03:09.252653Z"
    }
   },
   "outputs": [],
   "source": [
    "async def get_expiry(f_today, index):\n",
    "\n",
    "    if index == 'bnf':    \n",
    "        if (f_today <= dt.date(2024, 1, 25)) and (f_today >= dt.date(2024, 1, 18)):\n",
    "            f_expiry = dt.date(2024, 1, 25)\n",
    "        elif (f_today <= dt.date(2024, 1, 31)) and (f_today >= dt.date(2024, 1, 26)):\n",
    "            f_expiry = dt.date(2024, 1, 31)\n",
    "        elif (f_today <= dt.date(2024, 2, 22)) and (f_today >= dt.date(2024, 2, 29)):\n",
    "            f_expiry = dt.date(2024, 2, 29)\n",
    "        elif (f_today <= dt.date(2024, 3, 25)) and (f_today >= dt.date(2024, 3, 27)):\n",
    "            f_expiry = dt.date(2024, 2, 27)\n",
    "        elif f_today < dt.date(2023, 9, 1):\n",
    "            days_to_thursday = (3 - f_today.weekday()) % 7\n",
    "            nearest_thursday = f_today + dt.timedelta(days=days_to_thursday)\n",
    "            f_expiry = nearest_thursday\n",
    "            if nse.valid_days(start_date=nearest_thursday, end_date=nearest_thursday).empty:\n",
    "                f_expiry = nearest_thursday - dt.timedelta(days=1)\n",
    "        elif f_today >= dt.date(2023, 9, 1):\n",
    "            if f_today.day < 24:\n",
    "                days_to_wednesday = (2 - f_today.weekday()) % 7\n",
    "                nearest_wednesday = f_today + dt.timedelta(days=days_to_wednesday)\n",
    "                f_expiry = nearest_wednesday\n",
    "                if nse.valid_days(\n",
    "                    start_date=nearest_wednesday, end_date=nearest_wednesday\n",
    "                ).empty:\n",
    "                    f_expiry = nearest_wednesday - dt.timedelta(days=1)\n",
    "            else:\n",
    "                days_to_thursday = (3 - f_today.weekday()) % 7\n",
    "                nearest_thursday = f_today + dt.timedelta(days=days_to_thursday)\n",
    "                f_expiry = nearest_thursday\n",
    "                if nse.valid_days(\n",
    "                    start_date=nearest_thursday, end_date=nearest_thursday\n",
    "                ).empty:\n",
    "                    f_expiry = nearest_thursday - dt.timedelta(days=1)\n",
    "        return f_expiry\n",
    "\n",
    "    elif index == 'nifty':\n",
    "        days_to_thursday = (3 - f_today.weekday()) % 7\n",
    "        nearest_thursday = f_today + dt.timedelta(days=days_to_thursday)\n",
    "        f_expiry = nearest_thursday\n",
    "        if nse.valid_days(start_date=nearest_thursday, end_date=nearest_thursday).empty:\n",
    "            f_expiry = nearest_thursday - dt.timedelta(days=1)\n",
    "        return f_expiry\n",
    "\n",
    "    elif index == 'finnifty' or index == 'fnf':\n",
    "        days_to_thursday = (1 - f_today.weekday()) % 7\n",
    "        nearest_thursday = f_today + dt.timedelta(days=days_to_thursday)\n",
    "        f_expiry = nearest_thursday\n",
    "        if nse.valid_days(start_date=nearest_thursday, end_date=nearest_thursday).empty:\n",
    "            f_expiry = nearest_thursday - dt.timedelta(days=1)\n",
    "        return f_expiry\n",
    "\n",
    "    elif index == 'midcpnifty' or index == 'midcp':\n",
    "        days_to_thursday = (0 - f_today.weekday()) % 7\n",
    "        nearest_thursday = f_today + dt.timedelta(days=days_to_thursday)\n",
    "        f_expiry = nearest_thursday\n",
    "        if nse.valid_days(start_date=nearest_thursday, end_date=nearest_thursday).empty:\n",
    "            f_expiry = nearest_thursday - dt.timedelta(days=1)\n",
    "        return f_expiry\n",
    "\n",
    "async def get_expiry_nifty(f_today):\n",
    "\n",
    "    days_to_thursday = (3 - f_today.weekday()) % 7\n",
    "    nearest_thursday = f_today + dt.timedelta(days=days_to_thursday)\n",
    "    f_expiry = nearest_thursday\n",
    "    if nse.valid_days(start_date=nearest_thursday, end_date=nearest_thursday).empty:\n",
    "        f_expiry = nearest_thursday - dt.timedelta(days=1)\n",
    "    return f_expiry\n",
    "\n",
    "\n",
    "async def get_option_contract_name(symbol, strike, expiry, opt_type):\n",
    "    temp = \"0\"\n",
    "    mth = expiry.month\n",
    "\n",
    "    if (expiry + dt.timedelta(days=7)).month != expiry.month:\n",
    "        date_string = expiry.strftime(\"%y%b\").upper()\n",
    "        return f\"{symbol}{date_string}{strike}{opt_type}\"\n",
    "    else:\n",
    "        if expiry.day <= 9:\n",
    "            date_string = f\"{expiry.year - 2000}{mth}{temp}{expiry.day}\"\n",
    "        else:\n",
    "            date_string = f\"{expiry.year - 2000}{mth}{expiry.day}\"\n",
    "        return f\"{symbol}{date_string}{strike}{opt_type}\"\n",
    "\n",
    "\n",
    "def get_option_contract_name2(symbol, strike, expiry, opt_type):\n",
    "    temp = \"0\"\n",
    "    mth = expiry.month\n",
    "\n",
    "    if (expiry + dt.timedelta(days=7)).month != expiry.month:\n",
    "        date_string = expiry.strftime(\"%y%b\").upper()\n",
    "        return f\"{symbol}{date_string}{strike}{opt_type}\"\n",
    "    else:\n",
    "        if expiry.day <= 9:\n",
    "            date_string = f\"{expiry.year - 2000}{mth}{temp}{expiry.day}\"\n",
    "        else:\n",
    "            date_string = f\"{expiry.year - 2000}{mth}{expiry.day}\"\n",
    "        return f\"{symbol}{date_string}{strike}{opt_type}\""
   ]
  },
  {
   "cell_type": "code",
   "execution_count": 6,
   "id": "d7c8be1c-7a43-41e9-9914-0663935f4b9d",
   "metadata": {
    "execution": {
     "iopub.execute_input": "2025-02-12T09:03:14.156492Z",
     "iopub.status.busy": "2025-02-12T09:03:14.155506Z",
     "iopub.status.idle": "2025-02-12T09:03:14.367906Z",
     "shell.execute_reply": "2025-02-12T09:03:14.366733Z",
     "shell.execute_reply.started": "2025-02-12T09:03:14.156464Z"
    }
   },
   "outputs": [],
   "source": [
    "bnf_1min = pd.read_csv(\"../data/bnf__30m.csv\")\n",
    "bnf_1min[\"datetime\"] = pd.to_datetime(bnf_1min[\"time\"])\n",
    "bnf_1min = bnf_1min[bnf_1min[\"datetime\"].dt.year >= 2017]"
   ]
  },
  {
   "cell_type": "code",
   "execution_count": 7,
   "id": "80baf62e-9b43-45dd-83bf-87c9fd32e741",
   "metadata": {
    "execution": {
     "iopub.execute_input": "2025-02-12T09:03:14.787677Z",
     "iopub.status.busy": "2025-02-12T09:03:14.786481Z",
     "iopub.status.idle": "2025-02-12T09:03:14.808052Z",
     "shell.execute_reply": "2025-02-12T09:03:14.807019Z",
     "shell.execute_reply.started": "2025-02-12T09:03:14.787643Z"
    },
    "scrolled": true
   },
   "outputs": [
    {
     "data": {
      "text/html": [
       "<div>\n",
       "<style scoped>\n",
       "    .dataframe tbody tr th:only-of-type {\n",
       "        vertical-align: middle;\n",
       "    }\n",
       "\n",
       "    .dataframe tbody tr th {\n",
       "        vertical-align: top;\n",
       "    }\n",
       "\n",
       "    .dataframe thead th {\n",
       "        text-align: right;\n",
       "    }\n",
       "</style>\n",
       "<table border=\"1\" class=\"dataframe\">\n",
       "  <thead>\n",
       "    <tr style=\"text-align: right;\">\n",
       "      <th></th>\n",
       "      <th>time</th>\n",
       "      <th>open</th>\n",
       "      <th>high</th>\n",
       "      <th>low</th>\n",
       "      <th>close</th>\n",
       "      <th>MA</th>\n",
       "      <th>MA.1</th>\n",
       "      <th>EMA</th>\n",
       "      <th>datetime</th>\n",
       "    </tr>\n",
       "  </thead>\n",
       "  <tbody>\n",
       "    <tr>\n",
       "      <th>22852</th>\n",
       "      <td>2025-02-12T12:15:00+05:30</td>\n",
       "      <td>49378.8500</td>\n",
       "      <td>49511.9000</td>\n",
       "      <td>49286.0500</td>\n",
       "      <td>49441.1000</td>\n",
       "      <td>49104.6625</td>\n",
       "      <td>49345.5292</td>\n",
       "      <td>49507.7573</td>\n",
       "      <td>2025-02-12 12:15:00+05:30</td>\n",
       "    </tr>\n",
       "    <tr>\n",
       "      <th>22853</th>\n",
       "      <td>2025-02-12T12:45:00+05:30</td>\n",
       "      <td>49449.3000</td>\n",
       "      <td>49652.6000</td>\n",
       "      <td>49448.9500</td>\n",
       "      <td>49603.3500</td>\n",
       "      <td>49119.2667</td>\n",
       "      <td>49365.6583</td>\n",
       "      <td>49513.5508</td>\n",
       "      <td>2025-02-12 12:45:00+05:30</td>\n",
       "    </tr>\n",
       "    <tr>\n",
       "      <th>22854</th>\n",
       "      <td>2025-02-12T13:15:00+05:30</td>\n",
       "      <td>49603.1500</td>\n",
       "      <td>49702.3500</td>\n",
       "      <td>49529.3000</td>\n",
       "      <td>49615.7500</td>\n",
       "      <td>49148.5917</td>\n",
       "      <td>49391.8167</td>\n",
       "      <td>49519.7447</td>\n",
       "      <td>2025-02-12 13:15:00+05:30</td>\n",
       "    </tr>\n",
       "    <tr>\n",
       "      <th>22855</th>\n",
       "      <td>2025-02-12T13:45:00+05:30</td>\n",
       "      <td>49615.8500</td>\n",
       "      <td>49616.1500</td>\n",
       "      <td>49248.7000</td>\n",
       "      <td>49332.5000</td>\n",
       "      <td>49150.4083</td>\n",
       "      <td>49413.7208</td>\n",
       "      <td>49508.3965</td>\n",
       "      <td>2025-02-12 13:45:00+05:30</td>\n",
       "    </tr>\n",
       "    <tr>\n",
       "      <th>22856</th>\n",
       "      <td>2025-02-12T14:15:00+05:30</td>\n",
       "      <td>49334.4000</td>\n",
       "      <td>49378.0500</td>\n",
       "      <td>49272.9500</td>\n",
       "      <td>49287.7500</td>\n",
       "      <td>49144.7042</td>\n",
       "      <td>49405.4208</td>\n",
       "      <td>49495.0240</td>\n",
       "      <td>2025-02-12 14:15:00+05:30</td>\n",
       "    </tr>\n",
       "  </tbody>\n",
       "</table>\n",
       "</div>"
      ],
      "text/plain": [
       "                            time       open       high        low      close  \\\n",
       "22852  2025-02-12T12:15:00+05:30 49378.8500 49511.9000 49286.0500 49441.1000   \n",
       "22853  2025-02-12T12:45:00+05:30 49449.3000 49652.6000 49448.9500 49603.3500   \n",
       "22854  2025-02-12T13:15:00+05:30 49603.1500 49702.3500 49529.3000 49615.7500   \n",
       "22855  2025-02-12T13:45:00+05:30 49615.8500 49616.1500 49248.7000 49332.5000   \n",
       "22856  2025-02-12T14:15:00+05:30 49334.4000 49378.0500 49272.9500 49287.7500   \n",
       "\n",
       "              MA       MA.1        EMA                  datetime  \n",
       "22852 49104.6625 49345.5292 49507.7573 2025-02-12 12:15:00+05:30  \n",
       "22853 49119.2667 49365.6583 49513.5508 2025-02-12 12:45:00+05:30  \n",
       "22854 49148.5917 49391.8167 49519.7447 2025-02-12 13:15:00+05:30  \n",
       "22855 49150.4083 49413.7208 49508.3965 2025-02-12 13:45:00+05:30  \n",
       "22856 49144.7042 49405.4208 49495.0240 2025-02-12 14:15:00+05:30  "
      ]
     },
     "execution_count": 7,
     "metadata": {},
     "output_type": "execute_result"
    }
   ],
   "source": [
    "bnf_1min.tail()"
   ]
  },
  {
   "cell_type": "code",
   "execution_count": 8,
   "id": "42c6f24e-2ae1-4422-8699-5e0f3c8d8afe",
   "metadata": {
    "execution": {
     "iopub.execute_input": "2025-02-12T09:03:15.323100Z",
     "iopub.status.busy": "2025-02-12T09:03:15.322328Z",
     "iopub.status.idle": "2025-02-12T09:03:15.329836Z",
     "shell.execute_reply": "2025-02-12T09:03:15.328670Z",
     "shell.execute_reply.started": "2025-02-12T09:03:15.323074Z"
    }
   },
   "outputs": [],
   "source": [
    "def resample(\n",
    "    data: pl.DataFrame, timeframe, offset: dt.timedelta | None = None\n",
    ") -> pl.DataFrame:\n",
    "    return (\n",
    "        data.set_sorted(\"datetime\")\n",
    "        .group_by_dynamic(\n",
    "            index_column=\"datetime\",\n",
    "            every=timeframe,\n",
    "            period=timeframe,\n",
    "            label=\"left\",\n",
    "            offset=offset,\n",
    "        )\n",
    "        .agg(\n",
    "            [\n",
    "                pl.col(\"open\").first().alias(\"open\"),\n",
    "                pl.col(\"high\").max().alias(\"high\"),\n",
    "                pl.col(\"low\").min().alias(\"low\"),\n",
    "                pl.col(\"close\").last().alias(\"close\"),\n",
    "                pl.col(\"volume\").sum().alias(\"volume\"),\n",
    "            ]\n",
    "        )\n",
    "    )\n",
    "\n",
    "\n",
    "# ohlc_resampled = resample(pl.DataFrame(bnf_1min), '7d', pd.Timedelta(days=4))\n",
    "# ohlc_resampled"
   ]
  },
  {
   "cell_type": "code",
   "execution_count": 9,
   "id": "639f74e8-93a9-4fba-8ecd-caf5cf8812a9",
   "metadata": {
    "execution": {
     "iopub.execute_input": "2025-02-12T09:03:16.803342Z",
     "iopub.status.busy": "2025-02-12T09:03:16.802709Z",
     "iopub.status.idle": "2025-02-12T09:03:16.846058Z",
     "shell.execute_reply": "2025-02-12T09:03:16.844464Z",
     "shell.execute_reply.started": "2025-02-12T09:03:16.803316Z"
    },
    "scrolled": true
   },
   "outputs": [
    {
     "data": {
      "text/plain": [
       "{datetime.date(2024, 8, 1),\n",
       " datetime.date(2019, 12, 19),\n",
       " datetime.date(2020, 1, 3),\n",
       " datetime.date(2018, 7, 27),\n",
       " datetime.date(2022, 6, 28),\n",
       " datetime.date(2023, 5, 8),\n",
       " datetime.date(2018, 6, 14),\n",
       " datetime.date(2023, 11, 1),\n",
       " datetime.date(2022, 7, 4),\n",
       " datetime.date(2019, 9, 25),\n",
       " datetime.date(2021, 1, 12),\n",
       " datetime.date(2024, 9, 3),\n",
       " datetime.date(2018, 1, 1),\n",
       " datetime.date(2022, 11, 10),\n",
       " datetime.date(2022, 11, 11),\n",
       " datetime.date(2018, 5, 17),\n",
       " datetime.date(2024, 2, 14),\n",
       " datetime.date(2024, 9, 4),\n",
       " datetime.date(2021, 5, 28),\n",
       " datetime.date(2020, 1, 9),\n",
       " datetime.date(2024, 9, 17),\n",
       " datetime.date(2019, 3, 29),\n",
       " datetime.date(2018, 6, 27),\n",
       " datetime.date(2021, 12, 20),\n",
       " datetime.date(2022, 7, 19),\n",
       " datetime.date(2018, 3, 13),\n",
       " datetime.date(2022, 6, 10),\n",
       " datetime.date(2018, 5, 2),\n",
       " datetime.date(2024, 7, 8),\n",
       " datetime.date(2021, 4, 16),\n",
       " datetime.date(2024, 10, 28),\n",
       " datetime.date(2022, 6, 2),\n",
       " datetime.date(2023, 10, 23),\n",
       " datetime.date(2020, 5, 12),\n",
       " datetime.date(2023, 10, 9),\n",
       " datetime.date(2018, 8, 6),\n",
       " datetime.date(2023, 9, 5),\n",
       " datetime.date(2018, 5, 18),\n",
       " datetime.date(2019, 10, 18),\n",
       " datetime.date(2021, 1, 11),\n",
       " datetime.date(2024, 5, 7),\n",
       " datetime.date(2019, 7, 9),\n",
       " datetime.date(2019, 8, 9),\n",
       " datetime.date(2023, 11, 13),\n",
       " datetime.date(2023, 11, 17),\n",
       " datetime.date(2019, 12, 6),\n",
       " datetime.date(2019, 6, 28),\n",
       " datetime.date(2021, 2, 17),\n",
       " datetime.date(2018, 9, 18),\n",
       " datetime.date(2020, 9, 11),\n",
       " datetime.date(2023, 6, 5),\n",
       " datetime.date(2019, 2, 1),\n",
       " datetime.date(2020, 4, 9),\n",
       " datetime.date(2020, 7, 17),\n",
       " datetime.date(2021, 12, 8),\n",
       " datetime.date(2023, 6, 23),\n",
       " datetime.date(2023, 8, 29),\n",
       " datetime.date(2019, 3, 18),\n",
       " datetime.date(2018, 4, 27),\n",
       " datetime.date(2023, 3, 28),\n",
       " datetime.date(2023, 7, 6),\n",
       " datetime.date(2021, 12, 23),\n",
       " datetime.date(2018, 7, 31),\n",
       " datetime.date(2024, 3, 15),\n",
       " datetime.date(2018, 10, 11),\n",
       " datetime.date(2019, 8, 8),\n",
       " datetime.date(2025, 1, 3),\n",
       " datetime.date(2022, 1, 12),\n",
       " datetime.date(2020, 5, 21),\n",
       " datetime.date(2022, 6, 6),\n",
       " datetime.date(2023, 6, 13),\n",
       " datetime.date(2023, 7, 4),\n",
       " datetime.date(2020, 2, 12),\n",
       " datetime.date(2018, 5, 3),\n",
       " datetime.date(2020, 4, 29),\n",
       " datetime.date(2019, 8, 1),\n",
       " datetime.date(2024, 6, 26),\n",
       " datetime.date(2019, 8, 27),\n",
       " datetime.date(2022, 5, 5),\n",
       " datetime.date(2023, 11, 28),\n",
       " datetime.date(2020, 12, 28),\n",
       " datetime.date(2021, 4, 23),\n",
       " datetime.date(2018, 3, 19),\n",
       " datetime.date(2024, 1, 30),\n",
       " datetime.date(2022, 3, 16),\n",
       " datetime.date(2024, 2, 27),\n",
       " datetime.date(2018, 6, 4),\n",
       " datetime.date(2019, 5, 10),\n",
       " datetime.date(2020, 4, 30),\n",
       " datetime.date(2022, 5, 26),\n",
       " datetime.date(2022, 9, 22),\n",
       " datetime.date(2023, 6, 7),\n",
       " datetime.date(2021, 1, 15),\n",
       " datetime.date(2022, 7, 7),\n",
       " datetime.date(2018, 7, 18),\n",
       " datetime.date(2019, 10, 11),\n",
       " datetime.date(2021, 6, 9),\n",
       " datetime.date(2022, 7, 8),\n",
       " datetime.date(2018, 2, 15),\n",
       " datetime.date(2019, 4, 9),\n",
       " datetime.date(2020, 3, 25),\n",
       " datetime.date(2019, 6, 26),\n",
       " datetime.date(2018, 11, 2),\n",
       " datetime.date(2018, 12, 19),\n",
       " datetime.date(2022, 12, 14),\n",
       " datetime.date(2022, 9, 12),\n",
       " datetime.date(2021, 3, 25),\n",
       " datetime.date(2024, 1, 24),\n",
       " datetime.date(2021, 3, 2),\n",
       " datetime.date(2020, 6, 19),\n",
       " datetime.date(2022, 5, 20),\n",
       " datetime.date(2023, 5, 16),\n",
       " datetime.date(2024, 4, 26),\n",
       " datetime.date(2024, 7, 30),\n",
       " datetime.date(2024, 11, 14),\n",
       " datetime.date(2021, 11, 3),\n",
       " datetime.date(2023, 6, 12),\n",
       " datetime.date(2023, 12, 4),\n",
       " datetime.date(2022, 8, 11),\n",
       " datetime.date(2019, 1, 3),\n",
       " datetime.date(2025, 1, 8),\n",
       " datetime.date(2018, 1, 10),\n",
       " datetime.date(2020, 2, 18),\n",
       " datetime.date(2022, 3, 11),\n",
       " datetime.date(2019, 6, 19),\n",
       " datetime.date(2018, 7, 19),\n",
       " datetime.date(2021, 11, 26),\n",
       " datetime.date(2018, 9, 7),\n",
       " datetime.date(2022, 10, 10),\n",
       " datetime.date(2022, 4, 12),\n",
       " datetime.date(2020, 2, 10),\n",
       " datetime.date(2018, 5, 9),\n",
       " datetime.date(2018, 8, 31),\n",
       " datetime.date(2022, 9, 2),\n",
       " datetime.date(2020, 8, 14),\n",
       " datetime.date(2023, 1, 2),\n",
       " datetime.date(2021, 8, 25),\n",
       " datetime.date(2023, 2, 27),\n",
       " datetime.date(2022, 1, 24),\n",
       " datetime.date(2023, 1, 12),\n",
       " datetime.date(2021, 10, 21),\n",
       " datetime.date(2018, 1, 4),\n",
       " datetime.date(2022, 7, 22),\n",
       " datetime.date(2023, 7, 24),\n",
       " datetime.date(2021, 10, 25),\n",
       " datetime.date(2022, 10, 20),\n",
       " datetime.date(2021, 9, 3),\n",
       " datetime.date(2021, 2, 12),\n",
       " datetime.date(2022, 12, 27),\n",
       " datetime.date(2019, 1, 28),\n",
       " datetime.date(2018, 3, 28),\n",
       " datetime.date(2021, 6, 28),\n",
       " datetime.date(2023, 4, 24),\n",
       " datetime.date(2024, 7, 31),\n",
       " datetime.date(2020, 1, 16),\n",
       " datetime.date(2021, 1, 14),\n",
       " datetime.date(2021, 5, 18),\n",
       " datetime.date(2018, 3, 14),\n",
       " datetime.date(2018, 1, 18),\n",
       " datetime.date(2019, 10, 17),\n",
       " datetime.date(2021, 1, 5),\n",
       " datetime.date(2018, 12, 3),\n",
       " datetime.date(2024, 9, 30),\n",
       " datetime.date(2018, 1, 25),\n",
       " datetime.date(2024, 7, 15),\n",
       " datetime.date(2024, 3, 2),\n",
       " datetime.date(2020, 2, 5),\n",
       " datetime.date(2020, 6, 16),\n",
       " datetime.date(2024, 1, 20),\n",
       " datetime.date(2024, 5, 24),\n",
       " datetime.date(2022, 10, 11),\n",
       " datetime.date(2021, 4, 19),\n",
       " datetime.date(2018, 1, 5),\n",
       " datetime.date(2020, 11, 11),\n",
       " datetime.date(2021, 7, 29),\n",
       " datetime.date(2023, 9, 4),\n",
       " datetime.date(2022, 3, 24),\n",
       " datetime.date(2023, 11, 22),\n",
       " datetime.date(2019, 8, 26),\n",
       " datetime.date(2022, 7, 5),\n",
       " datetime.date(2020, 10, 26),\n",
       " datetime.date(2020, 1, 8),\n",
       " datetime.date(2020, 7, 24),\n",
       " datetime.date(2020, 9, 3),\n",
       " datetime.date(2024, 2, 9),\n",
       " datetime.date(2024, 3, 22),\n",
       " datetime.date(2022, 9, 23),\n",
       " datetime.date(2022, 7, 11),\n",
       " datetime.date(2024, 2, 7),\n",
       " datetime.date(2024, 10, 29),\n",
       " datetime.date(2018, 6, 8),\n",
       " datetime.date(2021, 9, 17),\n",
       " datetime.date(2019, 10, 24),\n",
       " datetime.date(2020, 6, 18),\n",
       " datetime.date(2018, 11, 27),\n",
       " datetime.date(2018, 8, 24),\n",
       " datetime.date(2020, 8, 27),\n",
       " datetime.date(2023, 1, 16),\n",
       " datetime.date(2020, 1, 29),\n",
       " datetime.date(2022, 3, 8),\n",
       " datetime.date(2023, 12, 1),\n",
       " datetime.date(2018, 9, 17),\n",
       " datetime.date(2021, 3, 5),\n",
       " datetime.date(2024, 7, 25),\n",
       " datetime.date(2022, 2, 28),\n",
       " datetime.date(2018, 10, 5),\n",
       " datetime.date(2021, 9, 22),\n",
       " datetime.date(2024, 6, 12),\n",
       " datetime.date(2023, 4, 21),\n",
       " datetime.date(2021, 5, 31),\n",
       " datetime.date(2019, 6, 12),\n",
       " datetime.date(2020, 5, 15),\n",
       " datetime.date(2021, 5, 6),\n",
       " datetime.date(2018, 6, 1),\n",
       " datetime.date(2018, 5, 10),\n",
       " datetime.date(2021, 4, 26),\n",
       " datetime.date(2022, 2, 17),\n",
       " datetime.date(2020, 9, 24),\n",
       " datetime.date(2023, 12, 12),\n",
       " datetime.date(2023, 6, 19),\n",
       " datetime.date(2019, 7, 23),\n",
       " datetime.date(2022, 12, 19),\n",
       " datetime.date(2020, 6, 23),\n",
       " datetime.date(2018, 1, 2),\n",
       " datetime.date(2022, 10, 24),\n",
       " datetime.date(2022, 1, 25),\n",
       " datetime.date(2020, 8, 26),\n",
       " datetime.date(2023, 3, 23),\n",
       " datetime.date(2024, 6, 13),\n",
       " datetime.date(2022, 2, 24),\n",
       " datetime.date(2020, 7, 30),\n",
       " datetime.date(2018, 2, 22),\n",
       " datetime.date(2023, 1, 25),\n",
       " datetime.date(2024, 10, 10),\n",
       " datetime.date(2020, 1, 17),\n",
       " datetime.date(2019, 4, 22),\n",
       " datetime.date(2018, 7, 13),\n",
       " datetime.date(2019, 8, 14),\n",
       " datetime.date(2024, 11, 11),\n",
       " datetime.date(2022, 3, 31),\n",
       " datetime.date(2023, 5, 5),\n",
       " datetime.date(2021, 11, 30),\n",
       " datetime.date(2022, 5, 12),\n",
       " datetime.date(2022, 7, 21),\n",
       " datetime.date(2018, 6, 29),\n",
       " datetime.date(2018, 1, 23),\n",
       " datetime.date(2022, 5, 24),\n",
       " datetime.date(2019, 10, 27),\n",
       " datetime.date(2020, 4, 24),\n",
       " datetime.date(2018, 8, 28),\n",
       " datetime.date(2023, 5, 11),\n",
       " datetime.date(2019, 5, 9),\n",
       " datetime.date(2024, 8, 12),\n",
       " datetime.date(2022, 11, 3),\n",
       " datetime.date(2021, 5, 5),\n",
       " datetime.date(2024, 4, 18),\n",
       " datetime.date(2022, 5, 16),\n",
       " datetime.date(2022, 4, 4),\n",
       " datetime.date(2019, 1, 30),\n",
       " datetime.date(2021, 9, 27),\n",
       " datetime.date(2023, 2, 6),\n",
       " datetime.date(2020, 4, 16),\n",
       " datetime.date(2023, 4, 13),\n",
       " datetime.date(2020, 1, 21),\n",
       " datetime.date(2022, 4, 6),\n",
       " datetime.date(2022, 11, 23),\n",
       " datetime.date(2019, 2, 28),\n",
       " datetime.date(2022, 12, 8),\n",
       " datetime.date(2025, 2, 7),\n",
       " datetime.date(2023, 6, 15),\n",
       " datetime.date(2018, 2, 9),\n",
       " datetime.date(2021, 1, 28),\n",
       " datetime.date(2020, 12, 10),\n",
       " datetime.date(2022, 4, 28),\n",
       " datetime.date(2019, 2, 7),\n",
       " datetime.date(2020, 11, 9),\n",
       " datetime.date(2018, 11, 21),\n",
       " datetime.date(2024, 2, 1),\n",
       " datetime.date(2021, 7, 9),\n",
       " datetime.date(2018, 1, 31),\n",
       " datetime.date(2024, 1, 5),\n",
       " datetime.date(2024, 12, 3),\n",
       " datetime.date(2022, 11, 22),\n",
       " datetime.date(2024, 8, 30),\n",
       " datetime.date(2024, 6, 4),\n",
       " datetime.date(2022, 1, 7),\n",
       " datetime.date(2024, 10, 14),\n",
       " datetime.date(2020, 11, 13),\n",
       " datetime.date(2024, 2, 5),\n",
       " datetime.date(2024, 4, 16),\n",
       " datetime.date(2023, 9, 12),\n",
       " datetime.date(2024, 11, 12),\n",
       " datetime.date(2018, 10, 19),\n",
       " datetime.date(2024, 2, 12),\n",
       " datetime.date(2022, 11, 16),\n",
       " datetime.date(2020, 5, 14),\n",
       " datetime.date(2020, 11, 3),\n",
       " datetime.date(2024, 11, 22),\n",
       " datetime.date(2020, 2, 26),\n",
       " datetime.date(2020, 7, 16),\n",
       " datetime.date(2020, 6, 1),\n",
       " datetime.date(2020, 12, 29),\n",
       " datetime.date(2018, 4, 6),\n",
       " datetime.date(2020, 11, 24),\n",
       " datetime.date(2020, 5, 4),\n",
       " datetime.date(2020, 5, 27),\n",
       " datetime.date(2019, 4, 1),\n",
       " datetime.date(2024, 9, 16),\n",
       " datetime.date(2019, 4, 12),\n",
       " datetime.date(2022, 1, 17),\n",
       " datetime.date(2020, 9, 23),\n",
       " datetime.date(2024, 9, 25),\n",
       " datetime.date(2018, 4, 26),\n",
       " datetime.date(2020, 4, 23),\n",
       " datetime.date(2024, 2, 23),\n",
       " datetime.date(2020, 7, 31),\n",
       " datetime.date(2019, 5, 23),\n",
       " datetime.date(2023, 8, 23),\n",
       " datetime.date(2018, 2, 16),\n",
       " datetime.date(2019, 2, 11),\n",
       " datetime.date(2019, 9, 12),\n",
       " datetime.date(2022, 8, 22),\n",
       " datetime.date(2024, 11, 27),\n",
       " datetime.date(2020, 4, 8),\n",
       " datetime.date(2020, 4, 7),\n",
       " datetime.date(2024, 10, 17),\n",
       " datetime.date(2021, 9, 28),\n",
       " datetime.date(2023, 9, 25),\n",
       " datetime.date(2019, 9, 19),\n",
       " datetime.date(2023, 10, 3),\n",
       " datetime.date(2021, 9, 20),\n",
       " datetime.date(2023, 8, 22),\n",
       " datetime.date(2021, 10, 11),\n",
       " datetime.date(2018, 6, 26),\n",
       " datetime.date(2021, 10, 7),\n",
       " datetime.date(2019, 8, 22),\n",
       " datetime.date(2022, 10, 25),\n",
       " datetime.date(2020, 2, 14),\n",
       " datetime.date(2021, 3, 8),\n",
       " datetime.date(2023, 12, 14),\n",
       " datetime.date(2024, 6, 21),\n",
       " datetime.date(2019, 6, 11),\n",
       " datetime.date(2022, 8, 19),\n",
       " datetime.date(2023, 6, 28),\n",
       " datetime.date(2018, 10, 29),\n",
       " datetime.date(2020, 6, 4),\n",
       " datetime.date(2019, 3, 26),\n",
       " datetime.date(2021, 3, 19),\n",
       " datetime.date(2018, 6, 22),\n",
       " datetime.date(2020, 12, 31),\n",
       " datetime.date(2018, 2, 26),\n",
       " datetime.date(2019, 7, 11),\n",
       " datetime.date(2024, 1, 15),\n",
       " datetime.date(2020, 9, 9),\n",
       " datetime.date(2019, 12, 31),\n",
       " datetime.date(2023, 12, 11),\n",
       " datetime.date(2022, 10, 13),\n",
       " datetime.date(2019, 7, 2),\n",
       " datetime.date(2020, 5, 7),\n",
       " datetime.date(2022, 2, 10),\n",
       " datetime.date(2025, 2, 4),\n",
       " datetime.date(2022, 9, 28),\n",
       " datetime.date(2018, 3, 15),\n",
       " datetime.date(2018, 10, 10),\n",
       " datetime.date(2024, 11, 1),\n",
       " datetime.date(2018, 6, 12),\n",
       " datetime.date(2018, 11, 9),\n",
       " datetime.date(2020, 1, 20),\n",
       " datetime.date(2018, 8, 8),\n",
       " datetime.date(2023, 10, 16),\n",
       " datetime.date(2021, 9, 6),\n",
       " datetime.date(2023, 2, 22),\n",
       " datetime.date(2023, 3, 22),\n",
       " datetime.date(2019, 2, 12),\n",
       " datetime.date(2018, 12, 14),\n",
       " datetime.date(2021, 6, 25),\n",
       " datetime.date(2023, 3, 29),\n",
       " datetime.date(2018, 1, 16),\n",
       " datetime.date(2019, 2, 27),\n",
       " datetime.date(2022, 8, 17),\n",
       " datetime.date(2024, 11, 8),\n",
       " datetime.date(2022, 4, 13),\n",
       " datetime.date(2024, 12, 31),\n",
       " datetime.date(2018, 2, 1),\n",
       " datetime.date(2021, 3, 17),\n",
       " datetime.date(2024, 10, 15),\n",
       " datetime.date(2018, 4, 23),\n",
       " datetime.date(2022, 11, 9),\n",
       " datetime.date(2022, 7, 25),\n",
       " datetime.date(2021, 8, 18),\n",
       " datetime.date(2022, 9, 16),\n",
       " datetime.date(2019, 4, 26),\n",
       " datetime.date(2019, 11, 7),\n",
       " datetime.date(2018, 4, 2),\n",
       " datetime.date(2019, 3, 12),\n",
       " datetime.date(2024, 3, 26),\n",
       " datetime.date(2020, 9, 14),\n",
       " datetime.date(2023, 8, 31),\n",
       " datetime.date(2020, 12, 24),\n",
       " datetime.date(2019, 8, 7),\n",
       " datetime.date(2019, 7, 22),\n",
       " datetime.date(2022, 2, 11),\n",
       " datetime.date(2023, 4, 26),\n",
       " datetime.date(2024, 6, 25),\n",
       " datetime.date(2022, 1, 10),\n",
       " datetime.date(2018, 10, 17),\n",
       " datetime.date(2022, 1, 21),\n",
       " datetime.date(2022, 4, 18),\n",
       " datetime.date(2024, 8, 16),\n",
       " datetime.date(2019, 12, 23),\n",
       " datetime.date(2024, 10, 3),\n",
       " datetime.date(2023, 6, 22),\n",
       " datetime.date(2021, 7, 7),\n",
       " datetime.date(2019, 5, 15),\n",
       " datetime.date(2023, 8, 16),\n",
       " datetime.date(2024, 6, 10),\n",
       " datetime.date(2022, 12, 5),\n",
       " datetime.date(2018, 1, 9),\n",
       " datetime.date(2022, 9, 15),\n",
       " datetime.date(2020, 3, 3),\n",
       " datetime.date(2020, 8, 4),\n",
       " datetime.date(2018, 3, 5),\n",
       " datetime.date(2019, 10, 31),\n",
       " datetime.date(2019, 11, 19),\n",
       " datetime.date(2020, 10, 5),\n",
       " datetime.date(2019, 9, 17),\n",
       " datetime.date(2021, 11, 17),\n",
       " datetime.date(2018, 10, 3),\n",
       " datetime.date(2022, 5, 2),\n",
       " datetime.date(2021, 1, 13),\n",
       " datetime.date(2018, 5, 11),\n",
       " datetime.date(2021, 6, 4),\n",
       " datetime.date(2022, 7, 20),\n",
       " datetime.date(2018, 2, 12),\n",
       " datetime.date(2019, 5, 27),\n",
       " datetime.date(2020, 2, 28),\n",
       " datetime.date(2023, 4, 11),\n",
       " datetime.date(2022, 10, 6),\n",
       " datetime.date(2024, 7, 18),\n",
       " datetime.date(2019, 6, 27),\n",
       " datetime.date(2020, 4, 21),\n",
       " datetime.date(2019, 9, 4),\n",
       " datetime.date(2022, 9, 9),\n",
       " datetime.date(2021, 7, 2),\n",
       " datetime.date(2022, 1, 4),\n",
       " datetime.date(2023, 10, 18),\n",
       " datetime.date(2020, 8, 19),\n",
       " datetime.date(2021, 9, 2),\n",
       " datetime.date(2019, 2, 4),\n",
       " datetime.date(2024, 5, 31),\n",
       " datetime.date(2018, 9, 19),\n",
       " datetime.date(2023, 5, 15),\n",
       " datetime.date(2023, 12, 28),\n",
       " datetime.date(2024, 7, 3),\n",
       " datetime.date(2022, 10, 18),\n",
       " datetime.date(2019, 12, 13),\n",
       " datetime.date(2018, 12, 12),\n",
       " datetime.date(2021, 8, 6),\n",
       " datetime.date(2021, 10, 5),\n",
       " datetime.date(2024, 5, 8),\n",
       " datetime.date(2021, 1, 22),\n",
       " datetime.date(2021, 2, 2),\n",
       " datetime.date(2022, 7, 1),\n",
       " datetime.date(2019, 12, 24),\n",
       " datetime.date(2023, 10, 25),\n",
       " datetime.date(2024, 5, 9),\n",
       " datetime.date(2022, 11, 4),\n",
       " datetime.date(2021, 3, 3),\n",
       " datetime.date(2021, 5, 21),\n",
       " datetime.date(2022, 6, 20),\n",
       " datetime.date(2022, 2, 22),\n",
       " datetime.date(2018, 11, 22),\n",
       " datetime.date(2020, 1, 28),\n",
       " datetime.date(2024, 3, 19),\n",
       " datetime.date(2021, 6, 18),\n",
       " datetime.date(2024, 10, 31),\n",
       " datetime.date(2019, 11, 14),\n",
       " datetime.date(2019, 10, 16),\n",
       " datetime.date(2019, 7, 1),\n",
       " datetime.date(2024, 1, 2),\n",
       " datetime.date(2022, 8, 4),\n",
       " datetime.date(2019, 10, 9),\n",
       " datetime.date(2020, 11, 5),\n",
       " datetime.date(2020, 11, 19),\n",
       " datetime.date(2024, 9, 27),\n",
       " datetime.date(2019, 4, 16),\n",
       " datetime.date(2024, 10, 23),\n",
       " datetime.date(2022, 8, 3),\n",
       " datetime.date(2023, 11, 7),\n",
       " datetime.date(2020, 12, 9),\n",
       " datetime.date(2021, 7, 5),\n",
       " datetime.date(2018, 1, 29),\n",
       " datetime.date(2019, 7, 10),\n",
       " datetime.date(2024, 9, 10),\n",
       " datetime.date(2022, 9, 7),\n",
       " datetime.date(2019, 1, 18),\n",
       " datetime.date(2022, 8, 16),\n",
       " datetime.date(2019, 9, 24),\n",
       " datetime.date(2019, 5, 31),\n",
       " datetime.date(2020, 9, 10),\n",
       " datetime.date(2021, 2, 22),\n",
       " datetime.date(2018, 3, 16),\n",
       " datetime.date(2018, 9, 10),\n",
       " datetime.date(2018, 6, 13),\n",
       " datetime.date(2022, 12, 23),\n",
       " datetime.date(2024, 9, 24),\n",
       " datetime.date(2023, 5, 17),\n",
       " datetime.date(2024, 6, 14),\n",
       " datetime.date(2019, 1, 1),\n",
       " datetime.date(2021, 6, 22),\n",
       " datetime.date(2022, 6, 3),\n",
       " datetime.date(2019, 6, 24),\n",
       " datetime.date(2018, 8, 17),\n",
       " datetime.date(2018, 11, 6),\n",
       " datetime.date(2024, 1, 19),\n",
       " datetime.date(2018, 12, 6),\n",
       " datetime.date(2020, 11, 27),\n",
       " datetime.date(2024, 1, 9),\n",
       " datetime.date(2021, 7, 12),\n",
       " datetime.date(2018, 3, 9),\n",
       " datetime.date(2024, 5, 3),\n",
       " datetime.date(2018, 5, 15),\n",
       " datetime.date(2024, 8, 6),\n",
       " datetime.date(2024, 10, 30),\n",
       " datetime.date(2022, 4, 27),\n",
       " datetime.date(2023, 11, 3),\n",
       " datetime.date(2021, 12, 6),\n",
       " datetime.date(2019, 4, 11),\n",
       " datetime.date(2019, 8, 6),\n",
       " datetime.date(2020, 7, 14),\n",
       " datetime.date(2022, 10, 7),\n",
       " datetime.date(2018, 12, 13),\n",
       " datetime.date(2022, 8, 5),\n",
       " datetime.date(2025, 1, 1),\n",
       " datetime.date(2022, 11, 15),\n",
       " datetime.date(2019, 7, 18),\n",
       " datetime.date(2019, 3, 28),\n",
       " datetime.date(2021, 3, 1),\n",
       " datetime.date(2022, 2, 18),\n",
       " datetime.date(2021, 11, 10),\n",
       " datetime.date(2025, 1, 10),\n",
       " datetime.date(2022, 4, 5),\n",
       " datetime.date(2019, 1, 4),\n",
       " datetime.date(2022, 12, 22),\n",
       " datetime.date(2018, 7, 23),\n",
       " datetime.date(2019, 8, 5),\n",
       " datetime.date(2020, 10, 8),\n",
       " datetime.date(2024, 3, 12),\n",
       " datetime.date(2019, 3, 27),\n",
       " datetime.date(2023, 5, 23),\n",
       " datetime.date(2020, 7, 7),\n",
       " datetime.date(2023, 5, 24),\n",
       " datetime.date(2021, 7, 27),\n",
       " datetime.date(2025, 1, 28),\n",
       " datetime.date(2019, 5, 13),\n",
       " datetime.date(2019, 11, 29),\n",
       " datetime.date(2018, 8, 29),\n",
       " datetime.date(2018, 4, 24),\n",
       " datetime.date(2024, 9, 18),\n",
       " datetime.date(2021, 2, 25),\n",
       " datetime.date(2024, 10, 18),\n",
       " datetime.date(2019, 12, 3),\n",
       " datetime.date(2023, 8, 11),\n",
       " datetime.date(2021, 12, 1),\n",
       " datetime.date(2021, 8, 2),\n",
       " datetime.date(2022, 4, 20),\n",
       " datetime.date(2020, 1, 1),\n",
       " datetime.date(2019, 2, 13),\n",
       " datetime.date(2019, 2, 19),\n",
       " datetime.date(2019, 5, 17),\n",
       " datetime.date(2019, 7, 12),\n",
       " datetime.date(2020, 1, 23),\n",
       " datetime.date(2019, 10, 10),\n",
       " datetime.date(2022, 5, 13),\n",
       " datetime.date(2018, 2, 2),\n",
       " datetime.date(2023, 3, 21),\n",
       " datetime.date(2024, 7, 22),\n",
       " datetime.date(2021, 3, 18),\n",
       " datetime.date(2020, 8, 31),\n",
       " datetime.date(2023, 9, 22),\n",
       " datetime.date(2024, 1, 10),\n",
       " datetime.date(2023, 1, 17),\n",
       " datetime.date(2025, 1, 23),\n",
       " datetime.date(2021, 12, 24),\n",
       " datetime.date(2022, 4, 1),\n",
       " datetime.date(2020, 1, 30),\n",
       " datetime.date(2019, 8, 19),\n",
       " datetime.date(2022, 6, 14),\n",
       " datetime.date(2024, 1, 18),\n",
       " datetime.date(2018, 12, 17),\n",
       " datetime.date(2023, 12, 21),\n",
       " datetime.date(2021, 3, 16),\n",
       " datetime.date(2024, 10, 9),\n",
       " datetime.date(2020, 1, 7),\n",
       " datetime.date(2021, 5, 11),\n",
       " datetime.date(2022, 3, 4),\n",
       " datetime.date(2020, 11, 4),\n",
       " datetime.date(2018, 12, 26),\n",
       " datetime.date(2019, 1, 25),\n",
       " datetime.date(2019, 7, 5),\n",
       " datetime.date(2020, 4, 13),\n",
       " datetime.date(2019, 1, 8),\n",
       " datetime.date(2018, 2, 6),\n",
       " datetime.date(2021, 11, 2),\n",
       " datetime.date(2024, 5, 30),\n",
       " datetime.date(2020, 3, 13),\n",
       " datetime.date(2022, 3, 21),\n",
       " datetime.date(2023, 12, 22),\n",
       " datetime.date(2021, 8, 23),\n",
       " datetime.date(2024, 6, 7),\n",
       " datetime.date(2019, 8, 21),\n",
       " datetime.date(2020, 11, 6),\n",
       " datetime.date(2020, 8, 12),\n",
       " datetime.date(2023, 8, 25),\n",
       " datetime.date(2025, 1, 20),\n",
       " datetime.date(2019, 1, 7),\n",
       " datetime.date(2024, 3, 20),\n",
       " datetime.date(2020, 12, 11),\n",
       " datetime.date(2023, 5, 30),\n",
       " datetime.date(2019, 6, 13),\n",
       " datetime.date(2023, 6, 30),\n",
       " datetime.date(2024, 1, 8),\n",
       " datetime.date(2024, 12, 13),\n",
       " datetime.date(2019, 5, 2),\n",
       " datetime.date(2023, 8, 1),\n",
       " datetime.date(2021, 6, 14),\n",
       " datetime.date(2023, 9, 18),\n",
       " datetime.date(2021, 2, 4),\n",
       " datetime.date(2020, 9, 22),\n",
       " datetime.date(2018, 4, 11),\n",
       " datetime.date(2021, 6, 29),\n",
       " datetime.date(2020, 12, 1),\n",
       " datetime.date(2024, 10, 8),\n",
       " datetime.date(2023, 2, 24),\n",
       " datetime.date(2021, 11, 1),\n",
       " datetime.date(2023, 10, 17),\n",
       " datetime.date(2019, 3, 6),\n",
       " datetime.date(2020, 2, 24),\n",
       " datetime.date(2021, 12, 2),\n",
       " datetime.date(2020, 5, 6),\n",
       " datetime.date(2024, 10, 4),\n",
       " datetime.date(2018, 11, 5),\n",
       " datetime.date(2023, 2, 13),\n",
       " datetime.date(2019, 9, 16),\n",
       " datetime.date(2022, 7, 28),\n",
       " datetime.date(2018, 11, 15),\n",
       " datetime.date(2018, 12, 31),\n",
       " datetime.date(2018, 7, 12),\n",
       " datetime.date(2022, 4, 8),\n",
       " datetime.date(2023, 8, 21),\n",
       " datetime.date(2020, 5, 11),\n",
       " datetime.date(2021, 7, 26),\n",
       " datetime.date(2018, 7, 2),\n",
       " datetime.date(2022, 2, 23),\n",
       " datetime.date(2024, 4, 15),\n",
       " datetime.date(2021, 8, 11),\n",
       " datetime.date(2021, 5, 7),\n",
       " datetime.date(2023, 9, 15),\n",
       " datetime.date(2024, 5, 28),\n",
       " datetime.date(2019, 4, 18),\n",
       " datetime.date(2018, 6, 20),\n",
       " datetime.date(2021, 1, 6),\n",
       " datetime.date(2019, 11, 1),\n",
       " datetime.date(2018, 6, 11),\n",
       " datetime.date(2021, 2, 24),\n",
       " datetime.date(2020, 2, 7),\n",
       " datetime.date(2022, 7, 13),\n",
       " datetime.date(2021, 5, 25),\n",
       " datetime.date(2022, 12, 2),\n",
       " datetime.date(2023, 10, 5),\n",
       " datetime.date(2020, 8, 25),\n",
       " datetime.date(2021, 6, 11),\n",
       " datetime.date(2023, 11, 9),\n",
       " datetime.date(2021, 10, 20),\n",
       " datetime.date(2024, 8, 13),\n",
       " datetime.date(2018, 11, 14),\n",
       " datetime.date(2024, 11, 21),\n",
       " datetime.date(2022, 9, 19),\n",
       " datetime.date(2021, 8, 30),\n",
       " datetime.date(2024, 1, 11),\n",
       " datetime.date(2018, 11, 29),\n",
       " datetime.date(2019, 6, 6),\n",
       " datetime.date(2023, 3, 10),\n",
       " datetime.date(2019, 5, 16),\n",
       " datetime.date(2022, 9, 1),\n",
       " datetime.date(2021, 9, 29),\n",
       " datetime.date(2022, 2, 9),\n",
       " datetime.date(2022, 1, 3),\n",
       " datetime.date(2022, 12, 16),\n",
       " datetime.date(2021, 10, 19),\n",
       " datetime.date(2019, 1, 14),\n",
       " datetime.date(2023, 5, 19),\n",
       " datetime.date(2023, 8, 30),\n",
       " datetime.date(2021, 10, 6),\n",
       " datetime.date(2024, 1, 23),\n",
       " datetime.date(2023, 7, 31),\n",
       " datetime.date(2024, 8, 28),\n",
       " datetime.date(2020, 6, 26),\n",
       " datetime.date(2020, 3, 31),\n",
       " datetime.date(2024, 9, 9),\n",
       " datetime.date(2020, 6, 8),\n",
       " datetime.date(2023, 7, 21),\n",
       " datetime.date(2023, 9, 27),\n",
       " datetime.date(2020, 10, 15),\n",
       " datetime.date(2020, 9, 28),\n",
       " datetime.date(2022, 9, 20),\n",
       " datetime.date(2019, 2, 6),\n",
       " datetime.date(2021, 1, 27),\n",
       " datetime.date(2019, 12, 27),\n",
       " datetime.date(2022, 3, 29),\n",
       " datetime.date(2024, 7, 16),\n",
       " datetime.date(2018, 3, 6),\n",
       " datetime.date(2020, 5, 29),\n",
       " datetime.date(2025, 1, 15),\n",
       " datetime.date(2021, 5, 17),\n",
       " datetime.date(2021, 11, 8),\n",
       " datetime.date(2020, 10, 12),\n",
       " datetime.date(2023, 1, 6),\n",
       " datetime.date(2018, 10, 15),\n",
       " datetime.date(2018, 2, 21),\n",
       " datetime.date(2019, 12, 9),\n",
       " datetime.date(2021, 8, 24),\n",
       " datetime.date(2018, 5, 16),\n",
       " datetime.date(2022, 11, 7),\n",
       " datetime.date(2024, 2, 6),\n",
       " datetime.date(2019, 11, 27),\n",
       " datetime.date(2024, 5, 17),\n",
       " datetime.date(2024, 5, 29),\n",
       " datetime.date(2024, 5, 22),\n",
       " datetime.date(2020, 7, 27),\n",
       " datetime.date(2023, 7, 19),\n",
       " datetime.date(2024, 11, 19),\n",
       " datetime.date(2023, 6, 26),\n",
       " datetime.date(2019, 9, 3),\n",
       " datetime.date(2019, 11, 8),\n",
       " datetime.date(2021, 3, 26),\n",
       " datetime.date(2019, 9, 20),\n",
       " datetime.date(2023, 6, 6),\n",
       " datetime.date(2019, 12, 2),\n",
       " datetime.date(2021, 5, 24),\n",
       " datetime.date(2022, 5, 19),\n",
       " datetime.date(2023, 11, 29),\n",
       " datetime.date(2020, 9, 1),\n",
       " datetime.date(2018, 4, 18),\n",
       " datetime.date(2023, 2, 7),\n",
       " datetime.date(2025, 1, 22),\n",
       " datetime.date(2024, 7, 26),\n",
       " datetime.date(2020, 4, 22),\n",
       " datetime.date(2020, 7, 1),\n",
       " datetime.date(2024, 6, 6),\n",
       " datetime.date(2020, 8, 6),\n",
       " datetime.date(2021, 8, 12),\n",
       " datetime.date(2022, 11, 25),\n",
       " datetime.date(2024, 1, 16),\n",
       " datetime.date(2021, 1, 25),\n",
       " datetime.date(2019, 4, 30),\n",
       " datetime.date(2024, 8, 29),\n",
       " datetime.date(2022, 8, 2),\n",
       " datetime.date(2023, 11, 2),\n",
       " datetime.date(2023, 12, 15),\n",
       " datetime.date(2022, 12, 28),\n",
       " datetime.date(2022, 2, 21),\n",
       " datetime.date(2022, 9, 29),\n",
       " datetime.date(2024, 10, 16),\n",
       " datetime.date(2020, 12, 15),\n",
       " datetime.date(2024, 7, 11),\n",
       " datetime.date(2025, 2, 1),\n",
       " datetime.date(2020, 8, 10),\n",
       " datetime.date(2022, 6, 9),\n",
       " datetime.date(2020, 1, 13),\n",
       " datetime.date(2020, 11, 23),\n",
       " datetime.date(2021, 8, 3),\n",
       " datetime.date(2021, 4, 15),\n",
       " datetime.date(2020, 3, 19),\n",
       " datetime.date(2023, 10, 12),\n",
       " datetime.date(2021, 7, 23),\n",
       " datetime.date(2018, 4, 3),\n",
       " datetime.date(2024, 2, 29),\n",
       " datetime.date(2018, 5, 23),\n",
       " datetime.date(2022, 6, 17),\n",
       " datetime.date(2022, 6, 8),\n",
       " datetime.date(2019, 3, 7),\n",
       " datetime.date(2021, 7, 15),\n",
       " datetime.date(2024, 10, 22),\n",
       " datetime.date(2020, 9, 2),\n",
       " datetime.date(2022, 12, 30),\n",
       " datetime.date(2018, 6, 28),\n",
       " datetime.date(2018, 11, 13),\n",
       " datetime.date(2021, 11, 22),\n",
       " datetime.date(2018, 9, 4),\n",
       " datetime.date(2018, 10, 22),\n",
       " datetime.date(2021, 10, 1),\n",
       " datetime.date(2019, 10, 3),\n",
       " datetime.date(2022, 11, 28),\n",
       " datetime.date(2024, 10, 1),\n",
       " datetime.date(2020, 7, 15),\n",
       " datetime.date(2024, 5, 15),\n",
       " datetime.date(2018, 10, 25),\n",
       " datetime.date(2025, 1, 7),\n",
       " datetime.date(2025, 1, 14),\n",
       " datetime.date(2024, 4, 1),\n",
       " datetime.date(2018, 8, 1),\n",
       " datetime.date(2018, 4, 13),\n",
       " datetime.date(2018, 6, 5),\n",
       " datetime.date(2018, 7, 17),\n",
       " datetime.date(2025, 2, 12),\n",
       " datetime.date(2018, 8, 13),\n",
       " datetime.date(2020, 3, 9),\n",
       " datetime.date(2020, 10, 9),\n",
       " datetime.date(2022, 6, 29),\n",
       " datetime.date(2020, 10, 20),\n",
       " datetime.date(2022, 7, 29),\n",
       " datetime.date(2024, 6, 18),\n",
       " datetime.date(2022, 4, 7),\n",
       " datetime.date(2020, 12, 18),\n",
       " datetime.date(2022, 3, 14),\n",
       " datetime.date(2019, 4, 23),\n",
       " datetime.date(2020, 12, 2),\n",
       " datetime.date(2022, 2, 2),\n",
       " datetime.date(2022, 5, 9),\n",
       " datetime.date(2020, 5, 13),\n",
       " datetime.date(2023, 12, 18),\n",
       " datetime.date(2024, 4, 23),\n",
       " datetime.date(2020, 9, 4),\n",
       " datetime.date(2020, 1, 24),\n",
       " datetime.date(2025, 1, 30),\n",
       " datetime.date(2018, 8, 9),\n",
       " datetime.date(2019, 6, 17),\n",
       " datetime.date(2019, 7, 24),\n",
       " datetime.date(2021, 9, 14),\n",
       " datetime.date(2021, 7, 8),\n",
       " datetime.date(2024, 2, 26),\n",
       " datetime.date(2024, 6, 3),\n",
       " datetime.date(2020, 8, 13),\n",
       " datetime.date(2023, 11, 10),\n",
       " datetime.date(2021, 1, 20),\n",
       " datetime.date(2018, 6, 18),\n",
       " datetime.date(2018, 5, 30),\n",
       " datetime.date(2018, 12, 4),\n",
       " datetime.date(2020, 12, 8),\n",
       " datetime.date(2021, 1, 4),\n",
       " datetime.date(2022, 12, 15),\n",
       " datetime.date(2018, 7, 30),\n",
       " datetime.date(2023, 9, 20),\n",
       " datetime.date(2018, 11, 30),\n",
       " datetime.date(2022, 8, 25),\n",
       " datetime.date(2023, 6, 8),\n",
       " datetime.date(2025, 1, 29),\n",
       " datetime.date(2024, 5, 2),\n",
       " datetime.date(2023, 3, 8),\n",
       " datetime.date(2021, 3, 31),\n",
       " datetime.date(2024, 6, 24),\n",
       " datetime.date(2024, 7, 12),\n",
       " datetime.date(2021, 10, 13),\n",
       " datetime.date(2020, 12, 30),\n",
       " datetime.date(2024, 4, 10),\n",
       " datetime.date(2021, 4, 7),\n",
       " datetime.date(2019, 7, 15),\n",
       " datetime.date(2021, 5, 12),\n",
       " datetime.date(2022, 10, 27),\n",
       " datetime.date(2021, 11, 25),\n",
       " datetime.date(2024, 1, 1),\n",
       " datetime.date(2022, 12, 9),\n",
       " datetime.date(2024, 4, 24),\n",
       " datetime.date(2022, 3, 23),\n",
       " datetime.date(2020, 6, 17),\n",
       " datetime.date(2020, 3, 2),\n",
       " datetime.date(2021, 3, 23),\n",
       " datetime.date(2021, 4, 30),\n",
       " datetime.date(2022, 10, 4),\n",
       " datetime.date(2019, 4, 15),\n",
       " datetime.date(2022, 5, 11),\n",
       " datetime.date(2018, 7, 9),\n",
       " datetime.date(2018, 5, 14),\n",
       " datetime.date(2024, 8, 26),\n",
       " datetime.date(2018, 7, 6),\n",
       " datetime.date(2018, 1, 19),\n",
       " datetime.date(2024, 8, 22),\n",
       " datetime.date(2021, 7, 20),\n",
       " datetime.date(2021, 7, 1),\n",
       " datetime.date(2021, 7, 6),\n",
       " datetime.date(2023, 12, 27),\n",
       " datetime.date(2024, 12, 20),\n",
       " datetime.date(2024, 12, 19),\n",
       " datetime.date(2024, 12, 18),\n",
       " datetime.date(2019, 3, 20),\n",
       " datetime.date(2023, 10, 6),\n",
       " datetime.date(2018, 7, 5),\n",
       " datetime.date(2019, 9, 9),\n",
       " datetime.date(2024, 3, 27),\n",
       " datetime.date(2019, 2, 22),\n",
       " datetime.date(2023, 5, 2),\n",
       " datetime.date(2020, 2, 4),\n",
       " datetime.date(2021, 10, 12),\n",
       " datetime.date(2022, 5, 4),\n",
       " datetime.date(2022, 6, 24),\n",
       " datetime.date(2018, 10, 31),\n",
       " datetime.date(2024, 9, 11),\n",
       " datetime.date(2020, 5, 20),\n",
       " datetime.date(2024, 3, 14),\n",
       " datetime.date(2021, 9, 24),\n",
       " datetime.date(2024, 12, 4),\n",
       " datetime.date(2018, 6, 21),\n",
       " datetime.date(2024, 7, 9),\n",
       " datetime.date(2023, 2, 3),\n",
       " datetime.date(2024, 6, 11),\n",
       " datetime.date(2023, 3, 27),\n",
       " datetime.date(2025, 2, 10),\n",
       " datetime.date(2024, 4, 22),\n",
       " datetime.date(2023, 4, 18),\n",
       " datetime.date(2018, 12, 7),\n",
       " datetime.date(2018, 9, 21),\n",
       " datetime.date(2018, 9, 24),\n",
       " datetime.date(2024, 4, 3),\n",
       " datetime.date(2023, 10, 13),\n",
       " datetime.date(2019, 12, 30),\n",
       " datetime.date(2021, 6, 15),\n",
       " datetime.date(2018, 3, 26),\n",
       " datetime.date(2023, 5, 10),\n",
       " datetime.date(2020, 10, 13),\n",
       " datetime.date(2018, 8, 7),\n",
       " datetime.date(2023, 8, 7),\n",
       " datetime.date(2023, 2, 1),\n",
       " datetime.date(2024, 10, 21),\n",
       " datetime.date(2021, 10, 29),\n",
       " datetime.date(2018, 4, 9),\n",
       " datetime.date(2022, 9, 13),\n",
       " datetime.date(2019, 11, 20),\n",
       " datetime.date(2019, 4, 10),\n",
       " datetime.date(2024, 6, 19),\n",
       " datetime.date(2020, 12, 3),\n",
       " datetime.date(2021, 7, 19),\n",
       " datetime.date(2022, 6, 1),\n",
       " datetime.date(2024, 12, 23),\n",
       " datetime.date(2018, 2, 27),\n",
       " datetime.date(2022, 8, 12),\n",
       " datetime.date(2023, 10, 11),\n",
       " datetime.date(2021, 7, 28),\n",
       " datetime.date(2018, 9, 27),\n",
       " datetime.date(2023, 5, 9),\n",
       " datetime.date(2021, 9, 15),\n",
       " datetime.date(2021, 4, 5),\n",
       " datetime.date(2020, 5, 22),\n",
       " datetime.date(2024, 2, 22),\n",
       " datetime.date(2019, 5, 29),\n",
       " datetime.date(2020, 1, 6),\n",
       " datetime.date(2018, 8, 30),\n",
       " datetime.date(2025, 1, 13),\n",
       " datetime.date(2021, 9, 8),\n",
       " datetime.date(2018, 8, 3),\n",
       " datetime.date(2018, 10, 4),\n",
       " datetime.date(2024, 3, 13),\n",
       " datetime.date(2019, 2, 21),\n",
       " datetime.date(2020, 6, 29),\n",
       " datetime.date(2019, 4, 4),\n",
       " datetime.date(2019, 4, 2),\n",
       " datetime.date(2024, 7, 4),\n",
       " datetime.date(2018, 3, 23),\n",
       " datetime.date(2023, 1, 24),\n",
       " datetime.date(2019, 9, 23),\n",
       " datetime.date(2022, 4, 21),\n",
       " datetime.date(2024, 12, 16),\n",
       " datetime.date(2019, 6, 14),\n",
       " datetime.date(2024, 4, 12),\n",
       " datetime.date(2020, 2, 25),\n",
       " datetime.date(2018, 4, 10),\n",
       " datetime.date(2023, 11, 15),\n",
       " datetime.date(2018, 12, 24),\n",
       " datetime.date(2021, 6, 1),\n",
       " datetime.date(2019, 4, 8),\n",
       " datetime.date(2023, 3, 15),\n",
       " datetime.date(2023, 1, 20),\n",
       " datetime.date(2023, 1, 31),\n",
       " datetime.date(2022, 2, 15),\n",
       " datetime.date(2020, 6, 11),\n",
       " datetime.date(2021, 10, 18),\n",
       " datetime.date(2020, 12, 23),\n",
       " datetime.date(2019, 2, 26),\n",
       " datetime.date(2021, 11, 9),\n",
       " datetime.date(2020, 10, 6),\n",
       " datetime.date(2024, 12, 24),\n",
       " datetime.date(2025, 2, 11),\n",
       " datetime.date(2019, 2, 15),\n",
       " datetime.date(2019, 9, 11),\n",
       " datetime.date(2020, 11, 17),\n",
       " datetime.date(2021, 5, 10),\n",
       " datetime.date(2021, 4, 22),\n",
       " datetime.date(2021, 5, 20),\n",
       " datetime.date(2022, 3, 2),\n",
       " datetime.date(2024, 11, 13),\n",
       " datetime.date(2019, 12, 12),\n",
       " datetime.date(2019, 5, 20),\n",
       " datetime.date(2019, 1, 29),\n",
       " datetime.date(2019, 1, 21),\n",
       " datetime.date(2023, 12, 7),\n",
       " datetime.date(2021, 11, 18),\n",
       " datetime.date(2021, 8, 17),\n",
       " datetime.date(2024, 9, 5),\n",
       " datetime.date(2023, 11, 30),\n",
       " datetime.date(2023, 8, 24),\n",
       " ...}"
      ]
     },
     "execution_count": 9,
     "metadata": {},
     "output_type": "execute_result"
    }
   ],
   "source": [
    "bnf_1min[\"datetime\"] = pd.to_datetime(bnf_1min[\"datetime\"])\n",
    "list_of_traded_dates = set(bnf_1min[\"datetime\"].dt.date)\n",
    "list_of_traded_dates"
   ]
  },
  {
   "cell_type": "code",
   "execution_count": 10,
   "id": "4e73a9f1-b834-411e-b28e-cf7ec65fcfca",
   "metadata": {
    "execution": {
     "iopub.execute_input": "2025-02-12T09:03:17.301623Z",
     "iopub.status.busy": "2025-02-12T09:03:17.301001Z",
     "iopub.status.idle": "2025-02-12T09:03:17.307333Z",
     "shell.execute_reply": "2025-02-12T09:03:17.306184Z",
     "shell.execute_reply.started": "2025-02-12T09:03:17.301575Z"
    }
   },
   "outputs": [],
   "source": [
    "def rename_ohlc_columns(df: pl.DataFrame) -> pl.DataFrame:\n",
    "\n",
    "    column_mapping = {\"o\": \"open\", \"h\": \"high\", \"l\": \"low\", \"c\": \"close\", \"v\": \"volume\"}\n",
    "    df = df.rename(column_mapping)\n",
    "\n",
    "    return df"
   ]
  },
  {
   "cell_type": "code",
   "execution_count": 11,
   "id": "3e97b9dc-5add-4dbd-8160-d4b294b5d3dc",
   "metadata": {
    "execution": {
     "iopub.execute_input": "2025-02-12T09:03:23.247611Z",
     "iopub.status.busy": "2025-02-12T09:03:23.246905Z",
     "iopub.status.idle": "2025-02-12T09:03:23.252903Z",
     "shell.execute_reply": "2025-02-12T09:03:23.251600Z",
     "shell.execute_reply.started": "2025-02-12T09:03:23.247580Z"
    }
   },
   "outputs": [],
   "source": [
    "PORTFOLIO_VALUE = 12_50_000 # 10 Lacs\n",
    "# RPT_PCT = 0.01 # 1% RPT\n",
    "SLIPPAGE_ = 0.0001\n",
    "LEVERAGE_ = 5"
   ]
  },
  {
   "cell_type": "code",
   "execution_count": 12,
   "id": "8fe87dd6-5c22-4a1b-b716-8da141dd30de",
   "metadata": {
    "execution": {
     "iopub.execute_input": "2025-02-12T09:03:23.691837Z",
     "iopub.status.busy": "2025-02-12T09:03:23.691227Z",
     "iopub.status.idle": "2025-02-12T09:03:23.698815Z",
     "shell.execute_reply": "2025-02-12T09:03:23.697371Z",
     "shell.execute_reply.started": "2025-02-12T09:03:23.691809Z"
    }
   },
   "outputs": [],
   "source": [
    "def calculate_signals(df, ema_length, x_days, pct):\n",
    "    # Calculate X-day High/Low and 20 EMA\n",
    "    df['X_High'] = df['high'].rolling(x_days).mean()\n",
    "    df['X_Low'] = df['low'].rolling(x_days).mean()\n",
    "    df['EMA_20'] = df['close'].ewm(span=ema_length, adjust=False).mean()\n",
    "    \n",
    "    # Trend conditions\n",
    "    df['EMA_Trend'] = df['EMA_20'] > df['EMA_20'].shift(1)\n",
    "    \n",
    "    # Signal conditions\n",
    "    df['Buy_Signal'] = (\n",
    "        (df['close'] > df['X_High'].shift(1) * (1 + (pct / 100))) & \n",
    "        (df['EMA_Trend']) & \n",
    "        (df['close'] > df['EMA_20'])\n",
    "    )\n",
    "    \n",
    "    return df"
   ]
  },
  {
   "cell_type": "code",
   "execution_count": 14,
   "id": "bab5df3a-46d3-4045-a20e-c0f34a445fa8",
   "metadata": {
    "execution": {
     "iopub.execute_input": "2025-02-12T09:03:28.538428Z",
     "iopub.status.busy": "2025-02-12T09:03:28.537892Z",
     "iopub.status.idle": "2025-02-12T09:03:28.552797Z",
     "shell.execute_reply": "2025-02-12T09:03:28.551497Z",
     "shell.execute_reply.started": "2025-02-12T09:03:28.538406Z"
    }
   },
   "outputs": [],
   "source": [
    "def backtest3(df):\n",
    "    # print(df.to_string())\n",
    "    # return\n",
    "    df.reset_index(drop=True, inplace=True)\n",
    "    # Variables for long trades\n",
    "    long_position = 0  # 0 = no position, 1 = long\n",
    "    long_entry_price = 0\n",
    "    long_entry_date = None\n",
    "    long_trades = []\n",
    "    tradebook = pd.DataFrame()\n",
    "    tradebook_long = pd.DataFrame()\n",
    "    # tradebook_short = pd.DataFrame()\n",
    "    long_trailing_stop = None\n",
    "    # Variables for short trades\n",
    "    # short_position = 0  # 0 = no position, -1 = short\n",
    "    # short_entry_price = 0\n",
    "    # short_entry_date = None\n",
    "    # short_trades = []\n",
    "    # short_trailing_stop = None\n",
    "\n",
    "    can_add_long = False\n",
    "    # can_add_short = False\n",
    "\n",
    "    trade_number = 0\n",
    "    lock_initial_sl = False\n",
    "    first_sl = 0\n",
    "\n",
    "    lock_initial_sl_2 = False\n",
    "    first_sl_2 = 0\n",
    "\n",
    "    pyramid_number = 0\n",
    "    can_pyramid = True\n",
    "    pyramid_high = 0\n",
    "\n",
    "    for i in range(1, len(df)):\n",
    "        # Entry signals for long trades\n",
    "        long_trailing_stop = df.loc[i, 'EMA_20']\n",
    "        # short_trailing_stop = df.loc[i, 'EMA_20']\n",
    "        \n",
    "        if df.loc[i, 'Buy_Signal'] and long_position == 0:\n",
    "            long_position = 1\n",
    "            long_entry_price = df.loc[i+1, 'open']\n",
    "            long_entry_date = df.loc[i, 'datetime']\n",
    "            long_trailing_stop = df.loc[i, 'EMA_20']\n",
    "            long_initial_sl = df.loc[i, 'X_Low']\n",
    "\n",
    "            tradebook_long = pd.concat([tradebook_long, pd.DataFrame([{\n",
    "                'Trade No.': trade_number,\n",
    "                'Entry_Date': df.loc[i, 'datetime'],\n",
    "                'Exit_Date': None,\n",
    "                'Trade_Type': 'Long',\n",
    "                'Entry_Price': df.loc[i+1, 'open'],\n",
    "                'Previous MA Value': df.loc[i-1, 'X_High'],\n",
    "                'Initial SL': long_initial_sl,\n",
    "                'Exit_Price': None,\n",
    "                # 'Profit/Loss': None  # Filled when exited\n",
    "            }])], ignore_index=True)\n",
    "\n",
    "            if not lock_initial_sl:\n",
    "                first_sl = long_initial_sl\n",
    "                lock_initial_sl = True\n",
    "\n",
    "            can_pyramid = True\n",
    "            pyramid_number = 0\n",
    "            pyramid_high = 0\n",
    "            continue\n",
    "                \n",
    "        # Exit or add to long position\n",
    "        if long_position == 1:\n",
    "\n",
    "            \n",
    "            # y_days_low = df['low'].rolling(y_days).min().iloc[i-1]\n",
    "            # y_days_high = df['high'].rolling(y_days).max().iloc[i-1]\n",
    "            \n",
    "            # print(df.iloc[i]['datetime'], y_days_high, y_days_low)\n",
    "            \n",
    "            if df.loc[i, 'low'] <= long_initial_sl:\n",
    "                if df.loc[i, 'open'] <= long_initial_sl:\n",
    "                    tradebook_long.loc[\n",
    "                        (tradebook_long['Trade No.'] == trade_number),\n",
    "                        ['Exit_Date', 'Exit_Price', 'Exit Remark']\n",
    "                    ] = [df.loc[i, 'datetime'] , df.loc[i, 'open'], 'Gap']\n",
    "                    long_position = 0\n",
    "                    can_add_long = False\n",
    "                    trade_number += 1\n",
    "                    lock_initial_sl = False\n",
    "                    first_sl = 0\n",
    "                    can_pyramid = False\n",
    "                    pyramid_number = 0\n",
    "                    pyramid_high = 0\n",
    "                    # if df.loc[i, 'high'] >= long_initial_sl:\n",
    "                    #     tradebook_long.loc[\n",
    "                    #         (tradebook_long['Trade No.'] == trade_number),\n",
    "                    #         ['Exit_Date', 'Exit_Price', 'Exit Remark']\n",
    "                    #     ] = [df.loc[i, 'datetime'] , long_initial_sl, 'Initial SL Hit']\n",
    "                    #     long_position = 0\n",
    "                    #     can_add_long = False\n",
    "                    #     trade_number += 1\n",
    "                    #     lock_initial_sl = False\n",
    "                    #     first_sl = 0\n",
    "                    #     can_pyramid = False\n",
    "                    #     pyramid_number = 0\n",
    "                    #     pyramid_high = 0\n",
    "                    # elif df.loc[i, 'high'] < long_initial_sl:\n",
    "                    #     tradebook_long.loc[\n",
    "                    #         (tradebook_long['Trade No.'] == trade_number),\n",
    "                    #         ['Exit_Date', 'Exit_Price', 'Exit Remark']\n",
    "                    #     ] = [df.loc[i, 'datetime'] , df.loc[i, 'close'], 'Gap Open-Close Below ISL']\n",
    "                    #     long_position = 0\n",
    "                    #     can_add_long = False\n",
    "                    #     trade_number += 1\n",
    "                    #     lock_initial_sl = False\n",
    "                    #     first_sl = 0\n",
    "                    #     can_pyramid = False\n",
    "                    #     pyramid_number = 0\n",
    "                    #     pyramid_high = 0\n",
    "                else:\n",
    "                    tradebook_long.loc[\n",
    "                        (tradebook_long['Trade No.'] == trade_number),\n",
    "                        ['Exit_Date', 'Exit_Price', 'Exit Remark']\n",
    "                    ] = [df.loc[i, 'datetime'] , long_initial_sl, 'Initial SL Hit']\n",
    "                    long_position = 0\n",
    "                    can_add_long = False\n",
    "                    trade_number += 1\n",
    "                    lock_initial_sl = False\n",
    "                    first_sl = 0\n",
    "                    can_pyramid = False\n",
    "                    pyramid_number = 0\n",
    "                    pyramid_high = 0\n",
    "            \n",
    "            elif df.loc[i, 'close'] <= long_trailing_stop:\n",
    "                tradebook_long.loc[\n",
    "                    (tradebook_long['Trade No.'] == trade_number),\n",
    "                    ['Exit_Date', 'Exit_Price', 'Exit Remark']\n",
    "                ] = [df.loc[i, 'datetime'] , df.loc[i, 'close'] , 'Trailing SL Hit']\n",
    "                long_position = 0\n",
    "                can_add_long = False\n",
    "                trade_number += 1\n",
    "                lock_initial_sl = False\n",
    "                first_sl = 0\n",
    "                can_pyramid = False\n",
    "                pyramid_number = 0\n",
    "                pyramid_high = 0\n",
    "\n",
    "            # elif (df.loc[i, 'low'] <= y_days_low) and not can_add_long:\n",
    "            #     # Previous Y Candle Low Breached, confirmation found. Add position on high break\n",
    "            #     can_add_long = True\n",
    "\n",
    "            # if can_add_long and long_position and can_pyramid:\n",
    "            #     if df.loc[i, 'high'] >= y_days_high and pyramid_number < pyr_num:\n",
    "            #         tradebook_long = pd.concat([tradebook_long, pd.DataFrame([{\n",
    "            #             'Trade No.': trade_number,\n",
    "            #             'Entry_Date': df.loc[i, 'datetime'],\n",
    "            #             'Exit_Date': None,\n",
    "            #             'Trade_Type': 'Add_Long',\n",
    "            #             'Entry_Price': y_days_high,\n",
    "            #             'Initial SL': first_sl,\n",
    "            #             'Exit_Price': None,\n",
    "            #             # 'Profit/Loss': None  # Filled when exited\n",
    "            #         }])], ignore_index=True)\n",
    "            #         can_add_long = False\n",
    "            #         pyramid_number += 1\n",
    "            #         can_pyramid = True\n",
    "    \n",
    "    tradebook = pd.concat([tradebook_long, tradebook], ignore_index=True)\n",
    "    return tradebook\n"
   ]
  },
  {
   "cell_type": "code",
   "execution_count": 39,
   "id": "544b98d6-373c-42cf-b1d7-59ab77d44902",
   "metadata": {
    "execution": {
     "iopub.execute_input": "2025-02-12T09:18:09.154953Z",
     "iopub.status.busy": "2025-02-12T09:18:09.154328Z",
     "iopub.status.idle": "2025-02-12T09:18:11.629047Z",
     "shell.execute_reply": "2025-02-12T09:18:11.627844Z",
     "shell.execute_reply.started": "2025-02-12T09:18:09.154916Z"
    },
    "scrolled": true
   },
   "outputs": [
    {
     "name": "stderr",
     "output_type": "stream",
     "text": [
      "/tmp/ipykernel_66121/1820148762.py:132: FutureWarning: Setting an item of incompatible dtype is deprecated and will raise an error in a future version of pandas. Value 'Trailing SL Hit' has dtype incompatible with float64, please explicitly cast to a compatible dtype first.\n",
      "  tradebook_long.loc[\n"
     ]
    }
   ],
   "source": [
    "ema_length = 32\n",
    "x_days = 12\n",
    "# y_days = 4\n",
    "pct = 0.1\n",
    "RPT = 2.5\n",
    "df = bnf_1min\n",
    "df = calculate_signals(df, ema_length,x_days, pct)\n",
    "# print(df.tail().to_string())\n",
    "# df1 = df[df['Buy_Signal']]\n",
    "# print(df1.to_string())\n",
    "tb = backtest3(df)\n",
    "tb = tb.sort_values(by='Entry_Date')\n",
    "# variation = f'EMA: {ema_length}, X: {x_days}, Y: {y_days}, PCT: {pct}%, RPT: {RPT}%'"
   ]
  },
  {
   "cell_type": "code",
   "execution_count": 40,
   "id": "9d2a37eb-c52f-4e28-bffc-be8cb77b3830",
   "metadata": {
    "execution": {
     "iopub.execute_input": "2025-02-12T09:18:11.631485Z",
     "iopub.status.busy": "2025-02-12T09:18:11.630630Z",
     "iopub.status.idle": "2025-02-12T09:18:11.646345Z",
     "shell.execute_reply": "2025-02-12T09:18:11.645016Z",
     "shell.execute_reply.started": "2025-02-12T09:18:11.631453Z"
    },
    "scrolled": true
   },
   "outputs": [],
   "source": [
    "import numpy as np\n",
    "portfolio = 1250000\n",
    "tb['PnL'] = np.where(\n",
    "    tb['Trade_Type'].isin(['Long', 'Add_Long']),  # For Long and Add_Long\n",
    "    tb['Exit_Price'] - tb['Entry_Price'],\n",
    "    np.where(\n",
    "        tb['Trade_Type'].isin(['Short', 'Add_Short']),  # For Short and Add_Short\n",
    "        tb['Entry_Price'] - tb['Exit_Price'],\n",
    "        0  # Default case if Trade_Type is something unexpected\n",
    "    )\n",
    ")\n",
    "\n",
    "tb['Slippage'] = SLIPPAGE_ * (tb['Entry_Price'] + tb['Exit_Price'])\n",
    "tb['PnL w cs'] = tb['PnL'] - tb['Slippage']\n",
    "tb['Qty'] = abs(RPT / 100 * portfolio / (tb['Entry_Price'] - tb['Initial SL']))\n",
    "# tb['Qty'] = portfolio / tb['Entry_Price']\n",
    "tb['Profit_Loss INR'] = tb['Qty'] * tb['PnL w cs']\n",
    "tb['ROI%'] = tb['Profit_Loss INR'] * 100 / portfolio\n",
    "tb['Trade Year'] = tb['Entry_Date'].dt.year"
   ]
  },
  {
   "cell_type": "code",
   "execution_count": 41,
   "id": "fa5571b8-4afe-4f02-bf19-232c6992776a",
   "metadata": {
    "execution": {
     "iopub.execute_input": "2025-02-12T09:18:11.647905Z",
     "iopub.status.busy": "2025-02-12T09:18:11.647590Z",
     "iopub.status.idle": "2025-02-12T09:18:11.653399Z",
     "shell.execute_reply": "2025-02-12T09:18:11.652284Z",
     "shell.execute_reply.started": "2025-02-12T09:18:11.647886Z"
    }
   },
   "outputs": [],
   "source": [
    "# tb['Cumulative_PnL'] = tb['PnL w cs'].cumsum()"
   ]
  },
  {
   "cell_type": "code",
   "execution_count": 42,
   "id": "7da42fca-718f-43fd-8fb9-423c7beb8152",
   "metadata": {
    "execution": {
     "iopub.execute_input": "2025-02-12T09:18:11.656275Z",
     "iopub.status.busy": "2025-02-12T09:18:11.655401Z",
     "iopub.status.idle": "2025-02-12T09:18:11.664948Z",
     "shell.execute_reply": "2025-02-12T09:18:11.663671Z",
     "shell.execute_reply.started": "2025-02-12T09:18:11.656248Z"
    }
   },
   "outputs": [],
   "source": [
    "# tb.to_csv('GOLD TRADE CHECK JJPP.csv', index=False)"
   ]
  },
  {
   "cell_type": "code",
   "execution_count": 43,
   "id": "095a54f0-4c66-490f-97fd-e732e906e54b",
   "metadata": {
    "execution": {
     "iopub.execute_input": "2025-02-12T09:18:11.667685Z",
     "iopub.status.busy": "2025-02-12T09:18:11.666399Z",
     "iopub.status.idle": "2025-02-12T09:18:11.678469Z",
     "shell.execute_reply": "2025-02-12T09:18:11.677276Z",
     "shell.execute_reply.started": "2025-02-12T09:18:11.667631Z"
    },
    "scrolled": true
   },
   "outputs": [],
   "source": [
    "tb = tb.reset_index()\n",
    "# tb"
   ]
  },
  {
   "cell_type": "code",
   "execution_count": 44,
   "id": "42fd12dd-9e55-43ee-be9f-76a032557b9f",
   "metadata": {
    "execution": {
     "iopub.execute_input": "2025-02-12T09:18:11.680214Z",
     "iopub.status.busy": "2025-02-12T09:18:11.679718Z",
     "iopub.status.idle": "2025-02-12T09:18:11.691027Z",
     "shell.execute_reply": "2025-02-12T09:18:11.689589Z",
     "shell.execute_reply.started": "2025-02-12T09:18:11.680186Z"
    }
   },
   "outputs": [],
   "source": [
    "import matplotlib.pyplot as plt\n",
    "\n",
    "def plot_cumulative_pnl(tb, title=\"Cumulative PnL Over Time\"):\n",
    "    if 'Cumulative_PnL' not in tb.columns:\n",
    "        raise ValueError(\"The DataFrame must contain a 'Cumulative_PnL' column.\")\n",
    "\n",
    "    # Plot cumulative PnL\n",
    "    plt.figure(figsize=(12, 3))\n",
    "    plt.plot(tb.index, tb['Cumulative_PnL'], label='Cumulative PnL', color='blue', linewidth=2)\n",
    "    plt.title(title, fontsize=8)\n",
    "    plt.xlabel('Trade Index', fontsize=6)\n",
    "    plt.ylabel('Cumulative PnL', fontsize=6)\n",
    "    plt.legend(fontsize=6)\n",
    "    plt.grid(alpha=0.5)\n",
    "    plt.show()\n"
   ]
  },
  {
   "cell_type": "code",
   "execution_count": 45,
   "id": "de570f06-e560-4a18-b4fd-fe0ed1833130",
   "metadata": {
    "execution": {
     "iopub.execute_input": "2025-02-12T09:18:11.693089Z",
     "iopub.status.busy": "2025-02-12T09:18:11.692587Z",
     "iopub.status.idle": "2025-02-12T09:18:11.705727Z",
     "shell.execute_reply": "2025-02-12T09:18:11.704480Z",
     "shell.execute_reply.started": "2025-02-12T09:18:11.693067Z"
    }
   },
   "outputs": [],
   "source": [
    "# tb_long_only = tb[(tb['Trade_Type'] == 'Long') | (tb['Trade_Type'] == 'Add_Long')].copy()\n",
    "# tb_long_only['Cumulative_PnL'] = tb_long_only['PnL w cs'].cumsum()"
   ]
  },
  {
   "cell_type": "code",
   "execution_count": 46,
   "id": "2824479d-00d3-4c8f-9809-e7d52e99bf5d",
   "metadata": {
    "execution": {
     "iopub.execute_input": "2025-02-12T09:18:11.707057Z",
     "iopub.status.busy": "2025-02-12T09:18:11.706839Z",
     "iopub.status.idle": "2025-02-12T09:18:11.716820Z",
     "shell.execute_reply": "2025-02-12T09:18:11.715598Z",
     "shell.execute_reply.started": "2025-02-12T09:18:11.707039Z"
    }
   },
   "outputs": [],
   "source": [
    "# tb_long_only = tb_long_only[tb_long_only['Trade Year'] >= 2017]"
   ]
  },
  {
   "cell_type": "code",
   "execution_count": 47,
   "id": "96c0bbb0-8a62-43a4-9bbb-4a0a2ab1049a",
   "metadata": {
    "execution": {
     "iopub.execute_input": "2025-02-12T09:18:12.075714Z",
     "iopub.status.busy": "2025-02-12T09:18:12.074993Z",
     "iopub.status.idle": "2025-02-12T09:18:12.080622Z",
     "shell.execute_reply": "2025-02-12T09:18:12.079382Z",
     "shell.execute_reply.started": "2025-02-12T09:18:12.075688Z"
    },
    "jupyter": {
     "source_hidden": true
    }
   },
   "outputs": [],
   "source": [
    "# plot_cumulative_pnl(tb_long_only)\n",
    "# print(tb_long_only['PnL w cs'].sum())"
   ]
  },
  {
   "cell_type": "code",
   "execution_count": 48,
   "id": "58a626f9-7508-4157-853e-2207d2310e89",
   "metadata": {
    "execution": {
     "iopub.execute_input": "2025-02-12T09:18:12.186129Z",
     "iopub.status.busy": "2025-02-12T09:18:12.185642Z",
     "iopub.status.idle": "2025-02-12T09:18:12.190362Z",
     "shell.execute_reply": "2025-02-12T09:18:12.189277Z",
     "shell.execute_reply.started": "2025-02-12T09:18:12.186109Z"
    },
    "jupyter": {
     "source_hidden": true
    }
   },
   "outputs": [],
   "source": [
    "# plot_cumulative_pnl(tb_short_only)\n",
    "# print(tb_short_only['PnL w cs'].sum())"
   ]
  },
  {
   "cell_type": "code",
   "execution_count": 49,
   "id": "d529a44e-e6f3-43e3-ab6f-36277ec86a62",
   "metadata": {
    "execution": {
     "iopub.execute_input": "2025-02-12T09:18:12.323730Z",
     "iopub.status.busy": "2025-02-12T09:18:12.323081Z",
     "iopub.status.idle": "2025-02-12T09:18:12.328821Z",
     "shell.execute_reply": "2025-02-12T09:18:12.327680Z",
     "shell.execute_reply.started": "2025-02-12T09:18:12.323698Z"
    },
    "jupyter": {
     "source_hidden": true
    }
   },
   "outputs": [],
   "source": [
    "# plot_cumulative_pnl(tb)\n",
    "# print(tb['PnL w cs'].sum())"
   ]
  },
  {
   "cell_type": "code",
   "execution_count": 50,
   "id": "7244bad9-508f-4d00-a589-b0c4b9976679",
   "metadata": {
    "execution": {
     "iopub.execute_input": "2025-02-12T09:18:12.456346Z",
     "iopub.status.busy": "2025-02-12T09:18:12.455699Z",
     "iopub.status.idle": "2025-02-12T09:18:12.461115Z",
     "shell.execute_reply": "2025-02-12T09:18:12.459761Z",
     "shell.execute_reply.started": "2025-02-12T09:18:12.456314Z"
    },
    "jupyter": {
     "source_hidden": true
    },
    "scrolled": true
   },
   "outputs": [],
   "source": [
    "# plot_cumulative_pnl(tb2)\n",
    "# print(tb2['PnL w cs'].sum())"
   ]
  },
  {
   "cell_type": "code",
   "execution_count": 51,
   "id": "1973f6b1-8cdc-42de-901f-b6b08e480d5c",
   "metadata": {
    "execution": {
     "iopub.execute_input": "2025-02-12T09:18:12.848799Z",
     "iopub.status.busy": "2025-02-12T09:18:12.848009Z",
     "iopub.status.idle": "2025-02-12T09:18:12.859213Z",
     "shell.execute_reply": "2025-02-12T09:18:12.857757Z",
     "shell.execute_reply.started": "2025-02-12T09:18:12.848777Z"
    }
   },
   "outputs": [],
   "source": [
    "def generate_stats(tb_expiry, variation):\n",
    "    stats_df8 = pd.DataFrame(\n",
    "        index=range(2017, 2026),\n",
    "        columns=[\n",
    "            \"Total ROI\",\n",
    "            \"Total Trades\",\n",
    "            \"Win Rate\",\n",
    "            \"Avg Profit% per Trade\",\n",
    "            \"Avg Loss% per Trade\",\n",
    "            \"Max Drawdown\",\n",
    "            \"ROI/DD Ratio\",\n",
    "            \"Variation\",\n",
    "        ],\n",
    "    )\n",
    "    combined_df_sorted = tb_expiry\n",
    "    # combined_df_sorted = tb_expiry_ce\n",
    "    # combined_df_sorted = tb_expiry_pe\n",
    "    \n",
    "    # Iterate over each year\n",
    "    for year in range(2017, 2026):\n",
    "        # Filter trades for the current year\n",
    "        year_trades = combined_df_sorted[(combined_df_sorted[\"Trade Year\"] == year)]\n",
    "    \n",
    "        # Calculate total ROI\n",
    "        total_roi = year_trades[\"ROI%\"].sum()\n",
    "    \n",
    "        # Calculate total number of trades\n",
    "        total_trades = len(year_trades)\n",
    "    \n",
    "        # Calculate win rate\n",
    "        win_rate = (year_trades[\"ROI%\"] > 0).mean() * 100\n",
    "    \n",
    "        # Calculate average profit per trade\n",
    "        avg_profit = year_trades[year_trades[\"ROI%\"] > 0][\"ROI%\"].mean()\n",
    "    \n",
    "        # Calculate average loss per trade\n",
    "        avg_loss = year_trades[year_trades[\"ROI%\"] < 0][\"ROI%\"].mean()\n",
    "    \n",
    "        # Calculate maximum drawdown\n",
    "        max_drawdown = (\n",
    "            year_trades[\"ROI%\"].cumsum() - year_trades[\"ROI%\"].cumsum().cummax()\n",
    "        ).min()\n",
    "    \n",
    "        # Calculate ROI/DD ratio\n",
    "        roi_dd_ratio = total_roi / abs(max_drawdown)\n",
    "\n",
    "        variation = variation\n",
    "    \n",
    "        # Store the statistics in the DataFrame\n",
    "        stats_df8.loc[year] = [\n",
    "            total_roi,\n",
    "            total_trades,\n",
    "            win_rate,\n",
    "            avg_profit,\n",
    "            avg_loss,\n",
    "            max_drawdown,\n",
    "            roi_dd_ratio,\n",
    "            variation,\n",
    "        ]\n",
    "    \n",
    "    # Calculate overall statistics\n",
    "    overall_total_roi = stats_df8[\"Total ROI\"].sum()\n",
    "    overall_total_trades = stats_df8[\"Total Trades\"].sum()\n",
    "    overall_win_rate = (combined_df_sorted[\"ROI%\"] > 0).mean() * 100\n",
    "    overall_avg_profit = combined_df_sorted[combined_df_sorted[\"ROI%\"] > 0][\"ROI%\"].mean()\n",
    "    overall_avg_loss = combined_df_sorted[combined_df_sorted[\"ROI%\"] < 0][\"ROI%\"].mean()\n",
    "    overall_max_drawdown = (\n",
    "        combined_df_sorted[\"ROI%\"].cumsum() - combined_df_sorted[\"ROI%\"].cumsum().cummax()\n",
    "    ).min()\n",
    "    overall_roi_dd_ratio = overall_total_roi / abs(overall_max_drawdown)\n",
    "    overall_variation = variation\n",
    "\n",
    "    \n",
    "    # Store the overall statistics in the DataFrame\n",
    "    stats_df8.loc[\"Overall\"] = [\n",
    "        overall_total_roi,\n",
    "        overall_total_trades,\n",
    "        overall_win_rate,\n",
    "        overall_avg_profit,\n",
    "        overall_avg_loss,\n",
    "        overall_max_drawdown,\n",
    "        overall_roi_dd_ratio,\n",
    "        overall_variation,\n",
    "    ]\n",
    "    \n",
    "    # print(f'{overall_total_roi} , {overall_max_drawdown} , {overall_roi_dd_ratio}')\n",
    "    \n",
    "    return {overall_roi_dd_ratio: stats_df8}"
   ]
  },
  {
   "cell_type": "code",
   "execution_count": 52,
   "id": "cebeff6e-99a7-4b33-b0b3-14f65147401c",
   "metadata": {
    "execution": {
     "iopub.execute_input": "2025-02-12T09:18:14.333467Z",
     "iopub.status.busy": "2025-02-12T09:18:14.332879Z",
     "iopub.status.idle": "2025-02-12T09:18:14.351962Z",
     "shell.execute_reply": "2025-02-12T09:18:14.350573Z",
     "shell.execute_reply.started": "2025-02-12T09:18:14.333448Z"
    }
   },
   "outputs": [
    {
     "data": {
      "text/html": [
       "<div>\n",
       "<style scoped>\n",
       "    .dataframe tbody tr th:only-of-type {\n",
       "        vertical-align: middle;\n",
       "    }\n",
       "\n",
       "    .dataframe tbody tr th {\n",
       "        vertical-align: top;\n",
       "    }\n",
       "\n",
       "    .dataframe thead th {\n",
       "        text-align: right;\n",
       "    }\n",
       "</style>\n",
       "<table border=\"1\" class=\"dataframe\">\n",
       "  <thead>\n",
       "    <tr style=\"text-align: right;\">\n",
       "      <th></th>\n",
       "      <th>index</th>\n",
       "      <th>Trade No.</th>\n",
       "      <th>Entry_Date</th>\n",
       "      <th>Exit_Date</th>\n",
       "      <th>Trade_Type</th>\n",
       "      <th>Entry_Price</th>\n",
       "      <th>Previous MA Value</th>\n",
       "      <th>Initial SL</th>\n",
       "      <th>Exit_Price</th>\n",
       "      <th>Exit Remark</th>\n",
       "      <th>PnL</th>\n",
       "      <th>Slippage</th>\n",
       "      <th>PnL w cs</th>\n",
       "      <th>Qty</th>\n",
       "      <th>Profit_Loss INR</th>\n",
       "      <th>ROI%</th>\n",
       "      <th>Trade Year</th>\n",
       "    </tr>\n",
       "  </thead>\n",
       "  <tbody>\n",
       "    <tr>\n",
       "      <th>647</th>\n",
       "      <td>647</td>\n",
       "      <td>647</td>\n",
       "      <td>2025-01-24 10:45:00+05:30</td>\n",
       "      <td>2025-01-24 12:15:00+05:30</td>\n",
       "      <td>Long</td>\n",
       "      <td>48790.3500</td>\n",
       "      <td>48690.1208</td>\n",
       "      <td>48537.3333</td>\n",
       "      <td>48627.6500</td>\n",
       "      <td>Trailing SL Hit</td>\n",
       "      <td>-162.7000</td>\n",
       "      <td>9.7418</td>\n",
       "      <td>-172.4418</td>\n",
       "      <td>123.5097</td>\n",
       "      <td>-21298.2264</td>\n",
       "      <td>-1.7039</td>\n",
       "      <td>2025</td>\n",
       "    </tr>\n",
       "    <tr>\n",
       "      <th>648</th>\n",
       "      <td>648</td>\n",
       "      <td>648</td>\n",
       "      <td>2025-01-28 09:15:00+05:30</td>\n",
       "      <td>2025-01-31 09:45:00+05:30</td>\n",
       "      <td>Long</td>\n",
       "      <td>48570.5500</td>\n",
       "      <td>48207.3667</td>\n",
       "      <td>48088.9833</td>\n",
       "      <td>49104.8500</td>\n",
       "      <td>Trailing SL Hit</td>\n",
       "      <td>534.3000</td>\n",
       "      <td>9.7675</td>\n",
       "      <td>524.5325</td>\n",
       "      <td>64.8924</td>\n",
       "      <td>34038.1520</td>\n",
       "      <td>2.7231</td>\n",
       "      <td>2025</td>\n",
       "    </tr>\n",
       "    <tr>\n",
       "      <th>649</th>\n",
       "      <td>649</td>\n",
       "      <td>649</td>\n",
       "      <td>2025-01-31 11:45:00+05:30</td>\n",
       "      <td>2025-02-01 11:45:00+05:30</td>\n",
       "      <td>Long</td>\n",
       "      <td>49391.9000</td>\n",
       "      <td>49338.0375</td>\n",
       "      <td>49207.5833</td>\n",
       "      <td>49286.4500</td>\n",
       "      <td>Trailing SL Hit</td>\n",
       "      <td>-105.4500</td>\n",
       "      <td>9.8678</td>\n",
       "      <td>-115.3178</td>\n",
       "      <td>169.5452</td>\n",
       "      <td>-19551.5816</td>\n",
       "      <td>-1.5641</td>\n",
       "      <td>2025</td>\n",
       "    </tr>\n",
       "    <tr>\n",
       "      <th>650</th>\n",
       "      <td>650</td>\n",
       "      <td>650</td>\n",
       "      <td>2025-02-04 09:15:00+05:30</td>\n",
       "      <td>2025-02-07 10:15:00+05:30</td>\n",
       "      <td>Long</td>\n",
       "      <td>49943.7000</td>\n",
       "      <td>49273.3833</td>\n",
       "      <td>49172.9542</td>\n",
       "      <td>50224.3500</td>\n",
       "      <td>Trailing SL Hit</td>\n",
       "      <td>280.6500</td>\n",
       "      <td>10.0168</td>\n",
       "      <td>270.6332</td>\n",
       "      <td>40.5451</td>\n",
       "      <td>10972.8616</td>\n",
       "      <td>0.8778</td>\n",
       "      <td>2025</td>\n",
       "    </tr>\n",
       "    <tr>\n",
       "      <th>651</th>\n",
       "      <td>651</td>\n",
       "      <td>651</td>\n",
       "      <td>2025-02-12 12:45:00+05:30</td>\n",
       "      <td>2025-02-12 13:45:00+05:30</td>\n",
       "      <td>Long</td>\n",
       "      <td>49603.1500</td>\n",
       "      <td>49345.5292</td>\n",
       "      <td>49119.2667</td>\n",
       "      <td>49332.5000</td>\n",
       "      <td>Trailing SL Hit</td>\n",
       "      <td>-270.6500</td>\n",
       "      <td>9.8936</td>\n",
       "      <td>-280.5436</td>\n",
       "      <td>64.5817</td>\n",
       "      <td>-18117.9756</td>\n",
       "      <td>-1.4494</td>\n",
       "      <td>2025</td>\n",
       "    </tr>\n",
       "  </tbody>\n",
       "</table>\n",
       "</div>"
      ],
      "text/plain": [
       "     index  Trade No.                Entry_Date                  Exit_Date  \\\n",
       "647    647        647 2025-01-24 10:45:00+05:30  2025-01-24 12:15:00+05:30   \n",
       "648    648        648 2025-01-28 09:15:00+05:30  2025-01-31 09:45:00+05:30   \n",
       "649    649        649 2025-01-31 11:45:00+05:30  2025-02-01 11:45:00+05:30   \n",
       "650    650        650 2025-02-04 09:15:00+05:30  2025-02-07 10:15:00+05:30   \n",
       "651    651        651 2025-02-12 12:45:00+05:30  2025-02-12 13:45:00+05:30   \n",
       "\n",
       "    Trade_Type  Entry_Price  Previous MA Value  Initial SL Exit_Price  \\\n",
       "647       Long   48790.3500         48690.1208  48537.3333 48627.6500   \n",
       "648       Long   48570.5500         48207.3667  48088.9833 49104.8500   \n",
       "649       Long   49391.9000         49338.0375  49207.5833 49286.4500   \n",
       "650       Long   49943.7000         49273.3833  49172.9542 50224.3500   \n",
       "651       Long   49603.1500         49345.5292  49119.2667 49332.5000   \n",
       "\n",
       "         Exit Remark       PnL Slippage  PnL w cs      Qty Profit_Loss INR  \\\n",
       "647  Trailing SL Hit -162.7000   9.7418 -172.4418 123.5097     -21298.2264   \n",
       "648  Trailing SL Hit  534.3000   9.7675  524.5325  64.8924      34038.1520   \n",
       "649  Trailing SL Hit -105.4500   9.8678 -115.3178 169.5452     -19551.5816   \n",
       "650  Trailing SL Hit  280.6500  10.0168  270.6332  40.5451      10972.8616   \n",
       "651  Trailing SL Hit -270.6500   9.8936 -280.5436  64.5817     -18117.9756   \n",
       "\n",
       "       ROI%  Trade Year  \n",
       "647 -1.7039        2025  \n",
       "648  2.7231        2025  \n",
       "649 -1.5641        2025  \n",
       "650  0.8778        2025  \n",
       "651 -1.4494        2025  "
      ]
     },
     "execution_count": 52,
     "metadata": {},
     "output_type": "execute_result"
    }
   ],
   "source": [
    "tb.tail()"
   ]
  },
  {
   "cell_type": "code",
   "execution_count": 53,
   "id": "938db9b0-6567-409a-9b16-690925e5ce28",
   "metadata": {
    "execution": {
     "iopub.execute_input": "2025-02-12T09:18:14.721978Z",
     "iopub.status.busy": "2025-02-12T09:18:14.720322Z",
     "iopub.status.idle": "2025-02-12T09:18:14.730386Z",
     "shell.execute_reply": "2025-02-12T09:18:14.729073Z",
     "shell.execute_reply.started": "2025-02-12T09:18:14.721937Z"
    }
   },
   "outputs": [],
   "source": [
    "tb['Entry_Date'] = pd.to_datetime(tb['Entry_Date'])\n",
    "tb['Trade Year'] = tb['Entry_Date'].dt.year\n",
    "# tb['ROI% w cs'] = tb['ROI%']"
   ]
  },
  {
   "cell_type": "code",
   "execution_count": 54,
   "id": "a4e10729-5889-49f6-8386-e32f6a921b36",
   "metadata": {
    "execution": {
     "iopub.execute_input": "2025-02-12T09:18:15.705699Z",
     "iopub.status.busy": "2025-02-12T09:18:15.704204Z",
     "iopub.status.idle": "2025-02-12T09:18:15.762133Z",
     "shell.execute_reply": "2025-02-12T09:18:15.760748Z",
     "shell.execute_reply.started": "2025-02-12T09:18:15.705664Z"
    }
   },
   "outputs": [
    {
     "data": {
      "text/html": [
       "<div>\n",
       "<style scoped>\n",
       "    .dataframe tbody tr th:only-of-type {\n",
       "        vertical-align: middle;\n",
       "    }\n",
       "\n",
       "    .dataframe tbody tr th {\n",
       "        vertical-align: top;\n",
       "    }\n",
       "\n",
       "    .dataframe thead th {\n",
       "        text-align: right;\n",
       "    }\n",
       "</style>\n",
       "<table border=\"1\" class=\"dataframe\">\n",
       "  <thead>\n",
       "    <tr style=\"text-align: right;\">\n",
       "      <th></th>\n",
       "      <th>Total ROI</th>\n",
       "      <th>Total Trades</th>\n",
       "      <th>Win Rate</th>\n",
       "      <th>Avg Profit% per Trade</th>\n",
       "      <th>Avg Loss% per Trade</th>\n",
       "      <th>Max Drawdown</th>\n",
       "      <th>ROI/DD Ratio</th>\n",
       "      <th>Variation</th>\n",
       "    </tr>\n",
       "  </thead>\n",
       "  <tbody>\n",
       "    <tr>\n",
       "      <th>2017</th>\n",
       "      <td>0</td>\n",
       "      <td>0</td>\n",
       "      <td>NaN</td>\n",
       "      <td>NaN</td>\n",
       "      <td>NaN</td>\n",
       "      <td>NaN</td>\n",
       "      <td>NaN</td>\n",
       "      <td>...</td>\n",
       "    </tr>\n",
       "    <tr>\n",
       "      <th>2018</th>\n",
       "      <td>91.9225</td>\n",
       "      <td>87</td>\n",
       "      <td>31.0345</td>\n",
       "      <td>6.8331</td>\n",
       "      <td>-1.5428</td>\n",
       "      <td>-22.7877</td>\n",
       "      <td>4.0339</td>\n",
       "      <td>...</td>\n",
       "    </tr>\n",
       "    <tr>\n",
       "      <th>2019</th>\n",
       "      <td>85.4915</td>\n",
       "      <td>88</td>\n",
       "      <td>31.8182</td>\n",
       "      <td>6.3223</td>\n",
       "      <td>-1.5255</td>\n",
       "      <td>-23.4601</td>\n",
       "      <td>3.6441</td>\n",
       "      <td>...</td>\n",
       "    </tr>\n",
       "    <tr>\n",
       "      <th>2020</th>\n",
       "      <td>131.5771</td>\n",
       "      <td>90</td>\n",
       "      <td>30.0000</td>\n",
       "      <td>7.7193</td>\n",
       "      <td>-1.2198</td>\n",
       "      <td>-10.4386</td>\n",
       "      <td>12.6049</td>\n",
       "      <td>...</td>\n",
       "    </tr>\n",
       "    <tr>\n",
       "      <th>2021</th>\n",
       "      <td>115.7297</td>\n",
       "      <td>104</td>\n",
       "      <td>32.6923</td>\n",
       "      <td>6.2104</td>\n",
       "      <td>-1.3632</td>\n",
       "      <td>-24.9846</td>\n",
       "      <td>4.6320</td>\n",
       "      <td>...</td>\n",
       "    </tr>\n",
       "    <tr>\n",
       "      <th>2022</th>\n",
       "      <td>67.2866</td>\n",
       "      <td>84</td>\n",
       "      <td>35.7143</td>\n",
       "      <td>4.6429</td>\n",
       "      <td>-1.3333</td>\n",
       "      <td>-24.4940</td>\n",
       "      <td>2.7471</td>\n",
       "      <td>...</td>\n",
       "    </tr>\n",
       "    <tr>\n",
       "      <th>2023</th>\n",
       "      <td>84.7218</td>\n",
       "      <td>100</td>\n",
       "      <td>29.0000</td>\n",
       "      <td>5.9069</td>\n",
       "      <td>-1.2194</td>\n",
       "      <td>-23.3816</td>\n",
       "      <td>3.6234</td>\n",
       "      <td>...</td>\n",
       "    </tr>\n",
       "    <tr>\n",
       "      <th>2024</th>\n",
       "      <td>73.2587</td>\n",
       "      <td>87</td>\n",
       "      <td>31.0345</td>\n",
       "      <td>6.3681</td>\n",
       "      <td>-1.6447</td>\n",
       "      <td>-25.0484</td>\n",
       "      <td>2.9247</td>\n",
       "      <td>...</td>\n",
       "    </tr>\n",
       "    <tr>\n",
       "      <th>2025</th>\n",
       "      <td>-7.2336</td>\n",
       "      <td>12</td>\n",
       "      <td>33.3333</td>\n",
       "      <td>1.0756</td>\n",
       "      <td>-1.4420</td>\n",
       "      <td>-7.8318</td>\n",
       "      <td>-0.9236</td>\n",
       "      <td>...</td>\n",
       "    </tr>\n",
       "    <tr>\n",
       "      <th>Overall</th>\n",
       "      <td>642.7543</td>\n",
       "      <td>652</td>\n",
       "      <td>31.5951</td>\n",
       "      <td>6.1550</td>\n",
       "      <td>-1.4017</td>\n",
       "      <td>-25.0484</td>\n",
       "      <td>25.6605</td>\n",
       "      <td>...</td>\n",
       "    </tr>\n",
       "  </tbody>\n",
       "</table>\n",
       "</div>"
      ],
      "text/plain": [
       "        Total ROI Total Trades Win Rate Avg Profit% per Trade  \\\n",
       "2017            0            0      NaN                   NaN   \n",
       "2018      91.9225           87  31.0345                6.8331   \n",
       "2019      85.4915           88  31.8182                6.3223   \n",
       "2020     131.5771           90  30.0000                7.7193   \n",
       "2021     115.7297          104  32.6923                6.2104   \n",
       "2022      67.2866           84  35.7143                4.6429   \n",
       "2023      84.7218          100  29.0000                5.9069   \n",
       "2024      73.2587           87  31.0345                6.3681   \n",
       "2025      -7.2336           12  33.3333                1.0756   \n",
       "Overall  642.7543          652  31.5951                6.1550   \n",
       "\n",
       "        Avg Loss% per Trade Max Drawdown ROI/DD Ratio Variation  \n",
       "2017                    NaN          NaN          NaN       ...  \n",
       "2018                -1.5428     -22.7877       4.0339       ...  \n",
       "2019                -1.5255     -23.4601       3.6441       ...  \n",
       "2020                -1.2198     -10.4386      12.6049       ...  \n",
       "2021                -1.3632     -24.9846       4.6320       ...  \n",
       "2022                -1.3333     -24.4940       2.7471       ...  \n",
       "2023                -1.2194     -23.3816       3.6234       ...  \n",
       "2024                -1.6447     -25.0484       2.9247       ...  \n",
       "2025                -1.4420      -7.8318      -0.9236       ...  \n",
       "Overall             -1.4017     -25.0484      25.6605       ...  "
      ]
     },
     "execution_count": 54,
     "metadata": {},
     "output_type": "execute_result"
    }
   ],
   "source": [
    "stats = generate_stats(tb, '...')\n",
    "lol = pd.DataFrame()\n",
    "for x, y in stats.items():\n",
    "    lol = pd.DataFrame(y)\n",
    "\n",
    "lol"
   ]
  },
  {
   "cell_type": "code",
   "execution_count": 55,
   "id": "40c93220-310d-4489-9209-1ee43ddf0474",
   "metadata": {
    "execution": {
     "iopub.execute_input": "2025-02-12T09:18:17.258501Z",
     "iopub.status.busy": "2025-02-12T09:18:17.257801Z",
     "iopub.status.idle": "2025-02-12T09:18:17.312749Z",
     "shell.execute_reply": "2025-02-12T09:18:17.311501Z",
     "shell.execute_reply.started": "2025-02-12T09:18:17.258480Z"
    }
   },
   "outputs": [
    {
     "data": {
      "text/html": [
       "<div>\n",
       "<style scoped>\n",
       "    .dataframe tbody tr th:only-of-type {\n",
       "        vertical-align: middle;\n",
       "    }\n",
       "\n",
       "    .dataframe tbody tr th {\n",
       "        vertical-align: top;\n",
       "    }\n",
       "\n",
       "    .dataframe thead th {\n",
       "        text-align: right;\n",
       "    }\n",
       "</style>\n",
       "<table border=\"1\" class=\"dataframe\">\n",
       "  <thead>\n",
       "    <tr style=\"text-align: right;\">\n",
       "      <th></th>\n",
       "      <th>Total ROI</th>\n",
       "      <th>Total Trades</th>\n",
       "      <th>Win Rate</th>\n",
       "      <th>Avg Profit% per Trade</th>\n",
       "      <th>Avg Loss% per Trade</th>\n",
       "      <th>Max Drawdown</th>\n",
       "      <th>ROI/DD Ratio</th>\n",
       "      <th>Variation</th>\n",
       "    </tr>\n",
       "  </thead>\n",
       "  <tbody>\n",
       "    <tr>\n",
       "      <th>2017</th>\n",
       "      <td>0</td>\n",
       "      <td>0</td>\n",
       "      <td>NaN</td>\n",
       "      <td>NaN</td>\n",
       "      <td>NaN</td>\n",
       "      <td>NaN</td>\n",
       "      <td>NaN</td>\n",
       "      <td>...</td>\n",
       "    </tr>\n",
       "    <tr>\n",
       "      <th>2018</th>\n",
       "      <td>91.9225</td>\n",
       "      <td>87</td>\n",
       "      <td>31.0345</td>\n",
       "      <td>6.8331</td>\n",
       "      <td>-1.5428</td>\n",
       "      <td>-22.7877</td>\n",
       "      <td>4.0339</td>\n",
       "      <td>...</td>\n",
       "    </tr>\n",
       "    <tr>\n",
       "      <th>2019</th>\n",
       "      <td>85.4915</td>\n",
       "      <td>88</td>\n",
       "      <td>31.8182</td>\n",
       "      <td>6.3223</td>\n",
       "      <td>-1.5255</td>\n",
       "      <td>-23.4601</td>\n",
       "      <td>3.6441</td>\n",
       "      <td>...</td>\n",
       "    </tr>\n",
       "    <tr>\n",
       "      <th>2020</th>\n",
       "      <td>131.5771</td>\n",
       "      <td>90</td>\n",
       "      <td>30.0000</td>\n",
       "      <td>7.7193</td>\n",
       "      <td>-1.2198</td>\n",
       "      <td>-10.4386</td>\n",
       "      <td>12.6049</td>\n",
       "      <td>...</td>\n",
       "    </tr>\n",
       "    <tr>\n",
       "      <th>2021</th>\n",
       "      <td>115.7297</td>\n",
       "      <td>104</td>\n",
       "      <td>32.6923</td>\n",
       "      <td>6.2104</td>\n",
       "      <td>-1.3632</td>\n",
       "      <td>-24.9846</td>\n",
       "      <td>4.6320</td>\n",
       "      <td>...</td>\n",
       "    </tr>\n",
       "    <tr>\n",
       "      <th>2022</th>\n",
       "      <td>67.2866</td>\n",
       "      <td>84</td>\n",
       "      <td>35.7143</td>\n",
       "      <td>4.6429</td>\n",
       "      <td>-1.3333</td>\n",
       "      <td>-24.4940</td>\n",
       "      <td>2.7471</td>\n",
       "      <td>...</td>\n",
       "    </tr>\n",
       "    <tr>\n",
       "      <th>2023</th>\n",
       "      <td>84.7218</td>\n",
       "      <td>100</td>\n",
       "      <td>29.0000</td>\n",
       "      <td>5.9069</td>\n",
       "      <td>-1.2194</td>\n",
       "      <td>-23.3816</td>\n",
       "      <td>3.6234</td>\n",
       "      <td>...</td>\n",
       "    </tr>\n",
       "    <tr>\n",
       "      <th>2024</th>\n",
       "      <td>73.2587</td>\n",
       "      <td>87</td>\n",
       "      <td>31.0345</td>\n",
       "      <td>6.3681</td>\n",
       "      <td>-1.6447</td>\n",
       "      <td>-25.0484</td>\n",
       "      <td>2.9247</td>\n",
       "      <td>...</td>\n",
       "    </tr>\n",
       "    <tr>\n",
       "      <th>2025</th>\n",
       "      <td>-7.2336</td>\n",
       "      <td>12</td>\n",
       "      <td>33.3333</td>\n",
       "      <td>1.0756</td>\n",
       "      <td>-1.4420</td>\n",
       "      <td>-7.8318</td>\n",
       "      <td>-0.9236</td>\n",
       "      <td>...</td>\n",
       "    </tr>\n",
       "    <tr>\n",
       "      <th>Overall</th>\n",
       "      <td>642.7543</td>\n",
       "      <td>652</td>\n",
       "      <td>31.5951</td>\n",
       "      <td>6.1550</td>\n",
       "      <td>-1.4017</td>\n",
       "      <td>-25.0484</td>\n",
       "      <td>25.6605</td>\n",
       "      <td>...</td>\n",
       "    </tr>\n",
       "  </tbody>\n",
       "</table>\n",
       "</div>"
      ],
      "text/plain": [
       "        Total ROI Total Trades Win Rate Avg Profit% per Trade  \\\n",
       "2017            0            0      NaN                   NaN   \n",
       "2018      91.9225           87  31.0345                6.8331   \n",
       "2019      85.4915           88  31.8182                6.3223   \n",
       "2020     131.5771           90  30.0000                7.7193   \n",
       "2021     115.7297          104  32.6923                6.2104   \n",
       "2022      67.2866           84  35.7143                4.6429   \n",
       "2023      84.7218          100  29.0000                5.9069   \n",
       "2024      73.2587           87  31.0345                6.3681   \n",
       "2025      -7.2336           12  33.3333                1.0756   \n",
       "Overall  642.7543          652  31.5951                6.1550   \n",
       "\n",
       "        Avg Loss% per Trade Max Drawdown ROI/DD Ratio Variation  \n",
       "2017                    NaN          NaN          NaN       ...  \n",
       "2018                -1.5428     -22.7877       4.0339       ...  \n",
       "2019                -1.5255     -23.4601       3.6441       ...  \n",
       "2020                -1.2198     -10.4386      12.6049       ...  \n",
       "2021                -1.3632     -24.9846       4.6320       ...  \n",
       "2022                -1.3333     -24.4940       2.7471       ...  \n",
       "2023                -1.2194     -23.3816       3.6234       ...  \n",
       "2024                -1.6447     -25.0484       2.9247       ...  \n",
       "2025                -1.4420      -7.8318      -0.9236       ...  \n",
       "Overall             -1.4017     -25.0484      25.6605       ...  "
      ]
     },
     "execution_count": 55,
     "metadata": {},
     "output_type": "execute_result"
    }
   ],
   "source": [
    "stats = generate_stats(tb, '...')\n",
    "lol = pd.DataFrame()\n",
    "for x, y in stats.items():\n",
    "    lol = pd.DataFrame(y)\n",
    "\n",
    "lol"
   ]
  },
  {
   "cell_type": "code",
   "execution_count": 56,
   "id": "557af72c-768d-4228-9dc3-6932a817a1a5",
   "metadata": {
    "execution": {
     "iopub.execute_input": "2025-02-12T09:18:17.585663Z",
     "iopub.status.busy": "2025-02-12T09:18:17.585291Z",
     "iopub.status.idle": "2025-02-12T09:18:17.596581Z",
     "shell.execute_reply": "2025-02-12T09:18:17.595558Z",
     "shell.execute_reply.started": "2025-02-12T09:18:17.585644Z"
    }
   },
   "outputs": [
    {
     "data": {
      "text/plain": [
       "(642.7542803812502, 0)"
      ]
     },
     "execution_count": 56,
     "metadata": {},
     "output_type": "execute_result"
    }
   ],
   "source": [
    "tb1 = tb[tb['Trade_Type'] == 'Long']\n",
    "tb2 = tb[tb['Trade_Type'] == 'Add_Long']\n",
    "tb1['ROI%'].sum() , tb2['ROI%'].sum()"
   ]
  },
  {
   "cell_type": "code",
   "execution_count": 57,
   "id": "97055e75-731e-4420-83a0-4c715364050a",
   "metadata": {
    "execution": {
     "iopub.execute_input": "2025-02-12T09:18:18.218623Z",
     "iopub.status.busy": "2025-02-12T09:18:18.218035Z",
     "iopub.status.idle": "2025-02-12T09:18:18.239738Z",
     "shell.execute_reply": "2025-02-12T09:18:18.238381Z",
     "shell.execute_reply.started": "2025-02-12T09:18:18.218596Z"
    },
    "scrolled": true
   },
   "outputs": [
    {
     "data": {
      "text/html": [
       "<div>\n",
       "<style scoped>\n",
       "    .dataframe tbody tr th:only-of-type {\n",
       "        vertical-align: middle;\n",
       "    }\n",
       "\n",
       "    .dataframe tbody tr th {\n",
       "        vertical-align: top;\n",
       "    }\n",
       "\n",
       "    .dataframe thead th {\n",
       "        text-align: right;\n",
       "    }\n",
       "</style>\n",
       "<table border=\"1\" class=\"dataframe\">\n",
       "  <thead>\n",
       "    <tr style=\"text-align: right;\">\n",
       "      <th></th>\n",
       "      <th>index</th>\n",
       "      <th>Trade No.</th>\n",
       "      <th>Entry_Date</th>\n",
       "      <th>Exit_Date</th>\n",
       "      <th>Trade_Type</th>\n",
       "      <th>Entry_Price</th>\n",
       "      <th>Previous MA Value</th>\n",
       "      <th>Initial SL</th>\n",
       "      <th>Exit_Price</th>\n",
       "      <th>Exit Remark</th>\n",
       "      <th>PnL</th>\n",
       "      <th>Slippage</th>\n",
       "      <th>PnL w cs</th>\n",
       "      <th>Qty</th>\n",
       "      <th>Profit_Loss INR</th>\n",
       "      <th>ROI%</th>\n",
       "      <th>Trade Year</th>\n",
       "    </tr>\n",
       "  </thead>\n",
       "  <tbody>\n",
       "    <tr>\n",
       "      <th>642</th>\n",
       "      <td>642</td>\n",
       "      <td>642</td>\n",
       "      <td>2025-01-14 13:45:00+05:30</td>\n",
       "      <td>2025-01-15 13:15:00+05:30</td>\n",
       "      <td>Long</td>\n",
       "      <td>48907.4500</td>\n",
       "      <td>48522.7042</td>\n",
       "      <td>48413.9500</td>\n",
       "      <td>48554.4000</td>\n",
       "      <td>Trailing SL Hit</td>\n",
       "      <td>-353.0500</td>\n",
       "      <td>9.7462</td>\n",
       "      <td>-362.7962</td>\n",
       "      <td>63.3232</td>\n",
       "      <td>-22973.4160</td>\n",
       "      <td>-1.8379</td>\n",
       "      <td>2025</td>\n",
       "    </tr>\n",
       "    <tr>\n",
       "      <th>643</th>\n",
       "      <td>643</td>\n",
       "      <td>643</td>\n",
       "      <td>2025-01-16 09:15:00+05:30</td>\n",
       "      <td>2025-01-17 09:15:00+05:30</td>\n",
       "      <td>Long</td>\n",
       "      <td>49256.0500</td>\n",
       "      <td>48892.5083</td>\n",
       "      <td>48771.4417</td>\n",
       "      <td>48771.4417</td>\n",
       "      <td>Initial SL Hit</td>\n",
       "      <td>-484.6083</td>\n",
       "      <td>9.8027</td>\n",
       "      <td>-494.4111</td>\n",
       "      <td>64.4851</td>\n",
       "      <td>-31882.1309</td>\n",
       "      <td>-2.5506</td>\n",
       "      <td>2025</td>\n",
       "    </tr>\n",
       "    <tr>\n",
       "      <th>644</th>\n",
       "      <td>644</td>\n",
       "      <td>644</td>\n",
       "      <td>2025-01-20 09:15:00+05:30</td>\n",
       "      <td>2025-01-21 09:45:00+05:30</td>\n",
       "      <td>Long</td>\n",
       "      <td>48900.3500</td>\n",
       "      <td>48584.7375</td>\n",
       "      <td>48450.5083</td>\n",
       "      <td>49034.4500</td>\n",
       "      <td>Trailing SL Hit</td>\n",
       "      <td>134.1000</td>\n",
       "      <td>9.7935</td>\n",
       "      <td>124.3065</td>\n",
       "      <td>69.4689</td>\n",
       "      <td>8635.4356</td>\n",
       "      <td>0.6908</td>\n",
       "      <td>2025</td>\n",
       "    </tr>\n",
       "    <tr>\n",
       "      <th>645</th>\n",
       "      <td>645</td>\n",
       "      <td>645</td>\n",
       "      <td>2025-01-22 14:45:00+05:30</td>\n",
       "      <td>2025-01-23 09:15:00+05:30</td>\n",
       "      <td>Long</td>\n",
       "      <td>48762.5000</td>\n",
       "      <td>48523.7333</td>\n",
       "      <td>48324.2792</td>\n",
       "      <td>48589.1500</td>\n",
       "      <td>Trailing SL Hit</td>\n",
       "      <td>-173.3500</td>\n",
       "      <td>9.7352</td>\n",
       "      <td>-183.0852</td>\n",
       "      <td>71.3111</td>\n",
       "      <td>-13056.0005</td>\n",
       "      <td>-1.0445</td>\n",
       "      <td>2025</td>\n",
       "    </tr>\n",
       "    <tr>\n",
       "      <th>646</th>\n",
       "      <td>646</td>\n",
       "      <td>646</td>\n",
       "      <td>2025-01-23 09:45:00+05:30</td>\n",
       "      <td>2025-01-23 11:15:00+05:30</td>\n",
       "      <td>Long</td>\n",
       "      <td>48788.8500</td>\n",
       "      <td>48545.6667</td>\n",
       "      <td>48345.6000</td>\n",
       "      <td>48615.2000</td>\n",
       "      <td>Trailing SL Hit</td>\n",
       "      <td>-173.6500</td>\n",
       "      <td>9.7404</td>\n",
       "      <td>-183.3904</td>\n",
       "      <td>70.5020</td>\n",
       "      <td>-12929.3856</td>\n",
       "      <td>-1.0344</td>\n",
       "      <td>2025</td>\n",
       "    </tr>\n",
       "    <tr>\n",
       "      <th>647</th>\n",
       "      <td>647</td>\n",
       "      <td>647</td>\n",
       "      <td>2025-01-24 10:45:00+05:30</td>\n",
       "      <td>2025-01-24 12:15:00+05:30</td>\n",
       "      <td>Long</td>\n",
       "      <td>48790.3500</td>\n",
       "      <td>48690.1208</td>\n",
       "      <td>48537.3333</td>\n",
       "      <td>48627.6500</td>\n",
       "      <td>Trailing SL Hit</td>\n",
       "      <td>-162.7000</td>\n",
       "      <td>9.7418</td>\n",
       "      <td>-172.4418</td>\n",
       "      <td>123.5097</td>\n",
       "      <td>-21298.2264</td>\n",
       "      <td>-1.7039</td>\n",
       "      <td>2025</td>\n",
       "    </tr>\n",
       "    <tr>\n",
       "      <th>648</th>\n",
       "      <td>648</td>\n",
       "      <td>648</td>\n",
       "      <td>2025-01-28 09:15:00+05:30</td>\n",
       "      <td>2025-01-31 09:45:00+05:30</td>\n",
       "      <td>Long</td>\n",
       "      <td>48570.5500</td>\n",
       "      <td>48207.3667</td>\n",
       "      <td>48088.9833</td>\n",
       "      <td>49104.8500</td>\n",
       "      <td>Trailing SL Hit</td>\n",
       "      <td>534.3000</td>\n",
       "      <td>9.7675</td>\n",
       "      <td>524.5325</td>\n",
       "      <td>64.8924</td>\n",
       "      <td>34038.1520</td>\n",
       "      <td>2.7231</td>\n",
       "      <td>2025</td>\n",
       "    </tr>\n",
       "    <tr>\n",
       "      <th>649</th>\n",
       "      <td>649</td>\n",
       "      <td>649</td>\n",
       "      <td>2025-01-31 11:45:00+05:30</td>\n",
       "      <td>2025-02-01 11:45:00+05:30</td>\n",
       "      <td>Long</td>\n",
       "      <td>49391.9000</td>\n",
       "      <td>49338.0375</td>\n",
       "      <td>49207.5833</td>\n",
       "      <td>49286.4500</td>\n",
       "      <td>Trailing SL Hit</td>\n",
       "      <td>-105.4500</td>\n",
       "      <td>9.8678</td>\n",
       "      <td>-115.3178</td>\n",
       "      <td>169.5452</td>\n",
       "      <td>-19551.5816</td>\n",
       "      <td>-1.5641</td>\n",
       "      <td>2025</td>\n",
       "    </tr>\n",
       "    <tr>\n",
       "      <th>650</th>\n",
       "      <td>650</td>\n",
       "      <td>650</td>\n",
       "      <td>2025-02-04 09:15:00+05:30</td>\n",
       "      <td>2025-02-07 10:15:00+05:30</td>\n",
       "      <td>Long</td>\n",
       "      <td>49943.7000</td>\n",
       "      <td>49273.3833</td>\n",
       "      <td>49172.9542</td>\n",
       "      <td>50224.3500</td>\n",
       "      <td>Trailing SL Hit</td>\n",
       "      <td>280.6500</td>\n",
       "      <td>10.0168</td>\n",
       "      <td>270.6332</td>\n",
       "      <td>40.5451</td>\n",
       "      <td>10972.8616</td>\n",
       "      <td>0.8778</td>\n",
       "      <td>2025</td>\n",
       "    </tr>\n",
       "    <tr>\n",
       "      <th>651</th>\n",
       "      <td>651</td>\n",
       "      <td>651</td>\n",
       "      <td>2025-02-12 12:45:00+05:30</td>\n",
       "      <td>2025-02-12 13:45:00+05:30</td>\n",
       "      <td>Long</td>\n",
       "      <td>49603.1500</td>\n",
       "      <td>49345.5292</td>\n",
       "      <td>49119.2667</td>\n",
       "      <td>49332.5000</td>\n",
       "      <td>Trailing SL Hit</td>\n",
       "      <td>-270.6500</td>\n",
       "      <td>9.8936</td>\n",
       "      <td>-280.5436</td>\n",
       "      <td>64.5817</td>\n",
       "      <td>-18117.9756</td>\n",
       "      <td>-1.4494</td>\n",
       "      <td>2025</td>\n",
       "    </tr>\n",
       "  </tbody>\n",
       "</table>\n",
       "</div>"
      ],
      "text/plain": [
       "     index  Trade No.                Entry_Date                  Exit_Date  \\\n",
       "642    642        642 2025-01-14 13:45:00+05:30  2025-01-15 13:15:00+05:30   \n",
       "643    643        643 2025-01-16 09:15:00+05:30  2025-01-17 09:15:00+05:30   \n",
       "644    644        644 2025-01-20 09:15:00+05:30  2025-01-21 09:45:00+05:30   \n",
       "645    645        645 2025-01-22 14:45:00+05:30  2025-01-23 09:15:00+05:30   \n",
       "646    646        646 2025-01-23 09:45:00+05:30  2025-01-23 11:15:00+05:30   \n",
       "647    647        647 2025-01-24 10:45:00+05:30  2025-01-24 12:15:00+05:30   \n",
       "648    648        648 2025-01-28 09:15:00+05:30  2025-01-31 09:45:00+05:30   \n",
       "649    649        649 2025-01-31 11:45:00+05:30  2025-02-01 11:45:00+05:30   \n",
       "650    650        650 2025-02-04 09:15:00+05:30  2025-02-07 10:15:00+05:30   \n",
       "651    651        651 2025-02-12 12:45:00+05:30  2025-02-12 13:45:00+05:30   \n",
       "\n",
       "    Trade_Type  Entry_Price  Previous MA Value  Initial SL Exit_Price  \\\n",
       "642       Long   48907.4500         48522.7042  48413.9500 48554.4000   \n",
       "643       Long   49256.0500         48892.5083  48771.4417 48771.4417   \n",
       "644       Long   48900.3500         48584.7375  48450.5083 49034.4500   \n",
       "645       Long   48762.5000         48523.7333  48324.2792 48589.1500   \n",
       "646       Long   48788.8500         48545.6667  48345.6000 48615.2000   \n",
       "647       Long   48790.3500         48690.1208  48537.3333 48627.6500   \n",
       "648       Long   48570.5500         48207.3667  48088.9833 49104.8500   \n",
       "649       Long   49391.9000         49338.0375  49207.5833 49286.4500   \n",
       "650       Long   49943.7000         49273.3833  49172.9542 50224.3500   \n",
       "651       Long   49603.1500         49345.5292  49119.2667 49332.5000   \n",
       "\n",
       "         Exit Remark       PnL Slippage  PnL w cs      Qty Profit_Loss INR  \\\n",
       "642  Trailing SL Hit -353.0500   9.7462 -362.7962  63.3232     -22973.4160   \n",
       "643   Initial SL Hit -484.6083   9.8027 -494.4111  64.4851     -31882.1309   \n",
       "644  Trailing SL Hit  134.1000   9.7935  124.3065  69.4689       8635.4356   \n",
       "645  Trailing SL Hit -173.3500   9.7352 -183.0852  71.3111     -13056.0005   \n",
       "646  Trailing SL Hit -173.6500   9.7404 -183.3904  70.5020     -12929.3856   \n",
       "647  Trailing SL Hit -162.7000   9.7418 -172.4418 123.5097     -21298.2264   \n",
       "648  Trailing SL Hit  534.3000   9.7675  524.5325  64.8924      34038.1520   \n",
       "649  Trailing SL Hit -105.4500   9.8678 -115.3178 169.5452     -19551.5816   \n",
       "650  Trailing SL Hit  280.6500  10.0168  270.6332  40.5451      10972.8616   \n",
       "651  Trailing SL Hit -270.6500   9.8936 -280.5436  64.5817     -18117.9756   \n",
       "\n",
       "       ROI%  Trade Year  \n",
       "642 -1.8379        2025  \n",
       "643 -2.5506        2025  \n",
       "644  0.6908        2025  \n",
       "645 -1.0445        2025  \n",
       "646 -1.0344        2025  \n",
       "647 -1.7039        2025  \n",
       "648  2.7231        2025  \n",
       "649 -1.5641        2025  \n",
       "650  0.8778        2025  \n",
       "651 -1.4494        2025  "
      ]
     },
     "execution_count": 57,
     "metadata": {},
     "output_type": "execute_result"
    }
   ],
   "source": [
    "tb.tail(10)"
   ]
  },
  {
   "cell_type": "code",
   "execution_count": 58,
   "id": "a194fb70-ba76-4395-826d-df4b06ec176d",
   "metadata": {
    "execution": {
     "iopub.execute_input": "2025-02-12T09:18:19.760065Z",
     "iopub.status.busy": "2025-02-12T09:18:19.759566Z",
     "iopub.status.idle": "2025-02-12T09:18:19.801890Z",
     "shell.execute_reply": "2025-02-12T09:18:19.800125Z",
     "shell.execute_reply.started": "2025-02-12T09:18:19.760044Z"
    },
    "scrolled": true
   },
   "outputs": [],
   "source": [
    "tb.to_csv('Turtle_BNF.csv')"
   ]
  },
  {
   "cell_type": "code",
   "execution_count": 34,
   "id": "1706cc8b-5462-435e-a9bf-0fa4a7f542c7",
   "metadata": {
    "execution": {
     "iopub.execute_input": "2024-12-18T20:52:53.696826Z",
     "iopub.status.busy": "2024-12-18T20:52:53.696039Z",
     "iopub.status.idle": "2024-12-18T20:52:53.700980Z",
     "shell.execute_reply": "2024-12-18T20:52:53.699682Z",
     "shell.execute_reply.started": "2024-12-18T20:52:53.696806Z"
    }
   },
   "outputs": [],
   "source": [
    "# tb_long_only.to_csv('GOLD Range JJPP.csv', index=False)"
   ]
  },
  {
   "cell_type": "code",
   "execution_count": 162,
   "id": "25678f46-885a-4bfb-b2e9-f931209225ed",
   "metadata": {
    "execution": {
     "iopub.execute_input": "2024-12-19T06:20:55.574034Z",
     "iopub.status.busy": "2024-12-19T06:20:55.573604Z",
     "iopub.status.idle": "2024-12-19T06:32:06.657010Z",
     "shell.execute_reply": "2024-12-19T06:32:06.655814Z",
     "shell.execute_reply.started": "2024-12-19T06:20:55.574015Z"
    },
    "scrolled": true
   },
   "outputs": [
    {
     "name": "stdout",
     "output_type": "stream",
     "text": [
      "EMA:22, X:4, PCT:0.1\n"
     ]
    },
    {
     "name": "stderr",
     "output_type": "stream",
     "text": [
      "/tmp/ipykernel_36223/3149794742.py:132: FutureWarning: Setting an item of incompatible dtype is deprecated and will raise an error in a future version of pandas. Value 'Trailing SL Hit' has dtype incompatible with float64, please explicitly cast to a compatible dtype first.\n",
      "  tradebook_long.loc[\n"
     ]
    },
    {
     "name": "stdout",
     "output_type": "stream",
     "text": [
      "EMA:22, X:6, PCT:0.1\n"
     ]
    },
    {
     "name": "stderr",
     "output_type": "stream",
     "text": [
      "/tmp/ipykernel_36223/3149794742.py:132: FutureWarning: Setting an item of incompatible dtype is deprecated and will raise an error in a future version of pandas. Value 'Trailing SL Hit' has dtype incompatible with float64, please explicitly cast to a compatible dtype first.\n",
      "  tradebook_long.loc[\n"
     ]
    },
    {
     "name": "stdout",
     "output_type": "stream",
     "text": [
      "EMA:22, X:8, PCT:0.1\n"
     ]
    },
    {
     "name": "stderr",
     "output_type": "stream",
     "text": [
      "/tmp/ipykernel_36223/3149794742.py:132: FutureWarning: Setting an item of incompatible dtype is deprecated and will raise an error in a future version of pandas. Value 'Trailing SL Hit' has dtype incompatible with float64, please explicitly cast to a compatible dtype first.\n",
      "  tradebook_long.loc[\n"
     ]
    },
    {
     "name": "stdout",
     "output_type": "stream",
     "text": [
      "EMA:22, X:10, PCT:0.1\n"
     ]
    },
    {
     "name": "stderr",
     "output_type": "stream",
     "text": [
      "/tmp/ipykernel_36223/3149794742.py:132: FutureWarning: Setting an item of incompatible dtype is deprecated and will raise an error in a future version of pandas. Value 'Trailing SL Hit' has dtype incompatible with float64, please explicitly cast to a compatible dtype first.\n",
      "  tradebook_long.loc[\n"
     ]
    },
    {
     "name": "stdout",
     "output_type": "stream",
     "text": [
      "EMA:22, X:12, PCT:0.1\n"
     ]
    },
    {
     "name": "stderr",
     "output_type": "stream",
     "text": [
      "/tmp/ipykernel_36223/3149794742.py:132: FutureWarning: Setting an item of incompatible dtype is deprecated and will raise an error in a future version of pandas. Value 'Trailing SL Hit' has dtype incompatible with float64, please explicitly cast to a compatible dtype first.\n",
      "  tradebook_long.loc[\n"
     ]
    },
    {
     "name": "stdout",
     "output_type": "stream",
     "text": [
      "EMA:22, X:14, PCT:0.1\n"
     ]
    },
    {
     "name": "stderr",
     "output_type": "stream",
     "text": [
      "/tmp/ipykernel_36223/3149794742.py:132: FutureWarning: Setting an item of incompatible dtype is deprecated and will raise an error in a future version of pandas. Value 'Trailing SL Hit' has dtype incompatible with float64, please explicitly cast to a compatible dtype first.\n",
      "  tradebook_long.loc[\n"
     ]
    },
    {
     "name": "stdout",
     "output_type": "stream",
     "text": [
      "EMA:22, X:16, PCT:0.1\n"
     ]
    },
    {
     "name": "stderr",
     "output_type": "stream",
     "text": [
      "/tmp/ipykernel_36223/3149794742.py:132: FutureWarning: Setting an item of incompatible dtype is deprecated and will raise an error in a future version of pandas. Value 'Trailing SL Hit' has dtype incompatible with float64, please explicitly cast to a compatible dtype first.\n",
      "  tradebook_long.loc[\n"
     ]
    },
    {
     "name": "stdout",
     "output_type": "stream",
     "text": [
      "EMA:22, X:18, PCT:0.1\n"
     ]
    },
    {
     "name": "stderr",
     "output_type": "stream",
     "text": [
      "/tmp/ipykernel_36223/3149794742.py:132: FutureWarning: Setting an item of incompatible dtype is deprecated and will raise an error in a future version of pandas. Value 'Trailing SL Hit' has dtype incompatible with float64, please explicitly cast to a compatible dtype first.\n",
      "  tradebook_long.loc[\n"
     ]
    },
    {
     "name": "stdout",
     "output_type": "stream",
     "text": [
      "EMA:22, X:20, PCT:0.1\n"
     ]
    },
    {
     "name": "stderr",
     "output_type": "stream",
     "text": [
      "/tmp/ipykernel_36223/3149794742.py:132: FutureWarning: Setting an item of incompatible dtype is deprecated and will raise an error in a future version of pandas. Value 'Trailing SL Hit' has dtype incompatible with float64, please explicitly cast to a compatible dtype first.\n",
      "  tradebook_long.loc[\n"
     ]
    },
    {
     "name": "stdout",
     "output_type": "stream",
     "text": [
      "EMA:22, X:22, PCT:0.1\n"
     ]
    },
    {
     "name": "stderr",
     "output_type": "stream",
     "text": [
      "/tmp/ipykernel_36223/3149794742.py:132: FutureWarning: Setting an item of incompatible dtype is deprecated and will raise an error in a future version of pandas. Value 'Trailing SL Hit' has dtype incompatible with float64, please explicitly cast to a compatible dtype first.\n",
      "  tradebook_long.loc[\n"
     ]
    },
    {
     "name": "stdout",
     "output_type": "stream",
     "text": [
      "EMA:22, X:24, PCT:0.1\n"
     ]
    },
    {
     "name": "stderr",
     "output_type": "stream",
     "text": [
      "/tmp/ipykernel_36223/3149794742.py:132: FutureWarning: Setting an item of incompatible dtype is deprecated and will raise an error in a future version of pandas. Value 'Trailing SL Hit' has dtype incompatible with float64, please explicitly cast to a compatible dtype first.\n",
      "  tradebook_long.loc[\n"
     ]
    },
    {
     "name": "stdout",
     "output_type": "stream",
     "text": [
      "EMA:22, X:26, PCT:0.1\n"
     ]
    },
    {
     "name": "stderr",
     "output_type": "stream",
     "text": [
      "/tmp/ipykernel_36223/3149794742.py:132: FutureWarning: Setting an item of incompatible dtype is deprecated and will raise an error in a future version of pandas. Value 'Trailing SL Hit' has dtype incompatible with float64, please explicitly cast to a compatible dtype first.\n",
      "  tradebook_long.loc[\n"
     ]
    },
    {
     "name": "stdout",
     "output_type": "stream",
     "text": [
      "EMA:22, X:28, PCT:0.1\n"
     ]
    },
    {
     "name": "stderr",
     "output_type": "stream",
     "text": [
      "/tmp/ipykernel_36223/3149794742.py:132: FutureWarning: Setting an item of incompatible dtype is deprecated and will raise an error in a future version of pandas. Value 'Trailing SL Hit' has dtype incompatible with float64, please explicitly cast to a compatible dtype first.\n",
      "  tradebook_long.loc[\n"
     ]
    },
    {
     "name": "stdout",
     "output_type": "stream",
     "text": [
      "EMA:22, X:30, PCT:0.1\n"
     ]
    },
    {
     "name": "stderr",
     "output_type": "stream",
     "text": [
      "/tmp/ipykernel_36223/3149794742.py:132: FutureWarning: Setting an item of incompatible dtype is deprecated and will raise an error in a future version of pandas. Value 'Trailing SL Hit' has dtype incompatible with float64, please explicitly cast to a compatible dtype first.\n",
      "  tradebook_long.loc[\n"
     ]
    },
    {
     "name": "stdout",
     "output_type": "stream",
     "text": [
      "EMA:22, X:32, PCT:0.1\n"
     ]
    },
    {
     "name": "stderr",
     "output_type": "stream",
     "text": [
      "/tmp/ipykernel_36223/3149794742.py:132: FutureWarning: Setting an item of incompatible dtype is deprecated and will raise an error in a future version of pandas. Value 'Trailing SL Hit' has dtype incompatible with float64, please explicitly cast to a compatible dtype first.\n",
      "  tradebook_long.loc[\n"
     ]
    },
    {
     "name": "stdout",
     "output_type": "stream",
     "text": [
      "EMA:22, X:34, PCT:0.1\n"
     ]
    },
    {
     "name": "stderr",
     "output_type": "stream",
     "text": [
      "/tmp/ipykernel_36223/3149794742.py:132: FutureWarning: Setting an item of incompatible dtype is deprecated and will raise an error in a future version of pandas. Value 'Trailing SL Hit' has dtype incompatible with float64, please explicitly cast to a compatible dtype first.\n",
      "  tradebook_long.loc[\n"
     ]
    },
    {
     "name": "stdout",
     "output_type": "stream",
     "text": [
      "EMA:22, X:36, PCT:0.1\n"
     ]
    },
    {
     "name": "stderr",
     "output_type": "stream",
     "text": [
      "/tmp/ipykernel_36223/3149794742.py:132: FutureWarning: Setting an item of incompatible dtype is deprecated and will raise an error in a future version of pandas. Value 'Trailing SL Hit' has dtype incompatible with float64, please explicitly cast to a compatible dtype first.\n",
      "  tradebook_long.loc[\n"
     ]
    },
    {
     "name": "stdout",
     "output_type": "stream",
     "text": [
      "EMA:24, X:4, PCT:0.1\n"
     ]
    },
    {
     "name": "stderr",
     "output_type": "stream",
     "text": [
      "/tmp/ipykernel_36223/3149794742.py:132: FutureWarning: Setting an item of incompatible dtype is deprecated and will raise an error in a future version of pandas. Value 'Trailing SL Hit' has dtype incompatible with float64, please explicitly cast to a compatible dtype first.\n",
      "  tradebook_long.loc[\n"
     ]
    },
    {
     "name": "stdout",
     "output_type": "stream",
     "text": [
      "EMA:24, X:6, PCT:0.1\n"
     ]
    },
    {
     "name": "stderr",
     "output_type": "stream",
     "text": [
      "/tmp/ipykernel_36223/3149794742.py:132: FutureWarning: Setting an item of incompatible dtype is deprecated and will raise an error in a future version of pandas. Value 'Trailing SL Hit' has dtype incompatible with float64, please explicitly cast to a compatible dtype first.\n",
      "  tradebook_long.loc[\n"
     ]
    },
    {
     "name": "stdout",
     "output_type": "stream",
     "text": [
      "EMA:24, X:8, PCT:0.1\n"
     ]
    },
    {
     "name": "stderr",
     "output_type": "stream",
     "text": [
      "/tmp/ipykernel_36223/3149794742.py:132: FutureWarning: Setting an item of incompatible dtype is deprecated and will raise an error in a future version of pandas. Value 'Trailing SL Hit' has dtype incompatible with float64, please explicitly cast to a compatible dtype first.\n",
      "  tradebook_long.loc[\n"
     ]
    },
    {
     "name": "stdout",
     "output_type": "stream",
     "text": [
      "EMA:24, X:10, PCT:0.1\n"
     ]
    },
    {
     "name": "stderr",
     "output_type": "stream",
     "text": [
      "/tmp/ipykernel_36223/3149794742.py:132: FutureWarning: Setting an item of incompatible dtype is deprecated and will raise an error in a future version of pandas. Value 'Trailing SL Hit' has dtype incompatible with float64, please explicitly cast to a compatible dtype first.\n",
      "  tradebook_long.loc[\n"
     ]
    },
    {
     "name": "stdout",
     "output_type": "stream",
     "text": [
      "EMA:24, X:12, PCT:0.1\n"
     ]
    },
    {
     "name": "stderr",
     "output_type": "stream",
     "text": [
      "/tmp/ipykernel_36223/3149794742.py:132: FutureWarning: Setting an item of incompatible dtype is deprecated and will raise an error in a future version of pandas. Value 'Trailing SL Hit' has dtype incompatible with float64, please explicitly cast to a compatible dtype first.\n",
      "  tradebook_long.loc[\n"
     ]
    },
    {
     "name": "stdout",
     "output_type": "stream",
     "text": [
      "EMA:24, X:14, PCT:0.1\n"
     ]
    },
    {
     "name": "stderr",
     "output_type": "stream",
     "text": [
      "/tmp/ipykernel_36223/3149794742.py:132: FutureWarning: Setting an item of incompatible dtype is deprecated and will raise an error in a future version of pandas. Value 'Trailing SL Hit' has dtype incompatible with float64, please explicitly cast to a compatible dtype first.\n",
      "  tradebook_long.loc[\n"
     ]
    },
    {
     "name": "stdout",
     "output_type": "stream",
     "text": [
      "EMA:24, X:16, PCT:0.1\n"
     ]
    },
    {
     "name": "stderr",
     "output_type": "stream",
     "text": [
      "/tmp/ipykernel_36223/3149794742.py:132: FutureWarning: Setting an item of incompatible dtype is deprecated and will raise an error in a future version of pandas. Value 'Trailing SL Hit' has dtype incompatible with float64, please explicitly cast to a compatible dtype first.\n",
      "  tradebook_long.loc[\n"
     ]
    },
    {
     "name": "stdout",
     "output_type": "stream",
     "text": [
      "EMA:24, X:18, PCT:0.1\n"
     ]
    },
    {
     "name": "stderr",
     "output_type": "stream",
     "text": [
      "/tmp/ipykernel_36223/3149794742.py:132: FutureWarning: Setting an item of incompatible dtype is deprecated and will raise an error in a future version of pandas. Value 'Trailing SL Hit' has dtype incompatible with float64, please explicitly cast to a compatible dtype first.\n",
      "  tradebook_long.loc[\n"
     ]
    },
    {
     "name": "stdout",
     "output_type": "stream",
     "text": [
      "EMA:24, X:20, PCT:0.1\n"
     ]
    },
    {
     "name": "stderr",
     "output_type": "stream",
     "text": [
      "/tmp/ipykernel_36223/3149794742.py:132: FutureWarning: Setting an item of incompatible dtype is deprecated and will raise an error in a future version of pandas. Value 'Trailing SL Hit' has dtype incompatible with float64, please explicitly cast to a compatible dtype first.\n",
      "  tradebook_long.loc[\n"
     ]
    },
    {
     "name": "stdout",
     "output_type": "stream",
     "text": [
      "EMA:24, X:22, PCT:0.1\n"
     ]
    },
    {
     "name": "stderr",
     "output_type": "stream",
     "text": [
      "/tmp/ipykernel_36223/3149794742.py:132: FutureWarning: Setting an item of incompatible dtype is deprecated and will raise an error in a future version of pandas. Value 'Trailing SL Hit' has dtype incompatible with float64, please explicitly cast to a compatible dtype first.\n",
      "  tradebook_long.loc[\n"
     ]
    },
    {
     "name": "stdout",
     "output_type": "stream",
     "text": [
      "EMA:24, X:24, PCT:0.1\n"
     ]
    },
    {
     "name": "stderr",
     "output_type": "stream",
     "text": [
      "/tmp/ipykernel_36223/3149794742.py:132: FutureWarning: Setting an item of incompatible dtype is deprecated and will raise an error in a future version of pandas. Value 'Trailing SL Hit' has dtype incompatible with float64, please explicitly cast to a compatible dtype first.\n",
      "  tradebook_long.loc[\n"
     ]
    },
    {
     "name": "stdout",
     "output_type": "stream",
     "text": [
      "EMA:24, X:26, PCT:0.1\n"
     ]
    },
    {
     "name": "stderr",
     "output_type": "stream",
     "text": [
      "/tmp/ipykernel_36223/3149794742.py:132: FutureWarning: Setting an item of incompatible dtype is deprecated and will raise an error in a future version of pandas. Value 'Trailing SL Hit' has dtype incompatible with float64, please explicitly cast to a compatible dtype first.\n",
      "  tradebook_long.loc[\n"
     ]
    },
    {
     "name": "stdout",
     "output_type": "stream",
     "text": [
      "EMA:24, X:28, PCT:0.1\n"
     ]
    },
    {
     "name": "stderr",
     "output_type": "stream",
     "text": [
      "/tmp/ipykernel_36223/3149794742.py:132: FutureWarning: Setting an item of incompatible dtype is deprecated and will raise an error in a future version of pandas. Value 'Trailing SL Hit' has dtype incompatible with float64, please explicitly cast to a compatible dtype first.\n",
      "  tradebook_long.loc[\n"
     ]
    },
    {
     "name": "stdout",
     "output_type": "stream",
     "text": [
      "EMA:24, X:30, PCT:0.1\n"
     ]
    },
    {
     "name": "stderr",
     "output_type": "stream",
     "text": [
      "/tmp/ipykernel_36223/3149794742.py:132: FutureWarning: Setting an item of incompatible dtype is deprecated and will raise an error in a future version of pandas. Value 'Trailing SL Hit' has dtype incompatible with float64, please explicitly cast to a compatible dtype first.\n",
      "  tradebook_long.loc[\n"
     ]
    },
    {
     "name": "stdout",
     "output_type": "stream",
     "text": [
      "EMA:24, X:32, PCT:0.1\n"
     ]
    },
    {
     "name": "stderr",
     "output_type": "stream",
     "text": [
      "/tmp/ipykernel_36223/3149794742.py:132: FutureWarning: Setting an item of incompatible dtype is deprecated and will raise an error in a future version of pandas. Value 'Trailing SL Hit' has dtype incompatible with float64, please explicitly cast to a compatible dtype first.\n",
      "  tradebook_long.loc[\n"
     ]
    },
    {
     "name": "stdout",
     "output_type": "stream",
     "text": [
      "EMA:24, X:34, PCT:0.1\n"
     ]
    },
    {
     "name": "stderr",
     "output_type": "stream",
     "text": [
      "/tmp/ipykernel_36223/3149794742.py:132: FutureWarning: Setting an item of incompatible dtype is deprecated and will raise an error in a future version of pandas. Value 'Trailing SL Hit' has dtype incompatible with float64, please explicitly cast to a compatible dtype first.\n",
      "  tradebook_long.loc[\n"
     ]
    },
    {
     "name": "stdout",
     "output_type": "stream",
     "text": [
      "EMA:24, X:36, PCT:0.1\n"
     ]
    },
    {
     "name": "stderr",
     "output_type": "stream",
     "text": [
      "/tmp/ipykernel_36223/3149794742.py:132: FutureWarning: Setting an item of incompatible dtype is deprecated and will raise an error in a future version of pandas. Value 'Trailing SL Hit' has dtype incompatible with float64, please explicitly cast to a compatible dtype first.\n",
      "  tradebook_long.loc[\n"
     ]
    },
    {
     "name": "stdout",
     "output_type": "stream",
     "text": [
      "EMA:26, X:4, PCT:0.1\n"
     ]
    },
    {
     "name": "stderr",
     "output_type": "stream",
     "text": [
      "/tmp/ipykernel_36223/3149794742.py:132: FutureWarning: Setting an item of incompatible dtype is deprecated and will raise an error in a future version of pandas. Value 'Trailing SL Hit' has dtype incompatible with float64, please explicitly cast to a compatible dtype first.\n",
      "  tradebook_long.loc[\n"
     ]
    },
    {
     "name": "stdout",
     "output_type": "stream",
     "text": [
      "EMA:26, X:6, PCT:0.1\n"
     ]
    },
    {
     "name": "stderr",
     "output_type": "stream",
     "text": [
      "/tmp/ipykernel_36223/3149794742.py:132: FutureWarning: Setting an item of incompatible dtype is deprecated and will raise an error in a future version of pandas. Value 'Trailing SL Hit' has dtype incompatible with float64, please explicitly cast to a compatible dtype first.\n",
      "  tradebook_long.loc[\n"
     ]
    },
    {
     "name": "stdout",
     "output_type": "stream",
     "text": [
      "EMA:26, X:8, PCT:0.1\n"
     ]
    },
    {
     "name": "stderr",
     "output_type": "stream",
     "text": [
      "/tmp/ipykernel_36223/3149794742.py:132: FutureWarning: Setting an item of incompatible dtype is deprecated and will raise an error in a future version of pandas. Value 'Trailing SL Hit' has dtype incompatible with float64, please explicitly cast to a compatible dtype first.\n",
      "  tradebook_long.loc[\n"
     ]
    },
    {
     "name": "stdout",
     "output_type": "stream",
     "text": [
      "EMA:26, X:10, PCT:0.1\n"
     ]
    },
    {
     "name": "stderr",
     "output_type": "stream",
     "text": [
      "/tmp/ipykernel_36223/3149794742.py:132: FutureWarning: Setting an item of incompatible dtype is deprecated and will raise an error in a future version of pandas. Value 'Trailing SL Hit' has dtype incompatible with float64, please explicitly cast to a compatible dtype first.\n",
      "  tradebook_long.loc[\n"
     ]
    },
    {
     "name": "stdout",
     "output_type": "stream",
     "text": [
      "EMA:26, X:12, PCT:0.1\n"
     ]
    },
    {
     "name": "stderr",
     "output_type": "stream",
     "text": [
      "/tmp/ipykernel_36223/3149794742.py:132: FutureWarning: Setting an item of incompatible dtype is deprecated and will raise an error in a future version of pandas. Value 'Trailing SL Hit' has dtype incompatible with float64, please explicitly cast to a compatible dtype first.\n",
      "  tradebook_long.loc[\n"
     ]
    },
    {
     "name": "stdout",
     "output_type": "stream",
     "text": [
      "EMA:26, X:14, PCT:0.1\n"
     ]
    },
    {
     "name": "stderr",
     "output_type": "stream",
     "text": [
      "/tmp/ipykernel_36223/3149794742.py:132: FutureWarning: Setting an item of incompatible dtype is deprecated and will raise an error in a future version of pandas. Value 'Trailing SL Hit' has dtype incompatible with float64, please explicitly cast to a compatible dtype first.\n",
      "  tradebook_long.loc[\n"
     ]
    },
    {
     "name": "stdout",
     "output_type": "stream",
     "text": [
      "EMA:26, X:16, PCT:0.1\n"
     ]
    },
    {
     "name": "stderr",
     "output_type": "stream",
     "text": [
      "/tmp/ipykernel_36223/3149794742.py:132: FutureWarning: Setting an item of incompatible dtype is deprecated and will raise an error in a future version of pandas. Value 'Trailing SL Hit' has dtype incompatible with float64, please explicitly cast to a compatible dtype first.\n",
      "  tradebook_long.loc[\n"
     ]
    },
    {
     "name": "stdout",
     "output_type": "stream",
     "text": [
      "EMA:26, X:18, PCT:0.1\n"
     ]
    },
    {
     "name": "stderr",
     "output_type": "stream",
     "text": [
      "/tmp/ipykernel_36223/3149794742.py:132: FutureWarning: Setting an item of incompatible dtype is deprecated and will raise an error in a future version of pandas. Value 'Trailing SL Hit' has dtype incompatible with float64, please explicitly cast to a compatible dtype first.\n",
      "  tradebook_long.loc[\n"
     ]
    },
    {
     "name": "stdout",
     "output_type": "stream",
     "text": [
      "EMA:26, X:20, PCT:0.1\n"
     ]
    },
    {
     "name": "stderr",
     "output_type": "stream",
     "text": [
      "/tmp/ipykernel_36223/3149794742.py:132: FutureWarning: Setting an item of incompatible dtype is deprecated and will raise an error in a future version of pandas. Value 'Trailing SL Hit' has dtype incompatible with float64, please explicitly cast to a compatible dtype first.\n",
      "  tradebook_long.loc[\n"
     ]
    },
    {
     "name": "stdout",
     "output_type": "stream",
     "text": [
      "EMA:26, X:22, PCT:0.1\n"
     ]
    },
    {
     "name": "stderr",
     "output_type": "stream",
     "text": [
      "/tmp/ipykernel_36223/3149794742.py:132: FutureWarning: Setting an item of incompatible dtype is deprecated and will raise an error in a future version of pandas. Value 'Trailing SL Hit' has dtype incompatible with float64, please explicitly cast to a compatible dtype first.\n",
      "  tradebook_long.loc[\n"
     ]
    },
    {
     "name": "stdout",
     "output_type": "stream",
     "text": [
      "EMA:26, X:24, PCT:0.1\n"
     ]
    },
    {
     "name": "stderr",
     "output_type": "stream",
     "text": [
      "/tmp/ipykernel_36223/3149794742.py:132: FutureWarning: Setting an item of incompatible dtype is deprecated and will raise an error in a future version of pandas. Value 'Trailing SL Hit' has dtype incompatible with float64, please explicitly cast to a compatible dtype first.\n",
      "  tradebook_long.loc[\n"
     ]
    },
    {
     "name": "stdout",
     "output_type": "stream",
     "text": [
      "EMA:26, X:26, PCT:0.1\n"
     ]
    },
    {
     "name": "stderr",
     "output_type": "stream",
     "text": [
      "/tmp/ipykernel_36223/3149794742.py:132: FutureWarning: Setting an item of incompatible dtype is deprecated and will raise an error in a future version of pandas. Value 'Trailing SL Hit' has dtype incompatible with float64, please explicitly cast to a compatible dtype first.\n",
      "  tradebook_long.loc[\n"
     ]
    },
    {
     "name": "stdout",
     "output_type": "stream",
     "text": [
      "EMA:26, X:28, PCT:0.1\n"
     ]
    },
    {
     "name": "stderr",
     "output_type": "stream",
     "text": [
      "/tmp/ipykernel_36223/3149794742.py:132: FutureWarning: Setting an item of incompatible dtype is deprecated and will raise an error in a future version of pandas. Value 'Trailing SL Hit' has dtype incompatible with float64, please explicitly cast to a compatible dtype first.\n",
      "  tradebook_long.loc[\n"
     ]
    },
    {
     "name": "stdout",
     "output_type": "stream",
     "text": [
      "EMA:26, X:30, PCT:0.1\n"
     ]
    },
    {
     "name": "stderr",
     "output_type": "stream",
     "text": [
      "/tmp/ipykernel_36223/3149794742.py:132: FutureWarning: Setting an item of incompatible dtype is deprecated and will raise an error in a future version of pandas. Value 'Trailing SL Hit' has dtype incompatible with float64, please explicitly cast to a compatible dtype first.\n",
      "  tradebook_long.loc[\n"
     ]
    },
    {
     "name": "stdout",
     "output_type": "stream",
     "text": [
      "EMA:26, X:32, PCT:0.1\n"
     ]
    },
    {
     "name": "stderr",
     "output_type": "stream",
     "text": [
      "/tmp/ipykernel_36223/3149794742.py:132: FutureWarning: Setting an item of incompatible dtype is deprecated and will raise an error in a future version of pandas. Value 'Trailing SL Hit' has dtype incompatible with float64, please explicitly cast to a compatible dtype first.\n",
      "  tradebook_long.loc[\n"
     ]
    },
    {
     "name": "stdout",
     "output_type": "stream",
     "text": [
      "EMA:26, X:34, PCT:0.1\n"
     ]
    },
    {
     "name": "stderr",
     "output_type": "stream",
     "text": [
      "/tmp/ipykernel_36223/3149794742.py:132: FutureWarning: Setting an item of incompatible dtype is deprecated and will raise an error in a future version of pandas. Value 'Trailing SL Hit' has dtype incompatible with float64, please explicitly cast to a compatible dtype first.\n",
      "  tradebook_long.loc[\n"
     ]
    },
    {
     "name": "stdout",
     "output_type": "stream",
     "text": [
      "EMA:26, X:36, PCT:0.1\n"
     ]
    },
    {
     "name": "stderr",
     "output_type": "stream",
     "text": [
      "/tmp/ipykernel_36223/3149794742.py:132: FutureWarning: Setting an item of incompatible dtype is deprecated and will raise an error in a future version of pandas. Value 'Trailing SL Hit' has dtype incompatible with float64, please explicitly cast to a compatible dtype first.\n",
      "  tradebook_long.loc[\n"
     ]
    },
    {
     "name": "stdout",
     "output_type": "stream",
     "text": [
      "EMA:28, X:4, PCT:0.1\n"
     ]
    },
    {
     "name": "stderr",
     "output_type": "stream",
     "text": [
      "/tmp/ipykernel_36223/3149794742.py:132: FutureWarning: Setting an item of incompatible dtype is deprecated and will raise an error in a future version of pandas. Value 'Trailing SL Hit' has dtype incompatible with float64, please explicitly cast to a compatible dtype first.\n",
      "  tradebook_long.loc[\n"
     ]
    },
    {
     "name": "stdout",
     "output_type": "stream",
     "text": [
      "EMA:28, X:6, PCT:0.1\n"
     ]
    },
    {
     "name": "stderr",
     "output_type": "stream",
     "text": [
      "/tmp/ipykernel_36223/3149794742.py:132: FutureWarning: Setting an item of incompatible dtype is deprecated and will raise an error in a future version of pandas. Value 'Trailing SL Hit' has dtype incompatible with float64, please explicitly cast to a compatible dtype first.\n",
      "  tradebook_long.loc[\n"
     ]
    },
    {
     "name": "stdout",
     "output_type": "stream",
     "text": [
      "EMA:28, X:8, PCT:0.1\n"
     ]
    },
    {
     "name": "stderr",
     "output_type": "stream",
     "text": [
      "/tmp/ipykernel_36223/3149794742.py:132: FutureWarning: Setting an item of incompatible dtype is deprecated and will raise an error in a future version of pandas. Value 'Trailing SL Hit' has dtype incompatible with float64, please explicitly cast to a compatible dtype first.\n",
      "  tradebook_long.loc[\n"
     ]
    },
    {
     "name": "stdout",
     "output_type": "stream",
     "text": [
      "EMA:28, X:10, PCT:0.1\n"
     ]
    },
    {
     "name": "stderr",
     "output_type": "stream",
     "text": [
      "/tmp/ipykernel_36223/3149794742.py:132: FutureWarning: Setting an item of incompatible dtype is deprecated and will raise an error in a future version of pandas. Value 'Trailing SL Hit' has dtype incompatible with float64, please explicitly cast to a compatible dtype first.\n",
      "  tradebook_long.loc[\n"
     ]
    },
    {
     "name": "stdout",
     "output_type": "stream",
     "text": [
      "EMA:28, X:12, PCT:0.1\n"
     ]
    },
    {
     "name": "stderr",
     "output_type": "stream",
     "text": [
      "/tmp/ipykernel_36223/3149794742.py:132: FutureWarning: Setting an item of incompatible dtype is deprecated and will raise an error in a future version of pandas. Value 'Trailing SL Hit' has dtype incompatible with float64, please explicitly cast to a compatible dtype first.\n",
      "  tradebook_long.loc[\n"
     ]
    },
    {
     "name": "stdout",
     "output_type": "stream",
     "text": [
      "        Total ROI Total Trades Win Rate Avg Profit% per Trade Avg Loss% per Trade Max Drawdown ROI/DD Ratio              Variation\n",
      "2017            0            0      NaN                   NaN                 NaN          NaN          NaN  EMA:28, X:12, PCT:0.1\n",
      "2018     116.1158           92  32.6087                7.6870             -1.8467     -26.8720       4.3211  EMA:28, X:12, PCT:0.1\n",
      "2019     141.8728           94  32.9787                8.0459             -1.7071     -26.5683       5.3399  EMA:28, X:12, PCT:0.1\n",
      "2020     137.5795           99  27.2727                9.3594             -1.5989     -15.7244       8.7494  EMA:28, X:12, PCT:0.1\n",
      "2021     120.2094          108  32.4074                6.8092             -1.6180     -33.8077       3.5557  EMA:28, X:12, PCT:0.1\n",
      "2022     107.4590           89  35.9551                6.0951             -1.5365     -23.2766       4.6166  EMA:28, X:12, PCT:0.1\n",
      "2023     113.0764          102  28.4314                7.5402             -1.4464     -24.0759       4.6967  EMA:28, X:12, PCT:0.1\n",
      "2024      79.0321           85  30.5882                7.7316             -2.1033     -27.8296       2.8399  EMA:28, X:12, PCT:0.1\n",
      "Overall  815.3450          669  31.3901                7.5514             -1.6822     -33.8077      24.1171  EMA:28, X:12, PCT:0.1\n",
      "EMA:28, X:14, PCT:0.1\n"
     ]
    },
    {
     "name": "stderr",
     "output_type": "stream",
     "text": [
      "/tmp/ipykernel_36223/3149794742.py:132: FutureWarning: Setting an item of incompatible dtype is deprecated and will raise an error in a future version of pandas. Value 'Trailing SL Hit' has dtype incompatible with float64, please explicitly cast to a compatible dtype first.\n",
      "  tradebook_long.loc[\n"
     ]
    },
    {
     "name": "stdout",
     "output_type": "stream",
     "text": [
      "EMA:28, X:16, PCT:0.1\n"
     ]
    },
    {
     "name": "stderr",
     "output_type": "stream",
     "text": [
      "/tmp/ipykernel_36223/3149794742.py:132: FutureWarning: Setting an item of incompatible dtype is deprecated and will raise an error in a future version of pandas. Value 'Trailing SL Hit' has dtype incompatible with float64, please explicitly cast to a compatible dtype first.\n",
      "  tradebook_long.loc[\n"
     ]
    },
    {
     "name": "stdout",
     "output_type": "stream",
     "text": [
      "EMA:28, X:18, PCT:0.1\n"
     ]
    },
    {
     "name": "stderr",
     "output_type": "stream",
     "text": [
      "/tmp/ipykernel_36223/3149794742.py:132: FutureWarning: Setting an item of incompatible dtype is deprecated and will raise an error in a future version of pandas. Value 'Trailing SL Hit' has dtype incompatible with float64, please explicitly cast to a compatible dtype first.\n",
      "  tradebook_long.loc[\n"
     ]
    },
    {
     "name": "stdout",
     "output_type": "stream",
     "text": [
      "EMA:28, X:20, PCT:0.1\n"
     ]
    },
    {
     "name": "stderr",
     "output_type": "stream",
     "text": [
      "/tmp/ipykernel_36223/3149794742.py:132: FutureWarning: Setting an item of incompatible dtype is deprecated and will raise an error in a future version of pandas. Value 'Trailing SL Hit' has dtype incompatible with float64, please explicitly cast to a compatible dtype first.\n",
      "  tradebook_long.loc[\n"
     ]
    },
    {
     "name": "stdout",
     "output_type": "stream",
     "text": [
      "EMA:28, X:22, PCT:0.1\n"
     ]
    },
    {
     "name": "stderr",
     "output_type": "stream",
     "text": [
      "/tmp/ipykernel_36223/3149794742.py:132: FutureWarning: Setting an item of incompatible dtype is deprecated and will raise an error in a future version of pandas. Value 'Trailing SL Hit' has dtype incompatible with float64, please explicitly cast to a compatible dtype first.\n",
      "  tradebook_long.loc[\n"
     ]
    },
    {
     "name": "stdout",
     "output_type": "stream",
     "text": [
      "EMA:28, X:24, PCT:0.1\n"
     ]
    },
    {
     "name": "stderr",
     "output_type": "stream",
     "text": [
      "/tmp/ipykernel_36223/3149794742.py:132: FutureWarning: Setting an item of incompatible dtype is deprecated and will raise an error in a future version of pandas. Value 'Trailing SL Hit' has dtype incompatible with float64, please explicitly cast to a compatible dtype first.\n",
      "  tradebook_long.loc[\n"
     ]
    },
    {
     "name": "stdout",
     "output_type": "stream",
     "text": [
      "EMA:28, X:26, PCT:0.1\n"
     ]
    },
    {
     "name": "stderr",
     "output_type": "stream",
     "text": [
      "/tmp/ipykernel_36223/3149794742.py:132: FutureWarning: Setting an item of incompatible dtype is deprecated and will raise an error in a future version of pandas. Value 'Trailing SL Hit' has dtype incompatible with float64, please explicitly cast to a compatible dtype first.\n",
      "  tradebook_long.loc[\n"
     ]
    },
    {
     "name": "stdout",
     "output_type": "stream",
     "text": [
      "EMA:28, X:28, PCT:0.1\n"
     ]
    },
    {
     "name": "stderr",
     "output_type": "stream",
     "text": [
      "/tmp/ipykernel_36223/3149794742.py:132: FutureWarning: Setting an item of incompatible dtype is deprecated and will raise an error in a future version of pandas. Value 'Trailing SL Hit' has dtype incompatible with float64, please explicitly cast to a compatible dtype first.\n",
      "  tradebook_long.loc[\n"
     ]
    },
    {
     "name": "stdout",
     "output_type": "stream",
     "text": [
      "EMA:28, X:30, PCT:0.1\n"
     ]
    },
    {
     "name": "stderr",
     "output_type": "stream",
     "text": [
      "/tmp/ipykernel_36223/3149794742.py:132: FutureWarning: Setting an item of incompatible dtype is deprecated and will raise an error in a future version of pandas. Value 'Trailing SL Hit' has dtype incompatible with float64, please explicitly cast to a compatible dtype first.\n",
      "  tradebook_long.loc[\n"
     ]
    },
    {
     "name": "stdout",
     "output_type": "stream",
     "text": [
      "EMA:28, X:32, PCT:0.1\n"
     ]
    },
    {
     "name": "stderr",
     "output_type": "stream",
     "text": [
      "/tmp/ipykernel_36223/3149794742.py:132: FutureWarning: Setting an item of incompatible dtype is deprecated and will raise an error in a future version of pandas. Value 'Trailing SL Hit' has dtype incompatible with float64, please explicitly cast to a compatible dtype first.\n",
      "  tradebook_long.loc[\n"
     ]
    },
    {
     "name": "stdout",
     "output_type": "stream",
     "text": [
      "EMA:28, X:34, PCT:0.1\n"
     ]
    },
    {
     "name": "stderr",
     "output_type": "stream",
     "text": [
      "/tmp/ipykernel_36223/3149794742.py:132: FutureWarning: Setting an item of incompatible dtype is deprecated and will raise an error in a future version of pandas. Value 'Trailing SL Hit' has dtype incompatible with float64, please explicitly cast to a compatible dtype first.\n",
      "  tradebook_long.loc[\n"
     ]
    },
    {
     "name": "stdout",
     "output_type": "stream",
     "text": [
      "EMA:28, X:36, PCT:0.1\n"
     ]
    },
    {
     "name": "stderr",
     "output_type": "stream",
     "text": [
      "/tmp/ipykernel_36223/3149794742.py:132: FutureWarning: Setting an item of incompatible dtype is deprecated and will raise an error in a future version of pandas. Value 'Trailing SL Hit' has dtype incompatible with float64, please explicitly cast to a compatible dtype first.\n",
      "  tradebook_long.loc[\n"
     ]
    },
    {
     "name": "stdout",
     "output_type": "stream",
     "text": [
      "EMA:30, X:4, PCT:0.1\n"
     ]
    },
    {
     "name": "stderr",
     "output_type": "stream",
     "text": [
      "/tmp/ipykernel_36223/3149794742.py:132: FutureWarning: Setting an item of incompatible dtype is deprecated and will raise an error in a future version of pandas. Value 'Trailing SL Hit' has dtype incompatible with float64, please explicitly cast to a compatible dtype first.\n",
      "  tradebook_long.loc[\n"
     ]
    },
    {
     "name": "stdout",
     "output_type": "stream",
     "text": [
      "EMA:30, X:6, PCT:0.1\n"
     ]
    },
    {
     "name": "stderr",
     "output_type": "stream",
     "text": [
      "/tmp/ipykernel_36223/3149794742.py:132: FutureWarning: Setting an item of incompatible dtype is deprecated and will raise an error in a future version of pandas. Value 'Trailing SL Hit' has dtype incompatible with float64, please explicitly cast to a compatible dtype first.\n",
      "  tradebook_long.loc[\n"
     ]
    },
    {
     "name": "stdout",
     "output_type": "stream",
     "text": [
      "EMA:30, X:8, PCT:0.1\n"
     ]
    },
    {
     "name": "stderr",
     "output_type": "stream",
     "text": [
      "/tmp/ipykernel_36223/3149794742.py:132: FutureWarning: Setting an item of incompatible dtype is deprecated and will raise an error in a future version of pandas. Value 'Trailing SL Hit' has dtype incompatible with float64, please explicitly cast to a compatible dtype first.\n",
      "  tradebook_long.loc[\n"
     ]
    },
    {
     "name": "stdout",
     "output_type": "stream",
     "text": [
      "EMA:30, X:10, PCT:0.1\n"
     ]
    },
    {
     "name": "stderr",
     "output_type": "stream",
     "text": [
      "/tmp/ipykernel_36223/3149794742.py:132: FutureWarning: Setting an item of incompatible dtype is deprecated and will raise an error in a future version of pandas. Value 'Trailing SL Hit' has dtype incompatible with float64, please explicitly cast to a compatible dtype first.\n",
      "  tradebook_long.loc[\n"
     ]
    },
    {
     "name": "stdout",
     "output_type": "stream",
     "text": [
      "EMA:30, X:12, PCT:0.1\n"
     ]
    },
    {
     "name": "stderr",
     "output_type": "stream",
     "text": [
      "/tmp/ipykernel_36223/3149794742.py:132: FutureWarning: Setting an item of incompatible dtype is deprecated and will raise an error in a future version of pandas. Value 'Trailing SL Hit' has dtype incompatible with float64, please explicitly cast to a compatible dtype first.\n",
      "  tradebook_long.loc[\n"
     ]
    },
    {
     "name": "stdout",
     "output_type": "stream",
     "text": [
      "        Total ROI Total Trades Win Rate Avg Profit% per Trade Avg Loss% per Trade Max Drawdown ROI/DD Ratio              Variation\n",
      "2017            0            0      NaN                   NaN                 NaN          NaN          NaN  EMA:30, X:12, PCT:0.1\n",
      "2018     121.2198           88  32.9545                7.9235             -1.8400     -26.8720       4.5110  EMA:30, X:12, PCT:0.1\n",
      "2019     118.5810           90  31.1111                7.9983             -1.6995     -25.9381       4.5717  EMA:30, X:12, PCT:0.1\n",
      "2020     136.7375           94  27.6596                9.3533             -1.5654     -13.6357      10.0279  EMA:30, X:12, PCT:0.1\n",
      "2021     138.4237          107  32.7103                7.3225             -1.6370     -33.7097       4.1064  EMA:30, X:12, PCT:0.1\n",
      "2022     110.6122           86  36.0465                6.4123             -1.6031     -25.6726       4.3086  EMA:30, X:12, PCT:0.1\n",
      "2023     112.7566          106  26.4151                7.8510             -1.3727     -26.9470       4.1844  EMA:30, X:12, PCT:0.1\n",
      "2024      89.2053           82  30.4878                7.8101             -1.8937     -27.5012       3.2437  EMA:30, X:12, PCT:0.1\n",
      "Overall  827.5363          653  30.9342                7.7578             -1.6434     -33.7097      24.5489  EMA:30, X:12, PCT:0.1\n",
      "EMA:30, X:14, PCT:0.1\n"
     ]
    },
    {
     "name": "stderr",
     "output_type": "stream",
     "text": [
      "/tmp/ipykernel_36223/3149794742.py:132: FutureWarning: Setting an item of incompatible dtype is deprecated and will raise an error in a future version of pandas. Value 'Trailing SL Hit' has dtype incompatible with float64, please explicitly cast to a compatible dtype first.\n",
      "  tradebook_long.loc[\n"
     ]
    },
    {
     "name": "stdout",
     "output_type": "stream",
     "text": [
      "EMA:30, X:16, PCT:0.1\n"
     ]
    },
    {
     "name": "stderr",
     "output_type": "stream",
     "text": [
      "/tmp/ipykernel_36223/3149794742.py:132: FutureWarning: Setting an item of incompatible dtype is deprecated and will raise an error in a future version of pandas. Value 'Trailing SL Hit' has dtype incompatible with float64, please explicitly cast to a compatible dtype first.\n",
      "  tradebook_long.loc[\n"
     ]
    },
    {
     "name": "stdout",
     "output_type": "stream",
     "text": [
      "EMA:30, X:18, PCT:0.1\n"
     ]
    },
    {
     "name": "stderr",
     "output_type": "stream",
     "text": [
      "/tmp/ipykernel_36223/3149794742.py:132: FutureWarning: Setting an item of incompatible dtype is deprecated and will raise an error in a future version of pandas. Value 'Trailing SL Hit' has dtype incompatible with float64, please explicitly cast to a compatible dtype first.\n",
      "  tradebook_long.loc[\n"
     ]
    },
    {
     "name": "stdout",
     "output_type": "stream",
     "text": [
      "EMA:30, X:20, PCT:0.1\n"
     ]
    },
    {
     "name": "stderr",
     "output_type": "stream",
     "text": [
      "/tmp/ipykernel_36223/3149794742.py:132: FutureWarning: Setting an item of incompatible dtype is deprecated and will raise an error in a future version of pandas. Value 'Trailing SL Hit' has dtype incompatible with float64, please explicitly cast to a compatible dtype first.\n",
      "  tradebook_long.loc[\n"
     ]
    },
    {
     "name": "stdout",
     "output_type": "stream",
     "text": [
      "EMA:30, X:22, PCT:0.1\n"
     ]
    },
    {
     "name": "stderr",
     "output_type": "stream",
     "text": [
      "/tmp/ipykernel_36223/3149794742.py:132: FutureWarning: Setting an item of incompatible dtype is deprecated and will raise an error in a future version of pandas. Value 'Trailing SL Hit' has dtype incompatible with float64, please explicitly cast to a compatible dtype first.\n",
      "  tradebook_long.loc[\n"
     ]
    },
    {
     "name": "stdout",
     "output_type": "stream",
     "text": [
      "EMA:30, X:24, PCT:0.1\n"
     ]
    },
    {
     "name": "stderr",
     "output_type": "stream",
     "text": [
      "/tmp/ipykernel_36223/3149794742.py:132: FutureWarning: Setting an item of incompatible dtype is deprecated and will raise an error in a future version of pandas. Value 'Trailing SL Hit' has dtype incompatible with float64, please explicitly cast to a compatible dtype first.\n",
      "  tradebook_long.loc[\n"
     ]
    },
    {
     "name": "stdout",
     "output_type": "stream",
     "text": [
      "EMA:30, X:26, PCT:0.1\n"
     ]
    },
    {
     "name": "stderr",
     "output_type": "stream",
     "text": [
      "/tmp/ipykernel_36223/3149794742.py:132: FutureWarning: Setting an item of incompatible dtype is deprecated and will raise an error in a future version of pandas. Value 'Trailing SL Hit' has dtype incompatible with float64, please explicitly cast to a compatible dtype first.\n",
      "  tradebook_long.loc[\n"
     ]
    },
    {
     "name": "stdout",
     "output_type": "stream",
     "text": [
      "EMA:30, X:28, PCT:0.1\n"
     ]
    },
    {
     "name": "stderr",
     "output_type": "stream",
     "text": [
      "/tmp/ipykernel_36223/3149794742.py:132: FutureWarning: Setting an item of incompatible dtype is deprecated and will raise an error in a future version of pandas. Value 'Trailing SL Hit' has dtype incompatible with float64, please explicitly cast to a compatible dtype first.\n",
      "  tradebook_long.loc[\n"
     ]
    },
    {
     "name": "stdout",
     "output_type": "stream",
     "text": [
      "EMA:30, X:30, PCT:0.1\n"
     ]
    },
    {
     "name": "stderr",
     "output_type": "stream",
     "text": [
      "/tmp/ipykernel_36223/3149794742.py:132: FutureWarning: Setting an item of incompatible dtype is deprecated and will raise an error in a future version of pandas. Value 'Trailing SL Hit' has dtype incompatible with float64, please explicitly cast to a compatible dtype first.\n",
      "  tradebook_long.loc[\n"
     ]
    },
    {
     "name": "stdout",
     "output_type": "stream",
     "text": [
      "EMA:30, X:32, PCT:0.1\n"
     ]
    },
    {
     "name": "stderr",
     "output_type": "stream",
     "text": [
      "/tmp/ipykernel_36223/3149794742.py:132: FutureWarning: Setting an item of incompatible dtype is deprecated and will raise an error in a future version of pandas. Value 'Trailing SL Hit' has dtype incompatible with float64, please explicitly cast to a compatible dtype first.\n",
      "  tradebook_long.loc[\n"
     ]
    },
    {
     "name": "stdout",
     "output_type": "stream",
     "text": [
      "EMA:30, X:34, PCT:0.1\n"
     ]
    },
    {
     "name": "stderr",
     "output_type": "stream",
     "text": [
      "/tmp/ipykernel_36223/3149794742.py:132: FutureWarning: Setting an item of incompatible dtype is deprecated and will raise an error in a future version of pandas. Value 'Trailing SL Hit' has dtype incompatible with float64, please explicitly cast to a compatible dtype first.\n",
      "  tradebook_long.loc[\n"
     ]
    },
    {
     "name": "stdout",
     "output_type": "stream",
     "text": [
      "EMA:30, X:36, PCT:0.1\n"
     ]
    },
    {
     "name": "stderr",
     "output_type": "stream",
     "text": [
      "/tmp/ipykernel_36223/3149794742.py:132: FutureWarning: Setting an item of incompatible dtype is deprecated and will raise an error in a future version of pandas. Value 'Trailing SL Hit' has dtype incompatible with float64, please explicitly cast to a compatible dtype first.\n",
      "  tradebook_long.loc[\n"
     ]
    },
    {
     "name": "stdout",
     "output_type": "stream",
     "text": [
      "EMA:32, X:4, PCT:0.1\n"
     ]
    },
    {
     "name": "stderr",
     "output_type": "stream",
     "text": [
      "/tmp/ipykernel_36223/3149794742.py:132: FutureWarning: Setting an item of incompatible dtype is deprecated and will raise an error in a future version of pandas. Value 'Trailing SL Hit' has dtype incompatible with float64, please explicitly cast to a compatible dtype first.\n",
      "  tradebook_long.loc[\n"
     ]
    },
    {
     "name": "stdout",
     "output_type": "stream",
     "text": [
      "EMA:32, X:6, PCT:0.1\n"
     ]
    },
    {
     "name": "stderr",
     "output_type": "stream",
     "text": [
      "/tmp/ipykernel_36223/3149794742.py:132: FutureWarning: Setting an item of incompatible dtype is deprecated and will raise an error in a future version of pandas. Value 'Trailing SL Hit' has dtype incompatible with float64, please explicitly cast to a compatible dtype first.\n",
      "  tradebook_long.loc[\n"
     ]
    },
    {
     "name": "stdout",
     "output_type": "stream",
     "text": [
      "EMA:32, X:8, PCT:0.1\n"
     ]
    },
    {
     "name": "stderr",
     "output_type": "stream",
     "text": [
      "/tmp/ipykernel_36223/3149794742.py:132: FutureWarning: Setting an item of incompatible dtype is deprecated and will raise an error in a future version of pandas. Value 'Trailing SL Hit' has dtype incompatible with float64, please explicitly cast to a compatible dtype first.\n",
      "  tradebook_long.loc[\n"
     ]
    },
    {
     "name": "stdout",
     "output_type": "stream",
     "text": [
      "EMA:32, X:10, PCT:0.1\n"
     ]
    },
    {
     "name": "stderr",
     "output_type": "stream",
     "text": [
      "/tmp/ipykernel_36223/3149794742.py:132: FutureWarning: Setting an item of incompatible dtype is deprecated and will raise an error in a future version of pandas. Value 'Trailing SL Hit' has dtype incompatible with float64, please explicitly cast to a compatible dtype first.\n",
      "  tradebook_long.loc[\n"
     ]
    },
    {
     "name": "stdout",
     "output_type": "stream",
     "text": [
      "EMA:32, X:12, PCT:0.1\n"
     ]
    },
    {
     "name": "stderr",
     "output_type": "stream",
     "text": [
      "/tmp/ipykernel_36223/3149794742.py:132: FutureWarning: Setting an item of incompatible dtype is deprecated and will raise an error in a future version of pandas. Value 'Trailing SL Hit' has dtype incompatible with float64, please explicitly cast to a compatible dtype first.\n",
      "  tradebook_long.loc[\n"
     ]
    },
    {
     "name": "stdout",
     "output_type": "stream",
     "text": [
      "        Total ROI Total Trades Win Rate Avg Profit% per Trade Avg Loss% per Trade Max Drawdown ROI/DD Ratio              Variation\n",
      "2017            0            0      NaN                   NaN                 NaN          NaN          NaN  EMA:32, X:12, PCT:0.1\n",
      "2018     111.0723           87  31.0345                8.1887             -1.8337     -27.0214       4.1105  EMA:32, X:12, PCT:0.1\n",
      "2019     116.3384           88  31.8182                7.9506             -1.7713     -27.7500       4.1924  EMA:32, X:12, PCT:0.1\n",
      "2020     152.9428           90  30.0000                9.2294             -1.5278     -12.5619      12.1752  EMA:32, X:12, PCT:0.1\n",
      "2021     137.5594          104  32.6923                7.4757             -1.6659     -29.7828       4.6187  EMA:32, X:12, PCT:0.1\n",
      "2022      93.3687           84  36.9048                5.8853             -1.6807     -29.3147       3.1851  EMA:32, X:12, PCT:0.1\n",
      "2023     107.2741          100  26.0000                8.0798             -1.3892     -27.2822       3.9320  EMA:32, X:12, PCT:0.1\n",
      "2024      91.3841           81  30.8642                7.8869             -1.9234     -29.3067       3.1182  EMA:32, X:12, PCT:0.1\n",
      "Overall  809.9398          634  31.2303                7.7615             -1.6709     -29.7828      27.1949  EMA:32, X:12, PCT:0.1\n",
      "EMA:32, X:14, PCT:0.1\n"
     ]
    },
    {
     "name": "stderr",
     "output_type": "stream",
     "text": [
      "/tmp/ipykernel_36223/3149794742.py:132: FutureWarning: Setting an item of incompatible dtype is deprecated and will raise an error in a future version of pandas. Value 'Trailing SL Hit' has dtype incompatible with float64, please explicitly cast to a compatible dtype first.\n",
      "  tradebook_long.loc[\n"
     ]
    },
    {
     "name": "stdout",
     "output_type": "stream",
     "text": [
      "EMA:32, X:16, PCT:0.1\n"
     ]
    },
    {
     "name": "stderr",
     "output_type": "stream",
     "text": [
      "/tmp/ipykernel_36223/3149794742.py:132: FutureWarning: Setting an item of incompatible dtype is deprecated and will raise an error in a future version of pandas. Value 'Trailing SL Hit' has dtype incompatible with float64, please explicitly cast to a compatible dtype first.\n",
      "  tradebook_long.loc[\n"
     ]
    },
    {
     "name": "stdout",
     "output_type": "stream",
     "text": [
      "EMA:32, X:18, PCT:0.1\n"
     ]
    },
    {
     "name": "stderr",
     "output_type": "stream",
     "text": [
      "/tmp/ipykernel_36223/3149794742.py:132: FutureWarning: Setting an item of incompatible dtype is deprecated and will raise an error in a future version of pandas. Value 'Trailing SL Hit' has dtype incompatible with float64, please explicitly cast to a compatible dtype first.\n",
      "  tradebook_long.loc[\n"
     ]
    },
    {
     "name": "stdout",
     "output_type": "stream",
     "text": [
      "EMA:32, X:20, PCT:0.1\n"
     ]
    },
    {
     "name": "stderr",
     "output_type": "stream",
     "text": [
      "/tmp/ipykernel_36223/3149794742.py:132: FutureWarning: Setting an item of incompatible dtype is deprecated and will raise an error in a future version of pandas. Value 'Trailing SL Hit' has dtype incompatible with float64, please explicitly cast to a compatible dtype first.\n",
      "  tradebook_long.loc[\n"
     ]
    },
    {
     "name": "stdout",
     "output_type": "stream",
     "text": [
      "EMA:32, X:22, PCT:0.1\n"
     ]
    },
    {
     "name": "stderr",
     "output_type": "stream",
     "text": [
      "/tmp/ipykernel_36223/3149794742.py:132: FutureWarning: Setting an item of incompatible dtype is deprecated and will raise an error in a future version of pandas. Value 'Trailing SL Hit' has dtype incompatible with float64, please explicitly cast to a compatible dtype first.\n",
      "  tradebook_long.loc[\n"
     ]
    },
    {
     "name": "stdout",
     "output_type": "stream",
     "text": [
      "EMA:32, X:24, PCT:0.1\n"
     ]
    },
    {
     "name": "stderr",
     "output_type": "stream",
     "text": [
      "/tmp/ipykernel_36223/3149794742.py:132: FutureWarning: Setting an item of incompatible dtype is deprecated and will raise an error in a future version of pandas. Value 'Trailing SL Hit' has dtype incompatible with float64, please explicitly cast to a compatible dtype first.\n",
      "  tradebook_long.loc[\n"
     ]
    },
    {
     "name": "stdout",
     "output_type": "stream",
     "text": [
      "EMA:32, X:26, PCT:0.1\n"
     ]
    },
    {
     "name": "stderr",
     "output_type": "stream",
     "text": [
      "/tmp/ipykernel_36223/3149794742.py:132: FutureWarning: Setting an item of incompatible dtype is deprecated and will raise an error in a future version of pandas. Value 'Trailing SL Hit' has dtype incompatible with float64, please explicitly cast to a compatible dtype first.\n",
      "  tradebook_long.loc[\n"
     ]
    },
    {
     "name": "stdout",
     "output_type": "stream",
     "text": [
      "EMA:32, X:28, PCT:0.1\n"
     ]
    },
    {
     "name": "stderr",
     "output_type": "stream",
     "text": [
      "/tmp/ipykernel_36223/3149794742.py:132: FutureWarning: Setting an item of incompatible dtype is deprecated and will raise an error in a future version of pandas. Value 'Trailing SL Hit' has dtype incompatible with float64, please explicitly cast to a compatible dtype first.\n",
      "  tradebook_long.loc[\n"
     ]
    },
    {
     "name": "stdout",
     "output_type": "stream",
     "text": [
      "EMA:32, X:30, PCT:0.1\n"
     ]
    },
    {
     "name": "stderr",
     "output_type": "stream",
     "text": [
      "/tmp/ipykernel_36223/3149794742.py:132: FutureWarning: Setting an item of incompatible dtype is deprecated and will raise an error in a future version of pandas. Value 'Trailing SL Hit' has dtype incompatible with float64, please explicitly cast to a compatible dtype first.\n",
      "  tradebook_long.loc[\n"
     ]
    },
    {
     "name": "stdout",
     "output_type": "stream",
     "text": [
      "EMA:32, X:32, PCT:0.1\n"
     ]
    },
    {
     "name": "stderr",
     "output_type": "stream",
     "text": [
      "/tmp/ipykernel_36223/3149794742.py:132: FutureWarning: Setting an item of incompatible dtype is deprecated and will raise an error in a future version of pandas. Value 'Trailing SL Hit' has dtype incompatible with float64, please explicitly cast to a compatible dtype first.\n",
      "  tradebook_long.loc[\n"
     ]
    },
    {
     "name": "stdout",
     "output_type": "stream",
     "text": [
      "EMA:32, X:34, PCT:0.1\n"
     ]
    },
    {
     "name": "stderr",
     "output_type": "stream",
     "text": [
      "/tmp/ipykernel_36223/3149794742.py:132: FutureWarning: Setting an item of incompatible dtype is deprecated and will raise an error in a future version of pandas. Value 'Trailing SL Hit' has dtype incompatible with float64, please explicitly cast to a compatible dtype first.\n",
      "  tradebook_long.loc[\n"
     ]
    },
    {
     "name": "stdout",
     "output_type": "stream",
     "text": [
      "EMA:32, X:36, PCT:0.1\n"
     ]
    },
    {
     "name": "stderr",
     "output_type": "stream",
     "text": [
      "/tmp/ipykernel_36223/3149794742.py:132: FutureWarning: Setting an item of incompatible dtype is deprecated and will raise an error in a future version of pandas. Value 'Trailing SL Hit' has dtype incompatible with float64, please explicitly cast to a compatible dtype first.\n",
      "  tradebook_long.loc[\n"
     ]
    },
    {
     "name": "stdout",
     "output_type": "stream",
     "text": [
      "EMA:34, X:4, PCT:0.1\n"
     ]
    },
    {
     "name": "stderr",
     "output_type": "stream",
     "text": [
      "/tmp/ipykernel_36223/3149794742.py:132: FutureWarning: Setting an item of incompatible dtype is deprecated and will raise an error in a future version of pandas. Value 'Trailing SL Hit' has dtype incompatible with float64, please explicitly cast to a compatible dtype first.\n",
      "  tradebook_long.loc[\n"
     ]
    },
    {
     "name": "stdout",
     "output_type": "stream",
     "text": [
      "EMA:34, X:6, PCT:0.1\n"
     ]
    },
    {
     "name": "stderr",
     "output_type": "stream",
     "text": [
      "/tmp/ipykernel_36223/3149794742.py:132: FutureWarning: Setting an item of incompatible dtype is deprecated and will raise an error in a future version of pandas. Value 'Trailing SL Hit' has dtype incompatible with float64, please explicitly cast to a compatible dtype first.\n",
      "  tradebook_long.loc[\n"
     ]
    },
    {
     "name": "stdout",
     "output_type": "stream",
     "text": [
      "EMA:34, X:8, PCT:0.1\n"
     ]
    },
    {
     "name": "stderr",
     "output_type": "stream",
     "text": [
      "/tmp/ipykernel_36223/3149794742.py:132: FutureWarning: Setting an item of incompatible dtype is deprecated and will raise an error in a future version of pandas. Value 'Trailing SL Hit' has dtype incompatible with float64, please explicitly cast to a compatible dtype first.\n",
      "  tradebook_long.loc[\n"
     ]
    },
    {
     "name": "stdout",
     "output_type": "stream",
     "text": [
      "EMA:34, X:10, PCT:0.1\n"
     ]
    },
    {
     "name": "stderr",
     "output_type": "stream",
     "text": [
      "/tmp/ipykernel_36223/3149794742.py:132: FutureWarning: Setting an item of incompatible dtype is deprecated and will raise an error in a future version of pandas. Value 'Trailing SL Hit' has dtype incompatible with float64, please explicitly cast to a compatible dtype first.\n",
      "  tradebook_long.loc[\n"
     ]
    },
    {
     "name": "stdout",
     "output_type": "stream",
     "text": [
      "EMA:34, X:12, PCT:0.1\n"
     ]
    },
    {
     "name": "stderr",
     "output_type": "stream",
     "text": [
      "/tmp/ipykernel_36223/3149794742.py:132: FutureWarning: Setting an item of incompatible dtype is deprecated and will raise an error in a future version of pandas. Value 'Trailing SL Hit' has dtype incompatible with float64, please explicitly cast to a compatible dtype first.\n",
      "  tradebook_long.loc[\n"
     ]
    },
    {
     "name": "stdout",
     "output_type": "stream",
     "text": [
      "EMA:34, X:14, PCT:0.1\n"
     ]
    },
    {
     "name": "stderr",
     "output_type": "stream",
     "text": [
      "/tmp/ipykernel_36223/3149794742.py:132: FutureWarning: Setting an item of incompatible dtype is deprecated and will raise an error in a future version of pandas. Value 'Trailing SL Hit' has dtype incompatible with float64, please explicitly cast to a compatible dtype first.\n",
      "  tradebook_long.loc[\n"
     ]
    },
    {
     "name": "stdout",
     "output_type": "stream",
     "text": [
      "EMA:34, X:16, PCT:0.1\n"
     ]
    },
    {
     "name": "stderr",
     "output_type": "stream",
     "text": [
      "/tmp/ipykernel_36223/3149794742.py:132: FutureWarning: Setting an item of incompatible dtype is deprecated and will raise an error in a future version of pandas. Value 'Trailing SL Hit' has dtype incompatible with float64, please explicitly cast to a compatible dtype first.\n",
      "  tradebook_long.loc[\n"
     ]
    },
    {
     "name": "stdout",
     "output_type": "stream",
     "text": [
      "EMA:34, X:18, PCT:0.1\n"
     ]
    },
    {
     "name": "stderr",
     "output_type": "stream",
     "text": [
      "/tmp/ipykernel_36223/3149794742.py:132: FutureWarning: Setting an item of incompatible dtype is deprecated and will raise an error in a future version of pandas. Value 'Trailing SL Hit' has dtype incompatible with float64, please explicitly cast to a compatible dtype first.\n",
      "  tradebook_long.loc[\n"
     ]
    },
    {
     "name": "stdout",
     "output_type": "stream",
     "text": [
      "EMA:34, X:20, PCT:0.1\n"
     ]
    },
    {
     "name": "stderr",
     "output_type": "stream",
     "text": [
      "/tmp/ipykernel_36223/3149794742.py:132: FutureWarning: Setting an item of incompatible dtype is deprecated and will raise an error in a future version of pandas. Value 'Trailing SL Hit' has dtype incompatible with float64, please explicitly cast to a compatible dtype first.\n",
      "  tradebook_long.loc[\n"
     ]
    },
    {
     "name": "stdout",
     "output_type": "stream",
     "text": [
      "EMA:34, X:22, PCT:0.1\n"
     ]
    },
    {
     "name": "stderr",
     "output_type": "stream",
     "text": [
      "/tmp/ipykernel_36223/3149794742.py:132: FutureWarning: Setting an item of incompatible dtype is deprecated and will raise an error in a future version of pandas. Value 'Trailing SL Hit' has dtype incompatible with float64, please explicitly cast to a compatible dtype first.\n",
      "  tradebook_long.loc[\n"
     ]
    },
    {
     "name": "stdout",
     "output_type": "stream",
     "text": [
      "EMA:34, X:24, PCT:0.1\n"
     ]
    },
    {
     "name": "stderr",
     "output_type": "stream",
     "text": [
      "/tmp/ipykernel_36223/3149794742.py:132: FutureWarning: Setting an item of incompatible dtype is deprecated and will raise an error in a future version of pandas. Value 'Trailing SL Hit' has dtype incompatible with float64, please explicitly cast to a compatible dtype first.\n",
      "  tradebook_long.loc[\n"
     ]
    },
    {
     "name": "stdout",
     "output_type": "stream",
     "text": [
      "EMA:34, X:26, PCT:0.1\n"
     ]
    },
    {
     "name": "stderr",
     "output_type": "stream",
     "text": [
      "/tmp/ipykernel_36223/3149794742.py:132: FutureWarning: Setting an item of incompatible dtype is deprecated and will raise an error in a future version of pandas. Value 'Trailing SL Hit' has dtype incompatible with float64, please explicitly cast to a compatible dtype first.\n",
      "  tradebook_long.loc[\n"
     ]
    },
    {
     "name": "stdout",
     "output_type": "stream",
     "text": [
      "EMA:34, X:28, PCT:0.1\n"
     ]
    },
    {
     "name": "stderr",
     "output_type": "stream",
     "text": [
      "/tmp/ipykernel_36223/3149794742.py:132: FutureWarning: Setting an item of incompatible dtype is deprecated and will raise an error in a future version of pandas. Value 'Trailing SL Hit' has dtype incompatible with float64, please explicitly cast to a compatible dtype first.\n",
      "  tradebook_long.loc[\n"
     ]
    },
    {
     "name": "stdout",
     "output_type": "stream",
     "text": [
      "EMA:34, X:30, PCT:0.1\n"
     ]
    },
    {
     "name": "stderr",
     "output_type": "stream",
     "text": [
      "/tmp/ipykernel_36223/3149794742.py:132: FutureWarning: Setting an item of incompatible dtype is deprecated and will raise an error in a future version of pandas. Value 'Trailing SL Hit' has dtype incompatible with float64, please explicitly cast to a compatible dtype first.\n",
      "  tradebook_long.loc[\n"
     ]
    },
    {
     "name": "stdout",
     "output_type": "stream",
     "text": [
      "EMA:34, X:32, PCT:0.1\n"
     ]
    },
    {
     "name": "stderr",
     "output_type": "stream",
     "text": [
      "/tmp/ipykernel_36223/3149794742.py:132: FutureWarning: Setting an item of incompatible dtype is deprecated and will raise an error in a future version of pandas. Value 'Trailing SL Hit' has dtype incompatible with float64, please explicitly cast to a compatible dtype first.\n",
      "  tradebook_long.loc[\n"
     ]
    },
    {
     "name": "stdout",
     "output_type": "stream",
     "text": [
      "EMA:34, X:34, PCT:0.1\n"
     ]
    },
    {
     "name": "stderr",
     "output_type": "stream",
     "text": [
      "/tmp/ipykernel_36223/3149794742.py:132: FutureWarning: Setting an item of incompatible dtype is deprecated and will raise an error in a future version of pandas. Value 'Trailing SL Hit' has dtype incompatible with float64, please explicitly cast to a compatible dtype first.\n",
      "  tradebook_long.loc[\n"
     ]
    },
    {
     "name": "stdout",
     "output_type": "stream",
     "text": [
      "EMA:34, X:36, PCT:0.1\n"
     ]
    },
    {
     "name": "stderr",
     "output_type": "stream",
     "text": [
      "/tmp/ipykernel_36223/3149794742.py:132: FutureWarning: Setting an item of incompatible dtype is deprecated and will raise an error in a future version of pandas. Value 'Trailing SL Hit' has dtype incompatible with float64, please explicitly cast to a compatible dtype first.\n",
      "  tradebook_long.loc[\n"
     ]
    },
    {
     "name": "stdout",
     "output_type": "stream",
     "text": [
      "EMA:36, X:4, PCT:0.1\n"
     ]
    },
    {
     "name": "stderr",
     "output_type": "stream",
     "text": [
      "/tmp/ipykernel_36223/3149794742.py:132: FutureWarning: Setting an item of incompatible dtype is deprecated and will raise an error in a future version of pandas. Value 'Trailing SL Hit' has dtype incompatible with float64, please explicitly cast to a compatible dtype first.\n",
      "  tradebook_long.loc[\n"
     ]
    },
    {
     "name": "stdout",
     "output_type": "stream",
     "text": [
      "EMA:36, X:6, PCT:0.1\n"
     ]
    },
    {
     "name": "stderr",
     "output_type": "stream",
     "text": [
      "/tmp/ipykernel_36223/3149794742.py:132: FutureWarning: Setting an item of incompatible dtype is deprecated and will raise an error in a future version of pandas. Value 'Trailing SL Hit' has dtype incompatible with float64, please explicitly cast to a compatible dtype first.\n",
      "  tradebook_long.loc[\n"
     ]
    },
    {
     "name": "stdout",
     "output_type": "stream",
     "text": [
      "EMA:36, X:8, PCT:0.1\n"
     ]
    },
    {
     "name": "stderr",
     "output_type": "stream",
     "text": [
      "/tmp/ipykernel_36223/3149794742.py:132: FutureWarning: Setting an item of incompatible dtype is deprecated and will raise an error in a future version of pandas. Value 'Trailing SL Hit' has dtype incompatible with float64, please explicitly cast to a compatible dtype first.\n",
      "  tradebook_long.loc[\n"
     ]
    },
    {
     "name": "stdout",
     "output_type": "stream",
     "text": [
      "EMA:36, X:10, PCT:0.1\n"
     ]
    },
    {
     "name": "stderr",
     "output_type": "stream",
     "text": [
      "/tmp/ipykernel_36223/3149794742.py:132: FutureWarning: Setting an item of incompatible dtype is deprecated and will raise an error in a future version of pandas. Value 'Trailing SL Hit' has dtype incompatible with float64, please explicitly cast to a compatible dtype first.\n",
      "  tradebook_long.loc[\n"
     ]
    },
    {
     "name": "stdout",
     "output_type": "stream",
     "text": [
      "EMA:36, X:12, PCT:0.1\n"
     ]
    },
    {
     "name": "stderr",
     "output_type": "stream",
     "text": [
      "/tmp/ipykernel_36223/3149794742.py:132: FutureWarning: Setting an item of incompatible dtype is deprecated and will raise an error in a future version of pandas. Value 'Trailing SL Hit' has dtype incompatible with float64, please explicitly cast to a compatible dtype first.\n",
      "  tradebook_long.loc[\n"
     ]
    },
    {
     "name": "stdout",
     "output_type": "stream",
     "text": [
      "EMA:36, X:14, PCT:0.1\n"
     ]
    },
    {
     "name": "stderr",
     "output_type": "stream",
     "text": [
      "/tmp/ipykernel_36223/3149794742.py:132: FutureWarning: Setting an item of incompatible dtype is deprecated and will raise an error in a future version of pandas. Value 'Trailing SL Hit' has dtype incompatible with float64, please explicitly cast to a compatible dtype first.\n",
      "  tradebook_long.loc[\n"
     ]
    },
    {
     "name": "stdout",
     "output_type": "stream",
     "text": [
      "EMA:36, X:16, PCT:0.1\n"
     ]
    },
    {
     "name": "stderr",
     "output_type": "stream",
     "text": [
      "/tmp/ipykernel_36223/3149794742.py:132: FutureWarning: Setting an item of incompatible dtype is deprecated and will raise an error in a future version of pandas. Value 'Trailing SL Hit' has dtype incompatible with float64, please explicitly cast to a compatible dtype first.\n",
      "  tradebook_long.loc[\n"
     ]
    },
    {
     "name": "stdout",
     "output_type": "stream",
     "text": [
      "EMA:36, X:18, PCT:0.1\n"
     ]
    },
    {
     "name": "stderr",
     "output_type": "stream",
     "text": [
      "/tmp/ipykernel_36223/3149794742.py:132: FutureWarning: Setting an item of incompatible dtype is deprecated and will raise an error in a future version of pandas. Value 'Trailing SL Hit' has dtype incompatible with float64, please explicitly cast to a compatible dtype first.\n",
      "  tradebook_long.loc[\n"
     ]
    },
    {
     "name": "stdout",
     "output_type": "stream",
     "text": [
      "EMA:36, X:20, PCT:0.1\n"
     ]
    },
    {
     "name": "stderr",
     "output_type": "stream",
     "text": [
      "/tmp/ipykernel_36223/3149794742.py:132: FutureWarning: Setting an item of incompatible dtype is deprecated and will raise an error in a future version of pandas. Value 'Trailing SL Hit' has dtype incompatible with float64, please explicitly cast to a compatible dtype first.\n",
      "  tradebook_long.loc[\n"
     ]
    },
    {
     "name": "stdout",
     "output_type": "stream",
     "text": [
      "EMA:36, X:22, PCT:0.1\n"
     ]
    },
    {
     "name": "stderr",
     "output_type": "stream",
     "text": [
      "/tmp/ipykernel_36223/3149794742.py:132: FutureWarning: Setting an item of incompatible dtype is deprecated and will raise an error in a future version of pandas. Value 'Trailing SL Hit' has dtype incompatible with float64, please explicitly cast to a compatible dtype first.\n",
      "  tradebook_long.loc[\n"
     ]
    },
    {
     "name": "stdout",
     "output_type": "stream",
     "text": [
      "EMA:36, X:24, PCT:0.1\n"
     ]
    },
    {
     "name": "stderr",
     "output_type": "stream",
     "text": [
      "/tmp/ipykernel_36223/3149794742.py:132: FutureWarning: Setting an item of incompatible dtype is deprecated and will raise an error in a future version of pandas. Value 'Trailing SL Hit' has dtype incompatible with float64, please explicitly cast to a compatible dtype first.\n",
      "  tradebook_long.loc[\n"
     ]
    },
    {
     "name": "stdout",
     "output_type": "stream",
     "text": [
      "EMA:36, X:26, PCT:0.1\n"
     ]
    },
    {
     "name": "stderr",
     "output_type": "stream",
     "text": [
      "/tmp/ipykernel_36223/3149794742.py:132: FutureWarning: Setting an item of incompatible dtype is deprecated and will raise an error in a future version of pandas. Value 'Trailing SL Hit' has dtype incompatible with float64, please explicitly cast to a compatible dtype first.\n",
      "  tradebook_long.loc[\n"
     ]
    },
    {
     "name": "stdout",
     "output_type": "stream",
     "text": [
      "EMA:36, X:28, PCT:0.1\n"
     ]
    },
    {
     "name": "stderr",
     "output_type": "stream",
     "text": [
      "/tmp/ipykernel_36223/3149794742.py:132: FutureWarning: Setting an item of incompatible dtype is deprecated and will raise an error in a future version of pandas. Value 'Trailing SL Hit' has dtype incompatible with float64, please explicitly cast to a compatible dtype first.\n",
      "  tradebook_long.loc[\n"
     ]
    },
    {
     "name": "stdout",
     "output_type": "stream",
     "text": [
      "EMA:36, X:30, PCT:0.1\n"
     ]
    },
    {
     "name": "stderr",
     "output_type": "stream",
     "text": [
      "/tmp/ipykernel_36223/3149794742.py:132: FutureWarning: Setting an item of incompatible dtype is deprecated and will raise an error in a future version of pandas. Value 'Trailing SL Hit' has dtype incompatible with float64, please explicitly cast to a compatible dtype first.\n",
      "  tradebook_long.loc[\n"
     ]
    },
    {
     "name": "stdout",
     "output_type": "stream",
     "text": [
      "EMA:36, X:32, PCT:0.1\n"
     ]
    },
    {
     "name": "stderr",
     "output_type": "stream",
     "text": [
      "/tmp/ipykernel_36223/3149794742.py:132: FutureWarning: Setting an item of incompatible dtype is deprecated and will raise an error in a future version of pandas. Value 'Trailing SL Hit' has dtype incompatible with float64, please explicitly cast to a compatible dtype first.\n",
      "  tradebook_long.loc[\n"
     ]
    },
    {
     "name": "stdout",
     "output_type": "stream",
     "text": [
      "EMA:36, X:34, PCT:0.1\n"
     ]
    },
    {
     "name": "stderr",
     "output_type": "stream",
     "text": [
      "/tmp/ipykernel_36223/3149794742.py:132: FutureWarning: Setting an item of incompatible dtype is deprecated and will raise an error in a future version of pandas. Value 'Trailing SL Hit' has dtype incompatible with float64, please explicitly cast to a compatible dtype first.\n",
      "  tradebook_long.loc[\n"
     ]
    },
    {
     "name": "stdout",
     "output_type": "stream",
     "text": [
      "EMA:36, X:36, PCT:0.1\n"
     ]
    },
    {
     "name": "stderr",
     "output_type": "stream",
     "text": [
      "/tmp/ipykernel_36223/3149794742.py:132: FutureWarning: Setting an item of incompatible dtype is deprecated and will raise an error in a future version of pandas. Value 'Trailing SL Hit' has dtype incompatible with float64, please explicitly cast to a compatible dtype first.\n",
      "  tradebook_long.loc[\n"
     ]
    },
    {
     "name": "stdout",
     "output_type": "stream",
     "text": [
      "EMA:38, X:4, PCT:0.1\n"
     ]
    },
    {
     "name": "stderr",
     "output_type": "stream",
     "text": [
      "/tmp/ipykernel_36223/3149794742.py:132: FutureWarning: Setting an item of incompatible dtype is deprecated and will raise an error in a future version of pandas. Value 'Trailing SL Hit' has dtype incompatible with float64, please explicitly cast to a compatible dtype first.\n",
      "  tradebook_long.loc[\n"
     ]
    },
    {
     "name": "stdout",
     "output_type": "stream",
     "text": [
      "EMA:38, X:6, PCT:0.1\n"
     ]
    },
    {
     "name": "stderr",
     "output_type": "stream",
     "text": [
      "/tmp/ipykernel_36223/3149794742.py:132: FutureWarning: Setting an item of incompatible dtype is deprecated and will raise an error in a future version of pandas. Value 'Trailing SL Hit' has dtype incompatible with float64, please explicitly cast to a compatible dtype first.\n",
      "  tradebook_long.loc[\n"
     ]
    },
    {
     "name": "stdout",
     "output_type": "stream",
     "text": [
      "EMA:38, X:8, PCT:0.1\n"
     ]
    },
    {
     "name": "stderr",
     "output_type": "stream",
     "text": [
      "/tmp/ipykernel_36223/3149794742.py:132: FutureWarning: Setting an item of incompatible dtype is deprecated and will raise an error in a future version of pandas. Value 'Trailing SL Hit' has dtype incompatible with float64, please explicitly cast to a compatible dtype first.\n",
      "  tradebook_long.loc[\n"
     ]
    },
    {
     "name": "stdout",
     "output_type": "stream",
     "text": [
      "EMA:38, X:10, PCT:0.1\n"
     ]
    },
    {
     "name": "stderr",
     "output_type": "stream",
     "text": [
      "/tmp/ipykernel_36223/3149794742.py:132: FutureWarning: Setting an item of incompatible dtype is deprecated and will raise an error in a future version of pandas. Value 'Trailing SL Hit' has dtype incompatible with float64, please explicitly cast to a compatible dtype first.\n",
      "  tradebook_long.loc[\n"
     ]
    },
    {
     "name": "stdout",
     "output_type": "stream",
     "text": [
      "EMA:38, X:12, PCT:0.1\n"
     ]
    },
    {
     "name": "stderr",
     "output_type": "stream",
     "text": [
      "/tmp/ipykernel_36223/3149794742.py:132: FutureWarning: Setting an item of incompatible dtype is deprecated and will raise an error in a future version of pandas. Value 'Trailing SL Hit' has dtype incompatible with float64, please explicitly cast to a compatible dtype first.\n",
      "  tradebook_long.loc[\n"
     ]
    },
    {
     "name": "stdout",
     "output_type": "stream",
     "text": [
      "EMA:38, X:14, PCT:0.1\n"
     ]
    },
    {
     "name": "stderr",
     "output_type": "stream",
     "text": [
      "/tmp/ipykernel_36223/3149794742.py:132: FutureWarning: Setting an item of incompatible dtype is deprecated and will raise an error in a future version of pandas. Value 'Trailing SL Hit' has dtype incompatible with float64, please explicitly cast to a compatible dtype first.\n",
      "  tradebook_long.loc[\n"
     ]
    },
    {
     "name": "stdout",
     "output_type": "stream",
     "text": [
      "EMA:38, X:16, PCT:0.1\n"
     ]
    },
    {
     "name": "stderr",
     "output_type": "stream",
     "text": [
      "/tmp/ipykernel_36223/3149794742.py:132: FutureWarning: Setting an item of incompatible dtype is deprecated and will raise an error in a future version of pandas. Value 'Trailing SL Hit' has dtype incompatible with float64, please explicitly cast to a compatible dtype first.\n",
      "  tradebook_long.loc[\n"
     ]
    },
    {
     "name": "stdout",
     "output_type": "stream",
     "text": [
      "EMA:38, X:18, PCT:0.1\n"
     ]
    },
    {
     "name": "stderr",
     "output_type": "stream",
     "text": [
      "/tmp/ipykernel_36223/3149794742.py:132: FutureWarning: Setting an item of incompatible dtype is deprecated and will raise an error in a future version of pandas. Value 'Trailing SL Hit' has dtype incompatible with float64, please explicitly cast to a compatible dtype first.\n",
      "  tradebook_long.loc[\n"
     ]
    },
    {
     "name": "stdout",
     "output_type": "stream",
     "text": [
      "EMA:38, X:20, PCT:0.1\n"
     ]
    },
    {
     "name": "stderr",
     "output_type": "stream",
     "text": [
      "/tmp/ipykernel_36223/3149794742.py:132: FutureWarning: Setting an item of incompatible dtype is deprecated and will raise an error in a future version of pandas. Value 'Trailing SL Hit' has dtype incompatible with float64, please explicitly cast to a compatible dtype first.\n",
      "  tradebook_long.loc[\n"
     ]
    },
    {
     "name": "stdout",
     "output_type": "stream",
     "text": [
      "EMA:38, X:22, PCT:0.1\n"
     ]
    },
    {
     "name": "stderr",
     "output_type": "stream",
     "text": [
      "/tmp/ipykernel_36223/3149794742.py:132: FutureWarning: Setting an item of incompatible dtype is deprecated and will raise an error in a future version of pandas. Value 'Trailing SL Hit' has dtype incompatible with float64, please explicitly cast to a compatible dtype first.\n",
      "  tradebook_long.loc[\n"
     ]
    },
    {
     "name": "stdout",
     "output_type": "stream",
     "text": [
      "EMA:38, X:24, PCT:0.1\n"
     ]
    },
    {
     "name": "stderr",
     "output_type": "stream",
     "text": [
      "/tmp/ipykernel_36223/3149794742.py:132: FutureWarning: Setting an item of incompatible dtype is deprecated and will raise an error in a future version of pandas. Value 'Trailing SL Hit' has dtype incompatible with float64, please explicitly cast to a compatible dtype first.\n",
      "  tradebook_long.loc[\n"
     ]
    },
    {
     "name": "stdout",
     "output_type": "stream",
     "text": [
      "EMA:38, X:26, PCT:0.1\n"
     ]
    },
    {
     "name": "stderr",
     "output_type": "stream",
     "text": [
      "/tmp/ipykernel_36223/3149794742.py:132: FutureWarning: Setting an item of incompatible dtype is deprecated and will raise an error in a future version of pandas. Value 'Trailing SL Hit' has dtype incompatible with float64, please explicitly cast to a compatible dtype first.\n",
      "  tradebook_long.loc[\n"
     ]
    },
    {
     "name": "stdout",
     "output_type": "stream",
     "text": [
      "EMA:38, X:28, PCT:0.1\n"
     ]
    },
    {
     "name": "stderr",
     "output_type": "stream",
     "text": [
      "/tmp/ipykernel_36223/3149794742.py:132: FutureWarning: Setting an item of incompatible dtype is deprecated and will raise an error in a future version of pandas. Value 'Trailing SL Hit' has dtype incompatible with float64, please explicitly cast to a compatible dtype first.\n",
      "  tradebook_long.loc[\n"
     ]
    },
    {
     "name": "stdout",
     "output_type": "stream",
     "text": [
      "EMA:38, X:30, PCT:0.1\n"
     ]
    },
    {
     "name": "stderr",
     "output_type": "stream",
     "text": [
      "/tmp/ipykernel_36223/3149794742.py:132: FutureWarning: Setting an item of incompatible dtype is deprecated and will raise an error in a future version of pandas. Value 'Trailing SL Hit' has dtype incompatible with float64, please explicitly cast to a compatible dtype first.\n",
      "  tradebook_long.loc[\n"
     ]
    },
    {
     "name": "stdout",
     "output_type": "stream",
     "text": [
      "EMA:38, X:32, PCT:0.1\n"
     ]
    },
    {
     "name": "stderr",
     "output_type": "stream",
     "text": [
      "/tmp/ipykernel_36223/3149794742.py:132: FutureWarning: Setting an item of incompatible dtype is deprecated and will raise an error in a future version of pandas. Value 'Trailing SL Hit' has dtype incompatible with float64, please explicitly cast to a compatible dtype first.\n",
      "  tradebook_long.loc[\n"
     ]
    },
    {
     "name": "stdout",
     "output_type": "stream",
     "text": [
      "EMA:38, X:34, PCT:0.1\n"
     ]
    },
    {
     "name": "stderr",
     "output_type": "stream",
     "text": [
      "/tmp/ipykernel_36223/3149794742.py:132: FutureWarning: Setting an item of incompatible dtype is deprecated and will raise an error in a future version of pandas. Value 'Trailing SL Hit' has dtype incompatible with float64, please explicitly cast to a compatible dtype first.\n",
      "  tradebook_long.loc[\n"
     ]
    },
    {
     "name": "stdout",
     "output_type": "stream",
     "text": [
      "EMA:38, X:36, PCT:0.1\n"
     ]
    },
    {
     "name": "stderr",
     "output_type": "stream",
     "text": [
      "/tmp/ipykernel_36223/3149794742.py:132: FutureWarning: Setting an item of incompatible dtype is deprecated and will raise an error in a future version of pandas. Value 'Trailing SL Hit' has dtype incompatible with float64, please explicitly cast to a compatible dtype first.\n",
      "  tradebook_long.loc[\n"
     ]
    },
    {
     "name": "stdout",
     "output_type": "stream",
     "text": [
      "EMA:40, X:4, PCT:0.1\n"
     ]
    },
    {
     "name": "stderr",
     "output_type": "stream",
     "text": [
      "/tmp/ipykernel_36223/3149794742.py:132: FutureWarning: Setting an item of incompatible dtype is deprecated and will raise an error in a future version of pandas. Value 'Trailing SL Hit' has dtype incompatible with float64, please explicitly cast to a compatible dtype first.\n",
      "  tradebook_long.loc[\n"
     ]
    },
    {
     "name": "stdout",
     "output_type": "stream",
     "text": [
      "EMA:40, X:6, PCT:0.1\n"
     ]
    },
    {
     "name": "stderr",
     "output_type": "stream",
     "text": [
      "/tmp/ipykernel_36223/3149794742.py:132: FutureWarning: Setting an item of incompatible dtype is deprecated and will raise an error in a future version of pandas. Value 'Trailing SL Hit' has dtype incompatible with float64, please explicitly cast to a compatible dtype first.\n",
      "  tradebook_long.loc[\n"
     ]
    },
    {
     "name": "stdout",
     "output_type": "stream",
     "text": [
      "EMA:40, X:8, PCT:0.1\n"
     ]
    },
    {
     "name": "stderr",
     "output_type": "stream",
     "text": [
      "/tmp/ipykernel_36223/3149794742.py:132: FutureWarning: Setting an item of incompatible dtype is deprecated and will raise an error in a future version of pandas. Value 'Trailing SL Hit' has dtype incompatible with float64, please explicitly cast to a compatible dtype first.\n",
      "  tradebook_long.loc[\n"
     ]
    },
    {
     "name": "stdout",
     "output_type": "stream",
     "text": [
      "EMA:40, X:10, PCT:0.1\n"
     ]
    },
    {
     "name": "stderr",
     "output_type": "stream",
     "text": [
      "/tmp/ipykernel_36223/3149794742.py:132: FutureWarning: Setting an item of incompatible dtype is deprecated and will raise an error in a future version of pandas. Value 'Trailing SL Hit' has dtype incompatible with float64, please explicitly cast to a compatible dtype first.\n",
      "  tradebook_long.loc[\n"
     ]
    },
    {
     "name": "stdout",
     "output_type": "stream",
     "text": [
      "EMA:40, X:12, PCT:0.1\n"
     ]
    },
    {
     "name": "stderr",
     "output_type": "stream",
     "text": [
      "/tmp/ipykernel_36223/3149794742.py:132: FutureWarning: Setting an item of incompatible dtype is deprecated and will raise an error in a future version of pandas. Value 'Trailing SL Hit' has dtype incompatible with float64, please explicitly cast to a compatible dtype first.\n",
      "  tradebook_long.loc[\n"
     ]
    },
    {
     "name": "stdout",
     "output_type": "stream",
     "text": [
      "EMA:40, X:14, PCT:0.1\n"
     ]
    },
    {
     "name": "stderr",
     "output_type": "stream",
     "text": [
      "/tmp/ipykernel_36223/3149794742.py:132: FutureWarning: Setting an item of incompatible dtype is deprecated and will raise an error in a future version of pandas. Value 'Trailing SL Hit' has dtype incompatible with float64, please explicitly cast to a compatible dtype first.\n",
      "  tradebook_long.loc[\n"
     ]
    },
    {
     "name": "stdout",
     "output_type": "stream",
     "text": [
      "EMA:40, X:16, PCT:0.1\n"
     ]
    },
    {
     "name": "stderr",
     "output_type": "stream",
     "text": [
      "/tmp/ipykernel_36223/3149794742.py:132: FutureWarning: Setting an item of incompatible dtype is deprecated and will raise an error in a future version of pandas. Value 'Trailing SL Hit' has dtype incompatible with float64, please explicitly cast to a compatible dtype first.\n",
      "  tradebook_long.loc[\n"
     ]
    },
    {
     "name": "stdout",
     "output_type": "stream",
     "text": [
      "EMA:40, X:18, PCT:0.1\n"
     ]
    },
    {
     "name": "stderr",
     "output_type": "stream",
     "text": [
      "/tmp/ipykernel_36223/3149794742.py:132: FutureWarning: Setting an item of incompatible dtype is deprecated and will raise an error in a future version of pandas. Value 'Trailing SL Hit' has dtype incompatible with float64, please explicitly cast to a compatible dtype first.\n",
      "  tradebook_long.loc[\n"
     ]
    },
    {
     "name": "stdout",
     "output_type": "stream",
     "text": [
      "EMA:40, X:20, PCT:0.1\n"
     ]
    },
    {
     "name": "stderr",
     "output_type": "stream",
     "text": [
      "/tmp/ipykernel_36223/3149794742.py:132: FutureWarning: Setting an item of incompatible dtype is deprecated and will raise an error in a future version of pandas. Value 'Trailing SL Hit' has dtype incompatible with float64, please explicitly cast to a compatible dtype first.\n",
      "  tradebook_long.loc[\n"
     ]
    },
    {
     "name": "stdout",
     "output_type": "stream",
     "text": [
      "EMA:40, X:22, PCT:0.1\n"
     ]
    },
    {
     "name": "stderr",
     "output_type": "stream",
     "text": [
      "/tmp/ipykernel_36223/3149794742.py:132: FutureWarning: Setting an item of incompatible dtype is deprecated and will raise an error in a future version of pandas. Value 'Trailing SL Hit' has dtype incompatible with float64, please explicitly cast to a compatible dtype first.\n",
      "  tradebook_long.loc[\n"
     ]
    },
    {
     "name": "stdout",
     "output_type": "stream",
     "text": [
      "EMA:40, X:24, PCT:0.1\n"
     ]
    },
    {
     "name": "stderr",
     "output_type": "stream",
     "text": [
      "/tmp/ipykernel_36223/3149794742.py:132: FutureWarning: Setting an item of incompatible dtype is deprecated and will raise an error in a future version of pandas. Value 'Trailing SL Hit' has dtype incompatible with float64, please explicitly cast to a compatible dtype first.\n",
      "  tradebook_long.loc[\n"
     ]
    },
    {
     "name": "stdout",
     "output_type": "stream",
     "text": [
      "EMA:40, X:26, PCT:0.1\n"
     ]
    },
    {
     "name": "stderr",
     "output_type": "stream",
     "text": [
      "/tmp/ipykernel_36223/3149794742.py:132: FutureWarning: Setting an item of incompatible dtype is deprecated and will raise an error in a future version of pandas. Value 'Trailing SL Hit' has dtype incompatible with float64, please explicitly cast to a compatible dtype first.\n",
      "  tradebook_long.loc[\n"
     ]
    },
    {
     "name": "stdout",
     "output_type": "stream",
     "text": [
      "EMA:40, X:28, PCT:0.1\n"
     ]
    },
    {
     "name": "stderr",
     "output_type": "stream",
     "text": [
      "/tmp/ipykernel_36223/3149794742.py:132: FutureWarning: Setting an item of incompatible dtype is deprecated and will raise an error in a future version of pandas. Value 'Trailing SL Hit' has dtype incompatible with float64, please explicitly cast to a compatible dtype first.\n",
      "  tradebook_long.loc[\n"
     ]
    },
    {
     "name": "stdout",
     "output_type": "stream",
     "text": [
      "EMA:40, X:30, PCT:0.1\n"
     ]
    },
    {
     "name": "stderr",
     "output_type": "stream",
     "text": [
      "/tmp/ipykernel_36223/3149794742.py:132: FutureWarning: Setting an item of incompatible dtype is deprecated and will raise an error in a future version of pandas. Value 'Trailing SL Hit' has dtype incompatible with float64, please explicitly cast to a compatible dtype first.\n",
      "  tradebook_long.loc[\n"
     ]
    },
    {
     "name": "stdout",
     "output_type": "stream",
     "text": [
      "EMA:40, X:32, PCT:0.1\n"
     ]
    },
    {
     "name": "stderr",
     "output_type": "stream",
     "text": [
      "/tmp/ipykernel_36223/3149794742.py:132: FutureWarning: Setting an item of incompatible dtype is deprecated and will raise an error in a future version of pandas. Value 'Trailing SL Hit' has dtype incompatible with float64, please explicitly cast to a compatible dtype first.\n",
      "  tradebook_long.loc[\n"
     ]
    },
    {
     "name": "stdout",
     "output_type": "stream",
     "text": [
      "EMA:40, X:34, PCT:0.1\n"
     ]
    },
    {
     "name": "stderr",
     "output_type": "stream",
     "text": [
      "/tmp/ipykernel_36223/3149794742.py:132: FutureWarning: Setting an item of incompatible dtype is deprecated and will raise an error in a future version of pandas. Value 'Trailing SL Hit' has dtype incompatible with float64, please explicitly cast to a compatible dtype first.\n",
      "  tradebook_long.loc[\n"
     ]
    },
    {
     "name": "stdout",
     "output_type": "stream",
     "text": [
      "EMA:40, X:36, PCT:0.1\n"
     ]
    },
    {
     "name": "stderr",
     "output_type": "stream",
     "text": [
      "/tmp/ipykernel_36223/3149794742.py:132: FutureWarning: Setting an item of incompatible dtype is deprecated and will raise an error in a future version of pandas. Value 'Trailing SL Hit' has dtype incompatible with float64, please explicitly cast to a compatible dtype first.\n",
      "  tradebook_long.loc[\n"
     ]
    },
    {
     "name": "stdout",
     "output_type": "stream",
     "text": [
      "EMA:42, X:4, PCT:0.1\n"
     ]
    },
    {
     "name": "stderr",
     "output_type": "stream",
     "text": [
      "/tmp/ipykernel_36223/3149794742.py:132: FutureWarning: Setting an item of incompatible dtype is deprecated and will raise an error in a future version of pandas. Value 'Trailing SL Hit' has dtype incompatible with float64, please explicitly cast to a compatible dtype first.\n",
      "  tradebook_long.loc[\n"
     ]
    },
    {
     "name": "stdout",
     "output_type": "stream",
     "text": [
      "EMA:42, X:6, PCT:0.1\n"
     ]
    },
    {
     "name": "stderr",
     "output_type": "stream",
     "text": [
      "/tmp/ipykernel_36223/3149794742.py:132: FutureWarning: Setting an item of incompatible dtype is deprecated and will raise an error in a future version of pandas. Value 'Trailing SL Hit' has dtype incompatible with float64, please explicitly cast to a compatible dtype first.\n",
      "  tradebook_long.loc[\n"
     ]
    },
    {
     "name": "stdout",
     "output_type": "stream",
     "text": [
      "EMA:42, X:8, PCT:0.1\n"
     ]
    },
    {
     "name": "stderr",
     "output_type": "stream",
     "text": [
      "/tmp/ipykernel_36223/3149794742.py:132: FutureWarning: Setting an item of incompatible dtype is deprecated and will raise an error in a future version of pandas. Value 'Trailing SL Hit' has dtype incompatible with float64, please explicitly cast to a compatible dtype first.\n",
      "  tradebook_long.loc[\n"
     ]
    },
    {
     "name": "stdout",
     "output_type": "stream",
     "text": [
      "EMA:42, X:10, PCT:0.1\n"
     ]
    },
    {
     "name": "stderr",
     "output_type": "stream",
     "text": [
      "/tmp/ipykernel_36223/3149794742.py:132: FutureWarning: Setting an item of incompatible dtype is deprecated and will raise an error in a future version of pandas. Value 'Trailing SL Hit' has dtype incompatible with float64, please explicitly cast to a compatible dtype first.\n",
      "  tradebook_long.loc[\n"
     ]
    },
    {
     "name": "stdout",
     "output_type": "stream",
     "text": [
      "EMA:42, X:12, PCT:0.1\n"
     ]
    },
    {
     "name": "stderr",
     "output_type": "stream",
     "text": [
      "/tmp/ipykernel_36223/3149794742.py:132: FutureWarning: Setting an item of incompatible dtype is deprecated and will raise an error in a future version of pandas. Value 'Trailing SL Hit' has dtype incompatible with float64, please explicitly cast to a compatible dtype first.\n",
      "  tradebook_long.loc[\n"
     ]
    },
    {
     "name": "stdout",
     "output_type": "stream",
     "text": [
      "EMA:42, X:14, PCT:0.1\n"
     ]
    },
    {
     "name": "stderr",
     "output_type": "stream",
     "text": [
      "/tmp/ipykernel_36223/3149794742.py:132: FutureWarning: Setting an item of incompatible dtype is deprecated and will raise an error in a future version of pandas. Value 'Trailing SL Hit' has dtype incompatible with float64, please explicitly cast to a compatible dtype first.\n",
      "  tradebook_long.loc[\n"
     ]
    },
    {
     "name": "stdout",
     "output_type": "stream",
     "text": [
      "EMA:42, X:16, PCT:0.1\n"
     ]
    },
    {
     "name": "stderr",
     "output_type": "stream",
     "text": [
      "/tmp/ipykernel_36223/3149794742.py:132: FutureWarning: Setting an item of incompatible dtype is deprecated and will raise an error in a future version of pandas. Value 'Trailing SL Hit' has dtype incompatible with float64, please explicitly cast to a compatible dtype first.\n",
      "  tradebook_long.loc[\n"
     ]
    },
    {
     "name": "stdout",
     "output_type": "stream",
     "text": [
      "EMA:42, X:18, PCT:0.1\n"
     ]
    },
    {
     "name": "stderr",
     "output_type": "stream",
     "text": [
      "/tmp/ipykernel_36223/3149794742.py:132: FutureWarning: Setting an item of incompatible dtype is deprecated and will raise an error in a future version of pandas. Value 'Trailing SL Hit' has dtype incompatible with float64, please explicitly cast to a compatible dtype first.\n",
      "  tradebook_long.loc[\n"
     ]
    },
    {
     "name": "stdout",
     "output_type": "stream",
     "text": [
      "EMA:42, X:20, PCT:0.1\n"
     ]
    },
    {
     "name": "stderr",
     "output_type": "stream",
     "text": [
      "/tmp/ipykernel_36223/3149794742.py:132: FutureWarning: Setting an item of incompatible dtype is deprecated and will raise an error in a future version of pandas. Value 'Trailing SL Hit' has dtype incompatible with float64, please explicitly cast to a compatible dtype first.\n",
      "  tradebook_long.loc[\n"
     ]
    },
    {
     "name": "stdout",
     "output_type": "stream",
     "text": [
      "EMA:42, X:22, PCT:0.1\n"
     ]
    },
    {
     "name": "stderr",
     "output_type": "stream",
     "text": [
      "/tmp/ipykernel_36223/3149794742.py:132: FutureWarning: Setting an item of incompatible dtype is deprecated and will raise an error in a future version of pandas. Value 'Trailing SL Hit' has dtype incompatible with float64, please explicitly cast to a compatible dtype first.\n",
      "  tradebook_long.loc[\n"
     ]
    },
    {
     "name": "stdout",
     "output_type": "stream",
     "text": [
      "EMA:42, X:24, PCT:0.1\n"
     ]
    },
    {
     "name": "stderr",
     "output_type": "stream",
     "text": [
      "/tmp/ipykernel_36223/3149794742.py:132: FutureWarning: Setting an item of incompatible dtype is deprecated and will raise an error in a future version of pandas. Value 'Trailing SL Hit' has dtype incompatible with float64, please explicitly cast to a compatible dtype first.\n",
      "  tradebook_long.loc[\n"
     ]
    },
    {
     "name": "stdout",
     "output_type": "stream",
     "text": [
      "EMA:42, X:26, PCT:0.1\n"
     ]
    },
    {
     "name": "stderr",
     "output_type": "stream",
     "text": [
      "/tmp/ipykernel_36223/3149794742.py:132: FutureWarning: Setting an item of incompatible dtype is deprecated and will raise an error in a future version of pandas. Value 'Trailing SL Hit' has dtype incompatible with float64, please explicitly cast to a compatible dtype first.\n",
      "  tradebook_long.loc[\n"
     ]
    },
    {
     "name": "stdout",
     "output_type": "stream",
     "text": [
      "EMA:42, X:28, PCT:0.1\n"
     ]
    },
    {
     "name": "stderr",
     "output_type": "stream",
     "text": [
      "/tmp/ipykernel_36223/3149794742.py:132: FutureWarning: Setting an item of incompatible dtype is deprecated and will raise an error in a future version of pandas. Value 'Trailing SL Hit' has dtype incompatible with float64, please explicitly cast to a compatible dtype first.\n",
      "  tradebook_long.loc[\n"
     ]
    },
    {
     "name": "stdout",
     "output_type": "stream",
     "text": [
      "EMA:42, X:30, PCT:0.1\n"
     ]
    },
    {
     "name": "stderr",
     "output_type": "stream",
     "text": [
      "/tmp/ipykernel_36223/3149794742.py:132: FutureWarning: Setting an item of incompatible dtype is deprecated and will raise an error in a future version of pandas. Value 'Trailing SL Hit' has dtype incompatible with float64, please explicitly cast to a compatible dtype first.\n",
      "  tradebook_long.loc[\n"
     ]
    },
    {
     "name": "stdout",
     "output_type": "stream",
     "text": [
      "EMA:42, X:32, PCT:0.1\n"
     ]
    },
    {
     "name": "stderr",
     "output_type": "stream",
     "text": [
      "/tmp/ipykernel_36223/3149794742.py:132: FutureWarning: Setting an item of incompatible dtype is deprecated and will raise an error in a future version of pandas. Value 'Trailing SL Hit' has dtype incompatible with float64, please explicitly cast to a compatible dtype first.\n",
      "  tradebook_long.loc[\n"
     ]
    },
    {
     "name": "stdout",
     "output_type": "stream",
     "text": [
      "EMA:42, X:34, PCT:0.1\n"
     ]
    },
    {
     "name": "stderr",
     "output_type": "stream",
     "text": [
      "/tmp/ipykernel_36223/3149794742.py:132: FutureWarning: Setting an item of incompatible dtype is deprecated and will raise an error in a future version of pandas. Value 'Trailing SL Hit' has dtype incompatible with float64, please explicitly cast to a compatible dtype first.\n",
      "  tradebook_long.loc[\n"
     ]
    },
    {
     "name": "stdout",
     "output_type": "stream",
     "text": [
      "EMA:42, X:36, PCT:0.1\n"
     ]
    },
    {
     "name": "stderr",
     "output_type": "stream",
     "text": [
      "/tmp/ipykernel_36223/3149794742.py:132: FutureWarning: Setting an item of incompatible dtype is deprecated and will raise an error in a future version of pandas. Value 'Trailing SL Hit' has dtype incompatible with float64, please explicitly cast to a compatible dtype first.\n",
      "  tradebook_long.loc[\n"
     ]
    },
    {
     "name": "stdout",
     "output_type": "stream",
     "text": [
      "EMA:44, X:4, PCT:0.1\n"
     ]
    },
    {
     "name": "stderr",
     "output_type": "stream",
     "text": [
      "/tmp/ipykernel_36223/3149794742.py:132: FutureWarning: Setting an item of incompatible dtype is deprecated and will raise an error in a future version of pandas. Value 'Trailing SL Hit' has dtype incompatible with float64, please explicitly cast to a compatible dtype first.\n",
      "  tradebook_long.loc[\n"
     ]
    },
    {
     "name": "stdout",
     "output_type": "stream",
     "text": [
      "EMA:44, X:6, PCT:0.1\n"
     ]
    },
    {
     "name": "stderr",
     "output_type": "stream",
     "text": [
      "/tmp/ipykernel_36223/3149794742.py:132: FutureWarning: Setting an item of incompatible dtype is deprecated and will raise an error in a future version of pandas. Value 'Trailing SL Hit' has dtype incompatible with float64, please explicitly cast to a compatible dtype first.\n",
      "  tradebook_long.loc[\n"
     ]
    },
    {
     "name": "stdout",
     "output_type": "stream",
     "text": [
      "EMA:44, X:8, PCT:0.1\n"
     ]
    },
    {
     "name": "stderr",
     "output_type": "stream",
     "text": [
      "/tmp/ipykernel_36223/3149794742.py:132: FutureWarning: Setting an item of incompatible dtype is deprecated and will raise an error in a future version of pandas. Value 'Trailing SL Hit' has dtype incompatible with float64, please explicitly cast to a compatible dtype first.\n",
      "  tradebook_long.loc[\n"
     ]
    },
    {
     "name": "stdout",
     "output_type": "stream",
     "text": [
      "EMA:44, X:10, PCT:0.1\n"
     ]
    },
    {
     "name": "stderr",
     "output_type": "stream",
     "text": [
      "/tmp/ipykernel_36223/3149794742.py:132: FutureWarning: Setting an item of incompatible dtype is deprecated and will raise an error in a future version of pandas. Value 'Trailing SL Hit' has dtype incompatible with float64, please explicitly cast to a compatible dtype first.\n",
      "  tradebook_long.loc[\n"
     ]
    },
    {
     "name": "stdout",
     "output_type": "stream",
     "text": [
      "EMA:44, X:12, PCT:0.1\n"
     ]
    },
    {
     "name": "stderr",
     "output_type": "stream",
     "text": [
      "/tmp/ipykernel_36223/3149794742.py:132: FutureWarning: Setting an item of incompatible dtype is deprecated and will raise an error in a future version of pandas. Value 'Trailing SL Hit' has dtype incompatible with float64, please explicitly cast to a compatible dtype first.\n",
      "  tradebook_long.loc[\n"
     ]
    },
    {
     "name": "stdout",
     "output_type": "stream",
     "text": [
      "EMA:44, X:14, PCT:0.1\n"
     ]
    },
    {
     "name": "stderr",
     "output_type": "stream",
     "text": [
      "/tmp/ipykernel_36223/3149794742.py:132: FutureWarning: Setting an item of incompatible dtype is deprecated and will raise an error in a future version of pandas. Value 'Trailing SL Hit' has dtype incompatible with float64, please explicitly cast to a compatible dtype first.\n",
      "  tradebook_long.loc[\n"
     ]
    },
    {
     "name": "stdout",
     "output_type": "stream",
     "text": [
      "EMA:44, X:16, PCT:0.1\n"
     ]
    },
    {
     "name": "stderr",
     "output_type": "stream",
     "text": [
      "/tmp/ipykernel_36223/3149794742.py:132: FutureWarning: Setting an item of incompatible dtype is deprecated and will raise an error in a future version of pandas. Value 'Trailing SL Hit' has dtype incompatible with float64, please explicitly cast to a compatible dtype first.\n",
      "  tradebook_long.loc[\n"
     ]
    },
    {
     "name": "stdout",
     "output_type": "stream",
     "text": [
      "EMA:44, X:18, PCT:0.1\n"
     ]
    },
    {
     "name": "stderr",
     "output_type": "stream",
     "text": [
      "/tmp/ipykernel_36223/3149794742.py:132: FutureWarning: Setting an item of incompatible dtype is deprecated and will raise an error in a future version of pandas. Value 'Trailing SL Hit' has dtype incompatible with float64, please explicitly cast to a compatible dtype first.\n",
      "  tradebook_long.loc[\n"
     ]
    },
    {
     "name": "stdout",
     "output_type": "stream",
     "text": [
      "EMA:44, X:20, PCT:0.1\n"
     ]
    },
    {
     "name": "stderr",
     "output_type": "stream",
     "text": [
      "/tmp/ipykernel_36223/3149794742.py:132: FutureWarning: Setting an item of incompatible dtype is deprecated and will raise an error in a future version of pandas. Value 'Trailing SL Hit' has dtype incompatible with float64, please explicitly cast to a compatible dtype first.\n",
      "  tradebook_long.loc[\n"
     ]
    },
    {
     "name": "stdout",
     "output_type": "stream",
     "text": [
      "EMA:44, X:22, PCT:0.1\n"
     ]
    },
    {
     "name": "stderr",
     "output_type": "stream",
     "text": [
      "/tmp/ipykernel_36223/3149794742.py:132: FutureWarning: Setting an item of incompatible dtype is deprecated and will raise an error in a future version of pandas. Value 'Trailing SL Hit' has dtype incompatible with float64, please explicitly cast to a compatible dtype first.\n",
      "  tradebook_long.loc[\n"
     ]
    },
    {
     "name": "stdout",
     "output_type": "stream",
     "text": [
      "EMA:44, X:24, PCT:0.1\n"
     ]
    },
    {
     "name": "stderr",
     "output_type": "stream",
     "text": [
      "/tmp/ipykernel_36223/3149794742.py:132: FutureWarning: Setting an item of incompatible dtype is deprecated and will raise an error in a future version of pandas. Value 'Trailing SL Hit' has dtype incompatible with float64, please explicitly cast to a compatible dtype first.\n",
      "  tradebook_long.loc[\n"
     ]
    },
    {
     "name": "stdout",
     "output_type": "stream",
     "text": [
      "EMA:44, X:26, PCT:0.1\n"
     ]
    },
    {
     "name": "stderr",
     "output_type": "stream",
     "text": [
      "/tmp/ipykernel_36223/3149794742.py:132: FutureWarning: Setting an item of incompatible dtype is deprecated and will raise an error in a future version of pandas. Value 'Trailing SL Hit' has dtype incompatible with float64, please explicitly cast to a compatible dtype first.\n",
      "  tradebook_long.loc[\n"
     ]
    },
    {
     "name": "stdout",
     "output_type": "stream",
     "text": [
      "EMA:44, X:28, PCT:0.1\n"
     ]
    },
    {
     "name": "stderr",
     "output_type": "stream",
     "text": [
      "/tmp/ipykernel_36223/3149794742.py:132: FutureWarning: Setting an item of incompatible dtype is deprecated and will raise an error in a future version of pandas. Value 'Trailing SL Hit' has dtype incompatible with float64, please explicitly cast to a compatible dtype first.\n",
      "  tradebook_long.loc[\n"
     ]
    },
    {
     "name": "stdout",
     "output_type": "stream",
     "text": [
      "EMA:44, X:30, PCT:0.1\n"
     ]
    },
    {
     "name": "stderr",
     "output_type": "stream",
     "text": [
      "/tmp/ipykernel_36223/3149794742.py:132: FutureWarning: Setting an item of incompatible dtype is deprecated and will raise an error in a future version of pandas. Value 'Trailing SL Hit' has dtype incompatible with float64, please explicitly cast to a compatible dtype first.\n",
      "  tradebook_long.loc[\n"
     ]
    },
    {
     "name": "stdout",
     "output_type": "stream",
     "text": [
      "EMA:44, X:32, PCT:0.1\n"
     ]
    },
    {
     "name": "stderr",
     "output_type": "stream",
     "text": [
      "/tmp/ipykernel_36223/3149794742.py:132: FutureWarning: Setting an item of incompatible dtype is deprecated and will raise an error in a future version of pandas. Value 'Trailing SL Hit' has dtype incompatible with float64, please explicitly cast to a compatible dtype first.\n",
      "  tradebook_long.loc[\n"
     ]
    },
    {
     "name": "stdout",
     "output_type": "stream",
     "text": [
      "EMA:44, X:34, PCT:0.1\n"
     ]
    },
    {
     "name": "stderr",
     "output_type": "stream",
     "text": [
      "/tmp/ipykernel_36223/3149794742.py:132: FutureWarning: Setting an item of incompatible dtype is deprecated and will raise an error in a future version of pandas. Value 'Trailing SL Hit' has dtype incompatible with float64, please explicitly cast to a compatible dtype first.\n",
      "  tradebook_long.loc[\n"
     ]
    },
    {
     "name": "stdout",
     "output_type": "stream",
     "text": [
      "EMA:44, X:36, PCT:0.1\n"
     ]
    },
    {
     "name": "stderr",
     "output_type": "stream",
     "text": [
      "/tmp/ipykernel_36223/3149794742.py:132: FutureWarning: Setting an item of incompatible dtype is deprecated and will raise an error in a future version of pandas. Value 'Trailing SL Hit' has dtype incompatible with float64, please explicitly cast to a compatible dtype first.\n",
      "  tradebook_long.loc[\n"
     ]
    },
    {
     "name": "stdout",
     "output_type": "stream",
     "text": [
      "EMA:46, X:4, PCT:0.1\n"
     ]
    },
    {
     "name": "stderr",
     "output_type": "stream",
     "text": [
      "/tmp/ipykernel_36223/3149794742.py:132: FutureWarning: Setting an item of incompatible dtype is deprecated and will raise an error in a future version of pandas. Value 'Trailing SL Hit' has dtype incompatible with float64, please explicitly cast to a compatible dtype first.\n",
      "  tradebook_long.loc[\n"
     ]
    },
    {
     "name": "stdout",
     "output_type": "stream",
     "text": [
      "EMA:46, X:6, PCT:0.1\n"
     ]
    },
    {
     "name": "stderr",
     "output_type": "stream",
     "text": [
      "/tmp/ipykernel_36223/3149794742.py:132: FutureWarning: Setting an item of incompatible dtype is deprecated and will raise an error in a future version of pandas. Value 'Trailing SL Hit' has dtype incompatible with float64, please explicitly cast to a compatible dtype first.\n",
      "  tradebook_long.loc[\n"
     ]
    },
    {
     "name": "stdout",
     "output_type": "stream",
     "text": [
      "EMA:46, X:8, PCT:0.1\n"
     ]
    },
    {
     "name": "stderr",
     "output_type": "stream",
     "text": [
      "/tmp/ipykernel_36223/3149794742.py:132: FutureWarning: Setting an item of incompatible dtype is deprecated and will raise an error in a future version of pandas. Value 'Trailing SL Hit' has dtype incompatible with float64, please explicitly cast to a compatible dtype first.\n",
      "  tradebook_long.loc[\n"
     ]
    },
    {
     "name": "stdout",
     "output_type": "stream",
     "text": [
      "EMA:46, X:10, PCT:0.1\n"
     ]
    },
    {
     "name": "stderr",
     "output_type": "stream",
     "text": [
      "/tmp/ipykernel_36223/3149794742.py:132: FutureWarning: Setting an item of incompatible dtype is deprecated and will raise an error in a future version of pandas. Value 'Trailing SL Hit' has dtype incompatible with float64, please explicitly cast to a compatible dtype first.\n",
      "  tradebook_long.loc[\n"
     ]
    },
    {
     "name": "stdout",
     "output_type": "stream",
     "text": [
      "EMA:46, X:12, PCT:0.1\n"
     ]
    },
    {
     "name": "stderr",
     "output_type": "stream",
     "text": [
      "/tmp/ipykernel_36223/3149794742.py:132: FutureWarning: Setting an item of incompatible dtype is deprecated and will raise an error in a future version of pandas. Value 'Trailing SL Hit' has dtype incompatible with float64, please explicitly cast to a compatible dtype first.\n",
      "  tradebook_long.loc[\n"
     ]
    },
    {
     "name": "stdout",
     "output_type": "stream",
     "text": [
      "EMA:46, X:14, PCT:0.1\n"
     ]
    },
    {
     "name": "stderr",
     "output_type": "stream",
     "text": [
      "/tmp/ipykernel_36223/3149794742.py:132: FutureWarning: Setting an item of incompatible dtype is deprecated and will raise an error in a future version of pandas. Value 'Trailing SL Hit' has dtype incompatible with float64, please explicitly cast to a compatible dtype first.\n",
      "  tradebook_long.loc[\n"
     ]
    },
    {
     "name": "stdout",
     "output_type": "stream",
     "text": [
      "EMA:46, X:16, PCT:0.1\n"
     ]
    },
    {
     "name": "stderr",
     "output_type": "stream",
     "text": [
      "/tmp/ipykernel_36223/3149794742.py:132: FutureWarning: Setting an item of incompatible dtype is deprecated and will raise an error in a future version of pandas. Value 'Trailing SL Hit' has dtype incompatible with float64, please explicitly cast to a compatible dtype first.\n",
      "  tradebook_long.loc[\n"
     ]
    },
    {
     "name": "stdout",
     "output_type": "stream",
     "text": [
      "EMA:46, X:18, PCT:0.1\n"
     ]
    },
    {
     "name": "stderr",
     "output_type": "stream",
     "text": [
      "/tmp/ipykernel_36223/3149794742.py:132: FutureWarning: Setting an item of incompatible dtype is deprecated and will raise an error in a future version of pandas. Value 'Trailing SL Hit' has dtype incompatible with float64, please explicitly cast to a compatible dtype first.\n",
      "  tradebook_long.loc[\n"
     ]
    },
    {
     "name": "stdout",
     "output_type": "stream",
     "text": [
      "EMA:46, X:20, PCT:0.1\n"
     ]
    },
    {
     "name": "stderr",
     "output_type": "stream",
     "text": [
      "/tmp/ipykernel_36223/3149794742.py:132: FutureWarning: Setting an item of incompatible dtype is deprecated and will raise an error in a future version of pandas. Value 'Trailing SL Hit' has dtype incompatible with float64, please explicitly cast to a compatible dtype first.\n",
      "  tradebook_long.loc[\n"
     ]
    },
    {
     "name": "stdout",
     "output_type": "stream",
     "text": [
      "EMA:46, X:22, PCT:0.1\n"
     ]
    },
    {
     "name": "stderr",
     "output_type": "stream",
     "text": [
      "/tmp/ipykernel_36223/3149794742.py:132: FutureWarning: Setting an item of incompatible dtype is deprecated and will raise an error in a future version of pandas. Value 'Trailing SL Hit' has dtype incompatible with float64, please explicitly cast to a compatible dtype first.\n",
      "  tradebook_long.loc[\n"
     ]
    },
    {
     "name": "stdout",
     "output_type": "stream",
     "text": [
      "EMA:46, X:24, PCT:0.1\n"
     ]
    },
    {
     "name": "stderr",
     "output_type": "stream",
     "text": [
      "/tmp/ipykernel_36223/3149794742.py:132: FutureWarning: Setting an item of incompatible dtype is deprecated and will raise an error in a future version of pandas. Value 'Trailing SL Hit' has dtype incompatible with float64, please explicitly cast to a compatible dtype first.\n",
      "  tradebook_long.loc[\n"
     ]
    },
    {
     "name": "stdout",
     "output_type": "stream",
     "text": [
      "EMA:46, X:26, PCT:0.1\n"
     ]
    },
    {
     "name": "stderr",
     "output_type": "stream",
     "text": [
      "/tmp/ipykernel_36223/3149794742.py:132: FutureWarning: Setting an item of incompatible dtype is deprecated and will raise an error in a future version of pandas. Value 'Trailing SL Hit' has dtype incompatible with float64, please explicitly cast to a compatible dtype first.\n",
      "  tradebook_long.loc[\n"
     ]
    },
    {
     "name": "stdout",
     "output_type": "stream",
     "text": [
      "EMA:46, X:28, PCT:0.1\n"
     ]
    },
    {
     "name": "stderr",
     "output_type": "stream",
     "text": [
      "/tmp/ipykernel_36223/3149794742.py:132: FutureWarning: Setting an item of incompatible dtype is deprecated and will raise an error in a future version of pandas. Value 'Trailing SL Hit' has dtype incompatible with float64, please explicitly cast to a compatible dtype first.\n",
      "  tradebook_long.loc[\n"
     ]
    },
    {
     "name": "stdout",
     "output_type": "stream",
     "text": [
      "EMA:46, X:30, PCT:0.1\n"
     ]
    },
    {
     "name": "stderr",
     "output_type": "stream",
     "text": [
      "/tmp/ipykernel_36223/3149794742.py:132: FutureWarning: Setting an item of incompatible dtype is deprecated and will raise an error in a future version of pandas. Value 'Trailing SL Hit' has dtype incompatible with float64, please explicitly cast to a compatible dtype first.\n",
      "  tradebook_long.loc[\n"
     ]
    },
    {
     "name": "stdout",
     "output_type": "stream",
     "text": [
      "EMA:46, X:32, PCT:0.1\n"
     ]
    },
    {
     "name": "stderr",
     "output_type": "stream",
     "text": [
      "/tmp/ipykernel_36223/3149794742.py:132: FutureWarning: Setting an item of incompatible dtype is deprecated and will raise an error in a future version of pandas. Value 'Trailing SL Hit' has dtype incompatible with float64, please explicitly cast to a compatible dtype first.\n",
      "  tradebook_long.loc[\n"
     ]
    },
    {
     "name": "stdout",
     "output_type": "stream",
     "text": [
      "EMA:46, X:34, PCT:0.1\n"
     ]
    },
    {
     "name": "stderr",
     "output_type": "stream",
     "text": [
      "/tmp/ipykernel_36223/3149794742.py:132: FutureWarning: Setting an item of incompatible dtype is deprecated and will raise an error in a future version of pandas. Value 'Trailing SL Hit' has dtype incompatible with float64, please explicitly cast to a compatible dtype first.\n",
      "  tradebook_long.loc[\n"
     ]
    },
    {
     "name": "stdout",
     "output_type": "stream",
     "text": [
      "EMA:46, X:36, PCT:0.1\n"
     ]
    },
    {
     "name": "stderr",
     "output_type": "stream",
     "text": [
      "/tmp/ipykernel_36223/3149794742.py:132: FutureWarning: Setting an item of incompatible dtype is deprecated and will raise an error in a future version of pandas. Value 'Trailing SL Hit' has dtype incompatible with float64, please explicitly cast to a compatible dtype first.\n",
      "  tradebook_long.loc[\n"
     ]
    },
    {
     "name": "stdout",
     "output_type": "stream",
     "text": [
      "EMA:48, X:4, PCT:0.1\n"
     ]
    },
    {
     "name": "stderr",
     "output_type": "stream",
     "text": [
      "/tmp/ipykernel_36223/3149794742.py:132: FutureWarning: Setting an item of incompatible dtype is deprecated and will raise an error in a future version of pandas. Value 'Trailing SL Hit' has dtype incompatible with float64, please explicitly cast to a compatible dtype first.\n",
      "  tradebook_long.loc[\n"
     ]
    },
    {
     "name": "stdout",
     "output_type": "stream",
     "text": [
      "EMA:48, X:6, PCT:0.1\n"
     ]
    },
    {
     "name": "stderr",
     "output_type": "stream",
     "text": [
      "/tmp/ipykernel_36223/3149794742.py:132: FutureWarning: Setting an item of incompatible dtype is deprecated and will raise an error in a future version of pandas. Value 'Trailing SL Hit' has dtype incompatible with float64, please explicitly cast to a compatible dtype first.\n",
      "  tradebook_long.loc[\n"
     ]
    },
    {
     "name": "stdout",
     "output_type": "stream",
     "text": [
      "EMA:48, X:8, PCT:0.1\n"
     ]
    },
    {
     "name": "stderr",
     "output_type": "stream",
     "text": [
      "/tmp/ipykernel_36223/3149794742.py:132: FutureWarning: Setting an item of incompatible dtype is deprecated and will raise an error in a future version of pandas. Value 'Trailing SL Hit' has dtype incompatible with float64, please explicitly cast to a compatible dtype first.\n",
      "  tradebook_long.loc[\n"
     ]
    },
    {
     "name": "stdout",
     "output_type": "stream",
     "text": [
      "EMA:48, X:10, PCT:0.1\n"
     ]
    },
    {
     "name": "stderr",
     "output_type": "stream",
     "text": [
      "/tmp/ipykernel_36223/3149794742.py:132: FutureWarning: Setting an item of incompatible dtype is deprecated and will raise an error in a future version of pandas. Value 'Trailing SL Hit' has dtype incompatible with float64, please explicitly cast to a compatible dtype first.\n",
      "  tradebook_long.loc[\n"
     ]
    },
    {
     "name": "stdout",
     "output_type": "stream",
     "text": [
      "EMA:48, X:12, PCT:0.1\n"
     ]
    },
    {
     "name": "stderr",
     "output_type": "stream",
     "text": [
      "/tmp/ipykernel_36223/3149794742.py:132: FutureWarning: Setting an item of incompatible dtype is deprecated and will raise an error in a future version of pandas. Value 'Trailing SL Hit' has dtype incompatible with float64, please explicitly cast to a compatible dtype first.\n",
      "  tradebook_long.loc[\n"
     ]
    },
    {
     "name": "stdout",
     "output_type": "stream",
     "text": [
      "EMA:48, X:14, PCT:0.1\n"
     ]
    },
    {
     "name": "stderr",
     "output_type": "stream",
     "text": [
      "/tmp/ipykernel_36223/3149794742.py:132: FutureWarning: Setting an item of incompatible dtype is deprecated and will raise an error in a future version of pandas. Value 'Trailing SL Hit' has dtype incompatible with float64, please explicitly cast to a compatible dtype first.\n",
      "  tradebook_long.loc[\n"
     ]
    },
    {
     "name": "stdout",
     "output_type": "stream",
     "text": [
      "EMA:48, X:16, PCT:0.1\n"
     ]
    },
    {
     "name": "stderr",
     "output_type": "stream",
     "text": [
      "/tmp/ipykernel_36223/3149794742.py:132: FutureWarning: Setting an item of incompatible dtype is deprecated and will raise an error in a future version of pandas. Value 'Trailing SL Hit' has dtype incompatible with float64, please explicitly cast to a compatible dtype first.\n",
      "  tradebook_long.loc[\n"
     ]
    },
    {
     "name": "stdout",
     "output_type": "stream",
     "text": [
      "EMA:48, X:18, PCT:0.1\n"
     ]
    },
    {
     "name": "stderr",
     "output_type": "stream",
     "text": [
      "/tmp/ipykernel_36223/3149794742.py:132: FutureWarning: Setting an item of incompatible dtype is deprecated and will raise an error in a future version of pandas. Value 'Trailing SL Hit' has dtype incompatible with float64, please explicitly cast to a compatible dtype first.\n",
      "  tradebook_long.loc[\n"
     ]
    },
    {
     "name": "stdout",
     "output_type": "stream",
     "text": [
      "EMA:48, X:20, PCT:0.1\n"
     ]
    },
    {
     "name": "stderr",
     "output_type": "stream",
     "text": [
      "/tmp/ipykernel_36223/3149794742.py:132: FutureWarning: Setting an item of incompatible dtype is deprecated and will raise an error in a future version of pandas. Value 'Trailing SL Hit' has dtype incompatible with float64, please explicitly cast to a compatible dtype first.\n",
      "  tradebook_long.loc[\n"
     ]
    },
    {
     "name": "stdout",
     "output_type": "stream",
     "text": [
      "EMA:48, X:22, PCT:0.1\n"
     ]
    },
    {
     "name": "stderr",
     "output_type": "stream",
     "text": [
      "/tmp/ipykernel_36223/3149794742.py:132: FutureWarning: Setting an item of incompatible dtype is deprecated and will raise an error in a future version of pandas. Value 'Trailing SL Hit' has dtype incompatible with float64, please explicitly cast to a compatible dtype first.\n",
      "  tradebook_long.loc[\n"
     ]
    },
    {
     "name": "stdout",
     "output_type": "stream",
     "text": [
      "EMA:48, X:24, PCT:0.1\n"
     ]
    },
    {
     "name": "stderr",
     "output_type": "stream",
     "text": [
      "/tmp/ipykernel_36223/3149794742.py:132: FutureWarning: Setting an item of incompatible dtype is deprecated and will raise an error in a future version of pandas. Value 'Trailing SL Hit' has dtype incompatible with float64, please explicitly cast to a compatible dtype first.\n",
      "  tradebook_long.loc[\n"
     ]
    },
    {
     "name": "stdout",
     "output_type": "stream",
     "text": [
      "EMA:48, X:26, PCT:0.1\n"
     ]
    },
    {
     "name": "stderr",
     "output_type": "stream",
     "text": [
      "/tmp/ipykernel_36223/3149794742.py:132: FutureWarning: Setting an item of incompatible dtype is deprecated and will raise an error in a future version of pandas. Value 'Trailing SL Hit' has dtype incompatible with float64, please explicitly cast to a compatible dtype first.\n",
      "  tradebook_long.loc[\n"
     ]
    },
    {
     "name": "stdout",
     "output_type": "stream",
     "text": [
      "EMA:48, X:28, PCT:0.1\n"
     ]
    },
    {
     "name": "stderr",
     "output_type": "stream",
     "text": [
      "/tmp/ipykernel_36223/3149794742.py:132: FutureWarning: Setting an item of incompatible dtype is deprecated and will raise an error in a future version of pandas. Value 'Trailing SL Hit' has dtype incompatible with float64, please explicitly cast to a compatible dtype first.\n",
      "  tradebook_long.loc[\n"
     ]
    },
    {
     "name": "stdout",
     "output_type": "stream",
     "text": [
      "EMA:48, X:30, PCT:0.1\n"
     ]
    },
    {
     "name": "stderr",
     "output_type": "stream",
     "text": [
      "/tmp/ipykernel_36223/3149794742.py:132: FutureWarning: Setting an item of incompatible dtype is deprecated and will raise an error in a future version of pandas. Value 'Trailing SL Hit' has dtype incompatible with float64, please explicitly cast to a compatible dtype first.\n",
      "  tradebook_long.loc[\n"
     ]
    },
    {
     "name": "stdout",
     "output_type": "stream",
     "text": [
      "EMA:48, X:32, PCT:0.1\n"
     ]
    },
    {
     "name": "stderr",
     "output_type": "stream",
     "text": [
      "/tmp/ipykernel_36223/3149794742.py:132: FutureWarning: Setting an item of incompatible dtype is deprecated and will raise an error in a future version of pandas. Value 'Trailing SL Hit' has dtype incompatible with float64, please explicitly cast to a compatible dtype first.\n",
      "  tradebook_long.loc[\n"
     ]
    },
    {
     "name": "stdout",
     "output_type": "stream",
     "text": [
      "EMA:48, X:34, PCT:0.1\n"
     ]
    },
    {
     "name": "stderr",
     "output_type": "stream",
     "text": [
      "/tmp/ipykernel_36223/3149794742.py:132: FutureWarning: Setting an item of incompatible dtype is deprecated and will raise an error in a future version of pandas. Value 'Trailing SL Hit' has dtype incompatible with float64, please explicitly cast to a compatible dtype first.\n",
      "  tradebook_long.loc[\n"
     ]
    },
    {
     "name": "stdout",
     "output_type": "stream",
     "text": [
      "EMA:48, X:36, PCT:0.1\n"
     ]
    },
    {
     "name": "stderr",
     "output_type": "stream",
     "text": [
      "/tmp/ipykernel_36223/3149794742.py:132: FutureWarning: Setting an item of incompatible dtype is deprecated and will raise an error in a future version of pandas. Value 'Trailing SL Hit' has dtype incompatible with float64, please explicitly cast to a compatible dtype first.\n",
      "  tradebook_long.loc[\n"
     ]
    },
    {
     "name": "stdout",
     "output_type": "stream",
     "text": [
      "EMA:50, X:4, PCT:0.1\n"
     ]
    },
    {
     "name": "stderr",
     "output_type": "stream",
     "text": [
      "/tmp/ipykernel_36223/3149794742.py:132: FutureWarning: Setting an item of incompatible dtype is deprecated and will raise an error in a future version of pandas. Value 'Trailing SL Hit' has dtype incompatible with float64, please explicitly cast to a compatible dtype first.\n",
      "  tradebook_long.loc[\n"
     ]
    },
    {
     "name": "stdout",
     "output_type": "stream",
     "text": [
      "EMA:50, X:6, PCT:0.1\n"
     ]
    },
    {
     "name": "stderr",
     "output_type": "stream",
     "text": [
      "/tmp/ipykernel_36223/3149794742.py:132: FutureWarning: Setting an item of incompatible dtype is deprecated and will raise an error in a future version of pandas. Value 'Trailing SL Hit' has dtype incompatible with float64, please explicitly cast to a compatible dtype first.\n",
      "  tradebook_long.loc[\n"
     ]
    },
    {
     "name": "stdout",
     "output_type": "stream",
     "text": [
      "EMA:50, X:8, PCT:0.1\n"
     ]
    },
    {
     "name": "stderr",
     "output_type": "stream",
     "text": [
      "/tmp/ipykernel_36223/3149794742.py:132: FutureWarning: Setting an item of incompatible dtype is deprecated and will raise an error in a future version of pandas. Value 'Trailing SL Hit' has dtype incompatible with float64, please explicitly cast to a compatible dtype first.\n",
      "  tradebook_long.loc[\n"
     ]
    },
    {
     "name": "stdout",
     "output_type": "stream",
     "text": [
      "EMA:50, X:10, PCT:0.1\n"
     ]
    },
    {
     "name": "stderr",
     "output_type": "stream",
     "text": [
      "/tmp/ipykernel_36223/3149794742.py:132: FutureWarning: Setting an item of incompatible dtype is deprecated and will raise an error in a future version of pandas. Value 'Trailing SL Hit' has dtype incompatible with float64, please explicitly cast to a compatible dtype first.\n",
      "  tradebook_long.loc[\n"
     ]
    },
    {
     "name": "stdout",
     "output_type": "stream",
     "text": [
      "EMA:50, X:12, PCT:0.1\n"
     ]
    },
    {
     "name": "stderr",
     "output_type": "stream",
     "text": [
      "/tmp/ipykernel_36223/3149794742.py:132: FutureWarning: Setting an item of incompatible dtype is deprecated and will raise an error in a future version of pandas. Value 'Trailing SL Hit' has dtype incompatible with float64, please explicitly cast to a compatible dtype first.\n",
      "  tradebook_long.loc[\n"
     ]
    },
    {
     "name": "stdout",
     "output_type": "stream",
     "text": [
      "EMA:50, X:14, PCT:0.1\n"
     ]
    },
    {
     "name": "stderr",
     "output_type": "stream",
     "text": [
      "/tmp/ipykernel_36223/3149794742.py:132: FutureWarning: Setting an item of incompatible dtype is deprecated and will raise an error in a future version of pandas. Value 'Trailing SL Hit' has dtype incompatible with float64, please explicitly cast to a compatible dtype first.\n",
      "  tradebook_long.loc[\n"
     ]
    },
    {
     "name": "stdout",
     "output_type": "stream",
     "text": [
      "EMA:50, X:16, PCT:0.1\n"
     ]
    },
    {
     "name": "stderr",
     "output_type": "stream",
     "text": [
      "/tmp/ipykernel_36223/3149794742.py:132: FutureWarning: Setting an item of incompatible dtype is deprecated and will raise an error in a future version of pandas. Value 'Trailing SL Hit' has dtype incompatible with float64, please explicitly cast to a compatible dtype first.\n",
      "  tradebook_long.loc[\n"
     ]
    },
    {
     "name": "stdout",
     "output_type": "stream",
     "text": [
      "EMA:50, X:18, PCT:0.1\n"
     ]
    },
    {
     "name": "stderr",
     "output_type": "stream",
     "text": [
      "/tmp/ipykernel_36223/3149794742.py:132: FutureWarning: Setting an item of incompatible dtype is deprecated and will raise an error in a future version of pandas. Value 'Trailing SL Hit' has dtype incompatible with float64, please explicitly cast to a compatible dtype first.\n",
      "  tradebook_long.loc[\n"
     ]
    },
    {
     "name": "stdout",
     "output_type": "stream",
     "text": [
      "EMA:50, X:20, PCT:0.1\n"
     ]
    },
    {
     "name": "stderr",
     "output_type": "stream",
     "text": [
      "/tmp/ipykernel_36223/3149794742.py:132: FutureWarning: Setting an item of incompatible dtype is deprecated and will raise an error in a future version of pandas. Value 'Trailing SL Hit' has dtype incompatible with float64, please explicitly cast to a compatible dtype first.\n",
      "  tradebook_long.loc[\n"
     ]
    },
    {
     "name": "stdout",
     "output_type": "stream",
     "text": [
      "EMA:50, X:22, PCT:0.1\n"
     ]
    },
    {
     "name": "stderr",
     "output_type": "stream",
     "text": [
      "/tmp/ipykernel_36223/3149794742.py:132: FutureWarning: Setting an item of incompatible dtype is deprecated and will raise an error in a future version of pandas. Value 'Trailing SL Hit' has dtype incompatible with float64, please explicitly cast to a compatible dtype first.\n",
      "  tradebook_long.loc[\n"
     ]
    },
    {
     "name": "stdout",
     "output_type": "stream",
     "text": [
      "EMA:50, X:24, PCT:0.1\n"
     ]
    },
    {
     "name": "stderr",
     "output_type": "stream",
     "text": [
      "/tmp/ipykernel_36223/3149794742.py:132: FutureWarning: Setting an item of incompatible dtype is deprecated and will raise an error in a future version of pandas. Value 'Trailing SL Hit' has dtype incompatible with float64, please explicitly cast to a compatible dtype first.\n",
      "  tradebook_long.loc[\n"
     ]
    },
    {
     "name": "stdout",
     "output_type": "stream",
     "text": [
      "EMA:50, X:26, PCT:0.1\n"
     ]
    },
    {
     "name": "stderr",
     "output_type": "stream",
     "text": [
      "/tmp/ipykernel_36223/3149794742.py:132: FutureWarning: Setting an item of incompatible dtype is deprecated and will raise an error in a future version of pandas. Value 'Trailing SL Hit' has dtype incompatible with float64, please explicitly cast to a compatible dtype first.\n",
      "  tradebook_long.loc[\n"
     ]
    },
    {
     "name": "stdout",
     "output_type": "stream",
     "text": [
      "EMA:50, X:28, PCT:0.1\n"
     ]
    },
    {
     "name": "stderr",
     "output_type": "stream",
     "text": [
      "/tmp/ipykernel_36223/3149794742.py:132: FutureWarning: Setting an item of incompatible dtype is deprecated and will raise an error in a future version of pandas. Value 'Trailing SL Hit' has dtype incompatible with float64, please explicitly cast to a compatible dtype first.\n",
      "  tradebook_long.loc[\n"
     ]
    },
    {
     "name": "stdout",
     "output_type": "stream",
     "text": [
      "EMA:50, X:30, PCT:0.1\n"
     ]
    },
    {
     "name": "stderr",
     "output_type": "stream",
     "text": [
      "/tmp/ipykernel_36223/3149794742.py:132: FutureWarning: Setting an item of incompatible dtype is deprecated and will raise an error in a future version of pandas. Value 'Trailing SL Hit' has dtype incompatible with float64, please explicitly cast to a compatible dtype first.\n",
      "  tradebook_long.loc[\n"
     ]
    },
    {
     "name": "stdout",
     "output_type": "stream",
     "text": [
      "EMA:50, X:32, PCT:0.1\n"
     ]
    },
    {
     "name": "stderr",
     "output_type": "stream",
     "text": [
      "/tmp/ipykernel_36223/3149794742.py:132: FutureWarning: Setting an item of incompatible dtype is deprecated and will raise an error in a future version of pandas. Value 'Trailing SL Hit' has dtype incompatible with float64, please explicitly cast to a compatible dtype first.\n",
      "  tradebook_long.loc[\n"
     ]
    },
    {
     "name": "stdout",
     "output_type": "stream",
     "text": [
      "EMA:50, X:34, PCT:0.1\n"
     ]
    },
    {
     "name": "stderr",
     "output_type": "stream",
     "text": [
      "/tmp/ipykernel_36223/3149794742.py:132: FutureWarning: Setting an item of incompatible dtype is deprecated and will raise an error in a future version of pandas. Value 'Trailing SL Hit' has dtype incompatible with float64, please explicitly cast to a compatible dtype first.\n",
      "  tradebook_long.loc[\n"
     ]
    },
    {
     "name": "stdout",
     "output_type": "stream",
     "text": [
      "EMA:50, X:36, PCT:0.1\n"
     ]
    },
    {
     "name": "stderr",
     "output_type": "stream",
     "text": [
      "/tmp/ipykernel_36223/3149794742.py:132: FutureWarning: Setting an item of incompatible dtype is deprecated and will raise an error in a future version of pandas. Value 'Trailing SL Hit' has dtype incompatible with float64, please explicitly cast to a compatible dtype first.\n",
      "  tradebook_long.loc[\n"
     ]
    },
    {
     "name": "stdout",
     "output_type": "stream",
     "text": [
      "EMA:52, X:4, PCT:0.1\n"
     ]
    },
    {
     "name": "stderr",
     "output_type": "stream",
     "text": [
      "/tmp/ipykernel_36223/3149794742.py:132: FutureWarning: Setting an item of incompatible dtype is deprecated and will raise an error in a future version of pandas. Value 'Trailing SL Hit' has dtype incompatible with float64, please explicitly cast to a compatible dtype first.\n",
      "  tradebook_long.loc[\n"
     ]
    },
    {
     "name": "stdout",
     "output_type": "stream",
     "text": [
      "EMA:52, X:6, PCT:0.1\n"
     ]
    },
    {
     "name": "stderr",
     "output_type": "stream",
     "text": [
      "/tmp/ipykernel_36223/3149794742.py:132: FutureWarning: Setting an item of incompatible dtype is deprecated and will raise an error in a future version of pandas. Value 'Trailing SL Hit' has dtype incompatible with float64, please explicitly cast to a compatible dtype first.\n",
      "  tradebook_long.loc[\n"
     ]
    },
    {
     "name": "stdout",
     "output_type": "stream",
     "text": [
      "EMA:52, X:8, PCT:0.1\n"
     ]
    },
    {
     "name": "stderr",
     "output_type": "stream",
     "text": [
      "/tmp/ipykernel_36223/3149794742.py:132: FutureWarning: Setting an item of incompatible dtype is deprecated and will raise an error in a future version of pandas. Value 'Trailing SL Hit' has dtype incompatible with float64, please explicitly cast to a compatible dtype first.\n",
      "  tradebook_long.loc[\n"
     ]
    },
    {
     "name": "stdout",
     "output_type": "stream",
     "text": [
      "EMA:52, X:10, PCT:0.1\n"
     ]
    },
    {
     "name": "stderr",
     "output_type": "stream",
     "text": [
      "/tmp/ipykernel_36223/3149794742.py:132: FutureWarning: Setting an item of incompatible dtype is deprecated and will raise an error in a future version of pandas. Value 'Trailing SL Hit' has dtype incompatible with float64, please explicitly cast to a compatible dtype first.\n",
      "  tradebook_long.loc[\n"
     ]
    },
    {
     "name": "stdout",
     "output_type": "stream",
     "text": [
      "EMA:52, X:12, PCT:0.1\n"
     ]
    },
    {
     "name": "stderr",
     "output_type": "stream",
     "text": [
      "/tmp/ipykernel_36223/3149794742.py:132: FutureWarning: Setting an item of incompatible dtype is deprecated and will raise an error in a future version of pandas. Value 'Trailing SL Hit' has dtype incompatible with float64, please explicitly cast to a compatible dtype first.\n",
      "  tradebook_long.loc[\n"
     ]
    },
    {
     "name": "stdout",
     "output_type": "stream",
     "text": [
      "EMA:52, X:14, PCT:0.1\n"
     ]
    },
    {
     "name": "stderr",
     "output_type": "stream",
     "text": [
      "/tmp/ipykernel_36223/3149794742.py:132: FutureWarning: Setting an item of incompatible dtype is deprecated and will raise an error in a future version of pandas. Value 'Trailing SL Hit' has dtype incompatible with float64, please explicitly cast to a compatible dtype first.\n",
      "  tradebook_long.loc[\n"
     ]
    },
    {
     "name": "stdout",
     "output_type": "stream",
     "text": [
      "EMA:52, X:16, PCT:0.1\n"
     ]
    },
    {
     "name": "stderr",
     "output_type": "stream",
     "text": [
      "/tmp/ipykernel_36223/3149794742.py:132: FutureWarning: Setting an item of incompatible dtype is deprecated and will raise an error in a future version of pandas. Value 'Trailing SL Hit' has dtype incompatible with float64, please explicitly cast to a compatible dtype first.\n",
      "  tradebook_long.loc[\n"
     ]
    },
    {
     "name": "stdout",
     "output_type": "stream",
     "text": [
      "EMA:52, X:18, PCT:0.1\n"
     ]
    },
    {
     "name": "stderr",
     "output_type": "stream",
     "text": [
      "/tmp/ipykernel_36223/3149794742.py:132: FutureWarning: Setting an item of incompatible dtype is deprecated and will raise an error in a future version of pandas. Value 'Trailing SL Hit' has dtype incompatible with float64, please explicitly cast to a compatible dtype first.\n",
      "  tradebook_long.loc[\n"
     ]
    },
    {
     "name": "stdout",
     "output_type": "stream",
     "text": [
      "EMA:52, X:20, PCT:0.1\n"
     ]
    },
    {
     "name": "stderr",
     "output_type": "stream",
     "text": [
      "/tmp/ipykernel_36223/3149794742.py:132: FutureWarning: Setting an item of incompatible dtype is deprecated and will raise an error in a future version of pandas. Value 'Trailing SL Hit' has dtype incompatible with float64, please explicitly cast to a compatible dtype first.\n",
      "  tradebook_long.loc[\n"
     ]
    },
    {
     "name": "stdout",
     "output_type": "stream",
     "text": [
      "EMA:52, X:22, PCT:0.1\n"
     ]
    },
    {
     "name": "stderr",
     "output_type": "stream",
     "text": [
      "/tmp/ipykernel_36223/3149794742.py:132: FutureWarning: Setting an item of incompatible dtype is deprecated and will raise an error in a future version of pandas. Value 'Trailing SL Hit' has dtype incompatible with float64, please explicitly cast to a compatible dtype first.\n",
      "  tradebook_long.loc[\n"
     ]
    },
    {
     "name": "stdout",
     "output_type": "stream",
     "text": [
      "EMA:52, X:24, PCT:0.1\n"
     ]
    },
    {
     "name": "stderr",
     "output_type": "stream",
     "text": [
      "/tmp/ipykernel_36223/3149794742.py:132: FutureWarning: Setting an item of incompatible dtype is deprecated and will raise an error in a future version of pandas. Value 'Trailing SL Hit' has dtype incompatible with float64, please explicitly cast to a compatible dtype first.\n",
      "  tradebook_long.loc[\n"
     ]
    },
    {
     "name": "stdout",
     "output_type": "stream",
     "text": [
      "EMA:52, X:26, PCT:0.1\n"
     ]
    },
    {
     "name": "stderr",
     "output_type": "stream",
     "text": [
      "/tmp/ipykernel_36223/3149794742.py:132: FutureWarning: Setting an item of incompatible dtype is deprecated and will raise an error in a future version of pandas. Value 'Trailing SL Hit' has dtype incompatible with float64, please explicitly cast to a compatible dtype first.\n",
      "  tradebook_long.loc[\n"
     ]
    },
    {
     "name": "stdout",
     "output_type": "stream",
     "text": [
      "EMA:52, X:28, PCT:0.1\n"
     ]
    },
    {
     "name": "stderr",
     "output_type": "stream",
     "text": [
      "/tmp/ipykernel_36223/3149794742.py:132: FutureWarning: Setting an item of incompatible dtype is deprecated and will raise an error in a future version of pandas. Value 'Trailing SL Hit' has dtype incompatible with float64, please explicitly cast to a compatible dtype first.\n",
      "  tradebook_long.loc[\n"
     ]
    },
    {
     "name": "stdout",
     "output_type": "stream",
     "text": [
      "EMA:52, X:30, PCT:0.1\n"
     ]
    },
    {
     "name": "stderr",
     "output_type": "stream",
     "text": [
      "/tmp/ipykernel_36223/3149794742.py:132: FutureWarning: Setting an item of incompatible dtype is deprecated and will raise an error in a future version of pandas. Value 'Trailing SL Hit' has dtype incompatible with float64, please explicitly cast to a compatible dtype first.\n",
      "  tradebook_long.loc[\n"
     ]
    },
    {
     "name": "stdout",
     "output_type": "stream",
     "text": [
      "EMA:52, X:32, PCT:0.1\n"
     ]
    },
    {
     "name": "stderr",
     "output_type": "stream",
     "text": [
      "/tmp/ipykernel_36223/3149794742.py:132: FutureWarning: Setting an item of incompatible dtype is deprecated and will raise an error in a future version of pandas. Value 'Trailing SL Hit' has dtype incompatible with float64, please explicitly cast to a compatible dtype first.\n",
      "  tradebook_long.loc[\n"
     ]
    },
    {
     "name": "stdout",
     "output_type": "stream",
     "text": [
      "EMA:52, X:34, PCT:0.1\n"
     ]
    },
    {
     "name": "stderr",
     "output_type": "stream",
     "text": [
      "/tmp/ipykernel_36223/3149794742.py:132: FutureWarning: Setting an item of incompatible dtype is deprecated and will raise an error in a future version of pandas. Value 'Trailing SL Hit' has dtype incompatible with float64, please explicitly cast to a compatible dtype first.\n",
      "  tradebook_long.loc[\n"
     ]
    },
    {
     "name": "stdout",
     "output_type": "stream",
     "text": [
      "EMA:52, X:36, PCT:0.1\n"
     ]
    },
    {
     "name": "stderr",
     "output_type": "stream",
     "text": [
      "/tmp/ipykernel_36223/3149794742.py:132: FutureWarning: Setting an item of incompatible dtype is deprecated and will raise an error in a future version of pandas. Value 'Trailing SL Hit' has dtype incompatible with float64, please explicitly cast to a compatible dtype first.\n",
      "  tradebook_long.loc[\n"
     ]
    },
    {
     "name": "stdout",
     "output_type": "stream",
     "text": [
      "EMA:54, X:4, PCT:0.1\n"
     ]
    },
    {
     "name": "stderr",
     "output_type": "stream",
     "text": [
      "/tmp/ipykernel_36223/3149794742.py:132: FutureWarning: Setting an item of incompatible dtype is deprecated and will raise an error in a future version of pandas. Value 'Trailing SL Hit' has dtype incompatible with float64, please explicitly cast to a compatible dtype first.\n",
      "  tradebook_long.loc[\n"
     ]
    },
    {
     "name": "stdout",
     "output_type": "stream",
     "text": [
      "EMA:54, X:6, PCT:0.1\n"
     ]
    },
    {
     "name": "stderr",
     "output_type": "stream",
     "text": [
      "/tmp/ipykernel_36223/3149794742.py:132: FutureWarning: Setting an item of incompatible dtype is deprecated and will raise an error in a future version of pandas. Value 'Trailing SL Hit' has dtype incompatible with float64, please explicitly cast to a compatible dtype first.\n",
      "  tradebook_long.loc[\n"
     ]
    },
    {
     "name": "stdout",
     "output_type": "stream",
     "text": [
      "EMA:54, X:8, PCT:0.1\n"
     ]
    },
    {
     "name": "stderr",
     "output_type": "stream",
     "text": [
      "/tmp/ipykernel_36223/3149794742.py:132: FutureWarning: Setting an item of incompatible dtype is deprecated and will raise an error in a future version of pandas. Value 'Trailing SL Hit' has dtype incompatible with float64, please explicitly cast to a compatible dtype first.\n",
      "  tradebook_long.loc[\n"
     ]
    },
    {
     "name": "stdout",
     "output_type": "stream",
     "text": [
      "EMA:54, X:10, PCT:0.1\n"
     ]
    },
    {
     "name": "stderr",
     "output_type": "stream",
     "text": [
      "/tmp/ipykernel_36223/3149794742.py:132: FutureWarning: Setting an item of incompatible dtype is deprecated and will raise an error in a future version of pandas. Value 'Trailing SL Hit' has dtype incompatible with float64, please explicitly cast to a compatible dtype first.\n",
      "  tradebook_long.loc[\n"
     ]
    },
    {
     "name": "stdout",
     "output_type": "stream",
     "text": [
      "EMA:54, X:12, PCT:0.1\n"
     ]
    },
    {
     "name": "stderr",
     "output_type": "stream",
     "text": [
      "/tmp/ipykernel_36223/3149794742.py:132: FutureWarning: Setting an item of incompatible dtype is deprecated and will raise an error in a future version of pandas. Value 'Trailing SL Hit' has dtype incompatible with float64, please explicitly cast to a compatible dtype first.\n",
      "  tradebook_long.loc[\n"
     ]
    },
    {
     "name": "stdout",
     "output_type": "stream",
     "text": [
      "EMA:54, X:14, PCT:0.1\n"
     ]
    },
    {
     "name": "stderr",
     "output_type": "stream",
     "text": [
      "/tmp/ipykernel_36223/3149794742.py:132: FutureWarning: Setting an item of incompatible dtype is deprecated and will raise an error in a future version of pandas. Value 'Trailing SL Hit' has dtype incompatible with float64, please explicitly cast to a compatible dtype first.\n",
      "  tradebook_long.loc[\n"
     ]
    },
    {
     "name": "stdout",
     "output_type": "stream",
     "text": [
      "EMA:54, X:16, PCT:0.1\n"
     ]
    },
    {
     "name": "stderr",
     "output_type": "stream",
     "text": [
      "/tmp/ipykernel_36223/3149794742.py:132: FutureWarning: Setting an item of incompatible dtype is deprecated and will raise an error in a future version of pandas. Value 'Trailing SL Hit' has dtype incompatible with float64, please explicitly cast to a compatible dtype first.\n",
      "  tradebook_long.loc[\n"
     ]
    },
    {
     "name": "stdout",
     "output_type": "stream",
     "text": [
      "EMA:54, X:18, PCT:0.1\n"
     ]
    },
    {
     "name": "stderr",
     "output_type": "stream",
     "text": [
      "/tmp/ipykernel_36223/3149794742.py:132: FutureWarning: Setting an item of incompatible dtype is deprecated and will raise an error in a future version of pandas. Value 'Trailing SL Hit' has dtype incompatible with float64, please explicitly cast to a compatible dtype first.\n",
      "  tradebook_long.loc[\n"
     ]
    },
    {
     "name": "stdout",
     "output_type": "stream",
     "text": [
      "EMA:54, X:20, PCT:0.1\n"
     ]
    },
    {
     "name": "stderr",
     "output_type": "stream",
     "text": [
      "/tmp/ipykernel_36223/3149794742.py:132: FutureWarning: Setting an item of incompatible dtype is deprecated and will raise an error in a future version of pandas. Value 'Trailing SL Hit' has dtype incompatible with float64, please explicitly cast to a compatible dtype first.\n",
      "  tradebook_long.loc[\n"
     ]
    },
    {
     "name": "stdout",
     "output_type": "stream",
     "text": [
      "EMA:54, X:22, PCT:0.1\n"
     ]
    },
    {
     "name": "stderr",
     "output_type": "stream",
     "text": [
      "/tmp/ipykernel_36223/3149794742.py:132: FutureWarning: Setting an item of incompatible dtype is deprecated and will raise an error in a future version of pandas. Value 'Trailing SL Hit' has dtype incompatible with float64, please explicitly cast to a compatible dtype first.\n",
      "  tradebook_long.loc[\n"
     ]
    },
    {
     "name": "stdout",
     "output_type": "stream",
     "text": [
      "EMA:54, X:24, PCT:0.1\n"
     ]
    },
    {
     "name": "stderr",
     "output_type": "stream",
     "text": [
      "/tmp/ipykernel_36223/3149794742.py:132: FutureWarning: Setting an item of incompatible dtype is deprecated and will raise an error in a future version of pandas. Value 'Trailing SL Hit' has dtype incompatible with float64, please explicitly cast to a compatible dtype first.\n",
      "  tradebook_long.loc[\n"
     ]
    },
    {
     "name": "stdout",
     "output_type": "stream",
     "text": [
      "EMA:54, X:26, PCT:0.1\n"
     ]
    },
    {
     "name": "stderr",
     "output_type": "stream",
     "text": [
      "/tmp/ipykernel_36223/3149794742.py:132: FutureWarning: Setting an item of incompatible dtype is deprecated and will raise an error in a future version of pandas. Value 'Trailing SL Hit' has dtype incompatible with float64, please explicitly cast to a compatible dtype first.\n",
      "  tradebook_long.loc[\n"
     ]
    },
    {
     "name": "stdout",
     "output_type": "stream",
     "text": [
      "EMA:54, X:28, PCT:0.1\n"
     ]
    },
    {
     "name": "stderr",
     "output_type": "stream",
     "text": [
      "/tmp/ipykernel_36223/3149794742.py:132: FutureWarning: Setting an item of incompatible dtype is deprecated and will raise an error in a future version of pandas. Value 'Trailing SL Hit' has dtype incompatible with float64, please explicitly cast to a compatible dtype first.\n",
      "  tradebook_long.loc[\n"
     ]
    },
    {
     "name": "stdout",
     "output_type": "stream",
     "text": [
      "EMA:54, X:30, PCT:0.1\n"
     ]
    },
    {
     "name": "stderr",
     "output_type": "stream",
     "text": [
      "/tmp/ipykernel_36223/3149794742.py:132: FutureWarning: Setting an item of incompatible dtype is deprecated and will raise an error in a future version of pandas. Value 'Trailing SL Hit' has dtype incompatible with float64, please explicitly cast to a compatible dtype first.\n",
      "  tradebook_long.loc[\n"
     ]
    },
    {
     "name": "stdout",
     "output_type": "stream",
     "text": [
      "EMA:54, X:32, PCT:0.1\n"
     ]
    },
    {
     "name": "stderr",
     "output_type": "stream",
     "text": [
      "/tmp/ipykernel_36223/3149794742.py:132: FutureWarning: Setting an item of incompatible dtype is deprecated and will raise an error in a future version of pandas. Value 'Trailing SL Hit' has dtype incompatible with float64, please explicitly cast to a compatible dtype first.\n",
      "  tradebook_long.loc[\n"
     ]
    },
    {
     "name": "stdout",
     "output_type": "stream",
     "text": [
      "EMA:54, X:34, PCT:0.1\n"
     ]
    },
    {
     "name": "stderr",
     "output_type": "stream",
     "text": [
      "/tmp/ipykernel_36223/3149794742.py:132: FutureWarning: Setting an item of incompatible dtype is deprecated and will raise an error in a future version of pandas. Value 'Trailing SL Hit' has dtype incompatible with float64, please explicitly cast to a compatible dtype first.\n",
      "  tradebook_long.loc[\n"
     ]
    },
    {
     "name": "stdout",
     "output_type": "stream",
     "text": [
      "EMA:54, X:36, PCT:0.1\n"
     ]
    },
    {
     "name": "stderr",
     "output_type": "stream",
     "text": [
      "/tmp/ipykernel_36223/3149794742.py:132: FutureWarning: Setting an item of incompatible dtype is deprecated and will raise an error in a future version of pandas. Value 'Trailing SL Hit' has dtype incompatible with float64, please explicitly cast to a compatible dtype first.\n",
      "  tradebook_long.loc[\n"
     ]
    },
    {
     "name": "stdout",
     "output_type": "stream",
     "text": [
      "EMA:56, X:4, PCT:0.1\n"
     ]
    },
    {
     "name": "stderr",
     "output_type": "stream",
     "text": [
      "/tmp/ipykernel_36223/3149794742.py:132: FutureWarning: Setting an item of incompatible dtype is deprecated and will raise an error in a future version of pandas. Value 'Trailing SL Hit' has dtype incompatible with float64, please explicitly cast to a compatible dtype first.\n",
      "  tradebook_long.loc[\n"
     ]
    },
    {
     "name": "stdout",
     "output_type": "stream",
     "text": [
      "EMA:56, X:6, PCT:0.1\n"
     ]
    },
    {
     "name": "stderr",
     "output_type": "stream",
     "text": [
      "/tmp/ipykernel_36223/3149794742.py:132: FutureWarning: Setting an item of incompatible dtype is deprecated and will raise an error in a future version of pandas. Value 'Trailing SL Hit' has dtype incompatible with float64, please explicitly cast to a compatible dtype first.\n",
      "  tradebook_long.loc[\n"
     ]
    },
    {
     "name": "stdout",
     "output_type": "stream",
     "text": [
      "EMA:56, X:8, PCT:0.1\n"
     ]
    },
    {
     "name": "stderr",
     "output_type": "stream",
     "text": [
      "/tmp/ipykernel_36223/3149794742.py:132: FutureWarning: Setting an item of incompatible dtype is deprecated and will raise an error in a future version of pandas. Value 'Trailing SL Hit' has dtype incompatible with float64, please explicitly cast to a compatible dtype first.\n",
      "  tradebook_long.loc[\n"
     ]
    },
    {
     "name": "stdout",
     "output_type": "stream",
     "text": [
      "EMA:56, X:10, PCT:0.1\n"
     ]
    },
    {
     "name": "stderr",
     "output_type": "stream",
     "text": [
      "/tmp/ipykernel_36223/3149794742.py:132: FutureWarning: Setting an item of incompatible dtype is deprecated and will raise an error in a future version of pandas. Value 'Trailing SL Hit' has dtype incompatible with float64, please explicitly cast to a compatible dtype first.\n",
      "  tradebook_long.loc[\n"
     ]
    },
    {
     "name": "stdout",
     "output_type": "stream",
     "text": [
      "EMA:56, X:12, PCT:0.1\n"
     ]
    },
    {
     "name": "stderr",
     "output_type": "stream",
     "text": [
      "/tmp/ipykernel_36223/3149794742.py:132: FutureWarning: Setting an item of incompatible dtype is deprecated and will raise an error in a future version of pandas. Value 'Trailing SL Hit' has dtype incompatible with float64, please explicitly cast to a compatible dtype first.\n",
      "  tradebook_long.loc[\n"
     ]
    },
    {
     "name": "stdout",
     "output_type": "stream",
     "text": [
      "EMA:56, X:14, PCT:0.1\n"
     ]
    },
    {
     "name": "stderr",
     "output_type": "stream",
     "text": [
      "/tmp/ipykernel_36223/3149794742.py:132: FutureWarning: Setting an item of incompatible dtype is deprecated and will raise an error in a future version of pandas. Value 'Trailing SL Hit' has dtype incompatible with float64, please explicitly cast to a compatible dtype first.\n",
      "  tradebook_long.loc[\n"
     ]
    },
    {
     "name": "stdout",
     "output_type": "stream",
     "text": [
      "EMA:56, X:16, PCT:0.1\n"
     ]
    },
    {
     "name": "stderr",
     "output_type": "stream",
     "text": [
      "/tmp/ipykernel_36223/3149794742.py:132: FutureWarning: Setting an item of incompatible dtype is deprecated and will raise an error in a future version of pandas. Value 'Trailing SL Hit' has dtype incompatible with float64, please explicitly cast to a compatible dtype first.\n",
      "  tradebook_long.loc[\n"
     ]
    },
    {
     "name": "stdout",
     "output_type": "stream",
     "text": [
      "EMA:56, X:18, PCT:0.1\n"
     ]
    },
    {
     "name": "stderr",
     "output_type": "stream",
     "text": [
      "/tmp/ipykernel_36223/3149794742.py:132: FutureWarning: Setting an item of incompatible dtype is deprecated and will raise an error in a future version of pandas. Value 'Trailing SL Hit' has dtype incompatible with float64, please explicitly cast to a compatible dtype first.\n",
      "  tradebook_long.loc[\n"
     ]
    },
    {
     "name": "stdout",
     "output_type": "stream",
     "text": [
      "EMA:56, X:20, PCT:0.1\n"
     ]
    },
    {
     "name": "stderr",
     "output_type": "stream",
     "text": [
      "/tmp/ipykernel_36223/3149794742.py:132: FutureWarning: Setting an item of incompatible dtype is deprecated and will raise an error in a future version of pandas. Value 'Trailing SL Hit' has dtype incompatible with float64, please explicitly cast to a compatible dtype first.\n",
      "  tradebook_long.loc[\n"
     ]
    },
    {
     "name": "stdout",
     "output_type": "stream",
     "text": [
      "EMA:56, X:22, PCT:0.1\n"
     ]
    },
    {
     "name": "stderr",
     "output_type": "stream",
     "text": [
      "/tmp/ipykernel_36223/3149794742.py:132: FutureWarning: Setting an item of incompatible dtype is deprecated and will raise an error in a future version of pandas. Value 'Trailing SL Hit' has dtype incompatible with float64, please explicitly cast to a compatible dtype first.\n",
      "  tradebook_long.loc[\n"
     ]
    },
    {
     "name": "stdout",
     "output_type": "stream",
     "text": [
      "EMA:56, X:24, PCT:0.1\n"
     ]
    },
    {
     "name": "stderr",
     "output_type": "stream",
     "text": [
      "/tmp/ipykernel_36223/3149794742.py:132: FutureWarning: Setting an item of incompatible dtype is deprecated and will raise an error in a future version of pandas. Value 'Trailing SL Hit' has dtype incompatible with float64, please explicitly cast to a compatible dtype first.\n",
      "  tradebook_long.loc[\n"
     ]
    },
    {
     "name": "stdout",
     "output_type": "stream",
     "text": [
      "EMA:56, X:26, PCT:0.1\n"
     ]
    },
    {
     "name": "stderr",
     "output_type": "stream",
     "text": [
      "/tmp/ipykernel_36223/3149794742.py:132: FutureWarning: Setting an item of incompatible dtype is deprecated and will raise an error in a future version of pandas. Value 'Trailing SL Hit' has dtype incompatible with float64, please explicitly cast to a compatible dtype first.\n",
      "  tradebook_long.loc[\n"
     ]
    },
    {
     "name": "stdout",
     "output_type": "stream",
     "text": [
      "EMA:56, X:28, PCT:0.1\n"
     ]
    },
    {
     "name": "stderr",
     "output_type": "stream",
     "text": [
      "/tmp/ipykernel_36223/3149794742.py:132: FutureWarning: Setting an item of incompatible dtype is deprecated and will raise an error in a future version of pandas. Value 'Trailing SL Hit' has dtype incompatible with float64, please explicitly cast to a compatible dtype first.\n",
      "  tradebook_long.loc[\n"
     ]
    },
    {
     "name": "stdout",
     "output_type": "stream",
     "text": [
      "EMA:56, X:30, PCT:0.1\n"
     ]
    },
    {
     "name": "stderr",
     "output_type": "stream",
     "text": [
      "/tmp/ipykernel_36223/3149794742.py:132: FutureWarning: Setting an item of incompatible dtype is deprecated and will raise an error in a future version of pandas. Value 'Trailing SL Hit' has dtype incompatible with float64, please explicitly cast to a compatible dtype first.\n",
      "  tradebook_long.loc[\n"
     ]
    },
    {
     "name": "stdout",
     "output_type": "stream",
     "text": [
      "EMA:56, X:32, PCT:0.1\n"
     ]
    },
    {
     "name": "stderr",
     "output_type": "stream",
     "text": [
      "/tmp/ipykernel_36223/3149794742.py:132: FutureWarning: Setting an item of incompatible dtype is deprecated and will raise an error in a future version of pandas. Value 'Trailing SL Hit' has dtype incompatible with float64, please explicitly cast to a compatible dtype first.\n",
      "  tradebook_long.loc[\n"
     ]
    },
    {
     "name": "stdout",
     "output_type": "stream",
     "text": [
      "EMA:56, X:34, PCT:0.1\n"
     ]
    },
    {
     "name": "stderr",
     "output_type": "stream",
     "text": [
      "/tmp/ipykernel_36223/3149794742.py:132: FutureWarning: Setting an item of incompatible dtype is deprecated and will raise an error in a future version of pandas. Value 'Trailing SL Hit' has dtype incompatible with float64, please explicitly cast to a compatible dtype first.\n",
      "  tradebook_long.loc[\n"
     ]
    },
    {
     "name": "stdout",
     "output_type": "stream",
     "text": [
      "EMA:56, X:36, PCT:0.1\n"
     ]
    },
    {
     "name": "stderr",
     "output_type": "stream",
     "text": [
      "/tmp/ipykernel_36223/3149794742.py:132: FutureWarning: Setting an item of incompatible dtype is deprecated and will raise an error in a future version of pandas. Value 'Trailing SL Hit' has dtype incompatible with float64, please explicitly cast to a compatible dtype first.\n",
      "  tradebook_long.loc[\n"
     ]
    },
    {
     "name": "stdout",
     "output_type": "stream",
     "text": [
      "EMA:58, X:4, PCT:0.1\n"
     ]
    },
    {
     "name": "stderr",
     "output_type": "stream",
     "text": [
      "/tmp/ipykernel_36223/3149794742.py:132: FutureWarning: Setting an item of incompatible dtype is deprecated and will raise an error in a future version of pandas. Value 'Trailing SL Hit' has dtype incompatible with float64, please explicitly cast to a compatible dtype first.\n",
      "  tradebook_long.loc[\n"
     ]
    },
    {
     "name": "stdout",
     "output_type": "stream",
     "text": [
      "EMA:58, X:6, PCT:0.1\n"
     ]
    },
    {
     "name": "stderr",
     "output_type": "stream",
     "text": [
      "/tmp/ipykernel_36223/3149794742.py:132: FutureWarning: Setting an item of incompatible dtype is deprecated and will raise an error in a future version of pandas. Value 'Trailing SL Hit' has dtype incompatible with float64, please explicitly cast to a compatible dtype first.\n",
      "  tradebook_long.loc[\n"
     ]
    },
    {
     "name": "stdout",
     "output_type": "stream",
     "text": [
      "EMA:58, X:8, PCT:0.1\n"
     ]
    },
    {
     "name": "stderr",
     "output_type": "stream",
     "text": [
      "/tmp/ipykernel_36223/3149794742.py:132: FutureWarning: Setting an item of incompatible dtype is deprecated and will raise an error in a future version of pandas. Value 'Trailing SL Hit' has dtype incompatible with float64, please explicitly cast to a compatible dtype first.\n",
      "  tradebook_long.loc[\n"
     ]
    },
    {
     "name": "stdout",
     "output_type": "stream",
     "text": [
      "EMA:58, X:10, PCT:0.1\n"
     ]
    },
    {
     "name": "stderr",
     "output_type": "stream",
     "text": [
      "/tmp/ipykernel_36223/3149794742.py:132: FutureWarning: Setting an item of incompatible dtype is deprecated and will raise an error in a future version of pandas. Value 'Trailing SL Hit' has dtype incompatible with float64, please explicitly cast to a compatible dtype first.\n",
      "  tradebook_long.loc[\n"
     ]
    },
    {
     "name": "stdout",
     "output_type": "stream",
     "text": [
      "EMA:58, X:12, PCT:0.1\n"
     ]
    },
    {
     "name": "stderr",
     "output_type": "stream",
     "text": [
      "/tmp/ipykernel_36223/3149794742.py:132: FutureWarning: Setting an item of incompatible dtype is deprecated and will raise an error in a future version of pandas. Value 'Trailing SL Hit' has dtype incompatible with float64, please explicitly cast to a compatible dtype first.\n",
      "  tradebook_long.loc[\n"
     ]
    },
    {
     "name": "stdout",
     "output_type": "stream",
     "text": [
      "EMA:58, X:14, PCT:0.1\n"
     ]
    },
    {
     "name": "stderr",
     "output_type": "stream",
     "text": [
      "/tmp/ipykernel_36223/3149794742.py:132: FutureWarning: Setting an item of incompatible dtype is deprecated and will raise an error in a future version of pandas. Value 'Trailing SL Hit' has dtype incompatible with float64, please explicitly cast to a compatible dtype first.\n",
      "  tradebook_long.loc[\n"
     ]
    },
    {
     "name": "stdout",
     "output_type": "stream",
     "text": [
      "EMA:58, X:16, PCT:0.1\n"
     ]
    },
    {
     "name": "stderr",
     "output_type": "stream",
     "text": [
      "/tmp/ipykernel_36223/3149794742.py:132: FutureWarning: Setting an item of incompatible dtype is deprecated and will raise an error in a future version of pandas. Value 'Trailing SL Hit' has dtype incompatible with float64, please explicitly cast to a compatible dtype first.\n",
      "  tradebook_long.loc[\n"
     ]
    },
    {
     "name": "stdout",
     "output_type": "stream",
     "text": [
      "EMA:58, X:18, PCT:0.1\n"
     ]
    },
    {
     "name": "stderr",
     "output_type": "stream",
     "text": [
      "/tmp/ipykernel_36223/3149794742.py:132: FutureWarning: Setting an item of incompatible dtype is deprecated and will raise an error in a future version of pandas. Value 'Trailing SL Hit' has dtype incompatible with float64, please explicitly cast to a compatible dtype first.\n",
      "  tradebook_long.loc[\n"
     ]
    },
    {
     "name": "stdout",
     "output_type": "stream",
     "text": [
      "EMA:58, X:20, PCT:0.1\n"
     ]
    },
    {
     "name": "stderr",
     "output_type": "stream",
     "text": [
      "/tmp/ipykernel_36223/3149794742.py:132: FutureWarning: Setting an item of incompatible dtype is deprecated and will raise an error in a future version of pandas. Value 'Trailing SL Hit' has dtype incompatible with float64, please explicitly cast to a compatible dtype first.\n",
      "  tradebook_long.loc[\n"
     ]
    },
    {
     "name": "stdout",
     "output_type": "stream",
     "text": [
      "EMA:58, X:22, PCT:0.1\n"
     ]
    },
    {
     "name": "stderr",
     "output_type": "stream",
     "text": [
      "/tmp/ipykernel_36223/3149794742.py:132: FutureWarning: Setting an item of incompatible dtype is deprecated and will raise an error in a future version of pandas. Value 'Trailing SL Hit' has dtype incompatible with float64, please explicitly cast to a compatible dtype first.\n",
      "  tradebook_long.loc[\n"
     ]
    },
    {
     "name": "stdout",
     "output_type": "stream",
     "text": [
      "EMA:58, X:24, PCT:0.1\n"
     ]
    },
    {
     "name": "stderr",
     "output_type": "stream",
     "text": [
      "/tmp/ipykernel_36223/3149794742.py:132: FutureWarning: Setting an item of incompatible dtype is deprecated and will raise an error in a future version of pandas. Value 'Trailing SL Hit' has dtype incompatible with float64, please explicitly cast to a compatible dtype first.\n",
      "  tradebook_long.loc[\n"
     ]
    },
    {
     "name": "stdout",
     "output_type": "stream",
     "text": [
      "EMA:58, X:26, PCT:0.1\n"
     ]
    },
    {
     "name": "stderr",
     "output_type": "stream",
     "text": [
      "/tmp/ipykernel_36223/3149794742.py:132: FutureWarning: Setting an item of incompatible dtype is deprecated and will raise an error in a future version of pandas. Value 'Trailing SL Hit' has dtype incompatible with float64, please explicitly cast to a compatible dtype first.\n",
      "  tradebook_long.loc[\n"
     ]
    },
    {
     "name": "stdout",
     "output_type": "stream",
     "text": [
      "EMA:58, X:28, PCT:0.1\n"
     ]
    },
    {
     "name": "stderr",
     "output_type": "stream",
     "text": [
      "/tmp/ipykernel_36223/3149794742.py:132: FutureWarning: Setting an item of incompatible dtype is deprecated and will raise an error in a future version of pandas. Value 'Trailing SL Hit' has dtype incompatible with float64, please explicitly cast to a compatible dtype first.\n",
      "  tradebook_long.loc[\n"
     ]
    },
    {
     "name": "stdout",
     "output_type": "stream",
     "text": [
      "EMA:58, X:30, PCT:0.1\n"
     ]
    },
    {
     "name": "stderr",
     "output_type": "stream",
     "text": [
      "/tmp/ipykernel_36223/3149794742.py:132: FutureWarning: Setting an item of incompatible dtype is deprecated and will raise an error in a future version of pandas. Value 'Trailing SL Hit' has dtype incompatible with float64, please explicitly cast to a compatible dtype first.\n",
      "  tradebook_long.loc[\n"
     ]
    },
    {
     "name": "stdout",
     "output_type": "stream",
     "text": [
      "EMA:58, X:32, PCT:0.1\n"
     ]
    },
    {
     "name": "stderr",
     "output_type": "stream",
     "text": [
      "/tmp/ipykernel_36223/3149794742.py:132: FutureWarning: Setting an item of incompatible dtype is deprecated and will raise an error in a future version of pandas. Value 'Trailing SL Hit' has dtype incompatible with float64, please explicitly cast to a compatible dtype first.\n",
      "  tradebook_long.loc[\n"
     ]
    },
    {
     "name": "stdout",
     "output_type": "stream",
     "text": [
      "EMA:58, X:34, PCT:0.1\n"
     ]
    },
    {
     "name": "stderr",
     "output_type": "stream",
     "text": [
      "/tmp/ipykernel_36223/3149794742.py:132: FutureWarning: Setting an item of incompatible dtype is deprecated and will raise an error in a future version of pandas. Value 'Trailing SL Hit' has dtype incompatible with float64, please explicitly cast to a compatible dtype first.\n",
      "  tradebook_long.loc[\n"
     ]
    },
    {
     "name": "stdout",
     "output_type": "stream",
     "text": [
      "EMA:58, X:36, PCT:0.1\n"
     ]
    },
    {
     "name": "stderr",
     "output_type": "stream",
     "text": [
      "/tmp/ipykernel_36223/3149794742.py:132: FutureWarning: Setting an item of incompatible dtype is deprecated and will raise an error in a future version of pandas. Value 'Trailing SL Hit' has dtype incompatible with float64, please explicitly cast to a compatible dtype first.\n",
      "  tradebook_long.loc[\n"
     ]
    },
    {
     "name": "stdout",
     "output_type": "stream",
     "text": [
      "EMA:60, X:4, PCT:0.1\n"
     ]
    },
    {
     "name": "stderr",
     "output_type": "stream",
     "text": [
      "/tmp/ipykernel_36223/3149794742.py:132: FutureWarning: Setting an item of incompatible dtype is deprecated and will raise an error in a future version of pandas. Value 'Trailing SL Hit' has dtype incompatible with float64, please explicitly cast to a compatible dtype first.\n",
      "  tradebook_long.loc[\n"
     ]
    },
    {
     "name": "stdout",
     "output_type": "stream",
     "text": [
      "EMA:60, X:6, PCT:0.1\n"
     ]
    },
    {
     "name": "stderr",
     "output_type": "stream",
     "text": [
      "/tmp/ipykernel_36223/3149794742.py:132: FutureWarning: Setting an item of incompatible dtype is deprecated and will raise an error in a future version of pandas. Value 'Trailing SL Hit' has dtype incompatible with float64, please explicitly cast to a compatible dtype first.\n",
      "  tradebook_long.loc[\n"
     ]
    },
    {
     "name": "stdout",
     "output_type": "stream",
     "text": [
      "EMA:60, X:8, PCT:0.1\n"
     ]
    },
    {
     "name": "stderr",
     "output_type": "stream",
     "text": [
      "/tmp/ipykernel_36223/3149794742.py:132: FutureWarning: Setting an item of incompatible dtype is deprecated and will raise an error in a future version of pandas. Value 'Trailing SL Hit' has dtype incompatible with float64, please explicitly cast to a compatible dtype first.\n",
      "  tradebook_long.loc[\n"
     ]
    },
    {
     "name": "stdout",
     "output_type": "stream",
     "text": [
      "EMA:60, X:10, PCT:0.1\n"
     ]
    },
    {
     "name": "stderr",
     "output_type": "stream",
     "text": [
      "/tmp/ipykernel_36223/3149794742.py:132: FutureWarning: Setting an item of incompatible dtype is deprecated and will raise an error in a future version of pandas. Value 'Trailing SL Hit' has dtype incompatible with float64, please explicitly cast to a compatible dtype first.\n",
      "  tradebook_long.loc[\n"
     ]
    },
    {
     "name": "stdout",
     "output_type": "stream",
     "text": [
      "EMA:60, X:12, PCT:0.1\n"
     ]
    },
    {
     "name": "stderr",
     "output_type": "stream",
     "text": [
      "/tmp/ipykernel_36223/3149794742.py:132: FutureWarning: Setting an item of incompatible dtype is deprecated and will raise an error in a future version of pandas. Value 'Trailing SL Hit' has dtype incompatible with float64, please explicitly cast to a compatible dtype first.\n",
      "  tradebook_long.loc[\n"
     ]
    },
    {
     "name": "stdout",
     "output_type": "stream",
     "text": [
      "EMA:60, X:14, PCT:0.1\n"
     ]
    },
    {
     "name": "stderr",
     "output_type": "stream",
     "text": [
      "/tmp/ipykernel_36223/3149794742.py:132: FutureWarning: Setting an item of incompatible dtype is deprecated and will raise an error in a future version of pandas. Value 'Trailing SL Hit' has dtype incompatible with float64, please explicitly cast to a compatible dtype first.\n",
      "  tradebook_long.loc[\n"
     ]
    },
    {
     "name": "stdout",
     "output_type": "stream",
     "text": [
      "EMA:60, X:16, PCT:0.1\n"
     ]
    },
    {
     "name": "stderr",
     "output_type": "stream",
     "text": [
      "/tmp/ipykernel_36223/3149794742.py:132: FutureWarning: Setting an item of incompatible dtype is deprecated and will raise an error in a future version of pandas. Value 'Trailing SL Hit' has dtype incompatible with float64, please explicitly cast to a compatible dtype first.\n",
      "  tradebook_long.loc[\n"
     ]
    },
    {
     "name": "stdout",
     "output_type": "stream",
     "text": [
      "EMA:60, X:18, PCT:0.1\n"
     ]
    },
    {
     "name": "stderr",
     "output_type": "stream",
     "text": [
      "/tmp/ipykernel_36223/3149794742.py:132: FutureWarning: Setting an item of incompatible dtype is deprecated and will raise an error in a future version of pandas. Value 'Trailing SL Hit' has dtype incompatible with float64, please explicitly cast to a compatible dtype first.\n",
      "  tradebook_long.loc[\n"
     ]
    },
    {
     "name": "stdout",
     "output_type": "stream",
     "text": [
      "EMA:60, X:20, PCT:0.1\n"
     ]
    },
    {
     "name": "stderr",
     "output_type": "stream",
     "text": [
      "/tmp/ipykernel_36223/3149794742.py:132: FutureWarning: Setting an item of incompatible dtype is deprecated and will raise an error in a future version of pandas. Value 'Trailing SL Hit' has dtype incompatible with float64, please explicitly cast to a compatible dtype first.\n",
      "  tradebook_long.loc[\n"
     ]
    },
    {
     "name": "stdout",
     "output_type": "stream",
     "text": [
      "EMA:60, X:22, PCT:0.1\n"
     ]
    },
    {
     "name": "stderr",
     "output_type": "stream",
     "text": [
      "/tmp/ipykernel_36223/3149794742.py:132: FutureWarning: Setting an item of incompatible dtype is deprecated and will raise an error in a future version of pandas. Value 'Trailing SL Hit' has dtype incompatible with float64, please explicitly cast to a compatible dtype first.\n",
      "  tradebook_long.loc[\n"
     ]
    },
    {
     "name": "stdout",
     "output_type": "stream",
     "text": [
      "EMA:60, X:24, PCT:0.1\n"
     ]
    },
    {
     "name": "stderr",
     "output_type": "stream",
     "text": [
      "/tmp/ipykernel_36223/3149794742.py:132: FutureWarning: Setting an item of incompatible dtype is deprecated and will raise an error in a future version of pandas. Value 'Trailing SL Hit' has dtype incompatible with float64, please explicitly cast to a compatible dtype first.\n",
      "  tradebook_long.loc[\n"
     ]
    },
    {
     "name": "stdout",
     "output_type": "stream",
     "text": [
      "EMA:60, X:26, PCT:0.1\n"
     ]
    },
    {
     "name": "stderr",
     "output_type": "stream",
     "text": [
      "/tmp/ipykernel_36223/3149794742.py:132: FutureWarning: Setting an item of incompatible dtype is deprecated and will raise an error in a future version of pandas. Value 'Trailing SL Hit' has dtype incompatible with float64, please explicitly cast to a compatible dtype first.\n",
      "  tradebook_long.loc[\n"
     ]
    },
    {
     "name": "stdout",
     "output_type": "stream",
     "text": [
      "EMA:60, X:28, PCT:0.1\n"
     ]
    },
    {
     "name": "stderr",
     "output_type": "stream",
     "text": [
      "/tmp/ipykernel_36223/3149794742.py:132: FutureWarning: Setting an item of incompatible dtype is deprecated and will raise an error in a future version of pandas. Value 'Trailing SL Hit' has dtype incompatible with float64, please explicitly cast to a compatible dtype first.\n",
      "  tradebook_long.loc[\n"
     ]
    },
    {
     "name": "stdout",
     "output_type": "stream",
     "text": [
      "EMA:60, X:30, PCT:0.1\n"
     ]
    },
    {
     "name": "stderr",
     "output_type": "stream",
     "text": [
      "/tmp/ipykernel_36223/3149794742.py:132: FutureWarning: Setting an item of incompatible dtype is deprecated and will raise an error in a future version of pandas. Value 'Trailing SL Hit' has dtype incompatible with float64, please explicitly cast to a compatible dtype first.\n",
      "  tradebook_long.loc[\n"
     ]
    },
    {
     "name": "stdout",
     "output_type": "stream",
     "text": [
      "EMA:60, X:32, PCT:0.1\n"
     ]
    },
    {
     "name": "stderr",
     "output_type": "stream",
     "text": [
      "/tmp/ipykernel_36223/3149794742.py:132: FutureWarning: Setting an item of incompatible dtype is deprecated and will raise an error in a future version of pandas. Value 'Trailing SL Hit' has dtype incompatible with float64, please explicitly cast to a compatible dtype first.\n",
      "  tradebook_long.loc[\n"
     ]
    },
    {
     "name": "stdout",
     "output_type": "stream",
     "text": [
      "EMA:60, X:34, PCT:0.1\n"
     ]
    },
    {
     "name": "stderr",
     "output_type": "stream",
     "text": [
      "/tmp/ipykernel_36223/3149794742.py:132: FutureWarning: Setting an item of incompatible dtype is deprecated and will raise an error in a future version of pandas. Value 'Trailing SL Hit' has dtype incompatible with float64, please explicitly cast to a compatible dtype first.\n",
      "  tradebook_long.loc[\n"
     ]
    },
    {
     "name": "stdout",
     "output_type": "stream",
     "text": [
      "EMA:60, X:36, PCT:0.1\n"
     ]
    },
    {
     "name": "stderr",
     "output_type": "stream",
     "text": [
      "/tmp/ipykernel_36223/3149794742.py:132: FutureWarning: Setting an item of incompatible dtype is deprecated and will raise an error in a future version of pandas. Value 'Trailing SL Hit' has dtype incompatible with float64, please explicitly cast to a compatible dtype first.\n",
      "  tradebook_long.loc[\n"
     ]
    },
    {
     "name": "stdout",
     "output_type": "stream",
     "text": [
      "EMA:62, X:4, PCT:0.1\n"
     ]
    },
    {
     "name": "stderr",
     "output_type": "stream",
     "text": [
      "/tmp/ipykernel_36223/3149794742.py:132: FutureWarning: Setting an item of incompatible dtype is deprecated and will raise an error in a future version of pandas. Value 'Trailing SL Hit' has dtype incompatible with float64, please explicitly cast to a compatible dtype first.\n",
      "  tradebook_long.loc[\n"
     ]
    },
    {
     "name": "stdout",
     "output_type": "stream",
     "text": [
      "EMA:62, X:6, PCT:0.1\n"
     ]
    },
    {
     "name": "stderr",
     "output_type": "stream",
     "text": [
      "/tmp/ipykernel_36223/3149794742.py:132: FutureWarning: Setting an item of incompatible dtype is deprecated and will raise an error in a future version of pandas. Value 'Trailing SL Hit' has dtype incompatible with float64, please explicitly cast to a compatible dtype first.\n",
      "  tradebook_long.loc[\n"
     ]
    },
    {
     "name": "stdout",
     "output_type": "stream",
     "text": [
      "EMA:62, X:8, PCT:0.1\n"
     ]
    },
    {
     "name": "stderr",
     "output_type": "stream",
     "text": [
      "/tmp/ipykernel_36223/3149794742.py:132: FutureWarning: Setting an item of incompatible dtype is deprecated and will raise an error in a future version of pandas. Value 'Trailing SL Hit' has dtype incompatible with float64, please explicitly cast to a compatible dtype first.\n",
      "  tradebook_long.loc[\n"
     ]
    },
    {
     "name": "stdout",
     "output_type": "stream",
     "text": [
      "EMA:62, X:10, PCT:0.1\n"
     ]
    },
    {
     "name": "stderr",
     "output_type": "stream",
     "text": [
      "/tmp/ipykernel_36223/3149794742.py:132: FutureWarning: Setting an item of incompatible dtype is deprecated and will raise an error in a future version of pandas. Value 'Trailing SL Hit' has dtype incompatible with float64, please explicitly cast to a compatible dtype first.\n",
      "  tradebook_long.loc[\n"
     ]
    },
    {
     "name": "stdout",
     "output_type": "stream",
     "text": [
      "EMA:62, X:12, PCT:0.1\n"
     ]
    },
    {
     "name": "stderr",
     "output_type": "stream",
     "text": [
      "/tmp/ipykernel_36223/3149794742.py:132: FutureWarning: Setting an item of incompatible dtype is deprecated and will raise an error in a future version of pandas. Value 'Trailing SL Hit' has dtype incompatible with float64, please explicitly cast to a compatible dtype first.\n",
      "  tradebook_long.loc[\n"
     ]
    },
    {
     "name": "stdout",
     "output_type": "stream",
     "text": [
      "EMA:62, X:14, PCT:0.1\n"
     ]
    },
    {
     "name": "stderr",
     "output_type": "stream",
     "text": [
      "/tmp/ipykernel_36223/3149794742.py:132: FutureWarning: Setting an item of incompatible dtype is deprecated and will raise an error in a future version of pandas. Value 'Trailing SL Hit' has dtype incompatible with float64, please explicitly cast to a compatible dtype first.\n",
      "  tradebook_long.loc[\n"
     ]
    },
    {
     "name": "stdout",
     "output_type": "stream",
     "text": [
      "EMA:62, X:16, PCT:0.1\n"
     ]
    },
    {
     "name": "stderr",
     "output_type": "stream",
     "text": [
      "/tmp/ipykernel_36223/3149794742.py:132: FutureWarning: Setting an item of incompatible dtype is deprecated and will raise an error in a future version of pandas. Value 'Trailing SL Hit' has dtype incompatible with float64, please explicitly cast to a compatible dtype first.\n",
      "  tradebook_long.loc[\n"
     ]
    },
    {
     "name": "stdout",
     "output_type": "stream",
     "text": [
      "EMA:62, X:18, PCT:0.1\n"
     ]
    },
    {
     "name": "stderr",
     "output_type": "stream",
     "text": [
      "/tmp/ipykernel_36223/3149794742.py:132: FutureWarning: Setting an item of incompatible dtype is deprecated and will raise an error in a future version of pandas. Value 'Trailing SL Hit' has dtype incompatible with float64, please explicitly cast to a compatible dtype first.\n",
      "  tradebook_long.loc[\n"
     ]
    },
    {
     "name": "stdout",
     "output_type": "stream",
     "text": [
      "EMA:62, X:20, PCT:0.1\n"
     ]
    },
    {
     "name": "stderr",
     "output_type": "stream",
     "text": [
      "/tmp/ipykernel_36223/3149794742.py:132: FutureWarning: Setting an item of incompatible dtype is deprecated and will raise an error in a future version of pandas. Value 'Trailing SL Hit' has dtype incompatible with float64, please explicitly cast to a compatible dtype first.\n",
      "  tradebook_long.loc[\n"
     ]
    },
    {
     "name": "stdout",
     "output_type": "stream",
     "text": [
      "EMA:62, X:22, PCT:0.1\n"
     ]
    },
    {
     "name": "stderr",
     "output_type": "stream",
     "text": [
      "/tmp/ipykernel_36223/3149794742.py:132: FutureWarning: Setting an item of incompatible dtype is deprecated and will raise an error in a future version of pandas. Value 'Trailing SL Hit' has dtype incompatible with float64, please explicitly cast to a compatible dtype first.\n",
      "  tradebook_long.loc[\n"
     ]
    },
    {
     "name": "stdout",
     "output_type": "stream",
     "text": [
      "EMA:62, X:24, PCT:0.1\n"
     ]
    },
    {
     "name": "stderr",
     "output_type": "stream",
     "text": [
      "/tmp/ipykernel_36223/3149794742.py:132: FutureWarning: Setting an item of incompatible dtype is deprecated and will raise an error in a future version of pandas. Value 'Trailing SL Hit' has dtype incompatible with float64, please explicitly cast to a compatible dtype first.\n",
      "  tradebook_long.loc[\n"
     ]
    },
    {
     "name": "stdout",
     "output_type": "stream",
     "text": [
      "EMA:62, X:26, PCT:0.1\n"
     ]
    },
    {
     "name": "stderr",
     "output_type": "stream",
     "text": [
      "/tmp/ipykernel_36223/3149794742.py:132: FutureWarning: Setting an item of incompatible dtype is deprecated and will raise an error in a future version of pandas. Value 'Trailing SL Hit' has dtype incompatible with float64, please explicitly cast to a compatible dtype first.\n",
      "  tradebook_long.loc[\n"
     ]
    },
    {
     "name": "stdout",
     "output_type": "stream",
     "text": [
      "EMA:62, X:28, PCT:0.1\n"
     ]
    },
    {
     "name": "stderr",
     "output_type": "stream",
     "text": [
      "/tmp/ipykernel_36223/3149794742.py:132: FutureWarning: Setting an item of incompatible dtype is deprecated and will raise an error in a future version of pandas. Value 'Trailing SL Hit' has dtype incompatible with float64, please explicitly cast to a compatible dtype first.\n",
      "  tradebook_long.loc[\n"
     ]
    },
    {
     "name": "stdout",
     "output_type": "stream",
     "text": [
      "EMA:62, X:30, PCT:0.1\n"
     ]
    },
    {
     "name": "stderr",
     "output_type": "stream",
     "text": [
      "/tmp/ipykernel_36223/3149794742.py:132: FutureWarning: Setting an item of incompatible dtype is deprecated and will raise an error in a future version of pandas. Value 'Trailing SL Hit' has dtype incompatible with float64, please explicitly cast to a compatible dtype first.\n",
      "  tradebook_long.loc[\n"
     ]
    },
    {
     "name": "stdout",
     "output_type": "stream",
     "text": [
      "EMA:62, X:32, PCT:0.1\n"
     ]
    },
    {
     "name": "stderr",
     "output_type": "stream",
     "text": [
      "/tmp/ipykernel_36223/3149794742.py:132: FutureWarning: Setting an item of incompatible dtype is deprecated and will raise an error in a future version of pandas. Value 'Trailing SL Hit' has dtype incompatible with float64, please explicitly cast to a compatible dtype first.\n",
      "  tradebook_long.loc[\n"
     ]
    },
    {
     "name": "stdout",
     "output_type": "stream",
     "text": [
      "EMA:62, X:34, PCT:0.1\n"
     ]
    },
    {
     "name": "stderr",
     "output_type": "stream",
     "text": [
      "/tmp/ipykernel_36223/3149794742.py:132: FutureWarning: Setting an item of incompatible dtype is deprecated and will raise an error in a future version of pandas. Value 'Trailing SL Hit' has dtype incompatible with float64, please explicitly cast to a compatible dtype first.\n",
      "  tradebook_long.loc[\n"
     ]
    },
    {
     "name": "stdout",
     "output_type": "stream",
     "text": [
      "EMA:62, X:36, PCT:0.1\n"
     ]
    },
    {
     "name": "stderr",
     "output_type": "stream",
     "text": [
      "/tmp/ipykernel_36223/3149794742.py:132: FutureWarning: Setting an item of incompatible dtype is deprecated and will raise an error in a future version of pandas. Value 'Trailing SL Hit' has dtype incompatible with float64, please explicitly cast to a compatible dtype first.\n",
      "  tradebook_long.loc[\n"
     ]
    },
    {
     "name": "stdout",
     "output_type": "stream",
     "text": [
      "EMA:64, X:4, PCT:0.1\n"
     ]
    },
    {
     "name": "stderr",
     "output_type": "stream",
     "text": [
      "/tmp/ipykernel_36223/3149794742.py:132: FutureWarning: Setting an item of incompatible dtype is deprecated and will raise an error in a future version of pandas. Value 'Trailing SL Hit' has dtype incompatible with float64, please explicitly cast to a compatible dtype first.\n",
      "  tradebook_long.loc[\n"
     ]
    },
    {
     "name": "stdout",
     "output_type": "stream",
     "text": [
      "EMA:64, X:6, PCT:0.1\n"
     ]
    },
    {
     "name": "stderr",
     "output_type": "stream",
     "text": [
      "/tmp/ipykernel_36223/3149794742.py:132: FutureWarning: Setting an item of incompatible dtype is deprecated and will raise an error in a future version of pandas. Value 'Trailing SL Hit' has dtype incompatible with float64, please explicitly cast to a compatible dtype first.\n",
      "  tradebook_long.loc[\n"
     ]
    },
    {
     "name": "stdout",
     "output_type": "stream",
     "text": [
      "EMA:64, X:8, PCT:0.1\n"
     ]
    },
    {
     "name": "stderr",
     "output_type": "stream",
     "text": [
      "/tmp/ipykernel_36223/3149794742.py:132: FutureWarning: Setting an item of incompatible dtype is deprecated and will raise an error in a future version of pandas. Value 'Trailing SL Hit' has dtype incompatible with float64, please explicitly cast to a compatible dtype first.\n",
      "  tradebook_long.loc[\n"
     ]
    },
    {
     "name": "stdout",
     "output_type": "stream",
     "text": [
      "EMA:64, X:10, PCT:0.1\n"
     ]
    },
    {
     "name": "stderr",
     "output_type": "stream",
     "text": [
      "/tmp/ipykernel_36223/3149794742.py:132: FutureWarning: Setting an item of incompatible dtype is deprecated and will raise an error in a future version of pandas. Value 'Trailing SL Hit' has dtype incompatible with float64, please explicitly cast to a compatible dtype first.\n",
      "  tradebook_long.loc[\n"
     ]
    },
    {
     "name": "stdout",
     "output_type": "stream",
     "text": [
      "EMA:64, X:12, PCT:0.1\n"
     ]
    },
    {
     "name": "stderr",
     "output_type": "stream",
     "text": [
      "/tmp/ipykernel_36223/3149794742.py:132: FutureWarning: Setting an item of incompatible dtype is deprecated and will raise an error in a future version of pandas. Value 'Trailing SL Hit' has dtype incompatible with float64, please explicitly cast to a compatible dtype first.\n",
      "  tradebook_long.loc[\n"
     ]
    },
    {
     "name": "stdout",
     "output_type": "stream",
     "text": [
      "EMA:64, X:14, PCT:0.1\n"
     ]
    },
    {
     "name": "stderr",
     "output_type": "stream",
     "text": [
      "/tmp/ipykernel_36223/3149794742.py:132: FutureWarning: Setting an item of incompatible dtype is deprecated and will raise an error in a future version of pandas. Value 'Trailing SL Hit' has dtype incompatible with float64, please explicitly cast to a compatible dtype first.\n",
      "  tradebook_long.loc[\n"
     ]
    },
    {
     "name": "stdout",
     "output_type": "stream",
     "text": [
      "EMA:64, X:16, PCT:0.1\n"
     ]
    },
    {
     "name": "stderr",
     "output_type": "stream",
     "text": [
      "/tmp/ipykernel_36223/3149794742.py:132: FutureWarning: Setting an item of incompatible dtype is deprecated and will raise an error in a future version of pandas. Value 'Trailing SL Hit' has dtype incompatible with float64, please explicitly cast to a compatible dtype first.\n",
      "  tradebook_long.loc[\n"
     ]
    },
    {
     "name": "stdout",
     "output_type": "stream",
     "text": [
      "EMA:64, X:18, PCT:0.1\n"
     ]
    },
    {
     "name": "stderr",
     "output_type": "stream",
     "text": [
      "/tmp/ipykernel_36223/3149794742.py:132: FutureWarning: Setting an item of incompatible dtype is deprecated and will raise an error in a future version of pandas. Value 'Trailing SL Hit' has dtype incompatible with float64, please explicitly cast to a compatible dtype first.\n",
      "  tradebook_long.loc[\n"
     ]
    },
    {
     "name": "stdout",
     "output_type": "stream",
     "text": [
      "EMA:64, X:20, PCT:0.1\n"
     ]
    },
    {
     "name": "stderr",
     "output_type": "stream",
     "text": [
      "/tmp/ipykernel_36223/3149794742.py:132: FutureWarning: Setting an item of incompatible dtype is deprecated and will raise an error in a future version of pandas. Value 'Trailing SL Hit' has dtype incompatible with float64, please explicitly cast to a compatible dtype first.\n",
      "  tradebook_long.loc[\n"
     ]
    },
    {
     "name": "stdout",
     "output_type": "stream",
     "text": [
      "EMA:64, X:22, PCT:0.1\n"
     ]
    },
    {
     "name": "stderr",
     "output_type": "stream",
     "text": [
      "/tmp/ipykernel_36223/3149794742.py:132: FutureWarning: Setting an item of incompatible dtype is deprecated and will raise an error in a future version of pandas. Value 'Trailing SL Hit' has dtype incompatible with float64, please explicitly cast to a compatible dtype first.\n",
      "  tradebook_long.loc[\n"
     ]
    },
    {
     "name": "stdout",
     "output_type": "stream",
     "text": [
      "EMA:64, X:24, PCT:0.1\n"
     ]
    },
    {
     "name": "stderr",
     "output_type": "stream",
     "text": [
      "/tmp/ipykernel_36223/3149794742.py:132: FutureWarning: Setting an item of incompatible dtype is deprecated and will raise an error in a future version of pandas. Value 'Trailing SL Hit' has dtype incompatible with float64, please explicitly cast to a compatible dtype first.\n",
      "  tradebook_long.loc[\n"
     ]
    },
    {
     "name": "stdout",
     "output_type": "stream",
     "text": [
      "EMA:64, X:26, PCT:0.1\n"
     ]
    },
    {
     "name": "stderr",
     "output_type": "stream",
     "text": [
      "/tmp/ipykernel_36223/3149794742.py:132: FutureWarning: Setting an item of incompatible dtype is deprecated and will raise an error in a future version of pandas. Value 'Trailing SL Hit' has dtype incompatible with float64, please explicitly cast to a compatible dtype first.\n",
      "  tradebook_long.loc[\n"
     ]
    },
    {
     "name": "stdout",
     "output_type": "stream",
     "text": [
      "EMA:64, X:28, PCT:0.1\n"
     ]
    },
    {
     "name": "stderr",
     "output_type": "stream",
     "text": [
      "/tmp/ipykernel_36223/3149794742.py:132: FutureWarning: Setting an item of incompatible dtype is deprecated and will raise an error in a future version of pandas. Value 'Trailing SL Hit' has dtype incompatible with float64, please explicitly cast to a compatible dtype first.\n",
      "  tradebook_long.loc[\n"
     ]
    },
    {
     "name": "stdout",
     "output_type": "stream",
     "text": [
      "EMA:64, X:30, PCT:0.1\n"
     ]
    },
    {
     "name": "stderr",
     "output_type": "stream",
     "text": [
      "/tmp/ipykernel_36223/3149794742.py:132: FutureWarning: Setting an item of incompatible dtype is deprecated and will raise an error in a future version of pandas. Value 'Trailing SL Hit' has dtype incompatible with float64, please explicitly cast to a compatible dtype first.\n",
      "  tradebook_long.loc[\n"
     ]
    },
    {
     "name": "stdout",
     "output_type": "stream",
     "text": [
      "EMA:64, X:32, PCT:0.1\n"
     ]
    },
    {
     "name": "stderr",
     "output_type": "stream",
     "text": [
      "/tmp/ipykernel_36223/3149794742.py:132: FutureWarning: Setting an item of incompatible dtype is deprecated and will raise an error in a future version of pandas. Value 'Trailing SL Hit' has dtype incompatible with float64, please explicitly cast to a compatible dtype first.\n",
      "  tradebook_long.loc[\n"
     ]
    },
    {
     "name": "stdout",
     "output_type": "stream",
     "text": [
      "EMA:64, X:34, PCT:0.1\n"
     ]
    },
    {
     "name": "stderr",
     "output_type": "stream",
     "text": [
      "/tmp/ipykernel_36223/3149794742.py:132: FutureWarning: Setting an item of incompatible dtype is deprecated and will raise an error in a future version of pandas. Value 'Trailing SL Hit' has dtype incompatible with float64, please explicitly cast to a compatible dtype first.\n",
      "  tradebook_long.loc[\n"
     ]
    },
    {
     "name": "stdout",
     "output_type": "stream",
     "text": [
      "EMA:64, X:36, PCT:0.1\n"
     ]
    },
    {
     "name": "stderr",
     "output_type": "stream",
     "text": [
      "/tmp/ipykernel_36223/3149794742.py:132: FutureWarning: Setting an item of incompatible dtype is deprecated and will raise an error in a future version of pandas. Value 'Trailing SL Hit' has dtype incompatible with float64, please explicitly cast to a compatible dtype first.\n",
      "  tradebook_long.loc[\n"
     ]
    },
    {
     "name": "stdout",
     "output_type": "stream",
     "text": [
      "EMA:66, X:4, PCT:0.1\n"
     ]
    },
    {
     "name": "stderr",
     "output_type": "stream",
     "text": [
      "/tmp/ipykernel_36223/3149794742.py:132: FutureWarning: Setting an item of incompatible dtype is deprecated and will raise an error in a future version of pandas. Value 'Trailing SL Hit' has dtype incompatible with float64, please explicitly cast to a compatible dtype first.\n",
      "  tradebook_long.loc[\n"
     ]
    },
    {
     "name": "stdout",
     "output_type": "stream",
     "text": [
      "EMA:66, X:6, PCT:0.1\n"
     ]
    },
    {
     "name": "stderr",
     "output_type": "stream",
     "text": [
      "/tmp/ipykernel_36223/3149794742.py:132: FutureWarning: Setting an item of incompatible dtype is deprecated and will raise an error in a future version of pandas. Value 'Trailing SL Hit' has dtype incompatible with float64, please explicitly cast to a compatible dtype first.\n",
      "  tradebook_long.loc[\n"
     ]
    },
    {
     "name": "stdout",
     "output_type": "stream",
     "text": [
      "EMA:66, X:8, PCT:0.1\n"
     ]
    },
    {
     "name": "stderr",
     "output_type": "stream",
     "text": [
      "/tmp/ipykernel_36223/3149794742.py:132: FutureWarning: Setting an item of incompatible dtype is deprecated and will raise an error in a future version of pandas. Value 'Trailing SL Hit' has dtype incompatible with float64, please explicitly cast to a compatible dtype first.\n",
      "  tradebook_long.loc[\n"
     ]
    },
    {
     "name": "stdout",
     "output_type": "stream",
     "text": [
      "EMA:66, X:10, PCT:0.1\n"
     ]
    },
    {
     "name": "stderr",
     "output_type": "stream",
     "text": [
      "/tmp/ipykernel_36223/3149794742.py:132: FutureWarning: Setting an item of incompatible dtype is deprecated and will raise an error in a future version of pandas. Value 'Trailing SL Hit' has dtype incompatible with float64, please explicitly cast to a compatible dtype first.\n",
      "  tradebook_long.loc[\n"
     ]
    },
    {
     "name": "stdout",
     "output_type": "stream",
     "text": [
      "EMA:66, X:12, PCT:0.1\n"
     ]
    },
    {
     "name": "stderr",
     "output_type": "stream",
     "text": [
      "/tmp/ipykernel_36223/3149794742.py:132: FutureWarning: Setting an item of incompatible dtype is deprecated and will raise an error in a future version of pandas. Value 'Trailing SL Hit' has dtype incompatible with float64, please explicitly cast to a compatible dtype first.\n",
      "  tradebook_long.loc[\n"
     ]
    },
    {
     "name": "stdout",
     "output_type": "stream",
     "text": [
      "EMA:66, X:14, PCT:0.1\n"
     ]
    },
    {
     "name": "stderr",
     "output_type": "stream",
     "text": [
      "/tmp/ipykernel_36223/3149794742.py:132: FutureWarning: Setting an item of incompatible dtype is deprecated and will raise an error in a future version of pandas. Value 'Trailing SL Hit' has dtype incompatible with float64, please explicitly cast to a compatible dtype first.\n",
      "  tradebook_long.loc[\n"
     ]
    },
    {
     "name": "stdout",
     "output_type": "stream",
     "text": [
      "EMA:66, X:16, PCT:0.1\n"
     ]
    },
    {
     "name": "stderr",
     "output_type": "stream",
     "text": [
      "/tmp/ipykernel_36223/3149794742.py:132: FutureWarning: Setting an item of incompatible dtype is deprecated and will raise an error in a future version of pandas. Value 'Trailing SL Hit' has dtype incompatible with float64, please explicitly cast to a compatible dtype first.\n",
      "  tradebook_long.loc[\n"
     ]
    },
    {
     "name": "stdout",
     "output_type": "stream",
     "text": [
      "EMA:66, X:18, PCT:0.1\n"
     ]
    },
    {
     "name": "stderr",
     "output_type": "stream",
     "text": [
      "/tmp/ipykernel_36223/3149794742.py:132: FutureWarning: Setting an item of incompatible dtype is deprecated and will raise an error in a future version of pandas. Value 'Trailing SL Hit' has dtype incompatible with float64, please explicitly cast to a compatible dtype first.\n",
      "  tradebook_long.loc[\n"
     ]
    },
    {
     "name": "stdout",
     "output_type": "stream",
     "text": [
      "EMA:66, X:20, PCT:0.1\n"
     ]
    },
    {
     "name": "stderr",
     "output_type": "stream",
     "text": [
      "/tmp/ipykernel_36223/3149794742.py:132: FutureWarning: Setting an item of incompatible dtype is deprecated and will raise an error in a future version of pandas. Value 'Trailing SL Hit' has dtype incompatible with float64, please explicitly cast to a compatible dtype first.\n",
      "  tradebook_long.loc[\n"
     ]
    },
    {
     "name": "stdout",
     "output_type": "stream",
     "text": [
      "EMA:66, X:22, PCT:0.1\n"
     ]
    },
    {
     "name": "stderr",
     "output_type": "stream",
     "text": [
      "/tmp/ipykernel_36223/3149794742.py:132: FutureWarning: Setting an item of incompatible dtype is deprecated and will raise an error in a future version of pandas. Value 'Trailing SL Hit' has dtype incompatible with float64, please explicitly cast to a compatible dtype first.\n",
      "  tradebook_long.loc[\n"
     ]
    },
    {
     "name": "stdout",
     "output_type": "stream",
     "text": [
      "EMA:66, X:24, PCT:0.1\n"
     ]
    },
    {
     "name": "stderr",
     "output_type": "stream",
     "text": [
      "/tmp/ipykernel_36223/3149794742.py:132: FutureWarning: Setting an item of incompatible dtype is deprecated and will raise an error in a future version of pandas. Value 'Trailing SL Hit' has dtype incompatible with float64, please explicitly cast to a compatible dtype first.\n",
      "  tradebook_long.loc[\n"
     ]
    },
    {
     "name": "stdout",
     "output_type": "stream",
     "text": [
      "EMA:66, X:26, PCT:0.1\n"
     ]
    },
    {
     "name": "stderr",
     "output_type": "stream",
     "text": [
      "/tmp/ipykernel_36223/3149794742.py:132: FutureWarning: Setting an item of incompatible dtype is deprecated and will raise an error in a future version of pandas. Value 'Trailing SL Hit' has dtype incompatible with float64, please explicitly cast to a compatible dtype first.\n",
      "  tradebook_long.loc[\n"
     ]
    },
    {
     "name": "stdout",
     "output_type": "stream",
     "text": [
      "EMA:66, X:28, PCT:0.1\n"
     ]
    },
    {
     "name": "stderr",
     "output_type": "stream",
     "text": [
      "/tmp/ipykernel_36223/3149794742.py:132: FutureWarning: Setting an item of incompatible dtype is deprecated and will raise an error in a future version of pandas. Value 'Trailing SL Hit' has dtype incompatible with float64, please explicitly cast to a compatible dtype first.\n",
      "  tradebook_long.loc[\n"
     ]
    },
    {
     "name": "stdout",
     "output_type": "stream",
     "text": [
      "EMA:66, X:30, PCT:0.1\n"
     ]
    },
    {
     "name": "stderr",
     "output_type": "stream",
     "text": [
      "/tmp/ipykernel_36223/3149794742.py:132: FutureWarning: Setting an item of incompatible dtype is deprecated and will raise an error in a future version of pandas. Value 'Trailing SL Hit' has dtype incompatible with float64, please explicitly cast to a compatible dtype first.\n",
      "  tradebook_long.loc[\n"
     ]
    },
    {
     "name": "stdout",
     "output_type": "stream",
     "text": [
      "EMA:66, X:32, PCT:0.1\n"
     ]
    },
    {
     "name": "stderr",
     "output_type": "stream",
     "text": [
      "/tmp/ipykernel_36223/3149794742.py:132: FutureWarning: Setting an item of incompatible dtype is deprecated and will raise an error in a future version of pandas. Value 'Trailing SL Hit' has dtype incompatible with float64, please explicitly cast to a compatible dtype first.\n",
      "  tradebook_long.loc[\n"
     ]
    },
    {
     "name": "stdout",
     "output_type": "stream",
     "text": [
      "EMA:66, X:34, PCT:0.1\n"
     ]
    },
    {
     "name": "stderr",
     "output_type": "stream",
     "text": [
      "/tmp/ipykernel_36223/3149794742.py:132: FutureWarning: Setting an item of incompatible dtype is deprecated and will raise an error in a future version of pandas. Value 'Trailing SL Hit' has dtype incompatible with float64, please explicitly cast to a compatible dtype first.\n",
      "  tradebook_long.loc[\n"
     ]
    },
    {
     "name": "stdout",
     "output_type": "stream",
     "text": [
      "EMA:66, X:36, PCT:0.1\n"
     ]
    },
    {
     "name": "stderr",
     "output_type": "stream",
     "text": [
      "/tmp/ipykernel_36223/3149794742.py:132: FutureWarning: Setting an item of incompatible dtype is deprecated and will raise an error in a future version of pandas. Value 'Trailing SL Hit' has dtype incompatible with float64, please explicitly cast to a compatible dtype first.\n",
      "  tradebook_long.loc[\n"
     ]
    },
    {
     "name": "stdout",
     "output_type": "stream",
     "text": [
      "EMA:68, X:4, PCT:0.1\n"
     ]
    },
    {
     "name": "stderr",
     "output_type": "stream",
     "text": [
      "/tmp/ipykernel_36223/3149794742.py:132: FutureWarning: Setting an item of incompatible dtype is deprecated and will raise an error in a future version of pandas. Value 'Trailing SL Hit' has dtype incompatible with float64, please explicitly cast to a compatible dtype first.\n",
      "  tradebook_long.loc[\n"
     ]
    },
    {
     "name": "stdout",
     "output_type": "stream",
     "text": [
      "EMA:68, X:6, PCT:0.1\n"
     ]
    },
    {
     "name": "stderr",
     "output_type": "stream",
     "text": [
      "/tmp/ipykernel_36223/3149794742.py:132: FutureWarning: Setting an item of incompatible dtype is deprecated and will raise an error in a future version of pandas. Value 'Trailing SL Hit' has dtype incompatible with float64, please explicitly cast to a compatible dtype first.\n",
      "  tradebook_long.loc[\n"
     ]
    },
    {
     "name": "stdout",
     "output_type": "stream",
     "text": [
      "EMA:68, X:8, PCT:0.1\n"
     ]
    },
    {
     "name": "stderr",
     "output_type": "stream",
     "text": [
      "/tmp/ipykernel_36223/3149794742.py:132: FutureWarning: Setting an item of incompatible dtype is deprecated and will raise an error in a future version of pandas. Value 'Trailing SL Hit' has dtype incompatible with float64, please explicitly cast to a compatible dtype first.\n",
      "  tradebook_long.loc[\n"
     ]
    },
    {
     "name": "stdout",
     "output_type": "stream",
     "text": [
      "EMA:68, X:10, PCT:0.1\n"
     ]
    },
    {
     "name": "stderr",
     "output_type": "stream",
     "text": [
      "/tmp/ipykernel_36223/3149794742.py:132: FutureWarning: Setting an item of incompatible dtype is deprecated and will raise an error in a future version of pandas. Value 'Trailing SL Hit' has dtype incompatible with float64, please explicitly cast to a compatible dtype first.\n",
      "  tradebook_long.loc[\n"
     ]
    },
    {
     "name": "stdout",
     "output_type": "stream",
     "text": [
      "EMA:68, X:12, PCT:0.1\n"
     ]
    },
    {
     "name": "stderr",
     "output_type": "stream",
     "text": [
      "/tmp/ipykernel_36223/3149794742.py:132: FutureWarning: Setting an item of incompatible dtype is deprecated and will raise an error in a future version of pandas. Value 'Trailing SL Hit' has dtype incompatible with float64, please explicitly cast to a compatible dtype first.\n",
      "  tradebook_long.loc[\n"
     ]
    },
    {
     "name": "stdout",
     "output_type": "stream",
     "text": [
      "EMA:68, X:14, PCT:0.1\n"
     ]
    },
    {
     "name": "stderr",
     "output_type": "stream",
     "text": [
      "/tmp/ipykernel_36223/3149794742.py:132: FutureWarning: Setting an item of incompatible dtype is deprecated and will raise an error in a future version of pandas. Value 'Trailing SL Hit' has dtype incompatible with float64, please explicitly cast to a compatible dtype first.\n",
      "  tradebook_long.loc[\n"
     ]
    },
    {
     "name": "stdout",
     "output_type": "stream",
     "text": [
      "EMA:68, X:16, PCT:0.1\n"
     ]
    },
    {
     "name": "stderr",
     "output_type": "stream",
     "text": [
      "/tmp/ipykernel_36223/3149794742.py:132: FutureWarning: Setting an item of incompatible dtype is deprecated and will raise an error in a future version of pandas. Value 'Trailing SL Hit' has dtype incompatible with float64, please explicitly cast to a compatible dtype first.\n",
      "  tradebook_long.loc[\n"
     ]
    },
    {
     "name": "stdout",
     "output_type": "stream",
     "text": [
      "EMA:68, X:18, PCT:0.1\n"
     ]
    },
    {
     "name": "stderr",
     "output_type": "stream",
     "text": [
      "/tmp/ipykernel_36223/3149794742.py:132: FutureWarning: Setting an item of incompatible dtype is deprecated and will raise an error in a future version of pandas. Value 'Trailing SL Hit' has dtype incompatible with float64, please explicitly cast to a compatible dtype first.\n",
      "  tradebook_long.loc[\n"
     ]
    },
    {
     "name": "stdout",
     "output_type": "stream",
     "text": [
      "EMA:68, X:20, PCT:0.1\n"
     ]
    },
    {
     "name": "stderr",
     "output_type": "stream",
     "text": [
      "/tmp/ipykernel_36223/3149794742.py:132: FutureWarning: Setting an item of incompatible dtype is deprecated and will raise an error in a future version of pandas. Value 'Trailing SL Hit' has dtype incompatible with float64, please explicitly cast to a compatible dtype first.\n",
      "  tradebook_long.loc[\n"
     ]
    },
    {
     "name": "stdout",
     "output_type": "stream",
     "text": [
      "EMA:68, X:22, PCT:0.1\n"
     ]
    },
    {
     "name": "stderr",
     "output_type": "stream",
     "text": [
      "/tmp/ipykernel_36223/3149794742.py:132: FutureWarning: Setting an item of incompatible dtype is deprecated and will raise an error in a future version of pandas. Value 'Trailing SL Hit' has dtype incompatible with float64, please explicitly cast to a compatible dtype first.\n",
      "  tradebook_long.loc[\n"
     ]
    },
    {
     "name": "stdout",
     "output_type": "stream",
     "text": [
      "EMA:68, X:24, PCT:0.1\n"
     ]
    },
    {
     "name": "stderr",
     "output_type": "stream",
     "text": [
      "/tmp/ipykernel_36223/3149794742.py:132: FutureWarning: Setting an item of incompatible dtype is deprecated and will raise an error in a future version of pandas. Value 'Trailing SL Hit' has dtype incompatible with float64, please explicitly cast to a compatible dtype first.\n",
      "  tradebook_long.loc[\n"
     ]
    },
    {
     "name": "stdout",
     "output_type": "stream",
     "text": [
      "EMA:68, X:26, PCT:0.1\n"
     ]
    },
    {
     "name": "stderr",
     "output_type": "stream",
     "text": [
      "/tmp/ipykernel_36223/3149794742.py:132: FutureWarning: Setting an item of incompatible dtype is deprecated and will raise an error in a future version of pandas. Value 'Trailing SL Hit' has dtype incompatible with float64, please explicitly cast to a compatible dtype first.\n",
      "  tradebook_long.loc[\n"
     ]
    },
    {
     "name": "stdout",
     "output_type": "stream",
     "text": [
      "EMA:68, X:28, PCT:0.1\n"
     ]
    },
    {
     "name": "stderr",
     "output_type": "stream",
     "text": [
      "/tmp/ipykernel_36223/3149794742.py:132: FutureWarning: Setting an item of incompatible dtype is deprecated and will raise an error in a future version of pandas. Value 'Trailing SL Hit' has dtype incompatible with float64, please explicitly cast to a compatible dtype first.\n",
      "  tradebook_long.loc[\n"
     ]
    },
    {
     "name": "stdout",
     "output_type": "stream",
     "text": [
      "EMA:68, X:30, PCT:0.1\n"
     ]
    },
    {
     "name": "stderr",
     "output_type": "stream",
     "text": [
      "/tmp/ipykernel_36223/3149794742.py:132: FutureWarning: Setting an item of incompatible dtype is deprecated and will raise an error in a future version of pandas. Value 'Trailing SL Hit' has dtype incompatible with float64, please explicitly cast to a compatible dtype first.\n",
      "  tradebook_long.loc[\n"
     ]
    },
    {
     "name": "stdout",
     "output_type": "stream",
     "text": [
      "EMA:68, X:32, PCT:0.1\n"
     ]
    },
    {
     "name": "stderr",
     "output_type": "stream",
     "text": [
      "/tmp/ipykernel_36223/3149794742.py:132: FutureWarning: Setting an item of incompatible dtype is deprecated and will raise an error in a future version of pandas. Value 'Trailing SL Hit' has dtype incompatible with float64, please explicitly cast to a compatible dtype first.\n",
      "  tradebook_long.loc[\n"
     ]
    },
    {
     "name": "stdout",
     "output_type": "stream",
     "text": [
      "EMA:68, X:34, PCT:0.1\n"
     ]
    },
    {
     "name": "stderr",
     "output_type": "stream",
     "text": [
      "/tmp/ipykernel_36223/3149794742.py:132: FutureWarning: Setting an item of incompatible dtype is deprecated and will raise an error in a future version of pandas. Value 'Trailing SL Hit' has dtype incompatible with float64, please explicitly cast to a compatible dtype first.\n",
      "  tradebook_long.loc[\n"
     ]
    },
    {
     "name": "stdout",
     "output_type": "stream",
     "text": [
      "EMA:68, X:36, PCT:0.1\n"
     ]
    },
    {
     "name": "stderr",
     "output_type": "stream",
     "text": [
      "/tmp/ipykernel_36223/3149794742.py:132: FutureWarning: Setting an item of incompatible dtype is deprecated and will raise an error in a future version of pandas. Value 'Trailing SL Hit' has dtype incompatible with float64, please explicitly cast to a compatible dtype first.\n",
      "  tradebook_long.loc[\n"
     ]
    },
    {
     "name": "stdout",
     "output_type": "stream",
     "text": [
      "EMA:70, X:4, PCT:0.1\n"
     ]
    },
    {
     "name": "stderr",
     "output_type": "stream",
     "text": [
      "/tmp/ipykernel_36223/3149794742.py:132: FutureWarning: Setting an item of incompatible dtype is deprecated and will raise an error in a future version of pandas. Value 'Trailing SL Hit' has dtype incompatible with float64, please explicitly cast to a compatible dtype first.\n",
      "  tradebook_long.loc[\n"
     ]
    },
    {
     "name": "stdout",
     "output_type": "stream",
     "text": [
      "EMA:70, X:6, PCT:0.1\n"
     ]
    },
    {
     "name": "stderr",
     "output_type": "stream",
     "text": [
      "/tmp/ipykernel_36223/3149794742.py:132: FutureWarning: Setting an item of incompatible dtype is deprecated and will raise an error in a future version of pandas. Value 'Trailing SL Hit' has dtype incompatible with float64, please explicitly cast to a compatible dtype first.\n",
      "  tradebook_long.loc[\n"
     ]
    },
    {
     "name": "stdout",
     "output_type": "stream",
     "text": [
      "EMA:70, X:8, PCT:0.1\n"
     ]
    },
    {
     "name": "stderr",
     "output_type": "stream",
     "text": [
      "/tmp/ipykernel_36223/3149794742.py:132: FutureWarning: Setting an item of incompatible dtype is deprecated and will raise an error in a future version of pandas. Value 'Trailing SL Hit' has dtype incompatible with float64, please explicitly cast to a compatible dtype first.\n",
      "  tradebook_long.loc[\n"
     ]
    },
    {
     "name": "stdout",
     "output_type": "stream",
     "text": [
      "EMA:70, X:10, PCT:0.1\n"
     ]
    },
    {
     "name": "stderr",
     "output_type": "stream",
     "text": [
      "/tmp/ipykernel_36223/3149794742.py:132: FutureWarning: Setting an item of incompatible dtype is deprecated and will raise an error in a future version of pandas. Value 'Trailing SL Hit' has dtype incompatible with float64, please explicitly cast to a compatible dtype first.\n",
      "  tradebook_long.loc[\n"
     ]
    },
    {
     "name": "stdout",
     "output_type": "stream",
     "text": [
      "EMA:70, X:12, PCT:0.1\n"
     ]
    },
    {
     "name": "stderr",
     "output_type": "stream",
     "text": [
      "/tmp/ipykernel_36223/3149794742.py:132: FutureWarning: Setting an item of incompatible dtype is deprecated and will raise an error in a future version of pandas. Value 'Trailing SL Hit' has dtype incompatible with float64, please explicitly cast to a compatible dtype first.\n",
      "  tradebook_long.loc[\n"
     ]
    },
    {
     "name": "stdout",
     "output_type": "stream",
     "text": [
      "EMA:70, X:14, PCT:0.1\n"
     ]
    },
    {
     "name": "stderr",
     "output_type": "stream",
     "text": [
      "/tmp/ipykernel_36223/3149794742.py:132: FutureWarning: Setting an item of incompatible dtype is deprecated and will raise an error in a future version of pandas. Value 'Trailing SL Hit' has dtype incompatible with float64, please explicitly cast to a compatible dtype first.\n",
      "  tradebook_long.loc[\n"
     ]
    },
    {
     "name": "stdout",
     "output_type": "stream",
     "text": [
      "EMA:70, X:16, PCT:0.1\n"
     ]
    },
    {
     "name": "stderr",
     "output_type": "stream",
     "text": [
      "/tmp/ipykernel_36223/3149794742.py:132: FutureWarning: Setting an item of incompatible dtype is deprecated and will raise an error in a future version of pandas. Value 'Trailing SL Hit' has dtype incompatible with float64, please explicitly cast to a compatible dtype first.\n",
      "  tradebook_long.loc[\n"
     ]
    },
    {
     "name": "stdout",
     "output_type": "stream",
     "text": [
      "EMA:70, X:18, PCT:0.1\n"
     ]
    },
    {
     "name": "stderr",
     "output_type": "stream",
     "text": [
      "/tmp/ipykernel_36223/3149794742.py:132: FutureWarning: Setting an item of incompatible dtype is deprecated and will raise an error in a future version of pandas. Value 'Trailing SL Hit' has dtype incompatible with float64, please explicitly cast to a compatible dtype first.\n",
      "  tradebook_long.loc[\n"
     ]
    },
    {
     "name": "stdout",
     "output_type": "stream",
     "text": [
      "EMA:70, X:20, PCT:0.1\n"
     ]
    },
    {
     "name": "stderr",
     "output_type": "stream",
     "text": [
      "/tmp/ipykernel_36223/3149794742.py:132: FutureWarning: Setting an item of incompatible dtype is deprecated and will raise an error in a future version of pandas. Value 'Trailing SL Hit' has dtype incompatible with float64, please explicitly cast to a compatible dtype first.\n",
      "  tradebook_long.loc[\n"
     ]
    },
    {
     "name": "stdout",
     "output_type": "stream",
     "text": [
      "EMA:70, X:22, PCT:0.1\n"
     ]
    },
    {
     "name": "stderr",
     "output_type": "stream",
     "text": [
      "/tmp/ipykernel_36223/3149794742.py:132: FutureWarning: Setting an item of incompatible dtype is deprecated and will raise an error in a future version of pandas. Value 'Trailing SL Hit' has dtype incompatible with float64, please explicitly cast to a compatible dtype first.\n",
      "  tradebook_long.loc[\n"
     ]
    },
    {
     "name": "stdout",
     "output_type": "stream",
     "text": [
      "EMA:70, X:24, PCT:0.1\n"
     ]
    },
    {
     "name": "stderr",
     "output_type": "stream",
     "text": [
      "/tmp/ipykernel_36223/3149794742.py:132: FutureWarning: Setting an item of incompatible dtype is deprecated and will raise an error in a future version of pandas. Value 'Trailing SL Hit' has dtype incompatible with float64, please explicitly cast to a compatible dtype first.\n",
      "  tradebook_long.loc[\n"
     ]
    },
    {
     "name": "stdout",
     "output_type": "stream",
     "text": [
      "EMA:70, X:26, PCT:0.1\n"
     ]
    },
    {
     "name": "stderr",
     "output_type": "stream",
     "text": [
      "/tmp/ipykernel_36223/3149794742.py:132: FutureWarning: Setting an item of incompatible dtype is deprecated and will raise an error in a future version of pandas. Value 'Trailing SL Hit' has dtype incompatible with float64, please explicitly cast to a compatible dtype first.\n",
      "  tradebook_long.loc[\n"
     ]
    },
    {
     "name": "stdout",
     "output_type": "stream",
     "text": [
      "EMA:70, X:28, PCT:0.1\n"
     ]
    },
    {
     "name": "stderr",
     "output_type": "stream",
     "text": [
      "/tmp/ipykernel_36223/3149794742.py:132: FutureWarning: Setting an item of incompatible dtype is deprecated and will raise an error in a future version of pandas. Value 'Trailing SL Hit' has dtype incompatible with float64, please explicitly cast to a compatible dtype first.\n",
      "  tradebook_long.loc[\n"
     ]
    },
    {
     "name": "stdout",
     "output_type": "stream",
     "text": [
      "EMA:70, X:30, PCT:0.1\n"
     ]
    },
    {
     "name": "stderr",
     "output_type": "stream",
     "text": [
      "/tmp/ipykernel_36223/3149794742.py:132: FutureWarning: Setting an item of incompatible dtype is deprecated and will raise an error in a future version of pandas. Value 'Trailing SL Hit' has dtype incompatible with float64, please explicitly cast to a compatible dtype first.\n",
      "  tradebook_long.loc[\n"
     ]
    },
    {
     "name": "stdout",
     "output_type": "stream",
     "text": [
      "EMA:70, X:32, PCT:0.1\n"
     ]
    },
    {
     "name": "stderr",
     "output_type": "stream",
     "text": [
      "/tmp/ipykernel_36223/3149794742.py:132: FutureWarning: Setting an item of incompatible dtype is deprecated and will raise an error in a future version of pandas. Value 'Trailing SL Hit' has dtype incompatible with float64, please explicitly cast to a compatible dtype first.\n",
      "  tradebook_long.loc[\n"
     ]
    },
    {
     "name": "stdout",
     "output_type": "stream",
     "text": [
      "EMA:70, X:34, PCT:0.1\n"
     ]
    },
    {
     "name": "stderr",
     "output_type": "stream",
     "text": [
      "/tmp/ipykernel_36223/3149794742.py:132: FutureWarning: Setting an item of incompatible dtype is deprecated and will raise an error in a future version of pandas. Value 'Trailing SL Hit' has dtype incompatible with float64, please explicitly cast to a compatible dtype first.\n",
      "  tradebook_long.loc[\n"
     ]
    },
    {
     "name": "stdout",
     "output_type": "stream",
     "text": [
      "EMA:70, X:36, PCT:0.1\n"
     ]
    },
    {
     "name": "stderr",
     "output_type": "stream",
     "text": [
      "/tmp/ipykernel_36223/3149794742.py:132: FutureWarning: Setting an item of incompatible dtype is deprecated and will raise an error in a future version of pandas. Value 'Trailing SL Hit' has dtype incompatible with float64, please explicitly cast to a compatible dtype first.\n",
      "  tradebook_long.loc[\n"
     ]
    },
    {
     "name": "stdout",
     "output_type": "stream",
     "text": [
      "EMA:72, X:4, PCT:0.1\n"
     ]
    },
    {
     "name": "stderr",
     "output_type": "stream",
     "text": [
      "/tmp/ipykernel_36223/3149794742.py:132: FutureWarning: Setting an item of incompatible dtype is deprecated and will raise an error in a future version of pandas. Value 'Trailing SL Hit' has dtype incompatible with float64, please explicitly cast to a compatible dtype first.\n",
      "  tradebook_long.loc[\n"
     ]
    },
    {
     "name": "stdout",
     "output_type": "stream",
     "text": [
      "EMA:72, X:6, PCT:0.1\n"
     ]
    },
    {
     "name": "stderr",
     "output_type": "stream",
     "text": [
      "/tmp/ipykernel_36223/3149794742.py:132: FutureWarning: Setting an item of incompatible dtype is deprecated and will raise an error in a future version of pandas. Value 'Trailing SL Hit' has dtype incompatible with float64, please explicitly cast to a compatible dtype first.\n",
      "  tradebook_long.loc[\n"
     ]
    },
    {
     "name": "stdout",
     "output_type": "stream",
     "text": [
      "EMA:72, X:8, PCT:0.1\n"
     ]
    },
    {
     "name": "stderr",
     "output_type": "stream",
     "text": [
      "/tmp/ipykernel_36223/3149794742.py:132: FutureWarning: Setting an item of incompatible dtype is deprecated and will raise an error in a future version of pandas. Value 'Trailing SL Hit' has dtype incompatible with float64, please explicitly cast to a compatible dtype first.\n",
      "  tradebook_long.loc[\n"
     ]
    },
    {
     "name": "stdout",
     "output_type": "stream",
     "text": [
      "EMA:72, X:10, PCT:0.1\n"
     ]
    },
    {
     "name": "stderr",
     "output_type": "stream",
     "text": [
      "/tmp/ipykernel_36223/3149794742.py:132: FutureWarning: Setting an item of incompatible dtype is deprecated and will raise an error in a future version of pandas. Value 'Trailing SL Hit' has dtype incompatible with float64, please explicitly cast to a compatible dtype first.\n",
      "  tradebook_long.loc[\n"
     ]
    },
    {
     "name": "stdout",
     "output_type": "stream",
     "text": [
      "EMA:72, X:12, PCT:0.1\n"
     ]
    },
    {
     "name": "stderr",
     "output_type": "stream",
     "text": [
      "/tmp/ipykernel_36223/3149794742.py:132: FutureWarning: Setting an item of incompatible dtype is deprecated and will raise an error in a future version of pandas. Value 'Trailing SL Hit' has dtype incompatible with float64, please explicitly cast to a compatible dtype first.\n",
      "  tradebook_long.loc[\n"
     ]
    },
    {
     "name": "stdout",
     "output_type": "stream",
     "text": [
      "EMA:72, X:14, PCT:0.1\n"
     ]
    },
    {
     "name": "stderr",
     "output_type": "stream",
     "text": [
      "/tmp/ipykernel_36223/3149794742.py:132: FutureWarning: Setting an item of incompatible dtype is deprecated and will raise an error in a future version of pandas. Value 'Trailing SL Hit' has dtype incompatible with float64, please explicitly cast to a compatible dtype first.\n",
      "  tradebook_long.loc[\n"
     ]
    },
    {
     "name": "stdout",
     "output_type": "stream",
     "text": [
      "EMA:72, X:16, PCT:0.1\n"
     ]
    },
    {
     "name": "stderr",
     "output_type": "stream",
     "text": [
      "/tmp/ipykernel_36223/3149794742.py:132: FutureWarning: Setting an item of incompatible dtype is deprecated and will raise an error in a future version of pandas. Value 'Trailing SL Hit' has dtype incompatible with float64, please explicitly cast to a compatible dtype first.\n",
      "  tradebook_long.loc[\n"
     ]
    },
    {
     "name": "stdout",
     "output_type": "stream",
     "text": [
      "EMA:72, X:18, PCT:0.1\n"
     ]
    },
    {
     "name": "stderr",
     "output_type": "stream",
     "text": [
      "/tmp/ipykernel_36223/3149794742.py:132: FutureWarning: Setting an item of incompatible dtype is deprecated and will raise an error in a future version of pandas. Value 'Trailing SL Hit' has dtype incompatible with float64, please explicitly cast to a compatible dtype first.\n",
      "  tradebook_long.loc[\n"
     ]
    },
    {
     "name": "stdout",
     "output_type": "stream",
     "text": [
      "EMA:72, X:20, PCT:0.1\n"
     ]
    },
    {
     "name": "stderr",
     "output_type": "stream",
     "text": [
      "/tmp/ipykernel_36223/3149794742.py:132: FutureWarning: Setting an item of incompatible dtype is deprecated and will raise an error in a future version of pandas. Value 'Trailing SL Hit' has dtype incompatible with float64, please explicitly cast to a compatible dtype first.\n",
      "  tradebook_long.loc[\n"
     ]
    },
    {
     "name": "stdout",
     "output_type": "stream",
     "text": [
      "EMA:72, X:22, PCT:0.1\n"
     ]
    },
    {
     "name": "stderr",
     "output_type": "stream",
     "text": [
      "/tmp/ipykernel_36223/3149794742.py:132: FutureWarning: Setting an item of incompatible dtype is deprecated and will raise an error in a future version of pandas. Value 'Trailing SL Hit' has dtype incompatible with float64, please explicitly cast to a compatible dtype first.\n",
      "  tradebook_long.loc[\n"
     ]
    },
    {
     "name": "stdout",
     "output_type": "stream",
     "text": [
      "EMA:72, X:24, PCT:0.1\n"
     ]
    },
    {
     "name": "stderr",
     "output_type": "stream",
     "text": [
      "/tmp/ipykernel_36223/3149794742.py:132: FutureWarning: Setting an item of incompatible dtype is deprecated and will raise an error in a future version of pandas. Value 'Trailing SL Hit' has dtype incompatible with float64, please explicitly cast to a compatible dtype first.\n",
      "  tradebook_long.loc[\n"
     ]
    },
    {
     "name": "stdout",
     "output_type": "stream",
     "text": [
      "EMA:72, X:26, PCT:0.1\n"
     ]
    },
    {
     "name": "stderr",
     "output_type": "stream",
     "text": [
      "/tmp/ipykernel_36223/3149794742.py:132: FutureWarning: Setting an item of incompatible dtype is deprecated and will raise an error in a future version of pandas. Value 'Trailing SL Hit' has dtype incompatible with float64, please explicitly cast to a compatible dtype first.\n",
      "  tradebook_long.loc[\n"
     ]
    },
    {
     "name": "stdout",
     "output_type": "stream",
     "text": [
      "EMA:72, X:28, PCT:0.1\n"
     ]
    },
    {
     "name": "stderr",
     "output_type": "stream",
     "text": [
      "/tmp/ipykernel_36223/3149794742.py:132: FutureWarning: Setting an item of incompatible dtype is deprecated and will raise an error in a future version of pandas. Value 'Trailing SL Hit' has dtype incompatible with float64, please explicitly cast to a compatible dtype first.\n",
      "  tradebook_long.loc[\n"
     ]
    },
    {
     "name": "stdout",
     "output_type": "stream",
     "text": [
      "EMA:72, X:30, PCT:0.1\n"
     ]
    },
    {
     "name": "stderr",
     "output_type": "stream",
     "text": [
      "/tmp/ipykernel_36223/3149794742.py:132: FutureWarning: Setting an item of incompatible dtype is deprecated and will raise an error in a future version of pandas. Value 'Trailing SL Hit' has dtype incompatible with float64, please explicitly cast to a compatible dtype first.\n",
      "  tradebook_long.loc[\n"
     ]
    },
    {
     "name": "stdout",
     "output_type": "stream",
     "text": [
      "EMA:72, X:32, PCT:0.1\n"
     ]
    },
    {
     "name": "stderr",
     "output_type": "stream",
     "text": [
      "/tmp/ipykernel_36223/3149794742.py:132: FutureWarning: Setting an item of incompatible dtype is deprecated and will raise an error in a future version of pandas. Value 'Trailing SL Hit' has dtype incompatible with float64, please explicitly cast to a compatible dtype first.\n",
      "  tradebook_long.loc[\n"
     ]
    },
    {
     "name": "stdout",
     "output_type": "stream",
     "text": [
      "EMA:72, X:34, PCT:0.1\n"
     ]
    },
    {
     "name": "stderr",
     "output_type": "stream",
     "text": [
      "/tmp/ipykernel_36223/3149794742.py:132: FutureWarning: Setting an item of incompatible dtype is deprecated and will raise an error in a future version of pandas. Value 'Trailing SL Hit' has dtype incompatible with float64, please explicitly cast to a compatible dtype first.\n",
      "  tradebook_long.loc[\n"
     ]
    },
    {
     "name": "stdout",
     "output_type": "stream",
     "text": [
      "EMA:72, X:36, PCT:0.1\n"
     ]
    },
    {
     "name": "stderr",
     "output_type": "stream",
     "text": [
      "/tmp/ipykernel_36223/3149794742.py:132: FutureWarning: Setting an item of incompatible dtype is deprecated and will raise an error in a future version of pandas. Value 'Trailing SL Hit' has dtype incompatible with float64, please explicitly cast to a compatible dtype first.\n",
      "  tradebook_long.loc[\n"
     ]
    },
    {
     "name": "stdout",
     "output_type": "stream",
     "text": [
      "EMA:74, X:4, PCT:0.1\n"
     ]
    },
    {
     "name": "stderr",
     "output_type": "stream",
     "text": [
      "/tmp/ipykernel_36223/3149794742.py:132: FutureWarning: Setting an item of incompatible dtype is deprecated and will raise an error in a future version of pandas. Value 'Trailing SL Hit' has dtype incompatible with float64, please explicitly cast to a compatible dtype first.\n",
      "  tradebook_long.loc[\n"
     ]
    },
    {
     "name": "stdout",
     "output_type": "stream",
     "text": [
      "EMA:74, X:6, PCT:0.1\n"
     ]
    },
    {
     "name": "stderr",
     "output_type": "stream",
     "text": [
      "/tmp/ipykernel_36223/3149794742.py:132: FutureWarning: Setting an item of incompatible dtype is deprecated and will raise an error in a future version of pandas. Value 'Trailing SL Hit' has dtype incompatible with float64, please explicitly cast to a compatible dtype first.\n",
      "  tradebook_long.loc[\n"
     ]
    },
    {
     "name": "stdout",
     "output_type": "stream",
     "text": [
      "EMA:74, X:8, PCT:0.1\n"
     ]
    },
    {
     "name": "stderr",
     "output_type": "stream",
     "text": [
      "/tmp/ipykernel_36223/3149794742.py:132: FutureWarning: Setting an item of incompatible dtype is deprecated and will raise an error in a future version of pandas. Value 'Trailing SL Hit' has dtype incompatible with float64, please explicitly cast to a compatible dtype first.\n",
      "  tradebook_long.loc[\n"
     ]
    },
    {
     "name": "stdout",
     "output_type": "stream",
     "text": [
      "EMA:74, X:10, PCT:0.1\n"
     ]
    },
    {
     "name": "stderr",
     "output_type": "stream",
     "text": [
      "/tmp/ipykernel_36223/3149794742.py:132: FutureWarning: Setting an item of incompatible dtype is deprecated and will raise an error in a future version of pandas. Value 'Trailing SL Hit' has dtype incompatible with float64, please explicitly cast to a compatible dtype first.\n",
      "  tradebook_long.loc[\n"
     ]
    },
    {
     "name": "stdout",
     "output_type": "stream",
     "text": [
      "EMA:74, X:12, PCT:0.1\n"
     ]
    },
    {
     "name": "stderr",
     "output_type": "stream",
     "text": [
      "/tmp/ipykernel_36223/3149794742.py:132: FutureWarning: Setting an item of incompatible dtype is deprecated and will raise an error in a future version of pandas. Value 'Trailing SL Hit' has dtype incompatible with float64, please explicitly cast to a compatible dtype first.\n",
      "  tradebook_long.loc[\n"
     ]
    },
    {
     "name": "stdout",
     "output_type": "stream",
     "text": [
      "EMA:74, X:14, PCT:0.1\n"
     ]
    },
    {
     "name": "stderr",
     "output_type": "stream",
     "text": [
      "/tmp/ipykernel_36223/3149794742.py:132: FutureWarning: Setting an item of incompatible dtype is deprecated and will raise an error in a future version of pandas. Value 'Trailing SL Hit' has dtype incompatible with float64, please explicitly cast to a compatible dtype first.\n",
      "  tradebook_long.loc[\n"
     ]
    },
    {
     "name": "stdout",
     "output_type": "stream",
     "text": [
      "EMA:74, X:16, PCT:0.1\n"
     ]
    },
    {
     "name": "stderr",
     "output_type": "stream",
     "text": [
      "/tmp/ipykernel_36223/3149794742.py:132: FutureWarning: Setting an item of incompatible dtype is deprecated and will raise an error in a future version of pandas. Value 'Trailing SL Hit' has dtype incompatible with float64, please explicitly cast to a compatible dtype first.\n",
      "  tradebook_long.loc[\n"
     ]
    },
    {
     "name": "stdout",
     "output_type": "stream",
     "text": [
      "EMA:74, X:18, PCT:0.1\n"
     ]
    },
    {
     "name": "stderr",
     "output_type": "stream",
     "text": [
      "/tmp/ipykernel_36223/3149794742.py:132: FutureWarning: Setting an item of incompatible dtype is deprecated and will raise an error in a future version of pandas. Value 'Trailing SL Hit' has dtype incompatible with float64, please explicitly cast to a compatible dtype first.\n",
      "  tradebook_long.loc[\n"
     ]
    },
    {
     "name": "stdout",
     "output_type": "stream",
     "text": [
      "EMA:74, X:20, PCT:0.1\n"
     ]
    },
    {
     "name": "stderr",
     "output_type": "stream",
     "text": [
      "/tmp/ipykernel_36223/3149794742.py:132: FutureWarning: Setting an item of incompatible dtype is deprecated and will raise an error in a future version of pandas. Value 'Trailing SL Hit' has dtype incompatible with float64, please explicitly cast to a compatible dtype first.\n",
      "  tradebook_long.loc[\n"
     ]
    },
    {
     "name": "stdout",
     "output_type": "stream",
     "text": [
      "EMA:74, X:22, PCT:0.1\n"
     ]
    },
    {
     "name": "stderr",
     "output_type": "stream",
     "text": [
      "/tmp/ipykernel_36223/3149794742.py:132: FutureWarning: Setting an item of incompatible dtype is deprecated and will raise an error in a future version of pandas. Value 'Trailing SL Hit' has dtype incompatible with float64, please explicitly cast to a compatible dtype first.\n",
      "  tradebook_long.loc[\n"
     ]
    },
    {
     "name": "stdout",
     "output_type": "stream",
     "text": [
      "EMA:74, X:24, PCT:0.1\n"
     ]
    },
    {
     "name": "stderr",
     "output_type": "stream",
     "text": [
      "/tmp/ipykernel_36223/3149794742.py:132: FutureWarning: Setting an item of incompatible dtype is deprecated and will raise an error in a future version of pandas. Value 'Trailing SL Hit' has dtype incompatible with float64, please explicitly cast to a compatible dtype first.\n",
      "  tradebook_long.loc[\n"
     ]
    },
    {
     "name": "stdout",
     "output_type": "stream",
     "text": [
      "EMA:74, X:26, PCT:0.1\n"
     ]
    },
    {
     "name": "stderr",
     "output_type": "stream",
     "text": [
      "/tmp/ipykernel_36223/3149794742.py:132: FutureWarning: Setting an item of incompatible dtype is deprecated and will raise an error in a future version of pandas. Value 'Trailing SL Hit' has dtype incompatible with float64, please explicitly cast to a compatible dtype first.\n",
      "  tradebook_long.loc[\n"
     ]
    },
    {
     "name": "stdout",
     "output_type": "stream",
     "text": [
      "EMA:74, X:28, PCT:0.1\n"
     ]
    },
    {
     "name": "stderr",
     "output_type": "stream",
     "text": [
      "/tmp/ipykernel_36223/3149794742.py:132: FutureWarning: Setting an item of incompatible dtype is deprecated and will raise an error in a future version of pandas. Value 'Trailing SL Hit' has dtype incompatible with float64, please explicitly cast to a compatible dtype first.\n",
      "  tradebook_long.loc[\n"
     ]
    },
    {
     "name": "stdout",
     "output_type": "stream",
     "text": [
      "EMA:74, X:30, PCT:0.1\n"
     ]
    },
    {
     "name": "stderr",
     "output_type": "stream",
     "text": [
      "/tmp/ipykernel_36223/3149794742.py:132: FutureWarning: Setting an item of incompatible dtype is deprecated and will raise an error in a future version of pandas. Value 'Trailing SL Hit' has dtype incompatible with float64, please explicitly cast to a compatible dtype first.\n",
      "  tradebook_long.loc[\n"
     ]
    },
    {
     "name": "stdout",
     "output_type": "stream",
     "text": [
      "EMA:74, X:32, PCT:0.1\n"
     ]
    },
    {
     "name": "stderr",
     "output_type": "stream",
     "text": [
      "/tmp/ipykernel_36223/3149794742.py:132: FutureWarning: Setting an item of incompatible dtype is deprecated and will raise an error in a future version of pandas. Value 'Trailing SL Hit' has dtype incompatible with float64, please explicitly cast to a compatible dtype first.\n",
      "  tradebook_long.loc[\n"
     ]
    },
    {
     "name": "stdout",
     "output_type": "stream",
     "text": [
      "EMA:74, X:34, PCT:0.1\n"
     ]
    },
    {
     "name": "stderr",
     "output_type": "stream",
     "text": [
      "/tmp/ipykernel_36223/3149794742.py:132: FutureWarning: Setting an item of incompatible dtype is deprecated and will raise an error in a future version of pandas. Value 'Trailing SL Hit' has dtype incompatible with float64, please explicitly cast to a compatible dtype first.\n",
      "  tradebook_long.loc[\n"
     ]
    },
    {
     "name": "stdout",
     "output_type": "stream",
     "text": [
      "EMA:74, X:36, PCT:0.1\n"
     ]
    },
    {
     "name": "stderr",
     "output_type": "stream",
     "text": [
      "/tmp/ipykernel_36223/3149794742.py:132: FutureWarning: Setting an item of incompatible dtype is deprecated and will raise an error in a future version of pandas. Value 'Trailing SL Hit' has dtype incompatible with float64, please explicitly cast to a compatible dtype first.\n",
      "  tradebook_long.loc[\n"
     ]
    },
    {
     "name": "stdout",
     "output_type": "stream",
     "text": [
      "EMA:76, X:4, PCT:0.1\n"
     ]
    },
    {
     "name": "stderr",
     "output_type": "stream",
     "text": [
      "/tmp/ipykernel_36223/3149794742.py:132: FutureWarning: Setting an item of incompatible dtype is deprecated and will raise an error in a future version of pandas. Value 'Trailing SL Hit' has dtype incompatible with float64, please explicitly cast to a compatible dtype first.\n",
      "  tradebook_long.loc[\n"
     ]
    },
    {
     "name": "stdout",
     "output_type": "stream",
     "text": [
      "EMA:76, X:6, PCT:0.1\n"
     ]
    },
    {
     "name": "stderr",
     "output_type": "stream",
     "text": [
      "/tmp/ipykernel_36223/3149794742.py:132: FutureWarning: Setting an item of incompatible dtype is deprecated and will raise an error in a future version of pandas. Value 'Trailing SL Hit' has dtype incompatible with float64, please explicitly cast to a compatible dtype first.\n",
      "  tradebook_long.loc[\n"
     ]
    },
    {
     "name": "stdout",
     "output_type": "stream",
     "text": [
      "EMA:76, X:8, PCT:0.1\n"
     ]
    },
    {
     "name": "stderr",
     "output_type": "stream",
     "text": [
      "/tmp/ipykernel_36223/3149794742.py:132: FutureWarning: Setting an item of incompatible dtype is deprecated and will raise an error in a future version of pandas. Value 'Trailing SL Hit' has dtype incompatible with float64, please explicitly cast to a compatible dtype first.\n",
      "  tradebook_long.loc[\n"
     ]
    },
    {
     "name": "stdout",
     "output_type": "stream",
     "text": [
      "EMA:76, X:10, PCT:0.1\n"
     ]
    },
    {
     "name": "stderr",
     "output_type": "stream",
     "text": [
      "/tmp/ipykernel_36223/3149794742.py:132: FutureWarning: Setting an item of incompatible dtype is deprecated and will raise an error in a future version of pandas. Value 'Trailing SL Hit' has dtype incompatible with float64, please explicitly cast to a compatible dtype first.\n",
      "  tradebook_long.loc[\n"
     ]
    },
    {
     "name": "stdout",
     "output_type": "stream",
     "text": [
      "EMA:76, X:12, PCT:0.1\n"
     ]
    },
    {
     "name": "stderr",
     "output_type": "stream",
     "text": [
      "/tmp/ipykernel_36223/3149794742.py:132: FutureWarning: Setting an item of incompatible dtype is deprecated and will raise an error in a future version of pandas. Value 'Trailing SL Hit' has dtype incompatible with float64, please explicitly cast to a compatible dtype first.\n",
      "  tradebook_long.loc[\n"
     ]
    },
    {
     "name": "stdout",
     "output_type": "stream",
     "text": [
      "EMA:76, X:14, PCT:0.1\n"
     ]
    },
    {
     "name": "stderr",
     "output_type": "stream",
     "text": [
      "/tmp/ipykernel_36223/3149794742.py:132: FutureWarning: Setting an item of incompatible dtype is deprecated and will raise an error in a future version of pandas. Value 'Trailing SL Hit' has dtype incompatible with float64, please explicitly cast to a compatible dtype first.\n",
      "  tradebook_long.loc[\n"
     ]
    },
    {
     "name": "stdout",
     "output_type": "stream",
     "text": [
      "EMA:76, X:16, PCT:0.1\n"
     ]
    },
    {
     "name": "stderr",
     "output_type": "stream",
     "text": [
      "/tmp/ipykernel_36223/3149794742.py:132: FutureWarning: Setting an item of incompatible dtype is deprecated and will raise an error in a future version of pandas. Value 'Trailing SL Hit' has dtype incompatible with float64, please explicitly cast to a compatible dtype first.\n",
      "  tradebook_long.loc[\n"
     ]
    },
    {
     "name": "stdout",
     "output_type": "stream",
     "text": [
      "EMA:76, X:18, PCT:0.1\n"
     ]
    },
    {
     "name": "stderr",
     "output_type": "stream",
     "text": [
      "/tmp/ipykernel_36223/3149794742.py:132: FutureWarning: Setting an item of incompatible dtype is deprecated and will raise an error in a future version of pandas. Value 'Trailing SL Hit' has dtype incompatible with float64, please explicitly cast to a compatible dtype first.\n",
      "  tradebook_long.loc[\n"
     ]
    },
    {
     "name": "stdout",
     "output_type": "stream",
     "text": [
      "EMA:76, X:20, PCT:0.1\n"
     ]
    },
    {
     "name": "stderr",
     "output_type": "stream",
     "text": [
      "/tmp/ipykernel_36223/3149794742.py:132: FutureWarning: Setting an item of incompatible dtype is deprecated and will raise an error in a future version of pandas. Value 'Trailing SL Hit' has dtype incompatible with float64, please explicitly cast to a compatible dtype first.\n",
      "  tradebook_long.loc[\n"
     ]
    },
    {
     "name": "stdout",
     "output_type": "stream",
     "text": [
      "EMA:76, X:22, PCT:0.1\n"
     ]
    },
    {
     "name": "stderr",
     "output_type": "stream",
     "text": [
      "/tmp/ipykernel_36223/3149794742.py:132: FutureWarning: Setting an item of incompatible dtype is deprecated and will raise an error in a future version of pandas. Value 'Trailing SL Hit' has dtype incompatible with float64, please explicitly cast to a compatible dtype first.\n",
      "  tradebook_long.loc[\n"
     ]
    },
    {
     "name": "stdout",
     "output_type": "stream",
     "text": [
      "EMA:76, X:24, PCT:0.1\n"
     ]
    },
    {
     "name": "stderr",
     "output_type": "stream",
     "text": [
      "/tmp/ipykernel_36223/3149794742.py:132: FutureWarning: Setting an item of incompatible dtype is deprecated and will raise an error in a future version of pandas. Value 'Trailing SL Hit' has dtype incompatible with float64, please explicitly cast to a compatible dtype first.\n",
      "  tradebook_long.loc[\n"
     ]
    },
    {
     "name": "stdout",
     "output_type": "stream",
     "text": [
      "EMA:76, X:26, PCT:0.1\n"
     ]
    },
    {
     "name": "stderr",
     "output_type": "stream",
     "text": [
      "/tmp/ipykernel_36223/3149794742.py:132: FutureWarning: Setting an item of incompatible dtype is deprecated and will raise an error in a future version of pandas. Value 'Trailing SL Hit' has dtype incompatible with float64, please explicitly cast to a compatible dtype first.\n",
      "  tradebook_long.loc[\n"
     ]
    },
    {
     "name": "stdout",
     "output_type": "stream",
     "text": [
      "EMA:76, X:28, PCT:0.1\n"
     ]
    },
    {
     "name": "stderr",
     "output_type": "stream",
     "text": [
      "/tmp/ipykernel_36223/3149794742.py:132: FutureWarning: Setting an item of incompatible dtype is deprecated and will raise an error in a future version of pandas. Value 'Trailing SL Hit' has dtype incompatible with float64, please explicitly cast to a compatible dtype first.\n",
      "  tradebook_long.loc[\n"
     ]
    },
    {
     "name": "stdout",
     "output_type": "stream",
     "text": [
      "EMA:76, X:30, PCT:0.1\n"
     ]
    },
    {
     "name": "stderr",
     "output_type": "stream",
     "text": [
      "/tmp/ipykernel_36223/3149794742.py:132: FutureWarning: Setting an item of incompatible dtype is deprecated and will raise an error in a future version of pandas. Value 'Trailing SL Hit' has dtype incompatible with float64, please explicitly cast to a compatible dtype first.\n",
      "  tradebook_long.loc[\n"
     ]
    },
    {
     "name": "stdout",
     "output_type": "stream",
     "text": [
      "EMA:76, X:32, PCT:0.1\n"
     ]
    },
    {
     "name": "stderr",
     "output_type": "stream",
     "text": [
      "/tmp/ipykernel_36223/3149794742.py:132: FutureWarning: Setting an item of incompatible dtype is deprecated and will raise an error in a future version of pandas. Value 'Trailing SL Hit' has dtype incompatible with float64, please explicitly cast to a compatible dtype first.\n",
      "  tradebook_long.loc[\n"
     ]
    },
    {
     "name": "stdout",
     "output_type": "stream",
     "text": [
      "EMA:76, X:34, PCT:0.1\n"
     ]
    },
    {
     "name": "stderr",
     "output_type": "stream",
     "text": [
      "/tmp/ipykernel_36223/3149794742.py:132: FutureWarning: Setting an item of incompatible dtype is deprecated and will raise an error in a future version of pandas. Value 'Trailing SL Hit' has dtype incompatible with float64, please explicitly cast to a compatible dtype first.\n",
      "  tradebook_long.loc[\n"
     ]
    },
    {
     "name": "stdout",
     "output_type": "stream",
     "text": [
      "EMA:76, X:36, PCT:0.1\n"
     ]
    },
    {
     "name": "stderr",
     "output_type": "stream",
     "text": [
      "/tmp/ipykernel_36223/3149794742.py:132: FutureWarning: Setting an item of incompatible dtype is deprecated and will raise an error in a future version of pandas. Value 'Trailing SL Hit' has dtype incompatible with float64, please explicitly cast to a compatible dtype first.\n",
      "  tradebook_long.loc[\n"
     ]
    },
    {
     "name": "stdout",
     "output_type": "stream",
     "text": [
      "EMA:78, X:4, PCT:0.1\n"
     ]
    },
    {
     "name": "stderr",
     "output_type": "stream",
     "text": [
      "/tmp/ipykernel_36223/3149794742.py:132: FutureWarning: Setting an item of incompatible dtype is deprecated and will raise an error in a future version of pandas. Value 'Trailing SL Hit' has dtype incompatible with float64, please explicitly cast to a compatible dtype first.\n",
      "  tradebook_long.loc[\n"
     ]
    },
    {
     "name": "stdout",
     "output_type": "stream",
     "text": [
      "EMA:78, X:6, PCT:0.1\n"
     ]
    },
    {
     "name": "stderr",
     "output_type": "stream",
     "text": [
      "/tmp/ipykernel_36223/3149794742.py:132: FutureWarning: Setting an item of incompatible dtype is deprecated and will raise an error in a future version of pandas. Value 'Trailing SL Hit' has dtype incompatible with float64, please explicitly cast to a compatible dtype first.\n",
      "  tradebook_long.loc[\n"
     ]
    },
    {
     "name": "stdout",
     "output_type": "stream",
     "text": [
      "EMA:78, X:8, PCT:0.1\n"
     ]
    },
    {
     "name": "stderr",
     "output_type": "stream",
     "text": [
      "/tmp/ipykernel_36223/3149794742.py:132: FutureWarning: Setting an item of incompatible dtype is deprecated and will raise an error in a future version of pandas. Value 'Trailing SL Hit' has dtype incompatible with float64, please explicitly cast to a compatible dtype first.\n",
      "  tradebook_long.loc[\n"
     ]
    },
    {
     "name": "stdout",
     "output_type": "stream",
     "text": [
      "EMA:78, X:10, PCT:0.1\n"
     ]
    },
    {
     "name": "stderr",
     "output_type": "stream",
     "text": [
      "/tmp/ipykernel_36223/3149794742.py:132: FutureWarning: Setting an item of incompatible dtype is deprecated and will raise an error in a future version of pandas. Value 'Trailing SL Hit' has dtype incompatible with float64, please explicitly cast to a compatible dtype first.\n",
      "  tradebook_long.loc[\n"
     ]
    },
    {
     "name": "stdout",
     "output_type": "stream",
     "text": [
      "EMA:78, X:12, PCT:0.1\n"
     ]
    },
    {
     "name": "stderr",
     "output_type": "stream",
     "text": [
      "/tmp/ipykernel_36223/3149794742.py:132: FutureWarning: Setting an item of incompatible dtype is deprecated and will raise an error in a future version of pandas. Value 'Trailing SL Hit' has dtype incompatible with float64, please explicitly cast to a compatible dtype first.\n",
      "  tradebook_long.loc[\n"
     ]
    },
    {
     "name": "stdout",
     "output_type": "stream",
     "text": [
      "EMA:78, X:14, PCT:0.1\n"
     ]
    },
    {
     "name": "stderr",
     "output_type": "stream",
     "text": [
      "/tmp/ipykernel_36223/3149794742.py:132: FutureWarning: Setting an item of incompatible dtype is deprecated and will raise an error in a future version of pandas. Value 'Trailing SL Hit' has dtype incompatible with float64, please explicitly cast to a compatible dtype first.\n",
      "  tradebook_long.loc[\n"
     ]
    },
    {
     "name": "stdout",
     "output_type": "stream",
     "text": [
      "EMA:78, X:16, PCT:0.1\n"
     ]
    },
    {
     "name": "stderr",
     "output_type": "stream",
     "text": [
      "/tmp/ipykernel_36223/3149794742.py:132: FutureWarning: Setting an item of incompatible dtype is deprecated and will raise an error in a future version of pandas. Value 'Trailing SL Hit' has dtype incompatible with float64, please explicitly cast to a compatible dtype first.\n",
      "  tradebook_long.loc[\n"
     ]
    },
    {
     "name": "stdout",
     "output_type": "stream",
     "text": [
      "EMA:78, X:18, PCT:0.1\n"
     ]
    },
    {
     "name": "stderr",
     "output_type": "stream",
     "text": [
      "/tmp/ipykernel_36223/3149794742.py:132: FutureWarning: Setting an item of incompatible dtype is deprecated and will raise an error in a future version of pandas. Value 'Trailing SL Hit' has dtype incompatible with float64, please explicitly cast to a compatible dtype first.\n",
      "  tradebook_long.loc[\n"
     ]
    },
    {
     "name": "stdout",
     "output_type": "stream",
     "text": [
      "EMA:78, X:20, PCT:0.1\n"
     ]
    },
    {
     "name": "stderr",
     "output_type": "stream",
     "text": [
      "/tmp/ipykernel_36223/3149794742.py:132: FutureWarning: Setting an item of incompatible dtype is deprecated and will raise an error in a future version of pandas. Value 'Trailing SL Hit' has dtype incompatible with float64, please explicitly cast to a compatible dtype first.\n",
      "  tradebook_long.loc[\n"
     ]
    },
    {
     "name": "stdout",
     "output_type": "stream",
     "text": [
      "EMA:78, X:22, PCT:0.1\n"
     ]
    },
    {
     "name": "stderr",
     "output_type": "stream",
     "text": [
      "/tmp/ipykernel_36223/3149794742.py:132: FutureWarning: Setting an item of incompatible dtype is deprecated and will raise an error in a future version of pandas. Value 'Trailing SL Hit' has dtype incompatible with float64, please explicitly cast to a compatible dtype first.\n",
      "  tradebook_long.loc[\n"
     ]
    },
    {
     "name": "stdout",
     "output_type": "stream",
     "text": [
      "EMA:78, X:24, PCT:0.1\n"
     ]
    },
    {
     "name": "stderr",
     "output_type": "stream",
     "text": [
      "/tmp/ipykernel_36223/3149794742.py:132: FutureWarning: Setting an item of incompatible dtype is deprecated and will raise an error in a future version of pandas. Value 'Trailing SL Hit' has dtype incompatible with float64, please explicitly cast to a compatible dtype first.\n",
      "  tradebook_long.loc[\n"
     ]
    },
    {
     "name": "stdout",
     "output_type": "stream",
     "text": [
      "EMA:78, X:26, PCT:0.1\n"
     ]
    },
    {
     "name": "stderr",
     "output_type": "stream",
     "text": [
      "/tmp/ipykernel_36223/3149794742.py:132: FutureWarning: Setting an item of incompatible dtype is deprecated and will raise an error in a future version of pandas. Value 'Trailing SL Hit' has dtype incompatible with float64, please explicitly cast to a compatible dtype first.\n",
      "  tradebook_long.loc[\n"
     ]
    },
    {
     "name": "stdout",
     "output_type": "stream",
     "text": [
      "EMA:78, X:28, PCT:0.1\n"
     ]
    },
    {
     "name": "stderr",
     "output_type": "stream",
     "text": [
      "/tmp/ipykernel_36223/3149794742.py:132: FutureWarning: Setting an item of incompatible dtype is deprecated and will raise an error in a future version of pandas. Value 'Trailing SL Hit' has dtype incompatible with float64, please explicitly cast to a compatible dtype first.\n",
      "  tradebook_long.loc[\n"
     ]
    },
    {
     "name": "stdout",
     "output_type": "stream",
     "text": [
      "EMA:78, X:30, PCT:0.1\n"
     ]
    },
    {
     "name": "stderr",
     "output_type": "stream",
     "text": [
      "/tmp/ipykernel_36223/3149794742.py:132: FutureWarning: Setting an item of incompatible dtype is deprecated and will raise an error in a future version of pandas. Value 'Trailing SL Hit' has dtype incompatible with float64, please explicitly cast to a compatible dtype first.\n",
      "  tradebook_long.loc[\n"
     ]
    },
    {
     "name": "stdout",
     "output_type": "stream",
     "text": [
      "EMA:78, X:32, PCT:0.1\n"
     ]
    },
    {
     "name": "stderr",
     "output_type": "stream",
     "text": [
      "/tmp/ipykernel_36223/3149794742.py:132: FutureWarning: Setting an item of incompatible dtype is deprecated and will raise an error in a future version of pandas. Value 'Trailing SL Hit' has dtype incompatible with float64, please explicitly cast to a compatible dtype first.\n",
      "  tradebook_long.loc[\n"
     ]
    },
    {
     "name": "stdout",
     "output_type": "stream",
     "text": [
      "EMA:78, X:34, PCT:0.1\n"
     ]
    },
    {
     "name": "stderr",
     "output_type": "stream",
     "text": [
      "/tmp/ipykernel_36223/3149794742.py:132: FutureWarning: Setting an item of incompatible dtype is deprecated and will raise an error in a future version of pandas. Value 'Trailing SL Hit' has dtype incompatible with float64, please explicitly cast to a compatible dtype first.\n",
      "  tradebook_long.loc[\n"
     ]
    },
    {
     "name": "stdout",
     "output_type": "stream",
     "text": [
      "EMA:78, X:36, PCT:0.1\n"
     ]
    },
    {
     "name": "stderr",
     "output_type": "stream",
     "text": [
      "/tmp/ipykernel_36223/3149794742.py:132: FutureWarning: Setting an item of incompatible dtype is deprecated and will raise an error in a future version of pandas. Value 'Trailing SL Hit' has dtype incompatible with float64, please explicitly cast to a compatible dtype first.\n",
      "  tradebook_long.loc[\n"
     ]
    },
    {
     "name": "stdout",
     "output_type": "stream",
     "text": [
      "EMA:80, X:4, PCT:0.1\n"
     ]
    },
    {
     "name": "stderr",
     "output_type": "stream",
     "text": [
      "/tmp/ipykernel_36223/3149794742.py:132: FutureWarning: Setting an item of incompatible dtype is deprecated and will raise an error in a future version of pandas. Value 'Trailing SL Hit' has dtype incompatible with float64, please explicitly cast to a compatible dtype first.\n",
      "  tradebook_long.loc[\n"
     ]
    },
    {
     "name": "stdout",
     "output_type": "stream",
     "text": [
      "EMA:80, X:6, PCT:0.1\n"
     ]
    },
    {
     "name": "stderr",
     "output_type": "stream",
     "text": [
      "/tmp/ipykernel_36223/3149794742.py:132: FutureWarning: Setting an item of incompatible dtype is deprecated and will raise an error in a future version of pandas. Value 'Trailing SL Hit' has dtype incompatible with float64, please explicitly cast to a compatible dtype first.\n",
      "  tradebook_long.loc[\n"
     ]
    },
    {
     "name": "stdout",
     "output_type": "stream",
     "text": [
      "EMA:80, X:8, PCT:0.1\n"
     ]
    },
    {
     "name": "stderr",
     "output_type": "stream",
     "text": [
      "/tmp/ipykernel_36223/3149794742.py:132: FutureWarning: Setting an item of incompatible dtype is deprecated and will raise an error in a future version of pandas. Value 'Trailing SL Hit' has dtype incompatible with float64, please explicitly cast to a compatible dtype first.\n",
      "  tradebook_long.loc[\n"
     ]
    },
    {
     "name": "stdout",
     "output_type": "stream",
     "text": [
      "EMA:80, X:10, PCT:0.1\n"
     ]
    },
    {
     "name": "stderr",
     "output_type": "stream",
     "text": [
      "/tmp/ipykernel_36223/3149794742.py:132: FutureWarning: Setting an item of incompatible dtype is deprecated and will raise an error in a future version of pandas. Value 'Trailing SL Hit' has dtype incompatible with float64, please explicitly cast to a compatible dtype first.\n",
      "  tradebook_long.loc[\n"
     ]
    },
    {
     "name": "stdout",
     "output_type": "stream",
     "text": [
      "EMA:80, X:12, PCT:0.1\n"
     ]
    },
    {
     "name": "stderr",
     "output_type": "stream",
     "text": [
      "/tmp/ipykernel_36223/3149794742.py:132: FutureWarning: Setting an item of incompatible dtype is deprecated and will raise an error in a future version of pandas. Value 'Trailing SL Hit' has dtype incompatible with float64, please explicitly cast to a compatible dtype first.\n",
      "  tradebook_long.loc[\n"
     ]
    },
    {
     "name": "stdout",
     "output_type": "stream",
     "text": [
      "EMA:80, X:14, PCT:0.1\n"
     ]
    },
    {
     "name": "stderr",
     "output_type": "stream",
     "text": [
      "/tmp/ipykernel_36223/3149794742.py:132: FutureWarning: Setting an item of incompatible dtype is deprecated and will raise an error in a future version of pandas. Value 'Trailing SL Hit' has dtype incompatible with float64, please explicitly cast to a compatible dtype first.\n",
      "  tradebook_long.loc[\n"
     ]
    },
    {
     "name": "stdout",
     "output_type": "stream",
     "text": [
      "EMA:80, X:16, PCT:0.1\n"
     ]
    },
    {
     "name": "stderr",
     "output_type": "stream",
     "text": [
      "/tmp/ipykernel_36223/3149794742.py:132: FutureWarning: Setting an item of incompatible dtype is deprecated and will raise an error in a future version of pandas. Value 'Trailing SL Hit' has dtype incompatible with float64, please explicitly cast to a compatible dtype first.\n",
      "  tradebook_long.loc[\n"
     ]
    },
    {
     "name": "stdout",
     "output_type": "stream",
     "text": [
      "EMA:80, X:18, PCT:0.1\n"
     ]
    },
    {
     "name": "stderr",
     "output_type": "stream",
     "text": [
      "/tmp/ipykernel_36223/3149794742.py:132: FutureWarning: Setting an item of incompatible dtype is deprecated and will raise an error in a future version of pandas. Value 'Trailing SL Hit' has dtype incompatible with float64, please explicitly cast to a compatible dtype first.\n",
      "  tradebook_long.loc[\n"
     ]
    },
    {
     "name": "stdout",
     "output_type": "stream",
     "text": [
      "EMA:80, X:20, PCT:0.1\n"
     ]
    },
    {
     "name": "stderr",
     "output_type": "stream",
     "text": [
      "/tmp/ipykernel_36223/3149794742.py:132: FutureWarning: Setting an item of incompatible dtype is deprecated and will raise an error in a future version of pandas. Value 'Trailing SL Hit' has dtype incompatible with float64, please explicitly cast to a compatible dtype first.\n",
      "  tradebook_long.loc[\n"
     ]
    },
    {
     "name": "stdout",
     "output_type": "stream",
     "text": [
      "EMA:80, X:22, PCT:0.1\n"
     ]
    },
    {
     "name": "stderr",
     "output_type": "stream",
     "text": [
      "/tmp/ipykernel_36223/3149794742.py:132: FutureWarning: Setting an item of incompatible dtype is deprecated and will raise an error in a future version of pandas. Value 'Trailing SL Hit' has dtype incompatible with float64, please explicitly cast to a compatible dtype first.\n",
      "  tradebook_long.loc[\n"
     ]
    },
    {
     "name": "stdout",
     "output_type": "stream",
     "text": [
      "EMA:80, X:24, PCT:0.1\n"
     ]
    },
    {
     "name": "stderr",
     "output_type": "stream",
     "text": [
      "/tmp/ipykernel_36223/3149794742.py:132: FutureWarning: Setting an item of incompatible dtype is deprecated and will raise an error in a future version of pandas. Value 'Trailing SL Hit' has dtype incompatible with float64, please explicitly cast to a compatible dtype first.\n",
      "  tradebook_long.loc[\n"
     ]
    },
    {
     "name": "stdout",
     "output_type": "stream",
     "text": [
      "EMA:80, X:26, PCT:0.1\n"
     ]
    },
    {
     "name": "stderr",
     "output_type": "stream",
     "text": [
      "/tmp/ipykernel_36223/3149794742.py:132: FutureWarning: Setting an item of incompatible dtype is deprecated and will raise an error in a future version of pandas. Value 'Trailing SL Hit' has dtype incompatible with float64, please explicitly cast to a compatible dtype first.\n",
      "  tradebook_long.loc[\n"
     ]
    },
    {
     "name": "stdout",
     "output_type": "stream",
     "text": [
      "EMA:80, X:28, PCT:0.1\n"
     ]
    },
    {
     "name": "stderr",
     "output_type": "stream",
     "text": [
      "/tmp/ipykernel_36223/3149794742.py:132: FutureWarning: Setting an item of incompatible dtype is deprecated and will raise an error in a future version of pandas. Value 'Trailing SL Hit' has dtype incompatible with float64, please explicitly cast to a compatible dtype first.\n",
      "  tradebook_long.loc[\n"
     ]
    },
    {
     "name": "stdout",
     "output_type": "stream",
     "text": [
      "EMA:80, X:30, PCT:0.1\n"
     ]
    },
    {
     "name": "stderr",
     "output_type": "stream",
     "text": [
      "/tmp/ipykernel_36223/3149794742.py:132: FutureWarning: Setting an item of incompatible dtype is deprecated and will raise an error in a future version of pandas. Value 'Trailing SL Hit' has dtype incompatible with float64, please explicitly cast to a compatible dtype first.\n",
      "  tradebook_long.loc[\n"
     ]
    },
    {
     "name": "stdout",
     "output_type": "stream",
     "text": [
      "EMA:80, X:32, PCT:0.1\n"
     ]
    },
    {
     "name": "stderr",
     "output_type": "stream",
     "text": [
      "/tmp/ipykernel_36223/3149794742.py:132: FutureWarning: Setting an item of incompatible dtype is deprecated and will raise an error in a future version of pandas. Value 'Trailing SL Hit' has dtype incompatible with float64, please explicitly cast to a compatible dtype first.\n",
      "  tradebook_long.loc[\n"
     ]
    },
    {
     "name": "stdout",
     "output_type": "stream",
     "text": [
      "EMA:80, X:34, PCT:0.1\n"
     ]
    },
    {
     "name": "stderr",
     "output_type": "stream",
     "text": [
      "/tmp/ipykernel_36223/3149794742.py:132: FutureWarning: Setting an item of incompatible dtype is deprecated and will raise an error in a future version of pandas. Value 'Trailing SL Hit' has dtype incompatible with float64, please explicitly cast to a compatible dtype first.\n",
      "  tradebook_long.loc[\n"
     ]
    },
    {
     "name": "stdout",
     "output_type": "stream",
     "text": [
      "EMA:80, X:36, PCT:0.1\n"
     ]
    },
    {
     "name": "stderr",
     "output_type": "stream",
     "text": [
      "/tmp/ipykernel_36223/3149794742.py:132: FutureWarning: Setting an item of incompatible dtype is deprecated and will raise an error in a future version of pandas. Value 'Trailing SL Hit' has dtype incompatible with float64, please explicitly cast to a compatible dtype first.\n",
      "  tradebook_long.loc[\n"
     ]
    }
   ],
   "source": [
    "# ema_length = 55\n",
    "# x_days = 28\n",
    "# y_days = 7\n",
    "# pct = 1.05\n",
    "# RPT = 5\n",
    "\n",
    "pct_range = [0.1]\n",
    "RPT_ = 3\n",
    "stats_dictionary = {}\n",
    "\n",
    "for ema_length in range(22, 81, 2):\n",
    "    for x_days in range(4, 37, 2):\n",
    "            for pct in pct_range:\n",
    "                # RPT = 5\n",
    "                variation = f'EMA:{ema_length}, X:{x_days}, PCT:{pct}'\n",
    "                print(variation)\n",
    "                df = bnf_1min\n",
    "                df = calculate_signals(df, ema_length=ema_length, x_days=x_days, pct=pct)\n",
    "                tb = backtest3(df)\n",
    "                if len(tb) > 0:\n",
    "                    tb = tb.sort_values(by='Entry_Date')\n",
    "                    portfolio = 10000000\n",
    "                    tb['PnL'] = np.where(\n",
    "                        tb['Trade_Type'].isin(['Long', 'Add_Long']),  # For Long and Add_Long\n",
    "                        tb['Exit_Price'] - tb['Entry_Price'],\n",
    "                        np.where(\n",
    "                            tb['Trade_Type'].isin(['Short', 'Add_Short']),  # For Short and Add_Short\n",
    "                            tb['Entry_Price'] - tb['Exit_Price'],\n",
    "                            0  # Default case if Trade_Type is something unexpected\n",
    "                        )\n",
    "                    )\n",
    "                    \n",
    "                    tb['Slippage'] = SLIPPAGE_ * (tb['Entry_Price'] + tb['Exit_Price'])\n",
    "                    tb['PnL w cs'] = tb['PnL'] - tb['Slippage']\n",
    "                    tb['Qty'] = abs(RPT_ / 100 * portfolio / (tb['Entry_Price'] - tb['Initial SL']))\n",
    "                    tb['Profit_Loss INR'] = tb['Qty'] * tb['PnL w cs']\n",
    "                    tb['ROI%'] = tb['Profit_Loss INR'] * 100 / portfolio\n",
    "                    tb['Entry_Date'] = pd.to_datetime(tb['Entry_Date'])\n",
    "                    tb['Trade Year'] = tb['Entry_Date'].dt.year\n",
    "                    # tb_long_only = tb[(tb['Trade_Type'] == 'Long') | (tb['Trade_Type'] == 'Add_Long')].copy()\n",
    "                    # tb_long_only['Cumulative_PnL'] = tb_long_only['PnL w cs'].cumsum()\n",
    "                    # tb_short_only = tb[(tb['Trade_Type'] == 'Short') | (tb['Trade_Type'] == 'Add_Short')].copy()\n",
    "                    # tb_short_only['Cumulative_PnL'] = tb_short_only['PnL w cs'].cumsum()\n",
    "                    \n",
    "                    stats1 = generate_stats(tb, variation)\n",
    "                    for x, y in stats1.items():\n",
    "                        if x > 24:\n",
    "                            # print('Long Only')\n",
    "                            print(pd.DataFrame(y).to_string())\n",
    "                            stats_dictionary[x] = y\n",
    "                        break"
   ]
  },
  {
   "cell_type": "markdown",
   "id": "094579e9-c66b-44b7-bc27-664a676bc699",
   "metadata": {},
   "source": [
    "# BNF 30min"
   ]
  },
  {
   "cell_type": "code",
   "execution_count": 163,
   "id": "5f06472d-d644-4db0-8155-e189a2b4c49a",
   "metadata": {
    "execution": {
     "iopub.execute_input": "2024-12-19T06:32:06.659093Z",
     "iopub.status.busy": "2024-12-19T06:32:06.658339Z",
     "iopub.status.idle": "2024-12-19T06:32:06.671382Z",
     "shell.execute_reply": "2024-12-19T06:32:06.670498Z",
     "shell.execute_reply.started": "2024-12-19T06:32:06.659075Z"
    },
    "scrolled": true
   },
   "outputs": [
    {
     "name": "stdout",
     "output_type": "stream",
     "text": [
      "        Total ROI Total Trades Win Rate Avg Profit% per Trade Avg Loss% per Trade Max Drawdown ROI/DD Ratio              Variation\n",
      "2017            0            0      NaN                   NaN                 NaN          NaN          NaN  EMA:32, X:12, PCT:0.1\n",
      "2018     111.0723           87  31.0345                8.1887             -1.8337     -27.0214       4.1105  EMA:32, X:12, PCT:0.1\n",
      "2019     116.3384           88  31.8182                7.9506             -1.7713     -27.7500       4.1924  EMA:32, X:12, PCT:0.1\n",
      "2020     152.9428           90  30.0000                9.2294             -1.5278     -12.5619      12.1752  EMA:32, X:12, PCT:0.1\n",
      "2021     137.5594          104  32.6923                7.4757             -1.6659     -29.7828       4.6187  EMA:32, X:12, PCT:0.1\n",
      "2022      93.3687           84  36.9048                5.8853             -1.6807     -29.3147       3.1851  EMA:32, X:12, PCT:0.1\n",
      "2023     107.2741          100  26.0000                8.0798             -1.3892     -27.2822       3.9320  EMA:32, X:12, PCT:0.1\n",
      "2024      91.3841           81  30.8642                7.8869             -1.9234     -29.3067       3.1182  EMA:32, X:12, PCT:0.1\n",
      "Overall  809.9398          634  31.2303                7.7615             -1.6709     -29.7828      27.1949  EMA:32, X:12, PCT:0.1\n",
      "        Total ROI Total Trades Win Rate Avg Profit% per Trade Avg Loss% per Trade Max Drawdown ROI/DD Ratio              Variation\n",
      "2017            0            0      NaN                   NaN                 NaN          NaN          NaN  EMA:30, X:12, PCT:0.1\n",
      "2018     121.2198           88  32.9545                7.9235             -1.8400     -26.8720       4.5110  EMA:30, X:12, PCT:0.1\n",
      "2019     118.5810           90  31.1111                7.9983             -1.6995     -25.9381       4.5717  EMA:30, X:12, PCT:0.1\n",
      "2020     136.7375           94  27.6596                9.3533             -1.5654     -13.6357      10.0279  EMA:30, X:12, PCT:0.1\n",
      "2021     138.4237          107  32.7103                7.3225             -1.6370     -33.7097       4.1064  EMA:30, X:12, PCT:0.1\n",
      "2022     110.6122           86  36.0465                6.4123             -1.6031     -25.6726       4.3086  EMA:30, X:12, PCT:0.1\n",
      "2023     112.7566          106  26.4151                7.8510             -1.3727     -26.9470       4.1844  EMA:30, X:12, PCT:0.1\n",
      "2024      89.2053           82  30.4878                7.8101             -1.8937     -27.5012       3.2437  EMA:30, X:12, PCT:0.1\n",
      "Overall  827.5363          653  30.9342                7.7578             -1.6434     -33.7097      24.5489  EMA:30, X:12, PCT:0.1\n",
      "        Total ROI Total Trades Win Rate Avg Profit% per Trade Avg Loss% per Trade Max Drawdown ROI/DD Ratio              Variation\n",
      "2017            0            0      NaN                   NaN                 NaN          NaN          NaN  EMA:28, X:12, PCT:0.1\n",
      "2018     116.1158           92  32.6087                7.6870             -1.8467     -26.8720       4.3211  EMA:28, X:12, PCT:0.1\n",
      "2019     141.8728           94  32.9787                8.0459             -1.7071     -26.5683       5.3399  EMA:28, X:12, PCT:0.1\n",
      "2020     137.5795           99  27.2727                9.3594             -1.5989     -15.7244       8.7494  EMA:28, X:12, PCT:0.1\n",
      "2021     120.2094          108  32.4074                6.8092             -1.6180     -33.8077       3.5557  EMA:28, X:12, PCT:0.1\n",
      "2022     107.4590           89  35.9551                6.0951             -1.5365     -23.2766       4.6166  EMA:28, X:12, PCT:0.1\n",
      "2023     113.0764          102  28.4314                7.5402             -1.4464     -24.0759       4.6967  EMA:28, X:12, PCT:0.1\n",
      "2024      79.0321           85  30.5882                7.7316             -2.1033     -27.8296       2.8399  EMA:28, X:12, PCT:0.1\n",
      "Overall  815.3450          669  31.3901                7.5514             -1.6822     -33.8077      24.1171  EMA:28, X:12, PCT:0.1\n"
     ]
    }
   ],
   "source": [
    "sorted_stats = {k: v for k, v in sorted(stats_dictionary.items(), key=lambda item: item[0], reverse=True)}\n",
    "for x, y in sorted_stats.items():\n",
    "    print(y.to_string())"
   ]
  },
  {
   "cell_type": "code",
   "execution_count": null,
   "id": "e28c0267-8a88-46f5-80a0-4633f849e0e8",
   "metadata": {},
   "outputs": [],
   "source": []
  }
 ],
 "metadata": {
  "kernelspec": {
   "display_name": "Python 3 (ipykernel)",
   "language": "python",
   "name": "python3"
  },
  "language_info": {
   "codemirror_mode": {
    "name": "ipython",
    "version": 3
   },
   "file_extension": ".py",
   "mimetype": "text/x-python",
   "name": "python",
   "nbconvert_exporter": "python",
   "pygments_lexer": "ipython3",
   "version": "3.11.6"
  }
 },
 "nbformat": 4,
 "nbformat_minor": 5
}
