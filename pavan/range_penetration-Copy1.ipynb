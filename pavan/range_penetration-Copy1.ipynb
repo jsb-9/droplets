{
 "cells": [
  {
   "cell_type": "code",
   "execution_count": 1,
   "id": "41ad6590-fa12-4c8a-ab38-d036ffcf633e",
   "metadata": {
    "execution": {
     "iopub.execute_input": "2024-12-18T12:06:04.726042Z",
     "iopub.status.busy": "2024-12-18T12:06:04.725516Z",
     "iopub.status.idle": "2024-12-18T12:06:06.608890Z",
     "shell.execute_reply": "2024-12-18T12:06:06.607368Z",
     "shell.execute_reply.started": "2024-12-18T12:06:04.726000Z"
    }
   },
   "outputs": [],
   "source": [
    "import asyncio\n",
    "import datetime as dt\n",
    "import math\n",
    "from typing import Literal\n",
    "\n",
    "import matplotlib.pyplot as plt\n",
    "import mplfinance as mpf\n",
    "import numpy as np\n",
    "import pandas as pd\n",
    "import pandas_market_calendars as mcal\n",
    "import plotly.graph_objects as go\n",
    "import polars as pl\n",
    "from dash import Dash, dcc, html\n",
    "from plotly.subplots import make_subplots\n",
    "\n",
    "nse = mcal.get_calendar(\"NSE\")"
   ]
  },
  {
   "cell_type": "code",
   "execution_count": 2,
   "id": "6ea93d75-71a6-4639-90a1-e980a39ba28f",
   "metadata": {
    "execution": {
     "iopub.execute_input": "2024-12-18T12:06:06.613069Z",
     "iopub.status.busy": "2024-12-18T12:06:06.612238Z",
     "iopub.status.idle": "2024-12-18T12:06:06.620432Z",
     "shell.execute_reply": "2024-12-18T12:06:06.619119Z",
     "shell.execute_reply.started": "2024-12-18T12:06:06.613041Z"
    }
   },
   "outputs": [],
   "source": [
    "pd.set_option(\"display.max_rows\", 25_000)\n",
    "pd.set_option(\"display.max_columns\", 500)\n",
    "pl.Config.set_tbl_cols(500)\n",
    "pl.Config.set_tbl_rows(10_000)\n",
    "\n",
    "pd.options.display.float_format = \"{:.4f}\".format"
   ]
  },
  {
   "cell_type": "code",
   "execution_count": 3,
   "id": "9f312110-67fb-44df-8ecd-141e16cacc9d",
   "metadata": {
    "execution": {
     "iopub.execute_input": "2024-12-18T12:06:06.622166Z",
     "iopub.status.busy": "2024-12-18T12:06:06.621826Z",
     "iopub.status.idle": "2024-12-18T12:06:07.016286Z",
     "shell.execute_reply": "2024-12-18T12:06:07.014791Z",
     "shell.execute_reply.started": "2024-12-18T12:06:06.622140Z"
    }
   },
   "outputs": [],
   "source": [
    "import sys\n",
    "\n",
    "sys.path.append(\"..\")\n",
    "from tooling.enums import AssetClass, Index, Spot, StrikeSpread\n",
    "from tooling.fetch import fetch_option_data, fetch_spot_data\n",
    "from tooling.filter import find_atm, option_tool"
   ]
  },
  {
   "cell_type": "code",
   "execution_count": 4,
   "id": "68aef94f-ef1c-4c3d-a930-f8cc3b12f891",
   "metadata": {
    "execution": {
     "iopub.execute_input": "2024-12-18T12:06:07.019419Z",
     "iopub.status.busy": "2024-12-18T12:06:07.018560Z",
     "iopub.status.idle": "2024-12-18T12:06:07.051760Z",
     "shell.execute_reply": "2024-12-18T12:06:07.050208Z",
     "shell.execute_reply.started": "2024-12-18T12:06:07.019389Z"
    }
   },
   "outputs": [],
   "source": [
    "async def get_expiry(f_today, index):\n",
    "\n",
    "    if index == 'bnf':    \n",
    "        if (f_today <= dt.date(2024, 1, 25)) and (f_today >= dt.date(2024, 1, 18)):\n",
    "            f_expiry = dt.date(2024, 1, 25)\n",
    "        elif (f_today <= dt.date(2024, 1, 31)) and (f_today >= dt.date(2024, 1, 26)):\n",
    "            f_expiry = dt.date(2024, 1, 31)\n",
    "        elif (f_today <= dt.date(2024, 2, 22)) and (f_today >= dt.date(2024, 2, 29)):\n",
    "            f_expiry = dt.date(2024, 2, 29)\n",
    "        elif (f_today <= dt.date(2024, 3, 25)) and (f_today >= dt.date(2024, 3, 27)):\n",
    "            f_expiry = dt.date(2024, 2, 27)\n",
    "        elif f_today < dt.date(2023, 9, 1):\n",
    "            days_to_thursday = (3 - f_today.weekday()) % 7\n",
    "            nearest_thursday = f_today + dt.timedelta(days=days_to_thursday)\n",
    "            f_expiry = nearest_thursday\n",
    "            if nse.valid_days(start_date=nearest_thursday, end_date=nearest_thursday).empty:\n",
    "                f_expiry = nearest_thursday - dt.timedelta(days=1)\n",
    "        elif f_today >= dt.date(2023, 9, 1):\n",
    "            if f_today.day < 24:\n",
    "                days_to_wednesday = (2 - f_today.weekday()) % 7\n",
    "                nearest_wednesday = f_today + dt.timedelta(days=days_to_wednesday)\n",
    "                f_expiry = nearest_wednesday\n",
    "                if nse.valid_days(\n",
    "                    start_date=nearest_wednesday, end_date=nearest_wednesday\n",
    "                ).empty:\n",
    "                    f_expiry = nearest_wednesday - dt.timedelta(days=1)\n",
    "            else:\n",
    "                days_to_thursday = (3 - f_today.weekday()) % 7\n",
    "                nearest_thursday = f_today + dt.timedelta(days=days_to_thursday)\n",
    "                f_expiry = nearest_thursday\n",
    "                if nse.valid_days(\n",
    "                    start_date=nearest_thursday, end_date=nearest_thursday\n",
    "                ).empty:\n",
    "                    f_expiry = nearest_thursday - dt.timedelta(days=1)\n",
    "        return f_expiry\n",
    "\n",
    "    elif index == 'nifty':\n",
    "        days_to_thursday = (3 - f_today.weekday()) % 7\n",
    "        nearest_thursday = f_today + dt.timedelta(days=days_to_thursday)\n",
    "        f_expiry = nearest_thursday\n",
    "        if nse.valid_days(start_date=nearest_thursday, end_date=nearest_thursday).empty:\n",
    "            f_expiry = nearest_thursday - dt.timedelta(days=1)\n",
    "        return f_expiry\n",
    "\n",
    "    elif index == 'finnifty' or index == 'fnf':\n",
    "        days_to_thursday = (1 - f_today.weekday()) % 7\n",
    "        nearest_thursday = f_today + dt.timedelta(days=days_to_thursday)\n",
    "        f_expiry = nearest_thursday\n",
    "        if nse.valid_days(start_date=nearest_thursday, end_date=nearest_thursday).empty:\n",
    "            f_expiry = nearest_thursday - dt.timedelta(days=1)\n",
    "        return f_expiry\n",
    "\n",
    "    elif index == 'midcpnifty' or index == 'midcp':\n",
    "        days_to_thursday = (0 - f_today.weekday()) % 7\n",
    "        nearest_thursday = f_today + dt.timedelta(days=days_to_thursday)\n",
    "        f_expiry = nearest_thursday\n",
    "        if nse.valid_days(start_date=nearest_thursday, end_date=nearest_thursday).empty:\n",
    "            f_expiry = nearest_thursday - dt.timedelta(days=1)\n",
    "        return f_expiry\n",
    "\n",
    "async def get_expiry_nifty(f_today):\n",
    "\n",
    "    days_to_thursday = (3 - f_today.weekday()) % 7\n",
    "    nearest_thursday = f_today + dt.timedelta(days=days_to_thursday)\n",
    "    f_expiry = nearest_thursday\n",
    "    if nse.valid_days(start_date=nearest_thursday, end_date=nearest_thursday).empty:\n",
    "        f_expiry = nearest_thursday - dt.timedelta(days=1)\n",
    "    return f_expiry\n",
    "\n",
    "\n",
    "async def get_option_contract_name(symbol, strike, expiry, opt_type):\n",
    "    temp = \"0\"\n",
    "    mth = expiry.month\n",
    "\n",
    "    if (expiry + dt.timedelta(days=7)).month != expiry.month:\n",
    "        date_string = expiry.strftime(\"%y%b\").upper()\n",
    "        return f\"{symbol}{date_string}{strike}{opt_type}\"\n",
    "    else:\n",
    "        if expiry.day <= 9:\n",
    "            date_string = f\"{expiry.year - 2000}{mth}{temp}{expiry.day}\"\n",
    "        else:\n",
    "            date_string = f\"{expiry.year - 2000}{mth}{expiry.day}\"\n",
    "        return f\"{symbol}{date_string}{strike}{opt_type}\"\n",
    "\n",
    "\n",
    "def get_option_contract_name2(symbol, strike, expiry, opt_type):\n",
    "    temp = \"0\"\n",
    "    mth = expiry.month\n",
    "\n",
    "    if (expiry + dt.timedelta(days=7)).month != expiry.month:\n",
    "        date_string = expiry.strftime(\"%y%b\").upper()\n",
    "        return f\"{symbol}{date_string}{strike}{opt_type}\"\n",
    "    else:\n",
    "        if expiry.day <= 9:\n",
    "            date_string = f\"{expiry.year - 2000}{mth}{temp}{expiry.day}\"\n",
    "        else:\n",
    "            date_string = f\"{expiry.year - 2000}{mth}{expiry.day}\"\n",
    "        return f\"{symbol}{date_string}{strike}{opt_type}\""
   ]
  },
  {
   "cell_type": "code",
   "execution_count": 233,
   "id": "d7c8be1c-7a43-41e9-9914-0663935f4b9d",
   "metadata": {
    "execution": {
     "iopub.execute_input": "2024-12-18T17:28:43.695077Z",
     "iopub.status.busy": "2024-12-18T17:28:43.694370Z",
     "iopub.status.idle": "2024-12-18T17:28:43.839053Z",
     "shell.execute_reply": "2024-12-18T17:28:43.837991Z",
     "shell.execute_reply.started": "2024-12-18T17:28:43.695052Z"
    }
   },
   "outputs": [],
   "source": [
    "bnf_1min = pd.read_csv(\"../data/sensex_wave.csv\")\n",
    "bnf_1min[\"datetime\"] = pd.to_datetime(bnf_1min[\"time\"])\n",
    "bnf_1min = bnf_1min[bnf_1min[\"datetime\"].dt.year >= 2017]"
   ]
  },
  {
   "cell_type": "code",
   "execution_count": 234,
   "id": "80baf62e-9b43-45dd-83bf-87c9fd32e741",
   "metadata": {
    "execution": {
     "iopub.execute_input": "2024-12-18T17:28:43.861312Z",
     "iopub.status.busy": "2024-12-18T17:28:43.860646Z",
     "iopub.status.idle": "2024-12-18T17:28:43.871949Z",
     "shell.execute_reply": "2024-12-18T17:28:43.871017Z",
     "shell.execute_reply.started": "2024-12-18T17:28:43.861289Z"
    },
    "scrolled": true
   },
   "outputs": [
    {
     "data": {
      "text/html": [
       "<div>\n",
       "<style scoped>\n",
       "    .dataframe tbody tr th:only-of-type {\n",
       "        vertical-align: middle;\n",
       "    }\n",
       "\n",
       "    .dataframe tbody tr th {\n",
       "        vertical-align: top;\n",
       "    }\n",
       "\n",
       "    .dataframe thead th {\n",
       "        text-align: right;\n",
       "    }\n",
       "</style>\n",
       "<table border=\"1\" class=\"dataframe\">\n",
       "  <thead>\n",
       "    <tr style=\"text-align: right;\">\n",
       "      <th></th>\n",
       "      <th>time</th>\n",
       "      <th>open</th>\n",
       "      <th>high</th>\n",
       "      <th>low</th>\n",
       "      <th>close</th>\n",
       "      <th>MA</th>\n",
       "      <th>Plot</th>\n",
       "      <th>Zero line</th>\n",
       "      <th>MACD Signal</th>\n",
       "      <th>datetime</th>\n",
       "    </tr>\n",
       "  </thead>\n",
       "  <tbody>\n",
       "    <tr>\n",
       "      <th>3724</th>\n",
       "      <td>2017-01-02T09:15:00+05:30</td>\n",
       "      <td>26717.8100</td>\n",
       "      <td>26720.9800</td>\n",
       "      <td>26484.5300</td>\n",
       "      <td>26516.6300</td>\n",
       "      <td>26183.0445</td>\n",
       "      <td>216.1595</td>\n",
       "      <td>0</td>\n",
       "      <td>NaN</td>\n",
       "      <td>2017-01-02 09:15:00+05:30</td>\n",
       "    </tr>\n",
       "    <tr>\n",
       "      <th>3725</th>\n",
       "      <td>2017-01-02T10:15:00+05:30</td>\n",
       "      <td>26516.3500</td>\n",
       "      <td>26532.0700</td>\n",
       "      <td>26447.0600</td>\n",
       "      <td>26490.4900</td>\n",
       "      <td>26186.5105</td>\n",
       "      <td>179.4486</td>\n",
       "      <td>0</td>\n",
       "      <td>NaN</td>\n",
       "      <td>2017-01-02 10:15:00+05:30</td>\n",
       "    </tr>\n",
       "    <tr>\n",
       "      <th>3726</th>\n",
       "      <td>2017-01-02T11:15:00+05:30</td>\n",
       "      <td>26492.3400</td>\n",
       "      <td>26527.2200</td>\n",
       "      <td>26460.9900</td>\n",
       "      <td>26496.3600</td>\n",
       "      <td>26189.9963</td>\n",
       "      <td>154.2724</td>\n",
       "      <td>0</td>\n",
       "      <td>NaN</td>\n",
       "      <td>2017-01-02 11:15:00+05:30</td>\n",
       "    </tr>\n",
       "    <tr>\n",
       "      <th>3727</th>\n",
       "      <td>2017-01-02T12:15:00+05:30</td>\n",
       "      <td>26496.1800</td>\n",
       "      <td>26540.5700</td>\n",
       "      <td>26477.1000</td>\n",
       "      <td>26538.4500</td>\n",
       "      <td>26193.4997</td>\n",
       "      <td>146.5679</td>\n",
       "      <td>0</td>\n",
       "      <td>NaN</td>\n",
       "      <td>2017-01-02 12:15:00+05:30</td>\n",
       "    </tr>\n",
       "    <tr>\n",
       "      <th>3728</th>\n",
       "      <td>2017-01-02T13:15:00+05:30</td>\n",
       "      <td>26538.1800</td>\n",
       "      <td>26659.6400</td>\n",
       "      <td>26529.5700</td>\n",
       "      <td>26649.8000</td>\n",
       "      <td>26198.5518</td>\n",
       "      <td>168.5438</td>\n",
       "      <td>0</td>\n",
       "      <td>168.5438</td>\n",
       "      <td>2017-01-02 13:15:00+05:30</td>\n",
       "    </tr>\n",
       "  </tbody>\n",
       "</table>\n",
       "</div>"
      ],
      "text/plain": [
       "                           time       open       high        low      close  \\\n",
       "3724  2017-01-02T09:15:00+05:30 26717.8100 26720.9800 26484.5300 26516.6300   \n",
       "3725  2017-01-02T10:15:00+05:30 26516.3500 26532.0700 26447.0600 26490.4900   \n",
       "3726  2017-01-02T11:15:00+05:30 26492.3400 26527.2200 26460.9900 26496.3600   \n",
       "3727  2017-01-02T12:15:00+05:30 26496.1800 26540.5700 26477.1000 26538.4500   \n",
       "3728  2017-01-02T13:15:00+05:30 26538.1800 26659.6400 26529.5700 26649.8000   \n",
       "\n",
       "             MA     Plot  Zero line  MACD Signal                  datetime  \n",
       "3724 26183.0445 216.1595          0          NaN 2017-01-02 09:15:00+05:30  \n",
       "3725 26186.5105 179.4486          0          NaN 2017-01-02 10:15:00+05:30  \n",
       "3726 26189.9963 154.2724          0          NaN 2017-01-02 11:15:00+05:30  \n",
       "3727 26193.4997 146.5679          0          NaN 2017-01-02 12:15:00+05:30  \n",
       "3728 26198.5518 168.5438          0     168.5438 2017-01-02 13:15:00+05:30  "
      ]
     },
     "execution_count": 234,
     "metadata": {},
     "output_type": "execute_result"
    }
   ],
   "source": [
    "bnf_1min.head()"
   ]
  },
  {
   "cell_type": "code",
   "execution_count": 235,
   "id": "42c6f24e-2ae1-4422-8699-5e0f3c8d8afe",
   "metadata": {
    "execution": {
     "iopub.execute_input": "2024-12-18T17:28:43.975498Z",
     "iopub.status.busy": "2024-12-18T17:28:43.975244Z",
     "iopub.status.idle": "2024-12-18T17:28:43.981806Z",
     "shell.execute_reply": "2024-12-18T17:28:43.980899Z",
     "shell.execute_reply.started": "2024-12-18T17:28:43.975476Z"
    }
   },
   "outputs": [],
   "source": [
    "def resample(\n",
    "    data: pl.DataFrame, timeframe, offset: dt.timedelta | None = None\n",
    ") -> pl.DataFrame:\n",
    "    return (\n",
    "        data.set_sorted(\"datetime\")\n",
    "        .group_by_dynamic(\n",
    "            index_column=\"datetime\",\n",
    "            every=timeframe,\n",
    "            period=timeframe,\n",
    "            label=\"left\",\n",
    "            offset=offset,\n",
    "        )\n",
    "        .agg(\n",
    "            [\n",
    "                pl.col(\"open\").first().alias(\"open\"),\n",
    "                pl.col(\"high\").max().alias(\"high\"),\n",
    "                pl.col(\"low\").min().alias(\"low\"),\n",
    "                pl.col(\"close\").last().alias(\"close\"),\n",
    "                pl.col(\"volume\").sum().alias(\"volume\"),\n",
    "            ]\n",
    "        )\n",
    "    )\n",
    "\n",
    "\n",
    "# ohlc_resampled = resample(pl.DataFrame(bnf_1min), '7d', pd.Timedelta(days=4))\n",
    "# ohlc_resampled"
   ]
  },
  {
   "cell_type": "code",
   "execution_count": 236,
   "id": "639f74e8-93a9-4fba-8ecd-caf5cf8812a9",
   "metadata": {
    "execution": {
     "iopub.execute_input": "2024-12-18T17:28:44.110531Z",
     "iopub.status.busy": "2024-12-18T17:28:44.110274Z",
     "iopub.status.idle": "2024-12-18T17:28:44.139655Z",
     "shell.execute_reply": "2024-12-18T17:28:44.138624Z",
     "shell.execute_reply.started": "2024-12-18T17:28:44.110512Z"
    },
    "scrolled": true
   },
   "outputs": [
    {
     "data": {
      "text/plain": [
       "{datetime.date(2020, 8, 7),\n",
       " datetime.date(2023, 3, 28),\n",
       " datetime.date(2018, 11, 13),\n",
       " datetime.date(2019, 5, 27),\n",
       " datetime.date(2023, 2, 23),\n",
       " datetime.date(2021, 5, 31),\n",
       " datetime.date(2021, 7, 29),\n",
       " datetime.date(2022, 10, 14),\n",
       " datetime.date(2022, 8, 18),\n",
       " datetime.date(2018, 2, 19),\n",
       " datetime.date(2017, 4, 19),\n",
       " datetime.date(2023, 8, 11),\n",
       " datetime.date(2019, 8, 19),\n",
       " datetime.date(2018, 1, 11),\n",
       " datetime.date(2022, 6, 2),\n",
       " datetime.date(2022, 6, 7),\n",
       " datetime.date(2023, 3, 22),\n",
       " datetime.date(2024, 8, 20),\n",
       " datetime.date(2020, 9, 4),\n",
       " datetime.date(2024, 3, 27),\n",
       " datetime.date(2022, 1, 18),\n",
       " datetime.date(2022, 8, 24),\n",
       " datetime.date(2020, 9, 30),\n",
       " datetime.date(2017, 3, 10),\n",
       " datetime.date(2020, 2, 12),\n",
       " datetime.date(2021, 7, 9),\n",
       " datetime.date(2017, 11, 15),\n",
       " datetime.date(2023, 5, 15),\n",
       " datetime.date(2018, 2, 21),\n",
       " datetime.date(2018, 4, 24),\n",
       " datetime.date(2022, 3, 29),\n",
       " datetime.date(2017, 8, 1),\n",
       " datetime.date(2017, 5, 10),\n",
       " datetime.date(2020, 7, 28),\n",
       " datetime.date(2022, 6, 29),\n",
       " datetime.date(2021, 8, 13),\n",
       " datetime.date(2020, 6, 8),\n",
       " datetime.date(2021, 8, 23),\n",
       " datetime.date(2022, 1, 3),\n",
       " datetime.date(2024, 5, 13),\n",
       " datetime.date(2017, 11, 28),\n",
       " datetime.date(2024, 3, 12),\n",
       " datetime.date(2024, 9, 13),\n",
       " datetime.date(2023, 1, 30),\n",
       " datetime.date(2020, 1, 1),\n",
       " datetime.date(2020, 2, 3),\n",
       " datetime.date(2021, 5, 3),\n",
       " datetime.date(2022, 6, 3),\n",
       " datetime.date(2019, 6, 11),\n",
       " datetime.date(2022, 4, 8),\n",
       " datetime.date(2021, 10, 7),\n",
       " datetime.date(2017, 10, 5),\n",
       " datetime.date(2018, 1, 17),\n",
       " datetime.date(2017, 1, 25),\n",
       " datetime.date(2021, 8, 24),\n",
       " datetime.date(2023, 8, 17),\n",
       " datetime.date(2020, 10, 22),\n",
       " datetime.date(2020, 1, 29),\n",
       " datetime.date(2017, 2, 27),\n",
       " datetime.date(2021, 8, 27),\n",
       " datetime.date(2018, 5, 18),\n",
       " datetime.date(2022, 9, 15),\n",
       " datetime.date(2019, 12, 11),\n",
       " datetime.date(2018, 9, 7),\n",
       " datetime.date(2022, 3, 2),\n",
       " datetime.date(2022, 5, 19),\n",
       " datetime.date(2019, 8, 20),\n",
       " datetime.date(2017, 11, 9),\n",
       " datetime.date(2022, 1, 10),\n",
       " datetime.date(2024, 5, 28),\n",
       " datetime.date(2019, 1, 15),\n",
       " datetime.date(2023, 9, 12),\n",
       " datetime.date(2019, 11, 26),\n",
       " datetime.date(2017, 10, 6),\n",
       " datetime.date(2021, 4, 23),\n",
       " datetime.date(2017, 7, 7),\n",
       " datetime.date(2024, 9, 2),\n",
       " datetime.date(2022, 7, 12),\n",
       " datetime.date(2024, 7, 2),\n",
       " datetime.date(2022, 3, 7),\n",
       " datetime.date(2022, 4, 25),\n",
       " datetime.date(2021, 8, 17),\n",
       " datetime.date(2024, 1, 30),\n",
       " datetime.date(2018, 1, 29),\n",
       " datetime.date(2019, 8, 16),\n",
       " datetime.date(2021, 4, 9),\n",
       " datetime.date(2024, 1, 25),\n",
       " datetime.date(2017, 4, 3),\n",
       " datetime.date(2023, 7, 17),\n",
       " datetime.date(2017, 5, 26),\n",
       " datetime.date(2024, 9, 12),\n",
       " datetime.date(2021, 6, 9),\n",
       " datetime.date(2017, 12, 19),\n",
       " datetime.date(2021, 8, 9),\n",
       " datetime.date(2023, 8, 4),\n",
       " datetime.date(2020, 7, 6),\n",
       " datetime.date(2024, 7, 15),\n",
       " datetime.date(2021, 7, 2),\n",
       " datetime.date(2020, 11, 19),\n",
       " datetime.date(2022, 8, 29),\n",
       " datetime.date(2017, 6, 1),\n",
       " datetime.date(2019, 10, 9),\n",
       " datetime.date(2017, 11, 17),\n",
       " datetime.date(2020, 4, 16),\n",
       " datetime.date(2024, 10, 21),\n",
       " datetime.date(2023, 1, 4),\n",
       " datetime.date(2017, 3, 6),\n",
       " datetime.date(2019, 1, 21),\n",
       " datetime.date(2017, 3, 7),\n",
       " datetime.date(2018, 12, 18),\n",
       " datetime.date(2017, 12, 13),\n",
       " datetime.date(2018, 3, 5),\n",
       " datetime.date(2018, 11, 14),\n",
       " datetime.date(2020, 2, 18),\n",
       " datetime.date(2022, 2, 17),\n",
       " datetime.date(2024, 2, 16),\n",
       " datetime.date(2024, 10, 17),\n",
       " datetime.date(2023, 10, 20),\n",
       " datetime.date(2022, 2, 16),\n",
       " datetime.date(2024, 3, 7),\n",
       " datetime.date(2020, 1, 16),\n",
       " datetime.date(2022, 2, 28),\n",
       " datetime.date(2024, 1, 15),\n",
       " datetime.date(2018, 7, 5),\n",
       " datetime.date(2019, 7, 18),\n",
       " datetime.date(2020, 8, 11),\n",
       " datetime.date(2024, 9, 27),\n",
       " datetime.date(2023, 4, 25),\n",
       " datetime.date(2024, 1, 10),\n",
       " datetime.date(2021, 8, 3),\n",
       " datetime.date(2020, 7, 22),\n",
       " datetime.date(2017, 7, 4),\n",
       " datetime.date(2023, 1, 16),\n",
       " datetime.date(2017, 10, 25),\n",
       " datetime.date(2023, 8, 3),\n",
       " datetime.date(2020, 12, 17),\n",
       " datetime.date(2017, 7, 12),\n",
       " datetime.date(2020, 12, 14),\n",
       " datetime.date(2022, 5, 2),\n",
       " datetime.date(2024, 7, 12),\n",
       " datetime.date(2023, 7, 3),\n",
       " datetime.date(2020, 3, 6),\n",
       " datetime.date(2020, 12, 23),\n",
       " datetime.date(2022, 10, 4),\n",
       " datetime.date(2024, 2, 1),\n",
       " datetime.date(2024, 2, 2),\n",
       " datetime.date(2021, 11, 3),\n",
       " datetime.date(2017, 1, 10),\n",
       " datetime.date(2021, 3, 2),\n",
       " datetime.date(2022, 5, 4),\n",
       " datetime.date(2018, 11, 28),\n",
       " datetime.date(2024, 11, 19),\n",
       " datetime.date(2022, 4, 29),\n",
       " datetime.date(2023, 11, 13),\n",
       " datetime.date(2022, 3, 22),\n",
       " datetime.date(2023, 7, 11),\n",
       " datetime.date(2022, 11, 28),\n",
       " datetime.date(2018, 7, 23),\n",
       " datetime.date(2020, 5, 14),\n",
       " datetime.date(2020, 12, 1),\n",
       " datetime.date(2018, 6, 19),\n",
       " datetime.date(2018, 9, 4),\n",
       " datetime.date(2023, 7, 14),\n",
       " datetime.date(2024, 8, 30),\n",
       " datetime.date(2019, 9, 20),\n",
       " datetime.date(2020, 11, 13),\n",
       " datetime.date(2022, 6, 14),\n",
       " datetime.date(2018, 2, 23),\n",
       " datetime.date(2023, 9, 26),\n",
       " datetime.date(2021, 12, 20),\n",
       " datetime.date(2021, 5, 18),\n",
       " datetime.date(2023, 1, 23),\n",
       " datetime.date(2024, 9, 5),\n",
       " datetime.date(2020, 4, 22),\n",
       " datetime.date(2022, 6, 1),\n",
       " datetime.date(2024, 10, 1),\n",
       " datetime.date(2024, 9, 4),\n",
       " datetime.date(2021, 5, 27),\n",
       " datetime.date(2021, 12, 15),\n",
       " datetime.date(2023, 3, 21),\n",
       " datetime.date(2018, 12, 19),\n",
       " datetime.date(2021, 9, 6),\n",
       " datetime.date(2019, 10, 17),\n",
       " datetime.date(2019, 1, 28),\n",
       " datetime.date(2024, 5, 15),\n",
       " datetime.date(2018, 1, 31),\n",
       " datetime.date(2017, 12, 1),\n",
       " datetime.date(2021, 10, 22),\n",
       " datetime.date(2020, 6, 17),\n",
       " datetime.date(2019, 8, 7),\n",
       " datetime.date(2017, 2, 10),\n",
       " datetime.date(2022, 6, 20),\n",
       " datetime.date(2020, 4, 30),\n",
       " datetime.date(2019, 8, 2),\n",
       " datetime.date(2021, 5, 17),\n",
       " datetime.date(2020, 3, 19),\n",
       " datetime.date(2024, 9, 11),\n",
       " datetime.date(2020, 6, 11),\n",
       " datetime.date(2019, 2, 11),\n",
       " datetime.date(2020, 8, 24),\n",
       " datetime.date(2022, 8, 26),\n",
       " datetime.date(2022, 6, 21),\n",
       " datetime.date(2019, 5, 29),\n",
       " datetime.date(2019, 1, 29),\n",
       " datetime.date(2023, 8, 1),\n",
       " datetime.date(2020, 10, 9),\n",
       " datetime.date(2019, 6, 24),\n",
       " datetime.date(2019, 7, 2),\n",
       " datetime.date(2022, 6, 9),\n",
       " datetime.date(2019, 8, 28),\n",
       " datetime.date(2017, 2, 2),\n",
       " datetime.date(2020, 5, 8),\n",
       " datetime.date(2022, 12, 29),\n",
       " datetime.date(2024, 8, 19),\n",
       " datetime.date(2018, 12, 13),\n",
       " datetime.date(2020, 1, 2),\n",
       " datetime.date(2022, 4, 13),\n",
       " datetime.date(2017, 6, 6),\n",
       " datetime.date(2024, 5, 9),\n",
       " datetime.date(2019, 6, 14),\n",
       " datetime.date(2018, 1, 15),\n",
       " datetime.date(2017, 1, 24),\n",
       " datetime.date(2018, 11, 6),\n",
       " datetime.date(2017, 10, 13),\n",
       " datetime.date(2017, 3, 21),\n",
       " datetime.date(2023, 12, 27),\n",
       " datetime.date(2020, 11, 25),\n",
       " datetime.date(2022, 12, 23),\n",
       " datetime.date(2020, 10, 5),\n",
       " datetime.date(2017, 5, 22),\n",
       " datetime.date(2024, 6, 28),\n",
       " datetime.date(2018, 5, 24),\n",
       " datetime.date(2022, 2, 25),\n",
       " datetime.date(2023, 7, 12),\n",
       " datetime.date(2020, 11, 4),\n",
       " datetime.date(2021, 10, 14),\n",
       " datetime.date(2018, 10, 23),\n",
       " datetime.date(2018, 7, 3),\n",
       " datetime.date(2018, 10, 26),\n",
       " datetime.date(2024, 7, 8),\n",
       " datetime.date(2021, 8, 5),\n",
       " datetime.date(2017, 9, 28),\n",
       " datetime.date(2023, 11, 9),\n",
       " datetime.date(2017, 7, 14),\n",
       " datetime.date(2020, 2, 20),\n",
       " datetime.date(2021, 11, 30),\n",
       " datetime.date(2017, 9, 12),\n",
       " datetime.date(2024, 7, 18),\n",
       " datetime.date(2023, 1, 19),\n",
       " datetime.date(2020, 6, 3),\n",
       " datetime.date(2018, 5, 4),\n",
       " datetime.date(2018, 2, 27),\n",
       " datetime.date(2019, 1, 25),\n",
       " datetime.date(2020, 10, 29),\n",
       " datetime.date(2024, 7, 29),\n",
       " datetime.date(2024, 5, 24),\n",
       " datetime.date(2023, 9, 7),\n",
       " datetime.date(2024, 11, 27),\n",
       " datetime.date(2018, 10, 3),\n",
       " datetime.date(2019, 7, 9),\n",
       " datetime.date(2017, 1, 16),\n",
       " datetime.date(2017, 2, 15),\n",
       " datetime.date(2021, 3, 10),\n",
       " datetime.date(2020, 7, 24),\n",
       " datetime.date(2020, 11, 10),\n",
       " datetime.date(2023, 5, 17),\n",
       " datetime.date(2021, 12, 17),\n",
       " datetime.date(2021, 10, 11),\n",
       " datetime.date(2017, 7, 25),\n",
       " datetime.date(2024, 1, 18),\n",
       " datetime.date(2019, 7, 16),\n",
       " datetime.date(2024, 7, 19),\n",
       " datetime.date(2017, 3, 20),\n",
       " datetime.date(2017, 9, 29),\n",
       " datetime.date(2020, 10, 27),\n",
       " datetime.date(2023, 6, 19),\n",
       " datetime.date(2024, 7, 30),\n",
       " datetime.date(2020, 5, 22),\n",
       " datetime.date(2021, 10, 12),\n",
       " datetime.date(2024, 3, 2),\n",
       " datetime.date(2017, 5, 24),\n",
       " datetime.date(2020, 5, 26),\n",
       " datetime.date(2022, 5, 27),\n",
       " datetime.date(2023, 8, 21),\n",
       " datetime.date(2019, 5, 7),\n",
       " datetime.date(2017, 3, 23),\n",
       " datetime.date(2018, 10, 29),\n",
       " datetime.date(2021, 10, 5),\n",
       " datetime.date(2024, 8, 13),\n",
       " datetime.date(2023, 9, 5),\n",
       " datetime.date(2017, 10, 9),\n",
       " datetime.date(2019, 4, 15),\n",
       " datetime.date(2022, 4, 19),\n",
       " datetime.date(2017, 5, 31),\n",
       " datetime.date(2018, 11, 27),\n",
       " datetime.date(2018, 2, 7),\n",
       " datetime.date(2021, 3, 23),\n",
       " datetime.date(2018, 5, 31),\n",
       " datetime.date(2022, 5, 5),\n",
       " datetime.date(2022, 6, 16),\n",
       " datetime.date(2022, 2, 9),\n",
       " datetime.date(2018, 8, 10),\n",
       " datetime.date(2023, 5, 12),\n",
       " datetime.date(2019, 1, 11),\n",
       " datetime.date(2021, 2, 2),\n",
       " datetime.date(2017, 10, 31),\n",
       " datetime.date(2024, 9, 17),\n",
       " datetime.date(2017, 8, 16),\n",
       " datetime.date(2020, 11, 23),\n",
       " datetime.date(2020, 12, 4),\n",
       " datetime.date(2021, 6, 18),\n",
       " datetime.date(2024, 7, 4),\n",
       " datetime.date(2020, 9, 1),\n",
       " datetime.date(2022, 3, 17),\n",
       " datetime.date(2024, 8, 29),\n",
       " datetime.date(2021, 1, 14),\n",
       " datetime.date(2024, 4, 23),\n",
       " datetime.date(2023, 4, 26),\n",
       " datetime.date(2021, 2, 25),\n",
       " datetime.date(2024, 3, 15),\n",
       " datetime.date(2019, 1, 2),\n",
       " datetime.date(2020, 2, 1),\n",
       " datetime.date(2017, 10, 12),\n",
       " datetime.date(2021, 3, 16),\n",
       " datetime.date(2021, 5, 10),\n",
       " datetime.date(2021, 1, 4),\n",
       " datetime.date(2024, 5, 6),\n",
       " datetime.date(2019, 7, 4),\n",
       " datetime.date(2019, 1, 10),\n",
       " datetime.date(2023, 3, 9),\n",
       " datetime.date(2018, 10, 17),\n",
       " datetime.date(2018, 9, 18),\n",
       " datetime.date(2023, 12, 20),\n",
       " datetime.date(2018, 12, 31),\n",
       " datetime.date(2023, 11, 8),\n",
       " datetime.date(2024, 8, 27),\n",
       " datetime.date(2019, 9, 16),\n",
       " datetime.date(2017, 3, 22),\n",
       " datetime.date(2020, 12, 8),\n",
       " datetime.date(2023, 2, 3),\n",
       " datetime.date(2019, 3, 18),\n",
       " datetime.date(2021, 4, 13),\n",
       " datetime.date(2020, 1, 10),\n",
       " datetime.date(2020, 3, 24),\n",
       " datetime.date(2024, 2, 7),\n",
       " datetime.date(2023, 7, 6),\n",
       " datetime.date(2017, 3, 15),\n",
       " datetime.date(2020, 5, 27),\n",
       " datetime.date(2021, 12, 30),\n",
       " datetime.date(2021, 4, 30),\n",
       " datetime.date(2020, 5, 11),\n",
       " datetime.date(2017, 3, 1),\n",
       " datetime.date(2020, 5, 5),\n",
       " datetime.date(2023, 8, 2),\n",
       " datetime.date(2023, 12, 6),\n",
       " datetime.date(2018, 2, 9),\n",
       " datetime.date(2019, 7, 30),\n",
       " datetime.date(2020, 2, 5),\n",
       " datetime.date(2020, 9, 15),\n",
       " datetime.date(2017, 1, 6),\n",
       " datetime.date(2018, 4, 20),\n",
       " datetime.date(2020, 12, 31),\n",
       " datetime.date(2023, 6, 26),\n",
       " datetime.date(2022, 7, 19),\n",
       " datetime.date(2021, 1, 22),\n",
       " datetime.date(2019, 8, 21),\n",
       " datetime.date(2021, 9, 27),\n",
       " datetime.date(2020, 8, 28),\n",
       " datetime.date(2021, 10, 21),\n",
       " datetime.date(2021, 12, 23),\n",
       " datetime.date(2019, 3, 27),\n",
       " datetime.date(2018, 8, 20),\n",
       " datetime.date(2022, 12, 5),\n",
       " datetime.date(2022, 12, 9),\n",
       " datetime.date(2020, 9, 9),\n",
       " datetime.date(2023, 2, 13),\n",
       " datetime.date(2023, 9, 27),\n",
       " datetime.date(2018, 3, 26),\n",
       " datetime.date(2023, 8, 23),\n",
       " datetime.date(2020, 6, 24),\n",
       " datetime.date(2017, 11, 14),\n",
       " datetime.date(2019, 11, 27),\n",
       " datetime.date(2021, 11, 29),\n",
       " datetime.date(2022, 11, 1),\n",
       " datetime.date(2024, 6, 13),\n",
       " datetime.date(2017, 1, 3),\n",
       " datetime.date(2022, 5, 18),\n",
       " datetime.date(2019, 9, 24),\n",
       " datetime.date(2020, 2, 26),\n",
       " datetime.date(2021, 1, 25),\n",
       " datetime.date(2019, 2, 27),\n",
       " datetime.date(2019, 1, 24),\n",
       " datetime.date(2021, 7, 16),\n",
       " datetime.date(2023, 11, 2),\n",
       " datetime.date(2024, 3, 13),\n",
       " datetime.date(2022, 3, 4),\n",
       " datetime.date(2020, 8, 4),\n",
       " datetime.date(2023, 10, 27),\n",
       " datetime.date(2023, 3, 24),\n",
       " datetime.date(2022, 4, 11),\n",
       " datetime.date(2021, 8, 18),\n",
       " datetime.date(2018, 4, 11),\n",
       " datetime.date(2020, 2, 28),\n",
       " datetime.date(2017, 10, 3),\n",
       " datetime.date(2024, 3, 21),\n",
       " datetime.date(2021, 4, 26),\n",
       " datetime.date(2023, 5, 31),\n",
       " datetime.date(2018, 9, 21),\n",
       " datetime.date(2019, 1, 16),\n",
       " datetime.date(2018, 6, 13),\n",
       " datetime.date(2019, 6, 7),\n",
       " datetime.date(2022, 9, 6),\n",
       " datetime.date(2018, 3, 14),\n",
       " datetime.date(2021, 12, 27),\n",
       " datetime.date(2020, 6, 2),\n",
       " datetime.date(2023, 5, 5),\n",
       " datetime.date(2021, 7, 20),\n",
       " datetime.date(2021, 1, 15),\n",
       " datetime.date(2019, 4, 18),\n",
       " datetime.date(2018, 8, 13),\n",
       " datetime.date(2022, 11, 25),\n",
       " datetime.date(2020, 7, 23),\n",
       " datetime.date(2022, 4, 22),\n",
       " datetime.date(2019, 11, 4),\n",
       " datetime.date(2020, 9, 28),\n",
       " datetime.date(2017, 12, 7),\n",
       " datetime.date(2023, 10, 5),\n",
       " datetime.date(2023, 10, 9),\n",
       " datetime.date(2022, 5, 31),\n",
       " datetime.date(2018, 6, 7),\n",
       " datetime.date(2021, 2, 18),\n",
       " datetime.date(2018, 5, 10),\n",
       " datetime.date(2019, 2, 21),\n",
       " datetime.date(2021, 4, 15),\n",
       " datetime.date(2022, 4, 20),\n",
       " datetime.date(2024, 4, 22),\n",
       " datetime.date(2023, 7, 18),\n",
       " datetime.date(2023, 6, 27),\n",
       " datetime.date(2023, 12, 28),\n",
       " datetime.date(2021, 10, 6),\n",
       " datetime.date(2020, 9, 29),\n",
       " datetime.date(2019, 2, 1),\n",
       " datetime.date(2024, 10, 10),\n",
       " datetime.date(2024, 5, 21),\n",
       " datetime.date(2018, 6, 20),\n",
       " datetime.date(2019, 4, 23),\n",
       " datetime.date(2019, 9, 19),\n",
       " datetime.date(2023, 1, 24),\n",
       " datetime.date(2022, 1, 12),\n",
       " datetime.date(2022, 9, 16),\n",
       " datetime.date(2017, 7, 20),\n",
       " datetime.date(2021, 6, 15),\n",
       " datetime.date(2020, 6, 26),\n",
       " datetime.date(2021, 4, 22),\n",
       " datetime.date(2021, 12, 6),\n",
       " datetime.date(2022, 9, 27),\n",
       " datetime.date(2021, 2, 8),\n",
       " datetime.date(2021, 12, 2),\n",
       " datetime.date(2017, 2, 28),\n",
       " datetime.date(2019, 4, 25),\n",
       " datetime.date(2022, 3, 30),\n",
       " datetime.date(2018, 3, 28),\n",
       " datetime.date(2022, 8, 2),\n",
       " datetime.date(2018, 4, 9),\n",
       " datetime.date(2017, 4, 27),\n",
       " datetime.date(2022, 2, 2),\n",
       " datetime.date(2017, 9, 13),\n",
       " datetime.date(2020, 3, 25),\n",
       " datetime.date(2017, 8, 8),\n",
       " datetime.date(2023, 6, 12),\n",
       " datetime.date(2023, 2, 16),\n",
       " datetime.date(2022, 6, 8),\n",
       " datetime.date(2024, 2, 29),\n",
       " datetime.date(2021, 6, 29),\n",
       " datetime.date(2017, 12, 29),\n",
       " datetime.date(2023, 1, 12),\n",
       " datetime.date(2018, 9, 10),\n",
       " datetime.date(2017, 8, 24),\n",
       " datetime.date(2017, 8, 3),\n",
       " datetime.date(2024, 10, 4),\n",
       " datetime.date(2024, 1, 11),\n",
       " datetime.date(2018, 7, 12),\n",
       " datetime.date(2020, 10, 15),\n",
       " datetime.date(2022, 12, 12),\n",
       " datetime.date(2024, 1, 1),\n",
       " datetime.date(2023, 6, 2),\n",
       " datetime.date(2018, 6, 8),\n",
       " datetime.date(2018, 9, 12),\n",
       " datetime.date(2019, 6, 17),\n",
       " datetime.date(2022, 5, 17),\n",
       " datetime.date(2019, 1, 18),\n",
       " datetime.date(2019, 12, 9),\n",
       " datetime.date(2019, 8, 27),\n",
       " datetime.date(2021, 6, 23),\n",
       " datetime.date(2024, 8, 6),\n",
       " datetime.date(2024, 10, 15),\n",
       " datetime.date(2018, 10, 5),\n",
       " datetime.date(2018, 12, 5),\n",
       " datetime.date(2022, 6, 28),\n",
       " datetime.date(2022, 9, 21),\n",
       " datetime.date(2022, 3, 15),\n",
       " datetime.date(2021, 9, 29),\n",
       " datetime.date(2021, 3, 19),\n",
       " datetime.date(2024, 1, 19),\n",
       " datetime.date(2021, 5, 28),\n",
       " datetime.date(2018, 2, 12),\n",
       " datetime.date(2018, 7, 2),\n",
       " datetime.date(2017, 6, 2),\n",
       " datetime.date(2020, 10, 12),\n",
       " datetime.date(2024, 8, 16),\n",
       " datetime.date(2021, 11, 16),\n",
       " datetime.date(2019, 4, 3),\n",
       " datetime.date(2019, 5, 24),\n",
       " datetime.date(2018, 4, 18),\n",
       " datetime.date(2023, 2, 1),\n",
       " datetime.date(2020, 5, 28),\n",
       " datetime.date(2019, 11, 8),\n",
       " datetime.date(2017, 2, 20),\n",
       " datetime.date(2019, 2, 14),\n",
       " datetime.date(2017, 4, 25),\n",
       " datetime.date(2023, 2, 24),\n",
       " datetime.date(2018, 6, 15),\n",
       " datetime.date(2018, 11, 2),\n",
       " datetime.date(2022, 7, 25),\n",
       " datetime.date(2017, 12, 18),\n",
       " datetime.date(2017, 6, 30),\n",
       " datetime.date(2022, 2, 4),\n",
       " datetime.date(2021, 9, 14),\n",
       " datetime.date(2023, 9, 22),\n",
       " datetime.date(2023, 3, 23),\n",
       " datetime.date(2024, 3, 18),\n",
       " datetime.date(2020, 4, 28),\n",
       " datetime.date(2021, 9, 23),\n",
       " datetime.date(2017, 8, 29),\n",
       " datetime.date(2017, 9, 11),\n",
       " datetime.date(2023, 8, 31),\n",
       " datetime.date(2021, 9, 13),\n",
       " datetime.date(2018, 9, 5),\n",
       " datetime.date(2020, 6, 1),\n",
       " datetime.date(2017, 9, 1),\n",
       " datetime.date(2021, 10, 4),\n",
       " datetime.date(2021, 1, 5),\n",
       " datetime.date(2017, 5, 25),\n",
       " datetime.date(2024, 11, 7),\n",
       " datetime.date(2023, 5, 30),\n",
       " datetime.date(2021, 6, 14),\n",
       " datetime.date(2017, 11, 2),\n",
       " datetime.date(2021, 6, 24),\n",
       " datetime.date(2019, 12, 24),\n",
       " datetime.date(2020, 5, 20),\n",
       " datetime.date(2020, 12, 24),\n",
       " datetime.date(2024, 9, 20),\n",
       " datetime.date(2022, 1, 13),\n",
       " datetime.date(2018, 4, 12),\n",
       " datetime.date(2020, 11, 9),\n",
       " datetime.date(2021, 2, 24),\n",
       " datetime.date(2018, 3, 9),\n",
       " datetime.date(2021, 2, 16),\n",
       " datetime.date(2022, 9, 13),\n",
       " datetime.date(2017, 1, 23),\n",
       " datetime.date(2023, 4, 21),\n",
       " datetime.date(2020, 11, 6),\n",
       " datetime.date(2018, 3, 21),\n",
       " datetime.date(2017, 5, 23),\n",
       " datetime.date(2019, 4, 9),\n",
       " datetime.date(2023, 9, 14),\n",
       " datetime.date(2023, 6, 9),\n",
       " datetime.date(2019, 5, 15),\n",
       " datetime.date(2021, 2, 3),\n",
       " datetime.date(2021, 8, 30),\n",
       " datetime.date(2019, 11, 5),\n",
       " datetime.date(2019, 9, 25),\n",
       " datetime.date(2017, 3, 17),\n",
       " datetime.date(2018, 5, 21),\n",
       " datetime.date(2017, 9, 7),\n",
       " datetime.date(2022, 1, 21),\n",
       " datetime.date(2020, 12, 28),\n",
       " datetime.date(2022, 10, 7),\n",
       " datetime.date(2018, 12, 6),\n",
       " datetime.date(2022, 9, 30),\n",
       " datetime.date(2020, 8, 5),\n",
       " datetime.date(2021, 5, 26),\n",
       " datetime.date(2023, 7, 20),\n",
       " datetime.date(2019, 3, 19),\n",
       " datetime.date(2019, 2, 20),\n",
       " datetime.date(2019, 12, 2),\n",
       " datetime.date(2019, 4, 1),\n",
       " datetime.date(2017, 3, 14),\n",
       " datetime.date(2019, 6, 19),\n",
       " datetime.date(2023, 11, 7),\n",
       " datetime.date(2022, 7, 18),\n",
       " datetime.date(2022, 4, 18),\n",
       " datetime.date(2017, 4, 12),\n",
       " datetime.date(2019, 2, 28),\n",
       " datetime.date(2019, 12, 5),\n",
       " datetime.date(2020, 9, 11),\n",
       " datetime.date(2021, 7, 27),\n",
       " datetime.date(2022, 3, 8),\n",
       " datetime.date(2018, 9, 24),\n",
       " datetime.date(2020, 1, 7),\n",
       " datetime.date(2017, 9, 27),\n",
       " datetime.date(2019, 2, 4),\n",
       " datetime.date(2021, 3, 25),\n",
       " datetime.date(2019, 12, 18),\n",
       " datetime.date(2021, 9, 15),\n",
       " datetime.date(2024, 11, 5),\n",
       " datetime.date(2018, 8, 21),\n",
       " datetime.date(2020, 3, 5),\n",
       " datetime.date(2022, 5, 23),\n",
       " datetime.date(2020, 4, 24),\n",
       " datetime.date(2018, 4, 4),\n",
       " datetime.date(2022, 12, 15),\n",
       " datetime.date(2018, 4, 26),\n",
       " datetime.date(2019, 5, 10),\n",
       " datetime.date(2017, 11, 1),\n",
       " datetime.date(2022, 5, 24),\n",
       " datetime.date(2018, 4, 3),\n",
       " datetime.date(2017, 10, 26),\n",
       " datetime.date(2018, 7, 19),\n",
       " datetime.date(2018, 7, 25),\n",
       " datetime.date(2020, 7, 30),\n",
       " datetime.date(2021, 3, 4),\n",
       " datetime.date(2018, 9, 27),\n",
       " datetime.date(2020, 9, 18),\n",
       " datetime.date(2020, 7, 20),\n",
       " datetime.date(2022, 12, 21),\n",
       " datetime.date(2022, 1, 27),\n",
       " datetime.date(2023, 3, 17),\n",
       " datetime.date(2023, 2, 21),\n",
       " datetime.date(2021, 3, 15),\n",
       " datetime.date(2017, 8, 28),\n",
       " datetime.date(2018, 9, 17),\n",
       " datetime.date(2017, 6, 13),\n",
       " datetime.date(2022, 10, 31),\n",
       " datetime.date(2023, 4, 20),\n",
       " datetime.date(2024, 10, 28),\n",
       " datetime.date(2020, 9, 3),\n",
       " datetime.date(2021, 12, 31),\n",
       " datetime.date(2023, 5, 9),\n",
       " datetime.date(2021, 4, 20),\n",
       " datetime.date(2019, 4, 30),\n",
       " datetime.date(2019, 9, 11),\n",
       " datetime.date(2024, 10, 11),\n",
       " datetime.date(2019, 4, 12),\n",
       " datetime.date(2020, 7, 17),\n",
       " datetime.date(2020, 3, 23),\n",
       " datetime.date(2017, 4, 17),\n",
       " datetime.date(2019, 4, 26),\n",
       " datetime.date(2024, 8, 9),\n",
       " datetime.date(2024, 1, 31),\n",
       " datetime.date(2019, 3, 8),\n",
       " datetime.date(2023, 7, 25),\n",
       " datetime.date(2021, 11, 23),\n",
       " datetime.date(2018, 9, 14),\n",
       " datetime.date(2018, 10, 15),\n",
       " datetime.date(2020, 7, 10),\n",
       " datetime.date(2021, 4, 1),\n",
       " datetime.date(2021, 11, 4),\n",
       " datetime.date(2023, 11, 15),\n",
       " datetime.date(2018, 1, 4),\n",
       " datetime.date(2018, 7, 16),\n",
       " datetime.date(2019, 9, 23),\n",
       " datetime.date(2023, 10, 3),\n",
       " datetime.date(2024, 10, 16),\n",
       " datetime.date(2021, 11, 2),\n",
       " datetime.date(2023, 4, 24),\n",
       " datetime.date(2017, 5, 19),\n",
       " datetime.date(2021, 5, 12),\n",
       " datetime.date(2017, 11, 10),\n",
       " datetime.date(2024, 11, 29),\n",
       " datetime.date(2020, 11, 3),\n",
       " datetime.date(2019, 1, 9),\n",
       " datetime.date(2021, 11, 24),\n",
       " datetime.date(2022, 4, 7),\n",
       " datetime.date(2023, 2, 27),\n",
       " datetime.date(2020, 3, 12),\n",
       " datetime.date(2020, 8, 12),\n",
       " datetime.date(2023, 5, 29),\n",
       " datetime.date(2023, 8, 8),\n",
       " datetime.date(2021, 3, 9),\n",
       " datetime.date(2018, 6, 22),\n",
       " datetime.date(2024, 6, 14),\n",
       " datetime.date(2023, 12, 8),\n",
       " datetime.date(2021, 6, 7),\n",
       " datetime.date(2019, 5, 31),\n",
       " datetime.date(2023, 11, 16),\n",
       " datetime.date(2017, 7, 31),\n",
       " datetime.date(2024, 1, 29),\n",
       " datetime.date(2018, 1, 10),\n",
       " datetime.date(2022, 6, 27),\n",
       " datetime.date(2023, 7, 7),\n",
       " datetime.date(2021, 8, 12),\n",
       " datetime.date(2019, 11, 22),\n",
       " datetime.date(2019, 12, 30),\n",
       " datetime.date(2018, 4, 30),\n",
       " datetime.date(2022, 10, 20),\n",
       " datetime.date(2017, 12, 11),\n",
       " datetime.date(2017, 10, 18),\n",
       " datetime.date(2022, 12, 19),\n",
       " datetime.date(2024, 11, 13),\n",
       " datetime.date(2022, 4, 27),\n",
       " datetime.date(2021, 6, 3),\n",
       " datetime.date(2019, 5, 8),\n",
       " datetime.date(2024, 4, 30),\n",
       " datetime.date(2022, 8, 5),\n",
       " datetime.date(2021, 2, 4),\n",
       " datetime.date(2020, 4, 20),\n",
       " datetime.date(2020, 9, 8),\n",
       " datetime.date(2019, 3, 29),\n",
       " datetime.date(2021, 11, 17),\n",
       " datetime.date(2024, 4, 5),\n",
       " datetime.date(2017, 11, 21),\n",
       " datetime.date(2023, 9, 8),\n",
       " datetime.date(2020, 10, 20),\n",
       " datetime.date(2020, 6, 9),\n",
       " datetime.date(2017, 4, 20),\n",
       " datetime.date(2022, 7, 22),\n",
       " datetime.date(2024, 2, 28),\n",
       " datetime.date(2017, 7, 13),\n",
       " datetime.date(2021, 12, 9),\n",
       " datetime.date(2024, 6, 21),\n",
       " datetime.date(2024, 10, 29),\n",
       " datetime.date(2021, 6, 30),\n",
       " datetime.date(2017, 2, 6),\n",
       " datetime.date(2021, 3, 5),\n",
       " datetime.date(2019, 12, 12),\n",
       " datetime.date(2023, 9, 13),\n",
       " datetime.date(2023, 1, 10),\n",
       " datetime.date(2017, 12, 20),\n",
       " datetime.date(2021, 4, 6),\n",
       " datetime.date(2023, 1, 20),\n",
       " datetime.date(2024, 4, 12),\n",
       " datetime.date(2019, 7, 17),\n",
       " datetime.date(2020, 6, 16),\n",
       " datetime.date(2017, 5, 17),\n",
       " datetime.date(2018, 5, 22),\n",
       " datetime.date(2021, 8, 10),\n",
       " datetime.date(2020, 11, 11),\n",
       " datetime.date(2017, 11, 3),\n",
       " datetime.date(2021, 4, 27),\n",
       " datetime.date(2023, 10, 4),\n",
       " datetime.date(2024, 6, 20),\n",
       " datetime.date(2017, 6, 16),\n",
       " datetime.date(2017, 11, 16),\n",
       " datetime.date(2022, 8, 30),\n",
       " datetime.date(2019, 2, 5),\n",
       " datetime.date(2017, 9, 5),\n",
       " datetime.date(2019, 4, 8),\n",
       " datetime.date(2019, 11, 15),\n",
       " datetime.date(2023, 7, 21),\n",
       " datetime.date(2017, 11, 7),\n",
       " datetime.date(2021, 9, 8),\n",
       " datetime.date(2022, 1, 6),\n",
       " datetime.date(2018, 6, 21),\n",
       " datetime.date(2021, 7, 8),\n",
       " datetime.date(2023, 3, 20),\n",
       " datetime.date(2019, 12, 26),\n",
       " datetime.date(2018, 4, 23),\n",
       " datetime.date(2022, 1, 5),\n",
       " datetime.date(2020, 10, 21),\n",
       " datetime.date(2023, 7, 19),\n",
       " datetime.date(2022, 1, 25),\n",
       " datetime.date(2020, 8, 31),\n",
       " datetime.date(2023, 3, 31),\n",
       " datetime.date(2019, 9, 18),\n",
       " datetime.date(2022, 6, 10),\n",
       " datetime.date(2019, 12, 31),\n",
       " datetime.date(2021, 6, 25),\n",
       " datetime.date(2023, 12, 18),\n",
       " datetime.date(2020, 5, 13),\n",
       " datetime.date(2018, 12, 26),\n",
       " datetime.date(2019, 3, 25),\n",
       " datetime.date(2021, 12, 21),\n",
       " datetime.date(2021, 3, 31),\n",
       " datetime.date(2022, 11, 4),\n",
       " datetime.date(2023, 3, 6),\n",
       " datetime.date(2018, 10, 30),\n",
       " datetime.date(2020, 10, 16),\n",
       " datetime.date(2022, 7, 6),\n",
       " datetime.date(2019, 11, 14),\n",
       " datetime.date(2018, 9, 11),\n",
       " datetime.date(2022, 6, 22),\n",
       " datetime.date(2017, 6, 21),\n",
       " datetime.date(2017, 10, 17),\n",
       " datetime.date(2023, 12, 26),\n",
       " datetime.date(2024, 11, 22),\n",
       " datetime.date(2019, 8, 8),\n",
       " datetime.date(2024, 2, 14),\n",
       " datetime.date(2018, 12, 14),\n",
       " datetime.date(2018, 7, 30),\n",
       " datetime.date(2022, 11, 3),\n",
       " datetime.date(2024, 1, 2),\n",
       " datetime.date(2024, 5, 16),\n",
       " datetime.date(2023, 10, 10),\n",
       " datetime.date(2020, 12, 15),\n",
       " datetime.date(2024, 3, 11),\n",
       " datetime.date(2021, 12, 13),\n",
       " datetime.date(2022, 12, 20),\n",
       " datetime.date(2021, 2, 19),\n",
       " datetime.date(2023, 9, 29),\n",
       " datetime.date(2021, 2, 22),\n",
       " datetime.date(2021, 2, 12),\n",
       " datetime.date(2022, 11, 10),\n",
       " datetime.date(2020, 2, 25),\n",
       " datetime.date(2024, 1, 24),\n",
       " datetime.date(2018, 1, 9),\n",
       " datetime.date(2020, 6, 22),\n",
       " datetime.date(2024, 3, 6),\n",
       " datetime.date(2024, 5, 31),\n",
       " datetime.date(2018, 3, 8),\n",
       " datetime.date(2024, 9, 19),\n",
       " datetime.date(2023, 12, 22),\n",
       " datetime.date(2018, 6, 29),\n",
       " datetime.date(2021, 11, 12),\n",
       " datetime.date(2020, 12, 9),\n",
       " datetime.date(2022, 12, 7),\n",
       " datetime.date(2021, 1, 18),\n",
       " datetime.date(2023, 11, 30),\n",
       " datetime.date(2017, 6, 15),\n",
       " datetime.date(2024, 8, 26),\n",
       " datetime.date(2018, 3, 13),\n",
       " datetime.date(2020, 10, 19),\n",
       " datetime.date(2022, 4, 12),\n",
       " datetime.date(2017, 1, 19),\n",
       " datetime.date(2017, 8, 17),\n",
       " datetime.date(2018, 1, 18),\n",
       " datetime.date(2021, 11, 15),\n",
       " datetime.date(2019, 4, 10),\n",
       " datetime.date(2020, 1, 23),\n",
       " datetime.date(2024, 10, 24),\n",
       " datetime.date(2020, 7, 16),\n",
       " datetime.date(2021, 3, 18),\n",
       " datetime.date(2017, 9, 14),\n",
       " datetime.date(2024, 2, 6),\n",
       " datetime.date(2020, 5, 12),\n",
       " datetime.date(2018, 2, 2),\n",
       " datetime.date(2024, 6, 18),\n",
       " datetime.date(2020, 9, 14),\n",
       " datetime.date(2017, 6, 8),\n",
       " datetime.date(2018, 1, 8),\n",
       " datetime.date(2018, 3, 15),\n",
       " datetime.date(2019, 6, 12),\n",
       " datetime.date(2018, 3, 12),\n",
       " datetime.date(2017, 11, 24),\n",
       " datetime.date(2018, 7, 17),\n",
       " datetime.date(2018, 6, 11),\n",
       " datetime.date(2022, 8, 10),\n",
       " datetime.date(2022, 11, 29),\n",
       " datetime.date(2024, 5, 8),\n",
       " datetime.date(2020, 9, 17),\n",
       " datetime.date(2024, 7, 1),\n",
       " datetime.date(2020, 8, 3),\n",
       " datetime.date(2017, 5, 4),\n",
       " datetime.date(2020, 6, 4),\n",
       " datetime.date(2018, 2, 6),\n",
       " datetime.date(2017, 12, 28),\n",
       " datetime.date(2018, 7, 24),\n",
       " datetime.date(2018, 12, 3),\n",
       " datetime.date(2017, 5, 30),\n",
       " datetime.date(2018, 4, 10),\n",
       " datetime.date(2018, 7, 6),\n",
       " datetime.date(2020, 12, 3),\n",
       " datetime.date(2021, 5, 19),\n",
       " datetime.date(2019, 7, 5),\n",
       " datetime.date(2018, 6, 5),\n",
       " datetime.date(2019, 9, 17),\n",
       " datetime.date(2020, 4, 21),\n",
       " datetime.date(2020, 4, 23),\n",
       " datetime.date(2024, 9, 23),\n",
       " datetime.date(2024, 1, 23),\n",
       " datetime.date(2018, 2, 8),\n",
       " datetime.date(2023, 4, 5),\n",
       " datetime.date(2022, 7, 27),\n",
       " datetime.date(2024, 7, 3),\n",
       " datetime.date(2023, 6, 28),\n",
       " datetime.date(2023, 10, 6),\n",
       " datetime.date(2024, 11, 6),\n",
       " datetime.date(2017, 1, 27),\n",
       " datetime.date(2017, 11, 22),\n",
       " datetime.date(2019, 9, 26),\n",
       " datetime.date(2023, 3, 10),\n",
       " datetime.date(2018, 8, 31),\n",
       " datetime.date(2022, 11, 14),\n",
       " datetime.date(2024, 5, 2),\n",
       " datetime.date(2019, 2, 18),\n",
       " datetime.date(2023, 5, 25),\n",
       " datetime.date(2024, 3, 14),\n",
       " datetime.date(2021, 9, 30),\n",
       " datetime.date(2017, 6, 22),\n",
       " datetime.date(2018, 12, 12),\n",
       " datetime.date(2021, 10, 26),\n",
       " datetime.date(2024, 2, 26),\n",
       " datetime.date(2023, 2, 7),\n",
       " datetime.date(2021, 9, 16),\n",
       " datetime.date(2020, 12, 30),\n",
       " datetime.date(2020, 10, 28),\n",
       " datetime.date(2017, 2, 7),\n",
       " datetime.date(2024, 12, 2),\n",
       " datetime.date(2022, 10, 12),\n",
       " datetime.date(2018, 2, 22),\n",
       " datetime.date(2018, 1, 5),\n",
       " datetime.date(2021, 6, 17),\n",
       " datetime.date(2023, 9, 25),\n",
       " datetime.date(2024, 8, 2),\n",
       " datetime.date(2021, 9, 9),\n",
       " datetime.date(2020, 1, 6),\n",
       " datetime.date(2017, 2, 9),\n",
       " datetime.date(2020, 4, 7),\n",
       " datetime.date(2018, 11, 12),\n",
       " datetime.date(2019, 4, 22),\n",
       " datetime.date(2018, 5, 7),\n",
       " datetime.date(2017, 8, 9),\n",
       " datetime.date(2023, 10, 11),\n",
       " datetime.date(2020, 4, 27),\n",
       " datetime.date(2017, 7, 28),\n",
       " datetime.date(2018, 1, 1),\n",
       " datetime.date(2017, 9, 21),\n",
       " datetime.date(2022, 11, 15),\n",
       " datetime.date(2024, 11, 21),\n",
       " datetime.date(2023, 6, 16),\n",
       " datetime.date(2023, 3, 13),\n",
       " datetime.date(2017, 7, 17),\n",
       " datetime.date(2020, 1, 31),\n",
       " datetime.date(2020, 11, 24),\n",
       " datetime.date(2023, 11, 22),\n",
       " datetime.date(2023, 5, 10),\n",
       " datetime.date(2023, 6, 7),\n",
       " datetime.date(2017, 10, 27),\n",
       " datetime.date(2024, 9, 30),\n",
       " datetime.date(2017, 9, 19),\n",
       " datetime.date(2020, 8, 17),\n",
       " datetime.date(2021, 6, 4),\n",
       " datetime.date(2023, 2, 20),\n",
       " datetime.date(2021, 4, 8),\n",
       " datetime.date(2022, 1, 31),\n",
       " datetime.date(2024, 5, 3),\n",
       " datetime.date(2019, 7, 31),\n",
       " datetime.date(2023, 11, 17),\n",
       " datetime.date(2021, 10, 25),\n",
       " datetime.date(2024, 1, 20),\n",
       " datetime.date(2021, 1, 20),\n",
       " datetime.date(2017, 9, 22),\n",
       " datetime.date(2023, 4, 18),\n",
       " datetime.date(2024, 7, 10),\n",
       " datetime.date(2019, 12, 4),\n",
       " datetime.date(2021, 5, 24),\n",
       " datetime.date(2024, 11, 26),\n",
       " datetime.date(2023, 11, 3),\n",
       " datetime.date(2022, 5, 16),\n",
       " datetime.date(2023, 1, 2),\n",
       " datetime.date(2017, 1, 12),\n",
       " datetime.date(2020, 6, 5),\n",
       " datetime.date(2022, 10, 25),\n",
       " datetime.date(2023, 12, 12),\n",
       " datetime.date(2022, 6, 17),\n",
       " datetime.date(2018, 10, 31),\n",
       " datetime.date(2020, 3, 4),\n",
       " datetime.date(2024, 9, 10),\n",
       " datetime.date(2018, 1, 25),\n",
       " datetime.date(2022, 9, 22),\n",
       " datetime.date(2021, 10, 28),\n",
       " datetime.date(2019, 7, 24),\n",
       " datetime.date(2019, 7, 19),\n",
       " datetime.date(2024, 11, 14),\n",
       " datetime.date(2017, 9, 26),\n",
       " datetime.date(2023, 1, 13),\n",
       " datetime.date(2018, 7, 9),\n",
       " datetime.date(2020, 7, 31),\n",
       " datetime.date(2020, 12, 16),\n",
       " datetime.date(2018, 5, 2),\n",
       " datetime.date(2018, 11, 5),\n",
       " datetime.date(2017, 4, 24),\n",
       " datetime.date(2024, 1, 4),\n",
       " datetime.date(2018, 8, 17),\n",
       " datetime.date(2022, 1, 24),\n",
       " datetime.date(2023, 6, 30),\n",
       " datetime.date(2017, 1, 20),\n",
       " datetime.date(2019, 9, 3),\n",
       " datetime.date(2020, 6, 10),\n",
       " datetime.date(2022, 4, 21),\n",
       " datetime.date(2020, 10, 8),\n",
       " datetime.date(2017, 3, 28),\n",
       " datetime.date(2020, 2, 4),\n",
       " datetime.date(2024, 7, 11),\n",
       " datetime.date(2022, 9, 9),\n",
       " datetime.date(2022, 8, 11),\n",
       " datetime.date(2023, 7, 28),\n",
       " datetime.date(2022, 9, 7),\n",
       " datetime.date(2023, 11, 24),\n",
       " datetime.date(2023, 6, 15),\n",
       " datetime.date(2023, 7, 27),\n",
       " datetime.date(2018, 3, 22),\n",
       " datetime.date(2019, 8, 6),\n",
       " datetime.date(2020, 8, 14),\n",
       " datetime.date(2021, 12, 3),\n",
       " datetime.date(2020, 10, 30),\n",
       " datetime.date(2019, 11, 18),\n",
       " datetime.date(2021, 6, 28),\n",
       " datetime.date(2022, 5, 13),\n",
       " datetime.date(2022, 4, 4),\n",
       " ...}"
      ]
     },
     "execution_count": 236,
     "metadata": {},
     "output_type": "execute_result"
    }
   ],
   "source": [
    "bnf_1min[\"datetime\"] = pd.to_datetime(bnf_1min[\"datetime\"])\n",
    "list_of_traded_dates = set(bnf_1min[\"datetime\"].dt.date)\n",
    "list_of_traded_dates"
   ]
  },
  {
   "cell_type": "code",
   "execution_count": 237,
   "id": "4e73a9f1-b834-411e-b28e-cf7ec65fcfca",
   "metadata": {
    "execution": {
     "iopub.execute_input": "2024-12-18T17:28:44.246132Z",
     "iopub.status.busy": "2024-12-18T17:28:44.245872Z",
     "iopub.status.idle": "2024-12-18T17:28:44.251870Z",
     "shell.execute_reply": "2024-12-18T17:28:44.250908Z",
     "shell.execute_reply.started": "2024-12-18T17:28:44.246115Z"
    }
   },
   "outputs": [],
   "source": [
    "def rename_ohlc_columns(df: pl.DataFrame) -> pl.DataFrame:\n",
    "\n",
    "    column_mapping = {\"o\": \"open\", \"h\": \"high\", \"l\": \"low\", \"c\": \"close\", \"v\": \"volume\"}\n",
    "    df = df.rename(column_mapping)\n",
    "\n",
    "    return df"
   ]
  },
  {
   "cell_type": "code",
   "execution_count": 259,
   "id": "3e97b9dc-5add-4dbd-8160-d4b294b5d3dc",
   "metadata": {
    "execution": {
     "iopub.execute_input": "2024-12-18T17:29:59.825275Z",
     "iopub.status.busy": "2024-12-18T17:29:59.824880Z",
     "iopub.status.idle": "2024-12-18T17:29:59.829279Z",
     "shell.execute_reply": "2024-12-18T17:29:59.828368Z",
     "shell.execute_reply.started": "2024-12-18T17:29:59.825255Z"
    }
   },
   "outputs": [],
   "source": [
    "PORTFOLIO_VALUE = 10_00_000 # 10 Lacs\n",
    "# RPT_PCT = 0.01 # 1% RPT\n",
    "SLIPPAGE_ = 0.0001\n",
    "LEVERAGE_ = 5"
   ]
  },
  {
   "cell_type": "code",
   "execution_count": 260,
   "id": "8fe87dd6-5c22-4a1b-b716-8da141dd30de",
   "metadata": {
    "execution": {
     "iopub.execute_input": "2024-12-18T17:29:59.952250Z",
     "iopub.status.busy": "2024-12-18T17:29:59.951990Z",
     "iopub.status.idle": "2024-12-18T17:29:59.958871Z",
     "shell.execute_reply": "2024-12-18T17:29:59.957868Z",
     "shell.execute_reply.started": "2024-12-18T17:29:59.952228Z"
    }
   },
   "outputs": [],
   "source": [
    "def calculate_signals(df, ema_length, x_days, pct):\n",
    "    # Calculate X-day High/Low and 20 EMA\n",
    "    df['X_High'] = df['high'].rolling(x_days).mean()\n",
    "    df['X_Low'] = df['low'].rolling(x_days).mean()\n",
    "    df['EMA_20'] = df['close'].ewm(span=ema_length, adjust=False).mean()\n",
    "    \n",
    "    # Trend conditions\n",
    "    df['EMA_Trend'] = df['EMA_20'] > df['EMA_20'].shift(1)\n",
    "    \n",
    "    # Signal conditions\n",
    "    df['Buy_Signal'] = (\n",
    "        (df['close'] > df['X_High'].shift(1) * (1 + (pct / 100))) & \n",
    "        (df['EMA_Trend']) & \n",
    "        (df['close'] > df['EMA_20'])\n",
    "    )\n",
    "    df['Sell_Signal'] = (\n",
    "        (df['close'] < df['X_Low'].shift(1) * (1 - (pct / 100))) & \n",
    "        (~df['EMA_Trend']) & \n",
    "        (df['close'] < df['EMA_20'])\n",
    "    )\n",
    "    return df"
   ]
  },
  {
   "cell_type": "code",
   "execution_count": 261,
   "id": "d6a33865-c48b-486a-b8da-e5598116810c",
   "metadata": {
    "execution": {
     "iopub.execute_input": "2024-12-18T17:30:00.096256Z",
     "iopub.status.busy": "2024-12-18T17:30:00.095869Z",
     "iopub.status.idle": "2024-12-18T17:30:00.101287Z",
     "shell.execute_reply": "2024-12-18T17:30:00.100498Z",
     "shell.execute_reply.started": "2024-12-18T17:30:00.096238Z"
    },
    "jupyter": {
     "source_hidden": true
    }
   },
   "outputs": [],
   "source": [
    "# def backtest(df):\n",
    "#     position = 0\n",
    "#     entry_price = 0\n",
    "#     trades = []\n",
    "#     trailing_stop = None\n",
    "    \n",
    "#     for i in range(len(df)):\n",
    "#         if df.loc[i, 'Buy_Signal'] and position == 0:\n",
    "#             position = 1\n",
    "#             # entry_price = df.loc[i, 'close']\n",
    "#             trailing_stop_long = df.loc[i, 'EMA_20']\n",
    "#             # trades.append({'Type': 'Buy', 'Price': entry_price, 'Date': df.loc[i, 'datetime']})\n",
    "#             entry_time_long = df.loc[i, 'datetime']\n",
    "#             entry_price_long = df.loc[i, 'close']\n",
    "#             initial_sl_long = trailing_stop_long\n",
    "        \n",
    "#         elif df.loc[i, 'Sell_Signal'] and position == 0:\n",
    "#             position = -1\n",
    "#             entry_price = df.loc[i, 'close']\n",
    "#             trailing_stop_short = df.loc[i, 'EMA_20']\n",
    "#             # trades.append({'Type': 'Sell', 'Price': entry_price, 'Date': df.loc[i, 'datetime']})\n",
    "#             entry_time_short = df.loc[i, 'datetime']\n",
    "#             entry_price_short = df.loc[i, 'close']\n",
    "#             initial_sl_short = trailing_stop_short\n",
    "        \n",
    "#         elif position == 1:\n",
    "#             if df.loc[i, 'low'] < trailing_stop_long:\n",
    "#                 # trades.append({'Type': 'Exit', 'Price': df.loc[i, 'close'], 'Date': df.loc[i, 'datetime']})\n",
    "#                 position = 0\n",
    "#                 exit_time_long = df.loc[i, 'datetime']\n",
    "#                 exit_price_long = trailing_stop_long\n",
    "#                 points_long = exit_price_long - entry_price_long\n",
    "                \n",
    "#             elif df.loc[i, 'Add_Long']:\n",
    "#                 # trades.append({'Type': 'Add Long', 'Price': df.loc[i, 'close'], 'Date': df.loc[i, 'datetime']})\n",
    "#                 entry_time_long = df.loc[i, 'datetime']\n",
    "#                 entry_price_long = df.loc[i, 'close']\n",
    "#                 initial_sl_long = trailing_stop_long\n",
    "#                 trailing_stop_long = max(trailing_stop_long, df.loc[i, 'EMA_20'])\n",
    "        \n",
    "#         elif position == -1:\n",
    "#             if df.loc[i, 'high'] > trailing_stop:\n",
    "#                 trades.append({'Type': 'Exit', 'Price': df.loc[i, 'close'], 'Date': df.loc[i, 'datetime']})\n",
    "#                 position = 0\n",
    "#             elif df.loc[i, 'Add_Short']:\n",
    "#                 trades.append({'Type': 'Add Short', 'Price': df.loc[i, 'close'], 'Date': df.loc[i, 'datetime']})\n",
    "#                 trailing_stop = min(trailing_stop, df.loc[i, 'EMA_20'])\n",
    "    \n",
    "#     return pd.DataFrame(trades)"
   ]
  },
  {
   "cell_type": "code",
   "execution_count": 262,
   "id": "ce424607-ebe6-4830-947c-dcdbc4cfb094",
   "metadata": {
    "execution": {
     "iopub.execute_input": "2024-12-18T17:30:00.230734Z",
     "iopub.status.busy": "2024-12-18T17:30:00.229903Z",
     "iopub.status.idle": "2024-12-18T17:30:00.241069Z",
     "shell.execute_reply": "2024-12-18T17:30:00.239865Z",
     "shell.execute_reply.started": "2024-12-18T17:30:00.230714Z"
    }
   },
   "outputs": [],
   "source": [
    "def backtest(df):\n",
    "    # print(df.to_string())\n",
    "    # return\n",
    "    df.reset_index(drop=True, inplace=True)\n",
    "    # Variables for long trades\n",
    "    long_position = 0  # 0 = no position, 1 = long\n",
    "    long_entry_price = 0\n",
    "    long_entry_date = None\n",
    "    long_trades = []\n",
    "    tradebook = pd.DataFrame()\n",
    "    tradebook_long = pd.DataFrame()\n",
    "    # tradebook_short = pd.DataFrame()\n",
    "    long_trailing_stop = None\n",
    "    # Variables for short trades\n",
    "    # short_position = 0  # 0 = no position, -1 = short\n",
    "    # short_entry_price = 0\n",
    "    # short_entry_date = None\n",
    "    # short_trades = []\n",
    "    # short_trailing_stop = None\n",
    "\n",
    "    can_add_long = False\n",
    "    # can_add_short = False\n",
    "\n",
    "    trade_number = 0\n",
    "    lock_initial_sl = False\n",
    "    first_sl = 0\n",
    "\n",
    "    lock_initial_sl_2 = False\n",
    "    first_sl_2 = 0\n",
    "\n",
    "    pyramid_number = 0\n",
    "    can_pyramid = True\n",
    "    pyramid_high = 0\n",
    "\n",
    "    for i in range(1, len(df)):\n",
    "        # Entry signals for long trades\n",
    "        long_trailing_stop = df.loc[i, 'EMA_20']\n",
    "        # short_trailing_stop = df.loc[i, 'EMA_20']\n",
    "        \n",
    "        if df.loc[i, 'Buy_Signal'] and long_position == 0:\n",
    "            long_position = 1\n",
    "            long_entry_price = df.loc[i, 'close']\n",
    "            long_entry_date = df.loc[i, 'datetime']\n",
    "            long_trailing_stop = df.loc[i, 'EMA_20']\n",
    "            long_initial_sl = df.loc[i, 'X_Low']\n",
    "\n",
    "            tradebook_long = pd.concat([tradebook_long, pd.DataFrame([{\n",
    "                'Trade No.': trade_number,\n",
    "                'Entry_Date': df.loc[i, 'datetime'],\n",
    "                'Exit_Date': None,\n",
    "                'Trade_Type': 'Long',\n",
    "                'Entry_Price': df.loc[i, 'close'],\n",
    "                'Previous MA Value': df.loc[i-1, 'X_High'],\n",
    "                'Initial SL': long_initial_sl,\n",
    "                'Exit_Price': None,\n",
    "                # 'Profit/Loss': None  # Filled when exited\n",
    "            }])], ignore_index=True)\n",
    "\n",
    "            if not lock_initial_sl:\n",
    "                first_sl = long_initial_sl\n",
    "                lock_initial_sl = True\n",
    "\n",
    "            can_pyramid = True\n",
    "            pyramid_number = 0\n",
    "            pyramid_high = 0\n",
    "            continue\n",
    "                \n",
    "        # Exit or add to long position\n",
    "        if long_position == 1:\n",
    "\n",
    "            \n",
    "            # y_days_low = df['low'].rolling(y_days).min().iloc[i-1]\n",
    "            # y_days_high = df['high'].rolling(y_days).max().iloc[i-1]\n",
    "            \n",
    "            # print(df.iloc[i]['datetime'], y_days_high, y_days_low)\n",
    "            \n",
    "            if df.loc[i, 'low'] <= long_initial_sl:\n",
    "                tradebook_long.loc[\n",
    "                    (tradebook_long['Trade No.'] == trade_number),\n",
    "                    ['Exit_Date', 'Exit_Price', 'Exit Remark']\n",
    "                ] = [df.loc[i, 'datetime'] , long_initial_sl , 'Initial SL Hit']\n",
    "                long_position = 0\n",
    "                can_add_long = False\n",
    "                trade_number += 1\n",
    "                lock_initial_sl = False\n",
    "                first_sl = 0\n",
    "                can_pyramid = False\n",
    "                pyramid_number = 0\n",
    "                pyramid_high = 0\n",
    "            \n",
    "            elif df.loc[i, 'close'] <= long_trailing_stop:\n",
    "                tradebook_long.loc[\n",
    "                    (tradebook_long['Trade No.'] == trade_number),\n",
    "                    ['Exit_Date', 'Exit_Price', 'Exit Remark']\n",
    "                ] = [df.loc[i, 'datetime'] , df.loc[i, 'close'] , 'Trailing SL Hit']\n",
    "                long_position = 0\n",
    "                can_add_long = False\n",
    "                trade_number += 1\n",
    "                lock_initial_sl = False\n",
    "                first_sl = 0\n",
    "                can_pyramid = False\n",
    "                pyramid_number = 0\n",
    "                pyramid_high = 0\n",
    "\n",
    "            # elif (df.loc[i, 'low'] <= y_days_low) and not can_add_long:\n",
    "            #     # Previous Y Candle Low Breached, confirmation found. Add position on high break\n",
    "            #     can_add_long = True\n",
    "\n",
    "            # if can_add_long and long_position and can_pyramid:\n",
    "            #     if df.loc[i, 'high'] >= y_days_high and pyramid_number < pyr_num:\n",
    "            #         tradebook_long = pd.concat([tradebook_long, pd.DataFrame([{\n",
    "            #             'Trade No.': trade_number,\n",
    "            #             'Entry_Date': df.loc[i, 'datetime'],\n",
    "            #             'Exit_Date': None,\n",
    "            #             'Trade_Type': 'Add_Long',\n",
    "            #             'Entry_Price': y_days_high,\n",
    "            #             'Initial SL': first_sl,\n",
    "            #             'Exit_Price': None,\n",
    "            #             # 'Profit/Loss': None  # Filled when exited\n",
    "            #         }])], ignore_index=True)\n",
    "            #         can_add_long = False\n",
    "            #         pyramid_number += 1\n",
    "            #         can_pyramid = True\n",
    "    \n",
    "    tradebook = pd.concat([tradebook_long, tradebook], ignore_index=True)\n",
    "    return tradebook\n"
   ]
  },
  {
   "cell_type": "code",
   "execution_count": 263,
   "id": "be2fa54a-87b7-4312-8853-3cf4be8c5784",
   "metadata": {
    "execution": {
     "iopub.execute_input": "2024-12-18T17:30:00.371642Z",
     "iopub.status.busy": "2024-12-18T17:30:00.371324Z",
     "iopub.status.idle": "2024-12-18T17:30:00.378037Z",
     "shell.execute_reply": "2024-12-18T17:30:00.377080Z",
     "shell.execute_reply.started": "2024-12-18T17:30:00.371624Z"
    },
    "jupyter": {
     "source_hidden": true
    }
   },
   "outputs": [],
   "source": [
    "# def backtest(df, y_days):\n",
    "#     # Variables for long trades\n",
    "#     long_position = 0  # 0 = no position, 1 = long\n",
    "#     long_entry_price = 0\n",
    "#     long_entry_date = None\n",
    "#     long_trades = []\n",
    "#     tradebook = pd.DataFrame()\n",
    "#     tradebook_long = pd.DataFrame()\n",
    "#     tradebook_short = pd.DataFrame()\n",
    "#     long_trailing_stop = None\n",
    "#     # Variables for short trades\n",
    "#     short_position = 0  # 0 = no position, -1 = short\n",
    "#     short_entry_price = 0\n",
    "#     short_entry_date = None\n",
    "#     short_trades = []\n",
    "#     short_trailing_stop = None\n",
    "\n",
    "#     can_add_long = False\n",
    "#     can_add_short = False\n",
    "\n",
    "#     trade_number = 0\n",
    "\n",
    "#     for i in range(len(df)):\n",
    "#         # Entry signals for long trades\n",
    "#         long_trailing_stop = df.loc[i, 'EMA_20']\n",
    "#         short_trailing_stop = df.loc[i, 'EMA_20']\n",
    "        \n",
    "#         if df.loc[i, 'Buy_Signal'] and long_position == 0:\n",
    "#             long_position = 1\n",
    "#             long_entry_price = df.loc[i, 'close']\n",
    "#             long_entry_date = df.loc[i, 'datetime']\n",
    "#             long_trailing_stop = df.loc[i, 'EMA_20']\n",
    "#             long_initial_sl = df.loc[i, 'X_Low']\n",
    "\n",
    "#             tradebook_long = pd.concat([tradebook_long, pd.DataFrame([{\n",
    "#                 'Trade No.': trade_number,\n",
    "#                 'Entry_Date': df.loc[i, 'datetime'],\n",
    "#                 'Exit_Date': None,\n",
    "#                 'Trade_Type': 'Long',\n",
    "#                 'Entry_Price': df.loc[i, 'close'],\n",
    "#                 'Initial SL': long_initial_sl,\n",
    "#                 'Exit_Price': None,\n",
    "#                 # 'Profit/Loss': None  # Filled when exited\n",
    "#             }])], ignore_index=True)\n",
    "\n",
    "#         # Exit or add to long position\n",
    "#         if long_position == 1:\n",
    "            \n",
    "#             y_days_low = df['low'].rolling(y_days).min().iloc[i-1]\n",
    "#             y_days_high = df['high'].rolling(y_days).max().iloc[i-1]\n",
    "            \n",
    "#             # print(df.iloc[i]['datetime'], y_days_high, y_days_low)\n",
    "            \n",
    "#             if df.loc[i, 'low'] <= long_initial_sl:\n",
    "#                 tradebook_long.loc[\n",
    "#                     (tradebook_long['Trade No.'] == trade_number),\n",
    "#                     ['Exit_Date', 'Exit_Price']\n",
    "#                 ] = [df.loc[i, 'datetime'] , long_initial_sl]\n",
    "#                 long_position = 0\n",
    "#                 can_add_long = False\n",
    "#                 trade_number += 1\n",
    "            \n",
    "#             elif df.loc[i, 'close'] <= long_trailing_stop:\n",
    "#                 tradebook_long.loc[\n",
    "#                     (tradebook_long['Trade No.'] == trade_number),\n",
    "#                     ['Exit_Date', 'Exit_Price']\n",
    "#                 ] = [df.loc[i, 'datetime'] , df.loc[i, 'close']]\n",
    "#                 long_position = 0\n",
    "#                 can_add_long = False\n",
    "#                 trade_number += 1\n",
    "\n",
    "#             elif (df.loc[i, 'low'] <= y_days_low) and not can_add_long:\n",
    "#                 # Previous Y Candle Low Breached, confirmation found. Add position on high break\n",
    "#                 can_add_long = True\n",
    "\n",
    "#             if can_add_long and long_position:\n",
    "#                 if df.loc[i, 'high'] >= y_days_high:\n",
    "#                     tradebook_long = pd.concat([tradebook_long, pd.DataFrame([{\n",
    "#                         'Trade No.': trade_number,\n",
    "#                         'Entry_Date': df.loc[i, 'datetime'],\n",
    "#                         'Exit_Date': None,\n",
    "#                         'Trade_Type': 'Add_Long',\n",
    "#                         'Entry_Price': y_days_high,\n",
    "#                         'Initial SL': long_initial_sl,\n",
    "#                         'Exit_Price': None,\n",
    "#                         # 'Profit/Loss': None  # Filled when exited\n",
    "#                     }])], ignore_index=True)\n",
    "#                     can_add_long = False\n",
    "\n",
    "#     for i in range(len(df)):\n",
    "        \n",
    "#         # Entry signals for long trades\n",
    "#         long_trailing_stop = df.loc[i, 'EMA_20']\n",
    "#         short_trailing_stop = df.loc[i, 'EMA_20']\n",
    "\n",
    "#         # Entry signals for short trades\n",
    "#         if df.loc[i, 'Sell_Signal'] and short_position == 0:\n",
    "#             short_position = -1\n",
    "#             short_entry_price = df.loc[i, 'close']\n",
    "#             short_entry_date = df.loc[i, 'datetime']\n",
    "#             short_trailing_stop = df.loc[i, 'EMA_20']\n",
    "#             short_initial_sl = df.loc[i, 'X_High']\n",
    "\n",
    "#             tradebook_short = pd.concat([tradebook_short, pd.DataFrame([{\n",
    "#                 'Trade No.': trade_number,\n",
    "#                 'Entry_Date': df.loc[i, 'datetime'],\n",
    "#                 'Exit_Date': None,\n",
    "#                 'Trade_Type': 'Short',\n",
    "#                 'Entry_Price': df.loc[i, 'close'],\n",
    "#                 'Initial SL': short_initial_sl,\n",
    "#                 'Exit_Price': None,\n",
    "#                 # 'Profit/Loss': None  # Filled when exited\n",
    "#             }])], ignore_index=True)\n",
    "\n",
    "#         if short_position == -1:\n",
    "            \n",
    "#             y_days_low = df['low'].rolling(y_days).min().iloc[i-1]\n",
    "#             y_days_high = df['high'].rolling(y_days).max().iloc[i-1]\n",
    "            \n",
    "#             # print(df.iloc[i]['datetime'], y_days_high, y_days_low)\n",
    "            \n",
    "#             if df.loc[i, 'high'] >= short_initial_sl:\n",
    "#                 tradebook_short.loc[\n",
    "#                     (tradebook_short['Trade No.'] == trade_number),\n",
    "#                     ['Exit_Date', 'Exit_Price']\n",
    "#                 ] = [df.loc[i, 'datetime'] ,short_initial_sl]\n",
    "#                 short_position = 0\n",
    "#                 can_add_short = False\n",
    "#                 trade_number += 1\n",
    "            \n",
    "#             elif df.loc[i, 'close'] >= short_trailing_stop:\n",
    "#                 tradebook_short.loc[\n",
    "#                     (tradebook_short['Trade No.'] == trade_number),\n",
    "#                     ['Exit_Date', 'Exit_Price']\n",
    "#                 ] = [df.loc[i, 'datetime'] , df.loc[i, 'close']]\n",
    "#                 short_position = 0\n",
    "#                 can_add_short = False\n",
    "#                 trade_number += 1\n",
    "\n",
    "#             elif (df.loc[i, 'high'] >= y_days_high) and not can_add_short:\n",
    "#                 # Previous Y Candle High Breached, confirmation found. Add position on low break\n",
    "#                 can_add_short = True\n",
    "\n",
    "#             if can_add_short and short_position:\n",
    "#                 if df.loc[i, 'low'] <= y_days_low:\n",
    "#                     tradebook_short = pd.concat([tradebook_short, pd.DataFrame([{\n",
    "#                         'Trade No.': trade_number,\n",
    "#                         'Entry_Date': df.loc[i, 'datetime'],\n",
    "#                         'Exit_Date': None,\n",
    "#                         'Trade_Type': 'Add_Short',\n",
    "#                         'Entry_Price': y_days_low,\n",
    "#                         'Initial SL': short_initial_sl,\n",
    "#                         'Exit_Price': None,\n",
    "#                         # 'Profit/Loss': None  # Filled when exited\n",
    "#                     }])], ignore_index=True)\n",
    "#                     can_add_short = False\n",
    "    \n",
    "#     tradebook = pd.concat([tradebook_long, tradebook_short], ignore_index=True)\n",
    "#     return tradebook\n"
   ]
  },
  {
   "cell_type": "code",
   "execution_count": 264,
   "id": "544b98d6-373c-42cf-b1d7-59ab77d44902",
   "metadata": {
    "execution": {
     "iopub.execute_input": "2024-12-18T17:30:00.507762Z",
     "iopub.status.busy": "2024-12-18T17:30:00.507140Z",
     "iopub.status.idle": "2024-12-18T17:30:01.090640Z",
     "shell.execute_reply": "2024-12-18T17:30:01.089717Z",
     "shell.execute_reply.started": "2024-12-18T17:30:00.507736Z"
    },
    "scrolled": true
   },
   "outputs": [
    {
     "name": "stderr",
     "output_type": "stream",
     "text": [
      "/tmp/ipykernel_48125/2639050160.py:92: FutureWarning: Setting an item of incompatible dtype is deprecated and will raise an error in a future version of pandas. Value 'Trailing SL Hit' has dtype incompatible with float64, please explicitly cast to a compatible dtype first.\n",
      "  tradebook_long.loc[\n"
     ]
    }
   ],
   "source": [
    "ema_length = 55\n",
    "x_days = 9\n",
    "# y_days = 4\n",
    "pct = 0.5\n",
    "RPT = 5\n",
    "df = bnf_1min\n",
    "df = calculate_signals(df, ema_length,x_days, pct)\n",
    "# print(df.tail().to_string())\n",
    "# df1 = df[df['Buy_Signal']]\n",
    "# print(df1.to_string())\n",
    "tb = backtest(df)\n",
    "tb = tb.sort_values(by='Entry_Date')\n",
    "# variation = f'EMA: {ema_length}, X: {x_days}, Y: {y_days}, PCT: {pct}%, RPT: {RPT}%'"
   ]
  },
  {
   "cell_type": "code",
   "execution_count": 265,
   "id": "9d2a37eb-c52f-4e28-bffc-be8cb77b3830",
   "metadata": {
    "execution": {
     "iopub.execute_input": "2024-12-18T17:30:01.092291Z",
     "iopub.status.busy": "2024-12-18T17:30:01.092104Z",
     "iopub.status.idle": "2024-12-18T17:30:01.104340Z",
     "shell.execute_reply": "2024-12-18T17:30:01.103183Z",
     "shell.execute_reply.started": "2024-12-18T17:30:01.092277Z"
    },
    "scrolled": true
   },
   "outputs": [],
   "source": [
    "import numpy as np\n",
    "portfolio = 10000000\n",
    "tb['PnL'] = np.where(\n",
    "    tb['Trade_Type'].isin(['Long', 'Add_Long']),  # For Long and Add_Long\n",
    "    tb['Exit_Price'] - tb['Entry_Price'],\n",
    "    np.where(\n",
    "        tb['Trade_Type'].isin(['Short', 'Add_Short']),  # For Short and Add_Short\n",
    "        tb['Entry_Price'] - tb['Exit_Price'],\n",
    "        0  # Default case if Trade_Type is something unexpected\n",
    "    )\n",
    ")\n",
    "\n",
    "tb['Slippage'] = SLIPPAGE_ * (tb['Entry_Price'] + tb['Exit_Price'])\n",
    "tb['PnL w cs'] = tb['PnL'] - tb['Slippage']\n",
    "# tb['Qty'] = abs(RPT / 100 * portfolio / (tb['Entry_Price'] - tb['Initial SL']))\n",
    "tb['Qty'] = portfolio * 8 / tb['Entry_Price']\n",
    "tb['Profit_Loss INR'] = tb['Qty'] * tb['PnL w cs']\n",
    "tb['ROI%'] = tb['Profit_Loss INR'] * 100 / portfolio\n",
    "tb['Trade Year'] = tb['Entry_Date'].dt.year"
   ]
  },
  {
   "cell_type": "code",
   "execution_count": 266,
   "id": "fa5571b8-4afe-4f02-bf19-232c6992776a",
   "metadata": {
    "execution": {
     "iopub.execute_input": "2024-12-18T17:30:01.106160Z",
     "iopub.status.busy": "2024-12-18T17:30:01.105496Z",
     "iopub.status.idle": "2024-12-18T17:30:01.113370Z",
     "shell.execute_reply": "2024-12-18T17:30:01.112488Z",
     "shell.execute_reply.started": "2024-12-18T17:30:01.106135Z"
    }
   },
   "outputs": [],
   "source": [
    "# tb['Cumulative_PnL'] = tb['PnL w cs'].cumsum()"
   ]
  },
  {
   "cell_type": "code",
   "execution_count": 267,
   "id": "7da42fca-718f-43fd-8fb9-423c7beb8152",
   "metadata": {
    "execution": {
     "iopub.execute_input": "2024-12-18T17:30:01.115089Z",
     "iopub.status.busy": "2024-12-18T17:30:01.114919Z",
     "iopub.status.idle": "2024-12-18T17:30:01.123710Z",
     "shell.execute_reply": "2024-12-18T17:30:01.122732Z",
     "shell.execute_reply.started": "2024-12-18T17:30:01.115074Z"
    }
   },
   "outputs": [],
   "source": [
    "# tb.to_csv('GOLD TRADE CHECK JJPP.csv', index=False)"
   ]
  },
  {
   "cell_type": "code",
   "execution_count": 268,
   "id": "095a54f0-4c66-490f-97fd-e732e906e54b",
   "metadata": {
    "execution": {
     "iopub.execute_input": "2024-12-18T17:30:01.175708Z",
     "iopub.status.busy": "2024-12-18T17:30:01.175384Z",
     "iopub.status.idle": "2024-12-18T17:30:01.181382Z",
     "shell.execute_reply": "2024-12-18T17:30:01.180366Z",
     "shell.execute_reply.started": "2024-12-18T17:30:01.175691Z"
    },
    "scrolled": true
   },
   "outputs": [],
   "source": [
    "tb = tb.reset_index()\n",
    "# tb"
   ]
  },
  {
   "cell_type": "code",
   "execution_count": 269,
   "id": "42fd12dd-9e55-43ee-be9f-76a032557b9f",
   "metadata": {
    "execution": {
     "iopub.execute_input": "2024-12-18T17:30:01.426561Z",
     "iopub.status.busy": "2024-12-18T17:30:01.426156Z",
     "iopub.status.idle": "2024-12-18T17:30:01.432898Z",
     "shell.execute_reply": "2024-12-18T17:30:01.431957Z",
     "shell.execute_reply.started": "2024-12-18T17:30:01.426539Z"
    }
   },
   "outputs": [],
   "source": [
    "import matplotlib.pyplot as plt\n",
    "\n",
    "def plot_cumulative_pnl(tb, title=\"Cumulative PnL Over Time\"):\n",
    "    if 'Cumulative_PnL' not in tb.columns:\n",
    "        raise ValueError(\"The DataFrame must contain a 'Cumulative_PnL' column.\")\n",
    "\n",
    "    # Plot cumulative PnL\n",
    "    plt.figure(figsize=(12, 3))\n",
    "    plt.plot(tb.index, tb['Cumulative_PnL'], label='Cumulative PnL', color='blue', linewidth=2)\n",
    "    plt.title(title, fontsize=8)\n",
    "    plt.xlabel('Trade Index', fontsize=6)\n",
    "    plt.ylabel('Cumulative PnL', fontsize=6)\n",
    "    plt.legend(fontsize=6)\n",
    "    plt.grid(alpha=0.5)\n",
    "    plt.show()\n"
   ]
  },
  {
   "cell_type": "code",
   "execution_count": 270,
   "id": "de570f06-e560-4a18-b4fd-fe0ed1833130",
   "metadata": {
    "execution": {
     "iopub.execute_input": "2024-12-18T17:30:01.666640Z",
     "iopub.status.busy": "2024-12-18T17:30:01.666158Z",
     "iopub.status.idle": "2024-12-18T17:30:01.670832Z",
     "shell.execute_reply": "2024-12-18T17:30:01.669714Z",
     "shell.execute_reply.started": "2024-12-18T17:30:01.666621Z"
    }
   },
   "outputs": [],
   "source": [
    "# tb_long_only = tb[(tb['Trade_Type'] == 'Long') | (tb['Trade_Type'] == 'Add_Long')].copy()\n",
    "# tb_long_only['Cumulative_PnL'] = tb_long_only['PnL w cs'].cumsum()"
   ]
  },
  {
   "cell_type": "code",
   "execution_count": 271,
   "id": "2824479d-00d3-4c8f-9809-e7d52e99bf5d",
   "metadata": {
    "execution": {
     "iopub.execute_input": "2024-12-18T17:30:01.894118Z",
     "iopub.status.busy": "2024-12-18T17:30:01.893839Z",
     "iopub.status.idle": "2024-12-18T17:30:01.898810Z",
     "shell.execute_reply": "2024-12-18T17:30:01.897610Z",
     "shell.execute_reply.started": "2024-12-18T17:30:01.894100Z"
    }
   },
   "outputs": [],
   "source": [
    "# tb_long_only = tb_long_only[tb_long_only['Trade Year'] >= 2017]"
   ]
  },
  {
   "cell_type": "code",
   "execution_count": 272,
   "id": "96c0bbb0-8a62-43a4-9bbb-4a0a2ab1049a",
   "metadata": {
    "execution": {
     "iopub.execute_input": "2024-12-18T17:30:01.980019Z",
     "iopub.status.busy": "2024-12-18T17:30:01.979493Z",
     "iopub.status.idle": "2024-12-18T17:30:01.984814Z",
     "shell.execute_reply": "2024-12-18T17:30:01.983497Z",
     "shell.execute_reply.started": "2024-12-18T17:30:01.979995Z"
    },
    "jupyter": {
     "source_hidden": true
    }
   },
   "outputs": [],
   "source": [
    "# plot_cumulative_pnl(tb_long_only)\n",
    "# print(tb_long_only['PnL w cs'].sum())"
   ]
  },
  {
   "cell_type": "code",
   "execution_count": 273,
   "id": "58a626f9-7508-4157-853e-2207d2310e89",
   "metadata": {
    "execution": {
     "iopub.execute_input": "2024-12-18T17:30:02.158695Z",
     "iopub.status.busy": "2024-12-18T17:30:02.158338Z",
     "iopub.status.idle": "2024-12-18T17:30:02.163199Z",
     "shell.execute_reply": "2024-12-18T17:30:02.162027Z",
     "shell.execute_reply.started": "2024-12-18T17:30:02.158677Z"
    },
    "jupyter": {
     "source_hidden": true
    }
   },
   "outputs": [],
   "source": [
    "# plot_cumulative_pnl(tb_short_only)\n",
    "# print(tb_short_only['PnL w cs'].sum())"
   ]
  },
  {
   "cell_type": "code",
   "execution_count": 274,
   "id": "d529a44e-e6f3-43e3-ab6f-36277ec86a62",
   "metadata": {
    "execution": {
     "iopub.execute_input": "2024-12-18T17:30:02.285460Z",
     "iopub.status.busy": "2024-12-18T17:30:02.284255Z",
     "iopub.status.idle": "2024-12-18T17:30:02.289468Z",
     "shell.execute_reply": "2024-12-18T17:30:02.288024Z",
     "shell.execute_reply.started": "2024-12-18T17:30:02.285437Z"
    },
    "jupyter": {
     "source_hidden": true
    }
   },
   "outputs": [],
   "source": [
    "# plot_cumulative_pnl(tb)\n",
    "# print(tb['PnL w cs'].sum())"
   ]
  },
  {
   "cell_type": "code",
   "execution_count": 275,
   "id": "7244bad9-508f-4d00-a589-b0c4b9976679",
   "metadata": {
    "execution": {
     "iopub.execute_input": "2024-12-18T17:30:02.420516Z",
     "iopub.status.busy": "2024-12-18T17:30:02.420079Z",
     "iopub.status.idle": "2024-12-18T17:30:02.425144Z",
     "shell.execute_reply": "2024-12-18T17:30:02.424034Z",
     "shell.execute_reply.started": "2024-12-18T17:30:02.420487Z"
    },
    "jupyter": {
     "source_hidden": true
    },
    "scrolled": true
   },
   "outputs": [],
   "source": [
    "# plot_cumulative_pnl(tb2)\n",
    "# print(tb2['PnL w cs'].sum())"
   ]
  },
  {
   "cell_type": "code",
   "execution_count": 276,
   "id": "1973f6b1-8cdc-42de-901f-b6b08e480d5c",
   "metadata": {
    "execution": {
     "iopub.execute_input": "2024-12-18T17:30:02.666291Z",
     "iopub.status.busy": "2024-12-18T17:30:02.665837Z",
     "iopub.status.idle": "2024-12-18T17:30:02.674635Z",
     "shell.execute_reply": "2024-12-18T17:30:02.673674Z",
     "shell.execute_reply.started": "2024-12-18T17:30:02.666274Z"
    },
    "jupyter": {
     "source_hidden": true
    }
   },
   "outputs": [],
   "source": [
    "def generate_stats(tb_expiry, variation):\n",
    "    stats_df8 = pd.DataFrame(\n",
    "        index=range(2017, 2025),\n",
    "        columns=[\n",
    "            \"Total ROI\",\n",
    "            \"Total Trades\",\n",
    "            \"Win Rate\",\n",
    "            \"Avg Profit% per Trade\",\n",
    "            \"Avg Loss% per Trade\",\n",
    "            \"Max Drawdown\",\n",
    "            \"ROI/DD Ratio\",\n",
    "            \"Variation\",\n",
    "        ],\n",
    "    )\n",
    "    combined_df_sorted = tb_expiry\n",
    "    # combined_df_sorted = tb_expiry_ce\n",
    "    # combined_df_sorted = tb_expiry_pe\n",
    "    \n",
    "    # Iterate over each year\n",
    "    for year in range(2017, 2025):\n",
    "        # Filter trades for the current year\n",
    "        year_trades = combined_df_sorted[(combined_df_sorted[\"Trade Year\"] == year)]\n",
    "    \n",
    "        # Calculate total ROI\n",
    "        total_roi = year_trades[\"ROI%\"].sum()\n",
    "    \n",
    "        # Calculate total number of trades\n",
    "        total_trades = len(year_trades)\n",
    "    \n",
    "        # Calculate win rate\n",
    "        win_rate = (year_trades[\"ROI%\"] > 0).mean() * 100\n",
    "    \n",
    "        # Calculate average profit per trade\n",
    "        avg_profit = year_trades[year_trades[\"ROI%\"] > 0][\"ROI%\"].mean()\n",
    "    \n",
    "        # Calculate average loss per trade\n",
    "        avg_loss = year_trades[year_trades[\"ROI%\"] < 0][\"ROI%\"].mean()\n",
    "    \n",
    "        # Calculate maximum drawdown\n",
    "        max_drawdown = (\n",
    "            year_trades[\"ROI%\"].cumsum() - year_trades[\"ROI%\"].cumsum().cummax()\n",
    "        ).min()\n",
    "    \n",
    "        # Calculate ROI/DD ratio\n",
    "        roi_dd_ratio = total_roi / abs(max_drawdown)\n",
    "\n",
    "        variation = variation\n",
    "    \n",
    "        # Store the statistics in the DataFrame\n",
    "        stats_df8.loc[year] = [\n",
    "            total_roi,\n",
    "            total_trades,\n",
    "            win_rate,\n",
    "            avg_profit,\n",
    "            avg_loss,\n",
    "            max_drawdown,\n",
    "            roi_dd_ratio,\n",
    "            variation,\n",
    "        ]\n",
    "    \n",
    "    # Calculate overall statistics\n",
    "    overall_total_roi = stats_df8[\"Total ROI\"].sum()\n",
    "    overall_total_trades = stats_df8[\"Total Trades\"].sum()\n",
    "    overall_win_rate = (combined_df_sorted[\"ROI%\"] > 0).mean() * 100\n",
    "    overall_avg_profit = combined_df_sorted[combined_df_sorted[\"ROI%\"] > 0][\"ROI%\"].mean()\n",
    "    overall_avg_loss = combined_df_sorted[combined_df_sorted[\"ROI%\"] < 0][\"ROI%\"].mean()\n",
    "    overall_max_drawdown = (\n",
    "        combined_df_sorted[\"ROI%\"].cumsum() - combined_df_sorted[\"ROI%\"].cumsum().cummax()\n",
    "    ).min()\n",
    "    overall_roi_dd_ratio = overall_total_roi / abs(overall_max_drawdown)\n",
    "    overall_variation = variation\n",
    "\n",
    "    \n",
    "    # Store the overall statistics in the DataFrame\n",
    "    stats_df8.loc[\"Overall\"] = [\n",
    "        overall_total_roi,\n",
    "        overall_total_trades,\n",
    "        overall_win_rate,\n",
    "        overall_avg_profit,\n",
    "        overall_avg_loss,\n",
    "        overall_max_drawdown,\n",
    "        overall_roi_dd_ratio,\n",
    "        overall_variation,\n",
    "    ]\n",
    "    \n",
    "    # print(f'{overall_total_roi} , {overall_max_drawdown} , {overall_roi_dd_ratio}')\n",
    "    \n",
    "    return {overall_roi_dd_ratio: stats_df8}"
   ]
  },
  {
   "cell_type": "code",
   "execution_count": 277,
   "id": "938db9b0-6567-409a-9b16-690925e5ce28",
   "metadata": {
    "execution": {
     "iopub.execute_input": "2024-12-18T17:30:02.910654Z",
     "iopub.status.busy": "2024-12-18T17:30:02.910182Z",
     "iopub.status.idle": "2024-12-18T17:30:02.916473Z",
     "shell.execute_reply": "2024-12-18T17:30:02.915431Z",
     "shell.execute_reply.started": "2024-12-18T17:30:02.910624Z"
    }
   },
   "outputs": [],
   "source": [
    "tb['Entry_Date'] = pd.to_datetime(tb['Entry_Date'])\n",
    "tb['Trade Year'] = tb['Entry_Date'].dt.year\n",
    "# tb['ROI% w cs'] = tb['ROI%']"
   ]
  },
  {
   "cell_type": "code",
   "execution_count": 278,
   "id": "a4e10729-5889-49f6-8386-e32f6a921b36",
   "metadata": {
    "execution": {
     "iopub.execute_input": "2024-12-18T17:30:03.236606Z",
     "iopub.status.busy": "2024-12-18T17:30:03.235888Z",
     "iopub.status.idle": "2024-12-18T17:30:03.272643Z",
     "shell.execute_reply": "2024-12-18T17:30:03.271645Z",
     "shell.execute_reply.started": "2024-12-18T17:30:03.236575Z"
    }
   },
   "outputs": [
    {
     "data": {
      "text/html": [
       "<div>\n",
       "<style scoped>\n",
       "    .dataframe tbody tr th:only-of-type {\n",
       "        vertical-align: middle;\n",
       "    }\n",
       "\n",
       "    .dataframe tbody tr th {\n",
       "        vertical-align: top;\n",
       "    }\n",
       "\n",
       "    .dataframe thead th {\n",
       "        text-align: right;\n",
       "    }\n",
       "</style>\n",
       "<table border=\"1\" class=\"dataframe\">\n",
       "  <thead>\n",
       "    <tr style=\"text-align: right;\">\n",
       "      <th></th>\n",
       "      <th>Total ROI</th>\n",
       "      <th>Total Trades</th>\n",
       "      <th>Win Rate</th>\n",
       "      <th>Avg Profit% per Trade</th>\n",
       "      <th>Avg Loss% per Trade</th>\n",
       "      <th>Max Drawdown</th>\n",
       "      <th>ROI/DD Ratio</th>\n",
       "      <th>Variation</th>\n",
       "    </tr>\n",
       "  </thead>\n",
       "  <tbody>\n",
       "    <tr>\n",
       "      <th>2017</th>\n",
       "      <td>76.9392</td>\n",
       "      <td>21</td>\n",
       "      <td>52.3810</td>\n",
       "      <td>11.5031</td>\n",
       "      <td>-4.9594</td>\n",
       "      <td>-22.5814</td>\n",
       "      <td>3.4072</td>\n",
       "      <td>...</td>\n",
       "    </tr>\n",
       "    <tr>\n",
       "      <th>2018</th>\n",
       "      <td>106.1714</td>\n",
       "      <td>23</td>\n",
       "      <td>39.1304</td>\n",
       "      <td>16.9441</td>\n",
       "      <td>-3.3089</td>\n",
       "      <td>-19.6744</td>\n",
       "      <td>5.3964</td>\n",
       "      <td>...</td>\n",
       "    </tr>\n",
       "    <tr>\n",
       "      <th>2019</th>\n",
       "      <td>40.3755</td>\n",
       "      <td>29</td>\n",
       "      <td>34.4828</td>\n",
       "      <td>13.6922</td>\n",
       "      <td>-5.0814</td>\n",
       "      <td>-23.9593</td>\n",
       "      <td>1.6852</td>\n",
       "      <td>...</td>\n",
       "    </tr>\n",
       "    <tr>\n",
       "      <th>2020</th>\n",
       "      <td>266.9010</td>\n",
       "      <td>31</td>\n",
       "      <td>41.9355</td>\n",
       "      <td>29.7299</td>\n",
       "      <td>-6.6437</td>\n",
       "      <td>-39.3391</td>\n",
       "      <td>6.7846</td>\n",
       "      <td>...</td>\n",
       "    </tr>\n",
       "    <tr>\n",
       "      <th>2021</th>\n",
       "      <td>145.8137</td>\n",
       "      <td>29</td>\n",
       "      <td>27.5862</td>\n",
       "      <td>29.7870</td>\n",
       "      <td>-4.4039</td>\n",
       "      <td>-47.1156</td>\n",
       "      <td>3.0948</td>\n",
       "      <td>...</td>\n",
       "    </tr>\n",
       "    <tr>\n",
       "      <th>2022</th>\n",
       "      <td>69.4994</td>\n",
       "      <td>29</td>\n",
       "      <td>27.5862</td>\n",
       "      <td>22.7056</td>\n",
       "      <td>-5.3402</td>\n",
       "      <td>-45.4130</td>\n",
       "      <td>1.5304</td>\n",
       "      <td>...</td>\n",
       "    </tr>\n",
       "    <tr>\n",
       "      <th>2023</th>\n",
       "      <td>114.6783</td>\n",
       "      <td>20</td>\n",
       "      <td>40.0000</td>\n",
       "      <td>21.2529</td>\n",
       "      <td>-4.6121</td>\n",
       "      <td>-29.0234</td>\n",
       "      <td>3.9512</td>\n",
       "      <td>...</td>\n",
       "    </tr>\n",
       "    <tr>\n",
       "      <th>2024</th>\n",
       "      <td>62.3941</td>\n",
       "      <td>23</td>\n",
       "      <td>39.1304</td>\n",
       "      <td>14.7532</td>\n",
       "      <td>-5.4142</td>\n",
       "      <td>-23.0585</td>\n",
       "      <td>2.7059</td>\n",
       "      <td>...</td>\n",
       "    </tr>\n",
       "    <tr>\n",
       "      <th>Overall</th>\n",
       "      <td>882.7726</td>\n",
       "      <td>205</td>\n",
       "      <td>37.0732</td>\n",
       "      <td>20.0682</td>\n",
       "      <td>-5.0188</td>\n",
       "      <td>-47.1156</td>\n",
       "      <td>18.7363</td>\n",
       "      <td>...</td>\n",
       "    </tr>\n",
       "  </tbody>\n",
       "</table>\n",
       "</div>"
      ],
      "text/plain": [
       "        Total ROI Total Trades Win Rate Avg Profit% per Trade  \\\n",
       "2017      76.9392           21  52.3810               11.5031   \n",
       "2018     106.1714           23  39.1304               16.9441   \n",
       "2019      40.3755           29  34.4828               13.6922   \n",
       "2020     266.9010           31  41.9355               29.7299   \n",
       "2021     145.8137           29  27.5862               29.7870   \n",
       "2022      69.4994           29  27.5862               22.7056   \n",
       "2023     114.6783           20  40.0000               21.2529   \n",
       "2024      62.3941           23  39.1304               14.7532   \n",
       "Overall  882.7726          205  37.0732               20.0682   \n",
       "\n",
       "        Avg Loss% per Trade Max Drawdown ROI/DD Ratio Variation  \n",
       "2017                -4.9594     -22.5814       3.4072       ...  \n",
       "2018                -3.3089     -19.6744       5.3964       ...  \n",
       "2019                -5.0814     -23.9593       1.6852       ...  \n",
       "2020                -6.6437     -39.3391       6.7846       ...  \n",
       "2021                -4.4039     -47.1156       3.0948       ...  \n",
       "2022                -5.3402     -45.4130       1.5304       ...  \n",
       "2023                -4.6121     -29.0234       3.9512       ...  \n",
       "2024                -5.4142     -23.0585       2.7059       ...  \n",
       "Overall             -5.0188     -47.1156      18.7363       ...  "
      ]
     },
     "execution_count": 278,
     "metadata": {},
     "output_type": "execute_result"
    }
   ],
   "source": [
    "stats = generate_stats(tb, '...')\n",
    "lol = pd.DataFrame()\n",
    "for x, y in stats.items():\n",
    "    lol = pd.DataFrame(y)\n",
    "\n",
    "lol"
   ]
  },
  {
   "cell_type": "markdown",
   "id": "2551dda7-5013-42ee-9c38-147beabe4ee9",
   "metadata": {},
   "source": [
    "# Gold 4H X_Days High, Y_Days Low "
   ]
  },
  {
   "cell_type": "code",
   "execution_count": 279,
   "id": "557af72c-768d-4228-9dc3-6932a817a1a5",
   "metadata": {
    "execution": {
     "iopub.execute_input": "2024-12-18T17:30:08.709988Z",
     "iopub.status.busy": "2024-12-18T17:30:08.709047Z",
     "iopub.status.idle": "2024-12-18T17:30:08.719112Z",
     "shell.execute_reply": "2024-12-18T17:30:08.718264Z",
     "shell.execute_reply.started": "2024-12-18T17:30:08.709958Z"
    }
   },
   "outputs": [
    {
     "data": {
      "text/plain": [
       "(882.7725518465887, 0)"
      ]
     },
     "execution_count": 279,
     "metadata": {},
     "output_type": "execute_result"
    }
   ],
   "source": [
    "tb1 = tb[tb['Trade_Type'] == 'Long']\n",
    "tb2 = tb[tb['Trade_Type'] == 'Add_Long']\n",
    "tb1['ROI%'].sum() , tb2['ROI%'].sum()"
   ]
  },
  {
   "cell_type": "code",
   "execution_count": 281,
   "id": "97055e75-731e-4420-83a0-4c715364050a",
   "metadata": {
    "execution": {
     "iopub.execute_input": "2024-12-18T17:31:12.018606Z",
     "iopub.status.busy": "2024-12-18T17:31:12.017977Z",
     "iopub.status.idle": "2024-12-18T17:31:12.033890Z",
     "shell.execute_reply": "2024-12-18T17:31:12.032818Z",
     "shell.execute_reply.started": "2024-12-18T17:31:12.018581Z"
    },
    "scrolled": true
   },
   "outputs": [
    {
     "data": {
      "text/html": [
       "<div>\n",
       "<style scoped>\n",
       "    .dataframe tbody tr th:only-of-type {\n",
       "        vertical-align: middle;\n",
       "    }\n",
       "\n",
       "    .dataframe tbody tr th {\n",
       "        vertical-align: top;\n",
       "    }\n",
       "\n",
       "    .dataframe thead th {\n",
       "        text-align: right;\n",
       "    }\n",
       "</style>\n",
       "<table border=\"1\" class=\"dataframe\">\n",
       "  <thead>\n",
       "    <tr style=\"text-align: right;\">\n",
       "      <th></th>\n",
       "      <th>index</th>\n",
       "      <th>Trade No.</th>\n",
       "      <th>Entry_Date</th>\n",
       "      <th>Exit_Date</th>\n",
       "      <th>Trade_Type</th>\n",
       "      <th>Entry_Price</th>\n",
       "      <th>Previous MA Value</th>\n",
       "      <th>Initial SL</th>\n",
       "      <th>Exit_Price</th>\n",
       "      <th>Exit Remark</th>\n",
       "      <th>PnL</th>\n",
       "      <th>Slippage</th>\n",
       "      <th>PnL w cs</th>\n",
       "      <th>Qty</th>\n",
       "      <th>Profit_Loss INR</th>\n",
       "      <th>ROI%</th>\n",
       "      <th>Trade Year</th>\n",
       "    </tr>\n",
       "  </thead>\n",
       "  <tbody>\n",
       "    <tr>\n",
       "      <th>180</th>\n",
       "      <td>180</td>\n",
       "      <td>180</td>\n",
       "      <td>2023-11-03 09:15:00+05:30</td>\n",
       "      <td>2023-12-20 14:15:00+05:30</td>\n",
       "      <td>Long</td>\n",
       "      <td>64493.7000</td>\n",
       "      <td>63997.8500</td>\n",
       "      <td>63947.5322</td>\n",
       "      <td>70494.5300</td>\n",
       "      <td>Trailing SL Hit</td>\n",
       "      <td>6000.8300</td>\n",
       "      <td>13.4988</td>\n",
       "      <td>5987.3312</td>\n",
       "      <td>1240.4312</td>\n",
       "      <td>7426872.6117</td>\n",
       "      <td>74.2687</td>\n",
       "      <td>2023</td>\n",
       "    </tr>\n",
       "    <tr>\n",
       "      <th>181</th>\n",
       "      <td>181</td>\n",
       "      <td>181</td>\n",
       "      <td>2023-12-22 09:15:00+05:30</td>\n",
       "      <td>2024-01-02 10:15:00+05:30</td>\n",
       "      <td>Long</td>\n",
       "      <td>71143.0500</td>\n",
       "      <td>70764.7544</td>\n",
       "      <td>70483.7589</td>\n",
       "      <td>71698.8000</td>\n",
       "      <td>Trailing SL Hit</td>\n",
       "      <td>555.7500</td>\n",
       "      <td>14.2842</td>\n",
       "      <td>541.4658</td>\n",
       "      <td>1124.4949</td>\n",
       "      <td>608875.5711</td>\n",
       "      <td>6.0888</td>\n",
       "      <td>2023</td>\n",
       "    </tr>\n",
       "    <tr>\n",
       "      <th>182</th>\n",
       "      <td>182</td>\n",
       "      <td>182</td>\n",
       "      <td>2024-01-12 09:15:00+05:30</td>\n",
       "      <td>2024-01-17 09:15:00+05:30</td>\n",
       "      <td>Long</td>\n",
       "      <td>72283.9700</td>\n",
       "      <td>71817.7067</td>\n",
       "      <td>71704.5244</td>\n",
       "      <td>72282.2200</td>\n",
       "      <td>Trailing SL Hit</td>\n",
       "      <td>-1.7500</td>\n",
       "      <td>14.4566</td>\n",
       "      <td>-16.2066</td>\n",
       "      <td>1106.7461</td>\n",
       "      <td>-17936.6119</td>\n",
       "      <td>-0.1794</td>\n",
       "      <td>2024</td>\n",
       "    </tr>\n",
       "    <tr>\n",
       "      <th>183</th>\n",
       "      <td>183</td>\n",
       "      <td>183</td>\n",
       "      <td>2024-01-29 09:15:00+05:30</td>\n",
       "      <td>2024-01-30 14:15:00+05:30</td>\n",
       "      <td>Long</td>\n",
       "      <td>71397.8800</td>\n",
       "      <td>70820.7911</td>\n",
       "      <td>70543.9900</td>\n",
       "      <td>71170.0700</td>\n",
       "      <td>Trailing SL Hit</td>\n",
       "      <td>-227.8100</td>\n",
       "      <td>14.2568</td>\n",
       "      <td>-242.0668</td>\n",
       "      <td>1120.4814</td>\n",
       "      <td>-271231.3531</td>\n",
       "      <td>-2.7123</td>\n",
       "      <td>2024</td>\n",
       "    </tr>\n",
       "    <tr>\n",
       "      <th>184</th>\n",
       "      <td>184</td>\n",
       "      <td>184</td>\n",
       "      <td>2024-02-02 09:15:00+05:30</td>\n",
       "      <td>2024-02-05 14:15:00+05:30</td>\n",
       "      <td>Long</td>\n",
       "      <td>72418.5000</td>\n",
       "      <td>71880.8878</td>\n",
       "      <td>71691.3678</td>\n",
       "      <td>71691.3678</td>\n",
       "      <td>Initial SL Hit</td>\n",
       "      <td>-727.1322</td>\n",
       "      <td>14.4110</td>\n",
       "      <td>-741.5432</td>\n",
       "      <td>1104.6901</td>\n",
       "      <td>-819175.4416</td>\n",
       "      <td>-8.1918</td>\n",
       "      <td>2024</td>\n",
       "    </tr>\n",
       "    <tr>\n",
       "      <th>185</th>\n",
       "      <td>185</td>\n",
       "      <td>185</td>\n",
       "      <td>2024-02-14 15:15:00+05:30</td>\n",
       "      <td>2024-02-22 09:15:00+05:30</td>\n",
       "      <td>Long</td>\n",
       "      <td>71833.7400</td>\n",
       "      <td>71458.6022</td>\n",
       "      <td>71233.7833</td>\n",
       "      <td>72243.6500</td>\n",
       "      <td>Trailing SL Hit</td>\n",
       "      <td>409.9100</td>\n",
       "      <td>14.4077</td>\n",
       "      <td>395.5023</td>\n",
       "      <td>1113.6828</td>\n",
       "      <td>440464.0616</td>\n",
       "      <td>4.4046</td>\n",
       "      <td>2024</td>\n",
       "    </tr>\n",
       "    <tr>\n",
       "      <th>186</th>\n",
       "      <td>186</td>\n",
       "      <td>186</td>\n",
       "      <td>2024-02-22 14:15:00+05:30</td>\n",
       "      <td>2024-02-28 10:15:00+05:30</td>\n",
       "      <td>Long</td>\n",
       "      <td>73137.9000</td>\n",
       "      <td>72730.0944</td>\n",
       "      <td>72363.9567</td>\n",
       "      <td>72677.6400</td>\n",
       "      <td>Trailing SL Hit</td>\n",
       "      <td>-460.2600</td>\n",
       "      <td>14.5816</td>\n",
       "      <td>-474.8416</td>\n",
       "      <td>1093.8241</td>\n",
       "      <td>-519393.1507</td>\n",
       "      <td>-5.1939</td>\n",
       "      <td>2024</td>\n",
       "    </tr>\n",
       "    <tr>\n",
       "      <th>187</th>\n",
       "      <td>187</td>\n",
       "      <td>187</td>\n",
       "      <td>2024-03-01 09:15:00+05:30</td>\n",
       "      <td>2024-03-11 14:15:00+05:30</td>\n",
       "      <td>Long</td>\n",
       "      <td>73204.1500</td>\n",
       "      <td>72534.7033</td>\n",
       "      <td>72288.6544</td>\n",
       "      <td>73499.3200</td>\n",
       "      <td>Trailing SL Hit</td>\n",
       "      <td>295.1700</td>\n",
       "      <td>14.6703</td>\n",
       "      <td>280.4997</td>\n",
       "      <td>1092.8342</td>\n",
       "      <td>306539.6189</td>\n",
       "      <td>3.0654</td>\n",
       "      <td>2024</td>\n",
       "    </tr>\n",
       "    <tr>\n",
       "      <th>188</th>\n",
       "      <td>188</td>\n",
       "      <td>188</td>\n",
       "      <td>2024-03-21 09:15:00+05:30</td>\n",
       "      <td>2024-03-21 11:15:00+05:30</td>\n",
       "      <td>Long</td>\n",
       "      <td>72845.6200</td>\n",
       "      <td>72193.1533</td>\n",
       "      <td>72022.3356</td>\n",
       "      <td>72447.3800</td>\n",
       "      <td>Trailing SL Hit</td>\n",
       "      <td>-398.2400</td>\n",
       "      <td>14.5293</td>\n",
       "      <td>-412.7693</td>\n",
       "      <td>1098.2129</td>\n",
       "      <td>-453308.5723</td>\n",
       "      <td>-4.5331</td>\n",
       "      <td>2024</td>\n",
       "    </tr>\n",
       "    <tr>\n",
       "      <th>189</th>\n",
       "      <td>189</td>\n",
       "      <td>189</td>\n",
       "      <td>2024-03-28 09:15:00+05:30</td>\n",
       "      <td>2024-04-12 13:15:00+05:30</td>\n",
       "      <td>Long</td>\n",
       "      <td>73594.9400</td>\n",
       "      <td>72957.8933</td>\n",
       "      <td>72866.5067</td>\n",
       "      <td>74326.5700</td>\n",
       "      <td>Trailing SL Hit</td>\n",
       "      <td>731.6300</td>\n",
       "      <td>14.7922</td>\n",
       "      <td>716.8378</td>\n",
       "      <td>1087.0313</td>\n",
       "      <td>779225.1467</td>\n",
       "      <td>7.7923</td>\n",
       "      <td>2024</td>\n",
       "    </tr>\n",
       "    <tr>\n",
       "      <th>190</th>\n",
       "      <td>190</td>\n",
       "      <td>190</td>\n",
       "      <td>2024-04-23 09:15:00+05:30</td>\n",
       "      <td>2024-04-26 14:15:00+05:30</td>\n",
       "      <td>Long</td>\n",
       "      <td>73934.6400</td>\n",
       "      <td>73512.0811</td>\n",
       "      <td>73391.9722</td>\n",
       "      <td>73732.4700</td>\n",
       "      <td>Trailing SL Hit</td>\n",
       "      <td>-202.1700</td>\n",
       "      <td>14.7667</td>\n",
       "      <td>-216.9367</td>\n",
       "      <td>1082.0368</td>\n",
       "      <td>-234733.5008</td>\n",
       "      <td>-2.3473</td>\n",
       "      <td>2024</td>\n",
       "    </tr>\n",
       "    <tr>\n",
       "      <th>191</th>\n",
       "      <td>191</td>\n",
       "      <td>191</td>\n",
       "      <td>2024-04-29 13:15:00+05:30</td>\n",
       "      <td>2024-05-03 11:15:00+05:30</td>\n",
       "      <td>Long</td>\n",
       "      <td>74582.2600</td>\n",
       "      <td>74196.9589</td>\n",
       "      <td>74022.2333</td>\n",
       "      <td>74022.2333</td>\n",
       "      <td>Initial SL Hit</td>\n",
       "      <td>-560.0267</td>\n",
       "      <td>14.8604</td>\n",
       "      <td>-574.8871</td>\n",
       "      <td>1072.6411</td>\n",
       "      <td>-616647.5685</td>\n",
       "      <td>-6.1665</td>\n",
       "      <td>2024</td>\n",
       "    </tr>\n",
       "    <tr>\n",
       "      <th>192</th>\n",
       "      <td>192</td>\n",
       "      <td>192</td>\n",
       "      <td>2024-05-16 14:15:00+05:30</td>\n",
       "      <td>2024-05-29 09:15:00+05:30</td>\n",
       "      <td>Long</td>\n",
       "      <td>73645.7700</td>\n",
       "      <td>73138.6111</td>\n",
       "      <td>72790.9200</td>\n",
       "      <td>74735.6200</td>\n",
       "      <td>Trailing SL Hit</td>\n",
       "      <td>1089.8500</td>\n",
       "      <td>14.8381</td>\n",
       "      <td>1075.0119</td>\n",
       "      <td>1086.2810</td>\n",
       "      <td>1167764.9494</td>\n",
       "      <td>11.6776</td>\n",
       "      <td>2024</td>\n",
       "    </tr>\n",
       "    <tr>\n",
       "      <th>193</th>\n",
       "      <td>193</td>\n",
       "      <td>193</td>\n",
       "      <td>2024-06-03 09:15:00+05:30</td>\n",
       "      <td>2024-06-04 09:15:00+05:30</td>\n",
       "      <td>Long</td>\n",
       "      <td>76101.7700</td>\n",
       "      <td>74210.7478</td>\n",
       "      <td>74133.0533</td>\n",
       "      <td>74133.0533</td>\n",
       "      <td>Initial SL Hit</td>\n",
       "      <td>-1968.7167</td>\n",
       "      <td>15.0235</td>\n",
       "      <td>-1983.7401</td>\n",
       "      <td>1051.2239</td>\n",
       "      <td>-2085355.0702</td>\n",
       "      <td>-20.8536</td>\n",
       "      <td>2024</td>\n",
       "    </tr>\n",
       "    <tr>\n",
       "      <th>194</th>\n",
       "      <td>194</td>\n",
       "      <td>194</td>\n",
       "      <td>2024-06-05 14:15:00+05:30</td>\n",
       "      <td>2024-07-10 10:15:00+05:30</td>\n",
       "      <td>Long</td>\n",
       "      <td>74431.1600</td>\n",
       "      <td>73250.7367</td>\n",
       "      <td>72603.6222</td>\n",
       "      <td>79610.2600</td>\n",
       "      <td>Trailing SL Hit</td>\n",
       "      <td>5179.1000</td>\n",
       "      <td>15.4041</td>\n",
       "      <td>5163.6959</td>\n",
       "      <td>1074.8187</td>\n",
       "      <td>5550036.6868</td>\n",
       "      <td>55.5004</td>\n",
       "      <td>2024</td>\n",
       "    </tr>\n",
       "    <tr>\n",
       "      <th>195</th>\n",
       "      <td>195</td>\n",
       "      <td>195</td>\n",
       "      <td>2024-07-12 10:15:00+05:30</td>\n",
       "      <td>2024-07-22 12:15:00+05:30</td>\n",
       "      <td>Long</td>\n",
       "      <td>80625.4100</td>\n",
       "      <td>79959.9589</td>\n",
       "      <td>79737.9011</td>\n",
       "      <td>80447.0300</td>\n",
       "      <td>Trailing SL Hit</td>\n",
       "      <td>-178.3800</td>\n",
       "      <td>16.1072</td>\n",
       "      <td>-194.4872</td>\n",
       "      <td>992.2430</td>\n",
       "      <td>-192978.6096</td>\n",
       "      <td>-1.9298</td>\n",
       "      <td>2024</td>\n",
       "    </tr>\n",
       "    <tr>\n",
       "      <th>196</th>\n",
       "      <td>196</td>\n",
       "      <td>196</td>\n",
       "      <td>2024-07-26 09:15:00+05:30</td>\n",
       "      <td>2024-08-02 09:15:00+05:30</td>\n",
       "      <td>Long</td>\n",
       "      <td>80534.8700</td>\n",
       "      <td>80052.0589</td>\n",
       "      <td>79860.1044</td>\n",
       "      <td>81126.7400</td>\n",
       "      <td>Trailing SL Hit</td>\n",
       "      <td>591.8700</td>\n",
       "      <td>16.1662</td>\n",
       "      <td>575.7038</td>\n",
       "      <td>993.3585</td>\n",
       "      <td>571880.3187</td>\n",
       "      <td>5.7188</td>\n",
       "      <td>2024</td>\n",
       "    </tr>\n",
       "    <tr>\n",
       "      <th>197</th>\n",
       "      <td>197</td>\n",
       "      <td>197</td>\n",
       "      <td>2024-08-16 09:15:00+05:30</td>\n",
       "      <td>2024-08-16 10:15:00+05:30</td>\n",
       "      <td>Long</td>\n",
       "      <td>79591.3500</td>\n",
       "      <td>79136.8544</td>\n",
       "      <td>79059.5222</td>\n",
       "      <td>79416.2800</td>\n",
       "      <td>Trailing SL Hit</td>\n",
       "      <td>-175.0700</td>\n",
       "      <td>15.9008</td>\n",
       "      <td>-190.9708</td>\n",
       "      <td>1005.1344</td>\n",
       "      <td>-191951.2741</td>\n",
       "      <td>-1.9195</td>\n",
       "      <td>2024</td>\n",
       "    </tr>\n",
       "    <tr>\n",
       "      <th>198</th>\n",
       "      <td>198</td>\n",
       "      <td>198</td>\n",
       "      <td>2024-08-16 11:15:00+05:30</td>\n",
       "      <td>2024-09-06 09:15:00+05:30</td>\n",
       "      <td>Long</td>\n",
       "      <td>80051.0900</td>\n",
       "      <td>79306.8100</td>\n",
       "      <td>79161.4778</td>\n",
       "      <td>81434.0600</td>\n",
       "      <td>Trailing SL Hit</td>\n",
       "      <td>1382.9700</td>\n",
       "      <td>16.1485</td>\n",
       "      <td>1366.8215</td>\n",
       "      <td>999.3618</td>\n",
       "      <td>1365949.1557</td>\n",
       "      <td>13.6595</td>\n",
       "      <td>2024</td>\n",
       "    </tr>\n",
       "    <tr>\n",
       "      <th>199</th>\n",
       "      <td>199</td>\n",
       "      <td>199</td>\n",
       "      <td>2024-09-10 12:15:00+05:30</td>\n",
       "      <td>2024-09-11 13:15:00+05:30</td>\n",
       "      <td>Long</td>\n",
       "      <td>82095.7200</td>\n",
       "      <td>81602.0967</td>\n",
       "      <td>81448.4478</td>\n",
       "      <td>81594.0100</td>\n",
       "      <td>Trailing SL Hit</td>\n",
       "      <td>-501.7100</td>\n",
       "      <td>16.3690</td>\n",
       "      <td>-518.0790</td>\n",
       "      <td>974.4722</td>\n",
       "      <td>-504853.5763</td>\n",
       "      <td>-5.0485</td>\n",
       "      <td>2024</td>\n",
       "    </tr>\n",
       "    <tr>\n",
       "      <th>200</th>\n",
       "      <td>200</td>\n",
       "      <td>200</td>\n",
       "      <td>2024-09-12 13:15:00+05:30</td>\n",
       "      <td>2024-09-30 11:15:00+05:30</td>\n",
       "      <td>Long</td>\n",
       "      <td>82373.8600</td>\n",
       "      <td>81878.0844</td>\n",
       "      <td>81614.6211</td>\n",
       "      <td>84595.5900</td>\n",
       "      <td>Trailing SL Hit</td>\n",
       "      <td>2221.7300</td>\n",
       "      <td>16.6969</td>\n",
       "      <td>2205.0331</td>\n",
       "      <td>971.1819</td>\n",
       "      <td>2141488.1420</td>\n",
       "      <td>21.4149</td>\n",
       "      <td>2024</td>\n",
       "    </tr>\n",
       "    <tr>\n",
       "      <th>201</th>\n",
       "      <td>201</td>\n",
       "      <td>201</td>\n",
       "      <td>2024-11-06 09:15:00+05:30</td>\n",
       "      <td>2024-11-07 09:15:00+05:30</td>\n",
       "      <td>Long</td>\n",
       "      <td>80001.9700</td>\n",
       "      <td>79018.9200</td>\n",
       "      <td>78774.1089</td>\n",
       "      <td>79520.6700</td>\n",
       "      <td>Trailing SL Hit</td>\n",
       "      <td>-481.3000</td>\n",
       "      <td>15.9523</td>\n",
       "      <td>-497.2523</td>\n",
       "      <td>999.9754</td>\n",
       "      <td>-497240.0195</td>\n",
       "      <td>-4.9724</td>\n",
       "      <td>2024</td>\n",
       "    </tr>\n",
       "    <tr>\n",
       "      <th>202</th>\n",
       "      <td>202</td>\n",
       "      <td>202</td>\n",
       "      <td>2024-11-11 10:15:00+05:30</td>\n",
       "      <td>2024-11-11 13:15:00+05:30</td>\n",
       "      <td>Long</td>\n",
       "      <td>80016.8900</td>\n",
       "      <td>79584.5300</td>\n",
       "      <td>79291.0978</td>\n",
       "      <td>79399.0000</td>\n",
       "      <td>Trailing SL Hit</td>\n",
       "      <td>-617.8900</td>\n",
       "      <td>15.9416</td>\n",
       "      <td>-633.8316</td>\n",
       "      <td>999.7889</td>\n",
       "      <td>-633697.7996</td>\n",
       "      <td>-6.3370</td>\n",
       "      <td>2024</td>\n",
       "    </tr>\n",
       "    <tr>\n",
       "      <th>203</th>\n",
       "      <td>203</td>\n",
       "      <td>203</td>\n",
       "      <td>2024-11-22 12:15:00+05:30</td>\n",
       "      <td>2024-11-28 12:15:00+05:30</td>\n",
       "      <td>Long</td>\n",
       "      <td>78286.2500</td>\n",
       "      <td>77459.7167</td>\n",
       "      <td>77287.3589</td>\n",
       "      <td>79236.1200</td>\n",
       "      <td>Trailing SL Hit</td>\n",
       "      <td>949.8700</td>\n",
       "      <td>15.7522</td>\n",
       "      <td>934.1178</td>\n",
       "      <td>1021.8908</td>\n",
       "      <td>954566.3643</td>\n",
       "      <td>9.5457</td>\n",
       "      <td>2024</td>\n",
       "    </tr>\n",
       "    <tr>\n",
       "      <th>204</th>\n",
       "      <td>204</td>\n",
       "      <td>204</td>\n",
       "      <td>2024-12-03 09:15:00+05:30</td>\n",
       "      <td>None</td>\n",
       "      <td>Long</td>\n",
       "      <td>80458.5200</td>\n",
       "      <td>80010.1767</td>\n",
       "      <td>79832.0589</td>\n",
       "      <td>None</td>\n",
       "      <td>NaN</td>\n",
       "      <td>NaN</td>\n",
       "      <td>NaN</td>\n",
       "      <td>NaN</td>\n",
       "      <td>994.3012</td>\n",
       "      <td>NaN</td>\n",
       "      <td>NaN</td>\n",
       "      <td>2024</td>\n",
       "    </tr>\n",
       "  </tbody>\n",
       "</table>\n",
       "</div>"
      ],
      "text/plain": [
       "     index  Trade No.                Entry_Date                  Exit_Date  \\\n",
       "180    180        180 2023-11-03 09:15:00+05:30  2023-12-20 14:15:00+05:30   \n",
       "181    181        181 2023-12-22 09:15:00+05:30  2024-01-02 10:15:00+05:30   \n",
       "182    182        182 2024-01-12 09:15:00+05:30  2024-01-17 09:15:00+05:30   \n",
       "183    183        183 2024-01-29 09:15:00+05:30  2024-01-30 14:15:00+05:30   \n",
       "184    184        184 2024-02-02 09:15:00+05:30  2024-02-05 14:15:00+05:30   \n",
       "185    185        185 2024-02-14 15:15:00+05:30  2024-02-22 09:15:00+05:30   \n",
       "186    186        186 2024-02-22 14:15:00+05:30  2024-02-28 10:15:00+05:30   \n",
       "187    187        187 2024-03-01 09:15:00+05:30  2024-03-11 14:15:00+05:30   \n",
       "188    188        188 2024-03-21 09:15:00+05:30  2024-03-21 11:15:00+05:30   \n",
       "189    189        189 2024-03-28 09:15:00+05:30  2024-04-12 13:15:00+05:30   \n",
       "190    190        190 2024-04-23 09:15:00+05:30  2024-04-26 14:15:00+05:30   \n",
       "191    191        191 2024-04-29 13:15:00+05:30  2024-05-03 11:15:00+05:30   \n",
       "192    192        192 2024-05-16 14:15:00+05:30  2024-05-29 09:15:00+05:30   \n",
       "193    193        193 2024-06-03 09:15:00+05:30  2024-06-04 09:15:00+05:30   \n",
       "194    194        194 2024-06-05 14:15:00+05:30  2024-07-10 10:15:00+05:30   \n",
       "195    195        195 2024-07-12 10:15:00+05:30  2024-07-22 12:15:00+05:30   \n",
       "196    196        196 2024-07-26 09:15:00+05:30  2024-08-02 09:15:00+05:30   \n",
       "197    197        197 2024-08-16 09:15:00+05:30  2024-08-16 10:15:00+05:30   \n",
       "198    198        198 2024-08-16 11:15:00+05:30  2024-09-06 09:15:00+05:30   \n",
       "199    199        199 2024-09-10 12:15:00+05:30  2024-09-11 13:15:00+05:30   \n",
       "200    200        200 2024-09-12 13:15:00+05:30  2024-09-30 11:15:00+05:30   \n",
       "201    201        201 2024-11-06 09:15:00+05:30  2024-11-07 09:15:00+05:30   \n",
       "202    202        202 2024-11-11 10:15:00+05:30  2024-11-11 13:15:00+05:30   \n",
       "203    203        203 2024-11-22 12:15:00+05:30  2024-11-28 12:15:00+05:30   \n",
       "204    204        204 2024-12-03 09:15:00+05:30                       None   \n",
       "\n",
       "    Trade_Type  Entry_Price  Previous MA Value  Initial SL Exit_Price  \\\n",
       "180       Long   64493.7000         63997.8500  63947.5322 70494.5300   \n",
       "181       Long   71143.0500         70764.7544  70483.7589 71698.8000   \n",
       "182       Long   72283.9700         71817.7067  71704.5244 72282.2200   \n",
       "183       Long   71397.8800         70820.7911  70543.9900 71170.0700   \n",
       "184       Long   72418.5000         71880.8878  71691.3678 71691.3678   \n",
       "185       Long   71833.7400         71458.6022  71233.7833 72243.6500   \n",
       "186       Long   73137.9000         72730.0944  72363.9567 72677.6400   \n",
       "187       Long   73204.1500         72534.7033  72288.6544 73499.3200   \n",
       "188       Long   72845.6200         72193.1533  72022.3356 72447.3800   \n",
       "189       Long   73594.9400         72957.8933  72866.5067 74326.5700   \n",
       "190       Long   73934.6400         73512.0811  73391.9722 73732.4700   \n",
       "191       Long   74582.2600         74196.9589  74022.2333 74022.2333   \n",
       "192       Long   73645.7700         73138.6111  72790.9200 74735.6200   \n",
       "193       Long   76101.7700         74210.7478  74133.0533 74133.0533   \n",
       "194       Long   74431.1600         73250.7367  72603.6222 79610.2600   \n",
       "195       Long   80625.4100         79959.9589  79737.9011 80447.0300   \n",
       "196       Long   80534.8700         80052.0589  79860.1044 81126.7400   \n",
       "197       Long   79591.3500         79136.8544  79059.5222 79416.2800   \n",
       "198       Long   80051.0900         79306.8100  79161.4778 81434.0600   \n",
       "199       Long   82095.7200         81602.0967  81448.4478 81594.0100   \n",
       "200       Long   82373.8600         81878.0844  81614.6211 84595.5900   \n",
       "201       Long   80001.9700         79018.9200  78774.1089 79520.6700   \n",
       "202       Long   80016.8900         79584.5300  79291.0978 79399.0000   \n",
       "203       Long   78286.2500         77459.7167  77287.3589 79236.1200   \n",
       "204       Long   80458.5200         80010.1767  79832.0589       None   \n",
       "\n",
       "         Exit Remark        PnL Slippage   PnL w cs       Qty Profit_Loss INR  \\\n",
       "180  Trailing SL Hit  6000.8300  13.4988  5987.3312 1240.4312    7426872.6117   \n",
       "181  Trailing SL Hit   555.7500  14.2842   541.4658 1124.4949     608875.5711   \n",
       "182  Trailing SL Hit    -1.7500  14.4566   -16.2066 1106.7461     -17936.6119   \n",
       "183  Trailing SL Hit  -227.8100  14.2568  -242.0668 1120.4814    -271231.3531   \n",
       "184   Initial SL Hit  -727.1322  14.4110  -741.5432 1104.6901    -819175.4416   \n",
       "185  Trailing SL Hit   409.9100  14.4077   395.5023 1113.6828     440464.0616   \n",
       "186  Trailing SL Hit  -460.2600  14.5816  -474.8416 1093.8241    -519393.1507   \n",
       "187  Trailing SL Hit   295.1700  14.6703   280.4997 1092.8342     306539.6189   \n",
       "188  Trailing SL Hit  -398.2400  14.5293  -412.7693 1098.2129    -453308.5723   \n",
       "189  Trailing SL Hit   731.6300  14.7922   716.8378 1087.0313     779225.1467   \n",
       "190  Trailing SL Hit  -202.1700  14.7667  -216.9367 1082.0368    -234733.5008   \n",
       "191   Initial SL Hit  -560.0267  14.8604  -574.8871 1072.6411    -616647.5685   \n",
       "192  Trailing SL Hit  1089.8500  14.8381  1075.0119 1086.2810    1167764.9494   \n",
       "193   Initial SL Hit -1968.7167  15.0235 -1983.7401 1051.2239   -2085355.0702   \n",
       "194  Trailing SL Hit  5179.1000  15.4041  5163.6959 1074.8187    5550036.6868   \n",
       "195  Trailing SL Hit  -178.3800  16.1072  -194.4872  992.2430    -192978.6096   \n",
       "196  Trailing SL Hit   591.8700  16.1662   575.7038  993.3585     571880.3187   \n",
       "197  Trailing SL Hit  -175.0700  15.9008  -190.9708 1005.1344    -191951.2741   \n",
       "198  Trailing SL Hit  1382.9700  16.1485  1366.8215  999.3618    1365949.1557   \n",
       "199  Trailing SL Hit  -501.7100  16.3690  -518.0790  974.4722    -504853.5763   \n",
       "200  Trailing SL Hit  2221.7300  16.6969  2205.0331  971.1819    2141488.1420   \n",
       "201  Trailing SL Hit  -481.3000  15.9523  -497.2523  999.9754    -497240.0195   \n",
       "202  Trailing SL Hit  -617.8900  15.9416  -633.8316  999.7889    -633697.7996   \n",
       "203  Trailing SL Hit   949.8700  15.7522   934.1178 1021.8908     954566.3643   \n",
       "204              NaN        NaN      NaN        NaN  994.3012             NaN   \n",
       "\n",
       "        ROI%  Trade Year  \n",
       "180  74.2687        2023  \n",
       "181   6.0888        2023  \n",
       "182  -0.1794        2024  \n",
       "183  -2.7123        2024  \n",
       "184  -8.1918        2024  \n",
       "185   4.4046        2024  \n",
       "186  -5.1939        2024  \n",
       "187   3.0654        2024  \n",
       "188  -4.5331        2024  \n",
       "189   7.7923        2024  \n",
       "190  -2.3473        2024  \n",
       "191  -6.1665        2024  \n",
       "192  11.6776        2024  \n",
       "193 -20.8536        2024  \n",
       "194  55.5004        2024  \n",
       "195  -1.9298        2024  \n",
       "196   5.7188        2024  \n",
       "197  -1.9195        2024  \n",
       "198  13.6595        2024  \n",
       "199  -5.0485        2024  \n",
       "200  21.4149        2024  \n",
       "201  -4.9724        2024  \n",
       "202  -6.3370        2024  \n",
       "203   9.5457        2024  \n",
       "204      NaN        2024  "
      ]
     },
     "execution_count": 281,
     "metadata": {},
     "output_type": "execute_result"
    }
   ],
   "source": [
    "tb.tail(25)"
   ]
  },
  {
   "cell_type": "code",
   "execution_count": 108,
   "id": "a194fb70-ba76-4395-826d-df4b06ec176d",
   "metadata": {
    "execution": {
     "iopub.execute_input": "2024-12-18T12:12:34.570329Z",
     "iopub.status.busy": "2024-12-18T12:12:34.569651Z",
     "iopub.status.idle": "2024-12-18T12:12:34.595077Z",
     "shell.execute_reply": "2024-12-18T12:12:34.593561Z",
     "shell.execute_reply.started": "2024-12-18T12:12:34.570285Z"
    },
    "scrolled": true
   },
   "outputs": [],
   "source": [
    "tb.to_csv('SENSEX_jjpp_55_9_HALF_PCT_0_PYR.csv')"
   ]
  },
  {
   "cell_type": "code",
   "execution_count": 50,
   "id": "1706cc8b-5462-435e-a9bf-0fa4a7f542c7",
   "metadata": {
    "execution": {
     "iopub.execute_input": "2024-12-18T04:29:29.179617Z",
     "iopub.status.busy": "2024-12-18T04:29:29.179237Z",
     "iopub.status.idle": "2024-12-18T04:29:29.188528Z",
     "shell.execute_reply": "2024-12-18T04:29:29.187530Z",
     "shell.execute_reply.started": "2024-12-18T04:29:29.179602Z"
    }
   },
   "outputs": [],
   "source": [
    "# tb_long_only.to_csv('GOLD Range JJPP.csv', index=False)"
   ]
  },
  {
   "cell_type": "code",
   "execution_count": 51,
   "id": "0e9ca4bf-86fe-4e78-967e-575c6a8d69b4",
   "metadata": {
    "execution": {
     "iopub.execute_input": "2024-12-18T04:29:29.190136Z",
     "iopub.status.busy": "2024-12-18T04:29:29.189576Z",
     "iopub.status.idle": "2024-12-18T04:29:29.201176Z",
     "shell.execute_reply": "2024-12-18T04:29:29.200111Z",
     "shell.execute_reply.started": "2024-12-18T04:29:29.190110Z"
    }
   },
   "outputs": [],
   "source": [
    "tb_long_only_1 = tb_long_only[tb_long_only['Trade_Type'] == 'Add_Long']\n",
    "tb_long_only_2 = tb_long_only[tb_long_only['Trade_Type'] == 'Long']"
   ]
  },
  {
   "cell_type": "code",
   "execution_count": 52,
   "id": "40d8d7f9-3ec2-4926-bf57-d081603016b5",
   "metadata": {
    "execution": {
     "iopub.execute_input": "2024-12-18T04:29:29.282669Z",
     "iopub.status.busy": "2024-12-18T04:29:29.282068Z",
     "iopub.status.idle": "2024-12-18T04:29:29.288887Z",
     "shell.execute_reply": "2024-12-18T04:29:29.287643Z",
     "shell.execute_reply.started": "2024-12-18T04:29:29.282652Z"
    }
   },
   "outputs": [
    {
     "data": {
      "text/plain": [
       "(41.66300366972138, 194.59838974405739)"
      ]
     },
     "execution_count": 52,
     "metadata": {},
     "output_type": "execute_result"
    }
   ],
   "source": [
    "tb_long_only_1['ROI%'].sum() , tb_long_only_2['ROI%'].sum()"
   ]
  },
  {
   "cell_type": "code",
   "execution_count": 110,
   "id": "25678f46-885a-4bfb-b2e9-f931209225ed",
   "metadata": {
    "execution": {
     "iopub.execute_input": "2024-12-18T12:43:05.953587Z",
     "iopub.status.busy": "2024-12-18T12:43:05.952930Z",
     "iopub.status.idle": "2024-12-18T12:47:07.294237Z",
     "shell.execute_reply": "2024-12-18T12:47:07.293146Z",
     "shell.execute_reply.started": "2024-12-18T12:43:05.953567Z"
    },
    "scrolled": true
   },
   "outputs": [
    {
     "name": "stdout",
     "output_type": "stream",
     "text": [
      "EMA:25, X:4, PCT:0.25\n"
     ]
    },
    {
     "name": "stderr",
     "output_type": "stream",
     "text": [
      "/tmp/ipykernel_48125/2724525255.py:90: FutureWarning: Setting an item of incompatible dtype is deprecated and will raise an error in a future version of pandas. Value 'Trailing SL Hit' has dtype incompatible with float64, please explicitly cast to a compatible dtype first.\n",
      "  tradebook_long.loc[\n"
     ]
    },
    {
     "name": "stdout",
     "output_type": "stream",
     "text": [
      "EMA:25, X:4, PCT:0.5\n"
     ]
    },
    {
     "name": "stderr",
     "output_type": "stream",
     "text": [
      "/tmp/ipykernel_48125/2724525255.py:90: FutureWarning: Setting an item of incompatible dtype is deprecated and will raise an error in a future version of pandas. Value 'Trailing SL Hit' has dtype incompatible with float64, please explicitly cast to a compatible dtype first.\n",
      "  tradebook_long.loc[\n"
     ]
    },
    {
     "name": "stdout",
     "output_type": "stream",
     "text": [
      "EMA:25, X:4, PCT:0.75\n"
     ]
    },
    {
     "name": "stderr",
     "output_type": "stream",
     "text": [
      "/tmp/ipykernel_48125/2724525255.py:90: FutureWarning: Setting an item of incompatible dtype is deprecated and will raise an error in a future version of pandas. Value 'Trailing SL Hit' has dtype incompatible with float64, please explicitly cast to a compatible dtype first.\n",
      "  tradebook_long.loc[\n"
     ]
    },
    {
     "name": "stdout",
     "output_type": "stream",
     "text": [
      "EMA:25, X:4, PCT:1\n"
     ]
    },
    {
     "name": "stderr",
     "output_type": "stream",
     "text": [
      "/tmp/ipykernel_48125/2724525255.py:90: FutureWarning: Setting an item of incompatible dtype is deprecated and will raise an error in a future version of pandas. Value 'Trailing SL Hit' has dtype incompatible with float64, please explicitly cast to a compatible dtype first.\n",
      "  tradebook_long.loc[\n",
      "/tmp/ipykernel_48125/2611632047.py:45: RuntimeWarning: divide by zero encountered in scalar divide\n",
      "  roi_dd_ratio = total_roi / abs(max_drawdown)\n",
      "/tmp/ipykernel_48125/2724525255.py:90: FutureWarning: Setting an item of incompatible dtype is deprecated and will raise an error in a future version of pandas. Value 'Trailing SL Hit' has dtype incompatible with float64, please explicitly cast to a compatible dtype first.\n",
      "  tradebook_long.loc[\n"
     ]
    },
    {
     "name": "stdout",
     "output_type": "stream",
     "text": [
      "EMA:25, X:8, PCT:0.25\n",
      "EMA:25, X:8, PCT:0.5\n"
     ]
    },
    {
     "name": "stderr",
     "output_type": "stream",
     "text": [
      "/tmp/ipykernel_48125/2724525255.py:90: FutureWarning: Setting an item of incompatible dtype is deprecated and will raise an error in a future version of pandas. Value 'Trailing SL Hit' has dtype incompatible with float64, please explicitly cast to a compatible dtype first.\n",
      "  tradebook_long.loc[\n"
     ]
    },
    {
     "name": "stdout",
     "output_type": "stream",
     "text": [
      "EMA:25, X:8, PCT:0.75\n"
     ]
    },
    {
     "name": "stderr",
     "output_type": "stream",
     "text": [
      "/tmp/ipykernel_48125/2724525255.py:90: FutureWarning: Setting an item of incompatible dtype is deprecated and will raise an error in a future version of pandas. Value 'Trailing SL Hit' has dtype incompatible with float64, please explicitly cast to a compatible dtype first.\n",
      "  tradebook_long.loc[\n"
     ]
    },
    {
     "name": "stdout",
     "output_type": "stream",
     "text": [
      "EMA:25, X:8, PCT:1\n"
     ]
    },
    {
     "name": "stderr",
     "output_type": "stream",
     "text": [
      "/tmp/ipykernel_48125/2724525255.py:90: FutureWarning: Setting an item of incompatible dtype is deprecated and will raise an error in a future version of pandas. Value 'Trailing SL Hit' has dtype incompatible with float64, please explicitly cast to a compatible dtype first.\n",
      "  tradebook_long.loc[\n"
     ]
    },
    {
     "name": "stdout",
     "output_type": "stream",
     "text": [
      "EMA:25, X:12, PCT:0.25\n"
     ]
    },
    {
     "name": "stderr",
     "output_type": "stream",
     "text": [
      "/tmp/ipykernel_48125/2724525255.py:90: FutureWarning: Setting an item of incompatible dtype is deprecated and will raise an error in a future version of pandas. Value 'Trailing SL Hit' has dtype incompatible with float64, please explicitly cast to a compatible dtype first.\n",
      "  tradebook_long.loc[\n"
     ]
    },
    {
     "name": "stdout",
     "output_type": "stream",
     "text": [
      "EMA:25, X:12, PCT:0.5\n"
     ]
    },
    {
     "name": "stderr",
     "output_type": "stream",
     "text": [
      "/tmp/ipykernel_48125/2724525255.py:90: FutureWarning: Setting an item of incompatible dtype is deprecated and will raise an error in a future version of pandas. Value 'Trailing SL Hit' has dtype incompatible with float64, please explicitly cast to a compatible dtype first.\n",
      "  tradebook_long.loc[\n"
     ]
    },
    {
     "name": "stdout",
     "output_type": "stream",
     "text": [
      "EMA:25, X:12, PCT:0.75\n"
     ]
    },
    {
     "name": "stderr",
     "output_type": "stream",
     "text": [
      "/tmp/ipykernel_48125/2724525255.py:90: FutureWarning: Setting an item of incompatible dtype is deprecated and will raise an error in a future version of pandas. Value 'Trailing SL Hit' has dtype incompatible with float64, please explicitly cast to a compatible dtype first.\n",
      "  tradebook_long.loc[\n"
     ]
    },
    {
     "name": "stdout",
     "output_type": "stream",
     "text": [
      "EMA:25, X:12, PCT:1\n"
     ]
    },
    {
     "name": "stderr",
     "output_type": "stream",
     "text": [
      "/tmp/ipykernel_48125/2724525255.py:90: FutureWarning: Setting an item of incompatible dtype is deprecated and will raise an error in a future version of pandas. Value 'Trailing SL Hit' has dtype incompatible with float64, please explicitly cast to a compatible dtype first.\n",
      "  tradebook_long.loc[\n"
     ]
    },
    {
     "name": "stdout",
     "output_type": "stream",
     "text": [
      "EMA:25, X:16, PCT:0.25\n"
     ]
    },
    {
     "name": "stderr",
     "output_type": "stream",
     "text": [
      "/tmp/ipykernel_48125/2724525255.py:90: FutureWarning: Setting an item of incompatible dtype is deprecated and will raise an error in a future version of pandas. Value 'Trailing SL Hit' has dtype incompatible with float64, please explicitly cast to a compatible dtype first.\n",
      "  tradebook_long.loc[\n"
     ]
    },
    {
     "name": "stdout",
     "output_type": "stream",
     "text": [
      "EMA:25, X:16, PCT:0.5\n"
     ]
    },
    {
     "name": "stderr",
     "output_type": "stream",
     "text": [
      "/tmp/ipykernel_48125/2724525255.py:90: FutureWarning: Setting an item of incompatible dtype is deprecated and will raise an error in a future version of pandas. Value 'Trailing SL Hit' has dtype incompatible with float64, please explicitly cast to a compatible dtype first.\n",
      "  tradebook_long.loc[\n"
     ]
    },
    {
     "name": "stdout",
     "output_type": "stream",
     "text": [
      "EMA:25, X:16, PCT:0.75\n"
     ]
    },
    {
     "name": "stderr",
     "output_type": "stream",
     "text": [
      "/tmp/ipykernel_48125/2724525255.py:90: FutureWarning: Setting an item of incompatible dtype is deprecated and will raise an error in a future version of pandas. Value 'Trailing SL Hit' has dtype incompatible with float64, please explicitly cast to a compatible dtype first.\n",
      "  tradebook_long.loc[\n"
     ]
    },
    {
     "name": "stdout",
     "output_type": "stream",
     "text": [
      "EMA:25, X:16, PCT:1\n"
     ]
    },
    {
     "name": "stderr",
     "output_type": "stream",
     "text": [
      "/tmp/ipykernel_48125/2724525255.py:90: FutureWarning: Setting an item of incompatible dtype is deprecated and will raise an error in a future version of pandas. Value 'Trailing SL Hit' has dtype incompatible with float64, please explicitly cast to a compatible dtype first.\n",
      "  tradebook_long.loc[\n"
     ]
    },
    {
     "name": "stdout",
     "output_type": "stream",
     "text": [
      "EMA:25, X:20, PCT:0.25\n"
     ]
    },
    {
     "name": "stderr",
     "output_type": "stream",
     "text": [
      "/tmp/ipykernel_48125/2724525255.py:90: FutureWarning: Setting an item of incompatible dtype is deprecated and will raise an error in a future version of pandas. Value 'Trailing SL Hit' has dtype incompatible with float64, please explicitly cast to a compatible dtype first.\n",
      "  tradebook_long.loc[\n"
     ]
    },
    {
     "name": "stdout",
     "output_type": "stream",
     "text": [
      "EMA:25, X:20, PCT:0.5\n"
     ]
    },
    {
     "name": "stderr",
     "output_type": "stream",
     "text": [
      "/tmp/ipykernel_48125/2724525255.py:90: FutureWarning: Setting an item of incompatible dtype is deprecated and will raise an error in a future version of pandas. Value 'Trailing SL Hit' has dtype incompatible with float64, please explicitly cast to a compatible dtype first.\n",
      "  tradebook_long.loc[\n"
     ]
    },
    {
     "name": "stdout",
     "output_type": "stream",
     "text": [
      "EMA:25, X:20, PCT:0.75\n"
     ]
    },
    {
     "name": "stderr",
     "output_type": "stream",
     "text": [
      "/tmp/ipykernel_48125/2724525255.py:90: FutureWarning: Setting an item of incompatible dtype is deprecated and will raise an error in a future version of pandas. Value 'Trailing SL Hit' has dtype incompatible with float64, please explicitly cast to a compatible dtype first.\n",
      "  tradebook_long.loc[\n"
     ]
    },
    {
     "name": "stdout",
     "output_type": "stream",
     "text": [
      "EMA:25, X:20, PCT:1\n"
     ]
    },
    {
     "name": "stderr",
     "output_type": "stream",
     "text": [
      "/tmp/ipykernel_48125/2724525255.py:90: FutureWarning: Setting an item of incompatible dtype is deprecated and will raise an error in a future version of pandas. Value 'Trailing SL Hit' has dtype incompatible with float64, please explicitly cast to a compatible dtype first.\n",
      "  tradebook_long.loc[\n"
     ]
    },
    {
     "name": "stdout",
     "output_type": "stream",
     "text": [
      "EMA:25, X:24, PCT:0.25\n"
     ]
    },
    {
     "name": "stderr",
     "output_type": "stream",
     "text": [
      "/tmp/ipykernel_48125/2724525255.py:90: FutureWarning: Setting an item of incompatible dtype is deprecated and will raise an error in a future version of pandas. Value 'Trailing SL Hit' has dtype incompatible with float64, please explicitly cast to a compatible dtype first.\n",
      "  tradebook_long.loc[\n"
     ]
    },
    {
     "name": "stdout",
     "output_type": "stream",
     "text": [
      "EMA:25, X:24, PCT:0.5\n"
     ]
    },
    {
     "name": "stderr",
     "output_type": "stream",
     "text": [
      "/tmp/ipykernel_48125/2724525255.py:90: FutureWarning: Setting an item of incompatible dtype is deprecated and will raise an error in a future version of pandas. Value 'Trailing SL Hit' has dtype incompatible with float64, please explicitly cast to a compatible dtype first.\n",
      "  tradebook_long.loc[\n"
     ]
    },
    {
     "name": "stdout",
     "output_type": "stream",
     "text": [
      "EMA:25, X:24, PCT:0.75\n"
     ]
    },
    {
     "name": "stderr",
     "output_type": "stream",
     "text": [
      "/tmp/ipykernel_48125/2724525255.py:90: FutureWarning: Setting an item of incompatible dtype is deprecated and will raise an error in a future version of pandas. Value 'Trailing SL Hit' has dtype incompatible with float64, please explicitly cast to a compatible dtype first.\n",
      "  tradebook_long.loc[\n"
     ]
    },
    {
     "name": "stdout",
     "output_type": "stream",
     "text": [
      "EMA:25, X:24, PCT:1\n"
     ]
    },
    {
     "name": "stderr",
     "output_type": "stream",
     "text": [
      "/tmp/ipykernel_48125/2724525255.py:90: FutureWarning: Setting an item of incompatible dtype is deprecated and will raise an error in a future version of pandas. Value 'Trailing SL Hit' has dtype incompatible with float64, please explicitly cast to a compatible dtype first.\n",
      "  tradebook_long.loc[\n"
     ]
    },
    {
     "name": "stdout",
     "output_type": "stream",
     "text": [
      "EMA:25, X:28, PCT:0.25\n"
     ]
    },
    {
     "name": "stderr",
     "output_type": "stream",
     "text": [
      "/tmp/ipykernel_48125/2724525255.py:90: FutureWarning: Setting an item of incompatible dtype is deprecated and will raise an error in a future version of pandas. Value 'Trailing SL Hit' has dtype incompatible with float64, please explicitly cast to a compatible dtype first.\n",
      "  tradebook_long.loc[\n"
     ]
    },
    {
     "name": "stdout",
     "output_type": "stream",
     "text": [
      "EMA:25, X:28, PCT:0.5\n"
     ]
    },
    {
     "name": "stderr",
     "output_type": "stream",
     "text": [
      "/tmp/ipykernel_48125/2724525255.py:90: FutureWarning: Setting an item of incompatible dtype is deprecated and will raise an error in a future version of pandas. Value 'Trailing SL Hit' has dtype incompatible with float64, please explicitly cast to a compatible dtype first.\n",
      "  tradebook_long.loc[\n"
     ]
    },
    {
     "name": "stdout",
     "output_type": "stream",
     "text": [
      "EMA:25, X:28, PCT:0.75\n"
     ]
    },
    {
     "name": "stderr",
     "output_type": "stream",
     "text": [
      "/tmp/ipykernel_48125/2724525255.py:90: FutureWarning: Setting an item of incompatible dtype is deprecated and will raise an error in a future version of pandas. Value 'Trailing SL Hit' has dtype incompatible with float64, please explicitly cast to a compatible dtype first.\n",
      "  tradebook_long.loc[\n"
     ]
    },
    {
     "name": "stdout",
     "output_type": "stream",
     "text": [
      "EMA:25, X:28, PCT:1\n"
     ]
    },
    {
     "name": "stderr",
     "output_type": "stream",
     "text": [
      "/tmp/ipykernel_48125/2724525255.py:90: FutureWarning: Setting an item of incompatible dtype is deprecated and will raise an error in a future version of pandas. Value 'Trailing SL Hit' has dtype incompatible with float64, please explicitly cast to a compatible dtype first.\n",
      "  tradebook_long.loc[\n"
     ]
    },
    {
     "name": "stdout",
     "output_type": "stream",
     "text": [
      "EMA:25, X:32, PCT:0.25\n"
     ]
    },
    {
     "name": "stderr",
     "output_type": "stream",
     "text": [
      "/tmp/ipykernel_48125/2724525255.py:90: FutureWarning: Setting an item of incompatible dtype is deprecated and will raise an error in a future version of pandas. Value 'Trailing SL Hit' has dtype incompatible with float64, please explicitly cast to a compatible dtype first.\n",
      "  tradebook_long.loc[\n"
     ]
    },
    {
     "name": "stdout",
     "output_type": "stream",
     "text": [
      "EMA:25, X:32, PCT:0.5\n"
     ]
    },
    {
     "name": "stderr",
     "output_type": "stream",
     "text": [
      "/tmp/ipykernel_48125/2724525255.py:90: FutureWarning: Setting an item of incompatible dtype is deprecated and will raise an error in a future version of pandas. Value 'Trailing SL Hit' has dtype incompatible with float64, please explicitly cast to a compatible dtype first.\n",
      "  tradebook_long.loc[\n"
     ]
    },
    {
     "name": "stdout",
     "output_type": "stream",
     "text": [
      "EMA:25, X:32, PCT:0.75\n"
     ]
    },
    {
     "name": "stderr",
     "output_type": "stream",
     "text": [
      "/tmp/ipykernel_48125/2724525255.py:90: FutureWarning: Setting an item of incompatible dtype is deprecated and will raise an error in a future version of pandas. Value 'Trailing SL Hit' has dtype incompatible with float64, please explicitly cast to a compatible dtype first.\n",
      "  tradebook_long.loc[\n"
     ]
    },
    {
     "name": "stdout",
     "output_type": "stream",
     "text": [
      "EMA:25, X:32, PCT:1\n"
     ]
    },
    {
     "name": "stderr",
     "output_type": "stream",
     "text": [
      "/tmp/ipykernel_48125/2724525255.py:90: FutureWarning: Setting an item of incompatible dtype is deprecated and will raise an error in a future version of pandas. Value 'Trailing SL Hit' has dtype incompatible with float64, please explicitly cast to a compatible dtype first.\n",
      "  tradebook_long.loc[\n"
     ]
    },
    {
     "name": "stdout",
     "output_type": "stream",
     "text": [
      "EMA:25, X:36, PCT:0.25\n"
     ]
    },
    {
     "name": "stderr",
     "output_type": "stream",
     "text": [
      "/tmp/ipykernel_48125/2724525255.py:90: FutureWarning: Setting an item of incompatible dtype is deprecated and will raise an error in a future version of pandas. Value 'Trailing SL Hit' has dtype incompatible with float64, please explicitly cast to a compatible dtype first.\n",
      "  tradebook_long.loc[\n"
     ]
    },
    {
     "name": "stdout",
     "output_type": "stream",
     "text": [
      "EMA:25, X:36, PCT:0.5\n"
     ]
    },
    {
     "name": "stderr",
     "output_type": "stream",
     "text": [
      "/tmp/ipykernel_48125/2724525255.py:90: FutureWarning: Setting an item of incompatible dtype is deprecated and will raise an error in a future version of pandas. Value 'Trailing SL Hit' has dtype incompatible with float64, please explicitly cast to a compatible dtype first.\n",
      "  tradebook_long.loc[\n"
     ]
    },
    {
     "name": "stdout",
     "output_type": "stream",
     "text": [
      "EMA:25, X:36, PCT:0.75\n"
     ]
    },
    {
     "name": "stderr",
     "output_type": "stream",
     "text": [
      "/tmp/ipykernel_48125/2724525255.py:90: FutureWarning: Setting an item of incompatible dtype is deprecated and will raise an error in a future version of pandas. Value 'Trailing SL Hit' has dtype incompatible with float64, please explicitly cast to a compatible dtype first.\n",
      "  tradebook_long.loc[\n"
     ]
    },
    {
     "name": "stdout",
     "output_type": "stream",
     "text": [
      "EMA:25, X:36, PCT:1\n"
     ]
    },
    {
     "name": "stderr",
     "output_type": "stream",
     "text": [
      "/tmp/ipykernel_48125/2724525255.py:90: FutureWarning: Setting an item of incompatible dtype is deprecated and will raise an error in a future version of pandas. Value 'Trailing SL Hit' has dtype incompatible with float64, please explicitly cast to a compatible dtype first.\n",
      "  tradebook_long.loc[\n"
     ]
    },
    {
     "name": "stdout",
     "output_type": "stream",
     "text": [
      "EMA:30, X:4, PCT:0.25\n"
     ]
    },
    {
     "name": "stderr",
     "output_type": "stream",
     "text": [
      "/tmp/ipykernel_48125/2724525255.py:90: FutureWarning: Setting an item of incompatible dtype is deprecated and will raise an error in a future version of pandas. Value 'Trailing SL Hit' has dtype incompatible with float64, please explicitly cast to a compatible dtype first.\n",
      "  tradebook_long.loc[\n"
     ]
    },
    {
     "name": "stdout",
     "output_type": "stream",
     "text": [
      "EMA:30, X:4, PCT:0.5\n"
     ]
    },
    {
     "name": "stderr",
     "output_type": "stream",
     "text": [
      "/tmp/ipykernel_48125/2724525255.py:90: FutureWarning: Setting an item of incompatible dtype is deprecated and will raise an error in a future version of pandas. Value 'Trailing SL Hit' has dtype incompatible with float64, please explicitly cast to a compatible dtype first.\n",
      "  tradebook_long.loc[\n"
     ]
    },
    {
     "name": "stdout",
     "output_type": "stream",
     "text": [
      "EMA:30, X:4, PCT:0.75\n"
     ]
    },
    {
     "name": "stderr",
     "output_type": "stream",
     "text": [
      "/tmp/ipykernel_48125/2724525255.py:90: FutureWarning: Setting an item of incompatible dtype is deprecated and will raise an error in a future version of pandas. Value 'Trailing SL Hit' has dtype incompatible with float64, please explicitly cast to a compatible dtype first.\n",
      "  tradebook_long.loc[\n"
     ]
    },
    {
     "name": "stdout",
     "output_type": "stream",
     "text": [
      "EMA:30, X:4, PCT:1\n"
     ]
    },
    {
     "name": "stderr",
     "output_type": "stream",
     "text": [
      "/tmp/ipykernel_48125/2724525255.py:90: FutureWarning: Setting an item of incompatible dtype is deprecated and will raise an error in a future version of pandas. Value 'Trailing SL Hit' has dtype incompatible with float64, please explicitly cast to a compatible dtype first.\n",
      "  tradebook_long.loc[\n",
      "/tmp/ipykernel_48125/2611632047.py:45: RuntimeWarning: divide by zero encountered in scalar divide\n",
      "  roi_dd_ratio = total_roi / abs(max_drawdown)\n",
      "/tmp/ipykernel_48125/2724525255.py:90: FutureWarning: Setting an item of incompatible dtype is deprecated and will raise an error in a future version of pandas. Value 'Trailing SL Hit' has dtype incompatible with float64, please explicitly cast to a compatible dtype first.\n",
      "  tradebook_long.loc[\n"
     ]
    },
    {
     "name": "stdout",
     "output_type": "stream",
     "text": [
      "EMA:30, X:8, PCT:0.25\n",
      "EMA:30, X:8, PCT:0.5\n"
     ]
    },
    {
     "name": "stderr",
     "output_type": "stream",
     "text": [
      "/tmp/ipykernel_48125/2724525255.py:90: FutureWarning: Setting an item of incompatible dtype is deprecated and will raise an error in a future version of pandas. Value 'Trailing SL Hit' has dtype incompatible with float64, please explicitly cast to a compatible dtype first.\n",
      "  tradebook_long.loc[\n"
     ]
    },
    {
     "name": "stdout",
     "output_type": "stream",
     "text": [
      "EMA:30, X:8, PCT:0.75\n"
     ]
    },
    {
     "name": "stderr",
     "output_type": "stream",
     "text": [
      "/tmp/ipykernel_48125/2724525255.py:90: FutureWarning: Setting an item of incompatible dtype is deprecated and will raise an error in a future version of pandas. Value 'Trailing SL Hit' has dtype incompatible with float64, please explicitly cast to a compatible dtype first.\n",
      "  tradebook_long.loc[\n"
     ]
    },
    {
     "name": "stdout",
     "output_type": "stream",
     "text": [
      "EMA:30, X:8, PCT:1\n"
     ]
    },
    {
     "name": "stderr",
     "output_type": "stream",
     "text": [
      "/tmp/ipykernel_48125/2724525255.py:90: FutureWarning: Setting an item of incompatible dtype is deprecated and will raise an error in a future version of pandas. Value 'Trailing SL Hit' has dtype incompatible with float64, please explicitly cast to a compatible dtype first.\n",
      "  tradebook_long.loc[\n"
     ]
    },
    {
     "name": "stdout",
     "output_type": "stream",
     "text": [
      "EMA:30, X:12, PCT:0.25\n"
     ]
    },
    {
     "name": "stderr",
     "output_type": "stream",
     "text": [
      "/tmp/ipykernel_48125/2724525255.py:90: FutureWarning: Setting an item of incompatible dtype is deprecated and will raise an error in a future version of pandas. Value 'Trailing SL Hit' has dtype incompatible with float64, please explicitly cast to a compatible dtype first.\n",
      "  tradebook_long.loc[\n"
     ]
    },
    {
     "name": "stdout",
     "output_type": "stream",
     "text": [
      "EMA:30, X:12, PCT:0.5\n"
     ]
    },
    {
     "name": "stderr",
     "output_type": "stream",
     "text": [
      "/tmp/ipykernel_48125/2724525255.py:90: FutureWarning: Setting an item of incompatible dtype is deprecated and will raise an error in a future version of pandas. Value 'Trailing SL Hit' has dtype incompatible with float64, please explicitly cast to a compatible dtype first.\n",
      "  tradebook_long.loc[\n"
     ]
    },
    {
     "name": "stdout",
     "output_type": "stream",
     "text": [
      "EMA:30, X:12, PCT:0.75\n"
     ]
    },
    {
     "name": "stderr",
     "output_type": "stream",
     "text": [
      "/tmp/ipykernel_48125/2724525255.py:90: FutureWarning: Setting an item of incompatible dtype is deprecated and will raise an error in a future version of pandas. Value 'Trailing SL Hit' has dtype incompatible with float64, please explicitly cast to a compatible dtype first.\n",
      "  tradebook_long.loc[\n"
     ]
    },
    {
     "name": "stdout",
     "output_type": "stream",
     "text": [
      "EMA:30, X:12, PCT:1\n"
     ]
    },
    {
     "name": "stderr",
     "output_type": "stream",
     "text": [
      "/tmp/ipykernel_48125/2724525255.py:90: FutureWarning: Setting an item of incompatible dtype is deprecated and will raise an error in a future version of pandas. Value 'Trailing SL Hit' has dtype incompatible with float64, please explicitly cast to a compatible dtype first.\n",
      "  tradebook_long.loc[\n"
     ]
    },
    {
     "name": "stdout",
     "output_type": "stream",
     "text": [
      "EMA:30, X:16, PCT:0.25\n"
     ]
    },
    {
     "name": "stderr",
     "output_type": "stream",
     "text": [
      "/tmp/ipykernel_48125/2724525255.py:90: FutureWarning: Setting an item of incompatible dtype is deprecated and will raise an error in a future version of pandas. Value 'Trailing SL Hit' has dtype incompatible with float64, please explicitly cast to a compatible dtype first.\n",
      "  tradebook_long.loc[\n"
     ]
    },
    {
     "name": "stdout",
     "output_type": "stream",
     "text": [
      "EMA:30, X:16, PCT:0.5\n"
     ]
    },
    {
     "name": "stderr",
     "output_type": "stream",
     "text": [
      "/tmp/ipykernel_48125/2724525255.py:90: FutureWarning: Setting an item of incompatible dtype is deprecated and will raise an error in a future version of pandas. Value 'Trailing SL Hit' has dtype incompatible with float64, please explicitly cast to a compatible dtype first.\n",
      "  tradebook_long.loc[\n"
     ]
    },
    {
     "name": "stdout",
     "output_type": "stream",
     "text": [
      "EMA:30, X:16, PCT:0.75\n"
     ]
    },
    {
     "name": "stderr",
     "output_type": "stream",
     "text": [
      "/tmp/ipykernel_48125/2724525255.py:90: FutureWarning: Setting an item of incompatible dtype is deprecated and will raise an error in a future version of pandas. Value 'Trailing SL Hit' has dtype incompatible with float64, please explicitly cast to a compatible dtype first.\n",
      "  tradebook_long.loc[\n"
     ]
    },
    {
     "name": "stdout",
     "output_type": "stream",
     "text": [
      "EMA:30, X:16, PCT:1\n"
     ]
    },
    {
     "name": "stderr",
     "output_type": "stream",
     "text": [
      "/tmp/ipykernel_48125/2724525255.py:90: FutureWarning: Setting an item of incompatible dtype is deprecated and will raise an error in a future version of pandas. Value 'Trailing SL Hit' has dtype incompatible with float64, please explicitly cast to a compatible dtype first.\n",
      "  tradebook_long.loc[\n"
     ]
    },
    {
     "name": "stdout",
     "output_type": "stream",
     "text": [
      "EMA:30, X:20, PCT:0.25\n"
     ]
    },
    {
     "name": "stderr",
     "output_type": "stream",
     "text": [
      "/tmp/ipykernel_48125/2724525255.py:90: FutureWarning: Setting an item of incompatible dtype is deprecated and will raise an error in a future version of pandas. Value 'Trailing SL Hit' has dtype incompatible with float64, please explicitly cast to a compatible dtype first.\n",
      "  tradebook_long.loc[\n"
     ]
    },
    {
     "name": "stdout",
     "output_type": "stream",
     "text": [
      "EMA:30, X:20, PCT:0.5\n"
     ]
    },
    {
     "name": "stderr",
     "output_type": "stream",
     "text": [
      "/tmp/ipykernel_48125/2724525255.py:90: FutureWarning: Setting an item of incompatible dtype is deprecated and will raise an error in a future version of pandas. Value 'Trailing SL Hit' has dtype incompatible with float64, please explicitly cast to a compatible dtype first.\n",
      "  tradebook_long.loc[\n"
     ]
    },
    {
     "name": "stdout",
     "output_type": "stream",
     "text": [
      "EMA:30, X:20, PCT:0.75\n"
     ]
    },
    {
     "name": "stderr",
     "output_type": "stream",
     "text": [
      "/tmp/ipykernel_48125/2724525255.py:90: FutureWarning: Setting an item of incompatible dtype is deprecated and will raise an error in a future version of pandas. Value 'Trailing SL Hit' has dtype incompatible with float64, please explicitly cast to a compatible dtype first.\n",
      "  tradebook_long.loc[\n"
     ]
    },
    {
     "name": "stdout",
     "output_type": "stream",
     "text": [
      "EMA:30, X:20, PCT:1\n"
     ]
    },
    {
     "name": "stderr",
     "output_type": "stream",
     "text": [
      "/tmp/ipykernel_48125/2724525255.py:90: FutureWarning: Setting an item of incompatible dtype is deprecated and will raise an error in a future version of pandas. Value 'Trailing SL Hit' has dtype incompatible with float64, please explicitly cast to a compatible dtype first.\n",
      "  tradebook_long.loc[\n"
     ]
    },
    {
     "name": "stdout",
     "output_type": "stream",
     "text": [
      "EMA:30, X:24, PCT:0.25\n"
     ]
    },
    {
     "name": "stderr",
     "output_type": "stream",
     "text": [
      "/tmp/ipykernel_48125/2724525255.py:90: FutureWarning: Setting an item of incompatible dtype is deprecated and will raise an error in a future version of pandas. Value 'Trailing SL Hit' has dtype incompatible with float64, please explicitly cast to a compatible dtype first.\n",
      "  tradebook_long.loc[\n"
     ]
    },
    {
     "name": "stdout",
     "output_type": "stream",
     "text": [
      "EMA:30, X:24, PCT:0.5\n"
     ]
    },
    {
     "name": "stderr",
     "output_type": "stream",
     "text": [
      "/tmp/ipykernel_48125/2724525255.py:90: FutureWarning: Setting an item of incompatible dtype is deprecated and will raise an error in a future version of pandas. Value 'Trailing SL Hit' has dtype incompatible with float64, please explicitly cast to a compatible dtype first.\n",
      "  tradebook_long.loc[\n"
     ]
    },
    {
     "name": "stdout",
     "output_type": "stream",
     "text": [
      "EMA:30, X:24, PCT:0.75\n"
     ]
    },
    {
     "name": "stderr",
     "output_type": "stream",
     "text": [
      "/tmp/ipykernel_48125/2724525255.py:90: FutureWarning: Setting an item of incompatible dtype is deprecated and will raise an error in a future version of pandas. Value 'Trailing SL Hit' has dtype incompatible with float64, please explicitly cast to a compatible dtype first.\n",
      "  tradebook_long.loc[\n"
     ]
    },
    {
     "name": "stdout",
     "output_type": "stream",
     "text": [
      "EMA:30, X:24, PCT:1\n"
     ]
    },
    {
     "name": "stderr",
     "output_type": "stream",
     "text": [
      "/tmp/ipykernel_48125/2724525255.py:90: FutureWarning: Setting an item of incompatible dtype is deprecated and will raise an error in a future version of pandas. Value 'Trailing SL Hit' has dtype incompatible with float64, please explicitly cast to a compatible dtype first.\n",
      "  tradebook_long.loc[\n"
     ]
    },
    {
     "name": "stdout",
     "output_type": "stream",
     "text": [
      "EMA:30, X:28, PCT:0.25\n"
     ]
    },
    {
     "name": "stderr",
     "output_type": "stream",
     "text": [
      "/tmp/ipykernel_48125/2724525255.py:90: FutureWarning: Setting an item of incompatible dtype is deprecated and will raise an error in a future version of pandas. Value 'Trailing SL Hit' has dtype incompatible with float64, please explicitly cast to a compatible dtype first.\n",
      "  tradebook_long.loc[\n"
     ]
    },
    {
     "name": "stdout",
     "output_type": "stream",
     "text": [
      "EMA:30, X:28, PCT:0.5\n"
     ]
    },
    {
     "name": "stderr",
     "output_type": "stream",
     "text": [
      "/tmp/ipykernel_48125/2724525255.py:90: FutureWarning: Setting an item of incompatible dtype is deprecated and will raise an error in a future version of pandas. Value 'Trailing SL Hit' has dtype incompatible with float64, please explicitly cast to a compatible dtype first.\n",
      "  tradebook_long.loc[\n"
     ]
    },
    {
     "name": "stdout",
     "output_type": "stream",
     "text": [
      "EMA:30, X:28, PCT:0.75\n"
     ]
    },
    {
     "name": "stderr",
     "output_type": "stream",
     "text": [
      "/tmp/ipykernel_48125/2724525255.py:90: FutureWarning: Setting an item of incompatible dtype is deprecated and will raise an error in a future version of pandas. Value 'Trailing SL Hit' has dtype incompatible with float64, please explicitly cast to a compatible dtype first.\n",
      "  tradebook_long.loc[\n"
     ]
    },
    {
     "name": "stdout",
     "output_type": "stream",
     "text": [
      "EMA:30, X:28, PCT:1\n"
     ]
    },
    {
     "name": "stderr",
     "output_type": "stream",
     "text": [
      "/tmp/ipykernel_48125/2724525255.py:90: FutureWarning: Setting an item of incompatible dtype is deprecated and will raise an error in a future version of pandas. Value 'Trailing SL Hit' has dtype incompatible with float64, please explicitly cast to a compatible dtype first.\n",
      "  tradebook_long.loc[\n"
     ]
    },
    {
     "name": "stdout",
     "output_type": "stream",
     "text": [
      "EMA:30, X:32, PCT:0.25\n"
     ]
    },
    {
     "name": "stderr",
     "output_type": "stream",
     "text": [
      "/tmp/ipykernel_48125/2724525255.py:90: FutureWarning: Setting an item of incompatible dtype is deprecated and will raise an error in a future version of pandas. Value 'Trailing SL Hit' has dtype incompatible with float64, please explicitly cast to a compatible dtype first.\n",
      "  tradebook_long.loc[\n"
     ]
    },
    {
     "name": "stdout",
     "output_type": "stream",
     "text": [
      "EMA:30, X:32, PCT:0.5\n"
     ]
    },
    {
     "name": "stderr",
     "output_type": "stream",
     "text": [
      "/tmp/ipykernel_48125/2724525255.py:90: FutureWarning: Setting an item of incompatible dtype is deprecated and will raise an error in a future version of pandas. Value 'Trailing SL Hit' has dtype incompatible with float64, please explicitly cast to a compatible dtype first.\n",
      "  tradebook_long.loc[\n"
     ]
    },
    {
     "name": "stdout",
     "output_type": "stream",
     "text": [
      "EMA:30, X:32, PCT:0.75\n"
     ]
    },
    {
     "name": "stderr",
     "output_type": "stream",
     "text": [
      "/tmp/ipykernel_48125/2724525255.py:90: FutureWarning: Setting an item of incompatible dtype is deprecated and will raise an error in a future version of pandas. Value 'Trailing SL Hit' has dtype incompatible with float64, please explicitly cast to a compatible dtype first.\n",
      "  tradebook_long.loc[\n"
     ]
    },
    {
     "name": "stdout",
     "output_type": "stream",
     "text": [
      "EMA:30, X:32, PCT:1\n"
     ]
    },
    {
     "name": "stderr",
     "output_type": "stream",
     "text": [
      "/tmp/ipykernel_48125/2724525255.py:90: FutureWarning: Setting an item of incompatible dtype is deprecated and will raise an error in a future version of pandas. Value 'Trailing SL Hit' has dtype incompatible with float64, please explicitly cast to a compatible dtype first.\n",
      "  tradebook_long.loc[\n"
     ]
    },
    {
     "name": "stdout",
     "output_type": "stream",
     "text": [
      "EMA:30, X:36, PCT:0.25\n"
     ]
    },
    {
     "name": "stderr",
     "output_type": "stream",
     "text": [
      "/tmp/ipykernel_48125/2724525255.py:90: FutureWarning: Setting an item of incompatible dtype is deprecated and will raise an error in a future version of pandas. Value 'Trailing SL Hit' has dtype incompatible with float64, please explicitly cast to a compatible dtype first.\n",
      "  tradebook_long.loc[\n"
     ]
    },
    {
     "name": "stdout",
     "output_type": "stream",
     "text": [
      "EMA:30, X:36, PCT:0.5\n"
     ]
    },
    {
     "name": "stderr",
     "output_type": "stream",
     "text": [
      "/tmp/ipykernel_48125/2724525255.py:90: FutureWarning: Setting an item of incompatible dtype is deprecated and will raise an error in a future version of pandas. Value 'Trailing SL Hit' has dtype incompatible with float64, please explicitly cast to a compatible dtype first.\n",
      "  tradebook_long.loc[\n"
     ]
    },
    {
     "name": "stdout",
     "output_type": "stream",
     "text": [
      "EMA:30, X:36, PCT:0.75\n"
     ]
    },
    {
     "name": "stderr",
     "output_type": "stream",
     "text": [
      "/tmp/ipykernel_48125/2724525255.py:90: FutureWarning: Setting an item of incompatible dtype is deprecated and will raise an error in a future version of pandas. Value 'Trailing SL Hit' has dtype incompatible with float64, please explicitly cast to a compatible dtype first.\n",
      "  tradebook_long.loc[\n"
     ]
    },
    {
     "name": "stdout",
     "output_type": "stream",
     "text": [
      "EMA:30, X:36, PCT:1\n"
     ]
    },
    {
     "name": "stderr",
     "output_type": "stream",
     "text": [
      "/tmp/ipykernel_48125/2724525255.py:90: FutureWarning: Setting an item of incompatible dtype is deprecated and will raise an error in a future version of pandas. Value 'Trailing SL Hit' has dtype incompatible with float64, please explicitly cast to a compatible dtype first.\n",
      "  tradebook_long.loc[\n"
     ]
    },
    {
     "name": "stdout",
     "output_type": "stream",
     "text": [
      "EMA:35, X:4, PCT:0.25\n"
     ]
    },
    {
     "name": "stderr",
     "output_type": "stream",
     "text": [
      "/tmp/ipykernel_48125/2724525255.py:90: FutureWarning: Setting an item of incompatible dtype is deprecated and will raise an error in a future version of pandas. Value 'Trailing SL Hit' has dtype incompatible with float64, please explicitly cast to a compatible dtype first.\n",
      "  tradebook_long.loc[\n"
     ]
    },
    {
     "name": "stdout",
     "output_type": "stream",
     "text": [
      "        Total ROI Total Trades Win Rate Avg Profit% per Trade Avg Loss% per Trade Max Drawdown ROI/DD Ratio              Variation\n",
      "2017      94.2788           43  46.5116                9.3704             -4.0491     -22.1305       4.2601  EMA:35, X:4, PCT:0.25\n",
      "2018     106.0275           37  40.5405               11.8799             -3.2805     -19.3217       5.4875  EMA:35, X:4, PCT:0.25\n",
      "2019      43.3593           49  34.6939                9.5472             -3.7170     -33.1502       1.3080  EMA:35, X:4, PCT:0.25\n",
      "2020     183.9377           48  43.7500               13.3514             -3.5719     -16.0528      11.4583  EMA:35, X:4, PCT:0.25\n",
      "2021      94.9142           53  33.9623               11.0833             -2.9881     -37.9275       2.5025  EMA:35, X:4, PCT:0.25\n",
      "2022     124.7040           37  29.7297               18.9841             -3.2354     -26.3069       4.7404  EMA:35, X:4, PCT:0.25\n",
      "2023      88.7577           42  38.0952               11.7349             -3.8077     -24.1325       3.6779  EMA:35, X:4, PCT:0.25\n",
      "2024      65.3595           39  38.4615                8.8982             -2.9614     -21.6158       3.0237  EMA:35, X:4, PCT:0.25\n",
      "Overall  801.3387          348  38.2184               11.5627             -3.4416     -37.9275      21.1282  EMA:35, X:4, PCT:0.25\n",
      "EMA:35, X:4, PCT:0.5\n"
     ]
    },
    {
     "name": "stderr",
     "output_type": "stream",
     "text": [
      "/tmp/ipykernel_48125/2724525255.py:90: FutureWarning: Setting an item of incompatible dtype is deprecated and will raise an error in a future version of pandas. Value 'Trailing SL Hit' has dtype incompatible with float64, please explicitly cast to a compatible dtype first.\n",
      "  tradebook_long.loc[\n"
     ]
    },
    {
     "name": "stdout",
     "output_type": "stream",
     "text": [
      "EMA:35, X:4, PCT:0.75\n"
     ]
    },
    {
     "name": "stderr",
     "output_type": "stream",
     "text": [
      "/tmp/ipykernel_48125/2724525255.py:76: FutureWarning: Setting an item of incompatible dtype is deprecated and will raise an error in a future version of pandas. Value 'Initial SL Hit' has dtype incompatible with float64, please explicitly cast to a compatible dtype first.\n",
      "  tradebook_long.loc[\n"
     ]
    },
    {
     "name": "stdout",
     "output_type": "stream",
     "text": [
      "EMA:35, X:4, PCT:1\n"
     ]
    },
    {
     "name": "stderr",
     "output_type": "stream",
     "text": [
      "/tmp/ipykernel_48125/2724525255.py:90: FutureWarning: Setting an item of incompatible dtype is deprecated and will raise an error in a future version of pandas. Value 'Trailing SL Hit' has dtype incompatible with float64, please explicitly cast to a compatible dtype first.\n",
      "  tradebook_long.loc[\n",
      "/tmp/ipykernel_48125/2611632047.py:45: RuntimeWarning: divide by zero encountered in scalar divide\n",
      "  roi_dd_ratio = total_roi / abs(max_drawdown)\n",
      "/tmp/ipykernel_48125/2724525255.py:90: FutureWarning: Setting an item of incompatible dtype is deprecated and will raise an error in a future version of pandas. Value 'Trailing SL Hit' has dtype incompatible with float64, please explicitly cast to a compatible dtype first.\n",
      "  tradebook_long.loc[\n"
     ]
    },
    {
     "name": "stdout",
     "output_type": "stream",
     "text": [
      "EMA:35, X:8, PCT:0.25\n",
      "EMA:35, X:8, PCT:0.5\n"
     ]
    },
    {
     "name": "stderr",
     "output_type": "stream",
     "text": [
      "/tmp/ipykernel_48125/2724525255.py:90: FutureWarning: Setting an item of incompatible dtype is deprecated and will raise an error in a future version of pandas. Value 'Trailing SL Hit' has dtype incompatible with float64, please explicitly cast to a compatible dtype first.\n",
      "  tradebook_long.loc[\n"
     ]
    },
    {
     "name": "stdout",
     "output_type": "stream",
     "text": [
      "EMA:35, X:8, PCT:0.75\n"
     ]
    },
    {
     "name": "stderr",
     "output_type": "stream",
     "text": [
      "/tmp/ipykernel_48125/2724525255.py:90: FutureWarning: Setting an item of incompatible dtype is deprecated and will raise an error in a future version of pandas. Value 'Trailing SL Hit' has dtype incompatible with float64, please explicitly cast to a compatible dtype first.\n",
      "  tradebook_long.loc[\n"
     ]
    },
    {
     "name": "stdout",
     "output_type": "stream",
     "text": [
      "EMA:35, X:8, PCT:1\n"
     ]
    },
    {
     "name": "stderr",
     "output_type": "stream",
     "text": [
      "/tmp/ipykernel_48125/2724525255.py:90: FutureWarning: Setting an item of incompatible dtype is deprecated and will raise an error in a future version of pandas. Value 'Trailing SL Hit' has dtype incompatible with float64, please explicitly cast to a compatible dtype first.\n",
      "  tradebook_long.loc[\n"
     ]
    },
    {
     "name": "stdout",
     "output_type": "stream",
     "text": [
      "EMA:35, X:12, PCT:0.25\n"
     ]
    },
    {
     "name": "stderr",
     "output_type": "stream",
     "text": [
      "/tmp/ipykernel_48125/2724525255.py:90: FutureWarning: Setting an item of incompatible dtype is deprecated and will raise an error in a future version of pandas. Value 'Trailing SL Hit' has dtype incompatible with float64, please explicitly cast to a compatible dtype first.\n",
      "  tradebook_long.loc[\n"
     ]
    },
    {
     "name": "stdout",
     "output_type": "stream",
     "text": [
      "EMA:35, X:12, PCT:0.5\n"
     ]
    },
    {
     "name": "stderr",
     "output_type": "stream",
     "text": [
      "/tmp/ipykernel_48125/2724525255.py:90: FutureWarning: Setting an item of incompatible dtype is deprecated and will raise an error in a future version of pandas. Value 'Trailing SL Hit' has dtype incompatible with float64, please explicitly cast to a compatible dtype first.\n",
      "  tradebook_long.loc[\n"
     ]
    },
    {
     "name": "stdout",
     "output_type": "stream",
     "text": [
      "EMA:35, X:12, PCT:0.75\n"
     ]
    },
    {
     "name": "stderr",
     "output_type": "stream",
     "text": [
      "/tmp/ipykernel_48125/2724525255.py:90: FutureWarning: Setting an item of incompatible dtype is deprecated and will raise an error in a future version of pandas. Value 'Trailing SL Hit' has dtype incompatible with float64, please explicitly cast to a compatible dtype first.\n",
      "  tradebook_long.loc[\n"
     ]
    },
    {
     "name": "stdout",
     "output_type": "stream",
     "text": [
      "EMA:35, X:12, PCT:1\n"
     ]
    },
    {
     "name": "stderr",
     "output_type": "stream",
     "text": [
      "/tmp/ipykernel_48125/2724525255.py:90: FutureWarning: Setting an item of incompatible dtype is deprecated and will raise an error in a future version of pandas. Value 'Trailing SL Hit' has dtype incompatible with float64, please explicitly cast to a compatible dtype first.\n",
      "  tradebook_long.loc[\n"
     ]
    },
    {
     "name": "stdout",
     "output_type": "stream",
     "text": [
      "EMA:35, X:16, PCT:0.25\n"
     ]
    },
    {
     "name": "stderr",
     "output_type": "stream",
     "text": [
      "/tmp/ipykernel_48125/2724525255.py:90: FutureWarning: Setting an item of incompatible dtype is deprecated and will raise an error in a future version of pandas. Value 'Trailing SL Hit' has dtype incompatible with float64, please explicitly cast to a compatible dtype first.\n",
      "  tradebook_long.loc[\n"
     ]
    },
    {
     "name": "stdout",
     "output_type": "stream",
     "text": [
      "EMA:35, X:16, PCT:0.5\n"
     ]
    },
    {
     "name": "stderr",
     "output_type": "stream",
     "text": [
      "/tmp/ipykernel_48125/2724525255.py:90: FutureWarning: Setting an item of incompatible dtype is deprecated and will raise an error in a future version of pandas. Value 'Trailing SL Hit' has dtype incompatible with float64, please explicitly cast to a compatible dtype first.\n",
      "  tradebook_long.loc[\n"
     ]
    },
    {
     "name": "stdout",
     "output_type": "stream",
     "text": [
      "EMA:35, X:16, PCT:0.75\n"
     ]
    },
    {
     "name": "stderr",
     "output_type": "stream",
     "text": [
      "/tmp/ipykernel_48125/2724525255.py:90: FutureWarning: Setting an item of incompatible dtype is deprecated and will raise an error in a future version of pandas. Value 'Trailing SL Hit' has dtype incompatible with float64, please explicitly cast to a compatible dtype first.\n",
      "  tradebook_long.loc[\n"
     ]
    },
    {
     "name": "stdout",
     "output_type": "stream",
     "text": [
      "EMA:35, X:16, PCT:1\n"
     ]
    },
    {
     "name": "stderr",
     "output_type": "stream",
     "text": [
      "/tmp/ipykernel_48125/2724525255.py:90: FutureWarning: Setting an item of incompatible dtype is deprecated and will raise an error in a future version of pandas. Value 'Trailing SL Hit' has dtype incompatible with float64, please explicitly cast to a compatible dtype first.\n",
      "  tradebook_long.loc[\n"
     ]
    },
    {
     "name": "stdout",
     "output_type": "stream",
     "text": [
      "EMA:35, X:20, PCT:0.25\n"
     ]
    },
    {
     "name": "stderr",
     "output_type": "stream",
     "text": [
      "/tmp/ipykernel_48125/2724525255.py:90: FutureWarning: Setting an item of incompatible dtype is deprecated and will raise an error in a future version of pandas. Value 'Trailing SL Hit' has dtype incompatible with float64, please explicitly cast to a compatible dtype first.\n",
      "  tradebook_long.loc[\n"
     ]
    },
    {
     "name": "stdout",
     "output_type": "stream",
     "text": [
      "EMA:35, X:20, PCT:0.5\n"
     ]
    },
    {
     "name": "stderr",
     "output_type": "stream",
     "text": [
      "/tmp/ipykernel_48125/2724525255.py:90: FutureWarning: Setting an item of incompatible dtype is deprecated and will raise an error in a future version of pandas. Value 'Trailing SL Hit' has dtype incompatible with float64, please explicitly cast to a compatible dtype first.\n",
      "  tradebook_long.loc[\n"
     ]
    },
    {
     "name": "stdout",
     "output_type": "stream",
     "text": [
      "EMA:35, X:20, PCT:0.75\n"
     ]
    },
    {
     "name": "stderr",
     "output_type": "stream",
     "text": [
      "/tmp/ipykernel_48125/2724525255.py:76: FutureWarning: Setting an item of incompatible dtype is deprecated and will raise an error in a future version of pandas. Value 'Initial SL Hit' has dtype incompatible with float64, please explicitly cast to a compatible dtype first.\n",
      "  tradebook_long.loc[\n"
     ]
    },
    {
     "name": "stdout",
     "output_type": "stream",
     "text": [
      "EMA:35, X:20, PCT:1\n"
     ]
    },
    {
     "name": "stderr",
     "output_type": "stream",
     "text": [
      "/tmp/ipykernel_48125/2724525255.py:90: FutureWarning: Setting an item of incompatible dtype is deprecated and will raise an error in a future version of pandas. Value 'Trailing SL Hit' has dtype incompatible with float64, please explicitly cast to a compatible dtype first.\n",
      "  tradebook_long.loc[\n"
     ]
    },
    {
     "name": "stdout",
     "output_type": "stream",
     "text": [
      "EMA:35, X:24, PCT:0.25\n"
     ]
    },
    {
     "name": "stderr",
     "output_type": "stream",
     "text": [
      "/tmp/ipykernel_48125/2724525255.py:90: FutureWarning: Setting an item of incompatible dtype is deprecated and will raise an error in a future version of pandas. Value 'Trailing SL Hit' has dtype incompatible with float64, please explicitly cast to a compatible dtype first.\n",
      "  tradebook_long.loc[\n"
     ]
    },
    {
     "name": "stdout",
     "output_type": "stream",
     "text": [
      "EMA:35, X:24, PCT:0.5\n"
     ]
    },
    {
     "name": "stderr",
     "output_type": "stream",
     "text": [
      "/tmp/ipykernel_48125/2724525255.py:90: FutureWarning: Setting an item of incompatible dtype is deprecated and will raise an error in a future version of pandas. Value 'Trailing SL Hit' has dtype incompatible with float64, please explicitly cast to a compatible dtype first.\n",
      "  tradebook_long.loc[\n"
     ]
    },
    {
     "name": "stdout",
     "output_type": "stream",
     "text": [
      "EMA:35, X:24, PCT:0.75\n"
     ]
    },
    {
     "name": "stderr",
     "output_type": "stream",
     "text": [
      "/tmp/ipykernel_48125/2724525255.py:90: FutureWarning: Setting an item of incompatible dtype is deprecated and will raise an error in a future version of pandas. Value 'Trailing SL Hit' has dtype incompatible with float64, please explicitly cast to a compatible dtype first.\n",
      "  tradebook_long.loc[\n"
     ]
    },
    {
     "name": "stdout",
     "output_type": "stream",
     "text": [
      "EMA:35, X:24, PCT:1\n"
     ]
    },
    {
     "name": "stderr",
     "output_type": "stream",
     "text": [
      "/tmp/ipykernel_48125/2724525255.py:90: FutureWarning: Setting an item of incompatible dtype is deprecated and will raise an error in a future version of pandas. Value 'Trailing SL Hit' has dtype incompatible with float64, please explicitly cast to a compatible dtype first.\n",
      "  tradebook_long.loc[\n"
     ]
    },
    {
     "name": "stdout",
     "output_type": "stream",
     "text": [
      "EMA:35, X:28, PCT:0.25\n"
     ]
    },
    {
     "name": "stderr",
     "output_type": "stream",
     "text": [
      "/tmp/ipykernel_48125/2724525255.py:90: FutureWarning: Setting an item of incompatible dtype is deprecated and will raise an error in a future version of pandas. Value 'Trailing SL Hit' has dtype incompatible with float64, please explicitly cast to a compatible dtype first.\n",
      "  tradebook_long.loc[\n"
     ]
    },
    {
     "name": "stdout",
     "output_type": "stream",
     "text": [
      "EMA:35, X:28, PCT:0.5\n"
     ]
    },
    {
     "name": "stderr",
     "output_type": "stream",
     "text": [
      "/tmp/ipykernel_48125/2724525255.py:90: FutureWarning: Setting an item of incompatible dtype is deprecated and will raise an error in a future version of pandas. Value 'Trailing SL Hit' has dtype incompatible with float64, please explicitly cast to a compatible dtype first.\n",
      "  tradebook_long.loc[\n"
     ]
    },
    {
     "name": "stdout",
     "output_type": "stream",
     "text": [
      "EMA:35, X:28, PCT:0.75\n"
     ]
    },
    {
     "name": "stderr",
     "output_type": "stream",
     "text": [
      "/tmp/ipykernel_48125/2724525255.py:90: FutureWarning: Setting an item of incompatible dtype is deprecated and will raise an error in a future version of pandas. Value 'Trailing SL Hit' has dtype incompatible with float64, please explicitly cast to a compatible dtype first.\n",
      "  tradebook_long.loc[\n"
     ]
    },
    {
     "name": "stdout",
     "output_type": "stream",
     "text": [
      "EMA:35, X:28, PCT:1\n"
     ]
    },
    {
     "name": "stderr",
     "output_type": "stream",
     "text": [
      "/tmp/ipykernel_48125/2724525255.py:90: FutureWarning: Setting an item of incompatible dtype is deprecated and will raise an error in a future version of pandas. Value 'Trailing SL Hit' has dtype incompatible with float64, please explicitly cast to a compatible dtype first.\n",
      "  tradebook_long.loc[\n"
     ]
    },
    {
     "name": "stdout",
     "output_type": "stream",
     "text": [
      "EMA:35, X:32, PCT:0.25\n"
     ]
    },
    {
     "name": "stderr",
     "output_type": "stream",
     "text": [
      "/tmp/ipykernel_48125/2724525255.py:90: FutureWarning: Setting an item of incompatible dtype is deprecated and will raise an error in a future version of pandas. Value 'Trailing SL Hit' has dtype incompatible with float64, please explicitly cast to a compatible dtype first.\n",
      "  tradebook_long.loc[\n"
     ]
    },
    {
     "name": "stdout",
     "output_type": "stream",
     "text": [
      "EMA:35, X:32, PCT:0.5\n"
     ]
    },
    {
     "name": "stderr",
     "output_type": "stream",
     "text": [
      "/tmp/ipykernel_48125/2724525255.py:90: FutureWarning: Setting an item of incompatible dtype is deprecated and will raise an error in a future version of pandas. Value 'Trailing SL Hit' has dtype incompatible with float64, please explicitly cast to a compatible dtype first.\n",
      "  tradebook_long.loc[\n"
     ]
    },
    {
     "name": "stdout",
     "output_type": "stream",
     "text": [
      "EMA:35, X:32, PCT:0.75\n"
     ]
    },
    {
     "name": "stderr",
     "output_type": "stream",
     "text": [
      "/tmp/ipykernel_48125/2724525255.py:90: FutureWarning: Setting an item of incompatible dtype is deprecated and will raise an error in a future version of pandas. Value 'Trailing SL Hit' has dtype incompatible with float64, please explicitly cast to a compatible dtype first.\n",
      "  tradebook_long.loc[\n"
     ]
    },
    {
     "name": "stdout",
     "output_type": "stream",
     "text": [
      "EMA:35, X:32, PCT:1\n"
     ]
    },
    {
     "name": "stderr",
     "output_type": "stream",
     "text": [
      "/tmp/ipykernel_48125/2724525255.py:90: FutureWarning: Setting an item of incompatible dtype is deprecated and will raise an error in a future version of pandas. Value 'Trailing SL Hit' has dtype incompatible with float64, please explicitly cast to a compatible dtype first.\n",
      "  tradebook_long.loc[\n"
     ]
    },
    {
     "name": "stdout",
     "output_type": "stream",
     "text": [
      "EMA:35, X:36, PCT:0.25\n"
     ]
    },
    {
     "name": "stderr",
     "output_type": "stream",
     "text": [
      "/tmp/ipykernel_48125/2724525255.py:90: FutureWarning: Setting an item of incompatible dtype is deprecated and will raise an error in a future version of pandas. Value 'Trailing SL Hit' has dtype incompatible with float64, please explicitly cast to a compatible dtype first.\n",
      "  tradebook_long.loc[\n"
     ]
    },
    {
     "name": "stdout",
     "output_type": "stream",
     "text": [
      "EMA:35, X:36, PCT:0.5\n"
     ]
    },
    {
     "name": "stderr",
     "output_type": "stream",
     "text": [
      "/tmp/ipykernel_48125/2724525255.py:90: FutureWarning: Setting an item of incompatible dtype is deprecated and will raise an error in a future version of pandas. Value 'Trailing SL Hit' has dtype incompatible with float64, please explicitly cast to a compatible dtype first.\n",
      "  tradebook_long.loc[\n"
     ]
    },
    {
     "name": "stdout",
     "output_type": "stream",
     "text": [
      "EMA:35, X:36, PCT:0.75\n"
     ]
    },
    {
     "name": "stderr",
     "output_type": "stream",
     "text": [
      "/tmp/ipykernel_48125/2724525255.py:90: FutureWarning: Setting an item of incompatible dtype is deprecated and will raise an error in a future version of pandas. Value 'Trailing SL Hit' has dtype incompatible with float64, please explicitly cast to a compatible dtype first.\n",
      "  tradebook_long.loc[\n"
     ]
    },
    {
     "name": "stdout",
     "output_type": "stream",
     "text": [
      "EMA:35, X:36, PCT:1\n"
     ]
    },
    {
     "name": "stderr",
     "output_type": "stream",
     "text": [
      "/tmp/ipykernel_48125/2724525255.py:90: FutureWarning: Setting an item of incompatible dtype is deprecated and will raise an error in a future version of pandas. Value 'Trailing SL Hit' has dtype incompatible with float64, please explicitly cast to a compatible dtype first.\n",
      "  tradebook_long.loc[\n"
     ]
    },
    {
     "name": "stdout",
     "output_type": "stream",
     "text": [
      "EMA:40, X:4, PCT:0.25\n"
     ]
    },
    {
     "name": "stderr",
     "output_type": "stream",
     "text": [
      "/tmp/ipykernel_48125/2724525255.py:90: FutureWarning: Setting an item of incompatible dtype is deprecated and will raise an error in a future version of pandas. Value 'Trailing SL Hit' has dtype incompatible with float64, please explicitly cast to a compatible dtype first.\n",
      "  tradebook_long.loc[\n"
     ]
    },
    {
     "name": "stdout",
     "output_type": "stream",
     "text": [
      "EMA:40, X:4, PCT:0.5\n"
     ]
    },
    {
     "name": "stderr",
     "output_type": "stream",
     "text": [
      "/tmp/ipykernel_48125/2724525255.py:90: FutureWarning: Setting an item of incompatible dtype is deprecated and will raise an error in a future version of pandas. Value 'Trailing SL Hit' has dtype incompatible with float64, please explicitly cast to a compatible dtype first.\n",
      "  tradebook_long.loc[\n"
     ]
    },
    {
     "name": "stdout",
     "output_type": "stream",
     "text": [
      "EMA:40, X:4, PCT:0.75\n"
     ]
    },
    {
     "name": "stderr",
     "output_type": "stream",
     "text": [
      "/tmp/ipykernel_48125/2724525255.py:76: FutureWarning: Setting an item of incompatible dtype is deprecated and will raise an error in a future version of pandas. Value 'Initial SL Hit' has dtype incompatible with float64, please explicitly cast to a compatible dtype first.\n",
      "  tradebook_long.loc[\n"
     ]
    },
    {
     "name": "stdout",
     "output_type": "stream",
     "text": [
      "EMA:40, X:4, PCT:1\n"
     ]
    },
    {
     "name": "stderr",
     "output_type": "stream",
     "text": [
      "/tmp/ipykernel_48125/2724525255.py:90: FutureWarning: Setting an item of incompatible dtype is deprecated and will raise an error in a future version of pandas. Value 'Trailing SL Hit' has dtype incompatible with float64, please explicitly cast to a compatible dtype first.\n",
      "  tradebook_long.loc[\n",
      "/tmp/ipykernel_48125/2611632047.py:45: RuntimeWarning: divide by zero encountered in scalar divide\n",
      "  roi_dd_ratio = total_roi / abs(max_drawdown)\n",
      "/tmp/ipykernel_48125/2724525255.py:90: FutureWarning: Setting an item of incompatible dtype is deprecated and will raise an error in a future version of pandas. Value 'Trailing SL Hit' has dtype incompatible with float64, please explicitly cast to a compatible dtype first.\n",
      "  tradebook_long.loc[\n"
     ]
    },
    {
     "name": "stdout",
     "output_type": "stream",
     "text": [
      "EMA:40, X:8, PCT:0.25\n",
      "EMA:40, X:8, PCT:0.5\n"
     ]
    },
    {
     "name": "stderr",
     "output_type": "stream",
     "text": [
      "/tmp/ipykernel_48125/2724525255.py:90: FutureWarning: Setting an item of incompatible dtype is deprecated and will raise an error in a future version of pandas. Value 'Trailing SL Hit' has dtype incompatible with float64, please explicitly cast to a compatible dtype first.\n",
      "  tradebook_long.loc[\n"
     ]
    },
    {
     "name": "stdout",
     "output_type": "stream",
     "text": [
      "EMA:40, X:8, PCT:0.75\n"
     ]
    },
    {
     "name": "stderr",
     "output_type": "stream",
     "text": [
      "/tmp/ipykernel_48125/2724525255.py:90: FutureWarning: Setting an item of incompatible dtype is deprecated and will raise an error in a future version of pandas. Value 'Trailing SL Hit' has dtype incompatible with float64, please explicitly cast to a compatible dtype first.\n",
      "  tradebook_long.loc[\n"
     ]
    },
    {
     "name": "stdout",
     "output_type": "stream",
     "text": [
      "EMA:40, X:8, PCT:1\n"
     ]
    },
    {
     "name": "stderr",
     "output_type": "stream",
     "text": [
      "/tmp/ipykernel_48125/2724525255.py:90: FutureWarning: Setting an item of incompatible dtype is deprecated and will raise an error in a future version of pandas. Value 'Trailing SL Hit' has dtype incompatible with float64, please explicitly cast to a compatible dtype first.\n",
      "  tradebook_long.loc[\n"
     ]
    },
    {
     "name": "stdout",
     "output_type": "stream",
     "text": [
      "EMA:40, X:12, PCT:0.25\n"
     ]
    },
    {
     "name": "stderr",
     "output_type": "stream",
     "text": [
      "/tmp/ipykernel_48125/2724525255.py:90: FutureWarning: Setting an item of incompatible dtype is deprecated and will raise an error in a future version of pandas. Value 'Trailing SL Hit' has dtype incompatible with float64, please explicitly cast to a compatible dtype first.\n",
      "  tradebook_long.loc[\n"
     ]
    },
    {
     "name": "stdout",
     "output_type": "stream",
     "text": [
      "EMA:40, X:12, PCT:0.5\n"
     ]
    },
    {
     "name": "stderr",
     "output_type": "stream",
     "text": [
      "/tmp/ipykernel_48125/2724525255.py:90: FutureWarning: Setting an item of incompatible dtype is deprecated and will raise an error in a future version of pandas. Value 'Trailing SL Hit' has dtype incompatible with float64, please explicitly cast to a compatible dtype first.\n",
      "  tradebook_long.loc[\n"
     ]
    },
    {
     "name": "stdout",
     "output_type": "stream",
     "text": [
      "EMA:40, X:12, PCT:0.75\n"
     ]
    },
    {
     "name": "stderr",
     "output_type": "stream",
     "text": [
      "/tmp/ipykernel_48125/2724525255.py:90: FutureWarning: Setting an item of incompatible dtype is deprecated and will raise an error in a future version of pandas. Value 'Trailing SL Hit' has dtype incompatible with float64, please explicitly cast to a compatible dtype first.\n",
      "  tradebook_long.loc[\n"
     ]
    },
    {
     "name": "stdout",
     "output_type": "stream",
     "text": [
      "EMA:40, X:12, PCT:1\n"
     ]
    },
    {
     "name": "stderr",
     "output_type": "stream",
     "text": [
      "/tmp/ipykernel_48125/2724525255.py:90: FutureWarning: Setting an item of incompatible dtype is deprecated and will raise an error in a future version of pandas. Value 'Trailing SL Hit' has dtype incompatible with float64, please explicitly cast to a compatible dtype first.\n",
      "  tradebook_long.loc[\n"
     ]
    },
    {
     "name": "stdout",
     "output_type": "stream",
     "text": [
      "EMA:40, X:16, PCT:0.25\n"
     ]
    },
    {
     "name": "stderr",
     "output_type": "stream",
     "text": [
      "/tmp/ipykernel_48125/2724525255.py:90: FutureWarning: Setting an item of incompatible dtype is deprecated and will raise an error in a future version of pandas. Value 'Trailing SL Hit' has dtype incompatible with float64, please explicitly cast to a compatible dtype first.\n",
      "  tradebook_long.loc[\n"
     ]
    },
    {
     "name": "stdout",
     "output_type": "stream",
     "text": [
      "EMA:40, X:16, PCT:0.5\n"
     ]
    },
    {
     "name": "stderr",
     "output_type": "stream",
     "text": [
      "/tmp/ipykernel_48125/2724525255.py:90: FutureWarning: Setting an item of incompatible dtype is deprecated and will raise an error in a future version of pandas. Value 'Trailing SL Hit' has dtype incompatible with float64, please explicitly cast to a compatible dtype first.\n",
      "  tradebook_long.loc[\n"
     ]
    },
    {
     "name": "stdout",
     "output_type": "stream",
     "text": [
      "EMA:40, X:16, PCT:0.75\n"
     ]
    },
    {
     "name": "stderr",
     "output_type": "stream",
     "text": [
      "/tmp/ipykernel_48125/2724525255.py:90: FutureWarning: Setting an item of incompatible dtype is deprecated and will raise an error in a future version of pandas. Value 'Trailing SL Hit' has dtype incompatible with float64, please explicitly cast to a compatible dtype first.\n",
      "  tradebook_long.loc[\n"
     ]
    },
    {
     "name": "stdout",
     "output_type": "stream",
     "text": [
      "EMA:40, X:16, PCT:1\n"
     ]
    },
    {
     "name": "stderr",
     "output_type": "stream",
     "text": [
      "/tmp/ipykernel_48125/2724525255.py:90: FutureWarning: Setting an item of incompatible dtype is deprecated and will raise an error in a future version of pandas. Value 'Trailing SL Hit' has dtype incompatible with float64, please explicitly cast to a compatible dtype first.\n",
      "  tradebook_long.loc[\n"
     ]
    },
    {
     "name": "stdout",
     "output_type": "stream",
     "text": [
      "EMA:40, X:20, PCT:0.25\n"
     ]
    },
    {
     "name": "stderr",
     "output_type": "stream",
     "text": [
      "/tmp/ipykernel_48125/2724525255.py:90: FutureWarning: Setting an item of incompatible dtype is deprecated and will raise an error in a future version of pandas. Value 'Trailing SL Hit' has dtype incompatible with float64, please explicitly cast to a compatible dtype first.\n",
      "  tradebook_long.loc[\n"
     ]
    },
    {
     "name": "stdout",
     "output_type": "stream",
     "text": [
      "EMA:40, X:20, PCT:0.5\n"
     ]
    },
    {
     "name": "stderr",
     "output_type": "stream",
     "text": [
      "/tmp/ipykernel_48125/2724525255.py:90: FutureWarning: Setting an item of incompatible dtype is deprecated and will raise an error in a future version of pandas. Value 'Trailing SL Hit' has dtype incompatible with float64, please explicitly cast to a compatible dtype first.\n",
      "  tradebook_long.loc[\n"
     ]
    },
    {
     "name": "stdout",
     "output_type": "stream",
     "text": [
      "EMA:40, X:20, PCT:0.75\n"
     ]
    },
    {
     "name": "stderr",
     "output_type": "stream",
     "text": [
      "/tmp/ipykernel_48125/2724525255.py:76: FutureWarning: Setting an item of incompatible dtype is deprecated and will raise an error in a future version of pandas. Value 'Initial SL Hit' has dtype incompatible with float64, please explicitly cast to a compatible dtype first.\n",
      "  tradebook_long.loc[\n"
     ]
    },
    {
     "name": "stdout",
     "output_type": "stream",
     "text": [
      "EMA:40, X:20, PCT:1\n"
     ]
    },
    {
     "name": "stderr",
     "output_type": "stream",
     "text": [
      "/tmp/ipykernel_48125/2724525255.py:90: FutureWarning: Setting an item of incompatible dtype is deprecated and will raise an error in a future version of pandas. Value 'Trailing SL Hit' has dtype incompatible with float64, please explicitly cast to a compatible dtype first.\n",
      "  tradebook_long.loc[\n"
     ]
    },
    {
     "name": "stdout",
     "output_type": "stream",
     "text": [
      "EMA:40, X:24, PCT:0.25\n"
     ]
    },
    {
     "name": "stderr",
     "output_type": "stream",
     "text": [
      "/tmp/ipykernel_48125/2724525255.py:90: FutureWarning: Setting an item of incompatible dtype is deprecated and will raise an error in a future version of pandas. Value 'Trailing SL Hit' has dtype incompatible with float64, please explicitly cast to a compatible dtype first.\n",
      "  tradebook_long.loc[\n"
     ]
    },
    {
     "name": "stdout",
     "output_type": "stream",
     "text": [
      "EMA:40, X:24, PCT:0.5\n"
     ]
    },
    {
     "name": "stderr",
     "output_type": "stream",
     "text": [
      "/tmp/ipykernel_48125/2724525255.py:90: FutureWarning: Setting an item of incompatible dtype is deprecated and will raise an error in a future version of pandas. Value 'Trailing SL Hit' has dtype incompatible with float64, please explicitly cast to a compatible dtype first.\n",
      "  tradebook_long.loc[\n"
     ]
    },
    {
     "name": "stdout",
     "output_type": "stream",
     "text": [
      "EMA:40, X:24, PCT:0.75\n"
     ]
    },
    {
     "name": "stderr",
     "output_type": "stream",
     "text": [
      "/tmp/ipykernel_48125/2724525255.py:90: FutureWarning: Setting an item of incompatible dtype is deprecated and will raise an error in a future version of pandas. Value 'Trailing SL Hit' has dtype incompatible with float64, please explicitly cast to a compatible dtype first.\n",
      "  tradebook_long.loc[\n"
     ]
    },
    {
     "name": "stdout",
     "output_type": "stream",
     "text": [
      "EMA:40, X:24, PCT:1\n"
     ]
    },
    {
     "name": "stderr",
     "output_type": "stream",
     "text": [
      "/tmp/ipykernel_48125/2724525255.py:90: FutureWarning: Setting an item of incompatible dtype is deprecated and will raise an error in a future version of pandas. Value 'Trailing SL Hit' has dtype incompatible with float64, please explicitly cast to a compatible dtype first.\n",
      "  tradebook_long.loc[\n"
     ]
    },
    {
     "name": "stdout",
     "output_type": "stream",
     "text": [
      "EMA:40, X:28, PCT:0.25\n"
     ]
    },
    {
     "name": "stderr",
     "output_type": "stream",
     "text": [
      "/tmp/ipykernel_48125/2724525255.py:90: FutureWarning: Setting an item of incompatible dtype is deprecated and will raise an error in a future version of pandas. Value 'Trailing SL Hit' has dtype incompatible with float64, please explicitly cast to a compatible dtype first.\n",
      "  tradebook_long.loc[\n"
     ]
    },
    {
     "name": "stdout",
     "output_type": "stream",
     "text": [
      "EMA:40, X:28, PCT:0.5\n"
     ]
    },
    {
     "name": "stderr",
     "output_type": "stream",
     "text": [
      "/tmp/ipykernel_48125/2724525255.py:90: FutureWarning: Setting an item of incompatible dtype is deprecated and will raise an error in a future version of pandas. Value 'Trailing SL Hit' has dtype incompatible with float64, please explicitly cast to a compatible dtype first.\n",
      "  tradebook_long.loc[\n"
     ]
    },
    {
     "name": "stdout",
     "output_type": "stream",
     "text": [
      "EMA:40, X:28, PCT:0.75\n"
     ]
    },
    {
     "name": "stderr",
     "output_type": "stream",
     "text": [
      "/tmp/ipykernel_48125/2724525255.py:90: FutureWarning: Setting an item of incompatible dtype is deprecated and will raise an error in a future version of pandas. Value 'Trailing SL Hit' has dtype incompatible with float64, please explicitly cast to a compatible dtype first.\n",
      "  tradebook_long.loc[\n"
     ]
    },
    {
     "name": "stdout",
     "output_type": "stream",
     "text": [
      "EMA:40, X:28, PCT:1\n"
     ]
    },
    {
     "name": "stderr",
     "output_type": "stream",
     "text": [
      "/tmp/ipykernel_48125/2724525255.py:90: FutureWarning: Setting an item of incompatible dtype is deprecated and will raise an error in a future version of pandas. Value 'Trailing SL Hit' has dtype incompatible with float64, please explicitly cast to a compatible dtype first.\n",
      "  tradebook_long.loc[\n"
     ]
    },
    {
     "name": "stdout",
     "output_type": "stream",
     "text": [
      "EMA:40, X:32, PCT:0.25\n"
     ]
    },
    {
     "name": "stderr",
     "output_type": "stream",
     "text": [
      "/tmp/ipykernel_48125/2724525255.py:90: FutureWarning: Setting an item of incompatible dtype is deprecated and will raise an error in a future version of pandas. Value 'Trailing SL Hit' has dtype incompatible with float64, please explicitly cast to a compatible dtype first.\n",
      "  tradebook_long.loc[\n"
     ]
    },
    {
     "name": "stdout",
     "output_type": "stream",
     "text": [
      "EMA:40, X:32, PCT:0.5\n"
     ]
    },
    {
     "name": "stderr",
     "output_type": "stream",
     "text": [
      "/tmp/ipykernel_48125/2724525255.py:90: FutureWarning: Setting an item of incompatible dtype is deprecated and will raise an error in a future version of pandas. Value 'Trailing SL Hit' has dtype incompatible with float64, please explicitly cast to a compatible dtype first.\n",
      "  tradebook_long.loc[\n"
     ]
    },
    {
     "name": "stdout",
     "output_type": "stream",
     "text": [
      "EMA:40, X:32, PCT:0.75\n"
     ]
    },
    {
     "name": "stderr",
     "output_type": "stream",
     "text": [
      "/tmp/ipykernel_48125/2724525255.py:90: FutureWarning: Setting an item of incompatible dtype is deprecated and will raise an error in a future version of pandas. Value 'Trailing SL Hit' has dtype incompatible with float64, please explicitly cast to a compatible dtype first.\n",
      "  tradebook_long.loc[\n"
     ]
    },
    {
     "name": "stdout",
     "output_type": "stream",
     "text": [
      "EMA:40, X:32, PCT:1\n"
     ]
    },
    {
     "name": "stderr",
     "output_type": "stream",
     "text": [
      "/tmp/ipykernel_48125/2724525255.py:90: FutureWarning: Setting an item of incompatible dtype is deprecated and will raise an error in a future version of pandas. Value 'Trailing SL Hit' has dtype incompatible with float64, please explicitly cast to a compatible dtype first.\n",
      "  tradebook_long.loc[\n"
     ]
    },
    {
     "name": "stdout",
     "output_type": "stream",
     "text": [
      "EMA:40, X:36, PCT:0.25\n"
     ]
    },
    {
     "name": "stderr",
     "output_type": "stream",
     "text": [
      "/tmp/ipykernel_48125/2724525255.py:90: FutureWarning: Setting an item of incompatible dtype is deprecated and will raise an error in a future version of pandas. Value 'Trailing SL Hit' has dtype incompatible with float64, please explicitly cast to a compatible dtype first.\n",
      "  tradebook_long.loc[\n"
     ]
    },
    {
     "name": "stdout",
     "output_type": "stream",
     "text": [
      "EMA:40, X:36, PCT:0.5\n"
     ]
    },
    {
     "name": "stderr",
     "output_type": "stream",
     "text": [
      "/tmp/ipykernel_48125/2724525255.py:90: FutureWarning: Setting an item of incompatible dtype is deprecated and will raise an error in a future version of pandas. Value 'Trailing SL Hit' has dtype incompatible with float64, please explicitly cast to a compatible dtype first.\n",
      "  tradebook_long.loc[\n"
     ]
    },
    {
     "name": "stdout",
     "output_type": "stream",
     "text": [
      "EMA:40, X:36, PCT:0.75\n"
     ]
    },
    {
     "name": "stderr",
     "output_type": "stream",
     "text": [
      "/tmp/ipykernel_48125/2724525255.py:90: FutureWarning: Setting an item of incompatible dtype is deprecated and will raise an error in a future version of pandas. Value 'Trailing SL Hit' has dtype incompatible with float64, please explicitly cast to a compatible dtype first.\n",
      "  tradebook_long.loc[\n"
     ]
    },
    {
     "name": "stdout",
     "output_type": "stream",
     "text": [
      "EMA:40, X:36, PCT:1\n"
     ]
    },
    {
     "name": "stderr",
     "output_type": "stream",
     "text": [
      "/tmp/ipykernel_48125/2724525255.py:90: FutureWarning: Setting an item of incompatible dtype is deprecated and will raise an error in a future version of pandas. Value 'Trailing SL Hit' has dtype incompatible with float64, please explicitly cast to a compatible dtype first.\n",
      "  tradebook_long.loc[\n"
     ]
    },
    {
     "name": "stdout",
     "output_type": "stream",
     "text": [
      "EMA:45, X:4, PCT:0.25\n"
     ]
    },
    {
     "name": "stderr",
     "output_type": "stream",
     "text": [
      "/tmp/ipykernel_48125/2724525255.py:90: FutureWarning: Setting an item of incompatible dtype is deprecated and will raise an error in a future version of pandas. Value 'Trailing SL Hit' has dtype incompatible with float64, please explicitly cast to a compatible dtype first.\n",
      "  tradebook_long.loc[\n"
     ]
    },
    {
     "name": "stdout",
     "output_type": "stream",
     "text": [
      "EMA:45, X:4, PCT:0.5\n"
     ]
    },
    {
     "name": "stderr",
     "output_type": "stream",
     "text": [
      "/tmp/ipykernel_48125/2724525255.py:90: FutureWarning: Setting an item of incompatible dtype is deprecated and will raise an error in a future version of pandas. Value 'Trailing SL Hit' has dtype incompatible with float64, please explicitly cast to a compatible dtype first.\n",
      "  tradebook_long.loc[\n"
     ]
    },
    {
     "name": "stdout",
     "output_type": "stream",
     "text": [
      "EMA:45, X:4, PCT:0.75\n"
     ]
    },
    {
     "name": "stderr",
     "output_type": "stream",
     "text": [
      "/tmp/ipykernel_48125/2724525255.py:76: FutureWarning: Setting an item of incompatible dtype is deprecated and will raise an error in a future version of pandas. Value 'Initial SL Hit' has dtype incompatible with float64, please explicitly cast to a compatible dtype first.\n",
      "  tradebook_long.loc[\n"
     ]
    },
    {
     "name": "stdout",
     "output_type": "stream",
     "text": [
      "EMA:45, X:4, PCT:1\n"
     ]
    },
    {
     "name": "stderr",
     "output_type": "stream",
     "text": [
      "/tmp/ipykernel_48125/2724525255.py:90: FutureWarning: Setting an item of incompatible dtype is deprecated and will raise an error in a future version of pandas. Value 'Trailing SL Hit' has dtype incompatible with float64, please explicitly cast to a compatible dtype first.\n",
      "  tradebook_long.loc[\n",
      "/tmp/ipykernel_48125/2611632047.py:45: RuntimeWarning: divide by zero encountered in scalar divide\n",
      "  roi_dd_ratio = total_roi / abs(max_drawdown)\n",
      "/tmp/ipykernel_48125/2724525255.py:90: FutureWarning: Setting an item of incompatible dtype is deprecated and will raise an error in a future version of pandas. Value 'Trailing SL Hit' has dtype incompatible with float64, please explicitly cast to a compatible dtype first.\n",
      "  tradebook_long.loc[\n"
     ]
    },
    {
     "name": "stdout",
     "output_type": "stream",
     "text": [
      "EMA:45, X:8, PCT:0.25\n",
      "EMA:45, X:8, PCT:0.5\n"
     ]
    },
    {
     "name": "stderr",
     "output_type": "stream",
     "text": [
      "/tmp/ipykernel_48125/2724525255.py:90: FutureWarning: Setting an item of incompatible dtype is deprecated and will raise an error in a future version of pandas. Value 'Trailing SL Hit' has dtype incompatible with float64, please explicitly cast to a compatible dtype first.\n",
      "  tradebook_long.loc[\n"
     ]
    },
    {
     "name": "stdout",
     "output_type": "stream",
     "text": [
      "EMA:45, X:8, PCT:0.75\n"
     ]
    },
    {
     "name": "stderr",
     "output_type": "stream",
     "text": [
      "/tmp/ipykernel_48125/2724525255.py:90: FutureWarning: Setting an item of incompatible dtype is deprecated and will raise an error in a future version of pandas. Value 'Trailing SL Hit' has dtype incompatible with float64, please explicitly cast to a compatible dtype first.\n",
      "  tradebook_long.loc[\n"
     ]
    },
    {
     "name": "stdout",
     "output_type": "stream",
     "text": [
      "EMA:45, X:8, PCT:1\n"
     ]
    },
    {
     "name": "stderr",
     "output_type": "stream",
     "text": [
      "/tmp/ipykernel_48125/2724525255.py:90: FutureWarning: Setting an item of incompatible dtype is deprecated and will raise an error in a future version of pandas. Value 'Trailing SL Hit' has dtype incompatible with float64, please explicitly cast to a compatible dtype first.\n",
      "  tradebook_long.loc[\n"
     ]
    },
    {
     "name": "stdout",
     "output_type": "stream",
     "text": [
      "EMA:45, X:12, PCT:0.25\n"
     ]
    },
    {
     "name": "stderr",
     "output_type": "stream",
     "text": [
      "/tmp/ipykernel_48125/2724525255.py:90: FutureWarning: Setting an item of incompatible dtype is deprecated and will raise an error in a future version of pandas. Value 'Trailing SL Hit' has dtype incompatible with float64, please explicitly cast to a compatible dtype first.\n",
      "  tradebook_long.loc[\n"
     ]
    },
    {
     "name": "stdout",
     "output_type": "stream",
     "text": [
      "EMA:45, X:12, PCT:0.5\n"
     ]
    },
    {
     "name": "stderr",
     "output_type": "stream",
     "text": [
      "/tmp/ipykernel_48125/2724525255.py:90: FutureWarning: Setting an item of incompatible dtype is deprecated and will raise an error in a future version of pandas. Value 'Trailing SL Hit' has dtype incompatible with float64, please explicitly cast to a compatible dtype first.\n",
      "  tradebook_long.loc[\n"
     ]
    },
    {
     "name": "stdout",
     "output_type": "stream",
     "text": [
      "EMA:45, X:12, PCT:0.75\n"
     ]
    },
    {
     "name": "stderr",
     "output_type": "stream",
     "text": [
      "/tmp/ipykernel_48125/2724525255.py:90: FutureWarning: Setting an item of incompatible dtype is deprecated and will raise an error in a future version of pandas. Value 'Trailing SL Hit' has dtype incompatible with float64, please explicitly cast to a compatible dtype first.\n",
      "  tradebook_long.loc[\n"
     ]
    },
    {
     "name": "stdout",
     "output_type": "stream",
     "text": [
      "EMA:45, X:12, PCT:1\n"
     ]
    },
    {
     "name": "stderr",
     "output_type": "stream",
     "text": [
      "/tmp/ipykernel_48125/2724525255.py:90: FutureWarning: Setting an item of incompatible dtype is deprecated and will raise an error in a future version of pandas. Value 'Trailing SL Hit' has dtype incompatible with float64, please explicitly cast to a compatible dtype first.\n",
      "  tradebook_long.loc[\n"
     ]
    },
    {
     "name": "stdout",
     "output_type": "stream",
     "text": [
      "EMA:45, X:16, PCT:0.25\n"
     ]
    },
    {
     "name": "stderr",
     "output_type": "stream",
     "text": [
      "/tmp/ipykernel_48125/2724525255.py:90: FutureWarning: Setting an item of incompatible dtype is deprecated and will raise an error in a future version of pandas. Value 'Trailing SL Hit' has dtype incompatible with float64, please explicitly cast to a compatible dtype first.\n",
      "  tradebook_long.loc[\n"
     ]
    },
    {
     "name": "stdout",
     "output_type": "stream",
     "text": [
      "EMA:45, X:16, PCT:0.5\n"
     ]
    },
    {
     "name": "stderr",
     "output_type": "stream",
     "text": [
      "/tmp/ipykernel_48125/2724525255.py:90: FutureWarning: Setting an item of incompatible dtype is deprecated and will raise an error in a future version of pandas. Value 'Trailing SL Hit' has dtype incompatible with float64, please explicitly cast to a compatible dtype first.\n",
      "  tradebook_long.loc[\n"
     ]
    },
    {
     "name": "stdout",
     "output_type": "stream",
     "text": [
      "EMA:45, X:16, PCT:0.75\n"
     ]
    },
    {
     "name": "stderr",
     "output_type": "stream",
     "text": [
      "/tmp/ipykernel_48125/2724525255.py:90: FutureWarning: Setting an item of incompatible dtype is deprecated and will raise an error in a future version of pandas. Value 'Trailing SL Hit' has dtype incompatible with float64, please explicitly cast to a compatible dtype first.\n",
      "  tradebook_long.loc[\n"
     ]
    },
    {
     "name": "stdout",
     "output_type": "stream",
     "text": [
      "EMA:45, X:16, PCT:1\n"
     ]
    },
    {
     "name": "stderr",
     "output_type": "stream",
     "text": [
      "/tmp/ipykernel_48125/2724525255.py:90: FutureWarning: Setting an item of incompatible dtype is deprecated and will raise an error in a future version of pandas. Value 'Trailing SL Hit' has dtype incompatible with float64, please explicitly cast to a compatible dtype first.\n",
      "  tradebook_long.loc[\n"
     ]
    },
    {
     "name": "stdout",
     "output_type": "stream",
     "text": [
      "EMA:45, X:20, PCT:0.25\n"
     ]
    },
    {
     "name": "stderr",
     "output_type": "stream",
     "text": [
      "/tmp/ipykernel_48125/2724525255.py:90: FutureWarning: Setting an item of incompatible dtype is deprecated and will raise an error in a future version of pandas. Value 'Trailing SL Hit' has dtype incompatible with float64, please explicitly cast to a compatible dtype first.\n",
      "  tradebook_long.loc[\n"
     ]
    },
    {
     "name": "stdout",
     "output_type": "stream",
     "text": [
      "EMA:45, X:20, PCT:0.5\n"
     ]
    },
    {
     "name": "stderr",
     "output_type": "stream",
     "text": [
      "/tmp/ipykernel_48125/2724525255.py:90: FutureWarning: Setting an item of incompatible dtype is deprecated and will raise an error in a future version of pandas. Value 'Trailing SL Hit' has dtype incompatible with float64, please explicitly cast to a compatible dtype first.\n",
      "  tradebook_long.loc[\n"
     ]
    },
    {
     "name": "stdout",
     "output_type": "stream",
     "text": [
      "EMA:45, X:20, PCT:0.75\n"
     ]
    },
    {
     "name": "stderr",
     "output_type": "stream",
     "text": [
      "/tmp/ipykernel_48125/2724525255.py:76: FutureWarning: Setting an item of incompatible dtype is deprecated and will raise an error in a future version of pandas. Value 'Initial SL Hit' has dtype incompatible with float64, please explicitly cast to a compatible dtype first.\n",
      "  tradebook_long.loc[\n"
     ]
    },
    {
     "name": "stdout",
     "output_type": "stream",
     "text": [
      "EMA:45, X:20, PCT:1\n"
     ]
    },
    {
     "name": "stderr",
     "output_type": "stream",
     "text": [
      "/tmp/ipykernel_48125/2724525255.py:90: FutureWarning: Setting an item of incompatible dtype is deprecated and will raise an error in a future version of pandas. Value 'Trailing SL Hit' has dtype incompatible with float64, please explicitly cast to a compatible dtype first.\n",
      "  tradebook_long.loc[\n"
     ]
    },
    {
     "name": "stdout",
     "output_type": "stream",
     "text": [
      "EMA:45, X:24, PCT:0.25\n"
     ]
    },
    {
     "name": "stderr",
     "output_type": "stream",
     "text": [
      "/tmp/ipykernel_48125/2724525255.py:90: FutureWarning: Setting an item of incompatible dtype is deprecated and will raise an error in a future version of pandas. Value 'Trailing SL Hit' has dtype incompatible with float64, please explicitly cast to a compatible dtype first.\n",
      "  tradebook_long.loc[\n"
     ]
    },
    {
     "name": "stdout",
     "output_type": "stream",
     "text": [
      "EMA:45, X:24, PCT:0.5\n"
     ]
    },
    {
     "name": "stderr",
     "output_type": "stream",
     "text": [
      "/tmp/ipykernel_48125/2724525255.py:90: FutureWarning: Setting an item of incompatible dtype is deprecated and will raise an error in a future version of pandas. Value 'Trailing SL Hit' has dtype incompatible with float64, please explicitly cast to a compatible dtype first.\n",
      "  tradebook_long.loc[\n"
     ]
    },
    {
     "name": "stdout",
     "output_type": "stream",
     "text": [
      "EMA:45, X:24, PCT:0.75\n"
     ]
    },
    {
     "name": "stderr",
     "output_type": "stream",
     "text": [
      "/tmp/ipykernel_48125/2724525255.py:90: FutureWarning: Setting an item of incompatible dtype is deprecated and will raise an error in a future version of pandas. Value 'Trailing SL Hit' has dtype incompatible with float64, please explicitly cast to a compatible dtype first.\n",
      "  tradebook_long.loc[\n"
     ]
    },
    {
     "name": "stdout",
     "output_type": "stream",
     "text": [
      "EMA:45, X:24, PCT:1\n"
     ]
    },
    {
     "name": "stderr",
     "output_type": "stream",
     "text": [
      "/tmp/ipykernel_48125/2724525255.py:90: FutureWarning: Setting an item of incompatible dtype is deprecated and will raise an error in a future version of pandas. Value 'Trailing SL Hit' has dtype incompatible with float64, please explicitly cast to a compatible dtype first.\n",
      "  tradebook_long.loc[\n"
     ]
    },
    {
     "name": "stdout",
     "output_type": "stream",
     "text": [
      "EMA:45, X:28, PCT:0.25\n"
     ]
    },
    {
     "name": "stderr",
     "output_type": "stream",
     "text": [
      "/tmp/ipykernel_48125/2724525255.py:90: FutureWarning: Setting an item of incompatible dtype is deprecated and will raise an error in a future version of pandas. Value 'Trailing SL Hit' has dtype incompatible with float64, please explicitly cast to a compatible dtype first.\n",
      "  tradebook_long.loc[\n"
     ]
    },
    {
     "name": "stdout",
     "output_type": "stream",
     "text": [
      "EMA:45, X:28, PCT:0.5\n"
     ]
    },
    {
     "name": "stderr",
     "output_type": "stream",
     "text": [
      "/tmp/ipykernel_48125/2724525255.py:90: FutureWarning: Setting an item of incompatible dtype is deprecated and will raise an error in a future version of pandas. Value 'Trailing SL Hit' has dtype incompatible with float64, please explicitly cast to a compatible dtype first.\n",
      "  tradebook_long.loc[\n"
     ]
    },
    {
     "name": "stdout",
     "output_type": "stream",
     "text": [
      "EMA:45, X:28, PCT:0.75\n"
     ]
    },
    {
     "name": "stderr",
     "output_type": "stream",
     "text": [
      "/tmp/ipykernel_48125/2724525255.py:90: FutureWarning: Setting an item of incompatible dtype is deprecated and will raise an error in a future version of pandas. Value 'Trailing SL Hit' has dtype incompatible with float64, please explicitly cast to a compatible dtype first.\n",
      "  tradebook_long.loc[\n"
     ]
    },
    {
     "name": "stdout",
     "output_type": "stream",
     "text": [
      "EMA:45, X:28, PCT:1\n"
     ]
    },
    {
     "name": "stderr",
     "output_type": "stream",
     "text": [
      "/tmp/ipykernel_48125/2724525255.py:90: FutureWarning: Setting an item of incompatible dtype is deprecated and will raise an error in a future version of pandas. Value 'Trailing SL Hit' has dtype incompatible with float64, please explicitly cast to a compatible dtype first.\n",
      "  tradebook_long.loc[\n"
     ]
    },
    {
     "name": "stdout",
     "output_type": "stream",
     "text": [
      "EMA:45, X:32, PCT:0.25\n"
     ]
    },
    {
     "name": "stderr",
     "output_type": "stream",
     "text": [
      "/tmp/ipykernel_48125/2724525255.py:90: FutureWarning: Setting an item of incompatible dtype is deprecated and will raise an error in a future version of pandas. Value 'Trailing SL Hit' has dtype incompatible with float64, please explicitly cast to a compatible dtype first.\n",
      "  tradebook_long.loc[\n"
     ]
    },
    {
     "name": "stdout",
     "output_type": "stream",
     "text": [
      "EMA:45, X:32, PCT:0.5\n"
     ]
    },
    {
     "name": "stderr",
     "output_type": "stream",
     "text": [
      "/tmp/ipykernel_48125/2724525255.py:90: FutureWarning: Setting an item of incompatible dtype is deprecated and will raise an error in a future version of pandas. Value 'Trailing SL Hit' has dtype incompatible with float64, please explicitly cast to a compatible dtype first.\n",
      "  tradebook_long.loc[\n"
     ]
    },
    {
     "name": "stdout",
     "output_type": "stream",
     "text": [
      "EMA:45, X:32, PCT:0.75\n"
     ]
    },
    {
     "name": "stderr",
     "output_type": "stream",
     "text": [
      "/tmp/ipykernel_48125/2724525255.py:90: FutureWarning: Setting an item of incompatible dtype is deprecated and will raise an error in a future version of pandas. Value 'Trailing SL Hit' has dtype incompatible with float64, please explicitly cast to a compatible dtype first.\n",
      "  tradebook_long.loc[\n"
     ]
    },
    {
     "name": "stdout",
     "output_type": "stream",
     "text": [
      "EMA:45, X:32, PCT:1\n"
     ]
    },
    {
     "name": "stderr",
     "output_type": "stream",
     "text": [
      "/tmp/ipykernel_48125/2724525255.py:90: FutureWarning: Setting an item of incompatible dtype is deprecated and will raise an error in a future version of pandas. Value 'Trailing SL Hit' has dtype incompatible with float64, please explicitly cast to a compatible dtype first.\n",
      "  tradebook_long.loc[\n"
     ]
    },
    {
     "name": "stdout",
     "output_type": "stream",
     "text": [
      "EMA:45, X:36, PCT:0.25\n"
     ]
    },
    {
     "name": "stderr",
     "output_type": "stream",
     "text": [
      "/tmp/ipykernel_48125/2724525255.py:90: FutureWarning: Setting an item of incompatible dtype is deprecated and will raise an error in a future version of pandas. Value 'Trailing SL Hit' has dtype incompatible with float64, please explicitly cast to a compatible dtype first.\n",
      "  tradebook_long.loc[\n"
     ]
    },
    {
     "name": "stdout",
     "output_type": "stream",
     "text": [
      "EMA:45, X:36, PCT:0.5\n"
     ]
    },
    {
     "name": "stderr",
     "output_type": "stream",
     "text": [
      "/tmp/ipykernel_48125/2724525255.py:90: FutureWarning: Setting an item of incompatible dtype is deprecated and will raise an error in a future version of pandas. Value 'Trailing SL Hit' has dtype incompatible with float64, please explicitly cast to a compatible dtype first.\n",
      "  tradebook_long.loc[\n"
     ]
    },
    {
     "name": "stdout",
     "output_type": "stream",
     "text": [
      "EMA:45, X:36, PCT:0.75\n"
     ]
    },
    {
     "name": "stderr",
     "output_type": "stream",
     "text": [
      "/tmp/ipykernel_48125/2724525255.py:90: FutureWarning: Setting an item of incompatible dtype is deprecated and will raise an error in a future version of pandas. Value 'Trailing SL Hit' has dtype incompatible with float64, please explicitly cast to a compatible dtype first.\n",
      "  tradebook_long.loc[\n"
     ]
    },
    {
     "name": "stdout",
     "output_type": "stream",
     "text": [
      "EMA:45, X:36, PCT:1\n"
     ]
    },
    {
     "name": "stderr",
     "output_type": "stream",
     "text": [
      "/tmp/ipykernel_48125/2724525255.py:90: FutureWarning: Setting an item of incompatible dtype is deprecated and will raise an error in a future version of pandas. Value 'Trailing SL Hit' has dtype incompatible with float64, please explicitly cast to a compatible dtype first.\n",
      "  tradebook_long.loc[\n"
     ]
    },
    {
     "name": "stdout",
     "output_type": "stream",
     "text": [
      "EMA:50, X:4, PCT:0.25\n"
     ]
    },
    {
     "name": "stderr",
     "output_type": "stream",
     "text": [
      "/tmp/ipykernel_48125/2724525255.py:90: FutureWarning: Setting an item of incompatible dtype is deprecated and will raise an error in a future version of pandas. Value 'Trailing SL Hit' has dtype incompatible with float64, please explicitly cast to a compatible dtype first.\n",
      "  tradebook_long.loc[\n"
     ]
    },
    {
     "name": "stdout",
     "output_type": "stream",
     "text": [
      "EMA:50, X:4, PCT:0.5\n"
     ]
    },
    {
     "name": "stderr",
     "output_type": "stream",
     "text": [
      "/tmp/ipykernel_48125/2724525255.py:90: FutureWarning: Setting an item of incompatible dtype is deprecated and will raise an error in a future version of pandas. Value 'Trailing SL Hit' has dtype incompatible with float64, please explicitly cast to a compatible dtype first.\n",
      "  tradebook_long.loc[\n"
     ]
    },
    {
     "name": "stdout",
     "output_type": "stream",
     "text": [
      "EMA:50, X:4, PCT:0.75\n"
     ]
    },
    {
     "name": "stderr",
     "output_type": "stream",
     "text": [
      "/tmp/ipykernel_48125/2724525255.py:76: FutureWarning: Setting an item of incompatible dtype is deprecated and will raise an error in a future version of pandas. Value 'Initial SL Hit' has dtype incompatible with float64, please explicitly cast to a compatible dtype first.\n",
      "  tradebook_long.loc[\n"
     ]
    },
    {
     "name": "stdout",
     "output_type": "stream",
     "text": [
      "EMA:50, X:4, PCT:1\n"
     ]
    },
    {
     "name": "stderr",
     "output_type": "stream",
     "text": [
      "/tmp/ipykernel_48125/2724525255.py:90: FutureWarning: Setting an item of incompatible dtype is deprecated and will raise an error in a future version of pandas. Value 'Trailing SL Hit' has dtype incompatible with float64, please explicitly cast to a compatible dtype first.\n",
      "  tradebook_long.loc[\n",
      "/tmp/ipykernel_48125/2611632047.py:45: RuntimeWarning: divide by zero encountered in scalar divide\n",
      "  roi_dd_ratio = total_roi / abs(max_drawdown)\n",
      "/tmp/ipykernel_48125/2724525255.py:90: FutureWarning: Setting an item of incompatible dtype is deprecated and will raise an error in a future version of pandas. Value 'Trailing SL Hit' has dtype incompatible with float64, please explicitly cast to a compatible dtype first.\n",
      "  tradebook_long.loc[\n"
     ]
    },
    {
     "name": "stdout",
     "output_type": "stream",
     "text": [
      "EMA:50, X:8, PCT:0.25\n",
      "EMA:50, X:8, PCT:0.5\n"
     ]
    },
    {
     "name": "stderr",
     "output_type": "stream",
     "text": [
      "/tmp/ipykernel_48125/2724525255.py:90: FutureWarning: Setting an item of incompatible dtype is deprecated and will raise an error in a future version of pandas. Value 'Trailing SL Hit' has dtype incompatible with float64, please explicitly cast to a compatible dtype first.\n",
      "  tradebook_long.loc[\n"
     ]
    },
    {
     "name": "stdout",
     "output_type": "stream",
     "text": [
      "EMA:50, X:8, PCT:0.75\n"
     ]
    },
    {
     "name": "stderr",
     "output_type": "stream",
     "text": [
      "/tmp/ipykernel_48125/2724525255.py:90: FutureWarning: Setting an item of incompatible dtype is deprecated and will raise an error in a future version of pandas. Value 'Trailing SL Hit' has dtype incompatible with float64, please explicitly cast to a compatible dtype first.\n",
      "  tradebook_long.loc[\n"
     ]
    },
    {
     "name": "stdout",
     "output_type": "stream",
     "text": [
      "EMA:50, X:8, PCT:1\n"
     ]
    },
    {
     "name": "stderr",
     "output_type": "stream",
     "text": [
      "/tmp/ipykernel_48125/2724525255.py:90: FutureWarning: Setting an item of incompatible dtype is deprecated and will raise an error in a future version of pandas. Value 'Trailing SL Hit' has dtype incompatible with float64, please explicitly cast to a compatible dtype first.\n",
      "  tradebook_long.loc[\n"
     ]
    },
    {
     "name": "stdout",
     "output_type": "stream",
     "text": [
      "EMA:50, X:12, PCT:0.25\n"
     ]
    },
    {
     "name": "stderr",
     "output_type": "stream",
     "text": [
      "/tmp/ipykernel_48125/2724525255.py:90: FutureWarning: Setting an item of incompatible dtype is deprecated and will raise an error in a future version of pandas. Value 'Trailing SL Hit' has dtype incompatible with float64, please explicitly cast to a compatible dtype first.\n",
      "  tradebook_long.loc[\n"
     ]
    },
    {
     "name": "stdout",
     "output_type": "stream",
     "text": [
      "EMA:50, X:12, PCT:0.5\n"
     ]
    },
    {
     "name": "stderr",
     "output_type": "stream",
     "text": [
      "/tmp/ipykernel_48125/2724525255.py:90: FutureWarning: Setting an item of incompatible dtype is deprecated and will raise an error in a future version of pandas. Value 'Trailing SL Hit' has dtype incompatible with float64, please explicitly cast to a compatible dtype first.\n",
      "  tradebook_long.loc[\n"
     ]
    },
    {
     "name": "stdout",
     "output_type": "stream",
     "text": [
      "EMA:50, X:12, PCT:0.75\n"
     ]
    },
    {
     "name": "stderr",
     "output_type": "stream",
     "text": [
      "/tmp/ipykernel_48125/2724525255.py:90: FutureWarning: Setting an item of incompatible dtype is deprecated and will raise an error in a future version of pandas. Value 'Trailing SL Hit' has dtype incompatible with float64, please explicitly cast to a compatible dtype first.\n",
      "  tradebook_long.loc[\n"
     ]
    },
    {
     "name": "stdout",
     "output_type": "stream",
     "text": [
      "EMA:50, X:12, PCT:1\n"
     ]
    },
    {
     "name": "stderr",
     "output_type": "stream",
     "text": [
      "/tmp/ipykernel_48125/2724525255.py:90: FutureWarning: Setting an item of incompatible dtype is deprecated and will raise an error in a future version of pandas. Value 'Trailing SL Hit' has dtype incompatible with float64, please explicitly cast to a compatible dtype first.\n",
      "  tradebook_long.loc[\n"
     ]
    },
    {
     "name": "stdout",
     "output_type": "stream",
     "text": [
      "EMA:50, X:16, PCT:0.25\n"
     ]
    },
    {
     "name": "stderr",
     "output_type": "stream",
     "text": [
      "/tmp/ipykernel_48125/2724525255.py:90: FutureWarning: Setting an item of incompatible dtype is deprecated and will raise an error in a future version of pandas. Value 'Trailing SL Hit' has dtype incompatible with float64, please explicitly cast to a compatible dtype first.\n",
      "  tradebook_long.loc[\n"
     ]
    },
    {
     "name": "stdout",
     "output_type": "stream",
     "text": [
      "EMA:50, X:16, PCT:0.5\n"
     ]
    },
    {
     "name": "stderr",
     "output_type": "stream",
     "text": [
      "/tmp/ipykernel_48125/2724525255.py:90: FutureWarning: Setting an item of incompatible dtype is deprecated and will raise an error in a future version of pandas. Value 'Trailing SL Hit' has dtype incompatible with float64, please explicitly cast to a compatible dtype first.\n",
      "  tradebook_long.loc[\n"
     ]
    },
    {
     "name": "stdout",
     "output_type": "stream",
     "text": [
      "EMA:50, X:16, PCT:0.75\n"
     ]
    },
    {
     "name": "stderr",
     "output_type": "stream",
     "text": [
      "/tmp/ipykernel_48125/2724525255.py:90: FutureWarning: Setting an item of incompatible dtype is deprecated and will raise an error in a future version of pandas. Value 'Trailing SL Hit' has dtype incompatible with float64, please explicitly cast to a compatible dtype first.\n",
      "  tradebook_long.loc[\n"
     ]
    },
    {
     "name": "stdout",
     "output_type": "stream",
     "text": [
      "EMA:50, X:16, PCT:1\n"
     ]
    },
    {
     "name": "stderr",
     "output_type": "stream",
     "text": [
      "/tmp/ipykernel_48125/2724525255.py:90: FutureWarning: Setting an item of incompatible dtype is deprecated and will raise an error in a future version of pandas. Value 'Trailing SL Hit' has dtype incompatible with float64, please explicitly cast to a compatible dtype first.\n",
      "  tradebook_long.loc[\n"
     ]
    },
    {
     "name": "stdout",
     "output_type": "stream",
     "text": [
      "EMA:50, X:20, PCT:0.25\n"
     ]
    },
    {
     "name": "stderr",
     "output_type": "stream",
     "text": [
      "/tmp/ipykernel_48125/2724525255.py:90: FutureWarning: Setting an item of incompatible dtype is deprecated and will raise an error in a future version of pandas. Value 'Trailing SL Hit' has dtype incompatible with float64, please explicitly cast to a compatible dtype first.\n",
      "  tradebook_long.loc[\n"
     ]
    },
    {
     "name": "stdout",
     "output_type": "stream",
     "text": [
      "EMA:50, X:20, PCT:0.5\n"
     ]
    },
    {
     "name": "stderr",
     "output_type": "stream",
     "text": [
      "/tmp/ipykernel_48125/2724525255.py:90: FutureWarning: Setting an item of incompatible dtype is deprecated and will raise an error in a future version of pandas. Value 'Trailing SL Hit' has dtype incompatible with float64, please explicitly cast to a compatible dtype first.\n",
      "  tradebook_long.loc[\n"
     ]
    },
    {
     "name": "stdout",
     "output_type": "stream",
     "text": [
      "EMA:50, X:20, PCT:0.75\n"
     ]
    },
    {
     "name": "stderr",
     "output_type": "stream",
     "text": [
      "/tmp/ipykernel_48125/2724525255.py:76: FutureWarning: Setting an item of incompatible dtype is deprecated and will raise an error in a future version of pandas. Value 'Initial SL Hit' has dtype incompatible with float64, please explicitly cast to a compatible dtype first.\n",
      "  tradebook_long.loc[\n"
     ]
    },
    {
     "name": "stdout",
     "output_type": "stream",
     "text": [
      "EMA:50, X:20, PCT:1\n"
     ]
    },
    {
     "name": "stderr",
     "output_type": "stream",
     "text": [
      "/tmp/ipykernel_48125/2724525255.py:90: FutureWarning: Setting an item of incompatible dtype is deprecated and will raise an error in a future version of pandas. Value 'Trailing SL Hit' has dtype incompatible with float64, please explicitly cast to a compatible dtype first.\n",
      "  tradebook_long.loc[\n"
     ]
    },
    {
     "name": "stdout",
     "output_type": "stream",
     "text": [
      "EMA:50, X:24, PCT:0.25\n"
     ]
    },
    {
     "name": "stderr",
     "output_type": "stream",
     "text": [
      "/tmp/ipykernel_48125/2724525255.py:90: FutureWarning: Setting an item of incompatible dtype is deprecated and will raise an error in a future version of pandas. Value 'Trailing SL Hit' has dtype incompatible with float64, please explicitly cast to a compatible dtype first.\n",
      "  tradebook_long.loc[\n"
     ]
    },
    {
     "name": "stdout",
     "output_type": "stream",
     "text": [
      "EMA:50, X:24, PCT:0.5\n"
     ]
    },
    {
     "name": "stderr",
     "output_type": "stream",
     "text": [
      "/tmp/ipykernel_48125/2724525255.py:90: FutureWarning: Setting an item of incompatible dtype is deprecated and will raise an error in a future version of pandas. Value 'Trailing SL Hit' has dtype incompatible with float64, please explicitly cast to a compatible dtype first.\n",
      "  tradebook_long.loc[\n"
     ]
    },
    {
     "name": "stdout",
     "output_type": "stream",
     "text": [
      "EMA:50, X:24, PCT:0.75\n"
     ]
    },
    {
     "name": "stderr",
     "output_type": "stream",
     "text": [
      "/tmp/ipykernel_48125/2724525255.py:90: FutureWarning: Setting an item of incompatible dtype is deprecated and will raise an error in a future version of pandas. Value 'Trailing SL Hit' has dtype incompatible with float64, please explicitly cast to a compatible dtype first.\n",
      "  tradebook_long.loc[\n"
     ]
    },
    {
     "name": "stdout",
     "output_type": "stream",
     "text": [
      "EMA:50, X:24, PCT:1\n"
     ]
    },
    {
     "name": "stderr",
     "output_type": "stream",
     "text": [
      "/tmp/ipykernel_48125/2724525255.py:90: FutureWarning: Setting an item of incompatible dtype is deprecated and will raise an error in a future version of pandas. Value 'Trailing SL Hit' has dtype incompatible with float64, please explicitly cast to a compatible dtype first.\n",
      "  tradebook_long.loc[\n"
     ]
    },
    {
     "name": "stdout",
     "output_type": "stream",
     "text": [
      "EMA:50, X:28, PCT:0.25\n"
     ]
    },
    {
     "name": "stderr",
     "output_type": "stream",
     "text": [
      "/tmp/ipykernel_48125/2724525255.py:90: FutureWarning: Setting an item of incompatible dtype is deprecated and will raise an error in a future version of pandas. Value 'Trailing SL Hit' has dtype incompatible with float64, please explicitly cast to a compatible dtype first.\n",
      "  tradebook_long.loc[\n"
     ]
    },
    {
     "name": "stdout",
     "output_type": "stream",
     "text": [
      "EMA:50, X:28, PCT:0.5\n"
     ]
    },
    {
     "name": "stderr",
     "output_type": "stream",
     "text": [
      "/tmp/ipykernel_48125/2724525255.py:90: FutureWarning: Setting an item of incompatible dtype is deprecated and will raise an error in a future version of pandas. Value 'Trailing SL Hit' has dtype incompatible with float64, please explicitly cast to a compatible dtype first.\n",
      "  tradebook_long.loc[\n"
     ]
    },
    {
     "name": "stdout",
     "output_type": "stream",
     "text": [
      "EMA:50, X:28, PCT:0.75\n"
     ]
    },
    {
     "name": "stderr",
     "output_type": "stream",
     "text": [
      "/tmp/ipykernel_48125/2724525255.py:90: FutureWarning: Setting an item of incompatible dtype is deprecated and will raise an error in a future version of pandas. Value 'Trailing SL Hit' has dtype incompatible with float64, please explicitly cast to a compatible dtype first.\n",
      "  tradebook_long.loc[\n"
     ]
    },
    {
     "name": "stdout",
     "output_type": "stream",
     "text": [
      "EMA:50, X:28, PCT:1\n"
     ]
    },
    {
     "name": "stderr",
     "output_type": "stream",
     "text": [
      "/tmp/ipykernel_48125/2724525255.py:90: FutureWarning: Setting an item of incompatible dtype is deprecated and will raise an error in a future version of pandas. Value 'Trailing SL Hit' has dtype incompatible with float64, please explicitly cast to a compatible dtype first.\n",
      "  tradebook_long.loc[\n"
     ]
    },
    {
     "name": "stdout",
     "output_type": "stream",
     "text": [
      "EMA:50, X:32, PCT:0.25\n"
     ]
    },
    {
     "name": "stderr",
     "output_type": "stream",
     "text": [
      "/tmp/ipykernel_48125/2724525255.py:90: FutureWarning: Setting an item of incompatible dtype is deprecated and will raise an error in a future version of pandas. Value 'Trailing SL Hit' has dtype incompatible with float64, please explicitly cast to a compatible dtype first.\n",
      "  tradebook_long.loc[\n"
     ]
    },
    {
     "name": "stdout",
     "output_type": "stream",
     "text": [
      "EMA:50, X:32, PCT:0.5\n"
     ]
    },
    {
     "name": "stderr",
     "output_type": "stream",
     "text": [
      "/tmp/ipykernel_48125/2724525255.py:90: FutureWarning: Setting an item of incompatible dtype is deprecated and will raise an error in a future version of pandas. Value 'Trailing SL Hit' has dtype incompatible with float64, please explicitly cast to a compatible dtype first.\n",
      "  tradebook_long.loc[\n"
     ]
    },
    {
     "name": "stdout",
     "output_type": "stream",
     "text": [
      "EMA:50, X:32, PCT:0.75\n"
     ]
    },
    {
     "name": "stderr",
     "output_type": "stream",
     "text": [
      "/tmp/ipykernel_48125/2724525255.py:90: FutureWarning: Setting an item of incompatible dtype is deprecated and will raise an error in a future version of pandas. Value 'Trailing SL Hit' has dtype incompatible with float64, please explicitly cast to a compatible dtype first.\n",
      "  tradebook_long.loc[\n"
     ]
    },
    {
     "name": "stdout",
     "output_type": "stream",
     "text": [
      "EMA:50, X:32, PCT:1\n"
     ]
    },
    {
     "name": "stderr",
     "output_type": "stream",
     "text": [
      "/tmp/ipykernel_48125/2724525255.py:90: FutureWarning: Setting an item of incompatible dtype is deprecated and will raise an error in a future version of pandas. Value 'Trailing SL Hit' has dtype incompatible with float64, please explicitly cast to a compatible dtype first.\n",
      "  tradebook_long.loc[\n"
     ]
    },
    {
     "name": "stdout",
     "output_type": "stream",
     "text": [
      "EMA:50, X:36, PCT:0.25\n"
     ]
    },
    {
     "name": "stderr",
     "output_type": "stream",
     "text": [
      "/tmp/ipykernel_48125/2724525255.py:90: FutureWarning: Setting an item of incompatible dtype is deprecated and will raise an error in a future version of pandas. Value 'Trailing SL Hit' has dtype incompatible with float64, please explicitly cast to a compatible dtype first.\n",
      "  tradebook_long.loc[\n"
     ]
    },
    {
     "name": "stdout",
     "output_type": "stream",
     "text": [
      "EMA:50, X:36, PCT:0.5\n"
     ]
    },
    {
     "name": "stderr",
     "output_type": "stream",
     "text": [
      "/tmp/ipykernel_48125/2724525255.py:90: FutureWarning: Setting an item of incompatible dtype is deprecated and will raise an error in a future version of pandas. Value 'Trailing SL Hit' has dtype incompatible with float64, please explicitly cast to a compatible dtype first.\n",
      "  tradebook_long.loc[\n"
     ]
    },
    {
     "name": "stdout",
     "output_type": "stream",
     "text": [
      "EMA:50, X:36, PCT:0.75\n"
     ]
    },
    {
     "name": "stderr",
     "output_type": "stream",
     "text": [
      "/tmp/ipykernel_48125/2724525255.py:90: FutureWarning: Setting an item of incompatible dtype is deprecated and will raise an error in a future version of pandas. Value 'Trailing SL Hit' has dtype incompatible with float64, please explicitly cast to a compatible dtype first.\n",
      "  tradebook_long.loc[\n"
     ]
    },
    {
     "name": "stdout",
     "output_type": "stream",
     "text": [
      "EMA:50, X:36, PCT:1\n"
     ]
    },
    {
     "name": "stderr",
     "output_type": "stream",
     "text": [
      "/tmp/ipykernel_48125/2724525255.py:90: FutureWarning: Setting an item of incompatible dtype is deprecated and will raise an error in a future version of pandas. Value 'Trailing SL Hit' has dtype incompatible with float64, please explicitly cast to a compatible dtype first.\n",
      "  tradebook_long.loc[\n"
     ]
    },
    {
     "name": "stdout",
     "output_type": "stream",
     "text": [
      "EMA:55, X:4, PCT:0.25\n"
     ]
    },
    {
     "name": "stderr",
     "output_type": "stream",
     "text": [
      "/tmp/ipykernel_48125/2724525255.py:90: FutureWarning: Setting an item of incompatible dtype is deprecated and will raise an error in a future version of pandas. Value 'Trailing SL Hit' has dtype incompatible with float64, please explicitly cast to a compatible dtype first.\n",
      "  tradebook_long.loc[\n"
     ]
    },
    {
     "name": "stdout",
     "output_type": "stream",
     "text": [
      "EMA:55, X:4, PCT:0.5\n"
     ]
    },
    {
     "name": "stderr",
     "output_type": "stream",
     "text": [
      "/tmp/ipykernel_48125/2724525255.py:90: FutureWarning: Setting an item of incompatible dtype is deprecated and will raise an error in a future version of pandas. Value 'Trailing SL Hit' has dtype incompatible with float64, please explicitly cast to a compatible dtype first.\n",
      "  tradebook_long.loc[\n"
     ]
    },
    {
     "name": "stdout",
     "output_type": "stream",
     "text": [
      "EMA:55, X:4, PCT:0.75\n"
     ]
    },
    {
     "name": "stderr",
     "output_type": "stream",
     "text": [
      "/tmp/ipykernel_48125/2724525255.py:76: FutureWarning: Setting an item of incompatible dtype is deprecated and will raise an error in a future version of pandas. Value 'Initial SL Hit' has dtype incompatible with float64, please explicitly cast to a compatible dtype first.\n",
      "  tradebook_long.loc[\n"
     ]
    },
    {
     "name": "stdout",
     "output_type": "stream",
     "text": [
      "EMA:55, X:4, PCT:1\n"
     ]
    },
    {
     "name": "stderr",
     "output_type": "stream",
     "text": [
      "/tmp/ipykernel_48125/2724525255.py:90: FutureWarning: Setting an item of incompatible dtype is deprecated and will raise an error in a future version of pandas. Value 'Trailing SL Hit' has dtype incompatible with float64, please explicitly cast to a compatible dtype first.\n",
      "  tradebook_long.loc[\n",
      "/tmp/ipykernel_48125/2611632047.py:45: RuntimeWarning: divide by zero encountered in scalar divide\n",
      "  roi_dd_ratio = total_roi / abs(max_drawdown)\n",
      "/tmp/ipykernel_48125/2724525255.py:90: FutureWarning: Setting an item of incompatible dtype is deprecated and will raise an error in a future version of pandas. Value 'Trailing SL Hit' has dtype incompatible with float64, please explicitly cast to a compatible dtype first.\n",
      "  tradebook_long.loc[\n"
     ]
    },
    {
     "name": "stdout",
     "output_type": "stream",
     "text": [
      "EMA:55, X:8, PCT:0.25\n",
      "EMA:55, X:8, PCT:0.5\n"
     ]
    },
    {
     "name": "stderr",
     "output_type": "stream",
     "text": [
      "/tmp/ipykernel_48125/2724525255.py:90: FutureWarning: Setting an item of incompatible dtype is deprecated and will raise an error in a future version of pandas. Value 'Trailing SL Hit' has dtype incompatible with float64, please explicitly cast to a compatible dtype first.\n",
      "  tradebook_long.loc[\n"
     ]
    },
    {
     "name": "stdout",
     "output_type": "stream",
     "text": [
      "EMA:55, X:8, PCT:0.75\n"
     ]
    },
    {
     "name": "stderr",
     "output_type": "stream",
     "text": [
      "/tmp/ipykernel_48125/2724525255.py:90: FutureWarning: Setting an item of incompatible dtype is deprecated and will raise an error in a future version of pandas. Value 'Trailing SL Hit' has dtype incompatible with float64, please explicitly cast to a compatible dtype first.\n",
      "  tradebook_long.loc[\n"
     ]
    },
    {
     "name": "stdout",
     "output_type": "stream",
     "text": [
      "EMA:55, X:8, PCT:1\n"
     ]
    },
    {
     "name": "stderr",
     "output_type": "stream",
     "text": [
      "/tmp/ipykernel_48125/2724525255.py:90: FutureWarning: Setting an item of incompatible dtype is deprecated and will raise an error in a future version of pandas. Value 'Trailing SL Hit' has dtype incompatible with float64, please explicitly cast to a compatible dtype first.\n",
      "  tradebook_long.loc[\n"
     ]
    },
    {
     "name": "stdout",
     "output_type": "stream",
     "text": [
      "EMA:55, X:12, PCT:0.25\n"
     ]
    },
    {
     "name": "stderr",
     "output_type": "stream",
     "text": [
      "/tmp/ipykernel_48125/2724525255.py:90: FutureWarning: Setting an item of incompatible dtype is deprecated and will raise an error in a future version of pandas. Value 'Trailing SL Hit' has dtype incompatible with float64, please explicitly cast to a compatible dtype first.\n",
      "  tradebook_long.loc[\n"
     ]
    },
    {
     "name": "stdout",
     "output_type": "stream",
     "text": [
      "EMA:55, X:12, PCT:0.5\n"
     ]
    },
    {
     "name": "stderr",
     "output_type": "stream",
     "text": [
      "/tmp/ipykernel_48125/2724525255.py:90: FutureWarning: Setting an item of incompatible dtype is deprecated and will raise an error in a future version of pandas. Value 'Trailing SL Hit' has dtype incompatible with float64, please explicitly cast to a compatible dtype first.\n",
      "  tradebook_long.loc[\n"
     ]
    },
    {
     "name": "stdout",
     "output_type": "stream",
     "text": [
      "EMA:55, X:12, PCT:0.75\n"
     ]
    },
    {
     "name": "stderr",
     "output_type": "stream",
     "text": [
      "/tmp/ipykernel_48125/2724525255.py:90: FutureWarning: Setting an item of incompatible dtype is deprecated and will raise an error in a future version of pandas. Value 'Trailing SL Hit' has dtype incompatible with float64, please explicitly cast to a compatible dtype first.\n",
      "  tradebook_long.loc[\n"
     ]
    },
    {
     "name": "stdout",
     "output_type": "stream",
     "text": [
      "EMA:55, X:12, PCT:1\n"
     ]
    },
    {
     "name": "stderr",
     "output_type": "stream",
     "text": [
      "/tmp/ipykernel_48125/2724525255.py:90: FutureWarning: Setting an item of incompatible dtype is deprecated and will raise an error in a future version of pandas. Value 'Trailing SL Hit' has dtype incompatible with float64, please explicitly cast to a compatible dtype first.\n",
      "  tradebook_long.loc[\n"
     ]
    },
    {
     "name": "stdout",
     "output_type": "stream",
     "text": [
      "EMA:55, X:16, PCT:0.25\n"
     ]
    },
    {
     "name": "stderr",
     "output_type": "stream",
     "text": [
      "/tmp/ipykernel_48125/2724525255.py:90: FutureWarning: Setting an item of incompatible dtype is deprecated and will raise an error in a future version of pandas. Value 'Trailing SL Hit' has dtype incompatible with float64, please explicitly cast to a compatible dtype first.\n",
      "  tradebook_long.loc[\n"
     ]
    },
    {
     "name": "stdout",
     "output_type": "stream",
     "text": [
      "EMA:55, X:16, PCT:0.5\n"
     ]
    },
    {
     "name": "stderr",
     "output_type": "stream",
     "text": [
      "/tmp/ipykernel_48125/2724525255.py:90: FutureWarning: Setting an item of incompatible dtype is deprecated and will raise an error in a future version of pandas. Value 'Trailing SL Hit' has dtype incompatible with float64, please explicitly cast to a compatible dtype first.\n",
      "  tradebook_long.loc[\n"
     ]
    },
    {
     "name": "stdout",
     "output_type": "stream",
     "text": [
      "EMA:55, X:16, PCT:0.75\n"
     ]
    },
    {
     "name": "stderr",
     "output_type": "stream",
     "text": [
      "/tmp/ipykernel_48125/2724525255.py:90: FutureWarning: Setting an item of incompatible dtype is deprecated and will raise an error in a future version of pandas. Value 'Trailing SL Hit' has dtype incompatible with float64, please explicitly cast to a compatible dtype first.\n",
      "  tradebook_long.loc[\n"
     ]
    },
    {
     "name": "stdout",
     "output_type": "stream",
     "text": [
      "EMA:55, X:16, PCT:1\n"
     ]
    },
    {
     "name": "stderr",
     "output_type": "stream",
     "text": [
      "/tmp/ipykernel_48125/2724525255.py:90: FutureWarning: Setting an item of incompatible dtype is deprecated and will raise an error in a future version of pandas. Value 'Trailing SL Hit' has dtype incompatible with float64, please explicitly cast to a compatible dtype first.\n",
      "  tradebook_long.loc[\n"
     ]
    },
    {
     "name": "stdout",
     "output_type": "stream",
     "text": [
      "EMA:55, X:20, PCT:0.25\n"
     ]
    },
    {
     "name": "stderr",
     "output_type": "stream",
     "text": [
      "/tmp/ipykernel_48125/2724525255.py:90: FutureWarning: Setting an item of incompatible dtype is deprecated and will raise an error in a future version of pandas. Value 'Trailing SL Hit' has dtype incompatible with float64, please explicitly cast to a compatible dtype first.\n",
      "  tradebook_long.loc[\n"
     ]
    },
    {
     "name": "stdout",
     "output_type": "stream",
     "text": [
      "EMA:55, X:20, PCT:0.5\n"
     ]
    },
    {
     "name": "stderr",
     "output_type": "stream",
     "text": [
      "/tmp/ipykernel_48125/2724525255.py:90: FutureWarning: Setting an item of incompatible dtype is deprecated and will raise an error in a future version of pandas. Value 'Trailing SL Hit' has dtype incompatible with float64, please explicitly cast to a compatible dtype first.\n",
      "  tradebook_long.loc[\n"
     ]
    },
    {
     "name": "stdout",
     "output_type": "stream",
     "text": [
      "EMA:55, X:20, PCT:0.75\n"
     ]
    },
    {
     "name": "stderr",
     "output_type": "stream",
     "text": [
      "/tmp/ipykernel_48125/2724525255.py:76: FutureWarning: Setting an item of incompatible dtype is deprecated and will raise an error in a future version of pandas. Value 'Initial SL Hit' has dtype incompatible with float64, please explicitly cast to a compatible dtype first.\n",
      "  tradebook_long.loc[\n"
     ]
    },
    {
     "name": "stdout",
     "output_type": "stream",
     "text": [
      "EMA:55, X:20, PCT:1\n"
     ]
    },
    {
     "name": "stderr",
     "output_type": "stream",
     "text": [
      "/tmp/ipykernel_48125/2724525255.py:90: FutureWarning: Setting an item of incompatible dtype is deprecated and will raise an error in a future version of pandas. Value 'Trailing SL Hit' has dtype incompatible with float64, please explicitly cast to a compatible dtype first.\n",
      "  tradebook_long.loc[\n"
     ]
    },
    {
     "name": "stdout",
     "output_type": "stream",
     "text": [
      "EMA:55, X:24, PCT:0.25\n"
     ]
    },
    {
     "name": "stderr",
     "output_type": "stream",
     "text": [
      "/tmp/ipykernel_48125/2724525255.py:90: FutureWarning: Setting an item of incompatible dtype is deprecated and will raise an error in a future version of pandas. Value 'Trailing SL Hit' has dtype incompatible with float64, please explicitly cast to a compatible dtype first.\n",
      "  tradebook_long.loc[\n"
     ]
    },
    {
     "name": "stdout",
     "output_type": "stream",
     "text": [
      "EMA:55, X:24, PCT:0.5\n"
     ]
    },
    {
     "name": "stderr",
     "output_type": "stream",
     "text": [
      "/tmp/ipykernel_48125/2724525255.py:90: FutureWarning: Setting an item of incompatible dtype is deprecated and will raise an error in a future version of pandas. Value 'Trailing SL Hit' has dtype incompatible with float64, please explicitly cast to a compatible dtype first.\n",
      "  tradebook_long.loc[\n"
     ]
    },
    {
     "name": "stdout",
     "output_type": "stream",
     "text": [
      "EMA:55, X:24, PCT:0.75\n"
     ]
    },
    {
     "name": "stderr",
     "output_type": "stream",
     "text": [
      "/tmp/ipykernel_48125/2724525255.py:90: FutureWarning: Setting an item of incompatible dtype is deprecated and will raise an error in a future version of pandas. Value 'Trailing SL Hit' has dtype incompatible with float64, please explicitly cast to a compatible dtype first.\n",
      "  tradebook_long.loc[\n"
     ]
    },
    {
     "name": "stdout",
     "output_type": "stream",
     "text": [
      "EMA:55, X:24, PCT:1\n"
     ]
    },
    {
     "name": "stderr",
     "output_type": "stream",
     "text": [
      "/tmp/ipykernel_48125/2724525255.py:90: FutureWarning: Setting an item of incompatible dtype is deprecated and will raise an error in a future version of pandas. Value 'Trailing SL Hit' has dtype incompatible with float64, please explicitly cast to a compatible dtype first.\n",
      "  tradebook_long.loc[\n"
     ]
    },
    {
     "name": "stdout",
     "output_type": "stream",
     "text": [
      "EMA:55, X:28, PCT:0.25\n"
     ]
    },
    {
     "name": "stderr",
     "output_type": "stream",
     "text": [
      "/tmp/ipykernel_48125/2724525255.py:90: FutureWarning: Setting an item of incompatible dtype is deprecated and will raise an error in a future version of pandas. Value 'Trailing SL Hit' has dtype incompatible with float64, please explicitly cast to a compatible dtype first.\n",
      "  tradebook_long.loc[\n"
     ]
    },
    {
     "name": "stdout",
     "output_type": "stream",
     "text": [
      "EMA:55, X:28, PCT:0.5\n"
     ]
    },
    {
     "name": "stderr",
     "output_type": "stream",
     "text": [
      "/tmp/ipykernel_48125/2724525255.py:90: FutureWarning: Setting an item of incompatible dtype is deprecated and will raise an error in a future version of pandas. Value 'Trailing SL Hit' has dtype incompatible with float64, please explicitly cast to a compatible dtype first.\n",
      "  tradebook_long.loc[\n"
     ]
    },
    {
     "name": "stdout",
     "output_type": "stream",
     "text": [
      "EMA:55, X:28, PCT:0.75\n"
     ]
    },
    {
     "name": "stderr",
     "output_type": "stream",
     "text": [
      "/tmp/ipykernel_48125/2724525255.py:90: FutureWarning: Setting an item of incompatible dtype is deprecated and will raise an error in a future version of pandas. Value 'Trailing SL Hit' has dtype incompatible with float64, please explicitly cast to a compatible dtype first.\n",
      "  tradebook_long.loc[\n"
     ]
    },
    {
     "name": "stdout",
     "output_type": "stream",
     "text": [
      "EMA:55, X:28, PCT:1\n"
     ]
    },
    {
     "name": "stderr",
     "output_type": "stream",
     "text": [
      "/tmp/ipykernel_48125/2724525255.py:90: FutureWarning: Setting an item of incompatible dtype is deprecated and will raise an error in a future version of pandas. Value 'Trailing SL Hit' has dtype incompatible with float64, please explicitly cast to a compatible dtype first.\n",
      "  tradebook_long.loc[\n"
     ]
    },
    {
     "name": "stdout",
     "output_type": "stream",
     "text": [
      "EMA:55, X:32, PCT:0.25\n"
     ]
    },
    {
     "name": "stderr",
     "output_type": "stream",
     "text": [
      "/tmp/ipykernel_48125/2724525255.py:90: FutureWarning: Setting an item of incompatible dtype is deprecated and will raise an error in a future version of pandas. Value 'Trailing SL Hit' has dtype incompatible with float64, please explicitly cast to a compatible dtype first.\n",
      "  tradebook_long.loc[\n"
     ]
    },
    {
     "name": "stdout",
     "output_type": "stream",
     "text": [
      "EMA:55, X:32, PCT:0.5\n"
     ]
    },
    {
     "name": "stderr",
     "output_type": "stream",
     "text": [
      "/tmp/ipykernel_48125/2724525255.py:90: FutureWarning: Setting an item of incompatible dtype is deprecated and will raise an error in a future version of pandas. Value 'Trailing SL Hit' has dtype incompatible with float64, please explicitly cast to a compatible dtype first.\n",
      "  tradebook_long.loc[\n"
     ]
    },
    {
     "name": "stdout",
     "output_type": "stream",
     "text": [
      "EMA:55, X:32, PCT:0.75\n"
     ]
    },
    {
     "name": "stderr",
     "output_type": "stream",
     "text": [
      "/tmp/ipykernel_48125/2724525255.py:90: FutureWarning: Setting an item of incompatible dtype is deprecated and will raise an error in a future version of pandas. Value 'Trailing SL Hit' has dtype incompatible with float64, please explicitly cast to a compatible dtype first.\n",
      "  tradebook_long.loc[\n"
     ]
    },
    {
     "name": "stdout",
     "output_type": "stream",
     "text": [
      "EMA:55, X:32, PCT:1\n"
     ]
    },
    {
     "name": "stderr",
     "output_type": "stream",
     "text": [
      "/tmp/ipykernel_48125/2724525255.py:90: FutureWarning: Setting an item of incompatible dtype is deprecated and will raise an error in a future version of pandas. Value 'Trailing SL Hit' has dtype incompatible with float64, please explicitly cast to a compatible dtype first.\n",
      "  tradebook_long.loc[\n"
     ]
    },
    {
     "name": "stdout",
     "output_type": "stream",
     "text": [
      "EMA:55, X:36, PCT:0.25\n"
     ]
    },
    {
     "name": "stderr",
     "output_type": "stream",
     "text": [
      "/tmp/ipykernel_48125/2724525255.py:90: FutureWarning: Setting an item of incompatible dtype is deprecated and will raise an error in a future version of pandas. Value 'Trailing SL Hit' has dtype incompatible with float64, please explicitly cast to a compatible dtype first.\n",
      "  tradebook_long.loc[\n"
     ]
    },
    {
     "name": "stdout",
     "output_type": "stream",
     "text": [
      "EMA:55, X:36, PCT:0.5\n"
     ]
    },
    {
     "name": "stderr",
     "output_type": "stream",
     "text": [
      "/tmp/ipykernel_48125/2724525255.py:90: FutureWarning: Setting an item of incompatible dtype is deprecated and will raise an error in a future version of pandas. Value 'Trailing SL Hit' has dtype incompatible with float64, please explicitly cast to a compatible dtype first.\n",
      "  tradebook_long.loc[\n"
     ]
    },
    {
     "name": "stdout",
     "output_type": "stream",
     "text": [
      "EMA:55, X:36, PCT:0.75\n"
     ]
    },
    {
     "name": "stderr",
     "output_type": "stream",
     "text": [
      "/tmp/ipykernel_48125/2724525255.py:90: FutureWarning: Setting an item of incompatible dtype is deprecated and will raise an error in a future version of pandas. Value 'Trailing SL Hit' has dtype incompatible with float64, please explicitly cast to a compatible dtype first.\n",
      "  tradebook_long.loc[\n"
     ]
    },
    {
     "name": "stdout",
     "output_type": "stream",
     "text": [
      "EMA:55, X:36, PCT:1\n"
     ]
    },
    {
     "name": "stderr",
     "output_type": "stream",
     "text": [
      "/tmp/ipykernel_48125/2724525255.py:90: FutureWarning: Setting an item of incompatible dtype is deprecated and will raise an error in a future version of pandas. Value 'Trailing SL Hit' has dtype incompatible with float64, please explicitly cast to a compatible dtype first.\n",
      "  tradebook_long.loc[\n"
     ]
    },
    {
     "name": "stdout",
     "output_type": "stream",
     "text": [
      "EMA:60, X:4, PCT:0.25\n"
     ]
    },
    {
     "name": "stderr",
     "output_type": "stream",
     "text": [
      "/tmp/ipykernel_48125/2724525255.py:90: FutureWarning: Setting an item of incompatible dtype is deprecated and will raise an error in a future version of pandas. Value 'Trailing SL Hit' has dtype incompatible with float64, please explicitly cast to a compatible dtype first.\n",
      "  tradebook_long.loc[\n"
     ]
    },
    {
     "name": "stdout",
     "output_type": "stream",
     "text": [
      "EMA:60, X:4, PCT:0.5\n"
     ]
    },
    {
     "name": "stderr",
     "output_type": "stream",
     "text": [
      "/tmp/ipykernel_48125/2724525255.py:90: FutureWarning: Setting an item of incompatible dtype is deprecated and will raise an error in a future version of pandas. Value 'Trailing SL Hit' has dtype incompatible with float64, please explicitly cast to a compatible dtype first.\n",
      "  tradebook_long.loc[\n"
     ]
    },
    {
     "name": "stdout",
     "output_type": "stream",
     "text": [
      "EMA:60, X:4, PCT:0.75\n"
     ]
    },
    {
     "name": "stderr",
     "output_type": "stream",
     "text": [
      "/tmp/ipykernel_48125/2724525255.py:76: FutureWarning: Setting an item of incompatible dtype is deprecated and will raise an error in a future version of pandas. Value 'Initial SL Hit' has dtype incompatible with float64, please explicitly cast to a compatible dtype first.\n",
      "  tradebook_long.loc[\n"
     ]
    },
    {
     "name": "stdout",
     "output_type": "stream",
     "text": [
      "EMA:60, X:4, PCT:1\n"
     ]
    },
    {
     "name": "stderr",
     "output_type": "stream",
     "text": [
      "/tmp/ipykernel_48125/2724525255.py:90: FutureWarning: Setting an item of incompatible dtype is deprecated and will raise an error in a future version of pandas. Value 'Trailing SL Hit' has dtype incompatible with float64, please explicitly cast to a compatible dtype first.\n",
      "  tradebook_long.loc[\n",
      "/tmp/ipykernel_48125/2611632047.py:45: RuntimeWarning: divide by zero encountered in scalar divide\n",
      "  roi_dd_ratio = total_roi / abs(max_drawdown)\n",
      "/tmp/ipykernel_48125/2724525255.py:90: FutureWarning: Setting an item of incompatible dtype is deprecated and will raise an error in a future version of pandas. Value 'Trailing SL Hit' has dtype incompatible with float64, please explicitly cast to a compatible dtype first.\n",
      "  tradebook_long.loc[\n"
     ]
    },
    {
     "name": "stdout",
     "output_type": "stream",
     "text": [
      "EMA:60, X:8, PCT:0.25\n",
      "EMA:60, X:8, PCT:0.5\n"
     ]
    },
    {
     "name": "stderr",
     "output_type": "stream",
     "text": [
      "/tmp/ipykernel_48125/2724525255.py:90: FutureWarning: Setting an item of incompatible dtype is deprecated and will raise an error in a future version of pandas. Value 'Trailing SL Hit' has dtype incompatible with float64, please explicitly cast to a compatible dtype first.\n",
      "  tradebook_long.loc[\n"
     ]
    },
    {
     "name": "stdout",
     "output_type": "stream",
     "text": [
      "EMA:60, X:8, PCT:0.75\n"
     ]
    },
    {
     "name": "stderr",
     "output_type": "stream",
     "text": [
      "/tmp/ipykernel_48125/2724525255.py:90: FutureWarning: Setting an item of incompatible dtype is deprecated and will raise an error in a future version of pandas. Value 'Trailing SL Hit' has dtype incompatible with float64, please explicitly cast to a compatible dtype first.\n",
      "  tradebook_long.loc[\n"
     ]
    },
    {
     "name": "stdout",
     "output_type": "stream",
     "text": [
      "EMA:60, X:8, PCT:1\n"
     ]
    },
    {
     "name": "stderr",
     "output_type": "stream",
     "text": [
      "/tmp/ipykernel_48125/2724525255.py:90: FutureWarning: Setting an item of incompatible dtype is deprecated and will raise an error in a future version of pandas. Value 'Trailing SL Hit' has dtype incompatible with float64, please explicitly cast to a compatible dtype first.\n",
      "  tradebook_long.loc[\n"
     ]
    },
    {
     "name": "stdout",
     "output_type": "stream",
     "text": [
      "EMA:60, X:12, PCT:0.25\n"
     ]
    },
    {
     "name": "stderr",
     "output_type": "stream",
     "text": [
      "/tmp/ipykernel_48125/2724525255.py:90: FutureWarning: Setting an item of incompatible dtype is deprecated and will raise an error in a future version of pandas. Value 'Trailing SL Hit' has dtype incompatible with float64, please explicitly cast to a compatible dtype first.\n",
      "  tradebook_long.loc[\n"
     ]
    },
    {
     "name": "stdout",
     "output_type": "stream",
     "text": [
      "EMA:60, X:12, PCT:0.5\n"
     ]
    },
    {
     "name": "stderr",
     "output_type": "stream",
     "text": [
      "/tmp/ipykernel_48125/2724525255.py:90: FutureWarning: Setting an item of incompatible dtype is deprecated and will raise an error in a future version of pandas. Value 'Trailing SL Hit' has dtype incompatible with float64, please explicitly cast to a compatible dtype first.\n",
      "  tradebook_long.loc[\n"
     ]
    },
    {
     "name": "stdout",
     "output_type": "stream",
     "text": [
      "EMA:60, X:12, PCT:0.75\n"
     ]
    },
    {
     "name": "stderr",
     "output_type": "stream",
     "text": [
      "/tmp/ipykernel_48125/2724525255.py:90: FutureWarning: Setting an item of incompatible dtype is deprecated and will raise an error in a future version of pandas. Value 'Trailing SL Hit' has dtype incompatible with float64, please explicitly cast to a compatible dtype first.\n",
      "  tradebook_long.loc[\n"
     ]
    },
    {
     "name": "stdout",
     "output_type": "stream",
     "text": [
      "EMA:60, X:12, PCT:1\n"
     ]
    },
    {
     "name": "stderr",
     "output_type": "stream",
     "text": [
      "/tmp/ipykernel_48125/2724525255.py:90: FutureWarning: Setting an item of incompatible dtype is deprecated and will raise an error in a future version of pandas. Value 'Trailing SL Hit' has dtype incompatible with float64, please explicitly cast to a compatible dtype first.\n",
      "  tradebook_long.loc[\n"
     ]
    },
    {
     "name": "stdout",
     "output_type": "stream",
     "text": [
      "EMA:60, X:16, PCT:0.25\n"
     ]
    },
    {
     "name": "stderr",
     "output_type": "stream",
     "text": [
      "/tmp/ipykernel_48125/2724525255.py:90: FutureWarning: Setting an item of incompatible dtype is deprecated and will raise an error in a future version of pandas. Value 'Trailing SL Hit' has dtype incompatible with float64, please explicitly cast to a compatible dtype first.\n",
      "  tradebook_long.loc[\n"
     ]
    },
    {
     "name": "stdout",
     "output_type": "stream",
     "text": [
      "EMA:60, X:16, PCT:0.5\n"
     ]
    },
    {
     "name": "stderr",
     "output_type": "stream",
     "text": [
      "/tmp/ipykernel_48125/2724525255.py:90: FutureWarning: Setting an item of incompatible dtype is deprecated and will raise an error in a future version of pandas. Value 'Trailing SL Hit' has dtype incompatible with float64, please explicitly cast to a compatible dtype first.\n",
      "  tradebook_long.loc[\n"
     ]
    },
    {
     "name": "stdout",
     "output_type": "stream",
     "text": [
      "EMA:60, X:16, PCT:0.75\n"
     ]
    },
    {
     "name": "stderr",
     "output_type": "stream",
     "text": [
      "/tmp/ipykernel_48125/2724525255.py:90: FutureWarning: Setting an item of incompatible dtype is deprecated and will raise an error in a future version of pandas. Value 'Trailing SL Hit' has dtype incompatible with float64, please explicitly cast to a compatible dtype first.\n",
      "  tradebook_long.loc[\n"
     ]
    },
    {
     "name": "stdout",
     "output_type": "stream",
     "text": [
      "EMA:60, X:16, PCT:1\n"
     ]
    },
    {
     "name": "stderr",
     "output_type": "stream",
     "text": [
      "/tmp/ipykernel_48125/2724525255.py:90: FutureWarning: Setting an item of incompatible dtype is deprecated and will raise an error in a future version of pandas. Value 'Trailing SL Hit' has dtype incompatible with float64, please explicitly cast to a compatible dtype first.\n",
      "  tradebook_long.loc[\n"
     ]
    },
    {
     "name": "stdout",
     "output_type": "stream",
     "text": [
      "EMA:60, X:20, PCT:0.25\n"
     ]
    },
    {
     "name": "stderr",
     "output_type": "stream",
     "text": [
      "/tmp/ipykernel_48125/2724525255.py:90: FutureWarning: Setting an item of incompatible dtype is deprecated and will raise an error in a future version of pandas. Value 'Trailing SL Hit' has dtype incompatible with float64, please explicitly cast to a compatible dtype first.\n",
      "  tradebook_long.loc[\n"
     ]
    },
    {
     "name": "stdout",
     "output_type": "stream",
     "text": [
      "EMA:60, X:20, PCT:0.5\n"
     ]
    },
    {
     "name": "stderr",
     "output_type": "stream",
     "text": [
      "/tmp/ipykernel_48125/2724525255.py:90: FutureWarning: Setting an item of incompatible dtype is deprecated and will raise an error in a future version of pandas. Value 'Trailing SL Hit' has dtype incompatible with float64, please explicitly cast to a compatible dtype first.\n",
      "  tradebook_long.loc[\n"
     ]
    },
    {
     "name": "stdout",
     "output_type": "stream",
     "text": [
      "EMA:60, X:20, PCT:0.75\n"
     ]
    },
    {
     "name": "stderr",
     "output_type": "stream",
     "text": [
      "/tmp/ipykernel_48125/2724525255.py:76: FutureWarning: Setting an item of incompatible dtype is deprecated and will raise an error in a future version of pandas. Value 'Initial SL Hit' has dtype incompatible with float64, please explicitly cast to a compatible dtype first.\n",
      "  tradebook_long.loc[\n"
     ]
    },
    {
     "name": "stdout",
     "output_type": "stream",
     "text": [
      "EMA:60, X:20, PCT:1\n"
     ]
    },
    {
     "name": "stderr",
     "output_type": "stream",
     "text": [
      "/tmp/ipykernel_48125/2724525255.py:90: FutureWarning: Setting an item of incompatible dtype is deprecated and will raise an error in a future version of pandas. Value 'Trailing SL Hit' has dtype incompatible with float64, please explicitly cast to a compatible dtype first.\n",
      "  tradebook_long.loc[\n"
     ]
    },
    {
     "name": "stdout",
     "output_type": "stream",
     "text": [
      "EMA:60, X:24, PCT:0.25\n"
     ]
    },
    {
     "name": "stderr",
     "output_type": "stream",
     "text": [
      "/tmp/ipykernel_48125/2724525255.py:90: FutureWarning: Setting an item of incompatible dtype is deprecated and will raise an error in a future version of pandas. Value 'Trailing SL Hit' has dtype incompatible with float64, please explicitly cast to a compatible dtype first.\n",
      "  tradebook_long.loc[\n"
     ]
    },
    {
     "name": "stdout",
     "output_type": "stream",
     "text": [
      "EMA:60, X:24, PCT:0.5\n"
     ]
    },
    {
     "name": "stderr",
     "output_type": "stream",
     "text": [
      "/tmp/ipykernel_48125/2724525255.py:90: FutureWarning: Setting an item of incompatible dtype is deprecated and will raise an error in a future version of pandas. Value 'Trailing SL Hit' has dtype incompatible with float64, please explicitly cast to a compatible dtype first.\n",
      "  tradebook_long.loc[\n"
     ]
    },
    {
     "name": "stdout",
     "output_type": "stream",
     "text": [
      "EMA:60, X:24, PCT:0.75\n"
     ]
    },
    {
     "name": "stderr",
     "output_type": "stream",
     "text": [
      "/tmp/ipykernel_48125/2724525255.py:90: FutureWarning: Setting an item of incompatible dtype is deprecated and will raise an error in a future version of pandas. Value 'Trailing SL Hit' has dtype incompatible with float64, please explicitly cast to a compatible dtype first.\n",
      "  tradebook_long.loc[\n"
     ]
    },
    {
     "name": "stdout",
     "output_type": "stream",
     "text": [
      "EMA:60, X:24, PCT:1\n"
     ]
    },
    {
     "name": "stderr",
     "output_type": "stream",
     "text": [
      "/tmp/ipykernel_48125/2724525255.py:90: FutureWarning: Setting an item of incompatible dtype is deprecated and will raise an error in a future version of pandas. Value 'Trailing SL Hit' has dtype incompatible with float64, please explicitly cast to a compatible dtype first.\n",
      "  tradebook_long.loc[\n"
     ]
    },
    {
     "name": "stdout",
     "output_type": "stream",
     "text": [
      "EMA:60, X:28, PCT:0.25\n"
     ]
    },
    {
     "name": "stderr",
     "output_type": "stream",
     "text": [
      "/tmp/ipykernel_48125/2724525255.py:90: FutureWarning: Setting an item of incompatible dtype is deprecated and will raise an error in a future version of pandas. Value 'Trailing SL Hit' has dtype incompatible with float64, please explicitly cast to a compatible dtype first.\n",
      "  tradebook_long.loc[\n"
     ]
    },
    {
     "name": "stdout",
     "output_type": "stream",
     "text": [
      "EMA:60, X:28, PCT:0.5\n"
     ]
    },
    {
     "name": "stderr",
     "output_type": "stream",
     "text": [
      "/tmp/ipykernel_48125/2724525255.py:90: FutureWarning: Setting an item of incompatible dtype is deprecated and will raise an error in a future version of pandas. Value 'Trailing SL Hit' has dtype incompatible with float64, please explicitly cast to a compatible dtype first.\n",
      "  tradebook_long.loc[\n"
     ]
    },
    {
     "name": "stdout",
     "output_type": "stream",
     "text": [
      "EMA:60, X:28, PCT:0.75\n"
     ]
    },
    {
     "name": "stderr",
     "output_type": "stream",
     "text": [
      "/tmp/ipykernel_48125/2724525255.py:90: FutureWarning: Setting an item of incompatible dtype is deprecated and will raise an error in a future version of pandas. Value 'Trailing SL Hit' has dtype incompatible with float64, please explicitly cast to a compatible dtype first.\n",
      "  tradebook_long.loc[\n"
     ]
    },
    {
     "name": "stdout",
     "output_type": "stream",
     "text": [
      "EMA:60, X:28, PCT:1\n"
     ]
    },
    {
     "name": "stderr",
     "output_type": "stream",
     "text": [
      "/tmp/ipykernel_48125/2724525255.py:90: FutureWarning: Setting an item of incompatible dtype is deprecated and will raise an error in a future version of pandas. Value 'Trailing SL Hit' has dtype incompatible with float64, please explicitly cast to a compatible dtype first.\n",
      "  tradebook_long.loc[\n"
     ]
    },
    {
     "name": "stdout",
     "output_type": "stream",
     "text": [
      "EMA:60, X:32, PCT:0.25\n"
     ]
    },
    {
     "name": "stderr",
     "output_type": "stream",
     "text": [
      "/tmp/ipykernel_48125/2724525255.py:90: FutureWarning: Setting an item of incompatible dtype is deprecated and will raise an error in a future version of pandas. Value 'Trailing SL Hit' has dtype incompatible with float64, please explicitly cast to a compatible dtype first.\n",
      "  tradebook_long.loc[\n"
     ]
    },
    {
     "name": "stdout",
     "output_type": "stream",
     "text": [
      "EMA:60, X:32, PCT:0.5\n"
     ]
    },
    {
     "name": "stderr",
     "output_type": "stream",
     "text": [
      "/tmp/ipykernel_48125/2724525255.py:90: FutureWarning: Setting an item of incompatible dtype is deprecated and will raise an error in a future version of pandas. Value 'Trailing SL Hit' has dtype incompatible with float64, please explicitly cast to a compatible dtype first.\n",
      "  tradebook_long.loc[\n"
     ]
    },
    {
     "name": "stdout",
     "output_type": "stream",
     "text": [
      "EMA:60, X:32, PCT:0.75\n"
     ]
    },
    {
     "name": "stderr",
     "output_type": "stream",
     "text": [
      "/tmp/ipykernel_48125/2724525255.py:90: FutureWarning: Setting an item of incompatible dtype is deprecated and will raise an error in a future version of pandas. Value 'Trailing SL Hit' has dtype incompatible with float64, please explicitly cast to a compatible dtype first.\n",
      "  tradebook_long.loc[\n"
     ]
    },
    {
     "name": "stdout",
     "output_type": "stream",
     "text": [
      "EMA:60, X:32, PCT:1\n"
     ]
    },
    {
     "name": "stderr",
     "output_type": "stream",
     "text": [
      "/tmp/ipykernel_48125/2724525255.py:90: FutureWarning: Setting an item of incompatible dtype is deprecated and will raise an error in a future version of pandas. Value 'Trailing SL Hit' has dtype incompatible with float64, please explicitly cast to a compatible dtype first.\n",
      "  tradebook_long.loc[\n"
     ]
    },
    {
     "name": "stdout",
     "output_type": "stream",
     "text": [
      "EMA:60, X:36, PCT:0.25\n"
     ]
    },
    {
     "name": "stderr",
     "output_type": "stream",
     "text": [
      "/tmp/ipykernel_48125/2724525255.py:90: FutureWarning: Setting an item of incompatible dtype is deprecated and will raise an error in a future version of pandas. Value 'Trailing SL Hit' has dtype incompatible with float64, please explicitly cast to a compatible dtype first.\n",
      "  tradebook_long.loc[\n"
     ]
    },
    {
     "name": "stdout",
     "output_type": "stream",
     "text": [
      "EMA:60, X:36, PCT:0.5\n"
     ]
    },
    {
     "name": "stderr",
     "output_type": "stream",
     "text": [
      "/tmp/ipykernel_48125/2724525255.py:90: FutureWarning: Setting an item of incompatible dtype is deprecated and will raise an error in a future version of pandas. Value 'Trailing SL Hit' has dtype incompatible with float64, please explicitly cast to a compatible dtype first.\n",
      "  tradebook_long.loc[\n"
     ]
    },
    {
     "name": "stdout",
     "output_type": "stream",
     "text": [
      "EMA:60, X:36, PCT:0.75\n"
     ]
    },
    {
     "name": "stderr",
     "output_type": "stream",
     "text": [
      "/tmp/ipykernel_48125/2724525255.py:90: FutureWarning: Setting an item of incompatible dtype is deprecated and will raise an error in a future version of pandas. Value 'Trailing SL Hit' has dtype incompatible with float64, please explicitly cast to a compatible dtype first.\n",
      "  tradebook_long.loc[\n"
     ]
    },
    {
     "name": "stdout",
     "output_type": "stream",
     "text": [
      "EMA:60, X:36, PCT:1\n"
     ]
    },
    {
     "name": "stderr",
     "output_type": "stream",
     "text": [
      "/tmp/ipykernel_48125/2724525255.py:90: FutureWarning: Setting an item of incompatible dtype is deprecated and will raise an error in a future version of pandas. Value 'Trailing SL Hit' has dtype incompatible with float64, please explicitly cast to a compatible dtype first.\n",
      "  tradebook_long.loc[\n"
     ]
    },
    {
     "name": "stdout",
     "output_type": "stream",
     "text": [
      "EMA:65, X:4, PCT:0.25\n"
     ]
    },
    {
     "name": "stderr",
     "output_type": "stream",
     "text": [
      "/tmp/ipykernel_48125/2724525255.py:90: FutureWarning: Setting an item of incompatible dtype is deprecated and will raise an error in a future version of pandas. Value 'Trailing SL Hit' has dtype incompatible with float64, please explicitly cast to a compatible dtype first.\n",
      "  tradebook_long.loc[\n"
     ]
    },
    {
     "name": "stdout",
     "output_type": "stream",
     "text": [
      "EMA:65, X:4, PCT:0.5\n"
     ]
    },
    {
     "name": "stderr",
     "output_type": "stream",
     "text": [
      "/tmp/ipykernel_48125/2724525255.py:90: FutureWarning: Setting an item of incompatible dtype is deprecated and will raise an error in a future version of pandas. Value 'Trailing SL Hit' has dtype incompatible with float64, please explicitly cast to a compatible dtype first.\n",
      "  tradebook_long.loc[\n"
     ]
    },
    {
     "name": "stdout",
     "output_type": "stream",
     "text": [
      "EMA:65, X:4, PCT:0.75\n"
     ]
    },
    {
     "name": "stderr",
     "output_type": "stream",
     "text": [
      "/tmp/ipykernel_48125/2724525255.py:76: FutureWarning: Setting an item of incompatible dtype is deprecated and will raise an error in a future version of pandas. Value 'Initial SL Hit' has dtype incompatible with float64, please explicitly cast to a compatible dtype first.\n",
      "  tradebook_long.loc[\n"
     ]
    },
    {
     "name": "stdout",
     "output_type": "stream",
     "text": [
      "EMA:65, X:4, PCT:1\n"
     ]
    },
    {
     "name": "stderr",
     "output_type": "stream",
     "text": [
      "/tmp/ipykernel_48125/2724525255.py:90: FutureWarning: Setting an item of incompatible dtype is deprecated and will raise an error in a future version of pandas. Value 'Trailing SL Hit' has dtype incompatible with float64, please explicitly cast to a compatible dtype first.\n",
      "  tradebook_long.loc[\n",
      "/tmp/ipykernel_48125/2611632047.py:45: RuntimeWarning: divide by zero encountered in scalar divide\n",
      "  roi_dd_ratio = total_roi / abs(max_drawdown)\n",
      "/tmp/ipykernel_48125/2724525255.py:90: FutureWarning: Setting an item of incompatible dtype is deprecated and will raise an error in a future version of pandas. Value 'Trailing SL Hit' has dtype incompatible with float64, please explicitly cast to a compatible dtype first.\n",
      "  tradebook_long.loc[\n"
     ]
    },
    {
     "name": "stdout",
     "output_type": "stream",
     "text": [
      "EMA:65, X:8, PCT:0.25\n",
      "EMA:65, X:8, PCT:0.5\n"
     ]
    },
    {
     "name": "stderr",
     "output_type": "stream",
     "text": [
      "/tmp/ipykernel_48125/2724525255.py:90: FutureWarning: Setting an item of incompatible dtype is deprecated and will raise an error in a future version of pandas. Value 'Trailing SL Hit' has dtype incompatible with float64, please explicitly cast to a compatible dtype first.\n",
      "  tradebook_long.loc[\n"
     ]
    },
    {
     "name": "stdout",
     "output_type": "stream",
     "text": [
      "EMA:65, X:8, PCT:0.75\n"
     ]
    },
    {
     "name": "stderr",
     "output_type": "stream",
     "text": [
      "/tmp/ipykernel_48125/2724525255.py:90: FutureWarning: Setting an item of incompatible dtype is deprecated and will raise an error in a future version of pandas. Value 'Trailing SL Hit' has dtype incompatible with float64, please explicitly cast to a compatible dtype first.\n",
      "  tradebook_long.loc[\n"
     ]
    },
    {
     "name": "stdout",
     "output_type": "stream",
     "text": [
      "EMA:65, X:8, PCT:1\n"
     ]
    },
    {
     "name": "stderr",
     "output_type": "stream",
     "text": [
      "/tmp/ipykernel_48125/2724525255.py:90: FutureWarning: Setting an item of incompatible dtype is deprecated and will raise an error in a future version of pandas. Value 'Trailing SL Hit' has dtype incompatible with float64, please explicitly cast to a compatible dtype first.\n",
      "  tradebook_long.loc[\n"
     ]
    },
    {
     "name": "stdout",
     "output_type": "stream",
     "text": [
      "EMA:65, X:12, PCT:0.25\n"
     ]
    },
    {
     "name": "stderr",
     "output_type": "stream",
     "text": [
      "/tmp/ipykernel_48125/2724525255.py:90: FutureWarning: Setting an item of incompatible dtype is deprecated and will raise an error in a future version of pandas. Value 'Trailing SL Hit' has dtype incompatible with float64, please explicitly cast to a compatible dtype first.\n",
      "  tradebook_long.loc[\n"
     ]
    },
    {
     "name": "stdout",
     "output_type": "stream",
     "text": [
      "EMA:65, X:12, PCT:0.5\n"
     ]
    },
    {
     "name": "stderr",
     "output_type": "stream",
     "text": [
      "/tmp/ipykernel_48125/2724525255.py:90: FutureWarning: Setting an item of incompatible dtype is deprecated and will raise an error in a future version of pandas. Value 'Trailing SL Hit' has dtype incompatible with float64, please explicitly cast to a compatible dtype first.\n",
      "  tradebook_long.loc[\n"
     ]
    },
    {
     "name": "stdout",
     "output_type": "stream",
     "text": [
      "EMA:65, X:12, PCT:0.75\n"
     ]
    },
    {
     "name": "stderr",
     "output_type": "stream",
     "text": [
      "/tmp/ipykernel_48125/2724525255.py:90: FutureWarning: Setting an item of incompatible dtype is deprecated and will raise an error in a future version of pandas. Value 'Trailing SL Hit' has dtype incompatible with float64, please explicitly cast to a compatible dtype first.\n",
      "  tradebook_long.loc[\n"
     ]
    },
    {
     "name": "stdout",
     "output_type": "stream",
     "text": [
      "EMA:65, X:12, PCT:1\n"
     ]
    },
    {
     "name": "stderr",
     "output_type": "stream",
     "text": [
      "/tmp/ipykernel_48125/2724525255.py:90: FutureWarning: Setting an item of incompatible dtype is deprecated and will raise an error in a future version of pandas. Value 'Trailing SL Hit' has dtype incompatible with float64, please explicitly cast to a compatible dtype first.\n",
      "  tradebook_long.loc[\n"
     ]
    },
    {
     "name": "stdout",
     "output_type": "stream",
     "text": [
      "EMA:65, X:16, PCT:0.25\n"
     ]
    },
    {
     "name": "stderr",
     "output_type": "stream",
     "text": [
      "/tmp/ipykernel_48125/2724525255.py:90: FutureWarning: Setting an item of incompatible dtype is deprecated and will raise an error in a future version of pandas. Value 'Trailing SL Hit' has dtype incompatible with float64, please explicitly cast to a compatible dtype first.\n",
      "  tradebook_long.loc[\n"
     ]
    },
    {
     "name": "stdout",
     "output_type": "stream",
     "text": [
      "EMA:65, X:16, PCT:0.5\n"
     ]
    },
    {
     "name": "stderr",
     "output_type": "stream",
     "text": [
      "/tmp/ipykernel_48125/2724525255.py:90: FutureWarning: Setting an item of incompatible dtype is deprecated and will raise an error in a future version of pandas. Value 'Trailing SL Hit' has dtype incompatible with float64, please explicitly cast to a compatible dtype first.\n",
      "  tradebook_long.loc[\n"
     ]
    },
    {
     "name": "stdout",
     "output_type": "stream",
     "text": [
      "EMA:65, X:16, PCT:0.75\n"
     ]
    },
    {
     "name": "stderr",
     "output_type": "stream",
     "text": [
      "/tmp/ipykernel_48125/2724525255.py:90: FutureWarning: Setting an item of incompatible dtype is deprecated and will raise an error in a future version of pandas. Value 'Trailing SL Hit' has dtype incompatible with float64, please explicitly cast to a compatible dtype first.\n",
      "  tradebook_long.loc[\n"
     ]
    },
    {
     "name": "stdout",
     "output_type": "stream",
     "text": [
      "EMA:65, X:16, PCT:1\n"
     ]
    },
    {
     "name": "stderr",
     "output_type": "stream",
     "text": [
      "/tmp/ipykernel_48125/2724525255.py:90: FutureWarning: Setting an item of incompatible dtype is deprecated and will raise an error in a future version of pandas. Value 'Trailing SL Hit' has dtype incompatible with float64, please explicitly cast to a compatible dtype first.\n",
      "  tradebook_long.loc[\n"
     ]
    },
    {
     "name": "stdout",
     "output_type": "stream",
     "text": [
      "EMA:65, X:20, PCT:0.25\n"
     ]
    },
    {
     "name": "stderr",
     "output_type": "stream",
     "text": [
      "/tmp/ipykernel_48125/2724525255.py:90: FutureWarning: Setting an item of incompatible dtype is deprecated and will raise an error in a future version of pandas. Value 'Trailing SL Hit' has dtype incompatible with float64, please explicitly cast to a compatible dtype first.\n",
      "  tradebook_long.loc[\n"
     ]
    },
    {
     "name": "stdout",
     "output_type": "stream",
     "text": [
      "EMA:65, X:20, PCT:0.5\n"
     ]
    },
    {
     "name": "stderr",
     "output_type": "stream",
     "text": [
      "/tmp/ipykernel_48125/2724525255.py:90: FutureWarning: Setting an item of incompatible dtype is deprecated and will raise an error in a future version of pandas. Value 'Trailing SL Hit' has dtype incompatible with float64, please explicitly cast to a compatible dtype first.\n",
      "  tradebook_long.loc[\n"
     ]
    },
    {
     "name": "stdout",
     "output_type": "stream",
     "text": [
      "EMA:65, X:20, PCT:0.75\n"
     ]
    },
    {
     "name": "stderr",
     "output_type": "stream",
     "text": [
      "/tmp/ipykernel_48125/2724525255.py:76: FutureWarning: Setting an item of incompatible dtype is deprecated and will raise an error in a future version of pandas. Value 'Initial SL Hit' has dtype incompatible with float64, please explicitly cast to a compatible dtype first.\n",
      "  tradebook_long.loc[\n"
     ]
    },
    {
     "name": "stdout",
     "output_type": "stream",
     "text": [
      "EMA:65, X:20, PCT:1\n"
     ]
    },
    {
     "name": "stderr",
     "output_type": "stream",
     "text": [
      "/tmp/ipykernel_48125/2724525255.py:90: FutureWarning: Setting an item of incompatible dtype is deprecated and will raise an error in a future version of pandas. Value 'Trailing SL Hit' has dtype incompatible with float64, please explicitly cast to a compatible dtype first.\n",
      "  tradebook_long.loc[\n"
     ]
    },
    {
     "name": "stdout",
     "output_type": "stream",
     "text": [
      "EMA:65, X:24, PCT:0.25\n"
     ]
    },
    {
     "name": "stderr",
     "output_type": "stream",
     "text": [
      "/tmp/ipykernel_48125/2724525255.py:90: FutureWarning: Setting an item of incompatible dtype is deprecated and will raise an error in a future version of pandas. Value 'Trailing SL Hit' has dtype incompatible with float64, please explicitly cast to a compatible dtype first.\n",
      "  tradebook_long.loc[\n"
     ]
    },
    {
     "name": "stdout",
     "output_type": "stream",
     "text": [
      "EMA:65, X:24, PCT:0.5\n"
     ]
    },
    {
     "name": "stderr",
     "output_type": "stream",
     "text": [
      "/tmp/ipykernel_48125/2724525255.py:90: FutureWarning: Setting an item of incompatible dtype is deprecated and will raise an error in a future version of pandas. Value 'Trailing SL Hit' has dtype incompatible with float64, please explicitly cast to a compatible dtype first.\n",
      "  tradebook_long.loc[\n"
     ]
    },
    {
     "name": "stdout",
     "output_type": "stream",
     "text": [
      "EMA:65, X:24, PCT:0.75\n"
     ]
    },
    {
     "name": "stderr",
     "output_type": "stream",
     "text": [
      "/tmp/ipykernel_48125/2724525255.py:90: FutureWarning: Setting an item of incompatible dtype is deprecated and will raise an error in a future version of pandas. Value 'Trailing SL Hit' has dtype incompatible with float64, please explicitly cast to a compatible dtype first.\n",
      "  tradebook_long.loc[\n"
     ]
    },
    {
     "name": "stdout",
     "output_type": "stream",
     "text": [
      "EMA:65, X:24, PCT:1\n"
     ]
    },
    {
     "name": "stderr",
     "output_type": "stream",
     "text": [
      "/tmp/ipykernel_48125/2724525255.py:90: FutureWarning: Setting an item of incompatible dtype is deprecated and will raise an error in a future version of pandas. Value 'Trailing SL Hit' has dtype incompatible with float64, please explicitly cast to a compatible dtype first.\n",
      "  tradebook_long.loc[\n"
     ]
    },
    {
     "name": "stdout",
     "output_type": "stream",
     "text": [
      "EMA:65, X:28, PCT:0.25\n"
     ]
    },
    {
     "name": "stderr",
     "output_type": "stream",
     "text": [
      "/tmp/ipykernel_48125/2724525255.py:90: FutureWarning: Setting an item of incompatible dtype is deprecated and will raise an error in a future version of pandas. Value 'Trailing SL Hit' has dtype incompatible with float64, please explicitly cast to a compatible dtype first.\n",
      "  tradebook_long.loc[\n"
     ]
    },
    {
     "name": "stdout",
     "output_type": "stream",
     "text": [
      "EMA:65, X:28, PCT:0.5\n"
     ]
    },
    {
     "name": "stderr",
     "output_type": "stream",
     "text": [
      "/tmp/ipykernel_48125/2724525255.py:90: FutureWarning: Setting an item of incompatible dtype is deprecated and will raise an error in a future version of pandas. Value 'Trailing SL Hit' has dtype incompatible with float64, please explicitly cast to a compatible dtype first.\n",
      "  tradebook_long.loc[\n"
     ]
    },
    {
     "name": "stdout",
     "output_type": "stream",
     "text": [
      "EMA:65, X:28, PCT:0.75\n"
     ]
    },
    {
     "name": "stderr",
     "output_type": "stream",
     "text": [
      "/tmp/ipykernel_48125/2724525255.py:90: FutureWarning: Setting an item of incompatible dtype is deprecated and will raise an error in a future version of pandas. Value 'Trailing SL Hit' has dtype incompatible with float64, please explicitly cast to a compatible dtype first.\n",
      "  tradebook_long.loc[\n"
     ]
    },
    {
     "name": "stdout",
     "output_type": "stream",
     "text": [
      "EMA:65, X:28, PCT:1\n"
     ]
    },
    {
     "name": "stderr",
     "output_type": "stream",
     "text": [
      "/tmp/ipykernel_48125/2724525255.py:90: FutureWarning: Setting an item of incompatible dtype is deprecated and will raise an error in a future version of pandas. Value 'Trailing SL Hit' has dtype incompatible with float64, please explicitly cast to a compatible dtype first.\n",
      "  tradebook_long.loc[\n"
     ]
    },
    {
     "name": "stdout",
     "output_type": "stream",
     "text": [
      "EMA:65, X:32, PCT:0.25\n"
     ]
    },
    {
     "name": "stderr",
     "output_type": "stream",
     "text": [
      "/tmp/ipykernel_48125/2724525255.py:90: FutureWarning: Setting an item of incompatible dtype is deprecated and will raise an error in a future version of pandas. Value 'Trailing SL Hit' has dtype incompatible with float64, please explicitly cast to a compatible dtype first.\n",
      "  tradebook_long.loc[\n"
     ]
    },
    {
     "name": "stdout",
     "output_type": "stream",
     "text": [
      "EMA:65, X:32, PCT:0.5\n"
     ]
    },
    {
     "name": "stderr",
     "output_type": "stream",
     "text": [
      "/tmp/ipykernel_48125/2724525255.py:90: FutureWarning: Setting an item of incompatible dtype is deprecated and will raise an error in a future version of pandas. Value 'Trailing SL Hit' has dtype incompatible with float64, please explicitly cast to a compatible dtype first.\n",
      "  tradebook_long.loc[\n"
     ]
    },
    {
     "name": "stdout",
     "output_type": "stream",
     "text": [
      "EMA:65, X:32, PCT:0.75\n"
     ]
    },
    {
     "name": "stderr",
     "output_type": "stream",
     "text": [
      "/tmp/ipykernel_48125/2724525255.py:90: FutureWarning: Setting an item of incompatible dtype is deprecated and will raise an error in a future version of pandas. Value 'Trailing SL Hit' has dtype incompatible with float64, please explicitly cast to a compatible dtype first.\n",
      "  tradebook_long.loc[\n"
     ]
    },
    {
     "name": "stdout",
     "output_type": "stream",
     "text": [
      "EMA:65, X:32, PCT:1\n"
     ]
    },
    {
     "name": "stderr",
     "output_type": "stream",
     "text": [
      "/tmp/ipykernel_48125/2724525255.py:90: FutureWarning: Setting an item of incompatible dtype is deprecated and will raise an error in a future version of pandas. Value 'Trailing SL Hit' has dtype incompatible with float64, please explicitly cast to a compatible dtype first.\n",
      "  tradebook_long.loc[\n"
     ]
    },
    {
     "name": "stdout",
     "output_type": "stream",
     "text": [
      "EMA:65, X:36, PCT:0.25\n"
     ]
    },
    {
     "name": "stderr",
     "output_type": "stream",
     "text": [
      "/tmp/ipykernel_48125/2724525255.py:90: FutureWarning: Setting an item of incompatible dtype is deprecated and will raise an error in a future version of pandas. Value 'Trailing SL Hit' has dtype incompatible with float64, please explicitly cast to a compatible dtype first.\n",
      "  tradebook_long.loc[\n"
     ]
    },
    {
     "name": "stdout",
     "output_type": "stream",
     "text": [
      "EMA:65, X:36, PCT:0.5\n"
     ]
    },
    {
     "name": "stderr",
     "output_type": "stream",
     "text": [
      "/tmp/ipykernel_48125/2724525255.py:90: FutureWarning: Setting an item of incompatible dtype is deprecated and will raise an error in a future version of pandas. Value 'Trailing SL Hit' has dtype incompatible with float64, please explicitly cast to a compatible dtype first.\n",
      "  tradebook_long.loc[\n"
     ]
    },
    {
     "name": "stdout",
     "output_type": "stream",
     "text": [
      "EMA:65, X:36, PCT:0.75\n"
     ]
    },
    {
     "name": "stderr",
     "output_type": "stream",
     "text": [
      "/tmp/ipykernel_48125/2724525255.py:90: FutureWarning: Setting an item of incompatible dtype is deprecated and will raise an error in a future version of pandas. Value 'Trailing SL Hit' has dtype incompatible with float64, please explicitly cast to a compatible dtype first.\n",
      "  tradebook_long.loc[\n"
     ]
    },
    {
     "name": "stdout",
     "output_type": "stream",
     "text": [
      "EMA:65, X:36, PCT:1\n"
     ]
    },
    {
     "name": "stderr",
     "output_type": "stream",
     "text": [
      "/tmp/ipykernel_48125/2724525255.py:90: FutureWarning: Setting an item of incompatible dtype is deprecated and will raise an error in a future version of pandas. Value 'Trailing SL Hit' has dtype incompatible with float64, please explicitly cast to a compatible dtype first.\n",
      "  tradebook_long.loc[\n"
     ]
    },
    {
     "name": "stdout",
     "output_type": "stream",
     "text": [
      "EMA:70, X:4, PCT:0.25\n"
     ]
    },
    {
     "name": "stderr",
     "output_type": "stream",
     "text": [
      "/tmp/ipykernel_48125/2724525255.py:90: FutureWarning: Setting an item of incompatible dtype is deprecated and will raise an error in a future version of pandas. Value 'Trailing SL Hit' has dtype incompatible with float64, please explicitly cast to a compatible dtype first.\n",
      "  tradebook_long.loc[\n"
     ]
    },
    {
     "name": "stdout",
     "output_type": "stream",
     "text": [
      "EMA:70, X:4, PCT:0.5\n"
     ]
    },
    {
     "name": "stderr",
     "output_type": "stream",
     "text": [
      "/tmp/ipykernel_48125/2724525255.py:90: FutureWarning: Setting an item of incompatible dtype is deprecated and will raise an error in a future version of pandas. Value 'Trailing SL Hit' has dtype incompatible with float64, please explicitly cast to a compatible dtype first.\n",
      "  tradebook_long.loc[\n"
     ]
    },
    {
     "name": "stdout",
     "output_type": "stream",
     "text": [
      "EMA:70, X:4, PCT:0.75\n"
     ]
    },
    {
     "name": "stderr",
     "output_type": "stream",
     "text": [
      "/tmp/ipykernel_48125/2724525255.py:76: FutureWarning: Setting an item of incompatible dtype is deprecated and will raise an error in a future version of pandas. Value 'Initial SL Hit' has dtype incompatible with float64, please explicitly cast to a compatible dtype first.\n",
      "  tradebook_long.loc[\n"
     ]
    },
    {
     "name": "stdout",
     "output_type": "stream",
     "text": [
      "EMA:70, X:4, PCT:1\n"
     ]
    },
    {
     "name": "stderr",
     "output_type": "stream",
     "text": [
      "/tmp/ipykernel_48125/2724525255.py:90: FutureWarning: Setting an item of incompatible dtype is deprecated and will raise an error in a future version of pandas. Value 'Trailing SL Hit' has dtype incompatible with float64, please explicitly cast to a compatible dtype first.\n",
      "  tradebook_long.loc[\n",
      "/tmp/ipykernel_48125/2611632047.py:45: RuntimeWarning: divide by zero encountered in scalar divide\n",
      "  roi_dd_ratio = total_roi / abs(max_drawdown)\n",
      "/tmp/ipykernel_48125/2724525255.py:90: FutureWarning: Setting an item of incompatible dtype is deprecated and will raise an error in a future version of pandas. Value 'Trailing SL Hit' has dtype incompatible with float64, please explicitly cast to a compatible dtype first.\n",
      "  tradebook_long.loc[\n"
     ]
    },
    {
     "name": "stdout",
     "output_type": "stream",
     "text": [
      "EMA:70, X:8, PCT:0.25\n",
      "EMA:70, X:8, PCT:0.5\n"
     ]
    },
    {
     "name": "stderr",
     "output_type": "stream",
     "text": [
      "/tmp/ipykernel_48125/2724525255.py:90: FutureWarning: Setting an item of incompatible dtype is deprecated and will raise an error in a future version of pandas. Value 'Trailing SL Hit' has dtype incompatible with float64, please explicitly cast to a compatible dtype first.\n",
      "  tradebook_long.loc[\n"
     ]
    },
    {
     "name": "stdout",
     "output_type": "stream",
     "text": [
      "EMA:70, X:8, PCT:0.75\n"
     ]
    },
    {
     "name": "stderr",
     "output_type": "stream",
     "text": [
      "/tmp/ipykernel_48125/2724525255.py:90: FutureWarning: Setting an item of incompatible dtype is deprecated and will raise an error in a future version of pandas. Value 'Trailing SL Hit' has dtype incompatible with float64, please explicitly cast to a compatible dtype first.\n",
      "  tradebook_long.loc[\n"
     ]
    },
    {
     "name": "stdout",
     "output_type": "stream",
     "text": [
      "EMA:70, X:8, PCT:1\n"
     ]
    },
    {
     "name": "stderr",
     "output_type": "stream",
     "text": [
      "/tmp/ipykernel_48125/2724525255.py:90: FutureWarning: Setting an item of incompatible dtype is deprecated and will raise an error in a future version of pandas. Value 'Trailing SL Hit' has dtype incompatible with float64, please explicitly cast to a compatible dtype first.\n",
      "  tradebook_long.loc[\n"
     ]
    },
    {
     "name": "stdout",
     "output_type": "stream",
     "text": [
      "EMA:70, X:12, PCT:0.25\n"
     ]
    },
    {
     "name": "stderr",
     "output_type": "stream",
     "text": [
      "/tmp/ipykernel_48125/2724525255.py:90: FutureWarning: Setting an item of incompatible dtype is deprecated and will raise an error in a future version of pandas. Value 'Trailing SL Hit' has dtype incompatible with float64, please explicitly cast to a compatible dtype first.\n",
      "  tradebook_long.loc[\n"
     ]
    },
    {
     "name": "stdout",
     "output_type": "stream",
     "text": [
      "EMA:70, X:12, PCT:0.5\n"
     ]
    },
    {
     "name": "stderr",
     "output_type": "stream",
     "text": [
      "/tmp/ipykernel_48125/2724525255.py:90: FutureWarning: Setting an item of incompatible dtype is deprecated and will raise an error in a future version of pandas. Value 'Trailing SL Hit' has dtype incompatible with float64, please explicitly cast to a compatible dtype first.\n",
      "  tradebook_long.loc[\n"
     ]
    },
    {
     "name": "stdout",
     "output_type": "stream",
     "text": [
      "EMA:70, X:12, PCT:0.75\n"
     ]
    },
    {
     "name": "stderr",
     "output_type": "stream",
     "text": [
      "/tmp/ipykernel_48125/2724525255.py:90: FutureWarning: Setting an item of incompatible dtype is deprecated and will raise an error in a future version of pandas. Value 'Trailing SL Hit' has dtype incompatible with float64, please explicitly cast to a compatible dtype first.\n",
      "  tradebook_long.loc[\n"
     ]
    },
    {
     "name": "stdout",
     "output_type": "stream",
     "text": [
      "EMA:70, X:12, PCT:1\n"
     ]
    },
    {
     "name": "stderr",
     "output_type": "stream",
     "text": [
      "/tmp/ipykernel_48125/2724525255.py:90: FutureWarning: Setting an item of incompatible dtype is deprecated and will raise an error in a future version of pandas. Value 'Trailing SL Hit' has dtype incompatible with float64, please explicitly cast to a compatible dtype first.\n",
      "  tradebook_long.loc[\n"
     ]
    },
    {
     "name": "stdout",
     "output_type": "stream",
     "text": [
      "EMA:70, X:16, PCT:0.25\n"
     ]
    },
    {
     "name": "stderr",
     "output_type": "stream",
     "text": [
      "/tmp/ipykernel_48125/2724525255.py:90: FutureWarning: Setting an item of incompatible dtype is deprecated and will raise an error in a future version of pandas. Value 'Trailing SL Hit' has dtype incompatible with float64, please explicitly cast to a compatible dtype first.\n",
      "  tradebook_long.loc[\n"
     ]
    },
    {
     "name": "stdout",
     "output_type": "stream",
     "text": [
      "EMA:70, X:16, PCT:0.5\n"
     ]
    },
    {
     "name": "stderr",
     "output_type": "stream",
     "text": [
      "/tmp/ipykernel_48125/2724525255.py:90: FutureWarning: Setting an item of incompatible dtype is deprecated and will raise an error in a future version of pandas. Value 'Trailing SL Hit' has dtype incompatible with float64, please explicitly cast to a compatible dtype first.\n",
      "  tradebook_long.loc[\n"
     ]
    },
    {
     "name": "stdout",
     "output_type": "stream",
     "text": [
      "EMA:70, X:16, PCT:0.75\n"
     ]
    },
    {
     "name": "stderr",
     "output_type": "stream",
     "text": [
      "/tmp/ipykernel_48125/2724525255.py:90: FutureWarning: Setting an item of incompatible dtype is deprecated and will raise an error in a future version of pandas. Value 'Trailing SL Hit' has dtype incompatible with float64, please explicitly cast to a compatible dtype first.\n",
      "  tradebook_long.loc[\n"
     ]
    },
    {
     "name": "stdout",
     "output_type": "stream",
     "text": [
      "EMA:70, X:16, PCT:1\n"
     ]
    },
    {
     "name": "stderr",
     "output_type": "stream",
     "text": [
      "/tmp/ipykernel_48125/2724525255.py:90: FutureWarning: Setting an item of incompatible dtype is deprecated and will raise an error in a future version of pandas. Value 'Trailing SL Hit' has dtype incompatible with float64, please explicitly cast to a compatible dtype first.\n",
      "  tradebook_long.loc[\n"
     ]
    },
    {
     "name": "stdout",
     "output_type": "stream",
     "text": [
      "EMA:70, X:20, PCT:0.25\n"
     ]
    },
    {
     "name": "stderr",
     "output_type": "stream",
     "text": [
      "/tmp/ipykernel_48125/2724525255.py:90: FutureWarning: Setting an item of incompatible dtype is deprecated and will raise an error in a future version of pandas. Value 'Trailing SL Hit' has dtype incompatible with float64, please explicitly cast to a compatible dtype first.\n",
      "  tradebook_long.loc[\n"
     ]
    },
    {
     "name": "stdout",
     "output_type": "stream",
     "text": [
      "EMA:70, X:20, PCT:0.5\n"
     ]
    },
    {
     "name": "stderr",
     "output_type": "stream",
     "text": [
      "/tmp/ipykernel_48125/2724525255.py:90: FutureWarning: Setting an item of incompatible dtype is deprecated and will raise an error in a future version of pandas. Value 'Trailing SL Hit' has dtype incompatible with float64, please explicitly cast to a compatible dtype first.\n",
      "  tradebook_long.loc[\n"
     ]
    },
    {
     "name": "stdout",
     "output_type": "stream",
     "text": [
      "EMA:70, X:20, PCT:0.75\n"
     ]
    },
    {
     "name": "stderr",
     "output_type": "stream",
     "text": [
      "/tmp/ipykernel_48125/2724525255.py:76: FutureWarning: Setting an item of incompatible dtype is deprecated and will raise an error in a future version of pandas. Value 'Initial SL Hit' has dtype incompatible with float64, please explicitly cast to a compatible dtype first.\n",
      "  tradebook_long.loc[\n"
     ]
    },
    {
     "name": "stdout",
     "output_type": "stream",
     "text": [
      "EMA:70, X:20, PCT:1\n"
     ]
    },
    {
     "name": "stderr",
     "output_type": "stream",
     "text": [
      "/tmp/ipykernel_48125/2724525255.py:90: FutureWarning: Setting an item of incompatible dtype is deprecated and will raise an error in a future version of pandas. Value 'Trailing SL Hit' has dtype incompatible with float64, please explicitly cast to a compatible dtype first.\n",
      "  tradebook_long.loc[\n"
     ]
    },
    {
     "name": "stdout",
     "output_type": "stream",
     "text": [
      "EMA:70, X:24, PCT:0.25\n"
     ]
    },
    {
     "name": "stderr",
     "output_type": "stream",
     "text": [
      "/tmp/ipykernel_48125/2724525255.py:90: FutureWarning: Setting an item of incompatible dtype is deprecated and will raise an error in a future version of pandas. Value 'Trailing SL Hit' has dtype incompatible with float64, please explicitly cast to a compatible dtype first.\n",
      "  tradebook_long.loc[\n"
     ]
    },
    {
     "name": "stdout",
     "output_type": "stream",
     "text": [
      "EMA:70, X:24, PCT:0.5\n"
     ]
    },
    {
     "name": "stderr",
     "output_type": "stream",
     "text": [
      "/tmp/ipykernel_48125/2724525255.py:90: FutureWarning: Setting an item of incompatible dtype is deprecated and will raise an error in a future version of pandas. Value 'Trailing SL Hit' has dtype incompatible with float64, please explicitly cast to a compatible dtype first.\n",
      "  tradebook_long.loc[\n"
     ]
    },
    {
     "name": "stdout",
     "output_type": "stream",
     "text": [
      "EMA:70, X:24, PCT:0.75\n"
     ]
    },
    {
     "name": "stderr",
     "output_type": "stream",
     "text": [
      "/tmp/ipykernel_48125/2724525255.py:90: FutureWarning: Setting an item of incompatible dtype is deprecated and will raise an error in a future version of pandas. Value 'Trailing SL Hit' has dtype incompatible with float64, please explicitly cast to a compatible dtype first.\n",
      "  tradebook_long.loc[\n"
     ]
    },
    {
     "name": "stdout",
     "output_type": "stream",
     "text": [
      "EMA:70, X:24, PCT:1\n"
     ]
    },
    {
     "name": "stderr",
     "output_type": "stream",
     "text": [
      "/tmp/ipykernel_48125/2724525255.py:90: FutureWarning: Setting an item of incompatible dtype is deprecated and will raise an error in a future version of pandas. Value 'Trailing SL Hit' has dtype incompatible with float64, please explicitly cast to a compatible dtype first.\n",
      "  tradebook_long.loc[\n"
     ]
    },
    {
     "name": "stdout",
     "output_type": "stream",
     "text": [
      "EMA:70, X:28, PCT:0.25\n"
     ]
    },
    {
     "name": "stderr",
     "output_type": "stream",
     "text": [
      "/tmp/ipykernel_48125/2724525255.py:90: FutureWarning: Setting an item of incompatible dtype is deprecated and will raise an error in a future version of pandas. Value 'Trailing SL Hit' has dtype incompatible with float64, please explicitly cast to a compatible dtype first.\n",
      "  tradebook_long.loc[\n"
     ]
    },
    {
     "name": "stdout",
     "output_type": "stream",
     "text": [
      "EMA:70, X:28, PCT:0.5\n"
     ]
    },
    {
     "name": "stderr",
     "output_type": "stream",
     "text": [
      "/tmp/ipykernel_48125/2724525255.py:90: FutureWarning: Setting an item of incompatible dtype is deprecated and will raise an error in a future version of pandas. Value 'Trailing SL Hit' has dtype incompatible with float64, please explicitly cast to a compatible dtype first.\n",
      "  tradebook_long.loc[\n"
     ]
    },
    {
     "name": "stdout",
     "output_type": "stream",
     "text": [
      "EMA:70, X:28, PCT:0.75\n"
     ]
    },
    {
     "name": "stderr",
     "output_type": "stream",
     "text": [
      "/tmp/ipykernel_48125/2724525255.py:90: FutureWarning: Setting an item of incompatible dtype is deprecated and will raise an error in a future version of pandas. Value 'Trailing SL Hit' has dtype incompatible with float64, please explicitly cast to a compatible dtype first.\n",
      "  tradebook_long.loc[\n"
     ]
    },
    {
     "name": "stdout",
     "output_type": "stream",
     "text": [
      "EMA:70, X:28, PCT:1\n"
     ]
    },
    {
     "name": "stderr",
     "output_type": "stream",
     "text": [
      "/tmp/ipykernel_48125/2724525255.py:90: FutureWarning: Setting an item of incompatible dtype is deprecated and will raise an error in a future version of pandas. Value 'Trailing SL Hit' has dtype incompatible with float64, please explicitly cast to a compatible dtype first.\n",
      "  tradebook_long.loc[\n"
     ]
    },
    {
     "name": "stdout",
     "output_type": "stream",
     "text": [
      "EMA:70, X:32, PCT:0.25\n"
     ]
    },
    {
     "name": "stderr",
     "output_type": "stream",
     "text": [
      "/tmp/ipykernel_48125/2724525255.py:90: FutureWarning: Setting an item of incompatible dtype is deprecated and will raise an error in a future version of pandas. Value 'Trailing SL Hit' has dtype incompatible with float64, please explicitly cast to a compatible dtype first.\n",
      "  tradebook_long.loc[\n"
     ]
    },
    {
     "name": "stdout",
     "output_type": "stream",
     "text": [
      "EMA:70, X:32, PCT:0.5\n"
     ]
    },
    {
     "name": "stderr",
     "output_type": "stream",
     "text": [
      "/tmp/ipykernel_48125/2724525255.py:90: FutureWarning: Setting an item of incompatible dtype is deprecated and will raise an error in a future version of pandas. Value 'Trailing SL Hit' has dtype incompatible with float64, please explicitly cast to a compatible dtype first.\n",
      "  tradebook_long.loc[\n"
     ]
    },
    {
     "name": "stdout",
     "output_type": "stream",
     "text": [
      "EMA:70, X:32, PCT:0.75\n"
     ]
    },
    {
     "name": "stderr",
     "output_type": "stream",
     "text": [
      "/tmp/ipykernel_48125/2724525255.py:90: FutureWarning: Setting an item of incompatible dtype is deprecated and will raise an error in a future version of pandas. Value 'Trailing SL Hit' has dtype incompatible with float64, please explicitly cast to a compatible dtype first.\n",
      "  tradebook_long.loc[\n"
     ]
    },
    {
     "name": "stdout",
     "output_type": "stream",
     "text": [
      "EMA:70, X:32, PCT:1\n"
     ]
    },
    {
     "name": "stderr",
     "output_type": "stream",
     "text": [
      "/tmp/ipykernel_48125/2724525255.py:90: FutureWarning: Setting an item of incompatible dtype is deprecated and will raise an error in a future version of pandas. Value 'Trailing SL Hit' has dtype incompatible with float64, please explicitly cast to a compatible dtype first.\n",
      "  tradebook_long.loc[\n"
     ]
    },
    {
     "name": "stdout",
     "output_type": "stream",
     "text": [
      "EMA:70, X:36, PCT:0.25\n"
     ]
    },
    {
     "name": "stderr",
     "output_type": "stream",
     "text": [
      "/tmp/ipykernel_48125/2724525255.py:90: FutureWarning: Setting an item of incompatible dtype is deprecated and will raise an error in a future version of pandas. Value 'Trailing SL Hit' has dtype incompatible with float64, please explicitly cast to a compatible dtype first.\n",
      "  tradebook_long.loc[\n"
     ]
    },
    {
     "name": "stdout",
     "output_type": "stream",
     "text": [
      "EMA:70, X:36, PCT:0.5\n"
     ]
    },
    {
     "name": "stderr",
     "output_type": "stream",
     "text": [
      "/tmp/ipykernel_48125/2724525255.py:90: FutureWarning: Setting an item of incompatible dtype is deprecated and will raise an error in a future version of pandas. Value 'Trailing SL Hit' has dtype incompatible with float64, please explicitly cast to a compatible dtype first.\n",
      "  tradebook_long.loc[\n"
     ]
    },
    {
     "name": "stdout",
     "output_type": "stream",
     "text": [
      "EMA:70, X:36, PCT:0.75\n"
     ]
    },
    {
     "name": "stderr",
     "output_type": "stream",
     "text": [
      "/tmp/ipykernel_48125/2724525255.py:90: FutureWarning: Setting an item of incompatible dtype is deprecated and will raise an error in a future version of pandas. Value 'Trailing SL Hit' has dtype incompatible with float64, please explicitly cast to a compatible dtype first.\n",
      "  tradebook_long.loc[\n"
     ]
    },
    {
     "name": "stdout",
     "output_type": "stream",
     "text": [
      "EMA:70, X:36, PCT:1\n"
     ]
    },
    {
     "name": "stderr",
     "output_type": "stream",
     "text": [
      "/tmp/ipykernel_48125/2724525255.py:90: FutureWarning: Setting an item of incompatible dtype is deprecated and will raise an error in a future version of pandas. Value 'Trailing SL Hit' has dtype incompatible with float64, please explicitly cast to a compatible dtype first.\n",
      "  tradebook_long.loc[\n"
     ]
    },
    {
     "name": "stdout",
     "output_type": "stream",
     "text": [
      "EMA:75, X:4, PCT:0.25\n"
     ]
    },
    {
     "name": "stderr",
     "output_type": "stream",
     "text": [
      "/tmp/ipykernel_48125/2724525255.py:90: FutureWarning: Setting an item of incompatible dtype is deprecated and will raise an error in a future version of pandas. Value 'Trailing SL Hit' has dtype incompatible with float64, please explicitly cast to a compatible dtype first.\n",
      "  tradebook_long.loc[\n"
     ]
    },
    {
     "name": "stdout",
     "output_type": "stream",
     "text": [
      "EMA:75, X:4, PCT:0.5\n"
     ]
    },
    {
     "name": "stderr",
     "output_type": "stream",
     "text": [
      "/tmp/ipykernel_48125/2724525255.py:90: FutureWarning: Setting an item of incompatible dtype is deprecated and will raise an error in a future version of pandas. Value 'Trailing SL Hit' has dtype incompatible with float64, please explicitly cast to a compatible dtype first.\n",
      "  tradebook_long.loc[\n"
     ]
    },
    {
     "name": "stdout",
     "output_type": "stream",
     "text": [
      "EMA:75, X:4, PCT:0.75\n"
     ]
    },
    {
     "name": "stderr",
     "output_type": "stream",
     "text": [
      "/tmp/ipykernel_48125/2724525255.py:76: FutureWarning: Setting an item of incompatible dtype is deprecated and will raise an error in a future version of pandas. Value 'Initial SL Hit' has dtype incompatible with float64, please explicitly cast to a compatible dtype first.\n",
      "  tradebook_long.loc[\n"
     ]
    },
    {
     "name": "stdout",
     "output_type": "stream",
     "text": [
      "EMA:75, X:4, PCT:1\n"
     ]
    },
    {
     "name": "stderr",
     "output_type": "stream",
     "text": [
      "/tmp/ipykernel_48125/2724525255.py:90: FutureWarning: Setting an item of incompatible dtype is deprecated and will raise an error in a future version of pandas. Value 'Trailing SL Hit' has dtype incompatible with float64, please explicitly cast to a compatible dtype first.\n",
      "  tradebook_long.loc[\n",
      "/tmp/ipykernel_48125/2611632047.py:45: RuntimeWarning: divide by zero encountered in scalar divide\n",
      "  roi_dd_ratio = total_roi / abs(max_drawdown)\n",
      "/tmp/ipykernel_48125/2724525255.py:90: FutureWarning: Setting an item of incompatible dtype is deprecated and will raise an error in a future version of pandas. Value 'Trailing SL Hit' has dtype incompatible with float64, please explicitly cast to a compatible dtype first.\n",
      "  tradebook_long.loc[\n"
     ]
    },
    {
     "name": "stdout",
     "output_type": "stream",
     "text": [
      "EMA:75, X:8, PCT:0.25\n",
      "EMA:75, X:8, PCT:0.5\n"
     ]
    },
    {
     "name": "stderr",
     "output_type": "stream",
     "text": [
      "/tmp/ipykernel_48125/2724525255.py:90: FutureWarning: Setting an item of incompatible dtype is deprecated and will raise an error in a future version of pandas. Value 'Trailing SL Hit' has dtype incompatible with float64, please explicitly cast to a compatible dtype first.\n",
      "  tradebook_long.loc[\n"
     ]
    },
    {
     "name": "stdout",
     "output_type": "stream",
     "text": [
      "EMA:75, X:8, PCT:0.75\n"
     ]
    },
    {
     "name": "stderr",
     "output_type": "stream",
     "text": [
      "/tmp/ipykernel_48125/2724525255.py:90: FutureWarning: Setting an item of incompatible dtype is deprecated and will raise an error in a future version of pandas. Value 'Trailing SL Hit' has dtype incompatible with float64, please explicitly cast to a compatible dtype first.\n",
      "  tradebook_long.loc[\n"
     ]
    },
    {
     "name": "stdout",
     "output_type": "stream",
     "text": [
      "EMA:75, X:8, PCT:1\n"
     ]
    },
    {
     "name": "stderr",
     "output_type": "stream",
     "text": [
      "/tmp/ipykernel_48125/2724525255.py:90: FutureWarning: Setting an item of incompatible dtype is deprecated and will raise an error in a future version of pandas. Value 'Trailing SL Hit' has dtype incompatible with float64, please explicitly cast to a compatible dtype first.\n",
      "  tradebook_long.loc[\n"
     ]
    },
    {
     "name": "stdout",
     "output_type": "stream",
     "text": [
      "EMA:75, X:12, PCT:0.25\n"
     ]
    },
    {
     "name": "stderr",
     "output_type": "stream",
     "text": [
      "/tmp/ipykernel_48125/2724525255.py:90: FutureWarning: Setting an item of incompatible dtype is deprecated and will raise an error in a future version of pandas. Value 'Trailing SL Hit' has dtype incompatible with float64, please explicitly cast to a compatible dtype first.\n",
      "  tradebook_long.loc[\n"
     ]
    },
    {
     "name": "stdout",
     "output_type": "stream",
     "text": [
      "EMA:75, X:12, PCT:0.5\n"
     ]
    },
    {
     "name": "stderr",
     "output_type": "stream",
     "text": [
      "/tmp/ipykernel_48125/2724525255.py:90: FutureWarning: Setting an item of incompatible dtype is deprecated and will raise an error in a future version of pandas. Value 'Trailing SL Hit' has dtype incompatible with float64, please explicitly cast to a compatible dtype first.\n",
      "  tradebook_long.loc[\n"
     ]
    },
    {
     "name": "stdout",
     "output_type": "stream",
     "text": [
      "EMA:75, X:12, PCT:0.75\n"
     ]
    },
    {
     "name": "stderr",
     "output_type": "stream",
     "text": [
      "/tmp/ipykernel_48125/2724525255.py:90: FutureWarning: Setting an item of incompatible dtype is deprecated and will raise an error in a future version of pandas. Value 'Trailing SL Hit' has dtype incompatible with float64, please explicitly cast to a compatible dtype first.\n",
      "  tradebook_long.loc[\n"
     ]
    },
    {
     "name": "stdout",
     "output_type": "stream",
     "text": [
      "EMA:75, X:12, PCT:1\n"
     ]
    },
    {
     "name": "stderr",
     "output_type": "stream",
     "text": [
      "/tmp/ipykernel_48125/2724525255.py:90: FutureWarning: Setting an item of incompatible dtype is deprecated and will raise an error in a future version of pandas. Value 'Trailing SL Hit' has dtype incompatible with float64, please explicitly cast to a compatible dtype first.\n",
      "  tradebook_long.loc[\n"
     ]
    },
    {
     "name": "stdout",
     "output_type": "stream",
     "text": [
      "EMA:75, X:16, PCT:0.25\n"
     ]
    },
    {
     "name": "stderr",
     "output_type": "stream",
     "text": [
      "/tmp/ipykernel_48125/2724525255.py:90: FutureWarning: Setting an item of incompatible dtype is deprecated and will raise an error in a future version of pandas. Value 'Trailing SL Hit' has dtype incompatible with float64, please explicitly cast to a compatible dtype first.\n",
      "  tradebook_long.loc[\n"
     ]
    },
    {
     "name": "stdout",
     "output_type": "stream",
     "text": [
      "EMA:75, X:16, PCT:0.5\n"
     ]
    },
    {
     "name": "stderr",
     "output_type": "stream",
     "text": [
      "/tmp/ipykernel_48125/2724525255.py:90: FutureWarning: Setting an item of incompatible dtype is deprecated and will raise an error in a future version of pandas. Value 'Trailing SL Hit' has dtype incompatible with float64, please explicitly cast to a compatible dtype first.\n",
      "  tradebook_long.loc[\n"
     ]
    },
    {
     "name": "stdout",
     "output_type": "stream",
     "text": [
      "EMA:75, X:16, PCT:0.75\n"
     ]
    },
    {
     "name": "stderr",
     "output_type": "stream",
     "text": [
      "/tmp/ipykernel_48125/2724525255.py:90: FutureWarning: Setting an item of incompatible dtype is deprecated and will raise an error in a future version of pandas. Value 'Trailing SL Hit' has dtype incompatible with float64, please explicitly cast to a compatible dtype first.\n",
      "  tradebook_long.loc[\n"
     ]
    },
    {
     "name": "stdout",
     "output_type": "stream",
     "text": [
      "EMA:75, X:16, PCT:1\n"
     ]
    },
    {
     "name": "stderr",
     "output_type": "stream",
     "text": [
      "/tmp/ipykernel_48125/2724525255.py:90: FutureWarning: Setting an item of incompatible dtype is deprecated and will raise an error in a future version of pandas. Value 'Trailing SL Hit' has dtype incompatible with float64, please explicitly cast to a compatible dtype first.\n",
      "  tradebook_long.loc[\n"
     ]
    },
    {
     "name": "stdout",
     "output_type": "stream",
     "text": [
      "EMA:75, X:20, PCT:0.25\n"
     ]
    },
    {
     "name": "stderr",
     "output_type": "stream",
     "text": [
      "/tmp/ipykernel_48125/2724525255.py:90: FutureWarning: Setting an item of incompatible dtype is deprecated and will raise an error in a future version of pandas. Value 'Trailing SL Hit' has dtype incompatible with float64, please explicitly cast to a compatible dtype first.\n",
      "  tradebook_long.loc[\n"
     ]
    },
    {
     "name": "stdout",
     "output_type": "stream",
     "text": [
      "EMA:75, X:20, PCT:0.5\n"
     ]
    },
    {
     "name": "stderr",
     "output_type": "stream",
     "text": [
      "/tmp/ipykernel_48125/2724525255.py:90: FutureWarning: Setting an item of incompatible dtype is deprecated and will raise an error in a future version of pandas. Value 'Trailing SL Hit' has dtype incompatible with float64, please explicitly cast to a compatible dtype first.\n",
      "  tradebook_long.loc[\n"
     ]
    },
    {
     "name": "stdout",
     "output_type": "stream",
     "text": [
      "EMA:75, X:20, PCT:0.75\n"
     ]
    },
    {
     "name": "stderr",
     "output_type": "stream",
     "text": [
      "/tmp/ipykernel_48125/2724525255.py:76: FutureWarning: Setting an item of incompatible dtype is deprecated and will raise an error in a future version of pandas. Value 'Initial SL Hit' has dtype incompatible with float64, please explicitly cast to a compatible dtype first.\n",
      "  tradebook_long.loc[\n"
     ]
    },
    {
     "name": "stdout",
     "output_type": "stream",
     "text": [
      "EMA:75, X:20, PCT:1\n"
     ]
    },
    {
     "name": "stderr",
     "output_type": "stream",
     "text": [
      "/tmp/ipykernel_48125/2724525255.py:90: FutureWarning: Setting an item of incompatible dtype is deprecated and will raise an error in a future version of pandas. Value 'Trailing SL Hit' has dtype incompatible with float64, please explicitly cast to a compatible dtype first.\n",
      "  tradebook_long.loc[\n"
     ]
    },
    {
     "name": "stdout",
     "output_type": "stream",
     "text": [
      "EMA:75, X:24, PCT:0.25\n"
     ]
    },
    {
     "name": "stderr",
     "output_type": "stream",
     "text": [
      "/tmp/ipykernel_48125/2724525255.py:90: FutureWarning: Setting an item of incompatible dtype is deprecated and will raise an error in a future version of pandas. Value 'Trailing SL Hit' has dtype incompatible with float64, please explicitly cast to a compatible dtype first.\n",
      "  tradebook_long.loc[\n"
     ]
    },
    {
     "name": "stdout",
     "output_type": "stream",
     "text": [
      "EMA:75, X:24, PCT:0.5\n"
     ]
    },
    {
     "name": "stderr",
     "output_type": "stream",
     "text": [
      "/tmp/ipykernel_48125/2724525255.py:90: FutureWarning: Setting an item of incompatible dtype is deprecated and will raise an error in a future version of pandas. Value 'Trailing SL Hit' has dtype incompatible with float64, please explicitly cast to a compatible dtype first.\n",
      "  tradebook_long.loc[\n"
     ]
    },
    {
     "name": "stdout",
     "output_type": "stream",
     "text": [
      "EMA:75, X:24, PCT:0.75\n"
     ]
    },
    {
     "name": "stderr",
     "output_type": "stream",
     "text": [
      "/tmp/ipykernel_48125/2724525255.py:90: FutureWarning: Setting an item of incompatible dtype is deprecated and will raise an error in a future version of pandas. Value 'Trailing SL Hit' has dtype incompatible with float64, please explicitly cast to a compatible dtype first.\n",
      "  tradebook_long.loc[\n"
     ]
    },
    {
     "name": "stdout",
     "output_type": "stream",
     "text": [
      "EMA:75, X:24, PCT:1\n"
     ]
    },
    {
     "name": "stderr",
     "output_type": "stream",
     "text": [
      "/tmp/ipykernel_48125/2724525255.py:90: FutureWarning: Setting an item of incompatible dtype is deprecated and will raise an error in a future version of pandas. Value 'Trailing SL Hit' has dtype incompatible with float64, please explicitly cast to a compatible dtype first.\n",
      "  tradebook_long.loc[\n"
     ]
    },
    {
     "name": "stdout",
     "output_type": "stream",
     "text": [
      "EMA:75, X:28, PCT:0.25\n"
     ]
    },
    {
     "name": "stderr",
     "output_type": "stream",
     "text": [
      "/tmp/ipykernel_48125/2724525255.py:90: FutureWarning: Setting an item of incompatible dtype is deprecated and will raise an error in a future version of pandas. Value 'Trailing SL Hit' has dtype incompatible with float64, please explicitly cast to a compatible dtype first.\n",
      "  tradebook_long.loc[\n"
     ]
    },
    {
     "name": "stdout",
     "output_type": "stream",
     "text": [
      "EMA:75, X:28, PCT:0.5\n"
     ]
    },
    {
     "name": "stderr",
     "output_type": "stream",
     "text": [
      "/tmp/ipykernel_48125/2724525255.py:90: FutureWarning: Setting an item of incompatible dtype is deprecated and will raise an error in a future version of pandas. Value 'Trailing SL Hit' has dtype incompatible with float64, please explicitly cast to a compatible dtype first.\n",
      "  tradebook_long.loc[\n"
     ]
    },
    {
     "name": "stdout",
     "output_type": "stream",
     "text": [
      "EMA:75, X:28, PCT:0.75\n"
     ]
    },
    {
     "name": "stderr",
     "output_type": "stream",
     "text": [
      "/tmp/ipykernel_48125/2724525255.py:90: FutureWarning: Setting an item of incompatible dtype is deprecated and will raise an error in a future version of pandas. Value 'Trailing SL Hit' has dtype incompatible with float64, please explicitly cast to a compatible dtype first.\n",
      "  tradebook_long.loc[\n"
     ]
    },
    {
     "name": "stdout",
     "output_type": "stream",
     "text": [
      "EMA:75, X:28, PCT:1\n"
     ]
    },
    {
     "name": "stderr",
     "output_type": "stream",
     "text": [
      "/tmp/ipykernel_48125/2724525255.py:90: FutureWarning: Setting an item of incompatible dtype is deprecated and will raise an error in a future version of pandas. Value 'Trailing SL Hit' has dtype incompatible with float64, please explicitly cast to a compatible dtype first.\n",
      "  tradebook_long.loc[\n"
     ]
    },
    {
     "name": "stdout",
     "output_type": "stream",
     "text": [
      "EMA:75, X:32, PCT:0.25\n"
     ]
    },
    {
     "name": "stderr",
     "output_type": "stream",
     "text": [
      "/tmp/ipykernel_48125/2724525255.py:90: FutureWarning: Setting an item of incompatible dtype is deprecated and will raise an error in a future version of pandas. Value 'Trailing SL Hit' has dtype incompatible with float64, please explicitly cast to a compatible dtype first.\n",
      "  tradebook_long.loc[\n"
     ]
    },
    {
     "name": "stdout",
     "output_type": "stream",
     "text": [
      "EMA:75, X:32, PCT:0.5\n"
     ]
    },
    {
     "name": "stderr",
     "output_type": "stream",
     "text": [
      "/tmp/ipykernel_48125/2724525255.py:90: FutureWarning: Setting an item of incompatible dtype is deprecated and will raise an error in a future version of pandas. Value 'Trailing SL Hit' has dtype incompatible with float64, please explicitly cast to a compatible dtype first.\n",
      "  tradebook_long.loc[\n"
     ]
    },
    {
     "name": "stdout",
     "output_type": "stream",
     "text": [
      "EMA:75, X:32, PCT:0.75\n"
     ]
    },
    {
     "name": "stderr",
     "output_type": "stream",
     "text": [
      "/tmp/ipykernel_48125/2724525255.py:90: FutureWarning: Setting an item of incompatible dtype is deprecated and will raise an error in a future version of pandas. Value 'Trailing SL Hit' has dtype incompatible with float64, please explicitly cast to a compatible dtype first.\n",
      "  tradebook_long.loc[\n"
     ]
    },
    {
     "name": "stdout",
     "output_type": "stream",
     "text": [
      "EMA:75, X:32, PCT:1\n"
     ]
    },
    {
     "name": "stderr",
     "output_type": "stream",
     "text": [
      "/tmp/ipykernel_48125/2724525255.py:90: FutureWarning: Setting an item of incompatible dtype is deprecated and will raise an error in a future version of pandas. Value 'Trailing SL Hit' has dtype incompatible with float64, please explicitly cast to a compatible dtype first.\n",
      "  tradebook_long.loc[\n"
     ]
    },
    {
     "name": "stdout",
     "output_type": "stream",
     "text": [
      "EMA:75, X:36, PCT:0.25\n"
     ]
    },
    {
     "name": "stderr",
     "output_type": "stream",
     "text": [
      "/tmp/ipykernel_48125/2724525255.py:90: FutureWarning: Setting an item of incompatible dtype is deprecated and will raise an error in a future version of pandas. Value 'Trailing SL Hit' has dtype incompatible with float64, please explicitly cast to a compatible dtype first.\n",
      "  tradebook_long.loc[\n"
     ]
    },
    {
     "name": "stdout",
     "output_type": "stream",
     "text": [
      "EMA:75, X:36, PCT:0.5\n"
     ]
    },
    {
     "name": "stderr",
     "output_type": "stream",
     "text": [
      "/tmp/ipykernel_48125/2724525255.py:90: FutureWarning: Setting an item of incompatible dtype is deprecated and will raise an error in a future version of pandas. Value 'Trailing SL Hit' has dtype incompatible with float64, please explicitly cast to a compatible dtype first.\n",
      "  tradebook_long.loc[\n"
     ]
    },
    {
     "name": "stdout",
     "output_type": "stream",
     "text": [
      "EMA:75, X:36, PCT:0.75\n"
     ]
    },
    {
     "name": "stderr",
     "output_type": "stream",
     "text": [
      "/tmp/ipykernel_48125/2724525255.py:90: FutureWarning: Setting an item of incompatible dtype is deprecated and will raise an error in a future version of pandas. Value 'Trailing SL Hit' has dtype incompatible with float64, please explicitly cast to a compatible dtype first.\n",
      "  tradebook_long.loc[\n"
     ]
    },
    {
     "name": "stdout",
     "output_type": "stream",
     "text": [
      "EMA:75, X:36, PCT:1\n"
     ]
    },
    {
     "name": "stderr",
     "output_type": "stream",
     "text": [
      "/tmp/ipykernel_48125/2724525255.py:90: FutureWarning: Setting an item of incompatible dtype is deprecated and will raise an error in a future version of pandas. Value 'Trailing SL Hit' has dtype incompatible with float64, please explicitly cast to a compatible dtype first.\n",
      "  tradebook_long.loc[\n"
     ]
    },
    {
     "name": "stdout",
     "output_type": "stream",
     "text": [
      "EMA:80, X:4, PCT:0.25\n"
     ]
    },
    {
     "name": "stderr",
     "output_type": "stream",
     "text": [
      "/tmp/ipykernel_48125/2724525255.py:90: FutureWarning: Setting an item of incompatible dtype is deprecated and will raise an error in a future version of pandas. Value 'Trailing SL Hit' has dtype incompatible with float64, please explicitly cast to a compatible dtype first.\n",
      "  tradebook_long.loc[\n"
     ]
    },
    {
     "name": "stdout",
     "output_type": "stream",
     "text": [
      "EMA:80, X:4, PCT:0.5\n"
     ]
    },
    {
     "name": "stderr",
     "output_type": "stream",
     "text": [
      "/tmp/ipykernel_48125/2724525255.py:90: FutureWarning: Setting an item of incompatible dtype is deprecated and will raise an error in a future version of pandas. Value 'Trailing SL Hit' has dtype incompatible with float64, please explicitly cast to a compatible dtype first.\n",
      "  tradebook_long.loc[\n"
     ]
    },
    {
     "name": "stdout",
     "output_type": "stream",
     "text": [
      "EMA:80, X:4, PCT:0.75\n"
     ]
    },
    {
     "name": "stderr",
     "output_type": "stream",
     "text": [
      "/tmp/ipykernel_48125/2724525255.py:76: FutureWarning: Setting an item of incompatible dtype is deprecated and will raise an error in a future version of pandas. Value 'Initial SL Hit' has dtype incompatible with float64, please explicitly cast to a compatible dtype first.\n",
      "  tradebook_long.loc[\n"
     ]
    },
    {
     "name": "stdout",
     "output_type": "stream",
     "text": [
      "EMA:80, X:4, PCT:1\n"
     ]
    },
    {
     "name": "stderr",
     "output_type": "stream",
     "text": [
      "/tmp/ipykernel_48125/2724525255.py:90: FutureWarning: Setting an item of incompatible dtype is deprecated and will raise an error in a future version of pandas. Value 'Trailing SL Hit' has dtype incompatible with float64, please explicitly cast to a compatible dtype first.\n",
      "  tradebook_long.loc[\n",
      "/tmp/ipykernel_48125/2611632047.py:45: RuntimeWarning: divide by zero encountered in scalar divide\n",
      "  roi_dd_ratio = total_roi / abs(max_drawdown)\n",
      "/tmp/ipykernel_48125/2724525255.py:90: FutureWarning: Setting an item of incompatible dtype is deprecated and will raise an error in a future version of pandas. Value 'Trailing SL Hit' has dtype incompatible with float64, please explicitly cast to a compatible dtype first.\n",
      "  tradebook_long.loc[\n"
     ]
    },
    {
     "name": "stdout",
     "output_type": "stream",
     "text": [
      "        Total ROI Total Trades Win Rate Avg Profit% per Trade Avg Loss% per Trade Max Drawdown ROI/DD Ratio           Variation\n",
      "2017      -8.7874            3   0.0000                   NaN             -2.9291      -6.3534      -1.3831  EMA:80, X:4, PCT:1\n",
      "2018       4.5363            3  66.6667                4.8043             -5.0723      -5.0723       0.8943  EMA:80, X:4, PCT:1\n",
      "2019       0.1156            4  50.0000                3.1688             -3.1110      -1.1397       0.1014  EMA:80, X:4, PCT:1\n",
      "2020     104.3815           16  56.2500               14.5471             -3.7917      -7.3880      14.1286  EMA:80, X:4, PCT:1\n",
      "2021      33.9000            8  25.0000               23.3549             -2.1350     -10.0431       3.3754  EMA:80, X:4, PCT:1\n",
      "2022      35.2324            8  37.5000               17.9435             -3.7197      -8.8546       3.9790  EMA:80, X:4, PCT:1\n",
      "2023      26.3921            2 100.0000               13.1961                 NaN       0.0000          inf  EMA:80, X:4, PCT:1\n",
      "2024      13.5305            4  50.0000                9.5687             -2.8035      -0.5640      23.9893  EMA:80, X:4, PCT:1\n",
      "Overall  209.3009           48  45.8333               13.3155             -3.2169     -10.0431      20.8402  EMA:80, X:4, PCT:1\n",
      "EMA:80, X:8, PCT:0.25\n",
      "EMA:80, X:8, PCT:0.5\n"
     ]
    },
    {
     "name": "stderr",
     "output_type": "stream",
     "text": [
      "/tmp/ipykernel_48125/2724525255.py:90: FutureWarning: Setting an item of incompatible dtype is deprecated and will raise an error in a future version of pandas. Value 'Trailing SL Hit' has dtype incompatible with float64, please explicitly cast to a compatible dtype first.\n",
      "  tradebook_long.loc[\n"
     ]
    },
    {
     "name": "stdout",
     "output_type": "stream",
     "text": [
      "EMA:80, X:8, PCT:0.75\n"
     ]
    },
    {
     "name": "stderr",
     "output_type": "stream",
     "text": [
      "/tmp/ipykernel_48125/2724525255.py:90: FutureWarning: Setting an item of incompatible dtype is deprecated and will raise an error in a future version of pandas. Value 'Trailing SL Hit' has dtype incompatible with float64, please explicitly cast to a compatible dtype first.\n",
      "  tradebook_long.loc[\n"
     ]
    },
    {
     "name": "stdout",
     "output_type": "stream",
     "text": [
      "EMA:80, X:8, PCT:1\n"
     ]
    },
    {
     "name": "stderr",
     "output_type": "stream",
     "text": [
      "/tmp/ipykernel_48125/2724525255.py:90: FutureWarning: Setting an item of incompatible dtype is deprecated and will raise an error in a future version of pandas. Value 'Trailing SL Hit' has dtype incompatible with float64, please explicitly cast to a compatible dtype first.\n",
      "  tradebook_long.loc[\n"
     ]
    },
    {
     "name": "stdout",
     "output_type": "stream",
     "text": [
      "EMA:80, X:12, PCT:0.25\n"
     ]
    },
    {
     "name": "stderr",
     "output_type": "stream",
     "text": [
      "/tmp/ipykernel_48125/2724525255.py:90: FutureWarning: Setting an item of incompatible dtype is deprecated and will raise an error in a future version of pandas. Value 'Trailing SL Hit' has dtype incompatible with float64, please explicitly cast to a compatible dtype first.\n",
      "  tradebook_long.loc[\n"
     ]
    },
    {
     "name": "stdout",
     "output_type": "stream",
     "text": [
      "EMA:80, X:12, PCT:0.5\n"
     ]
    },
    {
     "name": "stderr",
     "output_type": "stream",
     "text": [
      "/tmp/ipykernel_48125/2724525255.py:90: FutureWarning: Setting an item of incompatible dtype is deprecated and will raise an error in a future version of pandas. Value 'Trailing SL Hit' has dtype incompatible with float64, please explicitly cast to a compatible dtype first.\n",
      "  tradebook_long.loc[\n"
     ]
    },
    {
     "name": "stdout",
     "output_type": "stream",
     "text": [
      "EMA:80, X:12, PCT:0.75\n"
     ]
    },
    {
     "name": "stderr",
     "output_type": "stream",
     "text": [
      "/tmp/ipykernel_48125/2724525255.py:90: FutureWarning: Setting an item of incompatible dtype is deprecated and will raise an error in a future version of pandas. Value 'Trailing SL Hit' has dtype incompatible with float64, please explicitly cast to a compatible dtype first.\n",
      "  tradebook_long.loc[\n"
     ]
    },
    {
     "name": "stdout",
     "output_type": "stream",
     "text": [
      "EMA:80, X:12, PCT:1\n"
     ]
    },
    {
     "name": "stderr",
     "output_type": "stream",
     "text": [
      "/tmp/ipykernel_48125/2724525255.py:90: FutureWarning: Setting an item of incompatible dtype is deprecated and will raise an error in a future version of pandas. Value 'Trailing SL Hit' has dtype incompatible with float64, please explicitly cast to a compatible dtype first.\n",
      "  tradebook_long.loc[\n"
     ]
    },
    {
     "name": "stdout",
     "output_type": "stream",
     "text": [
      "EMA:80, X:16, PCT:0.25\n"
     ]
    },
    {
     "name": "stderr",
     "output_type": "stream",
     "text": [
      "/tmp/ipykernel_48125/2724525255.py:90: FutureWarning: Setting an item of incompatible dtype is deprecated and will raise an error in a future version of pandas. Value 'Trailing SL Hit' has dtype incompatible with float64, please explicitly cast to a compatible dtype first.\n",
      "  tradebook_long.loc[\n"
     ]
    },
    {
     "name": "stdout",
     "output_type": "stream",
     "text": [
      "EMA:80, X:16, PCT:0.5\n"
     ]
    },
    {
     "name": "stderr",
     "output_type": "stream",
     "text": [
      "/tmp/ipykernel_48125/2724525255.py:90: FutureWarning: Setting an item of incompatible dtype is deprecated and will raise an error in a future version of pandas. Value 'Trailing SL Hit' has dtype incompatible with float64, please explicitly cast to a compatible dtype first.\n",
      "  tradebook_long.loc[\n"
     ]
    },
    {
     "name": "stdout",
     "output_type": "stream",
     "text": [
      "EMA:80, X:16, PCT:0.75\n"
     ]
    },
    {
     "name": "stderr",
     "output_type": "stream",
     "text": [
      "/tmp/ipykernel_48125/2724525255.py:90: FutureWarning: Setting an item of incompatible dtype is deprecated and will raise an error in a future version of pandas. Value 'Trailing SL Hit' has dtype incompatible with float64, please explicitly cast to a compatible dtype first.\n",
      "  tradebook_long.loc[\n"
     ]
    },
    {
     "name": "stdout",
     "output_type": "stream",
     "text": [
      "EMA:80, X:16, PCT:1\n"
     ]
    },
    {
     "name": "stderr",
     "output_type": "stream",
     "text": [
      "/tmp/ipykernel_48125/2724525255.py:90: FutureWarning: Setting an item of incompatible dtype is deprecated and will raise an error in a future version of pandas. Value 'Trailing SL Hit' has dtype incompatible with float64, please explicitly cast to a compatible dtype first.\n",
      "  tradebook_long.loc[\n"
     ]
    },
    {
     "name": "stdout",
     "output_type": "stream",
     "text": [
      "EMA:80, X:20, PCT:0.25\n"
     ]
    },
    {
     "name": "stderr",
     "output_type": "stream",
     "text": [
      "/tmp/ipykernel_48125/2724525255.py:90: FutureWarning: Setting an item of incompatible dtype is deprecated and will raise an error in a future version of pandas. Value 'Trailing SL Hit' has dtype incompatible with float64, please explicitly cast to a compatible dtype first.\n",
      "  tradebook_long.loc[\n"
     ]
    },
    {
     "name": "stdout",
     "output_type": "stream",
     "text": [
      "EMA:80, X:20, PCT:0.5\n"
     ]
    },
    {
     "name": "stderr",
     "output_type": "stream",
     "text": [
      "/tmp/ipykernel_48125/2724525255.py:90: FutureWarning: Setting an item of incompatible dtype is deprecated and will raise an error in a future version of pandas. Value 'Trailing SL Hit' has dtype incompatible with float64, please explicitly cast to a compatible dtype first.\n",
      "  tradebook_long.loc[\n"
     ]
    },
    {
     "name": "stdout",
     "output_type": "stream",
     "text": [
      "EMA:80, X:20, PCT:0.75\n"
     ]
    },
    {
     "name": "stderr",
     "output_type": "stream",
     "text": [
      "/tmp/ipykernel_48125/2724525255.py:76: FutureWarning: Setting an item of incompatible dtype is deprecated and will raise an error in a future version of pandas. Value 'Initial SL Hit' has dtype incompatible with float64, please explicitly cast to a compatible dtype first.\n",
      "  tradebook_long.loc[\n"
     ]
    },
    {
     "name": "stdout",
     "output_type": "stream",
     "text": [
      "EMA:80, X:20, PCT:1\n"
     ]
    },
    {
     "name": "stderr",
     "output_type": "stream",
     "text": [
      "/tmp/ipykernel_48125/2724525255.py:90: FutureWarning: Setting an item of incompatible dtype is deprecated and will raise an error in a future version of pandas. Value 'Trailing SL Hit' has dtype incompatible with float64, please explicitly cast to a compatible dtype first.\n",
      "  tradebook_long.loc[\n"
     ]
    },
    {
     "name": "stdout",
     "output_type": "stream",
     "text": [
      "EMA:80, X:24, PCT:0.25\n"
     ]
    },
    {
     "name": "stderr",
     "output_type": "stream",
     "text": [
      "/tmp/ipykernel_48125/2724525255.py:90: FutureWarning: Setting an item of incompatible dtype is deprecated and will raise an error in a future version of pandas. Value 'Trailing SL Hit' has dtype incompatible with float64, please explicitly cast to a compatible dtype first.\n",
      "  tradebook_long.loc[\n"
     ]
    },
    {
     "name": "stdout",
     "output_type": "stream",
     "text": [
      "EMA:80, X:24, PCT:0.5\n"
     ]
    },
    {
     "name": "stderr",
     "output_type": "stream",
     "text": [
      "/tmp/ipykernel_48125/2724525255.py:90: FutureWarning: Setting an item of incompatible dtype is deprecated and will raise an error in a future version of pandas. Value 'Trailing SL Hit' has dtype incompatible with float64, please explicitly cast to a compatible dtype first.\n",
      "  tradebook_long.loc[\n"
     ]
    },
    {
     "name": "stdout",
     "output_type": "stream",
     "text": [
      "EMA:80, X:24, PCT:0.75\n"
     ]
    },
    {
     "name": "stderr",
     "output_type": "stream",
     "text": [
      "/tmp/ipykernel_48125/2724525255.py:90: FutureWarning: Setting an item of incompatible dtype is deprecated and will raise an error in a future version of pandas. Value 'Trailing SL Hit' has dtype incompatible with float64, please explicitly cast to a compatible dtype first.\n",
      "  tradebook_long.loc[\n"
     ]
    },
    {
     "name": "stdout",
     "output_type": "stream",
     "text": [
      "EMA:80, X:24, PCT:1\n"
     ]
    },
    {
     "name": "stderr",
     "output_type": "stream",
     "text": [
      "/tmp/ipykernel_48125/2724525255.py:90: FutureWarning: Setting an item of incompatible dtype is deprecated and will raise an error in a future version of pandas. Value 'Trailing SL Hit' has dtype incompatible with float64, please explicitly cast to a compatible dtype first.\n",
      "  tradebook_long.loc[\n"
     ]
    },
    {
     "name": "stdout",
     "output_type": "stream",
     "text": [
      "EMA:80, X:28, PCT:0.25\n"
     ]
    },
    {
     "name": "stderr",
     "output_type": "stream",
     "text": [
      "/tmp/ipykernel_48125/2724525255.py:90: FutureWarning: Setting an item of incompatible dtype is deprecated and will raise an error in a future version of pandas. Value 'Trailing SL Hit' has dtype incompatible with float64, please explicitly cast to a compatible dtype first.\n",
      "  tradebook_long.loc[\n"
     ]
    },
    {
     "name": "stdout",
     "output_type": "stream",
     "text": [
      "EMA:80, X:28, PCT:0.5\n"
     ]
    },
    {
     "name": "stderr",
     "output_type": "stream",
     "text": [
      "/tmp/ipykernel_48125/2724525255.py:90: FutureWarning: Setting an item of incompatible dtype is deprecated and will raise an error in a future version of pandas. Value 'Trailing SL Hit' has dtype incompatible with float64, please explicitly cast to a compatible dtype first.\n",
      "  tradebook_long.loc[\n"
     ]
    },
    {
     "name": "stdout",
     "output_type": "stream",
     "text": [
      "EMA:80, X:28, PCT:0.75\n"
     ]
    },
    {
     "name": "stderr",
     "output_type": "stream",
     "text": [
      "/tmp/ipykernel_48125/2724525255.py:90: FutureWarning: Setting an item of incompatible dtype is deprecated and will raise an error in a future version of pandas. Value 'Trailing SL Hit' has dtype incompatible with float64, please explicitly cast to a compatible dtype first.\n",
      "  tradebook_long.loc[\n"
     ]
    },
    {
     "name": "stdout",
     "output_type": "stream",
     "text": [
      "EMA:80, X:28, PCT:1\n"
     ]
    },
    {
     "name": "stderr",
     "output_type": "stream",
     "text": [
      "/tmp/ipykernel_48125/2724525255.py:90: FutureWarning: Setting an item of incompatible dtype is deprecated and will raise an error in a future version of pandas. Value 'Trailing SL Hit' has dtype incompatible with float64, please explicitly cast to a compatible dtype first.\n",
      "  tradebook_long.loc[\n"
     ]
    },
    {
     "name": "stdout",
     "output_type": "stream",
     "text": [
      "EMA:80, X:32, PCT:0.25\n"
     ]
    },
    {
     "name": "stderr",
     "output_type": "stream",
     "text": [
      "/tmp/ipykernel_48125/2724525255.py:90: FutureWarning: Setting an item of incompatible dtype is deprecated and will raise an error in a future version of pandas. Value 'Trailing SL Hit' has dtype incompatible with float64, please explicitly cast to a compatible dtype first.\n",
      "  tradebook_long.loc[\n"
     ]
    },
    {
     "name": "stdout",
     "output_type": "stream",
     "text": [
      "EMA:80, X:32, PCT:0.5\n"
     ]
    },
    {
     "name": "stderr",
     "output_type": "stream",
     "text": [
      "/tmp/ipykernel_48125/2724525255.py:90: FutureWarning: Setting an item of incompatible dtype is deprecated and will raise an error in a future version of pandas. Value 'Trailing SL Hit' has dtype incompatible with float64, please explicitly cast to a compatible dtype first.\n",
      "  tradebook_long.loc[\n"
     ]
    },
    {
     "name": "stdout",
     "output_type": "stream",
     "text": [
      "EMA:80, X:32, PCT:0.75\n"
     ]
    },
    {
     "name": "stderr",
     "output_type": "stream",
     "text": [
      "/tmp/ipykernel_48125/2724525255.py:90: FutureWarning: Setting an item of incompatible dtype is deprecated and will raise an error in a future version of pandas. Value 'Trailing SL Hit' has dtype incompatible with float64, please explicitly cast to a compatible dtype first.\n",
      "  tradebook_long.loc[\n"
     ]
    },
    {
     "name": "stdout",
     "output_type": "stream",
     "text": [
      "EMA:80, X:32, PCT:1\n"
     ]
    },
    {
     "name": "stderr",
     "output_type": "stream",
     "text": [
      "/tmp/ipykernel_48125/2724525255.py:90: FutureWarning: Setting an item of incompatible dtype is deprecated and will raise an error in a future version of pandas. Value 'Trailing SL Hit' has dtype incompatible with float64, please explicitly cast to a compatible dtype first.\n",
      "  tradebook_long.loc[\n"
     ]
    },
    {
     "name": "stdout",
     "output_type": "stream",
     "text": [
      "EMA:80, X:36, PCT:0.25\n"
     ]
    },
    {
     "name": "stderr",
     "output_type": "stream",
     "text": [
      "/tmp/ipykernel_48125/2724525255.py:90: FutureWarning: Setting an item of incompatible dtype is deprecated and will raise an error in a future version of pandas. Value 'Trailing SL Hit' has dtype incompatible with float64, please explicitly cast to a compatible dtype first.\n",
      "  tradebook_long.loc[\n"
     ]
    },
    {
     "name": "stdout",
     "output_type": "stream",
     "text": [
      "EMA:80, X:36, PCT:0.5\n"
     ]
    },
    {
     "name": "stderr",
     "output_type": "stream",
     "text": [
      "/tmp/ipykernel_48125/2724525255.py:90: FutureWarning: Setting an item of incompatible dtype is deprecated and will raise an error in a future version of pandas. Value 'Trailing SL Hit' has dtype incompatible with float64, please explicitly cast to a compatible dtype first.\n",
      "  tradebook_long.loc[\n"
     ]
    },
    {
     "name": "stdout",
     "output_type": "stream",
     "text": [
      "EMA:80, X:36, PCT:0.75\n"
     ]
    },
    {
     "name": "stderr",
     "output_type": "stream",
     "text": [
      "/tmp/ipykernel_48125/2724525255.py:90: FutureWarning: Setting an item of incompatible dtype is deprecated and will raise an error in a future version of pandas. Value 'Trailing SL Hit' has dtype incompatible with float64, please explicitly cast to a compatible dtype first.\n",
      "  tradebook_long.loc[\n"
     ]
    },
    {
     "name": "stdout",
     "output_type": "stream",
     "text": [
      "EMA:80, X:36, PCT:1\n"
     ]
    },
    {
     "name": "stderr",
     "output_type": "stream",
     "text": [
      "/tmp/ipykernel_48125/2724525255.py:90: FutureWarning: Setting an item of incompatible dtype is deprecated and will raise an error in a future version of pandas. Value 'Trailing SL Hit' has dtype incompatible with float64, please explicitly cast to a compatible dtype first.\n",
      "  tradebook_long.loc[\n"
     ]
    }
   ],
   "source": [
    "# ema_length = 55\n",
    "# x_days = 28\n",
    "# y_days = 7\n",
    "# pct = 1.05\n",
    "# RPT = 5\n",
    "\n",
    "pct_range = [0.25, 0.5,0.75, 1]\n",
    "\n",
    "for ema_length in range(25, 81, 5):\n",
    "    for x_days in range(4, 37, 4):\n",
    "            for pct in pct_range:\n",
    "                # RPT = 5\n",
    "                variation = f'EMA:{ema_length}, X:{x_days}, PCT:{pct}'\n",
    "                print(variation)\n",
    "                df = bnf_1min\n",
    "                df = calculate_signals(df, ema_length=ema_length, x_days=x_days, pct=pct)\n",
    "                tb = backtest(df)\n",
    "                if len(tb) > 0:\n",
    "                    tb = tb.sort_values(by='Entry_Date')\n",
    "                    portfolio = 10000000\n",
    "                    tb['PnL'] = np.where(\n",
    "                        tb['Trade_Type'].isin(['Long', 'Add_Long']),  # For Long and Add_Long\n",
    "                        tb['Exit_Price'] - tb['Entry_Price'],\n",
    "                        np.where(\n",
    "                            tb['Trade_Type'].isin(['Short', 'Add_Short']),  # For Short and Add_Short\n",
    "                            tb['Entry_Price'] - tb['Exit_Price'],\n",
    "                            0  # Default case if Trade_Type is something unexpected\n",
    "                        )\n",
    "                    )\n",
    "                    \n",
    "                    tb['Slippage'] = SLIPPAGE_ * (tb['Entry_Price'] + tb['Exit_Price'])\n",
    "                    tb['PnL w cs'] = tb['PnL'] - tb['Slippage']\n",
    "                    tb['Qty'] = abs(RPT / 100 * portfolio / (tb['Entry_Price'] - tb['Initial SL']))\n",
    "                    tb['Profit_Loss INR'] = tb['Qty'] * tb['PnL w cs']\n",
    "                    tb['ROI%'] = tb['Profit_Loss INR'] * 100 / portfolio\n",
    "                    tb['Entry_Date'] = pd.to_datetime(tb['Entry_Date'])\n",
    "                    tb['Trade Year'] = tb['Entry_Date'].dt.year\n",
    "                    # tb_long_only = tb[(tb['Trade_Type'] == 'Long') | (tb['Trade_Type'] == 'Add_Long')].copy()\n",
    "                    # tb_long_only['Cumulative_PnL'] = tb_long_only['PnL w cs'].cumsum()\n",
    "                    # tb_short_only = tb[(tb['Trade_Type'] == 'Short') | (tb['Trade_Type'] == 'Add_Short')].copy()\n",
    "                    # tb_short_only['Cumulative_PnL'] = tb_short_only['PnL w cs'].cumsum()\n",
    "\n",
    "                    stats1 = generate_stats(tb, variation)\n",
    "                    for x, y in stats1.items():\n",
    "                        if x > 20:\n",
    "                            # print('Long Only')\n",
    "                            print(pd.DataFrame(y).to_string())\n",
    "                        break"
   ]
  },
  {
   "cell_type": "code",
   "execution_count": null,
   "id": "bf4379ed-990e-4191-b911-313cea44b9a4",
   "metadata": {},
   "outputs": [],
   "source": []
  }
 ],
 "metadata": {
  "kernelspec": {
   "display_name": "Python 3 (ipykernel)",
   "language": "python",
   "name": "python3"
  },
  "language_info": {
   "codemirror_mode": {
    "name": "ipython",
    "version": 3
   },
   "file_extension": ".py",
   "mimetype": "text/x-python",
   "name": "python",
   "nbconvert_exporter": "python",
   "pygments_lexer": "ipython3",
   "version": "3.11.6"
  }
 },
 "nbformat": 4,
 "nbformat_minor": 5
}
