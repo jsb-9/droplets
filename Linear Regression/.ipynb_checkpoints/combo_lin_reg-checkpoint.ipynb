{
 "cells": [
  {
   "cell_type": "code",
   "execution_count": 1,
   "id": "39261a5f-1b34-46fb-be06-d2917a3379bd",
   "metadata": {
    "execution": {
     "iopub.execute_input": "2024-09-22T06:44:06.505764Z",
     "iopub.status.busy": "2024-09-22T06:44:06.505524Z",
     "iopub.status.idle": "2024-09-22T06:44:06.510065Z",
     "shell.execute_reply": "2024-09-22T06:44:06.509132Z",
     "shell.execute_reply.started": "2024-09-22T06:44:06.505746Z"
    }
   },
   "outputs": [],
   "source": [
    "# Linear Regression"
   ]
  },
  {
   "cell_type": "code",
   "execution_count": 1,
   "id": "f6353bf5-7003-48cd-a77b-72d25a00fa3d",
   "metadata": {
    "execution": {
     "iopub.execute_input": "2024-09-23T14:37:41.780487Z",
     "iopub.status.busy": "2024-09-23T14:37:41.780096Z",
     "iopub.status.idle": "2024-09-23T14:37:43.896170Z",
     "shell.execute_reply": "2024-09-23T14:37:43.895104Z",
     "shell.execute_reply.started": "2024-09-23T14:37:41.780468Z"
    }
   },
   "outputs": [],
   "source": [
    "import datetime as dt\n",
    "\n",
    "import matplotlib.pyplot as plt\n",
    "import mplfinance as mpf\n",
    "import numpy as np\n",
    "import pandas as pd\n",
    "import pandas_market_calendars as mcal\n",
    "import plotly.graph_objects as go\n",
    "import polars as pl\n",
    "from dash import Dash, dcc, html\n",
    "from plotly.subplots import make_subplots\n",
    "\n",
    "nse = mcal.get_calendar(\"NSE\")"
   ]
  },
  {
   "cell_type": "code",
   "execution_count": 2,
   "id": "d84e488e-c16c-4de5-9dbd-7d38d60ee5f4",
   "metadata": {
    "execution": {
     "iopub.execute_input": "2024-09-23T14:37:43.897904Z",
     "iopub.status.busy": "2024-09-23T14:37:43.897513Z",
     "iopub.status.idle": "2024-09-23T14:37:43.902777Z",
     "shell.execute_reply": "2024-09-23T14:37:43.901560Z",
     "shell.execute_reply.started": "2024-09-23T14:37:43.897887Z"
    }
   },
   "outputs": [],
   "source": [
    "pd.set_option(\"display.max_rows\", 25_000)\n",
    "pd.set_option(\"display.max_columns\", 500)\n",
    "pl.Config.set_tbl_cols(500)\n",
    "pl.Config.set_tbl_rows(10_000)\n",
    "\n",
    "pd.options.display.float_format = \"{:.4f}\".format"
   ]
  },
  {
   "cell_type": "code",
   "execution_count": 3,
   "id": "e4297c88-dfef-4cf7-8a95-194d016ba3d0",
   "metadata": {
    "execution": {
     "iopub.execute_input": "2024-09-23T14:37:43.904478Z",
     "iopub.status.busy": "2024-09-23T14:37:43.903812Z",
     "iopub.status.idle": "2024-09-23T14:37:44.339545Z",
     "shell.execute_reply": "2024-09-23T14:37:44.338503Z",
     "shell.execute_reply.started": "2024-09-23T14:37:43.904438Z"
    }
   },
   "outputs": [],
   "source": [
    "import sys\n",
    "\n",
    "sys.path.append(\"..\")\n",
    "from tooling.enums import AssetClass, Index, Spot, StrikeSpread\n",
    "from tooling.fetch import fetch_option_data, fetch_spot_data\n",
    "from tooling.filter import find_atm, option_tool"
   ]
  },
  {
   "cell_type": "code",
   "execution_count": 4,
   "id": "74478f58-5266-4c87-8fff-e9f88c7dbfe3",
   "metadata": {
    "execution": {
     "iopub.execute_input": "2024-09-23T14:37:44.341825Z",
     "iopub.status.busy": "2024-09-23T14:37:44.341430Z",
     "iopub.status.idle": "2024-09-23T14:37:44.347496Z",
     "shell.execute_reply": "2024-09-23T14:37:44.346521Z",
     "shell.execute_reply.started": "2024-09-23T14:37:44.341804Z"
    }
   },
   "outputs": [],
   "source": [
    "def get_expiry(f_today):\n",
    "    days_to_thursday = (3 - f_today.weekday()) % 7\n",
    "    nearest_thursday = f_today + dt.timedelta(days=days_to_thursday)\n",
    "    f_expiry = nearest_thursday\n",
    "    if nse.valid_days(start_date=nearest_thursday, end_date=nearest_thursday).empty:\n",
    "        f_expiry = nearest_thursday - dt.timedelta(days=1)\n",
    "    return f_expiry\n",
    "\n",
    "\n",
    "def get_option_contract_name(symbol, strike, expiry, opt_type):\n",
    "    temp = \"0\"\n",
    "    mth = expiry.month\n",
    "\n",
    "    if (expiry + dt.timedelta(days=7)).month != expiry.month:\n",
    "        date_string = expiry.strftime(\"%y%b\").upper()\n",
    "        return f\"{symbol}{date_string}{strike}{opt_type}\"\n",
    "    else:\n",
    "        if expiry.day <= 9:\n",
    "            date_string = f\"{expiry.year - 2000}{mth}{temp}{expiry.day}\"\n",
    "        else:\n",
    "            date_string = f\"{expiry.year - 2000}{mth}{expiry.day}\"\n",
    "        return f\"{symbol}{date_string}{strike}{opt_type}\""
   ]
  },
  {
   "cell_type": "code",
   "execution_count": 101,
   "id": "55a61bae-8768-4a49-b646-8c8b00209d81",
   "metadata": {
    "execution": {
     "iopub.execute_input": "2024-09-23T14:44:40.858534Z",
     "iopub.status.busy": "2024-09-23T14:44:40.858118Z",
     "iopub.status.idle": "2024-09-23T14:44:41.060746Z",
     "shell.execute_reply": "2024-09-23T14:44:41.059642Z",
     "shell.execute_reply.started": "2024-09-23T14:44:40.858517Z"
    },
    "scrolled": true
   },
   "outputs": [],
   "source": [
    "bnf_pandas = pd.read_csv(\"../data/midcp.csv\")\n",
    "# bnf_pandas = pd.read_csv(\"../data/finnifty_1hr_tv (2).csv\")\n",
    "# bnf_pandas = pd.read_csv('../data/midcp_1hr_tv (4).csv')\n",
    "# bnf_pandas = pd.read_csv('../data/finnifty_1hr_tv.csv')\n",
    "# bnf_pandas = pd.read_csv('../data/bnf_fut_1hr_tv.csv')\n",
    "# bnf_pandas = pd.read_csv('../data/gold_4hr_tv.csv')"
   ]
  },
  {
   "cell_type": "code",
   "execution_count": 102,
   "id": "233766c3-7fa0-4024-9e5d-91716b1118d9",
   "metadata": {
    "execution": {
     "iopub.execute_input": "2024-09-23T14:44:41.643913Z",
     "iopub.status.busy": "2024-09-23T14:44:41.643586Z",
     "iopub.status.idle": "2024-09-23T14:44:41.648401Z",
     "shell.execute_reply": "2024-09-23T14:44:41.647397Z",
     "shell.execute_reply.started": "2024-09-23T14:44:41.643897Z"
    },
    "scrolled": true
   },
   "outputs": [],
   "source": [
    "# bnf.tail()"
   ]
  },
  {
   "cell_type": "code",
   "execution_count": 103,
   "id": "e7a573db-1541-4efd-97b1-fefdf29cdebc",
   "metadata": {
    "execution": {
     "iopub.execute_input": "2024-09-23T14:44:41.806300Z",
     "iopub.status.busy": "2024-09-23T14:44:41.805536Z",
     "iopub.status.idle": "2024-09-23T14:44:41.880428Z",
     "shell.execute_reply": "2024-09-23T14:44:41.879472Z",
     "shell.execute_reply.started": "2024-09-23T14:44:41.806281Z"
    },
    "scrolled": true
   },
   "outputs": [],
   "source": [
    "# If Stocks Data ...\n",
    "bnf_pandas[\"datetime\"] = pd.to_datetime(bnf_pandas[\"datetime\"])\n",
    "bnf_pandas[\"datetime\"] = bnf_pandas[\"datetime\"].dt.tz_localize(None)\n",
    "bnf_pandas = bnf_pandas[bnf_pandas[\"datetime\"].dt.year >= 2017]\n",
    "# bnf_pandas.drop(columns=[\"datetime\"], inplace=True)\n",
    "# bnf_pandas"
   ]
  },
  {
   "cell_type": "code",
   "execution_count": 104,
   "id": "70014f0c-a193-4751-ac8b-68a6cf8500be",
   "metadata": {
    "execution": {
     "iopub.execute_input": "2024-09-23T14:44:41.976665Z",
     "iopub.status.busy": "2024-09-23T14:44:41.976259Z",
     "iopub.status.idle": "2024-09-23T14:44:41.984371Z",
     "shell.execute_reply": "2024-09-23T14:44:41.983434Z",
     "shell.execute_reply.started": "2024-09-23T14:44:41.976648Z"
    },
    "scrolled": true
   },
   "outputs": [
    {
     "name": "stdout",
     "output_type": "stream",
     "text": [
      "<class 'polars.dataframe.frame.DataFrame'>\n"
     ]
    }
   ],
   "source": [
    "bnf = pl.DataFrame(bnf_pandas)\n",
    "print(type(bnf))\n",
    "# bnf"
   ]
  },
  {
   "cell_type": "code",
   "execution_count": 105,
   "id": "6a64a7dd-4897-4003-9a7c-bbb8e315e202",
   "metadata": {
    "execution": {
     "iopub.execute_input": "2024-09-23T14:44:42.133571Z",
     "iopub.status.busy": "2024-09-23T14:44:42.133280Z",
     "iopub.status.idle": "2024-09-23T14:44:42.137935Z",
     "shell.execute_reply": "2024-09-23T14:44:42.136860Z",
     "shell.execute_reply.started": "2024-09-23T14:44:42.133556Z"
    },
    "jupyter": {
     "source_hidden": true
    },
    "scrolled": true
   },
   "outputs": [],
   "source": [
    "# # For crude oil Data\n",
    "# bnf1 = pd.DataFrame(bnf_pandas)\n",
    "# bnf1 = bnf1.drop(columns=['Unnamed: 0', 'Unnamed: 0.1'])\n",
    "# bnf1['datetime'] = pd.to_datetime(bnf1['datetime'])\n",
    "# bnf1['index'] = bnf1['datetime']\n",
    "# bnf1.rename(columns={'o': 'open', 'h': 'high', 'l': 'low', 'c': 'close'}, inplace=True)\n",
    "# bnf = pl.DataFrame(bnf1)\n",
    "# print(type(bnf))\n",
    "# bnf"
   ]
  },
  {
   "cell_type": "code",
   "execution_count": 106,
   "id": "ec964a92-52a9-475b-95e6-06cee0cf2e18",
   "metadata": {
    "execution": {
     "iopub.execute_input": "2024-09-23T14:44:42.288344Z",
     "iopub.status.busy": "2024-09-23T14:44:42.287663Z",
     "iopub.status.idle": "2024-09-23T14:44:42.293002Z",
     "shell.execute_reply": "2024-09-23T14:44:42.291805Z",
     "shell.execute_reply.started": "2024-09-23T14:44:42.288319Z"
    },
    "scrolled": true
   },
   "outputs": [],
   "source": [
    "# bnf['datetime'] = pd.to_datetime(bnf['datetime'])\n",
    "# bnf = bnf.drop(columns=['Unnamed: 0'])\n",
    "# bnf.set_index(bnf['datetime'], inplace=True)\n",
    "# bnf\n",
    "# bnf = bnf.with_columns(pl.col('datetime').str.to_datetime(format='%Y-%m-%dT%H:%M:%S.%f'))\n",
    "# print(bnf)\n",
    "# bnf = bnf.with_columns(pl.col('datetime').cast(pl.DateTime))\n",
    "\n",
    "# Set 'datetime' column as index\n",
    "bnf = bnf.with_columns([pl.col(\"datetime\").alias(\"index\")]).drop(\"datetime\")\n",
    "\n",
    "# Now 'datetime' is set as the index\n",
    "# bnf"
   ]
  },
  {
   "cell_type": "code",
   "execution_count": 107,
   "id": "1006e1ad-7958-4cd8-b8aa-3cb2a7dee309",
   "metadata": {
    "execution": {
     "iopub.execute_input": "2024-09-23T14:44:42.451287Z",
     "iopub.status.busy": "2024-09-23T14:44:42.450927Z",
     "iopub.status.idle": "2024-09-23T14:44:42.456945Z",
     "shell.execute_reply": "2024-09-23T14:44:42.455563Z",
     "shell.execute_reply.started": "2024-09-23T14:44:42.451259Z"
    },
    "scrolled": true
   },
   "outputs": [],
   "source": [
    "bnf = bnf.with_columns(pl.col(\"index\").alias(\"datetime\"))\n",
    "# bnf"
   ]
  },
  {
   "cell_type": "code",
   "execution_count": 108,
   "id": "fa81eadd-5c31-4d15-a56c-66f7c82923b4",
   "metadata": {
    "execution": {
     "iopub.execute_input": "2024-09-23T14:44:42.656491Z",
     "iopub.status.busy": "2024-09-23T14:44:42.655871Z",
     "iopub.status.idle": "2024-09-23T14:44:42.663412Z",
     "shell.execute_reply": "2024-09-23T14:44:42.662451Z",
     "shell.execute_reply.started": "2024-09-23T14:44:42.656470Z"
    },
    "scrolled": true
   },
   "outputs": [
    {
     "data": {
      "text/html": [
       "<div><style>\n",
       ".dataframe > thead > tr,\n",
       ".dataframe > tbody > tr {\n",
       "  text-align: right;\n",
       "  white-space: pre-wrap;\n",
       "}\n",
       "</style>\n",
       "<small>shape: (5, 7)</small><table border=\"1\" class=\"dataframe\"><thead><tr><th>open</th><th>high</th><th>low</th><th>close</th><th>volume</th><th>index</th><th>datetime</th></tr><tr><td>f64</td><td>f64</td><td>f64</td><td>f64</td><td>i64</td><td>datetime[ns]</td><td>datetime[ns]</td></tr></thead><tbody><tr><td>11762.3</td><td>11763.25</td><td>11756.65</td><td>11758.2</td><td>0</td><td>2024-06-07 15:25:00</td><td>2024-06-07 15:25:00</td></tr><tr><td>11758.3</td><td>11758.9</td><td>11753.7</td><td>11755.85</td><td>0</td><td>2024-06-07 15:26:00</td><td>2024-06-07 15:26:00</td></tr><tr><td>11753.9</td><td>11757.2</td><td>11752.05</td><td>11756.4</td><td>0</td><td>2024-06-07 15:27:00</td><td>2024-06-07 15:27:00</td></tr><tr><td>11756.45</td><td>11757.4</td><td>11748.75</td><td>11753.7</td><td>0</td><td>2024-06-07 15:28:00</td><td>2024-06-07 15:28:00</td></tr><tr><td>11753.2</td><td>11753.85</td><td>11747.05</td><td>11748.6</td><td>0</td><td>2024-06-07 15:29:00</td><td>2024-06-07 15:29:00</td></tr></tbody></table></div>"
      ],
      "text/plain": [
       "shape: (5, 7)\n",
       "┌──────────┬──────────┬──────────┬──────────┬────────┬─────────────────────┬─────────────────────┐\n",
       "│ open     ┆ high     ┆ low      ┆ close    ┆ volume ┆ index               ┆ datetime            │\n",
       "│ ---      ┆ ---      ┆ ---      ┆ ---      ┆ ---    ┆ ---                 ┆ ---                 │\n",
       "│ f64      ┆ f64      ┆ f64      ┆ f64      ┆ i64    ┆ datetime[ns]        ┆ datetime[ns]        │\n",
       "╞══════════╪══════════╪══════════╪══════════╪════════╪═════════════════════╪═════════════════════╡\n",
       "│ 11762.3  ┆ 11763.25 ┆ 11756.65 ┆ 11758.2  ┆ 0      ┆ 2024-06-07 15:25:00 ┆ 2024-06-07 15:25:00 │\n",
       "│ 11758.3  ┆ 11758.9  ┆ 11753.7  ┆ 11755.85 ┆ 0      ┆ 2024-06-07 15:26:00 ┆ 2024-06-07 15:26:00 │\n",
       "│ 11753.9  ┆ 11757.2  ┆ 11752.05 ┆ 11756.4  ┆ 0      ┆ 2024-06-07 15:27:00 ┆ 2024-06-07 15:27:00 │\n",
       "│ 11756.45 ┆ 11757.4  ┆ 11748.75 ┆ 11753.7  ┆ 0      ┆ 2024-06-07 15:28:00 ┆ 2024-06-07 15:28:00 │\n",
       "│ 11753.2  ┆ 11753.85 ┆ 11747.05 ┆ 11748.6  ┆ 0      ┆ 2024-06-07 15:29:00 ┆ 2024-06-07 15:29:00 │\n",
       "└──────────┴──────────┴──────────┴──────────┴────────┴─────────────────────┴─────────────────────┘"
      ]
     },
     "execution_count": 108,
     "metadata": {},
     "output_type": "execute_result"
    }
   ],
   "source": [
    "bnf.tail()"
   ]
  },
  {
   "cell_type": "code",
   "execution_count": 109,
   "id": "09b1bd2c-69bd-41f6-ba91-78dc01b1cb96",
   "metadata": {
    "execution": {
     "iopub.execute_input": "2024-09-23T14:44:42.940299Z",
     "iopub.status.busy": "2024-09-23T14:44:42.939897Z",
     "iopub.status.idle": "2024-09-23T14:44:42.945766Z",
     "shell.execute_reply": "2024-09-23T14:44:42.944824Z",
     "shell.execute_reply.started": "2024-09-23T14:44:42.940282Z"
    },
    "scrolled": true
   },
   "outputs": [],
   "source": [
    "def resample(\n",
    "    data: pl.DataFrame, timeframe, offset: dt.timedelta | None = None\n",
    ") -> pl.DataFrame:\n",
    "    return (\n",
    "        data.set_sorted(\"datetime\")\n",
    "        .group_by_dynamic(\n",
    "            index_column=\"datetime\",\n",
    "            every=timeframe,\n",
    "            period=timeframe,\n",
    "            label=\"left\",\n",
    "            offset=offset,\n",
    "        )\n",
    "        .agg(\n",
    "            [\n",
    "                pl.col(\"open\").first().alias(\"open\"),\n",
    "                pl.col(\"high\").max().alias(\"high\"),\n",
    "                pl.col(\"low\").min().alias(\"low\"),\n",
    "                pl.col(\"close\").last().alias(\"close\"),\n",
    "                pl.col(\"volume\").sum().alias(\"volume\"),\n",
    "            ]\n",
    "        )\n",
    "    )\n",
    "\n",
    "# ohlc_resampled = resample(bnf, '60m', pd.Timedelta(minutes=15))\n",
    "\n",
    "# bnf_df = bnf.to_pandas()\n",
    "# bnf_df.set_index(bnf_df['datetime'], inplace=True)\n",
    "# ohlc_15min = bnf_df.resample('60min').agg({\n",
    "#     'open': 'first',\n",
    "#     'high': 'max',\n",
    "#     'low': 'min',\n",
    "#     'close': 'last',\n",
    "# })\n",
    "\n",
    "# ohlc_15min.dropna(inplace=True)\n",
    "\n",
    "# ohlc_15min.reset_index(inplace=True)\n",
    "\n",
    "# bnf_1hr = ohlc_15min\n",
    "# bnf_1hr = ohlc_resampled\n",
    "# bnf_final = bnf_1hr.to_pandas()\n",
    "# bnf_final['datetime'] = pd.to_datetime(bnf_final['datetime'])\n",
    "# bnf_final\n",
    "# bnf_1hr"
   ]
  },
  {
   "cell_type": "code",
   "execution_count": 110,
   "id": "eea22bcb-bd67-4f54-9b8b-c259101ad87c",
   "metadata": {
    "execution": {
     "iopub.execute_input": "2024-09-23T14:44:51.362586Z",
     "iopub.status.busy": "2024-09-23T14:44:51.361843Z",
     "iopub.status.idle": "2024-09-23T14:44:51.366189Z",
     "shell.execute_reply": "2024-09-23T14:44:51.365156Z",
     "shell.execute_reply.started": "2024-09-23T14:44:51.362567Z"
    },
    "scrolled": true
   },
   "outputs": [],
   "source": [
    "# bnf_final = bnf\n",
    "# bnf_final"
   ]
  },
  {
   "cell_type": "code",
   "execution_count": 111,
   "id": "4a8f337b-a025-409b-ae31-089626b58e52",
   "metadata": {
    "execution": {
     "iopub.execute_input": "2024-09-23T14:44:51.500623Z",
     "iopub.status.busy": "2024-09-23T14:44:51.499842Z",
     "iopub.status.idle": "2024-09-23T14:44:51.504429Z",
     "shell.execute_reply": "2024-09-23T14:44:51.503386Z",
     "shell.execute_reply.started": "2024-09-23T14:44:51.500605Z"
    },
    "scrolled": true
   },
   "outputs": [],
   "source": [
    "# # bnf_final = bnf_1hr\n",
    "# bnf_final['datetime'] = pd.to_datetime(bnf_final['datetime'])\n",
    "# bnf_final"
   ]
  },
  {
   "cell_type": "code",
   "execution_count": 112,
   "id": "70c46ea3-5912-47ba-99ec-2e97230ac076",
   "metadata": {
    "execution": {
     "iopub.execute_input": "2024-09-23T14:44:54.763930Z",
     "iopub.status.busy": "2024-09-23T14:44:54.763535Z",
     "iopub.status.idle": "2024-09-23T14:44:54.771741Z",
     "shell.execute_reply": "2024-09-23T14:44:54.770635Z",
     "shell.execute_reply.started": "2024-09-23T14:44:54.763914Z"
    }
   },
   "outputs": [],
   "source": [
    "import pandas as pd\n",
    "import numpy as np\n",
    "\n",
    "def linear_regression_vectorized(df, period, trailing):\n",
    "    \n",
    "    if 'close' not in df.columns:\n",
    "        print(df.columns)\n",
    "        raise ValueError(\"The DataFrame must contain a 'close' column.\")\n",
    "\n",
    "    df['close'] = df['close'].astype(float)\n",
    "    x = np.arange(period)\n",
    "    x_sum = np.sum(x)\n",
    "    x_squared_sum = np.sum(x**2)\n",
    "    \n",
    "    denominator = period * x_squared_sum - x_sum**2\n",
    "    \n",
    "    y_rolling = df['close'].rolling(window=period)\n",
    "    \n",
    "    y_sum = y_rolling.sum()\n",
    "    xy_sum = y_rolling.apply(lambda y: np.dot(x, y), raw=True)\n",
    "    \n",
    "    slope = (period * xy_sum - x_sum * y_sum) / denominator\n",
    "    intercept = (y_sum - slope * x_sum) / period\n",
    "    \n",
    "    predicted_values = intercept + slope * (period - 1)\n",
    "    df['LR'] = predicted_values\n",
    "\n",
    "    x = np.arange(trailing)\n",
    "    x_sum = np.sum(x)\n",
    "    x_squared_sum = np.sum(x**2)\n",
    "    \n",
    "    denominator = trailing * x_squared_sum - x_sum**2\n",
    "    \n",
    "    y_rolling = df['close'].rolling(window=trailing)\n",
    "    \n",
    "    y_sum = y_rolling.sum()\n",
    "    xy_sum = y_rolling.apply(lambda y: np.dot(x, y), raw=True)\n",
    "    \n",
    "    slope = (trailing * xy_sum - x_sum * y_sum) / denominator\n",
    "    intercept = (y_sum - slope * x_sum) / trailing\n",
    "    \n",
    "    predicted_values = intercept + slope * (trailing - 1)\n",
    "    df['LR2'] = predicted_values\n",
    "    \n",
    "    return df\n",
    "\n",
    "# data = linear_regression_vectorized(bnf.to_pandas(), 20)"
   ]
  },
  {
   "cell_type": "code",
   "execution_count": 113,
   "id": "d5f2492d-0c70-4ead-ab49-79ddd2cee34d",
   "metadata": {
    "execution": {
     "iopub.execute_input": "2024-09-23T14:44:55.288250Z",
     "iopub.status.busy": "2024-09-23T14:44:55.287855Z",
     "iopub.status.idle": "2024-09-23T14:44:55.292238Z",
     "shell.execute_reply": "2024-09-23T14:44:55.291235Z",
     "shell.execute_reply.started": "2024-09-23T14:44:55.288232Z"
    }
   },
   "outputs": [],
   "source": [
    "# # Example usage\n",
    "# df = pd.DataFrame({\n",
    "#     'Date': pd.date_range(start='2023-01-01', periods=50, freq='D'),\n",
    "#     'Close': np.random.uniform(100, 200, 50)\n",
    "# }).\n",
    "\n",
    "# df.set_index('Date', inplace=True)\n",
    "\n",
    "# # Apply the optimized linear regression function\n",
    "# regression_values = linear_regression_vectorized(df, period=14)\n",
    "# df['Linear_Regression_Close'] = regression_values\n",
    "\n",
    "# # Display the DataFrame with the new column\n",
    "# print(df.tail(10))"
   ]
  },
  {
   "cell_type": "code",
   "execution_count": 114,
   "id": "5d7a4273-d4a3-4dfd-ab59-1eb35a9375d5",
   "metadata": {
    "execution": {
     "iopub.execute_input": "2024-09-23T14:44:55.466577Z",
     "iopub.status.busy": "2024-09-23T14:44:55.466001Z",
     "iopub.status.idle": "2024-09-23T14:44:55.471782Z",
     "shell.execute_reply": "2024-09-23T14:44:55.470765Z",
     "shell.execute_reply.started": "2024-09-23T14:44:55.466548Z"
    },
    "scrolled": true
   },
   "outputs": [],
   "source": [
    "def generate_signals1(df, candles_in_num):\n",
    "    df[\"close\"] = pd.to_numeric(df[\"close\"], errors=\"coerce\")\n",
    "\n",
    "    df[\"Buy_Signal\"] = 0\n",
    "    buy_signal_mask = df[\"LR\"] > df[\"LR\"].shift(1)\n",
    "\n",
    "    for i in range(1, candles_in_num):\n",
    "        buy_signal_mask &= df[\"LR\"].shift(i) > df[\"LR\"].shift(i + 1)\n",
    "\n",
    "    df.loc[buy_signal_mask, \"Buy_Signal\"] = 1\n",
    "\n",
    "    return df"
   ]
  },
  {
   "cell_type": "code",
   "execution_count": 115,
   "id": "bd308e50-a618-4a3e-8b7f-51d546552567",
   "metadata": {
    "execution": {
     "iopub.execute_input": "2024-09-23T14:44:55.602013Z",
     "iopub.status.busy": "2024-09-23T14:44:55.601700Z",
     "iopub.status.idle": "2024-09-23T14:44:55.607109Z",
     "shell.execute_reply": "2024-09-23T14:44:55.606240Z",
     "shell.execute_reply.started": "2024-09-23T14:44:55.601997Z"
    },
    "scrolled": true
   },
   "outputs": [],
   "source": [
    "def generate_signals2(df, candles_in_num):\n",
    "    df[\"c\"] = pd.to_numeric(df[\"c\"], errors=\"coerce\")\n",
    "    \n",
    "    df[\"Sell_Signal\"] = 0\n",
    "\n",
    "    # Generate signals using boolean masking\n",
    "    sell_signal_mask = df[\"LR\"] < df[\"LR\"].shift(1)\n",
    "\n",
    "    for i in range(1, candles_in_num):\n",
    "        sell_signal_mask &= df[\"LR\"].shift(i) < df[\"LR\"].shift(i + 1)\n",
    "\n",
    "    df.loc[sell_signal_mask, \"Sell_Signal\"] = 1\n",
    "\n",
    "    return df"
   ]
  },
  {
   "cell_type": "code",
   "execution_count": 123,
   "id": "f59a985c-3835-47e9-b698-1823cdbce35c",
   "metadata": {
    "execution": {
     "iopub.execute_input": "2024-09-23T14:45:15.248788Z",
     "iopub.status.busy": "2024-09-23T14:45:15.247891Z",
     "iopub.status.idle": "2024-09-23T14:45:15.265585Z",
     "shell.execute_reply": "2024-09-23T14:45:15.264624Z",
     "shell.execute_reply.started": "2024-09-23T14:45:15.248756Z"
    },
    "scrolled": true
   },
   "outputs": [],
   "source": [
    "# Positional\n",
    "\n",
    "def execute(df, n):\n",
    "\n",
    "    trade_book = []\n",
    "    in_trade = False\n",
    "    signal_entry_price = 100000\n",
    "    signal_initial_sl = 0\n",
    "    already_signal_exists = False\n",
    "    is_trailing_active = False\n",
    "    remark = \"\"\n",
    "    portfolio_value = 1_00_00_000\n",
    "    index_lev = 6\n",
    "\n",
    "    for i in range(1, len(df)):\n",
    "        points = 0\n",
    "        current_candle_open = df.iloc[i][\"o\"]\n",
    "        current_candle_high = df.iloc[i][\"h\"]\n",
    "        current_candle_low = df.iloc[i][\"l\"]\n",
    "        current_candle_close = df.iloc[i][\"c\"]\n",
    "        current_linear_regression = df.iloc[i]['LR2']\n",
    "\n",
    "        if not in_trade:\n",
    "            if df.iloc[i][\"Buy_Signal\"] == 1:\n",
    "                if not already_signal_exists:\n",
    "                    # Fresh Buy Signal\n",
    "                    # print(df.iloc[i])\n",
    "                    # print('Fresh Buy Signal')\n",
    "                    signal_entry_price = current_candle_high\n",
    "                    # signal_initial_sl = current_candle_low\n",
    "                    signal_initial_sl = df.iloc[i-n-1:i+1]['l'].min()\n",
    "                    signal_creation_time = df.iloc[i][\"datetime\"]\n",
    "                    already_signal_exists = True\n",
    "\n",
    "                else:\n",
    "                    if current_candle_open > signal_entry_price:\n",
    "                        # Gap Up Open, SKIP trade\n",
    "                        # print(df.iloc[i])\n",
    "                        # print('Gap Up Open, Skip Trade')\n",
    "                        already_signal_exists = False\n",
    "                        signal_entry_price = 100000\n",
    "                        signal_initial_sl = 0\n",
    "                    elif current_candle_high < signal_entry_price:\n",
    "                        # Better Candle\n",
    "                        # print(df.iloc[i])\n",
    "                        # print('Better Candle')\n",
    "                        signal_entry_price = current_candle_high\n",
    "                        # signal_initial_sl = current_candle_low\n",
    "                        signal_initial_sl = df.iloc[i-n-1:i+1]['l'].min()\n",
    "                        signal_creation_time = df.iloc[i][\"datetime\"]\n",
    "\n",
    "                        # if (signal_entry_price - signal_initial_sl > 400):\n",
    "                        #     # Skip Signal Candle Due To Big Size\n",
    "                        #     already_signal_exists = False\n",
    "                        #     signal_entry_price = 100000\n",
    "                        #     signal_initial_sl = 0\n",
    "\n",
    "                    elif current_candle_high > signal_entry_price:\n",
    "                        # Entry Triggered\n",
    "                        # print(df.iloc[i])\n",
    "                        # print('Entry Triggered')\n",
    "                        in_trade = True\n",
    "                        entry_time = df.iloc[i][\"datetime\"]\n",
    "                        entry_price = signal_entry_price\n",
    "                        points = 0\n",
    "            else:\n",
    "                if df.iloc[i - 1][\"Buy_Signal\"] == 1:\n",
    "                    # Considering the forward bias condition as well now\n",
    "                    signal_entry_price = df.iloc[i - 1][\"h\"]\n",
    "                    # signal_initial_sl = df.iloc[i - 1][\"l\"]\n",
    "                    signal_initial_sl = df.iloc[i-n-2:i]['l'].min()\n",
    "                    signal_creation_time = df.iloc[i - 1][\"datetime\"]\n",
    "                    already_signal_exists = True\n",
    "\n",
    "                    if current_candle_high > signal_entry_price:\n",
    "                        in_trade = True\n",
    "                        entry_time = df.iloc[i][\"datetime\"]\n",
    "                        entry_price = signal_entry_price\n",
    "                        points = 0\n",
    "                    else:\n",
    "                        # Discard Existing Signal\n",
    "                        already_signal_exists = False\n",
    "                        signal_entry_price = 100000\n",
    "                        signal_initial_sl = 0\n",
    "\n",
    "        if in_trade:\n",
    "            trade_entry_price = signal_entry_price\n",
    "            trade_initial_sl = signal_initial_sl\n",
    "            trade_final_sl = signal_initial_sl\n",
    "\n",
    "            if (\n",
    "                not is_trailing_active\n",
    "                and current_candle_low > current_linear_regression\n",
    "            ):\n",
    "                is_trailing_active = True\n",
    "\n",
    "            if not is_trailing_active:\n",
    "                if current_candle_open < trade_initial_sl:\n",
    "                    if (\n",
    "                        df.iloc[i][\"datetime\"].date() == entry_time.date()\n",
    "                        and df.iloc[i][\"datetime\"].time() == entry_time.time()\n",
    "                    ):\n",
    "                        if current_candle_close <= trade_initial_sl:\n",
    "                            in_trade = False\n",
    "                            points = trade_initial_sl - trade_entry_price\n",
    "                            exit_price = trade_initial_sl\n",
    "                            exit_time = df.iloc[i][\"datetime\"]\n",
    "                            remark = \"Initial SL hit\"\n",
    "\n",
    "                    else:\n",
    "                        # Gap Open Outside ISL\n",
    "                        # print(df.iloc[i])\n",
    "                        # print('Gap Open Outside ISL')\n",
    "                        in_trade = False\n",
    "                        points = current_candle_open - trade_entry_price\n",
    "                        exit_price = current_candle_open\n",
    "                        exit_time = df.iloc[i][\"datetime\"]\n",
    "                        remark = \"Gap Open Outside ISL\"\n",
    "\n",
    "                elif current_candle_low <= trade_initial_sl:\n",
    "                    # Initial SL Hit\n",
    "                    # print(df.iloc[i])\n",
    "                    # print('Initial SL Hit')\n",
    "                    in_trade = False\n",
    "                    points = trade_initial_sl - trade_entry_price\n",
    "                    exit_price = trade_initial_sl\n",
    "                    exit_time = df.iloc[i][\"datetime\"]\n",
    "                    remark = \"Initial SL Hit\"\n",
    "\n",
    "            else:\n",
    "                trade_final_sl = max(trade_initial_sl, current_linear_regression)\n",
    "\n",
    "                if current_candle_open <= trade_initial_sl:\n",
    "                    if (\n",
    "                        df.iloc[i][\"datetime\"].date() == entry_time.date()\n",
    "                        and df.iloc[i][\"datetime\"].time() == entry_time.time()\n",
    "                    ):\n",
    "                        if current_candle_close <= trade_initial_sl:\n",
    "                            in_trade = False\n",
    "                            points = trade_initial_sl - trade_entry_price\n",
    "                            exit_price = trade_initial_sl\n",
    "                            exit_time = df.iloc[i][\"datetime\"]\n",
    "                            remark = \"Initial SL hit\"\n",
    "\n",
    "                    else:\n",
    "                        # Gap Open Outside ISL\n",
    "                        # print(df.iloc[i])\n",
    "                        # print('Gap Open Outside ISL')\n",
    "                        in_trade = False\n",
    "                        points = current_candle_open - trade_entry_price\n",
    "                        exit_price = current_candle_open\n",
    "                        exit_time = df.iloc[i][\"datetime\"]\n",
    "                        remark = \"Gap Open Outside ISL\"\n",
    "\n",
    "                elif current_candle_low <= trade_initial_sl:\n",
    "                    # if trade_initial_sl >= current_linear_regression:\n",
    "                    # Despite Trailing, Initial SL hit\n",
    "                    # print(df.iloc[i])\n",
    "                    # print('Initial SL Hit')\n",
    "                    in_trade = False\n",
    "                    points = trade_initial_sl - trade_entry_price\n",
    "                    exit_price = trade_initial_sl\n",
    "                    exit_time = df.iloc[i][\"datetime\"]\n",
    "                    remark = \"Initial SL hit\"\n",
    "\n",
    "                elif (current_candle_close <= trade_final_sl):\n",
    "                    # Price Closed below TSL i.e. MA10 , TSL Hit\n",
    "                    # print(df.iloc[i])\n",
    "                    # print('Initial SL Hit')\n",
    "                    in_trade = False\n",
    "                    points = current_candle_close - trade_entry_price\n",
    "                    exit_price = current_candle_close\n",
    "                    exit_time = df.iloc[i][\"datetime\"]\n",
    "                    is_trailing_active = False\n",
    "                    remark = \"TSL Hit\"\n",
    "\n",
    "            if points:\n",
    "                \n",
    "                max_qty = int(round(portfolio_value * index_lev / entry_price / 15)) * 15\n",
    "                rpt_qty = portfolio_value * 0.01 / abs(entry_price - trade_initial_sl)\n",
    "                # qty = min(max_qty, rpt_qty)\n",
    "                qty = max_qty\n",
    "                slippage = 0.0001 * (entry_price + exit_price)\n",
    "                # slippage = 10\n",
    "                final_points = points - slippage\n",
    "                # final_points = points\n",
    "\n",
    "                # if vol_entry * strike < 250000000:\n",
    "                #     vol_remark = 'ILLIQUID'\n",
    "                # elif vol_entry * strike >= 250000000:\n",
    "                #     vol_remark = 'LIQUID'z\n",
    "                \n",
    "                trade = {\n",
    "                    \"Signal Generated At\": signal_creation_time,\n",
    "                    \"Trade Type\": \"LONG\",\n",
    "                    \"Entry Date\": entry_time.date(),\n",
    "                    \"Entry Time\": entry_time.time(),\n",
    "                    \"Entry Price\": entry_price,\n",
    "                    \"Initial SL\": trade_initial_sl,\n",
    "                    \"Final SL\": trade_final_sl,\n",
    "                    # \"Target\": trade_target,\n",
    "                    \"Exit Time\": exit_time,\n",
    "                    \"Exit Price\": exit_price,\n",
    "                    \"Points Captured\": points,\n",
    "                    \"Slippages\": slippage,\n",
    "                    \"After Costs\": final_points,\n",
    "                    \"PnL\": final_points * qty,\n",
    "                    \"Remarks\": remark,\n",
    "                    # 'Volume at Entry Candle': vol_entry,\n",
    "                    # 'Volume Remark': vol_remark,\n",
    "                    \"Max Qty\": max_qty,\n",
    "                    \"RPT Qty\": rpt_qty,\n",
    "                    'Qty': qty,\n",
    "                    \"Leverage\": index_lev,\n",
    "                    \"ROI%\": (final_points * qty / portfolio_value) * 100,\n",
    "                    # \"Max Price\": max_price,\n",
    "                    # \"Min Price\": min_price,\n",
    "                    \"Trade Year\": entry_time.year,\n",
    "                    \"Trade Month\": entry_time.month,\n",
    "                    # \"Variation\": f\"{signal_ma}, {no_of_candles}, {tf}, {sl}% SL\",\n",
    "                }\n",
    "                trade_book.append(trade)\n",
    "                points = 0\n",
    "                in_trade = False\n",
    "                already_signal_exists = False\n",
    "                remark = \"\"\n",
    "                is_trailing_active = False\n",
    "\n",
    "    trade_book_df = pd.DataFrame(trade_book)\n",
    "    return trade_book_df"
   ]
  },
  {
   "cell_type": "code",
   "execution_count": 124,
   "id": "7b6d2a2c-2c15-4fef-8ae5-d70f199f9c7a",
   "metadata": {
    "execution": {
     "iopub.execute_input": "2024-09-23T14:45:15.660547Z",
     "iopub.status.busy": "2024-09-23T14:45:15.660191Z",
     "iopub.status.idle": "2024-09-23T14:45:15.665325Z",
     "shell.execute_reply": "2024-09-23T14:45:15.664469Z",
     "shell.execute_reply.started": "2024-09-23T14:45:15.660521Z"
    },
    "scrolled": true
   },
   "outputs": [],
   "source": [
    "bnf1 = bnf\n",
    "bnf2 = bnf"
   ]
  },
  {
   "cell_type": "code",
   "execution_count": 125,
   "id": "31fdb8d1-8426-4918-8fc4-963b4cf2e87a",
   "metadata": {
    "execution": {
     "iopub.execute_input": "2024-09-23T14:45:15.830770Z",
     "iopub.status.busy": "2024-09-23T14:45:15.830516Z",
     "iopub.status.idle": "2024-09-23T14:45:15.839021Z",
     "shell.execute_reply": "2024-09-23T14:45:15.837699Z",
     "shell.execute_reply.started": "2024-09-23T14:45:15.830753Z"
    }
   },
   "outputs": [],
   "source": [
    "def generate_stats(tb_expiry, variation):\n",
    "    stats_df8 = pd.DataFrame(\n",
    "        index=range(2017, 2025),\n",
    "        columns=[\n",
    "            \"Total ROI\",\n",
    "            \"Total Trades\",\n",
    "            \"Win Rate\",\n",
    "            \"Avg Profit% per Trade\",\n",
    "            \"Avg Loss% per Trade\",\n",
    "            \"Max Drawdown\",\n",
    "            \"ROI/DD Ratio\",\n",
    "            \"Variation\",\n",
    "        ],\n",
    "    )\n",
    "    combined_df_sorted = tb_expiry\n",
    "    # combined_df_sorted = tb_expiry_ce\n",
    "    # combined_df_sorted = tb_expiry_pe\n",
    "    \n",
    "    # Iterate over each year\n",
    "    for year in range(2017, 2025):\n",
    "        # Filter trades for the current year\n",
    "        year_trades = combined_df_sorted[(combined_df_sorted[\"Trade Year\"] == year)]\n",
    "    \n",
    "        # Calculate total ROI\n",
    "        total_roi = year_trades[\"ROI%\"].sum()\n",
    "    \n",
    "        # Calculate total number of trades\n",
    "        total_trades = len(year_trades)\n",
    "    \n",
    "        # Calculate win rate\n",
    "        win_rate = (year_trades[\"ROI%\"] > 0).mean() * 100\n",
    "    \n",
    "        # Calculate average profit per trade\n",
    "        avg_profit = year_trades[year_trades[\"ROI%\"] > 0][\"ROI%\"].mean()\n",
    "    \n",
    "        # Calculate average loss per trade\n",
    "        avg_loss = year_trades[year_trades[\"ROI%\"] < 0][\"ROI%\"].mean()\n",
    "    \n",
    "        # Calculate maximum drawdown\n",
    "        max_drawdown = (\n",
    "            year_trades[\"ROI%\"].cumsum() - year_trades[\"ROI%\"].cumsum().cummax()\n",
    "        ).min()\n",
    "    \n",
    "        # Calculate ROI/DD ratio\n",
    "        roi_dd_ratio = total_roi / abs(max_drawdown)\n",
    "\n",
    "        variation = variation\n",
    "    \n",
    "        # Store the statistics in the DataFrame\n",
    "        stats_df8.loc[year] = [\n",
    "            total_roi,\n",
    "            total_trades,\n",
    "            win_rate,\n",
    "            avg_profit,\n",
    "            avg_loss,\n",
    "            max_drawdown,\n",
    "            roi_dd_ratio,\n",
    "            variation,\n",
    "        ]\n",
    "    \n",
    "    # Calculate overall statistics\n",
    "    overall_total_roi = stats_df8[\"Total ROI\"].sum()\n",
    "    overall_total_trades = stats_df8[\"Total Trades\"].sum()\n",
    "    overall_win_rate = (combined_df_sorted[\"ROI%\"] > 0).mean() * 100\n",
    "    overall_avg_profit = combined_df_sorted[combined_df_sorted[\"ROI%\"] > 0][\"ROI%\"].mean()\n",
    "    overall_avg_loss = combined_df_sorted[combined_df_sorted[\"ROI%\"] < 0][\"ROI%\"].mean()\n",
    "    overall_max_drawdown = (\n",
    "        combined_df_sorted[\"ROI%\"].cumsum() - combined_df_sorted[\"ROI%\"].cumsum().cummax()\n",
    "    ).min()\n",
    "    overall_roi_dd_ratio = overall_total_roi / abs(overall_max_drawdown)\n",
    "    overall_variation = variation\n",
    "    \n",
    "    # Store the overall statistics in the DataFrame\n",
    "    stats_df8.loc[\"Overall\"] = [\n",
    "        overall_total_roi,\n",
    "        overall_total_trades,\n",
    "        overall_win_rate,\n",
    "        overall_avg_profit,\n",
    "        overall_avg_loss,\n",
    "        overall_max_drawdown,\n",
    "        overall_roi_dd_ratio,\n",
    "        overall_variation,\n",
    "    ]\n",
    "    return {overall_roi_dd_ratio : stats_df8}"
   ]
  },
  {
   "cell_type": "code",
   "execution_count": 126,
   "id": "4e35f7b2-0411-4801-875a-a245e7856d30",
   "metadata": {
    "execution": {
     "iopub.execute_input": "2024-09-23T14:45:16.028826Z",
     "iopub.status.busy": "2024-09-23T14:45:16.028457Z",
     "iopub.status.idle": "2024-09-23T14:45:16.037524Z",
     "shell.execute_reply": "2024-09-23T14:45:16.036439Z",
     "shell.execute_reply.started": "2024-09-23T14:45:16.028804Z"
    },
    "scrolled": true
   },
   "outputs": [],
   "source": [
    "bnf1 = bnf1.to_pandas()"
   ]
  },
  {
   "cell_type": "code",
   "execution_count": 127,
   "id": "67742f31-a448-4345-a1cf-257333408476",
   "metadata": {
    "execution": {
     "iopub.execute_input": "2024-09-23T14:45:16.455052Z",
     "iopub.status.busy": "2024-09-23T14:45:16.454691Z",
     "iopub.status.idle": "2024-09-23T14:45:16.459174Z",
     "shell.execute_reply": "2024-09-23T14:45:16.458314Z",
     "shell.execute_reply.started": "2024-09-23T14:45:16.455036Z"
    },
    "scrolled": true
   },
   "outputs": [],
   "source": [
    "# # bnf2 = bnf2.to_pandas()\n",
    "# data = linear_regression_vectorized(bnf1, 80)\n",
    "# signals_df1 = generate_signals1(data, 1)\n",
    "# # signals_df2 = generate_signals2(bnf2)"
   ]
  },
  {
   "cell_type": "code",
   "execution_count": 128,
   "id": "295d4c5f-8eb2-4827-9872-9651a696806d",
   "metadata": {
    "execution": {
     "iopub.execute_input": "2024-09-23T14:45:16.681426Z",
     "iopub.status.busy": "2024-09-23T14:45:16.681037Z",
     "iopub.status.idle": "2024-09-23T14:45:16.685102Z",
     "shell.execute_reply": "2024-09-23T14:45:16.684262Z",
     "shell.execute_reply.started": "2024-09-23T14:45:16.681410Z"
    }
   },
   "outputs": [],
   "source": [
    "# data[data['Buy_Signal'] > 0].tail()"
   ]
  },
  {
   "cell_type": "code",
   "execution_count": 129,
   "id": "d07ad53c-3ea0-4e91-8988-9446f46af3a2",
   "metadata": {
    "execution": {
     "iopub.execute_input": "2024-09-23T14:45:17.017023Z",
     "iopub.status.busy": "2024-09-23T14:45:17.016468Z",
     "iopub.status.idle": "2024-09-23T14:45:17.020931Z",
     "shell.execute_reply": "2024-09-23T14:45:17.020082Z",
     "shell.execute_reply.started": "2024-09-23T14:45:17.017007Z"
    }
   },
   "outputs": [],
   "source": [
    "# bnf1.tail()"
   ]
  },
  {
   "cell_type": "code",
   "execution_count": 130,
   "id": "6ea20b69-2ee0-4976-ade7-a069c159960c",
   "metadata": {
    "execution": {
     "iopub.execute_input": "2024-09-23T14:45:54.400681Z",
     "iopub.status.busy": "2024-09-23T14:45:54.400159Z",
     "iopub.status.idle": "2024-09-23T14:45:59.487302Z",
     "shell.execute_reply": "2024-09-23T14:45:59.486381Z",
     "shell.execute_reply.started": "2024-09-23T14:45:54.400662Z"
    },
    "scrolled": true
   },
   "outputs": [],
   "source": [
    "bnf2 = resample(pl.DataFrame(bnf1), \"15m\", \"0m\")\n",
    "data = linear_regression_vectorized(bnf2.to_pandas(), 45, 25)\n",
    "# print(data.tail(10).to_string())\n",
    "signals_df1 = generate_signals1(data, 3)\n",
    "signals_df1 = signals_df1.rename(columns={\"open\": \"o\", \"high\": \"h\", \"low\": \"l\", \"close\": \"c\"})\n",
    "new_tb = execute(signals_df1, 1)\n",
    "\n",
    "# new_tb = execute(signals_df1)\n",
    "new_tb[\"DD%\"] = new_tb[\"ROI%\"].cumsum() - new_tb[\"ROI%\"].cumsum().cummax()\n",
    "tradebook_buy_side = new_tb\n",
    "# new_tb.tail(25)"
   ]
  },
  {
   "cell_type": "code",
   "execution_count": 131,
   "id": "f9776310-c879-47ba-ab7c-78eb65d91ae8",
   "metadata": {
    "execution": {
     "iopub.execute_input": "2024-09-23T14:45:59.489425Z",
     "iopub.status.busy": "2024-09-23T14:45:59.489011Z",
     "iopub.status.idle": "2024-09-23T14:45:59.493019Z",
     "shell.execute_reply": "2024-09-23T14:45:59.491994Z",
     "shell.execute_reply.started": "2024-09-23T14:45:59.489405Z"
    },
    "scrolled": true
   },
   "outputs": [],
   "source": [
    "# tradebook_buy_side['DD%'] = (tradebook_buy_side['ROI%'].cumsum() - tradebook_buy_side['ROI%'].cumsum().cummax())\n",
    "# tradebook_buy_side[tradebook_buy_side['Trade Year'] >= 2024]"
   ]
  },
  {
   "cell_type": "code",
   "execution_count": 132,
   "id": "01f9e94a-febc-4c39-b940-610f5cc2360d",
   "metadata": {
    "execution": {
     "iopub.execute_input": "2024-09-23T14:45:59.494947Z",
     "iopub.status.busy": "2024-09-23T14:45:59.494287Z",
     "iopub.status.idle": "2024-09-23T14:45:59.576893Z",
     "shell.execute_reply": "2024-09-23T14:45:59.575666Z",
     "shell.execute_reply.started": "2024-09-23T14:45:59.494918Z"
    }
   },
   "outputs": [
    {
     "data": {
      "text/html": [
       "<div>\n",
       "<style scoped>\n",
       "    .dataframe tbody tr th:only-of-type {\n",
       "        vertical-align: middle;\n",
       "    }\n",
       "\n",
       "    .dataframe tbody tr th {\n",
       "        vertical-align: top;\n",
       "    }\n",
       "\n",
       "    .dataframe thead th {\n",
       "        text-align: right;\n",
       "    }\n",
       "</style>\n",
       "<table border=\"1\" class=\"dataframe\">\n",
       "  <thead>\n",
       "    <tr style=\"text-align: right;\">\n",
       "      <th></th>\n",
       "      <th>Total ROI</th>\n",
       "      <th>Total Trades</th>\n",
       "      <th>Win Rate</th>\n",
       "      <th>Avg Profit% per Trade</th>\n",
       "      <th>Avg Loss% per Trade</th>\n",
       "      <th>Max Drawdown</th>\n",
       "      <th>ROI/DD Ratio</th>\n",
       "      <th>Variation</th>\n",
       "    </tr>\n",
       "  </thead>\n",
       "  <tbody>\n",
       "    <tr>\n",
       "      <th>2017</th>\n",
       "      <td>0.0000</td>\n",
       "      <td>0</td>\n",
       "      <td>NaN</td>\n",
       "      <td>NaN</td>\n",
       "      <td>NaN</td>\n",
       "      <td>NaN</td>\n",
       "      <td>NaN</td>\n",
       "      <td>...</td>\n",
       "    </tr>\n",
       "    <tr>\n",
       "      <th>2018</th>\n",
       "      <td>0.0000</td>\n",
       "      <td>0</td>\n",
       "      <td>NaN</td>\n",
       "      <td>NaN</td>\n",
       "      <td>NaN</td>\n",
       "      <td>NaN</td>\n",
       "      <td>NaN</td>\n",
       "      <td>...</td>\n",
       "    </tr>\n",
       "    <tr>\n",
       "      <th>2019</th>\n",
       "      <td>0.0000</td>\n",
       "      <td>0</td>\n",
       "      <td>NaN</td>\n",
       "      <td>NaN</td>\n",
       "      <td>NaN</td>\n",
       "      <td>NaN</td>\n",
       "      <td>NaN</td>\n",
       "      <td>...</td>\n",
       "    </tr>\n",
       "    <tr>\n",
       "      <th>2020</th>\n",
       "      <td>0.0000</td>\n",
       "      <td>0</td>\n",
       "      <td>NaN</td>\n",
       "      <td>NaN</td>\n",
       "      <td>NaN</td>\n",
       "      <td>NaN</td>\n",
       "      <td>NaN</td>\n",
       "      <td>...</td>\n",
       "    </tr>\n",
       "    <tr>\n",
       "      <th>2021</th>\n",
       "      <td>0.0000</td>\n",
       "      <td>0</td>\n",
       "      <td>NaN</td>\n",
       "      <td>NaN</td>\n",
       "      <td>NaN</td>\n",
       "      <td>NaN</td>\n",
       "      <td>NaN</td>\n",
       "      <td>...</td>\n",
       "    </tr>\n",
       "    <tr>\n",
       "      <th>2022</th>\n",
       "      <td>159.2771</td>\n",
       "      <td>275</td>\n",
       "      <td>33.0909</td>\n",
       "      <td>4.8657</td>\n",
       "      <td>-1.5408</td>\n",
       "      <td>-20.8362</td>\n",
       "      <td>7.6443</td>\n",
       "      <td>...</td>\n",
       "    </tr>\n",
       "    <tr>\n",
       "      <th>2023</th>\n",
       "      <td>158.4755</td>\n",
       "      <td>331</td>\n",
       "      <td>38.9728</td>\n",
       "      <td>2.9174</td>\n",
       "      <td>-1.0785</td>\n",
       "      <td>-17.8991</td>\n",
       "      <td>8.8538</td>\n",
       "      <td>...</td>\n",
       "    </tr>\n",
       "    <tr>\n",
       "      <th>2024</th>\n",
       "      <td>77.1665</td>\n",
       "      <td>135</td>\n",
       "      <td>42.2222</td>\n",
       "      <td>3.5096</td>\n",
       "      <td>-1.5754</td>\n",
       "      <td>-17.4239</td>\n",
       "      <td>4.4288</td>\n",
       "      <td>...</td>\n",
       "    </tr>\n",
       "    <tr>\n",
       "      <th>Overall</th>\n",
       "      <td>394.9191</td>\n",
       "      <td>741</td>\n",
       "      <td>37.3819</td>\n",
       "      <td>3.6793</td>\n",
       "      <td>-1.3454</td>\n",
       "      <td>-20.8362</td>\n",
       "      <td>18.9535</td>\n",
       "      <td>...</td>\n",
       "    </tr>\n",
       "  </tbody>\n",
       "</table>\n",
       "</div>"
      ],
      "text/plain": [
       "        Total ROI Total Trades Win Rate Avg Profit% per Trade  \\\n",
       "2017       0.0000            0      NaN                   NaN   \n",
       "2018       0.0000            0      NaN                   NaN   \n",
       "2019       0.0000            0      NaN                   NaN   \n",
       "2020       0.0000            0      NaN                   NaN   \n",
       "2021       0.0000            0      NaN                   NaN   \n",
       "2022     159.2771          275  33.0909                4.8657   \n",
       "2023     158.4755          331  38.9728                2.9174   \n",
       "2024      77.1665          135  42.2222                3.5096   \n",
       "Overall  394.9191          741  37.3819                3.6793   \n",
       "\n",
       "        Avg Loss% per Trade Max Drawdown ROI/DD Ratio Variation  \n",
       "2017                    NaN          NaN          NaN       ...  \n",
       "2018                    NaN          NaN          NaN       ...  \n",
       "2019                    NaN          NaN          NaN       ...  \n",
       "2020                    NaN          NaN          NaN       ...  \n",
       "2021                    NaN          NaN          NaN       ...  \n",
       "2022                -1.5408     -20.8362       7.6443       ...  \n",
       "2023                -1.0785     -17.8991       8.8538       ...  \n",
       "2024                -1.5754     -17.4239       4.4288       ...  \n",
       "Overall             -1.3454     -20.8362      18.9535       ...  "
      ]
     },
     "execution_count": 132,
     "metadata": {},
     "output_type": "execute_result"
    }
   ],
   "source": [
    "stats2 = generate_stats(new_tb, \"...\")\n",
    "roi_overall, stats_overall = next(iter(stats2.items()))\n",
    "stats_overall"
   ]
  },
  {
   "cell_type": "code",
   "execution_count": 134,
   "id": "aaf86d3e-4e5b-4eda-9686-2419f86825ef",
   "metadata": {
    "execution": {
     "iopub.execute_input": "2024-09-23T14:46:12.395763Z",
     "iopub.status.busy": "2024-09-23T14:46:12.395171Z",
     "iopub.status.idle": "2024-09-23T14:46:12.415143Z",
     "shell.execute_reply": "2024-09-23T14:46:12.413849Z",
     "shell.execute_reply.started": "2024-09-23T14:46:12.395729Z"
    }
   },
   "outputs": [],
   "source": [
    "tradebook_buy_side.to_csv('MIDCP_LR.csv')"
   ]
  },
  {
   "cell_type": "code",
   "execution_count": null,
   "id": "ddabcf03-7bfe-4d61-a762-e8cb89190988",
   "metadata": {},
   "outputs": [],
   "source": []
  }
 ],
 "metadata": {
  "kernelspec": {
   "display_name": "Python 3 (ipykernel)",
   "language": "python",
   "name": "python3"
  },
  "language_info": {
   "codemirror_mode": {
    "name": "ipython",
    "version": 3
   },
   "file_extension": ".py",
   "mimetype": "text/x-python",
   "name": "python",
   "nbconvert_exporter": "python",
   "pygments_lexer": "ipython3",
   "version": "3.11.6"
  }
 },
 "nbformat": 4,
 "nbformat_minor": 5
}
